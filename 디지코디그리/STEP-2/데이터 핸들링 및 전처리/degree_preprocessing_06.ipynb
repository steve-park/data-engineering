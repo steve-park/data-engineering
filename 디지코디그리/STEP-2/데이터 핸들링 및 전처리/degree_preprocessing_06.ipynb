{
 "cells": [
  {
   "cell_type": "markdown",
   "id": "2d5365e6",
   "metadata": {},
   "source": [
    "## 데이터 핸들링 및 전처리 \n",
    "\n",
    "## 06. 이상치 처리하기"
   ]
  },
  {
   "cell_type": "markdown",
   "id": "d66aced4",
   "metadata": {},
   "source": [
    "<img src = \"https://images.unsplash.com/photo-1536303100418-985cb308bb38?ixlib=rb-4.0.3&ixid=MnwxMjA3fDB8MHxwaG90by1wYWdlfHx8fGVufDB8fHx8&auto=format&fit=crop&w=1770&q=80\" width=80% align=\"center\"/>\n",
    "\n",
    "<div align=\"right\">사진: <a href=\"https://unsplash.com/ko/%EC%82%AC%EC%A7%84/ku_ttDpqIVc?utm_source=unsplash&utm_medium=referral&utm_content=creditCopyText\">Unsplash</a>의<a href=\"https://unsplash.com/@will_myers?utm_source=unsplash&utm_medium=referral&utm_content=creditCopyText\">Will Myers</a>\n",
    "  \n",
    "  </div>\n",
    "  \n",
    "  "
   ]
  },
  {
   "cell_type": "markdown",
   "id": "e9a4da3b",
   "metadata": {},
   "source": [
    "## 0. 데이터 불러오기\n",
    "- ### 데이터 설명\n",
    "    1. preprocessing_06.csv : 이전 실습에서 데이터 타입을 변경하고 중복데이터를 제거한 데이터 \n",
    "> - MovieId : (int) 영화 아이디 <br>\n",
    "> - ImdbId : (int) IMDb 데이터베이스 관리 아이디<br>\n",
    "> - TmdbId : (int) TMDB 데이터베이스 관리 아이디<br>\n",
    "> - Title : (object) 영화 제목 <br> \n",
    "> - Year : (int) 제작년도 <br> \n",
    "> - Genres : (object) 영화의 장르, '|'을 구분자로 한 복수 장르\n",
    "> - UserId : (int) 유저 아이디 <br>\n",
    "> - Rating : (float) 영화 평점 <br>\n",
    "> - Gender : (object) 성별, M/F <br>\n",
    "> - Age : (int) 나이<br>\n",
    "> - Occupation : (object) 직업,<br>\n"
   ]
  },
  {
   "cell_type": "code",
   "execution_count": 1,
   "id": "14ce763e",
   "metadata": {},
   "outputs": [],
   "source": [
    "# 라이브러리 불러오기\n",
    "import pandas as pd\n",
    "\n",
    "import warnings\n",
    "warnings.filterwarnings(action='ignore')"
   ]
  },
  {
   "cell_type": "code",
   "execution_count": 2,
   "id": "d15d5c5b",
   "metadata": {},
   "outputs": [],
   "source": [
    "# 데이터 불러오기\n",
    "df = pd.read_csv(\"./data/preprocessing_06.csv\")"
   ]
  },
  {
   "cell_type": "code",
   "execution_count": 3,
   "id": "d04130cd",
   "metadata": {},
   "outputs": [
    {
     "data": {
      "text/html": [
       "<div>\n",
       "<style scoped>\n",
       "    .dataframe tbody tr th:only-of-type {\n",
       "        vertical-align: middle;\n",
       "    }\n",
       "\n",
       "    .dataframe tbody tr th {\n",
       "        vertical-align: top;\n",
       "    }\n",
       "\n",
       "    .dataframe thead th {\n",
       "        text-align: right;\n",
       "    }\n",
       "</style>\n",
       "<table border=\"1\" class=\"dataframe\">\n",
       "  <thead>\n",
       "    <tr style=\"text-align: right;\">\n",
       "      <th></th>\n",
       "      <th>MovieId</th>\n",
       "      <th>ImdbId</th>\n",
       "      <th>TmdbId</th>\n",
       "      <th>Title</th>\n",
       "      <th>Year</th>\n",
       "      <th>Genres</th>\n",
       "      <th>UserId</th>\n",
       "      <th>Rating</th>\n",
       "      <th>Gender</th>\n",
       "      <th>Age</th>\n",
       "      <th>Occupation</th>\n",
       "    </tr>\n",
       "  </thead>\n",
       "  <tbody>\n",
       "    <tr>\n",
       "      <th>0</th>\n",
       "      <td>1</td>\n",
       "      <td>114709</td>\n",
       "      <td>862</td>\n",
       "      <td>Toy Story</td>\n",
       "      <td>1995</td>\n",
       "      <td>Adventure|Animation|Children|Comedy|Fantasy</td>\n",
       "      <td>1</td>\n",
       "      <td>4.0</td>\n",
       "      <td>F</td>\n",
       "      <td>2</td>\n",
       "      <td>K-12 student</td>\n",
       "    </tr>\n",
       "    <tr>\n",
       "      <th>1</th>\n",
       "      <td>1</td>\n",
       "      <td>114709</td>\n",
       "      <td>862</td>\n",
       "      <td>Toy Story</td>\n",
       "      <td>1995</td>\n",
       "      <td>Adventure|Animation|Children|Comedy|Fantasy</td>\n",
       "      <td>5</td>\n",
       "      <td>4.0</td>\n",
       "      <td>M</td>\n",
       "      <td>30</td>\n",
       "      <td>writer</td>\n",
       "    </tr>\n",
       "    <tr>\n",
       "      <th>2</th>\n",
       "      <td>1</td>\n",
       "      <td>114709</td>\n",
       "      <td>862</td>\n",
       "      <td>Toy Story</td>\n",
       "      <td>1995</td>\n",
       "      <td>Adventure|Animation|Children|Comedy|Fantasy</td>\n",
       "      <td>7</td>\n",
       "      <td>4.5</td>\n",
       "      <td>M</td>\n",
       "      <td>39</td>\n",
       "      <td>academic/educator</td>\n",
       "    </tr>\n",
       "    <tr>\n",
       "      <th>3</th>\n",
       "      <td>1</td>\n",
       "      <td>114709</td>\n",
       "      <td>862</td>\n",
       "      <td>Toy Story</td>\n",
       "      <td>1995</td>\n",
       "      <td>Adventure|Animation|Children|Comedy|Fantasy</td>\n",
       "      <td>15</td>\n",
       "      <td>2.5</td>\n",
       "      <td>M</td>\n",
       "      <td>29</td>\n",
       "      <td>executive/managerial</td>\n",
       "    </tr>\n",
       "    <tr>\n",
       "      <th>4</th>\n",
       "      <td>1</td>\n",
       "      <td>114709</td>\n",
       "      <td>862</td>\n",
       "      <td>Toy Story</td>\n",
       "      <td>1995</td>\n",
       "      <td>Adventure|Animation|Children|Comedy|Fantasy</td>\n",
       "      <td>17</td>\n",
       "      <td>4.5</td>\n",
       "      <td>M</td>\n",
       "      <td>52</td>\n",
       "      <td>academic/educator</td>\n",
       "    </tr>\n",
       "  </tbody>\n",
       "</table>\n",
       "</div>"
      ],
      "text/plain": [
       "   MovieId  ImdbId  TmdbId      Title  Year  \\\n",
       "0        1  114709     862  Toy Story  1995   \n",
       "1        1  114709     862  Toy Story  1995   \n",
       "2        1  114709     862  Toy Story  1995   \n",
       "3        1  114709     862  Toy Story  1995   \n",
       "4        1  114709     862  Toy Story  1995   \n",
       "\n",
       "                                        Genres  UserId  Rating Gender  Age  \\\n",
       "0  Adventure|Animation|Children|Comedy|Fantasy       1     4.0      F    2   \n",
       "1  Adventure|Animation|Children|Comedy|Fantasy       5     4.0      M   30   \n",
       "2  Adventure|Animation|Children|Comedy|Fantasy       7     4.5      M   39   \n",
       "3  Adventure|Animation|Children|Comedy|Fantasy      15     2.5      M   29   \n",
       "4  Adventure|Animation|Children|Comedy|Fantasy      17     4.5      M   52   \n",
       "\n",
       "             Occupation  \n",
       "0          K-12 student  \n",
       "1                writer  \n",
       "2     academic/educator  \n",
       "3  executive/managerial  \n",
       "4     academic/educator  "
      ]
     },
     "execution_count": 3,
     "metadata": {},
     "output_type": "execute_result"
    }
   ],
   "source": [
    "# 데이터 샘플 확인하기\n",
    "df.head()"
   ]
  },
  {
   "cell_type": "code",
   "execution_count": 4,
   "id": "d474599a",
   "metadata": {
    "scrolled": true
   },
   "outputs": [
    {
     "data": {
      "text/html": [
       "<div>\n",
       "<style scoped>\n",
       "    .dataframe tbody tr th:only-of-type {\n",
       "        vertical-align: middle;\n",
       "    }\n",
       "\n",
       "    .dataframe tbody tr th {\n",
       "        vertical-align: top;\n",
       "    }\n",
       "\n",
       "    .dataframe thead th {\n",
       "        text-align: right;\n",
       "    }\n",
       "</style>\n",
       "<table border=\"1\" class=\"dataframe\">\n",
       "  <thead>\n",
       "    <tr style=\"text-align: right;\">\n",
       "      <th></th>\n",
       "      <th>MovieId</th>\n",
       "      <th>ImdbId</th>\n",
       "      <th>TmdbId</th>\n",
       "      <th>Title</th>\n",
       "      <th>Year</th>\n",
       "      <th>Genres</th>\n",
       "      <th>UserId</th>\n",
       "      <th>Rating</th>\n",
       "      <th>Gender</th>\n",
       "      <th>Age</th>\n",
       "      <th>Occupation</th>\n",
       "    </tr>\n",
       "  </thead>\n",
       "  <tbody>\n",
       "    <tr>\n",
       "      <th>100833</th>\n",
       "      <td>193581</td>\n",
       "      <td>5476944</td>\n",
       "      <td>432131</td>\n",
       "      <td>Black Butler: Book of the Atlantic</td>\n",
       "      <td>2017</td>\n",
       "      <td>Action|Animation|Comedy|Fantasy</td>\n",
       "      <td>184</td>\n",
       "      <td>4.0</td>\n",
       "      <td>F</td>\n",
       "      <td>33</td>\n",
       "      <td>other</td>\n",
       "    </tr>\n",
       "    <tr>\n",
       "      <th>100834</th>\n",
       "      <td>193583</td>\n",
       "      <td>5914996</td>\n",
       "      <td>445030</td>\n",
       "      <td>No Game No Life: Zero</td>\n",
       "      <td>2017</td>\n",
       "      <td>Animation|Comedy|Fantasy</td>\n",
       "      <td>184</td>\n",
       "      <td>3.5</td>\n",
       "      <td>F</td>\n",
       "      <td>33</td>\n",
       "      <td>other</td>\n",
       "    </tr>\n",
       "    <tr>\n",
       "      <th>100835</th>\n",
       "      <td>193585</td>\n",
       "      <td>6397426</td>\n",
       "      <td>479308</td>\n",
       "      <td>Flint</td>\n",
       "      <td>2017</td>\n",
       "      <td>Drama</td>\n",
       "      <td>184</td>\n",
       "      <td>3.5</td>\n",
       "      <td>F</td>\n",
       "      <td>33</td>\n",
       "      <td>other</td>\n",
       "    </tr>\n",
       "    <tr>\n",
       "      <th>100836</th>\n",
       "      <td>193587</td>\n",
       "      <td>8391976</td>\n",
       "      <td>483455</td>\n",
       "      <td>Bungo Stray Dogs: Dead Apple</td>\n",
       "      <td>2018</td>\n",
       "      <td>Action|Animation</td>\n",
       "      <td>184</td>\n",
       "      <td>3.5</td>\n",
       "      <td>F</td>\n",
       "      <td>33</td>\n",
       "      <td>other</td>\n",
       "    </tr>\n",
       "    <tr>\n",
       "      <th>100837</th>\n",
       "      <td>193609</td>\n",
       "      <td>101726</td>\n",
       "      <td>37891</td>\n",
       "      <td>Andrew Dice Clay: Dice Rules</td>\n",
       "      <td>1991</td>\n",
       "      <td>Comedy</td>\n",
       "      <td>331</td>\n",
       "      <td>4.0</td>\n",
       "      <td>M</td>\n",
       "      <td>32</td>\n",
       "      <td>executive/managerial</td>\n",
       "    </tr>\n",
       "  </tbody>\n",
       "</table>\n",
       "</div>"
      ],
      "text/plain": [
       "        MovieId   ImdbId  TmdbId                               Title  Year  \\\n",
       "100833   193581  5476944  432131  Black Butler: Book of the Atlantic  2017   \n",
       "100834   193583  5914996  445030               No Game No Life: Zero  2017   \n",
       "100835   193585  6397426  479308                               Flint  2017   \n",
       "100836   193587  8391976  483455        Bungo Stray Dogs: Dead Apple  2018   \n",
       "100837   193609   101726   37891        Andrew Dice Clay: Dice Rules  1991   \n",
       "\n",
       "                                 Genres  UserId  Rating Gender  Age  \\\n",
       "100833  Action|Animation|Comedy|Fantasy     184     4.0      F   33   \n",
       "100834         Animation|Comedy|Fantasy     184     3.5      F   33   \n",
       "100835                            Drama     184     3.5      F   33   \n",
       "100836                 Action|Animation     184     3.5      F   33   \n",
       "100837                           Comedy     331     4.0      M   32   \n",
       "\n",
       "                  Occupation  \n",
       "100833                 other  \n",
       "100834                 other  \n",
       "100835                 other  \n",
       "100836                 other  \n",
       "100837  executive/managerial  "
      ]
     },
     "execution_count": 4,
     "metadata": {},
     "output_type": "execute_result"
    }
   ],
   "source": [
    "# 데이터 샘플 확인하기\n",
    "df.tail()"
   ]
  },
  {
   "cell_type": "code",
   "execution_count": 5,
   "id": "443af426",
   "metadata": {},
   "outputs": [],
   "source": [
    "df_copy = df.copy()"
   ]
  },
  {
   "cell_type": "markdown",
   "id": "cc206880",
   "metadata": {},
   "source": [
    "---"
   ]
  },
  {
   "cell_type": "markdown",
   "id": "79f8ee57",
   "metadata": {},
   "source": [
    "### 1. 이상치 탐지하기\n",
    "#### 1-1. .describe() 메소드를 사용하여 통계적 특성 확인하기\n",
    "데이터프레임은 .describe() 메소드를 사용하면 통계적 특성을 확인할 수 있습니다."
   ]
  },
  {
   "cell_type": "code",
   "execution_count": 6,
   "id": "d874880b",
   "metadata": {},
   "outputs": [
    {
     "data": {
      "text/html": [
       "<div>\n",
       "<style scoped>\n",
       "    .dataframe tbody tr th:only-of-type {\n",
       "        vertical-align: middle;\n",
       "    }\n",
       "\n",
       "    .dataframe tbody tr th {\n",
       "        vertical-align: top;\n",
       "    }\n",
       "\n",
       "    .dataframe thead th {\n",
       "        text-align: right;\n",
       "    }\n",
       "</style>\n",
       "<table border=\"1\" class=\"dataframe\">\n",
       "  <thead>\n",
       "    <tr style=\"text-align: right;\">\n",
       "      <th></th>\n",
       "      <th>MovieId</th>\n",
       "      <th>ImdbId</th>\n",
       "      <th>TmdbId</th>\n",
       "      <th>Year</th>\n",
       "      <th>UserId</th>\n",
       "      <th>Rating</th>\n",
       "      <th>Age</th>\n",
       "    </tr>\n",
       "  </thead>\n",
       "  <tbody>\n",
       "    <tr>\n",
       "      <th>count</th>\n",
       "      <td>100838.000000</td>\n",
       "      <td>1.008380e+05</td>\n",
       "      <td>100838.000000</td>\n",
       "      <td>100838.000000</td>\n",
       "      <td>100838.000000</td>\n",
       "      <td>100838.000000</td>\n",
       "      <td>100838.000000</td>\n",
       "    </tr>\n",
       "    <tr>\n",
       "      <th>mean</th>\n",
       "      <td>19433.425951</td>\n",
       "      <td>3.515405e+05</td>\n",
       "      <td>20106.294859</td>\n",
       "      <td>1994.144618</td>\n",
       "      <td>326.184950</td>\n",
       "      <td>3.501631</td>\n",
       "      <td>33.399611</td>\n",
       "    </tr>\n",
       "    <tr>\n",
       "      <th>std</th>\n",
       "      <td>35528.198872</td>\n",
       "      <td>6.220657e+05</td>\n",
       "      <td>53270.528876</td>\n",
       "      <td>28.249391</td>\n",
       "      <td>182.639667</td>\n",
       "      <td>1.042351</td>\n",
       "      <td>15.584439</td>\n",
       "    </tr>\n",
       "    <tr>\n",
       "      <th>min</th>\n",
       "      <td>1.000000</td>\n",
       "      <td>4.170000e+02</td>\n",
       "      <td>2.000000</td>\n",
       "      <td>0.000000</td>\n",
       "      <td>1.000000</td>\n",
       "      <td>0.500000</td>\n",
       "      <td>1.000000</td>\n",
       "    </tr>\n",
       "    <tr>\n",
       "      <th>25%</th>\n",
       "      <td>1199.000000</td>\n",
       "      <td>9.968500e+04</td>\n",
       "      <td>712.000000</td>\n",
       "      <td>1990.000000</td>\n",
       "      <td>177.000000</td>\n",
       "      <td>3.000000</td>\n",
       "      <td>23.000000</td>\n",
       "    </tr>\n",
       "    <tr>\n",
       "      <th>50%</th>\n",
       "      <td>2991.000000</td>\n",
       "      <td>1.187635e+05</td>\n",
       "      <td>6961.000000</td>\n",
       "      <td>1997.000000</td>\n",
       "      <td>325.000000</td>\n",
       "      <td>3.500000</td>\n",
       "      <td>32.000000</td>\n",
       "    </tr>\n",
       "    <tr>\n",
       "      <th>75%</th>\n",
       "      <td>8121.000000</td>\n",
       "      <td>3.149790e+05</td>\n",
       "      <td>11635.750000</td>\n",
       "      <td>2003.000000</td>\n",
       "      <td>477.000000</td>\n",
       "      <td>4.000000</td>\n",
       "      <td>42.000000</td>\n",
       "    </tr>\n",
       "    <tr>\n",
       "      <th>max</th>\n",
       "      <td>193609.000000</td>\n",
       "      <td>8.391976e+06</td>\n",
       "      <td>525662.000000</td>\n",
       "      <td>2018.000000</td>\n",
       "      <td>611.000000</td>\n",
       "      <td>5.000000</td>\n",
       "      <td>110.000000</td>\n",
       "    </tr>\n",
       "  </tbody>\n",
       "</table>\n",
       "</div>"
      ],
      "text/plain": [
       "             MovieId        ImdbId         TmdbId           Year  \\\n",
       "count  100838.000000  1.008380e+05  100838.000000  100838.000000   \n",
       "mean    19433.425951  3.515405e+05   20106.294859    1994.144618   \n",
       "std     35528.198872  6.220657e+05   53270.528876      28.249391   \n",
       "min         1.000000  4.170000e+02       2.000000       0.000000   \n",
       "25%      1199.000000  9.968500e+04     712.000000    1990.000000   \n",
       "50%      2991.000000  1.187635e+05    6961.000000    1997.000000   \n",
       "75%      8121.000000  3.149790e+05   11635.750000    2003.000000   \n",
       "max    193609.000000  8.391976e+06  525662.000000    2018.000000   \n",
       "\n",
       "              UserId         Rating            Age  \n",
       "count  100838.000000  100838.000000  100838.000000  \n",
       "mean      326.184950       3.501631      33.399611  \n",
       "std       182.639667       1.042351      15.584439  \n",
       "min         1.000000       0.500000       1.000000  \n",
       "25%       177.000000       3.000000      23.000000  \n",
       "50%       325.000000       3.500000      32.000000  \n",
       "75%       477.000000       4.000000      42.000000  \n",
       "max       611.000000       5.000000     110.000000  "
      ]
     },
     "execution_count": 6,
     "metadata": {},
     "output_type": "execute_result"
    }
   ],
   "source": [
    "df.describe()"
   ]
  },
  {
   "cell_type": "markdown",
   "id": "6b3a6fa8",
   "metadata": {},
   "source": [
    "#### 1-2 시각화를 통해 이상치 탐지하기\n",
    "Box Plot을 그리면 데이터의 분포를 한 눈에 볼 수 있게 시각화하여 이상치(Outlier)를 탐지할 수 있습니다. \n",
    "- matplot 라이브러리를 활용하여 Box Plot 차트를 그립니다. "
   ]
  },
  {
   "cell_type": "code",
   "execution_count": 9,
   "id": "d2b41ced",
   "metadata": {},
   "outputs": [],
   "source": [
    "# 라이브러리 불러오기 \n",
    "import matplotlib.pyplot as plt\n",
    "import seaborn as sns"
   ]
  },
  {
   "cell_type": "code",
   "execution_count": 8,
   "id": "1a87361b-b288-49bd-a380-3925d4eaab22",
   "metadata": {},
   "outputs": [
    {
     "data": {
      "image/png": "[encoded data removed]",
      "text/plain": [
       "<Figure size 640x480 with 1 Axes>"
      ]
     },
     "metadata": {},
     "output_type": "display_data"
    }
   ],
   "source": [
    "# 차트 영역 설정하기\n",
    "plt.figure()\n",
    "plt.boxplot(df['Age'], labels=['Age'])\n",
    "plt.show()"
   ]
  },
  {
   "cell_type": "code",
   "execution_count": 10,
   "id": "7b6a2a58-e708-4ee8-b77a-d7d7c1ae21e4",
   "metadata": {},
   "outputs": [
    {
     "data": {
      "image/png": "[encoded data removed]",
      "text/plain": [
       "<Figure size 640x480 with 1 Axes>"
      ]
     },
     "metadata": {},
     "output_type": "display_data"
    }
   ],
   "source": [
    "sns.boxplot(data=df, y='Age')\n",
    "plt.show()"
   ]
  },
  {
   "cell_type": "markdown",
   "id": "c9870bde",
   "metadata": {},
   "source": [
    "---"
   ]
  },
  {
   "cell_type": "markdown",
   "id": "d3a75e2f",
   "metadata": {},
   "source": [
    "### 2. 이상치 확인하기\n",
    "IQR의 1.5배 이상 크거나 작은 데이터를 이상치로 판별합니다."
   ]
  },
  {
   "cell_type": "markdown",
   "id": "7ab82bc9",
   "metadata": {},
   "source": [
    "#### 2-1. 데이터의 IQR 계산하기\n",
    "\n",
    "먼저 데이터의 중앙값(median)을 계산하고, 이를 기준으로 데이터를 하위 25%와 상위 25%로 분할합니다. 이를 통해 데이터의 IQR을 계산합니다."
   ]
  },
  {
   "cell_type": "markdown",
   "id": "8187e9a6",
   "metadata": {},
   "source": [
    "- 'Age' 컬럼의 IQR을 계산합니다."
   ]
  },
  {
   "cell_type": "code",
   "execution_count": 11,
   "id": "b5ad7be4",
   "metadata": {},
   "outputs": [
    {
     "data": {
      "text/plain": [
       "count    100838.000000\n",
       "mean         33.399611\n",
       "std          15.584439\n",
       "min           1.000000\n",
       "25%          23.000000\n",
       "50%          32.000000\n",
       "75%          42.000000\n",
       "max         110.000000\n",
       "Name: Age, dtype: float64"
      ]
     },
     "execution_count": 11,
     "metadata": {},
     "output_type": "execute_result"
    }
   ],
   "source": [
    "df['Age'].describe()"
   ]
  },
  {
   "cell_type": "code",
   "execution_count": 12,
   "id": "108a587f",
   "metadata": {},
   "outputs": [],
   "source": [
    "# 중앙값 계산\n",
    "Q2 = df['Age'].median()\n",
    "\n",
    "# 하위 25%, 상위 25% 범위 계산\n",
    "Q1 = df['Age'].quantile(0.25)\n",
    "Q3 = df['Age'].quantile(0.75)\n",
    "IQR = Q3 - Q1"
   ]
  },
  {
   "cell_type": "code",
   "execution_count": 13,
   "id": "54af845e",
   "metadata": {},
   "outputs": [
    {
     "data": {
      "text/plain": [
       "19.0"
      ]
     },
     "execution_count": 13,
     "metadata": {},
     "output_type": "execute_result"
    }
   ],
   "source": [
    "IQR"
   ]
  },
  {
   "cell_type": "markdown",
   "id": "7d8bed7f",
   "metadata": {
    "tags": []
   },
   "source": [
    "#### 2-2. 이상치 판별하기\n",
    "IQR의 1.5배 이상 크거나 작은 데이터를 이상치로 판별합니다.\n",
    "- 'Age' 값이 IQR 범위 내에 있는지 확인"
   ]
  },
  {
   "cell_type": "code",
   "execution_count": 14,
   "id": "4327b11a",
   "metadata": {
    "scrolled": true
   },
   "outputs": [],
   "source": [
    "# 이상치 판별\n",
    "df['IsOutlier_Age'] = (df['Age'] < Q1 - 1.5 * IQR) | (df['Age'] > Q3 + 1.5 * IQR)"
   ]
  },
  {
   "cell_type": "code",
   "execution_count": 15,
   "id": "aacf78d0",
   "metadata": {},
   "outputs": [
    {
     "data": {
      "text/html": [
       "<div>\n",
       "<style scoped>\n",
       "    .dataframe tbody tr th:only-of-type {\n",
       "        vertical-align: middle;\n",
       "    }\n",
       "\n",
       "    .dataframe tbody tr th {\n",
       "        vertical-align: top;\n",
       "    }\n",
       "\n",
       "    .dataframe thead th {\n",
       "        text-align: right;\n",
       "    }\n",
       "</style>\n",
       "<table border=\"1\" class=\"dataframe\">\n",
       "  <thead>\n",
       "    <tr style=\"text-align: right;\">\n",
       "      <th></th>\n",
       "      <th>MovieId</th>\n",
       "      <th>ImdbId</th>\n",
       "      <th>TmdbId</th>\n",
       "      <th>Title</th>\n",
       "      <th>Year</th>\n",
       "      <th>Genres</th>\n",
       "      <th>UserId</th>\n",
       "      <th>Rating</th>\n",
       "      <th>Gender</th>\n",
       "      <th>Age</th>\n",
       "      <th>Occupation</th>\n",
       "      <th>IsOutlier_Age</th>\n",
       "    </tr>\n",
       "  </thead>\n",
       "  <tbody>\n",
       "    <tr>\n",
       "      <th>0</th>\n",
       "      <td>1</td>\n",
       "      <td>114709</td>\n",
       "      <td>862</td>\n",
       "      <td>Toy Story</td>\n",
       "      <td>1995</td>\n",
       "      <td>Adventure|Animation|Children|Comedy|Fantasy</td>\n",
       "      <td>1</td>\n",
       "      <td>4.0</td>\n",
       "      <td>F</td>\n",
       "      <td>2</td>\n",
       "      <td>K-12 student</td>\n",
       "      <td>False</td>\n",
       "    </tr>\n",
       "    <tr>\n",
       "      <th>1</th>\n",
       "      <td>1</td>\n",
       "      <td>114709</td>\n",
       "      <td>862</td>\n",
       "      <td>Toy Story</td>\n",
       "      <td>1995</td>\n",
       "      <td>Adventure|Animation|Children|Comedy|Fantasy</td>\n",
       "      <td>5</td>\n",
       "      <td>4.0</td>\n",
       "      <td>M</td>\n",
       "      <td>30</td>\n",
       "      <td>writer</td>\n",
       "      <td>False</td>\n",
       "    </tr>\n",
       "    <tr>\n",
       "      <th>2</th>\n",
       "      <td>1</td>\n",
       "      <td>114709</td>\n",
       "      <td>862</td>\n",
       "      <td>Toy Story</td>\n",
       "      <td>1995</td>\n",
       "      <td>Adventure|Animation|Children|Comedy|Fantasy</td>\n",
       "      <td>7</td>\n",
       "      <td>4.5</td>\n",
       "      <td>M</td>\n",
       "      <td>39</td>\n",
       "      <td>academic/educator</td>\n",
       "      <td>False</td>\n",
       "    </tr>\n",
       "    <tr>\n",
       "      <th>3</th>\n",
       "      <td>1</td>\n",
       "      <td>114709</td>\n",
       "      <td>862</td>\n",
       "      <td>Toy Story</td>\n",
       "      <td>1995</td>\n",
       "      <td>Adventure|Animation|Children|Comedy|Fantasy</td>\n",
       "      <td>15</td>\n",
       "      <td>2.5</td>\n",
       "      <td>M</td>\n",
       "      <td>29</td>\n",
       "      <td>executive/managerial</td>\n",
       "      <td>False</td>\n",
       "    </tr>\n",
       "    <tr>\n",
       "      <th>4</th>\n",
       "      <td>1</td>\n",
       "      <td>114709</td>\n",
       "      <td>862</td>\n",
       "      <td>Toy Story</td>\n",
       "      <td>1995</td>\n",
       "      <td>Adventure|Animation|Children|Comedy|Fantasy</td>\n",
       "      <td>17</td>\n",
       "      <td>4.5</td>\n",
       "      <td>M</td>\n",
       "      <td>52</td>\n",
       "      <td>academic/educator</td>\n",
       "      <td>False</td>\n",
       "    </tr>\n",
       "    <tr>\n",
       "      <th>5</th>\n",
       "      <td>1</td>\n",
       "      <td>114709</td>\n",
       "      <td>862</td>\n",
       "      <td>Toy Story</td>\n",
       "      <td>1995</td>\n",
       "      <td>Adventure|Animation|Children|Comedy|Fantasy</td>\n",
       "      <td>18</td>\n",
       "      <td>3.5</td>\n",
       "      <td>F</td>\n",
       "      <td>23</td>\n",
       "      <td>clerical/admin</td>\n",
       "      <td>False</td>\n",
       "    </tr>\n",
       "    <tr>\n",
       "      <th>6</th>\n",
       "      <td>1</td>\n",
       "      <td>114709</td>\n",
       "      <td>862</td>\n",
       "      <td>Toy Story</td>\n",
       "      <td>1995</td>\n",
       "      <td>Adventure|Animation|Children|Comedy|Fantasy</td>\n",
       "      <td>19</td>\n",
       "      <td>4.0</td>\n",
       "      <td>M</td>\n",
       "      <td>3</td>\n",
       "      <td>K-12 student</td>\n",
       "      <td>False</td>\n",
       "    </tr>\n",
       "    <tr>\n",
       "      <th>7</th>\n",
       "      <td>1</td>\n",
       "      <td>114709</td>\n",
       "      <td>862</td>\n",
       "      <td>Toy Story</td>\n",
       "      <td>1995</td>\n",
       "      <td>Adventure|Animation|Children|Comedy|Fantasy</td>\n",
       "      <td>21</td>\n",
       "      <td>3.5</td>\n",
       "      <td>M</td>\n",
       "      <td>18</td>\n",
       "      <td>self-employed</td>\n",
       "      <td>False</td>\n",
       "    </tr>\n",
       "    <tr>\n",
       "      <th>8</th>\n",
       "      <td>1</td>\n",
       "      <td>114709</td>\n",
       "      <td>862</td>\n",
       "      <td>Toy Story</td>\n",
       "      <td>1995</td>\n",
       "      <td>Adventure|Animation|Children|Comedy|Fantasy</td>\n",
       "      <td>27</td>\n",
       "      <td>3.0</td>\n",
       "      <td>M</td>\n",
       "      <td>31</td>\n",
       "      <td>lawyer</td>\n",
       "      <td>False</td>\n",
       "    </tr>\n",
       "    <tr>\n",
       "      <th>9</th>\n",
       "      <td>1</td>\n",
       "      <td>114709</td>\n",
       "      <td>862</td>\n",
       "      <td>Toy Story</td>\n",
       "      <td>1995</td>\n",
       "      <td>Adventure|Animation|Children|Comedy|Fantasy</td>\n",
       "      <td>31</td>\n",
       "      <td>5.0</td>\n",
       "      <td>M</td>\n",
       "      <td>73</td>\n",
       "      <td>executive/managerial</td>\n",
       "      <td>True</td>\n",
       "    </tr>\n",
       "  </tbody>\n",
       "</table>\n",
       "</div>"
      ],
      "text/plain": [
       "   MovieId  ImdbId  TmdbId      Title  Year  \\\n",
       "0        1  114709     862  Toy Story  1995   \n",
       "1        1  114709     862  Toy Story  1995   \n",
       "2        1  114709     862  Toy Story  1995   \n",
       "3        1  114709     862  Toy Story  1995   \n",
       "4        1  114709     862  Toy Story  1995   \n",
       "5        1  114709     862  Toy Story  1995   \n",
       "6        1  114709     862  Toy Story  1995   \n",
       "7        1  114709     862  Toy Story  1995   \n",
       "8        1  114709     862  Toy Story  1995   \n",
       "9        1  114709     862  Toy Story  1995   \n",
       "\n",
       "                                        Genres  UserId  Rating Gender  Age  \\\n",
       "0  Adventure|Animation|Children|Comedy|Fantasy       1     4.0      F    2   \n",
       "1  Adventure|Animation|Children|Comedy|Fantasy       5     4.0      M   30   \n",
       "2  Adventure|Animation|Children|Comedy|Fantasy       7     4.5      M   39   \n",
       "3  Adventure|Animation|Children|Comedy|Fantasy      15     2.5      M   29   \n",
       "4  Adventure|Animation|Children|Comedy|Fantasy      17     4.5      M   52   \n",
       "5  Adventure|Animation|Children|Comedy|Fantasy      18     3.5      F   23   \n",
       "6  Adventure|Animation|Children|Comedy|Fantasy      19     4.0      M    3   \n",
       "7  Adventure|Animation|Children|Comedy|Fantasy      21     3.5      M   18   \n",
       "8  Adventure|Animation|Children|Comedy|Fantasy      27     3.0      M   31   \n",
       "9  Adventure|Animation|Children|Comedy|Fantasy      31     5.0      M   73   \n",
       "\n",
       "             Occupation  IsOutlier_Age  \n",
       "0          K-12 student          False  \n",
       "1                writer          False  \n",
       "2     academic/educator          False  \n",
       "3  executive/managerial          False  \n",
       "4     academic/educator          False  \n",
       "5        clerical/admin          False  \n",
       "6          K-12 student          False  \n",
       "7         self-employed          False  \n",
       "8                lawyer          False  \n",
       "9  executive/managerial           True  "
      ]
     },
     "execution_count": 15,
     "metadata": {},
     "output_type": "execute_result"
    }
   ],
   "source": [
    "df.head(10)"
   ]
  },
  {
   "cell_type": "markdown",
   "id": "3f054a4b-0bdc-424b-9563-509c287c69e2",
   "metadata": {},
   "source": [
    "---"
   ]
  },
  {
   "cell_type": "markdown",
   "id": "933deb24",
   "metadata": {},
   "source": [
    "---"
   ]
  },
  {
   "cell_type": "markdown",
   "id": "bb0589db",
   "metadata": {},
   "source": [
    "### 3. 이상치 처리하기\n",
    "이상치를 삭제하거나 대체값으로 교체하는 등의 처리 방법 중 하나를 선택하여 이상치를 처리합니다.\n"
   ]
  },
  {
   "cell_type": "markdown",
   "id": "48ea739c",
   "metadata": {
    "tags": []
   },
   "source": [
    "#### 3-1. 이상치 삭제하기"
   ]
  },
  {
   "cell_type": "code",
   "execution_count": 16,
   "id": "1117236b",
   "metadata": {
    "scrolled": true
   },
   "outputs": [],
   "source": [
    "# 이상치 삭제\n",
    "df = df[df['IsOutlier_Age'] == False]"
   ]
  },
  {
   "cell_type": "code",
   "execution_count": 17,
   "id": "b2fa1767",
   "metadata": {},
   "outputs": [],
   "source": [
    "age_compare = pd.DataFrame(columns=['Origin', 'Delete', 'Inplace']) \n",
    "age_compare['Origin'] = df_copy['Age']\n",
    "age_compare['Delete'] = df['Age']"
   ]
  },
  {
   "cell_type": "code",
   "execution_count": 18,
   "id": "61416eca",
   "metadata": {
    "scrolled": true
   },
   "outputs": [
    {
     "data": {
      "text/html": [
       "<div>\n",
       "<style scoped>\n",
       "    .dataframe tbody tr th:only-of-type {\n",
       "        vertical-align: middle;\n",
       "    }\n",
       "\n",
       "    .dataframe tbody tr th {\n",
       "        vertical-align: top;\n",
       "    }\n",
       "\n",
       "    .dataframe thead th {\n",
       "        text-align: right;\n",
       "    }\n",
       "</style>\n",
       "<table border=\"1\" class=\"dataframe\">\n",
       "  <thead>\n",
       "    <tr style=\"text-align: right;\">\n",
       "      <th></th>\n",
       "      <th>Origin</th>\n",
       "      <th>Delete</th>\n",
       "    </tr>\n",
       "  </thead>\n",
       "  <tbody>\n",
       "    <tr>\n",
       "      <th>count</th>\n",
       "      <td>100838.000000</td>\n",
       "      <td>98752.000000</td>\n",
       "    </tr>\n",
       "    <tr>\n",
       "      <th>mean</th>\n",
       "      <td>33.399611</td>\n",
       "      <td>32.057386</td>\n",
       "    </tr>\n",
       "    <tr>\n",
       "      <th>std</th>\n",
       "      <td>15.584439</td>\n",
       "      <td>12.571332</td>\n",
       "    </tr>\n",
       "    <tr>\n",
       "      <th>min</th>\n",
       "      <td>1.000000</td>\n",
       "      <td>1.000000</td>\n",
       "    </tr>\n",
       "    <tr>\n",
       "      <th>25%</th>\n",
       "      <td>23.000000</td>\n",
       "      <td>23.000000</td>\n",
       "    </tr>\n",
       "    <tr>\n",
       "      <th>50%</th>\n",
       "      <td>32.000000</td>\n",
       "      <td>31.000000</td>\n",
       "    </tr>\n",
       "    <tr>\n",
       "      <th>75%</th>\n",
       "      <td>42.000000</td>\n",
       "      <td>41.000000</td>\n",
       "    </tr>\n",
       "    <tr>\n",
       "      <th>max</th>\n",
       "      <td>110.000000</td>\n",
       "      <td>70.000000</td>\n",
       "    </tr>\n",
       "  </tbody>\n",
       "</table>\n",
       "</div>"
      ],
      "text/plain": [
       "              Origin        Delete\n",
       "count  100838.000000  98752.000000\n",
       "mean       33.399611     32.057386\n",
       "std        15.584439     12.571332\n",
       "min         1.000000      1.000000\n",
       "25%        23.000000     23.000000\n",
       "50%        32.000000     31.000000\n",
       "75%        42.000000     41.000000\n",
       "max       110.000000     70.000000"
      ]
     },
     "execution_count": 18,
     "metadata": {},
     "output_type": "execute_result"
    }
   ],
   "source": [
    "age_compare.describe()"
   ]
  },
  {
   "cell_type": "code",
   "execution_count": 19,
   "id": "f0135b2a",
   "metadata": {},
   "outputs": [],
   "source": [
    "df = df_copy.copy()"
   ]
  },
  {
   "cell_type": "markdown",
   "id": "ba824fc1",
   "metadata": {},
   "source": [
    "#### 3-2. 이상치 대체하기\n",
    "이상치를 다른 값으로 대체하는 방법입니다. 예를 들어, 평균, 중앙값, 최빈값 등의 대체 방법을 사용할 수 있습니다. <br> 이 경우에는 데이터의 손실을 최소화할 수 있지만, 대체된 값이 원래 데이터의 특성을 왜곡할 수 있습니다."
   ]
  },
  {
   "cell_type": "code",
   "execution_count": 20,
   "id": "316092bc",
   "metadata": {
    "scrolled": true
   },
   "outputs": [],
   "source": [
    "df['IsOutlier_Age'] = (df['Age'] < Q1 - 1.5 * IQR) | (df['Age'] > Q3 + 1.5 * IQR)\n",
    "df.loc[df['IsOutlier_Age'], 'Age'] = df['Age'].median()"
   ]
  },
  {
   "cell_type": "code",
   "execution_count": 21,
   "id": "832c3404",
   "metadata": {},
   "outputs": [],
   "source": [
    "age_compare['Inplace'] = df['Age']"
   ]
  },
  {
   "cell_type": "code",
   "execution_count": 22,
   "id": "2f00d2e9",
   "metadata": {
    "scrolled": true
   },
   "outputs": [
    {
     "data": {
      "text/html": [
       "<div>\n",
       "<style scoped>\n",
       "    .dataframe tbody tr th:only-of-type {\n",
       "        vertical-align: middle;\n",
       "    }\n",
       "\n",
       "    .dataframe tbody tr th {\n",
       "        vertical-align: top;\n",
       "    }\n",
       "\n",
       "    .dataframe thead th {\n",
       "        text-align: right;\n",
       "    }\n",
       "</style>\n",
       "<table border=\"1\" class=\"dataframe\">\n",
       "  <thead>\n",
       "    <tr style=\"text-align: right;\">\n",
       "      <th></th>\n",
       "      <th>Origin</th>\n",
       "      <th>Delete</th>\n",
       "      <th>Inplace</th>\n",
       "    </tr>\n",
       "  </thead>\n",
       "  <tbody>\n",
       "    <tr>\n",
       "      <th>count</th>\n",
       "      <td>100838.000000</td>\n",
       "      <td>98752.000000</td>\n",
       "      <td>100838.000000</td>\n",
       "    </tr>\n",
       "    <tr>\n",
       "      <th>mean</th>\n",
       "      <td>33.399611</td>\n",
       "      <td>32.057386</td>\n",
       "      <td>32.056199</td>\n",
       "    </tr>\n",
       "    <tr>\n",
       "      <th>std</th>\n",
       "      <td>15.584439</td>\n",
       "      <td>12.571332</td>\n",
       "      <td>12.440624</td>\n",
       "    </tr>\n",
       "    <tr>\n",
       "      <th>min</th>\n",
       "      <td>1.000000</td>\n",
       "      <td>1.000000</td>\n",
       "      <td>1.000000</td>\n",
       "    </tr>\n",
       "    <tr>\n",
       "      <th>25%</th>\n",
       "      <td>23.000000</td>\n",
       "      <td>23.000000</td>\n",
       "      <td>23.000000</td>\n",
       "    </tr>\n",
       "    <tr>\n",
       "      <th>50%</th>\n",
       "      <td>32.000000</td>\n",
       "      <td>31.000000</td>\n",
       "      <td>32.000000</td>\n",
       "    </tr>\n",
       "    <tr>\n",
       "      <th>75%</th>\n",
       "      <td>42.000000</td>\n",
       "      <td>41.000000</td>\n",
       "      <td>41.000000</td>\n",
       "    </tr>\n",
       "    <tr>\n",
       "      <th>max</th>\n",
       "      <td>110.000000</td>\n",
       "      <td>70.000000</td>\n",
       "      <td>70.000000</td>\n",
       "    </tr>\n",
       "  </tbody>\n",
       "</table>\n",
       "</div>"
      ],
      "text/plain": [
       "              Origin        Delete        Inplace\n",
       "count  100838.000000  98752.000000  100838.000000\n",
       "mean       33.399611     32.057386      32.056199\n",
       "std        15.584439     12.571332      12.440624\n",
       "min         1.000000      1.000000       1.000000\n",
       "25%        23.000000     23.000000      23.000000\n",
       "50%        32.000000     31.000000      32.000000\n",
       "75%        42.000000     41.000000      41.000000\n",
       "max       110.000000     70.000000      70.000000"
      ]
     },
     "execution_count": 22,
     "metadata": {},
     "output_type": "execute_result"
    }
   ],
   "source": [
    "age_compare.describe()"
   ]
  },
  {
   "cell_type": "code",
   "execution_count": 23,
   "id": "f15282f2",
   "metadata": {},
   "outputs": [],
   "source": [
    "df = df_copy.copy()"
   ]
  },
  {
   "cell_type": "markdown",
   "id": "b11d744a",
   "metadata": {},
   "source": [
    "---"
   ]
  },
  {
   "cell_type": "markdown",
   "id": "00835be9",
   "metadata": {},
   "source": [
    "## 실습문제"
   ]
  },
  {
   "cell_type": "code",
   "execution_count": 24,
   "id": "f9055732-759f-4944-b234-8727c2982e5b",
   "metadata": {},
   "outputs": [
    {
     "data": {
      "text/html": [
       "<div>\n",
       "<style scoped>\n",
       "    .dataframe tbody tr th:only-of-type {\n",
       "        vertical-align: middle;\n",
       "    }\n",
       "\n",
       "    .dataframe tbody tr th {\n",
       "        vertical-align: top;\n",
       "    }\n",
       "\n",
       "    .dataframe thead th {\n",
       "        text-align: right;\n",
       "    }\n",
       "</style>\n",
       "<table border=\"1\" class=\"dataframe\">\n",
       "  <thead>\n",
       "    <tr style=\"text-align: right;\">\n",
       "      <th></th>\n",
       "      <th>MovieId</th>\n",
       "      <th>ImdbId</th>\n",
       "      <th>TmdbId</th>\n",
       "      <th>Title</th>\n",
       "      <th>Year</th>\n",
       "      <th>Genres</th>\n",
       "      <th>UserId</th>\n",
       "      <th>Rating</th>\n",
       "      <th>Gender</th>\n",
       "      <th>Age</th>\n",
       "      <th>Occupation</th>\n",
       "    </tr>\n",
       "  </thead>\n",
       "  <tbody>\n",
       "    <tr>\n",
       "      <th>0</th>\n",
       "      <td>1</td>\n",
       "      <td>114709</td>\n",
       "      <td>862</td>\n",
       "      <td>Toy Story</td>\n",
       "      <td>1995</td>\n",
       "      <td>Adventure|Animation|Children|Comedy|Fantasy</td>\n",
       "      <td>1</td>\n",
       "      <td>4.0</td>\n",
       "      <td>F</td>\n",
       "      <td>2</td>\n",
       "      <td>K-12 student</td>\n",
       "    </tr>\n",
       "    <tr>\n",
       "      <th>1</th>\n",
       "      <td>1</td>\n",
       "      <td>114709</td>\n",
       "      <td>862</td>\n",
       "      <td>Toy Story</td>\n",
       "      <td>1995</td>\n",
       "      <td>Adventure|Animation|Children|Comedy|Fantasy</td>\n",
       "      <td>5</td>\n",
       "      <td>4.0</td>\n",
       "      <td>M</td>\n",
       "      <td>30</td>\n",
       "      <td>writer</td>\n",
       "    </tr>\n",
       "    <tr>\n",
       "      <th>2</th>\n",
       "      <td>1</td>\n",
       "      <td>114709</td>\n",
       "      <td>862</td>\n",
       "      <td>Toy Story</td>\n",
       "      <td>1995</td>\n",
       "      <td>Adventure|Animation|Children|Comedy|Fantasy</td>\n",
       "      <td>7</td>\n",
       "      <td>4.5</td>\n",
       "      <td>M</td>\n",
       "      <td>39</td>\n",
       "      <td>academic/educator</td>\n",
       "    </tr>\n",
       "    <tr>\n",
       "      <th>3</th>\n",
       "      <td>1</td>\n",
       "      <td>114709</td>\n",
       "      <td>862</td>\n",
       "      <td>Toy Story</td>\n",
       "      <td>1995</td>\n",
       "      <td>Adventure|Animation|Children|Comedy|Fantasy</td>\n",
       "      <td>15</td>\n",
       "      <td>2.5</td>\n",
       "      <td>M</td>\n",
       "      <td>29</td>\n",
       "      <td>executive/managerial</td>\n",
       "    </tr>\n",
       "    <tr>\n",
       "      <th>4</th>\n",
       "      <td>1</td>\n",
       "      <td>114709</td>\n",
       "      <td>862</td>\n",
       "      <td>Toy Story</td>\n",
       "      <td>1995</td>\n",
       "      <td>Adventure|Animation|Children|Comedy|Fantasy</td>\n",
       "      <td>17</td>\n",
       "      <td>4.5</td>\n",
       "      <td>M</td>\n",
       "      <td>52</td>\n",
       "      <td>academic/educator</td>\n",
       "    </tr>\n",
       "  </tbody>\n",
       "</table>\n",
       "</div>"
      ],
      "text/plain": [
       "   MovieId  ImdbId  TmdbId      Title  Year  \\\n",
       "0        1  114709     862  Toy Story  1995   \n",
       "1        1  114709     862  Toy Story  1995   \n",
       "2        1  114709     862  Toy Story  1995   \n",
       "3        1  114709     862  Toy Story  1995   \n",
       "4        1  114709     862  Toy Story  1995   \n",
       "\n",
       "                                        Genres  UserId  Rating Gender  Age  \\\n",
       "0  Adventure|Animation|Children|Comedy|Fantasy       1     4.0      F    2   \n",
       "1  Adventure|Animation|Children|Comedy|Fantasy       5     4.0      M   30   \n",
       "2  Adventure|Animation|Children|Comedy|Fantasy       7     4.5      M   39   \n",
       "3  Adventure|Animation|Children|Comedy|Fantasy      15     2.5      M   29   \n",
       "4  Adventure|Animation|Children|Comedy|Fantasy      17     4.5      M   52   \n",
       "\n",
       "             Occupation  \n",
       "0          K-12 student  \n",
       "1                writer  \n",
       "2     academic/educator  \n",
       "3  executive/managerial  \n",
       "4     academic/educator  "
      ]
     },
     "execution_count": 24,
     "metadata": {},
     "output_type": "execute_result"
    }
   ],
   "source": [
    "df.head()"
   ]
  },
  {
   "cell_type": "markdown",
   "id": "04cd0f2a",
   "metadata": {},
   "source": [
    "#### Q1. 데이터프레임 'df' 의 'Year' 컬럼의 통계적 특성을 확인해 보세요."
   ]
  },
  {
   "cell_type": "code",
   "execution_count": 25,
   "id": "7ff371a4",
   "metadata": {},
   "outputs": [
    {
     "data": {
      "text/plain": [
       "count    100838.000000\n",
       "mean       1994.144618\n",
       "std          28.249391\n",
       "min           0.000000\n",
       "25%        1990.000000\n",
       "50%        1997.000000\n",
       "75%        2003.000000\n",
       "max        2018.000000\n",
       "Name: Year, dtype: float64"
      ]
     },
     "execution_count": 25,
     "metadata": {},
     "output_type": "execute_result"
    }
   ],
   "source": [
    "# 여기에 작성하세요.\n",
    "df['Year'].describe()"
   ]
  },
  {
   "cell_type": "markdown",
   "id": "6c9dda27",
   "metadata": {},
   "source": [
    "#### Q2. 데이터프레임 'df'의 'Year' 컬럼에 대한 Box Plot을 그려서 이상치를 탐지해 보세요."
   ]
  },
  {
   "cell_type": "code",
   "execution_count": 30,
   "id": "425e2da1",
   "metadata": {
    "scrolled": true
   },
   "outputs": [
    {
     "data": {
      "image/png": "[encoded data removed]",
      "text/plain": [
       "<Figure size 640x480 with 1 Axes>"
      ]
     },
     "metadata": {},
     "output_type": "display_data"
    }
   ],
   "source": [
    "# 여기에 작성하세요.\n",
    "# plt.boxplot(df['Year'], labels=['Year'])\n",
    "# plt.show()\n",
    "sns.boxplot(data=df, y='Year')\n",
    "plt.show()"
   ]
  },
  {
   "cell_type": "markdown",
   "id": "3c36cafd",
   "metadata": {},
   "source": [
    "#### Q3. 'Year' 컬럼의 IQR을 계산해 보세요."
   ]
  },
  {
   "cell_type": "code",
   "execution_count": 32,
   "id": "cc196c49",
   "metadata": {},
   "outputs": [],
   "source": [
    "# 여기에 작성하세요.\n",
    "q1, q3 = df['Year'].quantile([0.25, 0.75])\n",
    "IQR = q3 - q1"
   ]
  },
  {
   "cell_type": "markdown",
   "id": "784f19f8",
   "metadata": {},
   "source": [
    "#### Q4. 'Year' 컬럼에서 IQR * 1.5 범위를 벗어나는 데이터를 이상치(Outlier)로 판단하는 컬럼 'IsOutlier_Year' 을 만들어 주세요."
   ]
  },
  {
   "cell_type": "code",
   "execution_count": 41,
   "id": "a3293758",
   "metadata": {},
   "outputs": [
    {
     "data": {
      "text/html": [
       "<div>\n",
       "<style scoped>\n",
       "    .dataframe tbody tr th:only-of-type {\n",
       "        vertical-align: middle;\n",
       "    }\n",
       "\n",
       "    .dataframe tbody tr th {\n",
       "        vertical-align: top;\n",
       "    }\n",
       "\n",
       "    .dataframe thead th {\n",
       "        text-align: right;\n",
       "    }\n",
       "</style>\n",
       "<table border=\"1\" class=\"dataframe\">\n",
       "  <thead>\n",
       "    <tr style=\"text-align: right;\">\n",
       "      <th></th>\n",
       "      <th>MovieId</th>\n",
       "      <th>ImdbId</th>\n",
       "      <th>TmdbId</th>\n",
       "      <th>Title</th>\n",
       "      <th>Year</th>\n",
       "      <th>Genres</th>\n",
       "      <th>UserId</th>\n",
       "      <th>Rating</th>\n",
       "      <th>Gender</th>\n",
       "      <th>Age</th>\n",
       "      <th>Occupation</th>\n",
       "      <th>IsOutlier_Year</th>\n",
       "    </tr>\n",
       "  </thead>\n",
       "  <tbody>\n",
       "    <tr>\n",
       "      <th>0</th>\n",
       "      <td>1</td>\n",
       "      <td>114709</td>\n",
       "      <td>862</td>\n",
       "      <td>Toy Story</td>\n",
       "      <td>1995</td>\n",
       "      <td>Adventure|Animation|Children|Comedy|Fantasy</td>\n",
       "      <td>1</td>\n",
       "      <td>4.0</td>\n",
       "      <td>F</td>\n",
       "      <td>2</td>\n",
       "      <td>K-12 student</td>\n",
       "      <td>False</td>\n",
       "    </tr>\n",
       "    <tr>\n",
       "      <th>1</th>\n",
       "      <td>1</td>\n",
       "      <td>114709</td>\n",
       "      <td>862</td>\n",
       "      <td>Toy Story</td>\n",
       "      <td>1995</td>\n",
       "      <td>Adventure|Animation|Children|Comedy|Fantasy</td>\n",
       "      <td>5</td>\n",
       "      <td>4.0</td>\n",
       "      <td>M</td>\n",
       "      <td>30</td>\n",
       "      <td>writer</td>\n",
       "      <td>False</td>\n",
       "    </tr>\n",
       "    <tr>\n",
       "      <th>2</th>\n",
       "      <td>1</td>\n",
       "      <td>114709</td>\n",
       "      <td>862</td>\n",
       "      <td>Toy Story</td>\n",
       "      <td>1995</td>\n",
       "      <td>Adventure|Animation|Children|Comedy|Fantasy</td>\n",
       "      <td>7</td>\n",
       "      <td>4.5</td>\n",
       "      <td>M</td>\n",
       "      <td>39</td>\n",
       "      <td>academic/educator</td>\n",
       "      <td>False</td>\n",
       "    </tr>\n",
       "    <tr>\n",
       "      <th>3</th>\n",
       "      <td>1</td>\n",
       "      <td>114709</td>\n",
       "      <td>862</td>\n",
       "      <td>Toy Story</td>\n",
       "      <td>1995</td>\n",
       "      <td>Adventure|Animation|Children|Comedy|Fantasy</td>\n",
       "      <td>15</td>\n",
       "      <td>2.5</td>\n",
       "      <td>M</td>\n",
       "      <td>29</td>\n",
       "      <td>executive/managerial</td>\n",
       "      <td>False</td>\n",
       "    </tr>\n",
       "    <tr>\n",
       "      <th>4</th>\n",
       "      <td>1</td>\n",
       "      <td>114709</td>\n",
       "      <td>862</td>\n",
       "      <td>Toy Story</td>\n",
       "      <td>1995</td>\n",
       "      <td>Adventure|Animation|Children|Comedy|Fantasy</td>\n",
       "      <td>17</td>\n",
       "      <td>4.5</td>\n",
       "      <td>M</td>\n",
       "      <td>52</td>\n",
       "      <td>academic/educator</td>\n",
       "      <td>False</td>\n",
       "    </tr>\n",
       "  </tbody>\n",
       "</table>\n",
       "</div>"
      ],
      "text/plain": [
       "   MovieId  ImdbId  TmdbId      Title  Year  \\\n",
       "0        1  114709     862  Toy Story  1995   \n",
       "1        1  114709     862  Toy Story  1995   \n",
       "2        1  114709     862  Toy Story  1995   \n",
       "3        1  114709     862  Toy Story  1995   \n",
       "4        1  114709     862  Toy Story  1995   \n",
       "\n",
       "                                        Genres  UserId  Rating Gender  Age  \\\n",
       "0  Adventure|Animation|Children|Comedy|Fantasy       1     4.0      F    2   \n",
       "1  Adventure|Animation|Children|Comedy|Fantasy       5     4.0      M   30   \n",
       "2  Adventure|Animation|Children|Comedy|Fantasy       7     4.5      M   39   \n",
       "3  Adventure|Animation|Children|Comedy|Fantasy      15     2.5      M   29   \n",
       "4  Adventure|Animation|Children|Comedy|Fantasy      17     4.5      M   52   \n",
       "\n",
       "             Occupation  IsOutlier_Year  \n",
       "0          K-12 student           False  \n",
       "1                writer           False  \n",
       "2     academic/educator           False  \n",
       "3  executive/managerial           False  \n",
       "4     academic/educator           False  "
      ]
     },
     "execution_count": 41,
     "metadata": {},
     "output_type": "execute_result"
    }
   ],
   "source": [
    "# 여기에 작성하세요.\n",
    "df['IsOutlier_Year'] = (df.Year < (q1 - 1.5 * IQR)) | (df.Year > (q3 + 1.5 * IQR))\n",
    "df.head(5)"
   ]
  },
  {
   "cell_type": "markdown",
   "id": "343c5d54",
   "metadata": {},
   "source": [
    "#### Q5. 제작년도의 이상치는 단순히 통계적으로만 판단하면 안됩니다. 하지만 이상치로 판단되는 데이터 중에서 제작년도가 존재할 수 없는 데이터의 경우( 0이거나 9999와 같은 값)는 이상치라고 할 수 있습니다. 이러한 데이터는 찾아서 삭제해 주세요. "
   ]
  },
  {
   "cell_type": "code",
   "execution_count": 47,
   "id": "ced2540a",
   "metadata": {},
   "outputs": [
    {
     "data": {
      "text/plain": [
       "Index([   0, 1902, 1903, 1908, 1915, 1916, 1917, 1919, 1920, 1921, 1922, 1923,\n",
       "       1924, 1925, 1926, 1927, 1928, 1929, 1930, 1931, 1932, 1933, 1934, 1935,\n",
       "       1936, 1937, 1938, 1939, 1940, 1941, 1942, 1943, 1944, 1945, 1946, 1947,\n",
       "       1948, 1949, 1950, 1951, 1952, 1953, 1954, 1955, 1956, 1957, 1958, 1959,\n",
       "       1960, 1961, 1962, 1963, 1964, 1965, 1966, 1967, 1968, 1969, 1970],\n",
       "      dtype='int64', name='Year')"
      ]
     },
     "execution_count": 47,
     "metadata": {},
     "output_type": "execute_result"
    }
   ],
   "source": [
    "# 여기에 작성하세요.\n",
    "df.loc[df.IsOutlier_Year, 'Year'].value_counts().sort_index().index"
   ]
  },
  {
   "cell_type": "code",
   "execution_count": 51,
   "id": "3c3fc7cd-71ef-42cd-b84a-b30a0af2c76e",
   "metadata": {},
   "outputs": [],
   "source": [
    "df = df[df.Year != 0]"
   ]
  },
  {
   "cell_type": "markdown",
   "id": "22608ee1",
   "metadata": {},
   "source": [
    "#### Q5. 이상치 처리를 위해 사용했던 컬럼 'IsOutlier_Year' 은 삭제해 주세요. "
   ]
  },
  {
   "cell_type": "code",
   "execution_count": 54,
   "id": "4061556f",
   "metadata": {
    "scrolled": true
   },
   "outputs": [],
   "source": [
    "# 여기에 작성하세요.\n",
    "df.drop(columns=['IsOutlier_Year'], inplace=True)"
   ]
  },
  {
   "cell_type": "markdown",
   "id": "a15fb97c",
   "metadata": {},
   "source": [
    "---"
   ]
  }
 ],
 "metadata": {
  "kernelspec": {
   "display_name": "Python 3 (ipykernel)",
   "language": "python",
   "name": "python3"
  },
  "language_info": {
   "codemirror_mode": {
    "name": "ipython",
    "version": 3
   },
   "file_extension": ".py",
   "mimetype": "text/x-python",
   "name": "python",
   "nbconvert_exporter": "python",
   "pygments_lexer": "ipython3",
   "version": "3.11.3"
  }
 },
 "nbformat": 4,
 "nbformat_minor": 5
}
