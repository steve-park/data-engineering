{
 "cells": [
  {
   "cell_type": "markdown",
   "metadata": {},
   "source": [
    "# 데이터 분석 실무\n",
    "## 파이썬 라이브러리를 활용해서 통계 기법을 적용한 데이터 분석을 배우는 과정입니다."
   ]
  },
  {
   "cell_type": "markdown",
   "metadata": {},
   "source": [
    "#### 가설검정 2-1 : 평균 주문 금액 가설 검정(일표본 T-Test)"
   ]
  },
  {
   "cell_type": "markdown",
   "metadata": {},
   "source": [
    "* 지금부터 간단한 예시코드를 중심으로 데이터 분석 실습을 진행하겠습니다."
   ]
  },
  {
   "cell_type": "markdown",
   "metadata": {},
   "source": [
    "* 평균 주문 금액에 대한 가설 검정을 위한 가상 데이터셋을 만들어보겠습니다.\n",
    "* A 온라인 쇼핑몰에서는 고객당 평균 주문 금액이 어떻게 되나 궁금합니다. 고객별 주문 금액을 임의로 만들었습니다.\n",
    "\n",
    "    * order_amounts: 고객별 주문 금액\n",
    "\n",
    "* 평균 주문금액을 t-test를 활용해서 가설을 검정해보겠습니다."
   ]
  },
  {
   "cell_type": "markdown",
   "metadata": {},
   "source": [
    "##### 0. 필요 라이브러리 불러오기"
   ]
  },
  {
   "cell_type": "code",
   "execution_count": 1,
   "metadata": {},
   "outputs": [],
   "source": [
    "import numpy as np\n",
    "from scipy.stats import ttest_1samp"
   ]
  },
  {
   "cell_type": "markdown",
   "metadata": {},
   "source": [
    "##### 1. 데이터 생성"
   ]
  },
  {
   "cell_type": "code",
   "execution_count": 2,
   "metadata": {},
   "outputs": [],
   "source": [
    "# 주문 금액 데이터 (예시)\n",
    "order_amounts = [95, 110, 98, 102, 105, 97, 99, 90, 105, 103]"
   ]
  },
  {
   "cell_type": "markdown",
   "metadata": {},
   "source": [
    "##### 2. 가설설정"
   ]
  },
  {
   "cell_type": "code",
   "execution_count": 3,
   "metadata": {},
   "outputs": [],
   "source": [
    "# 귀무가설(H0): 평균 주문 금액은 $100이다.\n",
    "# 대립가설(H1): 평균 주문 금액은 $100이 아니다.\n",
    "# 유의수준: 0.05 (95% 신뢰수준)"
   ]
  },
  {
   "cell_type": "code",
   "execution_count": 4,
   "metadata": {},
   "outputs": [
    {
     "data": {
      "text/plain": [
       "100.4"
      ]
     },
     "execution_count": 4,
     "metadata": {},
     "output_type": "execute_result"
    }
   ],
   "source": [
    "# 주문 금액의 평균은?\n",
    "np.mean(order_amounts)"
   ]
  },
  {
   "cell_type": "code",
   "execution_count": 5,
   "metadata": {},
   "outputs": [],
   "source": [
    "# 귀무가설에 설정한 값\n",
    "null_value = 100"
   ]
  },
  {
   "cell_type": "markdown",
   "metadata": {},
   "source": [
    "##### 3. 검정통계량 계산"
   ]
  },
  {
   "cell_type": "code",
   "execution_count": 6,
   "metadata": {},
   "outputs": [],
   "source": [
    "# 일표본 t-검정 수행\n",
    "t_statistic, p_value = ttest_1samp(order_amounts, null_value)"
   ]
  },
  {
   "cell_type": "markdown",
   "metadata": {},
   "source": [
    "##### 4. 결과 출력"
   ]
  },
  {
   "cell_type": "code",
   "execution_count": 7,
   "metadata": {},
   "outputs": [
    {
     "name": "stdout",
     "output_type": "stream",
     "text": [
      "일표본 t-검정 결과:\n",
      "검정통계량 (t-statistic): 0.2189431095506511\n",
      "유의확률 (p-value): 0.8315788730165952\n"
     ]
    }
   ],
   "source": [
    "# 결과 출력\n",
    "print(\"일표본 t-검정 결과:\")\n",
    "print(\"검정통계량 (t-statistic):\", t_statistic)\n",
    "print(\"유의확률 (p-value):\", p_value)"
   ]
  },
  {
   "cell_type": "markdown",
   "metadata": {},
   "source": [
    "##### 5. 결과 해석"
   ]
  },
  {
   "cell_type": "code",
   "execution_count": 8,
   "metadata": {},
   "outputs": [
    {
     "name": "stdout",
     "output_type": "stream",
     "text": [
      "귀무가설을 채택합니다. 평균 주문 금액은 $100입니다.\n"
     ]
    }
   ],
   "source": [
    "# 유의수준 설정\n",
    "alpha = 0.05\n",
    "\n",
    "# 유의확률과 유의수준 비교\n",
    "if p_value < alpha:\n",
    "    print(\"귀무가설을 기각합니다. 평균 주문 금액은 $100이 아닙니다.\")\n",
    "else:\n",
    "    print(\"귀무가설을 채택합니다. 평균 주문 금액은 $100입니다.\")"
   ]
  },
  {
   "cell_type": "markdown",
   "metadata": {},
   "source": [
    "#### 가설검정 2-2 : 약품의 효과 검증(독립표본 T-Test)"
   ]
  },
  {
   "cell_type": "markdown",
   "metadata": {},
   "source": [
    "* 지금부터 간단한 예시코드를 중심으로 데이터 분석 실습을 진행하겠습니다."
   ]
  },
  {
   "cell_type": "markdown",
   "metadata": {},
   "source": [
    "* 약품의 효과 검증을 위한 가상 데이터셋을 만들어보겠습니다.\n",
    "* A 제약회사에서는 신약의 효과 검증이 궁금합니다. 투약한 그룹과 투약하지 않은 그룹의 수치를 임의로 만들었습니다.\n",
    "\n",
    "    * group1: 투약한 그룹의 수치\n",
    "    * group2: 투약하지 않은 그룹의 수치\n",
    "\n",
    "\n",
    "* 약품의 효과를 t-test를 활용해서 검증해보겠습니다."
   ]
  },
  {
   "cell_type": "markdown",
   "metadata": {},
   "source": [
    "##### 0. 필요 라이브러리 불러오기"
   ]
  },
  {
   "cell_type": "code",
   "execution_count": 9,
   "metadata": {},
   "outputs": [],
   "source": [
    "import numpy as np\n",
    "from scipy.stats import ttest_ind"
   ]
  },
  {
   "cell_type": "markdown",
   "metadata": {},
   "source": [
    "##### 1. 데이터 생성"
   ]
  },
  {
   "cell_type": "code",
   "execution_count": 10,
   "metadata": {},
   "outputs": [],
   "source": [
    "# 두 그룹의 데이터\n",
    "group1 = [18, 20, 21, 19, 22, 25, 23, 20, 19, 21]\n",
    "group2 = [16, 18, 19, 17, 20, 21, 19, 17, 18, 20]"
   ]
  },
  {
   "cell_type": "markdown",
   "metadata": {},
   "source": [
    "##### 2. 가설설정"
   ]
  },
  {
   "cell_type": "code",
   "execution_count": 11,
   "metadata": {},
   "outputs": [],
   "source": [
    "# 귀무가설(H0): 두 그룹의 평균의 차이가 없을 것이다.\n",
    "# 대립가설(H1): 두 그룹의 평균의 차이가 있을 것이다.\n",
    "# 유의수준: 0.05 (95% 신뢰수준)"
   ]
  },
  {
   "cell_type": "markdown",
   "metadata": {},
   "source": [
    "##### 3. 검정통계량 계산"
   ]
  },
  {
   "cell_type": "code",
   "execution_count": 12,
   "metadata": {},
   "outputs": [],
   "source": [
    "# 독립표본 t-검정\n",
    "t_statistic, p_value = ttest_ind(group1, group2)"
   ]
  },
  {
   "cell_type": "markdown",
   "metadata": {},
   "source": [
    "##### 4. 결과 출력"
   ]
  },
  {
   "cell_type": "code",
   "execution_count": 13,
   "metadata": {},
   "outputs": [
    {
     "name": "stdout",
     "output_type": "stream",
     "text": [
      "독립표본 t-검정 결과:\n",
      "검정통계량 (t-statistic): 2.7688746209726927\n",
      "유의확률 (p-value): 0.012651999684642933\n"
     ]
    }
   ],
   "source": [
    "# 결과 출력\n",
    "print(\"독립표본 t-검정 결과:\")\n",
    "print(\"검정통계량 (t-statistic):\", t_statistic)\n",
    "print(\"유의확률 (p-value):\", p_value)"
   ]
  },
  {
   "cell_type": "markdown",
   "metadata": {},
   "source": [
    "##### 5. 결과 해석"
   ]
  },
  {
   "cell_type": "code",
   "execution_count": 14,
   "metadata": {},
   "outputs": [
    {
     "name": "stdout",
     "output_type": "stream",
     "text": [
      "귀무가설을 기각합니다. 두 그룹의 평균은 차이가 있습니다.\n"
     ]
    }
   ],
   "source": [
    "# 결과 해석\n",
    "alpha = 0.05\n",
    "if p_value < alpha:\n",
    "    print(\"귀무가설을 기각합니다. 두 그룹의 평균은 차이가 있습니다.\")\n",
    "else:\n",
    "    print(\"귀무가설을 채택합니다. 두 그룹의 평균은 차이가 없습니다.\")"
   ]
  },
  {
   "cell_type": "markdown",
   "metadata": {},
   "source": [
    "#### 가설검정 2-3 : 약품의 효과 검증(대응표본 T-Test)"
   ]
  },
  {
   "cell_type": "markdown",
   "metadata": {},
   "source": [
    "* 지금부터 간단한 예시코드를 중심으로 데이터 분석 실습을 진행하겠습니다."
   ]
  },
  {
   "cell_type": "markdown",
   "metadata": {},
   "source": [
    "* 약품의 효과 검증을 위한 가상 데이터셋을 만들어보겠습니다.\n",
    "* A 제약회사에서는 신약의 효과 검증이 궁금합니다. 하나의 그룹에 투약 전과 후로 나누어 수치를 임의로 만들었습니다.\n",
    "\n",
    "    * before: 투약 전 수치\n",
    "    * after: 투약 후 수치\n",
    "\n",
    "\n",
    "* 약품의 효과를 t-test를 활용해서 검증해보겠습니다."
   ]
  },
  {
   "cell_type": "markdown",
   "metadata": {},
   "source": [
    "##### 0. 필요 라이브러리 불러오기"
   ]
  },
  {
   "cell_type": "code",
   "execution_count": 15,
   "metadata": {},
   "outputs": [],
   "source": [
    "import numpy as np\n",
    "from scipy.stats import ttest_rel"
   ]
  },
  {
   "cell_type": "markdown",
   "metadata": {},
   "source": [
    "##### 1. 데이터 생성"
   ]
  },
  {
   "cell_type": "code",
   "execution_count": 16,
   "metadata": {},
   "outputs": [],
   "source": [
    "# 약품 투여 전 데이터\n",
    "before = [18, 20, 21, 19, 22, 25, 23, 20, 19, 21]\n",
    "\n",
    "# 약품 투여 후 데이터\n",
    "after = [16, 17, 18, 16, 19, 20, 18, 16, 17, 19]"
   ]
  },
  {
   "cell_type": "markdown",
   "metadata": {},
   "source": [
    "##### 2. 가설설정"
   ]
  },
  {
   "cell_type": "code",
   "execution_count": 17,
   "metadata": {},
   "outputs": [],
   "source": [
    "# 귀무가설(H0): 투약 전/후 평균의 차이가 없을 것이다.\n",
    "# 대립가설(H1): 투약 전/후 평균의 차이가 있을 것이다.\n",
    "# 유의수준: 0.05 (95% 신뢰수준)"
   ]
  },
  {
   "cell_type": "markdown",
   "metadata": {},
   "source": [
    "##### 3. 검정통계량 계산"
   ]
  },
  {
   "cell_type": "code",
   "execution_count": 18,
   "metadata": {},
   "outputs": [],
   "source": [
    "# 대응표본 t-검정\n",
    "t_statistic, p_value = ttest_rel(before, after)"
   ]
  },
  {
   "cell_type": "markdown",
   "metadata": {},
   "source": [
    "##### 4. 결과 출력"
   ]
  },
  {
   "cell_type": "code",
   "execution_count": 19,
   "metadata": {},
   "outputs": [
    {
     "name": "stdout",
     "output_type": "stream",
     "text": [
      "대응표본 t-검정 결과:\n",
      "검정통계량 (t-statistic): 8.91337623249849\n",
      "유의확률 (p-value): 9.240368318307187e-06\n"
     ]
    }
   ],
   "source": [
    "# 결과 출력\n",
    "print(\"대응표본 t-검정 결과:\")\n",
    "print(\"검정통계량 (t-statistic):\", t_statistic)\n",
    "print(\"유의확률 (p-value):\", p_value)"
   ]
  },
  {
   "cell_type": "markdown",
   "metadata": {},
   "source": [
    "##### 5. 결과 해석"
   ]
  },
  {
   "cell_type": "code",
   "execution_count": 20,
   "metadata": {},
   "outputs": [
    {
     "name": "stdout",
     "output_type": "stream",
     "text": [
      "귀무가설을 기각합니다. 약품 투여 전과 후의 평균은 차이가 있습니다.\n"
     ]
    }
   ],
   "source": [
    "# 결과 해석\n",
    "alpha = 0.05\n",
    "if p_value < alpha:\n",
    "    print(\"귀무가설을 기각합니다. 약품 투여 전과 후의 평균은 차이가 있습니다.\")\n",
    "else:\n",
    "    print(\"귀무가설을 채택합니다. 약품 투여 전과 후의 평균은 차이가 없습니다.\")"
   ]
  }
 ],
 "metadata": {
  "kernelspec": {
   "display_name": "Python 3 (ipykernel)",
   "language": "python",
   "name": "python3"
  },
  "language_info": {
   "codemirror_mode": {
    "name": "ipython",
    "version": 3
   },
   "file_extension": ".py",
   "mimetype": "text/x-python",
   "name": "python",
   "nbconvert_exporter": "python",
   "pygments_lexer": "ipython3",
   "version": "3.11.3"
  }
 },
 "nbformat": 4,
 "nbformat_minor": 4
}
