{
 "cells": [
  {
   "cell_type": "markdown",
   "metadata": {},
   "source": [
    "# 데이터 분석 실무\n",
    "## 파이썬 라이브러리를 활용해서 통계 기법을 적용한 데이터 분석을 배우는 과정입니다."
   ]
  },
  {
   "cell_type": "markdown",
   "metadata": {},
   "source": [
    "#### 이번 시간은 공공자전거 수요 데이터를 활용해서 분석을 해보는 시간입니다.\n",
    "* 먼저, 데이터를 불러오고 살펴보겠습니다.(서울특별시 공공자전거 대여이력 정보_2209.csv, encoding 'cp949')\n",
    "* 서울시 공공자전거 대여이력 정보\n",
    "* https://data.seoul.go.kr/dataList/OA-15182/F/1/datasetView.do#"
   ]
  },
  {
   "cell_type": "code",
   "execution_count": 1,
   "metadata": {},
   "outputs": [],
   "source": [
    "# 필요 라이브러리 import\n",
    "import pandas as pd"
   ]
  },
  {
   "cell_type": "code",
   "execution_count": 2,
   "metadata": {},
   "outputs": [
    {
     "data": {
      "text/html": [
       "<div>\n",
       "<style scoped>\n",
       "    .dataframe tbody tr th:only-of-type {\n",
       "        vertical-align: middle;\n",
       "    }\n",
       "\n",
       "    .dataframe tbody tr th {\n",
       "        vertical-align: top;\n",
       "    }\n",
       "\n",
       "    .dataframe thead th {\n",
       "        text-align: right;\n",
       "    }\n",
       "</style>\n",
       "<table border=\"1\" class=\"dataframe\">\n",
       "  <thead>\n",
       "    <tr style=\"text-align: right;\">\n",
       "      <th></th>\n",
       "      <th>자전거번호</th>\n",
       "      <th>대여일시</th>\n",
       "      <th>대여 대여소번호</th>\n",
       "      <th>대여 대여소명</th>\n",
       "      <th>대여거치대</th>\n",
       "      <th>반납일시</th>\n",
       "      <th>반납대여소번호</th>\n",
       "      <th>반납대여소명</th>\n",
       "      <th>반납거치대</th>\n",
       "      <th>이용시간(분)</th>\n",
       "      <th>이용거리(M)</th>\n",
       "      <th>생년</th>\n",
       "      <th>성별</th>\n",
       "      <th>이용자종류</th>\n",
       "      <th>대여대여소ID</th>\n",
       "      <th>반납대여소ID</th>\n",
       "    </tr>\n",
       "  </thead>\n",
       "  <tbody>\n",
       "    <tr>\n",
       "      <th>0</th>\n",
       "      <td>SPB-54802</td>\n",
       "      <td>2022-09-01 00:00:42</td>\n",
       "      <td>794</td>\n",
       "      <td>양천문화회관</td>\n",
       "      <td>0</td>\n",
       "      <td>2022-09-01 00:01:10</td>\n",
       "      <td>00794</td>\n",
       "      <td>양천문화회관</td>\n",
       "      <td>0</td>\n",
       "      <td>0</td>\n",
       "      <td>0.0</td>\n",
       "      <td>2006</td>\n",
       "      <td>M</td>\n",
       "      <td>내국인</td>\n",
       "      <td>ST-2395</td>\n",
       "      <td>ST-2395</td>\n",
       "    </tr>\n",
       "    <tr>\n",
       "      <th>1</th>\n",
       "      <td>SPB-52640</td>\n",
       "      <td>2022-09-01 00:01:45</td>\n",
       "      <td>4472</td>\n",
       "      <td>송파파크데일 1단지 115동 건너편</td>\n",
       "      <td>0</td>\n",
       "      <td>2022-09-01 00:01:48</td>\n",
       "      <td>04472</td>\n",
       "      <td>송파파크데일 1단지 115동 건너편</td>\n",
       "      <td>0</td>\n",
       "      <td>0</td>\n",
       "      <td>0.0</td>\n",
       "      <td>1957</td>\n",
       "      <td>\\N</td>\n",
       "      <td>내국인</td>\n",
       "      <td>ST-2585</td>\n",
       "      <td>ST-2585</td>\n",
       "    </tr>\n",
       "    <tr>\n",
       "      <th>2</th>\n",
       "      <td>SPB-45219</td>\n",
       "      <td>2022-09-01 00:01:23</td>\n",
       "      <td>2219</td>\n",
       "      <td>고속터미널역 8-1번, 8-2번 출구 사이</td>\n",
       "      <td>0</td>\n",
       "      <td>2022-09-01 00:01:52</td>\n",
       "      <td>02219</td>\n",
       "      <td>고속터미널역 8-1번, 8-2번 출구 사이</td>\n",
       "      <td>0</td>\n",
       "      <td>0</td>\n",
       "      <td>0.0</td>\n",
       "      <td>2004</td>\n",
       "      <td>M</td>\n",
       "      <td>내국인</td>\n",
       "      <td>ST-750</td>\n",
       "      <td>ST-750</td>\n",
       "    </tr>\n",
       "    <tr>\n",
       "      <th>3</th>\n",
       "      <td>SPB-44050</td>\n",
       "      <td>2022-09-01 00:01:50</td>\n",
       "      <td>568</td>\n",
       "      <td>청계8가사거리 부근</td>\n",
       "      <td>0</td>\n",
       "      <td>2022-09-01 00:02:00</td>\n",
       "      <td>00568</td>\n",
       "      <td>청계8가사거리 부근</td>\n",
       "      <td>0</td>\n",
       "      <td>0</td>\n",
       "      <td>0.0</td>\n",
       "      <td>\\N</td>\n",
       "      <td>F</td>\n",
       "      <td>내국인</td>\n",
       "      <td>ST-369</td>\n",
       "      <td>ST-369</td>\n",
       "    </tr>\n",
       "    <tr>\n",
       "      <th>4</th>\n",
       "      <td>SPB-51340</td>\n",
       "      <td>2022-09-01 00:00:08</td>\n",
       "      <td>3120</td>\n",
       "      <td>DMC엘가아파트 앞</td>\n",
       "      <td>0</td>\n",
       "      <td>2022-09-01 00:02:17</td>\n",
       "      <td>00170</td>\n",
       "      <td>DMC파크뷰자이아파트 302동 앞</td>\n",
       "      <td>0</td>\n",
       "      <td>2</td>\n",
       "      <td>0.0</td>\n",
       "      <td>1993</td>\n",
       "      <td>F</td>\n",
       "      <td>내국인</td>\n",
       "      <td>ST-2205</td>\n",
       "      <td>ST-227</td>\n",
       "    </tr>\n",
       "    <tr>\n",
       "      <th>...</th>\n",
       "      <td>...</td>\n",
       "      <td>...</td>\n",
       "      <td>...</td>\n",
       "      <td>...</td>\n",
       "      <td>...</td>\n",
       "      <td>...</td>\n",
       "      <td>...</td>\n",
       "      <td>...</td>\n",
       "      <td>...</td>\n",
       "      <td>...</td>\n",
       "      <td>...</td>\n",
       "      <td>...</td>\n",
       "      <td>...</td>\n",
       "      <td>...</td>\n",
       "      <td>...</td>\n",
       "      <td>...</td>\n",
       "    </tr>\n",
       "    <tr>\n",
       "      <th>4934836</th>\n",
       "      <td>SPB-30832</td>\n",
       "      <td>2022-09-30 16:54:39</td>\n",
       "      <td>5072</td>\n",
       "      <td>김포공항입구 교통섬</td>\n",
       "      <td>0</td>\n",
       "      <td>2022-10-02 13:03:18</td>\n",
       "      <td>\\N</td>\n",
       "      <td>\\N</td>\n",
       "      <td>\\N</td>\n",
       "      <td>810</td>\n",
       "      <td>0.0</td>\n",
       "      <td>1999</td>\n",
       "      <td>\\N</td>\n",
       "      <td>내국인</td>\n",
       "      <td>ST-2947</td>\n",
       "      <td>\\N</td>\n",
       "    </tr>\n",
       "    <tr>\n",
       "      <th>4934837</th>\n",
       "      <td>SPB-45771</td>\n",
       "      <td>2022-09-30 17:42:39</td>\n",
       "      <td>1827</td>\n",
       "      <td>독산보도육교 앞 자전거 보관소</td>\n",
       "      <td>0</td>\n",
       "      <td>2022-10-02 13:03:47</td>\n",
       "      <td>\\N</td>\n",
       "      <td>\\N</td>\n",
       "      <td>\\N</td>\n",
       "      <td>810</td>\n",
       "      <td>0.0</td>\n",
       "      <td>1998</td>\n",
       "      <td>F</td>\n",
       "      <td>내국인</td>\n",
       "      <td>ST-660</td>\n",
       "      <td>\\N</td>\n",
       "    </tr>\n",
       "    <tr>\n",
       "      <th>4934838</th>\n",
       "      <td>SPB-38503</td>\n",
       "      <td>2022-09-30 18:14:56</td>\n",
       "      <td>574</td>\n",
       "      <td>아차산역4번출구</td>\n",
       "      <td>0</td>\n",
       "      <td>2022-10-02 13:04:15</td>\n",
       "      <td>\\N</td>\n",
       "      <td>\\N</td>\n",
       "      <td>\\N</td>\n",
       "      <td>870</td>\n",
       "      <td>0.0</td>\n",
       "      <td>2007</td>\n",
       "      <td>M</td>\n",
       "      <td>내국인</td>\n",
       "      <td>ST-385</td>\n",
       "      <td>\\N</td>\n",
       "    </tr>\n",
       "    <tr>\n",
       "      <th>4934839</th>\n",
       "      <td>SPB-37589</td>\n",
       "      <td>2022-09-30 23:04:00</td>\n",
       "      <td>281</td>\n",
       "      <td>신동아아파트 앞</td>\n",
       "      <td>0</td>\n",
       "      <td>2022-10-02 13:04:53</td>\n",
       "      <td>\\N</td>\n",
       "      <td>\\N</td>\n",
       "      <td>\\N</td>\n",
       "      <td>810</td>\n",
       "      <td>0.0</td>\n",
       "      <td>\\N</td>\n",
       "      <td>\\N</td>\n",
       "      <td>비회원</td>\n",
       "      <td>ST-1540</td>\n",
       "      <td>\\N</td>\n",
       "    </tr>\n",
       "    <tr>\n",
       "      <th>4934840</th>\n",
       "      <td>SPB-35606</td>\n",
       "      <td>2022-09-30 21:37:53</td>\n",
       "      <td>4888</td>\n",
       "      <td>둔촌오륜역 2번출구</td>\n",
       "      <td>0</td>\n",
       "      <td>2022-10-02 13:48:41</td>\n",
       "      <td>\\N</td>\n",
       "      <td>\\N</td>\n",
       "      <td>\\N</td>\n",
       "      <td>810</td>\n",
       "      <td>0.0</td>\n",
       "      <td>\\N</td>\n",
       "      <td>\\N</td>\n",
       "      <td>비회원</td>\n",
       "      <td>ST-2940</td>\n",
       "      <td>\\N</td>\n",
       "    </tr>\n",
       "  </tbody>\n",
       "</table>\n",
       "<p>4934841 rows × 16 columns</p>\n",
       "</div>"
      ],
      "text/plain": [
       "             자전거번호                 대여일시  대여 대여소번호                  대여 대여소명  \\\n",
       "0        SPB-54802  2022-09-01 00:00:42       794                   양천문화회관   \n",
       "1        SPB-52640  2022-09-01 00:01:45      4472      송파파크데일 1단지 115동 건너편   \n",
       "2        SPB-45219  2022-09-01 00:01:23      2219  고속터미널역 8-1번, 8-2번 출구 사이   \n",
       "3        SPB-44050  2022-09-01 00:01:50       568               청계8가사거리 부근   \n",
       "4        SPB-51340  2022-09-01 00:00:08      3120               DMC엘가아파트 앞   \n",
       "...            ...                  ...       ...                      ...   \n",
       "4934836  SPB-30832  2022-09-30 16:54:39      5072               김포공항입구 교통섬   \n",
       "4934837  SPB-45771  2022-09-30 17:42:39      1827         독산보도육교 앞 자전거 보관소   \n",
       "4934838  SPB-38503  2022-09-30 18:14:56       574                 아차산역4번출구   \n",
       "4934839  SPB-37589  2022-09-30 23:04:00       281                 신동아아파트 앞   \n",
       "4934840  SPB-35606  2022-09-30 21:37:53      4888               둔촌오륜역 2번출구   \n",
       "\n",
       "         대여거치대                 반납일시 반납대여소번호                   반납대여소명 반납거치대  \\\n",
       "0            0  2022-09-01 00:01:10   00794                   양천문화회관     0   \n",
       "1            0  2022-09-01 00:01:48   04472      송파파크데일 1단지 115동 건너편     0   \n",
       "2            0  2022-09-01 00:01:52   02219  고속터미널역 8-1번, 8-2번 출구 사이     0   \n",
       "3            0  2022-09-01 00:02:00   00568               청계8가사거리 부근     0   \n",
       "4            0  2022-09-01 00:02:17   00170       DMC파크뷰자이아파트 302동 앞     0   \n",
       "...        ...                  ...     ...                      ...   ...   \n",
       "4934836      0  2022-10-02 13:03:18      \\N                       \\N    \\N   \n",
       "4934837      0  2022-10-02 13:03:47      \\N                       \\N    \\N   \n",
       "4934838      0  2022-10-02 13:04:15      \\N                       \\N    \\N   \n",
       "4934839      0  2022-10-02 13:04:53      \\N                       \\N    \\N   \n",
       "4934840      0  2022-10-02 13:48:41      \\N                       \\N    \\N   \n",
       "\n",
       "         이용시간(분)  이용거리(M)    생년  성별 이용자종류  대여대여소ID  반납대여소ID  \n",
       "0              0      0.0  2006   M   내국인  ST-2395  ST-2395  \n",
       "1              0      0.0  1957  \\N   내국인  ST-2585  ST-2585  \n",
       "2              0      0.0  2004   M   내국인   ST-750   ST-750  \n",
       "3              0      0.0    \\N   F   내국인   ST-369   ST-369  \n",
       "4              2      0.0  1993   F   내국인  ST-2205   ST-227  \n",
       "...          ...      ...   ...  ..   ...      ...      ...  \n",
       "4934836      810      0.0  1999  \\N   내국인  ST-2947       \\N  \n",
       "4934837      810      0.0  1998   F   내국인   ST-660       \\N  \n",
       "4934838      870      0.0  2007   M   내국인   ST-385       \\N  \n",
       "4934839      810      0.0    \\N  \\N   비회원  ST-1540       \\N  \n",
       "4934840      810      0.0    \\N  \\N   비회원  ST-2940       \\N  \n",
       "\n",
       "[4934841 rows x 16 columns]"
      ]
     },
     "execution_count": 2,
     "metadata": {},
     "output_type": "execute_result"
    }
   ],
   "source": [
    "# 데이터 불러오기\n",
    "df_bike = pd.read_csv('서울특별시 공공자전거 대여이력 정보_2209.csv', encoding='cp949')\n",
    "df_bike"
   ]
  },
  {
   "cell_type": "code",
   "execution_count": 23,
   "metadata": {},
   "outputs": [
    {
     "data": {
      "text/html": [
       "<div>\n",
       "<style scoped>\n",
       "    .dataframe tbody tr th:only-of-type {\n",
       "        vertical-align: middle;\n",
       "    }\n",
       "\n",
       "    .dataframe tbody tr th {\n",
       "        vertical-align: top;\n",
       "    }\n",
       "\n",
       "    .dataframe thead th {\n",
       "        text-align: right;\n",
       "    }\n",
       "</style>\n",
       "<table border=\"1\" class=\"dataframe\">\n",
       "  <thead>\n",
       "    <tr style=\"text-align: right;\">\n",
       "      <th></th>\n",
       "      <th>자전거번호</th>\n",
       "      <th>대여일시</th>\n",
       "      <th>대여 대여소번호</th>\n",
       "      <th>대여 대여소명</th>\n",
       "      <th>대여거치대</th>\n",
       "      <th>반납일시</th>\n",
       "      <th>반납대여소번호</th>\n",
       "      <th>반납대여소명</th>\n",
       "      <th>반납거치대</th>\n",
       "      <th>이용시간(분)</th>\n",
       "      <th>이용거리(M)</th>\n",
       "      <th>생년</th>\n",
       "      <th>성별</th>\n",
       "      <th>이용자종류</th>\n",
       "      <th>대여대여소ID</th>\n",
       "      <th>반납대여소ID</th>\n",
       "    </tr>\n",
       "  </thead>\n",
       "  <tbody>\n",
       "    <tr>\n",
       "      <th>8</th>\n",
       "      <td>SPB-57948</td>\n",
       "      <td>2022-09-01 00:00:00</td>\n",
       "      <td>354</td>\n",
       "      <td>포르투갈 대사관 앞</td>\n",
       "      <td>0</td>\n",
       "      <td>2022-09-01 00:03:33</td>\n",
       "      <td>03413</td>\n",
       "      <td>종로플레이스</td>\n",
       "      <td>0</td>\n",
       "      <td>3</td>\n",
       "      <td>1200.00</td>\n",
       "      <td>1997</td>\n",
       "      <td>M</td>\n",
       "      <td>내국인</td>\n",
       "      <td>ST-170</td>\n",
       "      <td>ST-1810</td>\n",
       "    </tr>\n",
       "    <tr>\n",
       "      <th>10</th>\n",
       "      <td>SPB-58852</td>\n",
       "      <td>2022-09-01 00:00:00</td>\n",
       "      <td>2164</td>\n",
       "      <td>관악우체국</td>\n",
       "      <td>0</td>\n",
       "      <td>2022-09-01 00:03:51</td>\n",
       "      <td>02190</td>\n",
       "      <td>도원맨션</td>\n",
       "      <td>0</td>\n",
       "      <td>3</td>\n",
       "      <td>560.00</td>\n",
       "      <td>1998</td>\n",
       "      <td>F</td>\n",
       "      <td>내국인</td>\n",
       "      <td>ST-1259</td>\n",
       "      <td>ST-2374</td>\n",
       "    </tr>\n",
       "    <tr>\n",
       "      <th>17</th>\n",
       "      <td>SPB-58698</td>\n",
       "      <td>2022-09-01 00:01:24</td>\n",
       "      <td>996</td>\n",
       "      <td>응암역2번출구 국민은행 앞</td>\n",
       "      <td>0</td>\n",
       "      <td>2022-09-01 00:04:13</td>\n",
       "      <td>00931</td>\n",
       "      <td>역촌파출소</td>\n",
       "      <td>0</td>\n",
       "      <td>2</td>\n",
       "      <td>500.00</td>\n",
       "      <td>1995</td>\n",
       "      <td>M</td>\n",
       "      <td>내국인</td>\n",
       "      <td>ST-2264</td>\n",
       "      <td>ST-479</td>\n",
       "    </tr>\n",
       "    <tr>\n",
       "      <th>19</th>\n",
       "      <td>SPB-30931</td>\n",
       "      <td>2022-09-01 00:00:23</td>\n",
       "      <td>1231</td>\n",
       "      <td>잠실역 6번출구</td>\n",
       "      <td>0</td>\n",
       "      <td>2022-09-01 00:04:27</td>\n",
       "      <td>04897</td>\n",
       "      <td>잠실주공5단지1</td>\n",
       "      <td>0</td>\n",
       "      <td>4</td>\n",
       "      <td>584.41</td>\n",
       "      <td>1988</td>\n",
       "      <td>F</td>\n",
       "      <td>내국인</td>\n",
       "      <td>ST-840</td>\n",
       "      <td>ST-2991</td>\n",
       "    </tr>\n",
       "    <tr>\n",
       "      <th>24</th>\n",
       "      <td>SPB-49229</td>\n",
       "      <td>2022-09-01 00:00:43</td>\n",
       "      <td>3586</td>\n",
       "      <td>군자역 비채온 오피스텔</td>\n",
       "      <td>0</td>\n",
       "      <td>2022-09-01 00:04:47</td>\n",
       "      <td>03549</td>\n",
       "      <td>건영아파트 앞</td>\n",
       "      <td>0</td>\n",
       "      <td>4</td>\n",
       "      <td>800.00</td>\n",
       "      <td>1970</td>\n",
       "      <td>F</td>\n",
       "      <td>내국인</td>\n",
       "      <td>ST-2325</td>\n",
       "      <td>ST-2331</td>\n",
       "    </tr>\n",
       "    <tr>\n",
       "      <th>...</th>\n",
       "      <td>...</td>\n",
       "      <td>...</td>\n",
       "      <td>...</td>\n",
       "      <td>...</td>\n",
       "      <td>...</td>\n",
       "      <td>...</td>\n",
       "      <td>...</td>\n",
       "      <td>...</td>\n",
       "      <td>...</td>\n",
       "      <td>...</td>\n",
       "      <td>...</td>\n",
       "      <td>...</td>\n",
       "      <td>...</td>\n",
       "      <td>...</td>\n",
       "      <td>...</td>\n",
       "      <td>...</td>\n",
       "    </tr>\n",
       "    <tr>\n",
       "      <th>4934785</th>\n",
       "      <td>SPB-61987</td>\n",
       "      <td>2022-09-30 21:41:49</td>\n",
       "      <td>178</td>\n",
       "      <td>증산3교 앞</td>\n",
       "      <td>0</td>\n",
       "      <td>2022-10-01 07:41:27</td>\n",
       "      <td>00178</td>\n",
       "      <td>증산3교 앞</td>\n",
       "      <td>0</td>\n",
       "      <td>599</td>\n",
       "      <td>1030.00</td>\n",
       "      <td>1996</td>\n",
       "      <td>M</td>\n",
       "      <td>내국인</td>\n",
       "      <td>ST-349</td>\n",
       "      <td>ST-349</td>\n",
       "    </tr>\n",
       "    <tr>\n",
       "      <th>4934786</th>\n",
       "      <td>SPB-38511</td>\n",
       "      <td>2022-09-30 22:12:20</td>\n",
       "      <td>4515</td>\n",
       "      <td>동문굿모닝탑</td>\n",
       "      <td>0</td>\n",
       "      <td>2022-10-01 07:41:36</td>\n",
       "      <td>00758</td>\n",
       "      <td>한사랑교회 앞</td>\n",
       "      <td>0</td>\n",
       "      <td>569</td>\n",
       "      <td>350.64</td>\n",
       "      <td>2003</td>\n",
       "      <td>F</td>\n",
       "      <td>내국인</td>\n",
       "      <td>ST-2765</td>\n",
       "      <td>ST-1499</td>\n",
       "    </tr>\n",
       "    <tr>\n",
       "      <th>4934794</th>\n",
       "      <td>SPB-46516</td>\n",
       "      <td>2022-09-30 23:04:37</td>\n",
       "      <td>1674</td>\n",
       "      <td>서울북부고용센터앞</td>\n",
       "      <td>0</td>\n",
       "      <td>2022-10-01 08:19:49</td>\n",
       "      <td>04018</td>\n",
       "      <td>상계주공15단지 버스정류소</td>\n",
       "      <td>0</td>\n",
       "      <td>555</td>\n",
       "      <td>1730.00</td>\n",
       "      <td>1977</td>\n",
       "      <td>M</td>\n",
       "      <td>내국인</td>\n",
       "      <td>ST-1291</td>\n",
       "      <td>ST-2709</td>\n",
       "    </tr>\n",
       "    <tr>\n",
       "      <th>4934797</th>\n",
       "      <td>SPB-58800</td>\n",
       "      <td>2022-09-30 23:33:55</td>\n",
       "      <td>1059</td>\n",
       "      <td>래미안 강동팰리스(102동)</td>\n",
       "      <td>0</td>\n",
       "      <td>2022-10-01 08:33:56</td>\n",
       "      <td>01060</td>\n",
       "      <td>천일초교 사거리</td>\n",
       "      <td>0</td>\n",
       "      <td>540</td>\n",
       "      <td>1600.00</td>\n",
       "      <td>1998</td>\n",
       "      <td>F</td>\n",
       "      <td>내국인</td>\n",
       "      <td>ST-1626</td>\n",
       "      <td>ST-1620</td>\n",
       "    </tr>\n",
       "    <tr>\n",
       "      <th>4934826</th>\n",
       "      <td>SPB-39606</td>\n",
       "      <td>2022-09-30 19:38:18</td>\n",
       "      <td>2719</td>\n",
       "      <td>마곡문화공원</td>\n",
       "      <td>0</td>\n",
       "      <td>2022-10-01 20:24:37</td>\n",
       "      <td>02723</td>\n",
       "      <td>마곡 필네이처</td>\n",
       "      <td>0</td>\n",
       "      <td>1486</td>\n",
       "      <td>926.94</td>\n",
       "      <td>1969</td>\n",
       "      <td>M</td>\n",
       "      <td>내국인</td>\n",
       "      <td>ST-2035</td>\n",
       "      <td>ST-2040</td>\n",
       "    </tr>\n",
       "  </tbody>\n",
       "</table>\n",
       "<p>2804875 rows × 16 columns</p>\n",
       "</div>"
      ],
      "text/plain": [
       "             자전거번호                 대여일시  대여 대여소번호          대여 대여소명  대여거치대  \\\n",
       "8        SPB-57948  2022-09-01 00:00:00       354       포르투갈 대사관 앞      0   \n",
       "10       SPB-58852  2022-09-01 00:00:00      2164            관악우체국      0   \n",
       "17       SPB-58698  2022-09-01 00:01:24       996   응암역2번출구 국민은행 앞      0   \n",
       "19       SPB-30931  2022-09-01 00:00:23      1231         잠실역 6번출구      0   \n",
       "24       SPB-49229  2022-09-01 00:00:43      3586     군자역 비채온 오피스텔      0   \n",
       "...            ...                  ...       ...              ...    ...   \n",
       "4934785  SPB-61987  2022-09-30 21:41:49       178           증산3교 앞      0   \n",
       "4934786  SPB-38511  2022-09-30 22:12:20      4515           동문굿모닝탑      0   \n",
       "4934794  SPB-46516  2022-09-30 23:04:37      1674        서울북부고용센터앞      0   \n",
       "4934797  SPB-58800  2022-09-30 23:33:55      1059  래미안 강동팰리스(102동)      0   \n",
       "4934826  SPB-39606  2022-09-30 19:38:18      2719           마곡문화공원      0   \n",
       "\n",
       "                        반납일시 반납대여소번호          반납대여소명 반납거치대  이용시간(분)  이용거리(M)  \\\n",
       "8        2022-09-01 00:03:33   03413          종로플레이스     0        3  1200.00   \n",
       "10       2022-09-01 00:03:51   02190            도원맨션     0        3   560.00   \n",
       "17       2022-09-01 00:04:13   00931           역촌파출소     0        2   500.00   \n",
       "19       2022-09-01 00:04:27   04897        잠실주공5단지1     0        4   584.41   \n",
       "24       2022-09-01 00:04:47   03549         건영아파트 앞     0        4   800.00   \n",
       "...                      ...     ...             ...   ...      ...      ...   \n",
       "4934785  2022-10-01 07:41:27   00178          증산3교 앞     0      599  1030.00   \n",
       "4934786  2022-10-01 07:41:36   00758         한사랑교회 앞     0      569   350.64   \n",
       "4934794  2022-10-01 08:19:49   04018  상계주공15단지 버스정류소     0      555  1730.00   \n",
       "4934797  2022-10-01 08:33:56   01060        천일초교 사거리     0      540  1600.00   \n",
       "4934826  2022-10-01 20:24:37   02723         마곡 필네이처     0     1486   926.94   \n",
       "\n",
       "           생년 성별 이용자종류  대여대여소ID  반납대여소ID  \n",
       "8        1997  M   내국인   ST-170  ST-1810  \n",
       "10       1998  F   내국인  ST-1259  ST-2374  \n",
       "17       1995  M   내국인  ST-2264   ST-479  \n",
       "19       1988  F   내국인   ST-840  ST-2991  \n",
       "24       1970  F   내국인  ST-2325  ST-2331  \n",
       "...       ... ..   ...      ...      ...  \n",
       "4934785  1996  M   내국인   ST-349   ST-349  \n",
       "4934786  2003  F   내국인  ST-2765  ST-1499  \n",
       "4934794  1977  M   내국인  ST-1291  ST-2709  \n",
       "4934797  1998  F   내국인  ST-1626  ST-1620  \n",
       "4934826  1969  M   내국인  ST-2035  ST-2040  \n",
       "\n",
       "[2804875 rows x 16 columns]"
      ]
     },
     "execution_count": 23,
     "metadata": {},
     "output_type": "execute_result"
    }
   ],
   "source": [
    "# 데이터 전처리\n",
    "\n",
    "## 결측치 제거\n",
    "df_bike = df_bike.dropna()\n",
    "\n",
    "## 성별 변환\n",
    "df_bike['성별'] = df_bike['성별'].replace({'m': 'M', 'f': 'F'})\n",
    "\n",
    "## \\N 제거\n",
    "df_bike = df_bike[df_bike['성별'] != \"\\\\N\"]\n",
    "\n",
    "## 이용거리 0 제거\n",
    "df_bike = df_bike[df_bike['이용거리(M)'] != 0.00]\n",
    "\n",
    "## 생년 \\N 제거\n",
    "df_bike = df_bike[df_bike['생년'] != \"\\\\N\"]\n",
    "\n",
    "## 생년 2022년 초과 제거\n",
    "df_bike['생년'] = df_bike['생년'].astype('int')\n",
    "df_bike = df_bike[df_bike['생년'] <= 2022]\n",
    "\n",
    "## 생년 0 제거\n",
    "df_bike = df_bike[df_bike['생년'] != 0]\n",
    "\n",
    "df_bike"
   ]
  },
  {
   "cell_type": "markdown",
   "metadata": {},
   "source": [
    "#### 두 집단 간 차이 분석 : t-test"
   ]
  },
  {
   "cell_type": "markdown",
   "metadata": {},
   "source": [
    "##### 가설설정\n",
    "* 가설 1: 성별이 대여이용시간에 영향을 미치는지 검증합니다.\n",
    "* 가설 2: 이용자종류가 대여이용시간에 영향을 미치는지 검증합니다.\n",
    "* 가설 3: 성별이 이용거리에 영향을 미치는지 검증합니다."
   ]
  },
  {
   "cell_type": "code",
   "execution_count": 24,
   "metadata": {},
   "outputs": [],
   "source": [
    "# 필요 라이브러리 import\n",
    "import pandas as pd\n",
    "from scipy import stats"
   ]
  },
  {
   "cell_type": "markdown",
   "metadata": {},
   "source": [
    "* 가설 1 검정"
   ]
  },
  {
   "cell_type": "code",
   "execution_count": 25,
   "metadata": {},
   "outputs": [],
   "source": [
    "# 가설 1: 성별에 따른 대여이용시간 차이 검정\n",
    "## 데이터 생성\n",
    "subset1 = df_bike[['성별', '이용시간(분)']].dropna()\n",
    "\n",
    "group1 = subset1[subset1['성별'] == 'M']['이용시간(분)']\n",
    "group2 = subset1[subset1['성별'] == 'F']['이용시간(분)']"
   ]
  },
  {
   "cell_type": "code",
   "execution_count": 26,
   "metadata": {},
   "outputs": [
    {
     "name": "stdout",
     "output_type": "stream",
     "text": [
      "Hypothesis 1: 성별에 따른 대여이용시간 차이\n",
      "t-statistic = -80.68753340284857\n",
      "p-value = 0.0\n"
     ]
    }
   ],
   "source": [
    "## 검정통계량 계산\n",
    "t_statistic1, p_value1 = stats.ttest_ind(group1, group2)\n",
    "\n",
    "print(\"Hypothesis 1: 성별에 따른 대여이용시간 차이\")\n",
    "print(\"t-statistic =\", t_statistic1)\n",
    "print(\"p-value =\", p_value1)"
   ]
  },
  {
   "cell_type": "code",
   "execution_count": 27,
   "metadata": {},
   "outputs": [
    {
     "name": "stdout",
     "output_type": "stream",
     "text": [
      "남성과 여성의 이용시간은 통계적으로 유의미한 차이가 있습니다.\n"
     ]
    }
   ],
   "source": [
    "## 결과 도출\n",
    "if p_value1 < 0.05:\n",
    "    print(\"남성과 여성의 이용시간은 통계적으로 유의미한 차이가 있습니다.\")\n",
    "else:\n",
    "    print(\"남성과 여성의 이용시간은 통계적으로 유의미한 차이가 없습니다.\")"
   ]
  },
  {
   "cell_type": "markdown",
   "metadata": {},
   "source": [
    "* 가설 2 검정"
   ]
  },
  {
   "cell_type": "code",
   "execution_count": 28,
   "metadata": {},
   "outputs": [],
   "source": [
    "# 가설 2: 이용자종류에 따른 대여이용시간 차이 검정\n",
    "## 데이터 생성\n",
    "subset2 = df_bike[['이용자종류', '이용시간(분)']].dropna()\n",
    "\n",
    "group3 = subset2[subset2['이용자종류'] == '내국인']['이용시간(분)']\n",
    "group4 = subset2[subset2['이용자종류'] == '비회원']['이용시간(분)']"
   ]
  },
  {
   "cell_type": "code",
   "execution_count": 29,
   "metadata": {},
   "outputs": [
    {
     "data": {
      "text/plain": [
       "array(['내국인', '비회원'], dtype=object)"
      ]
     },
     "execution_count": 29,
     "metadata": {},
     "output_type": "execute_result"
    }
   ],
   "source": [
    "subset2['이용자종류'].unique()"
   ]
  },
  {
   "cell_type": "code",
   "execution_count": 30,
   "metadata": {},
   "outputs": [
    {
     "name": "stdout",
     "output_type": "stream",
     "text": [
      "\n",
      "Hypothesis 2: 이용자종류에 따른 대여이용시간 차이\n",
      "t-statistic = -6.322249871950701\n",
      "p-value = 2.578206147965469e-10\n"
     ]
    }
   ],
   "source": [
    "## 검정통계량 계산\n",
    "t_statistic2, p_value2 = stats.ttest_ind(group3, group4)\n",
    "\n",
    "print(\"\\nHypothesis 2: 이용자종류에 따른 대여이용시간 차이\")\n",
    "print(\"t-statistic =\", t_statistic2)\n",
    "print(\"p-value =\", p_value2)"
   ]
  },
  {
   "cell_type": "code",
   "execution_count": 31,
   "metadata": {},
   "outputs": [
    {
     "name": "stdout",
     "output_type": "stream",
     "text": [
      "이용자종류에 따른 대여이용시간은 통계적으로 유의미한 차이가 있습니다.\n"
     ]
    }
   ],
   "source": [
    "## 결과 도출\n",
    "if p_value2 < 0.05:\n",
    "    print(\"이용자종류에 따른 대여이용시간은 통계적으로 유의미한 차이가 있습니다.\")\n",
    "else:\n",
    "    print(\"이용자종류에 따른 대여이용시간은 통계적으로 유의미한 차이가 없습니다.\")"
   ]
  },
  {
   "cell_type": "markdown",
   "metadata": {},
   "source": [
    "* 가설 3 검정"
   ]
  },
  {
   "cell_type": "code",
   "execution_count": 32,
   "metadata": {},
   "outputs": [],
   "source": [
    "# 가설 3: 성별에 따른 이동 거리 차이 검정\n",
    "## 데이터 생성\n",
    "subset3 = df_bike[['성별', '이용거리(M)']].dropna()\n",
    "\n",
    "group5 = subset3[subset3['성별'] == 'M']['이용거리(M)']\n",
    "group6 = subset3[subset3['성별'] == 'F']['이용거리(M)']"
   ]
  },
  {
   "cell_type": "code",
   "execution_count": 33,
   "metadata": {},
   "outputs": [
    {
     "name": "stdout",
     "output_type": "stream",
     "text": [
      "\n",
      "Hypothesis 3: 성별에 따른 이동 거리 차이 검정\n",
      "t-statistic = -30.605755037444887\n",
      "p-value = 1.1097497168501874e-205\n"
     ]
    }
   ],
   "source": [
    "## 검정통계량 계산\n",
    "t_statistic3, p_value3 = stats.ttest_ind(group5, group6)\n",
    "\n",
    "print(\"\\nHypothesis 3: 성별에 따른 이동 거리 차이 검정\")\n",
    "print(\"t-statistic =\", t_statistic3)\n",
    "print(\"p-value =\", p_value3)"
   ]
  },
  {
   "cell_type": "code",
   "execution_count": 34,
   "metadata": {},
   "outputs": [
    {
     "name": "stdout",
     "output_type": "stream",
     "text": [
      "성별에 따른 이동 거리는 통계적으로 유의미한 차이가 있습니다.\n"
     ]
    }
   ],
   "source": [
    "## 결과 도출\n",
    "if p_value3 < 0.05:\n",
    "    print(\"성별에 따른 이동 거리는 통계적으로 유의미한 차이가 있습니다.\")\n",
    "else:\n",
    "    print(\"성별에 따른 이동 거리는 통계적으로 유의미한 차이가 없습니다.\")"
   ]
  },
  {
   "cell_type": "markdown",
   "metadata": {},
   "source": [
    "#### 세 집단 이상 차이 분석 : ANOVA"
   ]
  },
  {
   "cell_type": "markdown",
   "metadata": {},
   "source": [
    "##### 가설설정\n",
    "* '생년'의 그룹에 따라 '이용시간'이 유의미하게 다를까요?"
   ]
  },
  {
   "cell_type": "markdown",
   "metadata": {},
   "source": [
    "* 가설 검정"
   ]
  },
  {
   "cell_type": "code",
   "execution_count": 35,
   "metadata": {},
   "outputs": [],
   "source": [
    "# 필요 라이브러리 import\n",
    "import pandas as pd\n",
    "import numpy as np\n",
    "from scipy.stats import f_oneway"
   ]
  },
  {
   "cell_type": "code",
   "execution_count": 36,
   "metadata": {},
   "outputs": [
    {
     "data": {
      "text/plain": [
       "[584.41, 800.0]"
      ]
     },
     "execution_count": 36,
     "metadata": {},
     "output_type": "execute_result"
    }
   ],
   "source": [
    "## 데이터 생성\n",
    "# 생년 그룹화\n",
    "distances = df_bike['이용거리(M)']\n",
    "birth_years = df_bike['생년']\n",
    "\n",
    "group1 = [distance for distance, year in zip(distances, birth_years) if year <= 1990]\n",
    "group2 = [distance for distance, year in zip(distances, birth_years) if 1990 < year <= 2000]\n",
    "group3 = [distance for distance, year in zip(distances, birth_years) if year > 2000]\n",
    "group1[:2]"
   ]
  },
  {
   "cell_type": "code",
   "execution_count": 37,
   "metadata": {},
   "outputs": [],
   "source": [
    "## 검정통계량 계산\n",
    "# 분산분석\n",
    "f_value, p_value = f_oneway(group1, group2, group3)"
   ]
  },
  {
   "cell_type": "code",
   "execution_count": 38,
   "metadata": {},
   "outputs": [
    {
     "name": "stdout",
     "output_type": "stream",
     "text": [
      "=== 가설 1: marketType에 따른 userCount 분산분석 결과 ===\n",
      "F-value: 4812.311521587342\n",
      "p-value: 0.0\n"
     ]
    }
   ],
   "source": [
    "## 결과 도출\n",
    "print(\"=== 가설 1: marketType에 따른 userCount 분산분석 결과 ===\")\n",
    "print(\"F-value:\", f_value)\n",
    "print(\"p-value:\", p_value)"
   ]
  },
  {
   "cell_type": "markdown",
   "metadata": {},
   "source": [
    "#### 상관분석"
   ]
  },
  {
   "cell_type": "code",
   "execution_count": 39,
   "metadata": {},
   "outputs": [],
   "source": [
    "# 필요 라이브러리 import\n",
    "import pandas as pd\n",
    "from scipy.stats import pearsonr\n",
    "import seaborn as sns\n",
    "import matplotlib.pyplot as plt"
   ]
  },
  {
   "cell_type": "code",
   "execution_count": 40,
   "metadata": {},
   "outputs": [],
   "source": [
    "# 데이터 프레임 분리\n",
    "df = df_bike[['이용거리(M)','이용시간(분)']]"
   ]
  },
  {
   "cell_type": "code",
   "execution_count": 41,
   "metadata": {},
   "outputs": [],
   "source": [
    "# 상관 분석 수행\n",
    "correlation, p_value = pearsonr(df['이용거리(M)'], df['이용시간(분)'])"
   ]
  },
  {
   "cell_type": "code",
   "execution_count": 42,
   "metadata": {},
   "outputs": [
    {
     "name": "stdout",
     "output_type": "stream",
     "text": [
      "Correlation coefficient: 0.6262693392537388\n",
      "p-value: 0.0\n"
     ]
    }
   ],
   "source": [
    "# 결과 출력\n",
    "print(\"Correlation coefficient:\", correlation)\n",
    "print(\"p-value:\", p_value)"
   ]
  },
  {
   "cell_type": "code",
   "execution_count": 43,
   "metadata": {},
   "outputs": [
    {
     "data": {
      "image/png": "[encoded data removed]",
      "text/plain": [
       "<Figure size 640x480 with 2 Axes>"
      ]
     },
     "metadata": {},
     "output_type": "display_data"
    }
   ],
   "source": [
    "# 상관계수 계산\n",
    "correlation_matrix = df.corr()\n",
    "\n",
    "# 한글 폰트 설정 적용\n",
    "plt.rcParams['font.family'] = 'malgun Gothic'\n",
    "\n",
    "sns.heatmap(correlation_matrix, annot=True, cmap='coolwarm')\n",
    "plt.title('Correlation Heatmap - Duration vs Distance')\n",
    "\n",
    "# 그래프 표시\n",
    "plt.show()"
   ]
  },
  {
   "cell_type": "markdown",
   "metadata": {},
   "source": [
    "#### 회귀분석\n",
    "* 종속변수는 이용시간(분)\n",
    "* 독립변수는 생년,\t성별,\t이용자종류"
   ]
  },
  {
   "cell_type": "code",
   "execution_count": 45,
   "metadata": {},
   "outputs": [
    {
     "name": "stdout",
     "output_type": "stream",
     "text": [
      "                            OLS Regression Results                            \n",
      "==============================================================================\n",
      "Dep. Variable:                이용시간(분)   R-squared:                       0.002\n",
      "Model:                            OLS   Adj. R-squared:                  0.002\n",
      "Method:                 Least Squares   F-statistic:                     3276.\n",
      "Date:                Mon, 03 Jul 2023   Prob (F-statistic):               0.00\n",
      "Time:                        16:21:04   Log-Likelihood:            -1.3369e+07\n",
      "No. Observations:             2804875   AIC:                         2.674e+07\n",
      "Df Residuals:                 2804872   BIC:                         2.674e+07\n",
      "Df Model:                           2                                         \n",
      "Covariance Type:            nonrobust                                         \n",
      "==============================================================================\n",
      "                 coef    std err          t      P>|t|      [0.025      0.975]\n",
      "------------------------------------------------------------------------------\n",
      "const         25.0273      0.027    933.860      0.000      24.975      25.080\n",
      "성별_M          -2.7949      0.035    -80.698      0.000      -2.863      -2.727\n",
      "이용자종류_비회원     26.2013      4.061      6.451      0.000      18.241      34.162\n",
      "==============================================================================\n",
      "Omnibus:                  4038875.932   Durbin-Watson:                   1.708\n",
      "Prob(Omnibus):                  0.000   Jarque-Bera (JB):      12600148682.136\n",
      "Skew:                           7.801   Prob(JB):                         0.00\n",
      "Kurtosis:                     330.979   Cond. No.                         286.\n",
      "==============================================================================\n",
      "\n",
      "Notes:\n",
      "[1] Standard Errors assume that the covariance matrix of the errors is correctly specified.\n"
     ]
    }
   ],
   "source": [
    "import pandas as pd\n",
    "import statsmodels.api as sm\n",
    "\n",
    "# 범주형 변수 변환\n",
    "categorical_cols = ['성별',\t'이용자종류']\n",
    "data_encoded = pd.get_dummies(df_bike[['성별', '이용자종류', '이용시간(분)']], columns=categorical_cols, drop_first=True).astype('int')\n",
    "\n",
    "# 독립변수/종속변수 설정\n",
    "y = data_encoded['이용시간(분)']\n",
    "X = data_encoded.drop('이용시간(분)', axis=1)\n",
    "\n",
    "# 상수항 추가\n",
    "X = sm.add_constant(X)\n",
    "\n",
    "# 회귀식 도출\n",
    "model = sm.OLS(y, X).fit()\n",
    "\n",
    "# 결과 출력\n",
    "print(model.summary())"
   ]
  },
  {
   "cell_type": "code",
   "execution_count": 46,
   "metadata": {},
   "outputs": [
    {
     "data": {
      "text/plain": [
       "2804875"
      ]
     },
     "execution_count": 46,
     "metadata": {},
     "output_type": "execute_result"
    }
   ],
   "source": [
    "len(df_bike)"
   ]
  },
  {
   "cell_type": "code",
   "execution_count": null,
   "metadata": {},
   "outputs": [],
   "source": []
  }
 ],
 "metadata": {
  "kernelspec": {
   "display_name": "Python 3 (ipykernel)",
   "language": "python",
   "name": "python3"
  },
  "language_info": {
   "codemirror_mode": {
    "name": "ipython",
    "version": 3
   },
   "file_extension": ".py",
   "mimetype": "text/x-python",
   "name": "python",
   "nbconvert_exporter": "python",
   "pygments_lexer": "ipython3",
   "version": "3.11.3"
  }
 },
 "nbformat": 4,
 "nbformat_minor": 4
}
