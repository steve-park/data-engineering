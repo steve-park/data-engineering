{
 "cells": [
  {
   "cell_type": "markdown",
   "id": "3f0e1e91-85d9-4823-8e49-736221450d1b",
   "metadata": {},
   "source": [
    "## 데이터 로딩"
   ]
  },
  {
   "cell_type": "code",
   "execution_count": 1,
   "id": "c4bdb208-936c-443b-93c6-78365b23cdc1",
   "metadata": {},
   "outputs": [],
   "source": [
    "import numpy as np\n",
    "import pandas as pd"
   ]
  },
  {
   "cell_type": "code",
   "execution_count": 2,
   "id": "34554a85-f584-4268-897f-ae56fdafa512",
   "metadata": {},
   "outputs": [],
   "source": [
    "pd.options.display.max_rows = 2000\n",
    "pd.options.display.max_columns = 25\n",
    "pd.options.display.float_format = '{:,.4f}'.format"
   ]
  },
  {
   "cell_type": "code",
   "execution_count": 3,
   "id": "0b38368a-d826-4beb-b5d5-1e710c9614ca",
   "metadata": {},
   "outputs": [],
   "source": [
    "df = pd.read_csv('./서울특별시 공공자전거 대여이력 정보_2209.csv', encoding='cp949')"
   ]
  },
  {
   "cell_type": "code",
   "execution_count": 81,
   "id": "09a1d3ab-a30c-476d-8ee0-7c525818cec0",
   "metadata": {},
   "outputs": [
    {
     "data": {
      "text/html": [
       "<div>\n",
       "<style scoped>\n",
       "    .dataframe tbody tr th:only-of-type {\n",
       "        vertical-align: middle;\n",
       "    }\n",
       "\n",
       "    .dataframe tbody tr th {\n",
       "        vertical-align: top;\n",
       "    }\n",
       "\n",
       "    .dataframe thead th {\n",
       "        text-align: right;\n",
       "    }\n",
       "</style>\n",
       "<table border=\"1\" class=\"dataframe\">\n",
       "  <thead>\n",
       "    <tr style=\"text-align: right;\">\n",
       "      <th></th>\n",
       "      <th>자전거번호</th>\n",
       "      <th>대여일시</th>\n",
       "      <th>대여 대여소번호</th>\n",
       "      <th>대여 대여소명</th>\n",
       "      <th>대여거치대</th>\n",
       "      <th>반납일시</th>\n",
       "      <th>반납대여소번호</th>\n",
       "      <th>반납대여소명</th>\n",
       "      <th>반납거치대</th>\n",
       "      <th>이용시간(분)</th>\n",
       "      <th>이용거리(M)</th>\n",
       "      <th>생년</th>\n",
       "      <th>성별</th>\n",
       "      <th>이용자종류</th>\n",
       "      <th>대여대여소ID</th>\n",
       "      <th>반납대여소ID</th>\n",
       "    </tr>\n",
       "  </thead>\n",
       "  <tbody>\n",
       "    <tr>\n",
       "      <th>8</th>\n",
       "      <td>SPB-57948</td>\n",
       "      <td>2022-09-01 00:00:00</td>\n",
       "      <td>354</td>\n",
       "      <td>포르투갈 대사관 앞</td>\n",
       "      <td>0</td>\n",
       "      <td>2022-09-01 00:03:33</td>\n",
       "      <td>03413</td>\n",
       "      <td>종로플레이스</td>\n",
       "      <td>0</td>\n",
       "      <td>3</td>\n",
       "      <td>1,200.0000</td>\n",
       "      <td>1997</td>\n",
       "      <td>M</td>\n",
       "      <td>내국인</td>\n",
       "      <td>ST-170</td>\n",
       "      <td>ST-1810</td>\n",
       "    </tr>\n",
       "    <tr>\n",
       "      <th>10</th>\n",
       "      <td>SPB-58852</td>\n",
       "      <td>2022-09-01 00:00:00</td>\n",
       "      <td>2164</td>\n",
       "      <td>관악우체국</td>\n",
       "      <td>0</td>\n",
       "      <td>2022-09-01 00:03:51</td>\n",
       "      <td>02190</td>\n",
       "      <td>도원맨션</td>\n",
       "      <td>0</td>\n",
       "      <td>3</td>\n",
       "      <td>560.0000</td>\n",
       "      <td>1998</td>\n",
       "      <td>F</td>\n",
       "      <td>내국인</td>\n",
       "      <td>ST-1259</td>\n",
       "      <td>ST-2374</td>\n",
       "    </tr>\n",
       "  </tbody>\n",
       "</table>\n",
       "</div>"
      ],
      "text/plain": [
       "        자전거번호                 대여일시  대여 대여소번호     대여 대여소명  대여거치대  \\\n",
       "8   SPB-57948  2022-09-01 00:00:00       354  포르투갈 대사관 앞      0   \n",
       "10  SPB-58852  2022-09-01 00:00:00      2164       관악우체국      0   \n",
       "\n",
       "                   반납일시 반납대여소번호  반납대여소명  반납거치대  이용시간(분)    이용거리(M)    생년 성별  \\\n",
       "8   2022-09-01 00:03:33   03413  종로플레이스      0        3 1,200.0000  1997  M   \n",
       "10  2022-09-01 00:03:51   02190    도원맨션      0        3   560.0000  1998  F   \n",
       "\n",
       "   이용자종류  대여대여소ID  반납대여소ID  \n",
       "8    내국인   ST-170  ST-1810  \n",
       "10   내국인  ST-1259  ST-2374  "
      ]
     },
     "execution_count": 81,
     "metadata": {},
     "output_type": "execute_result"
    }
   ],
   "source": [
    "df.head(2)"
   ]
  },
  {
   "cell_type": "code",
   "execution_count": 5,
   "id": "d9d12209-d398-46c1-bb7d-017daac4c514",
   "metadata": {},
   "outputs": [
    {
     "name": "stdout",
     "output_type": "stream",
     "text": [
      "<class 'pandas.core.frame.DataFrame'>\n",
      "RangeIndex: 4934841 entries, 0 to 4934840\n",
      "Data columns (total 16 columns):\n",
      " #   Column    Dtype  \n",
      "---  ------    -----  \n",
      " 0   자전거번호     object \n",
      " 1   대여일시      object \n",
      " 2   대여 대여소번호  int64  \n",
      " 3   대여 대여소명   object \n",
      " 4   대여거치대     int64  \n",
      " 5   반납일시      object \n",
      " 6   반납대여소번호   object \n",
      " 7   반납대여소명    object \n",
      " 8   반납거치대     object \n",
      " 9   이용시간(분)   int64  \n",
      " 10  이용거리(M)   float64\n",
      " 11  생년        object \n",
      " 12  성별        object \n",
      " 13  이용자종류     object \n",
      " 14  대여대여소ID   object \n",
      " 15  반납대여소ID   object \n",
      "dtypes: float64(1), int64(3), object(12)\n",
      "memory usage: 4.2 GB\n"
     ]
    }
   ],
   "source": [
    "df.info(memory_usage='deep')"
   ]
  },
  {
   "cell_type": "markdown",
   "id": "e98a7024-e231-4492-b2d3-489617de2046",
   "metadata": {},
   "source": [
    "## 데이터 탐색"
   ]
  },
  {
   "cell_type": "code",
   "execution_count": 6,
   "id": "ce7ea73c-27a5-49d3-8936-aefb9b202ab7",
   "metadata": {},
   "outputs": [
    {
     "name": "stdout",
     "output_type": "stream",
     "text": [
      "반납거치대 - ['0' '99' '\\\\N']\n",
      "생년 - ['2006' '1957' '2004' '\\\\N' '1993' '1997' '2000' '1982' '1998' '1959'\n",
      " '1999' '1994' '1995' '1985' '1988' '2003' '1970' '1963' '2002' '1991'\n",
      " '1984' '1996' '1989' '2001' '1992' '1980' '1962' '1971' '1977' '1981'\n",
      " '1973' '1960' '1974' '1990' '1964' '1975' '1987' '2005' '1979' '1966'\n",
      " '1978' '1986' '1965' '1968' '1958' '1983' '1967' '1972' '1969' '1901'\n",
      " '1961' '1976' '1904' '2007' '2020' '2096' '2083' '1956' '1955' '1953'\n",
      " '1954' '2077' '1952' '1938' '2094' '1906' '2093' '2098' '1942' '1943'\n",
      " '1937' '1948' '1939' '1914' '1950' '2009' '1949' '2076' '1951' '1936'\n",
      " '1945' '2019' '2064' '2097' '1941' '2068' '2008' '1902' '2081' '2065'\n",
      " '2069' '1946' '2062' '1947' '1905' '2079' '2012' '1944' '2090' '2095'\n",
      " '1935' '2011' '2070' '2074' '2087' '1903' '1932' '2085' '1934' '2078'\n",
      " '1928' '2080' '2010' '1940' '2086' '2084' '2073' '1933' '1912' '2060'\n",
      " '1907' '2063' '2099' '2016' '2015' '2049' '2059' '2091' '2051' '2092'\n",
      " '1909' '2088' '1922' '2021' '2082' '2075' '2072' '2058' '2089' '2071'\n",
      " '1918' '0000' '2018' '2014' '2017' '1926' '2057' '1927' '1910' '2056'\n",
      " '2067' '1925' '1915' '1908' '1900' '2066' '1931' '1916' '2061' '2048'\n",
      " '2053' '1917' '1930' '1920' '1913' '1923' '2030' '2054' '1929' '2013'\n",
      " '2026' '2052' '2022' '1921' '2047']\n",
      "성별 - ['M' '\\\\N' 'F' nan 'm' 'f']\n",
      "이용자종류 - ['내국인' '비회원' '외국인']\n"
     ]
    }
   ],
   "source": [
    "for column in ['반납거치대', '생년', '성별', '이용자종류']:\n",
    "    print(f'{column} - {df[column].unique()}')"
   ]
  },
  {
   "cell_type": "markdown",
   "id": "67a61a5a-afa3-4154-8df9-5a3535eea380",
   "metadata": {},
   "source": [
    "## 데이터 전처리"
   ]
  },
  {
   "cell_type": "code",
   "execution_count": 13,
   "id": "88dd7f6b-f2bd-494f-bce4-e651ebb68e4b",
   "metadata": {},
   "outputs": [
    {
     "data": {
      "text/plain": [
       "자전거번호       0\n",
       "대여일시        0\n",
       "대여 대여소번호    0\n",
       "대여 대여소명     0\n",
       "대여거치대       0\n",
       "반납일시        0\n",
       "반납대여소번호     0\n",
       "반납대여소명      0\n",
       "반납거치대       0\n",
       "이용시간(분)     0\n",
       "이용거리(M)     0\n",
       "생년          0\n",
       "성별          0\n",
       "이용자종류       0\n",
       "대여대여소ID     0\n",
       "반납대여소ID     0\n",
       "dtype: int64"
      ]
     },
     "execution_count": 13,
     "metadata": {},
     "output_type": "execute_result"
    }
   ],
   "source": [
    "df.isna().sum()"
   ]
  },
  {
   "cell_type": "code",
   "execution_count": 11,
   "id": "ca0a2e91-b608-4cb4-ade6-32b974f0d099",
   "metadata": {},
   "outputs": [
    {
     "data": {
      "text/html": [
       "<div>\n",
       "<style scoped>\n",
       "    .dataframe tbody tr th:only-of-type {\n",
       "        vertical-align: middle;\n",
       "    }\n",
       "\n",
       "    .dataframe tbody tr th {\n",
       "        vertical-align: top;\n",
       "    }\n",
       "\n",
       "    .dataframe thead th {\n",
       "        text-align: right;\n",
       "    }\n",
       "</style>\n",
       "<table border=\"1\" class=\"dataframe\">\n",
       "  <thead>\n",
       "    <tr style=\"text-align: right;\">\n",
       "      <th></th>\n",
       "      <th>자전거번호</th>\n",
       "      <th>대여일시</th>\n",
       "      <th>대여 대여소번호</th>\n",
       "      <th>대여 대여소명</th>\n",
       "      <th>대여거치대</th>\n",
       "      <th>반납일시</th>\n",
       "      <th>반납대여소번호</th>\n",
       "      <th>반납대여소명</th>\n",
       "      <th>반납거치대</th>\n",
       "      <th>이용시간(분)</th>\n",
       "      <th>이용거리(M)</th>\n",
       "      <th>생년</th>\n",
       "      <th>성별</th>\n",
       "      <th>이용자종류</th>\n",
       "      <th>대여대여소ID</th>\n",
       "      <th>반납대여소ID</th>\n",
       "    </tr>\n",
       "  </thead>\n",
       "  <tbody>\n",
       "    <tr>\n",
       "      <th>5</th>\n",
       "      <td>SPB-60707</td>\n",
       "      <td>2022-09-01 00:00:20</td>\n",
       "      <td>1987</td>\n",
       "      <td>개봉아이파크아파트 앞</td>\n",
       "      <td>0</td>\n",
       "      <td>2022-09-01 00:02:52</td>\n",
       "      <td>01936</td>\n",
       "      <td>개봉역 1번 출구 자전거보관서쪽</td>\n",
       "      <td>0</td>\n",
       "      <td>2</td>\n",
       "      <td>920.0000</td>\n",
       "      <td>1997</td>\n",
       "      <td>NaN</td>\n",
       "      <td>내국인</td>\n",
       "      <td>ST-1522</td>\n",
       "      <td>ST-870</td>\n",
       "    </tr>\n",
       "    <tr>\n",
       "      <th>32</th>\n",
       "      <td>SPB-82038</td>\n",
       "      <td>2022-09-01 00:01:22</td>\n",
       "      <td>2340</td>\n",
       "      <td>삼호물산버스정류장(23370) 옆</td>\n",
       "      <td>99</td>\n",
       "      <td>2022-09-01 00:05:41</td>\n",
       "      <td>02276</td>\n",
       "      <td>영동1교 (양재천근린공원)</td>\n",
       "      <td>99</td>\n",
       "      <td>4</td>\n",
       "      <td>1,020.0000</td>\n",
       "      <td>1984</td>\n",
       "      <td>NaN</td>\n",
       "      <td>내국인</td>\n",
       "      <td>ST-821</td>\n",
       "      <td>ST-1168</td>\n",
       "    </tr>\n",
       "  </tbody>\n",
       "</table>\n",
       "</div>"
      ],
      "text/plain": [
       "        자전거번호                 대여일시  대여 대여소번호             대여 대여소명  대여거치대  \\\n",
       "5   SPB-60707  2022-09-01 00:00:20      1987         개봉아이파크아파트 앞      0   \n",
       "32  SPB-82038  2022-09-01 00:01:22      2340  삼호물산버스정류장(23370) 옆     99   \n",
       "\n",
       "                   반납일시 반납대여소번호             반납대여소명 반납거치대  이용시간(분)    이용거리(M)  \\\n",
       "5   2022-09-01 00:02:52   01936  개봉역 1번 출구 자전거보관서쪽     0        2   920.0000   \n",
       "32  2022-09-01 00:05:41   02276     영동1교 (양재천근린공원)    99        4 1,020.0000   \n",
       "\n",
       "      생년   성별 이용자종류  대여대여소ID  반납대여소ID  \n",
       "5   1997  NaN   내국인  ST-1522   ST-870  \n",
       "32  1984  NaN   내국인   ST-821  ST-1168  "
      ]
     },
     "execution_count": 11,
     "metadata": {},
     "output_type": "execute_result"
    }
   ],
   "source": [
    "df[df.성별.isna()].head(2)"
   ]
  },
  {
   "cell_type": "code",
   "execution_count": 12,
   "id": "33e827b2-db54-45be-8c75-5575f86b3c07",
   "metadata": {},
   "outputs": [],
   "source": [
    "df = df.dropna()"
   ]
  },
  {
   "cell_type": "code",
   "execution_count": 32,
   "id": "8da06244-36ee-4ef7-af14-cab3f748814c",
   "metadata": {},
   "outputs": [
    {
     "name": "stdout",
     "output_type": "stream",
     "text": [
      "반납거치대 - ['0' '99']\n",
      "생년 - ['2006' '2004' '1993' '1982' '1997' '1998' '1999' '1995' '1988' '1970'\n",
      " '1963' '1994' '1989' '1962' '2002' '2003' '2001' '1959' '1981' '1973'\n",
      " '1984' '1996' '1992' '1974' '2000' '1990' '1975' '2005' '1960' '1978'\n",
      " '1986' '1965' '1991' '1977' '1968' '1971' '1983' '1964' '1967' '1972'\n",
      " '1969' '1958' '1961' '1980' '1957' '1976' '1904' '1979' '1987' '2007'\n",
      " '1985' '1966' '2020' '2096' '2083' '1956' '1955' '2077' '1954' '1953'\n",
      " '1952' '1938' '2094' '1906' '2093' '2098' '1942' '1943' '1937' '1948'\n",
      " '1939' '1949' '2076' '1901' '1951' '1945' '2019' '2064' '2097' '1941'\n",
      " '2068' '2008' '2081' '2065' '1936' '1950' '2069' '1946' '2062' '1947'\n",
      " '1905' '2079' '2090' '2095' '1935' '2011' '2070' '2074' '2087' '1903'\n",
      " '2009' '1932' '1944' '2085' '1934' '2078' '1928' '2080' '2010' '1940'\n",
      " '2086' '2084' '2073' '1933' '2060' '2063' '2099' '2016' '2015' '2049'\n",
      " '2059' '2091' '2051' '1902' '2092' '2088' '2021' '1907' '2082' '2075'\n",
      " '2072' '2058' '2089' '2071' '0000' '2014' '2017' '2057' '1927' '2056'\n",
      " '2067' '1908' '1900' '2066' '1916' '2061' '2048' '2053' '1930' '1920'\n",
      " '2018' '2012' '1910' '2030' '2054' '1929' '1931' '2026' '2052' '2022'\n",
      " '1921' '2013' '2047']\n",
      "성별 - ['M' 'F']\n",
      "이용자종류 - ['내국인' '비회원']\n"
     ]
    }
   ],
   "source": [
    "for column in ['반납거치대', '생년', '성별', '이용자종류']:\n",
    "    print(f'{column} - {df[column].unique()}')"
   ]
  },
  {
   "cell_type": "code",
   "execution_count": 17,
   "id": "238aed72-5628-43cc-bf0a-f6f494527b82",
   "metadata": {},
   "outputs": [],
   "source": [
    "df = df[df.성별 != '\\\\N']"
   ]
  },
  {
   "cell_type": "code",
   "execution_count": 22,
   "id": "01672a8c-728d-425b-b686-d1413aa3cafc",
   "metadata": {},
   "outputs": [],
   "source": [
    "df = df[df.생년 != '\\\\N']"
   ]
  },
  {
   "cell_type": "code",
   "execution_count": 30,
   "id": "fc8f24b3-5ed4-4ac1-93fc-08d0d8ada632",
   "metadata": {},
   "outputs": [],
   "source": [
    "df = df[df.반납거치대 != '\\\\N']"
   ]
  },
  {
   "cell_type": "code",
   "execution_count": 20,
   "id": "686d7357-869d-44f0-aec2-3a23e323feaa",
   "metadata": {},
   "outputs": [],
   "source": [
    "df['성별'] = df['성별'].replace({'m':'M', 'f':'F'})"
   ]
  },
  {
   "cell_type": "code",
   "execution_count": 61,
   "id": "c93501a5-eb27-406b-bd39-1b1026c2e11d",
   "metadata": {},
   "outputs": [
    {
     "name": "stdout",
     "output_type": "stream",
     "text": [
      "<class 'pandas.core.frame.DataFrame'>\n",
      "Index: 2795345 entries, 8 to 4934826\n",
      "Data columns (total 16 columns):\n",
      " #   Column    Dtype  \n",
      "---  ------    -----  \n",
      " 0   자전거번호     object \n",
      " 1   대여일시      object \n",
      " 2   대여 대여소번호  int64  \n",
      " 3   대여 대여소명   object \n",
      " 4   대여거치대     int64  \n",
      " 5   반납일시      object \n",
      " 6   반납대여소번호   object \n",
      " 7   반납대여소명    object \n",
      " 8   반납거치대     int32  \n",
      " 9   이용시간(분)   int64  \n",
      " 10  이용거리(M)   float64\n",
      " 11  생년        int32  \n",
      " 12  성별        object \n",
      " 13  이용자종류     object \n",
      " 14  대여대여소ID   object \n",
      " 15  반납대여소ID   object \n",
      "dtypes: float64(1), int32(2), int64(3), object(10)\n",
      "memory usage: 341.2+ MB\n"
     ]
    }
   ],
   "source": [
    "df.info()"
   ]
  },
  {
   "cell_type": "code",
   "execution_count": 36,
   "id": "3b7720f3-5fb9-4a2b-87eb-effd650b85c6",
   "metadata": {},
   "outputs": [],
   "source": [
    "df['반납거치대'] = df['반납거치대'].astype('int')"
   ]
  },
  {
   "cell_type": "code",
   "execution_count": 42,
   "id": "40706b13-9ce8-4fd7-bba3-034c3ee16371",
   "metadata": {},
   "outputs": [],
   "source": [
    "df = df[df['이용시간(분)'] != 0]"
   ]
  },
  {
   "cell_type": "code",
   "execution_count": 47,
   "id": "38cd5853-7ef2-4dd4-8462-362370522965",
   "metadata": {},
   "outputs": [],
   "source": [
    "df = df[df['이용거리(M)'] != 0 ]"
   ]
  },
  {
   "cell_type": "code",
   "execution_count": 52,
   "id": "03604adc-dd20-43f6-87ab-89bc6deb6465",
   "metadata": {},
   "outputs": [],
   "source": [
    "df.loc[:, '생년'] = df['생년'].astype('int')"
   ]
  },
  {
   "cell_type": "code",
   "execution_count": 60,
   "id": "62f43648-f8e2-4634-b45f-a78579340ef1",
   "metadata": {
    "collapsed": true,
    "jupyter": {
     "outputs_hidden": true
    }
   },
   "outputs": [
    {
     "data": {
      "text/plain": [
       "생년\n",
       "1900        27\n",
       "1901        62\n",
       "1902        47\n",
       "1903       163\n",
       "1904       150\n",
       "1905       239\n",
       "1906       157\n",
       "1907       171\n",
       "1908        18\n",
       "1910         5\n",
       "1916        11\n",
       "1920        13\n",
       "1921         2\n",
       "1927        38\n",
       "1928        40\n",
       "1929         2\n",
       "1930         3\n",
       "1931         1\n",
       "1932        51\n",
       "1933       235\n",
       "1934       155\n",
       "1935       231\n",
       "1936       231\n",
       "1937       350\n",
       "1938       170\n",
       "1939       180\n",
       "1940       221\n",
       "1941       293\n",
       "1942       469\n",
       "1943       307\n",
       "1944       726\n",
       "1945       501\n",
       "1946       547\n",
       "1947       635\n",
       "1948      1609\n",
       "1949       858\n",
       "1950      1190\n",
       "1951      1351\n",
       "1952      2159\n",
       "1953      2414\n",
       "1954      4004\n",
       "1955      4729\n",
       "1956      4604\n",
       "1957      6796\n",
       "1958      8066\n",
       "1959      9945\n",
       "1960     12906\n",
       "1961     15353\n",
       "1962     15381\n",
       "1963     16131\n",
       "1964     18506\n",
       "1965     20437\n",
       "1966     22035\n",
       "1967     27142\n",
       "1968     28072\n",
       "1969     32609\n",
       "1970     35194\n",
       "1971     37069\n",
       "1972     37872\n",
       "1973     38504\n",
       "1974     41491\n",
       "1975     37844\n",
       "1976     39594\n",
       "1977     40774\n",
       "1978     40513\n",
       "1979     47521\n",
       "1980     49010\n",
       "1981     54511\n",
       "1982     53578\n",
       "1983     53206\n",
       "1984     51008\n",
       "1985     51056\n",
       "1986     55566\n",
       "1987     59679\n",
       "1988     70054\n",
       "1989     73588\n",
       "1990     86727\n",
       "1991    104991\n",
       "1992    116769\n",
       "1993    121606\n",
       "1994    126913\n",
       "1995    128571\n",
       "1996    119115\n",
       "1997    116010\n",
       "1998    103802\n",
       "1999     82322\n",
       "2000     74424\n",
       "2001     61322\n",
       "2002     59237\n",
       "2003     71371\n",
       "2004     66533\n",
       "2005     51665\n",
       "2006     40878\n",
       "2007     22823\n",
       "2008      7010\n",
       "2009      1882\n",
       "2010        64\n",
       "2011        46\n",
       "2012        13\n",
       "2013         1\n",
       "2014        23\n",
       "2015       107\n",
       "2016        96\n",
       "2017        45\n",
       "2018         2\n",
       "2019       119\n",
       "2020       409\n",
       "2021        66\n",
       "2022         3\n",
       "Name: count, dtype: int64"
      ]
     },
     "execution_count": 60,
     "metadata": {},
     "output_type": "execute_result"
    }
   ],
   "source": [
    "df['생년'].value_counts().sort_index()"
   ]
  },
  {
   "cell_type": "code",
   "execution_count": 59,
   "id": "e8c45d0a-6d72-42c9-ac16-fc5af6319c7a",
   "metadata": {},
   "outputs": [],
   "source": [
    "df = df[(df['생년'] != 0) & (df['생년'] <= 2022)]"
   ]
  },
  {
   "cell_type": "markdown",
   "id": "43730d62-85b1-404a-9d2d-07c0ae443528",
   "metadata": {},
   "source": [
    "## 가설검정 #1"
   ]
  },
  {
   "cell_type": "markdown",
   "id": "ea7f3cc1-9f65-4a55-bb52-e079fb5a40c2",
   "metadata": {},
   "source": [
    "- 가설 1: 성별이 대여이용시간에 영향을 미치는지 검증합니다.\n",
    "* H0 : 남여간의 대여이용시간의 차이가 없다\n",
    "* H1 : 남여간의 대여이용시간의 차이가 있다"
   ]
  },
  {
   "cell_type": "code",
   "execution_count": 77,
   "id": "0ce1de06-8739-432b-96dd-54ce5208fe4a",
   "metadata": {},
   "outputs": [],
   "source": [
    "from scipy.stats import ttest_ind, t, sem"
   ]
  },
  {
   "cell_type": "code",
   "execution_count": 65,
   "id": "bb0273c1-8afc-4868-9a16-76c493fa9e92",
   "metadata": {},
   "outputs": [],
   "source": [
    "female = df.loc[df.성별 == 'F', '이용시간(분)']\n",
    "male = df.loc[df.성별 == 'M', '이용시간(분)']"
   ]
  },
  {
   "cell_type": "code",
   "execution_count": 73,
   "id": "1c79d107-5356-4b5a-ab96-eadb39d7c8fd",
   "metadata": {},
   "outputs": [
    {
     "name": "stdout",
     "output_type": "stream",
     "text": [
      "2-way t-test statistics= -80.7262, p-value= 0.0000 --> H0기각\n"
     ]
    }
   ],
   "source": [
    "s, pvalue = ttest_ind(male, female, alternative='two-sided')\n",
    "print(f'2-way t-test statistics= {s:.4f}, p-value= {pvalue:.4f} --> {\"H0기각\" if pvalue < 0.05 else \"H0채택\"}')"
   ]
  },
  {
   "cell_type": "code",
   "execution_count": 75,
   "id": "f9edc030-64ac-4e1a-ac76-1f2743c295d6",
   "metadata": {},
   "outputs": [
    {
     "name": "stdout",
     "output_type": "stream",
     "text": [
      "male= 22.3096, female= 25.1117\n"
     ]
    }
   ],
   "source": [
    "print(f'male= {male.mean():.4f}, female= {female.mean():.4f}')"
   ]
  },
  {
   "cell_type": "markdown",
   "id": "82018429-1829-41e5-9f81-d51fa7d281d8",
   "metadata": {},
   "source": [
    "* H0 : 남자의 이용시간이 여자의 이용시간보다 크거나 같다\n",
    "* H1 : 남자의 이용시간이 여자의 이용시간보다 작다"
   ]
  },
  {
   "cell_type": "code",
   "execution_count": 76,
   "id": "64a1d421-97c1-4dc2-927a-66afc07c90be",
   "metadata": {},
   "outputs": [
    {
     "name": "stdout",
     "output_type": "stream",
     "text": [
      "2-way t-test statistics= -80.7262, p-value= 0.0000 --> H0기각\n"
     ]
    }
   ],
   "source": [
    "s, pvalue = ttest_ind(male, female, alternative='less')\n",
    "print(f'2-way t-test statistics= {s:.4f}, p-value= {pvalue:.4f} --> {\"H0기각\" if pvalue < 0.05 else \"H0채택\"}')"
   ]
  },
  {
   "cell_type": "code",
   "execution_count": 80,
   "id": "b96c01c5-78be-4f3c-8802-b8784751d5d3",
   "metadata": {},
   "outputs": [
    {
     "name": "stdout",
     "output_type": "stream",
     "text": [
      "male   95% confidence interval = 22.2670 ~ 22.3521\n",
      "female 95% confidence interval = 25.0581 ~ 25.1653\n"
     ]
    }
   ],
   "source": [
    "ci_s, ci_e = t.interval(confidence=0.95, loc=male.mean(), scale=sem(male), df=len(male)-1)\n",
    "print(f'male   95% confidence interval = {ci_s:,.4f} ~ {ci_e:,.4f}')\n",
    "\n",
    "ci_s, ci_e = t.interval(confidence=0.95, loc=female.mean(), scale=sem(female), df=len(female)-1)\n",
    "print(f'female 95% confidence interval = {ci_s:,.4f} ~ {ci_e:,.4f}')"
   ]
  },
  {
   "cell_type": "markdown",
   "id": "796c3beb-8872-49dc-82a2-2fdee42262b1",
   "metadata": {},
   "source": [
    "- 가설 2: 이용자종류가 대여이용시간에 영향을 미치는지 검증합니다."
   ]
  },
  {
   "cell_type": "code",
   "execution_count": 82,
   "id": "325d8486-1232-4c99-a8dd-8822e72c47b9",
   "metadata": {
    "scrolled": true
   },
   "outputs": [
    {
     "data": {
      "text/plain": [
       "이용자종류\n",
       "내국인    2795296\n",
       "비회원         49\n",
       "Name: count, dtype: int64"
      ]
     },
     "execution_count": 82,
     "metadata": {},
     "output_type": "execute_result"
    }
   ],
   "source": [
    "df['이용자종류'].value_counts()"
   ]
  },
  {
   "cell_type": "code",
   "execution_count": 83,
   "id": "d2fd4737-e2ba-481a-bc6d-7550b137b666",
   "metadata": {},
   "outputs": [],
   "source": [
    "nationals = df.loc[df.이용자종류 == '내국인', '이용시간(분)']\n",
    "nonmembers = df.loc[df.이용자종류 == '비회원', '이용시간(분)']"
   ]
  },
  {
   "cell_type": "code",
   "execution_count": 84,
   "id": "89cfda17-37d4-45f1-8c85-efb86aa875ee",
   "metadata": {},
   "outputs": [
    {
     "name": "stdout",
     "output_type": "stream",
     "text": [
      "2-way t-test statistics= -6.2992, p-value= 0.0000 --> H0기각\n"
     ]
    }
   ],
   "source": [
    "s, pvalue = ttest_ind(nationals, nonmembers, alternative='two-sided')\n",
    "print(f'2-way t-test statistics= {s:.4f}, p-value= {pvalue:.4f} --> {\"H0기각\" if pvalue < 0.05 else \"H0채택\"}')"
   ]
  },
  {
   "cell_type": "code",
   "execution_count": 85,
   "id": "f1ff80c4-4f1a-4bf3-bf81-81f72ace1b46",
   "metadata": {},
   "outputs": [
    {
     "name": "stdout",
     "output_type": "stream",
     "text": [
      "nationals= 23.4334, nonmembers= 49.0612\n"
     ]
    }
   ],
   "source": [
    "print(f'nationals= {nationals.mean():.4f}, nonmembers= {nonmembers.mean():.4f}')"
   ]
  },
  {
   "cell_type": "markdown",
   "id": "3b27cab0-653a-412c-8a87-725e9f94b7a0",
   "metadata": {},
   "source": [
    "- 가설 3: 성별이 이용거리에 영향을 미치는지 검증합니다."
   ]
  },
  {
   "cell_type": "code",
   "execution_count": 86,
   "id": "42185374-38b2-42c6-a75c-7e0b87f830b1",
   "metadata": {},
   "outputs": [],
   "source": [
    "female = df.loc[df.성별 == 'F', '이용거리(M)']\n",
    "male = df.loc[df.성별 == 'M', '이용거리(M)']"
   ]
  },
  {
   "cell_type": "code",
   "execution_count": 87,
   "id": "431aaf19-a27a-4173-bfa9-92817bbadad6",
   "metadata": {},
   "outputs": [
    {
     "name": "stdout",
     "output_type": "stream",
     "text": [
      "2-way t-test statistics= -30.5763, p-value= 0.0000 --> H0기각\n"
     ]
    }
   ],
   "source": [
    "s, pvalue = ttest_ind(male, female, alternative='two-sided')\n",
    "print(f'2-way t-test statistics= {s:.4f}, p-value= {pvalue:.4f} --> {\"H0기각\" if pvalue < 0.05 else \"H0채택\"}')"
   ]
  },
  {
   "cell_type": "code",
   "execution_count": 88,
   "id": "f811f8fe-6859-4c44-8852-f2b1bca0f5c9",
   "metadata": {},
   "outputs": [
    {
     "name": "stdout",
     "output_type": "stream",
     "text": [
      "male= 2713.6357, female= 2837.6793\n"
     ]
    }
   ],
   "source": [
    "print(f'male= {male.mean():.4f}, female= {female.mean():.4f}')"
   ]
  },
  {
   "cell_type": "code",
   "execution_count": 89,
   "id": "c989ba20-068d-4149-a3e4-4033dfa2cb58",
   "metadata": {},
   "outputs": [
    {
     "name": "stdout",
     "output_type": "stream",
     "text": [
      "male   95% confidence interval = 2,708.5705 ~ 2,718.7009\n",
      "female 95% confidence interval = 2,831.5791 ~ 2,843.7795\n"
     ]
    }
   ],
   "source": [
    "ci_s, ci_e = t.interval(confidence=0.95, loc=male.mean(), scale=sem(male), df=len(male)-1)\n",
    "print(f'male   95% confidence interval = {ci_s:,.4f} ~ {ci_e:,.4f}')\n",
    "\n",
    "ci_s, ci_e = t.interval(confidence=0.95, loc=female.mean(), scale=sem(female), df=len(female)-1)\n",
    "print(f'female 95% confidence interval = {ci_s:,.4f} ~ {ci_e:,.4f}')"
   ]
  },
  {
   "cell_type": "markdown",
   "id": "26d6bc84-1e18-44f9-8c50-434b9bda145b",
   "metadata": {},
   "source": [
    "## 가설검정 #2"
   ]
  },
  {
   "cell_type": "markdown",
   "id": "c997a2e3-9f25-4671-b95e-55cd8d1c16ad",
   "metadata": {},
   "source": [
    "- '생년'의 그룹에 따라 '이용거리'이 유의미하게 다를까요?"
   ]
  },
  {
   "cell_type": "code",
   "execution_count": 181,
   "id": "18b4bc8f-653d-44c6-9ea0-14f08e92301f",
   "metadata": {},
   "outputs": [],
   "source": [
    "from scipy.stats import f_oneway\n",
    "import statsmodels.api as sm\n",
    "from statsmodels.formula.api import ols\n",
    "from statsmodels.stats.multicomp import pairwise_tukeyhsd\n",
    "\n",
    "import matplotlib.pyplot as plt"
   ]
  },
  {
   "cell_type": "code",
   "execution_count": 182,
   "id": "df187939-f9e5-4a98-9cdc-7bff81dd6fde",
   "metadata": {},
   "outputs": [
    {
     "data": {
      "text/html": [
       "<div>\n",
       "<style scoped>\n",
       "    .dataframe tbody tr th:only-of-type {\n",
       "        vertical-align: middle;\n",
       "    }\n",
       "\n",
       "    .dataframe tbody tr th {\n",
       "        vertical-align: top;\n",
       "    }\n",
       "\n",
       "    .dataframe thead th {\n",
       "        text-align: right;\n",
       "    }\n",
       "</style>\n",
       "<table border=\"1\" class=\"dataframe\">\n",
       "  <thead>\n",
       "    <tr style=\"text-align: right;\">\n",
       "      <th></th>\n",
       "      <th>year</th>\n",
       "      <th>distance</th>\n",
       "    </tr>\n",
       "  </thead>\n",
       "  <tbody>\n",
       "    <tr>\n",
       "      <th>0</th>\n",
       "      <td>1997</td>\n",
       "      <td>1,200.0000</td>\n",
       "    </tr>\n",
       "    <tr>\n",
       "      <th>1</th>\n",
       "      <td>1998</td>\n",
       "      <td>560.0000</td>\n",
       "    </tr>\n",
       "    <tr>\n",
       "      <th>2</th>\n",
       "      <td>1995</td>\n",
       "      <td>500.0000</td>\n",
       "    </tr>\n",
       "    <tr>\n",
       "      <th>3</th>\n",
       "      <td>1988</td>\n",
       "      <td>584.4100</td>\n",
       "    </tr>\n",
       "    <tr>\n",
       "      <th>4</th>\n",
       "      <td>1970</td>\n",
       "      <td>800.0000</td>\n",
       "    </tr>\n",
       "  </tbody>\n",
       "</table>\n",
       "</div>"
      ],
      "text/plain": [
       "   year   distance\n",
       "0  1997 1,200.0000\n",
       "1  1998   560.0000\n",
       "2  1995   500.0000\n",
       "3  1988   584.4100\n",
       "4  1970   800.0000"
      ]
     },
     "execution_count": 182,
     "metadata": {},
     "output_type": "execute_result"
    }
   ],
   "source": [
    "temp = df[['생년', '이용거리(M)']].reset_index(drop=True)\n",
    "temp.columns = ['year', 'distance']\n",
    "temp.head()"
   ]
  },
  {
   "cell_type": "code",
   "execution_count": 194,
   "id": "60f0d89b-48d8-4cda-bdb3-90183ea01004",
   "metadata": {},
   "outputs": [
    {
     "data": {
      "text/html": [
       "<div>\n",
       "<style scoped>\n",
       "    .dataframe tbody tr th:only-of-type {\n",
       "        vertical-align: middle;\n",
       "    }\n",
       "\n",
       "    .dataframe tbody tr th {\n",
       "        vertical-align: top;\n",
       "    }\n",
       "\n",
       "    .dataframe thead th {\n",
       "        text-align: right;\n",
       "    }\n",
       "</style>\n",
       "<table border=\"1\" class=\"dataframe\">\n",
       "  <thead>\n",
       "    <tr style=\"text-align: right;\">\n",
       "      <th></th>\n",
       "      <th>year</th>\n",
       "      <th>distance</th>\n",
       "      <th>generation</th>\n",
       "    </tr>\n",
       "  </thead>\n",
       "  <tbody>\n",
       "    <tr>\n",
       "      <th>0</th>\n",
       "      <td>1997</td>\n",
       "      <td>1,200.0000</td>\n",
       "      <td>2000</td>\n",
       "    </tr>\n",
       "    <tr>\n",
       "      <th>1</th>\n",
       "      <td>1998</td>\n",
       "      <td>560.0000</td>\n",
       "      <td>2000</td>\n",
       "    </tr>\n",
       "    <tr>\n",
       "      <th>2</th>\n",
       "      <td>1995</td>\n",
       "      <td>500.0000</td>\n",
       "      <td>2000</td>\n",
       "    </tr>\n",
       "    <tr>\n",
       "      <th>3</th>\n",
       "      <td>1988</td>\n",
       "      <td>584.4100</td>\n",
       "      <td>&lt; 2000</td>\n",
       "    </tr>\n",
       "    <tr>\n",
       "      <th>4</th>\n",
       "      <td>1970</td>\n",
       "      <td>800.0000</td>\n",
       "      <td>&lt; 2000</td>\n",
       "    </tr>\n",
       "  </tbody>\n",
       "</table>\n",
       "</div>"
      ],
      "text/plain": [
       "   year   distance generation\n",
       "0  1997 1,200.0000       2000\n",
       "1  1998   560.0000       2000\n",
       "2  1995   500.0000       2000\n",
       "3  1988   584.4100     < 2000\n",
       "4  1970   800.0000     < 2000"
      ]
     },
     "execution_count": 194,
     "metadata": {},
     "output_type": "execute_result"
    }
   ],
   "source": [
    "temp['generation'] = pd.cut(temp.year, bins=[temp.year.min() - 1, 1990, 2000, temp.year.max() + 1], \\\n",
    "                            labels = ['< 2000', '2000', '> 2000'], right=True)\n",
    "temp['generation'] = temp['generation'].astype('str')\n",
    "temp.head()"
   ]
  },
  {
   "cell_type": "code",
   "execution_count": 196,
   "id": "466a24ef-2955-4b03-80b3-5b1c710494dc",
   "metadata": {},
   "outputs": [
    {
     "data": {
      "text/html": [
       "<div>\n",
       "<style scoped>\n",
       "    .dataframe tbody tr th:only-of-type {\n",
       "        vertical-align: middle;\n",
       "    }\n",
       "\n",
       "    .dataframe tbody tr th {\n",
       "        vertical-align: top;\n",
       "    }\n",
       "\n",
       "    .dataframe thead th {\n",
       "        text-align: right;\n",
       "    }\n",
       "</style>\n",
       "<table border=\"1\" class=\"dataframe\">\n",
       "  <thead>\n",
       "    <tr style=\"text-align: right;\">\n",
       "      <th></th>\n",
       "      <th>df</th>\n",
       "      <th>sum_sq</th>\n",
       "      <th>mean_sq</th>\n",
       "      <th>F</th>\n",
       "      <th>PR(&gt;F)</th>\n",
       "    </tr>\n",
       "  </thead>\n",
       "  <tbody>\n",
       "    <tr>\n",
       "      <th>C(generation)</th>\n",
       "      <td>2.0000</td>\n",
       "      <td>106,806,831,921.9263</td>\n",
       "      <td>53,403,415,960.9632</td>\n",
       "      <td>4,846.8402</td>\n",
       "      <td>0.0000</td>\n",
       "    </tr>\n",
       "    <tr>\n",
       "      <th>Residual</th>\n",
       "      <td>2,795,342.0000</td>\n",
       "      <td>30,799,614,814,102.9258</td>\n",
       "      <td>11,018,191.9830</td>\n",
       "      <td>NaN</td>\n",
       "      <td>NaN</td>\n",
       "    </tr>\n",
       "  </tbody>\n",
       "</table>\n",
       "</div>"
      ],
      "text/plain": [
       "                          df                  sum_sq             mean_sq  \\\n",
       "C(generation)         2.0000    106,806,831,921.9263 53,403,415,960.9632   \n",
       "Residual      2,795,342.0000 30,799,614,814,102.9258     11,018,191.9830   \n",
       "\n",
       "                       F  PR(>F)  \n",
       "C(generation) 4,846.8402  0.0000  \n",
       "Residual             NaN     NaN  "
      ]
     },
     "execution_count": 196,
     "metadata": {},
     "output_type": "execute_result"
    }
   ],
   "source": [
    "model = ols(formula='distance ~ C(generation)', data=temp).fit()\n",
    "result = sm.stats.anova_lm(model, typ=1)\n",
    "result"
   ]
  },
  {
   "cell_type": "code",
   "execution_count": 197,
   "id": "8a45dcf8-76dd-42e2-b367-57996b0c2d1a",
   "metadata": {},
   "outputs": [
    {
     "data": {
      "text/html": [
       "<table class=\"simpletable\">\n",
       "<caption>Multiple Comparison of Means - Tukey HSD, FWER=0.05</caption>\n",
       "<tr>\n",
       "  <th>group1</th> <th>group2</th> <th>meandiff</th>  <th>p-adj</th>   <th>lower</th>     <th>upper</th>   <th>reject</th>\n",
       "</tr>\n",
       "<tr>\n",
       "   <td>2000</td>  <td>< 2000</td> <td>290.2882</td>   <td>0.0</td>  <td>280.2261</td>  <td>300.3503</td>   <td>True</td> \n",
       "</tr>\n",
       "<tr>\n",
       "   <td>2000</td>  <td>> 2000</td> <td>-254.345</td>   <td>0.0</td>  <td>-268.9403</td> <td>-239.7497</td>  <td>True</td> \n",
       "</tr>\n",
       "<tr>\n",
       "  <td>< 2000</td> <td>> 2000</td> <td>-544.6332</td>  <td>0.0</td>  <td>-558.9048</td> <td>-530.3616</td>  <td>True</td> \n",
       "</tr>\n",
       "</table>"
      ],
      "text/latex": [
       "\\begin{center}\n",
       "\\begin{tabular}{ccccccc}\n",
       "\\toprule\n",
       "\\textbf{group1} & \\textbf{group2} & \\textbf{meandiff} & \\textbf{p-adj} & \\textbf{lower} & \\textbf{upper} & \\textbf{reject}  \\\\\n",
       "\\midrule\n",
       "      2000      &      < 2000     &      290.2882     &      0.0       &    280.2261    &    300.3503    &       True       \\\\\n",
       "      2000      &     $>$ 2000    &      -254.345     &      0.0       &   -268.9403    &   -239.7497    &       True       \\\\\n",
       "     < 2000     &     $>$ 2000    &     -544.6332     &      0.0       &   -558.9048    &   -530.3616    &       True       \\\\\n",
       "\\bottomrule\n",
       "\\end{tabular}\n",
       "%\\caption{Multiple Comparison of Means - Tukey HSD, FWER=0.05}\n",
       "\\end{center}"
      ],
      "text/plain": [
       "<class 'statsmodels.iolib.table.SimpleTable'>"
      ]
     },
     "execution_count": 197,
     "metadata": {},
     "output_type": "execute_result"
    }
   ],
   "source": [
    "posthoc_result = pairwise_tukeyhsd(temp.distance, temp.generation, alpha=0.05)\n",
    "posthoc_result.summary()"
   ]
  },
  {
   "cell_type": "code",
   "execution_count": 198,
   "id": "29847f6a-7217-477f-8e3b-4d2e83f52421",
   "metadata": {},
   "outputs": [
    {
     "data": {
      "image/png": "[encoded data removed]",
      "text/plain": [
       "<Figure size 1000x600 with 1 Axes>"
      ]
     },
     "metadata": {},
     "output_type": "display_data"
    }
   ],
   "source": [
    "posthoc_result.plot_simultaneous()\n",
    "plt.show()"
   ]
  },
  {
   "cell_type": "markdown",
   "id": "e56671f9-1f01-4974-83c7-bae823ab5d5f",
   "metadata": {},
   "source": [
    "## 상관분석"
   ]
  },
  {
   "cell_type": "code",
   "execution_count": 212,
   "id": "938233c2-c8fd-475a-9464-90cb2cbac0b7",
   "metadata": {},
   "outputs": [],
   "source": [
    "import seaborn as sns\n",
    "from statsmodels.stats.outliers_influence import variance_inflation_factor\n",
    "from scipy.stats import pearsonr"
   ]
  },
  {
   "cell_type": "code",
   "execution_count": 203,
   "id": "22c0e34a-2117-4579-adac-b6fdcab2f5ff",
   "metadata": {},
   "outputs": [
    {
     "data": {
      "text/html": [
       "<div>\n",
       "<style scoped>\n",
       "    .dataframe tbody tr th:only-of-type {\n",
       "        vertical-align: middle;\n",
       "    }\n",
       "\n",
       "    .dataframe tbody tr th {\n",
       "        vertical-align: top;\n",
       "    }\n",
       "\n",
       "    .dataframe thead th {\n",
       "        text-align: right;\n",
       "    }\n",
       "</style>\n",
       "<table border=\"1\" class=\"dataframe\">\n",
       "  <thead>\n",
       "    <tr style=\"text-align: right;\">\n",
       "      <th></th>\n",
       "      <th>대여 대여소번호</th>\n",
       "      <th>대여거치대</th>\n",
       "      <th>반납거치대</th>\n",
       "      <th>이용시간(분)</th>\n",
       "      <th>이용거리(M)</th>\n",
       "      <th>생년</th>\n",
       "    </tr>\n",
       "  </thead>\n",
       "  <tbody>\n",
       "    <tr>\n",
       "      <th>대여 대여소번호</th>\n",
       "      <td>1.0000</td>\n",
       "      <td>-0.0090</td>\n",
       "      <td>-0.0091</td>\n",
       "      <td>-0.0166</td>\n",
       "      <td>-0.0128</td>\n",
       "      <td>0.0014</td>\n",
       "    </tr>\n",
       "    <tr>\n",
       "      <th>대여거치대</th>\n",
       "      <td>-0.0090</td>\n",
       "      <td>1.0000</td>\n",
       "      <td>0.9978</td>\n",
       "      <td>-0.0285</td>\n",
       "      <td>-0.0435</td>\n",
       "      <td>-0.0146</td>\n",
       "    </tr>\n",
       "    <tr>\n",
       "      <th>반납거치대</th>\n",
       "      <td>-0.0091</td>\n",
       "      <td>0.9978</td>\n",
       "      <td>1.0000</td>\n",
       "      <td>-0.0287</td>\n",
       "      <td>-0.0432</td>\n",
       "      <td>-0.0145</td>\n",
       "    </tr>\n",
       "    <tr>\n",
       "      <th>이용시간(분)</th>\n",
       "      <td>-0.0166</td>\n",
       "      <td>-0.0285</td>\n",
       "      <td>-0.0287</td>\n",
       "      <td>1.0000</td>\n",
       "      <td>0.6260</td>\n",
       "      <td>-0.0708</td>\n",
       "    </tr>\n",
       "    <tr>\n",
       "      <th>이용거리(M)</th>\n",
       "      <td>-0.0128</td>\n",
       "      <td>-0.0435</td>\n",
       "      <td>-0.0432</td>\n",
       "      <td>0.6260</td>\n",
       "      <td>1.0000</td>\n",
       "      <td>-0.0633</td>\n",
       "    </tr>\n",
       "    <tr>\n",
       "      <th>생년</th>\n",
       "      <td>0.0014</td>\n",
       "      <td>-0.0146</td>\n",
       "      <td>-0.0145</td>\n",
       "      <td>-0.0708</td>\n",
       "      <td>-0.0633</td>\n",
       "      <td>1.0000</td>\n",
       "    </tr>\n",
       "  </tbody>\n",
       "</table>\n",
       "</div>"
      ],
      "text/plain": [
       "          대여 대여소번호   대여거치대   반납거치대  이용시간(분)  이용거리(M)      생년\n",
       "대여 대여소번호    1.0000 -0.0090 -0.0091  -0.0166  -0.0128  0.0014\n",
       "대여거치대      -0.0090  1.0000  0.9978  -0.0285  -0.0435 -0.0146\n",
       "반납거치대      -0.0091  0.9978  1.0000  -0.0287  -0.0432 -0.0145\n",
       "이용시간(분)    -0.0166 -0.0285 -0.0287   1.0000   0.6260 -0.0708\n",
       "이용거리(M)    -0.0128 -0.0435 -0.0432   0.6260   1.0000 -0.0633\n",
       "생년          0.0014 -0.0146 -0.0145  -0.0708  -0.0633  1.0000"
      ]
     },
     "execution_count": 203,
     "metadata": {},
     "output_type": "execute_result"
    }
   ],
   "source": [
    "df.corr(numeric_only=True)"
   ]
  },
  {
   "cell_type": "code",
   "execution_count": 205,
   "id": "abf59eb8-3bd3-4a7b-80d7-34f8d00315c9",
   "metadata": {},
   "outputs": [
    {
     "data": {
      "image/png": "[encoded data removed]",
      "text/plain": [
       "<Figure size 640x480 with 2 Axes>"
      ]
     },
     "metadata": {},
     "output_type": "display_data"
    }
   ],
   "source": [
    "plt.rcParams[\"font.family\"] = 'Malgun Gothic'\n",
    "\n",
    "sns.heatmap(data=df.corr(numeric_only=True))\n",
    "plt.title('Correlation Matrix')\n",
    "plt.show()"
   ]
  },
  {
   "cell_type": "code",
   "execution_count": 207,
   "id": "524cd631-73b6-4c09-912f-92058f92811f",
   "metadata": {},
   "outputs": [],
   "source": [
    "temp = df.select_dtypes(exclude='object')"
   ]
  },
  {
   "cell_type": "code",
   "execution_count": 221,
   "id": "4ae17407-a256-42a5-8467-8a8f5236d812",
   "metadata": {},
   "outputs": [
    {
     "name": "stdout",
     "output_type": "stream",
     "text": [
      "Pearson Test 대여 대여소번호:대여거치대 - statistics= -0.0090, p-value= 0.0000\n",
      "Pearson Test 대여 대여소번호:반납거치대 - statistics= -0.0091, p-value= 0.0000\n",
      "Pearson Test 대여 대여소번호:이용시간(분) - statistics= -0.0166, p-value= 0.0000\n",
      "Pearson Test 대여 대여소번호:이용거리(M) - statistics= -0.0128, p-value= 0.0000\n",
      "Pearson Test 대여 대여소번호:생년 - statistics= 0.0014, p-value= 0.0177\n",
      "------------------------------\n",
      "Pearson Test 대여거치대:대여 대여소번호 - statistics= -0.0090, p-value= 0.0000\n",
      "Pearson Test 대여거치대:반납거치대 - statistics= 0.9978, p-value= 0.0000\n",
      "Pearson Test 대여거치대:이용시간(분) - statistics= -0.0285, p-value= 0.0000\n",
      "Pearson Test 대여거치대:이용거리(M) - statistics= -0.0435, p-value= 0.0000\n",
      "Pearson Test 대여거치대:생년 - statistics= -0.0146, p-value= 0.0000\n",
      "------------------------------\n",
      "Pearson Test 반납거치대:대여 대여소번호 - statistics= -0.0091, p-value= 0.0000\n",
      "Pearson Test 반납거치대:대여거치대 - statistics= 0.9978, p-value= 0.0000\n",
      "Pearson Test 반납거치대:이용시간(분) - statistics= -0.0287, p-value= 0.0000\n",
      "Pearson Test 반납거치대:이용거리(M) - statistics= -0.0432, p-value= 0.0000\n",
      "Pearson Test 반납거치대:생년 - statistics= -0.0145, p-value= 0.0000\n",
      "------------------------------\n",
      "Pearson Test 이용시간(분):대여 대여소번호 - statistics= -0.0166, p-value= 0.0000\n",
      "Pearson Test 이용시간(분):대여거치대 - statistics= -0.0285, p-value= 0.0000\n",
      "Pearson Test 이용시간(분):반납거치대 - statistics= -0.0287, p-value= 0.0000\n",
      "Pearson Test 이용시간(분):이용거리(M) - statistics= 0.6260, p-value= 0.0000\n",
      "Pearson Test 이용시간(분):생년 - statistics= -0.0708, p-value= 0.0000\n",
      "------------------------------\n",
      "Pearson Test 이용거리(M):대여 대여소번호 - statistics= -0.0128, p-value= 0.0000\n",
      "Pearson Test 이용거리(M):대여거치대 - statistics= -0.0435, p-value= 0.0000\n",
      "Pearson Test 이용거리(M):반납거치대 - statistics= -0.0432, p-value= 0.0000\n",
      "Pearson Test 이용거리(M):이용시간(분) - statistics= 0.6260, p-value= 0.0000\n",
      "Pearson Test 이용거리(M):생년 - statistics= -0.0633, p-value= 0.0000\n",
      "------------------------------\n",
      "Pearson Test 생년:대여 대여소번호 - statistics= 0.0014, p-value= 0.0177\n",
      "Pearson Test 생년:대여거치대 - statistics= -0.0146, p-value= 0.0000\n",
      "Pearson Test 생년:반납거치대 - statistics= -0.0145, p-value= 0.0000\n",
      "Pearson Test 생년:이용시간(분) - statistics= -0.0708, p-value= 0.0000\n",
      "Pearson Test 생년:이용거리(M) - statistics= -0.0633, p-value= 0.0000\n",
      "------------------------------\n"
     ]
    }
   ],
   "source": [
    "for col_x in temp.columns:\n",
    "    for col_y in temp.columns:\n",
    "        if col_x != col_y:\n",
    "            s, pvalue = pearsonr(temp[col_x], temp[col_y], alternative='two-sided')\n",
    "            print(f'Pearson Test {col_x}:{col_y} - statistics= {s:,.4f}, p-value= {pvalue:,.4f}')\n",
    "    print('-' * 30)"
   ]
  },
  {
   "cell_type": "code",
   "execution_count": 222,
   "id": "a39e1c6c-a3c5-438e-ab08-5008fef4c9d5",
   "metadata": {},
   "outputs": [
    {
     "data": {
      "text/html": [
       "<div>\n",
       "<style scoped>\n",
       "    .dataframe tbody tr th:only-of-type {\n",
       "        vertical-align: middle;\n",
       "    }\n",
       "\n",
       "    .dataframe tbody tr th {\n",
       "        vertical-align: top;\n",
       "    }\n",
       "\n",
       "    .dataframe thead th {\n",
       "        text-align: right;\n",
       "    }\n",
       "</style>\n",
       "<table border=\"1\" class=\"dataframe\">\n",
       "  <thead>\n",
       "    <tr style=\"text-align: right;\">\n",
       "      <th></th>\n",
       "      <th>대여 대여소번호</th>\n",
       "      <th>대여거치대</th>\n",
       "      <th>반납거치대</th>\n",
       "      <th>이용시간(분)</th>\n",
       "      <th>이용거리(M)</th>\n",
       "      <th>생년</th>\n",
       "    </tr>\n",
       "  </thead>\n",
       "  <tbody>\n",
       "    <tr>\n",
       "      <th>VIF</th>\n",
       "      <td>2.8732</td>\n",
       "      <td>242.7215</td>\n",
       "      <td>242.6992</td>\n",
       "      <td>2.7575</td>\n",
       "      <td>2.7827</td>\n",
       "      <td>3.8210</td>\n",
       "    </tr>\n",
       "  </tbody>\n",
       "</table>\n",
       "</div>"
      ],
      "text/plain": [
       "     대여 대여소번호    대여거치대    반납거치대  이용시간(분)  이용거리(M)     생년\n",
       "VIF    2.8732 242.7215 242.6992   2.7575   2.7827 3.8210"
      ]
     },
     "execution_count": 222,
     "metadata": {},
     "output_type": "execute_result"
    }
   ],
   "source": [
    "result = pd.DataFrame(index=['VIF'])\n",
    "\n",
    "for idx in range(len(temp.columns)):\n",
    "    result[temp.columns[idx]] = round(variance_inflation_factor(temp, idx), 4)\n",
    "\n",
    "result"
   ]
  },
  {
   "cell_type": "markdown",
   "id": "37b4de12-161d-4008-b230-9c46bc99eb91",
   "metadata": {},
   "source": [
    "## 회귀분석"
   ]
  },
  {
   "cell_type": "markdown",
   "id": "e2b6bd74-4c8c-471a-a442-aecfd9687d7a",
   "metadata": {},
   "source": [
    "- 종속변수는 이용시간(분)\n",
    "- 독립변수는 생년,\t성별,\t이용자종류"
   ]
  },
  {
   "cell_type": "code",
   "execution_count": 262,
   "id": "03547a9b-8641-4d9c-b338-0f561a553d03",
   "metadata": {},
   "outputs": [],
   "source": [
    "import statsmodels.api as sm"
   ]
  },
  {
   "cell_type": "code",
   "execution_count": 263,
   "id": "b3490497-fedf-48a4-903d-8e6d3c05e9d9",
   "metadata": {},
   "outputs": [
    {
     "data": {
      "text/html": [
       "<div>\n",
       "<style scoped>\n",
       "    .dataframe tbody tr th:only-of-type {\n",
       "        vertical-align: middle;\n",
       "    }\n",
       "\n",
       "    .dataframe tbody tr th {\n",
       "        vertical-align: top;\n",
       "    }\n",
       "\n",
       "    .dataframe thead th {\n",
       "        text-align: right;\n",
       "    }\n",
       "</style>\n",
       "<table border=\"1\" class=\"dataframe\">\n",
       "  <thead>\n",
       "    <tr style=\"text-align: right;\">\n",
       "      <th></th>\n",
       "      <th>자전거번호</th>\n",
       "      <th>대여일시</th>\n",
       "      <th>대여 대여소번호</th>\n",
       "      <th>대여 대여소명</th>\n",
       "      <th>대여거치대</th>\n",
       "      <th>반납일시</th>\n",
       "      <th>반납대여소번호</th>\n",
       "      <th>반납대여소명</th>\n",
       "      <th>반납거치대</th>\n",
       "      <th>이용시간(분)</th>\n",
       "      <th>이용거리(M)</th>\n",
       "      <th>생년</th>\n",
       "      <th>성별</th>\n",
       "      <th>이용자종류</th>\n",
       "      <th>대여대여소ID</th>\n",
       "      <th>반납대여소ID</th>\n",
       "    </tr>\n",
       "  </thead>\n",
       "  <tbody>\n",
       "    <tr>\n",
       "      <th>8</th>\n",
       "      <td>SPB-57948</td>\n",
       "      <td>2022-09-01 00:00:00</td>\n",
       "      <td>354</td>\n",
       "      <td>포르투갈 대사관 앞</td>\n",
       "      <td>0</td>\n",
       "      <td>2022-09-01 00:03:33</td>\n",
       "      <td>03413</td>\n",
       "      <td>종로플레이스</td>\n",
       "      <td>0</td>\n",
       "      <td>3</td>\n",
       "      <td>1,200.0000</td>\n",
       "      <td>1997</td>\n",
       "      <td>M</td>\n",
       "      <td>내국인</td>\n",
       "      <td>ST-170</td>\n",
       "      <td>ST-1810</td>\n",
       "    </tr>\n",
       "    <tr>\n",
       "      <th>10</th>\n",
       "      <td>SPB-58852</td>\n",
       "      <td>2022-09-01 00:00:00</td>\n",
       "      <td>2164</td>\n",
       "      <td>관악우체국</td>\n",
       "      <td>0</td>\n",
       "      <td>2022-09-01 00:03:51</td>\n",
       "      <td>02190</td>\n",
       "      <td>도원맨션</td>\n",
       "      <td>0</td>\n",
       "      <td>3</td>\n",
       "      <td>560.0000</td>\n",
       "      <td>1998</td>\n",
       "      <td>F</td>\n",
       "      <td>내국인</td>\n",
       "      <td>ST-1259</td>\n",
       "      <td>ST-2374</td>\n",
       "    </tr>\n",
       "  </tbody>\n",
       "</table>\n",
       "</div>"
      ],
      "text/plain": [
       "        자전거번호                 대여일시  대여 대여소번호     대여 대여소명  대여거치대  \\\n",
       "8   SPB-57948  2022-09-01 00:00:00       354  포르투갈 대사관 앞      0   \n",
       "10  SPB-58852  2022-09-01 00:00:00      2164       관악우체국      0   \n",
       "\n",
       "                   반납일시 반납대여소번호  반납대여소명  반납거치대  이용시간(분)    이용거리(M)    생년 성별  \\\n",
       "8   2022-09-01 00:03:33   03413  종로플레이스      0        3 1,200.0000  1997  M   \n",
       "10  2022-09-01 00:03:51   02190    도원맨션      0        3   560.0000  1998  F   \n",
       "\n",
       "   이용자종류  대여대여소ID  반납대여소ID  \n",
       "8    내국인   ST-170  ST-1810  \n",
       "10   내국인  ST-1259  ST-2374  "
      ]
     },
     "execution_count": 263,
     "metadata": {},
     "output_type": "execute_result"
    }
   ],
   "source": [
    "df.head(2)"
   ]
  },
  {
   "cell_type": "code",
   "execution_count": 264,
   "id": "9c3781c6-d991-458b-ba47-9245d375fef9",
   "metadata": {},
   "outputs": [
    {
     "name": "stdout",
     "output_type": "stream",
     "text": [
      "<class 'pandas.core.frame.DataFrame'>\n",
      "Index: 2795345 entries, 8 to 4934826\n",
      "Data columns (total 4 columns):\n",
      " #   Column   Dtype \n",
      "---  ------   ----- \n",
      " 0   birth    int32 \n",
      " 1   gender   object\n",
      " 2   type     object\n",
      " 3   usetime  int64 \n",
      "dtypes: int32(1), int64(1), object(2)\n",
      "memory usage: 96.0+ MB\n"
     ]
    }
   ],
   "source": [
    "target = df[['생년', '성별', '이용자종류', '이용시간(분)']]\n",
    "target.columns = ['birth', 'gender', 'type', 'usetime']\n",
    "target.info()"
   ]
  },
  {
   "cell_type": "code",
   "execution_count": 265,
   "id": "bee9b626-e504-4113-89c6-b96d7513ca8d",
   "metadata": {},
   "outputs": [],
   "source": [
    "dfXY = pd.get_dummies(data=target, columns=['gender', 'type'], drop_first=True).astype('int')\n",
    "x = dfXY.drop(columns=['usetime'])\n",
    "y = dfXY['usetime']"
   ]
  },
  {
   "cell_type": "code",
   "execution_count": 266,
   "id": "8355cd6c-ae67-40c8-99c8-dfd4acde305c",
   "metadata": {},
   "outputs": [],
   "source": [
    "x = sm.add_constant(x)"
   ]
  },
  {
   "cell_type": "code",
   "execution_count": 267,
   "id": "d1646d40-5457-4942-9b75-490c9f6fa582",
   "metadata": {},
   "outputs": [],
   "source": [
    "model = sm.OLS(y, x).fit()"
   ]
  },
  {
   "cell_type": "code",
   "execution_count": 268,
   "id": "f6428f54-7b84-4631-b529-7714ac1b1ab2",
   "metadata": {},
   "outputs": [
    {
     "data": {
      "text/html": [
       "<table class=\"simpletable\">\n",
       "<caption>OLS Regression Results</caption>\n",
       "<tr>\n",
       "  <th>Dep. Variable:</th>         <td>usetime</td>     <th>  R-squared:         </th>  <td>   0.008</td>  \n",
       "</tr>\n",
       "<tr>\n",
       "  <th>Model:</th>                   <td>OLS</td>       <th>  Adj. R-squared:    </th>  <td>   0.008</td>  \n",
       "</tr>\n",
       "<tr>\n",
       "  <th>Method:</th>             <td>Least Squares</td>  <th>  F-statistic:       </th>  <td>   7278.</td>  \n",
       "</tr>\n",
       "<tr>\n",
       "  <th>Date:</th>             <td>Mon, 03 Jul 2023</td> <th>  Prob (F-statistic):</th>   <td>  0.00</td>   \n",
       "</tr>\n",
       "<tr>\n",
       "  <th>Time:</th>                 <td>16:21:40</td>     <th>  Log-Likelihood:    </th> <td>-1.3318e+07</td>\n",
       "</tr>\n",
       "<tr>\n",
       "  <th>No. Observations:</th>      <td>2795345</td>     <th>  AIC:               </th>  <td>2.664e+07</td> \n",
       "</tr>\n",
       "<tr>\n",
       "  <th>Df Residuals:</th>          <td>2795341</td>     <th>  BIC:               </th>  <td>2.664e+07</td> \n",
       "</tr>\n",
       "<tr>\n",
       "  <th>Df Model:</th>              <td>     3</td>      <th>                     </th>      <td> </td>     \n",
       "</tr>\n",
       "<tr>\n",
       "  <th>Covariance Type:</th>      <td>nonrobust</td>    <th>                     </th>      <td> </td>     \n",
       "</tr>\n",
       "</table>\n",
       "<table class=\"simpletable\">\n",
       "<tr>\n",
       "      <td></td>        <th>coef</th>     <th>std err</th>      <th>t</th>      <th>P>|t|</th>  <th>[0.025</th>    <th>0.975]</th>  \n",
       "</tr>\n",
       "<tr>\n",
       "  <th>const</th>    <td>  364.2380</td> <td>    2.747</td> <td>  132.591</td> <td> 0.000</td> <td>  358.854</td> <td>  369.622</td>\n",
       "</tr>\n",
       "<tr>\n",
       "  <th>birth</th>    <td>   -0.1705</td> <td>    0.001</td> <td> -123.456</td> <td> 0.000</td> <td>   -0.173</td> <td>   -0.168</td>\n",
       "</tr>\n",
       "<tr>\n",
       "  <th>gender_M</th> <td>   -3.0410</td> <td>    0.035</td> <td>  -87.711</td> <td> 0.000</td> <td>   -3.109</td> <td>   -2.973</td>\n",
       "</tr>\n",
       "<tr>\n",
       "  <th>type_비회원</th> <td>   26.1142</td> <td>    4.053</td> <td>    6.444</td> <td> 0.000</td> <td>   18.171</td> <td>   34.057</td>\n",
       "</tr>\n",
       "</table>\n",
       "<table class=\"simpletable\">\n",
       "<tr>\n",
       "  <th>Omnibus:</th>       <td>4040937.812</td> <th>  Durbin-Watson:     </th>    <td>   1.700</td>    \n",
       "</tr>\n",
       "<tr>\n",
       "  <th>Prob(Omnibus):</th>   <td> 0.000</td>    <th>  Jarque-Bera (JB):  </th> <td>12894649249.327</td>\n",
       "</tr>\n",
       "<tr>\n",
       "  <th>Skew:</th>            <td> 7.859</td>    <th>  Prob(JB):          </th>    <td>    0.00</td>    \n",
       "</tr>\n",
       "<tr>\n",
       "  <th>Kurtosis:</th>        <td>335.359</td>   <th>  Cond. No.          </th>    <td>4.75e+05</td>    \n",
       "</tr>\n",
       "</table><br/><br/>Notes:<br/>[1] Standard Errors assume that the covariance matrix of the errors is correctly specified.<br/>[2] The condition number is large, 4.75e+05. This might indicate that there are<br/>strong multicollinearity or other numerical problems."
      ],
      "text/latex": [
       "\\begin{center}\n",
       "\\begin{tabular}{lclc}\n",
       "\\toprule\n",
       "\\textbf{Dep. Variable:}    &     usetime      & \\textbf{  R-squared:         } &        0.008     \\\\\n",
       "\\textbf{Model:}            &       OLS        & \\textbf{  Adj. R-squared:    } &        0.008     \\\\\n",
       "\\textbf{Method:}           &  Least Squares   & \\textbf{  F-statistic:       } &        7278.     \\\\\n",
       "\\textbf{Date:}             & Mon, 03 Jul 2023 & \\textbf{  Prob (F-statistic):} &        0.00      \\\\\n",
       "\\textbf{Time:}             &     16:21:40     & \\textbf{  Log-Likelihood:    } &   -1.3318e+07    \\\\\n",
       "\\textbf{No. Observations:} &     2795345      & \\textbf{  AIC:               } &    2.664e+07     \\\\\n",
       "\\textbf{Df Residuals:}     &     2795341      & \\textbf{  BIC:               } &    2.664e+07     \\\\\n",
       "\\textbf{Df Model:}         &           3      & \\textbf{                     } &                  \\\\\n",
       "\\textbf{Covariance Type:}  &    nonrobust     & \\textbf{                     } &                  \\\\\n",
       "\\bottomrule\n",
       "\\end{tabular}\n",
       "\\begin{tabular}{lcccccc}\n",
       "                   & \\textbf{coef} & \\textbf{std err} & \\textbf{t} & \\textbf{P$> |$t$|$} & \\textbf{[0.025} & \\textbf{0.975]}  \\\\\n",
       "\\midrule\n",
       "\\textbf{const}     &     364.2380  &        2.747     &   132.591  &         0.000        &      358.854    &      369.622     \\\\\n",
       "\\textbf{birth}     &      -0.1705  &        0.001     &  -123.456  &         0.000        &       -0.173    &       -0.168     \\\\\n",
       "\\textbf{gender\\_M} &      -3.0410  &        0.035     &   -87.711  &         0.000        &       -3.109    &       -2.973     \\\\\n",
       "\\textbf{type\\_비회원} &      26.1142  &        4.053     &     6.444  &         0.000        &       18.171    &       34.057     \\\\\n",
       "\\bottomrule\n",
       "\\end{tabular}\n",
       "\\begin{tabular}{lclc}\n",
       "\\textbf{Omnibus:}       & 4040937.812 & \\textbf{  Durbin-Watson:     } &        1.700     \\\\\n",
       "\\textbf{Prob(Omnibus):} &     0.000   & \\textbf{  Jarque-Bera (JB):  } & 12894649249.327  \\\\\n",
       "\\textbf{Skew:}          &     7.859   & \\textbf{  Prob(JB):          } &         0.00     \\\\\n",
       "\\textbf{Kurtosis:}      &   335.359   & \\textbf{  Cond. No.          } &     4.75e+05     \\\\\n",
       "\\bottomrule\n",
       "\\end{tabular}\n",
       "%\\caption{OLS Regression Results}\n",
       "\\end{center}\n",
       "\n",
       "Notes: \\newline\n",
       " [1] Standard Errors assume that the covariance matrix of the errors is correctly specified. \\newline\n",
       " [2] The condition number is large, 4.75e+05. This might indicate that there are \\newline\n",
       " strong multicollinearity or other numerical problems."
      ],
      "text/plain": [
       "<class 'statsmodels.iolib.summary.Summary'>\n",
       "\"\"\"\n",
       "                            OLS Regression Results                            \n",
       "==============================================================================\n",
       "Dep. Variable:                usetime   R-squared:                       0.008\n",
       "Model:                            OLS   Adj. R-squared:                  0.008\n",
       "Method:                 Least Squares   F-statistic:                     7278.\n",
       "Date:                Mon, 03 Jul 2023   Prob (F-statistic):               0.00\n",
       "Time:                        16:21:40   Log-Likelihood:            -1.3318e+07\n",
       "No. Observations:             2795345   AIC:                         2.664e+07\n",
       "Df Residuals:                 2795341   BIC:                         2.664e+07\n",
       "Df Model:                           3                                         \n",
       "Covariance Type:            nonrobust                                         \n",
       "==============================================================================\n",
       "                 coef    std err          t      P>|t|      [0.025      0.975]\n",
       "------------------------------------------------------------------------------\n",
       "const        364.2380      2.747    132.591      0.000     358.854     369.622\n",
       "birth         -0.1705      0.001   -123.456      0.000      -0.173      -0.168\n",
       "gender_M      -3.0410      0.035    -87.711      0.000      -3.109      -2.973\n",
       "type_비회원      26.1142      4.053      6.444      0.000      18.171      34.057\n",
       "==============================================================================\n",
       "Omnibus:                  4040937.812   Durbin-Watson:                   1.700\n",
       "Prob(Omnibus):                  0.000   Jarque-Bera (JB):      12894649249.327\n",
       "Skew:                           7.859   Prob(JB):                         0.00\n",
       "Kurtosis:                     335.359   Cond. No.                     4.75e+05\n",
       "==============================================================================\n",
       "\n",
       "Notes:\n",
       "[1] Standard Errors assume that the covariance matrix of the errors is correctly specified.\n",
       "[2] The condition number is large, 4.75e+05. This might indicate that there are\n",
       "strong multicollinearity or other numerical problems.\n",
       "\"\"\""
      ]
     },
     "execution_count": 268,
     "metadata": {},
     "output_type": "execute_result"
    }
   ],
   "source": [
    "model.summary()"
   ]
  },
  {
   "cell_type": "code",
   "execution_count": 261,
   "id": "a443c1f8-cfb8-4c94-b152-9878ae689973",
   "metadata": {},
   "outputs": [
    {
     "data": {
      "text/plain": [
       "(const      364.2380\n",
       " birth       -0.1705\n",
       " gender_M    -3.0410\n",
       " type_비회원    26.1142\n",
       " dtype: float64,\n",
       " const       132.5913\n",
       " birth      -123.4560\n",
       " gender_M    -87.7110\n",
       " type_비회원      6.4437\n",
       " dtype: float64,\n",
       " const      0.0000\n",
       " birth      0.0000\n",
       " gender_M   0.0000\n",
       " type_비회원   0.0000\n",
       " dtype: float64)"
      ]
     },
     "execution_count": 261,
     "metadata": {},
     "output_type": "execute_result"
    }
   ],
   "source": [
    "model.params, model.tvalues, model.pvalues"
   ]
  },
  {
   "cell_type": "code",
   "execution_count": 244,
   "id": "7e4969ea-6eb8-40d3-8a20-0dec2780863b",
   "metadata": {},
   "outputs": [
    {
     "data": {
      "text/html": [
       "<div>\n",
       "<style scoped>\n",
       "    .dataframe tbody tr th:only-of-type {\n",
       "        vertical-align: middle;\n",
       "    }\n",
       "\n",
       "    .dataframe tbody tr th {\n",
       "        vertical-align: top;\n",
       "    }\n",
       "\n",
       "    .dataframe thead th {\n",
       "        text-align: right;\n",
       "    }\n",
       "</style>\n",
       "<table border=\"1\" class=\"dataframe\">\n",
       "  <thead>\n",
       "    <tr style=\"text-align: right;\">\n",
       "      <th></th>\n",
       "      <th>birth</th>\n",
       "      <th>gender_M</th>\n",
       "      <th>type_비회원</th>\n",
       "    </tr>\n",
       "  </thead>\n",
       "  <tbody>\n",
       "    <tr>\n",
       "      <th>8</th>\n",
       "      <td>1997</td>\n",
       "      <td>1</td>\n",
       "      <td>0</td>\n",
       "    </tr>\n",
       "    <tr>\n",
       "      <th>10</th>\n",
       "      <td>1998</td>\n",
       "      <td>0</td>\n",
       "      <td>0</td>\n",
       "    </tr>\n",
       "    <tr>\n",
       "      <th>17</th>\n",
       "      <td>1995</td>\n",
       "      <td>1</td>\n",
       "      <td>0</td>\n",
       "    </tr>\n",
       "    <tr>\n",
       "      <th>19</th>\n",
       "      <td>1988</td>\n",
       "      <td>0</td>\n",
       "      <td>0</td>\n",
       "    </tr>\n",
       "    <tr>\n",
       "      <th>24</th>\n",
       "      <td>1970</td>\n",
       "      <td>0</td>\n",
       "      <td>0</td>\n",
       "    </tr>\n",
       "  </tbody>\n",
       "</table>\n",
       "</div>"
      ],
      "text/plain": [
       "    birth  gender_M  type_비회원\n",
       "8    1997         1         0\n",
       "10   1998         0         0\n",
       "17   1995         1         0\n",
       "19   1988         0         0\n",
       "24   1970         0         0"
      ]
     },
     "execution_count": 244,
     "metadata": {},
     "output_type": "execute_result"
    }
   ],
   "source": [
    "x.head()"
   ]
  },
  {
   "cell_type": "code",
   "execution_count": 255,
   "id": "cf3ba84b-4f60-43cf-a227-66e395150b83",
   "metadata": {},
   "outputs": [
    {
     "data": {
      "text/plain": [
       "0   48.8493\n",
       "dtype: float64"
      ]
     },
     "execution_count": 255,
     "metadata": {},
     "output_type": "execute_result"
    }
   ],
   "source": [
    "xtrain = pd.DataFrame([2020, 1, 1], index=x.columns).T\n",
    "model.predict(xtrain)"
   ]
  },
  {
   "cell_type": "code",
   "execution_count": 257,
   "id": "10716dba-2c46-45e8-b8a9-084dbaafd786",
   "metadata": {},
   "outputs": [
    {
     "data": {
      "text/html": [
       "<div>\n",
       "<style scoped>\n",
       "    .dataframe tbody tr th:only-of-type {\n",
       "        vertical-align: middle;\n",
       "    }\n",
       "\n",
       "    .dataframe tbody tr th {\n",
       "        vertical-align: top;\n",
       "    }\n",
       "\n",
       "    .dataframe thead th {\n",
       "        text-align: right;\n",
       "    }\n",
       "</style>\n",
       "<table border=\"1\" class=\"dataframe\">\n",
       "  <thead>\n",
       "    <tr style=\"text-align: right;\">\n",
       "      <th></th>\n",
       "      <th>mean</th>\n",
       "      <th>mean_se</th>\n",
       "      <th>mean_ci_lower</th>\n",
       "      <th>mean_ci_upper</th>\n",
       "      <th>obs_ci_lower</th>\n",
       "      <th>obs_ci_upper</th>\n",
       "    </tr>\n",
       "  </thead>\n",
       "  <tbody>\n",
       "    <tr>\n",
       "      <th>0</th>\n",
       "      <td>48.8493</td>\n",
       "      <td>4.0654</td>\n",
       "      <td>40.8814</td>\n",
       "      <td>56.8173</td>\n",
       "      <td>-7.4925</td>\n",
       "      <td>105.1912</td>\n",
       "    </tr>\n",
       "  </tbody>\n",
       "</table>\n",
       "</div>"
      ],
      "text/plain": [
       "     mean  mean_se  mean_ci_lower  mean_ci_upper  obs_ci_lower  obs_ci_upper\n",
       "0 48.8493   4.0654        40.8814        56.8173       -7.4925      105.1912"
      ]
     },
     "execution_count": 257,
     "metadata": {},
     "output_type": "execute_result"
    }
   ],
   "source": [
    "predictions = model.get_prediction(xtrain)\n",
    "predictions.summary_frame()"
   ]
  },
  {
   "cell_type": "code",
   "execution_count": 269,
   "id": "3643f242-d698-4ce4-a797-d7730416fff6",
   "metadata": {},
   "outputs": [
    {
     "data": {
      "text/plain": [
       "2795345"
      ]
     },
     "execution_count": 269,
     "metadata": {},
     "output_type": "execute_result"
    }
   ],
   "source": [
    "len(df)"
   ]
  },
  {
   "cell_type": "code",
   "execution_count": null,
   "id": "33e19dc5-93e2-4206-af35-e49b8eca9285",
   "metadata": {},
   "outputs": [],
   "source": []
  }
 ],
 "metadata": {
  "kernelspec": {
   "display_name": "Python 3 (ipykernel)",
   "language": "python",
   "name": "python3"
  },
  "language_info": {
   "codemirror_mode": {
    "name": "ipython",
    "version": 3
   },
   "file_extension": ".py",
   "mimetype": "text/x-python",
   "name": "python",
   "nbconvert_exporter": "python",
   "pygments_lexer": "ipython3",
   "version": "3.11.3"
  }
 },
 "nbformat": 4,
 "nbformat_minor": 5
}
