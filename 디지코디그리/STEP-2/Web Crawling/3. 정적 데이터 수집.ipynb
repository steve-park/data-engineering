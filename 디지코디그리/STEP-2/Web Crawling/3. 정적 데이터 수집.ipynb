{
 "cells": [
  {
   "cell_type": "markdown",
   "id": "76d0ee84",
   "metadata": {},
   "source": [
    "# 정적 데이터 수집"
   ]
  },
  {
   "cell_type": "markdown",
   "id": "2cad6150",
   "metadata": {},
   "source": [
    "---"
   ]
  },
  {
   "cell_type": "markdown",
   "id": "c6d54c01",
   "metadata": {},
   "source": [
    "## 0. 라이브러리 import"
   ]
  },
  {
   "cell_type": "code",
   "execution_count": 1,
   "id": "755dd008",
   "metadata": {
    "tags": []
   },
   "outputs": [],
   "source": [
    "import requests\n",
    "from bs4 import BeautifulSoup"
   ]
  },
  {
   "cell_type": "markdown",
   "id": "fce65b8f",
   "metadata": {},
   "source": [
    "## 1. 데이터 요청 하기"
   ]
  },
  {
   "cell_type": "code",
   "execution_count": 2,
   "id": "a741e743",
   "metadata": {
    "scrolled": true,
    "tags": []
   },
   "outputs": [],
   "source": [
    "url = 'http://quotes.toscrape.com/' # 크롤링할 사이트 주소(크롤링 연습 사이트)\n",
    "# response = requests.get(url)\n",
    "response = requests.get(url, verify=False) # requests 모듈을 이용해 사이트에 요청을 보냄"
   ]
  },
  {
   "cell_type": "code",
   "execution_count": 3,
   "id": "5cfb0533",
   "metadata": {
    "tags": []
   },
   "outputs": [
    {
     "data": {
      "text/plain": [
       "200"
      ]
     },
     "execution_count": 3,
     "metadata": {},
     "output_type": "execute_result"
    }
   ],
   "source": [
    "response.status_code # 200이 나오면 정상적으로 응답이 왔다는 뜻"
   ]
  },
  {
   "cell_type": "code",
   "execution_count": 4,
   "id": "7cc358e0",
   "metadata": {
    "tags": []
   },
   "outputs": [],
   "source": [
    "my_html = response.text # 응답받은 객체에서 html 코드만 추출"
   ]
  },
  {
   "cell_type": "markdown",
   "id": "16450d43",
   "metadata": {},
   "source": [
    "## 2. 데이터 파싱"
   ]
  },
  {
   "cell_type": "code",
   "execution_count": 5,
   "id": "1fa3e20a",
   "metadata": {
    "tags": []
   },
   "outputs": [
    {
     "name": "stdout",
     "output_type": "stream",
     "text": [
      "<!DOCTYPE html>\n",
      "<html lang=\"en\">\n",
      " <head>\n",
      "  <meta charset=\"utf-8\"/>\n",
      "  <title>\n",
      "   Quotes to Scrape\n",
      "  </title>\n",
      "  <link href=\"/static/bootstrap.min.css\" rel=\"stylesheet\"/>\n",
      "  <link href=\"/static/main.css\" rel=\"stylesheet\"/>\n",
      " </head>\n",
      " <body>\n",
      "  <div class=\"container\">\n",
      "   <div class=\"row header-box\">\n",
      "    <div class=\"col-md-8\">\n",
      "     <h1>\n",
      "      <a href=\"/\" style=\"text-decoration: none\">\n",
      "       Quotes to Scrape\n",
      "      </a>\n",
      "     </h1>\n",
      "    </div>\n",
      "    <div class=\"col-md-4\">\n",
      "     <p>\n",
      "      <a href=\"/login\">\n",
      "       Login\n",
      "      </a>\n",
      "     </p>\n",
      "    </div>\n",
      "   </div>\n",
      "   <div class=\"row\">\n",
      "    <div class=\"col-md-8\">\n",
      "     <div class=\"quote\" itemscope=\"\" itemtype=\"http://schema.org/CreativeWork\">\n",
      "      <span class=\"text\" itemprop=\"text\">\n",
      "       “The world as we have created it is a process of our thinking. It cannot be changed without changing our thinking.”\n",
      "      </span>\n",
      "      <span>\n",
      "       by\n",
      "       <small class=\"author\" itemprop=\"author\">\n",
      "        Albert Einstein\n",
      "       </small>\n",
      "       <a href=\"/author/Albert-Einstein\">\n",
      "        (about)\n",
      "       </a>\n",
      "      </span>\n",
      "      <div class=\"tags\">\n",
      "       Tags:\n",
      "       <meta class=\"keywords\" content=\"change,deep-thoughts,thinking,world\" itemprop=\"keywords\"/>\n",
      "       <a class=\"tag\" href=\"/tag/change/page/1/\">\n",
      "        change\n",
      "       </a>\n",
      "       <a class=\"tag\" href=\"/tag/deep-thoughts/page/1/\">\n",
      "        deep-thoughts\n",
      "       </a>\n",
      "       <a class=\"tag\" href=\"/tag/thinking/page/1/\">\n",
      "        thinking\n",
      "       </a>\n",
      "       <a class=\"tag\" href=\"/tag/world/page/1/\">\n",
      "        world\n",
      "       </a>\n",
      "      </div>\n",
      "     </div>\n",
      "     <div class=\"quote\" itemscope=\"\" itemtype=\"http://schema.org/CreativeWork\">\n",
      "      <span class=\"text\" itemprop=\"text\">\n",
      "       “It is our choices, Harry, that show what we truly are, far more than our abilities.”\n",
      "      </span>\n",
      "      <span>\n",
      "       by\n",
      "       <small class=\"author\" itemprop=\"author\">\n",
      "        J.K. Rowling\n",
      "       </small>\n",
      "       <a href=\"/author/J-K-Rowling\">\n",
      "        (about)\n",
      "       </a>\n",
      "      </span>\n",
      "      <div class=\"tags\">\n",
      "       Tags:\n",
      "       <meta class=\"keywords\" content=\"abilities,choices\" itemprop=\"keywords\"/>\n",
      "       <a class=\"tag\" href=\"/tag/abilities/page/1/\">\n",
      "        abilities\n",
      "       </a>\n",
      "       <a class=\"tag\" href=\"/tag/choices/page/1/\">\n",
      "        choices\n",
      "       </a>\n",
      "      </div>\n",
      "     </div>\n",
      "     <div class=\"quote\" itemscope=\"\" itemtype=\"http://schema.org/CreativeWork\">\n",
      "      <span class=\"text\" itemprop=\"text\">\n",
      "       “There are only two ways to live your life. One is as though nothing is a miracle. The other is as though everything is a miracle.”\n",
      "      </span>\n",
      "      <span>\n",
      "       by\n",
      "       <small class=\"author\" itemprop=\"author\">\n",
      "        Albert Einstein\n",
      "       </small>\n",
      "       <a href=\"/author/Albert-Einstein\">\n",
      "        (about)\n",
      "       </a>\n",
      "      </span>\n",
      "      <div class=\"tags\">\n",
      "       Tags:\n",
      "       <meta class=\"keywords\" content=\"inspirational,life,live,miracle,miracles\" itemprop=\"keywords\"/>\n",
      "       <a class=\"tag\" href=\"/tag/inspirational/page/1/\">\n",
      "        inspirational\n",
      "       </a>\n",
      "       <a class=\"tag\" href=\"/tag/life/page/1/\">\n",
      "        life\n",
      "       </a>\n",
      "       <a class=\"tag\" href=\"/tag/live/page/1/\">\n",
      "        live\n",
      "       </a>\n",
      "       <a class=\"tag\" href=\"/tag/miracle/page/1/\">\n",
      "        miracle\n",
      "       </a>\n",
      "       <a class=\"tag\" href=\"/tag/miracles/page/1/\">\n",
      "        miracles\n",
      "       </a>\n",
      "      </div>\n",
      "     </div>\n",
      "     <div class=\"quote\" itemscope=\"\" itemtype=\"http://schema.org/CreativeWork\">\n",
      "      <span class=\"text\" itemprop=\"text\">\n",
      "       “The person, be it gentleman or lady, who has not pleasure in a good novel, must be intolerably stupid.”\n",
      "      </span>\n",
      "      <span>\n",
      "       by\n",
      "       <small class=\"author\" itemprop=\"author\">\n",
      "        Jane Austen\n",
      "       </small>\n",
      "       <a href=\"/author/Jane-Austen\">\n",
      "        (about)\n",
      "       </a>\n",
      "      </span>\n",
      "      <div class=\"tags\">\n",
      "       Tags:\n",
      "       <meta class=\"keywords\" content=\"aliteracy,books,classic,humor\" itemprop=\"keywords\"/>\n",
      "       <a class=\"tag\" href=\"/tag/aliteracy/page/1/\">\n",
      "        aliteracy\n",
      "       </a>\n",
      "       <a class=\"tag\" href=\"/tag/books/page/1/\">\n",
      "        books\n",
      "       </a>\n",
      "       <a class=\"tag\" href=\"/tag/classic/page/1/\">\n",
      "        classic\n",
      "       </a>\n",
      "       <a class=\"tag\" href=\"/tag/humor/page/1/\">\n",
      "        humor\n",
      "       </a>\n",
      "      </div>\n",
      "     </div>\n",
      "     <div class=\"quote\" itemscope=\"\" itemtype=\"http://schema.org/CreativeWork\">\n",
      "      <span class=\"text\" itemprop=\"text\">\n",
      "       “Imperfection is beauty, madness is genius and it's better to be absolutely ridiculous than absolutely boring.”\n",
      "      </span>\n",
      "      <span>\n",
      "       by\n",
      "       <small class=\"author\" itemprop=\"author\">\n",
      "        Marilyn Monroe\n",
      "       </small>\n",
      "       <a href=\"/author/Marilyn-Monroe\">\n",
      "        (about)\n",
      "       </a>\n",
      "      </span>\n",
      "      <div class=\"tags\">\n",
      "       Tags:\n",
      "       <meta class=\"keywords\" content=\"be-yourself,inspirational\" itemprop=\"keywords\"/>\n",
      "       <a class=\"tag\" href=\"/tag/be-yourself/page/1/\">\n",
      "        be-yourself\n",
      "       </a>\n",
      "       <a class=\"tag\" href=\"/tag/inspirational/page/1/\">\n",
      "        inspirational\n",
      "       </a>\n",
      "      </div>\n",
      "     </div>\n",
      "     <div class=\"quote\" itemscope=\"\" itemtype=\"http://schema.org/CreativeWork\">\n",
      "      <span class=\"text\" itemprop=\"text\">\n",
      "       “Try not to become a man of success. Rather become a man of value.”\n",
      "      </span>\n",
      "      <span>\n",
      "       by\n",
      "       <small class=\"author\" itemprop=\"author\">\n",
      "        Albert Einstein\n",
      "       </small>\n",
      "       <a href=\"/author/Albert-Einstein\">\n",
      "        (about)\n",
      "       </a>\n",
      "      </span>\n",
      "      <div class=\"tags\">\n",
      "       Tags:\n",
      "       <meta class=\"keywords\" content=\"adulthood,success,value\" itemprop=\"keywords\"/>\n",
      "       <a class=\"tag\" href=\"/tag/adulthood/page/1/\">\n",
      "        adulthood\n",
      "       </a>\n",
      "       <a class=\"tag\" href=\"/tag/success/page/1/\">\n",
      "        success\n",
      "       </a>\n",
      "       <a class=\"tag\" href=\"/tag/value/page/1/\">\n",
      "        value\n",
      "       </a>\n",
      "      </div>\n",
      "     </div>\n",
      "     <div class=\"quote\" itemscope=\"\" itemtype=\"http://schema.org/CreativeWork\">\n",
      "      <span class=\"text\" itemprop=\"text\">\n",
      "       “It is better to be hated for what you are than to be loved for what you are not.”\n",
      "      </span>\n",
      "      <span>\n",
      "       by\n",
      "       <small class=\"author\" itemprop=\"author\">\n",
      "        André Gide\n",
      "       </small>\n",
      "       <a href=\"/author/Andre-Gide\">\n",
      "        (about)\n",
      "       </a>\n",
      "      </span>\n",
      "      <div class=\"tags\">\n",
      "       Tags:\n",
      "       <meta class=\"keywords\" content=\"life,love\" itemprop=\"keywords\"/>\n",
      "       <a class=\"tag\" href=\"/tag/life/page/1/\">\n",
      "        life\n",
      "       </a>\n",
      "       <a class=\"tag\" href=\"/tag/love/page/1/\">\n",
      "        love\n",
      "       </a>\n",
      "      </div>\n",
      "     </div>\n",
      "     <div class=\"quote\" itemscope=\"\" itemtype=\"http://schema.org/CreativeWork\">\n",
      "      <span class=\"text\" itemprop=\"text\">\n",
      "       “I have not failed. I've just found 10,000 ways that won't work.”\n",
      "      </span>\n",
      "      <span>\n",
      "       by\n",
      "       <small class=\"author\" itemprop=\"author\">\n",
      "        Thomas A. Edison\n",
      "       </small>\n",
      "       <a href=\"/author/Thomas-A-Edison\">\n",
      "        (about)\n",
      "       </a>\n",
      "      </span>\n",
      "      <div class=\"tags\">\n",
      "       Tags:\n",
      "       <meta class=\"keywords\" content=\"edison,failure,inspirational,paraphrased\" itemprop=\"keywords\"/>\n",
      "       <a class=\"tag\" href=\"/tag/edison/page/1/\">\n",
      "        edison\n",
      "       </a>\n",
      "       <a class=\"tag\" href=\"/tag/failure/page/1/\">\n",
      "        failure\n",
      "       </a>\n",
      "       <a class=\"tag\" href=\"/tag/inspirational/page/1/\">\n",
      "        inspirational\n",
      "       </a>\n",
      "       <a class=\"tag\" href=\"/tag/paraphrased/page/1/\">\n",
      "        paraphrased\n",
      "       </a>\n",
      "      </div>\n",
      "     </div>\n",
      "     <div class=\"quote\" itemscope=\"\" itemtype=\"http://schema.org/CreativeWork\">\n",
      "      <span class=\"text\" itemprop=\"text\">\n",
      "       “A woman is like a tea bag; you never know how strong it is until it's in hot water.”\n",
      "      </span>\n",
      "      <span>\n",
      "       by\n",
      "       <small class=\"author\" itemprop=\"author\">\n",
      "        Eleanor Roosevelt\n",
      "       </small>\n",
      "       <a href=\"/author/Eleanor-Roosevelt\">\n",
      "        (about)\n",
      "       </a>\n",
      "      </span>\n",
      "      <div class=\"tags\">\n",
      "       Tags:\n",
      "       <meta class=\"keywords\" content=\"misattributed-eleanor-roosevelt\" itemprop=\"keywords\"/>\n",
      "       <a class=\"tag\" href=\"/tag/misattributed-eleanor-roosevelt/page/1/\">\n",
      "        misattributed-eleanor-roosevelt\n",
      "       </a>\n",
      "      </div>\n",
      "     </div>\n",
      "     <div class=\"quote\" itemscope=\"\" itemtype=\"http://schema.org/CreativeWork\">\n",
      "      <span class=\"text\" itemprop=\"text\">\n",
      "       “A day without sunshine is like, you know, night.”\n",
      "      </span>\n",
      "      <span>\n",
      "       by\n",
      "       <small class=\"author\" itemprop=\"author\">\n",
      "        Steve Martin\n",
      "       </small>\n",
      "       <a href=\"/author/Steve-Martin\">\n",
      "        (about)\n",
      "       </a>\n",
      "      </span>\n",
      "      <div class=\"tags\">\n",
      "       Tags:\n",
      "       <meta class=\"keywords\" content=\"humor,obvious,simile\" itemprop=\"keywords\"/>\n",
      "       <a class=\"tag\" href=\"/tag/humor/page/1/\">\n",
      "        humor\n",
      "       </a>\n",
      "       <a class=\"tag\" href=\"/tag/obvious/page/1/\">\n",
      "        obvious\n",
      "       </a>\n",
      "       <a class=\"tag\" href=\"/tag/simile/page/1/\">\n",
      "        simile\n",
      "       </a>\n",
      "      </div>\n",
      "     </div>\n",
      "     <nav>\n",
      "      <ul class=\"pager\">\n",
      "       <li class=\"next\">\n",
      "        <a href=\"/page/2/\">\n",
      "         Next\n",
      "         <span aria-hidden=\"true\">\n",
      "          →\n",
      "         </span>\n",
      "        </a>\n",
      "       </li>\n",
      "      </ul>\n",
      "     </nav>\n",
      "    </div>\n",
      "    <div class=\"col-md-4 tags-box\">\n",
      "     <h2>\n",
      "      Top Ten tags\n",
      "     </h2>\n",
      "     <span class=\"tag-item\">\n",
      "      <a class=\"tag\" href=\"/tag/love/\" style=\"font-size: 28px\">\n",
      "       love\n",
      "      </a>\n",
      "     </span>\n",
      "     <span class=\"tag-item\">\n",
      "      <a class=\"tag\" href=\"/tag/inspirational/\" style=\"font-size: 26px\">\n",
      "       inspirational\n",
      "      </a>\n",
      "     </span>\n",
      "     <span class=\"tag-item\">\n",
      "      <a class=\"tag\" href=\"/tag/life/\" style=\"font-size: 26px\">\n",
      "       life\n",
      "      </a>\n",
      "     </span>\n",
      "     <span class=\"tag-item\">\n",
      "      <a class=\"tag\" href=\"/tag/humor/\" style=\"font-size: 24px\">\n",
      "       humor\n",
      "      </a>\n",
      "     </span>\n",
      "     <span class=\"tag-item\">\n",
      "      <a class=\"tag\" href=\"/tag/books/\" style=\"font-size: 22px\">\n",
      "       books\n",
      "      </a>\n",
      "     </span>\n",
      "     <span class=\"tag-item\">\n",
      "      <a class=\"tag\" href=\"/tag/reading/\" style=\"font-size: 14px\">\n",
      "       reading\n",
      "      </a>\n",
      "     </span>\n",
      "     <span class=\"tag-item\">\n",
      "      <a class=\"tag\" href=\"/tag/friendship/\" style=\"font-size: 10px\">\n",
      "       friendship\n",
      "      </a>\n",
      "     </span>\n",
      "     <span class=\"tag-item\">\n",
      "      <a class=\"tag\" href=\"/tag/friends/\" style=\"font-size: 8px\">\n",
      "       friends\n",
      "      </a>\n",
      "     </span>\n",
      "     <span class=\"tag-item\">\n",
      "      <a class=\"tag\" href=\"/tag/truth/\" style=\"font-size: 8px\">\n",
      "       truth\n",
      "      </a>\n",
      "     </span>\n",
      "     <span class=\"tag-item\">\n",
      "      <a class=\"tag\" href=\"/tag/simile/\" style=\"font-size: 6px\">\n",
      "       simile\n",
      "      </a>\n",
      "     </span>\n",
      "    </div>\n",
      "   </div>\n",
      "  </div>\n",
      "  <footer class=\"footer\">\n",
      "   <div class=\"container\">\n",
      "    <p class=\"text-muted\">\n",
      "     Quotes by:\n",
      "     <a href=\"https://www.goodreads.com/quotes\">\n",
      "      GoodReads.com\n",
      "     </a>\n",
      "    </p>\n",
      "    <p class=\"copyright\">\n",
      "     Made with\n",
      "     <span class=\"sh-red\">\n",
      "      ❤\n",
      "     </span>\n",
      "     by\n",
      "     <a href=\"https://scrapinghub.com\">\n",
      "      Scrapinghub\n",
      "     </a>\n",
      "    </p>\n",
      "   </div>\n",
      "  </footer>\n",
      " </body>\n",
      "</html>\n",
      "\n"
     ]
    }
   ],
   "source": [
    "soup = BeautifulSoup(my_html, 'html.parser') # BeautifulSoup 객체를 생성\n",
    "\n",
    "print(soup.prettify()) # soup 객체를 출력"
   ]
  },
  {
   "cell_type": "markdown",
   "id": "feef8bc7",
   "metadata": {},
   "source": [
    "## 3. 원하는 데이터 추출하기"
   ]
  },
  {
   "cell_type": "markdown",
   "id": "d2f7a0ec",
   "metadata": {},
   "source": [
    "### 1) CSS_selector 사용법 알아보기"
   ]
  },
  {
   "cell_type": "code",
   "execution_count": 6,
   "id": "b4c3d10e",
   "metadata": {
    "tags": []
   },
   "outputs": [],
   "source": [
    "test_html = \"\"\"\n",
    "<html>\n",
    "    <head>\n",
    "        <title>CSS Selectors Practice</title>\n",
    "    </head>\n",
    "    <body>\n",
    "        <h2>Hello, World!</h2>\n",
    "        <p id=\"uniqueId\">This is a paragraph with a unique ID!</p>\n",
    "        <p class=\"blueText\">This is a paragraph with class blueText!</p>\n",
    "        <input type=\"text\" value=\"Hello there!\" />\n",
    "        <a href=\"#\">Hover over me!</a>\n",
    "        <p>Watch the first letter of this paragraph!</p>\n",
    "        <div>\n",
    "            <p>This is a direct child of a div element!</p>\n",
    "        </div>\n",
    "    </body>\n",
    "</html>\n",
    "\"\"\"\n",
    "test_soup = BeautifulSoup(test_html, 'html.parser') # BeautifulSoup 객체를 생성"
   ]
  },
  {
   "cell_type": "code",
   "execution_count": 7,
   "id": "6407f0da",
   "metadata": {
    "tags": []
   },
   "outputs": [
    {
     "name": "stdout",
     "output_type": "stream",
     "text": [
      "<h2>Hello, World!</h2>\n",
      "[<p id=\"uniqueId\">This is a paragraph with a unique ID!</p>, <p class=\"blueText\">This is a paragraph with class blueText!</p>, <p>Watch the first letter of this paragraph!</p>, <p>This is a direct child of a div element!</p>]\n"
     ]
    }
   ],
   "source": [
    "# BeautifulSoup객체에서 CSS Selector로 요소를 찾는 방법\n",
    "\n",
    "# soup.select_one() : CSS Selector로 요소 하나를 추출\n",
    "# soup.select() : CSS Selector로 요소 여러 개를 리스트로 추출\n",
    "\n",
    "# 1. 태그로 요소를 찾는 방법\n",
    "# soup.select_one('태그이름')\n",
    "print(test_soup.select_one('h2')) # h2 태그를 찾아서 출력\n",
    "print(test_soup.select('p')) # p 태그를 찾아서 출력\n"
   ]
  },
  {
   "cell_type": "code",
   "execution_count": 8,
   "id": "995623ff",
   "metadata": {
    "tags": []
   },
   "outputs": [
    {
     "name": "stdout",
     "output_type": "stream",
     "text": [
      "<p id=\"uniqueId\">This is a paragraph with a unique ID!</p>\n"
     ]
    }
   ],
   "source": [
    "\n",
    "# 2. 아이디로 요소를 찾는 방법\n",
    "# soup.select_one('#아이디이름')\n",
    "print(test_soup.select_one('#uniqueId')) # id가 uniqueId인 요소를 찾아서 출력\n"
   ]
  },
  {
   "cell_type": "code",
   "execution_count": 9,
   "id": "33aa91f5",
   "metadata": {
    "tags": []
   },
   "outputs": [
    {
     "name": "stdout",
     "output_type": "stream",
     "text": [
      "[<p class=\"blueText\">This is a paragraph with class blueText!</p>]\n"
     ]
    }
   ],
   "source": [
    "\n",
    "# 3. 클래스로 요소를 찾는 방법\n",
    "# soup.select_one('.클래스이름')\n",
    "print(test_soup.select('.blueText')) # class가 blueText인 요소를 찾아서 출력\n"
   ]
  },
  {
   "cell_type": "code",
   "execution_count": 10,
   "id": "cba9c22e",
   "metadata": {
    "tags": []
   },
   "outputs": [
    {
     "name": "stdout",
     "output_type": "stream",
     "text": [
      "[<a href=\"#\">Hover over me!</a>]\n"
     ]
    }
   ],
   "source": [
    "\n",
    "# 4. 속성으로 요소를 찾는 방법\n",
    "# soup.select_one('태그이름[속성이름=값]')\n",
    "print(test_soup.select('a[href=\"#\"]')) # a 태그 중 href가 #인 요소를 찾아서 출력\n"
   ]
  },
  {
   "cell_type": "code",
   "execution_count": 11,
   "id": "55ed4161",
   "metadata": {
    "tags": []
   },
   "outputs": [
    {
     "name": "stdout",
     "output_type": "stream",
     "text": [
      "[<p>This is a direct child of a div element!</p>]\n"
     ]
    }
   ],
   "source": [
    "\n",
    "# 5. 하위 요소를 찾는 방법\n",
    "# soup.select_one('상위태그이름 > 하위태그이름')\n",
    "print(test_soup.select('div > p')) # div 태그의 하위 태그 중 p 태그를 찾아서 출력\n"
   ]
  },
  {
   "cell_type": "code",
   "execution_count": 12,
   "id": "71f76a5e",
   "metadata": {
    "tags": []
   },
   "outputs": [
    {
     "name": "stdout",
     "output_type": "stream",
     "text": [
      "[<p id=\"uniqueId\">This is a paragraph with a unique ID!</p>, <p class=\"blueText\">This is a paragraph with class blueText!</p>, <p>Watch the first letter of this paragraph!</p>, <p>This is a direct child of a div element!</p>]\n"
     ]
    }
   ],
   "source": [
    "\n",
    "# 6. 후손 요소를 찾는 방법\n",
    "# soup.select_one('상위태그이름 하위태그이름')\n",
    "print(test_soup.select('body p')) # div 태그의 후손 태그 중 p 태그를 찾아서 출력\n"
   ]
  },
  {
   "cell_type": "code",
   "execution_count": 13,
   "id": "92bb973c",
   "metadata": {
    "tags": []
   },
   "outputs": [
    {
     "name": "stdout",
     "output_type": "stream",
     "text": [
      "<p class=\"blueText\">This is a paragraph with class blueText!</p>\n"
     ]
    }
   ],
   "source": [
    "\n",
    "# 7. n번째 요소를 찾는 방법\n",
    "# soup.select_one('태그이름:nth-child(n)')\n",
    "print(test_soup.select_one('p:nth-child(3)')) # p 태그 중 3번째 자식인 것을 찾아서 출력\n"
   ]
  },
  {
   "cell_type": "code",
   "execution_count": 14,
   "id": "078e7c0a",
   "metadata": {
    "tags": []
   },
   "outputs": [
    {
     "name": "stdout",
     "output_type": "stream",
     "text": [
      "<p>Watch the first letter of this paragraph!</p>\n"
     ]
    }
   ],
   "source": [
    "\n",
    "# 8. n번째 타입 요소를 찾는 방법\n",
    "# soup.select_one('태그이름:nth-of-type(n)')\n",
    "print(test_soup.select_one('p:nth-of-type(3)')) # p 태그 중 3번째 태그을 찾아서 출력"
   ]
  },
  {
   "cell_type": "markdown",
   "id": "3800e9c1",
   "metadata": {},
   "source": [
    "### 2) 데이터 추출하기"
   ]
  },
  {
   "cell_type": "markdown",
   "id": "d259941c",
   "metadata": {},
   "source": [
    "- HTML 요소 찾기"
   ]
  },
  {
   "cell_type": "code",
   "execution_count": 15,
   "id": "fe15d812",
   "metadata": {
    "tags": []
   },
   "outputs": [
    {
     "name": "stdout",
     "output_type": "stream",
     "text": [
      "<span class=\"text\" itemprop=\"text\">“The world as we have created it is a process of our thinking. It cannot be changed without changing our thinking.”</span>\n",
      "[<span class=\"text\" itemprop=\"text\">“The world as we have created it is a process of our thinking. It cannot be changed without changing our thinking.”</span>, <span class=\"text\" itemprop=\"text\">“It is our choices, Harry, that show what we truly are, far more than our abilities.”</span>, <span class=\"text\" itemprop=\"text\">“There are only two ways to live your life. One is as though nothing is a miracle. The other is as though everything is a miracle.”</span>, <span class=\"text\" itemprop=\"text\">“The person, be it gentleman or lady, who has not pleasure in a good novel, must be intolerably stupid.”</span>, <span class=\"text\" itemprop=\"text\">“Imperfection is beauty, madness is genius and it's better to be absolutely ridiculous than absolutely boring.”</span>, <span class=\"text\" itemprop=\"text\">“Try not to become a man of success. Rather become a man of value.”</span>, <span class=\"text\" itemprop=\"text\">“It is better to be hated for what you are than to be loved for what you are not.”</span>, <span class=\"text\" itemprop=\"text\">“I have not failed. I've just found 10,000 ways that won't work.”</span>, <span class=\"text\" itemprop=\"text\">“A woman is like a tea bag; you never know how strong it is until it's in hot water.”</span>, <span class=\"text\" itemprop=\"text\">“A day without sunshine is like, you know, night.”</span>]\n"
     ]
    }
   ],
   "source": [
    "# 개발자도구를 이용해 CSS Selector를 찾는 방법\n",
    "# 1. 개발자도구를 열고 원하는 요소를 선택\n",
    "# 2. 마우스 오른쪽 버튼을 클릭하고 Copy - Copy selector를 선택\n",
    "# 3. 복사한 CSS Selector를 select_one()이나 select()의 인자로 넣어서 요소를 찾음\n",
    "\n",
    "# selector : body > div > div:nth-child(2) > div.col-md-8 > div:nth-child(1) > span.text\n",
    "span = soup.select_one('body > div > div:nth-child(2) > div.col-md-8 > div:nth-child(1) > span.text')\n",
    "print(span)\n",
    "\n",
    "# 여러개의 요소를 찾을 때는 select()를 사용\n",
    "spans = soup.select('body > div > div:nth-child(2) > div.col-md-8 > div > span.text')\n",
    "print(spans)"
   ]
  },
  {
   "cell_type": "markdown",
   "id": "848d04cb",
   "metadata": {},
   "source": [
    "- 찾은 요소의 데이터를 다루기"
   ]
  },
  {
   "cell_type": "code",
   "execution_count": 16,
   "id": "7b6a5ed0",
   "metadata": {
    "tags": []
   },
   "outputs": [
    {
     "name": "stdout",
     "output_type": "stream",
     "text": [
      "“The world as we have created it is a process of our thinking. It cannot be changed without changing our thinking.”\n",
      "“The world as we have created it is a process of our thinking. It cannot be changed without changing our thinking.”\n",
      "“The world as we have created it is a process of our thinking. It cannot be changed without changing our thinking.”\n"
     ]
    }
   ],
   "source": [
    "# 찾은 요소의 텍스트를 추출하는 방법\n",
    "# 1. get_text() : 요소에서 텍스트만 추출\n",
    "print(span.get_text())\n",
    "\n",
    "# 2. string 속성 : 요소에서 텍스트만 추출\n",
    "print(span.string)\n",
    "\n",
    "# 3. text 속성 : 요소에서 텍스트만 추출\n",
    "print(span.text)"
   ]
  },
  {
   "cell_type": "code",
   "execution_count": 17,
   "id": "27f2a261",
   "metadata": {
    "tags": []
   },
   "outputs": [
    {
     "name": "stdout",
     "output_type": "stream",
     "text": [
      "{'class': ['text'], 'itemprop': 'text'}\n",
      "['text']\n",
      "['text']\n"
     ]
    }
   ],
   "source": [
    "# 찾은 요소의 속성을 추출하는 방법\n",
    "# 1. attrs 속성 : 요소의 모든 속성을 딕셔너리로 추출\n",
    "print(span.attrs)\n",
    "\n",
    "# 2. 속성 이름으로 접근\n",
    "print(span['class'])\n",
    "\n",
    "# 3. get() 메서드로 추출\n",
    "print(span.get('class'))"
   ]
  },
  {
   "cell_type": "code",
   "execution_count": null,
   "id": "a99c19b6",
   "metadata": {},
   "outputs": [],
   "source": []
  }
 ],
 "metadata": {
  "kernelspec": {
   "display_name": "Python 3 (ipykernel)",
   "language": "python",
   "name": "python3"
  },
  "language_info": {
   "codemirror_mode": {
    "name": "ipython",
    "version": 3
   },
   "file_extension": ".py",
   "mimetype": "text/x-python",
   "name": "python",
   "nbconvert_exporter": "python",
   "pygments_lexer": "ipython3",
   "version": "3.11.3"
  }
 },
 "nbformat": 4,
 "nbformat_minor": 5
}
