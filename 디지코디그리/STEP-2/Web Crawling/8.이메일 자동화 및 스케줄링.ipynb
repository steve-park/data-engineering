{
 "cells": [
  {
   "cell_type": "markdown",
   "id": "7a80b617",
   "metadata": {},
   "source": [
    "# 이메일 자동화 및 스케줄링\n"
   ]
  },
  {
   "cell_type": "markdown",
   "id": "2a9cc9e7",
   "metadata": {},
   "source": [
    "---"
   ]
  },
  {
   "cell_type": "markdown",
   "id": "a6216d16",
   "metadata": {},
   "source": [
    "#### introduce email library\n",
    "- email 라이브러리는 파이썬에서 이메일을 보내기 위해 사용되는 내장 라이브러리입니다.\n",
    "- email 라이브러리는 이메일을 보내기 위해 사용되는 클래스와 메서드를 제공합니다.\n",
    "\n",
    "#### MIME\n",
    "- MIME(Multipurpose Internet Mail Extensions)은 이메일 메시지에 텍스트 문자셋, 인코딩, 이미지, 오디오, 비디오 등 비문자 데이터를 추가할 수 있도록 하는 인터넷 표준입니다.\n",
    "- MIME은 이메일 메시지에 비문자 데이터를 추가하기 위해 사용됩니다.\n",
    "- MIME은 이메일 메시지에 텍스트 문자셋과 인코딩을 추가하기 위해 사용됩니다.\n",
    "\n",
    "#### MIMEText\n",
    "- MIMEText 클래스는 이메일 메시지에 텍스트나 HTML 문자열 추가하기 위해 사용됩니다.\n",
    "\n",
    "#### MIMEMultipart\n",
    "- MIMEMultipart 클래스는 이메일 메시지에 여러 파트를 추가하기 위해 사용됩니다."
   ]
  },
  {
   "cell_type": "markdown",
   "id": "ca1caed8",
   "metadata": {},
   "source": [
    "#### introduce smtplib\n",
    "- smtplib는 파이썬에서 메일을 보내기 위해 사용되는 내장 라이브러리입니다.\n",
    "- smtplib는 SMTP(Simple Mail Transfer Protocol)를 사용하여 메일을 보냅니다.\n",
    "- SMTP는 인터넷에서 이메일을 보내기 위해 사용되는 프로토콜입니다.\n",
    "- SMTP는 메일을 보내는 클라이언트와 받는 클라이언트 사이에서 메일을 전송하는데 사용됩니다.\n",
    "\n",
    "#### SMTP 서버\n",
    "- SMTP 서버는 메일을 보내기 위해 사용되는 서버입니다.\n",
    "\n",
    "#### SMTP 서버 주소\n",
    "- 네이버의 SMTP 서버 주소는 smtp.naver.com입니다.\n",
    "\n",
    "#### SMTP 포트\n",
    "- 네이버 SMTP 서버는 587 포트를 사용합니다.\n",
    "\n",
    "#### SMTP 인증\n",
    "- SMTP 인증은 SMTP 서버에 로그인하기 위해 사용됩니다.\n",
    "- SMTP 인증은 사용자의 이메일 주소와 비밀번호를 사용하여 로그인합니다.\n",
    "- 네이버의 경우 SMTP 인증을 사용하려면 네이버 계정에 로그인하여 IMAP를 사용하도록 설정해야 합니다.\n",
    "\n",
    "#### SMTP 연결\n",
    "- SMTP 서버에 연결하려면 smtplib.SMTP() 메서드를 사용합니다.\n",
    "- smtplib.SMTP() 메서드는 SMTP 서버 주소와 포트 번호를 인수로 받습니다."
   ]
  },
  {
   "cell_type": "markdown",
   "id": "498d92e1",
   "metadata": {},
   "source": [
    "### 라이브러리 import"
   ]
  },
  {
   "cell_type": "code",
   "execution_count": 1,
   "id": "45cf62e5",
   "metadata": {},
   "outputs": [],
   "source": [
    "import smtplib\n",
    "from email.mime.text import MIMEText\n",
    "from email.mime.multipart import MIMEMultipart\n",
    "# from email.mime.application import MIMEApplication"
   ]
  },
  {
   "cell_type": "markdown",
   "id": "c826f31f",
   "metadata": {},
   "source": [
    "#### 이메일 정보 입력 및 이메일 메시지 작성"
   ]
  },
  {
   "cell_type": "code",
   "execution_count": 2,
   "id": "e2197751",
   "metadata": {},
   "outputs": [],
   "source": [
    "SMTP_SERVER = 'smtp.naver.com'\n",
    "SMTP_PORT = 587\n",
    "\n",
    "# MIMEMultipart 객체 생성. 이 객체는 이메일을 나타냅니다.\n",
    "message = MIMEMultipart()\n",
    "\n",
    "# 이메일의 '보낸 사람', '받는 사람', '제목' 필드를 설정합니다.\n",
    "message['Subject'] = '메일 전송 테스트'\n",
    "message['From'] = \"ths1611@naver.com\"\n",
    "message['To'] = \"sonhw1611@gmail.com\"\n",
    "\n",
    "# 본문 내용\n",
    "content = '테스트 이메일입니다.'\n",
    "\n",
    "message.attach(MIMEText(content))"
   ]
  },
  {
   "cell_type": "markdown",
   "id": "ef1ac37a",
   "metadata": {},
   "source": [
    "#### SMTP 서버 연결"
   ]
  },
  {
   "cell_type": "code",
   "execution_count": 3,
   "id": "b6c73c4c",
   "metadata": {},
   "outputs": [
    {
     "ename": "FileNotFoundError",
     "evalue": "[Errno 2] No such file or directory: 'my email info/id.txt'",
     "output_type": "error",
     "traceback": [
      "\u001b[1;31m---------------------------------------------------------------------------\u001b[0m",
      "\u001b[1;31mFileNotFoundError\u001b[0m                         Traceback (most recent call last)",
      "Cell \u001b[1;32mIn[3], line 2\u001b[0m\n\u001b[0;32m      1\u001b[0m \u001b[38;5;66;03m# id 불러오기 (미리 메모장을 이용해 파일을 만든 후 실습 진행)\u001b[39;00m\n\u001b[1;32m----> 2\u001b[0m \u001b[38;5;28;01mwith\u001b[39;00m \u001b[38;5;28;43mopen\u001b[39;49m\u001b[43m(\u001b[49m\u001b[38;5;124;43m'\u001b[39;49m\u001b[38;5;124;43mmy email info/id.txt\u001b[39;49m\u001b[38;5;124;43m'\u001b[39;49m\u001b[43m,\u001b[49m\u001b[43m \u001b[49m\u001b[38;5;124;43m'\u001b[39;49m\u001b[38;5;124;43mr\u001b[39;49m\u001b[38;5;124;43m'\u001b[39;49m\u001b[43m)\u001b[49m \u001b[38;5;28;01mas\u001b[39;00m f:\n\u001b[0;32m      3\u001b[0m      EMAIL_ADDR \u001b[38;5;241m=\u001b[39m f\u001b[38;5;241m.\u001b[39mread()\n\u001b[0;32m      4\u001b[0m \u001b[38;5;66;03m# pw 불러오기 (미리 메모장을 이용해 파일을 만든 후 실습 진행)\u001b[39;00m\n",
      "File \u001b[1;32mD:\\Program Files\\Python311\\Lib\\site-packages\\IPython\\core\\interactiveshell.py:284\u001b[0m, in \u001b[0;36m_modified_open\u001b[1;34m(file, *args, **kwargs)\u001b[0m\n\u001b[0;32m    277\u001b[0m \u001b[38;5;28;01mif\u001b[39;00m file \u001b[38;5;129;01min\u001b[39;00m {\u001b[38;5;241m0\u001b[39m, \u001b[38;5;241m1\u001b[39m, \u001b[38;5;241m2\u001b[39m}:\n\u001b[0;32m    278\u001b[0m     \u001b[38;5;28;01mraise\u001b[39;00m \u001b[38;5;167;01mValueError\u001b[39;00m(\n\u001b[0;32m    279\u001b[0m         \u001b[38;5;124mf\u001b[39m\u001b[38;5;124m\"\u001b[39m\u001b[38;5;124mIPython won\u001b[39m\u001b[38;5;124m'\u001b[39m\u001b[38;5;124mt let you open fd=\u001b[39m\u001b[38;5;132;01m{\u001b[39;00mfile\u001b[38;5;132;01m}\u001b[39;00m\u001b[38;5;124m by default \u001b[39m\u001b[38;5;124m\"\u001b[39m\n\u001b[0;32m    280\u001b[0m         \u001b[38;5;124m\"\u001b[39m\u001b[38;5;124mas it is likely to crash IPython. If you know what you are doing, \u001b[39m\u001b[38;5;124m\"\u001b[39m\n\u001b[0;32m    281\u001b[0m         \u001b[38;5;124m\"\u001b[39m\u001b[38;5;124myou can use builtins\u001b[39m\u001b[38;5;124m'\u001b[39m\u001b[38;5;124m open.\u001b[39m\u001b[38;5;124m\"\u001b[39m\n\u001b[0;32m    282\u001b[0m     )\n\u001b[1;32m--> 284\u001b[0m \u001b[38;5;28;01mreturn\u001b[39;00m \u001b[43mio_open\u001b[49m\u001b[43m(\u001b[49m\u001b[43mfile\u001b[49m\u001b[43m,\u001b[49m\u001b[43m \u001b[49m\u001b[38;5;241;43m*\u001b[39;49m\u001b[43margs\u001b[49m\u001b[43m,\u001b[49m\u001b[43m \u001b[49m\u001b[38;5;241;43m*\u001b[39;49m\u001b[38;5;241;43m*\u001b[39;49m\u001b[43mkwargs\u001b[49m\u001b[43m)\u001b[49m\n",
      "\u001b[1;31mFileNotFoundError\u001b[0m: [Errno 2] No such file or directory: 'my email info/id.txt'"
     ]
    }
   ],
   "source": [
    "# id 불러오기 (미리 메모장을 이용해 파일을 만든 후 실습 진행)\n",
    "with open('my email info/id.txt', 'r') as f:\n",
    "     EMAIL_ADDR = f.read()\n",
    "# pw 불러오기 (미리 메모장을 이용해 파일을 만든 후 실습 진행)\n",
    "with open('my email info/pw.txt', 'r') as f:\n",
    "     EMAIL_PASSWORD = f.read()\n",
    "\n",
    "\n",
    "# 587 포트의 네이버 SMTP 서버와의 새로운 SMTP 연결 객체를 생성합니다.\n",
    "server = smtplib.SMTP(SMTP_SERVER,SMTP_PORT)\n",
    "\n",
    "# TLS 암호화를 시작합니다. 만약 SMTP_SSL() 클래스를 사용하여 TLS 암호화 연결을 만들었다면 이 단계는 필요하지 않습니다.\n",
    "server.starttls()\n",
    "\n",
    "# SMTP 서버를 통해 우리의 이메일 계정에 로그인합니다.\n",
    "server.login(EMAIL_ADDR,EMAIL_PASSWORD)\n",
    "\n",
    "# 이메일을 보냅니다. 보내는 사람, 받는 사람을 지정하고 MIMEMultipart 객체를 문자열로 변환합니다.\n",
    "server.sendmail(message['From'], message['To'] ,message.as_string())\n",
    "\n",
    "# SMTP 연결을 닫습니다.\n",
    "server.quit()"
   ]
  },
  {
   "cell_type": "code",
   "execution_count": null,
   "id": "1a1e2ef5",
   "metadata": {},
   "outputs": [],
   "source": []
  }
 ],
 "metadata": {
  "kernelspec": {
   "display_name": "Python 3 (ipykernel)",
   "language": "python",
   "name": "python3"
  },
  "language_info": {
   "codemirror_mode": {
    "name": "ipython",
    "version": 3
   },
   "file_extension": ".py",
   "mimetype": "text/x-python",
   "name": "python",
   "nbconvert_exporter": "python",
   "pygments_lexer": "ipython3",
   "version": "3.11.3"
  }
 },
 "nbformat": 4,
 "nbformat_minor": 5
}
