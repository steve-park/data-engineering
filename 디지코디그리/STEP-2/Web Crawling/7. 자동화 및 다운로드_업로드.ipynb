{
 "cells": [
  {
   "cell_type": "markdown",
   "id": "7a80b617",
   "metadata": {},
   "source": [
    "# 자동화 및 다운로드/업로드"
   ]
  },
  {
   "cell_type": "markdown",
   "id": "778538d6",
   "metadata": {},
   "source": [
    "---"
   ]
  },
  {
   "cell_type": "code",
   "execution_count": 1,
   "id": "24313043",
   "metadata": {
    "tags": []
   },
   "outputs": [],
   "source": [
    "from selenium import webdriver\n",
    "from selenium.webdriver.common.by import By\n",
    "from selenium.webdriver.support.ui import WebDriverWait\n",
    "from selenium.webdriver.support import expected_conditions as EC\n",
    "\n",
    "import requests\n",
    "import os\n",
    "import shutil\n",
    "import datetime\n",
    "import pandas as pd"
   ]
  },
  {
   "cell_type": "markdown",
   "id": "5d5ab68b",
   "metadata": {},
   "source": [
    "## os 모듈 연습하기"
   ]
  },
  {
   "cell_type": "code",
   "execution_count": 2,
   "id": "b6104bc1",
   "metadata": {
    "tags": []
   },
   "outputs": [
    {
     "name": "stdout",
     "output_type": "stream",
     "text": [
      "현재 작업 디렉토리: D:\\Tutorials\\디지코디그리\\STEP-2\n"
     ]
    }
   ],
   "source": [
    "# 현재 작업 디렉토리 가져오기\n",
    "cwd = os.getcwd()\n",
    "print(f'현재 작업 디렉토리: {cwd}')\n"
   ]
  },
  {
   "cell_type": "code",
   "execution_count": 3,
   "id": "16b5f7d0",
   "metadata": {
    "tags": []
   },
   "outputs": [
    {
     "name": "stdout",
     "output_type": "stream",
     "text": [
      "현재 디렉토리의 파일 및 디렉토리:\n",
      "['.ipynb_checkpoints', '2.1 Requests 알아보기.ipynb', '2.2 BeautifulSoup 알아보기.ipynb', '2.3 Selenium 알아보기.ipynb', '3. 정적 데이터 수집.ipynb', '4. 정적 데이터 수집(공공 API).ipynb', '5. 동적 데이터 수집.ipynb', '6. 동적 데이터 수집(네이버 뉴스 기사).ipynb', '7. 자동화 및 다운로드_업로드.ipynb', '8.이메일 자동화 및 스케줄링.ipynb']\n"
     ]
    }
   ],
   "source": [
    "# 현재 디렉토리에 있는 모든 파일과 디렉토리를 나열하기\n",
    "print('현재 디렉토리의 파일 및 디렉토리:')\n",
    "print(os.listdir(cwd))\n"
   ]
  },
  {
   "cell_type": "code",
   "execution_count": 4,
   "id": "8747621b",
   "metadata": {
    "tags": []
   },
   "outputs": [
    {
     "name": "stdout",
     "output_type": "stream",
     "text": [
      "새 디렉토리 생성 후:\n",
      "['.ipynb_checkpoints', '2.1 Requests 알아보기.ipynb', '2.2 BeautifulSoup 알아보기.ipynb', '2.3 Selenium 알아보기.ipynb', '3. 정적 데이터 수집.ipynb', '4. 정적 데이터 수집(공공 API).ipynb', '5. 동적 데이터 수집.ipynb', '6. 동적 데이터 수집(네이버 뉴스 기사).ipynb', '7. 자동화 및 다운로드_업로드.ipynb', '8.이메일 자동화 및 스케줄링.ipynb', 'new_directory']\n"
     ]
    }
   ],
   "source": [
    "\n",
    "# 새 디렉토리 생성하기\n",
    "os.mkdir('new_directory')\n",
    "print('새 디렉토리 생성 후:')\n",
    "print(os.listdir(cwd))\n"
   ]
  },
  {
   "cell_type": "code",
   "execution_count": 5,
   "id": "cef39e1e",
   "metadata": {
    "tags": []
   },
   "outputs": [
    {
     "name": "stdout",
     "output_type": "stream",
     "text": [
      "디렉토리 이름 변경 후:\n",
      "['.ipynb_checkpoints', '2.1 Requests 알아보기.ipynb', '2.2 BeautifulSoup 알아보기.ipynb', '2.3 Selenium 알아보기.ipynb', '3. 정적 데이터 수집.ipynb', '4. 정적 데이터 수집(공공 API).ipynb', '5. 동적 데이터 수집.ipynb', '6. 동적 데이터 수집(네이버 뉴스 기사).ipynb', '7. 자동화 및 다운로드_업로드.ipynb', '8.이메일 자동화 및 스케줄링.ipynb', 'renamed_directory']\n"
     ]
    }
   ],
   "source": [
    "\n",
    "# 디렉토리 이름 변경하기\n",
    "os.rename('new_directory', 'renamed_directory')\n",
    "print('디렉토리 이름 변경 후:')\n",
    "print(os.listdir(cwd))\n"
   ]
  },
  {
   "cell_type": "code",
   "execution_count": 6,
   "id": "b56c22b7",
   "metadata": {
    "tags": []
   },
   "outputs": [
    {
     "name": "stdout",
     "output_type": "stream",
     "text": [
      "디렉토리 제거 후:\n",
      "['.ipynb_checkpoints', '2.1 Requests 알아보기.ipynb', '2.2 BeautifulSoup 알아보기.ipynb', '2.3 Selenium 알아보기.ipynb', '3. 정적 데이터 수집.ipynb', '4. 정적 데이터 수집(공공 API).ipynb', '5. 동적 데이터 수집.ipynb', '6. 동적 데이터 수집(네이버 뉴스 기사).ipynb', '7. 자동화 및 다운로드_업로드.ipynb', '8.이메일 자동화 및 스케줄링.ipynb']\n"
     ]
    }
   ],
   "source": [
    "\n",
    "# 디렉토리 제거하기\n",
    "os.rmdir('renamed_directory')\n",
    "print('디렉토리 제거 후:')\n",
    "print(os.listdir(cwd))\n"
   ]
  },
  {
   "cell_type": "markdown",
   "id": "44249e71",
   "metadata": {},
   "source": [
    "## shutil 모듈 연습하기"
   ]
  },
  {
   "cell_type": "code",
   "execution_count": 7,
   "id": "7b3f5c76",
   "metadata": {
    "tags": []
   },
   "outputs": [],
   "source": [
    "\n",
    "# 현재 작업 디렉토리를 확인하고, 그곳에 새로운 디렉토리와 파일을 생성합니다.\n",
    "cwd = os.getcwd()\n",
    "os.mkdir(os.path.join(cwd, 'dir1'))\n",
    "with open(os.path.join(cwd, 'dir1', 'file1.txt'), 'w') as file:\n",
    "    file.write('Hello, World!')\n"
   ]
  },
  {
   "cell_type": "code",
   "execution_count": 8,
   "id": "eab6e848",
   "metadata": {
    "tags": []
   },
   "outputs": [
    {
     "name": "stdout",
     "output_type": "stream",
     "text": [
      "디렉토리 복사 후 파일 목록:\n",
      "['.ipynb_checkpoints', '2.1 Requests 알아보기.ipynb', '2.2 BeautifulSoup 알아보기.ipynb', '2.3 Selenium 알아보기.ipynb', '3. 정적 데이터 수집.ipynb', '4. 정적 데이터 수집(공공 API).ipynb', '5. 동적 데이터 수집.ipynb', '6. 동적 데이터 수집(네이버 뉴스 기사).ipynb', '7. 자동화 및 다운로드_업로드.ipynb', '8.이메일 자동화 및 스케줄링.ipynb', 'dir1', 'dir2']\n"
     ]
    }
   ],
   "source": [
    "\n",
    "# 'dir1' 디렉토리를 'dir2'로 복사합니다.\n",
    "shutil.copytree(os.path.join(cwd, 'dir1'), os.path.join(cwd, 'dir2'))\n",
    "print('디렉토리 복사 후 파일 목록:')\n",
    "print(os.listdir(cwd))\n"
   ]
  },
  {
   "cell_type": "code",
   "execution_count": 9,
   "id": "632d9f70",
   "metadata": {
    "tags": []
   },
   "outputs": [
    {
     "name": "stdout",
     "output_type": "stream",
     "text": [
      "파일 복사 후 파일 목록:\n",
      "['file1.txt', 'file2.txt']\n"
     ]
    }
   ],
   "source": [
    "\n",
    "# 'dir2' 내의 'file1.txt'를 'file2.txt'로 복사합니다.\n",
    "shutil.copy(os.path.join(cwd, 'dir2', 'file1.txt'), os.path.join(cwd, 'dir2', 'file2.txt'))\n",
    "print('파일 복사 후 파일 목록:')\n",
    "print(os.listdir(os.path.join(cwd, 'dir2')))\n"
   ]
  },
  {
   "cell_type": "code",
   "execution_count": 10,
   "id": "043393a4",
   "metadata": {
    "tags": []
   },
   "outputs": [
    {
     "name": "stdout",
     "output_type": "stream",
     "text": [
      "디렉토리 이동 후 파일 목록:\n",
      "['.ipynb_checkpoints', '2.1 Requests 알아보기.ipynb', '2.2 BeautifulSoup 알아보기.ipynb', '2.3 Selenium 알아보기.ipynb', '3. 정적 데이터 수집.ipynb', '4. 정적 데이터 수집(공공 API).ipynb', '5. 동적 데이터 수집.ipynb', '6. 동적 데이터 수집(네이버 뉴스 기사).ipynb', '7. 자동화 및 다운로드_업로드.ipynb', '8.이메일 자동화 및 스케줄링.ipynb', 'dir2', 'dir3']\n"
     ]
    }
   ],
   "source": [
    "\n",
    "# 'dir1' 디렉토리를 'dir3'로 이동(이름 변경)합니다.\n",
    "shutil.move(os.path.join(cwd, 'dir1'), os.path.join(cwd, 'dir3'))\n",
    "print('디렉토리 이동 후 파일 목록:')\n",
    "print(os.listdir(cwd))\n"
   ]
  },
  {
   "cell_type": "code",
   "execution_count": 11,
   "id": "6744b527",
   "metadata": {
    "tags": []
   },
   "outputs": [
    {
     "name": "stdout",
     "output_type": "stream",
     "text": [
      "디렉토리 제거 후 파일 목록:\n",
      "['.ipynb_checkpoints', '2.1 Requests 알아보기.ipynb', '2.2 BeautifulSoup 알아보기.ipynb', '2.3 Selenium 알아보기.ipynb', '3. 정적 데이터 수집.ipynb', '4. 정적 데이터 수집(공공 API).ipynb', '5. 동적 데이터 수집.ipynb', '6. 동적 데이터 수집(네이버 뉴스 기사).ipynb', '7. 자동화 및 다운로드_업로드.ipynb', '8.이메일 자동화 및 스케줄링.ipynb']\n"
     ]
    }
   ],
   "source": [
    "\n",
    "# 'dir2'와 'dir3' 디렉토리를 제거합니다. \n",
    "# 이 때, 디렉토리 내부에 파일이 있는 경우에도 제거가 가능합니다.\n",
    "shutil.rmtree(os.path.join(cwd, 'dir2'))\n",
    "shutil.rmtree(os.path.join(cwd, 'dir3'))\n",
    "print('디렉토리 제거 후 파일 목록:')\n",
    "print(os.listdir(cwd))"
   ]
  },
  {
   "cell_type": "markdown",
   "id": "16911dd8",
   "metadata": {},
   "source": [
    "## 다운로드 자동화"
   ]
  },
  {
   "cell_type": "markdown",
   "id": "da099048",
   "metadata": {},
   "source": [
    "- 네이버 뉴스 기사 크롤링에서 이미지 다운로드 경로 크롤링 추가"
   ]
  },
  {
   "cell_type": "code",
   "execution_count": 12,
   "id": "d2e60b2f",
   "metadata": {
    "tags": []
   },
   "outputs": [],
   "source": [
    "def get_news_info(driver):\n",
    "    result = []\n",
    "    # 뉴스 기사들을 모아 놓은 요소가 로딩될때 까지 대기\n",
    "    articles_box = WebDriverWait(driver, 10).until(EC.presence_of_element_located((By.CSS_SELECTOR, '#main_pack > section > div > div.group_news > ul')))\n",
    "    # 뉴스 기사 리스트 찾기\n",
    "    article_list = articles_box.find_elements(By.CSS_SELECTOR,'li.bx')\n",
    "    for article in article_list:\n",
    "        news_info = {}\n",
    "        # 뉴스 제목 가져오기\n",
    "        title = article.find_element(By.CSS_SELECTOR,'a.news_tit').text\n",
    "        news_info['제목'] = title\n",
    "        # 뉴스 내용 가져오기\n",
    "        dsc = article.find_element(By.CSS_SELECTOR, \"div.dsc_wrap > a\").text\n",
    "        news_info['내용'] = dsc\n",
    "        # 신문사 가져오기\n",
    "        press = article.find_element(By.CSS_SELECTOR, \"a.press\").text\n",
    "        news_info['언론사'] = press\n",
    "        # 뉴스 이미지 경로 가져오기\n",
    "        try:\n",
    "            img = article.find_element(By.CSS_SELECTOR,'a.dsc_thumb > img')\n",
    "            # href 속성 가져오기\n",
    "            img_src = img.get_attribute('src')\n",
    "        except:\n",
    "            img_src = \"\"\n",
    "        news_info['이미지 경로'] = img_src\n",
    "        \n",
    "        result.append(news_info)      \n",
    "    return result\n",
    "\n",
    "def get_page_info(driver):\n",
    "    result = {}\n",
    "    # 페이지 이동마다 사용하기 때문에 Wait 사용\n",
    "    page_wrap = WebDriverWait(driver, 10).until(EC.presence_of_element_located((By.CSS_SELECTOR , 'div.sc_page')))\n",
    "    # 현재 페이지 찾기\n",
    "    now_page = page_wrap.find_element(By.CSS_SELECTOR, 'a[aria-pressed=\"true\"]').text\n",
    "    result['현재 페이지'] = now_page\n",
    "    # 다음 페이지 이동 불가능 여부 가져오기\n",
    "    next_page = page_wrap.find_element(By.CSS_SELECTOR, 'a.btn_next')\n",
    "    result['다음 페이지'] = next_page\n",
    "    aria_disabled = next_page.get_attribute('aria-disabled')\n",
    "    result['다음 페이지 이동 불가'] = aria_disabled\n",
    "    \n",
    "    \n",
    "    return result"
   ]
  },
  {
   "cell_type": "code",
   "execution_count": 13,
   "id": "814d4e1c",
   "metadata": {
    "tags": []
   },
   "outputs": [
    {
     "name": "stdout",
     "output_type": "stream",
     "text": [
      "1\n",
      "2\n",
      "3\n",
      "4\n",
      "5\n",
      "6\n",
      "7\n",
      "8\n",
      "9\n",
      "10\n"
     ]
    }
   ],
   "source": [
    "# 드라이버 로드\n",
    "driver = webdriver.Chrome()\n",
    "# 페이지 접근\n",
    "driver.get('https://search.naver.com/search.naver?where=news&sm=tab_jum&query=KT WIZ') # 크롤링 예제 사이트\n",
    "\n",
    "df = []\n",
    "\n",
    "# 최대 10페이지까지 크롤링\n",
    "for i in range(0,10):\n",
    "    news_info = get_news_info(driver)\n",
    "    page_info = get_page_info(driver)\n",
    "    print(page_info['현재 페이지'])\n",
    "    for news in news_info:\n",
    "        df.append(news)\n",
    "    # 다음 페이지로 이동\n",
    "    if page_info['다음 페이지 이동 불가'] == 'true':\n",
    "        break\n",
    "    else:\n",
    "        page_info['다음 페이지'].click()\n",
    "\n",
    "driver.quit()"
   ]
  },
  {
   "cell_type": "markdown",
   "id": "438f4848",
   "metadata": {},
   "source": [
    "- 데이터 프레임으로 만들기"
   ]
  },
  {
   "cell_type": "code",
   "execution_count": 14,
   "id": "91dddd50",
   "metadata": {
    "tags": []
   },
   "outputs": [],
   "source": [
    "df = pd.DataFrame(df)"
   ]
  },
  {
   "cell_type": "markdown",
   "id": "a4c5bdf4",
   "metadata": {},
   "source": [
    "- 오늘 날짜로 폴더 만들기"
   ]
  },
  {
   "cell_type": "code",
   "execution_count": 15,
   "id": "4cefefac",
   "metadata": {
    "tags": []
   },
   "outputs": [],
   "source": [
    "# 오늘 날짜가 없다면 폴더 생성\n",
    "# if not exists same name folder, create folder\n",
    "date= datetime.datetime.now().strftime('%Y%m%d%H')\n",
    "if not os.path.exists(date):\n",
    "    os.mkdir(date)"
   ]
  },
  {
   "cell_type": "code",
   "execution_count": 16,
   "id": "5ff554aa",
   "metadata": {
    "tags": []
   },
   "outputs": [],
   "source": [
    "for idx, src in zip(df.index,df['이미지 경로']):\n",
    "    if src != \"\" and src.startswith('http'):\n",
    "        response = requests.get(src)\n",
    "        with open(f\"{date}/{idx}.png\", \"wb\") as file:\n",
    "            file.write(response.content)\n",
    "        "
   ]
  },
  {
   "cell_type": "markdown",
   "id": "2b778248",
   "metadata": {},
   "source": [
    "## 업로드 자동화"
   ]
  },
  {
   "cell_type": "markdown",
   "id": "6ca21417",
   "metadata": {},
   "source": [
    "- 다운로드/업로드 연습 사이트에서 업로드 실습 진행"
   ]
  },
  {
   "cell_type": "code",
   "execution_count": 17,
   "id": "79a7fdf5",
   "metadata": {
    "tags": []
   },
   "outputs": [],
   "source": [
    "from selenium import webdriver\n",
    "\n",
    "driver = webdriver.Chrome()\n",
    "\n",
    "driver.get(\"https://demoqa.com/upload-download\")"
   ]
  },
  {
   "cell_type": "code",
   "execution_count": 18,
   "id": "298a144b",
   "metadata": {
    "tags": []
   },
   "outputs": [],
   "source": [
    "upload = driver.find_element(By.CSS_SELECTOR, \"#uploadFile\")\n",
    "file_path = os.getcwd() + f\"/{date}/0.png\"\n",
    "\n",
    "# send_keys() 메소드를 이용해 파일 업로드\n",
    "upload.send_keys(file_path)\n",
    "\n",
    "# 업로드 버튼 클릭\n"
   ]
  },
  {
   "cell_type": "code",
   "execution_count": null,
   "id": "b56dcc20",
   "metadata": {},
   "outputs": [],
   "source": []
  }
 ],
 "metadata": {
  "kernelspec": {
   "display_name": "Python 3 (ipykernel)",
   "language": "python",
   "name": "python3"
  },
  "language_info": {
   "codemirror_mode": {
    "name": "ipython",
    "version": 3
   },
   "file_extension": ".py",
   "mimetype": "text/x-python",
   "name": "python",
   "nbconvert_exporter": "python",
   "pygments_lexer": "ipython3",
   "version": "3.11.3"
  }
 },
 "nbformat": 4,
 "nbformat_minor": 5
}
