{
 "cells": [
  {
   "cell_type": "markdown",
   "id": "7a80b617",
   "metadata": {},
   "source": [
    "# 동적 데이터 수집"
   ]
  },
  {
   "cell_type": "markdown",
   "id": "778538d6",
   "metadata": {},
   "source": [
    "---"
   ]
  },
  {
   "cell_type": "markdown",
   "id": "2eee17a6",
   "metadata": {},
   "source": [
    "## 0. 라이브러리 import"
   ]
  },
  {
   "cell_type": "code",
   "execution_count": 1,
   "id": "24313043",
   "metadata": {
    "tags": []
   },
   "outputs": [],
   "source": [
    "from selenium import webdriver\n",
    "from selenium.webdriver.common.by import By\n",
    "from selenium.webdriver.support.ui import WebDriverWait\n",
    "from selenium.webdriver.support import expected_conditions as EC\n",
    "from selenium.webdriver.common.keys import Keys\n",
    "\n",
    "import time"
   ]
  },
  {
   "cell_type": "markdown",
   "id": "f6bc95d9",
   "metadata": {},
   "source": [
    "## 1. 웹드라이버 다루기"
   ]
  },
  {
   "cell_type": "code",
   "execution_count": 2,
   "id": "f5fb5f81",
   "metadata": {
    "tags": []
   },
   "outputs": [],
   "source": [
    "# 드라이버 로드\n",
    "driver = webdriver.Chrome()\n",
    "\n",
    "# 페이지 접근\n",
    "driver.get('http://quotes.toscrape.com/') # 크롤링 예제 사이트\n",
    "\n",
    "# 드라이버 종료\n",
    "# driver.close()"
   ]
  },
  {
   "cell_type": "code",
   "execution_count": 3,
   "id": "423304fc",
   "metadata": {
    "tags": []
   },
   "outputs": [],
   "source": [
    "# 드라이버에서 요소 찾기\n",
    "\n",
    "## 태그 이름으로 찾기\n",
    "# driver.find_element(By.TAG_NAME, 'TAG_NAME')\n",
    "\n",
    "## 아이디로 찾기\n",
    "# driver.find_element(By.ID, 'ID')\n",
    "\n",
    "## 클래스 이름으로 찾기\n",
    "# driver.find_element(By.CLASS_NAME, 'CLASS_NAME')\n",
    "\n",
    "## css 셀렉터로 찾기\n",
    "# driver.find_element(By.CSS_SELECTOR, 'CSS_SELECTOR')\n",
    "\n",
    "# 드라이버에서 여러 요소 찾기\n",
    "# driver.find_elements(By.CSS_SELECTOR, 'CSS_SELECTOR')"
   ]
  },
  {
   "cell_type": "markdown",
   "id": "cb79faa4",
   "metadata": {},
   "source": [
    "- 만약 데이터를 구하기 위해 상호작용 필요하다면 키 입력이나, 클릭 등을 자동화해야 한다."
   ]
  },
  {
   "cell_type": "markdown",
   "id": "158f696a",
   "metadata": {},
   "source": [
    "### 로그인하기"
   ]
  },
  {
   "cell_type": "code",
   "execution_count": 4,
   "id": "f1615643",
   "metadata": {
    "tags": []
   },
   "outputs": [],
   "source": [
    "# 로그인 버튼 찾기\n",
    "login_btn = driver.find_element(By.CSS_SELECTOR, 'body > div > div.row.header-box > div.col-md-4 > p > a')\n"
   ]
  },
  {
   "cell_type": "code",
   "execution_count": 5,
   "id": "5362cb6b",
   "metadata": {
    "tags": []
   },
   "outputs": [],
   "source": [
    "# 로그인 버튼 클릭\n",
    "login_btn.click()"
   ]
  },
  {
   "cell_type": "code",
   "execution_count": 6,
   "id": "c36f362e",
   "metadata": {
    "tags": []
   },
   "outputs": [],
   "source": [
    "# id, pw 입력\n",
    "id_input = driver.find_element(By.CSS_SELECTOR, '#username')\n",
    "password_input = driver.find_element(By.CSS_SELECTOR, '#password')"
   ]
  },
  {
   "cell_type": "code",
   "execution_count": 7,
   "id": "f893975a",
   "metadata": {
    "tags": []
   },
   "outputs": [],
   "source": [
    "id_input.send_keys('test')\n",
    "password_input.send_keys('test')"
   ]
  },
  {
   "cell_type": "code",
   "execution_count": 8,
   "id": "45f53785",
   "metadata": {
    "tags": []
   },
   "outputs": [],
   "source": [
    "# login 버튼 클릭\n",
    "login_btn = driver.find_element(By.CSS_SELECTOR, 'body > div > form > input.btn.btn-primary')\n",
    "login_btn.click()"
   ]
  },
  {
   "cell_type": "markdown",
   "id": "d2702152",
   "metadata": {},
   "source": [
    "### 데이터 추출하기"
   ]
  },
  {
   "cell_type": "code",
   "execution_count": 9,
   "id": "9af4200c",
   "metadata": {
    "tags": []
   },
   "outputs": [],
   "source": [
    "# 요소에서 텍스트 추출하는 방법\n",
    "# 요소.text\n",
    "\n",
    "# 요소에서 속성 추출하는 방법\n",
    "# 요소.get_attribute('속성명')"
   ]
  },
  {
   "cell_type": "code",
   "execution_count": 10,
   "id": "b85f34d7",
   "metadata": {
    "tags": []
   },
   "outputs": [
    {
     "name": "stdout",
     "output_type": "stream",
     "text": [
      "10\n"
     ]
    }
   ],
   "source": [
    "# 인용구 리스트 추출\n",
    "# body > div > div:nth-child(2) > div.col-md-8 > div:nth-child(1)\n",
    "# 마지막 div에서 순서를 나타내는 nth-child(1)을 제거하면 전체 리스트를 가져올 수 있음\n",
    "\n",
    "quotes = driver.find_elements(By.CSS_SELECTOR, 'body > div > div:nth-child(2) > div.col-md-8 > div')\n",
    "print(len(quotes))"
   ]
  },
  {
   "cell_type": "code",
   "execution_count": 11,
   "id": "5fd213b3",
   "metadata": {
    "tags": []
   },
   "outputs": [
    {
     "name": "stdout",
     "output_type": "stream",
     "text": [
      "인용문 : “The world as we have created it is a process of our thinking. It cannot be changed without changing our thinking.”\n",
      "인물 : Albert Einstein\n",
      "인물 정보 링크 : http://quotes.toscrape.com/author/Albert-Einstein\n",
      "----------------------------------\n",
      "인용문 : “It is our choices, Harry, that show what we truly are, far more than our abilities.”\n",
      "인물 : J.K. Rowling\n",
      "인물 정보 링크 : http://quotes.toscrape.com/author/J-K-Rowling\n",
      "----------------------------------\n",
      "인용문 : “There are only two ways to live your life. One is as though nothing is a miracle. The other is as though everything is a miracle.”\n",
      "인물 : Albert Einstein\n",
      "인물 정보 링크 : http://quotes.toscrape.com/author/Albert-Einstein\n",
      "----------------------------------\n",
      "인용문 : “The person, be it gentleman or lady, who has not pleasure in a good novel, must be intolerably stupid.”\n",
      "인물 : Jane Austen\n",
      "인물 정보 링크 : http://quotes.toscrape.com/author/Jane-Austen\n",
      "----------------------------------\n",
      "인용문 : “Imperfection is beauty, madness is genius and it's better to be absolutely ridiculous than absolutely boring.”\n",
      "인물 : Marilyn Monroe\n",
      "인물 정보 링크 : http://quotes.toscrape.com/author/Marilyn-Monroe\n",
      "----------------------------------\n",
      "인용문 : “Try not to become a man of success. Rather become a man of value.”\n",
      "인물 : Albert Einstein\n",
      "인물 정보 링크 : http://quotes.toscrape.com/author/Albert-Einstein\n",
      "----------------------------------\n",
      "인용문 : “It is better to be hated for what you are than to be loved for what you are not.”\n",
      "인물 : André Gide\n",
      "인물 정보 링크 : http://quotes.toscrape.com/author/Andre-Gide\n",
      "----------------------------------\n",
      "인용문 : “I have not failed. I've just found 10,000 ways that won't work.”\n",
      "인물 : Thomas A. Edison\n",
      "인물 정보 링크 : http://quotes.toscrape.com/author/Thomas-A-Edison\n",
      "----------------------------------\n",
      "인용문 : “A woman is like a tea bag; you never know how strong it is until it's in hot water.”\n",
      "인물 : Eleanor Roosevelt\n",
      "인물 정보 링크 : http://quotes.toscrape.com/author/Eleanor-Roosevelt\n",
      "----------------------------------\n",
      "인용문 : “A day without sunshine is like, you know, night.”\n",
      "인물 : Steve Martin\n",
      "인물 정보 링크 : http://quotes.toscrape.com/author/Steve-Martin\n",
      "----------------------------------\n"
     ]
    }
   ],
   "source": [
    "for quote in quotes:\n",
    "    print(\"인용문 : \"+quote.find_element(By.CSS_SELECTOR, 'span:nth-of-type(1)').text)\n",
    "    print(\"인물 : \"+quote.find_element(By.CSS_SELECTOR, 'span:nth-of-type(2) > small').text)\n",
    "    print(\"인물 정보 링크 : \"+quote.find_element(By.CSS_SELECTOR, 'span:nth-of-type(2) > a:nth-of-type(1)').get_attribute('href'))\n",
    "    print('----------------------------------')\n"
   ]
  },
  {
   "cell_type": "code",
   "execution_count": 12,
   "id": "c89db258",
   "metadata": {
    "tags": []
   },
   "outputs": [],
   "source": [
    "driver.close()"
   ]
  },
  {
   "cell_type": "markdown",
   "id": "f8b6d7f4",
   "metadata": {},
   "source": [
    "---"
   ]
  },
  {
   "cell_type": "markdown",
   "id": "61fa243a",
   "metadata": {},
   "source": [
    "### element 로딩을 기다리기"
   ]
  },
  {
   "cell_type": "code",
   "execution_count": 14,
   "id": "2990acc3",
   "metadata": {
    "tags": []
   },
   "outputs": [
    {
     "ename": "NoSuchElementException",
     "evalue": "Message: no such element: Unable to locate element: {\"method\":\"css selector\",\"selector\":\"input[id^=\"input_search\"]\"}\n  (Session info: chrome=103.0.5060.134); For documentation on this error, please visit: https://www.selenium.dev/documentation/webdriver/troubleshooting/errors#no-such-element-exception\nStacktrace:\nBacktrace:\n\tOrdinal0 [0x00355FD3+2187219]\n\tOrdinal0 [0x002EE6D1+1763025]\n\tOrdinal0 [0x00203E78+802424]\n\tOrdinal0 [0x00231C10+990224]\n\tOrdinal0 [0x00231EAB+990891]\n\tOrdinal0 [0x0025EC92+1174674]\n\tOrdinal0 [0x0024CBD4+1100756]\n\tOrdinal0 [0x0025CFC2+1167298]\n\tOrdinal0 [0x0024C9A6+1100198]\n\tOrdinal0 [0x00226F80+946048]\n\tOrdinal0 [0x00227E76+949878]\n\tGetHandleVerifier [0x005F90C2+2721218]\n\tGetHandleVerifier [0x005EAAF0+2662384]\n\tGetHandleVerifier [0x003E137A+526458]\n\tGetHandleVerifier [0x003E0416+522518]\n\tOrdinal0 [0x002F4EAB+1789611]\n\tOrdinal0 [0x002F97A8+1808296]\n\tOrdinal0 [0x002F9895+1808533]\n\tOrdinal0 [0x003026C1+1844929]\n\tBaseThreadInitThunk [0x75D8FA29+25]\n\tRtlGetAppContainerNamedObjectPath [0x77097A9E+286]\n\tRtlGetAppContainerNamedObjectPath [0x77097A6E+238]\n",
     "output_type": "error",
     "traceback": [
      "\u001b[1;31m---------------------------------------------------------------------------\u001b[0m",
      "\u001b[1;31mNoSuchElementException\u001b[0m                    Traceback (most recent call last)",
      "Cell \u001b[1;32mIn[14], line 8\u001b[0m\n\u001b[0;32m      5\u001b[0m driver\u001b[38;5;241m.\u001b[39mget(\u001b[38;5;124m'\u001b[39m\u001b[38;5;124mhttps://map.naver.com/\u001b[39m\u001b[38;5;124m'\u001b[39m) \u001b[38;5;66;03m# 크롤링 예제 사이트\u001b[39;00m\n\u001b[0;32m      7\u001b[0m \u001b[38;5;66;03m# 검색 창에 검색어 입력\u001b[39;00m\n\u001b[1;32m----> 8\u001b[0m search_input \u001b[38;5;241m=\u001b[39m \u001b[43mdriver\u001b[49m\u001b[38;5;241;43m.\u001b[39;49m\u001b[43mfind_element\u001b[49m\u001b[43m(\u001b[49m\u001b[43mBy\u001b[49m\u001b[38;5;241;43m.\u001b[39;49m\u001b[43mCSS_SELECTOR\u001b[49m\u001b[43m,\u001b[49m\u001b[43m \u001b[49m\u001b[38;5;124;43m'\u001b[39;49m\u001b[38;5;124;43minput[id^=\u001b[39;49m\u001b[38;5;124;43m\"\u001b[39;49m\u001b[38;5;124;43minput_search\u001b[39;49m\u001b[38;5;124;43m\"\u001b[39;49m\u001b[38;5;124;43m]\u001b[39;49m\u001b[38;5;124;43m'\u001b[39;49m\u001b[43m)\u001b[49m    \u001b[38;5;66;03m# id 가 새롭게 로드될 때 마다 바뀌는 구조 \u001b[39;00m\n\u001b[0;32m      9\u001b[0m                                                                                     \u001b[38;5;66;03m# input 태그의 id 속성이 input_search로 시작하는 요소를 찾아라\u001b[39;00m\n\u001b[0;32m     11\u001b[0m search_input\u001b[38;5;241m.\u001b[39msend_keys(\u001b[38;5;124m'\u001b[39m\u001b[38;5;124m대구광역시 북구 고성동 치킨\u001b[39m\u001b[38;5;124m'\u001b[39m)\n",
      "File \u001b[1;32mD:\\Program Files\\Python311\\Lib\\site-packages\\selenium\\webdriver\\remote\\webdriver.py:740\u001b[0m, in \u001b[0;36mWebDriver.find_element\u001b[1;34m(self, by, value)\u001b[0m\n\u001b[0;32m    737\u001b[0m     by \u001b[38;5;241m=\u001b[39m By\u001b[38;5;241m.\u001b[39mCSS_SELECTOR\n\u001b[0;32m    738\u001b[0m     value \u001b[38;5;241m=\u001b[39m \u001b[38;5;124mf\u001b[39m\u001b[38;5;124m'\u001b[39m\u001b[38;5;124m[name=\u001b[39m\u001b[38;5;124m\"\u001b[39m\u001b[38;5;132;01m{\u001b[39;00mvalue\u001b[38;5;132;01m}\u001b[39;00m\u001b[38;5;124m\"\u001b[39m\u001b[38;5;124m]\u001b[39m\u001b[38;5;124m'\u001b[39m\n\u001b[1;32m--> 740\u001b[0m \u001b[38;5;28;01mreturn\u001b[39;00m \u001b[38;5;28;43mself\u001b[39;49m\u001b[38;5;241;43m.\u001b[39;49m\u001b[43mexecute\u001b[49m\u001b[43m(\u001b[49m\u001b[43mCommand\u001b[49m\u001b[38;5;241;43m.\u001b[39;49m\u001b[43mFIND_ELEMENT\u001b[49m\u001b[43m,\u001b[49m\u001b[43m \u001b[49m\u001b[43m{\u001b[49m\u001b[38;5;124;43m\"\u001b[39;49m\u001b[38;5;124;43musing\u001b[39;49m\u001b[38;5;124;43m\"\u001b[39;49m\u001b[43m:\u001b[49m\u001b[43m \u001b[49m\u001b[43mby\u001b[49m\u001b[43m,\u001b[49m\u001b[43m \u001b[49m\u001b[38;5;124;43m\"\u001b[39;49m\u001b[38;5;124;43mvalue\u001b[39;49m\u001b[38;5;124;43m\"\u001b[39;49m\u001b[43m:\u001b[49m\u001b[43m \u001b[49m\u001b[43mvalue\u001b[49m\u001b[43m}\u001b[49m\u001b[43m)\u001b[49m[\u001b[38;5;124m\"\u001b[39m\u001b[38;5;124mvalue\u001b[39m\u001b[38;5;124m\"\u001b[39m]\n",
      "File \u001b[1;32mD:\\Program Files\\Python311\\Lib\\site-packages\\selenium\\webdriver\\remote\\webdriver.py:346\u001b[0m, in \u001b[0;36mWebDriver.execute\u001b[1;34m(self, driver_command, params)\u001b[0m\n\u001b[0;32m    344\u001b[0m response \u001b[38;5;241m=\u001b[39m \u001b[38;5;28mself\u001b[39m\u001b[38;5;241m.\u001b[39mcommand_executor\u001b[38;5;241m.\u001b[39mexecute(driver_command, params)\n\u001b[0;32m    345\u001b[0m \u001b[38;5;28;01mif\u001b[39;00m response:\n\u001b[1;32m--> 346\u001b[0m     \u001b[38;5;28;43mself\u001b[39;49m\u001b[38;5;241;43m.\u001b[39;49m\u001b[43merror_handler\u001b[49m\u001b[38;5;241;43m.\u001b[39;49m\u001b[43mcheck_response\u001b[49m\u001b[43m(\u001b[49m\u001b[43mresponse\u001b[49m\u001b[43m)\u001b[49m\n\u001b[0;32m    347\u001b[0m     response[\u001b[38;5;124m\"\u001b[39m\u001b[38;5;124mvalue\u001b[39m\u001b[38;5;124m\"\u001b[39m] \u001b[38;5;241m=\u001b[39m \u001b[38;5;28mself\u001b[39m\u001b[38;5;241m.\u001b[39m_unwrap_value(response\u001b[38;5;241m.\u001b[39mget(\u001b[38;5;124m\"\u001b[39m\u001b[38;5;124mvalue\u001b[39m\u001b[38;5;124m\"\u001b[39m, \u001b[38;5;28;01mNone\u001b[39;00m))\n\u001b[0;32m    348\u001b[0m     \u001b[38;5;28;01mreturn\u001b[39;00m response\n",
      "File \u001b[1;32mD:\\Program Files\\Python311\\Lib\\site-packages\\selenium\\webdriver\\remote\\errorhandler.py:245\u001b[0m, in \u001b[0;36mErrorHandler.check_response\u001b[1;34m(self, response)\u001b[0m\n\u001b[0;32m    243\u001b[0m         alert_text \u001b[38;5;241m=\u001b[39m value[\u001b[38;5;124m\"\u001b[39m\u001b[38;5;124malert\u001b[39m\u001b[38;5;124m\"\u001b[39m]\u001b[38;5;241m.\u001b[39mget(\u001b[38;5;124m\"\u001b[39m\u001b[38;5;124mtext\u001b[39m\u001b[38;5;124m\"\u001b[39m)\n\u001b[0;32m    244\u001b[0m     \u001b[38;5;28;01mraise\u001b[39;00m exception_class(message, screen, stacktrace, alert_text)  \u001b[38;5;66;03m# type: ignore[call-arg]  # mypy is not smart enough here\u001b[39;00m\n\u001b[1;32m--> 245\u001b[0m \u001b[38;5;28;01mraise\u001b[39;00m exception_class(message, screen, stacktrace)\n",
      "\u001b[1;31mNoSuchElementException\u001b[0m: Message: no such element: Unable to locate element: {\"method\":\"css selector\",\"selector\":\"input[id^=\"input_search\"]\"}\n  (Session info: chrome=103.0.5060.134); For documentation on this error, please visit: https://www.selenium.dev/documentation/webdriver/troubleshooting/errors#no-such-element-exception\nStacktrace:\nBacktrace:\n\tOrdinal0 [0x00355FD3+2187219]\n\tOrdinal0 [0x002EE6D1+1763025]\n\tOrdinal0 [0x00203E78+802424]\n\tOrdinal0 [0x00231C10+990224]\n\tOrdinal0 [0x00231EAB+990891]\n\tOrdinal0 [0x0025EC92+1174674]\n\tOrdinal0 [0x0024CBD4+1100756]\n\tOrdinal0 [0x0025CFC2+1167298]\n\tOrdinal0 [0x0024C9A6+1100198]\n\tOrdinal0 [0x00226F80+946048]\n\tOrdinal0 [0x00227E76+949878]\n\tGetHandleVerifier [0x005F90C2+2721218]\n\tGetHandleVerifier [0x005EAAF0+2662384]\n\tGetHandleVerifier [0x003E137A+526458]\n\tGetHandleVerifier [0x003E0416+522518]\n\tOrdinal0 [0x002F4EAB+1789611]\n\tOrdinal0 [0x002F97A8+1808296]\n\tOrdinal0 [0x002F9895+1808533]\n\tOrdinal0 [0x003026C1+1844929]\n\tBaseThreadInitThunk [0x75D8FA29+25]\n\tRtlGetAppContainerNamedObjectPath [0x77097A9E+286]\n\tRtlGetAppContainerNamedObjectPath [0x77097A6E+238]\n"
     ]
    }
   ],
   "source": [
    "# 드라이버 로드\n",
    "driver = webdriver.Chrome()\n",
    "\n",
    "# 페이지 접근\n",
    "driver.get('https://map.naver.com/') # 크롤링 예제 사이트\n",
    "\n",
    "# 검색 창에 검색어 입력\n",
    "search_input = driver.find_element(By.CSS_SELECTOR, 'input[id^=\"input_search\"]')    # id 가 새롭게 로드될 때 마다 바뀌는 구조 \n",
    "                                                                                    # input 태그의 id 속성이 input_search로 시작하는 요소를 찾아라\n",
    "\n",
    "search_input.send_keys('대구광역시 북구 고성동 치킨')\n"
   ]
  },
  {
   "cell_type": "markdown",
   "id": "d091bb99",
   "metadata": {},
   "source": [
    "- 왜 에러가 발생하는 걸까요?"
   ]
  },
  {
   "cell_type": "code",
   "execution_count": 15,
   "id": "6cbf98fc",
   "metadata": {
    "tags": []
   },
   "outputs": [],
   "source": [
    "# 다시 실행하면 엘리먼트가 찾아짐\n",
    "search_input = driver.find_element(By.CSS_SELECTOR, 'input[id^=\"input_search\"]')\n",
    "search_input.send_keys('대구광역시 북구 고성동 치킨')"
   ]
  },
  {
   "cell_type": "markdown",
   "id": "fa575a25",
   "metadata": {},
   "source": [
    "- 검색창이 로딩되기 전에 탐색을 시도하여 없다고 판단하고 에러를 발생시킴\n",
    "- 이럴땐 찾으려는 요소가 나타날때 까지 기다려줘야한다"
   ]
  },
  {
   "cell_type": "code",
   "execution_count": 16,
   "id": "c00f3e31",
   "metadata": {
    "tags": []
   },
   "outputs": [
    {
     "ename": "NoSuchWindowException",
     "evalue": "Message: no such window: target window already closed\nfrom unknown error: web view not found\n  (Session info: chrome=103.0.5060.134)\nStacktrace:\nBacktrace:\n\tOrdinal0 [0x00355FD3+2187219]\n\tOrdinal0 [0x002EE6D1+1763025]\n\tOrdinal0 [0x00203E78+802424]\n\tOrdinal0 [0x001EC680+706176]\n\tOrdinal0 [0x0024F519+1111321]\n\tOrdinal0 [0x0025C762+1165154]\n\tOrdinal0 [0x0024C9A6+1100198]\n\tOrdinal0 [0x00226F80+946048]\n\tOrdinal0 [0x00227E76+949878]\n\tGetHandleVerifier [0x005F90C2+2721218]\n\tGetHandleVerifier [0x005EAAF0+2662384]\n\tGetHandleVerifier [0x003E137A+526458]\n\tGetHandleVerifier [0x003E0416+522518]\n\tOrdinal0 [0x002F4EAB+1789611]\n\tOrdinal0 [0x002F97A8+1808296]\n\tOrdinal0 [0x002F9895+1808533]\n\tOrdinal0 [0x003026C1+1844929]\n\tBaseThreadInitThunk [0x75D8FA29+25]\n\tRtlGetAppContainerNamedObjectPath [0x77097A9E+286]\n\tRtlGetAppContainerNamedObjectPath [0x77097A6E+238]\n",
     "output_type": "error",
     "traceback": [
      "\u001b[1;31m---------------------------------------------------------------------------\u001b[0m",
      "\u001b[1;31mNoSuchWindowException\u001b[0m                     Traceback (most recent call last)",
      "Cell \u001b[1;32mIn[16], line 10\u001b[0m\n\u001b[0;32m      7\u001b[0m driver\u001b[38;5;241m.\u001b[39mget(\u001b[38;5;124m'\u001b[39m\u001b[38;5;124mhttps://map.naver.com/\u001b[39m\u001b[38;5;124m'\u001b[39m) \u001b[38;5;66;03m# 크롤링 예제 사이트\u001b[39;00m\n\u001b[0;32m      9\u001b[0m \u001b[38;5;66;03m# 검색 element 가 로드될 때까지 최대 10초간 대기\u001b[39;00m\n\u001b[1;32m---> 10\u001b[0m search_input \u001b[38;5;241m=\u001b[39m \u001b[43mWebDriverWait\u001b[49m\u001b[43m(\u001b[49m\u001b[43mdriver\u001b[49m\u001b[43m,\u001b[49m\u001b[43m \u001b[49m\u001b[38;5;241;43m10\u001b[39;49m\u001b[43m)\u001b[49m\u001b[38;5;241;43m.\u001b[39;49m\u001b[43muntil\u001b[49m\u001b[43m(\u001b[49m\u001b[43mEC\u001b[49m\u001b[38;5;241;43m.\u001b[39;49m\u001b[43mpresence_of_element_located\u001b[49m\u001b[43m(\u001b[49m\u001b[43m(\u001b[49m\u001b[43mBy\u001b[49m\u001b[38;5;241;43m.\u001b[39;49m\u001b[43mCSS_SELECTOR\u001b[49m\u001b[43m,\u001b[49m\u001b[43m \u001b[49m\u001b[38;5;124;43m'\u001b[39;49m\u001b[38;5;124;43minput[id^=\u001b[39;49m\u001b[38;5;124;43m\"\u001b[39;49m\u001b[38;5;124;43minput_search\u001b[39;49m\u001b[38;5;124;43m\"\u001b[39;49m\u001b[38;5;124;43m]\u001b[39;49m\u001b[38;5;124;43m'\u001b[39;49m\u001b[43m)\u001b[49m\u001b[43m)\u001b[49m\u001b[43m)\u001b[49m \u001b[38;5;66;03m# 요소가 나타날때 까지 최대 10초 대기\u001b[39;00m\n\u001b[0;32m     12\u001b[0m \u001b[38;5;66;03m# 검색 창에 검색어 입력\u001b[39;00m\n\u001b[0;32m     13\u001b[0m search_input\u001b[38;5;241m.\u001b[39msend_keys(\u001b[38;5;124m'\u001b[39m\u001b[38;5;124m대구광역시 북구 고성동 치킨\u001b[39m\u001b[38;5;124m'\u001b[39m)\n",
      "File \u001b[1;32mD:\\Program Files\\Python311\\Lib\\site-packages\\selenium\\webdriver\\support\\wait.py:86\u001b[0m, in \u001b[0;36mWebDriverWait.until\u001b[1;34m(self, method, message)\u001b[0m\n\u001b[0;32m     84\u001b[0m \u001b[38;5;28;01mwhile\u001b[39;00m \u001b[38;5;28;01mTrue\u001b[39;00m:\n\u001b[0;32m     85\u001b[0m     \u001b[38;5;28;01mtry\u001b[39;00m:\n\u001b[1;32m---> 86\u001b[0m         value \u001b[38;5;241m=\u001b[39m \u001b[43mmethod\u001b[49m\u001b[43m(\u001b[49m\u001b[38;5;28;43mself\u001b[39;49m\u001b[38;5;241;43m.\u001b[39;49m\u001b[43m_driver\u001b[49m\u001b[43m)\u001b[49m\n\u001b[0;32m     87\u001b[0m         \u001b[38;5;28;01mif\u001b[39;00m value:\n\u001b[0;32m     88\u001b[0m             \u001b[38;5;28;01mreturn\u001b[39;00m value\n",
      "File \u001b[1;32mD:\\Program Files\\Python311\\Lib\\site-packages\\selenium\\webdriver\\support\\expected_conditions.py:82\u001b[0m, in \u001b[0;36mpresence_of_element_located.<locals>._predicate\u001b[1;34m(driver)\u001b[0m\n\u001b[0;32m     81\u001b[0m \u001b[38;5;28;01mdef\u001b[39;00m \u001b[38;5;21m_predicate\u001b[39m(driver):\n\u001b[1;32m---> 82\u001b[0m     \u001b[38;5;28;01mreturn\u001b[39;00m \u001b[43mdriver\u001b[49m\u001b[38;5;241;43m.\u001b[39;49m\u001b[43mfind_element\u001b[49m\u001b[43m(\u001b[49m\u001b[38;5;241;43m*\u001b[39;49m\u001b[43mlocator\u001b[49m\u001b[43m)\u001b[49m\n",
      "File \u001b[1;32mD:\\Program Files\\Python311\\Lib\\site-packages\\selenium\\webdriver\\remote\\webdriver.py:740\u001b[0m, in \u001b[0;36mWebDriver.find_element\u001b[1;34m(self, by, value)\u001b[0m\n\u001b[0;32m    737\u001b[0m     by \u001b[38;5;241m=\u001b[39m By\u001b[38;5;241m.\u001b[39mCSS_SELECTOR\n\u001b[0;32m    738\u001b[0m     value \u001b[38;5;241m=\u001b[39m \u001b[38;5;124mf\u001b[39m\u001b[38;5;124m'\u001b[39m\u001b[38;5;124m[name=\u001b[39m\u001b[38;5;124m\"\u001b[39m\u001b[38;5;132;01m{\u001b[39;00mvalue\u001b[38;5;132;01m}\u001b[39;00m\u001b[38;5;124m\"\u001b[39m\u001b[38;5;124m]\u001b[39m\u001b[38;5;124m'\u001b[39m\n\u001b[1;32m--> 740\u001b[0m \u001b[38;5;28;01mreturn\u001b[39;00m \u001b[38;5;28;43mself\u001b[39;49m\u001b[38;5;241;43m.\u001b[39;49m\u001b[43mexecute\u001b[49m\u001b[43m(\u001b[49m\u001b[43mCommand\u001b[49m\u001b[38;5;241;43m.\u001b[39;49m\u001b[43mFIND_ELEMENT\u001b[49m\u001b[43m,\u001b[49m\u001b[43m \u001b[49m\u001b[43m{\u001b[49m\u001b[38;5;124;43m\"\u001b[39;49m\u001b[38;5;124;43musing\u001b[39;49m\u001b[38;5;124;43m\"\u001b[39;49m\u001b[43m:\u001b[49m\u001b[43m \u001b[49m\u001b[43mby\u001b[49m\u001b[43m,\u001b[49m\u001b[43m \u001b[49m\u001b[38;5;124;43m\"\u001b[39;49m\u001b[38;5;124;43mvalue\u001b[39;49m\u001b[38;5;124;43m\"\u001b[39;49m\u001b[43m:\u001b[49m\u001b[43m \u001b[49m\u001b[43mvalue\u001b[49m\u001b[43m}\u001b[49m\u001b[43m)\u001b[49m[\u001b[38;5;124m\"\u001b[39m\u001b[38;5;124mvalue\u001b[39m\u001b[38;5;124m\"\u001b[39m]\n",
      "File \u001b[1;32mD:\\Program Files\\Python311\\Lib\\site-packages\\selenium\\webdriver\\remote\\webdriver.py:346\u001b[0m, in \u001b[0;36mWebDriver.execute\u001b[1;34m(self, driver_command, params)\u001b[0m\n\u001b[0;32m    344\u001b[0m response \u001b[38;5;241m=\u001b[39m \u001b[38;5;28mself\u001b[39m\u001b[38;5;241m.\u001b[39mcommand_executor\u001b[38;5;241m.\u001b[39mexecute(driver_command, params)\n\u001b[0;32m    345\u001b[0m \u001b[38;5;28;01mif\u001b[39;00m response:\n\u001b[1;32m--> 346\u001b[0m     \u001b[38;5;28;43mself\u001b[39;49m\u001b[38;5;241;43m.\u001b[39;49m\u001b[43merror_handler\u001b[49m\u001b[38;5;241;43m.\u001b[39;49m\u001b[43mcheck_response\u001b[49m\u001b[43m(\u001b[49m\u001b[43mresponse\u001b[49m\u001b[43m)\u001b[49m\n\u001b[0;32m    347\u001b[0m     response[\u001b[38;5;124m\"\u001b[39m\u001b[38;5;124mvalue\u001b[39m\u001b[38;5;124m\"\u001b[39m] \u001b[38;5;241m=\u001b[39m \u001b[38;5;28mself\u001b[39m\u001b[38;5;241m.\u001b[39m_unwrap_value(response\u001b[38;5;241m.\u001b[39mget(\u001b[38;5;124m\"\u001b[39m\u001b[38;5;124mvalue\u001b[39m\u001b[38;5;124m\"\u001b[39m, \u001b[38;5;28;01mNone\u001b[39;00m))\n\u001b[0;32m    348\u001b[0m     \u001b[38;5;28;01mreturn\u001b[39;00m response\n",
      "File \u001b[1;32mD:\\Program Files\\Python311\\Lib\\site-packages\\selenium\\webdriver\\remote\\errorhandler.py:245\u001b[0m, in \u001b[0;36mErrorHandler.check_response\u001b[1;34m(self, response)\u001b[0m\n\u001b[0;32m    243\u001b[0m         alert_text \u001b[38;5;241m=\u001b[39m value[\u001b[38;5;124m\"\u001b[39m\u001b[38;5;124malert\u001b[39m\u001b[38;5;124m\"\u001b[39m]\u001b[38;5;241m.\u001b[39mget(\u001b[38;5;124m\"\u001b[39m\u001b[38;5;124mtext\u001b[39m\u001b[38;5;124m\"\u001b[39m)\n\u001b[0;32m    244\u001b[0m     \u001b[38;5;28;01mraise\u001b[39;00m exception_class(message, screen, stacktrace, alert_text)  \u001b[38;5;66;03m# type: ignore[call-arg]  # mypy is not smart enough here\u001b[39;00m\n\u001b[1;32m--> 245\u001b[0m \u001b[38;5;28;01mraise\u001b[39;00m exception_class(message, screen, stacktrace)\n",
      "\u001b[1;31mNoSuchWindowException\u001b[0m: Message: no such window: target window already closed\nfrom unknown error: web view not found\n  (Session info: chrome=103.0.5060.134)\nStacktrace:\nBacktrace:\n\tOrdinal0 [0x00355FD3+2187219]\n\tOrdinal0 [0x002EE6D1+1763025]\n\tOrdinal0 [0x00203E78+802424]\n\tOrdinal0 [0x001EC680+706176]\n\tOrdinal0 [0x0024F519+1111321]\n\tOrdinal0 [0x0025C762+1165154]\n\tOrdinal0 [0x0024C9A6+1100198]\n\tOrdinal0 [0x00226F80+946048]\n\tOrdinal0 [0x00227E76+949878]\n\tGetHandleVerifier [0x005F90C2+2721218]\n\tGetHandleVerifier [0x005EAAF0+2662384]\n\tGetHandleVerifier [0x003E137A+526458]\n\tGetHandleVerifier [0x003E0416+522518]\n\tOrdinal0 [0x002F4EAB+1789611]\n\tOrdinal0 [0x002F97A8+1808296]\n\tOrdinal0 [0x002F9895+1808533]\n\tOrdinal0 [0x003026C1+1844929]\n\tBaseThreadInitThunk [0x75D8FA29+25]\n\tRtlGetAppContainerNamedObjectPath [0x77097A9E+286]\n\tRtlGetAppContainerNamedObjectPath [0x77097A6E+238]\n"
     ]
    }
   ],
   "source": [
    "## 요소를 기다리는 코드 추가\n",
    "\n",
    "# 드라이버 로드\n",
    "driver = webdriver.Chrome()\n",
    "\n",
    "# 페이지 접근\n",
    "driver.get('https://map.naver.com/') # 크롤링 예제 사이트\n",
    "\n",
    "# 검색 element 가 로드될 때까지 최대 10초간 대기\n",
    "search_input = WebDriverWait(driver, 10).until(EC.presence_of_element_located((By.CSS_SELECTOR, 'input[id^=\"input_search\"]'))) # 요소가 나타날때 까지 최대 10초 대기\n",
    "\n",
    "# 검색 창에 검색어 입력\n",
    "search_input.send_keys('대구광역시 북구 고성동 치킨')\n",
    "\n",
    "# enter 입력\n",
    "search_input.send_keys(Keys.ENTER)"
   ]
  },
  {
   "cell_type": "markdown",
   "id": "457291cd",
   "metadata": {},
   "source": [
    "- wait 조건이 나열되어 있는 문서"
   ]
  },
  {
   "cell_type": "markdown",
   "id": "c6e4b91c",
   "metadata": {},
   "source": [
    "https://selenium-python.readthedocs.io/waits.html"
   ]
  }
 ],
 "metadata": {
  "kernelspec": {
   "display_name": "Python 3 (ipykernel)",
   "language": "python",
   "name": "python3"
  },
  "language_info": {
   "codemirror_mode": {
    "name": "ipython",
    "version": 3
   },
   "file_extension": ".py",
   "mimetype": "text/x-python",
   "name": "python",
   "nbconvert_exporter": "python",
   "pygments_lexer": "ipython3",
   "version": "3.11.3"
  }
 },
 "nbformat": 4,
 "nbformat_minor": 5
}
