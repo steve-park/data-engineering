{
 "cells": [
  {
   "cell_type": "markdown",
   "id": "7a80b617",
   "metadata": {},
   "source": [
    "# 동적 데이터 수집\n",
    "- 네이버 기사 여러 페이지 수집하기"
   ]
  },
  {
   "cell_type": "markdown",
   "id": "778538d6",
   "metadata": {},
   "source": [
    "---"
   ]
  },
  {
   "cell_type": "markdown",
   "id": "2eee17a6",
   "metadata": {},
   "source": [
    "## 0. 라이브러리 import"
   ]
  },
  {
   "cell_type": "code",
   "execution_count": 1,
   "id": "24313043",
   "metadata": {
    "tags": []
   },
   "outputs": [],
   "source": [
    "from selenium import webdriver\n",
    "from selenium.webdriver.common.by import By\n",
    "from selenium.webdriver.support.ui import WebDriverWait\n",
    "from selenium.webdriver.support import expected_conditions as EC\n",
    "from selenium.webdriver.common.keys import Keys\n",
    "from bs4 import BeautifulSoup\n",
    "\n",
    "import pandas as pd"
   ]
  },
  {
   "cell_type": "markdown",
   "id": "f6bc95d9",
   "metadata": {},
   "source": [
    "## 1. 네이버 뉴스 검색 결과로 바로 이동하기"
   ]
  },
  {
   "cell_type": "markdown",
   "id": "126b7713",
   "metadata": {},
   "source": [
    "- www.naver.com 으로 이동하여 검색하는 방법도 있지만\n",
    "- 바로 이동할 수 있는 방법이 있다면 시간과 자원을 절약할 수 있음"
   ]
  },
  {
   "cell_type": "code",
   "execution_count": 2,
   "id": "f5fb5f81",
   "metadata": {
    "tags": []
   },
   "outputs": [],
   "source": [
    "# 드라이버 로드\n",
    "driver = webdriver.Chrome()\n",
    "# 페이지 접근\n",
    "driver.get('https://search.naver.com/search.naver?where=news&sm=tab_jum&query=KT WIZ') # 크롤링 예제 사이트"
   ]
  },
  {
   "cell_type": "markdown",
   "id": "2593b9dd",
   "metadata": {},
   "source": [
    "## 2. 페이지 탐색 및 크롤링 준비"
   ]
  },
  {
   "cell_type": "code",
   "execution_count": 3,
   "id": "349d56e4",
   "metadata": {
    "tags": []
   },
   "outputs": [
    {
     "name": "stdout",
     "output_type": "stream",
     "text": [
      "10\n"
     ]
    }
   ],
   "source": [
    "# 뉴스 기사가 모아놓은 요소 찾기\n",
    "articles_box = driver.find_element(By.CSS_SELECTOR,'#main_pack > section > div > div.group_news > ul')\n",
    "# 뉴스 기사 리스트 찾기\n",
    "article_list = articles_box.find_elements(By.CSS_SELECTOR,'li.bx')\n",
    "print(len(article_list))"
   ]
  },
  {
   "cell_type": "code",
   "execution_count": 4,
   "id": "cdaabc84",
   "metadata": {
    "tags": []
   },
   "outputs": [
    {
     "name": "stdout",
     "output_type": "stream",
     "text": [
      "뉴스 제목 : KT, 29일 한화전서 'kt wiz 응원단이 간다!' 행사 진행\n",
      "뉴스 내용 : 프로야구 kt wiz가 오는 29일 대전에서 열리는 한화 이글스와의 원정 경기에 'kt wiz 응원단이 간다!' 행사를 진행한다고 밝혔다. 이번 행사는 연고지역 야구팬들에게 새로운 응원 문화를 선사하고 지역 경제 활성화를...\n",
      "스포츠투데이\n",
      "뉴스 제목 : kt wiz 박병호·SSG 랜더스 최정, 올스타전 '베스트12' 선정\n",
      "뉴스 내용 : kt wiz 박병호. /프로야구 수원 kt wiz 홈페이지 캡처 프로야구 수원 kt wiz의 중심 타자 박병호와 인천 SSG 랜더스 핵심 3루수인 최정이 2023 신한은행 SOL KBO 올스타전 '베스트12'로 선정됐다.KBO는 지난 5일부터...\n",
      "경인일보\n",
      "뉴스 제목 : 프로야구 kt-KIA 광주 경기, 우천취소\n",
      "뉴스 내용 : 25일 오후 5시 광주기아챔피언스필드에서 열릴 예정이던 2023 프로야구 kt wiz와 KIA 타이거즈의 경기가 비로 취소됐다. 취소된 경기는 나중에 재편성된다. 8위 KIA는 24일까지 29승 34패 1무, 7위 kt는 30승...\n",
      "연합뉴스\n",
      "뉴스 제목 : [프로야구 경인구단 주간전망] kt, 활짝 펼친 '반격의 서막'\n",
      "뉴스 내용 : 프로야구 수원 kt wiz가 지난 20일부터 25일까지 치른 5경기(1경기 우천취소)에서 4승 1패를 거두며 10개 팀 중 7위에 자리했다. 상승세를 이어간 KT는 4위 롯데 자이언츠와의 경기 차이도 2.5경기로 좁히며 대반격의...\n",
      "경인일보\n",
      "뉴스 제목 : 프로야구 kt-KIA전·한화-NC전, 장맛비로 취소·노게임(종합)\n",
      "뉴스 내용 : 이날 오후 5시 광주 기아챔피언스필드에서 열릴 예정이었던 kt wiz와 KIA 타이거즈의 경기는 낮부터 내린 비로 취소됐다. 같은 날 창원NC파크에서 시작된 한화 이글스-NC 다이노스전은 경기 중 쏟아진 비로 무효...\n",
      "연합뉴스\n",
      "뉴스 제목 : 기업은행, KT wiz파크에서 'IBK카드 브랜드데이' 실시\n",
      "뉴스 내용 : IBK기업은행(은행장 김성태)은 오는 7월 7일 경기도 수원시에 소재한 케이티 윈즈(KT wiz)파크에서 ‘IBK카드 브랜드데이’를 실시한다고 22일 밝혔다. 기업은행은 KT wiz와 단독으로 제휴한 ‘카드’를 보유한...\n",
      "이데일리\n",
      "뉴스 제목 : 내달 7일 'IBK카드 브랜드데이' 실시…'KT wiz카드' 고객 야구장 무료\n",
      "뉴스 내용 : IBK기업은행(이하 기업은행)은 오는 7월7일 경기도 수원시에 소재한 KT wiz(위즈)파크에서 'IBK카드 브랜드데이'를 실시한다고 22일 밝혔다. 기업은행 측은 \"KT wiz와 단독으로 제휴한 '카드'를 보유한 고객에게...\n",
      "스포츠한국\n",
      "뉴스 제목 : 자기 타구에 얼굴 맞은 kt 이호연, 코뼈 골절로 1군 말소\n",
      "뉴스 내용 : 올해 롯데 자이언츠에서 kt wiz로 유니폼을 갈아입고 제2의 야구 인생을 향한 힘찬 날갯짓을 하던 내야수 이호연이 예상치 못한 부상으로 1군에서 빠졌습니다. 이강철 kt 감독은 오늘(22일) 수원 케이티위즈파크에서...\n",
      "SBS\n",
      "뉴스 제목 : 상승세 이어간 kt, 롯데에 완승…김상수 3안타 3득점\n",
      "뉴스 내용 : kt wiz가 타선의 집중력을 바탕으로 롯데 자이언츠를 꺾고 상승세를 이어갔다. kt는 21일 수원케이티위즈파크에서 열린 2023 신한은행 SOL KBO리그 롯데와 홈 경기에서 14안타를 몰아치며 8-2로 승리했다. kt는 최근...\n",
      "연합뉴스\n",
      "뉴스 제목 : KIA, 3연패 탈출...KT에 4-1승\n",
      "뉴스 내용 : /KIA타이거즈 제공 프로야구 KIA타이거즈가 양현종의 호투와 김도영의 결승타에 힘입어 kt wiz를 꺾고 3연패를 탈출했다. KIA는 24일 광주 기아챔피언스필드에서 열린 2023 신한은행 SOL KBO리그 와의 홈 경기에서 4...\n",
      "남도일보\n"
     ]
    }
   ],
   "source": [
    "for article in article_list:\n",
    "    # 뉴스 제목 가져오기\n",
    "    title = article.find_element(By.CSS_SELECTOR,'a.news_tit').text\n",
    "    print(\"뉴스 제목 : \" + title)\n",
    "        \n",
    "    # 뉴스 설명 가져오기\n",
    "    dsc = article.find_element(By.CSS_SELECTOR, \"div.dsc_wrap > a\").text\n",
    "    print(\"뉴스 내용 : \" + dsc)\n",
    "    \n",
    "    # 신문사 가져오기\n",
    "    press = article.find_element(By.CSS_SELECTOR, \"a.press\").text\n",
    "    print(press)\n"
   ]
  },
  {
   "cell_type": "code",
   "execution_count": 5,
   "id": "6fe42acd",
   "metadata": {
    "tags": []
   },
   "outputs": [
    {
     "name": "stdout",
     "output_type": "stream",
     "text": [
      "<a aria-disabled=\"true\" class=\"btn_prev\" role=\"button\">\n",
      " <i class=\"spnew ico_page_arr\">\n",
      "  이전\n",
      " </i>\n",
      "</a>\n",
      "<div class=\"sc_page_inner\">\n",
      " <a aria-pressed=\"true\" class=\"btn\" href=\"?where=news&amp;sm=tab_pge&amp;query=KT%20WIZ&amp;sort=0&amp;photo=0&amp;field=0&amp;pd=0&amp;ds=&amp;de=&amp;cluster_rank=24&amp;mynews=0&amp;office_type=0&amp;office_section_code=0&amp;news_office_checked=&amp;nso=so:r,p:all,a:all&amp;start=1\" onclick=\"return goOtherCR(this, 'a=nws.paging&amp;r=1&amp;u='+urlencode(urlexpand(this.href)));\" role=\"button\">\n",
      "  1\n",
      " </a>\n",
      " <a aria-pressed=\"false\" class=\"btn\" href=\"?where=news&amp;sm=tab_pge&amp;query=KT%20WIZ&amp;sort=0&amp;photo=0&amp;field=0&amp;pd=0&amp;ds=&amp;de=&amp;cluster_rank=24&amp;mynews=0&amp;office_type=0&amp;office_section_code=0&amp;news_office_checked=&amp;nso=so:r,p:all,a:all&amp;start=11\" onclick=\"return goOtherCR(this, 'a=nws.paging&amp;r=2&amp;u='+urlencode(urlexpand(this.href)));\" role=\"button\">\n",
      "  2\n",
      " </a>\n",
      " <a aria-pressed=\"false\" class=\"btn\" href=\"?where=news&amp;sm=tab_pge&amp;query=KT%20WIZ&amp;sort=0&amp;photo=0&amp;field=0&amp;pd=0&amp;ds=&amp;de=&amp;cluster_rank=24&amp;mynews=0&amp;office_type=0&amp;office_section_code=0&amp;news_office_checked=&amp;nso=so:r,p:all,a:all&amp;start=21\" onclick=\"return goOtherCR(this, 'a=nws.paging&amp;r=3&amp;u='+urlencode(urlexpand(this.href)));\" role=\"button\">\n",
      "  3\n",
      " </a>\n",
      " <a aria-pressed=\"false\" class=\"btn\" href=\"?where=news&amp;sm=tab_pge&amp;query=KT%20WIZ&amp;sort=0&amp;photo=0&amp;field=0&amp;pd=0&amp;ds=&amp;de=&amp;cluster_rank=24&amp;mynews=0&amp;office_type=0&amp;office_section_code=0&amp;news_office_checked=&amp;nso=so:r,p:all,a:all&amp;start=31\" onclick=\"return goOtherCR(this, 'a=nws.paging&amp;r=4&amp;u='+urlencode(urlexpand(this.href)));\" role=\"button\">\n",
      "  4\n",
      " </a>\n",
      " <a aria-pressed=\"false\" class=\"btn\" href=\"?where=news&amp;sm=tab_pge&amp;query=KT%20WIZ&amp;sort=0&amp;photo=0&amp;field=0&amp;pd=0&amp;ds=&amp;de=&amp;cluster_rank=24&amp;mynews=0&amp;office_type=0&amp;office_section_code=0&amp;news_office_checked=&amp;nso=so:r,p:all,a:all&amp;start=41\" onclick=\"return goOtherCR(this, 'a=nws.paging&amp;r=5&amp;u='+urlencode(urlexpand(this.href)));\" role=\"button\">\n",
      "  5\n",
      " </a>\n",
      " <a aria-pressed=\"false\" class=\"btn\" href=\"?where=news&amp;sm=tab_pge&amp;query=KT%20WIZ&amp;sort=0&amp;photo=0&amp;field=0&amp;pd=0&amp;ds=&amp;de=&amp;cluster_rank=24&amp;mynews=0&amp;office_type=0&amp;office_section_code=0&amp;news_office_checked=&amp;nso=so:r,p:all,a:all&amp;start=51\" onclick=\"return goOtherCR(this, 'a=nws.paging&amp;r=6&amp;u='+urlencode(urlexpand(this.href)));\" role=\"button\">\n",
      "  6\n",
      " </a>\n",
      " <a aria-pressed=\"false\" class=\"btn\" href=\"?where=news&amp;sm=tab_pge&amp;query=KT%20WIZ&amp;sort=0&amp;photo=0&amp;field=0&amp;pd=0&amp;ds=&amp;de=&amp;cluster_rank=24&amp;mynews=0&amp;office_type=0&amp;office_section_code=0&amp;news_office_checked=&amp;nso=so:r,p:all,a:all&amp;start=61\" onclick=\"return goOtherCR(this, 'a=nws.paging&amp;r=7&amp;u='+urlencode(urlexpand(this.href)));\" role=\"button\">\n",
      "  7\n",
      " </a>\n",
      " <a aria-pressed=\"false\" class=\"btn\" href=\"?where=news&amp;sm=tab_pge&amp;query=KT%20WIZ&amp;sort=0&amp;photo=0&amp;field=0&amp;pd=0&amp;ds=&amp;de=&amp;cluster_rank=24&amp;mynews=0&amp;office_type=0&amp;office_section_code=0&amp;news_office_checked=&amp;nso=so:r,p:all,a:all&amp;start=71\" onclick=\"return goOtherCR(this, 'a=nws.paging&amp;r=8&amp;u='+urlencode(urlexpand(this.href)));\" role=\"button\">\n",
      "  8\n",
      " </a>\n",
      " <a aria-pressed=\"false\" class=\"btn\" href=\"?where=news&amp;sm=tab_pge&amp;query=KT%20WIZ&amp;sort=0&amp;photo=0&amp;field=0&amp;pd=0&amp;ds=&amp;de=&amp;cluster_rank=24&amp;mynews=0&amp;office_type=0&amp;office_section_code=0&amp;news_office_checked=&amp;nso=so:r,p:all,a:all&amp;start=81\" onclick=\"return goOtherCR(this, 'a=nws.paging&amp;r=9&amp;u='+urlencode(urlexpand(this.href)));\" role=\"button\">\n",
      "  9\n",
      " </a>\n",
      " <a aria-pressed=\"false\" class=\"btn\" href=\"?where=news&amp;sm=tab_pge&amp;query=KT%20WIZ&amp;sort=0&amp;photo=0&amp;field=0&amp;pd=0&amp;ds=&amp;de=&amp;cluster_rank=24&amp;mynews=0&amp;office_type=0&amp;office_section_code=0&amp;news_office_checked=&amp;nso=so:r,p:all,a:all&amp;start=91\" onclick=\"return goOtherCR(this, 'a=nws.paging&amp;r=10&amp;u='+urlencode(urlexpand(this.href)));\" role=\"button\">\n",
      "  10\n",
      " </a>\n",
      "</div>\n",
      "<a aria-disabled=\"false\" class=\"btn_next\" href=\"?where=news&amp;sm=tab_pge&amp;query=KT%20WIZ&amp;sort=0&amp;photo=0&amp;field=0&amp;pd=0&amp;ds=&amp;de=&amp;cluster_rank=24&amp;mynews=0&amp;office_type=0&amp;office_section_code=0&amp;news_office_checked=&amp;nso=so:r,p:all,a:all&amp;start=11\" onclick=\"return goOtherCR(this, 'a=nws.paging&amp;r=2&amp;u='+urlencode(urlexpand(this.href)));\" role=\"button\">\n",
      " <i class=\"spnew ico_page_arr\">\n",
      "  다음\n",
      " </i>\n",
      "</a>\n",
      "\n"
     ]
    }
   ],
   "source": [
    "# 페이지 번호 요소 찾기\n",
    "page_wrap = driver.find_element(By.CSS_SELECTOR, 'div.sc_page')\n",
    "\n",
    "# 찾은 요소에서 html 코드 가져오기\n",
    "page_wrap_html = page_wrap.get_attribute('innerHTML')\n",
    "page_soup = BeautifulSoup(page_wrap_html, 'html.parser')\n",
    "print(page_soup.prettify())"
   ]
  },
  {
   "cell_type": "markdown",
   "id": "d05d9dcb",
   "metadata": {},
   "source": [
    "- disabled 속성으로 이전페이지가 있는지, 이후페이지가 있는지 알 수 있다. \n",
    "- pressed 속성으로 현재 페이지가 몇인지도 알 수 있다."
   ]
  },
  {
   "cell_type": "code",
   "execution_count": 6,
   "id": "6c06a8b8",
   "metadata": {
    "tags": []
   },
   "outputs": [
    {
     "name": "stdout",
     "output_type": "stream",
     "text": [
      "1\n",
      "false\n"
     ]
    }
   ],
   "source": [
    "# 현재 페이지 찾기\n",
    "# aria-pressed=\"true\" 인 요소 찾기\n",
    "now_page = page_wrap.find_element(By.CSS_SELECTOR, 'a[aria-pressed=\"true\"]')\n",
    "print(now_page.text)\n",
    "\n",
    "# 다음 페이지 이동 불가능 여부 가져오기\n",
    "next_page = page_wrap.find_element(By.CSS_SELECTOR, 'a.btn_next')\n",
    "aria_disabled = next_page.get_attribute('aria-disabled')\n",
    "print(aria_disabled)"
   ]
  },
  {
   "cell_type": "markdown",
   "id": "a3d19eee",
   "metadata": {},
   "source": [
    "- 현재 페이지의 뉴스 제목, 내용, 신문사를 출력하는 함수 작성"
   ]
  },
  {
   "cell_type": "code",
   "execution_count": 7,
   "id": "d2e60b2f",
   "metadata": {
    "tags": []
   },
   "outputs": [],
   "source": [
    "def get_news_info(driver):\n",
    "    result = []\n",
    "    # 뉴스 기사들을 모아 놓은 요소가 로딩될때 까지 대기\n",
    "    articles_box = WebDriverWait(driver, 10).until(EC.presence_of_element_located((By.CSS_SELECTOR, '#main_pack > section > div > div.group_news > ul')))\n",
    "    # 뉴스 기사 리스트 찾기\n",
    "    article_list = articles_box.find_elements(By.CSS_SELECTOR,'li.bx')\n",
    "    for article in article_list:\n",
    "        news_info = {}\n",
    "        # 뉴스 제목 가져오기\n",
    "        title = article.find_element(By.CSS_SELECTOR,'a.news_tit').text\n",
    "        news_info['제목'] = title\n",
    "        # 뉴스 내용 가져오기\n",
    "        dsc = article.find_element(By.CSS_SELECTOR, \"div.dsc_wrap > a\").text\n",
    "        news_info['내용'] = dsc\n",
    "        # 신문사 가져오기\n",
    "        press = article.find_element(By.CSS_SELECTOR, \"a.press\").text\n",
    "        news_info['언론사'] = press\n",
    "        \n",
    "        result.append(news_info)      \n",
    "    return result\n"
   ]
  },
  {
   "cell_type": "markdown",
   "id": "098cc481",
   "metadata": {},
   "source": [
    "- 여러 페이지 크롤링을 위해 페이지 이동할때마다 현재 페이지 정보와, 다음 페이지 이동 가능 여부를 판단하는 함수 작성 "
   ]
  },
  {
   "cell_type": "code",
   "execution_count": 8,
   "id": "96fe266e",
   "metadata": {
    "tags": []
   },
   "outputs": [],
   "source": [
    "def get_page_info(driver):\n",
    "    result = {}\n",
    "    # 페이지 이동마다 사용하기 때문에 Wait 사용\n",
    "    page_wrap = WebDriverWait(driver, 10).until(EC.presence_of_element_located((By.CSS_SELECTOR , 'div.sc_page')))\n",
    "    # 현재 페이지 찾기\n",
    "    now_page = page_wrap.find_element(By.CSS_SELECTOR, 'a[aria-pressed=\"true\"]').text\n",
    "    result['현재 페이지'] = now_page\n",
    "    # 다음 페이지 이동 불가능 여부 가져오기\n",
    "    next_page = page_wrap.find_element(By.CSS_SELECTOR, 'a.btn_next')\n",
    "    result['다음 페이지'] = next_page\n",
    "    aria_disabled = next_page.get_attribute('aria-disabled')\n",
    "    result['다음 페이지 이동 불가'] = aria_disabled\n",
    "    \n",
    "    \n",
    "    return result"
   ]
  },
  {
   "cell_type": "markdown",
   "id": "88b551c4",
   "metadata": {},
   "source": [
    "## 3. 크롤링"
   ]
  },
  {
   "cell_type": "code",
   "execution_count": 9,
   "id": "814d4e1c",
   "metadata": {
    "tags": []
   },
   "outputs": [
    {
     "name": "stdout",
     "output_type": "stream",
     "text": [
      "1\n",
      "[{'제목': \"KT, 29일 한화전서 'kt wiz 응원단이 간다!' 행사 진행\", '내용': \"프로야구 kt wiz가 오는 29일 대전에서 열리는 한화 이글스와의 원정 경기에 'kt wiz 응원단이 간다!' 행사를 진행한다고 밝혔다. 이번 행사는 연고지역 야구팬들에게 새로운 응원 문화를 선사하고 지역 경제 활성화를...\", '언론사': '스포츠투데이'}, {'제목': \"kt wiz 박병호·SSG 랜더스 최정, 올스타전 '베스트12' 선정\", '내용': \"kt wiz 박병호. /프로야구 수원 kt wiz 홈페이지 캡처 프로야구 수원 kt wiz의 중심 타자 박병호와 인천 SSG 랜더스 핵심 3루수인 최정이 2023 신한은행 SOL KBO 올스타전 '베스트12'로 선정됐다.KBO는 지난 5일부터...\", '언론사': '경인일보'}, {'제목': '프로야구 kt-KIA 광주 경기, 우천취소', '내용': '25일 오후 5시 광주기아챔피언스필드에서 열릴 예정이던 2023 프로야구 kt wiz와 KIA 타이거즈의 경기가 비로 취소됐다. 취소된 경기는 나중에 재편성된다. 8위 KIA는 24일까지 29승 34패 1무, 7위 kt는 30승...', '언론사': '연합뉴스'}, {'제목': \"[프로야구 경인구단 주간전망] kt, 활짝 펼친 '반격의 서막'\", '내용': '프로야구 수원 kt wiz가 지난 20일부터 25일까지 치른 5경기(1경기 우천취소)에서 4승 1패를 거두며 10개 팀 중 7위에 자리했다. 상승세를 이어간 KT는 4위 롯데 자이언츠와의 경기 차이도 2.5경기로 좁히며 대반격의...', '언론사': '경인일보'}, {'제목': '프로야구 kt-KIA전·한화-NC전, 장맛비로 취소·노게임(종합)', '내용': '이날 오후 5시 광주 기아챔피언스필드에서 열릴 예정이었던 kt wiz와 KIA 타이거즈의 경기는 낮부터 내린 비로 취소됐다. 같은 날 창원NC파크에서 시작된 한화 이글스-NC 다이노스전은 경기 중 쏟아진 비로 무효...', '언론사': '연합뉴스'}, {'제목': \"기업은행, KT wiz파크에서 'IBK카드 브랜드데이' 실시\", '내용': 'IBK기업은행(은행장 김성태)은 오는 7월 7일 경기도 수원시에 소재한 케이티 윈즈(KT wiz)파크에서 ‘IBK카드 브랜드데이’를 실시한다고 22일 밝혔다. 기업은행은 KT wiz와 단독으로 제휴한 ‘카드’를 보유한...', '언론사': '이데일리'}, {'제목': \"내달 7일 'IBK카드 브랜드데이' 실시…'KT wiz카드' 고객 야구장 무료\", '내용': 'IBK기업은행(이하 기업은행)은 오는 7월7일 경기도 수원시에 소재한 KT wiz(위즈)파크에서 \\'IBK카드 브랜드데이\\'를 실시한다고 22일 밝혔다. 기업은행 측은 \"KT wiz와 단독으로 제휴한 \\'카드\\'를 보유한 고객에게...', '언론사': '스포츠한국'}, {'제목': '자기 타구에 얼굴 맞은 kt 이호연, 코뼈 골절로 1군 말소', '내용': '올해 롯데 자이언츠에서 kt wiz로 유니폼을 갈아입고 제2의 야구 인생을 향한 힘찬 날갯짓을 하던 내야수 이호연이 예상치 못한 부상으로 1군에서 빠졌습니다. 이강철 kt 감독은 오늘(22일) 수원 케이티위즈파크에서...', '언론사': 'SBS'}, {'제목': '상승세 이어간 kt, 롯데에 완승…김상수 3안타 3득점', '내용': 'kt wiz가 타선의 집중력을 바탕으로 롯데 자이언츠를 꺾고 상승세를 이어갔다. kt는 21일 수원케이티위즈파크에서 열린 2023 신한은행 SOL KBO리그 롯데와 홈 경기에서 14안타를 몰아치며 8-2로 승리했다. kt는 최근...', '언론사': '연합뉴스'}, {'제목': 'KIA, 3연패 탈출...KT에 4-1승', '내용': '/KIA타이거즈 제공 프로야구 KIA타이거즈가 양현종의 호투와 김도영의 결승타에 힘입어 kt wiz를 꺾고 3연패를 탈출했다. KIA는 24일 광주 기아챔피언스필드에서 열린 2023 신한은행 SOL KBO리그 와의 홈 경기에서 4...', '언론사': '남도일보'}]\n",
      "2\n",
      "[{'제목': '중위권 지각변동…키움 5위·kt 7위…삼성 1천865일 만에 최하위(종합)', '내용': 'kt wiz도 롯데 자이언츠와의 주중 3연전을 쓸어 담고 7위로 올라섰다. KIA 타이거즈는 8위로 하락했고, 한화 이글스는 최하위에서 탈출했다. 삼성 라이온즈는 10경기 이상 치른 시점을 기준으로 2018년 5월 14일 이래 5년...', '언론사': '연합뉴스'}, {'제목': \"'벤자민 7승+박병호 3안타' KT, 롯데와의 3연전 스윕\", '내용': 'kt wiz가 롯데 자이언츠와의 주중 3연전을 싹쓸이했다. KT는 22일 수원 케이티 위즈파크에서 열린 2023 신한은행 SOL KBO 리그 롯데와의 홈경기에서 4-2로 승리했다. 3연승을 달린 KT는 29승2무34패를 기록했다. 3연패에...', '언론사': '스포츠투데이'}, {'제목': '만루 기회 번번이 날린 롯데, kt전 6연패 수렁', '내용': '롯데는 22일 수원 케이티위즈파크에서 열린 2023 신한은행 SOL KBO리그 kt wiz와 방문 경기에서 타선의 침묵 속에 2-4로 패했다. 최근 3연패, 6월 5승 14패의 부진에서 벗어나지 못한 롯데는 이달 초 플러스 11까지 갔던 승패...', '언론사': '연합뉴스'}, {'제목': 'SSG 최정 연장서 결승 만루포…6월 승률 1, 2위 NC·kt 승리합창(종합)', '내용': '6월 승률 1, 2위 팀인 NC 다이노스와 kt wiz는 나란히 승리해 상승세를 이어갔다. NC는 창원 안방에서 LG를 8-4로 제압했다. LG 선발 이상영의 제구 난조에 편승해 NC는 1회에 박건우의 적시타와 밀어내기 볼넷으로 2점을...', '언론사': '연합뉴스'}, {'제목': 'KIA, 3연패 탈출...KT에 4-1승', '내용': '/KIA타이거즈 제공 프로야구 KIA타이거즈가 양현종의 호투와 김도영의 결승타에 힘입어 kt wiz를 꺾고 3연패를 탈출했다. KIA는 24일 광주 기아챔피언스필드에서 열린 2023 신한은행 SOL KBO리그 와의 홈 경기에서 4...', '언론사': '남도일보'}, {'제목': '쿠에바스 6이닝 1실점 호투...kt wiz, KIA 꺾고 4연승 질주', '내용': '프로야구 수원 kt wiz가 선발 투수 쿠에바스의 호투에 힘입어 4연승을 질주했다.23일 광주 기아 챔피언스필드에서 열린 2023 신한은행 SOL KBO리그 경기에서 수원 kt wiz는 KIA 타이거즈를 10-3으로 대파했다. KT의 올 시즌...', '언론사': '경인일보'}, {'제목': '4년 만에 돌아온 kt wiz 원정마법사, 24일 광주 출격', '내용': 'kt wiz 야구단의 대표적인 응원 문화인 원정 마법사가 4년 만에 돌아온다. KT는 24일(토) 광주챔피언스필드에서 열리는 KIA타이거즈와의 원정경기에 음식료 외식프랜차이즈 기업인 뜸들이다(대표 강진석)와 함께하는...', '언론사': '민중의소리'}, {'제목': \"'2년 차 징크스' 지운 kt 박영현, 리그 홀드 공동 2위 질주\", '내용': '프로야구 kt wiz의 불펜 투수 박영현(19)도 2년차 징크스의 개념을 잘 알고 있다. 2022시즌 데뷔한 박영현은 징크스에 빠지지 않기 위해 지난 겨울 단단히 준비했고, 올 시즌 그 성과를 내고 있다. 박영현은 데뷔 첫해인...', '언론사': '연합뉴스'}, {'제목': \"'배제성 QS' kt, '한현희 불펜 등판'한 롯데 5-2 제압\", '내용': \"kt wiz가 우완 선발투수 배제성(26)의 퀄리티스타트(6이닝 이상 3자책점 이하)에 힘입어 '5선발' 우완 사이드암 한현희가 깜짝 불펜투수로 등판한 롯데 자이언츠를 제압했다. 배제성. ⓒ 는 20일 오후 6시30분...\", '언론사': '스포츠한국'}, {'제목': '4년 만에 돌아왔다…kt 원정마법사, 24일 광주에 뜬다!', '내용': \"kt wiz의 대표적인 응원 문화인 원정 마법사가 4년 만에 돌아온다. kt는 24일 광주기아챔피언스필드에서 열릴 KIA 타이거즈와 원정경기에 음식료ㆍ 외식ㆍ프랜차이즈 기업인 ㈜뜸들이다와 함께하는 '2023 원정...\", '언론사': '스포티비뉴스'}]\n",
      "3\n",
      "[{'제목': '장애아동 다문화가정 아이에 야구로 선물..KT알파 쇼핑', '내용': 'KT알파 쇼핑은 프로 야구팀 KT WIZ와 공동 사회공헌활동의 일환으로 장애아동, 다문화가정 아이들을 초청해 경기관람 행사를 진행했다고 19일 밝혔다. KT알파 쇼핑에 따르면 올해는 장애아동 및 다문화가정 아동이...', '언론사': '파이낸셜뉴스'}, {'제목': 'IBK기업은행, KT wiz파크서 ‘IBK카드 브랜드데이’ 실시', '내용': '7월 7일 ‘KT wiz카드’ 보유 고객 대상…야구장 무료입장·경품 혜택 IBK기업은행은 오는 7월 7일 경기도 수원시에 소재한 KT wiz파크에서 ‘IBK카드 브랜드데이’를 펼친다고 22일 밝혔다. 프로야구단 와...', '언론사': '글로벌에픽'}, {'제목': \"살아난 kt, 롯데 '구원' 한현희 두들겨 역전승…6월 '11승 5패'\", '내용': '이달 들어 무섭게 상승세를 탄 kt wiz가 롯데 자이언츠전 4연승을 질주했습니다. kt는 오늘(20일) 수원케이티위즈파크에서 롯데와 벌인 2023 프로야구 홈경기에서 5대 2로 역전승을 거뒀습니다. 최하위에서 벗어나...', '언론사': 'SBS'}, {'제목': '수원 kt wiz, 삼성에 5-7로 패하며 4연승 마감', '내용': '18일 수원KT위즈파크에서 열린 2023 신한은행 SOL KBO리그 수원 kt wiz와 삼성 라이온즈의 경기에서 kt wiz 선발 엄상백이 역투하고 있다. 이날 kt wiz는 삼성 라이온즈에 5-7로 패하며 4연승을 마감했다. 2023.6.18 /...', '언론사': '경인일보'}, {'제목': \"'들어와'… '퇴장' 이강철 감독, 뿔난 이유는[광주에서]\", '내용': 'kt wiz의 이강철 감독이 퇴장을 당했다. 또한 선수들에게 더그아웃으로 들어오라는 손짓을 보여줬다. kt wiz 선수들은 일부 더그아웃으로 들어갔다가 다시 나와 경기를 치렀다. 선수들에게 더그아웃으로 들어오라는...', '언론사': '스포츠한국'}, {'제목': \"'1선발' 나균안마저 무너졌다… 롯데, 5강권 사수 힘든가\", '내용': 'ⓒ롯데 자이언츠 롯데는 21일 오후 6시30분 수원 kt위즈파크에서 열린 2023 신한은행 SOL KBO리그 kt wiz와의 원정경기에서 2-8로 패하며 2연패를 기록했다. 시즌 성적은 32승30패로 4위에 머물렀다. 선발투수로 나선 나균안이...', '언론사': '스포츠한국'}, {'제목': '이강철 kt 감독 \"불펜 박시영, 8월 복귀…차근차근 추격\"', '내용': '지난해 팔꿈치 인대 수술을 받은 프로야구 kt wiz의 핵심 불펜 박시영(34)이 후반기에 복귀한다. 이강철 kt 감독은 21일 수원케이티위즈파크에서 열리는 롯데 자이언츠와 홈 경기를 앞두고 \"박시영은 8월에 돌아올 것...', '언론사': '연합뉴스'}, {'제목': '롯데에서 새 출발 한 심재민 \"1군 첫 경기가 kt였으면\"', '내용': '22일 수원 kt전에서 롯데 데뷔전…⅔이닝 무실점 \"트레이드되고 나서 1군 첫 경기 상대가 kt wiz였으면 좋겠다고 생각했어요. 저를 처음으로 뽑아준 팀을 상대해 보고 싶었거든요. 데뷔해서 kt에만 있다 보니 한 번도...', '언론사': '연합뉴스'}, {'제목': '장성우, 어제는 3타점·오늘은 4타점…kt, SSG 꺾고 2연승', '내용': 'kt wiz가 이틀 연속 해결사로 나선 장성우 덕에 SSG 랜더스와의 주중 3연전을 2승 1패로 마쳤다. kt는 15일 인천 SSG랜더스필드에서 열린 2023 신한은행 SOL KBO리그 방문 경기에서 SSG를 7-3으로 꺾었다. 13일 1-8로 패했던...', '언론사': '연합뉴스'}, {'제목': 'kt wiz, 롯데와 3연전에 다채로운 시구 행사 마련', '내용': 'kt wiz 야구단이 6월 호국보훈의 달을 맞아 20일(화)부터 수원 KT위즈파크에서 열리는 롯데 자이언츠와의 주중 시리즈에 다채로운 시구 행사를 마련했다. 먼저, 20일(화)에는 해병대데이가 진행된다. 인기 7인조 보이그룹...', '언론사': '민중의소리'}]\n",
      "4\n",
      "[{'제목': \"'장준원 3타점' KT, 삼성 꺾고 파죽의 4연승\", '내용': 'kt wiz가 삼성 라이온즈를 꺾고 4연승을 질주했다. KT는 17일 수원 케이티 위즈파크에서 열린 2023 신한은행 SOL KBO 리그 삼성과의 홈경기에서 6-5로 승리했다. 4연승을 달린 KT는 26승2무33패를 기록했다. 반면 삼성은...', '언론사': '스포츠투데이'}, {'제목': '롯데 저물고, 키움·kt 여물고… 프로야구 어김없는 ‘올치올’', '내용': '2023시즌 초반 선두까지 올라갔던 롯데 자이언츠의 기세가 한풀 꺾인 반면 키움 히어로즈와 kt wiz는 상승세를 타기 시작했다. 지난 4월 말~5월 초 연승 행진을 이어 가며 리그 1위까지 내달렸던 롯데는 최근 부진의...', '언론사': '서울신문'}, {'제목': '프로야구 수원 kt wiz, 삼성 꺾고 4연승 내달려', '내용': '17일 수원KT위즈파크에서 열린 2023 신한은행 SOL KBO리그 수원 kt wiz와 삼성 라이온즈의 경기에서 KT 선발 투수 쿠에바스가 역투하고 있다. KT는 이날 삼성을 6-5로 물리치고 4연승을 달렸다. 2023.6.17 / 제공...', '언론사': '경인일보'}, {'제목': '믿고 쓰는 롯데 출신…kt 이호연 월간 타율 1위 행진', '내용': 'kt서 만개하는 롯데 선수들…이호연 영입으로 내야 가뭄도 해갈 프로야구 kt wiz엔 유독 롯데 자이언츠 출신 선수들이 많다. kt는 2015년부터 올해까지 롯데와 총 5차례 트레이드를 단행해 인연이 깊다. kt에서 꽃을...', '언론사': '연합뉴스'}, {'제목': '[브리프] 하나금융 신한은행 IBK기업은행 한화손보 ABL생명 外', '내용': \"■ IBK기업은행, KT wiz파크에서 'IBK카드 브랜드데이' 실시 사진 = IBK기업은행 IBK기업은행은 오는 7월 7일 경기도 수원시에 소재한 KT wiz파크에서 'IBK카드 브랜드데이'를 실시한다고 밝혔다. 와 단독으로 제휴한 'KT...\", '언론사': '비즈트리뷴'}, {'제목': 'kt 내야수 \\'막내\\' 김상수 \"에이징 커브라는 말, 깨고 싶었다\"', '내용': '롯데전서 3안타로 3할대 타율 진입…\"막내 소리 들으니 젊어진 듯\" kt wiz의 베테랑 내야수 김상수(33)는 요즘 회춘했다는 이야기를 많이 듣는다. 그는 삼성 라이온즈 소속 시절인 2021시즌부터 눈에 띄는 하락세를 타며...', '언론사': '연합뉴스'}, {'제목': 'kt로 돌아온 쿠에바스, 17일 삼성 상대로 KBO 복귀전', '내용': 'kt wiz로 돌아온 윌리엄 쿠에바스(32)가 17일 수원 홈에서 삼성 라이온즈를 상대로 KBO리그 복귀전을 치른다. 이강철 kt 감독은 13일 인천 SSG랜더스필드에서 열리는 프로야구 SSG 랜더스와의 방문 경기를 앞두고 \"아직...', '언론사': '연합뉴스'}, {'제목': \"[데일리 IT 단신] SKT, AI 인재 육성... 미래기술체험관 '티움' 투어 外\", '내용': '◆ KT알파 쇼핑, 후원 유소년야구단 위한 kt wiz 야구경기 초청행사 진행 KT알파 쇼핑이 kt wiz와 유소년 야구꿈나무들을 후원하기 위해 7년 연속 힘을 모은다. 올해는 장애아동 및 다문화가정 아동이 활동하는...', '언론사': '뉴데일리'}, {'제목': \"[오늘의 금융家] 카드사 '스몰 럭셔리' 서비스 外\", '내용': \"IBK기업은행(은행장 김성태)은 7월7일 경기도 수원시 KT wiz파크에서 'IBK카드 브랜드데이'를 실시한다고 밝혔다. KT wiz와 단독으로 제휴한 'KT wiz카드'를 보유한 고객에게 당일 야구장에 무료로 입장할 수 있는 기회를...\", '언론사': '이지경제'}, {'제목': \"'이호연 끝내기 안타+황재균 2타점' kt, 3연승 질주… 삼성 4연패\", '내용': 'kt wiz가 내야수 황재균(35)과 외야수 앤서니 알포드(28)의 활약 앞세워 3연승에 성공했다. 내야수 이호연(28)이 9회말 끝내기 안타를 터트렸다. ⓒkt wiz kt wiz는 16일 오후 6시30분 수원 kt위즈파크에서 열린 2023 신한은행...', '언론사': '스포츠한국'}]\n",
      "5\n",
      "[{'제목': 'SSG 최정 연장서 결승 만루포…6월 승률 1, 2위 NC·kt 승리합창', '내용': '6월 승률 1, 2위 팀인 NC 다이노스와 kt wiz는 나란히 승리해 상승세를 이어갔습니다. NC는 창원 안방에서 LG를 8대 4로 제압했습니다. LG 선발 이상영의 제구 난조에 편승해 NC는 1회에 박건우의 적시타와 밀어내기...', '언론사': 'SBS'}, {'제목': \"'에이스의 마법' 상승기류 타는 kt 고영표\", '내용': \"프로야구 수원 kt wiz의 '에이스' 투수 고영표(사진)가 2023시즌 상승세를 달리며 팀을 승리로 이끌고 있다.22일 현재, 고영표는 2023 프로야구 정규시즌에서 6승 3패에 3.04의 평균 자책점을 기록하며 맹활약하고 있다....\", '언론사': '경인일보'}, {'제목': \"'거인킬러' 고영표에 또 당했다… 롯데, 천적관계 탈출 언제쯤\", '내용': '롯데 자이언츠가 kt wiz 우완 사이드암 선발투수 고영표(31)에게 꽁꽁 묶였다. 천적 관계 탈출에 또다시 실패했다. 롯데는 21일 오후 6시30분 수원 kt위즈파크에서 열린 2023 신한은행 SOL KBO리그 와의 원정경기에서...', '언론사': '스포츠한국'}, {'제목': 'kt 우승 주역 ‘쿠동원’이 돌아왔다', '내용': '프로야구 kt wiz의 2021시즌 창단 첫 통합우승을 이끌었던 ‘쿠동원’ 윌리엄 쿠에바스(32)가 돌아왔다. 쿠에바스는 12일 새벽 가족들과 함께 인천국제공항 입국장에 들어서며 “다시 돌아오겠다는 약속을 지켜서...', '언론사': '서울신문'}, {'제목': 'kt 박병호, SSG 박종훈 상대로 만루홈런 폭발…개인 8호', '내용': '거포 박병호(kt wiz)가 개인 통산 8번째 그랜드슬램을 터뜨렸습니다. 박병호는 오늘(14일) 인천 SSG랜더스필드에서 열린 2023 KBO리그 SSG 랜더스와 방문경기에서 1회 초 우측 펜스를 넘어가는 만루홈런을 날렸습니다....', '언론사': 'SBS'}, {'제목': \"최하위 탈출한 kt 승부수…'우승 주역' 쿠에바스 재영입\", '내용': '프로야구 kt wiz가 2021년 창단 첫 통합 우승의 주역이었던 오른손 투수 윌리엄 쿠에바스(33)를 재영입했다. kt는 9일 외국인 투수 보 슐서 대체 선수로 쿠에바스를 총액 45만 달러에 영입했다고 발표했다. 쿠에바스는...', '언론사': '연합뉴스'}, {'제목': '나성범·김도영 복귀전 활약에도…KIA, KT에 3-10 완패', '내용': 'KIA는 23일 광주 기아챔피언스필드에서 열린 2023 신한은행 SOL KBO리그 kt wiz와의 홈 경기에서 3-10으로 패배했다. 사진은 이날 김도영의 모습. /KIA타이거즈 제공 KIA타이거즈 나성범과 김도영이 부상 복귀전에서...', '언론사': '남도일보'}, {'제목': 'KIA, 23·24일 KT전 ‘찐팬’ 가수 정다한·루탄 릴레이 승리기원 시구 진행', '내용': 'KIA 타이거즈가 6월 23~24일 광주-기아 챔피언스 필드에서 열리는 KT WIZ와의 경기에 ’찐팬’ 연예인을 연속 초청해 승리기원 시구 이벤트를 개최한다. 23일에는 광주 출신의 트로트 가수 정다한이 시구자로 초대된다....', '언론사': 'MK스포츠'}, {'제목': \"'박병호 만루포' KT, SSG에 14-4 대승…3연패 탈출\", '내용': 'kt wiz가 SSG 랜더스를 제물로 3연패에서 탈출했다. KT는 14일 인천SSG랜더스필드에서 열린 2023 신한은행 SOL KBO 리그 SSG와의 원정경기에서 14-4로 승리했다. 3연패를 끊은 KT는 23승2무33패로 9위를 유지했다. SSG는...', '언론사': '스포츠투데이'}, {'제목': 'KT Wiz reunite with pitcher Cuevas', '내용': 'baseball team-player KT Wiz reunite with pitcher Cuevas By Yoo Jee-ho SEOUL, June 9 (Yonhap) -- The KT Wiz announced Friday they have reunited with former staff ace William Cuevas, hoping the...', '언론사': '연합뉴스'}]\n",
      "6\n",
      "[{'제목': 'kt 김상수 \"여전히 잘 막고 잘 뛴다는 것 보여드리고 싶어\"', '내용': 'kt로 이적한 뒤 주전 유격수 되찾고, 공격에서도 맹활약 김상수(33·kt wiz)는 두 번째 팀에서 \\'제2의 전성기\\'를 누리고 있다. 이강철 kt 감독은 \"수비 강화를 위해 김상수를 영입했는데 공격까지 잘한다\"며 \"김상수가...', '언론사': '연합뉴스'}, {'제목': \"박병호 '만루 홈런' 폭발… 수원 kt wiz, SSG 랜더스 14-4 '대파'\", '내용': '14일 인천 SSG 랜더스필드에서 열린 2023 신한은행 SOL KBO리그 수원 kt wiz와 SSG 랜더스의 경기에서 kt wiz 박병호(가운데)가 1회초 만루 홈런을 기록하고 홈으로 들어와 동료들과 기쁨을 나누고 있다. 2023.6.14 /...', '언론사': '경인일보'}, {'제목': 'kt wiz-KT알파 쇼핑¸ 유소년 야구단 초청 행사 진행', '내용': '김재윤, 고영표, 유소년 야구선수들(사진=kt wiz)©열린뉴스통신ONA kt wiz 야구단과 KT알파 쇼핑이 18일 수원KT위즈파크에서 열린 삼성 라이온즈와의 홈 경기에서 유소년 야구단 초청 행사를 진행했다. 이날 KT는 KT알파...', '언론사': '열린뉴스통신'}, {'제목': '5선발이 \\'5G ERA 1.00\\'… kt 이강철 \"배제성, 10승때 모습 보여\"', '내용': 'kt wiz 이강철(56) 감독이 전날(20일) 선발투수로 나선 우완 배제성(26)에게 칭찬을 건넸다. 배제성. ⓒkt wiz 이강철 감독이 이끄는 kt wiz는 21일 오후 6시30분 수원 kt위즈파크에서 2023 신한은행 SOL KBO리그 롯데...', '언론사': '스포츠한국'}, {'제목': '\\'롯데서 온 복덩이\\' kt 이호연 \"트레이드가 전환점\"', '내용': '롯데 자이언츠에서 트레이드로 kt wiz 유니폼을 입은 내야수 이호연(28)이 트레이드 이후 달라진 마음가짐을 전했다. 이호연. ⓒ스포츠한국 김영건 기자 이호연은 20일 오후 6시30분에 수원 kt위즈파크에서 열린 2023...', '언론사': '스포츠한국'}, {'제목': 'kt wiz, 제 2회 퓨처스 마케터 오리엔테이션 성료', '내용': '프로야구 kt wiz가 10일 수원 KT위즈파크에서 제 2회 kt wiz 퓨처스 마케터 학술공모전 오리엔테이션을 개최했다. 올해로 2기를 맞은 퓨처스 마케터는 스포츠 산업에 관심 있는 연고지역 대학생을 대상으로 현장 실습...', '언론사': '스포츠투데이'}, {'제목': '\\'6월 8승4패\\' kt 이강철의 웃음 \"6월되면 풀린다더라\"', '내용': 'kt wiz 이강철(56) 감독이 6월 들어 팀이 호성적을 거두고 있는 점에 대해 긍정적으로 평가했다. 이강철 감독이 이끄는 kt wiz는 16일 오후 6시30분 수원 kt위즈파크에서 2023 신한은행 SOL KBO리그 삼성 라이온즈와 홈경기를...', '언론사': '스포츠한국'}, {'제목': '안우진, 7이닝 1실점 호투에 김혜성 만루포…키움, kt에 설욕', '내용': '9위로 밀려난 키움 히어로즈가 안우진과 김혜성의 투타 활약에 힘입어 kt wiz의 상승 기세를 꺾었다. 키움은 10일 수원 케이티위즈파크에서 열린 2023 KBO리그 kt와 방문경기에서 김혜성이 그랜드슬램을 터뜨린 데...', '언론사': '연합뉴스'}, {'제목': \"'KS 영웅' kt 쿠에바스, 435일만 복귀전 어땠나\", '내용': 'kt wiz 우완 선발투수 윌리엄 쿠에바스(32)가 435일 만에 복귀전에서 명과 암을 동시에 드러냈다. 4회까지는 위력적인 투구를 펼쳤으나 5회초 3실점하며 급격히 무너졌다. 윌리엄 쿠에바스. ⓒ 쿠에바스는 17일...', '언론사': '스포츠한국'}, {'제목': \"'쿠바 듀오' 엘리아스·에레디아 활약…SSG, kt 꺾고 3연패 탈출\", '내용': 'SSG는 13일 인천 SSG랜더스필드에서 열린 2023 신한은행 SOL KBO리그 홈 경기에서 kt wiz를 8-1로 꺾었다. 지난 주말 NC 다이노스와 방문 3연전을 모두 내준 SSG는 홈에서 벌인 이번 주 첫 경기에서 승리하며 선두 자리를...', '언론사': '연합뉴스'}]\n",
      "7\n",
      "[{'제목': \"[프로야구 경인구단 주간전망] '기세 지키자' 날개펴는 kt\", '내용': '프로야구 수원 kt wiz가 상승세를 탔다. 지난 13일부터 18일까지 치른 6경기에서 4승 2패로 5할 승률을 넘겼다. 비록 현재 10개 팀 중 8위에 자리했지만 올해 정규시즌에서 26승 34패 2무를 기록한 KT는 6위인 KIA 타이거즈...', '언론사': '경인일보'}, {'제목': '\\'끝내기 안타\\' kt 이호연 \"팬들, 내 이름도 모를텐데 응원해줘 감사\"', '내용': '9회말 극적인 끝내기 안타를 작렬한 kt wiz 이호연(28)이 팬들에게 감사함을 표했다. 이호연. ⓒ스포츠한국 김영건 기자 이호연은 16일 오후 6시30분 수원 kt위즈파크에서 열린 2023 신한은행 SOL KBO리그 삼성 라이온즈와의...', '언론사': '스포츠한국'}, {'제목': \"'최정 연타석 홈런' SSG, 삼성 잡고 4연승 행진...kt 4연승·한화 3연승 질주\", '내용': '광주에서는 kt wiz가 KIA 타이거즈를 10-3으로 대파하고 4연승을 달렸다. kt 선발 윌리엄 쿠에바스는 6이닝을 4안타 1실점으로 막아 복귀 첫 승을 거뒀다. KIA의 부상 복귀생 나성범은 홈런포와 볼넷 1개를 고르며 3타수...', '언론사': '싱글리스트'}, {'제목': 'kt 이강철 \"강백호, 10일 더 쉰다… 시즌 초에 안좋아도 썼던게 독\"', '내용': 'kt wiz 이강철(56) 감독이 외야수 강백호(23)의 부상 경과를 알렸다. 강백호. ⓒ연합뉴스 이강철 감독이 이끄는 kt wiz는 20일 오후 6시30분 수원 kt위즈파크에서 2023 신한은행 SOL KBO리그 롯데 자이언츠와의 홈경기를 치른다....', '언론사': '스포츠한국'}, {'제목': \"'부상자 복귀+클린업 폭발' kt, 완전체 타선이 눈앞[초점]\", '내용': 'kt wiz 타선이 점점 완전체에 가까워지고 있다. kt wiz는 14일 오후 6시30분 인천 SSG랜더스필드에서 펼쳐진 2023 신한은행 SOL KBO리그 SSG 랜더스와의 원정경기에서 14-4 대승을 거뒀다. 이로써 는 시즌 23승2무33패를...', '언론사': '스포츠한국'}, {'제목': '\\'이틀 동안 7타점\\' 장성우 \"kt는 여름에 강합니다\"', '내용': 'SSG 상대로 14일 2안타 3타점·15일 홈런 2개 포함 4타점 장성우(33·kt wiz)는 1회 첫 타석에서 자신의 파울 타구에 다리를 맞아 통증을 느꼈다. 경기 뒤 그는 \"솔직히 아팠다\"고 털어놨다. 그래도 그는 경기가 끝날 때까지...', '언론사': '연합뉴스'}, {'제목': \"키움, kt에 14-5 대승…'6출루 4안타' 이정후, 3할 타율 복귀\", '내용': \"키움 히어로즈가 '불펜 데이'를 치르는 kt wiz를 연이틀 꺾고 하위권 탈출의 계기를 마련했다. 키움은 11일 경기도 수원케이티위즈파크에서 열린 2023 신한은행 SOL KBO리그 kt와 방문 경기에서 14-5로 압승했다. 키움은...\", '언론사': '연합뉴스'}, {'제목': '익산시-kt wiz \"야구 꿈나무 키워요!\"', '내용': '시와 kt wiz 프로야구단은 지난 2일 초등학생들을 초청해 스포츠문화 체험활동을 진행했다. 참여자들은 kt wiz 퓨처스리그 홈경기 관람, kt wiz 2군 선수들이 사용하는 연습장과 숙소 견학, 누구나 쉽게 야구를 체험할 수...', '언론사': '전북도민일보'}, {'제목': 'kt 알포드, 열흘 만에 1군 복귀…이틀째 불펜 데이엔 주권 출격', '내용': '프로야구 kt wiz 앤서니 알포드가 열흘 만에 1군 엔트리에 이름을 올렸다. 이강철 kt 감독은 11일 경기도 수원케이티위즈파크에서 기자들과 만나 \"어제부터 몸 상태가 괜찮다고 해서 알포드를 스타팅 멤버에 넣었다\"고...', '언론사': '연합뉴스'}, {'제목': '박병호 만루홈런 kt, 볼넷 자멸한 SSG 대파하고 3연패 탈출(종합)', '내용': '3연승 LG, 반게임 차 선두 SSG 추격…4연승 키움, 중상위권 호시탐탐 한화, 노시환 11호에 문현빈은 데뷔 첫 홈런…4년 차 한승주는 첫승 천병혁 김경윤 홍규빈 기자 = 가 선두 SSG 랜더스를 대파하고 3연패에서...', '언론사': '연합뉴스'}]\n",
      "8\n",
      "[{'제목': '[부고] 박선우(프로야구 kt wiz 선수)씨 부친상', '내용': '▲ 박승빈씨 별세, 박선우(프로야구 kt wiz 선수)씨 부친상 = 9일, 함안시민장례식장 VIP실, 발인 11일 오전 9시. ☎ 055-785-4444 (서울=연합뉴스)', '언론사': '연합뉴스'}, {'제목': '[생활경제 이슈] 샘표, 바로 부어 만드는 ‘장아찌 간장’ 출시 外', '내용': '◆KT알파 쇼핑, 후원 유소년야구단 위한 kt wiz 야구경기 초청행사 진행 KT알파 쇼핑(대표 조성수)이 kt wiz(대표 신현옥)와 유소년 야구꿈나무들을 후원하기 위해 7년 연속 힘을 모은다. 올해는 장애아동 및 다문화가정...', '언론사': '로이슈'}, {'제목': 'kt wiz, 퓨처스 연고지 야구 체험 행사 진행', '내용': '프로야구 kt wiz가 3일 퓨처스팀 홈구장인 익산야구장에서 유소년 야구 체험 프로그램을 진행했다. 연고지 야구 저변 확대 및 활성화를 위해 마련된 이날 행사에는, 익산 신동초등학교 학생 30여명이 참가해 경기 관람 및...', '언론사': '스포츠투데이'}, {'제목': '연장 12회 이상호의 스퀴즈…kt, 롯데 꺾고 5연승 신바람(종합)', '내용': '기자 = kt wiz가 연장 12회 혈전 끝에 롯데 자이언츠를 꺾고 올 시즌 팀 최다인 5연승 행진을 이어갔다. kt는 8일 부산 사직구장에서 열린 프로야구 2023 신한은행 SOL KBO리그 방문 경기에서 롯데에 7-6으로 승리했다....', '언론사': '연합뉴스'}, {'제목': '\\'5G 3홈런 폭발\\' kt 박병호, \"늦은 감이 있지만 지금이라도\"', '내용': '최근 맹타를 휘두르고 있는 kt wiz 박병호(36)가 중심타자로서 책임감을 드러냈다. 박병호. ⓒ스포츠코리아 박병호는 14일 오후 6시30분 인천 SSG랜더스필드에서 펼쳐진 2023 신한은행 SOL KBO리그 SSG 랜더스와의...', '언론사': '스포츠한국'}, {'제목': \"수원 kt wiz, 장성우의 끝내기 희생플라이로 키움 꺾고 6연승 '질주'\", '내용': '9일 수원KT위즈파크에서 열린 2023 신한은행 SOL KBO리그 수원 kt wiz와 키움 히어로즈의 경기에서 kt wiz 선발 투수 벤자민이 역투하고 있다. 이날 kt wiz는 키움을 3-2로 꺾고 6연승을 질주했다. 2023.6.9 / 제공...', '언론사': '경인일보'}, {'제목': 'KT, 연장 접전 끝에 롯데 격파…4연승 질주', '내용': 'kt wiz가 롯데 자이언츠를 꺾고 4연승을 질주했다. KT는 7일 부산 사직구장에서 열린 2023 신한은행 SOL KBO 리그 롯데와의 원정경기에서 연장 접전 끝에 3-2로 승리했다. 4연승을 달린 KT는 20승2무30패를 기록했다....', '언론사': '스포츠투데이'}, {'제목': '\\'마법사군단\\' 이끄는 신인… kt 이강철 감독 \"정준영 때문에 이겨\"', '내용': 'kt wiz 이강철(56) 감독이 전날(16일) 팀을 승리로 이끈 신인 외야수 정준영(19)에게 찬사를 보냈다. 정준영. ⓒkt wiz 이강철 감독이 이끄는 kt wiz는 17일 오후 5시 수원 kt위즈파크에서 2023 신한은행 SOL KBO리그 삼성...', '언론사': '스포츠한국'}, {'제목': \"kt wiz, 6월 호국보훈의 달 맞아 '밀리터리 유니폼' 출시\", '내용': '프로야구 수원 kt wiz가 6월 호국보훈의 달을 맞아 출시한 밀리터리 유니폼을 입고 기념촬영을 하고 있는 문상철(왼쪽)과 김민혁. /수원 kt wiz 제공 프로야구 수원 가 6월 2일 수원KT위즈파크에서 열리는 두산...', '언론사': '경인일보'}, {'제목': '연장 12회 이상호의 스퀴즈…kt, 롯데 꺾고 5연승 신바람', '내용': 'kt wiz가 연장 12회 혈전 끝에 롯데 자이언츠를 꺾고 올 시즌 팀 최다인 5연승 행진을 이어갔습니다. kt는 어제(8일) 부산 사직구장에서 열린 프로야구 2023 신한은행 SOL KBO리그 방문 경기에서 롯데에 7대 6으로...', '언론사': 'SBS'}]\n",
      "9\n",
      "[{'제목': \"'이상호 결승 스퀴즈번트' KT, 연장 혈투 끝에 롯데 제압…5연승 질주\", '내용': 'kt wiz가 롯데 자이언츠를 격파하고 5연승을 질주했다. KT는 8일 부산 사직구장에서 열린 2023 신한은행 SOL KBO 리그 롯데와의 원정경기에서 D연장 12회까지 가는 혈전 끝에 7-6으로 승리했다. 5연승을 달린 KT는...', '언론사': '스포츠투데이'}, {'제목': \"'난장판 수비' 삼성, '실책쇼' 펼치며 자멸했다\", '내용': 'ⓒMBCSPORTS+ 중계화면 삼성은 16일 오후 6시30분 수원 kt위즈파크에서 열린 2023 신한은행 SOL KBO리그 kt wiz와의 원정경기에서 6-7로 끝내기 패배를 당했다. 4연패 수렁에 빠진 삼성은 25승35패를 기록했다. 순위도 종전...', '언론사': '스포츠한국'}, {'제목': '[부고] kt wiz 투수 박선우 부친상', '내용': '▲박승빈씨 별세, 박선우 kt wiz 선수(투수) 부친상=9일, 빈소 함안시민장례식장 VIP실(경남 함안군 산인면 학산2길 17-50), 발인 11일 오전 9시, 장지 창원상복공원 (055-785-4444)', '언론사': '경인방송'}, {'제목': 'kt wiz, 청년부상제대군인 초청 행사 열어', '내용': 'kt wiz 프로야구단이 4일(일) 수원 KT위즈파크에서 열린 두산 베어스와의 홈 경기에 호국보훈의 달을 맞아 특별한 시구자를 초청했다. 이날 KT는 서울시 청년부상제대군인 상담센터와의 협력으로, 국가의 부름을 받고 군...', '언론사': '민중의소리'}, {'제목': '프로야구 최하위 kt, 1군 5명 말소…황재균 28일 만에 복귀', '내용': '4연패에 빠진 프로야구 최하위 kt wiz가 하루에 1군 선수 5명을 2군으로 내려보내는 특단의 조처를 했다. kt는 3일 수원케이티위즈파크에서 열리는 2023 프로야구 두산 베어스와 홈 경기를 앞두고 내야수 오윤석...', '언론사': '연합뉴스'}, {'제목': \"kt wiz, 두산 베어스 5-2로 꺾고 '2연승' 달려\", '내용': '4일 수원KT위즈파크에서 열린 2023 신한은행 SOL KBO리그 kt wiz와 두산 베어스의 경기에서 kt wiz 강백호가 타격을 하고 있다. 이날 경기에서 kt wiz는 두산 베어스를 5-2로 물리치고 2연승을 달렸다. 2023.6.4 / 제공...', '언론사': '경인일보'}, {'제목': \"'강백호 결승타' KT, 두산 꺾고 2연승\", '내용': 'kt wiz가 두산 베어스를 꺾고 2연승을 달렸다. KT는 4일 수원 케이티 위즈파크에서 열린 2023 신한은행 SOL KBO 리그 두산과의 홈경기에서 5-2로 승리했다. 이날 승리로 KT는 18승2무30패를 기록했다. 두산은 24승24패가...', '언론사': '스포츠투데이'}, {'제목': '\"건강 그리고 우승\"… \\'1년만의 복귀\\' 쿠에바스, 여전히 당찼다', '내용': '약 1년 만에 한국에 복귀한 kt wiz 윌리엄 쿠에바스(32)가 소감을 밝혔다. kt wiz는 14일 오후 6시30분 인천 SSG랜더스필드에서 2023 신한은행 SOL KBO리그 SSG 랜더스와 원정경기를 치른다. 한편 이날 경기 전 더그아웃에는...', '언론사': '스포츠한국'}, {'제목': \"'시즌 5번째 QS'… 키움 정찬헌, kt전 6이닝 2실점\", '내용': 'ⓒ연합뉴스 정찬헌은 9일 오후 6시30분 경기도 수원 kt위즈파크에서 펼쳐진 2023 신한은행 SOL KBO리그 kt wiz와의 원정경기에서 6이닝동안 72구를 던져 2실점 3피안타(1피홈런) 무사사구 2탈삼진을 기록했다. 이로써...', '언론사': '스포츠한국'}, {'제목': \"수원 kt wiz, 두산전에서 안타 17개 폭발 10점차 '대승'\", '내용': '3일 수원KT위즈파크에서 열린 2023 신한은행 SOL KBO리그 수원 kt wiz와 두산 베어스의 경기에서 kt wiz 선발 벤자민이 역투하고 있다. 이날 경기에서 kt wiz는 두산에 13-3으로 대승을 거두고 4연패를 끊었다. 2023.6.3...', '언론사': '경인일보'}]\n",
      "10\n",
      "[{'제목': '키움 김혜성, kt 이선우 상대로 만루홈런 폭발', '내용': '김혜성은 10일 수원 케이티위즈파크에서 열린 2023 KBO리그 kt wiz와 방문경기에서 2회초 우측 펜스를 넘어가는 그랜드슬램을 기록했다. 안우진이 선발 등판한 키움은 0-0인 2회초 공격 2사 만루에서 김준완이 밀어내기...', '언론사': '연합뉴스'}, {'제목': 'kt wiz, 청년부상제대군인 초청 행사 개최', '내용': '조현진 예비역 병장, 이한 주임, 이주은 서울시 청년부상제대군인 실장©열린뉴스통신ONA kt wiz 프로야구단이 4일 수원 KT위즈파크에서 열린 두산 베어스와의 홈 경기에 호국보훈의 달을 맞아 청년부상제대군인 초청...', '언론사': '열린뉴스통신'}, {'제목': 'kt, 연장 10회 폭투로 행운의 결승점…롯데 꺾고 4연승 질주', '내용': 'kt wiz가 파죽의 4연승을 거두면서 오랜 바닥권에서 벗어날 채비를 차렸다. kt는 7일 부산 사직구장에서 열린 2023 KBO리그 롯데 자이언츠와 방문경기에서 2-2로 맞선 연장 10회초 상대 폭투로 천금 같은 결승점을 뽑아 3...', '언론사': '연합뉴스'}, {'제목': 'kt wiz, 천군만마 복귀한다… 황재균, 빠르면 4일 1군 콜업', '내용': 'kt wiz 이강철(57) 감독이 내야수 황재균(35)의 복귀 시점을 밝혔다. 황재균. ⓒ연합뉴스 kt wiz는 2일 수원 kt위즈파크에서 2023 신한은행 SOL KBO리그 두산 베어스와의 홈경기를 갖는다. 금일 는 부상에서 복귀한...', '언론사': '스포츠한국'}, {'제목': '[데스크칼럼] 10구단과 kt wiz 유치, 과연 잘한 것일까', '내용': 'kt wiz 야구단이 수원에 자리잡은지 10년이라는 시간이 지났다. 수원시는 10구단을 유치하기 위해 25년의 무상 임대를 내걸었고 경기장에 기업명을 걸 수 있는 명명권은 물론 구장에서 나오는 모든 수입을 구단에게...', '언론사': '중부일보'}, {'제목': 'kt wiz 박영현·강백호와 SSG 랜더스 박성한·최지훈, 항저우 아시안게임 야구...', '내용': 'KBO 전력강화위원회가 KBSA에 추천한 24명의 선수 명단은 KBSA 경기력향상위원회의 최종 심의를 거쳐 대한체육회에 제출됐다.프로야구 수원 kt wiz에서는 투수 박영현과 타자 강백호가 명단에 이름을 올렸다. 인천 SSG...', '언론사': '경인일보'}, {'제목': '\"하던대로\"… 엘리아스, \\'한국행 도우미\\' 에레디아 조언에 감사 표해', '내용': 'ⓒ스포츠한국 심규현 기자 엘리아스는 13일 오후 6시30분 인천 SSG랜더스필드에서 펼쳐진 2023 신한은행 SOL KBO리그 kt wiz와의 홈경기에 선발등판해 7이닝동안 99구를 던져 무실점 3피안타 무사사구 7탈삼진을 기록했다....', '언론사': '스포츠한국'}, {'제목': 'NC 구창모·LG 이정용·kt 배제성 등 14명, 올겨울 상무 입대', '내용': 'KBO리그 각 구단에 따르면, 구창모, 김영규, 조민석, 오장한, 오태양, 박성재(이상 NC), 허윤동, 조민성(이상 삼성 라이온즈), 윤산흠, 박정현(이상 한화 이글스), 배제성(), 김선우, 한승연(KIA 타이거즈), 이정용(LG...', '언론사': '연합뉴스'}, {'제목': '\"없었으면 어쩔뻔\"… 이강철 감독, 김상수 활약에 대만족', '내용': 'kt wiz 이강철(57) 감독이 내야수 김상수(33)의 활약을 칭찬했다. 김상수. ⓒkt wiz kt wiz는 15일 오후 6시30분 인천 SSG랜더스필드에서 2023 신한은행 SOL KBO리그 SSG 랜더스와 원정경기를 갖는다. 는 전날(14일) SSG를...', '언론사': '스포츠한국'}, {'제목': '프로야구 수원 kt wiz, 두산에 1-10 완패...여전히 리그 최하위', '내용': '2일 수원KT위즈파크에서 열린 2023 신한은행 SOL KBO리그 수원 kt wiz와 두산 베어스의 경기에서 kt wiz 선발 투수인 배제성이 역투하고 있다. 배제성은 5이닝동안 1점을 내주며 호투했지만, 타선의 지원을 받지...', '언론사': '경인일보'}]\n"
     ]
    }
   ],
   "source": [
    "# 드라이버 로드\n",
    "driver = webdriver.Chrome()\n",
    "# 페이지 접근\n",
    "driver.get('https://search.naver.com/search.naver?where=news&sm=tab_jum&query=KT WIZ') # 크롤링 예제 사이트\n",
    "\n",
    "df = []\n",
    "\n",
    "# 최대 10페이지까지 크롤링\n",
    "for i in range(0,10):\n",
    "    news_info = get_news_info(driver)\n",
    "    page_info = get_page_info(driver)\n",
    "    print(page_info['현재 페이지'])\n",
    "    print(news_info)\n",
    "    for news in news_info:\n",
    "        df.append(news)\n",
    "    # 다음 페이지로 이동\n",
    "    if page_info['다음 페이지 이동 불가'] == 'true':\n",
    "        break\n",
    "    else:\n",
    "        page_info['다음 페이지'].click()\n",
    "\n",
    "driver.quit()"
   ]
  },
  {
   "cell_type": "code",
   "execution_count": 10,
   "id": "91dddd50",
   "metadata": {
    "tags": []
   },
   "outputs": [
    {
     "data": {
      "text/html": [
       "<div>\n",
       "<style scoped>\n",
       "    .dataframe tbody tr th:only-of-type {\n",
       "        vertical-align: middle;\n",
       "    }\n",
       "\n",
       "    .dataframe tbody tr th {\n",
       "        vertical-align: top;\n",
       "    }\n",
       "\n",
       "    .dataframe thead th {\n",
       "        text-align: right;\n",
       "    }\n",
       "</style>\n",
       "<table border=\"1\" class=\"dataframe\">\n",
       "  <thead>\n",
       "    <tr style=\"text-align: right;\">\n",
       "      <th></th>\n",
       "      <th>제목</th>\n",
       "      <th>내용</th>\n",
       "      <th>언론사</th>\n",
       "    </tr>\n",
       "  </thead>\n",
       "  <tbody>\n",
       "    <tr>\n",
       "      <th>0</th>\n",
       "      <td>KT, 29일 한화전서 'kt wiz 응원단이 간다!' 행사 진행</td>\n",
       "      <td>프로야구 kt wiz가 오는 29일 대전에서 열리는 한화 이글스와의 원정 경기에 '...</td>\n",
       "      <td>스포츠투데이</td>\n",
       "    </tr>\n",
       "    <tr>\n",
       "      <th>1</th>\n",
       "      <td>kt wiz 박병호·SSG 랜더스 최정, 올스타전 '베스트12' 선정</td>\n",
       "      <td>kt wiz 박병호. /프로야구 수원 kt wiz 홈페이지 캡처 프로야구 수원 kt...</td>\n",
       "      <td>경인일보</td>\n",
       "    </tr>\n",
       "    <tr>\n",
       "      <th>2</th>\n",
       "      <td>프로야구 kt-KIA 광주 경기, 우천취소</td>\n",
       "      <td>25일 오후 5시 광주기아챔피언스필드에서 열릴 예정이던 2023 프로야구 kt wi...</td>\n",
       "      <td>연합뉴스</td>\n",
       "    </tr>\n",
       "    <tr>\n",
       "      <th>3</th>\n",
       "      <td>[프로야구 경인구단 주간전망] kt, 활짝 펼친 '반격의 서막'</td>\n",
       "      <td>프로야구 수원 kt wiz가 지난 20일부터 25일까지 치른 5경기(1경기 우천취소...</td>\n",
       "      <td>경인일보</td>\n",
       "    </tr>\n",
       "    <tr>\n",
       "      <th>4</th>\n",
       "      <td>프로야구 kt-KIA전·한화-NC전, 장맛비로 취소·노게임(종합)</td>\n",
       "      <td>이날 오후 5시 광주 기아챔피언스필드에서 열릴 예정이었던 kt wiz와 KIA 타이...</td>\n",
       "      <td>연합뉴스</td>\n",
       "    </tr>\n",
       "    <tr>\n",
       "      <th>5</th>\n",
       "      <td>기업은행, KT wiz파크에서 'IBK카드 브랜드데이' 실시</td>\n",
       "      <td>IBK기업은행(은행장 김성태)은 오는 7월 7일 경기도 수원시에 소재한 케이티 윈즈...</td>\n",
       "      <td>이데일리</td>\n",
       "    </tr>\n",
       "    <tr>\n",
       "      <th>6</th>\n",
       "      <td>내달 7일 'IBK카드 브랜드데이' 실시…'KT wiz카드' 고객 야구장 무료</td>\n",
       "      <td>IBK기업은행(이하 기업은행)은 오는 7월7일 경기도 수원시에 소재한 KT wiz(...</td>\n",
       "      <td>스포츠한국</td>\n",
       "    </tr>\n",
       "    <tr>\n",
       "      <th>7</th>\n",
       "      <td>자기 타구에 얼굴 맞은 kt 이호연, 코뼈 골절로 1군 말소</td>\n",
       "      <td>올해 롯데 자이언츠에서 kt wiz로 유니폼을 갈아입고 제2의 야구 인생을 향한 힘...</td>\n",
       "      <td>SBS</td>\n",
       "    </tr>\n",
       "    <tr>\n",
       "      <th>8</th>\n",
       "      <td>상승세 이어간 kt, 롯데에 완승…김상수 3안타 3득점</td>\n",
       "      <td>kt wiz가 타선의 집중력을 바탕으로 롯데 자이언츠를 꺾고 상승세를 이어갔다. k...</td>\n",
       "      <td>연합뉴스</td>\n",
       "    </tr>\n",
       "    <tr>\n",
       "      <th>9</th>\n",
       "      <td>KIA, 3연패 탈출...KT에 4-1승</td>\n",
       "      <td>/KIA타이거즈 제공 프로야구 KIA타이거즈가 양현종의 호투와 김도영의 결승타에 힘...</td>\n",
       "      <td>남도일보</td>\n",
       "    </tr>\n",
       "    <tr>\n",
       "      <th>10</th>\n",
       "      <td>중위권 지각변동…키움 5위·kt 7위…삼성 1천865일 만에 최하위(종합)</td>\n",
       "      <td>kt wiz도 롯데 자이언츠와의 주중 3연전을 쓸어 담고 7위로 올라섰다. KIA ...</td>\n",
       "      <td>연합뉴스</td>\n",
       "    </tr>\n",
       "    <tr>\n",
       "      <th>11</th>\n",
       "      <td>'벤자민 7승+박병호 3안타' KT, 롯데와의 3연전 스윕</td>\n",
       "      <td>kt wiz가 롯데 자이언츠와의 주중 3연전을 싹쓸이했다. KT는 22일 수원 케이...</td>\n",
       "      <td>스포츠투데이</td>\n",
       "    </tr>\n",
       "    <tr>\n",
       "      <th>12</th>\n",
       "      <td>만루 기회 번번이 날린 롯데, kt전 6연패 수렁</td>\n",
       "      <td>롯데는 22일 수원 케이티위즈파크에서 열린 2023 신한은행 SOL KBO리그 kt...</td>\n",
       "      <td>연합뉴스</td>\n",
       "    </tr>\n",
       "    <tr>\n",
       "      <th>13</th>\n",
       "      <td>SSG 최정 연장서 결승 만루포…6월 승률 1, 2위 NC·kt 승리합창(종합)</td>\n",
       "      <td>6월 승률 1, 2위 팀인 NC 다이노스와 kt wiz는 나란히 승리해 상승세를 이...</td>\n",
       "      <td>연합뉴스</td>\n",
       "    </tr>\n",
       "    <tr>\n",
       "      <th>14</th>\n",
       "      <td>KIA, 3연패 탈출...KT에 4-1승</td>\n",
       "      <td>/KIA타이거즈 제공 프로야구 KIA타이거즈가 양현종의 호투와 김도영의 결승타에 힘...</td>\n",
       "      <td>남도일보</td>\n",
       "    </tr>\n",
       "    <tr>\n",
       "      <th>15</th>\n",
       "      <td>쿠에바스 6이닝 1실점 호투...kt wiz, KIA 꺾고 4연승 질주</td>\n",
       "      <td>프로야구 수원 kt wiz가 선발 투수 쿠에바스의 호투에 힘입어 4연승을 질주했다....</td>\n",
       "      <td>경인일보</td>\n",
       "    </tr>\n",
       "    <tr>\n",
       "      <th>16</th>\n",
       "      <td>4년 만에 돌아온 kt wiz 원정마법사, 24일 광주 출격</td>\n",
       "      <td>kt wiz 야구단의 대표적인 응원 문화인 원정 마법사가 4년 만에 돌아온다. KT...</td>\n",
       "      <td>민중의소리</td>\n",
       "    </tr>\n",
       "    <tr>\n",
       "      <th>17</th>\n",
       "      <td>'2년 차 징크스' 지운 kt 박영현, 리그 홀드 공동 2위 질주</td>\n",
       "      <td>프로야구 kt wiz의 불펜 투수 박영현(19)도 2년차 징크스의 개념을 잘 알고 ...</td>\n",
       "      <td>연합뉴스</td>\n",
       "    </tr>\n",
       "    <tr>\n",
       "      <th>18</th>\n",
       "      <td>'배제성 QS' kt, '한현희 불펜 등판'한 롯데 5-2 제압</td>\n",
       "      <td>kt wiz가 우완 선발투수 배제성(26)의 퀄리티스타트(6이닝 이상 3자책점 이하...</td>\n",
       "      <td>스포츠한국</td>\n",
       "    </tr>\n",
       "    <tr>\n",
       "      <th>19</th>\n",
       "      <td>4년 만에 돌아왔다…kt 원정마법사, 24일 광주에 뜬다!</td>\n",
       "      <td>kt wiz의 대표적인 응원 문화인 원정 마법사가 4년 만에 돌아온다. kt는 24...</td>\n",
       "      <td>스포티비뉴스</td>\n",
       "    </tr>\n",
       "    <tr>\n",
       "      <th>20</th>\n",
       "      <td>장애아동 다문화가정 아이에 야구로 선물..KT알파 쇼핑</td>\n",
       "      <td>KT알파 쇼핑은 프로 야구팀 KT WIZ와 공동 사회공헌활동의 일환으로 장애아동, ...</td>\n",
       "      <td>파이낸셜뉴스</td>\n",
       "    </tr>\n",
       "    <tr>\n",
       "      <th>21</th>\n",
       "      <td>IBK기업은행, KT wiz파크서 ‘IBK카드 브랜드데이’ 실시</td>\n",
       "      <td>7월 7일 ‘KT wiz카드’ 보유 고객 대상…야구장 무료입장·경품 혜택 IBK기업...</td>\n",
       "      <td>글로벌에픽</td>\n",
       "    </tr>\n",
       "    <tr>\n",
       "      <th>22</th>\n",
       "      <td>살아난 kt, 롯데 '구원' 한현희 두들겨 역전승…6월 '11승 5패'</td>\n",
       "      <td>이달 들어 무섭게 상승세를 탄 kt wiz가 롯데 자이언츠전 4연승을 질주했습니다....</td>\n",
       "      <td>SBS</td>\n",
       "    </tr>\n",
       "    <tr>\n",
       "      <th>23</th>\n",
       "      <td>수원 kt wiz, 삼성에 5-7로 패하며 4연승 마감</td>\n",
       "      <td>18일 수원KT위즈파크에서 열린 2023 신한은행 SOL KBO리그 수원 kt wi...</td>\n",
       "      <td>경인일보</td>\n",
       "    </tr>\n",
       "    <tr>\n",
       "      <th>24</th>\n",
       "      <td>'들어와'… '퇴장' 이강철 감독, 뿔난 이유는[광주에서]</td>\n",
       "      <td>kt wiz의 이강철 감독이 퇴장을 당했다. 또한 선수들에게 더그아웃으로 들어오라는...</td>\n",
       "      <td>스포츠한국</td>\n",
       "    </tr>\n",
       "    <tr>\n",
       "      <th>25</th>\n",
       "      <td>'1선발' 나균안마저 무너졌다… 롯데, 5강권 사수 힘든가</td>\n",
       "      <td>ⓒ롯데 자이언츠 롯데는 21일 오후 6시30분 수원 kt위즈파크에서 열린 2023 ...</td>\n",
       "      <td>스포츠한국</td>\n",
       "    </tr>\n",
       "    <tr>\n",
       "      <th>26</th>\n",
       "      <td>이강철 kt 감독 \"불펜 박시영, 8월 복귀…차근차근 추격\"</td>\n",
       "      <td>지난해 팔꿈치 인대 수술을 받은 프로야구 kt wiz의 핵심 불펜 박시영(34)이 ...</td>\n",
       "      <td>연합뉴스</td>\n",
       "    </tr>\n",
       "    <tr>\n",
       "      <th>27</th>\n",
       "      <td>롯데에서 새 출발 한 심재민 \"1군 첫 경기가 kt였으면\"</td>\n",
       "      <td>22일 수원 kt전에서 롯데 데뷔전…⅔이닝 무실점 \"트레이드되고 나서 1군 첫 경기...</td>\n",
       "      <td>연합뉴스</td>\n",
       "    </tr>\n",
       "    <tr>\n",
       "      <th>28</th>\n",
       "      <td>장성우, 어제는 3타점·오늘은 4타점…kt, SSG 꺾고 2연승</td>\n",
       "      <td>kt wiz가 이틀 연속 해결사로 나선 장성우 덕에 SSG 랜더스와의 주중 3연전을...</td>\n",
       "      <td>연합뉴스</td>\n",
       "    </tr>\n",
       "    <tr>\n",
       "      <th>29</th>\n",
       "      <td>kt wiz, 롯데와 3연전에 다채로운 시구 행사 마련</td>\n",
       "      <td>kt wiz 야구단이 6월 호국보훈의 달을 맞아 20일(화)부터 수원 KT위즈파크에...</td>\n",
       "      <td>민중의소리</td>\n",
       "    </tr>\n",
       "  </tbody>\n",
       "</table>\n",
       "</div>"
      ],
      "text/plain": [
       "                                              제목   \n",
       "0           KT, 29일 한화전서 'kt wiz 응원단이 간다!' 행사 진행  \\\n",
       "1         kt wiz 박병호·SSG 랜더스 최정, 올스타전 '베스트12' 선정   \n",
       "2                        프로야구 kt-KIA 광주 경기, 우천취소   \n",
       "3            [프로야구 경인구단 주간전망] kt, 활짝 펼친 '반격의 서막'   \n",
       "4           프로야구 kt-KIA전·한화-NC전, 장맛비로 취소·노게임(종합)   \n",
       "5              기업은행, KT wiz파크에서 'IBK카드 브랜드데이' 실시   \n",
       "6    내달 7일 'IBK카드 브랜드데이' 실시…'KT wiz카드' 고객 야구장 무료   \n",
       "7              자기 타구에 얼굴 맞은 kt 이호연, 코뼈 골절로 1군 말소   \n",
       "8                 상승세 이어간 kt, 롯데에 완승…김상수 3안타 3득점   \n",
       "9                         KIA, 3연패 탈출...KT에 4-1승   \n",
       "10     중위권 지각변동…키움 5위·kt 7위…삼성 1천865일 만에 최하위(종합)   \n",
       "11              '벤자민 7승+박병호 3안타' KT, 롯데와의 3연전 스윕   \n",
       "12                   만루 기회 번번이 날린 롯데, kt전 6연패 수렁   \n",
       "13  SSG 최정 연장서 결승 만루포…6월 승률 1, 2위 NC·kt 승리합창(종합)   \n",
       "14                        KIA, 3연패 탈출...KT에 4-1승   \n",
       "15       쿠에바스 6이닝 1실점 호투...kt wiz, KIA 꺾고 4연승 질주   \n",
       "16             4년 만에 돌아온 kt wiz 원정마법사, 24일 광주 출격   \n",
       "17          '2년 차 징크스' 지운 kt 박영현, 리그 홀드 공동 2위 질주   \n",
       "18           '배제성 QS' kt, '한현희 불펜 등판'한 롯데 5-2 제압   \n",
       "19              4년 만에 돌아왔다…kt 원정마법사, 24일 광주에 뜬다!   \n",
       "20                장애아동 다문화가정 아이에 야구로 선물..KT알파 쇼핑   \n",
       "21           IBK기업은행, KT wiz파크서 ‘IBK카드 브랜드데이’ 실시   \n",
       "22       살아난 kt, 롯데 '구원' 한현희 두들겨 역전승…6월 '11승 5패'   \n",
       "23                수원 kt wiz, 삼성에 5-7로 패하며 4연승 마감   \n",
       "24              '들어와'… '퇴장' 이강철 감독, 뿔난 이유는[광주에서]   \n",
       "25              '1선발' 나균안마저 무너졌다… 롯데, 5강권 사수 힘든가   \n",
       "26             이강철 kt 감독 \"불펜 박시영, 8월 복귀…차근차근 추격\"   \n",
       "27              롯데에서 새 출발 한 심재민 \"1군 첫 경기가 kt였으면\"   \n",
       "28           장성우, 어제는 3타점·오늘은 4타점…kt, SSG 꺾고 2연승   \n",
       "29                kt wiz, 롯데와 3연전에 다채로운 시구 행사 마련   \n",
       "\n",
       "                                                   내용     언론사  \n",
       "0   프로야구 kt wiz가 오는 29일 대전에서 열리는 한화 이글스와의 원정 경기에 '...  스포츠투데이  \n",
       "1   kt wiz 박병호. /프로야구 수원 kt wiz 홈페이지 캡처 프로야구 수원 kt...    경인일보  \n",
       "2   25일 오후 5시 광주기아챔피언스필드에서 열릴 예정이던 2023 프로야구 kt wi...    연합뉴스  \n",
       "3   프로야구 수원 kt wiz가 지난 20일부터 25일까지 치른 5경기(1경기 우천취소...    경인일보  \n",
       "4   이날 오후 5시 광주 기아챔피언스필드에서 열릴 예정이었던 kt wiz와 KIA 타이...    연합뉴스  \n",
       "5   IBK기업은행(은행장 김성태)은 오는 7월 7일 경기도 수원시에 소재한 케이티 윈즈...    이데일리  \n",
       "6   IBK기업은행(이하 기업은행)은 오는 7월7일 경기도 수원시에 소재한 KT wiz(...   스포츠한국  \n",
       "7   올해 롯데 자이언츠에서 kt wiz로 유니폼을 갈아입고 제2의 야구 인생을 향한 힘...     SBS  \n",
       "8   kt wiz가 타선의 집중력을 바탕으로 롯데 자이언츠를 꺾고 상승세를 이어갔다. k...    연합뉴스  \n",
       "9   /KIA타이거즈 제공 프로야구 KIA타이거즈가 양현종의 호투와 김도영의 결승타에 힘...    남도일보  \n",
       "10  kt wiz도 롯데 자이언츠와의 주중 3연전을 쓸어 담고 7위로 올라섰다. KIA ...    연합뉴스  \n",
       "11  kt wiz가 롯데 자이언츠와의 주중 3연전을 싹쓸이했다. KT는 22일 수원 케이...  스포츠투데이  \n",
       "12  롯데는 22일 수원 케이티위즈파크에서 열린 2023 신한은행 SOL KBO리그 kt...    연합뉴스  \n",
       "13  6월 승률 1, 2위 팀인 NC 다이노스와 kt wiz는 나란히 승리해 상승세를 이...    연합뉴스  \n",
       "14  /KIA타이거즈 제공 프로야구 KIA타이거즈가 양현종의 호투와 김도영의 결승타에 힘...    남도일보  \n",
       "15  프로야구 수원 kt wiz가 선발 투수 쿠에바스의 호투에 힘입어 4연승을 질주했다....    경인일보  \n",
       "16  kt wiz 야구단의 대표적인 응원 문화인 원정 마법사가 4년 만에 돌아온다. KT...   민중의소리  \n",
       "17  프로야구 kt wiz의 불펜 투수 박영현(19)도 2년차 징크스의 개념을 잘 알고 ...    연합뉴스  \n",
       "18  kt wiz가 우완 선발투수 배제성(26)의 퀄리티스타트(6이닝 이상 3자책점 이하...   스포츠한국  \n",
       "19  kt wiz의 대표적인 응원 문화인 원정 마법사가 4년 만에 돌아온다. kt는 24...  스포티비뉴스  \n",
       "20  KT알파 쇼핑은 프로 야구팀 KT WIZ와 공동 사회공헌활동의 일환으로 장애아동, ...  파이낸셜뉴스  \n",
       "21  7월 7일 ‘KT wiz카드’ 보유 고객 대상…야구장 무료입장·경품 혜택 IBK기업...   글로벌에픽  \n",
       "22  이달 들어 무섭게 상승세를 탄 kt wiz가 롯데 자이언츠전 4연승을 질주했습니다....     SBS  \n",
       "23  18일 수원KT위즈파크에서 열린 2023 신한은행 SOL KBO리그 수원 kt wi...    경인일보  \n",
       "24  kt wiz의 이강철 감독이 퇴장을 당했다. 또한 선수들에게 더그아웃으로 들어오라는...   스포츠한국  \n",
       "25  ⓒ롯데 자이언츠 롯데는 21일 오후 6시30분 수원 kt위즈파크에서 열린 2023 ...   스포츠한국  \n",
       "26  지난해 팔꿈치 인대 수술을 받은 프로야구 kt wiz의 핵심 불펜 박시영(34)이 ...    연합뉴스  \n",
       "27  22일 수원 kt전에서 롯데 데뷔전…⅔이닝 무실점 \"트레이드되고 나서 1군 첫 경기...    연합뉴스  \n",
       "28  kt wiz가 이틀 연속 해결사로 나선 장성우 덕에 SSG 랜더스와의 주중 3연전을...    연합뉴스  \n",
       "29  kt wiz 야구단이 6월 호국보훈의 달을 맞아 20일(화)부터 수원 KT위즈파크에...   민중의소리  "
      ]
     },
     "execution_count": 10,
     "metadata": {},
     "output_type": "execute_result"
    }
   ],
   "source": [
    "pd.DataFrame(df).head(30)"
   ]
  },
  {
   "cell_type": "code",
   "execution_count": null,
   "id": "5ff554aa",
   "metadata": {},
   "outputs": [],
   "source": []
  }
 ],
 "metadata": {
  "kernelspec": {
   "display_name": "Python 3 (ipykernel)",
   "language": "python",
   "name": "python3"
  },
  "language_info": {
   "codemirror_mode": {
    "name": "ipython",
    "version": 3
   },
   "file_extension": ".py",
   "mimetype": "text/x-python",
   "name": "python",
   "nbconvert_exporter": "python",
   "pygments_lexer": "ipython3",
   "version": "3.11.3"
  }
 },
 "nbformat": 4,
 "nbformat_minor": 5
}
