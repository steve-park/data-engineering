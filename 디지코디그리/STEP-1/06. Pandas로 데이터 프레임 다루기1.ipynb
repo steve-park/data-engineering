{
 "cells": [
  {
   "cell_type": "markdown",
   "id": "95db1cea",
   "metadata": {},
   "source": [
    "# 파이썬 기초3 : AI 모델링과 데이터 사이언스를 위한 기초 과정\n",
    "* 본 과정은 파이썬 초심자을 위한 과정으로 AI 모델링과 데이터 사이언스를 위해 꼭 필요한 지식에 대해 배울 수 있습니다.\n",
    "* 본 과정을 모두 마칠 무렵이면 여러분은 파이썬으로 데이터를 다룰 수 있게될 겁니다.\n",
    "* 파이썬에 대한 모든 것을 다루지는 않습니다. 처음 AI 모델링과 데이터 사이언스를 시작할 때 꼭 필요한 내용을 중심으로 준비했습니다."
   ]
  },
  {
   "cell_type": "markdown",
   "id": "06a93d90",
   "metadata": {},
   "source": [
    "## 6. Pandas로 데이터 프레임 다루기1\n",
    "* 이번 시간에는 데이터 사이언스에서 많이 활용되는 배열을 다룰 수 있도록 도와주는 Pandas에 대해서 다루어 볼 예정입니다.\n",
    "* 특히 Pandas로 데이터 프레임을 생성/읽기/수정/삭제하는 방법에 대해 알아보겠습니다."
   ]
  },
  {
   "cell_type": "markdown",
   "id": "563607b7",
   "metadata": {},
   "source": [
    "* Pandas 공식 Document\n",
    "    * https://pandas.pydata.org/docs/"
   ]
  },
  {
   "cell_type": "markdown",
   "id": "d4c49f03",
   "metadata": {},
   "source": [
    "##### + 본격적인 실습 이전에  Pandas를 설치하겠습니다."
   ]
  },
  {
   "cell_type": "code",
   "execution_count": null,
   "id": "78c2f055",
   "metadata": {},
   "outputs": [],
   "source": [
    "!pip install pandas"
   ]
  },
  {
   "cell_type": "markdown",
   "id": "be325227",
   "metadata": {},
   "source": [
    "##### + 본격적인 실습 이전에  openpyxl를 설치하겠습니다."
   ]
  },
  {
   "cell_type": "code",
   "execution_count": null,
   "id": "0ba2e4de",
   "metadata": {},
   "outputs": [],
   "source": [
    "# openpyxl는 엑셀파일을 파이썬에서 활용할 수 있도록 도와주는 라이브러리입니다.\n",
    "!pip install openpyxl"
   ]
  },
  {
   "cell_type": "markdown",
   "id": "f55d9ad5",
   "metadata": {},
   "source": [
    "### Q1. Pandas로 데이터 프레임을 생성해봅시다."
   ]
  },
  {
   "cell_type": "markdown",
   "id": "200a699b",
   "metadata": {},
   "source": [
    "#### 1. 데이터 프레임을 딕셔너리로 생성하기"
   ]
  },
  {
   "cell_type": "code",
   "execution_count": null,
   "id": "8ea38412",
   "metadata": {},
   "outputs": [],
   "source": [
    "# Chat GPT가 알려준 예시코드로 실습을 해봅시다.(Query : Pandas를 활용해서 딕셔너리로 데이터 프레임을 생성하는 예시코드 만들어 주세요)\n"
   ]
  },
  {
   "cell_type": "markdown",
   "id": "2d957009",
   "metadata": {},
   "source": [
    "#### 2. 데이터 프레임을 Numpy 배열로 생성하기"
   ]
  },
  {
   "cell_type": "code",
   "execution_count": null,
   "id": "56091a4d",
   "metadata": {},
   "outputs": [],
   "source": [
    "# Chat GPT가 알려준 예시코드로 실습을 해봅시다.(Query : Pandas를 활용해서 Numpy 배열로 데이터 프레임을 생성하는 예시코드 만들어 주세요)\n"
   ]
  },
  {
   "cell_type": "markdown",
   "id": "e5b38532",
   "metadata": {},
   "source": [
    "#### + 이 외에도 csv 또는 엑셀과 같은 파일에서 생성하는 방법이 있는데요. 읽기에서 다루어볼 내용으로 여기서는 소개만 하겠습니다."
   ]
  },
  {
   "cell_type": "markdown",
   "id": "2791e966",
   "metadata": {},
   "source": [
    "##### + 생성한 데이터 프레임을 저장해보겠습니다. 미리 만들어둔 소스코드를 활용할게요."
   ]
  },
  {
   "cell_type": "code",
   "execution_count": null,
   "id": "c5332e67",
   "metadata": {},
   "outputs": [],
   "source": [
    "# csv 파일로 저장하기\n",
    "df.to_csv('sample.csv', index = False)"
   ]
  },
  {
   "cell_type": "code",
   "execution_count": null,
   "id": "cf4b2b40",
   "metadata": {},
   "outputs": [],
   "source": [
    "# 엑셀 파일로 저장하기\n",
    "df.to_excel('sample.xlsx', index = False)"
   ]
  },
  {
   "cell_type": "markdown",
   "id": "a8988025",
   "metadata": {},
   "source": [
    "### Q2. Pandas로 데이터 프레임 읽기를 해봅시다."
   ]
  },
  {
   "cell_type": "markdown",
   "id": "00225645",
   "metadata": {},
   "source": [
    "#### 1. csv 파일을 데이터 프레임으로 불러오기"
   ]
  },
  {
   "cell_type": "code",
   "execution_count": null,
   "id": "a925c1dd",
   "metadata": {},
   "outputs": [],
   "source": [
    "# Chat GPT가 알려준 예시코드로 실습을 해봅시다.(Query : Pandas를 활용해서 csv 파일을 데이터 프레임으로 불러오는 예시코드 만들어 주세요)\n"
   ]
  },
  {
   "cell_type": "markdown",
   "id": "a5612f68",
   "metadata": {},
   "source": [
    "#### 2. 엑셀 파일을 데이터 프레임으로 불러오기"
   ]
  },
  {
   "cell_type": "code",
   "execution_count": null,
   "id": "945a2cbc",
   "metadata": {},
   "outputs": [],
   "source": [
    "# Chat GPT가 알려준 예시코드로 실습을 해봅시다.(Query : Pandas를 활용해서 엑셀 파일을 데이터 프레임으로 불러오는 예시코드 만들어 주세요)\n"
   ]
  },
  {
   "cell_type": "markdown",
   "id": "59b1444d",
   "metadata": {},
   "source": [
    "### Q3. Pandas로 데이터 프레임을 수정해봅시다."
   ]
  },
  {
   "cell_type": "markdown",
   "id": "e1bdea65",
   "metadata": {},
   "source": [
    "#### 1. 열 추가 또는 수정하기"
   ]
  },
  {
   "cell_type": "code",
   "execution_count": null,
   "id": "c07dd2da",
   "metadata": {},
   "outputs": [],
   "source": [
    "# Chat GPT가 알려준 예시코드로 실습을 해봅시다.(Query : Pandas를 활용해서 데이터 프레임에 열을 추가하거나 수정하는 예시코드 만들어 주세요)\n"
   ]
  },
  {
   "cell_type": "markdown",
   "id": "f7e85d8b",
   "metadata": {},
   "source": [
    "#### 2. 행 추가 또는 수정하기"
   ]
  },
  {
   "cell_type": "code",
   "execution_count": null,
   "id": "66020fb0",
   "metadata": {},
   "outputs": [],
   "source": [
    "# Chat GPT가 알려준 예시코드로 실습을 해봅시다.(Query : Pandas를 활용해서 데이터 프레임에 행을 추가하거나 수정하는 예시코드 만들어 주세요)\n"
   ]
  },
  {
   "cell_type": "markdown",
   "id": "5f321cb2",
   "metadata": {},
   "source": [
    "#### 3. 값 수정하기"
   ]
  },
  {
   "cell_type": "code",
   "execution_count": null,
   "id": "94a61230",
   "metadata": {},
   "outputs": [],
   "source": [
    "# Chat GPT가 알려준 예시코드로 실습을 해봅시다.(Query : Pandas를 활용해서 데이터 프레임에 값을 수정하는 예시코드 만들어 주세요)\n"
   ]
  },
  {
   "cell_type": "markdown",
   "id": "1f1e9388",
   "metadata": {},
   "source": [
    "### Q4. Pandas로 데이터 프레임의 자료를 삭제해봅시다."
   ]
  },
  {
   "cell_type": "markdown",
   "id": "38b36f42",
   "metadata": {},
   "source": [
    "#### 1. 열 삭제하기"
   ]
  },
  {
   "cell_type": "code",
   "execution_count": null,
   "id": "a2f49d3b",
   "metadata": {},
   "outputs": [],
   "source": [
    "# Chat GPT가 알려준 예시코드로 실습을 해봅시다.(Query : Pandas를 활용해서 데이터 프레임에 열을 삭제하는 예시코드 만들어 주세요)\n"
   ]
  },
  {
   "cell_type": "markdown",
   "id": "2d8c956f",
   "metadata": {},
   "source": [
    "#### 2. 행 활용하기"
   ]
  },
  {
   "cell_type": "code",
   "execution_count": null,
   "id": "144113da",
   "metadata": {},
   "outputs": [],
   "source": [
    "# Chat GPT가 알려준 예시코드로 실습을 해봅시다.(Query : Pandas를 활용해서 데이터 프레임에 행을 삭제하는 예시코드 만들어 주세요)\n"
   ]
  },
  {
   "cell_type": "markdown",
   "id": "0de4ed6b",
   "metadata": {},
   "source": [
    "## Summary\n",
    "* 이번 시간에는 Pandas로 데이터 프레임을 생성/읽기/수정/삭제하는 방법에 대해서 다루어 봤습니다.\n",
    "* 다음 시간에는 Pandas로 데이터 프레임에서 슬라이싱/인덱싱/컬럼 변경하는 방법에 대해서 다루어 보겠습니다."
   ]
  }
 ],
 "metadata": {
  "kernelspec": {
   "display_name": "Python 3 (ipykernel)",
   "language": "python",
   "name": "python3"
  },
  "language_info": {
   "codemirror_mode": {
    "name": "ipython",
    "version": 3
   },
   "file_extension": ".py",
   "mimetype": "text/x-python",
   "name": "python",
   "nbconvert_exporter": "python",
   "pygments_lexer": "ipython3",
   "version": "3.10.10"
  }
 },
 "nbformat": 4,
 "nbformat_minor": 5
}
