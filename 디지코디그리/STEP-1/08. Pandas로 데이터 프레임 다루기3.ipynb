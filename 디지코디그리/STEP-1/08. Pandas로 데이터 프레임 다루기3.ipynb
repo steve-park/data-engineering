{
 "cells": [
  {
   "cell_type": "markdown",
   "id": "95db1cea",
   "metadata": {},
   "source": [
    "# 파이썬 기초3 : AI 모델링과 데이터 사이언스를 위한 기초 과정\n",
    "* 본 과정은 파이썬 초심자을 위한 과정으로 AI 모델링과 데이터 사이언스를 위해 꼭 필요한 지식에 대해 배울 수 있습니다.\n",
    "* 본 과정을 모두 마칠 무렵이면 여러분은 파이썬으로 데이터를 다룰 수 있게될 겁니다.\n",
    "* 파이썬에 대한 모든 것을 다루지는 않습니다. 처음 AI 모델링과 데이터 사이언스를 시작할 때 꼭 필요한 내용을 중심으로 준비했습니다."
   ]
  },
  {
   "cell_type": "markdown",
   "id": "06a93d90",
   "metadata": {},
   "source": [
    "## 8. Pandas로 데이터 프레임 다루기3\n",
    "* 이번 시간에는 데이터 사이언스에서 많이 활용되는 배열을 다룰 수 있도록 도와주는 Pandas에 대해서 다루어 볼 예정입니다.\n",
    "* 특히 Pandas로 데이터 프레임에서 데이터를 집계하고 피벗 테이블을 활용하는 방법에 대해 알아보겠습니다."
   ]
  },
  {
   "cell_type": "markdown",
   "id": "563607b7",
   "metadata": {},
   "source": [
    "* Pandas 공식 Document\n",
    "    * https://pandas.pydata.org/docs/"
   ]
  },
  {
   "cell_type": "markdown",
   "id": "f55d9ad5",
   "metadata": {},
   "source": [
    "### Q1. Pandas로 데이터를 집계 해봅시다."
   ]
  },
  {
   "cell_type": "markdown",
   "id": "200a699b",
   "metadata": {},
   "source": [
    "#### 1. 범위로 그룹화"
   ]
  },
  {
   "cell_type": "code",
   "execution_count": null,
   "id": "8ea38412",
   "metadata": {},
   "outputs": [],
   "source": [
    "# Chat GPT가 알려준 예시코드로 실습을 해봅시다.(Query : Pandas를 활용해서 데이터 프레임을 범위로 그룹화하는 예시코드 만들어 주세요)\n"
   ]
  },
  {
   "cell_type": "markdown",
   "id": "2d957009",
   "metadata": {},
   "source": [
    "#### 2. 특정 기준으로 그룹화"
   ]
  },
  {
   "cell_type": "code",
   "execution_count": null,
   "id": "56091a4d",
   "metadata": {},
   "outputs": [],
   "source": [
    "# Chat GPT가 알려준 예시코드로 실습을 해봅시다.(Query : Pandas를 활용해서 데이터 프레임을 특정 기준으로 그룹화하는 예시코드 만들어 주세요)\n"
   ]
  },
  {
   "cell_type": "markdown",
   "id": "1ea7c0f1",
   "metadata": {},
   "source": [
    "#### 3. 다중 기준으로 그룹화"
   ]
  },
  {
   "cell_type": "code",
   "execution_count": null,
   "id": "d451886d",
   "metadata": {},
   "outputs": [],
   "source": [
    "# Chat GPT가 알려준 예시코드로 실습을 해봅시다.(Query : Pandas를 활용해서 데이터 프레임을 다중 기준으로 그룹화하는 예시코드 만들어 주세요)\n"
   ]
  },
  {
   "cell_type": "markdown",
   "id": "a8988025",
   "metadata": {},
   "source": [
    "### Q2. Pandas로 피벗 테이블을 만들어 봅시다."
   ]
  },
  {
   "cell_type": "markdown",
   "id": "74c735b4",
   "metadata": {},
   "source": [
    "#### 1. pivot 활용하기"
   ]
  },
  {
   "cell_type": "code",
   "execution_count": null,
   "id": "a925c1dd",
   "metadata": {},
   "outputs": [],
   "source": [
    "# Chat GPT가 알려준 예시코드로 실습을 해봅시다.(Query : Pandas를 활용해서 데이터 프레임에서 pivot으로 피벗 테이블을 만드는 예시코드 만들어 주세요)\n"
   ]
  },
  {
   "cell_type": "markdown",
   "id": "bbada45d",
   "metadata": {},
   "source": [
    "#### 2. pivot_table 활용하기"
   ]
  },
  {
   "cell_type": "code",
   "execution_count": null,
   "id": "b698eae3",
   "metadata": {},
   "outputs": [],
   "source": [
    "# Chat GPT가 알려준 예시코드로 실습을 해봅시다.(Query : Pandas를 활용해서 데이터 프레임에서 pivot_table로 피벗 테이블을 만드는 예시코드 만들어 주세요)\n"
   ]
  },
  {
   "cell_type": "markdown",
   "id": "0de4ed6b",
   "metadata": {},
   "source": [
    "## Summary\n",
    "* 이번 시간에는 Pandas로 데이터 프레임에서 데이터를 집계하고 피벗 테이블을 활용하는 방법에 대해서 다루어 봤습니다.\n",
    "* 이상 파이썬 기초 3 - AI 모델링과 데이터 사이언스를 위한 기초 과정 마치도록 하겠습니다."
   ]
  }
 ],
 "metadata": {
  "kernelspec": {
   "display_name": "Python 3 (ipykernel)",
   "language": "python",
   "name": "python3"
  },
  "language_info": {
   "codemirror_mode": {
    "name": "ipython",
    "version": 3
   },
   "file_extension": ".py",
   "mimetype": "text/x-python",
   "name": "python",
   "nbconvert_exporter": "python",
   "pygments_lexer": "ipython3",
   "version": "3.10.10"
  }
 },
 "nbformat": 4,
 "nbformat_minor": 5
}
