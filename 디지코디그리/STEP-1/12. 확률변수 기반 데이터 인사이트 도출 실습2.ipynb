{
 "cells": [
  {
   "cell_type": "markdown",
   "id": "6114727e",
   "metadata": {},
   "source": [
    "# 기초통계와 인사이트 도출\n",
    "## 데이터 인사이트 도출 실습 과정입니다."
   ]
  },
  {
   "cell_type": "markdown",
   "id": "cd4d5ec1",
   "metadata": {},
   "source": [
    "* 지금부터 확률변수 기반 데이터 인사이트 도출 템플릿에 맞춰서 탐색을 진행하겠습니다."
   ]
  },
  {
   "cell_type": "markdown",
   "id": "02366c8f",
   "metadata": {},
   "source": [
    "* 고객 해지 예측을 위한 가상 데이터셋을 만들어보겠습니다.\n",
    "* 단, 만들어진 데이터는 표본이 아닌 모수 데이터라고 가정하겠습니다.\n",
    "* A통신사에서는 다음과 같은 변수들이 고객 해지에 영향을 미칠 것으로 판단되어 데이터를 수집하였습니다.\n",
    "\n",
    "    * company_names: 상가이름\n",
    "    * industries: 업종\n",
    "    * areas: 면적\n",
    "    * rents: 임대료\n",
    "    * durations: 영업기간(년)"
   ]
  },
  {
   "cell_type": "code",
   "execution_count": 5,
   "id": "a53cc93b",
   "metadata": {
    "tags": []
   },
   "outputs": [],
   "source": [
    "import random\n",
    "import pandas as pd\n",
    "\n",
    "def generate_fake_data(num_data):\n",
    "    # 변수 리스트\n",
    "    company_names = ['A상가', 'B상가', 'C상가', 'D상가', 'E상가']\n",
    "    industries = ['음식점', '카페', '의류', '서적', '안경점']\n",
    "    areas = [30, 40, 50, 60, 70]\n",
    "    rents = [1000000, 2000000, 3000000, 4000000, 5000000]\n",
    "    durations = [1, 2, 3, 4, 5]\n",
    "    # 데이터 생성\n",
    "    data = []\n",
    "    for i in range(num_data):\n",
    "        company_name = random.choice(company_names)\n",
    "        industry = random.choice(industries)\n",
    "        area = random.choice(areas)\n",
    "        rent = random.choice(rents)\n",
    "        duration = random.choice(durations)\n",
    "        data.append({\n",
    "            'company_name': company_name,\n",
    "            'industry': industry,\n",
    "            'area': area,\n",
    "            'rent': rent,\n",
    "            'duration': duration\n",
    "        })\n",
    "    return data\n",
    "\n",
    "# 가짜 데이터 생성\n",
    "fake_data = generate_fake_data(1000)\n",
    "\n",
    "# 데이터프레임 생성\n",
    "df = pd.DataFrame(fake_data)"
   ]
  },
  {
   "cell_type": "markdown",
   "id": "2fa26c20",
   "metadata": {},
   "source": [
    "#### 1. 기초통계량 확인\n",
    "* describe으로 확인하기\n",
    "* 평균과 중앙값 비교하기\n",
    "* 최대, 최소값으로 범위 확인하기"
   ]
  },
  {
   "cell_type": "code",
   "execution_count": 11,
   "id": "c4e1ddec-aba7-48f5-a494-b0c497d09721",
   "metadata": {
    "tags": []
   },
   "outputs": [
    {
     "data": {
      "text/html": [
       "<div>\n",
       "<style scoped>\n",
       "    .dataframe tbody tr th:only-of-type {\n",
       "        vertical-align: middle;\n",
       "    }\n",
       "\n",
       "    .dataframe tbody tr th {\n",
       "        vertical-align: top;\n",
       "    }\n",
       "\n",
       "    .dataframe thead th {\n",
       "        text-align: right;\n",
       "    }\n",
       "</style>\n",
       "<table border=\"1\" class=\"dataframe\">\n",
       "  <thead>\n",
       "    <tr style=\"text-align: right;\">\n",
       "      <th></th>\n",
       "      <th>company_name</th>\n",
       "      <th>industry</th>\n",
       "      <th>area</th>\n",
       "      <th>rent</th>\n",
       "      <th>duration</th>\n",
       "    </tr>\n",
       "  </thead>\n",
       "  <tbody>\n",
       "    <tr>\n",
       "      <th>0</th>\n",
       "      <td>A상가</td>\n",
       "      <td>안경점</td>\n",
       "      <td>30</td>\n",
       "      <td>5000000</td>\n",
       "      <td>3</td>\n",
       "    </tr>\n",
       "    <tr>\n",
       "      <th>1</th>\n",
       "      <td>E상가</td>\n",
       "      <td>음식점</td>\n",
       "      <td>70</td>\n",
       "      <td>2000000</td>\n",
       "      <td>3</td>\n",
       "    </tr>\n",
       "    <tr>\n",
       "      <th>2</th>\n",
       "      <td>D상가</td>\n",
       "      <td>서적</td>\n",
       "      <td>50</td>\n",
       "      <td>4000000</td>\n",
       "      <td>3</td>\n",
       "    </tr>\n",
       "    <tr>\n",
       "      <th>3</th>\n",
       "      <td>B상가</td>\n",
       "      <td>카페</td>\n",
       "      <td>60</td>\n",
       "      <td>1000000</td>\n",
       "      <td>4</td>\n",
       "    </tr>\n",
       "    <tr>\n",
       "      <th>4</th>\n",
       "      <td>B상가</td>\n",
       "      <td>안경점</td>\n",
       "      <td>40</td>\n",
       "      <td>4000000</td>\n",
       "      <td>3</td>\n",
       "    </tr>\n",
       "  </tbody>\n",
       "</table>\n",
       "</div>"
      ],
      "text/plain": [
       "  company_name industry  area     rent  duration\n",
       "0          A상가      안경점    30  5000000         3\n",
       "1          E상가      음식점    70  2000000         3\n",
       "2          D상가       서적    50  4000000         3\n",
       "3          B상가       카페    60  1000000         4\n",
       "4          B상가      안경점    40  4000000         3"
      ]
     },
     "execution_count": 11,
     "metadata": {},
     "output_type": "execute_result"
    }
   ],
   "source": [
    "df.head()"
   ]
  },
  {
   "cell_type": "code",
   "execution_count": 6,
   "id": "b52027df",
   "metadata": {
    "scrolled": true,
    "tags": []
   },
   "outputs": [
    {
     "data": {
      "text/html": [
       "<div>\n",
       "<style scoped>\n",
       "    .dataframe tbody tr th:only-of-type {\n",
       "        vertical-align: middle;\n",
       "    }\n",
       "\n",
       "    .dataframe tbody tr th {\n",
       "        vertical-align: top;\n",
       "    }\n",
       "\n",
       "    .dataframe thead th {\n",
       "        text-align: right;\n",
       "    }\n",
       "</style>\n",
       "<table border=\"1\" class=\"dataframe\">\n",
       "  <thead>\n",
       "    <tr style=\"text-align: right;\">\n",
       "      <th></th>\n",
       "      <th>area</th>\n",
       "      <th>rent</th>\n",
       "      <th>duration</th>\n",
       "    </tr>\n",
       "  </thead>\n",
       "  <tbody>\n",
       "    <tr>\n",
       "      <th>count</th>\n",
       "      <td>1000.000000</td>\n",
       "      <td>1.000000e+03</td>\n",
       "      <td>1000.000000</td>\n",
       "    </tr>\n",
       "    <tr>\n",
       "      <th>mean</th>\n",
       "      <td>49.890000</td>\n",
       "      <td>2.967000e+06</td>\n",
       "      <td>3.135000</td>\n",
       "    </tr>\n",
       "    <tr>\n",
       "      <th>std</th>\n",
       "      <td>14.328056</td>\n",
       "      <td>1.418423e+06</td>\n",
       "      <td>1.389498</td>\n",
       "    </tr>\n",
       "    <tr>\n",
       "      <th>min</th>\n",
       "      <td>30.000000</td>\n",
       "      <td>1.000000e+06</td>\n",
       "      <td>1.000000</td>\n",
       "    </tr>\n",
       "    <tr>\n",
       "      <th>25%</th>\n",
       "      <td>40.000000</td>\n",
       "      <td>2.000000e+06</td>\n",
       "      <td>2.000000</td>\n",
       "    </tr>\n",
       "    <tr>\n",
       "      <th>50%</th>\n",
       "      <td>50.000000</td>\n",
       "      <td>3.000000e+06</td>\n",
       "      <td>3.000000</td>\n",
       "    </tr>\n",
       "    <tr>\n",
       "      <th>75%</th>\n",
       "      <td>60.000000</td>\n",
       "      <td>4.000000e+06</td>\n",
       "      <td>4.000000</td>\n",
       "    </tr>\n",
       "    <tr>\n",
       "      <th>max</th>\n",
       "      <td>70.000000</td>\n",
       "      <td>5.000000e+06</td>\n",
       "      <td>5.000000</td>\n",
       "    </tr>\n",
       "  </tbody>\n",
       "</table>\n",
       "</div>"
      ],
      "text/plain": [
       "              area          rent     duration\n",
       "count  1000.000000  1.000000e+03  1000.000000\n",
       "mean     49.890000  2.967000e+06     3.135000\n",
       "std      14.328056  1.418423e+06     1.389498\n",
       "min      30.000000  1.000000e+06     1.000000\n",
       "25%      40.000000  2.000000e+06     2.000000\n",
       "50%      50.000000  3.000000e+06     3.000000\n",
       "75%      60.000000  4.000000e+06     4.000000\n",
       "max      70.000000  5.000000e+06     5.000000"
      ]
     },
     "execution_count": 6,
     "metadata": {},
     "output_type": "execute_result"
    }
   ],
   "source": [
    "df.describe()"
   ]
  },
  {
   "cell_type": "markdown",
   "id": "e242dcd5",
   "metadata": {},
   "source": [
    "#### 2. 데이터 시각화"
   ]
  },
  {
   "cell_type": "code",
   "execution_count": 7,
   "id": "380a5cd6",
   "metadata": {
    "tags": []
   },
   "outputs": [
    {
     "name": "stdout",
     "output_type": "stream",
     "text": [
      "Requirement already satisfied: plotly in d:\\program files\\python311\\lib\\site-packages (5.14.1)\n",
      "Requirement already satisfied: tenacity>=6.2.0 in d:\\program files\\python311\\lib\\site-packages (from plotly) (8.2.2)\n",
      "Requirement already satisfied: packaging in d:\\program files\\python311\\lib\\site-packages (from plotly) (23.1)\n"
     ]
    }
   ],
   "source": [
    "# 먼저 시각화를 위해서 plotly를 설치하겠습니다.\n",
    "!pip install plotly"
   ]
  },
  {
   "cell_type": "code",
   "execution_count": 8,
   "id": "04615fbc",
   "metadata": {
    "tags": []
   },
   "outputs": [
    {
     "data": {
      "application/vnd.plotly.v1+json": {
       "config": {
        "plotlyServerURL": "https://plot.ly"
       },
       "data": [
        {
         "labels": [
          "1",
          "2",
          "3",
          "4",
          "5"
         ],
         "type": "pie",
         "values": [
          172,
          175,
          214,
          224,
          215
         ]
        }
       ],
       "layout": {
        "autosize": true,
        "template": {
         "data": {
          "bar": [
           {
            "error_x": {
             "color": "#2a3f5f"
            },
            "error_y": {
             "color": "#2a3f5f"
            },
            "marker": {
             "line": {
              "color": "#E5ECF6",
              "width": 0.5
             },
             "pattern": {
              "fillmode": "overlay",
              "size": 10,
              "solidity": 0.2
             }
            },
            "type": "bar"
           }
          ],
          "barpolar": [
           {
            "marker": {
             "line": {
              "color": "#E5ECF6",
              "width": 0.5
             },
             "pattern": {
              "fillmode": "overlay",
              "size": 10,
              "solidity": 0.2
             }
            },
            "type": "barpolar"
           }
          ],
          "carpet": [
           {
            "aaxis": {
             "endlinecolor": "#2a3f5f",
             "gridcolor": "white",
             "linecolor": "white",
             "minorgridcolor": "white",
             "startlinecolor": "#2a3f5f"
            },
            "baxis": {
             "endlinecolor": "#2a3f5f",
             "gridcolor": "white",
             "linecolor": "white",
             "minorgridcolor": "white",
             "startlinecolor": "#2a3f5f"
            },
            "type": "carpet"
           }
          ],
          "choropleth": [
           {
            "colorbar": {
             "outlinewidth": 0,
             "ticks": ""
            },
            "type": "choropleth"
           }
          ],
          "contour": [
           {
            "colorbar": {
             "outlinewidth": 0,
             "ticks": ""
            },
            "colorscale": [
             [
              0,
              "#0d0887"
             ],
             [
              0.1111111111111111,
              "#46039f"
             ],
             [
              0.2222222222222222,
              "#7201a8"
             ],
             [
              0.3333333333333333,
              "#9c179e"
             ],
             [
              0.4444444444444444,
              "#bd3786"
             ],
             [
              0.5555555555555556,
              "#d8576b"
             ],
             [
              0.6666666666666666,
              "#ed7953"
             ],
             [
              0.7777777777777778,
              "#fb9f3a"
             ],
             [
              0.8888888888888888,
              "#fdca26"
             ],
             [
              1,
              "#f0f921"
             ]
            ],
            "type": "contour"
           }
          ],
          "contourcarpet": [
           {
            "colorbar": {
             "outlinewidth": 0,
             "ticks": ""
            },
            "type": "contourcarpet"
           }
          ],
          "heatmap": [
           {
            "colorbar": {
             "outlinewidth": 0,
             "ticks": ""
            },
            "colorscale": [
             [
              0,
              "#0d0887"
             ],
             [
              0.1111111111111111,
              "#46039f"
             ],
             [
              0.2222222222222222,
              "#7201a8"
             ],
             [
              0.3333333333333333,
              "#9c179e"
             ],
             [
              0.4444444444444444,
              "#bd3786"
             ],
             [
              0.5555555555555556,
              "#d8576b"
             ],
             [
              0.6666666666666666,
              "#ed7953"
             ],
             [
              0.7777777777777778,
              "#fb9f3a"
             ],
             [
              0.8888888888888888,
              "#fdca26"
             ],
             [
              1,
              "#f0f921"
             ]
            ],
            "type": "heatmap"
           }
          ],
          "heatmapgl": [
           {
            "colorbar": {
             "outlinewidth": 0,
             "ticks": ""
            },
            "colorscale": [
             [
              0,
              "#0d0887"
             ],
             [
              0.1111111111111111,
              "#46039f"
             ],
             [
              0.2222222222222222,
              "#7201a8"
             ],
             [
              0.3333333333333333,
              "#9c179e"
             ],
             [
              0.4444444444444444,
              "#bd3786"
             ],
             [
              0.5555555555555556,
              "#d8576b"
             ],
             [
              0.6666666666666666,
              "#ed7953"
             ],
             [
              0.7777777777777778,
              "#fb9f3a"
             ],
             [
              0.8888888888888888,
              "#fdca26"
             ],
             [
              1,
              "#f0f921"
             ]
            ],
            "type": "heatmapgl"
           }
          ],
          "histogram": [
           {
            "marker": {
             "pattern": {
              "fillmode": "overlay",
              "size": 10,
              "solidity": 0.2
             }
            },
            "type": "histogram"
           }
          ],
          "histogram2d": [
           {
            "colorbar": {
             "outlinewidth": 0,
             "ticks": ""
            },
            "colorscale": [
             [
              0,
              "#0d0887"
             ],
             [
              0.1111111111111111,
              "#46039f"
             ],
             [
              0.2222222222222222,
              "#7201a8"
             ],
             [
              0.3333333333333333,
              "#9c179e"
             ],
             [
              0.4444444444444444,
              "#bd3786"
             ],
             [
              0.5555555555555556,
              "#d8576b"
             ],
             [
              0.6666666666666666,
              "#ed7953"
             ],
             [
              0.7777777777777778,
              "#fb9f3a"
             ],
             [
              0.8888888888888888,
              "#fdca26"
             ],
             [
              1,
              "#f0f921"
             ]
            ],
            "type": "histogram2d"
           }
          ],
          "histogram2dcontour": [
           {
            "colorbar": {
             "outlinewidth": 0,
             "ticks": ""
            },
            "colorscale": [
             [
              0,
              "#0d0887"
             ],
             [
              0.1111111111111111,
              "#46039f"
             ],
             [
              0.2222222222222222,
              "#7201a8"
             ],
             [
              0.3333333333333333,
              "#9c179e"
             ],
             [
              0.4444444444444444,
              "#bd3786"
             ],
             [
              0.5555555555555556,
              "#d8576b"
             ],
             [
              0.6666666666666666,
              "#ed7953"
             ],
             [
              0.7777777777777778,
              "#fb9f3a"
             ],
             [
              0.8888888888888888,
              "#fdca26"
             ],
             [
              1,
              "#f0f921"
             ]
            ],
            "type": "histogram2dcontour"
           }
          ],
          "mesh3d": [
           {
            "colorbar": {
             "outlinewidth": 0,
             "ticks": ""
            },
            "type": "mesh3d"
           }
          ],
          "parcoords": [
           {
            "line": {
             "colorbar": {
              "outlinewidth": 0,
              "ticks": ""
             }
            },
            "type": "parcoords"
           }
          ],
          "pie": [
           {
            "automargin": true,
            "type": "pie"
           }
          ],
          "scatter": [
           {
            "fillpattern": {
             "fillmode": "overlay",
             "size": 10,
             "solidity": 0.2
            },
            "type": "scatter"
           }
          ],
          "scatter3d": [
           {
            "line": {
             "colorbar": {
              "outlinewidth": 0,
              "ticks": ""
             }
            },
            "marker": {
             "colorbar": {
              "outlinewidth": 0,
              "ticks": ""
             }
            },
            "type": "scatter3d"
           }
          ],
          "scattercarpet": [
           {
            "marker": {
             "colorbar": {
              "outlinewidth": 0,
              "ticks": ""
             }
            },
            "type": "scattercarpet"
           }
          ],
          "scattergeo": [
           {
            "marker": {
             "colorbar": {
              "outlinewidth": 0,
              "ticks": ""
             }
            },
            "type": "scattergeo"
           }
          ],
          "scattergl": [
           {
            "marker": {
             "colorbar": {
              "outlinewidth": 0,
              "ticks": ""
             }
            },
            "type": "scattergl"
           }
          ],
          "scattermapbox": [
           {
            "marker": {
             "colorbar": {
              "outlinewidth": 0,
              "ticks": ""
             }
            },
            "type": "scattermapbox"
           }
          ],
          "scatterpolar": [
           {
            "marker": {
             "colorbar": {
              "outlinewidth": 0,
              "ticks": ""
             }
            },
            "type": "scatterpolar"
           }
          ],
          "scatterpolargl": [
           {
            "marker": {
             "colorbar": {
              "outlinewidth": 0,
              "ticks": ""
             }
            },
            "type": "scatterpolargl"
           }
          ],
          "scatterternary": [
           {
            "marker": {
             "colorbar": {
              "outlinewidth": 0,
              "ticks": ""
             }
            },
            "type": "scatterternary"
           }
          ],
          "surface": [
           {
            "colorbar": {
             "outlinewidth": 0,
             "ticks": ""
            },
            "colorscale": [
             [
              0,
              "#0d0887"
             ],
             [
              0.1111111111111111,
              "#46039f"
             ],
             [
              0.2222222222222222,
              "#7201a8"
             ],
             [
              0.3333333333333333,
              "#9c179e"
             ],
             [
              0.4444444444444444,
              "#bd3786"
             ],
             [
              0.5555555555555556,
              "#d8576b"
             ],
             [
              0.6666666666666666,
              "#ed7953"
             ],
             [
              0.7777777777777778,
              "#fb9f3a"
             ],
             [
              0.8888888888888888,
              "#fdca26"
             ],
             [
              1,
              "#f0f921"
             ]
            ],
            "type": "surface"
           }
          ],
          "table": [
           {
            "cells": {
             "fill": {
              "color": "#EBF0F8"
             },
             "line": {
              "color": "white"
             }
            },
            "header": {
             "fill": {
              "color": "#C8D4E3"
             },
             "line": {
              "color": "white"
             }
            },
            "type": "table"
           }
          ]
         },
         "layout": {
          "annotationdefaults": {
           "arrowcolor": "#2a3f5f",
           "arrowhead": 0,
           "arrowwidth": 1
          },
          "autotypenumbers": "strict",
          "coloraxis": {
           "colorbar": {
            "outlinewidth": 0,
            "ticks": ""
           }
          },
          "colorscale": {
           "diverging": [
            [
             0,
             "#8e0152"
            ],
            [
             0.1,
             "#c51b7d"
            ],
            [
             0.2,
             "#de77ae"
            ],
            [
             0.3,
             "#f1b6da"
            ],
            [
             0.4,
             "#fde0ef"
            ],
            [
             0.5,
             "#f7f7f7"
            ],
            [
             0.6,
             "#e6f5d0"
            ],
            [
             0.7,
             "#b8e186"
            ],
            [
             0.8,
             "#7fbc41"
            ],
            [
             0.9,
             "#4d9221"
            ],
            [
             1,
             "#276419"
            ]
           ],
           "sequential": [
            [
             0,
             "#0d0887"
            ],
            [
             0.1111111111111111,
             "#46039f"
            ],
            [
             0.2222222222222222,
             "#7201a8"
            ],
            [
             0.3333333333333333,
             "#9c179e"
            ],
            [
             0.4444444444444444,
             "#bd3786"
            ],
            [
             0.5555555555555556,
             "#d8576b"
            ],
            [
             0.6666666666666666,
             "#ed7953"
            ],
            [
             0.7777777777777778,
             "#fb9f3a"
            ],
            [
             0.8888888888888888,
             "#fdca26"
            ],
            [
             1,
             "#f0f921"
            ]
           ],
           "sequentialminus": [
            [
             0,
             "#0d0887"
            ],
            [
             0.1111111111111111,
             "#46039f"
            ],
            [
             0.2222222222222222,
             "#7201a8"
            ],
            [
             0.3333333333333333,
             "#9c179e"
            ],
            [
             0.4444444444444444,
             "#bd3786"
            ],
            [
             0.5555555555555556,
             "#d8576b"
            ],
            [
             0.6666666666666666,
             "#ed7953"
            ],
            [
             0.7777777777777778,
             "#fb9f3a"
            ],
            [
             0.8888888888888888,
             "#fdca26"
            ],
            [
             1,
             "#f0f921"
            ]
           ]
          },
          "colorway": [
           "#636efa",
           "#EF553B",
           "#00cc96",
           "#ab63fa",
           "#FFA15A",
           "#19d3f3",
           "#FF6692",
           "#B6E880",
           "#FF97FF",
           "#FECB52"
          ],
          "font": {
           "color": "#2a3f5f"
          },
          "geo": {
           "bgcolor": "white",
           "lakecolor": "white",
           "landcolor": "#E5ECF6",
           "showlakes": true,
           "showland": true,
           "subunitcolor": "white"
          },
          "hoverlabel": {
           "align": "left"
          },
          "hovermode": "closest",
          "mapbox": {
           "style": "light"
          },
          "paper_bgcolor": "white",
          "plot_bgcolor": "#E5ECF6",
          "polar": {
           "angularaxis": {
            "gridcolor": "white",
            "linecolor": "white",
            "ticks": ""
           },
           "bgcolor": "#E5ECF6",
           "radialaxis": {
            "gridcolor": "white",
            "linecolor": "white",
            "ticks": ""
           }
          },
          "scene": {
           "xaxis": {
            "backgroundcolor": "#E5ECF6",
            "gridcolor": "white",
            "gridwidth": 2,
            "linecolor": "white",
            "showbackground": true,
            "ticks": "",
            "zerolinecolor": "white"
           },
           "yaxis": {
            "backgroundcolor": "#E5ECF6",
            "gridcolor": "white",
            "gridwidth": 2,
            "linecolor": "white",
            "showbackground": true,
            "ticks": "",
            "zerolinecolor": "white"
           },
           "zaxis": {
            "backgroundcolor": "#E5ECF6",
            "gridcolor": "white",
            "gridwidth": 2,
            "linecolor": "white",
            "showbackground": true,
            "ticks": "",
            "zerolinecolor": "white"
           }
          },
          "shapedefaults": {
           "line": {
            "color": "#2a3f5f"
           }
          },
          "ternary": {
           "aaxis": {
            "gridcolor": "white",
            "linecolor": "white",
            "ticks": ""
           },
           "baxis": {
            "gridcolor": "white",
            "linecolor": "white",
            "ticks": ""
           },
           "bgcolor": "#E5ECF6",
           "caxis": {
            "gridcolor": "white",
            "linecolor": "white",
            "ticks": ""
           }
          },
          "title": {
           "x": 0.05
          },
          "xaxis": {
           "automargin": true,
           "gridcolor": "white",
           "linecolor": "white",
           "ticks": "",
           "title": {
            "standoff": 15
           },
           "zerolinecolor": "white",
           "zerolinewidth": 2
          },
          "yaxis": {
           "automargin": true,
           "gridcolor": "white",
           "linecolor": "white",
           "ticks": "",
           "title": {
            "standoff": 15
           },
           "zerolinecolor": "white",
           "zerolinewidth": 2
          }
         }
        },
        "title": {
         "text": "duration Status"
        }
       }
      },
      "image/png": "[encoded data removed]",
      "text/html": [
       "<div>                            <div id=\"984ed453-55d9-4e7f-8589-375b71917d5e\" class=\"plotly-graph-div\" style=\"height:525px; width:100%;\"></div>            <script type=\"text/javascript\">                require([\"plotly\"], function(Plotly) {                    window.PLOTLYENV=window.PLOTLYENV || {};                                    if (document.getElementById(\"984ed453-55d9-4e7f-8589-375b71917d5e\")) {                    Plotly.newPlot(                        \"984ed453-55d9-4e7f-8589-375b71917d5e\",                        [{\"labels\":[\"1\",\"2\",\"3\",\"4\",\"5\"],\"values\":[172,175,214,224,215],\"type\":\"pie\"}],                        {\"template\":{\"data\":{\"histogram2dcontour\":[{\"type\":\"histogram2dcontour\",\"colorbar\":{\"outlinewidth\":0,\"ticks\":\"\"},\"colorscale\":[[0.0,\"#0d0887\"],[0.1111111111111111,\"#46039f\"],[0.2222222222222222,\"#7201a8\"],[0.3333333333333333,\"#9c179e\"],[0.4444444444444444,\"#bd3786\"],[0.5555555555555556,\"#d8576b\"],[0.6666666666666666,\"#ed7953\"],[0.7777777777777778,\"#fb9f3a\"],[0.8888888888888888,\"#fdca26\"],[1.0,\"#f0f921\"]]}],\"choropleth\":[{\"type\":\"choropleth\",\"colorbar\":{\"outlinewidth\":0,\"ticks\":\"\"}}],\"histogram2d\":[{\"type\":\"histogram2d\",\"colorbar\":{\"outlinewidth\":0,\"ticks\":\"\"},\"colorscale\":[[0.0,\"#0d0887\"],[0.1111111111111111,\"#46039f\"],[0.2222222222222222,\"#7201a8\"],[0.3333333333333333,\"#9c179e\"],[0.4444444444444444,\"#bd3786\"],[0.5555555555555556,\"#d8576b\"],[0.6666666666666666,\"#ed7953\"],[0.7777777777777778,\"#fb9f3a\"],[0.8888888888888888,\"#fdca26\"],[1.0,\"#f0f921\"]]}],\"heatmap\":[{\"type\":\"heatmap\",\"colorbar\":{\"outlinewidth\":0,\"ticks\":\"\"},\"colorscale\":[[0.0,\"#0d0887\"],[0.1111111111111111,\"#46039f\"],[0.2222222222222222,\"#7201a8\"],[0.3333333333333333,\"#9c179e\"],[0.4444444444444444,\"#bd3786\"],[0.5555555555555556,\"#d8576b\"],[0.6666666666666666,\"#ed7953\"],[0.7777777777777778,\"#fb9f3a\"],[0.8888888888888888,\"#fdca26\"],[1.0,\"#f0f921\"]]}],\"heatmapgl\":[{\"type\":\"heatmapgl\",\"colorbar\":{\"outlinewidth\":0,\"ticks\":\"\"},\"colorscale\":[[0.0,\"#0d0887\"],[0.1111111111111111,\"#46039f\"],[0.2222222222222222,\"#7201a8\"],[0.3333333333333333,\"#9c179e\"],[0.4444444444444444,\"#bd3786\"],[0.5555555555555556,\"#d8576b\"],[0.6666666666666666,\"#ed7953\"],[0.7777777777777778,\"#fb9f3a\"],[0.8888888888888888,\"#fdca26\"],[1.0,\"#f0f921\"]]}],\"contourcarpet\":[{\"type\":\"contourcarpet\",\"colorbar\":{\"outlinewidth\":0,\"ticks\":\"\"}}],\"contour\":[{\"type\":\"contour\",\"colorbar\":{\"outlinewidth\":0,\"ticks\":\"\"},\"colorscale\":[[0.0,\"#0d0887\"],[0.1111111111111111,\"#46039f\"],[0.2222222222222222,\"#7201a8\"],[0.3333333333333333,\"#9c179e\"],[0.4444444444444444,\"#bd3786\"],[0.5555555555555556,\"#d8576b\"],[0.6666666666666666,\"#ed7953\"],[0.7777777777777778,\"#fb9f3a\"],[0.8888888888888888,\"#fdca26\"],[1.0,\"#f0f921\"]]}],\"surface\":[{\"type\":\"surface\",\"colorbar\":{\"outlinewidth\":0,\"ticks\":\"\"},\"colorscale\":[[0.0,\"#0d0887\"],[0.1111111111111111,\"#46039f\"],[0.2222222222222222,\"#7201a8\"],[0.3333333333333333,\"#9c179e\"],[0.4444444444444444,\"#bd3786\"],[0.5555555555555556,\"#d8576b\"],[0.6666666666666666,\"#ed7953\"],[0.7777777777777778,\"#fb9f3a\"],[0.8888888888888888,\"#fdca26\"],[1.0,\"#f0f921\"]]}],\"mesh3d\":[{\"type\":\"mesh3d\",\"colorbar\":{\"outlinewidth\":0,\"ticks\":\"\"}}],\"scatter\":[{\"fillpattern\":{\"fillmode\":\"overlay\",\"size\":10,\"solidity\":0.2},\"type\":\"scatter\"}],\"parcoords\":[{\"type\":\"parcoords\",\"line\":{\"colorbar\":{\"outlinewidth\":0,\"ticks\":\"\"}}}],\"scatterpolargl\":[{\"type\":\"scatterpolargl\",\"marker\":{\"colorbar\":{\"outlinewidth\":0,\"ticks\":\"\"}}}],\"bar\":[{\"error_x\":{\"color\":\"#2a3f5f\"},\"error_y\":{\"color\":\"#2a3f5f\"},\"marker\":{\"line\":{\"color\":\"#E5ECF6\",\"width\":0.5},\"pattern\":{\"fillmode\":\"overlay\",\"size\":10,\"solidity\":0.2}},\"type\":\"bar\"}],\"scattergeo\":[{\"type\":\"scattergeo\",\"marker\":{\"colorbar\":{\"outlinewidth\":0,\"ticks\":\"\"}}}],\"scatterpolar\":[{\"type\":\"scatterpolar\",\"marker\":{\"colorbar\":{\"outlinewidth\":0,\"ticks\":\"\"}}}],\"histogram\":[{\"marker\":{\"pattern\":{\"fillmode\":\"overlay\",\"size\":10,\"solidity\":0.2}},\"type\":\"histogram\"}],\"scattergl\":[{\"type\":\"scattergl\",\"marker\":{\"colorbar\":{\"outlinewidth\":0,\"ticks\":\"\"}}}],\"scatter3d\":[{\"type\":\"scatter3d\",\"line\":{\"colorbar\":{\"outlinewidth\":0,\"ticks\":\"\"}},\"marker\":{\"colorbar\":{\"outlinewidth\":0,\"ticks\":\"\"}}}],\"scattermapbox\":[{\"type\":\"scattermapbox\",\"marker\":{\"colorbar\":{\"outlinewidth\":0,\"ticks\":\"\"}}}],\"scatterternary\":[{\"type\":\"scatterternary\",\"marker\":{\"colorbar\":{\"outlinewidth\":0,\"ticks\":\"\"}}}],\"scattercarpet\":[{\"type\":\"scattercarpet\",\"marker\":{\"colorbar\":{\"outlinewidth\":0,\"ticks\":\"\"}}}],\"carpet\":[{\"aaxis\":{\"endlinecolor\":\"#2a3f5f\",\"gridcolor\":\"white\",\"linecolor\":\"white\",\"minorgridcolor\":\"white\",\"startlinecolor\":\"#2a3f5f\"},\"baxis\":{\"endlinecolor\":\"#2a3f5f\",\"gridcolor\":\"white\",\"linecolor\":\"white\",\"minorgridcolor\":\"white\",\"startlinecolor\":\"#2a3f5f\"},\"type\":\"carpet\"}],\"table\":[{\"cells\":{\"fill\":{\"color\":\"#EBF0F8\"},\"line\":{\"color\":\"white\"}},\"header\":{\"fill\":{\"color\":\"#C8D4E3\"},\"line\":{\"color\":\"white\"}},\"type\":\"table\"}],\"barpolar\":[{\"marker\":{\"line\":{\"color\":\"#E5ECF6\",\"width\":0.5},\"pattern\":{\"fillmode\":\"overlay\",\"size\":10,\"solidity\":0.2}},\"type\":\"barpolar\"}],\"pie\":[{\"automargin\":true,\"type\":\"pie\"}]},\"layout\":{\"autotypenumbers\":\"strict\",\"colorway\":[\"#636efa\",\"#EF553B\",\"#00cc96\",\"#ab63fa\",\"#FFA15A\",\"#19d3f3\",\"#FF6692\",\"#B6E880\",\"#FF97FF\",\"#FECB52\"],\"font\":{\"color\":\"#2a3f5f\"},\"hovermode\":\"closest\",\"hoverlabel\":{\"align\":\"left\"},\"paper_bgcolor\":\"white\",\"plot_bgcolor\":\"#E5ECF6\",\"polar\":{\"bgcolor\":\"#E5ECF6\",\"angularaxis\":{\"gridcolor\":\"white\",\"linecolor\":\"white\",\"ticks\":\"\"},\"radialaxis\":{\"gridcolor\":\"white\",\"linecolor\":\"white\",\"ticks\":\"\"}},\"ternary\":{\"bgcolor\":\"#E5ECF6\",\"aaxis\":{\"gridcolor\":\"white\",\"linecolor\":\"white\",\"ticks\":\"\"},\"baxis\":{\"gridcolor\":\"white\",\"linecolor\":\"white\",\"ticks\":\"\"},\"caxis\":{\"gridcolor\":\"white\",\"linecolor\":\"white\",\"ticks\":\"\"}},\"coloraxis\":{\"colorbar\":{\"outlinewidth\":0,\"ticks\":\"\"}},\"colorscale\":{\"sequential\":[[0.0,\"#0d0887\"],[0.1111111111111111,\"#46039f\"],[0.2222222222222222,\"#7201a8\"],[0.3333333333333333,\"#9c179e\"],[0.4444444444444444,\"#bd3786\"],[0.5555555555555556,\"#d8576b\"],[0.6666666666666666,\"#ed7953\"],[0.7777777777777778,\"#fb9f3a\"],[0.8888888888888888,\"#fdca26\"],[1.0,\"#f0f921\"]],\"sequentialminus\":[[0.0,\"#0d0887\"],[0.1111111111111111,\"#46039f\"],[0.2222222222222222,\"#7201a8\"],[0.3333333333333333,\"#9c179e\"],[0.4444444444444444,\"#bd3786\"],[0.5555555555555556,\"#d8576b\"],[0.6666666666666666,\"#ed7953\"],[0.7777777777777778,\"#fb9f3a\"],[0.8888888888888888,\"#fdca26\"],[1.0,\"#f0f921\"]],\"diverging\":[[0,\"#8e0152\"],[0.1,\"#c51b7d\"],[0.2,\"#de77ae\"],[0.3,\"#f1b6da\"],[0.4,\"#fde0ef\"],[0.5,\"#f7f7f7\"],[0.6,\"#e6f5d0\"],[0.7,\"#b8e186\"],[0.8,\"#7fbc41\"],[0.9,\"#4d9221\"],[1,\"#276419\"]]},\"xaxis\":{\"gridcolor\":\"white\",\"linecolor\":\"white\",\"ticks\":\"\",\"title\":{\"standoff\":15},\"zerolinecolor\":\"white\",\"automargin\":true,\"zerolinewidth\":2},\"yaxis\":{\"gridcolor\":\"white\",\"linecolor\":\"white\",\"ticks\":\"\",\"title\":{\"standoff\":15},\"zerolinecolor\":\"white\",\"automargin\":true,\"zerolinewidth\":2},\"scene\":{\"xaxis\":{\"backgroundcolor\":\"#E5ECF6\",\"gridcolor\":\"white\",\"linecolor\":\"white\",\"showbackground\":true,\"ticks\":\"\",\"zerolinecolor\":\"white\",\"gridwidth\":2},\"yaxis\":{\"backgroundcolor\":\"#E5ECF6\",\"gridcolor\":\"white\",\"linecolor\":\"white\",\"showbackground\":true,\"ticks\":\"\",\"zerolinecolor\":\"white\",\"gridwidth\":2},\"zaxis\":{\"backgroundcolor\":\"#E5ECF6\",\"gridcolor\":\"white\",\"linecolor\":\"white\",\"showbackground\":true,\"ticks\":\"\",\"zerolinecolor\":\"white\",\"gridwidth\":2}},\"shapedefaults\":{\"line\":{\"color\":\"#2a3f5f\"}},\"annotationdefaults\":{\"arrowcolor\":\"#2a3f5f\",\"arrowhead\":0,\"arrowwidth\":1},\"geo\":{\"bgcolor\":\"white\",\"landcolor\":\"#E5ECF6\",\"subunitcolor\":\"white\",\"showland\":true,\"showlakes\":true,\"lakecolor\":\"white\"},\"title\":{\"x\":0.05},\"mapbox\":{\"style\":\"light\"}}},\"title\":{\"text\":\"duration Status\"}},                        {\"responsive\": true}                    ).then(function(){\n",
       "                            \n",
       "var gd = document.getElementById('984ed453-55d9-4e7f-8589-375b71917d5e');\n",
       "var x = new MutationObserver(function (mutations, observer) {{\n",
       "        var display = window.getComputedStyle(gd).display;\n",
       "        if (!display || display === 'none') {{\n",
       "            console.log([gd, 'removed!']);\n",
       "            Plotly.purge(gd);\n",
       "            observer.disconnect();\n",
       "        }}\n",
       "}});\n",
       "\n",
       "// Listen for the removal of the full notebook cells\n",
       "var notebookContainer = gd.closest('#notebook-container');\n",
       "if (notebookContainer) {{\n",
       "    x.observe(notebookContainer, {childList: true});\n",
       "}}\n",
       "\n",
       "// Listen for the clearing of the current output cell\n",
       "var outputEl = gd.closest('.output');\n",
       "if (outputEl) {{\n",
       "    x.observe(outputEl, {childList: true});\n",
       "}}\n",
       "\n",
       "                        })                };                });            </script>        </div>"
      ]
     },
     "metadata": {},
     "output_type": "display_data"
    }
   ],
   "source": [
    "# 데이터 균형 확인하기 : pie chart 그리기\n",
    "import pandas as pd\n",
    "import plotly.graph_objects as go\n",
    "\n",
    "# 파이차트 데이터 생성\n",
    "duration_count = df['duration'].value_counts()\n",
    "labels = ['1', '2', '3', '4', '5']\n",
    "values = [duration_count[1], duration_count[2], duration_count[3],\n",
    "         duration_count[4], duration_count[5]]\n",
    "\n",
    "# 파이차트 생성 및 레이아웃 설정\n",
    "fig = go.Figure(data=[go.Pie(labels=labels, values=values)])\n",
    "fig.update_layout(title='duration Status')\n",
    "\n",
    "# 그래프 출력\n",
    "fig.show()"
   ]
  },
  {
   "cell_type": "markdown",
   "id": "f234c24d",
   "metadata": {},
   "source": [
    "[문제]\n",
    "1. 데이터가 불균형한가요?(일반적으로는 특정 클래스의 비율이 10% 이하)\n",
    "2. 불균형하다면 어떻게 처리할껀가요?"
   ]
  },
  {
   "cell_type": "markdown",
   "id": "ecb35dff",
   "metadata": {},
   "source": [
    "* 만약에 데이터가 너무 불균형하다면 UnderSampling 또는 OverSampling 등의 방법으로 균형을 맞출 수 있습니다."
   ]
  },
  {
   "cell_type": "code",
   "execution_count": 9,
   "id": "5cf2fe1a",
   "metadata": {},
   "outputs": [
    {
     "data": {
      "application/vnd.plotly.v1+json": {
       "config": {
        "plotlyServerURL": "https://plot.ly"
       },
       "data": [
        {
         "alignmentgroup": "True",
         "hovertemplate": "variable=%{x}<br>value=%{y}<extra></extra>",
         "legendgroup": "",
         "marker": {
          "color": "#636efa"
         },
         "name": "",
         "notched": false,
         "offsetgroup": "",
         "orientation": "v",
         "showlegend": false,
         "type": "box",
         "x": [
          "area",
          "area",
          "area",
          "area",
          "area",
          "area",
          "area",
          "area",
          "area",
          "area",
          "area",
          "area",
          "area",
          "area",
          "area",
          "area",
          "area",
          "area",
          "area",
          "area",
          "area",
          "area",
          "area",
          "area",
          "area",
          "area",
          "area",
          "area",
          "area",
          "area",
          "area",
          "area",
          "area",
          "area",
          "area",
          "area",
          "area",
          "area",
          "area",
          "area",
          "area",
          "area",
          "area",
          "area",
          "area",
          "area",
          "area",
          "area",
          "area",
          "area",
          "area",
          "area",
          "area",
          "area",
          "area",
          "area",
          "area",
          "area",
          "area",
          "area",
          "area",
          "area",
          "area",
          "area",
          "area",
          "area",
          "area",
          "area",
          "area",
          "area",
          "area",
          "area",
          "area",
          "area",
          "area",
          "area",
          "area",
          "area",
          "area",
          "area",
          "area",
          "area",
          "area",
          "area",
          "area",
          "area",
          "area",
          "area",
          "area",
          "area",
          "area",
          "area",
          "area",
          "area",
          "area",
          "area",
          "area",
          "area",
          "area",
          "area",
          "area",
          "area",
          "area",
          "area",
          "area",
          "area",
          "area",
          "area",
          "area",
          "area",
          "area",
          "area",
          "area",
          "area",
          "area",
          "area",
          "area",
          "area",
          "area",
          "area",
          "area",
          "area",
          "area",
          "area",
          "area",
          "area",
          "area",
          "area",
          "area",
          "area",
          "area",
          "area",
          "area",
          "area",
          "area",
          "area",
          "area",
          "area",
          "area",
          "area",
          "area",
          "area",
          "area",
          "area",
          "area",
          "area",
          "area",
          "area",
          "area",
          "area",
          "area",
          "area",
          "area",
          "area",
          "area",
          "area",
          "area",
          "area",
          "area",
          "area",
          "area",
          "area",
          "area",
          "area",
          "area",
          "area",
          "area",
          "area",
          "area",
          "area",
          "area",
          "area",
          "area",
          "area",
          "area",
          "area",
          "area",
          "area",
          "area",
          "area",
          "area",
          "area",
          "area",
          "area",
          "area",
          "area",
          "area",
          "area",
          "area",
          "area",
          "area",
          "area",
          "area",
          "area",
          "area",
          "area",
          "area",
          "area",
          "area",
          "area",
          "area",
          "area",
          "area",
          "area",
          "area",
          "area",
          "area",
          "area",
          "area",
          "area",
          "area",
          "area",
          "area",
          "area",
          "area",
          "area",
          "area",
          "area",
          "area",
          "area",
          "area",
          "area",
          "area",
          "area",
          "area",
          "area",
          "area",
          "area",
          "area",
          "area",
          "area",
          "area",
          "area",
          "area",
          "area",
          "area",
          "area",
          "area",
          "area",
          "area",
          "area",
          "area",
          "area",
          "area",
          "area",
          "area",
          "area",
          "area",
          "area",
          "area",
          "area",
          "area",
          "area",
          "area",
          "area",
          "area",
          "area",
          "area",
          "area",
          "area",
          "area",
          "area",
          "area",
          "area",
          "area",
          "area",
          "area",
          "area",
          "area",
          "area",
          "area",
          "area",
          "area",
          "area",
          "area",
          "area",
          "area",
          "area",
          "area",
          "area",
          "area",
          "area",
          "area",
          "area",
          "area",
          "area",
          "area",
          "area",
          "area",
          "area",
          "area",
          "area",
          "area",
          "area",
          "area",
          "area",
          "area",
          "area",
          "area",
          "area",
          "area",
          "area",
          "area",
          "area",
          "area",
          "area",
          "area",
          "area",
          "area",
          "area",
          "area",
          "area",
          "area",
          "area",
          "area",
          "area",
          "area",
          "area",
          "area",
          "area",
          "area",
          "area",
          "area",
          "area",
          "area",
          "area",
          "area",
          "area",
          "area",
          "area",
          "area",
          "area",
          "area",
          "area",
          "area",
          "area",
          "area",
          "area",
          "area",
          "area",
          "area",
          "area",
          "area",
          "area",
          "area",
          "area",
          "area",
          "area",
          "area",
          "area",
          "area",
          "area",
          "area",
          "area",
          "area",
          "area",
          "area",
          "area",
          "area",
          "area",
          "area",
          "area",
          "area",
          "area",
          "area",
          "area",
          "area",
          "area",
          "area",
          "area",
          "area",
          "area",
          "area",
          "area",
          "area",
          "area",
          "area",
          "area",
          "area",
          "area",
          "area",
          "area",
          "area",
          "area",
          "area",
          "area",
          "area",
          "area",
          "area",
          "area",
          "area",
          "area",
          "area",
          "area",
          "area",
          "area",
          "area",
          "area",
          "area",
          "area",
          "area",
          "area",
          "area",
          "area",
          "area",
          "area",
          "area",
          "area",
          "area",
          "area",
          "area",
          "area",
          "area",
          "area",
          "area",
          "area",
          "area",
          "area",
          "area",
          "area",
          "area",
          "area",
          "area",
          "area",
          "area",
          "area",
          "area",
          "area",
          "area",
          "area",
          "area",
          "area",
          "area",
          "area",
          "area",
          "area",
          "area",
          "area",
          "area",
          "area",
          "area",
          "area",
          "area",
          "area",
          "area",
          "area",
          "area",
          "area",
          "area",
          "area",
          "area",
          "area",
          "area",
          "area",
          "area",
          "area",
          "area",
          "area",
          "area",
          "area",
          "area",
          "area",
          "area",
          "area",
          "area",
          "area",
          "area",
          "area",
          "area",
          "area",
          "area",
          "area",
          "area",
          "area",
          "area",
          "area",
          "area",
          "area",
          "area",
          "area",
          "area",
          "area",
          "area",
          "area",
          "area",
          "area",
          "area",
          "area",
          "area",
          "area",
          "area",
          "area",
          "area",
          "area",
          "area",
          "area",
          "area",
          "area",
          "area",
          "area",
          "area",
          "area",
          "area",
          "area",
          "area",
          "area",
          "area",
          "area",
          "area",
          "area",
          "area",
          "area",
          "area",
          "area",
          "area",
          "area",
          "area",
          "area",
          "area",
          "area",
          "area",
          "area",
          "area",
          "area",
          "area",
          "area",
          "area",
          "area",
          "area",
          "area",
          "area",
          "area",
          "area",
          "area",
          "area",
          "area",
          "area",
          "area",
          "area",
          "area",
          "area",
          "area",
          "area",
          "area",
          "area",
          "area",
          "area",
          "area",
          "area",
          "area",
          "area",
          "area",
          "area",
          "area",
          "area",
          "area",
          "area",
          "area",
          "area",
          "area",
          "area",
          "area",
          "area",
          "area",
          "area",
          "area",
          "area",
          "area",
          "area",
          "area",
          "area",
          "area",
          "area",
          "area",
          "area",
          "area",
          "area",
          "area",
          "area",
          "area",
          "area",
          "area",
          "area",
          "area",
          "area",
          "area",
          "area",
          "area",
          "area",
          "area",
          "area",
          "area",
          "area",
          "area",
          "area",
          "area",
          "area",
          "area",
          "area",
          "area",
          "area",
          "area",
          "area",
          "area",
          "area",
          "area",
          "area",
          "area",
          "area",
          "area",
          "area",
          "area",
          "area",
          "area",
          "area",
          "area",
          "area",
          "area",
          "area",
          "area",
          "area",
          "area",
          "area",
          "area",
          "area",
          "area",
          "area",
          "area",
          "area",
          "area",
          "area",
          "area",
          "area",
          "area",
          "area",
          "area",
          "area",
          "area",
          "area",
          "area",
          "area",
          "area",
          "area",
          "area",
          "area",
          "area",
          "area",
          "area",
          "area",
          "area",
          "area",
          "area",
          "area",
          "area",
          "area",
          "area",
          "area",
          "area",
          "area",
          "area",
          "area",
          "area",
          "area",
          "area",
          "area",
          "area",
          "area",
          "area",
          "area",
          "area",
          "area",
          "area",
          "area",
          "area",
          "area",
          "area",
          "area",
          "area",
          "area",
          "area",
          "area",
          "area",
          "area",
          "area",
          "area",
          "area",
          "area",
          "area",
          "area",
          "area",
          "area",
          "area",
          "area",
          "area",
          "area",
          "area",
          "area",
          "area",
          "area",
          "area",
          "area",
          "area",
          "area",
          "area",
          "area",
          "area",
          "area",
          "area",
          "area",
          "area",
          "area",
          "area",
          "area",
          "area",
          "area",
          "area",
          "area",
          "area",
          "area",
          "area",
          "area",
          "area",
          "area",
          "area",
          "area",
          "area",
          "area",
          "area",
          "area",
          "area",
          "area",
          "area",
          "area",
          "area",
          "area",
          "area",
          "area",
          "area",
          "area",
          "area",
          "area",
          "area",
          "area",
          "area",
          "area",
          "area",
          "area",
          "area",
          "area",
          "area",
          "area",
          "area",
          "area",
          "area",
          "area",
          "area",
          "area",
          "area",
          "area",
          "area",
          "area",
          "area",
          "area",
          "area",
          "area",
          "area",
          "area",
          "area",
          "area",
          "area",
          "area",
          "area",
          "area",
          "area",
          "area",
          "area",
          "area",
          "area",
          "area",
          "area",
          "area",
          "area",
          "area",
          "area",
          "area",
          "area",
          "area",
          "area",
          "area",
          "area",
          "area",
          "area",
          "area",
          "area",
          "area",
          "area",
          "area",
          "area",
          "area",
          "area",
          "area",
          "area",
          "area",
          "area",
          "area",
          "area",
          "area",
          "area",
          "area",
          "area",
          "area",
          "area",
          "area",
          "area",
          "area",
          "area",
          "area",
          "area",
          "area",
          "area",
          "area",
          "area",
          "area",
          "area",
          "area",
          "area",
          "area",
          "area",
          "area",
          "area",
          "area",
          "area",
          "area",
          "area",
          "area",
          "area",
          "area",
          "area",
          "area",
          "area",
          "area",
          "area",
          "area",
          "area",
          "area",
          "area",
          "area",
          "area",
          "area",
          "area",
          "area",
          "area",
          "area",
          "area",
          "area",
          "area",
          "area",
          "area",
          "area",
          "area",
          "area",
          "area",
          "area",
          "area",
          "area",
          "area",
          "area",
          "area",
          "area",
          "area",
          "area",
          "area",
          "area",
          "area",
          "area",
          "area",
          "area",
          "area",
          "area",
          "area",
          "area",
          "area",
          "area",
          "area",
          "area",
          "area",
          "area",
          "area",
          "area",
          "area",
          "area",
          "area",
          "area",
          "area",
          "area",
          "area",
          "area",
          "area",
          "area",
          "area",
          "area",
          "area",
          "area",
          "area",
          "area",
          "area",
          "area",
          "area",
          "area",
          "area",
          "area",
          "area",
          "area",
          "area",
          "area",
          "area",
          "area",
          "area",
          "area",
          "area",
          "area",
          "area",
          "area",
          "area",
          "area",
          "area",
          "area",
          "area",
          "area",
          "area",
          "area",
          "area",
          "area",
          "area",
          "area",
          "area",
          "area",
          "area",
          "area",
          "area",
          "area",
          "area",
          "area",
          "area",
          "area",
          "area",
          "area",
          "area",
          "area",
          "area",
          "area",
          "area",
          "area",
          "area",
          "area",
          "area",
          "area",
          "area",
          "area",
          "area",
          "area",
          "area",
          "area",
          "area",
          "area",
          "area",
          "area",
          "area",
          "area",
          "area",
          "area",
          "area",
          "area",
          "area",
          "area",
          "area",
          "area",
          "area",
          "area",
          "area",
          "area",
          "area",
          "area",
          "area",
          "area",
          "area",
          "area",
          "area",
          "area",
          "area",
          "area",
          "area",
          "area",
          "area",
          "area",
          "area",
          "area",
          "area",
          "area",
          "area",
          "rent",
          "rent",
          "rent",
          "rent",
          "rent",
          "rent",
          "rent",
          "rent",
          "rent",
          "rent",
          "rent",
          "rent",
          "rent",
          "rent",
          "rent",
          "rent",
          "rent",
          "rent",
          "rent",
          "rent",
          "rent",
          "rent",
          "rent",
          "rent",
          "rent",
          "rent",
          "rent",
          "rent",
          "rent",
          "rent",
          "rent",
          "rent",
          "rent",
          "rent",
          "rent",
          "rent",
          "rent",
          "rent",
          "rent",
          "rent",
          "rent",
          "rent",
          "rent",
          "rent",
          "rent",
          "rent",
          "rent",
          "rent",
          "rent",
          "rent",
          "rent",
          "rent",
          "rent",
          "rent",
          "rent",
          "rent",
          "rent",
          "rent",
          "rent",
          "rent",
          "rent",
          "rent",
          "rent",
          "rent",
          "rent",
          "rent",
          "rent",
          "rent",
          "rent",
          "rent",
          "rent",
          "rent",
          "rent",
          "rent",
          "rent",
          "rent",
          "rent",
          "rent",
          "rent",
          "rent",
          "rent",
          "rent",
          "rent",
          "rent",
          "rent",
          "rent",
          "rent",
          "rent",
          "rent",
          "rent",
          "rent",
          "rent",
          "rent",
          "rent",
          "rent",
          "rent",
          "rent",
          "rent",
          "rent",
          "rent",
          "rent",
          "rent",
          "rent",
          "rent",
          "rent",
          "rent",
          "rent",
          "rent",
          "rent",
          "rent",
          "rent",
          "rent",
          "rent",
          "rent",
          "rent",
          "rent",
          "rent",
          "rent",
          "rent",
          "rent",
          "rent",
          "rent",
          "rent",
          "rent",
          "rent",
          "rent",
          "rent",
          "rent",
          "rent",
          "rent",
          "rent",
          "rent",
          "rent",
          "rent",
          "rent",
          "rent",
          "rent",
          "rent",
          "rent",
          "rent",
          "rent",
          "rent",
          "rent",
          "rent",
          "rent",
          "rent",
          "rent",
          "rent",
          "rent",
          "rent",
          "rent",
          "rent",
          "rent",
          "rent",
          "rent",
          "rent",
          "rent",
          "rent",
          "rent",
          "rent",
          "rent",
          "rent",
          "rent",
          "rent",
          "rent",
          "rent",
          "rent",
          "rent",
          "rent",
          "rent",
          "rent",
          "rent",
          "rent",
          "rent",
          "rent",
          "rent",
          "rent",
          "rent",
          "rent",
          "rent",
          "rent",
          "rent",
          "rent",
          "rent",
          "rent",
          "rent",
          "rent",
          "rent",
          "rent",
          "rent",
          "rent",
          "rent",
          "rent",
          "rent",
          "rent",
          "rent",
          "rent",
          "rent",
          "rent",
          "rent",
          "rent",
          "rent",
          "rent",
          "rent",
          "rent",
          "rent",
          "rent",
          "rent",
          "rent",
          "rent",
          "rent",
          "rent",
          "rent",
          "rent",
          "rent",
          "rent",
          "rent",
          "rent",
          "rent",
          "rent",
          "rent",
          "rent",
          "rent",
          "rent",
          "rent",
          "rent",
          "rent",
          "rent",
          "rent",
          "rent",
          "rent",
          "rent",
          "rent",
          "rent",
          "rent",
          "rent",
          "rent",
          "rent",
          "rent",
          "rent",
          "rent",
          "rent",
          "rent",
          "rent",
          "rent",
          "rent",
          "rent",
          "rent",
          "rent",
          "rent",
          "rent",
          "rent",
          "rent",
          "rent",
          "rent",
          "rent",
          "rent",
          "rent",
          "rent",
          "rent",
          "rent",
          "rent",
          "rent",
          "rent",
          "rent",
          "rent",
          "rent",
          "rent",
          "rent",
          "rent",
          "rent",
          "rent",
          "rent",
          "rent",
          "rent",
          "rent",
          "rent",
          "rent",
          "rent",
          "rent",
          "rent",
          "rent",
          "rent",
          "rent",
          "rent",
          "rent",
          "rent",
          "rent",
          "rent",
          "rent",
          "rent",
          "rent",
          "rent",
          "rent",
          "rent",
          "rent",
          "rent",
          "rent",
          "rent",
          "rent",
          "rent",
          "rent",
          "rent",
          "rent",
          "rent",
          "rent",
          "rent",
          "rent",
          "rent",
          "rent",
          "rent",
          "rent",
          "rent",
          "rent",
          "rent",
          "rent",
          "rent",
          "rent",
          "rent",
          "rent",
          "rent",
          "rent",
          "rent",
          "rent",
          "rent",
          "rent",
          "rent",
          "rent",
          "rent",
          "rent",
          "rent",
          "rent",
          "rent",
          "rent",
          "rent",
          "rent",
          "rent",
          "rent",
          "rent",
          "rent",
          "rent",
          "rent",
          "rent",
          "rent",
          "rent",
          "rent",
          "rent",
          "rent",
          "rent",
          "rent",
          "rent",
          "rent",
          "rent",
          "rent",
          "rent",
          "rent",
          "rent",
          "rent",
          "rent",
          "rent",
          "rent",
          "rent",
          "rent",
          "rent",
          "rent",
          "rent",
          "rent",
          "rent",
          "rent",
          "rent",
          "rent",
          "rent",
          "rent",
          "rent",
          "rent",
          "rent",
          "rent",
          "rent",
          "rent",
          "rent",
          "rent",
          "rent",
          "rent",
          "rent",
          "rent",
          "rent",
          "rent",
          "rent",
          "rent",
          "rent",
          "rent",
          "rent",
          "rent",
          "rent",
          "rent",
          "rent",
          "rent",
          "rent",
          "rent",
          "rent",
          "rent",
          "rent",
          "rent",
          "rent",
          "rent",
          "rent",
          "rent",
          "rent",
          "rent",
          "rent",
          "rent",
          "rent",
          "rent",
          "rent",
          "rent",
          "rent",
          "rent",
          "rent",
          "rent",
          "rent",
          "rent",
          "rent",
          "rent",
          "rent",
          "rent",
          "rent",
          "rent",
          "rent",
          "rent",
          "rent",
          "rent",
          "rent",
          "rent",
          "rent",
          "rent",
          "rent",
          "rent",
          "rent",
          "rent",
          "rent",
          "rent",
          "rent",
          "rent",
          "rent",
          "rent",
          "rent",
          "rent",
          "rent",
          "rent",
          "rent",
          "rent",
          "rent",
          "rent",
          "rent",
          "rent",
          "rent",
          "rent",
          "rent",
          "rent",
          "rent",
          "rent",
          "rent",
          "rent",
          "rent",
          "rent",
          "rent",
          "rent",
          "rent",
          "rent",
          "rent",
          "rent",
          "rent",
          "rent",
          "rent",
          "rent",
          "rent",
          "rent",
          "rent",
          "rent",
          "rent",
          "rent",
          "rent",
          "rent",
          "rent",
          "rent",
          "rent",
          "rent",
          "rent",
          "rent",
          "rent",
          "rent",
          "rent",
          "rent",
          "rent",
          "rent",
          "rent",
          "rent",
          "rent",
          "rent",
          "rent",
          "rent",
          "rent",
          "rent",
          "rent",
          "rent",
          "rent",
          "rent",
          "rent",
          "rent",
          "rent",
          "rent",
          "rent",
          "rent",
          "rent",
          "rent",
          "rent",
          "rent",
          "rent",
          "rent",
          "rent",
          "rent",
          "rent",
          "rent",
          "rent",
          "rent",
          "rent",
          "rent",
          "rent",
          "rent",
          "rent",
          "rent",
          "rent",
          "rent",
          "rent",
          "rent",
          "rent",
          "rent",
          "rent",
          "rent",
          "rent",
          "rent",
          "rent",
          "rent",
          "rent",
          "rent",
          "rent",
          "rent",
          "rent",
          "rent",
          "rent",
          "rent",
          "rent",
          "rent",
          "rent",
          "rent",
          "rent",
          "rent",
          "rent",
          "rent",
          "rent",
          "rent",
          "rent",
          "rent",
          "rent",
          "rent",
          "rent",
          "rent",
          "rent",
          "rent",
          "rent",
          "rent",
          "rent",
          "rent",
          "rent",
          "rent",
          "rent",
          "rent",
          "rent",
          "rent",
          "rent",
          "rent",
          "rent",
          "rent",
          "rent",
          "rent",
          "rent",
          "rent",
          "rent",
          "rent",
          "rent",
          "rent",
          "rent",
          "rent",
          "rent",
          "rent",
          "rent",
          "rent",
          "rent",
          "rent",
          "rent",
          "rent",
          "rent",
          "rent",
          "rent",
          "rent",
          "rent",
          "rent",
          "rent",
          "rent",
          "rent",
          "rent",
          "rent",
          "rent",
          "rent",
          "rent",
          "rent",
          "rent",
          "rent",
          "rent",
          "rent",
          "rent",
          "rent",
          "rent",
          "rent",
          "rent",
          "rent",
          "rent",
          "rent",
          "rent",
          "rent",
          "rent",
          "rent",
          "rent",
          "rent",
          "rent",
          "rent",
          "rent",
          "rent",
          "rent",
          "rent",
          "rent",
          "rent",
          "rent",
          "rent",
          "rent",
          "rent",
          "rent",
          "rent",
          "rent",
          "rent",
          "rent",
          "rent",
          "rent",
          "rent",
          "rent",
          "rent",
          "rent",
          "rent",
          "rent",
          "rent",
          "rent",
          "rent",
          "rent",
          "rent",
          "rent",
          "rent",
          "rent",
          "rent",
          "rent",
          "rent",
          "rent",
          "rent",
          "rent",
          "rent",
          "rent",
          "rent",
          "rent",
          "rent",
          "rent",
          "rent",
          "rent",
          "rent",
          "rent",
          "rent",
          "rent",
          "rent",
          "rent",
          "rent",
          "rent",
          "rent",
          "rent",
          "rent",
          "rent",
          "rent",
          "rent",
          "rent",
          "rent",
          "rent",
          "rent",
          "rent",
          "rent",
          "rent",
          "rent",
          "rent",
          "rent",
          "rent",
          "rent",
          "rent",
          "rent",
          "rent",
          "rent",
          "rent",
          "rent",
          "rent",
          "rent",
          "rent",
          "rent",
          "rent",
          "rent",
          "rent",
          "rent",
          "rent",
          "rent",
          "rent",
          "rent",
          "rent",
          "rent",
          "rent",
          "rent",
          "rent",
          "rent",
          "rent",
          "rent",
          "rent",
          "rent",
          "rent",
          "rent",
          "rent",
          "rent",
          "rent",
          "rent",
          "rent",
          "rent",
          "rent",
          "rent",
          "rent",
          "rent",
          "rent",
          "rent",
          "rent",
          "rent",
          "rent",
          "rent",
          "rent",
          "rent",
          "rent",
          "rent",
          "rent",
          "rent",
          "rent",
          "rent",
          "rent",
          "rent",
          "rent",
          "rent",
          "rent",
          "rent",
          "rent",
          "rent",
          "rent",
          "rent",
          "rent",
          "rent",
          "rent",
          "rent",
          "rent",
          "rent",
          "rent",
          "rent",
          "rent",
          "rent",
          "rent",
          "rent",
          "rent",
          "rent",
          "rent",
          "rent",
          "rent",
          "rent",
          "rent",
          "rent",
          "rent",
          "rent",
          "rent",
          "rent",
          "rent",
          "rent",
          "rent",
          "rent",
          "rent",
          "rent",
          "rent",
          "rent",
          "rent",
          "rent",
          "rent",
          "rent",
          "rent",
          "rent",
          "rent",
          "rent",
          "rent",
          "rent",
          "rent",
          "rent",
          "rent",
          "rent",
          "rent",
          "rent",
          "rent",
          "rent",
          "rent",
          "rent",
          "rent",
          "rent",
          "rent",
          "rent",
          "rent",
          "rent",
          "rent",
          "rent",
          "rent",
          "rent",
          "rent",
          "rent",
          "rent",
          "rent",
          "rent",
          "rent",
          "rent",
          "rent",
          "rent",
          "rent",
          "rent",
          "rent",
          "rent",
          "rent",
          "rent",
          "rent",
          "rent",
          "rent",
          "rent",
          "rent",
          "rent",
          "rent",
          "rent",
          "rent",
          "rent",
          "rent",
          "rent",
          "rent",
          "rent",
          "rent",
          "rent",
          "rent",
          "rent",
          "rent",
          "rent",
          "rent",
          "rent",
          "rent",
          "rent",
          "rent",
          "rent",
          "rent",
          "rent",
          "rent",
          "rent",
          "rent",
          "rent",
          "rent",
          "rent",
          "rent",
          "rent",
          "rent",
          "rent",
          "rent",
          "rent",
          "rent",
          "rent",
          "rent",
          "rent",
          "rent",
          "rent",
          "rent",
          "rent",
          "rent",
          "rent",
          "rent",
          "rent",
          "rent",
          "rent",
          "rent",
          "rent",
          "rent",
          "rent",
          "rent",
          "rent",
          "rent",
          "rent",
          "rent",
          "rent",
          "rent",
          "rent",
          "rent",
          "rent",
          "rent",
          "rent",
          "rent",
          "rent",
          "rent",
          "rent",
          "rent",
          "rent",
          "rent",
          "rent",
          "rent",
          "rent",
          "rent",
          "rent",
          "rent",
          "rent",
          "rent",
          "rent",
          "rent",
          "rent",
          "rent",
          "rent",
          "rent",
          "rent",
          "rent",
          "rent",
          "rent",
          "rent",
          "rent",
          "rent",
          "rent",
          "rent",
          "rent",
          "rent",
          "rent",
          "rent",
          "rent",
          "rent",
          "rent",
          "rent",
          "rent",
          "rent",
          "rent",
          "rent",
          "rent",
          "rent",
          "rent",
          "rent",
          "rent",
          "rent",
          "rent",
          "rent",
          "rent",
          "rent",
          "rent",
          "rent",
          "rent",
          "rent",
          "rent",
          "rent",
          "rent",
          "rent",
          "rent",
          "rent",
          "rent",
          "rent",
          "rent",
          "rent",
          "rent",
          "rent",
          "rent",
          "rent",
          "rent",
          "rent",
          "rent",
          "rent",
          "rent",
          "rent",
          "rent",
          "rent",
          "rent",
          "rent",
          "rent",
          "rent"
         ],
         "x0": " ",
         "xaxis": "x",
         "y": [
          30,
          70,
          50,
          60,
          40,
          60,
          40,
          60,
          40,
          50,
          30,
          60,
          30,
          60,
          50,
          30,
          60,
          50,
          70,
          60,
          70,
          30,
          30,
          60,
          70,
          70,
          40,
          50,
          70,
          60,
          70,
          70,
          70,
          40,
          60,
          30,
          30,
          40,
          60,
          70,
          60,
          40,
          30,
          50,
          70,
          60,
          40,
          40,
          50,
          60,
          50,
          60,
          70,
          30,
          50,
          70,
          30,
          50,
          60,
          40,
          40,
          70,
          50,
          50,
          60,
          30,
          60,
          40,
          40,
          70,
          60,
          30,
          50,
          50,
          30,
          40,
          70,
          40,
          70,
          70,
          40,
          30,
          60,
          50,
          60,
          40,
          40,
          60,
          60,
          70,
          40,
          70,
          40,
          30,
          30,
          30,
          60,
          50,
          70,
          70,
          60,
          60,
          30,
          70,
          40,
          60,
          30,
          60,
          70,
          70,
          70,
          70,
          70,
          60,
          60,
          30,
          70,
          30,
          50,
          70,
          70,
          60,
          40,
          50,
          50,
          60,
          70,
          60,
          30,
          30,
          70,
          30,
          30,
          60,
          50,
          70,
          60,
          60,
          70,
          40,
          30,
          40,
          50,
          70,
          60,
          60,
          40,
          50,
          50,
          60,
          50,
          70,
          50,
          60,
          40,
          40,
          40,
          60,
          70,
          40,
          60,
          50,
          70,
          30,
          40,
          50,
          50,
          70,
          60,
          50,
          40,
          60,
          40,
          40,
          30,
          70,
          70,
          50,
          50,
          40,
          40,
          40,
          70,
          30,
          30,
          70,
          70,
          30,
          50,
          70,
          70,
          60,
          70,
          50,
          70,
          40,
          30,
          70,
          30,
          30,
          40,
          50,
          30,
          30,
          30,
          30,
          40,
          50,
          70,
          30,
          60,
          70,
          30,
          40,
          50,
          60,
          60,
          70,
          70,
          30,
          40,
          70,
          30,
          60,
          40,
          40,
          40,
          40,
          50,
          70,
          50,
          30,
          70,
          70,
          50,
          50,
          60,
          60,
          50,
          70,
          60,
          30,
          40,
          40,
          70,
          50,
          60,
          60,
          40,
          50,
          50,
          60,
          40,
          60,
          30,
          70,
          30,
          50,
          70,
          30,
          40,
          60,
          40,
          50,
          60,
          40,
          70,
          30,
          60,
          60,
          30,
          40,
          60,
          60,
          30,
          50,
          70,
          30,
          60,
          40,
          40,
          40,
          60,
          50,
          40,
          40,
          30,
          60,
          50,
          30,
          40,
          40,
          50,
          50,
          70,
          60,
          60,
          40,
          50,
          60,
          50,
          50,
          60,
          40,
          30,
          70,
          30,
          40,
          60,
          30,
          50,
          30,
          40,
          40,
          50,
          40,
          40,
          60,
          60,
          40,
          30,
          60,
          50,
          60,
          60,
          40,
          50,
          70,
          30,
          40,
          50,
          50,
          30,
          70,
          50,
          40,
          70,
          70,
          70,
          60,
          30,
          30,
          70,
          50,
          30,
          40,
          30,
          40,
          30,
          30,
          60,
          50,
          60,
          40,
          30,
          50,
          60,
          30,
          60,
          30,
          30,
          40,
          40,
          70,
          40,
          50,
          60,
          30,
          30,
          30,
          40,
          70,
          40,
          30,
          40,
          60,
          50,
          30,
          50,
          40,
          60,
          70,
          70,
          50,
          40,
          70,
          30,
          70,
          40,
          40,
          30,
          70,
          40,
          50,
          60,
          40,
          30,
          60,
          70,
          50,
          50,
          60,
          30,
          70,
          70,
          50,
          40,
          40,
          70,
          70,
          60,
          70,
          70,
          30,
          70,
          50,
          70,
          40,
          30,
          50,
          40,
          40,
          40,
          40,
          40,
          40,
          70,
          40,
          70,
          40,
          40,
          30,
          60,
          40,
          70,
          70,
          70,
          40,
          60,
          30,
          60,
          40,
          70,
          60,
          50,
          50,
          40,
          70,
          70,
          40,
          30,
          60,
          40,
          60,
          50,
          40,
          50,
          30,
          30,
          70,
          40,
          30,
          50,
          50,
          60,
          50,
          60,
          60,
          50,
          70,
          60,
          70,
          40,
          40,
          30,
          60,
          30,
          70,
          40,
          70,
          50,
          50,
          30,
          40,
          70,
          60,
          30,
          60,
          70,
          60,
          70,
          30,
          70,
          30,
          30,
          30,
          40,
          30,
          70,
          50,
          50,
          50,
          30,
          30,
          30,
          70,
          30,
          50,
          40,
          40,
          50,
          40,
          40,
          50,
          50,
          60,
          30,
          60,
          70,
          70,
          60,
          60,
          60,
          40,
          70,
          70,
          60,
          60,
          40,
          30,
          50,
          70,
          50,
          40,
          30,
          60,
          70,
          60,
          40,
          60,
          60,
          30,
          50,
          60,
          50,
          60,
          40,
          70,
          70,
          30,
          60,
          70,
          50,
          70,
          30,
          70,
          50,
          70,
          40,
          60,
          60,
          60,
          40,
          40,
          60,
          30,
          50,
          70,
          60,
          60,
          70,
          60,
          60,
          70,
          70,
          30,
          30,
          70,
          40,
          60,
          40,
          50,
          30,
          30,
          30,
          50,
          50,
          50,
          40,
          70,
          60,
          40,
          60,
          30,
          60,
          40,
          40,
          40,
          40,
          60,
          50,
          50,
          60,
          40,
          70,
          40,
          40,
          70,
          70,
          50,
          40,
          70,
          70,
          40,
          70,
          70,
          30,
          50,
          40,
          70,
          60,
          60,
          60,
          50,
          40,
          40,
          50,
          40,
          50,
          50,
          60,
          50,
          30,
          30,
          50,
          70,
          50,
          70,
          30,
          60,
          30,
          70,
          70,
          30,
          40,
          30,
          70,
          60,
          40,
          40,
          50,
          60,
          70,
          40,
          40,
          50,
          50,
          50,
          70,
          30,
          30,
          40,
          50,
          50,
          50,
          40,
          30,
          40,
          30,
          60,
          70,
          40,
          30,
          40,
          70,
          70,
          70,
          30,
          50,
          70,
          70,
          70,
          70,
          50,
          70,
          40,
          50,
          70,
          30,
          40,
          30,
          70,
          70,
          30,
          60,
          40,
          70,
          40,
          40,
          40,
          30,
          30,
          30,
          70,
          30,
          40,
          30,
          60,
          30,
          30,
          50,
          70,
          30,
          30,
          30,
          50,
          60,
          40,
          30,
          70,
          50,
          40,
          70,
          30,
          70,
          60,
          50,
          30,
          40,
          50,
          50,
          60,
          40,
          30,
          40,
          30,
          30,
          30,
          40,
          70,
          30,
          60,
          70,
          60,
          70,
          40,
          70,
          70,
          40,
          60,
          50,
          50,
          30,
          50,
          30,
          40,
          70,
          60,
          40,
          60,
          40,
          50,
          60,
          30,
          30,
          70,
          30,
          40,
          50,
          40,
          60,
          50,
          70,
          40,
          70,
          50,
          70,
          40,
          70,
          30,
          50,
          30,
          70,
          50,
          30,
          70,
          40,
          60,
          70,
          30,
          50,
          30,
          70,
          60,
          60,
          60,
          70,
          30,
          60,
          60,
          40,
          50,
          50,
          50,
          50,
          70,
          70,
          40,
          60,
          30,
          40,
          30,
          40,
          60,
          70,
          30,
          70,
          40,
          40,
          70,
          70,
          60,
          40,
          40,
          50,
          30,
          30,
          70,
          50,
          70,
          70,
          70,
          30,
          40,
          50,
          70,
          40,
          40,
          70,
          40,
          40,
          50,
          60,
          60,
          60,
          70,
          40,
          30,
          40,
          30,
          60,
          30,
          30,
          60,
          50,
          40,
          50,
          70,
          40,
          70,
          40,
          50,
          30,
          70,
          40,
          50,
          50,
          30,
          40,
          30,
          40,
          60,
          60,
          40,
          30,
          40,
          70,
          50,
          50,
          40,
          50,
          60,
          60,
          40,
          50,
          60,
          60,
          40,
          30,
          30,
          70,
          70,
          50,
          70,
          30,
          50,
          60,
          40,
          70,
          50,
          30,
          40,
          40,
          60,
          50,
          60,
          40,
          60,
          40,
          50,
          50,
          50,
          50,
          70,
          30,
          30,
          70,
          60,
          60,
          30,
          60,
          40,
          30,
          60,
          40,
          40,
          60,
          30,
          70,
          40,
          70,
          40,
          30,
          30,
          40,
          70,
          70,
          40,
          30,
          30,
          30,
          60,
          70,
          60,
          50,
          40,
          40,
          50,
          50,
          30,
          30,
          30,
          50,
          40,
          60,
          70,
          50,
          40,
          60,
          60,
          70,
          50,
          30,
          50,
          40,
          30,
          30,
          30,
          40,
          40,
          40,
          60,
          40,
          70,
          40,
          60,
          70,
          70,
          70,
          30,
          40,
          70,
          50,
          60,
          40,
          40,
          40,
          70,
          50,
          50,
          30,
          30,
          60,
          50,
          40,
          50,
          60,
          30,
          70,
          60,
          5000000,
          2000000,
          4000000,
          1000000,
          4000000,
          4000000,
          3000000,
          3000000,
          1000000,
          2000000,
          2000000,
          5000000,
          5000000,
          1000000,
          2000000,
          5000000,
          1000000,
          4000000,
          5000000,
          1000000,
          4000000,
          2000000,
          2000000,
          4000000,
          3000000,
          1000000,
          1000000,
          2000000,
          2000000,
          3000000,
          5000000,
          2000000,
          1000000,
          2000000,
          2000000,
          2000000,
          3000000,
          3000000,
          2000000,
          4000000,
          3000000,
          1000000,
          5000000,
          3000000,
          4000000,
          1000000,
          2000000,
          4000000,
          5000000,
          5000000,
          1000000,
          1000000,
          4000000,
          1000000,
          3000000,
          4000000,
          2000000,
          4000000,
          4000000,
          5000000,
          2000000,
          2000000,
          4000000,
          1000000,
          1000000,
          2000000,
          5000000,
          2000000,
          3000000,
          4000000,
          4000000,
          3000000,
          2000000,
          3000000,
          2000000,
          4000000,
          1000000,
          3000000,
          5000000,
          3000000,
          3000000,
          2000000,
          1000000,
          5000000,
          3000000,
          5000000,
          5000000,
          3000000,
          5000000,
          4000000,
          1000000,
          4000000,
          3000000,
          4000000,
          4000000,
          5000000,
          1000000,
          5000000,
          3000000,
          5000000,
          5000000,
          2000000,
          3000000,
          2000000,
          4000000,
          3000000,
          1000000,
          1000000,
          2000000,
          4000000,
          2000000,
          2000000,
          4000000,
          5000000,
          5000000,
          5000000,
          5000000,
          4000000,
          3000000,
          1000000,
          5000000,
          2000000,
          5000000,
          4000000,
          1000000,
          3000000,
          2000000,
          1000000,
          1000000,
          1000000,
          4000000,
          2000000,
          4000000,
          2000000,
          4000000,
          1000000,
          4000000,
          4000000,
          5000000,
          5000000,
          3000000,
          4000000,
          4000000,
          3000000,
          1000000,
          2000000,
          2000000,
          4000000,
          2000000,
          5000000,
          3000000,
          5000000,
          1000000,
          2000000,
          2000000,
          1000000,
          1000000,
          5000000,
          2000000,
          2000000,
          2000000,
          1000000,
          2000000,
          4000000,
          4000000,
          3000000,
          4000000,
          4000000,
          4000000,
          1000000,
          3000000,
          1000000,
          4000000,
          4000000,
          2000000,
          4000000,
          3000000,
          4000000,
          2000000,
          5000000,
          3000000,
          5000000,
          1000000,
          3000000,
          3000000,
          2000000,
          5000000,
          4000000,
          3000000,
          1000000,
          3000000,
          5000000,
          4000000,
          2000000,
          4000000,
          4000000,
          5000000,
          1000000,
          3000000,
          2000000,
          1000000,
          1000000,
          2000000,
          4000000,
          4000000,
          5000000,
          5000000,
          5000000,
          3000000,
          5000000,
          3000000,
          1000000,
          5000000,
          1000000,
          2000000,
          1000000,
          5000000,
          1000000,
          1000000,
          4000000,
          3000000,
          1000000,
          1000000,
          4000000,
          4000000,
          3000000,
          4000000,
          3000000,
          2000000,
          5000000,
          4000000,
          1000000,
          5000000,
          3000000,
          1000000,
          3000000,
          4000000,
          2000000,
          2000000,
          1000000,
          5000000,
          1000000,
          1000000,
          5000000,
          3000000,
          3000000,
          3000000,
          4000000,
          1000000,
          1000000,
          4000000,
          2000000,
          5000000,
          1000000,
          1000000,
          2000000,
          1000000,
          1000000,
          1000000,
          2000000,
          3000000,
          3000000,
          1000000,
          1000000,
          4000000,
          4000000,
          5000000,
          3000000,
          5000000,
          5000000,
          3000000,
          2000000,
          3000000,
          1000000,
          5000000,
          2000000,
          5000000,
          2000000,
          2000000,
          4000000,
          4000000,
          1000000,
          5000000,
          4000000,
          4000000,
          2000000,
          2000000,
          2000000,
          4000000,
          1000000,
          3000000,
          4000000,
          4000000,
          2000000,
          2000000,
          3000000,
          2000000,
          2000000,
          1000000,
          4000000,
          5000000,
          4000000,
          2000000,
          4000000,
          5000000,
          4000000,
          3000000,
          5000000,
          3000000,
          2000000,
          2000000,
          3000000,
          1000000,
          5000000,
          5000000,
          4000000,
          4000000,
          4000000,
          2000000,
          2000000,
          5000000,
          3000000,
          5000000,
          5000000,
          1000000,
          1000000,
          2000000,
          5000000,
          2000000,
          3000000,
          1000000,
          5000000,
          2000000,
          5000000,
          4000000,
          5000000,
          3000000,
          1000000,
          1000000,
          5000000,
          2000000,
          5000000,
          4000000,
          5000000,
          5000000,
          3000000,
          5000000,
          4000000,
          1000000,
          5000000,
          2000000,
          4000000,
          4000000,
          1000000,
          5000000,
          5000000,
          3000000,
          1000000,
          3000000,
          4000000,
          3000000,
          5000000,
          1000000,
          3000000,
          5000000,
          2000000,
          3000000,
          2000000,
          1000000,
          5000000,
          1000000,
          5000000,
          4000000,
          3000000,
          5000000,
          2000000,
          2000000,
          1000000,
          5000000,
          5000000,
          3000000,
          5000000,
          5000000,
          3000000,
          5000000,
          3000000,
          2000000,
          4000000,
          1000000,
          2000000,
          3000000,
          2000000,
          5000000,
          5000000,
          2000000,
          1000000,
          2000000,
          3000000,
          3000000,
          4000000,
          2000000,
          3000000,
          3000000,
          2000000,
          3000000,
          1000000,
          4000000,
          2000000,
          2000000,
          1000000,
          1000000,
          3000000,
          4000000,
          1000000,
          5000000,
          3000000,
          1000000,
          2000000,
          2000000,
          1000000,
          4000000,
          5000000,
          4000000,
          4000000,
          4000000,
          2000000,
          2000000,
          3000000,
          5000000,
          3000000,
          5000000,
          4000000,
          3000000,
          4000000,
          2000000,
          4000000,
          5000000,
          3000000,
          4000000,
          5000000,
          5000000,
          2000000,
          2000000,
          4000000,
          3000000,
          2000000,
          2000000,
          1000000,
          2000000,
          3000000,
          2000000,
          1000000,
          4000000,
          4000000,
          2000000,
          1000000,
          1000000,
          5000000,
          2000000,
          3000000,
          2000000,
          4000000,
          4000000,
          1000000,
          5000000,
          5000000,
          4000000,
          2000000,
          2000000,
          3000000,
          2000000,
          1000000,
          5000000,
          5000000,
          1000000,
          4000000,
          2000000,
          5000000,
          2000000,
          4000000,
          2000000,
          2000000,
          2000000,
          5000000,
          2000000,
          4000000,
          2000000,
          4000000,
          1000000,
          1000000,
          2000000,
          1000000,
          4000000,
          2000000,
          2000000,
          1000000,
          4000000,
          1000000,
          5000000,
          1000000,
          4000000,
          2000000,
          1000000,
          5000000,
          2000000,
          5000000,
          4000000,
          4000000,
          2000000,
          5000000,
          1000000,
          2000000,
          1000000,
          5000000,
          2000000,
          3000000,
          3000000,
          2000000,
          3000000,
          5000000,
          1000000,
          1000000,
          5000000,
          3000000,
          2000000,
          1000000,
          4000000,
          1000000,
          4000000,
          2000000,
          3000000,
          2000000,
          4000000,
          3000000,
          3000000,
          3000000,
          1000000,
          2000000,
          3000000,
          1000000,
          1000000,
          5000000,
          2000000,
          3000000,
          4000000,
          5000000,
          3000000,
          4000000,
          4000000,
          3000000,
          2000000,
          5000000,
          1000000,
          1000000,
          3000000,
          3000000,
          4000000,
          4000000,
          1000000,
          2000000,
          1000000,
          1000000,
          2000000,
          5000000,
          2000000,
          5000000,
          3000000,
          4000000,
          3000000,
          2000000,
          5000000,
          2000000,
          3000000,
          5000000,
          4000000,
          2000000,
          1000000,
          4000000,
          5000000,
          4000000,
          1000000,
          4000000,
          2000000,
          2000000,
          1000000,
          2000000,
          3000000,
          1000000,
          2000000,
          1000000,
          3000000,
          3000000,
          3000000,
          5000000,
          4000000,
          1000000,
          1000000,
          4000000,
          3000000,
          5000000,
          5000000,
          1000000,
          2000000,
          1000000,
          4000000,
          5000000,
          2000000,
          2000000,
          5000000,
          5000000,
          1000000,
          3000000,
          1000000,
          2000000,
          2000000,
          5000000,
          4000000,
          1000000,
          4000000,
          1000000,
          4000000,
          3000000,
          1000000,
          3000000,
          2000000,
          2000000,
          1000000,
          1000000,
          5000000,
          3000000,
          2000000,
          1000000,
          5000000,
          2000000,
          5000000,
          2000000,
          2000000,
          3000000,
          4000000,
          5000000,
          2000000,
          1000000,
          4000000,
          5000000,
          2000000,
          2000000,
          2000000,
          5000000,
          1000000,
          4000000,
          5000000,
          1000000,
          4000000,
          5000000,
          3000000,
          3000000,
          1000000,
          4000000,
          4000000,
          4000000,
          2000000,
          2000000,
          4000000,
          4000000,
          2000000,
          4000000,
          1000000,
          5000000,
          4000000,
          5000000,
          2000000,
          2000000,
          3000000,
          1000000,
          3000000,
          4000000,
          1000000,
          2000000,
          2000000,
          3000000,
          4000000,
          4000000,
          5000000,
          4000000,
          2000000,
          1000000,
          4000000,
          1000000,
          5000000,
          5000000,
          3000000,
          5000000,
          2000000,
          2000000,
          2000000,
          5000000,
          3000000,
          5000000,
          5000000,
          5000000,
          4000000,
          5000000,
          3000000,
          4000000,
          5000000,
          4000000,
          2000000,
          2000000,
          1000000,
          2000000,
          2000000,
          4000000,
          3000000,
          4000000,
          2000000,
          1000000,
          1000000,
          3000000,
          2000000,
          2000000,
          4000000,
          2000000,
          1000000,
          2000000,
          4000000,
          1000000,
          1000000,
          3000000,
          1000000,
          2000000,
          3000000,
          4000000,
          1000000,
          1000000,
          3000000,
          4000000,
          3000000,
          3000000,
          3000000,
          5000000,
          2000000,
          2000000,
          5000000,
          4000000,
          2000000,
          2000000,
          3000000,
          4000000,
          1000000,
          3000000,
          5000000,
          4000000,
          5000000,
          2000000,
          3000000,
          5000000,
          4000000,
          2000000,
          3000000,
          5000000,
          5000000,
          3000000,
          2000000,
          1000000,
          5000000,
          4000000,
          4000000,
          1000000,
          5000000,
          3000000,
          2000000,
          3000000,
          3000000,
          1000000,
          5000000,
          3000000,
          2000000,
          2000000,
          2000000,
          1000000,
          1000000,
          1000000,
          2000000,
          2000000,
          3000000,
          5000000,
          4000000,
          3000000,
          2000000,
          3000000,
          1000000,
          3000000,
          3000000,
          4000000,
          1000000,
          5000000,
          4000000,
          2000000,
          4000000,
          3000000,
          5000000,
          1000000,
          2000000,
          4000000,
          5000000,
          5000000,
          2000000,
          1000000,
          1000000,
          1000000,
          3000000,
          4000000,
          2000000,
          1000000,
          2000000,
          2000000,
          4000000,
          3000000,
          3000000,
          3000000,
          5000000,
          4000000,
          5000000,
          4000000,
          1000000,
          2000000,
          4000000,
          5000000,
          4000000,
          3000000,
          2000000,
          5000000,
          3000000,
          5000000,
          2000000,
          4000000,
          2000000,
          2000000,
          5000000,
          3000000,
          4000000,
          3000000,
          1000000,
          2000000,
          2000000,
          3000000,
          3000000,
          1000000,
          3000000,
          3000000,
          1000000,
          1000000,
          1000000,
          4000000,
          2000000,
          3000000,
          5000000,
          5000000,
          2000000,
          2000000,
          5000000,
          1000000,
          1000000,
          4000000,
          5000000,
          4000000,
          1000000,
          4000000,
          5000000,
          4000000,
          1000000,
          4000000,
          5000000,
          4000000,
          1000000,
          4000000,
          2000000,
          5000000,
          1000000,
          4000000,
          5000000,
          2000000,
          1000000,
          2000000,
          1000000,
          4000000,
          1000000,
          5000000,
          4000000,
          5000000,
          4000000,
          5000000,
          5000000,
          1000000,
          1000000,
          1000000,
          2000000,
          2000000,
          5000000,
          4000000,
          4000000,
          2000000,
          1000000,
          1000000,
          2000000,
          1000000,
          1000000,
          2000000,
          4000000,
          2000000,
          4000000,
          1000000,
          5000000,
          3000000,
          4000000,
          3000000,
          4000000,
          3000000,
          4000000,
          3000000,
          4000000,
          1000000,
          5000000,
          1000000,
          4000000,
          4000000,
          3000000,
          5000000,
          1000000,
          3000000,
          4000000,
          4000000,
          3000000,
          5000000,
          5000000,
          2000000,
          5000000,
          5000000,
          3000000,
          1000000,
          2000000,
          4000000,
          5000000,
          3000000,
          1000000,
          2000000,
          4000000,
          5000000,
          2000000,
          2000000,
          1000000,
          4000000,
          4000000,
          4000000,
          1000000,
          1000000,
          5000000,
          5000000,
          1000000,
          2000000,
          5000000,
          2000000,
          1000000,
          2000000,
          4000000,
          3000000,
          1000000,
          4000000,
          4000000,
          5000000,
          1000000,
          3000000,
          1000000,
          1000000,
          3000000,
          1000000,
          2000000,
          2000000,
          5000000,
          4000000,
          2000000,
          3000000,
          5000000,
          5000000,
          4000000,
          3000000,
          3000000,
          4000000,
          2000000,
          5000000,
          3000000,
          5000000,
          3000000,
          4000000,
          5000000,
          2000000,
          2000000,
          3000000,
          1000000,
          3000000
         ],
         "y0": " ",
         "yaxis": "y"
        }
       ],
       "layout": {
        "autosize": true,
        "boxmode": "group",
        "legend": {
         "tracegroupgap": 0
        },
        "margin": {
         "t": 60
        },
        "template": {
         "data": {
          "bar": [
           {
            "error_x": {
             "color": "#2a3f5f"
            },
            "error_y": {
             "color": "#2a3f5f"
            },
            "marker": {
             "line": {
              "color": "#E5ECF6",
              "width": 0.5
             },
             "pattern": {
              "fillmode": "overlay",
              "size": 10,
              "solidity": 0.2
             }
            },
            "type": "bar"
           }
          ],
          "barpolar": [
           {
            "marker": {
             "line": {
              "color": "#E5ECF6",
              "width": 0.5
             },
             "pattern": {
              "fillmode": "overlay",
              "size": 10,
              "solidity": 0.2
             }
            },
            "type": "barpolar"
           }
          ],
          "carpet": [
           {
            "aaxis": {
             "endlinecolor": "#2a3f5f",
             "gridcolor": "white",
             "linecolor": "white",
             "minorgridcolor": "white",
             "startlinecolor": "#2a3f5f"
            },
            "baxis": {
             "endlinecolor": "#2a3f5f",
             "gridcolor": "white",
             "linecolor": "white",
             "minorgridcolor": "white",
             "startlinecolor": "#2a3f5f"
            },
            "type": "carpet"
           }
          ],
          "choropleth": [
           {
            "colorbar": {
             "outlinewidth": 0,
             "ticks": ""
            },
            "type": "choropleth"
           }
          ],
          "contour": [
           {
            "colorbar": {
             "outlinewidth": 0,
             "ticks": ""
            },
            "colorscale": [
             [
              0,
              "#0d0887"
             ],
             [
              0.1111111111111111,
              "#46039f"
             ],
             [
              0.2222222222222222,
              "#7201a8"
             ],
             [
              0.3333333333333333,
              "#9c179e"
             ],
             [
              0.4444444444444444,
              "#bd3786"
             ],
             [
              0.5555555555555556,
              "#d8576b"
             ],
             [
              0.6666666666666666,
              "#ed7953"
             ],
             [
              0.7777777777777778,
              "#fb9f3a"
             ],
             [
              0.8888888888888888,
              "#fdca26"
             ],
             [
              1,
              "#f0f921"
             ]
            ],
            "type": "contour"
           }
          ],
          "contourcarpet": [
           {
            "colorbar": {
             "outlinewidth": 0,
             "ticks": ""
            },
            "type": "contourcarpet"
           }
          ],
          "heatmap": [
           {
            "colorbar": {
             "outlinewidth": 0,
             "ticks": ""
            },
            "colorscale": [
             [
              0,
              "#0d0887"
             ],
             [
              0.1111111111111111,
              "#46039f"
             ],
             [
              0.2222222222222222,
              "#7201a8"
             ],
             [
              0.3333333333333333,
              "#9c179e"
             ],
             [
              0.4444444444444444,
              "#bd3786"
             ],
             [
              0.5555555555555556,
              "#d8576b"
             ],
             [
              0.6666666666666666,
              "#ed7953"
             ],
             [
              0.7777777777777778,
              "#fb9f3a"
             ],
             [
              0.8888888888888888,
              "#fdca26"
             ],
             [
              1,
              "#f0f921"
             ]
            ],
            "type": "heatmap"
           }
          ],
          "heatmapgl": [
           {
            "colorbar": {
             "outlinewidth": 0,
             "ticks": ""
            },
            "colorscale": [
             [
              0,
              "#0d0887"
             ],
             [
              0.1111111111111111,
              "#46039f"
             ],
             [
              0.2222222222222222,
              "#7201a8"
             ],
             [
              0.3333333333333333,
              "#9c179e"
             ],
             [
              0.4444444444444444,
              "#bd3786"
             ],
             [
              0.5555555555555556,
              "#d8576b"
             ],
             [
              0.6666666666666666,
              "#ed7953"
             ],
             [
              0.7777777777777778,
              "#fb9f3a"
             ],
             [
              0.8888888888888888,
              "#fdca26"
             ],
             [
              1,
              "#f0f921"
             ]
            ],
            "type": "heatmapgl"
           }
          ],
          "histogram": [
           {
            "marker": {
             "pattern": {
              "fillmode": "overlay",
              "size": 10,
              "solidity": 0.2
             }
            },
            "type": "histogram"
           }
          ],
          "histogram2d": [
           {
            "colorbar": {
             "outlinewidth": 0,
             "ticks": ""
            },
            "colorscale": [
             [
              0,
              "#0d0887"
             ],
             [
              0.1111111111111111,
              "#46039f"
             ],
             [
              0.2222222222222222,
              "#7201a8"
             ],
             [
              0.3333333333333333,
              "#9c179e"
             ],
             [
              0.4444444444444444,
              "#bd3786"
             ],
             [
              0.5555555555555556,
              "#d8576b"
             ],
             [
              0.6666666666666666,
              "#ed7953"
             ],
             [
              0.7777777777777778,
              "#fb9f3a"
             ],
             [
              0.8888888888888888,
              "#fdca26"
             ],
             [
              1,
              "#f0f921"
             ]
            ],
            "type": "histogram2d"
           }
          ],
          "histogram2dcontour": [
           {
            "colorbar": {
             "outlinewidth": 0,
             "ticks": ""
            },
            "colorscale": [
             [
              0,
              "#0d0887"
             ],
             [
              0.1111111111111111,
              "#46039f"
             ],
             [
              0.2222222222222222,
              "#7201a8"
             ],
             [
              0.3333333333333333,
              "#9c179e"
             ],
             [
              0.4444444444444444,
              "#bd3786"
             ],
             [
              0.5555555555555556,
              "#d8576b"
             ],
             [
              0.6666666666666666,
              "#ed7953"
             ],
             [
              0.7777777777777778,
              "#fb9f3a"
             ],
             [
              0.8888888888888888,
              "#fdca26"
             ],
             [
              1,
              "#f0f921"
             ]
            ],
            "type": "histogram2dcontour"
           }
          ],
          "mesh3d": [
           {
            "colorbar": {
             "outlinewidth": 0,
             "ticks": ""
            },
            "type": "mesh3d"
           }
          ],
          "parcoords": [
           {
            "line": {
             "colorbar": {
              "outlinewidth": 0,
              "ticks": ""
             }
            },
            "type": "parcoords"
           }
          ],
          "pie": [
           {
            "automargin": true,
            "type": "pie"
           }
          ],
          "scatter": [
           {
            "fillpattern": {
             "fillmode": "overlay",
             "size": 10,
             "solidity": 0.2
            },
            "type": "scatter"
           }
          ],
          "scatter3d": [
           {
            "line": {
             "colorbar": {
              "outlinewidth": 0,
              "ticks": ""
             }
            },
            "marker": {
             "colorbar": {
              "outlinewidth": 0,
              "ticks": ""
             }
            },
            "type": "scatter3d"
           }
          ],
          "scattercarpet": [
           {
            "marker": {
             "colorbar": {
              "outlinewidth": 0,
              "ticks": ""
             }
            },
            "type": "scattercarpet"
           }
          ],
          "scattergeo": [
           {
            "marker": {
             "colorbar": {
              "outlinewidth": 0,
              "ticks": ""
             }
            },
            "type": "scattergeo"
           }
          ],
          "scattergl": [
           {
            "marker": {
             "colorbar": {
              "outlinewidth": 0,
              "ticks": ""
             }
            },
            "type": "scattergl"
           }
          ],
          "scattermapbox": [
           {
            "marker": {
             "colorbar": {
              "outlinewidth": 0,
              "ticks": ""
             }
            },
            "type": "scattermapbox"
           }
          ],
          "scatterpolar": [
           {
            "marker": {
             "colorbar": {
              "outlinewidth": 0,
              "ticks": ""
             }
            },
            "type": "scatterpolar"
           }
          ],
          "scatterpolargl": [
           {
            "marker": {
             "colorbar": {
              "outlinewidth": 0,
              "ticks": ""
             }
            },
            "type": "scatterpolargl"
           }
          ],
          "scatterternary": [
           {
            "marker": {
             "colorbar": {
              "outlinewidth": 0,
              "ticks": ""
             }
            },
            "type": "scatterternary"
           }
          ],
          "surface": [
           {
            "colorbar": {
             "outlinewidth": 0,
             "ticks": ""
            },
            "colorscale": [
             [
              0,
              "#0d0887"
             ],
             [
              0.1111111111111111,
              "#46039f"
             ],
             [
              0.2222222222222222,
              "#7201a8"
             ],
             [
              0.3333333333333333,
              "#9c179e"
             ],
             [
              0.4444444444444444,
              "#bd3786"
             ],
             [
              0.5555555555555556,
              "#d8576b"
             ],
             [
              0.6666666666666666,
              "#ed7953"
             ],
             [
              0.7777777777777778,
              "#fb9f3a"
             ],
             [
              0.8888888888888888,
              "#fdca26"
             ],
             [
              1,
              "#f0f921"
             ]
            ],
            "type": "surface"
           }
          ],
          "table": [
           {
            "cells": {
             "fill": {
              "color": "#EBF0F8"
             },
             "line": {
              "color": "white"
             }
            },
            "header": {
             "fill": {
              "color": "#C8D4E3"
             },
             "line": {
              "color": "white"
             }
            },
            "type": "table"
           }
          ]
         },
         "layout": {
          "annotationdefaults": {
           "arrowcolor": "#2a3f5f",
           "arrowhead": 0,
           "arrowwidth": 1
          },
          "autotypenumbers": "strict",
          "coloraxis": {
           "colorbar": {
            "outlinewidth": 0,
            "ticks": ""
           }
          },
          "colorscale": {
           "diverging": [
            [
             0,
             "#8e0152"
            ],
            [
             0.1,
             "#c51b7d"
            ],
            [
             0.2,
             "#de77ae"
            ],
            [
             0.3,
             "#f1b6da"
            ],
            [
             0.4,
             "#fde0ef"
            ],
            [
             0.5,
             "#f7f7f7"
            ],
            [
             0.6,
             "#e6f5d0"
            ],
            [
             0.7,
             "#b8e186"
            ],
            [
             0.8,
             "#7fbc41"
            ],
            [
             0.9,
             "#4d9221"
            ],
            [
             1,
             "#276419"
            ]
           ],
           "sequential": [
            [
             0,
             "#0d0887"
            ],
            [
             0.1111111111111111,
             "#46039f"
            ],
            [
             0.2222222222222222,
             "#7201a8"
            ],
            [
             0.3333333333333333,
             "#9c179e"
            ],
            [
             0.4444444444444444,
             "#bd3786"
            ],
            [
             0.5555555555555556,
             "#d8576b"
            ],
            [
             0.6666666666666666,
             "#ed7953"
            ],
            [
             0.7777777777777778,
             "#fb9f3a"
            ],
            [
             0.8888888888888888,
             "#fdca26"
            ],
            [
             1,
             "#f0f921"
            ]
           ],
           "sequentialminus": [
            [
             0,
             "#0d0887"
            ],
            [
             0.1111111111111111,
             "#46039f"
            ],
            [
             0.2222222222222222,
             "#7201a8"
            ],
            [
             0.3333333333333333,
             "#9c179e"
            ],
            [
             0.4444444444444444,
             "#bd3786"
            ],
            [
             0.5555555555555556,
             "#d8576b"
            ],
            [
             0.6666666666666666,
             "#ed7953"
            ],
            [
             0.7777777777777778,
             "#fb9f3a"
            ],
            [
             0.8888888888888888,
             "#fdca26"
            ],
            [
             1,
             "#f0f921"
            ]
           ]
          },
          "colorway": [
           "#636efa",
           "#EF553B",
           "#00cc96",
           "#ab63fa",
           "#FFA15A",
           "#19d3f3",
           "#FF6692",
           "#B6E880",
           "#FF97FF",
           "#FECB52"
          ],
          "font": {
           "color": "#2a3f5f"
          },
          "geo": {
           "bgcolor": "white",
           "lakecolor": "white",
           "landcolor": "#E5ECF6",
           "showlakes": true,
           "showland": true,
           "subunitcolor": "white"
          },
          "hoverlabel": {
           "align": "left"
          },
          "hovermode": "closest",
          "mapbox": {
           "style": "light"
          },
          "paper_bgcolor": "white",
          "plot_bgcolor": "#E5ECF6",
          "polar": {
           "angularaxis": {
            "gridcolor": "white",
            "linecolor": "white",
            "ticks": ""
           },
           "bgcolor": "#E5ECF6",
           "radialaxis": {
            "gridcolor": "white",
            "linecolor": "white",
            "ticks": ""
           }
          },
          "scene": {
           "xaxis": {
            "backgroundcolor": "#E5ECF6",
            "gridcolor": "white",
            "gridwidth": 2,
            "linecolor": "white",
            "showbackground": true,
            "ticks": "",
            "zerolinecolor": "white"
           },
           "yaxis": {
            "backgroundcolor": "#E5ECF6",
            "gridcolor": "white",
            "gridwidth": 2,
            "linecolor": "white",
            "showbackground": true,
            "ticks": "",
            "zerolinecolor": "white"
           },
           "zaxis": {
            "backgroundcolor": "#E5ECF6",
            "gridcolor": "white",
            "gridwidth": 2,
            "linecolor": "white",
            "showbackground": true,
            "ticks": "",
            "zerolinecolor": "white"
           }
          },
          "shapedefaults": {
           "line": {
            "color": "#2a3f5f"
           }
          },
          "ternary": {
           "aaxis": {
            "gridcolor": "white",
            "linecolor": "white",
            "ticks": ""
           },
           "baxis": {
            "gridcolor": "white",
            "linecolor": "white",
            "ticks": ""
           },
           "bgcolor": "#E5ECF6",
           "caxis": {
            "gridcolor": "white",
            "linecolor": "white",
            "ticks": ""
           }
          },
          "title": {
           "x": 0.05
          },
          "xaxis": {
           "automargin": true,
           "gridcolor": "white",
           "linecolor": "white",
           "ticks": "",
           "title": {
            "standoff": 15
           },
           "zerolinecolor": "white",
           "zerolinewidth": 2
          },
          "yaxis": {
           "automargin": true,
           "gridcolor": "white",
           "linecolor": "white",
           "ticks": "",
           "title": {
            "standoff": 15
           },
           "zerolinecolor": "white",
           "zerolinewidth": 2
          }
         }
        },
        "xaxis": {
         "anchor": "y",
         "autorange": true,
         "domain": [
          0,
          1
         ],
         "range": [
          -0.5,
          1.5
         ],
         "title": {
          "text": "variable"
         },
         "type": "category"
        },
        "yaxis": {
         "anchor": "x",
         "autorange": true,
         "domain": [
          0,
          1
         ],
         "range": [
          -277746.1111111111,
          5277776.111111111
         ],
         "title": {
          "text": "value"
         },
         "type": "linear"
        }
       }
      },
      "image/png": "[encoded data removed]",
      "text/html": [
       "<div>                            <div id=\"247cdf27-1ba6-42aa-9b38-119271a5a7ed\" class=\"plotly-graph-div\" style=\"height:525px; width:100%;\"></div>            <script type=\"text/javascript\">                require([\"plotly\"], function(Plotly) {                    window.PLOTLYENV=window.PLOTLYENV || {};                                    if (document.getElementById(\"247cdf27-1ba6-42aa-9b38-119271a5a7ed\")) {                    Plotly.newPlot(                        \"247cdf27-1ba6-42aa-9b38-119271a5a7ed\",                        [{\"alignmentgroup\":\"True\",\"hovertemplate\":\"variable=%{x}<br>value=%{y}<extra></extra>\",\"legendgroup\":\"\",\"marker\":{\"color\":\"#636efa\"},\"name\":\"\",\"notched\":false,\"offsetgroup\":\"\",\"orientation\":\"v\",\"showlegend\":false,\"x\":[\"area\",\"area\",\"area\",\"area\",\"area\",\"area\",\"area\",\"area\",\"area\",\"area\",\"area\",\"area\",\"area\",\"area\",\"area\",\"area\",\"area\",\"area\",\"area\",\"area\",\"area\",\"area\",\"area\",\"area\",\"area\",\"area\",\"area\",\"area\",\"area\",\"area\",\"area\",\"area\",\"area\",\"area\",\"area\",\"area\",\"area\",\"area\",\"area\",\"area\",\"area\",\"area\",\"area\",\"area\",\"area\",\"area\",\"area\",\"area\",\"area\",\"area\",\"area\",\"area\",\"area\",\"area\",\"area\",\"area\",\"area\",\"area\",\"area\",\"area\",\"area\",\"area\",\"area\",\"area\",\"area\",\"area\",\"area\",\"area\",\"area\",\"area\",\"area\",\"area\",\"area\",\"area\",\"area\",\"area\",\"area\",\"area\",\"area\",\"area\",\"area\",\"area\",\"area\",\"area\",\"area\",\"area\",\"area\",\"area\",\"area\",\"area\",\"area\",\"area\",\"area\",\"area\",\"area\",\"area\",\"area\",\"area\",\"area\",\"area\",\"area\",\"area\",\"area\",\"area\",\"area\",\"area\",\"area\",\"area\",\"area\",\"area\",\"area\",\"area\",\"area\",\"area\",\"area\",\"area\",\"area\",\"area\",\"area\",\"area\",\"area\",\"area\",\"area\",\"area\",\"area\",\"area\",\"area\",\"area\",\"area\",\"area\",\"area\",\"area\",\"area\",\"area\",\"area\",\"area\",\"area\",\"area\",\"area\",\"area\",\"area\",\"area\",\"area\",\"area\",\"area\",\"area\",\"area\",\"area\",\"area\",\"area\",\"area\",\"area\",\"area\",\"area\",\"area\",\"area\",\"area\",\"area\",\"area\",\"area\",\"area\",\"area\",\"area\",\"area\",\"area\",\"area\",\"area\",\"area\",\"area\",\"area\",\"area\",\"area\",\"area\",\"area\",\"area\",\"area\",\"area\",\"area\",\"area\",\"area\",\"area\",\"area\",\"area\",\"area\",\"area\",\"area\",\"area\",\"area\",\"area\",\"area\",\"area\",\"area\",\"area\",\"area\",\"area\",\"area\",\"area\",\"area\",\"area\",\"area\",\"area\",\"area\",\"area\",\"area\",\"area\",\"area\",\"area\",\"area\",\"area\",\"area\",\"area\",\"area\",\"area\",\"area\",\"area\",\"area\",\"area\",\"area\",\"area\",\"area\",\"area\",\"area\",\"area\",\"area\",\"area\",\"area\",\"area\",\"area\",\"area\",\"area\",\"area\",\"area\",\"area\",\"area\",\"area\",\"area\",\"area\",\"area\",\"area\",\"area\",\"area\",\"area\",\"area\",\"area\",\"area\",\"area\",\"area\",\"area\",\"area\",\"area\",\"area\",\"area\",\"area\",\"area\",\"area\",\"area\",\"area\",\"area\",\"area\",\"area\",\"area\",\"area\",\"area\",\"area\",\"area\",\"area\",\"area\",\"area\",\"area\",\"area\",\"area\",\"area\",\"area\",\"area\",\"area\",\"area\",\"area\",\"area\",\"area\",\"area\",\"area\",\"area\",\"area\",\"area\",\"area\",\"area\",\"area\",\"area\",\"area\",\"area\",\"area\",\"area\",\"area\",\"area\",\"area\",\"area\",\"area\",\"area\",\"area\",\"area\",\"area\",\"area\",\"area\",\"area\",\"area\",\"area\",\"area\",\"area\",\"area\",\"area\",\"area\",\"area\",\"area\",\"area\",\"area\",\"area\",\"area\",\"area\",\"area\",\"area\",\"area\",\"area\",\"area\",\"area\",\"area\",\"area\",\"area\",\"area\",\"area\",\"area\",\"area\",\"area\",\"area\",\"area\",\"area\",\"area\",\"area\",\"area\",\"area\",\"area\",\"area\",\"area\",\"area\",\"area\",\"area\",\"area\",\"area\",\"area\",\"area\",\"area\",\"area\",\"area\",\"area\",\"area\",\"area\",\"area\",\"area\",\"area\",\"area\",\"area\",\"area\",\"area\",\"area\",\"area\",\"area\",\"area\",\"area\",\"area\",\"area\",\"area\",\"area\",\"area\",\"area\",\"area\",\"area\",\"area\",\"area\",\"area\",\"area\",\"area\",\"area\",\"area\",\"area\",\"area\",\"area\",\"area\",\"area\",\"area\",\"area\",\"area\",\"area\",\"area\",\"area\",\"area\",\"area\",\"area\",\"area\",\"area\",\"area\",\"area\",\"area\",\"area\",\"area\",\"area\",\"area\",\"area\",\"area\",\"area\",\"area\",\"area\",\"area\",\"area\",\"area\",\"area\",\"area\",\"area\",\"area\",\"area\",\"area\",\"area\",\"area\",\"area\",\"area\",\"area\",\"area\",\"area\",\"area\",\"area\",\"area\",\"area\",\"area\",\"area\",\"area\",\"area\",\"area\",\"area\",\"area\",\"area\",\"area\",\"area\",\"area\",\"area\",\"area\",\"area\",\"area\",\"area\",\"area\",\"area\",\"area\",\"area\",\"area\",\"area\",\"area\",\"area\",\"area\",\"area\",\"area\",\"area\",\"area\",\"area\",\"area\",\"area\",\"area\",\"area\",\"area\",\"area\",\"area\",\"area\",\"area\",\"area\",\"area\",\"area\",\"area\",\"area\",\"area\",\"area\",\"area\",\"area\",\"area\",\"area\",\"area\",\"area\",\"area\",\"area\",\"area\",\"area\",\"area\",\"area\",\"area\",\"area\",\"area\",\"area\",\"area\",\"area\",\"area\",\"area\",\"area\",\"area\",\"area\",\"area\",\"area\",\"area\",\"area\",\"area\",\"area\",\"area\",\"area\",\"area\",\"area\",\"area\",\"area\",\"area\",\"area\",\"area\",\"area\",\"area\",\"area\",\"area\",\"area\",\"area\",\"area\",\"area\",\"area\",\"area\",\"area\",\"area\",\"area\",\"area\",\"area\",\"area\",\"area\",\"area\",\"area\",\"area\",\"area\",\"area\",\"area\",\"area\",\"area\",\"area\",\"area\",\"area\",\"area\",\"area\",\"area\",\"area\",\"area\",\"area\",\"area\",\"area\",\"area\",\"area\",\"area\",\"area\",\"area\",\"area\",\"area\",\"area\",\"area\",\"area\",\"area\",\"area\",\"area\",\"area\",\"area\",\"area\",\"area\",\"area\",\"area\",\"area\",\"area\",\"area\",\"area\",\"area\",\"area\",\"area\",\"area\",\"area\",\"area\",\"area\",\"area\",\"area\",\"area\",\"area\",\"area\",\"area\",\"area\",\"area\",\"area\",\"area\",\"area\",\"area\",\"area\",\"area\",\"area\",\"area\",\"area\",\"area\",\"area\",\"area\",\"area\",\"area\",\"area\",\"area\",\"area\",\"area\",\"area\",\"area\",\"area\",\"area\",\"area\",\"area\",\"area\",\"area\",\"area\",\"area\",\"area\",\"area\",\"area\",\"area\",\"area\",\"area\",\"area\",\"area\",\"area\",\"area\",\"area\",\"area\",\"area\",\"area\",\"area\",\"area\",\"area\",\"area\",\"area\",\"area\",\"area\",\"area\",\"area\",\"area\",\"area\",\"area\",\"area\",\"area\",\"area\",\"area\",\"area\",\"area\",\"area\",\"area\",\"area\",\"area\",\"area\",\"area\",\"area\",\"area\",\"area\",\"area\",\"area\",\"area\",\"area\",\"area\",\"area\",\"area\",\"area\",\"area\",\"area\",\"area\",\"area\",\"area\",\"area\",\"area\",\"area\",\"area\",\"area\",\"area\",\"area\",\"area\",\"area\",\"area\",\"area\",\"area\",\"area\",\"area\",\"area\",\"area\",\"area\",\"area\",\"area\",\"area\",\"area\",\"area\",\"area\",\"area\",\"area\",\"area\",\"area\",\"area\",\"area\",\"area\",\"area\",\"area\",\"area\",\"area\",\"area\",\"area\",\"area\",\"area\",\"area\",\"area\",\"area\",\"area\",\"area\",\"area\",\"area\",\"area\",\"area\",\"area\",\"area\",\"area\",\"area\",\"area\",\"area\",\"area\",\"area\",\"area\",\"area\",\"area\",\"area\",\"area\",\"area\",\"area\",\"area\",\"area\",\"area\",\"area\",\"area\",\"area\",\"area\",\"area\",\"area\",\"area\",\"area\",\"area\",\"area\",\"area\",\"area\",\"area\",\"area\",\"area\",\"area\",\"area\",\"area\",\"area\",\"area\",\"area\",\"area\",\"area\",\"area\",\"area\",\"area\",\"area\",\"area\",\"area\",\"area\",\"area\",\"area\",\"area\",\"area\",\"area\",\"area\",\"area\",\"area\",\"area\",\"area\",\"area\",\"area\",\"area\",\"area\",\"area\",\"area\",\"area\",\"area\",\"area\",\"area\",\"area\",\"area\",\"area\",\"area\",\"area\",\"area\",\"area\",\"area\",\"area\",\"area\",\"area\",\"area\",\"area\",\"area\",\"area\",\"area\",\"area\",\"area\",\"area\",\"area\",\"area\",\"area\",\"area\",\"area\",\"area\",\"area\",\"area\",\"area\",\"area\",\"area\",\"area\",\"area\",\"area\",\"area\",\"area\",\"area\",\"area\",\"area\",\"area\",\"area\",\"area\",\"area\",\"area\",\"area\",\"area\",\"area\",\"area\",\"area\",\"area\",\"area\",\"area\",\"area\",\"area\",\"area\",\"area\",\"area\",\"area\",\"area\",\"area\",\"area\",\"area\",\"area\",\"area\",\"area\",\"area\",\"area\",\"area\",\"area\",\"area\",\"area\",\"area\",\"area\",\"area\",\"area\",\"area\",\"area\",\"area\",\"area\",\"area\",\"area\",\"area\",\"area\",\"area\",\"area\",\"area\",\"area\",\"area\",\"area\",\"area\",\"area\",\"area\",\"area\",\"area\",\"area\",\"area\",\"area\",\"area\",\"area\",\"area\",\"area\",\"area\",\"area\",\"area\",\"area\",\"area\",\"area\",\"area\",\"area\",\"area\",\"area\",\"area\",\"area\",\"area\",\"area\",\"area\",\"area\",\"area\",\"area\",\"area\",\"area\",\"area\",\"area\",\"area\",\"area\",\"area\",\"area\",\"area\",\"area\",\"area\",\"area\",\"area\",\"area\",\"area\",\"area\",\"area\",\"area\",\"area\",\"area\",\"area\",\"area\",\"area\",\"area\",\"area\",\"area\",\"area\",\"area\",\"area\",\"area\",\"area\",\"area\",\"area\",\"area\",\"area\",\"area\",\"area\",\"area\",\"area\",\"area\",\"area\",\"area\",\"area\",\"area\",\"area\",\"area\",\"area\",\"area\",\"area\",\"area\",\"area\",\"area\",\"area\",\"area\",\"area\",\"area\",\"area\",\"area\",\"area\",\"area\",\"area\",\"area\",\"area\",\"area\",\"area\",\"area\",\"area\",\"area\",\"area\",\"area\",\"area\",\"area\",\"area\",\"area\",\"area\",\"area\",\"area\",\"area\",\"area\",\"area\",\"area\",\"area\",\"area\",\"area\",\"area\",\"area\",\"area\",\"area\",\"area\",\"area\",\"area\",\"area\",\"area\",\"area\",\"area\",\"area\",\"area\",\"rent\",\"rent\",\"rent\",\"rent\",\"rent\",\"rent\",\"rent\",\"rent\",\"rent\",\"rent\",\"rent\",\"rent\",\"rent\",\"rent\",\"rent\",\"rent\",\"rent\",\"rent\",\"rent\",\"rent\",\"rent\",\"rent\",\"rent\",\"rent\",\"rent\",\"rent\",\"rent\",\"rent\",\"rent\",\"rent\",\"rent\",\"rent\",\"rent\",\"rent\",\"rent\",\"rent\",\"rent\",\"rent\",\"rent\",\"rent\",\"rent\",\"rent\",\"rent\",\"rent\",\"rent\",\"rent\",\"rent\",\"rent\",\"rent\",\"rent\",\"rent\",\"rent\",\"rent\",\"rent\",\"rent\",\"rent\",\"rent\",\"rent\",\"rent\",\"rent\",\"rent\",\"rent\",\"rent\",\"rent\",\"rent\",\"rent\",\"rent\",\"rent\",\"rent\",\"rent\",\"rent\",\"rent\",\"rent\",\"rent\",\"rent\",\"rent\",\"rent\",\"rent\",\"rent\",\"rent\",\"rent\",\"rent\",\"rent\",\"rent\",\"rent\",\"rent\",\"rent\",\"rent\",\"rent\",\"rent\",\"rent\",\"rent\",\"rent\",\"rent\",\"rent\",\"rent\",\"rent\",\"rent\",\"rent\",\"rent\",\"rent\",\"rent\",\"rent\",\"rent\",\"rent\",\"rent\",\"rent\",\"rent\",\"rent\",\"rent\",\"rent\",\"rent\",\"rent\",\"rent\",\"rent\",\"rent\",\"rent\",\"rent\",\"rent\",\"rent\",\"rent\",\"rent\",\"rent\",\"rent\",\"rent\",\"rent\",\"rent\",\"rent\",\"rent\",\"rent\",\"rent\",\"rent\",\"rent\",\"rent\",\"rent\",\"rent\",\"rent\",\"rent\",\"rent\",\"rent\",\"rent\",\"rent\",\"rent\",\"rent\",\"rent\",\"rent\",\"rent\",\"rent\",\"rent\",\"rent\",\"rent\",\"rent\",\"rent\",\"rent\",\"rent\",\"rent\",\"rent\",\"rent\",\"rent\",\"rent\",\"rent\",\"rent\",\"rent\",\"rent\",\"rent\",\"rent\",\"rent\",\"rent\",\"rent\",\"rent\",\"rent\",\"rent\",\"rent\",\"rent\",\"rent\",\"rent\",\"rent\",\"rent\",\"rent\",\"rent\",\"rent\",\"rent\",\"rent\",\"rent\",\"rent\",\"rent\",\"rent\",\"rent\",\"rent\",\"rent\",\"rent\",\"rent\",\"rent\",\"rent\",\"rent\",\"rent\",\"rent\",\"rent\",\"rent\",\"rent\",\"rent\",\"rent\",\"rent\",\"rent\",\"rent\",\"rent\",\"rent\",\"rent\",\"rent\",\"rent\",\"rent\",\"rent\",\"rent\",\"rent\",\"rent\",\"rent\",\"rent\",\"rent\",\"rent\",\"rent\",\"rent\",\"rent\",\"rent\",\"rent\",\"rent\",\"rent\",\"rent\",\"rent\",\"rent\",\"rent\",\"rent\",\"rent\",\"rent\",\"rent\",\"rent\",\"rent\",\"rent\",\"rent\",\"rent\",\"rent\",\"rent\",\"rent\",\"rent\",\"rent\",\"rent\",\"rent\",\"rent\",\"rent\",\"rent\",\"rent\",\"rent\",\"rent\",\"rent\",\"rent\",\"rent\",\"rent\",\"rent\",\"rent\",\"rent\",\"rent\",\"rent\",\"rent\",\"rent\",\"rent\",\"rent\",\"rent\",\"rent\",\"rent\",\"rent\",\"rent\",\"rent\",\"rent\",\"rent\",\"rent\",\"rent\",\"rent\",\"rent\",\"rent\",\"rent\",\"rent\",\"rent\",\"rent\",\"rent\",\"rent\",\"rent\",\"rent\",\"rent\",\"rent\",\"rent\",\"rent\",\"rent\",\"rent\",\"rent\",\"rent\",\"rent\",\"rent\",\"rent\",\"rent\",\"rent\",\"rent\",\"rent\",\"rent\",\"rent\",\"rent\",\"rent\",\"rent\",\"rent\",\"rent\",\"rent\",\"rent\",\"rent\",\"rent\",\"rent\",\"rent\",\"rent\",\"rent\",\"rent\",\"rent\",\"rent\",\"rent\",\"rent\",\"rent\",\"rent\",\"rent\",\"rent\",\"rent\",\"rent\",\"rent\",\"rent\",\"rent\",\"rent\",\"rent\",\"rent\",\"rent\",\"rent\",\"rent\",\"rent\",\"rent\",\"rent\",\"rent\",\"rent\",\"rent\",\"rent\",\"rent\",\"rent\",\"rent\",\"rent\",\"rent\",\"rent\",\"rent\",\"rent\",\"rent\",\"rent\",\"rent\",\"rent\",\"rent\",\"rent\",\"rent\",\"rent\",\"rent\",\"rent\",\"rent\",\"rent\",\"rent\",\"rent\",\"rent\",\"rent\",\"rent\",\"rent\",\"rent\",\"rent\",\"rent\",\"rent\",\"rent\",\"rent\",\"rent\",\"rent\",\"rent\",\"rent\",\"rent\",\"rent\",\"rent\",\"rent\",\"rent\",\"rent\",\"rent\",\"rent\",\"rent\",\"rent\",\"rent\",\"rent\",\"rent\",\"rent\",\"rent\",\"rent\",\"rent\",\"rent\",\"rent\",\"rent\",\"rent\",\"rent\",\"rent\",\"rent\",\"rent\",\"rent\",\"rent\",\"rent\",\"rent\",\"rent\",\"rent\",\"rent\",\"rent\",\"rent\",\"rent\",\"rent\",\"rent\",\"rent\",\"rent\",\"rent\",\"rent\",\"rent\",\"rent\",\"rent\",\"rent\",\"rent\",\"rent\",\"rent\",\"rent\",\"rent\",\"rent\",\"rent\",\"rent\",\"rent\",\"rent\",\"rent\",\"rent\",\"rent\",\"rent\",\"rent\",\"rent\",\"rent\",\"rent\",\"rent\",\"rent\",\"rent\",\"rent\",\"rent\",\"rent\",\"rent\",\"rent\",\"rent\",\"rent\",\"rent\",\"rent\",\"rent\",\"rent\",\"rent\",\"rent\",\"rent\",\"rent\",\"rent\",\"rent\",\"rent\",\"rent\",\"rent\",\"rent\",\"rent\",\"rent\",\"rent\",\"rent\",\"rent\",\"rent\",\"rent\",\"rent\",\"rent\",\"rent\",\"rent\",\"rent\",\"rent\",\"rent\",\"rent\",\"rent\",\"rent\",\"rent\",\"rent\",\"rent\",\"rent\",\"rent\",\"rent\",\"rent\",\"rent\",\"rent\",\"rent\",\"rent\",\"rent\",\"rent\",\"rent\",\"rent\",\"rent\",\"rent\",\"rent\",\"rent\",\"rent\",\"rent\",\"rent\",\"rent\",\"rent\",\"rent\",\"rent\",\"rent\",\"rent\",\"rent\",\"rent\",\"rent\",\"rent\",\"rent\",\"rent\",\"rent\",\"rent\",\"rent\",\"rent\",\"rent\",\"rent\",\"rent\",\"rent\",\"rent\",\"rent\",\"rent\",\"rent\",\"rent\",\"rent\",\"rent\",\"rent\",\"rent\",\"rent\",\"rent\",\"rent\",\"rent\",\"rent\",\"rent\",\"rent\",\"rent\",\"rent\",\"rent\",\"rent\",\"rent\",\"rent\",\"rent\",\"rent\",\"rent\",\"rent\",\"rent\",\"rent\",\"rent\",\"rent\",\"rent\",\"rent\",\"rent\",\"rent\",\"rent\",\"rent\",\"rent\",\"rent\",\"rent\",\"rent\",\"rent\",\"rent\",\"rent\",\"rent\",\"rent\",\"rent\",\"rent\",\"rent\",\"rent\",\"rent\",\"rent\",\"rent\",\"rent\",\"rent\",\"rent\",\"rent\",\"rent\",\"rent\",\"rent\",\"rent\",\"rent\",\"rent\",\"rent\",\"rent\",\"rent\",\"rent\",\"rent\",\"rent\",\"rent\",\"rent\",\"rent\",\"rent\",\"rent\",\"rent\",\"rent\",\"rent\",\"rent\",\"rent\",\"rent\",\"rent\",\"rent\",\"rent\",\"rent\",\"rent\",\"rent\",\"rent\",\"rent\",\"rent\",\"rent\",\"rent\",\"rent\",\"rent\",\"rent\",\"rent\",\"rent\",\"rent\",\"rent\",\"rent\",\"rent\",\"rent\",\"rent\",\"rent\",\"rent\",\"rent\",\"rent\",\"rent\",\"rent\",\"rent\",\"rent\",\"rent\",\"rent\",\"rent\",\"rent\",\"rent\",\"rent\",\"rent\",\"rent\",\"rent\",\"rent\",\"rent\",\"rent\",\"rent\",\"rent\",\"rent\",\"rent\",\"rent\",\"rent\",\"rent\",\"rent\",\"rent\",\"rent\",\"rent\",\"rent\",\"rent\",\"rent\",\"rent\",\"rent\",\"rent\",\"rent\",\"rent\",\"rent\",\"rent\",\"rent\",\"rent\",\"rent\",\"rent\",\"rent\",\"rent\",\"rent\",\"rent\",\"rent\",\"rent\",\"rent\",\"rent\",\"rent\",\"rent\",\"rent\",\"rent\",\"rent\",\"rent\",\"rent\",\"rent\",\"rent\",\"rent\",\"rent\",\"rent\",\"rent\",\"rent\",\"rent\",\"rent\",\"rent\",\"rent\",\"rent\",\"rent\",\"rent\",\"rent\",\"rent\",\"rent\",\"rent\",\"rent\",\"rent\",\"rent\",\"rent\",\"rent\",\"rent\",\"rent\",\"rent\",\"rent\",\"rent\",\"rent\",\"rent\",\"rent\",\"rent\",\"rent\",\"rent\",\"rent\",\"rent\",\"rent\",\"rent\",\"rent\",\"rent\",\"rent\",\"rent\",\"rent\",\"rent\",\"rent\",\"rent\",\"rent\",\"rent\",\"rent\",\"rent\",\"rent\",\"rent\",\"rent\",\"rent\",\"rent\",\"rent\",\"rent\",\"rent\",\"rent\",\"rent\",\"rent\",\"rent\",\"rent\",\"rent\",\"rent\",\"rent\",\"rent\",\"rent\",\"rent\",\"rent\",\"rent\",\"rent\",\"rent\",\"rent\",\"rent\",\"rent\",\"rent\",\"rent\",\"rent\",\"rent\",\"rent\",\"rent\",\"rent\",\"rent\",\"rent\",\"rent\",\"rent\",\"rent\",\"rent\",\"rent\",\"rent\",\"rent\",\"rent\",\"rent\",\"rent\",\"rent\",\"rent\",\"rent\",\"rent\",\"rent\",\"rent\",\"rent\",\"rent\",\"rent\",\"rent\",\"rent\",\"rent\",\"rent\",\"rent\",\"rent\",\"rent\",\"rent\",\"rent\",\"rent\",\"rent\",\"rent\",\"rent\",\"rent\",\"rent\",\"rent\",\"rent\",\"rent\",\"rent\",\"rent\",\"rent\",\"rent\",\"rent\",\"rent\",\"rent\",\"rent\",\"rent\",\"rent\",\"rent\",\"rent\",\"rent\",\"rent\",\"rent\",\"rent\",\"rent\",\"rent\",\"rent\",\"rent\",\"rent\",\"rent\",\"rent\",\"rent\",\"rent\",\"rent\",\"rent\",\"rent\",\"rent\",\"rent\",\"rent\",\"rent\",\"rent\",\"rent\",\"rent\",\"rent\",\"rent\",\"rent\",\"rent\",\"rent\",\"rent\",\"rent\",\"rent\",\"rent\",\"rent\",\"rent\",\"rent\",\"rent\",\"rent\",\"rent\",\"rent\",\"rent\",\"rent\",\"rent\",\"rent\",\"rent\",\"rent\",\"rent\",\"rent\",\"rent\",\"rent\",\"rent\",\"rent\",\"rent\",\"rent\",\"rent\",\"rent\",\"rent\",\"rent\",\"rent\",\"rent\",\"rent\",\"rent\",\"rent\",\"rent\",\"rent\",\"rent\",\"rent\",\"rent\",\"rent\",\"rent\",\"rent\",\"rent\",\"rent\",\"rent\",\"rent\",\"rent\",\"rent\",\"rent\",\"rent\",\"rent\",\"rent\",\"rent\",\"rent\",\"rent\",\"rent\",\"rent\",\"rent\",\"rent\",\"rent\",\"rent\",\"rent\",\"rent\",\"rent\",\"rent\",\"rent\",\"rent\",\"rent\",\"rent\",\"rent\",\"rent\",\"rent\",\"rent\",\"rent\",\"rent\",\"rent\",\"rent\",\"rent\",\"rent\",\"rent\",\"rent\",\"rent\",\"rent\",\"rent\",\"rent\",\"rent\",\"rent\",\"rent\",\"rent\",\"rent\",\"rent\",\"rent\",\"rent\",\"rent\",\"rent\",\"rent\",\"rent\",\"rent\",\"rent\",\"rent\",\"rent\",\"rent\",\"rent\",\"rent\",\"rent\",\"rent\",\"rent\",\"rent\",\"rent\",\"rent\",\"rent\",\"rent\",\"rent\",\"rent\",\"rent\",\"rent\",\"rent\",\"rent\",\"rent\",\"rent\",\"rent\",\"rent\",\"rent\",\"rent\",\"rent\",\"rent\",\"rent\",\"rent\",\"rent\",\"rent\",\"rent\",\"rent\",\"rent\",\"rent\",\"rent\",\"rent\",\"rent\",\"rent\",\"rent\",\"rent\",\"rent\",\"rent\",\"rent\",\"rent\",\"rent\",\"rent\",\"rent\",\"rent\",\"rent\",\"rent\",\"rent\",\"rent\"],\"x0\":\" \",\"xaxis\":\"x\",\"y\":[30,70,50,60,40,60,40,60,40,50,30,60,30,60,50,30,60,50,70,60,70,30,30,60,70,70,40,50,70,60,70,70,70,40,60,30,30,40,60,70,60,40,30,50,70,60,40,40,50,60,50,60,70,30,50,70,30,50,60,40,40,70,50,50,60,30,60,40,40,70,60,30,50,50,30,40,70,40,70,70,40,30,60,50,60,40,40,60,60,70,40,70,40,30,30,30,60,50,70,70,60,60,30,70,40,60,30,60,70,70,70,70,70,60,60,30,70,30,50,70,70,60,40,50,50,60,70,60,30,30,70,30,30,60,50,70,60,60,70,40,30,40,50,70,60,60,40,50,50,60,50,70,50,60,40,40,40,60,70,40,60,50,70,30,40,50,50,70,60,50,40,60,40,40,30,70,70,50,50,40,40,40,70,30,30,70,70,30,50,70,70,60,70,50,70,40,30,70,30,30,40,50,30,30,30,30,40,50,70,30,60,70,30,40,50,60,60,70,70,30,40,70,30,60,40,40,40,40,50,70,50,30,70,70,50,50,60,60,50,70,60,30,40,40,70,50,60,60,40,50,50,60,40,60,30,70,30,50,70,30,40,60,40,50,60,40,70,30,60,60,30,40,60,60,30,50,70,30,60,40,40,40,60,50,40,40,30,60,50,30,40,40,50,50,70,60,60,40,50,60,50,50,60,40,30,70,30,40,60,30,50,30,40,40,50,40,40,60,60,40,30,60,50,60,60,40,50,70,30,40,50,50,30,70,50,40,70,70,70,60,30,30,70,50,30,40,30,40,30,30,60,50,60,40,30,50,60,30,60,30,30,40,40,70,40,50,60,30,30,30,40,70,40,30,40,60,50,30,50,40,60,70,70,50,40,70,30,70,40,40,30,70,40,50,60,40,30,60,70,50,50,60,30,70,70,50,40,40,70,70,60,70,70,30,70,50,70,40,30,50,40,40,40,40,40,40,70,40,70,40,40,30,60,40,70,70,70,40,60,30,60,40,70,60,50,50,40,70,70,40,30,60,40,60,50,40,50,30,30,70,40,30,50,50,60,50,60,60,50,70,60,70,40,40,30,60,30,70,40,70,50,50,30,40,70,60,30,60,70,60,70,30,70,30,30,30,40,30,70,50,50,50,30,30,30,70,30,50,40,40,50,40,40,50,50,60,30,60,70,70,60,60,60,40,70,70,60,60,40,30,50,70,50,40,30,60,70,60,40,60,60,30,50,60,50,60,40,70,70,30,60,70,50,70,30,70,50,70,40,60,60,60,40,40,60,30,50,70,60,60,70,60,60,70,70,30,30,70,40,60,40,50,30,30,30,50,50,50,40,70,60,40,60,30,60,40,40,40,40,60,50,50,60,40,70,40,40,70,70,50,40,70,70,40,70,70,30,50,40,70,60,60,60,50,40,40,50,40,50,50,60,50,30,30,50,70,50,70,30,60,30,70,70,30,40,30,70,60,40,40,50,60,70,40,40,50,50,50,70,30,30,40,50,50,50,40,30,40,30,60,70,40,30,40,70,70,70,30,50,70,70,70,70,50,70,40,50,70,30,40,30,70,70,30,60,40,70,40,40,40,30,30,30,70,30,40,30,60,30,30,50,70,30,30,30,50,60,40,30,70,50,40,70,30,70,60,50,30,40,50,50,60,40,30,40,30,30,30,40,70,30,60,70,60,70,40,70,70,40,60,50,50,30,50,30,40,70,60,40,60,40,50,60,30,30,70,30,40,50,40,60,50,70,40,70,50,70,40,70,30,50,30,70,50,30,70,40,60,70,30,50,30,70,60,60,60,70,30,60,60,40,50,50,50,50,70,70,40,60,30,40,30,40,60,70,30,70,40,40,70,70,60,40,40,50,30,30,70,50,70,70,70,30,40,50,70,40,40,70,40,40,50,60,60,60,70,40,30,40,30,60,30,30,60,50,40,50,70,40,70,40,50,30,70,40,50,50,30,40,30,40,60,60,40,30,40,70,50,50,40,50,60,60,40,50,60,60,40,30,30,70,70,50,70,30,50,60,40,70,50,30,40,40,60,50,60,40,60,40,50,50,50,50,70,30,30,70,60,60,30,60,40,30,60,40,40,60,30,70,40,70,40,30,30,40,70,70,40,30,30,30,60,70,60,50,40,40,50,50,30,30,30,50,40,60,70,50,40,60,60,70,50,30,50,40,30,30,30,40,40,40,60,40,70,40,60,70,70,70,30,40,70,50,60,40,40,40,70,50,50,30,30,60,50,40,50,60,30,70,60,5000000,2000000,4000000,1000000,4000000,4000000,3000000,3000000,1000000,2000000,2000000,5000000,5000000,1000000,2000000,5000000,1000000,4000000,5000000,1000000,4000000,2000000,2000000,4000000,3000000,1000000,1000000,2000000,2000000,3000000,5000000,2000000,1000000,2000000,2000000,2000000,3000000,3000000,2000000,4000000,3000000,1000000,5000000,3000000,4000000,1000000,2000000,4000000,5000000,5000000,1000000,1000000,4000000,1000000,3000000,4000000,2000000,4000000,4000000,5000000,2000000,2000000,4000000,1000000,1000000,2000000,5000000,2000000,3000000,4000000,4000000,3000000,2000000,3000000,2000000,4000000,1000000,3000000,5000000,3000000,3000000,2000000,1000000,5000000,3000000,5000000,5000000,3000000,5000000,4000000,1000000,4000000,3000000,4000000,4000000,5000000,1000000,5000000,3000000,5000000,5000000,2000000,3000000,2000000,4000000,3000000,1000000,1000000,2000000,4000000,2000000,2000000,4000000,5000000,5000000,5000000,5000000,4000000,3000000,1000000,5000000,2000000,5000000,4000000,1000000,3000000,2000000,1000000,1000000,1000000,4000000,2000000,4000000,2000000,4000000,1000000,4000000,4000000,5000000,5000000,3000000,4000000,4000000,3000000,1000000,2000000,2000000,4000000,2000000,5000000,3000000,5000000,1000000,2000000,2000000,1000000,1000000,5000000,2000000,2000000,2000000,1000000,2000000,4000000,4000000,3000000,4000000,4000000,4000000,1000000,3000000,1000000,4000000,4000000,2000000,4000000,3000000,4000000,2000000,5000000,3000000,5000000,1000000,3000000,3000000,2000000,5000000,4000000,3000000,1000000,3000000,5000000,4000000,2000000,4000000,4000000,5000000,1000000,3000000,2000000,1000000,1000000,2000000,4000000,4000000,5000000,5000000,5000000,3000000,5000000,3000000,1000000,5000000,1000000,2000000,1000000,5000000,1000000,1000000,4000000,3000000,1000000,1000000,4000000,4000000,3000000,4000000,3000000,2000000,5000000,4000000,1000000,5000000,3000000,1000000,3000000,4000000,2000000,2000000,1000000,5000000,1000000,1000000,5000000,3000000,3000000,3000000,4000000,1000000,1000000,4000000,2000000,5000000,1000000,1000000,2000000,1000000,1000000,1000000,2000000,3000000,3000000,1000000,1000000,4000000,4000000,5000000,3000000,5000000,5000000,3000000,2000000,3000000,1000000,5000000,2000000,5000000,2000000,2000000,4000000,4000000,1000000,5000000,4000000,4000000,2000000,2000000,2000000,4000000,1000000,3000000,4000000,4000000,2000000,2000000,3000000,2000000,2000000,1000000,4000000,5000000,4000000,2000000,4000000,5000000,4000000,3000000,5000000,3000000,2000000,2000000,3000000,1000000,5000000,5000000,4000000,4000000,4000000,2000000,2000000,5000000,3000000,5000000,5000000,1000000,1000000,2000000,5000000,2000000,3000000,1000000,5000000,2000000,5000000,4000000,5000000,3000000,1000000,1000000,5000000,2000000,5000000,4000000,5000000,5000000,3000000,5000000,4000000,1000000,5000000,2000000,4000000,4000000,1000000,5000000,5000000,3000000,1000000,3000000,4000000,3000000,5000000,1000000,3000000,5000000,2000000,3000000,2000000,1000000,5000000,1000000,5000000,4000000,3000000,5000000,2000000,2000000,1000000,5000000,5000000,3000000,5000000,5000000,3000000,5000000,3000000,2000000,4000000,1000000,2000000,3000000,2000000,5000000,5000000,2000000,1000000,2000000,3000000,3000000,4000000,2000000,3000000,3000000,2000000,3000000,1000000,4000000,2000000,2000000,1000000,1000000,3000000,4000000,1000000,5000000,3000000,1000000,2000000,2000000,1000000,4000000,5000000,4000000,4000000,4000000,2000000,2000000,3000000,5000000,3000000,5000000,4000000,3000000,4000000,2000000,4000000,5000000,3000000,4000000,5000000,5000000,2000000,2000000,4000000,3000000,2000000,2000000,1000000,2000000,3000000,2000000,1000000,4000000,4000000,2000000,1000000,1000000,5000000,2000000,3000000,2000000,4000000,4000000,1000000,5000000,5000000,4000000,2000000,2000000,3000000,2000000,1000000,5000000,5000000,1000000,4000000,2000000,5000000,2000000,4000000,2000000,2000000,2000000,5000000,2000000,4000000,2000000,4000000,1000000,1000000,2000000,1000000,4000000,2000000,2000000,1000000,4000000,1000000,5000000,1000000,4000000,2000000,1000000,5000000,2000000,5000000,4000000,4000000,2000000,5000000,1000000,2000000,1000000,5000000,2000000,3000000,3000000,2000000,3000000,5000000,1000000,1000000,5000000,3000000,2000000,1000000,4000000,1000000,4000000,2000000,3000000,2000000,4000000,3000000,3000000,3000000,1000000,2000000,3000000,1000000,1000000,5000000,2000000,3000000,4000000,5000000,3000000,4000000,4000000,3000000,2000000,5000000,1000000,1000000,3000000,3000000,4000000,4000000,1000000,2000000,1000000,1000000,2000000,5000000,2000000,5000000,3000000,4000000,3000000,2000000,5000000,2000000,3000000,5000000,4000000,2000000,1000000,4000000,5000000,4000000,1000000,4000000,2000000,2000000,1000000,2000000,3000000,1000000,2000000,1000000,3000000,3000000,3000000,5000000,4000000,1000000,1000000,4000000,3000000,5000000,5000000,1000000,2000000,1000000,4000000,5000000,2000000,2000000,5000000,5000000,1000000,3000000,1000000,2000000,2000000,5000000,4000000,1000000,4000000,1000000,4000000,3000000,1000000,3000000,2000000,2000000,1000000,1000000,5000000,3000000,2000000,1000000,5000000,2000000,5000000,2000000,2000000,3000000,4000000,5000000,2000000,1000000,4000000,5000000,2000000,2000000,2000000,5000000,1000000,4000000,5000000,1000000,4000000,5000000,3000000,3000000,1000000,4000000,4000000,4000000,2000000,2000000,4000000,4000000,2000000,4000000,1000000,5000000,4000000,5000000,2000000,2000000,3000000,1000000,3000000,4000000,1000000,2000000,2000000,3000000,4000000,4000000,5000000,4000000,2000000,1000000,4000000,1000000,5000000,5000000,3000000,5000000,2000000,2000000,2000000,5000000,3000000,5000000,5000000,5000000,4000000,5000000,3000000,4000000,5000000,4000000,2000000,2000000,1000000,2000000,2000000,4000000,3000000,4000000,2000000,1000000,1000000,3000000,2000000,2000000,4000000,2000000,1000000,2000000,4000000,1000000,1000000,3000000,1000000,2000000,3000000,4000000,1000000,1000000,3000000,4000000,3000000,3000000,3000000,5000000,2000000,2000000,5000000,4000000,2000000,2000000,3000000,4000000,1000000,3000000,5000000,4000000,5000000,2000000,3000000,5000000,4000000,2000000,3000000,5000000,5000000,3000000,2000000,1000000,5000000,4000000,4000000,1000000,5000000,3000000,2000000,3000000,3000000,1000000,5000000,3000000,2000000,2000000,2000000,1000000,1000000,1000000,2000000,2000000,3000000,5000000,4000000,3000000,2000000,3000000,1000000,3000000,3000000,4000000,1000000,5000000,4000000,2000000,4000000,3000000,5000000,1000000,2000000,4000000,5000000,5000000,2000000,1000000,1000000,1000000,3000000,4000000,2000000,1000000,2000000,2000000,4000000,3000000,3000000,3000000,5000000,4000000,5000000,4000000,1000000,2000000,4000000,5000000,4000000,3000000,2000000,5000000,3000000,5000000,2000000,4000000,2000000,2000000,5000000,3000000,4000000,3000000,1000000,2000000,2000000,3000000,3000000,1000000,3000000,3000000,1000000,1000000,1000000,4000000,2000000,3000000,5000000,5000000,2000000,2000000,5000000,1000000,1000000,4000000,5000000,4000000,1000000,4000000,5000000,4000000,1000000,4000000,5000000,4000000,1000000,4000000,2000000,5000000,1000000,4000000,5000000,2000000,1000000,2000000,1000000,4000000,1000000,5000000,4000000,5000000,4000000,5000000,5000000,1000000,1000000,1000000,2000000,2000000,5000000,4000000,4000000,2000000,1000000,1000000,2000000,1000000,1000000,2000000,4000000,2000000,4000000,1000000,5000000,3000000,4000000,3000000,4000000,3000000,4000000,3000000,4000000,1000000,5000000,1000000,4000000,4000000,3000000,5000000,1000000,3000000,4000000,4000000,3000000,5000000,5000000,2000000,5000000,5000000,3000000,1000000,2000000,4000000,5000000,3000000,1000000,2000000,4000000,5000000,2000000,2000000,1000000,4000000,4000000,4000000,1000000,1000000,5000000,5000000,1000000,2000000,5000000,2000000,1000000,2000000,4000000,3000000,1000000,4000000,4000000,5000000,1000000,3000000,1000000,1000000,3000000,1000000,2000000,2000000,5000000,4000000,2000000,3000000,5000000,5000000,4000000,3000000,3000000,4000000,2000000,5000000,3000000,5000000,3000000,4000000,5000000,2000000,2000000,3000000,1000000,3000000],\"y0\":\" \",\"yaxis\":\"y\",\"type\":\"box\"}],                        {\"template\":{\"data\":{\"histogram2dcontour\":[{\"type\":\"histogram2dcontour\",\"colorbar\":{\"outlinewidth\":0,\"ticks\":\"\"},\"colorscale\":[[0.0,\"#0d0887\"],[0.1111111111111111,\"#46039f\"],[0.2222222222222222,\"#7201a8\"],[0.3333333333333333,\"#9c179e\"],[0.4444444444444444,\"#bd3786\"],[0.5555555555555556,\"#d8576b\"],[0.6666666666666666,\"#ed7953\"],[0.7777777777777778,\"#fb9f3a\"],[0.8888888888888888,\"#fdca26\"],[1.0,\"#f0f921\"]]}],\"choropleth\":[{\"type\":\"choropleth\",\"colorbar\":{\"outlinewidth\":0,\"ticks\":\"\"}}],\"histogram2d\":[{\"type\":\"histogram2d\",\"colorbar\":{\"outlinewidth\":0,\"ticks\":\"\"},\"colorscale\":[[0.0,\"#0d0887\"],[0.1111111111111111,\"#46039f\"],[0.2222222222222222,\"#7201a8\"],[0.3333333333333333,\"#9c179e\"],[0.4444444444444444,\"#bd3786\"],[0.5555555555555556,\"#d8576b\"],[0.6666666666666666,\"#ed7953\"],[0.7777777777777778,\"#fb9f3a\"],[0.8888888888888888,\"#fdca26\"],[1.0,\"#f0f921\"]]}],\"heatmap\":[{\"type\":\"heatmap\",\"colorbar\":{\"outlinewidth\":0,\"ticks\":\"\"},\"colorscale\":[[0.0,\"#0d0887\"],[0.1111111111111111,\"#46039f\"],[0.2222222222222222,\"#7201a8\"],[0.3333333333333333,\"#9c179e\"],[0.4444444444444444,\"#bd3786\"],[0.5555555555555556,\"#d8576b\"],[0.6666666666666666,\"#ed7953\"],[0.7777777777777778,\"#fb9f3a\"],[0.8888888888888888,\"#fdca26\"],[1.0,\"#f0f921\"]]}],\"heatmapgl\":[{\"type\":\"heatmapgl\",\"colorbar\":{\"outlinewidth\":0,\"ticks\":\"\"},\"colorscale\":[[0.0,\"#0d0887\"],[0.1111111111111111,\"#46039f\"],[0.2222222222222222,\"#7201a8\"],[0.3333333333333333,\"#9c179e\"],[0.4444444444444444,\"#bd3786\"],[0.5555555555555556,\"#d8576b\"],[0.6666666666666666,\"#ed7953\"],[0.7777777777777778,\"#fb9f3a\"],[0.8888888888888888,\"#fdca26\"],[1.0,\"#f0f921\"]]}],\"contourcarpet\":[{\"type\":\"contourcarpet\",\"colorbar\":{\"outlinewidth\":0,\"ticks\":\"\"}}],\"contour\":[{\"type\":\"contour\",\"colorbar\":{\"outlinewidth\":0,\"ticks\":\"\"},\"colorscale\":[[0.0,\"#0d0887\"],[0.1111111111111111,\"#46039f\"],[0.2222222222222222,\"#7201a8\"],[0.3333333333333333,\"#9c179e\"],[0.4444444444444444,\"#bd3786\"],[0.5555555555555556,\"#d8576b\"],[0.6666666666666666,\"#ed7953\"],[0.7777777777777778,\"#fb9f3a\"],[0.8888888888888888,\"#fdca26\"],[1.0,\"#f0f921\"]]}],\"surface\":[{\"type\":\"surface\",\"colorbar\":{\"outlinewidth\":0,\"ticks\":\"\"},\"colorscale\":[[0.0,\"#0d0887\"],[0.1111111111111111,\"#46039f\"],[0.2222222222222222,\"#7201a8\"],[0.3333333333333333,\"#9c179e\"],[0.4444444444444444,\"#bd3786\"],[0.5555555555555556,\"#d8576b\"],[0.6666666666666666,\"#ed7953\"],[0.7777777777777778,\"#fb9f3a\"],[0.8888888888888888,\"#fdca26\"],[1.0,\"#f0f921\"]]}],\"mesh3d\":[{\"type\":\"mesh3d\",\"colorbar\":{\"outlinewidth\":0,\"ticks\":\"\"}}],\"scatter\":[{\"fillpattern\":{\"fillmode\":\"overlay\",\"size\":10,\"solidity\":0.2},\"type\":\"scatter\"}],\"parcoords\":[{\"type\":\"parcoords\",\"line\":{\"colorbar\":{\"outlinewidth\":0,\"ticks\":\"\"}}}],\"scatterpolargl\":[{\"type\":\"scatterpolargl\",\"marker\":{\"colorbar\":{\"outlinewidth\":0,\"ticks\":\"\"}}}],\"bar\":[{\"error_x\":{\"color\":\"#2a3f5f\"},\"error_y\":{\"color\":\"#2a3f5f\"},\"marker\":{\"line\":{\"color\":\"#E5ECF6\",\"width\":0.5},\"pattern\":{\"fillmode\":\"overlay\",\"size\":10,\"solidity\":0.2}},\"type\":\"bar\"}],\"scattergeo\":[{\"type\":\"scattergeo\",\"marker\":{\"colorbar\":{\"outlinewidth\":0,\"ticks\":\"\"}}}],\"scatterpolar\":[{\"type\":\"scatterpolar\",\"marker\":{\"colorbar\":{\"outlinewidth\":0,\"ticks\":\"\"}}}],\"histogram\":[{\"marker\":{\"pattern\":{\"fillmode\":\"overlay\",\"size\":10,\"solidity\":0.2}},\"type\":\"histogram\"}],\"scattergl\":[{\"type\":\"scattergl\",\"marker\":{\"colorbar\":{\"outlinewidth\":0,\"ticks\":\"\"}}}],\"scatter3d\":[{\"type\":\"scatter3d\",\"line\":{\"colorbar\":{\"outlinewidth\":0,\"ticks\":\"\"}},\"marker\":{\"colorbar\":{\"outlinewidth\":0,\"ticks\":\"\"}}}],\"scattermapbox\":[{\"type\":\"scattermapbox\",\"marker\":{\"colorbar\":{\"outlinewidth\":0,\"ticks\":\"\"}}}],\"scatterternary\":[{\"type\":\"scatterternary\",\"marker\":{\"colorbar\":{\"outlinewidth\":0,\"ticks\":\"\"}}}],\"scattercarpet\":[{\"type\":\"scattercarpet\",\"marker\":{\"colorbar\":{\"outlinewidth\":0,\"ticks\":\"\"}}}],\"carpet\":[{\"aaxis\":{\"endlinecolor\":\"#2a3f5f\",\"gridcolor\":\"white\",\"linecolor\":\"white\",\"minorgridcolor\":\"white\",\"startlinecolor\":\"#2a3f5f\"},\"baxis\":{\"endlinecolor\":\"#2a3f5f\",\"gridcolor\":\"white\",\"linecolor\":\"white\",\"minorgridcolor\":\"white\",\"startlinecolor\":\"#2a3f5f\"},\"type\":\"carpet\"}],\"table\":[{\"cells\":{\"fill\":{\"color\":\"#EBF0F8\"},\"line\":{\"color\":\"white\"}},\"header\":{\"fill\":{\"color\":\"#C8D4E3\"},\"line\":{\"color\":\"white\"}},\"type\":\"table\"}],\"barpolar\":[{\"marker\":{\"line\":{\"color\":\"#E5ECF6\",\"width\":0.5},\"pattern\":{\"fillmode\":\"overlay\",\"size\":10,\"solidity\":0.2}},\"type\":\"barpolar\"}],\"pie\":[{\"automargin\":true,\"type\":\"pie\"}]},\"layout\":{\"autotypenumbers\":\"strict\",\"colorway\":[\"#636efa\",\"#EF553B\",\"#00cc96\",\"#ab63fa\",\"#FFA15A\",\"#19d3f3\",\"#FF6692\",\"#B6E880\",\"#FF97FF\",\"#FECB52\"],\"font\":{\"color\":\"#2a3f5f\"},\"hovermode\":\"closest\",\"hoverlabel\":{\"align\":\"left\"},\"paper_bgcolor\":\"white\",\"plot_bgcolor\":\"#E5ECF6\",\"polar\":{\"bgcolor\":\"#E5ECF6\",\"angularaxis\":{\"gridcolor\":\"white\",\"linecolor\":\"white\",\"ticks\":\"\"},\"radialaxis\":{\"gridcolor\":\"white\",\"linecolor\":\"white\",\"ticks\":\"\"}},\"ternary\":{\"bgcolor\":\"#E5ECF6\",\"aaxis\":{\"gridcolor\":\"white\",\"linecolor\":\"white\",\"ticks\":\"\"},\"baxis\":{\"gridcolor\":\"white\",\"linecolor\":\"white\",\"ticks\":\"\"},\"caxis\":{\"gridcolor\":\"white\",\"linecolor\":\"white\",\"ticks\":\"\"}},\"coloraxis\":{\"colorbar\":{\"outlinewidth\":0,\"ticks\":\"\"}},\"colorscale\":{\"sequential\":[[0.0,\"#0d0887\"],[0.1111111111111111,\"#46039f\"],[0.2222222222222222,\"#7201a8\"],[0.3333333333333333,\"#9c179e\"],[0.4444444444444444,\"#bd3786\"],[0.5555555555555556,\"#d8576b\"],[0.6666666666666666,\"#ed7953\"],[0.7777777777777778,\"#fb9f3a\"],[0.8888888888888888,\"#fdca26\"],[1.0,\"#f0f921\"]],\"sequentialminus\":[[0.0,\"#0d0887\"],[0.1111111111111111,\"#46039f\"],[0.2222222222222222,\"#7201a8\"],[0.3333333333333333,\"#9c179e\"],[0.4444444444444444,\"#bd3786\"],[0.5555555555555556,\"#d8576b\"],[0.6666666666666666,\"#ed7953\"],[0.7777777777777778,\"#fb9f3a\"],[0.8888888888888888,\"#fdca26\"],[1.0,\"#f0f921\"]],\"diverging\":[[0,\"#8e0152\"],[0.1,\"#c51b7d\"],[0.2,\"#de77ae\"],[0.3,\"#f1b6da\"],[0.4,\"#fde0ef\"],[0.5,\"#f7f7f7\"],[0.6,\"#e6f5d0\"],[0.7,\"#b8e186\"],[0.8,\"#7fbc41\"],[0.9,\"#4d9221\"],[1,\"#276419\"]]},\"xaxis\":{\"gridcolor\":\"white\",\"linecolor\":\"white\",\"ticks\":\"\",\"title\":{\"standoff\":15},\"zerolinecolor\":\"white\",\"automargin\":true,\"zerolinewidth\":2},\"yaxis\":{\"gridcolor\":\"white\",\"linecolor\":\"white\",\"ticks\":\"\",\"title\":{\"standoff\":15},\"zerolinecolor\":\"white\",\"automargin\":true,\"zerolinewidth\":2},\"scene\":{\"xaxis\":{\"backgroundcolor\":\"#E5ECF6\",\"gridcolor\":\"white\",\"linecolor\":\"white\",\"showbackground\":true,\"ticks\":\"\",\"zerolinecolor\":\"white\",\"gridwidth\":2},\"yaxis\":{\"backgroundcolor\":\"#E5ECF6\",\"gridcolor\":\"white\",\"linecolor\":\"white\",\"showbackground\":true,\"ticks\":\"\",\"zerolinecolor\":\"white\",\"gridwidth\":2},\"zaxis\":{\"backgroundcolor\":\"#E5ECF6\",\"gridcolor\":\"white\",\"linecolor\":\"white\",\"showbackground\":true,\"ticks\":\"\",\"zerolinecolor\":\"white\",\"gridwidth\":2}},\"shapedefaults\":{\"line\":{\"color\":\"#2a3f5f\"}},\"annotationdefaults\":{\"arrowcolor\":\"#2a3f5f\",\"arrowhead\":0,\"arrowwidth\":1},\"geo\":{\"bgcolor\":\"white\",\"landcolor\":\"#E5ECF6\",\"subunitcolor\":\"white\",\"showland\":true,\"showlakes\":true,\"lakecolor\":\"white\"},\"title\":{\"x\":0.05},\"mapbox\":{\"style\":\"light\"}}},\"xaxis\":{\"anchor\":\"y\",\"domain\":[0.0,1.0],\"title\":{\"text\":\"variable\"}},\"yaxis\":{\"anchor\":\"x\",\"domain\":[0.0,1.0],\"title\":{\"text\":\"value\"}},\"legend\":{\"tracegroupgap\":0},\"margin\":{\"t\":60},\"boxmode\":\"group\"},                        {\"responsive\": true}                    ).then(function(){\n",
       "                            \n",
       "var gd = document.getElementById('247cdf27-1ba6-42aa-9b38-119271a5a7ed');\n",
       "var x = new MutationObserver(function (mutations, observer) {{\n",
       "        var display = window.getComputedStyle(gd).display;\n",
       "        if (!display || display === 'none') {{\n",
       "            console.log([gd, 'removed!']);\n",
       "            Plotly.purge(gd);\n",
       "            observer.disconnect();\n",
       "        }}\n",
       "}});\n",
       "\n",
       "// Listen for the removal of the full notebook cells\n",
       "var notebookContainer = gd.closest('#notebook-container');\n",
       "if (notebookContainer) {{\n",
       "    x.observe(notebookContainer, {childList: true});\n",
       "}}\n",
       "\n",
       "// Listen for the clearing of the current output cell\n",
       "var outputEl = gd.closest('.output');\n",
       "if (outputEl) {{\n",
       "    x.observe(outputEl, {childList: true});\n",
       "}}\n",
       "\n",
       "                        })                };                });            </script>        </div>"
      ]
     },
     "metadata": {},
     "output_type": "display_data"
    }
   ],
   "source": [
    "# 이상치 box plot으로 확인하기\n",
    "import plotly.express as px\n",
    "import seaborn as sns\n",
    "\n",
    "data = df[['area', 'rent']]\n",
    "\n",
    "fig = px.box(data)\n",
    "fig.show()"
   ]
  },
  {
   "cell_type": "markdown",
   "id": "3b521f18",
   "metadata": {},
   "source": [
    "[문제]\n",
    "1. 이상치가 존재하나요?\n",
    "2. 이상치가 존재한다면 어떻게 처리할 것인가요?"
   ]
  },
  {
   "cell_type": "markdown",
   "id": "fd6d3b16",
   "metadata": {},
   "source": [
    "* 만약에 극단적인 이상치의 영향을 많이 받는다는 판단이 든다면 해당 데이터를 걸러낼 수도 있습니다."
   ]
  },
  {
   "cell_type": "markdown",
   "id": "710685da",
   "metadata": {},
   "source": [
    "* 질적변수를 기준으로 파이 그래프 그리기"
   ]
  },
  {
   "cell_type": "code",
   "execution_count": 12,
   "id": "f3f8a63c",
   "metadata": {},
   "outputs": [
    {
     "data": {
      "application/vnd.plotly.v1+json": {
       "config": {
        "plotlyServerURL": "https://plot.ly"
       },
       "data": [
        {
         "labels": [
          "음식점",
          "카페",
          "의류",
          "서적",
          "안경점"
         ],
         "type": "pie",
         "values": [
          218,
          210,
          210,
          210,
          210
         ]
        }
       ],
       "layout": {
        "autosize": true,
        "template": {
         "data": {
          "bar": [
           {
            "error_x": {
             "color": "#2a3f5f"
            },
            "error_y": {
             "color": "#2a3f5f"
            },
            "marker": {
             "line": {
              "color": "#E5ECF6",
              "width": 0.5
             },
             "pattern": {
              "fillmode": "overlay",
              "size": 10,
              "solidity": 0.2
             }
            },
            "type": "bar"
           }
          ],
          "barpolar": [
           {
            "marker": {
             "line": {
              "color": "#E5ECF6",
              "width": 0.5
             },
             "pattern": {
              "fillmode": "overlay",
              "size": 10,
              "solidity": 0.2
             }
            },
            "type": "barpolar"
           }
          ],
          "carpet": [
           {
            "aaxis": {
             "endlinecolor": "#2a3f5f",
             "gridcolor": "white",
             "linecolor": "white",
             "minorgridcolor": "white",
             "startlinecolor": "#2a3f5f"
            },
            "baxis": {
             "endlinecolor": "#2a3f5f",
             "gridcolor": "white",
             "linecolor": "white",
             "minorgridcolor": "white",
             "startlinecolor": "#2a3f5f"
            },
            "type": "carpet"
           }
          ],
          "choropleth": [
           {
            "colorbar": {
             "outlinewidth": 0,
             "ticks": ""
            },
            "type": "choropleth"
           }
          ],
          "contour": [
           {
            "colorbar": {
             "outlinewidth": 0,
             "ticks": ""
            },
            "colorscale": [
             [
              0,
              "#0d0887"
             ],
             [
              0.1111111111111111,
              "#46039f"
             ],
             [
              0.2222222222222222,
              "#7201a8"
             ],
             [
              0.3333333333333333,
              "#9c179e"
             ],
             [
              0.4444444444444444,
              "#bd3786"
             ],
             [
              0.5555555555555556,
              "#d8576b"
             ],
             [
              0.6666666666666666,
              "#ed7953"
             ],
             [
              0.7777777777777778,
              "#fb9f3a"
             ],
             [
              0.8888888888888888,
              "#fdca26"
             ],
             [
              1,
              "#f0f921"
             ]
            ],
            "type": "contour"
           }
          ],
          "contourcarpet": [
           {
            "colorbar": {
             "outlinewidth": 0,
             "ticks": ""
            },
            "type": "contourcarpet"
           }
          ],
          "heatmap": [
           {
            "colorbar": {
             "outlinewidth": 0,
             "ticks": ""
            },
            "colorscale": [
             [
              0,
              "#0d0887"
             ],
             [
              0.1111111111111111,
              "#46039f"
             ],
             [
              0.2222222222222222,
              "#7201a8"
             ],
             [
              0.3333333333333333,
              "#9c179e"
             ],
             [
              0.4444444444444444,
              "#bd3786"
             ],
             [
              0.5555555555555556,
              "#d8576b"
             ],
             [
              0.6666666666666666,
              "#ed7953"
             ],
             [
              0.7777777777777778,
              "#fb9f3a"
             ],
             [
              0.8888888888888888,
              "#fdca26"
             ],
             [
              1,
              "#f0f921"
             ]
            ],
            "type": "heatmap"
           }
          ],
          "heatmapgl": [
           {
            "colorbar": {
             "outlinewidth": 0,
             "ticks": ""
            },
            "colorscale": [
             [
              0,
              "#0d0887"
             ],
             [
              0.1111111111111111,
              "#46039f"
             ],
             [
              0.2222222222222222,
              "#7201a8"
             ],
             [
              0.3333333333333333,
              "#9c179e"
             ],
             [
              0.4444444444444444,
              "#bd3786"
             ],
             [
              0.5555555555555556,
              "#d8576b"
             ],
             [
              0.6666666666666666,
              "#ed7953"
             ],
             [
              0.7777777777777778,
              "#fb9f3a"
             ],
             [
              0.8888888888888888,
              "#fdca26"
             ],
             [
              1,
              "#f0f921"
             ]
            ],
            "type": "heatmapgl"
           }
          ],
          "histogram": [
           {
            "marker": {
             "pattern": {
              "fillmode": "overlay",
              "size": 10,
              "solidity": 0.2
             }
            },
            "type": "histogram"
           }
          ],
          "histogram2d": [
           {
            "colorbar": {
             "outlinewidth": 0,
             "ticks": ""
            },
            "colorscale": [
             [
              0,
              "#0d0887"
             ],
             [
              0.1111111111111111,
              "#46039f"
             ],
             [
              0.2222222222222222,
              "#7201a8"
             ],
             [
              0.3333333333333333,
              "#9c179e"
             ],
             [
              0.4444444444444444,
              "#bd3786"
             ],
             [
              0.5555555555555556,
              "#d8576b"
             ],
             [
              0.6666666666666666,
              "#ed7953"
             ],
             [
              0.7777777777777778,
              "#fb9f3a"
             ],
             [
              0.8888888888888888,
              "#fdca26"
             ],
             [
              1,
              "#f0f921"
             ]
            ],
            "type": "histogram2d"
           }
          ],
          "histogram2dcontour": [
           {
            "colorbar": {
             "outlinewidth": 0,
             "ticks": ""
            },
            "colorscale": [
             [
              0,
              "#0d0887"
             ],
             [
              0.1111111111111111,
              "#46039f"
             ],
             [
              0.2222222222222222,
              "#7201a8"
             ],
             [
              0.3333333333333333,
              "#9c179e"
             ],
             [
              0.4444444444444444,
              "#bd3786"
             ],
             [
              0.5555555555555556,
              "#d8576b"
             ],
             [
              0.6666666666666666,
              "#ed7953"
             ],
             [
              0.7777777777777778,
              "#fb9f3a"
             ],
             [
              0.8888888888888888,
              "#fdca26"
             ],
             [
              1,
              "#f0f921"
             ]
            ],
            "type": "histogram2dcontour"
           }
          ],
          "mesh3d": [
           {
            "colorbar": {
             "outlinewidth": 0,
             "ticks": ""
            },
            "type": "mesh3d"
           }
          ],
          "parcoords": [
           {
            "line": {
             "colorbar": {
              "outlinewidth": 0,
              "ticks": ""
             }
            },
            "type": "parcoords"
           }
          ],
          "pie": [
           {
            "automargin": true,
            "type": "pie"
           }
          ],
          "scatter": [
           {
            "fillpattern": {
             "fillmode": "overlay",
             "size": 10,
             "solidity": 0.2
            },
            "type": "scatter"
           }
          ],
          "scatter3d": [
           {
            "line": {
             "colorbar": {
              "outlinewidth": 0,
              "ticks": ""
             }
            },
            "marker": {
             "colorbar": {
              "outlinewidth": 0,
              "ticks": ""
             }
            },
            "type": "scatter3d"
           }
          ],
          "scattercarpet": [
           {
            "marker": {
             "colorbar": {
              "outlinewidth": 0,
              "ticks": ""
             }
            },
            "type": "scattercarpet"
           }
          ],
          "scattergeo": [
           {
            "marker": {
             "colorbar": {
              "outlinewidth": 0,
              "ticks": ""
             }
            },
            "type": "scattergeo"
           }
          ],
          "scattergl": [
           {
            "marker": {
             "colorbar": {
              "outlinewidth": 0,
              "ticks": ""
             }
            },
            "type": "scattergl"
           }
          ],
          "scattermapbox": [
           {
            "marker": {
             "colorbar": {
              "outlinewidth": 0,
              "ticks": ""
             }
            },
            "type": "scattermapbox"
           }
          ],
          "scatterpolar": [
           {
            "marker": {
             "colorbar": {
              "outlinewidth": 0,
              "ticks": ""
             }
            },
            "type": "scatterpolar"
           }
          ],
          "scatterpolargl": [
           {
            "marker": {
             "colorbar": {
              "outlinewidth": 0,
              "ticks": ""
             }
            },
            "type": "scatterpolargl"
           }
          ],
          "scatterternary": [
           {
            "marker": {
             "colorbar": {
              "outlinewidth": 0,
              "ticks": ""
             }
            },
            "type": "scatterternary"
           }
          ],
          "surface": [
           {
            "colorbar": {
             "outlinewidth": 0,
             "ticks": ""
            },
            "colorscale": [
             [
              0,
              "#0d0887"
             ],
             [
              0.1111111111111111,
              "#46039f"
             ],
             [
              0.2222222222222222,
              "#7201a8"
             ],
             [
              0.3333333333333333,
              "#9c179e"
             ],
             [
              0.4444444444444444,
              "#bd3786"
             ],
             [
              0.5555555555555556,
              "#d8576b"
             ],
             [
              0.6666666666666666,
              "#ed7953"
             ],
             [
              0.7777777777777778,
              "#fb9f3a"
             ],
             [
              0.8888888888888888,
              "#fdca26"
             ],
             [
              1,
              "#f0f921"
             ]
            ],
            "type": "surface"
           }
          ],
          "table": [
           {
            "cells": {
             "fill": {
              "color": "#EBF0F8"
             },
             "line": {
              "color": "white"
             }
            },
            "header": {
             "fill": {
              "color": "#C8D4E3"
             },
             "line": {
              "color": "white"
             }
            },
            "type": "table"
           }
          ]
         },
         "layout": {
          "annotationdefaults": {
           "arrowcolor": "#2a3f5f",
           "arrowhead": 0,
           "arrowwidth": 1
          },
          "autotypenumbers": "strict",
          "coloraxis": {
           "colorbar": {
            "outlinewidth": 0,
            "ticks": ""
           }
          },
          "colorscale": {
           "diverging": [
            [
             0,
             "#8e0152"
            ],
            [
             0.1,
             "#c51b7d"
            ],
            [
             0.2,
             "#de77ae"
            ],
            [
             0.3,
             "#f1b6da"
            ],
            [
             0.4,
             "#fde0ef"
            ],
            [
             0.5,
             "#f7f7f7"
            ],
            [
             0.6,
             "#e6f5d0"
            ],
            [
             0.7,
             "#b8e186"
            ],
            [
             0.8,
             "#7fbc41"
            ],
            [
             0.9,
             "#4d9221"
            ],
            [
             1,
             "#276419"
            ]
           ],
           "sequential": [
            [
             0,
             "#0d0887"
            ],
            [
             0.1111111111111111,
             "#46039f"
            ],
            [
             0.2222222222222222,
             "#7201a8"
            ],
            [
             0.3333333333333333,
             "#9c179e"
            ],
            [
             0.4444444444444444,
             "#bd3786"
            ],
            [
             0.5555555555555556,
             "#d8576b"
            ],
            [
             0.6666666666666666,
             "#ed7953"
            ],
            [
             0.7777777777777778,
             "#fb9f3a"
            ],
            [
             0.8888888888888888,
             "#fdca26"
            ],
            [
             1,
             "#f0f921"
            ]
           ],
           "sequentialminus": [
            [
             0,
             "#0d0887"
            ],
            [
             0.1111111111111111,
             "#46039f"
            ],
            [
             0.2222222222222222,
             "#7201a8"
            ],
            [
             0.3333333333333333,
             "#9c179e"
            ],
            [
             0.4444444444444444,
             "#bd3786"
            ],
            [
             0.5555555555555556,
             "#d8576b"
            ],
            [
             0.6666666666666666,
             "#ed7953"
            ],
            [
             0.7777777777777778,
             "#fb9f3a"
            ],
            [
             0.8888888888888888,
             "#fdca26"
            ],
            [
             1,
             "#f0f921"
            ]
           ]
          },
          "colorway": [
           "#636efa",
           "#EF553B",
           "#00cc96",
           "#ab63fa",
           "#FFA15A",
           "#19d3f3",
           "#FF6692",
           "#B6E880",
           "#FF97FF",
           "#FECB52"
          ],
          "font": {
           "color": "#2a3f5f"
          },
          "geo": {
           "bgcolor": "white",
           "lakecolor": "white",
           "landcolor": "#E5ECF6",
           "showlakes": true,
           "showland": true,
           "subunitcolor": "white"
          },
          "hoverlabel": {
           "align": "left"
          },
          "hovermode": "closest",
          "mapbox": {
           "style": "light"
          },
          "paper_bgcolor": "white",
          "plot_bgcolor": "#E5ECF6",
          "polar": {
           "angularaxis": {
            "gridcolor": "white",
            "linecolor": "white",
            "ticks": ""
           },
           "bgcolor": "#E5ECF6",
           "radialaxis": {
            "gridcolor": "white",
            "linecolor": "white",
            "ticks": ""
           }
          },
          "scene": {
           "xaxis": {
            "backgroundcolor": "#E5ECF6",
            "gridcolor": "white",
            "gridwidth": 2,
            "linecolor": "white",
            "showbackground": true,
            "ticks": "",
            "zerolinecolor": "white"
           },
           "yaxis": {
            "backgroundcolor": "#E5ECF6",
            "gridcolor": "white",
            "gridwidth": 2,
            "linecolor": "white",
            "showbackground": true,
            "ticks": "",
            "zerolinecolor": "white"
           },
           "zaxis": {
            "backgroundcolor": "#E5ECF6",
            "gridcolor": "white",
            "gridwidth": 2,
            "linecolor": "white",
            "showbackground": true,
            "ticks": "",
            "zerolinecolor": "white"
           }
          },
          "shapedefaults": {
           "line": {
            "color": "#2a3f5f"
           }
          },
          "ternary": {
           "aaxis": {
            "gridcolor": "white",
            "linecolor": "white",
            "ticks": ""
           },
           "baxis": {
            "gridcolor": "white",
            "linecolor": "white",
            "ticks": ""
           },
           "bgcolor": "#E5ECF6",
           "caxis": {
            "gridcolor": "white",
            "linecolor": "white",
            "ticks": ""
           }
          },
          "title": {
           "x": 0.05
          },
          "xaxis": {
           "automargin": true,
           "gridcolor": "white",
           "linecolor": "white",
           "ticks": "",
           "title": {
            "standoff": 15
           },
           "zerolinecolor": "white",
           "zerolinewidth": 2
          },
          "yaxis": {
           "automargin": true,
           "gridcolor": "white",
           "linecolor": "white",
           "ticks": "",
           "title": {
            "standoff": 15
           },
           "zerolinecolor": "white",
           "zerolinewidth": 2
          }
         }
        },
        "title": {
         "text": "Gender Status"
        }
       }
      },
      "image/png": "[encoded data removed]",
      "text/html": [
       "<div>                            <div id=\"837aaf93-f6b7-4dd6-bac2-e77aa9e27209\" class=\"plotly-graph-div\" style=\"height:525px; width:100%;\"></div>            <script type=\"text/javascript\">                require([\"plotly\"], function(Plotly) {                    window.PLOTLYENV=window.PLOTLYENV || {};                                    if (document.getElementById(\"837aaf93-f6b7-4dd6-bac2-e77aa9e27209\")) {                    Plotly.newPlot(                        \"837aaf93-f6b7-4dd6-bac2-e77aa9e27209\",                        [{\"labels\":[\"\\uc74c\\uc2dd\\uc810\",\"\\uce74\\ud398\",\"\\uc758\\ub958\",\"\\uc11c\\uc801\",\"\\uc548\\uacbd\\uc810\"],\"values\":[218,210,210,210,210],\"type\":\"pie\"}],                        {\"template\":{\"data\":{\"histogram2dcontour\":[{\"type\":\"histogram2dcontour\",\"colorbar\":{\"outlinewidth\":0,\"ticks\":\"\"},\"colorscale\":[[0.0,\"#0d0887\"],[0.1111111111111111,\"#46039f\"],[0.2222222222222222,\"#7201a8\"],[0.3333333333333333,\"#9c179e\"],[0.4444444444444444,\"#bd3786\"],[0.5555555555555556,\"#d8576b\"],[0.6666666666666666,\"#ed7953\"],[0.7777777777777778,\"#fb9f3a\"],[0.8888888888888888,\"#fdca26\"],[1.0,\"#f0f921\"]]}],\"choropleth\":[{\"type\":\"choropleth\",\"colorbar\":{\"outlinewidth\":0,\"ticks\":\"\"}}],\"histogram2d\":[{\"type\":\"histogram2d\",\"colorbar\":{\"outlinewidth\":0,\"ticks\":\"\"},\"colorscale\":[[0.0,\"#0d0887\"],[0.1111111111111111,\"#46039f\"],[0.2222222222222222,\"#7201a8\"],[0.3333333333333333,\"#9c179e\"],[0.4444444444444444,\"#bd3786\"],[0.5555555555555556,\"#d8576b\"],[0.6666666666666666,\"#ed7953\"],[0.7777777777777778,\"#fb9f3a\"],[0.8888888888888888,\"#fdca26\"],[1.0,\"#f0f921\"]]}],\"heatmap\":[{\"type\":\"heatmap\",\"colorbar\":{\"outlinewidth\":0,\"ticks\":\"\"},\"colorscale\":[[0.0,\"#0d0887\"],[0.1111111111111111,\"#46039f\"],[0.2222222222222222,\"#7201a8\"],[0.3333333333333333,\"#9c179e\"],[0.4444444444444444,\"#bd3786\"],[0.5555555555555556,\"#d8576b\"],[0.6666666666666666,\"#ed7953\"],[0.7777777777777778,\"#fb9f3a\"],[0.8888888888888888,\"#fdca26\"],[1.0,\"#f0f921\"]]}],\"heatmapgl\":[{\"type\":\"heatmapgl\",\"colorbar\":{\"outlinewidth\":0,\"ticks\":\"\"},\"colorscale\":[[0.0,\"#0d0887\"],[0.1111111111111111,\"#46039f\"],[0.2222222222222222,\"#7201a8\"],[0.3333333333333333,\"#9c179e\"],[0.4444444444444444,\"#bd3786\"],[0.5555555555555556,\"#d8576b\"],[0.6666666666666666,\"#ed7953\"],[0.7777777777777778,\"#fb9f3a\"],[0.8888888888888888,\"#fdca26\"],[1.0,\"#f0f921\"]]}],\"contourcarpet\":[{\"type\":\"contourcarpet\",\"colorbar\":{\"outlinewidth\":0,\"ticks\":\"\"}}],\"contour\":[{\"type\":\"contour\",\"colorbar\":{\"outlinewidth\":0,\"ticks\":\"\"},\"colorscale\":[[0.0,\"#0d0887\"],[0.1111111111111111,\"#46039f\"],[0.2222222222222222,\"#7201a8\"],[0.3333333333333333,\"#9c179e\"],[0.4444444444444444,\"#bd3786\"],[0.5555555555555556,\"#d8576b\"],[0.6666666666666666,\"#ed7953\"],[0.7777777777777778,\"#fb9f3a\"],[0.8888888888888888,\"#fdca26\"],[1.0,\"#f0f921\"]]}],\"surface\":[{\"type\":\"surface\",\"colorbar\":{\"outlinewidth\":0,\"ticks\":\"\"},\"colorscale\":[[0.0,\"#0d0887\"],[0.1111111111111111,\"#46039f\"],[0.2222222222222222,\"#7201a8\"],[0.3333333333333333,\"#9c179e\"],[0.4444444444444444,\"#bd3786\"],[0.5555555555555556,\"#d8576b\"],[0.6666666666666666,\"#ed7953\"],[0.7777777777777778,\"#fb9f3a\"],[0.8888888888888888,\"#fdca26\"],[1.0,\"#f0f921\"]]}],\"mesh3d\":[{\"type\":\"mesh3d\",\"colorbar\":{\"outlinewidth\":0,\"ticks\":\"\"}}],\"scatter\":[{\"fillpattern\":{\"fillmode\":\"overlay\",\"size\":10,\"solidity\":0.2},\"type\":\"scatter\"}],\"parcoords\":[{\"type\":\"parcoords\",\"line\":{\"colorbar\":{\"outlinewidth\":0,\"ticks\":\"\"}}}],\"scatterpolargl\":[{\"type\":\"scatterpolargl\",\"marker\":{\"colorbar\":{\"outlinewidth\":0,\"ticks\":\"\"}}}],\"bar\":[{\"error_x\":{\"color\":\"#2a3f5f\"},\"error_y\":{\"color\":\"#2a3f5f\"},\"marker\":{\"line\":{\"color\":\"#E5ECF6\",\"width\":0.5},\"pattern\":{\"fillmode\":\"overlay\",\"size\":10,\"solidity\":0.2}},\"type\":\"bar\"}],\"scattergeo\":[{\"type\":\"scattergeo\",\"marker\":{\"colorbar\":{\"outlinewidth\":0,\"ticks\":\"\"}}}],\"scatterpolar\":[{\"type\":\"scatterpolar\",\"marker\":{\"colorbar\":{\"outlinewidth\":0,\"ticks\":\"\"}}}],\"histogram\":[{\"marker\":{\"pattern\":{\"fillmode\":\"overlay\",\"size\":10,\"solidity\":0.2}},\"type\":\"histogram\"}],\"scattergl\":[{\"type\":\"scattergl\",\"marker\":{\"colorbar\":{\"outlinewidth\":0,\"ticks\":\"\"}}}],\"scatter3d\":[{\"type\":\"scatter3d\",\"line\":{\"colorbar\":{\"outlinewidth\":0,\"ticks\":\"\"}},\"marker\":{\"colorbar\":{\"outlinewidth\":0,\"ticks\":\"\"}}}],\"scattermapbox\":[{\"type\":\"scattermapbox\",\"marker\":{\"colorbar\":{\"outlinewidth\":0,\"ticks\":\"\"}}}],\"scatterternary\":[{\"type\":\"scatterternary\",\"marker\":{\"colorbar\":{\"outlinewidth\":0,\"ticks\":\"\"}}}],\"scattercarpet\":[{\"type\":\"scattercarpet\",\"marker\":{\"colorbar\":{\"outlinewidth\":0,\"ticks\":\"\"}}}],\"carpet\":[{\"aaxis\":{\"endlinecolor\":\"#2a3f5f\",\"gridcolor\":\"white\",\"linecolor\":\"white\",\"minorgridcolor\":\"white\",\"startlinecolor\":\"#2a3f5f\"},\"baxis\":{\"endlinecolor\":\"#2a3f5f\",\"gridcolor\":\"white\",\"linecolor\":\"white\",\"minorgridcolor\":\"white\",\"startlinecolor\":\"#2a3f5f\"},\"type\":\"carpet\"}],\"table\":[{\"cells\":{\"fill\":{\"color\":\"#EBF0F8\"},\"line\":{\"color\":\"white\"}},\"header\":{\"fill\":{\"color\":\"#C8D4E3\"},\"line\":{\"color\":\"white\"}},\"type\":\"table\"}],\"barpolar\":[{\"marker\":{\"line\":{\"color\":\"#E5ECF6\",\"width\":0.5},\"pattern\":{\"fillmode\":\"overlay\",\"size\":10,\"solidity\":0.2}},\"type\":\"barpolar\"}],\"pie\":[{\"automargin\":true,\"type\":\"pie\"}]},\"layout\":{\"autotypenumbers\":\"strict\",\"colorway\":[\"#636efa\",\"#EF553B\",\"#00cc96\",\"#ab63fa\",\"#FFA15A\",\"#19d3f3\",\"#FF6692\",\"#B6E880\",\"#FF97FF\",\"#FECB52\"],\"font\":{\"color\":\"#2a3f5f\"},\"hovermode\":\"closest\",\"hoverlabel\":{\"align\":\"left\"},\"paper_bgcolor\":\"white\",\"plot_bgcolor\":\"#E5ECF6\",\"polar\":{\"bgcolor\":\"#E5ECF6\",\"angularaxis\":{\"gridcolor\":\"white\",\"linecolor\":\"white\",\"ticks\":\"\"},\"radialaxis\":{\"gridcolor\":\"white\",\"linecolor\":\"white\",\"ticks\":\"\"}},\"ternary\":{\"bgcolor\":\"#E5ECF6\",\"aaxis\":{\"gridcolor\":\"white\",\"linecolor\":\"white\",\"ticks\":\"\"},\"baxis\":{\"gridcolor\":\"white\",\"linecolor\":\"white\",\"ticks\":\"\"},\"caxis\":{\"gridcolor\":\"white\",\"linecolor\":\"white\",\"ticks\":\"\"}},\"coloraxis\":{\"colorbar\":{\"outlinewidth\":0,\"ticks\":\"\"}},\"colorscale\":{\"sequential\":[[0.0,\"#0d0887\"],[0.1111111111111111,\"#46039f\"],[0.2222222222222222,\"#7201a8\"],[0.3333333333333333,\"#9c179e\"],[0.4444444444444444,\"#bd3786\"],[0.5555555555555556,\"#d8576b\"],[0.6666666666666666,\"#ed7953\"],[0.7777777777777778,\"#fb9f3a\"],[0.8888888888888888,\"#fdca26\"],[1.0,\"#f0f921\"]],\"sequentialminus\":[[0.0,\"#0d0887\"],[0.1111111111111111,\"#46039f\"],[0.2222222222222222,\"#7201a8\"],[0.3333333333333333,\"#9c179e\"],[0.4444444444444444,\"#bd3786\"],[0.5555555555555556,\"#d8576b\"],[0.6666666666666666,\"#ed7953\"],[0.7777777777777778,\"#fb9f3a\"],[0.8888888888888888,\"#fdca26\"],[1.0,\"#f0f921\"]],\"diverging\":[[0,\"#8e0152\"],[0.1,\"#c51b7d\"],[0.2,\"#de77ae\"],[0.3,\"#f1b6da\"],[0.4,\"#fde0ef\"],[0.5,\"#f7f7f7\"],[0.6,\"#e6f5d0\"],[0.7,\"#b8e186\"],[0.8,\"#7fbc41\"],[0.9,\"#4d9221\"],[1,\"#276419\"]]},\"xaxis\":{\"gridcolor\":\"white\",\"linecolor\":\"white\",\"ticks\":\"\",\"title\":{\"standoff\":15},\"zerolinecolor\":\"white\",\"automargin\":true,\"zerolinewidth\":2},\"yaxis\":{\"gridcolor\":\"white\",\"linecolor\":\"white\",\"ticks\":\"\",\"title\":{\"standoff\":15},\"zerolinecolor\":\"white\",\"automargin\":true,\"zerolinewidth\":2},\"scene\":{\"xaxis\":{\"backgroundcolor\":\"#E5ECF6\",\"gridcolor\":\"white\",\"linecolor\":\"white\",\"showbackground\":true,\"ticks\":\"\",\"zerolinecolor\":\"white\",\"gridwidth\":2},\"yaxis\":{\"backgroundcolor\":\"#E5ECF6\",\"gridcolor\":\"white\",\"linecolor\":\"white\",\"showbackground\":true,\"ticks\":\"\",\"zerolinecolor\":\"white\",\"gridwidth\":2},\"zaxis\":{\"backgroundcolor\":\"#E5ECF6\",\"gridcolor\":\"white\",\"linecolor\":\"white\",\"showbackground\":true,\"ticks\":\"\",\"zerolinecolor\":\"white\",\"gridwidth\":2}},\"shapedefaults\":{\"line\":{\"color\":\"#2a3f5f\"}},\"annotationdefaults\":{\"arrowcolor\":\"#2a3f5f\",\"arrowhead\":0,\"arrowwidth\":1},\"geo\":{\"bgcolor\":\"white\",\"landcolor\":\"#E5ECF6\",\"subunitcolor\":\"white\",\"showland\":true,\"showlakes\":true,\"lakecolor\":\"white\"},\"title\":{\"x\":0.05},\"mapbox\":{\"style\":\"light\"}}},\"title\":{\"text\":\"Gender Status\"}},                        {\"responsive\": true}                    ).then(function(){\n",
       "                            \n",
       "var gd = document.getElementById('837aaf93-f6b7-4dd6-bac2-e77aa9e27209');\n",
       "var x = new MutationObserver(function (mutations, observer) {{\n",
       "        var display = window.getComputedStyle(gd).display;\n",
       "        if (!display || display === 'none') {{\n",
       "            console.log([gd, 'removed!']);\n",
       "            Plotly.purge(gd);\n",
       "            observer.disconnect();\n",
       "        }}\n",
       "}});\n",
       "\n",
       "// Listen for the removal of the full notebook cells\n",
       "var notebookContainer = gd.closest('#notebook-container');\n",
       "if (notebookContainer) {{\n",
       "    x.observe(notebookContainer, {childList: true});\n",
       "}}\n",
       "\n",
       "// Listen for the clearing of the current output cell\n",
       "var outputEl = gd.closest('.output');\n",
       "if (outputEl) {{\n",
       "    x.observe(outputEl, {childList: true});\n",
       "}}\n",
       "\n",
       "                        })                };                });            </script>        </div>"
      ]
     },
     "metadata": {},
     "output_type": "display_data"
    }
   ],
   "source": [
    "# industries\n",
    "# 데이터 균형 확인하기 : pie chart 그리기\n",
    "import pandas as pd\n",
    "import plotly.graph_objects as go\n",
    "\n",
    "# 파이차트 데이터 생성\n",
    "# industries_count = df['industries'].value_counts()\n",
    "industries_count = df['industry'].value_counts()\n",
    "labels = ['음식점', '카페', '의류', '서적', '안경점']\n",
    "values = [industries_count[0], industries_count[1],industries_count[1],\n",
    "         industries_count[1],industries_count[1]]\n",
    "\n",
    "# 파이차트 생성 및 레이아웃 설정\n",
    "fig = go.Figure(data=[go.Pie(labels=labels, values=values)])\n",
    "fig.update_layout(title='Gender Status')\n",
    "\n",
    "# 그래프 출력\n",
    "fig.show()"
   ]
  },
  {
   "cell_type": "markdown",
   "id": "6d1e2c47",
   "metadata": {},
   "source": [
    "[문제]\n",
    "1. Gender 변수 시각화에서 알게된 내용"
   ]
  },
  {
   "cell_type": "markdown",
   "id": "91cccab2",
   "metadata": {},
   "source": [
    "#### 3. 확률변수 계산하기\n",
    "* 변수별 확률 변수 계산하기"
   ]
  },
  {
   "cell_type": "code",
   "execution_count": 13,
   "id": "a54047c3",
   "metadata": {},
   "outputs": [
    {
     "name": "stdout",
     "output_type": "stream",
     "text": [
      "Industry Probability:\n",
      "industry\n",
      "서적     0.218\n",
      "안경점    0.210\n",
      "음식점    0.177\n",
      "의류     0.200\n",
      "카페     0.195\n",
      "dtype: float64\n",
      "\n",
      "Area Probability:\n",
      "area\n",
      "30    0.198\n",
      "40    0.226\n",
      "50    0.176\n",
      "60    0.189\n",
      "70    0.211\n",
      "dtype: float64\n",
      "\n",
      "Rent Probability:\n",
      "rent\n",
      "1000000    0.201\n",
      "2000000    0.225\n",
      "3000000    0.174\n",
      "4000000    0.206\n",
      "5000000    0.194\n",
      "dtype: float64\n"
     ]
    }
   ],
   "source": [
    "# 업종과 면적, 임대료에 따른 확률변수 도출\n",
    "industry_prob = df.groupby('industry').size() / len(df)\n",
    "area_prob = df.groupby('area').size() / len(df)\n",
    "rent_prob = df.groupby('rent').size() / len(df)\n",
    "\n",
    "# 도출된 확률변수 출력\n",
    "print(\"Industry Probability:\")\n",
    "print(industry_prob)\n",
    "print(\"\\nArea Probability:\")\n",
    "print(area_prob)\n",
    "print(\"\\nRent Probability:\")\n",
    "print(rent_prob)"
   ]
  },
  {
   "cell_type": "markdown",
   "id": "b82f9690",
   "metadata": {},
   "source": [
    "[문제]\n",
    "\n",
    "1. 확률변수를 확인하고 알게된 내용"
   ]
  },
  {
   "cell_type": "markdown",
   "id": "a3fffdc1",
   "metadata": {},
   "source": [
    "#### 4. 조건에 따른 기대값(해지율) 계산하기\n",
    "* 업종이 음식점이고 면적이 50, 임대료가 2000000인 상점은 얼마나 오랫동안 영업할 수 있을까?"
   ]
  },
  {
   "cell_type": "code",
   "execution_count": 14,
   "id": "0117f416",
   "metadata": {
    "scrolled": true
   },
   "outputs": [
    {
     "name": "stdout",
     "output_type": "stream",
     "text": [
      "    company_name industry  area     rent  duration\n",
      "148          B상가      음식점    50  2000000         3\n",
      "310          C상가      음식점    50  2000000         2\n",
      "445          A상가      음식점    50  2000000         2\n",
      "542          C상가      음식점    50  2000000         1\n",
      "636          C상가      음식점    50  2000000         4\n",
      "678          B상가      음식점    50  2000000         3\n"
     ]
    }
   ],
   "source": [
    "# 업종이 음식점이고 면적이 50, 임대료가 2000000인 상점 추출\n",
    "selected_shop = df[(df['area'] == 50) & (df['rent'] == 2000000) & (df['industry'] == '음식점')]\n",
    "\n",
    "# 추출된 상점 정보 출력\n",
    "print(selected_shop)"
   ]
  },
  {
   "cell_type": "code",
   "execution_count": 15,
   "id": "386a189a",
   "metadata": {},
   "outputs": [
    {
     "name": "stdout",
     "output_type": "stream",
     "text": [
      "영업기간 1 확률변수는  0.16666666666666666\n",
      "영업기간 2 확률변수는  0.3333333333333333\n",
      "영업기간 3 확률변수는  0.3333333333333333\n",
      "영업기간 4 확률변수는  0.16666666666666666\n",
      "영업기간 5 확률변수는  0.0\n"
     ]
    }
   ],
   "source": [
    "# 각 영업기간별 확률변수 계산\n",
    "prob_data = []\n",
    "for i in range(1,6):\n",
    "    prob_data.append(len(selected_shop[selected_shop['duration']==i])/len(selected_shop))\n",
    "    print(\"영업기간\",str(i),\"확률변수는 \", len(selected_shop[selected_shop['duration']==i])/len(selected_shop))"
   ]
  },
  {
   "cell_type": "code",
   "execution_count": 16,
   "id": "a98536ab",
   "metadata": {},
   "outputs": [
    {
     "data": {
      "text/plain": [
       "2.5"
      ]
     },
     "execution_count": 16,
     "metadata": {},
     "output_type": "execute_result"
    }
   ],
   "source": [
    "# 기대값 계산\n",
    "exp_data = []\n",
    "for i in range(0,5):\n",
    "    exp_data.append((i+1)*prob_data[i])\n",
    "    \n",
    "sum(exp_data)"
   ]
  },
  {
   "cell_type": "markdown",
   "id": "28f21fab",
   "metadata": {},
   "source": [
    "[문제]\n",
    "\n",
    "1. 다른 조건을 부여해서 기대값을 구해보세요."
   ]
  }
 ],
 "metadata": {
  "kernelspec": {
   "display_name": "Python 3 (ipykernel)",
   "language": "python",
   "name": "python3"
  },
  "language_info": {
   "codemirror_mode": {
    "name": "ipython",
    "version": 3
   },
   "file_extension": ".py",
   "mimetype": "text/x-python",
   "name": "python",
   "nbconvert_exporter": "python",
   "pygments_lexer": "ipython3",
   "version": "3.11.3"
  }
 },
 "nbformat": 4,
 "nbformat_minor": 5
}
