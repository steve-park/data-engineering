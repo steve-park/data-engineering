{
 "cells": [
  {
   "cell_type": "markdown",
   "id": "95db1cea",
   "metadata": {},
   "source": [
    "# 파이썬 기초3 : AI 모델링과 데이터 사이언스를 위한 기초 과정\n",
    "* 본 과정은 파이썬 초심자을 위한 과정으로 AI 모델링과 데이터 사이언스를 위해 꼭 필요한 지식에 대해 배울 수 있습니다.\n",
    "* 본 과정을 모두 마칠 무렵이면 여러분은 파이썬으로 데이터를 다룰 수 있게될 겁니다.\n",
    "* 파이썬에 대한 모든 것을 다루지는 않습니다. 처음 AI 모델링과 데이터 사이언스를 시작할 때 꼭 필요한 내용을 중심으로 준비했습니다."
   ]
  },
  {
   "cell_type": "markdown",
   "id": "06a93d90",
   "metadata": {},
   "source": [
    "## 2. 라이브러리 활용하기2\n",
    "* 이번 시간에는 파이썬의 큰 장점 중 하나인 강력한 확장성을 보장하는 라이브러리에 대해서 다루어 볼 예정입니다.\n",
    "* 특히 파이썬을 사용하는 다른 유저들이 미리 만들어놓은 외부 라이브러리를 활용하는 방법에 대해 알아보겠습니다."
   ]
  },
  {
   "cell_type": "markdown",
   "id": "563607b7",
   "metadata": {},
   "source": [
    "* 파이썬 외부 라이브러리 설명 공식 Document\n",
    "    * https://docs.python.org/ko/3.10/installing/index.html\n",
    "* pypi 홈페이지\n",
    "    * https://pypi.org/"
   ]
  },
  {
   "cell_type": "markdown",
   "id": "f55d9ad5",
   "metadata": {},
   "source": [
    "### Q1. 파이썬 외부 라이브러리는 무엇일까요?"
   ]
  },
  {
   "cell_type": "markdown",
   "id": "c3992bcf",
   "metadata": {},
   "source": [
    "#### Chat GPT에게 물어봅시다."
   ]
  },
  {
   "cell_type": "markdown",
   "id": "a246053a",
   "metadata": {},
   "source": [
    "> 외부 라이브러리의 정의는?(Query : 파이썬 외부 라이브러리는 무엇을 의미하는가요?)\n",
    "> * 여기에 적어주세요."
   ]
  },
  {
   "cell_type": "markdown",
   "id": "accb8530",
   "metadata": {},
   "source": [
    "> 외부 라이브러리는 어떤 것이 있나요?(Query : 파이썬 외부 라이브러리 중 대표적인 세 가지만 알려주세요)\n",
    "> * 여기에 적어주세요.\n",
    "> * 여기에 적어주세요.\n",
    "> * 여기에 적어주세요."
   ]
  },
  {
   "cell_type": "markdown",
   "id": "cbd68b68",
   "metadata": {},
   "source": [
    "### Q2. 파이썬 외부 라이브러리는 어떻게 사용하나요?\n",
    "* 문서 확인하기 - <b>설치하기</b> -import 하기 - 함수 또는 클래스 사용하기 - 예제 코드 참고하기"
   ]
  },
  {
   "cell_type": "markdown",
   "id": "92cc9b88",
   "metadata": {},
   "source": [
    "#### Q2-1. 외부 라이브러리 scikit-learn을 활용해서 와인 데이터를 불러오세요."
   ]
  },
  {
   "cell_type": "markdown",
   "id": "5a6774dd",
   "metadata": {},
   "source": [
    "##### 1. 문서 확인하기\n",
    "* scikit-learn 공식 Document를 확인해보겠습니다 : https://pypi.org/project/scikit-learn/ https://scikit-learn.org/stable/index.html\n",
    "* Chat GPT에게 물어보겠습니다.(Query : 파이썬 외부 라이브러리 중 scikit-learn에 대해 기재되어있는 문서를 알려줘)"
   ]
  },
  {
   "cell_type": "markdown",
   "id": "35805aef",
   "metadata": {},
   "source": [
    "##### 2. 설치하기"
   ]
  },
  {
   "cell_type": "code",
   "execution_count": null,
   "id": "d1f3fc08",
   "metadata": {},
   "outputs": [],
   "source": [
    "# scikit-learn 라이브러리를 설치해주세요.\n"
   ]
  },
  {
   "cell_type": "markdown",
   "id": "4e8a716e",
   "metadata": {},
   "source": [
    "##### 3. Import 하기"
   ]
  },
  {
   "cell_type": "code",
   "execution_count": null,
   "id": "717e1568",
   "metadata": {},
   "outputs": [],
   "source": [
    "# Chat GPT에게 scikit-learn 라이브러리를 Import 하는 방법에 대해 물어보겠습니다.(Query : 파이썬에서 scikit-learn 라이브러리 import 하는 방법 알려주세요)\n"
   ]
  },
  {
   "cell_type": "markdown",
   "id": "d4f54c2d",
   "metadata": {},
   "source": [
    "##### 4. 함수 또는 클래스 사용하기\n",
    "* 공식문서에서 데이터를 불러오는 함수 찾기 : https://scikit-learn.org/stable/datasets.html"
   ]
  },
  {
   "cell_type": "code",
   "execution_count": null,
   "id": "b239dc2e",
   "metadata": {},
   "outputs": [],
   "source": [
    "# 공식문서에서 데이터를 불러오는 함수를 찾아서 와인 데이터를 불러오는 소스코드를 완성해주세요.\n"
   ]
  },
  {
   "cell_type": "code",
   "execution_count": null,
   "id": "0c40e61b",
   "metadata": {},
   "outputs": [],
   "source": [
    "# Chat GPT에게 scikit-learn 라이브러리를 활용해서 와인 데이터를 불러오는 소스코드에 대해 물어보겠습니다.\n",
    "# (Query : 파이썬에서 scikit-learn 라이브러리를 활용해서 와인 데이터를 불러오는 소스코드를 만들어 주세요)\n"
   ]
  },
  {
   "cell_type": "markdown",
   "id": "589c5581",
   "metadata": {},
   "source": [
    "##### 추가로 알아봅시다.\n",
    "* 와인데이터의 feature에 대해 자세히 물어볼게요.\n",
    "* Query : 파이썬에서 scikit-learn 와인 데이터의 feature에 대해서 자세히 알려줘"
   ]
  },
  {
   "cell_type": "markdown",
   "id": "b3bb36ba",
   "metadata": {},
   "source": [
    "##### 5. 예제 코드 참고하기\n",
    "* Chat GPT에게 scikit-learn 라이브러리를 활용해서 Decision Tree로 와인데이터를 학습시켜서 종류를 예측하는 소스코드에 대해 물어보겠습니다."
   ]
  },
  {
   "cell_type": "code",
   "execution_count": null,
   "id": "f1268967",
   "metadata": {},
   "outputs": [],
   "source": [
    "# CChat GPT에게 scikit-learn 라이브러리를 활용해서 Decision Tree로 와인데이터를 학습시켜서 종류를 예측하는 소스코드에 대해 물어보겠습니다.\n",
    "# (Query : 파이썬에서 scikit-learn 라이브러리를 활용해서 와인 데이터를 불러와서 머신러닝 학습시킬 수 있도록 변수 지정하는 소스코드를 만들어 주세요\n",
    "# (Query : 파이썬에서 scikit-learn 라이브러리를 활용해서 Decision Tree로 와인데이터를 학습시켜서 종류를 예측하는 소스코드 알려주세요)\n"
   ]
  },
  {
   "cell_type": "markdown",
   "id": "0de4ed6b",
   "metadata": {},
   "source": [
    "## Summary\n",
    "* 이번 시간에는 파이썬의 큰 장점 중 하나인 강력한 확장성을 보장하는 라이브러리에 대해서 다루어 봤습니다.\n",
    "* 특히 외부 라이브러리에 대해서 알아봤구요. scikit-learn 라이브러리로 간단하게 활용하는 실습을 진행했습니다.\n",
    "* 다음 시간에는 데이터를 다루기 위해서 필수로 알아야하는 Numpy에 대해서 다루어 보겠습니다."
   ]
  }
 ],
 "metadata": {
  "kernelspec": {
   "display_name": "Python 3 (ipykernel)",
   "language": "python",
   "name": "python3"
  },
  "language_info": {
   "codemirror_mode": {
    "name": "ipython",
    "version": 3
   },
   "file_extension": ".py",
   "mimetype": "text/x-python",
   "name": "python",
   "nbconvert_exporter": "python",
   "pygments_lexer": "ipython3",
   "version": "3.10.10"
  }
 },
 "nbformat": 4,
 "nbformat_minor": 5
}
