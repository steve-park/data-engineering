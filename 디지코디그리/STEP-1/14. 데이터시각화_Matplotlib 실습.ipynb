{
 "cells": [
  {
   "cell_type": "code",
   "execution_count": null,
   "metadata": {
    "id": "nMDooZVAiOaW"
   },
   "outputs": [],
   "source": [
    "import numpy as np\n",
    "import pandas as pd\n",
    "import matplotlib.pyplot as plt\n",
    "import seaborn as sns"
   ]
  },
  {
   "cell_type": "markdown",
   "metadata": {
    "id": "GBDF2l7B8gM6"
   },
   "source": [
    "# **STEP 2-3. 데이터 시각화 Matplotlib**"
   ]
  },
  {
   "cell_type": "markdown",
   "metadata": {
    "id": "n-M4D7LnmLhB"
   },
   "source": [
    "https://matplotlib.org/"
   ]
  },
  {
   "cell_type": "code",
   "execution_count": null,
   "metadata": {
    "id": "Q15cSRa8VcRT"
   },
   "outputs": [],
   "source": [
    "pip install matplotlib"
   ]
  },
  {
   "cell_type": "code",
   "execution_count": null,
   "metadata": {
    "id": "GKmFSXqjVhNR"
   },
   "outputs": [],
   "source": [
    "import matplotlib.pyplot as plt"
   ]
  },
  {
   "cell_type": "markdown",
   "metadata": {
    "id": "0l9xCc4s3lYc"
   },
   "source": [
    "## **1. Matplotlib 기본 개념**\n",
    "\n",
    "*   matplotlib 패키지 추가\n",
    "*   패키지가 없는 경우, 설치 명령어 : pip install matplotlib"
   ]
  },
  {
   "cell_type": "code",
   "execution_count": null,
   "metadata": {
    "id": "olxDU_DS3tEt"
   },
   "outputs": [],
   "source": [
    "# matplotlib.pyplot 모듈 로드하여 plt로 사용\n"
   ]
  },
  {
   "cell_type": "markdown",
   "metadata": {
    "id": "txkJMifk9BRS"
   },
   "source": [
    "## **2. Matplotlib 숫자 입력**"
   ]
  },
  {
   "cell_type": "markdown",
   "metadata": {
    "id": "GgfRbpwJ4ZG5"
   },
   "source": [
    "### **2-1. 한 개의 리스트 입력**\n",
    "- 한 개의 숫자 리스트 형태로 값을 입력하면 y값으로 인식\n",
    "- x값은 기본적으로 [0, 1, 2, 3]으로 설정됨\n",
    "- 파이썬 튜플, 넘파이 배열 형태도 가능\n",
    "- plt.show( ) 함수는 그래프를 화면에 나타나도록 함"
   ]
  },
  {
   "cell_type": "code",
   "execution_count": null,
   "metadata": {
    "id": "Gb46P_XZ4z-d"
   },
   "outputs": [],
   "source": [
    "# 하나의 숫자 리스트 입력\n",
    "# 리스트의 값들이 y 값들이라고 가정하고 x값 [0, 1, 2, 3]을 자동으로 만들어냄\n",
    "# plt.show( ) 함수는 그래프를 화면에 나타나도록 함\n",
    "\n"
   ]
  },
  {
   "cell_type": "markdown",
   "metadata": {
    "id": "Ce-iLgerB03G"
   },
   "source": [
    "### **2-2. 두 개의 리스트 입력**\n",
    "- 두 개의 숫자 리스트 형태로 값을 입력하면 순서대로 x, y 값으로 인식\n",
    "- 순서쌍(x, y)으로 매칭된 값을 좌표평면 위에 그래프 시각화"
   ]
  },
  {
   "cell_type": "code",
   "execution_count": null,
   "metadata": {
    "id": "NimY31B96IvN"
   },
   "outputs": [],
   "source": [
    "# 두 개의 숫자 리스트 입력\n",
    "# 첫 번째 리스트의 값은 x값, 두 번째 리스트의 값은 y로 적용됨\n",
    "# 순서쌍(x, y)으로 매칭된 값을 좌표평면 위에 그래프 시각화\n",
    "\n"
   ]
  },
  {
   "cell_type": "markdown",
   "metadata": {
    "id": "2IrrcBYbCZw2"
   },
   "source": [
    "## **3. Matplotlib 축 레이블 설정**\n",
    "- xlabel() 함수를 사용하여 그래프의 x축에 대한 레이블 표시\n",
    "- ylabel() 함수를 사용하여 그래프의 y축에 대한 레이블 표시"
   ]
  },
  {
   "cell_type": "code",
   "execution_count": null,
   "metadata": {
    "id": "50CQ4C_NCZOI"
   },
   "outputs": [],
   "source": [
    "# xlabel() 함수에 'X-Label' 입력하여 x축에 대한 레이블 표시\n",
    "# ylabel() 함수에 'Y-Label' 입력하여  y축에 대한 레이블 표시\n",
    "\n",
    "\n",
    "\n"
   ]
  },
  {
   "cell_type": "markdown",
   "metadata": {
    "id": "Q2bQhC66D2x0"
   },
   "source": [
    "## **4. Matplotlib 범례(Legend) 설정**\n",
    "- 범례(Legend)는 그래프에 데이터의 종류를 표시하기 위한 텍스트\n",
    "- legend() 함수를 사용해서 그래프에 범례 표시\n",
    "- plot() 함수에 label 파라미터 값으로 삽입"
   ]
  },
  {
   "cell_type": "code",
   "execution_count": null,
   "metadata": {
    "id": "jqZH4JiyCZLL"
   },
   "outputs": [],
   "source": [
    "# plot() 함수의 label 매개변수에 'Square(제곱)' 문자열 입력\n",
    "# legend() 함수를 사용해서 그래프에 범례 표시\n",
    "\n",
    "plt.plot([1, 2, 3, 4], [3, 6, 9, 12], )\n",
    "plt.xlabel('X-Label')\n",
    "plt.ylabel('Y-Label')\n",
    "\n",
    "   \n",
    "\n",
    "plt.show()\n",
    "\n",
    "\n",
    "\n"
   ]
  },
  {
   "cell_type": "markdown",
   "metadata": {
    "id": "Ft-MIXglHck0"
   },
   "source": [
    "## **5. Matplotlib 축 범위 설정**\n",
    "\n",
    "\n",
    "\n",
    "- xlim() : X축이 표시되는 범위 지정 [xmin, xmax]\n",
    "- ylim() : Y축이 표시되는 범위 지정 [ymin, ymax]\n",
    "- axis() : X, Y축이 표시되는 범위 지정 [xmin, xmax, ymin, ymax]\n",
    "- 입력 값이 없으면 데이터에 맞게 자동으로 범위 지정"
   ]
  },
  {
   "cell_type": "code",
   "execution_count": null,
   "metadata": {
    "id": "YyrkK734VAeZ"
   },
   "outputs": [],
   "source": [
    "import matplotlib"
   ]
  },
  {
   "cell_type": "code",
   "execution_count": null,
   "metadata": {
    "id": "qltkonhhVUr8"
   },
   "outputs": [],
   "source": [
    "pip Matplotlib as plt"
   ]
  },
  {
   "cell_type": "code",
   "execution_count": null,
   "metadata": {
    "id": "shbiWtCmH3G0"
   },
   "outputs": [],
   "source": [
    "# X축의 범위: [xmin, xmax] = [0, 5]\n",
    "# Y축의 범위: [ymin, ymax] = [0, 20]\n",
    "plt.plot([1, 2, 3, 4], [3, 6, 9, 12])\n",
    "plt.xlabel('X-Label')\n",
    "plt.ylabel('Y-Label')\n",
    "\n",
    "\n",
    "plt.show()"
   ]
  },
  {
   "cell_type": "code",
   "execution_count": null,
   "metadata": {
    "id": "iv2Hr-NX60yg"
   },
   "outputs": [],
   "source": [
    "# axis() : X, Y축이 표시되는 범위 지정 [xmin, xmax, ymin, ymax]\n",
    "plt.plot([1, 2, 3, 4], [1, 4, 9, 16])\n",
    "\n",
    "\n",
    "plt.show()"
   ]
  },
  {
   "cell_type": "markdown",
   "metadata": {
    "id": "Wovj8wi-HchR"
   },
   "source": [
    "## **6. Matplotlib 선 종류 설정**\n",
    "- plot() 함수의 포맷 문자열 사용\n",
    "> - '-' (Solid), '- -' (Dashed), ' : ' (Dotted), ' -. ' (Dash-dot)\n",
    "- plot() 함수의 linestyle 파라미터 값으로 삽입\n",
    "> - '-' (solid), '- -' (dashed), ' : ' (dotted), ' -. ' (dashdot)\n",
    "- 튜플을 사용하여 선의 종류 커스터마이즈\n",
    "> - (0, (1, 1)) [dotted], (0, (5, 5)) [dashed], (0, (3, 5, 1, 5)) [dashdotted]"
   ]
  },
  {
   "cell_type": "code",
   "execution_count": null,
   "metadata": {
    "id": "cKTuvZuIUCF5"
   },
   "outputs": [],
   "source": [
    "# plot() 함수의 포맷 문자열 사용\n",
    "# plot() 함수의 linestyle 값으로 삽입\n",
    "# 축 이름, 범위, 범례 설정\n",
    "plt.plot([1, 2, 3], [4, 4, 4], )\n",
    "plt.plot([1, 2, 3], [3, 3, 3], )\n",
    "plt.plot([1, 2, 3], [2, 2, 2], )\n",
    "plt.plot([1, 2, 3], [1, 1, 1], )\n",
    "\n",
    "plt.xlabel('X-Label')\n",
    "plt.ylabel('Y-Label')\n",
    "plt.axis([0.8, 3.2, 0.5, 5.0])\n",
    "plt.legend(loc='upper right', ncol=4)\n",
    "\n",
    "plt.show()"
   ]
  },
  {
   "cell_type": "markdown",
   "metadata": {
    "id": "iwnMkHayHcLF"
   },
   "source": [
    "## **7. Matplotlib 마커 설정**\n",
    "- 기본적으로는 실선 마커\n",
    "- plot() 함수의 포맷 문자열 (Format string)을 사용해서 마커 지정\n",
    "> - 'ro’는 빨간색 (‘red’)의 원형 (‘circle’) 마커를 의미\n",
    "> - 'k^’는 검정색 (‘black’)의 삼각형 (‘triangle’) 마커를 의미\n",
    "- plot() 함수의 marker 파라미터 값으로 삽입 \n",
    "> - 's'(square), 'D'(diamond)"
   ]
  },
  {
   "cell_type": "code",
   "execution_count": null,
   "metadata": {
    "id": "zX37wATJkLdJ"
   },
   "outputs": [],
   "source": [
    "# 'b' blue, 'ro' red+circle\n",
    "# 's' square, 'D' diamond \n",
    "# '$문자$' 문자 마커\n",
    "plt.plot([4, 5, 6], )\n",
    "plt.plot([3, 4, 5], )\n",
    "plt.plot([2, 3, 4], )\n",
    "plt.plot([1, 2, 3], )\n",
    "plt.plot([0, 1, 2], )\n",
    "plt.show()"
   ]
  },
  {
   "cell_type": "markdown",
   "metadata": {
    "id": "tArqZH2jnLai"
   },
   "source": [
    "## **8. Matplotlib 색상 설정**\n",
    "- plot() 함수의 포맷 문자열 (Format string)을 사용해서 색상 지정\n",
    "- plot() 함수의 color 파라미터 값으로 삽입\n",
    "- 다양한 색상 [링크](https://matplotlib.org/stable/gallery/color/named_colors.html?highlight=css%20color) 참고"
   ]
  },
  {
   "cell_type": "code",
   "execution_count": null,
   "metadata": {
    "id": "GmSrkoBHnXFw"
   },
   "outputs": [],
   "source": [
    "# 'r' red, 'violet', 'dodgerblue' \n",
    "plt.plot([1, 2, 3, 4], [2.0, 3.0, 5.0, 10.0], )\n",
    "plt.plot([1, 2, 3, 4], [2.0, 2.8, 4.3, 6.5],  )\n",
    "plt.plot([1, 2, 3, 4], [2.0, 2.5, 3.3, 4.5],  )\n",
    "\n",
    "plt.xlabel('X-Label')\n",
    "plt.ylabel('Y-Label')\n",
    "\n",
    "plt.show()"
   ]
  },
  {
   "cell_type": "markdown",
   "metadata": {
    "id": "ziU0BsqprEYA"
   },
   "source": [
    "## **9. Matplotlib 타이틀 설정**\n",
    "- title() 함수를 이용하여 타이틀 설정\n",
    "- title() 함수의 loc 파라미터 값으로 위치 설정\n",
    "> - loc 파라미터 : {‘left’, ‘center’, ‘right’}\n",
    "- title() 함수의 pad 파라미터 값으로 타이틀과 그래프와의 간격(포인트 단위) 설정 "
   ]
  },
  {
   "cell_type": "code",
   "execution_count": null,
   "metadata": {
    "id": "J6hxNER-pWGy"
   },
   "outputs": [],
   "source": [
    "plt.plot([1, 2, 3, 4], [1, 4, 9, 16])\n",
    "plt.xlabel('X-Label')\n",
    "plt.ylabel('Y-Label')\n",
    "plt.title('Graph Title',)"
   ]
  },
  {
   "cell_type": "markdown",
   "metadata": {
    "id": "5lD71iW74b4I"
   },
   "source": [
    "## **10. Matplotlib 눈금 표시**\n",
    "- xticks(), yticks() 함수는 각각 X축, Y축에 눈금 설정\n",
    "- xticks(), yticks() 함수의 label 파라미터 값으로 눈금 레이블 설정"
   ]
  },
  {
   "cell_type": "markdown",
   "metadata": {
    "id": "QVQA-wkvo3UU"
   },
   "source": [
    "## **11. Matplotlib 막대 그래프**\n",
    "- bar() 함수 이용하여 막대 그래프 시각화\n",
    "- bar() 함수의 color 파라미터 값으로 색상 설정\n",
    "- bar() 함수의 width 파라미터 값으로 막대 폭 설정"
   ]
  },
  {
   "cell_type": "code",
   "execution_count": null,
   "metadata": {
    "id": "HqVuHGDv415n"
   },
   "outputs": [],
   "source": [
    "# years는 X축에 표시될 연도이고, values는 막대 그래프의 y 값 \n",
    "# xticks(x, years) : x축의 눈금 레이블에 '2022', '2023', '2024' 순서대로 설정\n",
    "# color와 width로 막대 그래프 파라미터 설정\n",
    "\n",
    "x = [1, 2, 3]\n",
    "years = ['2022', '2023', '2024']\n",
    "values = [300, 100, 700]\n",
    "\n",
    "plt.bar(x, values, color=['r', 'g', 'b'], width=0.4)\n",
    "#plt.bar(x, values, color=['r', 'g', 'b'], width=0.8)\n",
    "\n",
    "plt.xticks(x, years)\n",
    "\n",
    "plt.show()"
   ]
  },
  {
   "cell_type": "markdown",
   "metadata": {
    "id": "UnBy_XfT2gT_"
   },
   "source": [
    "## **12. Matplotlib 산점도**\n",
    "- scatter() 함수 이용하여 산점도 시각화\n",
    "- scatter() 함수의 color 파라미터 값으로 마커의 색상 설정\n",
    "- scatter() 함수의 size 파라미터 값으로 마커의 크기 설정"
   ]
  },
  {
   "cell_type": "code",
   "execution_count": null,
   "metadata": {
    "id": "SElSXCsVBF2g"
   },
   "outputs": [],
   "source": [
    "# numpy 복습 random 모듈의 rand 함수를 통해 숫자 랜덤하게 생성\n",
    "# color와 size로 산점도 파라미터 설정\n",
    "import numpy as np\n",
    "import matplotlib.pyplot as plt\n",
    "\n",
    "np.random.seed(0)\n",
    "\n",
    "n = 50\n",
    "x = np.random.rand(n)\n",
    "y = np.random.rand(n)\n",
    "size = (np.random.rand(n) * 20)**2\n",
    "colors = np.random.rand(n)\n",
    "\n",
    "plt.scatter(x, y, s=size, c=colors)\n",
    "plt.show()\n"
   ]
  },
  {
   "cell_type": "markdown",
   "metadata": {
    "id": "9LLRc1VDnAAF"
   },
   "source": [
    "## **13. Matplotlib 다양한 그래프 종류**\n",
    "- matplotlib.pyplot.bar( ) : 막대 그래프\n",
    "- matplotlib.pyplot.barh( ) : 수평 막대 그래프\n",
    "- matplotlib.pyplot.scatter( ) : 산점도 \n",
    "- matplotlib.pyplot.hist( ) : 히스토그램\n",
    "- matplotlib.pyplot.errorbar( ) : 에러바\n",
    "- matplotlib.pyplot.pie( ) : 파이 차트\n",
    "- matplotlib.pyplot.matshow( ) : 히트맵 "
   ]
  },
  {
   "cell_type": "markdown",
   "metadata": {
    "id": "NeDZQCmNDAKu"
   },
   "source": [
    "## **14. Matplotlib subplot 이용한 여러 개 그래프 시각화**\n",
    "- subplot() 함수는 영역을 나눠 여러 개의 그래프 시각화\n",
    "- plt.subplot(row, column, index)\n",
    "- tight_layout() 함수는 모서리와 서브플롯의 모서리 사이의 여백(padding)을 설정"
   ]
  },
  {
   "cell_type": "code",
   "execution_count": null,
   "metadata": {
    "id": "siU4cODryu0s"
   },
   "outputs": [],
   "source": [
    "# linspace : 몇등분할지 생각하면 디폴트는 50\n",
    "# np.linspace(0, 10) : 0부터 10까지 50등분한 결과를 배열로 반환 \n",
    "x1 = np.linspace(0, 10)\n",
    "x1"
   ]
  },
  {
   "cell_type": "code",
   "execution_count": null,
   "metadata": {
    "id": "Lybd6Y1hy4n-"
   },
   "outputs": [],
   "source": [
    "# linspace : 몇등분할지 생각하면 디폴트는 50\n",
    "# np.linspace(0, 4) : 0부터 4까지 50등분한 결과를 배열로 반환 \n",
    "x2 = np.linspace(0, 4)\n",
    "x2"
   ]
  },
  {
   "cell_type": "code",
   "execution_count": null,
   "metadata": {
    "id": "cckoM9_2FKqL"
   },
   "outputs": [],
   "source": [
    "# y값은 역동적인 그래프를 위한 np.cosine 함수 이용 \n",
    "# np.pi 함수로 원주율(파이) 값 사용\n",
    "y1 = np.cos(2 * np.pi * x1)\n",
    "y2 = np.cos(2 * np.pi * x2)\n",
    "\n",
    "# subplot \n",
    "# nrows=2, ncols=1, index=1\n",
    "plt.subplot(2, 1, 1)\n",
    "plt.plot(x1, y1, 'o-')\n",
    "plt.title('1st Graph')\n",
    "\n",
    "# subplot \n",
    "# nrows=2, ncols=1, index=2\n",
    "plt.subplot(2, 1, 2)\n",
    "plt.plot(x2, y2, '.-')\n",
    "plt.title('2nd Graph')\n",
    "\n",
    "# tight_layout() 함수는 모서리와 서브플롯의 모서리 사이의 여백(padding)을 설정 \n",
    "plt.tight_layout()\n",
    "plt.show()\n",
    "\n"
   ]
  },
  {
   "cell_type": "code",
   "execution_count": null,
   "metadata": {
    "id": "kMkK73J_XHo6"
   },
   "outputs": [],
   "source": [
    "# tight_layout() 함수 지운 결과 비교\n",
    "# tight_layout() 함수는 모서리와 서브플롯의 모서리 사이의 여백(padding)을 설정\n",
    "y1 = np.cos(2 * np.pi * x1)\n",
    "y2 = np.cos(2 * np.pi * x2)\n",
    "\n",
    "plt.subplot(2, 1, 1)               \n",
    "plt.plot(x1, y1, 'o-')\n",
    "plt.title('1st Graph')\n",
    "\n",
    "\n",
    "plt.subplot(2, 1, 2)                \n",
    "plt.plot(x2, y2, '.-')\n",
    "plt.title('2nd Graph')\n",
    "\n",
    "plt.show()"
   ]
  },
  {
   "cell_type": "markdown",
   "metadata": {
    "id": "NzN4Cea6M_WU"
   },
   "source": [
    "## **15. Matplotlib 한 좌표 평면 위에 다른 종류의 그래프 시각화**\n",
    "- plt.subplots() 함수는 여러 개 그래프를 한 번에 가능 \n",
    "- plt.subplots() 함수의 디폴트 파라미터는 1이며 즉 plt.subplots(nrows=1, ncols=1) 의미\n",
    "- plt.subplots() 함수는 figure와 axes 값을 반환\n",
    "- figure \n",
    "> - 전체 subplot 의미\n",
    "> - 서브플롯 안에 몇 개의 그래프가 있던지 상관없이 그걸 담는 전체 사이즈를 의미\n",
    "- axe\n",
    "> - 전체 중 낱낱개 의미\n",
    "> - ex) 서브플롯 안에 2개(a1,a2)의 그래프가 있다면 a1, a2 를 일컬음\n",
    "\n",
    "- .twinx() 함수는 ax1과 축을 공유하는 새로운 Axes 객체 생성\n",
    "​"
   ]
  },
  {
   "cell_type": "code",
   "execution_count": 1,
   "metadata": {
    "id": "j19ZAQwTXae4"
   },
   "outputs": [
    {
     "data": {
      "image/png": "[encoded data removed]",
      "text/plain": [
       "<Figure size 640x480 with 2 Axes>"
      ]
     },
     "metadata": {},
     "output_type": "display_data"
    }
   ],
   "source": [
    "import matplotlib.pyplot as plt\n",
    "import numpy as np\n",
    "\n",
    "# x는 X축에 표시될 연도이고, y1, y2는 y 값 \n",
    "x = ['2022', '2023', '2024']\n",
    "y1 = np.array([1, 7, 14])\n",
    "y2 = np.array([1, 3, 9])\n",
    "\n",
    "# plt.subplots() 함수는 여러 개 그래프를 한 번에 가능, 객체 생성\n",
    "# plt.subplots(nrows=1, ncols=1) = plt.subplots()\n",
    "fig, ax1 = plt.subplots()\n",
    "\n",
    "# -s(solid line style + square marker), alpha(투명도)\n",
    "ax1.plot(x, y1, '-s', color='green', markersize=7, linewidth=5, alpha=0.7)\n",
    "\n",
    "# .twinx() 함수는 ax1과 축을 공유하는 새로운 Axes 객체 생성\n",
    "ax2 = ax1.twinx()\n",
    "ax2.bar(x, y2, color='deeppink', alpha=0.7, width=0.7)\n",
    "\n",
    "#plt.twinx()\n",
    "#plt.bar(x, y2, color='deeppink', alpha=0.5)\n",
    "\n",
    "\n",
    "plt.show()"
   ]
  },
  {
   "cell_type": "markdown",
   "metadata": {
    "id": "5AOf60DCuD1y"
   },
   "source": [
    "# **복습을 위한 실습 과제**"
   ]
  },
  {
   "cell_type": "markdown",
   "metadata": {
    "id": "yUWsVknFuKrd"
   },
   "source": [
    "## **1. Matplotlib 문제 (1)**\n",
    "\n",
    "* Matplotlib 선언\n",
    "\n"
   ]
  },
  {
   "cell_type": "code",
   "execution_count": null,
   "metadata": {
    "id": "3U3cxTR2uML_"
   },
   "outputs": [],
   "source": [
    "# 1) matplotlib.pyplot 모듈 로드하여 plt로 사용\n"
   ]
  },
  {
   "cell_type": "markdown",
   "metadata": {
    "id": "-kNEcyYnuNUT"
   },
   "source": [
    "## **2. Matplotlib 문제 (2)**\n",
    "\n",
    "* Matplotlib 숫자 입력\n",
    "\n"
   ]
  },
  {
   "cell_type": "code",
   "execution_count": null,
   "metadata": {
    "id": "ocFNLXRnuOOH"
   },
   "outputs": [],
   "source": [
    "# 1) 두 개의 숫자 리스트를 입력하여 그래프 출력 (리스트 요소는 자유롭게 구성)\n",
    "\n"
   ]
  },
  {
   "cell_type": "markdown",
   "metadata": {
    "id": "1BrN2bOBuQk2"
   },
   "source": [
    "## **3. Matplotlib 문제 (3)**\n",
    "\n",
    "* Matplotlib 축 레이블, 범례 설정\n",
    "\n"
   ]
  },
  {
   "cell_type": "code",
   "execution_count": null,
   "metadata": {
    "id": "7lHeF7IouR7m"
   },
   "outputs": [],
   "source": [
    "# 1) x축에 대한 레이블로 'X' 표시 \n",
    "# 2) y축에 대한 레이블로 'Y' 표시 \n",
    "# 3) 범례로 'Square' 표시\n",
    "plt.plot([1, 2, 3, 4], [1, 4, 9, 16],              )\n",
    "\n",
    "\n",
    "\n"
   ]
  },
  {
   "cell_type": "markdown",
   "metadata": {
    "id": "7c4BGT0EvjD8"
   },
   "source": [
    "## **4. Matplotlib 문제 (4)**\n",
    "\n",
    "* Matplotlib 축 범위 설정\n",
    "\n"
   ]
  },
  {
   "cell_type": "code",
   "execution_count": null,
   "metadata": {
    "id": "DZrrcCQfvkJE"
   },
   "outputs": [],
   "source": [
    "# 1) x, y축이 표시되는 범위 지정하는 두 가지 방법 중 첫 번째 방법 구현\n",
    "# 2) x축 범위는 1~10\n",
    "# 3) y축 범위는 1~20\n",
    "plt.plot([1, 2, 3, 4], [16, 9, 4, 1])\n",
    " \n",
    " \n",
    "\n",
    "plt.show()"
   ]
  },
  {
   "cell_type": "code",
   "execution_count": null,
   "metadata": {
    "id": "pufjto6kvr86"
   },
   "outputs": [],
   "source": [
    "# 4) x, y축이 표시되는 범위 지정하는 두 가지 방법 중 두 번째 방법 구현\n",
    "# 5) x축 범위는 1~10\n",
    "# 6) y축 범위는 1~20\n",
    "plt.plot([1, 2, 3, 4], [16, 9, 4, 1])\n",
    "\n",
    "\n",
    "plt.show()"
   ]
  },
  {
   "cell_type": "markdown",
   "metadata": {
    "id": "1G07i_n8xwCE"
   },
   "source": [
    "## **5. Matplotlib 문제 (5)**\n",
    "\n",
    "* Matplotlib 선, 마커, 색상 설정\n",
    "\n"
   ]
  },
  {
   "cell_type": "code",
   "execution_count": null,
   "metadata": {
    "id": "6-vt_uIgxwwm"
   },
   "outputs": [],
   "source": [
    "# 1) 그래프의 선 관련 파라미터를 사용하여 'dotted' 설정\n",
    "# 2) 그래프의 마커 관련 파라미터를 사용하여 'S' 커스텀 문자 마크 설정\n",
    "# 3) 그래프의 색상 관련 파라미터를 사용하여 'violet' 설정\n",
    "plt.plot([1, 2, 3], [1, 2, 3],                                  )\n",
    "\n",
    "plt.show()"
   ]
  },
  {
   "cell_type": "markdown",
   "metadata": {
    "id": "HMQYezFs_Q97"
   },
   "source": [
    "## **6. Matplotlib 문제 (6)**\n",
    "\n",
    "* Matplotlib 타이틀 설정\n",
    "\n"
   ]
  },
  {
   "cell_type": "code",
   "execution_count": null,
   "metadata": {
    "id": "2hke62NU_Sgs"
   },
   "outputs": [],
   "source": [
    "# 1) 그래프의 title을 \"Matplotlib Graph\" 설정, 오른쪽 위치, 그래프와 타이틀의 간격을 50으로 설정   \n",
    "plt.plot([1, 2, 3, 4], [1, 4, 9, 16])\n",
    "\n",
    "\n",
    "plt.show()"
   ]
  },
  {
   "cell_type": "markdown",
   "metadata": {
    "id": "02gr9fAvBI3b"
   },
   "source": [
    "## **7. Matplotlib 문제 (7)**\n",
    "\n",
    "* Matplotlib 여러 개 그래프\n",
    "\n"
   ]
  },
  {
   "cell_type": "code",
   "execution_count": null,
   "metadata": {
    "id": "p6gA-eg0BJT-"
   },
   "outputs": [],
   "source": [
    "x1 = [2,4,6,8,10]\n",
    "x2 = [4,8,12,16,20]\n",
    "y1 = [1,2,3,4,5]\n",
    "y2 = [3,6,9,12,15]\n",
    "\n",
    "# 1) 여러개의 그래프 시각화에서 한 개의 행과 두 개의 열에서 첫 번째 그래프 구현 (아래 채워 넣기)\n",
    "\n",
    "plt.plot(x1, y1, 'o-')\n",
    "plt.title('1st Graph')\n",
    "\n",
    "# 2) 여러개의 그래프 시각화에서 한 개의 행과 두 개의 열에서 두 번째 그래프 구현 (아래 채워 넣기)\n",
    "\n",
    "plt.plot(x2, y2, '.-')\n",
    "plt.title('2nd Graph')\n",
    "\n",
    "plt.tight_layout()\n",
    "plt.show()"
   ]
  }
 ],
 "metadata": {
  "colab": {
   "provenance": [],
   "toc_visible": true
  },
  "kernelspec": {
   "display_name": "Python 3 (ipykernel)",
   "language": "python",
   "name": "python3"
  },
  "language_info": {
   "codemirror_mode": {
    "name": "ipython",
    "version": 3
   },
   "file_extension": ".py",
   "mimetype": "text/x-python",
   "name": "python",
   "nbconvert_exporter": "python",
   "pygments_lexer": "ipython3",
   "version": "3.11.3"
  }
 },
 "nbformat": 4,
 "nbformat_minor": 4
}
