{
 "cells": [
  {
   "cell_type": "markdown",
   "id": "95db1cea",
   "metadata": {},
   "source": [
    "# 파이썬 기초3 : AI 모델링과 데이터 사이언스를 위한 기초 과정\n",
    "* 본 과정은 파이썬 초심자을 위한 과정으로 AI 모델링과 데이터 사이언스를 위해 꼭 필요한 지식에 대해 배울 수 있습니다.\n",
    "* 본 과정을 모두 마칠 무렵이면 여러분은 파이썬으로 데이터를 다룰 수 있게될 겁니다.\n",
    "* 파이썬에 대한 모든 것을 다루지는 않습니다. 처음 AI 모델링과 데이터 사이언스를 시작할 때 꼭 필요한 내용을 중심으로 준비했습니다."
   ]
  },
  {
   "cell_type": "markdown",
   "id": "06a93d90",
   "metadata": {},
   "source": [
    "## 1. 라이브러리 활용하기1\n",
    "* 이번 시간에는 파이썬의 큰 장점 중 하나인 강력한 확장성을 보장하는 라이브러리에 대해서 다루어 볼 예정입니다.\n",
    "* 특히 파이썬을 설치와 동시에 내장되어있는 라이브러리를 활용하는 방법에 대해 알아보겠습니다."
   ]
  },
  {
   "cell_type": "markdown",
   "id": "563607b7",
   "metadata": {},
   "source": [
    "* 파이썬 표준 라이브러리 공식 Document\n",
    "    * https://docs.python.org/ko/3.10/library/index.html"
   ]
  },
  {
   "cell_type": "markdown",
   "id": "f55d9ad5",
   "metadata": {},
   "source": [
    "### Q1. 파이썬 표준 라이브러리는 무엇일까요?"
   ]
  },
  {
   "cell_type": "markdown",
   "id": "f5b5a435",
   "metadata": {},
   "source": [
    "#### 공식 Document의 내용을 정리해봅시다."
   ]
  },
  {
   "cell_type": "markdown",
   "id": "ead3a2b8",
   "metadata": {},
   "source": [
    "> 표준 라이브러리의 정의는?\n",
    "> * 여기에 적어주세요."
   ]
  },
  {
   "cell_type": "markdown",
   "id": "145723ab",
   "metadata": {},
   "source": [
    "> 표준 라이브러리는 어떤 것이 있나요?(세가지만 적어봅시다.)\n",
    "> * 여기에 적어주세요.\n",
    "> * 여기에 적어주세요.\n",
    "> * 여기에 적어주세요."
   ]
  },
  {
   "cell_type": "markdown",
   "id": "c3992bcf",
   "metadata": {},
   "source": [
    "#### Chat GPT에게 물어봅시다."
   ]
  },
  {
   "cell_type": "markdown",
   "id": "a246053a",
   "metadata": {},
   "source": [
    "> 표준 라이브러리의 정의는?(Query : 파이썬 표준 라이브러리는 무엇을 의미하는가요?)\n",
    "> * 여기에 적어주세요."
   ]
  },
  {
   "cell_type": "markdown",
   "id": "accb8530",
   "metadata": {},
   "source": [
    "> 표준 라이브러리는 어떤 것이 있나요?(Query : 파이썬 표준 라이브러리 중 대표적인 세 가지만 알려주세요)\n",
    "> * 여기에 적어주세요.\n",
    "> * 여기에 적어주세요.\n",
    "> * 여기에 적어주세요."
   ]
  },
  {
   "cell_type": "markdown",
   "id": "90ac3afd",
   "metadata": {},
   "source": [
    "#### 어떤 차이가 있나요?"
   ]
  },
  {
   "cell_type": "markdown",
   "id": "caa0b60b",
   "metadata": {},
   "source": [
    "> * 여기에 적어주세요.(차이가 없으면 없다고 적어주세요.)"
   ]
  },
  {
   "cell_type": "markdown",
   "id": "cbd68b68",
   "metadata": {},
   "source": [
    "### Q2. 파이썬 표준 라이브러리는 어떻게 사용하나요?\n",
    "* 문서 확인하기 - import 하기 - 함수 또는 클래스 사용하기 - 예제 코드 참고하기"
   ]
  },
  {
   "cell_type": "markdown",
   "id": "92cc9b88",
   "metadata": {},
   "source": [
    "#### Q2-1. 표준 라이브러리 random을 활용해서 로또번호 6개를 추출해보세요."
   ]
  },
  {
   "cell_type": "markdown",
   "id": "5a6774dd",
   "metadata": {},
   "source": [
    "##### 1. 문서 확인하기\n",
    "* random 공식 Document를 확인해보겠습니다 : https://docs.python.org/ko/3.10/library/random.html#\n",
    "* Chat GPT에게 물어보겠습니다.(Query : 파이썬 표준 라이브러리 중 random에 대해 기재되어있는 문서를 알려주세요)"
   ]
  },
  {
   "cell_type": "markdown",
   "id": "4e8a716e",
   "metadata": {},
   "source": [
    "##### 2. Import 하기\n",
    "* Import 전에 Import 공식 문서 확인하기 : https://docs.python.org/ko/3.10/reference/simple_stmts.html#import"
   ]
  },
  {
   "cell_type": "code",
   "execution_count": 10,
   "id": "0c1973d6",
   "metadata": {},
   "outputs": [],
   "source": [
    "# random 라이브러리를 Import 해주세요. 이때 as를 활용해서 'rnd'로 이름을 정의해주세요.\n"
   ]
  },
  {
   "cell_type": "code",
   "execution_count": null,
   "id": "717e1568",
   "metadata": {},
   "outputs": [],
   "source": [
    "# Chat GPT에게 random 라이브러리를 Import 하는 방법에 대해 물어보겠습니다.(Query : 파이썬에서 random 라이브러리 import 하는 방법 알려주세요)\n"
   ]
  },
  {
   "cell_type": "markdown",
   "id": "d4f54c2d",
   "metadata": {},
   "source": [
    "##### 3. 함수 또는 클래스 사용하기\n",
    "* 공식문서에서 샘플을 뽑는 함수 찾기 : https://docs.python.org/ko/3.10/library/random.html#"
   ]
  },
  {
   "cell_type": "code",
   "execution_count": null,
   "id": "b239dc2e",
   "metadata": {},
   "outputs": [],
   "source": [
    "# 공식문서에서 샘플을 뽑는 함수를 찾아서 로또번호 6개를 추출하는 소스코드를 완성해주세요.\n"
   ]
  },
  {
   "cell_type": "code",
   "execution_count": null,
   "id": "0c40e61b",
   "metadata": {},
   "outputs": [],
   "source": [
    "# Chat GPT에게 random 라이브러리를 활용해서 로또번호 6개를 뽑는 함수를 찾아서 로또번호 6개를 추출하는 소스코드에 대해 물어보겠습니다.\n",
    "# (Query : 파이썬에서 random 라이브러리를 활용해서 로또번호 6개를 뽑는 소스코드를 만들어 주세요)\n"
   ]
  },
  {
   "cell_type": "markdown",
   "id": "b3bb36ba",
   "metadata": {},
   "source": [
    "##### 4. 예제 코드 참고하기\n",
    "* 점프 투 파이썬의 datetime.date 예제코드를 참고해서 2023년 2월 20일과 2023년 5월 1일 사이의 날짜 차이를 구해보세요.\n",
    "* 참고 : 점프 투 파이썬의 datetime.date 예제코드(https://wikidocs.net/33#datetimedate)"
   ]
  },
  {
   "cell_type": "code",
   "execution_count": null,
   "id": "ada9c5a3",
   "metadata": {},
   "outputs": [],
   "source": [
    "# 점프 투 파이썬의 datetime.date 예제코드를 참고해서 2023년 2월 20일과 2023년 5월 1일 사이의 날짜 차이를 구하는 소스코드를 완성해주세요.\n"
   ]
  },
  {
   "cell_type": "code",
   "execution_count": null,
   "id": "f1268967",
   "metadata": {},
   "outputs": [],
   "source": [
    "# Chat GPT에게 datetime.date 라이브러리를 활용해서 2023년 2월 20일과 2023년 5월 1일 사이의 날짜 차이를 구하는 소스코드에 대해 물어보겠습니다.\n",
    "# (Query : 파이썬의 datetime 라이브러리를 활용해서 2023년 2월 20일과 2023년 5월 1일의 날짜 차이를 알려주는 소스코드 만들어 주세요)\n"
   ]
  },
  {
   "cell_type": "markdown",
   "id": "0de4ed6b",
   "metadata": {},
   "source": [
    "## Summary\n",
    "* 이번 시간에는 파이썬의 큰 장점 중 하나인 강력한 확장성을 보장하는 라이브러리에 대해서 다루어 봤습니다.\n",
    "* 특히 표준 라이브러리에 대해서 알아봤구요. random과 datetime 라이브러리로 간단하게 활용하는 실습을 진행했습니다.\n",
    "* 다음 시간에는 표준 라이브러리 이외에 다른 파이썬 유저들이 만들어 놓은 외부 라이브러리에 대해서 다루어 보겠습니다."
   ]
  }
 ],
 "metadata": {
  "kernelspec": {
   "display_name": "Python 3 (ipykernel)",
   "language": "python",
   "name": "python3"
  },
  "language_info": {
   "codemirror_mode": {
    "name": "ipython",
    "version": 3
   },
   "file_extension": ".py",
   "mimetype": "text/x-python",
   "name": "python",
   "nbconvert_exporter": "python",
   "pygments_lexer": "ipython3",
   "version": "3.10.10"
  }
 },
 "nbformat": 4,
 "nbformat_minor": 5
}
