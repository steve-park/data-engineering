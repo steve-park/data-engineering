{
 "cells": [
  {
   "cell_type": "markdown",
   "id": "95db1cea",
   "metadata": {},
   "source": [
    "# 파이썬 기초3 : AI 모델링과 데이터 사이언스를 위한 기초 과정\n",
    "* 본 과정은 파이썬 초심자을 위한 과정으로 AI 모델링과 데이터 사이언스를 위해 꼭 필요한 지식에 대해 배울 수 있습니다.\n",
    "* 본 과정을 모두 마칠 무렵이면 여러분은 파이썬으로 데이터를 다룰 수 있게될 겁니다.\n",
    "* 파이썬에 대한 모든 것을 다루지는 않습니다. 처음 AI 모델링과 데이터 사이언스를 시작할 때 꼭 필요한 내용을 중심으로 준비했습니다."
   ]
  },
  {
   "cell_type": "markdown",
   "id": "06a93d90",
   "metadata": {},
   "source": [
    "## 3. Numpy로 배열 다루기1\n",
    "* 이번 시간에는 데이터 사이언스에서 많이 활용되는 배열을 다룰 수 있도록 도와주는 Numpy에 대해서 다루어 볼 예정입니다.\n",
    "* 특히 Numpy를 활용해서 배열을 생성하고 슬라이싱하고 인덱싱하는 방법에 대해 알아보겠습니다."
   ]
  },
  {
   "cell_type": "markdown",
   "id": "563607b7",
   "metadata": {},
   "source": [
    "* Numpy 공식 Document\n",
    "    * https://numpy.org/"
   ]
  },
  {
   "cell_type": "markdown",
   "id": "f55d9ad5",
   "metadata": {},
   "source": [
    "### Q1. Numpy는 무엇일까요?"
   ]
  },
  {
   "cell_type": "markdown",
   "id": "c3992bcf",
   "metadata": {},
   "source": [
    "#### Chat GPT에게 물어봅시다."
   ]
  },
  {
   "cell_type": "markdown",
   "id": "a246053a",
   "metadata": {},
   "source": [
    "> Numpy는 무엇인가요?(Query : Numpy는 무엇인가요?)\n",
    "> * 여기에 적어주세요."
   ]
  },
  {
   "cell_type": "markdown",
   "id": "accb8530",
   "metadata": {},
   "source": [
    "> Numpy는 어떤 기능이 있나요?(Query : Numpy의 기능 중 대표적인 세 가지만 알려주세요)\n",
    "> * 여기에 적어주세요.\n",
    "> * 여기에 적어주세요.\n",
    "> * 여기에 적어주세요."
   ]
  },
  {
   "cell_type": "markdown",
   "id": "a50b5950",
   "metadata": {},
   "source": [
    "##### + 본격적인 실습 이전에  Numpy를 설치하겠습니다."
   ]
  },
  {
   "cell_type": "code",
   "execution_count": null,
   "id": "0dab3592",
   "metadata": {},
   "outputs": [],
   "source": [
    "!pip install numpy"
   ]
  },
  {
   "cell_type": "markdown",
   "id": "cbd68b68",
   "metadata": {},
   "source": [
    "### Q2. Numpy로 배열은 어떻게 생성하나요?\n",
    "* Query : Numpy로 배열을 생성하는 방법에 대해서 알려주세요"
   ]
  },
  {
   "cell_type": "markdown",
   "id": "92cc9b88",
   "metadata": {},
   "source": [
    "#### 1. Chat GPT가 알려준 방법을 여기에 적어주세요."
   ]
  },
  {
   "cell_type": "code",
   "execution_count": null,
   "id": "6b603508",
   "metadata": {},
   "outputs": [],
   "source": [
    "# Chat GPT가 알려준 예시코드로 실습을 해봅시다.(Query : Numpy의 OOO을 활용해서 배열을 생성하는 예시코드 만들어 주세요)\n"
   ]
  },
  {
   "cell_type": "markdown",
   "id": "2bc47caa",
   "metadata": {},
   "source": [
    "#### 2. Chat GPT가 알려준 방법을 여기에 적어주세요."
   ]
  },
  {
   "cell_type": "code",
   "execution_count": null,
   "id": "9779b4e2",
   "metadata": {},
   "outputs": [],
   "source": [
    "# Chat GPT가 알려준 예시코드로 실습을 해봅시다.(Query : Numpy의 OOO을 활용해서 배열을 생성하는 예시코드 만들어 주세요)\n"
   ]
  },
  {
   "cell_type": "markdown",
   "id": "6c5b173b",
   "metadata": {},
   "source": [
    "#### 3. Chat GPT가 알려준 방법을 여기에 적어주세요."
   ]
  },
  {
   "cell_type": "code",
   "execution_count": null,
   "id": "37b85985",
   "metadata": {},
   "outputs": [],
   "source": [
    "# Chat GPT가 알려준 예시코드로 실습을 해봅시다.(Query : Numpy의 OOO을 활용해서 배열을 생성하는 예시코드 만들어 주세요)\n"
   ]
  },
  {
   "cell_type": "markdown",
   "id": "c4afe76d",
   "metadata": {},
   "source": [
    "#### 4. Chat GPT가 알려준 방법을 여기에 적어주세요."
   ]
  },
  {
   "cell_type": "code",
   "execution_count": null,
   "id": "271b3cce",
   "metadata": {},
   "outputs": [],
   "source": [
    "# Chat GPT가 알려준 예시코드로 실습을 해봅시다.(Query : Numpy의 OOO을 활용해서 배열을 생성하는 예시코드 만들어 주세요)\n"
   ]
  },
  {
   "cell_type": "markdown",
   "id": "e12b1e12",
   "metadata": {},
   "source": [
    "#### 5. Chat GPT가 알려준 방법을 여기에 적어주세요."
   ]
  },
  {
   "cell_type": "code",
   "execution_count": null,
   "id": "ed6adc7a",
   "metadata": {},
   "outputs": [],
   "source": [
    "# Chat GPT가 알려준 예시코드로 실습을 해봅시다.(Query : Numpy의 OOO을 활용해서 배열을 생성하는 예시코드 만들어 주세요)\n"
   ]
  },
  {
   "cell_type": "markdown",
   "id": "6a98669f",
   "metadata": {},
   "source": [
    "### Q3. Numpy로 다차원 배열은 어떻게 생성하나요?\n",
    "* Query : Numpy로 다차원 배열을 생성하는 방법에 대해서 알려주세요"
   ]
  },
  {
   "cell_type": "markdown",
   "id": "6c3a0e4c",
   "metadata": {},
   "source": [
    "#### 1. Chat GPT가 알려준 방법을 여기에 적어주세요."
   ]
  },
  {
   "cell_type": "code",
   "execution_count": null,
   "id": "5e0b8867",
   "metadata": {},
   "outputs": [],
   "source": [
    "# Chat GPT가 알려준 예시코드로 실습을 해봅시다.(Query : Numpy의 OOO을 활용해서 배열을 생성하는 예시코드 만들어 주세요)\n"
   ]
  },
  {
   "cell_type": "markdown",
   "id": "5a93b921",
   "metadata": {},
   "source": [
    "#### 2. Chat GPT가 알려준 방법을 여기에 적어주세요."
   ]
  },
  {
   "cell_type": "code",
   "execution_count": null,
   "id": "6462a606",
   "metadata": {},
   "outputs": [],
   "source": [
    "# Chat GPT가 알려준 예시코드로 실습을 해봅시다.(Query : Numpy의 OOO을 활용해서 배열을 생성하는 예시코드 만들어 주세요)\n"
   ]
  },
  {
   "cell_type": "markdown",
   "id": "1ddccf08",
   "metadata": {},
   "source": [
    "#### 3. Chat GPT가 알려준 방법을 여기에 적어주세요."
   ]
  },
  {
   "cell_type": "code",
   "execution_count": null,
   "id": "8ed97a9d",
   "metadata": {},
   "outputs": [],
   "source": [
    "# Chat GPT가 알려준 예시코드로 실습을 해봅시다.(Query : Numpy의 OOO을 활용해서 배열을 생성하는 예시코드 만들어 주세요)\n"
   ]
  },
  {
   "cell_type": "markdown",
   "id": "0bee2f1b",
   "metadata": {},
   "source": [
    "#### 4. Chat GPT가 알려준 방법을 여기에 적어주세요."
   ]
  },
  {
   "cell_type": "code",
   "execution_count": null,
   "id": "1b85a6d5",
   "metadata": {},
   "outputs": [],
   "source": [
    "# Chat GPT가 알려준 예시코드로 실습을 해봅시다.(Query : Numpy의 OOO을 활용해서 배열을 생성하는 예시코드 만들어 주세요)\n"
   ]
  },
  {
   "cell_type": "markdown",
   "id": "aa8aedb9",
   "metadata": {},
   "source": [
    "#### 5. Chat GPT가 알려준 방법을 여기에 적어주세요."
   ]
  },
  {
   "cell_type": "code",
   "execution_count": null,
   "id": "fc8d94ad",
   "metadata": {},
   "outputs": [],
   "source": [
    "# Chat GPT가 알려준 예시코드로 실습을 해봅시다.(Query : Numpy의 OOO을 활용해서 배열을 생성하는 예시코드 만들어 주세요)\n"
   ]
  },
  {
   "cell_type": "markdown",
   "id": "edfc8c01",
   "metadata": {},
   "source": [
    "### Q4. Numpy로 배열 슬라이싱은 어떻게 생성하나요?\n",
    "* Query : Numpy로 배열을 슬라이싱하는 방법에 대해서 알려주세요"
   ]
  },
  {
   "cell_type": "markdown",
   "id": "7586fc33",
   "metadata": {},
   "source": [
    "> 배열 슬라이싱은 어떤 개념인가요?\n",
    "> * 여기에 적어주세요."
   ]
  },
  {
   "cell_type": "markdown",
   "id": "200a699b",
   "metadata": {},
   "source": [
    "#### 1. 1차원 배열 슬라이싱"
   ]
  },
  {
   "cell_type": "code",
   "execution_count": null,
   "id": "8ea38412",
   "metadata": {},
   "outputs": [],
   "source": [
    "# Chat GPT가 알려준 예시코드로 실습을 해봅시다.(Query : Numpy를 활용해서 1차원 배열을 슬라이싱하는 예시코드 만들어 주세요)\n"
   ]
  },
  {
   "cell_type": "markdown",
   "id": "220cd5ea",
   "metadata": {},
   "source": [
    "#### 2. 2차원 배열 슬라이싱"
   ]
  },
  {
   "cell_type": "code",
   "execution_count": null,
   "id": "5f430dbe",
   "metadata": {},
   "outputs": [],
   "source": [
    "# Chat GPT가 알려준 예시코드로 실습을 해봅시다.(Query : Numpy를 활용해서 2차원 배열을 슬라이싱하는 예시코드 만들어 주세요)\n"
   ]
  },
  {
   "cell_type": "markdown",
   "id": "ad0cf952",
   "metadata": {},
   "source": [
    "### Q5. Numpy로 배열 인덱싱은 어떻게 생성하나요?\n",
    "* Query : Numpy로 배열을 인덱싱하는 방법에 대해서 알려주세요"
   ]
  },
  {
   "cell_type": "markdown",
   "id": "ab00f374",
   "metadata": {},
   "source": [
    "> 배열 인덱싱은 어떤 개념인가요?\n",
    "> * 여기에 적어주세요."
   ]
  },
  {
   "cell_type": "markdown",
   "id": "73150b34",
   "metadata": {},
   "source": [
    "#### 1. 기본 인덱싱"
   ]
  },
  {
   "cell_type": "code",
   "execution_count": null,
   "id": "ce1a8b1a",
   "metadata": {},
   "outputs": [],
   "source": [
    "# Chat GPT가 알려준 예시코드로 실습을 해봅시다.(Query : Numpy를 활용해서 기본 인덱싱하는 예시코드 만들어 주세요)\n"
   ]
  },
  {
   "cell_type": "markdown",
   "id": "46a2f777",
   "metadata": {},
   "source": [
    "#### 2. 팬시 인덱싱"
   ]
  },
  {
   "cell_type": "code",
   "execution_count": null,
   "id": "5fe8fb49",
   "metadata": {},
   "outputs": [],
   "source": [
    "# Chat GPT가 알려준 예시코드로 실습을 해봅시다.(Query : Numpy를 활용해서 팬시 인덱싱하는 예시코드 만들어 주세요)\n"
   ]
  },
  {
   "cell_type": "markdown",
   "id": "1b1f43ee",
   "metadata": {},
   "source": [
    "#### 3. 불린 인덱싱"
   ]
  },
  {
   "cell_type": "code",
   "execution_count": null,
   "id": "8bd2f6bd",
   "metadata": {},
   "outputs": [],
   "source": [
    "# Chat GPT가 알려준 예시코드로 실습을 해봅시다.(Query : Numpy를 활용해서 불린 인덱싱하는 예시코드 만들어 주세요)\n"
   ]
  },
  {
   "cell_type": "markdown",
   "id": "0de4ed6b",
   "metadata": {},
   "source": [
    "## Summary\n",
    "* 이번 시간에는 Numpy를 활용해서 배열을 생성하고 슬라이싱하고 인덱싱하는 방법에 대해서 다루어 봤습니다.\n",
    "* 다음 시간에는 Numpy로 배열의 형태를 확인 및 변경하고 타입을 확인하고 연산과 함수를 활용하는 방법에 대해서 다루어 보겠습니다."
   ]
  }
 ],
 "metadata": {
  "kernelspec": {
   "display_name": "Python 3 (ipykernel)",
   "language": "python",
   "name": "python3"
  },
  "language_info": {
   "codemirror_mode": {
    "name": "ipython",
    "version": 3
   },
   "file_extension": ".py",
   "mimetype": "text/x-python",
   "name": "python",
   "nbconvert_exporter": "python",
   "pygments_lexer": "ipython3",
   "version": "3.10.10"
  }
 },
 "nbformat": 4,
 "nbformat_minor": 5
}
