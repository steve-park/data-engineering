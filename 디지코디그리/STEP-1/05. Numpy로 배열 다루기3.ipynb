{
 "cells": [
  {
   "cell_type": "markdown",
   "id": "95db1cea",
   "metadata": {},
   "source": [
    "# 파이썬 기초3 : AI 모델링과 데이터 사이언스를 위한 기초 과정\n",
    "* 본 과정은 파이썬 초심자을 위한 과정으로 AI 모델링과 데이터 사이언스를 위해 꼭 필요한 지식에 대해 배울 수 있습니다.\n",
    "* 본 과정을 모두 마칠 무렵이면 여러분은 파이썬으로 데이터를 다룰 수 있게될 겁니다.\n",
    "* 파이썬에 대한 모든 것을 다루지는 않습니다. 처음 AI 모델링과 데이터 사이언스를 시작할 때 꼭 필요한 내용을 중심으로 준비했습니다."
   ]
  },
  {
   "cell_type": "markdown",
   "id": "06a93d90",
   "metadata": {},
   "source": [
    "## 5. Numpy로 배열 다루기3\n",
    "* 이번 시간에는 데이터 사이언스에서 많이 활용되는 배열을 다룰 수 있도록 도와주는 Numpy에 대해서 다루어 볼 예정입니다.\n",
    "* 특히 Numpy로 배열을 결합/분리/정렬하고 요소를 추가/제거하는 방법에 대해 알아보겠습니다."
   ]
  },
  {
   "cell_type": "markdown",
   "id": "563607b7",
   "metadata": {},
   "source": [
    "* Numpy 공식 Document\n",
    "    * https://numpy.org/"
   ]
  },
  {
   "cell_type": "markdown",
   "id": "f55d9ad5",
   "metadata": {},
   "source": [
    "### Q1. Numpy 배열을 결합해봅시다."
   ]
  },
  {
   "cell_type": "markdown",
   "id": "200a699b",
   "metadata": {},
   "source": [
    "#### 1. 배열을 수직으로 결합하기"
   ]
  },
  {
   "cell_type": "code",
   "execution_count": null,
   "id": "8ea38412",
   "metadata": {},
   "outputs": [],
   "source": [
    "# Chat GPT가 알려준 예시코드로 실습을 해봅시다.(Query : Numpy를 활용해서 배열을 수직으로 결합하는 예시코드 만들어 주세요)\n"
   ]
  },
  {
   "cell_type": "markdown",
   "id": "2d957009",
   "metadata": {},
   "source": [
    "#### 2. 배열을 수평으로 결합하기"
   ]
  },
  {
   "cell_type": "code",
   "execution_count": null,
   "id": "56091a4d",
   "metadata": {},
   "outputs": [],
   "source": [
    "# Chat GPT가 알려준 예시코드로 실습을 해봅시다.(Query : Numpy를 활용해서 배열을 수평으로 결합하는 예시코드 만들어 주세요)\n"
   ]
  },
  {
   "cell_type": "markdown",
   "id": "e5b38532",
   "metadata": {},
   "source": [
    "#### 3. 배열을 새로운 차원으로 결합하기"
   ]
  },
  {
   "cell_type": "code",
   "execution_count": null,
   "id": "ae103c88",
   "metadata": {},
   "outputs": [],
   "source": [
    "# Chat GPT가 알려준 예시코드로 실습을 해봅시다.(Query : Numpy를 활용해서 배열을 새로운 차원으로 결합하는 예시코드 만들어 주세요)\n"
   ]
  },
  {
   "cell_type": "markdown",
   "id": "a8988025",
   "metadata": {},
   "source": [
    "### Q2. Numpy 배열을 분리해봅시다."
   ]
  },
  {
   "cell_type": "markdown",
   "id": "00225645",
   "metadata": {},
   "source": [
    "#### 1. 배열을 수직으로 분리하기"
   ]
  },
  {
   "cell_type": "code",
   "execution_count": null,
   "id": "a925c1dd",
   "metadata": {},
   "outputs": [],
   "source": [
    "# Chat GPT가 알려준 예시코드로 실습을 해봅시다.(Query : Numpy를 활용해서 배열을 수직으로 분리하는 예시코드 만들어 주세요)\n"
   ]
  },
  {
   "cell_type": "markdown",
   "id": "a5612f68",
   "metadata": {},
   "source": [
    "#### 2. 배열을 수평으로 분리하기"
   ]
  },
  {
   "cell_type": "code",
   "execution_count": null,
   "id": "945a2cbc",
   "metadata": {},
   "outputs": [],
   "source": [
    "# Chat GPT가 알려준 예시코드로 실습을 해봅시다.(Query : Numpy를 활용해서 배열을 수평으로 분리하는 예시코드 만들어 주세요)\n"
   ]
  },
  {
   "cell_type": "markdown",
   "id": "01051838",
   "metadata": {},
   "source": [
    "#### 3. 배열을 차원으로 분리하기"
   ]
  },
  {
   "cell_type": "code",
   "execution_count": null,
   "id": "0c1630e7",
   "metadata": {},
   "outputs": [],
   "source": [
    "# Chat GPT가 알려준 예시코드로 실습을 해봅시다.(Query : Numpy를 활용해서 배열을 차원으로 분리하는 예시코드 만들어 주세요)\n"
   ]
  },
  {
   "cell_type": "markdown",
   "id": "59b1444d",
   "metadata": {},
   "source": [
    "### Q3. Numpy 배열을 정렬해봅시다."
   ]
  },
  {
   "cell_type": "markdown",
   "id": "e1bdea65",
   "metadata": {},
   "source": [
    "#### 1. 배열을 행 기준으로 정렬하기"
   ]
  },
  {
   "cell_type": "code",
   "execution_count": null,
   "id": "c07dd2da",
   "metadata": {},
   "outputs": [],
   "source": [
    "# Chat GPT가 알려준 예시코드로 실습을 해봅시다.(Query : Numpy를 활용해서 배열을 행 기준으로 정렬하는 예시코드 만들어 주세요)\n"
   ]
  },
  {
   "cell_type": "markdown",
   "id": "f7e85d8b",
   "metadata": {},
   "source": [
    "#### 2. 배열을 열 기준으로 정렬하기"
   ]
  },
  {
   "cell_type": "code",
   "execution_count": null,
   "id": "66020fb0",
   "metadata": {},
   "outputs": [],
   "source": [
    "# Chat GPT가 알려준 예시코드로 실습을 해봅시다.(Query : Numpy를 활용해서 배열을 열 기준으로 정렬하는 예시코드 만들어 주세요)\n"
   ]
  },
  {
   "cell_type": "markdown",
   "id": "1f1e9388",
   "metadata": {},
   "source": [
    "### Q4. Numpy 요소를 추가해봅시다."
   ]
  },
  {
   "cell_type": "markdown",
   "id": "38b36f42",
   "metadata": {},
   "source": [
    "#### 1. append 활용하기"
   ]
  },
  {
   "cell_type": "code",
   "execution_count": null,
   "id": "a2f49d3b",
   "metadata": {},
   "outputs": [],
   "source": [
    "# Chat GPT가 알려준 예시코드로 실습을 해봅시다.(Query : Numpy에서 append를 활용해서 요소를 추가하는 예시코드 만들어 주세요)\n"
   ]
  },
  {
   "cell_type": "markdown",
   "id": "2d8c956f",
   "metadata": {},
   "source": [
    "#### 2. concatenate 활용하기"
   ]
  },
  {
   "cell_type": "code",
   "execution_count": null,
   "id": "144113da",
   "metadata": {},
   "outputs": [],
   "source": [
    "# Chat GPT가 알려준 예시코드로 실습을 해봅시다.(Query : Numpy에서 concatenate를 활용해서 요소를 추가하는 예시코드 만들어 주세요)\n"
   ]
  },
  {
   "cell_type": "markdown",
   "id": "47ec6100",
   "metadata": {},
   "source": [
    "### Q5. Numpy 요소를 제거해봅시다."
   ]
  },
  {
   "cell_type": "markdown",
   "id": "ae9d9947",
   "metadata": {},
   "source": [
    "#### 1. delete 활용하기"
   ]
  },
  {
   "cell_type": "code",
   "execution_count": null,
   "id": "75e2138d",
   "metadata": {},
   "outputs": [],
   "source": [
    "# Chat GPT가 알려준 예시코드로 실습을 해봅시다.(Query : Numpy에서 delete를 활용해서 요소를 제거하는 예시코드 만들어 주세요)\n"
   ]
  },
  {
   "cell_type": "markdown",
   "id": "e0fa1657",
   "metadata": {},
   "source": [
    "#### 2. trim_zeros 활용하기"
   ]
  },
  {
   "cell_type": "code",
   "execution_count": null,
   "id": "5335a3f5",
   "metadata": {},
   "outputs": [],
   "source": [
    "# Chat GPT가 알려준 예시코드로 실습을 해봅시다.(Query : Numpy에서 trim_zeros를 활용해서 요소를 제거하는 예시코드 만들어 주세요)\n"
   ]
  },
  {
   "cell_type": "markdown",
   "id": "0de4ed6b",
   "metadata": {},
   "source": [
    "## Summary\n",
    "* 이번 시간에는 Numpy로 배열을 결합/분리/정렬/검색하고 요소를 추가/제거하는 방법에 대해서 다루어 봤습니다.\n",
    "* 다음 시간에는 데이터 프레임을 다루는데 도움을 주는 Pandas에 대해서 다루어 보겠습니다."
   ]
  }
 ],
 "metadata": {
  "kernelspec": {
   "display_name": "Python 3 (ipykernel)",
   "language": "python",
   "name": "python3"
  },
  "language_info": {
   "codemirror_mode": {
    "name": "ipython",
    "version": 3
   },
   "file_extension": ".py",
   "mimetype": "text/x-python",
   "name": "python",
   "nbconvert_exporter": "python",
   "pygments_lexer": "ipython3",
   "version": "3.10.10"
  }
 },
 "nbformat": 4,
 "nbformat_minor": 5
}
