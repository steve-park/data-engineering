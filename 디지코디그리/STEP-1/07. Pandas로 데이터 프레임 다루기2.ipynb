{
 "cells": [
  {
   "cell_type": "markdown",
   "id": "95db1cea",
   "metadata": {},
   "source": [
    "# 파이썬 기초3 : AI 모델링과 데이터 사이언스를 위한 기초 과정\n",
    "* 본 과정은 파이썬 초심자을 위한 과정으로 AI 모델링과 데이터 사이언스를 위해 꼭 필요한 지식에 대해 배울 수 있습니다.\n",
    "* 본 과정을 모두 마칠 무렵이면 여러분은 파이썬으로 데이터를 다룰 수 있게될 겁니다.\n",
    "* 파이썬에 대한 모든 것을 다루지는 않습니다. 처음 AI 모델링과 데이터 사이언스를 시작할 때 꼭 필요한 내용을 중심으로 준비했습니다."
   ]
  },
  {
   "cell_type": "markdown",
   "id": "06a93d90",
   "metadata": {},
   "source": [
    "## 7. Pandas로 데이터 프레임 다루기2\n",
    "* 이번 시간에는 데이터 사이언스에서 많이 활용되는 배열을 다룰 수 있도록 도와주는 Pandas에 대해서 다루어 볼 예정입니다.\n",
    "* 특히 Pandas로 데이터 프레임에서 슬라이싱/인덱싱/컬럼 변경하는 방법에 대해 알아보겠습니다."
   ]
  },
  {
   "cell_type": "markdown",
   "id": "563607b7",
   "metadata": {},
   "source": [
    "* Pandas 공식 Document\n",
    "    * https://pandas.pydata.org/docs/"
   ]
  },
  {
   "cell_type": "markdown",
   "id": "f55d9ad5",
   "metadata": {},
   "source": [
    "### Q1. Pandas로 데이터 프레임에서 슬라이싱과 인덱싱을 해봅시다."
   ]
  },
  {
   "cell_type": "markdown",
   "id": "200a699b",
   "metadata": {},
   "source": [
    "#### 1. loc를 이용한 인덱싱/슬라이싱"
   ]
  },
  {
   "cell_type": "code",
   "execution_count": null,
   "id": "8ea38412",
   "metadata": {},
   "outputs": [],
   "source": [
    "# Chat GPT가 알려준 예시코드로 실습을 해봅시다.(Query : Pandas를 활용해서 loc로 인덱싱과 슬라이싱하는 예시코드 만들어 주세요)\n"
   ]
  },
  {
   "cell_type": "markdown",
   "id": "2d957009",
   "metadata": {},
   "source": [
    "#### 2. iloc를 이용한 인덱싱/슬라이싱"
   ]
  },
  {
   "cell_type": "code",
   "execution_count": null,
   "id": "56091a4d",
   "metadata": {},
   "outputs": [],
   "source": [
    "# Chat GPT가 알려준 예시코드로 실습을 해봅시다.(Query : Pandas를 활용해서 iloc로 인덱싱과 슬라이싱하는 예시코드 만들어 주세요)\n"
   ]
  },
  {
   "cell_type": "markdown",
   "id": "1ea7c0f1",
   "metadata": {},
   "source": [
    "#### 3. at을 이용한 인덱싱"
   ]
  },
  {
   "cell_type": "code",
   "execution_count": null,
   "id": "d451886d",
   "metadata": {},
   "outputs": [],
   "source": [
    "# Chat GPT가 알려준 예시코드로 실습을 해봅시다.(Query : Pandas를 활용해서 at로 인덱싱과 슬라이싱하는 예시코드 만들어 주세요)\n"
   ]
  },
  {
   "cell_type": "markdown",
   "id": "4ba6976b",
   "metadata": {},
   "source": [
    "#### 4. iat를 이용한 인덱싱"
   ]
  },
  {
   "cell_type": "code",
   "execution_count": null,
   "id": "4709c944",
   "metadata": {},
   "outputs": [],
   "source": [
    "# Chat GPT가 알려준 예시코드로 실습을 해봅시다.(Query : Pandas를 활용해서 iat로 인덱싱과 슬라이싱하는 예시코드 만들어 주세요)\n"
   ]
  },
  {
   "cell_type": "markdown",
   "id": "07080ac6",
   "metadata": {},
   "source": [
    "#### 5. boolean indexing"
   ]
  },
  {
   "cell_type": "code",
   "execution_count": null,
   "id": "3aa60d2b",
   "metadata": {},
   "outputs": [],
   "source": [
    "# Chat GPT가 알려준 예시코드로 실습을 해봅시다.(Query : Pandas를 활용해서 boolean indexing하는 예시코드 만들어 주세요)\n"
   ]
  },
  {
   "cell_type": "markdown",
   "id": "a8988025",
   "metadata": {},
   "source": [
    "### Q2. Pandas로 데이터 프레임의 컬럼을 변경 해봅시다."
   ]
  },
  {
   "cell_type": "markdown",
   "id": "00225645",
   "metadata": {},
   "source": [
    "#### 1. 직접 열 이름과 값을 입력하기"
   ]
  },
  {
   "cell_type": "code",
   "execution_count": null,
   "id": "a925c1dd",
   "metadata": {},
   "outputs": [],
   "source": [
    "# Chat GPT가 알려준 예시코드로 실습을 해봅시다.(Query : Pandas에서 데이터 프레임의 컬럼을 직접 이름과 값을 입력해서 변경하는 예시코드 만들어 주세요)\n"
   ]
  },
  {
   "cell_type": "markdown",
   "id": "a5612f68",
   "metadata": {},
   "source": [
    "#### 2. reindex 활용하기"
   ]
  },
  {
   "cell_type": "code",
   "execution_count": null,
   "id": "945a2cbc",
   "metadata": {},
   "outputs": [],
   "source": [
    "# Chat GPT가 알려준 예시코드로 실습을 해봅시다.(Query : Pandas에서 데이터 프레임의 컬럼을 reindex를 활용해서 변경하는 예시코드 만들어 주세요)\n"
   ]
  },
  {
   "cell_type": "markdown",
   "id": "8b410b8b",
   "metadata": {},
   "source": [
    "#### 3. rename 활용하기"
   ]
  },
  {
   "cell_type": "code",
   "execution_count": null,
   "id": "604ba824",
   "metadata": {},
   "outputs": [],
   "source": [
    "# Chat GPT가 알려준 예시코드로 실습을 해봅시다.(Query : Pandas에서 데이터 프레임의 컬럼을 rename를 활용해서 변경하는 예시코드 만들어 주세요)\n"
   ]
  },
  {
   "cell_type": "markdown",
   "id": "b453b395",
   "metadata": {},
   "source": [
    "#### 4. columns 활용하기"
   ]
  },
  {
   "cell_type": "code",
   "execution_count": null,
   "id": "e3644ec0",
   "metadata": {},
   "outputs": [],
   "source": [
    "# Chat GPT가 알려준 예시코드로 실습을 해봅시다.(Query : Pandas에서 데이터 프레임의 컬럼을 columns를 활용해서 변경하는 예시코드 만들어 주세요)\n"
   ]
  },
  {
   "cell_type": "markdown",
   "id": "0de4ed6b",
   "metadata": {},
   "source": [
    "## Summary\n",
    "* 이번 시간에는 Pandas로 데이터 프레임에서 슬라이싱/인덱싱/컬럼 변경하는 방법에 대해서 다루어 봤습니다.\n",
    "* 다음 시간에는 Pandas로 데이터 프레임에서 데이터를 집계하고 피벗 테이블을 활용하는 방법에 대해서 다루어 보겠습니다."
   ]
  }
 ],
 "metadata": {
  "kernelspec": {
   "display_name": "Python 3 (ipykernel)",
   "language": "python",
   "name": "python3"
  },
  "language_info": {
   "codemirror_mode": {
    "name": "ipython",
    "version": 3
   },
   "file_extension": ".py",
   "mimetype": "text/x-python",
   "name": "python",
   "nbconvert_exporter": "python",
   "pygments_lexer": "ipython3",
   "version": "3.10.10"
  }
 },
 "nbformat": 4,
 "nbformat_minor": 5
}
