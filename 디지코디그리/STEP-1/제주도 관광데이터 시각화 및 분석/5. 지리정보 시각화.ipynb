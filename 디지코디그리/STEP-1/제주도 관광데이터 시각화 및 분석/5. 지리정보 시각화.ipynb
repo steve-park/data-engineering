{
 "cells": [
  {
   "attachments": {},
   "cell_type": "markdown",
   "metadata": {},
   "source": [
    "# 도전! 데이터 분석\n",
    "## 기초 통계량과 데이터 시각화를 통한 인사이트 도출 실습 과정입니다."
   ]
  },
  {
   "attachments": {},
   "cell_type": "markdown",
   "metadata": {},
   "source": [
    "* 먼저, 데이터를 불러와서 구조와 변수를 확인하겠습니다.\n",
    "    * 제주도 내 상권분석을 위한 유동인구에 따른 카드 매출액 변화 데이터\n",
    "    * 음면동, 업종명, 이용금액, 거주인구 등 정보 제공\n",
    "    * 2019년 : raw_data/제주특별자치도_주제3_상권분석을 위한 유동인구에 따른 카드 매출액 변화 데이터 활용_매쉬업결과_19.csv\n",
    "    * 2020년 : raw_data/제주특별자치도_주제3_상권분석을 위한 유동인구에 따른 카드 매출액 변화 데이터 활용_매쉬업결과_20(수정).csv\n",
    "    * 2021년(1월~5월): raw_data/제주특별자치도_주제3_상권분석을 위한 유동인구에 따른 카드 매출액 변화 데이터 활용_매쉬업결과_(2101~2105).csv"
   ]
  },
  {
   "attachments": {},
   "cell_type": "markdown",
   "metadata": {},
   "source": [
    "#### 지리정보 시각화를 위해 필요한 folium과 geopandas를 설치해보겠습니다."
   ]
  },
  {
   "cell_type": "code",
   "execution_count": null,
   "metadata": {},
   "outputs": [],
   "source": [
    "!pip install folium"
   ]
  },
  {
   "cell_type": "code",
   "execution_count": null,
   "metadata": {},
   "outputs": [],
   "source": [
    "!pip install geopandas"
   ]
  },
  {
   "attachments": {},
   "cell_type": "markdown",
   "metadata": {},
   "source": [
    "#### 1. 2019년 데이터 불러오기 및 지리정보 시각화\n",
    "* 지도 위에 동별로 이용금액 표시하기"
   ]
  },
  {
   "cell_type": "code",
   "execution_count": null,
   "metadata": {},
   "outputs": [],
   "source": [
    "# 필요한 라이브러리 Import\n",
    "import pandas as pd\n",
    "\n",
    "# 데이터 불러오기\n",
    "df_2019 = pd.read_csv('raw_data/제주특별자치도_주제3_상권분석을 위한 유동인구에 따른 카드 매출액 변화 데이터 활용_매쉬업결과_19.csv', encoding = 'cp949')"
   ]
  },
  {
   "cell_type": "code",
   "execution_count": null,
   "metadata": {},
   "outputs": [],
   "source": [
    "# 데이터 확인\n",
    "df_2019"
   ]
  },
  {
   "cell_type": "code",
   "execution_count": null,
   "metadata": {},
   "outputs": [],
   "source": [
    "# 읍면동 기준 월간 총 합계 계산\n",
    "# 날짜 데이터 타입으로 변환\n",
    "df_2019['년월'] = pd.to_datetime(df_2019['년월'])\n",
    "\n",
    "# 연도와 월 추출\n",
    "df_2019['연도'] = df_2019['년월'].dt.year\n",
    "df_2019['월'] = df_2019['년월'].dt.month\n",
    "\n",
    "# 읍면동별로 그룹화하여 월간 총 합계 계산\n",
    "result = df_2019.groupby(['읍면동명', '월']).sum().reset_index()\n",
    "\n",
    "# 결과 출력\n",
    "result"
   ]
  },
  {
   "cell_type": "code",
   "execution_count": null,
   "metadata": {},
   "outputs": [],
   "source": [
    "# 읍면동별로 그룹화하여 월간 총 합계 계산\n",
    "result_M = result.groupby(['읍면동명']).sum().reset_index()\n",
    "result_M"
   ]
  },
  {
   "cell_type": "code",
   "execution_count": null,
   "metadata": {},
   "outputs": [],
   "source": [
    "import folium\n",
    "import geopandas as gpd\n",
    "\n",
    "# Shapefile 로드\n",
    "shapefile_path = 'raw_data/geoshapefile/Z_SOP_BND_ADM_DONG_PG.shp'\n",
    "gdf = gpd.read_file(shapefile_path, encoding='cp949')\n",
    "\n",
    "# 데이터 프레임의 열 이름 변경\n",
    "result_M.rename(columns={'읍면동명': 'ADM_NM'}, inplace=True)\n",
    "\n",
    "# 동에 맞춰서 이용금액을 매핑하는 딕셔너리 생성\n",
    "dong_to_usage = dict(zip(result_M['ADM_NM'], result_M['이용금액']))\n",
    "\n",
    "# 읍면동 폴리곤 데이터에 이용금액 열 추가\n",
    "gdf['이용금액'] = gdf['ADM_NM'].map(dong_to_usage)\n",
    "gdf = gdf.dropna()\n",
    "\n",
    "# 지도의 중심 좌표 설정\n",
    "center_lat, center_lon = 33.380675, 126.551296\n",
    "\n",
    "# folium 지도 객체 생성\n",
    "m = folium.Map(location=[center_lat, center_lon], zoom_start=10)\n",
    "\n",
    "# 읍면동 폴리곤을 지도에 추가\n",
    "folium.GeoJson(gdf).add_to(m)\n",
    "\n",
    "# 단계구분도(Choropleth Map) 생성\n",
    "folium.Choropleth(\n",
    "    geo_data=gdf,\n",
    "    data=gdf,\n",
    "    columns=['ADM_NM', '이용금액'],\n",
    "    key_on='feature.properties.ADM_NM',\n",
    "    fill_color='YlGn',\n",
    "    fill_opacity=0.7,\n",
    "    line_opacity=0.2,\n",
    "    legend_name='이용금액'\n",
    ").add_to(m)\n",
    "\n",
    "# 금액 폴리곤을 지도에 추가\n",
    "folium.GeoJson(\n",
    "    gdf,\n",
    "    tooltip=folium.GeoJsonTooltip(fields=['ADM_NM','이용금액'], labels=True, sticky=False),\n",
    ").add_to(m)\n",
    "\n",
    "# 지도 출력\n",
    "m"
   ]
  },
  {
   "attachments": {},
   "cell_type": "markdown",
   "metadata": {},
   "source": [
    "#### 2. 2020년 데이터 불러오기 및 지리정보 시각화(실습)\n",
    "* 2020년 : raw_data/제주특별자치도_주제3_상권분석을 위한 유동인구에 따른 카드 매출액 변화 데이터 활용_매쉬업결과_20(수정).csv\n",
    "* 지도 위에 동별로 이용금액 표시하기"
   ]
  },
  {
   "cell_type": "code",
   "execution_count": null,
   "metadata": {},
   "outputs": [],
   "source": [
    "# 필요한 라이브러리 Import\n",
    "\n",
    "\n",
    "# 데이터 불러오기(df_2020)\n"
   ]
  },
  {
   "cell_type": "code",
   "execution_count": null,
   "metadata": {},
   "outputs": [],
   "source": [
    "# 데이터 확인\n"
   ]
  },
  {
   "cell_type": "code",
   "execution_count": null,
   "metadata": {},
   "outputs": [],
   "source": [
    "# 읍면동 기준 월간 총 합계 계산\n",
    "# 날짜 데이터 타입으로 변환\n",
    "\n",
    "# 읍면동별로 그룹화하여 월간 총 합계 계산\n",
    "\n",
    "# 결과 출력\n"
   ]
  },
  {
   "cell_type": "code",
   "execution_count": null,
   "metadata": {},
   "outputs": [],
   "source": [
    "# 읍면동별로 그룹화하여 월간 총 합계 계산\n"
   ]
  },
  {
   "cell_type": "code",
   "execution_count": null,
   "metadata": {},
   "outputs": [],
   "source": [
    "# 지리정보시각화\n"
   ]
  },
  {
   "attachments": {},
   "cell_type": "markdown",
   "metadata": {},
   "source": [
    "# 디지코 디그리 Step1 라이브 강의 마치겠습니다.\n",
    "# 감사합니다."
   ]
  }
 ],
 "metadata": {
  "kernelspec": {
   "display_name": "Python 3",
   "language": "python",
   "name": "python3"
  },
  "language_info": {
   "codemirror_mode": {
    "name": "ipython",
    "version": 3
   },
   "file_extension": ".py",
   "mimetype": "text/x-python",
   "name": "python",
   "nbconvert_exporter": "python",
   "pygments_lexer": "ipython3",
   "version": "3.10.10"
  },
  "orig_nbformat": 4
 },
 "nbformat": 4,
 "nbformat_minor": 2
}
