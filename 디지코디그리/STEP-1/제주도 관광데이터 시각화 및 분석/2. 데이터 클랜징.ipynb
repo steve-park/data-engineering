{
 "cells": [
  {
   "attachments": {},
   "cell_type": "markdown",
   "metadata": {},
   "source": [
    "# 도전! 데이터 분석\n",
    "## 기초 통계량과 데이터 시각화를 통한 인사이트 도출 실습 과정입니다."
   ]
  },
  {
   "attachments": {},
   "cell_type": "markdown",
   "metadata": {},
   "source": [
    "* 먼저, 데이터를 불러와서 구조와 변수를 확인하겠습니다.\n",
    "    * 제주도 내 상권분석을 위한 유동인구에 따른 카드 매출액 변화 데이터\n",
    "    * 음면동, 업종명, 이용금액, 거주인구 등 정보 제공\n",
    "    * 2019년 : raw_data/제주특별자치도_주제3_상권분석을 위한 유동인구에 따른 카드 매출액 변화 데이터 활용_매쉬업결과_19.csv\n",
    "    * 2020년 : raw_data/제주특별자치도_주제3_상권분석을 위한 유동인구에 따른 카드 매출액 변화 데이터 활용_매쉬업결과_20(수정).csv\n",
    "    * 2021년(1월~5월): raw_data/제주특별자치도_주제3_상권분석을 위한 유동인구에 따른 카드 매출액 변화 데이터 활용_매쉬업결과_(2101~2105).csv"
   ]
  },
  {
   "attachments": {},
   "cell_type": "markdown",
   "metadata": {},
   "source": [
    "#### 1. 2019년 데이터 불러오기 및 데이터 클랜징\n",
    "* 데이터 클랜징에는 1) 결측치 처리 2) 이상치 탐지와 처리 3) 중복 데이터 처리 4) 노이즈 처리 5) 형식 표준화 6) 데이터 일치성 검사(key값 확인) 7) 데이터 유효성 검사(range)가 있으나,\n",
    "* 여기서는 결측치 처리, 이상치 탐지와 처리, 중복 데이터 처리를 중심으로 살펴보겠습니다."
   ]
  },
  {
   "cell_type": "code",
   "execution_count": null,
   "metadata": {},
   "outputs": [],
   "source": [
    "# 필요한 라이브러리 Import\n",
    "import pandas as pd\n",
    "\n",
    "# 데이터 불러오기\n",
    "df_2019 = pd.read_csv('raw_data/제주특별자치도_주제3_상권분석을 위한 유동인구에 따른 카드 매출액 변화 데이터 활용_매쉬업결과_19.csv', encoding = 'cp949')"
   ]
  },
  {
   "cell_type": "code",
   "execution_count": null,
   "metadata": {},
   "outputs": [],
   "source": [
    "# 1. 결측치 확인 및 처리\n",
    "missing_values = df_2019.isnull().sum()\n",
    "print(missing_values)"
   ]
  },
  {
   "cell_type": "code",
   "execution_count": null,
   "metadata": {},
   "outputs": [],
   "source": [
    "# 결측치 리스트 출력\n",
    "print(\"결측치:\")\n",
    "df_2019[df_2019.isnull().any(axis=1)]"
   ]
  },
  {
   "cell_type": "code",
   "execution_count": null,
   "metadata": {},
   "outputs": [],
   "source": [
    "# 결측치가 있다면 제거\n",
    "# 결측치 제거\n",
    "df_2019 = df_2019.dropna()\n",
    "\n",
    "# 인덱스 리셋\n",
    "df_2019 = df_2019.reset_index(drop=True)\n",
    "\n",
    "# 결측치 제거 결과 확인\n",
    "print(\"결측치 제거 결과:\")\n",
    "df_2019"
   ]
  },
  {
   "attachments": {},
   "cell_type": "markdown",
   "metadata": {},
   "source": [
    "#### 여기서 잠깐!\n",
    "* 시각화 이전에 한글을 인식하도록 설정을 하겠습니다."
   ]
  },
  {
   "cell_type": "code",
   "execution_count": null,
   "metadata": {},
   "outputs": [],
   "source": [
    "# 컴퓨터 내 설치된 폰트 확인하기\n",
    "## 라이브러리 Import\n",
    "from matplotlib import font_manager\n",
    "\n",
    "## 설치된 폰트 목록 가져오기\n",
    "font_list = font_manager.fontManager.ttflist\n",
    "\n",
    "## 폰트 이름 출력\n",
    "for font in font_list:\n",
    "    print(font.name)"
   ]
  },
  {
   "cell_type": "code",
   "execution_count": null,
   "metadata": {},
   "outputs": [],
   "source": [
    "## 한글폰트 설정\n",
    "import matplotlib.pyplot as plt\n",
    "\n",
    "# 폰트 설정\n",
    "plt.rcParams['font.family'] = 'Malgun Gothic'"
   ]
  },
  {
   "cell_type": "code",
   "execution_count": null,
   "metadata": {},
   "outputs": [],
   "source": [
    "# 2. 이상치 탐지(boxplot으로)\n",
    "## 이용자수\n",
    "import pandas as pd\n",
    "import matplotlib.pyplot as plt\n",
    "\n",
    "# Boxplot 시각화\n",
    "plt.boxplot(df_2019['이용자수'])\n",
    "plt.title('Boxplot')\n",
    "plt.xlabel('이용자수')\n",
    "plt.show()"
   ]
  },
  {
   "cell_type": "code",
   "execution_count": null,
   "metadata": {},
   "outputs": [],
   "source": [
    "# 2. 이상치 탐지(boxplot으로)\n",
    "## 이용금액\n",
    "import pandas as pd\n",
    "import matplotlib.pyplot as plt\n",
    "\n",
    "# Boxplot 시각화\n",
    "plt.boxplot(df_2019['이용금액'])\n",
    "plt.title('Boxplot')\n",
    "plt.xlabel('이용금액')\n",
    "plt.show()"
   ]
  },
  {
   "cell_type": "code",
   "execution_count": null,
   "metadata": {},
   "outputs": [],
   "source": [
    "# 2. 이상치 탐지(boxplot으로)\n",
    "## 거주인구\n",
    "import pandas as pd\n",
    "import matplotlib.pyplot as plt\n",
    "\n",
    "# Boxplot 시각화\n",
    "plt.boxplot(df_2019['거주인구'])\n",
    "plt.title('Boxplot')\n",
    "plt.xlabel('거주인구')\n",
    "plt.show()"
   ]
  },
  {
   "cell_type": "code",
   "execution_count": null,
   "metadata": {},
   "outputs": [],
   "source": [
    "# 2. 이상치 탐지(boxplot으로)\n",
    "## 근무인구\n",
    "import pandas as pd\n",
    "import matplotlib.pyplot as plt\n",
    "\n",
    "# Boxplot 시각화\n",
    "plt.boxplot(df_2019['근무인구'])\n",
    "plt.title('Boxplot')\n",
    "plt.xlabel('근무인구')\n",
    "plt.show()"
   ]
  },
  {
   "cell_type": "code",
   "execution_count": null,
   "metadata": {},
   "outputs": [],
   "source": [
    "# 2. 이상치 탐지(boxplot으로)\n",
    "## 방문인구\n",
    "import pandas as pd\n",
    "import matplotlib.pyplot as plt\n",
    "\n",
    "# Boxplot 시각화\n",
    "plt.boxplot(df_2019['방문인구'])\n",
    "plt.title('Boxplot')\n",
    "plt.xlabel('방문인구')\n",
    "plt.show()"
   ]
  },
  {
   "attachments": {},
   "cell_type": "markdown",
   "metadata": {},
   "source": [
    "#### 한 번에 다 확인하는 방법은 없을까요?"
   ]
  },
  {
   "cell_type": "code",
   "execution_count": null,
   "metadata": {},
   "outputs": [],
   "source": [
    "# 2. 이상치 탐지(boxplot으로)\n",
    "## 이용자수, 이용금액, 거주인구, 근무인구, 방문인구\n",
    "import pandas as pd\n",
    "import matplotlib.pyplot as plt\n",
    "\n",
    "# Boxplot 시각화\n",
    "plt.boxplot(df_2019[['이용자수', '이용금액', '거주인구', '근무인구', '방문인구']])\n",
    "plt.title('Boxplot')\n",
    "plt.xticks(range(1, 6),['이용자수', '이용금액', '거주인구', '근무인구', '방문인구'])\n",
    "plt.show()"
   ]
  },
  {
   "attachments": {},
   "cell_type": "markdown",
   "metadata": {},
   "source": [
    "#### boxplot에서 확인된 이상치 리스트 확인하기"
   ]
  },
  {
   "cell_type": "code",
   "execution_count": null,
   "metadata": {},
   "outputs": [],
   "source": [
    "# 2. 이상치 탐지(tukey 방법으로)\n",
    "## 라이브러리 Import\n",
    "import pandas as pd\n",
    "import numpy as np\n",
    "\n",
    "\n",
    "# Tukey의 방법을 사용하여 이상치 식별 함수\n",
    "def detect_outliers_tukey(data, variable):\n",
    "    Q1 = np.percentile(data[variable], 25)\n",
    "    Q3 = np.percentile(data[variable], 75)\n",
    "    IQR = Q3 - Q1\n",
    "    lower_bound = Q1 - 1.5 * IQR\n",
    "    upper_bound = Q3 + 1.5 * IQR\n",
    "    outliers = data[(data[variable] < lower_bound) | (data[variable] > upper_bound)]\n",
    "    return outliers"
   ]
  },
  {
   "cell_type": "code",
   "execution_count": null,
   "metadata": {},
   "outputs": [],
   "source": [
    "# '이용자수'에서 이상치 식별\n",
    "outliers = detect_outliers_tukey(df_2019, '이용자수')\n",
    "print(\"이상치:\")\n",
    "outliers"
   ]
  },
  {
   "cell_type": "code",
   "execution_count": null,
   "metadata": {},
   "outputs": [],
   "source": [
    "# '이용금액'에서 이상치 식별\n",
    "outliers = detect_outliers_tukey(df_2019, '이용금액')\n",
    "print(\"이상치:\")\n",
    "outliers"
   ]
  },
  {
   "cell_type": "code",
   "execution_count": null,
   "metadata": {},
   "outputs": [],
   "source": [
    "# '거주인구'에서 이상치 식별\n",
    "outliers = detect_outliers_tukey(df_2019, '거주인구')\n",
    "print(\"이상치:\")\n",
    "outliers"
   ]
  },
  {
   "cell_type": "code",
   "execution_count": null,
   "metadata": {},
   "outputs": [],
   "source": [
    "# '근무인구'에서 이상치 식별\n",
    "outliers = detect_outliers_tukey(df_2019, '근무인구')\n",
    "print(\"이상치:\")\n",
    "outliers"
   ]
  },
  {
   "cell_type": "code",
   "execution_count": null,
   "metadata": {},
   "outputs": [],
   "source": [
    "# '방문인구'에서 이상치 식별\n",
    "outliers = detect_outliers_tukey(df_2019, '방문인구')\n",
    "print(\"이상치:\")\n",
    "outliers"
   ]
  },
  {
   "cell_type": "code",
   "execution_count": null,
   "metadata": {},
   "outputs": [],
   "source": [
    "# 3. 중복 데이터 확인\n",
    "duplicates = df_2019[df_2019.duplicated()]\n",
    "\n",
    "# 중복 데이터 출력\n",
    "print(\"중복 데이터:\")\n",
    "print(duplicates)"
   ]
  },
  {
   "cell_type": "code",
   "execution_count": null,
   "metadata": {},
   "outputs": [],
   "source": [
    "# 만약에 중복 값이 있다면, 삭제\n",
    "df_2019_unique = df_2019.drop_duplicates()\n",
    "\n",
    "# 중복 데이터 처리 결과 확인\n",
    "print(\"중복 데이터 처리 결과:\")\n",
    "df_2019_unique"
   ]
  },
  {
   "attachments": {},
   "cell_type": "markdown",
   "metadata": {},
   "source": [
    "#### 2. 2020년 데이터 불러오기 불러오기 및 데이터 클랜징(실습)\n",
    "* 2020년 : raw_data/제주특별자치도_주제3_상권분석을 위한 유동인구에 따른 카드 매출액 변화 데이터 활용_매쉬업결과_20(수정).csv"
   ]
  },
  {
   "cell_type": "code",
   "execution_count": null,
   "metadata": {},
   "outputs": [],
   "source": [
    "# 필요한 라이브러리 Import\n",
    "\n",
    "\n",
    "# 데이터 불러오기(df_2020)\n"
   ]
  },
  {
   "cell_type": "code",
   "execution_count": null,
   "metadata": {},
   "outputs": [],
   "source": [
    "# 1. 결측치 확인 및 처리\n",
    "\n"
   ]
  },
  {
   "cell_type": "code",
   "execution_count": null,
   "metadata": {},
   "outputs": [],
   "source": [
    "# 결측치 리스트 출력\n"
   ]
  },
  {
   "cell_type": "code",
   "execution_count": null,
   "metadata": {},
   "outputs": [],
   "source": [
    "# 결측치가 있다면 제거\n",
    "# 결측치 제거\n",
    "\n",
    "\n",
    "# 인덱스 리셋\n",
    "\n",
    "\n",
    "# 결측치 제거 결과 확인\n"
   ]
  },
  {
   "attachments": {},
   "cell_type": "markdown",
   "metadata": {},
   "source": [
    "#### 여기서 잠깐!\n",
    "* 시각화 이전에 한글을 인식하도록 설정을 하겠습니다."
   ]
  },
  {
   "cell_type": "code",
   "execution_count": null,
   "metadata": {},
   "outputs": [],
   "source": [
    "# 컴퓨터 내 설치된 폰트 확인하기\n",
    "## 라이브러리 Import\n",
    "from matplotlib import font_manager\n",
    "\n",
    "## 설치된 폰트 목록 가져오기\n",
    "font_list = font_manager.fontManager.ttflist\n",
    "\n",
    "## 폰트 이름 출력\n",
    "for font in font_list:\n",
    "    print(font.name)"
   ]
  },
  {
   "cell_type": "code",
   "execution_count": null,
   "metadata": {},
   "outputs": [],
   "source": [
    "## 한글폰트 설정\n",
    "import matplotlib.pyplot as plt\n",
    "\n",
    "# 폰트 설정\n",
    "plt.rcParams['font.family'] = 'Malgun Gothic'"
   ]
  },
  {
   "cell_type": "code",
   "execution_count": null,
   "metadata": {},
   "outputs": [],
   "source": [
    "# 2. 이상치 탐지(boxplot으로)\n",
    "## 이용자수\n",
    "\n",
    "# Boxplot 시각화\n"
   ]
  },
  {
   "cell_type": "code",
   "execution_count": null,
   "metadata": {},
   "outputs": [],
   "source": [
    "# 2. 이상치 탐지(boxplot으로)\n",
    "## 이용금액\n",
    "\n",
    "# Boxplot 시각화\n"
   ]
  },
  {
   "cell_type": "code",
   "execution_count": null,
   "metadata": {},
   "outputs": [],
   "source": [
    "# 2. 이상치 탐지(boxplot으로)\n",
    "## 거주인구\n",
    "\n",
    "# Boxplot 시각화\n"
   ]
  },
  {
   "cell_type": "code",
   "execution_count": null,
   "metadata": {},
   "outputs": [],
   "source": [
    "# 2. 이상치 탐지(boxplot으로)\n",
    "## 근무인구\n",
    "\n",
    "# Boxplot 시각화\n"
   ]
  },
  {
   "cell_type": "code",
   "execution_count": null,
   "metadata": {},
   "outputs": [],
   "source": [
    "# 2. 이상치 탐지(boxplot으로)\n",
    "## 방문인구\n",
    "\n",
    "# Boxplot 시각화\n"
   ]
  },
  {
   "attachments": {},
   "cell_type": "markdown",
   "metadata": {},
   "source": [
    "#### 한 번에 다 확인하는 방법은 없을까요?"
   ]
  },
  {
   "cell_type": "code",
   "execution_count": null,
   "metadata": {},
   "outputs": [],
   "source": [
    "# 2. 이상치 탐지(boxplot으로)\n",
    "## 이용자수, 이용금액, 거주인구, 근무인구, 방문인구\n",
    "\n",
    "# Boxplot 시각화\n"
   ]
  },
  {
   "attachments": {},
   "cell_type": "markdown",
   "metadata": {},
   "source": [
    "#### boxplot에서 확인된 이상치 리스트 확인하기"
   ]
  },
  {
   "cell_type": "code",
   "execution_count": null,
   "metadata": {},
   "outputs": [],
   "source": [
    "# 2. 이상치 탐지(tukey 방법으로)\n",
    "## 라이브러리 Import\n",
    "\n",
    "# Tukey의 방법을 사용하여 이상치 식별 함수\n",
    "def detect_outliers_tukey(data, variable):\n",
    "    Q1 = np.percentile(data[variable], 25)\n",
    "    Q3 = np.percentile(data[variable], 75)\n",
    "    IQR = Q3 - Q1\n",
    "    lower_bound = Q1 - 1.5 * IQR\n",
    "    upper_bound = Q3 + 1.5 * IQR\n",
    "    outliers = data[(data[variable] < lower_bound) | (data[variable] > upper_bound)]\n",
    "    return outliers"
   ]
  },
  {
   "cell_type": "code",
   "execution_count": null,
   "metadata": {},
   "outputs": [],
   "source": [
    "# '이용자수'에서 이상치 식별\n"
   ]
  },
  {
   "cell_type": "code",
   "execution_count": null,
   "metadata": {},
   "outputs": [],
   "source": [
    "# '이용금액'에서 이상치 식별\n"
   ]
  },
  {
   "cell_type": "code",
   "execution_count": null,
   "metadata": {},
   "outputs": [],
   "source": [
    "# '거주인구'에서 이상치 식별\n"
   ]
  },
  {
   "cell_type": "code",
   "execution_count": null,
   "metadata": {},
   "outputs": [],
   "source": [
    "# '근무인구'에서 이상치 식별\n"
   ]
  },
  {
   "cell_type": "code",
   "execution_count": null,
   "metadata": {},
   "outputs": [],
   "source": [
    "# '방문인구'에서 이상치 식별\n"
   ]
  },
  {
   "cell_type": "code",
   "execution_count": null,
   "metadata": {},
   "outputs": [],
   "source": [
    "# 3. 중복 데이터 확인\n",
    "\n",
    "# 중복 데이터 출력\n"
   ]
  },
  {
   "cell_type": "code",
   "execution_count": null,
   "metadata": {},
   "outputs": [],
   "source": [
    "# 만약에 중복 값이 있다면, 삭제\n",
    "\n",
    "# 중복 데이터 처리 결과 확인\n"
   ]
  },
  {
   "attachments": {},
   "cell_type": "markdown",
   "metadata": {},
   "source": [
    "#### 3. 2021년 데이터 불러오기 및 데이터 클랜징(실습)\n",
    "* 2021년(1월~5월): raw_data/제주특별자치도_주제3_상권분석을 위한 유동인구에 따른 카드 매출액 변화 데이터 활용_매쉬업결과_(2101~2105).csv"
   ]
  },
  {
   "cell_type": "code",
   "execution_count": null,
   "metadata": {},
   "outputs": [],
   "source": [
    "# 필요한 라이브러리 Import\n",
    "\n",
    "\n",
    "# 데이터 불러오기(df_2020)\n"
   ]
  },
  {
   "cell_type": "code",
   "execution_count": null,
   "metadata": {},
   "outputs": [],
   "source": [
    "# 1. 결측치 확인 및 처리\n",
    "\n"
   ]
  },
  {
   "cell_type": "code",
   "execution_count": null,
   "metadata": {},
   "outputs": [],
   "source": [
    "# 결측치 리스트 출력\n"
   ]
  },
  {
   "cell_type": "code",
   "execution_count": null,
   "metadata": {},
   "outputs": [],
   "source": [
    "# 결측치가 있다면 제거\n",
    "# 결측치 제거\n",
    "\n",
    "\n",
    "# 인덱스 리셋\n",
    "\n",
    "\n",
    "# 결측치 제거 결과 확인\n"
   ]
  },
  {
   "attachments": {},
   "cell_type": "markdown",
   "metadata": {},
   "source": [
    "#### 여기서 잠깐!\n",
    "* 시각화 이전에 한글을 인식하도록 설정을 하겠습니다."
   ]
  },
  {
   "cell_type": "code",
   "execution_count": null,
   "metadata": {},
   "outputs": [],
   "source": [
    "# 컴퓨터 내 설치된 폰트 확인하기\n",
    "## 라이브러리 Import\n",
    "from matplotlib import font_manager\n",
    "\n",
    "## 설치된 폰트 목록 가져오기\n",
    "font_list = font_manager.fontManager.ttflist\n",
    "\n",
    "## 폰트 이름 출력\n",
    "for font in font_list:\n",
    "    print(font.name)"
   ]
  },
  {
   "cell_type": "code",
   "execution_count": null,
   "metadata": {},
   "outputs": [],
   "source": [
    "## 한글폰트 설정\n",
    "import matplotlib.pyplot as plt\n",
    "\n",
    "# 폰트 설정\n",
    "plt.rcParams['font.family'] = 'Malgun Gothic'"
   ]
  },
  {
   "cell_type": "code",
   "execution_count": null,
   "metadata": {},
   "outputs": [],
   "source": [
    "# 2. 이상치 탐지(boxplot으로)\n",
    "## 이용자수\n",
    "\n",
    "# Boxplot 시각화\n"
   ]
  },
  {
   "cell_type": "code",
   "execution_count": null,
   "metadata": {},
   "outputs": [],
   "source": [
    "# 2. 이상치 탐지(boxplot으로)\n",
    "## 이용금액\n",
    "\n",
    "# Boxplot 시각화\n"
   ]
  },
  {
   "cell_type": "code",
   "execution_count": null,
   "metadata": {},
   "outputs": [],
   "source": [
    "# 2. 이상치 탐지(boxplot으로)\n",
    "## 거주인구\n",
    "\n",
    "# Boxplot 시각화\n"
   ]
  },
  {
   "cell_type": "code",
   "execution_count": null,
   "metadata": {},
   "outputs": [],
   "source": [
    "# 2. 이상치 탐지(boxplot으로)\n",
    "## 근무인구\n",
    "\n",
    "# Boxplot 시각화\n"
   ]
  },
  {
   "cell_type": "code",
   "execution_count": null,
   "metadata": {},
   "outputs": [],
   "source": [
    "# 2. 이상치 탐지(boxplot으로)\n",
    "## 방문인구\n",
    "\n",
    "# Boxplot 시각화\n"
   ]
  },
  {
   "attachments": {},
   "cell_type": "markdown",
   "metadata": {},
   "source": [
    "#### 한 번에 다 확인하는 방법은 없을까요?"
   ]
  },
  {
   "cell_type": "code",
   "execution_count": null,
   "metadata": {},
   "outputs": [],
   "source": [
    "# 2. 이상치 탐지(boxplot으로)\n",
    "## 이용자수, 이용금액, 거주인구, 근무인구, 방문인구\n",
    "\n",
    "# Boxplot 시각화\n"
   ]
  },
  {
   "attachments": {},
   "cell_type": "markdown",
   "metadata": {},
   "source": [
    "#### boxplot에서 확인된 이상치 리스트 확인하기"
   ]
  },
  {
   "cell_type": "code",
   "execution_count": null,
   "metadata": {},
   "outputs": [],
   "source": [
    "# 2. 이상치 탐지(tukey 방법으로)\n",
    "## 라이브러리 Import\n",
    "\n",
    "# Tukey의 방법을 사용하여 이상치 식별 함수\n",
    "def detect_outliers_tukey(data, variable):\n",
    "    Q1 = np.percentile(data[variable], 25)\n",
    "    Q3 = np.percentile(data[variable], 75)\n",
    "    IQR = Q3 - Q1\n",
    "    lower_bound = Q1 - 1.5 * IQR\n",
    "    upper_bound = Q3 + 1.5 * IQR\n",
    "    outliers = data[(data[variable] < lower_bound) | (data[variable] > upper_bound)]\n",
    "    return outliers"
   ]
  },
  {
   "cell_type": "code",
   "execution_count": null,
   "metadata": {},
   "outputs": [],
   "source": [
    "# '이용자수'에서 이상치 식별\n"
   ]
  },
  {
   "cell_type": "code",
   "execution_count": null,
   "metadata": {},
   "outputs": [],
   "source": [
    "# '이용금액'에서 이상치 식별\n"
   ]
  },
  {
   "cell_type": "code",
   "execution_count": null,
   "metadata": {},
   "outputs": [],
   "source": [
    "# '거주인구'에서 이상치 식별\n"
   ]
  },
  {
   "cell_type": "code",
   "execution_count": null,
   "metadata": {},
   "outputs": [],
   "source": [
    "# '근무인구'에서 이상치 식별\n"
   ]
  },
  {
   "cell_type": "code",
   "execution_count": null,
   "metadata": {},
   "outputs": [],
   "source": [
    "# '방문인구'에서 이상치 식별\n"
   ]
  },
  {
   "cell_type": "code",
   "execution_count": null,
   "metadata": {},
   "outputs": [],
   "source": [
    "# 3. 중복 데이터 확인\n",
    "\n",
    "# 중복 데이터 출력\n"
   ]
  },
  {
   "cell_type": "code",
   "execution_count": null,
   "metadata": {},
   "outputs": [],
   "source": [
    "# 만약에 중복 값이 있다면, 삭제\n",
    "\n",
    "# 중복 데이터 처리 결과 확인\n"
   ]
  },
  {
   "attachments": {},
   "cell_type": "markdown",
   "metadata": {},
   "source": [
    "# 다음 '기초 통계량 확인'에서 다시 뵙겠습니다.\n",
    "# 감사합니다."
   ]
  }
 ],
 "metadata": {
  "kernelspec": {
   "display_name": "Python 3",
   "language": "python",
   "name": "python3"
  },
  "language_info": {
   "codemirror_mode": {
    "name": "ipython",
    "version": 3
   },
   "file_extension": ".py",
   "mimetype": "text/x-python",
   "name": "python",
   "nbconvert_exporter": "python",
   "pygments_lexer": "ipython3",
   "version": "3.10.10"
  },
  "orig_nbformat": 4
 },
 "nbformat": 4,
 "nbformat_minor": 2
}
