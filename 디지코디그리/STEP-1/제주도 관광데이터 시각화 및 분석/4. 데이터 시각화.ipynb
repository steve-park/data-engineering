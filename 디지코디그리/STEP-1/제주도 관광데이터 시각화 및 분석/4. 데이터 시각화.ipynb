{
 "cells": [
  {
   "attachments": {},
   "cell_type": "markdown",
   "metadata": {},
   "source": [
    "# 도전! 데이터 분석\n",
    "## 기초 통계량과 데이터 시각화를 통한 인사이트 도출 실습 과정입니다."
   ]
  },
  {
   "attachments": {},
   "cell_type": "markdown",
   "metadata": {},
   "source": [
    "* 먼저, 데이터를 불러와서 구조와 변수를 확인하겠습니다.\n",
    "    * 제주도 내 상권분석을 위한 유동인구에 따른 카드 매출액 변화 데이터\n",
    "    * 음면동, 업종명, 이용금액, 거주인구 등 정보 제공\n",
    "    * 2019년 : raw_data/제주특별자치도_주제3_상권분석을 위한 유동인구에 따른 카드 매출액 변화 데이터 활용_매쉬업결과_19.csv\n",
    "    * 2020년 : raw_data/제주특별자치도_주제3_상권분석을 위한 유동인구에 따른 카드 매출액 변화 데이터 활용_매쉬업결과_20(수정).csv\n",
    "    * 2021년(1월~5월): raw_data/제주특별자치도_주제3_상권분석을 위한 유동인구에 따른 카드 매출액 변화 데이터 활용_매쉬업결과_(2101~2105).csv"
   ]
  },
  {
   "attachments": {},
   "cell_type": "markdown",
   "metadata": {},
   "source": [
    "#### 1. 2019년 데이터 불러오기 및 시각화 비교\n",
    "* 양적변수를 기준으로 산포도 그리기\n",
    "* 질적변수를 기준으로 파이 그래프 그리기"
   ]
  },
  {
   "cell_type": "code",
   "execution_count": null,
   "metadata": {},
   "outputs": [],
   "source": [
    "# 필요한 라이브러리 Import\n",
    "import pandas as pd\n",
    "\n",
    "# 데이터 불러오기\n",
    "df_2019 = pd.read_csv('raw_data/제주특별자치도_주제3_상권분석을 위한 유동인구에 따른 카드 매출액 변화 데이터 활용_매쉬업결과_19.csv', encoding = 'cp949')"
   ]
  },
  {
   "cell_type": "code",
   "execution_count": null,
   "metadata": {},
   "outputs": [],
   "source": [
    "# 데이터 확인\n",
    "df_2019"
   ]
  },
  {
   "cell_type": "code",
   "execution_count": null,
   "metadata": {},
   "outputs": [],
   "source": [
    "# 읍면동 기준 월간 총 합계 계산\n",
    "# 날짜 데이터 타입으로 변환\n",
    "df_2019['년월'] = pd.to_datetime(df_2019['년월'])\n",
    "\n",
    "# 연도와 월 추출\n",
    "df_2019['연도'] = df_2019['년월'].dt.year\n",
    "df_2019['월'] = df_2019['년월'].dt.month\n",
    "\n",
    "# 읍면동별로 그룹화하여 월간 총 합계 계산\n",
    "result = df_2019.groupby(['읍면동명', '월']).sum().reset_index()\n",
    "\n",
    "# 결과 출력\n",
    "result"
   ]
  },
  {
   "cell_type": "code",
   "execution_count": null,
   "metadata": {},
   "outputs": [],
   "source": [
    "# 1. 양적변수를 기준으로 산포도 그리기\n",
    "import plotly.express as px\n",
    "\n",
    "fig = px.scatter_matrix(result, dimensions=['이용자수', '이용금액', '거주인구', '근무인구', '방문인구'])\n",
    "fig.update_layout(\n",
    "    width=800,  # 그림의 너비\n",
    "    height=600,  # 그림의 높이\n",
    ")\n",
    "fig.show()"
   ]
  },
  {
   "cell_type": "code",
   "execution_count": null,
   "metadata": {},
   "outputs": [],
   "source": [
    "# 양적변수를 기준으로 산포도 그리기(월별로 어떻게 다를까?)\n",
    "import plotly.express as px\n",
    "\n",
    "# 읍면동별로 그룹화하여 월간 총 합계 계산\n",
    "result_M = result.groupby(['월']).sum().reset_index()\n",
    "\n",
    "fig = px.scatter_matrix(result_M, dimensions=['이용자수', '이용금액', '거주인구', '근무인구', '방문인구'], color='월')\n",
    "fig.update_layout(\n",
    "    width=800,  # 그림의 너비\n",
    "    height=600,  # 그림의 높이\n",
    ")\n",
    "fig.show()"
   ]
  },
  {
   "cell_type": "code",
   "execution_count": null,
   "metadata": {},
   "outputs": [],
   "source": [
    "# 양적변수를 기준으로 산포도 그리기(동별로 어떻게 다를까?)\n",
    "import plotly.express as px\n",
    "\n",
    "# 읍면동별로 그룹화하여 월간 총 합계 계산\n",
    "result_M = result.groupby(['읍면동명']).sum().reset_index()\n",
    "\n",
    "fig = px.scatter_matrix(result_M, dimensions=['이용자수', '이용금액', '거주인구', '근무인구', '방문인구'], color='읍면동명')\n",
    "fig.update_layout(\n",
    "    width=800,  # 그림의 너비\n",
    "    height=600,  # 그림의 높이\n",
    ")\n",
    "fig.show()"
   ]
  },
  {
   "cell_type": "code",
   "execution_count": null,
   "metadata": {},
   "outputs": [],
   "source": [
    "# 양적변수를 기준으로 산포도 그리기(월과 읍면동을 다 고려해볼까?) - 이용자수/이용금액\n",
    "import plotly.express as px\n",
    "\n",
    "fig = px.scatter(result, x='이용자수', y='이용금액', color='읍면동명', symbol='월',\n",
    "                 title='양적 변수 산포도 - 월별 읍면동별',\n",
    "                 labels={'이용자수': '이용자수', '이용금액': '이용금액', '읍면동명': '읍면동명', '월': '월'})\n",
    "\n",
    "fig.update_layout(\n",
    "    width=800,  # 그림의 너비\n",
    "    height=600,  # 그림의 높이\n",
    ")\n",
    "fig.show()"
   ]
  },
  {
   "cell_type": "code",
   "execution_count": null,
   "metadata": {},
   "outputs": [],
   "source": [
    "# 양적변수를 기준으로 산포도 그리기(월과 읍면동을 다 고려해볼까?) - 거주인구/근무인구\n",
    "import plotly.express as px\n",
    "\n",
    "fig = px.scatter(result, x='거주인구', y='근무인구', color='읍면동명', symbol='월',\n",
    "                 title='양적 변수 산포도 - 월별 읍면동별',\n",
    "                 labels={'거주인구': '거주인구', '근무인구': '근무인구', '읍면동명': '읍면동명', '월': '월'})\n",
    "\n",
    "fig.update_layout(\n",
    "    width=800,  # 그림의 너비\n",
    "    height=600,  # 그림의 높이\n",
    ")\n",
    "fig.show()"
   ]
  },
  {
   "cell_type": "code",
   "execution_count": null,
   "metadata": {},
   "outputs": [],
   "source": [
    "# 양적변수를 기준으로 산포도 그리기(월과 읍면동을 다 고려해볼까?) - 거주인구/방문인구\n",
    "import plotly.express as px\n",
    "\n",
    "fig = px.scatter(result, x='거주인구', y='방문인구', color='읍면동명', symbol='월',\n",
    "                 title='양적 변수 산포도 - 월별 읍면동별',\n",
    "                 labels={'거주인구': '거주인구', '방문인구': '방문인구', '읍면동명': '읍면동명', '월': '월'})\n",
    "\n",
    "fig.update_layout(\n",
    "    width=800,  # 그림의 너비\n",
    "    height=600,  # 그림의 높이\n",
    ")\n",
    "fig.show()"
   ]
  },
  {
   "cell_type": "code",
   "execution_count": null,
   "metadata": {},
   "outputs": [],
   "source": [
    "# 양적변수를 기준으로 산포도 그리기(월과 읍면동을 다 고려해볼까?) - 근무인구/방문인구\n",
    "import plotly.express as px\n",
    "\n",
    "fig = px.scatter(result, x='근무인구', y='방문인구', color='읍면동명', symbol='월',\n",
    "                 title='양적 변수 산포도 - 월별 읍면동별',\n",
    "                 labels={'근무인구': '근무인구', '방문인구': '방문인구', '읍면동명': '읍면동명', '월': '월'})\n",
    "\n",
    "fig.update_layout(\n",
    "    width=800,  # 그림의 너비\n",
    "    height=600,  # 그림의 높이\n",
    ")\n",
    "fig.show()"
   ]
  },
  {
   "cell_type": "code",
   "execution_count": null,
   "metadata": {},
   "outputs": [],
   "source": [
    "# 2. 질적변수 파이 그래프 그리기\n",
    "# 유니크값 확인하기\n",
    "print(df_2019['업종명'].unique())\n",
    "print(df_2019['성별'].unique())"
   ]
  },
  {
   "cell_type": "code",
   "execution_count": null,
   "metadata": {},
   "outputs": [],
   "source": [
    "# 업종별 pie chart 그리기\n",
    "import pandas as pd\n",
    "import plotly.graph_objects as go\n",
    "\n",
    "# 업종로 그룹화하여 연간 총 합계 계산\n",
    "result_pie = df_2019.groupby(['업종명']).sum().reset_index()\n",
    "\n",
    "# 파이 차트 데이터 생성\n",
    "values = result_pie['이용금액']\n",
    "labels = result_pie['업종명']\n",
    "\n",
    "# 파이 차트 생성 및 레이아웃 설정\n",
    "fig = go.Figure(data=[go.Pie(labels=labels, values=values)])\n",
    "\n",
    "# 그래프 출력\n",
    "fig.show()"
   ]
  },
  {
   "cell_type": "code",
   "execution_count": null,
   "metadata": {},
   "outputs": [],
   "source": [
    "# 성별 pie chart 그리기\n",
    "import pandas as pd\n",
    "import plotly.graph_objects as go\n",
    "\n",
    "# 업종로 그룹화하여 연간 총 합계 계산\n",
    "result_pie = df_2019.groupby(['성별']).sum().reset_index()\n",
    "\n",
    "# 파이 차트 데이터 생성\n",
    "values = result_pie['이용금액']\n",
    "labels = result_pie['성별']\n",
    "\n",
    "# 파이 차트 생성 및 레이아웃 설정\n",
    "fig = go.Figure(data=[go.Pie(labels=labels, values=values)])\n",
    "\n",
    "# 그래프 출력\n",
    "fig.show()"
   ]
  },
  {
   "attachments": {},
   "cell_type": "markdown",
   "metadata": {},
   "source": [
    "#### 2. 2020년 데이터 불러오기 및 시각화 비교(실습)\n",
    "* 2020년 : raw_data/제주특별자치도_주제3_상권분석을 위한 유동인구에 따른 카드 매출액 변화 데이터 활용_매쉬업결과_20(수정).csv\n",
    "* 양적변수를 기준으로 산포도 그리기\n",
    "* 질적변수를 기준으로 파이 그래프 그리기"
   ]
  },
  {
   "cell_type": "code",
   "execution_count": null,
   "metadata": {},
   "outputs": [],
   "source": [
    "# 필요한 라이브러리 Import\n",
    "\n",
    "# 데이터 불러오기(df_2020)\n"
   ]
  },
  {
   "cell_type": "code",
   "execution_count": null,
   "metadata": {},
   "outputs": [],
   "source": [
    "# 데이터 확인\n"
   ]
  },
  {
   "cell_type": "code",
   "execution_count": null,
   "metadata": {},
   "outputs": [],
   "source": [
    "# 읍면동 기준 월간 총 합계 계산\n",
    "# 날짜 데이터 타입으로 변환\n",
    "\n",
    "# 연도와 월 추출\n",
    "\n",
    "# 읍면동별로 그룹화하여 월간 총 합계 계산\n",
    "\n",
    "# 결과 출력\n"
   ]
  },
  {
   "cell_type": "code",
   "execution_count": null,
   "metadata": {},
   "outputs": [],
   "source": [
    "# 1. 양적변수를 기준으로 산포도 그리기\n"
   ]
  },
  {
   "cell_type": "code",
   "execution_count": null,
   "metadata": {},
   "outputs": [],
   "source": [
    "# 양적변수를 기준으로 산포도 그리기(월별로 어떻게 다를까?)\n"
   ]
  },
  {
   "cell_type": "code",
   "execution_count": null,
   "metadata": {},
   "outputs": [],
   "source": [
    "# 양적변수를 기준으로 산포도 그리기(동별로 어떻게 다를까?)\n"
   ]
  },
  {
   "cell_type": "code",
   "execution_count": null,
   "metadata": {},
   "outputs": [],
   "source": [
    "# 양적변수를 기준으로 산포도 그리기(월과 읍면동을 다 고려해볼까?) - 이용자수/이용금액\n"
   ]
  },
  {
   "cell_type": "code",
   "execution_count": null,
   "metadata": {},
   "outputs": [],
   "source": [
    "# 양적변수를 기준으로 산포도 그리기(월과 읍면동을 다 고려해볼까?) - 거주인구/근무인구\n"
   ]
  },
  {
   "cell_type": "code",
   "execution_count": null,
   "metadata": {},
   "outputs": [],
   "source": [
    "# 양적변수를 기준으로 산포도 그리기(월과 읍면동을 다 고려해볼까?) - 거주인구/방문인구\n"
   ]
  },
  {
   "cell_type": "code",
   "execution_count": null,
   "metadata": {},
   "outputs": [],
   "source": [
    "# 양적변수를 기준으로 산포도 그리기(월과 읍면동을 다 고려해볼까?) - 근무인구/방문인구\n"
   ]
  },
  {
   "cell_type": "code",
   "execution_count": null,
   "metadata": {},
   "outputs": [],
   "source": [
    "# 2. 질적변수 파이 그래프 그리기\n",
    "# 유니크값 확인하기\n"
   ]
  },
  {
   "cell_type": "code",
   "execution_count": null,
   "metadata": {},
   "outputs": [],
   "source": [
    "# 업종별 pie chart 그리기\n"
   ]
  },
  {
   "cell_type": "code",
   "execution_count": null,
   "metadata": {},
   "outputs": [],
   "source": [
    "# 성별 pie chart 그리기\n",
    "\n",
    "# 업종로 그룹화하여 연간 총 합계 계산\n",
    "\n",
    "# 파이 차트 데이터 생성\n",
    "\n",
    "# 파이 차트 생성 및 레이아웃 설정\n",
    "\n",
    "# 그래프 출력"
   ]
  },
  {
   "attachments": {},
   "cell_type": "markdown",
   "metadata": {},
   "source": [
    "# 다음 '지리정보 시각화'에서 다시 뵙겠습니다.\n",
    "# 감사합니다."
   ]
  }
 ],
 "metadata": {
  "kernelspec": {
   "display_name": "Python 3",
   "language": "python",
   "name": "python3"
  },
  "language_info": {
   "codemirror_mode": {
    "name": "ipython",
    "version": 3
   },
   "file_extension": ".py",
   "mimetype": "text/x-python",
   "name": "python",
   "nbconvert_exporter": "python",
   "pygments_lexer": "ipython3",
   "version": "3.10.10"
  },
  "orig_nbformat": 4
 },
 "nbformat": 4,
 "nbformat_minor": 2
}
