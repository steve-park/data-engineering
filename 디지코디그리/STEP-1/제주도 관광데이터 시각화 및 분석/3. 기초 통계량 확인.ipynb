{
 "cells": [
  {
   "attachments": {},
   "cell_type": "markdown",
   "metadata": {},
   "source": [
    "# 도전! 데이터 분석\n",
    "## 기초 통계량과 데이터 시각화를 통한 인사이트 도출 실습 과정입니다."
   ]
  },
  {
   "attachments": {},
   "cell_type": "markdown",
   "metadata": {},
   "source": [
    "* 먼저, 데이터를 불러와서 구조와 변수를 확인하겠습니다.\n",
    "    * 제주도 내 상권분석을 위한 유동인구에 따른 카드 매출액 변화 데이터\n",
    "    * 음면동, 업종명, 이용금액, 거주인구 등 정보 제공\n",
    "    * 2019년 : raw_data/제주특별자치도_주제3_상권분석을 위한 유동인구에 따른 카드 매출액 변화 데이터 활용_매쉬업결과_19.csv\n",
    "    * 2020년 : raw_data/제주특별자치도_주제3_상권분석을 위한 유동인구에 따른 카드 매출액 변화 데이터 활용_매쉬업결과_20(수정).csv\n",
    "    * 2021년(1월~5월): raw_data/제주특별자치도_주제3_상권분석을 위한 유동인구에 따른 카드 매출액 변화 데이터 활용_매쉬업결과_(2101~2105).csv"
   ]
  },
  {
   "attachments": {},
   "cell_type": "markdown",
   "metadata": {},
   "source": [
    "#### 1. 2019년 데이터 불러오기 및 기초 통계량 확인"
   ]
  },
  {
   "attachments": {},
   "cell_type": "markdown",
   "metadata": {},
   "source": [
    "* 대표값(평균, 중앙값, 최빈값) 확인하기\n",
    "* 분산 확인하기"
   ]
  },
  {
   "cell_type": "code",
   "execution_count": null,
   "metadata": {},
   "outputs": [],
   "source": [
    "# 필요한 라이브러리 Import\n",
    "import pandas as pd\n",
    "\n",
    "# 데이터 불러오기\n",
    "df_2019 = pd.read_csv('raw_data/제주특별자치도_주제3_상권분석을 위한 유동인구에 따른 카드 매출액 변화 데이터 활용_매쉬업결과_19.csv', encoding = 'cp949')"
   ]
  },
  {
   "cell_type": "code",
   "execution_count": null,
   "metadata": {},
   "outputs": [],
   "source": [
    "# 데이터 확인\n",
    "df_2019"
   ]
  },
  {
   "cell_type": "code",
   "execution_count": null,
   "metadata": {},
   "outputs": [],
   "source": [
    "# 읍면동 기준 월간 총 합계 계산\n",
    "# 날짜 데이터 타입으로 변환\n",
    "df_2019['년월'] = pd.to_datetime(df_2019['년월'])\n",
    "\n",
    "# 연도와 월 추출\n",
    "df_2019['연도'] = df_2019['년월'].dt.year\n",
    "df_2019['월'] = df_2019['년월'].dt.month\n",
    "\n",
    "# 읍면동별로 그룹화하여 월간 총 합계 계산\n",
    "result = df_2019.groupby(['읍면동명', '월']).sum()\n",
    "\n",
    "# 필요한 열 선택\n",
    "result = result[['이용자수', '이용금액', '거주인구', '근무인구', '방문인구']]\n",
    "\n",
    "# 결과 출력\n",
    "result"
   ]
  },
  {
   "cell_type": "code",
   "execution_count": null,
   "metadata": {},
   "outputs": [],
   "source": [
    "# 1. 양적변수 기초통계량 확인\n",
    "## 출력 옵션 설정\n",
    "pd.options.display.float_format = '{:.0f}'.format\n",
    "\n",
    "## 데이터 프레임에서 기초 통계량 확인하기 : 평균, 중앙값, 분산\n",
    "result.describe()"
   ]
  },
  {
   "attachments": {},
   "cell_type": "markdown",
   "metadata": {},
   "source": [
    "* Check1. 평균, 분산 확인하기\n",
    "* Check2. 범위 확인하기(Max-min)\n",
    "* Check3. 중위값과 평균 비교하기"
   ]
  },
  {
   "cell_type": "code",
   "execution_count": null,
   "metadata": {},
   "outputs": [],
   "source": [
    "# 2. 질적변수 기초통계량 확인\n",
    "# 최빈값 확인하기\n",
    "df_2019.mode()"
   ]
  },
  {
   "cell_type": "code",
   "execution_count": null,
   "metadata": {},
   "outputs": [],
   "source": [
    "# 빈도 구하기(년월)\n",
    "from collections import Counter\n",
    "\n",
    "# 빈도 계산\n",
    "frequency = Counter(df_2019['년월'])\n",
    "\n",
    "# 결과 출력 (내림차순 정렬)\n",
    "sorted_frequency = sorted(frequency.items(), key=lambda x: x[1], reverse=True)\n",
    "\n",
    "for key, value in sorted_frequency:\n",
    "    print(f'Value: {key}, Frequency: {value}')"
   ]
  },
  {
   "cell_type": "code",
   "execution_count": null,
   "metadata": {},
   "outputs": [],
   "source": [
    "# 빈도 구하기(시도명)\n",
    "from collections import Counter\n",
    "\n",
    "# 빈도 계산\n",
    "frequency = Counter(df_2019['시도명'])\n",
    "\n",
    "# 결과 출력 (내림차순 정렬)\n",
    "sorted_frequency = sorted(frequency.items(), key=lambda x: x[1], reverse=True)\n",
    "\n",
    "for key, value in sorted_frequency:\n",
    "    print(f'Value: {key}, Frequency: {value}')"
   ]
  },
  {
   "cell_type": "code",
   "execution_count": null,
   "metadata": {},
   "outputs": [],
   "source": [
    "# 빈도 구하기(읍면동명)\n",
    "from collections import Counter\n",
    "\n",
    "# 빈도 계산\n",
    "frequency = Counter(df_2019['읍면동명'])\n",
    "\n",
    "# 결과 출력 (내림차순 정렬)\n",
    "sorted_frequency = sorted(frequency.items(), key=lambda x: x[1], reverse=True)\n",
    "\n",
    "for key, value in sorted_frequency:\n",
    "    print(f'Value: {key}, Frequency: {value}')"
   ]
  },
  {
   "cell_type": "code",
   "execution_count": null,
   "metadata": {},
   "outputs": [],
   "source": [
    "# 빈도 구하기(업종명)\n",
    "from collections import Counter\n",
    "\n",
    "# 빈도 계산\n",
    "frequency = Counter(df_2019['업종명'])\n",
    "\n",
    "# 결과 출력 (내림차순 정렬)\n",
    "sorted_frequency = sorted(frequency.items(), key=lambda x: x[1], reverse=True)\n",
    "\n",
    "for key, value in sorted_frequency:\n",
    "    print(f'Value: {key}, Frequency: {value}')"
   ]
  },
  {
   "cell_type": "code",
   "execution_count": null,
   "metadata": {},
   "outputs": [],
   "source": [
    "# 빈도 구하기(성별)\n",
    "from collections import Counter\n",
    "\n",
    "# 빈도 계산\n",
    "frequency = Counter(df_2019['성별'])\n",
    "\n",
    "# 결과 출력 (내림차순 정렬)\n",
    "sorted_frequency = sorted(frequency.items(), key=lambda x: x[1], reverse=True)\n",
    "\n",
    "for key, value in sorted_frequency:\n",
    "    print(f'Value: {key}, Frequency: {value}')"
   ]
  },
  {
   "attachments": {},
   "cell_type": "markdown",
   "metadata": {},
   "source": [
    "#### 2. 2020년 데이터 불러오기 및 기초 통계량 확인(실습)\n",
    "* 2020년 : raw_data/제주특별자치도_주제3_상권분석을 위한 유동인구에 따른 카드 매출액 변화 데이터 활용_매쉬업결과_20(수정).csv"
   ]
  },
  {
   "attachments": {},
   "cell_type": "markdown",
   "metadata": {},
   "source": [
    "* 대표값(평균, 중앙값, 최빈값) 확인하기\n",
    "* 분산 확인하기"
   ]
  },
  {
   "cell_type": "code",
   "execution_count": null,
   "metadata": {},
   "outputs": [],
   "source": [
    "# 필요한 라이브러리 Import\n",
    "\n",
    "\n",
    "# 데이터 불러오기(df_2020)\n"
   ]
  },
  {
   "cell_type": "code",
   "execution_count": null,
   "metadata": {},
   "outputs": [],
   "source": [
    "# 데이터 확인\n"
   ]
  },
  {
   "cell_type": "code",
   "execution_count": null,
   "metadata": {},
   "outputs": [],
   "source": [
    "# 읍면동 기준 월간 총 합계 계산\n",
    "# 날짜 데이터 타입으로 변환\n",
    "\n",
    "# 연도와 월 추출\n",
    "\n",
    "# 읍면동별로 그룹화하여 월간 총 합계 계산\n",
    "\n",
    "# 필요한 열 선택\n",
    "\n",
    "# 결과 출력\n"
   ]
  },
  {
   "cell_type": "code",
   "execution_count": null,
   "metadata": {},
   "outputs": [],
   "source": [
    "# 1. 양적변수 기초통계량 확인\n",
    "## 출력 옵션 설정\n",
    "pd.options.display.float_format = '{:.0f}'.format\n",
    "\n",
    "## 데이터 프레임에서 기초 통계량 확인하기 : 평균, 중앙값, 분산\n"
   ]
  },
  {
   "attachments": {},
   "cell_type": "markdown",
   "metadata": {},
   "source": [
    "* Check1. 평균, 분산 확인하기\n",
    "* Check2. 범위 확인하기(Max-min)\n",
    "* Check3. 중위값과 평균 비교하기"
   ]
  },
  {
   "cell_type": "code",
   "execution_count": null,
   "metadata": {},
   "outputs": [],
   "source": [
    "# 2. 질적변수 기초통계량 확인\n",
    "# 최빈값 확인하기\n"
   ]
  },
  {
   "cell_type": "code",
   "execution_count": null,
   "metadata": {},
   "outputs": [],
   "source": [
    "# 빈도 구하기(년월)\n",
    "\n",
    "# 빈도 계산\n",
    "\n",
    "# 결과 출력 (내림차순 정렬)\n"
   ]
  },
  {
   "cell_type": "code",
   "execution_count": null,
   "metadata": {},
   "outputs": [],
   "source": [
    "# 빈도 구하기(시도명)\n",
    "\n",
    "# 빈도 계산\n",
    "\n",
    "# 결과 출력 (내림차순 정렬)\n"
   ]
  },
  {
   "cell_type": "code",
   "execution_count": null,
   "metadata": {},
   "outputs": [],
   "source": [
    "# 빈도 구하기(읍면동명)\n",
    "\n",
    "# 빈도 계산\n",
    "\n",
    "# 결과 출력 (내림차순 정렬)\n"
   ]
  },
  {
   "cell_type": "code",
   "execution_count": null,
   "metadata": {},
   "outputs": [],
   "source": [
    "# 빈도 구하기(업종명)\n",
    "\n",
    "# 빈도 계산\n",
    "\n",
    "# 결과 출력 (내림차순 정렬)\n"
   ]
  },
  {
   "cell_type": "code",
   "execution_count": null,
   "metadata": {},
   "outputs": [],
   "source": [
    "# 빈도 구하기(성별)\n",
    "\n",
    "# 빈도 계산\n",
    "\n",
    "# 결과 출력 (내림차순 정렬)\n"
   ]
  },
  {
   "attachments": {},
   "cell_type": "markdown",
   "metadata": {},
   "source": [
    "# 다음 '데이터 시각화'에서 다시 뵙겠습니다.\n",
    "# 감사합니다."
   ]
  }
 ],
 "metadata": {
  "kernelspec": {
   "display_name": "Python 3",
   "language": "python",
   "name": "python3"
  },
  "language_info": {
   "codemirror_mode": {
    "name": "ipython",
    "version": 3
   },
   "file_extension": ".py",
   "mimetype": "text/x-python",
   "name": "python",
   "nbconvert_exporter": "python",
   "pygments_lexer": "ipython3",
   "version": "3.10.10"
  },
  "orig_nbformat": 4
 },
 "nbformat": 4,
 "nbformat_minor": 2
}
