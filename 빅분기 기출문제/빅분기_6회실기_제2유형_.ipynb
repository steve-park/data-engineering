{
 "cells": [
  {
   "cell_type": "markdown",
   "metadata": {
    "id": "Gj_2rAIrF9xF"
   },
   "source": [
    "빅분기 QnA : https://colab.research.google.com/drive/1D_wMv23fgkNpgxyoAV6r8PqUX62qybQM"
   ]
  },
  {
   "cell_type": "markdown",
   "metadata": {
    "id": "Db6M4Iz0_uXf"
   },
   "source": [
    "lightgbm : https://for-my-wealthy-life.tistory.com/24\n",
    "- https://lightgbm.readthedocs.io/en/latest/index.html"
   ]
  },
  {
   "cell_type": "markdown",
   "metadata": {
    "id": "WpNoKLijAU-S"
   },
   "source": [
    "xgboost : https://hwi-doc.tistory.com/entry/%EC%9D%B4%ED%95%B4%ED%95%98%EA%B3%A0-%EC%82%AC%EC%9A%A9%ED%95%98%EC%9E%90-XGBoost\n"
   ]
  },
  {
   "cell_type": "markdown",
   "metadata": {
    "id": "NPfRqGFJS_mO"
   },
   "source": [
    "### 시험환경 체험\n",
    "- 작업1형 : https://dataq.goorm.io/exam/116674/%EC%B2%B4%ED%97%98%ED%95%98%EA%B8%B0/quiz/1\n",
    "- 작업2형 : https://dataq.goorm.io/exam/116674/%EC%B2%B4%ED%97%98%ED%95%98%EA%B8%B0/quiz/2\n",
    "- 작업3형 : https://dataq.goorm.io/exam/116674/%EC%B2%B4%ED%97%98%ED%95%98%EA%B8%B0/quiz/3\n",
    "- 빅분기 실기 문제 풀이 연습 사이트 : https://www.datamanim.com/dataset/03_dataq/re.html\n",
    "https://colab.research.google.com/drive/1z3EpmaRWh4EVQ8LWG5INF1KC8vxpU2PG\n",
    "- 빅분기 실기 준비 사이트(기출문제 풀이) : https://www.kaggle.com/datasets/agileteam/bigdatacertificationkr\n"
   ]
  },
  {
   "cell_type": "markdown",
   "metadata": {
    "id": "fkTRJL3c4SSi"
   },
   "source": [
    "### ML 주의사항\n",
    "- submission 데이터 개수 X_test.csv 에 있는 데이터(행) 개수와 동일해야 함\n",
    "- 전처리에서 '함정' 처리를 해야함\n",
    "  - dtype : ML(numeric만 학습가능)은 object 학습 불가\n",
    "  - invalid 문자포함 - 제거 (pandas 01.youtube - replace(regex=True)\n",
    "  - Encoding : LabelEncoding, OneHotEncoding \n",
    "  - dfX -> X_train.csv, X_test.csv 같이 전처리 하는 것!\n",
    "  - 범주 불일치에 대해서도 대응이 됨\n",
    "  - 날짜/시간 : year, month, day, hour, weekday (minute, second -> 가짓수 많음)\n",
    "- 시간제한 (1분)\n",
    "  - SVM, Ensemble(estimators 개수 크게) - 시간 1분 꼭 확인\n",
    "  - 최적의 parameter를 찾기위해 GridSearchCV를 사용했다면 - 주석취함 (찾은 parameter만 적어둠)\n",
    "- 평가 (2항분류, 다항분류, 회귀)\n",
    "  - r2_score(y_true, y_pred)\n",
    "  - 분류 : precision, f1, recall : 다항(average={None, 'micro', 'macro', 'weighted'})\n",
    "  - 분류 : roc_auc_score(y_true, y_proba) : 2항(1개 확률값), 다항(전체 확률값), average(위와 동일), multi_class='ovo'/'ovr'\n",
    "  - 회귀 : msle(rmsle) -> 예측값에 음수가 있으면 안됨!\n",
    "  - 평가 보정 : 예측값이 음수가 나올 수 없는 값(음수가 있는 확인하고, 0이나, 절대값 등으로 보정)\n"
   ]
  },
  {
   "cell_type": "markdown",
   "metadata": {
    "id": "8HcUfVKu9UC5"
   },
   "source": [
    "### 1.범주 불일치\n",
    "- X를 합쳐서 전처리"
   ]
  },
  {
   "cell_type": "code",
   "execution_count": null,
   "metadata": {
    "colab": {
     "base_uri": "https://localhost:8080/"
    },
    "id": "Rwj7JhFB3uKU",
    "outputId": "3a0f571a-aa5f-432f-e2ec-06d952d20c50"
   },
   "outputs": [
    {
     "name": "stdout",
     "output_type": "stream",
     "text": [
      "   0  1  2  3  4  5  6  7  8\n",
      "0  0  2  1  0  2  3  1  2  3\n"
     ]
    }
   ],
   "source": [
    "import pandas as pd\n",
    "X_use = pd.DataFrame({'F1': ['A', 'B', 'O', 'A', 'B', 'O', 'A', 'B', 'O']})\n",
    "F1 = X_use['F1'].astype('category').cat.codes  # A->0, B->1, O->2\n",
    "print(F1.to_frame().T)"
   ]
  },
  {
   "cell_type": "code",
   "execution_count": null,
   "metadata": {
    "colab": {
     "base_uri": "https://localhost:8080/"
    },
    "id": "TYTZCwXE8ESQ",
    "outputId": "bc8263bb-1020-4515-f522-04f09c3c1ac2"
   },
   "outputs": [
    {
     "name": "stdout",
     "output_type": "stream",
     "text": [
      "   0  1  2  3  4  5  6  7  8\n",
      "0  0  2  1  0  2  3  1  2  3\n"
     ]
    }
   ],
   "source": [
    "X_submission = pd.DataFrame({'F1': ['A', 'B', 'AB', 'A', 'B', 'O', 'AB', 'B', 'O']})\n",
    "F1 = X_submission['F1'].astype('category').cat.codes  # A->0, B->1, O->2\n",
    "print(F1.to_frame().T) # A->0  AB-> 1, B->2, O->3"
   ]
  },
  {
   "cell_type": "code",
   "execution_count": null,
   "metadata": {
    "colab": {
     "base_uri": "https://localhost:8080/"
    },
    "id": "FJZYXMSW8zE5",
    "outputId": "f930fb68-8760-41e6-d181-1466dc666e9e"
   },
   "outputs": [
    {
     "name": "stdout",
     "output_type": "stream",
     "text": [
      "   0  1  2  3  4  5  6  7  8  0  1  2  3  4  5  6  7  8\n",
      "0  0  2  3  0  2  3  0  2  3  0  2  1  0  2  3  1  2  3\n"
     ]
    }
   ],
   "source": [
    "dfX = pd.concat([X_use, X_submission])\n",
    "F1 = dfX['F1'].astype('category').cat.codes\n",
    "print(F1.to_frame().T)"
   ]
  },
  {
   "cell_type": "markdown",
   "metadata": {
    "id": "40smP904Bry8"
   },
   "source": [
    "### 2.평가 함수 정리"
   ]
  },
  {
   "cell_type": "markdown",
   "metadata": {
    "id": "j1waKZRfClOz"
   },
   "source": [
    "#### 2-1.2항 분류"
   ]
  },
  {
   "cell_type": "code",
   "execution_count": null,
   "metadata": {
    "id": "2GV8COQpB0aJ"
   },
   "outputs": [],
   "source": [
    "# 2항 분류 \n",
    "from sklearn.metrics import roc_auc_score, f1_score\n",
    "\n",
    "def get_scores(model, x_train, x_test, y_train, y_test):\n",
    "    A = model.score(x_train, y_train)  # accuracy\n",
    "    B = model.score(x_test, y_test)    # accuracy\n",
    "    y_pred = model.predict(x_test)\n",
    "    C = f1_score(y_test, y_pred)    \n",
    "    y_proba = model.predict_proba(x_test)[:, 1]\n",
    "    D = roc_auc_score(y_test, y_proba)\n",
    "    return f'ACC: {A:.4f} {B:.4f}  F1: {C:.4f} AUC: {D:.4f}'"
   ]
  },
  {
   "cell_type": "markdown",
   "metadata": {
    "id": "UgZsDH8rCtHR"
   },
   "source": [
    "#### 2-2.다항 분류"
   ]
  },
  {
   "cell_type": "code",
   "execution_count": null,
   "metadata": {
    "id": "_qbq1ZrKCkVW"
   },
   "outputs": [],
   "source": [
    "from sklearn.metrics import classification_report\n",
    "from sklearn.metrics import f1_score, roc_auc_score\n",
    "\n",
    "def get_scores(model, x_train, x_test, y_train, y_test):\n",
    "    A = model.score(x_train, y_train)\n",
    "    B = model.score(x_test, y_test)\n",
    "    # f1_score, precision_score, recall_score \n",
    "    y_pred = model.predict(x_test)    \n",
    "    C = f1_score(y_test, y_pred, average='macro')\n",
    "    y_proba = model.predict_proba(x_test)\n",
    "    D = roc_auc_score (y_test, y_proba, average='macro', multi_class='ovo')\n",
    "    return f'ACC: {A:.4f} {B:.4f} F1: {C:.4f} AUC: {D:.4f}'\n"
   ]
  },
  {
   "cell_type": "markdown",
   "metadata": {
    "id": "ri4d9xfiDwQn"
   },
   "source": [
    "#### 2-3.회귀 "
   ]
  },
  {
   "cell_type": "code",
   "execution_count": null,
   "metadata": {
    "id": "uKO5oqsiEuOu"
   },
   "outputs": [],
   "source": [
    "import sklearn\n",
    "print(help(sklearn))   #  package가 생각나지 않을 때"
   ]
  },
  {
   "cell_type": "code",
   "execution_count": null,
   "metadata": {
    "id": "4O4gDZX1EDD5"
   },
   "outputs": [],
   "source": [
    "# 철자 생각이 잘 안난다면!!\n",
    "import sklearn.metrics\n",
    "import numpy as np\n",
    "print(np.array(dir(sklearn.metrics))[50:])"
   ]
  },
  {
   "cell_type": "code",
   "execution_count": null,
   "metadata": {
    "id": "Nj-LBo8mD2zR"
   },
   "outputs": [],
   "source": [
    "from sklearn.metrics import mean_squared_error as mse\n",
    "from sklearn.metrics import mean_absolute_percentage_error as mape\n",
    "from sklearn.metrics import mean_squared_log_error as msle\n",
    "\n",
    "# msle, rmsle -> 음수가 있어서는 안됨\n",
    "# rmse, rmsle -> sklearn.metrics에 없음 \n",
    "# -> mse ** 0.5 -> rmse, msle ** 0.5 -> rmsle\n",
    "def get_scores(model, x_train, x_test, y_train, y_test):\n",
    "    A = model.score(x_train, y_train)  # r2_score\n",
    "    B = model.score(x_test, y_test)\n",
    "    y_pred = model.predict(x_test)\n",
    "    #y_pred[0] = -1\n",
    "    y_pred = np.where(y_pred > 0, y_pred, -y_pred)  # 음수처리 방법\n",
    "    C = mse(y_test, y_pred) ** 0.5\n",
    "    D = mape(y_test, y_pred)\n",
    "    E = msle(y_test, y_pred) ** 0.5  # 음수가 있어서는 안됨\n",
    "    return f'R2 : {A:.4f} {B:.4f} rmse : {C:.4f}, mape: {D:.4f}, rmsle {E:.4f}'\n",
    "\n",
    "# ValueError: Mean Squared Logarithmic Error cannot be used when targets contain negative values."
   ]
  },
  {
   "cell_type": "markdown",
   "metadata": {
    "id": "DmQsEjzpGNxn"
   },
   "source": [
    "### 3.help, dir 사용\n",
    "- dir : 객체/모듈의 자주 사용되는 함수/클래스/값의 목록을 보여줌\n",
    "- help : 모듈/함수(=메서드)의 parameter설명, 사용 예"
   ]
  },
  {
   "cell_type": "code",
   "execution_count": null,
   "metadata": {
    "id": "XbRc66kWGRDu"
   },
   "outputs": [],
   "source": [
    "import pandas as pd\n",
    "import sklearn\n",
    "import sklearn.linear_model\n",
    "from sklearn.linear_model import LogisticRegression\n",
    "\n",
    "#print(help(sklearn))              # sklearn의 패키지 철자가 생각 나지 않을 때\n",
    "#print(dir(sklearn.linear_model))  # 패키지 내부의 객체가 생각 나지 않을 때\n",
    "#print(help(LogisticRegression))   # 객체 사용법이 생각 나지 않을 때 - 하단의 example\n",
    "\n",
    "# pandas의 Series 객체의 메서드 사용법이 생각 나지 않을 때\n",
    "#print(help(pd.Series.replace))\n",
    "\n",
    "#print(type(pd.DataFrame.shape))  # property 라고 표시되면 값! -> help 없음\n",
    "#print(type(pd.Series.replace))   # function 이라고 표시되면 함수! -> help 있음"
   ]
  },
  {
   "cell_type": "markdown",
   "metadata": {
    "id": "IxqkmsDJOKZC"
   },
   "source": [
    "### 3. 제2유형 접근방법\n",
    "- 최선이 아닌 기본을 하자\n",
    "\n",
    "빅분기 실기 예시/기출문제 \n",
    "- 예시문제 LAB : https://colab.research.google.com/drive/1qzoKHby36udD7SuI12xcnVTqlbpAmFMP\n",
    "- 예시문제 SOL : https://colab.research.google.com/drive/1GT14TseM2y5y7hzoDRQEIdzUuU1wwWzg\n",
    "- 2회기출 LAB : https://colab.research.google.com/drive/1jSTnSmQeU8YQx3j2ZnSBkYiprWISZo6u \n",
    "- 2회기출 SOL : https://colab.research.google.com/drive/1UDlnnEIk55CRTggb8fKhTnalBS2qlkqk \n",
    "- 3회기출 LAB : https://colab.research.google.com/drive/1OMoKjt2noLrDtRDUUI56EJy66S_1Bo0B \n",
    "- 3회기출 SOL : https://colab.research.google.com/drive/14TRVkbfb8UjMs5OLU79ECZlIUTu6wuGj \n",
    "- 4회기출 LAB : https://colab.research.google.com/drive/1FGzIskDZoeCHbclZaHYvT3DCA78oHBIZ \n",
    "- 4회기출 SOL : https://colab.research.google.com/drive/1uwkE0ENjccekcSakxikkFPZSdlBiGAFK \n",
    "- 5회기출 2유형 LAB : https://colab.research.google.com/drive/1nW1ofFYysHGQ3Xczx225PqgiApnpAlwR\n",
    "- 5회기출 2유형 SOL : https://colab.research.google.com/drive/1lwmlOf9q_8YTnqTUj1fSKY_qxLAKJOcg\n"
   ]
  },
  {
   "cell_type": "markdown",
   "metadata": {
    "id": "SxegKonKDHPJ"
   },
   "source": [
    "## 3.기출문제 (빅분기 실기 2회)\n",
    "- 고객 구매 데이터를 사용해서 고객이 주문한 물품이 제 시간에 도착여부(Reached.on.Time_Y.N) 예측\n",
    "- X_train.csv, y_train.csv : 학습 및 학습평가에 사용하는 파일\n",
    "- X_test.csv : 제출용 데이터 생성에 사용하는 파일\n",
    "- roc_score를 사용하여 평가\n",
    "- 아래의 형식으로 submission수험번호.csv 로 저장\n",
    "- Reached.on.Time_Y.N은 제 시간에 도착할 확률\n",
    "        ID,Reached.on.Time_Y.N\n",
    "        7007,0.27419354838709675\n",
    "        9793,0.4883720930232558\n",
    "        6593,0.48174157303370785\n",
    "        10527,0.3657243816254417"
   ]
  },
  {
   "cell_type": "code",
   "execution_count": null,
   "metadata": {
    "id": "aG-tgn2bw8pj"
   },
   "outputs": [],
   "source": [
    "# [0] x_train, x_test 데이터로 생성함\n",
    "# 문제 출제 형식에 맞도록 변환한 것입니다.  시험에서는 이런 코드가 없습니다.\n",
    "from sklearn.model_selection import train_test_split\n",
    "import pandas as pd\n",
    "dftot = pd.read_csv('https://raw.githubusercontent.com/Soyoung-Yoon/bigdata/main/1st_Train.csv')\n",
    "x_train, x_test = train_test_split(dftot, test_size=0.4, stratify=dftot['Reached.on.Time_Y.N'], random_state=0)\n",
    "y_train = x_train[['Reached.on.Time_Y.N']]\n",
    "x_train = x_train.drop(columns='Reached.on.Time_Y.N')\n",
    "y_test = x_test[['Reached.on.Time_Y.N']]   # 이것은 시험에서는 제공되지 않음\n",
    "x_test = x_test.drop(columns='Reached.on.Time_Y.N')\n",
    "\n",
    "x_train.to_csv('x_train.csv', index=False)\n",
    "y_train.to_csv('y_train.csv', index=False)\n",
    "x_test.to_csv('x_test.csv', index=False)\n",
    "y_test.to_csv('y_test.csv', index=False) # 이것은 시험에서는 제공되지 않음"
   ]
  },
  {
   "cell_type": "code",
   "execution_count": null,
   "metadata": {
    "colab": {
     "base_uri": "https://localhost:8080/"
    },
    "id": "wLSw2RFOSXHD",
    "outputId": "a423efa1-9a11-489e-96e5-126ec65b8573"
   },
   "outputs": [
    {
     "name": "stdout",
     "output_type": "stream",
     "text": [
      "ACC: 0.6768 0.6667  F1: 0.6910 AUC: 0.7357\n"
     ]
    }
   ],
   "source": [
    "# [0] 사용 라이브러리 import\n",
    "import pandas as pd\n",
    "from sklearn.preprocessing import MinMaxScaler, LabelEncoder\n",
    "from sklearn.model_selection import train_test_split\n",
    "from sklearn.linear_model import LogisticRegression\n",
    "from sklearn.neighbors import KNeighborsClassifier\n",
    "from sklearn.tree import DecisionTreeClassifier\n",
    "from sklearn.ensemble import RandomForestClassifier\n",
    "from xgboost import XGBClassifier\n",
    "# 2항 분류 \n",
    "from sklearn.metrics import roc_auc_score, f1_score\n",
    "\n",
    "def get_scores(model, x_train, x_test, y_train, y_test):\n",
    "    A = model.score(x_train, y_train)  # accuracy\n",
    "    B = model.score(x_test, y_test)    # accuracy\n",
    "    y_pred = model.predict(x_test)\n",
    "    C = f1_score(y_test, y_pred)    \n",
    "    y_proba = model.predict_proba(x_test)[:, 1]\n",
    "    D = roc_auc_score(y_test, y_proba)\n",
    "    return f'ACC: {A:.4f} {B:.4f}  F1: {C:.4f} AUC: {D:.4f}'\n",
    "\n",
    "\n",
    "# 데이타가 많은경우 모두 출력 안되고 ... 으로 생략해서 출력됨.\n",
    "pd.set_option('display.max_rows',500)    #출력할 max row를 지정\n",
    "pd.set_option('display.max_columns',20)  #출력할 max columns를 지정\n",
    "#출력 format 지정 - 소수점아래 4자리까지\n",
    "pd.set_option('display.float_format', '{:.4f}'.format)\n",
    "\n",
    "# [1] x_train.csv, y_train.csv, x_test.csv 읽어오기\n",
    "X = pd.read_csv('x_train.csv')\n",
    "Y = pd.read_csv('y_train.csv')\n",
    "X_submission = pd.read_csv('x_test.csv')\n",
    "#print(X.shape, Y.shape, X_submission.shape)   # 제출! (6599, 11) (4400, 1)\n",
    "\n",
    "# [2] X, X_submission 합치기 (필수는 아님)\n",
    "# # 행을 삭제하지 말것, 순서변경하지 말 것\n",
    "# - 다시 분리된 후에는 X_train.csv의 데이터는 행 삭제, 위치이동 편하게 하세요!\n",
    "dfX = pd.concat([X, X_submission])\n",
    "#dfX.info()\n",
    "#print(dfX.describe())\n",
    "# 범주형 : 'Warehouse_block', 'Mode_of_Shipment', 'Product_importance', 'Gender' (Encoding 필요)\n",
    "#           'Customer_care_calls', 'Customer_rating', 'Prior_purchases'\n",
    "# 연속형 :  'Cost_of_the_Product', 'Weight_in_gms', 'Discount_offered'\n",
    "\n",
    "dfXF = pd.get_dummies(dfX)\n",
    "dfXF = dfXF.drop(columns=['ID', 'Gender_F']) # 변수 선택 (사용하지 않을 변수 제거)\n",
    "\n",
    "# [3] dfX의 각 컬럼의 값 종류 개수 - 1인 것 제거하기 위해\n",
    "#print(dfXF.nunique())\n",
    "\n",
    "# [4] 스케일링 작업\n",
    "#dfXF = pd.DataFrame(MinMaxScaler().fit_transform(dfXF))\n",
    "\n",
    "# [5] X_use, X_submission 분리 \n",
    "X_use = dfXF.iloc[:6599, :]\n",
    "X_submission = dfXF.iloc[6599:, :]\n",
    "Y_use = Y['Reached.on.Time_Y.N']\n",
    "#print(X_use.shape, Y.shape, X_submission.shape)\n",
    "#X_use.info()\n",
    "\n",
    "# [6] train, test 분리\n",
    "temp = train_test_split(X_use, Y_use, test_size = 0.2, \n",
    "                        stratify=Y_use, random_state=1234)\n",
    "x_train, x_test, y_train, y_test = temp\n",
    "#print([x.shape for x in [x_train, x_test, y_train, y_test]])\n",
    "#print(Y_use.value_counts(normalize=True)) # 약간 불균형 (0.4 : 0.6)\n",
    "\n",
    "# [7] 모델링, 평가\n",
    "model1 = DecisionTreeClassifier(max_depth=3, random_state=1234)\n",
    "model1.fit(x_train, y_train)\n",
    "#print(model1.get_depth())\n",
    "print(get_scores(model1, x_train, x_test, y_train, y_test))\n",
    "#ACC: 0.6768 0.6667  F1: 0.6910 AUC: 0.7357 (3)\n",
    "\n",
    "#model2 = RandomForestClassifier(n_estimators=100, max_depth=5, random_state=1234) \n",
    "#model2.fit(x_train, y_train)\n",
    "#print(get_scores(model2, x_train, x_test, y_train, y_test))\n",
    "\n",
    "#model3 = KNeighborsClassifier(12) \n",
    "#model3.fit(x_train, y_train)\n",
    "#print(get_scores(model3, x_train, x_test, y_train, y_test))\n",
    "\n",
    "# [8] 제출준비 및 제출\n",
    "submission = pd.DataFrame()\n",
    "submission['NY'] = model1.predict_proba(X_submission)[:, 1]\n",
    "submission.to_csv('수험번호.csv', index=False)\n",
    "\n",
    "# [9] 제출파일 확인\n",
    "#temp = pd.read_csv('수험번호.csv')\n",
    "#print(temp.shape)\n",
    "#print(temp.head())"
   ]
  },
  {
   "cell_type": "code",
   "execution_count": null,
   "metadata": {
    "colab": {
     "base_uri": "https://localhost:8080/"
    },
    "id": "eeLE_oo-eexy",
    "outputId": "08859a7f-3037-42e0-a5a4-09ba01c8ccbc"
   },
   "outputs": [
    {
     "name": "stdout",
     "output_type": "stream",
     "text": [
      "0.74\n"
     ]
    }
   ],
   "source": [
    "y_true = pd.read_csv('y_test.csv')\n",
    "y_proba = pd.read_csv('수험번호.csv')\n",
    "\n",
    "D = roc_auc_score(y_true, y_proba)\n",
    "print(round(D, 2))"
   ]
  },
  {
   "cell_type": "markdown",
   "metadata": {
    "id": "KB5xGPc5f_bf"
   },
   "source": [
    "### 4.기출문제 5회\n",
    "- 벤츠 차량 가격 예측 : https://www.kaggle.com/datasets/mysarahmadbhat/mercedes-used-car-listing \n",
    "- train = https://raw.githubusercontent.com/Datamanim/datarepo/main/krdatacertificate/e5_p2_train_.csv \n",
    "- test = https://raw.githubusercontent.com/Datamanim/datarepo/main/krdatacertificate/e5_p2_test_.csv\n",
    "- 예측 변수 price, test.csv에 대해 price 값을 예측하여 제출, 제출 데이터 컬럼은 price만 존재해야함.\n",
    "- 평가지표는 rmse"
   ]
  },
  {
   "cell_type": "code",
   "execution_count": null,
   "metadata": {
    "id": "itwxO-Rwgc6e"
   },
   "outputs": [],
   "source": [
    "import pandas as pd\n",
    "\n",
    "train = pd.read_csv('https://raw.githubusercontent.com/Datamanim/datarepo/main/krdatacertificate/e5_p2_train_.csv')\n",
    "test = pd.read_csv('https://raw.githubusercontent.com/Datamanim/datarepo/main/krdatacertificate/e5_p2_test_.csv')\n",
    "train.to_csv('train.csv', index=False)\n",
    "test.to_csv('test.csv', index=False)"
   ]
  },
  {
   "cell_type": "code",
   "execution_count": null,
   "metadata": {
    "colab": {
     "base_uri": "https://localhost:8080/"
    },
    "id": "BeIgdnoThSNX",
    "outputId": "21d82bf7-1524-45ff-db83-ce207b76b891"
   },
   "outputs": [
    {
     "name": "stdout",
     "output_type": "stream",
     "text": [
      "(9823, 9) (3296, 9)\n",
      "R2 : 0.9935 0.9408 rmse : 2854.0073, mape: 0.0668, rmsle 0.0972\n",
      "(3296, 1)\n",
      "       price\n",
      "0  4493.2667\n",
      "1 61753.9467\n",
      "2 17482.3133\n",
      "3 14844.3400\n",
      "4 17001.9967\n"
     ]
    }
   ],
   "source": [
    "# [0] import \n",
    "import pandas as pd\n",
    "import numpy as np\n",
    "from sklearn.model_selection import train_test_split\n",
    "from sklearn.tree import DecisionTreeRegressor\n",
    "from sklearn.ensemble import RandomForestRegressor\n",
    "from xgboost import XGBRegressor\n",
    "from sklearn.metrics import mean_squared_error as mse\n",
    "from sklearn.metrics import mean_absolute_percentage_error as mape\n",
    "from sklearn.metrics import mean_squared_log_error as msle\n",
    "from sklearn.preprocessing import MinMaxScaler, LabelEncoder\n",
    "\n",
    "# msle, rmsle -> 음수가 있어서는 안됨\n",
    "# rmse, rmsle -> sklearn.metrics에 없음 \n",
    "# -> mse ** 0.5 -> rmse, msle ** 0.5 -> rmsle\n",
    "def get_scores(model, x_train, x_test, y_train, y_test):\n",
    "    A = model.score(x_train, y_train)\n",
    "    B = model.score(x_test, y_test)\n",
    "    y_pred = model.predict(x_test)\n",
    "    y_pred = np.where(y_pred > 0, y_pred, -y_pred)  # 음수처리 방법\n",
    "    C = mse(y_test, y_pred) ** 0.5\n",
    "    D = mape(y_test, y_pred)\n",
    "    E = msle(y_test, y_pred) ** 0.5  # 음수가 있어서는 안됨\n",
    "    return f'R2 : {A:.4f} {B:.4f} rmse : {C:.4f}, mape: {D:.4f}, rmsle {E:.4f}'\n",
    "# ---------------------------------------------------\n",
    "# [1] 파일 읽어오기\n",
    "train = pd.read_csv('train.csv')  # 종속변수 : price, 9823\n",
    "test = pd.read_csv('test.csv')    # 제출용도 : (3296, 1)\n",
    "\n",
    "X = train.drop(columns=['price'])\n",
    "Y_use = train['price']\n",
    "X_submission = test[X.columns]\n",
    "#print(X.shape, X_submission.shape)\n",
    "\n",
    "# [2] 데이터 탐색 - object, 결측치\n",
    "# object : model, transmission, fuelType\n",
    "#train.info()\n",
    "#test.info()\n",
    "#print(train.describe())\n",
    "#print(train['engineSize'].unique())\n",
    "#train[train['engineSize'] == 0]\n",
    "#train['transmission'].value_counts().sort_index().to_frame().T\n",
    "\n",
    "# train에는 있고, test에는 없는 데이터 존재 컬럼숫자가 다름 -> reindex해줘야함\n",
    "# OneHotEncoding 사용 (X, X_submission 별도로 처리)\n",
    "#dum_x = pd.get_dummies(X)\n",
    "#dum_test = pd.get_dummies(X_submission)\n",
    "#dum_test = dum_test.reindex(columns = dum_x.columns, fill_value=0)\n",
    "#print(dum_x.columns)\n",
    "#print(dum_test.columns)\n",
    "\n",
    "#temp = pd.DataFrame()\n",
    "#cat_features = ['model', 'transmission', 'fuelType']\n",
    "#temp['train'] = train[cat_features].nunique()\n",
    "#temp['test'] = test[cat_features].nunique()\n",
    "#temp.T\n",
    "\n",
    "# [2] X, X_submission 합치기\n",
    "dfX = pd.concat([X, X_submission])\n",
    "#dfX.info()\n",
    "\n",
    "# [3] Encoding\n",
    "#dfX['model'] = dfX['model'].astype('category').cat.codes\n",
    "#dfX['transmission'] = dfX['transmission'].astype('category').cat.codes\n",
    "#dfX['fuelType'] = dfX['fuelType'].astype('category').cat.codes\n",
    "\n",
    "dfX = pd.get_dummies(dfX)\n",
    "\n",
    "# [4] 스케일링\n",
    "#dfX = pd.DataFrame(MinMaxScaler().fit_transform(dfX))\n",
    "\n",
    "# [5] X, X_submission 분리\n",
    "X_use = dfX.iloc[:9823, :]\n",
    "X_submission = dfX.iloc[9823:, :]\n",
    "#print(X_use.shape, Y_use.shape, X_submission.shape)\n",
    "# print(X_use.info(), X_submission.info())\n",
    "\n",
    "# [6] train, test 분리 ()\n",
    "temp = train_test_split(X_use, Y_use, test_size=0.3, random_state=123)\n",
    "x_train, x_test, y_train, y_test = temp\n",
    "#print([x.shape for x in [x_train, x_test, y_train, y_test]])\n",
    "\n",
    "# [7] 모델링, 평가\n",
    "\n",
    "#model1 = DecisionTreeRegressor(max_depth=11, random_state=4321).fit(x_train, y_train)\n",
    "#print(model1.get_depth())\n",
    "#print(get_scores(model1, x_train, x_test, y_train, y_test))\n",
    "\n",
    "model2 = RandomForestRegressor(n_estimators=300, random_state=4321).fit(x_train, y_train)\n",
    "#print(get_scores(model2, x_train, x_test, y_train, y_test))  # rmse : 2905.5282\n",
    "\n",
    "\n",
    "# [8] 파일 저장 및 제출\n",
    "submission = pd.DataFrame()\n",
    "submission['price'] = model2.predict(X_submission)\n",
    "submission.to_csv('수험번호.csv', index=False)\n",
    "\n",
    "# [9] 확인\n",
    "#temp = pd.read_csv('수험번호.csv')\n",
    "#print(temp.shape)\n",
    "#print(temp.head())"
   ]
  },
  {
   "cell_type": "code",
   "execution_count": null,
   "metadata": {
    "colab": {
     "base_uri": "https://localhost:8080/"
    },
    "id": "0V2bewFXoQFP",
    "outputId": "dbeaafec-1f9e-42fb-f095-4d46e0d80303"
   },
   "outputs": [
    {
     "data": {
      "text/plain": [
       "ID              3296\n",
       "model             22\n",
       "year              21\n",
       "transmission       3\n",
       "mileage         2788\n",
       "fuelType           3\n",
       "tax               29\n",
       "mpg               94\n",
       "engineSize        21\n",
       "dtype: int64"
      ]
     },
     "execution_count": 122,
     "metadata": {},
     "output_type": "execute_result"
    }
   ],
   "source": [
    "test.nunique()"
   ]
  },
  {
   "cell_type": "code",
   "execution_count": null,
   "metadata": {
    "colab": {
     "base_uri": "https://localhost:8080/",
     "height": 80
    },
    "id": "bxsk0bE4l6VV",
    "outputId": "96142472-343d-4a92-e146-d2384abfcced"
   },
   "outputs": [
    {
     "data": {
      "text/html": [
       "\n",
       "  <div id=\"df-8c729f21-eabf-4e92-bf8d-65a8eabfb5dc\">\n",
       "    <div class=\"colab-df-container\">\n",
       "      <div>\n",
       "<style scoped>\n",
       "    .dataframe tbody tr th:only-of-type {\n",
       "        vertical-align: middle;\n",
       "    }\n",
       "\n",
       "    .dataframe tbody tr th {\n",
       "        vertical-align: top;\n",
       "    }\n",
       "\n",
       "    .dataframe thead th {\n",
       "        text-align: right;\n",
       "    }\n",
       "</style>\n",
       "<table border=\"1\" class=\"dataframe\">\n",
       "  <thead>\n",
       "    <tr style=\"text-align: right;\">\n",
       "      <th></th>\n",
       "      <th>Automatic</th>\n",
       "      <th>Manual</th>\n",
       "      <th>Semi-Auto</th>\n",
       "    </tr>\n",
       "  </thead>\n",
       "  <tbody>\n",
       "    <tr>\n",
       "      <th>transmission</th>\n",
       "      <td>1209</td>\n",
       "      <td>385</td>\n",
       "      <td>1702</td>\n",
       "    </tr>\n",
       "  </tbody>\n",
       "</table>\n",
       "</div>\n",
       "      <button class=\"colab-df-convert\" onclick=\"convertToInteractive('df-8c729f21-eabf-4e92-bf8d-65a8eabfb5dc')\"\n",
       "              title=\"Convert this dataframe to an interactive table.\"\n",
       "              style=\"display:none;\">\n",
       "        \n",
       "  <svg xmlns=\"http://www.w3.org/2000/svg\" height=\"24px\"viewBox=\"0 0 24 24\"\n",
       "       width=\"24px\">\n",
       "    <path d=\"M0 0h24v24H0V0z\" fill=\"none\"/>\n",
       "    <path d=\"M18.56 5.44l.94 2.06.94-2.06 2.06-.94-2.06-.94-.94-2.06-.94 2.06-2.06.94zm-11 1L8.5 8.5l.94-2.06 2.06-.94-2.06-.94L8.5 2.5l-.94 2.06-2.06.94zm10 10l.94 2.06.94-2.06 2.06-.94-2.06-.94-.94-2.06-.94 2.06-2.06.94z\"/><path d=\"M17.41 7.96l-1.37-1.37c-.4-.4-.92-.59-1.43-.59-.52 0-1.04.2-1.43.59L10.3 9.45l-7.72 7.72c-.78.78-.78 2.05 0 2.83L4 21.41c.39.39.9.59 1.41.59.51 0 1.02-.2 1.41-.59l7.78-7.78 2.81-2.81c.8-.78.8-2.07 0-2.86zM5.41 20L4 18.59l7.72-7.72 1.47 1.35L5.41 20z\"/>\n",
       "  </svg>\n",
       "      </button>\n",
       "      \n",
       "  <style>\n",
       "    .colab-df-container {\n",
       "      display:flex;\n",
       "      flex-wrap:wrap;\n",
       "      gap: 12px;\n",
       "    }\n",
       "\n",
       "    .colab-df-convert {\n",
       "      background-color: #E8F0FE;\n",
       "      border: none;\n",
       "      border-radius: 50%;\n",
       "      cursor: pointer;\n",
       "      display: none;\n",
       "      fill: #1967D2;\n",
       "      height: 32px;\n",
       "      padding: 0 0 0 0;\n",
       "      width: 32px;\n",
       "    }\n",
       "\n",
       "    .colab-df-convert:hover {\n",
       "      background-color: #E2EBFA;\n",
       "      box-shadow: 0px 1px 2px rgba(60, 64, 67, 0.3), 0px 1px 3px 1px rgba(60, 64, 67, 0.15);\n",
       "      fill: #174EA6;\n",
       "    }\n",
       "\n",
       "    [theme=dark] .colab-df-convert {\n",
       "      background-color: #3B4455;\n",
       "      fill: #D2E3FC;\n",
       "    }\n",
       "\n",
       "    [theme=dark] .colab-df-convert:hover {\n",
       "      background-color: #434B5C;\n",
       "      box-shadow: 0px 1px 3px 1px rgba(0, 0, 0, 0.15);\n",
       "      filter: drop-shadow(0px 1px 2px rgba(0, 0, 0, 0.3));\n",
       "      fill: #FFFFFF;\n",
       "    }\n",
       "  </style>\n",
       "\n",
       "      <script>\n",
       "        const buttonEl =\n",
       "          document.querySelector('#df-8c729f21-eabf-4e92-bf8d-65a8eabfb5dc button.colab-df-convert');\n",
       "        buttonEl.style.display =\n",
       "          google.colab.kernel.accessAllowed ? 'block' : 'none';\n",
       "\n",
       "        async function convertToInteractive(key) {\n",
       "          const element = document.querySelector('#df-8c729f21-eabf-4e92-bf8d-65a8eabfb5dc');\n",
       "          const dataTable =\n",
       "            await google.colab.kernel.invokeFunction('convertToInteractive',\n",
       "                                                     [key], {});\n",
       "          if (!dataTable) return;\n",
       "\n",
       "          const docLinkHtml = 'Like what you see? Visit the ' +\n",
       "            '<a target=\"_blank\" href=https://colab.research.google.com/notebooks/data_table.ipynb>data table notebook</a>'\n",
       "            + ' to learn more about interactive tables.';\n",
       "          element.innerHTML = '';\n",
       "          dataTable['output_type'] = 'display_data';\n",
       "          await google.colab.output.renderOutput(dataTable, element);\n",
       "          const docLink = document.createElement('div');\n",
       "          docLink.innerHTML = docLinkHtml;\n",
       "          element.appendChild(docLink);\n",
       "        }\n",
       "      </script>\n",
       "    </div>\n",
       "  </div>\n",
       "  "
      ],
      "text/plain": [
       "              Automatic  Manual  Semi-Auto\n",
       "transmission       1209     385       1702"
      ]
     },
     "execution_count": 117,
     "metadata": {},
     "output_type": "execute_result"
    }
   ],
   "source": [
    "test['transmission'].value_counts().sort_index().to_frame().T"
   ]
  },
  {
   "cell_type": "code",
   "execution_count": null,
   "metadata": {
    "id": "eis-QWPcOUvm"
   },
   "outputs": [],
   "source": [
    "# [0] import \n",
    "import pandas as pd\n",
    "import numpy as np\n",
    "from sklearn.model_selection import train_test_split\n",
    "from sklearn.ensemble import RandomForestRegressor\n",
    "from xgboost import XGBRegressor\n",
    "from sklearn.metrics import mean_squared_error as mse\n",
    "from sklearn.metrics import mean_absolute_percentage_error as mape\n",
    "from sklearn.metrics import mean_squared_log_error as msle\n",
    "\n",
    "# msle, rmsle -> 음수가 있어서는 안됨\n",
    "# rmse, rmsle -> sklearn.metrics에 없음 \n",
    "# -> mse ** 0.5 -> rmse, msle ** 0.5 -> rmsle\n",
    "def get_scores(model, x_train, x_test, y_train, y_test):\n",
    "    A = model.score(x_train, y_train)\n",
    "    B = model.score(x_test, y_test)\n",
    "    y_pred = model.predict(x_test)\n",
    "    #y_pred[0] = -1\n",
    "    y_pred = np.where(y_pred > 0, y_pred, -y_pred)  # 음수처리 방법\n",
    "    C = mse(y_test, y_pred) ** 0.5\n",
    "    D = mape(y_test, y_pred)\n",
    "    E = msle(y_test, y_pred) ** 0.5  # 음수가 있어서는 안됨\n",
    "    return f'{A:.4f} {B:.4f} rmse : {C:.4f}, mape: {D:.4f}, rmsle {E:.4f}'\n",
    "\n",
    "# ValueError: Mean Squared Logarithmic Error cannot be used when targets contain negative values.\n",
    "\n",
    "\n",
    "# [1] 파일 불러오기\n",
    "X_use = pd.read_csv('x_train.csv')\n",
    "Y_use = pd.read_csv('y_train.csv')\n",
    "X_submission = pd.read_csv('x_test.csv')\n",
    "\n",
    "dfX = pd.concat([X_use, X_submission])\n",
    "\n",
    "dfX2 = pd.get_dummies(dfX)\n",
    "\n",
    "Y = Y_use['price']\n",
    "\n",
    "# [4] X_useF, X_submissionF 로 분리\n",
    "X_useF = dfX2.iloc[:len(X_use)]\n",
    "X_submissionF = dfX2.iloc[len(X_use):]\n",
    "\n",
    "# [5] train_test_split \n",
    "# stratify 는 분류모델에서 사용!  분류모델에서도 범주별 데이터가 2개 이상이어야 함\n",
    "temp = train_test_split(X_useF, Y, test_size=0.25, random_state=0)\n",
    "x_train, x_test, y_train, y_test = temp\n",
    "print(x_train.shape, x_test.shape, y_train.shape, y_test.shape) \n",
    "# (7367, 5) (2456, 5) (7367,) (2456,)\n",
    "\n",
    "model4 = RandomForestRegressor(random_state=1234)\n",
    "model4.fit(x_train, y_train)\n",
    "print(get_scores(model4, x_train, x_test, y_train, y_test))\n",
    "\n",
    "submission = pd.DataFrame()\n",
    "submission['price'] = model4.predict(X_submissionF)\n",
    "submission.to_csv('수험번호.csv', index=False)\n",
    "\n",
    "# temp = pd.read_csv('수험번호.csv')\n",
    "# print(temp.shape)\n",
    "# print(temp.head())"
   ]
  }
 ],
 "metadata": {
  "colab": {
   "provenance": []
  },
  "kernelspec": {
   "display_name": "Python 3 (ipykernel)",
   "language": "python",
   "name": "python3"
  },
  "language_info": {
   "codemirror_mode": {
    "name": "ipython",
    "version": 3
   },
   "file_extension": ".py",
   "mimetype": "text/x-python",
   "name": "python",
   "nbconvert_exporter": "python",
   "pygments_lexer": "ipython3",
   "version": "3.8.16"
  }
 },
 "nbformat": 4,
 "nbformat_minor": 4
}
