{
 "cells": [
  {
   "cell_type": "markdown",
   "metadata": {
    "id": "c-muYI4j4Mzx"
   },
   "source": [
    "# 5회 기출 - 작업2유형\n",
    "- 벤츠 차량 가격 예측 : https://www.kaggle.com/datasets/mysarahmadbhat/mercedes-used-car-listing \n",
    "- train = https://raw.githubusercontent.com/Datamanim/datarepo/main/krdatacertificate/e5_p2_train_.csv \n",
    "- test = https://raw.githubusercontent.com/Datamanim/datarepo/main/krdatacertificate/e5_p2_test_.csv\n",
    "- 예측 변수 price, test.csv에 대해 price 값을 예측하여 제출, 제출 데이터 컬럼은 price만 존재해야함.\n",
    "- 평가지표는 rmse"
   ]
  },
  {
   "cell_type": "markdown",
   "metadata": {},
   "source": [
    "## 주의사항\n",
    "- 상관관계 분석 시 통계분석을 포함할 것"
   ]
  },
  {
   "cell_type": "markdown",
   "metadata": {},
   "source": [
    "## 데이터 로드 및 전처리"
   ]
  },
  {
   "cell_type": "markdown",
   "metadata": {},
   "source": [
    "## 데이터 로드"
   ]
  },
  {
   "cell_type": "code",
   "execution_count": 1,
   "metadata": {
    "tags": []
   },
   "outputs": [],
   "source": [
    "import pandas as pd\n",
    "\n",
    "pd.options.display.max_rows = 2000\n",
    "pd.options.display.max_columns = 25\n",
    "pd.options.display.float_format = '{:,.4f}'.format"
   ]
  },
  {
   "cell_type": "code",
   "execution_count": 4,
   "metadata": {
    "tags": []
   },
   "outputs": [
    {
     "name": "stdout",
     "output_type": "stream",
     "text": [
      "[Index(['ID', 'model', 'year', 'transmission', 'mileage', 'fuelType', 'tax',\n",
      "       'mpg', 'engineSize'],\n",
      "      dtype='object'), Index(['ID', 'model', 'year', 'transmission', 'mileage', 'fuelType', 'tax',\n",
      "       'mpg', 'engineSize'],\n",
      "      dtype='object'), Index(['ID', 'price'], dtype='object')]\n",
      "[(9823, 9), (3296, 9), (9823, 2)]\n"
     ]
    }
   ],
   "source": [
    "XY = pd.read_csv('https://raw.githubusercontent.com/Datamanim/datarepo/main/krdatacertificate/e5_p2_train_.csv')\n",
    "X_submission = pd.read_csv('https://raw.githubusercontent.com/Datamanim/datarepo/main/krdatacertificate/e5_p2_test_.csv')\n",
    "\n",
    "Y = XY[['ID', 'price']]\n",
    "X = XY.drop(columns=['price'])\n",
    "\n",
    "print([x.columns for x in [X, X_submission, Y]])\n",
    "print([x.shape for x in [X, X_submission, Y]])"
   ]
  },
  {
   "cell_type": "markdown",
   "metadata": {},
   "source": [
    "## 데이터 분석(EDA)"
   ]
  },
  {
   "cell_type": "code",
   "execution_count": 5,
   "metadata": {
    "tags": []
   },
   "outputs": [
    {
     "name": "stdout",
     "output_type": "stream",
     "text": [
      "<class 'pandas.core.frame.DataFrame'>\n",
      "RangeIndex: 9823 entries, 0 to 9822\n",
      "Data columns (total 9 columns):\n",
      " #   Column        Non-Null Count  Dtype  \n",
      "---  ------        --------------  -----  \n",
      " 0   ID            9823 non-null   int64  \n",
      " 1   model         9823 non-null   object \n",
      " 2   year          9823 non-null   int64  \n",
      " 3   transmission  9823 non-null   object \n",
      " 4   mileage       9823 non-null   int64  \n",
      " 5   fuelType      9823 non-null   object \n",
      " 6   tax           9823 non-null   int64  \n",
      " 7   mpg           9823 non-null   float64\n",
      " 8   engineSize    9823 non-null   float64\n",
      "dtypes: float64(2), int64(4), object(3)\n",
      "memory usage: 690.8+ KB\n",
      "None\n"
     ]
    }
   ],
   "source": [
    "print(X.info())"
   ]
  },
  {
   "cell_type": "code",
   "execution_count": 6,
   "metadata": {
    "tags": []
   },
   "outputs": [
    {
     "name": "stdout",
     "output_type": "stream",
     "text": [
      "      ID      model  year transmission  mileage fuelType  tax     mpg  \\\n",
      "0  10170    A Class  2012    Automatic    46000   Diesel   30 64.2000   \n",
      "1   9551   CL Class  2020    Semi-Auto       19   Petrol  150 36.7000   \n",
      "\n",
      "   engineSize  \n",
      "0      2.1000  \n",
      "1      2.0000  \n"
     ]
    }
   ],
   "source": [
    "print(X.head(2))"
   ]
  },
  {
   "cell_type": "code",
   "execution_count": 7,
   "metadata": {
    "tags": []
   },
   "outputs": [
    {
     "name": "stdout",
     "output_type": "stream",
     "text": [
      "<class 'pandas.core.frame.DataFrame'>\n",
      "RangeIndex: 3296 entries, 0 to 3295\n",
      "Data columns (total 9 columns):\n",
      " #   Column        Non-Null Count  Dtype  \n",
      "---  ------        --------------  -----  \n",
      " 0   ID            3296 non-null   int64  \n",
      " 1   model         3296 non-null   object \n",
      " 2   year          3296 non-null   int64  \n",
      " 3   transmission  3296 non-null   object \n",
      " 4   mileage       3296 non-null   int64  \n",
      " 5   fuelType      3296 non-null   object \n",
      " 6   tax           3296 non-null   int64  \n",
      " 7   mpg           3296 non-null   float64\n",
      " 8   engineSize    3296 non-null   float64\n",
      "dtypes: float64(2), int64(4), object(3)\n",
      "memory usage: 231.9+ KB\n",
      "None\n"
     ]
    }
   ],
   "source": [
    "print(X_submission.info())"
   ]
  },
  {
   "cell_type": "code",
   "execution_count": 8,
   "metadata": {
    "tags": []
   },
   "outputs": [
    {
     "name": "stdout",
     "output_type": "stream",
     "text": [
      "   ID      model  year transmission  mileage fuelType  tax     mpg  engineSize\n",
      "0   0        SLK  2005    Automatic    63000   Petrol  325 32.1000      1.8000\n",
      "1   2   SL CLASS  2016    Automatic     6200   Petrol  555 28.0000      5.5000\n"
     ]
    }
   ],
   "source": [
    "print(X_submission.head(2))"
   ]
  },
  {
   "cell_type": "code",
   "execution_count": 9,
   "metadata": {
    "tags": []
   },
   "outputs": [
    {
     "name": "stdout",
     "output_type": "stream",
     "text": [
      "<class 'pandas.core.frame.DataFrame'>\n",
      "RangeIndex: 9823 entries, 0 to 9822\n",
      "Data columns (total 2 columns):\n",
      " #   Column  Non-Null Count  Dtype\n",
      "---  ------  --------------  -----\n",
      " 0   ID      9823 non-null   int64\n",
      " 1   price   9823 non-null   int64\n",
      "dtypes: int64(2)\n",
      "memory usage: 153.6 KB\n",
      "None\n"
     ]
    }
   ],
   "source": [
    "print(Y.info())"
   ]
  },
  {
   "cell_type": "code",
   "execution_count": 10,
   "metadata": {
    "tags": []
   },
   "outputs": [
    {
     "name": "stdout",
     "output_type": "stream",
     "text": [
      "      ID  price\n",
      "0  10170  11940\n",
      "1   9551  38624\n"
     ]
    }
   ],
   "source": [
    "print(Y.head(2))"
   ]
  },
  {
   "cell_type": "markdown",
   "metadata": {},
   "source": [
    "## 결측치 처리"
   ]
  },
  {
   "cell_type": "code",
   "execution_count": 18,
   "metadata": {
    "tags": []
   },
   "outputs": [
    {
     "name": "stdout",
     "output_type": "stream",
     "text": [
      "      ID      model  year transmission  mileage fuelType  tax     mpg  \\\n",
      "0  10170    A Class  2012    Automatic    46000   Diesel   30 64.2000   \n",
      "1   9551   CL Class  2020    Semi-Auto       19   Petrol  150 36.7000   \n",
      "\n",
      "   engineSize  \n",
      "0      2.1000  \n",
      "1      2.0000  \n"
     ]
    }
   ],
   "source": [
    "dfX = pd.concat([X, X_submission], axis=0, ignore_index=True)\n",
    "print(dfX.head(2))"
   ]
  },
  {
   "cell_type": "code",
   "execution_count": 19,
   "metadata": {
    "tags": []
   },
   "outputs": [
    {
     "name": "stdout",
     "output_type": "stream",
     "text": [
      "ID              0\n",
      "model           0\n",
      "year            0\n",
      "transmission    0\n",
      "mileage         0\n",
      "fuelType        0\n",
      "tax             0\n",
      "mpg             0\n",
      "engineSize      0\n",
      "dtype: int64\n"
     ]
    }
   ],
   "source": [
    "print(dfX.isna().sum())"
   ]
  },
  {
   "cell_type": "markdown",
   "metadata": {},
   "source": [
    "## 상관관계 분석 (Encoding 전)"
   ]
  },
  {
   "cell_type": "code",
   "execution_count": 21,
   "metadata": {
    "tags": []
   },
   "outputs": [
    {
     "name": "stdout",
     "output_type": "stream",
     "text": [
      "<class 'pandas.core.frame.DataFrame'>\n",
      "Int64Index: 9823 entries, 0 to 9822\n",
      "Data columns (total 10 columns):\n",
      " #   Column        Non-Null Count  Dtype  \n",
      "---  ------        --------------  -----  \n",
      " 0   ID            9823 non-null   int64  \n",
      " 1   model         9823 non-null   object \n",
      " 2   year          9823 non-null   int64  \n",
      " 3   transmission  9823 non-null   object \n",
      " 4   mileage       9823 non-null   int64  \n",
      " 5   fuelType      9823 non-null   object \n",
      " 6   tax           9823 non-null   int64  \n",
      " 7   mpg           9823 non-null   float64\n",
      " 8   engineSize    9823 non-null   float64\n",
      " 9   price         9823 non-null   int64  \n",
      "dtypes: float64(2), int64(5), object(3)\n",
      "memory usage: 844.2+ KB\n"
     ]
    }
   ],
   "source": [
    "dfXY = pd.merge(dfX, Y, on='ID')\n",
    "dfXY.info()"
   ]
  },
  {
   "cell_type": "code",
   "execution_count": 23,
   "metadata": {
    "tags": []
   },
   "outputs": [
    {
     "name": "stdout",
     "output_type": "stream",
     "text": [
      "model : [' A Class' ' CL Class' ' B Class' ' E Class' ' GLE Class' ' C Class'\n",
      " ' GLC Class' ' GLA Class' ' SLK' ' SL CLASS' ' V Class' ' CLS Class'\n",
      " ' X-CLASS' ' M Class' ' GL Class' ' CLA Class' ' G Class' ' S Class'\n",
      " ' GLS Class' ' CLK' ' GLB Class' ' CLC Class' '230' '180' ' R Class'\n",
      " '200' '220']\n",
      "transmission : ['Automatic' 'Semi-Auto' 'Manual' 'Other']\n",
      "fuelType : ['Diesel' 'Petrol' 'Hybrid' 'Other']\n"
     ]
    }
   ],
   "source": [
    "for feature in dfX.select_dtypes(include='object').columns:\n",
    "    print(f'{feature} : {dfX[feature].unique()}')"
   ]
  },
  {
   "cell_type": "code",
   "execution_count": 24,
   "metadata": {
    "tags": []
   },
   "outputs": [],
   "source": [
    "import statsmodels.api as sm\n",
    "from statsmodels.formula.api import ols"
   ]
  },
  {
   "cell_type": "code",
   "execution_count": 26,
   "metadata": {
    "tags": []
   },
   "outputs": [
    {
     "name": "stdout",
     "output_type": "stream",
     "text": [
      "                 df               sum_sq             mean_sq        F  PR(>F)\n",
      "C(model)    25.0000 420,378,127,077.0430 16,815,125,083.0817 171.8311  0.0000\n",
      "Residual 9,797.0000 958,719,145,914.5748     97,858,440.9426      NaN     NaN\n"
     ]
    }
   ],
   "source": [
    "model = ols(formula='price ~ C(model)', data=dfXY).fit()\n",
    "f_model = sm.stats.anova_lm(model, typ=1)\n",
    "print(f_model)"
   ]
  },
  {
   "cell_type": "code",
   "execution_count": 27,
   "metadata": {
    "tags": []
   },
   "outputs": [
    {
     "name": "stdout",
     "output_type": "stream",
     "text": [
      "                        df                 sum_sq             mean_sq  \\\n",
      "C(transmission)     3.0000   114,579,713,102.1097 38,193,237,700.7032   \n",
      "Residual        9,819.0000 1,264,517,559,889.5110    128,782,723.2803   \n",
      "\n",
      "                       F  PR(>F)  \n",
      "C(transmission) 296.5711  0.0000  \n",
      "Residual             NaN     NaN  \n"
     ]
    }
   ],
   "source": [
    "model = ols(formula='price ~ C(transmission)', data=dfXY).fit()\n",
    "f_transmission = sm.stats.anova_lm(model, typ=1)\n",
    "print(f_transmission)"
   ]
  },
  {
   "cell_type": "code",
   "execution_count": 28,
   "metadata": {
    "tags": []
   },
   "outputs": [
    {
     "name": "stdout",
     "output_type": "stream",
     "text": [
      "                    df                 sum_sq             mean_sq        F  \\\n",
      "C(fuelType)     3.0000    52,348,867,710.4947 17,449,622,570.1649 129.1412   \n",
      "Residual    9,819.0000 1,326,748,405,281.1267    135,120,521.9759      NaN   \n",
      "\n",
      "             PR(>F)  \n",
      "C(fuelType)  0.0000  \n",
      "Residual        NaN  \n"
     ]
    }
   ],
   "source": [
    "model = ols(formula='price ~ C(fuelType)', data=dfXY).fit()\n",
    "f_fuelType = sm.stats.anova_lm(model, typ=1)\n",
    "print(f_fuelType)"
   ]
  },
  {
   "cell_type": "code",
   "execution_count": 31,
   "metadata": {
    "tags": []
   },
   "outputs": [
    {
     "data": {
      "image/png": "[encoded data removed]",
      "text/plain": [
       "<Figure size 640x480 with 1 Axes>"
      ]
     },
     "metadata": {},
     "output_type": "display_data"
    }
   ],
   "source": [
    "import matplotlib.pyplot as plt\n",
    "import seaborn as sns\n",
    "\n",
    "data = dfXY[['model', 'transmission', 'fuelType', 'price']]\n",
    "sns.boxplot(data=data, y='price', x='model')\n",
    "plt.show()"
   ]
  },
  {
   "cell_type": "code",
   "execution_count": 32,
   "metadata": {
    "tags": []
   },
   "outputs": [
    {
     "data": {
      "image/png": "[encoded data removed]",
      "text/plain": [
       "<Figure size 640x480 with 1 Axes>"
      ]
     },
     "metadata": {},
     "output_type": "display_data"
    }
   ],
   "source": [
    "sns.boxplot(data=data, y='price', x='transmission')\n",
    "plt.show()"
   ]
  },
  {
   "cell_type": "code",
   "execution_count": 33,
   "metadata": {
    "tags": []
   },
   "outputs": [
    {
     "data": {
      "image/png": "[encoded data removed]",
      "text/plain": [
       "<Figure size 640x480 with 1 Axes>"
      ]
     },
     "metadata": {},
     "output_type": "display_data"
    }
   ],
   "source": [
    "sns.boxplot(data=data, y='price', x='fuelType')\n",
    "plt.show()"
   ]
  },
  {
   "cell_type": "markdown",
   "metadata": {},
   "source": [
    "## Encoding"
   ]
  },
  {
   "cell_type": "code",
   "execution_count": 34,
   "metadata": {
    "tags": []
   },
   "outputs": [
    {
     "name": "stdout",
     "output_type": "stream",
     "text": [
      "<class 'pandas.core.frame.DataFrame'>\n",
      "RangeIndex: 13119 entries, 0 to 13118\n",
      "Data columns (total 9 columns):\n",
      " #   Column        Non-Null Count  Dtype  \n",
      "---  ------        --------------  -----  \n",
      " 0   ID            13119 non-null  int64  \n",
      " 1   model         13119 non-null  object \n",
      " 2   year          13119 non-null  int64  \n",
      " 3   transmission  13119 non-null  object \n",
      " 4   mileage       13119 non-null  int64  \n",
      " 5   fuelType      13119 non-null  object \n",
      " 6   tax           13119 non-null  int64  \n",
      " 7   mpg           13119 non-null  float64\n",
      " 8   engineSize    13119 non-null  float64\n",
      "dtypes: float64(2), int64(4), object(3)\n",
      "memory usage: 922.6+ KB\n",
      "None\n"
     ]
    }
   ],
   "source": [
    "print(dfX.info())"
   ]
  },
  {
   "cell_type": "code",
   "execution_count": 35,
   "metadata": {
    "tags": []
   },
   "outputs": [
    {
     "name": "stdout",
     "output_type": "stream",
     "text": [
      "ID              13119\n",
      "model              27\n",
      "year               25\n",
      "transmission        4\n",
      "mileage          9716\n",
      "fuelType            4\n",
      "tax                40\n",
      "mpg               120\n",
      "engineSize         26\n",
      "dtype: int64\n"
     ]
    }
   ],
   "source": [
    "print(dfX.nunique())"
   ]
  },
  {
   "cell_type": "code",
   "execution_count": 36,
   "metadata": {
    "tags": []
   },
   "outputs": [
    {
     "name": "stdout",
     "output_type": "stream",
     "text": [
      "model : [' A Class' ' CL Class' ' B Class' ' E Class' ' GLE Class' ' C Class'\n",
      " ' GLC Class' ' GLA Class' ' SLK' ' SL CLASS' ' V Class' ' CLS Class'\n",
      " ' X-CLASS' ' M Class' ' GL Class' ' CLA Class' ' G Class' ' S Class'\n",
      " ' GLS Class' ' CLK' ' GLB Class' ' CLC Class' '230' '180' ' R Class'\n",
      " '200' '220']\n",
      "transmission : ['Automatic' 'Semi-Auto' 'Manual' 'Other']\n",
      "fuelType : ['Diesel' 'Petrol' 'Hybrid' 'Other']\n"
     ]
    }
   ],
   "source": [
    "for feature in dfX.select_dtypes(include='object').columns:\n",
    "    print(f'{feature} : {dfX[feature].unique()}')"
   ]
  },
  {
   "cell_type": "code",
   "execution_count": 37,
   "metadata": {
    "tags": []
   },
   "outputs": [],
   "source": [
    "from sklearn.preprocessing import LabelEncoder\n",
    "\n",
    "for feature in dfX.select_dtypes(include='object').columns:\n",
    "    dfX[feature] = LabelEncoder().fit_transform(dfX[feature])"
   ]
  },
  {
   "cell_type": "code",
   "execution_count": 38,
   "metadata": {
    "tags": []
   },
   "outputs": [
    {
     "name": "stdout",
     "output_type": "stream",
     "text": [
      "<class 'pandas.core.frame.DataFrame'>\n",
      "RangeIndex: 13119 entries, 0 to 13118\n",
      "Data columns (total 9 columns):\n",
      " #   Column        Non-Null Count  Dtype  \n",
      "---  ------        --------------  -----  \n",
      " 0   ID            13119 non-null  int64  \n",
      " 1   model         13119 non-null  int64  \n",
      " 2   year          13119 non-null  int64  \n",
      " 3   transmission  13119 non-null  int64  \n",
      " 4   mileage       13119 non-null  int64  \n",
      " 5   fuelType      13119 non-null  int64  \n",
      " 6   tax           13119 non-null  int64  \n",
      " 7   mpg           13119 non-null  float64\n",
      " 8   engineSize    13119 non-null  float64\n",
      "dtypes: float64(2), int64(7)\n",
      "memory usage: 922.6 KB\n"
     ]
    }
   ],
   "source": [
    "dfX.info()"
   ]
  },
  {
   "cell_type": "markdown",
   "metadata": {},
   "source": [
    "## 상관관계 분석 (Encoding 후)"
   ]
  },
  {
   "cell_type": "code",
   "execution_count": 39,
   "metadata": {
    "tags": []
   },
   "outputs": [
    {
     "name": "stdout",
     "output_type": "stream",
     "text": [
      "[(9823, 10), (13119, 9), (9823, 2)]\n"
     ]
    }
   ],
   "source": [
    "dfXY = pd.merge(dfX, Y, on='ID')\n",
    "print([x.shape for x in [dfXY, dfX, Y]])"
   ]
  },
  {
   "cell_type": "code",
   "execution_count": 40,
   "metadata": {
    "tags": []
   },
   "outputs": [
    {
     "data": {
      "text/plain": [
       "ID             -0.0994\n",
       "model           0.3374\n",
       "year            0.5194\n",
       "transmission    0.1360\n",
       "mileage        -0.5375\n",
       "fuelType        0.1940\n",
       "tax             0.2645\n",
       "mpg            -0.4349\n",
       "engineSize      0.5193\n",
       "price           1.0000\n",
       "Name: price, dtype: float64"
      ]
     },
     "execution_count": 40,
     "metadata": {},
     "output_type": "execute_result"
    }
   ],
   "source": [
    "dfXY.corr()['price']"
   ]
  },
  {
   "cell_type": "code",
   "execution_count": 42,
   "metadata": {
    "tags": []
   },
   "outputs": [
    {
     "name": "stdout",
     "output_type": "stream",
     "text": [
      "<class 'pandas.core.frame.DataFrame'>\n",
      "RangeIndex: 13119 entries, 0 to 13118\n",
      "Data columns (total 9 columns):\n",
      " #   Column        Non-Null Count  Dtype  \n",
      "---  ------        --------------  -----  \n",
      " 0   ID            13119 non-null  int64  \n",
      " 1   model         13119 non-null  int64  \n",
      " 2   year          13119 non-null  int64  \n",
      " 3   transmission  13119 non-null  int64  \n",
      " 4   mileage       13119 non-null  int64  \n",
      " 5   fuelType      13119 non-null  int64  \n",
      " 6   tax           13119 non-null  int64  \n",
      " 7   mpg           13119 non-null  float64\n",
      " 8   engineSize    13119 non-null  float64\n",
      "dtypes: float64(2), int64(7)\n",
      "memory usage: 922.6 KB\n"
     ]
    }
   ],
   "source": [
    "dfX.info()"
   ]
  },
  {
   "cell_type": "markdown",
   "metadata": {},
   "source": [
    "## 모델링 - 사전처리"
   ]
  },
  {
   "cell_type": "code",
   "execution_count": 90,
   "metadata": {
    "tags": []
   },
   "outputs": [],
   "source": [
    "# 평가지표는 rmse\n",
    "from sklearn.metrics import mean_squared_error as mse\n",
    "from sklearn.metrics import mean_absolute_error as mae\n",
    "from sklearn.metrics import mean_squared_log_error as msle\n",
    "\n",
    "import numpy as np\n",
    "\n",
    "def get_model_score(model, xtrain, xtest, ytrain, ytest):\n",
    "    ypred1 = model.predict(xtrain)\n",
    "    ypred2 = model.predict(xtest)\n",
    "    \n",
    "    A1 = mse(ytrain, ypred1)\n",
    "    A2 = mse(ytest, ypred2)\n",
    "    B = mae(ytest, ypred2)\n",
    "    C = np.sqrt(A2)\n",
    "    \n",
    "    ypred2 = np.where(ypred2 < 0, 0, ypred2)\n",
    "    D = msle(ytest, ypred2)\n",
    "    E = np.sqrt(D)\n",
    "    \n",
    "    scores = pd.Series([A1, A2, B, C, D, E], index='MSE(T) MSE(V) MAE RMSE MSLE RMSLE'.split())\n",
    "    return scores"
   ]
  },
  {
   "cell_type": "code",
   "execution_count": 108,
   "metadata": {
    "tags": []
   },
   "outputs": [],
   "source": [
    "from sklearn.linear_model import LinearRegression\n",
    "from sklearn.neighbors import KNeighborsClassifier\n",
    "from sklearn.tree import DecisionTreeRegressor\n",
    "from sklearn.ensemble import RandomForestRegressor\n",
    "from xgboost import XGBRegressor\n",
    "\n",
    "def compare_model(xtrain, xtest, ytrain, ytest):\n",
    "    result = pd.DataFrame()\n",
    "    \n",
    "    model = LinearRegression().fit(xtrain, ytrain)\n",
    "    result[f'{model.__class__.__name__}'] = get_model_score(model, xtrain, xtest, ytrain ,ytest)\n",
    "\n",
    "    # n_neighbors=5\n",
    "    model = KNeighborsClassifier().fit(xtrain, ytrain)\n",
    "    result[f'{model.__class__.__name__}'] = get_model_score(model, xtrain, xtest, ytrain ,ytest)\n",
    "    \n",
    "    # for n in range(3, 10):\n",
    "    #     model = KNeighborsClassifier(n_neighbors=n).fit(xtrain, ytrain)\n",
    "    #     result[f'{model.__class__.__name__}_{n}'] = get_model_score(model, xtrain, xtest, ytrain ,ytest)        \n",
    "    \n",
    "    # max_depth=None\n",
    "    model = DecisionTreeRegressor(random_state=1234).fit(xtrain, ytrain)\n",
    "    result[f'{model.__class__.__name__}'] = get_model_score(model, xtrain, xtest, ytrain ,ytest)\n",
    "    \n",
    "    # for d in range(1, 10):\n",
    "    #     model = DecisionTreeRegressor(max_depth=d, random_state=1234).fit(xtrain, ytrain)\n",
    "    #     result[f'{model.__class__.__name__}_{d}'] = get_model_score(model, xtrain, xtest, ytrain ,ytest)\n",
    "        \n",
    "    # n_estimators=100\n",
    "    model = RandomForestRegressor(random_state=1234).fit(xtrain, ytrain)\n",
    "    result[f'{model.__class__.__name__}'] = get_model_score(model, xtrain, xtest, ytrain ,ytest)\n",
    "    \n",
    "    # for d in range(1, 10):\n",
    "    #     model = RandomForestRegressor(max_depth=d, random_state=1234).fit(xtrain, ytrain)\n",
    "    #     result[f'{model.__class__.__name__}_{d}'] = get_model_score(model, xtrain, xtest, ytrain ,ytest)    \n",
    "\n",
    "    # n_estimators = 500\n",
    "    model = XGBRegressor(objective='reg:squarederror').fit(xtrain, ytrain)\n",
    "    result[f'{model.__class__.__name__}'] = get_model_score(model, xtrain, xtest, ytrain ,ytest)\n",
    "    \n",
    "    # for n in range(100, 1001, 100):\n",
    "    #     model = XGBRegressor(n_estimators=n, objective='reg:squarederror').fit(xtrain, ytrain)\n",
    "    #     result[f'{model.__class__.__name__}_{n}'] = get_model_score(model, xtrain, xtest, ytrain ,ytest)\n",
    "    \n",
    "    result = result.T\n",
    "    result.insert(loc=2, column='DIFF', value=(result['MSE(T)'] - result['MSE(V)']).abs())\n",
    "    return result"
   ]
  },
  {
   "cell_type": "code",
   "execution_count": 68,
   "metadata": {
    "tags": []
   },
   "outputs": [],
   "source": [
    "from sklearn.preprocessing import StandardScaler\n",
    "\n",
    "def get_model_data(dfX, Y, train_size, is_scaled=False):\n",
    "    X_temp = dfX.drop(columns=['ID'])\n",
    "    YF = Y['price']\n",
    "    \n",
    "    if is_scaled:\n",
    "        X_temp = StandardScaler().fit_transform(X_temp)\n",
    "    \n",
    "    XF = X_temp[:train_size]\n",
    "    X_submissionF = X_temp[train_size:]\n",
    "    \n",
    "    return XF, X_submissionF, YF"
   ]
  },
  {
   "cell_type": "markdown",
   "metadata": {},
   "source": [
    "## 모델 선택 - 정규화 전"
   ]
  },
  {
   "cell_type": "code",
   "execution_count": 115,
   "metadata": {
    "tags": []
   },
   "outputs": [
    {
     "name": "stdout",
     "output_type": "stream",
     "text": [
      "[(9823, 9), (3296, 9), (9823, 2)]\n",
      "[(9823, 8), (3296, 8), (9823,)]\n"
     ]
    }
   ],
   "source": [
    "XF, X_submissionF, YF = get_model_data(dfX, Y, len(X), is_scaled=False)\n",
    "\n",
    "print([x.shape for x in [X, X_submission, Y]])\n",
    "print([x.shape for x in [XF, X_submissionF, YF]])"
   ]
  },
  {
   "cell_type": "code",
   "execution_count": 116,
   "metadata": {
    "tags": []
   },
   "outputs": [
    {
     "name": "stdout",
     "output_type": "stream",
     "text": [
      "[(6876, 8), (2947, 8), (6876,), (2947,)]\n"
     ]
    }
   ],
   "source": [
    "from sklearn.model_selection import train_test_split\n",
    "\n",
    "xtrain_1, xtest_1, ytrain_1, ytest_1 = train_test_split(XF, YF, test_size=0.3, random_state=1234)\n",
    "\n",
    "print([x.shape for x in [xtrain_1, xtest_1, ytrain_1, ytest_1]])"
   ]
  },
  {
   "cell_type": "code",
   "execution_count": 117,
   "metadata": {
    "tags": []
   },
   "outputs": [],
   "source": [
    "result_1 = compare_model(xtrain_1, xtest_1, ytrain_1, ytest_1)"
   ]
  },
  {
   "cell_type": "code",
   "execution_count": 118,
   "metadata": {
    "tags": []
   },
   "outputs": [
    {
     "data": {
      "text/html": [
       "<div>\n",
       "<style scoped>\n",
       "    .dataframe tbody tr th:only-of-type {\n",
       "        vertical-align: middle;\n",
       "    }\n",
       "\n",
       "    .dataframe tbody tr th {\n",
       "        vertical-align: top;\n",
       "    }\n",
       "\n",
       "    .dataframe thead th {\n",
       "        text-align: right;\n",
       "    }\n",
       "</style>\n",
       "<table border=\"1\" class=\"dataframe\">\n",
       "  <thead>\n",
       "    <tr style=\"text-align: right;\">\n",
       "      <th></th>\n",
       "      <th>MSE(T)</th>\n",
       "      <th>MSE(V)</th>\n",
       "      <th>DIFF</th>\n",
       "      <th>MAE</th>\n",
       "      <th>RMSE</th>\n",
       "      <th>MSLE</th>\n",
       "      <th>RMSLE</th>\n",
       "    </tr>\n",
       "  </thead>\n",
       "  <tbody>\n",
       "    <tr>\n",
       "      <th>XGBRegressor_200</th>\n",
       "      <td>1,055,601.7193</td>\n",
       "      <td>6,810,663.0738</td>\n",
       "      <td>5,755,061.3545</td>\n",
       "      <td>1,621.4964</td>\n",
       "      <td>2,609.7247</td>\n",
       "      <td>0.0101</td>\n",
       "      <td>0.1004</td>\n",
       "    </tr>\n",
       "    <tr>\n",
       "      <th>XGBRegressor</th>\n",
       "      <td>1,939,156.1962</td>\n",
       "      <td>6,841,257.4932</td>\n",
       "      <td>4,902,101.2970</td>\n",
       "      <td>1,616.7886</td>\n",
       "      <td>2,615.5798</td>\n",
       "      <td>0.0100</td>\n",
       "      <td>0.1000</td>\n",
       "    </tr>\n",
       "    <tr>\n",
       "      <th>XGBRegressor_100</th>\n",
       "      <td>1,939,156.1962</td>\n",
       "      <td>6,841,257.4932</td>\n",
       "      <td>4,902,101.2970</td>\n",
       "      <td>1,616.7886</td>\n",
       "      <td>2,615.5798</td>\n",
       "      <td>0.0100</td>\n",
       "      <td>0.1000</td>\n",
       "    </tr>\n",
       "    <tr>\n",
       "      <th>XGBRegressor_300</th>\n",
       "      <td>626,033.4411</td>\n",
       "      <td>6,898,637.9057</td>\n",
       "      <td>6,272,604.4646</td>\n",
       "      <td>1,632.6959</td>\n",
       "      <td>2,626.5258</td>\n",
       "      <td>0.0103</td>\n",
       "      <td>0.1014</td>\n",
       "    </tr>\n",
       "    <tr>\n",
       "      <th>XGBRegressor_400</th>\n",
       "      <td>414,345.0418</td>\n",
       "      <td>6,970,535.1036</td>\n",
       "      <td>6,556,190.0618</td>\n",
       "      <td>1,646.8313</td>\n",
       "      <td>2,640.1771</td>\n",
       "      <td>0.0105</td>\n",
       "      <td>0.1023</td>\n",
       "    </tr>\n",
       "    <tr>\n",
       "      <th>XGBRegressor_500</th>\n",
       "      <td>286,232.7337</td>\n",
       "      <td>7,040,069.3799</td>\n",
       "      <td>6,753,836.6462</td>\n",
       "      <td>1,659.8800</td>\n",
       "      <td>2,653.3129</td>\n",
       "      <td>0.0107</td>\n",
       "      <td>0.1032</td>\n",
       "    </tr>\n",
       "    <tr>\n",
       "      <th>XGBRegressor_600</th>\n",
       "      <td>209,224.9907</td>\n",
       "      <td>7,099,947.9088</td>\n",
       "      <td>6,890,722.9182</td>\n",
       "      <td>1,672.1624</td>\n",
       "      <td>2,664.5727</td>\n",
       "      <td>0.0108</td>\n",
       "      <td>0.1039</td>\n",
       "    </tr>\n",
       "    <tr>\n",
       "      <th>XGBRegressor_700</th>\n",
       "      <td>156,002.5585</td>\n",
       "      <td>7,130,620.5654</td>\n",
       "      <td>6,974,618.0069</td>\n",
       "      <td>1,680.3636</td>\n",
       "      <td>2,670.3222</td>\n",
       "      <td>0.0109</td>\n",
       "      <td>0.1046</td>\n",
       "    </tr>\n",
       "    <tr>\n",
       "      <th>XGBRegressor_800</th>\n",
       "      <td>118,136.4914</td>\n",
       "      <td>7,151,614.1991</td>\n",
       "      <td>7,033,477.7078</td>\n",
       "      <td>1,684.5958</td>\n",
       "      <td>2,674.2502</td>\n",
       "      <td>0.0110</td>\n",
       "      <td>0.1048</td>\n",
       "    </tr>\n",
       "    <tr>\n",
       "      <th>XGBRegressor_900</th>\n",
       "      <td>90,480.4039</td>\n",
       "      <td>7,180,878.6167</td>\n",
       "      <td>7,090,398.2128</td>\n",
       "      <td>1,691.4226</td>\n",
       "      <td>2,679.7161</td>\n",
       "      <td>0.0110</td>\n",
       "      <td>0.1050</td>\n",
       "    </tr>\n",
       "    <tr>\n",
       "      <th>XGBRegressor_1000</th>\n",
       "      <td>72,085.6447</td>\n",
       "      <td>7,202,692.7073</td>\n",
       "      <td>7,130,607.0626</td>\n",
       "      <td>1,694.8542</td>\n",
       "      <td>2,683.7833</td>\n",
       "      <td>0.0111</td>\n",
       "      <td>0.1053</td>\n",
       "    </tr>\n",
       "    <tr>\n",
       "      <th>RandomForestRegressor</th>\n",
       "      <td>1,119,491.7878</td>\n",
       "      <td>7,336,024.6242</td>\n",
       "      <td>6,216,532.8364</td>\n",
       "      <td>1,645.6332</td>\n",
       "      <td>2,708.5097</td>\n",
       "      <td>0.0106</td>\n",
       "      <td>0.1028</td>\n",
       "    </tr>\n",
       "    <tr>\n",
       "      <th>DecisionTreeRegressor</th>\n",
       "      <td>20,334.1827</td>\n",
       "      <td>12,166,361.1903</td>\n",
       "      <td>12,146,027.0076</td>\n",
       "      <td>2,091.1624</td>\n",
       "      <td>3,488.0311</td>\n",
       "      <td>0.0165</td>\n",
       "      <td>0.1283</td>\n",
       "    </tr>\n",
       "    <tr>\n",
       "      <th>LinearRegression</th>\n",
       "      <td>44,641,751.0079</td>\n",
       "      <td>34,307,086.4195</td>\n",
       "      <td>10,334,664.5884</td>\n",
       "      <td>3,930.1981</td>\n",
       "      <td>5,857.2251</td>\n",
       "      <td>0.7663</td>\n",
       "      <td>0.8754</td>\n",
       "    </tr>\n",
       "    <tr>\n",
       "      <th>KNeighborsClassifier</th>\n",
       "      <td>121,722,493.0935</td>\n",
       "      <td>117,216,652.1174</td>\n",
       "      <td>4,505,840.9761</td>\n",
       "      <td>7,098.9121</td>\n",
       "      <td>10,826.6639</td>\n",
       "      <td>0.1804</td>\n",
       "      <td>0.4247</td>\n",
       "    </tr>\n",
       "  </tbody>\n",
       "</table>\n",
       "</div>"
      ],
      "text/plain": [
       "                                MSE(T)           MSE(V)            DIFF  \\\n",
       "XGBRegressor_200        1,055,601.7193   6,810,663.0738  5,755,061.3545   \n",
       "XGBRegressor            1,939,156.1962   6,841,257.4932  4,902,101.2970   \n",
       "XGBRegressor_100        1,939,156.1962   6,841,257.4932  4,902,101.2970   \n",
       "XGBRegressor_300          626,033.4411   6,898,637.9057  6,272,604.4646   \n",
       "XGBRegressor_400          414,345.0418   6,970,535.1036  6,556,190.0618   \n",
       "XGBRegressor_500          286,232.7337   7,040,069.3799  6,753,836.6462   \n",
       "XGBRegressor_600          209,224.9907   7,099,947.9088  6,890,722.9182   \n",
       "XGBRegressor_700          156,002.5585   7,130,620.5654  6,974,618.0069   \n",
       "XGBRegressor_800          118,136.4914   7,151,614.1991  7,033,477.7078   \n",
       "XGBRegressor_900           90,480.4039   7,180,878.6167  7,090,398.2128   \n",
       "XGBRegressor_1000          72,085.6447   7,202,692.7073  7,130,607.0626   \n",
       "RandomForestRegressor   1,119,491.7878   7,336,024.6242  6,216,532.8364   \n",
       "DecisionTreeRegressor      20,334.1827  12,166,361.1903 12,146,027.0076   \n",
       "LinearRegression       44,641,751.0079  34,307,086.4195 10,334,664.5884   \n",
       "KNeighborsClassifier  121,722,493.0935 117,216,652.1174  4,505,840.9761   \n",
       "\n",
       "                             MAE        RMSE   MSLE  RMSLE  \n",
       "XGBRegressor_200      1,621.4964  2,609.7247 0.0101 0.1004  \n",
       "XGBRegressor          1,616.7886  2,615.5798 0.0100 0.1000  \n",
       "XGBRegressor_100      1,616.7886  2,615.5798 0.0100 0.1000  \n",
       "XGBRegressor_300      1,632.6959  2,626.5258 0.0103 0.1014  \n",
       "XGBRegressor_400      1,646.8313  2,640.1771 0.0105 0.1023  \n",
       "XGBRegressor_500      1,659.8800  2,653.3129 0.0107 0.1032  \n",
       "XGBRegressor_600      1,672.1624  2,664.5727 0.0108 0.1039  \n",
       "XGBRegressor_700      1,680.3636  2,670.3222 0.0109 0.1046  \n",
       "XGBRegressor_800      1,684.5958  2,674.2502 0.0110 0.1048  \n",
       "XGBRegressor_900      1,691.4226  2,679.7161 0.0110 0.1050  \n",
       "XGBRegressor_1000     1,694.8542  2,683.7833 0.0111 0.1053  \n",
       "RandomForestRegressor 1,645.6332  2,708.5097 0.0106 0.1028  \n",
       "DecisionTreeRegressor 2,091.1624  3,488.0311 0.0165 0.1283  \n",
       "LinearRegression      3,930.1981  5,857.2251 0.7663 0.8754  \n",
       "KNeighborsClassifier  7,098.9121 10,826.6639 0.1804 0.4247  "
      ]
     },
     "execution_count": 118,
     "metadata": {},
     "output_type": "execute_result"
    }
   ],
   "source": [
    "result_1.sort_values(['MSE(V)', 'RMSE'], ascending=[True, True])\n",
    "# XGBRegressor\t        1,939,156.1962\t6,841,257.4932\t4,902,101.2970\t1,616.7886\t2,615.5798\t0.0100\t0.1000\n",
    "# RandomForestRegressor\t1,119,491.7878\t7,336,024.6242\t6,216,532.8364\t1,645.6332\t2,708.5097\t0.0106\t0.1028\n",
    "# XGBRegressor_200\t    1,055,601.7193\t6,810,663.0738\t5,755,061.3545\t1,621.4964\t2,609.7247\t0.0101\t0.1004"
   ]
  },
  {
   "cell_type": "markdown",
   "metadata": {},
   "source": [
    "## 모델 선택 - 정규화"
   ]
  },
  {
   "cell_type": "code",
   "execution_count": 111,
   "metadata": {
    "tags": []
   },
   "outputs": [
    {
     "name": "stdout",
     "output_type": "stream",
     "text": [
      "[(9823, 9), (3296, 9), (9823, 2)]\n",
      "[(9823, 8), (3296, 8), (9823,)]\n"
     ]
    }
   ],
   "source": [
    "XF, X_submissionF, YF = get_model_data(dfX, Y, len(X), is_scaled=True)\n",
    "\n",
    "print([x.shape for x in [X, X_submission, Y]])\n",
    "print([x.shape for x in [XF, X_submissionF, YF]])"
   ]
  },
  {
   "cell_type": "code",
   "execution_count": 112,
   "metadata": {
    "tags": []
   },
   "outputs": [
    {
     "name": "stdout",
     "output_type": "stream",
     "text": [
      "[(6876, 8), (2947, 8), (6876,), (2947,)]\n"
     ]
    }
   ],
   "source": [
    "from sklearn.model_selection import train_test_split\n",
    "\n",
    "xtrain_2, xtest_2, ytrain_2, ytest_2 = train_test_split(XF, YF, test_size=0.3, random_state=1234)\n",
    "\n",
    "print([x.shape for x in [xtrain_2, xtest_2, ytrain_2, ytest_2]])"
   ]
  },
  {
   "cell_type": "code",
   "execution_count": 113,
   "metadata": {
    "tags": []
   },
   "outputs": [],
   "source": [
    "result_2 = compare_model(xtrain_2, xtest_2, ytrain_2, ytest_2)"
   ]
  },
  {
   "cell_type": "code",
   "execution_count": 114,
   "metadata": {
    "tags": []
   },
   "outputs": [
    {
     "data": {
      "text/html": [
       "<div>\n",
       "<style scoped>\n",
       "    .dataframe tbody tr th:only-of-type {\n",
       "        vertical-align: middle;\n",
       "    }\n",
       "\n",
       "    .dataframe tbody tr th {\n",
       "        vertical-align: top;\n",
       "    }\n",
       "\n",
       "    .dataframe thead th {\n",
       "        text-align: right;\n",
       "    }\n",
       "</style>\n",
       "<table border=\"1\" class=\"dataframe\">\n",
       "  <thead>\n",
       "    <tr style=\"text-align: right;\">\n",
       "      <th></th>\n",
       "      <th>MSE(T)</th>\n",
       "      <th>MSE(V)</th>\n",
       "      <th>DIFF</th>\n",
       "      <th>MAE</th>\n",
       "      <th>RMSE</th>\n",
       "      <th>MSLE</th>\n",
       "      <th>RMSLE</th>\n",
       "    </tr>\n",
       "  </thead>\n",
       "  <tbody>\n",
       "    <tr>\n",
       "      <th>XGBRegressor_200</th>\n",
       "      <td>1,055,601.7193</td>\n",
       "      <td>6,811,398.0733</td>\n",
       "      <td>5,755,796.3540</td>\n",
       "      <td>1,621.0053</td>\n",
       "      <td>2,609.8655</td>\n",
       "      <td>0.0099</td>\n",
       "      <td>0.0997</td>\n",
       "    </tr>\n",
       "    <tr>\n",
       "      <th>XGBRegressor</th>\n",
       "      <td>1,939,156.1962</td>\n",
       "      <td>6,840,236.4829</td>\n",
       "      <td>4,901,080.2866</td>\n",
       "      <td>1,616.2026</td>\n",
       "      <td>2,615.3846</td>\n",
       "      <td>0.0098</td>\n",
       "      <td>0.0992</td>\n",
       "    </tr>\n",
       "    <tr>\n",
       "      <th>XGBRegressor_100</th>\n",
       "      <td>1,939,156.1962</td>\n",
       "      <td>6,840,236.4829</td>\n",
       "      <td>4,901,080.2866</td>\n",
       "      <td>1,616.2026</td>\n",
       "      <td>2,615.3846</td>\n",
       "      <td>0.0098</td>\n",
       "      <td>0.0992</td>\n",
       "    </tr>\n",
       "    <tr>\n",
       "      <th>XGBRegressor_300</th>\n",
       "      <td>626,033.4411</td>\n",
       "      <td>6,899,928.0869</td>\n",
       "      <td>6,273,894.6458</td>\n",
       "      <td>1,632.2683</td>\n",
       "      <td>2,626.7714</td>\n",
       "      <td>0.0101</td>\n",
       "      <td>0.1007</td>\n",
       "    </tr>\n",
       "    <tr>\n",
       "      <th>XGBRegressor_400</th>\n",
       "      <td>414,345.0418</td>\n",
       "      <td>6,972,093.5246</td>\n",
       "      <td>6,557,748.4828</td>\n",
       "      <td>1,646.4037</td>\n",
       "      <td>2,640.4722</td>\n",
       "      <td>0.0103</td>\n",
       "      <td>0.1016</td>\n",
       "    </tr>\n",
       "    <tr>\n",
       "      <th>XGBRegressor_500</th>\n",
       "      <td>286,232.7337</td>\n",
       "      <td>7,042,297.9609</td>\n",
       "      <td>6,756,065.2272</td>\n",
       "      <td>1,659.6788</td>\n",
       "      <td>2,653.7328</td>\n",
       "      <td>0.0105</td>\n",
       "      <td>0.1026</td>\n",
       "    </tr>\n",
       "    <tr>\n",
       "      <th>XGBRegressor_600</th>\n",
       "      <td>209,224.9907</td>\n",
       "      <td>7,102,593.4017</td>\n",
       "      <td>6,893,368.4110</td>\n",
       "      <td>1,671.9943</td>\n",
       "      <td>2,665.0691</td>\n",
       "      <td>0.0107</td>\n",
       "      <td>0.1032</td>\n",
       "    </tr>\n",
       "    <tr>\n",
       "      <th>XGBRegressor_700</th>\n",
       "      <td>156,002.5585</td>\n",
       "      <td>7,134,217.7136</td>\n",
       "      <td>6,978,215.1551</td>\n",
       "      <td>1,680.3927</td>\n",
       "      <td>2,670.9956</td>\n",
       "      <td>0.0108</td>\n",
       "      <td>0.1039</td>\n",
       "    </tr>\n",
       "    <tr>\n",
       "      <th>XGBRegressor_800</th>\n",
       "      <td>118,136.4914</td>\n",
       "      <td>7,154,999.7216</td>\n",
       "      <td>7,036,863.2303</td>\n",
       "      <td>1,684.5712</td>\n",
       "      <td>2,674.8831</td>\n",
       "      <td>0.0109</td>\n",
       "      <td>0.1042</td>\n",
       "    </tr>\n",
       "    <tr>\n",
       "      <th>XGBRegressor_900</th>\n",
       "      <td>90,480.4039</td>\n",
       "      <td>7,184,427.8565</td>\n",
       "      <td>7,093,947.4526</td>\n",
       "      <td>1,691.4178</td>\n",
       "      <td>2,680.3783</td>\n",
       "      <td>0.0109</td>\n",
       "      <td>0.1044</td>\n",
       "    </tr>\n",
       "    <tr>\n",
       "      <th>XGBRegressor_1000</th>\n",
       "      <td>72,085.6447</td>\n",
       "      <td>7,206,292.5223</td>\n",
       "      <td>7,134,206.8776</td>\n",
       "      <td>1,694.8243</td>\n",
       "      <td>2,684.4539</td>\n",
       "      <td>0.0110</td>\n",
       "      <td>0.1047</td>\n",
       "    </tr>\n",
       "    <tr>\n",
       "      <th>RandomForestRegressor</th>\n",
       "      <td>1,120,044.2027</td>\n",
       "      <td>7,342,235.5242</td>\n",
       "      <td>6,222,191.3215</td>\n",
       "      <td>1,646.6647</td>\n",
       "      <td>2,709.6560</td>\n",
       "      <td>0.0106</td>\n",
       "      <td>0.1029</td>\n",
       "    </tr>\n",
       "    <tr>\n",
       "      <th>DecisionTreeRegressor</th>\n",
       "      <td>20,334.1827</td>\n",
       "      <td>12,216,869.4804</td>\n",
       "      <td>12,196,535.2978</td>\n",
       "      <td>2,097.8462</td>\n",
       "      <td>3,495.2639</td>\n",
       "      <td>0.0165</td>\n",
       "      <td>0.1286</td>\n",
       "    </tr>\n",
       "    <tr>\n",
       "      <th>KNeighborsClassifier</th>\n",
       "      <td>22,920,845.6598</td>\n",
       "      <td>22,775,705.8741</td>\n",
       "      <td>145,139.7857</td>\n",
       "      <td>2,796.8269</td>\n",
       "      <td>4,772.3900</td>\n",
       "      <td>0.0303</td>\n",
       "      <td>0.1741</td>\n",
       "    </tr>\n",
       "    <tr>\n",
       "      <th>LinearRegression</th>\n",
       "      <td>44,641,751.0079</td>\n",
       "      <td>34,307,086.4195</td>\n",
       "      <td>10,334,664.5884</td>\n",
       "      <td>3,930.1981</td>\n",
       "      <td>5,857.2251</td>\n",
       "      <td>0.7663</td>\n",
       "      <td>0.8754</td>\n",
       "    </tr>\n",
       "  </tbody>\n",
       "</table>\n",
       "</div>"
      ],
      "text/plain": [
       "                               MSE(T)          MSE(V)            DIFF  \\\n",
       "XGBRegressor_200       1,055,601.7193  6,811,398.0733  5,755,796.3540   \n",
       "XGBRegressor           1,939,156.1962  6,840,236.4829  4,901,080.2866   \n",
       "XGBRegressor_100       1,939,156.1962  6,840,236.4829  4,901,080.2866   \n",
       "XGBRegressor_300         626,033.4411  6,899,928.0869  6,273,894.6458   \n",
       "XGBRegressor_400         414,345.0418  6,972,093.5246  6,557,748.4828   \n",
       "XGBRegressor_500         286,232.7337  7,042,297.9609  6,756,065.2272   \n",
       "XGBRegressor_600         209,224.9907  7,102,593.4017  6,893,368.4110   \n",
       "XGBRegressor_700         156,002.5585  7,134,217.7136  6,978,215.1551   \n",
       "XGBRegressor_800         118,136.4914  7,154,999.7216  7,036,863.2303   \n",
       "XGBRegressor_900          90,480.4039  7,184,427.8565  7,093,947.4526   \n",
       "XGBRegressor_1000         72,085.6447  7,206,292.5223  7,134,206.8776   \n",
       "RandomForestRegressor  1,120,044.2027  7,342,235.5242  6,222,191.3215   \n",
       "DecisionTreeRegressor     20,334.1827 12,216,869.4804 12,196,535.2978   \n",
       "KNeighborsClassifier  22,920,845.6598 22,775,705.8741    145,139.7857   \n",
       "LinearRegression      44,641,751.0079 34,307,086.4195 10,334,664.5884   \n",
       "\n",
       "                             MAE       RMSE   MSLE  RMSLE  \n",
       "XGBRegressor_200      1,621.0053 2,609.8655 0.0099 0.0997  \n",
       "XGBRegressor          1,616.2026 2,615.3846 0.0098 0.0992  \n",
       "XGBRegressor_100      1,616.2026 2,615.3846 0.0098 0.0992  \n",
       "XGBRegressor_300      1,632.2683 2,626.7714 0.0101 0.1007  \n",
       "XGBRegressor_400      1,646.4037 2,640.4722 0.0103 0.1016  \n",
       "XGBRegressor_500      1,659.6788 2,653.7328 0.0105 0.1026  \n",
       "XGBRegressor_600      1,671.9943 2,665.0691 0.0107 0.1032  \n",
       "XGBRegressor_700      1,680.3927 2,670.9956 0.0108 0.1039  \n",
       "XGBRegressor_800      1,684.5712 2,674.8831 0.0109 0.1042  \n",
       "XGBRegressor_900      1,691.4178 2,680.3783 0.0109 0.1044  \n",
       "XGBRegressor_1000     1,694.8243 2,684.4539 0.0110 0.1047  \n",
       "RandomForestRegressor 1,646.6647 2,709.6560 0.0106 0.1029  \n",
       "DecisionTreeRegressor 2,097.8462 3,495.2639 0.0165 0.1286  \n",
       "KNeighborsClassifier  2,796.8269 4,772.3900 0.0303 0.1741  \n",
       "LinearRegression      3,930.1981 5,857.2251 0.7663 0.8754  "
      ]
     },
     "execution_count": 114,
     "metadata": {},
     "output_type": "execute_result"
    }
   ],
   "source": [
    "result_2.sort_values(['MSE(V)', 'RMSE'], ascending=[True, True])\n",
    "# XGBRegressor\t        1,939,156.1962\t6,841,257.4932\t4,902,101.2970\t1,616.7886\t2,615.5798\t0.0100\t0.1000\n",
    "# RandomForestRegressor\t1,119,491.7878\t7,336,024.6242\t6,216,532.8364\t1,645.6332\t2,708.5097\t0.0106\t0.1028\n",
    "# XGBRegressor_200\t    1,055,601.7193\t6,810,663.0738\t5,755,061.3545\t1,621.4964\t2,609.7247\t0.0101\t0.1004"
   ]
  },
  {
   "cell_type": "markdown",
   "metadata": {},
   "source": [
    "## 모델 선택 - 최종"
   ]
  },
  {
   "cell_type": "code",
   "execution_count": 119,
   "metadata": {
    "tags": []
   },
   "outputs": [
    {
     "name": "stdout",
     "output_type": "stream",
     "text": [
      "MSE(T)   1,055,601.7193\n",
      "MSE(V)   6,810,663.0738\n",
      "MAE          1,621.4964\n",
      "RMSE         2,609.7247\n",
      "MSLE             0.0101\n",
      "RMSLE            0.1004\n",
      "dtype: float64\n"
     ]
    }
   ],
   "source": [
    "# XGBRegressor_200\t    1,055,601.7193\t6,810,663.0738\t5,755,061.3545\t1,621.4964\t2,609.7247\t0.0101\t0.1004\n",
    "model = XGBRegressor(n_estimators=200, objective='reg:squarederror').fit(xtrain_1, ytrain_1)\n",
    "print(get_model_score(model, xtrain_1, xtest_1, ytrain_1, ytest_1))"
   ]
  },
  {
   "cell_type": "code",
   "execution_count": 120,
   "metadata": {
    "tags": []
   },
   "outputs": [],
   "source": [
    "Y_pred = model.predict(X_submissionF)\n",
    "submission = pd.DataFrame({'ID': X_submission['ID'], 'price': Y_pred})\n",
    "submission.to_csv('./submission.csv', index=False)"
   ]
  },
  {
   "cell_type": "markdown",
   "metadata": {},
   "source": [
    "### 제출 파일 확인"
   ]
  },
  {
   "cell_type": "code",
   "execution_count": 121,
   "metadata": {
    "tags": []
   },
   "outputs": [
    {
     "data": {
      "text/html": [
       "<div>\n",
       "<style scoped>\n",
       "    .dataframe tbody tr th:only-of-type {\n",
       "        vertical-align: middle;\n",
       "    }\n",
       "\n",
       "    .dataframe tbody tr th {\n",
       "        vertical-align: top;\n",
       "    }\n",
       "\n",
       "    .dataframe thead th {\n",
       "        text-align: right;\n",
       "    }\n",
       "</style>\n",
       "<table border=\"1\" class=\"dataframe\">\n",
       "  <thead>\n",
       "    <tr style=\"text-align: right;\">\n",
       "      <th></th>\n",
       "      <th>ID</th>\n",
       "      <th>price</th>\n",
       "    </tr>\n",
       "  </thead>\n",
       "  <tbody>\n",
       "    <tr>\n",
       "      <th>0</th>\n",
       "      <td>0</td>\n",
       "      <td>3,807.6638</td>\n",
       "    </tr>\n",
       "    <tr>\n",
       "      <th>1</th>\n",
       "      <td>2</td>\n",
       "      <td>55,132.7230</td>\n",
       "    </tr>\n",
       "    <tr>\n",
       "      <th>2</th>\n",
       "      <td>14</td>\n",
       "      <td>16,815.1040</td>\n",
       "    </tr>\n",
       "    <tr>\n",
       "      <th>3</th>\n",
       "      <td>15</td>\n",
       "      <td>14,074.3300</td>\n",
       "    </tr>\n",
       "    <tr>\n",
       "      <th>4</th>\n",
       "      <td>18</td>\n",
       "      <td>15,184.2420</td>\n",
       "    </tr>\n",
       "  </tbody>\n",
       "</table>\n",
       "</div>"
      ],
      "text/plain": [
       "   ID       price\n",
       "0   0  3,807.6638\n",
       "1   2 55,132.7230\n",
       "2  14 16,815.1040\n",
       "3  15 14,074.3300\n",
       "4  18 15,184.2420"
      ]
     },
     "execution_count": 121,
     "metadata": {},
     "output_type": "execute_result"
    }
   ],
   "source": [
    "temp = pd.read_csv('./submission.csv')\n",
    "temp.head()"
   ]
  },
  {
   "cell_type": "code",
   "execution_count": 123,
   "metadata": {
    "tags": []
   },
   "outputs": [
    {
     "data": {
      "text/html": [
       "<div>\n",
       "<style scoped>\n",
       "    .dataframe tbody tr th:only-of-type {\n",
       "        vertical-align: middle;\n",
       "    }\n",
       "\n",
       "    .dataframe tbody tr th {\n",
       "        vertical-align: top;\n",
       "    }\n",
       "\n",
       "    .dataframe thead th {\n",
       "        text-align: right;\n",
       "    }\n",
       "</style>\n",
       "<table border=\"1\" class=\"dataframe\">\n",
       "  <thead>\n",
       "    <tr style=\"text-align: right;\">\n",
       "      <th></th>\n",
       "      <th>ID</th>\n",
       "      <th>model</th>\n",
       "      <th>year</th>\n",
       "      <th>transmission</th>\n",
       "      <th>mileage</th>\n",
       "      <th>fuelType</th>\n",
       "      <th>tax</th>\n",
       "      <th>mpg</th>\n",
       "      <th>engineSize</th>\n",
       "    </tr>\n",
       "  </thead>\n",
       "  <tbody>\n",
       "    <tr>\n",
       "      <th>0</th>\n",
       "      <td>0</td>\n",
       "      <td>SLK</td>\n",
       "      <td>2005</td>\n",
       "      <td>Automatic</td>\n",
       "      <td>63000</td>\n",
       "      <td>Petrol</td>\n",
       "      <td>325</td>\n",
       "      <td>32.1000</td>\n",
       "      <td>1.8000</td>\n",
       "    </tr>\n",
       "    <tr>\n",
       "      <th>1</th>\n",
       "      <td>2</td>\n",
       "      <td>SL CLASS</td>\n",
       "      <td>2016</td>\n",
       "      <td>Automatic</td>\n",
       "      <td>6200</td>\n",
       "      <td>Petrol</td>\n",
       "      <td>555</td>\n",
       "      <td>28.0000</td>\n",
       "      <td>5.5000</td>\n",
       "    </tr>\n",
       "    <tr>\n",
       "      <th>2</th>\n",
       "      <td>14</td>\n",
       "      <td>GLA Class</td>\n",
       "      <td>2016</td>\n",
       "      <td>Automatic</td>\n",
       "      <td>41713</td>\n",
       "      <td>Diesel</td>\n",
       "      <td>125</td>\n",
       "      <td>56.6000</td>\n",
       "      <td>2.1000</td>\n",
       "    </tr>\n",
       "    <tr>\n",
       "      <th>3</th>\n",
       "      <td>15</td>\n",
       "      <td>B Class</td>\n",
       "      <td>2017</td>\n",
       "      <td>Automatic</td>\n",
       "      <td>24841</td>\n",
       "      <td>Diesel</td>\n",
       "      <td>150</td>\n",
       "      <td>68.9000</td>\n",
       "      <td>1.5000</td>\n",
       "    </tr>\n",
       "    <tr>\n",
       "      <th>4</th>\n",
       "      <td>18</td>\n",
       "      <td>B Class</td>\n",
       "      <td>2017</td>\n",
       "      <td>Automatic</td>\n",
       "      <td>14128</td>\n",
       "      <td>Diesel</td>\n",
       "      <td>150</td>\n",
       "      <td>68.9000</td>\n",
       "      <td>2.1000</td>\n",
       "    </tr>\n",
       "  </tbody>\n",
       "</table>\n",
       "</div>"
      ],
      "text/plain": [
       "   ID       model  year transmission  mileage fuelType  tax     mpg  \\\n",
       "0   0         SLK  2005    Automatic    63000   Petrol  325 32.1000   \n",
       "1   2    SL CLASS  2016    Automatic     6200   Petrol  555 28.0000   \n",
       "2  14   GLA Class  2016    Automatic    41713   Diesel  125 56.6000   \n",
       "3  15     B Class  2017    Automatic    24841   Diesel  150 68.9000   \n",
       "4  18     B Class  2017    Automatic    14128   Diesel  150 68.9000   \n",
       "\n",
       "   engineSize  \n",
       "0      1.8000  \n",
       "1      5.5000  \n",
       "2      2.1000  \n",
       "3      1.5000  \n",
       "4      2.1000  "
      ]
     },
     "execution_count": 123,
     "metadata": {},
     "output_type": "execute_result"
    }
   ],
   "source": [
    "X_submission.head()"
   ]
  }
 ],
 "metadata": {
  "colab": {
   "provenance": []
  },
  "kernelspec": {
   "display_name": "Python 3 (ipykernel)",
   "language": "python",
   "name": "python3"
  },
  "language_info": {
   "codemirror_mode": {
    "name": "ipython",
    "version": 3
   },
   "file_extension": ".py",
   "mimetype": "text/x-python",
   "name": "python",
   "nbconvert_exporter": "python",
   "pygments_lexer": "ipython3",
   "version": "3.8.16"
  }
 },
 "nbformat": 4,
 "nbformat_minor": 4
}
