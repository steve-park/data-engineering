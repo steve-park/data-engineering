{
 "cells": [
  {
   "cell_type": "markdown",
   "metadata": {
    "id": "UdPHfkFPGTDb"
   },
   "source": [
    "## 1.기출문제 (빅분기 실기 2회)"
   ]
  },
  {
   "cell_type": "markdown",
   "metadata": {
    "id": "vA-FmFtl_GSO"
   },
   "source": [
    "#### 1-1. \n",
    "데이터 전처리 단계에서 발견하는 값으로 관측된 데이터 범위에서 많이 벗어나 있는 아주 작거나 아주 큰 값으로 정상 범위를 벗어난 값을 의미하는 것은 무엇인가?"
   ]
  },
  {
   "cell_type": "code",
   "execution_count": null,
   "metadata": {
    "id": "dWlF2WPw-rb5"
   },
   "outputs": [],
   "source": []
  },
  {
   "cell_type": "markdown",
   "metadata": {
    "id": "fepF01fW_Mki"
   },
   "source": [
    "#### 1-2. \n",
    "정답지, label이 없다, 대표적분석에 군집분석, 연관분석 등이 있다. 해당 기법을 뭐라하는가?"
   ]
  },
  {
   "cell_type": "code",
   "execution_count": null,
   "metadata": {
    "id": "qct50H6e_R11"
   },
   "outputs": [],
   "source": []
  },
  {
   "cell_type": "markdown",
   "metadata": {
    "id": "uMhxcUyi_UJQ"
   },
   "source": [
    "#### 1-3.\n",
    "모델을 생성시 사용자가 직접 변경/설정해 주어야하는 것은 무엇인가?"
   ]
  },
  {
   "cell_type": "code",
   "execution_count": null,
   "metadata": {
    "id": "WkwIMAg7_Tws"
   },
   "outputs": [],
   "source": []
  },
  {
   "cell_type": "markdown",
   "metadata": {
    "id": "KMHZMoow_ekq"
   },
   "source": [
    "#### 1-4.\n",
    "결측값을 대치 하는 방법 중 평균값을 사용해 대치하는 방법은?"
   ]
  },
  {
   "cell_type": "code",
   "execution_count": null,
   "metadata": {
    "id": "RoCqgsMf_m3a"
   },
   "outputs": [],
   "source": []
  },
  {
   "cell_type": "markdown",
   "metadata": {
    "id": "UZgAmIsP_0SU"
   },
   "source": [
    "#### 1-5.\n",
    "모델의 학습에서는 정확도가 높게 나오지만 테스트 셋에서는 정확도가 낮게 나오는 것을 무엇이라하는가? "
   ]
  },
  {
   "cell_type": "code",
   "execution_count": null,
   "metadata": {
    "id": "b9lyDHBP_3_-"
   },
   "outputs": [],
   "source": []
  },
  {
   "cell_type": "markdown",
   "metadata": {
    "id": "PiwGuNDb_3iv"
   },
   "source": [
    "#### 1-6.\n",
    "변수 선택 방법 중 모든 변수를 활용해 하나씩 제거해 가는 방법은?"
   ]
  },
  {
   "cell_type": "code",
   "execution_count": null,
   "metadata": {
    "id": "8Sh4WvGvAF4L"
   },
   "outputs": [],
   "source": []
  },
  {
   "cell_type": "markdown",
   "metadata": {
    "id": "9D8QN5a5AJgn"
   },
   "source": [
    "#### 1-7. \n",
    "모델 학습시 잘못된 결과에 대해 가중치를 반영해 모델을 생성하는 방법?"
   ]
  },
  {
   "cell_type": "code",
   "execution_count": null,
   "metadata": {
    "id": "r3XoayrfARl5"
   },
   "outputs": [],
   "source": []
  },
  {
   "cell_type": "markdown",
   "metadata": {
    "id": "KfMgiog6AVPO"
   },
   "source": [
    "#### 1-8. \n",
    "TPR , FPR 로 그려서 확인하는 곡선은?"
   ]
  },
  {
   "cell_type": "code",
   "execution_count": null,
   "metadata": {
    "id": "bLCAJnq0ATvv"
   },
   "outputs": [],
   "source": []
  },
  {
   "cell_type": "markdown",
   "metadata": {
    "id": "M3Fgw13HAeC0"
   },
   "source": [
    "#### 1-9.\n",
    "마지막 은닉층 2개의 값이 [0.2, -0.3]이고,  가중치가 [0.3, 0.1]이다. bias -0.05, 출력층 노드가 1개 이고, f(x) = x , if x >= 0, 그외 -1 일때 출력값은 무엇인가?"
   ]
  },
  {
   "cell_type": "code",
   "execution_count": null,
   "metadata": {
    "id": "6UL_YB4iAdkQ"
   },
   "outputs": [],
   "source": []
  },
  {
   "cell_type": "markdown",
   "metadata": {
    "id": "nQkH0fq6jBlK"
   },
   "source": [
    "#### 1-10.\n",
    "앙상블 기법의 한 가지 종류로 회귀, 분류 모델에 사용되며, 약학습기 여러 개를 사용하는 부스팅 알고리즘에 속한다. 가중치 업데이트를 경사하강법을 이용해 최적화된 결과를 얻는 알고리즘이다."
   ]
  },
  {
   "cell_type": "code",
   "execution_count": null,
   "metadata": {
    "id": "HHYHMUm_Pjw4"
   },
   "outputs": [],
   "source": []
  },
  {
   "cell_type": "markdown",
   "metadata": {
    "id": "9wr6snMrGMHo"
   },
   "source": [
    "## 2.기출문제 (빅분기 실기 2회)"
   ]
  },
  {
   "cell_type": "code",
   "execution_count": 1,
   "metadata": {
    "colab": {
     "base_uri": "https://localhost:8080/"
    },
    "id": "8RdzIjzsMFEY",
    "outputId": "9c34d052-e936-4ef1-c5bc-0e7d39d2519a",
    "tags": []
   },
   "outputs": [
    {
     "name": "stdout",
     "output_type": "stream",
     "text": [
      "Cloning into 'bigdata'...\n",
      "remote: Enumerating objects: 53, done.\u001b[K\n",
      "remote: Counting objects: 100% (3/3), done.\u001b[K\n",
      "remote: Compressing objects: 100% (3/3), done.\u001b[K\n",
      "remote: Total 53 (delta 0), reused 0 (delta 0), pack-reused 50\u001b[K\n",
      "Receiving objects: 100% (53/53), 14.21 MiB | 10.15 MiB/s, done.\n",
      "Resolving deltas: 100% (15/15), done.\n"
     ]
    }
   ],
   "source": [
    "!git clone https://github.com/Soyoung-Yoon/bigdata"
   ]
  },
  {
   "cell_type": "markdown",
   "metadata": {
    "id": "XmsDHqDFBzM3"
   },
   "source": [
    "#### 2-1. 보스턴 데이터\n",
    "보스턴 데이터 범죄율 컬럼('CRIM')의 top10 중 10번째 범죄율 값으로 1~10위의 범죄율 값을 변경 후, 'AGE' 변수의 값이 80이상인 것에 대한 범죄율 평균을 산출하라."
   ]
  },
  {
   "cell_type": "code",
   "execution_count": 33,
   "metadata": {
    "colab": {
     "base_uri": "https://localhost:8080/",
     "height": 112
    },
    "id": "s320bd-r95fx",
    "outputId": "d195828a-058e-487a-9bd0-e966a120f69a",
    "tags": []
   },
   "outputs": [
    {
     "data": {
      "text/html": [
       "<div>\n",
       "<style scoped>\n",
       "    .dataframe tbody tr th:only-of-type {\n",
       "        vertical-align: middle;\n",
       "    }\n",
       "\n",
       "    .dataframe tbody tr th {\n",
       "        vertical-align: top;\n",
       "    }\n",
       "\n",
       "    .dataframe thead th {\n",
       "        text-align: right;\n",
       "    }\n",
       "</style>\n",
       "<table border=\"1\" class=\"dataframe\">\n",
       "  <thead>\n",
       "    <tr style=\"text-align: right;\">\n",
       "      <th></th>\n",
       "      <th>CRIM</th>\n",
       "      <th>ZN</th>\n",
       "      <th>INDUS</th>\n",
       "      <th>CHAS</th>\n",
       "      <th>NOX</th>\n",
       "      <th>RM</th>\n",
       "      <th>AGE</th>\n",
       "      <th>DIS</th>\n",
       "      <th>RAD</th>\n",
       "      <th>TAX</th>\n",
       "      <th>PTRATIO</th>\n",
       "      <th>B</th>\n",
       "      <th>LSTAT</th>\n",
       "      <th>PRICE</th>\n",
       "    </tr>\n",
       "  </thead>\n",
       "  <tbody>\n",
       "    <tr>\n",
       "      <th>0</th>\n",
       "      <td>0.00632</td>\n",
       "      <td>18.0</td>\n",
       "      <td>2.31</td>\n",
       "      <td>0.0</td>\n",
       "      <td>0.538</td>\n",
       "      <td>6.575</td>\n",
       "      <td>65.2</td>\n",
       "      <td>4.0900</td>\n",
       "      <td>1.0</td>\n",
       "      <td>296.0</td>\n",
       "      <td>15.3</td>\n",
       "      <td>396.9</td>\n",
       "      <td>4.98</td>\n",
       "      <td>24.0</td>\n",
       "    </tr>\n",
       "    <tr>\n",
       "      <th>1</th>\n",
       "      <td>0.02731</td>\n",
       "      <td>0.0</td>\n",
       "      <td>7.07</td>\n",
       "      <td>0.0</td>\n",
       "      <td>0.469</td>\n",
       "      <td>6.421</td>\n",
       "      <td>78.9</td>\n",
       "      <td>4.9671</td>\n",
       "      <td>2.0</td>\n",
       "      <td>242.0</td>\n",
       "      <td>17.8</td>\n",
       "      <td>396.9</td>\n",
       "      <td>9.14</td>\n",
       "      <td>21.6</td>\n",
       "    </tr>\n",
       "  </tbody>\n",
       "</table>\n",
       "</div>"
      ],
      "text/plain": [
       "      CRIM    ZN  INDUS  CHAS    NOX     RM   AGE     DIS  RAD    TAX  \\\n",
       "0  0.00632  18.0   2.31   0.0  0.538  6.575  65.2  4.0900  1.0  296.0   \n",
       "1  0.02731   0.0   7.07   0.0  0.469  6.421  78.9  4.9671  2.0  242.0   \n",
       "\n",
       "   PTRATIO      B  LSTAT  PRICE  \n",
       "0     15.3  396.9   4.98   24.0  \n",
       "1     17.8  396.9   9.14   21.6  "
      ]
     },
     "execution_count": 33,
     "metadata": {},
     "output_type": "execute_result"
    }
   ],
   "source": [
    "## sklearn에서 더이상 boston 데이터를 제공하지 않으므로 교체합니다.\n",
    "##from sklearn.datasets import load_boston\n",
    "import pandas as pd\n",
    "df = pd.read_csv('bigdata/boston.csv')\n",
    "df.head(2)"
   ]
  },
  {
   "cell_type": "code",
   "execution_count": 34,
   "metadata": {
    "id": "dt5U-T52-d1f",
    "tags": []
   },
   "outputs": [
    {
     "data": {
      "text/plain": [
       "5.759386625"
      ]
     },
     "execution_count": 34,
     "metadata": {},
     "output_type": "execute_result"
    }
   ],
   "source": [
    "temp = df.sort_values('CRIM', ascending=False).iloc[9, 0]\n",
    "df.loc[df['CRIM'] > temp, 'CRIM'] = temp\n",
    "df.loc[df['AGE'] >= 80]['CRIM'].mean()"
   ]
  },
  {
   "cell_type": "code",
   "execution_count": null,
   "metadata": {},
   "outputs": [],
   "source": [
    "정답 : 5.759387"
   ]
  },
  {
   "cell_type": "markdown",
   "metadata": {
    "id": "Uv_3WUzRCFV0"
   },
   "source": [
    "#### 2-2. 하우징 데이터\n",
    "- housing.csv 파일을 사용한다\n",
    "- 주어진 데이터의 첫번째 행 부터 순서대로 80% 까지의 데이터를 추출 후 'total_bedrooms' 변수의 결측값(NA)을 'total_bedrooms' 변수의 중앙값으로 대체하고,\n",
    "- 대체 전의 'total_bedrooms' 변수 표준편차값과 대체 후의 'total_bedrooms' 변수 표준편차 값을 산출하여\n",
    "- 대체 전 표준편차 값 - 대체 후 표준편차 값을 구해 출력한다."
   ]
  },
  {
   "cell_type": "code",
   "execution_count": null,
   "metadata": {
    "id": "7bfmcPy3CQDQ"
   },
   "outputs": [],
   "source": [
    "# https://www.kaggle.com/camnugent/introduction-to-machine-learning-in-r-tutorial"
   ]
  },
  {
   "cell_type": "code",
   "execution_count": 48,
   "metadata": {
    "id": "FTsXafdeKM39",
    "tags": []
   },
   "outputs": [
    {
     "data": {
      "text/plain": [
       "1.9751472916456692"
      ]
     },
     "execution_count": 48,
     "metadata": {},
     "output_type": "execute_result"
    }
   ],
   "source": [
    "housing = pd.read_csv('https://raw.githubusercontent.com/Soyoung-Yoon/bigdata/main/housing.csv')\n",
    "# 20640, 16512\n",
    "df = housing.iloc[:int(len(housing) * 0.8), :]\n",
    "s1 = df['total_bedrooms']\n",
    "s2 = df['total_bedrooms'].mask(df['total_bedrooms'].isna(), df['total_bedrooms'].median())\n",
    "s1.std() - s2.std()"
   ]
  },
  {
   "cell_type": "code",
   "execution_count": null,
   "metadata": {},
   "outputs": [],
   "source": [
    "정답 : 1.9751472916456692"
   ]
  },
  {
   "cell_type": "markdown",
   "metadata": {
    "id": "s0Iohr2QC6As"
   },
   "source": [
    "#### 2-3. 하우징 데이터 \n",
    "- 'https://raw.githubusercontent.com/Soyoung-Yoon/bigdata/main/housing.csv' 파일을 사용한다\n",
    "- 하우징 데이터에서 'latitude' 컬럼의 이상치를 찾아 이상치들의 합을 산출하시오.\n",
    "- 이상치 기준 : 평균 - (표준편차 * 1.5), 평균 + (표준편차 * 1.5) "
   ]
  },
  {
   "cell_type": "code",
   "execution_count": null,
   "metadata": {
    "id": "II4-4rISf1Ys"
   },
   "outputs": [],
   "source": [
    "평균 - (표준편차 * 1.5), 평균 + (표준편차 * 1.5)"
   ]
  },
  {
   "cell_type": "code",
   "execution_count": 58,
   "metadata": {
    "id": "qDn-ZVCTAA3J",
    "tags": []
   },
   "outputs": [
    {
     "data": {
      "text/plain": [
       "45815.75"
      ]
     },
     "execution_count": 58,
     "metadata": {},
     "output_type": "execute_result"
    }
   ],
   "source": [
    "housing = pd.read_csv('https://raw.githubusercontent.com/Soyoung-Yoon/bigdata/main/housing.csv')\n",
    "m, s = housing['latitude'].agg(['mean', 'std'])\n",
    "housing.loc[(housing['latitude'] < (m - (1.5 * s))) | (housing['latitude'] > (m + 1.5 * s)), 'latitude'].sum()"
   ]
  },
  {
   "cell_type": "code",
   "execution_count": null,
   "metadata": {},
   "outputs": [],
   "source": [
    "정답: 45815.75"
   ]
  },
  {
   "cell_type": "markdown",
   "metadata": {
    "id": "SxegKonKDHPJ"
   },
   "source": [
    "## 3.기출문제 (빅분기 실기 2회)\n",
    "- 고객 구매 데이터를 사용해서 고객이 주문한 물품이 제 시간에 도착여부(Reached.on.Time_Y.N) 예측\n",
    "- X_train.csv, y_train.csv : 학습 및 학습평가에 사용하는 파일\n",
    "- X_test.csv : 제출용 데이터 생성에 사용하는 파일\n",
    "- roc_score를 사용하여 평가\n",
    "- 아래의 형식으로 submission수험번호.csv 로 저장\n",
    "- Reached.on.Time_Y.N은 제 시간에 도착할 확률\n",
    "        ID,Reached.on.Time_Y.N\n",
    "        7007,0.27419354838709675\n",
    "        9793,0.4883720930232558\n",
    "        6593,0.48174157303370785\n",
    "        10527,0.3657243816254417"
   ]
  },
  {
   "cell_type": "markdown",
   "metadata": {
    "id": "JWKKfomBts23"
   },
   "source": [
    "### 3-01.문제이해"
   ]
  },
  {
   "cell_type": "code",
   "execution_count": null,
   "metadata": {
    "id": "7s5cSk-lrLGh"
   },
   "outputs": [],
   "source": [
    "# https://www.kaggle.com/prachi13/customer-analytics?select=Train.csv\n",
    "# 기출에서 기억나는 것\n",
    "# - 컬럼 중 1개가 숫자형으로 안내 되었는데 info() 결과 object로 표시됨\n",
    "# - head() 로 해서 표시되지 않았음 \n",
    "# - value가 '1', '*7', '4', '9', '*7' 이렇게 되어 있어서 '*'을 제거하고 dtype을 변경해야함"
   ]
  },
  {
   "cell_type": "code",
   "execution_count": 26,
   "metadata": {
    "id": "YvUN8uMwtiQk",
    "tags": []
   },
   "outputs": [
    {
     "data": {
      "text/html": [
       "<div>\n",
       "<style scoped>\n",
       "    .dataframe tbody tr th:only-of-type {\n",
       "        vertical-align: middle;\n",
       "    }\n",
       "\n",
       "    .dataframe tbody tr th {\n",
       "        vertical-align: top;\n",
       "    }\n",
       "\n",
       "    .dataframe thead th {\n",
       "        text-align: right;\n",
       "    }\n",
       "</style>\n",
       "<table border=\"1\" class=\"dataframe\">\n",
       "  <thead>\n",
       "    <tr style=\"text-align: right;\">\n",
       "      <th></th>\n",
       "      <th>rating</th>\n",
       "    </tr>\n",
       "  </thead>\n",
       "  <tbody>\n",
       "    <tr>\n",
       "      <th>0</th>\n",
       "      <td>1</td>\n",
       "    </tr>\n",
       "    <tr>\n",
       "      <th>1</th>\n",
       "      <td>2</td>\n",
       "    </tr>\n",
       "  </tbody>\n",
       "</table>\n",
       "</div>"
      ],
      "text/plain": [
       "  rating\n",
       "0      1\n",
       "1      2"
      ]
     },
     "execution_count": 26,
     "metadata": {},
     "output_type": "execute_result"
    }
   ],
   "source": [
    "import pandas as pd\n",
    "# 이상한 것 확인\n",
    "df = pd.DataFrame({'rating': ['1', '2', '4', '*7', '8', '*7', '3', '5', '2', '*4']})\n",
    "df.head(2)"
   ]
  },
  {
   "cell_type": "code",
   "execution_count": 30,
   "metadata": {
    "id": "SxjNji3PuWf7",
    "tags": []
   },
   "outputs": [
    {
     "name": "stdout",
     "output_type": "stream",
     "text": [
      "<class 'pandas.core.frame.DataFrame'>\n",
      "RangeIndex: 10 entries, 0 to 9\n",
      "Data columns (total 1 columns):\n",
      " #   Column  Non-Null Count  Dtype\n",
      "---  ------  --------------  -----\n",
      " 0   rating  10 non-null     int64\n",
      "dtypes: int64(1)\n",
      "memory usage: 208.0 bytes\n"
     ]
    }
   ],
   "source": [
    "# 해결 방법\n",
    "df['rating'] = df['rating'].replace(r'\\*', '', regex=True).astype('int')\n",
    "df.info()"
   ]
  },
  {
   "cell_type": "markdown",
   "metadata": {
    "id": "NCqn_6zOtyXi"
   },
   "source": [
    "### 3-02.데이터 불러오기, 탐색"
   ]
  },
  {
   "cell_type": "markdown",
   "metadata": {
    "id": "pfVyX6TSu2hl"
   },
   "source": [
    "***pandas의 출력 설정 옵션 다시 확인하세요!***"
   ]
  },
  {
   "cell_type": "code",
   "execution_count": 59,
   "metadata": {
    "id": "ljn7qAfH8uw2",
    "tags": []
   },
   "outputs": [],
   "source": [
    "# [0] 사용 라이브러리 import\n",
    "import pandas as pd\n",
    "\n",
    "# 데이타가 많은경우 모두 출력 안되고 ... 으로 생략해서 출력됨.\n",
    "pd.set_option('display.max_rows',500)    #출력할 max row를 지정\n",
    "pd.set_option('display.max_columns',20)  #출력할 max columns를 지정\n",
    "#출력 format 지정 - 소수점아래 4자리까지\n",
    "pd.set_option('display.float_format', '{:.4f}'.format)"
   ]
  },
  {
   "cell_type": "code",
   "execution_count": 13,
   "metadata": {
    "id": "DwzoupwOlIU3",
    "tags": []
   },
   "outputs": [],
   "source": [
    "# [0] x_train, x_test 데이터로 생성함\n",
    "# 이 부분은 시험에서는 없습니다. 그냥 데이터를 3개로 나누기 위해 사용한 것입니다.\n",
    "from sklearn.model_selection import train_test_split\n",
    "\n",
    "dftot = pd.read_csv('https://raw.githubusercontent.com/Soyoung-Yoon/bigdata/main/1st_Train.csv')\n",
    "x_train, x_test = train_test_split(dftot, test_size=0.4, stratify=dftot['Reached.on.Time_Y.N'], random_state=0)\n",
    "y_train = x_train[['ID', 'Reached.on.Time_Y.N']]\n",
    "x_train = x_train.drop(columns='Reached.on.Time_Y.N')\n",
    "y_test = x_test[['ID', 'Reached.on.Time_Y.N']]   # 이것은 시험에서는 제공되지 않음\n",
    "x_test = x_test.drop(columns='Reached.on.Time_Y.N')\n",
    "\n",
    "x_train.to_csv('x_train.csv', index=False)\n",
    "y_train.to_csv('y_train.csv', index=False)\n",
    "x_test.to_csv('x_test.csv', index=False)\n",
    "y_test.to_csv('y_test.csv', index=False) # 이것은 시험에서는 제공되지 않음"
   ]
  },
  {
   "cell_type": "code",
   "execution_count": 61,
   "metadata": {
    "colab": {
     "base_uri": "https://localhost:8080/"
    },
    "id": "fruyxQw2nDcr",
    "outputId": "98e338ac-3006-44d8-d7c9-6743b95d8721",
    "tags": []
   },
   "outputs": [
    {
     "data": {
      "text/plain": [
       "((6599, 11), (6599, 1), (4400, 11))"
      ]
     },
     "execution_count": 61,
     "metadata": {},
     "output_type": "execute_result"
    }
   ],
   "source": [
    "x_train.shape, y_train.shape, x_test.shape"
   ]
  },
  {
   "cell_type": "code",
   "execution_count": null,
   "metadata": {
    "id": "mNl3dB0VmMxo"
   },
   "outputs": [],
   "source": [
    "# 여기에 문제를 풀이해 보세요!"
   ]
  },
  {
   "cell_type": "markdown",
   "metadata": {},
   "source": [
    "### 데이터 로드"
   ]
  },
  {
   "cell_type": "code",
   "execution_count": 86,
   "metadata": {
    "tags": []
   },
   "outputs": [],
   "source": [
    "import pandas as pd\n",
    "import numpy as np\n",
    "\n",
    "pd.options.display.max_rows = 200\n",
    "pd.options.display.max_columns = 25\n",
    "pd.options.display.float_format = '{:,.4f}'.format"
   ]
  },
  {
   "cell_type": "code",
   "execution_count": 87,
   "metadata": {
    "tags": []
   },
   "outputs": [
    {
     "name": "stdout",
     "output_type": "stream",
     "text": [
      "[(6599, 11), (6599, 2), (4400, 11)]\n"
     ]
    }
   ],
   "source": [
    "X = pd.read_csv('./x_train.csv')\n",
    "Y = pd.read_csv('./y_train.csv')\n",
    "X_submission = pd.read_csv('./x_test.csv')\n",
    "\n",
    "print([x.shape for x in [X, Y, X_submission]])"
   ]
  },
  {
   "cell_type": "markdown",
   "metadata": {},
   "source": [
    "### 데이터 확인 및 탐색"
   ]
  },
  {
   "cell_type": "code",
   "execution_count": 88,
   "metadata": {
    "tags": []
   },
   "outputs": [
    {
     "data": {
      "text/html": [
       "<div>\n",
       "<style scoped>\n",
       "    .dataframe tbody tr th:only-of-type {\n",
       "        vertical-align: middle;\n",
       "    }\n",
       "\n",
       "    .dataframe tbody tr th {\n",
       "        vertical-align: top;\n",
       "    }\n",
       "\n",
       "    .dataframe thead th {\n",
       "        text-align: right;\n",
       "    }\n",
       "</style>\n",
       "<table border=\"1\" class=\"dataframe\">\n",
       "  <thead>\n",
       "    <tr style=\"text-align: right;\">\n",
       "      <th></th>\n",
       "      <th>ID</th>\n",
       "      <th>Warehouse_block</th>\n",
       "      <th>Mode_of_Shipment</th>\n",
       "      <th>Customer_care_calls</th>\n",
       "      <th>Customer_rating</th>\n",
       "      <th>Cost_of_the_Product</th>\n",
       "      <th>Prior_purchases</th>\n",
       "      <th>Product_importance</th>\n",
       "      <th>Gender</th>\n",
       "      <th>Discount_offered</th>\n",
       "      <th>Weight_in_gms</th>\n",
       "    </tr>\n",
       "  </thead>\n",
       "  <tbody>\n",
       "    <tr>\n",
       "      <th>0</th>\n",
       "      <td>9902</td>\n",
       "      <td>F</td>\n",
       "      <td>Ship</td>\n",
       "      <td>3</td>\n",
       "      <td>5</td>\n",
       "      <td>214</td>\n",
       "      <td>2</td>\n",
       "      <td>medium</td>\n",
       "      <td>F</td>\n",
       "      <td>6</td>\n",
       "      <td>4578</td>\n",
       "    </tr>\n",
       "    <tr>\n",
       "      <th>1</th>\n",
       "      <td>9501</td>\n",
       "      <td>A</td>\n",
       "      <td>Ship</td>\n",
       "      <td>4</td>\n",
       "      <td>2</td>\n",
       "      <td>201</td>\n",
       "      <td>3</td>\n",
       "      <td>medium</td>\n",
       "      <td>F</td>\n",
       "      <td>4</td>\n",
       "      <td>4613</td>\n",
       "    </tr>\n",
       "  </tbody>\n",
       "</table>\n",
       "</div>"
      ],
      "text/plain": [
       "     ID Warehouse_block Mode_of_Shipment  Customer_care_calls  \\\n",
       "0  9902               F             Ship                    3   \n",
       "1  9501               A             Ship                    4   \n",
       "\n",
       "   Customer_rating  Cost_of_the_Product  Prior_purchases Product_importance  \\\n",
       "0                5                  214                2             medium   \n",
       "1                2                  201                3             medium   \n",
       "\n",
       "  Gender  Discount_offered  Weight_in_gms  \n",
       "0      F                 6           4578  \n",
       "1      F                 4           4613  "
      ]
     },
     "execution_count": 88,
     "metadata": {},
     "output_type": "execute_result"
    }
   ],
   "source": [
    "X.head(2)"
   ]
  },
  {
   "cell_type": "code",
   "execution_count": 89,
   "metadata": {
    "tags": []
   },
   "outputs": [
    {
     "data": {
      "text/html": [
       "<div>\n",
       "<style scoped>\n",
       "    .dataframe tbody tr th:only-of-type {\n",
       "        vertical-align: middle;\n",
       "    }\n",
       "\n",
       "    .dataframe tbody tr th {\n",
       "        vertical-align: top;\n",
       "    }\n",
       "\n",
       "    .dataframe thead th {\n",
       "        text-align: right;\n",
       "    }\n",
       "</style>\n",
       "<table border=\"1\" class=\"dataframe\">\n",
       "  <thead>\n",
       "    <tr style=\"text-align: right;\">\n",
       "      <th></th>\n",
       "      <th>ID</th>\n",
       "      <th>Reached.on.Time_Y.N</th>\n",
       "    </tr>\n",
       "  </thead>\n",
       "  <tbody>\n",
       "    <tr>\n",
       "      <th>0</th>\n",
       "      <td>9902</td>\n",
       "      <td>0</td>\n",
       "    </tr>\n",
       "    <tr>\n",
       "      <th>1</th>\n",
       "      <td>9501</td>\n",
       "      <td>0</td>\n",
       "    </tr>\n",
       "  </tbody>\n",
       "</table>\n",
       "</div>"
      ],
      "text/plain": [
       "     ID  Reached.on.Time_Y.N\n",
       "0  9902                    0\n",
       "1  9501                    0"
      ]
     },
     "execution_count": 89,
     "metadata": {},
     "output_type": "execute_result"
    }
   ],
   "source": [
    "Y.head(2)"
   ]
  },
  {
   "cell_type": "code",
   "execution_count": 90,
   "metadata": {
    "tags": []
   },
   "outputs": [
    {
     "data": {
      "text/html": [
       "<div>\n",
       "<style scoped>\n",
       "    .dataframe tbody tr th:only-of-type {\n",
       "        vertical-align: middle;\n",
       "    }\n",
       "\n",
       "    .dataframe tbody tr th {\n",
       "        vertical-align: top;\n",
       "    }\n",
       "\n",
       "    .dataframe thead th {\n",
       "        text-align: right;\n",
       "    }\n",
       "</style>\n",
       "<table border=\"1\" class=\"dataframe\">\n",
       "  <thead>\n",
       "    <tr style=\"text-align: right;\">\n",
       "      <th></th>\n",
       "      <th>ID</th>\n",
       "      <th>Warehouse_block</th>\n",
       "      <th>Mode_of_Shipment</th>\n",
       "      <th>Customer_care_calls</th>\n",
       "      <th>Customer_rating</th>\n",
       "      <th>Cost_of_the_Product</th>\n",
       "      <th>Prior_purchases</th>\n",
       "      <th>Product_importance</th>\n",
       "      <th>Gender</th>\n",
       "      <th>Discount_offered</th>\n",
       "      <th>Weight_in_gms</th>\n",
       "    </tr>\n",
       "  </thead>\n",
       "  <tbody>\n",
       "    <tr>\n",
       "      <th>0</th>\n",
       "      <td>7007</td>\n",
       "      <td>C</td>\n",
       "      <td>Ship</td>\n",
       "      <td>4</td>\n",
       "      <td>1</td>\n",
       "      <td>238</td>\n",
       "      <td>3</td>\n",
       "      <td>high</td>\n",
       "      <td>F</td>\n",
       "      <td>4</td>\n",
       "      <td>4910</td>\n",
       "    </tr>\n",
       "    <tr>\n",
       "      <th>1</th>\n",
       "      <td>9793</td>\n",
       "      <td>D</td>\n",
       "      <td>Ship</td>\n",
       "      <td>4</td>\n",
       "      <td>2</td>\n",
       "      <td>245</td>\n",
       "      <td>3</td>\n",
       "      <td>medium</td>\n",
       "      <td>M</td>\n",
       "      <td>1</td>\n",
       "      <td>4731</td>\n",
       "    </tr>\n",
       "  </tbody>\n",
       "</table>\n",
       "</div>"
      ],
      "text/plain": [
       "     ID Warehouse_block Mode_of_Shipment  Customer_care_calls  \\\n",
       "0  7007               C             Ship                    4   \n",
       "1  9793               D             Ship                    4   \n",
       "\n",
       "   Customer_rating  Cost_of_the_Product  Prior_purchases Product_importance  \\\n",
       "0                1                  238                3               high   \n",
       "1                2                  245                3             medium   \n",
       "\n",
       "  Gender  Discount_offered  Weight_in_gms  \n",
       "0      F                 4           4910  \n",
       "1      M                 1           4731  "
      ]
     },
     "execution_count": 90,
     "metadata": {},
     "output_type": "execute_result"
    }
   ],
   "source": [
    "X_submission.head(2)"
   ]
  },
  {
   "cell_type": "code",
   "execution_count": 91,
   "metadata": {
    "tags": []
   },
   "outputs": [],
   "source": [
    "dfX = pd.concat([X, X_submission], axis=0, ignore_index=True)"
   ]
  },
  {
   "cell_type": "code",
   "execution_count": 92,
   "metadata": {
    "tags": []
   },
   "outputs": [
    {
     "name": "stdout",
     "output_type": "stream",
     "text": [
      "<class 'pandas.core.frame.DataFrame'>\n",
      "RangeIndex: 10999 entries, 0 to 10998\n",
      "Data columns (total 11 columns):\n",
      " #   Column               Non-Null Count  Dtype \n",
      "---  ------               --------------  ----- \n",
      " 0   ID                   10999 non-null  int64 \n",
      " 1   Warehouse_block      10999 non-null  object\n",
      " 2   Mode_of_Shipment     10999 non-null  object\n",
      " 3   Customer_care_calls  10999 non-null  int64 \n",
      " 4   Customer_rating      10999 non-null  int64 \n",
      " 5   Cost_of_the_Product  10999 non-null  int64 \n",
      " 6   Prior_purchases      10999 non-null  int64 \n",
      " 7   Product_importance   10999 non-null  object\n",
      " 8   Gender               10999 non-null  object\n",
      " 9   Discount_offered     10999 non-null  int64 \n",
      " 10  Weight_in_gms        10999 non-null  int64 \n",
      "dtypes: int64(7), object(4)\n",
      "memory usage: 945.4+ KB\n"
     ]
    }
   ],
   "source": [
    "dfX.info()"
   ]
  },
  {
   "cell_type": "code",
   "execution_count": 93,
   "metadata": {
    "tags": []
   },
   "outputs": [
    {
     "data": {
      "text/plain": [
       "array(['F', 'A', 'B', 'D', 'C'], dtype=object)"
      ]
     },
     "execution_count": 93,
     "metadata": {},
     "output_type": "execute_result"
    }
   ],
   "source": [
    "dfX['Warehouse_block'].unique()"
   ]
  },
  {
   "cell_type": "code",
   "execution_count": 94,
   "metadata": {
    "tags": []
   },
   "outputs": [
    {
     "data": {
      "text/plain": [
       "array(['Ship', 'Road', 'Flight'], dtype=object)"
      ]
     },
     "execution_count": 94,
     "metadata": {},
     "output_type": "execute_result"
    }
   ],
   "source": [
    "dfX['Mode_of_Shipment'].unique()"
   ]
  },
  {
   "cell_type": "code",
   "execution_count": 95,
   "metadata": {
    "tags": []
   },
   "outputs": [
    {
     "data": {
      "text/plain": [
       "array(['medium', 'low', 'high'], dtype=object)"
      ]
     },
     "execution_count": 95,
     "metadata": {},
     "output_type": "execute_result"
    }
   ],
   "source": [
    "dfX['Product_importance'].unique()"
   ]
  },
  {
   "cell_type": "code",
   "execution_count": 96,
   "metadata": {
    "tags": []
   },
   "outputs": [
    {
     "data": {
      "text/plain": [
       "array(['F', 'M'], dtype=object)"
      ]
     },
     "execution_count": 96,
     "metadata": {},
     "output_type": "execute_result"
    }
   ],
   "source": [
    "dfX['Gender'].unique()"
   ]
  },
  {
   "cell_type": "markdown",
   "metadata": {},
   "source": [
    "### 데이터 전처리"
   ]
  },
  {
   "cell_type": "code",
   "execution_count": 97,
   "metadata": {
    "tags": []
   },
   "outputs": [],
   "source": [
    "dfX['Warehouse_block'] = dfX['Warehouse_block'].astype('category').cat.codes"
   ]
  },
  {
   "cell_type": "code",
   "execution_count": 98,
   "metadata": {
    "tags": []
   },
   "outputs": [],
   "source": [
    "dfX['Mode_of_Shipment'] = dfX['Mode_of_Shipment'].astype('category').cat.codes"
   ]
  },
  {
   "cell_type": "code",
   "execution_count": 99,
   "metadata": {
    "tags": []
   },
   "outputs": [],
   "source": [
    "dfX['Product_importance'] = dfX['Product_importance'].astype('category').cat.codes"
   ]
  },
  {
   "cell_type": "code",
   "execution_count": 100,
   "metadata": {
    "tags": []
   },
   "outputs": [],
   "source": [
    "dfX['Gender'] = dfX['Gender'].astype('category').cat.codes"
   ]
  },
  {
   "cell_type": "code",
   "execution_count": 101,
   "metadata": {
    "tags": []
   },
   "outputs": [
    {
     "name": "stdout",
     "output_type": "stream",
     "text": [
      "<class 'pandas.core.frame.DataFrame'>\n",
      "RangeIndex: 10999 entries, 0 to 10998\n",
      "Data columns (total 11 columns):\n",
      " #   Column               Non-Null Count  Dtype\n",
      "---  ------               --------------  -----\n",
      " 0   ID                   10999 non-null  int64\n",
      " 1   Warehouse_block      10999 non-null  int8 \n",
      " 2   Mode_of_Shipment     10999 non-null  int8 \n",
      " 3   Customer_care_calls  10999 non-null  int64\n",
      " 4   Customer_rating      10999 non-null  int64\n",
      " 5   Cost_of_the_Product  10999 non-null  int64\n",
      " 6   Prior_purchases      10999 non-null  int64\n",
      " 7   Product_importance   10999 non-null  int8 \n",
      " 8   Gender               10999 non-null  int8 \n",
      " 9   Discount_offered     10999 non-null  int64\n",
      " 10  Weight_in_gms        10999 non-null  int64\n",
      "dtypes: int64(7), int8(4)\n",
      "memory usage: 644.6 KB\n"
     ]
    }
   ],
   "source": [
    "dfX.info()"
   ]
  },
  {
   "cell_type": "markdown",
   "metadata": {},
   "source": [
    "### 상관관계 분석"
   ]
  },
  {
   "cell_type": "code",
   "execution_count": 102,
   "metadata": {
    "tags": []
   },
   "outputs": [
    {
     "name": "stdout",
     "output_type": "stream",
     "text": [
      "[(6599, 12), (10999, 11), (6599, 2)]\n"
     ]
    }
   ],
   "source": [
    "dfXY = pd.merge(dfX, Y)\n",
    "print([x.shape for x in [dfXY, dfX, Y]])"
   ]
  },
  {
   "cell_type": "code",
   "execution_count": 103,
   "metadata": {
    "tags": []
   },
   "outputs": [
    {
     "name": "stdout",
     "output_type": "stream",
     "text": [
      "<class 'pandas.core.frame.DataFrame'>\n",
      "Int64Index: 6599 entries, 0 to 6598\n",
      "Data columns (total 12 columns):\n",
      " #   Column               Non-Null Count  Dtype\n",
      "---  ------               --------------  -----\n",
      " 0   ID                   6599 non-null   int64\n",
      " 1   Warehouse_block      6599 non-null   int8 \n",
      " 2   Mode_of_Shipment     6599 non-null   int8 \n",
      " 3   Customer_care_calls  6599 non-null   int64\n",
      " 4   Customer_rating      6599 non-null   int64\n",
      " 5   Cost_of_the_Product  6599 non-null   int64\n",
      " 6   Prior_purchases      6599 non-null   int64\n",
      " 7   Product_importance   6599 non-null   int8 \n",
      " 8   Gender               6599 non-null   int8 \n",
      " 9   Discount_offered     6599 non-null   int64\n",
      " 10  Weight_in_gms        6599 non-null   int64\n",
      " 11  Reached.on.Time_Y.N  6599 non-null   int64\n",
      "dtypes: int64(8), int8(4)\n",
      "memory usage: 489.8 KB\n"
     ]
    }
   ],
   "source": [
    "dfXY.info()"
   ]
  },
  {
   "cell_type": "code",
   "execution_count": 104,
   "metadata": {
    "tags": []
   },
   "outputs": [
    {
     "data": {
      "text/plain": [
       "ID                    -0.4034\n",
       "Warehouse_block       -0.0040\n",
       "Mode_of_Shipment       0.0006\n",
       "Customer_care_calls   -0.0712\n",
       "Customer_rating        0.0227\n",
       "Cost_of_the_Product   -0.0726\n",
       "Prior_purchases       -0.0617\n",
       "Product_importance    -0.0156\n",
       "Gender                 0.0074\n",
       "Discount_offered       0.3941\n",
       "Weight_in_gms         -0.2745\n",
       "Reached.on.Time_Y.N    1.0000\n",
       "Name: Reached.on.Time_Y.N, dtype: float64"
      ]
     },
     "execution_count": 104,
     "metadata": {},
     "output_type": "execute_result"
    }
   ],
   "source": [
    "dfXY.corr(numeric_only=True)['Reached.on.Time_Y.N']"
   ]
  },
  {
   "cell_type": "markdown",
   "metadata": {},
   "source": [
    "### 모델링"
   ]
  },
  {
   "cell_type": "code",
   "execution_count": 105,
   "metadata": {
    "tags": []
   },
   "outputs": [],
   "source": [
    "from sklearn.metrics import roc_auc_score\n",
    "\n",
    "from sklearn.linear_model import LogisticRegression\n",
    "from sklearn.neighbors import KNeighborsClassifier\n",
    "from sklearn.tree import DecisionTreeClassifier\n",
    "from sklearn.ensemble import RandomForestClassifier\n",
    "from xgboost import XGBClassifier\n",
    "\n",
    "from sklearn.model_selection import train_test_split, GridSearchCV\n",
    "from sklearn.preprocessing import MinMaxScaler, StandardScaler"
   ]
  },
  {
   "cell_type": "code",
   "execution_count": 106,
   "metadata": {
    "tags": []
   },
   "outputs": [],
   "source": [
    "def get_model_scores(model, xtrain, xtest, ytrain, ytest):\n",
    "    A1 = model.score(xtrain, ytrain)\n",
    "    A2 = model.score(xtest, ytest)\n",
    "    \n",
    "    ypred = model.predict_proba(xtest)[:, 1]\n",
    "    ROC_AUC = roc_auc_score(ytest, ypred)\n",
    "    \n",
    "    score_values = [ round(x, 4) for x in [A1, A2, ROC_AUC] ]\n",
    "    \n",
    "    scores = pd.Series(data=score_values, index='TRAIN TEST ROC_AUC'.split())\n",
    "    return scores"
   ]
  },
  {
   "cell_type": "code",
   "execution_count": 128,
   "metadata": {
    "tags": []
   },
   "outputs": [],
   "source": [
    "def compare_model(xtrain, xtest, ytrain, ytest):\n",
    "    result = pd.DataFrame()\n",
    "    \n",
    "    model = LogisticRegression(random_state=0).fit(xtrain, ytrain)\n",
    "    result[model.__class__.__name__] = get_model_scores(model, xtrain, xtest, ytrain, ytest)\n",
    "    \n",
    "    for m in range(100, 1001, 100):\n",
    "        model = LogisticRegression(max_iter=m, random_state=0).fit(xtrain, ytrain)\n",
    "        result[f'{model.__class__.__name__}_{m}'] = get_model_scores(model, xtrain, xtest, ytrain, ytest)    \n",
    "    \n",
    "    model = KNeighborsClassifier().fit(xtrain, ytrain)\n",
    "    result[model.__class__.__name__] = get_model_scores(model, xtrain, xtest, ytrain, ytest)\n",
    "    \n",
    "    for n in range(3, 10):\n",
    "        model = KNeighborsClassifier(n_neighbors=n).fit(xtrain, ytrain)\n",
    "        result[f'{model.__class__.__name__}_{n}'] = get_model_scores(model, xtrain, xtest, ytrain, ytest)\n",
    "        \n",
    "    model = DecisionTreeClassifier(random_state=0).fit(xtrain, ytrain)\n",
    "    result[model.__class__.__name__] = get_model_scores(model, xtrain, xtest, ytrain, ytest)\n",
    "    \n",
    "    for d in range(3, 10):\n",
    "        model = DecisionTreeClassifier(max_depth=d, random_state=0).fit(xtrain, ytrain)\n",
    "        result[f'{model.__class__.__name__}_{d}'] = get_model_scores(model, xtrain, xtest, ytrain, ytest)\n",
    "    \n",
    "    model = RandomForestClassifier(random_state=0).fit(xtrain, ytrain)\n",
    "    result[model.__class__.__name__] = get_model_scores(model, xtrain, xtest, ytrain, ytest)\n",
    "    \n",
    "    for d in range(3, 10):\n",
    "        model = RandomForestClassifier(max_depth=d, random_state=0).fit(xtrain, ytrain)\n",
    "        result[f'{model.__class__.__name__}_{d}'] = get_model_scores(model, xtrain, xtest, ytrain, ytest)\n",
    "    \n",
    "    model = XGBClassifier(random_state=0).fit(xtrain, ytrain)\n",
    "    result[model.__class__.__name__] = get_model_scores(model, xtrain, xtest, ytrain, ytest)\n",
    "    \n",
    "    result = result.transpose()\n",
    "    result.insert(loc=2, column='DIFF', value=(result['TRAIN'] - result['TEST']).abs())\n",
    "    \n",
    "    return result"
   ]
  },
  {
   "cell_type": "code",
   "execution_count": 108,
   "metadata": {
    "tags": []
   },
   "outputs": [],
   "source": [
    "def get_model_data(dfX, Y, is_regularized=False):\n",
    "    X_temp = dfX.drop(columns='ID')\n",
    "    YF = Y['Reached.on.Time_Y.N']\n",
    "    \n",
    "    if is_regularized:\n",
    "        X_temp = MinMaxScaler().fit_transform(X_temp)\n",
    "        \n",
    "    XF = X_temp[:len(YF)]\n",
    "    X_submissionF = X_temp[len(YF):]\n",
    "    \n",
    "    return XF, X_submissionF, YF"
   ]
  },
  {
   "cell_type": "code",
   "execution_count": 109,
   "metadata": {
    "tags": []
   },
   "outputs": [
    {
     "name": "stdout",
     "output_type": "stream",
     "text": [
      "[(6599, 10), (6599,), (4400, 10), (10999, 11), (6599, 2)]\n"
     ]
    }
   ],
   "source": [
    "XF, X_submissionF, YF = get_model_data(dfX, Y, is_regularized=False)\n",
    "xtrain, xtest, ytrain, ytest = train_test_split(XF, YF, test_size=0.3, random_state=1234, stratify=YF)\n",
    "print([x.shape for x in [XF, YF, X_submissionF, dfX, Y]])"
   ]
  },
  {
   "cell_type": "code",
   "execution_count": 130,
   "metadata": {
    "tags": []
   },
   "outputs": [],
   "source": [
    "result = compare_model(xtrain, xtest, ytrain, ytest)"
   ]
  },
  {
   "cell_type": "code",
   "execution_count": 131,
   "metadata": {
    "tags": []
   },
   "outputs": [
    {
     "data": {
      "text/html": [
       "<div>\n",
       "<style scoped>\n",
       "    .dataframe tbody tr th:only-of-type {\n",
       "        vertical-align: middle;\n",
       "    }\n",
       "\n",
       "    .dataframe tbody tr th {\n",
       "        vertical-align: top;\n",
       "    }\n",
       "\n",
       "    .dataframe thead th {\n",
       "        text-align: right;\n",
       "    }\n",
       "</style>\n",
       "<table border=\"1\" class=\"dataframe\">\n",
       "  <thead>\n",
       "    <tr style=\"text-align: right;\">\n",
       "      <th></th>\n",
       "      <th>TRAIN</th>\n",
       "      <th>TEST</th>\n",
       "      <th>DIFF</th>\n",
       "      <th>ROC_AUC</th>\n",
       "    </tr>\n",
       "  </thead>\n",
       "  <tbody>\n",
       "    <tr>\n",
       "      <th>LogisticRegression</th>\n",
       "      <td>0.6454</td>\n",
       "      <td>0.6343</td>\n",
       "      <td>0.0111</td>\n",
       "      <td>0.7120</td>\n",
       "    </tr>\n",
       "    <tr>\n",
       "      <th>LogisticRegression_100</th>\n",
       "      <td>0.6454</td>\n",
       "      <td>0.6343</td>\n",
       "      <td>0.0111</td>\n",
       "      <td>0.7120</td>\n",
       "    </tr>\n",
       "    <tr>\n",
       "      <th>LogisticRegression_200</th>\n",
       "      <td>0.6454</td>\n",
       "      <td>0.6343</td>\n",
       "      <td>0.0111</td>\n",
       "      <td>0.7120</td>\n",
       "    </tr>\n",
       "    <tr>\n",
       "      <th>LogisticRegression_300</th>\n",
       "      <td>0.6454</td>\n",
       "      <td>0.6343</td>\n",
       "      <td>0.0111</td>\n",
       "      <td>0.7120</td>\n",
       "    </tr>\n",
       "    <tr>\n",
       "      <th>LogisticRegression_400</th>\n",
       "      <td>0.6454</td>\n",
       "      <td>0.6343</td>\n",
       "      <td>0.0111</td>\n",
       "      <td>0.7120</td>\n",
       "    </tr>\n",
       "    <tr>\n",
       "      <th>LogisticRegression_500</th>\n",
       "      <td>0.6454</td>\n",
       "      <td>0.6343</td>\n",
       "      <td>0.0111</td>\n",
       "      <td>0.7120</td>\n",
       "    </tr>\n",
       "    <tr>\n",
       "      <th>LogisticRegression_600</th>\n",
       "      <td>0.6454</td>\n",
       "      <td>0.6343</td>\n",
       "      <td>0.0111</td>\n",
       "      <td>0.7120</td>\n",
       "    </tr>\n",
       "    <tr>\n",
       "      <th>LogisticRegression_700</th>\n",
       "      <td>0.6454</td>\n",
       "      <td>0.6343</td>\n",
       "      <td>0.0111</td>\n",
       "      <td>0.7120</td>\n",
       "    </tr>\n",
       "    <tr>\n",
       "      <th>LogisticRegression_800</th>\n",
       "      <td>0.6454</td>\n",
       "      <td>0.6343</td>\n",
       "      <td>0.0111</td>\n",
       "      <td>0.7120</td>\n",
       "    </tr>\n",
       "    <tr>\n",
       "      <th>LogisticRegression_900</th>\n",
       "      <td>0.6454</td>\n",
       "      <td>0.6343</td>\n",
       "      <td>0.0111</td>\n",
       "      <td>0.7120</td>\n",
       "    </tr>\n",
       "    <tr>\n",
       "      <th>LogisticRegression_1000</th>\n",
       "      <td>0.6454</td>\n",
       "      <td>0.6343</td>\n",
       "      <td>0.0111</td>\n",
       "      <td>0.7120</td>\n",
       "    </tr>\n",
       "    <tr>\n",
       "      <th>KNeighborsClassifier</th>\n",
       "      <td>0.7818</td>\n",
       "      <td>0.6515</td>\n",
       "      <td>0.1303</td>\n",
       "      <td>0.7329</td>\n",
       "    </tr>\n",
       "    <tr>\n",
       "      <th>KNeighborsClassifier_3</th>\n",
       "      <td>0.8151</td>\n",
       "      <td>0.6449</td>\n",
       "      <td>0.1702</td>\n",
       "      <td>0.7101</td>\n",
       "    </tr>\n",
       "    <tr>\n",
       "      <th>KNeighborsClassifier_4</th>\n",
       "      <td>0.7774</td>\n",
       "      <td>0.6591</td>\n",
       "      <td>0.1183</td>\n",
       "      <td>0.7216</td>\n",
       "    </tr>\n",
       "    <tr>\n",
       "      <th>KNeighborsClassifier_5</th>\n",
       "      <td>0.7818</td>\n",
       "      <td>0.6515</td>\n",
       "      <td>0.1303</td>\n",
       "      <td>0.7329</td>\n",
       "    </tr>\n",
       "    <tr>\n",
       "      <th>KNeighborsClassifier_6</th>\n",
       "      <td>0.7567</td>\n",
       "      <td>0.6677</td>\n",
       "      <td>0.0890</td>\n",
       "      <td>0.7445</td>\n",
       "    </tr>\n",
       "    <tr>\n",
       "      <th>KNeighborsClassifier_7</th>\n",
       "      <td>0.7610</td>\n",
       "      <td>0.6646</td>\n",
       "      <td>0.0964</td>\n",
       "      <td>0.7487</td>\n",
       "    </tr>\n",
       "    <tr>\n",
       "      <th>KNeighborsClassifier_8</th>\n",
       "      <td>0.7499</td>\n",
       "      <td>0.6692</td>\n",
       "      <td>0.0807</td>\n",
       "      <td>0.7469</td>\n",
       "    </tr>\n",
       "    <tr>\n",
       "      <th>KNeighborsClassifier_9</th>\n",
       "      <td>0.7523</td>\n",
       "      <td>0.6601</td>\n",
       "      <td>0.0922</td>\n",
       "      <td>0.7427</td>\n",
       "    </tr>\n",
       "    <tr>\n",
       "      <th>DecisionTreeClassifier</th>\n",
       "      <td>1.0000</td>\n",
       "      <td>0.6283</td>\n",
       "      <td>0.3717</td>\n",
       "      <td>0.6131</td>\n",
       "    </tr>\n",
       "    <tr>\n",
       "      <th>DecisionTreeClassifier_3</th>\n",
       "      <td>0.6802</td>\n",
       "      <td>0.6682</td>\n",
       "      <td>0.0120</td>\n",
       "      <td>0.7368</td>\n",
       "    </tr>\n",
       "    <tr>\n",
       "      <th>DecisionTreeClassifier_4</th>\n",
       "      <td>0.6885</td>\n",
       "      <td>0.6758</td>\n",
       "      <td>0.0127</td>\n",
       "      <td>0.7391</td>\n",
       "    </tr>\n",
       "    <tr>\n",
       "      <th>DecisionTreeClassifier_5</th>\n",
       "      <td>0.6993</td>\n",
       "      <td>0.6732</td>\n",
       "      <td>0.0261</td>\n",
       "      <td>0.7380</td>\n",
       "    </tr>\n",
       "    <tr>\n",
       "      <th>DecisionTreeClassifier_6</th>\n",
       "      <td>0.7058</td>\n",
       "      <td>0.6742</td>\n",
       "      <td>0.0316</td>\n",
       "      <td>0.7366</td>\n",
       "    </tr>\n",
       "    <tr>\n",
       "      <th>DecisionTreeClassifier_7</th>\n",
       "      <td>0.7147</td>\n",
       "      <td>0.6722</td>\n",
       "      <td>0.0425</td>\n",
       "      <td>0.7325</td>\n",
       "    </tr>\n",
       "    <tr>\n",
       "      <th>DecisionTreeClassifier_8</th>\n",
       "      <td>0.7279</td>\n",
       "      <td>0.6530</td>\n",
       "      <td>0.0749</td>\n",
       "      <td>0.7134</td>\n",
       "    </tr>\n",
       "    <tr>\n",
       "      <th>DecisionTreeClassifier_9</th>\n",
       "      <td>0.7435</td>\n",
       "      <td>0.6551</td>\n",
       "      <td>0.0884</td>\n",
       "      <td>0.7086</td>\n",
       "    </tr>\n",
       "    <tr>\n",
       "      <th>RandomForestClassifier</th>\n",
       "      <td>1.0000</td>\n",
       "      <td>0.6561</td>\n",
       "      <td>0.3439</td>\n",
       "      <td>0.7263</td>\n",
       "    </tr>\n",
       "    <tr>\n",
       "      <th>RandomForestClassifier_3</th>\n",
       "      <td>0.6841</td>\n",
       "      <td>0.6601</td>\n",
       "      <td>0.0240</td>\n",
       "      <td>0.7289</td>\n",
       "    </tr>\n",
       "    <tr>\n",
       "      <th>RandomForestClassifier_4</th>\n",
       "      <td>0.6991</td>\n",
       "      <td>0.6712</td>\n",
       "      <td>0.0279</td>\n",
       "      <td>0.7313</td>\n",
       "    </tr>\n",
       "    <tr>\n",
       "      <th>RandomForestClassifier_5</th>\n",
       "      <td>0.7101</td>\n",
       "      <td>0.6667</td>\n",
       "      <td>0.0434</td>\n",
       "      <td>0.7324</td>\n",
       "    </tr>\n",
       "    <tr>\n",
       "      <th>RandomForestClassifier_6</th>\n",
       "      <td>0.7201</td>\n",
       "      <td>0.6677</td>\n",
       "      <td>0.0524</td>\n",
       "      <td>0.7288</td>\n",
       "    </tr>\n",
       "    <tr>\n",
       "      <th>RandomForestClassifier_7</th>\n",
       "      <td>0.7489</td>\n",
       "      <td>0.6702</td>\n",
       "      <td>0.0787</td>\n",
       "      <td>0.7309</td>\n",
       "    </tr>\n",
       "    <tr>\n",
       "      <th>RandomForestClassifier_8</th>\n",
       "      <td>0.7794</td>\n",
       "      <td>0.6697</td>\n",
       "      <td>0.1097</td>\n",
       "      <td>0.7316</td>\n",
       "    </tr>\n",
       "    <tr>\n",
       "      <th>RandomForestClassifier_9</th>\n",
       "      <td>0.8251</td>\n",
       "      <td>0.6636</td>\n",
       "      <td>0.1615</td>\n",
       "      <td>0.7291</td>\n",
       "    </tr>\n",
       "    <tr>\n",
       "      <th>XGBClassifier</th>\n",
       "      <td>0.9411</td>\n",
       "      <td>0.6520</td>\n",
       "      <td>0.2891</td>\n",
       "      <td>0.7357</td>\n",
       "    </tr>\n",
       "  </tbody>\n",
       "</table>\n",
       "</div>"
      ],
      "text/plain": [
       "                          TRAIN   TEST   DIFF  ROC_AUC\n",
       "LogisticRegression       0.6454 0.6343 0.0111   0.7120\n",
       "LogisticRegression_100   0.6454 0.6343 0.0111   0.7120\n",
       "LogisticRegression_200   0.6454 0.6343 0.0111   0.7120\n",
       "LogisticRegression_300   0.6454 0.6343 0.0111   0.7120\n",
       "LogisticRegression_400   0.6454 0.6343 0.0111   0.7120\n",
       "LogisticRegression_500   0.6454 0.6343 0.0111   0.7120\n",
       "LogisticRegression_600   0.6454 0.6343 0.0111   0.7120\n",
       "LogisticRegression_700   0.6454 0.6343 0.0111   0.7120\n",
       "LogisticRegression_800   0.6454 0.6343 0.0111   0.7120\n",
       "LogisticRegression_900   0.6454 0.6343 0.0111   0.7120\n",
       "LogisticRegression_1000  0.6454 0.6343 0.0111   0.7120\n",
       "KNeighborsClassifier     0.7818 0.6515 0.1303   0.7329\n",
       "KNeighborsClassifier_3   0.8151 0.6449 0.1702   0.7101\n",
       "KNeighborsClassifier_4   0.7774 0.6591 0.1183   0.7216\n",
       "KNeighborsClassifier_5   0.7818 0.6515 0.1303   0.7329\n",
       "KNeighborsClassifier_6   0.7567 0.6677 0.0890   0.7445\n",
       "KNeighborsClassifier_7   0.7610 0.6646 0.0964   0.7487\n",
       "KNeighborsClassifier_8   0.7499 0.6692 0.0807   0.7469\n",
       "KNeighborsClassifier_9   0.7523 0.6601 0.0922   0.7427\n",
       "DecisionTreeClassifier   1.0000 0.6283 0.3717   0.6131\n",
       "DecisionTreeClassifier_3 0.6802 0.6682 0.0120   0.7368\n",
       "DecisionTreeClassifier_4 0.6885 0.6758 0.0127   0.7391\n",
       "DecisionTreeClassifier_5 0.6993 0.6732 0.0261   0.7380\n",
       "DecisionTreeClassifier_6 0.7058 0.6742 0.0316   0.7366\n",
       "DecisionTreeClassifier_7 0.7147 0.6722 0.0425   0.7325\n",
       "DecisionTreeClassifier_8 0.7279 0.6530 0.0749   0.7134\n",
       "DecisionTreeClassifier_9 0.7435 0.6551 0.0884   0.7086\n",
       "RandomForestClassifier   1.0000 0.6561 0.3439   0.7263\n",
       "RandomForestClassifier_3 0.6841 0.6601 0.0240   0.7289\n",
       "RandomForestClassifier_4 0.6991 0.6712 0.0279   0.7313\n",
       "RandomForestClassifier_5 0.7101 0.6667 0.0434   0.7324\n",
       "RandomForestClassifier_6 0.7201 0.6677 0.0524   0.7288\n",
       "RandomForestClassifier_7 0.7489 0.6702 0.0787   0.7309\n",
       "RandomForestClassifier_8 0.7794 0.6697 0.1097   0.7316\n",
       "RandomForestClassifier_9 0.8251 0.6636 0.1615   0.7291\n",
       "XGBClassifier            0.9411 0.6520 0.2891   0.7357"
      ]
     },
     "execution_count": 131,
     "metadata": {},
     "output_type": "execute_result"
    }
   ],
   "source": [
    "# result.sort_values(['ROC_AUC', 'DIFF'], ascending=False)\n",
    "# result.loc[result['TEST'] > 0.65]\n",
    "result"
   ]
  },
  {
   "cell_type": "code",
   "execution_count": 112,
   "metadata": {},
   "outputs": [],
   "source": [
    "# KNeighborsClassifier_7\t0.7610\t0.6646\t0.0964\t0.7487\n",
    "# XGBClassifier\t0.9411\t0.6520\t0.2891\t0.7357"
   ]
  },
  {
   "cell_type": "code",
   "execution_count": 113,
   "metadata": {
    "tags": []
   },
   "outputs": [
    {
     "name": "stdout",
     "output_type": "stream",
     "text": [
      "TRAIN     0.9411\n",
      "TEST      0.6520\n",
      "ROC_AUC   0.7357\n",
      "dtype: float64\n"
     ]
    }
   ],
   "source": [
    "model = XGBClassifier(random_state=0).fit(xtrain, ytrain)\n",
    "print(get_model_scores(model, xtrain, xtest, ytrain, ytest))"
   ]
  },
  {
   "cell_type": "code",
   "execution_count": 117,
   "metadata": {},
   "outputs": [],
   "source": [
    "pred = model.predict_proba(X_submissionF)[:, 1]\n",
    "submission = pd.DataFrame({'ID': X_submission['ID'], \n",
    "                           'Reached.on.Time_Y.N': pred})\n",
    "submission.to_csv('./01029120956.csv', index=False)"
   ]
  },
  {
   "cell_type": "markdown",
   "metadata": {},
   "source": [
    "### 정답과 비교"
   ]
  },
  {
   "cell_type": "code",
   "execution_count": 119,
   "metadata": {
    "tags": []
   },
   "outputs": [
    {
     "data": {
      "text/html": [
       "<div>\n",
       "<style scoped>\n",
       "    .dataframe tbody tr th:only-of-type {\n",
       "        vertical-align: middle;\n",
       "    }\n",
       "\n",
       "    .dataframe tbody tr th {\n",
       "        vertical-align: top;\n",
       "    }\n",
       "\n",
       "    .dataframe thead th {\n",
       "        text-align: right;\n",
       "    }\n",
       "</style>\n",
       "<table border=\"1\" class=\"dataframe\">\n",
       "  <thead>\n",
       "    <tr style=\"text-align: right;\">\n",
       "      <th></th>\n",
       "      <th>ID</th>\n",
       "      <th>Reached.on.Time_Y.N</th>\n",
       "    </tr>\n",
       "  </thead>\n",
       "  <tbody>\n",
       "    <tr>\n",
       "      <th>0</th>\n",
       "      <td>7007</td>\n",
       "      <td>0</td>\n",
       "    </tr>\n",
       "    <tr>\n",
       "      <th>1</th>\n",
       "      <td>9793</td>\n",
       "      <td>1</td>\n",
       "    </tr>\n",
       "  </tbody>\n",
       "</table>\n",
       "</div>"
      ],
      "text/plain": [
       "     ID  Reached.on.Time_Y.N\n",
       "0  7007                    0\n",
       "1  9793                    1"
      ]
     },
     "execution_count": 119,
     "metadata": {},
     "output_type": "execute_result"
    }
   ],
   "source": [
    "Y_true = pd.read_csv('./y_test.csv')\n",
    "Y_true.head(2)"
   ]
  },
  {
   "cell_type": "code",
   "execution_count": 120,
   "metadata": {
    "tags": []
   },
   "outputs": [],
   "source": [
    "pred = model.predict(X_submissionF)\n",
    "Y_predict = pd.DataFrame({'ID': X_submission['ID'], \n",
    "                           'Reached.on.Time_Y.N': pred})"
   ]
  },
  {
   "cell_type": "code",
   "execution_count": 121,
   "metadata": {
    "tags": []
   },
   "outputs": [
    {
     "data": {
      "text/html": [
       "<div>\n",
       "<style scoped>\n",
       "    .dataframe tbody tr th:only-of-type {\n",
       "        vertical-align: middle;\n",
       "    }\n",
       "\n",
       "    .dataframe tbody tr th {\n",
       "        vertical-align: top;\n",
       "    }\n",
       "\n",
       "    .dataframe thead th {\n",
       "        text-align: right;\n",
       "    }\n",
       "</style>\n",
       "<table border=\"1\" class=\"dataframe\">\n",
       "  <thead>\n",
       "    <tr style=\"text-align: right;\">\n",
       "      <th></th>\n",
       "      <th>ID</th>\n",
       "      <th>Reached.on.Time_Y.N</th>\n",
       "    </tr>\n",
       "  </thead>\n",
       "  <tbody>\n",
       "    <tr>\n",
       "      <th>0</th>\n",
       "      <td>7007</td>\n",
       "      <td>0</td>\n",
       "    </tr>\n",
       "    <tr>\n",
       "      <th>1</th>\n",
       "      <td>9793</td>\n",
       "      <td>0</td>\n",
       "    </tr>\n",
       "  </tbody>\n",
       "</table>\n",
       "</div>"
      ],
      "text/plain": [
       "     ID  Reached.on.Time_Y.N\n",
       "0  7007                    0\n",
       "1  9793                    0"
      ]
     },
     "execution_count": 121,
     "metadata": {},
     "output_type": "execute_result"
    }
   ],
   "source": [
    "Y_predict.head(2)"
   ]
  },
  {
   "cell_type": "code",
   "execution_count": 123,
   "metadata": {
    "tags": []
   },
   "outputs": [],
   "source": [
    "from sklearn.metrics import accuracy_score, precision_score, recall_score, confusion_matrix"
   ]
  },
  {
   "cell_type": "code",
   "execution_count": 124,
   "metadata": {
    "tags": []
   },
   "outputs": [
    {
     "data": {
      "text/plain": [
       "array([[1138,  637],\n",
       "       [ 852, 1773]])"
      ]
     },
     "execution_count": 124,
     "metadata": {},
     "output_type": "execute_result"
    }
   ],
   "source": [
    "confusion_matrix(Y_true['Reached.on.Time_Y.N'], Y_predict['Reached.on.Time_Y.N'])"
   ]
  },
  {
   "cell_type": "code",
   "execution_count": 132,
   "metadata": {
    "tags": []
   },
   "outputs": [
    {
     "data": {
      "text/plain": [
       "0.6616"
      ]
     },
     "execution_count": 132,
     "metadata": {},
     "output_type": "execute_result"
    }
   ],
   "source": [
    "accuracy_score(Y_true['Reached.on.Time_Y.N'], Y_predict['Reached.on.Time_Y.N']).round(4)"
   ]
  },
  {
   "cell_type": "code",
   "execution_count": 133,
   "metadata": {
    "tags": []
   },
   "outputs": [
    {
     "data": {
      "text/plain": [
       "0.7357"
      ]
     },
     "execution_count": 133,
     "metadata": {},
     "output_type": "execute_result"
    }
   ],
   "source": [
    "precision_score(Y_true['Reached.on.Time_Y.N'], Y_predict['Reached.on.Time_Y.N']).round(4)"
   ]
  },
  {
   "cell_type": "code",
   "execution_count": 134,
   "metadata": {
    "tags": []
   },
   "outputs": [
    {
     "data": {
      "text/plain": [
       "0.6754"
      ]
     },
     "execution_count": 134,
     "metadata": {},
     "output_type": "execute_result"
    }
   ],
   "source": [
    "recall_score(Y_true['Reached.on.Time_Y.N'], Y_predict['Reached.on.Time_Y.N']).round(4)"
   ]
  },
  {
   "cell_type": "code",
   "execution_count": null,
   "metadata": {},
   "outputs": [],
   "source": []
  }
 ],
 "metadata": {
  "colab": {
   "collapsed_sections": [
    "fepF01fW_Mki",
    "uMhxcUyi_UJQ",
    "KMHZMoow_ekq",
    "UZgAmIsP_0SU",
    "PiwGuNDb_3iv",
    "9D8QN5a5AJgn",
    "KfMgiog6AVPO"
   ],
   "provenance": [],
   "toc_visible": true
  },
  "kernelspec": {
   "display_name": "Python 3 (ipykernel)",
   "language": "python",
   "name": "python3"
  },
  "language_info": {
   "codemirror_mode": {
    "name": "ipython",
    "version": 3
   },
   "file_extension": ".py",
   "mimetype": "text/x-python",
   "name": "python",
   "nbconvert_exporter": "python",
   "pygments_lexer": "ipython3",
   "version": "3.8.16"
  }
 },
 "nbformat": 4,
 "nbformat_minor": 4
}
