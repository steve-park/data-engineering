{
  "nbformat": 4,
  "nbformat_minor": 0,
  "metadata": {
    "colab": {
      "provenance": []
    },
    "kernelspec": {
      "name": "python3",
      "display_name": "Python 3"
    },
    "language_info": {
      "name": "python"
    }
  },
  "cells": [
    {
      "cell_type": "markdown",
      "source": [
        "### 5회 기출 - 작업2유형\n",
        "- 벤츠 차량 가격 예측 : https://www.kaggle.com/datasets/mysarahmadbhat/mercedes-used-car-listing \n",
        "- train = https://raw.githubusercontent.com/Datamanim/datarepo/main/krdatacertificate/e5_p2_train_.csv \n",
        "- test = https://raw.githubusercontent.com/Datamanim/datarepo/main/krdatacertificate/e5_p2_test_.csv\n",
        "- 예측 변수 price, test.csv에 대해 price 값을 예측하여 제출, 제출 데이터 컬럼은 price만 존재해야함.\n",
        "- 평가지표는 rmse"
      ],
      "metadata": {
        "id": "c-muYI4j4Mzx"
      }
    },
    {
      "cell_type": "code",
      "source": [
        "import pandas as pd\n",
        "\n",
        "train = pd.read_csv('https://raw.githubusercontent.com/Datamanim/datarepo/main/krdatacertificate/e5_p2_train_.csv')\n",
        "test = pd.read_csv('https://raw.githubusercontent.com/Datamanim/datarepo/main/krdatacertificate/e5_p2_test_.csv')\n",
        "\n",
        "train.to_csv('train.csv', index=False)\n",
        "test.to_csv('test.csv', index=False)"
      ],
      "metadata": {
        "id": "bRagKNc141Fn"
      },
      "execution_count": null,
      "outputs": []
    },
    {
      "cell_type": "markdown",
      "source": [
        "풀이!"
      ],
      "metadata": {
        "id": "oWU4iuMD6h5N"
      }
    },
    {
      "cell_type": "code",
      "source": [
        "import sklearn.metrics\n",
        "print(dir(sklearn.metrics))"
      ],
      "metadata": {
        "colab": {
          "base_uri": "https://localhost:8080/"
        },
        "id": "uNudCpigimMY",
        "outputId": "73adae81-0503-4f98-9c76-66f2cf3e25d4"
      },
      "execution_count": null,
      "outputs": [
        {
          "output_type": "stream",
          "name": "stdout",
          "text": [
            "['ConfusionMatrixDisplay', 'DetCurveDisplay', 'DistanceMetric', 'PrecisionRecallDisplay', 'PredictionErrorDisplay', 'RocCurveDisplay', 'SCORERS', '__all__', '__builtins__', '__cached__', '__doc__', '__file__', '__loader__', '__name__', '__package__', '__path__', '__spec__', '_base', '_classification', '_dist_metrics', '_pairwise_distances_reduction', '_pairwise_fast', '_plot', '_ranking', '_regression', '_scorer', 'accuracy_score', 'adjusted_mutual_info_score', 'adjusted_rand_score', 'auc', 'average_precision_score', 'balanced_accuracy_score', 'brier_score_loss', 'calinski_harabasz_score', 'check_scoring', 'class_likelihood_ratios', 'classification_report', 'cluster', 'cohen_kappa_score', 'completeness_score', 'confusion_matrix', 'consensus_score', 'coverage_error', 'd2_absolute_error_score', 'd2_pinball_score', 'd2_tweedie_score', 'davies_bouldin_score', 'dcg_score', 'det_curve', 'euclidean_distances', 'explained_variance_score', 'f1_score', 'fbeta_score', 'fowlkes_mallows_score', 'get_scorer', 'get_scorer_names', 'hamming_loss', 'hinge_loss', 'homogeneity_completeness_v_measure', 'homogeneity_score', 'jaccard_score', 'label_ranking_average_precision_score', 'label_ranking_loss', 'log_loss', 'make_scorer', 'matthews_corrcoef', 'max_error', 'mean_absolute_error', 'mean_absolute_percentage_error', 'mean_gamma_deviance', 'mean_pinball_loss', 'mean_poisson_deviance', 'mean_squared_error', 'mean_squared_log_error', 'mean_tweedie_deviance', 'median_absolute_error', 'multilabel_confusion_matrix', 'mutual_info_score', 'nan_euclidean_distances', 'ndcg_score', 'normalized_mutual_info_score', 'pair_confusion_matrix', 'pairwise', 'pairwise_distances', 'pairwise_distances_argmin', 'pairwise_distances_argmin_min', 'pairwise_distances_chunked', 'pairwise_kernels', 'precision_recall_curve', 'precision_recall_fscore_support', 'precision_score', 'r2_score', 'rand_score', 'recall_score', 'roc_auc_score', 'roc_curve', 'silhouette_samples', 'silhouette_score', 'top_k_accuracy_score', 'v_measure_score', 'zero_one_loss']\n"
          ]
        }
      ]
    },
    {
      "cell_type": "code",
      "source": [
        "# [0] import \n",
        "import pandas as pd\n",
        "import numpy as np\n",
        "from sklearn.model_selection import train_test_split\n",
        "from sklearn.ensemble import RandomForestRegressor\n",
        "from xgboost import XGBRegressor\n",
        "from sklearn.metrics import mean_squared_error as mse\n",
        "from sklearn.metrics import mean_absolute_percentage_error as mape\n",
        "from sklearn.metrics import mean_squared_log_error as msle\n",
        "\n",
        "# msle, rmsle -> 음수가 있어서는 안됨\n",
        "# rmse, rmsle -> sklearn.metrics에 없음 \n",
        "# -> mse ** 0.5 -> rmse, msle ** 0.5 -> rmsle\n",
        "def get_scores(model, x_train, x_test, y_train, y_test):\n",
        "    A = model.score(x_train, y_train)\n",
        "    B = model.score(x_test, y_test)\n",
        "    y_pred = model.predict(x_test)\n",
        "    #y_pred[0] = -1\n",
        "    y_pred = np.where(y_pred > 0, y_pred, -y_pred)  # 음수처리 방법\n",
        "    C = mse(y_test, y_pred) ** 0.5\n",
        "    D = mape(y_test, y_pred)\n",
        "    E = msle(y_test, y_pred) ** 0.5  # 음수가 있어서는 안됨\n",
        "    return f'{A:.4f} {B:.4f} rmse : {C:.4f}, mape: {D:.4f}, rmsle {E:.4f}'\n",
        "\n",
        "# ValueError: Mean Squared Logarithmic Error cannot be used when targets contain negative values.\n",
        "\n",
        "\n",
        "# [1] 파일 불러오기\n",
        "X_use = pd.read_csv('x_train.csv')\n",
        "Y_use = pd.read_csv('y_train.csv')\n",
        "X_submission = pd.read_csv('x_test.csv')\n",
        "\n",
        "dfX = pd.concat([X_use, X_submission])\n",
        "\n",
        "dfX2 = pd.get_dummies(dfX)\n",
        "\n",
        "Y = Y_use['price']\n",
        "\n",
        "# [4] X_useF, X_submissionF 로 분리\n",
        "X_useF = dfX2.iloc[:len(X_use)]\n",
        "X_submissionF = dfX2.iloc[len(X_use):]\n",
        "\n",
        "# [5] train_test_split \n",
        "# stratify 는 분류모델에서 사용!  분류모델에서도 범주별 데이터가 2개 이상이어야 함\n",
        "temp = train_test_split(X_useF, Y, test_size=0.25, random_state=0)\n",
        "x_train, x_test, y_train, y_test = temp\n",
        "print(x_train.shape, x_test.shape, y_train.shape, y_test.shape) \n",
        "# (7367, 5) (2456, 5) (7367,) (2456,)\n",
        "\n",
        "model4 = RandomForestRegressor(random_state=1234)\n",
        "model4.fit(x_train, y_train)\n",
        "print(get_scores(model4, x_train, x_test, y_train, y_test))\n",
        "\n",
        "submission = pd.DataFrame()\n",
        "submission['price'] = model4.predict(X_submissionF)\n",
        "submission.to_csv('수험번호.csv', index=False)\n",
        "\n",
        "# temp = pd.read_csv('수험번호.csv')\n",
        "# print(temp.shape)\n",
        "# print(temp.head())  # model             26  transmission       4  fuelType           4"
      ],
      "metadata": {
        "colab": {
          "base_uri": "https://localhost:8080/"
        },
        "id": "YXt_Ry9uiXBT",
        "outputId": "a5deb4eb-7410-4de8-d317-2757050a9d7c"
      },
      "execution_count": null,
      "outputs": [
        {
          "output_type": "stream",
          "name": "stdout",
          "text": [
            "ID              9823\n",
            "model             26\n",
            "year              25\n",
            "transmission       4\n",
            "mileage         7550\n",
            "fuelType           4\n",
            "tax               38\n",
            "mpg              116\n",
            "engineSize        26\n",
            "dtype: int64\n",
            "ID              3296\n",
            "model             22\n",
            "year              21\n",
            "transmission       3\n",
            "mileage         2788\n",
            "fuelType           3\n",
            "tax               29\n",
            "mpg               94\n",
            "engineSize        21\n",
            "dtype: int64\n",
            "(7367, 41) (2456, 41) (7367,) (2456,)\n",
            "0.9936 0.9445 rmse : 2594.9213, mape: 0.0676, rmsle 0.0998\n"
          ]
        }
      ]
    },
    {
      "cell_type": "code",
      "source": [
        "# print(X_use.nunique())\n",
        "# print(X_submission.nunique())\n",
        "X_use.transmission.unique()"
      ],
      "metadata": {
        "colab": {
          "base_uri": "https://localhost:8080/"
        },
        "id": "R6Q9OL3vKgJ1",
        "outputId": "5c8eaaac-0a48-44d0-8f34-a4862b01a60a"
      },
      "execution_count": null,
      "outputs": [
        {
          "output_type": "execute_result",
          "data": {
            "text/plain": [
              "array(['Automatic', 'Semi-Auto', 'Manual', 'Other'], dtype=object)"
            ]
          },
          "metadata": {},
          "execution_count": 3
        }
      ]
    },
    {
      "cell_type": "code",
      "source": [
        "X_submission.transmission.unique()"
      ],
      "metadata": {
        "colab": {
          "base_uri": "https://localhost:8080/"
        },
        "id": "jUjiH4C3Kp_P",
        "outputId": "8565b190-cb9a-4a04-94b4-e66c5a7d70df"
      },
      "execution_count": null,
      "outputs": [
        {
          "output_type": "execute_result",
          "data": {
            "text/plain": [
              "array(['Automatic', 'Manual', 'Semi-Auto'], dtype=object)"
            ]
          },
          "metadata": {},
          "execution_count": 4
        }
      ]
    },
    {
      "cell_type": "markdown",
      "source": [
        "###----------------------`"
      ],
      "metadata": {
        "id": "YUgcfVdViYCo"
      }
    },
    {
      "cell_type": "code",
      "source": [
        "# [0] import \n",
        "import pandas as pd\n",
        "from sklearn.model_selection import train_test_split\n",
        "from sklearn.preprocessing import StandardScaler, MinMaxScaler\n",
        "from sklearn.linear_model import LinearRegression\n",
        "from sklearn.neighbors import KNeighborsRegressor\n",
        "from sklearn.tree import DecisionTreeRegressor\n",
        "from sklearn.ensemble import RandomForestRegressor\n",
        "from xgboost import XGBRegressor\n",
        "from lightgbm import LGBMRegressor  \n",
        "from sklearn.metrics import mean_squared_error as mse\n",
        "from sklearn.metrics import mean_absolute_percentage_error as mape\n",
        "\n",
        "def get_scores(model, x_train, x_test, y_train, y_test):\n",
        "    A = model.score(x_train, y_train)\n",
        "    B = model.score(x_test, y_test)\n",
        "    y_pred = model.predict(x_test)\n",
        "    C = mse(y_test, y_pred) ** 0.5\n",
        "    D = mape(y_test, y_pred)\n",
        "    return '{:.4f} {:.4f} rmse : {:.4f}, mape: {:.4f}'.format(A, B, C, D)\n",
        "\n",
        "# [1] 파일 불러오기\n",
        "X_use = pd.read_csv('x_train.csv')\n",
        "Y_use = pd.read_csv('y_train.csv')\n",
        "X_submission = pd.read_csv('x_test.csv')\n",
        "#print(X_use.shape, Y_use.shape, X_submission.shape)\n",
        "# (9823, 9) (9823, 2) (3296, 9)\n",
        "\n",
        "# [2] 데이터 탐색\n",
        "# [2-1] info\n",
        "#X_use.info()   # object : 'model', 'transmission', 'fuelType'\n",
        "#Y_use.info()\n",
        "#X_submission.info()\n",
        "\n",
        "# [2-2] describe\n",
        "# feature = ['year', 'mileage', 'tax', 'mpg', 'engineSize']\n",
        "# print(X_use[feature].describe())\n",
        "# print(X_submission[feature].describe())\n",
        "\n",
        "# [2-3] object\n",
        "# ANOVA 검정을 할 수 있음 \n",
        "# 'model', 'transmission', 'fuelType'\n",
        "# X_use에는 존재하는 범주인데, X_submission에는 존재하지 않는다면?\n",
        "# - X_use에서 제거 (학습 방해요인 제거)\n",
        "# 'model' -> 종류가 많고, X_use, X_submission 의 종류가 다음 X_submission 220\n",
        "# => 모델의 범주화\n",
        "# 'transmission', 'fuelType' -> X_use 에 'Other'가 있는데 X_submission에는 없다\n",
        "# => 삭제고민\n",
        "# X_use['fuelType'].value_counts(normalize=False)\n",
        "\n",
        "# LabelEncoding, OneHotEncoding\n",
        "# 'model' -> 가격 평균이 다름 -> 가격평균이 낮은 모델 -> 높은 순서에 맞추서 범주화\n",
        "\n",
        "# [2-4] corr\n",
        "dfXY = pd.merge(X_use, Y_use, on='ID')\n",
        "corr = dfXY.corr(numeric_only=True)\n",
        "#print(corr)\n",
        "\n",
        "#print(X_use.describe())  - 스케일링\n",
        "\n",
        "# [3] X, Y 변수 선택\n",
        "dfX = pd.concat([X_use, X_submission])\n",
        "\n",
        "dfX['transmission'] = dfX['transmission'].astype('category').cat.codes\n",
        "dfX['fuelType'] = dfX['fuelType'].astype('category').cat.codes\n",
        "dfX['model'] = dfX['model'].astype('category').cat.codes\n",
        "\n",
        "temp = pd.get_dummies(dfX[['transmission', 'fuelType', 'model']])\n",
        "\n",
        "feature = ['year', 'mileage', 'tax', 'mpg', 'engineSize']\n",
        "feature2 = ['transmission', 'fuelType', 'model']\n",
        "X = pd.concat([dfX[feature], temp], axis=1)  # 0.9930 0.9420 rmse : 2836.0253, mape: 0.0672\n",
        "#X = dfX[feature + feature2]  # 0.9930 0.9420 rmse : 2836.0253, mape: 0.0672\n",
        "#X = dfX[feature]\n",
        "Y = Y_use['price']\n",
        "#print(X.shape, Y.shape)\n",
        "\n",
        "# scaler = MinMaxScaler()\n",
        "# X = pd.DataFrame(scaler.fit_transform(X))\n",
        "\n",
        "# [4] X_useF, X_submissionF 로 분리\n",
        "X_useF = X.iloc[:len(X_use)]\n",
        "X_submissionF = X.iloc[len(X_use):]\n",
        "#print(X_useF.shape, X_submissionF.shape, X_submission.shape)   # (9823, 5) (3296, 5)\n",
        "\n",
        "# [5] train_test_split \n",
        "# stratify 는 분류모델에서 사용!  분류모델에서도 범주별 데이터가 2개 이상이어야 함\n",
        "temp = train_test_split(X_useF, Y, test_size=0.25, random_state=123 )\n",
        "x_train, x_test, y_train, y_test = temp\n",
        "print(x_train.shape, x_test.shape, y_train.shape, y_test.shape) \n",
        "# (7367, 5) (2456, 5) (7367,) (2456,)\n",
        "\n",
        "model1 = LinearRegression()\n",
        "model1.fit(x_train, y_train)\n",
        "print(get_scores(model1, x_train, x_test, y_train, y_test))\n",
        "\n",
        "model2 = KNeighborsRegressor(7)\n",
        "model2.fit(x_train, y_train)\n",
        "print(get_scores(model2, x_train, x_test, y_train, y_test))\n",
        "\n",
        "model3 = DecisionTreeRegressor(max_depth=11, random_state=1234)\n",
        "model3.fit(x_train, y_train)\n",
        "print(get_scores(model3, x_train, x_test, y_train, y_test))\n",
        "\n",
        "model4 = RandomForestRegressor(random_state=1234)\n",
        "model4.fit(x_train, y_train)\n",
        "print(get_scores(model4, x_train, x_test, y_train, y_test))\n",
        "\n",
        "model5 = XGBRegressor(random_state=1234)\n",
        "model5.fit(x_train, y_train)\n",
        "print(get_scores(model5, x_train, x_test, y_train, y_test))\n",
        "\n",
        "model6 = LGBMRegressor(random_state=1234)\n",
        "model6.fit(x_train, y_train)\n",
        "print(get_scores(model6, x_train, x_test, y_train, y_test))\n",
        "\n",
        "submission = pd.DataFrame()\n",
        "submission['price'] = model4.predict(X_submissionF)\n",
        "\n",
        "submission.head()"
      ],
      "metadata": {
        "colab": {
          "base_uri": "https://localhost:8080/",
          "height": 335
        },
        "id": "A1sggRHE6Nol",
        "outputId": "afe2de54-aea0-45e1-f4e5-1abecb93a75f"
      },
      "execution_count": null,
      "outputs": [
        {
          "output_type": "stream",
          "name": "stdout",
          "text": [
            "(7367, 8) (2456, 8) (7367,) (2456,)\n",
            "0.6974 0.7260 rmse : 6161.5182, mape: 0.1806\n",
            "0.6061 0.4947 rmse : 8367.7882, mape: 0.2258\n",
            "0.9734 0.9222 rmse : 3283.5502, mape: 0.0857\n",
            "0.9930 0.9420 rmse : 2836.0253, mape: 0.0672\n",
            "0.9871 0.9289 rmse : 3139.5029, mape: 0.0648\n",
            "0.9654 0.9281 rmse : 3157.4657, mape: 0.0704\n"
          ]
        },
        {
          "output_type": "execute_result",
          "data": {
            "text/plain": [
              "      price\n",
              "0   4409.80\n",
              "1  59469.88\n",
              "2  16940.82\n",
              "3  13666.20\n",
              "4  14960.05"
            ],
            "text/html": [
              "\n",
              "  <div id=\"df-576f0486-fca5-41aa-9dd2-35b67dc4ab83\">\n",
              "    <div class=\"colab-df-container\">\n",
              "      <div>\n",
              "<style scoped>\n",
              "    .dataframe tbody tr th:only-of-type {\n",
              "        vertical-align: middle;\n",
              "    }\n",
              "\n",
              "    .dataframe tbody tr th {\n",
              "        vertical-align: top;\n",
              "    }\n",
              "\n",
              "    .dataframe thead th {\n",
              "        text-align: right;\n",
              "    }\n",
              "</style>\n",
              "<table border=\"1\" class=\"dataframe\">\n",
              "  <thead>\n",
              "    <tr style=\"text-align: right;\">\n",
              "      <th></th>\n",
              "      <th>price</th>\n",
              "    </tr>\n",
              "  </thead>\n",
              "  <tbody>\n",
              "    <tr>\n",
              "      <th>0</th>\n",
              "      <td>4409.80</td>\n",
              "    </tr>\n",
              "    <tr>\n",
              "      <th>1</th>\n",
              "      <td>59469.88</td>\n",
              "    </tr>\n",
              "    <tr>\n",
              "      <th>2</th>\n",
              "      <td>16940.82</td>\n",
              "    </tr>\n",
              "    <tr>\n",
              "      <th>3</th>\n",
              "      <td>13666.20</td>\n",
              "    </tr>\n",
              "    <tr>\n",
              "      <th>4</th>\n",
              "      <td>14960.05</td>\n",
              "    </tr>\n",
              "  </tbody>\n",
              "</table>\n",
              "</div>\n",
              "      <button class=\"colab-df-convert\" onclick=\"convertToInteractive('df-576f0486-fca5-41aa-9dd2-35b67dc4ab83')\"\n",
              "              title=\"Convert this dataframe to an interactive table.\"\n",
              "              style=\"display:none;\">\n",
              "        \n",
              "  <svg xmlns=\"http://www.w3.org/2000/svg\" height=\"24px\"viewBox=\"0 0 24 24\"\n",
              "       width=\"24px\">\n",
              "    <path d=\"M0 0h24v24H0V0z\" fill=\"none\"/>\n",
              "    <path d=\"M18.56 5.44l.94 2.06.94-2.06 2.06-.94-2.06-.94-.94-2.06-.94 2.06-2.06.94zm-11 1L8.5 8.5l.94-2.06 2.06-.94-2.06-.94L8.5 2.5l-.94 2.06-2.06.94zm10 10l.94 2.06.94-2.06 2.06-.94-2.06-.94-.94-2.06-.94 2.06-2.06.94z\"/><path d=\"M17.41 7.96l-1.37-1.37c-.4-.4-.92-.59-1.43-.59-.52 0-1.04.2-1.43.59L10.3 9.45l-7.72 7.72c-.78.78-.78 2.05 0 2.83L4 21.41c.39.39.9.59 1.41.59.51 0 1.02-.2 1.41-.59l7.78-7.78 2.81-2.81c.8-.78.8-2.07 0-2.86zM5.41 20L4 18.59l7.72-7.72 1.47 1.35L5.41 20z\"/>\n",
              "  </svg>\n",
              "      </button>\n",
              "      \n",
              "  <style>\n",
              "    .colab-df-container {\n",
              "      display:flex;\n",
              "      flex-wrap:wrap;\n",
              "      gap: 12px;\n",
              "    }\n",
              "\n",
              "    .colab-df-convert {\n",
              "      background-color: #E8F0FE;\n",
              "      border: none;\n",
              "      border-radius: 50%;\n",
              "      cursor: pointer;\n",
              "      display: none;\n",
              "      fill: #1967D2;\n",
              "      height: 32px;\n",
              "      padding: 0 0 0 0;\n",
              "      width: 32px;\n",
              "    }\n",
              "\n",
              "    .colab-df-convert:hover {\n",
              "      background-color: #E2EBFA;\n",
              "      box-shadow: 0px 1px 2px rgba(60, 64, 67, 0.3), 0px 1px 3px 1px rgba(60, 64, 67, 0.15);\n",
              "      fill: #174EA6;\n",
              "    }\n",
              "\n",
              "    [theme=dark] .colab-df-convert {\n",
              "      background-color: #3B4455;\n",
              "      fill: #D2E3FC;\n",
              "    }\n",
              "\n",
              "    [theme=dark] .colab-df-convert:hover {\n",
              "      background-color: #434B5C;\n",
              "      box-shadow: 0px 1px 3px 1px rgba(0, 0, 0, 0.15);\n",
              "      filter: drop-shadow(0px 1px 2px rgba(0, 0, 0, 0.3));\n",
              "      fill: #FFFFFF;\n",
              "    }\n",
              "  </style>\n",
              "\n",
              "      <script>\n",
              "        const buttonEl =\n",
              "          document.querySelector('#df-576f0486-fca5-41aa-9dd2-35b67dc4ab83 button.colab-df-convert');\n",
              "        buttonEl.style.display =\n",
              "          google.colab.kernel.accessAllowed ? 'block' : 'none';\n",
              "\n",
              "        async function convertToInteractive(key) {\n",
              "          const element = document.querySelector('#df-576f0486-fca5-41aa-9dd2-35b67dc4ab83');\n",
              "          const dataTable =\n",
              "            await google.colab.kernel.invokeFunction('convertToInteractive',\n",
              "                                                     [key], {});\n",
              "          if (!dataTable) return;\n",
              "\n",
              "          const docLinkHtml = 'Like what you see? Visit the ' +\n",
              "            '<a target=\"_blank\" href=https://colab.research.google.com/notebooks/data_table.ipynb>data table notebook</a>'\n",
              "            + ' to learn more about interactive tables.';\n",
              "          element.innerHTML = '';\n",
              "          dataTable['output_type'] = 'display_data';\n",
              "          await google.colab.output.renderOutput(dataTable, element);\n",
              "          const docLink = document.createElement('div');\n",
              "          docLink.innerHTML = docLinkHtml;\n",
              "          element.appendChild(docLink);\n",
              "        }\n",
              "      </script>\n",
              "    </div>\n",
              "  </div>\n",
              "  "
            ]
          },
          "metadata": {},
          "execution_count": 155
        }
      ]
    },
    {
      "cell_type": "code",
      "source": [
        "from sklearn.model_selection import train_test_split\n",
        "from sklearn.metrics import mean_squared_error\n",
        "from sklearn.ensemble import RandomForestRegressor\n",
        "import numpy as np\n",
        "\n",
        "X_use = pd.read_csv('x_train.csv')\n",
        "Y_use = pd.read_csv('y_train.csv')\n",
        "X_submission = pd.read_csv('x_test.csv')\n",
        "\n",
        "y = Y_use['price']\n",
        "x = X_use.drop(columns =['ID'])\n",
        "test_x = X_submission.drop(columns =['ID'])\n",
        "\n",
        "dum_x = pd.get_dummies(x)\n",
        "# train에는 있고, test에는 없는 데이터 존재 컬럼숫자가 다름 -> reindex해줘야함\n",
        "dum_test = pd.get_dummies(test_x)\n",
        "dum_test = dum_test.reindex(columns = dum_x.columns, fill_value=0)\n",
        "\n",
        "x_train,x_test,y_train,y_test = train_test_split(dum_x,y)\n",
        "\n",
        "rr = RandomForestRegressor()\n",
        "rr.fit(x_train,y_train)\n",
        "\n",
        "pred = rr.predict(x_test)\n",
        "print('test rmse', np.sqrt(mean_squared_error(y_test,pred)))\n",
        "\n",
        "pred_test = rr.predict(dum_test)\n",
        "\n",
        "sumission = pd.DataFrame()\n",
        "sumission['price']  = pred_test\n",
        "sumission.head()\n",
        "# sumission.to_csv('00000000.csv',index=Fasle)"
      ],
      "metadata": {
        "id": "WsW6Dyxga8xc"
      },
      "execution_count": null,
      "outputs": []
    },
    {
      "cell_type": "code",
      "source": [
        "X_use['fuelType'].unique()"
      ],
      "metadata": {
        "colab": {
          "base_uri": "https://localhost:8080/"
        },
        "id": "AI_o9phCMBIu",
        "outputId": "7679c87c-8c66-45f2-fc93-920fd6fb0e50"
      },
      "execution_count": null,
      "outputs": [
        {
          "output_type": "execute_result",
          "data": {
            "text/plain": [
              "array(['Diesel', 'Petrol', 'Hybrid', 'Other'], dtype=object)"
            ]
          },
          "metadata": {},
          "execution_count": 128
        }
      ]
    },
    {
      "cell_type": "code",
      "source": [
        "from scipy.stats import f_oneway\n",
        "dfXY = pd.merge(X_use, Y_use, on='ID')\n",
        "#print(dfXY.head(3))\n",
        "print(dfXY.groupby('fuelType')['price'].var())\n",
        "t = dfXY.groupby('fuelType')['price']\n",
        "A = t.get_group('Hybrid')\n",
        "B = t.get_group('Petrol')\n",
        "C = t.get_group('Diesel')\n",
        "f_oneway(A, B, C)  # pvalue=3.8144800747197846e-83"
      ],
      "metadata": {
        "id": "m4rNxrQTELa4"
      },
      "execution_count": null,
      "outputs": []
    },
    {
      "cell_type": "code",
      "source": [
        "from scipy.stats import f_oneway\n",
        "dfXY = pd.merge(X_use, Y_use, on='ID')\n",
        "#print(dfXY.head(3))\n",
        "print(dfXY.groupby('transmission')['price'].agg(['mean','var']))\n",
        "t = dfXY.groupby('transmission')['price']\n",
        "A = t.get_group('Semi-Auto')\n",
        "B = t.get_group('Automatic')\n",
        "C = t.get_group('Manual')\n",
        "f_oneway(A, B, C)  # pvalue=2.0858678338369772e-185"
      ],
      "metadata": {
        "colab": {
          "base_uri": "https://localhost:8080/"
        },
        "id": "1kWSpkiGELXo",
        "outputId": "ff0b1fff-1900-4b62-cc75-cbfa10502009"
      },
      "execution_count": null,
      "outputs": [
        {
          "output_type": "stream",
          "name": "stdout",
          "text": [
            "                      mean           var\n",
            "transmission                            \n",
            "Automatic     24479.867257  1.638731e+08\n",
            "Manual        15420.206799  1.761171e+07\n",
            "Other         15847.500000  1.627351e+07\n",
            "Semi-Auto     26816.822581  1.270101e+08\n"
          ]
        },
        {
          "output_type": "execute_result",
          "data": {
            "text/plain": [
              "F_onewayResult(statistic=444.204989364427, pvalue=2.0858678338369772e-185)"
            ]
          },
          "metadata": {},
          "execution_count": 52
        }
      ]
    },
    {
      "cell_type": "code",
      "source": [
        "from scipy.stats import f_oneway\n",
        "dfXY = pd.merge(X_use, Y_use, on='ID')\n",
        "#print(dfXY.head(3))\n",
        "print(dfXY.groupby('model')['price'].agg(['mean','var']).sort_values('mean'))\n",
        "# t = dfXY.groupby('transmission')['price']\n",
        "# A = t.get_group('Semi-Auto')\n",
        "# B = t.get_group('Automatic')\n",
        "# C = t.get_group('Manual')\n",
        "# f_oneway(A, B, C)  # pvalue=2.0858678338369772e-185"
      ],
      "metadata": {
        "id": "qsPtkVMKELUx"
      },
      "execution_count": null,
      "outputs": []
    }
  ]
}