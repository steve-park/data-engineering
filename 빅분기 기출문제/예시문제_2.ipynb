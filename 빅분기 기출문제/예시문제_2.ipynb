{
 "cells": [
  {
   "cell_type": "markdown",
   "metadata": {
    "id": "9wr6snMrGMHo"
   },
   "source": [
    "## 2.기출문제 (빅분기 실기 2회)"
   ]
  },
  {
   "cell_type": "code",
   "execution_count": 1,
   "metadata": {
    "colab": {
     "base_uri": "https://localhost:8080/"
    },
    "id": "8RdzIjzsMFEY",
    "outputId": "9c34d052-e936-4ef1-c5bc-0e7d39d2519a",
    "tags": []
   },
   "outputs": [
    {
     "name": "stdout",
     "output_type": "stream",
     "text": [
      "fatal: 대상 경로가('bigdata') 이미 있고 빈 디렉터리가 아닙니다.\n"
     ]
    }
   ],
   "source": [
    "!git clone https://github.com/Soyoung-Yoon/bigdata"
   ]
  },
  {
   "cell_type": "code",
   "execution_count": 2,
   "metadata": {
    "tags": []
   },
   "outputs": [
    {
     "name": "stdout",
     "output_type": "stream",
     "text": [
      "fatal: 대상 경로가('data_02') 이미 있고 빈 디렉터리가 아닙니다.\n"
     ]
    }
   ],
   "source": [
    "!git clone https://github.com/Soyoung-Yoon/data_02"
   ]
  },
  {
   "cell_type": "markdown",
   "metadata": {
    "id": "XmsDHqDFBzM3"
   },
   "source": [
    "#### 2-1. 보스턴 데이터\n",
    "보스턴 데이터 범죄율 컬럼('CRIM')의 top10 중 10번째 범죄율 값으로 1~10위의 범죄율 값을 변경 후, 'AGE' 변수의 값이 80이상인 것에 대한 범죄율 평균을 산출하라."
   ]
  },
  {
   "cell_type": "code",
   "execution_count": 3,
   "metadata": {
    "tags": []
   },
   "outputs": [
    {
     "data": {
      "text/html": [
       "<div>\n",
       "<style scoped>\n",
       "    .dataframe tbody tr th:only-of-type {\n",
       "        vertical-align: middle;\n",
       "    }\n",
       "\n",
       "    .dataframe tbody tr th {\n",
       "        vertical-align: top;\n",
       "    }\n",
       "\n",
       "    .dataframe thead th {\n",
       "        text-align: right;\n",
       "    }\n",
       "</style>\n",
       "<table border=\"1\" class=\"dataframe\">\n",
       "  <thead>\n",
       "    <tr style=\"text-align: right;\">\n",
       "      <th></th>\n",
       "      <th>CRIM</th>\n",
       "      <th>ZN</th>\n",
       "      <th>INDUS</th>\n",
       "      <th>CHAS</th>\n",
       "      <th>NOX</th>\n",
       "      <th>RM</th>\n",
       "      <th>AGE</th>\n",
       "      <th>DIS</th>\n",
       "      <th>RAD</th>\n",
       "      <th>TAX</th>\n",
       "      <th>PTRATIO</th>\n",
       "      <th>B</th>\n",
       "      <th>LSTAT</th>\n",
       "      <th>PRICE</th>\n",
       "    </tr>\n",
       "  </thead>\n",
       "  <tbody>\n",
       "    <tr>\n",
       "      <th>0</th>\n",
       "      <td>0.00632</td>\n",
       "      <td>18.0</td>\n",
       "      <td>2.31</td>\n",
       "      <td>0.0</td>\n",
       "      <td>0.538</td>\n",
       "      <td>6.575</td>\n",
       "      <td>65.2</td>\n",
       "      <td>4.0900</td>\n",
       "      <td>1.0</td>\n",
       "      <td>296.0</td>\n",
       "      <td>15.3</td>\n",
       "      <td>396.9</td>\n",
       "      <td>4.98</td>\n",
       "      <td>24.0</td>\n",
       "    </tr>\n",
       "    <tr>\n",
       "      <th>1</th>\n",
       "      <td>0.02731</td>\n",
       "      <td>0.0</td>\n",
       "      <td>7.07</td>\n",
       "      <td>0.0</td>\n",
       "      <td>0.469</td>\n",
       "      <td>6.421</td>\n",
       "      <td>78.9</td>\n",
       "      <td>4.9671</td>\n",
       "      <td>2.0</td>\n",
       "      <td>242.0</td>\n",
       "      <td>17.8</td>\n",
       "      <td>396.9</td>\n",
       "      <td>9.14</td>\n",
       "      <td>21.6</td>\n",
       "    </tr>\n",
       "  </tbody>\n",
       "</table>\n",
       "</div>"
      ],
      "text/plain": [
       "      CRIM    ZN  INDUS  CHAS    NOX     RM   AGE     DIS  RAD    TAX  \\\n",
       "0  0.00632  18.0   2.31   0.0  0.538  6.575  65.2  4.0900  1.0  296.0   \n",
       "1  0.02731   0.0   7.07   0.0  0.469  6.421  78.9  4.9671  2.0  242.0   \n",
       "\n",
       "   PTRATIO      B  LSTAT  PRICE  \n",
       "0     15.3  396.9   4.98   24.0  \n",
       "1     17.8  396.9   9.14   21.6  "
      ]
     },
     "execution_count": 3,
     "metadata": {},
     "output_type": "execute_result"
    }
   ],
   "source": [
    "## sklearn에서 더이상 boston 데이터를 제공하지 않으므로 교체합니다.\n",
    "##from sklearn.datasets import load_boston\n",
    "import pandas as pd\n",
    "df = pd.read_csv('./data_02/boston.csv')\n",
    "df.head(2)"
   ]
  },
  {
   "cell_type": "code",
   "execution_count": 4,
   "metadata": {
    "tags": []
   },
   "outputs": [],
   "source": [
    "crim_10th = df['CRIM'].sort_values(ascending=False).head(10).to_list()[-1]\n",
    "df.loc[df['CRIM'] >= crim_10th, 'CRIM'] = crim_10th"
   ]
  },
  {
   "cell_type": "code",
   "execution_count": 5,
   "metadata": {
    "tags": []
   },
   "outputs": [
    {
     "name": "stdout",
     "output_type": "stream",
     "text": [
      "5.759387\n"
     ]
    }
   ],
   "source": [
    "print(f\"{df.loc[df['AGE'] >= 80, 'CRIM'].mean():.6f}\")"
   ]
  },
  {
   "cell_type": "code",
   "execution_count": 6,
   "metadata": {},
   "outputs": [],
   "source": [
    "# 정답 : 5.759387"
   ]
  },
  {
   "cell_type": "markdown",
   "metadata": {
    "id": "Uv_3WUzRCFV0"
   },
   "source": [
    "#### 2-2. 하우징 데이터\n",
    "- housing.csv 파일을 사용한다\n",
    "- 주어진 데이터의 첫번째 행 부터 순서대로 80% 까지의 데이터를 추출 후 'total_bedrooms' 변수의 결측값(NA)을 'total_bedrooms' 변수의 중앙값으로 대체하고,\n",
    "- 대체 전의 'total_bedrooms' 변수 표준편차값과 대체 후의 'total_bedrooms' 변수 표준편차 값을 산출하여\n",
    "- 대체 전 표준편차 값 - 대체 후 표준편차 값을 구해 출력한다."
   ]
  },
  {
   "cell_type": "code",
   "execution_count": 7,
   "metadata": {
    "id": "7bfmcPy3CQDQ"
   },
   "outputs": [],
   "source": [
    "# https://www.kaggle.com/camnugent/introduction-to-machine-learning-in-r-tutorial"
   ]
  },
  {
   "cell_type": "code",
   "execution_count": 8,
   "metadata": {
    "tags": []
   },
   "outputs": [
    {
     "name": "stdout",
     "output_type": "stream",
     "text": [
      "1.9751472916456692\n"
     ]
    }
   ],
   "source": [
    "import pandas as pd\n",
    "\n",
    "housing = pd.read_csv('./bigdata/housing.csv')\n",
    "df = housing.iloc[:int(len(housing) * 0.8), :]\n",
    "\n",
    "total_bedrooms_median = df['total_bedrooms'].median()\n",
    "total_bedrooms_std1 = df['total_bedrooms'].std()\n",
    "total_bedrooms_std2 = df['total_bedrooms'].mask(df['total_bedrooms'].isna(), total_bedrooms_median).std()\n",
    "\n",
    "print(total_bedrooms_std1 - total_bedrooms_std2)"
   ]
  },
  {
   "cell_type": "code",
   "execution_count": 9,
   "metadata": {},
   "outputs": [],
   "source": [
    "# 정답 : 1.9751472916456692"
   ]
  },
  {
   "cell_type": "markdown",
   "metadata": {
    "id": "s0Iohr2QC6As"
   },
   "source": [
    "#### 2-3. 하우징 데이터 \n",
    "- 'https://raw.githubusercontent.com/Soyoung-Yoon/bigdata/main/housing.csv' 파일을 사용한다\n",
    "- 하우징 데이터에서 'latitude' 컬럼의 이상치를 찾아 이상치들의 합을 산출하시오.\n",
    "- 이상치 기준 : 평균 - (표준편차 * 1.5), 평균 + (표준편차 * 1.5) "
   ]
  },
  {
   "cell_type": "code",
   "execution_count": 10,
   "metadata": {
    "tags": []
   },
   "outputs": [
    {
     "data": {
      "text/plain": [
       "45815.75"
      ]
     },
     "execution_count": 10,
     "metadata": {},
     "output_type": "execute_result"
    }
   ],
   "source": [
    "import pandas as pd\n",
    "\n",
    "housing = pd.read_csv('./bigdata/housing.csv')\n",
    "latitude_mean, latitude_std = housing['latitude'].agg(['mean', 'std'])\n",
    "latitude_min, latitude_max = latitude_mean - (latitude_std * 1.5), latitude_mean + (latitude_std * 1.5)\n",
    "\n",
    "housing.loc[(housing['latitude'] < latitude_min) | (housing['latitude'] > latitude_max), 'latitude'].sum()"
   ]
  },
  {
   "cell_type": "code",
   "execution_count": 11,
   "metadata": {
    "id": "II4-4rISf1Ys"
   },
   "outputs": [],
   "source": [
    "# 평균 - (표준편차 * 1.5), 평균 + (표준편차 * 1.5)"
   ]
  },
  {
   "cell_type": "code",
   "execution_count": 12,
   "metadata": {},
   "outputs": [],
   "source": [
    "# 정답: 45815.75"
   ]
  },
  {
   "cell_type": "code",
   "execution_count": 13,
   "metadata": {
    "tags": []
   },
   "outputs": [
    {
     "data": {
      "image/png": "[encoded data removed]",
      "text/plain": [
       "<Figure size 640x480 with 1 Axes>"
      ]
     },
     "metadata": {},
     "output_type": "display_data"
    }
   ],
   "source": [
    "import seaborn as sns\n",
    "import matplotlib.pyplot as plt\n",
    "\n",
    "g = sns.boxplot(housing['latitude'])\n",
    "plt.show()"
   ]
  },
  {
   "cell_type": "markdown",
   "metadata": {
    "id": "SxegKonKDHPJ"
   },
   "source": [
    "## 3.기출문제 (빅분기 실기 2회)\n",
    "- 고객 구매 데이터를 사용해서 고객이 주문한 물품이 제 시간에 도착여부(Reached.on.Time_Y.N) 예측\n",
    "- X_train.csv, y_train.csv : 학습 및 학습평가에 사용하는 파일\n",
    "- X_test.csv : 제출용 데이터 생성에 사용하는 파일\n",
    "- roc_score를 사용하여 평가\n",
    "- 아래의 형식으로 submission수험번호.csv 로 저장\n",
    "- Reached.on.Time_Y.N은 제 시간에 도착할 확률\n",
    "```\n",
    "ID,Reached.on.Time_Y.N\n",
    "7007,0.27419354838709675\n",
    "9793,0.4883720930232558\n",
    "6593,0.48174157303370785\n",
    "10527,0.3657243816254417\n",
    "```"
   ]
  },
  {
   "cell_type": "markdown",
   "metadata": {
    "id": "JWKKfomBts23"
   },
   "source": [
    "### 3-01.문제이해"
   ]
  },
  {
   "cell_type": "code",
   "execution_count": 14,
   "metadata": {
    "id": "7s5cSk-lrLGh"
   },
   "outputs": [],
   "source": [
    "# https://www.kaggle.com/prachi13/customer-analytics?select=Train.csv\n",
    "# 기출에서 기억나는 것\n",
    "# - 컬럼 중 1개가 숫자형으로 안내 되었는데 info() 결과 object로 표시됨\n",
    "# - head() 로 해서 표시되지 않았음 \n",
    "# - value가 '1', '*7', '4', '9', '*7' 이렇게 되어 있어서 '*'을 제거하고 dtype을 변경해야함"
   ]
  },
  {
   "cell_type": "code",
   "execution_count": 15,
   "metadata": {
    "id": "YvUN8uMwtiQk",
    "tags": []
   },
   "outputs": [
    {
     "data": {
      "text/html": [
       "<div>\n",
       "<style scoped>\n",
       "    .dataframe tbody tr th:only-of-type {\n",
       "        vertical-align: middle;\n",
       "    }\n",
       "\n",
       "    .dataframe tbody tr th {\n",
       "        vertical-align: top;\n",
       "    }\n",
       "\n",
       "    .dataframe thead th {\n",
       "        text-align: right;\n",
       "    }\n",
       "</style>\n",
       "<table border=\"1\" class=\"dataframe\">\n",
       "  <thead>\n",
       "    <tr style=\"text-align: right;\">\n",
       "      <th></th>\n",
       "      <th>rating</th>\n",
       "    </tr>\n",
       "  </thead>\n",
       "  <tbody>\n",
       "    <tr>\n",
       "      <th>0</th>\n",
       "      <td>1</td>\n",
       "    </tr>\n",
       "    <tr>\n",
       "      <th>1</th>\n",
       "      <td>2</td>\n",
       "    </tr>\n",
       "  </tbody>\n",
       "</table>\n",
       "</div>"
      ],
      "text/plain": [
       "  rating\n",
       "0      1\n",
       "1      2"
      ]
     },
     "execution_count": 15,
     "metadata": {},
     "output_type": "execute_result"
    }
   ],
   "source": [
    "import pandas as pd\n",
    "# 이상한 것 확인\n",
    "df = pd.DataFrame({'rating': ['1', '2', '4', '*7', '8', '*7', '3', '5', '2', '*4']})\n",
    "df.head(2)"
   ]
  },
  {
   "cell_type": "code",
   "execution_count": 16,
   "metadata": {
    "tags": []
   },
   "outputs": [
    {
     "data": {
      "text/plain": [
       "0    1\n",
       "1    2\n",
       "2    4\n",
       "3    7\n",
       "4    8\n",
       "5    7\n",
       "6    3\n",
       "7    5\n",
       "8    2\n",
       "9    4\n",
       "Name: rating, dtype: object"
      ]
     },
     "execution_count": 16,
     "metadata": {},
     "output_type": "execute_result"
    }
   ],
   "source": [
    "df['rating'].replace(r'\\*', '', regex=True)"
   ]
  },
  {
   "cell_type": "markdown",
   "metadata": {
    "id": "NCqn_6zOtyXi"
   },
   "source": [
    "### 3-02.데이터 불러오기, 탐색"
   ]
  },
  {
   "cell_type": "markdown",
   "metadata": {
    "id": "pfVyX6TSu2hl"
   },
   "source": [
    "***pandas의 출력 설정 옵션 다시 확인하세요!***"
   ]
  },
  {
   "cell_type": "code",
   "execution_count": 17,
   "metadata": {
    "id": "DwzoupwOlIU3",
    "tags": []
   },
   "outputs": [],
   "source": [
    "# [0] x_train, x_test 데이터로 생성함\n",
    "# 이 부분은 시험에서는 없습니다. 그냥 데이터를 3개로 나누기 위해 사용한 것입니다.\n",
    "from sklearn.model_selection import train_test_split\n",
    "\n",
    "dftot = pd.read_csv('./bigdata/1st_Train.csv')\n",
    "x_train, x_test = train_test_split(dftot, test_size=0.4, stratify=dftot['Reached.on.Time_Y.N'], random_state=0)\n",
    "y_train = x_train[['ID', 'Reached.on.Time_Y.N']]\n",
    "x_train = x_train.drop(columns='Reached.on.Time_Y.N')\n",
    "y_test = x_test[['ID', 'Reached.on.Time_Y.N']]   # 이것은 시험에서는 제공되지 않음\n",
    "x_test = x_test.drop(columns='Reached.on.Time_Y.N')\n",
    "\n",
    "x_train.to_csv('x_train.csv', index=False)\n",
    "y_train.to_csv('y_train.csv', index=False)\n",
    "x_test.to_csv('x_test.csv', index=False)\n",
    "y_test.to_csv('y_test.csv', index=False) # 이것은 시험에서는 제공되지 않음"
   ]
  },
  {
   "cell_type": "code",
   "execution_count": 18,
   "metadata": {
    "colab": {
     "base_uri": "https://localhost:8080/"
    },
    "id": "fruyxQw2nDcr",
    "outputId": "98e338ac-3006-44d8-d7c9-6743b95d8721",
    "tags": []
   },
   "outputs": [
    {
     "data": {
      "text/plain": [
       "((6599, 11), (6599, 2), (4400, 11))"
      ]
     },
     "execution_count": 18,
     "metadata": {},
     "output_type": "execute_result"
    }
   ],
   "source": [
    "x_train.shape, y_train.shape, x_test.shape"
   ]
  },
  {
   "cell_type": "code",
   "execution_count": 19,
   "metadata": {
    "id": "mNl3dB0VmMxo"
   },
   "outputs": [],
   "source": [
    "# 여기에 문제를 풀이해 보세요!"
   ]
  },
  {
   "cell_type": "markdown",
   "metadata": {},
   "source": [
    "### 데이터 로드"
   ]
  },
  {
   "cell_type": "code",
   "execution_count": 20,
   "metadata": {
    "tags": []
   },
   "outputs": [],
   "source": [
    "import pandas as pd\n",
    "\n",
    "from sklearn.preprocessing import LabelEncoder"
   ]
  },
  {
   "cell_type": "code",
   "execution_count": 21,
   "metadata": {
    "tags": []
   },
   "outputs": [],
   "source": [
    "pd.options.display.max_rows = 2000\n",
    "pd.options.display.max_columns = 25\n",
    "pd.options.display.float_format = '{:,.4f}'.format"
   ]
  },
  {
   "cell_type": "code",
   "execution_count": 22,
   "metadata": {
    "tags": []
   },
   "outputs": [
    {
     "name": "stdout",
     "output_type": "stream",
     "text": [
      "[(6599, 11), (6599, 2), (4400, 11)]\n"
     ]
    }
   ],
   "source": [
    "X = pd.read_csv('./x_train.csv')\n",
    "Y = pd.read_csv('./y_train.csv')\n",
    "X_submission = pd.read_csv('./x_test.csv')\n",
    "print([x.shape for x in [X, Y, X_submission]])"
   ]
  },
  {
   "cell_type": "markdown",
   "metadata": {},
   "source": [
    "### 데이터 확인 및 탐색"
   ]
  },
  {
   "cell_type": "code",
   "execution_count": 23,
   "metadata": {
    "tags": []
   },
   "outputs": [
    {
     "name": "stdout",
     "output_type": "stream",
     "text": [
      "<class 'pandas.core.frame.DataFrame'>\n",
      "RangeIndex: 6599 entries, 0 to 6598\n",
      "Data columns (total 11 columns):\n",
      " #   Column               Non-Null Count  Dtype \n",
      "---  ------               --------------  ----- \n",
      " 0   ID                   6599 non-null   int64 \n",
      " 1   Warehouse_block      6599 non-null   object\n",
      " 2   Mode_of_Shipment     6599 non-null   object\n",
      " 3   Customer_care_calls  6599 non-null   int64 \n",
      " 4   Customer_rating      6599 non-null   int64 \n",
      " 5   Cost_of_the_Product  6599 non-null   int64 \n",
      " 6   Prior_purchases      6599 non-null   int64 \n",
      " 7   Product_importance   6599 non-null   object\n",
      " 8   Gender               6599 non-null   object\n",
      " 9   Discount_offered     6599 non-null   int64 \n",
      " 10  Weight_in_gms        6599 non-null   int64 \n",
      "dtypes: int64(7), object(4)\n",
      "memory usage: 567.2+ KB\n"
     ]
    }
   ],
   "source": [
    "X.info()"
   ]
  },
  {
   "cell_type": "code",
   "execution_count": 24,
   "metadata": {
    "tags": []
   },
   "outputs": [
    {
     "data": {
      "text/html": [
       "<div>\n",
       "<style scoped>\n",
       "    .dataframe tbody tr th:only-of-type {\n",
       "        vertical-align: middle;\n",
       "    }\n",
       "\n",
       "    .dataframe tbody tr th {\n",
       "        vertical-align: top;\n",
       "    }\n",
       "\n",
       "    .dataframe thead th {\n",
       "        text-align: right;\n",
       "    }\n",
       "</style>\n",
       "<table border=\"1\" class=\"dataframe\">\n",
       "  <thead>\n",
       "    <tr style=\"text-align: right;\">\n",
       "      <th></th>\n",
       "      <th>ID</th>\n",
       "      <th>Warehouse_block</th>\n",
       "      <th>Mode_of_Shipment</th>\n",
       "      <th>Customer_care_calls</th>\n",
       "      <th>Customer_rating</th>\n",
       "      <th>Cost_of_the_Product</th>\n",
       "      <th>Prior_purchases</th>\n",
       "      <th>Product_importance</th>\n",
       "      <th>Gender</th>\n",
       "      <th>Discount_offered</th>\n",
       "      <th>Weight_in_gms</th>\n",
       "    </tr>\n",
       "  </thead>\n",
       "  <tbody>\n",
       "    <tr>\n",
       "      <th>0</th>\n",
       "      <td>9902</td>\n",
       "      <td>F</td>\n",
       "      <td>Ship</td>\n",
       "      <td>3</td>\n",
       "      <td>5</td>\n",
       "      <td>214</td>\n",
       "      <td>2</td>\n",
       "      <td>medium</td>\n",
       "      <td>F</td>\n",
       "      <td>6</td>\n",
       "      <td>4578</td>\n",
       "    </tr>\n",
       "    <tr>\n",
       "      <th>1</th>\n",
       "      <td>9501</td>\n",
       "      <td>A</td>\n",
       "      <td>Ship</td>\n",
       "      <td>4</td>\n",
       "      <td>2</td>\n",
       "      <td>201</td>\n",
       "      <td>3</td>\n",
       "      <td>medium</td>\n",
       "      <td>F</td>\n",
       "      <td>4</td>\n",
       "      <td>4613</td>\n",
       "    </tr>\n",
       "  </tbody>\n",
       "</table>\n",
       "</div>"
      ],
      "text/plain": [
       "     ID Warehouse_block Mode_of_Shipment  Customer_care_calls  \\\n",
       "0  9902               F             Ship                    3   \n",
       "1  9501               A             Ship                    4   \n",
       "\n",
       "   Customer_rating  Cost_of_the_Product  Prior_purchases Product_importance  \\\n",
       "0                5                  214                2             medium   \n",
       "1                2                  201                3             medium   \n",
       "\n",
       "  Gender  Discount_offered  Weight_in_gms  \n",
       "0      F                 6           4578  \n",
       "1      F                 4           4613  "
      ]
     },
     "execution_count": 24,
     "metadata": {},
     "output_type": "execute_result"
    }
   ],
   "source": [
    "X.head(2)"
   ]
  },
  {
   "cell_type": "code",
   "execution_count": 25,
   "metadata": {
    "tags": []
   },
   "outputs": [
    {
     "name": "stdout",
     "output_type": "stream",
     "text": [
      "<class 'pandas.core.frame.DataFrame'>\n",
      "RangeIndex: 6599 entries, 0 to 6598\n",
      "Data columns (total 2 columns):\n",
      " #   Column               Non-Null Count  Dtype\n",
      "---  ------               --------------  -----\n",
      " 0   ID                   6599 non-null   int64\n",
      " 1   Reached.on.Time_Y.N  6599 non-null   int64\n",
      "dtypes: int64(2)\n",
      "memory usage: 103.2 KB\n"
     ]
    }
   ],
   "source": [
    "Y.info()"
   ]
  },
  {
   "cell_type": "code",
   "execution_count": 26,
   "metadata": {
    "tags": []
   },
   "outputs": [
    {
     "data": {
      "text/html": [
       "<div>\n",
       "<style scoped>\n",
       "    .dataframe tbody tr th:only-of-type {\n",
       "        vertical-align: middle;\n",
       "    }\n",
       "\n",
       "    .dataframe tbody tr th {\n",
       "        vertical-align: top;\n",
       "    }\n",
       "\n",
       "    .dataframe thead th {\n",
       "        text-align: right;\n",
       "    }\n",
       "</style>\n",
       "<table border=\"1\" class=\"dataframe\">\n",
       "  <thead>\n",
       "    <tr style=\"text-align: right;\">\n",
       "      <th></th>\n",
       "      <th>ID</th>\n",
       "      <th>Reached.on.Time_Y.N</th>\n",
       "    </tr>\n",
       "  </thead>\n",
       "  <tbody>\n",
       "    <tr>\n",
       "      <th>0</th>\n",
       "      <td>9902</td>\n",
       "      <td>0</td>\n",
       "    </tr>\n",
       "    <tr>\n",
       "      <th>1</th>\n",
       "      <td>9501</td>\n",
       "      <td>0</td>\n",
       "    </tr>\n",
       "  </tbody>\n",
       "</table>\n",
       "</div>"
      ],
      "text/plain": [
       "     ID  Reached.on.Time_Y.N\n",
       "0  9902                    0\n",
       "1  9501                    0"
      ]
     },
     "execution_count": 26,
     "metadata": {},
     "output_type": "execute_result"
    }
   ],
   "source": [
    "Y.head(2)"
   ]
  },
  {
   "cell_type": "code",
   "execution_count": 27,
   "metadata": {
    "tags": []
   },
   "outputs": [
    {
     "name": "stdout",
     "output_type": "stream",
     "text": [
      "<class 'pandas.core.frame.DataFrame'>\n",
      "RangeIndex: 4400 entries, 0 to 4399\n",
      "Data columns (total 11 columns):\n",
      " #   Column               Non-Null Count  Dtype \n",
      "---  ------               --------------  ----- \n",
      " 0   ID                   4400 non-null   int64 \n",
      " 1   Warehouse_block      4400 non-null   object\n",
      " 2   Mode_of_Shipment     4400 non-null   object\n",
      " 3   Customer_care_calls  4400 non-null   int64 \n",
      " 4   Customer_rating      4400 non-null   int64 \n",
      " 5   Cost_of_the_Product  4400 non-null   int64 \n",
      " 6   Prior_purchases      4400 non-null   int64 \n",
      " 7   Product_importance   4400 non-null   object\n",
      " 8   Gender               4400 non-null   object\n",
      " 9   Discount_offered     4400 non-null   int64 \n",
      " 10  Weight_in_gms        4400 non-null   int64 \n",
      "dtypes: int64(7), object(4)\n",
      "memory usage: 378.2+ KB\n"
     ]
    }
   ],
   "source": [
    "X_submission.info()"
   ]
  },
  {
   "cell_type": "code",
   "execution_count": 28,
   "metadata": {
    "tags": []
   },
   "outputs": [
    {
     "data": {
      "text/html": [
       "<div>\n",
       "<style scoped>\n",
       "    .dataframe tbody tr th:only-of-type {\n",
       "        vertical-align: middle;\n",
       "    }\n",
       "\n",
       "    .dataframe tbody tr th {\n",
       "        vertical-align: top;\n",
       "    }\n",
       "\n",
       "    .dataframe thead th {\n",
       "        text-align: right;\n",
       "    }\n",
       "</style>\n",
       "<table border=\"1\" class=\"dataframe\">\n",
       "  <thead>\n",
       "    <tr style=\"text-align: right;\">\n",
       "      <th></th>\n",
       "      <th>ID</th>\n",
       "      <th>Warehouse_block</th>\n",
       "      <th>Mode_of_Shipment</th>\n",
       "      <th>Customer_care_calls</th>\n",
       "      <th>Customer_rating</th>\n",
       "      <th>Cost_of_the_Product</th>\n",
       "      <th>Prior_purchases</th>\n",
       "      <th>Product_importance</th>\n",
       "      <th>Gender</th>\n",
       "      <th>Discount_offered</th>\n",
       "      <th>Weight_in_gms</th>\n",
       "    </tr>\n",
       "  </thead>\n",
       "  <tbody>\n",
       "    <tr>\n",
       "      <th>0</th>\n",
       "      <td>7007</td>\n",
       "      <td>C</td>\n",
       "      <td>Ship</td>\n",
       "      <td>4</td>\n",
       "      <td>1</td>\n",
       "      <td>238</td>\n",
       "      <td>3</td>\n",
       "      <td>high</td>\n",
       "      <td>F</td>\n",
       "      <td>4</td>\n",
       "      <td>4910</td>\n",
       "    </tr>\n",
       "    <tr>\n",
       "      <th>1</th>\n",
       "      <td>9793</td>\n",
       "      <td>D</td>\n",
       "      <td>Ship</td>\n",
       "      <td>4</td>\n",
       "      <td>2</td>\n",
       "      <td>245</td>\n",
       "      <td>3</td>\n",
       "      <td>medium</td>\n",
       "      <td>M</td>\n",
       "      <td>1</td>\n",
       "      <td>4731</td>\n",
       "    </tr>\n",
       "  </tbody>\n",
       "</table>\n",
       "</div>"
      ],
      "text/plain": [
       "     ID Warehouse_block Mode_of_Shipment  Customer_care_calls  \\\n",
       "0  7007               C             Ship                    4   \n",
       "1  9793               D             Ship                    4   \n",
       "\n",
       "   Customer_rating  Cost_of_the_Product  Prior_purchases Product_importance  \\\n",
       "0                1                  238                3               high   \n",
       "1                2                  245                3             medium   \n",
       "\n",
       "  Gender  Discount_offered  Weight_in_gms  \n",
       "0      F                 4           4910  \n",
       "1      M                 1           4731  "
      ]
     },
     "execution_count": 28,
     "metadata": {},
     "output_type": "execute_result"
    }
   ],
   "source": [
    "X_submission.head(2)"
   ]
  },
  {
   "cell_type": "markdown",
   "metadata": {},
   "source": [
    "### 데이터 전처리"
   ]
  },
  {
   "cell_type": "code",
   "execution_count": 29,
   "metadata": {
    "tags": []
   },
   "outputs": [
    {
     "name": "stdout",
     "output_type": "stream",
     "text": [
      "<class 'pandas.core.frame.DataFrame'>\n",
      "RangeIndex: 10999 entries, 0 to 10998\n",
      "Data columns (total 11 columns):\n",
      " #   Column               Non-Null Count  Dtype \n",
      "---  ------               --------------  ----- \n",
      " 0   ID                   10999 non-null  int64 \n",
      " 1   Warehouse_block      10999 non-null  object\n",
      " 2   Mode_of_Shipment     10999 non-null  object\n",
      " 3   Customer_care_calls  10999 non-null  int64 \n",
      " 4   Customer_rating      10999 non-null  int64 \n",
      " 5   Cost_of_the_Product  10999 non-null  int64 \n",
      " 6   Prior_purchases      10999 non-null  int64 \n",
      " 7   Product_importance   10999 non-null  object\n",
      " 8   Gender               10999 non-null  object\n",
      " 9   Discount_offered     10999 non-null  int64 \n",
      " 10  Weight_in_gms        10999 non-null  int64 \n",
      "dtypes: int64(7), object(4)\n",
      "memory usage: 945.4+ KB\n"
     ]
    }
   ],
   "source": [
    "dfX = pd.concat([X, X_submission], axis=0, ignore_index=True)\n",
    "dfX.info()"
   ]
  },
  {
   "cell_type": "code",
   "execution_count": 30,
   "metadata": {
    "tags": []
   },
   "outputs": [
    {
     "name": "stdout",
     "output_type": "stream",
     "text": [
      "Warehouse_block      : ['F' 'A' 'B' 'D' 'C']\n",
      "Mode_of_Shipment     : ['Ship' 'Road' 'Flight']\n",
      "Product_importance   : ['medium' 'low' 'high']\n",
      "Gender               : ['F' 'M']\n"
     ]
    }
   ],
   "source": [
    "object_features = dfX.select_dtypes(include='object').columns.to_list()\n",
    "target_features = ['Warehouse_block', 'Mode_of_Shipment', 'Product_importance']\n",
    "\n",
    "for feature in object_features:\n",
    "    print(f'{feature:20s} : {dfX[feature].unique()}')"
   ]
  },
  {
   "cell_type": "code",
   "execution_count": 31,
   "metadata": {
    "tags": []
   },
   "outputs": [],
   "source": [
    "tempdf = dfX.drop(columns=object_features)\n",
    "tempdf['Gender'] = LabelEncoder().fit_transform(dfX['Gender'])\n",
    "\n",
    "temp_list = [tempdf]\n",
    "\n",
    "for feature in target_features:\n",
    "    temp = pd.get_dummies(dfX[feature], prefix=feature)\n",
    "    temp_list.append(temp)\n",
    "\n",
    "dfX2 = pd.concat(temp_list, axis=1)"
   ]
  },
  {
   "cell_type": "code",
   "execution_count": 32,
   "metadata": {
    "tags": []
   },
   "outputs": [
    {
     "name": "stdout",
     "output_type": "stream",
     "text": [
      "<class 'pandas.core.frame.DataFrame'>\n",
      "RangeIndex: 10999 entries, 0 to 10998\n",
      "Data columns (total 19 columns):\n",
      " #   Column                     Non-Null Count  Dtype\n",
      "---  ------                     --------------  -----\n",
      " 0   ID                         10999 non-null  int64\n",
      " 1   Customer_care_calls        10999 non-null  int64\n",
      " 2   Customer_rating            10999 non-null  int64\n",
      " 3   Cost_of_the_Product        10999 non-null  int64\n",
      " 4   Prior_purchases            10999 non-null  int64\n",
      " 5   Discount_offered           10999 non-null  int64\n",
      " 6   Weight_in_gms              10999 non-null  int64\n",
      " 7   Gender                     10999 non-null  int64\n",
      " 8   Warehouse_block_A          10999 non-null  uint8\n",
      " 9   Warehouse_block_B          10999 non-null  uint8\n",
      " 10  Warehouse_block_C          10999 non-null  uint8\n",
      " 11  Warehouse_block_D          10999 non-null  uint8\n",
      " 12  Warehouse_block_F          10999 non-null  uint8\n",
      " 13  Mode_of_Shipment_Flight    10999 non-null  uint8\n",
      " 14  Mode_of_Shipment_Road      10999 non-null  uint8\n",
      " 15  Mode_of_Shipment_Ship      10999 non-null  uint8\n",
      " 16  Product_importance_high    10999 non-null  uint8\n",
      " 17  Product_importance_low     10999 non-null  uint8\n",
      " 18  Product_importance_medium  10999 non-null  uint8\n",
      "dtypes: int64(8), uint8(11)\n",
      "memory usage: 805.7 KB\n"
     ]
    }
   ],
   "source": [
    "dfX2.info()"
   ]
  },
  {
   "cell_type": "markdown",
   "metadata": {},
   "source": [
    "### 상관관계 분석"
   ]
  },
  {
   "cell_type": "code",
   "execution_count": 33,
   "metadata": {
    "tags": []
   },
   "outputs": [
    {
     "name": "stdout",
     "output_type": "stream",
     "text": [
      "<class 'pandas.core.frame.DataFrame'>\n",
      "Int64Index: 6599 entries, 0 to 6598\n",
      "Data columns (total 20 columns):\n",
      " #   Column                     Non-Null Count  Dtype\n",
      "---  ------                     --------------  -----\n",
      " 0   ID                         6599 non-null   int64\n",
      " 1   Customer_care_calls        6599 non-null   int64\n",
      " 2   Customer_rating            6599 non-null   int64\n",
      " 3   Cost_of_the_Product        6599 non-null   int64\n",
      " 4   Prior_purchases            6599 non-null   int64\n",
      " 5   Discount_offered           6599 non-null   int64\n",
      " 6   Weight_in_gms              6599 non-null   int64\n",
      " 7   Gender                     6599 non-null   int64\n",
      " 8   Warehouse_block_A          6599 non-null   uint8\n",
      " 9   Warehouse_block_B          6599 non-null   uint8\n",
      " 10  Warehouse_block_C          6599 non-null   uint8\n",
      " 11  Warehouse_block_D          6599 non-null   uint8\n",
      " 12  Warehouse_block_F          6599 non-null   uint8\n",
      " 13  Mode_of_Shipment_Flight    6599 non-null   uint8\n",
      " 14  Mode_of_Shipment_Road      6599 non-null   uint8\n",
      " 15  Mode_of_Shipment_Ship      6599 non-null   uint8\n",
      " 16  Product_importance_high    6599 non-null   uint8\n",
      " 17  Product_importance_low     6599 non-null   uint8\n",
      " 18  Product_importance_medium  6599 non-null   uint8\n",
      " 19  Reached.on.Time_Y.N        6599 non-null   int64\n",
      "dtypes: int64(9), uint8(11)\n",
      "memory usage: 586.4 KB\n"
     ]
    }
   ],
   "source": [
    "dfXY = pd.merge(dfX2, Y, on='ID')\n",
    "dfXY.info()"
   ]
  },
  {
   "cell_type": "code",
   "execution_count": 34,
   "metadata": {
    "tags": []
   },
   "outputs": [
    {
     "data": {
      "text/plain": [
       "ID                          -0.4034\n",
       "Customer_care_calls         -0.0712\n",
       "Customer_rating              0.0227\n",
       "Cost_of_the_Product         -0.0726\n",
       "Prior_purchases             -0.0617\n",
       "Discount_offered             0.3941\n",
       "Weight_in_gms               -0.2745\n",
       "Gender                       0.0074\n",
       "Warehouse_block_A            0.0126\n",
       "Warehouse_block_B           -0.0076\n",
       "Warehouse_block_C           -0.0041\n",
       "Warehouse_block_D           -0.0035\n",
       "Warehouse_block_F            0.0020\n",
       "Mode_of_Shipment_Flight      0.0041\n",
       "Mode_of_Shipment_Road       -0.0096\n",
       "Mode_of_Shipment_Ship        0.0042\n",
       "Product_importance_high      0.0229\n",
       "Product_importance_low      -0.0060\n",
       "Product_importance_medium   -0.0069\n",
       "Reached.on.Time_Y.N          1.0000\n",
       "Name: Reached.on.Time_Y.N, dtype: float64"
      ]
     },
     "execution_count": 34,
     "metadata": {},
     "output_type": "execute_result"
    }
   ],
   "source": [
    "dfXY.corr(numeric_only=True)['Reached.on.Time_Y.N']"
   ]
  },
  {
   "cell_type": "markdown",
   "metadata": {},
   "source": [
    "### 모델링"
   ]
  },
  {
   "cell_type": "code",
   "execution_count": 35,
   "metadata": {
    "tags": []
   },
   "outputs": [],
   "source": [
    "from sklearn.metrics import accuracy_score, precision_score, recall_score, f1_score, roc_auc_score\n",
    "\n",
    "def get_model_score(model, xtrain, xtest, ytrain, ytest):\n",
    "    pred1 = model.predict(xtrain)\n",
    "    pred2 = model.predict(xtest)\n",
    "    \n",
    "    A1 = accuracy_score(ytrain, pred1)\n",
    "    A2 = accuracy_score(ytest, pred2)\n",
    "    B = precision_score(ytest, pred2)\n",
    "    C = recall_score(ytest, pred2)\n",
    "    D = f1_score(ytest, pred2)\n",
    "    E = roc_auc_score(ytest, model.predict_proba(xtest)[:,1])\n",
    "    \n",
    "    scores = pd.Series([A1, A2, B, C, D, E], index='Train_Accurary Test_Accuracy Precision Recall F1 ROC_AUC'.split())\n",
    "    return scores"
   ]
  },
  {
   "cell_type": "code",
   "execution_count": 36,
   "metadata": {
    "tags": []
   },
   "outputs": [],
   "source": [
    "from sklearn.model_selection import GridSearchCV\n",
    "\n",
    "from sklearn.linear_model import LogisticRegression\n",
    "from sklearn.neighbors import KNeighborsClassifier\n",
    "from sklearn.tree import DecisionTreeClassifier\n",
    "from sklearn.ensemble import RandomForestClassifier\n",
    "from xgboost import XGBClassifier\n",
    "\n",
    "def compare_model(xtrain, xtest, ytrain, ytest):\n",
    "    result = pd.DataFrame()\n",
    "    \n",
    "    model = LogisticRegression(random_state=0).fit(xtrain, ytrain)\n",
    "    result[model.__class__.__name__] = get_model_score(model, xtrain, xtest, ytrain, ytest)\n",
    "\n",
    "    model = KNeighborsClassifier().fit(xtrain, ytrain)\n",
    "    result[model.__class__.__name__] = get_model_score(model, xtrain, xtest, ytrain, ytest)\n",
    "    \n",
    "    # params = {'n_neighbors':range(3,15)}\n",
    "    # model = GridSearchCV(KNeighborsClassifier(), params).fit(xtrain, ytrain).best_estimator_\n",
    "    # result['GridSearchCV'] = get_model_score(model, xtrain, xtest, ytrain, ytest) \n",
    "    \n",
    "    model = DecisionTreeClassifier(random_state=0).fit(xtrain, ytrain)\n",
    "    result[model.__class__.__name__] = get_model_score(model, xtrain, xtest, ytrain, ytest)\n",
    "\n",
    "    model = RandomForestClassifier(random_state=0).fit(xtrain, ytrain)\n",
    "    result[model.__class__.__name__] = get_model_score(model, xtrain, xtest, ytrain, ytest)\n",
    "\n",
    "    for d in range(3,10):\n",
    "        model = RandomForestClassifier(max_depth=d, random_state=0).fit(xtrain, ytrain)\n",
    "        result[f'{model.__class__.__name__}_{d}'] = get_model_score(model, xtrain, xtest, ytrain, ytest)\n",
    "    \n",
    "    model = XGBClassifier(random_state=0).fit(xtrain, ytrain)\n",
    "    result[model.__class__.__name__] = get_model_score(model, xtrain, xtest, ytrain, ytest)\n",
    "    \n",
    "    result = result.T\n",
    "    result.insert(2, 'DIFF', (result['Train_Accurary'] - result['Test_Accuracy']).abs())\n",
    "    \n",
    "    return result"
   ]
  },
  {
   "cell_type": "code",
   "execution_count": 37,
   "metadata": {
    "tags": []
   },
   "outputs": [],
   "source": [
    "from sklearn.preprocessing import MinMaxScaler\n",
    "\n",
    "def get_model_data(dfX, Y, train_size, is_scaled=False):\n",
    "    X_temp = dfX.drop(columns=['ID'])\n",
    "    YF = Y['Reached.on.Time_Y.N']\n",
    "    \n",
    "    if is_scaled:\n",
    "        X_temp = MinMaxScaler().fit_transform(X_temp)\n",
    "        \n",
    "    XF = X_temp[:train_size]\n",
    "    X_submissioinF = X_temp[train_size:]\n",
    "    \n",
    "    return XF, X_submissioinF, YF"
   ]
  },
  {
   "cell_type": "code",
   "execution_count": 38,
   "metadata": {
    "tags": []
   },
   "outputs": [
    {
     "name": "stdout",
     "output_type": "stream",
     "text": [
      "[(6599, 11), (6599, 2), (4400, 11)]\n",
      "[(6599, 18), (6599,), (4400, 18)]\n",
      "[(4619, 18), (1980, 18), (4619,), (1980,)]\n"
     ]
    }
   ],
   "source": [
    "from sklearn.model_selection import train_test_split\n",
    "\n",
    "XF, X_submissionF, YF = get_model_data(dfX2, Y, len(X), False)\n",
    "print([x.shape for x in [X, Y, X_submission]])\n",
    "print([x.shape for x in [XF, YF, X_submissionF]])\n",
    "\n",
    "xtrain, xtest, ytrain, ytest = train_test_split(XF, YF, test_size=0.3, random_state=0, stratify=YF)\n",
    "print([x.shape for x in [xtrain, xtest, ytrain, ytest]])"
   ]
  },
  {
   "cell_type": "code",
   "execution_count": 39,
   "metadata": {
    "tags": []
   },
   "outputs": [],
   "source": [
    "result_1 = compare_model(xtrain, xtest, ytrain, ytest)"
   ]
  },
  {
   "cell_type": "code",
   "execution_count": 40,
   "metadata": {
    "tags": []
   },
   "outputs": [
    {
     "data": {
      "text/html": [
       "<div>\n",
       "<style scoped>\n",
       "    .dataframe tbody tr th:only-of-type {\n",
       "        vertical-align: middle;\n",
       "    }\n",
       "\n",
       "    .dataframe tbody tr th {\n",
       "        vertical-align: top;\n",
       "    }\n",
       "\n",
       "    .dataframe thead th {\n",
       "        text-align: right;\n",
       "    }\n",
       "</style>\n",
       "<table border=\"1\" class=\"dataframe\">\n",
       "  <thead>\n",
       "    <tr style=\"text-align: right;\">\n",
       "      <th></th>\n",
       "      <th>Train_Accurary</th>\n",
       "      <th>Test_Accuracy</th>\n",
       "      <th>DIFF</th>\n",
       "      <th>Precision</th>\n",
       "      <th>Recall</th>\n",
       "      <th>F1</th>\n",
       "      <th>ROC_AUC</th>\n",
       "    </tr>\n",
       "  </thead>\n",
       "  <tbody>\n",
       "    <tr>\n",
       "      <th>RandomForestClassifier_4</th>\n",
       "      <td>0.6937</td>\n",
       "      <td>0.6747</td>\n",
       "      <td>0.0189</td>\n",
       "      <td>0.8135</td>\n",
       "      <td>0.5905</td>\n",
       "      <td>0.6843</td>\n",
       "      <td>0.7449</td>\n",
       "    </tr>\n",
       "    <tr>\n",
       "      <th>RandomForestClassifier_7</th>\n",
       "      <td>0.7577</td>\n",
       "      <td>0.6717</td>\n",
       "      <td>0.0860</td>\n",
       "      <td>0.8376</td>\n",
       "      <td>0.5584</td>\n",
       "      <td>0.6701</td>\n",
       "      <td>0.7386</td>\n",
       "    </tr>\n",
       "    <tr>\n",
       "      <th>RandomForestClassifier_3</th>\n",
       "      <td>0.6781</td>\n",
       "      <td>0.6697</td>\n",
       "      <td>0.0084</td>\n",
       "      <td>0.7553</td>\n",
       "      <td>0.6607</td>\n",
       "      <td>0.7049</td>\n",
       "      <td>0.7509</td>\n",
       "    </tr>\n",
       "    <tr>\n",
       "      <th>RandomForestClassifier_5</th>\n",
       "      <td>0.7140</td>\n",
       "      <td>0.6697</td>\n",
       "      <td>0.0443</td>\n",
       "      <td>0.8359</td>\n",
       "      <td>0.5558</td>\n",
       "      <td>0.6677</td>\n",
       "      <td>0.7404</td>\n",
       "    </tr>\n",
       "    <tr>\n",
       "      <th>RandomForestClassifier_8</th>\n",
       "      <td>0.7952</td>\n",
       "      <td>0.6677</td>\n",
       "      <td>0.1275</td>\n",
       "      <td>0.8359</td>\n",
       "      <td>0.5516</td>\n",
       "      <td>0.6646</td>\n",
       "      <td>0.7340</td>\n",
       "    </tr>\n",
       "    <tr>\n",
       "      <th>RandomForestClassifier_6</th>\n",
       "      <td>0.7350</td>\n",
       "      <td>0.6657</td>\n",
       "      <td>0.0694</td>\n",
       "      <td>0.8368</td>\n",
       "      <td>0.5465</td>\n",
       "      <td>0.6612</td>\n",
       "      <td>0.7361</td>\n",
       "    </tr>\n",
       "    <tr>\n",
       "      <th>RandomForestClassifier_9</th>\n",
       "      <td>0.8411</td>\n",
       "      <td>0.6631</td>\n",
       "      <td>0.1780</td>\n",
       "      <td>0.8129</td>\n",
       "      <td>0.5660</td>\n",
       "      <td>0.6673</td>\n",
       "      <td>0.7306</td>\n",
       "    </tr>\n",
       "    <tr>\n",
       "      <th>XGBClassifier</th>\n",
       "      <td>0.9470</td>\n",
       "      <td>0.6530</td>\n",
       "      <td>0.2939</td>\n",
       "      <td>0.7355</td>\n",
       "      <td>0.6540</td>\n",
       "      <td>0.6923</td>\n",
       "      <td>0.7344</td>\n",
       "    </tr>\n",
       "    <tr>\n",
       "      <th>RandomForestClassifier</th>\n",
       "      <td>1.0000</td>\n",
       "      <td>0.6505</td>\n",
       "      <td>0.3495</td>\n",
       "      <td>0.7421</td>\n",
       "      <td>0.6354</td>\n",
       "      <td>0.6846</td>\n",
       "      <td>0.7219</td>\n",
       "    </tr>\n",
       "    <tr>\n",
       "      <th>KNeighborsClassifier</th>\n",
       "      <td>0.7751</td>\n",
       "      <td>0.6475</td>\n",
       "      <td>0.1276</td>\n",
       "      <td>0.7161</td>\n",
       "      <td>0.6785</td>\n",
       "      <td>0.6968</td>\n",
       "      <td>0.7258</td>\n",
       "    </tr>\n",
       "    <tr>\n",
       "      <th>DecisionTreeClassifier</th>\n",
       "      <td>1.0000</td>\n",
       "      <td>0.6419</td>\n",
       "      <td>0.3581</td>\n",
       "      <td>0.6972</td>\n",
       "      <td>0.7073</td>\n",
       "      <td>0.7022</td>\n",
       "      <td>0.6262</td>\n",
       "    </tr>\n",
       "    <tr>\n",
       "      <th>LogisticRegression</th>\n",
       "      <td>0.6404</td>\n",
       "      <td>0.6333</td>\n",
       "      <td>0.0071</td>\n",
       "      <td>0.6993</td>\n",
       "      <td>0.6768</td>\n",
       "      <td>0.6879</td>\n",
       "      <td>0.7111</td>\n",
       "    </tr>\n",
       "  </tbody>\n",
       "</table>\n",
       "</div>"
      ],
      "text/plain": [
       "                          Train_Accurary  Test_Accuracy   DIFF  Precision  \\\n",
       "RandomForestClassifier_4          0.6937         0.6747 0.0189     0.8135   \n",
       "RandomForestClassifier_7          0.7577         0.6717 0.0860     0.8376   \n",
       "RandomForestClassifier_3          0.6781         0.6697 0.0084     0.7553   \n",
       "RandomForestClassifier_5          0.7140         0.6697 0.0443     0.8359   \n",
       "RandomForestClassifier_8          0.7952         0.6677 0.1275     0.8359   \n",
       "RandomForestClassifier_6          0.7350         0.6657 0.0694     0.8368   \n",
       "RandomForestClassifier_9          0.8411         0.6631 0.1780     0.8129   \n",
       "XGBClassifier                     0.9470         0.6530 0.2939     0.7355   \n",
       "RandomForestClassifier            1.0000         0.6505 0.3495     0.7421   \n",
       "KNeighborsClassifier              0.7751         0.6475 0.1276     0.7161   \n",
       "DecisionTreeClassifier            1.0000         0.6419 0.3581     0.6972   \n",
       "LogisticRegression                0.6404         0.6333 0.0071     0.6993   \n",
       "\n",
       "                          Recall     F1  ROC_AUC  \n",
       "RandomForestClassifier_4  0.5905 0.6843   0.7449  \n",
       "RandomForestClassifier_7  0.5584 0.6701   0.7386  \n",
       "RandomForestClassifier_3  0.6607 0.7049   0.7509  \n",
       "RandomForestClassifier_5  0.5558 0.6677   0.7404  \n",
       "RandomForestClassifier_8  0.5516 0.6646   0.7340  \n",
       "RandomForestClassifier_6  0.5465 0.6612   0.7361  \n",
       "RandomForestClassifier_9  0.5660 0.6673   0.7306  \n",
       "XGBClassifier             0.6540 0.6923   0.7344  \n",
       "RandomForestClassifier    0.6354 0.6846   0.7219  \n",
       "KNeighborsClassifier      0.6785 0.6968   0.7258  \n",
       "DecisionTreeClassifier    0.7073 0.7022   0.6262  \n",
       "LogisticRegression        0.6768 0.6879   0.7111  "
      ]
     },
     "execution_count": 40,
     "metadata": {},
     "output_type": "execute_result"
    }
   ],
   "source": [
    "result_1.sort_values(['Test_Accuracy', 'ROC_AUC', 'DIFF'], ascending=[False, False, True])\n",
    "# RandomForestClassifier_4\t0.6937\t0.6747\t0.0189\t0.8135\t0.5905\t0.6843\t0.7449\n",
    "# XGBClassifier\t0.9470\t0.6530\t0.2939\t0.7355\t0.6540\t0.6923\t0.7344"
   ]
  },
  {
   "cell_type": "code",
   "execution_count": 41,
   "metadata": {
    "tags": []
   },
   "outputs": [
    {
     "name": "stdout",
     "output_type": "stream",
     "text": [
      "[(6599, 11), (6599, 2), (4400, 11)]\n",
      "[(6599, 18), (6599,), (4400, 18)]\n",
      "[(4619, 18), (1980, 18), (4619,), (1980,)]\n"
     ]
    }
   ],
   "source": [
    "from sklearn.model_selection import train_test_split\n",
    "\n",
    "XF2, X_submissionF2, YF2 = get_model_data(dfX2, Y, len(X), True)\n",
    "print([x.shape for x in [X, Y, X_submission]])\n",
    "print([x.shape for x in [XF2, YF2, X_submissionF2]])\n",
    "\n",
    "xtrain2, xtest2, ytrain2, ytest2 = train_test_split(XF2, YF2, test_size=0.3, random_state=0, stratify=YF2)\n",
    "print([x.shape for x in [xtrain2, xtest2, ytrain2, ytest2]])"
   ]
  },
  {
   "cell_type": "code",
   "execution_count": 42,
   "metadata": {
    "tags": []
   },
   "outputs": [],
   "source": [
    "result_2 = compare_model(xtrain2, xtest2, ytrain2, ytest2)"
   ]
  },
  {
   "cell_type": "code",
   "execution_count": 43,
   "metadata": {
    "tags": []
   },
   "outputs": [
    {
     "data": {
      "text/html": [
       "<div>\n",
       "<style scoped>\n",
       "    .dataframe tbody tr th:only-of-type {\n",
       "        vertical-align: middle;\n",
       "    }\n",
       "\n",
       "    .dataframe tbody tr th {\n",
       "        vertical-align: top;\n",
       "    }\n",
       "\n",
       "    .dataframe thead th {\n",
       "        text-align: right;\n",
       "    }\n",
       "</style>\n",
       "<table border=\"1\" class=\"dataframe\">\n",
       "  <thead>\n",
       "    <tr style=\"text-align: right;\">\n",
       "      <th></th>\n",
       "      <th>Train_Accurary</th>\n",
       "      <th>Test_Accuracy</th>\n",
       "      <th>DIFF</th>\n",
       "      <th>Precision</th>\n",
       "      <th>Recall</th>\n",
       "      <th>F1</th>\n",
       "      <th>ROC_AUC</th>\n",
       "    </tr>\n",
       "  </thead>\n",
       "  <tbody>\n",
       "    <tr>\n",
       "      <th>RandomForestClassifier_4</th>\n",
       "      <td>0.6937</td>\n",
       "      <td>0.6747</td>\n",
       "      <td>0.0189</td>\n",
       "      <td>0.8135</td>\n",
       "      <td>0.5905</td>\n",
       "      <td>0.6843</td>\n",
       "      <td>0.7449</td>\n",
       "    </tr>\n",
       "    <tr>\n",
       "      <th>RandomForestClassifier_7</th>\n",
       "      <td>0.7575</td>\n",
       "      <td>0.6722</td>\n",
       "      <td>0.0853</td>\n",
       "      <td>0.8386</td>\n",
       "      <td>0.5584</td>\n",
       "      <td>0.6704</td>\n",
       "      <td>0.7384</td>\n",
       "    </tr>\n",
       "    <tr>\n",
       "      <th>RandomForestClassifier_3</th>\n",
       "      <td>0.6781</td>\n",
       "      <td>0.6697</td>\n",
       "      <td>0.0084</td>\n",
       "      <td>0.7553</td>\n",
       "      <td>0.6607</td>\n",
       "      <td>0.7049</td>\n",
       "      <td>0.7509</td>\n",
       "    </tr>\n",
       "    <tr>\n",
       "      <th>RandomForestClassifier_5</th>\n",
       "      <td>0.7140</td>\n",
       "      <td>0.6697</td>\n",
       "      <td>0.0443</td>\n",
       "      <td>0.8359</td>\n",
       "      <td>0.5558</td>\n",
       "      <td>0.6677</td>\n",
       "      <td>0.7405</td>\n",
       "    </tr>\n",
       "    <tr>\n",
       "      <th>RandomForestClassifier_8</th>\n",
       "      <td>0.7952</td>\n",
       "      <td>0.6677</td>\n",
       "      <td>0.1275</td>\n",
       "      <td>0.8359</td>\n",
       "      <td>0.5516</td>\n",
       "      <td>0.6646</td>\n",
       "      <td>0.7340</td>\n",
       "    </tr>\n",
       "    <tr>\n",
       "      <th>RandomForestClassifier_6</th>\n",
       "      <td>0.7354</td>\n",
       "      <td>0.6657</td>\n",
       "      <td>0.0698</td>\n",
       "      <td>0.8368</td>\n",
       "      <td>0.5465</td>\n",
       "      <td>0.6612</td>\n",
       "      <td>0.7360</td>\n",
       "    </tr>\n",
       "    <tr>\n",
       "      <th>RandomForestClassifier_9</th>\n",
       "      <td>0.8413</td>\n",
       "      <td>0.6646</td>\n",
       "      <td>0.1767</td>\n",
       "      <td>0.8151</td>\n",
       "      <td>0.5668</td>\n",
       "      <td>0.6687</td>\n",
       "      <td>0.7311</td>\n",
       "    </tr>\n",
       "    <tr>\n",
       "      <th>XGBClassifier</th>\n",
       "      <td>0.9470</td>\n",
       "      <td>0.6530</td>\n",
       "      <td>0.2939</td>\n",
       "      <td>0.7355</td>\n",
       "      <td>0.6540</td>\n",
       "      <td>0.6923</td>\n",
       "      <td>0.7345</td>\n",
       "    </tr>\n",
       "    <tr>\n",
       "      <th>RandomForestClassifier</th>\n",
       "      <td>1.0000</td>\n",
       "      <td>0.6510</td>\n",
       "      <td>0.3490</td>\n",
       "      <td>0.7428</td>\n",
       "      <td>0.6354</td>\n",
       "      <td>0.6849</td>\n",
       "      <td>0.7221</td>\n",
       "    </tr>\n",
       "    <tr>\n",
       "      <th>DecisionTreeClassifier</th>\n",
       "      <td>1.0000</td>\n",
       "      <td>0.6429</td>\n",
       "      <td>0.3571</td>\n",
       "      <td>0.6981</td>\n",
       "      <td>0.7081</td>\n",
       "      <td>0.7031</td>\n",
       "      <td>0.6272</td>\n",
       "    </tr>\n",
       "    <tr>\n",
       "      <th>LogisticRegression</th>\n",
       "      <td>0.6493</td>\n",
       "      <td>0.6364</td>\n",
       "      <td>0.0129</td>\n",
       "      <td>0.7005</td>\n",
       "      <td>0.6827</td>\n",
       "      <td>0.6915</td>\n",
       "      <td>0.7215</td>\n",
       "    </tr>\n",
       "    <tr>\n",
       "      <th>KNeighborsClassifier</th>\n",
       "      <td>0.7675</td>\n",
       "      <td>0.6146</td>\n",
       "      <td>0.1528</td>\n",
       "      <td>0.6823</td>\n",
       "      <td>0.6633</td>\n",
       "      <td>0.6727</td>\n",
       "      <td>0.6669</td>\n",
       "    </tr>\n",
       "  </tbody>\n",
       "</table>\n",
       "</div>"
      ],
      "text/plain": [
       "                          Train_Accurary  Test_Accuracy   DIFF  Precision  \\\n",
       "RandomForestClassifier_4          0.6937         0.6747 0.0189     0.8135   \n",
       "RandomForestClassifier_7          0.7575         0.6722 0.0853     0.8386   \n",
       "RandomForestClassifier_3          0.6781         0.6697 0.0084     0.7553   \n",
       "RandomForestClassifier_5          0.7140         0.6697 0.0443     0.8359   \n",
       "RandomForestClassifier_8          0.7952         0.6677 0.1275     0.8359   \n",
       "RandomForestClassifier_6          0.7354         0.6657 0.0698     0.8368   \n",
       "RandomForestClassifier_9          0.8413         0.6646 0.1767     0.8151   \n",
       "XGBClassifier                     0.9470         0.6530 0.2939     0.7355   \n",
       "RandomForestClassifier            1.0000         0.6510 0.3490     0.7428   \n",
       "DecisionTreeClassifier            1.0000         0.6429 0.3571     0.6981   \n",
       "LogisticRegression                0.6493         0.6364 0.0129     0.7005   \n",
       "KNeighborsClassifier              0.7675         0.6146 0.1528     0.6823   \n",
       "\n",
       "                          Recall     F1  ROC_AUC  \n",
       "RandomForestClassifier_4  0.5905 0.6843   0.7449  \n",
       "RandomForestClassifier_7  0.5584 0.6704   0.7384  \n",
       "RandomForestClassifier_3  0.6607 0.7049   0.7509  \n",
       "RandomForestClassifier_5  0.5558 0.6677   0.7405  \n",
       "RandomForestClassifier_8  0.5516 0.6646   0.7340  \n",
       "RandomForestClassifier_6  0.5465 0.6612   0.7360  \n",
       "RandomForestClassifier_9  0.5668 0.6687   0.7311  \n",
       "XGBClassifier             0.6540 0.6923   0.7345  \n",
       "RandomForestClassifier    0.6354 0.6849   0.7221  \n",
       "DecisionTreeClassifier    0.7081 0.7031   0.6272  \n",
       "LogisticRegression        0.6827 0.6915   0.7215  \n",
       "KNeighborsClassifier      0.6633 0.6727   0.6669  "
      ]
     },
     "execution_count": 43,
     "metadata": {},
     "output_type": "execute_result"
    }
   ],
   "source": [
    "result_2.sort_values(['Test_Accuracy', 'ROC_AUC', 'DIFF'], ascending=[False, False, True])"
   ]
  },
  {
   "cell_type": "code",
   "execution_count": 44,
   "metadata": {
    "tags": []
   },
   "outputs": [
    {
     "data": {
      "text/plain": [
       "Train_Accurary   0.6937\n",
       "Test_Accuracy    0.6747\n",
       "Precision        0.8135\n",
       "Recall           0.5905\n",
       "F1               0.6843\n",
       "ROC_AUC          0.7449\n",
       "dtype: float64"
      ]
     },
     "execution_count": 44,
     "metadata": {},
     "output_type": "execute_result"
    }
   ],
   "source": [
    "model = RandomForestClassifier(random_state=0, max_depth=4).fit(xtrain, ytrain)\n",
    "get_model_score(model, xtrain, xtest, ytrain, ytest)"
   ]
  },
  {
   "cell_type": "code",
   "execution_count": 45,
   "metadata": {
    "tags": []
   },
   "outputs": [],
   "source": [
    "Y_pred = model.predict_proba(X_submissionF)[:,1]\n",
    "submission = pd.DataFrame({'ID': X_submission['ID'], 'Reached.on.Time_Y.N': Y_pred})\n",
    "submission.to_csv('./bigdata/submission_2.csv', index=False)"
   ]
  },
  {
   "cell_type": "markdown",
   "metadata": {},
   "source": [
    "### 정답과 비교"
   ]
  },
  {
   "cell_type": "code",
   "execution_count": 46,
   "metadata": {
    "tags": []
   },
   "outputs": [
    {
     "data": {
      "text/html": [
       "<div>\n",
       "<style scoped>\n",
       "    .dataframe tbody tr th:only-of-type {\n",
       "        vertical-align: middle;\n",
       "    }\n",
       "\n",
       "    .dataframe tbody tr th {\n",
       "        vertical-align: top;\n",
       "    }\n",
       "\n",
       "    .dataframe thead th {\n",
       "        text-align: right;\n",
       "    }\n",
       "</style>\n",
       "<table border=\"1\" class=\"dataframe\">\n",
       "  <thead>\n",
       "    <tr style=\"text-align: right;\">\n",
       "      <th></th>\n",
       "      <th>ID</th>\n",
       "      <th>Reached.on.Time_Y.N</th>\n",
       "    </tr>\n",
       "  </thead>\n",
       "  <tbody>\n",
       "    <tr>\n",
       "      <th>0</th>\n",
       "      <td>7007</td>\n",
       "      <td>0</td>\n",
       "    </tr>\n",
       "    <tr>\n",
       "      <th>1</th>\n",
       "      <td>9793</td>\n",
       "      <td>1</td>\n",
       "    </tr>\n",
       "  </tbody>\n",
       "</table>\n",
       "</div>"
      ],
      "text/plain": [
       "     ID  Reached.on.Time_Y.N\n",
       "0  7007                    0\n",
       "1  9793                    1"
      ]
     },
     "execution_count": 46,
     "metadata": {},
     "output_type": "execute_result"
    }
   ],
   "source": [
    "Y_true = pd.read_csv('./y_test.csv')\n",
    "Y_true.head(2)"
   ]
  },
  {
   "cell_type": "code",
   "execution_count": 47,
   "metadata": {
    "tags": []
   },
   "outputs": [
    {
     "data": {
      "text/html": [
       "<div>\n",
       "<style scoped>\n",
       "    .dataframe tbody tr th:only-of-type {\n",
       "        vertical-align: middle;\n",
       "    }\n",
       "\n",
       "    .dataframe tbody tr th {\n",
       "        vertical-align: top;\n",
       "    }\n",
       "\n",
       "    .dataframe thead th {\n",
       "        text-align: right;\n",
       "    }\n",
       "</style>\n",
       "<table border=\"1\" class=\"dataframe\">\n",
       "  <thead>\n",
       "    <tr style=\"text-align: right;\">\n",
       "      <th></th>\n",
       "      <th>ID</th>\n",
       "      <th>Reached.on.Time_Y.N</th>\n",
       "    </tr>\n",
       "  </thead>\n",
       "  <tbody>\n",
       "    <tr>\n",
       "      <th>0</th>\n",
       "      <td>7007</td>\n",
       "      <td>0</td>\n",
       "    </tr>\n",
       "    <tr>\n",
       "      <th>1</th>\n",
       "      <td>9793</td>\n",
       "      <td>0</td>\n",
       "    </tr>\n",
       "  </tbody>\n",
       "</table>\n",
       "</div>"
      ],
      "text/plain": [
       "     ID  Reached.on.Time_Y.N\n",
       "0  7007                    0\n",
       "1  9793                    0"
      ]
     },
     "execution_count": 47,
     "metadata": {},
     "output_type": "execute_result"
    }
   ],
   "source": [
    "Y_pred = model.predict(X_submissionF)\n",
    "Y_predict = pd.DataFrame({'ID': X_submission['ID'], 'Reached.on.Time_Y.N': Y_pred})\n",
    "Y_predict.head(2)"
   ]
  },
  {
   "cell_type": "code",
   "execution_count": 48,
   "metadata": {
    "tags": []
   },
   "outputs": [],
   "source": [
    "# 정확도: 0.6616, 정밀도: 0.7357, Recall: 0.6754"
   ]
  },
  {
   "cell_type": "code",
   "execution_count": 49,
   "metadata": {
    "tags": []
   },
   "outputs": [
    {
     "data": {
      "text/plain": [
       "array([[1380,  395],\n",
       "       [1053, 1572]])"
      ]
     },
     "execution_count": 49,
     "metadata": {},
     "output_type": "execute_result"
    }
   ],
   "source": [
    "from sklearn.metrics import confusion_matrix\n",
    "\n",
    "confusion_matrix(Y_true['Reached.on.Time_Y.N'], Y_predict['Reached.on.Time_Y.N'])"
   ]
  },
  {
   "cell_type": "code",
   "execution_count": 50,
   "metadata": {
    "tags": []
   },
   "outputs": [
    {
     "data": {
      "text/plain": [
       "0.6709090909090909"
      ]
     },
     "execution_count": 50,
     "metadata": {},
     "output_type": "execute_result"
    }
   ],
   "source": [
    "accuracy_score(Y_true['Reached.on.Time_Y.N'], Y_predict['Reached.on.Time_Y.N'])"
   ]
  },
  {
   "cell_type": "code",
   "execution_count": 51,
   "metadata": {
    "tags": []
   },
   "outputs": [
    {
     "data": {
      "text/plain": [
       "0.7991865785460092"
      ]
     },
     "execution_count": 51,
     "metadata": {},
     "output_type": "execute_result"
    }
   ],
   "source": [
    "precision_score(Y_true['Reached.on.Time_Y.N'], Y_predict['Reached.on.Time_Y.N'])"
   ]
  },
  {
   "cell_type": "code",
   "execution_count": 52,
   "metadata": {
    "tags": []
   },
   "outputs": [
    {
     "data": {
      "text/plain": [
       "0.5988571428571429"
      ]
     },
     "execution_count": 52,
     "metadata": {},
     "output_type": "execute_result"
    }
   ],
   "source": [
    "recall_score(Y_true['Reached.on.Time_Y.N'], Y_predict['Reached.on.Time_Y.N'])"
   ]
  },
  {
   "cell_type": "code",
   "execution_count": 53,
   "metadata": {
    "tags": []
   },
   "outputs": [
    {
     "data": {
      "text/plain": [
       "0.6846689895470384"
      ]
     },
     "execution_count": 53,
     "metadata": {},
     "output_type": "execute_result"
    }
   ],
   "source": [
    "f1_score(Y_true['Reached.on.Time_Y.N'], Y_predict['Reached.on.Time_Y.N'])"
   ]
  }
 ],
 "metadata": {
  "colab": {
   "collapsed_sections": [
    "fepF01fW_Mki",
    "uMhxcUyi_UJQ",
    "KMHZMoow_ekq",
    "UZgAmIsP_0SU",
    "PiwGuNDb_3iv",
    "9D8QN5a5AJgn",
    "KfMgiog6AVPO"
   ],
   "provenance": [],
   "toc_visible": true
  },
  "kernelspec": {
   "display_name": "Python 3 (ipykernel)",
   "language": "python",
   "name": "python3"
  },
  "language_info": {
   "codemirror_mode": {
    "name": "ipython",
    "version": 3
   },
   "file_extension": ".py",
   "mimetype": "text/x-python",
   "name": "python",
   "nbconvert_exporter": "python",
   "pygments_lexer": "ipython3",
   "version": "3.8.16"
  }
 },
 "nbformat": 4,
 "nbformat_minor": 4
}
