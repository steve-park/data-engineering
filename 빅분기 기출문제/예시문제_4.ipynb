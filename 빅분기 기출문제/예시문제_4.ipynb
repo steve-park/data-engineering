{
 "cells": [
  {
   "cell_type": "markdown",
   "metadata": {
    "id": "9wr6snMrGMHo"
   },
   "source": [
    "## 2.기출문제 (빅분기 실기 4회)"
   ]
  },
  {
   "cell_type": "code",
   "execution_count": null,
   "metadata": {
    "id": "dvyzPcRnDb3w"
   },
   "outputs": [],
   "source": [
    "# 데이터 다운로드"
   ]
  },
  {
   "cell_type": "code",
   "execution_count": null,
   "metadata": {
    "id": "SqK7UuUrWqfP"
   },
   "outputs": [],
   "source": [
    "!git clone https://github.com/Soyoung-Yoon/bigdata"
   ]
  },
  {
   "cell_type": "markdown",
   "metadata": {
    "id": "XmsDHqDFBzM3"
   },
   "source": [
    "#### 2-1. 신상 데이터\n",
    "age 컬럼에 대해 아래의 과정을 수행하고 (다) 단계의 결과값을 출력하여라.\n",
    "- (가) 제 1사분위수와 제 3사분위수를 구하기\n",
    "- (나) 두 값의 차이 절댓값 구하기\n",
    "- (다) 그 값의 소수점 버리기\n"
   ]
  },
  {
   "cell_type": "code",
   "execution_count": null,
   "metadata": {
    "id": "ttr2QTVbvRMC"
   },
   "outputs": [],
   "source": [
    "#'https://raw.githubusercontent.com/Soyoung-Yoon/bigdata/main/basic1_data04.csv'  파일 사용"
   ]
  },
  {
   "cell_type": "code",
   "execution_count": 1,
   "metadata": {
    "id": "UQvNfXEgKp6e",
    "tags": []
   },
   "outputs": [
    {
     "name": "stdout",
     "output_type": "stream",
     "text": [
      "<class 'pandas.core.frame.DataFrame'>\n",
      "RangeIndex: 100 entries, 0 to 99\n",
      "Data columns (total 8 columns):\n",
      " #   Column  Non-Null Count  Dtype  \n",
      "---  ------  --------------  -----  \n",
      " 0   id      100 non-null    object \n",
      " 1   age     100 non-null    float64\n",
      " 2   city    100 non-null    object \n",
      " 3   f1      69 non-null     float64\n",
      " 4   f2      100 non-null    int64  \n",
      " 5   f3      5 non-null      object \n",
      " 6   f4      100 non-null    object \n",
      " 7   f5      100 non-null    float64\n",
      "dtypes: float64(3), int64(1), object(4)\n",
      "memory usage: 6.4+ KB\n"
     ]
    }
   ],
   "source": [
    "import pandas as pd\n",
    "\n",
    "df = pd.read_csv('https://raw.githubusercontent.com/Soyoung-Yoon/bigdata/main/basic1_data04.csv')\n",
    "df.info()"
   ]
  },
  {
   "cell_type": "code",
   "execution_count": 2,
   "metadata": {
    "tags": []
   },
   "outputs": [
    {
     "name": "stdout",
     "output_type": "stream",
     "text": [
      "     id  age city    f1  f2   f3    f4         f5\n",
      "0  id01  2.0   서울   NaN   0  NaN  ENFJ  91.297791\n",
      "1  id02  9.0   서울  70.0   1  NaN  ENFJ  60.339826\n"
     ]
    }
   ],
   "source": [
    "print(df.head(2))"
   ]
  },
  {
   "cell_type": "code",
   "execution_count": 3,
   "metadata": {
    "tags": []
   },
   "outputs": [
    {
     "data": {
      "text/plain": [
       "id       0\n",
       "age      0\n",
       "city     0\n",
       "f1      31\n",
       "f2       0\n",
       "f3      95\n",
       "f4       0\n",
       "f5       0\n",
       "dtype: int64"
      ]
     },
     "execution_count": 3,
     "metadata": {},
     "output_type": "execute_result"
    }
   ],
   "source": [
    "df.isna().sum()"
   ]
  },
  {
   "cell_type": "code",
   "execution_count": 5,
   "metadata": {
    "tags": []
   },
   "outputs": [
    {
     "name": "stdout",
     "output_type": "stream",
     "text": [
      "26.875, 77.0, 50.125, 50\n"
     ]
    }
   ],
   "source": [
    "# (가) 제 1사분위수와 제 3사분위수를 구하기\n",
    "# (나) 두 값의 차이 절댓값 구하기\n",
    "# (다) 그 값의 소수점 버리기\n",
    "q1, q3 = df['age'].quantile([0.25, 0.75])\n",
    "print(f'{q1}, {q3}, {abs(q3 - q1)}, {abs(q3 - q1):.0f}')"
   ]
  },
  {
   "cell_type": "markdown",
   "metadata": {
    "id": "Uv_3WUzRCFV0"
   },
   "source": [
    "#### 2-2. Facebook 데이터\n",
    "\n",
    "Facebook 데이터셋을 불러와 (loves반응 + wows반응)/(reactions반응) 비율이 0.4보다 크고 0.5보다 작으면서, type이 'video'인 데이터의 갯수를 구하여라\n",
    "- 'https://raw.githubusercontent.com/Soyoung-Yoon/bigdata/main/fb_data04.csv' 파일 사용"
   ]
  },
  {
   "cell_type": "code",
   "execution_count": 6,
   "metadata": {
    "id": "FLkE8PWuwV-I",
    "tags": []
   },
   "outputs": [
    {
     "name": "stdout",
     "output_type": "stream",
     "text": [
      "<class 'pandas.core.frame.DataFrame'>\n",
      "RangeIndex: 7050 entries, 0 to 7049\n",
      "Data columns (total 11 columns):\n",
      " #   Column     Non-Null Count  Dtype \n",
      "---  ------     --------------  ----- \n",
      " 0   id         7050 non-null   int64 \n",
      " 1   type       7050 non-null   object\n",
      " 2   reactions  7050 non-null   int64 \n",
      " 3   comments   7050 non-null   int64 \n",
      " 4   shares     7050 non-null   int64 \n",
      " 5   likes      7050 non-null   int64 \n",
      " 6   loves      7050 non-null   int64 \n",
      " 7   wows       7050 non-null   int64 \n",
      " 8   hahas      7050 non-null   int64 \n",
      " 9   sads       7050 non-null   int64 \n",
      " 10  angrys     7050 non-null   int64 \n",
      "dtypes: int64(10), object(1)\n",
      "memory usage: 606.0+ KB\n",
      "   id   type  reactions  comments  shares  likes  loves  wows  hahas  sads  \\\n",
      "0   1  video        529       512     262    432     92     3      1     1   \n",
      "1   2  photo        150         0       0    150      0     0      0     0   \n",
      "\n",
      "   angrys  \n",
      "0       0  \n",
      "1       0  \n"
     ]
    }
   ],
   "source": [
    "import pandas as pd\n",
    "\n",
    "df = pd.read_csv('https://raw.githubusercontent.com/Soyoung-Yoon/bigdata/main/fb_data04.csv')\n",
    "df.info()\n",
    "print(df.head(2))"
   ]
  },
  {
   "cell_type": "code",
   "execution_count": 9,
   "metadata": {
    "tags": []
   },
   "outputs": [
    {
     "data": {
      "text/plain": [
       "id           0\n",
       "type         0\n",
       "reactions    0\n",
       "comments     0\n",
       "shares       0\n",
       "likes        0\n",
       "loves        0\n",
       "wows         0\n",
       "hahas        0\n",
       "sads         0\n",
       "angrys       0\n",
       "dtype: int64"
      ]
     },
     "execution_count": 9,
     "metadata": {},
     "output_type": "execute_result"
    }
   ],
   "source": [
    "df.isna().sum()"
   ]
  },
  {
   "cell_type": "code",
   "execution_count": 10,
   "metadata": {
    "tags": []
   },
   "outputs": [],
   "source": [
    "# (loves반응 + wows반응)/(reactions반응) 비율이 0.4보다 크고 0.5보다 작으면서, type이 'video'인 데이터의 갯수를 구하여라\n",
    "df['ratio'] = (df['loves'] + df['wows']) / df['reactions']"
   ]
  },
  {
   "cell_type": "code",
   "execution_count": 25,
   "metadata": {
    "tags": []
   },
   "outputs": [
    {
     "name": "stdout",
     "output_type": "stream",
     "text": [
      "90\n"
     ]
    }
   ],
   "source": [
    "print(len(df.loc[(df['ratio'] > 0.4) & (df['ratio'] < 0.5) & (df['type'] == 'video'), :]))"
   ]
  },
  {
   "cell_type": "markdown",
   "metadata": {
    "id": "s0Iohr2QC6As"
   },
   "source": [
    "#### 2-3. 넷플릭스 데이터 \n",
    "netflix_subset 데이터셋에서 date_added가 2018년 1월이면서 country가 United Kingdom 단독 제작인 데이터의 개수를 구하여라\n",
    "- 'https://raw.githubusercontent.com/Soyoung-Yoon/bigdata/main/nf_data04.csv' 파일 사용"
   ]
  },
  {
   "cell_type": "code",
   "execution_count": 26,
   "metadata": {
    "id": "II4-4rISf1Ys",
    "tags": []
   },
   "outputs": [
    {
     "name": "stdout",
     "output_type": "stream",
     "text": [
      "<class 'pandas.core.frame.DataFrame'>\n",
      "RangeIndex: 8807 entries, 0 to 8806\n",
      "Data columns (total 11 columns):\n",
      " #   Column        Non-Null Count  Dtype \n",
      "---  ------        --------------  ----- \n",
      " 0   show_id       8807 non-null   object\n",
      " 1   type          8807 non-null   object\n",
      " 2   title         8807 non-null   object\n",
      " 3   director      6173 non-null   object\n",
      " 4   cast          7982 non-null   object\n",
      " 5   country       7976 non-null   object\n",
      " 6   date_added    8797 non-null   object\n",
      " 7   release_year  8807 non-null   int64 \n",
      " 8   rating        8803 non-null   object\n",
      " 9   duration      8804 non-null   object\n",
      " 10  listed_in     8807 non-null   object\n",
      "dtypes: int64(1), object(10)\n",
      "memory usage: 757.0+ KB\n",
      "  show_id     type                 title         director  \\\n",
      "0      s1    Movie  Dick Johnson Is Dead  Kirsten Johnson   \n",
      "1      s2  TV Show         Blood & Water              NaN   \n",
      "\n",
      "                                                cast        country  \\\n",
      "0                                                NaN  United States   \n",
      "1  Ama Qamata, Khosi Ngema, Gail Mabalane, Thaban...   South Africa   \n",
      "\n",
      "           date_added  release_year rating   duration  \\\n",
      "0  September 25, 2021          2020  PG-13     90 min   \n",
      "1  September 24, 2021          2021  TV-MA  2 Seasons   \n",
      "\n",
      "                                         listed_in  \n",
      "0                                    Documentaries  \n",
      "1  International TV Shows, TV Dramas, TV Mysteries  \n"
     ]
    }
   ],
   "source": [
    "import pandas as pd\n",
    "\n",
    "df = pd.read_csv('https://raw.githubusercontent.com/Soyoung-Yoon/bigdata/main/nf_data04.csv')\n",
    "df.info()\n",
    "print(df.head(2))"
   ]
  },
  {
   "cell_type": "code",
   "execution_count": 36,
   "metadata": {
    "tags": []
   },
   "outputs": [],
   "source": [
    "# date_added가 2018년 1월이면서 country가 United Kingdom 단독 제작인 데이터의 개수를 구하여라\n",
    "df['date_added'] = df['date_added'].astype('datetime64')\n",
    "# print(help(pd.Series.astype))"
   ]
  },
  {
   "cell_type": "code",
   "execution_count": 45,
   "metadata": {
    "tags": []
   },
   "outputs": [
    {
     "name": "stdout",
     "output_type": "stream",
     "text": [
      "6\n"
     ]
    }
   ],
   "source": [
    "temp = df.loc[(df['date_added'].dt.year == 2018) & (df['date_added'].dt.month == 1) & (df['country'] == 'United Kingdom'), 'country']\n",
    "print(len(temp))"
   ]
  },
  {
   "cell_type": "markdown",
   "metadata": {
    "id": "SxegKonKDHPJ"
   },
   "source": [
    "## 3.기출문제 (빅분기 실기 4회)\n",
    "자동차 시장 세분화\n",
    "- 자동차 회사는 새로운 전략을 수립하기 위해 4개의 시장으로 세분화했습니다.\n",
    "- 기존 고객 분류 자료를 바탕으로 신규 고객이 어떤 분류에 속할지 예측해주세요!\n",
    "- 예측할 값(y): \"Segmentation\" (1,2,3,4)\n",
    "- 평가: Macro f1-score\n",
    "- 제출형식\n",
    "\n",
    "        ID,Segmentation\n",
    "        458989,1\n",
    "        458994,2\n",
    "        459000,3\n",
    "        459003,4"
   ]
  },
  {
   "cell_type": "markdown",
   "metadata": {
    "id": "XegtsURWg8XJ"
   },
   "source": [
    "- 다음의 데이터 파일 준비를 실행해서 x_train.csv, y_train.csv, x_test.csv 파일을 준비합니다.\n"
   ]
  },
  {
   "cell_type": "markdown",
   "metadata": {
    "id": "NCqn_6zOtyXi"
   },
   "source": [
    "### 3-01.데이터 불러오기, 탐색"
   ]
  },
  {
   "cell_type": "code",
   "execution_count": 46,
   "metadata": {
    "colab": {
     "base_uri": "https://localhost:8080/"
    },
    "id": "Kbwq4Xf2WiZf",
    "outputId": "ba7e2994-c717-4077-d941-8f58166d3202",
    "tags": []
   },
   "outputs": [
    {
     "name": "stdout",
     "output_type": "stream",
     "text": [
      "파일을 준비했습니다!  X_train.csv, Y_train.csv, X_test.csv !\n"
     ]
    }
   ],
   "source": [
    "# 데이터 파일 준비\n",
    "# 그냥 실행해서 사용 파일을 생성하도록 합니다.\n",
    "import pandas as pd\n",
    "\n",
    "train = pd.read_csv('https://raw.githubusercontent.com/Soyoung-Yoon/bigdata/main/train_04.csv')\n",
    "test = pd.read_csv('https://raw.githubusercontent.com/Soyoung-Yoon/bigdata/main/test_04.csv')\n",
    "train.head(2)\n",
    "X_train = train.iloc[:, :-1]\n",
    "Y_train = train[['ID', 'Segmentation']]\n",
    "X_train.to_csv('X_train.csv', index=False)\n",
    "Y_train.to_csv('Y_train.csv', index=False)\n",
    "test.to_csv('X_test.csv', index=False)\n",
    "print('파일을 준비했습니다!  X_train.csv, Y_train.csv, X_test.csv !')"
   ]
  },
  {
   "cell_type": "code",
   "execution_count": null,
   "metadata": {
    "id": "ljn7qAfH8uw2"
   },
   "outputs": [],
   "source": [
    "# [0] 사용 라이브러리 import\n",
    "import pandas as pd\n",
    "\n",
    "# 데이타가 많은경우 모두 출력 안되고 ... 으로 생략해서 출력됨.\n",
    "pd.set_option('display.max_rows',500)    #출력할 max row를 지정\n",
    "pd.set_option('display.max_columns',20)  #출력할 max columns를 지정\n",
    "#출력 format 지정 - 소수점아래 2자리까지\n",
    "pd.set_option('display.float_format', '{:.2f}'.format)"
   ]
  },
  {
   "cell_type": "code",
   "execution_count": null,
   "metadata": {
    "colab": {
     "base_uri": "https://localhost:8080/"
    },
    "id": "mNl3dB0VmMxo",
    "outputId": "9e5513e8-1c43-4b35-b49b-b99d1615696e"
   },
   "outputs": [
    {
     "name": "stdout",
     "output_type": "stream",
     "text": [
      "(6665, 10) (6665, 2) (2154, 10)\n"
     ]
    }
   ],
   "source": [
    "# [1] x_train.csv, y_train.csv, x_test.csv 읽어오기\n",
    "X = pd.read_csv('X_train.csv')\n",
    "Y = pd.read_csv('Y_train.csv')\n",
    "X_submission = pd.read_csv('X_test.csv')\n",
    "print(X.shape, Y.shape, X_submission.shape)"
   ]
  },
  {
   "cell_type": "markdown",
   "metadata": {
    "id": "4vXO5PnAEGWL"
   },
   "source": [
    "### 자동차 시장 세분화\n",
    "- 자동차 회사는 새로운 전략을 수립하기 위해 4개의 시장으로 세분화했습니다.\n",
    "- 기존 고객 분류 자료를 바탕으로 신규 고객이 어떤 분류에 속할지 예측해주세요!\n",
    "- 예측할 값(y): \"Segmentation\" (1,2,3,4)\n",
    "- 평가: Macro f1-score\n",
    "- 제출형식\n",
    "```\n",
    "        ID,Segmentation\n",
    "        458989,1\n",
    "        458994,2\n",
    "        459000,3\n",
    "        459003,4\n",
    "```"
   ]
  },
  {
   "cell_type": "code",
   "execution_count": 47,
   "metadata": {
    "tags": []
   },
   "outputs": [],
   "source": [
    "import pandas as pd\n",
    "\n",
    "pd.options.display.max_rows = 2000\n",
    "pd.options.display.max_columns = 25\n",
    "pd.options.display.float_format = '{:,.4f}'.format"
   ]
  },
  {
   "cell_type": "code",
   "execution_count": 48,
   "metadata": {
    "tags": []
   },
   "outputs": [
    {
     "name": "stdout",
     "output_type": "stream",
     "text": [
      "[(6665, 10), (6665, 2), (2154, 10)]\n"
     ]
    }
   ],
   "source": [
    "X = pd.read_csv('./X_train.csv')\n",
    "Y = pd.read_csv('./Y_train.csv')\n",
    "X_submission = pd.read_csv('./X_test.csv')\n",
    "\n",
    "print([x.shape for x in [X, Y, X_submission]])"
   ]
  },
  {
   "cell_type": "markdown",
   "metadata": {},
   "source": [
    "### EDA"
   ]
  },
  {
   "cell_type": "code",
   "execution_count": 49,
   "metadata": {
    "tags": []
   },
   "outputs": [
    {
     "name": "stdout",
     "output_type": "stream",
     "text": [
      "<class 'pandas.core.frame.DataFrame'>\n",
      "RangeIndex: 6665 entries, 0 to 6664\n",
      "Data columns (total 10 columns):\n",
      " #   Column           Non-Null Count  Dtype  \n",
      "---  ------           --------------  -----  \n",
      " 0   ID               6665 non-null   int64  \n",
      " 1   Gender           6665 non-null   object \n",
      " 2   Ever_Married     6665 non-null   object \n",
      " 3   Age              6665 non-null   int64  \n",
      " 4   Graduated        6665 non-null   object \n",
      " 5   Profession       6665 non-null   object \n",
      " 6   Work_Experience  6665 non-null   float64\n",
      " 7   Spending_Score   6665 non-null   object \n",
      " 8   Family_Size      6665 non-null   float64\n",
      " 9   Var_1            6665 non-null   object \n",
      "dtypes: float64(2), int64(2), object(6)\n",
      "memory usage: 520.8+ KB\n",
      "<class 'pandas.core.frame.DataFrame'>\n",
      "RangeIndex: 6665 entries, 0 to 6664\n",
      "Data columns (total 2 columns):\n",
      " #   Column        Non-Null Count  Dtype\n",
      "---  ------        --------------  -----\n",
      " 0   ID            6665 non-null   int64\n",
      " 1   Segmentation  6665 non-null   int64\n",
      "dtypes: int64(2)\n",
      "memory usage: 104.3 KB\n",
      "<class 'pandas.core.frame.DataFrame'>\n",
      "RangeIndex: 2154 entries, 0 to 2153\n",
      "Data columns (total 10 columns):\n",
      " #   Column           Non-Null Count  Dtype  \n",
      "---  ------           --------------  -----  \n",
      " 0   ID               2154 non-null   int64  \n",
      " 1   Gender           2154 non-null   object \n",
      " 2   Ever_Married     2154 non-null   object \n",
      " 3   Age              2154 non-null   int64  \n",
      " 4   Graduated        2154 non-null   object \n",
      " 5   Profession       2154 non-null   object \n",
      " 6   Work_Experience  2154 non-null   float64\n",
      " 7   Spending_Score   2154 non-null   object \n",
      " 8   Family_Size      2154 non-null   float64\n",
      " 9   Var_1            2154 non-null   object \n",
      "dtypes: float64(2), int64(2), object(6)\n",
      "memory usage: 168.4+ KB\n",
      "[None, None, None]\n"
     ]
    }
   ],
   "source": [
    "print([x.info() for x in [X, Y, X_submission]])"
   ]
  },
  {
   "cell_type": "code",
   "execution_count": 50,
   "metadata": {
    "tags": []
   },
   "outputs": [
    {
     "name": "stdout",
     "output_type": "stream",
     "text": [
      "       ID  Gender Ever_Married  Age Graduated  Profession  Work_Experience  \\\n",
      "0  462809    Male           No   22        No  Healthcare           1.0000   \n",
      "1  466315  Female          Yes   67       Yes    Engineer           1.0000   \n",
      "\n",
      "  Spending_Score  Family_Size  Var_1  \n",
      "0            Low       4.0000  Cat_4  \n",
      "1            Low       1.0000  Cat_6  \n"
     ]
    }
   ],
   "source": [
    "print(X.head(2))"
   ]
  },
  {
   "cell_type": "code",
   "execution_count": 51,
   "metadata": {
    "tags": []
   },
   "outputs": [
    {
     "name": "stdout",
     "output_type": "stream",
     "text": [
      "       ID  Segmentation\n",
      "0  462809             4\n",
      "1  466315             2\n"
     ]
    }
   ],
   "source": [
    "print(Y.head(2))"
   ]
  },
  {
   "cell_type": "markdown",
   "metadata": {},
   "source": [
    "### 결측치 처리"
   ]
  },
  {
   "cell_type": "code",
   "execution_count": 52,
   "metadata": {
    "tags": []
   },
   "outputs": [
    {
     "name": "stdout",
     "output_type": "stream",
     "text": [
      "<class 'pandas.core.frame.DataFrame'>\n",
      "RangeIndex: 8819 entries, 0 to 8818\n",
      "Data columns (total 10 columns):\n",
      " #   Column           Non-Null Count  Dtype  \n",
      "---  ------           --------------  -----  \n",
      " 0   ID               8819 non-null   int64  \n",
      " 1   Gender           8819 non-null   object \n",
      " 2   Ever_Married     8819 non-null   object \n",
      " 3   Age              8819 non-null   int64  \n",
      " 4   Graduated        8819 non-null   object \n",
      " 5   Profession       8819 non-null   object \n",
      " 6   Work_Experience  8819 non-null   float64\n",
      " 7   Spending_Score   8819 non-null   object \n",
      " 8   Family_Size      8819 non-null   float64\n",
      " 9   Var_1            8819 non-null   object \n",
      "dtypes: float64(2), int64(2), object(6)\n",
      "memory usage: 689.1+ KB\n"
     ]
    }
   ],
   "source": [
    "dfX = pd.concat([X, X_submission], axis=0, ignore_index=True)\n",
    "dfX.info()"
   ]
  },
  {
   "cell_type": "code",
   "execution_count": 53,
   "metadata": {
    "tags": []
   },
   "outputs": [
    {
     "data": {
      "text/plain": [
       "ID                 0\n",
       "Gender             0\n",
       "Ever_Married       0\n",
       "Age                0\n",
       "Graduated          0\n",
       "Profession         0\n",
       "Work_Experience    0\n",
       "Spending_Score     0\n",
       "Family_Size        0\n",
       "Var_1              0\n",
       "dtype: int64"
      ]
     },
     "execution_count": 53,
     "metadata": {},
     "output_type": "execute_result"
    }
   ],
   "source": [
    "dfX.isna().sum()"
   ]
  },
  {
   "cell_type": "markdown",
   "metadata": {},
   "source": [
    "### Encoding"
   ]
  },
  {
   "cell_type": "code",
   "execution_count": 61,
   "metadata": {
    "tags": []
   },
   "outputs": [
    {
     "name": "stdout",
     "output_type": "stream",
     "text": [
      "Gender          : ['Male' 'Female']\n",
      "Ever_Married    : ['No' 'Yes']\n",
      "Graduated       : ['No' 'Yes']\n",
      "Profession      : ['Healthcare' 'Engineer' 'Lawyer' 'Artist' 'Doctor' 'Homemaker'\n",
      " 'Entertainment' 'Marketing' 'Executive']\n",
      "Spending_Score  : ['Low' 'High' 'Average']\n",
      "Var_1           : ['Cat_4' 'Cat_6' 'Cat_7' 'Cat_3' 'Cat_1' 'Cat_2' 'Cat_5']\n"
     ]
    }
   ],
   "source": [
    "for feature in dfX.select_dtypes(include='object').columns:\n",
    "    print(f'{feature:15s} : {dfX[feature].unique()}')"
   ]
  },
  {
   "cell_type": "code",
   "execution_count": 62,
   "metadata": {
    "tags": []
   },
   "outputs": [],
   "source": [
    "# LabelEncoding\n",
    "#   Gender : 'Female': 0, 'Male': 1\n",
    "#   Ever_Married : 'No' : 0, 'Yes' : 1\n",
    "#   Graduated : 'No' : 0, 'Yes' : 1\n",
    "#   Profession : LabelEncoder ['Healthcare' 'Engineer' 'Lawyer' 'Artist' 'Doctor' 'Homemaker' 'Entertainment' 'Marketing' 'Executive']\n",
    "# One-Hot Encoding\n",
    "#   Spending_Score : ['Low' 'High' 'Average']\n",
    "#   Var_1 : ['Cat_4' 'Cat_6' 'Cat_7' 'Cat_3' 'Cat_1' 'Cat_2' 'Cat_5']"
   ]
  },
  {
   "cell_type": "code",
   "execution_count": 63,
   "metadata": {
    "tags": []
   },
   "outputs": [],
   "source": [
    "dfX['Gender'] = dfX['Gender'].replace(['Female', 'Male'], [0, 1])\n",
    "dfX['Ever_Married'] = dfX['Ever_Married'].replace(['No', 'Yes'], [0, 1])\n",
    "dfX['Graduated'] = dfX['Graduated'].replace(['No', 'Yes'], [0, 1])"
   ]
  },
  {
   "cell_type": "code",
   "execution_count": 64,
   "metadata": {
    "tags": []
   },
   "outputs": [],
   "source": [
    "from sklearn.preprocessing import LabelEncoder\n",
    "\n",
    "dfX['Profession'] = LabelEncoder().fit_transform(dfX['Profession'])"
   ]
  },
  {
   "cell_type": "code",
   "execution_count": 66,
   "metadata": {
    "tags": []
   },
   "outputs": [],
   "source": [
    "features = ['Spending_Score', 'Var_1']\n",
    "\n",
    "dfX2 = dfX.drop(columns = features)\n",
    "temp_list = [dfX2]\n",
    "\n",
    "for feature in features:\n",
    "    temp = pd.get_dummies(dfX[feature])\n",
    "    temp_list.append(temp)\n",
    "\n",
    "dfX2 = pd.concat(temp_list, axis=1)"
   ]
  },
  {
   "cell_type": "code",
   "execution_count": 67,
   "metadata": {
    "tags": []
   },
   "outputs": [
    {
     "name": "stdout",
     "output_type": "stream",
     "text": [
      "<class 'pandas.core.frame.DataFrame'>\n",
      "RangeIndex: 8819 entries, 0 to 8818\n",
      "Data columns (total 18 columns):\n",
      " #   Column           Non-Null Count  Dtype  \n",
      "---  ------           --------------  -----  \n",
      " 0   ID               8819 non-null   int64  \n",
      " 1   Gender           8819 non-null   int64  \n",
      " 2   Ever_Married     8819 non-null   int64  \n",
      " 3   Age              8819 non-null   int64  \n",
      " 4   Graduated        8819 non-null   int64  \n",
      " 5   Profession       8819 non-null   int64  \n",
      " 6   Work_Experience  8819 non-null   float64\n",
      " 7   Family_Size      8819 non-null   float64\n",
      " 8   Average          8819 non-null   uint8  \n",
      " 9   High             8819 non-null   uint8  \n",
      " 10  Low              8819 non-null   uint8  \n",
      " 11  Cat_1            8819 non-null   uint8  \n",
      " 12  Cat_2            8819 non-null   uint8  \n",
      " 13  Cat_3            8819 non-null   uint8  \n",
      " 14  Cat_4            8819 non-null   uint8  \n",
      " 15  Cat_5            8819 non-null   uint8  \n",
      " 16  Cat_6            8819 non-null   uint8  \n",
      " 17  Cat_7            8819 non-null   uint8  \n",
      "dtypes: float64(2), int64(6), uint8(10)\n",
      "memory usage: 637.4 KB\n"
     ]
    }
   ],
   "source": [
    "dfX2.info()"
   ]
  },
  {
   "cell_type": "code",
   "execution_count": 69,
   "metadata": {
    "tags": []
   },
   "outputs": [
    {
     "name": "stdout",
     "output_type": "stream",
     "text": [
      "       ID  Gender  Ever_Married  Age  Graduated  Profession  Work_Experience  \\\n",
      "0  462809       1             0   22          0           5           1.0000   \n",
      "1  466315       0             1   67          1           2           1.0000   \n",
      "\n",
      "   Family_Size  Average  High  Low  Cat_1  Cat_2  Cat_3  Cat_4  Cat_5  Cat_6  \\\n",
      "0       4.0000        0     0    1      0      0      0      1      0      0   \n",
      "1       1.0000        0     0    1      0      0      0      0      0      1   \n",
      "\n",
      "   Cat_7  \n",
      "0      0  \n",
      "1      0  \n"
     ]
    }
   ],
   "source": [
    "print(dfX2.head(2))"
   ]
  },
  {
   "cell_type": "markdown",
   "metadata": {},
   "source": [
    "### 상관관계 분석"
   ]
  },
  {
   "cell_type": "code",
   "execution_count": 70,
   "metadata": {
    "tags": []
   },
   "outputs": [
    {
     "name": "stdout",
     "output_type": "stream",
     "text": [
      "       ID  Gender  Ever_Married  Age  Graduated  Profession  Work_Experience  \\\n",
      "0  462809       1             0   22          0           5           1.0000   \n",
      "1  466315       0             1   67          1           2           1.0000   \n",
      "\n",
      "   Family_Size  Average  High  Low  Cat_1  Cat_2  Cat_3  Cat_4  Cat_5  Cat_6  \\\n",
      "0       4.0000        0     0    1      0      0      0      1      0      0   \n",
      "1       1.0000        0     0    1      0      0      0      0      0      1   \n",
      "\n",
      "   Cat_7  Segmentation  \n",
      "0      0             4  \n",
      "1      0             2  \n"
     ]
    }
   ],
   "source": [
    "dfXY = pd.merge(dfX2, Y, on='ID')\n",
    "print(dfXY.head(2))"
   ]
  },
  {
   "cell_type": "code",
   "execution_count": 72,
   "metadata": {
    "tags": []
   },
   "outputs": [
    {
     "data": {
      "text/plain": [
       "ID                -0.0160\n",
       "Gender             0.0370\n",
       "Ever_Married      -0.2059\n",
       "Age               -0.2352\n",
       "Graduated         -0.1740\n",
       "Profession         0.2036\n",
       "Work_Experience    0.0107\n",
       "Family_Size        0.2047\n",
       "Average           -0.0565\n",
       "High              -0.0633\n",
       "Low                0.0959\n",
       "Cat_1              0.0183\n",
       "Cat_2              0.0349\n",
       "Cat_3             -0.0018\n",
       "Cat_4              0.0015\n",
       "Cat_5              0.0051\n",
       "Cat_6             -0.0244\n",
       "Cat_7              0.0055\n",
       "Segmentation       1.0000\n",
       "Name: Segmentation, dtype: float64"
      ]
     },
     "execution_count": 72,
     "metadata": {},
     "output_type": "execute_result"
    }
   ],
   "source": [
    "dfXY.corr()['Segmentation']"
   ]
  },
  {
   "cell_type": "markdown",
   "metadata": {},
   "source": [
    "### 모델링 - 사전준비"
   ]
  },
  {
   "cell_type": "code",
   "execution_count": 92,
   "metadata": {
    "tags": []
   },
   "outputs": [],
   "source": [
    "from sklearn.metrics import f1_score\n",
    "\n",
    "def get_model_score(model, xtrain, xtest, ytrain, ytest):\n",
    "    A1 = model.score(xtrain, ytrain)\n",
    "    A2 = model.score(xtest, ytest)\n",
    "    \n",
    "    ypred = model.predict(xtest)\n",
    "    B = f1_score(ytest, ypred, average='macro')\n",
    "    \n",
    "    scores = pd.Series([A1, A2, B], index='Train_Accurary Test_Accuracy F1_MACRO'.split())\n",
    "    return scores"
   ]
  },
  {
   "cell_type": "code",
   "execution_count": 135,
   "metadata": {
    "tags": []
   },
   "outputs": [],
   "source": [
    "from sklearn.preprocessing import LabelEncoder\n",
    "\n",
    "from sklearn.neighbors import KNeighborsClassifier\n",
    "from sklearn.tree import DecisionTreeClassifier\n",
    "from sklearn.ensemble import RandomForestClassifier\n",
    "from xgboost import XGBClassifier\n",
    "\n",
    "def compare_model(xtrain, xtest, ytrain, ytest):\n",
    "    result = pd.DataFrame()\n",
    "\n",
    "    model = KNeighborsClassifier().fit(xtrain, ytrain)\n",
    "    result[f'{model.__class__.__name__}'] = get_model_score(model, xtrain, xtest, ytrain, ytest)\n",
    "\n",
    "    for n in range(3, 15):\n",
    "        model = KNeighborsClassifier(n_neighbors=n).fit(xtrain, ytrain)\n",
    "        result[f'{model.__class__.__name__}_{n}'] = get_model_score(model, xtrain, xtest, ytrain, ytest)\n",
    "    \n",
    "    model = DecisionTreeClassifier(random_state=1234).fit(xtrain, ytrain)\n",
    "    result[f'{model.__class__.__name__}'] = get_model_score(model, xtrain, xtest, ytrain, ytest)\n",
    "    \n",
    "    model = RandomForestClassifier(random_state=1234).fit(xtrain, ytrain)\n",
    "    result[f'{model.__class__.__name__}'] = get_model_score(model, xtrain, xtest, ytrain, ytest)\n",
    "    \n",
    "    for d in range(1, 15):\n",
    "        model = RandomForestClassifier(max_depth=d, random_state=1234).fit(xtrain, ytrain)\n",
    "        result[f'{model.__class__.__name__}_{d}'] = get_model_score(model, xtrain, xtest, ytrain, ytest)\n",
    "    \n",
    "#     le = LabelEncoder()\n",
    "#     model = XGBClassifier().fit(xtrain, le.fit_transform(ytrain))\n",
    "#     A1 = model.score(xtrain, le.transform(ytrain))\n",
    "#     A2 = model.score(xtest, le.transform(ytest))\n",
    "    \n",
    "#     ypred = model.predict(xtest)\n",
    "#     ypred = le.inverse_transform(ypred)\n",
    "#     B = f1_score(ytest, ypred, average='macro')\n",
    "    # scores = pd.Series([A1, A2, B], index='Train_Accurary Test_Accuracy F1_MACRO'.split())\n",
    "    # result[f'{model.__class__.__name__}'] = get_model_score(model, xtrain, xtest, ytrain, ytest)\n",
    "    \n",
    "    result = result.T\n",
    "    result.insert(2, 'DIFF', (result['Train_Accurary'] - result['Test_Accuracy']).abs())\n",
    "    \n",
    "    return result"
   ]
  },
  {
   "cell_type": "code",
   "execution_count": 81,
   "metadata": {
    "tags": []
   },
   "outputs": [],
   "source": [
    "from sklearn.preprocessing import StandardScaler\n",
    "\n",
    "def get_model_data(dfX, Y, train_size, is_scaled=False):\n",
    "    X_temp = dfX.drop(columns=['ID'])\n",
    "    YF = Y['Segmentation']\n",
    "    \n",
    "    if is_scaled:\n",
    "        X_temp = StandardScaler().fit_transform(X_temp)\n",
    "        \n",
    "    XF = X_temp[:train_size]\n",
    "    X_submissionF = X_temp[train_size:]\n",
    "    \n",
    "    return XF, X_submissionF, YF"
   ]
  },
  {
   "cell_type": "markdown",
   "metadata": {},
   "source": [
    "### 모델링 - 모델 선택 (스케일링 X)"
   ]
  },
  {
   "cell_type": "code",
   "execution_count": 82,
   "metadata": {
    "tags": []
   },
   "outputs": [
    {
     "name": "stdout",
     "output_type": "stream",
     "text": [
      "[(6665, 10), (2154, 10), (6665, 2)]\n",
      "[(6665, 17), (2154, 17), (6665,)]\n"
     ]
    }
   ],
   "source": [
    "XF, X_submissionF, YF = get_model_data(dfX2, Y, len(X), False)\n",
    "print([x.shape for x in [X, X_submission, Y]])\n",
    "print([x.shape for x in [XF, X_submissionF, YF]])"
   ]
  },
  {
   "cell_type": "code",
   "execution_count": 85,
   "metadata": {
    "tags": []
   },
   "outputs": [
    {
     "name": "stdout",
     "output_type": "stream",
     "text": [
      "[(1999, 17), (4666, 17), (1999,), (4666,)]\n"
     ]
    }
   ],
   "source": [
    "from sklearn.model_selection import train_test_split\n",
    "\n",
    "xtrain, xtest, ytrain, ytest = train_test_split(XF, YF, train_size=0.3, random_state=1234, stratify=YF)\n",
    "print([x.shape for x in [xtrain, xtest, ytrain, ytest]])"
   ]
  },
  {
   "cell_type": "code",
   "execution_count": 123,
   "metadata": {
    "tags": []
   },
   "outputs": [],
   "source": [
    "result_1 = compare_model(xtrain, xtest, ytrain, ytest)"
   ]
  },
  {
   "cell_type": "code",
   "execution_count": 125,
   "metadata": {
    "tags": []
   },
   "outputs": [
    {
     "data": {
      "text/html": [
       "<div>\n",
       "<style scoped>\n",
       "    .dataframe tbody tr th:only-of-type {\n",
       "        vertical-align: middle;\n",
       "    }\n",
       "\n",
       "    .dataframe tbody tr th {\n",
       "        vertical-align: top;\n",
       "    }\n",
       "\n",
       "    .dataframe thead th {\n",
       "        text-align: right;\n",
       "    }\n",
       "</style>\n",
       "<table border=\"1\" class=\"dataframe\">\n",
       "  <thead>\n",
       "    <tr style=\"text-align: right;\">\n",
       "      <th></th>\n",
       "      <th>Train_Accurary</th>\n",
       "      <th>Test_Accuracy</th>\n",
       "      <th>DIFF</th>\n",
       "      <th>F1_MACRO</th>\n",
       "    </tr>\n",
       "  </thead>\n",
       "  <tbody>\n",
       "    <tr>\n",
       "      <th>RandomForestClassifier</th>\n",
       "      <td>0.9865</td>\n",
       "      <td>0.4788</td>\n",
       "      <td>0.5077</td>\n",
       "      <td>0.4734</td>\n",
       "    </tr>\n",
       "    <tr>\n",
       "      <th>KNeighborsClassifier</th>\n",
       "      <td>0.6073</td>\n",
       "      <td>0.4479</td>\n",
       "      <td>0.1594</td>\n",
       "      <td>0.4479</td>\n",
       "    </tr>\n",
       "    <tr>\n",
       "      <th>DecisionTreeClassifier</th>\n",
       "      <td>0.9865</td>\n",
       "      <td>0.4263</td>\n",
       "      <td>0.5602</td>\n",
       "      <td>0.4229</td>\n",
       "    </tr>\n",
       "    <tr>\n",
       "      <th>XGBClassifier</th>\n",
       "      <td>0.0375</td>\n",
       "      <td>0.1573</td>\n",
       "      <td>0.1198</td>\n",
       "      <td>0.1284</td>\n",
       "    </tr>\n",
       "  </tbody>\n",
       "</table>\n",
       "</div>"
      ],
      "text/plain": [
       "                        Train_Accurary  Test_Accuracy   DIFF  F1_MACRO\n",
       "RandomForestClassifier          0.9865         0.4788 0.5077    0.4734\n",
       "KNeighborsClassifier            0.6073         0.4479 0.1594    0.4479\n",
       "DecisionTreeClassifier          0.9865         0.4263 0.5602    0.4229\n",
       "XGBClassifier                   0.0375         0.1573 0.1198    0.1284"
      ]
     },
     "execution_count": 125,
     "metadata": {},
     "output_type": "execute_result"
    }
   ],
   "source": [
    "result_1.sort_values(['Test_Accuracy', 'F1_MACRO'], ascending=[False, False])\n",
    "# KNeighborsClassifier_13\t0.5653\t0.4781\t0.0871\t0.4720\n",
    "# RandomForestClassifier_8\t0.7014\t0.5362\t0.1651\t0.5214\n",
    "# XGBClassifier\t0.0375\t0.1573\t0.1198\t0.1284"
   ]
  },
  {
   "cell_type": "markdown",
   "metadata": {},
   "source": [
    "### 모델링 - 모델 선택 (스케일링)"
   ]
  },
  {
   "cell_type": "code",
   "execution_count": 128,
   "metadata": {
    "tags": []
   },
   "outputs": [
    {
     "name": "stdout",
     "output_type": "stream",
     "text": [
      "[(6665, 10), (2154, 10), (6665, 2)]\n",
      "[(6665, 17), (2154, 17), (6665,)]\n"
     ]
    }
   ],
   "source": [
    "XF2, X_submissionF2, YF2 = get_model_data(dfX2, Y, len(X), True)\n",
    "print([x.shape for x in [X, X_submission, Y]])\n",
    "print([x.shape for x in [XF2, X_submissionF2, YF2]])"
   ]
  },
  {
   "cell_type": "code",
   "execution_count": 129,
   "metadata": {
    "tags": []
   },
   "outputs": [
    {
     "name": "stdout",
     "output_type": "stream",
     "text": [
      "[(1999, 17), (4666, 17), (1999,), (4666,)]\n"
     ]
    }
   ],
   "source": [
    "from sklearn.model_selection import train_test_split\n",
    "\n",
    "xtrain2, xtest2, ytrain2, ytest2 = train_test_split(XF2, YF2, train_size=0.3, random_state=1234, stratify=YF2)\n",
    "print([x.shape for x in [xtrain2, xtest2, ytrain2, ytest2]])"
   ]
  },
  {
   "cell_type": "code",
   "execution_count": 136,
   "metadata": {
    "tags": []
   },
   "outputs": [],
   "source": [
    "result_2 = compare_model(xtrain2, xtest2, ytrain2, ytest2)"
   ]
  },
  {
   "cell_type": "code",
   "execution_count": 137,
   "metadata": {
    "tags": []
   },
   "outputs": [
    {
     "data": {
      "text/html": [
       "<div>\n",
       "<style scoped>\n",
       "    .dataframe tbody tr th:only-of-type {\n",
       "        vertical-align: middle;\n",
       "    }\n",
       "\n",
       "    .dataframe tbody tr th {\n",
       "        vertical-align: top;\n",
       "    }\n",
       "\n",
       "    .dataframe thead th {\n",
       "        text-align: right;\n",
       "    }\n",
       "</style>\n",
       "<table border=\"1\" class=\"dataframe\">\n",
       "  <thead>\n",
       "    <tr style=\"text-align: right;\">\n",
       "      <th></th>\n",
       "      <th>Train_Accurary</th>\n",
       "      <th>Test_Accuracy</th>\n",
       "      <th>DIFF</th>\n",
       "      <th>F1_MACRO</th>\n",
       "    </tr>\n",
       "  </thead>\n",
       "  <tbody>\n",
       "    <tr>\n",
       "      <th>RandomForestClassifier_8</th>\n",
       "      <td>0.7019</td>\n",
       "      <td>0.5364</td>\n",
       "      <td>0.1654</td>\n",
       "      <td>0.5213</td>\n",
       "    </tr>\n",
       "    <tr>\n",
       "      <th>RandomForestClassifier_7</th>\n",
       "      <td>0.6548</td>\n",
       "      <td>0.5304</td>\n",
       "      <td>0.1244</td>\n",
       "      <td>0.5125</td>\n",
       "    </tr>\n",
       "    <tr>\n",
       "      <th>RandomForestClassifier_6</th>\n",
       "      <td>0.6068</td>\n",
       "      <td>0.5289</td>\n",
       "      <td>0.0779</td>\n",
       "      <td>0.5118</td>\n",
       "    </tr>\n",
       "    <tr>\n",
       "      <th>RandomForestClassifier_9</th>\n",
       "      <td>0.7609</td>\n",
       "      <td>0.5270</td>\n",
       "      <td>0.2339</td>\n",
       "      <td>0.5138</td>\n",
       "    </tr>\n",
       "    <tr>\n",
       "      <th>RandomForestClassifier_4</th>\n",
       "      <td>0.5538</td>\n",
       "      <td>0.5236</td>\n",
       "      <td>0.0302</td>\n",
       "      <td>0.4979</td>\n",
       "    </tr>\n",
       "    <tr>\n",
       "      <th>RandomForestClassifier_5</th>\n",
       "      <td>0.5768</td>\n",
       "      <td>0.5199</td>\n",
       "      <td>0.0569</td>\n",
       "      <td>0.4979</td>\n",
       "    </tr>\n",
       "    <tr>\n",
       "      <th>RandomForestClassifier_3</th>\n",
       "      <td>0.5308</td>\n",
       "      <td>0.5186</td>\n",
       "      <td>0.0121</td>\n",
       "      <td>0.4885</td>\n",
       "    </tr>\n",
       "    <tr>\n",
       "      <th>RandomForestClassifier_10</th>\n",
       "      <td>0.8214</td>\n",
       "      <td>0.5167</td>\n",
       "      <td>0.3047</td>\n",
       "      <td>0.5047</td>\n",
       "    </tr>\n",
       "    <tr>\n",
       "      <th>RandomForestClassifier_11</th>\n",
       "      <td>0.8709</td>\n",
       "      <td>0.5141</td>\n",
       "      <td>0.3568</td>\n",
       "      <td>0.5031</td>\n",
       "    </tr>\n",
       "    <tr>\n",
       "      <th>RandomForestClassifier_12</th>\n",
       "      <td>0.9070</td>\n",
       "      <td>0.5069</td>\n",
       "      <td>0.4001</td>\n",
       "      <td>0.4965</td>\n",
       "    </tr>\n",
       "    <tr>\n",
       "      <th>RandomForestClassifier_2</th>\n",
       "      <td>0.5063</td>\n",
       "      <td>0.5064</td>\n",
       "      <td>0.0002</td>\n",
       "      <td>0.4506</td>\n",
       "    </tr>\n",
       "    <tr>\n",
       "      <th>RandomForestClassifier_13</th>\n",
       "      <td>0.9365</td>\n",
       "      <td>0.4985</td>\n",
       "      <td>0.4380</td>\n",
       "      <td>0.4908</td>\n",
       "    </tr>\n",
       "    <tr>\n",
       "      <th>RandomForestClassifier_14</th>\n",
       "      <td>0.9565</td>\n",
       "      <td>0.4957</td>\n",
       "      <td>0.4608</td>\n",
       "      <td>0.4884</td>\n",
       "    </tr>\n",
       "    <tr>\n",
       "      <th>RandomForestClassifier</th>\n",
       "      <td>0.9865</td>\n",
       "      <td>0.4777</td>\n",
       "      <td>0.5088</td>\n",
       "      <td>0.4721</td>\n",
       "    </tr>\n",
       "    <tr>\n",
       "      <th>KNeighborsClassifier_13</th>\n",
       "      <td>0.5573</td>\n",
       "      <td>0.4764</td>\n",
       "      <td>0.0809</td>\n",
       "      <td>0.4670</td>\n",
       "    </tr>\n",
       "    <tr>\n",
       "      <th>KNeighborsClassifier_12</th>\n",
       "      <td>0.5673</td>\n",
       "      <td>0.4736</td>\n",
       "      <td>0.0936</td>\n",
       "      <td>0.4647</td>\n",
       "    </tr>\n",
       "    <tr>\n",
       "      <th>KNeighborsClassifier_14</th>\n",
       "      <td>0.5473</td>\n",
       "      <td>0.4721</td>\n",
       "      <td>0.0751</td>\n",
       "      <td>0.4627</td>\n",
       "    </tr>\n",
       "    <tr>\n",
       "      <th>KNeighborsClassifier_10</th>\n",
       "      <td>0.5708</td>\n",
       "      <td>0.4709</td>\n",
       "      <td>0.0999</td>\n",
       "      <td>0.4635</td>\n",
       "    </tr>\n",
       "    <tr>\n",
       "      <th>KNeighborsClassifier_9</th>\n",
       "      <td>0.5743</td>\n",
       "      <td>0.4691</td>\n",
       "      <td>0.1051</td>\n",
       "      <td>0.4628</td>\n",
       "    </tr>\n",
       "    <tr>\n",
       "      <th>KNeighborsClassifier_11</th>\n",
       "      <td>0.5683</td>\n",
       "      <td>0.4687</td>\n",
       "      <td>0.0996</td>\n",
       "      <td>0.4606</td>\n",
       "    </tr>\n",
       "    <tr>\n",
       "      <th>KNeighborsClassifier_7</th>\n",
       "      <td>0.5998</td>\n",
       "      <td>0.4655</td>\n",
       "      <td>0.1343</td>\n",
       "      <td>0.4602</td>\n",
       "    </tr>\n",
       "    <tr>\n",
       "      <th>KNeighborsClassifier_8</th>\n",
       "      <td>0.5828</td>\n",
       "      <td>0.4606</td>\n",
       "      <td>0.1222</td>\n",
       "      <td>0.4557</td>\n",
       "    </tr>\n",
       "    <tr>\n",
       "      <th>RandomForestClassifier_1</th>\n",
       "      <td>0.4682</td>\n",
       "      <td>0.4591</td>\n",
       "      <td>0.0092</td>\n",
       "      <td>0.3555</td>\n",
       "    </tr>\n",
       "    <tr>\n",
       "      <th>KNeighborsClassifier_6</th>\n",
       "      <td>0.6193</td>\n",
       "      <td>0.4561</td>\n",
       "      <td>0.1632</td>\n",
       "      <td>0.4534</td>\n",
       "    </tr>\n",
       "    <tr>\n",
       "      <th>KNeighborsClassifier</th>\n",
       "      <td>0.6268</td>\n",
       "      <td>0.4526</td>\n",
       "      <td>0.1742</td>\n",
       "      <td>0.4518</td>\n",
       "    </tr>\n",
       "    <tr>\n",
       "      <th>KNeighborsClassifier_5</th>\n",
       "      <td>0.6268</td>\n",
       "      <td>0.4526</td>\n",
       "      <td>0.1742</td>\n",
       "      <td>0.4518</td>\n",
       "    </tr>\n",
       "    <tr>\n",
       "      <th>KNeighborsClassifier_3</th>\n",
       "      <td>0.6843</td>\n",
       "      <td>0.4475</td>\n",
       "      <td>0.2368</td>\n",
       "      <td>0.4472</td>\n",
       "    </tr>\n",
       "    <tr>\n",
       "      <th>KNeighborsClassifier_4</th>\n",
       "      <td>0.6523</td>\n",
       "      <td>0.4464</td>\n",
       "      <td>0.2059</td>\n",
       "      <td>0.4454</td>\n",
       "    </tr>\n",
       "    <tr>\n",
       "      <th>DecisionTreeClassifier</th>\n",
       "      <td>0.9865</td>\n",
       "      <td>0.4267</td>\n",
       "      <td>0.5598</td>\n",
       "      <td>0.4233</td>\n",
       "    </tr>\n",
       "  </tbody>\n",
       "</table>\n",
       "</div>"
      ],
      "text/plain": [
       "                           Train_Accurary  Test_Accuracy   DIFF  F1_MACRO\n",
       "RandomForestClassifier_8           0.7019         0.5364 0.1654    0.5213\n",
       "RandomForestClassifier_7           0.6548         0.5304 0.1244    0.5125\n",
       "RandomForestClassifier_6           0.6068         0.5289 0.0779    0.5118\n",
       "RandomForestClassifier_9           0.7609         0.5270 0.2339    0.5138\n",
       "RandomForestClassifier_4           0.5538         0.5236 0.0302    0.4979\n",
       "RandomForestClassifier_5           0.5768         0.5199 0.0569    0.4979\n",
       "RandomForestClassifier_3           0.5308         0.5186 0.0121    0.4885\n",
       "RandomForestClassifier_10          0.8214         0.5167 0.3047    0.5047\n",
       "RandomForestClassifier_11          0.8709         0.5141 0.3568    0.5031\n",
       "RandomForestClassifier_12          0.9070         0.5069 0.4001    0.4965\n",
       "RandomForestClassifier_2           0.5063         0.5064 0.0002    0.4506\n",
       "RandomForestClassifier_13          0.9365         0.4985 0.4380    0.4908\n",
       "RandomForestClassifier_14          0.9565         0.4957 0.4608    0.4884\n",
       "RandomForestClassifier             0.9865         0.4777 0.5088    0.4721\n",
       "KNeighborsClassifier_13            0.5573         0.4764 0.0809    0.4670\n",
       "KNeighborsClassifier_12            0.5673         0.4736 0.0936    0.4647\n",
       "KNeighborsClassifier_14            0.5473         0.4721 0.0751    0.4627\n",
       "KNeighborsClassifier_10            0.5708         0.4709 0.0999    0.4635\n",
       "KNeighborsClassifier_9             0.5743         0.4691 0.1051    0.4628\n",
       "KNeighborsClassifier_11            0.5683         0.4687 0.0996    0.4606\n",
       "KNeighborsClassifier_7             0.5998         0.4655 0.1343    0.4602\n",
       "KNeighborsClassifier_8             0.5828         0.4606 0.1222    0.4557\n",
       "RandomForestClassifier_1           0.4682         0.4591 0.0092    0.3555\n",
       "KNeighborsClassifier_6             0.6193         0.4561 0.1632    0.4534\n",
       "KNeighborsClassifier               0.6268         0.4526 0.1742    0.4518\n",
       "KNeighborsClassifier_5             0.6268         0.4526 0.1742    0.4518\n",
       "KNeighborsClassifier_3             0.6843         0.4475 0.2368    0.4472\n",
       "KNeighborsClassifier_4             0.6523         0.4464 0.2059    0.4454\n",
       "DecisionTreeClassifier             0.9865         0.4267 0.5598    0.4233"
      ]
     },
     "execution_count": 137,
     "metadata": {},
     "output_type": "execute_result"
    }
   ],
   "source": [
    "result_2.sort_values(['Test_Accuracy', 'F1_MACRO'], ascending=[False, False])\n",
    "# KNeighborsClassifier_13\t0.5653\t0.4781\t0.0871\t0.4720\n",
    "# RandomForestClassifier_8\t0.7014\t0.5362\t0.1651\t0.5214\n",
    "# XGBClassifier\t0.0375\t0.1573\t0.1198\t0.1284"
   ]
  },
  {
   "cell_type": "markdown",
   "metadata": {},
   "source": [
    "### 모델링 - 완료"
   ]
  },
  {
   "cell_type": "code",
   "execution_count": 139,
   "metadata": {
    "tags": []
   },
   "outputs": [
    {
     "name": "stdout",
     "output_type": "stream",
     "text": [
      "Train_Accurary   0.5768\n",
      "Test_Accuracy    0.5201\n",
      "F1_MACRO         0.4981\n",
      "dtype: float64\n"
     ]
    }
   ],
   "source": [
    "model = RandomForestClassifier(max_depth=5, random_state=1234).fit(xtrain, ytrain)\n",
    "print(get_model_score(model, xtrain, xtest, ytrain, ytest))"
   ]
  },
  {
   "cell_type": "code",
   "execution_count": 140,
   "metadata": {
    "tags": []
   },
   "outputs": [],
   "source": [
    "Y_pred = model.predict(X_submissionF)\n",
    "submission = pd.DataFrame({'ID': X_submission['ID'], 'Segmentation': Y_pred})\n",
    "submission.to_csv('./submission.csv', index=False)"
   ]
  },
  {
   "cell_type": "code",
   "execution_count": 141,
   "metadata": {
    "tags": []
   },
   "outputs": [
    {
     "data": {
      "text/html": [
       "<div>\n",
       "<style scoped>\n",
       "    .dataframe tbody tr th:only-of-type {\n",
       "        vertical-align: middle;\n",
       "    }\n",
       "\n",
       "    .dataframe tbody tr th {\n",
       "        vertical-align: top;\n",
       "    }\n",
       "\n",
       "    .dataframe thead th {\n",
       "        text-align: right;\n",
       "    }\n",
       "</style>\n",
       "<table border=\"1\" class=\"dataframe\">\n",
       "  <thead>\n",
       "    <tr style=\"text-align: right;\">\n",
       "      <th></th>\n",
       "      <th>ID</th>\n",
       "      <th>Segmentation</th>\n",
       "    </tr>\n",
       "  </thead>\n",
       "  <tbody>\n",
       "    <tr>\n",
       "      <th>0</th>\n",
       "      <td>458989</td>\n",
       "      <td>1</td>\n",
       "    </tr>\n",
       "    <tr>\n",
       "      <th>1</th>\n",
       "      <td>458994</td>\n",
       "      <td>3</td>\n",
       "    </tr>\n",
       "    <tr>\n",
       "      <th>2</th>\n",
       "      <td>459000</td>\n",
       "      <td>2</td>\n",
       "    </tr>\n",
       "    <tr>\n",
       "      <th>3</th>\n",
       "      <td>459003</td>\n",
       "      <td>2</td>\n",
       "    </tr>\n",
       "    <tr>\n",
       "      <th>4</th>\n",
       "      <td>459005</td>\n",
       "      <td>1</td>\n",
       "    </tr>\n",
       "    <tr>\n",
       "      <th>5</th>\n",
       "      <td>459008</td>\n",
       "      <td>3</td>\n",
       "    </tr>\n",
       "    <tr>\n",
       "      <th>6</th>\n",
       "      <td>459013</td>\n",
       "      <td>3</td>\n",
       "    </tr>\n",
       "    <tr>\n",
       "      <th>7</th>\n",
       "      <td>459014</td>\n",
       "      <td>4</td>\n",
       "    </tr>\n",
       "    <tr>\n",
       "      <th>8</th>\n",
       "      <td>459015</td>\n",
       "      <td>4</td>\n",
       "    </tr>\n",
       "    <tr>\n",
       "      <th>9</th>\n",
       "      <td>459016</td>\n",
       "      <td>4</td>\n",
       "    </tr>\n",
       "  </tbody>\n",
       "</table>\n",
       "</div>"
      ],
      "text/plain": [
       "       ID  Segmentation\n",
       "0  458989             1\n",
       "1  458994             3\n",
       "2  459000             2\n",
       "3  459003             2\n",
       "4  459005             1\n",
       "5  459008             3\n",
       "6  459013             3\n",
       "7  459014             4\n",
       "8  459015             4\n",
       "9  459016             4"
      ]
     },
     "execution_count": 141,
     "metadata": {},
     "output_type": "execute_result"
    }
   ],
   "source": [
    "temp = pd.read_csv('./submission.csv')\n",
    "temp.head(10)"
   ]
  },
  {
   "cell_type": "code",
   "execution_count": 142,
   "metadata": {
    "tags": []
   },
   "outputs": [
    {
     "data": {
      "text/plain": [
       "array([1, 3, 2, 4])"
      ]
     },
     "execution_count": 142,
     "metadata": {},
     "output_type": "execute_result"
    }
   ],
   "source": [
    "temp['Segmentation'].unique()"
   ]
  },
  {
   "cell_type": "code",
   "execution_count": 144,
   "metadata": {
    "tags": []
   },
   "outputs": [
    {
     "data": {
      "text/plain": [
       "1   0.2679\n",
       "2   0.1416\n",
       "3   0.2739\n",
       "4   0.3166\n",
       "Name: Segmentation, dtype: float64"
      ]
     },
     "execution_count": 144,
     "metadata": {},
     "output_type": "execute_result"
    }
   ],
   "source": [
    "temp['Segmentation'].value_counts(normalize=True).sort_index()"
   ]
  },
  {
   "cell_type": "code",
   "execution_count": 145,
   "metadata": {
    "tags": []
   },
   "outputs": [
    {
     "data": {
      "text/plain": [
       "1   0.2425\n",
       "2   0.2359\n",
       "3   0.2581\n",
       "4   0.2636\n",
       "Name: Segmentation, dtype: float64"
      ]
     },
     "execution_count": 145,
     "metadata": {},
     "output_type": "execute_result"
    }
   ],
   "source": [
    "Y['Segmentation'].value_counts(normalize=True).sort_index()"
   ]
  },
  {
   "cell_type": "code",
   "execution_count": null,
   "metadata": {},
   "outputs": [],
   "source": []
  }
 ],
 "metadata": {
  "colab": {
   "provenance": [],
   "toc_visible": true
  },
  "kernelspec": {
   "display_name": "Python 3 (ipykernel)",
   "language": "python",
   "name": "python3"
  },
  "language_info": {
   "codemirror_mode": {
    "name": "ipython",
    "version": 3
   },
   "file_extension": ".py",
   "mimetype": "text/x-python",
   "name": "python",
   "nbconvert_exporter": "python",
   "pygments_lexer": "ipython3",
   "version": "3.8.16"
  }
 },
 "nbformat": 4,
 "nbformat_minor": 4
}
