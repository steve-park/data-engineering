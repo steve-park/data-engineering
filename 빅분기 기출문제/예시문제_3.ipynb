{
 "cells": [
  {
   "cell_type": "markdown",
   "metadata": {
    "id": "sDiC6FZZpgoY"
   },
   "source": [
    "## 빅분기 3회 실기 기출"
   ]
  },
  {
   "cell_type": "markdown",
   "metadata": {
    "id": "U4yCvd7_4HQQ"
   },
   "source": [
    "## 2.작업형1"
   ]
  },
  {
   "cell_type": "code",
   "execution_count": null,
   "metadata": {
    "colab": {
     "base_uri": "https://localhost:8080/"
    },
    "id": "l_uAL496Wt1f",
    "outputId": "fef7c5b5-000b-4e45-8668-2857d8f4f3b7"
   },
   "outputs": [
    {
     "name": "stdout",
     "output_type": "stream",
     "text": [
      "Cloning into 'bigdata'...\n",
      "remote: Enumerating objects: 41, done.\u001b[K\n",
      "remote: Counting objects: 100% (41/41), done.\u001b[K\n",
      "remote: Compressing objects: 100% (41/41), done.\u001b[K\n",
      "remote: Total 41 (delta 11), reused 0 (delta 0), pack-reused 0\u001b[K\n",
      "Unpacking objects: 100% (41/41), done.\n"
     ]
    }
   ],
   "source": [
    "!git clone https://github.com/Soyoung-Yoon/bigdata"
   ]
  },
  {
   "cell_type": "code",
   "execution_count": 1,
   "metadata": {
    "id": "LL4RoM9i6HeL",
    "tags": []
   },
   "outputs": [],
   "source": [
    "# 'https://raw.githubusercontent.com/Soyoung-Yoon/bigdata/main/'"
   ]
  },
  {
   "cell_type": "markdown",
   "metadata": {
    "id": "FbBF6ZmSp4Ge"
   },
   "source": [
    "### 2-1.캘리포니어 집값 데이터\n",
    "결측치를 포함하는 모든 행을 제거한 후, 처음부터 순서대로 70%를 추출하여, 'housing_median_age' 컬럼의 사분위수 Q1의 값을 구하시오\n",
    "- 주의사항 정답 제출시, 정수형으로 제출해야 함\n",
    "- \"https://raw.githubusercontent.com/Soyoung-Yoon/bigdata/main/housing03.csv\" 파일 사용"
   ]
  },
  {
   "cell_type": "code",
   "execution_count": 4,
   "metadata": {
    "tags": []
   },
   "outputs": [
    {
     "name": "stdout",
     "output_type": "stream",
     "text": [
      "<class 'pandas.core.frame.DataFrame'>\n",
      "RangeIndex: 20640 entries, 0 to 20639\n",
      "Data columns (total 10 columns):\n",
      " #   Column              Non-Null Count  Dtype  \n",
      "---  ------              --------------  -----  \n",
      " 0   longitude           20640 non-null  float64\n",
      " 1   latitude            20640 non-null  float64\n",
      " 2   housing_median_age  20640 non-null  float64\n",
      " 3   total_rooms         20640 non-null  float64\n",
      " 4   total_bedrooms      20433 non-null  float64\n",
      " 5   population          20640 non-null  float64\n",
      " 6   households          20640 non-null  float64\n",
      " 7   median_income       20640 non-null  float64\n",
      " 8   median_house_value  20640 non-null  float64\n",
      " 9   ocean_proximity     20640 non-null  object \n",
      "dtypes: float64(9), object(1)\n",
      "memory usage: 1.6+ MB\n"
     ]
    }
   ],
   "source": [
    "import pandas as pd\n",
    "\n",
    "df = pd.read_csv(\"./bigdata/housing03.csv\")\n",
    "df.info()"
   ]
  },
  {
   "cell_type": "code",
   "execution_count": 6,
   "metadata": {
    "tags": []
   },
   "outputs": [
    {
     "data": {
      "text/plain": [
       "longitude               0\n",
       "latitude                0\n",
       "housing_median_age      0\n",
       "total_rooms             0\n",
       "total_bedrooms        207\n",
       "population              0\n",
       "households              0\n",
       "median_income           0\n",
       "median_house_value      0\n",
       "ocean_proximity         0\n",
       "dtype: int64"
      ]
     },
     "execution_count": 6,
     "metadata": {},
     "output_type": "execute_result"
    }
   ],
   "source": [
    "df.isna().sum()"
   ]
  },
  {
   "cell_type": "code",
   "execution_count": null,
   "metadata": {
    "id": "iWgEGO71cMSR"
   },
   "outputs": [],
   "source": [
    "# 한 문자형 컬럼에 빈칸 ''인 데이터 1건이 있어서\n",
    "# 빈칸을 결측으로 처리시 빈칸 제거전 242건에서 빈칸 제거후 243건의 행이 제거됨\n",
    "# 하지만 제거하지 않고 1분위수를 구하더라도 정답은 같음"
   ]
  },
  {
   "cell_type": "code",
   "execution_count": 11,
   "metadata": {
    "id": "_x39Rr17pda0",
    "tags": []
   },
   "outputs": [
    {
     "name": "stdout",
     "output_type": "stream",
     "text": [
      "19.00\n"
     ]
    }
   ],
   "source": [
    "# 결측치를 포함하는 모든 행을 제거한 후, 처음부터 순서대로 70%를 추출하여, 'housing_median_age' 컬럼의 사분위수 Q1의 값을 구하시오\n",
    "temp = df.dropna().iloc[:int(len(df) * 0.7)]\n",
    "print(f\"{temp['housing_median_age'].quantile(0.25):.2f}\")"
   ]
  },
  {
   "cell_type": "markdown",
   "metadata": {
    "id": "dvODvI5fqIUl"
   },
   "source": [
    "### 2-2.연도별 나라별 유병률 데이터\n",
    "2000년 데이터에 대해 국가 전체 유병률 평균 값보다 큰 값을 가진 국가 개수는?\n",
    "(year 변수와 국가들의 결핵 유병률 값을 가진 데이터셋이 주어짐)\n",
    "\n",
    "        year  Afghanistan  Albania  Algeria  Andorra  Angola  Antigua & Barbuda  \\\n",
    "        0  1999            0     89.0     25.0    245.0   217.0              102.0   \n",
    "        1  2000            0    132.0      0.0    138.0    57.0              128.0   \n",
    "        2  2001            0     54.0     14.0    312.0    45.0               45.0   \n",
    "        3  2002            0      4.9      0.7     12.4     5.9                4.9 \n",
    "\n",
    "- 'https://raw.githubusercontent.com/Soyoung-Yoon/bigdata/main/worlddata.csv' 파일 사용"
   ]
  },
  {
   "cell_type": "code",
   "execution_count": 12,
   "metadata": {
    "id": "DyKUpzd2qSx8",
    "tags": []
   },
   "outputs": [
    {
     "name": "stdout",
     "output_type": "stream",
     "text": [
      "<class 'pandas.core.frame.DataFrame'>\n",
      "RangeIndex: 4 entries, 0 to 3\n",
      "Columns: 194 entries, year to Zimbabwe\n",
      "dtypes: float64(164), int64(30)\n",
      "memory usage: 6.2 KB\n"
     ]
    }
   ],
   "source": [
    "import pandas as pd\n",
    "\n",
    "df = pd.read_csv('./bigdata/worlddata.csv')\n",
    "df.info(memory_usage='deep')"
   ]
  },
  {
   "cell_type": "code",
   "execution_count": 24,
   "metadata": {
    "tags": []
   },
   "outputs": [
    {
     "name": "stdout",
     "output_type": "stream",
     "text": [
      "76\n"
     ]
    }
   ],
   "source": [
    "# 2000년 데이터에 대해 국가 전체 유병률 평균 값보다 큰 값을 가진 국가 개수는?\n",
    "temp = df.head(2).set_index('year').T\n",
    "print(len(temp.loc[temp[2000] > temp[2000].mean(), :]))"
   ]
  },
  {
   "cell_type": "markdown",
   "metadata": {
    "id": "LP2f9AnEqT6V"
   },
   "source": [
    "### 2-3.타이타닉 데이터\n",
    "- 각 열의 결측치 비율을 확인 한 후, 결측치의 비율이 가장 높은 변수명을 구하시오\n",
    "- \"https://raw.githubusercontent.com/Soyoung-Yoon/bigdata/main/titanic_train03.csv\" 파일 사용\n",
    "- 원본 데이터 : https://www.kaggle.com/c/2019-1st-ml-month-with-kakr/overview"
   ]
  },
  {
   "cell_type": "code",
   "execution_count": 25,
   "metadata": {
    "id": "fSWeR7GcwMNm",
    "tags": []
   },
   "outputs": [
    {
     "name": "stdout",
     "output_type": "stream",
     "text": [
      "<class 'pandas.core.frame.DataFrame'>\n",
      "RangeIndex: 891 entries, 0 to 890\n",
      "Data columns (total 12 columns):\n",
      " #   Column       Non-Null Count  Dtype  \n",
      "---  ------       --------------  -----  \n",
      " 0   PassengerId  891 non-null    int64  \n",
      " 1   Survived     891 non-null    int64  \n",
      " 2   Pclass       891 non-null    int64  \n",
      " 3   Name         891 non-null    object \n",
      " 4   Sex          891 non-null    object \n",
      " 5   Age          714 non-null    float64\n",
      " 6   SibSp        891 non-null    int64  \n",
      " 7   Parch        891 non-null    int64  \n",
      " 8   Ticket       891 non-null    object \n",
      " 9   Fare         891 non-null    float64\n",
      " 10  Cabin        773 non-null    object \n",
      " 11  Embarked     889 non-null    object \n",
      "dtypes: float64(2), int64(5), object(5)\n",
      "memory usage: 83.7+ KB\n"
     ]
    }
   ],
   "source": [
    "import pandas as pd\n",
    "\n",
    "df = pd.read_csv('./bigdata/titanic_train03.csv')\n",
    "df.info()"
   ]
  },
  {
   "cell_type": "code",
   "execution_count": 26,
   "metadata": {
    "tags": []
   },
   "outputs": [
    {
     "data": {
      "text/html": [
       "<div>\n",
       "<style scoped>\n",
       "    .dataframe tbody tr th:only-of-type {\n",
       "        vertical-align: middle;\n",
       "    }\n",
       "\n",
       "    .dataframe tbody tr th {\n",
       "        vertical-align: top;\n",
       "    }\n",
       "\n",
       "    .dataframe thead th {\n",
       "        text-align: right;\n",
       "    }\n",
       "</style>\n",
       "<table border=\"1\" class=\"dataframe\">\n",
       "  <thead>\n",
       "    <tr style=\"text-align: right;\">\n",
       "      <th></th>\n",
       "      <th>PassengerId</th>\n",
       "      <th>Survived</th>\n",
       "      <th>Pclass</th>\n",
       "      <th>Name</th>\n",
       "      <th>Sex</th>\n",
       "      <th>Age</th>\n",
       "      <th>SibSp</th>\n",
       "      <th>Parch</th>\n",
       "      <th>Ticket</th>\n",
       "      <th>Fare</th>\n",
       "      <th>Cabin</th>\n",
       "      <th>Embarked</th>\n",
       "    </tr>\n",
       "  </thead>\n",
       "  <tbody>\n",
       "    <tr>\n",
       "      <th>0</th>\n",
       "      <td>1</td>\n",
       "      <td>0</td>\n",
       "      <td>3</td>\n",
       "      <td>Braund, Mr. Owen Harris</td>\n",
       "      <td>male</td>\n",
       "      <td>22.0</td>\n",
       "      <td>1</td>\n",
       "      <td>0</td>\n",
       "      <td>A/5 21171</td>\n",
       "      <td>7.2500</td>\n",
       "      <td>NaN</td>\n",
       "      <td>S</td>\n",
       "    </tr>\n",
       "    <tr>\n",
       "      <th>1</th>\n",
       "      <td>2</td>\n",
       "      <td>1</td>\n",
       "      <td>1</td>\n",
       "      <td>Cumings, Mrs. John Bradley (Florence Briggs Th...</td>\n",
       "      <td>female</td>\n",
       "      <td>38.0</td>\n",
       "      <td>1</td>\n",
       "      <td>0</td>\n",
       "      <td>PC 17599</td>\n",
       "      <td>71.2833</td>\n",
       "      <td>C85</td>\n",
       "      <td>C</td>\n",
       "    </tr>\n",
       "  </tbody>\n",
       "</table>\n",
       "</div>"
      ],
      "text/plain": [
       "   PassengerId  Survived  Pclass  \\\n",
       "0            1         0       3   \n",
       "1            2         1       1   \n",
       "\n",
       "                                                Name     Sex   Age  SibSp  \\\n",
       "0                            Braund, Mr. Owen Harris    male  22.0      1   \n",
       "1  Cumings, Mrs. John Bradley (Florence Briggs Th...  female  38.0      1   \n",
       "\n",
       "   Parch     Ticket     Fare Cabin Embarked  \n",
       "0      0  A/5 21171   7.2500   NaN        S  \n",
       "1      0   PC 17599  71.2833   C85        C  "
      ]
     },
     "execution_count": 26,
     "metadata": {},
     "output_type": "execute_result"
    }
   ],
   "source": [
    "df.head(2)"
   ]
  },
  {
   "cell_type": "code",
   "execution_count": 59,
   "metadata": {
    "tags": []
   },
   "outputs": [
    {
     "name": "stdout",
     "output_type": "stream",
     "text": [
      "Age\n"
     ]
    }
   ],
   "source": [
    "# 각 열의 결측치 비율을 확인 한 후, 결측치의 비율이 가장 높은 변수명을 구하시오\n",
    "temp = pd.DataFrame(df.isna().sum(), columns=['Count'])\n",
    "temp['Ratio'] = temp['Count'] / temp['Count'].sum()\n",
    "temp.reset_index(inplace=True)\n",
    "print(temp.sort_values('Ratio', ascending=False).iloc[0,0])"
   ]
  },
  {
   "cell_type": "markdown",
   "metadata": {
    "id": "_MC0WQLWsd3F"
   },
   "source": [
    "## 3.작업형2\n",
    "travel insurance 데이터 - 보험가입여부 예측\n",
    "- travel insurance 데이터를 활용해서 보험가입여부를 예측하라. \n",
    "- 데이터 : https://www.kaggle.com/agileteam/traval-insurance-exam \n",
    "80점 나왔을 때 30점?!\n",
    "- X_trinplace=sv, y_train.csv\n",
    "- X_test.csv (예측해서 제출하는 것)\n",
    "- 평가: roc-auc 평가지표"
   ]
  },
  {
   "cell_type": "code",
   "execution_count": 61,
   "metadata": {
    "id": "E3WCDW1AaEpm",
    "tags": []
   },
   "outputs": [],
   "source": [
    "# [0] 사용 라이브러리 import\n",
    "# 파일 생성을 위해 실행하여 주세요!  시험에서는 이런 것은 없습니다.\n",
    "import pandas as pd\n",
    "\n",
    "# 데이타가 많은경우 모두 출력 안되고 ... 으로 생략해서 출력됨.\n",
    "pd.set_option('display.max_rows',500)    #출력할 max row를 지정\n",
    "pd.set_option('display.max_columns',20)  #출력할 max columns를 지정\n",
    "#출력 format 지정 - 소수점아래 4자리까지\n",
    "pd.set_option('display.float_format', '{:.4f}'.format)\n",
    "\n",
    "train = pd.read_csv('https://raw.githubusercontent.com/Soyoung-Yoon/bigdata/main/travel_insurance_train03.csv')\n",
    "test = pd.read_csv('https://raw.githubusercontent.com/Soyoung-Yoon/bigdata/main/travel_insurance_test03.csv')\n",
    "Xtrain = train.drop(columns='TravelInsurance')\n",
    "Xtrain.to_csv('X_train.csv', index=False)\n",
    "train[['Unnamed: 0', 'TravelInsurance']].to_csv('y_train.csv', index=False)\n",
    "test.to_csv('X_test.csv', index=False)"
   ]
  },
  {
   "cell_type": "code",
   "execution_count": null,
   "metadata": {
    "id": "aY9hecvAaYQA"
   },
   "outputs": [],
   "source": [
    "# 직접 코드를 작성해 보세요 ^_^\n",
    "# 셀을 추가하지 말고 작성해 보시기 바랍니다."
   ]
  },
  {
   "cell_type": "markdown",
   "metadata": {},
   "source": [
    "### Data Import"
   ]
  },
  {
   "cell_type": "code",
   "execution_count": 88,
   "metadata": {
    "tags": []
   },
   "outputs": [
    {
     "name": "stdout",
     "output_type": "stream",
     "text": [
      "[(1490, 9), (1490, 2), (497, 9)]\n"
     ]
    }
   ],
   "source": [
    "import pandas as pd\n",
    "\n",
    "X = pd.read_csv('./X_train.csv')\n",
    "Y = pd.read_csv('./y_train.csv')\n",
    "X_submission = pd.read_csv('./X_test.csv')\n",
    "\n",
    "X.columns = ['cust_id', 'Age', 'Employment Type', 'GraduateOrNot', 'AnnualIncome','FamilyMembers', 'ChronicDiseases', 'FrequentFlyer','EverTravelledAbroad']\n",
    "X_submission.columns = ['cust_id', 'Age', 'Employment Type', 'GraduateOrNot', 'AnnualIncome','FamilyMembers', 'ChronicDiseases', 'FrequentFlyer','EverTravelledAbroad']\n",
    "Y.columns = ['cust_id', 'TravelInsurance']\n",
    "\n",
    "print([x.shape for x in [X, Y, X_submission]])"
   ]
  },
  {
   "cell_type": "code",
   "execution_count": 89,
   "metadata": {
    "tags": []
   },
   "outputs": [],
   "source": [
    "pd.options.display.max_rows = 2000\n",
    "pd.options.display.max_columns = 25\n",
    "pd.options.display.float_format = '{:,.4f}'.format"
   ]
  },
  {
   "cell_type": "markdown",
   "metadata": {},
   "source": [
    "### EDA"
   ]
  },
  {
   "cell_type": "code",
   "execution_count": 102,
   "metadata": {
    "tags": []
   },
   "outputs": [
    {
     "name": "stdout",
     "output_type": "stream",
     "text": [
      "<class 'pandas.core.frame.DataFrame'>\n",
      "RangeIndex: 1490 entries, 0 to 1489\n",
      "Data columns (total 9 columns):\n",
      " #   Column               Non-Null Count  Dtype \n",
      "---  ------               --------------  ----- \n",
      " 0   cust_id              1490 non-null   int64 \n",
      " 1   Age                  1490 non-null   int64 \n",
      " 2   Employment Type      1490 non-null   object\n",
      " 3   GraduateOrNot        1490 non-null   object\n",
      " 4   AnnualIncome         1490 non-null   int64 \n",
      " 5   FamilyMembers        1490 non-null   int64 \n",
      " 6   ChronicDiseases      1490 non-null   int64 \n",
      " 7   FrequentFlyer        1490 non-null   object\n",
      " 8   EverTravelledAbroad  1490 non-null   object\n",
      "dtypes: int64(5), object(4)\n",
      "memory usage: 104.9+ KB\n",
      "None\n"
     ]
    }
   ],
   "source": [
    "print(X.info())"
   ]
  },
  {
   "cell_type": "code",
   "execution_count": 91,
   "metadata": {
    "tags": []
   },
   "outputs": [
    {
     "name": "stdout",
     "output_type": "stream",
     "text": [
      "   cust_id  Age               Employment Type GraduateOrNot  AnnualIncome  \\\n",
      "0     1704   26  Private Sector/Self Employed           Yes       1400000   \n",
      "1      491   28  Private Sector/Self Employed           Yes       1100000   \n",
      "\n",
      "   FamilyMembers  ChronicDiseases FrequentFlyer EverTravelledAbroad  \n",
      "0              3                1            No                 Yes  \n",
      "1              4                1            No                  No  \n"
     ]
    }
   ],
   "source": [
    "print(X.head(2))"
   ]
  },
  {
   "cell_type": "code",
   "execution_count": 99,
   "metadata": {
    "tags": []
   },
   "outputs": [
    {
     "name": "stdout",
     "output_type": "stream",
     "text": [
      "<class 'pandas.core.frame.DataFrame'>\n",
      "RangeIndex: 497 entries, 0 to 496\n",
      "Data columns (total 9 columns):\n",
      " #   Column               Non-Null Count  Dtype \n",
      "---  ------               --------------  ----- \n",
      " 0   cust_id              497 non-null    int64 \n",
      " 1   Age                  497 non-null    int64 \n",
      " 2   Employment Type      497 non-null    object\n",
      " 3   GraduateOrNot        497 non-null    object\n",
      " 4   AnnualIncome         497 non-null    int64 \n",
      " 5   FamilyMembers        497 non-null    int64 \n",
      " 6   ChronicDiseases      497 non-null    int64 \n",
      " 7   FrequentFlyer        497 non-null    object\n",
      " 8   EverTravelledAbroad  497 non-null    object\n",
      "dtypes: int64(5), object(4)\n",
      "memory usage: 35.1+ KB\n",
      "None\n"
     ]
    }
   ],
   "source": [
    "print(X_submission.info())"
   ]
  },
  {
   "cell_type": "code",
   "execution_count": 100,
   "metadata": {
    "tags": []
   },
   "outputs": [
    {
     "name": "stdout",
     "output_type": "stream",
     "text": [
      "   cust_id  Age               Employment Type GraduateOrNot  AnnualIncome  \\\n",
      "0     1569   27             Government Sector           Yes        500000   \n",
      "1     1344   25  Private Sector/Self Employed           Yes       1700000   \n",
      "\n",
      "   FamilyMembers  ChronicDiseases FrequentFlyer EverTravelledAbroad  \n",
      "0              5                0            No                  No  \n",
      "1              3                0           Yes                  No  \n"
     ]
    }
   ],
   "source": [
    "print(X_submission.head(2))"
   ]
  },
  {
   "cell_type": "code",
   "execution_count": 101,
   "metadata": {
    "tags": []
   },
   "outputs": [
    {
     "name": "stdout",
     "output_type": "stream",
     "text": [
      "<class 'pandas.core.frame.DataFrame'>\n",
      "RangeIndex: 1490 entries, 0 to 1489\n",
      "Data columns (total 2 columns):\n",
      " #   Column           Non-Null Count  Dtype\n",
      "---  ------           --------------  -----\n",
      " 0   cust_id          1490 non-null   int64\n",
      " 1   TravelInsurance  1490 non-null   int64\n",
      "dtypes: int64(2)\n",
      "memory usage: 23.4 KB\n",
      "None\n"
     ]
    }
   ],
   "source": [
    "print(Y.info())"
   ]
  },
  {
   "cell_type": "code",
   "execution_count": 95,
   "metadata": {
    "tags": []
   },
   "outputs": [
    {
     "name": "stdout",
     "output_type": "stream",
     "text": [
      "   cust_id  TravelInsurance\n",
      "0     1704                0\n",
      "1      491                1\n"
     ]
    }
   ],
   "source": [
    "print(Y.head(2))"
   ]
  },
  {
   "cell_type": "markdown",
   "metadata": {},
   "source": [
    "### 결측치 확인"
   ]
  },
  {
   "cell_type": "code",
   "execution_count": 104,
   "metadata": {
    "tags": []
   },
   "outputs": [
    {
     "name": "stdout",
     "output_type": "stream",
     "text": [
      "<class 'pandas.core.frame.DataFrame'>\n",
      "RangeIndex: 1987 entries, 0 to 1986\n",
      "Data columns (total 9 columns):\n",
      " #   Column               Non-Null Count  Dtype \n",
      "---  ------               --------------  ----- \n",
      " 0   cust_id              1987 non-null   int64 \n",
      " 1   Age                  1987 non-null   int64 \n",
      " 2   Employment Type      1987 non-null   object\n",
      " 3   GraduateOrNot        1987 non-null   object\n",
      " 4   AnnualIncome         1987 non-null   int64 \n",
      " 5   FamilyMembers        1987 non-null   int64 \n",
      " 6   ChronicDiseases      1987 non-null   int64 \n",
      " 7   FrequentFlyer        1987 non-null   object\n",
      " 8   EverTravelledAbroad  1987 non-null   object\n",
      "dtypes: int64(5), object(4)\n",
      "memory usage: 139.8+ KB\n"
     ]
    }
   ],
   "source": [
    "dfX = pd.concat([X, X_submission], axis=0, ignore_index=True)\n",
    "dfX.info()"
   ]
  },
  {
   "cell_type": "code",
   "execution_count": 105,
   "metadata": {
    "tags": []
   },
   "outputs": [
    {
     "data": {
      "text/plain": [
       "cust_id                0\n",
       "Age                    0\n",
       "Employment Type        0\n",
       "GraduateOrNot          0\n",
       "AnnualIncome           0\n",
       "FamilyMembers          0\n",
       "ChronicDiseases        0\n",
       "FrequentFlyer          0\n",
       "EverTravelledAbroad    0\n",
       "dtype: int64"
      ]
     },
     "execution_count": 105,
     "metadata": {},
     "output_type": "execute_result"
    }
   ],
   "source": [
    "dfX.isna().sum()"
   ]
  },
  {
   "cell_type": "markdown",
   "metadata": {},
   "source": [
    "### Encoding"
   ]
  },
  {
   "cell_type": "code",
   "execution_count": 110,
   "metadata": {
    "tags": []
   },
   "outputs": [
    {
     "name": "stdout",
     "output_type": "stream",
     "text": [
      "Employment Type : ['Private Sector/Self Employed' 'Government Sector']\n",
      "GraduateOrNot : ['Yes' 'No']\n",
      "FrequentFlyer : ['No' 'Yes']\n",
      "EverTravelledAbroad : ['Yes' 'No']\n"
     ]
    }
   ],
   "source": [
    "for feature in dfX.select_dtypes(include='object').columns:\n",
    "    print(feature, ':', dfX[feature].unique())"
   ]
  },
  {
   "cell_type": "code",
   "execution_count": 111,
   "metadata": {
    "tags": []
   },
   "outputs": [],
   "source": [
    "from sklearn.preprocessing import LabelEncoder\n",
    "\n",
    "dfX['Employment Type'] = LabelEncoder().fit_transform(dfX['Employment Type'])"
   ]
  },
  {
   "cell_type": "code",
   "execution_count": 113,
   "metadata": {
    "tags": []
   },
   "outputs": [],
   "source": [
    "dfX['GraduateOrNot'] = dfX['GraduateOrNot'].replace({'No': 0, 'Yes': 1})"
   ]
  },
  {
   "cell_type": "code",
   "execution_count": 114,
   "metadata": {
    "tags": []
   },
   "outputs": [],
   "source": [
    "dfX['FrequentFlyer'] = dfX['FrequentFlyer'].replace({'No': 0, 'Yes': 1})"
   ]
  },
  {
   "cell_type": "code",
   "execution_count": 115,
   "metadata": {
    "tags": []
   },
   "outputs": [],
   "source": [
    "dfX['EverTravelledAbroad'] = dfX['EverTravelledAbroad'].replace({'No': 0, 'Yes': 1})"
   ]
  },
  {
   "cell_type": "code",
   "execution_count": 116,
   "metadata": {
    "tags": []
   },
   "outputs": [
    {
     "name": "stdout",
     "output_type": "stream",
     "text": [
      "<class 'pandas.core.frame.DataFrame'>\n",
      "RangeIndex: 1987 entries, 0 to 1986\n",
      "Data columns (total 9 columns):\n",
      " #   Column               Non-Null Count  Dtype\n",
      "---  ------               --------------  -----\n",
      " 0   cust_id              1987 non-null   int64\n",
      " 1   Age                  1987 non-null   int64\n",
      " 2   Employment Type      1987 non-null   int64\n",
      " 3   GraduateOrNot        1987 non-null   int64\n",
      " 4   AnnualIncome         1987 non-null   int64\n",
      " 5   FamilyMembers        1987 non-null   int64\n",
      " 6   ChronicDiseases      1987 non-null   int64\n",
      " 7   FrequentFlyer        1987 non-null   int64\n",
      " 8   EverTravelledAbroad  1987 non-null   int64\n",
      "dtypes: int64(9)\n",
      "memory usage: 139.8 KB\n"
     ]
    }
   ],
   "source": [
    "dfX.info()"
   ]
  },
  {
   "cell_type": "markdown",
   "metadata": {},
   "source": [
    "### 연관 관계 분석"
   ]
  },
  {
   "cell_type": "code",
   "execution_count": 117,
   "metadata": {
    "tags": []
   },
   "outputs": [
    {
     "name": "stdout",
     "output_type": "stream",
     "text": [
      "<class 'pandas.core.frame.DataFrame'>\n",
      "Int64Index: 1490 entries, 0 to 1489\n",
      "Data columns (total 10 columns):\n",
      " #   Column               Non-Null Count  Dtype\n",
      "---  ------               --------------  -----\n",
      " 0   cust_id              1490 non-null   int64\n",
      " 1   Age                  1490 non-null   int64\n",
      " 2   Employment Type      1490 non-null   int64\n",
      " 3   GraduateOrNot        1490 non-null   int64\n",
      " 4   AnnualIncome         1490 non-null   int64\n",
      " 5   FamilyMembers        1490 non-null   int64\n",
      " 6   ChronicDiseases      1490 non-null   int64\n",
      " 7   FrequentFlyer        1490 non-null   int64\n",
      " 8   EverTravelledAbroad  1490 non-null   int64\n",
      " 9   TravelInsurance      1490 non-null   int64\n",
      "dtypes: int64(10)\n",
      "memory usage: 128.0 KB\n"
     ]
    }
   ],
   "source": [
    "dfXY = pd.merge(dfX, Y, on='cust_id')\n",
    "dfXY.info()"
   ]
  },
  {
   "cell_type": "code",
   "execution_count": 119,
   "metadata": {
    "tags": []
   },
   "outputs": [
    {
     "data": {
      "text/plain": [
       "cust_id               -0.0156\n",
       "Age                    0.0690\n",
       "Employment Type        0.1744\n",
       "GraduateOrNot         -0.0247\n",
       "AnnualIncome           0.4064\n",
       "FamilyMembers          0.0967\n",
       "ChronicDiseases        0.0308\n",
       "FrequentFlyer          0.2442\n",
       "EverTravelledAbroad    0.4279\n",
       "TravelInsurance        1.0000\n",
       "Name: TravelInsurance, dtype: float64"
      ]
     },
     "execution_count": 119,
     "metadata": {},
     "output_type": "execute_result"
    }
   ],
   "source": [
    "dfXY.corr()['TravelInsurance']"
   ]
  },
  {
   "cell_type": "markdown",
   "metadata": {},
   "source": [
    "### 모델링 (사전작업)"
   ]
  },
  {
   "cell_type": "code",
   "execution_count": 141,
   "metadata": {
    "tags": []
   },
   "outputs": [],
   "source": [
    "from sklearn.metrics import roc_auc_score\n",
    "\n",
    "def get_model_score(model, xtrain, xtest, ytrain, ytest):\n",
    "    A1 = model.score(xtrain, ytrain)\n",
    "    A2 = model.score(xtest, ytest)\n",
    "    \n",
    "    ypred = model.predict_proba(xtest)[:,1]\n",
    "    B = roc_auc_score(ytest, ypred)\n",
    "    \n",
    "    scores = pd.Series([A1, A2, B], index='Train_Accuracy Test_Accuracy ROC_AUC'.split())\n",
    "    return scores"
   ]
  },
  {
   "cell_type": "code",
   "execution_count": 151,
   "metadata": {
    "tags": []
   },
   "outputs": [],
   "source": [
    "from sklearn.model_selection import GridSearchCV\n",
    "\n",
    "from sklearn.linear_model import LogisticRegression\n",
    "from sklearn.neighbors import KNeighborsClassifier\n",
    "from sklearn.tree import DecisionTreeClassifier\n",
    "from sklearn.ensemble import RandomForestClassifier\n",
    "from xgboost import XGBClassifier\n",
    "\n",
    "def compare_model(xtrain, xtest, ytrain, ytest):\n",
    "    result = pd.DataFrame()\n",
    "    \n",
    "    model = LogisticRegression().fit(xtrain, ytrain)\n",
    "    result[f'{model.__class__.__name__}'] = get_model_score(model, xtrain, xtest, ytrain, ytest)\n",
    "    \n",
    "    model = KNeighborsClassifier().fit(xtrain, ytrain)\n",
    "    result[f'{model.__class__.__name__}'] = get_model_score(model, xtrain, xtest, ytrain, ytest)\n",
    "    \n",
    "    # for n in range(3, 10):\n",
    "    #     model = KNeighborsClassifier(n_neighbors=n).fit(xtrain, ytrain)\n",
    "    #     result[f'{model.__class__.__name__}_{n}'] = get_model_score(model, xtrain, xtest, ytrain, ytest)\n",
    "\n",
    "    model = DecisionTreeClassifier(random_state=0).fit(xtrain, ytrain)\n",
    "    result[f'{model.__class__.__name__}'] = get_model_score(model, xtrain, xtest, ytrain, ytest)\n",
    "    \n",
    "    for d in range(1, 10):\n",
    "        model = DecisionTreeClassifier(max_depth=d, random_state=0).fit(xtrain, ytrain)\n",
    "        result[f'{model.__class__.__name__}_{d}'] = get_model_score(model, xtrain, xtest, ytrain, ytest)\n",
    "    \n",
    "    model = RandomForestClassifier(random_state=0).fit(xtrain, ytrain)\n",
    "    result[f'{model.__class__.__name__}'] = get_model_score(model, xtrain, xtest, ytrain, ytest)\n",
    "\n",
    "    for d in range(1, 10):\n",
    "        model = RandomForestClassifier(max_depth=d, random_state=0).fit(xtrain, ytrain)\n",
    "        result[f'{model.__class__.__name__}_{d}'] = get_model_score(model, xtrain, xtest, ytrain, ytest)\n",
    "    \n",
    "    model = XGBClassifier().fit(xtrain, ytrain)\n",
    "    result[f'{model.__class__.__name__}'] = get_model_score(model, xtrain, xtest, ytrain, ytest)\n",
    "    \n",
    "    result = result.T\n",
    "    result.insert(2, 'DIFF', (result['Train_Accuracy'] - result['Test_Accuracy']).abs())\n",
    "    return result"
   ]
  },
  {
   "cell_type": "code",
   "execution_count": 132,
   "metadata": {
    "tags": []
   },
   "outputs": [],
   "source": [
    "from sklearn.preprocessing import MinMaxScaler, StandardScaler\n",
    "\n",
    "def get_model_data(dfX, Y, train_size, is_scaled=False):\n",
    "    X_temp = dfX.drop(columns=['cust_id'])\n",
    "    YF = Y['TravelInsurance']\n",
    "    \n",
    "    if is_scaled:\n",
    "        X_temp = MinMaxScaler().fit_transform(X_temp)\n",
    "        \n",
    "    XF = X_temp[:train_size]\n",
    "    X_submissionF = X_temp[train_size:]\n",
    "    \n",
    "    return XF, X_submissionF, YF"
   ]
  },
  {
   "cell_type": "markdown",
   "metadata": {},
   "source": [
    "### 모델링 - Scaler 미사용"
   ]
  },
  {
   "cell_type": "code",
   "execution_count": 135,
   "metadata": {
    "tags": []
   },
   "outputs": [
    {
     "name": "stdout",
     "output_type": "stream",
     "text": [
      "[(1490, 9), (497, 9), (1490, 2)]\n",
      "[(1490, 8), (497, 8), (1490,)]\n",
      "[(1192, 8), (298, 8), (1192,), (298,)]\n"
     ]
    }
   ],
   "source": [
    "from sklearn.model_selection import train_test_split\n",
    "\n",
    "XF, X_submissionF, YF = get_model_data(dfX, Y, len(X), False)\n",
    "print([x.shape for x in [X, X_submission, Y]])\n",
    "print([x.shape for x in [XF, X_submissionF, YF]])\n",
    "\n",
    "xtrain, xtest, ytrain, ytest = train_test_split(XF, YF, test_size=0.2, random_state=1234, stratify=YF)\n",
    "print([x.shape for x in [xtrain, xtest, ytrain, ytest]])"
   ]
  },
  {
   "cell_type": "code",
   "execution_count": 152,
   "metadata": {
    "tags": []
   },
   "outputs": [],
   "source": [
    "result_1 = compare_model(xtrain, xtest, ytrain, ytest)"
   ]
  },
  {
   "cell_type": "code",
   "execution_count": 155,
   "metadata": {
    "tags": []
   },
   "outputs": [
    {
     "name": "stdout",
     "output_type": "stream",
     "text": [
      "                          Train_Accuracy  Test_Accuracy   DIFF  ROC_AUC\n",
      "DecisionTreeClassifier_5          0.8423         0.8322 0.0101   0.8440\n",
      "DecisionTreeClassifier_4          0.8372         0.8423 0.0050   0.8250\n",
      "DecisionTreeClassifier_6          0.8498         0.8154 0.0344   0.8225\n",
      "DecisionTreeClassifier_3          0.8372         0.8423 0.0050   0.8180\n",
      "RandomForestClassifier_8          0.8633         0.8356 0.0277   0.8156\n",
      "RandomForestClassifier_7          0.8498         0.8322 0.0176   0.8147\n",
      "RandomForestClassifier_5          0.8406         0.8356 0.0050   0.8110\n",
      "RandomForestClassifier_6          0.8465         0.8389 0.0076   0.8107\n",
      "RandomForestClassifier_9          0.8775         0.8322 0.0453   0.8092\n",
      "KNeighborsClassifier              0.8498         0.8121 0.0378   0.7955\n",
      "RandomForestClassifier            0.9421         0.8121 0.1300   0.7931\n",
      "DecisionTreeClassifier_7          0.8582         0.8221 0.0361   0.7716\n",
      "DecisionTreeClassifier_8          0.8624         0.8154 0.0470   0.7505\n"
     ]
    }
   ],
   "source": [
    "print(result_1[result_1['Test_Accuracy'] > 0.8].sort_values(['ROC_AUC', 'Train_Accuracy'], ascending=[False, False]))\n",
    "# RandomForestClassifier          0.9421         0.8121 0.1300   0.7931\n",
    "# XGBClassifier                   0.9136         0.7987 0.1149   0.7915\n",
    "# DecisionTreeClassifier_5          0.8423         0.8322 0.0101   0.8440"
   ]
  },
  {
   "cell_type": "markdown",
   "metadata": {},
   "source": [
    "### 모델링 - Scaler 사용"
   ]
  },
  {
   "cell_type": "code",
   "execution_count": 156,
   "metadata": {
    "tags": []
   },
   "outputs": [
    {
     "name": "stdout",
     "output_type": "stream",
     "text": [
      "[(1490, 9), (497, 9), (1490, 2)]\n",
      "[(1490, 8), (497, 8), (1490,)]\n",
      "[(1192, 8), (298, 8), (1192,), (298,)]\n"
     ]
    }
   ],
   "source": [
    "from sklearn.model_selection import train_test_split\n",
    "\n",
    "XF2, X_submissionF2, YF2 = get_model_data(dfX, Y, len(X), True)\n",
    "print([x.shape for x in [X, X_submission, Y]])\n",
    "print([x.shape for x in [XF2, X_submissionF2, YF2]])\n",
    "\n",
    "xtrain2, xtest2, ytrain2, ytest2 = train_test_split(XF2, YF2, test_size=0.2, random_state=1234, stratify=YF2)\n",
    "print([x.shape for x in [xtrain2, xtest2, ytrain2, ytest2]])"
   ]
  },
  {
   "cell_type": "code",
   "execution_count": 157,
   "metadata": {
    "tags": []
   },
   "outputs": [],
   "source": [
    "result_2 = compare_model(xtrain2, xtest2, ytrain2, ytest2)"
   ]
  },
  {
   "cell_type": "code",
   "execution_count": 158,
   "metadata": {
    "tags": []
   },
   "outputs": [
    {
     "name": "stdout",
     "output_type": "stream",
     "text": [
      "                          Train_Accuracy  Test_Accuracy   DIFF  ROC_AUC\n",
      "DecisionTreeClassifier_5          0.8423         0.8322 0.0101   0.8440\n",
      "DecisionTreeClassifier_4          0.8372         0.8423 0.0050   0.8250\n",
      "DecisionTreeClassifier_6          0.8498         0.8154 0.0344   0.8225\n",
      "DecisionTreeClassifier_3          0.8372         0.8423 0.0050   0.8180\n",
      "RandomForestClassifier_8          0.8633         0.8322 0.0310   0.8164\n",
      "RandomForestClassifier_7          0.8498         0.8322 0.0176   0.8148\n",
      "RandomForestClassifier_5          0.8406         0.8356 0.0050   0.8111\n",
      "RandomForestClassifier_6          0.8473         0.8389 0.0084   0.8107\n",
      "RandomForestClassifier_9          0.8775         0.8322 0.0453   0.8087\n",
      "RandomForestClassifier            0.9421         0.8121 0.1300   0.7948\n",
      "DecisionTreeClassifier_7          0.8582         0.8221 0.0361   0.7716\n",
      "DecisionTreeClassifier_8          0.8624         0.8154 0.0470   0.7505\n"
     ]
    }
   ],
   "source": [
    "print(result_2[result_2['Test_Accuracy'] > 0.8].sort_values(['ROC_AUC', 'Train_Accuracy'], ascending=[False, False]))\n",
    "# RandomForestClassifier          0.9421         0.8121 0.1300   0.7931\n",
    "# XGBClassifier                   0.9136         0.7987 0.1149   0.7915\n",
    "# DecisionTreeClassifier_5          0.8423         0.8322 0.0101   0.8440"
   ]
  },
  {
   "cell_type": "markdown",
   "metadata": {},
   "source": [
    "### 모델 확정 및 제출 데이터 생성"
   ]
  },
  {
   "cell_type": "code",
   "execution_count": 159,
   "metadata": {
    "tags": []
   },
   "outputs": [
    {
     "name": "stdout",
     "output_type": "stream",
     "text": [
      "[(1490, 9), (497, 9), (1490, 2)]\n",
      "[(1490, 8), (497, 8), (1490,)]\n",
      "[(1192, 8), (298, 8), (1192,), (298,)]\n"
     ]
    }
   ],
   "source": [
    "from sklearn.model_selection import train_test_split\n",
    "\n",
    "XF, X_submissionF, YF = get_model_data(dfX, Y, len(X), False)\n",
    "print([x.shape for x in [X, X_submission, Y]])\n",
    "print([x.shape for x in [XF, X_submissionF, YF]])\n",
    "\n",
    "xtrain, xtest, ytrain, ytest = train_test_split(XF, YF, test_size=0.2, random_state=1234, stratify=YF)\n",
    "print([x.shape for x in [xtrain, xtest, ytrain, ytest]])"
   ]
  },
  {
   "cell_type": "code",
   "execution_count": 160,
   "metadata": {
    "tags": []
   },
   "outputs": [
    {
     "name": "stdout",
     "output_type": "stream",
     "text": [
      "Train_Accuracy   0.8423\n",
      "Test_Accuracy    0.8322\n",
      "ROC_AUC          0.8440\n",
      "dtype: float64\n"
     ]
    }
   ],
   "source": [
    "model = DecisionTreeClassifier(max_depth=5, random_state=0).fit(xtrain, ytrain)\n",
    "print(get_model_score(model, xtrain, xtest, ytrain, ytest))"
   ]
  },
  {
   "cell_type": "code",
   "execution_count": 161,
   "metadata": {
    "tags": []
   },
   "outputs": [],
   "source": [
    "Y_pred = model.predict_proba(X_submissionF)[:,1]\n",
    "submission = pd.DataFrame({'cust_id': X_submission['cust_id'], 'TravelInsurance': Y_pred})\n",
    "submission.to_csv('./submission.csv', index=False)"
   ]
  },
  {
   "cell_type": "markdown",
   "metadata": {},
   "source": [
    "### 제출 데이터 확인"
   ]
  },
  {
   "cell_type": "code",
   "execution_count": 162,
   "metadata": {
    "tags": []
   },
   "outputs": [
    {
     "name": "stdout",
     "output_type": "stream",
     "text": [
      "   cust_id  TravelInsurance\n",
      "0     1569           0.1863\n",
      "1     1344           1.0000\n",
      "2     1429           0.1863\n",
      "3      896           0.2846\n",
      "4      101           1.0000\n"
     ]
    }
   ],
   "source": [
    "temp = pd.read_csv('./submission.csv')\n",
    "print(temp.head())"
   ]
  },
  {
   "cell_type": "code",
   "execution_count": null,
   "metadata": {},
   "outputs": [],
   "source": []
  }
 ],
 "metadata": {
  "colab": {
   "provenance": [],
   "toc_visible": true
  },
  "kernelspec": {
   "display_name": "Python 3 (ipykernel)",
   "language": "python",
   "name": "python3"
  },
  "language_info": {
   "codemirror_mode": {
    "name": "ipython",
    "version": 3
   },
   "file_extension": ".py",
   "mimetype": "text/x-python",
   "name": "python",
   "nbconvert_exporter": "python",
   "pygments_lexer": "ipython3",
   "version": "3.8.16"
  }
 },
 "nbformat": 4,
 "nbformat_minor": 4
}
