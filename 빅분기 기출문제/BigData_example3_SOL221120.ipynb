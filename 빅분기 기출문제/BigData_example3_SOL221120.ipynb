{
  "nbformat": 4,
  "nbformat_minor": 0,
  "metadata": {
    "colab": {
      "provenance": [],
      "collapsed_sections": [
        "vA-FmFtl_GSO",
        "fepF01fW_Mki",
        "uMhxcUyi_UJQ",
        "KMHZMoow_ekq",
        "UZgAmIsP_0SU",
        "PiwGuNDb_3iv",
        "9D8QN5a5AJgn",
        "KfMgiog6AVPO",
        "M3Fgw13HAeC0",
        "nQkH0fq6jBlK"
      ],
      "toc_visible": true
    },
    "kernelspec": {
      "name": "python3",
      "display_name": "Python 3"
    },
    "language_info": {
      "name": "python"
    }
  },
  "cells": [
    {
      "cell_type": "markdown",
      "metadata": {
        "id": "WPhdWE5XtaG7"
      },
      "source": [
        "## 0.데이터 가져오기"
      ]
    },
    {
      "cell_type": "code",
      "metadata": {
        "colab": {
          "base_uri": "https://localhost:8080/"
        },
        "id": "Frc2AXmiHhXQ",
        "outputId": "9b557878-4a69-4d92-f48d-8c8ffa2711c5"
      },
      "source": [
        "!git clone https://github.com/Soyoung-Yoon/bigdata"
      ],
      "execution_count": null,
      "outputs": [
        {
          "output_type": "stream",
          "name": "stdout",
          "text": [
            "Cloning into 'bigdata'...\n",
            "remote: Enumerating objects: 50, done.\u001b[K\n",
            "remote: Total 50 (delta 0), reused 0 (delta 0), pack-reused 50\u001b[K\n",
            "Unpacking objects: 100% (50/50), done.\n"
          ]
        }
      ]
    },
    {
      "cell_type": "markdown",
      "source": [
        "## 1.기출문제 (빅분기 실기 4회)"
      ],
      "metadata": {
        "id": "UdPHfkFPGTDb"
      }
    },
    {
      "cell_type": "markdown",
      "metadata": {
        "id": "vA-FmFtl_GSO"
      },
      "source": [
        "#### 1-1. \n",
        "웹과 애플리케이션에서 데이터 객체를 '속성과 값'의 쌍의 형태로 표현하는 형식으로 자바스크립트를 토대로 개발되었으며 독립형 언어이며 텍스트로 기술하여 사람도 쉽게 읽고 작성할 수 있다."
      ]
    },
    {
      "cell_type": "code",
      "metadata": {
        "id": "dWlF2WPw-rb5"
      },
      "source": [
        "JSON"
      ],
      "execution_count": null,
      "outputs": []
    },
    {
      "cell_type": "markdown",
      "metadata": {
        "id": "fepF01fW_Mki"
      },
      "source": [
        "#### 1-2. \n",
        "(     )은 통계학에서 적합한 회귀식에 의한 예측치와 관찰치의 차이인 잔차들의 제곱의 합이 최소가 되도록 회귀계수를 추정하는 방법을 말한다."
      ]
    },
    {
      "cell_type": "code",
      "metadata": {
        "id": "qct50H6e_R11"
      },
      "source": [
        "최소제곱법"
      ],
      "execution_count": null,
      "outputs": []
    },
    {
      "cell_type": "markdown",
      "metadata": {
        "id": "uMhxcUyi_UJQ"
      },
      "source": [
        "#### 1-3.\n",
        "정규분포가 아닌 데이터를 정규분포에 가깝게 만들거나 데이터 분산을 안정화하는 기법으로 lambda 값에 따라 정도가 달라지는데 이 값이 클수록 고차원의 함수를 사용한다."
      ]
    },
    {
      "cell_type": "code",
      "metadata": {
        "id": "WkwIMAg7_Tws"
      },
      "source": [
        "Boxcox"
      ],
      "execution_count": null,
      "outputs": []
    },
    {
      "cell_type": "markdown",
      "metadata": {
        "id": "KMHZMoow_ekq"
      },
      "source": [
        "#### 1-4.\n",
        "많은 컬럼을 가지는 다차원 데이터셋은 공통된 특성을 많이 가지고 있어서 상대적으로 적은 차원에서 학습한 모델에 비해 예측의 성능이 저하되는 등의 문제가 발생한다. 이를 방지하기 위해 일반적으로 서로 상관성이 높은 변수들을 요약하고 축소하는 주성분분석과 같은 (         ) 방법이 사용된다."
      ]
    },
    {
      "cell_type": "code",
      "metadata": {
        "id": "RoCqgsMf_m3a"
      },
      "source": [
        "차원 축소"
      ],
      "execution_count": null,
      "outputs": []
    },
    {
      "cell_type": "markdown",
      "metadata": {
        "id": "UZgAmIsP_0SU"
      },
      "source": [
        "#### 1-5.\n",
        "다음이 설명하는 것은 무엇인가? \n",
        "- (가) 대뇌피질의 시각피질을 모델화한 인공신경망의 일종이다\n",
        "- (나) 군집분석 방법의 하나이다\n",
        "- (다) 자율학습의 방법으로 훈련이 되며, 저차원의 지도를 생성한다."
      ]
    },
    {
      "cell_type": "code",
      "metadata": {
        "id": "b9lyDHBP_3_-"
      },
      "source": [
        "SOM"
      ],
      "execution_count": null,
      "outputs": []
    },
    {
      "cell_type": "markdown",
      "metadata": {
        "id": "PiwGuNDb_3iv"
      },
      "source": [
        "#### 1-6.\n",
        "선형회귀분석에서 아래 설명은 어떤한 가정을 확인하기 위한 것인가?\n",
        "- (가) 오차가 정규분포를 따른다\n",
        "- (나) Q-Q플롯을 그린다\n",
        "- (다) 잔차가 특정 범위 내에 안정적으로 분포되어 있다"
      ]
    },
    {
      "cell_type": "code",
      "metadata": {
        "id": "8Sh4WvGvAF4L"
      },
      "source": [
        "정규성"
      ],
      "execution_count": null,
      "outputs": []
    },
    {
      "cell_type": "markdown",
      "metadata": {
        "id": "9D8QN5a5AJgn"
      },
      "source": [
        "#### 1-7. \n",
        "다음은 무엇에 관한 내용인가?\n",
        "- 기계학습 분야 중 하나로 패턴인식 등을 위한 지도학습 모델임\n",
        "- 주어진 데이터 집합을 바탕으로 생로운 데이터가 어떤 범주에 속할 것인지를 판단함\n",
        "- 데이터가 사상된 공간에서 경계로 표현되며, 공간상에 존재하는 여러 경계 중 가장 큰 폭을 가진 경계를 찾음\n",
        "- 고차원 혹은 무한 차원의 공간에서 마진을 최대화하는 초평면을 찾음"
      ]
    },
    {
      "cell_type": "code",
      "metadata": {
        "id": "r3XoayrfARl5"
      },
      "source": [
        "SVM(Support Vector Machine)"
      ],
      "execution_count": null,
      "outputs": []
    },
    {
      "cell_type": "markdown",
      "metadata": {
        "id": "KfMgiog6AVPO"
      },
      "source": [
        "#### 1-8. \n",
        "인공신경망 모형에서 과적합을 방지하기 위해 사용하는 방법 중 하나로 신경망의 은닉층의 뉴런을 임의로 제거한다."
      ]
    },
    {
      "cell_type": "code",
      "metadata": {
        "id": "bLCAJnq0ATvv"
      },
      "source": [
        "드롭 아웃"
      ],
      "execution_count": null,
      "outputs": []
    },
    {
      "cell_type": "markdown",
      "metadata": {
        "id": "M3Fgw13HAeC0"
      },
      "source": [
        "#### 1-9.\n",
        "(     )은 정형데이터 수집 기술로 관계형 데이터베이스(RDB)와 분산 파일 시스템(HDFS) 간의 데이터 변환을 위한 도구로 구조화된 데이터 저장소 간에 대량 데이터를 효율적으로 전송하도록 설계되었다."
      ]
    },
    {
      "cell_type": "code",
      "metadata": {
        "id": "6UL_YB4iAdkQ"
      },
      "source": [
        "Sqoop(스쿱)"
      ],
      "execution_count": null,
      "outputs": []
    },
    {
      "cell_type": "markdown",
      "metadata": {
        "id": "nQkH0fq6jBlK"
      },
      "source": [
        "#### 1-10.\n",
        "이진분류에서 Recall=0.8 이고 Precision = 0.6 일 때 f1-score를 계산하고 소수점 셋째 자리까지 나타내어라"
      ]
    },
    {
      "cell_type": "code",
      "metadata": {
        "id": "HHYHMUm_Pjw4",
        "colab": {
          "base_uri": "https://localhost:8080/"
        },
        "outputId": "ab0cfbe7-8299-4317-b195-7e4e6e327459"
      },
      "source": [
        "#f1_score = (2 * P * R) / (P + R)\n",
        "(2 * 0.8 * 0.6) / (0.8 + 0.6)"
      ],
      "execution_count": null,
      "outputs": [
        {
          "output_type": "execute_result",
          "data": {
            "text/plain": [
              "0.6857142857142857"
            ]
          },
          "metadata": {},
          "execution_count": 2
        }
      ]
    },
    {
      "cell_type": "code",
      "source": [
        "JSON(JavaScript Object Notation)\n",
        "최소제곱법\n",
        "박스콕스(box cox)\n",
        "차원축소(Dimensionality Reduction)\n",
        "자기조직화지도(Self-Organizing Map, SOM)\n",
        "정규성\n",
        "서포트 벡터 머신(Support Vector Machine, SVM)\n",
        "드롭아웃(dropout)\n",
        "스쿱\n",
        "f1스코어 계산 -> 0.686"
      ],
      "metadata": {
        "id": "4Ky-1a5zX91h"
      },
      "execution_count": null,
      "outputs": []
    },
    {
      "cell_type": "code",
      "source": [
        "!git clone https://github.com/Soyoung-Yoon/bigdata"
      ],
      "metadata": {
        "id": "SqK7UuUrWqfP"
      },
      "execution_count": null,
      "outputs": []
    },
    {
      "cell_type": "markdown",
      "source": [
        "## 2.기출문제 (빅분기 실기 4회)"
      ],
      "metadata": {
        "id": "9wr6snMrGMHo"
      }
    },
    {
      "cell_type": "markdown",
      "metadata": {
        "id": "XmsDHqDFBzM3"
      },
      "source": [
        "#### 2-1. 신상 데이터\n",
        "age 컬럼에 대해 아래의 과정을 수행하고 (다) 단계의 결과값을 출력하여라.\n",
        "- (가) 제 1사분위수와 제 3사분위수를 구하기\n",
        "- (나) 두 값의 차이 절댓값 구하기\n",
        "- (다) 그 값의 소수점 버리기"
      ]
    },
    {
      "cell_type": "code",
      "source": [
        "# 'https://raw.githubusercontent.com/Soyoung-Yoon/bigdata/main/basic1_data04.csv'  파일 사용"
      ],
      "metadata": {
        "id": "ttr2QTVbvRMC"
      },
      "execution_count": null,
      "outputs": []
    },
    {
      "cell_type": "code",
      "metadata": {
        "colab": {
          "base_uri": "https://localhost:8080/"
        },
        "id": "s320bd-r95fx",
        "outputId": "e087abde-7607-483e-a2fb-f88931ac5c95"
      },
      "source": [
        "import pandas as pd\n",
        "\n",
        "df = pd.read_csv('bigdata/basic1_data04.csv')\n",
        "#print(df.head(2))\n",
        "\n",
        "# 1사분위수, 3사분위수 구하기\n",
        "Q1, Q3 = df['age'].quantile([0.25, 0.75])\n",
        "\n",
        "# 3사분위수 - 1사분위수해서 절대값을 구하고, 정수로 변환하기\n",
        "result = int(abs(Q3 - Q1))\n",
        "\n",
        "# 결과 출력하기\n",
        "print(result)"
      ],
      "execution_count": null,
      "outputs": [
        {
          "output_type": "stream",
          "name": "stdout",
          "text": [
            "50\n"
          ]
        }
      ]
    },
    {
      "cell_type": "code",
      "metadata": {
        "id": "VXE93_QTB4ZQ"
      },
      "source": [
        "# 정답 : 50"
      ],
      "execution_count": null,
      "outputs": []
    },
    {
      "cell_type": "markdown",
      "metadata": {
        "id": "Uv_3WUzRCFV0"
      },
      "source": [
        "#### 2-2. Facebook 데이터\n",
        "\n",
        "Facebook 데이터셋을 불러와 (loves반응 + wows반응)/(reactions반응) 비율이 0.4보다 크고 0.5보다 작으면서, type이 'video'인 데이터의 갯수를 구하여라\n",
        "- 'https://raw.githubusercontent.com/Soyoung-Yoon/bigdata/main/fb_data04.csv' 파일 사용"
      ]
    },
    {
      "cell_type": "code",
      "source": [
        "import pandas as pd\n",
        "df = pd.read_csv(\"https://raw.githubusercontent.com/Soyoung-Yoon/bigdata/main/fb_data04.csv\")\n",
        "df.head(2)"
      ],
      "metadata": {
        "colab": {
          "base_uri": "https://localhost:8080/",
          "height": 112
        },
        "id": "FLkE8PWuwV-I",
        "outputId": "a85263ae-7ef9-487d-fcbe-004caffd62b7"
      },
      "execution_count": null,
      "outputs": [
        {
          "output_type": "execute_result",
          "data": {
            "text/plain": [
              "   id   type  reactions  comments  shares  likes  loves  wows  hahas  sads  \\\n",
              "0   1  video        529       512     262    432     92     3      1     1   \n",
              "1   2  photo        150         0       0    150      0     0      0     0   \n",
              "\n",
              "   angrys  \n",
              "0       0  \n",
              "1       0  "
            ],
            "text/html": [
              "\n",
              "  <div id=\"df-b8a71e6e-d41e-4b44-a397-0f8ab647ae21\">\n",
              "    <div class=\"colab-df-container\">\n",
              "      <div>\n",
              "<style scoped>\n",
              "    .dataframe tbody tr th:only-of-type {\n",
              "        vertical-align: middle;\n",
              "    }\n",
              "\n",
              "    .dataframe tbody tr th {\n",
              "        vertical-align: top;\n",
              "    }\n",
              "\n",
              "    .dataframe thead th {\n",
              "        text-align: right;\n",
              "    }\n",
              "</style>\n",
              "<table border=\"1\" class=\"dataframe\">\n",
              "  <thead>\n",
              "    <tr style=\"text-align: right;\">\n",
              "      <th></th>\n",
              "      <th>id</th>\n",
              "      <th>type</th>\n",
              "      <th>reactions</th>\n",
              "      <th>comments</th>\n",
              "      <th>shares</th>\n",
              "      <th>likes</th>\n",
              "      <th>loves</th>\n",
              "      <th>wows</th>\n",
              "      <th>hahas</th>\n",
              "      <th>sads</th>\n",
              "      <th>angrys</th>\n",
              "    </tr>\n",
              "  </thead>\n",
              "  <tbody>\n",
              "    <tr>\n",
              "      <th>0</th>\n",
              "      <td>1</td>\n",
              "      <td>video</td>\n",
              "      <td>529</td>\n",
              "      <td>512</td>\n",
              "      <td>262</td>\n",
              "      <td>432</td>\n",
              "      <td>92</td>\n",
              "      <td>3</td>\n",
              "      <td>1</td>\n",
              "      <td>1</td>\n",
              "      <td>0</td>\n",
              "    </tr>\n",
              "    <tr>\n",
              "      <th>1</th>\n",
              "      <td>2</td>\n",
              "      <td>photo</td>\n",
              "      <td>150</td>\n",
              "      <td>0</td>\n",
              "      <td>0</td>\n",
              "      <td>150</td>\n",
              "      <td>0</td>\n",
              "      <td>0</td>\n",
              "      <td>0</td>\n",
              "      <td>0</td>\n",
              "      <td>0</td>\n",
              "    </tr>\n",
              "  </tbody>\n",
              "</table>\n",
              "</div>\n",
              "      <button class=\"colab-df-convert\" onclick=\"convertToInteractive('df-b8a71e6e-d41e-4b44-a397-0f8ab647ae21')\"\n",
              "              title=\"Convert this dataframe to an interactive table.\"\n",
              "              style=\"display:none;\">\n",
              "        \n",
              "  <svg xmlns=\"http://www.w3.org/2000/svg\" height=\"24px\"viewBox=\"0 0 24 24\"\n",
              "       width=\"24px\">\n",
              "    <path d=\"M0 0h24v24H0V0z\" fill=\"none\"/>\n",
              "    <path d=\"M18.56 5.44l.94 2.06.94-2.06 2.06-.94-2.06-.94-.94-2.06-.94 2.06-2.06.94zm-11 1L8.5 8.5l.94-2.06 2.06-.94-2.06-.94L8.5 2.5l-.94 2.06-2.06.94zm10 10l.94 2.06.94-2.06 2.06-.94-2.06-.94-.94-2.06-.94 2.06-2.06.94z\"/><path d=\"M17.41 7.96l-1.37-1.37c-.4-.4-.92-.59-1.43-.59-.52 0-1.04.2-1.43.59L10.3 9.45l-7.72 7.72c-.78.78-.78 2.05 0 2.83L4 21.41c.39.39.9.59 1.41.59.51 0 1.02-.2 1.41-.59l7.78-7.78 2.81-2.81c.8-.78.8-2.07 0-2.86zM5.41 20L4 18.59l7.72-7.72 1.47 1.35L5.41 20z\"/>\n",
              "  </svg>\n",
              "      </button>\n",
              "      \n",
              "  <style>\n",
              "    .colab-df-container {\n",
              "      display:flex;\n",
              "      flex-wrap:wrap;\n",
              "      gap: 12px;\n",
              "    }\n",
              "\n",
              "    .colab-df-convert {\n",
              "      background-color: #E8F0FE;\n",
              "      border: none;\n",
              "      border-radius: 50%;\n",
              "      cursor: pointer;\n",
              "      display: none;\n",
              "      fill: #1967D2;\n",
              "      height: 32px;\n",
              "      padding: 0 0 0 0;\n",
              "      width: 32px;\n",
              "    }\n",
              "\n",
              "    .colab-df-convert:hover {\n",
              "      background-color: #E2EBFA;\n",
              "      box-shadow: 0px 1px 2px rgba(60, 64, 67, 0.3), 0px 1px 3px 1px rgba(60, 64, 67, 0.15);\n",
              "      fill: #174EA6;\n",
              "    }\n",
              "\n",
              "    [theme=dark] .colab-df-convert {\n",
              "      background-color: #3B4455;\n",
              "      fill: #D2E3FC;\n",
              "    }\n",
              "\n",
              "    [theme=dark] .colab-df-convert:hover {\n",
              "      background-color: #434B5C;\n",
              "      box-shadow: 0px 1px 3px 1px rgba(0, 0, 0, 0.15);\n",
              "      filter: drop-shadow(0px 1px 2px rgba(0, 0, 0, 0.3));\n",
              "      fill: #FFFFFF;\n",
              "    }\n",
              "  </style>\n",
              "\n",
              "      <script>\n",
              "        const buttonEl =\n",
              "          document.querySelector('#df-b8a71e6e-d41e-4b44-a397-0f8ab647ae21 button.colab-df-convert');\n",
              "        buttonEl.style.display =\n",
              "          google.colab.kernel.accessAllowed ? 'block' : 'none';\n",
              "\n",
              "        async function convertToInteractive(key) {\n",
              "          const element = document.querySelector('#df-b8a71e6e-d41e-4b44-a397-0f8ab647ae21');\n",
              "          const dataTable =\n",
              "            await google.colab.kernel.invokeFunction('convertToInteractive',\n",
              "                                                     [key], {});\n",
              "          if (!dataTable) return;\n",
              "\n",
              "          const docLinkHtml = 'Like what you see? Visit the ' +\n",
              "            '<a target=\"_blank\" href=https://colab.research.google.com/notebooks/data_table.ipynb>data table notebook</a>'\n",
              "            + ' to learn more about interactive tables.';\n",
              "          element.innerHTML = '';\n",
              "          dataTable['output_type'] = 'display_data';\n",
              "          await google.colab.output.renderOutput(dataTable, element);\n",
              "          const docLink = document.createElement('div');\n",
              "          docLink.innerHTML = docLinkHtml;\n",
              "          element.appendChild(docLink);\n",
              "        }\n",
              "      </script>\n",
              "    </div>\n",
              "  </div>\n",
              "  "
            ]
          },
          "metadata": {},
          "execution_count": 5
        }
      ]
    },
    {
      "cell_type": "code",
      "metadata": {
        "id": "R8YT1sic_-XA",
        "colab": {
          "base_uri": "https://localhost:8080/"
        },
        "outputId": "f7838671-6ebc-47eb-e690-a7afb428781f"
      },
      "source": [
        "import pandas as pd\n",
        "df = pd.read_csv(\"https://raw.githubusercontent.com/Soyoung-Yoon/bigdata/main/fb_data04.csv\")\n",
        "\n",
        "# (loves반응 + wows반응)/(reactions반응) 구하기\n",
        "rate = (df['loves'] + df['wows'])/ df['reactions']\n",
        "\n",
        "# 비율이 0.4보다 크고 0.5보다 작으면서 type이 'video' 인 데이터 개수구하기\n",
        "cond1 = rate > 0.4\n",
        "cond2 = rate < 0.5\n",
        "cond3 = df['type'] == 'video'\n",
        "result = len(df[cond1 & cond2 & cond3])\n",
        "\n",
        "# 결과 출력하기\n",
        "print(result)  "
      ],
      "execution_count": null,
      "outputs": [
        {
          "output_type": "stream",
          "name": "stdout",
          "text": [
            "90\n"
          ]
        }
      ]
    },
    {
      "cell_type": "markdown",
      "metadata": {
        "id": "s0Iohr2QC6As"
      },
      "source": [
        "#### 2-3. 넷플릭스 데이터 \n",
        "netflix_subset 데이터셋에서 date_added가 2018년 1월이면서 country가 United Kingdom 단독 제작인 데이터의 개수를 구하여라"
      ]
    },
    {
      "cell_type": "code",
      "metadata": {
        "id": "II4-4rISf1Ys"
      },
      "source": [
        "'https://raw.githubusercontent.com/Soyoung-Yoon/bigdata/main/nf_data04.csv'"
      ],
      "execution_count": null,
      "outputs": []
    },
    {
      "cell_type": "code",
      "source": [
        "import pandas as pd\n",
        "df = pd.read_csv(\"https://raw.githubusercontent.com/Soyoung-Yoon/bigdata/main/nf_data04.csv\")\n",
        "\n",
        "# 'date_added'의 결측치를 \"\" 으로 채우기\n",
        "df['date_added'] = df['date_added'].fillna(\"\")\n",
        "\n",
        "# country가 'United Kingdom' 인 것에 대한 조건 작성\n",
        "cond1 = df['country'] == \"United Kingdom\"\n",
        "\n",
        "# date_added에 2018, january가 들어 있는 것에 대한 조건 작성\n",
        "cond2 = df['date_added'].str.contains(\"2018\")\n",
        "cond3 = df['date_added'].str.contains(\"January\")\n",
        "result = len(df[cond1 & cond2 & cond3])\n",
        "print(result)"
      ],
      "metadata": {
        "colab": {
          "base_uri": "https://localhost:8080/"
        },
        "id": "n5JE8DpYww4i",
        "outputId": "06a90c21-1358-4ba2-8e31-0b357ac858c0"
      },
      "execution_count": null,
      "outputs": [
        {
          "output_type": "stream",
          "name": "stdout",
          "text": [
            "6\n"
          ]
        }
      ]
    },
    {
      "cell_type": "code",
      "source": [
        "cond1 = df['country'] == \"United Kingdom\"\n",
        "\n",
        "# 날짜시간 타입으로 변경하여 작성\n",
        "df['date_added'] = df['date_added'].astype('datetime64')\n",
        "cond2 = df['date_added'] >= '2018-01-01'\n",
        "cond3 = df['date_added'] <= '2018-01-31'\n",
        "\n",
        "result = len(df[cond1 & cond2 & cond3])\n",
        "print(result)"
      ],
      "metadata": {
        "id": "1RhfbGWnWU17",
        "colab": {
          "base_uri": "https://localhost:8080/"
        },
        "outputId": "2dcaa1fe-b897-4de2-f958-a5290a9e84a5"
      },
      "execution_count": null,
      "outputs": [
        {
          "output_type": "stream",
          "name": "stdout",
          "text": [
            "6\n"
          ]
        }
      ]
    },
    {
      "cell_type": "code",
      "source": [
        "cond1 = df['country'] == \"United Kingdom\"\n",
        "# 위의 astype() 사용과 결과는 같음\n",
        "df['date_added'] = pd.to_datetime(df['date_added'])   \n",
        "\n",
        "cond2 = df['date_added'].between('2018-1-1', '2018-1-31')\n",
        "result = len(df[cond1 & cond2])\n",
        "print(result)"
      ],
      "metadata": {
        "id": "O1VXOhXcXo4R",
        "colab": {
          "base_uri": "https://localhost:8080/"
        },
        "outputId": "26784365-f260-4c61-df4a-5a39a434fc1f"
      },
      "execution_count": null,
      "outputs": [
        {
          "output_type": "stream",
          "name": "stdout",
          "text": [
            "6\n"
          ]
        }
      ]
    },
    {
      "cell_type": "markdown",
      "metadata": {
        "id": "SxegKonKDHPJ"
      },
      "source": [
        "## 3.기출문제 (빅분기 실기 4회)\n",
        "자동차 시장 세분화\n",
        "- 자동차 회사는 새로운 전략을 수립하기 위해 4개의 시장으로 세분화했습니다.\n",
        "- 기존 고객 분류 자료를 바탕으로 신규 고객이 어떤 분류에 속할지 예측해주세요!\n",
        "- 예측할 값(y): \"Segmentation\" (1,2,3,4)\n",
        "- 평가: Macro f1-score\n",
        "- 제출형식\n",
        "\n",
        "        ID,Segmentation\n",
        "        458989,1\n",
        "        458994,2\n",
        "        459000,3\n",
        "        459003,4"
      ]
    },
    {
      "cell_type": "markdown",
      "source": [
        "- 다음의 데이터 파일 준비를 실행해서 x_train.csv, y_train.csv, x_test.csv 파일을 준비합니다.\n"
      ],
      "metadata": {
        "id": "XegtsURWg8XJ"
      }
    },
    {
      "cell_type": "markdown",
      "metadata": {
        "id": "NCqn_6zOtyXi"
      },
      "source": [
        "### 3-01.데이터 불러오기, 탐색"
      ]
    },
    {
      "cell_type": "code",
      "source": [
        "# 데이터 파일 준비\n",
        "# 그냥 실행해서 사용 파일을 생성하도록 합니다.\n",
        "import pandas as pd\n",
        "\n",
        "train = pd.read_csv('https://raw.githubusercontent.com/Soyoung-Yoon/bigdata/main/train_04.csv')\n",
        "test = pd.read_csv('https://raw.githubusercontent.com/Soyoung-Yoon/bigdata/main/test_04.csv')\n",
        "train.head(2)\n",
        "X_train = train.iloc[:, :-1]\n",
        "Y_train = train[['ID', 'Segmentation']]\n",
        "X_train.to_csv('X_train.csv', index=False)\n",
        "Y_train.to_csv('Y_train.csv', index=False)\n",
        "test.to_csv('X_test.csv', index=False)\n",
        "print('파일을 준비했습니다!  X_train.csv, Y_train.csv, X_test.csv !')"
      ],
      "metadata": {
        "id": "Kbwq4Xf2WiZf",
        "colab": {
          "base_uri": "https://localhost:8080/"
        },
        "outputId": "75c94264-be6e-477d-c25d-a55174dffe95"
      },
      "execution_count": null,
      "outputs": [
        {
          "output_type": "stream",
          "name": "stdout",
          "text": [
            "파일을 준비했습니다!  X_train.csv, Y_train.csv, X_test.csv !\n"
          ]
        }
      ]
    },
    {
      "cell_type": "code",
      "metadata": {
        "id": "ljn7qAfH8uw2"
      },
      "source": [
        "# [0] 사용 라이브러리 import\n",
        "import pandas as pd\n",
        "\n",
        "# 데이타가 많은경우 모두 출력 안되고 ... 으로 생략해서 출력됨.\n",
        "pd.set_option('display.max_rows',500)    #출력할 max row를 지정\n",
        "pd.set_option('display.max_columns',20)  #출력할 max columns를 지정\n",
        "#출력 format 지정 - 소수점아래 4자리까지\n",
        "pd.set_option('display.float_format', '{:.2f}'.format)"
      ],
      "execution_count": null,
      "outputs": []
    },
    {
      "cell_type": "code",
      "source": [
        "# [1] x_train.csv, y_train.csv, x_test.csv 읽어오기\n",
        "X = pd.read_csv('X_train.csv')\n",
        "Y = pd.read_csv('Y_train.csv')\n",
        "X_submission = pd.read_csv('X_test.csv')\n",
        "print(X.shape, Y.shape, X_submission.shape)"
      ],
      "metadata": {
        "id": "mNl3dB0VmMxo",
        "colab": {
          "base_uri": "https://localhost:8080/"
        },
        "outputId": "935dbcdc-294a-4406-ced1-38f2a78e71a9"
      },
      "execution_count": null,
      "outputs": [
        {
          "output_type": "stream",
          "name": "stdout",
          "text": [
            "(6665, 10) (6665, 2) (2154, 10)\n"
          ]
        }
      ]
    },
    {
      "cell_type": "code",
      "source": [
        "# [2] 전처리를 위해 X, X_submission 합치기 (필수는 아님)\n",
        "dfX = pd.concat([X, X_submission])\n",
        "dfX.head(3)"
      ],
      "metadata": {
        "colab": {
          "base_uri": "https://localhost:8080/",
          "height": 143
        },
        "id": "ydWnRpW6l8cL",
        "outputId": "9a4e6184-040e-44e5-d148-8a5e93f202cb"
      },
      "execution_count": null,
      "outputs": [
        {
          "output_type": "execute_result",
          "data": {
            "text/plain": [
              "       ID  Gender Ever_Married  Age Graduated  Profession  Work_Experience  \\\n",
              "0  462809    Male           No   22        No  Healthcare             1.00   \n",
              "1  466315  Female          Yes   67       Yes    Engineer             1.00   \n",
              "2  461735    Male          Yes   67       Yes      Lawyer             0.00   \n",
              "\n",
              "  Spending_Score  Family_Size  Var_1  \n",
              "0            Low         4.00  Cat_4  \n",
              "1            Low         1.00  Cat_6  \n",
              "2           High         2.00  Cat_6  "
            ],
            "text/html": [
              "\n",
              "  <div id=\"df-78d83d13-b767-40cb-a470-f7de3548f877\">\n",
              "    <div class=\"colab-df-container\">\n",
              "      <div>\n",
              "<style scoped>\n",
              "    .dataframe tbody tr th:only-of-type {\n",
              "        vertical-align: middle;\n",
              "    }\n",
              "\n",
              "    .dataframe tbody tr th {\n",
              "        vertical-align: top;\n",
              "    }\n",
              "\n",
              "    .dataframe thead th {\n",
              "        text-align: right;\n",
              "    }\n",
              "</style>\n",
              "<table border=\"1\" class=\"dataframe\">\n",
              "  <thead>\n",
              "    <tr style=\"text-align: right;\">\n",
              "      <th></th>\n",
              "      <th>ID</th>\n",
              "      <th>Gender</th>\n",
              "      <th>Ever_Married</th>\n",
              "      <th>Age</th>\n",
              "      <th>Graduated</th>\n",
              "      <th>Profession</th>\n",
              "      <th>Work_Experience</th>\n",
              "      <th>Spending_Score</th>\n",
              "      <th>Family_Size</th>\n",
              "      <th>Var_1</th>\n",
              "    </tr>\n",
              "  </thead>\n",
              "  <tbody>\n",
              "    <tr>\n",
              "      <th>0</th>\n",
              "      <td>462809</td>\n",
              "      <td>Male</td>\n",
              "      <td>No</td>\n",
              "      <td>22</td>\n",
              "      <td>No</td>\n",
              "      <td>Healthcare</td>\n",
              "      <td>1.00</td>\n",
              "      <td>Low</td>\n",
              "      <td>4.00</td>\n",
              "      <td>Cat_4</td>\n",
              "    </tr>\n",
              "    <tr>\n",
              "      <th>1</th>\n",
              "      <td>466315</td>\n",
              "      <td>Female</td>\n",
              "      <td>Yes</td>\n",
              "      <td>67</td>\n",
              "      <td>Yes</td>\n",
              "      <td>Engineer</td>\n",
              "      <td>1.00</td>\n",
              "      <td>Low</td>\n",
              "      <td>1.00</td>\n",
              "      <td>Cat_6</td>\n",
              "    </tr>\n",
              "    <tr>\n",
              "      <th>2</th>\n",
              "      <td>461735</td>\n",
              "      <td>Male</td>\n",
              "      <td>Yes</td>\n",
              "      <td>67</td>\n",
              "      <td>Yes</td>\n",
              "      <td>Lawyer</td>\n",
              "      <td>0.00</td>\n",
              "      <td>High</td>\n",
              "      <td>2.00</td>\n",
              "      <td>Cat_6</td>\n",
              "    </tr>\n",
              "  </tbody>\n",
              "</table>\n",
              "</div>\n",
              "      <button class=\"colab-df-convert\" onclick=\"convertToInteractive('df-78d83d13-b767-40cb-a470-f7de3548f877')\"\n",
              "              title=\"Convert this dataframe to an interactive table.\"\n",
              "              style=\"display:none;\">\n",
              "        \n",
              "  <svg xmlns=\"http://www.w3.org/2000/svg\" height=\"24px\"viewBox=\"0 0 24 24\"\n",
              "       width=\"24px\">\n",
              "    <path d=\"M0 0h24v24H0V0z\" fill=\"none\"/>\n",
              "    <path d=\"M18.56 5.44l.94 2.06.94-2.06 2.06-.94-2.06-.94-.94-2.06-.94 2.06-2.06.94zm-11 1L8.5 8.5l.94-2.06 2.06-.94-2.06-.94L8.5 2.5l-.94 2.06-2.06.94zm10 10l.94 2.06.94-2.06 2.06-.94-2.06-.94-.94-2.06-.94 2.06-2.06.94z\"/><path d=\"M17.41 7.96l-1.37-1.37c-.4-.4-.92-.59-1.43-.59-.52 0-1.04.2-1.43.59L10.3 9.45l-7.72 7.72c-.78.78-.78 2.05 0 2.83L4 21.41c.39.39.9.59 1.41.59.51 0 1.02-.2 1.41-.59l7.78-7.78 2.81-2.81c.8-.78.8-2.07 0-2.86zM5.41 20L4 18.59l7.72-7.72 1.47 1.35L5.41 20z\"/>\n",
              "  </svg>\n",
              "      </button>\n",
              "      \n",
              "  <style>\n",
              "    .colab-df-container {\n",
              "      display:flex;\n",
              "      flex-wrap:wrap;\n",
              "      gap: 12px;\n",
              "    }\n",
              "\n",
              "    .colab-df-convert {\n",
              "      background-color: #E8F0FE;\n",
              "      border: none;\n",
              "      border-radius: 50%;\n",
              "      cursor: pointer;\n",
              "      display: none;\n",
              "      fill: #1967D2;\n",
              "      height: 32px;\n",
              "      padding: 0 0 0 0;\n",
              "      width: 32px;\n",
              "    }\n",
              "\n",
              "    .colab-df-convert:hover {\n",
              "      background-color: #E2EBFA;\n",
              "      box-shadow: 0px 1px 2px rgba(60, 64, 67, 0.3), 0px 1px 3px 1px rgba(60, 64, 67, 0.15);\n",
              "      fill: #174EA6;\n",
              "    }\n",
              "\n",
              "    [theme=dark] .colab-df-convert {\n",
              "      background-color: #3B4455;\n",
              "      fill: #D2E3FC;\n",
              "    }\n",
              "\n",
              "    [theme=dark] .colab-df-convert:hover {\n",
              "      background-color: #434B5C;\n",
              "      box-shadow: 0px 1px 3px 1px rgba(0, 0, 0, 0.15);\n",
              "      filter: drop-shadow(0px 1px 2px rgba(0, 0, 0, 0.3));\n",
              "      fill: #FFFFFF;\n",
              "    }\n",
              "  </style>\n",
              "\n",
              "      <script>\n",
              "        const buttonEl =\n",
              "          document.querySelector('#df-78d83d13-b767-40cb-a470-f7de3548f877 button.colab-df-convert');\n",
              "        buttonEl.style.display =\n",
              "          google.colab.kernel.accessAllowed ? 'block' : 'none';\n",
              "\n",
              "        async function convertToInteractive(key) {\n",
              "          const element = document.querySelector('#df-78d83d13-b767-40cb-a470-f7de3548f877');\n",
              "          const dataTable =\n",
              "            await google.colab.kernel.invokeFunction('convertToInteractive',\n",
              "                                                     [key], {});\n",
              "          if (!dataTable) return;\n",
              "\n",
              "          const docLinkHtml = 'Like what you see? Visit the ' +\n",
              "            '<a target=\"_blank\" href=https://colab.research.google.com/notebooks/data_table.ipynb>data table notebook</a>'\n",
              "            + ' to learn more about interactive tables.';\n",
              "          element.innerHTML = '';\n",
              "          dataTable['output_type'] = 'display_data';\n",
              "          await google.colab.output.renderOutput(dataTable, element);\n",
              "          const docLink = document.createElement('div');\n",
              "          docLink.innerHTML = docLinkHtml;\n",
              "          element.appendChild(docLink);\n",
              "        }\n",
              "      </script>\n",
              "    </div>\n",
              "  </div>\n",
              "  "
            ]
          },
          "metadata": {},
          "execution_count": 5
        }
      ]
    },
    {
      "cell_type": "code",
      "metadata": {
        "colab": {
          "base_uri": "https://localhost:8080/"
        },
        "id": "n-tV1hmplAmu",
        "outputId": "dcd55927-3755-46fc-be19-85e8ebc04874"
      },
      "source": [
        "# [3] df의 정보 확인 \n",
        "dfX.info()"
      ],
      "execution_count": null,
      "outputs": [
        {
          "output_type": "stream",
          "name": "stdout",
          "text": [
            "<class 'pandas.core.frame.DataFrame'>\n",
            "Int64Index: 8819 entries, 0 to 2153\n",
            "Data columns (total 10 columns):\n",
            " #   Column           Non-Null Count  Dtype  \n",
            "---  ------           --------------  -----  \n",
            " 0   ID               8819 non-null   int64  \n",
            " 1   Gender           8819 non-null   object \n",
            " 2   Ever_Married     8819 non-null   object \n",
            " 3   Age              8819 non-null   int64  \n",
            " 4   Graduated        8819 non-null   object \n",
            " 5   Profession       8819 non-null   object \n",
            " 6   Work_Experience  8819 non-null   float64\n",
            " 7   Spending_Score   8819 non-null   object \n",
            " 8   Family_Size      8819 non-null   float64\n",
            " 9   Var_1            8819 non-null   object \n",
            "dtypes: float64(2), int64(2), object(6)\n",
            "memory usage: 757.9+ KB\n"
          ]
        }
      ]
    },
    {
      "cell_type": "markdown",
      "metadata": {
        "id": "Mt9L_KDeFOOM"
      },
      "source": [
        "### 3-02.데이터 전처리"
      ]
    },
    {
      "cell_type": "code",
      "metadata": {
        "id": "es0cTIbJDsY_",
        "colab": {
          "base_uri": "https://localhost:8080/"
        },
        "outputId": "52031131-8682-45c3-8832-3e256cd0ebbf"
      },
      "source": [
        "# [4] 결측치 점검 - 결측치 없으므로 결측치 대체 처리 안해도 됨!!\n",
        "dfX.isna().sum()"
      ],
      "execution_count": null,
      "outputs": [
        {
          "output_type": "execute_result",
          "data": {
            "text/plain": [
              "ID                 0\n",
              "Gender             0\n",
              "Ever_Married       0\n",
              "Age                0\n",
              "Graduated          0\n",
              "Profession         0\n",
              "Work_Experience    0\n",
              "Spending_Score     0\n",
              "Family_Size        0\n",
              "Var_1              0\n",
              "dtype: int64"
            ]
          },
          "metadata": {},
          "execution_count": 7
        }
      ]
    },
    {
      "cell_type": "code",
      "source": [
        "# [5] 각컬럼별 고윳값 개수 확인 (1인 것이 있으면 제거, 가짓수가 적은 것들은 범주형)\n",
        "# 제거할 변수는 없음\n",
        "# Gender, Ever_Married, Graduated, Profession, Spending_Score, Var_1 등이 범주형으로 보임\n",
        "dfX.nunique()"
      ],
      "metadata": {
        "colab": {
          "base_uri": "https://localhost:8080/"
        },
        "id": "g1PmGITTmh4l",
        "outputId": "223af203-713d-4a11-e321-0d0dee8ab93d"
      },
      "execution_count": null,
      "outputs": [
        {
          "output_type": "execute_result",
          "data": {
            "text/plain": [
              "ID                 6916\n",
              "Gender                2\n",
              "Ever_Married          2\n",
              "Age                  67\n",
              "Graduated             2\n",
              "Profession            9\n",
              "Work_Experience      15\n",
              "Spending_Score        3\n",
              "Family_Size           9\n",
              "Var_1                 7\n",
              "dtype: int64"
            ]
          },
          "metadata": {},
          "execution_count": 8
        }
      ]
    },
    {
      "cell_type": "code",
      "metadata": {
        "colab": {
          "base_uri": "https://localhost:8080/"
        },
        "id": "goDwo_-2otpa",
        "outputId": "c20d4ff4-d20d-4965-ce46-65f502db17a9"
      },
      "source": [
        "# [6] Y 값의 분포 확인 - 범주별 분포가 비슷한지 차이가 큰지 확인 (범주별 균등한 것으로 보임)\n",
        "Y.info()\n",
        "Y['Segmentation'].value_counts(normalize=True).sort_index()"
      ],
      "execution_count": null,
      "outputs": [
        {
          "output_type": "stream",
          "name": "stdout",
          "text": [
            "<class 'pandas.core.frame.DataFrame'>\n",
            "RangeIndex: 6665 entries, 0 to 6664\n",
            "Data columns (total 2 columns):\n",
            " #   Column        Non-Null Count  Dtype\n",
            "---  ------        --------------  -----\n",
            " 0   ID            6665 non-null   int64\n",
            " 1   Segmentation  6665 non-null   int64\n",
            "dtypes: int64(2)\n",
            "memory usage: 104.3 KB\n"
          ]
        },
        {
          "output_type": "execute_result",
          "data": {
            "text/plain": [
              "1   0.24\n",
              "2   0.24\n",
              "3   0.26\n",
              "4   0.26\n",
              "Name: Segmentation, dtype: float64"
            ]
          },
          "metadata": {},
          "execution_count": 9
        }
      ]
    },
    {
      "cell_type": "code",
      "source": [
        "# [7] 범주형 데이터에 대해 Label Encoding\n",
        "features = ['Gender', 'Ever_Married', 'Graduated', 'Profession', 'Spending_Score', 'Var_1']\n",
        "for x in features:\n",
        "    dfX[x] = dfX[x].astype('category').cat.codes\n",
        "dfX.info()"
      ],
      "metadata": {
        "colab": {
          "base_uri": "https://localhost:8080/"
        },
        "id": "8ngBrIlVm1i2",
        "outputId": "4ffd6764-5ceb-465d-a664-733200ebd01b"
      },
      "execution_count": null,
      "outputs": [
        {
          "output_type": "stream",
          "name": "stdout",
          "text": [
            "<class 'pandas.core.frame.DataFrame'>\n",
            "Int64Index: 8819 entries, 0 to 2153\n",
            "Data columns (total 10 columns):\n",
            " #   Column           Non-Null Count  Dtype  \n",
            "---  ------           --------------  -----  \n",
            " 0   ID               8819 non-null   int64  \n",
            " 1   Gender           8819 non-null   int8   \n",
            " 2   Ever_Married     8819 non-null   int8   \n",
            " 3   Age              8819 non-null   int64  \n",
            " 4   Graduated        8819 non-null   int8   \n",
            " 5   Profession       8819 non-null   int8   \n",
            " 6   Work_Experience  8819 non-null   float64\n",
            " 7   Spending_Score   8819 non-null   int8   \n",
            " 8   Family_Size      8819 non-null   float64\n",
            " 9   Var_1            8819 non-null   int8   \n",
            "dtypes: float64(2), int64(2), int8(6)\n",
            "memory usage: 396.2 KB\n"
          ]
        }
      ]
    },
    {
      "cell_type": "code",
      "source": [
        "dfX.head(2)"
      ],
      "metadata": {
        "colab": {
          "base_uri": "https://localhost:8080/",
          "height": 112
        },
        "id": "XkRCyPcb1bNA",
        "outputId": "5d1ea841-ede8-45ac-82c4-1451caff2080"
      },
      "execution_count": null,
      "outputs": [
        {
          "output_type": "execute_result",
          "data": {
            "text/plain": [
              "       ID  Gender  Ever_Married  Age  Graduated  Profession  Work_Experience  \\\n",
              "0  462809       1             0   22          0           5             1.00   \n",
              "1  466315       0             1   67          1           2             1.00   \n",
              "\n",
              "   Spending_Score  Family_Size  Var_1  \n",
              "0               2         4.00      3  \n",
              "1               2         1.00      5  "
            ],
            "text/html": [
              "\n",
              "  <div id=\"df-d790c6ac-2628-48fc-a415-852c4b5d614c\">\n",
              "    <div class=\"colab-df-container\">\n",
              "      <div>\n",
              "<style scoped>\n",
              "    .dataframe tbody tr th:only-of-type {\n",
              "        vertical-align: middle;\n",
              "    }\n",
              "\n",
              "    .dataframe tbody tr th {\n",
              "        vertical-align: top;\n",
              "    }\n",
              "\n",
              "    .dataframe thead th {\n",
              "        text-align: right;\n",
              "    }\n",
              "</style>\n",
              "<table border=\"1\" class=\"dataframe\">\n",
              "  <thead>\n",
              "    <tr style=\"text-align: right;\">\n",
              "      <th></th>\n",
              "      <th>ID</th>\n",
              "      <th>Gender</th>\n",
              "      <th>Ever_Married</th>\n",
              "      <th>Age</th>\n",
              "      <th>Graduated</th>\n",
              "      <th>Profession</th>\n",
              "      <th>Work_Experience</th>\n",
              "      <th>Spending_Score</th>\n",
              "      <th>Family_Size</th>\n",
              "      <th>Var_1</th>\n",
              "    </tr>\n",
              "  </thead>\n",
              "  <tbody>\n",
              "    <tr>\n",
              "      <th>0</th>\n",
              "      <td>462809</td>\n",
              "      <td>1</td>\n",
              "      <td>0</td>\n",
              "      <td>22</td>\n",
              "      <td>0</td>\n",
              "      <td>5</td>\n",
              "      <td>1.00</td>\n",
              "      <td>2</td>\n",
              "      <td>4.00</td>\n",
              "      <td>3</td>\n",
              "    </tr>\n",
              "    <tr>\n",
              "      <th>1</th>\n",
              "      <td>466315</td>\n",
              "      <td>0</td>\n",
              "      <td>1</td>\n",
              "      <td>67</td>\n",
              "      <td>1</td>\n",
              "      <td>2</td>\n",
              "      <td>1.00</td>\n",
              "      <td>2</td>\n",
              "      <td>1.00</td>\n",
              "      <td>5</td>\n",
              "    </tr>\n",
              "  </tbody>\n",
              "</table>\n",
              "</div>\n",
              "      <button class=\"colab-df-convert\" onclick=\"convertToInteractive('df-d790c6ac-2628-48fc-a415-852c4b5d614c')\"\n",
              "              title=\"Convert this dataframe to an interactive table.\"\n",
              "              style=\"display:none;\">\n",
              "        \n",
              "  <svg xmlns=\"http://www.w3.org/2000/svg\" height=\"24px\"viewBox=\"0 0 24 24\"\n",
              "       width=\"24px\">\n",
              "    <path d=\"M0 0h24v24H0V0z\" fill=\"none\"/>\n",
              "    <path d=\"M18.56 5.44l.94 2.06.94-2.06 2.06-.94-2.06-.94-.94-2.06-.94 2.06-2.06.94zm-11 1L8.5 8.5l.94-2.06 2.06-.94-2.06-.94L8.5 2.5l-.94 2.06-2.06.94zm10 10l.94 2.06.94-2.06 2.06-.94-2.06-.94-.94-2.06-.94 2.06-2.06.94z\"/><path d=\"M17.41 7.96l-1.37-1.37c-.4-.4-.92-.59-1.43-.59-.52 0-1.04.2-1.43.59L10.3 9.45l-7.72 7.72c-.78.78-.78 2.05 0 2.83L4 21.41c.39.39.9.59 1.41.59.51 0 1.02-.2 1.41-.59l7.78-7.78 2.81-2.81c.8-.78.8-2.07 0-2.86zM5.41 20L4 18.59l7.72-7.72 1.47 1.35L5.41 20z\"/>\n",
              "  </svg>\n",
              "      </button>\n",
              "      \n",
              "  <style>\n",
              "    .colab-df-container {\n",
              "      display:flex;\n",
              "      flex-wrap:wrap;\n",
              "      gap: 12px;\n",
              "    }\n",
              "\n",
              "    .colab-df-convert {\n",
              "      background-color: #E8F0FE;\n",
              "      border: none;\n",
              "      border-radius: 50%;\n",
              "      cursor: pointer;\n",
              "      display: none;\n",
              "      fill: #1967D2;\n",
              "      height: 32px;\n",
              "      padding: 0 0 0 0;\n",
              "      width: 32px;\n",
              "    }\n",
              "\n",
              "    .colab-df-convert:hover {\n",
              "      background-color: #E2EBFA;\n",
              "      box-shadow: 0px 1px 2px rgba(60, 64, 67, 0.3), 0px 1px 3px 1px rgba(60, 64, 67, 0.15);\n",
              "      fill: #174EA6;\n",
              "    }\n",
              "\n",
              "    [theme=dark] .colab-df-convert {\n",
              "      background-color: #3B4455;\n",
              "      fill: #D2E3FC;\n",
              "    }\n",
              "\n",
              "    [theme=dark] .colab-df-convert:hover {\n",
              "      background-color: #434B5C;\n",
              "      box-shadow: 0px 1px 3px 1px rgba(0, 0, 0, 0.15);\n",
              "      filter: drop-shadow(0px 1px 2px rgba(0, 0, 0, 0.3));\n",
              "      fill: #FFFFFF;\n",
              "    }\n",
              "  </style>\n",
              "\n",
              "      <script>\n",
              "        const buttonEl =\n",
              "          document.querySelector('#df-d790c6ac-2628-48fc-a415-852c4b5d614c button.colab-df-convert');\n",
              "        buttonEl.style.display =\n",
              "          google.colab.kernel.accessAllowed ? 'block' : 'none';\n",
              "\n",
              "        async function convertToInteractive(key) {\n",
              "          const element = document.querySelector('#df-d790c6ac-2628-48fc-a415-852c4b5d614c');\n",
              "          const dataTable =\n",
              "            await google.colab.kernel.invokeFunction('convertToInteractive',\n",
              "                                                     [key], {});\n",
              "          if (!dataTable) return;\n",
              "\n",
              "          const docLinkHtml = 'Like what you see? Visit the ' +\n",
              "            '<a target=\"_blank\" href=https://colab.research.google.com/notebooks/data_table.ipynb>data table notebook</a>'\n",
              "            + ' to learn more about interactive tables.';\n",
              "          element.innerHTML = '';\n",
              "          dataTable['output_type'] = 'display_data';\n",
              "          await google.colab.output.renderOutput(dataTable, element);\n",
              "          const docLink = document.createElement('div');\n",
              "          docLink.innerHTML = docLinkHtml;\n",
              "          element.appendChild(docLink);\n",
              "        }\n",
              "      </script>\n",
              "    </div>\n",
              "  </div>\n",
              "  "
            ]
          },
          "metadata": {},
          "execution_count": 78
        }
      ]
    },
    {
      "cell_type": "markdown",
      "metadata": {
        "id": "KNK2VSccFDdO"
      },
      "source": [
        "### 3-03.데이터 분리, 모델 생성 및 학습"
      ]
    },
    {
      "cell_type": "code",
      "metadata": {
        "id": "45EAUtzzQu8j"
      },
      "source": [
        "# [8] 사용할 도구 import\n",
        "from sklearn.preprocessing import MinMaxScaler\n",
        "from sklearn.model_selection import train_test_split\n",
        "from sklearn.linear_model import LogisticRegression\n",
        "from sklearn.neighbors import KNeighborsClassifier\n",
        "from sklearn.tree import DecisionTreeClassifier\n",
        "from sklearn.ensemble import RandomForestClassifier\n",
        "from xgboost import XGBClassifier\n",
        "from lightgbm import LGBMClassifier"
      ],
      "execution_count": null,
      "outputs": []
    },
    {
      "cell_type": "code",
      "source": [
        "# [9] train score, test score, roc_auc_score 를 반환하는 함수 작성\n",
        "from sklearn.metrics import f1_score\n",
        "def get_scores(model, xtrain, xtest, ytrain, ytest):\n",
        "    A = model.score(xtrain, ytrain)\n",
        "    B = model.score(xtest, ytest)\n",
        "    ypred = model.predict(xtest)\n",
        "    C = f1_score(ytest, ypred, average='macro')  # f1_score with macro\n",
        "    return '{:.4f} {:.4f} {:.4f}'.format(A, B, C)"
      ],
      "metadata": {
        "id": "GGGYNnHbLKbo"
      },
      "execution_count": null,
      "outputs": []
    },
    {
      "cell_type": "code",
      "source": [
        "# [10] 다양한 모델을 만들고 성능을 출력하는 함수 작성\n",
        "def make_models(xtrain, xtest, ytrain, ytest):\n",
        "    model1 = LogisticRegression().fit(xtrain, ytrain)\n",
        "    print('model1', get_scores(model1, xtrain, xtest, ytrain, ytest))\n",
        "    for k in range(1, 10):\n",
        "        model2 = KNeighborsClassifier(k).fit(xtrain, ytrain)\n",
        "        print('model2', k, get_scores(model2, xtrain, xtest, ytrain, ytest))\n",
        "\n",
        "    # overfitting\n",
        "    model3 = DecisionTreeClassifier(random_state=0).fit(xtrain, ytrain)\n",
        "    print('model3', get_scores(model3, xtrain, xtest, ytrain, ytest))\n",
        "\n",
        "    # overfitting 해결\n",
        "    for d in range(3, 8):\n",
        "        model3 = DecisionTreeClassifier(max_depth=d,random_state=0).fit(xtrain, ytrain)\n",
        "        print('model3', d, get_scores(model3, xtrain, xtest, ytrain, ytest))\n",
        "\n",
        "    # overfitting\n",
        "    model4 = RandomForestClassifier(random_state=0).fit(xtrain, ytrain)\n",
        "    print('model4', get_scores(model4, xtrain, xtest, ytrain, ytest))\n",
        "\n",
        "    # overfitting 해결\n",
        "    for d in range(3, 8):\n",
        "        model4 = RandomForestClassifier(500, max_depth=d, random_state=0).fit(xtrain, ytrain)\n",
        "        print('model4', d, get_scores(model4, xtrain, xtest, ytrain, ytest))\n",
        "\n",
        "    model5 = XGBClassifier(random_state=0).fit(xtrain, ytrain)\n",
        "    print('model5', get_scores(model5, xtrain, xtest, ytrain, ytest))"
      ],
      "metadata": {
        "id": "QxCEEMWhUilz"
      },
      "execution_count": null,
      "outputs": []
    },
    {
      "cell_type": "code",
      "source": [
        "X.shape"
      ],
      "metadata": {
        "colab": {
          "base_uri": "https://localhost:8080/"
        },
        "id": "szV2XliJ2_7g",
        "outputId": "50fec85f-2520-49b0-b0ea-cbc62116a79b"
      },
      "execution_count": null,
      "outputs": [
        {
          "output_type": "execute_result",
          "data": {
            "text/plain": [
              "(6665, 10)"
            ]
          },
          "metadata": {},
          "execution_count": 65
        }
      ]
    },
    {
      "cell_type": "code",
      "source": [
        "# [11] X를 train 용도, submission 용도로 나누고, Y를 1차원으로 바꿈 (MinMaxScaler 적용)\n",
        "def get_data(dfX, Y):\n",
        "    X = dfX.drop(columns=['ID'])\n",
        "    X_use = X.iloc[:6665, :]\n",
        "    X_submission = X.iloc[6665:, :]\n",
        "    Y1 = Y['Segmentation']\n",
        "    scaler = MinMaxScaler()\n",
        "    X1_use = scaler.fit_transform(X_use)\n",
        "    X1_submission = scaler.transform(X_submission)\n",
        "    print(X1_use.shape, Y1.shape, X1_submission.shape)\n",
        "    return X1_use, X1_submission, Y1"
      ],
      "metadata": {
        "id": "QZzixFt_7ldG"
      },
      "execution_count": null,
      "outputs": []
    },
    {
      "cell_type": "code",
      "source": [
        "# [11] X를 train 용도, submission 용도로 나누고, Y를 1차원으로 바꿈 (MinMaxScaler 적용)\n",
        "# MinMaxScaler()를 먼저 적용한 경우 \n",
        "# X_scaled 는 ndarray 이므로 .iloc 을 적지 않고 ndarray의 slice 를 사용하여 분리한다\n",
        "def get_data2(dfX, Y):\n",
        "    X = dfX.drop(columns=['ID'])\n",
        "    scaler = MinMaxScaler()\n",
        "    X_scaled = scaler.fit_transform(X)\n",
        "    X_use = X_scaled[:6665, :]\n",
        "    X_submission = X_scaled[6665:, :]\n",
        "    Y1 = Y['Segmentation']\n",
        "    print(X_use.shape, Y1.shape, X_submission.shape)\n",
        "    return X_use, X_submission, Y1"
      ],
      "metadata": {
        "id": "YDBdY2JnNPgq"
      },
      "execution_count": null,
      "outputs": []
    },
    {
      "cell_type": "code",
      "metadata": {
        "id": "QSIFGkDiw5x8",
        "colab": {
          "base_uri": "https://localhost:8080/"
        },
        "outputId": "eb655e69-342e-45de-eb99-43fa06a55e32"
      },
      "source": [
        "# [12] 모델링 수행하기\n",
        "\n",
        "# X, Y 분리하기\n",
        "X1_use, X1_submission, Y1 = get_data2(dfX, Y)\n",
        "\n",
        "# train, test  7:3 분할, stratify 적용, random_state=0 적용\n",
        "xtrain1, xtest1, ytrain1, ytest1 = train_test_split(X1_use, Y1, \n",
        "                                                    test_size = 0.2,\n",
        "                                                    stratify=Y1, random_state=0)\n",
        "# 다양한 모델 만들어 보기 - 확인 후 반드시 주석!\n",
        "make_models(xtrain1, xtest1, ytrain1, ytest1)"
      ],
      "execution_count": null,
      "outputs": [
        {
          "output_type": "stream",
          "name": "stdout",
          "text": [
            "<class 'numpy.ndarray'> <class 'numpy.ndarray'>\n",
            "(6665, 9) (6665,) (2154, 9)\n",
            "model1 0.4989 0.5191 0.4833\n",
            "model2 1 0.9586 0.4651 0.4634\n",
            "model2 2 0.7125 0.4276 0.4315\n",
            "model2 3 0.6857 0.4861 0.4852\n",
            "model2 4 0.6470 0.4764 0.4765\n",
            "model2 5 0.6332 0.4966 0.4948\n",
            "model2 6 0.6210 0.5034 0.4997\n",
            "model2 7 0.6067 0.5011 0.4954\n",
            "model2 8 0.6007 0.5079 0.5008\n",
            "model2 9 0.5896 0.5049 0.4968\n",
            "model3 0.9606 0.4539 0.4498\n",
            "model3 3 0.4893 0.4944 0.4821\n",
            "model3 4 0.5242 0.5304 0.5078\n",
            "model3 5 0.5353 0.5311 0.5125\n",
            "model3 6 0.5518 0.5341 0.5217\n",
            "model3 7 0.5630 0.5296 0.5162\n",
            "model4 0.9606 0.4974 0.4910\n",
            "model4 3 0.5161 0.5206 0.4933\n",
            "model4 4 0.5268 0.5266 0.5051\n",
            "model4 5 0.5459 0.5446 0.5315\n",
            "model4 6 0.5668 0.5454 0.5338\n",
            "model4 7 0.5928 0.5469 0.5357\n",
            "model5 0.5698 0.5529 0.5405\n"
          ]
        }
      ]
    },
    {
      "cell_type": "code",
      "source": [
        "# 위의 결과에서는 model4 8 0.6313 0.5484 0.5388 가 좋았지만 제출점수는 (0.31804) 이었음\n",
        "# model5 0.5698 0.5529 0.5405 도 마찬가지로 (0.31xxx)\n",
        "# 제출해서 점수를 얻은 결과는 model4 5 0.5459 0.5446 0.5315로 train, test가 비슷한 것으로\n",
        "# 제출점수가 (0.32684)로 약간 좋았음\n",
        "\n",
        "# 제출해서 점수 볼 수 있는 곳\n",
        "# https://www.kaggle.com/competitions/big-data-analytics-certification-kr-2022/submissions"
      ],
      "metadata": {
        "id": "K1efQ6mE-9GR"
      },
      "execution_count": null,
      "outputs": []
    },
    {
      "cell_type": "code",
      "source": [
        "# [13] 최종적으로 사용할 모델을 선택하여 model로 다시 생성합니다.\n",
        "# 위의 make_models 꼭 주석하세요!!\n",
        "model = RandomForestClassifier(500, max_depth=5, random_state=0).fit(xtrain1, ytrain1)\n",
        "print('final model', get_scores(model, xtrain1, xtest1, ytrain1, ytest1))"
      ],
      "metadata": {
        "colab": {
          "base_uri": "https://localhost:8080/"
        },
        "id": "iSK4KNM8j8aQ",
        "outputId": "03c1b1ab-75cf-4c0d-fd54-39dc170f1ae7"
      },
      "execution_count": null,
      "outputs": [
        {
          "output_type": "stream",
          "name": "stdout",
          "text": [
            "final model 0.5459 0.5446 0.5315\n"
          ]
        }
      ]
    },
    {
      "cell_type": "markdown",
      "source": [
        "### 3-04.제출할 데이터 생성"
      ],
      "metadata": {
        "id": "W_ZqmIWWZO9p"
      }
    },
    {
      "cell_type": "code",
      "source": [
        "# [14] test 데이터에 대한 예측값 구하기, 파일로 저장하기\n",
        "ypred = model.predict(X1_submission)\n",
        "submission = pd.DataFrame({\n",
        "         \"ID\": X_submission[\"ID\"],\n",
        "         \"Segmentation\": ypred\n",
        "     })\n",
        "submission.to_csv('submission.csv', index=False)  ## 수험번호.csv\n",
        "print(submission.shape)"
      ],
      "metadata": {
        "id": "eX7XXEbianiY",
        "colab": {
          "base_uri": "https://localhost:8080/"
        },
        "outputId": "2e415c99-2430-427c-c7a1-6562721ccc72"
      },
      "execution_count": null,
      "outputs": [
        {
          "output_type": "stream",
          "name": "stdout",
          "text": [
            "(2154, 2)\n"
          ]
        }
      ]
    },
    {
      "cell_type": "code",
      "source": [
        "# [15] submission 확인\n",
        "submission.head(5)"
      ],
      "metadata": {
        "colab": {
          "base_uri": "https://localhost:8080/",
          "height": 206
        },
        "id": "PuMURZHcasGf",
        "outputId": "b13d89a5-7613-43d9-8c43-2ff17c694b9e"
      },
      "execution_count": null,
      "outputs": [
        {
          "output_type": "execute_result",
          "data": {
            "text/plain": [
              "       ID  Segmentation\n",
              "0  458989             1\n",
              "1  458994             2\n",
              "2  459000             3\n",
              "3  459003             2\n",
              "4  459005             2"
            ],
            "text/html": [
              "\n",
              "  <div id=\"df-2b6a75a5-0221-4663-8072-f530d221c726\">\n",
              "    <div class=\"colab-df-container\">\n",
              "      <div>\n",
              "<style scoped>\n",
              "    .dataframe tbody tr th:only-of-type {\n",
              "        vertical-align: middle;\n",
              "    }\n",
              "\n",
              "    .dataframe tbody tr th {\n",
              "        vertical-align: top;\n",
              "    }\n",
              "\n",
              "    .dataframe thead th {\n",
              "        text-align: right;\n",
              "    }\n",
              "</style>\n",
              "<table border=\"1\" class=\"dataframe\">\n",
              "  <thead>\n",
              "    <tr style=\"text-align: right;\">\n",
              "      <th></th>\n",
              "      <th>ID</th>\n",
              "      <th>Segmentation</th>\n",
              "    </tr>\n",
              "  </thead>\n",
              "  <tbody>\n",
              "    <tr>\n",
              "      <th>0</th>\n",
              "      <td>458989</td>\n",
              "      <td>1</td>\n",
              "    </tr>\n",
              "    <tr>\n",
              "      <th>1</th>\n",
              "      <td>458994</td>\n",
              "      <td>2</td>\n",
              "    </tr>\n",
              "    <tr>\n",
              "      <th>2</th>\n",
              "      <td>459000</td>\n",
              "      <td>3</td>\n",
              "    </tr>\n",
              "    <tr>\n",
              "      <th>3</th>\n",
              "      <td>459003</td>\n",
              "      <td>2</td>\n",
              "    </tr>\n",
              "    <tr>\n",
              "      <th>4</th>\n",
              "      <td>459005</td>\n",
              "      <td>2</td>\n",
              "    </tr>\n",
              "  </tbody>\n",
              "</table>\n",
              "</div>\n",
              "      <button class=\"colab-df-convert\" onclick=\"convertToInteractive('df-2b6a75a5-0221-4663-8072-f530d221c726')\"\n",
              "              title=\"Convert this dataframe to an interactive table.\"\n",
              "              style=\"display:none;\">\n",
              "        \n",
              "  <svg xmlns=\"http://www.w3.org/2000/svg\" height=\"24px\"viewBox=\"0 0 24 24\"\n",
              "       width=\"24px\">\n",
              "    <path d=\"M0 0h24v24H0V0z\" fill=\"none\"/>\n",
              "    <path d=\"M18.56 5.44l.94 2.06.94-2.06 2.06-.94-2.06-.94-.94-2.06-.94 2.06-2.06.94zm-11 1L8.5 8.5l.94-2.06 2.06-.94-2.06-.94L8.5 2.5l-.94 2.06-2.06.94zm10 10l.94 2.06.94-2.06 2.06-.94-2.06-.94-.94-2.06-.94 2.06-2.06.94z\"/><path d=\"M17.41 7.96l-1.37-1.37c-.4-.4-.92-.59-1.43-.59-.52 0-1.04.2-1.43.59L10.3 9.45l-7.72 7.72c-.78.78-.78 2.05 0 2.83L4 21.41c.39.39.9.59 1.41.59.51 0 1.02-.2 1.41-.59l7.78-7.78 2.81-2.81c.8-.78.8-2.07 0-2.86zM5.41 20L4 18.59l7.72-7.72 1.47 1.35L5.41 20z\"/>\n",
              "  </svg>\n",
              "      </button>\n",
              "      \n",
              "  <style>\n",
              "    .colab-df-container {\n",
              "      display:flex;\n",
              "      flex-wrap:wrap;\n",
              "      gap: 12px;\n",
              "    }\n",
              "\n",
              "    .colab-df-convert {\n",
              "      background-color: #E8F0FE;\n",
              "      border: none;\n",
              "      border-radius: 50%;\n",
              "      cursor: pointer;\n",
              "      display: none;\n",
              "      fill: #1967D2;\n",
              "      height: 32px;\n",
              "      padding: 0 0 0 0;\n",
              "      width: 32px;\n",
              "    }\n",
              "\n",
              "    .colab-df-convert:hover {\n",
              "      background-color: #E2EBFA;\n",
              "      box-shadow: 0px 1px 2px rgba(60, 64, 67, 0.3), 0px 1px 3px 1px rgba(60, 64, 67, 0.15);\n",
              "      fill: #174EA6;\n",
              "    }\n",
              "\n",
              "    [theme=dark] .colab-df-convert {\n",
              "      background-color: #3B4455;\n",
              "      fill: #D2E3FC;\n",
              "    }\n",
              "\n",
              "    [theme=dark] .colab-df-convert:hover {\n",
              "      background-color: #434B5C;\n",
              "      box-shadow: 0px 1px 3px 1px rgba(0, 0, 0, 0.15);\n",
              "      filter: drop-shadow(0px 1px 2px rgba(0, 0, 0, 0.3));\n",
              "      fill: #FFFFFF;\n",
              "    }\n",
              "  </style>\n",
              "\n",
              "      <script>\n",
              "        const buttonEl =\n",
              "          document.querySelector('#df-2b6a75a5-0221-4663-8072-f530d221c726 button.colab-df-convert');\n",
              "        buttonEl.style.display =\n",
              "          google.colab.kernel.accessAllowed ? 'block' : 'none';\n",
              "\n",
              "        async function convertToInteractive(key) {\n",
              "          const element = document.querySelector('#df-2b6a75a5-0221-4663-8072-f530d221c726');\n",
              "          const dataTable =\n",
              "            await google.colab.kernel.invokeFunction('convertToInteractive',\n",
              "                                                     [key], {});\n",
              "          if (!dataTable) return;\n",
              "\n",
              "          const docLinkHtml = 'Like what you see? Visit the ' +\n",
              "            '<a target=\"_blank\" href=https://colab.research.google.com/notebooks/data_table.ipynb>data table notebook</a>'\n",
              "            + ' to learn more about interactive tables.';\n",
              "          element.innerHTML = '';\n",
              "          dataTable['output_type'] = 'display_data';\n",
              "          await google.colab.output.renderOutput(dataTable, element);\n",
              "          const docLink = document.createElement('div');\n",
              "          docLink.innerHTML = docLinkHtml;\n",
              "          element.appendChild(docLink);\n",
              "        }\n",
              "      </script>\n",
              "    </div>\n",
              "  </div>\n",
              "  "
            ]
          },
          "metadata": {},
          "execution_count": 31
        }
      ]
    },
    {
      "cell_type": "markdown",
      "source": [
        "## **시험보러 가서 요렇게**\n",
        "- 작성 중에 출력해서 보고, 주석으로 처리, 꼭 필요한 작업만 하세요.  make_models도 앙상블 위주로!\n",
        "- 1개 셀에 모두 작성하게 됩니다. (goorm 환경에서 꼭 실습하세요)\n",
        "- print()로 출력 후에 주석을 취하세요.\n",
        "- 필요한 결과는 복사해서 주석으로 넣으세요.\n",
        "- 마지막 파일의 형식에 대해서 시험 가이드에 맞춰야 합니다.  (5회는 predict 값만 출력해야 한다고 가이드가 있습니다.)"
      ],
      "metadata": {
        "id": "UTweb2XBBT4_"
      }
    },
    {
      "cell_type": "code",
      "source": [
        "# 데이터 파일 준비\n",
        "# 그냥 실행해서 사용 파일을 생성하도록 합니다.\n",
        "import pandas as pd\n",
        "\n",
        "train = pd.read_csv('https://raw.githubusercontent.com/Soyoung-Yoon/bigdata/main/train_04.csv')\n",
        "test = pd.read_csv('https://raw.githubusercontent.com/Soyoung-Yoon/bigdata/main/test_04.csv')\n",
        "train.head(2)\n",
        "X_train = train.iloc[:, :-1]\n",
        "Y_train = train[['ID', 'Segmentation']]\n",
        "X_train.to_csv('X_train.csv', index=False)\n",
        "Y_train.to_csv('Y_train.csv', index=False)\n",
        "test.to_csv('X_test.csv', index=False)\n",
        "print('파일을 준비했습니다!  X_train.csv, Y_train.csv, X_test.csv !')"
      ],
      "metadata": {
        "id": "H0dV2oI8LMJx"
      },
      "execution_count": null,
      "outputs": []
    },
    {
      "cell_type": "code",
      "source": [
        "# [0] 사용 라이브러리 import\n",
        "import pandas as pd\n",
        "from sklearn.preprocessing import MinMaxScaler\n",
        "from sklearn.model_selection import train_test_split\n",
        "from sklearn.linear_model import LogisticRegression\n",
        "from sklearn.neighbors import KNeighborsClassifier\n",
        "from sklearn.tree import DecisionTreeClassifier\n",
        "from sklearn.ensemble import RandomForestClassifier\n",
        "from xgboost import XGBClassifier\n",
        "from sklearn.metrics import f1_score\n",
        "\n",
        "# 데이타가 많은경우 모두 출력 안되고 ... 으로 생략해서 출력됨.\n",
        "pd.set_option('display.max_rows',500)    #출력할 max row를 지정\n",
        "pd.set_option('display.max_columns',20)  #출력할 max columns를 지정\n",
        "#출력 format 지정 - 소수점아래 4자리까지\n",
        "pd.set_option('display.float_format', '{:.2f}'.format)\n",
        "\n",
        "# [1] x_train.csv, y_train.csv, x_test.csv 읽어오기\n",
        "X = pd.read_csv('X_train.csv')\n",
        "Y = pd.read_csv('Y_train.csv')\n",
        "X_submission = pd.read_csv('X_test.csv')\n",
        "#print(X.shape, Y.shape, X_submission.shape)\n",
        "\n",
        "# [2] 전처리를 위해 X, X_submission 합치기 (필수는 아님)\n",
        "dfX = pd.concat([X, X_submission])\n",
        "#dfX.head(3)\n",
        "\n",
        "# [3] df의 정보 확인 \n",
        "#dfX.info()\n",
        "\n",
        "# [4] 결측치 점검 - 결측치 없으므로 결측치 대체 처리 안해도 됨!!\n",
        "#dfX.isna().sum()\n",
        "\n",
        "# [5] 각컬럼별 고윳값 개수 확인 (1인 것이 있으면 제거, 가짓수가 적은 것들은 범주형)\n",
        "# 제거할 변수는 없음\n",
        "# Gender, Ever_Married, Graduated, Profession, Spending_Score, Var_1 등이 범주형으로 보임\n",
        "#dfX.nunique()\n",
        "\n",
        "# [6] Y 값의 분포 확인 - 범주별 분포가 비슷한지 차이가 큰지 확인 (범주별 균등한 것으로 보임)\n",
        "#Y.info()\n",
        "#print(Y['Segmentation'].value_counts(normalize=True).sort_index())\n",
        "\n",
        "# [7] 범주형 데이터에 대해 Label Encoding\n",
        "features = ['Gender', 'Ever_Married', 'Graduated', 'Profession', 'Spending_Score', 'Var_1']\n",
        "for x in features:\n",
        "    dfX[x] = dfX[x].astype('category').cat.codes\n",
        "#dfX.info()\n",
        "\n",
        "\n",
        "# [8] train score, test score, roc_auc_score 를 반환하는 함수 작성\n",
        "\n",
        "def get_scores(model, xtrain, xtest, ytrain, ytest):\n",
        "    A = model.score(xtrain, ytrain)\n",
        "    B = model.score(xtest, ytest)\n",
        "    ypred = model.predict(xtest)\n",
        "    C = f1_score(ytest, ypred, average='macro')  # f1_score with macro\n",
        "    return '{:.4f} {:.4f} {:.4f}'.format(A, B, C)\n",
        "\n",
        "\n",
        "# [9] 다양한 모델을 만들고 성능을 출력하는 함수 작성\n",
        "# LogisticRegression, DecisionTreeClassifier, KNeighborsClassifier 생략!\n",
        "def make_models(xtrain, xtest, ytrain, ytest):\n",
        "    # overfitting\n",
        "    model4 = RandomForestClassifier(random_state=0).fit(xtrain, ytrain)\n",
        "    print('model4', get_scores(model4, xtrain, xtest, ytrain, ytest))\n",
        "\n",
        "    # overfitting 해결\n",
        "    for d in range(3, 11):\n",
        "        model4 = RandomForestClassifier(500, max_depth=d, random_state=0).fit(xtrain, ytrain)\n",
        "        print('model4', d, get_scores(model4, xtrain, xtest, ytrain, ytest))\n",
        "\n",
        "    model5 = XGBClassifier().fit(xtrain, ytrain)\n",
        "    print('model5', get_scores(model5, xtrain, xtest, ytrain, ytest))\n",
        "\n",
        "# [10] X를 train 용도, submission 용도로 나누고, Y를 1차원으로 바꿈 (MinMaxScaler 적용)\n",
        "def get_data(dfX, Y):\n",
        "    X = dfX.drop(columns=['ID'])\n",
        "    X_use = X.iloc[:6665, :]\n",
        "    X_submission = X.iloc[6665:, :]\n",
        "    Y1 = Y['Segmentation']\n",
        "    scaler = MinMaxScaler()\n",
        "    X1_use = scaler.fit_transform(X_use)\n",
        "    X1_submission = scaler.transform(X_submission)\n",
        "    #print(X1_use.shape, Y1.shape, X1_submission.shape)\n",
        "    return X1_use, X1_submission, Y1\n",
        "\n",
        "# [11] 모델링 수행하기\n",
        "\n",
        "# X, Y 분리하기\n",
        "X1_use, X1_submission, Y1 = get_data(dfX, Y)\n",
        "\n",
        "# train, test  7:3 분할, stratify 적용, random_state=0 적용\n",
        "xtrain1, xtest1, ytrain1, ytest1 = train_test_split(X1_use, Y1, \n",
        "                                                test_size = 0.2,\n",
        "                                                stratify=Y1, random_state=0)\n",
        "# 다양한 모델 만들어 보기 - 확인 후 반드시 주석!\n",
        "#make_models(xtrain1, xtest1, ytrain1, ytest1)\n",
        "\n",
        "# [12] 최종적으로 사용할 모델을 선택하여 model로 다시 생성합니다.\n",
        "# 위의 make_models 꼭 주석하세요!!\n",
        "model = RandomForestClassifier(500, max_depth=5, random_state=0).fit(xtrain1, ytrain1)\n",
        "#print('final model', get_scores(model, xtrain1, xtest1, ytrain1, ytest1))\n",
        "\n",
        "# [13] test 데이터에 대한 예측값 구하기, 파일로 저장하기\n",
        "ypred = model.predict(X1_submission)\n",
        "submission = pd.DataFrame({\n",
        "         \"ID\": X_submission[\"ID\"],\n",
        "         \"Segmentation\": ypred\n",
        "     })\n",
        "submission.to_csv('submission.csv', index=False)  ## 수험번호.csv\n",
        "print(submission.shape)\n",
        "\n",
        "# [14] submission 확인\n",
        "temp = pd.read_csv('submission.csv')\n",
        "print(temp.head(5))"
      ],
      "metadata": {
        "colab": {
          "base_uri": "https://localhost:8080/"
        },
        "id": "fbDy0hK3BW4K",
        "outputId": "687fc1d4-285c-464b-9c7f-5b44f5f51fa8"
      },
      "execution_count": null,
      "outputs": [
        {
          "output_type": "stream",
          "name": "stdout",
          "text": [
            "(6665, 9) (6665,) (2154, 9)\n",
            "(2154, 2)\n",
            "       ID  Segmentation\n",
            "0  458989             1\n",
            "1  458994             2\n",
            "2  459000             2\n",
            "3  459003             2\n",
            "4  459005             1\n"
          ]
        }
      ]
    },
    {
      "cell_type": "markdown",
      "source": [
        "## 함수 생성하지 않고 풀기"
      ],
      "metadata": {
        "id": "sCGzaJTMCrd5"
      }
    },
    {
      "cell_type": "code",
      "source": [
        "# 데이터 파일 준비\n",
        "# 그냥 실행해서 사용 파일을 생성하도록 합니다.\n",
        "import pandas as pd\n",
        "\n",
        "train = pd.read_csv('./bigdata/train_04.csv')\n",
        "test = pd.read_csv('./bigdata/test_04.csv')\n",
        "train.head(2)\n",
        "X_train = train.iloc[:, :-1]\n",
        "Y_train = train[['ID', 'Segmentation']]\n",
        "X_train.to_csv('X_train.csv', index=False)\n",
        "Y_train.to_csv('Y_train.csv', index=False)\n",
        "test.to_csv('X_test.csv', index=False)\n",
        "print('파일을 준비했습니다!  X_train.csv, Y_train.csv, X_test.csv !')"
      ],
      "metadata": {
        "colab": {
          "base_uri": "https://localhost:8080/"
        },
        "id": "1hfzgcQCEcFI",
        "outputId": "78490a7c-b594-4b4c-ef46-7dee5571d30a"
      },
      "execution_count": null,
      "outputs": [
        {
          "output_type": "stream",
          "name": "stdout",
          "text": [
            "파일을 준비했습니다!  X_train.csv, Y_train.csv, X_test.csv !\n"
          ]
        }
      ]
    },
    {
      "cell_type": "code",
      "source": [
        "# [0] 사용 라이브러리 import\n",
        "import pandas as pd\n",
        "from sklearn.preprocessing import MinMaxScaler\n",
        "from sklearn.model_selection import train_test_split\n",
        "from sklearn.linear_model import LogisticRegression\n",
        "from sklearn.neighbors import KNeighborsClassifier\n",
        "from sklearn.tree import DecisionTreeClassifier\n",
        "from sklearn.ensemble import RandomForestClassifier\n",
        "from xgboost import XGBClassifier\n",
        "from sklearn.metrics import f1_score\n",
        "\n",
        "# 데이타가 많은경우 모두 출력 안되고 ... 으로 생략해서 출력됨.\n",
        "pd.set_option('display.max_rows',500)    #출력할 max row를 지정\n",
        "pd.set_option('display.max_columns',20)  #출력할 max columns를 지정\n",
        "#출력 format 지정 - 소수점아래 4자리까지\n",
        "pd.set_option('display.float_format', '{:.2f}'.format)\n",
        "\n",
        "\n",
        "# [1] train score, test score, roc_auc_score 를 반환하는 함수 작성\n",
        "def get_scores(model, xtrain, xtest, ytrain, ytest):\n",
        "    A = model.score(xtrain, ytrain)\n",
        "    B = model.score(xtest, ytest)\n",
        "    ypred = model.predict(xtest)\n",
        "    C = f1_score(ytest, ypred, average='macro')  # f1_score with macro\n",
        "    return '{:.4f} {:.4f} {:.4f}'.format(A, B, C)\n",
        "\n",
        "# [2] x_train.csv, y_train.csv, x_test.csv 읽어오기\n",
        "X = pd.read_csv('X_train.csv')\n",
        "Y = pd.read_csv('Y_train.csv')\n",
        "X_submission = pd.read_csv('X_test.csv')\n",
        "#print(X.shape, Y.shape, X_submission.shape)\n",
        "\n",
        "# [3] 전처리를 위해 X, X_submission 합치기 (필수는 아님)\n",
        "dfX = pd.concat([X, X_submission])\n",
        "#dfX.head(3)\n",
        "\n",
        "# [4] df의 정보 확인 \n",
        "#dfX.info()\n",
        "\n",
        "# [5] 결측치 점검 - 결측치 없으므로 결측치 대체 처리 안해도 됨!!\n",
        "#dfX.isna().sum()\n",
        "\n",
        "# [6] 각컬럼별 고윳값 개수 확인 (1인 것이 있으면 제거, 가짓수가 적은 것들은 범주형)\n",
        "# 제거할 변수는 없음\n",
        "# Gender, Ever_Married, Graduated, Profession, Spending_Score, Var_1 등이 범주형으로 보임\n",
        "#dfX.nunique()\n",
        "\n",
        "# [7] Y 값의 분포 확인 - 범주별 분포가 비슷한지 차이가 큰지 확인 (범주별 균등한 것으로 보임)\n",
        "#Y.info()\n",
        "#print(Y['Segmentation'].value_counts(normalize=True).sort_index())\n",
        "\n",
        "# [8] 범주형 데이터에 대해 Label Encoding\n",
        "features = ['Gender', 'Ever_Married', 'Graduated', 'Profession', 'Spending_Score', 'Var_1']\n",
        "for x in features:\n",
        "    dfX[x] = dfX[x].astype('category').cat.codes\n",
        "#dfX.info()\n",
        "\n",
        "# [9] 모델링 수행하기\n",
        "\n",
        "# X, Y 분리하기\n",
        "# X를 train 용도, submission 용도로 나누고, Y를 1차원으로 바꿈 (MinMaxScaler 적용)\n",
        "temp = dfX.drop(columns=['ID'])\n",
        "X1_use = temp.iloc[:X.shape[0], :]\n",
        "X1_submission = temp.iloc[X.shape[0]:, :]\n",
        "Y1 = Y['Segmentation']\n",
        "scaler = MinMaxScaler()\n",
        "X1_use = scaler.fit_transform(X1_use)\n",
        "X1_submission = scaler.transform(X1_submission)\n",
        "\n",
        "xtrain, xtest, ytrain, ytest = train_test_split(X1_use, Y1, \n",
        "                                                test_size = 0.2,\n",
        "                                                stratify=Y1, random_state=0)\n",
        "\n",
        "# [10] 다양한 모델을 만들고 성능을 출력하는 함수 작성 - 확인 후 반드시 주석!\n",
        "# LogisticRegression, DecisionTreeClassifier, KNeighborsClassifier 생략!\n",
        "\n",
        "# model4 = RandomForestClassifier(random_state=0).fit(xtrain, ytrain)\n",
        "# print('model4', get_scores(model4, xtrain, xtest, ytrain, ytest))\n",
        "\n",
        "# for d in range(3, 11):\n",
        "#     model4 = RandomForestClassifier(500, max_depth=d, random_state=0).fit(xtrain, ytrain)\n",
        "#     print('model4', d, get_scores(model4, xtrain, xtest, ytrain, ytest))\n",
        "\n",
        "# model5 = XGBClassifier().fit(xtrain, ytrain)\n",
        "# print('model5', get_scores(model5, xtrain, xtest, ytrain, ytest))\n",
        "\n",
        "# [11] 최종적으로 사용할 모델을 선택하여 model로 다시 생성합니다.\n",
        "\n",
        "model = RandomForestClassifier(500, max_depth=5, random_state=0).fit(xtrain, ytrain)\n",
        "#print('final model', get_scores(model, xtrain, xtest, ytrain, ytest))\n",
        "\n",
        "# [12] test 데이터에 대한 예측값 구하기, 파일로 저장하기\n",
        "ypred = model.predict(X1_submission)\n",
        "\n",
        "submission = pd.DataFrame({\n",
        "         \"ID\": X_submission[\"ID\"],\n",
        "         \"Segmentation\": ypred\n",
        "     })\n",
        "\n",
        "submission.to_csv('submission.csv', index=False)  ## 수험번호.csv\n",
        "print(submission.shape)\n",
        "\n",
        "# [13] submission 확인\n",
        "print(submission.head(5))"
      ],
      "metadata": {
        "id": "Yftvxw6LCpSd"
      },
      "execution_count": null,
      "outputs": []
    }
  ]
}