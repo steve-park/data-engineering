{
  "nbformat": 4,
  "nbformat_minor": 0,
  "metadata": {
    "colab": {
      "provenance": []
    },
    "kernelspec": {
      "name": "python3",
      "display_name": "Python 3"
    },
    "language_info": {
      "name": "python"
    }
  },
  "cells": [
    {
      "cell_type": "markdown",
      "source": [
        "### 5회 기출 - 작업2유형\n",
        "- 벤츠 차량 가격 예측 : https://www.kaggle.com/datasets/mysarahmadbhat/mercedes-used-car-listing \n",
        "- train = https://raw.githubusercontent.com/Datamanim/datarepo/main/krdatacertificate/e5_p2_train_.csv \n",
        "- test = https://raw.githubusercontent.com/Datamanim/datarepo/main/krdatacertificate/e5_p2_test_.csv\n",
        "- 예측 변수 price, test.csv에 대해 price 값을 예측하여 제출, 제출 데이터 컬럼은 price만 존재해야함.\n",
        "- 평가지표는 rmse"
      ],
      "metadata": {
        "id": "c-muYI4j4Mzx"
      }
    },
    {
      "cell_type": "code",
      "source": [
        "import pandas as pd\n",
        "\n",
        "train = pd.read_csv('https://raw.githubusercontent.com/Datamanim/datarepo/main/krdatacertificate/e5_p2_train_.csv')\n",
        "test = pd.read_csv('https://raw.githubusercontent.com/Datamanim/datarepo/main/krdatacertificate/e5_p2_test_.csv')\n",
        "\n",
        "train.to_csv('train.csv', index=False)\n",
        "test.to_csv('test.csv', index=False)"
      ],
      "metadata": {
        "id": "bRagKNc141Fn"
      },
      "execution_count": null,
      "outputs": []
    },
    {
      "cell_type": "markdown",
      "source": [
        "풀이!"
      ],
      "metadata": {
        "id": "oWU4iuMD6h5N"
      }
    },
    {
      "cell_type": "code",
      "source": [
        "import sklearn.metrics\n",
        "print(dir(sklearn.metrics)[65:])"
      ],
      "metadata": {
        "colab": {
          "base_uri": "https://localhost:8080/"
        },
        "id": "uNudCpigimMY",
        "outputId": "c366b12d-072e-4bb1-be41-b86f588689c6"
      },
      "execution_count": null,
      "outputs": [
        {
          "output_type": "stream",
          "name": "stdout",
          "text": [
            "['matthews_corrcoef', 'max_error', 'mean_absolute_error', 'mean_absolute_percentage_error', 'mean_gamma_deviance', 'mean_pinball_loss', 'mean_poisson_deviance', 'mean_squared_error', 'mean_squared_log_error', 'mean_tweedie_deviance', 'median_absolute_error', 'multilabel_confusion_matrix', 'mutual_info_score', 'nan_euclidean_distances', 'ndcg_score', 'normalized_mutual_info_score', 'pair_confusion_matrix', 'pairwise', 'pairwise_distances', 'pairwise_distances_argmin', 'pairwise_distances_argmin_min', 'pairwise_distances_chunked', 'pairwise_kernels', 'precision_recall_curve', 'precision_recall_fscore_support', 'precision_score', 'r2_score', 'rand_score', 'recall_score', 'roc_auc_score', 'roc_curve', 'silhouette_samples', 'silhouette_score', 'top_k_accuracy_score', 'v_measure_score', 'zero_one_loss']\n"
          ]
        }
      ]
    },
    {
      "cell_type": "code",
      "source": [
        "# mape는 실제값(y_true)이 0인 경우 또는 0에 가까운 작은 값인 경우는 사용할 수 없음\n",
        "from sklearn.metrics import mean_absolute_percentage_error as mape\n",
        "\n",
        "#mape([1, 10, 100], [1, 9, 90])  # 0%  10% error  10% error\n",
        "mape([1, 0, 100], [1, 9, 90])"
      ],
      "metadata": {
        "colab": {
          "base_uri": "https://localhost:8080/"
        },
        "id": "jRkcstbp5q9J",
        "outputId": "ac2f5272-e323-4baa-af1b-1cabbc966a6d"
      },
      "execution_count": null,
      "outputs": [
        {
          "output_type": "execute_result",
          "data": {
            "text/plain": [
              "1.3510798882111488e+16"
            ]
          },
          "metadata": {},
          "execution_count": 22
        }
      ]
    },
    {
      "cell_type": "code",
      "source": [
        "import numpy as np\n",
        "\n",
        "A = np.array([0.5**2, 1 ** 2, 2 ** 2, 4 ** 2, 5 ** 2]) ** 0.5\n",
        "B = np.sqrt(np.array([0.5**2, 1 ** 2, 2 ** 2, 4 ** 2, 5 ** 2]))\n",
        "print(A, B)"
      ],
      "metadata": {
        "colab": {
          "base_uri": "https://localhost:8080/"
        },
        "id": "xMCu8Ryl6gLZ",
        "outputId": "4adf42a9-f745-4dd2-a233-ed97419cd3c7"
      },
      "execution_count": null,
      "outputs": [
        {
          "output_type": "stream",
          "name": "stdout",
          "text": [
            "[0.5 1.  2.  4.  5. ] [0.5 1.  2.  4.  5. ]\n"
          ]
        }
      ]
    },
    {
      "cell_type": "code",
      "source": [
        "import numpy as np\n",
        "np.log(-1)"
      ],
      "metadata": {
        "colab": {
          "base_uri": "https://localhost:8080/"
        },
        "id": "A-LhrV6L7huA",
        "outputId": "6f168b43-6c65-4790-caa9-b76f3f15c790"
      },
      "execution_count": null,
      "outputs": [
        {
          "output_type": "stream",
          "name": "stderr",
          "text": [
            "<ipython-input-34-07ff17fea371>:2: RuntimeWarning: invalid value encountered in log\n",
            "  np.log(-1)\n"
          ]
        },
        {
          "output_type": "execute_result",
          "data": {
            "text/plain": [
              "nan"
            ]
          },
          "metadata": {},
          "execution_count": 34
        }
      ]
    },
    {
      "cell_type": "code",
      "source": [
        "#[0] import\n",
        "import pandas as pd\n",
        "from sklearn.preprocessing import LabelEncoder, StandardScaler, MinMaxScaler\n",
        "from sklearn.model_selection import train_test_split\n",
        "from sklearn.linear_model import LinearRegression   # LogisticRegression\n",
        "from sklearn.neighbors import KNeighborsRegressor\n",
        "from sklearn.tree import DecisionTreeRegressor\n",
        "from sklearn.ensemble import RandomForestRegressor\n",
        "from xgboost import XGBRegressor\n",
        "from sklearn.metrics import mean_absolute_error as mae\n",
        "# mape는 실제값(y_true)이 0인 경우는 사용할 수 없음\n",
        "from sklearn.metrics import mean_absolute_percentage_error as mape\n",
        "from sklearn.metrics import mean_squared_error as mse\n",
        "# msle, rmsle에는 음수를 사용할 수 없음 \n",
        "from sklearn.metrics import mean_squared_log_error as msle\n",
        "# mse ** 0.5 = np.sqrt(mse) => rmse\n",
        "# msle ** 0.5 = np.sqrt(msle) => rmsle\n",
        "\n",
        "\n",
        "def get_scores(model, x_train, x_test, y_train, y_test):\n",
        "    A = model.score(x_train, y_train)\n",
        "    B = model.score(x_test, y_test)  # r2_score (결정계수)\n",
        "    y_pred = model.predict(x_test)\n",
        "    y_pred = np.where(y_pred >= 0, y_pred, -y_pred)  # 음수보정 (절대값, 0, ...)\n",
        "    C = mae(y_test, y_pred)\n",
        "    D = mse(y_test, y_pred)\n",
        "    E = mse(y_test, y_pred) ** 0.5   # D ** 0.5\n",
        "    F = msle(y_test, y_pred)\n",
        "    G = msle(y_test, y_pred) ** 0.5  # F ** 0.5\n",
        "    return f'R2: {A:.4f} {B:.4f} mae: {C:.4f} mse: {D:.4f} rmse: {E:.4f} msle: {F:.4f} rmsle: {G:.4f}'\n",
        "\n",
        "# [1] 파일 불러오기\n",
        "\n",
        "XY = pd.read_csv('train.csv')\n",
        "X_submission = pd.read_csv('test.csv')\n",
        "print(XY.shape, X_submission.shape)\n",
        "\n",
        "#print(XY.head(2))\n",
        "#print(X_submission.head(2))\n",
        "\n",
        "#print(XY.nunique())\n",
        "#print(X_submission.nunique())\n",
        "#print(XY['model'].value_counts())\n",
        "#print(X_submission['model'].value_counts())\n",
        "#set(XY['model']) - set(X_submission['model'])  # {' CLC Class', ' R Class', '180', '200', '230'}\n",
        "#set(X_submission['model']) - set(XY['model'])  # {'220'}\n",
        "\n",
        "# [2] X, Y_use 분리,  X, X_submission 연결 -> dfX 생성\n",
        "#print(XY.head(2))\n",
        "X = XY.drop(columns=['price'])\n",
        "Y_use = XY['price']\n",
        "dfX = pd.concat([X, X_submission], axis=0)\n",
        "\n",
        "# [3] 데이터 탐색\n",
        "#dfX.info()  # object : 'model', 'transmission', 'fuelType'\n",
        "#print(X.describe())            # numeric dtype\n",
        "#print(X_submission.describe())\n",
        "\n",
        "# 범주형 변수에 대해서는 nunique가 같은지, unique가 같은지 확인\n",
        "# 실제 범주 종류도 같은지 알아보도록 한다. 만일 X_submission에 있는 범주가 X에 없다면 오류!\n",
        "#C_features = ['model', 'transmission', 'fuelType']\n",
        "#print(X[C_features].nunique())\n",
        "#print(X_submission[C_features].nunique())\n",
        "# LABEL Encoding\n",
        "feature = ['model', 'transmission', 'fuelType']\n",
        "for x in feature:\n",
        "    dfX[x] = dfX[x].astype('category').cat.codes\n",
        "#dfX.info()\n",
        "#print(dfX.columns)\n",
        "# OneHot Encoding\n",
        "#dfX = pd.get_dummies(dfX)\n",
        "#dfX.info()\n",
        "\n",
        "# X, X_submission 을 각각 OneHot Encoding, 범주 불일치에 대해 reindex함수 사용\n",
        "#dum_X = pd.get_dummies(X)\n",
        "#dum_X_submission = pd.get_dummies(X_submission)\n",
        "#dum_X_submission = dum_X_submission.reindex(columns = dum_X.columns, fill_value=0)\n",
        "#dum_X.info()\n",
        "\n",
        "# [4] 스케일러\n",
        "dfX = pd.DataFrame(StandardScaler().fit_transform(dfX))\n",
        "# dfX ->  AttributeError: 'numpy.ndarray' object has no attribute 'iloc'\n",
        "\n",
        "# [5] X_use, X_submission (분리) \n",
        "X_use = dfX.iloc[:9823, :]\n",
        "X_submission = dfX.iloc[9823:, :]\n",
        "#print(X_use.shape, X_submission.shape)\n",
        "\n",
        "# [6] train, test 분리\n",
        "temp = train_test_split(X_use, Y_use, test_size=0.2, random_state=1) #, stratify=Y_use)\n",
        "# ValueError: The least populated class in y has only 1 member, which is too few. \n",
        "# The minimum number of groups for any class cannot be less than 2.\n",
        "x_train, x_test, y_train, y_test = temp\n",
        "#print(x_train.shape, x_test.shape, y_train.shape, y_test.shape)\n",
        "\n",
        "# [7] 모델링 (모델 선택, 학습, 평가)\n",
        "model1 = LinearRegression()\n",
        "model1.fit(x_train, y_train)\n",
        "print(get_scores(model1, x_train, x_test, y_train, y_test))\n",
        "\n",
        "##  모델링\n",
        "\n",
        "# 데이터마님 문제 풀이, pandas_03, pandas_04 학습\n",
        "# Python, VSCode, 데이터마님 사용법 - 영상\n",
        "# 통계 분석 - 영상 "
      ],
      "metadata": {
        "colab": {
          "base_uri": "https://localhost:8080/"
        },
        "id": "MrnoQ41ZhpHs",
        "outputId": "06edd5e6-aa76-43d9-e600-c5aed358bc84"
      },
      "execution_count": null,
      "outputs": [
        {
          "output_type": "stream",
          "name": "stdout",
          "text": [
            "(9823, 10) (3296, 9)\n",
            "R2: 0.7118 0.6632 mae: 3819.5734 mse: 37650908.7148 rmse: 6136.0336 msle: 0.0965 rmsle: 0.3107\n"
          ]
        }
      ]
    },
    {
      "cell_type": "code",
      "source": [
        "!pip install shelves"
      ],
      "metadata": {
        "id": "FFlbxXDTudAx"
      },
      "execution_count": null,
      "outputs": []
    },
    {
      "cell_type": "code",
      "source": [
        "# 실무에서 Encoder 객체를 저장해 두었다 사용하는 방법\n",
        "import pandas as pd\n",
        "from sklearn.preprocessing import LabelEncoder\n",
        "\n",
        "feature = ['model', 'transmission', 'fuelType']\n",
        "encoders = pd.Series()\n",
        "for x in feature:\n",
        "    encoder = LabelEncoder()\n",
        "    dfX[x] = encoder.fit_transform(dfX[x])\n",
        "    encoders[x] = encoder\n",
        "\n",
        "\n",
        "import shelve\n",
        "with shelve.open('mercedes') as data:\n",
        "    data['encoders'] = encoders\n",
        "\n",
        "# X, X_submission 을 각각 OneHot Encoding, 범주 불일치에 대해 reindex함수 사용\n",
        "# 주기적으로 모델을 갱신 (최신 데이터를 반영해서 새로운 모델 만들기)    "
      ],
      "metadata": {
        "id": "6ScqaciUtc1L"
      },
      "execution_count": null,
      "outputs": []
    },
    {
      "cell_type": "code",
      "source": [],
      "metadata": {
        "id": "VUnsi8dOuUMe"
      },
      "execution_count": null,
      "outputs": []
    },
    {
      "cell_type": "code",
      "source": [
        "set(train['model'].str.strip())"
      ],
      "metadata": {
        "colab": {
          "base_uri": "https://localhost:8080/"
        },
        "id": "SZz9Cx87o47W",
        "outputId": "2d50225d-c89c-48f9-d799-52fa2e77cccc"
      },
      "execution_count": null,
      "outputs": [
        {
          "output_type": "execute_result",
          "data": {
            "text/plain": [
              "{'180',\n",
              " '200',\n",
              " '230',\n",
              " 'A Class',\n",
              " 'B Class',\n",
              " 'C Class',\n",
              " 'CL Class',\n",
              " 'CLA Class',\n",
              " 'CLC Class',\n",
              " 'CLK',\n",
              " 'CLS Class',\n",
              " 'E Class',\n",
              " 'G Class',\n",
              " 'GL Class',\n",
              " 'GLA Class',\n",
              " 'GLB Class',\n",
              " 'GLC Class',\n",
              " 'GLE Class',\n",
              " 'GLS Class',\n",
              " 'M Class',\n",
              " 'R Class',\n",
              " 'S Class',\n",
              " 'SL CLASS',\n",
              " 'SLK',\n",
              " 'V Class',\n",
              " 'X-CLASS'}"
            ]
          },
          "metadata": {},
          "execution_count": 31
        }
      ]
    },
    {
      "cell_type": "code",
      "source": [
        "set(X_submission['model'])"
      ],
      "metadata": {
        "colab": {
          "base_uri": "https://localhost:8080/"
        },
        "id": "CzvkZy5Moxjq",
        "outputId": "bba5103e-15f4-4320-bbd9-4ddd1264d909"
      },
      "execution_count": null,
      "outputs": [
        {
          "output_type": "execute_result",
          "data": {
            "text/plain": [
              "{' A Class',\n",
              " ' B Class',\n",
              " ' C Class',\n",
              " ' CL Class',\n",
              " ' CLA Class',\n",
              " ' CLK',\n",
              " ' CLS Class',\n",
              " ' E Class',\n",
              " ' G Class',\n",
              " ' GL Class',\n",
              " ' GLA Class',\n",
              " ' GLB Class',\n",
              " ' GLC Class',\n",
              " ' GLE Class',\n",
              " ' GLS Class',\n",
              " ' M Class',\n",
              " ' S Class',\n",
              " ' SL CLASS',\n",
              " ' SLK',\n",
              " ' V Class',\n",
              " ' X-CLASS',\n",
              " '220'}"
            ]
          },
          "metadata": {},
          "execution_count": 29
        }
      ]
    },
    {
      "cell_type": "code",
      "source": [
        "# 범주불일치\n",
        "# X에는 없고, X_submission에만 있는 경우 LabelEncoding, OneHotEncoding도 문제를 야기할 수 있음\n",
        "df1 = pd.DataFrame({'blood_type': ['A', 'B', 'O', 'A', 'O', 'B']})\n",
        "df1['blood_type'].astype('category').cat.codes  # 'A': 0, 'B':1, 'O': 2"
      ],
      "metadata": {
        "id": "aTkghN4jiZzI"
      },
      "execution_count": null,
      "outputs": []
    },
    {
      "cell_type": "code",
      "source": [
        "df2 = pd.DataFrame({'blood_type': ['A', 'B', 'AB', 'A', 'O', 'B']})\n",
        "df2['blood_type'].astype('category').cat.codes  # 'A': 0, 'AB':1, 'B':2, 'O': 3"
      ],
      "metadata": {
        "id": "WJBHrb54ktfj"
      },
      "execution_count": null,
      "outputs": []
    },
    {
      "cell_type": "code",
      "source": [
        "dfX = pd.concat([df1, df2])\n",
        "dfX = pd.get_dummies(dfX)\n",
        "dfX.shape"
      ],
      "metadata": {
        "colab": {
          "base_uri": "https://localhost:8080/"
        },
        "id": "5e6HkkUolHqF",
        "outputId": "b8a27903-14dd-4c24-aed9-aa785f8923d4"
      },
      "execution_count": null,
      "outputs": [
        {
          "output_type": "execute_result",
          "data": {
            "text/plain": [
              "(12, 4)"
            ]
          },
          "metadata": {},
          "execution_count": 26
        }
      ]
    }
  ]
}