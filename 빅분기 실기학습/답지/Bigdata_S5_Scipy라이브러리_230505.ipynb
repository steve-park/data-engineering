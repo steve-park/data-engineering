{
  "nbformat": 4,
  "nbformat_minor": 0,
  "metadata": {
    "kernelspec": {
      "display_name": "Python 3",
      "language": "python",
      "name": "python3"
    },
    "language_info": {
      "codemirror_mode": {
        "name": "ipython",
        "version": 3
      },
      "file_extension": ".py",
      "mimetype": "text/x-python",
      "name": "python",
      "nbconvert_exporter": "python",
      "pygments_lexer": "ipython3",
      "version": "3.8.3"
    },
    "colab": {
      "provenance": [],
      "collapsed_sections": [
        "I5HLZUO-a6Am",
        "wjx_yhTnhX-m",
        "UERuue_HoU_s"
      ]
    }
  },
  "cells": [
    {
      "cell_type": "markdown",
      "metadata": {
        "id": "4lEW-jP2KDlM"
      },
      "source": [
        "### 0.데이터 다운로드"
      ]
    },
    {
      "cell_type": "code",
      "source": [
        "!git clone https://github.com/Soyoung-Yoon/data_02"
      ],
      "metadata": {
        "id": "doYTmITBewX4",
        "colab": {
          "base_uri": "https://localhost:8080/"
        },
        "outputId": "8eed5f83-2e65-4e43-9a00-0f1b0e45ef4f"
      },
      "execution_count": null,
      "outputs": [
        {
          "output_type": "stream",
          "name": "stdout",
          "text": [
            "Cloning into 'data_02'...\n",
            "remote: Enumerating objects: 38, done.\u001b[K\n",
            "remote: Counting objects: 100% (38/38), done.\u001b[K\n",
            "remote: Compressing objects: 100% (38/38), done.\u001b[K\n",
            "remote: Total 38 (delta 7), reused 0 (delta 0), pack-reused 0\u001b[K\n",
            "Unpacking objects: 100% (38/38), 438.32 KiB | 4.52 MiB/s, done.\n"
          ]
        }
      ]
    },
    {
      "cell_type": "code",
      "metadata": {
        "id": "JE-m3dQ-KGlN",
        "colab": {
          "base_uri": "https://localhost:8080/"
        },
        "outputId": "1404983b-becc-4ed6-ad1f-4518d68869d1"
      },
      "source": [
        "!git clone https://github.com/Soyoung-Yoon/bigdata"
      ],
      "execution_count": null,
      "outputs": [
        {
          "output_type": "stream",
          "name": "stdout",
          "text": [
            "Cloning into 'bigdata'...\n",
            "remote: Enumerating objects: 53, done.\u001b[K\n",
            "remote: Counting objects: 100% (3/3), done.\u001b[K\n",
            "remote: Compressing objects: 100% (3/3), done.\u001b[K\n",
            "remote: Total 53 (delta 0), reused 0 (delta 0), pack-reused 50\u001b[K\n",
            "Unpacking objects: 100% (53/53), 14.21 MiB | 4.26 MiB/s, done.\n"
          ]
        }
      ]
    },
    {
      "cell_type": "code",
      "metadata": {
        "colab": {
          "base_uri": "https://localhost:8080/",
          "height": 36
        },
        "id": "se4c_tUpMmkp",
        "outputId": "5d802d05-294c-4579-dc54-afa5cffba411"
      },
      "source": [
        "import scipy\n",
        "scipy.__version__"
      ],
      "execution_count": null,
      "outputs": [
        {
          "output_type": "execute_result",
          "data": {
            "text/plain": [
              "'1.10.0'"
            ],
            "application/vnd.google.colaboratory.intrinsic+json": {
              "type": "string"
            }
          },
          "metadata": {},
          "execution_count": 1
        }
      ]
    },
    {
      "cell_type": "code",
      "metadata": {
        "id": "pvDZ37fiNOnG"
      },
      "source": [
        "!pip install scipy==1.10.0"
      ],
      "execution_count": null,
      "outputs": []
    },
    {
      "cell_type": "code",
      "source": [
        "#설치(install) 후 메뉴에서 런타임 - 런타임 다시 시작"
      ],
      "metadata": {
        "id": "B2tdxZdg-PVt"
      },
      "execution_count": null,
      "outputs": []
    },
    {
      "cell_type": "markdown",
      "source": [
        "### 확률분포 그리기"
      ],
      "metadata": {
        "id": "StSuPSMSbbLl"
      }
    },
    {
      "cell_type": "markdown",
      "source": [
        "### 1.이산형 확률분포 \n",
        "- Probability Mass Function, PMF, 𝐲=𝒇(𝒙)\n",
        "- 이산 확률 변수에서 특정 값에 대한 확률을 계산하기 위한 함수"
      ],
      "metadata": {
        "id": "GtNjflpb3GZN"
      }
    },
    {
      "cell_type": "markdown",
      "source": [
        "#### 1-1.기하 분포"
      ],
      "metadata": {
        "id": "tqQyJ79-bAZB"
      }
    },
    {
      "cell_type": "code",
      "source": [
        "# 확률이 0.1인 기하분포\n",
        "from scipy.stats import geom\n",
        "import matplotlib.pyplot as plt  # 시험무관\n",
        "import pandas as pd \n",
        "\n",
        "sp = 0.1\n",
        "x = range(1, 20)  # 시도 횟수\n",
        "y = geom(p=sp).pmf(x)\n",
        "# 시험무관\n",
        "s = pd.Series(y, index=x)\n",
        "s.plot(kind='bar', figsize=(8, 3), rot=0, grid=True, title='Geometric PMF')\n",
        "plt.show()"
      ],
      "metadata": {
        "colab": {
          "base_uri": "https://localhost:8080/",
          "height": 314
        },
        "id": "83AwGO7e5mIF",
        "outputId": "91eafabb-9011-497b-a91b-7a9b4a1d37d9"
      },
      "execution_count": null,
      "outputs": [
        {
          "output_type": "display_data",
          "data": {
            "text/plain": [
              "<Figure size 800x300 with 1 Axes>"
            ],
            "image/png": "[encoded data removed]"
          },
          "metadata": {}
        }
      ]
    },
    {
      "cell_type": "markdown",
      "source": [
        "#### 1-2.초기하 분포"
      ],
      "metadata": {
        "id": "PRoer2Yz47Zh"
      }
    },
    {
      "cell_type": "code",
      "source": [
        "# M : 모집단 개수, n : 성공요소의 수, N : 시행횟수(선택 횟수)\n",
        "# M, n, N = 100, 30, 20\n",
        "\n",
        "from scipy.stats import hypergeom\n",
        "import matplotlib.pyplot as plt  # 빅분기 시험무관, ADP (필요)\n",
        "import pandas as pd\n",
        "\n",
        "a, b, c = 100, 30, 20\n",
        "x = range(c+2)  # 0 ~ 21\n",
        "y = hypergeom(M=a, n=b, N=c).pmf(x)\n",
        "print(y)\n",
        "s = pd.Series(y, index=x)\n",
        "#print(s.to_numpy())\n",
        "s.plot(kind='bar', figsize=(8, 3), grid=True, rot=0, \n",
        "       title='Hyper Geometric PMF')\n",
        "plt.show()"
      ],
      "metadata": {
        "colab": {
          "base_uri": "https://localhost:8080/",
          "height": 426
        },
        "id": "kow_LOJjHKdJ",
        "outputId": "3941ca47-1afc-43dc-b675-d8bdbda07fdd"
      },
      "execution_count": null,
      "outputs": [
        {
          "output_type": "stream",
          "name": "stdout",
          "text": [
            "[3.02032885e-04 3.55332806e-03 1.88258054e-02 5.96742510e-02\n",
            " 1.26807783e-01 1.91825592e-01 2.14091063e-01 1.80287211e-01\n",
            " 1.16176457e-01 5.77600464e-02 2.22376179e-02 6.62820205e-03\n",
            " 1.52341741e-03 2.67853610e-04 3.55743076e-05 3.50270105e-06\n",
            " 2.48771382e-07 1.22310776e-08 3.89715707e-10 7.13438366e-12\n",
            " 5.60558716e-14 0.00000000e+00]\n"
          ]
        },
        {
          "output_type": "display_data",
          "data": {
            "text/plain": [
              "<Figure size 800x300 with 1 Axes>"
            ],
            "image/png": "[encoded data removed]"
          },
          "metadata": {}
        }
      ]
    },
    {
      "cell_type": "code",
      "source": [
        "# M : 모집단 개수, n : 성공요소의 수, N : 시행횟수(선택 횟수)\n",
        "\n",
        "from scipy.stats import hypergeom\n",
        "import matplotlib.pyplot as plt  # 빅분기 시험무관, ADP (필요)\n",
        "import pandas as pd\n",
        "\n",
        "a, b, c = 18, 8, 5\n",
        "x = range(c+2)  \n",
        "y = hypergeom(M=a, n=b, N=c).pmf(x)\n",
        "s = pd.Series(y, index=x)\n",
        "print(s.to_numpy().round(6))\n",
        "s.plot(kind='bar', figsize=(8, 3), grid=True, rot=0, \n",
        "       title='Hyper Geometric PMF')\n",
        "plt.show()"
      ],
      "metadata": {
        "colab": {
          "base_uri": "https://localhost:8080/",
          "height": 333
        },
        "id": "MJ6dZt58iHj6",
        "outputId": "0bb7140a-35ec-41ea-ec9d-c4240f0b9b4f"
      },
      "execution_count": null,
      "outputs": [
        {
          "output_type": "stream",
          "name": "stdout",
          "text": [
            "[0.029412 0.196078 0.392157 0.294118 0.081699 0.006536 0.      ]\n"
          ]
        },
        {
          "output_type": "display_data",
          "data": {
            "text/plain": [
              "<Figure size 800x300 with 1 Axes>"
            ],
            "image/png": "[encoded data removed]"
          },
          "metadata": {}
        }
      ]
    },
    {
      "cell_type": "markdown",
      "source": [
        "#### 1-3.포아송 분포"
      ],
      "metadata": {
        "id": "qFjZuWif3MiE"
      }
    },
    {
      "cell_type": "code",
      "source": [
        "# mu = 단위 시간/공간당 평균 발생 횟수\n",
        "# 평균 2회 발생 횟수를 갖는 포아송 분포\n",
        "\n",
        "from scipy.stats import poisson\n",
        "import pandas as pd\n",
        "import matplotlib.pyplot as plt\n",
        "mu = 2\n",
        "x = range(5*mu)\n",
        "y = poisson(mu=mu).pmf(x)\n",
        "s = pd.Series(y, index=x)\n",
        "s.plot(kind='bar', figsize=(8, 3), rot=0, grid=True, title='Poisson PMF')\n",
        "plt.show()"
      ],
      "metadata": {
        "colab": {
          "base_uri": "https://localhost:8080/",
          "height": 314
        },
        "id": "GDBA8pHp3FKo",
        "outputId": "1cbc8991-7073-4bc9-e37b-9e0a9be20924"
      },
      "execution_count": null,
      "outputs": [
        {
          "output_type": "display_data",
          "data": {
            "text/plain": [
              "<Figure size 800x300 with 1 Axes>"
            ],
            "image/png": "[encoded data removed]"
          },
          "metadata": {}
        }
      ]
    },
    {
      "cell_type": "markdown",
      "source": [
        "### 2.연속형 확률분포 객체 생성"
      ],
      "metadata": {
        "id": "_zYvGOs8mPb-"
      }
    },
    {
      "cell_type": "markdown",
      "source": [
        "PDF(Probability Density Function) : 확률 밀도 함수\n",
        "- 연속적인 변수에 의한 확률 분포 함수\n",
        "- 항상 양의 값을 가져야 하며, 모든 범위의 PDF를 합한 값은 1임\n",
        "- f(x) >= 0\n",
        "- 분포내 특정 값에서의 확률은 0, P(X=a) = 0, 정의된 범위 내에서의 확률은 범위내의 pdf 영역 넓이(적분값)가 됨"
      ],
      "metadata": {
        "id": "yyQ4wn01FxlS"
      }
    },
    {
      "cell_type": "markdown",
      "source": [
        "#### 2-1. 표준정규분포"
      ],
      "metadata": {
        "id": "KBRfp5qyt5lv"
      }
    },
    {
      "cell_type": "code",
      "metadata": {
        "id": "TXHDkKnqvbNo",
        "colab": {
          "base_uri": "https://localhost:8080/",
          "height": 314
        },
        "outputId": "9de52f1f-1130-4447-f5f5-f13609f7c7f7"
      },
      "source": [
        "# 표준정규분포 객체 생성 및 그래프 그리기\n",
        "from scipy.stats import norm\n",
        "import pandas as pd\n",
        "import numpy as np\n",
        "import matplotlib.pyplot as plt\n",
        "\n",
        "rv = norm(loc=0, scale=1)  # loc=평균, scale=표준편차\n",
        "x = np.arange(-3, 3, 0.1)\n",
        "y1 = rv.pdf(x)\n",
        "y2 = norm.pdf(x, loc=0, scale=1)\n",
        "normal = pd.Series(y2, index=x)\n",
        "normal.plot(title='Normal PDF', figsize=(5, 3), grid=True, style='b-')\n",
        "plt.show()"
      ],
      "execution_count": null,
      "outputs": [
        {
          "output_type": "display_data",
          "data": {
            "text/plain": [
              "<Figure size 500x300 with 1 Axes>"
            ],
            "image/png": "[encoded data removed]"
          },
          "metadata": {}
        }
      ]
    },
    {
      "cell_type": "code",
      "source": [
        "# 표준정규분포 객체 생성 및 그래프 그리기 - loc, scale 대응\n",
        "from scipy.stats import norm\n",
        "import pandas as pd\n",
        "import numpy as np\n",
        "import matplotlib.pyplot as plt\n",
        "\n",
        "mloc, mscale = 0, 1\n",
        "\n",
        "rv = norm(loc=mloc, scale=mscale)  # loc=평균, scale=표준편차\n",
        "x = np.arange(mloc-8*mscale, mloc+8*mscale, 0.1)  # 4표준편차 범위로 지정\n",
        "y1 = rv.pdf(x)\n",
        "y2 = norm.pdf(x, loc=mloc, scale=mscale*0.5)\n",
        "y3 = norm.pdf(x, loc=mloc, scale=mscale*2)\n",
        "df = pd.DataFrame()\n",
        "df[f'normal_{mscale}'] = pd.Series(y1, index=x)\n",
        "df[f'normal_{mscale*0.5}'] = pd.Series(y2, index=x)\n",
        "df[f'normal_{mscale*2}'] = pd.Series(y3, index=x)\n",
        "df.plot(title='Normal PDF', figsize=(5, 3), grid=True)\n",
        "plt.show()"
      ],
      "metadata": {
        "id": "9zywD1S3Jjsz",
        "colab": {
          "base_uri": "https://localhost:8080/",
          "height": 314
        },
        "outputId": "04ba250b-ccb7-4773-9d76-3be6fd60f224"
      },
      "execution_count": null,
      "outputs": [
        {
          "output_type": "display_data",
          "data": {
            "text/plain": [
              "<Figure size 500x300 with 1 Axes>"
            ],
            "image/png": "[encoded data removed]"
          },
          "metadata": {}
        }
      ]
    },
    {
      "cell_type": "markdown",
      "source": [
        "#### 2-2. Student t 분포"
      ],
      "metadata": {
        "id": "eO8obvJLt9W_"
      }
    },
    {
      "cell_type": "code",
      "source": [
        "# Student t 분포 객체 생성 및 그래프 그리기\n",
        "from scipy.stats import t\n",
        "import pandas as pd\n",
        "import numpy as np\n",
        "import matplotlib.pyplot as plt\n",
        "\n",
        "dof = 3\n",
        "# 자유도가 dof 인 student t 확률분포 객체 만들기\n",
        "rv = t(df=dof)  # loc=0, scale=1\n",
        "x = np.arange(-3, 3, 0.1)\n",
        "y = rv.pdf(x)\n",
        "#print(x[:3], x[-3:])\n",
        "student_t3 = pd.Series(y, index=x)\n",
        "student_t3.plot(title='Student t PDF', figsize=(5, 3), grid=True, style='r-')\n",
        "plt.show()"
      ],
      "metadata": {
        "id": "L9QLBVbct23j",
        "colab": {
          "base_uri": "https://localhost:8080/",
          "height": 314
        },
        "outputId": "685c7b29-6b34-4ff0-e790-d60142b0775e"
      },
      "execution_count": null,
      "outputs": [
        {
          "output_type": "display_data",
          "data": {
            "text/plain": [
              "<Figure size 500x300 with 1 Axes>"
            ],
            "image/png": "[encoded data removed]"
          },
          "metadata": {}
        }
      ]
    },
    {
      "cell_type": "code",
      "source": [
        "# 표준정규분포와 스튜던트 t 분표 비교\n",
        "from scipy.stats import norm, t\n",
        "import pandas as pd\n",
        "import numpy as np\n",
        "import matplotlib.pyplot as plt\n",
        "\n",
        "dof = 3\n",
        "rv_normal = norm() # loc=0, scale=1\n",
        "rv_t3 = t(df=dof)  # loc=0, scale=1\n",
        "x = np.arange(-3, 3, 0.1)\n",
        "pdList = pd.DataFrame()\n",
        "pdList['standard_normal'] = rv_normal.pdf(x)\n",
        "pdList['student_t3'] = rv_t3.pdf(x)\n",
        "pdList.index = x\n",
        "pdList.plot(figsize=(5, 3), grid=True)\n",
        "plt.show()"
      ],
      "metadata": {
        "id": "Hsgc_O4gLHgy",
        "colab": {
          "base_uri": "https://localhost:8080/",
          "height": 291
        },
        "outputId": "0b182e2f-b7bc-4e99-96d3-55983ffb2917"
      },
      "execution_count": null,
      "outputs": [
        {
          "output_type": "display_data",
          "data": {
            "text/plain": [
              "<Figure size 500x300 with 1 Axes>"
            ],
            "image/png": "[encoded data removed]"
          },
          "metadata": {}
        }
      ]
    },
    {
      "cell_type": "markdown",
      "source": [
        "#### 2-3.지수분포\n"
      ],
      "metadata": {
        "id": "prIpVs-MuC4J"
      }
    },
    {
      "cell_type": "code",
      "source": [
        "# Exponential(지수)분포 객체 생성 및 그래프 그리기\n",
        "from scipy.stats import expon\n",
        "import pandas as pd\n",
        "import numpy as np\n",
        "import matplotlib.pyplot as plt\n",
        "# 포아송의 lambda (단위시간/단위공간에서 발생하는 사건의 평균 횟수)\n",
        "e_lambda = 2  \n",
        "#λ = e_lambda인 지수분포 객체만들기 \n",
        "x = np.arange(0, 3, 0.1)\n",
        "rv = expon(scale=1/e_lambda)\n",
        "y = rv.pdf(x)\n",
        "expon_s2 = pd.Series(y, index=x)\n",
        "expon_s2.plot(title='Exponential PDF', figsize=(5, 3), grid=True, style='g-')\n",
        "plt.show()"
      ],
      "metadata": {
        "id": "7cQk7pQJv0Pq",
        "colab": {
          "base_uri": "https://localhost:8080/",
          "height": 314
        },
        "outputId": "94ff045c-7625-4340-de62-87ecf786d4f9"
      },
      "execution_count": null,
      "outputs": [
        {
          "output_type": "display_data",
          "data": {
            "text/plain": [
              "<Figure size 500x300 with 1 Axes>"
            ],
            "image/png": "[encoded data removed]"
          },
          "metadata": {}
        }
      ]
    },
    {
      "cell_type": "code",
      "source": [
        "# Exponential(지수)분포 객체 생성 및 그래프 그리기\n",
        "from scipy.stats import expon\n",
        "import pandas as pd\n",
        "import numpy as np\n",
        "import matplotlib.pyplot as plt\n",
        "\n",
        "e_lambda = 2  # 포아송의 lambda (단위시간/단위공간에서 발생하는 사건의 평균 횟수)\n",
        "x = np.arange(0, 3, 0.1)\n",
        "rv = expon(scale=1/e_lambda)\n",
        "exp_df = pd.DataFrame()\n",
        "exp_df['expon_s2'] = rv.pdf(x) \n",
        "exp_df['expon_s4'] = expon.pdf(x, scale=1/4)\n",
        "exp_df['expon_s7'] = expon.pdf(x, scale=1/7)\n",
        "exp_df.index = x\n",
        "exp_df.plot(title='Exponential PDF', figsize=(5, 3), grid=True)\n",
        "plt.show()"
      ],
      "metadata": {
        "colab": {
          "base_uri": "https://localhost:8080/",
          "height": 314
        },
        "id": "3Ut_c9iS91uZ",
        "outputId": "c91013cd-b673-4c3e-acc3-33418791cb94"
      },
      "execution_count": null,
      "outputs": [
        {
          "output_type": "display_data",
          "data": {
            "text/plain": [
              "<Figure size 500x300 with 1 Axes>"
            ],
            "image/png": "[encoded data removed]"
          },
          "metadata": {}
        }
      ]
    },
    {
      "cell_type": "markdown",
      "source": [
        "#### 2-4.감마분포"
      ],
      "metadata": {
        "id": "pQNizd2PVHNl"
      }
    },
    {
      "cell_type": "code",
      "source": [
        "# Gamma(감마)분포 객체 생성 및 그래프 그리기\n",
        "from scipy.stats import gamma\n",
        "import pandas as pd\n",
        "import numpy as np\n",
        "import matplotlib.pyplot as plt\n",
        "n, g_lambda = 10, 2\n",
        "x = np.arange(0, 10, 0.01)\n",
        "y = gamma(a=n, scale=1/g_lambda).pdf(x)\n",
        "gm = pd.Series(y, index=x)\n",
        "gm.plot(title='Gamma PDF', figsize=(5, 3), grid=True, style='c-')\n",
        "plt.show()"
      ],
      "metadata": {
        "id": "wltUT9kHVKFX",
        "colab": {
          "base_uri": "https://localhost:8080/",
          "height": 314
        },
        "outputId": "92689608-9945-4244-b4f3-59fc3605413c"
      },
      "execution_count": null,
      "outputs": [
        {
          "output_type": "display_data",
          "data": {
            "text/plain": [
              "<Figure size 500x300 with 1 Axes>"
            ],
            "image/png": "[encoded data removed]"
          },
          "metadata": {}
        }
      ]
    },
    {
      "cell_type": "markdown",
      "source": [
        "### 3.이산형 확률분포 문제"
      ],
      "metadata": {
        "id": "I5HLZUO-a6Am"
      }
    },
    {
      "cell_type": "markdown",
      "source": [
        "CDF(Cumulative Distribution Function) : 누적 분포 함수\n",
        "- 어떤 확률 분포에 대해 확률 변수가 특정 값보다 작거나 같은 확률\n",
        "- f(x) = P(X <= x)\n",
        "- CDF를 미분하면 PDF, PDF를 적분하면 CDF가 됨"
      ],
      "metadata": {
        "id": "eMJ2RIvELREe"
      }
    },
    {
      "cell_type": "markdown",
      "source": [
        "### 3-1.기하분포 활용문제\n"
      ],
      "metadata": {
        "id": "wjx_yhTnhX-m"
      }
    },
    {
      "cell_type": "markdown",
      "source": [
        "#### 3-1a.이하일 확률\n",
        "- geom(p).cdf(x)\n",
        "- A씨가 계란후라이를 만들 때 노른자를 깨지 않을 확률이 0.2라고 한다. A씨가 적어도 5번 이내에 노른자를 깨지 않을 확률을 구하시오."
      ],
      "metadata": {
        "id": "GuCoo2PAhbYg"
      }
    },
    {
      "cell_type": "code",
      "source": [
        "from scipy.stats import geom\n",
        "#pmf(1) + pmf(2) + .. + pmf(5)\n",
        "result = round(geom(p=0.2).cdf(5), 4)\n",
        "print(result)"
      ],
      "metadata": {
        "colab": {
          "base_uri": "https://localhost:8080/"
        },
        "id": "NWL31smshedS",
        "outputId": "37e60901-e40c-40f8-c2b8-200f077a2305"
      },
      "execution_count": null,
      "outputs": [
        {
          "output_type": "stream",
          "name": "stdout",
          "text": [
            "0.6723\n"
          ]
        }
      ]
    },
    {
      "cell_type": "code",
      "source": [
        "rv = geom(p=0.2)\n",
        "result = rv.pmf(1) + rv.pmf(2) + rv.pmf(3) + rv.pmf(4) + rv.pmf(5)\n",
        "result = round(result, 4)\n",
        "print(result)"
      ],
      "metadata": {
        "colab": {
          "base_uri": "https://localhost:8080/"
        },
        "id": "rUiF1lhFVAmt",
        "outputId": "cc89893a-321d-4fbd-e46b-baec083d9001"
      },
      "execution_count": null,
      "outputs": [
        {
          "output_type": "stream",
          "name": "stdout",
          "text": [
            "0.6723\n"
          ]
        }
      ]
    },
    {
      "cell_type": "code",
      "source": [
        "rv = geom(p=0.2)\n",
        "x = range(1, 6)\n",
        "result = round(rv.pmf(x).sum(), 4)\n",
        "print(result)"
      ],
      "metadata": {
        "colab": {
          "base_uri": "https://localhost:8080/"
        },
        "id": "ODYKkJ0GVXbq",
        "outputId": "ac026281-9a89-48ba-addc-bb47df6a49d5"
      },
      "execution_count": null,
      "outputs": [
        {
          "output_type": "stream",
          "name": "stdout",
          "text": [
            "0.6723\n"
          ]
        }
      ]
    },
    {
      "cell_type": "markdown",
      "source": [
        "#### 3-1b.이상일 확률\n",
        "- 1 - geom(p).cdf(x)\n",
        "- 빅데이터분석기사 실기 합격률은 35%라고 한다. 이 시험에 2번 이상 응시해야 자격증 취득에 성공할 확률을 구하시오."
      ],
      "metadata": {
        "id": "7J1x1NMRj1ra"
      }
    },
    {
      "cell_type": "code",
      "source": [
        "from scipy.stats import geom\n",
        "\n",
        "result = round(1 - geom(p=0.35).cdf(1), 2)\n",
        "print(result)"
      ],
      "metadata": {
        "colab": {
          "base_uri": "https://localhost:8080/"
        },
        "id": "HElnRcWwkLmT",
        "outputId": "4c2f41f7-ce52-44b5-aae4-f2019b1dd6b1"
      },
      "execution_count": null,
      "outputs": [
        {
          "output_type": "stream",
          "name": "stdout",
          "text": [
            "0.65\n"
          ]
        }
      ]
    },
    {
      "cell_type": "markdown",
      "source": [
        "#### 3-1c. 특정 횟수일 확률\n",
        "- geom(p).cdf(x) - geom(p).cdf(x-1)\n",
        "- A 야구선수의 홈런 칠 확률이 5%일 때, 이 선수가 4번째 타석에서 홈런 칠 확률을 구하시오."
      ],
      "metadata": {
        "id": "YZsd5Zithwg8"
      }
    },
    {
      "cell_type": "code",
      "source": [
        "from scipy.stats import geom\n",
        "\n",
        "c = 0.05\n",
        "result = round(geom(p=c).pmf(4), 4)\n",
        "print(result)"
      ],
      "metadata": {
        "colab": {
          "base_uri": "https://localhost:8080/"
        },
        "id": "sSAV-meshe-5",
        "outputId": "61b9c523-4abb-48c0-d625-88ec38c70557"
      },
      "execution_count": null,
      "outputs": [
        {
          "output_type": "stream",
          "name": "stdout",
          "text": [
            "0.0429\n"
          ]
        }
      ]
    },
    {
      "cell_type": "code",
      "source": [
        "from scipy.stats import geom\n",
        "\n",
        "c = 0.05\n",
        "rv = geom(p=c)\n",
        "result = round(rv.cdf(4) - rv.cdf(3), 4)\n",
        "print(result)"
      ],
      "metadata": {
        "colab": {
          "base_uri": "https://localhost:8080/"
        },
        "id": "QILRHPj0Wimh",
        "outputId": "77879fc3-d212-4b4f-9a8c-883cc3469dde"
      },
      "execution_count": null,
      "outputs": [
        {
          "output_type": "stream",
          "name": "stdout",
          "text": [
            "0.0429\n"
          ]
        }
      ]
    },
    {
      "cell_type": "markdown",
      "source": [
        "###3-2.초기하분포 활용문제"
      ],
      "metadata": {
        "id": "UERuue_HoU_s"
      }
    },
    {
      "cell_type": "code",
      "source": [
        "# 파란공, 빨간공 각 8개씩, 5개의 공을 비복원으로 뽑고\n",
        "# 뽑은 공 중에서 3개 파란공, 2개 빨간 공일 확률\n",
        "from scipy.stats import hypergeom\n",
        "a, b, c = 16, 8, 5\n",
        "rv = hypergeom(M=a, n=b, N=c)\n",
        "round(rv.pmf(3), 5), round(rv.pmf(2), 5)"
      ],
      "metadata": {
        "colab": {
          "base_uri": "https://localhost:8080/"
        },
        "id": "oSGf_1a_m_Fo",
        "outputId": "028ca939-4744-475d-868b-fd79df6009a0"
      },
      "execution_count": null,
      "outputs": [
        {
          "output_type": "execute_result",
          "data": {
            "text/plain": [
              "(0.35897, 0.35897)"
            ]
          },
          "metadata": {},
          "execution_count": 49
        }
      ]
    },
    {
      "cell_type": "markdown",
      "source": [
        "#### 3-2a.이하일 확률\n",
        "- hypergeom(M, n, N).cdf(x)\n",
        "- 어느 회사에서 랜덤박스 선물셋트를 50개 준비했다. 선물셋트에 향수가 포함된 것이 8개 라고 한다. 비복원추출로 선물셋트 4개를 뽑았을 때, 향수가 포함된 선물이 2개 이하로 나올 확률을 구하시오."
      ],
      "metadata": {
        "id": "ylYPT0-EaEiW"
      }
    },
    {
      "cell_type": "code",
      "source": [
        "from scipy.stats import hypergeom\n",
        "a, b, c = 50, 8, 4\n",
        "result = round(hypergeom(M=a, n=b, N=c).cdf(2), 4)   # x=0, 1, 2\n",
        "print(result)"
      ],
      "metadata": {
        "id": "37zPsd8xZ3WD",
        "colab": {
          "base_uri": "https://localhost:8080/"
        },
        "outputId": "d26d50f1-6858-4206-cb44-8a6cad4d6fcc"
      },
      "execution_count": null,
      "outputs": [
        {
          "output_type": "stream",
          "name": "stdout",
          "text": [
            "0.9895\n"
          ]
        }
      ]
    },
    {
      "cell_type": "code",
      "source": [
        "from scipy.stats import hypergeom\n",
        "a, b, c = 50, 8, 4\n",
        "rv = hypergeom(M=a, n=b, N=c)\n",
        "result = round(rv.pmf(0) + rv.pmf(1) + rv.pmf(2), 4)   # x=0, 1, 2\n",
        "print(result)"
      ],
      "metadata": {
        "colab": {
          "base_uri": "https://localhost:8080/"
        },
        "id": "DNsBxpbzmiFg",
        "outputId": "5dff552e-3524-4a1d-c958-f95924fff18b"
      },
      "execution_count": null,
      "outputs": [
        {
          "output_type": "stream",
          "name": "stdout",
          "text": [
            "0.9895\n"
          ]
        }
      ]
    },
    {
      "cell_type": "code",
      "source": [
        "from scipy.stats import hypergeom\n",
        "a, b, c = 50, 8, 4\n",
        "rv = hypergeom(M=a, n=b, N=c)\n",
        "x = range(3)\n",
        "result = round(rv.pmf(x).sum(), 4)   # x=0, 1, 2\n",
        "print(result)"
      ],
      "metadata": {
        "colab": {
          "base_uri": "https://localhost:8080/"
        },
        "id": "bJVf4NpNmxyr",
        "outputId": "c6aa07d1-618e-49b0-8999-6378069a8bec"
      },
      "execution_count": null,
      "outputs": [
        {
          "output_type": "stream",
          "name": "stdout",
          "text": [
            "0.9895\n"
          ]
        }
      ]
    },
    {
      "cell_type": "markdown",
      "source": [
        "#### 3-2b.이상일 확률\n",
        "- 1 - hypergeom(M, n, N).cdf(x)\n",
        "- 짱구엄마가 사과 20개와 배 8를 사왔다. 비복원추출로 사과와 배 5개를 집었을 때 배가 2개 이상일 확률을 구하시오."
      ],
      "metadata": {
        "id": "8E3evxoMaHVu"
      }
    },
    {
      "cell_type": "code",
      "source": [
        "from scipy.stats import hypergeom\n",
        "a, b, c = 28, 8, 5\n",
        "result = round(1 - hypergeom(M=a, n=b, N=c).cdf(1), 4)\n",
        "print(result)"
      ],
      "metadata": {
        "id": "KLhBI5Wvpocp",
        "colab": {
          "base_uri": "https://localhost:8080/"
        },
        "outputId": "31bd199a-dfa7-4005-c62a-a299a1af6d43"
      },
      "execution_count": null,
      "outputs": [
        {
          "output_type": "stream",
          "name": "stdout",
          "text": [
            "0.4479\n"
          ]
        }
      ]
    },
    {
      "cell_type": "markdown",
      "source": [
        "#### 3-3c.특정 횟수일 확률\n",
        "- hypergeom(M, n, N).pmf(x)\n",
        "- hypergeom(M, n, N).cdf(x) - hypergeom(M, n, N).cdf(x-1)\n",
        "- 뽑기 기계에 꽝이 아닌 것이 10개, 꽝이 30개 포함되어 있다고 한다. 비복원추출로 4개를 뽑았을 때 이중 꽝이 아닌 것이 3개 나올 확률을 구하시오."
      ],
      "metadata": {
        "id": "rexJv41waJlQ"
      }
    },
    {
      "cell_type": "code",
      "source": [
        "from scipy.stats import hypergeom\n",
        "a, b, c = 40, 10, 4\n",
        "result = round(hypergeom(M=a, n=b, N=c).pmf(3), 4)\n",
        "print(result)"
      ],
      "metadata": {
        "id": "BRKez3D8oaEw",
        "colab": {
          "base_uri": "https://localhost:8080/"
        },
        "outputId": "0bb7acbc-7193-47f0-8f5b-42f6d7b30448"
      },
      "execution_count": null,
      "outputs": [
        {
          "output_type": "stream",
          "name": "stdout",
          "text": [
            "0.0394\n"
          ]
        }
      ]
    },
    {
      "cell_type": "code",
      "source": [
        "from scipy.stats import hypergeom\n",
        "a, b, c = 40, 10, 4\n",
        "rv = hypergeom(M=a, n=b, N=c)\n",
        "result = round(rv.cdf(3) - rv.cdf(2), 4)\n",
        "print(result)"
      ],
      "metadata": {
        "colab": {
          "base_uri": "https://localhost:8080/"
        },
        "id": "ka6JKAComYpN",
        "outputId": "c017c4ff-2c26-4af4-899d-af32bd24232c"
      },
      "execution_count": null,
      "outputs": [
        {
          "output_type": "stream",
          "name": "stdout",
          "text": [
            "0.0394\n"
          ]
        }
      ]
    },
    {
      "cell_type": "markdown",
      "source": [
        "### 3-3.포아송분포 활용문제"
      ],
      "metadata": {
        "id": "K1rog9T3_0Rj"
      }
    },
    {
      "cell_type": "markdown",
      "source": [
        "#### 3-3a.이하일 확률\n",
        "- poisson(mu).cdf(x)\n",
        "- 어느 AS센터에 1시간당 평균 180건의 전화가 온다. 이때 1분 동안 걸려오는 전화 요청이 4건 이하일 확률을 구하시오."
      ],
      "metadata": {
        "id": "cnWQ55BuEolc"
      }
    },
    {
      "cell_type": "code",
      "source": [
        "from scipy.stats import poisson\n",
        "mu = 180/60\n",
        "result = poisson(mu=mu).cdf(4)\n",
        "print(round(result, 4))"
      ],
      "metadata": {
        "colab": {
          "base_uri": "https://localhost:8080/"
        },
        "id": "SJlLoUZbJRBk",
        "outputId": "b41be376-4c39-494d-9df5-969daeff244d"
      },
      "execution_count": null,
      "outputs": [
        {
          "output_type": "stream",
          "name": "stdout",
          "text": [
            "0.8153\n"
          ]
        }
      ]
    },
    {
      "cell_type": "markdown",
      "source": [
        "####3-3b.이상일 확률\n",
        "- 1- poisson(mu).cdf(x)\n",
        "- 어느 가게에 1시간당 평균 8명의 손님이 온다. 이때, 1시간 동안 손님이 6명 이상 올 확률을 구하시오."
      ],
      "metadata": {
        "id": "HIgHSsuoE57m"
      }
    },
    {
      "cell_type": "code",
      "source": [
        "from scipy.stats import poisson\n",
        "mu = 8\n",
        "result = 1 - poisson(mu=mu).cdf(5)\n",
        "print(round(result, 4))"
      ],
      "metadata": {
        "colab": {
          "base_uri": "https://localhost:8080/"
        },
        "id": "IJ1-531YWlTE",
        "outputId": "0e852382-03b7-46ea-b7fb-73db15224a39"
      },
      "execution_count": null,
      "outputs": [
        {
          "output_type": "stream",
          "name": "stdout",
          "text": [
            "0.8088\n"
          ]
        }
      ]
    },
    {
      "cell_type": "markdown",
      "source": [
        "#### 3-3c.특정 개수일 확률\n",
        "- poisson(mu).pmf(x)\n",
        "- poisson(mu).cdf(x) - poisson(mu).cdf(x-1)\n",
        "- 출판사에서 원고 검수를 6 페이지 하였는데 오타가 총 12개 발견되었다고 한다. 이 원고에서 어떤 한 페이지를 검수하였을 때, 오타가 2개 나올 확률을 구하시오.\n"
      ],
      "metadata": {
        "id": "O9SIeT9WFGnz"
      }
    },
    {
      "cell_type": "code",
      "source": [
        "from scipy.stats import poisson\n",
        "\n",
        "mu=2\n",
        "result = poisson(mu=mu).pmf(2)\n",
        "print(round(result, 4))"
      ],
      "metadata": {
        "colab": {
          "base_uri": "https://localhost:8080/"
        },
        "id": "iOPyqdniXzMA",
        "outputId": "83deb125-bed4-462c-d294-178c8b0cebe3"
      },
      "execution_count": null,
      "outputs": [
        {
          "output_type": "stream",
          "name": "stdout",
          "text": [
            "0.2707\n"
          ]
        }
      ]
    },
    {
      "cell_type": "code",
      "source": [
        "from scipy.stats import poisson\n",
        "\n",
        "mu=2\n",
        "result = poisson(mu=mu).cdf(2) - poisson(mu=mu).cdf(1)\n",
        "print(round(result, 4))"
      ],
      "metadata": {
        "colab": {
          "base_uri": "https://localhost:8080/"
        },
        "id": "X-T_BXxIkbTs",
        "outputId": "2bb626ba-df5e-401e-82fb-c3485d5b1629"
      },
      "execution_count": null,
      "outputs": [
        {
          "output_type": "stream",
          "name": "stdout",
          "text": [
            "0.2707\n"
          ]
        }
      ]
    },
    {
      "cell_type": "markdown",
      "source": [
        "## 4.연속형 확률분포 문제"
      ],
      "metadata": {
        "id": "w0KuaMQEe6oR"
      }
    },
    {
      "cell_type": "markdown",
      "source": [
        "### 4-1.정규분포 활용문제\n",
        "- loc : 평균, scale : 표준편차\n",
        "- x (확률변수) : 평균\n"
      ],
      "metadata": {
        "id": "dPm04FbL6nmO"
      }
    },
    {
      "cell_type": "markdown",
      "source": [
        "#### 4-1a.이하일 확률\n",
        "- norm(loc=평균, scale=표준편차).cdf(x) 사용\n",
        "- Z회사의 USB 수명을 조사하였더니 USB의 평균 수명은 5000시간이고, 표준편차가 100시간인 정규분포를 따른다고 한다. USB의 수명이 4800시간 이하일 확률을 구하시오\n",
        " \n"
      ],
      "metadata": {
        "id": "SySulfa57UCZ"
      }
    },
    {
      "cell_type": "code",
      "source": [
        "from scipy.stats import norm\n",
        "mu = 5000\n",
        "std = 100\n",
        "\n",
        "result = norm(loc=mu, scale=std).cdf(4800)\n",
        "print(round(result, 4))"
      ],
      "metadata": {
        "colab": {
          "base_uri": "https://localhost:8080/"
        },
        "id": "Mo8SfzEN9Tl9",
        "outputId": "5496778d-9cc7-498c-8942-4c2e8dd0d9ba"
      },
      "execution_count": null,
      "outputs": [
        {
          "output_type": "stream",
          "name": "stdout",
          "text": [
            "0.0228\n"
          ]
        }
      ]
    },
    {
      "cell_type": "markdown",
      "source": [
        "#### 4-1b.이상일 확률\n",
        "- 1 - norm(loc=평균, scale=표준편차).cdf(x) 사용\n",
        "- A씨는 냉장고의 수명을 조사하였다. 냉장고의 평균 수명은 10년이고, 표준편차가 2년인 정규분포를 따른다고 한다.  냉장고의 수명이 14년 이상일 확률을 구하시오.\n"
      ],
      "metadata": {
        "id": "ZRpbZtwO7b4z"
      }
    },
    {
      "cell_type": "code",
      "source": [
        "from scipy.stats import norm\n",
        "mu = 10\n",
        "std = 2\n",
        "\n",
        "result = 1 - norm(loc=mu, scale=std).cdf(14)\n",
        "print(round(result, 4))"
      ],
      "metadata": {
        "colab": {
          "base_uri": "https://localhost:8080/"
        },
        "id": "oHCbCFMlq0uy",
        "outputId": "b9fcf2db-af1d-4d53-eb5a-0b0514d902d6"
      },
      "execution_count": null,
      "outputs": [
        {
          "output_type": "stream",
          "name": "stdout",
          "text": [
            "0.0228\n"
          ]
        }
      ]
    },
    {
      "cell_type": "markdown",
      "source": [
        "#### 4-1c.특정 구간일 확률\n",
        "- norm(loc=평균, scale=표준편차).cdf(큰값) - norm(loc=평균, scale=표준편차).cdf(작은값)\n",
        "- X회사에서 생산되는 계란은 평균 무게가 80g 이고 분산이 100g인 정규분포를 따른다고 한다. 계란의 평균 무게가 55g ~ 90g일 확률을 구하시오.\n"
      ],
      "metadata": {
        "id": "00zA_5OB7mXl"
      }
    },
    {
      "cell_type": "code",
      "source": [
        "from scipy.stats import norm\n",
        "\n",
        "mu = 80\n",
        "std = 100 ** 0.5\n",
        "rv = norm(loc=mu, scale=std)\n",
        "result = rv.cdf(90) - rv.cdf(55)\n",
        "print(round(result, 4))"
      ],
      "metadata": {
        "colab": {
          "base_uri": "https://localhost:8080/"
        },
        "id": "jWVdxK3Yr7zK",
        "outputId": "c9c7bc68-fa29-4389-e1f7-a42ca3e8d4ae"
      },
      "execution_count": null,
      "outputs": [
        {
          "output_type": "stream",
          "name": "stdout",
          "text": [
            "0.8351\n"
          ]
        }
      ]
    },
    {
      "cell_type": "markdown",
      "source": [
        "#### 4-1d.정규분포 신뢰구간 \n",
        "- (통계량 – 오차한계) ~ (통계량 + 오차한계)\n",
        "- 오차한계 = 표본오차, 임계값 * 𝜎/√𝑛 \n",
        "- https://docs.scipy.org/doc/scipy/reference/generated/scipy.stats.norm.html\n",
        "- norm.interval(confidence, loc=mu, scale=stderr)\n",
        "- norm.ppf((1+confidence)/2, loc=mu, scale=stderr)\n",
        "- scipy.stats.sem(data)로 stderr 구하기 가능\n"
      ],
      "metadata": {
        "id": "J9AJN7XIfsJB"
      }
    },
    {
      "cell_type": "markdown",
      "source": [
        "어느 배 농장에서 수확한 배의 평균 무게(𝝁)에 대해 알아보기 위해 36개의 배를 추출하여 무게를측정하였더니 평균이 602g, 표준편차가 30g이 나왔다고 한다. 이때 배의 평균 무게 (𝝁) 의 95% 신뢰구간을 구하여라\n"
      ],
      "metadata": {
        "id": "pwshc_p0YWw2"
      }
    },
    {
      "cell_type": "code",
      "source": [
        "from scipy.stats import norm\n",
        "n = 36\n",
        "mu = 602\n",
        "std = 30\n",
        "confidence = 0.95\n",
        "stderr = std/n**0.5\n",
        "a, b = norm.interval(confidence, loc=mu, scale=stderr)\n",
        "print(round(a, 4), round(b, 4))"
      ],
      "metadata": {
        "id": "rSay-AkJlzNG",
        "colab": {
          "base_uri": "https://localhost:8080/"
        },
        "outputId": "b6d0ffd5-89c4-4276-cb27-509d98b40015"
      },
      "execution_count": null,
      "outputs": [
        {
          "output_type": "stream",
          "name": "stdout",
          "text": [
            "592.2002 611.7998\n"
          ]
        }
      ]
    },
    {
      "cell_type": "code",
      "source": [
        "from scipy.stats import norm\n",
        "# ppf 사용\n",
        "from scipy.stats import norm\n",
        "n = 36\n",
        "mu = 602\n",
        "std = 30\n",
        "confidence = 0.95\n",
        "stderr = std/n**0.5\n",
        "alpha = (1 - confidence) / 2\n",
        "a, b = norm.ppf([alpha, confidence+alpha], loc=mu, scale=stderr)\n",
        "print(round(a, 4), round(b, 4))"
      ],
      "metadata": {
        "id": "IRt2a6USmvK5",
        "colab": {
          "base_uri": "https://localhost:8080/"
        },
        "outputId": "f4e95846-0c06-4ca9-c0e4-90d7d1beb0cc"
      },
      "execution_count": null,
      "outputs": [
        {
          "output_type": "stream",
          "name": "stdout",
          "text": [
            "592.2002 611.7998\n"
          ]
        }
      ]
    },
    {
      "cell_type": "code",
      "source": [
        "confidence = 0.95\n",
        "alpha1 = (1 - confidence) / 2\n",
        "alpha2 = (1 + confidence) / 2  # confidence+alpha\n",
        "print(alpha1, alpha2)"
      ],
      "metadata": {
        "colab": {
          "base_uri": "https://localhost:8080/"
        },
        "id": "uHRe2MrUnmJ5",
        "outputId": "335016c5-a89e-4c77-ba5c-785bee390ed9"
      },
      "execution_count": null,
      "outputs": [
        {
          "output_type": "stream",
          "name": "stdout",
          "text": [
            "0.025000000000000022 0.975\n"
          ]
        }
      ]
    },
    {
      "cell_type": "markdown",
      "source": [
        "### 4-2.t분포 활용문제"
      ],
      "metadata": {
        "id": "RwRDLzVjYeVU"
      }
    },
    {
      "cell_type": "markdown",
      "source": [
        "#### 4-2a.이하일 확률\n",
        "상수원 수질을 나타내는 수치 중 하나로 ‘단위부피당 평균 세균수’가 있으며, A 호수의 10곳의 수질을 조사한 단위 부피당 세균수가 a.csv 파일에 기록되어 있다. 이 자료로부터 호수의 단위부피당 평균 세균수(𝝁)가 200 이하일 확률을 구하라.\n"
      ],
      "metadata": {
        "id": "l32mmBG8zKQr"
      }
    },
    {
      "cell_type": "code",
      "source": [
        "import pandas as pd\n",
        "from scipy.stats import t\n",
        "\n",
        "# data_02/a.csv\n",
        "s = pd.read_csv('data_02/a.csv')['water_quality']\n",
        "mu, std = s.agg(['mean', 'std'])\n",
        "rv = t(df=len(s)-1, loc=mu, scale=std)\n",
        "print(round(rv.cdf(200), 4))    # 200 이하일 확률 \n",
        "print(round(1-rv.cdf(200), 4))    # 200 이상일 확률 \n",
        "print(round(rv.cdf(220) - rv.cdf(190), 4))    # 190 ~ 220 구간일 확률 "
      ],
      "metadata": {
        "colab": {
          "base_uri": "https://localhost:8080/"
        },
        "id": "jy8PExU0za0n",
        "outputId": "beef2b46-f0e9-4498-b82f-fe071801455b"
      },
      "execution_count": null,
      "outputs": [
        {
          "output_type": "stream",
          "name": "stdout",
          "text": [
            "0.6493\n",
            "0.3507\n",
            "0.5947\n"
          ]
        }
      ]
    },
    {
      "cell_type": "markdown",
      "source": [
        "#### 4-2b.t분포 신뢰구간\n",
        "모평균이 𝝁, 표준편차가 𝝈=8 인 정규분포를 따르는 모집단이 있다.  이 모집단에서 크기가 25인 표본을 추출하여 구한 평균이 42.7이었다. 이때, 모평균 𝝁 이 위치할 95% 신뢰도의 \n",
        "신뢰구간을 구하라."
      ],
      "metadata": {
        "id": "gbkzaLxM5_0V"
      }
    },
    {
      "cell_type": "code",
      "source": [
        "from scipy.stats import t\n",
        "# interval\n",
        "n = 25\n",
        "mu = 42.7\n",
        "std = 8\n",
        "confidence = 0.95\n",
        "stderr = std / (n**0.5)\n",
        "A, B = t(df=n-1).interval(confidence, loc=mu, scale=stderr)\n",
        "print(f'{A:.4f} ~ {B:.4f}')"
      ],
      "metadata": {
        "id": "LE3H_HLtgrF3",
        "colab": {
          "base_uri": "https://localhost:8080/"
        },
        "outputId": "f6c6d97f-1157-4f0f-89f5-0f50f4502cb2"
      },
      "execution_count": null,
      "outputs": [
        {
          "output_type": "stream",
          "name": "stdout",
          "text": [
            "39.3978 ~ 46.0022\n"
          ]
        }
      ]
    },
    {
      "cell_type": "code",
      "source": [
        "from scipy.stats import t\n",
        "# ppf\n",
        "n = 25\n",
        "mu = 42.7\n",
        "std = 8\n",
        "confidence = 0.95\n",
        "stderr = std / (n**0.5)\n",
        "alpha = (1 - confidence) / 2\n",
        "A, B = t.ppf([alpha, confidence+alpha], df=n-1, loc=mu, scale=stderr)\n",
        "print(f'{A:.4f} ~ {B:.4f}')"
      ],
      "metadata": {
        "colab": {
          "base_uri": "https://localhost:8080/"
        },
        "id": "py4w1yszL67o",
        "outputId": "8ae1f1d0-3485-4075-d16c-473af01da708"
      },
      "execution_count": null,
      "outputs": [
        {
          "output_type": "stream",
          "name": "stdout",
          "text": [
            "39.3978 ~ 46.0022\n"
          ]
        }
      ]
    },
    {
      "cell_type": "markdown",
      "source": [
        "#### 4-2c.t분포 신뢰구간\n",
        "우주선 제작에 사용되는 합금의 평균 장력 𝝁 를 추정하고자 한다. 15개의 새 합금조각으로부터 장력을 측정한 결과 \n",
        "평균이 39.3, 표준편차가 2.6으로 나타났다. 합금의 평균 장력 𝝁에 대한 90% 신뢰구간을 구하라. \n"
      ],
      "metadata": {
        "id": "Lo1xn6w_fw3U"
      }
    },
    {
      "cell_type": "code",
      "source": [
        "from scipy.stats import t\n",
        "# interval\n",
        "\n",
        "n = 15\n",
        "mu = 39.3\n",
        "std = 2.6\n",
        "confidence = 0.9\n",
        "stderr = std / (n**0.5)\n",
        "#A, B = t(df=n-1).interval(confidence, loc=mu, scale=stderr)\n",
        "A, B = t.interval(confidence, df=n-1, loc=mu, scale=stderr)\n",
        "print(f'{A:.4f} ~ {B:.4f}')   # 95% 37.8602 ~ 40.7398,  90% 38.1176 ~ 40.4824"
      ],
      "metadata": {
        "colab": {
          "base_uri": "https://localhost:8080/"
        },
        "id": "qex3qf606IwO",
        "outputId": "dbc54ee7-b565-4039-a061-d58eb5787613"
      },
      "execution_count": null,
      "outputs": [
        {
          "output_type": "stream",
          "name": "stdout",
          "text": [
            "38.1176 ~ 40.4824\n"
          ]
        }
      ]
    },
    {
      "cell_type": "code",
      "source": [
        "from scipy.stats import t\n",
        "# ppf\n",
        "n = 15\n",
        "mu = 39.3\n",
        "std = 2.6\n",
        "confidence = 0.9\n",
        "stderr = std / (n**0.5)\n",
        "alpha = (1-confidence) / 2\n",
        "A, B = t.ppf([alpha, confidence+alpha], df=n-1, loc=mu, scale=stderr)\n",
        "print(f'{A:.4f} ~ {B:.4f}')"
      ],
      "metadata": {
        "colab": {
          "base_uri": "https://localhost:8080/"
        },
        "id": "YhVlmDNJgsNf",
        "outputId": "b7ab90a2-06f3-43cf-98ce-861d6ea009c0"
      },
      "execution_count": null,
      "outputs": [
        {
          "output_type": "stream",
          "name": "stdout",
          "text": [
            "38.1176 ~ 40.4824\n"
          ]
        }
      ]
    },
    {
      "cell_type": "markdown",
      "source": [
        "#### 4-2d.20대 수면시간 - t분포 사용\n",
        "- interval(confidence, df, loc=0, scale=1)\n",
        "- 20대 수면 평균 시간(𝝁)에 대해 추정하고자 한다.  sleepage.csv에 'stime20s' column을 사용하여, 20대 수면 평균 시간에 대해 99% 신뢰구간을 구하라."
      ],
      "metadata": {
        "id": "p8KR6WN3tnEP"
      }
    },
    {
      "cell_type": "code",
      "source": [
        "import pandas as pd\n",
        "from scipy.stats import t, sem\n",
        "\n",
        "sleep = pd.read_csv('data_02/sleepage.csv')['stime20s']\n",
        "n = len(sleep)\n",
        "mu, std = sleep.agg(['mean', 'std'])\n",
        "confidence = 0.99\n",
        "stderr = sem(sleep)\n",
        "A, B = t.interval(confidence, df=n-1, loc=mu, scale=stderr)\n",
        "print(f'{A:.4f} ~ {B:.4f}')"
      ],
      "metadata": {
        "id": "hvmSipyntnEP",
        "colab": {
          "base_uri": "https://localhost:8080/"
        },
        "outputId": "b4fca920-1c37-4e78-b122-8f746cad0a9a"
      },
      "execution_count": null,
      "outputs": [
        {
          "output_type": "stream",
          "name": "stdout",
          "text": [
            "5.2154 ~ 7.0846\n"
          ]
        }
      ]
    },
    {
      "cell_type": "markdown",
      "source": [
        "ppf를 사용하는 방법"
      ],
      "metadata": {
        "id": "GCBw3m02tnEQ"
      }
    },
    {
      "cell_type": "code",
      "source": [
        "import pandas as pd\n",
        "from scipy.stats import t, sem\n",
        "\n",
        "sleep = pd.read_csv('data_02/sleepage.csv')['stime20s']\n",
        "n = len(sleep)\n",
        "mu, std = sleep.agg(['mean', 'std'])\n",
        "confidence = 0.99\n",
        "stderr = sem(sleep)\n",
        "alpha = (1-confidence) / 2\n",
        "A, B = t.ppf([alpha, confidence + alpha], df=n-1, loc=mu, scale=stderr)\n",
        "print(f'{A:.4f} ~ {B:.4f}')"
      ],
      "metadata": {
        "id": "qQarOQfwtnEQ",
        "colab": {
          "base_uri": "https://localhost:8080/"
        },
        "outputId": "b30d9105-6744-407c-a38a-54a22ae253a3"
      },
      "execution_count": null,
      "outputs": [
        {
          "output_type": "stream",
          "name": "stdout",
          "text": [
            "5.2154 ~ 7.0846\n"
          ]
        }
      ]
    },
    {
      "cell_type": "code",
      "source": [
        "import pandas as pd\n",
        "from scipy.stats import t, sem\n",
        "\n",
        "def get_t_interval(n, mu, std, confidence):\n",
        "    stderr = std / (n**0.5)\n",
        "    alpha = (1-confidence) / 2\n",
        "    A, B = t.ppf([alpha, confidence + alpha], df=n-1, loc=mu, scale=stderr)\n",
        "    return A, B\n",
        "\n",
        "sleep = pd.read_csv('data_02/sleepage.csv')['stime20s']\n",
        "A, B = get_t_interval(len(sleep), sleep.mean(), sleep.std(), 0.99)\n",
        "print(f'{A:.4f} ~ {B:.4f}')"
      ],
      "metadata": {
        "colab": {
          "base_uri": "https://localhost:8080/"
        },
        "id": "UDVEISEemJvk",
        "outputId": "066b1e9f-5fa0-4530-c389-ee20bb72dbdc"
      },
      "execution_count": null,
      "outputs": [
        {
          "output_type": "stream",
          "name": "stdout",
          "text": [
            "5.2154 ~ 7.0846\n"
          ]
        }
      ]
    },
    {
      "cell_type": "code",
      "source": [
        "import pandas as pd\n",
        "from scipy.stats import t, sem\n",
        "\n",
        "def get_t_interval2(sleep, confidence):\n",
        "    n = len(sleep)\n",
        "    mu, std = sleep.agg(['mean', 'std'])\n",
        "    stderr = sem(sleep)\n",
        "    alpha = (1-confidence) / 2\n",
        "    A, B = t.ppf([alpha, confidence + alpha], df=n-1, loc=mu, scale=stderr)\n",
        "    return A, B\n",
        "\n",
        "sleep = pd.read_csv('data_02/sleepage.csv')['stime20s']\n",
        "A, B = get_t_interval2(sleep, 0.99)\n",
        "print(f'{A:.4f} ~ {B:.4f}')"
      ],
      "metadata": {
        "colab": {
          "base_uri": "https://localhost:8080/"
        },
        "id": "L3knQYoinCs1",
        "outputId": "cdd68da3-0df4-4308-8116-d7c6945c2cba"
      },
      "execution_count": null,
      "outputs": [
        {
          "output_type": "stream",
          "name": "stdout",
          "text": [
            "5.2154 ~ 7.0846\n"
          ]
        }
      ]
    },
    {
      "cell_type": "markdown",
      "source": [
        "### 4-3.지수분포 활용문제\n",
        "- 단위 시간당 발생하는 평균 사건의 수 : λ \n",
        "- 발생하는 사건들 사이의 시간 : x (확률변수)\n"
      ],
      "metadata": {
        "id": "PrBfzjBSuSY-"
      }
    },
    {
      "cell_type": "markdown",
      "source": [
        "#### 4-3a.이하일 확률\n",
        "- expon(scale=1/λ).cdf(x) 사용\n",
        "- 전자 제품의 5년간 고장횟수가 평균 1회이고, 지수분포를 따른다. 1년 안에 고장 날 확률을 구하시오.\n"
      ],
      "metadata": {
        "id": "1Qdqf5xKuSY_"
      }
    },
    {
      "cell_type": "code",
      "source": [
        "from scipy.stats import expon\n",
        "\n",
        "# 단위 시간 : 년\n",
        "e_lambda = 1/5\n",
        "result = expon(scale=1/e_lambda).cdf(1).round(4)\n",
        "print(result)"
      ],
      "metadata": {
        "colab": {
          "base_uri": "https://localhost:8080/"
        },
        "outputId": "0f70020e-a9b5-47f1-9fd4-705950f9bf40",
        "id": "QetZcZ9xuSY_"
      },
      "execution_count": null,
      "outputs": [
        {
          "output_type": "stream",
          "name": "stdout",
          "text": [
            "0.1813\n"
          ]
        }
      ]
    },
    {
      "cell_type": "code",
      "source": [
        "from scipy.stats import expon\n",
        "\n",
        "# 단위 시간 : 년\n",
        "e_lambda = 5\n",
        "result = expon(scale=e_lambda).cdf(1).round(4)\n",
        "print(result)"
      ],
      "metadata": {
        "colab": {
          "base_uri": "https://localhost:8080/"
        },
        "id": "kWx02hKSyV_y",
        "outputId": "c1e80603-0625-46a3-9ed4-a8b8e053e0b7"
      },
      "execution_count": null,
      "outputs": [
        {
          "output_type": "stream",
          "name": "stdout",
          "text": [
            "0.1813\n"
          ]
        }
      ]
    },
    {
      "cell_type": "markdown",
      "source": [
        "#### 4-3b.이상일 확률\n",
        "- 1 - expon(scale=1/λ).cdf(x) 사용\n",
        "- 어느 회사에서 생산하는 냉장고 평균수명은 10년이고, 지수분포를 따른다. 이 냉장고의 수명이 10년 이상 지속될 확률을 구하시오."
      ],
      "metadata": {
        "id": "n8eiIJ32uSY_"
      }
    },
    {
      "cell_type": "code",
      "source": [
        "from scipy.stats import expon\n",
        "\n",
        "# 단위 시간 : 년\n",
        "e_lambda = 1/10\n",
        "result = (1 - expon(scale=1/e_lambda).cdf(10)).round(4)\n",
        "print(result)"
      ],
      "metadata": {
        "colab": {
          "base_uri": "https://localhost:8080/"
        },
        "outputId": "99473594-243d-4549-af9c-317cc9974187",
        "id": "kXvhO2nduSZA"
      },
      "execution_count": null,
      "outputs": [
        {
          "output_type": "stream",
          "name": "stdout",
          "text": [
            "0.3679\n"
          ]
        }
      ]
    },
    {
      "cell_type": "code",
      "source": [
        "from scipy.stats import expon\n",
        "\n",
        "# 단위 시간 : 년\n",
        "e_lambda = 10\n",
        "result = (1 - expon(scale=e_lambda).cdf(10)).round(4)\n",
        "print(result)"
      ],
      "metadata": {
        "colab": {
          "base_uri": "https://localhost:8080/"
        },
        "id": "UcVrkWbFykQX",
        "outputId": "945903e1-1f8e-426b-e49e-9bcf2d1326b2"
      },
      "execution_count": null,
      "outputs": [
        {
          "output_type": "stream",
          "name": "stdout",
          "text": [
            "0.3679\n"
          ]
        }
      ]
    },
    {
      "cell_type": "markdown",
      "source": [
        "#### 4-3c.특정 구간일 확률\n",
        "- expon(scale=1/λ).cdf(큰값) - expon(scale=1/λ).cdf(작은값)\n",
        "- 어느 커피샵에서 커피를 구입하기 위해 대기하는 시간이 평균 7분이고, 지수분포를 따른다. \n",
        "이 커피샵에 갔을 때 대기하는 시간이 4분에서 10분일 확률을 구하시오."
      ],
      "metadata": {
        "id": "xOLgD_tUuSZA"
      }
    },
    {
      "cell_type": "code",
      "source": [
        "from scipy.stats import expon\n",
        "\n",
        "# 단위 시간 : 분\n",
        "e_lambda = 1/7\n",
        "result = expon(scale=1/e_lambda).cdf(10) - expon(scale=1/e_lambda).cdf(4)\n",
        "print(round(result, 4))"
      ],
      "metadata": {
        "colab": {
          "base_uri": "https://localhost:8080/"
        },
        "outputId": "927afeda-547c-4ee8-d709-59a318e3f0b8",
        "id": "iJnJdqQ_uSZA"
      },
      "execution_count": null,
      "outputs": [
        {
          "output_type": "stream",
          "name": "stdout",
          "text": [
            "0.3251\n"
          ]
        }
      ]
    },
    {
      "cell_type": "code",
      "source": [
        "from scipy.stats import expon\n",
        "\n",
        "# 단위 시간 : 분\n",
        "e_lambda = 1/7\n",
        "rv = expon(scale=1/e_lambda)\n",
        "result = (rv.cdf(10) - rv.cdf(4)).round(4)\n",
        "print(result)"
      ],
      "metadata": {
        "id": "vzwFATPhuSZA",
        "colab": {
          "base_uri": "https://localhost:8080/"
        },
        "outputId": "b1b4b1c4-3cf9-41d8-8905-caa7c214fbf5"
      },
      "execution_count": null,
      "outputs": [
        {
          "output_type": "stream",
          "name": "stdout",
          "text": [
            "0.3251\n"
          ]
        }
      ]
    },
    {
      "cell_type": "code",
      "source": [
        "from scipy.stats import expon\n",
        "\n",
        "# 단위 시간 : 분\n",
        "e_lambda = 7\n",
        "rv = expon(scale=e_lambda)\n",
        "result = (rv.cdf(10) - rv.cdf(4)).round(4)\n",
        "print(result)"
      ],
      "metadata": {
        "colab": {
          "base_uri": "https://localhost:8080/"
        },
        "id": "-TXxf_Dayoil",
        "outputId": "6447648e-786a-460e-90a0-9cfca29e3a9a"
      },
      "execution_count": null,
      "outputs": [
        {
          "output_type": "stream",
          "name": "stdout",
          "text": [
            "0.3251\n"
          ]
        }
      ]
    },
    {
      "cell_type": "markdown",
      "source": [
        "### 4-4.감마분포 활용문제\n",
        "- 확률변수 x = 𝜶 개의 사건이 발생할 때까지 걸리는 시간 (어떤 사건이 여러 번 발생하는 데 걸리는 시간)\n",
        "- n: 사건발생건수, λ : 단위시간/공간 당 발생하는 사건 평균 건 수"
      ],
      "metadata": {
        "id": "5e8JRgWce9Ph"
      }
    },
    {
      "cell_type": "markdown",
      "source": [
        "#### 4-4a.이하일 확률\n",
        "- gamma(a=n, scale=1/λ)\n",
        "- A씨는 한 시간에 평균 6개의 택배를 배송한다. 30개의 택배를 배송할 때 걸리는 시간이 5시간 이하로 소요될 확률을 구하시오. "
      ],
      "metadata": {
        "id": "fbvzAOzHhwCZ"
      }
    },
    {
      "cell_type": "code",
      "source": [
        "from scipy.stats import gamma\n",
        "\n",
        "# 단위시간 : hour(시간)\n",
        "n = 30\n",
        "g_lambda = 6\n",
        "result = gamma(a=n, scale=1/g_lambda).cdf(5).round(4)\n",
        "print(result)"
      ],
      "metadata": {
        "colab": {
          "base_uri": "https://localhost:8080/"
        },
        "id": "4AFFMTdFjlVV",
        "outputId": "f47754fc-fdca-48e5-86c1-7fc8b2fdc9c3"
      },
      "execution_count": null,
      "outputs": [
        {
          "output_type": "stream",
          "name": "stdout",
          "text": [
            "0.5243\n"
          ]
        }
      ]
    },
    {
      "cell_type": "markdown",
      "source": [
        "#### 4-4b.이상일 확률\n",
        "- 1 - gamma(a=n, scale=1/λ).cdf(x)\n",
        "- B은행은 한 명의 고객응대에 평균 5분이 소요된다.  이 은행에서 30명의 고객응대에 2시간 이상으로 소요될 확률을 구하시오. "
      ],
      "metadata": {
        "id": "Eerg0pzmh0Jv"
      }
    },
    {
      "cell_type": "code",
      "source": [
        "from scipy.stats import gamma\n",
        "\n",
        "# 단위시간 : hour(시간)\n",
        "n = 30\n",
        "g_lambda = 60/5  # 12\n",
        "result = (1 - gamma(a=n, scale=1/g_lambda).cdf(2)).round(4)\n",
        "print(result)"
      ],
      "metadata": {
        "colab": {
          "base_uri": "https://localhost:8080/"
        },
        "id": "rqCcLsVJlcLi",
        "outputId": "00789ba4-16e8-4b52-de0d-c044151b7483"
      },
      "execution_count": null,
      "outputs": [
        {
          "output_type": "stream",
          "name": "stdout",
          "text": [
            "0.8679\n"
          ]
        }
      ]
    },
    {
      "cell_type": "markdown",
      "source": [
        "#### 4-4c.특정 구간일 확률\n",
        "- gamma(a=n, scale=1/λ).cdf(큰값) - gamma(a=n, 1/λ).cdf(작은값)\n",
        "- C씨는 비즈 목걸이를 만드는데 평균 30분 걸린다.  5개 비즈 목걸이를 만들 때까지 걸리는 시간이 2시간에서 4시간 사이 소요될 확률을 구하시오"
      ],
      "metadata": {
        "id": "x2noqIlch0sy"
      }
    },
    {
      "cell_type": "code",
      "source": [
        "from scipy.stats import gamma\n",
        "\n",
        "# 단위시간 : hour(시간)\n",
        "n = 5\n",
        "g_lambda = 2\n",
        "\n",
        "rv = gamma(a=n, scale=1/g_lambda)\n",
        "result = (rv.cdf(4) - rv.cdf(2)).round(4)\n",
        "print(result)"
      ],
      "metadata": {
        "colab": {
          "base_uri": "https://localhost:8080/"
        },
        "id": "Xn6SY-onlOg7",
        "outputId": "ae936f22-baa4-4e63-f83d-c2184a436fff"
      },
      "execution_count": null,
      "outputs": [
        {
          "output_type": "stream",
          "name": "stdout",
          "text": [
            "0.5292\n"
          ]
        }
      ]
    },
    {
      "cell_type": "code",
      "source": [
        "####  카이제곱, F분포 등을 추가해 보려고 합니다. (우선 모수, 비모수 검정을 녹화합니다)"
      ],
      "metadata": {
        "id": "oXXwgkTT36go"
      },
      "execution_count": null,
      "outputs": []
    }
  ]
}