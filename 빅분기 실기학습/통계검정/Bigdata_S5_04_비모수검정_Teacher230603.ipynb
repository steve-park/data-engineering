{
  "nbformat": 4,
  "nbformat_minor": 0,
  "metadata": {
    "kernelspec": {
      "display_name": "Python 3",
      "language": "python",
      "name": "python3"
    },
    "language_info": {
      "codemirror_mode": {
        "name": "ipython",
        "version": 3
      },
      "file_extension": ".py",
      "mimetype": "text/x-python",
      "name": "python",
      "nbconvert_exporter": "python",
      "pygments_lexer": "ipython3",
      "version": "3.8.3"
    },
    "colab": {
      "provenance": [],
      "collapsed_sections": [
        "c1OAl4TEAzIr",
        "v9WM-wsiAzIu"
      ]
    }
  },
  "cells": [
    {
      "cell_type": "markdown",
      "metadata": {
        "id": "1QBL63Yfh5D1"
      },
      "source": [
        "### 0.데이터 다운로드\n"
      ]
    },
    {
      "cell_type": "code",
      "metadata": {
        "colab": {
          "base_uri": "https://localhost:8080/"
        },
        "id": "Rxwkisfeh_Nl",
        "outputId": "6d095a8b-6893-4bc2-8f74-132d9f633283"
      },
      "source": [
        "!git clone https://github.com/Soyoung-Yoon/data_02"
      ],
      "execution_count": null,
      "outputs": [
        {
          "output_type": "stream",
          "name": "stdout",
          "text": [
            "Cloning into 'data_02'...\n",
            "remote: Enumerating objects: 72, done.\u001b[K\n",
            "remote: Counting objects: 100% (25/25), done.\u001b[K\n",
            "remote: Compressing objects: 100% (25/25), done.\u001b[K\n",
            "remote: Total 72 (delta 7), reused 0 (delta 0), pack-reused 47\u001b[K\n",
            "Unpacking objects: 100% (72/72), 448.80 KiB | 2.09 MiB/s, done.\n"
          ]
        }
      ]
    },
    {
      "cell_type": "code",
      "metadata": {
        "id": "cMlARWe_iB8p"
      },
      "source": [
        "import scipy\n",
        "scipy.__version__"
      ],
      "execution_count": null,
      "outputs": []
    },
    {
      "cell_type": "code",
      "metadata": {
        "id": "qNc6dXIQiDfN"
      },
      "source": [
        "!pip install scipy==1.6.0"
      ],
      "execution_count": null,
      "outputs": []
    },
    {
      "cell_type": "markdown",
      "source": [
        "### 1.카이제곱 적합도 검정"
      ],
      "metadata": {
        "id": "l_R2bnWbupEz"
      }
    },
    {
      "cell_type": "markdown",
      "source": [
        "####1-1.특정비율\n",
        "A학급 40명의 혈액형 비율을 A, B, O, AB 각각 20%, 20%, 30%, 30%로 예상하였다. 실제 측정 결과 16, 16, 4, 4 명인 경우의 적합도 검정을 수행하여 보자\n"
      ],
      "metadata": {
        "id": "neenT8e9PFS_"
      }
    },
    {
      "cell_type": "markdown",
      "source": [
        "- 𝑯_𝟎 : 변수의 분포가 기대 분포와 같다\n",
        "- 𝑯_𝟏 : 변수의 분포가 기대 분포와 같지 않다\n"
      ],
      "metadata": {
        "id": "g54axiaywrY-"
      }
    },
    {
      "cell_type": "code",
      "source": [
        "# [파일로 주어진 경우 직접 개수 계산]\n",
        "import pandas as pd\n",
        "data = {'blood_type': ['A']*16 + ['B']*16 + ['O']*4 + ['AB']*4}\n",
        "data = pd.DataFrame(data)\n",
        "data['blood_type'] = pd.Categorical(data['blood_type'], \n",
        "                                    categories=['A', 'B', 'O', 'AB'])\n",
        "#print(data)\n",
        "observed = data['blood_type'].value_counts().sort_index()\n",
        "print(observed.to_list())"
      ],
      "metadata": {
        "id": "BuXBEihxffVT",
        "colab": {
          "base_uri": "https://localhost:8080/"
        },
        "outputId": "54a1836a-ca75-4b2b-e012-9b3068865b1d"
      },
      "execution_count": null,
      "outputs": [
        {
          "output_type": "stream",
          "name": "stdout",
          "text": [
            "[16, 16, 4, 4]\n"
          ]
        }
      ]
    },
    {
      "cell_type": "code",
      "source": [
        "from scipy.stats import chisquare\n",
        "import numpy as np\n",
        "observed = [16, 16, 4, 4]\n",
        "expected = sum(observed) * np.array([0.2, 0.2, 0.3, 0.3])  #[8, 8, 12, 12]\n",
        "print(expected)\n",
        "statistic, pvalue = chisquare(observed, expected)\n",
        "print(f'chisq={statistic:.2f}, p-value={pvalue:.2f}')\n",
        "print('기각' if pvalue < 0.05 else '채택')\n",
        "print('변수의 분포가 기대 분포와 같지 않다')"
      ],
      "metadata": {
        "colab": {
          "base_uri": "https://localhost:8080/"
        },
        "id": "wwAhhxQzCZno",
        "outputId": "9d74d17d-58b7-4534-8513-41467456c260"
      },
      "execution_count": null,
      "outputs": [
        {
          "output_type": "stream",
          "name": "stdout",
          "text": [
            "[ 8.  8. 12. 12.]\n",
            "chisq=26.67, p-value=0.00\n",
            "기각\n",
            "변수의 분포가 기대 분포와 같지 않다\n"
          ]
        }
      ]
    },
    {
      "cell_type": "markdown",
      "source": [
        "#### 1-2.동일비율\n",
        "4개의 범주에 대해 동일한 비율이라고 가정하고, 실제측정 한 표본 분포가 다음과 같을 때, 카이제곱 적합도 검정을 수행하여 보자\n",
        "\n",
        "         observed = [54, 46, 60, 40]\n"
      ],
      "metadata": {
        "id": "VCRZhIkAPR0R"
      }
    },
    {
      "cell_type": "markdown",
      "source": [
        "- 𝑯_𝟎 : 변수의 분포에 비율 차이가 없다.\n",
        "- 𝑯_𝟏 : 변수의 분포에 비율 차이가 있다."
      ],
      "metadata": {
        "id": "5TweFIxdwom9"
      }
    },
    {
      "cell_type": "code",
      "source": [
        "from scipy.stats import chisquare\n",
        "import numpy as np\n",
        "observed = [54, 46, 60, 40]\n",
        "expected = sum(observed) * np.array([0.25]*4)\n",
        "print(expected)\n",
        "statistic, pvalue = chisquare(observed, expected)  # OE\n",
        "print(f'chisq={statistic:.2f}, p-value={pvalue:.2f}')\n",
        "print('기각' if pvalue < 0.05 else '채택')\n",
        "print('변수의 분포에 비율 차이가 없다')"
      ],
      "metadata": {
        "colab": {
          "base_uri": "https://localhost:8080/"
        },
        "id": "uA_Ax2E9DWlu",
        "outputId": "2e21ca68-7a58-4bc0-fda3-a650fc6fb866"
      },
      "execution_count": null,
      "outputs": [
        {
          "output_type": "stream",
          "name": "stdout",
          "text": [
            "[50. 50. 50. 50.]\n",
            "chisq=4.64, p-value=0.20\n",
            "채택\n",
            "변수의 분포에 비율 차이가 없다\n"
          ]
        }
      ]
    },
    {
      "cell_type": "markdown",
      "metadata": {
        "id": "SxRu53YNAzIQ"
      },
      "source": [
        "### 2.카이제곱 동질성/독립성 검정\n",
        "- 두 범주형 자료 간의 차이 및 연관성을 분석하는 검증 방법\n",
        "- 관찰빈도(실제값)가 기대빈도(기댓값)와 유의한 차이가 있는지 검증\n",
        "- 귀무가설이 기각되면 범주별 기대빈도와 관측빈도의 차이가 크다/독립이 아니다라고 할 수 있음\n",
        "- 기대빈도 5미만의 셀이 전체의 20% 보다 작아야 함 --> 데이터 양이 적은 경우 Fisher’s Exact Test 사용 (2 * 2)\n"
      ]
    },
    {
      "cell_type": "markdown",
      "source": [
        "#### 2-1.카이제곱 동질성 검정\n",
        "\n"
      ],
      "metadata": {
        "id": "GCJnrWia2dVy"
      }
    },
    {
      "cell_type": "markdown",
      "source": [
        "다음의 교차표를 사용하여 성별별 핸드폰 모델 선호도 분포가 같은지 검정하라.\n",
        "\n",
        "           model_A  model_B  model_C\n",
        "        M       10       40       50\n",
        "        F       30       60       10\n",
        "\n",
        "- 핸드폰 모델만 변수로 보고 성별은 비교 대상이 되는 그룹으로 해석\n",
        "- 남자 그룹, 여자그룹의 표본을 각각 추출하여 각 표본의 핸드폰 모델 선호도를 조사함\n",
        "- H0 : 성별별 핸드폰 모델 선호도 분포는 같다\n",
        "- H1 : 성별별 핸드폰 모델 선호도 분포가 같지 않다        "
      ],
      "metadata": {
        "id": "sv_Bkar39ekk"
      }
    },
    {
      "cell_type": "code",
      "source": [
        "from scipy.stats import chi2_contingency\n",
        "print(help(chi2_contingency))"
      ],
      "metadata": {
        "id": "KVPz4fZ7NaV7"
      },
      "execution_count": null,
      "outputs": []
    },
    {
      "cell_type": "code",
      "metadata": {
        "id": "0cSvCzSTr_HM",
        "colab": {
          "base_uri": "https://localhost:8080/"
        },
        "outputId": "88208f33-6193-44da-dbf8-dc66f542c901"
      },
      "source": [
        "import pandas as pd\n",
        "from scipy.stats import chi2_contingency\n",
        "\n",
        "crs_table = pd.DataFrame([[10, 40, 50], [30, 60, 10]], \n",
        "                         index=['M', 'F'], \n",
        "                columns=['model_A', 'model_B', 'model_C'])\n",
        "\n",
        "print(crs_table)\n",
        "chi_statistic, p, df, expected = chi2_contingency(crs_table)\n",
        "print(f'chi 스퀘어 값: {chi_statistic:.4f}',\n",
        "      f'p-value (0.05): {p:.4f}',\n",
        "      f'자유도 수: {df}',\n",
        "      f'기대값:\\n{pd.DataFrame(expected)}',\n",
        "      f'측정값:\\n{crs_table}', sep='\\n')\n",
        "print('기각' if p < 0.05 else '채택')\n",
        "# 대립가설 : 성별별 핸드폰 모델 선호도 분포가 같지 않다"
      ],
      "execution_count": null,
      "outputs": [
        {
          "output_type": "stream",
          "name": "stdout",
          "text": [
            "   model_A  model_B  model_C\n",
            "M       10       40       50\n",
            "F       30       60       10\n",
            "chi 스퀘어 값: 40.6667\n",
            "p-value (0.05): 0.0000\n",
            "자유도 수: 2\n",
            "기대값:\n",
            "      0     1     2\n",
            "0  20.0  50.0  30.0\n",
            "1  20.0  50.0  30.0\n",
            "측정값:\n",
            "   model_A  model_B  model_C\n",
            "M       10       40       50\n",
            "F       30       60       10\n",
            "기각\n"
          ]
        }
      ]
    },
    {
      "cell_type": "markdown",
      "source": [
        "####2-2.카이제곱 독립성 검정\n",
        "data_chi.csv 파일을 사용하여 당뇨와 비만 사이의 관계가 독립인지 검정하라.\n",
        "- 귀무가설 : 당뇨와 비만 사이에 관계는 독립이다.\n",
        "-대립가설 : 당뇨와 비만 사이에 관계는 독립이 아니다."
      ],
      "metadata": {
        "id": "_7ocSatdo6Fa"
      }
    },
    {
      "cell_type": "code",
      "metadata": {
        "colab": {
          "base_uri": "https://localhost:8080/"
        },
        "id": "xFdtbLsfAzIm",
        "outputId": "aa81e9b6-9cc8-41e0-aef5-bd9670b778ce"
      },
      "source": [
        "# [1] 데이터 가져오기\n",
        "import pandas as pd\n",
        "from scipy.stats import chi2_contingency\n",
        "data = pd.read_csv('./data_02/data_chi.csv')\n",
        "print(data)"
      ],
      "execution_count": null,
      "outputs": [
        {
          "output_type": "stream",
          "name": "stdout",
          "text": [
            "   당뇨 여부 비만 여부\n",
            "0      Y     N\n",
            "1      N     Y\n",
            "2      N     N\n",
            "3      N     N\n",
            "4      N     Y\n",
            "..   ...   ...\n",
            "95     N     N\n",
            "96     N     N\n",
            "97     Y     N\n",
            "98     N     N\n",
            "99     N     N\n",
            "\n",
            "[100 rows x 2 columns]\n"
          ]
        }
      ]
    },
    {
      "cell_type": "code",
      "metadata": {
        "colab": {
          "base_uri": "https://localhost:8080/"
        },
        "id": "PkuYPjfhAzIo",
        "outputId": "1f94f729-e6d5-4927-bc8a-6c815599b7ed"
      },
      "source": [
        "# [2] 카이제곱 분석을 위한 분할표 만들기\n",
        "crs_table = pd.crosstab(data['당뇨 여부'], data['비만 여부'])\n",
        "print(crs_table)"
      ],
      "execution_count": null,
      "outputs": [
        {
          "output_type": "stream",
          "name": "stdout",
          "text": [
            "비만 여부   N   Y\n",
            "당뇨 여부        \n",
            "N      62  22\n",
            "Y      12   4\n"
          ]
        }
      ]
    },
    {
      "cell_type": "code",
      "metadata": {
        "colab": {
          "base_uri": "https://localhost:8080/"
        },
        "id": "aaF4JuDgAzIq",
        "outputId": "6f90cc1e-44cf-477b-fff8-750d7165fa83"
      },
      "source": [
        "# [3] 카이스퀘어 분석\n",
        "chi_statistic, p, df, expected = chi2_contingency(crs_table)\n",
        "print(f'chi 스퀘어 값: {chi_statistic:.4f}',\n",
        "      f'p-value (0.05): {p:.4f}',\n",
        "      f'자유도 수: {df}',\n",
        "      f'기대값:\\n{pd.DataFrame(expected)}',\n",
        "      f'측정값:\\n{crs_table}', sep='\\n')\n",
        "print('기각' if p < 0.05 else '채택')"
      ],
      "execution_count": null,
      "outputs": [
        {
          "output_type": "stream",
          "name": "stdout",
          "text": [
            "chi 스퀘어 값: 0.0000\n",
            "p-value (0.05): 1.0000\n",
            "자유도 수: 1\n",
            "기대값:\n",
            "       0      1\n",
            "0  62.16  21.84\n",
            "1  11.84   4.16\n",
            "측정값:\n",
            "비만 여부   N   Y\n",
            "당뇨 여부        \n",
            "N      62  22\n",
            "Y      12   4\n",
            "채택\n"
          ]
        }
      ]
    },
    {
      "cell_type": "code",
      "metadata": {
        "id": "K1zoZrmeAzIr"
      },
      "source": [
        "# [4] 결론\n",
        "# p > 0.05 이므로, 귀무가설을 채택\n",
        "# 당뇨와 비만 사이에 관계는 독립이다(연관성이 없다)"
      ],
      "execution_count": null,
      "outputs": []
    },
    {
      "cell_type": "markdown",
      "metadata": {
        "id": "c1OAl4TEAzIr"
      },
      "source": [
        "#### 2-3.피셔의 정확검정\n",
        "- 만약 사건 발생 수, 빈도 수가 극히 적거나(특히 5개 미만의 빈도가 전체 셀 중 20%이상 존재하는 경우) 서로의 빈도 수의 차이가 많이나는 경우에는 카이제곱 검정의 정확도는 낮아집니다. \n",
        "- 이때 필요한 검정이 바로 '피셔의 정확검정'입니다."
      ]
    },
    {
      "cell_type": "markdown",
      "source": [
        "가설설정\n",
        "- 귀무가설 : 약과 효과의 관계는 독립이다. \n",
        "- 대립가설 : 약과 효과의 관계가 독립이 아니다."
      ],
      "metadata": {
        "id": "CYYcCASq47Qq"
      }
    },
    {
      "cell_type": "code",
      "metadata": {
        "id": "co0B6Sp7AzIs",
        "colab": {
          "base_uri": "https://localhost:8080/"
        },
        "outputId": "5fb685fe-5cbf-428c-d680-20f9d1d05254"
      },
      "source": [
        "import pandas as pd\n",
        "from scipy.stats import fisher_exact\n",
        "\n",
        "# [1] 분할표 생성\n",
        "data = pd.DataFrame([[1, 6], [5, 2]])\n",
        "data.columns = ['가짜 약','진짜 약']\n",
        "data.index = ['효과있음', '효과없음']\n",
        "print(data)"
      ],
      "execution_count": null,
      "outputs": [
        {
          "output_type": "stream",
          "name": "stdout",
          "text": [
            "      가짜 약  진짜 약\n",
            "효과있음     1     6\n",
            "효과없음     5     2\n"
          ]
        }
      ]
    },
    {
      "cell_type": "code",
      "metadata": {
        "colab": {
          "base_uri": "https://localhost:8080/"
        },
        "id": "XgrrakEyAzIt",
        "outputId": "b0739f70-b227-4591-efbf-517670311681"
      },
      "source": [
        "# [2] 피셔의 정확 검정\n",
        "oddsratio, pvalue = fisher_exact(data)\n",
        "print(f'oddsratio:{oddsratio:.4f}, p-value: {pvalue:.4f}')"
      ],
      "execution_count": null,
      "outputs": [
        {
          "output_type": "stream",
          "name": "stdout",
          "text": [
            "oddsratio:0.0667, p-value: 0.1026\n"
          ]
        }
      ]
    },
    {
      "cell_type": "code",
      "metadata": {
        "id": "540ZpO-2AzIt",
        "colab": {
          "base_uri": "https://localhost:8080/"
        },
        "outputId": "9b4d0ddf-c695-4b49-d89a-e5e8800520ed"
      },
      "source": [
        "# [3] 결과\n",
        "print('기각' if pvalue < 0.05 else '채택')\n",
        "# pvalue >= 0.05 이기 때문에 귀무가설을 채택\n",
        "# 약과 효과의 관계는 독립이다.(연관성이 없음)"
      ],
      "execution_count": null,
      "outputs": [
        {
          "output_type": "stream",
          "name": "stdout",
          "text": [
            "채택\n"
          ]
        }
      ]
    },
    {
      "cell_type": "markdown",
      "metadata": {
        "id": "v9WM-wsiAzIu"
      },
      "source": [
        "####2-4.아내와 남편의 집안일\n",
        "- 귀무가설 : 집안일의 종류와 수행하는 사람의 관계는 독립이다.\n",
        "- 대립가설 : 집안일의 종류와 수행하는 사람의 관계가 독립이 아니다."
      ]
    },
    {
      "cell_type": "code",
      "metadata": {
        "scrolled": true,
        "colab": {
          "base_uri": "https://localhost:8080/"
        },
        "id": "aUjCofq6vbzX",
        "outputId": "e777047c-cf5b-4beb-d161-61c2c398dedf"
      },
      "source": [
        "# [1] crosstable 형태의 데이터 읽기\n",
        "import pandas as pd\n",
        "\n",
        "data = pd.read_csv('data_02/housetasks.csv', index_col=0)\n",
        "print(data.shape)\n",
        "data.info()"
      ],
      "execution_count": null,
      "outputs": [
        {
          "output_type": "stream",
          "name": "stdout",
          "text": [
            "(13, 4)\n",
            "<class 'pandas.core.frame.DataFrame'>\n",
            "Index: 13 entries, Laundry to Holidays\n",
            "Data columns (total 4 columns):\n",
            " #   Column       Non-Null Count  Dtype\n",
            "---  ------       --------------  -----\n",
            " 0   Wife         13 non-null     int64\n",
            " 1   Alternating  13 non-null     int64\n",
            " 2   Husband      13 non-null     int64\n",
            " 3   Jointly      13 non-null     int64\n",
            "dtypes: int64(4)\n",
            "memory usage: 520.0+ bytes\n"
          ]
        }
      ]
    },
    {
      "cell_type": "code",
      "source": [
        "print(data.head(5))"
      ],
      "metadata": {
        "colab": {
          "base_uri": "https://localhost:8080/"
        },
        "id": "5zUtl3f-Xa30",
        "outputId": "7febf084-5630-4403-e407-4a09e6e92c01"
      },
      "execution_count": null,
      "outputs": [
        {
          "output_type": "stream",
          "name": "stdout",
          "text": [
            "            Wife  Alternating  Husband  Jointly\n",
            "Laundry      156           14        2        4\n",
            "Main_meal    124           20        5        4\n",
            "Dinner        77           11        7       13\n",
            "Breakfeast    82           36       15        7\n",
            "Tidying       53           11        1       57\n"
          ]
        }
      ]
    },
    {
      "cell_type": "code",
      "metadata": {
        "colab": {
          "base_uri": "https://localhost:8080/"
        },
        "id": "TUkflhpsvbzX",
        "outputId": "60f7ede5-a9d8-418b-8650-399a073c2b5b"
      },
      "source": [
        "# [2] 카이제곱 독립성 검정\n",
        "from scipy.stats import chi2_contingency\n",
        "\n",
        "chi_statistic, p, df, expected = chi2_contingency(data)\n",
        "print(f'chi 스퀘어 값: {chi_statistic:.4f}',\n",
        "      f'p-value (0.05): {p:.4f}',\n",
        "      f'자유도 수: {df}',\n",
        "      f'기대값:\\n{pd.DataFrame(expected)}', sep='\\n')"
      ],
      "execution_count": null,
      "outputs": [
        {
          "output_type": "stream",
          "name": "stdout",
          "text": [
            "chi 스퀘어 값: 1944.4562\n",
            "p-value (0.05): 0.0000\n",
            "자유도 수: 36\n",
            "기대값:\n",
            "            0          1          2          3\n",
            "0   60.550459  25.633028  38.449541  51.366972\n",
            "1   52.637615  22.283257  33.424885  44.654243\n",
            "2   37.155963  15.729358  23.594037  31.520642\n",
            "3   48.165138  20.389908  30.584862  40.860092\n",
            "4   41.972477  17.768349  26.652523  35.606651\n",
            "5   38.876147  16.457569  24.686353  32.979931\n",
            "6   41.284404  17.477064  26.215596  35.022936\n",
            "7   33.027523  13.981651  20.972477  28.018349\n",
            "8   47.821101  20.244266  30.366399  40.568234\n",
            "9   38.876147  16.457569  24.686353  32.979931\n",
            "10  47.821101  20.244266  30.366399  40.568234\n",
            "11  56.766055  24.030963  36.046445  48.156537\n",
            "12  55.045872  23.302752  34.954128  46.697248\n"
          ]
        }
      ]
    },
    {
      "cell_type": "code",
      "metadata": {
        "id": "JEUuPpmGvbzX",
        "colab": {
          "base_uri": "https://localhost:8080/"
        },
        "outputId": "c780be45-ff7e-4a86-86e2-ab6b12d5f632"
      },
      "source": [
        "# [3] 결과\n",
        "print('기각' if p < 0.05 else '채택')\n",
        "# p-value < 0.05 때문에, 귀무가설을 기각\n",
        "# 대립가설 : 집안일의 종류와 수행하는 사람의 관계가 독립이 아니다. (연관성이 있음)"
      ],
      "execution_count": null,
      "outputs": [
        {
          "output_type": "stream",
          "name": "stdout",
          "text": [
            "기각\n"
          ]
        }
      ]
    },
    {
      "cell_type": "markdown",
      "source": [
        "####2-5.분류 모델에서 활용\n",
        "- 2개 범주형 변수의 관계에 대해 검정한다"
      ],
      "metadata": {
        "id": "BPdRVNRiNorp"
      }
    },
    {
      "cell_type": "code",
      "source": [
        "# [1] 파일 불러오기\n",
        "import pandas as pd\n",
        "data = pd.read_csv('https://raw.githubusercontent.com/Soyoung-Yoon/bigdata/main/1st_Train.csv')\n",
        "X = data.drop(columns=['Reached.on.Time_Y.N'])\n",
        "Y = data[['ID', 'Reached.on.Time_Y.N']]"
      ],
      "metadata": {
        "id": "bDz_WRXS87QI"
      },
      "execution_count": null,
      "outputs": []
    },
    {
      "cell_type": "code",
      "source": [
        "#[2] X,Y가 분리되어 있는 경우 병합하기\n",
        "XY = pd.merge(X, Y, on='ID')\n",
        "\n",
        "#[3] 컬럼별 값의 가짓수 확인하기\n",
        "print(XY.nunique())"
      ],
      "metadata": {
        "colab": {
          "base_uri": "https://localhost:8080/"
        },
        "id": "6-Ld0VziPKIG",
        "outputId": "158a08ae-eb05-4d01-dcc4-03e31a11741f"
      },
      "execution_count": null,
      "outputs": [
        {
          "output_type": "stream",
          "name": "stdout",
          "text": [
            "ID                     10999\n",
            "Warehouse_block            5\n",
            "Mode_of_Shipment           3\n",
            "Customer_care_calls        6\n",
            "Customer_rating            5\n",
            "Cost_of_the_Product      215\n",
            "Prior_purchases            8\n",
            "Product_importance         3\n",
            "Gender                     2\n",
            "Discount_offered          65\n",
            "Weight_in_gms           4034\n",
            "Reached.on.Time_Y.N        2\n",
            "dtype: int64\n"
          ]
        }
      ]
    },
    {
      "cell_type": "code",
      "source": [
        "#[4] 범주형 변수 확인하기 \n",
        "# (설명을 보고 확인하는 것이 정확함)\n",
        "XY.info()"
      ],
      "metadata": {
        "colab": {
          "base_uri": "https://localhost:8080/"
        },
        "id": "gcEfce_LPzYo",
        "outputId": "ba7b2d15-aba7-415b-fe93-947944dcd358"
      },
      "execution_count": null,
      "outputs": [
        {
          "output_type": "stream",
          "name": "stdout",
          "text": [
            "<class 'pandas.core.frame.DataFrame'>\n",
            "Int64Index: 10999 entries, 0 to 10998\n",
            "Data columns (total 12 columns):\n",
            " #   Column               Non-Null Count  Dtype \n",
            "---  ------               --------------  ----- \n",
            " 0   ID                   10999 non-null  int64 \n",
            " 1   Warehouse_block      10999 non-null  object\n",
            " 2   Mode_of_Shipment     10999 non-null  object\n",
            " 3   Customer_care_calls  10999 non-null  int64 \n",
            " 4   Customer_rating      10999 non-null  int64 \n",
            " 5   Cost_of_the_Product  10999 non-null  int64 \n",
            " 6   Prior_purchases      10999 non-null  int64 \n",
            " 7   Product_importance   10999 non-null  object\n",
            " 8   Gender               10999 non-null  object\n",
            " 9   Discount_offered     10999 non-null  int64 \n",
            " 10  Weight_in_gms        10999 non-null  int64 \n",
            " 11  Reached.on.Time_Y.N  10999 non-null  int64 \n",
            "dtypes: int64(8), object(4)\n",
            "memory usage: 1.1+ MB\n"
          ]
        }
      ]
    },
    {
      "cell_type": "markdown",
      "source": [
        "- (독립)범주형 변수 : 'Warehouse_block', 'Mode_of_Shipment', 'Product_importance', 'Gender', 'Customer_rating', 'Customer_care_calls', 'Prior_purchases'\n",
        "- (종속)범주형 변수 : 'Reached.on.Time_Y.N'\n",
        "- 귀무가설 : 'Reached.on.Time_Y.N'과 feature는 독립이다. (연관성이 없다.)\n",
        "- 대립가설 : 'Reached.on.Time_Y.N'과 feature는 독립이 아니다. (연관성이 있다.)\n"
      ],
      "metadata": {
        "id": "m1CLeC-_SFKv"
      }
    },
    {
      "cell_type": "code",
      "source": [
        "data['Customer_care_calls'].value_counts()"
      ],
      "metadata": {
        "id": "BJm_F2ZLZeUC"
      },
      "execution_count": null,
      "outputs": []
    },
    {
      "cell_type": "code",
      "source": [
        "# [5] 카이제곱 독립성 검정\n",
        "from scipy.stats import chi2_contingency\n",
        "feature = 'Customer_rating'\n",
        "crs_table = pd.crosstab(index=data['Reached.on.Time_Y.N'], \n",
        "                        columns=data[feature])\n",
        "chi_statistic, p, df, expected = chi2_contingency(crs_table)\n",
        "print(f'chi 스퀘어 값: {chi_statistic:.4f}',\n",
        "      f'p-value (0.05): {p:.4f}',\n",
        "      f'자유도 수: {df}',\n",
        "      f'기대값:\\n{pd.DataFrame(expected)}', sep='\\n')"
      ],
      "metadata": {
        "colab": {
          "base_uri": "https://localhost:8080/"
        },
        "id": "dOX9QW4KkzoV",
        "outputId": "7433de91-848d-4049-e0e5-00f92a1ded24"
      },
      "execution_count": null,
      "outputs": [
        {
          "output_type": "stream",
          "name": "stdout",
          "text": [
            "chi 스퀘어 값: 3.2000\n",
            "p-value (0.05): 0.5249\n",
            "자유도 수: 4\n",
            "기대값:\n",
            "             0            1            2            3           4\n",
            "0   901.396491   873.164833   903.009728   882.844259   875.58469\n",
            "1  1333.603509  1291.835167  1335.990272  1306.155741  1295.41531\n"
          ]
        }
      ]
    },
    {
      "cell_type": "code",
      "source": [
        "# [6] 결론\n",
        "print('기각' if p < 0.05 else '채택')\n",
        "# p-value >= 0.05, 귀무가설을 채택\n",
        "# 'Reached.on.Time_Y.N'과 feature는 독립이다.(연관성이 없음)"
      ],
      "metadata": {
        "colab": {
          "base_uri": "https://localhost:8080/"
        },
        "id": "U2ueoNEPTj9Q",
        "outputId": "187ae34d-31cd-47a9-ab05-f3a00acb01a7"
      },
      "execution_count": null,
      "outputs": [
        {
          "output_type": "stream",
          "name": "stdout",
          "text": [
            "채택\n"
          ]
        }
      ]
    },
    {
      "cell_type": "code",
      "source": [
        "features = ['Warehouse_block', 'Mode_of_Shipment', 'Product_importance', \n",
        "            'Gender', 'Customer_rating', 'Customer_care_calls',\n",
        "            'Prior_purchases']\n",
        "target = 'Reached.on.Time_Y.N'\n",
        "\n",
        "def my_chi2(data, target, feature):\n",
        "    crs_table = pd.crosstab(data[target], data[feature])\n",
        "    chi_statistic, p, df, expected = chi2_contingency(crs_table)\n",
        "    # print(f'chi 스퀘어 값: {chi_statistic:.4f}',\n",
        "    #     f'p-value (0.05): {p:.4f}',\n",
        "    #     f'자유도 수: {df}',\n",
        "    #     f'기대값:\\n{pd.DataFrame(expected)}', sep='\\n')\n",
        "    return f\"{feature}: {'기각' if p < 0.05 else '채택'}\"\n",
        "\n",
        "for x in features:\n",
        "    result = my_chi2(data, 'Reached.on.Time_Y.N', x)\n",
        "    print(result)"
      ],
      "metadata": {
        "id": "GM6GHFFykA2_",
        "colab": {
          "base_uri": "https://localhost:8080/"
        },
        "outputId": "2f7c0e38-f5ae-4558-a5f2-ed60c05ee2cc"
      },
      "execution_count": null,
      "outputs": [
        {
          "output_type": "stream",
          "name": "stdout",
          "text": [
            "Warehouse_block: 채택\n",
            "Mode_of_Shipment: 채택\n",
            "Product_importance: 기각\n",
            "Gender: 채택\n",
            "Customer_rating: 채택\n",
            "Customer_care_calls: 기각\n",
            "Prior_purchases: 기각\n"
          ]
        }
      ]
    },
    {
      "cell_type": "markdown",
      "metadata": {
        "id": "3RbZJzgisWPn"
      },
      "source": [
        "### 3.Wilcoxon Signed Rank Test\n",
        "- 일표본/대응표본 T검정에서 정규성 가정이 만족되지 않을 때 사용하는 비모수 검정법\n",
        "- 일표본/대응표본 T검정과는 달리 **중앙값에 관한 결과를 얻을 수 있음**.\n",
        "- 가정\n",
        "  1. 표본은 동일한 모집단에서 추출되어야 한다.\n",
        "  2. 표본은 임의, 독립적으로 추출되어야 한다."
      ]
    },
    {
      "cell_type": "markdown",
      "metadata": {
        "id": "Y_lV-lfmsWPr"
      },
      "source": [
        "#### 3-1.일표본(One Sample)\n",
        "- alternative='two-sided'\n",
        "   - H0: 모집단의 중앙값은 A 이다.\n",
        "   - H1: 모집단의 중앙값은 A가 아니다.\n",
        "   - H0: 값 차이(관찰값 - A)의 중앙값은 0이다(=값의 차이가 없다)\n",
        "   - H1: 값 차이(관찰값 - A)의 중앙값은 0이 아니다(=값의 차이가 있다)   \n",
        "- alternative='less'\n",
        "   - H0: 모집단의 중앙값은 A보다 크거나 같다.\n",
        "   - H1: 모집단의 중앙값은 A보다 작다.\n",
        "   - H0: 값 차이(관찰값 - A)의 중앙값은 0보다 크거나 같다\n",
        "   - H1: 값 차이(관찰값 - A)의 중앙값은 0보다 작다\n",
        "- alternative='greater'\n",
        "   - H0: 모집단의 중앙값은 A보다 작거나 같다.\n",
        "   - H1: 모집단의 중앙값은 A보다 크다.\n",
        "   - H0: 값 차이(관찰값 - A)의 중앙값은 0보다 작거나 같다\n",
        "   - H1: 값 차이(관찰값 - A)의 중앙값은 0보다 크다       "
      ]
    },
    {
      "cell_type": "markdown",
      "source": [
        "중량이 100g 으로 표기된 닭가슴살 제품이 100g이라고 할 수 있는가?\n",
        "- 동일한 회사 제품을 임의로 9개 표본 추출하였음\n",
        "- 통계적 유의수준은 0.05로 사용함\n",
        "- H0: 닭 가슴살 중량의 중앙값은 100g이다\n",
        "- H1: 닭 가슴살 중량의 중앙값은 100g이 아니다"
      ],
      "metadata": {
        "id": "RuCyqbRMw6LI"
      }
    },
    {
      "cell_type": "code",
      "metadata": {
        "colab": {
          "base_uri": "https://localhost:8080/"
        },
        "id": "T8Hsa8MRsWPu",
        "outputId": "a0e224b6-2836-4f60-928e-635c7317c0a7"
      },
      "source": [
        "# [1] 데이터 가져오기\n",
        "import pandas as pd\n",
        "df = pd.read_csv('data_02/chicken_breast.csv')\n",
        "print(df)"
      ],
      "execution_count": null,
      "outputs": [
        {
          "output_type": "stream",
          "name": "stdout",
          "text": [
            "       weight\n",
            "0  107.704526\n",
            "1   96.505220\n",
            "2  109.417631\n",
            "3  109.696405\n",
            "4   90.783694\n",
            "5  107.871426\n",
            "6  106.447983\n",
            "7  104.484894\n",
            "8   95.778403\n"
          ]
        }
      ]
    },
    {
      "cell_type": "code",
      "metadata": {
        "id": "x53QNwEPsWPw",
        "outputId": "f54a6d0f-d6a0-4ebb-d92f-037b201b7226",
        "colab": {
          "base_uri": "https://localhost:8080/"
        }
      },
      "source": [
        "# [2] 중앙값 구하기\n",
        "median = df.weight.median()  # df['weight']\n",
        "print(f'median={median:.4f}')"
      ],
      "execution_count": null,
      "outputs": [
        {
          "output_type": "stream",
          "name": "stdout",
          "text": [
            "median=106.4480\n"
          ]
        }
      ]
    },
    {
      "cell_type": "code",
      "metadata": {
        "colab": {
          "base_uri": "https://localhost:8080/"
        },
        "id": "iwnfln_WsWPw",
        "outputId": "56c9588e-9e7c-486e-a338-e2c6601b1604"
      },
      "source": [
        "# [3] 윌콕슨 검정 실행\n",
        "from scipy.stats import wilcoxon\n",
        "statistic, pvalue = wilcoxon(df.weight - 100, alternative='two-sided')\n",
        "print(f'statistic={statistic:.4f}, p-value={pvalue:.4f}')"
      ],
      "execution_count": null,
      "outputs": [
        {
          "output_type": "stream",
          "name": "stdout",
          "text": [
            "statistic=10.0000, p-value=0.1641\n"
          ]
        }
      ]
    },
    {
      "cell_type": "code",
      "metadata": {
        "id": "zrmkmOoFsWPx"
      },
      "source": [
        "# [4] 결과\n",
        "# p-value > 0.05, 귀무가설을 채택\n",
        "# 닭 가슴살 중량의 중앙값은 100g이다"
      ],
      "execution_count": null,
      "outputs": []
    },
    {
      "cell_type": "markdown",
      "source": [
        "alternative='less'\n",
        "- H0: 닭가슴살 중량의 중앙값은 100 보다 크거나 같다.\n",
        "- H1: 닭가슴살 중량의 중앙값은 100 보다 작다."
      ],
      "metadata": {
        "id": "xSY1jrGlVisp"
      }
    },
    {
      "cell_type": "code",
      "metadata": {
        "colab": {
          "base_uri": "https://localhost:8080/"
        },
        "id": "KIxyHdlAsWPy",
        "outputId": "bf10ec14-d8ef-4fd5-e7b0-bacf8f00a657"
      },
      "source": [
        "from scipy.stats import wilcoxon\n",
        "statistic, pvalue = wilcoxon(df.weight - 100, alternative='less')\n",
        "print(f'statistic={statistic:.4f}, p-value={pvalue:.4f}')\n",
        "# p-value > 0.05, 귀무가설을 채택\n",
        "# 닭가슴살 중량의 중앙값은 100 보다 크거나 같다."
      ],
      "execution_count": null,
      "outputs": [
        {
          "output_type": "stream",
          "name": "stdout",
          "text": [
            "statistic=35.0000, p-value=0.9355\n"
          ]
        }
      ]
    },
    {
      "cell_type": "markdown",
      "source": [
        "alternative='greater'\n",
        "- H0: 닭가슴살 중량의 중앙값은 100 보다 작거나 같다.\n",
        "- H1: 닭가슴살 중량의 중앙값은 100 보다 크다."
      ],
      "metadata": {
        "id": "jZG_MJCEWAue"
      }
    },
    {
      "cell_type": "code",
      "metadata": {
        "colab": {
          "base_uri": "https://localhost:8080/"
        },
        "id": "bPFA118LsWPx",
        "outputId": "4d1f9ef0-1a76-4bc3-a74b-920969ef4081"
      },
      "source": [
        "from scipy.stats import wilcoxon\n",
        "statistic, pvalue = wilcoxon(df.weight - 100, alternative='greater')\n",
        "print(f'statistic={statistic:.4f}, p-value={pvalue:.4f}')\n",
        "# p-value > 0.05, 귀무가설을 채택\n",
        "# 닭가슴살 중량의 중앙값은 100 보다 작거나 같다."
      ],
      "execution_count": null,
      "outputs": [
        {
          "output_type": "stream",
          "name": "stdout",
          "text": [
            "statistic=35.0000, p-value=0.0820\n"
          ]
        }
      ]
    },
    {
      "cell_type": "markdown",
      "metadata": {
        "id": "nVeut6MEsWPz"
      },
      "source": [
        "#### 3-2.대응표본(Paired)\n",
        "- alternative='two-sided'\n",
        "    - H0: 값 차이(처리후 - 처리전)의 중앙값이 0이다(=값의 차이가 없다)\n",
        "    - H1: 값 차이(처리후 - 처리전)의 중앙값이 0이 아니다(=값의 차이가 있다)\n",
        "- alternative='less'\n",
        "    - H0: 값 차이(처리후 - 처리전)의 중앙값이 0보다 크거나 같다\n",
        "    - H1: 값 차이(처리후 - 처리전)의 중앙값이 0보다 작다\n",
        "- alternative='greater'\n",
        "    - H0: 값 차이(처리후 - 처리전)의 중앙값이 0보다 작거나 같다\n",
        "    - H1: 값 차이(처리후 - 처리전)의 중앙값이 0보다 크다 "
      ]
    },
    {
      "cell_type": "markdown",
      "source": [
        "다이어트 후, 체중이 줄었다고 할 수 있는가? 몸무게 : 비율척도\n",
        "- 동일한 회사 제품을 임의로 8개 표본 추출하였음\n",
        "- 통계적 유의수준은 0.05로 사용함\n"
      ],
      "metadata": {
        "id": "RBYraU93L_hX"
      }
    },
    {
      "cell_type": "markdown",
      "source": [
        "alternative='less'\n",
        "- H0: 다이어트 후 - 다이어트 전 몸무게 중앙값은 0보다 크거나 같다 \n",
        "- H1: 다이어트 후 - 다이어트 전 몸무게 중앙값은 0보다 작다."
      ],
      "metadata": {
        "id": "sRBDBOT9XehC"
      }
    },
    {
      "cell_type": "code",
      "metadata": {
        "id": "iKA8w9zbsWPz",
        "colab": {
          "base_uri": "https://localhost:8080/"
        },
        "outputId": "8f3a8753-3009-4ecd-9ba2-8f45c1e384af"
      },
      "source": [
        "# [1] 파일 불러오기\n",
        "import pandas as pd\n",
        "df = pd.read_csv('data_02/diet_result.csv')\n",
        "print(df)"
      ],
      "execution_count": null,
      "outputs": [
        {
          "output_type": "stream",
          "name": "stdout",
          "text": [
            "      before      after\n",
            "0  60.038972  56.153355\n",
            "1  58.566940  55.678046\n",
            "2  62.200320  63.010597\n",
            "3  68.522263  64.413353\n",
            "4  54.802465  52.110032\n",
            "5  55.437637  51.330742\n",
            "6  64.700073  62.047727\n",
            "7  65.030917  61.157653\n"
          ]
        }
      ]
    },
    {
      "cell_type": "code",
      "source": [
        "# scipy.stats.wilcoxon(x, y=None, zero_method='wilcox', correction=False, alternative='two-sided', mode='auto')\n",
        "# The Wilcoxon signed-rank test tests the null hypothesis that two related paired samples come from the same distribution. \n",
        "# In particular, it tests whether the distribution of the differences x - y is symmetric about zero.\n",
        "# It is a non-parametric version of the paired T-test."
      ],
      "metadata": {
        "id": "y6VjXh8rJzML"
      },
      "execution_count": null,
      "outputs": []
    },
    {
      "cell_type": "code",
      "metadata": {
        "id": "eTPRCvvmsWP0",
        "colab": {
          "base_uri": "https://localhost:8080/"
        },
        "outputId": "dab2ea91-a7ff-41b9-d60c-35564fd21a5c"
      },
      "source": [
        "# [2] wilcoxon signed rank sum - (paired t-test의 비모수)\n",
        "from scipy.stats import wilcoxon\n",
        "statistic, pvalue = wilcoxon(df.after, df.before, \n",
        "                             alternative='less')\n",
        "print(f'statistic={statistic:.4f}, p-value={pvalue:.4f}')"
      ],
      "execution_count": null,
      "outputs": [
        {
          "output_type": "stream",
          "name": "stdout",
          "text": [
            "statistic=1.0000, p-value=0.0078\n"
          ]
        }
      ]
    },
    {
      "cell_type": "code",
      "metadata": {
        "id": "xYr_yQ0csWP0"
      },
      "source": [
        "# [3] 결과\n",
        "# p-value < 0.05, 귀무가설을 기각\n",
        "# 다이어트 후 - 다이어트 전 몸무게 중앙값은 0보다 작다.\n",
        "# 다이어트 후 몸무게가 줄었다!"
      ],
      "execution_count": null,
      "outputs": []
    },
    {
      "cell_type": "markdown",
      "source": [
        "alternative='two-sided'\n",
        "- H0: 다이어트 후 - 다이어트 전 몸무게 중앙값은 0과 같다 \n",
        "- H1: 다이어트 후 - 다이어트 전 몸무게 중앙값은 0과 다르다"
      ],
      "metadata": {
        "id": "M2jZy4s_aiQ-"
      }
    },
    {
      "cell_type": "code",
      "source": [
        "from scipy.stats import wilcoxon\n",
        "statistic, pvalue = wilcoxon(df.after, df.before, \n",
        "                             alternative='two-sided')\n",
        "print(f'statistic={statistic:.4f}, p-value={pvalue:.4f}')\n",
        "# p < 0.05, 귀무가설 기각\n",
        "# 다이어트 후 - 다이어트 전 몸무게 중앙값은 0과 다르다"
      ],
      "metadata": {
        "colab": {
          "base_uri": "https://localhost:8080/"
        },
        "id": "ZAj8pg94ao7i",
        "outputId": "78176657-0bcf-4e3d-9c4f-2861a1cf576c"
      },
      "execution_count": null,
      "outputs": [
        {
          "output_type": "stream",
          "name": "stdout",
          "text": [
            "statistic=1.0000, p-value=0.0156\n"
          ]
        }
      ]
    },
    {
      "cell_type": "markdown",
      "source": [
        "alternative='greater'\n",
        "- H0: 다이어트 후 - 다이어트 전 몸무게 중앙값은 0보다 작거나 같다 \n",
        "- H1: 다이어트 후 - 다이어트 전 몸무게 중앙값은 0보다 크다"
      ],
      "metadata": {
        "id": "asqAuDPla26U"
      }
    },
    {
      "cell_type": "code",
      "source": [
        "from scipy.stats import wilcoxon\n",
        "statistic, pvalue = wilcoxon(df.after, df.before, \n",
        "                             alternative='greater')\n",
        "print(f'statistic={statistic:.4f}, p-value={pvalue:.4f}')\n",
        "# p-value > 0.05, 귀무가설 채택\n",
        "# 다이어트 후 - 다이어트 전 몸무게 중앙값은 0보다 작거나 같다"
      ],
      "metadata": {
        "colab": {
          "base_uri": "https://localhost:8080/"
        },
        "id": "LVprTAbKa1k9",
        "outputId": "67418321-3d81-43d9-d0a3-25ae89028abc"
      },
      "execution_count": null,
      "outputs": [
        {
          "output_type": "stream",
          "name": "stdout",
          "text": [
            "statistic=1.0000, p-value=0.9961\n"
          ]
        }
      ]
    },
    {
      "cell_type": "markdown",
      "metadata": {
        "id": "avKGqqA-sWP0"
      },
      "source": [
        "###4.독립 2표본(Two Sample)\n",
        "- 독립 2표본 T검정에서 정규성 가정이 만족되지 않을 때 사용하는 비모수 검정법\n",
        "- **두 표본의 중위수를 비교**하는데 쓰임\n",
        "- 가정\n",
        "   1. 두 그룹은 독립적이다\n",
        "   2. 측정값은 최소 순서형 변수이다(대소 비교가 가능해야 함)\n",
        "\n",
        "   "
      ]
    },
    {
      "cell_type": "markdown",
      "source": [
        "- alternative='two-sided'\n",
        "    - H0: gA의 중앙값과 gB의 중앙값이 같다(차이가 없다)\n",
        "    - H1: gA의 중앙값과 gB의 중앙값이 다르다(차이가 있다)\n",
        "- alternative='less'\n",
        "    - H0: gA의 중앙값이 gB의 중앙값보다 크거나 같다\n",
        "    - H1: gA의 중앙값이 gB의 중앙값보다 작다\n",
        "- alternative='greater'\n",
        "    - H0: gA의 중앙값이 gB의 중앙값보다 작거나 같다\n",
        "    - H1: gA의 중앙값이 gB의 중앙값보다 크다"
      ],
      "metadata": {
        "id": "FdKSUU-LoGk8"
      }
    },
    {
      "cell_type": "markdown",
      "source": [
        "#### 4-1.Wilcoxon Rank Sum Test"
      ],
      "metadata": {
        "id": "1ntotjlgeWCv"
      }
    },
    {
      "cell_type": "markdown",
      "source": [
        "A사 닭가슴살 제품의 중량과 B사 닭가슴살 제품의 중량이 차이가 있는지 확인\n",
        "- A사 닭가슴살은 40개의 표본, B사 닭가슴살은 20개의 표본이 있으며\n",
        "- 각각 독립적이고 임의로 추출했다\n",
        "- 통계적 유의수준은 0.05 사용\n"
      ],
      "metadata": {
        "id": "3m3_AQNEdzV6"
      }
    },
    {
      "cell_type": "markdown",
      "source": [
        "alternative='two-sided'\n",
        "- H0: A사 닭가슴살 중량과 B사 닭가슴살 중량의 차이가 없다\n",
        "- H1: A사 닭가슴살 중량과 B사 닭가슴살 중량의 차이가 있다"
      ],
      "metadata": {
        "id": "-Vwa_FQ5eI0C"
      }
    },
    {
      "cell_type": "code",
      "metadata": {
        "id": "ur8JubqzsWP1",
        "colab": {
          "base_uri": "https://localhost:8080/"
        },
        "outputId": "ad2a56ae-7ba4-45fa-ff43-dcdfa75af33c"
      },
      "source": [
        "# [1] 파일 불러오기\n",
        "import pandas as pd\n",
        "df = pd.read_csv('data_02/chicken_weight_AB.csv')\n",
        "print(df.head())"
      ],
      "execution_count": null,
      "outputs": [
        {
          "output_type": "stream",
          "name": "stdout",
          "text": [
            "  company      weight\n",
            "0       A   97.604131\n",
            "1       A   95.963639\n",
            "2       A  101.239447\n",
            "3       A   99.734285\n",
            "4       A   99.130079\n"
          ]
        }
      ]
    },
    {
      "cell_type": "code",
      "metadata": {
        "id": "bxa_tBVHsWP1",
        "colab": {
          "base_uri": "https://localhost:8080/"
        },
        "outputId": "f15df1cb-c2c4-4057-c82f-282405ea725c"
      },
      "source": [
        "# [2] 그룹 나누기\n",
        "gA = df.loc[df['company']=='A', 'weight']\n",
        "gB = df.loc[df['company']=='B', 'weight']\n",
        "print(len(gA), len(gB))"
      ],
      "execution_count": null,
      "outputs": [
        {
          "output_type": "stream",
          "name": "stdout",
          "text": [
            "40 20\n"
          ]
        }
      ]
    },
    {
      "cell_type": "code",
      "source": [
        "# 정규성 검정\n",
        "from scipy.stats import shapiro\n",
        "_, pvalueA = shapiro(gA)  # 정규성 만족\n",
        "_, pvalueB = shapiro(gB)  # 정규성 만족하지 않음\n",
        "print(f'pvalueA={pvalueA:.4f}, pvalueB={pvalueB:.4f}')"
      ],
      "metadata": {
        "colab": {
          "base_uri": "https://localhost:8080/"
        },
        "id": "ReJtkfKWe4GE",
        "outputId": "4e15170e-d786-4297-aeb9-dd4486b3074b"
      },
      "execution_count": null,
      "outputs": [
        {
          "output_type": "stream",
          "name": "stdout",
          "text": [
            "pvalueA=0.5676, pvalueB=0.0006\n"
          ]
        }
      ]
    },
    {
      "cell_type": "markdown",
      "metadata": {
        "id": "ekpq5xQVsWP2"
      },
      "source": [
        "scipy.stats.ranksums(x, y, alternative='two-sided')\n",
        "- Compute the Wilcoxon rank-sum statistic for two samples.\n",
        "- The Wilcoxon rank-sum test tests the null hypothesis that two sets of measurements are drawn from the same distribution. \n",
        "- The alternative hypothesis is that values in one sample are more likely to be larger than the values in the other sample.\n",
        "\n",
        "- This test should be used to compare two samples from continuous distributions. \n",
        "- It does not handle ties between measurements in x and y. For tie-handling and an optional continuity correction see scipy.stats.mannwhitneyu."
      ]
    },
    {
      "cell_type": "code",
      "metadata": {
        "id": "ivWM3O-UsWP3",
        "colab": {
          "base_uri": "https://localhost:8080/"
        },
        "outputId": "1f110925-db08-42bd-fc77-db14bcf7e6cd"
      },
      "source": [
        "# [3] wilcoxon rank sum test (two sample)\n",
        "from scipy.stats import ranksums\n",
        "statistic, pvalue = ranksums(gA, gB, alternative='two-sided')\n",
        "print(f'statistic={statistic:.4f}, p-value={pvalue:.4f}')"
      ],
      "execution_count": null,
      "outputs": [
        {
          "output_type": "stream",
          "name": "stdout",
          "text": [
            "statistic=-4.8612, p-value=0.0000\n"
          ]
        }
      ]
    },
    {
      "cell_type": "code",
      "metadata": {
        "id": "OCGB-udUsWP3"
      },
      "source": [
        "# [4] 결과\n",
        "# p-value < 0.05, 귀무가설 기각\n",
        "# A사 닭가슴살 중량과 B사 닭가슴살 중량의 차이가 있다\n",
        "# statistic=-4.8612 // gA가 더 작음"
      ],
      "execution_count": null,
      "outputs": []
    },
    {
      "cell_type": "markdown",
      "source": [
        "alternative='less'\n",
        "- H0: A사 닭가슴살 중량이 B사 닭가슴살 중량보다 크거나 같다\n",
        "- H1: A사 닭가슴살 중량이 B사 닭가슴살 중량보다 작다"
      ],
      "metadata": {
        "id": "ndUdlcB5ovW9"
      }
    },
    {
      "cell_type": "code",
      "source": [
        "# wilcoxon rank sum test (two sample)\n",
        "statistic, pvalue = ranksums(gA, gB, alternative='less')\n",
        "print(f'statistic={statistic:.4f}, p-value={pvalue:.4f}')\n",
        "# p-value < 0.05, 귀무가설 기각 \n",
        "# A사 닭가슴살 중량이 B사 닭가슴살 중량보다 작다"
      ],
      "metadata": {
        "colab": {
          "base_uri": "https://localhost:8080/"
        },
        "id": "_790RW13ps_9",
        "outputId": "c1e846dc-d0b4-4d7c-c300-51c0205dbe33"
      },
      "execution_count": null,
      "outputs": [
        {
          "output_type": "stream",
          "name": "stdout",
          "text": [
            "statistic=-4.8612, p-value=0.0000\n"
          ]
        }
      ]
    },
    {
      "cell_type": "markdown",
      "source": [
        "alternative='greater'\n",
        "- H0: A사 닭가슴살 중량이 B사 닭가슴살 중량보다 작거나 같다\n",
        "- H1: A사 닭가슴살 중량이 B사 닭가슴살 중량보다 크다"
      ],
      "metadata": {
        "id": "3VeqYEnfqGsW"
      }
    },
    {
      "cell_type": "code",
      "source": [
        "# wilcoxon rank sum test (two sample)\n",
        "from scipy.stats import ranksums\n",
        "statistic, pvalue = ranksums(gA, gB, alternative='greater')\n",
        "print(f'statistic={statistic:.4f}, p-value={pvalue:.4f}')\n",
        "# p-value > 0.05, 귀무가설 채택 \n",
        "# A사 닭가슴살 중량이 B사 닭가슴살 중량보다 작거나 같다"
      ],
      "metadata": {
        "colab": {
          "base_uri": "https://localhost:8080/"
        },
        "id": "IBrwFLpVqMhF",
        "outputId": "30be2c71-e24c-4bb5-b4ae-f6815586a5a8"
      },
      "execution_count": null,
      "outputs": [
        {
          "output_type": "stream",
          "name": "stdout",
          "text": [
            "statistic=-4.8612, p-value=1.0000\n"
          ]
        }
      ]
    },
    {
      "cell_type": "markdown",
      "source": [
        "#### 4-2.Mann-Whitney U test"
      ],
      "metadata": {
        "id": "YNSWc5YGlCVl"
      }
    },
    {
      "cell_type": "markdown",
      "source": [
        "alternative='two-sided'\n",
        "- H0: A사 닭가슴살 중량과 B사 닭가슴살 중량의 차이가 없다\n",
        "- H1: A사 닭가슴살 중량과 B사 닭가슴살 중량의 차이가 있다"
      ],
      "metadata": {
        "id": "cxi9eMCnc9Yp"
      }
    },
    {
      "cell_type": "markdown",
      "metadata": {
        "id": "eZls1pBOsWP3"
      },
      "source": [
        "scipy.stats.mannwhitneyu(x, y, use_continuity=True, alternative='two-sided', axis=0, method='auto')\n",
        "- Perform the Mann-Whitney U rank test on two independent samples.\n",
        "- The Mann-Whitney U test is a nonparametric test of the null hypothesis that the distribution underlying sample x is the same as the distribution underlying sample y. \n"
      ]
    },
    {
      "cell_type": "code",
      "metadata": {
        "id": "_9wq9yaKsWP4",
        "colab": {
          "base_uri": "https://localhost:8080/"
        },
        "outputId": "33b57f77-3e03-480e-833a-c80d84c3bc61"
      },
      "source": [
        "# [1] Mann-Whitney U test (two sample)\n",
        "from scipy.stats import mannwhitneyu\n",
        "statistic, pvalue = mannwhitneyu(gA, gB, alternative='two-sided')\n",
        "print(f'statistic={statistic:.4f}, p-value={pvalue:.4f}')"
      ],
      "execution_count": null,
      "outputs": [
        {
          "output_type": "stream",
          "name": "stdout",
          "text": [
            "statistic=90.0000, p-value=0.0000\n"
          ]
        }
      ]
    },
    {
      "cell_type": "code",
      "metadata": {
        "id": "f4-COST1sWP5"
      },
      "source": [
        "# [2] 결과\n",
        "# pvalue < 0.05, 귀무가설을 기각\n",
        "# A사 닭가슴살 중량과 B사 닭가슴살 중량의 차이가 있다"
      ],
      "execution_count": null,
      "outputs": []
    },
    {
      "cell_type": "markdown",
      "source": [
        "alternative='less'\n",
        "- H0: A사 닭가슴살 중량이 B사 닭가슴살 중량보다 크거나 같다\n",
        "- H1: A사 닭가슴살 중량이 B사 닭가슴살 중량보다 작다"
      ],
      "metadata": {
        "id": "1uPbw-vojSUh"
      }
    },
    {
      "cell_type": "code",
      "source": [
        "from scipy.stats import mannwhitneyu\n",
        "statistic, pvalue = mannwhitneyu(gA, gB, alternative='less')\n",
        "print(f'statistic={statistic:.4f}, p-value={pvalue:.4f}')\n",
        "# pvalue < 0.05, 귀무가설을 기각\n",
        "# A사 닭가슴살 중량이 B사 닭가슴살 중량보다 작다"
      ],
      "metadata": {
        "colab": {
          "base_uri": "https://localhost:8080/"
        },
        "id": "ZkvTh4mzjIDs",
        "outputId": "54b5cf2d-a12c-4d30-e75f-c452888b5001"
      },
      "execution_count": null,
      "outputs": [
        {
          "output_type": "stream",
          "name": "stdout",
          "text": [
            "statistic=90.0000, p-value=0.0000\n"
          ]
        }
      ]
    },
    {
      "cell_type": "markdown",
      "source": [
        "alternative='greater'\n",
        "- H0: A사 닭가슴살 중량이 B사 닭가슴살 중량보다 작거나 같다\n",
        "- H1: A사 닭가슴살 중량이 B사 닭가슴살 중량보다 크다"
      ],
      "metadata": {
        "id": "5t49FsXsjnxG"
      }
    },
    {
      "cell_type": "code",
      "source": [
        "from scipy.stats import mannwhitneyu\n",
        "statistic, pvalue = mannwhitneyu(gA, gB, alternative='greater')\n",
        "print(f'statistic={statistic:.4f}, p-value={pvalue:.4f}')\n",
        "# p-value > 0.05, 귀무가설 채택 \n",
        "# A사 닭가슴살 중량이 B사 닭가슴살 중량보다 작거나 같다"
      ],
      "metadata": {
        "colab": {
          "base_uri": "https://localhost:8080/"
        },
        "id": "vzUlB41tjW1e",
        "outputId": "41aa3ce3-ab2e-475c-d01b-379d1195563d"
      },
      "execution_count": null,
      "outputs": [
        {
          "output_type": "stream",
          "name": "stdout",
          "text": [
            "statistic=90.0000, p-value=1.0000\n"
          ]
        }
      ]
    },
    {
      "cell_type": "markdown",
      "metadata": {
        "id": "T8UKpoResWP5"
      },
      "source": [
        "### 5.Kruskal-Wallis H-test\n",
        "- 분산 분석(ANOVA)에서 정규성 가정이 만족되지 않을 때 사용하는 비모수 검정법\n",
        "- ANOVA와는 달리 중앙값에 관한 결과를 얻을 수 있음\n",
        "- 가정\n",
        "  1. 표본은 독립적이다.\n",
        "  2. 측정값은 최소 순서형 변수이다. (대소 비교가 가능해야 합니다.)\n",
        "- 가설\n",
        "  - H0: 모든 그룹의 중앙값은 서로 같다\n",
        "  - H1: 모든 그룹의 중앙값이 전부 같은 것은 아니다"
      ]
    },
    {
      "cell_type": "markdown",
      "metadata": {
        "id": "H3iixAzusWP5"
      },
      "source": [
        "scipy.stats.kruskal(*args, nan_policy='propagate')[source]\n",
        "- The Kruskal-Wallis H-test tests the null hypothesis that the population median of all of the groups are equal. \n",
        "- It is a non-parametric version of ANOVA. The test works on 2 or more independent samples, which may have different sizes. \n",
        "- Note that rejecting the null hypothesis does not indicate which of the groups differs. \n",
        "- Post hoc comparisons between groups are required to determine which groups are different."
      ]
    },
    {
      "cell_type": "markdown",
      "source": [
        "####5-1.K개 Sample\n",
        "- A, B, C 고등학교 학생들의 하루 공부 시간을 조사했을 때,고등학교 간에 공부 시간이 차이가 있는지 확인\n",
        "- 통계적 유의수준은 0.05\n"
      ],
      "metadata": {
        "id": "GrJjSMVvqwUv"
      }
    },
    {
      "cell_type": "markdown",
      "source": [
        "- H0: A,B,C 고등학교 학생들의 하루 공부시간에 차이가 없다\n",
        "- H1: A,B,C 고등학교 학생들의 하루 공부시간에 차이가 있다"
      ],
      "metadata": {
        "id": "Oa1vYvOsrC3S"
      }
    },
    {
      "cell_type": "code",
      "metadata": {
        "id": "qGFPt-x_sWP5",
        "colab": {
          "base_uri": "https://localhost:8080/",
          "height": 112
        },
        "outputId": "0cbf313f-7d45-4d15-9fe0-614ba356dcc5"
      },
      "source": [
        "# [1] 파일 불러오기\n",
        "import pandas as pd\n",
        "df = pd.read_csv('data_02/high_school.csv')\n",
        "df.head(2)"
      ],
      "execution_count": null,
      "outputs": [
        {
          "output_type": "execute_result",
          "data": {
            "text/plain": [
              "  group       time\n",
              "0     A  12.525909\n",
              "1     A   9.347533"
            ],
            "text/html": [
              "\n",
              "  <div id=\"df-0e041f28-0edf-419a-93ac-45266f44b930\">\n",
              "    <div class=\"colab-df-container\">\n",
              "      <div>\n",
              "<style scoped>\n",
              "    .dataframe tbody tr th:only-of-type {\n",
              "        vertical-align: middle;\n",
              "    }\n",
              "\n",
              "    .dataframe tbody tr th {\n",
              "        vertical-align: top;\n",
              "    }\n",
              "\n",
              "    .dataframe thead th {\n",
              "        text-align: right;\n",
              "    }\n",
              "</style>\n",
              "<table border=\"1\" class=\"dataframe\">\n",
              "  <thead>\n",
              "    <tr style=\"text-align: right;\">\n",
              "      <th></th>\n",
              "      <th>group</th>\n",
              "      <th>time</th>\n",
              "    </tr>\n",
              "  </thead>\n",
              "  <tbody>\n",
              "    <tr>\n",
              "      <th>0</th>\n",
              "      <td>A</td>\n",
              "      <td>12.525909</td>\n",
              "    </tr>\n",
              "    <tr>\n",
              "      <th>1</th>\n",
              "      <td>A</td>\n",
              "      <td>9.347533</td>\n",
              "    </tr>\n",
              "  </tbody>\n",
              "</table>\n",
              "</div>\n",
              "      <button class=\"colab-df-convert\" onclick=\"convertToInteractive('df-0e041f28-0edf-419a-93ac-45266f44b930')\"\n",
              "              title=\"Convert this dataframe to an interactive table.\"\n",
              "              style=\"display:none;\">\n",
              "        \n",
              "  <svg xmlns=\"http://www.w3.org/2000/svg\" height=\"24px\"viewBox=\"0 0 24 24\"\n",
              "       width=\"24px\">\n",
              "    <path d=\"M0 0h24v24H0V0z\" fill=\"none\"/>\n",
              "    <path d=\"M18.56 5.44l.94 2.06.94-2.06 2.06-.94-2.06-.94-.94-2.06-.94 2.06-2.06.94zm-11 1L8.5 8.5l.94-2.06 2.06-.94-2.06-.94L8.5 2.5l-.94 2.06-2.06.94zm10 10l.94 2.06.94-2.06 2.06-.94-2.06-.94-.94-2.06-.94 2.06-2.06.94z\"/><path d=\"M17.41 7.96l-1.37-1.37c-.4-.4-.92-.59-1.43-.59-.52 0-1.04.2-1.43.59L10.3 9.45l-7.72 7.72c-.78.78-.78 2.05 0 2.83L4 21.41c.39.39.9.59 1.41.59.51 0 1.02-.2 1.41-.59l7.78-7.78 2.81-2.81c.8-.78.8-2.07 0-2.86zM5.41 20L4 18.59l7.72-7.72 1.47 1.35L5.41 20z\"/>\n",
              "  </svg>\n",
              "      </button>\n",
              "      \n",
              "  <style>\n",
              "    .colab-df-container {\n",
              "      display:flex;\n",
              "      flex-wrap:wrap;\n",
              "      gap: 12px;\n",
              "    }\n",
              "\n",
              "    .colab-df-convert {\n",
              "      background-color: #E8F0FE;\n",
              "      border: none;\n",
              "      border-radius: 50%;\n",
              "      cursor: pointer;\n",
              "      display: none;\n",
              "      fill: #1967D2;\n",
              "      height: 32px;\n",
              "      padding: 0 0 0 0;\n",
              "      width: 32px;\n",
              "    }\n",
              "\n",
              "    .colab-df-convert:hover {\n",
              "      background-color: #E2EBFA;\n",
              "      box-shadow: 0px 1px 2px rgba(60, 64, 67, 0.3), 0px 1px 3px 1px rgba(60, 64, 67, 0.15);\n",
              "      fill: #174EA6;\n",
              "    }\n",
              "\n",
              "    [theme=dark] .colab-df-convert {\n",
              "      background-color: #3B4455;\n",
              "      fill: #D2E3FC;\n",
              "    }\n",
              "\n",
              "    [theme=dark] .colab-df-convert:hover {\n",
              "      background-color: #434B5C;\n",
              "      box-shadow: 0px 1px 3px 1px rgba(0, 0, 0, 0.15);\n",
              "      filter: drop-shadow(0px 1px 2px rgba(0, 0, 0, 0.3));\n",
              "      fill: #FFFFFF;\n",
              "    }\n",
              "  </style>\n",
              "\n",
              "      <script>\n",
              "        const buttonEl =\n",
              "          document.querySelector('#df-0e041f28-0edf-419a-93ac-45266f44b930 button.colab-df-convert');\n",
              "        buttonEl.style.display =\n",
              "          google.colab.kernel.accessAllowed ? 'block' : 'none';\n",
              "\n",
              "        async function convertToInteractive(key) {\n",
              "          const element = document.querySelector('#df-0e041f28-0edf-419a-93ac-45266f44b930');\n",
              "          const dataTable =\n",
              "            await google.colab.kernel.invokeFunction('convertToInteractive',\n",
              "                                                     [key], {});\n",
              "          if (!dataTable) return;\n",
              "\n",
              "          const docLinkHtml = 'Like what you see? Visit the ' +\n",
              "            '<a target=\"_blank\" href=https://colab.research.google.com/notebooks/data_table.ipynb>data table notebook</a>'\n",
              "            + ' to learn more about interactive tables.';\n",
              "          element.innerHTML = '';\n",
              "          dataTable['output_type'] = 'display_data';\n",
              "          await google.colab.output.renderOutput(dataTable, element);\n",
              "          const docLink = document.createElement('div');\n",
              "          docLink.innerHTML = docLinkHtml;\n",
              "          element.appendChild(docLink);\n",
              "        }\n",
              "      </script>\n",
              "    </div>\n",
              "  </div>\n",
              "  "
            ]
          },
          "metadata": {},
          "execution_count": 36
        }
      ]
    },
    {
      "cell_type": "code",
      "metadata": {
        "id": "LNqDVBFqsWP6",
        "colab": {
          "base_uri": "https://localhost:8080/"
        },
        "outputId": "70c8ebc4-33d7-4ac2-f251-0ed50d534ad0"
      },
      "source": [
        "# [2] 그룹 나누기\n",
        "gA = df.loc[df.group =='A', 'time']\n",
        "gB = df.loc[df.group =='B', 'time']\n",
        "gC = df.loc[df.group =='C', 'time']\n",
        "print(len(gA), len(gB), len(gC))"
      ],
      "execution_count": null,
      "outputs": [
        {
          "output_type": "stream",
          "name": "stdout",
          "text": [
            "20 30 15\n"
          ]
        }
      ]
    },
    {
      "cell_type": "code",
      "source": [
        "from scipy.stats import shapiro\n",
        "_, pvalueA = shapiro(gA)  # 정규성 만족\n",
        "_, pvalueB = shapiro(gB)  # 정규성 만족\n",
        "_, pvalueC = shapiro(gC)  # 정규성 만족\n",
        "print(f'A={pvalueA:.4f}, B={pvalueB:.4f}, C={pvalueC:.4f}')"
      ],
      "metadata": {
        "colab": {
          "base_uri": "https://localhost:8080/"
        },
        "id": "3qIyNsJAlzbL",
        "outputId": "08dafefd-1223-4921-ce89-a383c0de3140"
      },
      "execution_count": null,
      "outputs": [
        {
          "output_type": "stream",
          "name": "stdout",
          "text": [
            "A=0.4412, B=0.6307, C=0.2647\n"
          ]
        }
      ]
    },
    {
      "cell_type": "code",
      "metadata": {
        "id": "SghdhhrZsWP6",
        "colab": {
          "base_uri": "https://localhost:8080/"
        },
        "outputId": "104faa0c-44b3-48b5-fd9f-cb720b4d349e"
      },
      "source": [
        "# [3] Kruskal-Wallis Test\n",
        "from scipy.stats import kruskal\n",
        "statistic, pvalue = kruskal(gA, gB, gC)\n",
        "print(f'statistic={statistic:.4f}, pvalue={pvalue:.4f}')"
      ],
      "execution_count": null,
      "outputs": [
        {
          "output_type": "stream",
          "name": "stdout",
          "text": [
            "statistic=34.1434, pvalue=0.0000\n"
          ]
        }
      ]
    },
    {
      "cell_type": "code",
      "metadata": {
        "id": "SSWshAlqsWP6"
      },
      "source": [
        "# [4] 결과\n",
        "# p-value < 0.05, 귀무가설을 기각\n",
        "# A,B,C 고등학교 학생들의 하루 공부시간에 차이가 있다"
      ],
      "execution_count": null,
      "outputs": []
    },
    {
      "cell_type": "code",
      "source": [
        "# [5] ANOVA Test\n",
        "from scipy.stats import f_oneway\n",
        "statistic, pvalue = f_oneway(gA, gB, gC)\n",
        "print(f'statistic={statistic:.4f}, pvalue={pvalue:.4f}')"
      ],
      "metadata": {
        "colab": {
          "base_uri": "https://localhost:8080/"
        },
        "id": "fPNwauZqmn2K",
        "outputId": "8122f952-f842-4f43-acf3-2158987de3a2"
      },
      "execution_count": null,
      "outputs": [
        {
          "output_type": "stream",
          "name": "stdout",
          "text": [
            "statistic=1394.1870, pvalue=0.0000\n"
          ]
        }
      ]
    },
    {
      "cell_type": "code",
      "source": [
        "# 등분산성 검정은??  (강의 내용에 없지만 확인!)\n",
        "from scipy.stats import bartlett\n",
        "bartlett(gA, gB, gC)"
      ],
      "metadata": {
        "colab": {
          "base_uri": "https://localhost:8080/"
        },
        "id": "tyQCWJYboANz",
        "outputId": "ad9ad7ea-a400-4e68-9941-93e9987f6847"
      },
      "execution_count": null,
      "outputs": [
        {
          "output_type": "execute_result",
          "data": {
            "text/plain": [
              "BartlettResult(statistic=0.978756985013508, pvalue=0.6130072644235558)"
            ]
          },
          "metadata": {},
          "execution_count": 43
        }
      ]
    },
    {
      "cell_type": "code",
      "source": [
        "# 만일 정규성은 만족하는데, 등분산성을 만족하지 않는다면?\n",
        "# welch's ANOVA 사용"
      ],
      "metadata": {
        "id": "aVw4K00AoAES"
      },
      "execution_count": null,
      "outputs": []
    },
    {
      "cell_type": "markdown",
      "source": [
        "#### 5-2.분류 모델에서 활용\n",
        "- 1개 연속형 변수, 1개 범주형 변수 (4개 범주)\n",
        "- 범주별로 연속형 변수의 중앙값 차이가 있는지 검정한다"
      ],
      "metadata": {
        "id": "0PhN_27IIhVX"
      }
    },
    {
      "cell_type": "code",
      "source": [
        "# [1] 데이터 읽어오기 (4회기출)\n",
        "import pandas as pd\n",
        "\n",
        "data = pd.read_csv('https://raw.githubusercontent.com/Soyoung-Yoon/bigdata/main/train_04.csv')\n",
        "data.head(2)"
      ],
      "metadata": {
        "colab": {
          "base_uri": "https://localhost:8080/",
          "height": 112
        },
        "id": "miK2v9ctInPH",
        "outputId": "139501ab-1528-409f-f124-da351a024381"
      },
      "execution_count": null,
      "outputs": [
        {
          "output_type": "execute_result",
          "data": {
            "text/plain": [
              "       ID  Gender Ever_Married  Age Graduated  Profession  Work_Experience  \\\n",
              "0  462809    Male           No   22        No  Healthcare              1.0   \n",
              "1  466315  Female          Yes   67       Yes    Engineer              1.0   \n",
              "\n",
              "  Spending_Score  Family_Size  Var_1  Segmentation  \n",
              "0            Low          4.0  Cat_4             4  \n",
              "1            Low          1.0  Cat_6             2  "
            ],
            "text/html": [
              "\n",
              "  <div id=\"df-67ffeb69-b92f-4926-b3f8-ec3665d5e741\">\n",
              "    <div class=\"colab-df-container\">\n",
              "      <div>\n",
              "<style scoped>\n",
              "    .dataframe tbody tr th:only-of-type {\n",
              "        vertical-align: middle;\n",
              "    }\n",
              "\n",
              "    .dataframe tbody tr th {\n",
              "        vertical-align: top;\n",
              "    }\n",
              "\n",
              "    .dataframe thead th {\n",
              "        text-align: right;\n",
              "    }\n",
              "</style>\n",
              "<table border=\"1\" class=\"dataframe\">\n",
              "  <thead>\n",
              "    <tr style=\"text-align: right;\">\n",
              "      <th></th>\n",
              "      <th>ID</th>\n",
              "      <th>Gender</th>\n",
              "      <th>Ever_Married</th>\n",
              "      <th>Age</th>\n",
              "      <th>Graduated</th>\n",
              "      <th>Profession</th>\n",
              "      <th>Work_Experience</th>\n",
              "      <th>Spending_Score</th>\n",
              "      <th>Family_Size</th>\n",
              "      <th>Var_1</th>\n",
              "      <th>Segmentation</th>\n",
              "    </tr>\n",
              "  </thead>\n",
              "  <tbody>\n",
              "    <tr>\n",
              "      <th>0</th>\n",
              "      <td>462809</td>\n",
              "      <td>Male</td>\n",
              "      <td>No</td>\n",
              "      <td>22</td>\n",
              "      <td>No</td>\n",
              "      <td>Healthcare</td>\n",
              "      <td>1.0</td>\n",
              "      <td>Low</td>\n",
              "      <td>4.0</td>\n",
              "      <td>Cat_4</td>\n",
              "      <td>4</td>\n",
              "    </tr>\n",
              "    <tr>\n",
              "      <th>1</th>\n",
              "      <td>466315</td>\n",
              "      <td>Female</td>\n",
              "      <td>Yes</td>\n",
              "      <td>67</td>\n",
              "      <td>Yes</td>\n",
              "      <td>Engineer</td>\n",
              "      <td>1.0</td>\n",
              "      <td>Low</td>\n",
              "      <td>1.0</td>\n",
              "      <td>Cat_6</td>\n",
              "      <td>2</td>\n",
              "    </tr>\n",
              "  </tbody>\n",
              "</table>\n",
              "</div>\n",
              "      <button class=\"colab-df-convert\" onclick=\"convertToInteractive('df-67ffeb69-b92f-4926-b3f8-ec3665d5e741')\"\n",
              "              title=\"Convert this dataframe to an interactive table.\"\n",
              "              style=\"display:none;\">\n",
              "        \n",
              "  <svg xmlns=\"http://www.w3.org/2000/svg\" height=\"24px\"viewBox=\"0 0 24 24\"\n",
              "       width=\"24px\">\n",
              "    <path d=\"M0 0h24v24H0V0z\" fill=\"none\"/>\n",
              "    <path d=\"M18.56 5.44l.94 2.06.94-2.06 2.06-.94-2.06-.94-.94-2.06-.94 2.06-2.06.94zm-11 1L8.5 8.5l.94-2.06 2.06-.94-2.06-.94L8.5 2.5l-.94 2.06-2.06.94zm10 10l.94 2.06.94-2.06 2.06-.94-2.06-.94-.94-2.06-.94 2.06-2.06.94z\"/><path d=\"M17.41 7.96l-1.37-1.37c-.4-.4-.92-.59-1.43-.59-.52 0-1.04.2-1.43.59L10.3 9.45l-7.72 7.72c-.78.78-.78 2.05 0 2.83L4 21.41c.39.39.9.59 1.41.59.51 0 1.02-.2 1.41-.59l7.78-7.78 2.81-2.81c.8-.78.8-2.07 0-2.86zM5.41 20L4 18.59l7.72-7.72 1.47 1.35L5.41 20z\"/>\n",
              "  </svg>\n",
              "      </button>\n",
              "      \n",
              "  <style>\n",
              "    .colab-df-container {\n",
              "      display:flex;\n",
              "      flex-wrap:wrap;\n",
              "      gap: 12px;\n",
              "    }\n",
              "\n",
              "    .colab-df-convert {\n",
              "      background-color: #E8F0FE;\n",
              "      border: none;\n",
              "      border-radius: 50%;\n",
              "      cursor: pointer;\n",
              "      display: none;\n",
              "      fill: #1967D2;\n",
              "      height: 32px;\n",
              "      padding: 0 0 0 0;\n",
              "      width: 32px;\n",
              "    }\n",
              "\n",
              "    .colab-df-convert:hover {\n",
              "      background-color: #E2EBFA;\n",
              "      box-shadow: 0px 1px 2px rgba(60, 64, 67, 0.3), 0px 1px 3px 1px rgba(60, 64, 67, 0.15);\n",
              "      fill: #174EA6;\n",
              "    }\n",
              "\n",
              "    [theme=dark] .colab-df-convert {\n",
              "      background-color: #3B4455;\n",
              "      fill: #D2E3FC;\n",
              "    }\n",
              "\n",
              "    [theme=dark] .colab-df-convert:hover {\n",
              "      background-color: #434B5C;\n",
              "      box-shadow: 0px 1px 3px 1px rgba(0, 0, 0, 0.15);\n",
              "      filter: drop-shadow(0px 1px 2px rgba(0, 0, 0, 0.3));\n",
              "      fill: #FFFFFF;\n",
              "    }\n",
              "  </style>\n",
              "\n",
              "      <script>\n",
              "        const buttonEl =\n",
              "          document.querySelector('#df-67ffeb69-b92f-4926-b3f8-ec3665d5e741 button.colab-df-convert');\n",
              "        buttonEl.style.display =\n",
              "          google.colab.kernel.accessAllowed ? 'block' : 'none';\n",
              "\n",
              "        async function convertToInteractive(key) {\n",
              "          const element = document.querySelector('#df-67ffeb69-b92f-4926-b3f8-ec3665d5e741');\n",
              "          const dataTable =\n",
              "            await google.colab.kernel.invokeFunction('convertToInteractive',\n",
              "                                                     [key], {});\n",
              "          if (!dataTable) return;\n",
              "\n",
              "          const docLinkHtml = 'Like what you see? Visit the ' +\n",
              "            '<a target=\"_blank\" href=https://colab.research.google.com/notebooks/data_table.ipynb>data table notebook</a>'\n",
              "            + ' to learn more about interactive tables.';\n",
              "          element.innerHTML = '';\n",
              "          dataTable['output_type'] = 'display_data';\n",
              "          await google.colab.output.renderOutput(dataTable, element);\n",
              "          const docLink = document.createElement('div');\n",
              "          docLink.innerHTML = docLinkHtml;\n",
              "          element.appendChild(docLink);\n",
              "        }\n",
              "      </script>\n",
              "    </div>\n",
              "  </div>\n",
              "  "
            ]
          },
          "metadata": {},
          "execution_count": 45
        }
      ]
    },
    {
      "cell_type": "code",
      "source": [
        "# [2] 그룹 나누기 - 종속변수 Age, 독립변수 Segmentation\n",
        "gA = data.loc[data.Segmentation==1, 'Age']\n",
        "gB = data.loc[data.Segmentation==2, 'Age']\n",
        "gC = data.loc[data.Segmentation==3, 'Age']\n",
        "gD = data.loc[data.Segmentation==4, 'Age']\n",
        "print(gA.shape, gB.shape, gC.shape, gD.shape)"
      ],
      "metadata": {
        "colab": {
          "base_uri": "https://localhost:8080/"
        },
        "id": "E4A_aBoyYoB2",
        "outputId": "5cbaf261-6bb7-46f6-82be-c8c174c9c4ce"
      },
      "execution_count": null,
      "outputs": [
        {
          "output_type": "stream",
          "name": "stdout",
          "text": [
            "(1616,) (1572,) (1720,) (1757,)\n"
          ]
        }
      ]
    },
    {
      "cell_type": "code",
      "source": [
        "# [3] 정규성 검정\n",
        "from scipy.stats import shapiro\n",
        "_, pvalueA = shapiro(gA)  # 정규성 만족하지 않음 (gA ~ gD)\n",
        "_, pvalueB = shapiro(gB)\n",
        "_, pvalueC = shapiro(gC)\n",
        "_, pvalueD = shapiro(gD)\n",
        "print(f'A={pvalueA:.4f}, B={pvalueB:.4f}, C={pvalueC:.4f}, D={pvalueD:.4f}')"
      ],
      "metadata": {
        "colab": {
          "base_uri": "https://localhost:8080/"
        },
        "id": "FzJpzhl_cIrP",
        "outputId": "45cb5bc4-62ca-4287-c6d0-3faef23d1698"
      },
      "execution_count": null,
      "outputs": [
        {
          "output_type": "stream",
          "name": "stdout",
          "text": [
            "A=0.0000, B=0.0000, C=0.0000, D=0.0000\n"
          ]
        }
      ]
    },
    {
      "cell_type": "code",
      "source": [
        "# [4] 'Segmentation' 그룹별 'Age'의 중앙값 구하기\n",
        "data.groupby('Segmentation')['Age'].median()"
      ],
      "metadata": {
        "colab": {
          "base_uri": "https://localhost:8080/"
        },
        "id": "rxcXZZvAYPMm",
        "outputId": "ba3285c4-4606-4e8d-a4cc-ebbb5fa93b41"
      },
      "execution_count": null,
      "outputs": [
        {
          "output_type": "execute_result",
          "data": {
            "text/plain": [
              "Segmentation\n",
              "1    40.0\n",
              "2    46.0\n",
              "3    49.0\n",
              "4    29.0\n",
              "Name: Age, dtype: float64"
            ]
          },
          "metadata": {},
          "execution_count": 48
        }
      ]
    },
    {
      "cell_type": "code",
      "source": [
        "# [5] 크루스칼-왈리스 검정 수행\n",
        "# 귀무가설 : Segmentation별 Age의 차이가 없다\n",
        "# 대립가설 : Segmentation별 Age의 차이가 있다\n",
        "from scipy.stats import kruskal\n",
        "statistic, pvalue = kruskal(gA, gB, gC, gD)\n",
        "print(f'statistic={statistic:.4f}, p-value={pvalue:.4f}')"
      ],
      "metadata": {
        "colab": {
          "base_uri": "https://localhost:8080/"
        },
        "id": "-vfOuE_HYyoP",
        "outputId": "74cddfcc-1946-47f5-ea91-75e798d419fb"
      },
      "execution_count": null,
      "outputs": [
        {
          "output_type": "stream",
          "name": "stdout",
          "text": [
            "statistic=1448.6140, p-value=0.0000\n"
          ]
        }
      ]
    },
    {
      "cell_type": "code",
      "source": [
        "# [6] 결론\n",
        "# p-value < 0.05, 귀무가설을 기각\n",
        "# Segmentation별 Age의 차이가 있다"
      ],
      "metadata": {
        "id": "oIBHJH8SoZff"
      },
      "execution_count": null,
      "outputs": []
    }
  ]
}