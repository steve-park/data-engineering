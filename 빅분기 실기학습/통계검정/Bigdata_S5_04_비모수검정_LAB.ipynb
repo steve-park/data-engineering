{
 "cells": [
  {
   "cell_type": "markdown",
   "metadata": {
    "id": "1QBL63Yfh5D1"
   },
   "source": [
    "### 0.데이터 다운로드\n"
   ]
  },
  {
   "cell_type": "code",
   "execution_count": 1,
   "metadata": {
    "colab": {
     "base_uri": "https://localhost:8080/"
    },
    "id": "Rxwkisfeh_Nl",
    "outputId": "5adbf73c-e2c3-4d78-9682-28719de4ec6e",
    "tags": []
   },
   "outputs": [
    {
     "name": "stdout",
     "output_type": "stream",
     "text": [
      "fatal: destination path 'data_02' already exists and is not an empty directory.\n"
     ]
    }
   ],
   "source": [
    "!git clone https://github.com/Soyoung-Yoon/data_02"
   ]
  },
  {
   "cell_type": "code",
   "execution_count": 2,
   "metadata": {
    "id": "cMlARWe_iB8p",
    "tags": []
   },
   "outputs": [
    {
     "data": {
      "text/plain": [
       "'1.10.1'"
      ]
     },
     "execution_count": 2,
     "metadata": {},
     "output_type": "execute_result"
    }
   ],
   "source": [
    "import scipy\n",
    "scipy.__version__"
   ]
  },
  {
   "cell_type": "code",
   "execution_count": null,
   "metadata": {
    "id": "qNc6dXIQiDfN"
   },
   "outputs": [],
   "source": [
    "!pip install scipy==1.6.0"
   ]
  },
  {
   "cell_type": "markdown",
   "metadata": {
    "id": "l_R2bnWbupEz"
   },
   "source": [
    "### 1.카이제곱 적합도 검정"
   ]
  },
  {
   "cell_type": "markdown",
   "metadata": {
    "id": "neenT8e9PFS_"
   },
   "source": [
    "####1-1.특정비율\n",
    "A학급 40명의 혈액형 비율을 A, B, O, AB 각각 20%, 20%, 30%, 30%로 예상하였다. 실제 측정 결과 16, 16, 4, 4 명인 경우의 적합도 검정을 수행하여 보자\n"
   ]
  },
  {
   "cell_type": "markdown",
   "metadata": {
    "id": "mma6l4kjwtrN"
   },
   "source": [
    "- 𝑯_𝟎 : 변수의 분포가 기대 분포와 같다\n",
    "- 𝑯_𝟏 : 변수의 분포가 기대 분포와 같지 않다\n"
   ]
  },
  {
   "cell_type": "code",
   "execution_count": 12,
   "metadata": {
    "id": "BuXBEihxffVT",
    "tags": []
   },
   "outputs": [
    {
     "data": {
      "text/html": [
       "<div>\n",
       "<style scoped>\n",
       "    .dataframe tbody tr th:only-of-type {\n",
       "        vertical-align: middle;\n",
       "    }\n",
       "\n",
       "    .dataframe tbody tr th {\n",
       "        vertical-align: top;\n",
       "    }\n",
       "\n",
       "    .dataframe thead th {\n",
       "        text-align: right;\n",
       "    }\n",
       "</style>\n",
       "<table border=\"1\" class=\"dataframe\">\n",
       "  <thead>\n",
       "    <tr style=\"text-align: right;\">\n",
       "      <th></th>\n",
       "      <th>0</th>\n",
       "      <th>1</th>\n",
       "      <th>2</th>\n",
       "      <th>3</th>\n",
       "      <th>4</th>\n",
       "      <th>5</th>\n",
       "      <th>6</th>\n",
       "      <th>7</th>\n",
       "      <th>8</th>\n",
       "      <th>9</th>\n",
       "      <th>...</th>\n",
       "      <th>30</th>\n",
       "      <th>31</th>\n",
       "      <th>32</th>\n",
       "      <th>33</th>\n",
       "      <th>34</th>\n",
       "      <th>35</th>\n",
       "      <th>36</th>\n",
       "      <th>37</th>\n",
       "      <th>38</th>\n",
       "      <th>39</th>\n",
       "    </tr>\n",
       "  </thead>\n",
       "  <tbody>\n",
       "    <tr>\n",
       "      <th>blood_type</th>\n",
       "      <td>A</td>\n",
       "      <td>A</td>\n",
       "      <td>A</td>\n",
       "      <td>A</td>\n",
       "      <td>A</td>\n",
       "      <td>A</td>\n",
       "      <td>A</td>\n",
       "      <td>A</td>\n",
       "      <td>A</td>\n",
       "      <td>A</td>\n",
       "      <td>...</td>\n",
       "      <td>B</td>\n",
       "      <td>B</td>\n",
       "      <td>O</td>\n",
       "      <td>O</td>\n",
       "      <td>O</td>\n",
       "      <td>O</td>\n",
       "      <td>AB</td>\n",
       "      <td>AB</td>\n",
       "      <td>AB</td>\n",
       "      <td>AB</td>\n",
       "    </tr>\n",
       "  </tbody>\n",
       "</table>\n",
       "<p>1 rows × 40 columns</p>\n",
       "</div>"
      ],
      "text/plain": [
       "           0  1  2  3  4  5  6  7  8  9   ... 30 31 32 33 34 35  36  37  38  \\\n",
       "blood_type  A  A  A  A  A  A  A  A  A  A  ...  B  B  O  O  O  O  AB  AB  AB   \n",
       "\n",
       "            39  \n",
       "blood_type  AB  \n",
       "\n",
       "[1 rows x 40 columns]"
      ]
     },
     "execution_count": 12,
     "metadata": {},
     "output_type": "execute_result"
    }
   ],
   "source": [
    "# [파일로 주어진 경우 직접 개수 계산]\n",
    "import pandas as pd\n",
    "data = {'blood_type': ['A']*16 + ['B']*16 + ['O']*4 + ['AB']*4}\n",
    "data = pd.DataFrame(data)\n",
    "data.T"
   ]
  },
  {
   "cell_type": "code",
   "execution_count": 13,
   "metadata": {
    "tags": []
   },
   "outputs": [
    {
     "name": "stdout",
     "output_type": "stream",
     "text": [
      "<class 'pandas.core.frame.DataFrame'>\n",
      "RangeIndex: 40 entries, 0 to 39\n",
      "Data columns (total 1 columns):\n",
      " #   Column      Non-Null Count  Dtype \n",
      "---  ------      --------------  ----- \n",
      " 0   blood_type  40 non-null     object\n",
      "dtypes: object(1)\n",
      "memory usage: 448.0+ bytes\n"
     ]
    }
   ],
   "source": [
    "data.info()"
   ]
  },
  {
   "cell_type": "code",
   "execution_count": 31,
   "metadata": {
    "tags": []
   },
   "outputs": [
    {
     "name": "stdout",
     "output_type": "stream",
     "text": [
      "[chisquare-적합도] 𝒳²= 26.6667, p-value= 0.0000 --> H0 기각\n"
     ]
    }
   ],
   "source": [
    "import numpy as np\n",
    "from scipy.stats import chisquare\n",
    "\n",
    "observed = data['blood_type'].value_counts()\n",
    "expected = observed.sum() * np.array([0.2, 0.2, 0.3, 0.3])\n",
    "\n",
    "s, pvalue = chisquare(f_obs=observed, f_exp=expected)\n",
    "print(f'[chisquare-적합도] 𝒳²= {s:,.4f}, p-value= {pvalue:,.4f} --> {\"H0 기각\" if pvalue < 0.05 else \"H0 채택\"}')"
   ]
  },
  {
   "cell_type": "markdown",
   "metadata": {
    "id": "VCRZhIkAPR0R"
   },
   "source": [
    "#### 1-2.동일비율\n",
    "4개의 범주에 대해 동일한 비율이라고 가정하고, 실제측정 한 표본 분포가 다음과 같을 때, 카이제곱 적합도 검정을 수행하여 보자\n",
    "\n",
    "        observed = [54, 46, 60, 40]\n"
   ]
  },
  {
   "cell_type": "markdown",
   "metadata": {
    "id": "kkShHc9fwwt9"
   },
   "source": [
    "- 𝑯_𝟎 : 변수의 분포에 비율 차이가 없다.\n",
    "- 𝑯_𝟏 : 변수의 분포에 비율 차이가 있다."
   ]
  },
  {
   "cell_type": "code",
   "execution_count": 37,
   "metadata": {
    "id": "uA_Ax2E9DWlu",
    "tags": []
   },
   "outputs": [
    {
     "name": "stdout",
     "output_type": "stream",
     "text": [
      "[chisquare-적합도] 𝒳²= 4.6400, p-value= 0.2001 --> H0 채택\n"
     ]
    }
   ],
   "source": [
    "observed = [54, 46, 60, 40]\n",
    "expected = sum(observed) * np.array([0.25, 0.25, 0.25, 0.25])\n",
    "\n",
    "s, pvalue = chisquare(observed, expected)\n",
    "print(f'[chisquare-적합도] 𝒳²= {s:,.4f}, p-value= {pvalue:,.4f} --> {\"H0 기각\" if pvalue < 0.05 else \"H0 채택\"}')"
   ]
  },
  {
   "cell_type": "markdown",
   "metadata": {
    "id": "SxRu53YNAzIQ"
   },
   "source": [
    "### 2.카이제곱 동질성/독립성 검정\n",
    "- 두 범주형 자료 간의 차이를 분석하는 검증 방법\n",
    "- 관찰빈도(실제값)가 기대빈도(기댓값)와 유의한 차이가 있는지 검증\n",
    "- 관찰빈도는 절대적 수치로만 관찰되어야 함, 기대빈도의 합과 관찰빈도의 합은 같음\n",
    "- 분할표의 칸 수 및 각 칸의 기대빈도는 5이상 이어야 함\n",
    "- 귀무가설이 기각되면 범주별 기대빈도와 관측빈도의 차이가 충분히 크다고 말할 수 있음\n",
    "- 기대빈도와 관찰빈도의 차이가 커지면 카이제곱 통계량도 커짐\n"
   ]
  },
  {
   "cell_type": "markdown",
   "metadata": {
    "id": "GCJnrWia2dVy"
   },
   "source": [
    "#### 2-1.카이제곱 동질성 검정\n",
    "- H0 : 성별별 핸드폰 모델 선호도 분포는 같다\n",
    "- H1 : 성별별 핸드폰 모델 선호도 분포가 같지 않다"
   ]
  },
  {
   "cell_type": "code",
   "execution_count": 38,
   "metadata": {
    "id": "0cSvCzSTr_HM",
    "tags": []
   },
   "outputs": [
    {
     "name": "stdout",
     "output_type": "stream",
     "text": [
      "   model_A  model_B  model_C\n",
      "M       10       40       50\n",
      "F       30       60       10\n"
     ]
    }
   ],
   "source": [
    "import pandas as pd\n",
    "\n",
    "crs_table = pd.DataFrame([[10, 40, 50], [30, 60, 10]], \n",
    "                         index=['M', 'F'], \n",
    "                columns=['model_A', 'model_B', 'model_C'])\n",
    "print(crs_table)"
   ]
  },
  {
   "cell_type": "markdown",
   "metadata": {
    "id": "_7ocSatdo6Fa"
   },
   "source": [
    "####2-2.카이제곱 독립성 검정\n",
    "- 귀무가설 : 당뇨와 비만 사이에 관계는 독립이다.\n",
    "- 대립가설 : 당뇨와 비만 사이에 관계는 독립이 아니다."
   ]
  },
  {
   "cell_type": "code",
   "execution_count": 48,
   "metadata": {
    "tags": []
   },
   "outputs": [
    {
     "name": "stdout",
     "output_type": "stream",
     "text": [
      "[chisquare-동질성] 𝒳²= 40.6667, p-value= 0.0000 --> H0 기각\n",
      "expected: \n",
      "   model_A  model_B  model_C\n",
      "M     20.0     50.0     30.0\n",
      "F     20.0     50.0     30.0\n",
      "observed: \n",
      "   model_A  model_B  model_C\n",
      "M       10       40       50\n",
      "F       30       60       10\n"
     ]
    }
   ],
   "source": [
    "import pandas as pd\n",
    "from scipy.stats import chi2_contingency\n",
    "\n",
    "observed = crs_table.copy()\n",
    "s, pvalue, dof, expected = chi2_contingency(observed)\n",
    "print(f'[chisquare-동질성] 𝒳²= {s:,.4f}, p-value= {pvalue:,.4f} --> {\"H0 기각\" if pvalue < 0.05 else \"H0 채택\"}')\n",
    "print('expected: ', pd.DataFrame(expected, index=observed.index, columns=observed.columns), sep='\\n')\n",
    "print('observed: ', observed, sep='\\n')"
   ]
  },
  {
   "cell_type": "code",
   "execution_count": 49,
   "metadata": {
    "id": "xFdtbLsfAzIm",
    "tags": []
   },
   "outputs": [
    {
     "name": "stdout",
     "output_type": "stream",
     "text": [
      "   당뇨 여부 비만 여부\n",
      "0      Y     N\n",
      "1      N     Y\n",
      "2      N     N\n",
      "3      N     N\n",
      "4      N     Y\n",
      "..   ...   ...\n",
      "95     N     N\n",
      "96     N     N\n",
      "97     Y     N\n",
      "98     N     N\n",
      "99     N     N\n",
      "\n",
      "[100 rows x 2 columns]\n"
     ]
    }
   ],
   "source": [
    "# [1] 데이터 가져오기\n",
    "import pandas as pd\n",
    "data = pd.read_csv(\"data_02/data_chi.csv\")\n",
    "print(data)"
   ]
  },
  {
   "cell_type": "code",
   "execution_count": 50,
   "metadata": {
    "tags": []
   },
   "outputs": [
    {
     "name": "stdout",
     "output_type": "stream",
     "text": [
      "<class 'pandas.core.frame.DataFrame'>\n",
      "RangeIndex: 100 entries, 0 to 99\n",
      "Data columns (total 2 columns):\n",
      " #   Column  Non-Null Count  Dtype \n",
      "---  ------  --------------  ----- \n",
      " 0   당뇨 여부   100 non-null    object\n",
      " 1   비만 여부   100 non-null    object\n",
      "dtypes: object(2)\n",
      "memory usage: 1.7+ KB\n"
     ]
    }
   ],
   "source": [
    "data.info()"
   ]
  },
  {
   "cell_type": "code",
   "execution_count": 52,
   "metadata": {
    "tags": []
   },
   "outputs": [
    {
     "data": {
      "text/html": [
       "<div>\n",
       "<style scoped>\n",
       "    .dataframe tbody tr th:only-of-type {\n",
       "        vertical-align: middle;\n",
       "    }\n",
       "\n",
       "    .dataframe tbody tr th {\n",
       "        vertical-align: top;\n",
       "    }\n",
       "\n",
       "    .dataframe thead th {\n",
       "        text-align: right;\n",
       "    }\n",
       "</style>\n",
       "<table border=\"1\" class=\"dataframe\">\n",
       "  <thead>\n",
       "    <tr style=\"text-align: right;\">\n",
       "      <th></th>\n",
       "      <th>당뇨 여부</th>\n",
       "      <th>비만 여부</th>\n",
       "    </tr>\n",
       "  </thead>\n",
       "  <tbody>\n",
       "    <tr>\n",
       "      <th>0</th>\n",
       "      <td>Y</td>\n",
       "      <td>N</td>\n",
       "    </tr>\n",
       "    <tr>\n",
       "      <th>1</th>\n",
       "      <td>N</td>\n",
       "      <td>Y</td>\n",
       "    </tr>\n",
       "  </tbody>\n",
       "</table>\n",
       "</div>"
      ],
      "text/plain": [
       "  당뇨 여부 비만 여부\n",
       "0     Y     N\n",
       "1     N     Y"
      ]
     },
     "execution_count": 52,
     "metadata": {},
     "output_type": "execute_result"
    }
   ],
   "source": [
    "data.head(2)"
   ]
  },
  {
   "cell_type": "code",
   "execution_count": 59,
   "metadata": {
    "id": "PkuYPjfhAzIo",
    "tags": []
   },
   "outputs": [
    {
     "data": {
      "text/html": [
       "<div>\n",
       "<style scoped>\n",
       "    .dataframe tbody tr th:only-of-type {\n",
       "        vertical-align: middle;\n",
       "    }\n",
       "\n",
       "    .dataframe tbody tr th {\n",
       "        vertical-align: top;\n",
       "    }\n",
       "\n",
       "    .dataframe thead th {\n",
       "        text-align: right;\n",
       "    }\n",
       "</style>\n",
       "<table border=\"1\" class=\"dataframe\">\n",
       "  <thead>\n",
       "    <tr style=\"text-align: right;\">\n",
       "      <th>비만 여부</th>\n",
       "      <th>N</th>\n",
       "      <th>Y</th>\n",
       "    </tr>\n",
       "    <tr>\n",
       "      <th>당뇨 여부</th>\n",
       "      <th></th>\n",
       "      <th></th>\n",
       "    </tr>\n",
       "  </thead>\n",
       "  <tbody>\n",
       "    <tr>\n",
       "      <th>N</th>\n",
       "      <td>62</td>\n",
       "      <td>22</td>\n",
       "    </tr>\n",
       "    <tr>\n",
       "      <th>Y</th>\n",
       "      <td>12</td>\n",
       "      <td>4</td>\n",
       "    </tr>\n",
       "  </tbody>\n",
       "</table>\n",
       "</div>"
      ],
      "text/plain": [
       "비만 여부   N   Y\n",
       "당뇨 여부        \n",
       "N      62  22\n",
       "Y      12   4"
      ]
     },
     "execution_count": 59,
     "metadata": {},
     "output_type": "execute_result"
    }
   ],
   "source": [
    "# [2] 카이제곱 분석을 위한 분할표 만들기\n",
    "observed = pd.crosstab(index=data['당뇨 여부'], columns=data['비만 여부'])\n",
    "observed"
   ]
  },
  {
   "cell_type": "code",
   "execution_count": 60,
   "metadata": {
    "id": "aaF4JuDgAzIq",
    "tags": []
   },
   "outputs": [
    {
     "name": "stdout",
     "output_type": "stream",
     "text": [
      "[chisquare-동질성] 𝒳²= 0.0000, p-value= 1.0000 --> H0 채택\n",
      "expected: \n",
      "비만 여부      N      Y\n",
      "당뇨 여부              \n",
      "N      62.16  21.84\n",
      "Y      11.84   4.16\n",
      "observed: \n",
      "비만 여부   N   Y\n",
      "당뇨 여부        \n",
      "N      62  22\n",
      "Y      12   4\n"
     ]
    }
   ],
   "source": [
    "# [3] 카이스퀘어 분석\n",
    "from scipy.stats import chi2_contingency\n",
    "\n",
    "s, pvalue, _, expected = chi2_contingency(observed)\n",
    "print(f'[chisquare-동질성] 𝒳²= {s:,.4f}, p-value= {pvalue:,.4f} --> {\"H0 기각\" if pvalue < 0.05 else \"H0 채택\"}')\n",
    "print('expected: ', pd.DataFrame(expected, index=observed.index, columns=observed.columns), sep='\\n')\n",
    "print('observed: ', observed, sep='\\n')"
   ]
  },
  {
   "cell_type": "code",
   "execution_count": null,
   "metadata": {
    "id": "K1zoZrmeAzIr"
   },
   "outputs": [],
   "source": [
    "# [4] 결론\n"
   ]
  },
  {
   "cell_type": "markdown",
   "metadata": {
    "id": "c1OAl4TEAzIr"
   },
   "source": [
    "#### 2-3.피셔의 정확검정\n",
    "- 만약 사건 발생 수, 빈도 수가 극히 적거나(특히 5개 이하의 빈도가 전체 셀 중 20%이상 존재하는 경우) 서로의 빈도 수의 차이가 많이나는 경우에는 카이제곱 검정의 정확도는 낮아집니다. \n",
    "- 이때 필요한 검정이 바로 '피셔의 정확검정'입니다."
   ]
  },
  {
   "cell_type": "markdown",
   "metadata": {
    "id": "CYYcCASq47Qq"
   },
   "source": [
    "가설설정\n",
    "- 귀무가설 : 약과 효과의 관계는 독립이다. \n",
    "- 대립가설 : 약과 효과의 관계가 독립이 아니다."
   ]
  },
  {
   "cell_type": "code",
   "execution_count": 61,
   "metadata": {
    "id": "co0B6Sp7AzIs",
    "tags": []
   },
   "outputs": [
    {
     "name": "stdout",
     "output_type": "stream",
     "text": [
      "      가짜 약  진짜 약\n",
      "효과있음     1     6\n",
      "효과없음     5     2\n"
     ]
    }
   ],
   "source": [
    "import pandas as pd\n",
    "\n",
    "# [1] 분할표 생성\n",
    "data = pd.DataFrame([[1, 6], [5, 2]])\n",
    "data.columns = ['가짜 약','진짜 약']\n",
    "data.index = ['효과있음', '효과없음']\n",
    "print(data)"
   ]
  },
  {
   "cell_type": "code",
   "execution_count": 63,
   "metadata": {
    "id": "XgrrakEyAzIt",
    "tags": []
   },
   "outputs": [
    {
     "name": "stdout",
     "output_type": "stream",
     "text": [
      "[Fisher Exact] statistics= 0.0667, p-value= 0.1026 --> H0 채택\n"
     ]
    }
   ],
   "source": [
    "# [2] 피셔 검정\n",
    "from scipy.stats import fisher_exact\n",
    "\n",
    "s, pvalue = fisher_exact(data, alternative='two-sided')\n",
    "print(f'[Fisher Exact] statistics= {s:,.4f}, p-value= {pvalue:,.4f} --> {\"H0 기각\" if pvalue < 0.05 else \"H0 채택\"}')"
   ]
  },
  {
   "cell_type": "code",
   "execution_count": null,
   "metadata": {
    "id": "_rd9IFPvRJl1"
   },
   "outputs": [],
   "source": [
    "help(fisher_exact)"
   ]
  },
  {
   "cell_type": "code",
   "execution_count": null,
   "metadata": {
    "id": "540ZpO-2AzIt"
   },
   "outputs": [],
   "source": [
    "# [3] 결과\n"
   ]
  },
  {
   "cell_type": "markdown",
   "metadata": {
    "id": "v9WM-wsiAzIu"
   },
   "source": [
    "####2-4.아내와 남편의 집안일\n",
    "- 귀무가설 : 집안일의 종류와 수행하는 사람의 관계는 독립이다.\n",
    "- 대립가설 : 집안일의 종류와 수행하는 사람의 관계가 독립이 아니다."
   ]
  },
  {
   "cell_type": "code",
   "execution_count": 65,
   "metadata": {
    "colab": {
     "base_uri": "https://localhost:8080/"
    },
    "id": "aUjCofq6vbzX",
    "outputId": "3dccdaed-3e42-450e-c87b-ee48d298b306",
    "scrolled": true,
    "tags": []
   },
   "outputs": [
    {
     "name": "stdout",
     "output_type": "stream",
     "text": [
      "(13, 4)\n",
      "<class 'pandas.core.frame.DataFrame'>\n",
      "Index: 13 entries, Laundry to Holidays\n",
      "Data columns (total 4 columns):\n",
      " #   Column       Non-Null Count  Dtype\n",
      "---  ------       --------------  -----\n",
      " 0   Wife         13 non-null     int64\n",
      " 1   Alternating  13 non-null     int64\n",
      " 2   Husband      13 non-null     int64\n",
      " 3   Jointly      13 non-null     int64\n",
      "dtypes: int64(4)\n",
      "memory usage: 520.0+ bytes\n",
      "None\n"
     ]
    }
   ],
   "source": [
    "# [1] crosstable 형태의 데이터 읽기\n",
    "import pandas as pd\n",
    "\n",
    "data = pd.read_csv('./data_02/housetasks.csv', index_col=0)\n",
    "print(data.shape)\n",
    "print(data.info())"
   ]
  },
  {
   "cell_type": "code",
   "execution_count": 66,
   "metadata": {
    "tags": []
   },
   "outputs": [
    {
     "data": {
      "text/html": [
       "<div>\n",
       "<style scoped>\n",
       "    .dataframe tbody tr th:only-of-type {\n",
       "        vertical-align: middle;\n",
       "    }\n",
       "\n",
       "    .dataframe tbody tr th {\n",
       "        vertical-align: top;\n",
       "    }\n",
       "\n",
       "    .dataframe thead th {\n",
       "        text-align: right;\n",
       "    }\n",
       "</style>\n",
       "<table border=\"1\" class=\"dataframe\">\n",
       "  <thead>\n",
       "    <tr style=\"text-align: right;\">\n",
       "      <th></th>\n",
       "      <th>Wife</th>\n",
       "      <th>Alternating</th>\n",
       "      <th>Husband</th>\n",
       "      <th>Jointly</th>\n",
       "    </tr>\n",
       "  </thead>\n",
       "  <tbody>\n",
       "    <tr>\n",
       "      <th>Laundry</th>\n",
       "      <td>156</td>\n",
       "      <td>14</td>\n",
       "      <td>2</td>\n",
       "      <td>4</td>\n",
       "    </tr>\n",
       "    <tr>\n",
       "      <th>Main_meal</th>\n",
       "      <td>124</td>\n",
       "      <td>20</td>\n",
       "      <td>5</td>\n",
       "      <td>4</td>\n",
       "    </tr>\n",
       "  </tbody>\n",
       "</table>\n",
       "</div>"
      ],
      "text/plain": [
       "           Wife  Alternating  Husband  Jointly\n",
       "Laundry     156           14        2        4\n",
       "Main_meal   124           20        5        4"
      ]
     },
     "execution_count": 66,
     "metadata": {},
     "output_type": "execute_result"
    }
   ],
   "source": [
    "data.head(2)"
   ]
  },
  {
   "cell_type": "code",
   "execution_count": 68,
   "metadata": {
    "id": "TUkflhpsvbzX",
    "tags": []
   },
   "outputs": [
    {
     "name": "stdout",
     "output_type": "stream",
     "text": [
      "[chisquare-독립성] 𝒳²= 1,944.4562, p-value= 0.0000 --> H0 기각\n",
      "expected: \n",
      "                 Wife  Alternating    Husband    Jointly\n",
      "Laundry     60.550459    25.633028  38.449541  51.366972\n",
      "Main_meal   52.637615    22.283257  33.424885  44.654243\n",
      "Dinner      37.155963    15.729358  23.594037  31.520642\n",
      "Breakfeast  48.165138    20.389908  30.584862  40.860092\n",
      "Tidying     41.972477    17.768349  26.652523  35.606651\n",
      "Dishes      38.876147    16.457569  24.686353  32.979931\n",
      "Shopping    41.284404    17.477064  26.215596  35.022936\n",
      "Official    33.027523    13.981651  20.972477  28.018349\n",
      "Driving     47.821101    20.244266  30.366399  40.568234\n",
      "Finances    38.876147    16.457569  24.686353  32.979931\n",
      "Insurance   47.821101    20.244266  30.366399  40.568234\n",
      "Repairs     56.766055    24.030963  36.046445  48.156537\n",
      "Holidays    55.045872    23.302752  34.954128  46.697248\n",
      "observed: \n",
      "            Wife  Alternating  Husband  Jointly\n",
      "Laundry      156           14        2        4\n",
      "Main_meal    124           20        5        4\n",
      "Dinner        77           11        7       13\n",
      "Breakfeast    82           36       15        7\n",
      "Tidying       53           11        1       57\n",
      "Dishes        32           24        4       53\n",
      "Shopping      33           23        9       55\n",
      "Official      12           46       23       15\n",
      "Driving       10           51       75        3\n",
      "Finances      13           13       21       66\n",
      "Insurance      8            1       53       77\n",
      "Repairs        0            3      160        2\n",
      "Holidays       0            1        6      153\n"
     ]
    }
   ],
   "source": [
    "# [2] 카이제곱 독립성 검정\n",
    "from scipy.stats import chi2_contingency\n",
    "\n",
    "observed = data.copy()\n",
    "\n",
    "s, pvalue, _, expected = chi2_contingency(observed)\n",
    "print(f'[chisquare-독립성] 𝒳²= {s:,.4f}, p-value= {pvalue:,.4f} --> {\"H0 기각\" if pvalue < 0.05 else \"H0 채택\"}')\n",
    "print('expected: ', pd.DataFrame(expected, index=observed.index, columns=observed.columns), sep='\\n')\n",
    "print('observed: ', observed, sep='\\n')"
   ]
  },
  {
   "cell_type": "code",
   "execution_count": null,
   "metadata": {
    "id": "JEUuPpmGvbzX"
   },
   "outputs": [],
   "source": [
    "# [3] 결과\n"
   ]
  },
  {
   "cell_type": "markdown",
   "metadata": {
    "id": "BPdRVNRiNorp"
   },
   "source": [
    "####2-5.분류 모델에서 활용\n",
    "- 2개 범주형 변수의 관계에 대해 검정한다"
   ]
  },
  {
   "cell_type": "code",
   "execution_count": 69,
   "metadata": {
    "id": "bDz_WRXS87QI",
    "tags": []
   },
   "outputs": [],
   "source": [
    "# [1] 파일 불러오기\n",
    "import pandas as pd\n",
    "data = pd.read_csv('https://raw.githubusercontent.com/Soyoung-Yoon/bigdata/main/1st_Train.csv')\n",
    "X = data.drop(columns=['Reached.on.Time_Y.N'])\n",
    "Y = data[['ID', 'Reached.on.Time_Y.N']]"
   ]
  },
  {
   "cell_type": "code",
   "execution_count": 71,
   "metadata": {
    "tags": []
   },
   "outputs": [
    {
     "name": "stdout",
     "output_type": "stream",
     "text": [
      "[(10999, 11), (10999, 2)]\n"
     ]
    }
   ],
   "source": [
    "print([x.shape for x in [X, Y]])"
   ]
  },
  {
   "cell_type": "code",
   "execution_count": 73,
   "metadata": {
    "id": "6-Ld0VziPKIG",
    "tags": []
   },
   "outputs": [
    {
     "data": {
      "text/plain": [
       "ID                     10999\n",
       "Warehouse_block            5\n",
       "Mode_of_Shipment           3\n",
       "Customer_care_calls        6\n",
       "Customer_rating            5\n",
       "Cost_of_the_Product      215\n",
       "Prior_purchases            8\n",
       "Product_importance         3\n",
       "Gender                     2\n",
       "Discount_offered          65\n",
       "Weight_in_gms           4034\n",
       "Reached.on.Time_Y.N        2\n",
       "dtype: int64"
      ]
     },
     "execution_count": 73,
     "metadata": {},
     "output_type": "execute_result"
    }
   ],
   "source": [
    "#[2] X,Y가 분리되어 있는 경우 병합하기\n",
    "data = pd.merge(X, Y, on='ID')\n",
    "\n",
    "#[3] 컬럼별 값의 가짓수 확인하기\n",
    "data.nunique()"
   ]
  },
  {
   "cell_type": "code",
   "execution_count": 76,
   "metadata": {
    "id": "gcEfce_LPzYo",
    "tags": []
   },
   "outputs": [
    {
     "name": "stdout",
     "output_type": "stream",
     "text": [
      "F    3666\n",
      "D    1834\n",
      "A    1833\n",
      "B    1833\n",
      "C    1833\n",
      "Name: Warehouse_block, dtype: int64\n",
      "Ship      7462\n",
      "Flight    1777\n",
      "Road      1760\n",
      "Name: Mode_of_Shipment, dtype: int64\n",
      "low       5297\n",
      "medium    4754\n",
      "high       948\n",
      "Name: Product_importance, dtype: int64\n",
      "F    5545\n",
      "M    5454\n",
      "Name: Gender, dtype: int64\n",
      "3    2239\n",
      "1    2235\n",
      "4    2189\n",
      "5    2171\n",
      "2    2165\n",
      "Name: Customer_rating, dtype: int64\n",
      "4    3557\n",
      "3    3217\n",
      "5    2328\n",
      "6    1013\n",
      "2     638\n",
      "7     246\n",
      "Name: Customer_care_calls, dtype: int64\n",
      "3     3955\n",
      "2     2599\n",
      "4     2155\n",
      "5     1287\n",
      "6      561\n",
      "10     178\n",
      "7      136\n",
      "8      128\n",
      "Name: Prior_purchases, dtype: int64\n"
     ]
    }
   ],
   "source": [
    "#[4] 범주형 변수 확인하기 \n",
    "# (설명을 보고 확인하는 것이 정확함)\n",
    "x_features = ['Warehouse_block', 'Mode_of_Shipment', 'Product_importance', 'Gender', 'Customer_rating', 'Customer_care_calls', 'Prior_purchases']\n",
    "y_feature = 'Reached.on.Time_Y.N'\n",
    "\n",
    "for x_feature in x_features:\n",
    "    print(data[x_feature].value_counts())"
   ]
  },
  {
   "cell_type": "markdown",
   "metadata": {
    "id": "m1CLeC-_SFKv"
   },
   "source": [
    "- (독립)범주형 변수 : 'Warehouse_block', 'Mode_of_Shipment', 'Product_importance', 'Gender', 'Customer_rating', 'Customer_care_calls', 'Prior_purchases'\n",
    "- (종속)범주형 변수 : 'Reached.on.Time_Y.N'\n",
    "- 귀무가설 : 'Reached.on.Time_Y.N'과 feature는 독립이다. (연관성이 없다.)\n",
    "- 대립가설 : 'Reached.on.Time_Y.N'과 feature는 독립이 아니다. (연관성이 있다.)\n"
   ]
  },
  {
   "cell_type": "code",
   "execution_count": 81,
   "metadata": {
    "id": "dOX9QW4KkzoV",
    "tags": []
   },
   "outputs": [
    {
     "name": "stdout",
     "output_type": "stream",
     "text": [
      "Warehouse_block      vs Reached.on.Time_Y.N - 연관성 없음\n",
      "Mode_of_Shipment     vs Reached.on.Time_Y.N - 연관성 없음\n",
      "Product_importance   vs Reached.on.Time_Y.N - 연관성 있음\n",
      "Gender               vs Reached.on.Time_Y.N - 연관성 없음\n",
      "Customer_rating      vs Reached.on.Time_Y.N - 연관성 없음\n",
      "Customer_care_calls  vs Reached.on.Time_Y.N - 연관성 있음\n",
      "Prior_purchases      vs Reached.on.Time_Y.N - 연관성 있음\n"
     ]
    }
   ],
   "source": [
    "# [5] 카이제곱 독립성 검정\n",
    "from  scipy.stats import chi2_contingency\n",
    "\n",
    "for x_feature in x_features:\n",
    "    observed = pd.crosstab(data[y_feature], data[x_feature])\n",
    "    _, pvalue, _, _ = chi2_contingency(observed)\n",
    "    print(f'{x_feature:20s} vs {y_feature:10s} - {\"연관성 있음\" if pvalue < 0.05 else \"연관성 없음\"}')"
   ]
  },
  {
   "cell_type": "code",
   "execution_count": null,
   "metadata": {
    "id": "s05J6N5STYR4"
   },
   "outputs": [],
   "source": [
    "# [6] 결론\n"
   ]
  },
  {
   "cell_type": "code",
   "execution_count": null,
   "metadata": {
    "id": "GM6GHFFykA2_"
   },
   "outputs": [],
   "source": [
    "def my_chi2(data, feature, target):\n",
    "    pass\n"
   ]
  },
  {
   "cell_type": "markdown",
   "metadata": {
    "id": "3RbZJzgisWPn"
   },
   "source": [
    "### 3.Wilcoxon Signed Rank Test\n",
    "- 일표본/대응표본 T검정에서 정규성 가정이 만족되지 않을 때 사용하는 비모수 검정법\n",
    "- 일표본/대응표본 T검정과는 달리 **중앙값에 관한 결과를 얻을 수 있음**.\n",
    "- 가정\n",
    "  1. 표본은 동일한 모집단에서 추출되어야 한다.\n",
    "  2. 표본은 임의, 독립적으로 추출되어야 한다."
   ]
  },
  {
   "cell_type": "markdown",
   "metadata": {
    "id": "Y_lV-lfmsWPr"
   },
   "source": [
    "#### 3-1.일표본(One Sample)\n",
    "- alternative='two-sided'\n",
    "   - H0: 모집단의 중앙값은 A 이다.\n",
    "   - H1: 모집단의 중앙값은 A가 아니다.\n",
    "- alternative='less'\n",
    "   - H0: 모집단의 중앙값은 A보다 크거나 같다.\n",
    "   - H1: 모집단의 중앙값은 A보다 작다.\n",
    "- alternative='greater'\n",
    "   - H0: 모집단의 중앙값은 A보다 작거나 같다.\n",
    "   - H1: 모집단의 중앙값은 A보다 크다.    "
   ]
  },
  {
   "cell_type": "markdown",
   "metadata": {
    "id": "RuCyqbRMw6LI"
   },
   "source": [
    "중량이 100g 으로 표기된 닭가슴살 제품이 100g이라고 할 수 있는가?\n",
    "- 동일한 회사 제품을 임의로 9개 표본 추출하였음\n",
    "- 통계적 유의수준은 0.05로 사용함\n",
    "- H0: 닭 가슴살 중량의 중앙값은 100g이다\n",
    "- H1: 닭 가슴살 중량의 중앙값은 100g이 아니다"
   ]
  },
  {
   "cell_type": "code",
   "execution_count": 82,
   "metadata": {
    "colab": {
     "base_uri": "https://localhost:8080/"
    },
    "id": "T8Hsa8MRsWPu",
    "outputId": "a2b6f9c5-e98e-4863-efb6-8e227dfbb59b",
    "tags": []
   },
   "outputs": [
    {
     "name": "stdout",
     "output_type": "stream",
     "text": [
      "       weight\n",
      "0  107.704526\n",
      "1   96.505220\n",
      "2  109.417631\n",
      "3  109.696405\n",
      "4   90.783694\n",
      "5  107.871426\n",
      "6  106.447983\n",
      "7  104.484894\n",
      "8   95.778403\n"
     ]
    }
   ],
   "source": [
    "# [1] 데이터 가져오기\n",
    "import pandas as pd\n",
    "df = pd.read_csv('./data_02/chicken_breast.csv')\n",
    "print(df)"
   ]
  },
  {
   "cell_type": "code",
   "execution_count": 83,
   "metadata": {
    "id": "x53QNwEPsWPw",
    "tags": []
   },
   "outputs": [
    {
     "data": {
      "text/plain": [
       "106.447983025573"
      ]
     },
     "execution_count": 83,
     "metadata": {},
     "output_type": "execute_result"
    }
   ],
   "source": [
    "# [2] 중앙값 구하기\n",
    "df['weight'].median()"
   ]
  },
  {
   "cell_type": "code",
   "execution_count": 86,
   "metadata": {
    "id": "iwnfln_WsWPw",
    "tags": []
   },
   "outputs": [
    {
     "name": "stdout",
     "output_type": "stream",
     "text": [
      "[wilcoxon singed rank test] statistics= 10.0000, p-value= 0.1641 --> H0 채택\n"
     ]
    }
   ],
   "source": [
    "# [3] 윌콕슨 검정 실행\n",
    "from scipy.stats import wilcoxon \n",
    "\n",
    "s, pvalue = wilcoxon(df['weight']-100, alternative='two-sided')\n",
    "print(f'[wilcoxon singed rank test] statistics= {s:,.4f}, p-value= {pvalue:,.4f} --> {\"H0 기각\" if pvalue < 0.05 else \"H0 채택\"}')"
   ]
  },
  {
   "cell_type": "code",
   "execution_count": null,
   "metadata": {
    "id": "zrmkmOoFsWPx"
   },
   "outputs": [],
   "source": [
    "# [4] 결과\n"
   ]
  },
  {
   "cell_type": "markdown",
   "metadata": {
    "id": "xSY1jrGlVisp"
   },
   "source": [
    "alternative='less'\n",
    "- H0: 닭가슴살 중량의 중앙값은 100 보다 크거나 같다.\n",
    "- H1: 닭가슴살 중량의 중앙값은 100 보다 작다."
   ]
  },
  {
   "cell_type": "code",
   "execution_count": 91,
   "metadata": {
    "id": "KIxyHdlAsWPy",
    "tags": []
   },
   "outputs": [
    {
     "name": "stdout",
     "output_type": "stream",
     "text": [
      "[wilcoxon singed rank test] statistics= 35.0000, p-value= 0.9355 --> H0 채택\n"
     ]
    }
   ],
   "source": [
    "from scipy.stats import wilcoxon \n",
    "\n",
    "s, pvalue = wilcoxon(df['weight']-100, alternative='less')\n",
    "print(f'[wilcoxon singed rank test] statistics= {s:,.4f}, p-value= {pvalue:,.4f} --> {\"H0 기각\" if pvalue < 0.05 else \"H0 채택\"}')"
   ]
  },
  {
   "cell_type": "markdown",
   "metadata": {
    "id": "jZG_MJCEWAue"
   },
   "source": [
    "alternative='greater'\n",
    "- H0: 닭가슴살 중량의 중앙값은 100 보다 작거나 같다.\n",
    "- H1: 닭가슴살 중량의 중앙값은 100 보다 크다."
   ]
  },
  {
   "cell_type": "code",
   "execution_count": 95,
   "metadata": {
    "id": "bPFA118LsWPx",
    "tags": []
   },
   "outputs": [
    {
     "name": "stdout",
     "output_type": "stream",
     "text": [
      "[wilcoxon singed rank test] statistics= 35.0000, p-value= 0.0820 --> H0 채택\n"
     ]
    }
   ],
   "source": [
    "from scipy.stats import wilcoxon\n",
    "\n",
    "s, pvalue = wilcoxon(df['weight']-100, alternative='greater')\n",
    "print(f'[wilcoxon singed rank test] statistics= {s:,.4f}, p-value= {pvalue:,.4f} --> {\"H0 기각\" if pvalue < 0.05 else \"H0 채택\"}')"
   ]
  },
  {
   "cell_type": "markdown",
   "metadata": {
    "id": "nVeut6MEsWPz"
   },
   "source": [
    "#### 3-2.대응표본(Paired)\n",
    "- alternative='two-sided'\n",
    "    - H0: 값 차이(처리후 - 처리전)의 중앙값이 0이다(=값의 차이가 없다)\n",
    "    - H1: 값 차이(처리후 - 처리전)의 중앙값이 0이 아니다(=값의 차이가 있다)\n",
    "- alternative='less'\n",
    "    - H0: 값 차이(처리후 - 처리전)의 중앙값이 0보다 크거나 같다\n",
    "    - H1: 값 차이(처리후 - 처리전)의 중앙값이 0보다 작다\n",
    "- alternative='greater'\n",
    "    - H0: 값 차이(처리후 - 처리전)의 중앙값이 0보다 작거나 같다\n",
    "    - H1: 값 차이(처리후 - 처리전)의 중앙값이 0보다 크다 "
   ]
  },
  {
   "cell_type": "markdown",
   "metadata": {
    "id": "RBYraU93L_hX"
   },
   "source": [
    "다이어트 후, 체중이 줄었다고 할 수 있는가? 몸무게 : 비율척도\n",
    "- 동일한 회사 제품을 임의로 8개 표본 추출하였음\n",
    "- 통계적 유의수준은 0.05로 사용함\n"
   ]
  },
  {
   "cell_type": "markdown",
   "metadata": {
    "id": "sRBDBOT9XehC"
   },
   "source": [
    "alternative='less'\n",
    "- H0: 다이어트 후 - 다이어트 전 몸무게 중앙값은 0보다 크거나 같다 \n",
    "- H1: 다이어트 후 - 다이어트 전 몸무게 중앙값은 0보다 작다."
   ]
  },
  {
   "cell_type": "code",
   "execution_count": 99,
   "metadata": {
    "colab": {
     "base_uri": "https://localhost:8080/"
    },
    "id": "iKA8w9zbsWPz",
    "outputId": "de94092e-b4a9-42f9-fa67-f47fbf56bff1",
    "tags": []
   },
   "outputs": [
    {
     "name": "stdout",
     "output_type": "stream",
     "text": [
      "      before      after\n",
      "0  60.038972  56.153355\n",
      "1  58.566940  55.678046\n",
      "2  62.200320  63.010597\n",
      "3  68.522263  64.413353\n",
      "4  54.802465  52.110032\n",
      "5  55.437637  51.330742\n",
      "6  64.700073  62.047727\n",
      "7  65.030917  61.157653\n"
     ]
    }
   ],
   "source": [
    "# [1] 파일 불러오기\n",
    "import pandas as pd\n",
    "df = pd.read_csv('data_02/diet_result.csv')\n",
    "print(df)"
   ]
  },
  {
   "cell_type": "code",
   "execution_count": null,
   "metadata": {
    "id": "y6VjXh8rJzML"
   },
   "outputs": [],
   "source": [
    "# scipy.stats.wilcoxon(x, y=None, zero_method='wilcox', correction=False, alternative='two-sided', mode='auto')\n",
    "# The Wilcoxon signed-rank test tests the null hypothesis that two related paired samples come from the same distribution. \n",
    "# In particular, it tests whether the distribution of the differences x - y is symmetric about zero.\n",
    "# It is a non-parametric version of the paired T-test."
   ]
  },
  {
   "cell_type": "code",
   "execution_count": 100,
   "metadata": {
    "id": "eTPRCvvmsWP0",
    "tags": []
   },
   "outputs": [],
   "source": [
    "# [2] wilcoxon sign rank sum - (paired t-test의 비모수)\n",
    "g_after = df['after']\n",
    "g_before = df['before']"
   ]
  },
  {
   "cell_type": "code",
   "execution_count": 104,
   "metadata": {
    "id": "xYr_yQ0csWP0",
    "tags": []
   },
   "outputs": [
    {
     "name": "stdout",
     "output_type": "stream",
     "text": [
      "after   - 중앙값: 58.6555\n",
      "before  - 중앙값: 61.1196\n"
     ]
    }
   ],
   "source": [
    "# [3] 결과\n",
    "for feature in ['after', 'before']:\n",
    "    print(f'{feature:7s} - 중앙값: {df[feature].median():,.4f}')"
   ]
  },
  {
   "cell_type": "markdown",
   "metadata": {
    "id": "M2jZy4s_aiQ-"
   },
   "source": [
    "alternative='two-sided'\n",
    "- H0: 다이어트 후 - 다이어트 전 몸무게 중앙값은 0과 같다 \n",
    "- H1: 다이어트 후 - 다이어트 전 몸무게 중앙값은 0과 다르다"
   ]
  },
  {
   "cell_type": "code",
   "execution_count": 113,
   "metadata": {
    "id": "ZAj8pg94ao7i",
    "tags": []
   },
   "outputs": [
    {
     "name": "stdout",
     "output_type": "stream",
     "text": [
      "[wilcoxon singed rank test (paired)] statistics= 1.0000, p-value= 0.0156 --> H0 기각\n"
     ]
    }
   ],
   "source": [
    "from scipy.stats import wilcoxon\n",
    "\n",
    "s, pvalue = wilcoxon(g_after, g_before, alternative='two-sided')\n",
    "print(f'[wilcoxon singed rank test (paired)] statistics= {s:,.4f}, p-value= {pvalue:,.4f} --> {\"H0 기각\" if pvalue < 0.05 else \"H0 채택\"}')"
   ]
  },
  {
   "cell_type": "markdown",
   "metadata": {},
   "source": [
    "alternative='less'\n",
    "- H0: 다이어트 후 - 다이어트 전 몸무게 중앙값은 0보다 크거나 같다 \n",
    "- H1: 다이어트 후 - 다이어트 전 몸무게 중앙값은 0보다 작다"
   ]
  },
  {
   "cell_type": "code",
   "execution_count": 114,
   "metadata": {
    "tags": []
   },
   "outputs": [
    {
     "name": "stdout",
     "output_type": "stream",
     "text": [
      "[wilcoxon singed rank test (paired)] statistics= 1.0000, p-value= 0.0078 --> H0 기각\n"
     ]
    }
   ],
   "source": [
    "from scipy.stats import wilcoxon\n",
    "\n",
    "s, pvalue = wilcoxon(g_after, g_before, alternative='less')\n",
    "print(f'[wilcoxon singed rank test (paired)] statistics= {s:,.4f}, p-value= {pvalue:,.4f} --> {\"H0 기각\" if pvalue < 0.05 else \"H0 채택\"}')"
   ]
  },
  {
   "cell_type": "markdown",
   "metadata": {
    "id": "asqAuDPla26U"
   },
   "source": [
    "alternative='greater'\n",
    "- H0: 다이어트 후 - 다이어트 전 몸무게 중앙값은 0보다 작거나 같다 \n",
    "- H1: 다이어트 후 - 다이어트 전 몸무게 중앙값은 0보다 크다"
   ]
  },
  {
   "cell_type": "code",
   "execution_count": 112,
   "metadata": {
    "id": "LVprTAbKa1k9",
    "tags": []
   },
   "outputs": [
    {
     "name": "stdout",
     "output_type": "stream",
     "text": [
      "[wilcoxon singed rank test (paired)] statistics= 1.0000, p-value= 0.9961 --> H0 채택\n"
     ]
    }
   ],
   "source": [
    "from scipy.stats import wilcoxon\n",
    "\n",
    "s, pvalue = wilcoxon(g_after, g_before, alternative='greater')\n",
    "print(f'[wilcoxon singed rank test (paired)] statistics= {s:,.4f}, p-value= {pvalue:,.4f} --> {\"H0 기각\" if pvalue < 0.05 else \"H0 채택\"}')"
   ]
  },
  {
   "cell_type": "markdown",
   "metadata": {
    "id": "avKGqqA-sWP0"
   },
   "source": [
    "###4.독립 2표본(Two Sample)\n",
    "- 독립 2표본 T검정에서 정규성 가정이 만족되지 않을 때 사용하는 비모수 검정법\n",
    "- **두 표본의 중위수를 비교**하는데 쓰임\n",
    "- 가정\n",
    "   1. 두 그룹은 독립적이다\n",
    "   2. 측정값은 최소 순서형 변수이다(대소 비교가 가능해야 함)\n",
    "\n",
    "   "
   ]
  },
  {
   "cell_type": "markdown",
   "metadata": {
    "id": "FdKSUU-LoGk8"
   },
   "source": [
    "- alternative='two-sided'\n",
    "    - H0: gA의 중앙값과 gB의 중앙값이 같다(차이가 없다)\n",
    "    - H1: gA의 중앙값과 gB의 중앙값이 다르다(차이가 있다)\n",
    "- alternative='less'\n",
    "    - H0: gA의 중앙값이 gB의 중앙값보다 크거나 같다\n",
    "    - H1: gA의 중앙값이 gB의 중앙값보다 작다\n",
    "- alternative='greater'\n",
    "    - H0: gA의 중앙값이 gB의 중앙값보다 작거나 같다\n",
    "    - H1: gA의 중앙값이 gB의 중앙값보다 크다"
   ]
  },
  {
   "cell_type": "markdown",
   "metadata": {
    "id": "1ntotjlgeWCv"
   },
   "source": [
    "#### 4-1.Wilcoxon Rank Sum Test"
   ]
  },
  {
   "cell_type": "markdown",
   "metadata": {
    "id": "3m3_AQNEdzV6"
   },
   "source": [
    "A사 닭가슴살 제품의 중량과 B사 닭가슴살 제품의 중량이 차이가 있는지 확인\n",
    "- A사 닭가슴살은 40개의 표본, B사 닭가슴살은 20개의 표본이 있으며\n",
    "- 각각 독립적이고 임의로 추출했다\n",
    "- 통계적 유의수준은 0.05 사용\n"
   ]
  },
  {
   "cell_type": "markdown",
   "metadata": {
    "id": "-Vwa_FQ5eI0C"
   },
   "source": [
    "alternative='two-sided'\n",
    "- H0: A사 닭가슴살 중량과 B사 닭가슴살 중량의 차이가 없다\n",
    "- H1: A사 닭가슴살 중량과 B사 닭가슴살 중량의 차이가 있다"
   ]
  },
  {
   "cell_type": "code",
   "execution_count": null,
   "metadata": {
    "id": "ur8JubqzsWP1"
   },
   "outputs": [],
   "source": [
    "# [1] 파일 불러오기\n",
    "import pandas as pd\n",
    "df = pd.read_csv('data_02/chicken_weight_AB.csv')\n",
    "df"
   ]
  },
  {
   "cell_type": "code",
   "execution_count": null,
   "metadata": {
    "id": "bxa_tBVHsWP1"
   },
   "outputs": [],
   "source": [
    "# [2] 그룹 나누기\n"
   ]
  },
  {
   "cell_type": "markdown",
   "metadata": {
    "id": "ekpq5xQVsWP2"
   },
   "source": [
    "scipy.stats.ranksums(x, y, alternative='two-sided')\n",
    "- Compute the Wilcoxon rank-sum statistic for two samples.\n",
    "- The Wilcoxon rank-sum test tests the null hypothesis that two sets of measurements are drawn from the same distribution. \n",
    "- The alternative hypothesis is that values in one sample are more likely to be larger than the values in the other sample.\n",
    "\n",
    "- This test should be used to compare two samples from continuous distributions. \n",
    "- It does not handle ties between measurements in x and y. For tie-handling and an optional continuity correction see scipy.stats.mannwhitneyu."
   ]
  },
  {
   "cell_type": "code",
   "execution_count": null,
   "metadata": {
    "id": "ivWM3O-UsWP3"
   },
   "outputs": [],
   "source": [
    "# [3] wilcoxon rank sum test (two sample)\n",
    "from scipy.stats import ranksums\n"
   ]
  },
  {
   "cell_type": "code",
   "execution_count": null,
   "metadata": {
    "id": "OCGB-udUsWP3"
   },
   "outputs": [],
   "source": [
    "# [4] 결과\n"
   ]
  },
  {
   "cell_type": "markdown",
   "metadata": {
    "id": "ndUdlcB5ovW9"
   },
   "source": [
    "alternative='less'\n",
    "- H0: A사 닭가슴살 중량이 B사 닭가슴살 중량보다 크거나 같다\n",
    "- H1: A사 닭가슴살 중량이 B사 닭가슴살 중량보다 작다"
   ]
  },
  {
   "cell_type": "code",
   "execution_count": null,
   "metadata": {
    "id": "_790RW13ps_9"
   },
   "outputs": [],
   "source": [
    "# wilcoxon rank sum test (two sample)\n"
   ]
  },
  {
   "cell_type": "markdown",
   "metadata": {
    "id": "3VeqYEnfqGsW"
   },
   "source": [
    "alternative='greater'\n",
    "- H0: A사 닭가슴살 중량이 B사 닭가슴살 중량보다 작거나 같다\n",
    "- H1: A사 닭가슴살 중량이 B사 닭가슴살 중량보다 크다"
   ]
  },
  {
   "cell_type": "code",
   "execution_count": null,
   "metadata": {
    "id": "IBrwFLpVqMhF"
   },
   "outputs": [],
   "source": [
    "# wilcoxon rank sum test (two sample)\n",
    "from scipy.stats import ranksums\n"
   ]
  },
  {
   "cell_type": "markdown",
   "metadata": {
    "id": "YNSWc5YGlCVl"
   },
   "source": [
    "#### 4-2.Mann-Whitney U test"
   ]
  },
  {
   "cell_type": "markdown",
   "metadata": {
    "id": "eZls1pBOsWP3"
   },
   "source": [
    "scipy.stats.mannwhitneyu(x, y, use_continuity=True, alternative='two-sided', axis=0, method='auto')\n",
    "- Perform the Mann-Whitney U rank test on two independent samples.\n",
    "- The Mann-Whitney U test is a nonparametric test of the null hypothesis that the distribution underlying sample x is the same as the distribution underlying sample y. \n"
   ]
  },
  {
   "cell_type": "markdown",
   "metadata": {
    "id": "cxi9eMCnc9Yp"
   },
   "source": [
    "alternative='two-sided'\n",
    "- H0: A사 닭가슴살 중량과 B사 닭가슴살 중량의 차이가 없다\n",
    "- H1: A사 닭가슴살 중량과 B사 닭가슴살 중량의 차이가 있다"
   ]
  },
  {
   "cell_type": "code",
   "execution_count": null,
   "metadata": {
    "id": "LrYQy8hSkmB7"
   },
   "outputs": [],
   "source": [
    "# [1] Mann-Whitney U test (two sample)\n",
    "from scipy.stats import mannwhitneyu\n"
   ]
  },
  {
   "cell_type": "code",
   "execution_count": null,
   "metadata": {
    "id": "snTOAfHKkm-N"
   },
   "outputs": [],
   "source": [
    "# [2] 결과\n"
   ]
  },
  {
   "cell_type": "markdown",
   "metadata": {
    "id": "QMN9fqKvkqkI"
   },
   "source": [
    "alternative='less'\n",
    "- H0: A사 닭가슴살 중량이 B사 닭가슴살 중량보다 크거나 같다\n",
    "- H1: A사 닭가슴살 중량이 B사 닭가슴살 중량보다 작다"
   ]
  },
  {
   "cell_type": "code",
   "execution_count": null,
   "metadata": {
    "id": "ZlJG14OPkrfA"
   },
   "outputs": [],
   "source": []
  },
  {
   "cell_type": "markdown",
   "metadata": {
    "id": "DlLISFlCkuJw"
   },
   "source": [
    "alternative='greater'\n",
    "- H0: A사 닭가슴살 중량이 B사 닭가슴살 중량보다 작거나 같다\n",
    "- H1: A사 닭가슴살 중량이 B사 닭가슴살 중량보다 크다"
   ]
  },
  {
   "cell_type": "code",
   "execution_count": null,
   "metadata": {
    "id": "P9nnJkNTku_4"
   },
   "outputs": [],
   "source": []
  },
  {
   "cell_type": "markdown",
   "metadata": {
    "id": "T8UKpoResWP5"
   },
   "source": [
    "### 5.Kruskal-Wallis H-test\n",
    "- 분산 분석(ANOVA)에서 정규성 가정이 만족되지 않을 때 사용하는 비모수 검정법\n",
    "- ANOVA와는 달리 중앙값에 관한 결과를 얻을 수 있음\n",
    "- 가정\n",
    "  1. 표본은 독립적이다.\n",
    "  2. 측정값은 최소 순서형 변수이다. (대소 비교가 가능해야 합니다.)\n",
    "- 가설\n",
    "  - H0: 모든 그룹의 중앙값은 서로 같다\n",
    "  - H1: 모든 그룹의 중앙값이 전부 같은 것은 아니다"
   ]
  },
  {
   "cell_type": "markdown",
   "metadata": {
    "id": "H3iixAzusWP5"
   },
   "source": [
    "scipy.stats.kruskal(*args, nan_policy='propagate')[source]\n",
    "- The Kruskal-Wallis H-test tests the null hypothesis that the population median of all of the groups are equal. \n",
    "- It is a non-parametric version of ANOVA. The test works on 2 or more independent samples, which may have different sizes. \n",
    "- Note that rejecting the null hypothesis does not indicate which of the groups differs. \n",
    "- Post hoc comparisons between groups are required to determine which groups are different."
   ]
  },
  {
   "cell_type": "markdown",
   "metadata": {
    "id": "GrJjSMVvqwUv"
   },
   "source": [
    "####5-1.K개 Sample\n",
    "- A, B, C 고등학교 학생들의 하루 공부 시간을 조사했을 때,고등학교 간에 공부 시간이 차이가 있는지 확인\n",
    "- 통계적 유의수준은 0.05\n"
   ]
  },
  {
   "cell_type": "markdown",
   "metadata": {
    "id": "Oa1vYvOsrC3S"
   },
   "source": [
    "- H0: A,B,C 고등학교 학생들의 하루 공부시간에 차이가 없다\n",
    "- H1: A,B,C 고등학교 학생들의 하루 공부시간에 차이가 있다"
   ]
  },
  {
   "cell_type": "code",
   "execution_count": null,
   "metadata": {
    "colab": {
     "base_uri": "https://localhost:8080/",
     "height": 112
    },
    "id": "qGFPt-x_sWP5",
    "outputId": "d8046da9-e917-40e8-f1fd-fcb38074d128"
   },
   "outputs": [
    {
     "data": {
      "text/html": [
       "\n",
       "  <div id=\"df-46e74652-dd77-43c4-a9a1-5f9312de2e8d\">\n",
       "    <div class=\"colab-df-container\">\n",
       "      <div>\n",
       "<style scoped>\n",
       "    .dataframe tbody tr th:only-of-type {\n",
       "        vertical-align: middle;\n",
       "    }\n",
       "\n",
       "    .dataframe tbody tr th {\n",
       "        vertical-align: top;\n",
       "    }\n",
       "\n",
       "    .dataframe thead th {\n",
       "        text-align: right;\n",
       "    }\n",
       "</style>\n",
       "<table border=\"1\" class=\"dataframe\">\n",
       "  <thead>\n",
       "    <tr style=\"text-align: right;\">\n",
       "      <th></th>\n",
       "      <th>group</th>\n",
       "      <th>time</th>\n",
       "    </tr>\n",
       "  </thead>\n",
       "  <tbody>\n",
       "    <tr>\n",
       "      <th>0</th>\n",
       "      <td>A</td>\n",
       "      <td>12.525909</td>\n",
       "    </tr>\n",
       "    <tr>\n",
       "      <th>1</th>\n",
       "      <td>A</td>\n",
       "      <td>9.347533</td>\n",
       "    </tr>\n",
       "  </tbody>\n",
       "</table>\n",
       "</div>\n",
       "      <button class=\"colab-df-convert\" onclick=\"convertToInteractive('df-46e74652-dd77-43c4-a9a1-5f9312de2e8d')\"\n",
       "              title=\"Convert this dataframe to an interactive table.\"\n",
       "              style=\"display:none;\">\n",
       "        \n",
       "  <svg xmlns=\"http://www.w3.org/2000/svg\" height=\"24px\"viewBox=\"0 0 24 24\"\n",
       "       width=\"24px\">\n",
       "    <path d=\"M0 0h24v24H0V0z\" fill=\"none\"/>\n",
       "    <path d=\"M18.56 5.44l.94 2.06.94-2.06 2.06-.94-2.06-.94-.94-2.06-.94 2.06-2.06.94zm-11 1L8.5 8.5l.94-2.06 2.06-.94-2.06-.94L8.5 2.5l-.94 2.06-2.06.94zm10 10l.94 2.06.94-2.06 2.06-.94-2.06-.94-.94-2.06-.94 2.06-2.06.94z\"/><path d=\"M17.41 7.96l-1.37-1.37c-.4-.4-.92-.59-1.43-.59-.52 0-1.04.2-1.43.59L10.3 9.45l-7.72 7.72c-.78.78-.78 2.05 0 2.83L4 21.41c.39.39.9.59 1.41.59.51 0 1.02-.2 1.41-.59l7.78-7.78 2.81-2.81c.8-.78.8-2.07 0-2.86zM5.41 20L4 18.59l7.72-7.72 1.47 1.35L5.41 20z\"/>\n",
       "  </svg>\n",
       "      </button>\n",
       "      \n",
       "  <style>\n",
       "    .colab-df-container {\n",
       "      display:flex;\n",
       "      flex-wrap:wrap;\n",
       "      gap: 12px;\n",
       "    }\n",
       "\n",
       "    .colab-df-convert {\n",
       "      background-color: #E8F0FE;\n",
       "      border: none;\n",
       "      border-radius: 50%;\n",
       "      cursor: pointer;\n",
       "      display: none;\n",
       "      fill: #1967D2;\n",
       "      height: 32px;\n",
       "      padding: 0 0 0 0;\n",
       "      width: 32px;\n",
       "    }\n",
       "\n",
       "    .colab-df-convert:hover {\n",
       "      background-color: #E2EBFA;\n",
       "      box-shadow: 0px 1px 2px rgba(60, 64, 67, 0.3), 0px 1px 3px 1px rgba(60, 64, 67, 0.15);\n",
       "      fill: #174EA6;\n",
       "    }\n",
       "\n",
       "    [theme=dark] .colab-df-convert {\n",
       "      background-color: #3B4455;\n",
       "      fill: #D2E3FC;\n",
       "    }\n",
       "\n",
       "    [theme=dark] .colab-df-convert:hover {\n",
       "      background-color: #434B5C;\n",
       "      box-shadow: 0px 1px 3px 1px rgba(0, 0, 0, 0.15);\n",
       "      filter: drop-shadow(0px 1px 2px rgba(0, 0, 0, 0.3));\n",
       "      fill: #FFFFFF;\n",
       "    }\n",
       "  </style>\n",
       "\n",
       "      <script>\n",
       "        const buttonEl =\n",
       "          document.querySelector('#df-46e74652-dd77-43c4-a9a1-5f9312de2e8d button.colab-df-convert');\n",
       "        buttonEl.style.display =\n",
       "          google.colab.kernel.accessAllowed ? 'block' : 'none';\n",
       "\n",
       "        async function convertToInteractive(key) {\n",
       "          const element = document.querySelector('#df-46e74652-dd77-43c4-a9a1-5f9312de2e8d');\n",
       "          const dataTable =\n",
       "            await google.colab.kernel.invokeFunction('convertToInteractive',\n",
       "                                                     [key], {});\n",
       "          if (!dataTable) return;\n",
       "\n",
       "          const docLinkHtml = 'Like what you see? Visit the ' +\n",
       "            '<a target=\"_blank\" href=https://colab.research.google.com/notebooks/data_table.ipynb>data table notebook</a>'\n",
       "            + ' to learn more about interactive tables.';\n",
       "          element.innerHTML = '';\n",
       "          dataTable['output_type'] = 'display_data';\n",
       "          await google.colab.output.renderOutput(dataTable, element);\n",
       "          const docLink = document.createElement('div');\n",
       "          docLink.innerHTML = docLinkHtml;\n",
       "          element.appendChild(docLink);\n",
       "        }\n",
       "      </script>\n",
       "    </div>\n",
       "  </div>\n",
       "  "
      ],
      "text/plain": [
       "  group       time\n",
       "0     A  12.525909\n",
       "1     A   9.347533"
      ]
     },
     "execution_count": 61,
     "metadata": {},
     "output_type": "execute_result"
    }
   ],
   "source": [
    "# [1] 파일 불러오기\n",
    "import pandas as pd\n",
    "df = pd.read_csv('data_02/high_school.csv')\n",
    "df.head(2)"
   ]
  },
  {
   "cell_type": "code",
   "execution_count": null,
   "metadata": {
    "id": "LNqDVBFqsWP6"
   },
   "outputs": [],
   "source": [
    "# [2] 그룹 나누기\n"
   ]
  },
  {
   "cell_type": "code",
   "execution_count": null,
   "metadata": {
    "id": "SghdhhrZsWP6"
   },
   "outputs": [],
   "source": [
    "# [3] Kruskal-Wallis Test\n",
    "from scipy.stats import kruskal\n"
   ]
  },
  {
   "cell_type": "code",
   "execution_count": null,
   "metadata": {
    "id": "SSWshAlqsWP6"
   },
   "outputs": [],
   "source": [
    "# [4] 결과\n"
   ]
  },
  {
   "cell_type": "code",
   "execution_count": null,
   "metadata": {
    "id": "LYVuNZNvnVpp"
   },
   "outputs": [],
   "source": [
    "# [5] ANOVA Test\n"
   ]
  },
  {
   "cell_type": "code",
   "execution_count": null,
   "metadata": {
    "id": "MfFLMg3hGFml"
   },
   "outputs": [],
   "source": [
    "# 등분산성 검정은??  (강의 내용에 없지만 확인!)\n",
    "from scipy.stats import bartlett\n",
    "bartlett(gA, gB, gC)"
   ]
  },
  {
   "cell_type": "markdown",
   "metadata": {
    "id": "0PhN_27IIhVX"
   },
   "source": [
    "#### 5-2.분류 모델에서 활용\n",
    "- 1개 연속형 변수, 1개 범주형 변수 (4개 범주)\n",
    "- 범주별로 연속형 변수의 평균 차이가 있는지 검정한다"
   ]
  },
  {
   "cell_type": "code",
   "execution_count": null,
   "metadata": {
    "colab": {
     "base_uri": "https://localhost:8080/",
     "height": 112
    },
    "id": "miK2v9ctInPH",
    "outputId": "75e1b985-7817-4a03-97be-2d09a9ff5c26"
   },
   "outputs": [
    {
     "data": {
      "text/html": [
       "\n",
       "  <div id=\"df-28635fb0-096b-4a4d-82c8-a671b58532ac\">\n",
       "    <div class=\"colab-df-container\">\n",
       "      <div>\n",
       "<style scoped>\n",
       "    .dataframe tbody tr th:only-of-type {\n",
       "        vertical-align: middle;\n",
       "    }\n",
       "\n",
       "    .dataframe tbody tr th {\n",
       "        vertical-align: top;\n",
       "    }\n",
       "\n",
       "    .dataframe thead th {\n",
       "        text-align: right;\n",
       "    }\n",
       "</style>\n",
       "<table border=\"1\" class=\"dataframe\">\n",
       "  <thead>\n",
       "    <tr style=\"text-align: right;\">\n",
       "      <th></th>\n",
       "      <th>ID</th>\n",
       "      <th>Gender</th>\n",
       "      <th>Ever_Married</th>\n",
       "      <th>Age</th>\n",
       "      <th>Graduated</th>\n",
       "      <th>Profession</th>\n",
       "      <th>Work_Experience</th>\n",
       "      <th>Spending_Score</th>\n",
       "      <th>Family_Size</th>\n",
       "      <th>Var_1</th>\n",
       "      <th>Segmentation</th>\n",
       "    </tr>\n",
       "  </thead>\n",
       "  <tbody>\n",
       "    <tr>\n",
       "      <th>0</th>\n",
       "      <td>462809</td>\n",
       "      <td>Male</td>\n",
       "      <td>No</td>\n",
       "      <td>22</td>\n",
       "      <td>No</td>\n",
       "      <td>Healthcare</td>\n",
       "      <td>1.0</td>\n",
       "      <td>Low</td>\n",
       "      <td>4.0</td>\n",
       "      <td>Cat_4</td>\n",
       "      <td>4</td>\n",
       "    </tr>\n",
       "    <tr>\n",
       "      <th>1</th>\n",
       "      <td>466315</td>\n",
       "      <td>Female</td>\n",
       "      <td>Yes</td>\n",
       "      <td>67</td>\n",
       "      <td>Yes</td>\n",
       "      <td>Engineer</td>\n",
       "      <td>1.0</td>\n",
       "      <td>Low</td>\n",
       "      <td>1.0</td>\n",
       "      <td>Cat_6</td>\n",
       "      <td>2</td>\n",
       "    </tr>\n",
       "  </tbody>\n",
       "</table>\n",
       "</div>\n",
       "      <button class=\"colab-df-convert\" onclick=\"convertToInteractive('df-28635fb0-096b-4a4d-82c8-a671b58532ac')\"\n",
       "              title=\"Convert this dataframe to an interactive table.\"\n",
       "              style=\"display:none;\">\n",
       "        \n",
       "  <svg xmlns=\"http://www.w3.org/2000/svg\" height=\"24px\"viewBox=\"0 0 24 24\"\n",
       "       width=\"24px\">\n",
       "    <path d=\"M0 0h24v24H0V0z\" fill=\"none\"/>\n",
       "    <path d=\"M18.56 5.44l.94 2.06.94-2.06 2.06-.94-2.06-.94-.94-2.06-.94 2.06-2.06.94zm-11 1L8.5 8.5l.94-2.06 2.06-.94-2.06-.94L8.5 2.5l-.94 2.06-2.06.94zm10 10l.94 2.06.94-2.06 2.06-.94-2.06-.94-.94-2.06-.94 2.06-2.06.94z\"/><path d=\"M17.41 7.96l-1.37-1.37c-.4-.4-.92-.59-1.43-.59-.52 0-1.04.2-1.43.59L10.3 9.45l-7.72 7.72c-.78.78-.78 2.05 0 2.83L4 21.41c.39.39.9.59 1.41.59.51 0 1.02-.2 1.41-.59l7.78-7.78 2.81-2.81c.8-.78.8-2.07 0-2.86zM5.41 20L4 18.59l7.72-7.72 1.47 1.35L5.41 20z\"/>\n",
       "  </svg>\n",
       "      </button>\n",
       "      \n",
       "  <style>\n",
       "    .colab-df-container {\n",
       "      display:flex;\n",
       "      flex-wrap:wrap;\n",
       "      gap: 12px;\n",
       "    }\n",
       "\n",
       "    .colab-df-convert {\n",
       "      background-color: #E8F0FE;\n",
       "      border: none;\n",
       "      border-radius: 50%;\n",
       "      cursor: pointer;\n",
       "      display: none;\n",
       "      fill: #1967D2;\n",
       "      height: 32px;\n",
       "      padding: 0 0 0 0;\n",
       "      width: 32px;\n",
       "    }\n",
       "\n",
       "    .colab-df-convert:hover {\n",
       "      background-color: #E2EBFA;\n",
       "      box-shadow: 0px 1px 2px rgba(60, 64, 67, 0.3), 0px 1px 3px 1px rgba(60, 64, 67, 0.15);\n",
       "      fill: #174EA6;\n",
       "    }\n",
       "\n",
       "    [theme=dark] .colab-df-convert {\n",
       "      background-color: #3B4455;\n",
       "      fill: #D2E3FC;\n",
       "    }\n",
       "\n",
       "    [theme=dark] .colab-df-convert:hover {\n",
       "      background-color: #434B5C;\n",
       "      box-shadow: 0px 1px 3px 1px rgba(0, 0, 0, 0.15);\n",
       "      filter: drop-shadow(0px 1px 2px rgba(0, 0, 0, 0.3));\n",
       "      fill: #FFFFFF;\n",
       "    }\n",
       "  </style>\n",
       "\n",
       "      <script>\n",
       "        const buttonEl =\n",
       "          document.querySelector('#df-28635fb0-096b-4a4d-82c8-a671b58532ac button.colab-df-convert');\n",
       "        buttonEl.style.display =\n",
       "          google.colab.kernel.accessAllowed ? 'block' : 'none';\n",
       "\n",
       "        async function convertToInteractive(key) {\n",
       "          const element = document.querySelector('#df-28635fb0-096b-4a4d-82c8-a671b58532ac');\n",
       "          const dataTable =\n",
       "            await google.colab.kernel.invokeFunction('convertToInteractive',\n",
       "                                                     [key], {});\n",
       "          if (!dataTable) return;\n",
       "\n",
       "          const docLinkHtml = 'Like what you see? Visit the ' +\n",
       "            '<a target=\"_blank\" href=https://colab.research.google.com/notebooks/data_table.ipynb>data table notebook</a>'\n",
       "            + ' to learn more about interactive tables.';\n",
       "          element.innerHTML = '';\n",
       "          dataTable['output_type'] = 'display_data';\n",
       "          await google.colab.output.renderOutput(dataTable, element);\n",
       "          const docLink = document.createElement('div');\n",
       "          docLink.innerHTML = docLinkHtml;\n",
       "          element.appendChild(docLink);\n",
       "        }\n",
       "      </script>\n",
       "    </div>\n",
       "  </div>\n",
       "  "
      ],
      "text/plain": [
       "       ID  Gender Ever_Married  Age Graduated  Profession  Work_Experience  \\\n",
       "0  462809    Male           No   22        No  Healthcare              1.0   \n",
       "1  466315  Female          Yes   67       Yes    Engineer              1.0   \n",
       "\n",
       "  Spending_Score  Family_Size  Var_1  Segmentation  \n",
       "0            Low          4.0  Cat_4             4  \n",
       "1            Low          1.0  Cat_6             2  "
      ]
     },
     "execution_count": 70,
     "metadata": {},
     "output_type": "execute_result"
    }
   ],
   "source": [
    "# [1] 데이터 읽어오기 (4회기출)\n",
    "import pandas as pd\n",
    "\n",
    "data = pd.read_csv('https://raw.githubusercontent.com/Soyoung-Yoon/bigdata/main/train_04.csv')\n",
    "data.head(2)"
   ]
  },
  {
   "cell_type": "code",
   "execution_count": null,
   "metadata": {
    "colab": {
     "base_uri": "https://localhost:8080/"
    },
    "id": "E4A_aBoyYoB2",
    "outputId": "72a6c7f5-d6f4-4a57-8176-95ae43d3a27c"
   },
   "outputs": [
    {
     "data": {
      "text/plain": [
       "[array([26, 49, 33, ..., 39, 31, 48]),\n",
       " array([67, 67, 58, ..., 41, 27, 37]),\n",
       " array([56, 32, 55, ..., 52, 37, 65]),\n",
       " array([22, 33, 61, ..., 39, 35, 33])]"
      ]
     },
     "execution_count": 71,
     "metadata": {},
     "output_type": "execute_result"
    }
   ],
   "source": [
    "# [2] 그룹 나누기 - 종속변수 Age, 독립변수 Segmentation\n",
    "groups = [x.values for _, x in data.groupby('Segmentation')['Age']]\n",
    "groups"
   ]
  },
  {
   "cell_type": "code",
   "execution_count": null,
   "metadata": {
    "id": "FzJpzhl_cIrP"
   },
   "outputs": [],
   "source": [
    "# [3] 정규성 검정\n",
    "from scipy.stats import shapiro\n"
   ]
  },
  {
   "cell_type": "code",
   "execution_count": null,
   "metadata": {
    "id": "rxcXZZvAYPMm"
   },
   "outputs": [],
   "source": [
    "# [4] 'Segmentation' 그룹별 'Age'의 중앙값 구하기\n"
   ]
  },
  {
   "cell_type": "code",
   "execution_count": null,
   "metadata": {
    "id": "-vfOuE_HYyoP"
   },
   "outputs": [],
   "source": [
    "# [5] 크루스칼-왈리스 검정 수행\n",
    "# 귀무가설 : Segmentation별 Age의 차이가 없다\n",
    "# 대립가설 : Segmentation별 Age의 차이가 있다\n",
    "from scipy.stats import kruskal\n"
   ]
  },
  {
   "cell_type": "code",
   "execution_count": null,
   "metadata": {
    "id": "oIBHJH8SoZff"
   },
   "outputs": [],
   "source": []
  }
 ],
 "metadata": {
  "colab": {
   "provenance": []
  },
  "kernelspec": {
   "display_name": "Python 3 (ipykernel)",
   "language": "python",
   "name": "python3"
  },
  "language_info": {
   "codemirror_mode": {
    "name": "ipython",
    "version": 3
   },
   "file_extension": ".py",
   "mimetype": "text/x-python",
   "name": "python",
   "nbconvert_exporter": "python",
   "pygments_lexer": "ipython3",
   "version": "3.8.16"
  }
 },
 "nbformat": 4,
 "nbformat_minor": 4
}
