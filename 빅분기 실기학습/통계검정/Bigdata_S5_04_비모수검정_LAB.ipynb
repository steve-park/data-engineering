{
 "cells": [
  {
   "cell_type": "markdown",
   "metadata": {
    "id": "1QBL63Yfh5D1"
   },
   "source": [
    "### 0.데이터 다운로드\n"
   ]
  },
  {
   "cell_type": "code",
   "execution_count": 38,
   "metadata": {
    "colab": {
     "base_uri": "https://localhost:8080/"
    },
    "id": "Rxwkisfeh_Nl",
    "outputId": "5adbf73c-e2c3-4d78-9682-28719de4ec6e",
    "tags": []
   },
   "outputs": [
    {
     "name": "stdout",
     "output_type": "stream",
     "text": [
      "'data_02'에 복제합니다...\n",
      "remote: Enumerating objects: 72, done.\u001b[K\n",
      "remote: Counting objects: 100% (25/25), done.\u001b[K\n",
      "remote: Compressing objects: 100% (25/25), done.\u001b[K\n",
      "remote: Total 72 (delta 7), reused 0 (delta 0), pack-reused 47\u001b[K\n",
      "오브젝트를 받는 중: 100% (72/72), 448.82 KiB | 20.40 MiB/s, 완료.\n",
      "델타를 알아내는 중: 100% (18/18), 완료.\n"
     ]
    }
   ],
   "source": [
    "!git clone https://github.com/Soyoung-Yoon/data_02"
   ]
  },
  {
   "cell_type": "code",
   "execution_count": null,
   "metadata": {
    "id": "cMlARWe_iB8p"
   },
   "outputs": [],
   "source": [
    "import scipy\n",
    "scipy.__version__"
   ]
  },
  {
   "cell_type": "code",
   "execution_count": null,
   "metadata": {
    "id": "qNc6dXIQiDfN"
   },
   "outputs": [],
   "source": [
    "!pip install scipy==1.6.0"
   ]
  },
  {
   "cell_type": "markdown",
   "metadata": {
    "id": "l_R2bnWbupEz"
   },
   "source": [
    "### 1.카이제곱 적합도 검정"
   ]
  },
  {
   "cell_type": "markdown",
   "metadata": {
    "id": "neenT8e9PFS_"
   },
   "source": [
    "####1-1.특정비율\n",
    "A학급 40명의 혈액형 비율을 A, B, O, AB 각각 20%, 20%, 30%, 30%로 예상하였다. 실제 측정 결과 16, 16, 4, 4 명인 경우의 적합도 검정을 수행하여 보자\n"
   ]
  },
  {
   "cell_type": "markdown",
   "metadata": {
    "id": "mma6l4kjwtrN"
   },
   "source": [
    "- 𝑯_𝟎 : 변수의 분포가 기대 분포와 같다\n",
    "- 𝑯_𝟏 : 변수의 분포가 기대 분포와 같지 않다\n"
   ]
  },
  {
   "cell_type": "code",
   "execution_count": 1,
   "metadata": {
    "id": "BuXBEihxffVT",
    "tags": []
   },
   "outputs": [
    {
     "name": "stdout",
     "output_type": "stream",
     "text": [
      "None\n"
     ]
    }
   ],
   "source": [
    "# [파일로 주어진 경우 직접 개수 계산]\n",
    "import pandas as pd\n",
    "data = {'blood_type': ['A']*16 + ['B']*16 + ['C']*4 + ['D']*4}\n",
    "data = pd.DataFrame(data)\n",
    "observed = None\n",
    "print(observed)"
   ]
  },
  {
   "cell_type": "code",
   "execution_count": 21,
   "metadata": {
    "id": "wwAhhxQzCZno",
    "tags": []
   },
   "outputs": [
    {
     "name": "stdout",
     "output_type": "stream",
     "text": [
      "[𝓧² 적합도 검정] statistics= 26.6667, p-value= 0.0000 -> H₀기각\n"
     ]
    }
   ],
   "source": [
    "import numpy as np\n",
    "from scipy.stats import chisquare\n",
    "\n",
    "observed = data['blood_type'].value_counts().to_numpy()\n",
    "expected = sum(observed) * np.array([0.2, 0.2, 0.3, 0.3])\n",
    "\n",
    "s, pvalue = chisquare(f_obs=observed, f_exp=expected)\n",
    "print(f'[𝓧² 적합도 검정] statistics= {s:.4f}, p-value= {pvalue:.4f} -> {\"H₀기각\" if pvalue < 0.05 else \"H₀채택\"}')"
   ]
  },
  {
   "cell_type": "markdown",
   "metadata": {
    "id": "VCRZhIkAPR0R"
   },
   "source": [
    "#### 1-2.동일비율\n",
    "4개의 범주에 대해 동일한 비율이라고 가정하고, 실제측정 한 표본 분포가 다음과 같을 때, 카이제곱 적합도 검정을 수행하여 보자\n",
    "\n",
    "        observed = [54, 46, 60, 40]\n"
   ]
  },
  {
   "cell_type": "markdown",
   "metadata": {
    "id": "kkShHc9fwwt9"
   },
   "source": [
    "- 𝑯_𝟎 : 변수의 분포에 비율 차이가 없다.\n",
    "- 𝑯_𝟏 : 변수의 분포에 비율 차이가 있다."
   ]
  },
  {
   "cell_type": "code",
   "execution_count": 22,
   "metadata": {
    "id": "uA_Ax2E9DWlu",
    "tags": []
   },
   "outputs": [
    {
     "name": "stdout",
     "output_type": "stream",
     "text": [
      "[𝓧² 적합도 검정] statistics= 4.6400, p-value= 0.2001 -> H₀채택\n"
     ]
    }
   ],
   "source": [
    "from scipy.stats import chisquare\n",
    "import numpy as np\n",
    "\n",
    "observed = [54, 46, 60, 40]\n",
    "expected = sum(observed) * np.array([0.25, 0.25, 0.25, 0.25])\n",
    "\n",
    "s, pvalue = chisquare(f_obs=observed, f_exp=expected)\n",
    "print(f'[𝓧² 적합도 검정] statistics= {s:.4f}, p-value= {pvalue:.4f} -> {\"H₀기각\" if pvalue < 0.05 else \"H₀채택\"}')"
   ]
  },
  {
   "cell_type": "markdown",
   "metadata": {
    "id": "SxRu53YNAzIQ"
   },
   "source": [
    "### 2.카이제곱 동질성/독립성 검정\n",
    "- 두 범주형 자료 간의 차이를 분석하는 검증 방법\n",
    "- 관찰빈도(실제값)가 기대빈도(기댓값)와 유의한 차이가 있는지 검증\n",
    "- 관찰빈도는 절대적 수치로만 관찰되어야 함, 기대빈도의 합과 관찰빈도의 합은 같음\n",
    "- 분할표의 칸 수 및 각 칸의 기대빈도는 5이상 이어야 함\n",
    "- 귀무가설이 기각되면 범주별 기대빈도와 관측빈도의 차이가 충분히 크다고 말할 수 있음\n",
    "- 기대빈도와 관찰빈도의 차이가 커지면 카이제곱 통계량도 커짐\n"
   ]
  },
  {
   "cell_type": "markdown",
   "metadata": {
    "id": "GCJnrWia2dVy"
   },
   "source": [
    "#### 2-1.카이제곱 동질성 검정\n",
    "- H0 : 성별별 핸드폰 모델 선호도 분포는 같다\n",
    "- H1 : 성별별 핸드폰 모델 선호도 분포가 같지 않다"
   ]
  },
  {
   "cell_type": "code",
   "execution_count": 24,
   "metadata": {
    "id": "0cSvCzSTr_HM",
    "tags": []
   },
   "outputs": [
    {
     "name": "stdout",
     "output_type": "stream",
     "text": [
      "   model_A  model_B  model_C\n",
      "M       10       40       50\n",
      "F       30       60       10\n"
     ]
    }
   ],
   "source": [
    "import pandas as pd\n",
    "\n",
    "crs_table = pd.DataFrame([[10, 40, 50], [30, 60, 10]], \n",
    "                         index=['M', 'F'], \n",
    "                columns=['model_A', 'model_B', 'model_C'])\n",
    "print(crs_table)"
   ]
  },
  {
   "cell_type": "code",
   "execution_count": 37,
   "metadata": {
    "tags": []
   },
   "outputs": [
    {
     "name": "stdout",
     "output_type": "stream",
     "text": [
      "[𝓧² 동질성 검정] statistics= 40.6667, p-value= 0.0000 -> H₀기각\n",
      "[𝓧² 동질성 검정] expected= \n",
      "   model_A  model_B  model_C\n",
      "M     20.0     50.0     30.0\n",
      "F     20.0     50.0     30.0\n",
      "[𝓧² 동질성 검정] observed= \n",
      "   model_A  model_B  model_C\n",
      "M       10       40       50\n",
      "F       30       60       10\n"
     ]
    }
   ],
   "source": [
    "from scipy.stats import chi2_contingency\n",
    "\n",
    "observed = crs_table.copy()\n",
    "\n",
    "s, pvalue, dof, expected = chi2_contingency(observed)\n",
    "print(f'[𝓧² 동질성 검정] statistics= {s:.4f}, p-value= {pvalue:.4f} -> {\"H₀기각\" if pvalue < 0.05 else \"H₀채택\"}')\n",
    "print(f'[𝓧² 동질성 검정] expected= ', pd.DataFrame(expected, index=observed.index, columns=observed.columns), sep='\\n')\n",
    "print(f'[𝓧² 동질성 검정] observed= ', observed, sep='\\n')"
   ]
  },
  {
   "cell_type": "markdown",
   "metadata": {
    "id": "_7ocSatdo6Fa"
   },
   "source": [
    "####2-2.카이제곱 독립성 검정\n",
    "- 귀무가설 : 당뇨와 비만 사이에 관계는 독립이다.\n",
    "- 대립가설 : 당뇨와 비만 사이에 관계는 독립이 아니다."
   ]
  },
  {
   "cell_type": "code",
   "execution_count": 39,
   "metadata": {
    "id": "xFdtbLsfAzIm",
    "tags": []
   },
   "outputs": [
    {
     "name": "stdout",
     "output_type": "stream",
     "text": [
      "   당뇨 여부 비만 여부\n",
      "0      Y     N\n",
      "1      N     Y\n",
      "2      N     N\n",
      "3      N     N\n",
      "4      N     Y\n",
      "..   ...   ...\n",
      "95     N     N\n",
      "96     N     N\n",
      "97     Y     N\n",
      "98     N     N\n",
      "99     N     N\n",
      "\n",
      "[100 rows x 2 columns]\n"
     ]
    }
   ],
   "source": [
    "# [1] 데이터 가져오기\n",
    "import pandas as pd\n",
    "data = pd.read_csv(\"data_02/data_chi.csv\")\n",
    "print(data)"
   ]
  },
  {
   "cell_type": "code",
   "execution_count": 40,
   "metadata": {
    "tags": []
   },
   "outputs": [
    {
     "name": "stdout",
     "output_type": "stream",
     "text": [
      "<class 'pandas.core.frame.DataFrame'>\n",
      "RangeIndex: 100 entries, 0 to 99\n",
      "Data columns (total 2 columns):\n",
      " #   Column  Non-Null Count  Dtype \n",
      "---  ------  --------------  ----- \n",
      " 0   당뇨 여부   100 non-null    object\n",
      " 1   비만 여부   100 non-null    object\n",
      "dtypes: object(2)\n",
      "memory usage: 1.7+ KB\n"
     ]
    }
   ],
   "source": [
    "data.info()"
   ]
  },
  {
   "cell_type": "code",
   "execution_count": 41,
   "metadata": {
    "tags": []
   },
   "outputs": [
    {
     "data": {
      "text/html": [
       "<div>\n",
       "<style scoped>\n",
       "    .dataframe tbody tr th:only-of-type {\n",
       "        vertical-align: middle;\n",
       "    }\n",
       "\n",
       "    .dataframe tbody tr th {\n",
       "        vertical-align: top;\n",
       "    }\n",
       "\n",
       "    .dataframe thead th {\n",
       "        text-align: right;\n",
       "    }\n",
       "</style>\n",
       "<table border=\"1\" class=\"dataframe\">\n",
       "  <thead>\n",
       "    <tr style=\"text-align: right;\">\n",
       "      <th></th>\n",
       "      <th>당뇨 여부</th>\n",
       "      <th>비만 여부</th>\n",
       "    </tr>\n",
       "  </thead>\n",
       "  <tbody>\n",
       "    <tr>\n",
       "      <th>0</th>\n",
       "      <td>Y</td>\n",
       "      <td>N</td>\n",
       "    </tr>\n",
       "    <tr>\n",
       "      <th>1</th>\n",
       "      <td>N</td>\n",
       "      <td>Y</td>\n",
       "    </tr>\n",
       "  </tbody>\n",
       "</table>\n",
       "</div>"
      ],
      "text/plain": [
       "  당뇨 여부 비만 여부\n",
       "0     Y     N\n",
       "1     N     Y"
      ]
     },
     "execution_count": 41,
     "metadata": {},
     "output_type": "execute_result"
    }
   ],
   "source": [
    "data.head(2)"
   ]
  },
  {
   "cell_type": "code",
   "execution_count": 43,
   "metadata": {
    "id": "PkuYPjfhAzIo",
    "tags": []
   },
   "outputs": [],
   "source": [
    "# [2] 카이제곱 분석을 위한 분할표 만들기\n",
    "observed = pd.crosstab(index=data['당뇨 여부'], columns=data['비만 여부'])"
   ]
  },
  {
   "cell_type": "code",
   "execution_count": 46,
   "metadata": {
    "id": "aaF4JuDgAzIq",
    "tags": []
   },
   "outputs": [
    {
     "name": "stdout",
     "output_type": "stream",
     "text": [
      "[𝓧² 동질성 검정] statistics= 0.0000, p-value= 1.0000 -> H₀채택\n",
      "[𝓧² 동질성 검정] expected= \n",
      "비만 여부      N      Y\n",
      "당뇨 여부              \n",
      "N      62.16  21.84\n",
      "Y      11.84   4.16\n",
      "[𝓧² 동질성 검정] observed= \n",
      "비만 여부   N   Y\n",
      "당뇨 여부        \n",
      "N      62  22\n",
      "Y      12   4\n"
     ]
    }
   ],
   "source": [
    "# [3] 카이스퀘어 분석\n",
    "from scipy.stats import chi2_contingency\n",
    "\n",
    "s, pvalue, _, expected = chi2_contingency(observed)\n",
    "print(f'[𝓧² 동질성 검정] statistics= {s:.4f}, p-value= {pvalue:.4f} -> {\"H₀기각\" if pvalue < 0.05 else \"H₀채택\"}')\n",
    "print(f'[𝓧² 동질성 검정] expected= ', pd.DataFrame(expected, index=observed.index, columns=observed.columns), sep='\\n')\n",
    "print(f'[𝓧² 동질성 검정] observed= ', observed, sep='\\n')"
   ]
  },
  {
   "cell_type": "code",
   "execution_count": null,
   "metadata": {
    "id": "K1zoZrmeAzIr"
   },
   "outputs": [],
   "source": [
    "# [4] 결론\n"
   ]
  },
  {
   "cell_type": "markdown",
   "metadata": {
    "id": "c1OAl4TEAzIr"
   },
   "source": [
    "#### 2-3.피셔의 정확검정\n",
    "- 만약 사건 발생 수, 빈도 수가 극히 적거나(특히 5개 이하의 빈도가 전체 셀 중 20%이상 존재하는 경우) 서로의 빈도 수의 차이가 많이나는 경우에는 카이제곱 검정의 정확도는 낮아집니다. \n",
    "- 이때 필요한 검정이 바로 '피셔의 정확검정'입니다."
   ]
  },
  {
   "cell_type": "markdown",
   "metadata": {
    "id": "CYYcCASq47Qq"
   },
   "source": [
    "가설설정\n",
    "- 귀무가설 : 약과 효과의 관계는 독립이다. \n",
    "- 대립가설 : 약과 효과의 관계가 독립이 아니다."
   ]
  },
  {
   "cell_type": "code",
   "execution_count": 47,
   "metadata": {
    "id": "co0B6Sp7AzIs",
    "tags": []
   },
   "outputs": [
    {
     "name": "stdout",
     "output_type": "stream",
     "text": [
      "      가짜 약  진짜 약\n",
      "효과있음     1     6\n",
      "효과없음     5     2\n"
     ]
    }
   ],
   "source": [
    "import pandas as pd\n",
    "from scipy.stats import fisher_exact\n",
    "\n",
    "# [1] 분할표 생성\n",
    "data = pd.DataFrame([[1, 6], [5, 2]])\n",
    "data.columns = ['가짜 약','진짜 약']\n",
    "data.index = ['효과있음', '효과없음']\n",
    "print(data)"
   ]
  },
  {
   "cell_type": "code",
   "execution_count": 50,
   "metadata": {
    "id": "XgrrakEyAzIt",
    "tags": []
   },
   "outputs": [
    {
     "name": "stdout",
     "output_type": "stream",
     "text": [
      "[Fisher Exact Test] statistics= 0.0667, p-value= 0.1026 -> H₀채택\n"
     ]
    }
   ],
   "source": [
    "# [2] 피셔 검정\n",
    "from scipy.stats import fisher_exact\n",
    "\n",
    "s, pvalue = fisher_exact(data, alternative='two-sided')\n",
    "print(f'[Fisher Exact Test] statistics= {s:.4f}, p-value= {pvalue:.4f} -> {\"H₀기각\" if pvalue < 0.05 else \"H₀채택\"}')"
   ]
  },
  {
   "cell_type": "code",
   "execution_count": 51,
   "metadata": {
    "id": "540ZpO-2AzIt",
    "tags": []
   },
   "outputs": [],
   "source": [
    "# [3] 결과\n",
    "# 독립성 테스트 : 연관이 없다 == 독립이다"
   ]
  },
  {
   "cell_type": "markdown",
   "metadata": {
    "id": "v9WM-wsiAzIu"
   },
   "source": [
    "####2-4.아내와 남편의 집안일\n",
    "- 귀무가설 : 집안일의 종류와 수행하는 사람의 관계는 독립이다.\n",
    "- 대립가설 : 집안일의 종류와 수행하는 사람의 관계가 독립이 아니다."
   ]
  },
  {
   "cell_type": "code",
   "execution_count": 53,
   "metadata": {
    "colab": {
     "base_uri": "https://localhost:8080/"
    },
    "id": "aUjCofq6vbzX",
    "outputId": "3dccdaed-3e42-450e-c87b-ee48d298b306",
    "scrolled": true,
    "tags": []
   },
   "outputs": [
    {
     "name": "stdout",
     "output_type": "stream",
     "text": [
      "(13, 4)\n",
      "<class 'pandas.core.frame.DataFrame'>\n",
      "Index: 13 entries, Laundry to Holidays\n",
      "Data columns (total 4 columns):\n",
      " #   Column       Non-Null Count  Dtype\n",
      "---  ------       --------------  -----\n",
      " 0   Wife         13 non-null     int64\n",
      " 1   Alternating  13 non-null     int64\n",
      " 2   Husband      13 non-null     int64\n",
      " 3   Jointly      13 non-null     int64\n",
      "dtypes: int64(4)\n",
      "memory usage: 520.0+ bytes\n",
      "None\n"
     ]
    }
   ],
   "source": [
    "# [1] crosstable 형태의 데이터 읽기\n",
    "import pandas as pd\n",
    "\n",
    "data = pd.read_csv('./data_02/housetasks.csv', index_col=0)\n",
    "print(data.shape)\n",
    "print(data.info())"
   ]
  },
  {
   "cell_type": "code",
   "execution_count": 54,
   "metadata": {
    "tags": []
   },
   "outputs": [
    {
     "data": {
      "text/html": [
       "<div>\n",
       "<style scoped>\n",
       "    .dataframe tbody tr th:only-of-type {\n",
       "        vertical-align: middle;\n",
       "    }\n",
       "\n",
       "    .dataframe tbody tr th {\n",
       "        vertical-align: top;\n",
       "    }\n",
       "\n",
       "    .dataframe thead th {\n",
       "        text-align: right;\n",
       "    }\n",
       "</style>\n",
       "<table border=\"1\" class=\"dataframe\">\n",
       "  <thead>\n",
       "    <tr style=\"text-align: right;\">\n",
       "      <th></th>\n",
       "      <th>Wife</th>\n",
       "      <th>Alternating</th>\n",
       "      <th>Husband</th>\n",
       "      <th>Jointly</th>\n",
       "    </tr>\n",
       "  </thead>\n",
       "  <tbody>\n",
       "    <tr>\n",
       "      <th>Laundry</th>\n",
       "      <td>156</td>\n",
       "      <td>14</td>\n",
       "      <td>2</td>\n",
       "      <td>4</td>\n",
       "    </tr>\n",
       "    <tr>\n",
       "      <th>Main_meal</th>\n",
       "      <td>124</td>\n",
       "      <td>20</td>\n",
       "      <td>5</td>\n",
       "      <td>4</td>\n",
       "    </tr>\n",
       "  </tbody>\n",
       "</table>\n",
       "</div>"
      ],
      "text/plain": [
       "           Wife  Alternating  Husband  Jointly\n",
       "Laundry     156           14        2        4\n",
       "Main_meal   124           20        5        4"
      ]
     },
     "execution_count": 54,
     "metadata": {},
     "output_type": "execute_result"
    }
   ],
   "source": [
    "data.head(2)"
   ]
  },
  {
   "cell_type": "code",
   "execution_count": 57,
   "metadata": {
    "id": "TUkflhpsvbzX",
    "tags": []
   },
   "outputs": [
    {
     "name": "stdout",
     "output_type": "stream",
     "text": [
      "[𝓧² 동질성 검정] statistics= 1944.4562, p-value= 0.0000 -> H₀기각\n",
      "[𝓧² 동질성 검정] expected= \n",
      "                 Wife  Alternating    Husband    Jointly\n",
      "Laundry     60.550459    25.633028  38.449541  51.366972\n",
      "Main_meal   52.637615    22.283257  33.424885  44.654243\n",
      "Dinner      37.155963    15.729358  23.594037  31.520642\n",
      "Breakfeast  48.165138    20.389908  30.584862  40.860092\n",
      "Tidying     41.972477    17.768349  26.652523  35.606651\n",
      "Dishes      38.876147    16.457569  24.686353  32.979931\n",
      "Shopping    41.284404    17.477064  26.215596  35.022936\n",
      "Official    33.027523    13.981651  20.972477  28.018349\n",
      "Driving     47.821101    20.244266  30.366399  40.568234\n",
      "Finances    38.876147    16.457569  24.686353  32.979931\n",
      "Insurance   47.821101    20.244266  30.366399  40.568234\n",
      "Repairs     56.766055    24.030963  36.046445  48.156537\n",
      "Holidays    55.045872    23.302752  34.954128  46.697248\n",
      "[𝓧² 동질성 검정] observed= \n",
      "            Wife  Alternating  Husband  Jointly\n",
      "Laundry      156           14        2        4\n",
      "Main_meal    124           20        5        4\n",
      "Dinner        77           11        7       13\n",
      "Breakfeast    82           36       15        7\n",
      "Tidying       53           11        1       57\n",
      "Dishes        32           24        4       53\n",
      "Shopping      33           23        9       55\n",
      "Official      12           46       23       15\n",
      "Driving       10           51       75        3\n",
      "Finances      13           13       21       66\n",
      "Insurance      8            1       53       77\n",
      "Repairs        0            3      160        2\n",
      "Holidays       0            1        6      153\n"
     ]
    }
   ],
   "source": [
    "# [2] 카이제곱 독립성 검정\n",
    "from scipy.stats import chi2_contingency\n",
    "\n",
    "s, pvalue, dof, expected = chi2_contingency(observed=data)\n",
    "print(f'[𝓧² 동질성 검정] statistics= {s:.4f}, p-value= {pvalue:.4f} -> {\"H₀기각\" if pvalue < 0.05 else \"H₀채택\"}')\n",
    "print(f'[𝓧² 동질성 검정] expected= ', pd.DataFrame(expected, index=data.index, columns=data.columns), sep='\\n')\n",
    "print(f'[𝓧² 동질성 검정] observed= ', data, sep='\\n')"
   ]
  },
  {
   "cell_type": "code",
   "execution_count": 58,
   "metadata": {
    "id": "JEUuPpmGvbzX",
    "tags": []
   },
   "outputs": [],
   "source": [
    "# [3] 결과\n",
    "# 독립성 분석: 연관성이 없다(H0 기각) = 연관성이 있다 = 독립이 아니다"
   ]
  },
  {
   "cell_type": "markdown",
   "metadata": {
    "id": "BPdRVNRiNorp"
   },
   "source": [
    "####2-5.분류 모델에서 활용\n",
    "- 2개 범주형 변수의 관계에 대해 검정한다"
   ]
  },
  {
   "cell_type": "code",
   "execution_count": 59,
   "metadata": {
    "id": "bDz_WRXS87QI",
    "tags": []
   },
   "outputs": [],
   "source": [
    "# [1] 파일 불러오기\n",
    "import pandas as pd\n",
    "data = pd.read_csv('https://raw.githubusercontent.com/Soyoung-Yoon/bigdata/main/1st_Train.csv')\n",
    "X = data.drop(columns=['Reached.on.Time_Y.N'])\n",
    "Y = data[['ID', 'Reached.on.Time_Y.N']]"
   ]
  },
  {
   "cell_type": "code",
   "execution_count": 60,
   "metadata": {
    "tags": []
   },
   "outputs": [
    {
     "name": "stdout",
     "output_type": "stream",
     "text": [
      "[(10999, 11), (10999, 2)]\n"
     ]
    }
   ],
   "source": [
    "print([x.shape for x in [X, Y]])"
   ]
  },
  {
   "cell_type": "code",
   "execution_count": 61,
   "metadata": {
    "id": "6-Ld0VziPKIG",
    "tags": []
   },
   "outputs": [
    {
     "data": {
      "text/plain": [
       "ID                     10999\n",
       "Warehouse_block            5\n",
       "Mode_of_Shipment           3\n",
       "Customer_care_calls        6\n",
       "Customer_rating            5\n",
       "Cost_of_the_Product      215\n",
       "Prior_purchases            8\n",
       "Product_importance         3\n",
       "Gender                     2\n",
       "Discount_offered          65\n",
       "Weight_in_gms           4034\n",
       "Reached.on.Time_Y.N        2\n",
       "dtype: int64"
      ]
     },
     "execution_count": 61,
     "metadata": {},
     "output_type": "execute_result"
    }
   ],
   "source": [
    "#[2] X,Y가 분리되어 있는 경우 병합하기\n",
    "data = pd.merge(X, Y, on='ID')\n",
    "\n",
    "#[3] 컬럼별 값의 가짓수 확인하기\n",
    "data.nunique()"
   ]
  },
  {
   "cell_type": "code",
   "execution_count": 65,
   "metadata": {
    "id": "gcEfce_LPzYo",
    "tags": []
   },
   "outputs": [
    {
     "name": "stdout",
     "output_type": "stream",
     "text": [
      "F    3666\n",
      "D    1834\n",
      "A    1833\n",
      "B    1833\n",
      "C    1833\n",
      "Name: Warehouse_block, dtype: int64\n",
      "Ship      7462\n",
      "Flight    1777\n",
      "Road      1760\n",
      "Name: Mode_of_Shipment, dtype: int64\n",
      "low       5297\n",
      "medium    4754\n",
      "high       948\n",
      "Name: Product_importance, dtype: int64\n",
      "F    5545\n",
      "M    5454\n",
      "Name: Gender, dtype: int64\n",
      "3    2239\n",
      "1    2235\n",
      "4    2189\n",
      "5    2171\n",
      "2    2165\n",
      "Name: Customer_rating, dtype: int64\n",
      "4    3557\n",
      "3    3217\n",
      "5    2328\n",
      "6    1013\n",
      "2     638\n",
      "7     246\n",
      "Name: Customer_care_calls, dtype: int64\n",
      "3     3955\n",
      "2     2599\n",
      "4     2155\n",
      "5     1287\n",
      "6      561\n",
      "10     178\n",
      "7      136\n",
      "8      128\n",
      "Name: Prior_purchases, dtype: int64\n"
     ]
    }
   ],
   "source": [
    "#[4] 범주형 변수 확인하기 \n",
    "# (설명을 보고 확인하는 것이 정확함)\n",
    "for x_feature in ['Warehouse_block', 'Mode_of_Shipment', 'Product_importance', 'Gender', 'Customer_rating', 'Customer_care_calls', 'Prior_purchases']:\n",
    "    print(data[x_feature].value_counts())"
   ]
  },
  {
   "cell_type": "markdown",
   "metadata": {
    "id": "m1CLeC-_SFKv"
   },
   "source": [
    "- (독립)범주형 변수 : 'Warehouse_block', 'Mode_of_Shipment', 'Product_importance', 'Gender', 'Customer_rating', 'Customer_care_calls', 'Prior_purchases'\n",
    "- (종속)범주형 변수 : 'Reached.on.Time_Y.N'\n",
    "- 귀무가설 : 'Reached.on.Time_Y.N'과 feature는 독립이다. (연관성이 없다.)\n",
    "- 대립가설 : 'Reached.on.Time_Y.N'과 feature는 독립이 아니다. (연관성이 있다.)\n"
   ]
  },
  {
   "cell_type": "code",
   "execution_count": 97,
   "metadata": {
    "id": "dOX9QW4KkzoV",
    "tags": []
   },
   "outputs": [
    {
     "name": "stdout",
     "output_type": "stream",
     "text": [
      "Reached.on.Time_Y.N - Warehouse_block      =    1.0894/0.8960 -> 독립\n",
      "Reached.on.Time_Y.N - Mode_of_Shipment     =    0.7434/0.6895 -> 독립\n",
      "Reached.on.Time_Y.N - Product_importance   =   12.2112/0.0022 -> 연관\n",
      "Reached.on.Time_Y.N - Gender               =    0.2231/0.6367 -> 독립\n",
      "Reached.on.Time_Y.N - Customer_rating      =    3.2000/0.5249 -> 독립\n",
      "Reached.on.Time_Y.N - Customer_care_calls  =   54.2737/0.0000 -> 연관\n",
      "Reached.on.Time_Y.N - Prior_purchases      =  125.9221/0.0000 -> 연관\n"
     ]
    }
   ],
   "source": [
    "# [5] 카이제곱 독립성 검정\n",
    "from scipy.stats import chi2_contingency\n",
    "\n",
    "x_features = ['Warehouse_block', 'Mode_of_Shipment', 'Product_importance', 'Gender', 'Customer_rating', 'Customer_care_calls', 'Prior_purchases']\n",
    "y_feature = 'Reached.on.Time_Y.N'\n",
    "\n",
    "for x_feature in x_features:\n",
    "    observed = pd.crosstab(index=data[y_feature], columns=data[x_feature])\n",
    "    s, pvalue, dof, expected = chi2_contingency(observed)\n",
    "    print(f'{y_feature:19s} - {x_feature:20s} = {s:9.4f}/{pvalue:.4f} -> {\"연관\" if pvalue < 0.05 else \"독립\"}')"
   ]
  },
  {
   "cell_type": "code",
   "execution_count": 98,
   "metadata": {
    "id": "s05J6N5STYR4",
    "tags": []
   },
   "outputs": [
    {
     "data": {
      "text/plain": [
       "ID                    -0.411822\n",
       "Customer_care_calls   -0.067126\n",
       "Customer_rating        0.013119\n",
       "Cost_of_the_Product   -0.073587\n",
       "Prior_purchases       -0.055515\n",
       "Discount_offered       0.397108\n",
       "Weight_in_gms         -0.268793\n",
       "Reached.on.Time_Y.N    1.000000\n",
       "Name: Reached.on.Time_Y.N, dtype: float64"
      ]
     },
     "execution_count": 98,
     "metadata": {},
     "output_type": "execute_result"
    }
   ],
   "source": [
    "# [6] 결론\n",
    "data.corr(numeric_only=True)[y_feature]"
   ]
  },
  {
   "cell_type": "code",
   "execution_count": null,
   "metadata": {
    "id": "GM6GHFFykA2_"
   },
   "outputs": [],
   "source": [
    "def my_chi2(data, feature, target):\n",
    "    pass\n"
   ]
  },
  {
   "cell_type": "markdown",
   "metadata": {
    "id": "3RbZJzgisWPn"
   },
   "source": [
    "### 3.Wilcoxon Signed Rank Test\n",
    "- 일표본/대응표본 T검정에서 정규성 가정이 만족되지 않을 때 사용하는 비모수 검정법\n",
    "- 일표본/대응표본 T검정과는 달리 **중앙값에 관한 결과를 얻을 수 있음**.\n",
    "- 가정\n",
    "  1. 표본은 동일한 모집단에서 추출되어야 한다.\n",
    "  2. 표본은 임의, 독립적으로 추출되어야 한다."
   ]
  },
  {
   "cell_type": "markdown",
   "metadata": {
    "id": "Y_lV-lfmsWPr"
   },
   "source": [
    "#### 3-1.일표본(One Sample)\n",
    "- alternative='two-sided'\n",
    "   - H0: 모집단의 중앙값은 A 이다.\n",
    "   - H1: 모집단의 중앙값은 A가 아니다.\n",
    "- alternative='less'\n",
    "   - H0: 모집단의 중앙값은 A보다 크거나 같다.\n",
    "   - H1: 모집단의 중앙값은 A보다 작다.\n",
    "- alternative='greater'\n",
    "   - H0: 모집단의 중앙값은 A보다 작거나 같다.\n",
    "   - H1: 모집단의 중앙값은 A보다 크다.    "
   ]
  },
  {
   "cell_type": "markdown",
   "metadata": {
    "id": "RuCyqbRMw6LI"
   },
   "source": [
    "중량이 100g 으로 표기된 닭가슴살 제품이 100g이라고 할 수 있는가?\n",
    "- 동일한 회사 제품을 임의로 9개 표본 추출하였음\n",
    "- 통계적 유의수준은 0.05로 사용함\n",
    "- H0: 닭 가슴살 중량의 중앙값은 100g이다\n",
    "- H1: 닭 가슴살 중량의 중앙값은 100g이 아니다"
   ]
  },
  {
   "cell_type": "code",
   "execution_count": 99,
   "metadata": {
    "colab": {
     "base_uri": "https://localhost:8080/"
    },
    "id": "T8Hsa8MRsWPu",
    "outputId": "a2b6f9c5-e98e-4863-efb6-8e227dfbb59b",
    "tags": []
   },
   "outputs": [
    {
     "name": "stdout",
     "output_type": "stream",
     "text": [
      "       weight\n",
      "0  107.704526\n",
      "1   96.505220\n",
      "2  109.417631\n",
      "3  109.696405\n",
      "4   90.783694\n",
      "5  107.871426\n",
      "6  106.447983\n",
      "7  104.484894\n",
      "8   95.778403\n"
     ]
    }
   ],
   "source": [
    "# [1] 데이터 가져오기\n",
    "import pandas as pd\n",
    "df = pd.read_csv('./data_02/chicken_breast.csv')\n",
    "print(df)"
   ]
  },
  {
   "cell_type": "code",
   "execution_count": 100,
   "metadata": {
    "tags": []
   },
   "outputs": [
    {
     "data": {
      "text/html": [
       "<div>\n",
       "<style scoped>\n",
       "    .dataframe tbody tr th:only-of-type {\n",
       "        vertical-align: middle;\n",
       "    }\n",
       "\n",
       "    .dataframe tbody tr th {\n",
       "        vertical-align: top;\n",
       "    }\n",
       "\n",
       "    .dataframe thead th {\n",
       "        text-align: right;\n",
       "    }\n",
       "</style>\n",
       "<table border=\"1\" class=\"dataframe\">\n",
       "  <thead>\n",
       "    <tr style=\"text-align: right;\">\n",
       "      <th></th>\n",
       "      <th>weight</th>\n",
       "    </tr>\n",
       "  </thead>\n",
       "  <tbody>\n",
       "    <tr>\n",
       "      <th>0</th>\n",
       "      <td>107.704526</td>\n",
       "    </tr>\n",
       "    <tr>\n",
       "      <th>1</th>\n",
       "      <td>96.505220</td>\n",
       "    </tr>\n",
       "  </tbody>\n",
       "</table>\n",
       "</div>"
      ],
      "text/plain": [
       "       weight\n",
       "0  107.704526\n",
       "1   96.505220"
      ]
     },
     "execution_count": 100,
     "metadata": {},
     "output_type": "execute_result"
    }
   ],
   "source": [
    "df.head(2)"
   ]
  },
  {
   "cell_type": "code",
   "execution_count": 101,
   "metadata": {
    "tags": []
   },
   "outputs": [
    {
     "data": {
      "text/plain": [
       "(9, 1)"
      ]
     },
     "execution_count": 101,
     "metadata": {},
     "output_type": "execute_result"
    }
   ],
   "source": [
    "df.shape"
   ]
  },
  {
   "cell_type": "code",
   "execution_count": 104,
   "metadata": {
    "id": "x53QNwEPsWPw",
    "tags": []
   },
   "outputs": [
    {
     "name": "stdout",
     "output_type": "stream",
     "text": [
      "106.4480\n"
     ]
    }
   ],
   "source": [
    "# [2] 중앙값 구하기\n",
    "print(f\"{df['weight'].median():.4f}\")"
   ]
  },
  {
   "cell_type": "code",
   "execution_count": 108,
   "metadata": {
    "id": "iwnfln_WsWPw",
    "tags": []
   },
   "outputs": [
    {
     "name": "stdout",
     "output_type": "stream",
     "text": [
      "[Wilcoxon Signed Rank Test] statistics= 10.0000, p-value= 0.1641 -> H₀채택\n"
     ]
    }
   ],
   "source": [
    "# [3] 윌콕슨 검정 실행\n",
    "from scipy.stats import wilcoxon\n",
    "\n",
    "s, pvalue = wilcoxon(df['weight']-100, alternative='two-sided')\n",
    "print(f'[Wilcoxon Signed Rank Test] statistics= {s:.4f}, p-value= {pvalue:.4f}')"
   ]
  },
  {
   "cell_type": "code",
   "execution_count": 109,
   "metadata": {
    "id": "zrmkmOoFsWPx",
    "tags": []
   },
   "outputs": [
    {
     "name": "stdout",
     "output_type": "stream",
     "text": [
      "H₀채택\n"
     ]
    }
   ],
   "source": [
    "# [4] 결과\n",
    "print(f'{\"H₀기각\" if pvalue < 0.05 else \"H₀채택\"}')"
   ]
  },
  {
   "cell_type": "markdown",
   "metadata": {
    "id": "xSY1jrGlVisp"
   },
   "source": [
    "alternative='less'\n",
    "- H0: 닭가슴살 중량의 중앙값은 100 보다 크거나 같다.\n",
    "- H1: 닭가슴살 중량의 중앙값은 100 보다 작다."
   ]
  },
  {
   "cell_type": "code",
   "execution_count": 110,
   "metadata": {
    "id": "KIxyHdlAsWPy",
    "tags": []
   },
   "outputs": [
    {
     "name": "stdout",
     "output_type": "stream",
     "text": [
      "[Wilcoxon Signed Rank Test] statistics= 35.0000, p-value= 0.9355\n",
      "H₀채택\n"
     ]
    }
   ],
   "source": [
    "from scipy.stats import wilcoxon\n",
    "\n",
    "s, pvalue = wilcoxon(df['weight']-100, alternative='less')\n",
    "print(f'[Wilcoxon Signed Rank Test] statistics= {s:.4f}, p-value= {pvalue:.4f}')\n",
    "print(f'{\"H₀기각\" if pvalue < 0.05 else \"H₀채택\"}')"
   ]
  },
  {
   "cell_type": "markdown",
   "metadata": {
    "id": "jZG_MJCEWAue"
   },
   "source": [
    "alternative='greater'\n",
    "- H0: 닭가슴살 중량의 중앙값은 100 보다 작거나 같다.\n",
    "- H1: 닭가슴살 중량의 중앙값은 100 보다 크다."
   ]
  },
  {
   "cell_type": "code",
   "execution_count": 124,
   "metadata": {
    "id": "bPFA118LsWPx",
    "tags": []
   },
   "outputs": [
    {
     "name": "stdout",
     "output_type": "stream",
     "text": [
      "[Wilcoxon Signed Rank Test] statistics= 35.0000, p-value= 0.0820\n",
      "H₀채택\n"
     ]
    }
   ],
   "source": [
    "from scipy.stats import wilcoxon\n",
    "\n",
    "s, pvalue = wilcoxon(df['weight']-100, alternative='greater')\n",
    "print(f'[Wilcoxon Signed Rank Test] statistics= {s:.4f}, p-value= {pvalue:.4f}')\n",
    "print(f'{\"H₀기각\" if pvalue < 0.05 else \"H₀채택\"}')"
   ]
  },
  {
   "cell_type": "code",
   "execution_count": 122,
   "metadata": {
    "tags": []
   },
   "outputs": [
    {
     "data": {
      "text/plain": [
       "(97.82610410493852, 108.5494920758267)"
      ]
     },
     "execution_count": 122,
     "metadata": {},
     "output_type": "execute_result"
    }
   ],
   "source": [
    "from scipy.stats import t, sem\n",
    "\n",
    "t.interval(confidence=0.95, loc=df['weight'].mean(), scale=sem(df['weight']), df=len(df)-1)"
   ]
  },
  {
   "cell_type": "markdown",
   "metadata": {
    "id": "nVeut6MEsWPz"
   },
   "source": [
    "#### 3-2.대응표본(Paired)\n",
    "- alternative='two-sided'\n",
    "    - H0: 값 차이(처리후 - 처리전)의 중앙값이 0이다(=값의 차이가 없다)\n",
    "    - H1: 값 차이(처리후 - 처리전)의 중앙값이 0이 아니다(=값의 차이가 있다)\n",
    "- alternative='less'\n",
    "    - H0: 값 차이(처리후 - 처리전)의 중앙값이 0보다 크거나 같다\n",
    "    - H1: 값 차이(처리후 - 처리전)의 중앙값이 0보다 작다\n",
    "- alternative='greater'\n",
    "    - H0: 값 차이(처리후 - 처리전)의 중앙값이 0보다 작거나 같다\n",
    "    - H1: 값 차이(처리후 - 처리전)의 중앙값이 0보다 크다 "
   ]
  },
  {
   "cell_type": "markdown",
   "metadata": {
    "id": "RBYraU93L_hX"
   },
   "source": [
    "다이어트 후, 체중이 줄었다고 할 수 있는가? 몸무게 : 비율척도\n",
    "- 동일한 회사 제품을 임의로 8개 표본 추출하였음\n",
    "- 통계적 유의수준은 0.05로 사용함\n"
   ]
  },
  {
   "cell_type": "markdown",
   "metadata": {
    "id": "sRBDBOT9XehC"
   },
   "source": [
    "alternative='less'\n",
    "- H0: 다이어트 후 - 다이어트 전 몸무게 중앙값은 0보다 크거나 같다 \n",
    "- H1: 다이어트 후 - 다이어트 전 몸무게 중앙값은 0보다 작다."
   ]
  },
  {
   "cell_type": "code",
   "execution_count": 125,
   "metadata": {
    "colab": {
     "base_uri": "https://localhost:8080/"
    },
    "id": "iKA8w9zbsWPz",
    "outputId": "de94092e-b4a9-42f9-fa67-f47fbf56bff1",
    "tags": []
   },
   "outputs": [
    {
     "name": "stdout",
     "output_type": "stream",
     "text": [
      "      before      after\n",
      "0  60.038972  56.153355\n",
      "1  58.566940  55.678046\n",
      "2  62.200320  63.010597\n",
      "3  68.522263  64.413353\n",
      "4  54.802465  52.110032\n",
      "5  55.437637  51.330742\n",
      "6  64.700073  62.047727\n",
      "7  65.030917  61.157653\n"
     ]
    }
   ],
   "source": [
    "# [1] 파일 불러오기\n",
    "import pandas as pd\n",
    "df = pd.read_csv('./data_02/diet_result.csv')\n",
    "print(df)"
   ]
  },
  {
   "cell_type": "code",
   "execution_count": null,
   "metadata": {
    "id": "y6VjXh8rJzML"
   },
   "outputs": [],
   "source": [
    "# scipy.stats.wilcoxon(x, y=None, zero_method='wilcox', correction=False, alternative='two-sided', mode='auto')\n",
    "# The Wilcoxon signed-rank test tests the null hypothesis that two related paired samples come from the same distribution. \n",
    "# In particular, it tests whether the distribution of the differences x - y is symmetric about zero.\n",
    "# It is a non-parametric version of the paired T-test."
   ]
  },
  {
   "cell_type": "code",
   "execution_count": 134,
   "metadata": {
    "tags": []
   },
   "outputs": [
    {
     "name": "stdout",
     "output_type": "stream",
     "text": [
      "after   - median: 58.6555\n",
      "before  - median: 61.1196\n"
     ]
    }
   ],
   "source": [
    "for x_feature in ['after', 'before']:\n",
    "    print(f'{x_feature:7s} - median: {df[x_feature].median():,.4f}')"
   ]
  },
  {
   "cell_type": "code",
   "execution_count": 129,
   "metadata": {
    "id": "eTPRCvvmsWP0",
    "tags": []
   },
   "outputs": [
    {
     "name": "stdout",
     "output_type": "stream",
     "text": [
      "[Wilcoxon Signed Rank Test] statistics= 1.0000, p-value= 0.0078\n"
     ]
    }
   ],
   "source": [
    "# [2] wilcoxon sign rank sum - (paired t-test의 비모수)\n",
    "from scipy.stats import wilcoxon\n",
    "\n",
    "s, pvalue = wilcoxon(df['after'], df['before'], alternative='less')\n",
    "print(f'[Wilcoxon Signed Rank Test] statistics= {s:.4f}, p-value= {pvalue:.4f}')"
   ]
  },
  {
   "cell_type": "code",
   "execution_count": 130,
   "metadata": {
    "id": "xYr_yQ0csWP0",
    "tags": []
   },
   "outputs": [
    {
     "name": "stdout",
     "output_type": "stream",
     "text": [
      "H₀기각\n"
     ]
    }
   ],
   "source": [
    "# [3] 결과\n",
    "print(f'{\"H₀기각\" if pvalue < 0.05 else \"H₀채택\"}')"
   ]
  },
  {
   "cell_type": "markdown",
   "metadata": {
    "id": "M2jZy4s_aiQ-"
   },
   "source": [
    "alternative='two-sided'\n",
    "- H0: 다이어트 후 - 다이어트 전 몸무게 중앙값은 0과 같다 \n",
    "- H1: 다이어트 후 - 다이어트 전 몸무게 중앙값은 0과 다르다"
   ]
  },
  {
   "cell_type": "code",
   "execution_count": 131,
   "metadata": {
    "id": "ZAj8pg94ao7i",
    "tags": []
   },
   "outputs": [
    {
     "name": "stdout",
     "output_type": "stream",
     "text": [
      "[Wilcoxon Signed Rank Test] statistics= 1.0000, p-value= 0.0156\n",
      "H₀기각\n"
     ]
    }
   ],
   "source": [
    "from scipy.stats import wilcoxon\n",
    "\n",
    "s, pvalue = wilcoxon(df['after'], df['before'], alternative='two-sided')\n",
    "print(f'[Wilcoxon Signed Rank Test] statistics= {s:.4f}, p-value= {pvalue:.4f}')\n",
    "print(f'{\"H₀기각\" if pvalue < 0.05 else \"H₀채택\"}')"
   ]
  },
  {
   "cell_type": "markdown",
   "metadata": {
    "id": "asqAuDPla26U"
   },
   "source": [
    "alternative='greater'\n",
    "- H0: 다이어트 후 - 다이어트 전 몸무게 중앙값은 0보다 작거나 같다 \n",
    "- H1: 다이어트 후 - 다이어트 전 몸무게 중앙값은 0보다 크다"
   ]
  },
  {
   "cell_type": "code",
   "execution_count": 132,
   "metadata": {
    "id": "LVprTAbKa1k9",
    "tags": []
   },
   "outputs": [
    {
     "name": "stdout",
     "output_type": "stream",
     "text": [
      "[Wilcoxon Signed Rank Test] statistics= 1.0000, p-value= 0.9961\n",
      "H₀채택\n"
     ]
    }
   ],
   "source": [
    "from scipy.stats import wilcoxon\n",
    "\n",
    "s, pvalue = wilcoxon(df['after'], df['before'], alternative='greater')\n",
    "print(f'[Wilcoxon Signed Rank Test] statistics= {s:.4f}, p-value= {pvalue:.4f}')\n",
    "print(f'{\"H₀기각\" if pvalue < 0.05 else \"H₀채택\"}')"
   ]
  },
  {
   "cell_type": "markdown",
   "metadata": {
    "id": "avKGqqA-sWP0"
   },
   "source": [
    "###4.독립 2표본(Two Sample)\n",
    "- 독립 2표본 T검정에서 정규성 가정이 만족되지 않을 때 사용하는 비모수 검정법\n",
    "- **두 표본의 중위수를 비교**하는데 쓰임\n",
    "- 가정\n",
    "   1. 두 그룹은 독립적이다\n",
    "   2. 측정값은 최소 순서형 변수이다(대소 비교가 가능해야 함)\n",
    "\n",
    "   "
   ]
  },
  {
   "cell_type": "markdown",
   "metadata": {
    "id": "FdKSUU-LoGk8"
   },
   "source": [
    "- alternative='two-sided'\n",
    "    - H0: gA의 중앙값과 gB의 중앙값이 같다(차이가 없다)\n",
    "    - H1: gA의 중앙값과 gB의 중앙값이 다르다(차이가 있다)\n",
    "- alternative='less'\n",
    "    - H0: gA의 중앙값이 gB의 중앙값보다 크거나 같다\n",
    "    - H1: gA의 중앙값이 gB의 중앙값보다 작다\n",
    "- alternative='greater'\n",
    "    - H0: gA의 중앙값이 gB의 중앙값보다 작거나 같다\n",
    "    - H1: gA의 중앙값이 gB의 중앙값보다 크다"
   ]
  },
  {
   "cell_type": "markdown",
   "metadata": {
    "id": "1ntotjlgeWCv"
   },
   "source": [
    "#### 4-1.Wilcoxon Rank Sum Test"
   ]
  },
  {
   "cell_type": "markdown",
   "metadata": {
    "id": "3m3_AQNEdzV6"
   },
   "source": [
    "A사 닭가슴살 제품의 중량과 B사 닭가슴살 제품의 중량이 차이가 있는지 확인\n",
    "- A사 닭가슴살은 40개의 표본, B사 닭가슴살은 20개의 표본이 있으며\n",
    "- 각각 독립적이고 임의로 추출했다\n",
    "- 통계적 유의수준은 0.05 사용\n"
   ]
  },
  {
   "cell_type": "markdown",
   "metadata": {
    "id": "-Vwa_FQ5eI0C"
   },
   "source": [
    "alternative='two-sided'\n",
    "- H0: A사 닭가슴살 중량과 B사 닭가슴살 중량의 차이가 없다\n",
    "- H1: A사 닭가슴살 중량과 B사 닭가슴살 중량의 차이가 있다"
   ]
  },
  {
   "cell_type": "code",
   "execution_count": 135,
   "metadata": {
    "id": "ur8JubqzsWP1",
    "tags": []
   },
   "outputs": [
    {
     "data": {
      "text/html": [
       "<div>\n",
       "<style scoped>\n",
       "    .dataframe tbody tr th:only-of-type {\n",
       "        vertical-align: middle;\n",
       "    }\n",
       "\n",
       "    .dataframe tbody tr th {\n",
       "        vertical-align: top;\n",
       "    }\n",
       "\n",
       "    .dataframe thead th {\n",
       "        text-align: right;\n",
       "    }\n",
       "</style>\n",
       "<table border=\"1\" class=\"dataframe\">\n",
       "  <thead>\n",
       "    <tr style=\"text-align: right;\">\n",
       "      <th></th>\n",
       "      <th>company</th>\n",
       "      <th>weight</th>\n",
       "    </tr>\n",
       "  </thead>\n",
       "  <tbody>\n",
       "    <tr>\n",
       "      <th>0</th>\n",
       "      <td>A</td>\n",
       "      <td>97.604131</td>\n",
       "    </tr>\n",
       "    <tr>\n",
       "      <th>1</th>\n",
       "      <td>A</td>\n",
       "      <td>95.963639</td>\n",
       "    </tr>\n",
       "  </tbody>\n",
       "</table>\n",
       "</div>"
      ],
      "text/plain": [
       "  company     weight\n",
       "0       A  97.604131\n",
       "1       A  95.963639"
      ]
     },
     "execution_count": 135,
     "metadata": {},
     "output_type": "execute_result"
    }
   ],
   "source": [
    "# [1] 파일 불러오기\n",
    "import pandas as pd\n",
    "df = pd.read_csv('data_02/chicken_weight_AB.csv')\n",
    "df.head(2)"
   ]
  },
  {
   "cell_type": "code",
   "execution_count": 136,
   "metadata": {
    "tags": []
   },
   "outputs": [
    {
     "data": {
      "text/plain": [
       "(60, 2)"
      ]
     },
     "execution_count": 136,
     "metadata": {},
     "output_type": "execute_result"
    }
   ],
   "source": [
    "df.shape"
   ]
  },
  {
   "cell_type": "code",
   "execution_count": 137,
   "metadata": {
    "tags": []
   },
   "outputs": [
    {
     "data": {
      "text/plain": [
       "array(['A', 'B'], dtype=object)"
      ]
     },
     "execution_count": 137,
     "metadata": {},
     "output_type": "execute_result"
    }
   ],
   "source": [
    "df['company'].unique()"
   ]
  },
  {
   "cell_type": "code",
   "execution_count": 150,
   "metadata": {
    "id": "bxa_tBVHsWP1",
    "tags": []
   },
   "outputs": [
    {
     "name": "stdout",
     "output_type": "stream",
     "text": [
      "A - median= 99.9982\n",
      "B - median= 109.9431\n"
     ]
    }
   ],
   "source": [
    "# [2] 그룹 나누기\n",
    "groups = [ x for x in df.groupby('company')['weight']]\n",
    "\n",
    "for name, x in groups:\n",
    "    print(f'{name} - median= {x.median():,.4f}')"
   ]
  },
  {
   "cell_type": "markdown",
   "metadata": {
    "id": "ekpq5xQVsWP2"
   },
   "source": [
    "scipy.stats.ranksums(x, y, alternative='two-sided')\n",
    "- Compute the Wilcoxon rank-sum statistic for two samples.\n",
    "- The Wilcoxon rank-sum test tests the null hypothesis that two sets of measurements are drawn from the same distribution. \n",
    "- The alternative hypothesis is that values in one sample are more likely to be larger than the values in the other sample.\n",
    "- This test should be used to compare two samples from continuous distributions. \n",
    "- It does not handle ties between measurements in x and y. For tie-handling and an optional continuity correction see scipy.stats.mannwhitneyu."
   ]
  },
  {
   "cell_type": "code",
   "execution_count": 145,
   "metadata": {
    "tags": []
   },
   "outputs": [
    {
     "name": "stdout",
     "output_type": "stream",
     "text": [
      "A - shapiro statistics= 0.9767, p-value= 0.5676 -> H0 채택\n",
      "B - shapiro statistics= 0.7900, p-value= 0.0006 -> H0 기각\n",
      "levene statistics= 352.5321, p-value= 0.0000 -> H0 기각\n"
     ]
    }
   ],
   "source": [
    "from scipy.stats import shapiro\n",
    "from scipy.stats import levene\n",
    "\n",
    "for name, x in groups:\n",
    "    s, pvalue = shapiro(x)\n",
    "    print(f'{name} - shapiro statistics= {s:,.4f}, p-value= {pvalue:,.4f} -> {\"H0 기각\" if pvalue < 0.05 else \"H0 채택\"}')\n",
    "\n",
    "s, pvalue = levene(groups[0][1], groups[1][1], center='mean')\n",
    "print(f'levene statistics= {s:,.4f}, p-value= {pvalue:,.4f} -> {\"H0 기각\" if pvalue < 0.05 else \"H0 채택\"}')"
   ]
  },
  {
   "cell_type": "code",
   "execution_count": 152,
   "metadata": {
    "id": "ivWM3O-UsWP3",
    "tags": []
   },
   "outputs": [
    {
     "name": "stdout",
     "output_type": "stream",
     "text": [
      "[Wilcoxon Signed Rank Sum Test] statistics= -4.8612, p-value= 0.0000\n"
     ]
    }
   ],
   "source": [
    "# [3] wilcoxon rank sum test (two sample)\n",
    "from scipy.stats import ranksums\n",
    "\n",
    "s, pvalue = ranksums(groups[0][1], groups[1][1], alternative='two-sided')\n",
    "print(f'[Wilcoxon Signed Rank Sum Test] statistics= {s:.4f}, p-value= {pvalue:.4f}')"
   ]
  },
  {
   "cell_type": "code",
   "execution_count": 153,
   "metadata": {
    "id": "OCGB-udUsWP3",
    "tags": []
   },
   "outputs": [
    {
     "name": "stdout",
     "output_type": "stream",
     "text": [
      "H₀기각\n"
     ]
    }
   ],
   "source": [
    "# [4] 결과\n",
    "print(f'{\"H₀기각\" if pvalue < 0.05 else \"H₀채택\"}')"
   ]
  },
  {
   "cell_type": "markdown",
   "metadata": {
    "id": "ndUdlcB5ovW9"
   },
   "source": [
    "alternative='less'\n",
    "- H0: A사 닭가슴살 중량이 B사 닭가슴살 중량보다 크거나 같다\n",
    "- H1: A사 닭가슴살 중량이 B사 닭가슴살 중량보다 작다"
   ]
  },
  {
   "cell_type": "code",
   "execution_count": 154,
   "metadata": {
    "id": "_790RW13ps_9",
    "tags": []
   },
   "outputs": [
    {
     "name": "stdout",
     "output_type": "stream",
     "text": [
      "[Wilcoxon Signed Rank Sum Test] statistics= -4.8612, p-value= 0.0000 -> H₀기각\n"
     ]
    }
   ],
   "source": [
    "# wilcoxon rank sum test (two sample)\n",
    "from scipy.stats import ranksums\n",
    "\n",
    "s, pvalue = ranksums(groups[0][1], groups[1][1], alternative='less')\n",
    "print(f'[Wilcoxon Signed Rank Sum Test] statistics= {s:.4f}, p-value= {pvalue:.4f} -> {\"H₀기각\" if pvalue < 0.05 else \"H₀채택\"}')"
   ]
  },
  {
   "cell_type": "markdown",
   "metadata": {
    "id": "3VeqYEnfqGsW"
   },
   "source": [
    "alternative='greater'\n",
    "- H0: A사 닭가슴살 중량이 B사 닭가슴살 중량보다 작거나 같다\n",
    "- H1: A사 닭가슴살 중량이 B사 닭가슴살 중량보다 크다"
   ]
  },
  {
   "cell_type": "code",
   "execution_count": 156,
   "metadata": {
    "id": "IBrwFLpVqMhF",
    "tags": []
   },
   "outputs": [
    {
     "name": "stdout",
     "output_type": "stream",
     "text": [
      "[Wilcoxon Signed Rank Sum Test] statistics= -4.8612, p-value= 1.0000 -> H₀채택\n"
     ]
    }
   ],
   "source": [
    "# wilcoxon rank sum test (two sample)\n",
    "from scipy.stats import ranksums\n",
    "\n",
    "s, pvalue = ranksums(groups[0][1], groups[1][1], alternative='greater')\n",
    "print(f'[Wilcoxon Signed Rank Sum Test] statistics= {s:.4f}, p-value= {pvalue:.4f} -> {\"H₀기각\" if pvalue < 0.05 else \"H₀채택\"}')"
   ]
  },
  {
   "cell_type": "markdown",
   "metadata": {
    "id": "YNSWc5YGlCVl"
   },
   "source": [
    "#### 4-2.Mann-Whitney U test"
   ]
  },
  {
   "cell_type": "markdown",
   "metadata": {
    "id": "eZls1pBOsWP3"
   },
   "source": [
    "scipy.stats.mannwhitneyu(x, y, use_continuity=True, alternative='two-sided', axis=0, method='auto')\n",
    "- Perform the Mann-Whitney U rank test on two independent samples.\n",
    "- The Mann-Whitney U test is a nonparametric test of the null hypothesis that the distribution underlying sample x is the same as the distribution underlying sample y. \n"
   ]
  },
  {
   "cell_type": "markdown",
   "metadata": {
    "id": "cxi9eMCnc9Yp"
   },
   "source": [
    "alternative='two-sided'\n",
    "- H0: A사 닭가슴살 중량과 B사 닭가슴살 중량의 차이가 없다\n",
    "- H1: A사 닭가슴살 중량과 B사 닭가슴살 중량의 차이가 있다"
   ]
  },
  {
   "cell_type": "code",
   "execution_count": 160,
   "metadata": {
    "id": "LrYQy8hSkmB7",
    "tags": []
   },
   "outputs": [
    {
     "name": "stdout",
     "output_type": "stream",
     "text": [
      "[Mann Whitney U Test] statistics= 90.0000, p-value= 0.0000 -> H₀기각\n"
     ]
    }
   ],
   "source": [
    "# [1] Mann-Whitney U test (two sample)\n",
    "from scipy.stats import mannwhitneyu\n",
    "\n",
    "s, pvalue = mannwhitneyu(groups[0][1], groups[1][1], alternative='two-sided')\n",
    "print(f'[Mann Whitney U Test] statistics= {s:.4f}, p-value= {pvalue:.4f} -> {\"H₀기각\" if pvalue < 0.05 else \"H₀채택\"}')"
   ]
  },
  {
   "cell_type": "code",
   "execution_count": null,
   "metadata": {
    "id": "snTOAfHKkm-N"
   },
   "outputs": [],
   "source": [
    "# [2] 결과\n"
   ]
  },
  {
   "cell_type": "markdown",
   "metadata": {
    "id": "QMN9fqKvkqkI"
   },
   "source": [
    "alternative='less'\n",
    "- H0: A사 닭가슴살 중량이 B사 닭가슴살 중량보다 크거나 같다\n",
    "- H1: A사 닭가슴살 중량이 B사 닭가슴살 중량보다 작다"
   ]
  },
  {
   "cell_type": "code",
   "execution_count": 162,
   "metadata": {
    "id": "ZlJG14OPkrfA",
    "tags": []
   },
   "outputs": [
    {
     "name": "stdout",
     "output_type": "stream",
     "text": [
      "[Mann Whitney U Test] statistics= 90.0000, p-value= 0.0000 -> H₀기각\n"
     ]
    }
   ],
   "source": [
    "from scipy.stats import mannwhitneyu\n",
    "\n",
    "s, pvalue = mannwhitneyu(groups[0][1], groups[1][1], alternative='less')\n",
    "print(f'[Mann Whitney U Test] statistics= {s:.4f}, p-value= {pvalue:.4f} -> {\"H₀기각\" if pvalue < 0.05 else \"H₀채택\"}')"
   ]
  },
  {
   "cell_type": "markdown",
   "metadata": {
    "id": "DlLISFlCkuJw"
   },
   "source": [
    "alternative='greater'\n",
    "- H0: A사 닭가슴살 중량이 B사 닭가슴살 중량보다 작거나 같다\n",
    "- H1: A사 닭가슴살 중량이 B사 닭가슴살 중량보다 크다"
   ]
  },
  {
   "cell_type": "code",
   "execution_count": 164,
   "metadata": {
    "id": "P9nnJkNTku_4",
    "tags": []
   },
   "outputs": [
    {
     "name": "stdout",
     "output_type": "stream",
     "text": [
      "[Mann Whitney U Test] statistics= 90.0000, p-value= 1.0000 -> H₀채택\n"
     ]
    }
   ],
   "source": [
    "from scipy.stats import mannwhitneyu\n",
    "\n",
    "s, pvalue = mannwhitneyu(groups[0][1], groups[1][1], alternative='greater')\n",
    "print(f'[Mann Whitney U Test] statistics= {s:.4f}, p-value= {pvalue:.4f} -> {\"H₀기각\" if pvalue < 0.05 else \"H₀채택\"}')"
   ]
  },
  {
   "cell_type": "markdown",
   "metadata": {
    "id": "T8UKpoResWP5"
   },
   "source": [
    "### 5.Kruskal-Wallis H-test\n",
    "- 분산 분석(ANOVA)에서 정규성 가정이 만족되지 않을 때 사용하는 비모수 검정법\n",
    "- ANOVA와는 달리 중앙값에 관한 결과를 얻을 수 있음\n",
    "- 가정\n",
    "  1. 표본은 독립적이다.\n",
    "  2. 측정값은 최소 순서형 변수이다. (대소 비교가 가능해야 합니다.)\n",
    "- 가설\n",
    "  - H0: 모든 그룹의 중앙값은 서로 같다\n",
    "  - H1: 모든 그룹의 중앙값이 전부 같은 것은 아니다"
   ]
  },
  {
   "cell_type": "markdown",
   "metadata": {
    "id": "H3iixAzusWP5"
   },
   "source": [
    "scipy.stats.kruskal(*args, nan_policy='propagate')[source]\n",
    "- The Kruskal-Wallis H-test tests the null hypothesis that the population median of all of the groups are equal. \n",
    "- It is a non-parametric version of ANOVA. The test works on 2 or more independent samples, which may have different sizes. \n",
    "- Note that rejecting the null hypothesis does not indicate which of the groups differs. \n",
    "- Post hoc comparisons between groups are required to determine which groups are different."
   ]
  },
  {
   "cell_type": "markdown",
   "metadata": {
    "id": "GrJjSMVvqwUv"
   },
   "source": [
    "####5-1.K개 Sample\n",
    "- A, B, C 고등학교 학생들의 하루 공부 시간을 조사했을 때,고등학교 간에 공부 시간이 차이가 있는지 확인\n",
    "- 통계적 유의수준은 0.05\n"
   ]
  },
  {
   "cell_type": "markdown",
   "metadata": {
    "id": "Oa1vYvOsrC3S"
   },
   "source": [
    "- H0: A,B,C 고등학교 학생들의 하루 공부시간에 차이가 없다\n",
    "- H1: A,B,C 고등학교 학생들의 하루 공부시간에 차이가 있다"
   ]
  },
  {
   "cell_type": "code",
   "execution_count": 165,
   "metadata": {
    "colab": {
     "base_uri": "https://localhost:8080/",
     "height": 112
    },
    "id": "qGFPt-x_sWP5",
    "outputId": "d8046da9-e917-40e8-f1fd-fcb38074d128",
    "tags": []
   },
   "outputs": [
    {
     "data": {
      "text/html": [
       "<div>\n",
       "<style scoped>\n",
       "    .dataframe tbody tr th:only-of-type {\n",
       "        vertical-align: middle;\n",
       "    }\n",
       "\n",
       "    .dataframe tbody tr th {\n",
       "        vertical-align: top;\n",
       "    }\n",
       "\n",
       "    .dataframe thead th {\n",
       "        text-align: right;\n",
       "    }\n",
       "</style>\n",
       "<table border=\"1\" class=\"dataframe\">\n",
       "  <thead>\n",
       "    <tr style=\"text-align: right;\">\n",
       "      <th></th>\n",
       "      <th>group</th>\n",
       "      <th>time</th>\n",
       "    </tr>\n",
       "  </thead>\n",
       "  <tbody>\n",
       "    <tr>\n",
       "      <th>0</th>\n",
       "      <td>A</td>\n",
       "      <td>12.525909</td>\n",
       "    </tr>\n",
       "    <tr>\n",
       "      <th>1</th>\n",
       "      <td>A</td>\n",
       "      <td>9.347533</td>\n",
       "    </tr>\n",
       "  </tbody>\n",
       "</table>\n",
       "</div>"
      ],
      "text/plain": [
       "  group       time\n",
       "0     A  12.525909\n",
       "1     A   9.347533"
      ]
     },
     "execution_count": 165,
     "metadata": {},
     "output_type": "execute_result"
    }
   ],
   "source": [
    "# [1] 파일 불러오기\n",
    "import pandas as pd\n",
    "df = pd.read_csv('./data_02/high_school.csv')\n",
    "df.head(2)"
   ]
  },
  {
   "cell_type": "code",
   "execution_count": 166,
   "metadata": {
    "tags": []
   },
   "outputs": [
    {
     "name": "stdout",
     "output_type": "stream",
     "text": [
      "<class 'pandas.core.frame.DataFrame'>\n",
      "RangeIndex: 65 entries, 0 to 64\n",
      "Data columns (total 2 columns):\n",
      " #   Column  Non-Null Count  Dtype  \n",
      "---  ------  --------------  -----  \n",
      " 0   group   65 non-null     object \n",
      " 1   time    65 non-null     float64\n",
      "dtypes: float64(1), object(1)\n",
      "memory usage: 1.1+ KB\n"
     ]
    }
   ],
   "source": [
    "df.info()"
   ]
  },
  {
   "cell_type": "code",
   "execution_count": 167,
   "metadata": {
    "tags": []
   },
   "outputs": [
    {
     "data": {
      "text/plain": [
       "B    30\n",
       "A    20\n",
       "C    15\n",
       "Name: group, dtype: int64"
      ]
     },
     "execution_count": 167,
     "metadata": {},
     "output_type": "execute_result"
    }
   ],
   "source": [
    "df['group'].value_counts()"
   ]
  },
  {
   "cell_type": "code",
   "execution_count": 168,
   "metadata": {
    "id": "LNqDVBFqsWP6",
    "tags": []
   },
   "outputs": [],
   "source": [
    "# [2] 그룹 나누기\n",
    "groups = df.groupby('group')['time']"
   ]
  },
  {
   "cell_type": "code",
   "execution_count": 192,
   "metadata": {
    "id": "SghdhhrZsWP6",
    "tags": []
   },
   "outputs": [
    {
     "name": "stdout",
     "output_type": "stream",
     "text": [
      "Kruskal Wallis H Test: statistics= 34.1434, p-value= 0.0000 -> H0 기각\n"
     ]
    }
   ],
   "source": [
    "# [3] Kruskal-Wallis Test\n",
    "from scipy.stats import kruskal\n",
    "\n",
    "datas = [x for _, x in groups]\n",
    "\n",
    "s, pvalue = kruskal(*datas)\n",
    "print(f'Kruskal Wallis H Test: statistics= {s:,.4f}, p-value= {pvalue:,.4f} -> {\"H0 기각\" if pvalue < 0.05 else \"H0 채택\"}')"
   ]
  },
  {
   "cell_type": "code",
   "execution_count": null,
   "metadata": {
    "id": "SSWshAlqsWP6"
   },
   "outputs": [],
   "source": [
    "# [4] 결과\n"
   ]
  },
  {
   "cell_type": "markdown",
   "metadata": {
    "id": "0PhN_27IIhVX"
   },
   "source": [
    "#### 5-2.분류 모델에서 활용\n",
    "- 1개 연속형 변수, 1개 범주형 변수 (4개 범주)\n",
    "- 범주별로 연속형 변수의 평균 차이가 있는지 검정한다"
   ]
  },
  {
   "cell_type": "code",
   "execution_count": 193,
   "metadata": {
    "colab": {
     "base_uri": "https://localhost:8080/",
     "height": 112
    },
    "id": "miK2v9ctInPH",
    "outputId": "75e1b985-7817-4a03-97be-2d09a9ff5c26",
    "tags": []
   },
   "outputs": [
    {
     "data": {
      "text/html": [
       "<div>\n",
       "<style scoped>\n",
       "    .dataframe tbody tr th:only-of-type {\n",
       "        vertical-align: middle;\n",
       "    }\n",
       "\n",
       "    .dataframe tbody tr th {\n",
       "        vertical-align: top;\n",
       "    }\n",
       "\n",
       "    .dataframe thead th {\n",
       "        text-align: right;\n",
       "    }\n",
       "</style>\n",
       "<table border=\"1\" class=\"dataframe\">\n",
       "  <thead>\n",
       "    <tr style=\"text-align: right;\">\n",
       "      <th></th>\n",
       "      <th>ID</th>\n",
       "      <th>Gender</th>\n",
       "      <th>Ever_Married</th>\n",
       "      <th>Age</th>\n",
       "      <th>Graduated</th>\n",
       "      <th>Profession</th>\n",
       "      <th>Work_Experience</th>\n",
       "      <th>Spending_Score</th>\n",
       "      <th>Family_Size</th>\n",
       "      <th>Var_1</th>\n",
       "      <th>Segmentation</th>\n",
       "    </tr>\n",
       "  </thead>\n",
       "  <tbody>\n",
       "    <tr>\n",
       "      <th>0</th>\n",
       "      <td>462809</td>\n",
       "      <td>Male</td>\n",
       "      <td>No</td>\n",
       "      <td>22</td>\n",
       "      <td>No</td>\n",
       "      <td>Healthcare</td>\n",
       "      <td>1.0</td>\n",
       "      <td>Low</td>\n",
       "      <td>4.0</td>\n",
       "      <td>Cat_4</td>\n",
       "      <td>4</td>\n",
       "    </tr>\n",
       "    <tr>\n",
       "      <th>1</th>\n",
       "      <td>466315</td>\n",
       "      <td>Female</td>\n",
       "      <td>Yes</td>\n",
       "      <td>67</td>\n",
       "      <td>Yes</td>\n",
       "      <td>Engineer</td>\n",
       "      <td>1.0</td>\n",
       "      <td>Low</td>\n",
       "      <td>1.0</td>\n",
       "      <td>Cat_6</td>\n",
       "      <td>2</td>\n",
       "    </tr>\n",
       "  </tbody>\n",
       "</table>\n",
       "</div>"
      ],
      "text/plain": [
       "       ID  Gender Ever_Married  Age Graduated  Profession  Work_Experience  \\\n",
       "0  462809    Male           No   22        No  Healthcare              1.0   \n",
       "1  466315  Female          Yes   67       Yes    Engineer              1.0   \n",
       "\n",
       "  Spending_Score  Family_Size  Var_1  Segmentation  \n",
       "0            Low          4.0  Cat_4             4  \n",
       "1            Low          1.0  Cat_6             2  "
      ]
     },
     "execution_count": 193,
     "metadata": {},
     "output_type": "execute_result"
    }
   ],
   "source": [
    "# [1] 데이터 읽어오기 (4회기출)\n",
    "import pandas as pd\n",
    "\n",
    "data = pd.read_csv('https://raw.githubusercontent.com/Soyoung-Yoon/bigdata/main/train_04.csv')\n",
    "data.head(2)"
   ]
  },
  {
   "cell_type": "code",
   "execution_count": 194,
   "metadata": {
    "tags": []
   },
   "outputs": [
    {
     "name": "stdout",
     "output_type": "stream",
     "text": [
      "<class 'pandas.core.frame.DataFrame'>\n",
      "RangeIndex: 6665 entries, 0 to 6664\n",
      "Data columns (total 11 columns):\n",
      " #   Column           Non-Null Count  Dtype  \n",
      "---  ------           --------------  -----  \n",
      " 0   ID               6665 non-null   int64  \n",
      " 1   Gender           6665 non-null   object \n",
      " 2   Ever_Married     6665 non-null   object \n",
      " 3   Age              6665 non-null   int64  \n",
      " 4   Graduated        6665 non-null   object \n",
      " 5   Profession       6665 non-null   object \n",
      " 6   Work_Experience  6665 non-null   float64\n",
      " 7   Spending_Score   6665 non-null   object \n",
      " 8   Family_Size      6665 non-null   float64\n",
      " 9   Var_1            6665 non-null   object \n",
      " 10  Segmentation     6665 non-null   int64  \n",
      "dtypes: float64(2), int64(3), object(6)\n",
      "memory usage: 572.9+ KB\n"
     ]
    }
   ],
   "source": [
    "data.info()"
   ]
  },
  {
   "cell_type": "code",
   "execution_count": 196,
   "metadata": {
    "colab": {
     "base_uri": "https://localhost:8080/"
    },
    "id": "E4A_aBoyYoB2",
    "outputId": "72a6c7f5-d6f4-4a57-8176-95ae43d3a27c",
    "tags": []
   },
   "outputs": [],
   "source": [
    "# [2] 그룹 나누기 - 종속변수 Age, 독립변수 Segmentation\n",
    "y_feature = 'Age'\n",
    "x_feature = 'Segmentation'\n",
    "\n",
    "groups = [x for x in data.groupby(x_feature)[y_feature]]"
   ]
  },
  {
   "cell_type": "code",
   "execution_count": 204,
   "metadata": {
    "id": "FzJpzhl_cIrP",
    "tags": []
   },
   "outputs": [
    {
     "name": "stdout",
     "output_type": "stream",
     "text": [
      "1 : n=1616, shapiro statistic= 0.8978, p-value= 0.0000 -> 정규성 불만족\n",
      "2 : n=1572, shapiro statistic= 0.9694, p-value= 0.0000 -> 정규성 불만족\n",
      "3 : n=1720, shapiro statistic= 0.9853, p-value= 0.0000 -> 정규성 불만족\n",
      "4 : n=1757, shapiro statistic= 0.7960, p-value= 0.0000 -> 정규성 불만족\n",
      "Bartlett-Kellin Test statistics= 10.4488, p-value= 0.0000 -> 등분산성 불만족\n"
     ]
    }
   ],
   "source": [
    "# [3] 정규성 검정\n",
    "from scipy.stats import shapiro, kstest, normaltest, anderson\n",
    "from scipy.stats import bartlett, levene, fligner\n",
    "\n",
    "for name, x in groups:\n",
    "    s, pvalue = shapiro(x)\n",
    "    print(f'{name} : n={len(x)}, shapiro statistic= {s:,.4f}, p-value= {pvalue:,.4f} -> {\"정규성 불만족\" if pvalue < 0.05 else \"정규성 만족\"}')\n",
    "\n",
    "datas = [x for _, x in groups]\n",
    "s, pvalue = levene(*datas, center='median')\n",
    "print(f'Bartlett-Kellin Test statistics= {s:,.4f}, p-value= {pvalue:,.4f} -> {\"등분산성 불만족\" if pvalue < 0.05 else \"등분산성 만족\"}')"
   ]
  },
  {
   "cell_type": "code",
   "execution_count": 206,
   "metadata": {
    "id": "rxcXZZvAYPMm",
    "tags": []
   },
   "outputs": [
    {
     "name": "stdout",
     "output_type": "stream",
     "text": [
      "1 : median= 40.0000\n",
      "2 : median= 46.0000\n",
      "3 : median= 49.0000\n",
      "4 : median= 29.0000\n"
     ]
    }
   ],
   "source": [
    "# [4] 'Segmentation' 그룹별 'Age'의 중앙값 구하기\n",
    "for name, x in groups:\n",
    "    print(f'{name} : median= {x.median():,.4f}')"
   ]
  },
  {
   "cell_type": "code",
   "execution_count": 207,
   "metadata": {
    "tags": []
   },
   "outputs": [
    {
     "data": {
      "image/png": "[encoded data removed]",
      "text/plain": [
       "<Figure size 640x480 with 1 Axes>"
      ]
     },
     "metadata": {},
     "output_type": "display_data"
    }
   ],
   "source": [
    "import matplotlib.pyplot as plt\n",
    "import seaborn as sns\n",
    "\n",
    "sns.boxplot(data=data, x='Segmentation', y='Age')\n",
    "plt.show()"
   ]
  },
  {
   "cell_type": "code",
   "execution_count": 208,
   "metadata": {
    "id": "-vfOuE_HYyoP",
    "tags": []
   },
   "outputs": [
    {
     "name": "stdout",
     "output_type": "stream",
     "text": [
      "Kruskal Wallis H Test statistics= 1,448.6140, p-value= 0.0000 --> H0 기각\n"
     ]
    }
   ],
   "source": [
    "# [5] 크루스칼-왈리스 검정 수행\n",
    "# 귀무가설 : Segmentation별 Age의 차이가 없다\n",
    "# 대립가설 : Segmentation별 Age의 차이가 있다\n",
    "\n",
    "from scipy.stats import kruskal\n",
    "\n",
    "datas = [x for _, x in groups]\n",
    "\n",
    "s, pvalue = kruskal(*datas)\n",
    "print(f'Kruskal Wallis H Test statistics= {s:,.4f}, p-value= {pvalue:,.4f} --> {\"H0 기각\" if pvalue < 0.05 else \"H0 채택\"}')"
   ]
  },
  {
   "cell_type": "code",
   "execution_count": 214,
   "metadata": {
    "id": "oIBHJH8SoZff",
    "tags": []
   },
   "outputs": [
    {
     "name": "stdout",
     "output_type": "stream",
     "text": [
      " Multiple Comparison of Means - Tukey HSD, FWER=0.05 \n",
      "=====================================================\n",
      "group1 group2 meandiff p-adj  lower    upper   reject\n",
      "-----------------------------------------------------\n",
      "     1      2   3.6918   0.0   2.3117   5.0719   True\n",
      "     1      3   4.9065   0.0   3.5568   6.2562   True\n",
      "     1      4 -11.4647   0.0 -12.8074 -10.1219   True\n",
      "     2      3   1.2147 0.099  -0.1447   2.5741  False\n",
      "     2      4 -15.1565   0.0  -16.509  -13.804   True\n",
      "     3      4 -16.3712   0.0 -17.6926 -15.0497   True\n",
      "-----------------------------------------------------\n"
     ]
    }
   ],
   "source": [
    "from statsmodels.stats.multicomp import pairwise_tukeyhsd\n",
    "\n",
    "posthoc_r = pairwise_tukeyhsd(data['Age'], data['Segmentation'], alpha=0.05)\n",
    "print(posthoc_r)"
   ]
  },
  {
   "cell_type": "code",
   "execution_count": 216,
   "metadata": {
    "tags": []
   },
   "outputs": [
    {
     "data": {
      "image/png": "[encoded data removed]",
      "text/plain": [
       "<Figure size 1000x600 with 1 Axes>"
      ]
     },
     "metadata": {},
     "output_type": "display_data"
    }
   ],
   "source": [
    "posthoc_r.plot_simultaneous()\n",
    "plt.show()"
   ]
  },
  {
   "cell_type": "code",
   "execution_count": null,
   "metadata": {},
   "outputs": [],
   "source": []
  }
 ],
 "metadata": {
  "colab": {
   "provenance": []
  },
  "kernelspec": {
   "display_name": "Python 3 (ipykernel)",
   "language": "python",
   "name": "python3"
  },
  "language_info": {
   "codemirror_mode": {
    "name": "ipython",
    "version": 3
   },
   "file_extension": ".py",
   "mimetype": "text/x-python",
   "name": "python",
   "nbconvert_exporter": "python",
   "pygments_lexer": "ipython3",
   "version": "3.8.16"
  }
 },
 "nbformat": 4,
 "nbformat_minor": 4
}
