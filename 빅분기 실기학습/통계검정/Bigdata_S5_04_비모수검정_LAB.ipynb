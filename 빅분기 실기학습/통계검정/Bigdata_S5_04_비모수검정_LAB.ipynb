{
  "nbformat": 4,
  "nbformat_minor": 0,
  "metadata": {
    "kernelspec": {
      "display_name": "Python 3",
      "language": "python",
      "name": "python3"
    },
    "language_info": {
      "codemirror_mode": {
        "name": "ipython",
        "version": 3
      },
      "file_extension": ".py",
      "mimetype": "text/x-python",
      "name": "python",
      "nbconvert_exporter": "python",
      "pygments_lexer": "ipython3",
      "version": "3.8.3"
    },
    "colab": {
      "provenance": []
    }
  },
  "cells": [
    {
      "cell_type": "markdown",
      "metadata": {
        "id": "1QBL63Yfh5D1"
      },
      "source": [
        "### 0.데이터 다운로드\n"
      ]
    },
    {
      "cell_type": "code",
      "metadata": {
        "colab": {
          "base_uri": "https://localhost:8080/"
        },
        "id": "Rxwkisfeh_Nl",
        "outputId": "5adbf73c-e2c3-4d78-9682-28719de4ec6e"
      },
      "source": [
        "!git clone https://github.com/Soyoung-Yoon/data_02"
      ],
      "execution_count": null,
      "outputs": [
        {
          "output_type": "stream",
          "name": "stdout",
          "text": [
            "Cloning into 'data_02'...\n",
            "remote: Enumerating objects: 50, done.\u001b[K\n",
            "remote: Counting objects: 100% (3/3), done.\u001b[K\n",
            "remote: Compressing objects: 100% (3/3), done.\u001b[K\n",
            "remote: Total 50 (delta 0), reused 0 (delta 0), pack-reused 47\u001b[K\n",
            "Unpacking objects: 100% (50/50), 442.37 KiB | 1022.00 KiB/s, done.\n"
          ]
        }
      ]
    },
    {
      "cell_type": "code",
      "metadata": {
        "id": "cMlARWe_iB8p"
      },
      "source": [
        "import scipy\n",
        "scipy.__version__"
      ],
      "execution_count": null,
      "outputs": []
    },
    {
      "cell_type": "code",
      "metadata": {
        "id": "qNc6dXIQiDfN"
      },
      "source": [
        "!pip install scipy==1.6.0"
      ],
      "execution_count": null,
      "outputs": []
    },
    {
      "cell_type": "markdown",
      "source": [
        "### 1.카이제곱 적합도 검정"
      ],
      "metadata": {
        "id": "l_R2bnWbupEz"
      }
    },
    {
      "cell_type": "markdown",
      "source": [
        "####1-1.특정비율\n",
        "A학급 40명의 혈액형 비율을 A, B, O, AB 각각 20%, 20%, 30%, 30%로 예상하였다. 실제 측정 결과 16, 16, 4, 4 명인 경우의 적합도 검정을 수행하여 보자\n"
      ],
      "metadata": {
        "id": "neenT8e9PFS_"
      }
    },
    {
      "cell_type": "markdown",
      "source": [
        "- 𝑯_𝟎 : 변수의 분포가 기대 분포와 같다\n",
        "- 𝑯_𝟏 : 변수의 분포가 기대 분포와 같지 않다\n"
      ],
      "metadata": {
        "id": "mma6l4kjwtrN"
      }
    },
    {
      "cell_type": "code",
      "source": [
        "# [파일로 주어진 경우 직접 개수 계산]\n",
        "import pandas as pd\n",
        "data = {'blood_type': ['A']*16 + ['B']*16 + ['C']*4 + ['D']*4}\n",
        "data = pd.DataFrame(data)\n",
        "observed = None\n",
        "print(observed)"
      ],
      "metadata": {
        "id": "BuXBEihxffVT"
      },
      "execution_count": null,
      "outputs": []
    },
    {
      "cell_type": "code",
      "source": [
        "from scipy.stats import chisquare\n",
        "import numpy as np\n"
      ],
      "metadata": {
        "id": "wwAhhxQzCZno"
      },
      "execution_count": null,
      "outputs": []
    },
    {
      "cell_type": "markdown",
      "source": [
        "#### 1-2.동일비율\n",
        "4개의 범주에 대해 동일한 비율이라고 가정하고, 실제측정 한 표본 분포가 다음과 같을 때, 카이제곱 적합도 검정을 수행하여 보자\n",
        "\n",
        "        observed = [54, 46, 60, 40]\n"
      ],
      "metadata": {
        "id": "VCRZhIkAPR0R"
      }
    },
    {
      "cell_type": "markdown",
      "source": [
        "- 𝑯_𝟎 : 변수의 분포에 비율 차이가 없다.\n",
        "- 𝑯_𝟏 : 변수의 분포에 비율 차이가 있다."
      ],
      "metadata": {
        "id": "kkShHc9fwwt9"
      }
    },
    {
      "cell_type": "code",
      "source": [
        "from scipy.stats import chisquare\n",
        "import numpy as np\n"
      ],
      "metadata": {
        "id": "uA_Ax2E9DWlu"
      },
      "execution_count": null,
      "outputs": []
    },
    {
      "cell_type": "markdown",
      "metadata": {
        "id": "SxRu53YNAzIQ"
      },
      "source": [
        "### 2.카이제곱 동질성/독립성 검정\n",
        "- 두 범주형 자료 간의 차이를 분석하는 검증 방법\n",
        "- 관찰빈도(실제값)가 기대빈도(기댓값)와 유의한 차이가 있는지 검증\n",
        "- 관찰빈도는 절대적 수치로만 관찰되어야 함, 기대빈도의 합과 관찰빈도의 합은 같음\n",
        "- 분할표의 칸 수 및 각 칸의 기대빈도는 5이상 이어야 함\n",
        "- 귀무가설이 기각되면 범주별 기대빈도와 관측빈도의 차이가 충분히 크다고 말할 수 있음\n",
        "- 기대빈도와 관찰빈도의 차이가 커지면 카이제곱 통계량도 커짐\n"
      ]
    },
    {
      "cell_type": "markdown",
      "source": [
        "#### 2-1.카이제곱 동질성 검정\n",
        "- H0 : 성별별 핸드폰 모델 선호도 분포는 같다\n",
        "- H1 : 성별별 핸드폰 모델 선호도 분포가 같지 않다"
      ],
      "metadata": {
        "id": "GCJnrWia2dVy"
      }
    },
    {
      "cell_type": "code",
      "metadata": {
        "id": "0cSvCzSTr_HM"
      },
      "source": [
        "import pandas as pd\n",
        "from scipy.stats import chi2_contingency\n",
        "\n",
        "crs_table = pd.DataFrame([[10, 40, 50], [30, 60, 10]], \n",
        "                         index=['M', 'F'], \n",
        "                columns=['model_A', 'model_B', 'model_C'])\n",
        "print(crs_table)"
      ],
      "execution_count": null,
      "outputs": []
    },
    {
      "cell_type": "markdown",
      "source": [
        "####2-2.카이제곱 독립성 검정\n",
        "- 귀무가설 : 당뇨와 비만 사이에 관계는 독립이다.\n",
        "-대립가설 : 당뇨와 비만 사이에 관계는 독립이 아니다."
      ],
      "metadata": {
        "id": "_7ocSatdo6Fa"
      }
    },
    {
      "cell_type": "code",
      "metadata": {
        "id": "xFdtbLsfAzIm"
      },
      "source": [
        "# [1] 데이터 가져오기\n",
        "import pandas as pd\n",
        "from scipy.stats import chi2_contingency\n",
        "data = pd.read_csv(\"data_02/data_chi.csv\")\n",
        "print(data)"
      ],
      "execution_count": null,
      "outputs": []
    },
    {
      "cell_type": "code",
      "metadata": {
        "id": "PkuYPjfhAzIo"
      },
      "source": [
        "# [2] 카이제곱 분석을 위한 분할표 만들기\n"
      ],
      "execution_count": null,
      "outputs": []
    },
    {
      "cell_type": "code",
      "metadata": {
        "id": "aaF4JuDgAzIq"
      },
      "source": [
        "# [3] 카이스퀘어 분석\n"
      ],
      "execution_count": null,
      "outputs": []
    },
    {
      "cell_type": "code",
      "metadata": {
        "id": "K1zoZrmeAzIr"
      },
      "source": [
        "# [4] 결론\n"
      ],
      "execution_count": null,
      "outputs": []
    },
    {
      "cell_type": "markdown",
      "metadata": {
        "id": "c1OAl4TEAzIr"
      },
      "source": [
        "#### 2-3.피셔의 정확검정\n",
        "- 만약 사건 발생 수, 빈도 수가 극히 적거나(특히 5개 이하의 빈도가 전체 셀 중 20%이상 존재하는 경우) 서로의 빈도 수의 차이가 많이나는 경우에는 카이제곱 검정의 정확도는 낮아집니다. \n",
        "- 이때 필요한 검정이 바로 '피셔의 정확검정'입니다."
      ]
    },
    {
      "cell_type": "markdown",
      "source": [
        "가설설정\n",
        "- 귀무가설 : 약과 효과의 관계는 독립이다. \n",
        "- 대립가설 : 약과 효과의 관계가 독립이 아니다."
      ],
      "metadata": {
        "id": "CYYcCASq47Qq"
      }
    },
    {
      "cell_type": "code",
      "metadata": {
        "id": "co0B6Sp7AzIs"
      },
      "source": [
        "import pandas as pd\n",
        "from scipy.stats import fisher_exact\n",
        "\n",
        "# [1] 분할표 생성\n",
        "data = pd.DataFrame([[1, 6], [5, 2]])\n",
        "data.columns = ['가짜 약','진짜 약']\n",
        "data.index = ['효과있음', '효과없음']\n",
        "print(data)"
      ],
      "execution_count": null,
      "outputs": []
    },
    {
      "cell_type": "code",
      "metadata": {
        "id": "XgrrakEyAzIt"
      },
      "source": [
        "# [2] 피셔 검정\n"
      ],
      "execution_count": null,
      "outputs": []
    },
    {
      "cell_type": "code",
      "source": [
        "help(fisher_exact)"
      ],
      "metadata": {
        "id": "_rd9IFPvRJl1"
      },
      "execution_count": null,
      "outputs": []
    },
    {
      "cell_type": "code",
      "metadata": {
        "id": "540ZpO-2AzIt"
      },
      "source": [
        "# [3] 결과\n"
      ],
      "execution_count": null,
      "outputs": []
    },
    {
      "cell_type": "markdown",
      "metadata": {
        "id": "v9WM-wsiAzIu"
      },
      "source": [
        "####2-4.아내와 남편의 집안일\n",
        "- 귀무가설 : 집안일의 종류와 수행하는 사람의 관계는 독립이다.\n",
        "- 대립가설 : 집안일의 종류와 수행하는 사람의 관계가 독립이 아니다."
      ]
    },
    {
      "cell_type": "code",
      "metadata": {
        "scrolled": true,
        "colab": {
          "base_uri": "https://localhost:8080/"
        },
        "id": "aUjCofq6vbzX",
        "outputId": "3dccdaed-3e42-450e-c87b-ee48d298b306"
      },
      "source": [
        "# [1] crosstable 형태의 데이터 읽기\n",
        "import pandas as pd\n",
        "\n",
        "data = pd.read_csv('housetasks.csv', index_col=0)\n",
        "print(data.shape)\n",
        "print(data.info())"
      ],
      "execution_count": null,
      "outputs": [
        {
          "output_type": "stream",
          "name": "stdout",
          "text": [
            "(13, 4)\n",
            "<class 'pandas.core.frame.DataFrame'>\n",
            "Index: 13 entries, Laundry to Holidays\n",
            "Data columns (total 4 columns):\n",
            " #   Column       Non-Null Count  Dtype\n",
            "---  ------       --------------  -----\n",
            " 0   Wife         13 non-null     int64\n",
            " 1   Alternating  13 non-null     int64\n",
            " 2   Husband      13 non-null     int64\n",
            " 3   Jointly      13 non-null     int64\n",
            "dtypes: int64(4)\n",
            "memory usage: 520.0+ bytes\n",
            "None\n"
          ]
        }
      ]
    },
    {
      "cell_type": "code",
      "metadata": {
        "id": "TUkflhpsvbzX"
      },
      "source": [
        "# [2] 카이제곱 독립성 검정\n",
        "from scipy.stats import chi2_contingency\n",
        "\n"
      ],
      "execution_count": null,
      "outputs": []
    },
    {
      "cell_type": "code",
      "metadata": {
        "id": "JEUuPpmGvbzX"
      },
      "source": [
        "# [3] 결과\n"
      ],
      "execution_count": null,
      "outputs": []
    },
    {
      "cell_type": "markdown",
      "source": [
        "####2-5.분류 모델에서 활용\n",
        "- 2개 범주형 변수의 관계에 대해 검정한다"
      ],
      "metadata": {
        "id": "BPdRVNRiNorp"
      }
    },
    {
      "cell_type": "code",
      "source": [
        "# [1] 파일 불러오기\n",
        "import pandas as pd\n",
        "data = pd.read_csv('https://raw.githubusercontent.com/Soyoung-Yoon/bigdata/main/1st_Train.csv')\n",
        "X = data.drop(columns=['Reached.on.Time_Y.N'])\n",
        "Y = data[['ID', 'Reached.on.Time_Y.N']]"
      ],
      "metadata": {
        "id": "bDz_WRXS87QI"
      },
      "execution_count": null,
      "outputs": []
    },
    {
      "cell_type": "code",
      "source": [
        "#[2] X,Y가 분리되어 있는 경우 병합하기\n",
        "\n",
        "\n",
        "#[3] 컬럼별 값의 가짓수 확인하기\n"
      ],
      "metadata": {
        "id": "6-Ld0VziPKIG"
      },
      "execution_count": null,
      "outputs": []
    },
    {
      "cell_type": "code",
      "source": [
        "#[4] 범주형 변수 확인하기 \n",
        "# (설명을 보고 확인하는 것이 정확함)\n"
      ],
      "metadata": {
        "id": "gcEfce_LPzYo"
      },
      "execution_count": null,
      "outputs": []
    },
    {
      "cell_type": "markdown",
      "source": [
        "- (독립)범주형 변수 : 'Warehouse_block', 'Mode_of_Shipment', 'Product_importance', 'Gender', 'Customer_rating', 'Customer_care_calls', 'Prior_purchases'\n",
        "- (종속)범주형 변수 : 'Reached.on.Time_Y.N'\n",
        "- 귀무가설 : 'Reached.on.Time_Y.N'과 feature는 독립이다. (연관성이 없다.)\n",
        "- 대립가설 : 'Reached.on.Time_Y.N'과 feature는 독립이 아니다. (연관성이 있다.)\n"
      ],
      "metadata": {
        "id": "m1CLeC-_SFKv"
      }
    },
    {
      "cell_type": "code",
      "source": [
        "# [5] 카이제곱 독립성 검정\n",
        "from scipy.stats import chi2_contingency\n",
        "\n"
      ],
      "metadata": {
        "id": "dOX9QW4KkzoV"
      },
      "execution_count": null,
      "outputs": []
    },
    {
      "cell_type": "code",
      "source": [
        "# [6] 결론\n"
      ],
      "metadata": {
        "id": "s05J6N5STYR4"
      },
      "execution_count": null,
      "outputs": []
    },
    {
      "cell_type": "code",
      "source": [
        "def my_chi2(data, feature, target):\n",
        "    pass\n"
      ],
      "metadata": {
        "id": "GM6GHFFykA2_"
      },
      "execution_count": null,
      "outputs": []
    },
    {
      "cell_type": "markdown",
      "metadata": {
        "id": "3RbZJzgisWPn"
      },
      "source": [
        "### 3.Wilcoxon Signed Rank Test\n",
        "- 일표본/대응표본 T검정에서 정규성 가정이 만족되지 않을 때 사용하는 비모수 검정법\n",
        "- 일표본/대응표본 T검정과는 달리 **중앙값에 관한 결과를 얻을 수 있음**.\n",
        "- 가정\n",
        "  1. 표본은 동일한 모집단에서 추출되어야 한다.\n",
        "  2. 표본은 임의, 독립적으로 추출되어야 한다."
      ]
    },
    {
      "cell_type": "markdown",
      "metadata": {
        "id": "Y_lV-lfmsWPr"
      },
      "source": [
        "#### 3-1.일표본(One Sample)\n",
        "- alternative='two-sided'\n",
        "   - H0: 모집단의 중앙값은 A 이다.\n",
        "   - H1: 모집단의 중앙값은 A가 아니다.\n",
        "- alternative='less'\n",
        "   - H0: 모집단의 중앙값은 A보다 크거나 같다.\n",
        "   - H1: 모집단의 중앙값은 A보다 작다.\n",
        "- alternative='greater'\n",
        "   - H0: 모집단의 중앙값은 A보다 작거나 같다.\n",
        "   - H1: 모집단의 중앙값은 A보다 크다.    "
      ]
    },
    {
      "cell_type": "markdown",
      "source": [
        "중량이 100g 으로 표기된 닭가슴살 제품이 100g이라고 할 수 있는가?\n",
        "- 동일한 회사 제품을 임의로 9개 표본 추출하였음\n",
        "- 통계적 유의수준은 0.05로 사용함\n",
        "- H0: 닭 가슴살 중량의 중앙값은 100g이다\n",
        "- H1: 닭 가슴살 중량의 중앙값은 100g이 아니다"
      ],
      "metadata": {
        "id": "RuCyqbRMw6LI"
      }
    },
    {
      "cell_type": "code",
      "metadata": {
        "colab": {
          "base_uri": "https://localhost:8080/"
        },
        "id": "T8Hsa8MRsWPu",
        "outputId": "a2b6f9c5-e98e-4863-efb6-8e227dfbb59b"
      },
      "source": [
        "# [1] 데이터 가져오기\n",
        "import pandas as pd\n",
        "df = pd.read_csv('data_02/chicken_breast.csv')\n",
        "print(df)"
      ],
      "execution_count": null,
      "outputs": [
        {
          "output_type": "stream",
          "name": "stdout",
          "text": [
            "       weight\n",
            "0  107.704526\n",
            "1   96.505220\n",
            "2  109.417631\n",
            "3  109.696405\n",
            "4   90.783694\n",
            "5  107.871426\n",
            "6  106.447983\n",
            "7  104.484894\n",
            "8   95.778403\n"
          ]
        }
      ]
    },
    {
      "cell_type": "code",
      "metadata": {
        "id": "x53QNwEPsWPw"
      },
      "source": [
        "# [2] 중앙값 구하기\n"
      ],
      "execution_count": null,
      "outputs": []
    },
    {
      "cell_type": "code",
      "metadata": {
        "id": "iwnfln_WsWPw"
      },
      "source": [
        "# [3] 윌콕슨 검정 실행\n",
        "from scipy.stats import wilcoxon\n"
      ],
      "execution_count": null,
      "outputs": []
    },
    {
      "cell_type": "code",
      "metadata": {
        "id": "zrmkmOoFsWPx"
      },
      "source": [
        "# [4] 결과\n"
      ],
      "execution_count": null,
      "outputs": []
    },
    {
      "cell_type": "markdown",
      "source": [
        "alternative='less'\n",
        "- H0: 닭가슴살 중량의 중앙값은 100 보다 크거나 같다.\n",
        "- H1: 닭가슴살 중량의 중앙값은 100 보다 작다."
      ],
      "metadata": {
        "id": "xSY1jrGlVisp"
      }
    },
    {
      "cell_type": "code",
      "metadata": {
        "id": "KIxyHdlAsWPy"
      },
      "source": [
        "from scipy.stats import wilcoxon\n"
      ],
      "execution_count": null,
      "outputs": []
    },
    {
      "cell_type": "markdown",
      "source": [
        "alternative='greater'\n",
        "- H0: 닭가슴살 중량의 중앙값은 100 보다 작거나 같다.\n",
        "- H1: 닭가슴살 중량의 중앙값은 100 보다 크다."
      ],
      "metadata": {
        "id": "jZG_MJCEWAue"
      }
    },
    {
      "cell_type": "code",
      "metadata": {
        "id": "bPFA118LsWPx"
      },
      "source": [
        "from scipy.stats import wilcoxon\n"
      ],
      "execution_count": null,
      "outputs": []
    },
    {
      "cell_type": "markdown",
      "metadata": {
        "id": "nVeut6MEsWPz"
      },
      "source": [
        "#### 3-2.대응표본(Paired)\n",
        "- alternative='two-sided'\n",
        "    - H0: 값 차이(처리후 - 처리전)의 중앙값이 0이다(=값의 차이가 없다)\n",
        "    - H1: 값 차이(처리후 - 처리전)의 중앙값이 0이 아니다(=값의 차이가 있다)\n",
        "- alternative='less'\n",
        "    - H0: 값 차이(처리후 - 처리전)의 중앙값이 0보다 크거나 같다\n",
        "    - H1: 값 차이(처리후 - 처리전)의 중앙값이 0보다 작다\n",
        "- alternative='greater'\n",
        "    - H0: 값 차이(처리후 - 처리전)의 중앙값이 0보다 작거나 같다\n",
        "    - H1: 값 차이(처리후 - 처리전)의 중앙값이 0보다 크다 "
      ]
    },
    {
      "cell_type": "markdown",
      "source": [
        "다이어트 후, 체중이 줄었다고 할 수 있는가? 몸무게 : 비율척도\n",
        "- 동일한 회사 제품을 임의로 8개 표본 추출하였음\n",
        "- 통계적 유의수준은 0.05로 사용함\n"
      ],
      "metadata": {
        "id": "RBYraU93L_hX"
      }
    },
    {
      "cell_type": "markdown",
      "source": [
        "alternative='less'\n",
        "- H0: 다이어트 후 - 다이어트 전 몸무게 중앙값은 0보다 크거나 같다 \n",
        "- H1: 다이어트 후 - 다이어트 전 몸무게 중앙값은 0보다 작다."
      ],
      "metadata": {
        "id": "sRBDBOT9XehC"
      }
    },
    {
      "cell_type": "code",
      "metadata": {
        "id": "iKA8w9zbsWPz",
        "colab": {
          "base_uri": "https://localhost:8080/"
        },
        "outputId": "de94092e-b4a9-42f9-fa67-f47fbf56bff1"
      },
      "source": [
        "# [1] 파일 불러오기\n",
        "import pandas as pd\n",
        "df = pd.read_csv('data_02/diet_result.csv')\n",
        "print(df)"
      ],
      "execution_count": null,
      "outputs": [
        {
          "output_type": "stream",
          "name": "stdout",
          "text": [
            "      before      after\n",
            "0  60.038972  56.153355\n",
            "1  58.566940  55.678046\n",
            "2  62.200320  63.010597\n",
            "3  68.522263  64.413353\n",
            "4  54.802465  52.110032\n",
            "5  55.437637  51.330742\n",
            "6  64.700073  62.047727\n",
            "7  65.030917  61.157653\n"
          ]
        }
      ]
    },
    {
      "cell_type": "code",
      "source": [
        "# scipy.stats.wilcoxon(x, y=None, zero_method='wilcox', correction=False, alternative='two-sided', mode='auto')\n",
        "# The Wilcoxon signed-rank test tests the null hypothesis that two related paired samples come from the same distribution. \n",
        "# In particular, it tests whether the distribution of the differences x - y is symmetric about zero.\n",
        "# It is a non-parametric version of the paired T-test."
      ],
      "metadata": {
        "id": "y6VjXh8rJzML"
      },
      "execution_count": null,
      "outputs": []
    },
    {
      "cell_type": "code",
      "metadata": {
        "id": "eTPRCvvmsWP0"
      },
      "source": [
        "# [2] wilcoxon sign rank sum - (paired t-test의 비모수)\n",
        "from scipy.stats import wilcoxon\n"
      ],
      "execution_count": null,
      "outputs": []
    },
    {
      "cell_type": "code",
      "metadata": {
        "id": "xYr_yQ0csWP0"
      },
      "source": [
        "# [3] 결과\n"
      ],
      "execution_count": null,
      "outputs": []
    },
    {
      "cell_type": "markdown",
      "source": [
        "alternative='two-sided'\n",
        "- H0: 다이어트 후 - 다이어트 전 몸무게 중앙값은 0과 같다 \n",
        "- H1: 다이어트 후 - 다이어트 전 몸무게 중앙값은 0과 다르다"
      ],
      "metadata": {
        "id": "M2jZy4s_aiQ-"
      }
    },
    {
      "cell_type": "code",
      "source": [
        "from scipy.stats import wilcoxon\n"
      ],
      "metadata": {
        "id": "ZAj8pg94ao7i"
      },
      "execution_count": null,
      "outputs": []
    },
    {
      "cell_type": "markdown",
      "source": [
        "alternative='greater'\n",
        "- H0: 다이어트 후 - 다이어트 전 몸무게 중앙값은 0보다 작거나 같다 \n",
        "- H1: 다이어트 후 - 다이어트 전 몸무게 중앙값은 0보다 크다"
      ],
      "metadata": {
        "id": "asqAuDPla26U"
      }
    },
    {
      "cell_type": "code",
      "source": [
        "from scipy.stats import wilcoxon\n"
      ],
      "metadata": {
        "id": "LVprTAbKa1k9"
      },
      "execution_count": null,
      "outputs": []
    },
    {
      "cell_type": "markdown",
      "metadata": {
        "id": "avKGqqA-sWP0"
      },
      "source": [
        "###4.독립 2표본(Two Sample)\n",
        "- 독립 2표본 T검정에서 정규성 가정이 만족되지 않을 때 사용하는 비모수 검정법\n",
        "- **두 표본의 중위수를 비교**하는데 쓰임\n",
        "- 가정\n",
        "   1. 두 그룹은 독립적이다\n",
        "   2. 측정값은 최소 순서형 변수이다(대소 비교가 가능해야 함)\n",
        "\n",
        "   "
      ]
    },
    {
      "cell_type": "markdown",
      "source": [
        "- alternative='two-sided'\n",
        "    - H0: gA의 중앙값과 gB의 중앙값이 같다(차이가 없다)\n",
        "    - H1: gA의 중앙값과 gB의 중앙값이 다르다(차이가 있다)\n",
        "- alternative='less'\n",
        "    - H0: gA의 중앙값이 gB의 중앙값보다 크거나 같다\n",
        "    - H1: gA의 중앙값이 gB의 중앙값보다 작다\n",
        "- alternative='greater'\n",
        "    - H0: gA의 중앙값이 gB의 중앙값보다 작거나 같다\n",
        "    - H1: gA의 중앙값이 gB의 중앙값보다 크다"
      ],
      "metadata": {
        "id": "FdKSUU-LoGk8"
      }
    },
    {
      "cell_type": "markdown",
      "source": [
        "#### 4-1.Wilcoxon Rank Sum Test"
      ],
      "metadata": {
        "id": "1ntotjlgeWCv"
      }
    },
    {
      "cell_type": "markdown",
      "source": [
        "A사 닭가슴살 제품의 중량과 B사 닭가슴살 제품의 중량이 차이가 있는지 확인\n",
        "- A사 닭가슴살은 40개의 표본, B사 닭가슴살은 20개의 표본이 있으며\n",
        "- 각각 독립적이고 임의로 추출했다\n",
        "- 통계적 유의수준은 0.05 사용\n"
      ],
      "metadata": {
        "id": "3m3_AQNEdzV6"
      }
    },
    {
      "cell_type": "markdown",
      "source": [
        "alternative='two-sided'\n",
        "- H0: A사 닭가슴살 중량과 B사 닭가슴살 중량의 차이가 없다\n",
        "- H1: A사 닭가슴살 중량과 B사 닭가슴살 중량의 차이가 있다"
      ],
      "metadata": {
        "id": "-Vwa_FQ5eI0C"
      }
    },
    {
      "cell_type": "code",
      "metadata": {
        "id": "ur8JubqzsWP1"
      },
      "source": [
        "# [1] 파일 불러오기\n",
        "import pandas as pd\n",
        "df = pd.read_csv('data_02/chicken_weight_AB.csv')\n",
        "df"
      ],
      "execution_count": null,
      "outputs": []
    },
    {
      "cell_type": "code",
      "metadata": {
        "id": "bxa_tBVHsWP1"
      },
      "source": [
        "# [2] 그룹 나누기\n"
      ],
      "execution_count": null,
      "outputs": []
    },
    {
      "cell_type": "markdown",
      "metadata": {
        "id": "ekpq5xQVsWP2"
      },
      "source": [
        "scipy.stats.ranksums(x, y, alternative='two-sided')\n",
        "- Compute the Wilcoxon rank-sum statistic for two samples.\n",
        "- The Wilcoxon rank-sum test tests the null hypothesis that two sets of measurements are drawn from the same distribution. \n",
        "- The alternative hypothesis is that values in one sample are more likely to be larger than the values in the other sample.\n",
        "\n",
        "- This test should be used to compare two samples from continuous distributions. \n",
        "- It does not handle ties between measurements in x and y. For tie-handling and an optional continuity correction see scipy.stats.mannwhitneyu."
      ]
    },
    {
      "cell_type": "code",
      "metadata": {
        "id": "ivWM3O-UsWP3"
      },
      "source": [
        "# [3] wilcoxon rank sum test (two sample)\n",
        "from scipy.stats import ranksums\n"
      ],
      "execution_count": null,
      "outputs": []
    },
    {
      "cell_type": "code",
      "metadata": {
        "id": "OCGB-udUsWP3"
      },
      "source": [
        "# [4] 결과\n"
      ],
      "execution_count": null,
      "outputs": []
    },
    {
      "cell_type": "markdown",
      "source": [
        "alternative='less'\n",
        "- H0: A사 닭가슴살 중량이 B사 닭가슴살 중량보다 크거나 같다\n",
        "- H1: A사 닭가슴살 중량이 B사 닭가슴살 중량보다 작다"
      ],
      "metadata": {
        "id": "ndUdlcB5ovW9"
      }
    },
    {
      "cell_type": "code",
      "source": [
        "# wilcoxon rank sum test (two sample)\n"
      ],
      "metadata": {
        "id": "_790RW13ps_9"
      },
      "execution_count": null,
      "outputs": []
    },
    {
      "cell_type": "markdown",
      "source": [
        "alternative='greater'\n",
        "- H0: A사 닭가슴살 중량이 B사 닭가슴살 중량보다 작거나 같다\n",
        "- H1: A사 닭가슴살 중량이 B사 닭가슴살 중량보다 크다"
      ],
      "metadata": {
        "id": "3VeqYEnfqGsW"
      }
    },
    {
      "cell_type": "code",
      "source": [
        "# wilcoxon rank sum test (two sample)\n",
        "from scipy.stats import ranksums\n"
      ],
      "metadata": {
        "id": "IBrwFLpVqMhF"
      },
      "execution_count": null,
      "outputs": []
    },
    {
      "cell_type": "markdown",
      "source": [
        "#### 4-2.Mann-Whitney U test"
      ],
      "metadata": {
        "id": "YNSWc5YGlCVl"
      }
    },
    {
      "cell_type": "markdown",
      "metadata": {
        "id": "eZls1pBOsWP3"
      },
      "source": [
        "scipy.stats.mannwhitneyu(x, y, use_continuity=True, alternative='two-sided', axis=0, method='auto')\n",
        "- Perform the Mann-Whitney U rank test on two independent samples.\n",
        "- The Mann-Whitney U test is a nonparametric test of the null hypothesis that the distribution underlying sample x is the same as the distribution underlying sample y. \n"
      ]
    },
    {
      "cell_type": "markdown",
      "source": [
        "alternative='two-sided'\n",
        "- H0: A사 닭가슴살 중량과 B사 닭가슴살 중량의 차이가 없다\n",
        "- H1: A사 닭가슴살 중량과 B사 닭가슴살 중량의 차이가 있다"
      ],
      "metadata": {
        "id": "cxi9eMCnc9Yp"
      }
    },
    {
      "cell_type": "code",
      "source": [
        "# [1] Mann-Whitney U test (two sample)\n",
        "from scipy.stats import mannwhitneyu\n"
      ],
      "metadata": {
        "id": "LrYQy8hSkmB7"
      },
      "execution_count": null,
      "outputs": []
    },
    {
      "cell_type": "code",
      "source": [
        "# [2] 결과\n"
      ],
      "metadata": {
        "id": "snTOAfHKkm-N"
      },
      "execution_count": null,
      "outputs": []
    },
    {
      "cell_type": "markdown",
      "source": [
        "alternative='less'\n",
        "- H0: A사 닭가슴살 중량이 B사 닭가슴살 중량보다 크거나 같다\n",
        "- H1: A사 닭가슴살 중량이 B사 닭가슴살 중량보다 작다"
      ],
      "metadata": {
        "id": "QMN9fqKvkqkI"
      }
    },
    {
      "cell_type": "code",
      "source": [],
      "metadata": {
        "id": "ZlJG14OPkrfA"
      },
      "execution_count": null,
      "outputs": []
    },
    {
      "cell_type": "markdown",
      "source": [
        "alternative='greater'\n",
        "- H0: A사 닭가슴살 중량이 B사 닭가슴살 중량보다 작거나 같다\n",
        "- H1: A사 닭가슴살 중량이 B사 닭가슴살 중량보다 크다"
      ],
      "metadata": {
        "id": "DlLISFlCkuJw"
      }
    },
    {
      "cell_type": "code",
      "source": [],
      "metadata": {
        "id": "P9nnJkNTku_4"
      },
      "execution_count": null,
      "outputs": []
    },
    {
      "cell_type": "markdown",
      "metadata": {
        "id": "T8UKpoResWP5"
      },
      "source": [
        "### 5.Kruskal-Wallis H-test\n",
        "- 분산 분석(ANOVA)에서 정규성 가정이 만족되지 않을 때 사용하는 비모수 검정법\n",
        "- ANOVA와는 달리 중앙값에 관한 결과를 얻을 수 있음\n",
        "- 가정\n",
        "  1. 표본은 독립적이다.\n",
        "  2. 측정값은 최소 순서형 변수이다. (대소 비교가 가능해야 합니다.)\n",
        "- 가설\n",
        "  - H0: 모든 그룹의 중앙값은 서로 같다\n",
        "  - H1: 모든 그룹의 중앙값이 전부 같은 것은 아니다"
      ]
    },
    {
      "cell_type": "markdown",
      "metadata": {
        "id": "H3iixAzusWP5"
      },
      "source": [
        "scipy.stats.kruskal(*args, nan_policy='propagate')[source]\n",
        "- The Kruskal-Wallis H-test tests the null hypothesis that the population median of all of the groups are equal. \n",
        "- It is a non-parametric version of ANOVA. The test works on 2 or more independent samples, which may have different sizes. \n",
        "- Note that rejecting the null hypothesis does not indicate which of the groups differs. \n",
        "- Post hoc comparisons between groups are required to determine which groups are different."
      ]
    },
    {
      "cell_type": "markdown",
      "source": [
        "####5-1.K개 Sample\n",
        "- A, B, C 고등학교 학생들의 하루 공부 시간을 조사했을 때,고등학교 간에 공부 시간이 차이가 있는지 확인\n",
        "- 통계적 유의수준은 0.05\n"
      ],
      "metadata": {
        "id": "GrJjSMVvqwUv"
      }
    },
    {
      "cell_type": "markdown",
      "source": [
        "- H0: A,B,C 고등학교 학생들의 하루 공부시간에 차이가 없다\n",
        "- H1: A,B,C 고등학교 학생들의 하루 공부시간에 차이가 있다"
      ],
      "metadata": {
        "id": "Oa1vYvOsrC3S"
      }
    },
    {
      "cell_type": "code",
      "metadata": {
        "id": "qGFPt-x_sWP5",
        "colab": {
          "base_uri": "https://localhost:8080/",
          "height": 112
        },
        "outputId": "d8046da9-e917-40e8-f1fd-fcb38074d128"
      },
      "source": [
        "# [1] 파일 불러오기\n",
        "import pandas as pd\n",
        "df = pd.read_csv('data_02/high_school.csv')\n",
        "df.head(2)"
      ],
      "execution_count": null,
      "outputs": [
        {
          "output_type": "execute_result",
          "data": {
            "text/plain": [
              "  group       time\n",
              "0     A  12.525909\n",
              "1     A   9.347533"
            ],
            "text/html": [
              "\n",
              "  <div id=\"df-46e74652-dd77-43c4-a9a1-5f9312de2e8d\">\n",
              "    <div class=\"colab-df-container\">\n",
              "      <div>\n",
              "<style scoped>\n",
              "    .dataframe tbody tr th:only-of-type {\n",
              "        vertical-align: middle;\n",
              "    }\n",
              "\n",
              "    .dataframe tbody tr th {\n",
              "        vertical-align: top;\n",
              "    }\n",
              "\n",
              "    .dataframe thead th {\n",
              "        text-align: right;\n",
              "    }\n",
              "</style>\n",
              "<table border=\"1\" class=\"dataframe\">\n",
              "  <thead>\n",
              "    <tr style=\"text-align: right;\">\n",
              "      <th></th>\n",
              "      <th>group</th>\n",
              "      <th>time</th>\n",
              "    </tr>\n",
              "  </thead>\n",
              "  <tbody>\n",
              "    <tr>\n",
              "      <th>0</th>\n",
              "      <td>A</td>\n",
              "      <td>12.525909</td>\n",
              "    </tr>\n",
              "    <tr>\n",
              "      <th>1</th>\n",
              "      <td>A</td>\n",
              "      <td>9.347533</td>\n",
              "    </tr>\n",
              "  </tbody>\n",
              "</table>\n",
              "</div>\n",
              "      <button class=\"colab-df-convert\" onclick=\"convertToInteractive('df-46e74652-dd77-43c4-a9a1-5f9312de2e8d')\"\n",
              "              title=\"Convert this dataframe to an interactive table.\"\n",
              "              style=\"display:none;\">\n",
              "        \n",
              "  <svg xmlns=\"http://www.w3.org/2000/svg\" height=\"24px\"viewBox=\"0 0 24 24\"\n",
              "       width=\"24px\">\n",
              "    <path d=\"M0 0h24v24H0V0z\" fill=\"none\"/>\n",
              "    <path d=\"M18.56 5.44l.94 2.06.94-2.06 2.06-.94-2.06-.94-.94-2.06-.94 2.06-2.06.94zm-11 1L8.5 8.5l.94-2.06 2.06-.94-2.06-.94L8.5 2.5l-.94 2.06-2.06.94zm10 10l.94 2.06.94-2.06 2.06-.94-2.06-.94-.94-2.06-.94 2.06-2.06.94z\"/><path d=\"M17.41 7.96l-1.37-1.37c-.4-.4-.92-.59-1.43-.59-.52 0-1.04.2-1.43.59L10.3 9.45l-7.72 7.72c-.78.78-.78 2.05 0 2.83L4 21.41c.39.39.9.59 1.41.59.51 0 1.02-.2 1.41-.59l7.78-7.78 2.81-2.81c.8-.78.8-2.07 0-2.86zM5.41 20L4 18.59l7.72-7.72 1.47 1.35L5.41 20z\"/>\n",
              "  </svg>\n",
              "      </button>\n",
              "      \n",
              "  <style>\n",
              "    .colab-df-container {\n",
              "      display:flex;\n",
              "      flex-wrap:wrap;\n",
              "      gap: 12px;\n",
              "    }\n",
              "\n",
              "    .colab-df-convert {\n",
              "      background-color: #E8F0FE;\n",
              "      border: none;\n",
              "      border-radius: 50%;\n",
              "      cursor: pointer;\n",
              "      display: none;\n",
              "      fill: #1967D2;\n",
              "      height: 32px;\n",
              "      padding: 0 0 0 0;\n",
              "      width: 32px;\n",
              "    }\n",
              "\n",
              "    .colab-df-convert:hover {\n",
              "      background-color: #E2EBFA;\n",
              "      box-shadow: 0px 1px 2px rgba(60, 64, 67, 0.3), 0px 1px 3px 1px rgba(60, 64, 67, 0.15);\n",
              "      fill: #174EA6;\n",
              "    }\n",
              "\n",
              "    [theme=dark] .colab-df-convert {\n",
              "      background-color: #3B4455;\n",
              "      fill: #D2E3FC;\n",
              "    }\n",
              "\n",
              "    [theme=dark] .colab-df-convert:hover {\n",
              "      background-color: #434B5C;\n",
              "      box-shadow: 0px 1px 3px 1px rgba(0, 0, 0, 0.15);\n",
              "      filter: drop-shadow(0px 1px 2px rgba(0, 0, 0, 0.3));\n",
              "      fill: #FFFFFF;\n",
              "    }\n",
              "  </style>\n",
              "\n",
              "      <script>\n",
              "        const buttonEl =\n",
              "          document.querySelector('#df-46e74652-dd77-43c4-a9a1-5f9312de2e8d button.colab-df-convert');\n",
              "        buttonEl.style.display =\n",
              "          google.colab.kernel.accessAllowed ? 'block' : 'none';\n",
              "\n",
              "        async function convertToInteractive(key) {\n",
              "          const element = document.querySelector('#df-46e74652-dd77-43c4-a9a1-5f9312de2e8d');\n",
              "          const dataTable =\n",
              "            await google.colab.kernel.invokeFunction('convertToInteractive',\n",
              "                                                     [key], {});\n",
              "          if (!dataTable) return;\n",
              "\n",
              "          const docLinkHtml = 'Like what you see? Visit the ' +\n",
              "            '<a target=\"_blank\" href=https://colab.research.google.com/notebooks/data_table.ipynb>data table notebook</a>'\n",
              "            + ' to learn more about interactive tables.';\n",
              "          element.innerHTML = '';\n",
              "          dataTable['output_type'] = 'display_data';\n",
              "          await google.colab.output.renderOutput(dataTable, element);\n",
              "          const docLink = document.createElement('div');\n",
              "          docLink.innerHTML = docLinkHtml;\n",
              "          element.appendChild(docLink);\n",
              "        }\n",
              "      </script>\n",
              "    </div>\n",
              "  </div>\n",
              "  "
            ]
          },
          "metadata": {},
          "execution_count": 61
        }
      ]
    },
    {
      "cell_type": "code",
      "metadata": {
        "id": "LNqDVBFqsWP6"
      },
      "source": [
        "# [2] 그룹 나누기\n"
      ],
      "execution_count": null,
      "outputs": []
    },
    {
      "cell_type": "code",
      "metadata": {
        "id": "SghdhhrZsWP6"
      },
      "source": [
        "# [3] Kruskal-Wallis Test\n",
        "from scipy.stats import kruskal\n"
      ],
      "execution_count": null,
      "outputs": []
    },
    {
      "cell_type": "code",
      "metadata": {
        "id": "SSWshAlqsWP6"
      },
      "source": [
        "# [4] 결과\n"
      ],
      "execution_count": null,
      "outputs": []
    },
    {
      "cell_type": "code",
      "source": [
        "# [5] ANOVA Test\n"
      ],
      "metadata": {
        "id": "LYVuNZNvnVpp"
      },
      "execution_count": null,
      "outputs": []
    },
    {
      "cell_type": "code",
      "source": [
        "# 등분산성 검정은??  (강의 내용에 없지만 확인!)\n",
        "from scipy.stats import bartlett\n",
        "bartlett(gA, gB, gC)"
      ],
      "metadata": {
        "id": "MfFLMg3hGFml"
      },
      "execution_count": null,
      "outputs": []
    },
    {
      "cell_type": "markdown",
      "source": [
        "#### 5-2.분류 모델에서 활용\n",
        "- 1개 연속형 변수, 1개 범주형 변수 (4개 범주)\n",
        "- 범주별로 연속형 변수의 평균 차이가 있는지 검정한다"
      ],
      "metadata": {
        "id": "0PhN_27IIhVX"
      }
    },
    {
      "cell_type": "code",
      "source": [
        "# [1] 데이터 읽어오기 (4회기출)\n",
        "import pandas as pd\n",
        "\n",
        "data = pd.read_csv('https://raw.githubusercontent.com/Soyoung-Yoon/bigdata/main/train_04.csv')\n",
        "data.head(2)"
      ],
      "metadata": {
        "colab": {
          "base_uri": "https://localhost:8080/",
          "height": 112
        },
        "id": "miK2v9ctInPH",
        "outputId": "75e1b985-7817-4a03-97be-2d09a9ff5c26"
      },
      "execution_count": null,
      "outputs": [
        {
          "output_type": "execute_result",
          "data": {
            "text/plain": [
              "       ID  Gender Ever_Married  Age Graduated  Profession  Work_Experience  \\\n",
              "0  462809    Male           No   22        No  Healthcare              1.0   \n",
              "1  466315  Female          Yes   67       Yes    Engineer              1.0   \n",
              "\n",
              "  Spending_Score  Family_Size  Var_1  Segmentation  \n",
              "0            Low          4.0  Cat_4             4  \n",
              "1            Low          1.0  Cat_6             2  "
            ],
            "text/html": [
              "\n",
              "  <div id=\"df-28635fb0-096b-4a4d-82c8-a671b58532ac\">\n",
              "    <div class=\"colab-df-container\">\n",
              "      <div>\n",
              "<style scoped>\n",
              "    .dataframe tbody tr th:only-of-type {\n",
              "        vertical-align: middle;\n",
              "    }\n",
              "\n",
              "    .dataframe tbody tr th {\n",
              "        vertical-align: top;\n",
              "    }\n",
              "\n",
              "    .dataframe thead th {\n",
              "        text-align: right;\n",
              "    }\n",
              "</style>\n",
              "<table border=\"1\" class=\"dataframe\">\n",
              "  <thead>\n",
              "    <tr style=\"text-align: right;\">\n",
              "      <th></th>\n",
              "      <th>ID</th>\n",
              "      <th>Gender</th>\n",
              "      <th>Ever_Married</th>\n",
              "      <th>Age</th>\n",
              "      <th>Graduated</th>\n",
              "      <th>Profession</th>\n",
              "      <th>Work_Experience</th>\n",
              "      <th>Spending_Score</th>\n",
              "      <th>Family_Size</th>\n",
              "      <th>Var_1</th>\n",
              "      <th>Segmentation</th>\n",
              "    </tr>\n",
              "  </thead>\n",
              "  <tbody>\n",
              "    <tr>\n",
              "      <th>0</th>\n",
              "      <td>462809</td>\n",
              "      <td>Male</td>\n",
              "      <td>No</td>\n",
              "      <td>22</td>\n",
              "      <td>No</td>\n",
              "      <td>Healthcare</td>\n",
              "      <td>1.0</td>\n",
              "      <td>Low</td>\n",
              "      <td>4.0</td>\n",
              "      <td>Cat_4</td>\n",
              "      <td>4</td>\n",
              "    </tr>\n",
              "    <tr>\n",
              "      <th>1</th>\n",
              "      <td>466315</td>\n",
              "      <td>Female</td>\n",
              "      <td>Yes</td>\n",
              "      <td>67</td>\n",
              "      <td>Yes</td>\n",
              "      <td>Engineer</td>\n",
              "      <td>1.0</td>\n",
              "      <td>Low</td>\n",
              "      <td>1.0</td>\n",
              "      <td>Cat_6</td>\n",
              "      <td>2</td>\n",
              "    </tr>\n",
              "  </tbody>\n",
              "</table>\n",
              "</div>\n",
              "      <button class=\"colab-df-convert\" onclick=\"convertToInteractive('df-28635fb0-096b-4a4d-82c8-a671b58532ac')\"\n",
              "              title=\"Convert this dataframe to an interactive table.\"\n",
              "              style=\"display:none;\">\n",
              "        \n",
              "  <svg xmlns=\"http://www.w3.org/2000/svg\" height=\"24px\"viewBox=\"0 0 24 24\"\n",
              "       width=\"24px\">\n",
              "    <path d=\"M0 0h24v24H0V0z\" fill=\"none\"/>\n",
              "    <path d=\"M18.56 5.44l.94 2.06.94-2.06 2.06-.94-2.06-.94-.94-2.06-.94 2.06-2.06.94zm-11 1L8.5 8.5l.94-2.06 2.06-.94-2.06-.94L8.5 2.5l-.94 2.06-2.06.94zm10 10l.94 2.06.94-2.06 2.06-.94-2.06-.94-.94-2.06-.94 2.06-2.06.94z\"/><path d=\"M17.41 7.96l-1.37-1.37c-.4-.4-.92-.59-1.43-.59-.52 0-1.04.2-1.43.59L10.3 9.45l-7.72 7.72c-.78.78-.78 2.05 0 2.83L4 21.41c.39.39.9.59 1.41.59.51 0 1.02-.2 1.41-.59l7.78-7.78 2.81-2.81c.8-.78.8-2.07 0-2.86zM5.41 20L4 18.59l7.72-7.72 1.47 1.35L5.41 20z\"/>\n",
              "  </svg>\n",
              "      </button>\n",
              "      \n",
              "  <style>\n",
              "    .colab-df-container {\n",
              "      display:flex;\n",
              "      flex-wrap:wrap;\n",
              "      gap: 12px;\n",
              "    }\n",
              "\n",
              "    .colab-df-convert {\n",
              "      background-color: #E8F0FE;\n",
              "      border: none;\n",
              "      border-radius: 50%;\n",
              "      cursor: pointer;\n",
              "      display: none;\n",
              "      fill: #1967D2;\n",
              "      height: 32px;\n",
              "      padding: 0 0 0 0;\n",
              "      width: 32px;\n",
              "    }\n",
              "\n",
              "    .colab-df-convert:hover {\n",
              "      background-color: #E2EBFA;\n",
              "      box-shadow: 0px 1px 2px rgba(60, 64, 67, 0.3), 0px 1px 3px 1px rgba(60, 64, 67, 0.15);\n",
              "      fill: #174EA6;\n",
              "    }\n",
              "\n",
              "    [theme=dark] .colab-df-convert {\n",
              "      background-color: #3B4455;\n",
              "      fill: #D2E3FC;\n",
              "    }\n",
              "\n",
              "    [theme=dark] .colab-df-convert:hover {\n",
              "      background-color: #434B5C;\n",
              "      box-shadow: 0px 1px 3px 1px rgba(0, 0, 0, 0.15);\n",
              "      filter: drop-shadow(0px 1px 2px rgba(0, 0, 0, 0.3));\n",
              "      fill: #FFFFFF;\n",
              "    }\n",
              "  </style>\n",
              "\n",
              "      <script>\n",
              "        const buttonEl =\n",
              "          document.querySelector('#df-28635fb0-096b-4a4d-82c8-a671b58532ac button.colab-df-convert');\n",
              "        buttonEl.style.display =\n",
              "          google.colab.kernel.accessAllowed ? 'block' : 'none';\n",
              "\n",
              "        async function convertToInteractive(key) {\n",
              "          const element = document.querySelector('#df-28635fb0-096b-4a4d-82c8-a671b58532ac');\n",
              "          const dataTable =\n",
              "            await google.colab.kernel.invokeFunction('convertToInteractive',\n",
              "                                                     [key], {});\n",
              "          if (!dataTable) return;\n",
              "\n",
              "          const docLinkHtml = 'Like what you see? Visit the ' +\n",
              "            '<a target=\"_blank\" href=https://colab.research.google.com/notebooks/data_table.ipynb>data table notebook</a>'\n",
              "            + ' to learn more about interactive tables.';\n",
              "          element.innerHTML = '';\n",
              "          dataTable['output_type'] = 'display_data';\n",
              "          await google.colab.output.renderOutput(dataTable, element);\n",
              "          const docLink = document.createElement('div');\n",
              "          docLink.innerHTML = docLinkHtml;\n",
              "          element.appendChild(docLink);\n",
              "        }\n",
              "      </script>\n",
              "    </div>\n",
              "  </div>\n",
              "  "
            ]
          },
          "metadata": {},
          "execution_count": 70
        }
      ]
    },
    {
      "cell_type": "code",
      "source": [
        "# [2] 그룹 나누기 - 종속변수 Age, 독립변수 Segmentation\n",
        "groups = [x.values for _, x in data.groupby('Segmentation')['Age']]\n",
        "groups"
      ],
      "metadata": {
        "colab": {
          "base_uri": "https://localhost:8080/"
        },
        "id": "E4A_aBoyYoB2",
        "outputId": "72a6c7f5-d6f4-4a57-8176-95ae43d3a27c"
      },
      "execution_count": null,
      "outputs": [
        {
          "output_type": "execute_result",
          "data": {
            "text/plain": [
              "[array([26, 49, 33, ..., 39, 31, 48]),\n",
              " array([67, 67, 58, ..., 41, 27, 37]),\n",
              " array([56, 32, 55, ..., 52, 37, 65]),\n",
              " array([22, 33, 61, ..., 39, 35, 33])]"
            ]
          },
          "metadata": {},
          "execution_count": 71
        }
      ]
    },
    {
      "cell_type": "code",
      "source": [
        "# [3] 정규성 검정\n",
        "from scipy.stats import shapiro\n"
      ],
      "metadata": {
        "id": "FzJpzhl_cIrP"
      },
      "execution_count": null,
      "outputs": []
    },
    {
      "cell_type": "code",
      "source": [
        "# [4] 'Segmentation' 그룹별 'Age'의 중앙값 구하기\n"
      ],
      "metadata": {
        "id": "rxcXZZvAYPMm"
      },
      "execution_count": null,
      "outputs": []
    },
    {
      "cell_type": "code",
      "source": [
        "# [5] 크루스칼-왈리스 검정 수행\n",
        "# 귀무가설 : Segmentation별 Age의 차이가 없다\n",
        "# 대립가설 : Segmentation별 Age의 차이가 있다\n",
        "from scipy.stats import kruskal\n"
      ],
      "metadata": {
        "id": "-vfOuE_HYyoP"
      },
      "execution_count": null,
      "outputs": []
    },
    {
      "cell_type": "code",
      "source": [],
      "metadata": {
        "id": "oIBHJH8SoZff"
      },
      "execution_count": null,
      "outputs": []
    }
  ]
}