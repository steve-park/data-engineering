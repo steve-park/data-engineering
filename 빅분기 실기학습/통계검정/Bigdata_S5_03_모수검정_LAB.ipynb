{
 "cells": [
  {
   "cell_type": "markdown",
   "metadata": {
    "id": "kN_DRunuZKlt"
   },
   "source": [
    "모수 검정"
   ]
  },
  {
   "cell_type": "markdown",
   "metadata": {
    "id": "cdO8QKD0u4Jb"
   },
   "source": [
    "### 0.데이터 다운로드"
   ]
  },
  {
   "cell_type": "code",
   "execution_count": 1,
   "metadata": {
    "id": "nVpvRR95uyJu",
    "tags": []
   },
   "outputs": [
    {
     "name": "stdout",
     "output_type": "stream",
     "text": [
      "'data_02'에 복제합니다...\n",
      "remote: Enumerating objects: 72, done.\u001b[K\n",
      "remote: Counting objects: 100% (25/25), done.\u001b[K\n",
      "remote: Compressing objects: 100% (25/25), done.\u001b[K\n",
      "remote: Total 72 (delta 7), reused 0 (delta 0), pack-reused 47\u001b[K\n",
      "오브젝트를 받는 중: 100% (72/72), 448.82 KiB | 3.62 MiB/s, 완료.\n",
      "델타를 알아내는 중: 100% (18/18), 완료.\n"
     ]
    }
   ],
   "source": [
    "!git clone https://github.com/Soyoung-Yoon/data_02"
   ]
  },
  {
   "cell_type": "code",
   "execution_count": 2,
   "metadata": {
    "id": "Upacl9mEstst",
    "tags": []
   },
   "outputs": [
    {
     "name": "stdout",
     "output_type": "stream",
     "text": [
      "'bigdata'에 복제합니다...\n",
      "remote: Enumerating objects: 53, done.\u001b[K\n",
      "remote: Counting objects: 100% (3/3), done.\u001b[K\n",
      "remote: Compressing objects: 100% (3/3), done.\u001b[K\n",
      "remote: Total 53 (delta 0), reused 0 (delta 0), pack-reused 50\u001b[K\n",
      "오브젝트를 받는 중: 100% (53/53), 14.21 MiB | 2.29 MiB/s, 완료.\n",
      "델타를 알아내는 중: 100% (15/15), 완료.\n"
     ]
    }
   ],
   "source": [
    "!git clone https://github.com/Soyoung-Yoon/bigdata"
   ]
  },
  {
   "cell_type": "code",
   "execution_count": 3,
   "metadata": {
    "colab": {
     "base_uri": "https://localhost:8080/",
     "height": 36
    },
    "id": "jvmFbdE7SMYe",
    "outputId": "4cf9e198-5d98-4ad7-c9a9-f5ee1eed37e1",
    "tags": []
   },
   "outputs": [
    {
     "data": {
      "text/plain": [
       "'1.10.1'"
      ]
     },
     "execution_count": 3,
     "metadata": {},
     "output_type": "execute_result"
    }
   ],
   "source": [
    "import scipy\n",
    "scipy.__version__"
   ]
  },
  {
   "cell_type": "code",
   "execution_count": null,
   "metadata": {
    "id": "p7LvxMqtSO6l"
   },
   "outputs": [],
   "source": [
    "!pip install scipy==1.6.0"
   ]
  },
  {
   "cell_type": "markdown",
   "metadata": {
    "id": "6T2v1_TUMChI"
   },
   "source": [
    "### 1.정규성 검정(Normality Test)\n",
    "- 귀무가설 - 데이터셋이 정규분포를 따른다\n",
    "- 대립가설 - 데이터셋이 정규분포를 따르지 않는다\n",
    "- 유의수준 0.05 인 경우 : p-value > 0.05, 정규성이 보장된다고 할 수 있다\n",
    "- 검정통계량 < 임계값, 정규성이 보장된다고 할 수 있다"
   ]
  },
  {
   "cell_type": "code",
   "execution_count": 4,
   "metadata": {
    "colab": {
     "base_uri": "https://localhost:8080/"
    },
    "id": "GPyFlteNMGU2",
    "outputId": "bd5ccc41-4142-4667-8643-860b18e6d176",
    "tags": []
   },
   "outputs": [
    {
     "name": "stdout",
     "output_type": "stream",
     "text": [
      "<class 'pandas.core.frame.DataFrame'>\n",
      "RangeIndex: 20 entries, 0 to 19\n",
      "Data columns (total 3 columns):\n",
      " #   Column    Non-Null Count  Dtype\n",
      "---  ------    --------------  -----\n",
      " 0   stime20s  20 non-null     int64\n",
      " 1   stime40s  20 non-null     int64\n",
      " 2   ID        20 non-null     int64\n",
      "dtypes: int64(3)\n",
      "memory usage: 608.0 bytes\n"
     ]
    }
   ],
   "source": [
    "import pandas as pd\n",
    "import numpy as np\n",
    "df = pd.read_csv('./data_02/sleepage.csv')\n",
    "df.info()"
   ]
  },
  {
   "cell_type": "code",
   "execution_count": 5,
   "metadata": {
    "id": "qJRAcpFONC5G",
    "tags": []
   },
   "outputs": [],
   "source": [
    "# 그룹을 나누어 저장함\n",
    "g1 = df['stime20s']\n",
    "g2 = df['stime40s']"
   ]
  },
  {
   "cell_type": "code",
   "execution_count": 9,
   "metadata": {
    "id": "FsF__FeLMe-G",
    "tags": []
   },
   "outputs": [
    {
     "name": "stdout",
     "output_type": "stream",
     "text": [
      "Group 1: shapiro test statistis - 0.9239, p-value - 0.1180\n",
      "Group 2: shapiro test statistis - 0.8810, p-value - 0.0184\n"
     ]
    }
   ],
   "source": [
    "# 정규성 검정 - 1 shapiro wilks test \n",
    "from scipy.stats import shapiro\n",
    "\n",
    "g1_s, g1_p = shapiro(g1)\n",
    "g2_s, g2_p = shapiro(g2)\n",
    "\n",
    "print(f'Group 1: shapiro test statistis - {g1_s:.4f}, p-value - {g1_p:.4f}')\n",
    "print(f'Group 2: shapiro test statistis - {g2_s:.4f}, p-value - {g2_p:.4f}')"
   ]
  },
  {
   "cell_type": "code",
   "execution_count": 18,
   "metadata": {
    "id": "9Ken1r_LSwIP",
    "tags": []
   },
   "outputs": [
    {
     "name": "stdout",
     "output_type": "stream",
     "text": [
      "Group 1: shapiro test statistis - 0.9987, p-value - 0.0000\n",
      "Group 2: shapiro test statistis - 1.0000, p-value - 0.0000\n"
     ]
    }
   ],
   "source": [
    "# 정규성 검정 - 2 kstest(kolmogorov-smirnov test)\n",
    "from scipy.stats import kstest\n",
    "# 두 개의 데이터가 같은 분포인지 아닌지 검정\n",
    "# 귀무가설 : 두집단의 분포가 같다\n",
    "# 대립가설 : 두집단의 분포가 다르다\n",
    "\n",
    "g1_s, g1_p = kstest(g1, \"norm\")\n",
    "g2_s, g2_p = kstest(g2, \"norm\")\n",
    "\n",
    "print(f'Group 1: shapiro test statistis - {g1_s:.4f}, p-value - {g1_p:.4f}')\n",
    "print(f'Group 2: shapiro test statistis - {g2_s:.4f}, p-value - {g2_p:.4f}')"
   ]
  },
  {
   "cell_type": "code",
   "execution_count": 21,
   "metadata": {
    "id": "rx_OezyEPmMd",
    "tags": []
   },
   "outputs": [
    {
     "name": "stdout",
     "output_type": "stream",
     "text": [
      "Group 1: shapiro test statistis - 0.9987, p-value - 0.0000\n",
      "Group 2: shapiro test statistis - 1.0000, p-value - 0.0000\n"
     ]
    }
   ],
   "source": [
    "# 정규성 검정 - 2 kstest(kolmogorov-smirnov test)\n",
    "from scipy.stats import kstest, norm\n",
    "# 두 개의 데이터가 같은 분포인지 아닌지 검정\n",
    "# 귀무가설 : 두집단의 분포가 같다\n",
    "# 대립가설 : 두집단의 분포가 다르다\n",
    "\n",
    "g1_s, g1_p = kstest(g1, norm.cdf)\n",
    "g2_s, g2_p = kstest(g2, norm.cdf)\n",
    "\n",
    "print(f'Group 1: shapiro test statistis - {g1_s:.4f}, p-value - {g1_p:.4f}')\n",
    "print(f'Group 2: shapiro test statistis - {g2_s:.4f}, p-value - {g2_p:.4f}')"
   ]
  },
  {
   "cell_type": "code",
   "execution_count": 24,
   "metadata": {
    "id": "a2F8wNyjMf91",
    "tags": []
   },
   "outputs": [
    {
     "name": "stdout",
     "output_type": "stream",
     "text": [
      "Group 1: shapiro test statistis - 1.1732, p-value - 0.5562\n",
      "Group 2: shapiro test statistis - 2.0450, p-value - 0.3597\n"
     ]
    }
   ],
   "source": [
    "# 정규성 검정 - 3 normaltest  (20개 이상의 데이터 필요)  # 20개입니다!\n",
    "from scipy.stats import normaltest\n",
    "\n",
    "g1_s, g1_p = normaltest(g1)\n",
    "g2_s, g2_p = normaltest(g2)\n",
    "\n",
    "print(f'Group 1: shapiro test statistis - {g1_s:.4f}, p-value - {g1_p:.4f}')\n",
    "print(f'Group 2: shapiro test statistis - {g2_s:.4f}, p-value - {g2_p:.4f}')"
   ]
  },
  {
   "cell_type": "code",
   "execution_count": 32,
   "metadata": {
    "id": "U0IFfC0oMf0l",
    "tags": []
   },
   "outputs": [
    {
     "name": "stdout",
     "output_type": "stream",
     "text": [
      "Group 1:  0.5601097602856164 [0.506 0.577 0.692 0.807 0.96 ] [15.  10.   5.   2.5  1. ]\n",
      "Group 2:  0.8918678522034931 [0.506 0.577 0.692 0.807 0.96 ] [15.  10.   5.   2.5  1. ]\n"
     ]
    }
   ],
   "source": [
    "# 정규성 검정 - 4 anderson darling test\n",
    "# 검정통계량 < 임계값, 정규성이 보장된다고 할 수 있다\n",
    "from scipy.stats import anderson\n",
    "\n",
    "r1 = anderson(g1)\n",
    "r2 = anderson(g2, dist='norm')\n",
    "\n",
    "print('Group 1: ', *r1) # Significant Level 10% 이하 수준에서 정규성 만족\n",
    "print('Group 2: ', *r2) # Significant Level 1% 수준에서 정규성 만족 "
   ]
  },
  {
   "cell_type": "markdown",
   "metadata": {
    "id": "PYt8ggPLsgTD"
   },
   "source": [
    "### 2.등분산성 검정\n",
    "- burtlett : 데이터셋의 크기가 서로 다른 2개 이상의 집단 사용 가능\n",
    "- levene, fligner : 정규성을 충족하지 않는 비모수 데이터에 대해서도 사용가능 (중앙을 median으로 설정)"
   ]
  },
  {
   "cell_type": "markdown",
   "metadata": {
    "id": "civoanb81g02"
   },
   "source": [
    "#### 2-1.iris 데이터\n",
    "- 등분산 검정 - 3가지 방법으로 실행 후, pvalue 확인"
   ]
  },
  {
   "cell_type": "code",
   "execution_count": 34,
   "metadata": {
    "colab": {
     "base_uri": "https://localhost:8080/"
    },
    "id": "zdF8tZQK0JU2",
    "outputId": "c8ec5b55-7572-4d3b-b5db-77d017be57b1",
    "tags": []
   },
   "outputs": [
    {
     "data": {
      "text/html": [
       "<div>\n",
       "<style scoped>\n",
       "    .dataframe tbody tr th:only-of-type {\n",
       "        vertical-align: middle;\n",
       "    }\n",
       "\n",
       "    .dataframe tbody tr th {\n",
       "        vertical-align: top;\n",
       "    }\n",
       "\n",
       "    .dataframe thead th {\n",
       "        text-align: right;\n",
       "    }\n",
       "</style>\n",
       "<table border=\"1\" class=\"dataframe\">\n",
       "  <thead>\n",
       "    <tr style=\"text-align: right;\">\n",
       "      <th></th>\n",
       "      <th>sepal_length</th>\n",
       "      <th>sepal_width</th>\n",
       "      <th>petal_length</th>\n",
       "      <th>petal_width</th>\n",
       "      <th>species</th>\n",
       "    </tr>\n",
       "  </thead>\n",
       "  <tbody>\n",
       "    <tr>\n",
       "      <th>0</th>\n",
       "      <td>5.1</td>\n",
       "      <td>3.5</td>\n",
       "      <td>1.4</td>\n",
       "      <td>0.2</td>\n",
       "      <td>setosa</td>\n",
       "    </tr>\n",
       "    <tr>\n",
       "      <th>1</th>\n",
       "      <td>4.9</td>\n",
       "      <td>3.0</td>\n",
       "      <td>1.4</td>\n",
       "      <td>0.2</td>\n",
       "      <td>setosa</td>\n",
       "    </tr>\n",
       "  </tbody>\n",
       "</table>\n",
       "</div>"
      ],
      "text/plain": [
       "   sepal_length  sepal_width  petal_length  petal_width species\n",
       "0           5.1          3.5           1.4          0.2  setosa\n",
       "1           4.9          3.0           1.4          0.2  setosa"
      ]
     },
     "execution_count": 34,
     "metadata": {},
     "output_type": "execute_result"
    }
   ],
   "source": [
    "# 파일 읽어와 내용 확인\n",
    "import seaborn as sns\n",
    "iris = sns.load_dataset('iris')\n",
    "iris.head(2)"
   ]
  },
  {
   "cell_type": "code",
   "execution_count": 121,
   "metadata": {
    "id": "6eEYpKVX--p1",
    "tags": []
   },
   "outputs": [],
   "source": [
    "# [1] target='sepal_length', 품종별 그룹을 나누어 저장함\n",
    "import pandas as pd\n",
    "\n",
    "target_feature = 'petal_width'\n",
    "\n",
    "groups = [ x for x in iris.groupby('species')[target_feature]]\n",
    "groups_x = [x.to_list() for name, x in groups]"
   ]
  },
  {
   "cell_type": "code",
   "execution_count": 122,
   "metadata": {
    "id": "JT8FV88evuK1",
    "tags": []
   },
   "outputs": [
    {
     "name": "stdout",
     "output_type": "stream",
     "text": [
      "setosa     : shapiro-wilk p-value - 0.0000 - 정규성 만족하지 않음\n",
      "versicolor : shapiro-wilk p-value - 0.0273 - 정규성 만족하지 않음\n",
      "virginica  : shapiro-wilk p-value - 0.0870 - 정규성 만족\n",
      "Bartlett-Kellin p-value: 0.0000 - 등분산성 만족하지 않음\n"
     ]
    }
   ],
   "source": [
    "# [2] burtlett 검정\n",
    "from scipy.stats import shapiro, bartlett\n",
    "\n",
    "# 정규성검정\n",
    "for name, x in groups:\n",
    "    pvalue = shapiro(x.tolist())[1]\n",
    "    print(f'{name:10s} : shapiro-wilk p-value - {pvalue:.4f} - {\"정규성 만족\" if pvalue > 0.05 else \"정규성 만족하지 않음\"}')\n",
    "    \n",
    "# 등분산성 검정\n",
    "s, pvalue = bartlett(*groups_x)\n",
    "print(f'Bartlett-Kellin p-value: {pvalue:.4f} - {\"등분산성 만족\" if pvalue > 0.05 else \"등분산성 만족하지 않음\"}')"
   ]
  },
  {
   "cell_type": "code",
   "execution_count": 123,
   "metadata": {
    "id": "boXVp8f6v4L3",
    "tags": []
   },
   "outputs": [
    {
     "name": "stdout",
     "output_type": "stream",
     "text": [
      "Levene p-value: 0.0000 - 등분산성 만족하지 않음\n"
     ]
    }
   ],
   "source": [
    "# [3] levene 의 center는 'mean'으로 지정\n",
    "from scipy.stats import bartlett, levene\n",
    "\n",
    "s, pvalue = levene(*groups_x, center='mean')\n",
    "print(f'Levene p-value: {pvalue:.4f} - {\"등분산성 만족\" if pvalue > 0.05 else \"등분산성 만족하지 않음\"}')"
   ]
  },
  {
   "cell_type": "code",
   "execution_count": 124,
   "metadata": {
    "id": "Ntu2FrU5wKmo",
    "tags": []
   },
   "outputs": [
    {
     "name": "stdout",
     "output_type": "stream",
     "text": [
      "Levene p-value: 0.0000 - 등분산성 만족하지 않음\n"
     ]
    }
   ],
   "source": [
    "# [4] fligner의 center는 'trimmed', proportiontocut=5% 지정\n",
    "from scipy.stats import bartlett, levene, fligner\n",
    "\n",
    "s, pvalue = fligner(*groups_x, center='trimmed', proportiontocut=0.05)\n",
    "print(f'Levene p-value: {pvalue:.4f} - {\"등분산성 만족\" if pvalue > 0.05 else \"등분산성 만족하지 않음\"}')"
   ]
  },
  {
   "cell_type": "markdown",
   "metadata": {
    "id": "C2J_nvyP1DH6"
   },
   "source": [
    "#### 2-2.tips 데이터\n",
    "- 요일별 total_bill 의 등분산성 검정\n",
    "- levene의 median, trimmed 사용"
   ]
  },
  {
   "cell_type": "code",
   "execution_count": 125,
   "metadata": {
    "colab": {
     "base_uri": "https://localhost:8080/",
     "height": 143
    },
    "id": "nNEx4UsI0Zpa",
    "outputId": "baf12d18-fee3-4ce0-c590-b171f4e1ce17",
    "tags": []
   },
   "outputs": [
    {
     "data": {
      "text/html": [
       "<div>\n",
       "<style scoped>\n",
       "    .dataframe tbody tr th:only-of-type {\n",
       "        vertical-align: middle;\n",
       "    }\n",
       "\n",
       "    .dataframe tbody tr th {\n",
       "        vertical-align: top;\n",
       "    }\n",
       "\n",
       "    .dataframe thead th {\n",
       "        text-align: right;\n",
       "    }\n",
       "</style>\n",
       "<table border=\"1\" class=\"dataframe\">\n",
       "  <thead>\n",
       "    <tr style=\"text-align: right;\">\n",
       "      <th></th>\n",
       "      <th>total_bill</th>\n",
       "      <th>tip</th>\n",
       "      <th>sex</th>\n",
       "      <th>smoker</th>\n",
       "      <th>day</th>\n",
       "      <th>time</th>\n",
       "      <th>size</th>\n",
       "    </tr>\n",
       "  </thead>\n",
       "  <tbody>\n",
       "    <tr>\n",
       "      <th>0</th>\n",
       "      <td>16.99</td>\n",
       "      <td>1.01</td>\n",
       "      <td>Female</td>\n",
       "      <td>No</td>\n",
       "      <td>Sun</td>\n",
       "      <td>Dinner</td>\n",
       "      <td>2</td>\n",
       "    </tr>\n",
       "    <tr>\n",
       "      <th>1</th>\n",
       "      <td>10.34</td>\n",
       "      <td>1.66</td>\n",
       "      <td>Male</td>\n",
       "      <td>No</td>\n",
       "      <td>Sun</td>\n",
       "      <td>Dinner</td>\n",
       "      <td>3</td>\n",
       "    </tr>\n",
       "    <tr>\n",
       "      <th>2</th>\n",
       "      <td>21.01</td>\n",
       "      <td>3.50</td>\n",
       "      <td>Male</td>\n",
       "      <td>No</td>\n",
       "      <td>Sun</td>\n",
       "      <td>Dinner</td>\n",
       "      <td>3</td>\n",
       "    </tr>\n",
       "    <tr>\n",
       "      <th>3</th>\n",
       "      <td>23.68</td>\n",
       "      <td>3.31</td>\n",
       "      <td>Male</td>\n",
       "      <td>No</td>\n",
       "      <td>Sun</td>\n",
       "      <td>Dinner</td>\n",
       "      <td>2</td>\n",
       "    </tr>\n",
       "    <tr>\n",
       "      <th>4</th>\n",
       "      <td>24.59</td>\n",
       "      <td>3.61</td>\n",
       "      <td>Female</td>\n",
       "      <td>No</td>\n",
       "      <td>Sun</td>\n",
       "      <td>Dinner</td>\n",
       "      <td>4</td>\n",
       "    </tr>\n",
       "  </tbody>\n",
       "</table>\n",
       "</div>"
      ],
      "text/plain": [
       "   total_bill   tip     sex smoker  day    time  size\n",
       "0       16.99  1.01  Female     No  Sun  Dinner     2\n",
       "1       10.34  1.66    Male     No  Sun  Dinner     3\n",
       "2       21.01  3.50    Male     No  Sun  Dinner     3\n",
       "3       23.68  3.31    Male     No  Sun  Dinner     2\n",
       "4       24.59  3.61  Female     No  Sun  Dinner     4"
      ]
     },
     "execution_count": 125,
     "metadata": {},
     "output_type": "execute_result"
    }
   ],
   "source": [
    "# 파일 읽어와 내용 확인\n",
    "import seaborn as sns\n",
    "tips = sns.load_dataset('tips')\n",
    "tips.head()"
   ]
  },
  {
   "cell_type": "code",
   "execution_count": 142,
   "metadata": {
    "id": "SApLIDyh_t2l",
    "tags": []
   },
   "outputs": [],
   "source": [
    "# [1] target = 'total_bill', 요일별 그룹을 나누어 저장함\n",
    "import pandas as pd\n",
    "\n",
    "target = 'tip'\n",
    "\n",
    "groups = [x for x in tips.groupby('day')[target]]\n",
    "groups_x = [x.to_list() for _, x in groups]"
   ]
  },
  {
   "cell_type": "code",
   "execution_count": 143,
   "metadata": {
    "id": "dgx-O2Gy0YCC",
    "tags": []
   },
   "outputs": [
    {
     "name": "stdout",
     "output_type": "stream",
     "text": [
      "Thur  : shapiro-wilk p-value 0.0000 -> 정규성 불만족\n",
      "Fri   : shapiro-wilk p-value 0.8497 -> 정규성 만족\n",
      "Sat   : shapiro-wilk p-value 0.0000 -> 정규성 불만족\n",
      "Sun   : shapiro-wilk p-value 0.0263 -> 정규성 불만족\n",
      "Bartlett p-value: 0.0117 -> 등분산성 불만족\n",
      "Levene(mean) p-value: 0.6716 -> 등분산성 만족\n",
      "Fligner(trimmed) p-value: 0.9604 -> 등분산성 만족\n"
     ]
    }
   ],
   "source": [
    "# [2] levene 의 center는 'median'으로 지정\n",
    "from scipy.stats import shapiro, kstest, normaltest, anderson\n",
    "from scipy.stats import bartlett, levene, fligner\n",
    "\n",
    "# 정규성 검정\n",
    "for name, x in groups:\n",
    "    pvalue = shapiro(x.to_list())[1]\n",
    "    print(f'{name:5s} : shapiro-wilk p-value {pvalue:,.4f} -> {\"정규성 만족\" if pvalue > 0.05 else \"정규성 불만족\"}')\n",
    "\n",
    "# 등분산성 검정\n",
    "s, pvalue = bartlett(*groups_x)\n",
    "print(f'Bartlett p-value: {pvalue:.4f} -> {\"등분산성 만족\" if pvalue > 0.05 else \"등분산성 불만족\"}')\n",
    "\n",
    "s, pvalue = levene(*groups_x, center='mean')\n",
    "print(f'Levene(mean) p-value: {pvalue:.4f} -> {\"등분산성 만족\" if pvalue > 0.05 else \"등분산성 불만족\"}')\n",
    "\n",
    "s, pvalue = fligner(*groups_x, center='trimmed', proportiontocut=0.05)\n",
    "print(f'Fligner(trimmed) p-value: {pvalue:.4f} -> {\"등분산성 만족\" if pvalue > 0.05 else \"등분산성 불만족\"}')"
   ]
  },
  {
   "cell_type": "code",
   "execution_count": 144,
   "metadata": {
    "id": "fKHrF0vV1zwp",
    "tags": []
   },
   "outputs": [],
   "source": [
    "# [3] fligner의 center는 'trimmed', proportiontocut=5% 지정\n",
    "from scipy.stats import fligner\n"
   ]
  },
  {
   "cell_type": "code",
   "execution_count": null,
   "metadata": {
    "id": "KRDERmJPw3jV"
   },
   "outputs": [],
   "source": []
  },
  {
   "cell_type": "markdown",
   "metadata": {
    "id": "x33pqkcZDhrB"
   },
   "source": [
    "### 3.T 검정(평균 검정)"
   ]
  },
  {
   "cell_type": "markdown",
   "metadata": {
    "id": "16dAULRQHGYV"
   },
   "source": [
    "t-test 이해\n",
    "- 스튜던트 t-테스트(Student's t-test)라고도 하며, 검정 통계량이 귀무가설 하에서 t-분포를 따르는 통계적 가설 검정\n",
    "- 표본을 사용한 모평균 검정 및 두 데이터 세트(집단)의 모평균이 서로 유의하게 다른지 여부를 판별 할 수 있음\n",
    "- 검정통계량이 정규 분포를 따르며 모집단의 분산, 표준편차를 알지 못할 때 표본으로 부터 추정된 분산/표준편차를 사용해 검정함\n",
    "- t-test를 실시하기 위해서는 정규성 및 등분산성의 조건이 만족되어야 함\n"
   ]
  },
  {
   "cell_type": "markdown",
   "metadata": {
    "id": "bddKnaQVHGYb"
   },
   "source": [
    "#### 3-1.One sample t-test\n",
    "- stats.ttest_1samp 사용\n",
    "- 20대 평균 수면시간에 대한 one samle t-test\n",
    "- 유의수준은 5% 사용\n",
    "- 숫자는 반올림하여 소수점 아래 4번째 자리까지 표시"
   ]
  },
  {
   "cell_type": "code",
   "execution_count": null,
   "metadata": {
    "colab": {
     "base_uri": "https://localhost:8080/",
     "height": 162
    },
    "id": "OtvO3SA8HGYb",
    "outputId": "2cc72015-3be7-4e67-d7e1-b903adb31c23"
   },
   "outputs": [
    {
     "name": "stdout",
     "output_type": "stream",
     "text": [
      "(20, 3)\n"
     ]
    },
    {
     "data": {
      "text/html": [
       "\n",
       "  <div id=\"df-95102901-8f15-41fa-b35a-56336ae2a546\">\n",
       "    <div class=\"colab-df-container\">\n",
       "      <div>\n",
       "<style scoped>\n",
       "    .dataframe tbody tr th:only-of-type {\n",
       "        vertical-align: middle;\n",
       "    }\n",
       "\n",
       "    .dataframe tbody tr th {\n",
       "        vertical-align: top;\n",
       "    }\n",
       "\n",
       "    .dataframe thead th {\n",
       "        text-align: right;\n",
       "    }\n",
       "</style>\n",
       "<table border=\"1\" class=\"dataframe\">\n",
       "  <thead>\n",
       "    <tr style=\"text-align: right;\">\n",
       "      <th></th>\n",
       "      <th>0</th>\n",
       "      <th>1</th>\n",
       "      <th>2</th>\n",
       "      <th>3</th>\n",
       "      <th>4</th>\n",
       "      <th>5</th>\n",
       "      <th>6</th>\n",
       "      <th>7</th>\n",
       "      <th>8</th>\n",
       "      <th>9</th>\n",
       "      <th>10</th>\n",
       "      <th>11</th>\n",
       "      <th>12</th>\n",
       "      <th>13</th>\n",
       "      <th>14</th>\n",
       "      <th>15</th>\n",
       "      <th>16</th>\n",
       "      <th>17</th>\n",
       "      <th>18</th>\n",
       "      <th>19</th>\n",
       "    </tr>\n",
       "  </thead>\n",
       "  <tbody>\n",
       "    <tr>\n",
       "      <th>stime20s</th>\n",
       "      <td>4</td>\n",
       "      <td>4</td>\n",
       "      <td>5</td>\n",
       "      <td>5</td>\n",
       "      <td>6</td>\n",
       "      <td>6</td>\n",
       "      <td>7</td>\n",
       "      <td>3</td>\n",
       "      <td>8</td>\n",
       "      <td>7</td>\n",
       "      <td>8</td>\n",
       "      <td>8</td>\n",
       "      <td>7</td>\n",
       "      <td>7</td>\n",
       "      <td>7</td>\n",
       "      <td>6</td>\n",
       "      <td>8</td>\n",
       "      <td>5</td>\n",
       "      <td>6</td>\n",
       "      <td>6</td>\n",
       "    </tr>\n",
       "    <tr>\n",
       "      <th>stime40s</th>\n",
       "      <td>5</td>\n",
       "      <td>5</td>\n",
       "      <td>6</td>\n",
       "      <td>7</td>\n",
       "      <td>6</td>\n",
       "      <td>7</td>\n",
       "      <td>7</td>\n",
       "      <td>5</td>\n",
       "      <td>5</td>\n",
       "      <td>6</td>\n",
       "      <td>8</td>\n",
       "      <td>7</td>\n",
       "      <td>6</td>\n",
       "      <td>6</td>\n",
       "      <td>8</td>\n",
       "      <td>7</td>\n",
       "      <td>7</td>\n",
       "      <td>6</td>\n",
       "      <td>5</td>\n",
       "      <td>8</td>\n",
       "    </tr>\n",
       "    <tr>\n",
       "      <th>ID</th>\n",
       "      <td>1</td>\n",
       "      <td>2</td>\n",
       "      <td>3</td>\n",
       "      <td>4</td>\n",
       "      <td>5</td>\n",
       "      <td>6</td>\n",
       "      <td>7</td>\n",
       "      <td>8</td>\n",
       "      <td>9</td>\n",
       "      <td>10</td>\n",
       "      <td>11</td>\n",
       "      <td>12</td>\n",
       "      <td>13</td>\n",
       "      <td>14</td>\n",
       "      <td>15</td>\n",
       "      <td>16</td>\n",
       "      <td>17</td>\n",
       "      <td>18</td>\n",
       "      <td>19</td>\n",
       "      <td>20</td>\n",
       "    </tr>\n",
       "  </tbody>\n",
       "</table>\n",
       "</div>\n",
       "      <button class=\"colab-df-convert\" onclick=\"convertToInteractive('df-95102901-8f15-41fa-b35a-56336ae2a546')\"\n",
       "              title=\"Convert this dataframe to an interactive table.\"\n",
       "              style=\"display:none;\">\n",
       "        \n",
       "  <svg xmlns=\"http://www.w3.org/2000/svg\" height=\"24px\"viewBox=\"0 0 24 24\"\n",
       "       width=\"24px\">\n",
       "    <path d=\"M0 0h24v24H0V0z\" fill=\"none\"/>\n",
       "    <path d=\"M18.56 5.44l.94 2.06.94-2.06 2.06-.94-2.06-.94-.94-2.06-.94 2.06-2.06.94zm-11 1L8.5 8.5l.94-2.06 2.06-.94-2.06-.94L8.5 2.5l-.94 2.06-2.06.94zm10 10l.94 2.06.94-2.06 2.06-.94-2.06-.94-.94-2.06-.94 2.06-2.06.94z\"/><path d=\"M17.41 7.96l-1.37-1.37c-.4-.4-.92-.59-1.43-.59-.52 0-1.04.2-1.43.59L10.3 9.45l-7.72 7.72c-.78.78-.78 2.05 0 2.83L4 21.41c.39.39.9.59 1.41.59.51 0 1.02-.2 1.41-.59l7.78-7.78 2.81-2.81c.8-.78.8-2.07 0-2.86zM5.41 20L4 18.59l7.72-7.72 1.47 1.35L5.41 20z\"/>\n",
       "  </svg>\n",
       "      </button>\n",
       "      \n",
       "  <style>\n",
       "    .colab-df-container {\n",
       "      display:flex;\n",
       "      flex-wrap:wrap;\n",
       "      gap: 12px;\n",
       "    }\n",
       "\n",
       "    .colab-df-convert {\n",
       "      background-color: #E8F0FE;\n",
       "      border: none;\n",
       "      border-radius: 50%;\n",
       "      cursor: pointer;\n",
       "      display: none;\n",
       "      fill: #1967D2;\n",
       "      height: 32px;\n",
       "      padding: 0 0 0 0;\n",
       "      width: 32px;\n",
       "    }\n",
       "\n",
       "    .colab-df-convert:hover {\n",
       "      background-color: #E2EBFA;\n",
       "      box-shadow: 0px 1px 2px rgba(60, 64, 67, 0.3), 0px 1px 3px 1px rgba(60, 64, 67, 0.15);\n",
       "      fill: #174EA6;\n",
       "    }\n",
       "\n",
       "    [theme=dark] .colab-df-convert {\n",
       "      background-color: #3B4455;\n",
       "      fill: #D2E3FC;\n",
       "    }\n",
       "\n",
       "    [theme=dark] .colab-df-convert:hover {\n",
       "      background-color: #434B5C;\n",
       "      box-shadow: 0px 1px 3px 1px rgba(0, 0, 0, 0.15);\n",
       "      filter: drop-shadow(0px 1px 2px rgba(0, 0, 0, 0.3));\n",
       "      fill: #FFFFFF;\n",
       "    }\n",
       "  </style>\n",
       "\n",
       "      <script>\n",
       "        const buttonEl =\n",
       "          document.querySelector('#df-95102901-8f15-41fa-b35a-56336ae2a546 button.colab-df-convert');\n",
       "        buttonEl.style.display =\n",
       "          google.colab.kernel.accessAllowed ? 'block' : 'none';\n",
       "\n",
       "        async function convertToInteractive(key) {\n",
       "          const element = document.querySelector('#df-95102901-8f15-41fa-b35a-56336ae2a546');\n",
       "          const dataTable =\n",
       "            await google.colab.kernel.invokeFunction('convertToInteractive',\n",
       "                                                     [key], {});\n",
       "          if (!dataTable) return;\n",
       "\n",
       "          const docLinkHtml = 'Like what you see? Visit the ' +\n",
       "            '<a target=\"_blank\" href=https://colab.research.google.com/notebooks/data_table.ipynb>data table notebook</a>'\n",
       "            + ' to learn more about interactive tables.';\n",
       "          element.innerHTML = '';\n",
       "          dataTable['output_type'] = 'display_data';\n",
       "          await google.colab.output.renderOutput(dataTable, element);\n",
       "          const docLink = document.createElement('div');\n",
       "          docLink.innerHTML = docLinkHtml;\n",
       "          element.appendChild(docLink);\n",
       "        }\n",
       "      </script>\n",
       "    </div>\n",
       "  </div>\n",
       "  "
      ],
      "text/plain": [
       "          0   1   2   3   4   5   6   7   8   9   10  11  12  13  14  15  16  \\\n",
       "stime20s   4   4   5   5   6   6   7   3   8   7   8   8   7   7   7   6   8   \n",
       "stime40s   5   5   6   7   6   7   7   5   5   6   8   7   6   6   8   7   7   \n",
       "ID         1   2   3   4   5   6   7   8   9  10  11  12  13  14  15  16  17   \n",
       "\n",
       "          17  18  19  \n",
       "stime20s   5   6   6  \n",
       "stime40s   6   5   8  \n",
       "ID        18  19  20  "
      ]
     },
     "execution_count": 19,
     "metadata": {},
     "output_type": "execute_result"
    }
   ],
   "source": [
    "# [1] 수면 시간 정보가 포함된 파일 불러오기\n",
    "import pandas as pd\n",
    "\n",
    "df = pd.read_csv(\"./data_02/sleepage.csv\")\n",
    "print(df.shape)\n",
    "df.T"
   ]
  },
  {
   "cell_type": "code",
   "execution_count": null,
   "metadata": {
    "id": "bt9ohJNkHGYe"
   },
   "outputs": [],
   "source": [
    "# [1] 20대의 수면시간에 대해 정규성 검정\n",
    "# one sample이므로 등분산 검정 필요 없음\n",
    "from scipy.stats import shapiro\n"
   ]
  },
  {
   "cell_type": "code",
   "execution_count": null,
   "metadata": {
    "id": "ZSKdyaWZHGYd"
   },
   "outputs": [],
   "source": [
    "# [2] 20대의 수면시간에 대해 평균 구하기\n"
   ]
  },
  {
   "cell_type": "markdown",
   "metadata": {
    "id": "O8QR0KUADvA-"
   },
   "source": [
    "가설 1.alternative='two-sided'\n",
    "- 귀무가설 - 20대 수면시간의 평균은 6시간이다.\n",
    "- 대립가설 - 20대 수면시간의 평균은 6시간이 아니다."
   ]
  },
  {
   "cell_type": "code",
   "execution_count": null,
   "metadata": {
    "id": "mG684uqUHGYe"
   },
   "outputs": [],
   "source": [
    "# [3] One Sample t-test 수행\n",
    "from scipy.stats import ttest_1samp\n"
   ]
  },
  {
   "cell_type": "code",
   "execution_count": null,
   "metadata": {
    "id": "CI-Ar1FMHGYf"
   },
   "outputs": [],
   "source": [
    "# [4] 가설 결과\n"
   ]
  },
  {
   "cell_type": "markdown",
   "metadata": {
    "id": "ZlfH0fKcDnJj"
   },
   "source": [
    "가설-2. alternative='less'\n",
    "- 귀무가설 - 20대 수면시간의 평균은 6시간 보다 크거나 같다.\n",
    "- 대립가설 - 20대 수면시간의 평균은 6시간 보다 작다"
   ]
  },
  {
   "cell_type": "code",
   "execution_count": null,
   "metadata": {
    "id": "c0D0Ri7XHGYg"
   },
   "outputs": [],
   "source": [
    "# [5] One Sample t-test 수행\n",
    "from scipy.stats import ttest_1samp\n"
   ]
  },
  {
   "cell_type": "code",
   "execution_count": null,
   "metadata": {
    "id": "OSpQ3fII6Z2y"
   },
   "outputs": [],
   "source": [
    "# [6] 가설 결과\n"
   ]
  },
  {
   "cell_type": "markdown",
   "metadata": {
    "id": "LJXAfvvS6zHP"
   },
   "source": [
    "가설-3. alternative='greater'\n",
    "- 귀무가설 - 20대 수면시간의 평균은 6시간 보다 작거나 같다.\n",
    "- 대립가설 - 20대 수면시간의 평균은 6시간 보다 크다"
   ]
  },
  {
   "cell_type": "code",
   "execution_count": null,
   "metadata": {
    "id": "KXnOqbIs66yj"
   },
   "outputs": [],
   "source": [
    "# [7] One Sample t-test 수행\n",
    "from scipy.stats import ttest_1samp\n"
   ]
  },
  {
   "cell_type": "code",
   "execution_count": null,
   "metadata": {
    "id": "OnPgfmO_HGYg"
   },
   "outputs": [],
   "source": [
    "# [8] 가설 결과\n"
   ]
  },
  {
   "cell_type": "code",
   "execution_count": null,
   "metadata": {
    "id": "dUs1gm6474mJ"
   },
   "outputs": [],
   "source": [
    "# [9] 95% 신뢰구간 구하기\n",
    "from scipy.stats import t, sem\n"
   ]
  },
  {
   "cell_type": "markdown",
   "metadata": {
    "id": "kg6nm09IHGYi"
   },
   "source": [
    "#### 3-2.Two-sample t-test\n",
    "- 두집단 A, B의 평균 차이가 유의미한지 확인하는 용도\n",
    "- 20대와 40대의 수면 시간은 같다\n",
    "- stats.test_ind : (two INDependent sample이라 해서 ttest_ind )\n",
    "- https://docs.scipy.org/doc/scipy/reference/generated/scipy.stats.ttest_ind.html\n",
    "- t값과 two-tail p-value를 반환함\n",
    "- ttest_ind(a, b, equal_var=False) : Welch's t-test 수행 (등분산이 아닌 경우)"
   ]
  },
  {
   "cell_type": "code",
   "execution_count": null,
   "metadata": {
    "colab": {
     "base_uri": "https://localhost:8080/",
     "height": 162
    },
    "id": "n2Pa1MnBHGYi",
    "outputId": "318f6f30-def0-434f-a7c6-41463fa98d2b"
   },
   "outputs": [
    {
     "name": "stdout",
     "output_type": "stream",
     "text": [
      "(20, 3)\n"
     ]
    },
    {
     "data": {
      "text/html": [
       "\n",
       "  <div id=\"df-baed2637-a5d8-4df4-a237-a44d0d38a596\">\n",
       "    <div class=\"colab-df-container\">\n",
       "      <div>\n",
       "<style scoped>\n",
       "    .dataframe tbody tr th:only-of-type {\n",
       "        vertical-align: middle;\n",
       "    }\n",
       "\n",
       "    .dataframe tbody tr th {\n",
       "        vertical-align: top;\n",
       "    }\n",
       "\n",
       "    .dataframe thead th {\n",
       "        text-align: right;\n",
       "    }\n",
       "</style>\n",
       "<table border=\"1\" class=\"dataframe\">\n",
       "  <thead>\n",
       "    <tr style=\"text-align: right;\">\n",
       "      <th></th>\n",
       "      <th>0</th>\n",
       "      <th>1</th>\n",
       "      <th>2</th>\n",
       "      <th>3</th>\n",
       "      <th>4</th>\n",
       "      <th>5</th>\n",
       "      <th>6</th>\n",
       "      <th>7</th>\n",
       "      <th>8</th>\n",
       "      <th>9</th>\n",
       "      <th>10</th>\n",
       "      <th>11</th>\n",
       "      <th>12</th>\n",
       "      <th>13</th>\n",
       "      <th>14</th>\n",
       "      <th>15</th>\n",
       "      <th>16</th>\n",
       "      <th>17</th>\n",
       "      <th>18</th>\n",
       "      <th>19</th>\n",
       "    </tr>\n",
       "  </thead>\n",
       "  <tbody>\n",
       "    <tr>\n",
       "      <th>stime20s</th>\n",
       "      <td>4</td>\n",
       "      <td>4</td>\n",
       "      <td>5</td>\n",
       "      <td>5</td>\n",
       "      <td>6</td>\n",
       "      <td>6</td>\n",
       "      <td>7</td>\n",
       "      <td>3</td>\n",
       "      <td>8</td>\n",
       "      <td>7</td>\n",
       "      <td>8</td>\n",
       "      <td>8</td>\n",
       "      <td>7</td>\n",
       "      <td>7</td>\n",
       "      <td>7</td>\n",
       "      <td>6</td>\n",
       "      <td>8</td>\n",
       "      <td>5</td>\n",
       "      <td>6</td>\n",
       "      <td>6</td>\n",
       "    </tr>\n",
       "    <tr>\n",
       "      <th>stime40s</th>\n",
       "      <td>5</td>\n",
       "      <td>5</td>\n",
       "      <td>6</td>\n",
       "      <td>7</td>\n",
       "      <td>6</td>\n",
       "      <td>7</td>\n",
       "      <td>7</td>\n",
       "      <td>5</td>\n",
       "      <td>5</td>\n",
       "      <td>6</td>\n",
       "      <td>8</td>\n",
       "      <td>7</td>\n",
       "      <td>6</td>\n",
       "      <td>6</td>\n",
       "      <td>8</td>\n",
       "      <td>7</td>\n",
       "      <td>7</td>\n",
       "      <td>6</td>\n",
       "      <td>5</td>\n",
       "      <td>8</td>\n",
       "    </tr>\n",
       "    <tr>\n",
       "      <th>ID</th>\n",
       "      <td>1</td>\n",
       "      <td>2</td>\n",
       "      <td>3</td>\n",
       "      <td>4</td>\n",
       "      <td>5</td>\n",
       "      <td>6</td>\n",
       "      <td>7</td>\n",
       "      <td>8</td>\n",
       "      <td>9</td>\n",
       "      <td>10</td>\n",
       "      <td>11</td>\n",
       "      <td>12</td>\n",
       "      <td>13</td>\n",
       "      <td>14</td>\n",
       "      <td>15</td>\n",
       "      <td>16</td>\n",
       "      <td>17</td>\n",
       "      <td>18</td>\n",
       "      <td>19</td>\n",
       "      <td>20</td>\n",
       "    </tr>\n",
       "  </tbody>\n",
       "</table>\n",
       "</div>\n",
       "      <button class=\"colab-df-convert\" onclick=\"convertToInteractive('df-baed2637-a5d8-4df4-a237-a44d0d38a596')\"\n",
       "              title=\"Convert this dataframe to an interactive table.\"\n",
       "              style=\"display:none;\">\n",
       "        \n",
       "  <svg xmlns=\"http://www.w3.org/2000/svg\" height=\"24px\"viewBox=\"0 0 24 24\"\n",
       "       width=\"24px\">\n",
       "    <path d=\"M0 0h24v24H0V0z\" fill=\"none\"/>\n",
       "    <path d=\"M18.56 5.44l.94 2.06.94-2.06 2.06-.94-2.06-.94-.94-2.06-.94 2.06-2.06.94zm-11 1L8.5 8.5l.94-2.06 2.06-.94-2.06-.94L8.5 2.5l-.94 2.06-2.06.94zm10 10l.94 2.06.94-2.06 2.06-.94-2.06-.94-.94-2.06-.94 2.06-2.06.94z\"/><path d=\"M17.41 7.96l-1.37-1.37c-.4-.4-.92-.59-1.43-.59-.52 0-1.04.2-1.43.59L10.3 9.45l-7.72 7.72c-.78.78-.78 2.05 0 2.83L4 21.41c.39.39.9.59 1.41.59.51 0 1.02-.2 1.41-.59l7.78-7.78 2.81-2.81c.8-.78.8-2.07 0-2.86zM5.41 20L4 18.59l7.72-7.72 1.47 1.35L5.41 20z\"/>\n",
       "  </svg>\n",
       "      </button>\n",
       "      \n",
       "  <style>\n",
       "    .colab-df-container {\n",
       "      display:flex;\n",
       "      flex-wrap:wrap;\n",
       "      gap: 12px;\n",
       "    }\n",
       "\n",
       "    .colab-df-convert {\n",
       "      background-color: #E8F0FE;\n",
       "      border: none;\n",
       "      border-radius: 50%;\n",
       "      cursor: pointer;\n",
       "      display: none;\n",
       "      fill: #1967D2;\n",
       "      height: 32px;\n",
       "      padding: 0 0 0 0;\n",
       "      width: 32px;\n",
       "    }\n",
       "\n",
       "    .colab-df-convert:hover {\n",
       "      background-color: #E2EBFA;\n",
       "      box-shadow: 0px 1px 2px rgba(60, 64, 67, 0.3), 0px 1px 3px 1px rgba(60, 64, 67, 0.15);\n",
       "      fill: #174EA6;\n",
       "    }\n",
       "\n",
       "    [theme=dark] .colab-df-convert {\n",
       "      background-color: #3B4455;\n",
       "      fill: #D2E3FC;\n",
       "    }\n",
       "\n",
       "    [theme=dark] .colab-df-convert:hover {\n",
       "      background-color: #434B5C;\n",
       "      box-shadow: 0px 1px 3px 1px rgba(0, 0, 0, 0.15);\n",
       "      filter: drop-shadow(0px 1px 2px rgba(0, 0, 0, 0.3));\n",
       "      fill: #FFFFFF;\n",
       "    }\n",
       "  </style>\n",
       "\n",
       "      <script>\n",
       "        const buttonEl =\n",
       "          document.querySelector('#df-baed2637-a5d8-4df4-a237-a44d0d38a596 button.colab-df-convert');\n",
       "        buttonEl.style.display =\n",
       "          google.colab.kernel.accessAllowed ? 'block' : 'none';\n",
       "\n",
       "        async function convertToInteractive(key) {\n",
       "          const element = document.querySelector('#df-baed2637-a5d8-4df4-a237-a44d0d38a596');\n",
       "          const dataTable =\n",
       "            await google.colab.kernel.invokeFunction('convertToInteractive',\n",
       "                                                     [key], {});\n",
       "          if (!dataTable) return;\n",
       "\n",
       "          const docLinkHtml = 'Like what you see? Visit the ' +\n",
       "            '<a target=\"_blank\" href=https://colab.research.google.com/notebooks/data_table.ipynb>data table notebook</a>'\n",
       "            + ' to learn more about interactive tables.';\n",
       "          element.innerHTML = '';\n",
       "          dataTable['output_type'] = 'display_data';\n",
       "          await google.colab.output.renderOutput(dataTable, element);\n",
       "          const docLink = document.createElement('div');\n",
       "          docLink.innerHTML = docLinkHtml;\n",
       "          element.appendChild(docLink);\n",
       "        }\n",
       "      </script>\n",
       "    </div>\n",
       "  </div>\n",
       "  "
      ],
      "text/plain": [
       "          0   1   2   3   4   5   6   7   8   9   10  11  12  13  14  15  16  \\\n",
       "stime20s   4   4   5   5   6   6   7   3   8   7   8   8   7   7   7   6   8   \n",
       "stime40s   5   5   6   7   6   7   7   5   5   6   8   7   6   6   8   7   7   \n",
       "ID         1   2   3   4   5   6   7   8   9  10  11  12  13  14  15  16  17   \n",
       "\n",
       "          17  18  19  \n",
       "stime20s   5   6   6  \n",
       "stime40s   6   5   8  \n",
       "ID        18  19  20  "
      ]
     },
     "execution_count": 2,
     "metadata": {},
     "output_type": "execute_result"
    }
   ],
   "source": [
    "# [1] 수면 시간 정보가 포함된 파일 불러오기\n",
    "import pandas as pd\n",
    "df2 = pd.read_csv('./data_02/sleepage.csv')\n",
    "print(df2.shape)\n",
    "df2.T"
   ]
  },
  {
   "cell_type": "code",
   "execution_count": null,
   "metadata": {
    "id": "APlw91hbHGYi"
   },
   "outputs": [],
   "source": [
    "# [2] 그룹 분할하기\n"
   ]
  },
  {
   "cell_type": "code",
   "execution_count": null,
   "metadata": {
    "id": "jG-0pIteHGYj"
   },
   "outputs": [],
   "source": [
    "# [3] 그룹별 평균 구하기\n"
   ]
  },
  {
   "cell_type": "code",
   "execution_count": null,
   "metadata": {
    "id": "3G163IkrV6EJ"
   },
   "outputs": [],
   "source": [
    "# [4] 등분산 검정 - 3가지 방법으로 실행 후, pvalue 확인\n",
    "from scipy.stats import levene, fligner, bartlett\n",
    "from scipy.stats import shapiro\n",
    "\n",
    "# 정규성 검정\n",
    "\n",
    "\n",
    "# 등분산성 검정\n"
   ]
  },
  {
   "cell_type": "code",
   "execution_count": null,
   "metadata": {
    "id": "ItcZqrBfHGYk"
   },
   "outputs": [],
   "source": [
    "# 등분산 가정을 만족하지 않으면(equal_var=False) Welch's T-test를 수행한다."
   ]
  },
  {
   "cell_type": "markdown",
   "metadata": {
    "id": "TtEQZPSR9v7_"
   },
   "source": [
    "가설1. alternative='two-sided'\n",
    "- 귀무가설 : groupA의 평균 - groupB의 평균이 0과 같다\n",
    "- 대립가설 : groupA의 평균 - groupB의 평균이 0과 같지 않다\n",
    "- 귀무가설 : groupA, groupB의 평균은 동일하다\n",
    "- 대립가설 : groupA, groupB의 평균은 동일하지 않다"
   ]
  },
  {
   "cell_type": "code",
   "execution_count": null,
   "metadata": {
    "id": "veAHtnMWHGYk"
   },
   "outputs": [],
   "source": [
    "# [5] two-sample t-test 수행\n",
    "from scipy.stats import ttest_ind\n"
   ]
  },
  {
   "cell_type": "code",
   "execution_count": null,
   "metadata": {
    "id": "553_7jRqHGYm"
   },
   "outputs": [],
   "source": [
    "# [6] 가설 결과\n"
   ]
  },
  {
   "cell_type": "markdown",
   "metadata": {
    "id": "vjip5-ZJDom9"
   },
   "source": [
    "가설2. alternative='less'\n",
    "- 귀무가설 : groupA의 평균 - groupB의 평균이 0보다 크거나 같다\n",
    "- 대립가설 : groupA의 평균 - groupB의 평균이 0보다 작다\n",
    "- 귀무가설 : groupA의 평균이 groupB의 평균보다 크거나 같다\n",
    "- 대립가설 : groupA의 평균이 groupB의 평균보다 작다"
   ]
  },
  {
   "cell_type": "code",
   "execution_count": null,
   "metadata": {
    "id": "CV15CIzlDnfb"
   },
   "outputs": [],
   "source": [
    "# [7] two-sample t-test 수행\n",
    "from scipy.stats import ttest_ind\n"
   ]
  },
  {
   "cell_type": "code",
   "execution_count": null,
   "metadata": {
    "id": "SR2uSH_yFykq"
   },
   "outputs": [],
   "source": [
    "# [8] 가설 결과\n"
   ]
  },
  {
   "cell_type": "markdown",
   "metadata": {
    "id": "H5sDZaJVG9ui"
   },
   "source": [
    "가설3. alternative='greater'\n",
    "- 귀무가설 : groupA의 평균 - groupB의 평균이 0보다 작거나 같다\n",
    "- 대립가설 : groupA의 평균 - groupB의 평균이 0보다 크다\n",
    "- 귀무가설 : groupA의 평균이 groupB의 평균보다 작거나 같다\n",
    "- 대립가설 : groupA의 평균이 groupB의 평균보다 크다"
   ]
  },
  {
   "cell_type": "code",
   "execution_count": null,
   "metadata": {
    "id": "UoqlmdbPHIoU"
   },
   "outputs": [],
   "source": [
    "# [9] two-sample t-test 수행\n",
    "\n",
    "from scipy.stats import ttest_ind\n"
   ]
  },
  {
   "cell_type": "code",
   "execution_count": null,
   "metadata": {
    "id": "7KyshE1yHNZu"
   },
   "outputs": [],
   "source": [
    "# [10] 가설 결과\n"
   ]
  },
  {
   "cell_type": "markdown",
   "metadata": {
    "id": "NZPSVBEcHGYm"
   },
   "source": [
    "#### 3-3.Paired t-test \n",
    "- 동일한 특성을 같는 두집단 A, B의 평균 차이가 유의미한지 확인하는 용도\n",
    "- 처치 전/후 비교(효과 검정), 한 집단에 대해 두 가지 방법에 대한 차이 검정 등에 사용\n",
    "- 등분산성 검정은 하지 않아도 됨\n",
    "- 두 약 투여에 따른 추가 수면 시간 평균의 차이가 있는가?\n",
    "- stats.ttest_rel: (two RELated samples)"
   ]
  },
  {
   "cell_type": "code",
   "execution_count": null,
   "metadata": {
    "colab": {
     "base_uri": "https://localhost:8080/",
     "height": 162
    },
    "id": "Vobl6wqgHGYm",
    "outputId": "6205ceff-9cf8-4bda-b333-a6f76aa6c9a8"
   },
   "outputs": [
    {
     "name": "stdout",
     "output_type": "stream",
     "text": [
      "(20, 3)\n"
     ]
    },
    {
     "data": {
      "text/html": [
       "\n",
       "  <div id=\"df-76d13375-35c6-450d-8e89-93daf628b5cf\">\n",
       "    <div class=\"colab-df-container\">\n",
       "      <div>\n",
       "<style scoped>\n",
       "    .dataframe tbody tr th:only-of-type {\n",
       "        vertical-align: middle;\n",
       "    }\n",
       "\n",
       "    .dataframe tbody tr th {\n",
       "        vertical-align: top;\n",
       "    }\n",
       "\n",
       "    .dataframe thead th {\n",
       "        text-align: right;\n",
       "    }\n",
       "</style>\n",
       "<table border=\"1\" class=\"dataframe\">\n",
       "  <thead>\n",
       "    <tr style=\"text-align: right;\">\n",
       "      <th></th>\n",
       "      <th>0</th>\n",
       "      <th>1</th>\n",
       "      <th>2</th>\n",
       "      <th>3</th>\n",
       "      <th>4</th>\n",
       "      <th>5</th>\n",
       "      <th>6</th>\n",
       "      <th>7</th>\n",
       "      <th>8</th>\n",
       "      <th>9</th>\n",
       "      <th>10</th>\n",
       "      <th>11</th>\n",
       "      <th>12</th>\n",
       "      <th>13</th>\n",
       "      <th>14</th>\n",
       "      <th>15</th>\n",
       "      <th>16</th>\n",
       "      <th>17</th>\n",
       "      <th>18</th>\n",
       "      <th>19</th>\n",
       "    </tr>\n",
       "  </thead>\n",
       "  <tbody>\n",
       "    <tr>\n",
       "      <th>extra</th>\n",
       "      <td>0.7</td>\n",
       "      <td>-1.6</td>\n",
       "      <td>-0.2</td>\n",
       "      <td>-1.2</td>\n",
       "      <td>-0.1</td>\n",
       "      <td>3.4</td>\n",
       "      <td>3.7</td>\n",
       "      <td>0.8</td>\n",
       "      <td>0.0</td>\n",
       "      <td>2.0</td>\n",
       "      <td>1.9</td>\n",
       "      <td>0.8</td>\n",
       "      <td>1.1</td>\n",
       "      <td>0.1</td>\n",
       "      <td>-0.1</td>\n",
       "      <td>4.4</td>\n",
       "      <td>5.5</td>\n",
       "      <td>1.6</td>\n",
       "      <td>4.6</td>\n",
       "      <td>3.4</td>\n",
       "    </tr>\n",
       "    <tr>\n",
       "      <th>group</th>\n",
       "      <td>1.0</td>\n",
       "      <td>1.0</td>\n",
       "      <td>1.0</td>\n",
       "      <td>1.0</td>\n",
       "      <td>1.0</td>\n",
       "      <td>1.0</td>\n",
       "      <td>1.0</td>\n",
       "      <td>1.0</td>\n",
       "      <td>1.0</td>\n",
       "      <td>1.0</td>\n",
       "      <td>2.0</td>\n",
       "      <td>2.0</td>\n",
       "      <td>2.0</td>\n",
       "      <td>2.0</td>\n",
       "      <td>2.0</td>\n",
       "      <td>2.0</td>\n",
       "      <td>2.0</td>\n",
       "      <td>2.0</td>\n",
       "      <td>2.0</td>\n",
       "      <td>2.0</td>\n",
       "    </tr>\n",
       "    <tr>\n",
       "      <th>ID</th>\n",
       "      <td>1.0</td>\n",
       "      <td>2.0</td>\n",
       "      <td>3.0</td>\n",
       "      <td>4.0</td>\n",
       "      <td>5.0</td>\n",
       "      <td>6.0</td>\n",
       "      <td>7.0</td>\n",
       "      <td>8.0</td>\n",
       "      <td>9.0</td>\n",
       "      <td>10.0</td>\n",
       "      <td>1.0</td>\n",
       "      <td>2.0</td>\n",
       "      <td>3.0</td>\n",
       "      <td>4.0</td>\n",
       "      <td>5.0</td>\n",
       "      <td>6.0</td>\n",
       "      <td>7.0</td>\n",
       "      <td>8.0</td>\n",
       "      <td>9.0</td>\n",
       "      <td>10.0</td>\n",
       "    </tr>\n",
       "  </tbody>\n",
       "</table>\n",
       "</div>\n",
       "      <button class=\"colab-df-convert\" onclick=\"convertToInteractive('df-76d13375-35c6-450d-8e89-93daf628b5cf')\"\n",
       "              title=\"Convert this dataframe to an interactive table.\"\n",
       "              style=\"display:none;\">\n",
       "        \n",
       "  <svg xmlns=\"http://www.w3.org/2000/svg\" height=\"24px\"viewBox=\"0 0 24 24\"\n",
       "       width=\"24px\">\n",
       "    <path d=\"M0 0h24v24H0V0z\" fill=\"none\"/>\n",
       "    <path d=\"M18.56 5.44l.94 2.06.94-2.06 2.06-.94-2.06-.94-.94-2.06-.94 2.06-2.06.94zm-11 1L8.5 8.5l.94-2.06 2.06-.94-2.06-.94L8.5 2.5l-.94 2.06-2.06.94zm10 10l.94 2.06.94-2.06 2.06-.94-2.06-.94-.94-2.06-.94 2.06-2.06.94z\"/><path d=\"M17.41 7.96l-1.37-1.37c-.4-.4-.92-.59-1.43-.59-.52 0-1.04.2-1.43.59L10.3 9.45l-7.72 7.72c-.78.78-.78 2.05 0 2.83L4 21.41c.39.39.9.59 1.41.59.51 0 1.02-.2 1.41-.59l7.78-7.78 2.81-2.81c.8-.78.8-2.07 0-2.86zM5.41 20L4 18.59l7.72-7.72 1.47 1.35L5.41 20z\"/>\n",
       "  </svg>\n",
       "      </button>\n",
       "      \n",
       "  <style>\n",
       "    .colab-df-container {\n",
       "      display:flex;\n",
       "      flex-wrap:wrap;\n",
       "      gap: 12px;\n",
       "    }\n",
       "\n",
       "    .colab-df-convert {\n",
       "      background-color: #E8F0FE;\n",
       "      border: none;\n",
       "      border-radius: 50%;\n",
       "      cursor: pointer;\n",
       "      display: none;\n",
       "      fill: #1967D2;\n",
       "      height: 32px;\n",
       "      padding: 0 0 0 0;\n",
       "      width: 32px;\n",
       "    }\n",
       "\n",
       "    .colab-df-convert:hover {\n",
       "      background-color: #E2EBFA;\n",
       "      box-shadow: 0px 1px 2px rgba(60, 64, 67, 0.3), 0px 1px 3px 1px rgba(60, 64, 67, 0.15);\n",
       "      fill: #174EA6;\n",
       "    }\n",
       "\n",
       "    [theme=dark] .colab-df-convert {\n",
       "      background-color: #3B4455;\n",
       "      fill: #D2E3FC;\n",
       "    }\n",
       "\n",
       "    [theme=dark] .colab-df-convert:hover {\n",
       "      background-color: #434B5C;\n",
       "      box-shadow: 0px 1px 3px 1px rgba(0, 0, 0, 0.15);\n",
       "      filter: drop-shadow(0px 1px 2px rgba(0, 0, 0, 0.3));\n",
       "      fill: #FFFFFF;\n",
       "    }\n",
       "  </style>\n",
       "\n",
       "      <script>\n",
       "        const buttonEl =\n",
       "          document.querySelector('#df-76d13375-35c6-450d-8e89-93daf628b5cf button.colab-df-convert');\n",
       "        buttonEl.style.display =\n",
       "          google.colab.kernel.accessAllowed ? 'block' : 'none';\n",
       "\n",
       "        async function convertToInteractive(key) {\n",
       "          const element = document.querySelector('#df-76d13375-35c6-450d-8e89-93daf628b5cf');\n",
       "          const dataTable =\n",
       "            await google.colab.kernel.invokeFunction('convertToInteractive',\n",
       "                                                     [key], {});\n",
       "          if (!dataTable) return;\n",
       "\n",
       "          const docLinkHtml = 'Like what you see? Visit the ' +\n",
       "            '<a target=\"_blank\" href=https://colab.research.google.com/notebooks/data_table.ipynb>data table notebook</a>'\n",
       "            + ' to learn more about interactive tables.';\n",
       "          element.innerHTML = '';\n",
       "          dataTable['output_type'] = 'display_data';\n",
       "          await google.colab.output.renderOutput(dataTable, element);\n",
       "          const docLink = document.createElement('div');\n",
       "          docLink.innerHTML = docLinkHtml;\n",
       "          element.appendChild(docLink);\n",
       "        }\n",
       "      </script>\n",
       "    </div>\n",
       "  </div>\n",
       "  "
      ],
      "text/plain": [
       "        0    1    2    3    4    5    6    7    8     9    10   11   12   13  \\\n",
       "extra  0.7 -1.6 -0.2 -1.2 -0.1  3.4  3.7  0.8  0.0   2.0  1.9  0.8  1.1  0.1   \n",
       "group  1.0  1.0  1.0  1.0  1.0  1.0  1.0  1.0  1.0   1.0  2.0  2.0  2.0  2.0   \n",
       "ID     1.0  2.0  3.0  4.0  5.0  6.0  7.0  8.0  9.0  10.0  1.0  2.0  3.0  4.0   \n",
       "\n",
       "        14   15   16   17   18    19  \n",
       "extra -0.1  4.4  5.5  1.6  4.6   3.4  \n",
       "group  2.0  2.0  2.0  2.0  2.0   2.0  \n",
       "ID     5.0  6.0  7.0  8.0  9.0  10.0  "
      ]
     },
     "execution_count": 4,
     "metadata": {},
     "output_type": "execute_result"
    }
   ],
   "source": [
    "# [1] 데이터 가져오기\n",
    "import pandas as pd\n",
    "import numpy as np\n",
    "df2 = pd.read_csv('./data_02/sleep.csv')\n",
    "print(df2.shape)\n",
    "df2.T"
   ]
  },
  {
   "cell_type": "code",
   "execution_count": null,
   "metadata": {
    "id": "RpCVKuGXHGYn"
   },
   "outputs": [],
   "source": [
    "# [2] 그룹 나누기\n"
   ]
  },
  {
   "cell_type": "code",
   "execution_count": null,
   "metadata": {
    "id": "whD5_mDRHGYn"
   },
   "outputs": [],
   "source": [
    "# [3] 정규성 검정(shapiro)\n",
    "from scipy.stats import shapiro\n",
    "\n"
   ]
  },
  {
   "cell_type": "code",
   "execution_count": null,
   "metadata": {
    "id": "hMY2cJL5JnzE"
   },
   "outputs": [],
   "source": [
    "# [4] 정규성 검정(normaltest) - N>=20\n",
    "from scipy.stats import  normaltest\n",
    "\n"
   ]
  },
  {
   "cell_type": "code",
   "execution_count": null,
   "metadata": {
    "id": "G836x0RMgoBA"
   },
   "outputs": [],
   "source": [
    "# [5] gA와 gB의 평균 구하기\n",
    "\n"
   ]
  },
  {
   "cell_type": "markdown",
   "metadata": {
    "id": "wUHg3DfKJHwE"
   },
   "source": [
    "가설1. alternative='two-sided'\n",
    "- 귀무가설 : gA의 평균 - gB의 평균이 0과 같다\n",
    "- 대립가설 : gA의 평균 - gB의 평균이 0과 같지 않다\n",
    "- 귀무가설 : gA와 gB의 평균은 같다\n",
    "- 대립가설 : gA와 gB의 평균은 같지 않다"
   ]
  },
  {
   "cell_type": "code",
   "execution_count": null,
   "metadata": {
    "id": "WW5j4wDIHGYn"
   },
   "outputs": [],
   "source": [
    "# [6] Paired t-test\n",
    "from scipy.stats import ttest_rel\n",
    "\n"
   ]
  },
  {
   "cell_type": "code",
   "execution_count": null,
   "metadata": {
    "id": "dfHPanKqHGYo"
   },
   "outputs": [],
   "source": [
    "# [7] 결과해석\n",
    "\n"
   ]
  },
  {
   "cell_type": "markdown",
   "metadata": {
    "id": "XuSOMrq_86wG"
   },
   "source": [
    "가설2. alternative='less'\n",
    "- 귀무가설 : gA의 평균 - gB의 평균이 0보다 크거나 같다\n",
    "- 대립가설 : gA의 평균 - gB의 평균이 0보다 작다\n",
    "- 귀무가설 : gA의 평균이 gB의 평균보다 크거나 같다\n",
    "- 대립가설 : gA의 평균이 gB의 평균보다 작다"
   ]
  },
  {
   "cell_type": "markdown",
   "metadata": {
    "id": "VCS84_w6Y-eP"
   },
   "source": [
    "The t-statistic is calculated as np.mean(a - b)/se, where se is the standard error. Therefore, the t-statistic will be positive when the sample mean of a - b is greater than zero and negative when the sample mean of a - b is less than zero"
   ]
  },
  {
   "cell_type": "code",
   "execution_count": null,
   "metadata": {
    "id": "ZojwRy-GOSAw"
   },
   "outputs": [],
   "source": [
    "# [8] Paired t-test\n",
    "from scipy.stats import ttest_rel\n",
    "\n"
   ]
  },
  {
   "cell_type": "code",
   "execution_count": null,
   "metadata": {
    "id": "bEL_KBiBZCvM"
   },
   "outputs": [],
   "source": [
    "# [9] 결과해석\n",
    "\n"
   ]
  },
  {
   "cell_type": "markdown",
   "metadata": {
    "id": "-Fwwj6O6ZWVP"
   },
   "source": [
    "가설3. alternative='greater'\n",
    "- 귀무가설 : gA의 평균 - gB의 평균이 0보다 작거나 같다\n",
    "- 대립가설 : gA의 평균 - gB의 평균이 0보다 크다\n",
    "- 귀무가설 : gA의 평균이 gB의 평균보다 작거나 같다\n",
    "- 대립가설 : gA의 평균이 gB의 평균보다 크다"
   ]
  },
  {
   "cell_type": "code",
   "execution_count": null,
   "metadata": {
    "id": "X54tZ-YXZgei"
   },
   "outputs": [],
   "source": [
    "# [10] Paired t-test\n",
    "from scipy.stats import ttest_rel\n",
    "\n"
   ]
  },
  {
   "cell_type": "code",
   "execution_count": null,
   "metadata": {
    "id": "REUw5nvhZlI-"
   },
   "outputs": [],
   "source": [
    "# [11] 결과해석\n",
    "\n"
   ]
  },
  {
   "cell_type": "markdown",
   "metadata": {
    "id": "Z7RNfAZ9aUIk"
   },
   "source": [
    "#### 3-4.분류 모델에서 활용"
   ]
  },
  {
   "cell_type": "code",
   "execution_count": null,
   "metadata": {
    "colab": {
     "base_uri": "https://localhost:8080/",
     "height": 176
    },
    "id": "bDz_WRXS87QI",
    "outputId": "2690d072-94b4-4be1-e9c0-bce3ea236166"
   },
   "outputs": [
    {
     "data": {
      "text/html": [
       "\n",
       "  <div id=\"df-5ccfd8c0-6f3a-44b6-b093-e8e2ec656ea5\">\n",
       "    <div class=\"colab-df-container\">\n",
       "      <div>\n",
       "<style scoped>\n",
       "    .dataframe tbody tr th:only-of-type {\n",
       "        vertical-align: middle;\n",
       "    }\n",
       "\n",
       "    .dataframe tbody tr th {\n",
       "        vertical-align: top;\n",
       "    }\n",
       "\n",
       "    .dataframe thead th {\n",
       "        text-align: right;\n",
       "    }\n",
       "</style>\n",
       "<table border=\"1\" class=\"dataframe\">\n",
       "  <thead>\n",
       "    <tr style=\"text-align: right;\">\n",
       "      <th></th>\n",
       "      <th>ID</th>\n",
       "      <th>Warehouse_block</th>\n",
       "      <th>Mode_of_Shipment</th>\n",
       "      <th>Customer_care_calls</th>\n",
       "      <th>Customer_rating</th>\n",
       "      <th>Cost_of_the_Product</th>\n",
       "      <th>Prior_purchases</th>\n",
       "      <th>Product_importance</th>\n",
       "      <th>Gender</th>\n",
       "      <th>Discount_offered</th>\n",
       "      <th>Weight_in_gms</th>\n",
       "      <th>Reached.on.Time_Y.N</th>\n",
       "    </tr>\n",
       "  </thead>\n",
       "  <tbody>\n",
       "    <tr>\n",
       "      <th>0</th>\n",
       "      <td>1</td>\n",
       "      <td>D</td>\n",
       "      <td>Flight</td>\n",
       "      <td>4</td>\n",
       "      <td>2</td>\n",
       "      <td>177</td>\n",
       "      <td>3</td>\n",
       "      <td>low</td>\n",
       "      <td>F</td>\n",
       "      <td>44</td>\n",
       "      <td>1233</td>\n",
       "      <td>1</td>\n",
       "    </tr>\n",
       "    <tr>\n",
       "      <th>1</th>\n",
       "      <td>2</td>\n",
       "      <td>F</td>\n",
       "      <td>Flight</td>\n",
       "      <td>4</td>\n",
       "      <td>5</td>\n",
       "      <td>216</td>\n",
       "      <td>2</td>\n",
       "      <td>low</td>\n",
       "      <td>M</td>\n",
       "      <td>59</td>\n",
       "      <td>3088</td>\n",
       "      <td>1</td>\n",
       "    </tr>\n",
       "  </tbody>\n",
       "</table>\n",
       "</div>\n",
       "      <button class=\"colab-df-convert\" onclick=\"convertToInteractive('df-5ccfd8c0-6f3a-44b6-b093-e8e2ec656ea5')\"\n",
       "              title=\"Convert this dataframe to an interactive table.\"\n",
       "              style=\"display:none;\">\n",
       "        \n",
       "  <svg xmlns=\"http://www.w3.org/2000/svg\" height=\"24px\"viewBox=\"0 0 24 24\"\n",
       "       width=\"24px\">\n",
       "    <path d=\"M0 0h24v24H0V0z\" fill=\"none\"/>\n",
       "    <path d=\"M18.56 5.44l.94 2.06.94-2.06 2.06-.94-2.06-.94-.94-2.06-.94 2.06-2.06.94zm-11 1L8.5 8.5l.94-2.06 2.06-.94-2.06-.94L8.5 2.5l-.94 2.06-2.06.94zm10 10l.94 2.06.94-2.06 2.06-.94-2.06-.94-.94-2.06-.94 2.06-2.06.94z\"/><path d=\"M17.41 7.96l-1.37-1.37c-.4-.4-.92-.59-1.43-.59-.52 0-1.04.2-1.43.59L10.3 9.45l-7.72 7.72c-.78.78-.78 2.05 0 2.83L4 21.41c.39.39.9.59 1.41.59.51 0 1.02-.2 1.41-.59l7.78-7.78 2.81-2.81c.8-.78.8-2.07 0-2.86zM5.41 20L4 18.59l7.72-7.72 1.47 1.35L5.41 20z\"/>\n",
       "  </svg>\n",
       "      </button>\n",
       "      \n",
       "  <style>\n",
       "    .colab-df-container {\n",
       "      display:flex;\n",
       "      flex-wrap:wrap;\n",
       "      gap: 12px;\n",
       "    }\n",
       "\n",
       "    .colab-df-convert {\n",
       "      background-color: #E8F0FE;\n",
       "      border: none;\n",
       "      border-radius: 50%;\n",
       "      cursor: pointer;\n",
       "      display: none;\n",
       "      fill: #1967D2;\n",
       "      height: 32px;\n",
       "      padding: 0 0 0 0;\n",
       "      width: 32px;\n",
       "    }\n",
       "\n",
       "    .colab-df-convert:hover {\n",
       "      background-color: #E2EBFA;\n",
       "      box-shadow: 0px 1px 2px rgba(60, 64, 67, 0.3), 0px 1px 3px 1px rgba(60, 64, 67, 0.15);\n",
       "      fill: #174EA6;\n",
       "    }\n",
       "\n",
       "    [theme=dark] .colab-df-convert {\n",
       "      background-color: #3B4455;\n",
       "      fill: #D2E3FC;\n",
       "    }\n",
       "\n",
       "    [theme=dark] .colab-df-convert:hover {\n",
       "      background-color: #434B5C;\n",
       "      box-shadow: 0px 1px 3px 1px rgba(0, 0, 0, 0.15);\n",
       "      filter: drop-shadow(0px 1px 2px rgba(0, 0, 0, 0.3));\n",
       "      fill: #FFFFFF;\n",
       "    }\n",
       "  </style>\n",
       "\n",
       "      <script>\n",
       "        const buttonEl =\n",
       "          document.querySelector('#df-5ccfd8c0-6f3a-44b6-b093-e8e2ec656ea5 button.colab-df-convert');\n",
       "        buttonEl.style.display =\n",
       "          google.colab.kernel.accessAllowed ? 'block' : 'none';\n",
       "\n",
       "        async function convertToInteractive(key) {\n",
       "          const element = document.querySelector('#df-5ccfd8c0-6f3a-44b6-b093-e8e2ec656ea5');\n",
       "          const dataTable =\n",
       "            await google.colab.kernel.invokeFunction('convertToInteractive',\n",
       "                                                     [key], {});\n",
       "          if (!dataTable) return;\n",
       "\n",
       "          const docLinkHtml = 'Like what you see? Visit the ' +\n",
       "            '<a target=\"_blank\" href=https://colab.research.google.com/notebooks/data_table.ipynb>data table notebook</a>'\n",
       "            + ' to learn more about interactive tables.';\n",
       "          element.innerHTML = '';\n",
       "          dataTable['output_type'] = 'display_data';\n",
       "          await google.colab.output.renderOutput(dataTable, element);\n",
       "          const docLink = document.createElement('div');\n",
       "          docLink.innerHTML = docLinkHtml;\n",
       "          element.appendChild(docLink);\n",
       "        }\n",
       "      </script>\n",
       "    </div>\n",
       "  </div>\n",
       "  "
      ],
      "text/plain": [
       "   ID Warehouse_block Mode_of_Shipment  Customer_care_calls  Customer_rating  \\\n",
       "0   1               D           Flight                    4                2   \n",
       "1   2               F           Flight                    4                5   \n",
       "\n",
       "   Cost_of_the_Product  Prior_purchases Product_importance Gender  \\\n",
       "0                  177                3                low      F   \n",
       "1                  216                2                low      M   \n",
       "\n",
       "   Discount_offered  Weight_in_gms  Reached.on.Time_Y.N  \n",
       "0                44           1233                    1  \n",
       "1                59           3088                    1  "
      ]
     },
     "execution_count": 15,
     "metadata": {},
     "output_type": "execute_result"
    }
   ],
   "source": [
    "import pandas as pd\n",
    "data = pd.read_csv('https://raw.githubusercontent.com/Soyoung-Yoon/bigdata/main/1st_Train.csv')\n",
    "data.head(2)"
   ]
  },
  {
   "cell_type": "markdown",
   "metadata": {
    "id": "dd1RjXQBklQt"
   },
   "source": [
    "1개 연속형 변수, 1개 범주형 변수 (2개 범주)\n",
    "- 범주별로 연속형 변수의 평균 차이가 있는지 검정한다"
   ]
  },
  {
   "cell_type": "markdown",
   "metadata": {
    "id": "2FO4SFlw5Tya"
   },
   "source": [
    "**정규성을 만족하지 않는 경우 Wilcoxon rank sum test, Mann-Whitney U test를 사용하는 것이 좋습니다.  여기에서는 t-test를 사용했습니다.**\n",
    "**정규성을 만족하지 않는 경우 등분산성 검정의 경우 levene을 사용하는 것이 좋습니다.**"
   ]
  },
  {
   "cell_type": "code",
   "execution_count": null,
   "metadata": {
    "id": "dOX9QW4KkzoV"
   },
   "outputs": [],
   "source": [
    "# t-test\n",
    "# 연속형 변수 : 'Cost_of_the_Product', 'Weight_in_gms', 'Discount_offered'\n",
    "# 범주형 변수 : 'Reached.on.Time_Y.N'\n",
    "\n",
    "from scipy.stats import shapiro, kstest, bartlett\n",
    "from scipy.stats import ttest_ind\n",
    "\n",
    "# [1] 그룹 나누기\n",
    "\n",
    "\n",
    "\n",
    "# [2] 정규성, 등분산성 검정\n",
    "\n",
    "# [3] ttest_ind\n",
    "\n",
    "# [4] 결론\n"
   ]
  },
  {
   "cell_type": "code",
   "execution_count": null,
   "metadata": {
    "id": "GM6GHFFykA2_"
   },
   "outputs": [],
   "source": [
    "def my_ttest_ind(data, feature, target):\n",
    "    group0 = data.loc[data[target] == 0, feature]\n",
    "    group1 = data.loc[data[target] == 1, feature]\n",
    "    mean_g0, mean_g1 = group0.mean(), group1.mean()\n",
    "    print(f'{mean_g0:.4f}, {mean_g1:.4f}')\n",
    "    _, pvalue = ttest_ind(group0, group1)\n",
    "    print(f'ttest_ind - p-value:{pvalue:.4f}')\n",
    "    print('유의미' if pvalue < 0.05 else '의미가 없다')\n",
    "\n",
    "# 'Cost_of_the_Product', 'Weight_in_gms', 'Discount_offered'\n",
    "for feature in ['Cost_of_the_Product', 'Weight_in_gms', 'Discount_offered']:\n",
    "    print(feature)\n",
    "    my_ttest_ind(data, feature, 'Reached.on.Time_Y.N') "
   ]
  },
  {
   "cell_type": "markdown",
   "metadata": {
    "id": "XMzOwntaoQBB"
   },
   "source": [
    "#### 3-5.모평균에 관한 t-test\n",
    "A 회사에서 판매하는 모니터는 평균 5개 보다 적은 불량화소를 포함한다고 주장한다. 이 주장을 판단하기 위해서 데이터를 수집했으며, 주어진 데이터(data_02/defective.csv)에는 모니터 25개에서 조사한 불량화소 개수가 저장되어 있다. \n",
    "- 불량화소의 개수는 정규분포를 따른다고 할 때, 이 주장의 타당성 여부를 유의수준 5%에서 검정하여라\n",
    "- 𝑯_𝟎  : 𝝁≥𝟓, 𝑯_𝟏  : 𝝁<𝟓, defective_pixel :  불량화소 개수\n",
    "- (a) 불량화소의 표본 평균을 구하시오 (반올림하여 소수 둘째자리까지 계산)\n",
    "- (b) 위의 가설을 검정하기 위한 검정통계량을 입력하시오.(반올림하여 소수 넷째자리까지 계산)\n",
    "- (c) 위의 통계량에 대한 p-값을 구하여 입력하시오. (반올림하여 소수 넷째자리까지 계산)\n",
    "- (d) 유의수준 0.05 하에서 가설검정의 결과를 (채택/기각) 중 하나를 선택하여 입력하시오.\n",
    "\n"
   ]
  },
  {
   "cell_type": "code",
   "execution_count": null,
   "metadata": {
    "id": "Jf3jqjhnosLW"
   },
   "outputs": [],
   "source": [
    "# 귀무가설 : A 회사에서 판매하는 모니터의 불량화소 평균이 5개 보다 크거나 같다.\n",
    "# 대립가설 : A 회사에서 판매하는 모니터의 불량화소 평균이 5개 보다 적다.\n",
    "\n",
    "import pandas as pd\n",
    "from scipy.stats import ttest_1samp\n",
    "\n"
   ]
  },
  {
   "cell_type": "markdown",
   "metadata": {
    "id": "L9R1giT3oudo"
   },
   "source": [
    "#### 3-6.작업3유형 예시문제\n",
    "주어진 데이터(data_02/blood_pressure.csv)에는 고혈압 환자 120명의 치료 전후의 혈압이 저장되어 있다. 해당 치료가 효과가 있는지 (즉, 치료 후의 혈압이 감소했는지) 쌍체표본 t-검정(paired t-test)를 통해 답하고자 한다. 가설은 아래와 같다\n",
    "- 𝑯_𝟎  : 𝝁_𝒅≥𝟎, 𝑯_𝟏  : 𝝁_𝒅<𝟎  (𝝁_𝒅 : 치료 후 혈압 – 치료 전 혈압)의 평균\n",
    "- bp_before : 치료 전 혈압, bp_after : 치료 후 혈압\n",
    "- (a) ud의 표본 평균을 구하시오 (반올림하여 소수 둘째자리까지 계산)\n",
    "- (b) 위의 가설을 검정하기 위한 검정통계량을 입력하시오.(반올림하여 소수 넷째자리까지 계산)\n",
    "- (c) 위의 통계량에 대한 p-값을 구하여 입력하시오. (반올림하여 소수 넷째자리까지 계산)\n",
    "- (d) 유의수준 0.05 하에서 가설검정의 결과를 (채택/기각) 중 하나를 선택하여 입력하시오.\n"
   ]
  },
  {
   "cell_type": "code",
   "execution_count": null,
   "metadata": {
    "id": "05SNZ_Lko82v"
   },
   "outputs": [],
   "source": [
    "import pandas as pd\n",
    "from scipy.stats import ttest_rel\n",
    "\n",
    "# 귀무가설: 치료 후 혈압과 치료 전 혈압의 차가 0보다 크거나 같다.\n",
    "# 대립가설: 치료 후 혈압과 치료 전 혈압의 차가 0보다 작다\n",
    "# 귀무가설: 치료 후 혈압이 치료 전 혈압보다 크거나 같다.\n",
    "# 대립가설: 치료 후 혈압이 치료 전 혈압보다 작다\n"
   ]
  },
  {
   "cell_type": "markdown",
   "metadata": {
    "id": "mQgLG3DE9DqM"
   },
   "source": [
    "### 4.ANOVA(분산 분석)\n",
    "- t-test는 1개 또는 2개의 집단에 대해 평균 검정\n",
    "- 독립변수 – 범주형, 종속변수 – 연속형으로 하는, 3개 이상의 집단 평균을 비교하는 모수 추론 방법\n",
    "- \"집단간분산\" /\"집단내분산\"    기반의 F 분포를 이용해 가설을 검정하며 정규성, 등분산성, 독립성을 가정함\n",
    "- \"집단 간 분산\"과 \"집단 내 분산\"을 이용해 분석하는 방법이어서 \"분산분석\"이라고 함\n",
    "- 귀무가설 기각 시 구체적인 차이를 파악하기 위해, 사후 검정(Post Hoc test)이 필요함\n",
    "- 등분산/동일 크기 표본 - Tukey검정, 등분산/다른 크기 표본 – Scheff 검정, Fisher’s LSD 검정 등이 있음\n"
   ]
  },
  {
   "cell_type": "code",
   "execution_count": null,
   "metadata": {
    "id": "hmmbxRCLuseB"
   },
   "outputs": [],
   "source": [
    "#출처 : https://partrita.github.io/posts/ANOVA-python/\n",
    "#https://github.com/thomas-haslwanter/statsintro_python/blob/master/ipynb/8_anovaOneway.ipynb\n",
    "#https://ggbaker.ca/data-science/content/stats-tests.html    \n",
    "#https://lunch-box.tistory.com/76?category=873052"
   ]
  },
  {
   "cell_type": "markdown",
   "metadata": {
    "id": "ktJVnUfnuseD"
   },
   "source": [
    "#### 4-1.분산의 중요성\n",
    "- 평균값은 동일하지만 분산 값이 다름으로 인해 전체적인 데이터의 모습이 완전히 달라 보임\n",
    "- 분산이 클수록 집단의 평균값의 차이가 무의미해진다\n",
    "- **집단간 평균값의 분산이 클수록, 집단내 분산이 작아질 수록 평균의 차이가 분명해진다.**\n"
   ]
  },
  {
   "cell_type": "code",
   "execution_count": null,
   "metadata": {
    "id": "tqaEbxDnuseC"
   },
   "outputs": [],
   "source": [
    "from scipy.stats import norm\n",
    "import pandas as pd\n",
    "import matplotlib.pyplot as plt\n",
    "import numpy as np\n",
    "\n",
    "def draw_graph(std):\n",
    "    centers = [5, 5.3, 4.5]\n",
    "    colors = 'brg'\n",
    "    size = 100\n",
    "    plt.figure(figsize=(4,3))\n",
    "    for i in range(3):\n",
    "        x = norm(centers[i], std).rvs(size)  \n",
    "        y = np.arange(size) + i*size     \n",
    "        plt.plot(x, y, '.', color=colors[i])\n",
    "    plt.show() "
   ]
  },
  {
   "cell_type": "code",
   "execution_count": null,
   "metadata": {
    "colab": {
     "base_uri": "https://localhost:8080/",
     "height": 291
    },
    "id": "aOlshwop6xM7",
    "outputId": "ce81d50a-33b4-4412-d518-36f99092879f"
   },
   "outputs": [
    {
     "data": {
      "image/png": "[encoded data removed]",
      "text/plain": [
       "<Figure size 400x300 with 1 Axes>"
      ]
     },
     "metadata": {},
     "output_type": "display_data"
    }
   ],
   "source": [
    "draw_graph(std=0.1)"
   ]
  },
  {
   "cell_type": "code",
   "execution_count": null,
   "metadata": {
    "colab": {
     "base_uri": "https://localhost:8080/",
     "height": 291
    },
    "id": "ufztcNxHuseD",
    "outputId": "6064b774-f8fe-44a1-c79f-6c54df963811"
   },
   "outputs": [
    {
     "data": {
      "image/png": "[encoded data removed]",
      "text/plain": [
       "<Figure size 400x300 with 1 Axes>"
      ]
     },
     "metadata": {},
     "output_type": "display_data"
    }
   ],
   "source": [
    "draw_graph(std=1)"
   ]
  },
  {
   "cell_type": "markdown",
   "metadata": {
    "id": "OkhMN0ZjuseF"
   },
   "source": [
    "#### 4-2.일원분산분석(One-way ANOVA)\n",
    "- 독립변수 : 범주형 1개, 종속변수 : 연속형\n",
    "- 독립변수의 변화가 종속변수에 미치는 영향을 보기 위해 사용\n",
    "- 가정 : 독립성, 정규성, 등분산성\n",
    "- scipy.stats이나 statsmodel 라이브러리를 이용"
   ]
  },
  {
   "cell_type": "code",
   "execution_count": null,
   "metadata": {
    "id": "Gzwipc4fuseF"
   },
   "outputs": [],
   "source": [
    "# 예시 데이터 설명\n",
    "# iris의 target이 0 : 'setosa', 1 : 'versicolor', 2: 'virginica' 품종\n",
    "# 독립변수 :'sepal length (cm)', 'sepal width (cm)', 'petal length (cm)', 'petal width (cm)'   \n",
    "# 품종별 sepal, petal의 length, width가 차이를 보일까?에 anova 사용"
   ]
  },
  {
   "cell_type": "code",
   "execution_count": null,
   "metadata": {
    "colab": {
     "base_uri": "https://localhost:8080/"
    },
    "id": "2YU8-q5bsMu7",
    "outputId": "5b17e09d-5eac-4cb6-8b41-6eacfc8d6550"
   },
   "outputs": [
    {
     "data": {
      "text/plain": [
       "Index(['sepal_length', 'sepal_width', 'petal_length', 'petal_width', 'target'], dtype='object')"
      ]
     },
     "execution_count": 15,
     "metadata": {},
     "output_type": "execute_result"
    }
   ],
   "source": [
    "# [1] 데이터 가져오기\n",
    "import pandas as pd\n",
    "\n",
    "iris = pd.read_csv('bigdata/iris_data.csv')\n",
    "iris.columns = ['sepal_length', 'sepal_width', \n",
    "                'petal_length', 'petal_width', 'target']\n",
    "iris.columns"
   ]
  },
  {
   "cell_type": "code",
   "execution_count": null,
   "metadata": {
    "id": "5bYE6EjS8DQt"
   },
   "outputs": [],
   "source": [
    "# [2-1] 품종별 각 변수의 평균 확인\n"
   ]
  },
  {
   "cell_type": "code",
   "execution_count": null,
   "metadata": {
    "id": "wD8EYCm20Ktu"
   },
   "outputs": [],
   "source": [
    "# [2-2] 특정 변수에 대한 품종별 평균 확인\n"
   ]
  },
  {
   "cell_type": "code",
   "execution_count": null,
   "metadata": {
    "id": "9PYHyDbNuseG"
   },
   "outputs": [],
   "source": [
    "# group 0, 1, 2의 평균의 차이가 있습니다\n",
    "# 평균값의 차이가 실제로 의미가 있는 차이인지 알고 싶다면,\n",
    "# 분산 분석을 통해 통계적 유의성을 알아 볼 수 있습니다."
   ]
  },
  {
   "cell_type": "code",
   "execution_count": null,
   "metadata": {
    "colab": {
     "base_uri": "https://localhost:8080/",
     "height": 295
    },
    "id": "74fdfpIvza_-",
    "outputId": "c9b14e1c-f453-4163-f168-8d5aabc57c8f"
   },
   "outputs": [
    {
     "data": {
      "image/png": "[encoded data removed]",
      "text/plain": [
       "<Figure size 400x300 with 1 Axes>"
      ]
     },
     "metadata": {},
     "output_type": "display_data"
    }
   ],
   "source": [
    "# [3] 그룹 추출 및 그래프로 확인\n",
    "import matplotlib.pyplot as plt\n",
    "\n",
    "data = [x[1].values for x in iris.groupby('target')[feature]]\n",
    "\n",
    "plt.figure(figsize=(4,3))\n",
    "plt.boxplot(data, labels=['setosa', 'versicolor', 'virginica'])\n",
    "plt.show()"
   ]
  },
  {
   "cell_type": "code",
   "execution_count": null,
   "metadata": {
    "id": "hLLOUSB2SBnF"
   },
   "outputs": [],
   "source": [
    "# [4] 정규성 확인 \n",
    "# p-value가 0.05 보다 큰 값일 때 정규성을 갖음\n",
    "from scipy.stats import shapiro\n"
   ]
  },
  {
   "cell_type": "code",
   "execution_count": null,
   "metadata": {
    "id": "sz3ZGC7huseH"
   },
   "outputs": [],
   "source": [
    "# [5] 등분산성 확인\n",
    "# p-value가 0.05 보다 큰 값일 때 등분산성을 갖음\n",
    "from scipy.stats import bartlett\n"
   ]
  },
  {
   "cell_type": "markdown",
   "metadata": {
    "id": "B9dxFmZ5useH"
   },
   "source": [
    "Scipy.stats 으로 일원분산분석\n",
    "- https://docs.scipy.org/doc/scipy/reference/generated/scipy.stats.f_oneway.html"
   ]
  },
  {
   "cell_type": "code",
   "execution_count": null,
   "metadata": {
    "colab": {
     "base_uri": "https://localhost:8080/"
    },
    "id": "jedFIUU3useH",
    "outputId": "a9e6ac1f-59b4-48d2-af93-8a743121fe77"
   },
   "outputs": [
    {
     "name": "stdout",
     "output_type": "stream",
     "text": [
      "iris 데이터의 일원분산분석 결과 : F=49.2, p=0.00000\n",
      "P-value 값이 충분히 작음으로 인해 그룹의 평균값이 통계적으로 유의미한 차이가 있음\n"
     ]
    }
   ],
   "source": [
    "# [6] 일원분산분석 - 1\n",
    "from scipy.stats import f_oneway\n"
   ]
  },
  {
   "cell_type": "markdown",
   "metadata": {
    "id": "Kppp46BClxl7"
   },
   "source": [
    "pandas 와 statsmodels 를 사용한 일원분산분석\n",
    "- https://www.statsmodels.org/dev/generated/statsmodels.formula.api.ols.html\n",
    "- https://www.statsmodels.org/stable/generated/statsmodels.stats.anova.anova_lm.html "
   ]
  },
  {
   "cell_type": "markdown",
   "metadata": {
    "id": "IJbGrpkfZKzY"
   },
   "source": [
    "ols (ordinary least squares) 모델 \n",
    "- 구하려는 해와 실제의 오차의 제곱의 합이 최소가 되는 해를 구하는 방법\n",
    "\n",
    "'value ~ C(treatment)' : '종속변수 ~ C(독립변수)'\n",
    "- value : 종속변수\n",
    "- treatment : 범주형(C)인 독립변수\n",
    "- df : degree of freedom\n",
    "- C(treatment)의 df : 그룹의 수 - 1\n",
    "- Residual의 df : 전체 데이터 수 - 그룹의 수"
   ]
  },
  {
   "cell_type": "code",
   "execution_count": null,
   "metadata": {
    "id": "eUT6XN6c4jCd"
   },
   "outputs": [],
   "source": [
    "# [7] 일원분산분석 - 2\n",
    "import statsmodels.api as sm\n",
    "from statsmodels.formula.api import ols\n",
    "\n"
   ]
  },
  {
   "cell_type": "code",
   "execution_count": null,
   "metadata": {
    "id": "dGafJOHkn14e"
   },
   "outputs": [],
   "source": [
    "# C(target)의 PR(=p-value) 값이 0.05 보다 작으므로 그룹의 \n",
    "# 평균값이 통계적으로 유의미하게 차이가 있음"
   ]
  },
  {
   "cell_type": "code",
   "execution_count": null,
   "metadata": {
    "id": "W-6C14168foO"
   },
   "outputs": [],
   "source": [
    "# 구체적으로 어떤 집단이 차이가 있는지 확인하려면 사후분석(post hoc tests)를 해야함\n",
    "# 유의미한 차이가 없는 경우는 사후분석할 필요가 없음"
   ]
  },
  {
   "cell_type": "markdown",
   "metadata": {
    "id": "mYH2Zb3fXphL"
   },
   "source": [
    "사후검정(Post Hoc Analysis)\n",
    "- ANOVA 분석의 문제 : 다르다는 것은 알지만, 어떤 집단간의 차이가 있는지는 알 수 없음\n",
    "- 사후검정을 통해 어떤 것에 차이가 있는지 찾을 수 있음\n",
    "- post hoc은 라틴어로 \"after this\"의 뜻\n",
    "- 사후검정의 종류\n",
    "    - Tukey's HSD (Honest Significant Difference) test : 정규분포, 등분산, 동일 표본 크기에서 가장 많이 사용\n",
    "    - Duncan’s new multiple range test (MRT) : 정규분포, 등분산, 동일 표본 크기에서 사용, 엄격하지 않은 기준으로 통계적 유의성을 도출하기 쉬움\n",
    "    - Scheffé’s Method : 가장 보수적이고 엄격한 사후검정방식 (동일하지 않은 표본 크기)\n",
    "- 민감도(sensitivity)로 구분 : Scheffe < Tukey < Duncan\n",
    "- Duncan의 방법은 작은 차이에도 차이가 난다라고 하지만, Scheffe의 방법은 확실한 차이가 나야만 비로소 차이가 있다라고 판단함\n"
   ]
  },
  {
   "cell_type": "markdown",
   "metadata": {
    "id": "tEZJ7bPRb80Y"
   },
   "source": [
    "Tukey test\n",
    "- statsmodels의 Tukey test를 하기 위해서는 DataFrame의 형태를 변경해야 함\n",
    "- 하나의 컬럼은 분류할수 있는 이름(label)을 다른 컬럼은 실험값(values)를 가지고 있는 형태이어야 함"
   ]
  },
  {
   "cell_type": "markdown",
   "metadata": {
    "id": "ji4HUy4ceqZL"
   },
   "source": [
    "[참고] scheffe : https://eunholand.tistory.com/96"
   ]
  },
  {
   "cell_type": "code",
   "execution_count": null,
   "metadata": {
    "id": "e965NtRWXXG5"
   },
   "outputs": [],
   "source": [
    "# [7] 사후 검정\n",
    "from statsmodels.stats.multicomp import pairwise_tukeyhsd\n"
   ]
  },
  {
   "cell_type": "code",
   "execution_count": null,
   "metadata": {
    "id": "8-IuMBmaYvXU"
   },
   "outputs": [],
   "source": [
    "# 결과를 보면 모든 그룹에서 통계적인 유의미성(P-value < 0.05)을 가질 수 있는것을 확인 할 수 있음"
   ]
  },
  {
   "cell_type": "code",
   "execution_count": null,
   "metadata": {
    "id": "TVARqg9ECc-Z"
   },
   "outputs": [],
   "source": [
    "# [8] 그림으로 확인하기\n"
   ]
  },
  {
   "cell_type": "code",
   "execution_count": null,
   "metadata": {
    "colab": {
     "base_uri": "https://localhost:8080/",
     "height": 390
    },
    "id": "3_FdrKC-Y51E",
    "outputId": "d44986b1-a8c8-4224-edf3-bbddd99010fa"
   },
   "outputs": [
    {
     "data": {
      "image/png": "[encoded data removed]",
      "text/plain": [
       "<Figure size 720x432 with 1 Axes>"
      ]
     },
     "metadata": {
      "needs_background": "light"
     },
     "output_type": "display_data"
    }
   ],
   "source": [
    "# 통계적 의미 갖지 않는 경우\n",
    "# 그림에서 볼 수 있듯이, 그룹 1.0과 2.0은 서로 겹치지 않는것을 볼 수 있음\n",
    "# 반면,1과 3, 2와 3은 겹치기 때문에 유의미한 차이가 없다고 할 수 있음"
   ]
  },
  {
   "cell_type": "code",
   "execution_count": null,
   "metadata": {
    "id": "zCeIUdOiZAK8"
   },
   "outputs": [],
   "source": [
    "##  23년 5월 31일 오전 - 여기까지"
   ]
  },
  {
   "cell_type": "markdown",
   "metadata": {
    "id": "70BQM8ljuseJ"
   },
   "source": [
    "#### 4-3.이원분산분석(Two-way ANOVA)\n",
    "- 독립변인의 수가 두 개일 때 집단 간 차이가 유의한지를 검증하는 데 사용\n",
    "- 상호작용효과(Interaction effect) 즉, 한 변수의 변화가 결과에 미치는 영향이 다른 변수의 수준에 따라 달라지는지를 확인하기 위해 사용됨\n",
    "- scipy.stats이나 statsmodels 라이브러리를 이용"
   ]
  },
  {
   "cell_type": "markdown",
   "metadata": {
    "id": "X_Ecebd0useJ"
   },
   "source": [
    "예제 데이터(altman_12_6) 설명\n",
    "태아의 머리 둘레 측정 데이터입니다. \n",
    "4명의 관측자가 3명의 태아를 대상으로 측정을 했습니다. \n",
    "이를 통해서 초음파로 태아의 머리 둘레측정 데이터가 재현성이 있는지를 조사하였습니다."
   ]
  },
  {
   "cell_type": "code",
   "execution_count": null,
   "metadata": {
    "colab": {
     "base_uri": "https://localhost:8080/",
     "height": 206
    },
    "id": "x9ZPrvEwuseK",
    "outputId": "812574dc-c76c-497b-9177-7c90ed55f53a"
   },
   "outputs": [
    {
     "data": {
      "text/html": [
       "\n",
       "  <div id=\"df-eeaa5fbf-d534-40b2-9ce7-4216905ea120\">\n",
       "    <div class=\"colab-df-container\">\n",
       "      <div>\n",
       "<style scoped>\n",
       "    .dataframe tbody tr th:only-of-type {\n",
       "        vertical-align: middle;\n",
       "    }\n",
       "\n",
       "    .dataframe tbody tr th {\n",
       "        vertical-align: top;\n",
       "    }\n",
       "\n",
       "    .dataframe thead th {\n",
       "        text-align: right;\n",
       "    }\n",
       "</style>\n",
       "<table border=\"1\" class=\"dataframe\">\n",
       "  <thead>\n",
       "    <tr style=\"text-align: right;\">\n",
       "      <th></th>\n",
       "      <th>head_size</th>\n",
       "      <th>fetus</th>\n",
       "      <th>observer</th>\n",
       "    </tr>\n",
       "  </thead>\n",
       "  <tbody>\n",
       "    <tr>\n",
       "      <th>31</th>\n",
       "      <td>12.7</td>\n",
       "      <td>3.0</td>\n",
       "      <td>3.0</td>\n",
       "    </tr>\n",
       "    <tr>\n",
       "      <th>32</th>\n",
       "      <td>12.5</td>\n",
       "      <td>3.0</td>\n",
       "      <td>3.0</td>\n",
       "    </tr>\n",
       "    <tr>\n",
       "      <th>33</th>\n",
       "      <td>13.0</td>\n",
       "      <td>3.0</td>\n",
       "      <td>4.0</td>\n",
       "    </tr>\n",
       "    <tr>\n",
       "      <th>34</th>\n",
       "      <td>12.9</td>\n",
       "      <td>3.0</td>\n",
       "      <td>4.0</td>\n",
       "    </tr>\n",
       "    <tr>\n",
       "      <th>35</th>\n",
       "      <td>13.8</td>\n",
       "      <td>3.0</td>\n",
       "      <td>4.0</td>\n",
       "    </tr>\n",
       "  </tbody>\n",
       "</table>\n",
       "</div>\n",
       "      <button class=\"colab-df-convert\" onclick=\"convertToInteractive('df-eeaa5fbf-d534-40b2-9ce7-4216905ea120')\"\n",
       "              title=\"Convert this dataframe to an interactive table.\"\n",
       "              style=\"display:none;\">\n",
       "        \n",
       "  <svg xmlns=\"http://www.w3.org/2000/svg\" height=\"24px\"viewBox=\"0 0 24 24\"\n",
       "       width=\"24px\">\n",
       "    <path d=\"M0 0h24v24H0V0z\" fill=\"none\"/>\n",
       "    <path d=\"M18.56 5.44l.94 2.06.94-2.06 2.06-.94-2.06-.94-.94-2.06-.94 2.06-2.06.94zm-11 1L8.5 8.5l.94-2.06 2.06-.94-2.06-.94L8.5 2.5l-.94 2.06-2.06.94zm10 10l.94 2.06.94-2.06 2.06-.94-2.06-.94-.94-2.06-.94 2.06-2.06.94z\"/><path d=\"M17.41 7.96l-1.37-1.37c-.4-.4-.92-.59-1.43-.59-.52 0-1.04.2-1.43.59L10.3 9.45l-7.72 7.72c-.78.78-.78 2.05 0 2.83L4 21.41c.39.39.9.59 1.41.59.51 0 1.02-.2 1.41-.59l7.78-7.78 2.81-2.81c.8-.78.8-2.07 0-2.86zM5.41 20L4 18.59l7.72-7.72 1.47 1.35L5.41 20z\"/>\n",
       "  </svg>\n",
       "      </button>\n",
       "      \n",
       "  <style>\n",
       "    .colab-df-container {\n",
       "      display:flex;\n",
       "      flex-wrap:wrap;\n",
       "      gap: 12px;\n",
       "    }\n",
       "\n",
       "    .colab-df-convert {\n",
       "      background-color: #E8F0FE;\n",
       "      border: none;\n",
       "      border-radius: 50%;\n",
       "      cursor: pointer;\n",
       "      display: none;\n",
       "      fill: #1967D2;\n",
       "      height: 32px;\n",
       "      padding: 0 0 0 0;\n",
       "      width: 32px;\n",
       "    }\n",
       "\n",
       "    .colab-df-convert:hover {\n",
       "      background-color: #E2EBFA;\n",
       "      box-shadow: 0px 1px 2px rgba(60, 64, 67, 0.3), 0px 1px 3px 1px rgba(60, 64, 67, 0.15);\n",
       "      fill: #174EA6;\n",
       "    }\n",
       "\n",
       "    [theme=dark] .colab-df-convert {\n",
       "      background-color: #3B4455;\n",
       "      fill: #D2E3FC;\n",
       "    }\n",
       "\n",
       "    [theme=dark] .colab-df-convert:hover {\n",
       "      background-color: #434B5C;\n",
       "      box-shadow: 0px 1px 3px 1px rgba(0, 0, 0, 0.15);\n",
       "      filter: drop-shadow(0px 1px 2px rgba(0, 0, 0, 0.3));\n",
       "      fill: #FFFFFF;\n",
       "    }\n",
       "  </style>\n",
       "\n",
       "      <script>\n",
       "        const buttonEl =\n",
       "          document.querySelector('#df-eeaa5fbf-d534-40b2-9ce7-4216905ea120 button.colab-df-convert');\n",
       "        buttonEl.style.display =\n",
       "          google.colab.kernel.accessAllowed ? 'block' : 'none';\n",
       "\n",
       "        async function convertToInteractive(key) {\n",
       "          const element = document.querySelector('#df-eeaa5fbf-d534-40b2-9ce7-4216905ea120');\n",
       "          const dataTable =\n",
       "            await google.colab.kernel.invokeFunction('convertToInteractive',\n",
       "                                                     [key], {});\n",
       "          if (!dataTable) return;\n",
       "\n",
       "          const docLinkHtml = 'Like what you see? Visit the ' +\n",
       "            '<a target=\"_blank\" href=https://colab.research.google.com/notebooks/data_table.ipynb>data table notebook</a>'\n",
       "            + ' to learn more about interactive tables.';\n",
       "          element.innerHTML = '';\n",
       "          dataTable['output_type'] = 'display_data';\n",
       "          await google.colab.output.renderOutput(dataTable, element);\n",
       "          const docLink = document.createElement('div');\n",
       "          docLink.innerHTML = docLinkHtml;\n",
       "          element.appendChild(docLink);\n",
       "        }\n",
       "      </script>\n",
       "    </div>\n",
       "  </div>\n",
       "  "
      ],
      "text/plain": [
       "    head_size  fetus  observer\n",
       "31       12.7    3.0       3.0\n",
       "32       12.5    3.0       3.0\n",
       "33       13.0    3.0       4.0\n",
       "34       12.9    3.0       4.0\n",
       "35       13.8    3.0       4.0"
      ]
     },
     "execution_count": 40,
     "metadata": {},
     "output_type": "execute_result"
    }
   ],
   "source": [
    "# [1] 데이터 가져오기\n",
    "import pandas as pd\n",
    "data = pd.read_csv('data_02/altman.csv')\n",
    "data.tail()"
   ]
  },
  {
   "cell_type": "code",
   "execution_count": null,
   "metadata": {
    "colab": {
     "base_uri": "https://localhost:8080/",
     "height": 478
    },
    "id": "V8zmnyd-Zd2r",
    "outputId": "ea87d0f8-1128-4240-e550-ab0c1bc2d701"
   },
   "outputs": [
    {
     "data": {
      "image/png": "[encoded data removed]",
      "text/plain": [
       "<Figure size 640x480 with 1 Axes>"
      ]
     },
     "metadata": {},
     "output_type": "display_data"
    }
   ],
   "source": [
    "# [2] 태아별 머리 둘레 plot 만들기\n",
    "import matplotlib.pyplot as plt\n",
    "data.boxplot(column='head_size', by='fetus' , grid=True)\n",
    "plt.title('')\n",
    "plt.show()"
   ]
  },
  {
   "cell_type": "code",
   "execution_count": null,
   "metadata": {
    "colab": {
     "base_uri": "https://localhost:8080/"
    },
    "id": "d5S4vrklZSHS",
    "outputId": "f6178016-3c43-41c1-f158-3f16369078dc"
   },
   "outputs": [
    {
     "data": {
      "text/plain": [
       "fetus\n",
       "1.0    13.991667\n",
       "2.0    19.691667\n",
       "3.0    12.825000\n",
       "Name: head_size, dtype: float64"
      ]
     },
     "execution_count": 43,
     "metadata": {},
     "output_type": "execute_result"
    }
   ],
   "source": [
    "# [3] 태아별 머리 둘레 평균을 구해봅니다\n",
    "data.groupby('fetus')['head_size'].mean()"
   ]
  },
  {
   "cell_type": "code",
   "execution_count": null,
   "metadata": {
    "id": "GkHaYxzKuseK"
   },
   "outputs": [],
   "source": [
    "# 그림에서 태아(fetus) 3명의 머리 둘레는 차이가 있어 보입니다.\n",
    "# 관측자와 태아에 상호작용 효과 여부를 Two way ANOVA를 통해 알아 보겠습니다"
   ]
  },
  {
   "cell_type": "code",
   "execution_count": null,
   "metadata": {
    "id": "rl1xhAS3dg1-"
   },
   "outputs": [],
   "source": [
    "# 귀무가설 : 관측자별 머리둘레 평균은 동일하다\n",
    "# 대립가설 : 관측자별 머리둘레 평균은 동일하지 않다 (차이가 있다)\n",
    "# 귀무가설 : 태아별 머리둘레 평균은 동일하다\n",
    "# 대립가설 : 태아별 머리둘레 평균은 동일하지 않다 (차이가 있다)\n",
    "# 귀무가설 : 머리둘레평균에 대해 측정자와 태아에 상호작용 효과가 없다\n",
    "# 대립가설 : 머리둘레평균에 대해 측정자와 태아에 상호작용 효과가 있다"
   ]
  },
  {
   "cell_type": "code",
   "execution_count": null,
   "metadata": {
    "id": "7q_-fTFSuseK"
   },
   "outputs": [],
   "source": [
    "from statsmodels.formula.api import ols\n",
    "from statsmodels.stats.anova import anova_lm\n",
    "\n"
   ]
  },
  {
   "cell_type": "code",
   "execution_count": null,
   "metadata": {
    "id": "mOXIDzX5useL"
   },
   "outputs": [],
   "source": [
    "# C(fetus):C(observer)의 P-value 가 0.05 이상 입니다, \n",
    "# 따라서 귀무가설을 기각할 수 없고. \n",
    "# 머리둘레평균에 대해 측정자와 태아에 상호작용 효과가 없다\n"
   ]
  }
 ],
 "metadata": {
  "colab": {
   "provenance": []
  },
  "kernelspec": {
   "display_name": "Python 3 (ipykernel)",
   "language": "python",
   "name": "python3"
  },
  "language_info": {
   "codemirror_mode": {
    "name": "ipython",
    "version": 3
   },
   "file_extension": ".py",
   "mimetype": "text/x-python",
   "name": "python",
   "nbconvert_exporter": "python",
   "pygments_lexer": "ipython3",
   "version": "3.8.16"
  }
 },
 "nbformat": 4,
 "nbformat_minor": 4
}
