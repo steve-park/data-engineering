{
 "cells": [
  {
   "cell_type": "markdown",
   "metadata": {
    "id": "kN_DRunuZKlt"
   },
   "source": [
    "모수 검정"
   ]
  },
  {
   "cell_type": "markdown",
   "metadata": {
    "id": "cdO8QKD0u4Jb"
   },
   "source": [
    "### 0.데이터 다운로드"
   ]
  },
  {
   "cell_type": "code",
   "execution_count": 1,
   "metadata": {
    "id": "nVpvRR95uyJu",
    "tags": []
   },
   "outputs": [
    {
     "name": "stdout",
     "output_type": "stream",
     "text": [
      "fatal: destination path 'data_02' already exists and is not an empty directory.\n"
     ]
    }
   ],
   "source": [
    "!git clone https://github.com/Soyoung-Yoon/data_02"
   ]
  },
  {
   "cell_type": "code",
   "execution_count": 2,
   "metadata": {
    "id": "Upacl9mEstst",
    "tags": []
   },
   "outputs": [
    {
     "name": "stdout",
     "output_type": "stream",
     "text": [
      "fatal: destination path 'bigdata' already exists and is not an empty directory.\n"
     ]
    }
   ],
   "source": [
    "!git clone https://github.com/Soyoung-Yoon/bigdata"
   ]
  },
  {
   "cell_type": "code",
   "execution_count": 3,
   "metadata": {
    "colab": {
     "base_uri": "https://localhost:8080/",
     "height": 36
    },
    "id": "jvmFbdE7SMYe",
    "outputId": "4cf9e198-5d98-4ad7-c9a9-f5ee1eed37e1",
    "tags": []
   },
   "outputs": [
    {
     "data": {
      "text/plain": [
       "'1.10.1'"
      ]
     },
     "execution_count": 3,
     "metadata": {},
     "output_type": "execute_result"
    }
   ],
   "source": [
    "import scipy\n",
    "scipy.__version__"
   ]
  },
  {
   "cell_type": "code",
   "execution_count": null,
   "metadata": {
    "id": "p7LvxMqtSO6l"
   },
   "outputs": [],
   "source": [
    "!pip install scipy==1.6.0"
   ]
  },
  {
   "cell_type": "markdown",
   "metadata": {
    "id": "6T2v1_TUMChI"
   },
   "source": [
    "### 1.정규성 검정(Normality Test)\n",
    "- 귀무가설 - 데이터셋이 정규분포를 따른다\n",
    "- 대립가설 - 데이터셋이 정규분포를 따르지 않는다\n",
    "- 유의수준 0.05 인 경우 : p-value > 0.05, 정규성이 보장된다고 할 수 있다\n",
    "- 검정통계량 < 임계값, 정규성이 보장된다고 할 수 있다"
   ]
  },
  {
   "cell_type": "code",
   "execution_count": 1,
   "metadata": {
    "colab": {
     "base_uri": "https://localhost:8080/"
    },
    "id": "GPyFlteNMGU2",
    "outputId": "bd5ccc41-4142-4667-8643-860b18e6d176",
    "tags": []
   },
   "outputs": [
    {
     "name": "stdout",
     "output_type": "stream",
     "text": [
      "<class 'pandas.core.frame.DataFrame'>\n",
      "RangeIndex: 20 entries, 0 to 19\n",
      "Data columns (total 3 columns):\n",
      " #   Column    Non-Null Count  Dtype\n",
      "---  ------    --------------  -----\n",
      " 0   stime20s  20 non-null     int64\n",
      " 1   stime40s  20 non-null     int64\n",
      " 2   ID        20 non-null     int64\n",
      "dtypes: int64(3)\n",
      "memory usage: 608.0 bytes\n"
     ]
    }
   ],
   "source": [
    "import pandas as pd\n",
    "import numpy as np\n",
    "data = pd.read_csv('./data_02/sleepage.csv')\n",
    "data.info()"
   ]
  },
  {
   "cell_type": "code",
   "execution_count": 2,
   "metadata": {
    "tags": []
   },
   "outputs": [
    {
     "data": {
      "text/plain": [
       "(20, 3)"
      ]
     },
     "execution_count": 2,
     "metadata": {},
     "output_type": "execute_result"
    }
   ],
   "source": [
    "data.shape"
   ]
  },
  {
   "cell_type": "code",
   "execution_count": 3,
   "metadata": {
    "tags": []
   },
   "outputs": [
    {
     "data": {
      "text/html": [
       "<div>\n",
       "<style scoped>\n",
       "    .dataframe tbody tr th:only-of-type {\n",
       "        vertical-align: middle;\n",
       "    }\n",
       "\n",
       "    .dataframe tbody tr th {\n",
       "        vertical-align: top;\n",
       "    }\n",
       "\n",
       "    .dataframe thead th {\n",
       "        text-align: right;\n",
       "    }\n",
       "</style>\n",
       "<table border=\"1\" class=\"dataframe\">\n",
       "  <thead>\n",
       "    <tr style=\"text-align: right;\">\n",
       "      <th></th>\n",
       "      <th>stime20s</th>\n",
       "      <th>stime40s</th>\n",
       "      <th>ID</th>\n",
       "    </tr>\n",
       "  </thead>\n",
       "  <tbody>\n",
       "    <tr>\n",
       "      <th>0</th>\n",
       "      <td>4</td>\n",
       "      <td>5</td>\n",
       "      <td>1</td>\n",
       "    </tr>\n",
       "    <tr>\n",
       "      <th>1</th>\n",
       "      <td>4</td>\n",
       "      <td>5</td>\n",
       "      <td>2</td>\n",
       "    </tr>\n",
       "  </tbody>\n",
       "</table>\n",
       "</div>"
      ],
      "text/plain": [
       "   stime20s  stime40s  ID\n",
       "0         4         5   1\n",
       "1         4         5   2"
      ]
     },
     "execution_count": 3,
     "metadata": {},
     "output_type": "execute_result"
    }
   ],
   "source": [
    "data.head(2)"
   ]
  },
  {
   "cell_type": "code",
   "execution_count": 14,
   "metadata": {
    "id": "qJRAcpFONC5G",
    "tags": []
   },
   "outputs": [],
   "source": [
    "# 그룹을 나누어 저장함\n",
    "stime20s = data['stime20s']\n",
    "stime40s = data['stime40s']"
   ]
  },
  {
   "cell_type": "code",
   "execution_count": 15,
   "metadata": {
    "id": "FsF__FeLMe-G",
    "tags": []
   },
   "outputs": [
    {
     "name": "stdout",
     "output_type": "stream",
     "text": [
      "[shapiro-wilk] 20s statistics= 0.9239, p-value= 0.1180 -> H₀채택\n",
      "[shapiro-wilk] 40s statistics= 0.9239, p-value= 0.1180 -> H₀채택\n"
     ]
    }
   ],
   "source": [
    "# 정규성 검정 - 1 shapiro wilks test \n",
    "from scipy.stats import shapiro\n",
    "\n",
    "for name, stime in zip(['20s', '40s'], [stime20s, stime20s]):\n",
    "    s, pvalue = shapiro(stime)\n",
    "    print(f'[shapiro-wilk] {name} statistics= {s:,.4f}, p-value= {pvalue:,.4f} -> {\"H₀기각\" if pvalue < 0.05 else \"H₀채택\"}')"
   ]
  },
  {
   "cell_type": "code",
   "execution_count": 17,
   "metadata": {
    "id": "9Ken1r_LSwIP",
    "tags": []
   },
   "outputs": [
    {
     "name": "stdout",
     "output_type": "stream",
     "text": [
      "[kstest] 20s statistics= 0.9987, p-value= 0.0000 -> H₀기각\n",
      "[kstest] 40s statistics= 0.9987, p-value= 0.0000 -> H₀기각\n"
     ]
    }
   ],
   "source": [
    "# 정규성 검정 - 2 kstest(kolmogorov-smirnov test)\n",
    "# 두 개의 데이터가 같은 분포인지 아닌지 검정\n",
    "# 귀무가설 : 두집단의 분포가 같다\n",
    "# 대립가설 : 두집단의 분포가 다르다\n",
    "from scipy.stats import kstest\n",
    "\n",
    "for name, stime in zip(['20s', '40s'], [stime20s, stime20s]):\n",
    "    s, pvalue = kstest(stime, 'norm')\n",
    "    print(f'[kstest] {name} statistics= {s:,.4f}, p-value= {pvalue:,.4f} -> {\"H₀기각\" if pvalue < 0.05 else \"H₀채택\"}')"
   ]
  },
  {
   "cell_type": "code",
   "execution_count": 22,
   "metadata": {
    "id": "a2F8wNyjMf91",
    "tags": []
   },
   "outputs": [
    {
     "name": "stdout",
     "output_type": "stream",
     "text": [
      "[normaltest] 20s statistics= 1.1732, p-value= 0.5562 -> H₀채택\n",
      "[normaltest] 40s statistics= 1.1732, p-value= 0.5562 -> H₀채택\n"
     ]
    }
   ],
   "source": [
    "# 정규성 검정 - 3 normaltest  (20개 이상의 데이터 필요)  # 20개입니다!\n",
    "from scipy.stats import normaltest\n",
    "\n",
    "for name, stime in zip(['20s', '40s'], [stime20s, stime20s]):\n",
    "    s, pvalue = normaltest(stime)\n",
    "    print(f'[normaltest] {name} statistics= {s:,.4f}, p-value= {pvalue:,.4f} -> {\"H₀기각\" if pvalue < 0.05 else \"H₀채택\"}')"
   ]
  },
  {
   "cell_type": "code",
   "execution_count": 30,
   "metadata": {
    "id": "U0IFfC0oMf0l",
    "tags": []
   },
   "outputs": [
    {
     "name": "stdout",
     "output_type": "stream",
     "text": [
      "[anderson] 20s result= 0.5601097602856164 [0.506 0.577 0.692 0.807 0.96 ] [15.  10.   5.   2.5  1. ]\n",
      "[anderson] 40s result= 0.5601097602856164 [0.506 0.577 0.692 0.807 0.96 ] [15.  10.   5.   2.5  1. ]\n"
     ]
    }
   ],
   "source": [
    "# 정규성 검정 - 4 anderson darling test\n",
    "# 검정통계량 < 임계값, 정규성이 보장된다고 할 수 있다\n",
    "from scipy.stats import anderson\n",
    "\n",
    "for name, stime in zip(['20s', '40s'], [stime20s, stime20s]):\n",
    "    r = anderson(stime)\n",
    "    print(f'[anderson] {name} result=', *r)"
   ]
  },
  {
   "cell_type": "markdown",
   "metadata": {
    "id": "PYt8ggPLsgTD"
   },
   "source": [
    "### 2.등분산성 검정\n",
    "- burtlett : 데이터셋의 크기가 서로 다른 2개 이상의 집단 사용 가능\n",
    "- levene, fligner : 정규성을 충족하지 않는 비모수 데이터에 대해서도 사용가능 (중앙을 median으로 설정)"
   ]
  },
  {
   "cell_type": "markdown",
   "metadata": {
    "id": "civoanb81g02"
   },
   "source": [
    "#### 2-1.iris 데이터\n",
    "- 등분산 검정 - 3가지 방법으로 실행 후, pvalue 확인"
   ]
  },
  {
   "cell_type": "code",
   "execution_count": 31,
   "metadata": {
    "colab": {
     "base_uri": "https://localhost:8080/"
    },
    "id": "zdF8tZQK0JU2",
    "outputId": "c8ec5b55-7572-4d3b-b5db-77d017be57b1",
    "tags": []
   },
   "outputs": [
    {
     "data": {
      "text/html": [
       "<div>\n",
       "<style scoped>\n",
       "    .dataframe tbody tr th:only-of-type {\n",
       "        vertical-align: middle;\n",
       "    }\n",
       "\n",
       "    .dataframe tbody tr th {\n",
       "        vertical-align: top;\n",
       "    }\n",
       "\n",
       "    .dataframe thead th {\n",
       "        text-align: right;\n",
       "    }\n",
       "</style>\n",
       "<table border=\"1\" class=\"dataframe\">\n",
       "  <thead>\n",
       "    <tr style=\"text-align: right;\">\n",
       "      <th></th>\n",
       "      <th>sepal_length</th>\n",
       "      <th>sepal_width</th>\n",
       "      <th>petal_length</th>\n",
       "      <th>petal_width</th>\n",
       "      <th>species</th>\n",
       "    </tr>\n",
       "  </thead>\n",
       "  <tbody>\n",
       "    <tr>\n",
       "      <th>0</th>\n",
       "      <td>5.1</td>\n",
       "      <td>3.5</td>\n",
       "      <td>1.4</td>\n",
       "      <td>0.2</td>\n",
       "      <td>setosa</td>\n",
       "    </tr>\n",
       "    <tr>\n",
       "      <th>1</th>\n",
       "      <td>4.9</td>\n",
       "      <td>3.0</td>\n",
       "      <td>1.4</td>\n",
       "      <td>0.2</td>\n",
       "      <td>setosa</td>\n",
       "    </tr>\n",
       "  </tbody>\n",
       "</table>\n",
       "</div>"
      ],
      "text/plain": [
       "   sepal_length  sepal_width  petal_length  petal_width species\n",
       "0           5.1          3.5           1.4          0.2  setosa\n",
       "1           4.9          3.0           1.4          0.2  setosa"
      ]
     },
     "execution_count": 31,
     "metadata": {},
     "output_type": "execute_result"
    }
   ],
   "source": [
    "# 파일 읽어와 내용 확인\n",
    "import seaborn as sns\n",
    "\n",
    "iris = sns.load_dataset('iris')\n",
    "iris.head(2)"
   ]
  },
  {
   "cell_type": "code",
   "execution_count": 32,
   "metadata": {
    "tags": []
   },
   "outputs": [
    {
     "name": "stdout",
     "output_type": "stream",
     "text": [
      "<class 'pandas.core.frame.DataFrame'>\n",
      "RangeIndex: 150 entries, 0 to 149\n",
      "Data columns (total 5 columns):\n",
      " #   Column        Non-Null Count  Dtype  \n",
      "---  ------        --------------  -----  \n",
      " 0   sepal_length  150 non-null    float64\n",
      " 1   sepal_width   150 non-null    float64\n",
      " 2   petal_length  150 non-null    float64\n",
      " 3   petal_width   150 non-null    float64\n",
      " 4   species       150 non-null    object \n",
      "dtypes: float64(4), object(1)\n",
      "memory usage: 6.0+ KB\n"
     ]
    }
   ],
   "source": [
    "iris.info()"
   ]
  },
  {
   "cell_type": "code",
   "execution_count": 33,
   "metadata": {
    "id": "6eEYpKVX--p1",
    "tags": []
   },
   "outputs": [
    {
     "data": {
      "text/plain": [
       "species\n",
       "setosa        5.006\n",
       "versicolor    5.936\n",
       "virginica     6.588\n",
       "Name: sepal_length, dtype: float64"
      ]
     },
     "execution_count": 33,
     "metadata": {},
     "output_type": "execute_result"
    }
   ],
   "source": [
    "# [1] target='sepal_length', 품종별 그룹을 나누어 저장함\n",
    "feature = 'sepal_length'\n",
    "iris.groupby('species')[feature].mean()"
   ]
  },
  {
   "cell_type": "code",
   "execution_count": 38,
   "metadata": {
    "tags": []
   },
   "outputs": [
    {
     "name": "stdout",
     "output_type": "stream",
     "text": [
      "name= setosa\n",
      "  [shapiro] setosa statistics= 0.9777, p-value= 0.4595 -> H₀채택\n",
      "  [kstest] setosa statistics= 1.0000, p-value= 0.0000 -> H₀기각\n",
      "  [normaltest] setosa statistics= 0.1942, p-value= 0.9075 -> H₀채택\n",
      "  [anderson] setosa result=  0.4079859754958619 [0.538 0.613 0.736 0.858 1.021] [15.  10.   5.   2.5  1. ]\n",
      "name= versicolor\n",
      "  [shapiro] versicolor statistics= 0.9778, p-value= 0.4647 -> H₀채택\n",
      "  [kstest] versicolor statistics= 1.0000, p-value= 0.0000 -> H₀기각\n",
      "  [normaltest] versicolor statistics= 0.8414, p-value= 0.6566 -> H₀채택\n",
      "  [anderson] versicolor result=  0.360841172628966 [0.538 0.613 0.736 0.858 1.021] [15.  10.   5.   2.5  1. ]\n",
      "name= virginica\n",
      "  [shapiro] virginica statistics= 0.9712, p-value= 0.2583 -> H₀채택\n",
      "  [kstest] virginica statistics= 1.0000, p-value= 0.0000 -> H₀기각\n",
      "  [normaltest] virginica statistics= 0.2089, p-value= 0.9008 -> H₀채택\n",
      "  [anderson] virginica result=  0.5516407106574732 [0.538 0.613 0.736 0.858 1.021] [15.  10.   5.   2.5  1. ]\n"
     ]
    }
   ],
   "source": [
    "data = [x for x in iris.groupby('species')[feature]]\n",
    "\n",
    "from scipy.stats import shapiro, kstest, normaltest, anderson\n",
    "\n",
    "for name, x in data:\n",
    "    print('name=', name)\n",
    "    s, pvalue = shapiro(x)\n",
    "    print(f'  [shapiro] {name} statistics= {s:,.4f}, p-value= {pvalue:,.4f} -> {\"H₀기각\" if pvalue < 0.05 else \"H₀채택\"}')\n",
    "    \n",
    "    s, pvalue = kstest(x, 'norm')\n",
    "    print(f'  [kstest] {name} statistics= {s:,.4f}, p-value= {pvalue:,.4f} -> {\"H₀기각\" if pvalue < 0.05 else \"H₀채택\"}')    \n",
    "    \n",
    "    s, pvalue = normaltest(x)\n",
    "    print(f'  [normaltest] {name} statistics= {s:,.4f}, p-value= {pvalue:,.4f} -> {\"H₀기각\" if pvalue < 0.05 else \"H₀채택\"}')    \n",
    "    \n",
    "    r = anderson(x)\n",
    "    print(f'  [anderson] {name} result= ', *r)    "
   ]
  },
  {
   "cell_type": "code",
   "execution_count": 40,
   "metadata": {
    "id": "JT8FV88evuK1",
    "tags": []
   },
   "outputs": [
    {
     "name": "stdout",
     "output_type": "stream",
     "text": [
      "[bartlett] statistics= 16.0057, p-value= 0.0003 -> H₀기각\n"
     ]
    }
   ],
   "source": [
    "# [2] burtlett 검정\n",
    "data = [x.values for _, x in iris.groupby('species')[feature]]\n",
    "\n",
    "from scipy.stats import bartlett\n",
    "\n",
    "s, pvalue = bartlett(*data)\n",
    "print(f'[bartlett] statistics= {s:,.4f}, p-value= {pvalue:,.4f} -> {\"H₀기각\" if pvalue < 0.05 else \"H₀채택\"}')"
   ]
  },
  {
   "cell_type": "code",
   "execution_count": 41,
   "metadata": {
    "id": "boXVp8f6v4L3",
    "tags": []
   },
   "outputs": [
    {
     "name": "stdout",
     "output_type": "stream",
     "text": [
      "[levene] statistics= 7.3811, p-value= 0.0009 -> H₀기각\n"
     ]
    }
   ],
   "source": [
    "# [3] levene 의 center는 'mean'으로 지정\n",
    "from scipy.stats import levene\n",
    "\n",
    "s, pvalue = levene(*data, center='mean')\n",
    "print(f'[levene] statistics= {s:,.4f}, p-value= {pvalue:,.4f} -> {\"H₀기각\" if pvalue < 0.05 else \"H₀채택\"}')"
   ]
  },
  {
   "cell_type": "code",
   "execution_count": 43,
   "metadata": {
    "id": "Ntu2FrU5wKmo",
    "tags": []
   },
   "outputs": [
    {
     "name": "stdout",
     "output_type": "stream",
     "text": [
      "[fligner] statistics= 13.2561, p-value= 0.0013 -> H₀기각\n"
     ]
    }
   ],
   "source": [
    "# [4] fligner의 center는 'trimmed', proportiontocut=5% 지정\n",
    "from scipy.stats import fligner\n",
    "\n",
    "s, pvalue = fligner(*data, center='mean', proportiontocut=0.05)\n",
    "print(f'[fligner] statistics= {s:,.4f}, p-value= {pvalue:,.4f} -> {\"H₀기각\" if pvalue < 0.05 else \"H₀채택\"}')"
   ]
  },
  {
   "cell_type": "code",
   "execution_count": 55,
   "metadata": {
    "tags": []
   },
   "outputs": [
    {
     "name": "stdout",
     "output_type": "stream",
     "text": [
      "setosa     - var: 0.1242\n",
      "versicolor - var: 0.2664\n",
      "virginica  - var: 0.4043\n"
     ]
    }
   ],
   "source": [
    "data = [x for x in iris.groupby('species')[feature]]\n",
    "\n",
    "for name, d in data:\n",
    "    print(f'{name:10s} - var: {d.var():.4}')"
   ]
  },
  {
   "cell_type": "markdown",
   "metadata": {
    "id": "C2J_nvyP1DH6"
   },
   "source": [
    "#### 2-2.tips 데이터\n",
    "- 요일별 total_bill 의 등분산성 검정\n",
    "- levene의 median, trimmed 사용"
   ]
  },
  {
   "cell_type": "code",
   "execution_count": 56,
   "metadata": {
    "colab": {
     "base_uri": "https://localhost:8080/",
     "height": 143
    },
    "id": "nNEx4UsI0Zpa",
    "outputId": "baf12d18-fee3-4ce0-c590-b171f4e1ce17",
    "tags": []
   },
   "outputs": [
    {
     "data": {
      "text/html": [
       "<div>\n",
       "<style scoped>\n",
       "    .dataframe tbody tr th:only-of-type {\n",
       "        vertical-align: middle;\n",
       "    }\n",
       "\n",
       "    .dataframe tbody tr th {\n",
       "        vertical-align: top;\n",
       "    }\n",
       "\n",
       "    .dataframe thead th {\n",
       "        text-align: right;\n",
       "    }\n",
       "</style>\n",
       "<table border=\"1\" class=\"dataframe\">\n",
       "  <thead>\n",
       "    <tr style=\"text-align: right;\">\n",
       "      <th></th>\n",
       "      <th>total_bill</th>\n",
       "      <th>tip</th>\n",
       "      <th>sex</th>\n",
       "      <th>smoker</th>\n",
       "      <th>day</th>\n",
       "      <th>time</th>\n",
       "      <th>size</th>\n",
       "    </tr>\n",
       "  </thead>\n",
       "  <tbody>\n",
       "    <tr>\n",
       "      <th>0</th>\n",
       "      <td>16.99</td>\n",
       "      <td>1.01</td>\n",
       "      <td>Female</td>\n",
       "      <td>No</td>\n",
       "      <td>Sun</td>\n",
       "      <td>Dinner</td>\n",
       "      <td>2</td>\n",
       "    </tr>\n",
       "    <tr>\n",
       "      <th>1</th>\n",
       "      <td>10.34</td>\n",
       "      <td>1.66</td>\n",
       "      <td>Male</td>\n",
       "      <td>No</td>\n",
       "      <td>Sun</td>\n",
       "      <td>Dinner</td>\n",
       "      <td>3</td>\n",
       "    </tr>\n",
       "  </tbody>\n",
       "</table>\n",
       "</div>"
      ],
      "text/plain": [
       "   total_bill   tip     sex smoker  day    time  size\n",
       "0       16.99  1.01  Female     No  Sun  Dinner     2\n",
       "1       10.34  1.66    Male     No  Sun  Dinner     3"
      ]
     },
     "execution_count": 56,
     "metadata": {},
     "output_type": "execute_result"
    }
   ],
   "source": [
    "# 파일 읽어와 내용 확인\n",
    "import seaborn as sns\n",
    "\n",
    "tips = sns.load_dataset('tips')\n",
    "tips.head(2)"
   ]
  },
  {
   "cell_type": "code",
   "execution_count": 57,
   "metadata": {
    "tags": []
   },
   "outputs": [
    {
     "name": "stdout",
     "output_type": "stream",
     "text": [
      "<class 'pandas.core.frame.DataFrame'>\n",
      "RangeIndex: 244 entries, 0 to 243\n",
      "Data columns (total 7 columns):\n",
      " #   Column      Non-Null Count  Dtype   \n",
      "---  ------      --------------  -----   \n",
      " 0   total_bill  244 non-null    float64 \n",
      " 1   tip         244 non-null    float64 \n",
      " 2   sex         244 non-null    category\n",
      " 3   smoker      244 non-null    category\n",
      " 4   day         244 non-null    category\n",
      " 5   time        244 non-null    category\n",
      " 6   size        244 non-null    int64   \n",
      "dtypes: category(4), float64(2), int64(1)\n",
      "memory usage: 7.4 KB\n"
     ]
    }
   ],
   "source": [
    "tips.info()"
   ]
  },
  {
   "cell_type": "code",
   "execution_count": 62,
   "metadata": {
    "id": "SApLIDyh_t2l",
    "tags": []
   },
   "outputs": [
    {
     "name": "stdout",
     "output_type": "stream",
     "text": [
      "Thur - var: 62.1917\n",
      "Fri - var: 68.9342\n",
      "Sat - var: 89.8783\n",
      "Sun - var: 78.0064\n"
     ]
    }
   ],
   "source": [
    "# [1] target = 'total_bill', 요일별 그룹을 나누어 저장함\n",
    "feature = 'total_bill'\n",
    "data = [x for x in tips.groupby('day')[feature]]\n",
    "\n",
    "for name, x in data:\n",
    "    print(f'{name} - var: {x.var():,.4f}')"
   ]
  },
  {
   "cell_type": "code",
   "execution_count": 70,
   "metadata": {
    "id": "dgx-O2Gy0YCC",
    "tags": []
   },
   "outputs": [
    {
     "name": "stdout",
     "output_type": "stream",
     "text": [
      "Thur [shapiro] statistics= 0.8845, p-value= 0.0000 -> H₀기각\n",
      "Thur [norm] statistics= 1.0000, p-value= 0.0000 -> H₀기각\n",
      "Thur [normaltest] statistics= 19.4928, p-value= 0.0001 -> H₀기각\n",
      "Thur [anderson] result=  2.088183741281739 [0.544 0.62  0.744 0.868 1.032] [15.  10.   5.   2.5  1. ]\n",
      "------------------------------\n",
      "Fri [shapiro] statistics= 0.8958, p-value= 0.0409 -> H₀기각\n",
      "Fri [norm] statistics= 1.0000, p-value= 0.0000 -> H₀기각\n",
      "Fri [normaltest] statistics= 8.6025, p-value= 0.0136 -> H₀기각\n",
      "Fri [anderson] result=  0.7377797944888407 [0.505 0.575 0.69  0.804 0.957] [15.  10.   5.   2.5  1. ]\n",
      "------------------------------\n",
      "Sat [shapiro] statistics= 0.9035, p-value= 0.0000 -> H₀기각\n",
      "Sat [norm] statistics= 0.9989, p-value= 0.0000 -> H₀기각\n",
      "Sat [normaltest] statistics= 22.9748, p-value= 0.0000 -> H₀기각\n",
      "Sat [anderson] result=  2.453375268669518 [0.552 0.629 0.755 0.88  1.047] [15.  10.   5.   2.5  1. ]\n",
      "------------------------------\n",
      "Sun [shapiro] statistics= 0.9479, p-value= 0.0036 -> H₀기각\n",
      "Sun [norm] statistics= 1.0000, p-value= 0.0000 -> H₀기각\n",
      "Sun [normaltest] statistics= 8.7314, p-value= 0.0127 -> H₀기각\n",
      "Sun [anderson] result=  1.0986891852006408 [0.549 0.626 0.751 0.876 1.042] [15.  10.   5.   2.5  1. ]\n",
      "------------------------------\n",
      "[bartlett] statistics= 2.4618, p-value= 0.4822 -> H₀채택\n",
      "[levene] statistics= 0.6921, p-value= 0.5577 -> H₀채택\n"
     ]
    }
   ],
   "source": [
    "# [2] levene 의 center는 'median'으로 지정\n",
    "\n",
    "# 정규성 검정\n",
    "from scipy.stats import shapiro, kstest, normaltest, anderson\n",
    "\n",
    "for name, x in data:\n",
    "    s, pvalue = shapiro(x)\n",
    "    print(f'{name} [shapiro] statistics= {s:,.4f}, p-value= {pvalue:,.4f} -> {\"H₀기각\" if pvalue < 0.05 else \"H₀채택\"}')\n",
    "    s, pvalue = kstest(x, 'norm')\n",
    "    print(f'{name} [norm] statistics= {s:,.4f}, p-value= {pvalue:,.4f} -> {\"H₀기각\" if pvalue < 0.05 else \"H₀채택\"}')\n",
    "    s, pvalue = normaltest(x)\n",
    "    print(f'{name} [normaltest] statistics= {s:,.4f}, p-value= {pvalue:,.4f} -> {\"H₀기각\" if pvalue < 0.05 else \"H₀채택\"}')\n",
    "    r = anderson(x)\n",
    "    print(f'{name} [anderson] result= ', *r)\n",
    "    print('-' * 30)\n",
    "\n",
    "# 등분산성 검정\n",
    "values = [x[1].to_list() for x in data]\n",
    "\n",
    "from scipy.stats import bartlett, levene\n",
    "s, pvalue = bartlett(*values)\n",
    "print(f'[bartlett] statistics= {s:,.4f}, p-value= {pvalue:,.4f} -> {\"H₀기각\" if pvalue < 0.05 else \"H₀채택\"}')\n",
    "\n",
    "s, pvalue = levene(*values, center='mean')\n",
    "print(f'[levene] statistics= {s:,.4f}, p-value= {pvalue:,.4f} -> {\"H₀기각\" if pvalue < 0.05 else \"H₀채택\"}')"
   ]
  },
  {
   "cell_type": "code",
   "execution_count": 75,
   "metadata": {
    "id": "fKHrF0vV1zwp",
    "tags": []
   },
   "outputs": [
    {
     "name": "stdout",
     "output_type": "stream",
     "text": [
      "[fligner] statistics= 4.5325, p-value= 0.2094 -> H₀채택\n"
     ]
    }
   ],
   "source": [
    "# [3] fligner의 center는 'trimmed', proportiontocut=5% 지정\n",
    "from scipy.stats import fligner\n",
    "\n",
    "s, pvalue = fligner(*values, center='trimmed', proportiontocut=0.05)\n",
    "print(f'[fligner] statistics= {s:,.4f}, p-value= {pvalue:,.4f} -> {\"H₀기각\" if pvalue < 0.05 else \"H₀채택\"}')"
   ]
  },
  {
   "cell_type": "markdown",
   "metadata": {
    "id": "x33pqkcZDhrB"
   },
   "source": [
    "### 3.T 검정(평균 검정)"
   ]
  },
  {
   "cell_type": "markdown",
   "metadata": {
    "id": "16dAULRQHGYV"
   },
   "source": [
    "t-test 이해\n",
    "- 스튜던트 t-테스트(Student's t-test)라고도 하며, 검정 통계량이 귀무가설 하에서 t-분포를 따르는 통계적 가설 검정\n",
    "- 표본을 사용한 모평균 검정 및 두 데이터 세트(집단)의 모평균이 서로 유의하게 다른지 여부를 판별 할 수 있음\n",
    "- 검정통계량이 정규 분포를 따르며 모집단의 분산, 표준편차를 알지 못할 때 표본으로 부터 추정된 분산/표준편차를 사용해 검정함\n",
    "- t-test를 실시하기 위해서는 정규성 및 등분산성의 조건이 만족되어야 함\n"
   ]
  },
  {
   "cell_type": "markdown",
   "metadata": {
    "id": "bddKnaQVHGYb"
   },
   "source": [
    "#### 3-1.One sample t-test\n",
    "- stats.ttest_1samp 사용\n",
    "- 20대 평균 수면시간에 대한 one samle t-test\n",
    "- 유의수준은 5% 사용\n",
    "- 숫자는 반올림하여 소수점 아래 4번째 자리까지 표시"
   ]
  },
  {
   "cell_type": "code",
   "execution_count": 76,
   "metadata": {
    "colab": {
     "base_uri": "https://localhost:8080/",
     "height": 162
    },
    "id": "OtvO3SA8HGYb",
    "outputId": "2cc72015-3be7-4e67-d7e1-b903adb31c23",
    "tags": []
   },
   "outputs": [
    {
     "data": {
      "text/html": [
       "<div>\n",
       "<style scoped>\n",
       "    .dataframe tbody tr th:only-of-type {\n",
       "        vertical-align: middle;\n",
       "    }\n",
       "\n",
       "    .dataframe tbody tr th {\n",
       "        vertical-align: top;\n",
       "    }\n",
       "\n",
       "    .dataframe thead th {\n",
       "        text-align: right;\n",
       "    }\n",
       "</style>\n",
       "<table border=\"1\" class=\"dataframe\">\n",
       "  <thead>\n",
       "    <tr style=\"text-align: right;\">\n",
       "      <th></th>\n",
       "      <th>0</th>\n",
       "      <th>1</th>\n",
       "      <th>2</th>\n",
       "      <th>3</th>\n",
       "      <th>4</th>\n",
       "      <th>5</th>\n",
       "      <th>6</th>\n",
       "      <th>7</th>\n",
       "      <th>8</th>\n",
       "      <th>9</th>\n",
       "      <th>10</th>\n",
       "      <th>11</th>\n",
       "      <th>12</th>\n",
       "      <th>13</th>\n",
       "      <th>14</th>\n",
       "      <th>15</th>\n",
       "      <th>16</th>\n",
       "      <th>17</th>\n",
       "      <th>18</th>\n",
       "      <th>19</th>\n",
       "    </tr>\n",
       "  </thead>\n",
       "  <tbody>\n",
       "    <tr>\n",
       "      <th>stime20s</th>\n",
       "      <td>4</td>\n",
       "      <td>4</td>\n",
       "      <td>5</td>\n",
       "      <td>5</td>\n",
       "      <td>6</td>\n",
       "      <td>6</td>\n",
       "      <td>7</td>\n",
       "      <td>3</td>\n",
       "      <td>8</td>\n",
       "      <td>7</td>\n",
       "      <td>8</td>\n",
       "      <td>8</td>\n",
       "      <td>7</td>\n",
       "      <td>7</td>\n",
       "      <td>7</td>\n",
       "      <td>6</td>\n",
       "      <td>8</td>\n",
       "      <td>5</td>\n",
       "      <td>6</td>\n",
       "      <td>6</td>\n",
       "    </tr>\n",
       "    <tr>\n",
       "      <th>stime40s</th>\n",
       "      <td>5</td>\n",
       "      <td>5</td>\n",
       "      <td>6</td>\n",
       "      <td>7</td>\n",
       "      <td>6</td>\n",
       "      <td>7</td>\n",
       "      <td>7</td>\n",
       "      <td>5</td>\n",
       "      <td>5</td>\n",
       "      <td>6</td>\n",
       "      <td>8</td>\n",
       "      <td>7</td>\n",
       "      <td>6</td>\n",
       "      <td>6</td>\n",
       "      <td>8</td>\n",
       "      <td>7</td>\n",
       "      <td>7</td>\n",
       "      <td>6</td>\n",
       "      <td>5</td>\n",
       "      <td>8</td>\n",
       "    </tr>\n",
       "    <tr>\n",
       "      <th>ID</th>\n",
       "      <td>1</td>\n",
       "      <td>2</td>\n",
       "      <td>3</td>\n",
       "      <td>4</td>\n",
       "      <td>5</td>\n",
       "      <td>6</td>\n",
       "      <td>7</td>\n",
       "      <td>8</td>\n",
       "      <td>9</td>\n",
       "      <td>10</td>\n",
       "      <td>11</td>\n",
       "      <td>12</td>\n",
       "      <td>13</td>\n",
       "      <td>14</td>\n",
       "      <td>15</td>\n",
       "      <td>16</td>\n",
       "      <td>17</td>\n",
       "      <td>18</td>\n",
       "      <td>19</td>\n",
       "      <td>20</td>\n",
       "    </tr>\n",
       "  </tbody>\n",
       "</table>\n",
       "</div>"
      ],
      "text/plain": [
       "          0   1   2   3   4   5   6   7   8   9   10  11  12  13  14  15  16  \\\n",
       "stime20s   4   4   5   5   6   6   7   3   8   7   8   8   7   7   7   6   8   \n",
       "stime40s   5   5   6   7   6   7   7   5   5   6   8   7   6   6   8   7   7   \n",
       "ID         1   2   3   4   5   6   7   8   9  10  11  12  13  14  15  16  17   \n",
       "\n",
       "          17  18  19  \n",
       "stime20s   5   6   6  \n",
       "stime40s   6   5   8  \n",
       "ID        18  19  20  "
      ]
     },
     "execution_count": 76,
     "metadata": {},
     "output_type": "execute_result"
    }
   ],
   "source": [
    "# [1] 수면 시간 정보가 포함된 파일 불러오기\n",
    "import pandas as pd\n",
    "\n",
    "df = pd.read_csv('./data_02/sleepage.csv')\n",
    "df.T"
   ]
  },
  {
   "cell_type": "code",
   "execution_count": 79,
   "metadata": {
    "id": "bt9ohJNkHGYe",
    "tags": []
   },
   "outputs": [
    {
     "name": "stdout",
     "output_type": "stream",
     "text": [
      "stime20s [shaprio] statistics= 0.9239, p-value= 0.1180 -> H₀채택\n",
      "stime20s [kstest] statistics= 0.9987, p-value= 0.0000 -> H₀기각\n",
      "stime20s [normaltest] statistics= 1.1732, p-value= 0.5562 -> H₀채택\n",
      "stime20s [anderson] result=  0.5601097602856164 [0.506 0.577 0.692 0.807 0.96 ] [15.  10.   5.   2.5  1. ]\n",
      "stime40s [shaprio] statistics= 0.8810, p-value= 0.0184 -> H₀기각\n",
      "stime40s [kstest] statistics= 1.0000, p-value= 0.0000 -> H₀기각\n",
      "stime40s [normaltest] statistics= 2.0450, p-value= 0.3597 -> H₀채택\n",
      "stime40s [anderson] result=  0.8918678522034931 [0.506 0.577 0.692 0.807 0.96 ] [15.  10.   5.   2.5  1. ]\n"
     ]
    }
   ],
   "source": [
    "# [1] 20대의 수면시간에 대해 정규성 검정\n",
    "# one sample이므로 등분산 검정 필요 없음\n",
    "from scipy.stats import shapiro, kstest, normaltest, anderson\n",
    "\n",
    "for feature in ['stime20s', 'stime40s']:\n",
    "    s, pvalue = shapiro(df[feature])\n",
    "    print(f'{feature} [shaprio] statistics= {s:,.4f}, p-value= {pvalue:,.4f} -> {\"H₀기각\" if pvalue < 0.05 else \"H₀채택\"}')\n",
    "    s, pvalue = kstest(df[feature], 'norm')\n",
    "    print(f'{feature} [kstest] statistics= {s:,.4f}, p-value= {pvalue:,.4f} -> {\"H₀기각\" if pvalue < 0.05 else \"H₀채택\"}')\n",
    "    s, pvalue = normaltest(df[feature])\n",
    "    print(f'{feature} [normaltest] statistics= {s:,.4f}, p-value= {pvalue:,.4f} -> {\"H₀기각\" if pvalue < 0.05 else \"H₀채택\"}')\n",
    "    r = anderson(df[feature])\n",
    "    print(f'{feature} [anderson] result= ', *r)    "
   ]
  },
  {
   "cell_type": "code",
   "execution_count": 80,
   "metadata": {
    "id": "ZSKdyaWZHGYd",
    "tags": []
   },
   "outputs": [
    {
     "name": "stdout",
     "output_type": "stream",
     "text": [
      "stime20s : 6.1500\n",
      "stime40s : 6.3500\n"
     ]
    }
   ],
   "source": [
    "# [2] 20대의 수면시간에 대해 평균 구하기\n",
    "for feature in ['stime20s', 'stime40s']:\n",
    "    print(f'{feature} : {df[feature].mean():,.4f}')"
   ]
  },
  {
   "cell_type": "markdown",
   "metadata": {
    "id": "O8QR0KUADvA-"
   },
   "source": [
    "가설 1.alternative='two-sided'\n",
    "- 귀무가설 - 20대 수면시간의 평균은 6시간이다.\n",
    "- 대립가설 - 20대 수면시간의 평균은 6시간이 아니다."
   ]
  },
  {
   "cell_type": "code",
   "execution_count": 84,
   "metadata": {
    "id": "mG684uqUHGYe",
    "tags": []
   },
   "outputs": [],
   "source": [
    "# [3] One Sample t-test 수행\n",
    "from scipy.stats import ttest_1samp\n",
    "\n",
    "tvalue, pvalue = ttest_1samp(df['stime20s'], popmean=6, alternative='two-sided')"
   ]
  },
  {
   "cell_type": "code",
   "execution_count": 85,
   "metadata": {
    "id": "CI-Ar1FMHGYf",
    "tags": []
   },
   "outputs": [
    {
     "name": "stdout",
     "output_type": "stream",
     "text": [
      "[t-test] t-value= 2.0450, p-value= 0.6513 -> H₀채택\n"
     ]
    }
   ],
   "source": [
    "# [4] 가설 결과\n",
    "print(f'[t-test] t-value= {s:,.4f}, p-value= {pvalue:,.4f} -> {\"H₀기각\" if pvalue < 0.05 else \"H₀채택\"}')"
   ]
  },
  {
   "cell_type": "markdown",
   "metadata": {
    "id": "ZlfH0fKcDnJj"
   },
   "source": [
    "가설-2. alternative='less'\n",
    "- 귀무가설 - 20대 수면시간의 평균은 6시간 보다 크거나 같다.\n",
    "- 대립가설 - 20대 수면시간의 평균은 6시간 보다 작다"
   ]
  },
  {
   "cell_type": "code",
   "execution_count": 86,
   "metadata": {
    "id": "c0D0Ri7XHGYg",
    "tags": []
   },
   "outputs": [],
   "source": [
    "# [5] One Sample t-test 수행\n",
    "tvalue, pvalue = ttest_1samp(df['stime20s'], popmean=6, alternative='less')"
   ]
  },
  {
   "cell_type": "code",
   "execution_count": 87,
   "metadata": {
    "id": "OSpQ3fII6Z2y",
    "tags": []
   },
   "outputs": [
    {
     "name": "stdout",
     "output_type": "stream",
     "text": [
      "[t-test] t-value= 2.0450, p-value= 0.6743 -> H₀채택\n"
     ]
    }
   ],
   "source": [
    "# [6] 가설 결과\n",
    "print(f'[t-test] t-value= {s:,.4f}, p-value= {pvalue:,.4f} -> {\"H₀기각\" if pvalue < 0.05 else \"H₀채택\"}')"
   ]
  },
  {
   "cell_type": "markdown",
   "metadata": {
    "id": "LJXAfvvS6zHP"
   },
   "source": [
    "가설-3. alternative='greater'\n",
    "- 귀무가설 - 20대 수면시간의 평균은 6시간 보다 작거나 같다.\n",
    "- 대립가설 - 20대 수면시간의 평균은 6시간 보다 크다"
   ]
  },
  {
   "cell_type": "code",
   "execution_count": 88,
   "metadata": {
    "id": "KXnOqbIs66yj",
    "tags": []
   },
   "outputs": [],
   "source": [
    "# [7] One Sample t-test 수행\n",
    "tvalue, pvalue = ttest_1samp(df['stime20s'], popmean=6, alternative='greater')"
   ]
  },
  {
   "cell_type": "code",
   "execution_count": 89,
   "metadata": {
    "id": "OnPgfmO_HGYg",
    "tags": []
   },
   "outputs": [
    {
     "name": "stdout",
     "output_type": "stream",
     "text": [
      "[t-test] t-value= 2.0450, p-value= 0.3257 -> H₀채택\n"
     ]
    }
   ],
   "source": [
    "# [8] 가설 결과\n",
    "print(f'[t-test] t-value= {s:,.4f}, p-value= {pvalue:,.4f} -> {\"H₀기각\" if pvalue < 0.05 else \"H₀채택\"}')"
   ]
  },
  {
   "cell_type": "code",
   "execution_count": 98,
   "metadata": {
    "tags": []
   },
   "outputs": [
    {
     "name": "stdout",
     "output_type": "stream",
     "text": [
      "0.4772239815137708\n",
      "0.3266657715705602\n"
     ]
    }
   ],
   "source": [
    "xbar = df['stime20s'].mean()\n",
    "s = df['stime20s'].var()\n",
    "n = len(df)\n",
    "\n",
    "print(s/n**0.5)\n",
    "print(sem(df['stime20s'].to_list()))"
   ]
  },
  {
   "cell_type": "code",
   "execution_count": 102,
   "metadata": {
    "id": "dUs1gm6474mJ",
    "tags": []
   },
   "outputs": [
    {
     "name": "stdout",
     "output_type": "stream",
     "text": [
      "95% confidencel interval : 5.4663 ~ 6.8337\n"
     ]
    }
   ],
   "source": [
    "# [9] 95% 신뢰구간 구하기\n",
    "from scipy.stats import t, sem\n",
    "\n",
    "ci1, ci2 = t.interval(confidence=0.95, loc=df['stime20s'].mean(), scale=sem(df['stime20s']), df=len(df) - 1)\n",
    "print(f'95% confidencel interval : {ci1:,.4f} ~ {ci2:,.4f}')"
   ]
  },
  {
   "cell_type": "markdown",
   "metadata": {
    "id": "kg6nm09IHGYi"
   },
   "source": [
    "#### 3-2.Two-sample t-test\n",
    "- 두집단 A, B의 평균 차이가 유의미한지 확인하는 용도\n",
    "- 20대와 40대의 수면 시간은 같다\n",
    "- stats.test_ind : (two INDependent sample이라 해서 ttest_ind )\n",
    "- https://docs.scipy.org/doc/scipy/reference/generated/scipy.stats.ttest_ind.html\n",
    "- t값과 two-tail p-value를 반환함\n",
    "- ttest_ind(a, b, equal_var=False) : Welch's t-test 수행 (등분산이 아닌 경우)"
   ]
  },
  {
   "cell_type": "code",
   "execution_count": 106,
   "metadata": {
    "colab": {
     "base_uri": "https://localhost:8080/",
     "height": 162
    },
    "id": "n2Pa1MnBHGYi",
    "outputId": "318f6f30-def0-434f-a7c6-41463fa98d2b",
    "tags": []
   },
   "outputs": [
    {
     "data": {
      "text/html": [
       "<div>\n",
       "<style scoped>\n",
       "    .dataframe tbody tr th:only-of-type {\n",
       "        vertical-align: middle;\n",
       "    }\n",
       "\n",
       "    .dataframe tbody tr th {\n",
       "        vertical-align: top;\n",
       "    }\n",
       "\n",
       "    .dataframe thead th {\n",
       "        text-align: right;\n",
       "    }\n",
       "</style>\n",
       "<table border=\"1\" class=\"dataframe\">\n",
       "  <thead>\n",
       "    <tr style=\"text-align: right;\">\n",
       "      <th></th>\n",
       "      <th>0</th>\n",
       "      <th>1</th>\n",
       "      <th>2</th>\n",
       "      <th>3</th>\n",
       "      <th>4</th>\n",
       "      <th>5</th>\n",
       "      <th>6</th>\n",
       "      <th>7</th>\n",
       "      <th>8</th>\n",
       "      <th>9</th>\n",
       "      <th>10</th>\n",
       "      <th>11</th>\n",
       "      <th>12</th>\n",
       "      <th>13</th>\n",
       "      <th>14</th>\n",
       "      <th>15</th>\n",
       "      <th>16</th>\n",
       "      <th>17</th>\n",
       "      <th>18</th>\n",
       "      <th>19</th>\n",
       "    </tr>\n",
       "  </thead>\n",
       "  <tbody>\n",
       "    <tr>\n",
       "      <th>stime20s</th>\n",
       "      <td>4</td>\n",
       "      <td>4</td>\n",
       "      <td>5</td>\n",
       "      <td>5</td>\n",
       "      <td>6</td>\n",
       "      <td>6</td>\n",
       "      <td>7</td>\n",
       "      <td>3</td>\n",
       "      <td>8</td>\n",
       "      <td>7</td>\n",
       "      <td>8</td>\n",
       "      <td>8</td>\n",
       "      <td>7</td>\n",
       "      <td>7</td>\n",
       "      <td>7</td>\n",
       "      <td>6</td>\n",
       "      <td>8</td>\n",
       "      <td>5</td>\n",
       "      <td>6</td>\n",
       "      <td>6</td>\n",
       "    </tr>\n",
       "    <tr>\n",
       "      <th>stime40s</th>\n",
       "      <td>5</td>\n",
       "      <td>5</td>\n",
       "      <td>6</td>\n",
       "      <td>7</td>\n",
       "      <td>6</td>\n",
       "      <td>7</td>\n",
       "      <td>7</td>\n",
       "      <td>5</td>\n",
       "      <td>5</td>\n",
       "      <td>6</td>\n",
       "      <td>8</td>\n",
       "      <td>7</td>\n",
       "      <td>6</td>\n",
       "      <td>6</td>\n",
       "      <td>8</td>\n",
       "      <td>7</td>\n",
       "      <td>7</td>\n",
       "      <td>6</td>\n",
       "      <td>5</td>\n",
       "      <td>8</td>\n",
       "    </tr>\n",
       "    <tr>\n",
       "      <th>ID</th>\n",
       "      <td>1</td>\n",
       "      <td>2</td>\n",
       "      <td>3</td>\n",
       "      <td>4</td>\n",
       "      <td>5</td>\n",
       "      <td>6</td>\n",
       "      <td>7</td>\n",
       "      <td>8</td>\n",
       "      <td>9</td>\n",
       "      <td>10</td>\n",
       "      <td>11</td>\n",
       "      <td>12</td>\n",
       "      <td>13</td>\n",
       "      <td>14</td>\n",
       "      <td>15</td>\n",
       "      <td>16</td>\n",
       "      <td>17</td>\n",
       "      <td>18</td>\n",
       "      <td>19</td>\n",
       "      <td>20</td>\n",
       "    </tr>\n",
       "  </tbody>\n",
       "</table>\n",
       "</div>"
      ],
      "text/plain": [
       "          0   1   2   3   4   5   6   7   8   9   10  11  12  13  14  15  16  \\\n",
       "stime20s   4   4   5   5   6   6   7   3   8   7   8   8   7   7   7   6   8   \n",
       "stime40s   5   5   6   7   6   7   7   5   5   6   8   7   6   6   8   7   7   \n",
       "ID         1   2   3   4   5   6   7   8   9  10  11  12  13  14  15  16  17   \n",
       "\n",
       "          17  18  19  \n",
       "stime20s   5   6   6  \n",
       "stime40s   6   5   8  \n",
       "ID        18  19  20  "
      ]
     },
     "execution_count": 106,
     "metadata": {},
     "output_type": "execute_result"
    }
   ],
   "source": [
    "# [1] 수면 시간 정보가 포함된 파일 불러오기\n",
    "import pandas as pd\n",
    "df = pd.read_csv('./data_02/sleepage.csv')\n",
    "df.T"
   ]
  },
  {
   "cell_type": "code",
   "execution_count": 107,
   "metadata": {
    "id": "APlw91hbHGYi",
    "tags": []
   },
   "outputs": [],
   "source": [
    "# [2] 그룹 분할하기\n",
    "features = ['stime20s', 'stime40s']"
   ]
  },
  {
   "cell_type": "code",
   "execution_count": 109,
   "metadata": {
    "id": "jG-0pIteHGYj",
    "tags": []
   },
   "outputs": [
    {
     "name": "stdout",
     "output_type": "stream",
     "text": [
      "stime20s - 6.1500\n",
      "stime40s - 6.3500\n"
     ]
    }
   ],
   "source": [
    "# [3] 그룹별 평균 구하기\n",
    "for feature in features:\n",
    "    print(f'{feature} - {df[feature].mean():,.4f}')"
   ]
  },
  {
   "cell_type": "code",
   "execution_count": 118,
   "metadata": {
    "id": "3G163IkrV6EJ",
    "tags": []
   },
   "outputs": [
    {
     "name": "stdout",
     "output_type": "stream",
     "text": [
      "stime20s [shaprio] statistics= 0.9239, p-value= 0.1180 -> H₀채택\n",
      "stime20s [kstest] statistics= 0.9987, p-value= 0.0000 -> H₀기각\n",
      "stime20s [normaltest] statistics= 1.1732, p-value= 0.5562 -> H₀채택\n",
      "stime20s [anderson] result=  0.5601097602856164 [0.506 0.577 0.692 0.807 0.96 ] [15.  10.   5.   2.5  1. ]\n",
      "------------------------------\n",
      "stime40s [shaprio] statistics= 0.8810, p-value= 0.0184 -> H₀기각\n",
      "stime40s [kstest] statistics= 1.0000, p-value= 0.0000 -> H₀기각\n",
      "stime40s [normaltest] statistics= 2.0450, p-value= 0.3597 -> H₀채택\n",
      "stime40s [anderson] result=  0.8918678522034931 [0.506 0.577 0.692 0.807 0.96 ] [15.  10.   5.   2.5  1. ]\n",
      "------------------------------\n",
      "[bartlett] statistics= 2.0981, p-value= 0.1475 -> H₀채택\n",
      "[levene] statistics= 1.6288, p-value= 0.2096 -> H₀채택\n",
      "[fligner] statistics= 1.3493, p-value= 0.2454 -> H₀채택\n"
     ]
    }
   ],
   "source": [
    "# [4] 등분산 검정 - 3가지 방법으로 실행 후, pvalue 확인\n",
    "# 정규성 검정\n",
    "from scipy.stats import shapiro, kstest, normaltest, anderson\n",
    "from scipy.stats import bartlett, levene, fligner\n",
    "\n",
    "for feature in ['stime20s', 'stime40s']:\n",
    "    s, pvalue = shapiro(df[feature])\n",
    "    print(f'{feature} [shaprio] statistics= {s:,.4f}, p-value= {pvalue:,.4f} -> {\"H₀기각\" if pvalue < 0.05 else \"H₀채택\"}')\n",
    "    s, pvalue = kstest(df[feature], 'norm')\n",
    "    print(f'{feature} [kstest] statistics= {s:,.4f}, p-value= {pvalue:,.4f} -> {\"H₀기각\" if pvalue < 0.05 else \"H₀채택\"}')\n",
    "    s, pvalue = normaltest(df[feature])\n",
    "    print(f'{feature} [normaltest] statistics= {s:,.4f}, p-value= {pvalue:,.4f} -> {\"H₀기각\" if pvalue < 0.05 else \"H₀채택\"}')\n",
    "    r = anderson(df[feature])\n",
    "    print(f'{feature} [anderson] result= ', *r)    \n",
    "    print('-' * 30)\n",
    "    \n",
    "# 등분산성 검정\n",
    "data = [df[feature].to_list() for feature in ['stime20s', 'stime40s']]\n",
    "\n",
    "s, pvalue = bartlett(*data)\n",
    "print(f'[bartlett] statistics= {s:,.4f}, p-value= {pvalue:,.4f} -> {\"H₀기각\" if pvalue < 0.05 else \"H₀채택\"}')\n",
    "s, pvalue = levene(*data, center='mean')\n",
    "print(f'[levene] statistics= {s:,.4f}, p-value= {pvalue:,.4f} -> {\"H₀기각\" if pvalue < 0.05 else \"H₀채택\"}')\n",
    "s, pvalue = fligner(*data, center='trimmed', proportiontocut=0.05)\n",
    "print(f'[fligner] statistics= {s:,.4f}, p-value= {pvalue:,.4f} -> {\"H₀기각\" if pvalue < 0.05 else \"H₀채택\"}')"
   ]
  },
  {
   "cell_type": "code",
   "execution_count": null,
   "metadata": {
    "id": "ItcZqrBfHGYk"
   },
   "outputs": [],
   "source": [
    "# 등분산 가정을 만족하지 않으면(equal_var=False) Welch's T-test를 수행한다."
   ]
  },
  {
   "cell_type": "markdown",
   "metadata": {
    "id": "TtEQZPSR9v7_"
   },
   "source": [
    "가설1. alternative='two-sided'\n",
    "- 귀무가설 : groupA의 평균 - groupB의 평균이 0과 같다\n",
    "- 대립가설 : groupA의 평균 - groupB의 평균이 0과 같지 않다\n",
    "- 귀무가설 : groupA, groupB의 평균은 동일하다\n",
    "- 대립가설 : groupA, groupB의 평균은 동일하지 않다"
   ]
  },
  {
   "cell_type": "code",
   "execution_count": 120,
   "metadata": {
    "id": "veAHtnMWHGYk",
    "tags": []
   },
   "outputs": [
    {
     "name": "stdout",
     "output_type": "stream",
     "text": [
      "[t-test] t-value= 1.3493, p-value= 0.6208 -> H₀채택\n"
     ]
    }
   ],
   "source": [
    "# [5] two-sample t-test 수행\n",
    "from scipy.stats import ttest_ind\n",
    "\n",
    "tvalue, pvalue = ttest_ind(df['stime20s'], df['stime40s'], alternative='two-sided')\n",
    "\n",
    "# [6] 가설 결과\n",
    "print(f'[t-test] t-value= {s:,.4f}, p-value= {pvalue:,.4f} -> {\"H₀기각\" if pvalue < 0.05 else \"H₀채택\"}')"
   ]
  },
  {
   "cell_type": "code",
   "execution_count": 124,
   "metadata": {
    "id": "553_7jRqHGYm",
    "tags": []
   },
   "outputs": [
    {
     "name": "stdout",
     "output_type": "stream",
     "text": [
      "95% confidence interval 5.4663 ~ 6.8337\n"
     ]
    }
   ],
   "source": [
    "# [6] 95% confidence interval\n",
    "from scipy.stats import t, sem\n",
    "\n",
    "ci_s, ci_e = t.interval(confidence=0.95, loc=df['stime20s'].mean(), scale=sem(df['stime20s']), df=len(df['stime20s'])-1)\n",
    "print(f'95% confidence interval {ci_s:,.4f} ~ {ci_e:,.4f}')"
   ]
  },
  {
   "cell_type": "markdown",
   "metadata": {
    "id": "vjip5-ZJDom9"
   },
   "source": [
    "가설2. alternative='less'\n",
    "- 귀무가설 : groupA의 평균 - groupB의 평균이 0보다 크거나 같다\n",
    "- 대립가설 : groupA의 평균 - groupB의 평균이 0보다 작다\n",
    "- 귀무가설 : groupA의 평균이 groupB의 평균보다 크거나 같다\n",
    "- 대립가설 : groupA의 평균이 groupB의 평균보다 작다"
   ]
  },
  {
   "cell_type": "code",
   "execution_count": 131,
   "metadata": {
    "id": "CV15CIzlDnfb",
    "tags": []
   },
   "outputs": [],
   "source": [
    "# [7] two-sample t-test 수행\n",
    "from scipy.stats import ttest_ind\n",
    "\n",
    "tvalue, pvalue = ttest_ind(df['stime20s'], df['stime40s'], alternative='less')"
   ]
  },
  {
   "cell_type": "code",
   "execution_count": 132,
   "metadata": {
    "id": "SR2uSH_yFykq",
    "tags": []
   },
   "outputs": [
    {
     "name": "stdout",
     "output_type": "stream",
     "text": [
      "[t-test] t-value= 1.3493, p-value= 0.3104 -> H₀채택\n"
     ]
    }
   ],
   "source": [
    "# [8] 가설 결과\n",
    "print(f'[t-test] t-value= {s:,.4f}, p-value= {pvalue:,.4f} -> {\"H₀기각\" if pvalue < 0.05 else \"H₀채택\"}')"
   ]
  },
  {
   "cell_type": "markdown",
   "metadata": {
    "id": "H5sDZaJVG9ui"
   },
   "source": [
    "가설3. alternative='greater'\n",
    "- 귀무가설 : groupA의 평균 - groupB의 평균이 0보다 작거나 같다\n",
    "- 대립가설 : groupA의 평균 - groupB의 평균이 0보다 크다\n",
    "- 귀무가설 : groupA의 평균이 groupB의 평균보다 작거나 같다\n",
    "- 대립가설 : groupA의 평균이 groupB의 평균보다 크다"
   ]
  },
  {
   "cell_type": "code",
   "execution_count": 129,
   "metadata": {
    "id": "UoqlmdbPHIoU",
    "tags": []
   },
   "outputs": [],
   "source": [
    "# [9] two-sample t-test 수행\n",
    "from scipy.stats import ttest_ind\n",
    "\n",
    "tvalue, pvalue = ttest_ind(df['stime20s'], df['stime40s'], alternative='greater')"
   ]
  },
  {
   "cell_type": "code",
   "execution_count": 130,
   "metadata": {
    "id": "7KyshE1yHNZu",
    "tags": []
   },
   "outputs": [
    {
     "name": "stdout",
     "output_type": "stream",
     "text": [
      "[t-test] t-value= 1.3493, p-value= 0.6896 -> H₀채택\n"
     ]
    }
   ],
   "source": [
    "# [10] 가설 결과\n",
    "print(f'[t-test] t-value= {s:,.4f}, p-value= {pvalue:,.4f} -> {\"H₀기각\" if pvalue < 0.05 else \"H₀채택\"}')"
   ]
  },
  {
   "cell_type": "markdown",
   "metadata": {
    "id": "NZPSVBEcHGYm"
   },
   "source": [
    "#### 3-3.Paired t-test \n",
    "- 동일한 특성을 같는 두집단 A, B의 평균 차이가 유의미한지 확인하는 용도\n",
    "- 처치 전/후 비교(효과 검정), 한 집단에 대해 두 가지 방법에 대한 차이 검정 등에 사용\n",
    "- 등분산성 검정은 하지 않아도 됨\n",
    "- 두 약 투여에 따른 추가 수면 시간 평균의 차이가 있는가?\n",
    "- stats.ttest_rel: (two RELated samples)"
   ]
  },
  {
   "cell_type": "code",
   "execution_count": 133,
   "metadata": {
    "colab": {
     "base_uri": "https://localhost:8080/",
     "height": 162
    },
    "id": "Vobl6wqgHGYm",
    "outputId": "6205ceff-9cf8-4bda-b333-a6f76aa6c9a8",
    "tags": []
   },
   "outputs": [
    {
     "data": {
      "text/html": [
       "<div>\n",
       "<style scoped>\n",
       "    .dataframe tbody tr th:only-of-type {\n",
       "        vertical-align: middle;\n",
       "    }\n",
       "\n",
       "    .dataframe tbody tr th {\n",
       "        vertical-align: top;\n",
       "    }\n",
       "\n",
       "    .dataframe thead th {\n",
       "        text-align: right;\n",
       "    }\n",
       "</style>\n",
       "<table border=\"1\" class=\"dataframe\">\n",
       "  <thead>\n",
       "    <tr style=\"text-align: right;\">\n",
       "      <th></th>\n",
       "      <th>0</th>\n",
       "      <th>1</th>\n",
       "      <th>2</th>\n",
       "      <th>3</th>\n",
       "      <th>4</th>\n",
       "      <th>5</th>\n",
       "      <th>6</th>\n",
       "      <th>7</th>\n",
       "      <th>8</th>\n",
       "      <th>9</th>\n",
       "      <th>10</th>\n",
       "      <th>11</th>\n",
       "      <th>12</th>\n",
       "      <th>13</th>\n",
       "      <th>14</th>\n",
       "      <th>15</th>\n",
       "      <th>16</th>\n",
       "      <th>17</th>\n",
       "      <th>18</th>\n",
       "      <th>19</th>\n",
       "    </tr>\n",
       "  </thead>\n",
       "  <tbody>\n",
       "    <tr>\n",
       "      <th>extra</th>\n",
       "      <td>0.7</td>\n",
       "      <td>-1.6</td>\n",
       "      <td>-0.2</td>\n",
       "      <td>-1.2</td>\n",
       "      <td>-0.1</td>\n",
       "      <td>3.4</td>\n",
       "      <td>3.7</td>\n",
       "      <td>0.8</td>\n",
       "      <td>0.0</td>\n",
       "      <td>2.0</td>\n",
       "      <td>1.9</td>\n",
       "      <td>0.8</td>\n",
       "      <td>1.1</td>\n",
       "      <td>0.1</td>\n",
       "      <td>-0.1</td>\n",
       "      <td>4.4</td>\n",
       "      <td>5.5</td>\n",
       "      <td>1.6</td>\n",
       "      <td>4.6</td>\n",
       "      <td>3.4</td>\n",
       "    </tr>\n",
       "    <tr>\n",
       "      <th>group</th>\n",
       "      <td>1.0</td>\n",
       "      <td>1.0</td>\n",
       "      <td>1.0</td>\n",
       "      <td>1.0</td>\n",
       "      <td>1.0</td>\n",
       "      <td>1.0</td>\n",
       "      <td>1.0</td>\n",
       "      <td>1.0</td>\n",
       "      <td>1.0</td>\n",
       "      <td>1.0</td>\n",
       "      <td>2.0</td>\n",
       "      <td>2.0</td>\n",
       "      <td>2.0</td>\n",
       "      <td>2.0</td>\n",
       "      <td>2.0</td>\n",
       "      <td>2.0</td>\n",
       "      <td>2.0</td>\n",
       "      <td>2.0</td>\n",
       "      <td>2.0</td>\n",
       "      <td>2.0</td>\n",
       "    </tr>\n",
       "    <tr>\n",
       "      <th>ID</th>\n",
       "      <td>1.0</td>\n",
       "      <td>2.0</td>\n",
       "      <td>3.0</td>\n",
       "      <td>4.0</td>\n",
       "      <td>5.0</td>\n",
       "      <td>6.0</td>\n",
       "      <td>7.0</td>\n",
       "      <td>8.0</td>\n",
       "      <td>9.0</td>\n",
       "      <td>10.0</td>\n",
       "      <td>1.0</td>\n",
       "      <td>2.0</td>\n",
       "      <td>3.0</td>\n",
       "      <td>4.0</td>\n",
       "      <td>5.0</td>\n",
       "      <td>6.0</td>\n",
       "      <td>7.0</td>\n",
       "      <td>8.0</td>\n",
       "      <td>9.0</td>\n",
       "      <td>10.0</td>\n",
       "    </tr>\n",
       "  </tbody>\n",
       "</table>\n",
       "</div>"
      ],
      "text/plain": [
       "        0    1    2    3    4    5    6    7    8     9    10   11   12   13  \\\n",
       "extra  0.7 -1.6 -0.2 -1.2 -0.1  3.4  3.7  0.8  0.0   2.0  1.9  0.8  1.1  0.1   \n",
       "group  1.0  1.0  1.0  1.0  1.0  1.0  1.0  1.0  1.0   1.0  2.0  2.0  2.0  2.0   \n",
       "ID     1.0  2.0  3.0  4.0  5.0  6.0  7.0  8.0  9.0  10.0  1.0  2.0  3.0  4.0   \n",
       "\n",
       "        14   15   16   17   18    19  \n",
       "extra -0.1  4.4  5.5  1.6  4.6   3.4  \n",
       "group  2.0  2.0  2.0  2.0  2.0   2.0  \n",
       "ID     5.0  6.0  7.0  8.0  9.0  10.0  "
      ]
     },
     "execution_count": 133,
     "metadata": {},
     "output_type": "execute_result"
    }
   ],
   "source": [
    "# [1] 데이터 가져오기\n",
    "import pandas as pd\n",
    "import numpy as np\n",
    "df = pd.read_csv('./data_02/sleep.csv')\n",
    "df.T"
   ]
  },
  {
   "cell_type": "code",
   "execution_count": 134,
   "metadata": {
    "id": "RpCVKuGXHGYn",
    "tags": []
   },
   "outputs": [],
   "source": [
    "# [2] 그룹 나누기\n",
    "groups = [x for x in df.groupby('group')['extra']]"
   ]
  },
  {
   "cell_type": "code",
   "execution_count": 136,
   "metadata": {
    "id": "whD5_mDRHGYn",
    "tags": []
   },
   "outputs": [
    {
     "name": "stdout",
     "output_type": "stream",
     "text": [
      "groud id =  1\n",
      " [shaprio] statistics= 0.9258, p-value= 0.4079 -> H₀채택\n",
      " [kstest] statistics= 0.2772, p-value= 0.3577 -> H₀채택\n",
      " [normaltest] statistics= 0.8835, p-value= 0.6429 -> H₀채택\n",
      " [anderson] result=  0.34690673081075296 [0.501 0.57  0.684 0.798 0.95 ] [15.  10.   5.   2.5  1. ]\n",
      "------------------------------\n",
      "groud id =  2\n",
      " [shaprio] statistics= 0.9193, p-value= 0.3511 -> H₀채택\n",
      " [kstest] statistics= 0.5881, p-value= 0.0008 -> H₀기각\n",
      " [normaltest] statistics= 1.9692, p-value= 0.3736 -> H₀채택\n",
      " [anderson] result=  0.35715708336232765 [0.501 0.57  0.684 0.798 0.95 ] [15.  10.   5.   2.5  1. ]\n",
      "------------------------------\n"
     ]
    }
   ],
   "source": [
    "# [3] 정규성 검정(shapiro)\n",
    "from scipy.stats import shapiro, kstest, normaltest, anderson\n",
    "\n",
    "for name, x in groups:\n",
    "    print('groud id = ', name)\n",
    "    s, pvalue = shapiro(x)\n",
    "    print(f' [shaprio] statistics= {s:,.4f}, p-value= {pvalue:,.4f} -> {\"H₀기각\" if pvalue < 0.05 else \"H₀채택\"}')\n",
    "    s, pvalue = kstest(x, 'norm')\n",
    "    print(f' [kstest] statistics= {s:,.4f}, p-value= {pvalue:,.4f} -> {\"H₀기각\" if pvalue < 0.05 else \"H₀채택\"}')\n",
    "    s, pvalue = normaltest(x)\n",
    "    print(f' [normaltest] statistics= {s:,.4f}, p-value= {pvalue:,.4f} -> {\"H₀기각\" if pvalue < 0.05 else \"H₀채택\"}')\n",
    "    r = anderson(x)\n",
    "    print(f' [anderson] result= ', *r)    \n",
    "    print('-' * 30)"
   ]
  },
  {
   "cell_type": "code",
   "execution_count": null,
   "metadata": {
    "id": "hMY2cJL5JnzE"
   },
   "outputs": [],
   "source": [
    "# [4] 정규성 검정(normaltest) - N>=20\n",
    "from scipy.stats import  normaltest\n",
    "\n"
   ]
  },
  {
   "cell_type": "code",
   "execution_count": 138,
   "metadata": {
    "id": "G836x0RMgoBA",
    "tags": []
   },
   "outputs": [
    {
     "name": "stdout",
     "output_type": "stream",
     "text": [
      "groudid=1 - 0.7500\n",
      "groudid=2 - 2.3300\n"
     ]
    }
   ],
   "source": [
    "# [5] gA와 gB의 평균 구하기\n",
    "for name, x in groups:\n",
    "    print(f'groudid={name} - {x.mean():,.4f}')"
   ]
  },
  {
   "cell_type": "markdown",
   "metadata": {
    "id": "wUHg3DfKJHwE"
   },
   "source": [
    "가설1. alternative='two-sided'\n",
    "- 귀무가설 : gA의 평균 - gB의 평균이 0과 같다\n",
    "- 대립가설 : gA의 평균 - gB의 평균이 0과 같지 않다\n",
    "- 귀무가설 : gA와 gB의 평균은 같다\n",
    "- 대립가설 : gA와 gB의 평균은 같지 않다"
   ]
  },
  {
   "cell_type": "code",
   "execution_count": 140,
   "metadata": {
    "id": "WW5j4wDIHGYn",
    "tags": []
   },
   "outputs": [],
   "source": [
    "# [6] Paired t-test\n",
    "from scipy.stats import ttest_rel\n",
    "\n",
    "tvalue, pvalue = ttest_rel(groups[1][1], groups[0][1], alternative='two-sided')"
   ]
  },
  {
   "cell_type": "code",
   "execution_count": 141,
   "metadata": {
    "id": "dfHPanKqHGYo",
    "tags": []
   },
   "outputs": [
    {
     "name": "stdout",
     "output_type": "stream",
     "text": [
      "[t-test] t-value= 1.9692, p-value= 0.0028 -> H₀기각\n"
     ]
    }
   ],
   "source": [
    "# [7] 결과해석\n",
    "print(f'[t-test] t-value= {s:,.4f}, p-value= {pvalue:,.4f} -> {\"H₀기각\" if pvalue < 0.05 else \"H₀채택\"}')"
   ]
  },
  {
   "cell_type": "markdown",
   "metadata": {
    "id": "XuSOMrq_86wG"
   },
   "source": [
    "가설2. alternative='less'\n",
    "- 귀무가설 : gA의 평균 - gB의 평균이 0보다 크거나 같다\n",
    "- 대립가설 : gA의 평균 - gB의 평균이 0보다 작다\n",
    "- 귀무가설 : gA의 평균이 gB의 평균보다 크거나 같다\n",
    "- 대립가설 : gA의 평균이 gB의 평균보다 작다"
   ]
  },
  {
   "cell_type": "markdown",
   "metadata": {
    "id": "VCS84_w6Y-eP"
   },
   "source": [
    "The t-statistic is calculated as np.mean(a - b)/se, where se is the standard error. Therefore, the t-statistic will be positive when the sample mean of a - b is greater than zero and negative when the sample mean of a - b is less than zero"
   ]
  },
  {
   "cell_type": "code",
   "execution_count": 142,
   "metadata": {
    "id": "ZojwRy-GOSAw",
    "tags": []
   },
   "outputs": [],
   "source": [
    "# [8] Paired t-test\n",
    "from scipy.stats import ttest_rel\n",
    "\n",
    "tvalue, pvalue = ttest_rel(groups[1][1], groups[0][1], alternative='less')"
   ]
  },
  {
   "cell_type": "code",
   "execution_count": 143,
   "metadata": {
    "id": "bEL_KBiBZCvM",
    "tags": []
   },
   "outputs": [
    {
     "name": "stdout",
     "output_type": "stream",
     "text": [
      "[t-test] t-value= 1.9692, p-value= 0.9986 -> H₀채택\n"
     ]
    }
   ],
   "source": [
    "# [9] 결과해석\n",
    "print(f'[t-test] t-value= {s:,.4f}, p-value= {pvalue:,.4f} -> {\"H₀기각\" if pvalue < 0.05 else \"H₀채택\"}')"
   ]
  },
  {
   "cell_type": "markdown",
   "metadata": {
    "id": "-Fwwj6O6ZWVP"
   },
   "source": [
    "가설3. alternative='greater'\n",
    "- 귀무가설 : gA의 평균 - gB의 평균이 0보다 작거나 같다\n",
    "- 대립가설 : gA의 평균 - gB의 평균이 0보다 크다\n",
    "- 귀무가설 : gA의 평균이 gB의 평균보다 작거나 같다\n",
    "- 대립가설 : gA의 평균이 gB의 평균보다 크다"
   ]
  },
  {
   "cell_type": "code",
   "execution_count": 144,
   "metadata": {
    "id": "X54tZ-YXZgei",
    "tags": []
   },
   "outputs": [],
   "source": [
    "# [10] Paired t-test\n",
    "from scipy.stats import ttest_rel\n",
    "\n",
    "tvalue, pvalue = ttest_rel(groups[1][1], groups[0][1], alternative='greater')"
   ]
  },
  {
   "cell_type": "code",
   "execution_count": 145,
   "metadata": {
    "id": "REUw5nvhZlI-",
    "tags": []
   },
   "outputs": [
    {
     "name": "stdout",
     "output_type": "stream",
     "text": [
      "[t-test] t-value= 1.9692, p-value= 0.0014 -> H₀기각\n"
     ]
    }
   ],
   "source": [
    "# [11] 결과해석\n",
    "print(f'[t-test] t-value= {s:,.4f}, p-value= {pvalue:,.4f} -> {\"H₀기각\" if pvalue < 0.05 else \"H₀채택\"}')"
   ]
  },
  {
   "cell_type": "markdown",
   "metadata": {
    "id": "Z7RNfAZ9aUIk"
   },
   "source": [
    "#### 3-4.분류 모델에서 활용"
   ]
  },
  {
   "cell_type": "code",
   "execution_count": 146,
   "metadata": {
    "colab": {
     "base_uri": "https://localhost:8080/",
     "height": 176
    },
    "id": "bDz_WRXS87QI",
    "outputId": "2690d072-94b4-4be1-e9c0-bce3ea236166",
    "tags": []
   },
   "outputs": [
    {
     "data": {
      "text/html": [
       "<div>\n",
       "<style scoped>\n",
       "    .dataframe tbody tr th:only-of-type {\n",
       "        vertical-align: middle;\n",
       "    }\n",
       "\n",
       "    .dataframe tbody tr th {\n",
       "        vertical-align: top;\n",
       "    }\n",
       "\n",
       "    .dataframe thead th {\n",
       "        text-align: right;\n",
       "    }\n",
       "</style>\n",
       "<table border=\"1\" class=\"dataframe\">\n",
       "  <thead>\n",
       "    <tr style=\"text-align: right;\">\n",
       "      <th></th>\n",
       "      <th>ID</th>\n",
       "      <th>Warehouse_block</th>\n",
       "      <th>Mode_of_Shipment</th>\n",
       "      <th>Customer_care_calls</th>\n",
       "      <th>Customer_rating</th>\n",
       "      <th>Cost_of_the_Product</th>\n",
       "      <th>Prior_purchases</th>\n",
       "      <th>Product_importance</th>\n",
       "      <th>Gender</th>\n",
       "      <th>Discount_offered</th>\n",
       "      <th>Weight_in_gms</th>\n",
       "      <th>Reached.on.Time_Y.N</th>\n",
       "    </tr>\n",
       "  </thead>\n",
       "  <tbody>\n",
       "    <tr>\n",
       "      <th>0</th>\n",
       "      <td>1</td>\n",
       "      <td>D</td>\n",
       "      <td>Flight</td>\n",
       "      <td>4</td>\n",
       "      <td>2</td>\n",
       "      <td>177</td>\n",
       "      <td>3</td>\n",
       "      <td>low</td>\n",
       "      <td>F</td>\n",
       "      <td>44</td>\n",
       "      <td>1233</td>\n",
       "      <td>1</td>\n",
       "    </tr>\n",
       "    <tr>\n",
       "      <th>1</th>\n",
       "      <td>2</td>\n",
       "      <td>F</td>\n",
       "      <td>Flight</td>\n",
       "      <td>4</td>\n",
       "      <td>5</td>\n",
       "      <td>216</td>\n",
       "      <td>2</td>\n",
       "      <td>low</td>\n",
       "      <td>M</td>\n",
       "      <td>59</td>\n",
       "      <td>3088</td>\n",
       "      <td>1</td>\n",
       "    </tr>\n",
       "  </tbody>\n",
       "</table>\n",
       "</div>"
      ],
      "text/plain": [
       "   ID Warehouse_block Mode_of_Shipment  Customer_care_calls  Customer_rating  \\\n",
       "0   1               D           Flight                    4                2   \n",
       "1   2               F           Flight                    4                5   \n",
       "\n",
       "   Cost_of_the_Product  Prior_purchases Product_importance Gender  \\\n",
       "0                  177                3                low      F   \n",
       "1                  216                2                low      M   \n",
       "\n",
       "   Discount_offered  Weight_in_gms  Reached.on.Time_Y.N  \n",
       "0                44           1233                    1  \n",
       "1                59           3088                    1  "
      ]
     },
     "execution_count": 146,
     "metadata": {},
     "output_type": "execute_result"
    }
   ],
   "source": [
    "import pandas as pd\n",
    "data = pd.read_csv('https://raw.githubusercontent.com/Soyoung-Yoon/bigdata/main/1st_Train.csv')\n",
    "data.head(2)"
   ]
  },
  {
   "cell_type": "code",
   "execution_count": 147,
   "metadata": {
    "tags": []
   },
   "outputs": [
    {
     "name": "stdout",
     "output_type": "stream",
     "text": [
      "<class 'pandas.core.frame.DataFrame'>\n",
      "RangeIndex: 10999 entries, 0 to 10998\n",
      "Data columns (total 12 columns):\n",
      " #   Column               Non-Null Count  Dtype \n",
      "---  ------               --------------  ----- \n",
      " 0   ID                   10999 non-null  int64 \n",
      " 1   Warehouse_block      10999 non-null  object\n",
      " 2   Mode_of_Shipment     10999 non-null  object\n",
      " 3   Customer_care_calls  10999 non-null  int64 \n",
      " 4   Customer_rating      10999 non-null  int64 \n",
      " 5   Cost_of_the_Product  10999 non-null  int64 \n",
      " 6   Prior_purchases      10999 non-null  int64 \n",
      " 7   Product_importance   10999 non-null  object\n",
      " 8   Gender               10999 non-null  object\n",
      " 9   Discount_offered     10999 non-null  int64 \n",
      " 10  Weight_in_gms        10999 non-null  int64 \n",
      " 11  Reached.on.Time_Y.N  10999 non-null  int64 \n",
      "dtypes: int64(8), object(4)\n",
      "memory usage: 1.0+ MB\n"
     ]
    }
   ],
   "source": [
    "data.info()"
   ]
  },
  {
   "cell_type": "markdown",
   "metadata": {
    "id": "dd1RjXQBklQt"
   },
   "source": [
    "1개 연속형 변수, 1개 범주형 변수 (2개 범주)\n",
    "- 범주별로 연속형 변수의 평균 차이가 있는지 검정한다"
   ]
  },
  {
   "cell_type": "markdown",
   "metadata": {
    "id": "2FO4SFlw5Tya"
   },
   "source": [
    "**정규성을 만족하지 않는 경우 Wilcoxon rank sum test, Mann-Whitney U test를 사용하는 것이 좋습니다.  여기에서는 t-test를 사용했습니다.**\n",
    "**정규성을 만족하지 않는 경우 등분산성 검정의 경우 levene을 사용하는 것이 좋습니다.**"
   ]
  },
  {
   "cell_type": "code",
   "execution_count": 173,
   "metadata": {
    "id": "dOX9QW4KkzoV",
    "tags": []
   },
   "outputs": [
    {
     "name": "stdout",
     "output_type": "stream",
     "text": [
      "Cost_of_the_Product -0 kstest [1.0000], [0.0000] --> 정규성 X\n",
      "Cost_of_the_Product -1 kstest [1.0000], [0.0000] --> 정규성 X\n",
      "Cost_of_the_Product  bartlett [0.2039], [0.6516] --> 등분산성 O\n",
      "Cost_of_the_Product  levene [1.7356], [0.1877] --> 등분산성 O\n",
      "Cost_of_the_Product  levene [0.4330], [0.5105] --> 등분산성 O\n",
      "Cost_of_the_Product  [t-test] t-value= 0.4330, p-value= 0.0000 -> H₀기각\n",
      "------------------------------\n",
      "Weight_in_gms       -0 kstest [1.0000], [0.0000] --> 정규성 X\n",
      "Weight_in_gms       -1 kstest [1.0000], [0.0000] --> 정규성 X\n",
      "Weight_in_gms        bartlett [0.0103], [0.9193] --> 등분산성 O\n",
      "Weight_in_gms        levene [84.9990], [0.0000] --> 등분산성 X\n",
      "Weight_in_gms        levene [86.6351], [0.0000] --> 등분산성 X\n",
      "Weight_in_gms        [t-test] t-value= 86.6351, p-value= 0.0000 -> H₀기각\n",
      "------------------------------\n",
      "Discount_offered    -0 kstest [0.8810], [0.0000] --> 정규성 X\n",
      "Discount_offered    -1 kstest [0.9168], [0.0000] --> 정규성 X\n",
      "Discount_offered     bartlett [11,280.3807], [0.0000] --> 등분산성 X\n",
      "Discount_offered     levene [8,227.3058], [0.0000] --> 등분산성 X\n",
      "Discount_offered     levene [2,393.5011], [0.0000] --> 등분산성 X\n",
      "Discount_offered     [t-test] t-value= 2,393.5011, p-value= 0.0000 -> H₀기각\n",
      "------------------------------\n"
     ]
    }
   ],
   "source": [
    "# t-test\n",
    "# 연속형 변수 : 'Cost_of_the_Product', 'Weight_in_gms', 'Discount_offered'\n",
    "# 범주형 변수 : 'Reached.on.Time_Y.N'\n",
    "\n",
    "from scipy.stats import shapiro, kstest, normaltest, anderson\n",
    "from scipy.stats import bartlett, levene, fligner\n",
    "from scipy.stats import ttest_ind\n",
    "\n",
    "# [1] 그룹 나누기\n",
    "x_features = ['Cost_of_the_Product', 'Weight_in_gms', 'Discount_offered']\n",
    "y_feature = 'Reached.on.Time_Y.N'\n",
    "\n",
    "# [2] 정규성, 등분산성 검정\n",
    "for x_feature in x_features:\n",
    "    groups = [x.to_list() for _, x in data.groupby(y_feature)[x_feature]]\n",
    "    \n",
    "    # for name, x in zip(range(0,2), groups):\n",
    "    #     s, pvalue = shapiro(x)\n",
    "    #     print(f'{x_feature:20s}-{name} shapiro [{s:,.4f}], [{pvalue:,.4f}] --> {\"정규성 X\" if pvalue < 0.05 else \"정규성 O\"}')\n",
    "        \n",
    "    for name, x in zip(range(0,2), groups):\n",
    "        s, pvalue = kstest(x, 'norm')\n",
    "        print(f'{x_feature:20s}-{name} kstest [{s:,.4f}], [{pvalue:,.4f}] --> {\"정규성 X\" if pvalue < 0.05 else \"정규성 O\"}')\n",
    "        \n",
    "    # for name, x in zip(range(0,2), groups):\n",
    "    #     s, pvalue = normaltest(x)\n",
    "    #     print(f'{x_feature:20s}-{name} normaltest [{s:,.4f}], [{pvalue:,.4f}] --> {\"정규성 X\" if pvalue < 0.05 else \"정규성 O\"}')\n",
    "    \n",
    "    s, pvalue = bartlett(*groups)\n",
    "    print(f'{x_feature:20s} bartlett [{s:,.4f}], [{pvalue:,.4f}] --> {\"등분산성 X\" if pvalue < 0.05 else \"등분산성 O\"}')\n",
    "    s, pvalue = levene(*groups, center='mean')\n",
    "    print(f'{x_feature:20s} levene [{s:,.4f}], [{pvalue:,.4f}] --> {\"등분산성 X\" if pvalue < 0.05 else \"등분산성 O\"}')\n",
    "    s, pvalue = fligner(*groups, center='median')\n",
    "    print(f'{x_feature:20s} levene [{s:,.4f}], [{pvalue:,.4f}] --> {\"등분산성 X\" if pvalue < 0.05 else \"등분산성 O\"}')    \n",
    "    \n",
    "# [3] ttest_ind\n",
    "    tvalue, pvalue = ttest_ind(groups[0], groups[1], alternative='two-sided')\n",
    "    \n",
    "# [4] 결론\n",
    "    print(f'{x_feature:20s} [t-test] t-value= {s:,.4f}, p-value= {pvalue:,.4f} -> {\"H₀기각\" if pvalue < 0.05 else \"H₀채택\"}')\n",
    "    \n",
    "    print('-' * 30)"
   ]
  },
  {
   "cell_type": "code",
   "execution_count": null,
   "metadata": {
    "id": "GM6GHFFykA2_"
   },
   "outputs": [],
   "source": [
    "def my_ttest_ind(data, feature, target):\n",
    "\n",
    "\n",
    "# 'Cost_of_the_Product', 'Weight_in_gms', 'Discount_offered'\n",
    "for feature in ['Cost_of_the_Product', 'Weight_in_gms', 'Discount_offered']:\n"
   ]
  },
  {
   "cell_type": "markdown",
   "metadata": {
    "id": "XMzOwntaoQBB"
   },
   "source": [
    "#### 3-5.모평균에 관한 t-test\n",
    "A 회사에서 판매하는 모니터는 평균 5개 보다 적은 불량화소를 포함한다고 주장한다. 이 주장을 판단하기 위해서 데이터를 수집했으며, 주어진 데이터(data_02/defective.csv)에는 모니터 25개에서 조사한 불량화소 개수가 저장되어 있다. \n",
    "- 불량화소의 개수는 정규분포를 따른다고 할 때, 이 주장의 타당성 여부를 유의수준 5%에서 검정하여라\n",
    "- 𝑯_𝟎  : 𝝁≥𝟓, 𝑯_𝟏  : 𝝁<𝟓, defective_pixel :  불량화소 개수\n",
    "- (a) 불량화소의 표본 평균을 구하시오 (반올림하여 소수 둘째자리까지 계산)\n",
    "- (b) 위의 가설을 검정하기 위한 검정통계량을 입력하시오.(반올림하여 소수 넷째자리까지 계산)\n",
    "- (c) 위의 통계량에 대한 p-값을 구하여 입력하시오. (반올림하여 소수 넷째자리까지 계산)\n",
    "- (d) 유의수준 0.05 하에서 가설검정의 결과를 (채택/기각) 중 하나를 선택하여 입력하시오.\n",
    "\n"
   ]
  },
  {
   "cell_type": "code",
   "execution_count": 176,
   "metadata": {
    "id": "Jf3jqjhnosLW",
    "tags": []
   },
   "outputs": [],
   "source": [
    "# 귀무가설 : A 회사에서 판매하는 모니터의 불량화소 평균이 5개 보다 크거나 같다.\n",
    "# 대립가설 : A 회사에서 판매하는 모니터의 불량화소 평균이 5개 보다 적다.\n",
    "import pandas as pd\n",
    "\n",
    "data = pd.read_csv('./data_02/defective.csv')"
   ]
  },
  {
   "cell_type": "code",
   "execution_count": 178,
   "metadata": {
    "tags": []
   },
   "outputs": [
    {
     "data": {
      "text/html": [
       "<div>\n",
       "<style scoped>\n",
       "    .dataframe tbody tr th:only-of-type {\n",
       "        vertical-align: middle;\n",
       "    }\n",
       "\n",
       "    .dataframe tbody tr th {\n",
       "        vertical-align: top;\n",
       "    }\n",
       "\n",
       "    .dataframe thead th {\n",
       "        text-align: right;\n",
       "    }\n",
       "</style>\n",
       "<table border=\"1\" class=\"dataframe\">\n",
       "  <thead>\n",
       "    <tr style=\"text-align: right;\">\n",
       "      <th></th>\n",
       "      <th>defective_pixel</th>\n",
       "    </tr>\n",
       "  </thead>\n",
       "  <tbody>\n",
       "    <tr>\n",
       "      <th>0</th>\n",
       "      <td>5</td>\n",
       "    </tr>\n",
       "    <tr>\n",
       "      <th>1</th>\n",
       "      <td>5</td>\n",
       "    </tr>\n",
       "  </tbody>\n",
       "</table>\n",
       "</div>"
      ],
      "text/plain": [
       "   defective_pixel\n",
       "0                5\n",
       "1                5"
      ]
     },
     "execution_count": 178,
     "metadata": {},
     "output_type": "execute_result"
    }
   ],
   "source": [
    "data.head(2)"
   ]
  },
  {
   "cell_type": "code",
   "execution_count": 177,
   "metadata": {
    "tags": []
   },
   "outputs": [
    {
     "name": "stdout",
     "output_type": "stream",
     "text": [
      "<class 'pandas.core.frame.DataFrame'>\n",
      "RangeIndex: 25 entries, 0 to 24\n",
      "Data columns (total 1 columns):\n",
      " #   Column           Non-Null Count  Dtype\n",
      "---  ------           --------------  -----\n",
      " 0   defective_pixel  25 non-null     int64\n",
      "dtypes: int64(1)\n",
      "memory usage: 328.0 bytes\n"
     ]
    }
   ],
   "source": [
    "data.info()"
   ]
  },
  {
   "cell_type": "code",
   "execution_count": 186,
   "metadata": {
    "tags": []
   },
   "outputs": [
    {
     "name": "stdout",
     "output_type": "stream",
     "text": [
      "H0 : defective_pixel mean >= 5\n",
      "H1 : defective_pixel mean < 5\n",
      "[t-test] t-value= 2,393.5011, p-value= 0.0807 -> H₀채택\n",
      "95% confidence interval : 4.6114 ~ 5.0686\n",
      "sample mean : 4.8400\n"
     ]
    }
   ],
   "source": [
    "print(\"H0 : defective_pixel mean >= 5\")\n",
    "print(\"H1 : defective_pixel mean < 5\")\n",
    "\n",
    "from scipy.stats import ttest_1samp, t, sem\n",
    "\n",
    "tvalue, pvalue = ttest_1samp(data['defective_pixel'], 5, alternative='less')\n",
    "print(f'[t-test] t-value= {s:,.4f}, p-value= {pvalue:,.4f} -> {\"H₀기각\" if pvalue < 0.05 else \"H₀채택\"}')\n",
    "ci_s, ci_e = t.interval(confidence=0.95, loc=data['defective_pixel'].mean(), scale=sem(data['defective_pixel']), df=len(data['defective_pixel'])-1)\n",
    "print(f'95% confidence interval : {ci_s:,.4f} ~ {ci_e:,.4f}')\n",
    "print(f\"sample mean : {data['defective_pixel'].mean():,.4f}\")"
   ]
  },
  {
   "cell_type": "markdown",
   "metadata": {
    "id": "L9R1giT3oudo"
   },
   "source": [
    "#### 3-6.작업3유형 예시문제\n",
    "주어진 데이터(data_02/blood_pressure.csv)에는 고혈압 환자 120명의 치료 전후의 혈압이 저장되어 있다. 해당 치료가 효과가 있는지 (즉, 치료 후의 혈압이 감소했는지) 쌍체표본 t-검정(paired t-test)를 통해 답하고자 한다. 가설은 아래와 같다\n",
    "- 𝑯_𝟎  : 𝝁_𝒅≥𝟎, 𝑯_𝟏  : 𝝁_𝒅<𝟎  (𝝁_𝒅 : 치료 후 혈압 – 치료 전 혈압)의 평균\n",
    "- bp_before : 치료 전 혈압, bp_after : 치료 후 혈압\n",
    "- (a) ud의 표본 평균을 구하시오 (반올림하여 소수 둘째자리까지 계산)\n",
    "- (b) 위의 가설을 검정하기 위한 검정통계량을 입력하시오.(반올림하여 소수 넷째자리까지 계산)\n",
    "- (c) 위의 통계량에 대한 p-값을 구하여 입력하시오. (반올림하여 소수 넷째자리까지 계산)\n",
    "- (d) 유의수준 0.05 하에서 가설검정의 결과를 (채택/기각) 중 하나를 선택하여 입력하시오.\n"
   ]
  },
  {
   "cell_type": "code",
   "execution_count": 187,
   "metadata": {
    "id": "05SNZ_Lko82v",
    "tags": []
   },
   "outputs": [
    {
     "data": {
      "text/html": [
       "<div>\n",
       "<style scoped>\n",
       "    .dataframe tbody tr th:only-of-type {\n",
       "        vertical-align: middle;\n",
       "    }\n",
       "\n",
       "    .dataframe tbody tr th {\n",
       "        vertical-align: top;\n",
       "    }\n",
       "\n",
       "    .dataframe thead th {\n",
       "        text-align: right;\n",
       "    }\n",
       "</style>\n",
       "<table border=\"1\" class=\"dataframe\">\n",
       "  <thead>\n",
       "    <tr style=\"text-align: right;\">\n",
       "      <th></th>\n",
       "      <th>patient</th>\n",
       "      <th>sex</th>\n",
       "      <th>agegrp</th>\n",
       "      <th>bp_before</th>\n",
       "      <th>bp_after</th>\n",
       "    </tr>\n",
       "  </thead>\n",
       "  <tbody>\n",
       "    <tr>\n",
       "      <th>0</th>\n",
       "      <td>1</td>\n",
       "      <td>Male</td>\n",
       "      <td>30-45</td>\n",
       "      <td>143</td>\n",
       "      <td>153</td>\n",
       "    </tr>\n",
       "    <tr>\n",
       "      <th>1</th>\n",
       "      <td>2</td>\n",
       "      <td>Male</td>\n",
       "      <td>30-45</td>\n",
       "      <td>163</td>\n",
       "      <td>170</td>\n",
       "    </tr>\n",
       "  </tbody>\n",
       "</table>\n",
       "</div>"
      ],
      "text/plain": [
       "   patient   sex agegrp  bp_before  bp_after\n",
       "0        1  Male  30-45        143       153\n",
       "1        2  Male  30-45        163       170"
      ]
     },
     "execution_count": 187,
     "metadata": {},
     "output_type": "execute_result"
    }
   ],
   "source": [
    "# 귀무가설: 치료 후 혈압과 치료 전 혈압의 차가 0보다 크거나 같다.\n",
    "# 대립가설: 치료 후 혈압과 치료 전 혈압의 차가 0보다 작다\n",
    "# 귀무가설: 치료 후 혈압이 치료 전 혈압보다 크거나 같다.\n",
    "# 대립가설: 치료 후 혈압이 치료 전 혈압보다 작다\n",
    "import pandas as pd\n",
    "\n",
    "data = pd.read_csv('data_02/blood_pressure.csv')\n",
    "data.head(2)"
   ]
  },
  {
   "cell_type": "code",
   "execution_count": 188,
   "metadata": {
    "tags": []
   },
   "outputs": [
    {
     "name": "stdout",
     "output_type": "stream",
     "text": [
      "<class 'pandas.core.frame.DataFrame'>\n",
      "RangeIndex: 120 entries, 0 to 119\n",
      "Data columns (total 5 columns):\n",
      " #   Column     Non-Null Count  Dtype \n",
      "---  ------     --------------  ----- \n",
      " 0   patient    120 non-null    int64 \n",
      " 1   sex        120 non-null    object\n",
      " 2   agegrp     120 non-null    object\n",
      " 3   bp_before  120 non-null    int64 \n",
      " 4   bp_after   120 non-null    int64 \n",
      "dtypes: int64(3), object(2)\n",
      "memory usage: 4.8+ KB\n"
     ]
    }
   ],
   "source": [
    "data.info()"
   ]
  },
  {
   "cell_type": "code",
   "execution_count": 201,
   "metadata": {
    "tags": []
   },
   "outputs": [
    {
     "name": "stdout",
     "output_type": "stream",
     "text": [
      "bp_after   normaltest [5.0535], [0.0799] --> 정규성 O\n",
      "bp_before  normaltest [7.2185], [0.0271] --> 정규성 X\n",
      "bp_after   mean: 151.3583\n",
      "bp_before  mean: 156.4500\n",
      "[t-test] t-value= 7.2185, p-value= 0.0006 -> H₀기각\n",
      "95% confidence interval : 148.7956 ~ 153.9210\n"
     ]
    }
   ],
   "source": [
    "from scipy.stats import normaltest\n",
    "from scipy.stats import ttest_rel\n",
    "\n",
    "for x_feature in ['bp_after', 'bp_before']:\n",
    "    s, pvalue = normaltest(data[x_feature])\n",
    "    print(f'{x_feature:10s} normaltest [{s:,.4f}], [{pvalue:,.4f}] --> {\"정규성 X\" if pvalue < 0.05 else \"정규성 O\"}')\n",
    "    \n",
    "for x_feature in ['bp_after', 'bp_before']:\n",
    "    print(f'{x_feature:10s} mean: {data[x_feature].mean():.4f}')\n",
    "    \n",
    "tvalue, pvalue = ttest_rel(data['bp_after'], data['bp_before'], alternative='less')\n",
    "print(f'[t-test] t-value= {s:,.4f}, p-value= {pvalue:,.4f} -> {\"H₀기각\" if pvalue < 0.05 else \"H₀채택\"}')\n",
    "\n",
    "ci_s, ci_e = t.interval(confidence=0.95, loc=data['bp_after'].mean(), scale=sem(data['bp_after']), df=len(data['bp_after'])-1)\n",
    "print(f'95% confidence interval : {ci_s:,.4f} ~ {ci_e:,.4f}')"
   ]
  },
  {
   "cell_type": "markdown",
   "metadata": {
    "id": "mQgLG3DE9DqM"
   },
   "source": [
    "### 4.ANOVA(분산 분석)\n",
    "- t-test는 1개 또는 2개의 집단에 대해 평균 검정\n",
    "- 독립변수 – 범주형, 종속변수 – 연속형으로 하는, 3개 이상의 집단 평균을 비교하는 모수 추론 방법\n",
    "- \"집단간분산\" /\"집단내분산\"    기반의 F 분포를 이용해 가설을 검정하며 정규성, 등분산성, 독립성을 가정함\n",
    "- \"집단 간 분산\"과 \"집단 내 분산\"을 이용해 분석하는 방법이어서 \"분산분석\"이라고 함\n",
    "- 귀무가설 기각 시 구체적인 차이를 파악하기 위해, 사후 검정(Post Hoc test)이 필요함\n",
    "- 등분산/동일 크기 표본 - Tukey검정, 등분산/다른 크기 표본 – Scheff 검정, Fisher’s LSD 검정 등이 있음\n"
   ]
  },
  {
   "cell_type": "code",
   "execution_count": null,
   "metadata": {
    "id": "hmmbxRCLuseB"
   },
   "outputs": [],
   "source": [
    "#출처 : https://partrita.github.io/posts/ANOVA-python/\n",
    "#https://github.com/thomas-haslwanter/statsintro_python/blob/master/ipynb/8_anovaOneway.ipynb\n",
    "#https://ggbaker.ca/data-science/content/stats-tests.html    \n",
    "#https://lunch-box.tistory.com/76?category=873052"
   ]
  },
  {
   "cell_type": "markdown",
   "metadata": {
    "id": "ktJVnUfnuseD"
   },
   "source": [
    "#### 4-1.분산의 중요성\n",
    "- 평균값은 동일하지만 분산 값이 다름으로 인해 전체적인 데이터의 모습이 완전히 달라 보임\n",
    "- 분산이 클수록 집단의 평균값의 차이가 무의미해진다\n",
    "- **집단간 평균값의 분산이 클수록, 집단내 분산이 작아질 수록 평균의 차이가 분명해진다.**\n"
   ]
  },
  {
   "cell_type": "code",
   "execution_count": null,
   "metadata": {
    "id": "tqaEbxDnuseC"
   },
   "outputs": [],
   "source": [
    "from scipy.stats import norm\n",
    "import pandas as pd\n",
    "import matplotlib.pyplot as plt\n",
    "import numpy as np\n",
    "\n",
    "def draw_graph(std):\n",
    "    centers = [5, 5.3, 4.5]\n",
    "    colors = 'brg'\n",
    "    size = 100\n",
    "    plt.figure(figsize=(4,3))\n",
    "    for i in range(3):\n",
    "        x = norm(centers[i], std).rvs(size)  \n",
    "        y = np.arange(size) + i*size     \n",
    "        plt.plot(x, y, '.', color=colors[i])\n",
    "    plt.show() "
   ]
  },
  {
   "cell_type": "code",
   "execution_count": 12,
   "metadata": {
    "colab": {
     "base_uri": "https://localhost:8080/",
     "height": 291
    },
    "id": "aOlshwop6xM7",
    "outputId": "ce81d50a-33b4-4412-d518-36f99092879f"
   },
   "outputs": [
    {
     "data": {
      "image/png": "[encoded data removed]",
      "text/plain": [
       "<Figure size 400x300 with 1 Axes>"
      ]
     },
     "metadata": {},
     "output_type": "display_data"
    }
   ],
   "source": [
    "draw_graph(std=0.1)"
   ]
  },
  {
   "cell_type": "code",
   "execution_count": 13,
   "metadata": {
    "colab": {
     "base_uri": "https://localhost:8080/",
     "height": 291
    },
    "id": "ufztcNxHuseD",
    "outputId": "6064b774-f8fe-44a1-c79f-6c54df963811"
   },
   "outputs": [
    {
     "data": {
      "image/png": "[encoded data removed]",
      "text/plain": [
       "<Figure size 400x300 with 1 Axes>"
      ]
     },
     "metadata": {},
     "output_type": "display_data"
    }
   ],
   "source": [
    "draw_graph(std=1)"
   ]
  },
  {
   "cell_type": "markdown",
   "metadata": {
    "id": "OkhMN0ZjuseF"
   },
   "source": [
    "#### 4-2.일원분산분석(One-way ANOVA)\n",
    "- 독립변수 : 범주형 1개, 종속변수 : 연속형\n",
    "- 독립변수의 변화가 종속변수에 미치는 영향을 보기 위해 사용\n",
    "- 가정 : 독립성, 정규성, 등분산성\n",
    "- scipy.stats이나 statsmodel 라이브러리를 이용"
   ]
  },
  {
   "cell_type": "code",
   "execution_count": null,
   "metadata": {
    "id": "Gzwipc4fuseF"
   },
   "outputs": [],
   "source": [
    "# 예시 데이터 설명\n",
    "# iris의 target이 0 : 'setosa', 1 : 'versicolor', 2: 'virginica' 품종\n",
    "# 독립변수 :'sepal length (cm)', 'sepal width (cm)', 'petal length (cm)', 'petal width (cm)'   \n",
    "# 품종별 sepal, petal의 length, width가 차이를 보일까?에 anova 사용"
   ]
  },
  {
   "cell_type": "code",
   "execution_count": 14,
   "metadata": {
    "colab": {
     "base_uri": "https://localhost:8080/"
    },
    "id": "2YU8-q5bsMu7",
    "outputId": "5b17e09d-5eac-4cb6-8b41-6eacfc8d6550"
   },
   "outputs": [
    {
     "data": {
      "text/plain": [
       "Index(['sepal_length', 'sepal_width', 'petal_length', 'petal_width', 'target'], dtype='object')"
      ]
     },
     "execution_count": 14,
     "metadata": {},
     "output_type": "execute_result"
    }
   ],
   "source": [
    "# [1] 데이터 가져오기\n",
    "import pandas as pd\n",
    "\n",
    "iris = pd.read_csv('bigdata/iris_data.csv')\n",
    "iris.columns = ['sepal_length', 'sepal_width', \n",
    "                'petal_length', 'petal_width', 'target']\n",
    "iris.columns"
   ]
  },
  {
   "cell_type": "code",
   "execution_count": 15,
   "metadata": {
    "tags": []
   },
   "outputs": [
    {
     "name": "stdout",
     "output_type": "stream",
     "text": [
      "<class 'pandas.core.frame.DataFrame'>\n",
      "RangeIndex: 150 entries, 0 to 149\n",
      "Data columns (total 5 columns):\n",
      " #   Column        Non-Null Count  Dtype  \n",
      "---  ------        --------------  -----  \n",
      " 0   sepal_length  150 non-null    float64\n",
      " 1   sepal_width   150 non-null    float64\n",
      " 2   petal_length  150 non-null    float64\n",
      " 3   petal_width   150 non-null    float64\n",
      " 4   target        150 non-null    int64  \n",
      "dtypes: float64(4), int64(1)\n",
      "memory usage: 6.0 KB\n"
     ]
    }
   ],
   "source": [
    "iris.info()"
   ]
  },
  {
   "cell_type": "code",
   "execution_count": 16,
   "metadata": {
    "tags": []
   },
   "outputs": [
    {
     "data": {
      "text/html": [
       "<div>\n",
       "<style scoped>\n",
       "    .dataframe tbody tr th:only-of-type {\n",
       "        vertical-align: middle;\n",
       "    }\n",
       "\n",
       "    .dataframe tbody tr th {\n",
       "        vertical-align: top;\n",
       "    }\n",
       "\n",
       "    .dataframe thead th {\n",
       "        text-align: right;\n",
       "    }\n",
       "</style>\n",
       "<table border=\"1\" class=\"dataframe\">\n",
       "  <thead>\n",
       "    <tr style=\"text-align: right;\">\n",
       "      <th></th>\n",
       "      <th>sepal_length</th>\n",
       "      <th>sepal_width</th>\n",
       "      <th>petal_length</th>\n",
       "      <th>petal_width</th>\n",
       "      <th>target</th>\n",
       "    </tr>\n",
       "  </thead>\n",
       "  <tbody>\n",
       "    <tr>\n",
       "      <th>0</th>\n",
       "      <td>5.1</td>\n",
       "      <td>3.5</td>\n",
       "      <td>1.4</td>\n",
       "      <td>0.2</td>\n",
       "      <td>0</td>\n",
       "    </tr>\n",
       "    <tr>\n",
       "      <th>1</th>\n",
       "      <td>4.9</td>\n",
       "      <td>3.0</td>\n",
       "      <td>1.4</td>\n",
       "      <td>0.2</td>\n",
       "      <td>0</td>\n",
       "    </tr>\n",
       "  </tbody>\n",
       "</table>\n",
       "</div>"
      ],
      "text/plain": [
       "   sepal_length  sepal_width  petal_length  petal_width  target\n",
       "0           5.1          3.5           1.4          0.2       0\n",
       "1           4.9          3.0           1.4          0.2       0"
      ]
     },
     "execution_count": 16,
     "metadata": {},
     "output_type": "execute_result"
    }
   ],
   "source": [
    "iris.head(2)"
   ]
  },
  {
   "cell_type": "code",
   "execution_count": 18,
   "metadata": {
    "id": "5bYE6EjS8DQt"
   },
   "outputs": [
    {
     "data": {
      "text/html": [
       "<div>\n",
       "<style scoped>\n",
       "    .dataframe tbody tr th:only-of-type {\n",
       "        vertical-align: middle;\n",
       "    }\n",
       "\n",
       "    .dataframe tbody tr th {\n",
       "        vertical-align: top;\n",
       "    }\n",
       "\n",
       "    .dataframe thead th {\n",
       "        text-align: right;\n",
       "    }\n",
       "</style>\n",
       "<table border=\"1\" class=\"dataframe\">\n",
       "  <thead>\n",
       "    <tr style=\"text-align: right;\">\n",
       "      <th></th>\n",
       "      <th>sepal_length</th>\n",
       "      <th>sepal_width</th>\n",
       "      <th>petal_length</th>\n",
       "      <th>petal_width</th>\n",
       "    </tr>\n",
       "    <tr>\n",
       "      <th>target</th>\n",
       "      <th></th>\n",
       "      <th></th>\n",
       "      <th></th>\n",
       "      <th></th>\n",
       "    </tr>\n",
       "  </thead>\n",
       "  <tbody>\n",
       "    <tr>\n",
       "      <th>0</th>\n",
       "      <td>5.006</td>\n",
       "      <td>3.428</td>\n",
       "      <td>1.462</td>\n",
       "      <td>0.246</td>\n",
       "    </tr>\n",
       "    <tr>\n",
       "      <th>1</th>\n",
       "      <td>5.936</td>\n",
       "      <td>2.770</td>\n",
       "      <td>4.260</td>\n",
       "      <td>1.326</td>\n",
       "    </tr>\n",
       "    <tr>\n",
       "      <th>2</th>\n",
       "      <td>6.588</td>\n",
       "      <td>2.974</td>\n",
       "      <td>5.552</td>\n",
       "      <td>2.026</td>\n",
       "    </tr>\n",
       "  </tbody>\n",
       "</table>\n",
       "</div>"
      ],
      "text/plain": [
       "        sepal_length  sepal_width  petal_length  petal_width\n",
       "target                                                      \n",
       "0              5.006        3.428         1.462        0.246\n",
       "1              5.936        2.770         4.260        1.326\n",
       "2              6.588        2.974         5.552        2.026"
      ]
     },
     "execution_count": 18,
     "metadata": {},
     "output_type": "execute_result"
    }
   ],
   "source": [
    "# [2-1] 품종별 각 변수의 평균 확인\n",
    "iris.groupby('target').mean()"
   ]
  },
  {
   "cell_type": "code",
   "execution_count": 19,
   "metadata": {
    "id": "wD8EYCm20Ktu"
   },
   "outputs": [
    {
     "data": {
      "text/plain": [
       "target\n",
       "0    5.006\n",
       "1    5.936\n",
       "2    6.588\n",
       "Name: sepal_length, dtype: float64"
      ]
     },
     "execution_count": 19,
     "metadata": {},
     "output_type": "execute_result"
    }
   ],
   "source": [
    "# [2-2] 특정 변수에 대한 품종별 평균 확인\n",
    "y_feature = 'sepal_length'\n",
    "iris.groupby('target')[y_feature].mean()"
   ]
  },
  {
   "cell_type": "code",
   "execution_count": null,
   "metadata": {
    "id": "9PYHyDbNuseG"
   },
   "outputs": [],
   "source": [
    "# group 0, 1, 2의 평균의 차이가 있습니다\n",
    "# 평균값의 차이가 실제로 의미가 있는 차이인지 알고 싶다면,\n",
    "# 분산 분석을 통해 통계적 유의성을 알아 볼 수 있습니다."
   ]
  },
  {
   "cell_type": "code",
   "execution_count": 24,
   "metadata": {
    "colab": {
     "base_uri": "https://localhost:8080/",
     "height": 295
    },
    "id": "74fdfpIvza_-",
    "outputId": "c9b14e1c-f453-4163-f168-8d5aabc57c8f",
    "tags": []
   },
   "outputs": [
    {
     "data": {
      "image/png": "[encoded data removed]",
      "text/plain": [
       "<Figure size 640x480 with 1 Axes>"
      ]
     },
     "metadata": {},
     "output_type": "display_data"
    }
   ],
   "source": [
    "# [3] 그룹 추출 및 그래프로 확인\n",
    "import seaborn as sns\n",
    "import matplotlib.pyplot as plt\n",
    "\n",
    "g = sns.boxplot(data=iris, x='target', y=y_feature)\n",
    "g.set_xticklabels(['setosa', 'versicolor', 'virginica'])\n",
    "\n",
    "plt.show()"
   ]
  },
  {
   "cell_type": "code",
   "execution_count": 26,
   "metadata": {
    "tags": []
   },
   "outputs": [
    {
     "data": {
      "image/png": "[encoded data removed]",
      "text/plain": [
       "<Figure size 640x480 with 1 Axes>"
      ]
     },
     "metadata": {},
     "output_type": "display_data"
    }
   ],
   "source": [
    "import matplotlib.pyplot as plt\n",
    "\n",
    "data = [x for _, x in iris.groupby('target')[y_feature]]\n",
    "\n",
    "plt.boxplot(data, labels=['setosa', 'versicolor', 'virginica'])\n",
    "plt.show()"
   ]
  },
  {
   "cell_type": "code",
   "execution_count": 39,
   "metadata": {
    "id": "hLLOUSB2SBnF"
   },
   "outputs": [
    {
     "name": "stdout",
     "output_type": "stream",
     "text": [
      "0 shapiro [0.9777], [0.4595] --> H0 채택\n",
      "1 shapiro [0.9778], [0.4647] --> H0 채택\n",
      "2 shapiro [0.9712], [0.2583] --> H0 채택\n",
      "0 kstest [1.0000], [0.0000] --> H0 기각\n",
      "1 kstest [1.0000], [0.0000] --> H0 기각\n",
      "2 kstest [1.0000], [0.0000] --> H0 기각\n",
      "0 normaltest [0.1942], [0.9075] --> H0 채택\n",
      "1 normaltest [0.8414], [0.6566] --> H0 채택\n",
      "2 normaltest [0.2089], [0.9008] --> H0 채택\n",
      "0 anderson result=  0.4079859754958619 [0.538 0.613 0.736 0.858 1.021] [15.  10.   5.   2.5  1. ]\n",
      "1 anderson result=  0.360841172628966 [0.538 0.613 0.736 0.858 1.021] [15.  10.   5.   2.5  1. ]\n",
      "2 anderson result=  0.5516407106574732 [0.538 0.613 0.736 0.858 1.021] [15.  10.   5.   2.5  1. ]\n"
     ]
    }
   ],
   "source": [
    "# [4] 정규성 확인 \n",
    "# p-value가 0.05 보다 큰 값일 때 정규성을 갖음\n",
    "from scipy.stats import shapiro, kstest, normaltest, anderson\n",
    "\n",
    "data = [x for x in iris.groupby('target')[y_feature]]\n",
    "\n",
    "for name, x in data:\n",
    "    s, pvalue = shapiro(x)\n",
    "    print(f'{name} shapiro [{s:,.4f}], [{pvalue:,.4f}] --> {\"H0 기각\" if pvalue < 0.05 else \"H0 채택\"}') \n",
    "\n",
    "for name, x in data:\n",
    "    s, pvalue = kstest(x, 'norm')\n",
    "    print(f'{name} kstest [{s:,.4f}], [{pvalue:,.4f}] --> {\"H0 기각\" if pvalue < 0.05 else \"H0 채택\"}') \n",
    "\n",
    "for name, x in data:\n",
    "    s, pvalue = normaltest(x)\n",
    "    print(f'{name} normaltest [{s:,.4f}], [{pvalue:,.4f}] --> {\"H0 기각\" if pvalue < 0.05 else \"H0 채택\"}') \n",
    "\n",
    "for name, x in data:\n",
    "    r = anderson(x)\n",
    "    print(f'{name} anderson result= ', *r) "
   ]
  },
  {
   "cell_type": "code",
   "execution_count": 38,
   "metadata": {
    "id": "sz3ZGC7huseH"
   },
   "outputs": [
    {
     "name": "stdout",
     "output_type": "stream",
     "text": [
      "bartlett [16.0057], [0.0003] --> H0 기각\n",
      "levene [6.3527], [0.0023] --> H0 기각\n",
      "anderson [13.2561], [0.0013] --> H0 기각\n"
     ]
    }
   ],
   "source": [
    "# [5] 등분산성 확인\n",
    "# p-value가 0.05 보다 큰 값일 때 등분산성을 갖음\n",
    "from scipy.stats import bartlett, levene, fligner\n",
    "\n",
    "data = [x for _, x in iris.groupby('target')[y_feature]]\n",
    "\n",
    "s, pvalue = bartlett(*data)\n",
    "print(f'bartlett [{s:,.4f}], [{pvalue:,.4f}] --> {\"H0 기각\" if pvalue < 0.05 else \"H0 채택\"}') \n",
    "\n",
    "s, pvalue = levene(*data)\n",
    "print(f'levene [{s:,.4f}], [{pvalue:,.4f}] --> {\"H0 기각\" if pvalue < 0.05 else \"H0 채택\"}') \n",
    "\n",
    "s, pvalue = fligner(*data, center='mean')\n",
    "print(f'anderson [{s:,.4f}], [{pvalue:,.4f}] --> {\"H0 기각\" if pvalue < 0.05 else \"H0 채택\"}') "
   ]
  },
  {
   "cell_type": "code",
   "execution_count": 44,
   "metadata": {
    "tags": []
   },
   "outputs": [
    {
     "name": "stdout",
     "output_type": "stream",
     "text": [
      "0 - variance: 0.1242\n",
      "1 - variance: 0.2664\n",
      "2 - variance: 0.4043\n",
      "0 - mean: 5.0060\n",
      "1 - mean: 5.9360\n",
      "2 - mean: 6.5880\n"
     ]
    }
   ],
   "source": [
    "data = [x for x in iris.groupby('target')[y_feature]]\n",
    "\n",
    "for name, x in data:\n",
    "    print(f'{name} - variance: {x.var():,.4f}')\n",
    "    \n",
    "for name, x in data:\n",
    "    print(f'{name} - mean: {x.mean():,.4f}')"
   ]
  },
  {
   "cell_type": "markdown",
   "metadata": {
    "id": "B9dxFmZ5useH"
   },
   "source": [
    "Scipy.stats 으로 일원분산분석\n",
    "- https://docs.scipy.org/doc/scipy/reference/generated/scipy.stats.f_oneway.html"
   ]
  },
  {
   "cell_type": "code",
   "execution_count": 45,
   "metadata": {
    "colab": {
     "base_uri": "https://localhost:8080/"
    },
    "id": "jedFIUU3useH",
    "outputId": "a9e6ac1f-59b4-48d2-af93-8a743121fe77"
   },
   "outputs": [
    {
     "name": "stdout",
     "output_type": "stream",
     "text": [
      "[1-way ANOVA] f-value= 119.2645, p-value= 0.0000 -> H₀기각\n"
     ]
    }
   ],
   "source": [
    "# [6] 일원분산분석 - 1\n",
    "from scipy.stats import f_oneway\n",
    "\n",
    "data = [x for _, x in iris.groupby('target')[y_feature]]\n",
    "\n",
    "fvalue, pvalue = f_oneway(*data)\n",
    "print(f'[1-way ANOVA] f-value= {fvalue:,.4f}, p-value= {pvalue:,.4f} -> {\"H₀기각\" if pvalue < 0.05 else \"H₀채택\"}')"
   ]
  },
  {
   "cell_type": "markdown",
   "metadata": {
    "id": "Kppp46BClxl7"
   },
   "source": [
    "pandas 와 statsmodels 를 사용한 일원분산분석\n",
    "- https://www.statsmodels.org/dev/generated/statsmodels.formula.api.ols.html\n",
    "- https://www.statsmodels.org/stable/generated/statsmodels.stats.anova.anova_lm.html "
   ]
  },
  {
   "cell_type": "markdown",
   "metadata": {
    "id": "IJbGrpkfZKzY"
   },
   "source": [
    "ols (ordinary least squares) 모델 \n",
    "- 구하려는 해와 실제의 오차의 제곱의 합이 최소가 되는 해를 구하는 방법\n",
    "\n",
    "'value ~ C(treatment)' : '종속변수 ~ C(독립변수)'\n",
    "- value : 종속변수\n",
    "- treatment : 범주형(C)인 독립변수\n",
    "- df : degree of freedom\n",
    "- C(treatment)의 df : 그룹의 수 - 1\n",
    "- Residual의 df : 전체 데이터 수 - 그룹의 수"
   ]
  },
  {
   "cell_type": "code",
   "execution_count": 54,
   "metadata": {
    "tags": []
   },
   "outputs": [
    {
     "name": "stdout",
     "output_type": "stream",
     "text": [
      "Collecting statsmodels\n",
      "  Downloading statsmodels-0.14.0-cp38-cp38-macosx_10_9_x86_64.whl (9.8 MB)\n",
      "\u001b[2K     \u001b[90m━━━━━━━━━━━━━━━━━━━━━━━━━━━━━━━━━━━━━━━━\u001b[0m \u001b[32m9.8/9.8 MB\u001b[0m \u001b[31m10.4 MB/s\u001b[0m eta \u001b[36m0:00:00\u001b[0m00:01\u001b[0m00:01\u001b[0m\n",
      "\u001b[?25hRequirement already satisfied: numpy>=1.18 in /Users/rainmaker/Library/jupyterlab-desktop/jlab_server/lib/python3.8/site-packages (from statsmodels) (1.24.2)\n",
      "Collecting patsy>=0.5.2\n",
      "  Downloading patsy-0.5.3-py2.py3-none-any.whl (233 kB)\n",
      "\u001b[2K     \u001b[90m━━━━━━━━━━━━━━━━━━━━━━━━━━━━━━━━━━━━━━━\u001b[0m \u001b[32m233.8/233.8 kB\u001b[0m \u001b[31m8.7 MB/s\u001b[0m eta \u001b[36m0:00:00\u001b[0m\n",
      "\u001b[?25hRequirement already satisfied: packaging>=21.3 in /Users/rainmaker/Library/jupyterlab-desktop/jlab_server/lib/python3.8/site-packages (from statsmodels) (23.0)\n",
      "Requirement already satisfied: pandas>=1.0 in /Users/rainmaker/Library/jupyterlab-desktop/jlab_server/lib/python3.8/site-packages (from statsmodels) (1.5.3)\n",
      "Requirement already satisfied: scipy!=1.9.2,>=1.4 in /Users/rainmaker/Library/jupyterlab-desktop/jlab_server/lib/python3.8/site-packages (from statsmodels) (1.10.1)\n",
      "Requirement already satisfied: python-dateutil>=2.8.1 in /Users/rainmaker/Library/jupyterlab-desktop/jlab_server/lib/python3.8/site-packages (from pandas>=1.0->statsmodels) (2.8.2)\n",
      "Requirement already satisfied: pytz>=2020.1 in /Users/rainmaker/Library/jupyterlab-desktop/jlab_server/lib/python3.8/site-packages (from pandas>=1.0->statsmodels) (2022.7.1)\n",
      "Requirement already satisfied: six in /Users/rainmaker/Library/jupyterlab-desktop/jlab_server/lib/python3.8/site-packages (from patsy>=0.5.2->statsmodels) (1.16.0)\n",
      "Installing collected packages: patsy, statsmodels\n",
      "Successfully installed patsy-0.5.3 statsmodels-0.14.0\n"
     ]
    }
   ],
   "source": [
    "!pip install statsmodels"
   ]
  },
  {
   "cell_type": "code",
   "execution_count": 64,
   "metadata": {
    "id": "eUT6XN6c4jCd"
   },
   "outputs": [
    {
     "name": "stdout",
     "output_type": "stream",
     "text": [
      "              df     sum_sq    mean_sq           F        PR(>F)  H0\n",
      "C(target)    2.0  63.212133  31.606067  119.264502  1.669669e-31  기각\n",
      "Residual   147.0  38.956200   0.265008         NaN           NaN  채택\n"
     ]
    }
   ],
   "source": [
    "# [7] 일원분산분석 - 2\n",
    "from statsmodels.formula.api import ols\n",
    "import statsmodels.api as sm\n",
    "\n",
    "model = ols(formula=f'{y_feature} ~ C(target)', data=iris).fit()\n",
    "result = sm.stats.anova_lm(model, typ=1)\n",
    "result['H0'] = '채택'\n",
    "result['H0'] = result['H0'].mask(result['PR(>F)'] < 0.05, '기각')\n",
    "print(result)\n",
    "\n",
    "# [1-way ANOVA] f-value= 119.2645, p-value= 0.0000 -> H₀기각"
   ]
  },
  {
   "cell_type": "code",
   "execution_count": null,
   "metadata": {
    "id": "dGafJOHkn14e"
   },
   "outputs": [],
   "source": [
    "# C(target)의 PR(=p-value) 값이 0.05 보다 작으므로 그룹의 \n",
    "# 평균값이 통계적으로 유의미하게 차이가 있음"
   ]
  },
  {
   "cell_type": "code",
   "execution_count": null,
   "metadata": {
    "id": "W-6C14168foO"
   },
   "outputs": [],
   "source": [
    "# 구체적으로 어떤 집단이 차이가 있는지 확인하려면 사후분석(post hoc tests)를 해야함\n",
    "# 유의미한 차이가 없는 경우는 사후분석할 필요가 없음"
   ]
  },
  {
   "cell_type": "markdown",
   "metadata": {
    "id": "mYH2Zb3fXphL"
   },
   "source": [
    "사후검정(Post Hoc Analysis)\n",
    "- ANOVA 분석의 문제 : 다르다는 것은 알지만, 어떤 집단간의 차이가 있는지는 알 수 없음\n",
    "- 사후검정을 통해 어떤 것에 차이가 있는지 찾을 수 있음\n",
    "- post hoc은 라틴어로 \"after this\"의 뜻\n",
    "- 사후검정의 종류\n",
    "    - Tukey's HSD (Honest Significant Difference) test : 정규분포, 등분산, 동일 표본 크기에서 가장 많이 사용\n",
    "    - Duncan’s new multiple range test (MRT) : 정규분포, 등분산, 동일 표본 크기에서 사용, 엄격하지 않은 기준으로 통계적 유의성을 도출하기 쉬움\n",
    "    - Scheffé’s Method : 가장 보수적이고 엄격한 사후검정방식 (동일하지 않은 표본 크기)\n",
    "- 민감도(sensitivity)로 구분 : Scheffe < Tukey < Duncan\n",
    "- Duncan의 방법은 작은 차이에도 차이가 난다라고 하지만, Scheffe의 방법은 확실한 차이가 나야만 비로소 차이가 있다라고 판단함\n"
   ]
  },
  {
   "cell_type": "markdown",
   "metadata": {
    "id": "tEZJ7bPRb80Y"
   },
   "source": [
    "Tukey test\n",
    "- statsmodels의 Tukey test를 하기 위해서는 DataFrame의 형태를 변경해야 함\n",
    "- 하나의 컬럼은 분류할수 있는 이름(label)을 다른 컬럼은 실험값(values)를 가지고 있는 형태이어야 함"
   ]
  },
  {
   "cell_type": "markdown",
   "metadata": {
    "id": "ji4HUy4ceqZL"
   },
   "source": [
    "[참고] scheffe : https://eunholand.tistory.com/96"
   ]
  },
  {
   "cell_type": "code",
   "execution_count": 72,
   "metadata": {
    "id": "e965NtRWXXG5"
   },
   "outputs": [
    {
     "name": "stdout",
     "output_type": "stream",
     "text": [
      "Multiple Comparison of Means - Tukey HSD, FWER=0.05\n",
      "=================================================\n",
      "group1 group2 meandiff p-adj lower  upper  reject\n",
      "-------------------------------------------------\n",
      "     0      1     0.93   0.0 0.6862 1.1738   True\n",
      "     0      2    1.582   0.0 1.3382 1.8258   True\n",
      "     1      2    0.652   0.0 0.4082 0.8958   True\n",
      "-------------------------------------------------\n"
     ]
    }
   ],
   "source": [
    "# [7] 사후 검정\n",
    "from statsmodels.stats.multicomp import pairwise_tukeyhsd\n",
    "\n",
    "posthoc_result = pairwise_tukeyhsd(iris[y_feature], iris['target'], alpha=0.05)\n",
    "print(posthoc_result)\n",
    "\n",
    "# 0 - mean: 5.0060\n",
    "# 1 - mean: 5.9360\n",
    "# 2 - mean: 6.588"
   ]
  },
  {
   "cell_type": "code",
   "execution_count": null,
   "metadata": {
    "id": "8-IuMBmaYvXU"
   },
   "outputs": [],
   "source": [
    "# 결과를 보면 모든 그룹에서 통계적인 유의미성(P-value < 0.05)을 가질 수 있는것을 확인 할 수 있음"
   ]
  },
  {
   "cell_type": "code",
   "execution_count": 73,
   "metadata": {
    "id": "TVARqg9ECc-Z"
   },
   "outputs": [
    {
     "data": {
      "image/png": "[encoded data removed]",
      "text/plain": [
       "<Figure size 1000x600 with 1 Axes>"
      ]
     },
     "metadata": {},
     "output_type": "display_data"
    }
   ],
   "source": [
    "# [8] 그림으로 확인하기\n",
    "posthoc_result.plot_simultaneous()\n",
    "plt.show()"
   ]
  },
  {
   "cell_type": "code",
   "execution_count": null,
   "metadata": {
    "colab": {
     "base_uri": "https://localhost:8080/",
     "height": 390
    },
    "id": "3_FdrKC-Y51E",
    "outputId": "d44986b1-a8c8-4224-edf3-bbddd99010fa"
   },
   "outputs": [],
   "source": [
    "# 통계적 의미 갖지 않는 경우\n",
    "# 그림에서 볼 수 있듯이, 그룹 1.0과 2.0은 서로 겹치지 않는것을 볼 수 있음\n",
    "# 반면,1과 3, 2와 3은 겹치기 때문에 유의미한 차이가 없다고 할 수 있음"
   ]
  },
  {
   "cell_type": "code",
   "execution_count": 74,
   "metadata": {
    "tags": []
   },
   "outputs": [
    {
     "name": "stdout",
     "output_type": "stream",
     "text": [
      "Collecting scikit_posthocs\n",
      "  Downloading scikit_posthocs-0.7.0-py3-none-any.whl (38 kB)\n",
      "Requirement already satisfied: matplotlib in /Users/rainmaker/Library/jupyterlab-desktop/jlab_server/lib/python3.8/site-packages (from scikit_posthocs) (3.7.1)\n",
      "Requirement already satisfied: statsmodels in /Users/rainmaker/Library/jupyterlab-desktop/jlab_server/lib/python3.8/site-packages (from scikit_posthocs) (0.14.0)\n",
      "Requirement already satisfied: seaborn in /Users/rainmaker/Library/jupyterlab-desktop/jlab_server/lib/python3.8/site-packages (from scikit_posthocs) (0.12.2)\n",
      "Requirement already satisfied: numpy in /Users/rainmaker/Library/jupyterlab-desktop/jlab_server/lib/python3.8/site-packages (from scikit_posthocs) (1.24.2)\n",
      "Requirement already satisfied: pandas>=0.20.0 in /Users/rainmaker/Library/jupyterlab-desktop/jlab_server/lib/python3.8/site-packages (from scikit_posthocs) (1.5.3)\n",
      "Requirement already satisfied: scipy in /Users/rainmaker/Library/jupyterlab-desktop/jlab_server/lib/python3.8/site-packages (from scikit_posthocs) (1.10.1)\n",
      "Requirement already satisfied: python-dateutil>=2.8.1 in /Users/rainmaker/Library/jupyterlab-desktop/jlab_server/lib/python3.8/site-packages (from pandas>=0.20.0->scikit_posthocs) (2.8.2)\n",
      "Requirement already satisfied: pytz>=2020.1 in /Users/rainmaker/Library/jupyterlab-desktop/jlab_server/lib/python3.8/site-packages (from pandas>=0.20.0->scikit_posthocs) (2022.7.1)\n",
      "Requirement already satisfied: kiwisolver>=1.0.1 in /Users/rainmaker/Library/jupyterlab-desktop/jlab_server/lib/python3.8/site-packages (from matplotlib->scikit_posthocs) (1.4.4)\n",
      "Requirement already satisfied: pillow>=6.2.0 in /Users/rainmaker/Library/jupyterlab-desktop/jlab_server/lib/python3.8/site-packages (from matplotlib->scikit_posthocs) (9.4.0)\n",
      "Requirement already satisfied: importlib-resources>=3.2.0 in /Users/rainmaker/Library/jupyterlab-desktop/jlab_server/lib/python3.8/site-packages (from matplotlib->scikit_posthocs) (5.12.0)\n",
      "Requirement already satisfied: packaging>=20.0 in /Users/rainmaker/Library/jupyterlab-desktop/jlab_server/lib/python3.8/site-packages (from matplotlib->scikit_posthocs) (23.0)\n",
      "Requirement already satisfied: pyparsing>=2.3.1 in /Users/rainmaker/Library/jupyterlab-desktop/jlab_server/lib/python3.8/site-packages (from matplotlib->scikit_posthocs) (3.0.9)\n",
      "Requirement already satisfied: fonttools>=4.22.0 in /Users/rainmaker/Library/jupyterlab-desktop/jlab_server/lib/python3.8/site-packages (from matplotlib->scikit_posthocs) (4.39.2)\n",
      "Requirement already satisfied: contourpy>=1.0.1 in /Users/rainmaker/Library/jupyterlab-desktop/jlab_server/lib/python3.8/site-packages (from matplotlib->scikit_posthocs) (1.0.7)\n",
      "Requirement already satisfied: cycler>=0.10 in /Users/rainmaker/Library/jupyterlab-desktop/jlab_server/lib/python3.8/site-packages (from matplotlib->scikit_posthocs) (0.11.0)\n",
      "Requirement already satisfied: patsy>=0.5.2 in /Users/rainmaker/Library/jupyterlab-desktop/jlab_server/lib/python3.8/site-packages (from statsmodels->scikit_posthocs) (0.5.3)\n",
      "Requirement already satisfied: zipp>=3.1.0 in /Users/rainmaker/Library/jupyterlab-desktop/jlab_server/lib/python3.8/site-packages (from importlib-resources>=3.2.0->matplotlib->scikit_posthocs) (3.15.0)\n",
      "Requirement already satisfied: six in /Users/rainmaker/Library/jupyterlab-desktop/jlab_server/lib/python3.8/site-packages (from patsy>=0.5.2->statsmodels->scikit_posthocs) (1.16.0)\n",
      "Installing collected packages: scikit_posthocs\n",
      "Successfully installed scikit_posthocs-0.7.0\n"
     ]
    }
   ],
   "source": [
    "!pip install scikit_posthocs"
   ]
  },
  {
   "cell_type": "code",
   "execution_count": 80,
   "metadata": {
    "tags": []
   },
   "outputs": [
    {
     "name": "stdout",
     "output_type": "stream",
     "text": [
      "              0             1             2\n",
      "0  1.000000e+00  8.069802e-15  2.657565e-31\n",
      "1  8.069802e-15  1.000000e+00  1.994818e-08\n",
      "2  2.657565e-31  1.994818e-08  1.000000e+00\n"
     ]
    }
   ],
   "source": [
    "from scikit_posthocs import posthoc_scheffe\n",
    "\n",
    "posthoc_result2 = posthoc_scheffe(iris, val_col=y_feature, group_col='target')\n",
    "print(posthoc_result2)"
   ]
  },
  {
   "cell_type": "code",
   "execution_count": null,
   "metadata": {
    "id": "zCeIUdOiZAK8"
   },
   "outputs": [],
   "source": [
    "##  23년 5월 31일 오전 - 여기까지"
   ]
  },
  {
   "cell_type": "markdown",
   "metadata": {
    "id": "70BQM8ljuseJ"
   },
   "source": [
    "#### 4-3.이원분산분석(Two-way ANOVA)\n",
    "- 독립변인의 수가 두 개일 때 집단 간 차이가 유의한지를 검증하는 데 사용\n",
    "- 상호작용효과(Interaction effect) 즉, 한 변수의 변화가 결과에 미치는 영향이 다른 변수의 수준에 따라 달라지는지를 확인하기 위해 사용됨\n",
    "- scipy.stats이나 statsmodels 라이브러리를 이용"
   ]
  },
  {
   "cell_type": "markdown",
   "metadata": {
    "id": "X_Ecebd0useJ"
   },
   "source": [
    "예제 데이터(altman_12_6) 설명\n",
    "태아의 머리 둘레 측정 데이터입니다. \n",
    "4명의 관측자가 3명의 태아를 대상으로 측정을 했습니다. \n",
    "이를 통해서 초음파로 태아의 머리 둘레측정 데이터가 재현성이 있는지를 조사하였습니다."
   ]
  },
  {
   "cell_type": "code",
   "execution_count": 82,
   "metadata": {
    "colab": {
     "base_uri": "https://localhost:8080/",
     "height": 206
    },
    "id": "x9ZPrvEwuseK",
    "outputId": "812574dc-c76c-497b-9177-7c90ed55f53a"
   },
   "outputs": [
    {
     "data": {
      "text/html": [
       "<div>\n",
       "<style scoped>\n",
       "    .dataframe tbody tr th:only-of-type {\n",
       "        vertical-align: middle;\n",
       "    }\n",
       "\n",
       "    .dataframe tbody tr th {\n",
       "        vertical-align: top;\n",
       "    }\n",
       "\n",
       "    .dataframe thead th {\n",
       "        text-align: right;\n",
       "    }\n",
       "</style>\n",
       "<table border=\"1\" class=\"dataframe\">\n",
       "  <thead>\n",
       "    <tr style=\"text-align: right;\">\n",
       "      <th></th>\n",
       "      <th>head_size</th>\n",
       "      <th>fetus</th>\n",
       "      <th>observer</th>\n",
       "    </tr>\n",
       "  </thead>\n",
       "  <tbody>\n",
       "    <tr>\n",
       "      <th>31</th>\n",
       "      <td>12.7</td>\n",
       "      <td>3.0</td>\n",
       "      <td>3.0</td>\n",
       "    </tr>\n",
       "    <tr>\n",
       "      <th>32</th>\n",
       "      <td>12.5</td>\n",
       "      <td>3.0</td>\n",
       "      <td>3.0</td>\n",
       "    </tr>\n",
       "    <tr>\n",
       "      <th>33</th>\n",
       "      <td>13.0</td>\n",
       "      <td>3.0</td>\n",
       "      <td>4.0</td>\n",
       "    </tr>\n",
       "    <tr>\n",
       "      <th>34</th>\n",
       "      <td>12.9</td>\n",
       "      <td>3.0</td>\n",
       "      <td>4.0</td>\n",
       "    </tr>\n",
       "    <tr>\n",
       "      <th>35</th>\n",
       "      <td>13.8</td>\n",
       "      <td>3.0</td>\n",
       "      <td>4.0</td>\n",
       "    </tr>\n",
       "  </tbody>\n",
       "</table>\n",
       "</div>"
      ],
      "text/plain": [
       "    head_size  fetus  observer\n",
       "31       12.7    3.0       3.0\n",
       "32       12.5    3.0       3.0\n",
       "33       13.0    3.0       4.0\n",
       "34       12.9    3.0       4.0\n",
       "35       13.8    3.0       4.0"
      ]
     },
     "execution_count": 82,
     "metadata": {},
     "output_type": "execute_result"
    }
   ],
   "source": [
    "# [1] 데이터 가져오기\n",
    "import pandas as pd\n",
    "data = pd.read_csv('./data_02/altman.csv')\n",
    "data.tail()"
   ]
  },
  {
   "cell_type": "code",
   "execution_count": 85,
   "metadata": {
    "colab": {
     "base_uri": "https://localhost:8080/",
     "height": 478
    },
    "id": "V8zmnyd-Zd2r",
    "outputId": "ea87d0f8-1128-4240-e550-ab0c1bc2d701"
   },
   "outputs": [
    {
     "data": {
      "image/png": "[encoded data removed]",
      "text/plain": [
       "<Figure size 640x480 with 1 Axes>"
      ]
     },
     "metadata": {},
     "output_type": "display_data"
    }
   ],
   "source": [
    "# [2] 태아별 머리 둘레 plot 만들기\n",
    "import seaborn as sns\n",
    "import matplotlib.pyplot as plt\n",
    "\n",
    "sns.boxplot(data=data, x='fetus', y='head_size')\n",
    "\n",
    "plt.show()"
   ]
  },
  {
   "cell_type": "code",
   "execution_count": 91,
   "metadata": {
    "tags": []
   },
   "outputs": [
    {
     "data": {
      "image/png": "[encoded data removed]",
      "text/plain": [
       "<Figure size 640x480 with 1 Axes>"
      ]
     },
     "metadata": {},
     "output_type": "display_data"
    }
   ],
   "source": [
    "import seaborn as sns\n",
    "import matplotlib.pyplot as plt\n",
    "\n",
    "sns.boxplot(data=data, x='observer', y='head_size')\n",
    "\n",
    "plt.show()"
   ]
  },
  {
   "cell_type": "code",
   "execution_count": 86,
   "metadata": {
    "colab": {
     "base_uri": "https://localhost:8080/"
    },
    "id": "d5S4vrklZSHS",
    "outputId": "f6178016-3c43-41c1-f158-3f16369078dc"
   },
   "outputs": [
    {
     "data": {
      "text/plain": [
       "fetus\n",
       "1.0    13.991667\n",
       "2.0    19.691667\n",
       "3.0    12.825000\n",
       "Name: head_size, dtype: float64"
      ]
     },
     "execution_count": 86,
     "metadata": {},
     "output_type": "execute_result"
    }
   ],
   "source": [
    "# [3] 태아별 머리 둘레 평균을 구해봅니다\n",
    "data.groupby('fetus')['head_size'].mean()"
   ]
  },
  {
   "cell_type": "code",
   "execution_count": null,
   "metadata": {
    "id": "GkHaYxzKuseK"
   },
   "outputs": [],
   "source": [
    "# 그림에서 태아(fetus) 3명의 머리 둘레는 차이가 있어 보입니다.\n",
    "# 관측자와 태아에 상호작용 효과 여부를 Two way ANOVA를 통해 알아 보겠습니다"
   ]
  },
  {
   "cell_type": "code",
   "execution_count": null,
   "metadata": {
    "id": "rl1xhAS3dg1-"
   },
   "outputs": [],
   "source": [
    "# 귀무가설 : 관측자별 머리둘레 평균은 동일하다\n",
    "# 대립가설 : 관측자별 머리둘레 평균은 동일하지 않다 (차이가 있다)\n",
    "\n",
    "# 귀무가설 : 태아별 머리둘레 평균은 동일하다\n",
    "# 대립가설 : 태아별 머리둘레 평균은 동일하지 않다 (차이가 있다)\n",
    "\n",
    "# 귀무가설 : 머리둘레평균에 대해 측정자와 태아에 상호작용 효과가 없다\n",
    "# 대립가설 : 머리둘레평균에 대해 측정자와 태아에 상호작용 효과가 있다"
   ]
  },
  {
   "cell_type": "code",
   "execution_count": 92,
   "metadata": {
    "id": "7q_-fTFSuseK"
   },
   "outputs": [
    {
     "name": "stdout",
     "output_type": "stream",
     "text": [
      "               df      sum_sq    mean_sq         F    PR(>F)\n",
      "C(observer)   3.0    1.198611   0.399537  0.039169  0.989451\n",
      "Residual     32.0  326.411111  10.200347       NaN       NaN\n",
      "            df      sum_sq     mean_sq            F        PR(>F)\n",
      "C(fetus)   2.0  324.008889  162.004444  1484.697061  4.756231e-33\n",
      "Residual  33.0    3.600833    0.109116          NaN           NaN\n",
      "                          sum_sq    df            F        PR(>F)\n",
      "C(observer)             1.198611   3.0     5.211353  6.497055e-03\n",
      "C(fetus)              324.008889   2.0  2113.101449  1.051039e-27\n",
      "C(observer):C(fetus)    0.562222   6.0     1.222222  3.295509e-01\n",
      "Residual                1.840000  24.0          NaN           NaN\n"
     ]
    }
   ],
   "source": [
    "from statsmodels.formula.api import ols\n",
    "import statsmodels.api as sm\n",
    "\n",
    "model = ols(formula='head_size ~ C(observer)', data=data).fit()\n",
    "r1 = sm.stats.anova_lm(model, typ=1)\n",
    "print(r1)\n",
    "\n",
    "model = ols(formula='head_size ~ C(fetus)', data=data).fit()\n",
    "r2 = sm.stats.anova_lm(model, typ=1)\n",
    "print(r2)\n",
    "\n",
    "model = ols(formula='head_size ~ C(observer) * C(fetus)', data=data).fit()\n",
    "r3 = sm.stats.anova_lm(model, typ=2)\n",
    "print(r3)"
   ]
  },
  {
   "cell_type": "code",
   "execution_count": null,
   "metadata": {
    "id": "mOXIDzX5useL"
   },
   "outputs": [],
   "source": [
    "# C(fetus):C(observer)의 P-value 가 0.05 이상 입니다, \n",
    "# 따라서 귀무가설을 기각할 수 없고. \n",
    "# 머리둘레평균에 대해 측정자와 태아에 상호작용 효과가 없다\n"
   ]
  }
 ],
 "metadata": {
  "colab": {
   "provenance": []
  },
  "kernelspec": {
   "display_name": "Python 3 (ipykernel)",
   "language": "python",
   "name": "python3"
  },
  "language_info": {
   "codemirror_mode": {
    "name": "ipython",
    "version": 3
   },
   "file_extension": ".py",
   "mimetype": "text/x-python",
   "name": "python",
   "nbconvert_exporter": "python",
   "pygments_lexer": "ipython3",
   "version": "3.8.16"
  }
 },
 "nbformat": 4,
 "nbformat_minor": 4
}
