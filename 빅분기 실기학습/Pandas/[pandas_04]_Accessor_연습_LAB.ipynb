{
 "cells": [
  {
   "cell_type": "markdown",
   "metadata": {
    "id": "JbOnc7BpmYd3"
   },
   "source": [
    "### 1.Accessor - str\n",
    "- str.strip('제거할 문자들') : 문자열의 앞/뒤에 불필요한 것을 제거함\n",
    "   - 제거할 문자들을 지정하지 않을 경우 whitespace를 제거함\n",
    "- str.split('구분자')\n",
    "   - 구분자를 지정하지 않을 경우 whitespace를 기준으로 분리함\n",
    "   - 각 구분된 내용은 str[0], str[1], .. 등으로 접근\n",
    "- str.join('구분자')\n",
    "   - 구분자 지정을 생략할 수 없음\n",
    "   - 분리된 문자열을 구분자를 사이에 넣어 하나의 문자열로 만듦\n",
    "- str.replace(전, 후)\n",
    "   - 문자열의 일부 내용을 변경 가능함\n",
    "   - 변경전 내용을 찾아 변경후 내용으로 바꿈   \n"
   ]
  },
  {
   "cell_type": "code",
   "execution_count": 1,
   "metadata": {
    "id": "044cQzInmcXP",
    "tags": []
   },
   "outputs": [],
   "source": [
    "import pandas as pd"
   ]
  },
  {
   "cell_type": "code",
   "execution_count": 2,
   "metadata": {
    "colab": {
     "base_uri": "https://localhost:8080/"
    },
    "id": "odS0YHbumQqr",
    "outputId": "de4b1f80-991e-428d-caa7-10024c9fe396",
    "tags": []
   },
   "outputs": [
    {
     "name": "stdout",
     "output_type": "stream",
     "text": [
      "              A                           B   C\n",
      "0       김   수민              d2021-10-29.     *7\n",
      "1    이  나라          \\n\\t\\r2021-10-30c    \\n   6\n",
      "2    황   소  라                2021-11-01c     *7\n"
     ]
    }
   ],
   "source": [
    "data = {'A': ['    김   수민 ', '  이  나라     ', '  황   소  라  '],\n",
    "        'B': ['  d2021-10-29.   ', '   \\n\\t\\r2021-10-30c    \\n', '2021-11-01c   '],\n",
    "        'C': ['*7', '6', '*7']}\n",
    "temp = pd.DataFrame(data)\n",
    "print(temp)"
   ]
  },
  {
   "cell_type": "code",
   "execution_count": 3,
   "metadata": {
    "tags": []
   },
   "outputs": [
    {
     "data": {
      "text/html": [
       "<div>\n",
       "<style scoped>\n",
       "    .dataframe tbody tr th:only-of-type {\n",
       "        vertical-align: middle;\n",
       "    }\n",
       "\n",
       "    .dataframe tbody tr th {\n",
       "        vertical-align: top;\n",
       "    }\n",
       "\n",
       "    .dataframe thead th {\n",
       "        text-align: right;\n",
       "    }\n",
       "</style>\n",
       "<table border=\"1\" class=\"dataframe\">\n",
       "  <thead>\n",
       "    <tr style=\"text-align: right;\">\n",
       "      <th></th>\n",
       "      <th>A</th>\n",
       "      <th>B</th>\n",
       "      <th>C</th>\n",
       "    </tr>\n",
       "  </thead>\n",
       "  <tbody>\n",
       "    <tr>\n",
       "      <th>0</th>\n",
       "      <td>김   수민</td>\n",
       "      <td>d2021-10-29.</td>\n",
       "      <td>*7</td>\n",
       "    </tr>\n",
       "    <tr>\n",
       "      <th>1</th>\n",
       "      <td>이  나라</td>\n",
       "      <td>\\n\\t\\r2021-10-30c    \\n</td>\n",
       "      <td>6</td>\n",
       "    </tr>\n",
       "    <tr>\n",
       "      <th>2</th>\n",
       "      <td>황   소  라</td>\n",
       "      <td>2021-11-01c</td>\n",
       "      <td>*7</td>\n",
       "    </tr>\n",
       "  </tbody>\n",
       "</table>\n",
       "</div>"
      ],
      "text/plain": [
       "              A                           B   C\n",
       "0       김   수민              d2021-10-29.     *7\n",
       "1    이  나라          \\n\\t\\r2021-10-30c    \\n   6\n",
       "2    황   소  라                2021-11-01c     *7"
      ]
     },
     "execution_count": 3,
     "metadata": {},
     "output_type": "execute_result"
    }
   ],
   "source": [
    "temp"
   ]
  },
  {
   "cell_type": "code",
   "execution_count": 4,
   "metadata": {
    "id": "V0eDNd9KmiIx",
    "tags": []
   },
   "outputs": [],
   "source": [
    "# [1] 'A' 컬럼의 데이터를 빈칸 없는 이름으로 만들어 temp의 'A'컬럼 뒤에 'A-01'컬럼으로 추가해 보세요.\n",
    "# temp.insert(1, 'A-01', temp['A'].str.strip().str.replace(' ', ''))\n",
    "temp.insert(1, 'A-01', temp['A'].str.split().str.join(''))"
   ]
  },
  {
   "cell_type": "code",
   "execution_count": 5,
   "metadata": {
    "tags": []
   },
   "outputs": [
    {
     "name": "stdout",
     "output_type": "stream",
     "text": [
      "              A A-01                           B   C\n",
      "0       김   수민   김수민             d2021-10-29.     *7\n",
      "1    이  나라       이나라     \\n\\t\\r2021-10-30c    \\n   6\n",
      "2    황   소  라    황소라              2021-11-01c     *7\n"
     ]
    }
   ],
   "source": [
    "print(temp)"
   ]
  },
  {
   "cell_type": "code",
   "execution_count": 6,
   "metadata": {
    "id": "8uVbTsOqr6sB",
    "tags": []
   },
   "outputs": [],
   "source": [
    "# [2] 'B' 컬럼의 데이티를 2021-10-29 처럼 앞/뒤에 공백이나 다른 문자('.dc')가 없도록 만들어 \n",
    "# temp에 'B-01' 컬럼으로 추가해 보세요.\n",
    "# temp.insert(3, 'B-01', temp['B'].str.split().str[0].replace('\\.|d|c', '', regex=True).str.strip())\n",
    "temp.insert(3, 'B-01', temp['B'].str.strip().str.strip('.dc'))"
   ]
  },
  {
   "cell_type": "code",
   "execution_count": 7,
   "metadata": {
    "tags": []
   },
   "outputs": [
    {
     "data": {
      "text/html": [
       "<div>\n",
       "<style scoped>\n",
       "    .dataframe tbody tr th:only-of-type {\n",
       "        vertical-align: middle;\n",
       "    }\n",
       "\n",
       "    .dataframe tbody tr th {\n",
       "        vertical-align: top;\n",
       "    }\n",
       "\n",
       "    .dataframe thead th {\n",
       "        text-align: right;\n",
       "    }\n",
       "</style>\n",
       "<table border=\"1\" class=\"dataframe\">\n",
       "  <thead>\n",
       "    <tr style=\"text-align: right;\">\n",
       "      <th></th>\n",
       "      <th>A</th>\n",
       "      <th>A-01</th>\n",
       "      <th>B</th>\n",
       "      <th>B-01</th>\n",
       "      <th>C</th>\n",
       "    </tr>\n",
       "  </thead>\n",
       "  <tbody>\n",
       "    <tr>\n",
       "      <th>0</th>\n",
       "      <td>김   수민</td>\n",
       "      <td>김수민</td>\n",
       "      <td>d2021-10-29.</td>\n",
       "      <td>2021-10-29</td>\n",
       "      <td>*7</td>\n",
       "    </tr>\n",
       "    <tr>\n",
       "      <th>1</th>\n",
       "      <td>이  나라</td>\n",
       "      <td>이나라</td>\n",
       "      <td>\\n\\t\\r2021-10-30c    \\n</td>\n",
       "      <td>2021-10-30</td>\n",
       "      <td>6</td>\n",
       "    </tr>\n",
       "    <tr>\n",
       "      <th>2</th>\n",
       "      <td>황   소  라</td>\n",
       "      <td>황소라</td>\n",
       "      <td>2021-11-01c</td>\n",
       "      <td>2021-11-01</td>\n",
       "      <td>*7</td>\n",
       "    </tr>\n",
       "  </tbody>\n",
       "</table>\n",
       "</div>"
      ],
      "text/plain": [
       "              A A-01                           B        B-01   C\n",
       "0       김   수민   김수민             d2021-10-29.     2021-10-29  *7\n",
       "1    이  나라       이나라     \\n\\t\\r2021-10-30c    \\n  2021-10-30   6\n",
       "2    황   소  라    황소라              2021-11-01c     2021-11-01  *7"
      ]
     },
     "execution_count": 7,
     "metadata": {},
     "output_type": "execute_result"
    }
   ],
   "source": [
    "temp"
   ]
  },
  {
   "cell_type": "code",
   "execution_count": 8,
   "metadata": {
    "id": "i2MK6YY6soem",
    "tags": []
   },
   "outputs": [],
   "source": [
    "# [3] 'B-01' 컬럼의 데이터에서 '-'를 '/'로 수정해 temp에 'B-02' 컬럼으로 추가해 보세요.\n",
    "temp.insert(4, 'B-02', temp['B-01'].str.replace('-', '/'))"
   ]
  },
  {
   "cell_type": "code",
   "execution_count": 9,
   "metadata": {
    "tags": []
   },
   "outputs": [
    {
     "data": {
      "text/html": [
       "<div>\n",
       "<style scoped>\n",
       "    .dataframe tbody tr th:only-of-type {\n",
       "        vertical-align: middle;\n",
       "    }\n",
       "\n",
       "    .dataframe tbody tr th {\n",
       "        vertical-align: top;\n",
       "    }\n",
       "\n",
       "    .dataframe thead th {\n",
       "        text-align: right;\n",
       "    }\n",
       "</style>\n",
       "<table border=\"1\" class=\"dataframe\">\n",
       "  <thead>\n",
       "    <tr style=\"text-align: right;\">\n",
       "      <th></th>\n",
       "      <th>A</th>\n",
       "      <th>A-01</th>\n",
       "      <th>B</th>\n",
       "      <th>B-01</th>\n",
       "      <th>B-02</th>\n",
       "      <th>C</th>\n",
       "    </tr>\n",
       "  </thead>\n",
       "  <tbody>\n",
       "    <tr>\n",
       "      <th>0</th>\n",
       "      <td>김   수민</td>\n",
       "      <td>김수민</td>\n",
       "      <td>d2021-10-29.</td>\n",
       "      <td>2021-10-29</td>\n",
       "      <td>2021/10/29</td>\n",
       "      <td>*7</td>\n",
       "    </tr>\n",
       "    <tr>\n",
       "      <th>1</th>\n",
       "      <td>이  나라</td>\n",
       "      <td>이나라</td>\n",
       "      <td>\\n\\t\\r2021-10-30c    \\n</td>\n",
       "      <td>2021-10-30</td>\n",
       "      <td>2021/10/30</td>\n",
       "      <td>6</td>\n",
       "    </tr>\n",
       "    <tr>\n",
       "      <th>2</th>\n",
       "      <td>황   소  라</td>\n",
       "      <td>황소라</td>\n",
       "      <td>2021-11-01c</td>\n",
       "      <td>2021-11-01</td>\n",
       "      <td>2021/11/01</td>\n",
       "      <td>*7</td>\n",
       "    </tr>\n",
       "  </tbody>\n",
       "</table>\n",
       "</div>"
      ],
      "text/plain": [
       "              A A-01                           B        B-01        B-02   C\n",
       "0       김   수민   김수민             d2021-10-29.     2021-10-29  2021/10/29  *7\n",
       "1    이  나라       이나라     \\n\\t\\r2021-10-30c    \\n  2021-10-30  2021/10/30   6\n",
       "2    황   소  라    황소라              2021-11-01c     2021-11-01  2021/11/01  *7"
      ]
     },
     "execution_count": 9,
     "metadata": {},
     "output_type": "execute_result"
    }
   ],
   "source": [
    "temp"
   ]
  },
  {
   "cell_type": "code",
   "execution_count": 10,
   "metadata": {
    "id": "ytRlgBPbuT52",
    "tags": []
   },
   "outputs": [],
   "source": [
    "# [4] 'C' 컬럼에서 *을 제거하고 숫자로 변경해 'C-01'컬럼으로 추가해 보세요.\n",
    "temp['C-01'] = temp['C'].str.replace('*', '', regex=True).astype('int')"
   ]
  },
  {
   "cell_type": "code",
   "execution_count": 11,
   "metadata": {
    "tags": []
   },
   "outputs": [
    {
     "name": "stdout",
     "output_type": "stream",
     "text": [
      "              A A-01                           B        B-01        B-02   C  \\\n",
      "0       김   수민   김수민             d2021-10-29.     2021-10-29  2021/10/29  *7   \n",
      "1    이  나라       이나라     \\n\\t\\r2021-10-30c    \\n  2021-10-30  2021/10/30   6   \n",
      "2    황   소  라    황소라              2021-11-01c     2021-11-01  2021/11/01  *7   \n",
      "\n",
      "   C-01  \n",
      "0     7  \n",
      "1     6  \n",
      "2     7  \n"
     ]
    }
   ],
   "source": [
    "print(temp)"
   ]
  },
  {
   "cell_type": "code",
   "execution_count": 12,
   "metadata": {
    "tags": []
   },
   "outputs": [
    {
     "name": "stdout",
     "output_type": "stream",
     "text": [
      "<class 'pandas.core.frame.DataFrame'>\n",
      "RangeIndex: 3 entries, 0 to 2\n",
      "Data columns (total 7 columns):\n",
      " #   Column  Non-Null Count  Dtype \n",
      "---  ------  --------------  ----- \n",
      " 0   A       3 non-null      object\n",
      " 1   A-01    3 non-null      object\n",
      " 2   B       3 non-null      object\n",
      " 3   B-01    3 non-null      object\n",
      " 4   B-02    3 non-null      object\n",
      " 5   C       3 non-null      object\n",
      " 6   C-01    3 non-null      int64 \n",
      "dtypes: int64(1), object(6)\n",
      "memory usage: 296.0+ bytes\n"
     ]
    }
   ],
   "source": [
    "temp.info()"
   ]
  }
 ],
 "metadata": {
  "colab": {
   "provenance": []
  },
  "kernelspec": {
   "display_name": "Python 3 (ipykernel)",
   "language": "python",
   "name": "python3"
  },
  "language_info": {
   "codemirror_mode": {
    "name": "ipython",
    "version": 3
   },
   "file_extension": ".py",
   "mimetype": "text/x-python",
   "name": "python",
   "nbconvert_exporter": "python",
   "pygments_lexer": "ipython3",
   "version": "3.8.16"
  }
 },
 "nbformat": 4,
 "nbformat_minor": 4
}
