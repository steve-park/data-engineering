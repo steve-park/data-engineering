{
 "cells": [
  {
   "cell_type": "markdown",
   "metadata": {
    "id": "m-xsbSqReLdM"
   },
   "source": [
    "## 1.파일 다운로드"
   ]
  },
  {
   "cell_type": "code",
   "execution_count": null,
   "metadata": {
    "colab": {
     "base_uri": "https://localhost:8080/"
    },
    "id": "P9C8K6NzjXZ-",
    "outputId": "a1c9075b-b3fa-4b39-e2d6-751b99ef2ce1"
   },
   "outputs": [],
   "source": [
    "!git clone https://github.com/Soyoung-Yoon/data_01"
   ]
  },
  {
   "cell_type": "markdown",
   "metadata": {
    "id": "1WebHNIdC7Tw"
   },
   "source": [
    "## 2.Colab에서 한글 폰트 사용하기"
   ]
  },
  {
   "cell_type": "code",
   "execution_count": null,
   "metadata": {
    "colab": {
     "base_uri": "https://localhost:8080/"
    },
    "id": "3_Sluf9vw4-l",
    "outputId": "2a2ce105-a19e-4a75-91a1-ee23a8bd60e2"
   },
   "outputs": [],
   "source": [
    "###########폰트 라이브러리 불러오기#############\n",
    "import matplotlib.font_manager as fm\n",
    "import matplotlib.pyplot as plt\n",
    "import matplotlib as mpl\n",
    "\n",
    "!sudo apt-get install -qq -y fonts-nanum\n",
    "\n",
    "%config InlineBackend.figure_format = 'retina'\n",
    "sys_font=fm.findSystemFonts()\n",
    "path = '/usr/share/fonts/truetype/nanum/NanumGothic.ttf'  # 설치된 나눔글꼴중 원하는 녀석의 전체 경로를 가져오자\n",
    "font_name = fm.FontProperties(fname=path, size=10).get_name()\n",
    "plt.rc('font', family=font_name)\n",
    "mpl.font_manager._rebuild()\n",
    "print('설치가 되었습니다.')"
   ]
  },
  {
   "cell_type": "code",
   "execution_count": null,
   "metadata": {
    "id": "EKBYIzIXyQfb"
   },
   "outputs": [],
   "source": [
    "# 위의 코드 실행 후 colab 메뉴에서 '런타임' -> '런타임 다시 시작' 실행"
   ]
  },
  {
   "cell_type": "code",
   "execution_count": 1,
   "metadata": {
    "id": "hmAoWXeZxJ6u",
    "tags": []
   },
   "outputs": [
    {
     "ename": "AttributeError",
     "evalue": "module 'matplotlib.font_manager' has no attribute '_rebuild'",
     "output_type": "error",
     "traceback": [
      "\u001b[1;31m---------------------------------------------------------------------------\u001b[0m",
      "\u001b[1;31mAttributeError\u001b[0m                            Traceback (most recent call last)",
      "Cell \u001b[1;32mIn[1], line 6\u001b[0m\n\u001b[0;32m      3\u001b[0m \u001b[38;5;28;01mimport\u001b[39;00m \u001b[38;5;21;01mmatplotlib\u001b[39;00m\u001b[38;5;21;01m.\u001b[39;00m\u001b[38;5;21;01mfont_manager\u001b[39;00m \u001b[38;5;28;01mas\u001b[39;00m \u001b[38;5;21;01mfm\u001b[39;00m  \u001b[38;5;66;03m# 폰트 관련 용도\u001b[39;00m\n\u001b[0;32m      5\u001b[0m plt\u001b[38;5;241m.\u001b[39mrcParams[\u001b[38;5;124m'\u001b[39m\u001b[38;5;124mfont.family\u001b[39m\u001b[38;5;124m'\u001b[39m]\u001b[38;5;241m=\u001b[39m\u001b[38;5;124m'\u001b[39m\u001b[38;5;124mNanumGothic\u001b[39m\u001b[38;5;124m'\u001b[39m  \u001b[38;5;66;03m#폰트 설정\u001b[39;00m\n\u001b[1;32m----> 6\u001b[0m \u001b[43mfm\u001b[49m\u001b[38;5;241;43m.\u001b[39;49m\u001b[43m_rebuild\u001b[49m()\n",
      "\u001b[1;31mAttributeError\u001b[0m: module 'matplotlib.font_manager' has no attribute '_rebuild'"
     ]
    }
   ],
   "source": [
    "####### 런타임 다시 시작 후 실행 #######\n",
    "import matplotlib.pyplot as plt  # 그래프 그리는 용도\n",
    "import matplotlib.font_manager as fm  # 폰트 관련 용도\n",
    "\n",
    "plt.rcParams['font.family']='NanumGothic'  #폰트 설정\n",
    "fm._rebuild()"
   ]
  },
  {
   "cell_type": "markdown",
   "metadata": {
    "id": "1FXv-P-uaHra"
   },
   "source": [
    "## 3.Youtube 인기 채널은?"
   ]
  },
  {
   "cell_type": "markdown",
   "metadata": {
    "id": "ay5HHZzWSfVz"
   },
   "source": [
    "- title\t: 채널명\n",
    "- category : 카테고리\n",
    "- subscriber : 구독자수\n",
    "- view : 조회수\n",
    "- video : 영상개수"
   ]
  },
  {
   "cell_type": "code",
   "execution_count": 11,
   "metadata": {
    "id": "iTtyx1zraMub",
    "tags": []
   },
   "outputs": [],
   "source": [
    "# [1-0] 사용라이브러리 import\n",
    "import pandas as pd"
   ]
  },
  {
   "cell_type": "markdown",
   "metadata": {
    "id": "r_FeZ2g9C3YQ"
   },
   "source": [
    "### 3-1. 파일 읽어오기\n",
    "- 엑셀 파일 : pd.read_excel('파일이름', engine='openpyxl')\n",
    "- csv 파일 : pd.read_csv('파일이름') "
   ]
  },
  {
   "cell_type": "code",
   "execution_count": null,
   "metadata": {
    "tags": []
   },
   "outputs": [],
   "source": [
    "!pip install openpyxl"
   ]
  },
  {
   "cell_type": "code",
   "execution_count": 12,
   "metadata": {
    "id": "5lrhkR4LXjmr",
    "tags": []
   },
   "outputs": [],
   "source": [
    "# [1-1] youtube_rank.xlsx 파일을 DataFrame 으로 읽어 df라는 이름을 붙입니다\n",
    "df = pd.read_excel('./data_01/youtube_rank.xlsx', engine='openpyxl')"
   ]
  },
  {
   "cell_type": "code",
   "execution_count": 13,
   "metadata": {
    "tags": []
   },
   "outputs": [],
   "source": [
    "# 원본을 복사하여 둡니다\n",
    "original = df.copy()"
   ]
  },
  {
   "cell_type": "code",
   "execution_count": 14,
   "metadata": {
    "tags": []
   },
   "outputs": [
    {
     "data": {
      "text/html": [
       "<div>\n",
       "<style scoped>\n",
       "    .dataframe tbody tr th:only-of-type {\n",
       "        vertical-align: middle;\n",
       "    }\n",
       "\n",
       "    .dataframe tbody tr th {\n",
       "        vertical-align: top;\n",
       "    }\n",
       "\n",
       "    .dataframe thead th {\n",
       "        text-align: right;\n",
       "    }\n",
       "</style>\n",
       "<table border=\"1\" class=\"dataframe\">\n",
       "  <thead>\n",
       "    <tr style=\"text-align: right;\">\n",
       "      <th></th>\n",
       "      <th>title</th>\n",
       "      <th>category</th>\n",
       "      <th>subscriber</th>\n",
       "      <th>view</th>\n",
       "      <th>video</th>\n",
       "    </tr>\n",
       "  </thead>\n",
       "  <tbody>\n",
       "    <tr>\n",
       "      <th>0</th>\n",
       "      <td>BLACKPINK</td>\n",
       "      <td>[음악/댄스/가수]</td>\n",
       "      <td>5140만</td>\n",
       "      <td>128억5130만</td>\n",
       "      <td>319개</td>\n",
       "    </tr>\n",
       "    <tr>\n",
       "      <th>1</th>\n",
       "      <td>Big Hit Labels</td>\n",
       "      <td>[음악/댄스/가수]</td>\n",
       "      <td>4550만</td>\n",
       "      <td>120억8966만</td>\n",
       "      <td>433개</td>\n",
       "    </tr>\n",
       "    <tr>\n",
       "      <th>2</th>\n",
       "      <td>BANGTANTV</td>\n",
       "      <td>[음악/댄스/가수]</td>\n",
       "      <td>3870만</td>\n",
       "      <td>54억7598만</td>\n",
       "      <td>1,319개</td>\n",
       "    </tr>\n",
       "    <tr>\n",
       "      <th>3</th>\n",
       "      <td>Boram Tube Vlog [보람튜브 브이로그]</td>\n",
       "      <td>[키즈/어린이]</td>\n",
       "      <td>2650만</td>\n",
       "      <td>110억5288만</td>\n",
       "      <td>223개</td>\n",
       "    </tr>\n",
       "    <tr>\n",
       "      <th>4</th>\n",
       "      <td>SMTOWN</td>\n",
       "      <td>[음악/댄스/가수]</td>\n",
       "      <td>2450만</td>\n",
       "      <td>180억7532만</td>\n",
       "      <td>3,583개</td>\n",
       "    </tr>\n",
       "  </tbody>\n",
       "</table>\n",
       "</div>"
      ],
      "text/plain": [
       "                         title    category subscriber       view   video\n",
       "0                    BLACKPINK  [음악/댄스/가수]      5140만  128억5130만    319개\n",
       "1               Big Hit Labels  [음악/댄스/가수]      4550만  120억8966만    433개\n",
       "2                    BANGTANTV  [음악/댄스/가수]      3870만   54억7598만  1,319개\n",
       "3  Boram Tube Vlog [보람튜브 브이로그]    [키즈/어린이]      2650만  110억5288만    223개\n",
       "4                       SMTOWN  [음악/댄스/가수]      2450만  180억7532만  3,583개"
      ]
     },
     "execution_count": 14,
     "metadata": {},
     "output_type": "execute_result"
    }
   ],
   "source": [
    "df.head()"
   ]
  },
  {
   "cell_type": "code",
   "execution_count": 15,
   "metadata": {
    "id": "CIpbf7gUVN2n",
    "tags": []
   },
   "outputs": [],
   "source": [
    "# [1-1] youtube_rank.csv 파일을 DataFrame으로 읽어 temp라는 이름을 붙입니다\n",
    "temp = pd.read_csv('./data_01/youtube_rank.csv')"
   ]
  },
  {
   "cell_type": "markdown",
   "metadata": {
    "id": "VM-balyxAsWc"
   },
   "source": [
    "### 3-2. 데이터 구조 확인\n",
    "- DataFrame.head(n=5) : 처음부터 n개 행의 데이터 가져오기\n",
    "- DataFrame.tail(n=5) : 마지막 n개 행의 데이터 가져오기\n",
    "- DataFrame.info(memory_usage='deep') : 데이터 프레임의 row 개수 및 각 column의 Non null, dtype 정보 및 메모리 사용량을 확인함\n",
    "- DataFrame.shape : 데이터 프레임의 행, 열의 수를 tuple로 반환"
   ]
  },
  {
   "cell_type": "code",
   "execution_count": 16,
   "metadata": {
    "id": "3V4SQuulcBYi",
    "tags": []
   },
   "outputs": [
    {
     "data": {
      "text/html": [
       "<div>\n",
       "<style scoped>\n",
       "    .dataframe tbody tr th:only-of-type {\n",
       "        vertical-align: middle;\n",
       "    }\n",
       "\n",
       "    .dataframe tbody tr th {\n",
       "        vertical-align: top;\n",
       "    }\n",
       "\n",
       "    .dataframe thead th {\n",
       "        text-align: right;\n",
       "    }\n",
       "</style>\n",
       "<table border=\"1\" class=\"dataframe\">\n",
       "  <thead>\n",
       "    <tr style=\"text-align: right;\">\n",
       "      <th></th>\n",
       "      <th>title</th>\n",
       "      <th>category</th>\n",
       "      <th>subscriber</th>\n",
       "      <th>view</th>\n",
       "      <th>video</th>\n",
       "    </tr>\n",
       "  </thead>\n",
       "  <tbody>\n",
       "    <tr>\n",
       "      <th>0</th>\n",
       "      <td>BLACKPINK</td>\n",
       "      <td>[음악/댄스/가수]</td>\n",
       "      <td>5140만</td>\n",
       "      <td>128억5130만</td>\n",
       "      <td>319개</td>\n",
       "    </tr>\n",
       "    <tr>\n",
       "      <th>1</th>\n",
       "      <td>Big Hit Labels</td>\n",
       "      <td>[음악/댄스/가수]</td>\n",
       "      <td>4550만</td>\n",
       "      <td>120억8966만</td>\n",
       "      <td>433개</td>\n",
       "    </tr>\n",
       "    <tr>\n",
       "      <th>2</th>\n",
       "      <td>BANGTANTV</td>\n",
       "      <td>[음악/댄스/가수]</td>\n",
       "      <td>3870만</td>\n",
       "      <td>54억7598만</td>\n",
       "      <td>1,319개</td>\n",
       "    </tr>\n",
       "    <tr>\n",
       "      <th>3</th>\n",
       "      <td>Boram Tube Vlog [보람튜브 브이로그]</td>\n",
       "      <td>[키즈/어린이]</td>\n",
       "      <td>2650만</td>\n",
       "      <td>110억5288만</td>\n",
       "      <td>223개</td>\n",
       "    </tr>\n",
       "    <tr>\n",
       "      <th>4</th>\n",
       "      <td>SMTOWN</td>\n",
       "      <td>[음악/댄스/가수]</td>\n",
       "      <td>2450만</td>\n",
       "      <td>180억7532만</td>\n",
       "      <td>3,583개</td>\n",
       "    </tr>\n",
       "  </tbody>\n",
       "</table>\n",
       "</div>"
      ],
      "text/plain": [
       "                         title    category subscriber       view   video\n",
       "0                    BLACKPINK  [음악/댄스/가수]      5140만  128억5130만    319개\n",
       "1               Big Hit Labels  [음악/댄스/가수]      4550만  120억8966만    433개\n",
       "2                    BANGTANTV  [음악/댄스/가수]      3870만   54억7598만  1,319개\n",
       "3  Boram Tube Vlog [보람튜브 브이로그]    [키즈/어린이]      2650만  110억5288만    223개\n",
       "4                       SMTOWN  [음악/댄스/가수]      2450만  180억7532만  3,583개"
      ]
     },
     "execution_count": 16,
     "metadata": {},
     "output_type": "execute_result"
    }
   ],
   "source": [
    "# [1-2] 읽어온 df 의 내용 중 첫 5개 행을 출력해 내용을 확인합니다\n",
    "df.head(5)"
   ]
  },
  {
   "cell_type": "code",
   "execution_count": 17,
   "metadata": {
    "tags": []
   },
   "outputs": [
    {
     "data": {
      "text/html": [
       "<div>\n",
       "<style scoped>\n",
       "    .dataframe tbody tr th:only-of-type {\n",
       "        vertical-align: middle;\n",
       "    }\n",
       "\n",
       "    .dataframe tbody tr th {\n",
       "        vertical-align: top;\n",
       "    }\n",
       "\n",
       "    .dataframe thead th {\n",
       "        text-align: right;\n",
       "    }\n",
       "</style>\n",
       "<table border=\"1\" class=\"dataframe\">\n",
       "  <thead>\n",
       "    <tr style=\"text-align: right;\">\n",
       "      <th></th>\n",
       "      <th>title</th>\n",
       "      <th>category</th>\n",
       "      <th>subscriber</th>\n",
       "      <th>view</th>\n",
       "      <th>video</th>\n",
       "    </tr>\n",
       "  </thead>\n",
       "  <tbody>\n",
       "    <tr>\n",
       "      <th>997</th>\n",
       "      <td>OCN</td>\n",
       "      <td>[TV/방송]</td>\n",
       "      <td>40만</td>\n",
       "      <td>3억4583만</td>\n",
       "      <td>10,071개</td>\n",
       "    </tr>\n",
       "    <tr>\n",
       "      <th>998</th>\n",
       "      <td>Bravo jamoasi</td>\n",
       "      <td>[미분류]</td>\n",
       "      <td>40만</td>\n",
       "      <td>6193만</td>\n",
       "      <td>25개</td>\n",
       "    </tr>\n",
       "    <tr>\n",
       "      <th>999</th>\n",
       "      <td>덕출 : DCTVGO</td>\n",
       "      <td>[TV/방송]</td>\n",
       "      <td>40만</td>\n",
       "      <td>8249만</td>\n",
       "      <td>202개</td>\n",
       "    </tr>\n",
       "  </tbody>\n",
       "</table>\n",
       "</div>"
      ],
      "text/plain": [
       "             title category subscriber     view    video\n",
       "997            OCN  [TV/방송]        40만  3억4583만  10,071개\n",
       "998  Bravo jamoasi    [미분류]        40만    6193만      25개\n",
       "999    덕출 : DCTVGO  [TV/방송]        40만    8249만     202개"
      ]
     },
     "execution_count": 17,
     "metadata": {},
     "output_type": "execute_result"
    }
   ],
   "source": [
    "df.tail(3)"
   ]
  },
  {
   "cell_type": "code",
   "execution_count": 18,
   "metadata": {
    "id": "EPWzmblScNM3",
    "tags": []
   },
   "outputs": [
    {
     "name": "stdout",
     "output_type": "stream",
     "text": [
      "<class 'pandas.core.frame.DataFrame'>\n",
      "RangeIndex: 1000 entries, 0 to 999\n",
      "Data columns (total 5 columns):\n",
      " #   Column      Non-Null Count  Dtype \n",
      "---  ------      --------------  ----- \n",
      " 0   title       1000 non-null   object\n",
      " 1   category    1000 non-null   object\n",
      " 2   subscriber  1000 non-null   object\n",
      " 3   view        1000 non-null   object\n",
      " 4   video       1000 non-null   object\n",
      "dtypes: object(5)\n",
      "memory usage: 455.5 KB\n"
     ]
    }
   ],
   "source": [
    "# [1-3] df의 row의 개수 및 각 column의 정보 및 메모리 사용량을 확인합니다.\n",
    "df.info(memory_usage='deep')"
   ]
  },
  {
   "cell_type": "code",
   "execution_count": 19,
   "metadata": {
    "tags": []
   },
   "outputs": [
    {
     "data": {
      "text/plain": [
       "title         object\n",
       "category      object\n",
       "subscriber    object\n",
       "view          object\n",
       "video         object\n",
       "dtype: object"
      ]
     },
     "execution_count": 19,
     "metadata": {},
     "output_type": "execute_result"
    }
   ],
   "source": [
    "df.dtypes"
   ]
  },
  {
   "cell_type": "code",
   "execution_count": 20,
   "metadata": {
    "id": "89ZwXs84AT4B",
    "tags": []
   },
   "outputs": [
    {
     "data": {
      "text/plain": [
       "(1000, 5)"
      ]
     },
     "execution_count": 20,
     "metadata": {},
     "output_type": "execute_result"
    }
   ],
   "source": [
    "# [1-4] df의 행, 열의 수를 확인합니다. (shape 사용)\n",
    "df.shape"
   ]
  },
  {
   "cell_type": "markdown",
   "metadata": {
    "id": "5Qp1nSZUMJpE"
   },
   "source": [
    "DataFrame의 구성요소\n",
    "- DataFrame.index : 행 index\n",
    "- DataFrame.columns : 열 index\n",
    "- DataFrame.values : 2차원 데이터"
   ]
  },
  {
   "cell_type": "markdown",
   "metadata": {
    "id": "1OGOZTC-IEES"
   },
   "source": [
    "![image.png](data:image/png;base64,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)"
   ]
  },
  {
   "cell_type": "code",
   "execution_count": 21,
   "metadata": {
    "id": "Q2TLUcd3ATy_",
    "tags": []
   },
   "outputs": [
    {
     "data": {
      "text/plain": [
       "RangeIndex(start=0, stop=1000, step=1)"
      ]
     },
     "execution_count": 21,
     "metadata": {},
     "output_type": "execute_result"
    }
   ],
   "source": [
    "# [1-5] df의 index 구성요소 확인\n",
    "df.index"
   ]
  },
  {
   "cell_type": "code",
   "execution_count": 22,
   "metadata": {
    "id": "2M4ovXO0ATvP",
    "tags": []
   },
   "outputs": [
    {
     "data": {
      "text/plain": [
       "Index(['title', 'category', 'subscriber', 'view', 'video'], dtype='object')"
      ]
     },
     "execution_count": 22,
     "metadata": {},
     "output_type": "execute_result"
    }
   ],
   "source": [
    "# [1-6] df의 columns 구성요소 확인\n",
    "df.columns"
   ]
  },
  {
   "cell_type": "code",
   "execution_count": 23,
   "metadata": {
    "id": "YhyIj7e-ATpg",
    "tags": []
   },
   "outputs": [
    {
     "data": {
      "text/plain": [
       "array([0, 1, 2, 3, 4, 5, 6, 7, 8, 9], dtype=int64)"
      ]
     },
     "execution_count": 23,
     "metadata": {},
     "output_type": "execute_result"
    }
   ],
   "source": [
    "# [1-7] df의 values 구성요소 확인\n",
    "# ndarray - numpy의 배열, df.values => 2차원\n",
    "df.index.values[:10]"
   ]
  },
  {
   "cell_type": "code",
   "execution_count": 24,
   "metadata": {
    "tags": []
   },
   "outputs": [
    {
     "data": {
      "text/plain": [
       "array(['title', 'category', 'subscriber', 'view', 'video'], dtype=object)"
      ]
     },
     "execution_count": 24,
     "metadata": {},
     "output_type": "execute_result"
    }
   ],
   "source": [
    "df.columns.values"
   ]
  },
  {
   "cell_type": "code",
   "execution_count": 25,
   "metadata": {
    "tags": []
   },
   "outputs": [
    {
     "data": {
      "text/plain": [
       "array([['BLACKPINK', '[음악/댄스/가수]', '5140만', '128억5130만', '319개'],\n",
       "       ['Big Hit Labels', '[음악/댄스/가수]', '4550만', '120억8966만', '433개'],\n",
       "       ['BANGTANTV', '[음악/댄스/가수]', '3870만', '54억7598만', '1,319개'],\n",
       "       ...,\n",
       "       ['OCN', '[TV/방송]', '40만', '3억4583만', '10,071개'],\n",
       "       ['Bravo jamoasi', '[미분류]', '40만', '6193만', '25개'],\n",
       "       ['덕출 : DCTVGO', '[TV/방송]', '40만', '8249만', '202개']], dtype=object)"
      ]
     },
     "execution_count": 25,
     "metadata": {},
     "output_type": "execute_result"
    }
   ],
   "source": [
    "df.values"
   ]
  },
  {
   "cell_type": "markdown",
   "metadata": {
    "id": "AzfK-0BEMhlX"
   },
   "source": [
    "DataFrame의 한 개의 column은 Series이다.\n",
    "- DataFrame[컬럼명] : Series\n",
    "- DataFrame[[컬럼명1, 컬럼명2, ...]] : DataFrame"
   ]
  },
  {
   "cell_type": "code",
   "execution_count": 26,
   "metadata": {
    "id": "TPUjyH8YLfbg",
    "tags": []
   },
   "outputs": [
    {
     "name": "stdout",
     "output_type": "stream",
     "text": [
      "0         319개\n",
      "1         433개\n",
      "2       1,319개\n",
      "3         223개\n",
      "4       3,583개\n",
      "        ...   \n",
      "995       503개\n",
      "996       226개\n",
      "997    10,071개\n",
      "998        25개\n",
      "999       202개\n",
      "Name: video, Length: 1000, dtype: object\n"
     ]
    }
   ],
   "source": [
    "# [1-8] 데이터프레임의 'video' 컬럼의 내용 중 첫 5개 행을 출력합니다.\n",
    "# dtype : 'object' -> 문자열\n",
    "s = df['video']\n",
    "s.head()\n",
    "print(s)"
   ]
  },
  {
   "cell_type": "code",
   "execution_count": 27,
   "metadata": {
    "tags": []
   },
   "outputs": [
    {
     "name": "stdout",
     "output_type": "stream",
     "text": [
      "    video           title\n",
      "0    319개       BLACKPINK\n",
      "1    433개  Big Hit Labels\n",
      "2  1,319개       BANGTANTV\n"
     ]
    }
   ],
   "source": [
    "temp = df[['video', 'title']]\n",
    "type(temp)\n",
    "print(temp.head(3))"
   ]
  },
  {
   "cell_type": "markdown",
   "metadata": {
    "id": "Om4szxbfMpZm"
   },
   "source": [
    "Series의 구성요소\n",
    "- Series.index : Series의 행 index\n",
    "- Series.values : 1차원 Series 데이터"
   ]
  },
  {
   "cell_type": "markdown",
   "metadata": {
    "id": "qfDJ7W8KMz6C"
   },
   "source": [
    "![image.png](data:image/png;base64,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)"
   ]
  },
  {
   "cell_type": "code",
   "execution_count": 28,
   "metadata": {
    "id": "WCoxWvPMMAZi",
    "tags": []
   },
   "outputs": [
    {
     "data": {
      "text/plain": [
       "RangeIndex(start=0, stop=1000, step=1)"
      ]
     },
     "execution_count": 28,
     "metadata": {},
     "output_type": "execute_result"
    }
   ],
   "source": [
    "# [1-9] Series의 index 구성요소 확인\n",
    "s.index"
   ]
  },
  {
   "cell_type": "code",
   "execution_count": 29,
   "metadata": {
    "id": "6RDioQh_M4lh",
    "tags": []
   },
   "outputs": [
    {
     "data": {
      "text/plain": [
       "array(['319개', '433개', '1,319개', '223개', '3,583개', '2,205개', '13,291개',\n",
       "       '1,181개', '112개', '2,417개'], dtype=object)"
      ]
     },
     "execution_count": 29,
     "metadata": {},
     "output_type": "execute_result"
    }
   ],
   "source": [
    "# [1-10] Series의 values 구성요소 확인\n",
    "# 1차원 numpy arraindexdarray)\n",
    "s.values[:10]"
   ]
  },
  {
   "cell_type": "markdown",
   "metadata": {
    "id": "eRSuqgPLOBlm"
   },
   "source": [
    "DataFrame의 index, columns 및 Series의 index 는 대입연산을 사용하여 변경 가능합니다\n",
    "- 다만, 개수가 동일해야 함"
   ]
  },
  {
   "cell_type": "code",
   "execution_count": 30,
   "metadata": {
    "tags": []
   },
   "outputs": [
    {
     "data": {
      "text/plain": [
       "Index(['title', 'category', 'subscriber', 'view', 'video'], dtype='object')"
      ]
     },
     "execution_count": 30,
     "metadata": {},
     "output_type": "execute_result"
    }
   ],
   "source": [
    "df.columns"
   ]
  },
  {
   "cell_type": "code",
   "execution_count": 31,
   "metadata": {
    "id": "scqI0XwuolLD",
    "tags": []
   },
   "outputs": [
    {
     "data": {
      "text/html": [
       "<div>\n",
       "<style scoped>\n",
       "    .dataframe tbody tr th:only-of-type {\n",
       "        vertical-align: middle;\n",
       "    }\n",
       "\n",
       "    .dataframe tbody tr th {\n",
       "        vertical-align: top;\n",
       "    }\n",
       "\n",
       "    .dataframe thead th {\n",
       "        text-align: right;\n",
       "    }\n",
       "</style>\n",
       "<table border=\"1\" class=\"dataframe\">\n",
       "  <thead>\n",
       "    <tr style=\"text-align: right;\">\n",
       "      <th></th>\n",
       "      <th>채널</th>\n",
       "      <th>카테고리</th>\n",
       "      <th>구독자</th>\n",
       "      <th>조회</th>\n",
       "      <th>영상</th>\n",
       "    </tr>\n",
       "  </thead>\n",
       "  <tbody>\n",
       "    <tr>\n",
       "      <th>0</th>\n",
       "      <td>BLACKPINK</td>\n",
       "      <td>[음악/댄스/가수]</td>\n",
       "      <td>5140만</td>\n",
       "      <td>128억5130만</td>\n",
       "      <td>319개</td>\n",
       "    </tr>\n",
       "    <tr>\n",
       "      <th>1</th>\n",
       "      <td>Big Hit Labels</td>\n",
       "      <td>[음악/댄스/가수]</td>\n",
       "      <td>4550만</td>\n",
       "      <td>120억8966만</td>\n",
       "      <td>433개</td>\n",
       "    </tr>\n",
       "  </tbody>\n",
       "</table>\n",
       "</div>"
      ],
      "text/plain": [
       "               채널        카테고리    구독자         조회    영상\n",
       "0       BLACKPINK  [음악/댄스/가수]  5140만  128억5130만  319개\n",
       "1  Big Hit Labels  [음악/댄스/가수]  4550만  120억8966만  433개"
      ]
     },
     "execution_count": 31,
     "metadata": {},
     "output_type": "execute_result"
    }
   ],
   "source": [
    "# [1-11] 컬럼의 이름을 ['채널', '카테고리', '구독자', '조회', '영상']으로 변경합니다.\n",
    "# 변경 후 상위 2개 행을 출력해 봅니다.\n",
    "df.columns = ['채널', '카테고리', '구독자', '조회', '영상']\n",
    "df.head(2)"
   ]
  },
  {
   "cell_type": "code",
   "execution_count": 32,
   "metadata": {
    "tags": []
   },
   "outputs": [
    {
     "data": {
      "text/plain": [
       "Index(['채널', '카테고리', '구독자', '조회', '영상'], dtype='object')"
      ]
     },
     "execution_count": 32,
     "metadata": {},
     "output_type": "execute_result"
    }
   ],
   "source": [
    "df.columns"
   ]
  },
  {
   "cell_type": "code",
   "execution_count": 33,
   "metadata": {
    "id": "JFFl8l6-kizJ",
    "tags": []
   },
   "outputs": [
    {
     "ename": "SyntaxError",
     "evalue": "invalid syntax (2158553696.py, line 1)",
     "output_type": "error",
     "traceback": [
      "\u001b[1;36m  Cell \u001b[1;32mIn[33], line 1\u001b[1;36m\u001b[0m\n\u001b[1;33m    df[]   # indexing을 사용하여 value를 변경한다.\u001b[0m\n\u001b[1;37m       ^\u001b[0m\n\u001b[1;31mSyntaxError\u001b[0m\u001b[1;31m:\u001b[0m invalid syntax\n"
     ]
    }
   ],
   "source": [
    "df[]   # indexing을 사용하여 value를 변경한다."
   ]
  },
  {
   "cell_type": "markdown",
   "metadata": {
    "id": "Z8I4hBfYIb8k"
   },
   "source": [
    "### 3-3. 데이터 타입 변경"
   ]
  },
  {
   "cell_type": "code",
   "execution_count": 34,
   "metadata": {
    "id": "vK_Mib7Fq5GK",
    "tags": []
   },
   "outputs": [],
   "source": [
    "# [1-12] 원본(original)을 복사하여 df 이름을 부여합니다.\n",
    "df = original.copy()"
   ]
  },
  {
   "cell_type": "code",
   "execution_count": 35,
   "metadata": {
    "id": "Dt_XkCz_VUh6",
    "tags": []
   },
   "outputs": [
    {
     "data": {
      "text/html": [
       "<div>\n",
       "<style scoped>\n",
       "    .dataframe tbody tr th:only-of-type {\n",
       "        vertical-align: middle;\n",
       "    }\n",
       "\n",
       "    .dataframe tbody tr th {\n",
       "        vertical-align: top;\n",
       "    }\n",
       "\n",
       "    .dataframe thead th {\n",
       "        text-align: right;\n",
       "    }\n",
       "</style>\n",
       "<table border=\"1\" class=\"dataframe\">\n",
       "  <thead>\n",
       "    <tr style=\"text-align: right;\">\n",
       "      <th></th>\n",
       "      <th>title</th>\n",
       "      <th>category</th>\n",
       "      <th>subscriber</th>\n",
       "      <th>view</th>\n",
       "      <th>video</th>\n",
       "    </tr>\n",
       "  </thead>\n",
       "  <tbody>\n",
       "    <tr>\n",
       "      <th>0</th>\n",
       "      <td>BLACKPINK</td>\n",
       "      <td>[음악/댄스/가수]</td>\n",
       "      <td>5140만</td>\n",
       "      <td>128억5130만</td>\n",
       "      <td>319개</td>\n",
       "    </tr>\n",
       "    <tr>\n",
       "      <th>1</th>\n",
       "      <td>Big Hit Labels</td>\n",
       "      <td>[음악/댄스/가수]</td>\n",
       "      <td>4550만</td>\n",
       "      <td>120억8966만</td>\n",
       "      <td>433개</td>\n",
       "    </tr>\n",
       "    <tr>\n",
       "      <th>2</th>\n",
       "      <td>BANGTANTV</td>\n",
       "      <td>[음악/댄스/가수]</td>\n",
       "      <td>3870만</td>\n",
       "      <td>54억7598만</td>\n",
       "      <td>1,319개</td>\n",
       "    </tr>\n",
       "    <tr>\n",
       "      <th>3</th>\n",
       "      <td>Boram Tube Vlog [보람튜브 브이로그]</td>\n",
       "      <td>[키즈/어린이]</td>\n",
       "      <td>2650만</td>\n",
       "      <td>110억5288만</td>\n",
       "      <td>223개</td>\n",
       "    </tr>\n",
       "    <tr>\n",
       "      <th>4</th>\n",
       "      <td>SMTOWN</td>\n",
       "      <td>[음악/댄스/가수]</td>\n",
       "      <td>2450만</td>\n",
       "      <td>180억7532만</td>\n",
       "      <td>3,583개</td>\n",
       "    </tr>\n",
       "  </tbody>\n",
       "</table>\n",
       "</div>"
      ],
      "text/plain": [
       "                         title    category subscriber       view   video\n",
       "0                    BLACKPINK  [음악/댄스/가수]      5140만  128억5130만    319개\n",
       "1               Big Hit Labels  [음악/댄스/가수]      4550만  120억8966만    433개\n",
       "2                    BANGTANTV  [음악/댄스/가수]      3870만   54억7598만  1,319개\n",
       "3  Boram Tube Vlog [보람튜브 브이로그]    [키즈/어린이]      2650만  110억5288만    223개\n",
       "4                       SMTOWN  [음악/댄스/가수]      2450만  180억7532만  3,583개"
      ]
     },
     "execution_count": 35,
     "metadata": {},
     "output_type": "execute_result"
    }
   ],
   "source": [
    "# [1-13] df의 내용 중 첫 5개 행을 출력합니다.\n",
    "df.head(5)"
   ]
  },
  {
   "cell_type": "markdown",
   "metadata": {
    "id": "2vaaQtcgO8dX"
   },
   "source": [
    "데이터의 dtype을 확인하는 방법\n",
    "- DataFrame.info() : dtype 뿐 아니라 Non Null, Memory의 정보까지 표시됨\n",
    "- DataFrame.dtypes : 각 columns 별 dtype 확인\n",
    "- Series.dtype : Series의 dtype 확인"
   ]
  },
  {
   "cell_type": "code",
   "execution_count": 36,
   "metadata": {
    "id": "7DYfJvo4O5Y3",
    "tags": []
   },
   "outputs": [
    {
     "name": "stdout",
     "output_type": "stream",
     "text": [
      "<class 'pandas.core.frame.DataFrame'>\n",
      "RangeIndex: 1000 entries, 0 to 999\n",
      "Data columns (total 5 columns):\n",
      " #   Column      Non-Null Count  Dtype \n",
      "---  ------      --------------  ----- \n",
      " 0   title       1000 non-null   object\n",
      " 1   category    1000 non-null   object\n",
      " 2   subscriber  1000 non-null   object\n",
      " 3   view        1000 non-null   object\n",
      " 4   video       1000 non-null   object\n",
      "dtypes: object(5)\n",
      "memory usage: 455.5 KB\n"
     ]
    }
   ],
   "source": [
    "# [1-14] df의 각 column 별 dtype을 확인합니다.\n",
    "df.info(memory_usage='deep')"
   ]
  },
  {
   "cell_type": "code",
   "execution_count": 37,
   "metadata": {
    "id": "8pIgIz5LAh7Q",
    "tags": []
   },
   "outputs": [
    {
     "name": "stdout",
     "output_type": "stream",
     "text": [
      "object\n",
      "object\n"
     ]
    }
   ],
   "source": [
    "# [1-15] df의 'subscriber' 컬럼의 데이터타입(dtype)을 확인해 봅니다.\n",
    "print(df.subscriber.dtype)\n",
    "print(df['subscriber'].dtype)"
   ]
  },
  {
   "cell_type": "code",
   "execution_count": 38,
   "metadata": {
    "tags": []
   },
   "outputs": [
    {
     "data": {
      "text/plain": [
       "dtype('O')"
      ]
     },
     "execution_count": 38,
     "metadata": {},
     "output_type": "execute_result"
    }
   ],
   "source": [
    "df['subscriber'].dtype"
   ]
  },
  {
   "cell_type": "code",
   "execution_count": 39,
   "metadata": {
    "id": "n-vGd_TK9m_A",
    "tags": []
   },
   "outputs": [
    {
     "data": {
      "text/plain": [
       "0    5140만\n",
       "1    4550만\n",
       "2    3870만\n",
       "Name: subscriber, dtype: object"
      ]
     },
     "execution_count": 39,
     "metadata": {},
     "output_type": "execute_result"
    }
   ],
   "source": [
    "# [1-16] df의 'subscriber'의 첫 3개 행을 출력해 내용을 확인합니다.\n",
    "df['subscriber'].head(3)"
   ]
  },
  {
   "cell_type": "markdown",
   "metadata": {
    "id": "-gVG7fnEWvzz"
   },
   "source": [
    "데이터 타입을 변경하는 방법\n",
    "- Series.astype(타입)\n",
    "- 타입 표시 방법 : 'int', 'int32', 'int64', 'float', 'str', 'category',  ... 등의 문자열로 지정, np.int16, np.float32, np.datetime64, ... 등의 numpy 타입으로 지정\n",
    "- numpy 타입으로 지정하기 위해서는  ```import numpy as np```  를 먼저 실행하여야 함\n",
    "\n"
   ]
  },
  {
   "cell_type": "code",
   "execution_count": 40,
   "metadata": {
    "id": "DsewJEr3I9qU",
    "tags": []
   },
   "outputs": [
    {
     "ename": "ValueError",
     "evalue": "invalid literal for int() with base 10: '5140만'",
     "output_type": "error",
     "traceback": [
      "\u001b[1;31m---------------------------------------------------------------------------\u001b[0m",
      "\u001b[1;31mValueError\u001b[0m                                Traceback (most recent call last)",
      "Cell \u001b[1;32mIn[40], line 3\u001b[0m\n\u001b[0;32m      1\u001b[0m \u001b[38;5;66;03m# [1-17] df의 'subscriber'컬럼의 dtype을 'int64' 으로 변경하여 보자\u001b[39;00m\n\u001b[0;32m      2\u001b[0m \u001b[38;5;66;03m# 오류 발생함 - 한글, 특수문자 등이 섞여 있으면 정수로 변경할 수 없음\u001b[39;00m\n\u001b[1;32m----> 3\u001b[0m df[\u001b[38;5;124m'\u001b[39m\u001b[38;5;124msubscriber\u001b[39m\u001b[38;5;124m'\u001b[39m] \u001b[38;5;241m=\u001b[39m \u001b[43mdf\u001b[49m\u001b[43m[\u001b[49m\u001b[38;5;124;43m'\u001b[39;49m\u001b[38;5;124;43msubscriber\u001b[39;49m\u001b[38;5;124;43m'\u001b[39;49m\u001b[43m]\u001b[49m\u001b[38;5;241;43m.\u001b[39;49m\u001b[43mastype\u001b[49m\u001b[43m(\u001b[49m\u001b[38;5;124;43m'\u001b[39;49m\u001b[38;5;124;43mint64\u001b[39;49m\u001b[38;5;124;43m'\u001b[39;49m\u001b[43m)\u001b[49m\n",
      "File \u001b[1;32mD:\\Program Files\\Python311\\Lib\\site-packages\\pandas\\core\\generic.py:6324\u001b[0m, in \u001b[0;36mNDFrame.astype\u001b[1;34m(self, dtype, copy, errors)\u001b[0m\n\u001b[0;32m   6317\u001b[0m     results \u001b[38;5;241m=\u001b[39m [\n\u001b[0;32m   6318\u001b[0m         \u001b[38;5;28mself\u001b[39m\u001b[38;5;241m.\u001b[39miloc[:, i]\u001b[38;5;241m.\u001b[39mastype(dtype, copy\u001b[38;5;241m=\u001b[39mcopy)\n\u001b[0;32m   6319\u001b[0m         \u001b[38;5;28;01mfor\u001b[39;00m i \u001b[38;5;129;01min\u001b[39;00m \u001b[38;5;28mrange\u001b[39m(\u001b[38;5;28mlen\u001b[39m(\u001b[38;5;28mself\u001b[39m\u001b[38;5;241m.\u001b[39mcolumns))\n\u001b[0;32m   6320\u001b[0m     ]\n\u001b[0;32m   6322\u001b[0m \u001b[38;5;28;01melse\u001b[39;00m:\n\u001b[0;32m   6323\u001b[0m     \u001b[38;5;66;03m# else, only a single dtype is given\u001b[39;00m\n\u001b[1;32m-> 6324\u001b[0m     new_data \u001b[38;5;241m=\u001b[39m \u001b[38;5;28;43mself\u001b[39;49m\u001b[38;5;241;43m.\u001b[39;49m\u001b[43m_mgr\u001b[49m\u001b[38;5;241;43m.\u001b[39;49m\u001b[43mastype\u001b[49m\u001b[43m(\u001b[49m\u001b[43mdtype\u001b[49m\u001b[38;5;241;43m=\u001b[39;49m\u001b[43mdtype\u001b[49m\u001b[43m,\u001b[49m\u001b[43m \u001b[49m\u001b[43mcopy\u001b[49m\u001b[38;5;241;43m=\u001b[39;49m\u001b[43mcopy\u001b[49m\u001b[43m,\u001b[49m\u001b[43m \u001b[49m\u001b[43merrors\u001b[49m\u001b[38;5;241;43m=\u001b[39;49m\u001b[43merrors\u001b[49m\u001b[43m)\u001b[49m\n\u001b[0;32m   6325\u001b[0m     \u001b[38;5;28;01mreturn\u001b[39;00m \u001b[38;5;28mself\u001b[39m\u001b[38;5;241m.\u001b[39m_constructor(new_data)\u001b[38;5;241m.\u001b[39m__finalize__(\u001b[38;5;28mself\u001b[39m, method\u001b[38;5;241m=\u001b[39m\u001b[38;5;124m\"\u001b[39m\u001b[38;5;124mastype\u001b[39m\u001b[38;5;124m\"\u001b[39m)\n\u001b[0;32m   6327\u001b[0m \u001b[38;5;66;03m# GH 33113: handle empty frame or series\u001b[39;00m\n",
      "File \u001b[1;32mD:\\Program Files\\Python311\\Lib\\site-packages\\pandas\\core\\internals\\managers.py:451\u001b[0m, in \u001b[0;36mBaseBlockManager.astype\u001b[1;34m(self, dtype, copy, errors)\u001b[0m\n\u001b[0;32m    448\u001b[0m \u001b[38;5;28;01melif\u001b[39;00m using_copy_on_write():\n\u001b[0;32m    449\u001b[0m     copy \u001b[38;5;241m=\u001b[39m \u001b[38;5;28;01mFalse\u001b[39;00m\n\u001b[1;32m--> 451\u001b[0m \u001b[38;5;28;01mreturn\u001b[39;00m \u001b[38;5;28;43mself\u001b[39;49m\u001b[38;5;241;43m.\u001b[39;49m\u001b[43mapply\u001b[49m\u001b[43m(\u001b[49m\n\u001b[0;32m    452\u001b[0m \u001b[43m    \u001b[49m\u001b[38;5;124;43m\"\u001b[39;49m\u001b[38;5;124;43mastype\u001b[39;49m\u001b[38;5;124;43m\"\u001b[39;49m\u001b[43m,\u001b[49m\n\u001b[0;32m    453\u001b[0m \u001b[43m    \u001b[49m\u001b[43mdtype\u001b[49m\u001b[38;5;241;43m=\u001b[39;49m\u001b[43mdtype\u001b[49m\u001b[43m,\u001b[49m\n\u001b[0;32m    454\u001b[0m \u001b[43m    \u001b[49m\u001b[43mcopy\u001b[49m\u001b[38;5;241;43m=\u001b[39;49m\u001b[43mcopy\u001b[49m\u001b[43m,\u001b[49m\n\u001b[0;32m    455\u001b[0m \u001b[43m    \u001b[49m\u001b[43merrors\u001b[49m\u001b[38;5;241;43m=\u001b[39;49m\u001b[43merrors\u001b[49m\u001b[43m,\u001b[49m\n\u001b[0;32m    456\u001b[0m \u001b[43m    \u001b[49m\u001b[43musing_cow\u001b[49m\u001b[38;5;241;43m=\u001b[39;49m\u001b[43musing_copy_on_write\u001b[49m\u001b[43m(\u001b[49m\u001b[43m)\u001b[49m\u001b[43m,\u001b[49m\n\u001b[0;32m    457\u001b[0m \u001b[43m\u001b[49m\u001b[43m)\u001b[49m\n",
      "File \u001b[1;32mD:\\Program Files\\Python311\\Lib\\site-packages\\pandas\\core\\internals\\managers.py:352\u001b[0m, in \u001b[0;36mBaseBlockManager.apply\u001b[1;34m(self, f, align_keys, **kwargs)\u001b[0m\n\u001b[0;32m    350\u001b[0m         applied \u001b[38;5;241m=\u001b[39m b\u001b[38;5;241m.\u001b[39mapply(f, \u001b[38;5;241m*\u001b[39m\u001b[38;5;241m*\u001b[39mkwargs)\n\u001b[0;32m    351\u001b[0m     \u001b[38;5;28;01melse\u001b[39;00m:\n\u001b[1;32m--> 352\u001b[0m         applied \u001b[38;5;241m=\u001b[39m \u001b[38;5;28;43mgetattr\u001b[39;49m\u001b[43m(\u001b[49m\u001b[43mb\u001b[49m\u001b[43m,\u001b[49m\u001b[43m \u001b[49m\u001b[43mf\u001b[49m\u001b[43m)\u001b[49m\u001b[43m(\u001b[49m\u001b[38;5;241;43m*\u001b[39;49m\u001b[38;5;241;43m*\u001b[39;49m\u001b[43mkwargs\u001b[49m\u001b[43m)\u001b[49m\n\u001b[0;32m    353\u001b[0m     result_blocks \u001b[38;5;241m=\u001b[39m extend_blocks(applied, result_blocks)\n\u001b[0;32m    355\u001b[0m out \u001b[38;5;241m=\u001b[39m \u001b[38;5;28mtype\u001b[39m(\u001b[38;5;28mself\u001b[39m)\u001b[38;5;241m.\u001b[39mfrom_blocks(result_blocks, \u001b[38;5;28mself\u001b[39m\u001b[38;5;241m.\u001b[39maxes)\n",
      "File \u001b[1;32mD:\\Program Files\\Python311\\Lib\\site-packages\\pandas\\core\\internals\\blocks.py:511\u001b[0m, in \u001b[0;36mBlock.astype\u001b[1;34m(self, dtype, copy, errors, using_cow)\u001b[0m\n\u001b[0;32m    491\u001b[0m \u001b[38;5;250m\u001b[39m\u001b[38;5;124;03m\"\"\"\u001b[39;00m\n\u001b[0;32m    492\u001b[0m \u001b[38;5;124;03mCoerce to the new dtype.\u001b[39;00m\n\u001b[0;32m    493\u001b[0m \n\u001b[1;32m   (...)\u001b[0m\n\u001b[0;32m    507\u001b[0m \u001b[38;5;124;03mBlock\u001b[39;00m\n\u001b[0;32m    508\u001b[0m \u001b[38;5;124;03m\"\"\"\u001b[39;00m\n\u001b[0;32m    509\u001b[0m values \u001b[38;5;241m=\u001b[39m \u001b[38;5;28mself\u001b[39m\u001b[38;5;241m.\u001b[39mvalues\n\u001b[1;32m--> 511\u001b[0m new_values \u001b[38;5;241m=\u001b[39m \u001b[43mastype_array_safe\u001b[49m\u001b[43m(\u001b[49m\u001b[43mvalues\u001b[49m\u001b[43m,\u001b[49m\u001b[43m \u001b[49m\u001b[43mdtype\u001b[49m\u001b[43m,\u001b[49m\u001b[43m \u001b[49m\u001b[43mcopy\u001b[49m\u001b[38;5;241;43m=\u001b[39;49m\u001b[43mcopy\u001b[49m\u001b[43m,\u001b[49m\u001b[43m \u001b[49m\u001b[43merrors\u001b[49m\u001b[38;5;241;43m=\u001b[39;49m\u001b[43merrors\u001b[49m\u001b[43m)\u001b[49m\n\u001b[0;32m    513\u001b[0m new_values \u001b[38;5;241m=\u001b[39m maybe_coerce_values(new_values)\n\u001b[0;32m    515\u001b[0m refs \u001b[38;5;241m=\u001b[39m \u001b[38;5;28;01mNone\u001b[39;00m\n",
      "File \u001b[1;32mD:\\Program Files\\Python311\\Lib\\site-packages\\pandas\\core\\dtypes\\astype.py:242\u001b[0m, in \u001b[0;36mastype_array_safe\u001b[1;34m(values, dtype, copy, errors)\u001b[0m\n\u001b[0;32m    239\u001b[0m     dtype \u001b[38;5;241m=\u001b[39m dtype\u001b[38;5;241m.\u001b[39mnumpy_dtype\n\u001b[0;32m    241\u001b[0m \u001b[38;5;28;01mtry\u001b[39;00m:\n\u001b[1;32m--> 242\u001b[0m     new_values \u001b[38;5;241m=\u001b[39m \u001b[43mastype_array\u001b[49m\u001b[43m(\u001b[49m\u001b[43mvalues\u001b[49m\u001b[43m,\u001b[49m\u001b[43m \u001b[49m\u001b[43mdtype\u001b[49m\u001b[43m,\u001b[49m\u001b[43m \u001b[49m\u001b[43mcopy\u001b[49m\u001b[38;5;241;43m=\u001b[39;49m\u001b[43mcopy\u001b[49m\u001b[43m)\u001b[49m\n\u001b[0;32m    243\u001b[0m \u001b[38;5;28;01mexcept\u001b[39;00m (\u001b[38;5;167;01mValueError\u001b[39;00m, \u001b[38;5;167;01mTypeError\u001b[39;00m):\n\u001b[0;32m    244\u001b[0m     \u001b[38;5;66;03m# e.g. _astype_nansafe can fail on object-dtype of strings\u001b[39;00m\n\u001b[0;32m    245\u001b[0m     \u001b[38;5;66;03m#  trying to convert to float\u001b[39;00m\n\u001b[0;32m    246\u001b[0m     \u001b[38;5;28;01mif\u001b[39;00m errors \u001b[38;5;241m==\u001b[39m \u001b[38;5;124m\"\u001b[39m\u001b[38;5;124mignore\u001b[39m\u001b[38;5;124m\"\u001b[39m:\n",
      "File \u001b[1;32mD:\\Program Files\\Python311\\Lib\\site-packages\\pandas\\core\\dtypes\\astype.py:187\u001b[0m, in \u001b[0;36mastype_array\u001b[1;34m(values, dtype, copy)\u001b[0m\n\u001b[0;32m    184\u001b[0m     values \u001b[38;5;241m=\u001b[39m values\u001b[38;5;241m.\u001b[39mastype(dtype, copy\u001b[38;5;241m=\u001b[39mcopy)\n\u001b[0;32m    186\u001b[0m \u001b[38;5;28;01melse\u001b[39;00m:\n\u001b[1;32m--> 187\u001b[0m     values \u001b[38;5;241m=\u001b[39m \u001b[43m_astype_nansafe\u001b[49m\u001b[43m(\u001b[49m\u001b[43mvalues\u001b[49m\u001b[43m,\u001b[49m\u001b[43m \u001b[49m\u001b[43mdtype\u001b[49m\u001b[43m,\u001b[49m\u001b[43m \u001b[49m\u001b[43mcopy\u001b[49m\u001b[38;5;241;43m=\u001b[39;49m\u001b[43mcopy\u001b[49m\u001b[43m)\u001b[49m\n\u001b[0;32m    189\u001b[0m \u001b[38;5;66;03m# in pandas we don't store numpy str dtypes, so convert to object\u001b[39;00m\n\u001b[0;32m    190\u001b[0m \u001b[38;5;28;01mif\u001b[39;00m \u001b[38;5;28misinstance\u001b[39m(dtype, np\u001b[38;5;241m.\u001b[39mdtype) \u001b[38;5;129;01mand\u001b[39;00m \u001b[38;5;28missubclass\u001b[39m(values\u001b[38;5;241m.\u001b[39mdtype\u001b[38;5;241m.\u001b[39mtype, \u001b[38;5;28mstr\u001b[39m):\n",
      "File \u001b[1;32mD:\\Program Files\\Python311\\Lib\\site-packages\\pandas\\core\\dtypes\\astype.py:138\u001b[0m, in \u001b[0;36m_astype_nansafe\u001b[1;34m(arr, dtype, copy, skipna)\u001b[0m\n\u001b[0;32m    134\u001b[0m     \u001b[38;5;28;01mraise\u001b[39;00m \u001b[38;5;167;01mValueError\u001b[39;00m(msg)\n\u001b[0;32m    136\u001b[0m \u001b[38;5;28;01mif\u001b[39;00m copy \u001b[38;5;129;01mor\u001b[39;00m is_object_dtype(arr\u001b[38;5;241m.\u001b[39mdtype) \u001b[38;5;129;01mor\u001b[39;00m is_object_dtype(dtype):\n\u001b[0;32m    137\u001b[0m     \u001b[38;5;66;03m# Explicit copy, or required since NumPy can't view from / to object.\u001b[39;00m\n\u001b[1;32m--> 138\u001b[0m     \u001b[38;5;28;01mreturn\u001b[39;00m \u001b[43marr\u001b[49m\u001b[38;5;241;43m.\u001b[39;49m\u001b[43mastype\u001b[49m\u001b[43m(\u001b[49m\u001b[43mdtype\u001b[49m\u001b[43m,\u001b[49m\u001b[43m \u001b[49m\u001b[43mcopy\u001b[49m\u001b[38;5;241;43m=\u001b[39;49m\u001b[38;5;28;43;01mTrue\u001b[39;49;00m\u001b[43m)\u001b[49m\n\u001b[0;32m    140\u001b[0m \u001b[38;5;28;01mreturn\u001b[39;00m arr\u001b[38;5;241m.\u001b[39mastype(dtype, copy\u001b[38;5;241m=\u001b[39mcopy)\n",
      "\u001b[1;31mValueError\u001b[0m: invalid literal for int() with base 10: '5140만'"
     ]
    }
   ],
   "source": [
    "# [1-17] df의 'subscriber'컬럼의 dtype을 'int64' 으로 변경하여 보자\n",
    "# 오류 발생함 - 한글, 특수문자 등이 섞여 있으면 정수로 변경할 수 없음\n",
    "df['subscriber'] = df['subscriber'].astype('int64')"
   ]
  },
  {
   "cell_type": "code",
   "execution_count": 41,
   "metadata": {
    "tags": []
   },
   "outputs": [
    {
     "ename": "ValueError",
     "evalue": "invalid literal for int() with base 10: '5140만'",
     "output_type": "error",
     "traceback": [
      "\u001b[1;31m---------------------------------------------------------------------------\u001b[0m",
      "\u001b[1;31mValueError\u001b[0m                                Traceback (most recent call last)",
      "Cell \u001b[1;32mIn[41], line 2\u001b[0m\n\u001b[0;32m      1\u001b[0m \u001b[38;5;28;01mimport\u001b[39;00m \u001b[38;5;21;01mnumpy\u001b[39;00m \u001b[38;5;28;01mas\u001b[39;00m \u001b[38;5;21;01mnp\u001b[39;00m\n\u001b[1;32m----> 2\u001b[0m \u001b[43mdf\u001b[49m\u001b[43m[\u001b[49m\u001b[38;5;124;43m'\u001b[39;49m\u001b[38;5;124;43msubscriber\u001b[39;49m\u001b[38;5;124;43m'\u001b[39;49m\u001b[43m]\u001b[49m\u001b[38;5;241;43m.\u001b[39;49m\u001b[43mastype\u001b[49m\u001b[43m(\u001b[49m\u001b[43mnp\u001b[49m\u001b[38;5;241;43m.\u001b[39;49m\u001b[43mint64\u001b[49m\u001b[43m)\u001b[49m\n",
      "File \u001b[1;32mD:\\Program Files\\Python311\\Lib\\site-packages\\pandas\\core\\generic.py:6324\u001b[0m, in \u001b[0;36mNDFrame.astype\u001b[1;34m(self, dtype, copy, errors)\u001b[0m\n\u001b[0;32m   6317\u001b[0m     results \u001b[38;5;241m=\u001b[39m [\n\u001b[0;32m   6318\u001b[0m         \u001b[38;5;28mself\u001b[39m\u001b[38;5;241m.\u001b[39miloc[:, i]\u001b[38;5;241m.\u001b[39mastype(dtype, copy\u001b[38;5;241m=\u001b[39mcopy)\n\u001b[0;32m   6319\u001b[0m         \u001b[38;5;28;01mfor\u001b[39;00m i \u001b[38;5;129;01min\u001b[39;00m \u001b[38;5;28mrange\u001b[39m(\u001b[38;5;28mlen\u001b[39m(\u001b[38;5;28mself\u001b[39m\u001b[38;5;241m.\u001b[39mcolumns))\n\u001b[0;32m   6320\u001b[0m     ]\n\u001b[0;32m   6322\u001b[0m \u001b[38;5;28;01melse\u001b[39;00m:\n\u001b[0;32m   6323\u001b[0m     \u001b[38;5;66;03m# else, only a single dtype is given\u001b[39;00m\n\u001b[1;32m-> 6324\u001b[0m     new_data \u001b[38;5;241m=\u001b[39m \u001b[38;5;28;43mself\u001b[39;49m\u001b[38;5;241;43m.\u001b[39;49m\u001b[43m_mgr\u001b[49m\u001b[38;5;241;43m.\u001b[39;49m\u001b[43mastype\u001b[49m\u001b[43m(\u001b[49m\u001b[43mdtype\u001b[49m\u001b[38;5;241;43m=\u001b[39;49m\u001b[43mdtype\u001b[49m\u001b[43m,\u001b[49m\u001b[43m \u001b[49m\u001b[43mcopy\u001b[49m\u001b[38;5;241;43m=\u001b[39;49m\u001b[43mcopy\u001b[49m\u001b[43m,\u001b[49m\u001b[43m \u001b[49m\u001b[43merrors\u001b[49m\u001b[38;5;241;43m=\u001b[39;49m\u001b[43merrors\u001b[49m\u001b[43m)\u001b[49m\n\u001b[0;32m   6325\u001b[0m     \u001b[38;5;28;01mreturn\u001b[39;00m \u001b[38;5;28mself\u001b[39m\u001b[38;5;241m.\u001b[39m_constructor(new_data)\u001b[38;5;241m.\u001b[39m__finalize__(\u001b[38;5;28mself\u001b[39m, method\u001b[38;5;241m=\u001b[39m\u001b[38;5;124m\"\u001b[39m\u001b[38;5;124mastype\u001b[39m\u001b[38;5;124m\"\u001b[39m)\n\u001b[0;32m   6327\u001b[0m \u001b[38;5;66;03m# GH 33113: handle empty frame or series\u001b[39;00m\n",
      "File \u001b[1;32mD:\\Program Files\\Python311\\Lib\\site-packages\\pandas\\core\\internals\\managers.py:451\u001b[0m, in \u001b[0;36mBaseBlockManager.astype\u001b[1;34m(self, dtype, copy, errors)\u001b[0m\n\u001b[0;32m    448\u001b[0m \u001b[38;5;28;01melif\u001b[39;00m using_copy_on_write():\n\u001b[0;32m    449\u001b[0m     copy \u001b[38;5;241m=\u001b[39m \u001b[38;5;28;01mFalse\u001b[39;00m\n\u001b[1;32m--> 451\u001b[0m \u001b[38;5;28;01mreturn\u001b[39;00m \u001b[38;5;28;43mself\u001b[39;49m\u001b[38;5;241;43m.\u001b[39;49m\u001b[43mapply\u001b[49m\u001b[43m(\u001b[49m\n\u001b[0;32m    452\u001b[0m \u001b[43m    \u001b[49m\u001b[38;5;124;43m\"\u001b[39;49m\u001b[38;5;124;43mastype\u001b[39;49m\u001b[38;5;124;43m\"\u001b[39;49m\u001b[43m,\u001b[49m\n\u001b[0;32m    453\u001b[0m \u001b[43m    \u001b[49m\u001b[43mdtype\u001b[49m\u001b[38;5;241;43m=\u001b[39;49m\u001b[43mdtype\u001b[49m\u001b[43m,\u001b[49m\n\u001b[0;32m    454\u001b[0m \u001b[43m    \u001b[49m\u001b[43mcopy\u001b[49m\u001b[38;5;241;43m=\u001b[39;49m\u001b[43mcopy\u001b[49m\u001b[43m,\u001b[49m\n\u001b[0;32m    455\u001b[0m \u001b[43m    \u001b[49m\u001b[43merrors\u001b[49m\u001b[38;5;241;43m=\u001b[39;49m\u001b[43merrors\u001b[49m\u001b[43m,\u001b[49m\n\u001b[0;32m    456\u001b[0m \u001b[43m    \u001b[49m\u001b[43musing_cow\u001b[49m\u001b[38;5;241;43m=\u001b[39;49m\u001b[43musing_copy_on_write\u001b[49m\u001b[43m(\u001b[49m\u001b[43m)\u001b[49m\u001b[43m,\u001b[49m\n\u001b[0;32m    457\u001b[0m \u001b[43m\u001b[49m\u001b[43m)\u001b[49m\n",
      "File \u001b[1;32mD:\\Program Files\\Python311\\Lib\\site-packages\\pandas\\core\\internals\\managers.py:352\u001b[0m, in \u001b[0;36mBaseBlockManager.apply\u001b[1;34m(self, f, align_keys, **kwargs)\u001b[0m\n\u001b[0;32m    350\u001b[0m         applied \u001b[38;5;241m=\u001b[39m b\u001b[38;5;241m.\u001b[39mapply(f, \u001b[38;5;241m*\u001b[39m\u001b[38;5;241m*\u001b[39mkwargs)\n\u001b[0;32m    351\u001b[0m     \u001b[38;5;28;01melse\u001b[39;00m:\n\u001b[1;32m--> 352\u001b[0m         applied \u001b[38;5;241m=\u001b[39m \u001b[38;5;28;43mgetattr\u001b[39;49m\u001b[43m(\u001b[49m\u001b[43mb\u001b[49m\u001b[43m,\u001b[49m\u001b[43m \u001b[49m\u001b[43mf\u001b[49m\u001b[43m)\u001b[49m\u001b[43m(\u001b[49m\u001b[38;5;241;43m*\u001b[39;49m\u001b[38;5;241;43m*\u001b[39;49m\u001b[43mkwargs\u001b[49m\u001b[43m)\u001b[49m\n\u001b[0;32m    353\u001b[0m     result_blocks \u001b[38;5;241m=\u001b[39m extend_blocks(applied, result_blocks)\n\u001b[0;32m    355\u001b[0m out \u001b[38;5;241m=\u001b[39m \u001b[38;5;28mtype\u001b[39m(\u001b[38;5;28mself\u001b[39m)\u001b[38;5;241m.\u001b[39mfrom_blocks(result_blocks, \u001b[38;5;28mself\u001b[39m\u001b[38;5;241m.\u001b[39maxes)\n",
      "File \u001b[1;32mD:\\Program Files\\Python311\\Lib\\site-packages\\pandas\\core\\internals\\blocks.py:511\u001b[0m, in \u001b[0;36mBlock.astype\u001b[1;34m(self, dtype, copy, errors, using_cow)\u001b[0m\n\u001b[0;32m    491\u001b[0m \u001b[38;5;250m\u001b[39m\u001b[38;5;124;03m\"\"\"\u001b[39;00m\n\u001b[0;32m    492\u001b[0m \u001b[38;5;124;03mCoerce to the new dtype.\u001b[39;00m\n\u001b[0;32m    493\u001b[0m \n\u001b[1;32m   (...)\u001b[0m\n\u001b[0;32m    507\u001b[0m \u001b[38;5;124;03mBlock\u001b[39;00m\n\u001b[0;32m    508\u001b[0m \u001b[38;5;124;03m\"\"\"\u001b[39;00m\n\u001b[0;32m    509\u001b[0m values \u001b[38;5;241m=\u001b[39m \u001b[38;5;28mself\u001b[39m\u001b[38;5;241m.\u001b[39mvalues\n\u001b[1;32m--> 511\u001b[0m new_values \u001b[38;5;241m=\u001b[39m \u001b[43mastype_array_safe\u001b[49m\u001b[43m(\u001b[49m\u001b[43mvalues\u001b[49m\u001b[43m,\u001b[49m\u001b[43m \u001b[49m\u001b[43mdtype\u001b[49m\u001b[43m,\u001b[49m\u001b[43m \u001b[49m\u001b[43mcopy\u001b[49m\u001b[38;5;241;43m=\u001b[39;49m\u001b[43mcopy\u001b[49m\u001b[43m,\u001b[49m\u001b[43m \u001b[49m\u001b[43merrors\u001b[49m\u001b[38;5;241;43m=\u001b[39;49m\u001b[43merrors\u001b[49m\u001b[43m)\u001b[49m\n\u001b[0;32m    513\u001b[0m new_values \u001b[38;5;241m=\u001b[39m maybe_coerce_values(new_values)\n\u001b[0;32m    515\u001b[0m refs \u001b[38;5;241m=\u001b[39m \u001b[38;5;28;01mNone\u001b[39;00m\n",
      "File \u001b[1;32mD:\\Program Files\\Python311\\Lib\\site-packages\\pandas\\core\\dtypes\\astype.py:242\u001b[0m, in \u001b[0;36mastype_array_safe\u001b[1;34m(values, dtype, copy, errors)\u001b[0m\n\u001b[0;32m    239\u001b[0m     dtype \u001b[38;5;241m=\u001b[39m dtype\u001b[38;5;241m.\u001b[39mnumpy_dtype\n\u001b[0;32m    241\u001b[0m \u001b[38;5;28;01mtry\u001b[39;00m:\n\u001b[1;32m--> 242\u001b[0m     new_values \u001b[38;5;241m=\u001b[39m \u001b[43mastype_array\u001b[49m\u001b[43m(\u001b[49m\u001b[43mvalues\u001b[49m\u001b[43m,\u001b[49m\u001b[43m \u001b[49m\u001b[43mdtype\u001b[49m\u001b[43m,\u001b[49m\u001b[43m \u001b[49m\u001b[43mcopy\u001b[49m\u001b[38;5;241;43m=\u001b[39;49m\u001b[43mcopy\u001b[49m\u001b[43m)\u001b[49m\n\u001b[0;32m    243\u001b[0m \u001b[38;5;28;01mexcept\u001b[39;00m (\u001b[38;5;167;01mValueError\u001b[39;00m, \u001b[38;5;167;01mTypeError\u001b[39;00m):\n\u001b[0;32m    244\u001b[0m     \u001b[38;5;66;03m# e.g. _astype_nansafe can fail on object-dtype of strings\u001b[39;00m\n\u001b[0;32m    245\u001b[0m     \u001b[38;5;66;03m#  trying to convert to float\u001b[39;00m\n\u001b[0;32m    246\u001b[0m     \u001b[38;5;28;01mif\u001b[39;00m errors \u001b[38;5;241m==\u001b[39m \u001b[38;5;124m\"\u001b[39m\u001b[38;5;124mignore\u001b[39m\u001b[38;5;124m\"\u001b[39m:\n",
      "File \u001b[1;32mD:\\Program Files\\Python311\\Lib\\site-packages\\pandas\\core\\dtypes\\astype.py:187\u001b[0m, in \u001b[0;36mastype_array\u001b[1;34m(values, dtype, copy)\u001b[0m\n\u001b[0;32m    184\u001b[0m     values \u001b[38;5;241m=\u001b[39m values\u001b[38;5;241m.\u001b[39mastype(dtype, copy\u001b[38;5;241m=\u001b[39mcopy)\n\u001b[0;32m    186\u001b[0m \u001b[38;5;28;01melse\u001b[39;00m:\n\u001b[1;32m--> 187\u001b[0m     values \u001b[38;5;241m=\u001b[39m \u001b[43m_astype_nansafe\u001b[49m\u001b[43m(\u001b[49m\u001b[43mvalues\u001b[49m\u001b[43m,\u001b[49m\u001b[43m \u001b[49m\u001b[43mdtype\u001b[49m\u001b[43m,\u001b[49m\u001b[43m \u001b[49m\u001b[43mcopy\u001b[49m\u001b[38;5;241;43m=\u001b[39;49m\u001b[43mcopy\u001b[49m\u001b[43m)\u001b[49m\n\u001b[0;32m    189\u001b[0m \u001b[38;5;66;03m# in pandas we don't store numpy str dtypes, so convert to object\u001b[39;00m\n\u001b[0;32m    190\u001b[0m \u001b[38;5;28;01mif\u001b[39;00m \u001b[38;5;28misinstance\u001b[39m(dtype, np\u001b[38;5;241m.\u001b[39mdtype) \u001b[38;5;129;01mand\u001b[39;00m \u001b[38;5;28missubclass\u001b[39m(values\u001b[38;5;241m.\u001b[39mdtype\u001b[38;5;241m.\u001b[39mtype, \u001b[38;5;28mstr\u001b[39m):\n",
      "File \u001b[1;32mD:\\Program Files\\Python311\\Lib\\site-packages\\pandas\\core\\dtypes\\astype.py:138\u001b[0m, in \u001b[0;36m_astype_nansafe\u001b[1;34m(arr, dtype, copy, skipna)\u001b[0m\n\u001b[0;32m    134\u001b[0m     \u001b[38;5;28;01mraise\u001b[39;00m \u001b[38;5;167;01mValueError\u001b[39;00m(msg)\n\u001b[0;32m    136\u001b[0m \u001b[38;5;28;01mif\u001b[39;00m copy \u001b[38;5;129;01mor\u001b[39;00m is_object_dtype(arr\u001b[38;5;241m.\u001b[39mdtype) \u001b[38;5;129;01mor\u001b[39;00m is_object_dtype(dtype):\n\u001b[0;32m    137\u001b[0m     \u001b[38;5;66;03m# Explicit copy, or required since NumPy can't view from / to object.\u001b[39;00m\n\u001b[1;32m--> 138\u001b[0m     \u001b[38;5;28;01mreturn\u001b[39;00m \u001b[43marr\u001b[49m\u001b[38;5;241;43m.\u001b[39;49m\u001b[43mastype\u001b[49m\u001b[43m(\u001b[49m\u001b[43mdtype\u001b[49m\u001b[43m,\u001b[49m\u001b[43m \u001b[49m\u001b[43mcopy\u001b[49m\u001b[38;5;241;43m=\u001b[39;49m\u001b[38;5;28;43;01mTrue\u001b[39;49;00m\u001b[43m)\u001b[49m\n\u001b[0;32m    140\u001b[0m \u001b[38;5;28;01mreturn\u001b[39;00m arr\u001b[38;5;241m.\u001b[39mastype(dtype, copy\u001b[38;5;241m=\u001b[39mcopy)\n",
      "\u001b[1;31mValueError\u001b[0m: invalid literal for int() with base 10: '5140만'"
     ]
    }
   ],
   "source": [
    "import numpy as np\n",
    "df['subscriber'].astype(np.int64)"
   ]
  },
  {
   "cell_type": "markdown",
   "metadata": {
    "id": "nTgqSQiHaPXP"
   },
   "source": [
    "데이터 값 변경 방법\n",
    "- Series.replace(변경대상, 변경내용)\n",
    "- Series.replace([변경대상1, 변경대상2, ...], [변경내용1, 변경내용2, ...])\n",
    "- Series.replace({변경대상1:변경내용1, 변경대astype경내용2, ...})\n",
    "- DataFrame도 replace 메서드 있음\n",
    "- replace는 기본적으로 값 전체를 변경대상으로 지정함\n",
    "- regex=True 를 사용하면 변경대상을 일부 내용만 대상으로 지정 할 수 있음\n",
    "- regex => regular expression(정규식, 정규표현식)"
   ]
  },
  {
   "cell_type": "code",
   "execution_count": 42,
   "metadata": {
    "id": "Mv0J_gvk-H3f",
    "tags": []
   },
   "outputs": [
    {
     "data": {
      "text/plain": [
       "0    51400000\n",
       "1    45500000\n",
       "2    38700000\n",
       "3    26500000\n",
       "4    24500000\n",
       "Name: subscriber, dtype: object"
      ]
     },
     "execution_count": 42,
     "metadata": {},
     "output_type": "execute_result"
    }
   ],
   "source": [
    "# [1-18] df의 'subscriber' 컬럼에 대해 '만'을 '0000'으로 변경하는 코드를 작성합니다.\n",
    "# replace는 기본적으로 값 전체를 대상으로 동작합니다.\n",
    "# 일부 내용을 대상으로 하기 위해서는 regex=True 를 사용합니다.\n",
    "# regex(=regular expression) - 문자열의 일부, 문자열 패턴을 사용하는 방법\n",
    "df['subscriber'].replace('만', '0000', regex=True).head()"
   ]
  },
  {
   "cell_type": "code",
   "execution_count": 43,
   "metadata": {
    "id": "YK8arjTg_lqA",
    "tags": []
   },
   "outputs": [
    {
     "data": {
      "text/plain": [
       "0      51400000\n",
       "1      45500000\n",
       "2      38700000\n",
       "3      26500000\n",
       "4      24500000\n",
       "         ...   \n",
       "995      400000\n",
       "996      400000\n",
       "997      400000\n",
       "998      400000\n",
       "999      400000\n",
       "Name: subscriber, Length: 1000, dtype: int64"
      ]
     },
     "execution_count": 43,
     "metadata": {},
     "output_type": "execute_result"
    }
   ],
   "source": [
    "# [1-19] df의 'subscriber' 컬럼에 대해 '만'을 '0000'으로 변경한 뒤, astype('int64')를 사용하여 dtype을 변경합니다. \n",
    "# df['subscriber'] = df['subscriber'].astype('int64')\n",
    "df['subscriber'].replace('만', '0000', regex=True).astype('int64')"
   ]
  },
  {
   "cell_type": "code",
   "execution_count": 44,
   "metadata": {
    "tags": []
   },
   "outputs": [
    {
     "data": {
      "text/html": [
       "<div>\n",
       "<style scoped>\n",
       "    .dataframe tbody tr th:only-of-type {\n",
       "        vertical-align: middle;\n",
       "    }\n",
       "\n",
       "    .dataframe tbody tr th {\n",
       "        vertical-align: top;\n",
       "    }\n",
       "\n",
       "    .dataframe thead th {\n",
       "        text-align: right;\n",
       "    }\n",
       "</style>\n",
       "<table border=\"1\" class=\"dataframe\">\n",
       "  <thead>\n",
       "    <tr style=\"text-align: right;\">\n",
       "      <th></th>\n",
       "      <th>title</th>\n",
       "      <th>category</th>\n",
       "      <th>subscriber</th>\n",
       "      <th>view</th>\n",
       "      <th>video</th>\n",
       "    </tr>\n",
       "  </thead>\n",
       "  <tbody>\n",
       "    <tr>\n",
       "      <th>0</th>\n",
       "      <td>BLACKPINK</td>\n",
       "      <td>[음악/댄스/가수]</td>\n",
       "      <td>5140만</td>\n",
       "      <td>128억5130만</td>\n",
       "      <td>319개</td>\n",
       "    </tr>\n",
       "    <tr>\n",
       "      <th>1</th>\n",
       "      <td>Big Hit Labels</td>\n",
       "      <td>[음악/댄스/가수]</td>\n",
       "      <td>4550만</td>\n",
       "      <td>120억8966만</td>\n",
       "      <td>433개</td>\n",
       "    </tr>\n",
       "    <tr>\n",
       "      <th>2</th>\n",
       "      <td>BANGTANTV</td>\n",
       "      <td>[음악/댄스/가수]</td>\n",
       "      <td>3870만</td>\n",
       "      <td>54억7598만</td>\n",
       "      <td>1,319개</td>\n",
       "    </tr>\n",
       "    <tr>\n",
       "      <th>3</th>\n",
       "      <td>Boram Tube Vlog [보람튜브 브이로그]</td>\n",
       "      <td>[키즈/어린이]</td>\n",
       "      <td>2650만</td>\n",
       "      <td>110억5288만</td>\n",
       "      <td>223개</td>\n",
       "    </tr>\n",
       "    <tr>\n",
       "      <th>4</th>\n",
       "      <td>SMTOWN</td>\n",
       "      <td>[음악/댄스/가수]</td>\n",
       "      <td>2450만</td>\n",
       "      <td>180억7532만</td>\n",
       "      <td>3,583개</td>\n",
       "    </tr>\n",
       "  </tbody>\n",
       "</table>\n",
       "</div>"
      ],
      "text/plain": [
       "                         title    category subscriber       view   video\n",
       "0                    BLACKPINK  [음악/댄스/가수]      5140만  128억5130만    319개\n",
       "1               Big Hit Labels  [음악/댄스/가수]      4550만  120억8966만    433개\n",
       "2                    BANGTANTV  [음악/댄스/가수]      3870만   54억7598만  1,319개\n",
       "3  Boram Tube Vlog [보람튜브 브이로그]    [키즈/어린이]      2650만  110억5288만    223개\n",
       "4                       SMTOWN  [음악/댄스/가수]      2450만  180억7532만  3,583개"
      ]
     },
     "execution_count": 44,
     "metadata": {},
     "output_type": "execute_result"
    }
   ],
   "source": [
    "df.head()"
   ]
  },
  {
   "cell_type": "code",
   "execution_count": 45,
   "metadata": {
    "id": "0R7a6w3i-eUb",
    "tags": []
   },
   "outputs": [
    {
     "data": {
      "text/plain": [
       "0    128억5130만\n",
       "1    120억8966만\n",
       "2     54억7598만\n",
       "3    110억5288만\n",
       "4    180억7532만\n",
       "Name: view, dtype: object"
      ]
     },
     "execution_count": 45,
     "metadata": {},
     "output_type": "execute_result"
    }
   ],
   "source": [
    "# [1-20] df의 'view' 컬럼에 대해서 첫 5개 행을 조회 합니다.\n",
    "df['view'].head(5)"
   ]
  },
  {
   "cell_type": "code",
   "execution_count": null,
   "metadata": {
    "id": "SzfeugzLTORB",
    "tags": []
   },
   "outputs": [],
   "source": [
    "128억5130만 => 12851300000"
   ]
  },
  {
   "cell_type": "code",
   "execution_count": 47,
   "metadata": {
    "id": "qxgeNyC5-q9t",
    "tags": []
   },
   "outputs": [
    {
     "data": {
      "text/plain": [
       "0      12851300000\n",
       "1      12089660000\n",
       "2       5475980000\n",
       "3      11052880000\n",
       "4      18075320000\n",
       "          ...     \n",
       "995      127520000\n",
       "996      239010000\n",
       "997      345830000\n",
       "998       61930000\n",
       "999       82490000\n",
       "Name: view, Length: 1000, dtype: object"
      ]
     },
     "execution_count": 47,
     "metadata": {},
     "output_type": "execute_result"
    }
   ],
   "source": [
    "# [1-21] df의 'view' 컬럼에 대해 '억'에 대해서는 삭제, '만'에 대해서는 '0000'로 변경하는 작업을 수행한 뒤, 처음 5개 데이터를 출력합니다.\n",
    "# 변경할 내용이 여러  개 일 경우 두 개의 list 또는 dict 를 사용합니다.\n",
    "replacement = {'억':'', '만':'0000'}\n",
    "df['view'].replace(replacement, regex=True)"
   ]
  },
  {
   "cell_type": "code",
   "execution_count": 48,
   "metadata": {
    "id": "hpaXOaCf_wmF",
    "tags": []
   },
   "outputs": [
    {
     "data": {
      "text/plain": [
       "0    12851300000\n",
       "1    12089660000\n",
       "2     5475980000\n",
       "3    11052880000\n",
       "4    18075320000\n",
       "Name: view, dtype: int64"
      ]
     },
     "execution_count": 48,
     "metadata": {},
     "output_type": "execute_result"
    }
   ],
   "source": [
    "# [1-22] df의 'view' 컬럼에 대해 '억'에 대해서는 삭제, '만'에 대해서는 '0000'로 변경하는 작업을 수행한 뒤, \n",
    "# astype('int64')를 사용하여 데이터 타입을 정수로 변경하고 처음 5개 데이터를 출력합니다.\n",
    "df['view'].replace(['억','만'],['','0000'],regex=True).astype('int64').head()"
   ]
  },
  {
   "cell_type": "code",
   "execution_count": 49,
   "metadata": {
    "tags": []
   },
   "outputs": [
    {
     "data": {
      "text/html": [
       "<div>\n",
       "<style scoped>\n",
       "    .dataframe tbody tr th:only-of-type {\n",
       "        vertical-align: middle;\n",
       "    }\n",
       "\n",
       "    .dataframe tbody tr th {\n",
       "        vertical-align: top;\n",
       "    }\n",
       "\n",
       "    .dataframe thead th {\n",
       "        text-align: right;\n",
       "    }\n",
       "</style>\n",
       "<table border=\"1\" class=\"dataframe\">\n",
       "  <thead>\n",
       "    <tr style=\"text-align: right;\">\n",
       "      <th></th>\n",
       "      <th>title</th>\n",
       "      <th>category</th>\n",
       "      <th>subscriber</th>\n",
       "      <th>view</th>\n",
       "      <th>video</th>\n",
       "    </tr>\n",
       "  </thead>\n",
       "  <tbody>\n",
       "    <tr>\n",
       "      <th>0</th>\n",
       "      <td>BLACKPINK</td>\n",
       "      <td>[음악/댄스/가수]</td>\n",
       "      <td>5140만</td>\n",
       "      <td>128억5130만</td>\n",
       "      <td>319개</td>\n",
       "    </tr>\n",
       "    <tr>\n",
       "      <th>1</th>\n",
       "      <td>Big Hit Labels</td>\n",
       "      <td>[음악/댄스/가수]</td>\n",
       "      <td>4550만</td>\n",
       "      <td>120억8966만</td>\n",
       "      <td>433개</td>\n",
       "    </tr>\n",
       "    <tr>\n",
       "      <th>2</th>\n",
       "      <td>BANGTANTV</td>\n",
       "      <td>[음악/댄스/가수]</td>\n",
       "      <td>3870만</td>\n",
       "      <td>54억7598만</td>\n",
       "      <td>1,319개</td>\n",
       "    </tr>\n",
       "    <tr>\n",
       "      <th>3</th>\n",
       "      <td>Boram Tube Vlog [보람튜브 브이로그]</td>\n",
       "      <td>[키즈/어린이]</td>\n",
       "      <td>2650만</td>\n",
       "      <td>110억5288만</td>\n",
       "      <td>223개</td>\n",
       "    </tr>\n",
       "    <tr>\n",
       "      <th>4</th>\n",
       "      <td>SMTOWN</td>\n",
       "      <td>[음악/댄스/가수]</td>\n",
       "      <td>2450만</td>\n",
       "      <td>180억7532만</td>\n",
       "      <td>3,583개</td>\n",
       "    </tr>\n",
       "  </tbody>\n",
       "</table>\n",
       "</div>"
      ],
      "text/plain": [
       "                         title    category subscriber       view   video\n",
       "0                    BLACKPINK  [음악/댄스/가수]      5140만  128억5130만    319개\n",
       "1               Big Hit Labels  [음악/댄스/가수]      4550만  120억8966만    433개\n",
       "2                    BANGTANTV  [음악/댄스/가수]      3870만   54억7598만  1,319개\n",
       "3  Boram Tube Vlog [보람튜브 브이로그]    [키즈/어린이]      2650만  110억5288만    223개\n",
       "4                       SMTOWN  [음악/댄스/가수]      2450만  180억7532만  3,583개"
      ]
     },
     "execution_count": 49,
     "metadata": {},
     "output_type": "execute_result"
    }
   ],
   "source": [
    "df.head()"
   ]
  },
  {
   "cell_type": "code",
   "execution_count": 50,
   "metadata": {
    "id": "ZwhDjOCEUGtN",
    "tags": []
   },
   "outputs": [
    {
     "data": {
      "text/plain": [
       "0      319개\n",
       "1      433개\n",
       "2    1,319개\n",
       "3      223개\n",
       "4    3,583개\n",
       "Name: video, dtype: object"
      ]
     },
     "execution_count": 50,
     "metadata": {},
     "output_type": "execute_result"
    }
   ],
   "source": [
    "# [1-23] df의 'video' 컬럼의 첫 5개 데이터를 확인합니다.\n",
    "df['video'].head()"
   ]
  },
  {
   "cell_type": "code",
   "execution_count": 51,
   "metadata": {
    "id": "zodg3oxRUGq3",
    "tags": []
   },
   "outputs": [
    {
     "data": {
      "text/plain": [
       "0     319\n",
       "1     433\n",
       "2    1319\n",
       "3     223\n",
       "4    3583\n",
       "Name: video, dtype: object"
      ]
     },
     "execution_count": 51,
     "metadata": {},
     "output_type": "execute_result"
    }
   ],
   "source": [
    "# [1-24] df의 'video' 컬럼에서 '개'와 ','을 제거하는 작업을 수행한 뒤, 처음 5개 데이터를 출력합니다.\n",
    "# 콤마(,)는 의미가 있는 문자이므로 \\(역슬래쉬)를 함께 사용합니다.\n",
    "# 메타문자 : , . + ? * ^ $ [  ]  ... 등 , 메타문자의 기능을 없애기 위해 '\\,'  '\\.'\n",
    "df['video'].str.replace(pat=r'\\,|개', repl='', regex=True).head()"
   ]
  },
  {
   "cell_type": "code",
   "execution_count": 53,
   "metadata": {
    "tags": []
   },
   "outputs": [
    {
     "data": {
      "text/plain": [
       "0     319\n",
       "1     433\n",
       "2    1319\n",
       "3     223\n",
       "4    3583\n",
       "Name: video, dtype: object"
      ]
     },
     "execution_count": 53,
     "metadata": {},
     "output_type": "execute_result"
    }
   ],
   "source": [
    "df['video'].replace(r'\\,|개', '', regex=True).head()"
   ]
  },
  {
   "cell_type": "code",
   "execution_count": 52,
   "metadata": {
    "id": "vm6gn4M6YorH",
    "tags": []
   },
   "outputs": [
    {
     "data": {
      "text/plain": [
       "0     319\n",
       "1     433\n",
       "2    1319\n",
       "3     223\n",
       "4    3583\n",
       "Name: video, dtype: int32"
      ]
     },
     "execution_count": 52,
     "metadata": {},
     "output_type": "execute_result"
    }
   ],
   "source": [
    "# [1-25] df의 'video' 컬럼에서 '개', ','을 제거하고, astype('int32')를 사용하여 는 작업을 수행한 뒤, 처음 5개 데이터를 출력합니다.\n",
    "df['video'].str.replace(pat=r'\\,|개', repl='', regex=True).astype('int32').head()"
   ]
  },
  {
   "cell_type": "markdown",
   "metadata": {
    "id": "TTwpObkHjaTE"
   },
   "source": [
    "원래 데이터의 값 별 개수 확인\n",
    "- Series.value_counts() : 값 별 개수를 Series로 반환\n",
    "- 개수가 많은 것부터 내림차순 정렬되어 반환됨\n",
    "- 값이 index, 개수가 value 로 사용 됨\n",
    "\n",
    "index의 정렬\n",
    "- DataFrame / Series.sort_index(ascending=True)"
   ]
  },
  {
   "cell_type": "code",
   "execution_count": 54,
   "metadata": {
    "id": "Df84brbzcWqd",
    "tags": []
   },
   "outputs": [
    {
     "data": {
      "text/plain": [
       "category\n",
       "[음악/댄스/가수]     175\n",
       "[TV/방송]        161\n",
       "[게임]           101\n",
       "[키즈/어린이]        95\n",
       "[음식/요리/레시피]     88\n",
       "[BJ/인물/연예인]     68\n",
       "[패션/미용]         57\n",
       "[뉴스/정치/사회]      56\n",
       "[미분류]           40\n",
       "[취미/라이프]        40\n",
       "[영화/만화/애니]      33\n",
       "[교육/강의]         23\n",
       "[애완/반려동물]       20\n",
       "[스포츠/운동]        12\n",
       "[IT/기술/컴퓨터]      8\n",
       "[해외]             6\n",
       "[주식/경제/부동산]      5\n",
       "[국내/해외/여행]       5\n",
       "[회사/오피셜]         4\n",
       "[자동차]            2\n",
       "[취미]             1\n",
       "Name: count, dtype: int64"
      ]
     },
     "execution_count": 54,
     "metadata": {},
     "output_type": "execute_result"
    }
   ],
   "source": [
    "# [1-26] df의 열 중 'category' 컬럼에 대해 값 별 개수를 확인합니다.\n",
    "df['category'].value_counts()"
   ]
  },
  {
   "cell_type": "code",
   "execution_count": null,
   "metadata": {
    "id": "4S3nORVKb2Zu",
    "tags": []
   },
   "outputs": [],
   "source": [
    "# [1-27] df의 'category'에 대해 첫글자와 마지막 글자인 '[', ']'을 제거합니다.\n",
    "# replace를 사용하여 제거할 수 있지만, Accessor 중 str을 사용하여 보도록 합니다.\n",
    "#df['category'].replace({'\\[':'', '\\]':''}, regex=True).head()    # 첫글자, 마지막 글자가 아니라도 제거함\n",
    "replacement = {'\\[': '', '\\]':''}\n",
    "df['category'] = df['category'].replace(replacement, regex=True)"
   ]
  },
  {
   "cell_type": "code",
   "execution_count": 56,
   "metadata": {
    "tags": []
   },
   "outputs": [
    {
     "data": {
      "text/plain": [
       "0    음악/댄스/가수\n",
       "1    음악/댄스/가수\n",
       "2    음악/댄스/가수\n",
       "3      키즈/어린이\n",
       "4    음악/댄스/가수\n",
       "Name: category, dtype: object"
      ]
     },
     "execution_count": 56,
     "metadata": {},
     "output_type": "execute_result"
    }
   ],
   "source": [
    "df['category'].str[1:-1].head()"
   ]
  },
  {
   "cell_type": "code",
   "execution_count": 57,
   "metadata": {
    "id": "3B31EWRkbluN",
    "tags": []
   },
   "outputs": [
    {
     "data": {
      "text/plain": [
       "0      음악/댄스/가수\n",
       "1      음악/댄스/가수\n",
       "2      음악/댄스/가수\n",
       "3        키즈/어린이\n",
       "4      음악/댄스/가수\n",
       "         ...   \n",
       "995         미분류\n",
       "996      취미/라이프\n",
       "997       TV/방송\n",
       "998         미분류\n",
       "999       TV/방송\n",
       "Name: category, Length: 1000, dtype: category\n",
       "Categories (21, object): ['BJ/인물/연예인', 'IT/기술/컴퓨터', 'TV/방송', '게임', ..., '키즈/어린이', '패션/미용', '해외', '회사/오피셜']"
      ]
     },
     "execution_count": 57,
     "metadata": {},
     "output_type": "execute_result"
    }
   ],
   "source": [
    "# [1-28] df의 'category'에 대해 '[', ']'을 제거하고, astype('category') 를 사용하여 category 타입으로 변경합니다.\n",
    "df['category'].str[1:-1].astype('category')"
   ]
  },
  {
   "cell_type": "code",
   "execution_count": 58,
   "metadata": {
    "colab": {
     "base_uri": "https://localhost:8080/"
    },
    "id": "i6NfeKaueNaF",
    "outputId": "840d40a0-5e81-46c1-bd1d-a72ea0a61422"
   },
   "outputs": [
    {
     "name": "stdout",
     "output_type": "stream",
     "text": [
      "<class 'pandas.core.frame.DataFrame'>\n",
      "RangeIndex: 1000 entries, 0 to 999\n",
      "Data columns (total 5 columns):\n",
      " #   Column      Non-Null Count  Dtype   \n",
      "---  ------      --------------  -----   \n",
      " 0   title       1000 non-null   object  \n",
      " 1   category    1000 non-null   category\n",
      " 2   subscriber  1000 non-null   int64   \n",
      " 3   view        1000 non-null   int64   \n",
      " 4   video       1000 non-null   int32   \n",
      "dtypes: category(1), int32(1), int64(2), object(1)\n",
      "memory usage: 29.2+ KB\n"
     ]
    }
   ],
   "source": [
    "# [1-29] 위의 replace 및 accessor-str을 사용한 작업을 요약해 보겠습니다.\n",
    "df['subscriber'] = df['subscriber'].replace('만', '0000', regex=True).astype('int64')\n",
    "df['view'] = df['view'].replace({'억':'', '만':'0000'}, regex=True).astype('int64')\n",
    "df['video'] = df['video'].replace(['개', '\\,'], '', regex=True).astype('int32')\n",
    "df['category'] = df['category'].str[1:-1].astype('category')\n",
    "df.info()"
   ]
  },
  {
   "cell_type": "code",
   "execution_count": 59,
   "metadata": {
    "id": "nOpLlj50P0mb",
    "tags": []
   },
   "outputs": [
    {
     "name": "stdout",
     "output_type": "stream",
     "text": [
      "<class 'pandas.core.frame.DataFrame'>\n",
      "RangeIndex: 1000 entries, 0 to 999\n",
      "Data columns (total 5 columns):\n",
      " #   Column      Non-Null Count  Dtype   \n",
      "---  ------      --------------  -----   \n",
      " 0   title       1000 non-null   object  \n",
      " 1   category    1000 non-null   category\n",
      " 2   subscriber  1000 non-null   int64   \n",
      " 3   view        1000 non-null   int64   \n",
      " 4   video       1000 non-null   int32   \n",
      "dtypes: category(1), int32(1), int64(2), object(1)\n",
      "memory usage: 113.6 KB\n"
     ]
    }
   ],
   "source": [
    "# [1-30] 'youtube_v1.xlsx' 엑셀 파일로 저장하기\n",
    "df.to_excel('./data_01/youtube_v1.xlsx')\n",
    "df.info(memory_usage='deep')"
   ]
  },
  {
   "cell_type": "code",
   "execution_count": 60,
   "metadata": {
    "tags": []
   },
   "outputs": [],
   "source": [
    "temp = df.copy()"
   ]
  },
  {
   "cell_type": "code",
   "execution_count": 64,
   "metadata": {
    "tags": []
   },
   "outputs": [],
   "source": [
    "temp = temp.set_index('category')"
   ]
  },
  {
   "cell_type": "code",
   "execution_count": 65,
   "metadata": {
    "tags": []
   },
   "outputs": [
    {
     "data": {
      "text/plain": [
       "CategoricalIndex(['음악/댄스/가수', '음악/댄스/가수', '음악/댄스/가수', '키즈/어린이', '음악/댄스/가수',\n",
       "                  '음악/댄스/가수', '음악/댄스/가수', '음악/댄스/가수', '음악/댄스/가수', '미분류',\n",
       "                  ...\n",
       "                  '패션/미용', '뉴스/정치/사회', '뉴스/정치/사회', '게임', '음식/요리/레시피', '미분류',\n",
       "                  '취미/라이프', 'TV/방송', '미분류', 'TV/방송'],\n",
       "                 categories=['BJ/인물/연예인', 'IT/기술/컴퓨터', 'TV/방송', '게임', ..., '키즈/어린이', '패션/미용', '해외', '회사/오피셜'], ordered=False, dtype='category', name='category', length=1000)"
      ]
     },
     "execution_count": 65,
     "metadata": {},
     "output_type": "execute_result"
    }
   ],
   "source": [
    "temp.index"
   ]
  },
  {
   "cell_type": "code",
   "execution_count": 69,
   "metadata": {
    "tags": []
   },
   "outputs": [
    {
     "data": {
      "text/html": [
       "<div>\n",
       "<style scoped>\n",
       "    .dataframe tbody tr th:only-of-type {\n",
       "        vertical-align: middle;\n",
       "    }\n",
       "\n",
       "    .dataframe tbody tr th {\n",
       "        vertical-align: top;\n",
       "    }\n",
       "\n",
       "    .dataframe thead th {\n",
       "        text-align: right;\n",
       "    }\n",
       "</style>\n",
       "<table border=\"1\" class=\"dataframe\">\n",
       "  <thead>\n",
       "    <tr style=\"text-align: right;\">\n",
       "      <th></th>\n",
       "      <th>title</th>\n",
       "      <th>subscriber</th>\n",
       "      <th>view</th>\n",
       "      <th>video</th>\n",
       "    </tr>\n",
       "    <tr>\n",
       "      <th>category</th>\n",
       "      <th></th>\n",
       "      <th></th>\n",
       "      <th></th>\n",
       "      <th></th>\n",
       "    </tr>\n",
       "  </thead>\n",
       "  <tbody>\n",
       "    <tr>\n",
       "      <th>음악/댄스/가수</th>\n",
       "      <td>BLACKPINK</td>\n",
       "      <td>51400000</td>\n",
       "      <td>12851300000</td>\n",
       "      <td>319</td>\n",
       "    </tr>\n",
       "    <tr>\n",
       "      <th>음악/댄스/가수</th>\n",
       "      <td>Big Hit Labels</td>\n",
       "      <td>45500000</td>\n",
       "      <td>12089660000</td>\n",
       "      <td>433</td>\n",
       "    </tr>\n",
       "    <tr>\n",
       "      <th>음악/댄스/가수</th>\n",
       "      <td>BANGTANTV</td>\n",
       "      <td>38700000</td>\n",
       "      <td>5475980000</td>\n",
       "      <td>1319</td>\n",
       "    </tr>\n",
       "    <tr>\n",
       "      <th>키즈/어린이</th>\n",
       "      <td>Boram Tube Vlog [보람튜브 브이로그]</td>\n",
       "      <td>26500000</td>\n",
       "      <td>11052880000</td>\n",
       "      <td>223</td>\n",
       "    </tr>\n",
       "    <tr>\n",
       "      <th>음악/댄스/가수</th>\n",
       "      <td>SMTOWN</td>\n",
       "      <td>24500000</td>\n",
       "      <td>18075320000</td>\n",
       "      <td>3583</td>\n",
       "    </tr>\n",
       "  </tbody>\n",
       "</table>\n",
       "</div>"
      ],
      "text/plain": [
       "                                title  subscriber         view  video\n",
       "category                                                             \n",
       "음악/댄스/가수                    BLACKPINK    51400000  12851300000    319\n",
       "음악/댄스/가수               Big Hit Labels    45500000  12089660000    433\n",
       "음악/댄스/가수                    BANGTANTV    38700000   5475980000   1319\n",
       "키즈/어린이    Boram Tube Vlog [보람튜브 브이로그]    26500000  11052880000    223\n",
       "음악/댄스/가수                       SMTOWN    24500000  18075320000   3583"
      ]
     },
     "execution_count": 69,
     "metadata": {},
     "output_type": "execute_result"
    }
   ],
   "source": [
    "temp.head()"
   ]
  },
  {
   "cell_type": "code",
   "execution_count": 68,
   "metadata": {
    "tags": []
   },
   "outputs": [
    {
     "data": {
      "text/html": [
       "<div>\n",
       "<style scoped>\n",
       "    .dataframe tbody tr th:only-of-type {\n",
       "        vertical-align: middle;\n",
       "    }\n",
       "\n",
       "    .dataframe tbody tr th {\n",
       "        vertical-align: top;\n",
       "    }\n",
       "\n",
       "    .dataframe thead th {\n",
       "        text-align: right;\n",
       "    }\n",
       "</style>\n",
       "<table border=\"1\" class=\"dataframe\">\n",
       "  <thead>\n",
       "    <tr style=\"text-align: right;\">\n",
       "      <th></th>\n",
       "      <th>title</th>\n",
       "      <th>subscriber</th>\n",
       "      <th>view</th>\n",
       "      <th>video</th>\n",
       "    </tr>\n",
       "    <tr>\n",
       "      <th>category</th>\n",
       "      <th></th>\n",
       "      <th></th>\n",
       "      <th></th>\n",
       "      <th></th>\n",
       "    </tr>\n",
       "  </thead>\n",
       "  <tbody>\n",
       "    <tr>\n",
       "      <th>미분류</th>\n",
       "      <td>America's Got Talent</td>\n",
       "      <td>18000000</td>\n",
       "      <td>3656680000</td>\n",
       "      <td>2417</td>\n",
       "    </tr>\n",
       "    <tr>\n",
       "      <th>미분류</th>\n",
       "      <td>Vogue</td>\n",
       "      <td>8630000</td>\n",
       "      <td>2287560000</td>\n",
       "      <td>2387</td>\n",
       "    </tr>\n",
       "    <tr>\n",
       "      <th>미분류</th>\n",
       "      <td>DJKhaledVEVO</td>\n",
       "      <td>5090000</td>\n",
       "      <td>4228780000</td>\n",
       "      <td>72</td>\n",
       "    </tr>\n",
       "    <tr>\n",
       "      <th>미분류</th>\n",
       "      <td>BT Sport</td>\n",
       "      <td>3030000</td>\n",
       "      <td>1477220000</td>\n",
       "      <td>6191</td>\n",
       "    </tr>\n",
       "    <tr>\n",
       "      <th>미분류</th>\n",
       "      <td>โหนกระแส (Hone-Krasae) Official</td>\n",
       "      <td>2090000</td>\n",
       "      <td>497450000</td>\n",
       "      <td>906</td>\n",
       "    </tr>\n",
       "    <tr>\n",
       "      <th>미분류</th>\n",
       "      <td>NCT DREAM</td>\n",
       "      <td>1710000</td>\n",
       "      <td>29890000</td>\n",
       "      <td>96</td>\n",
       "    </tr>\n",
       "    <tr>\n",
       "      <th>미분류</th>\n",
       "      <td>STUDIO CHOOM [스튜디오 춤]</td>\n",
       "      <td>1230000</td>\n",
       "      <td>310440000</td>\n",
       "      <td>295</td>\n",
       "    </tr>\n",
       "    <tr>\n",
       "      <th>미분류</th>\n",
       "      <td>수빙수tv sooBingsoo</td>\n",
       "      <td>770000</td>\n",
       "      <td>151920000</td>\n",
       "      <td>143</td>\n",
       "    </tr>\n",
       "    <tr>\n",
       "      <th>미분류</th>\n",
       "      <td>최자로드-CHOIZAROAD</td>\n",
       "      <td>710000</td>\n",
       "      <td>111030000</td>\n",
       "      <td>584</td>\n",
       "    </tr>\n",
       "    <tr>\n",
       "      <th>미분류</th>\n",
       "      <td>채꾸똥꾸 (Cherry &amp; Dong)</td>\n",
       "      <td>680000</td>\n",
       "      <td>129960000</td>\n",
       "      <td>172</td>\n",
       "    </tr>\n",
       "    <tr>\n",
       "      <th>미분류</th>\n",
       "      <td>Beginagain 비긴어게인</td>\n",
       "      <td>680000</td>\n",
       "      <td>182030000</td>\n",
       "      <td>395</td>\n",
       "    </tr>\n",
       "    <tr>\n",
       "      <th>미분류</th>\n",
       "      <td>임한올 Hanol Rim</td>\n",
       "      <td>680000</td>\n",
       "      <td>49050000</td>\n",
       "      <td>110</td>\n",
       "    </tr>\n",
       "    <tr>\n",
       "      <th>미분류</th>\n",
       "      <td>SISSEL</td>\n",
       "      <td>670000</td>\n",
       "      <td>26520000</td>\n",
       "      <td>168</td>\n",
       "    </tr>\n",
       "    <tr>\n",
       "      <th>미분류</th>\n",
       "      <td>이슈왕 TV</td>\n",
       "      <td>640000</td>\n",
       "      <td>187600000</td>\n",
       "      <td>519</td>\n",
       "    </tr>\n",
       "    <tr>\n",
       "      <th>미분류</th>\n",
       "      <td>랭킹스쿨 Ranking School</td>\n",
       "      <td>610000</td>\n",
       "      <td>222710000</td>\n",
       "      <td>422</td>\n",
       "    </tr>\n",
       "    <tr>\n",
       "      <th>미분류</th>\n",
       "      <td>영기TV</td>\n",
       "      <td>610000</td>\n",
       "      <td>85750000</td>\n",
       "      <td>201</td>\n",
       "    </tr>\n",
       "    <tr>\n",
       "      <th>미분류</th>\n",
       "      <td>TOP MEDIA</td>\n",
       "      <td>600000</td>\n",
       "      <td>94190000</td>\n",
       "      <td>453</td>\n",
       "    </tr>\n",
       "    <tr>\n",
       "      <th>미분류</th>\n",
       "      <td>Joan Kim</td>\n",
       "      <td>580000</td>\n",
       "      <td>45700000</td>\n",
       "      <td>320</td>\n",
       "    </tr>\n",
       "    <tr>\n",
       "      <th>미분류</th>\n",
       "      <td>Unreal Engine</td>\n",
       "      <td>570000</td>\n",
       "      <td>89380000</td>\n",
       "      <td>1517</td>\n",
       "    </tr>\n",
       "    <tr>\n",
       "      <th>미분류</th>\n",
       "      <td>쏘대장</td>\n",
       "      <td>550000</td>\n",
       "      <td>55360000</td>\n",
       "      <td>175</td>\n",
       "    </tr>\n",
       "    <tr>\n",
       "      <th>미분류</th>\n",
       "      <td>[THE SOY]루퐁이네</td>\n",
       "      <td>540000</td>\n",
       "      <td>113900000</td>\n",
       "      <td>211</td>\n",
       "    </tr>\n",
       "    <tr>\n",
       "      <th>미분류</th>\n",
       "      <td>햄튜브</td>\n",
       "      <td>510000</td>\n",
       "      <td>244910000</td>\n",
       "      <td>964</td>\n",
       "    </tr>\n",
       "    <tr>\n",
       "      <th>미분류</th>\n",
       "      <td>오사원 Oh!sales</td>\n",
       "      <td>500000</td>\n",
       "      <td>152040000</td>\n",
       "      <td>485</td>\n",
       "    </tr>\n",
       "    <tr>\n",
       "      <th>미분류</th>\n",
       "      <td>ShareHows</td>\n",
       "      <td>500000</td>\n",
       "      <td>126620000</td>\n",
       "      <td>908</td>\n",
       "    </tr>\n",
       "    <tr>\n",
       "      <th>미분류</th>\n",
       "      <td>혜서니</td>\n",
       "      <td>490000</td>\n",
       "      <td>109220000</td>\n",
       "      <td>466</td>\n",
       "    </tr>\n",
       "    <tr>\n",
       "      <th>미분류</th>\n",
       "      <td>깨방정</td>\n",
       "      <td>470000</td>\n",
       "      <td>118990000</td>\n",
       "      <td>225</td>\n",
       "    </tr>\n",
       "    <tr>\n",
       "      <th>미분류</th>\n",
       "      <td>AB6IX</td>\n",
       "      <td>470000</td>\n",
       "      <td>12290000</td>\n",
       "      <td>126</td>\n",
       "    </tr>\n",
       "    <tr>\n",
       "      <th>미분류</th>\n",
       "      <td>차진혁</td>\n",
       "      <td>470000</td>\n",
       "      <td>125950000</td>\n",
       "      <td>430</td>\n",
       "    </tr>\n",
       "    <tr>\n",
       "      <th>미분류</th>\n",
       "      <td>코리안브로스 KOREAN BROS ENT</td>\n",
       "      <td>470000</td>\n",
       "      <td>187620000</td>\n",
       "      <td>575</td>\n",
       "    </tr>\n",
       "    <tr>\n",
       "      <th>미분류</th>\n",
       "      <td>짧은대본 ShortPaper</td>\n",
       "      <td>450000</td>\n",
       "      <td>67860000</td>\n",
       "      <td>89</td>\n",
       "    </tr>\n",
       "    <tr>\n",
       "      <th>미분류</th>\n",
       "      <td>유이뿅YUIPYON</td>\n",
       "      <td>440000</td>\n",
       "      <td>87380000</td>\n",
       "      <td>238</td>\n",
       "    </tr>\n",
       "    <tr>\n",
       "      <th>미분류</th>\n",
       "      <td>빅민 TV</td>\n",
       "      <td>440000</td>\n",
       "      <td>220050000</td>\n",
       "      <td>1136</td>\n",
       "    </tr>\n",
       "    <tr>\n",
       "      <th>미분류</th>\n",
       "      <td>미트 miit</td>\n",
       "      <td>440000</td>\n",
       "      <td>32300000</td>\n",
       "      <td>240</td>\n",
       "    </tr>\n",
       "    <tr>\n",
       "      <th>미분류</th>\n",
       "      <td>과나gwana</td>\n",
       "      <td>420000</td>\n",
       "      <td>29840000</td>\n",
       "      <td>32</td>\n",
       "    </tr>\n",
       "    <tr>\n",
       "      <th>미분류</th>\n",
       "      <td>최군TV funny</td>\n",
       "      <td>420000</td>\n",
       "      <td>441070000</td>\n",
       "      <td>6106</td>\n",
       "    </tr>\n",
       "    <tr>\n",
       "      <th>미분류</th>\n",
       "      <td>Michelle Hendra</td>\n",
       "      <td>410000</td>\n",
       "      <td>63210000</td>\n",
       "      <td>317</td>\n",
       "    </tr>\n",
       "    <tr>\n",
       "      <th>미분류</th>\n",
       "      <td>책그림</td>\n",
       "      <td>410000</td>\n",
       "      <td>36790000</td>\n",
       "      <td>305</td>\n",
       "    </tr>\n",
       "    <tr>\n",
       "      <th>미분류</th>\n",
       "      <td>광족들</td>\n",
       "      <td>400000</td>\n",
       "      <td>82650000</td>\n",
       "      <td>198</td>\n",
       "    </tr>\n",
       "    <tr>\n",
       "      <th>미분류</th>\n",
       "      <td>Ranking World</td>\n",
       "      <td>400000</td>\n",
       "      <td>127520000</td>\n",
       "      <td>503</td>\n",
       "    </tr>\n",
       "    <tr>\n",
       "      <th>미분류</th>\n",
       "      <td>Bravo jamoasi</td>\n",
       "      <td>400000</td>\n",
       "      <td>61930000</td>\n",
       "      <td>25</td>\n",
       "    </tr>\n",
       "  </tbody>\n",
       "</table>\n",
       "</div>"
      ],
      "text/plain": [
       "                                    title  subscriber        view  video\n",
       "category                                                                \n",
       "미분류                  America's Got Talent    18000000  3656680000   2417\n",
       "미분류                                 Vogue     8630000  2287560000   2387\n",
       "미분류                          DJKhaledVEVO     5090000  4228780000     72\n",
       "미분류                              BT Sport     3030000  1477220000   6191\n",
       "미분류       โหนกระแส (Hone-Krasae) Official     2090000   497450000    906\n",
       "미분류                             NCT DREAM     1710000    29890000     96\n",
       "미분류                 STUDIO CHOOM [스튜디오 춤]     1230000   310440000    295\n",
       "미분류                      수빙수tv sooBingsoo      770000   151920000    143\n",
       "미분류                       최자로드-CHOIZAROAD      710000   111030000    584\n",
       "미분류                  채꾸똥꾸 (Cherry & Dong)      680000   129960000    172\n",
       "미분류                      Beginagain 비긴어게인      680000   182030000    395\n",
       "미분류                         임한올 Hanol Rim      680000    49050000    110\n",
       "미분류                                SISSEL      670000    26520000    168\n",
       "미분류                                이슈왕 TV      640000   187600000    519\n",
       "미분류                   랭킹스쿨 Ranking School      610000   222710000    422\n",
       "미분류                                  영기TV      610000    85750000    201\n",
       "미분류                             TOP MEDIA      600000    94190000    453\n",
       "미분류                              Joan Kim      580000    45700000    320\n",
       "미분류                         Unreal Engine      570000    89380000   1517\n",
       "미분류                                   쏘대장      550000    55360000    175\n",
       "미분류                         [THE SOY]루퐁이네      540000   113900000    211\n",
       "미분류                                   햄튜브      510000   244910000    964\n",
       "미분류                          오사원 Oh!sales      500000   152040000    485\n",
       "미분류                             ShareHows      500000   126620000    908\n",
       "미분류                                   혜서니      490000   109220000    466\n",
       "미분류                                   깨방정      470000   118990000    225\n",
       "미분류                                 AB6IX      470000    12290000    126\n",
       "미분류                                   차진혁      470000   125950000    430\n",
       "미분류                코리안브로스 KOREAN BROS ENT      470000   187620000    575\n",
       "미분류                       짧은대본 ShortPaper      450000    67860000     89\n",
       "미분류                            유이뿅YUIPYON      440000    87380000    238\n",
       "미분류                                 빅민 TV      440000   220050000   1136\n",
       "미분류                               미트 miit      440000    32300000    240\n",
       "미분류                               과나gwana      420000    29840000     32\n",
       "미분류                            최군TV funny      420000   441070000   6106\n",
       "미분류                       Michelle Hendra      410000    63210000    317\n",
       "미분류                                   책그림      410000    36790000    305\n",
       "미분류                                   광족들      400000    82650000    198\n",
       "미분류                         Ranking World      400000   127520000    503\n",
       "미분류                         Bravo jamoasi      400000    61930000     25"
      ]
     },
     "execution_count": 68,
     "metadata": {},
     "output_type": "execute_result"
    }
   ],
   "source": [
    "temp.loc['미분류',:]"
   ]
  },
  {
   "cell_type": "code",
   "execution_count": null,
   "metadata": {
    "id": "TCDuWjcT_1P1"
   },
   "outputs": [],
   "source": [
    "# 다시 사용하기 위해서는 다운로드/업로드가 필요합니다. - 자동 삭제됨 "
   ]
  },
  {
   "cell_type": "markdown",
   "metadata": {
    "id": "fkxyHOKdx5im"
   },
   "source": [
    "datetime, category 타입변경\n",
    "- pd.to_datetime(Series, format='형식')\n",
    "    - %Y: 4글자 년도, %y : 2글자 년도, %m : 2글자 월, %d : 2글자 일\n",
    "    - 다양한 형식 문자들 : https://docs.python.org/3/library/datetime.html#strftime-and-strptime-behavior\n",
    "    - format의 지정이 필수는 아님\n",
    "- pd.Categorical(Series, categories=['범주1', '범주2', ...], ordered=None)\n",
    "    - ordered=True 사용시 순서 있는 범주형, 정렬시 정해진 순서가 사용됨\n",
    "    - categories, ordered의 지정이 필수는 아님\n"
   ]
  },
  {
   "cell_type": "code",
   "execution_count": 2,
   "metadata": {
    "tags": []
   },
   "outputs": [],
   "source": [
    "import pandas as pd"
   ]
  },
  {
   "cell_type": "code",
   "execution_count": 3,
   "metadata": {
    "colab": {
     "base_uri": "https://localhost:8080/",
     "height": 206
    },
    "id": "ZWjZ9NqvtPPu",
    "outputId": "eb931e09-3015-4d98-fa46-7561eafdf5a4",
    "tags": []
   },
   "outputs": [
    {
     "data": {
      "text/html": [
       "<div>\n",
       "<style scoped>\n",
       "    .dataframe tbody tr th:only-of-type {\n",
       "        vertical-align: middle;\n",
       "    }\n",
       "\n",
       "    .dataframe tbody tr th {\n",
       "        vertical-align: top;\n",
       "    }\n",
       "\n",
       "    .dataframe thead th {\n",
       "        text-align: right;\n",
       "    }\n",
       "</style>\n",
       "<table border=\"1\" class=\"dataframe\">\n",
       "  <thead>\n",
       "    <tr style=\"text-align: right;\">\n",
       "      <th></th>\n",
       "      <th>날짜_일반</th>\n",
       "      <th>날짜_시간</th>\n",
       "      <th>날짜_특수</th>\n",
       "      <th>범주</th>\n",
       "    </tr>\n",
       "  </thead>\n",
       "  <tbody>\n",
       "    <tr>\n",
       "      <th>0</th>\n",
       "      <td>2021/01/01</td>\n",
       "      <td>2021-01-01 1:12:10</td>\n",
       "      <td>21-01-01</td>\n",
       "      <td>금</td>\n",
       "    </tr>\n",
       "    <tr>\n",
       "      <th>1</th>\n",
       "      <td>2021/01/02</td>\n",
       "      <td>2021-01-02 1:13:45</td>\n",
       "      <td>21-01-02</td>\n",
       "      <td>토</td>\n",
       "    </tr>\n",
       "    <tr>\n",
       "      <th>2</th>\n",
       "      <td>2021/01/03</td>\n",
       "      <td>2021-01-03 2:50:10</td>\n",
       "      <td>21-01-03</td>\n",
       "      <td>일</td>\n",
       "    </tr>\n",
       "    <tr>\n",
       "      <th>3</th>\n",
       "      <td>2021/01/04</td>\n",
       "      <td>2021-01-04 3:12:30</td>\n",
       "      <td>21-01-04</td>\n",
       "      <td>월</td>\n",
       "    </tr>\n",
       "    <tr>\n",
       "      <th>4</th>\n",
       "      <td>2021/01/05</td>\n",
       "      <td>2021-01-05 5:40:20</td>\n",
       "      <td>21-01-05</td>\n",
       "      <td>화</td>\n",
       "    </tr>\n",
       "  </tbody>\n",
       "</table>\n",
       "</div>"
      ],
      "text/plain": [
       "        날짜_일반               날짜_시간     날짜_특수 범주\n",
       "0  2021/01/01  2021-01-01 1:12:10  21-01-01  금\n",
       "1  2021/01/02  2021-01-02 1:13:45  21-01-02  토\n",
       "2  2021/01/03  2021-01-03 2:50:10  21-01-03  일\n",
       "3  2021/01/04  2021-01-04 3:12:30  21-01-04  월\n",
       "4  2021/01/05  2021-01-05 5:40:20  21-01-05  화"
      ]
     },
     "execution_count": 3,
     "metadata": {},
     "output_type": "execute_result"
    }
   ],
   "source": [
    "temp = pd.DataFrame({'날짜_일반': ['2021/01/01', '2021/01/02', '2021/01/03', '2021/01/04', '2021/01/05'],\n",
    "                     '날짜_시간': ['2021-01-01 1:12:10', '2021-01-02 1:13:45', '2021-01-03 2:50:10', '2021-01-04 3:12:30', '2021-01-05 5:40:20'],\n",
    "                     '날짜_특수': ['21-01-01', '21-01-02', '21-01-03', '21-01-04', '21-01-05'],\n",
    "                     '범주': ['금', '토', '일', '월', '화']})\n",
    "temp"
   ]
  },
  {
   "cell_type": "code",
   "execution_count": 12,
   "metadata": {
    "id": "sbE0DNFOuaPi",
    "tags": []
   },
   "outputs": [
    {
     "data": {
      "text/plain": [
       "0   2021-01-01\n",
       "1   2021-01-02\n",
       "2   2021-01-03\n",
       "3   2021-01-04\n",
       "4   2021-01-05\n",
       "Name: 날짜_일반, dtype: datetime64[ns]"
      ]
     },
     "execution_count": 12,
     "metadata": {},
     "output_type": "execute_result"
    }
   ],
   "source": [
    "import numpy as np\n",
    "# Series.astype(np.datetime64) 을 사용하여 '날짜_일반'의 dtype을 변경해 보자\n",
    "temp['날짜_일반'].astype('datetime64[ns]')"
   ]
  },
  {
   "cell_type": "code",
   "execution_count": 16,
   "metadata": {
    "id": "7shjnDn9utvJ",
    "tags": []
   },
   "outputs": [
    {
     "data": {
      "text/plain": [
       "0   2021-01-01 01:12:10\n",
       "1   2021-01-02 01:13:45\n",
       "2   2021-01-03 02:50:10\n",
       "3   2021-01-04 03:12:30\n",
       "4   2021-01-05 05:40:20\n",
       "Name: 날짜_시간, dtype: datetime64[ns]"
      ]
     },
     "execution_count": 16,
     "metadata": {},
     "output_type": "execute_result"
    }
   ],
   "source": [
    "# Series.astype(np.datetime64) 을 사용하여 '날짜_시간'의 dtype을 변경해 보자\n",
    "temp['날짜_시간'].astype('datetime64[ns]')"
   ]
  },
  {
   "cell_type": "code",
   "execution_count": 18,
   "metadata": {
    "id": "CiAWUkkluwr3",
    "tags": []
   },
   "outputs": [
    {
     "name": "stderr",
     "output_type": "stream",
     "text": [
      "C:\\Users\\10148193\\AppData\\Local\\Temp\\ipykernel_7308\\659929891.py:2: UserWarning: Could not infer format, so each element will be parsed individually, falling back to `dateutil`. To ensure parsing is consistent and as-expected, please specify a format.\n",
      "  temp['날짜_특수'].astype('datetime64[ns]')\n"
     ]
    },
    {
     "data": {
      "text/plain": [
       "0   2001-01-21\n",
       "1   2002-01-21\n",
       "2   2003-01-21\n",
       "3   2004-01-21\n",
       "4   2005-01-21\n",
       "Name: 날짜_특수, dtype: datetime64[ns]"
      ]
     },
     "execution_count": 18,
     "metadata": {},
     "output_type": "execute_result"
    }
   ],
   "source": [
    "# Series.astype(np.datetime64)을 사용하여 '날짜_특수'의 dtype을 변경해 보자\n",
    "temp['날짜_특수'].astype('datetime64[ns]')"
   ]
  },
  {
   "cell_type": "code",
   "execution_count": 20,
   "metadata": {
    "tags": []
   },
   "outputs": [
    {
     "data": {
      "text/plain": [
       "0    21-01-01\n",
       "1    21-01-02\n",
       "2    21-01-03\n",
       "3    21-01-04\n",
       "4    21-01-05\n",
       "Name: 날짜_특수, dtype: object"
      ]
     },
     "execution_count": 20,
     "metadata": {},
     "output_type": "execute_result"
    }
   ],
   "source": [
    "temp['날짜_특수']"
   ]
  },
  {
   "cell_type": "code",
   "execution_count": 19,
   "metadata": {
    "id": "lEWMzFj_vS83",
    "tags": []
   },
   "outputs": [
    {
     "data": {
      "text/plain": [
       "0   2021-01-01\n",
       "1   2021-01-02\n",
       "2   2021-01-03\n",
       "3   2021-01-04\n",
       "4   2021-01-05\n",
       "Name: 날짜_특수, dtype: datetime64[ns]"
      ]
     },
     "execution_count": 19,
     "metadata": {},
     "output_type": "execute_result"
    }
   ],
   "source": [
    "# pd.to_datetime(Series, format='형식')을 사용하여 '날짜_특수'의 dtype을 변경해 보자\n",
    "pd.to_datetime(temp['날짜_특수'], format='%y-%m-%d')"
   ]
  },
  {
   "cell_type": "code",
   "execution_count": 21,
   "metadata": {
    "id": "GMMba9kMu2LN",
    "tags": []
   },
   "outputs": [],
   "source": [
    "# Series.astype('category')를 사용하여 '범주'의 dtype을 변경해 보자\n",
    "c1 = temp['범주'].astype('category')"
   ]
  },
  {
   "cell_type": "code",
   "execution_count": 22,
   "metadata": {
    "id": "0g82cGKU7Qvf",
    "tags": []
   },
   "outputs": [
    {
     "data": {
      "text/plain": [
       "0    금\n",
       "3    월\n",
       "2    일\n",
       "1    토\n",
       "4    화\n",
       "Name: 범주, dtype: category\n",
       "Categories (5, object): ['금', '월', '일', '토', '화']"
      ]
     },
     "execution_count": 22,
     "metadata": {},
     "output_type": "execute_result"
    }
   ],
   "source": [
    "# 위에서 만들어진 '범주'를 정렬해 보자 (Series.sort_values() 사용)\n",
    "c1.sort_values()"
   ]
  },
  {
   "cell_type": "code",
   "execution_count": 23,
   "metadata": {
    "id": "8qhQiV0mviIm",
    "tags": []
   },
   "outputs": [],
   "source": [
    "# pd.Categorical(Series, categories=카테고리목록, ordered=True)를 사용해 요일 순 범주를 만들어 보자\n",
    "# 요일목록 => ['월', '화', '수', '목', '금', '토', '일']\n",
    "c2 = pd.Categorical(temp['범주'], categories=['월', '화', '수', '목', '금', '토', '일'], ordered=True)"
   ]
  },
  {
   "cell_type": "code",
   "execution_count": 24,
   "metadata": {
    "id": "KLCdzskr7rwb",
    "tags": []
   },
   "outputs": [
    {
     "data": {
      "text/plain": [
       "['월', '화', '금', '토', '일']\n",
       "Categories (7, object): ['월' < '화' < '수' < '목' < '금' < '토' < '일']"
      ]
     },
     "execution_count": 24,
     "metadata": {},
     "output_type": "execute_result"
    }
   ],
   "source": [
    "# 위에서 만들어진 '범주'를 정렬해 보자 (Series.sort_values() 사용)\n",
    "c2.sort_values()"
   ]
  },
  {
   "cell_type": "code",
   "execution_count": 33,
   "metadata": {
    "tags": []
   },
   "outputs": [
    {
     "data": {
      "text/html": [
       "<div>\n",
       "<style scoped>\n",
       "    .dataframe tbody tr th:only-of-type {\n",
       "        vertical-align: middle;\n",
       "    }\n",
       "\n",
       "    .dataframe tbody tr th {\n",
       "        vertical-align: top;\n",
       "    }\n",
       "\n",
       "    .dataframe thead th {\n",
       "        text-align: right;\n",
       "    }\n",
       "</style>\n",
       "<table border=\"1\" class=\"dataframe\">\n",
       "  <thead>\n",
       "    <tr style=\"text-align: right;\">\n",
       "      <th></th>\n",
       "      <th>범주</th>\n",
       "      <th>날짜_일반</th>\n",
       "      <th>날짜_시간</th>\n",
       "      <th>날짜_특수</th>\n",
       "    </tr>\n",
       "  </thead>\n",
       "  <tbody>\n",
       "    <tr>\n",
       "      <th>0</th>\n",
       "      <td>금</td>\n",
       "      <td>2021/01/01</td>\n",
       "      <td>2021-01-01 1:12:10</td>\n",
       "      <td>21-01-01</td>\n",
       "    </tr>\n",
       "    <tr>\n",
       "      <th>1</th>\n",
       "      <td>토</td>\n",
       "      <td>2021/01/02</td>\n",
       "      <td>2021-01-02 1:13:45</td>\n",
       "      <td>21-01-02</td>\n",
       "    </tr>\n",
       "    <tr>\n",
       "      <th>2</th>\n",
       "      <td>일</td>\n",
       "      <td>2021/01/03</td>\n",
       "      <td>2021-01-03 2:50:10</td>\n",
       "      <td>21-01-03</td>\n",
       "    </tr>\n",
       "    <tr>\n",
       "      <th>3</th>\n",
       "      <td>월</td>\n",
       "      <td>2021/01/04</td>\n",
       "      <td>2021-01-04 3:12:30</td>\n",
       "      <td>21-01-04</td>\n",
       "    </tr>\n",
       "    <tr>\n",
       "      <th>4</th>\n",
       "      <td>화</td>\n",
       "      <td>2021/01/05</td>\n",
       "      <td>2021-01-05 5:40:20</td>\n",
       "      <td>21-01-05</td>\n",
       "    </tr>\n",
       "  </tbody>\n",
       "</table>\n",
       "</div>"
      ],
      "text/plain": [
       "  범주       날짜_일반               날짜_시간     날짜_특수\n",
       "0  금  2021/01/01  2021-01-01 1:12:10  21-01-01\n",
       "1  토  2021/01/02  2021-01-02 1:13:45  21-01-02\n",
       "2  일  2021/01/03  2021-01-03 2:50:10  21-01-03\n",
       "3  월  2021/01/04  2021-01-04 3:12:30  21-01-04\n",
       "4  화  2021/01/05  2021-01-05 5:40:20  21-01-05"
      ]
     },
     "execution_count": 33,
     "metadata": {},
     "output_type": "execute_result"
    }
   ],
   "source": [
    "temp"
   ]
  },
  {
   "cell_type": "code",
   "execution_count": 34,
   "metadata": {
    "tags": []
   },
   "outputs": [],
   "source": [
    "temp['범주'] = pd.Categorical(temp['범주'], categories=['월', '화', '수', '목', '금', '토', '일'], ordered=True)"
   ]
  },
  {
   "cell_type": "code",
   "execution_count": 35,
   "metadata": {
    "tags": []
   },
   "outputs": [],
   "source": [
    "temp.set_index('범주', inplace=True)"
   ]
  },
  {
   "cell_type": "code",
   "execution_count": 42,
   "metadata": {
    "tags": []
   },
   "outputs": [
    {
     "data": {
      "text/html": [
       "<div>\n",
       "<style scoped>\n",
       "    .dataframe tbody tr th:only-of-type {\n",
       "        vertical-align: middle;\n",
       "    }\n",
       "\n",
       "    .dataframe tbody tr th {\n",
       "        vertical-align: top;\n",
       "    }\n",
       "\n",
       "    .dataframe thead th {\n",
       "        text-align: right;\n",
       "    }\n",
       "</style>\n",
       "<table border=\"1\" class=\"dataframe\">\n",
       "  <thead>\n",
       "    <tr style=\"text-align: right;\">\n",
       "      <th></th>\n",
       "      <th>범주</th>\n",
       "      <th>날짜_일반</th>\n",
       "      <th>날짜_시간</th>\n",
       "      <th>날짜_특수</th>\n",
       "    </tr>\n",
       "  </thead>\n",
       "  <tbody>\n",
       "    <tr>\n",
       "      <th>0</th>\n",
       "      <td>금</td>\n",
       "      <td>2021/01/01</td>\n",
       "      <td>2021-01-01 1:12:10</td>\n",
       "      <td>21-01-01</td>\n",
       "    </tr>\n",
       "    <tr>\n",
       "      <th>1</th>\n",
       "      <td>토</td>\n",
       "      <td>2021/01/02</td>\n",
       "      <td>2021-01-02 1:13:45</td>\n",
       "      <td>21-01-02</td>\n",
       "    </tr>\n",
       "    <tr>\n",
       "      <th>2</th>\n",
       "      <td>일</td>\n",
       "      <td>2021/01/03</td>\n",
       "      <td>2021-01-03 2:50:10</td>\n",
       "      <td>21-01-03</td>\n",
       "    </tr>\n",
       "    <tr>\n",
       "      <th>3</th>\n",
       "      <td>월</td>\n",
       "      <td>2021/01/04</td>\n",
       "      <td>2021-01-04 3:12:30</td>\n",
       "      <td>21-01-04</td>\n",
       "    </tr>\n",
       "    <tr>\n",
       "      <th>4</th>\n",
       "      <td>화</td>\n",
       "      <td>2021/01/05</td>\n",
       "      <td>2021-01-05 5:40:20</td>\n",
       "      <td>21-01-05</td>\n",
       "    </tr>\n",
       "  </tbody>\n",
       "</table>\n",
       "</div>"
      ],
      "text/plain": [
       "  범주       날짜_일반               날짜_시간     날짜_특수\n",
       "0  금  2021/01/01  2021-01-01 1:12:10  21-01-01\n",
       "1  토  2021/01/02  2021-01-02 1:13:45  21-01-02\n",
       "2  일  2021/01/03  2021-01-03 2:50:10  21-01-03\n",
       "3  월  2021/01/04  2021-01-04 3:12:30  21-01-04\n",
       "4  화  2021/01/05  2021-01-05 5:40:20  21-01-05"
      ]
     },
     "execution_count": 42,
     "metadata": {},
     "output_type": "execute_result"
    }
   ],
   "source": [
    "temp"
   ]
  },
  {
   "cell_type": "code",
   "execution_count": 41,
   "metadata": {
    "tags": []
   },
   "outputs": [],
   "source": [
    "temp.reset_index(inplace=True)"
   ]
  },
  {
   "cell_type": "code",
   "execution_count": 39,
   "metadata": {
    "tags": []
   },
   "outputs": [
    {
     "data": {
      "text/plain": [
       "날짜_일반            2021/01/01\n",
       "날짜_시간    2021-01-01 1:12:10\n",
       "날짜_특수              21-01-01\n",
       "Name: 금, dtype: object"
      ]
     },
     "execution_count": 39,
     "metadata": {},
     "output_type": "execute_result"
    }
   ],
   "source": [
    "temp.loc['금',:]"
   ]
  },
  {
   "cell_type": "code",
   "execution_count": 45,
   "metadata": {
    "tags": []
   },
   "outputs": [
    {
     "data": {
      "text/plain": [
       "['__annotations__',\n",
       " '__class__',\n",
       " '__delattr__',\n",
       " '__dict__',\n",
       " '__dir__',\n",
       " '__doc__',\n",
       " '__eq__',\n",
       " '__format__',\n",
       " '__frozen',\n",
       " '__ge__',\n",
       " '__getattribute__',\n",
       " '__getstate__',\n",
       " '__gt__',\n",
       " '__hash__',\n",
       " '__init__',\n",
       " '__init_subclass__',\n",
       " '__le__',\n",
       " '__lt__',\n",
       " '__module__',\n",
       " '__ne__',\n",
       " '__new__',\n",
       " '__reduce__',\n",
       " '__reduce_ex__',\n",
       " '__repr__',\n",
       " '__setattr__',\n",
       " '__sizeof__',\n",
       " '__str__',\n",
       " '__subclasshook__',\n",
       " '__weakref__',\n",
       " '_accessors',\n",
       " '_add_delegate_accessors',\n",
       " '_constructor',\n",
       " '_delegate_method',\n",
       " '_delegate_property_get',\n",
       " '_delegate_property_set',\n",
       " '_dir_additions',\n",
       " '_dir_deletions',\n",
       " '_freeze',\n",
       " '_hidden_attrs',\n",
       " '_index',\n",
       " '_name',\n",
       " '_parent',\n",
       " '_reset_cache',\n",
       " '_validate',\n",
       " 'add_categories',\n",
       " 'as_ordered',\n",
       " 'as_unordered',\n",
       " 'categories',\n",
       " 'codes',\n",
       " 'ordered',\n",
       " 'remove_categories',\n",
       " 'remove_unused_categories',\n",
       " 'rename_categories',\n",
       " 'reorder_categories',\n",
       " 'set_categories']"
      ]
     },
     "execution_count": 45,
     "metadata": {},
     "output_type": "execute_result"
    }
   ],
   "source": [
    "dir(temp['범주'].cat)"
   ]
  },
  {
   "cell_type": "code",
   "execution_count": 48,
   "metadata": {
    "tags": []
   },
   "outputs": [
    {
     "data": {
      "text/plain": [
       "Index(['월', '화', '수', '목', '금', '토', '일'], dtype='object')"
      ]
     },
     "execution_count": 48,
     "metadata": {},
     "output_type": "execute_result"
    }
   ],
   "source": [
    "temp['범주'].cat.categories"
   ]
  },
  {
   "cell_type": "markdown",
   "metadata": {
    "id": "cnZdQ_WyrYDw"
   },
   "source": [
    "### 3-4. 인기cat널 확인하기\n"
   ]
  },
  {
   "cell_type": "markdown",
   "metadata": {
    "id": "VOI_ht4sYvCh"
   },
   "source": [
    "데이터 정렬하기\n",
    "- DataFrame.sort_values(컬럼명, ascending=True)\n",
    "- DataFrame.sort_values([컬럼명1, 컬럼명2, ...], ascending=[...])\n",
    "- 오름차순이 기본이며, ascending=False를 사용하여 내림차순 지정\n",
    "- 1차기준, 2차기준 등 여러 개 기준이 존재하는 경우\n",
    "     - 1차기준 정렬 된 후, 1차기준이 같은 것 내부에서 2차기준으로 정렬됨\n",
    "     - 정렬방법은 각 기준별로 부여하거나, 1개만 부여할 수 있음"
   ]
  },
  {
   "cell_type": "code",
   "execution_count": 49,
   "metadata": {
    "colab": {
     "base_uri": "https://localhost:8080/",
     "height": 112
    },
    "id": "z-ZOx0kFVbOc",
    "outputId": "96abb85f-7514-48a1-965d-acd55657a64a",
    "tags": []
   },
   "outputs": [
    {
     "data": {
      "text/html": [
       "<div>\n",
       "<style scoped>\n",
       "    .dataframe tbody tr th:only-of-type {\n",
       "        vertical-align: middle;\n",
       "    }\n",
       "\n",
       "    .dataframe tbody tr th {\n",
       "        vertical-align: top;\n",
       "    }\n",
       "\n",
       "    .dataframe thead th {\n",
       "        text-align: right;\n",
       "    }\n",
       "</style>\n",
       "<table border=\"1\" class=\"dataframe\">\n",
       "  <thead>\n",
       "    <tr style=\"text-align: right;\">\n",
       "      <th></th>\n",
       "      <th>title</th>\n",
       "      <th>category</th>\n",
       "      <th>subscriber</th>\n",
       "      <th>view</th>\n",
       "      <th>video</th>\n",
       "    </tr>\n",
       "  </thead>\n",
       "  <tbody>\n",
       "    <tr>\n",
       "      <th>0</th>\n",
       "      <td>BLACKPINK</td>\n",
       "      <td>음악/댄스/가수</td>\n",
       "      <td>51400000</td>\n",
       "      <td>12851300000</td>\n",
       "      <td>319</td>\n",
       "    </tr>\n",
       "    <tr>\n",
       "      <th>1</th>\n",
       "      <td>Big Hit Labels</td>\n",
       "      <td>음악/댄스/가수</td>\n",
       "      <td>45500000</td>\n",
       "      <td>12089660000</td>\n",
       "      <td>433</td>\n",
       "    </tr>\n",
       "  </tbody>\n",
       "</table>\n",
       "</div>"
      ],
      "text/plain": [
       "            title  category  subscriber         view  video\n",
       "0       BLACKPINK  음악/댄스/가수    51400000  12851300000    319\n",
       "1  Big Hit Labels  음악/댄스/가수    45500000  12089660000    433"
      ]
     },
     "execution_count": 49,
     "metadata": {},
     "output_type": "execute_result"
    }
   ],
   "source": [
    "import pandas as pd\n",
    "df = pd.read_excel('data_01/youtube_rank.xlsx', engine='openpyxl')\n",
    "df['subscriber'] = df['subscriber'].replace('만', '0000', regex=True).astype('int64')\n",
    "df['view'] = df['view'].replace({'억':'', '만':'0000'}, regex=True).astype('int64')\n",
    "df['video'] = df['video'].replace(['개', '\\,'], '', regex=True).astype('int32')\n",
    "df['category'] = df['category'].str[1:-1].astype('category')\n",
    "df.head(2)"
   ]
  },
  {
   "cell_type": "code",
   "execution_count": 50,
   "metadata": {
    "id": "rgkipYLph88B",
    "tags": []
   },
   "outputs": [
    {
     "data": {
      "text/html": [
       "<div>\n",
       "<style scoped>\n",
       "    .dataframe tbody tr th:only-of-type {\n",
       "        vertical-align: middle;\n",
       "    }\n",
       "\n",
       "    .dataframe tbody tr th {\n",
       "        vertical-align: top;\n",
       "    }\n",
       "\n",
       "    .dataframe thead th {\n",
       "        text-align: right;\n",
       "    }\n",
       "</style>\n",
       "<table border=\"1\" class=\"dataframe\">\n",
       "  <thead>\n",
       "    <tr style=\"text-align: right;\">\n",
       "      <th></th>\n",
       "      <th>title</th>\n",
       "      <th>category</th>\n",
       "      <th>subscriber</th>\n",
       "      <th>view</th>\n",
       "      <th>video</th>\n",
       "    </tr>\n",
       "  </thead>\n",
       "  <tbody>\n",
       "    <tr>\n",
       "      <th>0</th>\n",
       "      <td>BLACKPINK</td>\n",
       "      <td>음악/댄스/가수</td>\n",
       "      <td>51400000</td>\n",
       "      <td>12851300000</td>\n",
       "      <td>319</td>\n",
       "    </tr>\n",
       "    <tr>\n",
       "      <th>1</th>\n",
       "      <td>Big Hit Labels</td>\n",
       "      <td>음악/댄스/가수</td>\n",
       "      <td>45500000</td>\n",
       "      <td>12089660000</td>\n",
       "      <td>433</td>\n",
       "    </tr>\n",
       "    <tr>\n",
       "      <th>2</th>\n",
       "      <td>BANGTANTV</td>\n",
       "      <td>음악/댄스/가수</td>\n",
       "      <td>38700000</td>\n",
       "      <td>5475980000</td>\n",
       "      <td>1319</td>\n",
       "    </tr>\n",
       "    <tr>\n",
       "      <th>3</th>\n",
       "      <td>Boram Tube Vlog [보람튜브 브이로그]</td>\n",
       "      <td>키즈/어린이</td>\n",
       "      <td>26500000</td>\n",
       "      <td>11052880000</td>\n",
       "      <td>223</td>\n",
       "    </tr>\n",
       "    <tr>\n",
       "      <th>4</th>\n",
       "      <td>SMTOWN</td>\n",
       "      <td>음악/댄스/가수</td>\n",
       "      <td>24500000</td>\n",
       "      <td>18075320000</td>\n",
       "      <td>3583</td>\n",
       "    </tr>\n",
       "  </tbody>\n",
       "</table>\n",
       "</div>"
      ],
      "text/plain": [
       "                         title  category  subscriber         view  video\n",
       "0                    BLACKPINK  음악/댄스/가수    51400000  12851300000    319\n",
       "1               Big Hit Labels  음악/댄스/가수    45500000  12089660000    433\n",
       "2                    BANGTANTV  음악/댄스/가수    38700000   5475980000   1319\n",
       "3  Boram Tube Vlog [보람튜브 브이로그]    키즈/어린이    26500000  11052880000    223\n",
       "4                       SMTOWN  음악/댄스/가수    24500000  18075320000   3583"
      ]
     },
     "execution_count": 50,
     "metadata": {},
     "output_type": "execute_result"
    }
   ],
   "source": [
    "# [1-31] 'subscriber' 가 가장 많은 5개의 채널을 알아봅니다.\n",
    "df.sort_values('subscriber', ascending=False).head()"
   ]
  },
  {
   "cell_type": "code",
   "execution_count": 51,
   "metadata": {
    "tags": []
   },
   "outputs": [
    {
     "name": "stdout",
     "output_type": "stream",
     "text": [
      "                         title  category  subscriber         view  video\n",
      "0                    BLACKPINK  음악/댄스/가수    51400000  12851300000    319\n",
      "1               Big Hit Labels  음악/댄스/가수    45500000  12089660000    433\n",
      "2                    BANGTANTV  음악/댄스/가수    38700000   5475980000   1319\n",
      "3  Boram Tube Vlog [보람튜브 브이로그]    키즈/어린이    26500000  11052880000    223\n",
      "4                       SMTOWN  음악/댄스/가수    24500000  18075320000   3583\n"
     ]
    }
   ],
   "source": [
    "print(df.sort_values('subscriber', ascending=False).head())"
   ]
  },
  {
   "cell_type": "code",
   "execution_count": 52,
   "metadata": {
    "id": "XKhcJt9n4_sh",
    "tags": []
   },
   "outputs": [
    {
     "data": {
      "text/html": [
       "<div>\n",
       "<style scoped>\n",
       "    .dataframe tbody tr th:only-of-type {\n",
       "        vertical-align: middle;\n",
       "    }\n",
       "\n",
       "    .dataframe tbody tr th {\n",
       "        vertical-align: top;\n",
       "    }\n",
       "\n",
       "    .dataframe thead th {\n",
       "        text-align: right;\n",
       "    }\n",
       "</style>\n",
       "<table border=\"1\" class=\"dataframe\">\n",
       "  <thead>\n",
       "    <tr style=\"text-align: right;\">\n",
       "      <th></th>\n",
       "      <th>title</th>\n",
       "      <th>category</th>\n",
       "      <th>subscriber</th>\n",
       "      <th>view</th>\n",
       "      <th>video</th>\n",
       "    </tr>\n",
       "  </thead>\n",
       "  <tbody>\n",
       "    <tr>\n",
       "      <th>4</th>\n",
       "      <td>SMTOWN</td>\n",
       "      <td>음악/댄스/가수</td>\n",
       "      <td>24500000</td>\n",
       "      <td>18075320000</td>\n",
       "      <td>3583</td>\n",
       "    </tr>\n",
       "    <tr>\n",
       "      <th>6</th>\n",
       "      <td>1theK (원더케이)</td>\n",
       "      <td>음악/댄스/가수</td>\n",
       "      <td>20900000</td>\n",
       "      <td>17860420000</td>\n",
       "      <td>13291</td>\n",
       "    </tr>\n",
       "    <tr>\n",
       "      <th>8</th>\n",
       "      <td>ArianaGrandeVevo</td>\n",
       "      <td>음악/댄스/가수</td>\n",
       "      <td>18200000</td>\n",
       "      <td>14796920000</td>\n",
       "      <td>112</td>\n",
       "    </tr>\n",
       "    <tr>\n",
       "      <th>0</th>\n",
       "      <td>BLACKPINK</td>\n",
       "      <td>음악/댄스/가수</td>\n",
       "      <td>51400000</td>\n",
       "      <td>12851300000</td>\n",
       "      <td>319</td>\n",
       "    </tr>\n",
       "    <tr>\n",
       "      <th>1</th>\n",
       "      <td>Big Hit Labels</td>\n",
       "      <td>음악/댄스/가수</td>\n",
       "      <td>45500000</td>\n",
       "      <td>12089660000</td>\n",
       "      <td>433</td>\n",
       "    </tr>\n",
       "  </tbody>\n",
       "</table>\n",
       "</div>"
      ],
      "text/plain": [
       "              title  category  subscriber         view  video\n",
       "4            SMTOWN  음악/댄스/가수    24500000  18075320000   3583\n",
       "6      1theK (원더케이)  음악/댄스/가수    20900000  17860420000  13291\n",
       "8  ArianaGrandeVevo  음악/댄스/가수    18200000  14796920000    112\n",
       "0         BLACKPINK  음악/댄스/가수    51400000  12851300000    319\n",
       "1    Big Hit Labels  음악/댄스/가수    45500000  12089660000    433"
      ]
     },
     "execution_count": 52,
     "metadata": {},
     "output_type": "execute_result"
    }
   ],
   "source": [
    "# [1-32] 'view'가 가장 많은 5개 채널을 알아봅니다\n",
    "df.sort_values('view', ascending=False)[:5]"
   ]
  },
  {
   "cell_type": "code",
   "execution_count": 53,
   "metadata": {
    "id": "_MafshVp4_hB",
    "tags": []
   },
   "outputs": [
    {
     "data": {
      "text/html": [
       "<div>\n",
       "<style scoped>\n",
       "    .dataframe tbody tr th:only-of-type {\n",
       "        vertical-align: middle;\n",
       "    }\n",
       "\n",
       "    .dataframe tbody tr th {\n",
       "        vertical-align: top;\n",
       "    }\n",
       "\n",
       "    .dataframe thead th {\n",
       "        text-align: right;\n",
       "    }\n",
       "</style>\n",
       "<table border=\"1\" class=\"dataframe\">\n",
       "  <thead>\n",
       "    <tr style=\"text-align: right;\">\n",
       "      <th></th>\n",
       "      <th>title</th>\n",
       "      <th>category</th>\n",
       "      <th>subscriber</th>\n",
       "      <th>view</th>\n",
       "      <th>video</th>\n",
       "    </tr>\n",
       "  </thead>\n",
       "  <tbody>\n",
       "    <tr>\n",
       "      <th>169</th>\n",
       "      <td>YTN news</td>\n",
       "      <td>뉴스/정치/사회</td>\n",
       "      <td>1970000</td>\n",
       "      <td>3801710000</td>\n",
       "      <td>492791</td>\n",
       "    </tr>\n",
       "    <tr>\n",
       "      <th>60</th>\n",
       "      <td>SBS Drama</td>\n",
       "      <td>TV/방송</td>\n",
       "      <td>4360000</td>\n",
       "      <td>4260860000</td>\n",
       "      <td>339029</td>\n",
       "    </tr>\n",
       "    <tr>\n",
       "      <th>737</th>\n",
       "      <td>연합뉴스TV</td>\n",
       "      <td>뉴스/정치/사회</td>\n",
       "      <td>550000</td>\n",
       "      <td>697650000</td>\n",
       "      <td>311370</td>\n",
       "    </tr>\n",
       "    <tr>\n",
       "      <th>57</th>\n",
       "      <td>SBS Entertainment</td>\n",
       "      <td>TV/방송</td>\n",
       "      <td>4490000</td>\n",
       "      <td>4516190000</td>\n",
       "      <td>210810</td>\n",
       "    </tr>\n",
       "    <tr>\n",
       "      <th>17</th>\n",
       "      <td>CNN</td>\n",
       "      <td>뉴스/정치/사회</td>\n",
       "      <td>10900000</td>\n",
       "      <td>7899750000</td>\n",
       "      <td>149530</td>\n",
       "    </tr>\n",
       "  </tbody>\n",
       "</table>\n",
       "</div>"
      ],
      "text/plain": [
       "                 title  category  subscriber        view   video\n",
       "169           YTN news  뉴스/정치/사회     1970000  3801710000  492791\n",
       "60           SBS Drama     TV/방송     4360000  4260860000  339029\n",
       "737             연합뉴스TV  뉴스/정치/사회      550000   697650000  311370\n",
       "57   SBS Entertainment     TV/방송     4490000  4516190000  210810\n",
       "17                 CNN  뉴스/정치/사회    10900000  7899750000  149530"
      ]
     },
     "execution_count": 53,
     "metadata": {},
     "output_type": "execute_result"
    }
   ],
   "source": [
    "# [1-33] 'video'가 가장 많은 5개 채널을 알아봅니다\n",
    "df.sort_values('video', ascending=False)[:5]"
   ]
  },
  {
   "cell_type": "code",
   "execution_count": 56,
   "metadata": {
    "id": "yuyGkJ8W5RSz",
    "tags": []
   },
   "outputs": [
    {
     "data": {
      "text/html": [
       "<div>\n",
       "<style scoped>\n",
       "    .dataframe tbody tr th:only-of-type {\n",
       "        vertical-align: middle;\n",
       "    }\n",
       "\n",
       "    .dataframe tbody tr th {\n",
       "        vertical-align: top;\n",
       "    }\n",
       "\n",
       "    .dataframe thead th {\n",
       "        text-align: right;\n",
       "    }\n",
       "</style>\n",
       "<table border=\"1\" class=\"dataframe\">\n",
       "  <thead>\n",
       "    <tr style=\"text-align: right;\">\n",
       "      <th></th>\n",
       "      <th>title</th>\n",
       "      <th>category</th>\n",
       "      <th>subscriber</th>\n",
       "      <th>view</th>\n",
       "      <th>video</th>\n",
       "    </tr>\n",
       "  </thead>\n",
       "  <tbody>\n",
       "    <tr>\n",
       "      <th>194</th>\n",
       "      <td>OfficialGDRAGON</td>\n",
       "      <td>음악/댄스/가수</td>\n",
       "      <td>1750000</td>\n",
       "      <td>0</td>\n",
       "      <td>0</td>\n",
       "    </tr>\n",
       "    <tr>\n",
       "      <th>128</th>\n",
       "      <td>tzuyang쯔양</td>\n",
       "      <td>음식/요리/레시피</td>\n",
       "      <td>2570000</td>\n",
       "      <td>2570000</td>\n",
       "      <td>1</td>\n",
       "    </tr>\n",
       "    <tr>\n",
       "      <th>964</th>\n",
       "      <td>fx</td>\n",
       "      <td>음악/댄스/가수</td>\n",
       "      <td>410000</td>\n",
       "      <td>380000</td>\n",
       "      <td>3</td>\n",
       "    </tr>\n",
       "    <tr>\n",
       "      <th>454</th>\n",
       "      <td>CL</td>\n",
       "      <td>음악/댄스/가수</td>\n",
       "      <td>840000</td>\n",
       "      <td>52470000</td>\n",
       "      <td>5</td>\n",
       "    </tr>\n",
       "    <tr>\n",
       "      <th>742</th>\n",
       "      <td>Trouble Maker (Official YouTube Channel)</td>\n",
       "      <td>음악/댄스/가수</td>\n",
       "      <td>540000</td>\n",
       "      <td>173840000</td>\n",
       "      <td>9</td>\n",
       "    </tr>\n",
       "  </tbody>\n",
       "</table>\n",
       "</div>"
      ],
      "text/plain": [
       "                                        title   category  subscriber   \n",
       "194                           OfficialGDRAGON   음악/댄스/가수     1750000  \\\n",
       "128                                 tzuyang쯔양  음식/요리/레시피     2570000   \n",
       "964                                        fx   음악/댄스/가수      410000   \n",
       "454                                        CL   음악/댄스/가수      840000   \n",
       "742  Trouble Maker (Official YouTube Channel)   음악/댄스/가수      540000   \n",
       "\n",
       "          view  video  \n",
       "194          0      0  \n",
       "128    2570000      1  \n",
       "964     380000      3  \n",
       "454   52470000      5  \n",
       "742  173840000      9  "
      ]
     },
     "execution_count": 56,
     "metadata": {},
     "output_type": "execute_result"
    }
   ],
   "source": [
    "# [1-34] 'video'가 가장 적은 5개 채널을 알아봅니다\n",
    "df.sort_values('video', ascending=True)[:5]"
   ]
  },
  {
   "cell_type": "code",
   "execution_count": 55,
   "metadata": {
    "id": "XEett3ZHRS5H",
    "tags": []
   },
   "outputs": [
    {
     "data": {
      "text/html": [
       "<div>\n",
       "<style scoped>\n",
       "    .dataframe tbody tr th:only-of-type {\n",
       "        vertical-align: middle;\n",
       "    }\n",
       "\n",
       "    .dataframe tbody tr th {\n",
       "        vertical-align: top;\n",
       "    }\n",
       "\n",
       "    .dataframe thead th {\n",
       "        text-align: right;\n",
       "    }\n",
       "</style>\n",
       "<table border=\"1\" class=\"dataframe\">\n",
       "  <thead>\n",
       "    <tr style=\"text-align: right;\">\n",
       "      <th></th>\n",
       "      <th>title</th>\n",
       "      <th>category</th>\n",
       "      <th>subscriber</th>\n",
       "      <th>view</th>\n",
       "      <th>video</th>\n",
       "    </tr>\n",
       "  </thead>\n",
       "  <tbody>\n",
       "    <tr>\n",
       "      <th>52</th>\n",
       "      <td>[Awesome Haeun]어썸하은</td>\n",
       "      <td>BJ/인물/연예인</td>\n",
       "      <td>4840000</td>\n",
       "      <td>703070000</td>\n",
       "      <td>419</td>\n",
       "    </tr>\n",
       "    <tr>\n",
       "      <th>75</th>\n",
       "      <td>영국남자 Korean Englishman</td>\n",
       "      <td>BJ/인물/연예인</td>\n",
       "      <td>3940000</td>\n",
       "      <td>1160110000</td>\n",
       "      <td>411</td>\n",
       "    </tr>\n",
       "    <tr>\n",
       "      <th>79</th>\n",
       "      <td>워크맨-Workman</td>\n",
       "      <td>BJ/인물/연예인</td>\n",
       "      <td>3810000</td>\n",
       "      <td>469330000</td>\n",
       "      <td>76</td>\n",
       "    </tr>\n",
       "    <tr>\n",
       "      <th>82</th>\n",
       "      <td>waveya 2011</td>\n",
       "      <td>BJ/인물/연예인</td>\n",
       "      <td>3720000</td>\n",
       "      <td>1299280000</td>\n",
       "      <td>647</td>\n",
       "    </tr>\n",
       "    <tr>\n",
       "      <th>84</th>\n",
       "      <td>허팝Heopop</td>\n",
       "      <td>BJ/인물/연예인</td>\n",
       "      <td>3710000</td>\n",
       "      <td>2748310000</td>\n",
       "      <td>1685</td>\n",
       "    </tr>\n",
       "    <tr>\n",
       "      <th>...</th>\n",
       "      <td>...</td>\n",
       "      <td>...</td>\n",
       "      <td>...</td>\n",
       "      <td>...</td>\n",
       "      <td>...</td>\n",
       "    </tr>\n",
       "    <tr>\n",
       "      <th>671</th>\n",
       "      <td>AshleyMariee</td>\n",
       "      <td>해외</td>\n",
       "      <td>590000</td>\n",
       "      <td>55950000</td>\n",
       "      <td>2033</td>\n",
       "    </tr>\n",
       "    <tr>\n",
       "      <th>53</th>\n",
       "      <td>Samsung</td>\n",
       "      <td>회사/오피셜</td>\n",
       "      <td>4780000</td>\n",
       "      <td>585350000</td>\n",
       "      <td>1135</td>\n",
       "    </tr>\n",
       "    <tr>\n",
       "      <th>108</th>\n",
       "      <td>Billboard</td>\n",
       "      <td>회사/오피셜</td>\n",
       "      <td>2900000</td>\n",
       "      <td>1010800000</td>\n",
       "      <td>6100</td>\n",
       "    </tr>\n",
       "    <tr>\n",
       "      <th>709</th>\n",
       "      <td>미스&amp;미스터트롯 공식계정</td>\n",
       "      <td>회사/오피셜</td>\n",
       "      <td>570000</td>\n",
       "      <td>202340000</td>\n",
       "      <td>659</td>\n",
       "    </tr>\n",
       "    <tr>\n",
       "      <th>722</th>\n",
       "      <td>KB국민카드</td>\n",
       "      <td>회사/오피셜</td>\n",
       "      <td>560000</td>\n",
       "      <td>187960000</td>\n",
       "      <td>443</td>\n",
       "    </tr>\n",
       "  </tbody>\n",
       "</table>\n",
       "<p>1000 rows × 5 columns</p>\n",
       "</div>"
      ],
      "text/plain": [
       "                      title   category  subscriber        view  video\n",
       "52      [Awesome Haeun]어썸하은  BJ/인물/연예인     4840000   703070000    419\n",
       "75   영국남자 Korean Englishman  BJ/인물/연예인     3940000  1160110000    411\n",
       "79              워크맨-Workman  BJ/인물/연예인     3810000   469330000     76\n",
       "82              waveya 2011  BJ/인물/연예인     3720000  1299280000    647\n",
       "84                 허팝Heopop  BJ/인물/연예인     3710000  2748310000   1685\n",
       "..                      ...        ...         ...         ...    ...\n",
       "671            AshleyMariee         해외      590000    55950000   2033\n",
       "53                  Samsung     회사/오피셜     4780000   585350000   1135\n",
       "108               Billboard     회사/오피셜     2900000  1010800000   6100\n",
       "709           미스&미스터트롯 공식계정     회사/오피셜      570000   202340000    659\n",
       "722                  KB국민카드     회사/오피셜      560000   187960000    443\n",
       "\n",
       "[1000 rows x 5 columns]"
      ]
     },
     "execution_count": 55,
     "metadata": {},
     "output_type": "execute_result"
    }
   ],
   "source": [
    "# [1-35] 'category'로 오름차순, 'subscriber'로 내림차순 정렬해 봅니다.      \n",
    "df.sort_values(['category', 'subscriber'], ascending=[True, False])"
   ]
  },
  {
   "cell_type": "markdown",
   "metadata": {
    "id": "Sw6bAM-Nb5i7"
   },
   "source": [
    "Boolean indexing 사용하여 조건에 맞는 데이터 가져오기\n",
    "- DataFrame.loc[조건, :]\n",
    "- DataFrame[조건]\n",
    "- 조건은 boolean dtype이어야 하며 행의 수와 같아야 함\n",
    "- 복잡한 조건 작성\n",
    "    - (조건1) | (조건2)  : 조건1 또는 조건2를 만족하는 데이터\n",
    "    - (조건1) & (조건2)  : 조건1, 조건2 모두 만족하는 데이터\n",
    "    - ~(조건) : 조건이 거짓인 데이터"
   ]
  },
  {
   "cell_type": "code",
   "execution_count": 57,
   "metadata": {
    "id": "Q14-fSz-rWON",
    "tags": []
   },
   "outputs": [
    {
     "data": {
      "text/html": [
       "<div>\n",
       "<style scoped>\n",
       "    .dataframe tbody tr th:only-of-type {\n",
       "        vertical-align: middle;\n",
       "    }\n",
       "\n",
       "    .dataframe tbody tr th {\n",
       "        vertical-align: top;\n",
       "    }\n",
       "\n",
       "    .dataframe thead th {\n",
       "        text-align: right;\n",
       "    }\n",
       "</style>\n",
       "<table border=\"1\" class=\"dataframe\">\n",
       "  <thead>\n",
       "    <tr style=\"text-align: right;\">\n",
       "      <th></th>\n",
       "      <th>A</th>\n",
       "      <th>B</th>\n",
       "      <th>C</th>\n",
       "    </tr>\n",
       "  </thead>\n",
       "  <tbody>\n",
       "    <tr>\n",
       "      <th>0</th>\n",
       "      <td>1</td>\n",
       "      <td>6</td>\n",
       "      <td>3</td>\n",
       "    </tr>\n",
       "    <tr>\n",
       "      <th>1</th>\n",
       "      <td>2</td>\n",
       "      <td>5</td>\n",
       "      <td>4</td>\n",
       "    </tr>\n",
       "    <tr>\n",
       "      <th>2</th>\n",
       "      <td>3</td>\n",
       "      <td>4</td>\n",
       "      <td>5</td>\n",
       "    </tr>\n",
       "    <tr>\n",
       "      <th>3</th>\n",
       "      <td>4</td>\n",
       "      <td>3</td>\n",
       "      <td>2</td>\n",
       "    </tr>\n",
       "  </tbody>\n",
       "</table>\n",
       "</div>"
      ],
      "text/plain": [
       "   A  B  C\n",
       "0  1  6  3\n",
       "1  2  5  4\n",
       "2  3  4  5\n",
       "3  4  3  2"
      ]
     },
     "execution_count": 57,
     "metadata": {},
     "output_type": "execute_result"
    }
   ],
   "source": [
    "temp = pd.DataFrame({'A': [1, 2, 3, 4],\n",
    "                     'B': [6, 5, 4, 3],\n",
    "                     'C': [3, 4, 5, 2]})\n",
    "temp"
   ]
  },
  {
   "cell_type": "code",
   "execution_count": 60,
   "metadata": {
    "tags": []
   },
   "outputs": [
    {
     "data": {
      "text/html": [
       "<div>\n",
       "<style scoped>\n",
       "    .dataframe tbody tr th:only-of-type {\n",
       "        vertical-align: middle;\n",
       "    }\n",
       "\n",
       "    .dataframe tbody tr th {\n",
       "        vertical-align: top;\n",
       "    }\n",
       "\n",
       "    .dataframe thead th {\n",
       "        text-align: right;\n",
       "    }\n",
       "</style>\n",
       "<table border=\"1\" class=\"dataframe\">\n",
       "  <thead>\n",
       "    <tr style=\"text-align: right;\">\n",
       "      <th></th>\n",
       "      <th>A</th>\n",
       "      <th>B</th>\n",
       "      <th>C</th>\n",
       "    </tr>\n",
       "  </thead>\n",
       "  <tbody>\n",
       "    <tr>\n",
       "      <th>0</th>\n",
       "      <td>1</td>\n",
       "      <td>6</td>\n",
       "      <td>3</td>\n",
       "    </tr>\n",
       "    <tr>\n",
       "      <th>1</th>\n",
       "      <td>2</td>\n",
       "      <td>5</td>\n",
       "      <td>4</td>\n",
       "    </tr>\n",
       "    <tr>\n",
       "      <th>3</th>\n",
       "      <td>4</td>\n",
       "      <td>3</td>\n",
       "      <td>2</td>\n",
       "    </tr>\n",
       "  </tbody>\n",
       "</table>\n",
       "</div>"
      ],
      "text/plain": [
       "   A  B  C\n",
       "0  1  6  3\n",
       "1  2  5  4\n",
       "3  4  3  2"
      ]
     },
     "execution_count": 60,
     "metadata": {},
     "output_type": "execute_result"
    }
   ],
   "source": [
    "temp.loc[[True, True, False, True],:]"
   ]
  },
  {
   "cell_type": "code",
   "execution_count": 62,
   "metadata": {
    "tags": []
   },
   "outputs": [
    {
     "data": {
      "text/html": [
       "<div>\n",
       "<style scoped>\n",
       "    .dataframe tbody tr th:only-of-type {\n",
       "        vertical-align: middle;\n",
       "    }\n",
       "\n",
       "    .dataframe tbody tr th {\n",
       "        vertical-align: top;\n",
       "    }\n",
       "\n",
       "    .dataframe thead th {\n",
       "        text-align: right;\n",
       "    }\n",
       "</style>\n",
       "<table border=\"1\" class=\"dataframe\">\n",
       "  <thead>\n",
       "    <tr style=\"text-align: right;\">\n",
       "      <th></th>\n",
       "      <th>A</th>\n",
       "      <th>B</th>\n",
       "      <th>C</th>\n",
       "    </tr>\n",
       "  </thead>\n",
       "  <tbody>\n",
       "    <tr>\n",
       "      <th>1</th>\n",
       "      <td>2</td>\n",
       "      <td>5</td>\n",
       "      <td>4</td>\n",
       "    </tr>\n",
       "    <tr>\n",
       "      <th>3</th>\n",
       "      <td>4</td>\n",
       "      <td>3</td>\n",
       "      <td>2</td>\n",
       "    </tr>\n",
       "  </tbody>\n",
       "</table>\n",
       "</div>"
      ],
      "text/plain": [
       "   A  B  C\n",
       "1  2  5  4\n",
       "3  4  3  2"
      ]
     },
     "execution_count": 62,
     "metadata": {},
     "output_type": "execute_result"
    }
   ],
   "source": [
    "temp[[False, True, False, True]]"
   ]
  },
  {
   "cell_type": "code",
   "execution_count": 58,
   "metadata": {
    "tags": []
   },
   "outputs": [
    {
     "name": "stdout",
     "output_type": "stream",
     "text": [
      "<class 'pandas.core.frame.DataFrame'>\n",
      "RangeIndex: 1000 entries, 0 to 999\n",
      "Data columns (total 5 columns):\n",
      " #   Column      Non-Null Count  Dtype   \n",
      "---  ------      --------------  -----   \n",
      " 0   title       1000 non-null   object  \n",
      " 1   category    1000 non-null   category\n",
      " 2   subscriber  1000 non-null   int64   \n",
      " 3   view        1000 non-null   int64   \n",
      " 4   video       1000 non-null   int32   \n",
      "dtypes: category(1), int32(1), int64(2), object(1)\n",
      "memory usage: 113.6 KB\n"
     ]
    }
   ],
   "source": [
    "df.info(memory_usage='deep')"
   ]
  },
  {
   "cell_type": "code",
   "execution_count": 59,
   "metadata": {
    "id": "-STU4mJdRuXh",
    "tags": []
   },
   "outputs": [
    {
     "data": {
      "text/html": [
       "<div>\n",
       "<style scoped>\n",
       "    .dataframe tbody tr th:only-of-type {\n",
       "        vertical-align: middle;\n",
       "    }\n",
       "\n",
       "    .dataframe tbody tr th {\n",
       "        vertical-align: top;\n",
       "    }\n",
       "\n",
       "    .dataframe thead th {\n",
       "        text-align: right;\n",
       "    }\n",
       "</style>\n",
       "<table border=\"1\" class=\"dataframe\">\n",
       "  <thead>\n",
       "    <tr style=\"text-align: right;\">\n",
       "      <th></th>\n",
       "      <th>title</th>\n",
       "      <th>category</th>\n",
       "      <th>subscriber</th>\n",
       "      <th>view</th>\n",
       "      <th>video</th>\n",
       "    </tr>\n",
       "  </thead>\n",
       "  <tbody>\n",
       "    <tr>\n",
       "      <th>0</th>\n",
       "      <td>BLACKPINK</td>\n",
       "      <td>음악/댄스/가수</td>\n",
       "      <td>51400000</td>\n",
       "      <td>12851300000</td>\n",
       "      <td>319</td>\n",
       "    </tr>\n",
       "    <tr>\n",
       "      <th>1</th>\n",
       "      <td>Big Hit Labels</td>\n",
       "      <td>음악/댄스/가수</td>\n",
       "      <td>45500000</td>\n",
       "      <td>12089660000</td>\n",
       "      <td>433</td>\n",
       "    </tr>\n",
       "    <tr>\n",
       "      <th>2</th>\n",
       "      <td>BANGTANTV</td>\n",
       "      <td>음악/댄스/가수</td>\n",
       "      <td>38700000</td>\n",
       "      <td>5475980000</td>\n",
       "      <td>1319</td>\n",
       "    </tr>\n",
       "    <tr>\n",
       "      <th>4</th>\n",
       "      <td>SMTOWN</td>\n",
       "      <td>음악/댄스/가수</td>\n",
       "      <td>24500000</td>\n",
       "      <td>18075320000</td>\n",
       "      <td>3583</td>\n",
       "    </tr>\n",
       "    <tr>\n",
       "      <th>5</th>\n",
       "      <td>1MILLION Dance Studio</td>\n",
       "      <td>음악/댄스/가수</td>\n",
       "      <td>22300000</td>\n",
       "      <td>5753580000</td>\n",
       "      <td>2205</td>\n",
       "    </tr>\n",
       "  </tbody>\n",
       "</table>\n",
       "</div>"
      ],
      "text/plain": [
       "                   title  category  subscriber         view  video\n",
       "0              BLACKPINK  음악/댄스/가수    51400000  12851300000    319\n",
       "1         Big Hit Labels  음악/댄스/가수    45500000  12089660000    433\n",
       "2              BANGTANTV  음악/댄스/가수    38700000   5475980000   1319\n",
       "4                 SMTOWN  음악/댄스/가수    24500000  18075320000   3583\n",
       "5  1MILLION Dance Studio  음악/댄스/가수    22300000   5753580000   2205"
      ]
     },
     "execution_count": 59,
     "metadata": {},
     "output_type": "execute_result"
    }
   ],
   "source": [
    "# [1-36] 'category'가 '음악/댄스/가수'인 채널의 subscriber TOP5를 알아봅니다.\n",
    "df.loc[(df['category'] == '음악/댄스/가수'),:].sort_values('subscriber', ascending=False).head()"
   ]
  },
  {
   "cell_type": "code",
   "execution_count": 63,
   "metadata": {
    "id": "IGzbHG9nRqWE",
    "tags": []
   },
   "outputs": [
    {
     "data": {
      "text/html": [
       "<div>\n",
       "<style scoped>\n",
       "    .dataframe tbody tr th:only-of-type {\n",
       "        vertical-align: middle;\n",
       "    }\n",
       "\n",
       "    .dataframe tbody tr th {\n",
       "        vertical-align: top;\n",
       "    }\n",
       "\n",
       "    .dataframe thead th {\n",
       "        text-align: right;\n",
       "    }\n",
       "</style>\n",
       "<table border=\"1\" class=\"dataframe\">\n",
       "  <thead>\n",
       "    <tr style=\"text-align: right;\">\n",
       "      <th></th>\n",
       "      <th>title</th>\n",
       "      <th>category</th>\n",
       "      <th>subscriber</th>\n",
       "      <th>view</th>\n",
       "      <th>video</th>\n",
       "    </tr>\n",
       "  </thead>\n",
       "  <tbody>\n",
       "    <tr>\n",
       "      <th>12</th>\n",
       "      <td>KBS World</td>\n",
       "      <td>TV/방송</td>\n",
       "      <td>14300000</td>\n",
       "      <td>10158060000</td>\n",
       "      <td>46830</td>\n",
       "    </tr>\n",
       "    <tr>\n",
       "      <th>22</th>\n",
       "      <td>MBCkpop</td>\n",
       "      <td>TV/방송</td>\n",
       "      <td>8670000</td>\n",
       "      <td>6339380000</td>\n",
       "      <td>38695</td>\n",
       "    </tr>\n",
       "    <tr>\n",
       "      <th>76</th>\n",
       "      <td>KBS Entertain</td>\n",
       "      <td>TV/방송</td>\n",
       "      <td>3930000</td>\n",
       "      <td>5340910000</td>\n",
       "      <td>91783</td>\n",
       "    </tr>\n",
       "    <tr>\n",
       "      <th>57</th>\n",
       "      <td>SBS Entertainment</td>\n",
       "      <td>TV/방송</td>\n",
       "      <td>4490000</td>\n",
       "      <td>4516190000</td>\n",
       "      <td>210810</td>\n",
       "    </tr>\n",
       "    <tr>\n",
       "      <th>77</th>\n",
       "      <td>MBCdrama</td>\n",
       "      <td>TV/방송</td>\n",
       "      <td>3920000</td>\n",
       "      <td>4350540000</td>\n",
       "      <td>51543</td>\n",
       "    </tr>\n",
       "  </tbody>\n",
       "</table>\n",
       "</div>"
      ],
      "text/plain": [
       "                title category  subscriber         view   video\n",
       "12          KBS World    TV/방송    14300000  10158060000   46830\n",
       "22            MBCkpop    TV/방송     8670000   6339380000   38695\n",
       "76      KBS Entertain    TV/방송     3930000   5340910000   91783\n",
       "57  SBS Entertainment    TV/방송     4490000   4516190000  210810\n",
       "77           MBCdrama    TV/방송     3920000   4350540000   51543"
      ]
     },
     "execution_count": 63,
     "metadata": {},
     "output_type": "execute_result"
    }
   ],
   "source": [
    "# [1-37] 'category'가 'TV/방송'인 채널의 view TOP5를 알아봅니다.\n",
    "df.loc[df['category']=='TV/방송',:].sort_values('view', ascending=False).head()"
   ]
  },
  {
   "cell_type": "code",
   "execution_count": 64,
   "metadata": {
    "id": "yR-VAomzRqK5",
    "tags": []
   },
   "outputs": [
    {
     "data": {
      "text/html": [
       "<div>\n",
       "<style scoped>\n",
       "    .dataframe tbody tr th:only-of-type {\n",
       "        vertical-align: middle;\n",
       "    }\n",
       "\n",
       "    .dataframe tbody tr th {\n",
       "        vertical-align: top;\n",
       "    }\n",
       "\n",
       "    .dataframe thead th {\n",
       "        text-align: right;\n",
       "    }\n",
       "</style>\n",
       "<table border=\"1\" class=\"dataframe\">\n",
       "  <thead>\n",
       "    <tr style=\"text-align: right;\">\n",
       "      <th></th>\n",
       "      <th>title</th>\n",
       "      <th>category</th>\n",
       "      <th>subscriber</th>\n",
       "      <th>view</th>\n",
       "      <th>video</th>\n",
       "    </tr>\n",
       "  </thead>\n",
       "  <tbody>\n",
       "    <tr>\n",
       "      <th>0</th>\n",
       "      <td>BLACKPINK</td>\n",
       "      <td>음악/댄스/가수</td>\n",
       "      <td>51400000</td>\n",
       "      <td>12851300000</td>\n",
       "      <td>319</td>\n",
       "    </tr>\n",
       "    <tr>\n",
       "      <th>1</th>\n",
       "      <td>Big Hit Labels</td>\n",
       "      <td>음악/댄스/가수</td>\n",
       "      <td>45500000</td>\n",
       "      <td>12089660000</td>\n",
       "      <td>433</td>\n",
       "    </tr>\n",
       "    <tr>\n",
       "      <th>2</th>\n",
       "      <td>BANGTANTV</td>\n",
       "      <td>음악/댄스/가수</td>\n",
       "      <td>38700000</td>\n",
       "      <td>5475980000</td>\n",
       "      <td>1319</td>\n",
       "    </tr>\n",
       "  </tbody>\n",
       "</table>\n",
       "</div>"
      ],
      "text/plain": [
       "            title  category  subscriber         view  video\n",
       "0       BLACKPINK  음악/댄스/가수    51400000  12851300000    319\n",
       "1  Big Hit Labels  음악/댄스/가수    45500000  12089660000    433\n",
       "2       BANGTANTV  음악/댄스/가수    38700000   5475980000   1319"
      ]
     },
     "execution_count": 64,
     "metadata": {},
     "output_type": "execute_result"
    }
   ],
   "source": [
    "# [1-38] 'subscriber'가 30000000 (3천만) 이상인 채널을 알아봅니다.\n",
    "df.loc[df['subscriber'] >= 30000000, :]"
   ]
  },
  {
   "cell_type": "code",
   "execution_count": 67,
   "metadata": {
    "id": "Oen9jpuQrf2b",
    "tags": []
   },
   "outputs": [
    {
     "data": {
      "text/html": [
       "<div>\n",
       "<style scoped>\n",
       "    .dataframe tbody tr th:only-of-type {\n",
       "        vertical-align: middle;\n",
       "    }\n",
       "\n",
       "    .dataframe tbody tr th {\n",
       "        vertical-align: top;\n",
       "    }\n",
       "\n",
       "    .dataframe thead th {\n",
       "        text-align: right;\n",
       "    }\n",
       "</style>\n",
       "<table border=\"1\" class=\"dataframe\">\n",
       "  <thead>\n",
       "    <tr style=\"text-align: right;\">\n",
       "      <th></th>\n",
       "      <th>title</th>\n",
       "      <th>category</th>\n",
       "      <th>subscriber</th>\n",
       "      <th>view</th>\n",
       "      <th>video</th>\n",
       "    </tr>\n",
       "  </thead>\n",
       "  <tbody>\n",
       "    <tr>\n",
       "      <th>409</th>\n",
       "      <td>TBS 시민의방송</td>\n",
       "      <td>뉴스/정치/사회</td>\n",
       "      <td>930000</td>\n",
       "      <td>582330000</td>\n",
       "      <td>30431</td>\n",
       "    </tr>\n",
       "  </tbody>\n",
       "</table>\n",
       "</div>"
      ],
      "text/plain": [
       "         title  category  subscriber       view  video\n",
       "409  TBS 시민의방송  뉴스/정치/사회      930000  582330000  30431"
      ]
     },
     "execution_count": 67,
     "metadata": {},
     "output_type": "execute_result"
    }
   ],
   "source": [
    "# [1-39] 'video' 개수가 30000 이상 35000 이하인 채널을 알아봅니다.\n",
    "df.loc[(30000 <= df['video']) & (df['video'] <= 35000), :]"
   ]
  },
  {
   "cell_type": "code",
   "execution_count": 69,
   "metadata": {
    "id": "B2nFSNaArh2k",
    "tags": []
   },
   "outputs": [
    {
     "data": {
      "text/html": [
       "<div>\n",
       "<style scoped>\n",
       "    .dataframe tbody tr th:only-of-type {\n",
       "        vertical-align: middle;\n",
       "    }\n",
       "\n",
       "    .dataframe tbody tr th {\n",
       "        vertical-align: top;\n",
       "    }\n",
       "\n",
       "    .dataframe thead th {\n",
       "        text-align: right;\n",
       "    }\n",
       "</style>\n",
       "<table border=\"1\" class=\"dataframe\">\n",
       "  <thead>\n",
       "    <tr style=\"text-align: right;\">\n",
       "      <th></th>\n",
       "      <th>title</th>\n",
       "      <th>category</th>\n",
       "      <th>subscriber</th>\n",
       "      <th>view</th>\n",
       "      <th>video</th>\n",
       "    </tr>\n",
       "  </thead>\n",
       "  <tbody>\n",
       "    <tr>\n",
       "      <th>0</th>\n",
       "      <td>BLACKPINK</td>\n",
       "      <td>음악/댄스/가수</td>\n",
       "      <td>51400000</td>\n",
       "      <td>12851300000</td>\n",
       "      <td>319</td>\n",
       "    </tr>\n",
       "    <tr>\n",
       "      <th>1</th>\n",
       "      <td>Big Hit Labels</td>\n",
       "      <td>음악/댄스/가수</td>\n",
       "      <td>45500000</td>\n",
       "      <td>12089660000</td>\n",
       "      <td>433</td>\n",
       "    </tr>\n",
       "    <tr>\n",
       "      <th>2</th>\n",
       "      <td>BANGTANTV</td>\n",
       "      <td>음악/댄스/가수</td>\n",
       "      <td>38700000</td>\n",
       "      <td>5475980000</td>\n",
       "      <td>1319</td>\n",
       "    </tr>\n",
       "    <tr>\n",
       "      <th>17</th>\n",
       "      <td>CNN</td>\n",
       "      <td>뉴스/정치/사회</td>\n",
       "      <td>10900000</td>\n",
       "      <td>7899750000</td>\n",
       "      <td>149530</td>\n",
       "    </tr>\n",
       "    <tr>\n",
       "      <th>27</th>\n",
       "      <td>MBCentertainment</td>\n",
       "      <td>뉴스/정치/사회</td>\n",
       "      <td>7710000</td>\n",
       "      <td>11683060000</td>\n",
       "      <td>79567</td>\n",
       "    </tr>\n",
       "    <tr>\n",
       "      <th>38</th>\n",
       "      <td>JTBC Entertainment</td>\n",
       "      <td>뉴스/정치/사회</td>\n",
       "      <td>6020000</td>\n",
       "      <td>7638370000</td>\n",
       "      <td>58938</td>\n",
       "    </tr>\n",
       "    <tr>\n",
       "      <th>57</th>\n",
       "      <td>SBS Entertainment</td>\n",
       "      <td>TV/방송</td>\n",
       "      <td>4490000</td>\n",
       "      <td>4516190000</td>\n",
       "      <td>210810</td>\n",
       "    </tr>\n",
       "    <tr>\n",
       "      <th>60</th>\n",
       "      <td>SBS Drama</td>\n",
       "      <td>TV/방송</td>\n",
       "      <td>4360000</td>\n",
       "      <td>4260860000</td>\n",
       "      <td>339029</td>\n",
       "    </tr>\n",
       "    <tr>\n",
       "      <th>76</th>\n",
       "      <td>KBS Entertain</td>\n",
       "      <td>TV/방송</td>\n",
       "      <td>3930000</td>\n",
       "      <td>5340910000</td>\n",
       "      <td>91783</td>\n",
       "    </tr>\n",
       "    <tr>\n",
       "      <th>77</th>\n",
       "      <td>MBCdrama</td>\n",
       "      <td>TV/방송</td>\n",
       "      <td>3920000</td>\n",
       "      <td>4350540000</td>\n",
       "      <td>51543</td>\n",
       "    </tr>\n",
       "    <tr>\n",
       "      <th>101</th>\n",
       "      <td>KBS Drama</td>\n",
       "      <td>TV/방송</td>\n",
       "      <td>3040000</td>\n",
       "      <td>3538510000</td>\n",
       "      <td>105922</td>\n",
       "    </tr>\n",
       "    <tr>\n",
       "      <th>119</th>\n",
       "      <td>tvN</td>\n",
       "      <td>TV/방송</td>\n",
       "      <td>2680000</td>\n",
       "      <td>3307570000</td>\n",
       "      <td>52141</td>\n",
       "    </tr>\n",
       "    <tr>\n",
       "      <th>168</th>\n",
       "      <td>TV CHOSUN</td>\n",
       "      <td>뉴스/정치/사회</td>\n",
       "      <td>1990000</td>\n",
       "      <td>3255290000</td>\n",
       "      <td>53632</td>\n",
       "    </tr>\n",
       "    <tr>\n",
       "      <th>169</th>\n",
       "      <td>YTN news</td>\n",
       "      <td>뉴스/정치/사회</td>\n",
       "      <td>1970000</td>\n",
       "      <td>3801710000</td>\n",
       "      <td>492791</td>\n",
       "    </tr>\n",
       "    <tr>\n",
       "      <th>176</th>\n",
       "      <td>런닝맨 - 스브스 공식 채널</td>\n",
       "      <td>TV/방송</td>\n",
       "      <td>1880000</td>\n",
       "      <td>2116410000</td>\n",
       "      <td>52730</td>\n",
       "    </tr>\n",
       "    <tr>\n",
       "      <th>248</th>\n",
       "      <td>JTBC News</td>\n",
       "      <td>뉴스/정치/사회</td>\n",
       "      <td>1400000</td>\n",
       "      <td>1573740000</td>\n",
       "      <td>91379</td>\n",
       "    </tr>\n",
       "    <tr>\n",
       "      <th>366</th>\n",
       "      <td>SBS 뉴스</td>\n",
       "      <td>뉴스/정치/사회</td>\n",
       "      <td>1010000</td>\n",
       "      <td>1458080000</td>\n",
       "      <td>87768</td>\n",
       "    </tr>\n",
       "    <tr>\n",
       "      <th>373</th>\n",
       "      <td>SBS STORY</td>\n",
       "      <td>뉴스/정치/사회</td>\n",
       "      <td>990000</td>\n",
       "      <td>1254640000</td>\n",
       "      <td>75985</td>\n",
       "    </tr>\n",
       "    <tr>\n",
       "      <th>389</th>\n",
       "      <td>KBS News</td>\n",
       "      <td>뉴스/정치/사회</td>\n",
       "      <td>960000</td>\n",
       "      <td>1017410000</td>\n",
       "      <td>145515</td>\n",
       "    </tr>\n",
       "    <tr>\n",
       "      <th>402</th>\n",
       "      <td>채널A 뉴스</td>\n",
       "      <td>뉴스/정치/사회</td>\n",
       "      <td>940000</td>\n",
       "      <td>1039130000</td>\n",
       "      <td>52662</td>\n",
       "    </tr>\n",
       "    <tr>\n",
       "      <th>431</th>\n",
       "      <td>MBCNEWS</td>\n",
       "      <td>뉴스/정치/사회</td>\n",
       "      <td>890000</td>\n",
       "      <td>1388710000</td>\n",
       "      <td>87228</td>\n",
       "    </tr>\n",
       "    <tr>\n",
       "      <th>502</th>\n",
       "      <td>뉴스TVCHOSUN</td>\n",
       "      <td>뉴스/정치/사회</td>\n",
       "      <td>770000</td>\n",
       "      <td>623510000</td>\n",
       "      <td>57729</td>\n",
       "    </tr>\n",
       "    <tr>\n",
       "      <th>701</th>\n",
       "      <td>MBN News</td>\n",
       "      <td>뉴스/정치/사회</td>\n",
       "      <td>570000</td>\n",
       "      <td>623580000</td>\n",
       "      <td>72397</td>\n",
       "    </tr>\n",
       "    <tr>\n",
       "      <th>737</th>\n",
       "      <td>연합뉴스TV</td>\n",
       "      <td>뉴스/정치/사회</td>\n",
       "      <td>550000</td>\n",
       "      <td>697650000</td>\n",
       "      <td>311370</td>\n",
       "    </tr>\n",
       "    <tr>\n",
       "      <th>988</th>\n",
       "      <td>ARIRANG NEWS</td>\n",
       "      <td>뉴스/정치/사회</td>\n",
       "      <td>400000</td>\n",
       "      <td>190750000</td>\n",
       "      <td>114494</td>\n",
       "    </tr>\n",
       "    <tr>\n",
       "      <th>992</th>\n",
       "      <td>KBS 교양</td>\n",
       "      <td>뉴스/정치/사회</td>\n",
       "      <td>400000</td>\n",
       "      <td>297960000</td>\n",
       "      <td>64694</td>\n",
       "    </tr>\n",
       "  </tbody>\n",
       "</table>\n",
       "</div>"
      ],
      "text/plain": [
       "                  title  category  subscriber         view   video\n",
       "0             BLACKPINK  음악/댄스/가수    51400000  12851300000     319\n",
       "1        Big Hit Labels  음악/댄스/가수    45500000  12089660000     433\n",
       "2             BANGTANTV  음악/댄스/가수    38700000   5475980000    1319\n",
       "17                  CNN  뉴스/정치/사회    10900000   7899750000  149530\n",
       "27     MBCentertainment  뉴스/정치/사회     7710000  11683060000   79567\n",
       "38   JTBC Entertainment  뉴스/정치/사회     6020000   7638370000   58938\n",
       "57    SBS Entertainment     TV/방송     4490000   4516190000  210810\n",
       "60            SBS Drama     TV/방송     4360000   4260860000  339029\n",
       "76        KBS Entertain     TV/방송     3930000   5340910000   91783\n",
       "77             MBCdrama     TV/방송     3920000   4350540000   51543\n",
       "101           KBS Drama     TV/방송     3040000   3538510000  105922\n",
       "119                 tvN     TV/방송     2680000   3307570000   52141\n",
       "168           TV CHOSUN  뉴스/정치/사회     1990000   3255290000   53632\n",
       "169            YTN news  뉴스/정치/사회     1970000   3801710000  492791\n",
       "176     런닝맨 - 스브스 공식 채널     TV/방송     1880000   2116410000   52730\n",
       "248           JTBC News  뉴스/정치/사회     1400000   1573740000   91379\n",
       "366              SBS 뉴스  뉴스/정치/사회     1010000   1458080000   87768\n",
       "373           SBS STORY  뉴스/정치/사회      990000   1254640000   75985\n",
       "389            KBS News  뉴스/정치/사회      960000   1017410000  145515\n",
       "402              채널A 뉴스  뉴스/정치/사회      940000   1039130000   52662\n",
       "431             MBCNEWS  뉴스/정치/사회      890000   1388710000   87228\n",
       "502          뉴스TVCHOSUN  뉴스/정치/사회      770000    623510000   57729\n",
       "701            MBN News  뉴스/정치/사회      570000    623580000   72397\n",
       "737              연합뉴스TV  뉴스/정치/사회      550000    697650000  311370\n",
       "988        ARIRANG NEWS  뉴스/정치/사회      400000    190750000  114494\n",
       "992              KBS 교양  뉴스/정치/사회      400000    297960000   64694"
      ]
     },
     "execution_count": 69,
     "metadata": {},
     "output_type": "execute_result"
    }
   ],
   "source": [
    "# [1-40] 'subscriber'가 30000000 (3천만)이상 이거나, \n",
    "#        'video' 개수가 50000 이상인 채널을 알아봅니다.\n",
    "df.loc[(df['subscriber'] >= 30000000) | (df['video'] >= 50000),:]"
   ]
  },
  {
   "cell_type": "markdown",
   "metadata": {
    "id": "IvvdZ7zGalcA"
   },
   "source": [
    "Series의 value가 목록에 포함된 내용인지 확인\n",
    "- Series.isin([내용1, 내용2, ...]) : Series에 포함된 내용이 목록에 있는 경우 True, 없으면 False인 Boolean Series 반환 (Boolean indexing에 사용)"
   ]
  },
  {
   "cell_type": "code",
   "execution_count": 70,
   "metadata": {
    "id": "bVUyewbGY8Xh",
    "tags": []
   },
   "outputs": [
    {
     "data": {
      "text/plain": [
       "category\n",
       "음악/댄스/가수     175\n",
       "TV/방송        161\n",
       "게임           101\n",
       "키즈/어린이        95\n",
       "음식/요리/레시피     88\n",
       "BJ/인물/연예인     68\n",
       "패션/미용         57\n",
       "뉴스/정치/사회      56\n",
       "미분류           40\n",
       "취미/라이프        40\n",
       "영화/만화/애니      33\n",
       "교육/강의         23\n",
       "애완/반려동물       20\n",
       "스포츠/운동        12\n",
       "IT/기술/컴퓨터      8\n",
       "해외             6\n",
       "주식/경제/부동산      5\n",
       "국내/해외/여행       5\n",
       "회사/오피셜         4\n",
       "자동차            2\n",
       "취미             1\n",
       "Name: count, dtype: int64"
      ]
     },
     "execution_count": 70,
     "metadata": {},
     "output_type": "execute_result"
    }
   ],
   "source": [
    "# [1-41] 'category'의 값 별 개수를 확인합니다.\n",
    "df['category'].value_counts()"
   ]
  },
  {
   "cell_type": "code",
   "execution_count": 71,
   "metadata": {
    "id": "OnCcwhrqa2mw",
    "tags": []
   },
   "outputs": [
    {
     "data": {
      "text/plain": [
       "category\n",
       "False    738\n",
       "True     262\n",
       "Name: count, dtype: int64"
      ]
     },
     "execution_count": 71,
     "metadata": {},
     "output_type": "execute_result"
    }
   ],
   "source": [
    "# [1-42] 'category'가 'TV/방송' 이거나 '게임'인 채널의 개수를 확인합니value_counts)\n",
    "df['category'].isin(['TV/방송', '게임']).value_counts()"
   ]
  },
  {
   "cell_type": "code",
   "execution_count": 73,
   "metadata": {
    "tags": []
   },
   "outputs": [
    {
     "data": {
      "text/plain": [
       "262"
      ]
     },
     "execution_count": 73,
     "metadata": {},
     "output_type": "execute_result"
    }
   ],
   "source": [
    "df['category'].isin(['TV/방송', '게임']).sum()"
   ]
  },
  {
   "cell_type": "code",
   "execution_count": 72,
   "metadata": {
    "id": "ANY-XUA2aXG6",
    "tags": []
   },
   "outputs": [
    {
     "data": {
      "text/html": [
       "<div>\n",
       "<style scoped>\n",
       "    .dataframe tbody tr th:only-of-type {\n",
       "        vertical-align: middle;\n",
       "    }\n",
       "\n",
       "    .dataframe tbody tr th {\n",
       "        vertical-align: top;\n",
       "    }\n",
       "\n",
       "    .dataframe thead th {\n",
       "        text-align: right;\n",
       "    }\n",
       "</style>\n",
       "<table border=\"1\" class=\"dataframe\">\n",
       "  <thead>\n",
       "    <tr style=\"text-align: right;\">\n",
       "      <th></th>\n",
       "      <th>title</th>\n",
       "      <th>category</th>\n",
       "      <th>subscriber</th>\n",
       "      <th>view</th>\n",
       "      <th>video</th>\n",
       "    </tr>\n",
       "  </thead>\n",
       "  <tbody>\n",
       "    <tr>\n",
       "      <th>0</th>\n",
       "      <td>BLACKPINK</td>\n",
       "      <td>음악/댄스/가수</td>\n",
       "      <td>51400000</td>\n",
       "      <td>12851300000</td>\n",
       "      <td>319</td>\n",
       "    </tr>\n",
       "    <tr>\n",
       "      <th>1</th>\n",
       "      <td>Big Hit Labels</td>\n",
       "      <td>음악/댄스/가수</td>\n",
       "      <td>45500000</td>\n",
       "      <td>12089660000</td>\n",
       "      <td>433</td>\n",
       "    </tr>\n",
       "    <tr>\n",
       "      <th>2</th>\n",
       "      <td>BANGTANTV</td>\n",
       "      <td>음악/댄스/가수</td>\n",
       "      <td>38700000</td>\n",
       "      <td>5475980000</td>\n",
       "      <td>1319</td>\n",
       "    </tr>\n",
       "    <tr>\n",
       "      <th>4</th>\n",
       "      <td>SMTOWN</td>\n",
       "      <td>음악/댄스/가수</td>\n",
       "      <td>24500000</td>\n",
       "      <td>18075320000</td>\n",
       "      <td>3583</td>\n",
       "    </tr>\n",
       "    <tr>\n",
       "      <th>5</th>\n",
       "      <td>1MILLION Dance Studio</td>\n",
       "      <td>음악/댄스/가수</td>\n",
       "      <td>22300000</td>\n",
       "      <td>5753580000</td>\n",
       "      <td>2205</td>\n",
       "    </tr>\n",
       "  </tbody>\n",
       "</table>\n",
       "</div>"
      ],
      "text/plain": [
       "                   title  category  subscriber         view  video\n",
       "0              BLACKPINK  음악/댄스/가수    51400000  12851300000    319\n",
       "1         Big Hit Labels  음악/댄스/가수    45500000  12089660000    433\n",
       "2              BANGTANTV  음악/댄스/가수    38700000   5475980000   1319\n",
       "4                 SMTOWN  음악/댄스/가수    24500000  18075320000   3583\n",
       "5  1MILLION Dance Studio  음악/댄스/가수    22300000   5753580000   2205"
      ]
     },
     "execution_count": 72,
     "metadata": {},
     "output_type": "execute_result"
    }
   ],
   "source": [
    "# [1-43] 'category'가 '음악/댄스/가수'인 채널의 subscriber TOP5를 알아봅니다. (isin 활용)\n",
    "df.loc[df['category'].isin(['음악/댄스/가수']),:].sort_values('subscriber',ascending=False).head()"
   ]
  },
  {
   "cell_type": "markdown",
   "metadata": {
    "id": "hozfcAKpXPjw"
   },
   "source": [
    "Series의 str Accessor 사용\n",
    "- str.contains('문자열') : 특정 문자열을 포함하는지 아닌지를 True/False로 반환 (Boolean Indexing 조건으로 사용 가능)\n",
    "- str.upper() : 영문자 소문자를 대문자로 변경\n",
    "- str.lower() : 영문자 대문자를 소문자로 변경\n",
    "- 세부 내용 : https://pandas.pydata.org/docs/reference/series.html#string-handling\n",
    "\n",
    "Series의 데이터를 list 및 ndarray로 반환\n",
    "- Series.to_list() : Series의 values를 list로 반환\n",
    "- Series.to_numpy() : Series의 values를 ndarray로 반환 (Series.values 와 동일)\n"
   ]
  },
  {
   "cell_type": "code",
   "execution_count": 75,
   "metadata": {
    "colab": {
     "base_uri": "https://localhost:8080/"
    },
    "id": "t9SUUrDySW8O",
    "outputId": "3e3815b4-e180-4dd9-8479-fda94591e534",
    "tags": []
   },
   "outputs": [
    {
     "data": {
      "text/plain": [
       "['KBS World',\n",
       " 'KBS Kpop',\n",
       " 'KBS Entertain',\n",
       " 'KBS Drama',\n",
       " 'KBS 한국방송',\n",
       " 'KBS Drama Classic',\n",
       " 'KBS HUMAN: 뭉클티비',\n",
       " 'KBS News',\n",
       " 'KBS CoolFM',\n",
       " 'KBS N',\n",
       " 'KBS KONG',\n",
       " 'KBS Documentary [KBS 다큐]',\n",
       " 'KBS 교양']"
      ]
     },
     "execution_count": 75,
     "metadata": {},
     "output_type": "execute_result"
    }
   ],
   "source": [
    "# [1-44] title에 'KBS'가 포함된 채널 명 목록을 만들어 봅니다.\n",
    "df.loc[df['title'].str.contains('KBS'),'title'].to_list()"
   ]
  },
  {
   "cell_type": "code",
   "execution_count": 78,
   "metadata": {
    "id": "NgZ6ZgUOXJ7K",
    "tags": []
   },
   "outputs": [
    {
     "data": {
      "text/plain": [
       "array(['KBS World', 'KBS Kpop', 'KBS Entertain', 'KBS Drama', 'KBS 한국방송',\n",
       "       'KBS Drama Classic', 'KBS HUMAN: 뭉클티비', 'KBS News', 'KBS CoolFM',\n",
       "       'KBS N', 'KBS KONG', 'KBS Documentary [KBS 다큐]', 'KBS 교양'],\n",
       "      dtype=object)"
      ]
     },
     "execution_count": 78,
     "metadata": {},
     "output_type": "execute_result"
    }
   ],
   "source": [
    "# 대소문자 구분 없이 검색 하려면?\n",
    "df.loc[df['title'].str.upper().str.contains('KBS'),'title'].to_numpy()"
   ]
  },
  {
   "cell_type": "markdown",
   "metadata": {
    "id": "EJaMIomFLeFN"
   },
   "source": [
    "### 3-5.통계값 알아보기\n",
    "- DataFrame.describe() : 숫자형 데이터타입을 갖는 컬럼에 대해 count, mean, std, min, max, Q1, Q2, Q3 등의 통계값 구하기\n",
    "- Series.count() : 개수\n",
    "- Series.sum() : 합계\n",
    "- Series.mean() : 평균\n",
    "- Series.std() : 표준편차\n",
    "- Series.var() : 분산\n",
    "- Series.median() : 중앙값\n",
    "- Series.mode() : 최빈값\n",
    "- Series.quantile([0.5, 0.75]) : 분위수"
   ]
  },
  {
   "cell_type": "code",
   "execution_count": 79,
   "metadata": {
    "colab": {
     "base_uri": "https://localhost:8080/",
     "height": 112
    },
    "id": "O7KXxd1OjZ4q",
    "outputId": "7893741c-57a2-4975-8f21-df326e16cb6a",
    "tags": []
   },
   "outputs": [
    {
     "data": {
      "text/html": [
       "<div>\n",
       "<style scoped>\n",
       "    .dataframe tbody tr th:only-of-type {\n",
       "        vertical-align: middle;\n",
       "    }\n",
       "\n",
       "    .dataframe tbody tr th {\n",
       "        vertical-align: top;\n",
       "    }\n",
       "\n",
       "    .dataframe thead th {\n",
       "        text-align: right;\n",
       "    }\n",
       "</style>\n",
       "<table border=\"1\" class=\"dataframe\">\n",
       "  <thead>\n",
       "    <tr style=\"text-align: right;\">\n",
       "      <th></th>\n",
       "      <th>title</th>\n",
       "      <th>category</th>\n",
       "      <th>subscriber</th>\n",
       "      <th>view</th>\n",
       "      <th>video</th>\n",
       "    </tr>\n",
       "  </thead>\n",
       "  <tbody>\n",
       "    <tr>\n",
       "      <th>0</th>\n",
       "      <td>BLACKPINK</td>\n",
       "      <td>음악/댄스/가수</td>\n",
       "      <td>51400000</td>\n",
       "      <td>12851300000</td>\n",
       "      <td>319</td>\n",
       "    </tr>\n",
       "    <tr>\n",
       "      <th>1</th>\n",
       "      <td>Big Hit Labels</td>\n",
       "      <td>음악/댄스/가수</td>\n",
       "      <td>45500000</td>\n",
       "      <td>12089660000</td>\n",
       "      <td>433</td>\n",
       "    </tr>\n",
       "  </tbody>\n",
       "</table>\n",
       "</div>"
      ],
      "text/plain": [
       "            title  category  subscriber         view  video\n",
       "0       BLACKPINK  음악/댄스/가수    51400000  12851300000    319\n",
       "1  Big Hit Labels  음악/댄스/가수    45500000  12089660000    433"
      ]
     },
     "execution_count": 79,
     "metadata": {},
     "output_type": "execute_result"
    }
   ],
   "source": [
    "import pandas as pd\n",
    "df = pd.read_excel('data_01/youtube_rank.xlsx', engine='openpyxl')\n",
    "df['subscriber'] = df['subscriber'].replace('만', '0000', regex=True).astype('int64')\n",
    "df['view'] = df['view'].replace({'억':'', '만':'0000'}, regex=True).astype('int64')\n",
    "df['video'] = df['video'].replace(['개', '\\,'], '', regex=True).astype('int32')\n",
    "df['category'] = df['category'].str[1:-1].astype('category')\n",
    "df.head(2)"
   ]
  },
  {
   "cell_type": "code",
   "execution_count": 86,
   "metadata": {
    "id": "lWrm16dmg0nV",
    "tags": []
   },
   "outputs": [],
   "source": [
    "# 소수점 아래 2째자리까지 표시되도록 설정하기\n",
    "pd.options.display.float_format = '{:,.2f}'.format"
   ]
  },
  {
   "cell_type": "code",
   "execution_count": 85,
   "metadata": {
    "tags": []
   },
   "outputs": [
    {
     "name": "stdout",
     "output_type": "stream",
     "text": [
      "<built-in method format of str object at 0x000002AC9ADCF870>\n"
     ]
    }
   ],
   "source": [
    "print('{:,.2f}'.format)"
   ]
  },
  {
   "cell_type": "code",
   "execution_count": 87,
   "metadata": {
    "id": "JBE1Rez2PfUO",
    "tags": []
   },
   "outputs": [
    {
     "data": {
      "text/html": [
       "<div>\n",
       "<style scoped>\n",
       "    .dataframe tbody tr th:only-of-type {\n",
       "        vertical-align: middle;\n",
       "    }\n",
       "\n",
       "    .dataframe tbody tr th {\n",
       "        vertical-align: top;\n",
       "    }\n",
       "\n",
       "    .dataframe thead th {\n",
       "        text-align: right;\n",
       "    }\n",
       "</style>\n",
       "<table border=\"1\" class=\"dataframe\">\n",
       "  <thead>\n",
       "    <tr style=\"text-align: right;\">\n",
       "      <th></th>\n",
       "      <th>subscriber</th>\n",
       "      <th>view</th>\n",
       "      <th>video</th>\n",
       "    </tr>\n",
       "  </thead>\n",
       "  <tbody>\n",
       "    <tr>\n",
       "      <th>count</th>\n",
       "      <td>1,000.00</td>\n",
       "      <td>1,000.00</td>\n",
       "      <td>1,000.00</td>\n",
       "    </tr>\n",
       "    <tr>\n",
       "      <th>mean</th>\n",
       "      <td>1,645,040.00</td>\n",
       "      <td>672,294,140.00</td>\n",
       "      <td>4,766.68</td>\n",
       "    </tr>\n",
       "    <tr>\n",
       "      <th>std</th>\n",
       "      <td>3,422,951.74</td>\n",
       "      <td>1,588,075,704.63</td>\n",
       "      <td>25,424.80</td>\n",
       "    </tr>\n",
       "    <tr>\n",
       "      <th>min</th>\n",
       "      <td>400,000.00</td>\n",
       "      <td>0.00</td>\n",
       "      <td>0.00</td>\n",
       "    </tr>\n",
       "    <tr>\n",
       "      <th>25%</th>\n",
       "      <td>540,000.00</td>\n",
       "      <td>109,560,000.00</td>\n",
       "      <td>222.00</td>\n",
       "    </tr>\n",
       "    <tr>\n",
       "      <th>50%</th>\n",
       "      <td>780,000.00</td>\n",
       "      <td>242,365,000.00</td>\n",
       "      <td>506.00</td>\n",
       "    </tr>\n",
       "    <tr>\n",
       "      <th>75%</th>\n",
       "      <td>1,392,500.00</td>\n",
       "      <td>535,182,500.00</td>\n",
       "      <td>1,491.50</td>\n",
       "    </tr>\n",
       "    <tr>\n",
       "      <th>max</th>\n",
       "      <td>51,400,000.00</td>\n",
       "      <td>18,075,320,000.00</td>\n",
       "      <td>492,791.00</td>\n",
       "    </tr>\n",
       "  </tbody>\n",
       "</table>\n",
       "</div>"
      ],
      "text/plain": [
       "         subscriber              view      video\n",
       "count      1,000.00          1,000.00   1,000.00\n",
       "mean   1,645,040.00    672,294,140.00   4,766.68\n",
       "std    3,422,951.74  1,588,075,704.63  25,424.80\n",
       "min      400,000.00              0.00       0.00\n",
       "25%      540,000.00    109,560,000.00     222.00\n",
       "50%      780,000.00    242,365,000.00     506.00\n",
       "75%    1,392,500.00    535,182,500.00   1,491.50\n",
       "max   51,400,000.00 18,075,320,000.00 492,791.00"
      ]
     },
     "execution_count": 87,
     "metadata": {},
     "output_type": "execute_result"
    }
   ],
   "source": [
    "# [1-45] subscriber, view, video에 대한 통계값을 알아봅니다. (describe 사용)\n",
    "df[['subscriber', 'view', 'video']].describe()"
   ]
  },
  {
   "cell_type": "code",
   "execution_count": 88,
   "metadata": {
    "tags": []
   },
   "outputs": [
    {
     "data": {
      "text/html": [
       "<div>\n",
       "<style scoped>\n",
       "    .dataframe tbody tr th:only-of-type {\n",
       "        vertical-align: middle;\n",
       "    }\n",
       "\n",
       "    .dataframe tbody tr th {\n",
       "        vertical-align: top;\n",
       "    }\n",
       "\n",
       "    .dataframe thead th {\n",
       "        text-align: right;\n",
       "    }\n",
       "</style>\n",
       "<table border=\"1\" class=\"dataframe\">\n",
       "  <thead>\n",
       "    <tr style=\"text-align: right;\">\n",
       "      <th></th>\n",
       "      <th>subscriber</th>\n",
       "      <th>view</th>\n",
       "      <th>video</th>\n",
       "    </tr>\n",
       "  </thead>\n",
       "  <tbody>\n",
       "    <tr>\n",
       "      <th>count</th>\n",
       "      <td>1,000.00</td>\n",
       "      <td>1,000.00</td>\n",
       "      <td>1,000.00</td>\n",
       "    </tr>\n",
       "    <tr>\n",
       "      <th>mean</th>\n",
       "      <td>1,645,040.00</td>\n",
       "      <td>672,294,140.00</td>\n",
       "      <td>4,766.68</td>\n",
       "    </tr>\n",
       "    <tr>\n",
       "      <th>std</th>\n",
       "      <td>3,422,951.74</td>\n",
       "      <td>1,588,075,704.63</td>\n",
       "      <td>25,424.80</td>\n",
       "    </tr>\n",
       "    <tr>\n",
       "      <th>min</th>\n",
       "      <td>400,000.00</td>\n",
       "      <td>0.00</td>\n",
       "      <td>0.00</td>\n",
       "    </tr>\n",
       "    <tr>\n",
       "      <th>25%</th>\n",
       "      <td>540,000.00</td>\n",
       "      <td>109,560,000.00</td>\n",
       "      <td>222.00</td>\n",
       "    </tr>\n",
       "    <tr>\n",
       "      <th>50%</th>\n",
       "      <td>780,000.00</td>\n",
       "      <td>242,365,000.00</td>\n",
       "      <td>506.00</td>\n",
       "    </tr>\n",
       "    <tr>\n",
       "      <th>75%</th>\n",
       "      <td>1,392,500.00</td>\n",
       "      <td>535,182,500.00</td>\n",
       "      <td>1,491.50</td>\n",
       "    </tr>\n",
       "    <tr>\n",
       "      <th>max</th>\n",
       "      <td>51,400,000.00</td>\n",
       "      <td>18,075,320,000.00</td>\n",
       "      <td>492,791.00</td>\n",
       "    </tr>\n",
       "  </tbody>\n",
       "</table>\n",
       "</div>"
      ],
      "text/plain": [
       "         subscriber              view      video\n",
       "count      1,000.00          1,000.00   1,000.00\n",
       "mean   1,645,040.00    672,294,140.00   4,766.68\n",
       "std    3,422,951.74  1,588,075,704.63  25,424.80\n",
       "min      400,000.00              0.00       0.00\n",
       "25%      540,000.00    109,560,000.00     222.00\n",
       "50%      780,000.00    242,365,000.00     506.00\n",
       "75%    1,392,500.00    535,182,500.00   1,491.50\n",
       "max   51,400,000.00 18,075,320,000.00 492,791.00"
      ]
     },
     "execution_count": 88,
     "metadata": {},
     "output_type": "execute_result"
    }
   ],
   "source": [
    "df.describe()"
   ]
  },
  {
   "cell_type": "code",
   "execution_count": 89,
   "metadata": {
    "id": "-2aUAyYQLWg9",
    "tags": []
   },
   "outputs": [
    {
     "data": {
      "text/plain": [
       "1000"
      ]
     },
     "execution_count": 89,
     "metadata": {},
     "output_type": "execute_result"
    }
   ],
   "source": [
    "# [1-46] 'video' 컬럼의 데이터 개수를 구합니다\n",
    "df['video'].count()"
   ]
  },
  {
   "cell_type": "code",
   "execution_count": 90,
   "metadata": {
    "id": "UigZe-65Udf2",
    "tags": []
   },
   "outputs": [
    {
     "data": {
      "text/plain": [
       "4766680"
      ]
     },
     "execution_count": 90,
     "metadata": {},
     "output_type": "execute_result"
    }
   ],
   "source": [
    "# [1-47] 'video' 컬럼의 합계를 구합니다.\n",
    "df['video'].sum()"
   ]
  },
  {
   "cell_type": "code",
   "execution_count": 91,
   "metadata": {
    "id": "66Rr5f5bT7Wg",
    "tags": []
   },
   "outputs": [
    {
     "data": {
      "text/plain": [
       "(4766.68, 506.0)"
      ]
     },
     "execution_count": 91,
     "metadata": {},
     "output_type": "execute_result"
    }
   ],
   "source": [
    "# [1-48] 'video' 컬럼의 평균, 중앙값을 구합니다.\n",
    "df['video'].mean(), df['video'].median()"
   ]
  },
  {
   "cell_type": "code",
   "execution_count": 92,
   "metadata": {
    "id": "zBsOekitUBRP",
    "tags": []
   },
   "outputs": [
    {
     "data": {
      "text/plain": [
       "(646420552.9165165, 25424.801924823652)"
      ]
     },
     "execution_count": 92,
     "metadata": {},
     "output_type": "execute_result"
    }
   ],
   "source": [
    "# [1-49] 'video'의 분산과 표준편차를 구합니다.\n",
    "df['video'].var(), df['video'].std()"
   ]
  },
  {
   "cell_type": "code",
   "execution_count": 93,
   "metadata": {
    "id": "MJDPljrGUk-H",
    "tags": []
   },
   "outputs": [
    {
     "data": {
      "text/plain": [
       "(51400000, 400000)"
      ]
     },
     "execution_count": 93,
     "metadata": {},
     "output_type": "execute_result"
    }
   ],
   "source": [
    "# [1-50] 'subscriber'의 최대, 최소값을 구합니다.\n",
    "df['subscriber'].max(), df['subscriber'].min()"
   ]
  },
  {
   "cell_type": "code",
   "execution_count": 97,
   "metadata": {
    "id": "xGRBOXIPXddN",
    "tags": []
   },
   "outputs": [
    {
     "data": {
      "text/plain": [
       "0    440000\n",
       "Name: subscriber, dtype: int64"
      ]
     },
     "execution_count": 97,
     "metadata": {},
     "output_type": "execute_result"
    }
   ],
   "source": [
    "# [1-51] 'subscriber'의 최빈값을 구합니다. => Series\n",
    "df['subscriber'].mode()"
   ]
  },
  {
   "cell_type": "code",
   "execution_count": 100,
   "metadata": {
    "tags": []
   },
   "outputs": [
    {
     "data": {
      "text/plain": [
       "440000"
      ]
     },
     "execution_count": 100,
     "metadata": {},
     "output_type": "execute_result"
    }
   ],
   "source": [
    "df['subscriber'].mode()[0]"
   ]
  },
  {
   "cell_type": "code",
   "execution_count": 95,
   "metadata": {
    "id": "hJHCTgeBUqEE",
    "tags": []
   },
   "outputs": [
    {
     "data": {
      "text/plain": [
       "0.25     540,000.00\n",
       "0.50     780,000.00\n",
       "0.75   1,392,500.00\n",
       "Name: subscriber, dtype: float64"
      ]
     },
     "execution_count": 95,
     "metadata": {},
     "output_type": "execute_result"
    }
   ],
   "source": [
    "# [1-52] 'subscriber'의 Q1, Q2, Q3(25% 50%, 75%) 를 구합니다.\n",
    "df['subscriber'].quantile([.25,0.5,0.75])"
   ]
  },
  {
   "cell_type": "code",
   "execution_count": 102,
   "metadata": {
    "tags": []
   },
   "outputs": [
    {
     "name": "stdout",
     "output_type": "stream",
     "text": [
      "540000.0 780000.0 1392500.0 852500.0\n"
     ]
    }
   ],
   "source": [
    "Q1, Q2, Q3 = df['subscriber'].quantile([.25,0.5,0.75])\n",
    "print(Q1, Q2, Q3, Q3 - Q1)"
   ]
  },
  {
   "cell_type": "markdown",
   "metadata": {
    "id": "mVtC2oNoqxgg"
   },
   "source": [
    "그룹별 통계치 구하기  \n",
    "- DataFrame.groupby(그룹명).적용할통계함수()\n",
    "    - DataFrame의 함수 적용 가quantile들에 대해 그룹별 통계치를 구함 \n",
    "    - 통계함수에는 sum, mean, std, var, min, max, count, quantile 등이 있음\n",
    "- DataFrame.groupby(그룹명)[컬럼].적용할통계함수() : Series\n",
    "- DataFrame.groupby(그룹명)[[컬럼1, 컬럼2, ...]].적용할통계함수() : DataFrame"
   ]
  },
  {
   "cell_type": "code",
   "execution_count": 103,
   "metadata": {
    "id": "d8x92wgueNTj",
    "tags": []
   },
   "outputs": [
    {
     "ename": "TypeError",
     "evalue": "Could not convert [Awesome Haeun]어썸하은영국남자 Korean Englishman워크맨-Workmanwaveya 2011허팝HeopopARTBEAT와썹맨-Wassup ManVIVA DANCE STUDIO공대생 변승주 DSJOLLY흔한남매엔조이커플enjoycouple해그린달 haegreendal보물섬더블비철구형 (CHULTUBE)사나이 김기훈International Couple[사샤와 제이]급식왕웃소 Wootso정선호NALU박막례 할머니 Korea Grandma턱형 (GOD-TUK)수상한녀석들JAYKEEOUT x VWVBLia Kim꽈뚜룹 Quaddurup성수커플 - S.S Couple섭이는못말려신세경 sjkukseeSibongtv 시봉tv소근커플 S.K.CoupleCheri Hyeri 체리 혜리ondo온도(MUTUBE)와꾸대장봉준임영웅띠미 ddimmi유준호남순 NSU.M.A.우마쿠쿠크루 - Cuckoo CrewStimBoy스팀보이SUNBA선바외질혜 (OzilTube)대륙남TV [clark tv]슛뚜sueddu케이난쟁이성현강유미 yumi kang좋아서 하는 채널엣지님깨박이예씨 yessii긱블 Geekble최홍철sojoong쏘야쭝아Korean Studio박서아TV요리왕비룡 Korean Food Cooking코코 TV느낌적인느낌채채ChaeChae도아TV풍자테레비카페노예 jun따규햅번박민정 TV상해기SangHyuk to numeric",
     "output_type": "error",
     "traceback": [
      "\u001b[1;31m---------------------------------------------------------------------------\u001b[0m",
      "\u001b[1;31mNotImplementedError\u001b[0m                       Traceback (most recent call last)",
      "File \u001b[1;32mD:\\Program Files\\Python311\\Lib\\site-packages\\pandas\\core\\groupby\\groupby.py:1490\u001b[0m, in \u001b[0;36mGroupBy._cython_agg_general.<locals>.array_func\u001b[1;34m(values)\u001b[0m\n\u001b[0;32m   1489\u001b[0m \u001b[38;5;28;01mtry\u001b[39;00m:\n\u001b[1;32m-> 1490\u001b[0m     result \u001b[38;5;241m=\u001b[39m \u001b[38;5;28;43mself\u001b[39;49m\u001b[38;5;241;43m.\u001b[39;49m\u001b[43mgrouper\u001b[49m\u001b[38;5;241;43m.\u001b[39;49m\u001b[43m_cython_operation\u001b[49m\u001b[43m(\u001b[49m\n\u001b[0;32m   1491\u001b[0m \u001b[43m        \u001b[49m\u001b[38;5;124;43m\"\u001b[39;49m\u001b[38;5;124;43maggregate\u001b[39;49m\u001b[38;5;124;43m\"\u001b[39;49m\u001b[43m,\u001b[49m\n\u001b[0;32m   1492\u001b[0m \u001b[43m        \u001b[49m\u001b[43mvalues\u001b[49m\u001b[43m,\u001b[49m\n\u001b[0;32m   1493\u001b[0m \u001b[43m        \u001b[49m\u001b[43mhow\u001b[49m\u001b[43m,\u001b[49m\n\u001b[0;32m   1494\u001b[0m \u001b[43m        \u001b[49m\u001b[43maxis\u001b[49m\u001b[38;5;241;43m=\u001b[39;49m\u001b[43mdata\u001b[49m\u001b[38;5;241;43m.\u001b[39;49m\u001b[43mndim\u001b[49m\u001b[43m \u001b[49m\u001b[38;5;241;43m-\u001b[39;49m\u001b[43m \u001b[49m\u001b[38;5;241;43m1\u001b[39;49m\u001b[43m,\u001b[49m\n\u001b[0;32m   1495\u001b[0m \u001b[43m        \u001b[49m\u001b[43mmin_count\u001b[49m\u001b[38;5;241;43m=\u001b[39;49m\u001b[43mmin_count\u001b[49m\u001b[43m,\u001b[49m\n\u001b[0;32m   1496\u001b[0m \u001b[43m        \u001b[49m\u001b[38;5;241;43m*\u001b[39;49m\u001b[38;5;241;43m*\u001b[39;49m\u001b[43mkwargs\u001b[49m\u001b[43m,\u001b[49m\n\u001b[0;32m   1497\u001b[0m \u001b[43m    \u001b[49m\u001b[43m)\u001b[49m\n\u001b[0;32m   1498\u001b[0m \u001b[38;5;28;01mexcept\u001b[39;00m \u001b[38;5;167;01mNotImplementedError\u001b[39;00m:\n\u001b[0;32m   1499\u001b[0m     \u001b[38;5;66;03m# generally if we have numeric_only=False\u001b[39;00m\n\u001b[0;32m   1500\u001b[0m     \u001b[38;5;66;03m# and non-applicable functions\u001b[39;00m\n\u001b[0;32m   1501\u001b[0m     \u001b[38;5;66;03m# try to python agg\u001b[39;00m\n\u001b[0;32m   1502\u001b[0m     \u001b[38;5;66;03m# TODO: shouldn't min_count matter?\u001b[39;00m\n",
      "File \u001b[1;32mD:\\Program Files\\Python311\\Lib\\site-packages\\pandas\\core\\groupby\\ops.py:959\u001b[0m, in \u001b[0;36mBaseGrouper._cython_operation\u001b[1;34m(self, kind, values, how, axis, min_count, **kwargs)\u001b[0m\n\u001b[0;32m    958\u001b[0m ngroups \u001b[38;5;241m=\u001b[39m \u001b[38;5;28mself\u001b[39m\u001b[38;5;241m.\u001b[39mngroups\n\u001b[1;32m--> 959\u001b[0m \u001b[38;5;28;01mreturn\u001b[39;00m \u001b[43mcy_op\u001b[49m\u001b[38;5;241;43m.\u001b[39;49m\u001b[43mcython_operation\u001b[49m\u001b[43m(\u001b[49m\n\u001b[0;32m    960\u001b[0m \u001b[43m    \u001b[49m\u001b[43mvalues\u001b[49m\u001b[38;5;241;43m=\u001b[39;49m\u001b[43mvalues\u001b[49m\u001b[43m,\u001b[49m\n\u001b[0;32m    961\u001b[0m \u001b[43m    \u001b[49m\u001b[43maxis\u001b[49m\u001b[38;5;241;43m=\u001b[39;49m\u001b[43maxis\u001b[49m\u001b[43m,\u001b[49m\n\u001b[0;32m    962\u001b[0m \u001b[43m    \u001b[49m\u001b[43mmin_count\u001b[49m\u001b[38;5;241;43m=\u001b[39;49m\u001b[43mmin_count\u001b[49m\u001b[43m,\u001b[49m\n\u001b[0;32m    963\u001b[0m \u001b[43m    \u001b[49m\u001b[43mcomp_ids\u001b[49m\u001b[38;5;241;43m=\u001b[39;49m\u001b[43mids\u001b[49m\u001b[43m,\u001b[49m\n\u001b[0;32m    964\u001b[0m \u001b[43m    \u001b[49m\u001b[43mngroups\u001b[49m\u001b[38;5;241;43m=\u001b[39;49m\u001b[43mngroups\u001b[49m\u001b[43m,\u001b[49m\n\u001b[0;32m    965\u001b[0m \u001b[43m    \u001b[49m\u001b[38;5;241;43m*\u001b[39;49m\u001b[38;5;241;43m*\u001b[39;49m\u001b[43mkwargs\u001b[49m\u001b[43m,\u001b[49m\n\u001b[0;32m    966\u001b[0m \u001b[43m\u001b[49m\u001b[43m)\u001b[49m\n",
      "File \u001b[1;32mD:\\Program Files\\Python311\\Lib\\site-packages\\pandas\\core\\groupby\\ops.py:657\u001b[0m, in \u001b[0;36mWrappedCythonOp.cython_operation\u001b[1;34m(self, values, axis, min_count, comp_ids, ngroups, **kwargs)\u001b[0m\n\u001b[0;32m    649\u001b[0m     \u001b[38;5;28;01mreturn\u001b[39;00m \u001b[38;5;28mself\u001b[39m\u001b[38;5;241m.\u001b[39m_ea_wrap_cython_operation(\n\u001b[0;32m    650\u001b[0m         values,\n\u001b[0;32m    651\u001b[0m         min_count\u001b[38;5;241m=\u001b[39mmin_count,\n\u001b[1;32m   (...)\u001b[0m\n\u001b[0;32m    654\u001b[0m         \u001b[38;5;241m*\u001b[39m\u001b[38;5;241m*\u001b[39mkwargs,\n\u001b[0;32m    655\u001b[0m     )\n\u001b[1;32m--> 657\u001b[0m \u001b[38;5;28;01mreturn\u001b[39;00m \u001b[38;5;28;43mself\u001b[39;49m\u001b[38;5;241;43m.\u001b[39;49m\u001b[43m_cython_op_ndim_compat\u001b[49m\u001b[43m(\u001b[49m\n\u001b[0;32m    658\u001b[0m \u001b[43m    \u001b[49m\u001b[43mvalues\u001b[49m\u001b[43m,\u001b[49m\n\u001b[0;32m    659\u001b[0m \u001b[43m    \u001b[49m\u001b[43mmin_count\u001b[49m\u001b[38;5;241;43m=\u001b[39;49m\u001b[43mmin_count\u001b[49m\u001b[43m,\u001b[49m\n\u001b[0;32m    660\u001b[0m \u001b[43m    \u001b[49m\u001b[43mngroups\u001b[49m\u001b[38;5;241;43m=\u001b[39;49m\u001b[43mngroups\u001b[49m\u001b[43m,\u001b[49m\n\u001b[0;32m    661\u001b[0m \u001b[43m    \u001b[49m\u001b[43mcomp_ids\u001b[49m\u001b[38;5;241;43m=\u001b[39;49m\u001b[43mcomp_ids\u001b[49m\u001b[43m,\u001b[49m\n\u001b[0;32m    662\u001b[0m \u001b[43m    \u001b[49m\u001b[43mmask\u001b[49m\u001b[38;5;241;43m=\u001b[39;49m\u001b[38;5;28;43;01mNone\u001b[39;49;00m\u001b[43m,\u001b[49m\n\u001b[0;32m    663\u001b[0m \u001b[43m    \u001b[49m\u001b[38;5;241;43m*\u001b[39;49m\u001b[38;5;241;43m*\u001b[39;49m\u001b[43mkwargs\u001b[49m\u001b[43m,\u001b[49m\n\u001b[0;32m    664\u001b[0m \u001b[43m\u001b[49m\u001b[43m)\u001b[49m\n",
      "File \u001b[1;32mD:\\Program Files\\Python311\\Lib\\site-packages\\pandas\\core\\groupby\\ops.py:497\u001b[0m, in \u001b[0;36mWrappedCythonOp._cython_op_ndim_compat\u001b[1;34m(self, values, min_count, ngroups, comp_ids, mask, result_mask, **kwargs)\u001b[0m\n\u001b[0;32m    495\u001b[0m     \u001b[38;5;28;01mreturn\u001b[39;00m res\u001b[38;5;241m.\u001b[39mT\n\u001b[1;32m--> 497\u001b[0m \u001b[38;5;28;01mreturn\u001b[39;00m \u001b[38;5;28;43mself\u001b[39;49m\u001b[38;5;241;43m.\u001b[39;49m\u001b[43m_call_cython_op\u001b[49m\u001b[43m(\u001b[49m\n\u001b[0;32m    498\u001b[0m \u001b[43m    \u001b[49m\u001b[43mvalues\u001b[49m\u001b[43m,\u001b[49m\n\u001b[0;32m    499\u001b[0m \u001b[43m    \u001b[49m\u001b[43mmin_count\u001b[49m\u001b[38;5;241;43m=\u001b[39;49m\u001b[43mmin_count\u001b[49m\u001b[43m,\u001b[49m\n\u001b[0;32m    500\u001b[0m \u001b[43m    \u001b[49m\u001b[43mngroups\u001b[49m\u001b[38;5;241;43m=\u001b[39;49m\u001b[43mngroups\u001b[49m\u001b[43m,\u001b[49m\n\u001b[0;32m    501\u001b[0m \u001b[43m    \u001b[49m\u001b[43mcomp_ids\u001b[49m\u001b[38;5;241;43m=\u001b[39;49m\u001b[43mcomp_ids\u001b[49m\u001b[43m,\u001b[49m\n\u001b[0;32m    502\u001b[0m \u001b[43m    \u001b[49m\u001b[43mmask\u001b[49m\u001b[38;5;241;43m=\u001b[39;49m\u001b[43mmask\u001b[49m\u001b[43m,\u001b[49m\n\u001b[0;32m    503\u001b[0m \u001b[43m    \u001b[49m\u001b[43mresult_mask\u001b[49m\u001b[38;5;241;43m=\u001b[39;49m\u001b[43mresult_mask\u001b[49m\u001b[43m,\u001b[49m\n\u001b[0;32m    504\u001b[0m \u001b[43m    \u001b[49m\u001b[38;5;241;43m*\u001b[39;49m\u001b[38;5;241;43m*\u001b[39;49m\u001b[43mkwargs\u001b[49m\u001b[43m,\u001b[49m\n\u001b[0;32m    505\u001b[0m \u001b[43m\u001b[49m\u001b[43m)\u001b[49m\n",
      "File \u001b[1;32mD:\\Program Files\\Python311\\Lib\\site-packages\\pandas\\core\\groupby\\ops.py:541\u001b[0m, in \u001b[0;36mWrappedCythonOp._call_cython_op\u001b[1;34m(self, values, min_count, ngroups, comp_ids, mask, result_mask, **kwargs)\u001b[0m\n\u001b[0;32m    540\u001b[0m out_shape \u001b[38;5;241m=\u001b[39m \u001b[38;5;28mself\u001b[39m\u001b[38;5;241m.\u001b[39m_get_output_shape(ngroups, values)\n\u001b[1;32m--> 541\u001b[0m func \u001b[38;5;241m=\u001b[39m \u001b[38;5;28;43mself\u001b[39;49m\u001b[38;5;241;43m.\u001b[39;49m\u001b[43m_get_cython_function\u001b[49m\u001b[43m(\u001b[49m\u001b[38;5;28;43mself\u001b[39;49m\u001b[38;5;241;43m.\u001b[39;49m\u001b[43mkind\u001b[49m\u001b[43m,\u001b[49m\u001b[43m \u001b[49m\u001b[38;5;28;43mself\u001b[39;49m\u001b[38;5;241;43m.\u001b[39;49m\u001b[43mhow\u001b[49m\u001b[43m,\u001b[49m\u001b[43m \u001b[49m\u001b[43mvalues\u001b[49m\u001b[38;5;241;43m.\u001b[39;49m\u001b[43mdtype\u001b[49m\u001b[43m,\u001b[49m\u001b[43m \u001b[49m\u001b[43mis_numeric\u001b[49m\u001b[43m)\u001b[49m\n\u001b[0;32m    542\u001b[0m values \u001b[38;5;241m=\u001b[39m \u001b[38;5;28mself\u001b[39m\u001b[38;5;241m.\u001b[39m_get_cython_vals(values)\n",
      "File \u001b[1;32mD:\\Program Files\\Python311\\Lib\\site-packages\\pandas\\core\\groupby\\ops.py:173\u001b[0m, in \u001b[0;36mWrappedCythonOp._get_cython_function\u001b[1;34m(cls, kind, how, dtype, is_numeric)\u001b[0m\n\u001b[0;32m    171\u001b[0m \u001b[38;5;28;01mif\u001b[39;00m \u001b[38;5;124m\"\u001b[39m\u001b[38;5;124mobject\u001b[39m\u001b[38;5;124m\"\u001b[39m \u001b[38;5;129;01mnot\u001b[39;00m \u001b[38;5;129;01min\u001b[39;00m f\u001b[38;5;241m.\u001b[39m__signatures__:\n\u001b[0;32m    172\u001b[0m     \u001b[38;5;66;03m# raise NotImplementedError here rather than TypeError later\u001b[39;00m\n\u001b[1;32m--> 173\u001b[0m     \u001b[38;5;28;01mraise\u001b[39;00m \u001b[38;5;167;01mNotImplementedError\u001b[39;00m(\n\u001b[0;32m    174\u001b[0m         \u001b[38;5;124mf\u001b[39m\u001b[38;5;124m\"\u001b[39m\u001b[38;5;124mfunction is not implemented for this dtype: \u001b[39m\u001b[38;5;124m\"\u001b[39m\n\u001b[0;32m    175\u001b[0m         \u001b[38;5;124mf\u001b[39m\u001b[38;5;124m\"\u001b[39m\u001b[38;5;124m[how->\u001b[39m\u001b[38;5;132;01m{\u001b[39;00mhow\u001b[38;5;132;01m}\u001b[39;00m\u001b[38;5;124m,dtype->\u001b[39m\u001b[38;5;132;01m{\u001b[39;00mdtype_str\u001b[38;5;132;01m}\u001b[39;00m\u001b[38;5;124m]\u001b[39m\u001b[38;5;124m\"\u001b[39m\n\u001b[0;32m    176\u001b[0m     )\n\u001b[0;32m    177\u001b[0m \u001b[38;5;28;01mreturn\u001b[39;00m f\n",
      "\u001b[1;31mNotImplementedError\u001b[0m: function is not implemented for this dtype: [how->mean,dtype->object]",
      "\nDuring handling of the above exception, another exception occurred:\n",
      "\u001b[1;31mValueError\u001b[0m                                Traceback (most recent call last)",
      "File \u001b[1;32mD:\\Program Files\\Python311\\Lib\\site-packages\\pandas\\core\\nanops.py:1692\u001b[0m, in \u001b[0;36m_ensure_numeric\u001b[1;34m(x)\u001b[0m\n\u001b[0;32m   1691\u001b[0m \u001b[38;5;28;01mtry\u001b[39;00m:\n\u001b[1;32m-> 1692\u001b[0m     x \u001b[38;5;241m=\u001b[39m \u001b[38;5;28mfloat\u001b[39m(x)\n\u001b[0;32m   1693\u001b[0m \u001b[38;5;28;01mexcept\u001b[39;00m (\u001b[38;5;167;01mTypeError\u001b[39;00m, \u001b[38;5;167;01mValueError\u001b[39;00m):\n\u001b[0;32m   1694\u001b[0m     \u001b[38;5;66;03m# e.g. \"1+1j\" or \"foo\"\u001b[39;00m\n",
      "\u001b[1;31mValueError\u001b[0m: could not convert string to float: '[Awesome Haeun]어썸하은영국남자 Korean Englishman워크맨-Workmanwaveya 2011허팝HeopopARTBEAT와썹맨-Wassup ManVIVA DANCE STUDIO공대생 변승주 DSJOLLY흔한남매엔조이커플enjoycouple해그린달 haegreendal보물섬더블비철구형 (CHULTUBE)사나이 김기훈International Couple[사샤와 제이]급식왕웃소 Wootso정선호NALU박막례 할머니 Korea Grandma턱형 (GOD-TUK)수상한녀석들JAYKEEOUT x VWVBLia Kim꽈뚜룹 Quaddurup성수커플 - S.S Couple섭이는못말려신세경 sjkukseeSibongtv 시봉tv소근커플 S.K.CoupleCheri Hyeri 체리 혜리ondo온도(MUTUBE)와꾸대장봉준임영웅띠미 ddimmi유준호남순 NSU.M.A.우마쿠쿠크루 - Cuckoo CrewStimBoy스팀보이SUNBA선바외질혜 (OzilTube)대륙남TV [clark tv]슛뚜sueddu케이난쟁이성현강유미 yumi kang좋아서 하는 채널엣지님깨박이예씨 yessii긱블 Geekble최홍철sojoong쏘야쭝아Korean Studio박서아TV요리왕비룡 Korean Food Cooking코코 TV느낌적인느낌채채ChaeChae도아TV풍자테레비카페노예 jun따규햅번박민정 TV상해기SangHyuk'",
      "\nDuring handling of the above exception, another exception occurred:\n",
      "\u001b[1;31mValueError\u001b[0m                                Traceback (most recent call last)",
      "File \u001b[1;32mD:\\Program Files\\Python311\\Lib\\site-packages\\pandas\\core\\nanops.py:1696\u001b[0m, in \u001b[0;36m_ensure_numeric\u001b[1;34m(x)\u001b[0m\n\u001b[0;32m   1695\u001b[0m \u001b[38;5;28;01mtry\u001b[39;00m:\n\u001b[1;32m-> 1696\u001b[0m     x \u001b[38;5;241m=\u001b[39m \u001b[38;5;28;43mcomplex\u001b[39;49m\u001b[43m(\u001b[49m\u001b[43mx\u001b[49m\u001b[43m)\u001b[49m\n\u001b[0;32m   1697\u001b[0m \u001b[38;5;28;01mexcept\u001b[39;00m \u001b[38;5;167;01mValueError\u001b[39;00m \u001b[38;5;28;01mas\u001b[39;00m err:\n\u001b[0;32m   1698\u001b[0m     \u001b[38;5;66;03m# e.g. \"foo\"\u001b[39;00m\n",
      "\u001b[1;31mValueError\u001b[0m: complex() arg is a malformed string",
      "\nThe above exception was the direct cause of the following exception:\n",
      "\u001b[1;31mTypeError\u001b[0m                                 Traceback (most recent call last)",
      "Cell \u001b[1;32mIn[103], line 2\u001b[0m\n\u001b[0;32m      1\u001b[0m \u001b[38;5;66;03m# [1-53] category 별 평균을 구할 수 있는 모든 컬럼에 대한 평균을 구합니다.\u001b[39;00m\n\u001b[1;32m----> 2\u001b[0m \u001b[43mdf\u001b[49m\u001b[38;5;241;43m.\u001b[39;49m\u001b[43mgroupby\u001b[49m\u001b[43m(\u001b[49m\u001b[38;5;124;43m'\u001b[39;49m\u001b[38;5;124;43mcategory\u001b[39;49m\u001b[38;5;124;43m'\u001b[39;49m\u001b[43m)\u001b[49m\u001b[38;5;241;43m.\u001b[39;49m\u001b[43mmean\u001b[49m\u001b[43m(\u001b[49m\u001b[43m)\u001b[49m\n",
      "File \u001b[1;32mD:\\Program Files\\Python311\\Lib\\site-packages\\pandas\\core\\groupby\\groupby.py:1855\u001b[0m, in \u001b[0;36mGroupBy.mean\u001b[1;34m(self, numeric_only, engine, engine_kwargs)\u001b[0m\n\u001b[0;32m   1853\u001b[0m     \u001b[38;5;28;01mreturn\u001b[39;00m \u001b[38;5;28mself\u001b[39m\u001b[38;5;241m.\u001b[39m_numba_agg_general(sliding_mean, engine_kwargs)\n\u001b[0;32m   1854\u001b[0m \u001b[38;5;28;01melse\u001b[39;00m:\n\u001b[1;32m-> 1855\u001b[0m     result \u001b[38;5;241m=\u001b[39m \u001b[38;5;28;43mself\u001b[39;49m\u001b[38;5;241;43m.\u001b[39;49m\u001b[43m_cython_agg_general\u001b[49m\u001b[43m(\u001b[49m\n\u001b[0;32m   1856\u001b[0m \u001b[43m        \u001b[49m\u001b[38;5;124;43m\"\u001b[39;49m\u001b[38;5;124;43mmean\u001b[39;49m\u001b[38;5;124;43m\"\u001b[39;49m\u001b[43m,\u001b[49m\n\u001b[0;32m   1857\u001b[0m \u001b[43m        \u001b[49m\u001b[43malt\u001b[49m\u001b[38;5;241;43m=\u001b[39;49m\u001b[38;5;28;43;01mlambda\u001b[39;49;00m\u001b[43m \u001b[49m\u001b[43mx\u001b[49m\u001b[43m:\u001b[49m\u001b[43m \u001b[49m\u001b[43mSeries\u001b[49m\u001b[43m(\u001b[49m\u001b[43mx\u001b[49m\u001b[43m)\u001b[49m\u001b[38;5;241;43m.\u001b[39;49m\u001b[43mmean\u001b[49m\u001b[43m(\u001b[49m\u001b[43mnumeric_only\u001b[49m\u001b[38;5;241;43m=\u001b[39;49m\u001b[43mnumeric_only\u001b[49m\u001b[43m)\u001b[49m\u001b[43m,\u001b[49m\n\u001b[0;32m   1858\u001b[0m \u001b[43m        \u001b[49m\u001b[43mnumeric_only\u001b[49m\u001b[38;5;241;43m=\u001b[39;49m\u001b[43mnumeric_only\u001b[49m\u001b[43m,\u001b[49m\n\u001b[0;32m   1859\u001b[0m \u001b[43m    \u001b[49m\u001b[43m)\u001b[49m\n\u001b[0;32m   1860\u001b[0m     \u001b[38;5;28;01mreturn\u001b[39;00m result\u001b[38;5;241m.\u001b[39m__finalize__(\u001b[38;5;28mself\u001b[39m\u001b[38;5;241m.\u001b[39mobj, method\u001b[38;5;241m=\u001b[39m\u001b[38;5;124m\"\u001b[39m\u001b[38;5;124mgroupby\u001b[39m\u001b[38;5;124m\"\u001b[39m)\n",
      "File \u001b[1;32mD:\\Program Files\\Python311\\Lib\\site-packages\\pandas\\core\\groupby\\groupby.py:1507\u001b[0m, in \u001b[0;36mGroupBy._cython_agg_general\u001b[1;34m(self, how, alt, numeric_only, min_count, **kwargs)\u001b[0m\n\u001b[0;32m   1503\u001b[0m         result \u001b[38;5;241m=\u001b[39m \u001b[38;5;28mself\u001b[39m\u001b[38;5;241m.\u001b[39m_agg_py_fallback(values, ndim\u001b[38;5;241m=\u001b[39mdata\u001b[38;5;241m.\u001b[39mndim, alt\u001b[38;5;241m=\u001b[39malt)\n\u001b[0;32m   1505\u001b[0m     \u001b[38;5;28;01mreturn\u001b[39;00m result\n\u001b[1;32m-> 1507\u001b[0m new_mgr \u001b[38;5;241m=\u001b[39m \u001b[43mdata\u001b[49m\u001b[38;5;241;43m.\u001b[39;49m\u001b[43mgrouped_reduce\u001b[49m\u001b[43m(\u001b[49m\u001b[43marray_func\u001b[49m\u001b[43m)\u001b[49m\n\u001b[0;32m   1508\u001b[0m res \u001b[38;5;241m=\u001b[39m \u001b[38;5;28mself\u001b[39m\u001b[38;5;241m.\u001b[39m_wrap_agged_manager(new_mgr)\n\u001b[0;32m   1509\u001b[0m out \u001b[38;5;241m=\u001b[39m \u001b[38;5;28mself\u001b[39m\u001b[38;5;241m.\u001b[39m_wrap_aggregated_output(res)\n",
      "File \u001b[1;32mD:\\Program Files\\Python311\\Lib\\site-packages\\pandas\\core\\internals\\managers.py:1503\u001b[0m, in \u001b[0;36mBlockManager.grouped_reduce\u001b[1;34m(self, func)\u001b[0m\n\u001b[0;32m   1499\u001b[0m \u001b[38;5;28;01mif\u001b[39;00m blk\u001b[38;5;241m.\u001b[39mis_object:\n\u001b[0;32m   1500\u001b[0m     \u001b[38;5;66;03m# split on object-dtype blocks bc some columns may raise\u001b[39;00m\n\u001b[0;32m   1501\u001b[0m     \u001b[38;5;66;03m#  while others do not.\u001b[39;00m\n\u001b[0;32m   1502\u001b[0m     \u001b[38;5;28;01mfor\u001b[39;00m sb \u001b[38;5;129;01min\u001b[39;00m blk\u001b[38;5;241m.\u001b[39m_split():\n\u001b[1;32m-> 1503\u001b[0m         applied \u001b[38;5;241m=\u001b[39m \u001b[43msb\u001b[49m\u001b[38;5;241;43m.\u001b[39;49m\u001b[43mapply\u001b[49m\u001b[43m(\u001b[49m\u001b[43mfunc\u001b[49m\u001b[43m)\u001b[49m\n\u001b[0;32m   1504\u001b[0m         result_blocks \u001b[38;5;241m=\u001b[39m extend_blocks(applied, result_blocks)\n\u001b[0;32m   1505\u001b[0m \u001b[38;5;28;01melse\u001b[39;00m:\n",
      "File \u001b[1;32mD:\\Program Files\\Python311\\Lib\\site-packages\\pandas\\core\\internals\\blocks.py:329\u001b[0m, in \u001b[0;36mBlock.apply\u001b[1;34m(self, func, **kwargs)\u001b[0m\n\u001b[0;32m    323\u001b[0m \u001b[38;5;129m@final\u001b[39m\n\u001b[0;32m    324\u001b[0m \u001b[38;5;28;01mdef\u001b[39;00m \u001b[38;5;21mapply\u001b[39m(\u001b[38;5;28mself\u001b[39m, func, \u001b[38;5;241m*\u001b[39m\u001b[38;5;241m*\u001b[39mkwargs) \u001b[38;5;241m-\u001b[39m\u001b[38;5;241m>\u001b[39m \u001b[38;5;28mlist\u001b[39m[Block]:\n\u001b[0;32m    325\u001b[0m \u001b[38;5;250m    \u001b[39m\u001b[38;5;124;03m\"\"\"\u001b[39;00m\n\u001b[0;32m    326\u001b[0m \u001b[38;5;124;03m    apply the function to my values; return a block if we are not\u001b[39;00m\n\u001b[0;32m    327\u001b[0m \u001b[38;5;124;03m    one\u001b[39;00m\n\u001b[0;32m    328\u001b[0m \u001b[38;5;124;03m    \"\"\"\u001b[39;00m\n\u001b[1;32m--> 329\u001b[0m     result \u001b[38;5;241m=\u001b[39m \u001b[43mfunc\u001b[49m\u001b[43m(\u001b[49m\u001b[38;5;28;43mself\u001b[39;49m\u001b[38;5;241;43m.\u001b[39;49m\u001b[43mvalues\u001b[49m\u001b[43m,\u001b[49m\u001b[43m \u001b[49m\u001b[38;5;241;43m*\u001b[39;49m\u001b[38;5;241;43m*\u001b[39;49m\u001b[43mkwargs\u001b[49m\u001b[43m)\u001b[49m\n\u001b[0;32m    331\u001b[0m     \u001b[38;5;28;01mreturn\u001b[39;00m \u001b[38;5;28mself\u001b[39m\u001b[38;5;241m.\u001b[39m_split_op_result(result)\n",
      "File \u001b[1;32mD:\\Program Files\\Python311\\Lib\\site-packages\\pandas\\core\\groupby\\groupby.py:1503\u001b[0m, in \u001b[0;36mGroupBy._cython_agg_general.<locals>.array_func\u001b[1;34m(values)\u001b[0m\n\u001b[0;32m   1490\u001b[0m     result \u001b[38;5;241m=\u001b[39m \u001b[38;5;28mself\u001b[39m\u001b[38;5;241m.\u001b[39mgrouper\u001b[38;5;241m.\u001b[39m_cython_operation(\n\u001b[0;32m   1491\u001b[0m         \u001b[38;5;124m\"\u001b[39m\u001b[38;5;124maggregate\u001b[39m\u001b[38;5;124m\"\u001b[39m,\n\u001b[0;32m   1492\u001b[0m         values,\n\u001b[1;32m   (...)\u001b[0m\n\u001b[0;32m   1496\u001b[0m         \u001b[38;5;241m*\u001b[39m\u001b[38;5;241m*\u001b[39mkwargs,\n\u001b[0;32m   1497\u001b[0m     )\n\u001b[0;32m   1498\u001b[0m \u001b[38;5;28;01mexcept\u001b[39;00m \u001b[38;5;167;01mNotImplementedError\u001b[39;00m:\n\u001b[0;32m   1499\u001b[0m     \u001b[38;5;66;03m# generally if we have numeric_only=False\u001b[39;00m\n\u001b[0;32m   1500\u001b[0m     \u001b[38;5;66;03m# and non-applicable functions\u001b[39;00m\n\u001b[0;32m   1501\u001b[0m     \u001b[38;5;66;03m# try to python agg\u001b[39;00m\n\u001b[0;32m   1502\u001b[0m     \u001b[38;5;66;03m# TODO: shouldn't min_count matter?\u001b[39;00m\n\u001b[1;32m-> 1503\u001b[0m     result \u001b[38;5;241m=\u001b[39m \u001b[38;5;28;43mself\u001b[39;49m\u001b[38;5;241;43m.\u001b[39;49m\u001b[43m_agg_py_fallback\u001b[49m\u001b[43m(\u001b[49m\u001b[43mvalues\u001b[49m\u001b[43m,\u001b[49m\u001b[43m \u001b[49m\u001b[43mndim\u001b[49m\u001b[38;5;241;43m=\u001b[39;49m\u001b[43mdata\u001b[49m\u001b[38;5;241;43m.\u001b[39;49m\u001b[43mndim\u001b[49m\u001b[43m,\u001b[49m\u001b[43m \u001b[49m\u001b[43malt\u001b[49m\u001b[38;5;241;43m=\u001b[39;49m\u001b[43malt\u001b[49m\u001b[43m)\u001b[49m\n\u001b[0;32m   1505\u001b[0m \u001b[38;5;28;01mreturn\u001b[39;00m result\n",
      "File \u001b[1;32mD:\\Program Files\\Python311\\Lib\\site-packages\\pandas\\core\\groupby\\groupby.py:1457\u001b[0m, in \u001b[0;36mGroupBy._agg_py_fallback\u001b[1;34m(self, values, ndim, alt)\u001b[0m\n\u001b[0;32m   1452\u001b[0m     ser \u001b[38;5;241m=\u001b[39m df\u001b[38;5;241m.\u001b[39miloc[:, \u001b[38;5;241m0\u001b[39m]\n\u001b[0;32m   1454\u001b[0m \u001b[38;5;66;03m# We do not get here with UDFs, so we know that our dtype\u001b[39;00m\n\u001b[0;32m   1455\u001b[0m \u001b[38;5;66;03m#  should always be preserved by the implemented aggregations\u001b[39;00m\n\u001b[0;32m   1456\u001b[0m \u001b[38;5;66;03m# TODO: Is this exactly right; see WrappedCythonOp get_result_dtype?\u001b[39;00m\n\u001b[1;32m-> 1457\u001b[0m res_values \u001b[38;5;241m=\u001b[39m \u001b[38;5;28;43mself\u001b[39;49m\u001b[38;5;241;43m.\u001b[39;49m\u001b[43mgrouper\u001b[49m\u001b[38;5;241;43m.\u001b[39;49m\u001b[43magg_series\u001b[49m\u001b[43m(\u001b[49m\u001b[43mser\u001b[49m\u001b[43m,\u001b[49m\u001b[43m \u001b[49m\u001b[43malt\u001b[49m\u001b[43m,\u001b[49m\u001b[43m \u001b[49m\u001b[43mpreserve_dtype\u001b[49m\u001b[38;5;241;43m=\u001b[39;49m\u001b[38;5;28;43;01mTrue\u001b[39;49;00m\u001b[43m)\u001b[49m\n\u001b[0;32m   1459\u001b[0m \u001b[38;5;28;01mif\u001b[39;00m \u001b[38;5;28misinstance\u001b[39m(values, Categorical):\n\u001b[0;32m   1460\u001b[0m     \u001b[38;5;66;03m# Because we only get here with known dtype-preserving\u001b[39;00m\n\u001b[0;32m   1461\u001b[0m     \u001b[38;5;66;03m#  reductions, we cast back to Categorical.\u001b[39;00m\n\u001b[0;32m   1462\u001b[0m     \u001b[38;5;66;03m# TODO: if we ever get \"rank\" working, exclude it here.\u001b[39;00m\n\u001b[0;32m   1463\u001b[0m     res_values \u001b[38;5;241m=\u001b[39m \u001b[38;5;28mtype\u001b[39m(values)\u001b[38;5;241m.\u001b[39m_from_sequence(res_values, dtype\u001b[38;5;241m=\u001b[39mvalues\u001b[38;5;241m.\u001b[39mdtype)\n",
      "File \u001b[1;32mD:\\Program Files\\Python311\\Lib\\site-packages\\pandas\\core\\groupby\\ops.py:994\u001b[0m, in \u001b[0;36mBaseGrouper.agg_series\u001b[1;34m(self, obj, func, preserve_dtype)\u001b[0m\n\u001b[0;32m    987\u001b[0m \u001b[38;5;28;01mif\u001b[39;00m \u001b[38;5;28mlen\u001b[39m(obj) \u001b[38;5;241m>\u001b[39m \u001b[38;5;241m0\u001b[39m \u001b[38;5;129;01mand\u001b[39;00m \u001b[38;5;129;01mnot\u001b[39;00m \u001b[38;5;28misinstance\u001b[39m(obj\u001b[38;5;241m.\u001b[39m_values, np\u001b[38;5;241m.\u001b[39mndarray):\n\u001b[0;32m    988\u001b[0m     \u001b[38;5;66;03m# we can preserve a little bit more aggressively with EA dtype\u001b[39;00m\n\u001b[0;32m    989\u001b[0m     \u001b[38;5;66;03m#  because maybe_cast_pointwise_result will do a try/except\u001b[39;00m\n\u001b[0;32m    990\u001b[0m     \u001b[38;5;66;03m#  with _from_sequence.  NB we are assuming here that _from_sequence\u001b[39;00m\n\u001b[0;32m    991\u001b[0m     \u001b[38;5;66;03m#  is sufficiently strict that it casts appropriately.\u001b[39;00m\n\u001b[0;32m    992\u001b[0m     preserve_dtype \u001b[38;5;241m=\u001b[39m \u001b[38;5;28;01mTrue\u001b[39;00m\n\u001b[1;32m--> 994\u001b[0m result \u001b[38;5;241m=\u001b[39m \u001b[38;5;28;43mself\u001b[39;49m\u001b[38;5;241;43m.\u001b[39;49m\u001b[43m_aggregate_series_pure_python\u001b[49m\u001b[43m(\u001b[49m\u001b[43mobj\u001b[49m\u001b[43m,\u001b[49m\u001b[43m \u001b[49m\u001b[43mfunc\u001b[49m\u001b[43m)\u001b[49m\n\u001b[0;32m    996\u001b[0m npvalues \u001b[38;5;241m=\u001b[39m lib\u001b[38;5;241m.\u001b[39mmaybe_convert_objects(result, try_float\u001b[38;5;241m=\u001b[39m\u001b[38;5;28;01mFalse\u001b[39;00m)\n\u001b[0;32m    997\u001b[0m \u001b[38;5;28;01mif\u001b[39;00m preserve_dtype:\n",
      "File \u001b[1;32mD:\\Program Files\\Python311\\Lib\\site-packages\\pandas\\core\\groupby\\ops.py:1015\u001b[0m, in \u001b[0;36mBaseGrouper._aggregate_series_pure_python\u001b[1;34m(self, obj, func)\u001b[0m\n\u001b[0;32m   1012\u001b[0m splitter \u001b[38;5;241m=\u001b[39m \u001b[38;5;28mself\u001b[39m\u001b[38;5;241m.\u001b[39m_get_splitter(obj, axis\u001b[38;5;241m=\u001b[39m\u001b[38;5;241m0\u001b[39m)\n\u001b[0;32m   1014\u001b[0m \u001b[38;5;28;01mfor\u001b[39;00m i, group \u001b[38;5;129;01min\u001b[39;00m \u001b[38;5;28menumerate\u001b[39m(splitter):\n\u001b[1;32m-> 1015\u001b[0m     res \u001b[38;5;241m=\u001b[39m \u001b[43mfunc\u001b[49m\u001b[43m(\u001b[49m\u001b[43mgroup\u001b[49m\u001b[43m)\u001b[49m\n\u001b[0;32m   1016\u001b[0m     res \u001b[38;5;241m=\u001b[39m libreduction\u001b[38;5;241m.\u001b[39mextract_result(res)\n\u001b[0;32m   1018\u001b[0m     \u001b[38;5;28;01mif\u001b[39;00m \u001b[38;5;129;01mnot\u001b[39;00m initialized:\n\u001b[0;32m   1019\u001b[0m         \u001b[38;5;66;03m# We only do this validation on the first iteration\u001b[39;00m\n",
      "File \u001b[1;32mD:\\Program Files\\Python311\\Lib\\site-packages\\pandas\\core\\groupby\\groupby.py:1857\u001b[0m, in \u001b[0;36mGroupBy.mean.<locals>.<lambda>\u001b[1;34m(x)\u001b[0m\n\u001b[0;32m   1853\u001b[0m     \u001b[38;5;28;01mreturn\u001b[39;00m \u001b[38;5;28mself\u001b[39m\u001b[38;5;241m.\u001b[39m_numba_agg_general(sliding_mean, engine_kwargs)\n\u001b[0;32m   1854\u001b[0m \u001b[38;5;28;01melse\u001b[39;00m:\n\u001b[0;32m   1855\u001b[0m     result \u001b[38;5;241m=\u001b[39m \u001b[38;5;28mself\u001b[39m\u001b[38;5;241m.\u001b[39m_cython_agg_general(\n\u001b[0;32m   1856\u001b[0m         \u001b[38;5;124m\"\u001b[39m\u001b[38;5;124mmean\u001b[39m\u001b[38;5;124m\"\u001b[39m,\n\u001b[1;32m-> 1857\u001b[0m         alt\u001b[38;5;241m=\u001b[39m\u001b[38;5;28;01mlambda\u001b[39;00m x: \u001b[43mSeries\u001b[49m\u001b[43m(\u001b[49m\u001b[43mx\u001b[49m\u001b[43m)\u001b[49m\u001b[38;5;241;43m.\u001b[39;49m\u001b[43mmean\u001b[49m\u001b[43m(\u001b[49m\u001b[43mnumeric_only\u001b[49m\u001b[38;5;241;43m=\u001b[39;49m\u001b[43mnumeric_only\u001b[49m\u001b[43m)\u001b[49m,\n\u001b[0;32m   1858\u001b[0m         numeric_only\u001b[38;5;241m=\u001b[39mnumeric_only,\n\u001b[0;32m   1859\u001b[0m     )\n\u001b[0;32m   1860\u001b[0m     \u001b[38;5;28;01mreturn\u001b[39;00m result\u001b[38;5;241m.\u001b[39m__finalize__(\u001b[38;5;28mself\u001b[39m\u001b[38;5;241m.\u001b[39mobj, method\u001b[38;5;241m=\u001b[39m\u001b[38;5;124m\"\u001b[39m\u001b[38;5;124mgroupby\u001b[39m\u001b[38;5;124m\"\u001b[39m)\n",
      "File \u001b[1;32mD:\\Program Files\\Python311\\Lib\\site-packages\\pandas\\core\\generic.py:11563\u001b[0m, in \u001b[0;36mNDFrame._add_numeric_operations.<locals>.mean\u001b[1;34m(self, axis, skipna, numeric_only, **kwargs)\u001b[0m\n\u001b[0;32m  11546\u001b[0m \u001b[38;5;129m@doc\u001b[39m(\n\u001b[0;32m  11547\u001b[0m     _num_doc,\n\u001b[0;32m  11548\u001b[0m     desc\u001b[38;5;241m=\u001b[39m\u001b[38;5;124m\"\u001b[39m\u001b[38;5;124mReturn the mean of the values over the requested axis.\u001b[39m\u001b[38;5;124m\"\u001b[39m,\n\u001b[1;32m   (...)\u001b[0m\n\u001b[0;32m  11561\u001b[0m     \u001b[38;5;241m*\u001b[39m\u001b[38;5;241m*\u001b[39mkwargs,\n\u001b[0;32m  11562\u001b[0m ):\n\u001b[1;32m> 11563\u001b[0m     \u001b[38;5;28;01mreturn\u001b[39;00m \u001b[43mNDFrame\u001b[49m\u001b[38;5;241;43m.\u001b[39;49m\u001b[43mmean\u001b[49m\u001b[43m(\u001b[49m\u001b[38;5;28;43mself\u001b[39;49m\u001b[43m,\u001b[49m\u001b[43m \u001b[49m\u001b[43maxis\u001b[49m\u001b[43m,\u001b[49m\u001b[43m \u001b[49m\u001b[43mskipna\u001b[49m\u001b[43m,\u001b[49m\u001b[43m \u001b[49m\u001b[43mnumeric_only\u001b[49m\u001b[43m,\u001b[49m\u001b[43m \u001b[49m\u001b[38;5;241;43m*\u001b[39;49m\u001b[38;5;241;43m*\u001b[39;49m\u001b[43mkwargs\u001b[49m\u001b[43m)\u001b[49m\n",
      "File \u001b[1;32mD:\\Program Files\\Python311\\Lib\\site-packages\\pandas\\core\\generic.py:11208\u001b[0m, in \u001b[0;36mNDFrame.mean\u001b[1;34m(self, axis, skipna, numeric_only, **kwargs)\u001b[0m\n\u001b[0;32m  11201\u001b[0m \u001b[38;5;28;01mdef\u001b[39;00m \u001b[38;5;21mmean\u001b[39m(\n\u001b[0;32m  11202\u001b[0m     \u001b[38;5;28mself\u001b[39m,\n\u001b[0;32m  11203\u001b[0m     axis: Axis \u001b[38;5;241m|\u001b[39m \u001b[38;5;28;01mNone\u001b[39;00m \u001b[38;5;241m=\u001b[39m \u001b[38;5;241m0\u001b[39m,\n\u001b[1;32m   (...)\u001b[0m\n\u001b[0;32m  11206\u001b[0m     \u001b[38;5;241m*\u001b[39m\u001b[38;5;241m*\u001b[39mkwargs,\n\u001b[0;32m  11207\u001b[0m ) \u001b[38;5;241m-\u001b[39m\u001b[38;5;241m>\u001b[39m Series \u001b[38;5;241m|\u001b[39m \u001b[38;5;28mfloat\u001b[39m:\n\u001b[1;32m> 11208\u001b[0m     \u001b[38;5;28;01mreturn\u001b[39;00m \u001b[38;5;28;43mself\u001b[39;49m\u001b[38;5;241;43m.\u001b[39;49m\u001b[43m_stat_function\u001b[49m\u001b[43m(\u001b[49m\n\u001b[0;32m  11209\u001b[0m \u001b[43m        \u001b[49m\u001b[38;5;124;43m\"\u001b[39;49m\u001b[38;5;124;43mmean\u001b[39;49m\u001b[38;5;124;43m\"\u001b[39;49m\u001b[43m,\u001b[49m\u001b[43m \u001b[49m\u001b[43mnanops\u001b[49m\u001b[38;5;241;43m.\u001b[39;49m\u001b[43mnanmean\u001b[49m\u001b[43m,\u001b[49m\u001b[43m \u001b[49m\u001b[43maxis\u001b[49m\u001b[43m,\u001b[49m\u001b[43m \u001b[49m\u001b[43mskipna\u001b[49m\u001b[43m,\u001b[49m\u001b[43m \u001b[49m\u001b[43mnumeric_only\u001b[49m\u001b[43m,\u001b[49m\u001b[43m \u001b[49m\u001b[38;5;241;43m*\u001b[39;49m\u001b[38;5;241;43m*\u001b[39;49m\u001b[43mkwargs\u001b[49m\n\u001b[0;32m  11210\u001b[0m \u001b[43m    \u001b[49m\u001b[43m)\u001b[49m\n",
      "File \u001b[1;32mD:\\Program Files\\Python311\\Lib\\site-packages\\pandas\\core\\generic.py:11165\u001b[0m, in \u001b[0;36mNDFrame._stat_function\u001b[1;34m(self, name, func, axis, skipna, numeric_only, **kwargs)\u001b[0m\n\u001b[0;32m  11161\u001b[0m     nv\u001b[38;5;241m.\u001b[39mvalidate_stat_func((), kwargs, fname\u001b[38;5;241m=\u001b[39mname)\n\u001b[0;32m  11163\u001b[0m validate_bool_kwarg(skipna, \u001b[38;5;124m\"\u001b[39m\u001b[38;5;124mskipna\u001b[39m\u001b[38;5;124m\"\u001b[39m, none_allowed\u001b[38;5;241m=\u001b[39m\u001b[38;5;28;01mFalse\u001b[39;00m)\n\u001b[1;32m> 11165\u001b[0m \u001b[38;5;28;01mreturn\u001b[39;00m \u001b[38;5;28;43mself\u001b[39;49m\u001b[38;5;241;43m.\u001b[39;49m\u001b[43m_reduce\u001b[49m\u001b[43m(\u001b[49m\n\u001b[0;32m  11166\u001b[0m \u001b[43m    \u001b[49m\u001b[43mfunc\u001b[49m\u001b[43m,\u001b[49m\u001b[43m \u001b[49m\u001b[43mname\u001b[49m\u001b[38;5;241;43m=\u001b[39;49m\u001b[43mname\u001b[49m\u001b[43m,\u001b[49m\u001b[43m \u001b[49m\u001b[43maxis\u001b[49m\u001b[38;5;241;43m=\u001b[39;49m\u001b[43maxis\u001b[49m\u001b[43m,\u001b[49m\u001b[43m \u001b[49m\u001b[43mskipna\u001b[49m\u001b[38;5;241;43m=\u001b[39;49m\u001b[43mskipna\u001b[49m\u001b[43m,\u001b[49m\u001b[43m \u001b[49m\u001b[43mnumeric_only\u001b[49m\u001b[38;5;241;43m=\u001b[39;49m\u001b[43mnumeric_only\u001b[49m\n\u001b[0;32m  11167\u001b[0m \u001b[43m\u001b[49m\u001b[43m)\u001b[49m\n",
      "File \u001b[1;32mD:\\Program Files\\Python311\\Lib\\site-packages\\pandas\\core\\series.py:4671\u001b[0m, in \u001b[0;36mSeries._reduce\u001b[1;34m(self, op, name, axis, skipna, numeric_only, filter_type, **kwds)\u001b[0m\n\u001b[0;32m   4666\u001b[0m     \u001b[38;5;28;01mraise\u001b[39;00m \u001b[38;5;167;01mTypeError\u001b[39;00m(\n\u001b[0;32m   4667\u001b[0m         \u001b[38;5;124mf\u001b[39m\u001b[38;5;124m\"\u001b[39m\u001b[38;5;124mSeries.\u001b[39m\u001b[38;5;132;01m{\u001b[39;00mname\u001b[38;5;132;01m}\u001b[39;00m\u001b[38;5;124m does not allow \u001b[39m\u001b[38;5;132;01m{\u001b[39;00mkwd_name\u001b[38;5;132;01m}\u001b[39;00m\u001b[38;5;124m=\u001b[39m\u001b[38;5;132;01m{\u001b[39;00mnumeric_only\u001b[38;5;132;01m}\u001b[39;00m\u001b[38;5;124m \u001b[39m\u001b[38;5;124m\"\u001b[39m\n\u001b[0;32m   4668\u001b[0m         \u001b[38;5;124m\"\u001b[39m\u001b[38;5;124mwith non-numeric dtypes.\u001b[39m\u001b[38;5;124m\"\u001b[39m\n\u001b[0;32m   4669\u001b[0m     )\n\u001b[0;32m   4670\u001b[0m \u001b[38;5;28;01mwith\u001b[39;00m np\u001b[38;5;241m.\u001b[39merrstate(\u001b[38;5;28mall\u001b[39m\u001b[38;5;241m=\u001b[39m\u001b[38;5;124m\"\u001b[39m\u001b[38;5;124mignore\u001b[39m\u001b[38;5;124m\"\u001b[39m):\n\u001b[1;32m-> 4671\u001b[0m     \u001b[38;5;28;01mreturn\u001b[39;00m \u001b[43mop\u001b[49m\u001b[43m(\u001b[49m\u001b[43mdelegate\u001b[49m\u001b[43m,\u001b[49m\u001b[43m \u001b[49m\u001b[43mskipna\u001b[49m\u001b[38;5;241;43m=\u001b[39;49m\u001b[43mskipna\u001b[49m\u001b[43m,\u001b[49m\u001b[43m \u001b[49m\u001b[38;5;241;43m*\u001b[39;49m\u001b[38;5;241;43m*\u001b[39;49m\u001b[43mkwds\u001b[49m\u001b[43m)\u001b[49m\n",
      "File \u001b[1;32mD:\\Program Files\\Python311\\Lib\\site-packages\\pandas\\core\\nanops.py:96\u001b[0m, in \u001b[0;36mdisallow.__call__.<locals>._f\u001b[1;34m(*args, **kwargs)\u001b[0m\n\u001b[0;32m     94\u001b[0m \u001b[38;5;28;01mtry\u001b[39;00m:\n\u001b[0;32m     95\u001b[0m     \u001b[38;5;28;01mwith\u001b[39;00m np\u001b[38;5;241m.\u001b[39merrstate(invalid\u001b[38;5;241m=\u001b[39m\u001b[38;5;124m\"\u001b[39m\u001b[38;5;124mignore\u001b[39m\u001b[38;5;124m\"\u001b[39m):\n\u001b[1;32m---> 96\u001b[0m         \u001b[38;5;28;01mreturn\u001b[39;00m \u001b[43mf\u001b[49m\u001b[43m(\u001b[49m\u001b[38;5;241;43m*\u001b[39;49m\u001b[43margs\u001b[49m\u001b[43m,\u001b[49m\u001b[43m \u001b[49m\u001b[38;5;241;43m*\u001b[39;49m\u001b[38;5;241;43m*\u001b[39;49m\u001b[43mkwargs\u001b[49m\u001b[43m)\u001b[49m\n\u001b[0;32m     97\u001b[0m \u001b[38;5;28;01mexcept\u001b[39;00m \u001b[38;5;167;01mValueError\u001b[39;00m \u001b[38;5;28;01mas\u001b[39;00m e:\n\u001b[0;32m     98\u001b[0m     \u001b[38;5;66;03m# we want to transform an object array\u001b[39;00m\n\u001b[0;32m     99\u001b[0m     \u001b[38;5;66;03m# ValueError message to the more typical TypeError\u001b[39;00m\n\u001b[0;32m    100\u001b[0m     \u001b[38;5;66;03m# e.g. this is normally a disallowed function on\u001b[39;00m\n\u001b[0;32m    101\u001b[0m     \u001b[38;5;66;03m# object arrays that contain strings\u001b[39;00m\n\u001b[0;32m    102\u001b[0m     \u001b[38;5;28;01mif\u001b[39;00m is_object_dtype(args[\u001b[38;5;241m0\u001b[39m]):\n",
      "File \u001b[1;32mD:\\Program Files\\Python311\\Lib\\site-packages\\pandas\\core\\nanops.py:158\u001b[0m, in \u001b[0;36mbottleneck_switch.__call__.<locals>.f\u001b[1;34m(values, axis, skipna, **kwds)\u001b[0m\n\u001b[0;32m    156\u001b[0m         result \u001b[38;5;241m=\u001b[39m alt(values, axis\u001b[38;5;241m=\u001b[39maxis, skipna\u001b[38;5;241m=\u001b[39mskipna, \u001b[38;5;241m*\u001b[39m\u001b[38;5;241m*\u001b[39mkwds)\n\u001b[0;32m    157\u001b[0m \u001b[38;5;28;01melse\u001b[39;00m:\n\u001b[1;32m--> 158\u001b[0m     result \u001b[38;5;241m=\u001b[39m \u001b[43malt\u001b[49m\u001b[43m(\u001b[49m\u001b[43mvalues\u001b[49m\u001b[43m,\u001b[49m\u001b[43m \u001b[49m\u001b[43maxis\u001b[49m\u001b[38;5;241;43m=\u001b[39;49m\u001b[43maxis\u001b[49m\u001b[43m,\u001b[49m\u001b[43m \u001b[49m\u001b[43mskipna\u001b[49m\u001b[38;5;241;43m=\u001b[39;49m\u001b[43mskipna\u001b[49m\u001b[43m,\u001b[49m\u001b[43m \u001b[49m\u001b[38;5;241;43m*\u001b[39;49m\u001b[38;5;241;43m*\u001b[39;49m\u001b[43mkwds\u001b[49m\u001b[43m)\u001b[49m\n\u001b[0;32m    160\u001b[0m \u001b[38;5;28;01mreturn\u001b[39;00m result\n",
      "File \u001b[1;32mD:\\Program Files\\Python311\\Lib\\site-packages\\pandas\\core\\nanops.py:421\u001b[0m, in \u001b[0;36m_datetimelike_compat.<locals>.new_func\u001b[1;34m(values, axis, skipna, mask, **kwargs)\u001b[0m\n\u001b[0;32m    418\u001b[0m \u001b[38;5;28;01mif\u001b[39;00m datetimelike \u001b[38;5;129;01mand\u001b[39;00m mask \u001b[38;5;129;01mis\u001b[39;00m \u001b[38;5;28;01mNone\u001b[39;00m:\n\u001b[0;32m    419\u001b[0m     mask \u001b[38;5;241m=\u001b[39m isna(values)\n\u001b[1;32m--> 421\u001b[0m result \u001b[38;5;241m=\u001b[39m \u001b[43mfunc\u001b[49m\u001b[43m(\u001b[49m\u001b[43mvalues\u001b[49m\u001b[43m,\u001b[49m\u001b[43m \u001b[49m\u001b[43maxis\u001b[49m\u001b[38;5;241;43m=\u001b[39;49m\u001b[43maxis\u001b[49m\u001b[43m,\u001b[49m\u001b[43m \u001b[49m\u001b[43mskipna\u001b[49m\u001b[38;5;241;43m=\u001b[39;49m\u001b[43mskipna\u001b[49m\u001b[43m,\u001b[49m\u001b[43m \u001b[49m\u001b[43mmask\u001b[49m\u001b[38;5;241;43m=\u001b[39;49m\u001b[43mmask\u001b[49m\u001b[43m,\u001b[49m\u001b[43m \u001b[49m\u001b[38;5;241;43m*\u001b[39;49m\u001b[38;5;241;43m*\u001b[39;49m\u001b[43mkwargs\u001b[49m\u001b[43m)\u001b[49m\n\u001b[0;32m    423\u001b[0m \u001b[38;5;28;01mif\u001b[39;00m datetimelike:\n\u001b[0;32m    424\u001b[0m     result \u001b[38;5;241m=\u001b[39m _wrap_results(result, orig_values\u001b[38;5;241m.\u001b[39mdtype, fill_value\u001b[38;5;241m=\u001b[39miNaT)\n",
      "File \u001b[1;32mD:\\Program Files\\Python311\\Lib\\site-packages\\pandas\\core\\nanops.py:727\u001b[0m, in \u001b[0;36mnanmean\u001b[1;34m(values, axis, skipna, mask)\u001b[0m\n\u001b[0;32m    724\u001b[0m     dtype_count \u001b[38;5;241m=\u001b[39m dtype\n\u001b[0;32m    726\u001b[0m count \u001b[38;5;241m=\u001b[39m _get_counts(values\u001b[38;5;241m.\u001b[39mshape, mask, axis, dtype\u001b[38;5;241m=\u001b[39mdtype_count)\n\u001b[1;32m--> 727\u001b[0m the_sum \u001b[38;5;241m=\u001b[39m \u001b[43m_ensure_numeric\u001b[49m\u001b[43m(\u001b[49m\u001b[43mvalues\u001b[49m\u001b[38;5;241;43m.\u001b[39;49m\u001b[43msum\u001b[49m\u001b[43m(\u001b[49m\u001b[43maxis\u001b[49m\u001b[43m,\u001b[49m\u001b[43m \u001b[49m\u001b[43mdtype\u001b[49m\u001b[38;5;241;43m=\u001b[39;49m\u001b[43mdtype_sum\u001b[49m\u001b[43m)\u001b[49m\u001b[43m)\u001b[49m\n\u001b[0;32m    729\u001b[0m \u001b[38;5;28;01mif\u001b[39;00m axis \u001b[38;5;129;01mis\u001b[39;00m \u001b[38;5;129;01mnot\u001b[39;00m \u001b[38;5;28;01mNone\u001b[39;00m \u001b[38;5;129;01mand\u001b[39;00m \u001b[38;5;28mgetattr\u001b[39m(the_sum, \u001b[38;5;124m\"\u001b[39m\u001b[38;5;124mndim\u001b[39m\u001b[38;5;124m\"\u001b[39m, \u001b[38;5;28;01mFalse\u001b[39;00m):\n\u001b[0;32m    730\u001b[0m     count \u001b[38;5;241m=\u001b[39m cast(np\u001b[38;5;241m.\u001b[39mndarray, count)\n",
      "File \u001b[1;32mD:\\Program Files\\Python311\\Lib\\site-packages\\pandas\\core\\nanops.py:1699\u001b[0m, in \u001b[0;36m_ensure_numeric\u001b[1;34m(x)\u001b[0m\n\u001b[0;32m   1696\u001b[0m             x \u001b[38;5;241m=\u001b[39m \u001b[38;5;28mcomplex\u001b[39m(x)\n\u001b[0;32m   1697\u001b[0m         \u001b[38;5;28;01mexcept\u001b[39;00m \u001b[38;5;167;01mValueError\u001b[39;00m \u001b[38;5;28;01mas\u001b[39;00m err:\n\u001b[0;32m   1698\u001b[0m             \u001b[38;5;66;03m# e.g. \"foo\"\u001b[39;00m\n\u001b[1;32m-> 1699\u001b[0m             \u001b[38;5;28;01mraise\u001b[39;00m \u001b[38;5;167;01mTypeError\u001b[39;00m(\u001b[38;5;124mf\u001b[39m\u001b[38;5;124m\"\u001b[39m\u001b[38;5;124mCould not convert \u001b[39m\u001b[38;5;132;01m{\u001b[39;00mx\u001b[38;5;132;01m}\u001b[39;00m\u001b[38;5;124m to numeric\u001b[39m\u001b[38;5;124m\"\u001b[39m) \u001b[38;5;28;01mfrom\u001b[39;00m \u001b[38;5;21;01merr\u001b[39;00m\n\u001b[0;32m   1700\u001b[0m \u001b[38;5;28;01mreturn\u001b[39;00m x\n",
      "\u001b[1;31mTypeError\u001b[0m: Could not convert [Awesome Haeun]어썸하은영국남자 Korean Englishman워크맨-Workmanwaveya 2011허팝HeopopARTBEAT와썹맨-Wassup ManVIVA DANCE STUDIO공대생 변승주 DSJOLLY흔한남매엔조이커플enjoycouple해그린달 haegreendal보물섬더블비철구형 (CHULTUBE)사나이 김기훈International Couple[사샤와 제이]급식왕웃소 Wootso정선호NALU박막례 할머니 Korea Grandma턱형 (GOD-TUK)수상한녀석들JAYKEEOUT x VWVBLia Kim꽈뚜룹 Quaddurup성수커플 - S.S Couple섭이는못말려신세경 sjkukseeSibongtv 시봉tv소근커플 S.K.CoupleCheri Hyeri 체리 혜리ondo온도(MUTUBE)와꾸대장봉준임영웅띠미 ddimmi유준호남순 NSU.M.A.우마쿠쿠크루 - Cuckoo CrewStimBoy스팀보이SUNBA선바외질혜 (OzilTube)대륙남TV [clark tv]슛뚜sueddu케이난쟁이성현강유미 yumi kang좋아서 하는 채널엣지님깨박이예씨 yessii긱블 Geekble최홍철sojoong쏘야쭝아Korean Studio박서아TV요리왕비룡 Korean Food Cooking코코 TV느낌적인느낌채채ChaeChae도아TV풍자테레비카페노예 jun따규햅번박민정 TV상해기SangHyuk to numeric"
     ]
    }
   ],
   "source": [
    "# [1-53] category 별 평균을 구할 수 있는 모든 컬럼에 대한 평균을 구합니다.\n",
    "df.groupby('category').mean()"
   ]
  },
  {
   "cell_type": "code",
   "execution_count": 104,
   "metadata": {
    "id": "rEz5n34mh7Cd",
    "tags": []
   },
   "outputs": [
    {
     "data": {
      "text/plain": [
       "category\n",
       "BJ/인물/연예인     410,154,852.94\n",
       "IT/기술/컴퓨터     176,610,000.00\n",
       "TV/방송         718,483,416.15\n",
       "게임            454,253,465.35\n",
       "교육/강의         177,218,260.87\n",
       "국내/해외/여행      186,624,000.00\n",
       "뉴스/정치/사회    1,199,935,535.71\n",
       "미분류           409,034,000.00\n",
       "스포츠/운동        279,189,166.67\n",
       "애완/반려동물       421,317,000.00\n",
       "영화/만화/애니      318,586,969.70\n",
       "음식/요리/레시피     407,381,931.82\n",
       "음악/댄스/가수    1,091,668,457.14\n",
       "자동차           185,615,000.00\n",
       "주식/경제/부동산      68,000,000.00\n",
       "취미            106,150,000.00\n",
       "취미/라이프        204,311,750.00\n",
       "키즈/어린이      1,281,384,315.79\n",
       "패션/미용         104,377,368.42\n",
       "해외            838,253,333.33\n",
       "회사/오피셜        496,612,500.00\n",
       "Name: view, dtype: float64"
      ]
     },
     "execution_count": 104,
     "metadata": {},
     "output_type": "execute_result"
    }
   ],
   "source": [
    "# [1-54] category 별 view에 대한 평균을 구합니다.\n",
    "df.groupby('category')['view'].mean()"
   ]
  },
  {
   "cell_type": "code",
   "execution_count": 106,
   "metadata": {
    "id": "tyE3vx0CXo8V",
    "tags": []
   },
   "outputs": [
    {
     "data": {
      "text/html": [
       "<div>\n",
       "<style scoped>\n",
       "    .dataframe tbody tr th:only-of-type {\n",
       "        vertical-align: middle;\n",
       "    }\n",
       "\n",
       "    .dataframe tbody tr th {\n",
       "        vertical-align: top;\n",
       "    }\n",
       "\n",
       "    .dataframe thead th {\n",
       "        text-align: right;\n",
       "    }\n",
       "</style>\n",
       "<table border=\"1\" class=\"dataframe\">\n",
       "  <thead>\n",
       "    <tr style=\"text-align: right;\">\n",
       "      <th></th>\n",
       "      <th>view</th>\n",
       "      <th>video</th>\n",
       "    </tr>\n",
       "    <tr>\n",
       "      <th>category</th>\n",
       "      <th></th>\n",
       "      <th></th>\n",
       "    </tr>\n",
       "  </thead>\n",
       "  <tbody>\n",
       "    <tr>\n",
       "      <th>BJ/인물/연예인</th>\n",
       "      <td>27890530000</td>\n",
       "      <td>56966</td>\n",
       "    </tr>\n",
       "    <tr>\n",
       "      <th>IT/기술/컴퓨터</th>\n",
       "      <td>1412880000</td>\n",
       "      <td>9601</td>\n",
       "    </tr>\n",
       "    <tr>\n",
       "      <th>TV/방송</th>\n",
       "      <td>115675830000</td>\n",
       "      <td>1453046</td>\n",
       "    </tr>\n",
       "    <tr>\n",
       "      <th>게임</th>\n",
       "      <td>45879600000</td>\n",
       "      <td>255228</td>\n",
       "    </tr>\n",
       "    <tr>\n",
       "      <th>교육/강의</th>\n",
       "      <td>4076020000</td>\n",
       "      <td>19272</td>\n",
       "    </tr>\n",
       "    <tr>\n",
       "      <th>국내/해외/여행</th>\n",
       "      <td>933120000</td>\n",
       "      <td>4151</td>\n",
       "    </tr>\n",
       "    <tr>\n",
       "      <th>뉴스/정치/사회</th>\n",
       "      <td>67196390000</td>\n",
       "      <td>2354693</td>\n",
       "    </tr>\n",
       "    <tr>\n",
       "      <th>미분류</th>\n",
       "      <td>16361360000</td>\n",
       "      <td>31122</td>\n",
       "    </tr>\n",
       "    <tr>\n",
       "      <th>스포츠/운동</th>\n",
       "      <td>3350270000</td>\n",
       "      <td>47459</td>\n",
       "    </tr>\n",
       "    <tr>\n",
       "      <th>애완/반려동물</th>\n",
       "      <td>8426340000</td>\n",
       "      <td>15725</td>\n",
       "    </tr>\n",
       "    <tr>\n",
       "      <th>영화/만화/애니</th>\n",
       "      <td>10513370000</td>\n",
       "      <td>25416</td>\n",
       "    </tr>\n",
       "    <tr>\n",
       "      <th>음식/요리/레시피</th>\n",
       "      <td>35849610000</td>\n",
       "      <td>73042</td>\n",
       "    </tr>\n",
       "    <tr>\n",
       "      <th>음악/댄스/가수</th>\n",
       "      <td>191041980000</td>\n",
       "      <td>241859</td>\n",
       "    </tr>\n",
       "    <tr>\n",
       "      <th>자동차</th>\n",
       "      <td>371230000</td>\n",
       "      <td>1340</td>\n",
       "    </tr>\n",
       "    <tr>\n",
       "      <th>주식/경제/부동산</th>\n",
       "      <td>340000000</td>\n",
       "      <td>5132</td>\n",
       "    </tr>\n",
       "    <tr>\n",
       "      <th>취미</th>\n",
       "      <td>106150000</td>\n",
       "      <td>237</td>\n",
       "    </tr>\n",
       "    <tr>\n",
       "      <th>취미/라이프</th>\n",
       "      <td>8172470000</td>\n",
       "      <td>14373</td>\n",
       "    </tr>\n",
       "    <tr>\n",
       "      <th>키즈/어린이</th>\n",
       "      <td>121731510000</td>\n",
       "      <td>101570</td>\n",
       "    </tr>\n",
       "    <tr>\n",
       "      <th>패션/미용</th>\n",
       "      <td>5949510000</td>\n",
       "      <td>17850</td>\n",
       "    </tr>\n",
       "    <tr>\n",
       "      <th>해외</th>\n",
       "      <td>5029520000</td>\n",
       "      <td>30261</td>\n",
       "    </tr>\n",
       "    <tr>\n",
       "      <th>회사/오피셜</th>\n",
       "      <td>1986450000</td>\n",
       "      <td>8337</td>\n",
       "    </tr>\n",
       "  </tbody>\n",
       "</table>\n",
       "</div>"
      ],
      "text/plain": [
       "                   view    video\n",
       "category                        \n",
       "BJ/인물/연예인   27890530000    56966\n",
       "IT/기술/컴퓨터    1412880000     9601\n",
       "TV/방송      115675830000  1453046\n",
       "게임          45879600000   255228\n",
       "교육/강의        4076020000    19272\n",
       "국내/해외/여행      933120000     4151\n",
       "뉴스/정치/사회    67196390000  2354693\n",
       "미분류         16361360000    31122\n",
       "스포츠/운동       3350270000    47459\n",
       "애완/반려동물      8426340000    15725\n",
       "영화/만화/애니    10513370000    25416\n",
       "음식/요리/레시피   35849610000    73042\n",
       "음악/댄스/가수   191041980000   241859\n",
       "자동차           371230000     1340\n",
       "주식/경제/부동산     340000000     5132\n",
       "취미            106150000      237\n",
       "취미/라이프       8172470000    14373\n",
       "키즈/어린이     121731510000   101570\n",
       "패션/미용        5949510000    17850\n",
       "해외           5029520000    30261\n",
       "회사/오피셜       1986450000     8337"
      ]
     },
     "execution_count": 106,
     "metadata": {},
     "output_type": "execute_result"
    }
   ],
   "source": [
    "# [1-55] category 별 view, video에 대한 합계를 구합니다.\n",
    "df.groupby('category')[['view', 'video']].sum()"
   ]
  },
  {
   "cell_type": "code",
   "execution_count": null,
   "metadata": {
    "id": "3-K0gSTAQkMP"
   },
   "outputs": [],
   "source": []
  },
  {
   "cell_type": "markdown",
   "metadata": {
    "id": "OPXj4WkiQkrm"
   },
   "source": [
    "### 3-6.시각화\n",
    "- 분포 시각화\n",
    "- 범주형 : 바(bar) 그래프\n",
    "- 연속형 : 히스토그램, 박스 플롯(boxplot)"
   ]
  },
  {
   "cell_type": "code",
   "execution_count": null,
   "metadata": {
    "id": "2Th-q6oTSpD1"
   },
   "outputs": [],
   "source": [
    "# 1. 파일 다운로드를 실행했다면 생략 가능\n",
    "!git clone https://github.com/Soyoung-Yoon/data_01"
   ]
  },
  {
   "cell_type": "code",
   "execution_count": null,
   "metadata": {
    "id": "2jsjbSgLRkzU",
    "tags": []
   },
   "outputs": [],
   "source": [
    "# 2. Colab에서 한글폰트 사용하기를 실행했으면 생략 가능\n",
    "import matplotlib.pyplot as plt\n",
    "import seaborn as sns\n",
    "\n",
    "plt.rc('font', family='Malgun Gothic')\n",
    "plt.rcParams['axes.unicode_minus'] = False"
   ]
  },
  {
   "cell_type": "code",
   "execution_count": null,
   "metadata": {
    "id": "765wGbgAYNda",
    "tags": []
   },
   "outputs": [],
   "source": [
    "# 3. 데이터 준비 - 위의  Youtube 인기 채널에 대해 수행하면서 왔다면 생략 가능\n",
    "import pandas as pd\n",
    "df = pd.read_excel('data_01/youtube_rank.xlsx', engine='openpyxl')\n",
    "df['subscriber'] = df['subscriber'].replace('만', '0000', regex=True).astype('int64')\n",
    "df['view'] = df['view'].replace({'억':'', '만':'0000'}, regex=True).astype('int64')\n",
    "df['video'] = df['video'].replace(['개', ','], '', regex=True).astype('int32')\n",
    "df['category'] = df['category'].str[1:-1].astype('category')"
   ]
  },
  {
   "cell_type": "code",
   "execution_count": null,
   "metadata": {
    "tags": []
   },
   "outputs": [],
   "source": [
    "df.index"
   ]
  },
  {
   "cell_type": "code",
   "execution_count": null,
   "metadata": {
    "tags": []
   },
   "outputs": [],
   "source": [
    "channel = df['category'].value_counts().sort_values(ascending=True)"
   ]
  },
  {
   "cell_type": "code",
   "execution_count": null,
   "metadata": {
    "colab": {
     "base_uri": "https://localhost:8080/",
     "height": 143
    },
    "id": "XmkUJ3DtQkro",
    "outputId": "93d6eb28-8604-44ea-f544-ce6d2e08e372"
   },
   "outputs": [],
   "source": [
    "# [1-56] category 별 채널 개수를 오름차순으로 정렬하여 구합니다.\n"
   ]
  },
  {
   "cell_type": "code",
   "execution_count": null,
   "metadata": {
    "tags": []
   },
   "outputs": [],
   "source": [
    "plt.barh(channel.index, channel.values)\n",
    "plt.grid(True, alpha=0.5)\n",
    "plt.show()"
   ]
  },
  {
   "cell_type": "code",
   "execution_count": null,
   "metadata": {
    "colab": {
     "base_uri": "https://localhost:8080/",
     "height": 432
    },
    "id": "gI35J9GJQkrp",
    "outputId": "a26f1859-5618-4226-b8c3-b27d3e38daae"
   },
   "outputs": [],
   "source": [
    "# [1-57] matplotlib의 pyplot을 사용하여 channel에 대한 bar 그래프를 그립니다\n"
   ]
  },
  {
   "cell_type": "code",
   "execution_count": null,
   "metadata": {
    "tags": []
   },
   "outputs": [],
   "source": [
    "channel.plot(kind='barh')\n",
    "plt.grid(True)\n",
    "plt.show()"
   ]
  },
  {
   "cell_type": "code",
   "execution_count": null,
   "metadata": {
    "colab": {
     "base_uri": "https://localhost:8080/",
     "height": 432
    },
    "id": "j2o4_fezPtwu",
    "outputId": "791580e1-f72f-4d9e-99a5-cbae7f9dd629"
   },
   "outputs": [],
   "source": [
    "# [1-58] Series의 plot을 사용하여 channel에 대한 bar 그래프를 그립니다\n"
   ]
  },
  {
   "cell_type": "code",
   "execution_count": null,
   "metadata": {
    "tags": []
   },
   "outputs": [],
   "source": [
    "sns.histplot(data=df, x='subscriber',stat='density')\n",
    "plt.grid(True)\n",
    "plt.show()"
   ]
  },
  {
   "cell_type": "code",
   "execution_count": null,
   "metadata": {
    "colab": {
     "base_uri": "https://localhost:8080/",
     "height": 350
    },
    "id": "6rVz00SWQkrs",
    "outputId": "1e3888ad-dce0-4703-d0e4-899b729c7bdc"
   },
   "outputs": [],
   "source": [
    "# [1-59] Seaborn의 histplot으로 'subscriber'의 분포를 히스토그램으로 그립니다\n"
   ]
  },
  {
   "cell_type": "code",
   "execution_count": null,
   "metadata": {
    "colab": {
     "base_uri": "https://localhost:8080/",
     "height": 338
    },
    "id": "PYpbwNvtdicp",
    "outputId": "8dd77f98-2e96-4fce-a6af-0a25dcac8b4b"
   },
   "outputs": [],
   "source": [
    "# [1-60] DataFrame의 plot으로 'subscriber'의 분포를 히스토그램으로 그립니다\n"
   ]
  },
  {
   "cell_type": "code",
   "execution_count": null,
   "metadata": {
    "tags": []
   },
   "outputs": [],
   "source": [
    "sns.boxplot(data=df)\n",
    "plt.grid(True, axis='y')\n",
    "plt.show()"
   ]
  },
  {
   "cell_type": "code",
   "execution_count": null,
   "metadata": {
    "colab": {
     "base_uri": "https://localhost:8080/",
     "height": 281
    },
    "id": "4HSfRSG8mEXQ",
    "outputId": "2ae9469a-f6df-431e-d78e-8a249ac75b64"
   },
   "outputs": [],
   "source": [
    "# [1-61] Seaborn의 boxplot으로 \n",
    "# 'subscriber', 'view', 'video'의 분포를 박스 플롯으로 그립니다\n"
   ]
  },
  {
   "cell_type": "code",
   "execution_count": null,
   "metadata": {
    "colab": {
     "base_uri": "https://localhost:8080/",
     "height": 297
    },
    "id": "Re-bR8sLmVa2",
    "outputId": "995ceeb1-4dec-4229-8508-9d122340004b",
    "tags": []
   },
   "outputs": [],
   "source": [
    "# [1-62] matplotlib의 pyplot으로\n",
    "# 'subscriber', 'view', 'video'의 분포를 박스 플롯으로 그립니다\n",
    "\n",
    "items = ['subscriber', 'view', 'video']\n",
    "\n",
    "for i in range(3):\n",
    "    plt.subplot(1,3,i+1)\n",
    "    plt.boxplot(x=items[i], data=df)\n",
    "    plt.xlabel(items[i])\n",
    "    plt.grid(True, axis='y')\n",
    "    \n",
    "plt.tight_layout()\n",
    "plt.show()"
   ]
  },
  {
   "cell_type": "code",
   "execution_count": null,
   "metadata": {
    "colab": {
     "base_uri": "https://localhost:8080/",
     "height": 297
    },
    "id": "0ucIeVYYlevh",
    "outputId": "6282b1c4-e464-4067-8156-c27aa5da600c"
   },
   "outputs": [],
   "source": [
    "# [1-63] DataFrame의 plot으로\n",
    "# 'subscriber', 'view', 'video'의 분포를 박스 플롯으로 그립니다\n",
    "\n"
   ]
  },
  {
   "cell_type": "code",
   "execution_count": null,
   "metadata": {
    "id": "0Gk570A_QkI6"
   },
   "outputs": [],
   "source": [
    "# 고생하셨습니다!!"
   ]
  }
 ],
 "metadata": {
  "colab": {
   "collapsed_sections": [
    "1WebHNIdC7Tw"
   ],
   "provenance": [],
   "toc_visible": true
  },
  "kernelspec": {
   "display_name": "Python 3 (ipykernel)",
   "language": "python",
   "name": "python3"
  },
  "language_info": {
   "codemirror_mode": {
    "name": "ipython",
    "version": 3
   },
   "file_extension": ".py",
   "mimetype": "text/x-python",
   "name": "python",
   "nbconvert_exporter": "python",
   "pygments_lexer": "ipython3",
   "version": "3.11.3"
  }
 },
 "nbformat": 4,
 "nbformat_minor": 4
}
