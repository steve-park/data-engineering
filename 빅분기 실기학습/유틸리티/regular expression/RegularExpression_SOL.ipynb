{
  "nbformat": 4,
  "nbformat_minor": 0,
  "metadata": {
    "colab": {
      "provenance": [],
      "collapsed_sections": [
        "ZSKiOE_pLnDy",
        "Frr7p9B5E0re",
        "_xV4kKOTG03V",
        "rUgB240pOLdU",
        "9WPVRlxXXKmT",
        "xuDcudqyXOW_",
        "i2WVFGb5Zw-t",
        "ioFkUGL9FGPE",
        "eGZthKtmJlkD"
      ],
      "toc_visible": true
    },
    "kernelspec": {
      "name": "python3",
      "display_name": "Python 3"
    }
  },
  "cells": [
    {
      "cell_type": "markdown",
      "metadata": {
        "id": "Tc_gwDfetX19"
      },
      "source": [
        "## Regular Expression(정규식)\n",
        "- https://www.regular-expressions.info/tutorial.html"
      ]
    },
    {
      "cell_type": "markdown",
      "metadata": {
        "id": "vALIAwmLtb9K"
      },
      "source": [
        "## 1.정규식의 필요성\n",
        "- 문자열에서 특정 패턴(규칙)을 갖는 부분이 있는지 확인/추출\n",
        "- 기호를 사용하여 간단하고 명료하게 패턴을 표기(높은 가독성)\n",
        "- 다양한 확인/추출을 위한 함수와 세부 설정을 위한 옵션 존재\n",
        "- import re 사용"
      ]
    },
    {
      "cell_type": "markdown",
      "metadata": {
        "id": "mKy-keBvtk7_"
      },
      "source": [
        "### 1-01. 암호 유효성 검사 \n",
        "- 암호의 유효성을 검사하는 isPassword 함수를 검토하자\n",
        "- 암호 유효성 검사 규칙은 다음과 같다\n",
        "    - 총 길이는 10글자 이상이어야 한다\n",
        "    - 1개 이상의 숫자, 영문 대문자, 영문 소문자가 포함 되어 있어야 한다\n",
        "    - !@#$%^&*() 문자 중 1개 이상의 특수 문자를 포함해야 한다\n",
        "    - verify()함수는 isPassword 의 결과에 따른 출력을 하는 함수로 제공됨\n",
        "    "
      ]
    },
    {
      "cell_type": "code",
      "metadata": {
        "id": "EVz3_pvnsLos"
      },
      "source": [
        "# 특정 특수 문자 인지 확인하는 함수\n",
        "def isspecial(ch):\n",
        "    return ch in '!@#$%^&*()'\n",
        "\n",
        "# 암호 유효성 검사 함수\n",
        "def isPassword_1(pw):\n",
        "    if len(pw) < 10  : return False\n",
        "    check = [False] * 4\n",
        "    for ch in pw:\n",
        "        if ch.islower()  : check[0] = True\n",
        "        if ch.isupper()  : check[1] = True\n",
        "        if ch.isdecimal(): check[2] = True\n",
        "        if isspecial(ch) : check[3] = True\n",
        "        if all(check) : return True\n",
        "    return False"
      ],
      "execution_count": null,
      "outputs": []
    },
    {
      "cell_type": "code",
      "metadata": {
        "id": "gePBNTA7vk51"
      },
      "source": [
        "import re\n",
        "\n",
        "# 암호 유효성 검사 함수\n",
        "def isPassword_2(pw):\n",
        "    if len(pw) < 10 : return False\n",
        "    rules = ( r'[0-9]+', r'[a-z]+', r'[A-Z]+', r'[~!@#$%^&*]+')    \n",
        "    for rule in rules:\n",
        "        if not re.search(rule, pw) : return False\n",
        "    return True"
      ],
      "execution_count": null,
      "outputs": []
    },
    {
      "cell_type": "code",
      "metadata": {
        "id": "fLlmRGAUWc9v"
      },
      "source": [
        "comprehension / generator"
      ],
      "execution_count": null,
      "outputs": []
    },
    {
      "cell_type": "code",
      "metadata": {
        "colab": {
          "base_uri": "https://localhost:8080/"
        },
        "id": "RU85PxvnwDpr",
        "outputId": "cb47db3f-07de-408d-9688-2f8e13b68159"
      },
      "source": [
        "isPassword = isPassword_2\n",
        "\n",
        "pwlist = ['asbdJKL12**', '123jkKL*', 'ajkdk123kjKL', 'ABC123*^5D']\n",
        "maxLen = max( len(x) for x in pwlist )\n",
        "def verity(pw) :\n",
        "    return f'{pw:<{maxLen}} - {\"Correct\" if isPassword(pw) else \"Wrong\"}'\n",
        "\n",
        "print('\\n'.join( verity(pw) for pw in pwlist ))"
      ],
      "execution_count": null,
      "outputs": [
        {
          "output_type": "stream",
          "text": [
            "asbdJKL12**  - Correct\n",
            "123jkKL*     - Wrong\n",
            "ajkdk123kjKL - Wrong\n",
            "ABC123*^5D   - Wrong\n"
          ],
          "name": "stdout"
        }
      ]
    },
    {
      "cell_type": "markdown",
      "metadata": {
        "id": "PbosZuMbwy8C"
      },
      "source": [
        "### 1-02. 휴대폰 번호 유효성 검사\n",
        "- 휴대폰 번호 여부를 확인하는 isPhoneNumber 함수 검토\n",
        "- 휴대폰 번호에 사용되는 규칙\n",
        "    - 3개의 그룹의 숫자로 되어 있으며 그룹은 ‘-’로 구분\n",
        "    - 첫 번째 그룹은 3글자이며, [010, 011, 012, 016, 017, 018, 019] 중 하나를 사용함\n",
        "    - 두 번째 그룹은 3글자 또는 4글자로 되어 있음\n",
        "    - 세 번째 그룹은 4글자로 되어 있음\n",
        "    - verify()함수는 isPhoneNumber의 결과에 따른 출력을 하는 함수로 제공됨\n"
      ]
    },
    {
      "cell_type": "code",
      "metadata": {
        "id": "bSHeENEU2-W5"
      },
      "source": [
        "pno = [1, 1, 1, 0, 0, 0, 1, 1, 1, 1]\n",
        "def isPhoneNumber_T1(num):  \n",
        "    if len(num)<12 or len(num)>13 : return False\n",
        "    grp = num.split('-')\n",
        "    if (len(grp) != 3) : return False\n",
        "    if len(grp[0]) != 3 or grp[0].isdecimal() == False : return False\n",
        "    if grp[0][0:2] != '01' : return False\n",
        "    if not pno[int(grp[0][2])] : return False\n",
        "    if len(grp[1]) < 3 or len(grp[1])>4 or grp[1].isdecimal() == False : return False\n",
        "    if len(grp[2]) != 4 or not grp[2].isdecimal() : return False\n",
        "    return True"
      ],
      "execution_count": null,
      "outputs": []
    },
    {
      "cell_type": "code",
      "metadata": {
        "id": "zgCu6DcU6Ig2"
      },
      "source": [
        "import re\n",
        "\n",
        "def isPhoneNumber_T2(num):\n",
        "    if re.search(r'^01[0-26-9]-[0-9]{3,4}-[0-9]{4}$', num) :\n",
        "        return True\n",
        "    return False"
      ],
      "execution_count": null,
      "outputs": []
    },
    {
      "cell_type": "code",
      "metadata": {
        "colab": {
          "base_uri": "https://localhost:8080/"
        },
        "id": "Rw1SnFgF3EEa",
        "outputId": "d7dc96b2-3d1c-482a-ad1c-c8b0c18f7350"
      },
      "source": [
        "isPhoneNumber = isPhoneNumber_T2\n",
        "phone_numbers = ['010-456-7892',\n",
        "                 '010-2345-1234',\n",
        "                 '013-123-1231',\n",
        "                 '012 1234 1234',\n",
        "                 '016-12-1234',\n",
        "                 'TEL: 012-123-1234',\n",
        "                 '017-123-1234!']\n",
        "maxLen = max( len(x) for x in phone_numbers )                 \n",
        "def verity(pn) :\n",
        "    return  f'{pn:<{maxLen}} - {\"Correct\" if isPhoneNumber(pn) else \"Wrong\"}'   \n",
        "\n",
        "answers = [ verity(pn) for pn in phone_numbers]\n",
        "print('\\n'.join(answers))"
      ],
      "execution_count": null,
      "outputs": [
        {
          "output_type": "stream",
          "text": [
            "010-456-7892      - Correct\n",
            "010-2345-1234     - Correct\n",
            "013-123-1231      - Wrong\n",
            "012 1234 1234     - Wrong\n",
            "016-12-1234       - Wrong\n",
            "TEL: 012-123-1234 - Wrong\n",
            "017-123-1234!     - Wrong\n"
          ],
          "name": "stdout"
        }
      ]
    },
    {
      "cell_type": "markdown",
      "metadata": {
        "id": "faDfcwtt8DCt"
      },
      "source": [
        "### 1-03. 문자열에서 휴대폰 번호 검색\n",
        "- 문자열에서 휴대폰 번호를 검색 및 출력하는 코드 확인\n",
        "- 문자열은 문자와 숫자가 함께 사용되며, 여러 휴대폰 번호 포함 가능\n",
        "   - msg = 'julie 010-123-1234 peter 011-1234-1234 office 031-123-1234'\n",
        "- 휴대폰 번호에 사용되는 규칙\n",
        "    - 3개의 그룹의 숫자로 되어 있으며 그룹은 ‘-’로 구분\n",
        "    - 첫 번째 그룹은 3글자이며, [010, 011, 012, 016, 017, 018, 019] 중 하나를 사용함\n",
        "    - 두 번째 그룹은 3글자 또는 4글자로 되어 있음\n",
        "    - 세 번째 그룹은 4글자로 되어 있음   "
      ]
    },
    {
      "cell_type": "code",
      "metadata": {
        "colab": {
          "base_uri": "https://localhost:8080/"
        },
        "id": "PIDwll6_8zLk",
        "outputId": "f1cca6a5-84ac-4a61-ca8a-e42f9003c249"
      },
      "source": [
        "# re를 사용하지 않은 프로그램\n",
        "\n",
        "msg = 'julie 010-123-1234 peter 011-1234-1234 office 031-123-1234'\n",
        "pno = [1, 1, 1, 0, 0, 0, 1, 1, 1, 1]\n",
        "\n",
        "def isPhoneNumber(num):  \n",
        "    if len(num)<12 or len(num)>13 : return False\n",
        "    grp = num.split('-')\n",
        "    if (len(grp) != 3) : return False\n",
        "    if len(grp[0]) != 3 or grp[0].isdecimal() == False : return False\n",
        "    if grp[0][0:2] != '01' : return False\n",
        "    if not pno[int(grp[0][2])] : return False\n",
        "    if len(grp[1]) < 3 or len(grp[1])>4 or grp[1].isdecimal() == False : return False\n",
        "    if len(grp[2]) != 4 or not grp[2].isdecimal() : return False\n",
        "    return True\n",
        "\n",
        "idx = 0\n",
        "for i in range(len(msg)-12):\n",
        "    phone12 = msg[i:i+12]\n",
        "    phone13 = msg[i:i+13]\n",
        "    phone = None\n",
        "    if isPhoneNumber(phone12) : phone = phone12\n",
        "    elif isPhoneNumber(phone13) : phone = phone13\n",
        "    if phone :\n",
        "        idx += 1\n",
        "        print(f'Phone number{idx} : {phone}')\n",
        "         "
      ],
      "execution_count": null,
      "outputs": [
        {
          "output_type": "stream",
          "text": [
            "Phone number1 : 010-123-1234\n",
            "Phone number2 : 011-1234-1234\n"
          ],
          "name": "stdout"
        }
      ]
    },
    {
      "cell_type": "code",
      "metadata": {
        "colab": {
          "base_uri": "https://localhost:8080/"
        },
        "id": "ki3amtiB9Hyf",
        "outputId": "e319aa74-e836-4352-b8cc-c288c829fc20"
      },
      "source": [
        "# re를 사용한 프로그램\n",
        "import re\n",
        "\n",
        "msg = 'julie 010-123-1234 peter 011-1234-1234 office 031-123-1234'\n",
        "\n",
        "r = re.finditer(r'01[0-26-9]-[0-9]{3,4}-[0-9]{4}', msg)\n",
        "for idx, m in enumerate(r, start=1):\n",
        "    print(f'Phone number{idx} : {m.group()}')"
      ],
      "execution_count": null,
      "outputs": [
        {
          "output_type": "stream",
          "text": [
            "Phone number1 : 010-123-1234\n",
            "Phone number2 : 011-1234-1234\n"
          ],
          "name": "stdout"
        }
      ]
    },
    {
      "cell_type": "markdown",
      "metadata": {
        "id": "4PIRppQs2LZZ"
      },
      "source": [
        "## 2.정규식 패턴 작성"
      ]
    },
    {
      "cell_type": "markdown",
      "metadata": {
        "id": "NW1J6rSR2UCh"
      },
      "source": [
        "### 2-01. 정규식의 이해\n",
        "- 문자집합의 패턴이 일치하는지 검사하기 위해 사용하는 표현식\n",
        "- re 모듈을 import 하여야 사용할 수 있음\n",
        " \n",
        "  ```import re```\n",
        "- 작업의 패턴 표현\n",
        "   - 처리 하고자 하는 작업을 패턴으로 표현하는 방법\n",
        "   - 핸드폰 번호 검색 : '-'로 구분된 3-(3|4)-4개의 숫자\n",
        "   - 성이 yoon 인 사람 : yoon으로 시작하는 문자열\n",
        "\n",
        "- 정규식 사용의 장점\n",
        "  - 작업을 패턴으로 표현하면 직관적인 표현이 됨\n",
        "  - 검색 대상이 큰 경우 보다 빠른 결과를 얻을 수 있음\n",
        "  - 코드의 작성 길이가 짧아짐\n",
        "  \n",
        "   "
      ]
    },
    {
      "cell_type": "markdown",
      "metadata": {
        "id": "FnbX0LwsD1Ld"
      },
      "source": [
        "### 2-02. 정규식 사용법"
      ]
    },
    {
      "cell_type": "code",
      "metadata": {
        "colab": {
          "base_uri": "https://localhost:8080/"
        },
        "id": "ryqrlUG4fxIQ",
        "outputId": "aabc170d-0b19-41ba-bfff-17031b443bbf"
      },
      "source": [
        "print('\\\\nabc')"
      ],
      "execution_count": null,
      "outputs": [
        {
          "output_type": "stream",
          "text": [
            "\\nabc\n"
          ],
          "name": "stdout"
        }
      ]
    },
    {
      "cell_type": "code",
      "metadata": {
        "colab": {
          "base_uri": "https://localhost:8080/"
        },
        "id": "PwVHCQs7f6Fw",
        "outputId": "d14656d9-c191-4424-929b-aaa4c8a0613a"
      },
      "source": [
        "print(r'\\nabc')"
      ],
      "execution_count": null,
      "outputs": [
        {
          "output_type": "stream",
          "text": [
            "\\nabc\n"
          ],
          "name": "stdout"
        }
      ]
    },
    {
      "cell_type": "code",
      "metadata": {
        "colab": {
          "base_uri": "https://localhost:8080/"
        },
        "id": "voKiMTsygbC6",
        "outputId": "e2337374-21b9-47e8-b41e-90e5cb1e2cef"
      },
      "source": [
        "import re\n",
        "\n",
        "pattern = re.compile(r'abc')  # raw string   패턴문자열 -> Pattern 객체\n",
        "mc1 = re.search(pattern, '123abcd')  # re.search -> Match객체\n",
        "print(type(pattern), type(mc1))"
      ],
      "execution_count": null,
      "outputs": [
        {
          "output_type": "stream",
          "text": [
            "<class '_sre.SRE_Pattern'> <class '_sre.SRE_Match'>\n"
          ],
          "name": "stdout"
        }
      ]
    },
    {
      "cell_type": "code",
      "metadata": {
        "colab": {
          "base_uri": "https://localhost:8080/"
        },
        "id": "JjzhDxQzAQ3x",
        "outputId": "4911dc23-2f6e-4058-a155-91d1cf479547"
      },
      "source": [
        "import re\n",
        "\n",
        "pattern = re.compile(r'abc')  # raw string   패턴문자열 -> Pattern 객체\n",
        "\n",
        "mc1 = re.search(pattern, '123abcd')  # re.search -> Match객체\n",
        "mc2 = re.search(r'abc', '123abcd')\n",
        "mc3 = pattern.search('123abcd')\n",
        "\n",
        "for mc in mc1, mc2, mc3:\n",
        "    print(f'{mc.start()}~{mc.end()}에 {mc.group()}존재') \n"
      ],
      "execution_count": null,
      "outputs": [
        {
          "output_type": "stream",
          "text": [
            "3~6에 abc존재\n",
            "3~6에 abc존재\n",
            "3~6에 abc존재\n"
          ],
          "name": "stdout"
        }
      ]
    },
    {
      "cell_type": "markdown",
      "metadata": {
        "id": "pR7Fs0AgD4lo"
      },
      "source": [
        "### 2-03. character class\n",
        "- character class : [ ] 내부에 문자를 나열한 것 \n",
        "   - 나열된 문자 중 한 개 문자의 사용을 의미함\n",
        "- 종류\n",
        "   - [abc] : abc 중 한 개 문자\n",
        "   - [a-z] : a에서 z까지 범위의 문자 중 한 개 문자\n",
        "   - [a-zA-Z] : 알파벳 소문자, 대문자 모두 중 한 개 문자\n",
        "   - [^0-9] : ^를 사용하면 not의 의미임, 숫자를 제외한 모든 문자에서 한 개 문자"
      ]
    },
    {
      "cell_type": "code",
      "metadata": {
        "id": "nRlXEnYBio0N"
      },
      "source": [
        "[0-9]  '1' '2'"
      ],
      "execution_count": null,
      "outputs": []
    },
    {
      "cell_type": "code",
      "metadata": {
        "colab": {
          "base_uri": "https://localhost:8080/"
        },
        "id": "mJ9P8yaREtiK",
        "outputId": "6675efbb-6022-430a-88dc-9cb815bdda9a"
      },
      "source": [
        "import re\n",
        "# 첫 번째 글자 숫자, 두 번째 글자 a/b/c 중 한 글자, 세 번째 글자 c ~ z 사이 글자가 아닌 글자\n",
        "mc = re.search(r'[0-9][abc][^c-z]', '123abcd')\n",
        "if mc :\n",
        "    print(f'{mc.start()}~{mc.end()}에 {mc.group()}존재') \n",
        "else:\n",
        "    print('문자열에 패턴이 존재하지 않음')"
      ],
      "execution_count": null,
      "outputs": [
        {
          "output_type": "stream",
          "text": [
            "2~5에 3ab존재\n"
          ],
          "name": "stdout"
        }
      ]
    },
    {
      "cell_type": "markdown",
      "metadata": {
        "id": "jSkXH3lnFCrm"
      },
      "source": [
        "### 2-04. 횟수 관련 메타 문자\n",
        "- 메타 문자 : 특별한 용도로 사용되는 문자를 의미함\n",
        "- x* : x를 0개 이상 사용\n",
        "- x+ : x를 1개 이상 사용\n",
        "- x? : x를 0 또는 1개 사용\n",
        "- x{n} : x를 n개 사용\n",
        "- x{n, k} : x를 n개 이상, k개 이하 사용"
      ]
    },
    {
      "cell_type": "code",
      "metadata": {
        "id": "EwEBxddSF_0E"
      },
      "source": [
        "import re\n",
        "\n",
        "def printMatch(pstr, data):\n",
        "    print(pstr)\n",
        "    for x in data :\n",
        "        mc = re.search(pstr, x)\n",
        "        maxLen = max(len(x) for x in data)\n",
        "        if mc :\n",
        "            print(f'{x:{maxLen}} : {mc.start()}~{mc.end()}에 {mc.group()}존재') \n",
        "        else:\n",
        "            print(f'{x:{maxLen}} : 문자열에 {pstr}패턴이 존재하지 않음')"
      ],
      "execution_count": null,
      "outputs": []
    },
    {
      "cell_type": "code",
      "metadata": {
        "colab": {
          "base_uri": "https://localhost:8080/"
        },
        "id": "5gdX8I4vGat9",
        "outputId": "da59655e-f3e9-434f-d3c7-1e3c698325a8"
      },
      "source": [
        "# 숫자가 0회 이상 사용된 패턴 찾기 (Greedy)\n",
        "dataList = ('', '1', '12', '1234', 'abc', '1a')\n",
        "printMatch(r'[0-9]*', dataList)"
      ],
      "execution_count": null,
      "outputs": [
        {
          "output_type": "stream",
          "text": [
            "[0-9]*\n",
            "     : 0~0에 존재\n",
            "1    : 0~1에 1존재\n",
            "12   : 0~2에 12존재\n",
            "1234 : 0~4에 1234존재\n",
            "abc  : 0~0에 존재\n",
            "1a   : 0~1에 1존재\n"
          ],
          "name": "stdout"
        }
      ]
    },
    {
      "cell_type": "code",
      "metadata": {
        "colab": {
          "base_uri": "https://localhost:8080/"
        },
        "id": "kRWhGk80GcSX",
        "outputId": "1d64ee49-49b7-4e7a-b8e5-afc3dbe0766c"
      },
      "source": [
        "# 알파벳 소문자가 1회 이상 사용된 패턴 찾기 (Greedy)\n",
        "dataList = ('c', 'ab', 'abcd', 'a12', '123', 'ABC')\n",
        "printMatch(r'[a-z]+', dataList)"
      ],
      "execution_count": null,
      "outputs": [
        {
          "output_type": "stream",
          "text": [
            "[a-z]+\n",
            "c    : 0~1에 c존재\n",
            "ab   : 0~2에 ab존재\n",
            "abcd : 0~4에 abcd존재\n",
            "a12  : 0~1에 a존재\n",
            "123  : 문자열에 [a-z]+패턴이 존재하지 않음\n",
            "ABC  : 문자열에 [a-z]+패턴이 존재하지 않음\n"
          ],
          "name": "stdout"
        }
      ]
    },
    {
      "cell_type": "code",
      "metadata": {
        "colab": {
          "base_uri": "https://localhost:8080/"
        },
        "id": "mS2MYZF4GcPQ",
        "outputId": "2f052b1b-06c0-4eb2-87b3-0d705a648d10"
      },
      "source": [
        "# 알파벳 대문자가 없거나 1회 사용된 패턴 찾기\n",
        "dataList = ('', 'F', 'AB', '1C2', '123')\n",
        "printMatch(r'[A-Z]?', dataList)"
      ],
      "execution_count": null,
      "outputs": [
        {
          "output_type": "stream",
          "text": [
            "[A-Z]?\n",
            "    : 0~0에 존재\n",
            "F   : 0~1에 F존재\n",
            "AB  : 0~1에 A존재\n",
            "1C2 : 0~0에 존재\n",
            "123 : 0~0에 존재\n"
          ],
          "name": "stdout"
        }
      ]
    },
    {
      "cell_type": "code",
      "metadata": {
        "colab": {
          "base_uri": "https://localhost:8080/"
        },
        "id": "oU5p5bMRGcMC",
        "outputId": "f0fdbb26-4570-4423-c11a-229fc748e8a5"
      },
      "source": [
        "# 숫자가 3회 연속 사용된 패턴 찾기\n",
        "dataList = ('123', '12345', '12', 'ab1234de')\n",
        "printMatch(r'[0-9]{3}', dataList)"
      ],
      "execution_count": null,
      "outputs": [
        {
          "output_type": "stream",
          "text": [
            "[0-9]{3}\n",
            "123      : 0~3에 123존재\n",
            "12345    : 0~3에 123존재\n",
            "12       : 문자열에 [0-9]{3}패턴이 존재하지 않음\n",
            "ab1234de : 2~5에 123존재\n"
          ],
          "name": "stdout"
        }
      ]
    },
    {
      "cell_type": "code",
      "metadata": {
        "colab": {
          "base_uri": "https://localhost:8080/"
        },
        "id": "hVvy6uGiGgxP",
        "outputId": "ce7c30e2-5dea-42cf-847c-9c86eab4de41"
      },
      "source": [
        "# 숫자가 2회 ~ 4회 연속 사용된 패턴 찾기\n",
        "dataList = ('1', '12', '123', '1234', '12345')\n",
        "printMatch(r'[0-9]{2,4}', dataList)"
      ],
      "execution_count": null,
      "outputs": [
        {
          "output_type": "stream",
          "text": [
            "[0-9]{2,4}\n",
            "1     : 문자열에 [0-9]{2,4}패턴이 존재하지 않음\n",
            "12    : 0~2에 12존재\n",
            "123   : 0~3에 123존재\n",
            "1234  : 0~4에 1234존재\n",
            "12345 : 0~4에 1234존재\n"
          ],
          "name": "stdout"
        }
      ]
    },
    {
      "cell_type": "code",
      "metadata": {
        "colab": {
          "base_uri": "https://localhost:8080/"
        },
        "id": "Jc_g0qfnGh_D",
        "outputId": "73ccf37f-a05c-4131-f95f-227e5cab9a7c"
      },
      "source": [
        "# 숫자가 3회 이상 연속 사용된 패턴 찾기\n",
        "dataList = ('12', '123', '1234', '12345', 'abc1234ef')\n",
        "printMatch(r'[0-9]{3,}', dataList)"
      ],
      "execution_count": null,
      "outputs": [
        {
          "output_type": "stream",
          "text": [
            "[0-9]{3,}\n",
            "12        : 문자열에 [0-9]{3,}패턴이 존재하지 않음\n",
            "123       : 0~3에 123존재\n",
            "1234      : 0~4에 1234존재\n",
            "12345     : 0~5에 12345존재\n",
            "abc1234ef : 3~7에 1234존재\n"
          ],
          "name": "stdout"
        }
      ]
    },
    {
      "cell_type": "code",
      "metadata": {
        "colab": {
          "base_uri": "https://localhost:8080/"
        },
        "id": "IYCHWPhoGi8H",
        "outputId": "9f66f638-528f-4d8e-85d5-69a7fd3e125b"
      },
      "source": [
        "# 숫자가 3회 이하 연속 사용된 패턴 찾기 (0개 포함)\n",
        "dataList = ('abc', '1', '12', '123', '1234', '12345')\n",
        "printMatch(r'[0-9]{,3}', dataList)"
      ],
      "execution_count": null,
      "outputs": [
        {
          "output_type": "stream",
          "text": [
            "[0-9]{,3}\n",
            "abc   : 0~0에 존재\n",
            "1     : 0~1에 1존재\n",
            "12    : 0~2에 12존재\n",
            "123   : 0~3에 123존재\n",
            "1234  : 0~3에 123존재\n",
            "12345 : 0~3에 123존재\n"
          ],
          "name": "stdout"
        }
      ]
    },
    {
      "cell_type": "markdown",
      "metadata": {
        "id": "YV3njGTo88--"
      },
      "source": [
        "### 2-05. 여러 가지 메타 문자\n",
        "- . : 문자 한 개 (\\n은 제외)\n",
        "- ^x : 문자열의 시작이 x\n",
        "- x$ : 문자열의 끝이 x\n",
        "- x | y : x, y 중 하나 (여러 번 나열 가능)\n",
        "   - x | y | z (x, y, z 중 하나)"
      ]
    },
    {
      "cell_type": "code",
      "metadata": {
        "colab": {
          "base_uri": "https://localhost:8080/"
        },
        "id": "gkJhpxOsI-22",
        "outputId": "a5e0bdf0-8ff5-404b-fe45-3781ec5ae327"
      },
      "source": [
        "# a로 시작하고 o로 끝나는데 사이에 2개의 문자가 있는 패턴 검색\n",
        "dataList = ('a12o', 'abco', 'aBo', 'a123o')\n",
        "printMatch(r'a..o', dataList )"
      ],
      "execution_count": null,
      "outputs": [
        {
          "output_type": "stream",
          "text": [
            "a..o\n",
            "a12o  : 0~4에 a12o존재\n",
            "abco  : 0~4에 abco존재\n",
            "aBo   : 문자열에 a..o패턴이 존재하지 않음\n",
            "a123o : 문자열에 a..o패턴이 존재하지 않음\n"
          ],
          "name": "stdout"
        }
      ]
    },
    {
      "cell_type": "code",
      "metadata": {
        "colab": {
          "base_uri": "https://localhost:8080/",
          "height": 52
        },
        "id": "CpJvtz64JUCQ",
        "outputId": "36f80df1-78f1-4fd4-b4a0-e66d036127f8"
      },
      "source": [
        "# \\n이 포함된 패턴을 검색하고 싶다면?\n",
        "ret = re.search('.abc', '\\nabc', re.S)\n",
        "print('result of search .abc :', ret)\n",
        "display(ret.group())"
      ],
      "execution_count": null,
      "outputs": [
        {
          "output_type": "stream",
          "text": [
            "result of search .abc : <_sre.SRE_Match object; span=(0, 4), match='\\nabc'>\n"
          ],
          "name": "stdout"
        },
        {
          "output_type": "display_data",
          "data": {
            "application/vnd.google.colaboratory.intrinsic+json": {
              "type": "string"
            },
            "text/plain": [
              "'\\nabc'"
            ]
          },
          "metadata": {
            "tags": []
          }
        }
      ]
    },
    {
      "cell_type": "code",
      "metadata": {
        "colab": {
          "base_uri": "https://localhost:8080/"
        },
        "id": "aGewmX_7Jh5k",
        "outputId": "de7e4716-6684-4ecd-acb1-63dee287e78a"
      },
      "source": [
        "# 1개 이상의 알파벳 소문자로 시작되는 패턴에서 '알파벳 소문자' 검색\n",
        "dataList = ('a12', 'kbs', '123a', 'KBstar')\n",
        "printMatch(r'^[a-z]+', dataList)"
      ],
      "execution_count": null,
      "outputs": [
        {
          "output_type": "stream",
          "text": [
            "^[a-z]+\n",
            "a12    : 0~1에 a존재\n",
            "kbs    : 0~3에 kbs존재\n",
            "123a   : 문자열에 ^[a-z]+패턴이 존재하지 않음\n",
            "KBstar : 문자열에 ^[a-z]+패턴이 존재하지 않음\n"
          ],
          "name": "stdout"
        }
      ]
    },
    {
      "cell_type": "code",
      "metadata": {
        "colab": {
          "base_uri": "https://localhost:8080/"
        },
        "id": "ebF1TATBJh2l",
        "outputId": "17781a13-df1c-4a0f-87d9-3067304392b1"
      },
      "source": [
        "# 1개 이상의 숫자로 끝나는 패턴에서 '숫자' 검색\n",
        "dataList = ('ab123', 'UP3', 'a12b')\n",
        "printMatch(r'[0-9]+$', dataList)"
      ],
      "execution_count": null,
      "outputs": [
        {
          "output_type": "stream",
          "text": [
            "[0-9]+$\n",
            "ab123 : 2~5에 123존재\n",
            "UP3   : 2~3에 3존재\n",
            "a12b  : 문자열에 [0-9]+$패턴이 존재하지 않음\n"
          ],
          "name": "stdout"
        }
      ]
    },
    {
      "cell_type": "code",
      "metadata": {
        "colab": {
          "base_uri": "https://localhost:8080/"
        },
        "id": "C1E0FFnMLG5l",
        "outputId": "7895c468-1829-41f1-a373-feab18575232"
      },
      "source": [
        "# abc 또는 123 패턴 찾기\n",
        "dataList = ('abcdef', '-1234-', '12431', 'axybz')\n",
        "printMatch(r'abc|123', dataList)  # | => or"
      ],
      "execution_count": null,
      "outputs": [
        {
          "output_type": "stream",
          "text": [
            "abc|123\n",
            "abcdef : 0~3에 abc존재\n",
            "-1234- : 1~4에 123존재\n",
            "12431  : 문자열에 abc|123패턴이 존재하지 않음\n",
            "axybz  : 문자열에 abc|123패턴이 존재하지 않음\n"
          ],
          "name": "stdout"
        }
      ]
    },
    {
      "cell_type": "markdown",
      "metadata": {
        "id": "Mo-noQF1Yyhw"
      },
      "source": [
        "### 2-06. 그룹 관련 메타 문자\n",
        "- ( x ) : ( ) 안의 내용을 그룹화 하고 내용이 캡처됨, 그룹 번호 1번부터 부여\n",
        "- \\1...\\99 : 캡쳐 된 그룹 1번 ~ 99번 사용\n",
        "- (?:x) : 그룹으로 인정되지만, 캡처 및 그룹번호 부여되지 않음\n",
        "- ```(?P<name>x)``` : ( ) 안의 내용을 그룹화하고 내용을 캡쳐함.  그룹의 이름을 지정\n",
        "   - 사용시 'name'으로 사용 (예) match.group('name')\n",
        "   - 그룹 번호로도 사용할 수 있음 (위치에 따른 번호)\n",
        "- 캡처 : 저장되는 것을 의미하며, 후에 그룹번호를 사용해 꺼내 사용 가능함\n",
        "- 다른 메타 문자 종류는 ```re.__doc__``` 를 사용하도록 한다\n"
      ]
    },
    {
      "cell_type": "code",
      "metadata": {
        "colab": {
          "base_uri": "https://localhost:8080/"
        },
        "id": "71CevjQeFsrH",
        "outputId": "802a08b9-7cbf-470b-d88b-7e96e60ec256"
      },
      "source": [
        "import re\n",
        "# 1. 숫자 그룹 => 숫자 3글자\n",
        "# 2. 구분 기호 그룹 => : 또는 - 또는 공백 문자가 있을 수 있으며, 그룹 지정\n",
        "# 3. 그룹번호 부여하지 않는 숫자 그룹 => 숫자 3글자 또는 4글자 \n",
        "# 4. 2번에서 사용된 구분 기호 => 첫 번째 구분 기호와 동일한 것을 사용함\n",
        "# 5. 이름을 pnum으로 갖는 숫자 그룹 => 숫자 4글자\n",
        "pattern = re.compile(r'([0-9]{3})(:|-| )(?:[0-9]{3,4})\\2(?P<pnum>[0-9]{4})')    # '010'   '-'\n",
        "mc = re.search(pattern, '010-123-4567')\n",
        "if mc :\n",
        "    print('{}~{}에 {}존재'.format(mc.start(), mc.end(), mc.group()))\n",
        "    for x in mc.groups():\n",
        "        print(x)\n",
        "    print(mc.group(3), mc.group('pnum'))\n",
        "else:\n",
        "    print('문자열에 패턴이 존재하지 않음')"
      ],
      "execution_count": null,
      "outputs": [
        {
          "output_type": "stream",
          "text": [
            "0~12에 010-123-4567존재\n",
            "010\n",
            "-\n",
            "4567\n",
            "4567 4567\n"
          ],
          "name": "stdout"
        }
      ]
    },
    {
      "cell_type": "code",
      "metadata": {
        "id": "AYhChJksAWW1",
        "colab": {
          "base_uri": "https://localhost:8080/"
        },
        "outputId": "57ca32a3-6955-4acb-f9b9-2cb36539f68f"
      },
      "source": [
        "print(re.__doc__)"
      ],
      "execution_count": null,
      "outputs": [
        {
          "output_type": "stream",
          "text": [
            "Support for regular expressions (RE).\n",
            "\n",
            "This module provides regular expression matching operations similar to\n",
            "those found in Perl.  It supports both 8-bit and Unicode strings; both\n",
            "the pattern and the strings being processed can contain null bytes and\n",
            "characters outside the US ASCII range.\n",
            "\n",
            "Regular expressions can contain both special and ordinary characters.\n",
            "Most ordinary characters, like \"A\", \"a\", or \"0\", are the simplest\n",
            "regular expressions; they simply match themselves.  You can\n",
            "concatenate ordinary characters, so last matches the string 'last'.\n",
            "\n",
            "The special characters are:\n",
            "    \".\"      Matches any character except a newline.\n",
            "    \"^\"      Matches the start of the string.\n",
            "    \"$\"      Matches the end of the string or just before the newline at\n",
            "             the end of the string.\n",
            "    \"*\"      Matches 0 or more (greedy) repetitions of the preceding RE.\n",
            "             Greedy means that it will match as many repetitions as possible.\n",
            "    \"+\"      Matches 1 or more (greedy) repetitions of the preceding RE.\n",
            "    \"?\"      Matches 0 or 1 (greedy) of the preceding RE.\n",
            "    *?,+?,?? Non-greedy versions of the previous three special characters.\n",
            "    {m,n}    Matches from m to n repetitions of the preceding RE.\n",
            "    {m,n}?   Non-greedy version of the above.\n",
            "    \"\\\\\"     Either escapes special characters or signals a special sequence.\n",
            "    []       Indicates a set of characters.\n",
            "             A \"^\" as the first character indicates a complementing set.\n",
            "    \"|\"      A|B, creates an RE that will match either A or B.\n",
            "    (...)    Matches the RE inside the parentheses.\n",
            "             The contents can be retrieved or matched later in the string.\n",
            "    (?aiLmsux) Set the A, I, L, M, S, U, or X flag for the RE (see below).\n",
            "    (?:...)  Non-grouping version of regular parentheses.\n",
            "    (?P<name>...) The substring matched by the group is accessible by name.\n",
            "    (?P=name)     Matches the text matched earlier by the group named name.\n",
            "    (?#...)  A comment; ignored.\n",
            "    (?=...)  Matches if ... matches next, but doesn't consume the string.\n",
            "    (?!...)  Matches if ... doesn't match next.\n",
            "    (?<=...) Matches if preceded by ... (must be fixed length).\n",
            "    (?<!...) Matches if not preceded by ... (must be fixed length).\n",
            "    (?(id/name)yes|no) Matches yes pattern if the group with id/name matched,\n",
            "                       the (optional) no pattern otherwise.\n",
            "\n",
            "The special sequences consist of \"\\\\\" and a character from the list\n",
            "below.  If the ordinary character is not on the list, then the\n",
            "resulting RE will match the second character.\n",
            "    \\number  Matches the contents of the group of the same number.\n",
            "    \\A       Matches only at the start of the string.\n",
            "    \\Z       Matches only at the end of the string.\n",
            "    \\b       Matches the empty string, but only at the start or end of a word.\n",
            "    \\B       Matches the empty string, but not at the start or end of a word.\n",
            "    \\d       Matches any decimal digit; equivalent to the set [0-9] in\n",
            "             bytes patterns or string patterns with the ASCII flag.\n",
            "             In string patterns without the ASCII flag, it will match the whole\n",
            "             range of Unicode digits.\n",
            "    \\D       Matches any non-digit character; equivalent to [^\\d].\n",
            "    \\s       Matches any whitespace character; equivalent to [ \\t\\n\\r\\f\\v] in\n",
            "             bytes patterns or string patterns with the ASCII flag.\n",
            "             In string patterns without the ASCII flag, it will match the whole\n",
            "             range of Unicode whitespace characters.\n",
            "    \\S       Matches any non-whitespace character; equivalent to [^\\s].\n",
            "    \\w       Matches any alphanumeric character; equivalent to [a-zA-Z0-9_]\n",
            "             in bytes patterns or string patterns with the ASCII flag.\n",
            "             In string patterns without the ASCII flag, it will match the\n",
            "             range of Unicode alphanumeric characters (letters plus digits\n",
            "             plus underscore).\n",
            "             With LOCALE, it will match the set [0-9_] plus characters defined\n",
            "             as letters for the current locale.\n",
            "    \\W       Matches the complement of \\w.\n",
            "    \\\\       Matches a literal backslash.\n",
            "\n",
            "This module exports the following functions:\n",
            "    match     Match a regular expression pattern to the beginning of a string.\n",
            "    fullmatch Match a regular expression pattern to all of a string.\n",
            "    search    Search a string for the presence of a pattern.\n",
            "    sub       Substitute occurrences of a pattern found in a string.\n",
            "    subn      Same as sub, but also return the number of substitutions made.\n",
            "    split     Split a string by the occurrences of a pattern.\n",
            "    findall   Find all occurrences of a pattern in a string.\n",
            "    finditer  Return an iterator yielding a match object for each match.\n",
            "    compile   Compile a pattern into a RegexObject.\n",
            "    purge     Clear the regular expression cache.\n",
            "    escape    Backslash all non-alphanumerics in a string.\n",
            "\n",
            "Some of the functions in this module takes flags as optional parameters:\n",
            "    A  ASCII       For string patterns, make \\w, \\W, \\b, \\B, \\d, \\D\n",
            "                   match the corresponding ASCII character categories\n",
            "                   (rather than the whole Unicode categories, which is the\n",
            "                   default).\n",
            "                   For bytes patterns, this flag is the only available\n",
            "                   behaviour and needn't be specified.\n",
            "    I  IGNORECASE  Perform case-insensitive matching.\n",
            "    L  LOCALE      Make \\w, \\W, \\b, \\B, dependent on the current locale.\n",
            "    M  MULTILINE   \"^\" matches the beginning of lines (after a newline)\n",
            "                   as well as the string.\n",
            "                   \"$\" matches the end of lines (before a newline) as well\n",
            "                   as the end of the string.\n",
            "    S  DOTALL      \".\" matches any character at all, including the newline.\n",
            "    X  VERBOSE     Ignore whitespace and comments for nicer looking RE's.\n",
            "    U  UNICODE     For compatibility only. Ignored for string patterns (it\n",
            "                   is the default), and forbidden for bytes patterns.\n",
            "\n",
            "This module also defines an exception 'error'.\n",
            "\n",
            "\n"
          ],
          "name": "stdout"
        }
      ]
    },
    {
      "cell_type": "markdown",
      "metadata": {
        "id": "ZSKiOE_pLnDy"
      },
      "source": [
        "### 2-07. Special Sequences 1\n",
        "- \\d : 숫자 한 개 == [0-9]\n",
        "- \\D : \\d가 아닌 문자 한 개 == [^0-9]\n",
        "- \\w : 숫자 + 문자(알파벳, 한글 등) + _ == [가-힣a-zA-Z0-9_] (이름 작성에 사용 가능한 문자)\n",
        "- \\W : \\w가 아닌 문자 == [^가-힣a-zA-Z0-9_]\n",
        "- \\s : 화이트스페이스 문자 == [ \\t\\n\\r\\f\\v]  (space 포함)\n",
        "- \\S : \\s가 아닌 문자 == [^ \\t\\n\\r\\f\\v]\n",
        "- ```\\^``` : 메타문자 '^'를 일반 문자로 취급\n",
        "- \\A : 문자열의 시작부터 매치되는 문자열을 찾음\n",
        "- \\Z : 문자열의 끝부터 매치되는 문자열을 찾음\n",
        "   - \\A, \\Z는 여러 줄 문자열도 1개의 문자열로 취급함\n"
      ]
    },
    {
      "cell_type": "code",
      "metadata": {
        "id": "HBwFTyiSRfhP"
      },
      "source": [
        "^ $ : 여러줄 문자열인 경우 옵션에 따라서 여러 줄을 각 줄로 나누어서 사용, 하나의 문자열로 사용\n",
        "\\A, \\Z : 여러줄 문자열인 경우 항상 하나의 문자열로 사용"
      ],
      "execution_count": null,
      "outputs": []
    },
    {
      "cell_type": "code",
      "metadata": {
        "colab": {
          "base_uri": "https://localhost:8080/"
        },
        "id": "4UMu56LqMwgv",
        "outputId": "2dacb6bf-725d-40d1-b5dc-f4a34eb88313"
      },
      "source": [
        "# 숫자 1개 + 이름 작성에 사용 가능 문자 1개 + 이름 작성에 사용 불가한 문자 1개 +\n",
        "#     화이트스페이스문자(=공백문자) 1개 + 숫자 아닌 문자 1개\n",
        "dataList = ('123_* ab',)\n",
        "printMatch(r'\\d\\w\\W\\s\\D', dataList)"
      ],
      "execution_count": null,
      "outputs": [
        {
          "output_type": "stream",
          "text": [
            "\\d\\w\\W\\s\\D\n",
            "123_* ab : 2~7에 3_* a존재\n"
          ],
          "name": "stdout"
        }
      ]
    },
    {
      "cell_type": "code",
      "metadata": {
        "colab": {
          "base_uri": "https://localhost:8080/"
        },
        "id": "GysNHxLV62LU",
        "outputId": "95c57c9b-69da-4038-8120-df0a86e54e9b"
      },
      "source": [
        "# 숫자1글자 이상 + (공백문자 1개 있거나 없거나) + ^ + (공백문자 0개 이상) + 숫자 1글자 이상 검색\n",
        "dataList = ('a = 12^3 * 4', '2 ^345', '8 ^ 2')\n",
        "printMatch(r'\\d+\\s?\\^\\s*\\d+', dataList)"
      ],
      "execution_count": null,
      "outputs": [
        {
          "output_type": "stream",
          "text": [
            "\\d+\\s?\\^\\s*\\d+\n",
            "a = 12     ^3 * 4 : 문자열에 \\d+\\s?\\^\\s*\\d+패턴이 존재하지 않음\n",
            "2 ^345            : 0~6에 2 ^345존재\n",
            "8 ^ 2             : 0~5에 8 ^ 2존재\n"
          ],
          "name": "stdout"
        }
      ]
    },
    {
      "cell_type": "code",
      "metadata": {
        "id": "7CVAiC_4QC9e"
      },
      "source": [
        "import re\n",
        "\n",
        "data = '''There is no mistaking\n",
        "There is a real book\n",
        "It is like falling in love\n",
        "A true love'''"
      ],
      "execution_count": null,
      "outputs": []
    },
    {
      "cell_type": "code",
      "metadata": {
        "colab": {
          "base_uri": "https://localhost:8080/"
        },
        "id": "qoIRWza6RWqe",
        "outputId": "7212aa94-2ddb-4b21-ffa1-dc8b77b08cf7"
      },
      "source": [
        "print(re.search(r'^There', data)) \n",
        "print(re.search(r'love$', data))\n",
        "print(re.search(r'^There', data, re.M))\n",
        "print(re.search(r'love$', data, re.M))"
      ],
      "execution_count": null,
      "outputs": [
        {
          "output_type": "stream",
          "text": [
            "<_sre.SRE_Match object; span=(0, 5), match='There'>\n",
            "<_sre.SRE_Match object; span=(77, 81), match='love'>\n",
            "<_sre.SRE_Match object; span=(0, 5), match='There'>\n",
            "<_sre.SRE_Match object; span=(65, 69), match='love'>\n"
          ],
          "name": "stdout"
        }
      ]
    },
    {
      "cell_type": "code",
      "metadata": {
        "colab": {
          "base_uri": "https://localhost:8080/"
        },
        "id": "-liYqZ36RVy0",
        "outputId": "9fb65a75-f228-4999-f760-e7e94c658432"
      },
      "source": [
        "print(re.search(r'\\AThere', data))\n",
        "print(re.search(r'love\\Z', data))\n",
        "print(re.search(r'\\AThere', data, re.M))\n",
        "print(re.search(r'love\\Z', data, re.M))"
      ],
      "execution_count": null,
      "outputs": [
        {
          "output_type": "stream",
          "text": [
            "<_sre.SRE_Match object; span=(0, 5), match='There'>\n",
            "<_sre.SRE_Match object; span=(77, 81), match='love'>\n",
            "<_sre.SRE_Match object; span=(0, 5), match='There'>\n",
            "<_sre.SRE_Match object; span=(77, 81), match='love'>\n"
          ],
          "name": "stdout"
        }
      ]
    },
    {
      "cell_type": "code",
      "metadata": {
        "colab": {
          "base_uri": "https://localhost:8080/"
        },
        "id": "Fzl6JFrvRlDY",
        "outputId": "11abbdde-0a0f-47ae-9b80-64a5f03859ca"
      },
      "source": [
        "print(re.findall(r'^There', data))\n",
        "print(re.findall(r'love$', data))\n",
        "print(re.findall(r'^There', data, re.M))\n",
        "print(re.findall(r'love$', data, re.M))"
      ],
      "execution_count": null,
      "outputs": [
        {
          "output_type": "stream",
          "text": [
            "['There']\n",
            "['love']\n",
            "['There', 'There']\n",
            "['love', 'love']\n"
          ],
          "name": "stdout"
        }
      ]
    },
    {
      "cell_type": "code",
      "metadata": {
        "colab": {
          "base_uri": "https://localhost:8080/"
        },
        "id": "vVcGRB2fG68T",
        "outputId": "6fc00340-a7de-4ae1-bb96-44c88f9400eb"
      },
      "source": [
        "print(re.findall(r'\\AThere', data))\n",
        "print(re.findall(r'love\\Z', data))\n",
        "print(re.findall(r'\\AThere', data, re.M))\n",
        "print(re.findall(r'love\\Z', data, re.M))"
      ],
      "execution_count": null,
      "outputs": [
        {
          "output_type": "stream",
          "text": [
            "['There']\n",
            "['love']\n",
            "['There']\n",
            "['love']\n"
          ],
          "name": "stdout"
        }
      ]
    },
    {
      "cell_type": "markdown",
      "metadata": {
        "id": "Frr7p9B5E0re"
      },
      "source": [
        "### 2-08. Special Sequences 2\n",
        "- matches empty string\n",
        "- \\b : boundry - \\w와 \\W의 사이를 의미함(단어의 경계)\n",
        "   - 단어의 시작 또는 끝에서 매치되는 것을 찾음   \n",
        "   - 맨 앞에 사용할 경우 단어의 시작\n",
        "   - 맨 뒤에 사용할 경우 단어의 끝\n",
        "- \\B : boundry가 아닌 것\n",
        "   - 단어의 시작 또는 끝이 아닌 곳에서 매치되는 것을 찾음\n",
        "   - 맨 앞에 사용할 경우 단어의 시작이 아닌 것\n",
        "   - 맨 뒤에 사용할 경우 단어의 끝이 아닌 것 \n",
        "- 특이사항   \n",
        "   - \\b, \\B는 패턴의 맨 앞, 뒤에 사용함\n",
        "   - \\b, \\B는 \\w(워드문자)가 아닌 문자를 구분문자로 취급함\n",
        "   "
      ]
    },
    {
      "cell_type": "code",
      "metadata": {
        "id": "wW1J3eGUU37q"
      },
      "source": [
        "import re\n",
        "\n",
        "def printMatch2(pstr, data):\n",
        "    mc = re.finditer(pstr, data)\n",
        "    print(pstr)\n",
        "    print( [[x.span(), x.group()] for x in mc ])"
      ],
      "execution_count": null,
      "outputs": []
    },
    {
      "cell_type": "code",
      "metadata": {
        "colab": {
          "base_uri": "https://localhost:8080/"
        },
        "id": "xJfWymqDTh8n",
        "outputId": "dc70340f-1c10-4474-e95e-ddbef6498eb7"
      },
      "source": [
        "data = 'picked peck opic? 123pie 456.pie pickeds.'\n",
        "# pi가 포함된 모든 문자열 : r'pi'\n",
        "# 단어의 시작이 pi인 것 : r'\\bpi' \n",
        "print(data)\n",
        "printMatch2(r'pi', data)\n",
        "printMatch2(r'\\bpi', data)"
      ],
      "execution_count": null,
      "outputs": [
        {
          "output_type": "stream",
          "text": [
            "picked peck opic? 123pie 456.pie pickeds.\n",
            "pi\n",
            "[[(0, 2), 'pi'], [(13, 15), 'pi'], [(21, 23), 'pi'], [(29, 31), 'pi'], [(33, 35), 'pi']]\n",
            "\\bpi\n",
            "[[(0, 2), 'pi'], [(29, 31), 'pi'], [(33, 35), 'pi']]\n"
          ],
          "name": "stdout"
        }
      ]
    },
    {
      "cell_type": "code",
      "metadata": {
        "id": "uLLeRkhavR9Y"
      },
      "source": [
        "data = 'picked peck opic? picked. pickeds.'\n",
        "print(data)\n",
        "# p로 시작하는 단어이면서, ed로 끝나는 모든 것 - r'\\bp\\w+ed'\n",
        "# p로 시작하고, ed로 끝나는 단어 - r'\\bp\\w+ed\\b'\n",
        "\n",
        "# 경계 + p + 워드문자 1개 이상 + ed\n",
        "printMatch2(r'\\bp\\w+ed', data)\n",
        "# 경계 + p + 워드문자 1개 이상 + ed + 경계\n",
        "printMatch2(r'\\bp\\w+ed\\b', data)"
      ],
      "execution_count": null,
      "outputs": []
    },
    {
      "cell_type": "code",
      "metadata": {
        "colab": {
          "base_uri": "https://localhost:8080/"
        },
        "id": "MeWG052eNncN",
        "outputId": "04360604-a0fc-49e1-94ec-1d3cd3f9967c"
      },
      "source": [
        "data = 'picked peck opic? 123.pie pickeds. a....bcd'\n",
        "print(data)\n",
        "# 경계가 아닌 것 + 워드 문자 1개 이상 + 경계가 아닌 것\n",
        "printMatch2(r'\\B\\w+\\B', data)"
      ],
      "execution_count": null,
      "outputs": [
        {
          "output_type": "stream",
          "text": [
            "picked peck opic? 123.pie pickeds. a....bcd\n",
            "\\B\\w+\\B\n",
            "[[(1, 5), 'icke'], [(8, 10), 'ec'], [(13, 15), 'pi'], [(19, 20), '2'], [(23, 24), 'i'], [(27, 32), 'icked'], [(41, 42), 'c']]\n"
          ],
          "name": "stdout"
        }
      ]
    },
    {
      "cell_type": "code",
      "metadata": {
        "colab": {
          "base_uri": "https://localhost:8080/"
        },
        "id": "hAAauaDwW_4j",
        "outputId": "97c96b37-3687-4145-d880-ac8828652d06"
      },
      "source": [
        "data = 'picked peck pickled opic? 123pied edps'\n",
        "# 경계가 아닌 것이 앞에 있고 ed가 있는\n",
        "# 단어의 시작이 ed가 아닌, ed를 찾기\n",
        "printMatch2(r'\\B\\w+', data)\n",
        "printMatch2(r'\\Bed', data)"
      ],
      "execution_count": null,
      "outputs": [
        {
          "output_type": "stream",
          "text": [
            "\\B\\w+\n",
            "[[(1, 6), 'icked'], [(8, 11), 'eck'], [(13, 19), 'ickled'], [(21, 24), 'pic'], [(27, 33), '23pied'], [(35, 38), 'dps']]\n",
            "\\Bed\n",
            "[[(4, 6), 'ed'], [(17, 19), 'ed'], [(31, 33), 'ed']]\n"
          ],
          "name": "stdout"
        }
      ]
    },
    {
      "cell_type": "code",
      "metadata": {
        "colab": {
          "base_uri": "https://localhost:8080/"
        },
        "id": "y1Hf7On4fCGQ",
        "outputId": "98823a2c-ec7e-4934-8ca8-ef8848ede3c0"
      },
      "source": [
        "data = 'picked peck pickled opic? 123pied'\n",
        "# pic가 있고 경계가 아닌 것이 뒤에 있는\n",
        "# pic로 끝나지 않는 pic 검색\n",
        "printMatch2(r'\\w+\\B', data)\n",
        "printMatch2(r'pic\\B', data)"
      ],
      "execution_count": null,
      "outputs": [
        {
          "output_type": "stream",
          "text": [
            "\\w+\\B\n",
            "[[(0, 5), 'picke'], [(7, 10), 'pec'], [(12, 18), 'pickle'], [(20, 23), 'opi'], [(26, 32), '123pie']]\n",
            "pic\\B\n",
            "[[(0, 3), 'pic'], [(12, 15), 'pic']]\n"
          ],
          "name": "stdout"
        }
      ]
    },
    {
      "cell_type": "code",
      "metadata": {
        "colab": {
          "base_uri": "https://localhost:8080/"
        },
        "id": "5CJNYK1g4-FV",
        "outputId": "7b849947-6886-4949-f2ab-f97fd90fd5b7"
      },
      "source": [
        "data = 'picked opic? 123.pie are good!! apickeds.'\n",
        "print(data)\n",
        "# word문자 1개 이상으로 시작하는 단어이면서 그 뒤로 [!?.] 중 하나 이상이 포함된\n",
        "printMatch2(r'\\b\\w+[!?.]+', data)"
      ],
      "execution_count": null,
      "outputs": [
        {
          "output_type": "stream",
          "text": [
            "picked opic? 123.pie are good!! apickeds.\n",
            "\\b\\w+[!?.]+\n",
            "[[(7, 12), 'opic?'], [(13, 17), '123.'], [(25, 31), 'good!!'], [(32, 41), 'apickeds.']]\n"
          ],
          "name": "stdout"
        }
      ]
    },
    {
      "cell_type": "code",
      "metadata": {
        "colab": {
          "base_uri": "https://localhost:8080/"
        },
        "id": "LI-T6dK8fGeY",
        "outputId": "724fd9ec-a650-406a-b448-1d122007187e"
      },
      "source": [
        "data = 'picked opic? 123.pie are good!! apickeds.'\n",
        "# word문자 1개 이상으로 시작하는 단어이면서 [!?.] 중 하나 이상이 포함되었지만 끝나지 않는\n",
        "# [!?.] -> 단어문자가 아님\n",
        "printMatch2(r'\\b\\w+[!?.]+\\B', data)"
      ],
      "execution_count": null,
      "outputs": [
        {
          "output_type": "stream",
          "text": [
            "\\b\\w+[!?.]+\\B\n",
            "[[(7, 12), 'opic?'], [(25, 31), 'good!!'], [(32, 41), 'apickeds.']]\n"
          ],
          "name": "stdout"
        }
      ]
    },
    {
      "cell_type": "code",
      "metadata": {
        "id": "4SawNi5P7xtN"
      },
      "source": [
        "## -----------  동영상 강의는 여기까지 진행되었습니다. --------------------"
      ],
      "execution_count": null,
      "outputs": []
    },
    {
      "cell_type": "markdown",
      "metadata": {
        "id": "_xV4kKOTG03V"
      },
      "source": [
        "### 2-09. 패턴 작성 연습 1"
      ]
    },
    {
      "cell_type": "code",
      "metadata": {
        "id": "JfOGsTQSvB7E"
      },
      "source": [
        "import re\n",
        "\n",
        "def printMatch(pstr, data):\n",
        "    print(pstr)\n",
        "    for x in data :\n",
        "        mc = re.search(pstr, x)\n",
        "        maxLen = max(len(x) for x in data)\n",
        "        if mc :\n",
        "            print(f'{x:{maxLen}} : {mc.start()}~{mc.end()}에 {mc.group()}존재') \n",
        "        else:\n",
        "            print(f'{x:{maxLen}} : 문자열에 {pstr}패턴이 존재하지 않음')"
      ],
      "execution_count": null,
      "outputs": []
    },
    {
      "cell_type": "code",
      "metadata": {
        "id": "3e7o_dP_IOQw",
        "colab": {
          "base_uri": "https://localhost:8080/"
        },
        "outputId": "adc39154-dba0-4c81-95ae-bed31af3170b"
      },
      "source": [
        "data = ('birthday:1990-12-12', 'birthday1990-12-12', '93-6-30', 'a-b-c')\n",
        "# 경계문자 + 숫자1개이상 + '-' + 숫자1개이상 + '-' + 숫자1개이상 + 경계문자\n",
        "printMatch(r'\\b\\d+-\\d+-\\d+\\b',  data)"
      ],
      "execution_count": null,
      "outputs": [
        {
          "output_type": "stream",
          "text": [
            "\\b\\d+-\\d+-\\d+\\b\n",
            "birthday:1990-12-12 : 9~19에 1990-12-12존재\n",
            "birthday1990-12-12  : 문자열에 \\b\\d+-\\d+-\\d+\\b패턴이 존재하지 않음\n",
            "93-6-30             : 0~7에 93-6-30존재\n",
            "a-b-c               : 문자열에 \\b\\d+-\\d+-\\d+\\b패턴이 존재하지 않음\n"
          ],
          "name": "stdout"
        }
      ]
    },
    {
      "cell_type": "code",
      "metadata": {
        "id": "md9asVO6M_2D",
        "colab": {
          "base_uri": "https://localhost:8080/"
        },
        "outputId": "c159a5a8-1139-4967-eedc-93343b99528a"
      },
      "source": [
        "data = ('A:123-123-1234', '123-1234-1234', 'C:12-34-5678')\n",
        "# 경계문자 + 숫자3개 + '-' + 숫자3~4개 + '-' + 숫자4개 + 경계문자\n",
        "printMatch(r'\\b\\d{3}-\\d{3,4}-\\d{4}\\b',  data)"
      ],
      "execution_count": null,
      "outputs": [
        {
          "output_type": "stream",
          "text": [
            "\\b\\d{3}-\\d{3,4}-\\d{4}\\b\n",
            "A:123-123-1234 : 2~14에 123-123-1234존재\n",
            "123-1234-1234  : 0~13에 123-1234-1234존재\n",
            "C:12-34-5678   : 문자열에 \\b\\d{3}-\\d{3,4}-\\d{4}\\b패턴이 존재하지 않음\n"
          ],
          "name": "stdout"
        }
      ]
    },
    {
      "cell_type": "code",
      "metadata": {
        "id": "faJ-SsF3NXWr",
        "colab": {
          "base_uri": "https://localhost:8080/"
        },
        "outputId": "2b7578ca-9524-4fb7-8efa-4ef97c2a8377"
      },
      "source": [
        "data = ('phone:010-123-1234', 'phone010-123-1234','018-1234-1234', '001-567-9876')\n",
        "# 경계문자 + (010 011 012 016 017 018 019 중 1개) + '-' + 숫자3~4개 + '-' + 숫자4개 + 경계문자\n",
        "printMatch(r'\\b01[0-26-9]-\\d{3,4}-\\d{4}\\b',  data)"
      ],
      "execution_count": null,
      "outputs": [
        {
          "output_type": "stream",
          "text": [
            "\\b01[0-26-9]-\\d{3,4}-\\d{4}\\b\n",
            "phone:010-123-1234 : 6~18에 010-123-1234존재\n",
            "phone010-123-1234  : 문자열에 \\b01[0-26-9]-\\d{3,4}-\\d{4}\\b패턴이 존재하지 않음\n",
            "018-1234-1234      : 0~13에 018-1234-1234존재\n",
            "001-567-9876       : 문자열에 \\b01[0-26-9]-\\d{3,4}-\\d{4}\\b패턴이 존재하지 않음\n"
          ],
          "name": "stdout"
        }
      ]
    },
    {
      "cell_type": "markdown",
      "metadata": {
        "id": "rUgB240pOLdU"
      },
      "source": [
        "### 2-10. 패턴 작성 연습 2"
      ]
    },
    {
      "cell_type": "code",
      "metadata": {
        "id": "PHG9aEJyO_dA",
        "colab": {
          "base_uri": "https://localhost:8080/"
        },
        "outputId": "d26c10bb-c447-4435-c62f-af5127b53bfa"
      },
      "source": [
        "# so를 3 ~ 5회 반복 - greedy (큰 횟수)\n",
        "data = ('sososo', 'sosososo', 'sososososo', 'soso')\n",
        "printMatch(r'(so){3,5}', data)"
      ],
      "execution_count": null,
      "outputs": [
        {
          "output_type": "stream",
          "text": [
            "(so){3,5}\n",
            "sososo     : 0~6에 sososo존재\n",
            "sosososo   : 0~8에 sosososo존재\n",
            "sososososo : 0~10에 sososososo존재\n",
            "soso       : 문자열에 (so){3,5}패턴이 존재하지 않음\n"
          ],
          "name": "stdout"
        }
      ]
    },
    {
      "cell_type": "code",
      "metadata": {
        "id": "fdcRN05QVVPA",
        "colab": {
          "base_uri": "https://localhost:8080/"
        },
        "outputId": "49abfb22-e5f1-4b69-8c98-948b86905e5a"
      },
      "source": [
        "# so를 3 ~ 5회 반복 - non-greedy (작은 횟수)\n",
        "data = ('sososo', 'sosososo', 'sososososo', 'soso')\n",
        "printMatch(r'(so){3,5}?', data)"
      ],
      "execution_count": null,
      "outputs": [
        {
          "output_type": "stream",
          "text": [
            "(so){3,5}?\n",
            "sososo     : 0~6에 sososo존재\n",
            "sosososo   : 0~6에 sososo존재\n",
            "sososososo : 0~6에 sososo존재\n",
            "soso       : 문자열에 (so){3,5}?패턴이 존재하지 않음\n"
          ],
          "name": "stdout"
        }
      ]
    },
    {
      "cell_type": "code",
      "metadata": {
        "id": "_w9y3hvoVWEX",
        "colab": {
          "base_uri": "https://localhost:8080/"
        },
        "outputId": "74321626-bd01-4f66-eb04-c3830e84be99"
      },
      "source": [
        "# sa 또는 so 를 3회~4회 반복\n",
        "data = ('sasasa', 'sososo', 'sasosa', 'sososososo', 'sasasasaso', 'soso')\n",
        "printMatch(r'(sa|so){3,4}', data)"
      ],
      "execution_count": null,
      "outputs": [
        {
          "output_type": "stream",
          "text": [
            "(sa|so){3,4}\n",
            "sasasa     : 0~6에 sasasa존재\n",
            "sososo     : 0~6에 sososo존재\n",
            "sasosa     : 0~6에 sasosa존재\n",
            "sososososo : 0~8에 sosososo존재\n",
            "sasasasaso : 0~8에 sasasasa존재\n",
            "soso       : 문자열에 (sa|so){3,4}패턴이 존재하지 않음\n"
          ],
          "name": "stdout"
        }
      ]
    },
    {
      "cell_type": "code",
      "metadata": {
        "id": "BxPwHGrCVW7o",
        "colab": {
          "base_uri": "https://localhost:8080/"
        },
        "outputId": "d279357f-265d-4e9f-fe93-29c2b54e08a0"
      },
      "source": [
        "# 숫자 1개 이상으로 이루어진 문자열 (숫자만으로 이루어진 문자열)\n",
        "data = ('1', '12', '1234', '12ab34', '12 34')\n",
        "printMatch(r'^\\d+$', data)"
      ],
      "execution_count": null,
      "outputs": [
        {
          "output_type": "stream",
          "text": [
            "^\\d+$\n",
            "1      : 0~1에 1존재\n",
            "12     : 0~2에 12존재\n",
            "1234   : 0~4에 1234존재\n",
            "12ab34 : 문자열에 ^\\d+$패턴이 존재하지 않음\n",
            "12 34  : 문자열에 ^\\d+$패턴이 존재하지 않음\n"
          ],
          "name": "stdout"
        }
      ]
    },
    {
      "cell_type": "markdown",
      "metadata": {
        "id": "9WPVRlxXXKmT"
      },
      "source": [
        "## 3.탐색 함수"
      ]
    },
    {
      "cell_type": "markdown",
      "metadata": {
        "id": "xuDcudqyXOW_"
      },
      "source": [
        "### 3-01. 탐색 함수 종류\n",
        "- re.findall(패턴, 문자열) \n",
        "   - 매치하는 모든 패턴을 겹치지 않게 탐색하여 **list 객체** 반환\n",
        "- re.finditer(패턴, 문자열)\n",
        "   - findall()과 같은 동작이며, **Match iterator 객체** 반환\n",
        "- re.search(패턴, 문자열)\n",
        "   - 문자열의 임의 지점에서 패턴과 매치하는 텍스트 탐색, Match 객체 반환\n",
        "- re.match(패턴, 문자열)\n",
        "   - 문자열의 시작지점에서 패턴과 매치하는 텍스트 탐색, Match 객체 반환\n",
        "- re.fullmatch(패턴, 문자열)\n",
        "   - 문자열과 패턴이 전체 매치하는 텍스트 탐색, Match 객체 반환\n",
        "- **매칭되는 것이 없으면 None을 반환**함"
      ]
    },
    {
      "cell_type": "markdown",
      "metadata": {
        "id": "NG3LK_ujHJMQ"
      },
      "source": [
        "- 겹치는 것과 겹치지 않는 것\n",
        "\n",
        "  ![image.png](data:image/png;base64,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)"
      ]
    },
    {
      "cell_type": "code",
      "metadata": {
        "colab": {
          "base_uri": "https://localhost:8080/"
        },
        "id": "aljVC9qUHC1f",
        "outputId": "f5e78417-f9fa-4ae4-b469-9ccf8c81a481"
      },
      "source": [
        "# findall\n",
        "import re\n",
        "\n",
        "ret = re.findall(r'wow', 'wowowowow')\n",
        "print(type(ret))\n",
        "for t in ret:\n",
        "    print(f\"Matched : {t}\")"
      ],
      "execution_count": null,
      "outputs": [
        {
          "output_type": "stream",
          "text": [
            "<class 'list'>\n",
            "Matched : wow\n",
            "Matched : wow\n"
          ],
          "name": "stdout"
        }
      ]
    },
    {
      "cell_type": "code",
      "metadata": {
        "colab": {
          "base_uri": "https://localhost:8080/"
        },
        "id": "dbKHwFInH1mj",
        "outputId": "dafdedec-1f09-4339-903c-7f8c0de5a500"
      },
      "source": [
        "# finditer\n",
        "ret = re.finditer(r'wow', 'wowowowow')\n",
        "print(type(ret))\n",
        "for t in ret:\n",
        "    print(f\"Matched : {t}\")"
      ],
      "execution_count": null,
      "outputs": [
        {
          "output_type": "stream",
          "text": [
            "<class 'callable_iterator'>\n",
            "Matched : <_sre.SRE_Match object; span=(0, 3), match='wow'>\n",
            "Matched : <_sre.SRE_Match object; span=(4, 7), match='wow'>\n"
          ],
          "name": "stdout"
        }
      ]
    },
    {
      "cell_type": "code",
      "metadata": {
        "colab": {
          "base_uri": "https://localhost:8080/"
        },
        "id": "dY8ybXrGIL9z",
        "outputId": "7af81773-842d-402d-dd03-f0d0bb732014"
      },
      "source": [
        "# search\n",
        "pattern = re.compile(r'[a-z]{2}')\n",
        "ret1 = pattern.search('123abc123')\n",
        "ret2 = pattern.search('abcXde')\n",
        "if ret1 : print(f'Matched ret1 : {ret1.group()}')\n",
        "if ret2 : print(f'Matched ret2 : {ret2.group()}')"
      ],
      "execution_count": null,
      "outputs": [
        {
          "output_type": "stream",
          "text": [
            "Matched ret1 : ab\n",
            "Matched ret2 : ab\n"
          ],
          "name": "stdout"
        }
      ]
    },
    {
      "cell_type": "code",
      "metadata": {
        "id": "YU8m_nMIJW2N",
        "colab": {
          "base_uri": "https://localhost:8080/"
        },
        "outputId": "30be72cb-f14e-4388-9021-8e087df2e872"
      },
      "source": [
        "# match\n",
        "pattern = re.compile(r'[a-z]{2}')\n",
        "ret1 = pattern.match('123abc123')\n",
        "ret2 = pattern.match('abcXde')\n",
        "if ret1 : print(f'Matched ret1 : {ret1.group()}')\n",
        "if ret2 : print(f'Matched ret2 : {ret2.group()}')"
      ],
      "execution_count": null,
      "outputs": [
        {
          "output_type": "stream",
          "text": [
            "Matched ret2 : ab\n"
          ],
          "name": "stdout"
        }
      ]
    },
    {
      "cell_type": "code",
      "metadata": {
        "colab": {
          "base_uri": "https://localhost:8080/"
        },
        "id": "YHYBTY7S02Aj",
        "outputId": "05db0870-4ddf-429b-bfa8-8813bd300fbf"
      },
      "source": [
        "# fullmatch\n",
        "pattern = re.compile(r'[a-z]{2}')\n",
        "ret1 = pattern.fullmatch('abcd')\n",
        "ret2 = pattern.fullmatch('ab')\n",
        "if ret1 : print(f'Matched ret1 : {ret1.group()}')\n",
        "if ret2 : print(f'Matched ret2 : {ret2.group()}')"
      ],
      "execution_count": null,
      "outputs": [
        {
          "output_type": "stream",
          "text": [
            "Matched ret2 : ab\n"
          ],
          "name": "stdout"
        }
      ]
    },
    {
      "cell_type": "code",
      "metadata": {
        "colab": {
          "base_uri": "https://localhost:8080/"
        },
        "id": "Lp_-w5JE2tKg",
        "outputId": "198ba185-0427-4a0b-db9a-9ed3356add18"
      },
      "source": [
        "# 숫자 1개 이상으로 이루어진 문자열 (숫자만으로 이루어진 문자열)\n",
        "data = ('1', '12', '1234', '12ab34', '12 34')\n",
        "for x in data :\n",
        "    r = re.fullmatch(r'\\d+', x)\n",
        "    print(r)"
      ],
      "execution_count": null,
      "outputs": [
        {
          "output_type": "stream",
          "text": [
            "<_sre.SRE_Match object; span=(0, 1), match='1'>\n",
            "<_sre.SRE_Match object; span=(0, 2), match='12'>\n",
            "<_sre.SRE_Match object; span=(0, 4), match='1234'>\n",
            "None\n",
            "None\n"
          ],
          "name": "stdout"
        }
      ]
    },
    {
      "cell_type": "markdown",
      "metadata": {
        "id": "i2WVFGb5Zw-t"
      },
      "source": [
        "### 3-02. 치환/분리함수\n",
        "- re.sub(패턴, 치환문자열, 문자열) : 문자열에서 패턴과 매치하는 텍스트를 치환문자열로 치환함\n",
        "- re.split(패턴, 문자열) : 문자열을 패턴 기준으로 분리함\n",
        "   - 문자열 list로 반환, 패턴에 맞는 것이 없으면 문자열을 분리하지 않고 1개 item으로 취급함"
      ]
    },
    {
      "cell_type": "code",
      "metadata": {
        "colab": {
          "base_uri": "https://localhost:8080/"
        },
        "id": "TU_69oWcaEUr",
        "outputId": "b561b1ca-f438-4370-fcd6-f5030b8d92a7"
      },
      "source": [
        "import re\n",
        "# 연속된 알파벳 소문자 1개 이상을 X로 치환\n",
        "ret = re.sub('[a-z]+', 'X',  'abc1de2fg3hij')\n",
        "print(ret)"
      ],
      "execution_count": null,
      "outputs": [
        {
          "output_type": "stream",
          "text": [
            "X1X2X3X\n"
          ],
          "name": "stdout"
        }
      ]
    },
    {
      "cell_type": "code",
      "metadata": {
        "colab": {
          "base_uri": "https://localhost:8080/"
        },
        "id": "WX-ajoTREJNo",
        "outputId": "81ab8674-e852-453a-a5d7-46024bf3b314"
      },
      "source": [
        "# 숫자를 구분자로 하여 문자열 분리\n",
        "ret = re.split(r'\\d', 'abc1de2fg3hij')\n",
        "print(ret)"
      ],
      "execution_count": null,
      "outputs": [
        {
          "output_type": "stream",
          "text": [
            "['abc', 'de', 'fg', 'hij']\n"
          ],
          "name": "stdout"
        }
      ]
    },
    {
      "cell_type": "markdown",
      "metadata": {
        "id": "ioFkUGL9FGPE"
      },
      "source": [
        "### 3-03. Match 객체의 메서드\n",
        "- mc.group() : 매치되는 텍스트를 string으로 변환하여 반환\n",
        "- mc.group(번호 또는 이름) : 그룹 번호에 해당하는 텍스트를 string으로 변환하여 반환\n",
        "   - 그룹 번호는 1부터 시작하여 1씩 증가하는 정수\n",
        "- mp.group(번호1, 번호 ...) : 여러 개의 그룹을 텍스트로 변환하여 tuple 반환\n",
        "- mc.groups() : 매치되는 텍스트들을 string으로 변환하여 튜플 반환\n",
        "- mc.start() : 매치된 텍스트의 시작 위치 반환\n",
        "- mc.end() : 매치된 텍스트의 마지막 다음 위치 반환\n",
        "- mc.span() : 매치된 텍스트의 (start, end) 에 해당되는 튜플 반환"
      ]
    },
    {
      "cell_type": "code",
      "metadata": {
        "id": "bzzwSS8AGR80"
      },
      "source": [
        "import re\n",
        "\n",
        "pattern = re.compile(r'(?P<localcode>\\(\\d{3}\\)) (\\d{3})-(\\d{4})')\n",
        "ret = pattern.search('(031) 234-2345')\n",
        "print(ret.group(1))\n",
        "print(ret.group('localcode'))\n",
        "print(ret.group(2))\n",
        "print(ret.group(3))\n",
        "print(ret.groups())\n",
        "print(ret.group(2, 3))\n",
        "print(ret.group(), ret.start(), ret.end(), ret.span())\n"
      ],
      "execution_count": null,
      "outputs": []
    },
    {
      "cell_type": "markdown",
      "metadata": {
        "id": "eGZthKtmJlkD"
      },
      "source": [
        "### 3-04. compile()의 옵션\n",
        "- re.compile(패턴문자열, 옵션)과 같이 사용함\n",
        "- re.탐색함수(패턴, 문자열, 옵션)과 같이 사용함\n",
        "   - 여러 개의 옵션을 동시 적용하기 위해서는 or 연산을 하는 ```|```를 사용함\n",
        "- re.DOTALL, re.S : . 메타문자를 \\n을 포함한 글자 1개를 표현할 수 있도록 함\n",
        "- re.IGNORECASE, re.I : 영문 대/소문자를 구분하지 않고 매치 수행\n",
        "- re.MULTILINE, re.M : ^ 및 $과 연관 있는 옵션으로 문자열이 '여러 줄'인 것을 허용\n",
        "- re.VERBOSE, re.X : 이해 어려운 정규식에 주석 또는 라인단위로 구분하여 표시할 수 있도록 처리   "
      ]
    },
    {
      "cell_type": "code",
      "metadata": {
        "colab": {
          "base_uri": "https://localhost:8080/"
        },
        "id": "rooFRSbu8KX2",
        "outputId": "e9cf6299-3e24-4136-b192-d376615fedbb"
      },
      "source": [
        "import re\n",
        "\n",
        "pt1 = re.compile(r'.*')\n",
        "pt2 = re.compile(r'.*', re.DOTALL)\n",
        "pt3 = re.compile(r'.*', re.S)\n",
        "for pattern in (pt1, pt2, pt3) :\n",
        "    ret = re.search(pattern, 'Good\\nBetter')\n",
        "    print(ret.group())\n",
        "    print('-' * 10)\n",
        "   \n",
        "#ret = re.search(r'.*', 'Good\\nBetter', re.DOTALL)\n",
        "    "
      ],
      "execution_count": null,
      "outputs": [
        {
          "output_type": "stream",
          "text": [
            "Good\n",
            "----------\n",
            "Good\n",
            "Better\n",
            "----------\n",
            "Good\n",
            "Better\n",
            "----------\n"
          ],
          "name": "stdout"
        }
      ]
    },
    {
      "cell_type": "code",
      "metadata": {
        "colab": {
          "base_uri": "https://localhost:8080/"
        },
        "id": "R4J1VR2y9NVj",
        "outputId": "2e78c450-1f73-4b82-eec7-0044e3081d26"
      },
      "source": [
        "pt1 = re.compile(r'abc')\n",
        "pt2 = re.compile(r'abc', re.IGNORECASE)\n",
        "pt3 = re.compile(r'abc', re.I)\n",
        "for pt in pt1, pt2, pt3 :\n",
        "    ret = re.findall(pt, 'abcABCAbC')\n",
        "    print(ret)"
      ],
      "execution_count": null,
      "outputs": [
        {
          "output_type": "stream",
          "text": [
            "['abc']\n",
            "['abc', 'ABC', 'AbC']\n",
            "['abc', 'ABC', 'AbC']\n"
          ],
          "name": "stdout"
        }
      ]
    },
    {
      "cell_type": "code",
      "metadata": {
        "colab": {
          "base_uri": "https://localhost:8080/"
        },
        "id": "EetlAHWfOVci",
        "outputId": "ff66aba6-573e-4440-e8af-b852f492b076"
      },
      "source": [
        "msg = 'Good Morning!\\nGood Afternoon!\\nGood Evening!'\n",
        "pt1 = re.compile(r'^G(.*)ing!$')\n",
        "pt2 = re.compile(r'^G(.*)ing!$', re.MULTILINE)\n",
        "pt3 = re.compile(r'^G(.*)ing!$', re.S)\n",
        "\n",
        "ret = re.finditer(pt2, msg)\n",
        "print(*ret, sep='\\n')   # argumnet unpack\n",
        "print(\"DONE!\")"
      ],
      "execution_count": null,
      "outputs": [
        {
          "output_type": "stream",
          "text": [
            "<_sre.SRE_Match object; span=(0, 13), match='Good Morning!'>\n",
            "<_sre.SRE_Match object; span=(30, 43), match='Good Evening!'>\n",
            "DONE!\n"
          ],
          "name": "stdout"
        }
      ]
    },
    {
      "cell_type": "code",
      "metadata": {
        "colab": {
          "base_uri": "https://localhost:8080/"
        },
        "id": "RDDPZlbQrrht",
        "outputId": "1a48ac07-5940-4cfe-b526-486c09565bed"
      },
      "source": [
        "import re\n",
        "phone1 = re.compile(r'\\(\\d{3}\\)\\s?\\d{3}-\\d{4}')\n",
        "phone2 = re.compile(r'''(\n",
        "    \\(\\d{3}\\)    # area code\n",
        "    \\s?          # white space  (0 or 1)\n",
        "    \\d{3}        # first 3 digits\n",
        "    -            # seperator\n",
        "    \\d{4}        # last 4 digits\n",
        ")''', re.VERBOSE)\n",
        "ret = re.search(phone2, 'Phone: (031) 234-2345')\n",
        "print(ret.group())"
      ],
      "execution_count": null,
      "outputs": [
        {
          "output_type": "stream",
          "text": [
            "(031) 234-2345\n"
          ],
          "name": "stdout"
        }
      ]
    },
    {
      "cell_type": "markdown",
      "metadata": {
        "id": "iIKzEgMzyV0Y"
      },
      "source": [
        "## 4.Quiz\n"
      ]
    },
    {
      "cell_type": "code",
      "metadata": {
        "id": "Qk5N0HihzwbE"
      },
      "source": [
        "import re\n",
        "\n",
        "def printMatch(pstr, data):\n",
        "    print(pstr)\n",
        "    for x in data :\n",
        "        mc = re.search(pstr, x)\n",
        "        maxLen = max(len(x) for x in data)\n",
        "        if mc :\n",
        "            print(f'{x:{maxLen}} : {mc.start()}~{mc.end()}에 {mc.group()}존재') \n",
        "        else:\n",
        "            print(f'{x:{maxLen}} : 문자열에 {pstr}패턴이 존재하지 않음')"
      ],
      "execution_count": null,
      "outputs": []
    },
    {
      "cell_type": "markdown",
      "metadata": {
        "id": "PDVzP-8Zkw9P"
      },
      "source": [
        "### 4-01. 양수 검색\n",
        "- 0보다 큰 양수를 검색하는 패턴을 작성하라\n",
        "   - 1, 2, 3, ... \n",
        "- 단, 0, 01, 1a 등은 검색 대상으로 삼지 않는다\n",
        "  - 0부터 시작된 숫자 또는 숫자 이외의 문자와 섞여 있으면 검색 대상이 아님\n",
        "- 주어진 dataList를 패턴 확인용 데이터로 사용한다\n",
        "- printMatch 함수를 사용하여 패턴의 동작을 확인한다"
      ]
    },
    {
      "cell_type": "code",
      "metadata": {
        "colab": {
          "base_uri": "https://localhost:8080/"
        },
        "id": "_G28KWLukw9P",
        "outputId": "ece8fcb7-a580-4cb4-cee9-98488d0fe8c5"
      },
      "source": [
        "dataList = ('1', '12', '321', '100', '0', '01', '001', '1a')\n",
        "printMatch(r'^[1-9]\\d*$', dataList)"
      ],
      "execution_count": null,
      "outputs": [
        {
          "output_type": "stream",
          "text": [
            "^[1-9]\\d*$\n",
            "1   : 0~1에 1존재\n",
            "12  : 0~2에 12존재\n",
            "321 : 0~3에 321존재\n",
            "100 : 0~3에 100존재\n",
            "0   : 문자열에 ^[1-9]\\d*$패턴이 존재하지 않음\n",
            "01  : 문자열에 ^[1-9]\\d*$패턴이 존재하지 않음\n",
            "001 : 문자열에 ^[1-9]\\d*$패턴이 존재하지 않음\n",
            "1a  : 문자열에 ^[1-9]\\d*$패턴이 존재하지 않음\n"
          ],
          "name": "stdout"
        }
      ]
    },
    {
      "cell_type": "markdown",
      "metadata": {
        "id": "B9JxBnrHkw9P"
      },
      "source": [
        "### 4-02. 날짜 형식 찾기\n",
        "- 규칙\n",
        "   - 년도는 숫자 4글자이면서 19 또는 20으로 시작함\n",
        "   - 월을 01 ~ 12로 표시되고, 일은 01~31로 표시됨\n",
        "   - 윤달 및 28, 29, 30으로 끝나는 달을 별도 확인하지 않음\n",
        "   - '-'를 사용하여 년, 월, 일을 구분함\n",
        "   - 예) 1990-09-12, 2021-12-02\n",
        "\n"
      ]
    },
    {
      "cell_type": "code",
      "metadata": {
        "id": "JqgvY15Jkw9Q"
      },
      "source": [
        "01 02 03 04 ...09 10 11 12 ... 19 20 21 22 ....29 30 31"
      ],
      "execution_count": null,
      "outputs": []
    },
    {
      "cell_type": "code",
      "metadata": {
        "colab": {
          "base_uri": "https://localhost:8080/"
        },
        "id": "7HRdkHHHkw9Q",
        "outputId": "b88300f1-7cd8-46b4-fd61-fbc643ec58ef"
      },
      "source": [
        "data = ('1990-09-12', '2020-12-31', '2099-10-32', '89-01-08') \n",
        "printMatch(r'^(19|20)\\d{2}-(0[1-9]|1[0-2])-(0[1-9]|[12][0-9]|3[01])$',  data)      "
      ],
      "execution_count": null,
      "outputs": [
        {
          "output_type": "stream",
          "text": [
            "^(19|20)\\d{2}-(0[1-9]|1[0-2])-(0[1-9]|[12][0-9]|3[01])$\n",
            "1990-09-12 : 0~10에 1990-09-12존재\n",
            "2020-12-31 : 0~10에 2020-12-31존재\n",
            "2099-10-32 : 문자열에 ^(19|20)\\d{2}-(0[1-9]|1[0-2])-(0[1-9]|[12][0-9]|3[01])$패턴이 존재하지 않음\n",
            "89-01-08   : 문자열에 ^(19|20)\\d{2}-(0[1-9]|1[0-2])-(0[1-9]|[12][0-9]|3[01])$패턴이 존재하지 않음\n"
          ],
          "name": "stdout"
        }
      ]
    },
    {
      "cell_type": "markdown",
      "metadata": {
        "id": "FBV_Mtxbkw9Q"
      },
      "source": [
        "### 4-03. 메일 주소 찾기\n",
        "- 규칙\n",
        "   - @ 기호 앞은 '.'을 포함한 워드문자로 구성된 문자열이 올 수 있다 ('.'이 있을 수도 있고 없을수도 있음)\n",
        "   - 단, '.'이 단독으로 존재하거나, '.'이 첫글자여서는 안된다.\n",
        "   - @ 기호\n",
        "   - @ 기호 뒤는 워드 문자가 1개 이상 온다\n",
        "   - 위의 1개 이상의 워드 문자 뒤로 '.'으로 시작하고 워드문자 1개 이상으로 구성된 문자열이 1회 또는 2회 반복되어 사용된다 ('.'이 1, 2회 사용되어야 함)"
      ]
    },
    {
      "cell_type": "code",
      "metadata": {
        "colab": {
          "base_uri": "https://localhost:8080/"
        },
        "id": "VjVHsCfokw9R",
        "outputId": "121f7585-2c39-4745-bc4b-a2864f71f167"
      },
      "source": [
        "import re\n",
        "\n",
        "data = ('abc@naver.com', 'kbs.kim@gmail.or.kr', 'all.for.you.11@shopping.net', '.@naver.com', 'abcdef@abc', '3#@abc.co.kr')\n",
        "printMatch(r'^\\w+[\\.\\w]*@\\w+(\\.\\w+){1,2}$', data)"
      ],
      "execution_count": null,
      "outputs": [
        {
          "output_type": "stream",
          "text": [
            "^\\w+[\\.\\w]*@\\w+(\\.\\w+){1,2}$\n",
            "abc@naver.com               : 0~13에 abc@naver.com존재\n",
            "kbs.kim@gmail.or.kr         : 0~19에 kbs.kim@gmail.or.kr존재\n",
            "all.for.you.11@shopping.net : 0~27에 all.for.you.11@shopping.net존재\n",
            ".@naver.com                 : 문자열에 ^\\w+[\\.\\w]*@\\w+(\\.\\w+){1,2}$패턴이 존재하지 않음\n",
            "abcdef@abc                  : 문자열에 ^\\w+[\\.\\w]*@\\w+(\\.\\w+){1,2}$패턴이 존재하지 않음\n",
            "3#@abc.co.kr                : 문자열에 ^\\w+[\\.\\w]*@\\w+(\\.\\w+){1,2}$패턴이 존재하지 않음\n"
          ],
          "name": "stdout"
        }
      ]
    },
    {
      "cell_type": "markdown",
      "metadata": {
        "id": "EXiy5KHq0WDh"
      },
      "source": [
        "### 4-04. 한글, 콤마(,) 및 소수 부분 제거\n",
        "- 금액에 함께 표기된 한글, 콤마(,) 및 소수 부분을 제거한다.\n",
        "- 다음의 입력과 출력예시를 참조한다\n",
        "> ![image.png](data:image/png;base64,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)\n"
      ]
    },
    {
      "cell_type": "code",
      "metadata": {
        "id": "aqDIhrAu0e65",
        "colab": {
          "base_uri": "https://localhost:8080/"
        },
        "outputId": "49f6a7be-9621-431a-dd7f-ad392f51165b"
      },
      "source": [
        "import re\n",
        "\n",
        "def removeThings(data):\n",
        "    return re.sub(r'[가-힣]+|,|\\.\\d+', '', data)\n",
        "\n",
        "datalist = ('1,234,567원', '200,000.00달러', '1,234.15엔')  \n",
        "for x in datalist:\n",
        "  r = removeThings(x)\n",
        "  print(f'{x} => {r}')"
      ],
      "execution_count": null,
      "outputs": [
        {
          "output_type": "stream",
          "text": [
            "1,234,567원 => 1234567\n",
            "200,000.00달러 => 200000\n",
            "1,234.15엔 => 1234\n"
          ],
          "name": "stdout"
        }
      ]
    },
    {
      "cell_type": "markdown",
      "metadata": {
        "id": "3GW0CmX80Zrb"
      },
      "source": [
        "### 4-05. 주민등록번호 유효성 검사 및 암호 처리\n",
        "- 주민등록번호에 대한 다음의 처리를 수행하는 코드를 작성하라\n",
        "- 유효성 검사를 수행한다 (정밀한 검증이 아닌 형태에 대한 검증)\n",
        "    - 숫자6자-숫자7자로 구성\n",
        "    - 앞의 6글자 중 3,4번째는 01-12, 5,6번째는 01-31의 숫자, 뒤의 7글자 중 1번째는 1~4 중 한가지 이어야 함\n",
        "- 유효한 주민등록번호인 경우 뒤의 7자를 *로 치환하여 출력하도록 한다\n",
        "- 유효하지 않은 주민등록번호인 경우 ‘XX is NOT an id’를 출력 한다\n",
        "- 다음의 입력과 출력예시를 참조한다\n",
        "> ![image.png](data:image/png;base64,iVBORw0KGgoAAAANSUhEUgAAAZsAAABACAYAAADMFtqgAAAgAElEQVR4AeydBXwVx/PAX3B3KO4OxdviELRQirZQ3K0Up0WLu1sp7g7B3aG4ewMBAiR4CE483/9ns3e8fffuJS/Q36fyf/l8Xm7vbnZ2d3ZvZ2d2dsaC689FARcFXBRwUcBFgf8xBSz/Y/wu9C4KuCjgooCLAi4K4GI2rkHgooCLAi4KuCjwP6eAi9n8z0nsKsBFARcFXBRwUcDFbFxjwEUBFwVcFHBR4H9OAVNm8+YOHDgIO3fB/jPw9LV9Pd56G2Be2cOIJyHP4cR+OHgc3pqDEOIPJ/fDgaPwxgQm6D2cPAg7dsLhCxBoAnP/GhzaBbt2wd4z8NAMyCSf2aOwV3D2EOw9BGbNevEnHNbK2nMKfAPssTzwVGBOgs97exjxJPwNXDgCu/fDCxOQVzfhD62s3Sfg3jt7oEdeCsxxuGsC8/iWLYy3o86wR//3PXkGJ4/JPt11BLwemVTFD04dt8LcfGgCIx4Fw82TsH0nPHI0NoLB65SEeWjSpwLN9bOwayfsOgx+QfZl+T+Ak3u1+hyG68/tYVxPXBT4/0gBO2bjvRtqFwCLRf5ixIMqneGeMhPe2wf1CtrCVOoI3oYPy/sk/FgdElogXVG4akLhe6fhp68hkQXSfA6XjTAPofcP8r2oU9wk0HUaPNYnjFDYMhYKprbWxxIfSneBa44mHmMZyv2jy9CrLqSwQOLMcEp5xzvYMxbc0ytlxYUv2sO5expgOOydAcXSKTBxoHhbOOOtIoNnf0K/hvBZTIibCo6orwPg0BSonhnctL6wxIYiLeH4LSvgkXlQMpNSViwo1Bz+uGmFOboQSmVWYGJCwaZw+IYV5p+Wen0bhtSFuDGt9c7pDtsuWWsqFkXD6kM8BSZHedhywQojUu8fwMSukCuhxLXMZFy8fwiTu0PuRBJmsY8tDt7DmvGQKb61PtVbw6knVribu6BWAYil95cFMlWDVSetMK6UiwL/Xylgy2zeQMfiYEkM3ZbCpeswobv8uJpMhjBBpXfQ5SuwJISfFkuYyb0kTKMJEKpRclZbSJ8IvvgaaueFrAXhuoHKczpChkRQvCrULQCZ88IVA8y8lhAzLrSaCxeuweBvwJIIZuoz83vo2QzajYR9l+DqZZg9WNbnm0GIOcLpvxW/QNbEULAcfP8lpE0LZ9TcXtCwMFRoAXv3wZUrME6jT6WemhQUCkM6QrMBsPsSXLkMy8bJ+rh3hxcRRASPYZAzCeT9Cn4oD6mSwB9qWfeh9RdQshHs3ANXrsK0vhJPmY7wTBA6HMZ3h0a9YcdFuHwZ1k6TMKXawxOtMyb1gu97WGE8ZkoG9mVreGSyOlerEZ10SBA8eQx+ryKqFp2sdrBr+slJu2I/OHINdi+CBBbIXxe8NMlt/SCIbYFyP0uYPUsgkRvk/RZuaNL4iZVQIhWkzwEtG8pFhJHZnF4LX6aCtNmg5Q8SxshsLqyBzBYo9BMc8oS1gyFODKgzHEK02m+eCtWbwtrTcOkKHFgDqeND5gpwwbAQs2uw64GLAv9xCtgwm9dHIX8aqDDU2uqge9AkLySuJ9VX705Coc+g9CArTLAvtMgPCWvDG+3LW9YPJq+SeYa7Q8a8cM2aJSK1cgBMXA5CYzG6mpwQbJiNJ1TKAQVbWVVwD65ADgvkaAsvtck03IA3/Dn8VBxiVoLHJiolA/iH242jYcycCH7Kb00gVUo4/eEt8BqevASb+fkN/FwK4leF+5oO0FgfwaAHlAVLKbjlLxHumAIjpkWgZHEnSB7PwGzewlN/g8owEIZWhDjl4IY2edmVFQSjqoClGFx6LMsSMDZwITC2OliKwDmTVb7a5Oikn/nCd4LuyWHZiejkNMA+h97lwM0dXugSLDCvEVhywd7bctHTtyJYyoOfovJa2BQsOWDHnxLn2Q0wsD8IQeXwbEhuASOzOb8ZBvQFIZweXSBhFqmSTSBM+R4seeG81n8C+3dpIW5B2K1JrHZ0Bjw6gyUDrDxnaKMTt2FBcGovXPN1DBweDKf3wVW1vgbw8BA4IxZH9w0vlNvwUDi7Hy7rErry7kMyFM7th4t3PzyxT4TB+QNw4Y79qw9PwuDCATgv+tH19/+GArbM5gjkTw2VRlnbH+oDrQpC/FqSKbw9LplNuWFWmLCH0K4QxKkBb4Ktz/XUEHfIYMJs9PfiOqIapMthK9lc94AcsaH/ASvk8i6aWik3XH9pfW6T8ofeQvoqB48/cm9iemNIaWQ2NoVoN29hYDmIX8XKbOzA3sMwd7CUAC+TFe6CTpDMyGzskBDB5UZXhdhlrczGDiwYJtUESyG46IiRhMLUb8FSAM5GMpHZ4XbiwfOb0LsCJEoL0/dEbJU4kcsA8hx6lYFY1eClwtmXNQdLNtgtVITv4JdyEKMyPFcY0qpWYMkC20x0tgd+h2QmzEYt/fB8e2YT8BjqpYbyA617itdXQ6bYYIkH03apGGzT24XkmxaW26xabGGMdwGBEBAEQX5QLSX0XqpBKHungQImEEJeQI1U0H2hOcz7QAh9BbXSwE9zTWCC4H0AhL2FOmmh0ywNRtmsDAqCd+8h/D00SA/tpjuGERuqDTNC60kmMMHwViz+gqFxZmg+zh5Ge+K6/AcpYMNshJ6sXyVImBXm7Yd3L6UKKHYMGLhDa304DKoGCTLD7L0SZuVEEDD9tphT6GOZzdllkNECSx9IvJ7rIGcWcHeHOCngiDJxh4WA3xN4dg3mtoM4btBlmVWtZ14zx0+dZTbvn0L1ZFC5n3UiEljDw+D5U3h2A1Z0g/hu0HKGZNjGUp1lNsGvoU4aKNMVlKYTHg7+oiwv8PgZEsWAhmOs0mBEfRSYTf0gcQxoMEJKVsb6mN2HBMCTR/D4sf3v0SN4pegrw/xggJCcYkCXBQZJ0Ay5ybOt4yB5TGg1A16+gEt7IUMSqNIdnmrwOyZBipjQfCq8eAFX9kOmZODeBZStlA/YP5bZvPEF9zjQRpvQ39+EmgWgXC1IGAOGbPpQRETilR88uwdHJ0u17JfNpNRkC+X4btsQKNUartyADt/A2I1wahlU/RqOaY3fORy+agGXb0LnWjByPZxdBVWrwRFNot07CkTZF29C129hyFo4vxaqVoGDmrHFwbHwRWO44AU9asPAVXDJA6pWgv3ad/fHRCjRCM55QZ+60Hc5XNkE1dxhjyZRHZ8Cxb+DM7egX33ovQSubYVqFWCnJlGdng7F6sOpWzCwgWSQntuhWnnYFpm05JhUrjf/IgrYMhsgzAdq5ZF6f91IoOoIw+T2AOrks4WpPBT8HDT8Y5nNnumQ1AJrX0HAGSiVAZr9DjvGS139Su2jEsU+8oS8+sasG5T/FXy1/REH1Yr0sbPMZm9vsGSFdTb6P3j5EIro9bFA8Z5wS1fuG0p2ltkcE3tRGWCRzUYSvH8BJZVN8oId4bqy2hfFBb6C0mIlrtUpXzu4qqifDFWyuz2zBOIo7dHx6NcWC7U9PT3nG/i9G8SJA21/h8eKhKKDRHoNhnEtrPUV5aSpDqdVSVVIca1tYVJVgRNmJo3AxzKb57chnwU6rZT6yF/LQ5ZGcO2YXAx1WGy7qGmS3VonUZ8Diuot0jZrL2/vgyZ1IV8R+KI0FC4GX34BHabAba1fvQ9A03qQtwh8WRo+LwZflYD2k+CW1q/3DkPz+pC3KHxVGgpqMG3Hw01tceDzB7RsIGFKloYCxaBkcWg9Fjw1mAfHoNV3EqZUachfXMK0HA1/amrqRyegzfeQpyiULgX5ikOpYtB8BFzT+uzxKWjbEPIUgzKlIK8G02wYXHHQZ87QywXz76CALbMJhvm9IVNGaDsMliyA9nUgR25YqFvUhMCiXyBzBmg9VMJ0rAfZc8G8Y+aN/hRmI9Qe6+7BsHpQqKncTzk0S6pDlivMRky462bBnHnQsgYUyA9LtTqH+sKk/tCsBbRpY/21bgE9Z8IrE9WfM8zm2hbImQzazrQ3RAh+Bxtnw5z50F5MHLnh933m9HGG2XjthQIpoPF4WwlKYAwNhC1zYe58+PF7yJsTpmy1nfzDgmHrPAnTpRHkzQGTNtlOkua1k0+fe8HSuTB/ASww/ObNsbV++4AnCA7NlpvkFXrAPUdqzw8ZrIkza6B4OijfHhYuhJE9IXMa6D3LaiJ+bj2USA9l20qYUb0hSxroOQPM5vePZTZ+t+VCputq2DMLMhWEAz7Syq2gBdoZmM2hlTB3HvTvBAWyQq+pmpQZDDt/g6bGcdgS2vaDM8q+y2sfqJNbY1oxoN0EqyGCTiUhcTXQF31ukkEYh/Lbh9BQtxx1g+Yj7SXNd4+gcWErg2wyzLBXKCz6nkCzYlaYRoPtpXQh5bf8wgrz3QD5ver1FdeAZ9C2pBWmXl9bCVyFdaX/WxSwYTa3N0O2RFB7onWiEns2rYtBrEpS5XJvO+RIDDXHWSeqsAfQ7guIUQGemaxgP5bZnFkKWd2gXBVIVRj2aCa/e6dB0vhwQNUlKf0S+gh6lgNLabgfBGE3oH5xiJsQkiWz/pIkgDxN4anJCj8qZvPoJJRKD1/1sf+glKpEJMP9YWg1sAjzbxPxLypm43cRKmWFQp3Nz/3YlPcaJtSR+zGnNDWIzXtx8wam1AdLPjimTHB2cMqD0CB46S/VVUJlZfPzh3cm/S6yHxwv99iqt4FnxplQwa8mgx5A0zyQug746H0TDsvbS8lus9j894cW+SBlLbinqPBWdQJLOlh3UcUo0x/LbMSkXjkRFCsHaTLDIA+Jz/8W5LbAwI32ZUU8CYWtQvL9DBZpezYzWkCcBNYxKMZjkoSQoihs1sw114+GApmhWn2oXgMad4YKhaFgDasabeM4KJgZqtaDGjWhUSdwLwr5q1vVaFsmSpgq9aBmTfi+E1QuDnmFGk3bz9s+BT7PBJXrQq2a0KAjVC0BedytarRd06FQJqhUF76tCXU7QPUvIXcFqxpt7ywJ414H6tSE2h2gZknIWdaqRts/Bwpngop1oO43UKs91CoNOUq51GgORtB/6rENs1k/RJ6JmaOc0RCtndcNYlhALMy3jpIwv2nWPjo1FvWSk8omZWNRf/exzObaesgZAyzJYfJRHRss6SknlCvK2R/rW5naMELWZ4mjCdeYwXAfGbMJ8YOWBSB1JbiqbNoaUNjc7p8BMS0w3UA3ARQZswl/DZ2KQfIycMaEUdkUot2cXCTVjGMN6jYV9swyqRYb6aTVmFCjCTNjXW1mvDY3qtFCYPNQSBEDareDJwa1nloXY/r+echmgSbzrAsaAXNruxx7/XbBg9uQ0wKNfrdd8YtzYuLMVg+NIai4P5bZBDyC77VzSt9MsWL03QZusWFSJAYCT09JU+o2823racVinzq3CxZshsCX0LI8jNkG+MKMGVY12oU9MG8jBL2GNhVgxGbgIcycDl4arS/vg7nrIegtdKgIQzYAj2HmNLihMfGrB2D2Wgh6B50rwYC1RGyKzZxqVaNdPwS/r4bAAOhaBX5ZRYTO/LcpcF1To904ArNWgjBc6FkVei2TC4JZk61qNK+jMHM5BAbDz9Wh22IixFQB41Kj2Y+D/9oTO2YT3wIjlIldWI5MEFZAFtgPbBsNAmbIYYUUITBF051vNmE2QzXTZ5N59gOSkZrps2oeHXYVKmSBtKXhmQ4pLM1KQZpG8MLBHoiwTZ4m6hwLdimqNh2FM9cZjaXp81kT4KnfQ5rcsN3ZQ5FhsORHScO1yoFMHfVCzfTZTAs5txWkygLr7U676rntrx59ZFmLlAOQRihhJCD6dJ6TJrli32LFAli0GBYbfgsXwDFDuzYPkZPst23hqZMSjV5HwWyEeXvV0bbqnGuLZJ0HaMwmlwUqDbdV53gukzC9TJjNwd+lpdkKR1Z6wBHNGm2JKvG9h4kNwBIXDiiLl509IGZe2OGl19z+emWerM8vYr8nmn/CGu3rtNBrueOMwf7wTXpt4nYAFvIKameALvMdAAhV7Buolwk6znYME/4Ovs8C7WY6hhHWaD9kg1ZTI4EJhmY5oNnESGBcr/5zFLBhNmLlmDMhxM8Li47AIx9YPhTSWiBZLalGu7sb8iSGuLlgwWEJs2oEpLNAkhpWVUl4AHjfAd9H0K0kpM0Ou33h3m14p2/cKzC9ykKaLLBTg3mrwUxrBMKLweDV8PSB9ZBpX80C6KoH1KgEs3fCXW+4excm95FSRM7G5mo9h70YCPe8wfcxDKkNyZPBxntw95b1/NCGoZAoAfRYCj6+cOc23L4Nt7zlyvXWXqhdAaZslvW5dw/mDJFSRKbacE/fCA0Cn7vg+wTGNoEkcWH1bVmWvockDCGESXSHeXDfUJbQWt0/BvXFyncdeHuDKGvxWLkYSFsVbr+HJ2egQTkYtUaDuQ/LJsgDkmkqwzUHqkiHNIrqRRDMaS8l4dqd4bmuBosqn/I+8CE0LyIXC10Xg68vnNgEJZNI0+dtgsm/gFZiDyEm/LhAwpzaAmWSSdPnDTpzDoXHvuDzCFaMgCQWmHQS7t4BP93YIBSeaDCrx0ijlPHHZP/5af0lrME+s4B7f/B9CDuXQLIYUKa9NIwJegTtykL3WXDjNtz3gV3LIWM8iJsHtnkqDXQyKSwanzwA/8jOioXJ78Jfb4sZbg3meWQw4fDsATzXx6cZHg1Gp4kZiDjQ9ewh+EUm8YeD30N4FhmMKXLXw38zBWyYjWjI5jFQJKlcjUWoStwg+5ewTVm5bh0PRVUYC2QrAVuUlX7IXkgaR8Gjq2BiwFpt9zZsP6SIZwLjBqt0UcYbvi8H8bT8bjHhO/HBa6oC33PQrAy4uVnxxIoDpevDwchEKbNeOwlZDO3S1UXzfSH8Bnyrb9rq7dGviWDvQ3jhBR0qQSyh/tPexYgFJb6B7eeVQs9DvjRWGB1WXKcJOt6HHz43fy/Odmzygrc+0LU6xIllhXOLAUWqg4emHnvpDd1rGGDcoHBVWGcmSilVjG4y+A2MbSQZa4Mhjq0TncF7fT/UzymZlk6b+Olh7FqrtON5CL7LJRcWOky8dDBqlSLt3IcGgnHp/aRcf1qj7U36QCPhOUN5p6c7r9BUeW9hag9Iroyzz6vCYe2cUsgbGNMMkmkucfT8Ob6E6Ruse6DOtN0F46LAf5ECdsxGrEzu/QEbV8KqVbB6PdxUVAc6EcSqWoW5oaodhIXoE/BYC6tWw2r1twZ8tc3k8KewYZ1WjgIj8vgoOv53D2DPJlixEjYchGeGld7rR7Bnl8Qj6rznADyNbBWnN8J4fQ5bNtjXZ+VK8Bab0G/hjx2yHjZtWgUrN8IjrV5vn8KBPdb67NoDj4yruJewYxOsFDRW2r5yBXgJ2PdwfDcsX2n7fvUqWLEBfDV87/3g0D5rWTt2ga/B6uv9czi8X4HZCT4GGCMpPuZemHvPGg0LlsJz3W/RxyDS8rzyhF2r5RgSdDpqsun/+ibsVmCOGPyiCToeFXRcYUvHFcvhvH6iXtB6jwnMMjh31+p9QThNFSfxV62ElVvA06CiFcz2zFFYvUbSevNmuGnmPPQTaOLK6qLAv5UC9szm39oSV71dFHBRwEUBFwX+sRRwMZt/bNe4KuaigIsCLgr8dyjgYjb/nb50tcRFARcFXBT4x1LAxWz+sV3jqpiLAi4KuCjw36GAi9n8d/rS1RIXBVwUcFHgH0sBF7P5x3aNq2IuCrgoEBUFxFmkMP3cXlTArvcfT4EwCP1EC1MXs/l48rtyuijgosDfSIGAy1A1DxSoCn+axZT4G+sWWdEiXMdzB74EI8v3t73zgfYVIX0B2Ku6eHFQodDXcPk8eBn6xJTZCNfkkybD8OEwYQncMDln47MPJg2HYcNhpQe8dLC6eHMb5o6HqfNNDvkFwFEPmDJcljVuOVxz4O/s3V1YMBEmzbbGM/nQ1iD4cxNMHSHxjF0Clz/hZHyALyydCuNngN0xiWDw2g7TtLJGL4Rz+gFUvULBcHYHTNfaNXo+nNWDsOgw6jUE1s6EkTPgmnJ2I8Abfhf9MAJGjoSRI2CwCH9tCGcgUAU/g3W/wcgJcM/YF6Fwbx/8NlLSZ+RsOBaJyxa1an9nOsATFsyGEcNhxAzYb3LOJvAGLBwrx+GMmeDtYPwIVyu7FsAQ4fLeeEo+HLxOwNzRWlnTYJdyiNmGBgGwbzEMGQ6XTc4q+Z2BRWMknYdPhW0GP4M2uKK6CYbDy2DwUJMxJlyPXZDxpsR3OnwKbDLGXRdngy/AonEwYhgMnwwbTILKqdU4s1PCblVdHb2BHUtg6HBtHI6EYcNg/mZ7D9LinN6ptTB4CBwzifr56hqsmajVZyKsvvDxB16f74PscSFBQTj2b4n6+RQm94LVJrRR++GflA6+ApWEb8BUsER1Zeagki8PQp7UUN/g1siO2ZyeBwWSK6ep3SBjFbigHNo8vdAWRpxabzxC8V8mDnWGwpFlUCG7jCWfvqhtFE7hv2x8K0gZV4u8KU5vx4TPqsFx9UMPheOroVJOeTI9dT6wObf3DKY0gkwqHjfpJPNgdF2EhME5ERQqj3T5kiQznFIJ+gJmt4Ss8ZQ6WyB5Odiuf5xhsKA3pIuvwLhBsjKwRfUgoOA9PR9SifZnhCWKM7abwt1JXKUvtBPufZYomcPhz33wbSFIEgNiJYV9qs+4d7CqK+RKYHsaP1EJWPEXexBQavXJycen4YdCtm2Pmw1m7raifnzOHqZIDThlYDg+Z6F5WUilebQwhoU+PAfyJLP1RBA7N4wTzi2Vv4cXoU1FSK31yXw14Fc4HB0LRZLZOiyNlQNGrFeQOJl8chU6VYe0WlnTDCvKc9OgREqIq3g9iJkF+il+1K54QOHUEEvxehAjM/TRI38a6vL8GlTVHI421qN6ivPFN6FBTtu+EB4SijaxDb4nwlD0qQ8Z40vYoar/RODmYiidRgYS1D0suKWDDnp0UEN9orwNgaun4NxlCDYusKLM/PcAHBsP6T6D9SYL+L+nRk6UGg63L8OJU469u6tYXh2BvJ/BDwY/e7bM5gnUywvxssGcMxAYBptnyAHtPljzWvsnlMkMKQvBKS8QIuEQEWI4Fkw/Yi1yWDVImgSa94V2xSFLAbD5Xt7D6P4wYxs8CIDgQNi9QPrsKtXb6rZ/bB1Imgia9IZOpSFjdtDndVFayHVo/Q30mib9Y4kQtmLlJDz/Fu8Cr6IxCKc3hWTx4buu0LUqpE0DajTf8FvwYx3oMl76vgoKhs2/SV9aBVvDU6HTDIPfR8GYFXAvAIIC4fQm6QCyQEuTIGJ3oXFRyJUdYmaHVQonPTsbMiSHOVcg+D28fQtv3kKQwkyW9oSUsaFGG/i5IaSMA/uV98IT8ICG0HII3PYGUecDy6Wfr+z14M7HeFqwdrNN6t0rOLIfjpyF0GjQ3QaJuAmH2SJUgAhYtgiehMLdk5AzEaSvBBeFRBEEY78HS2yYt12ujrePlwuSOoOtLm32zoQMblCqDgzpJpm6kdnsXgJ9JsC11zLUss95KJgCUpWEE5qkeXgBZHaDL2rCsD6QxgI2zOY9zO0EtbrAhWsQHAKXD8DnKSBZUTgUjfDbZ9ZBduFSqAqMGCj9Dtowm2BY3h2+7gCnLsmy/jwKX6SDhMIxqLekqBh33YbBuecyzPRTT6iQA+Lngm13DFQXi6RWkDEDJE4BrRZY37+4BpVTQZO58DZIjkMxFkXI6XAN7MYhyO8GuUvBqNGQxeisVzjxHQiVmsOhM3Ic3jkPlXND7PSw0mZysJb9X0tt6QupU8Fms4BL/5HGOsVsBFD+NFBVjw0uvnsRq6YwxK0pmc2VFVKK6KWHiRbexq9C2ThQcqBVrD60FHZq/rmGuUOGvAZmY0bYZ9D9S3Bztzpw/GMFbPtDAo/9BtJmsWU2BMhBbzO3vYCfS0Hib+BZNBxBnlgHm4Vra0B4fU6Z0pbZCI+2ASJeuwSR/9+B8GodvzLcN6pndDjBWKuCpTjcNIQJWD8YclWCBQMgdjZbZrN7FHyWGLaYqGt01Bd2wPpt8qNf0QuSxjAwmyAIfG/rqp9QmFEHYn0Flw16VR3vx1xfPYcu1aQk++tK60QUbVzPoWcZiFMTXioeo1cLz+JZYY8XhD2CWqnhi1+sCxNRTu+CkLqCnGDF/a0T0r2M8DYkArmJYHxGZmNWv61dZOycdZo06n0GVi6Tgb6OL5EerW2YTSgIdzVGVfyuXrLOHiaqT7NyxTOfy7BisQwSd2GjZGw2zCbMvKwjv8o6L40ktMSJYTJkx3RtnOt1eHgYcuaEiRNkDJxm8/Q38OAMFI0BvXdanxlTT2/BirnwOAzuHINMFhisSjbhEPLaugjQ81+aArFTweQD+pOor8KL9brp0G8gDOwPk5bCY5PvXKjwhWPVQQNgwEiYvwNeRHOT+84+mO0BD/xhswiI1x8mzINnijutiBq/gx0eMGggDBgOc45AgM6Jhd/YC1Id2qgMJIgP3/eEIYNg2Fi4bnRlFQUJAh7Aprnw62AYMBRmHQDdcbHI+uCoDAnh/Rz2LIcB/WDMb+DraH5yVF4I7F8A/QWdB8KoGXDDoDWIyPpWeksf2A8mrZXbDJ+nh0aRSTZvTkL+tFCyv7X0997wXQ5I3Vg+2z5Wes6dpTq5fAZdS4OlPLwyfm2AM/FsBPZgHxkQK0ldeKFMMnptxpgxG/2lcg33gy5FIFkdk0GhwEWWjCyejU2+1/DLl5CwOvg4khJeQq8vIU5FuKMwDjFoyqaFUbvg8hRwy2zLbHaNhHRJYZdYcb+BNwGRx0RZbsZsbCqr3YTA2CoQpzRcMe43mcFH41nQC5jXDmImgI7Trd6yo4EiYpbt4w6WMraTyIx6YMkPR3zh5Q0ZPfMHQzybrd3BkhY2KhKiXrYz8Wx02AVNwZIDtprsgxxdbMJs9IyG6/oOYMkOGz5y5X7OA1IL56xO5N8p4jxlhGUO1LWialt6SPrMM8QxGlQeyvWFVycgTxpoqjKb0/aU6RUAACAASURBVFDEDQbtg/fB8OYdBNmsuGwbfesPE2ZjC/Lh7vhIiJUKpqiM6cNb80SADzTRI5RaIF1VOG+QFETAu3bFpKQbobKLAbGTQc3R5jgdPd3eA+LllJ7l0ygq7Qod4cO2cADM7gxxlfciBpcIh67/3V1sr4YU9YqXBjZEY/9U+DlskhMSi7J09WhSaDJZLwlODIf4IvhedciYwFpu0UYRIY+sgFGlAmFQBWt+ITVvVLc4RP5QmNMGkmnOgGMlgZJFIEkyaKaoYgWorRpNBEprC8nSQPdpcOIIDGgvB8NcbQBvGwOJhZt2RZcV/hA6CM+6paPPbAJfw4k9sH8VdCkLMVLAVAebUM4yG79rUDA+tJ1lWNFHRVzlvbPM5vUdKJ4QmkywXdWKUM2n98H+9TDwa7AkgsEbbaWiSQ1kZEXhD/LcGLAYmM2Cbrb6f4uINzIPnhtXVVq9nWU2wpigYir4pp99iGmFBDZJ4ez04G7Ysxf2Gn67d8M19YMJh2Xd5KKk6s/RHOBaqWdWQr5EUPZHOHIElk+BBMmgzWRJ5ydXJLOpM82W7mvbgiUNeJjE6YmK2Vw5Cvu3wm+tIX58+GGkeWRUp5lNKLQpAoXqwf1orqh14jvNbMKhWxnIXRVuGRZqN07B/h2w8CdIkQiqdgVVoD0+FzKmhq1P4O0RyGVgNsIDd2Zlb0iM5a+6wVUHC5XoMJthdSBjMbhscK6rt9/0KqSkYAgOgM55IG0VuGxYcd/cLL+dNtp3GeoPp9bAoBmmGB0+3D1ATrYJi8LWaxDoB/2qQsJUsEFTjd7ZJIP6fTsIXoVC4DNoXxViJoEVWqwjYaItBJ31P0PKFLBaOHgNhkARSViRgBxWRHvx5jH80hA2HwWxZSCkRaFOTpwYdmg0OD1B1jlOXlh+GiI8kjeC+HFhYTQNVkKD5Zw1sRYkyglbNRWtXs8Xx+RiqEwHeChUrHehfSlZfnND/CQ7ZhOhnlBWDYL7fjMG9AW592bImQDcO8FrbXWzZ4Is0K1i9JnNvYuQXR/IsaD2BFtDA71R4uoss5lZAxKWgCPqBKgiciLtLLNZ+B3EKwi71M1iQHhALqS3ywLl+8NdZcK5swVypYOxmgXCyVH2zObYIujdHkaPg3GDoLGIJR8Lui6wZVp6c5xlNhs7QtwssNJk1a7jMl5PL5HqsYhVotIu/b6ZMVJnEOwW+yVJoXIPx1aGxnI+3IfCeC0gn15G2ppwUVOXBD+EFnkhaRG4rO2rPDgCJUU8m3Qfx2zqZbCu4rLVh1MO1A7OMpszUyB5EhgaDRXRh/ZrCWeZzeW58FlC6KOot3VcHYpa25WmIuxVVLmB96BxAaiuBTJ7ecie2Ty8Ar82g6EjYfxo6CW+L2Eg0BIemUg4zjKbW2JvKgG0+ojAchFtC4euec2ZzdOzUCI+FG4D1/XJSydINK67RZDBmDBSMRbxEpJtahilqSJ/rw9uYq9Mmcj9t8jQ3+0W2ha2uR+kSgEenzA3qRhF3KDdwyBNEhipSYenx8n+7rnICum7CTKlhJ6OQphbQU1TU2ubM5tDgyFGOpinbG5fWgxp44BqZCKQ2jKbN9CvNqTOIYN/Xb8M03pCpqTQd6NVB9+/urS0ypwT8ueFbOnlplfMCtFnNmLj+9ppOHceRrSHnClh5B7T9jrFbLaPlp08ScSw1v6CvaDd15AtJ+TLZ/3lyQHlu4KfiaTgDLPZPxVSJoYRImyv4U+sCP48C+cvwpTe0tqp93JE4NMINVHXilC0kzXT+XHglhVWqxKjAFY+5vd3pJoxaXXwMomI6gyzEUwjfULoucIGtbUiDlIBL8HzGly/bv+7dg0eOvigvXfCZzEge13wVCY5B8V8eLxtPKRNBC2nwOXLsH0hfJ4cavUBX40m2ydJ6SllJshfALKlg6yZ5L7FBhNVUlSSzZ1Lsr+EFFUiDTToZ77wcYbZ3D0ERVJA7eER0SJku4JgYXfImsM6BsV4zJMTClSHXUo8KJ0QzjCbh6egpNhr7Wsuqd6/Dhcugsc8KJ8JqrQG3fJ2xwBIVgKua6b5QrLJkxZEmG/9T1iWhqtGJ8IYoqWcZOYr1pM6vDPM5sWfUC0TfNkBniljXMfh1DUcfnLAbET+c1uhYi7IkQMq14atntEb8wLHThH1NjfsUPrm4XpIngr6awEc+xSGnF/Dn+oWgi8USgnfDLDOmwKfiJD7qczGcyvUqww5c0uDKbGvGyshiIB/4u/UaKlOXapI9/57IUtqaKtaskpwp/47Yja/fQdpC8ExZT7yPwi5U0dhjXZhMaSLDR1EjHH9T2y2V5O68nv6pBwKMweDuztU/lpGyexSHTK3gPcmIqGzezYiXsyw2lJX7mmyqoxKsjm3BDLFgzYKRxfNCPaGfi2hXEWoUsX6q1QBGg4Bf3WQaO2OitlcXQs5EkIjgy25TjabawjMbiV15Weew/nVUuffYTbs3gU7d8GkFtKO/de5cNGRfj4MlrWRewCqKbpeVlTM5u4eKJwUqg23/QD0/JFdo6VG0xCFv4LZ7aTp7U+jbDfyIy3rNtRMCXk6wVtlPO0bApaEsFjZbzi0FmpUhYrloNc8WDoI4haGw/psqhQUFbNRQDkuVofxYaaJVBIVs3lzDapnhIKtwE+dpIWl5DAoW8E6BsV4rFwRqrWAw0YLMTFhRrFnE3AL6maH3I2kVafaBrO050KwxIFB64jQERa3QOnWsOkA7NoNa8ZA+qRQpQecPAOvHai3fJZI1fBQk/DbUTGbsIfQqhBkqg6eDhYpZnW3exYFs9HhT3tAdWHk9Bl0nG+uGtVhjdedvaXUslsJ/f1gnWQ2A7ZI6L7FIc83cFPRXPAYSqaE6j9rC0wN8acym5secu4QoeIrVoM6PaBPS0idEsZq2w8nR9vv/z7fA5lTQ3sHZu/GdhvvHTEb8Tx9ETiljJM3RyFf2iiYzboh0vR4rkJYUei8bvKMxiYHG+CvbkC1pPD1BPMNbKeZDbByoJSaVpjogyNjNi+ERVxS+PLHT1gpKRSOjNm8uwVVUkKRVvDAoB9XUNgk98+Q5zjm3gI9rauHjNfUNW2yWm/CYXVHad0UXWYT+hjqZ4Lc9eCGg360FmSfiq4aLew1TG0pI6z2GO88oxEl3z8PWS3QdL7tntutHVJ901P7yO1rCUNLQtaacF2Ynxn+osNshEouqQU66JE6FVyRMptA6FMGUheFg3/BWYpImU0IDKkGyRVzZ6Wapsm31yCDBb6fBMKCLIsSUdY4Di1Z4KRhLtCRPl6lMRuTM0RRMZtpjSFReljlaFGlFxLV1UlmI9AEvYbRjSFOKphtIvU6KiqC2eSByJjNL0UhoztcUBfINyBHUqjex5zZbLA7Le6oBrbPp9aCmOlh7nHr8/vrIHMaGK1Z7erMZqViJPO/ZDYp8sI+5TD6wx2QPXkUzGaTxmx6qx/zGxhcR+oA92iTVFAAhOsrzjBYJyyAxEElkxPegiTD3SFTXlAk0YjNvZevDCtsP+gjTIRTwkmTFc+4byB9FhMT6vfQLj8UrgNeaodb+yPaqd8ay9WC0l8SRzB0Kw55q8JVw6akABCGAS9fQqhOH/HwHYxvCJYEsN0bAl/C1YtSPSRURNf/hAkNpOQzZg3cfgQhgfDC3xbPCx9wjwPZGsJ9k8l0ZS9IFgOOqKtpUX44DK0KWUvAiY8c5AH+tnUW9dZ/ly6Cr2INJCJaTm4ix0y3cbYfmyRi5P99z0MeC5TsAwpaTkyUOAdq41OoKkOVtnqvhxQJoY1iBaSWdOh3ed5ptaIvFyqiVy8gSF2VAjuEGbEFRpmoSI8vhpQWWGLYpxNlLekKadPBetVaU61ENNMXPOSZqFkmE/O6/pA2JSwz+e7EhvTrFxBoWAydmqb1i3aO5qbSj9dvwpbxkDo+1BoK12/D20AQJu0BBjzCSileRlhncnD69h/ynM0IEwuz3ROlGne6NjFGkxy24OHQIx+krw5XVPPhcAj0gucGk/9jQr0UGzobNB+2SG3vnGE224QVYGpYqpwAPzsLEiWCHmts8Xn8DMmTwUpN8hbThM1cYQtud/drKUhfBs4oC8Y5HSCOG4zT1Gj/C2YjjkokyQ3b9ei2Ws22CEEkNcxRjLrW9pdWgKpFowC32bMRm2ol04JbSug9E3ZsgX5NZcZ8P1lt5Kd1hknjYdNWmNVZWqfVFJYYCmnCn8GWjbBlGzQqCCkywNStsGmDNBk8NQ/yZYVek2DTRvkThzPFB16pr6Ln9oNtm2DLdmhWHJKlhslbYKMH+IoPIFBaY8SKDz9OkXX28ACP9bB+B/iZqMiUatomX8DOLbKstuWkhce4TbBxHdwTk3soTG8FsWODsHIR9NHLWrdNnosQ+tRimaDdSNgo2rUJujeW7SrRFp4ZPlq9AuuEiaywRtMmjjMbIGsS6DscNm2GzUugeh6IkQZmKR3La2lptHk7dP8WErjB0HWwQdi7awx7SS8pYXw/DLYrdV67BXzUTtMr8wnXdw+hTwVwiw19freOmeigDHsJfWpImn39C2zdCnNGyhV5gi/hqGYFdGAZDOgEHlth1UT4MjmkKm2wbAqAk/th41YY1lFKRt3mg8c6uPoYXt6Dmpngm+6wbgNs3gJj+khLpvTl4IzuZigQzhyUeEZ1lYeGO8+W4+yCNnEcmCnPxJT5UdZ5gzYO12yA69GRcoLgwhHYsAUm/CIlrDZT5Vg7q7llObFI0qNEG9i8FT6U5QFXfaWV0g/ZoWI7WLketmyFqUMgaWxImh/2mDBK0Uc3V0OGhNY9m6BXUCYJ1G4D69fDdg/oVV9qOhprloERfRsK10/A+k3SLZLwiNFwBKzfACc0RnltE+SMAfkawnrtGxbfz5r1cNZoUhvJgHlwCdatl3NAjQyQvBBMXgoem+GS1hceP0GiL6DvYjlPrZoDpTPKMz3LlX3RSIqJeOUMs3l2Fgq4SbXgsg2wfgEUyQ6JCsNZlQkKteh0SBhTGi6s3QqTZsKWaCxMVgp1fDz4bqgcqz3rQ7ok4JYExv3Fks3LW7BhvSynzRcQLy30/13OaX9oxkUBpyFXfMhTEpaugfm9IKfw1OEGTaMyfT63AerlVCyPYkOlFnBR/+iArb3lRxshdseHBr3hukHtFbIXkmruQWzE8xjg8QZee8OgZpAwnpxUBEyKtNBpKNxW7TIPQWrFVlzFtfIFhFyESlmsONT3lmRwRMUV1cg6CVmSmuOa7wvhN+Db3ObvxV7CHl9p9ji+M6RIbIVLlBya/wJXHHzgolqrxF5MRliuifhCihndDlIp9UmeB+bsMEzgl6GoYkWltn+8YFyPoZVijaS+F6u8FXaiW1REcvz+3RPoWlaqQfuuVBYMjrM4fPPwGvQXXigUy7fMJWH9Sesm760tUCyhRucYUKg6bDUenrwPDYRZvoJHT3ddJ9W+K4ZBjnRWmDhx4euWcEDZYOUBNPvSCqPjENcOmh58TE3z9wJmyGqHTbV/8RQ6K+cb1LKazZTtn1HfcVl9NJPTLVPgc+XbiBULyjeALZFIFX+ukK6WPlgShcl9HDF56vWImQI6jTIYT7yGIWK/1YTO3/6KOHstx7jJe5Gn9ViDlsOeKh+erO9sXo6w1OyhnQ/yPgSNSspFVkSdYkCGEjBhq/PliAJ3CKklN+xU1DK+ayBZSuirGQgQAocWQlFlbkjvDqvV8aPX/hUM7yDdYYl6JcsMG5W5VQdzdBVGQu2qy8PbIn+2wjBpHFT5Gn7Xxv7JkdpcopTvtwsyp4LWix1htn9+foKti6sIOmr9V7mfFf7kAsgnrEAtkCgz9OwJVSvCELEvqPzZSDb68/eP4JYneHrCjVvwUtn8iYB5B/duau+9zQ/uCceHXjfhxg373xtNZRH6Hu7dBU8B4wk+DyBQVT+Jwt7DLS97HAJvhOl1EPjc0epiLOs2BBjUI3obTa8BcMdLq4+CS9DhlVDXBMMDb/hT0EV5L9Ket+CdptIJCwTf+9Z23bsPAVFY3Lx+DDduw2vdCENovwLhgY/EI+pwX9GLfqh/ENy9bd9+Ae8vcIXC43sO6uxlW94HnB+ZeOMPuzbBhUvRUw04Ki70JdwTtNV+Dz+cotNyhMBTMX7EWPWCp2Yq1BB4cNe+/Z5/whN91SnwPJR9KnDduQOvjRJxCDwyoWMEHk069H9gX44YG3/eAD+zujlsODzxscclynqkqW5fPLR/r5f1TJdWQ+G5GFfat3pbfMsmJ+3Vaoi9jds34ZGqxg4D/ydWPLfu2bpMisgfBn4m7Rd1fuAnJ/g3T+zHqV7nx6q+VK2QSfrNUwd4bsJTve2AsKAUbYkYH7fgwfPoMRpR9LuncMMb3ioaCXG2xesWPDP0qZ+AFWPxJvi8ti6KjE0QqvY72vx63yf6auagN+At5ilPeCIW+SHw/Dno82rAc/u5JOwd3LkFjxX6GOtlvA98YT/PRcx1N8BHtSwNgSd34boneIstgFB4IepjUPWbMhtjoa57FwVcFHBRwEUBFwU+hQIuZvMp1HPldVHARQEXBVwUcIoCLmbjFJlcQC4KuCjgooCLAp9CARez+RTqufK6KOCigIsCLgo4RQEXs3GKTC4gFwVcFHBRwEWBT6GAi9l8CvVceV0U+B9SQPgj87kND59E34rqf1it/x7qcGmxed/3r7Gi/O8R6K9pkYvZ/DV0dGFxUeAvp4DwiJA2JmSp9tcfvv3LK6sjDJcez30MZq/663/iVcTxKpoSkhSEo9qh2cjq+fY2LFwEpwzu9iPL43pn8CCgEuThCWjfANr3NY9HcnYu/FADvq4BA0aAr+I+Qcdzfj401mD6DTOPZPn8IvzURAb6aTXYHEbHF9XV7zL0aAJNO4PdOPCHA+OgaU2oURPq9YLdTgwsuzJfwpFJ0FzDU6c7bDfxH3VrM7RuCTVrQO1OsEXxZWSH8x/04L0vjOwAtRvCReVsgV7Fh3uhU234uia07wQXTU7GP94vw2eLsdGuI5z30XMr1ycwqgvU+Bq+bQenDG4wFMgok8H+MLUr1KwDx9TzISJnAHiugC51oGZNqNkSflcceUaJXAcIAq/V0K2u7NOaLWCGyeHIl2eg308SpkYzmGo42Kajc+bqsw2yxIM8teCh4UyHM/n/DpjAU9CkMeyLxrmZv6Oeapnvz0OpDJCqCJyO5OC1nsd3FSRJDr1NnJDqMK6rPQXsJJtn3jCtG2ROJL0IZC0FRvdH6wdCEjdIlRZyZJdwxVvAbWU1s3EwJFNgYov4F03BSzkg6rcFMieHuCml23URIyNLDbgQnVP/gL8vLBwE2RJB3FiQKhfY+NrzleGmE8WDLBmly/EkwnNBBphn4tXXnkzak0fQtwwkimvFkzS+9Gk2Y5c118nZkCk2xEoGWXPCZ8mlv7ep260w/7TU62ewdSbkTwqJE0LM+LDDcADwwmrIkxASJpMhhBPFhM+KSc8JensurZNBzxImlTCJY0HqwrBLYSZhV+BbEZsnAYgwFSnjylgZuvcEHVdU13cvYN8iKJoKkmoeG1apYycIlraEJDEhYzrIkRNSi5PO8aHjb1FhV96HwJr28tS2jieN6NN40EqJkOhzFCp+Jp9nzAGZ0kpfXM0mKLiikRT+B1/4wet/CaMRTVvYBNLmhz/0A7PRaO/fCSr8yL146Zy60uj1+e+s97+pbDtm07McZCgAk9dBt2KQvZitA02xcimWFnLXgvvaaeZFPaVbg+Fa4Kags/BlesheA+5qK5xlP0uvx4N1J58h0KEMxM8E6zQxZO9EiGuBrkuc63Sd0CPqQ9rsMGoZDKwG6TOB6oUl9BaM6idjkAdoDPHURsgdD7I2d+yvTMevX8Pvwrj+8PsWeK/hOb8d8iWATI3gkfAg8AI6lge3bLD2qszpewYKJIKM34OvwpB1vB97fXIfZk6E6SsMLmw+AuHS/vCZCK40HSb/KB1N7lSZzRPoUhrccsAxLUjUySXS3Xm9wdIdCc+gRzmwZIMj2grl9AoQfrJqD0BEkIj4W/izdG0x/KA8ZX13r4wE6S5iC0Wj7lunSL9Q7UfD7F9lOStVZvMaVo2CoQvATxuHD65AtWyQsDgcNpO4zMp/B+vHgAj/8FTzYvDoT/gmN8QrBHs0f1yLfpKMZtgm2R9BT6BBIYhbAHaahA8wK+rf/mz295D+czihjp1/e6MM9XcxGwNBnLy1YzaeJ+Cm5uiw71eQpagtszmzENLHgiGKM8hXN6FGChDOOoVXlgvLIGNMGKR4fX1zG2qlgtyd5Yf44ohckTaYYq2p92FIZ4EENRyHPrZCW1O3zsJ17WOeUBfSZLBlNsKdg/Dua/P3BoZUggTV4bEibdnAGG9EECkjnvcwpjrErQS+wj3MTaiVE3J3VzIHwuRaYCkIntHwg6RgME2+ewPDf5COUttM+TSG8+A6XNSY4zohuVpAZTZPL0HpePDtDMUNRwj8XBiSucN14e/OE8rGh5pTlNAAYdCvGCQtD5eEiusptC0IOZrDW82FT7gflBKSZh7Yp0Q7NG208vDJbTivrSr2zpB+1GyYjcBvogrc3k36uzILVqagtyaFCyUTPPsE08wOm4UjxRAYUQViVgYfRRL5Y6CUahcp34sVsXnq9U3o0wjKu0PVKtBlCvgr3q31XN57ofs3UMkd3BvAwAURrvD011FfQ+HgNOj5O/j8Cb+0gAoVof0QeGBwG/XGB37tA+4Vwb0uDNqkjAPg8gpZ37xpIE5CKFFRxun5rgNccfb70mrsexT6tYNKlcG9Nvy81jb09+m50HWydC01ooOsc/M+cFtx9RR14yHEHya0h3LuMr5Qi/7gZSKRBd6FSa2hfEVoNw5OzoXUn4Eez8aZslwwkezZCOKYMZtNI6XH299VT6XPoWd5sJSS3+T28RJmhuoW3R9+dgfLlzK2ycUVkCkGTNUdJ76CjsUhdlyIkQXOR8OHj9qRpsxGBdDSoX7QMS+kaQhPjX6wTOAdPQp/CV0LQsq68FBMCI/ghxKQoAo81D6y4KfQJBd8Vh/+8o3TcNg+FOLGhBrdzUMPOKq7o+dmzMbrCGSyQHs1sB6wRsTXyQhH78HDs9K1fJtltpKpx49gSQ8HbsH7W1AmDrRYbJ2sfmsOCQSzSQDzPnJvy5TZOGjg7LoQpzAc0CQSB2BRPl7UCGLlh52aZD61uYw1dFDxYDy+DsTJDzuisT/48iq0rghZs8uFRN6WMr67WiGvfVA0ASRKBvnyQ/5ckDIN1B+rQkWRDoXfG0Gc7JAnk4xkm0tz3FmqrfTOLjC8vw1NhTPTJJA3P+TMBjHiQJNJ1j48O1vmT5sEYsWFrHlkBNKydeGcLtJGUR3x+u5pKGyRoUTy54dcQk0fG+qPsGZe1wliZ4I82SBrNsidTWpN8olv0AoWZSrkGQysA9lzyfkqTQU4ZXAoHCDCj+eXqtdc+SF3dsghHN8mh1+3RlmEC0ChgJ1ko7wzZTYiHkUyC4xWYk4H3YNmwuNpWbkCOTBNxg0ZrmzEBvtCy7ySIQlN0rG50h37OqHeCIHfOkGeMtC3rWQ4ez5yg9FZZvPkOGRIAL8sV1sc/bT/OciSELpr8UEEhvPLoPBnUKIhTJkEHb6DBNltYz5EVdK9szBhOIweA2MMv5EjDRJAOOwdD9kTQ7EW4BnNFZ6xLmbM5u4JGWPmuznWCUaIsZO+lqERjt6FZxchnwXq/aZINuEwTYSOyAgHb8PLP+FzC/TbLUs98htkygEjBssPfkx09tCUijvNbJ6Be2ao2t08hLKCMvKkP3ydE8p3tIbWEMy2fm4QoQnGT4ABP0Li9NBtrqZmjByj3Vth+PC90Aa0gEcGyWqfFpdmnB7+PBCuHoYN++3QOH4QCvNaSpVmkfZwT6i+XkP/ipCiAOzTpPCdw8ESE0ZpKvDw1/BjJYifDTYa1INzGkK6gnA8mtKMXkm/O7BwGtzS4y4FwPh6kDIn7NcWoBtE/CwL5GoI18WzQBhfHxJngA3K3qCO05nrL0UgdTk4a9DjXpgry/pJ86Qd6As/CVVxHBezcYauKky0mc3Tg5A/GeSvDt5CLRIC8zvJFVjMilIv//wP+DwF5KkMd8S+Tggs6iL3Y9zKyQ9v5xQZB2dbIFxcDJlSwKpbsHuKDF+wUlthBAdBYKD9L8hErSAa5iyz6VsI0paHs7r1Ujg4LCvYdqWuEnDwF5D6KziueiT2hw5l5SDV3XIXEXHfoyFBHZguaarnN167bVBrQQQHOL9Jxr0v/B384ex+hAGNuDVjNiE+0LywXFEe1VbuR2dBWuFyPBscFiv3Z9CqGMTMAIc1ddiJOZBewGSBQ7fhySUpIQ0+CP5eUCoZ9FgL3udkfJbe2r6fCIxm2u+iLwwqHlFnZ5mNiHSaOAUsUVzGOywrCMJMyhLlbegBSZLAXFV6F+G/f5SrbL2/kpSAox+pOg3yh/opzZmNz2H4Qhhq1IdTd81pYtK1to8Es2kqA3/tVNSX58dD7IywRFjZhEPXfJDya/BUtA3PRKTOpDBisy3KWd//NQYCYWHw5g2cvwwzG0qmvUTTgmwQe2NJYZmy4PWaD4nSwMRDtvVx9q53YXNmM78hJBD7e4rV5YlxkCARDHRJNs6SNwIu2sxG5JrTxTbOSJYCkD8nxKkMr7UV2PzuUgLSP7rM+aFgLohVUTIbEWgqtQWmboOq2aHtHFnvfVNlvi1vIOQSVMhqO2nr+DI0BH+TyTtKZhMCc9pC0kywXtujECUHX4eaeczLSvMtPDCu1MIkA02aDlaqkRLfQL9akEB8rGdATGQXNkPh+FCqF/g5mLxk6z/9v+9OuWmf7VvwNtE/O1OCGbMR+Q4tgBxKjKJkGaFUcbDkhMMaAzqyBHLFtdIxaQYoXULubRy5C35XILcFui+CLu5QtoMMOvfoPOSwwGCxMg+APpWsOPQ+F9d4ReGwnV27c8zm8Ez4LBEM2qhQIlzoNwAACsxJREFUQezdOYhDEzs/bDeaYgLH58kAYz8bojAKusWNC7+sgaBg8L0I9XNA5kpw2iSqq1IL02RkzEZk8DwKrdwhWxrIURTmHosQTExxmT4Mhdk/QOzScE1Z0V+eBjHSwbyTchHT+DMo+WPEdtsHNIFXIV0s6GSIivqpzCbkBSwbIA0/RH+7CevHWNKQaIWmuhfxbNwKwx+KFHN3GSRIBaM1iflDRZ1MOGI24nne2uCl7NU+WAvJU7r2bJwk7Qewj2I2IveulTBgAPw6DPaehc7lIXdHW3XB7tUazFDYfRZ+coec7SIEnQhVUxY3SJ4GyraHx5r1yqYRED85nHoL4U9gwWToL8r51fobNAAmrIH3ygDQWxQVs9k5GpLFgcHaClrPF/oUlk2DfiZljVtuZaI6/P6JkDIO9FUnLuDGTk3dpAVx0uHX9JaWSjtMJkodRr0K3fWoQTB0GAwz/Ab/CrtMJsFXntDuK0iUAuZtcSyNqeWYpR0xGwF78QAMHgQD+8Pq4zC7o9z8v6xIdpcOSZgB/WHlMZj3IyQpC1dewesbUD6x/FgzVoAz2orx9n5I5Qa/iT2bcNi1CPr2t/a56H/R78NmwV2TiTsqyebOFsidEOqMMhhSBIGI+GlW1tAZcNOgw7+/C/InghqD5d6jTr93j6BGQijYGZ4rsYu8VkimOXS9Dun8NSpmo2PyPAyd60L8pNByMjxTytdhTK8as4lTGq4rzObSVIiZDuaLMMdh0CQtlOpiGywt8BpkigUd/mJms0kYVFigdG0YNALEt/dbF0ieBZZr0SEFs4lRSO4T6u26swQSpIYxe/Qn0bs6ZDaFIK8IN6/Q9KEHJE/lYjbRo/BHGAiYFeB3HcrEg4aqrt4A6H8DyomontPkC++tkCcOJM4Fh3WpIRhmtgBLAfCJxqaiWlRkzObRQcgp9hRG2zJFNb8z6WfHIK8FvhliNefV851YLferBhjE+X0zpXn4FNWwQs9kcj04Xaod1VW9mu5uUKMJaz+hwooRE5bsNUEYjUeRMRsbNMHQNhsUa2lvvfQBLhQ65ITCTeXmbfBd+E6L+jhHUWVdmCKttjaqUuIHJFEnImU2vlAzNRSsB7cNex9RY1YgHkO9DJCnBtww7Iv535OLjG/H2TKhp6fkeGg539SgTUFun3SW2UTkDIbJ30GMrLBakdjtsSpPnGE24dBCnE1rBHeVNr/bBzFjgAiNrf4JySZdATj+Md9vKPyUF1KVg9OK6vGkWCBm+nuYTZ8ikM4dzuvqdmFtOwMSJYGB+jEOlQCutEMKRCrZDPwKshcFwx5gRBTBUF2qeA4TRTjY/HBIWbU/9YFQfV/FH6bUk6at+3VLnWdQuzCkLA2eGtzD81AxDZQf9vHMYHJdSJcBjN/bqztQPTV83cdWHeCQMg5evL0P36aHSl3NLV8uesg9iYp94bHe/hcw9ju5YlutTLAOioh4HBYKAQGOfyHKSuvJBWhaGOIkh6X6hnFkyKN45zFQqjL3G85KvHgK73Wz3iDYK1ahyWGsspp88cwW5sAQEOG5R+7UCg2Fya2lzn27ZmIf+Bw6F4esdcDTUGYUVf3wev8MOal7qOdsxML8DfwspO6KcPETzjiFv4dB/9femcZGVUVxvDPttKVlioUWsCAREQgRimiILEZkKZqw0wBlkVJkM0JkoO10mAKBABGXohCFQGIsgjXEaIiCgkgCBIiRKBKFShDD8oFFIxKUQAs/c+beV+8snTdj5BOvyfTNzD33nHPPue8u5/zfneHQpT8cizGQXr8AA+Wh5FFwzNoNNcK+Fcrv5bVNqib8RgACE/Ogxyy4ZN1vUvsWnD+gTl0w584tUyDFCzWJhpLsJhsJowHbBU2YBzuMh9c2lkFqAbwX9vQ0rB8H3s6wU4e4bjfC36aSimXs/41QJqi4cfCz7gc3LsPMPuDJBzOM9n/vbKoeh3YRk4ooWSd9tQC2aZSk/AKxX1C1blj6eexmON/GtkDUZNNwGqoDsCSoHszMaQezg+pzvc6RvFoCpVMgEITZQ8GdBjM3qPCYJea1qVA6GQLVMKcIUlOhdF346u7oGvB4oN94WF4Ngx4DT4eIHIjFMN71HKxapmQ92xWyvDBjCfgr4bgMDH+ATzpIKoyYA8ukzK/KK1bBWWsAjSdDyq5BlaCvXPDcrHA+5SvhjPD5E+brfMPAKbA0CNMEjZUChXPhsjlo2MlLoPzcERjeDrwdYauB/kugajjJVXhnLfiDMGaAAidMWAwVi2C/XkR8+jqUFIG/GhaWQFsPPFEWPnnL795PGqpofJOhfTr0ng6XjVyVHMPSwwvtB6ow2YRh4MoE//ZwlWw/XYPat6EyABOHKZ1HLVA679KJ+9qFEDq9ohiWBf/1uy8IB42kuJ2sOr/aafYaq3xq9R9fAPbr3eoWnwIHPDJc3S8vv6CeV2rTDw4aK/W4shrh0DZYVAHlr6gHj3N7wvxF4FsBRwSIcVct3tK6QsliJWvBDGjjgU6D4HsjpGkna9Mk8PSHn6wJEvhhncrZbNb96devoWcG5PdX/WOh5Dyzoe8suGr4VWR9u1YNxIUjobIKSn2w11iExtVHn0AgSK/nZ0JVBQzqBh3yIeth+ED79ON54CqEQwZ0PRRGk5yNsfCxk1W/G8rLIVAFffNUXmj6AigPwicafHDlMPTKgU69odIPpU9DvuQtnZ2NnXmjyqMmm5t7INujBsfMluBtqW4gdybs0iu6b96EzqmKxv0QBDbD7xHJ+mNvQZc0RePqCJWb4DdjGx7S5DZsXQnd2yi61n2gdp8Bm41St5kvjsKD+riSjGyFEkpzKZ51V+HOKRhZCJ4W6jgblwtCL0FJFcCBiNVwM1JoqIfiJyEtMwaftrBXI8CunYeaiVCgdXBnwPjF8EuMXENzshL5/spJKO4GWblQp+PZidSLSXMaBujwlicTclqBR+u/Wp8BduFLGJKn7Cq7lWK/RhsaDC9+BUX5mqYVjK2AMzFg7Afr4BktT9Br1Vv+AxT5AoyR5z9SFFw+5wFId6vPFYKSaoDlo0H6bot07XPxvfg9E95IdGC6AWuKFZ+sjAg+6bBao5JuXQc5yqlQjjASGS7oMwaOJDHYyq5l3SRV3+WG7BzwZqkQbEpr2KB3rhe/A98oyNbtlbIh8+BwMihEAbmUQV4R1BsT1I/vQm53BXAJubYRTnwBg/vqdrWCwQE4a4SWmrrATVjvU6c5iA2eGg3HjV14E10zb65fhOXToLUGoox9ET77ECa/BHsuqUo7fZA7AI4abT1Xp04RqUkCOr/br+3sghZeyNFHdKV4YK6GOovEEx9B77aK9tER8P5GmDoddkhOy/lL2AJRk42smhoaYr/MRcwdiyZOR2qisVnNS8hIZDbG4RW3RXY63wUJ+8Vsl5wKEJe5UZgkHwkjWjITlmGIs3srJwicOgl/WTkvuwo25c3ZyIT/Wr5qiGO3RGhElbt3tH1s+kc8te10btLF8IXlE7Nd8WRIWTJ8TNpkZFg6mPUtXa1rGD/pj1a74vjD4hvrGpIVUdfySyTEXODIIT0i6KP4GnpJnaT/jPqmDtY9FNIjQgehE93C7GMj2GqnZVvzGqm31c+S4W8j/r4rjp5s7jsTOA12LOBYwLGAY4F7bQFnsrnXFnb4OxZwLOBYwLEAzmTjdALHAo4FHAs4FrjnFvgH2FRhaKhGOMAAAAAASUVORK5CYII=)\n"
      ]
    },
    {
      "cell_type": "code",
      "metadata": {
        "id": "69Dp99S40cnf",
        "colab": {
          "base_uri": "https://localhost:8080/"
        },
        "outputId": "32ee448e-24a5-47f9-f976-cf14cc37dc59"
      },
      "source": [
        "import re\n",
        "\n",
        "def idcheck(data):\n",
        "    r = re.search(r'^\\d{2}(0[1-9]|1[0-2])(0[1-9]|[12][0-9]|3[01])-[1-4]\\d{6}$', data)\n",
        "    if r:\n",
        "        return re.sub('\\d{7}', '*'*7, r.group())\n",
        "    else:\n",
        "        return f'{data} is not an id'\n",
        "\n",
        "\n",
        "datalist = ('881103-1231233', '891312-1234512', '1990-12-28')\n",
        "for x in datalist:\n",
        "    r = idcheck(x)\n",
        "    print(f'{x} => {r}')"
      ],
      "execution_count": null,
      "outputs": [
        {
          "output_type": "stream",
          "text": [
            "881103-1231233 => 881103-*******\n",
            "891312-1234512 => 891312-1234512 is not an id\n",
            "1990-12-28 => 1990-12-28 is not an id\n"
          ],
          "name": "stdout"
        }
      ]
    }
  ]
}