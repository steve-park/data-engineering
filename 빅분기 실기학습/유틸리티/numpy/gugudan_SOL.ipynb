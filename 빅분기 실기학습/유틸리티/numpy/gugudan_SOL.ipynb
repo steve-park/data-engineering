{
  "nbformat": 4,
  "nbformat_minor": 0,
  "metadata": {
    "kernelspec": {
      "display_name": "Python 3",
      "language": "python",
      "name": "python3"
    },
    "language_info": {
      "codemirror_mode": {
        "name": "ipython",
        "version": 3
      },
      "file_extension": ".py",
      "mimetype": "text/x-python",
      "name": "python",
      "nbconvert_exporter": "python",
      "pygments_lexer": "ipython3",
      "version": "3.7.6"
    },
    "colab": {
      "provenance": []
    }
  },
  "cells": [
    {
      "cell_type": "markdown",
      "metadata": {
        "id": "fCvt48-pmFRO"
      },
      "source": [
        "1. 구구단 테이블 만들기 (참조표, lookup표)\n",
        "   - 2 ~ 9단 작성\n",
        "   - axis=0 (단)\n",
        "   - ndarray로 작성 (indexing이 편하다)\n",
        "2. 메뉴 작성\n",
        "   - 1.한 개의 단 출력\n",
        "   - 2.단의 범위 출력\n",
        "   - 3.원하는 단의 목록 출력\n",
        "   - 4.종료\n",
        "3. 메뉴 상세 동작 프로세스\n",
        "   - 1.한 개의 단 출력 (함수 => doMenu1())\n",
        "       - 사용자 입력을 받음 ('단 번호 입력 : ')\n",
        "       - 선택한 단을 위에서 아래로 출력 \n",
        "       - 메뉴 표시 \n",
        "   - 2.단의 범위 출력 (함수 => doMenu2())\n",
        "       - 사용자 입력을 받음 ('단 번호 범위 입력 예) 3 5 : ')\n",
        "       - 선택한 단의 범위를 위에서 아래로 출력 \n",
        "       - 메뉴 표시  \n",
        "   - 3.단의 목록 출력 (함수 => doMenu3())\n",
        "       - 사용자 입력을 받음 ('출력을 원하는 단 목록 입력 예) 1 3 5 6 : ')\n",
        "       - 선택한 단의 목록을 위에서 아래로 출력\n",
        "       - 메뉴 표시    \n",
        "   - 4.종료\n",
        "        - 프로그램 종료\n",
        "4. 전체 프로세스\n",
        "   - 1.프로그램이 실행되면 구구단표를 생성하여 저장한다\n",
        "   - 2.다음의 내용을 반복 수행한다\n",
        "       - 메뉴가 표시된다\n",
        "       - 사용자가 메뉴에서 번호를 선택한다\n",
        "       - 번호가 4 이면 종료 메시지를 출력하고 반복을 종료한다\n",
        "       - 번호가 1, 2, 3 중 하나이면 doMenu1 ~ doMenu3을 호출하여 동작을 수행한다"
      ]
    },
    {
      "cell_type": "code",
      "metadata": {
        "id": "sCU4nck6oB4z"
      },
      "source": [
        "# 구구단표 만들기\n",
        "import numpy as np\n",
        "\n",
        "def makeGUGU() :\n",
        "  mylist = []\n",
        "  for i in range(1, 10):\n",
        "    inlist = []\n",
        "    for dan in range(2, 10):\n",
        "      inlist.append(f'{dan}*{i}={dan*i:2}')\n",
        "    mylist.append(inlist)\n",
        "\n",
        "  return np.array(mylist)\n",
        "\n",
        "#makeGUGU()"
      ],
      "execution_count": null,
      "outputs": []
    },
    {
      "cell_type": "code",
      "metadata": {
        "id": "cXEEa70tCL8x"
      },
      "source": [
        "# 구구단표 만들기 - comprehension\n",
        "import numpy as np\n",
        "\n",
        "def makeGUGU() :\n",
        "  mylist = [ [ f'{dan}*{i}={dan*i:2}' for dan in range(2, 10)] for i in range(1, 10)   ]\n",
        "  return np.array(mylist)\n",
        "\n",
        "#makeGUGU()"
      ],
      "execution_count": null,
      "outputs": []
    },
    {
      "cell_type": "code",
      "metadata": {
        "id": "39rxtaKlmFRP",
        "colab": {
          "base_uri": "https://localhost:8080/",
          "height": 193
        },
        "outputId": "749c20d5-7e2f-45c7-d281-5bf307975e4b"
      },
      "source": [
        "# 구구단 표 동작 확인\n",
        "x = makeGUGU()\n",
        "print(type(x), x.ndim, x.shape)\n",
        "print(x)"
      ],
      "execution_count": null,
      "outputs": [
        {
          "output_type": "stream",
          "text": [
            "<class 'numpy.ndarray'> 2 (9, 8)\n",
            "[['2*1= 2' '3*1= 3' '4*1= 4' '5*1= 5' '6*1= 6' '7*1= 7' '8*1= 8' '9*1= 9']\n",
            " ['2*2= 4' '3*2= 6' '4*2= 8' '5*2=10' '6*2=12' '7*2=14' '8*2=16' '9*2=18']\n",
            " ['2*3= 6' '3*3= 9' '4*3=12' '5*3=15' '6*3=18' '7*3=21' '8*3=24' '9*3=27']\n",
            " ['2*4= 8' '3*4=12' '4*4=16' '5*4=20' '6*4=24' '7*4=28' '8*4=32' '9*4=36']\n",
            " ['2*5=10' '3*5=15' '4*5=20' '5*5=25' '6*5=30' '7*5=35' '8*5=40' '9*5=45']\n",
            " ['2*6=12' '3*6=18' '4*6=24' '5*6=30' '6*6=36' '7*6=42' '8*6=48' '9*6=54']\n",
            " ['2*7=14' '3*7=21' '4*7=28' '5*7=35' '6*7=42' '7*7=49' '8*7=56' '9*7=63']\n",
            " ['2*8=16' '3*8=24' '4*8=32' '5*8=40' '6*8=48' '7*8=56' '8*8=64' '9*8=72']\n",
            " ['2*9=18' '3*9=27' '4*9=36' '5*9=45' '6*9=54' '7*9=63' '8*9=72' '9*9=81']]\n"
          ],
          "name": "stdout"
        }
      ]
    },
    {
      "cell_type": "code",
      "metadata": {
        "id": "6Jlw0Yc3n8Yp"
      },
      "source": [
        "def printMenu(menulist) :\n",
        "  print('-'*12, 'MENU', '-'*12)\n",
        "  for idx, x in enumerate(menulist, start=1):\n",
        "    print(f'{idx}.{x}')\n",
        "  print('-'*30)"
      ],
      "execution_count": null,
      "outputs": []
    },
    {
      "cell_type": "code",
      "metadata": {
        "id": "XvlXBhLumFRS",
        "colab": {
          "base_uri": "https://localhost:8080/",
          "height": 122
        },
        "outputId": "0ac5d06e-6663-4bd7-f0a5-0d72f01d6091"
      },
      "source": [
        "# printMenu 동작 확인\n",
        "mymenu = ['한 개의 단 출력','단의 범위 출력','원하는 단의 목록 출력','종료']\n",
        "printMenu(mymenu)\n",
        "# 1.한 개의 단 출력\n",
        "# 2.단의 범위 출력\n",
        "# 3.원하는 단의 목록 출력\n",
        "# 4.종료"
      ],
      "execution_count": null,
      "outputs": [
        {
          "output_type": "stream",
          "text": [
            "------------ MENU ------------\n",
            "1.한 개의 단 출력\n",
            "2.단의 범위 출력\n",
            "3.원하는 단의 목록 출력\n",
            "4.종료\n",
            "------------------------------\n"
          ],
          "name": "stdout"
        }
      ]
    },
    {
      "cell_type": "code",
      "metadata": {
        "id": "Az-MTfMZmFRV"
      },
      "source": [
        "def doMenu1(table) :\n",
        "  dan = int(input('단 번호 입력 (2~9의 숫자로 입력): '))\n",
        "  return '\\n'.join(table[:, dan-2])  "
      ],
      "execution_count": null,
      "outputs": []
    },
    {
      "cell_type": "code",
      "metadata": {
        "id": "eTrpl2mUn1au",
        "colab": {
          "base_uri": "https://localhost:8080/",
          "height": 193
        },
        "outputId": "e5da57b0-9185-41c5-8ad3-ac5add8058eb"
      },
      "source": [
        "# doMenu1 동작 확인\n",
        "r = doMenu1(x)\n",
        "print(r)"
      ],
      "execution_count": null,
      "outputs": [
        {
          "output_type": "stream",
          "text": [
            "단 번호 입력 (2~9의 숫자로 입력): 5\n",
            "5*1= 5\n",
            "5*2=10\n",
            "5*3=15\n",
            "5*4=20\n",
            "5*5=25\n",
            "5*6=30\n",
            "5*7=35\n",
            "5*8=40\n",
            "5*9=45\n"
          ],
          "name": "stdout"
        }
      ]
    },
    {
      "cell_type": "code",
      "metadata": {
        "id": "eXrJkPnamFRY"
      },
      "source": [
        "def doMenu2(table):\n",
        "    start, end = map(int, input('단 번호 범위 입력 예) 3 5 : ').split()) \n",
        "    return '\\n'.join('  '.join(x) for x in table[:, start-2:end-1])\n",
        "    #return table[:, start-2:end-1]    "
      ],
      "execution_count": null,
      "outputs": []
    },
    {
      "cell_type": "code",
      "metadata": {
        "id": "PwyHpoWzoPqw",
        "colab": {
          "base_uri": "https://localhost:8080/",
          "height": 193
        },
        "outputId": "f562c341-0c44-4bad-ad05-977ce5747fb4"
      },
      "source": [
        "# doMenu2 동작 확인\n",
        "r = doMenu2(x)   \n",
        "print(r)"
      ],
      "execution_count": null,
      "outputs": [
        {
          "output_type": "stream",
          "text": [
            "단 번호 범위 입력 예) 3 5 : 3 5\n",
            "3*1= 3  4*1= 4  5*1= 5\n",
            "3*2= 6  4*2= 8  5*2=10\n",
            "3*3= 9  4*3=12  5*3=15\n",
            "3*4=12  4*4=16  5*4=20\n",
            "3*5=15  4*5=20  5*5=25\n",
            "3*6=18  4*6=24  5*6=30\n",
            "3*7=21  4*7=28  5*7=35\n",
            "3*8=24  4*8=32  5*8=40\n",
            "3*9=27  4*9=36  5*9=45\n"
          ],
          "name": "stdout"
        }
      ]
    },
    {
      "cell_type": "code",
      "metadata": {
        "id": "DtEgRhVXmFRb"
      },
      "source": [
        "def doMenu3(table):\n",
        "    danlist = list(map(int, input('단 번호 목록 입력 예) 2 4 7 8 : ').split()))\n",
        "    return '\\n'.join('  '.join(x) for x in table[:, np.array(danlist)-2])"
      ],
      "execution_count": null,
      "outputs": []
    },
    {
      "cell_type": "code",
      "metadata": {
        "id": "ZxZrE9d2odhR",
        "colab": {
          "base_uri": "https://localhost:8080/",
          "height": 203
        },
        "outputId": "79b41ca9-a0e2-4807-c41f-ae7ad95d4308"
      },
      "source": [
        "r = doMenu3(x)\n",
        "print(r)"
      ],
      "execution_count": null,
      "outputs": [
        {
          "output_type": "stream",
          "text": [
            "단 번호 목록 입력 예) 2 4 7 8 : 2 4 7 8\n",
            "2*1= 2  4*1= 4  7*1= 7  8*1= 8\n",
            "2*2= 4  4*2= 8  7*2=14  8*2=16\n",
            "2*3= 6  4*3=12  7*3=21  8*3=24\n",
            "2*4= 8  4*4=16  7*4=28  8*4=32\n",
            "2*5=10  4*5=20  7*5=35  8*5=40\n",
            "2*6=12  4*6=24  7*6=42  8*6=48\n",
            "2*7=14  4*7=28  7*7=49  8*7=56\n",
            "2*8=16  4*8=32  7*8=56  8*8=64\n",
            "2*9=18  4*9=36  7*9=63  8*9=72\n"
          ],
          "name": "stdout"
        }
      ]
    },
    {
      "cell_type": "code",
      "metadata": {
        "id": "1ywEhaGImFRe",
        "colab": {
          "base_uri": "https://localhost:8080/",
          "height": 1000
        },
        "outputId": "f5852804-0499-47a4-a2e6-6c4f42d50a50"
      },
      "source": [
        "# 프로그램 동작 부분\n",
        "GGT = makeGUGU()\n",
        "menulist = ['한 개의 단 출력', '단의 범위 출력', \n",
        "            '원하는 단 목록의 출력','종료']\n",
        "myRun = [None, doMenu1, doMenu2, doMenu3]  # 활용해서 작성하세요.\n",
        " \n",
        "while True :    \n",
        "    printMenu(menulist)\n",
        "    menu = int(input('메뉴 번호 입력 : '))\n",
        "    if menu == len(menulist) :\n",
        "      print('다음에 다시 만나요~~')\n",
        "      break\n",
        "    r = myRun[menu](GGT)\n",
        "    print(r)"
      ],
      "execution_count": null,
      "outputs": [
        {
          "output_type": "stream",
          "text": [
            "------------ MENU ------------\n",
            "1.한 개의 단 출력\n",
            "2.단의 범위 출력\n",
            "3.원하는 단 목록의 출력\n",
            "4.종료\n",
            "------------------------------\n",
            "메뉴 번호 입력 : 1\n",
            "단 번호 입력 (2~9의 숫자로 입력): 3\n",
            "3*1= 3\n",
            "3*2= 6\n",
            "3*3= 9\n",
            "3*4=12\n",
            "3*5=15\n",
            "3*6=18\n",
            "3*7=21\n",
            "3*8=24\n",
            "3*9=27\n",
            "------------ MENU ------------\n",
            "1.한 개의 단 출력\n",
            "2.단의 범위 출력\n",
            "3.원하는 단 목록의 출력\n",
            "4.종료\n",
            "------------------------------\n",
            "메뉴 번호 입력 : 2\n",
            "단 번호 범위 입력 예) 3 5 : 3 6\n",
            "3*1= 3  4*1= 4  5*1= 5  6*1= 6\n",
            "3*2= 6  4*2= 8  5*2=10  6*2=12\n",
            "3*3= 9  4*3=12  5*3=15  6*3=18\n",
            "3*4=12  4*4=16  5*4=20  6*4=24\n",
            "3*5=15  4*5=20  5*5=25  6*5=30\n",
            "3*6=18  4*6=24  5*6=30  6*6=36\n",
            "3*7=21  4*7=28  5*7=35  6*7=42\n",
            "3*8=24  4*8=32  5*8=40  6*8=48\n",
            "3*9=27  4*9=36  5*9=45  6*9=54\n",
            "------------ MENU ------------\n",
            "1.한 개의 단 출력\n",
            "2.단의 범위 출력\n",
            "3.원하는 단 목록의 출력\n",
            "4.종료\n",
            "------------------------------\n",
            "메뉴 번호 입력 : 3\n",
            "단 번호 목록 입력 예) 2 4 7 8 : 2 5 7 9\n",
            "2*1= 2  5*1= 5  7*1= 7  9*1= 9\n",
            "2*2= 4  5*2=10  7*2=14  9*2=18\n",
            "2*3= 6  5*3=15  7*3=21  9*3=27\n",
            "2*4= 8  5*4=20  7*4=28  9*4=36\n",
            "2*5=10  5*5=25  7*5=35  9*5=45\n",
            "2*6=12  5*6=30  7*6=42  9*6=54\n",
            "2*7=14  5*7=35  7*7=49  9*7=63\n",
            "2*8=16  5*8=40  7*8=56  9*8=72\n",
            "2*9=18  5*9=45  7*9=63  9*9=81\n",
            "------------ MENU ------------\n",
            "1.한 개의 단 출력\n",
            "2.단의 범위 출력\n",
            "3.원하는 단 목록의 출력\n",
            "4.종료\n",
            "------------------------------\n",
            "메뉴 번호 입력 : 4\n",
            "다음에 다시 만나요~~\n"
          ],
          "name": "stdout"
        }
      ]
    }
  ]
}