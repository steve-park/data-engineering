{
  "nbformat": 4,
  "nbformat_minor": 0,
  "metadata": {
    "colab": {
      "provenance": [],
      "collapsed_sections": [
        "bpNmyrSSUZzX",
        "AB9VmNw9Eb-R"
      ]
    },
    "kernelspec": {
      "display_name": "Python 3",
      "language": "python",
      "name": "python3"
    },
    "language_info": {
      "codemirror_mode": {
        "name": "ipython",
        "version": 3
      },
      "file_extension": ".py",
      "mimetype": "text/x-python",
      "name": "python",
      "nbconvert_exporter": "python",
      "pygments_lexer": "ipython3",
      "version": "3.7.6"
    }
  },
  "cells": [
    {
      "cell_type": "markdown",
      "metadata": {
        "id": "nvMCPQGk0eB-"
      },
      "source": [
        "### 1.ndarray 성능확인\n"
      ]
    },
    {
      "cell_type": "code",
      "metadata": {
        "id": "bDRChRKYXai7"
      },
      "source": [
        "# [0] numpy 라이브러리 import\n",
        "import numpy as np"
      ],
      "execution_count": null,
      "outputs": []
    },
    {
      "cell_type": "code",
      "metadata": {
        "id": "DMvqY88lXcig",
        "colab": {
          "base_uri": "https://localhost:8080/",
          "height": 36
        },
        "outputId": "e7caa0d6-0caf-4a2f-d782-5bb30663536e"
      },
      "source": [
        "# [1] numpy Vectorizing 연산 원리 - Python with Loop\n",
        "A = [1, 2, 3]\n",
        "B = [4, 5, 6]\n",
        "C = []\n",
        "for a, b in zip(A, B):\n",
        "    C.append(a + b)\n",
        "\n",
        "print(C)"
      ],
      "execution_count": null,
      "outputs": [
        {
          "output_type": "stream",
          "text": [
            "[5, 7, 9]\n"
          ],
          "name": "stdout"
        }
      ]
    },
    {
      "cell_type": "code",
      "metadata": {
        "id": "FNpu7HAJXq5c",
        "colab": {
          "base_uri": "https://localhost:8080/",
          "height": 36
        },
        "outputId": "6a37e843-fa28-4d63-e94a-2636123ace5b"
      },
      "source": [
        "# [2] numpy Vectorizing 연산 원리 - Python with Numpy\n",
        "A = np.array([1, 2, 3])\n",
        "B = np.array([4, 5, 6])\n",
        "C = A + B\n",
        "print(C)"
      ],
      "execution_count": null,
      "outputs": [
        {
          "output_type": "stream",
          "text": [
            "[5 7 9]\n"
          ],
          "name": "stdout"
        }
      ]
    },
    {
      "cell_type": "code",
      "metadata": {
        "id": "J-RgB4fX0Psj"
      },
      "source": [
        "# [3] numpy와 list의 성능 차이 확인을 위한 함수 작성\n",
        "# a 1000000 행, 4 열 - list\n",
        "a = [[ 1, 2, 3, 4 ] for _ in range(1000000)]  \n",
        "b = np.array(a) # ndarray\n",
        "\n",
        "def exchange_list(a):\n",
        "  c = []\n",
        "  for x in a:\n",
        "      x[2], x[3], x[0], x[1] = x\n",
        "      c.append(x)\n",
        "  return c\n",
        "\n",
        "def exchange_ndarray(a):\n",
        "   return a[ : ,[2, 3, 0, 1]]"
      ],
      "execution_count": null,
      "outputs": []
    },
    {
      "cell_type": "code",
      "metadata": {
        "id": "74TT0lJUV3HL",
        "colab": {
          "base_uri": "https://localhost:8080/",
          "height": 73
        },
        "outputId": "d0b90702-07a7-46c2-a2bd-2ab723467cf9"
      },
      "source": [
        "# [4] a, b 배열의 확인\n",
        "print(a[:2], b[:2], sep='\\n')"
      ],
      "execution_count": null,
      "outputs": [
        {
          "output_type": "stream",
          "text": [
            "[[1, 2, 3, 4], [1, 2, 3, 4], [1, 2, 3, 4]]\n",
            "[[1 2 3 4]\n",
            " [1 2 3 4]]\n"
          ],
          "name": "stdout"
        }
      ]
    },
    {
      "cell_type": "code",
      "metadata": {
        "id": "1UpQlMg21gZo",
        "colab": {
          "base_uri": "https://localhost:8080/",
          "height": 73
        },
        "outputId": "95ac2b32-c4d1-4043-bfca-03ba0aa22bf3"
      },
      "source": [
        "# [5] numpy와 list의 성능 차이 확인을 위한 함수 실행\n",
        "c = exchange_list(a)\n",
        "d = exchange_ndarray(b)\n",
        "print(c[:2], d[:2], sep='\\n')  "
      ],
      "execution_count": null,
      "outputs": [
        {
          "output_type": "stream",
          "text": [
            "[[3, 4, 1, 2], [3, 4, 1, 2]]\n",
            "[[3 4 1 2]\n",
            " [3 4 1 2]]\n"
          ],
          "name": "stdout"
        }
      ]
    },
    {
      "cell_type": "code",
      "metadata": {
        "id": "b-w7jMVYVyeD",
        "colab": {
          "base_uri": "https://localhost:8080/",
          "height": 36
        },
        "outputId": "7cdd862f-f4a1-4130-892a-89a3c581814a"
      },
      "source": [
        "# [6] list를 사용했을 때의 성능 확인\n",
        "%timeit exchange_list(a)"
      ],
      "execution_count": null,
      "outputs": [
        {
          "output_type": "stream",
          "text": [
            "177 ms ± 4.36 ms per loop (mean ± std. dev. of 7 runs, 10 loops each)\n"
          ],
          "name": "stdout"
        }
      ]
    },
    {
      "cell_type": "code",
      "metadata": {
        "id": "x_hIaQgpV0Ie",
        "colab": {
          "base_uri": "https://localhost:8080/",
          "height": 36
        },
        "outputId": "d04a4204-225b-486d-e4a1-178d86dc1fcd"
      },
      "source": [
        "# [7] numpy 배열을 사용했을 때의 성능 확인\n",
        "%timeit exchange_ndarray(b) "
      ],
      "execution_count": null,
      "outputs": [
        {
          "output_type": "stream",
          "text": [
            "9.1 ms ± 96.7 µs per loop (mean ± std. dev. of 7 runs, 100 loops each)\n"
          ],
          "name": "stdout"
        }
      ]
    },
    {
      "cell_type": "markdown",
      "metadata": {
        "id": "oCa83IylZ1OA"
      },
      "source": [
        "### 2.ndarray 속성"
      ]
    },
    {
      "cell_type": "code",
      "metadata": {
        "id": "gs7lgMK0tWaO"
      },
      "source": [
        "import numpy as np"
      ],
      "execution_count": null,
      "outputs": []
    },
    {
      "cell_type": "code",
      "metadata": {
        "id": "xgeMy6oauWYB",
        "outputId": "4b9b0d07-fc8a-457b-b2ec-636c20468d3f"
      },
      "source": [
        "# [8] ndarray의 속성 살펴보기\n",
        "# axis : 축 \n",
        "a = np.array([1, 2, 3, 4])\n",
        "b = np.array([[1, 2, 3, 4]])\n",
        "c = np.array([[[1,2,3,4]]])\n",
        "print(a.ndim, a.shape)\n",
        "print(b.ndim, b.shape)\n",
        "print(c.ndim, c.shape)"
      ],
      "execution_count": null,
      "outputs": [
        {
          "output_type": "stream",
          "text": [
            "1 (4,)\n",
            "2 (1, 4)\n",
            "3 (1, 1, 4)\n"
          ],
          "name": "stdout"
        }
      ]
    },
    {
      "cell_type": "code",
      "metadata": {
        "id": "pfhp1CJFuWYF",
        "outputId": "bc9c1c71-2315-4f51-b3c2-fafbec0302ca"
      },
      "source": [
        "# [9-1] 데이터에 비해 준비한 메모리가 작다\n",
        "a = np.array([178,216,128,427,500], dtype=np.int8 )  \n",
        "print(a.ndim, a.shape, a.dtype)\n",
        "print(a)\n",
        "\n",
        "# [9-2] 데이터에 크기에 맞춘 메모리 사용\n",
        "a = np.array([178,216,128,427,500], dtype=np.int16 )  \n",
        "print(a.ndim, a.shape, a.dtype)\n",
        "print(a)"
      ],
      "execution_count": null,
      "outputs": [
        {
          "output_type": "stream",
          "text": [
            "1 (5,) int8\n",
            "[ -78  -40 -128  -85  -12]\n",
            "1 (5,) int16\n",
            "[178 216 128 427 500]\n"
          ],
          "name": "stdout"
        }
      ]
    },
    {
      "cell_type": "code",
      "metadata": {
        "id": "R2KFZHEO2IMa",
        "colab": {
          "base_uri": "https://localhost:8080/",
          "height": 144
        },
        "outputId": "8fb63054-e2ef-40ed-ddc6-3bd2f6995072"
      },
      "source": [
        "# [10] print array information\n",
        "def printInfo(a):\n",
        "    data = ['a.ndim', 'a.shape', 'a.size', 'a.dtype', 'a.itemsize', 'a.strides']\n",
        "    for x in data:\n",
        "        print('%-11s' % x, eval(x))\n",
        "\n",
        "a = np.array([[0,1,2],[3,4,5]], dtype=np.int32)\n",
        "#printInfo(a)\n",
        "\n",
        "print(a.ndim, a.shape, a.size, a.dtype, \n",
        "      a.itemsize, a.strides, sep = ' / ')\n",
        "\n",
        "print(a[1][1])  #  base address + strides[0] * 1 + strides[1] * 1\n",
        "#print(a.ndim, a.shape, a.size, a.dtype, a.itemsize, a.strides)"
      ],
      "execution_count": null,
      "outputs": [
        {
          "output_type": "stream",
          "text": [
            "2 / (2, 3) / 6 / int32 / 4 / (12, 4)\n"
          ],
          "name": "stdout"
        }
      ]
    },
    {
      "cell_type": "markdown",
      "metadata": {
        "id": "fAya-kGlZ1K-"
      },
      "source": [
        "### 3.ndarray 생성"
      ]
    },
    {
      "cell_type": "code",
      "metadata": {
        "id": "m-EkRfePwavl"
      },
      "source": [
        "import numpy as np"
      ],
      "execution_count": null,
      "outputs": []
    },
    {
      "cell_type": "code",
      "metadata": {
        "id": "yxyJwtur2a4_"
      },
      "source": [
        "def printary(*a):\n",
        "    for x in a:\n",
        "        print(f'{type(x)}\\n{x.dtype}\\n{x}', end='\\n\\n')\n",
        "            \n",
        "    print(\"-\" * 30)"
      ],
      "execution_count": null,
      "outputs": []
    },
    {
      "cell_type": "markdown",
      "metadata": {
        "id": "nAQcclcqRjpl"
      },
      "source": [
        "##### 1) np.array 사용"
      ]
    },
    {
      "cell_type": "code",
      "metadata": {
        "id": "2drjTnoJ2cVS",
        "outputId": "3664d773-caf8-4707-bf56-58fe610c70e0",
        "colab": {
          "base_uri": "https://localhost:8080/"
        }
      },
      "source": [
        "# [11] np.array(object : array_like, dtype=None)\n",
        "a = np.array([1, 2, 3])\n",
        "b = np.array([[1, 2, 3], [4, 5, 6]])\n",
        "c = np.array([[1, 2, 3], [4, 5]])  # array_like가 아님\n",
        "printary(a, b, c)\n",
        "print(c.shape, c.itemsize)\n",
        "\n",
        "d = np.array(10)  # 스칼라\n",
        "printary(d)\n",
        "print(d.shape, d.ndim)"
      ],
      "execution_count": null,
      "outputs": [
        {
          "output_type": "stream",
          "name": "stdout",
          "text": [
            "<class 'numpy.ndarray'>\n",
            "int64\n",
            "[1 2 3]\n",
            "\n",
            "<class 'numpy.ndarray'>\n",
            "int64\n",
            "[[1 2 3]\n",
            " [4 5 6]]\n",
            "\n",
            "<class 'numpy.ndarray'>\n",
            "object\n",
            "[list([1, 2, 3]) list([4, 5])]\n",
            "\n",
            "------------------------------\n",
            "(2,) 8\n",
            "<class 'numpy.ndarray'>\n",
            "int64\n",
            "10\n",
            "\n",
            "------------------------------\n",
            "() 0\n"
          ]
        },
        {
          "output_type": "stream",
          "name": "stderr",
          "text": [
            "/usr/local/lib/python3.7/dist-packages/ipykernel_launcher.py:4: VisibleDeprecationWarning: Creating an ndarray from ragged nested sequences (which is a list-or-tuple of lists-or-tuples-or ndarrays with different lengths or shapes) is deprecated. If you meant to do this, you must specify 'dtype=object' when creating the ndarray.\n",
            "  after removing the cwd from sys.path.\n"
          ]
        }
      ]
    },
    {
      "cell_type": "code",
      "metadata": {
        "id": "rTXLYJJZ2lNL",
        "colab": {
          "base_uri": "https://localhost:8080/"
        },
        "outputId": "b7f769e5-9706-43bd-b197-6d2bbff9e549"
      },
      "source": [
        "# [12] Structured Array\n",
        "sdtype = [('name', '<U10'), ('height', '<i4'), ('weight', np.float32)]\n",
        "value =  [('Tom', 178, 98.5), ('Jim', 183, 79.5), ('Adam',  175, 82.8)]\n",
        "    \n",
        "a = np.array(value, dtype=sdtype)\n",
        "\n",
        "printary(a)\n",
        "a"
      ],
      "execution_count": null,
      "outputs": [
        {
          "output_type": "stream",
          "name": "stdout",
          "text": [
            "<class 'numpy.ndarray'>\n",
            "[('name', '<U10'), ('height', '<i4'), ('weight', '<f4')]\n",
            "[('Tom', 178, 98.5) ('Jim', 183, 79.5) ('Adam', 175, 82.8)]\n",
            "\n",
            "------------------------------\n"
          ]
        },
        {
          "output_type": "execute_result",
          "data": {
            "text/plain": [
              "array([('Tom', 178, 98.5), ('Jim', 183, 79.5), ('Adam', 175, 82.8)],\n",
              "      dtype=[('name', '<U10'), ('height', '<i4'), ('weight', '<f4')])"
            ]
          },
          "metadata": {},
          "execution_count": 6
        }
      ]
    },
    {
      "cell_type": "code",
      "metadata": {
        "id": "y_h2M3cZzD5d",
        "colab": {
          "base_uri": "https://localhost:8080/"
        },
        "outputId": "6d9ba9b5-8721-4643-f349-81ecb746ea05"
      },
      "source": [
        "# [13] Structured Array의 출력\n",
        "printary(a['name'], a['height'], a['weight'])\n",
        "printary(a[0], a[1], a[2])\n",
        "print(a.shape, a.strides, a[0])   # a.strides - 1개 row에 해당하는 메모리 크기"
      ],
      "execution_count": null,
      "outputs": [
        {
          "output_type": "stream",
          "name": "stdout",
          "text": [
            "<class 'numpy.ndarray'>\n",
            "<U10\n",
            "['Tom' 'Jim' 'Adam']\n",
            "\n",
            "<class 'numpy.ndarray'>\n",
            "int32\n",
            "[178 183 175]\n",
            "\n",
            "<class 'numpy.ndarray'>\n",
            "float32\n",
            "[98.5 79.5 82.8]\n",
            "\n",
            "------------------------------\n",
            "<class 'numpy.void'>\n",
            "[('name', '<U10'), ('height', '<i4'), ('weight', '<f4')]\n",
            "('Tom', 178, 98.5)\n",
            "\n",
            "<class 'numpy.void'>\n",
            "[('name', '<U10'), ('height', '<i4'), ('weight', '<f4')]\n",
            "('Jim', 183, 79.5)\n",
            "\n",
            "<class 'numpy.void'>\n",
            "[('name', '<U10'), ('height', '<i4'), ('weight', '<f4')]\n",
            "('Adam', 175, 82.8)\n",
            "\n",
            "------------------------------\n",
            "(3,) (48,) ('Tom', 178, 98.5)\n"
          ]
        }
      ]
    },
    {
      "cell_type": "markdown",
      "metadata": {
        "id": "fd3KaKnjRuPx"
      },
      "source": [
        "##### 2) np.arange 사용"
      ]
    },
    {
      "cell_type": "code",
      "metadata": {
        "id": "BXykk-bv2vpx",
        "outputId": "a528b583-62a4-4011-fd5c-0bda8d0ddbf0"
      },
      "source": [
        "# [14] np.arange의 사용 \n",
        "# np.arange(stop:number, dtype=None)\n",
        "# np.arange(start, stop)\n",
        "# np.arange(start, stop, step)\n",
        "a = np.arange(5)\n",
        "b = np.arange(1, 10, 2)\n",
        "c = np.arange(1, 2, 0.1) #, dtype=np.float64)\n",
        "printary(a, b, c)"
      ],
      "execution_count": null,
      "outputs": [
        {
          "output_type": "stream",
          "text": [
            "<class 'numpy.ndarray'>\n",
            "int32\n",
            "[0 1 2 3 4]\n",
            "\n",
            "<class 'numpy.ndarray'>\n",
            "int32\n",
            "[1 3 5 7 9]\n",
            "\n",
            "<class 'numpy.ndarray'>\n",
            "float64\n",
            "[1.  1.1 1.2 1.3 1.4 1.5 1.6 1.7 1.8 1.9]\n",
            "\n",
            "------------------------------\n"
          ],
          "name": "stdout"
        }
      ]
    },
    {
      "cell_type": "code",
      "metadata": {
        "id": "Ja3Vmvp7XRKE",
        "colab": {
          "base_uri": "https://localhost:8080/",
          "height": 265
        },
        "outputId": "e1a859b1-59b4-4491-f4ea-1cd41a3e3228"
      },
      "source": [
        "# [15] 그래프 그릴때 축설정으로 사용 예\n",
        "import matplotlib.pyplot as plt\n",
        "#from matplotlib import pyplot as plt\n",
        "x = np.arange(0, 10, 0.1)\n",
        "y = np.cos(x)\n",
        "plt.plot(x, y)\n",
        "plt.show()"
      ],
      "execution_count": null,
      "outputs": [
        {
          "output_type": "display_data",
          "data": {
            "image/png": "[encoded data removed]",
            "text/plain": [
              "<Figure size 432x288 with 1 Axes>"
            ]
          },
          "metadata": {
            "tags": [],
            "needs_background": "light"
          }
        }
      ]
    },
    {
      "cell_type": "code",
      "metadata": {
        "id": "VffWhSum7NdP",
        "colab": {
          "base_uri": "https://localhost:8080/",
          "height": 35
        },
        "outputId": "8931e9ce-096d-4365-cb33-8cc698100706"
      },
      "source": [
        "# [16] 1개 값도 array_like 이다\n",
        "x = np.array(1)\n",
        "print(x, type(x))"
      ],
      "execution_count": null,
      "outputs": [
        {
          "output_type": "stream",
          "text": [
            "1 <class 'numpy.ndarray'>\n"
          ],
          "name": "stdout"
        }
      ]
    },
    {
      "cell_type": "markdown",
      "metadata": {
        "id": "izOR5P5FRzoq"
      },
      "source": [
        "##### 3) np.linspace 사용"
      ]
    },
    {
      "cell_type": "code",
      "metadata": {
        "id": "fvMJKHcAuWYv",
        "outputId": "966b6302-d3fb-4aa1-f28e-dea0b20ddf60"
      },
      "source": [
        "a, step = np.linspace(0, 9, 10, retstep=True)\n",
        "print(a, step)"
      ],
      "execution_count": null,
      "outputs": [
        {
          "output_type": "stream",
          "text": [
            "[0. 1. 2. 3. 4. 5. 6. 7. 8. 9.] 1.0\n"
          ],
          "name": "stdout"
        }
      ]
    },
    {
      "cell_type": "code",
      "metadata": {
        "id": "SomZfC8i2v4t",
        "colab": {
          "base_uri": "https://localhost:8080/",
          "height": 71
        },
        "outputId": "22f333dc-b8d3-47d4-b323-3839b3a9b735"
      },
      "source": [
        "# [17] np.linspace(start:array_like, stop, num=50, endpoint=True, retstep=False, dtype=None)\n",
        "a = np.linspace(1, 10)\n",
        "b = np.linspace(1, 5, 10, endpoint=False)\n",
        "c = np.linspace(1, 5, 9, retstep=True)\n",
        "print(a, b, c, sep=\"\\n\")"
      ],
      "execution_count": null,
      "outputs": [
        {
          "output_type": "stream",
          "text": [
            "[ 1.          1.18367347  1.36734694  1.55102041  1.73469388  1.91836735\n",
            "  2.10204082  2.28571429  2.46938776  2.65306122  2.83673469  3.02040816\n",
            "  3.20408163  3.3877551   3.57142857  3.75510204  3.93877551  4.12244898\n",
            "  4.30612245  4.48979592  4.67346939  4.85714286  5.04081633  5.2244898\n",
            "  5.40816327  5.59183673  5.7755102   5.95918367  6.14285714  6.32653061\n",
            "  6.51020408  6.69387755  6.87755102  7.06122449  7.24489796  7.42857143\n",
            "  7.6122449   7.79591837  7.97959184  8.16326531  8.34693878  8.53061224\n",
            "  8.71428571  8.89795918  9.08163265  9.26530612  9.44897959  9.63265306\n",
            "  9.81632653 10.        ]\n",
            "[1.  1.4 1.8 2.2 2.6 3.  3.4 3.8 4.2 4.6]\n",
            "(array([1. , 1.5, 2. , 2.5, 3. , 3.5, 4. , 4.5, 5. ]), 0.5)\n"
          ],
          "name": "stdout"
        }
      ]
    },
    {
      "cell_type": "code",
      "metadata": {
        "id": "iN3D9iNX7ff2",
        "colab": {
          "base_uri": "https://localhost:8080/",
          "height": 108
        },
        "outputId": "6ab58a85-2e07-4741-f659-c1eabb9867dc"
      },
      "source": [
        "# [18] 두 개의 list를 사용한 경우 (2차원)\n",
        "x = np.linspace([1, 2, 3], [2, 4, 6], num=5)\n",
        "print(x)"
      ],
      "execution_count": null,
      "outputs": [
        {
          "output_type": "stream",
          "text": [
            "[[1.   2.   3.  ]\n",
            " [1.25 2.5  3.75]\n",
            " [1.5  3.   4.5 ]\n",
            " [1.75 3.5  5.25]\n",
            " [2.   4.   6.  ]]\n"
          ],
          "name": "stdout"
        }
      ]
    },
    {
      "cell_type": "code",
      "metadata": {
        "id": "xtwBbyt3YQGD",
        "colab": {
          "base_uri": "https://localhost:8080/",
          "height": 265
        },
        "outputId": "ab6460ca-7c74-41db-92d4-77a6a9982e52"
      },
      "source": [
        "# [19] 그래프 그릴때 축설정으로 사용 예\n",
        "x = np.linspace(0, 10, 100)\n",
        "y = np.sin(x)\n",
        "plt.plot(x, y)\n",
        "plt.show()"
      ],
      "execution_count": null,
      "outputs": [
        {
          "output_type": "display_data",
          "data": {
            "image/png": "[encoded data removed]",
            "text/plain": [
              "<Figure size 432x288 with 1 Axes>"
            ]
          },
          "metadata": {
            "tags": [],
            "needs_background": "light"
          }
        }
      ]
    },
    {
      "cell_type": "markdown",
      "metadata": {
        "id": "9O5V_mLvRYut"
      },
      "source": [
        "##### 4) random 사용"
      ]
    },
    {
      "cell_type": "code",
      "metadata": {
        "id": "NeEBTlxPJoXq"
      },
      "source": [
        "# [20] 라이브러리 import\n",
        "import numpy as np\n",
        "import matplotlib.pyplot as plt"
      ],
      "execution_count": null,
      "outputs": []
    },
    {
      "cell_type": "code",
      "metadata": {
        "id": "E2KeXp0vNmKl"
      },
      "source": [
        "# [21] numpy 출력 옵션 조절\n",
        "np.set_printoptions(threshold=999,\n",
        "                    suppress=True,\n",
        "                    precision=4,\n",
        "                    edgeitems=3)"
      ],
      "execution_count": null,
      "outputs": []
    },
    {
      "cell_type": "code",
      "metadata": {
        "id": "elDSwjaDYz5h"
      },
      "source": [
        "# [22]배열 출력 함수\n",
        "def printary(*a):\n",
        "    for x in a :\n",
        "        print(f\"shape : {x.shape}\")\n",
        "        print(f\"array : %s{x} \" % ('' if x.ndim == 1 else '\\n'))\n",
        "        print(\"mean  : %.3f, std : %.3f\" % (x.mean(), x.std()))\n",
        "        print(\"-\" * 30)"
      ],
      "execution_count": null,
      "outputs": []
    },
    {
      "cell_type": "code",
      "metadata": {
        "id": "a-XJWhgzJUXV"
      },
      "source": [
        "# [23] 히스토그램 그리기\n",
        "def showHist(x):\n",
        "    plt.hist(x)\n",
        "    plt.show()"
      ],
      "execution_count": null,
      "outputs": []
    },
    {
      "cell_type": "code",
      "metadata": {
        "id": "gd2TDLP8uWZG",
        "outputId": "6e6e0cdd-ad2a-4346-84d2-87db02e7eae5"
      },
      "source": [
        "c = np.random.rand(3,4)\n",
        "printary(c)"
      ],
      "execution_count": null,
      "outputs": [
        {
          "output_type": "stream",
          "text": [
            "shape : (3, 4)\n",
            "array : \n",
            "[[0.0904 0.1191 0.8107 0.4544]\n",
            " [0.1412 0.542  0.5955 0.0461]\n",
            " [0.9397 0.5967 0.0709 0.0865]] \n",
            "mean  : 0.374, std : 0.306\n",
            "------------------------------\n"
          ],
          "name": "stdout"
        }
      ]
    },
    {
      "cell_type": "code",
      "metadata": {
        "id": "V8bwah-tY3yn",
        "colab": {
          "base_uri": "https://localhost:8080/",
          "height": 248
        },
        "outputId": "9dfcf035-daf5-4c84-ab5b-953f579ea968"
      },
      "source": [
        "# [24] np.random.rand(d0, d1, ...,dn)  \n",
        "# 0~1 사이의 균일 분포로 실수 난수 배열 생성\n",
        "# d0, d1, ..., dn : 배열의 shape을 의미하는 정수\n",
        "a = np.random.rand(5)\n",
        "b = np.random.rand(2, 2, 3)\n",
        "printary(a, b)"
      ],
      "execution_count": null,
      "outputs": [
        {
          "output_type": "stream",
          "text": [
            "shape : (5,)\n",
            "array : [0.6548 0.0505 0.5631 0.9042 0.5751] \n",
            "mean  : 0.550, std : 0.278\n",
            "------------------------------\n",
            "shape : (2, 2, 3)\n",
            "array : \n",
            "[[[0.0131 0.8187 0.2491]\n",
            "  [0.0658 0.069  0.4525]]\n",
            "\n",
            " [[0.7872 0.7294 0.8389]\n",
            "  [0.5245 0.5778 0.1382]]] \n",
            "mean  : 0.439, std : 0.306\n",
            "------------------------------\n"
          ],
          "name": "stdout"
        }
      ]
    },
    {
      "cell_type": "code",
      "metadata": {
        "id": "JUZGLTYwKUOp",
        "colab": {
          "base_uri": "https://localhost:8080/",
          "height": 265
        },
        "outputId": "cbd9c07a-a591-4970-e85b-d14117149999"
      },
      "source": [
        "# [25] 히스토그램으로 분포 확인\n",
        "showHist(np.random.rand(50000))"
      ],
      "execution_count": null,
      "outputs": [
        {
          "output_type": "display_data",
          "data": {
            "image/png": "[encoded data removed]",
            "text/plain": [
              "<Figure size 432x288 with 1 Axes>"
            ]
          },
          "metadata": {
            "tags": [],
            "needs_background": "light"
          }
        }
      ]
    },
    {
      "cell_type": "code",
      "metadata": {
        "id": "ENjYBYktZAW6",
        "colab": {
          "base_uri": "https://localhost:8080/",
          "height": 195
        },
        "outputId": "76e4f312-34ab-4977-c924-f1edb3124c39"
      },
      "source": [
        "# [26] np.random.randint(e, size=n)\n",
        "# np.random.randint(s, e, size=n)\n",
        "# 0~e-1, s~e-1 범위의 값을 갖는 균일 분포의 정수 난수 생성\n",
        "# size : 정수(1차원), tuple(1차원 이상)로 shape 지정\n",
        "a = np.random.randint(10, size=(5,))\n",
        "b = np.random.randint(50, 100, (2,4)) \n",
        "printary(a, b)"
      ],
      "execution_count": null,
      "outputs": [
        {
          "output_type": "stream",
          "text": [
            "shape : (5,)\n",
            "array : [7 1 4 9 4] \n",
            "mean  : 5.000, std : 2.757\n",
            "------------------------------\n",
            "shape : (2, 4)\n",
            "array : \n",
            "[[59 92 56 77]\n",
            " [91 67 58 64]] \n",
            "mean  : 70.500, std : 13.592\n",
            "------------------------------\n"
          ],
          "name": "stdout"
        }
      ]
    },
    {
      "cell_type": "code",
      "metadata": {
        "id": "quiwa313KgQP",
        "colab": {
          "base_uri": "https://localhost:8080/",
          "height": 265
        },
        "outputId": "54784f4d-562e-4b35-ba58-8e300703b224"
      },
      "source": [
        "# [27] 히스토그램으로 분포 확인\n",
        "showHist(np.random.randint(10, size=50000))"
      ],
      "execution_count": null,
      "outputs": [
        {
          "output_type": "display_data",
          "data": {
            "image/png": "[encoded data removed]",
            "text/plain": [
              "<Figure size 432x288 with 1 Axes>"
            ]
          },
          "metadata": {
            "tags": [],
            "needs_background": "light"
          }
        }
      ]
    },
    {
      "cell_type": "code",
      "metadata": {
        "id": "CDtECsWcZAt5",
        "colab": {
          "base_uri": "https://localhost:8080/",
          "height": 284
        },
        "outputId": "211abe4e-a90b-4136-a899-b5a1d42c382d"
      },
      "source": [
        "# [28] np.random.randn(d0, d1, ... dn)\n",
        "# 평균 0, 표준편차 1을 갖는 가우시안 표준 정규 분포로 난수 배열 생성(음수 포함)\n",
        "a = np.random.randn(5)\n",
        "b = np.random.randn(200, 50)\n",
        "printary(a, b)"
      ],
      "execution_count": null,
      "outputs": [
        {
          "output_type": "stream",
          "text": [
            "shape : (5,)\n",
            "array : [ 0.0887  0.4696  0.2496  0.0511 -0.6025] \n",
            "mean  : 0.051, std : 0.359\n",
            "------------------------------\n",
            "shape : (200, 50)\n",
            "array : \n",
            "[[-0.3758  0.1685 -1.5191 ...  1.2369  0.0547  0.3518]\n",
            " [ 0.0313 -0.5622 -0.4562 ...  0.5118  0.7811  0.512 ]\n",
            " [ 0.2184 -1.4841  0.1861 ... -1.3295 -0.2064 -0.3841]\n",
            " ...\n",
            " [ 1.5983  1.4777  1.1309 ... -0.9259  0.4862  0.7126]\n",
            " [-0.4622 -0.9972 -1.828  ...  1.212   1.6168  0.3936]\n",
            " [-0.0172  0.9921 -1.3381 ...  0.4823  0.2638 -0.3589]] \n",
            "mean  : -0.009, std : 1.004\n",
            "------------------------------\n"
          ],
          "name": "stdout"
        }
      ]
    },
    {
      "cell_type": "code",
      "metadata": {
        "id": "jYacgdPSLx40",
        "colab": {
          "base_uri": "https://localhost:8080/",
          "height": 268
        },
        "outputId": "3c3add7e-5360-47da-83e8-dca437308e01"
      },
      "source": [
        "# [29] 히스토그램으로 분포 확인\n",
        "showHist(np.random.randn(5000))"
      ],
      "execution_count": null,
      "outputs": [
        {
          "output_type": "display_data",
          "data": {
            "image/png": "[encoded data removed]",
            "text/plain": [
              "<Figure size 432x288 with 1 Axes>"
            ]
          },
          "metadata": {
            "tags": [],
            "needs_background": "light"
          }
        }
      ]
    },
    {
      "cell_type": "code",
      "metadata": {
        "id": "wygHi7PjZEvG",
        "colab": {
          "base_uri": "https://localhost:8080/",
          "height": 215
        },
        "outputId": "0d0039c4-cbec-4356-e2fd-ed791365b6e6"
      },
      "source": [
        "# [30] np.random.normal(평균, 표준편차, size)\n",
        "# 생략하면 평균=0, 표준편차=1, size=1이 됨\n",
        "a = np.random.normal(2, 3, size=(100, 20))\n",
        "printary(a)"
      ],
      "execution_count": null,
      "outputs": [
        {
          "output_type": "stream",
          "text": [
            "shape : (100, 20)\n",
            "array : \n",
            "[[ 1.2302  2.7856  2.3337 ...  3.8996  0.5011  3.8689]\n",
            " [ 5.5603  3.5701  1.0856 ...  1.5501  0.3365  1.6964]\n",
            " [ 1.135   5.6397 -2.9284 ...  4.0152  0.6782  2.6751]\n",
            " ...\n",
            " [ 4.5993 -0.6375  1.7863 ...  2.916   5.4227  2.9234]\n",
            " [ 1.3871 -1.2488 -0.2873 ...  2.2529 -1.0578  8.2177]\n",
            " [-0.1729  7.3256  0.1645 ... -2.946   3.1968  2.0968]] \n",
            "mean  : 1.916, std : 2.941\n",
            "------------------------------\n"
          ],
          "name": "stdout"
        }
      ]
    },
    {
      "cell_type": "code",
      "metadata": {
        "id": "dW9EHc4KMFHq",
        "colab": {
          "base_uri": "https://localhost:8080/",
          "height": 265
        },
        "outputId": "88b095b2-5f75-453c-816d-14f1dea53a2f"
      },
      "source": [
        "# [31] 히스토그램으로 분포 확인\n",
        "showHist(np.random.normal(2, 2, (5000,)))"
      ],
      "execution_count": null,
      "outputs": [
        {
          "output_type": "display_data",
          "data": {
            "image/png": "[encoded data removed]",
            "text/plain": [
              "<Figure size 432x288 with 1 Axes>"
            ]
          },
          "metadata": {
            "tags": [],
            "needs_background": "light"
          }
        }
      ]
    },
    {
      "cell_type": "code",
      "metadata": {
        "id": "RlkVVwimZGPU",
        "colab": {
          "base_uri": "https://localhost:8080/",
          "height": 302
        },
        "outputId": "a2f65958-1658-4b4c-aee7-174abac6c980"
      },
      "source": [
        "# [32] permutation 사용 배열 생성\n",
        "#np.random.permutation(e) : 0 ~ e-1 값을 갖는 정수의 무작위 순서 1차원 배열 생성\n",
        "#np.random.permutation(c) : c 요소들에 대해 무작위 순서로 변경된 1차원 배열 생성\n",
        "# e : 정수, c : array_like 객체\n",
        "a = np.random.permutation(10)\n",
        "data = np.array([1,3,4,5,3,1,3])\n",
        "b = np.random.permutation(data)\n",
        "mylist = [[1,2,3],[4,5,6],[7,8,9],[3,2,1]]\n",
        "c = np.random.permutation(mylist)\n",
        "printary(a, b, c)"
      ],
      "execution_count": null,
      "outputs": [
        {
          "output_type": "stream",
          "text": [
            "shape : (10,)\n",
            "array : [3 2 4 7 1 5 9 6 0 8] \n",
            "mean  : 4.500, std : 2.872\n",
            "------------------------------\n",
            "shape : (7,)\n",
            "array : [3 1 3 4 5 1 3] \n",
            "mean  : 2.857, std : 1.355\n",
            "------------------------------\n",
            "shape : (4, 3)\n",
            "array : \n",
            "[[7 8 9]\n",
            " [3 2 1]\n",
            " [4 5 6]\n",
            " [1 2 3]] \n",
            "mean  : 4.250, std : 2.618\n",
            "------------------------------\n"
          ],
          "name": "stdout"
        }
      ]
    },
    {
      "cell_type": "markdown",
      "metadata": {
        "id": "N5wKSDBISP9s"
      },
      "source": [
        "##### 5) 특정값으로 채워진 ndarray생성"
      ]
    },
    {
      "cell_type": "code",
      "metadata": {
        "id": "go9HTvACVz0o"
      },
      "source": [
        "import numpy as np"
      ],
      "execution_count": null,
      "outputs": []
    },
    {
      "cell_type": "code",
      "metadata": {
        "id": "giV_NupJM07F"
      },
      "source": [
        "def printary(*a):\n",
        "    for x in a:\n",
        "        print(f'{x.dtype}\\n{x}')\n",
        "    print(\"-\" * 30)"
      ],
      "execution_count": null,
      "outputs": []
    },
    {
      "cell_type": "code",
      "metadata": {
        "id": "UDOFqOp2M20K"
      },
      "source": [
        "mshape = (2, 3)  "
      ],
      "execution_count": null,
      "outputs": []
    },
    {
      "cell_type": "code",
      "metadata": {
        "id": "V-FFUiygW80K",
        "colab": {
          "base_uri": "https://localhost:8080/",
          "height": 124
        },
        "outputId": "f8afd130-f2bf-4209-8a04-6696728dd9e9"
      },
      "source": [
        "# [33] np.zeros(shape, dtype=float64)\n",
        "#shape: 정수(1차원), tuple(1차원 이상)\n",
        "a = np.zeros(10, dtype = np.int32)\n",
        "b = np.zeros(mshape)\n",
        "printary(a, b)"
      ],
      "execution_count": null,
      "outputs": [
        {
          "output_type": "stream",
          "text": [
            "int32\n",
            "[0 0 0 0 0 0 0 0 0 0]\n",
            "float64\n",
            "[[0. 0. 0.]\n",
            " [0. 0. 0.]]\n",
            "------------------------------\n"
          ],
          "name": "stdout"
        }
      ]
    },
    {
      "cell_type": "code",
      "metadata": {
        "id": "JVQ-9uQ8NBiC",
        "colab": {
          "base_uri": "https://localhost:8080/",
          "height": 124
        },
        "outputId": "5afc3d8f-a5ca-462f-d6be-36e87c2d1977"
      },
      "source": [
        "# [34] np.empty(shape, dtype=float64)\n",
        "a = np.empty(10, dtype=np.int32)\n",
        "b = np.empty(mshape)\n",
        "printary(a, b)"
      ],
      "execution_count": null,
      "outputs": [
        {
          "output_type": "stream",
          "text": [
            "int32\n",
            "[0 0 0 0 0 0 0 0 0 0]\n",
            "float64\n",
            "[[0. 0. 0.]\n",
            " [0. 0. 0.]]\n",
            "------------------------------\n"
          ],
          "name": "stdout"
        }
      ]
    },
    {
      "cell_type": "code",
      "metadata": {
        "id": "N6hR3FHBND2r",
        "colab": {
          "base_uri": "https://localhost:8080/",
          "height": 141
        },
        "outputId": "387d312e-bfc3-4f25-94f8-dfb9a39cde5c"
      },
      "source": [
        "# [35] np.ones, np.full\n",
        "#np.ones(shape,dtype=float64)\n",
        "#np.full(shape, value, dtype=None)\n",
        "a = np.ones(mshape)\n",
        "b = np.full(mshape, 5.0)\n",
        "printary(a, b)"
      ],
      "execution_count": null,
      "outputs": [
        {
          "output_type": "stream",
          "text": [
            "float64\n",
            "[[1. 1. 1.]\n",
            " [1. 1. 1.]]\n",
            "float64\n",
            "[[5. 5. 5.]\n",
            " [5. 5. 5.]]\n",
            "------------------------------\n"
          ],
          "name": "stdout"
        }
      ]
    },
    {
      "cell_type": "code",
      "metadata": {
        "id": "DofBjBf_V6yg",
        "colab": {
          "base_uri": "https://localhost:8080/",
          "height": 248
        },
        "outputId": "95a1d5e6-9a65-4361-bea0-920dcd6d5119"
      },
      "source": [
        "# [36] np.eye(N, M=None, k=0, dtype=float64)\n",
        "a = np.eye(3)\n",
        "b = np.eye(3, 5, 2)\n",
        "c = np.eye(3, 5, -1)\n",
        "printary(a, b, c)"
      ],
      "execution_count": null,
      "outputs": [
        {
          "output_type": "stream",
          "text": [
            "float64\n",
            "[[1. 0. 0.]\n",
            " [0. 1. 0.]\n",
            " [0. 0. 1.]]\n",
            "float64\n",
            "[[0. 0. 1. 0. 0.]\n",
            " [0. 0. 0. 1. 0.]\n",
            " [0. 0. 0. 0. 1.]]\n",
            "float64\n",
            "[[0. 0. 0. 0. 0.]\n",
            " [1. 0. 0. 0. 0.]\n",
            " [0. 1. 0. 0. 0.]]\n",
            "------------------------------\n"
          ],
          "name": "stdout"
        }
      ]
    },
    {
      "cell_type": "code",
      "metadata": {
        "id": "15p7gou2NHYX",
        "colab": {
          "base_uri": "https://localhost:8080/",
          "height": 106
        },
        "outputId": "840b905a-0a7c-48b0-a5e0-3d66650d92c5"
      },
      "source": [
        "# [37] np.zeros_like(array_like, dtype=None)\n",
        "x = np.array([[1,2,3],[4,5,6]])\n",
        "a = np.zeros_like(x, dtype = np.float64)\n",
        "b = np.empty_like(x)\n",
        "printary(a, b)"
      ],
      "execution_count": null,
      "outputs": [
        {
          "output_type": "stream",
          "text": [
            "float64\n",
            "[[0. 0. 0.]\n",
            " [0. 0. 0.]]\n",
            "int32\n",
            "[[0 0 0]\n",
            " [0 0 0]]\n",
            "------------------------------\n"
          ],
          "name": "stdout"
        }
      ]
    },
    {
      "cell_type": "code",
      "metadata": {
        "id": "nYL2G9CyWb4C",
        "colab": {
          "base_uri": "https://localhost:8080/",
          "height": 124
        },
        "outputId": "4f9f8b8a-0be5-43c1-e974-eecf618ec4e5"
      },
      "source": [
        "# [38] np.ones_like, np.full)life\n",
        "a = np.ones_like([[1,2,3],[4,5,6]], dtype=np.float32)\n",
        "b = np.full_like(np.arange(5), 5)\n",
        "printary(a, b)"
      ],
      "execution_count": null,
      "outputs": [
        {
          "output_type": "stream",
          "text": [
            "float32\n",
            "[[1. 1. 1.]\n",
            " [1. 1. 1.]]\n",
            "int32\n",
            "[5 5 5 5 5]\n",
            "------------------------------\n"
          ],
          "name": "stdout"
        }
      ]
    },
    {
      "cell_type": "markdown",
      "metadata": {
        "id": "HDM07aLpZ0QY"
      },
      "source": [
        "### 4.view vs copy"
      ]
    },
    {
      "cell_type": "markdown",
      "metadata": {
        "id": "GItENQDHSqYg"
      },
      "source": [
        "![image.png](data:image/png;base64,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)"
      ]
    },
    {
      "cell_type": "code",
      "metadata": {
        "id": "TU-O1t95uWaf",
        "outputId": "b5e6b518-fc4e-4aaf-8011-9582e5d7421d"
      },
      "source": [
        "# [39] view vs copy \n",
        "arr = np.array([1, 3, 5, 7, 9], dtype = np.int32)\n",
        "brr = arr[2:]   # view\n",
        "crr = arr.copy()# copy\n",
        "print( arr.__array_interface__['data'][0] )\n",
        "print( brr.__array_interface__['data'][0] )\n",
        "print( crr.__array_interface__['data'][0] )\n",
        "print(arr, brr, crr)\n",
        "brr[0] = 100\n",
        "crr[0] = 200\n",
        "print(arr, brr, crr)\n",
        "arr[3] = 55\n",
        "print(arr, brr, crr)\n"
      ],
      "execution_count": null,
      "outputs": [
        {
          "output_type": "stream",
          "text": [
            "1949286618992\n",
            "1949286619000\n",
            "1949286618032\n",
            "[1 3 5 7 9] [5 7 9] [1 3 5 7 9]\n",
            "[  1   3 100   7   9] [100   7   9] [200   3   5   7   9]\n",
            "[  1   3 100  55   9] [100  55   9] [200   3   5   7   9]\n"
          ],
          "name": "stdout"
        }
      ]
    },
    {
      "cell_type": "code",
      "metadata": {
        "id": "pMXJUkFkaPf2"
      },
      "source": [
        "def npinfo(n, a, x):\n",
        "    print(\"name    :\", n)    \n",
        "    print(\"share   :\", np.may_share_memory(a, x) )\n",
        "    print(\"data    :\", x.tolist())    \n",
        "    print(\"ndim    :\", x.ndim)\n",
        "    print(\"shape   :\", x.shape)\n",
        "    print(\"dtype   :\", x.dtype)\n",
        "    print(\"-\" * 30)"
      ],
      "execution_count": null,
      "outputs": []
    },
    {
      "cell_type": "code",
      "metadata": {
        "id": "WkEdtd79abHO",
        "colab": {
          "base_uri": "https://localhost:8080/",
          "height": 266
        },
        "outputId": "bf642708-3971-4daf-f439-d1d58270ac72"
      },
      "source": [
        "# [40-1] copy\n",
        "a = np.array([[True, True], [False, False]], dtype=np.bool)\n",
        "b = a.copy()\n",
        "b[0, 0] = False  # 0 also can use\n",
        "npinfo(\"original\", a, a)\n",
        "npinfo(\"copy\", a, b)"
      ],
      "execution_count": null,
      "outputs": [
        {
          "output_type": "stream",
          "text": [
            "name    : original\n",
            "share   : True\n",
            "data    : [[True, True], [False, False]]\n",
            "ndim    : 2\n",
            "shape   : (2, 2)\n",
            "dtype   : bool\n",
            "------------------------------\n",
            "name    : copy\n",
            "share   : False\n",
            "data    : [[False, True], [False, False]]\n",
            "ndim    : 2\n",
            "shape   : (2, 2)\n",
            "dtype   : bool\n",
            "------------------------------\n"
          ],
          "name": "stdout"
        }
      ]
    },
    {
      "cell_type": "code",
      "metadata": {
        "id": "ek_KJjLDabUn",
        "colab": {
          "base_uri": "https://localhost:8080/",
          "height": 266
        },
        "outputId": "e469cbcd-eec9-49e5-af28-8b069eca9b2b"
      },
      "source": [
        "# [40-2] view\n",
        "a = np.array([[True, True], [False, False]], dtype=np.bool)\n",
        "b = a.view(np.bool)\n",
        "b[0, 0] = 0\n",
        "npinfo(\"original\", a, a)\n",
        "npinfo(\"view\", a, b)  "
      ],
      "execution_count": null,
      "outputs": [
        {
          "output_type": "stream",
          "text": [
            "name    : original\n",
            "share   : True\n",
            "data    : [[False, True], [False, False]]\n",
            "ndim    : 2\n",
            "shape   : (2, 2)\n",
            "dtype   : bool\n",
            "------------------------------\n",
            "name    : view\n",
            "share   : True\n",
            "data    : [[False, True], [False, False]]\n",
            "ndim    : 2\n",
            "shape   : (2, 2)\n",
            "dtype   : bool\n",
            "------------------------------\n"
          ],
          "name": "stdout"
        }
      ]
    },
    {
      "cell_type": "markdown",
      "metadata": {
        "id": "9KmFk1z7bK2q"
      },
      "source": [
        "### 5.ndarray 변환 (reshape, flatten)"
      ]
    },
    {
      "cell_type": "code",
      "metadata": {
        "id": "zgGKTwcGbS3R"
      },
      "source": [
        "import sys\n",
        "def npinfo(n, a, x):\n",
        "    print(\"name   :\", n)\n",
        "    print(\"share  :\", np.may_share_memory(a, x))\n",
        "    print(\"data   :\", x.tolist())  \n",
        "    print(\"shape  :\", x.shape)\n",
        "    print(\"dtype  :\", x.dtype)\n",
        "    print(\"stride :\", x.strides)\n",
        "    print(\"addr   :\", x.__array_interface__['data'][0])    \n",
        "    print(\"sizeof :\", sys.getsizeof(x))\n",
        "    print(\"-\" * 30)"
      ],
      "execution_count": null,
      "outputs": []
    },
    {
      "cell_type": "code",
      "metadata": {
        "id": "FuKowQEnbaD1",
        "colab": {
          "base_uri": "https://localhost:8080/",
          "height": 177
        },
        "outputId": "bfba9d72-e256-4379-b8d5-b2d802c9c40b"
      },
      "source": [
        "# [41] np.reshape, arr.reshape \n",
        "# np.reshape(a, newshape: int or tuple or ints, order='C')\n",
        "# arr.reshape(newshape: int or tuple or ints, order='C')\n",
        "a = np.array([[1,2,3],[4,5,6]])\n",
        "b = a.reshape(1, -1)\n",
        "npinfo(\"a.reshape(1, -1)\", a, b)"
      ],
      "execution_count": null,
      "outputs": [
        {
          "output_type": "stream",
          "text": [
            "name   : a.reshape(1, -1)\n",
            "share  : True\n",
            "data   : [[1, 2, 3, 4, 5, 6]]\n",
            "shape  : (1, 6)\n",
            "dtype  : int32\n",
            "stride : (24, 4)\n",
            "addr   : 1949301965248\n",
            "sizeof : 112\n",
            "------------------------------\n"
          ],
          "name": "stdout"
        }
      ]
    },
    {
      "cell_type": "code",
      "metadata": {
        "id": "9C5cNwsBgG-a",
        "colab": {
          "base_uri": "https://localhost:8080/",
          "height": 195
        },
        "outputId": "ffbfe531-d74a-42ec-f9cb-4168f270b9f4"
      },
      "source": [
        "# [42-1] ndarray.reshape\n",
        "b = a.reshape(-1)\n",
        "npinfo(\"a.reshape(-1)\", a, b)\n",
        "#a.tolist(), b.tolist()"
      ],
      "execution_count": null,
      "outputs": [
        {
          "output_type": "stream",
          "text": [
            "name   : a.reshape(-1)\n",
            "share  : True\n",
            "data   : [1, 2, 3, 4, 5, 6]\n",
            "shape  : (6,)\n",
            "dtype  : int32\n",
            "stride : (4,)\n",
            "addr   : 1949301965248\n",
            "sizeof : 96\n",
            "------------------------------\n"
          ],
          "name": "stdout"
        }
      ]
    },
    {
      "cell_type": "code",
      "metadata": {
        "id": "lYYJy0iUgV46",
        "colab": {
          "base_uri": "https://localhost:8080/",
          "height": 177
        },
        "outputId": "d5db6531-ca22-4433-eadf-6671e83d7fa3"
      },
      "source": [
        "# [42-2] ndarray.reshape\n",
        "b = a.reshape(-1, 1)\n",
        "npinfo(\"a.reshape(-1, 1)\", a, b)"
      ],
      "execution_count": null,
      "outputs": [
        {
          "output_type": "stream",
          "text": [
            "name   : a.reshape(-1, 1)\n",
            "share  : True\n",
            "data   : [[1], [2], [3], [4], [5], [6]]\n",
            "shape  : (6, 1)\n",
            "dtype  : int32\n",
            "stride : (4, 4)\n",
            "addr   : 1949301965248\n",
            "sizeof : 112\n",
            "------------------------------\n"
          ],
          "name": "stdout"
        }
      ]
    },
    {
      "cell_type": "code",
      "metadata": {
        "id": "6m_VZ6PauWbI",
        "outputId": "5ea96e4f-70b5-45e5-ecb2-fa58d2e13111"
      },
      "source": [
        "# ndarray.reshape - copy()\n",
        "b = a.reshape(3, -1).copy()\n",
        "npinfo('b', a, b)"
      ],
      "execution_count": null,
      "outputs": [
        {
          "output_type": "stream",
          "text": [
            "name   : b\n",
            "share  : False\n",
            "data   : [[1, 2], [3, 4], [5, 6]]\n",
            "shape  : (3, 2)\n",
            "dtype  : int32\n",
            "stride : (8, 4)\n",
            "addr   : 1949286619760\n",
            "sizeof : 136\n",
            "------------------------------\n"
          ],
          "name": "stdout"
        }
      ]
    },
    {
      "cell_type": "code",
      "metadata": {
        "id": "__d4C9AsgD8i",
        "colab": {
          "base_uri": "https://localhost:8080/",
          "height": 177
        },
        "outputId": "51458124-f69d-4c74-8698-857089e961ab"
      },
      "source": [
        "# [42-3] ndarray.rshape\n",
        "b = a.reshape(-1, 1, order='F')\n",
        "npinfo(\"a.reshape(-1, 1, order='F')\", a, b)"
      ],
      "execution_count": null,
      "outputs": [
        {
          "output_type": "stream",
          "text": [
            "name   : a.reshape(-1, 1, order='F')\n",
            "share  : False\n",
            "data   : [[1], [4], [2], [5], [3], [6]]\n",
            "shape  : (6, 1)\n",
            "dtype  : int32\n",
            "stride : (4, 24)\n",
            "addr   : 1949301965088\n",
            "sizeof : 112\n",
            "------------------------------\n"
          ],
          "name": "stdout"
        }
      ]
    },
    {
      "cell_type": "code",
      "metadata": {
        "id": "9zqDDVlOmy71",
        "colab": {
          "base_uri": "https://localhost:8080/",
          "height": 52
        },
        "outputId": "491bc460-a3e7-4f58-8da1-e018de391857"
      },
      "source": [
        "# [43-1] ndarray.flatten\n",
        "a = np.array([[1,2,3], [4, 5, 6]], dtype=np.int32)\n",
        "print(a)"
      ],
      "execution_count": null,
      "outputs": [
        {
          "output_type": "stream",
          "text": [
            "[[1 2 3]\n",
            " [4 5 6]]\n"
          ],
          "name": "stdout"
        }
      ]
    },
    {
      "cell_type": "code",
      "metadata": {
        "id": "GLsPy4mtglYe",
        "colab": {
          "base_uri": "https://localhost:8080/",
          "height": 195
        },
        "outputId": "110481a8-f883-401b-e1f5-8eca6fbd54ab"
      },
      "source": [
        "# [43-2] ndarray.flatten\n",
        "b = a.flatten()\n",
        "b[0] = 100\n",
        "npinfo(\"a.flatten()\", a, b)\n",
        "a.tolist(), b.tolist()"
      ],
      "execution_count": null,
      "outputs": [
        {
          "output_type": "stream",
          "text": [
            "name   : a.flatten()\n",
            "share  : False\n",
            "data   : [100, 2, 3, 4, 5, 6]\n",
            "shape  : (6,)\n",
            "dtype  : int32\n",
            "stride : (4,)\n",
            "addr   : 1949301965248\n",
            "sizeof : 120\n",
            "------------------------------\n"
          ],
          "name": "stdout"
        },
        {
          "output_type": "execute_result",
          "data": {
            "text/plain": [
              "([[1, 2, 3], [4, 5, 6]], [100, 2, 3, 4, 5, 6])"
            ]
          },
          "metadata": {
            "tags": []
          },
          "execution_count": 117
        }
      ]
    },
    {
      "cell_type": "code",
      "metadata": {
        "id": "41sZIwcRbaQq",
        "colab": {
          "base_uri": "https://localhost:8080/",
          "height": 177
        },
        "outputId": "584d0edc-7c2c-4ab4-d75b-b772c0b9bad5"
      },
      "source": [
        "# [44] ndarray.astype\n",
        "a = np.array([[1,2,0],[4,0,6]])\n",
        "b = a.astype(np.bool)\n",
        "npinfo(\"a.astype(np.int32)\", a, b)"
      ],
      "execution_count": null,
      "outputs": [
        {
          "output_type": "stream",
          "text": [
            "name   : a.astype(np.int32)\n",
            "share  : False\n",
            "data   : [[True, True, False], [True, False, True]]\n",
            "shape  : (2, 3)\n",
            "dtype  : bool\n",
            "stride : (3, 1)\n",
            "addr   : 1949286430640\n",
            "sizeof : 118\n",
            "------------------------------\n"
          ],
          "name": "stdout"
        }
      ]
    },
    {
      "cell_type": "markdown",
      "metadata": {
        "id": "2n6eI33UErrP"
      },
      "source": [
        "### 6.ndarray의 연산"
      ]
    },
    {
      "cell_type": "markdown",
      "metadata": {
        "id": "rncb5OyWbKyj"
      },
      "source": [
        "#### 1) ndarray 산술연산"
      ]
    },
    {
      "cell_type": "code",
      "metadata": {
        "id": "xJhvY3vAr4xK"
      },
      "source": [
        "import numpy as np"
      ],
      "execution_count": null,
      "outputs": []
    },
    {
      "cell_type": "code",
      "metadata": {
        "id": "Y97R6B34b5E4",
        "colab": {
          "base_uri": "https://localhost:8080/",
          "height": 195
        },
        "outputId": "0e8bf6e6-f8d5-4880-c33d-6241c4fb1d23"
      },
      "source": [
        "# [45] ndarray연산\n",
        "# element-wise 방식으로 연산이 이루어짐\n",
        "# 연산대상인 두 배열의 shape이 동일해야 한다\n",
        "a = np.array( range(1, 7) )\n",
        "b = np.array( range(7, 13) )\n",
        "print('a =', a.tolist())\n",
        "print('b =', b.tolist())\n",
        "print('a +  b =', a + b)\n",
        "print('b -  a =', b - a)\n",
        "print('a *  b =', a * b)\n",
        "print('b /  a =', b / a)\n",
        "print('b // a =', b // a)\n",
        "print('b %  a =', b % a)\n",
        "print('a +  2 =', a + 2)\n",
        "print('b -  1 =', b - 1)"
      ],
      "execution_count": null,
      "outputs": [
        {
          "output_type": "stream",
          "text": [
            "a = [1, 2, 3, 4, 5, 6]\n",
            "b = [7, 8, 9, 10, 11, 12]\n",
            "a +  b = [ 8 10 12 14 16 18]\n",
            "b -  a = [6 6 6 6 6 6]\n",
            "a *  b = [ 7 16 27 40 55 72]\n",
            "b /  a = [7.  4.  3.  2.5 2.2 2. ]\n",
            "b // a = [7 4 3 2 2 2]\n",
            "b %  a = [0 0 0 2 1 0]\n",
            "a +  2 = [3 4 5 6 7 8]\n",
            "b -  1 = [ 6  7  8  9 10 11]\n"
          ],
          "name": "stdout"
        }
      ]
    },
    {
      "cell_type": "code",
      "metadata": {
        "id": "0Fby-36PcqHj",
        "colab": {
          "base_uri": "https://localhost:8080/",
          "height": 141
        },
        "outputId": "8e14dac4-fb4d-47dc-928d-4c7c3342bc3d"
      },
      "source": [
        "# [46] tolist()를 사용하여 list로 변환\n",
        "a = np.array(range(1, 7)).reshape(2,3)\n",
        "b = np.array(range(7, 13)).reshape(2,3)\n",
        "print(a)\n",
        "print(type(a.tolist()))\n",
        "print('a =', a.tolist())\n",
        "print('b =', b.tolist())\n",
        "print('a + b =', (a + b).tolist())\n",
        "print('a * b =', (a * b).tolist())"
      ],
      "execution_count": null,
      "outputs": [
        {
          "output_type": "stream",
          "text": [
            "[[1 2 3]\n",
            " [4 5 6]]\n",
            "<class 'list'>\n",
            "a = [[1, 2, 3], [4, 5, 6]]\n",
            "b = [[7, 8, 9], [10, 11, 12]]\n",
            "a + b = [[8, 10, 12], [14, 16, 18]]\n",
            "a * b = [[7, 16, 27], [40, 55, 72]]\n"
          ],
          "name": "stdout"
        }
      ]
    },
    {
      "cell_type": "code",
      "metadata": {
        "id": "oqOIqJHNcThO",
        "outputId": "21c8963d-eb8c-4971-8b31-d15b99c0e347"
      },
      "source": [
        "# [47] element-wise 성립하지 않음 (broadcasting안됨)\n",
        "a = np.array( [1, 3, 5] )\n",
        "c = np.array( [7, 9] )\n",
        "print('a + c =', a + c)"
      ],
      "execution_count": null,
      "outputs": [
        {
          "output_type": "error",
          "ename": "ValueError",
          "evalue": "operands could not be broadcast together with shapes (3,) (2,) ",
          "traceback": [
            "\u001b[1;31m---------------------------------------------------------------------------\u001b[0m",
            "\u001b[1;31mValueError\u001b[0m                                Traceback (most recent call last)",
            "\u001b[1;32m<ipython-input-126-f362d8bc5cde>\u001b[0m in \u001b[0;36m<module>\u001b[1;34m\u001b[0m\n\u001b[0;32m      2\u001b[0m \u001b[0ma\u001b[0m \u001b[1;33m=\u001b[0m \u001b[0mnp\u001b[0m\u001b[1;33m.\u001b[0m\u001b[0marray\u001b[0m\u001b[1;33m(\u001b[0m \u001b[1;33m[\u001b[0m\u001b[1;36m1\u001b[0m\u001b[1;33m,\u001b[0m \u001b[1;36m3\u001b[0m\u001b[1;33m,\u001b[0m \u001b[1;36m5\u001b[0m\u001b[1;33m]\u001b[0m \u001b[1;33m)\u001b[0m\u001b[1;33m\u001b[0m\u001b[1;33m\u001b[0m\u001b[0m\n\u001b[0;32m      3\u001b[0m \u001b[0mc\u001b[0m \u001b[1;33m=\u001b[0m \u001b[0mnp\u001b[0m\u001b[1;33m.\u001b[0m\u001b[0marray\u001b[0m\u001b[1;33m(\u001b[0m \u001b[1;33m[\u001b[0m\u001b[1;36m7\u001b[0m\u001b[1;33m,\u001b[0m \u001b[1;36m9\u001b[0m\u001b[1;33m]\u001b[0m \u001b[1;33m)\u001b[0m\u001b[1;33m\u001b[0m\u001b[1;33m\u001b[0m\u001b[0m\n\u001b[1;32m----> 4\u001b[1;33m \u001b[0mprint\u001b[0m\u001b[1;33m(\u001b[0m\u001b[1;34m'a + c ='\u001b[0m\u001b[1;33m,\u001b[0m \u001b[0ma\u001b[0m \u001b[1;33m+\u001b[0m \u001b[0mc\u001b[0m\u001b[1;33m)\u001b[0m\u001b[1;33m\u001b[0m\u001b[1;33m\u001b[0m\u001b[0m\n\u001b[0m",
            "\u001b[1;31mValueError\u001b[0m: operands could not be broadcast together with shapes (3,) (2,) "
          ]
        }
      ]
    },
    {
      "cell_type": "markdown",
      "metadata": {
        "id": "U25cgbTwco-C"
      },
      "source": [
        "#### 2) ndarray broadcasting\n",
        "- broadcasting 이란?\n",
        "- element-wise가 성립하지 않는 경우 두 배열의 크기를 동일하게 만들어 연산가능하도록 하는 것  \n"
      ]
    },
    {
      "cell_type": "code",
      "metadata": {
        "id": "kRUYezcZdQ-r"
      },
      "source": [
        "def printary(m, *a):\n",
        "    print(m)\n",
        "    for x in a:\n",
        "        print(x.shape)\n",
        "        print(x.tolist())"
      ],
      "execution_count": null,
      "outputs": []
    },
    {
      "cell_type": "code",
      "metadata": {
        "id": "9sRnJPvNdE9j",
        "colab": {
          "base_uri": "https://localhost:8080/",
          "height": 34
        },
        "outputId": "f32bd708-bb34-49f4-9945-a5a860acbca3"
      },
      "source": [
        "# [48-1] 배열 생성\n",
        "a=np.array([[1, 1, 1], [1, 1, 1]])\n",
        "b=np.array([[1, 1, 1], [2, 2, 2]])\n",
        "c=np.array([[1],[2],[3]])\n",
        "d=np.array([3, 3, 3])\n",
        "print(a.shape, b.shape, c.shape, d.shape)"
      ],
      "execution_count": null,
      "outputs": [
        {
          "output_type": "stream",
          "text": [
            "(2, 3) (2, 3) (3, 1) (3,)\n"
          ],
          "name": "stdout"
        }
      ]
    },
    {
      "cell_type": "code",
      "metadata": {
        "id": "DHtZTnzP1VWA",
        "outputId": "049ef057-c86f-47f3-b8b2-6b58ed18f036"
      },
      "source": [
        "# [48-2] a + b\n",
        "printary(\"a+b\", a, b, a+b)"
      ],
      "execution_count": null,
      "outputs": [
        {
          "output_type": "stream",
          "text": [
            "a+b\n",
            "(2, 3)\n",
            "[[1, 1, 1], [1, 1, 1]]\n",
            "(2, 3)\n",
            "[[1, 1, 1], [2, 2, 2]]\n",
            "(2, 3)\n",
            "[[2, 2, 2], [3, 3, 3]]\n"
          ],
          "name": "stdout"
        }
      ]
    },
    {
      "cell_type": "code",
      "metadata": {
        "id": "nBwKiSbRuWb-",
        "outputId": "343670c9-5408-46e0-e8c8-778537060219"
      },
      "source": [
        "printary(\"a+c\", a, c, a+c)"
      ],
      "execution_count": null,
      "outputs": [
        {
          "output_type": "error",
          "ename": "ValueError",
          "evalue": "operands could not be broadcast together with shapes (2,3) (3,1) ",
          "traceback": [
            "\u001b[1;31m---------------------------------------------------------------------------\u001b[0m",
            "\u001b[1;31mValueError\u001b[0m                                Traceback (most recent call last)",
            "\u001b[1;32m<ipython-input-132-674be0a697fa>\u001b[0m in \u001b[0;36m<module>\u001b[1;34m\u001b[0m\n\u001b[1;32m----> 1\u001b[1;33m \u001b[0mprintary\u001b[0m\u001b[1;33m(\u001b[0m\u001b[1;34m\"a+c\"\u001b[0m\u001b[1;33m,\u001b[0m \u001b[0ma\u001b[0m\u001b[1;33m,\u001b[0m \u001b[0mc\u001b[0m\u001b[1;33m,\u001b[0m \u001b[0ma\u001b[0m\u001b[1;33m+\u001b[0m\u001b[0mc\u001b[0m\u001b[1;33m)\u001b[0m\u001b[1;33m\u001b[0m\u001b[1;33m\u001b[0m\u001b[0m\n\u001b[0m",
            "\u001b[1;31mValueError\u001b[0m: operands could not be broadcast together with shapes (2,3) (3,1) "
          ]
        }
      ]
    },
    {
      "cell_type": "code",
      "metadata": {
        "id": "6PMwuRomyMGw",
        "outputId": "b6834861-cb8b-4669-b7ff-ddd783ef8e88"
      },
      "source": [
        "# [48-3] a + d\n",
        "printary(\"a+d\", a, d, a+d)"
      ],
      "execution_count": null,
      "outputs": [
        {
          "output_type": "stream",
          "text": [
            "a+d\n",
            "(2, 3)\n",
            "[[1, 1, 1], [1, 1, 1]]\n",
            "(3,)\n",
            "[3, 3, 3]\n",
            "(2, 3)\n",
            "[[4, 4, 4], [4, 4, 4]]\n"
          ],
          "name": "stdout"
        }
      ]
    },
    {
      "cell_type": "code",
      "metadata": {
        "id": "mrX4qr92yOKh",
        "outputId": "e8dfda9c-43a0-44aa-a2a6-290b40582c23"
      },
      "source": [
        "# [48-4] b + 4\n",
        "printary(\"b+4\", b, b+4)"
      ],
      "execution_count": null,
      "outputs": [
        {
          "output_type": "stream",
          "text": [
            "b+4\n",
            "(2, 3)\n",
            "[[1, 1, 1], [2, 2, 2]]\n",
            "(2, 3)\n",
            "[[5, 5, 5], [6, 6, 6]]\n"
          ],
          "name": "stdout"
        }
      ]
    },
    {
      "cell_type": "code",
      "metadata": {
        "id": "RQQB4oV0yPZw",
        "outputId": "860598b5-c0c5-4a6a-de0b-b161b7289593"
      },
      "source": [
        "# [48-5] c + d\n",
        "printary(\"c+d\", c, d, c+d)"
      ],
      "execution_count": null,
      "outputs": [
        {
          "output_type": "stream",
          "text": [
            "c+d\n",
            "(3, 1)\n",
            "[[1], [2], [3]]\n",
            "(3,)\n",
            "[3, 3, 3]\n",
            "(3, 3)\n",
            "[[4, 4, 4], [5, 5, 5], [6, 6, 6]]\n"
          ],
          "name": "stdout"
        }
      ]
    },
    {
      "cell_type": "markdown",
      "metadata": {
        "id": "A6NNlRJgdDT4"
      },
      "source": [
        "#### 3) ndarray 비교연산\n",
        "- ==, !=, >, <, >=, <= : 결과 True/False\n",
        "- element-wise 방식 (필요시 broadcasting)"
      ]
    },
    {
      "cell_type": "markdown",
      "metadata": {
        "id": "Smy63qRa2hLz"
      },
      "source": [
        "#### 4) 다음의 연산 결과의 shape을 예측해 보세요!"
      ]
    },
    {
      "cell_type": "code",
      "metadata": {
        "id": "JC2rNffmeTLd",
        "colab": {
          "base_uri": "https://localhost:8080/"
        },
        "outputId": "49a18315-08f5-437d-f6fb-783520f39fe7"
      },
      "source": [
        "# [49-1] broadcasting 연산\n",
        "import numpy as np\n",
        "a = np.array([[1],[2],[3],[4],[5]])  # (5, 1)\n",
        "b = np.array([1, 2, 3])              # (3,)\n",
        "c = a + b\n",
        "print(a.shape, b.shape, c.shape)"
      ],
      "execution_count": null,
      "outputs": [
        {
          "output_type": "stream",
          "name": "stdout",
          "text": [
            "(5, 1) (3,) (5, 3)\n"
          ]
        }
      ]
    },
    {
      "cell_type": "code",
      "metadata": {
        "id": "f1Z4jYU57I8j",
        "colab": {
          "base_uri": "https://localhost:8080/"
        },
        "outputId": "97c97b4b-6830-4e45-986f-0bf36cf74751"
      },
      "source": [
        "# [49-2] broadcasting 연산\n",
        "print(a)\n",
        "print(b)\n",
        "print(c)"
      ],
      "execution_count": null,
      "outputs": [
        {
          "output_type": "stream",
          "name": "stdout",
          "text": [
            "[[1]\n",
            " [2]\n",
            " [3]\n",
            " [4]\n",
            " [5]]\n",
            "[1 2 3]\n",
            "[[2 3 4]\n",
            " [3 4 5]\n",
            " [4 5 6]\n",
            " [5 6 7]\n",
            " [6 7 8]]\n"
          ]
        }
      ]
    },
    {
      "cell_type": "code",
      "metadata": {
        "id": "5z1hB-aMeF17"
      },
      "source": [
        "# [50-1] 비교 연산 결과 출력\n",
        "def printary(*a):\n",
        "    for x in a:\n",
        "        print(x.tolist(), end='\\n')\n",
        "        print(\"-\" * 45)"
      ],
      "execution_count": null,
      "outputs": []
    },
    {
      "cell_type": "code",
      "metadata": {
        "id": "JVEmyaw_eoR0",
        "colab": {
          "base_uri": "https://localhost:8080/",
          "height": 88
        },
        "outputId": "d94ee5d6-0107-4ef7-bf7b-9ef96f51b8c1"
      },
      "source": [
        "# [50-2] ==, != 연산\n",
        "a=np.array([[1, 2, 3], [4, 5, 6]])\n",
        "b=np.array([[1, 3, 5], [2, 4, 6]])\n",
        "printary(a==b, a!=b)"
      ],
      "execution_count": null,
      "outputs": [
        {
          "output_type": "stream",
          "text": [
            "[[True, False, False], [False, False, True]]\n",
            "---------------------------------------------\n",
            "[[False, True, True], [True, True, False]]\n",
            "---------------------------------------------\n"
          ],
          "name": "stdout"
        }
      ]
    },
    {
      "cell_type": "code",
      "metadata": {
        "id": "GvZLoBW0jro3",
        "colab": {
          "base_uri": "https://localhost:8080/",
          "height": 88
        },
        "outputId": "0262a249-ed43-4cc2-dd7b-6481b0cfba7b"
      },
      "source": [
        "# [50-3] >, < 연산\n",
        "a=np.array([[1, 2, 3], [4, 5, 6]])\n",
        "b=np.array([[1, 3, 5], [2, 4, 6]])\n",
        "printary(a>b, a<b)"
      ],
      "execution_count": null,
      "outputs": [
        {
          "output_type": "stream",
          "text": [
            "[[False, False, False], [True, True, False]]\n",
            "---------------------------------------------\n",
            "[[False, True, True], [False, False, False]]\n",
            "---------------------------------------------\n"
          ],
          "name": "stdout"
        }
      ]
    },
    {
      "cell_type": "code",
      "metadata": {
        "id": "x_TTDqlzjrzt",
        "colab": {
          "base_uri": "https://localhost:8080/",
          "height": 88
        },
        "outputId": "32541a93-dbac-4448-d37a-e46c7ddaecef"
      },
      "source": [
        "# [50-4] >=, <= 연산\n",
        "a=np.array([[1, 2, 3], [4, 5, 6]])  # (2, 3)\n",
        "b=np.array([[1, 3, 5], [2, 4, 6]])\n",
        "c=np.array([4, 3, 3])   # (3,)  # [[4, 3, 3], [4, 3, 3]]\n",
        "printary(a>=c, b<=3)    #  3    # [[3, 3, 3],[3, 3, 3]]"
      ],
      "execution_count": null,
      "outputs": [
        {
          "output_type": "stream",
          "text": [
            "[[False, False, True], [True, True, True]]\n",
            "---------------------------------------------\n",
            "[[True, True, False], [True, False, False]]\n",
            "---------------------------------------------\n"
          ],
          "name": "stdout"
        }
      ]
    },
    {
      "cell_type": "markdown",
      "metadata": {
        "id": "kPifu3Xmp7AA"
      },
      "source": [
        "### 7.Indexing"
      ]
    },
    {
      "cell_type": "markdown",
      "metadata": {
        "id": "Rie2JA229Sfq"
      },
      "source": [
        "#### 1) ndarray indexing 이해\n",
        "- indexing을 사용하여 배열에서 원하는 데이터를 참조/변경한다\n",
        "- 배열 이름 뒤에 [ ] 를 사용하여 참조/변경 할 데이터를 표기한다\n",
        "- 결과는 원본의 view이며, view에 대입을 통해 데이터 변경이 가능함\n",
        "- ndim >= 2 인 경우 [ ] 내부에 콤마(,)를 사용하여 차원(축, axes, axis)을 구분함\n",
        "- 콤마(,) 사이에는 참조/변경하기 원하는 데이터에 대한 표기(indexer)가 포함되어야 함\n",
        "- axis=0을 제외한 차원에 대한 표기 생략가능, 생략은 “모두 선택”의 의미를 갖음\n",
        "- https://docs.scipy.org/doc/numpy/reference/arrays.indexing.html\n",
        "- https://www.numpy.org/devdocs/user/basics.indexing.html\n",
        "\n"
      ]
    },
    {
      "cell_type": "code",
      "metadata": {
        "id": "kCS4p0CHkZ_q",
        "outputId": "1763ffe1-7e3a-4397-e80b-b111203d9959"
      },
      "source": [
        "# [51-1] single element indexer의 사용 - 데이터 참조\n",
        "import numpy as np\n",
        "a = np.arange(9).reshape(3,3)\n",
        "\n",
        "print(a)\n",
        "print(a[1])\n",
        "print(a[1,:])\n",
        "print(a[0, 2])\n",
        "print(a[0][2])"
      ],
      "execution_count": null,
      "outputs": [
        {
          "output_type": "stream",
          "text": [
            "[[0 1 2]\n",
            " [3 4 5]\n",
            " [6 7 8]]\n",
            "[3 4 5]\n",
            "[3 4 5]\n",
            "2\n",
            "2\n"
          ],
          "name": "stdout"
        }
      ]
    },
    {
      "cell_type": "code",
      "metadata": {
        "id": "wyg2utW4_m2O",
        "colab": {
          "base_uri": "https://localhost:8080/",
          "height": 175
        },
        "outputId": "d1f66c92-a920-4de9-defa-1de1d7d1bf0c"
      },
      "source": [
        "# [51-2] single element indexer의 사용 - 데이터 변경\n",
        "a[0,2] = 100\n",
        "print(a)\n",
        "a[1][2] = 200\n",
        "print(a)\n",
        "a[2] = [10, '20', 3.67]\n",
        "print(a)"
      ],
      "execution_count": null,
      "outputs": [
        {
          "output_type": "stream",
          "text": [
            "[[  0   1 100]\n",
            " [  3   4   5]\n",
            " [  6   7   8]]\n",
            "[[  0   1 100]\n",
            " [  3   4 200]\n",
            " [  6   7   8]]\n",
            "[[  0   1 100]\n",
            " [  3   4 200]\n",
            " [ 10  20   3]]\n"
          ],
          "name": "stdout"
        }
      ]
    },
    {
      "cell_type": "markdown",
      "metadata": {
        "id": "dLjp_acwkUUu"
      },
      "source": [
        "#### 2) Indexer의 종류\n",
        "- single element index\n",
        "- slicing & stride index\n",
        "- index arrays\n",
        "- boolean array\n",
        "- structural indexing tools"
      ]
    },
    {
      "cell_type": "code",
      "metadata": {
        "colab": {
          "base_uri": "https://localhost:8080/"
        },
        "id": "iSUlQrPjWy2S",
        "outputId": "447e1151-87b4-40d8-a11b-a44074b6b7f6"
      },
      "source": [
        "import numpy as np\n",
        "a = np.arange(24).reshape(3, 2, 4)\n",
        "a[...], a[...,:]"
      ],
      "execution_count": null,
      "outputs": [
        {
          "output_type": "execute_result",
          "data": {
            "text/plain": [
              "(array([[[ 0,  1,  2,  3],\n",
              "         [ 4,  5,  6,  7]],\n",
              " \n",
              "        [[ 8,  9, 10, 11],\n",
              "         [12, 13, 14, 15]],\n",
              " \n",
              "        [[16, 17, 18, 19],\n",
              "         [20, 21, 22, 23]]]), array([[[ 0,  1,  2,  3],\n",
              "         [ 4,  5,  6,  7]],\n",
              " \n",
              "        [[ 8,  9, 10, 11],\n",
              "         [12, 13, 14, 15]],\n",
              " \n",
              "        [[16, 17, 18, 19],\n",
              "         [20, 21, 22, 23]]]))"
            ]
          },
          "metadata": {
            "tags": []
          },
          "execution_count": 6
        }
      ]
    },
    {
      "cell_type": "code",
      "metadata": {
        "id": "yRL7086hmAcL",
        "colab": {
          "base_uri": "https://localhost:8080/"
        },
        "outputId": "544bcca5-e24c-423a-88b5-0563d808c39b"
      },
      "source": [
        "# [52] indexer의 종류\n",
        "import numpy as np\n",
        "a = np.arange(5)\n",
        "\n",
        "print(a[1], type(a[1]))\n",
        "print(a[[1]], type(a[[1]]))\n",
        "print(a[1:4:2])\n",
        "print(a[[0,1,-1]])\n",
        "print(a[[True, False, False, True, False]])\n",
        "print(a[..., np.newaxis])"
      ],
      "execution_count": null,
      "outputs": [
        {
          "output_type": "stream",
          "text": [
            "1 <class 'numpy.int64'>\n",
            "[1] <class 'numpy.ndarray'>\n",
            "[1 3]\n",
            "[0 1 4]\n",
            "[0 3]\n",
            "[[0]\n",
            " [1]\n",
            " [2]\n",
            " [3]\n",
            " [4]]\n"
          ],
          "name": "stdout"
        }
      ]
    },
    {
      "cell_type": "markdown",
      "metadata": {
        "id": "tuoBLTrEEzeH"
      },
      "source": [
        "#### 3) list와 ndarray의 indexing 차이점\n",
        "- ndarray의 indexing의 반환 값은 원본을 참조하는 view이다 \n",
        "- 새로운 ndarray로 처리하려면 copy 함수나 메서드를 사용해야 한다\n"
      ]
    },
    {
      "cell_type": "code",
      "metadata": {
        "id": "bUmFZFihmRh1",
        "outputId": "c9b6dd46-67ac-469f-bb2e-ef720adde154"
      },
      "source": [
        "# [53-1] list of python\n",
        "x = [[1, 2, 3], [6, 7, 8]]\n",
        "z = x[:]  #  [id(x[0])][id(x[1])]\n",
        "z[0] = [10, 20, 30]\n",
        "z[1][0] = 100\n",
        "print(x, z, sep='\\n')\n",
        "#print(id(x[1]), id(z[1]))\n",
        "print(\"-\"*25)"
      ],
      "execution_count": null,
      "outputs": [
        {
          "output_type": "stream",
          "text": [
            "[[1, 2, 3], [100, 7, 8]]\n",
            "[[10, 20, 30], [100, 7, 8]]\n",
            "-------------------------\n"
          ],
          "name": "stdout"
        }
      ]
    },
    {
      "cell_type": "code",
      "metadata": {
        "id": "G6xDf24omZAE",
        "outputId": "bea1ed4c-eaae-4e14-f662-62844ecf628e"
      },
      "source": [
        "# [53-2]ndarray of numpy\n",
        "x = np.array([[1, 2, 3], [6, 7, 8]])\n",
        "z = x[1:]\n",
        "z[0] = [10, 20, 30]\n",
        "print(x, z, sep='\\n')\n",
        "print(np.may_share_memory(x,z)) \n",
        "print(x.__array_interface__['data'][0], z.__array_interface__['data'][0], x.dtype)"
      ],
      "execution_count": null,
      "outputs": [
        {
          "output_type": "stream",
          "text": [
            "[[ 1  2  3]\n",
            " [10 20 30]]\n",
            "[[10 20 30]]\n",
            "True\n",
            "1680360629744 1680360629756 int32\n"
          ],
          "name": "stdout"
        }
      ]
    },
    {
      "cell_type": "markdown",
      "metadata": {
        "id": "QB0sFPXZF2j8"
      },
      "source": [
        "#### 4) single element index 사용\n",
        "- single element index의 사용이 1개 증가 할 때마다 배열의 차원(ndim)은 1씩 감소한다\n",
        "- axis=0부터 뒤쪽으로 콤마(,)를 기준으로 index를 나열함\n",
        "- index 표기되지 않은 차원은 “모두 선택”\n",
        "- 예) 2차원 배열에서 a[n]은 n번 행 전체를 반환 함\n",
        "- indexing을 연속으로 진행한 것과 콤마(,) 나열은 같은 결과\n",
        "- 예) a[n][m] == a[n, m]"
      ]
    },
    {
      "cell_type": "code",
      "metadata": {
        "id": "EiylIGGmHudh",
        "colab": {
          "base_uri": "https://localhost:8080/",
          "height": 87
        },
        "outputId": "c6a017c0-338f-4279-dd67-029552b1b33a"
      },
      "source": [
        "# [54] single element index 사용\n",
        "a = np.arange(12).reshape(2,3,2)\n",
        "print(a.tolist())\n",
        "print(a[0].tolist())\n",
        "print(a[0, 0].tolist())\n",
        "print(a[0, 0, 0])"
      ],
      "execution_count": null,
      "outputs": [
        {
          "output_type": "stream",
          "text": [
            "[[[0, 1], [2, 3], [4, 5]], [[6, 7], [8, 9], [10, 11]]]\n",
            "[[0, 1], [2, 3], [4, 5]]\n",
            "[0, 1]\n",
            "0\n"
          ],
          "name": "stdout"
        }
      ]
    },
    {
      "cell_type": "markdown",
      "metadata": {
        "id": "L4X6ffq7I7KT"
      },
      "source": [
        "#### 5) slice & stride\n",
        "- arr[n:m:k]\n",
        "- n 부터 m-1 까지, k 씩 건너 뛴 위치 요소로 구성된 배열 반환\n",
        "- n, m, k는 생략 가능하며 생략시 n = 0, m = len(arr), k=1\n",
        "- slice & stride의 사용이 증가해도 배열의 차원(ndim)은 변화 없음\n",
        "- axis=0부터 뒤쪽으로 콤마(,)를 기준으로 indexer를 나열함\n",
        "- indexer가 표기되지 않은 axis는 “모두 선택”\n",
        "-  :  특정 axis에 대해 모든 범위를 의미함\n",
        "-  ... 나머지 모든 차원에 대해 모든 범위를 의미함\n"
      ]
    },
    {
      "cell_type": "code",
      "metadata": {
        "id": "JrzPFKjPuWdE",
        "outputId": "91e3c041-b985-49e3-c10e-4c368e6c0b32"
      },
      "source": [
        "a = np.arange(12).reshape(4, 3)\n",
        "#a[2:] \n",
        "#a[ :0:-1, :0:-1]\n",
        "a[ -1:-4:-1, -1:-3:-1 ]\n",
        "#a[ ::-1, ::-1][:3, :2]"
      ],
      "execution_count": null,
      "outputs": [
        {
          "output_type": "execute_result",
          "data": {
            "text/plain": [
              "array([[11, 10],\n",
              "       [ 8,  7],\n",
              "       [ 5,  4]])"
            ]
          },
          "metadata": {
            "tags": []
          },
          "execution_count": 18
        }
      ]
    },
    {
      "cell_type": "code",
      "metadata": {
        "id": "QJJJh3houWdH",
        "outputId": "6568e48e-2f3c-49f8-fea3-c7662bf22ca5"
      },
      "source": [
        "a = np.arange(32).reshape(4,2,4)\n",
        "a[:, :1, 2:].shape"
      ],
      "execution_count": null,
      "outputs": [
        {
          "output_type": "execute_result",
          "data": {
            "text/plain": [
              "(4, 1, 2)"
            ]
          },
          "metadata": {
            "tags": []
          },
          "execution_count": 12
        }
      ]
    },
    {
      "cell_type": "code",
      "metadata": {
        "id": "4_MA6d_WJqjK",
        "colab": {
          "base_uri": "https://localhost:8080/",
          "height": 87
        },
        "outputId": "041b3bd6-b2f1-4d53-ac2e-10dd269e6656"
      },
      "source": [
        "# [55] 차원(ndim)의 변화는 없음\n",
        "a = np.arange(12).reshape(2,3,2)\n",
        "print(a.tolist())\n",
        "print(a[1:].tolist())\n",
        "print(a[..., ::-1].tolist())\n",
        "print(a[:, ::-1].tolist())"
      ],
      "execution_count": null,
      "outputs": [
        {
          "output_type": "stream",
          "text": [
            "[[[0, 1], [2, 3], [4, 5]], [[6, 7], [8, 9], [10, 11]]]\n",
            "[[[6, 7], [8, 9], [10, 11]]]\n",
            "[[[1, 0], [3, 2], [5, 4]], [[7, 6], [9, 8], [11, 10]]]\n",
            "[[[4, 5], [2, 3], [0, 1]], [[10, 11], [8, 9], [6, 7]]]\n"
          ],
          "name": "stdout"
        }
      ]
    },
    {
      "cell_type": "code",
      "metadata": {
        "id": "22qx_mp1uWdP",
        "outputId": "d193fb89-8a34-4fd9-d488-7dadea00ba07"
      },
      "source": [
        "a = np.arange(60).reshape(2,3,2,5)\n",
        "a[1:,...,3:]"
      ],
      "execution_count": null,
      "outputs": [
        {
          "output_type": "execute_result",
          "data": {
            "text/plain": [
              "array([[[[33, 34],\n",
              "         [38, 39]],\n",
              "\n",
              "        [[43, 44],\n",
              "         [48, 49]],\n",
              "\n",
              "        [[53, 54],\n",
              "         [58, 59]]]])"
            ]
          },
          "metadata": {
            "tags": []
          },
          "execution_count": 16
        }
      ]
    },
    {
      "cell_type": "markdown",
      "metadata": {
        "id": "B5nZYLYJLAZq"
      },
      "source": [
        "#### 6) index arrays\n",
        "- index_array은 dtype=int인 배열로, index 번호를 element로 갖는 배열임\n",
        "- index_array 의  형태에 따라 반환되는 배열의 ndim이 원본과 동일하거나, 증가, 감소 될 수 있음"
      ]
    },
    {
      "cell_type": "markdown",
      "metadata": {
        "id": "qmWwBXSORFOK"
      },
      "source": [
        "##### 1차원\n",
        "- index_array 에 포함된 index 항목들로 구성된 배열 반환\n",
        "- a[ [0, 2, 4] ] 는 a에서 0,2,4 번 index 항목으로 구성된 배열 반환\n",
        "- index_array 사용시 주의 사항\n",
        "   - index 중복 사용 가능\n",
        "   - 2차원 이상의 index_array 는 ndarray 를 사용( [[[ -> 사용 불가능)\n"
      ]
    },
    {
      "cell_type": "code",
      "metadata": {
        "id": "x1aHrW0nRLN-",
        "colab": {
          "base_uri": "https://localhost:8080/",
          "height": 92
        },
        "outputId": "833cff94-61dd-4af0-c64b-5d6be0e27567"
      },
      "source": [
        "# [56-1]index array 사용 \n",
        "import numpy as np\n",
        "a = np.arange(5) # [0 1 2 3 4]\n",
        "print( a[0], a[[0]], type(a[[0]]))\n",
        "print( a[[-1, 0, 1, 0]])\n",
        "#print( a[[[0, 2, 4], [1, 3, 3]]])\n",
        "print( a[np.array([[0, 2, 4], [1, 3, 3]])])\n"
      ],
      "execution_count": null,
      "outputs": [
        {
          "output_type": "stream",
          "text": [
            "0 [0] <class 'numpy.ndarray'>\n",
            "[4 0 1 0]\n",
            "[[0 2 4]\n",
            " [1 3 3]]\n"
          ],
          "name": "stdout"
        }
      ]
    },
    {
      "cell_type": "code",
      "metadata": {
        "id": "TG-id3pxuWdc",
        "outputId": "0a363995-4e4f-4b99-abaf-97de8df5af39"
      },
      "source": [
        "import numpy as np\n",
        "a = np.array([1, 3, 5, 7, 9])\n",
        "b = a[ np.array([[1, 2],[0, -1]] ) ]\n",
        "b"
      ],
      "execution_count": null,
      "outputs": [
        {
          "output_type": "execute_result",
          "data": {
            "text/plain": [
              "array([[3, 5],\n",
              "       [1, 9]])"
            ]
          },
          "metadata": {
            "tags": []
          },
          "execution_count": 2
        }
      ]
    },
    {
      "cell_type": "code",
      "source": [
        "!pip install --upgrade scipy"
      ],
      "metadata": {
        "colab": {
          "base_uri": "https://localhost:8080/"
        },
        "id": "lccY_doMFfiQ",
        "outputId": "1c3e8426-70a1-445b-df44-9432c40924a9"
      },
      "execution_count": null,
      "outputs": [
        {
          "output_type": "stream",
          "name": "stdout",
          "text": [
            "Looking in indexes: https://pypi.org/simple, https://us-python.pkg.dev/colab-wheels/public/simple/\n",
            "Requirement already satisfied: scipy in /usr/local/lib/python3.7/dist-packages (1.7.3)\n",
            "Requirement already satisfied: numpy<1.23.0,>=1.16.5 in /usr/local/lib/python3.7/dist-packages (from scipy) (1.21.6)\n"
          ]
        }
      ]
    },
    {
      "cell_type": "code",
      "source": [
        "import numpy as np\n",
        "a = np.array([1, 3, 5, 7, 9])\n",
        "print(a[np.array([[0, 2, 4], [1, 3, 3]])])"
      ],
      "metadata": {
        "colab": {
          "base_uri": "https://localhost:8080/"
        },
        "id": "vbz3txHVEaL6",
        "outputId": "de016c42-d729-4ede-e894-5c77ef079e7e"
      },
      "execution_count": null,
      "outputs": [
        {
          "output_type": "stream",
          "name": "stdout",
          "text": [
            "[[1 5 9]\n",
            " [3 7 7]]\n"
          ]
        }
      ]
    },
    {
      "cell_type": "markdown",
      "metadata": {
        "id": "R1aLK959XtzO"
      },
      "source": [
        "##### 2차원\n",
        "- idx_a1, idx_a2의 같은 위치 항들이 묶여 위치 정보가 됨\n",
        "- 다차원이 되면 콤마(,)로 나열하며 동일 길이로 구성되어야 함\n",
        "- a가 2D array인 경우 \n",
        "  - a[ [0,0,1],[2,3,1] ] 은 [0,2], [0,3], [1,1] 항을 배열로 반환\n",
        "  - a[ [0, 1], 0] : a[ [0,0], [1,0] ] (broadcasting)  [0, 0], [1, 0] 항 반환"
      ]
    },
    {
      "cell_type": "code",
      "metadata": {
        "id": "nKOqXUc7X0nf",
        "colab": {
          "base_uri": "https://localhost:8080/",
          "height": 111
        },
        "outputId": "42b4426f-9568-40e3-aa89-6e08eb4a9600"
      },
      "source": [
        "# [56-2] 2차원 배열에서의 index array\n",
        "a = np.arange(12).reshape(3, -1)\n",
        "print(a)\n",
        "print(a[[0,0,1], [2,3,1]])\n",
        "print(a[[0,1], [0,0]])"
      ],
      "execution_count": null,
      "outputs": [
        {
          "output_type": "stream",
          "text": [
            "[[ 0  1  2  3]\n",
            " [ 4  5  6  7]\n",
            " [ 8  9 10 11]]\n",
            "[2 3 5]\n",
            "[0 4]\n"
          ],
          "name": "stdout"
        }
      ]
    },
    {
      "cell_type": "markdown",
      "metadata": {
        "id": "bpNmyrSSUZzX"
      },
      "source": [
        "#### Mission 먼저 수행해보고 비교하세요\n",
        " (수행 전)\n"
      ]
    },
    {
      "cell_type": "code",
      "metadata": {
        "id": "u8jK6JGNUNsz",
        "outputId": "1bc7476a-86dd-453b-8109-27d884720e45"
      },
      "source": [
        "# index array를 사용하여 3차원 배열에서 원하는 항목만 1D로 indexing\n",
        "a = np.arange(12).reshape(2, 3, -1)\n",
        "print(a)\n",
        "# [0, 3, 8, 10] \n",
        "# 000, 011, 110, 120\n",
        "print(a[[0,0,1,1],[0,1,1,2],[0,1,0,0]])"
      ],
      "execution_count": null,
      "outputs": [
        {
          "output_type": "stream",
          "text": [
            "[[[ 0  1]\n",
            "  [ 2  3]\n",
            "  [ 4  5]]\n",
            "\n",
            " [[ 6  7]\n",
            "  [ 8  9]\n",
            "  [10 11]]]\n",
            "[ 0  3  8 10]\n"
          ],
          "name": "stdout"
        }
      ]
    },
    {
      "cell_type": "code",
      "metadata": {
        "id": "-Ebv7M8dUQpI",
        "outputId": "94903051-348a-45be-eea4-ed833e193e28"
      },
      "source": [
        "# index array를 사용하여 2차원 배열에서 원하는 항목만 2D로 indexing\n",
        "a = np.arange(12).reshape(4, -1)\n",
        "print(a)\n",
        "# [[1, 3], [8, 9]]\n",
        "# (0,1) (1,0)  (2,2)  (3,0)\n",
        "a[np.array([[0, 1],[2,3]]), np.array([[1,0],[2,0]])]"
      ],
      "execution_count": null,
      "outputs": [
        {
          "output_type": "stream",
          "text": [
            "[[ 0  1  2]\n",
            " [ 3  4  5]\n",
            " [ 6  7  8]\n",
            " [ 9 10 11]]\n"
          ],
          "name": "stdout"
        },
        {
          "output_type": "execute_result",
          "data": {
            "text/plain": [
              "array([[1, 3],\n",
              "       [8, 9]])"
            ]
          },
          "metadata": {
            "tags": []
          },
          "execution_count": 9
        }
      ]
    },
    {
      "cell_type": "code",
      "metadata": {
        "id": "7A5DysxAlAxy"
      },
      "source": [],
      "execution_count": null,
      "outputs": []
    },
    {
      "cell_type": "markdown",
      "metadata": {
        "id": "AB9VmNw9Eb-R"
      },
      "source": [
        "#### Mission 먼저 수행해보고 비교하세요 (수행 후,Solution)\n",
        "\n"
      ]
    },
    {
      "cell_type": "code",
      "metadata": {
        "id": "Z2Adik77-jsI",
        "colab": {
          "base_uri": "https://localhost:8080/",
          "height": 167
        },
        "outputId": "bc521f88-19f9-4eec-e35a-641aebdc772f"
      },
      "source": [
        "# index array를 사용하여 3차원 배열에서 원하는 항목만 1D로 indexing\n",
        "a = np.arange(12).reshape(2, 3, -1)\n",
        "print(a)\n",
        "# [0, 3, 8, 10]  \n",
        "# [0,0,0],[0,1,1],[1,1,0],[1,2,0]\n",
        "print(a[[0,0,1,1],[0,1,1,2],[0,1,0,0]])"
      ],
      "execution_count": null,
      "outputs": [
        {
          "output_type": "stream",
          "text": [
            "[[[ 0  1]\n",
            "  [ 2  3]\n",
            "  [ 4  5]]\n",
            "\n",
            " [[ 6  7]\n",
            "  [ 8  9]\n",
            "  [10 11]]]\n",
            "[ 0  3  8 10]\n"
          ],
          "name": "stdout"
        }
      ]
    },
    {
      "cell_type": "code",
      "metadata": {
        "id": "Q4VDfV5KAdr5",
        "colab": {
          "base_uri": "https://localhost:8080/",
          "height": 129
        },
        "outputId": "51ae9e49-ae77-41a7-8997-12d1d7025535"
      },
      "source": [
        "# index array를 사용하여 2차원 배열에서 원하는 항목만 2D로 indexing\n",
        "a = np.arange(12).reshape(4, -1)\n",
        "print(a)\n",
        "# [[1, 3], [8, 9]]\n",
        "# [0,1],[1,0],[2,2],[3,0]  - single element index\n",
        "print(a[np.array([[0,1],[2,3]]), np.array([[1,0],[2,0]])])"
      ],
      "execution_count": null,
      "outputs": [
        {
          "output_type": "stream",
          "text": [
            "[[ 0  1  2]\n",
            " [ 3  4  5]\n",
            " [ 6  7  8]\n",
            " [ 9 10 11]]\n",
            "[[1 3]\n",
            " [8 9]]\n"
          ],
          "name": "stdout"
        }
      ]
    },
    {
      "cell_type": "markdown",
      "metadata": {
        "id": "8pSPklV4kUXn"
      },
      "source": [
        "#### 7) boolean array의 사용\n",
        "- boolean_array는 원본배열과 동일한  shape의 dtype=bool인 배열\n",
        "- 원본에서 boolean_array가 True인 위치의 것만을 대상으로하는 배열이 반환됨\n",
        "- boolean_array는 ndarray, list 등으로 작성하거나, 연산의 결과 일 수 있음\n",
        "- 주로 결과가 True/False인 비교연산식을 사용하여 작성함\n",
        "- 복잡한 조건은 np.logical_and(), np.logical_or(), np.logical_not() 활용\n",
        "- boolean array와 &, |,~ 연산자를 사용하여 조건작성 가능 (괄호 사용 중요)\n"
      ]
    },
    {
      "cell_type": "code",
      "metadata": {
        "id": "1iG9zEk5bi5X",
        "colab": {
          "base_uri": "https://localhost:8080/",
          "height": 111
        },
        "outputId": "8448eab3-06b4-4e57-b026-592a69c3832f"
      },
      "source": [
        "# [57] boolean array의 사용\n",
        "a = np.arange(1, 7) # [1 2 3 4 5 6]\n",
        "b = np.array([True, False, True, True, False, True])\n",
        "print(a[b])\n",
        "print(a%2)\n",
        "print(a%2==0)\n",
        "print(a[a%2==0]) # boolean array  (dtype = bool)\n",
        "print(a[a%2])    # index array (dtype = int) - 주의 할 것!"
      ],
      "execution_count": null,
      "outputs": [
        {
          "output_type": "stream",
          "text": [
            "[1 3 4 6]\n",
            "[1 0 1 0 1 0]\n",
            "[False  True False  True False  True]\n",
            "[2 4 6]\n",
            "[2 1 2 1 2 1]\n"
          ],
          "name": "stdout"
        }
      ]
    },
    {
      "cell_type": "code",
      "metadata": {
        "id": "3NXdGzjRuWd8",
        "outputId": "3115a233-3d35-45f4-dd8a-338469683aab"
      },
      "source": [
        "x = [1, 2, 3, 4, 5]\n",
        "a = input('input expression : ')\n",
        "b = eval(a)\n",
        "print(a, b)"
      ],
      "execution_count": null,
      "outputs": [
        {
          "output_type": "stream",
          "text": [
            "input expression : x[2:]\n",
            "x[2:] [3, 4, 5]\n"
          ],
          "name": "stdout"
        }
      ]
    },
    {
      "cell_type": "code",
      "metadata": {
        "id": "_NRXM5PQm9cj"
      },
      "source": [
        "# [58-1] 출력 함수\n",
        "def printary(w1, w2, ary, *, sep='|'):\n",
        "    for x in ary.split(sep):\n",
        "        x = x.strip()\n",
        "        t = eval(x)\n",
        "        print(f'%-{w1}s %-{w2}s %s' % (x, t.shape, t.tolist()))\n",
        "    print(\"-\" * 30)"
      ],
      "execution_count": null,
      "outputs": []
    },
    {
      "cell_type": "code",
      "metadata": {
        "id": "spGWahBGkZgt",
        "colab": {
          "base_uri": "https://localhost:8080/",
          "height": 111
        },
        "outputId": "286a239d-0b49-4cfb-b076-f0924876ccb5"
      },
      "source": [
        "# [58-2] 짝수인 것, 4보다 크거나 같은 것\n",
        "np.random.seed(100)\n",
        "a = np.random.permutation(10)\n",
        "printary(10, 7, \"a\")\n",
        "printary(10, 7, \"a[a%2==0]\")\n",
        "printary(10, 7, \"a[a>=4]\")    \n",
        "print(a[a%2 == 0])\n",
        "print(a[a>=4])"
      ],
      "execution_count": null,
      "outputs": [
        {
          "output_type": "stream",
          "text": [
            "a          (10,)   [7, 6, 1, 5, 4, 2, 0, 3, 9, 8]\n",
            "------------------------------\n",
            "a[a%2==0]  (5,)    [6, 4, 2, 0, 8]\n",
            "------------------------------\n",
            "a[a>=4]    (6,)    [7, 6, 5, 4, 9, 8]\n",
            "------------------------------\n",
            "[6 4 2 0 8]\n",
            "[7 6 5 4 9 8]\n"
          ],
          "name": "stdout"
        }
      ]
    },
    {
      "cell_type": "code",
      "metadata": {
        "id": "Qet-XpuVaHhh",
        "colab": {
          "base_uri": "https://localhost:8080/",
          "height": 92
        },
        "outputId": "b60251eb-38f3-439a-9bea-5a422361dcaa"
      },
      "source": [
        "# [58-3] 3 또는 2의 배수인 것\n",
        "printary(32, 7, \"a[np.logical_or(a%3==0, a%2==0)]\")\n",
        "printary(32, 7, \"a[(a%3==0) | (a%2==0)]\", sep='+')"
      ],
      "execution_count": null,
      "outputs": [
        {
          "output_type": "stream",
          "text": [
            "a[np.logical_or(a%3==0, a%2==0)] (7,)    [2, 3, 6, 9, 0, 4, 8]\n",
            "------------------------------\n",
            "a[(a%3==0) | (a%2==0)]           (7,)    [2, 3, 6, 9, 0, 4, 8]\n",
            "------------------------------\n"
          ],
          "name": "stdout"
        }
      ]
    },
    {
      "cell_type": "code",
      "metadata": {
        "id": "3OtW_UW2aJv3",
        "colab": {
          "base_uri": "https://localhost:8080/",
          "height": 92
        },
        "outputId": "42a8b2bf-7f6d-42cf-fe8a-202b5576285a"
      },
      "source": [
        "# [58-4] 6이상 9이하인 것\n",
        "printary(32, 7, \"a[np.logical_and(a>=6,a<=9)]\")\n",
        "printary(32, 7, \"a[(a>=6) & (a<=9)]\")"
      ],
      "execution_count": null,
      "outputs": [
        {
          "output_type": "stream",
          "text": [
            "a[np.logical_and(a>=6,a<=9)]     (4,)    [6, 9, 8, 7]\n",
            "------------------------------\n",
            "a[(a>=6) & (a<=9)]               (4,)    [6, 9, 8, 7]\n",
            "------------------------------\n"
          ],
          "name": "stdout"
        }
      ]
    },
    {
      "cell_type": "code",
      "metadata": {
        "id": "PcJtb5LlaMJx",
        "colab": {
          "base_uri": "https://localhost:8080/",
          "height": 92
        },
        "outputId": "95bd7149-02f1-474f-ad20-384cc44622bc"
      },
      "source": [
        "# [58-5] 3의 배수가 아닌 것\n",
        "printary(32, 7, \"a[np.logical_not(a%3==0)]\")\n",
        "printary(32, 7, \"a[~(a%3==0)]\") "
      ],
      "execution_count": null,
      "outputs": [
        {
          "output_type": "stream",
          "text": [
            "a[np.logical_not(a%3==0)]        (6,)    [2, 1, 5, 4, 8, 7]\n",
            "------------------------------\n",
            "a[~(a%3==0)]                     (6,)    [2, 1, 5, 4, 8, 7]\n",
            "------------------------------\n"
          ],
          "name": "stdout"
        }
      ]
    },
    {
      "cell_type": "code",
      "metadata": {
        "id": "rGSoKeTMdu1I",
        "colab": {
          "base_uri": "https://localhost:8080/",
          "height": 55
        },
        "outputId": "c0b864d8-f8fe-42dd-e3ef-e1f44061243b"
      },
      "source": [
        "# [58-6] 3의 배수를 -1로 변경\n",
        "print(a)\n",
        "a[a%3==0] = -1\n",
        "print(a)"
      ],
      "execution_count": null,
      "outputs": [
        {
          "output_type": "stream",
          "text": [
            "[2 3 6 9 1 5 0 4 8 7]\n",
            "[ 2 -1 -1 -1  1  5 -1  4  8  7]\n"
          ],
          "name": "stdout"
        }
      ]
    },
    {
      "cell_type": "markdown",
      "metadata": {
        "id": "wSm7zi7VeCrF"
      },
      "source": [
        "#### 8) combine index & slice"
      ]
    },
    {
      "cell_type": "code",
      "metadata": {
        "id": "rHpZQdvEeLhC",
        "colab": {
          "base_uri": "https://localhost:8080/",
          "height": 73
        },
        "outputId": "6efe8978-4940-4e14-931b-f6d70619f939"
      },
      "source": [
        "# [59-1] 2차원 배열 준비\n",
        "b = np.arange(1, 12, 2).reshape(3, -1)\n",
        "print(b)"
      ],
      "execution_count": null,
      "outputs": [
        {
          "output_type": "stream",
          "text": [
            "[[ 1  3]\n",
            " [ 5  7]\n",
            " [ 9 11]]\n"
          ],
          "name": "stdout"
        }
      ]
    },
    {
      "cell_type": "code",
      "metadata": {
        "id": "JUC5T8IVfSim",
        "colab": {
          "base_uri": "https://localhost:8080/",
          "height": 73
        },
        "outputId": "7174b549-d954-4022-edd0-4b18f085fd7a"
      },
      "source": [
        "# [59-2] 마지막 열을 차원 변경없이 indexing\n",
        "b[:,[-1]], b[:,[-1]].tolist()"
      ],
      "execution_count": null,
      "outputs": [
        {
          "output_type": "execute_result",
          "data": {
            "text/plain": [
              "(array([[ 3],\n",
              "        [ 7],\n",
              "        [11]]),\n",
              " [[3], [7], [11]])"
            ]
          },
          "metadata": {
            "tags": []
          },
          "execution_count": 26
        }
      ]
    },
    {
      "cell_type": "code",
      "metadata": {
        "id": "xiE2FePgg70a",
        "colab": {
          "base_uri": "https://localhost:8080/",
          "height": 36
        },
        "outputId": "c4281ed6-ac69-46fa-8a89-b8b3c399b5d0"
      },
      "source": [
        "# [59-3] 마지막 열 indexing (차원 감소 발생)\n",
        "b[:, -1].tolist()"
      ],
      "execution_count": null,
      "outputs": [
        {
          "output_type": "execute_result",
          "data": {
            "text/plain": [
              "[3, 7, 11]"
            ]
          },
          "metadata": {
            "tags": []
          },
          "execution_count": 27
        }
      ]
    },
    {
      "cell_type": "code",
      "metadata": {
        "id": "dIaI3YVFuWeg",
        "outputId": "73068f50-78f6-4862-9ba7-bf85fa2abf1d"
      },
      "source": [
        "# 마지막 행, 마지막 열 indexing (차원 감소 두 번 발생)\n",
        "x = b[-1,-1]\n",
        "y = b[np.array([-1]),np.array([-1])]\n",
        "print(y.ndim)"
      ],
      "execution_count": null,
      "outputs": [
        {
          "output_type": "stream",
          "text": [
            "1\n"
          ],
          "name": "stdout"
        }
      ]
    },
    {
      "cell_type": "code",
      "metadata": {
        "id": "_knuf09Zhnms",
        "colab": {
          "base_uri": "https://localhost:8080/",
          "height": 148
        },
        "outputId": "9e37a1dc-3e63-4e11-b997-73f175d968e2"
      },
      "source": [
        "# [59-4] 3차원 배열 준비\n",
        "c = np.arange(12).reshape(2,3,2)\n",
        "print(c)"
      ],
      "execution_count": null,
      "outputs": [
        {
          "output_type": "stream",
          "text": [
            "[[[ 0  1]\n",
            "  [ 2  3]\n",
            "  [ 4  5]]\n",
            "\n",
            " [[ 6  7]\n",
            "  [ 8  9]\n",
            "  [10 11]]]\n"
          ],
          "name": "stdout"
        }
      ]
    },
    {
      "cell_type": "code",
      "metadata": {
        "id": "JAdkD2L4hOm4",
        "colab": {
          "base_uri": "https://localhost:8080/",
          "height": 55
        },
        "outputId": "7e055596-779d-4de3-ac4a-ed95b07b8924"
      },
      "source": [
        "# [59-5] axis=1 에 대해 1번 indexing (차원 감소)\n",
        "c[:, -1]"
      ],
      "execution_count": null,
      "outputs": [
        {
          "output_type": "execute_result",
          "data": {
            "text/plain": [
              "array([[ 4,  5],\n",
              "       [10, 11]])"
            ]
          },
          "metadata": {
            "tags": []
          },
          "execution_count": 42
        }
      ]
    },
    {
      "cell_type": "code",
      "metadata": {
        "id": "AMjVqAM9hhbz",
        "colab": {
          "base_uri": "https://localhost:8080/",
          "height": 55
        },
        "outputId": "108be6b3-cf01-474f-816a-0e4fd3db1375"
      },
      "source": [
        "# [59-6] axis=-1 (마지막 축)에 대해 마지막 요소 indexing (차원 감소)\n",
        "c[..., -1]"
      ],
      "execution_count": null,
      "outputs": [
        {
          "output_type": "execute_result",
          "data": {
            "text/plain": [
              "array([[ 1,  3,  5],\n",
              "       [ 7,  9, 11]])"
            ]
          },
          "metadata": {
            "tags": []
          },
          "execution_count": 43
        }
      ]
    },
    {
      "cell_type": "code",
      "metadata": {
        "id": "T1zqIWa_h03G",
        "colab": {
          "base_uri": "https://localhost:8080/",
          "height": 148
        },
        "outputId": "de2091d8-2359-4d84-f65b-d966ba4eae12"
      },
      "source": [
        "# [59-7] axis=-1 (마지막 축)에 대해 첫 요소 indexing (차원 감소 없음) \n",
        "c[..., :1]"
      ],
      "execution_count": null,
      "outputs": [
        {
          "output_type": "execute_result",
          "data": {
            "text/plain": [
              "array([[[ 0],\n",
              "        [ 2],\n",
              "        [ 4]],\n",
              "\n",
              "       [[ 6],\n",
              "        [ 8],\n",
              "        [10]]])"
            ]
          },
          "metadata": {
            "tags": []
          },
          "execution_count": 36
        }
      ]
    },
    {
      "cell_type": "code",
      "metadata": {
        "id": "2-5wNrXKuWew",
        "outputId": "1559a819-d18c-4241-b13e-da346d0bc85e"
      },
      "source": [
        "c.tolist()"
      ],
      "execution_count": null,
      "outputs": [
        {
          "output_type": "execute_result",
          "data": {
            "text/plain": [
              "[[[0, 1], [2, 3], [4, 5]], [[6, 7], [8, 9], [10, 11]]]"
            ]
          },
          "metadata": {
            "tags": []
          },
          "execution_count": 38
        }
      ]
    },
    {
      "cell_type": "code",
      "metadata": {
        "id": "bq87bvMCh4eJ",
        "colab": {
          "base_uri": "https://localhost:8080/",
          "height": 36
        },
        "outputId": "9f42f8f3-ef61-4f1f-b373-37cdfba70563"
      },
      "source": [
        "# [59-8] axis=0에서 0번, axis=1에서 1번 indexing (차원 감소)\n",
        "c[[0], 1]"
      ],
      "execution_count": null,
      "outputs": [
        {
          "output_type": "execute_result",
          "data": {
            "text/plain": [
              "array([[2, 3]])"
            ]
          },
          "metadata": {
            "tags": []
          },
          "execution_count": 48
        }
      ]
    },
    {
      "cell_type": "code",
      "metadata": {
        "id": "Z6zHqMXdibWj",
        "colab": {
          "base_uri": "https://localhost:8080/",
          "height": 55
        },
        "outputId": "304fc8e1-6d19-41a0-ba9b-b0ecdb0b3823"
      },
      "source": [
        "# [59-9] axis=0에서 0번, axis=1에서 1번부터 끝까지 indexing (차원 감소 없음)\n",
        "c[[0], 1:]"
      ],
      "execution_count": null,
      "outputs": [
        {
          "output_type": "execute_result",
          "data": {
            "text/plain": [
              "array([[[2, 3],\n",
              "        [4, 5]]])"
            ]
          },
          "metadata": {
            "tags": []
          },
          "execution_count": 49
        }
      ]
    },
    {
      "cell_type": "markdown",
      "metadata": {
        "id": "WiYCE_GfihTg"
      },
      "source": [
        "#### 9) indexing 활용"
      ]
    },
    {
      "cell_type": "code",
      "metadata": {
        "id": "HBC9VaLJipg6",
        "colab": {
          "base_uri": "https://localhost:8080/",
          "height": 92
        },
        "outputId": "d534b4f6-313b-4d76-9930-6133122b6e66"
      },
      "source": [
        "# [60-1] 2차원 배열 준비\n",
        "aN3 = np.array([[0,-1,4],[-2,3,2],[1,-2,-1],[-4,3,-2]])\n",
        "print(aN3)"
      ],
      "execution_count": null,
      "outputs": [
        {
          "output_type": "stream",
          "text": [
            "[[ 0 -1  4]\n",
            " [-2  3  2]\n",
            " [ 1 -2 -1]\n",
            " [-4  3 -2]]\n"
          ],
          "name": "stdout"
        }
      ]
    },
    {
      "cell_type": "code",
      "metadata": {
        "id": "mCURA7lskn64",
        "colab": {
          "base_uri": "https://localhost:8080/",
          "height": 92
        },
        "outputId": "e8b6c838-573a-4217-9b75-c33a041616f7"
      },
      "source": [
        "# [60-2] 0번과 1번 열을 바꿈\n",
        "aN3[:, [1, 0, 2]]"
      ],
      "execution_count": null,
      "outputs": [
        {
          "output_type": "execute_result",
          "data": {
            "text/plain": [
              "array([[-1,  0,  4],\n",
              "       [ 3, -2,  2],\n",
              "       [-2,  1, -1],\n",
              "       [ 3, -4, -2]])"
            ]
          },
          "metadata": {
            "tags": []
          },
          "execution_count": 42
        }
      ]
    },
    {
      "cell_type": "code",
      "metadata": {
        "id": "qiK6DTvBuWe_",
        "outputId": "061cf457-dd5e-4aa3-db97-0fd2be717970"
      },
      "source": [
        "aN3"
      ],
      "execution_count": null,
      "outputs": [
        {
          "output_type": "execute_result",
          "data": {
            "text/plain": [
              "array([[ 0, -1,  4],\n",
              "       [-2,  3,  2],\n",
              "       [ 1, -2, -1],\n",
              "       [-4,  3, -2]])"
            ]
          },
          "metadata": {
            "tags": []
          },
          "execution_count": 43
        }
      ]
    },
    {
      "cell_type": "code",
      "metadata": {
        "id": "yJINccDyuWfC",
        "outputId": "68e025f1-1fa9-42be-e24c-837e9f8a86e0"
      },
      "source": [
        "aN3[aN3 < 0]"
      ],
      "execution_count": null,
      "outputs": [
        {
          "output_type": "execute_result",
          "data": {
            "text/plain": [
              "array([-1, -2, -2, -1, -4, -2])"
            ]
          },
          "metadata": {
            "tags": []
          },
          "execution_count": 47
        }
      ]
    },
    {
      "cell_type": "code",
      "metadata": {
        "id": "0x2QmCuEuWfE",
        "outputId": "f184017f-628c-459d-b4f9-3b1f46601ed3"
      },
      "source": [
        "aN3 < 0         # shape (4, 3)"
      ],
      "execution_count": null,
      "outputs": [
        {
          "output_type": "execute_result",
          "data": {
            "text/plain": [
              "array([[False,  True, False],\n",
              "       [ True, False, False],\n",
              "       [False,  True,  True],\n",
              "       [ True, False,  True]])"
            ]
          },
          "metadata": {
            "tags": []
          },
          "execution_count": 51
        }
      ]
    },
    {
      "cell_type": "code",
      "metadata": {
        "id": "wOo0oQsJuWfH",
        "outputId": "ff164dd5-2a58-4807-84a5-db9d4ee2616d"
      },
      "source": [
        "aN3[:,0] < 0      # shape (4,)"
      ],
      "execution_count": null,
      "outputs": [
        {
          "output_type": "execute_result",
          "data": {
            "text/plain": [
              "array([False,  True, False,  True])"
            ]
          },
          "metadata": {
            "tags": []
          },
          "execution_count": 50
        }
      ]
    },
    {
      "cell_type": "code",
      "metadata": {
        "id": "1HsqLU6WcrZY",
        "colab": {
          "base_uri": "https://localhost:8080/",
          "height": 55
        },
        "outputId": "6a2c112e-782e-4fd5-ede6-0dcf6c2f2eb3"
      },
      "source": [
        "# [60-3] 0번째 열의 값이 0보다 작은 행\n",
        "aN3[aN3[:,0] < 0, :]  # 차원 유지"
      ],
      "execution_count": null,
      "outputs": [
        {
          "output_type": "execute_result",
          "data": {
            "text/plain": [
              "array([[-2,  3,  2],\n",
              "       [-4,  3, -2]])"
            ]
          },
          "metadata": {
            "tags": []
          },
          "execution_count": 48
        }
      ]
    },
    {
      "cell_type": "code",
      "metadata": {
        "id": "gIl1mJPacvDB",
        "colab": {
          "base_uri": "https://localhost:8080/",
          "height": 55
        },
        "outputId": "e3c3bfb0-604f-4748-86b8-081d374ef157"
      },
      "source": [
        "# [60-4] 0번째 열의 값이 0보다 작은 행의 1번 열부터 마지막 열까지\n",
        "aN3[aN3[:,0]<0, 1:]   # 차원 유지"
      ],
      "execution_count": null,
      "outputs": [
        {
          "output_type": "execute_result",
          "data": {
            "text/plain": [
              "array([[ 3,  2],\n",
              "       [ 3, -2]])"
            ]
          },
          "metadata": {
            "tags": []
          },
          "execution_count": 64
        }
      ]
    },
    {
      "cell_type": "code",
      "metadata": {
        "id": "9rkFYuuwkZQZ",
        "colab": {
          "base_uri": "https://localhost:8080/",
          "height": 73
        },
        "outputId": "785f392f-fe4e-4551-aefb-85586862f28a"
      },
      "source": [
        "# [60-5] 2차원 배열 a3N 준비\n",
        "a3N = np.array([[x] * 5 for x in range(3)])\n",
        "print(a3N)"
      ],
      "execution_count": null,
      "outputs": [
        {
          "output_type": "stream",
          "text": [
            "[[0 0 0 0 0]\n",
            " [1 1 1 1 1]\n",
            " [2 2 2 2 2]]\n"
          ],
          "name": "stdout"
        }
      ]
    },
    {
      "cell_type": "code",
      "metadata": {
        "id": "MmA3DvNjuWfP",
        "outputId": "26120430-5621-46c6-c31d-5dcce782673a"
      },
      "source": [
        "a = np.arange(12).reshape(4, -1)\n",
        "print(a)\n",
        "#a[np.newaxis,]\n",
        "#a[:, np.newaxis]\n",
        "a[..., np.newaxis]"
      ],
      "execution_count": null,
      "outputs": [
        {
          "output_type": "stream",
          "text": [
            "[[ 0  1  2]\n",
            " [ 3  4  5]\n",
            " [ 6  7  8]\n",
            " [ 9 10 11]]\n"
          ],
          "name": "stdout"
        },
        {
          "output_type": "execute_result",
          "data": {
            "text/plain": [
              "array([[[ 0],\n",
              "        [ 1],\n",
              "        [ 2]],\n",
              "\n",
              "       [[ 3],\n",
              "        [ 4],\n",
              "        [ 5]],\n",
              "\n",
              "       [[ 6],\n",
              "        [ 7],\n",
              "        [ 8]],\n",
              "\n",
              "       [[ 9],\n",
              "        [10],\n",
              "        [11]]])"
            ]
          },
          "metadata": {
            "tags": []
          },
          "execution_count": 64
        }
      ]
    },
    {
      "cell_type": "code",
      "metadata": {
        "id": "iI9KD6SmcUuX",
        "colab": {
          "base_uri": "https://localhost:8080/",
          "height": 73
        },
        "outputId": "b75db490-10f4-415f-cddd-fe9055ab6dd9"
      },
      "source": [
        "# [60-6] 1번과 2번 행을 바꿈\n",
        "a3N[[0,2,1], :]"
      ],
      "execution_count": null,
      "outputs": [
        {
          "output_type": "execute_result",
          "data": {
            "text/plain": [
              "array([[0, 0, 0, 0, 0],\n",
              "       [2, 2, 2, 2, 2],\n",
              "       [1, 1, 1, 1, 1],\n",
              "       [1, 1, 1, 1, 1]])"
            ]
          },
          "metadata": {
            "tags": []
          },
          "execution_count": 55
        }
      ]
    },
    {
      "cell_type": "code",
      "metadata": {
        "id": "H7tmj9xnkcwl",
        "colab": {
          "base_uri": "https://localhost:8080/",
          "height": 36
        },
        "outputId": "de7a2b00-e86a-4072-e537-68b178c1e6d1"
      },
      "source": [
        "# [60-7] 1차원 배열 aN 준비\n",
        "aN  = np.arange(3)\n",
        "print(aN)"
      ],
      "execution_count": null,
      "outputs": [
        {
          "output_type": "stream",
          "text": [
            "[0 1 2]\n"
          ],
          "name": "stdout"
        }
      ]
    },
    {
      "cell_type": "code",
      "metadata": {
        "id": "l_ZhZ7T4cfCM",
        "colab": {
          "base_uri": "https://localhost:8080/",
          "height": 73
        },
        "outputId": "1f9e522a-a270-4c44-b3e3-bb3bebcff8bd"
      },
      "source": [
        "# [60-8] 2차원으로 shape 변경\n",
        "aN.reshape(-1, 1)"
      ],
      "execution_count": null,
      "outputs": [
        {
          "output_type": "execute_result",
          "data": {
            "text/plain": [
              "array([[0],\n",
              "       [1],\n",
              "       [2]])"
            ]
          },
          "metadata": {
            "tags": []
          },
          "execution_count": 79
        }
      ]
    },
    {
      "cell_type": "code",
      "metadata": {
        "id": "wXnHzm6ScZQP",
        "colab": {
          "base_uri": "https://localhost:8080/",
          "height": 73
        },
        "outputId": "6f754b17-429d-48a3-8462-daa8c0fce6c4"
      },
      "source": [
        "# [60-9] 2차원으로 shape 변경\n",
        "aN[:, None]"
      ],
      "execution_count": null,
      "outputs": [
        {
          "output_type": "execute_result",
          "data": {
            "text/plain": [
              "array([[0],\n",
              "       [1],\n",
              "       [2]])"
            ]
          },
          "metadata": {
            "tags": []
          },
          "execution_count": 76
        }
      ]
    },
    {
      "cell_type": "code",
      "metadata": {
        "id": "sKnMfi7nuWff",
        "outputId": "d017d9f4-1b84-452d-95ef-c0ff76ae172b"
      },
      "source": [
        "aN[None, :]"
      ],
      "execution_count": null,
      "outputs": [
        {
          "output_type": "execute_result",
          "data": {
            "text/plain": [
              "array([[0, 1, 2]])"
            ]
          },
          "metadata": {
            "tags": []
          },
          "execution_count": 60
        }
      ]
    },
    {
      "cell_type": "code",
      "metadata": {
        "id": "A3Y8x9ECcbPz",
        "colab": {
          "base_uri": "https://localhost:8080/",
          "height": 73
        },
        "outputId": "f60de5b8-1f22-435e-8ddb-efb62ae41148"
      },
      "source": [
        "# [60-10] 2차원으로 shape 변경\n",
        "\n",
        "aN[:, np.newaxis]"
      ],
      "execution_count": null,
      "outputs": [
        {
          "output_type": "execute_result",
          "data": {
            "text/plain": [
              "array([[0],\n",
              "       [1],\n",
              "       [2]])"
            ]
          },
          "metadata": {
            "tags": []
          },
          "execution_count": 77
        }
      ]
    },
    {
      "cell_type": "code",
      "metadata": {
        "id": "T0eJGyQHuWfm",
        "outputId": "91e9ff8c-6f15-4b21-e061-59362c4a7e73"
      },
      "source": [
        "aN[np.newaxis, :]"
      ],
      "execution_count": null,
      "outputs": [
        {
          "output_type": "execute_result",
          "data": {
            "text/plain": [
              "array([[[0, 1, 2]]])"
            ]
          },
          "metadata": {
            "tags": []
          },
          "execution_count": 59
        }
      ]
    },
    {
      "cell_type": "markdown",
      "metadata": {
        "id": "5ObDK5YentuF"
      },
      "source": [
        "### 8.ndarray 유용한 필수 함수"
      ]
    },
    {
      "cell_type": "markdown",
      "metadata": {
        "id": "LZsF7WC7l-sN"
      },
      "source": [
        "#### 1) 정수값과 관련 있는 난수 발생\n",
        "- np.random.seed(정수)\n",
        "- 정수가 같으면 항상 같은 난수가 발생됨\n",
        "- np.random.randint(start, stop, size=shape)\n",
        "- start ~ stop-1까지의 정수로 구성되 size 모양의 난수 배열 반환 \n",
        "- 1차원인 경우 size에 정수 사용가능\n"
      ]
    },
    {
      "cell_type": "code",
      "metadata": {
        "id": "o3JRelH1mQuV",
        "colab": {
          "base_uri": "https://localhost:8080/"
        },
        "outputId": "31c631cf-b70a-43d0-f678-485e6c9512c3"
      },
      "source": [
        "# [61] 1~4의 정수로 (3, 4) shape의 배열 생성 \n",
        "import numpy as np\n",
        "#np.random.seed(100)\n",
        "x = np.random.randint(1, 5, size=(3,4))\n",
        "print(x)"
      ],
      "execution_count": null,
      "outputs": [
        {
          "output_type": "stream",
          "name": "stdout",
          "text": [
            "[[3 4 2 3]\n",
            " [4 4 1 2]\n",
            " [1 3 3 4]]\n"
          ]
        }
      ]
    },
    {
      "cell_type": "markdown",
      "metadata": {
        "id": "41qStLtMmsHp"
      },
      "source": [
        "#### 2) ndarray 객체 순서 무작위 변경\n",
        "- np.random.shuffle(ndarray객체)\n",
        "- None 반환"
      ]
    },
    {
      "cell_type": "code",
      "metadata": {
        "id": "fw9SKoklm6Th",
        "colab": {
          "base_uri": "https://localhost:8080/",
          "height": 36
        },
        "outputId": "3c85cbf6-3320-4ea9-9176-92d900257f79"
      },
      "source": [
        "# [62] 배열 내부 데이터 섞기\n",
        "a = np.arange(10)\n",
        "np.random.shuffle(a)\n",
        "print(a)"
      ],
      "execution_count": null,
      "outputs": [
        {
          "output_type": "stream",
          "text": [
            "[9 7 8 1 5 6 3 0 2 4]\n"
          ],
          "name": "stdout"
        }
      ]
    },
    {
      "cell_type": "markdown",
      "metadata": {
        "id": "n64MfSyDnodg"
      },
      "source": [
        "#### 3) 중복 값 제거된 배열 생성\n",
        "- np.unique(a, return_counts=False)\n",
        "- a 가 다차원 배열인 경우 1차원으로 변경되어 작업 됨\n",
        "- return_counts=True로 설정하면 각 데이터 개수의 ndarray 배열도 생성하여 반환\n",
        "   - (중복 값 제거된 배열, 각 데이터 개수의 배열) tuple 반환\n"
      ]
    },
    {
      "cell_type": "code",
      "metadata": {
        "id": "i_6F_MNknnWR"
      },
      "source": [
        "# [63-1] 중복값 제거를 위한 배열 생성\n",
        "np.random.seed(1000)\n",
        "a = np.random.randint(1, 100000, size = 200000)\n",
        "b = a.reshape(1000, -1)"
      ],
      "execution_count": null,
      "outputs": []
    },
    {
      "cell_type": "code",
      "metadata": {
        "id": "cNUB9nCpH7yR",
        "colab": {
          "base_uri": "https://localhost:8080/",
          "height": 91
        },
        "outputId": "ee9fb94d-d97e-4b26-ed62-d9137a050889"
      },
      "source": [
        "# [63-2] 배열의 중복값 제거\n",
        "x1 = np.unique(a)\n",
        "x2 = np.unique(b)\n",
        "print(f'size={len(x1)}', x1, sep='\\n')\n",
        "print(f'size={len(x2)}', x2, sep='\\n')"
      ],
      "execution_count": null,
      "outputs": [
        {
          "output_type": "stream",
          "text": [
            "size=86439\n",
            "[    1     2     3 ... 99996 99998 99999]\n",
            "size=86439\n",
            "[    1     2     3 ... 99996 99998 99999]\n"
          ],
          "name": "stdout"
        }
      ]
    },
    {
      "cell_type": "code",
      "metadata": {
        "id": "wftjr7qDIzCp",
        "colab": {
          "base_uri": "https://localhost:8080/",
          "height": 54
        },
        "outputId": "52725d92-71cd-4ab6-d0d8-4af999ed7468"
      },
      "source": [
        "# [63-3] 2차원 배열의 중복값 제거\n",
        "c = [ [1,2,3], [1,2,3], [1,3,5] ]\n",
        "d = [ [1,2,3], [1,2,3], [1,3] ]\n",
        "x3 = np.unique(c)\n",
        "x4 = np.unique(d)\n",
        "print(x3, x4, sep='\\n')"
      ],
      "execution_count": null,
      "outputs": [
        {
          "output_type": "stream",
          "text": [
            "[1 2 3 5]\n",
            "[list([1, 2, 3]) list([1, 3])]\n"
          ],
          "name": "stdout"
        }
      ]
    },
    {
      "cell_type": "code",
      "metadata": {
        "id": "KwmWEuEIJcQj",
        "colab": {
          "base_uri": "https://localhost:8080/",
          "height": 54
        },
        "outputId": "621462d9-2e85-4266-e947-fc597d21fa5b"
      },
      "source": [
        "# [63-4] return_counts 사용\n",
        "x5, rcount = np.unique(c, return_counts=True)\n",
        "print(x5, rcount, sep='\\n')"
      ],
      "execution_count": null,
      "outputs": [
        {
          "output_type": "stream",
          "text": [
            "[1 2 3 5]\n",
            "[3 2 3 1]\n"
          ],
          "name": "stdout"
        }
      ]
    },
    {
      "cell_type": "markdown",
      "metadata": {
        "id": "Go_yT2K2KR-M"
      },
      "source": [
        "#### 4) 배열에서 가장 큰/작은 요소의 index 번호 \n",
        "- np.argmax(a)\n",
        "- np.argmin(a)\n",
        "- index는 0번부터 시작\n",
        "- 2차원 이상인 경우 1차원으로 변경하여 작업 진행됨"
      ]
    },
    {
      "cell_type": "code",
      "metadata": {
        "id": "QRlz8iWfLC3Z",
        "colab": {
          "base_uri": "https://localhost:8080/",
          "height": 166
        },
        "outputId": "c47be907-c558-4aa7-d552-eced60984cc7"
      },
      "source": [
        "# [64-1] 12개 요소를 갖는 1차원 배열 생성, shape 3차원 변경\n",
        "np.random.seed(1234)\n",
        "x1 = np.random.randint(100, size = 12)\n",
        "x2 = x1.reshape(2,3,2)\n",
        "print(x1, x2, sep='\\n')"
      ],
      "execution_count": null,
      "outputs": [
        {
          "output_type": "stream",
          "text": [
            "[47 83 38 53 76 24 15 49 23 26 30 43]\n",
            "[[[47 83]\n",
            "  [38 53]\n",
            "  [76 24]]\n",
            "\n",
            " [[15 49]\n",
            "  [23 26]\n",
            "  [30 43]]]\n"
          ],
          "name": "stdout"
        }
      ]
    },
    {
      "cell_type": "code",
      "metadata": {
        "id": "MIKYZm-GLQbW",
        "colab": {
          "base_uri": "https://localhost:8080/",
          "height": 54
        },
        "outputId": "f1652639-6fa9-4262-d2c3-5352f72b4a1f"
      },
      "source": [
        "# [64-2] 두 배열에 대해 가장 큰/작은 요소의 index 번호 구하기\n",
        "print(f'x1 - argmax : {np.argmax(x1)}, argmin : {np.argmin(x1)}')\n",
        "print(f'x2 - argmax : {np.argmax(x2)}, argmin : {np.argmin(x2)}')"
      ],
      "execution_count": null,
      "outputs": [
        {
          "output_type": "stream",
          "text": [
            "x1 - argmax : 1, argmin : 6\n",
            "x2 - argmax : 1, argmin : 6\n"
          ],
          "name": "stdout"
        }
      ]
    },
    {
      "cell_type": "markdown",
      "metadata": {
        "id": "-UeeRdmEMWlW"
      },
      "source": [
        "#### 5) min보다 작은 값을 min으로 max보다 큰 값을 max로 변경\n",
        "- np.clip(a, min, max, out=None)\n",
        "- 새로운 배열 반환, out에 a와 동일 크기의 배열 지정 가능\n",
        "- out 사용 시, out에 지정된 배열로도 결과가 반환됨 (배열내용변경)\n"
      ]
    },
    {
      "cell_type": "code",
      "metadata": {
        "id": "_V-KcxlxN9q6",
        "colab": {
          "base_uri": "https://localhost:8080/",
          "height": 54
        },
        "outputId": "c69c2818-3115-49a1-d91f-545205e15a0b"
      },
      "source": [
        "# [65-1] 35보다 작은 값을 35, 55보다 큰 값을 55로 변경\n",
        "np.random.seed(150)\n",
        "x = np.random.randint(30, 60, 10)\n",
        "y1 = np.clip(x, 35, 55)\n",
        "print(x, y1, sep='\\n')"
      ],
      "execution_count": null,
      "outputs": [
        {
          "output_type": "stream",
          "text": [
            "[34 56 57 55 46 48 34 58 44 35]\n",
            "[35 55 55 55 46 48 35 55 44 35]\n"
          ],
          "name": "stdout"
        }
      ]
    },
    {
      "cell_type": "code",
      "metadata": {
        "id": "YM1PR59-OqRK",
        "colab": {
          "base_uri": "https://localhost:8080/",
          "height": 54
        },
        "outputId": "e17e0a7d-dd90-4883-a835-802950e201c6"
      },
      "source": [
        "# [65-2] 40보다 작은 값을 40, 50보다 큰 값을 50로 변경\n",
        "y2 = np.clip(x, 40, 50, out=x)\n",
        "print(x, y2, sep='\\n')"
      ],
      "execution_count": null,
      "outputs": [
        {
          "output_type": "stream",
          "text": [
            "[40 50 50 50 46 48 40 50 44 40]\n",
            "[40 50 50 50 46 48 40 50 44 40]\n"
          ],
          "name": "stdout"
        }
      ]
    },
    {
      "cell_type": "markdown",
      "metadata": {
        "id": "OUtgDfMWpd70"
      },
      "source": [
        "#### 6) 조건에 따른 데이터 선택\n",
        "- np.where( 조건 [, c, d])\n",
        "- 조건 : 참, 거짓(=0, False, None)으로 이루어진 배열  또는 스칼라\n",
        "- 조건 배열이 참일 때 c, 거짓일 때 d를 취한 배열 반환 (c, d는 스칼라 가능)\n",
        "- c, d 생략 시 조건이 참인 것에 대한 index 배열(ndarray) tuple 반환 (ndarray, ndarray, ...) 의 형태\n",
        "- 조건 배열의 ndim == len(tuple)\n",
        "- 복잡한 조건은  ~, &, |, 및 np.logical_and(), np.logical_or() 사용\n"
      ]
    },
    {
      "cell_type": "code",
      "metadata": {
        "id": "x74N9tbuuWgN",
        "outputId": "9bb80822-dae5-4a55-fd03-fed82d0d378b"
      },
      "source": [
        "print(np.where(True, \"PASS\", \"FAIL\"))"
      ],
      "execution_count": null,
      "outputs": [
        {
          "output_type": "stream",
          "text": [
            "PASS\n"
          ],
          "name": "stdout"
        }
      ]
    },
    {
      "cell_type": "code",
      "metadata": {
        "id": "cSZ0NdnXoC0C",
        "colab": {
          "base_uri": "https://localhost:8080/",
          "height": 54
        },
        "outputId": "80b2a9eb-a00d-4f4d-a5b3-afa6da562c43"
      },
      "source": [
        "# [66-1] 조건이 True, False일 때의 동작 확인\n",
        "a = np.array([4, 8, 2, 5])  \n",
        "b = np.array([3, 9, 1, 7])\n",
        "print(np.where(True, a, b))\n",
        "print(np.where(False, a, b)) "
      ],
      "execution_count": null,
      "outputs": [
        {
          "output_type": "stream",
          "text": [
            "[4 8 2 5]\n",
            "[3 9 1 7]\n"
          ],
          "name": "stdout"
        }
      ]
    },
    {
      "cell_type": "code",
      "metadata": {
        "id": "2ULEpZwFSd8L",
        "colab": {
          "base_uri": "https://localhost:8080/",
          "height": 54
        },
        "outputId": "c3e8ba17-f760-4930-ef3d-3959be4340a3"
      },
      "source": [
        "# [66-2] 조건을 배열로 사용하여 동작 확인\n",
        "print(np.where([True, False, False, True],\n",
        "               [3, 4, 5, 7],\n",
        "               [1, 2, 9, 2])) "
      ],
      "execution_count": null,
      "outputs": [
        {
          "output_type": "stream",
          "text": [
            "[3 2 9 7]\n"
          ],
          "name": "stdout"
        }
      ]
    },
    {
      "cell_type": "code",
      "metadata": {
        "id": "PXN3Ob56uWgU",
        "outputId": "379ebd0b-f453-4854-e74e-d24469463179"
      },
      "source": [
        "a = np.array([ 1, 5, 3, 9, 7])\n",
        "b = np.where(a>3, \"A\", \"B\")\n",
        "#b = np.where([False, True, False, True, True], \"A\", \"B\")\n",
        "print(b)"
      ],
      "execution_count": null,
      "outputs": [
        {
          "output_type": "stream",
          "text": [
            "['B' 'A' 'B' 'A' 'A']\n",
            "['B', 'A', 'B', 'A', 'A']\n"
          ],
          "name": "stdout"
        }
      ]
    },
    {
      "cell_type": "code",
      "metadata": {
        "id": "rEX-v1XluWgX",
        "outputId": "05149648-6300-49ac-be5e-312f5b4be3e7"
      },
      "source": [
        "a = np.random.permutation(12).reshape(2,3,-1)\n",
        "print(a)\n",
        "b = np.where(a>5)\n",
        "print(*b)  # print(b[0], b[1], b[2])"
      ],
      "execution_count": null,
      "outputs": [
        {
          "output_type": "stream",
          "text": [
            "[[[ 0  4]\n",
            "  [10  2]\n",
            "  [11  7]]\n",
            "\n",
            " [[ 1  5]\n",
            "  [ 3  8]\n",
            "  [ 9  6]]]\n",
            "[0 0 0 1 1 1] [1 2 2 1 2 2] [0 0 1 1 0 1]\n"
          ],
          "name": "stdout"
        }
      ]
    },
    {
      "cell_type": "markdown",
      "metadata": {
        "id": "NI5VdQA-hj4B"
      },
      "source": [
        "#### 7) 통계값 함수들\n",
        "- axis를 0 또는 1로 지정할 경우 \n",
        "- axis=0은 index 방향으로 연산, axis=1은 column 방향으로 연산한 값을 배열로 반환함\n",
        "- ndarray에서 동일 동작을 하는 동일 이름의 메서드 있음 (arr.mean())\n"
      ]
    },
    {
      "cell_type": "code",
      "metadata": {
        "id": "Ey91LwR3nyUC"
      },
      "source": [
        "def printary(*a):\n",
        "    for x in a:\n",
        "        print(x)\n",
        "    print(\"-\" * 30)"
      ],
      "execution_count": null,
      "outputs": []
    },
    {
      "cell_type": "code",
      "metadata": {
        "id": "r7crpADdnz0V",
        "colab": {
          "base_uri": "https://localhost:8080/"
        },
        "outputId": "5257a726-b913-4d2f-d8e5-e673ed33299e"
      },
      "source": [
        "# [67-1] np.sum(a, axis=None)\n",
        "# 배열내 모든 원소의 합을 스칼라 값으로 반환\n",
        "a = np.arange(1,7).reshape((2,3))    \n",
        "b = a.sum()\n",
        "c = a.sum(axis = 0)\n",
        "d = a.sum(axis = 1)\n",
        "printary(a, b, c, d)"
      ],
      "execution_count": null,
      "outputs": [
        {
          "output_type": "stream",
          "name": "stdout",
          "text": [
            "[[1 2 3]\n",
            " [4 5 6]]\n",
            "21\n",
            "[5 7 9]\n",
            "[ 6 15]\n",
            "------------------------------\n"
          ]
        }
      ]
    },
    {
      "cell_type": "code",
      "metadata": {
        "id": "tjZOEVTzn6vL",
        "colab": {
          "base_uri": "https://localhost:8080/"
        },
        "outputId": "1f6b1703-0cf3-4e3a-d121-3b2f83152ca4"
      },
      "source": [
        "# [67-2] np.mean(a, axis=None)\n",
        "# 배열내 모든 원소의 평균을 스칼라 값을 반환\n",
        "# median - 중앙값\n",
        "a = np.arange(1,7).reshape((2,3))       \n",
        "b = a.mean()\n",
        "c = a.mean(axis = 0)\n",
        "d = a.mean(axis = 1)\n",
        "printary(a, b, c, d)"
      ],
      "execution_count": null,
      "outputs": [
        {
          "output_type": "stream",
          "name": "stdout",
          "text": [
            "[[1 2 3]\n",
            " [4 5 6]]\n",
            "3.5\n",
            "[2.5 3.5 4.5]\n",
            "[2. 5.]\n",
            "------------------------------\n"
          ]
        }
      ]
    },
    {
      "cell_type": "code",
      "metadata": {
        "id": "WcdXXjNyn9bC",
        "colab": {
          "base_uri": "https://localhost:8080/"
        },
        "outputId": "cdca4ea0-85ed-476c-efd7-5b14cc922d56"
      },
      "source": [
        "# [67-3] np.std(a, axis=None)\n",
        "# 배열내 모든 원소의 표준편차 값을 반환 \n",
        "# var()가 분산, std()는 표준편차입니다\n",
        "a = np.arange(1,7).reshape((2,3))       \n",
        "b = a.std()\n",
        "c = a.std(axis = 0)\n",
        "d = a.std(axis = 1)\n",
        "printary(a, b, c, d)"
      ],
      "execution_count": null,
      "outputs": [
        {
          "output_type": "stream",
          "name": "stdout",
          "text": [
            "[[1 2 3]\n",
            " [4 5 6]]\n",
            "1.707825127659933\n",
            "[1.5 1.5 1.5]\n",
            "[0.81649658 0.81649658]\n",
            "------------------------------\n"
          ]
        }
      ]
    },
    {
      "cell_type": "code",
      "metadata": {
        "id": "xjMd_bR0n_KM",
        "colab": {
          "base_uri": "https://localhost:8080/",
          "height": 73
        },
        "outputId": "4fc043b5-efed-4c1c-f158-6a596d67507e"
      },
      "source": [
        "# [67-4] np.any, np.all\n",
        "# np.any(a, axis=None)\n",
        "# 배열의 원소들 중 참이 하나라도 있으면 True 반환\n",
        "# np.all(a, axis=None)\n",
        "# 배열의 모든 원소가 참인 경우 True 반환\n",
        "\n",
        "a = np.arange(6).reshape((2,3))  \n",
        "printary(a.any(), a.all())"
      ],
      "execution_count": null,
      "outputs": [
        {
          "output_type": "stream",
          "text": [
            "True\n",
            "False\n",
            "------------------------------\n"
          ],
          "name": "stdout"
        }
      ]
    },
    {
      "cell_type": "markdown",
      "metadata": {
        "id": "qlWiOHmboTMe"
      },
      "source": [
        "### 9.ndarray 파일입출력"
      ]
    },
    {
      "cell_type": "code",
      "metadata": {
        "id": "NXloRXtYoX5E",
        "colab": {
          "base_uri": "https://localhost:8080/"
        },
        "outputId": "452a8498-bf81-4130-94b9-7c5c7dd92549"
      },
      "source": [
        "# [68-1] 경로 확인, 출력함수\n",
        "import os\n",
        "print(os.getcwd())\n",
        "def printary(*a):\n",
        "    for x in a:\n",
        "        print(x)\n",
        "    print(\"-\" * 30)"
      ],
      "execution_count": null,
      "outputs": [
        {
          "output_type": "stream",
          "name": "stdout",
          "text": [
            "/content\n"
          ]
        }
      ]
    },
    {
      "cell_type": "code",
      "metadata": {
        "id": "_EA_itRFobHr",
        "colab": {
          "base_uri": "https://localhost:8080/"
        },
        "outputId": "a4123d3c-27d1-4be6-cb6c-2c9b657f8837"
      },
      "source": [
        "# [68-2] ndarray 1개 생성 및 저장, 불러오기\n",
        "a1 = np.arange(20000)\n",
        "a2 = np.random.randint(1, 10000, size=(5, 1000))\n",
        "a3 = np.ones((1, 2, 1000), dtype=np.int32)\n",
        "path=\".\\\\\"\n",
        "\n",
        "np.save(path+\"a1.npy\", a1)\n",
        "r = np.load(path+\"a1.npy\")\n",
        "printary(r)"
      ],
      "execution_count": null,
      "outputs": [
        {
          "output_type": "stream",
          "name": "stdout",
          "text": [
            "[    0     1     2 ... 19997 19998 19999]\n",
            "------------------------------\n"
          ]
        }
      ]
    },
    {
      "cell_type": "code",
      "metadata": {
        "id": "6VZfgc2Xomsr",
        "colab": {
          "base_uri": "https://localhost:8080/"
        },
        "outputId": "aedeb4cc-1c0d-4fab-f83b-e39d30a9a447"
      },
      "source": [
        "# [68-3] ndarray 여러 개 동시 저장, 불러오기\n",
        "np.savez(path+\"an.npz\", A1=a1, A2=a2, A3=a3)\n",
        "r = np.load(path+\"an.npz\")\n",
        "printary(r['A1'], r['A2'], r['A3'])"
      ],
      "execution_count": null,
      "outputs": [
        {
          "output_type": "stream",
          "name": "stdout",
          "text": [
            "[    0     1     2 ... 19997 19998 19999]\n",
            "[[3931 5164 6952 ... 9346 3560 4375]\n",
            " [9218 2965 7765 ...  801  697 7133]\n",
            " [3877  327   35 ... 5306 4152 3339]\n",
            " [2145 9413 8594 ... 2660 2716  805]\n",
            " [1106 4996 6335 ...  412  483  569]]\n",
            "[[[1 1 1 ... 1 1 1]\n",
            "  [1 1 1 ... 1 1 1]]]\n",
            "------------------------------\n"
          ]
        }
      ]
    },
    {
      "cell_type": "code",
      "metadata": {
        "id": "2l2Nxv5vorUk",
        "colab": {
          "base_uri": "https://localhost:8080/"
        },
        "outputId": "d12fcb3d-3eed-4e09-e1df-03ce20dc8649"
      },
      "source": [
        "# [68-4] ndarray 여러 개 동시 저장, 불러오기 (압축)\n",
        "np.savez_compressed(path+\"c_an.npz\", A1=a1, A2=a2, A3=a3)\n",
        "r = np.load(path+\"c_an.npz\")\n",
        "printary(r['A1'], r['A2'], r['A3'])"
      ],
      "execution_count": null,
      "outputs": [
        {
          "output_type": "stream",
          "name": "stdout",
          "text": [
            "[    0     1     2 ... 19997 19998 19999]\n",
            "[[3931 5164 6952 ... 9346 3560 4375]\n",
            " [9218 2965 7765 ...  801  697 7133]\n",
            " [3877  327   35 ... 5306 4152 3339]\n",
            " [2145 9413 8594 ... 2660 2716  805]\n",
            " [1106 4996 6335 ...  412  483  569]]\n",
            "[[[1 1 1 ... 1 1 1]\n",
            "  [1 1 1 ... 1 1 1]]]\n",
            "------------------------------\n"
          ]
        }
      ]
    },
    {
      "cell_type": "code",
      "metadata": {
        "id": "wkD73reEo5Ez",
        "colab": {
          "base_uri": "https://localhost:8080/"
        },
        "outputId": "9620b53b-e339-406d-a513-4fa2cd410519"
      },
      "source": [
        "# [68-5] ndarray 를 text로 저장\n",
        "np.savetxt(path+\"a1.txt\", a1, fmt='%d')\n",
        "r = np.loadtxt(path+\"a1.txt\", dtype=np.int32)\n",
        "printary(r)"
      ],
      "execution_count": null,
      "outputs": [
        {
          "output_type": "stream",
          "name": "stdout",
          "text": [
            "[    0     1     2 ... 19997 19998 19999]\n",
            "------------------------------\n"
          ]
        }
      ]
    },
    {
      "cell_type": "markdown",
      "metadata": {
        "id": "hyN3fdoDpYjO"
      },
      "source": [
        "### 10.ndarray의 nan, inf처리"
      ]
    },
    {
      "cell_type": "code",
      "metadata": {
        "id": "m_XLrrz_pfhS",
        "colab": {
          "base_uri": "https://localhost:8080/",
          "height": 73
        },
        "outputId": "b800d0b8-2868-4ac0-cd68-4ed7b83dfe46"
      },
      "source": [
        "# [69-1] nan, inf의 type 확인\n",
        "print(np.__version__)\n",
        "print(np.nan, type(np.nan))\n",
        "print(np.inf, type(np.inf))"
      ],
      "execution_count": null,
      "outputs": [
        {
          "output_type": "stream",
          "text": [
            "1.18.5\n",
            "nan <class 'float'>\n",
            "inf <class 'float'>\n"
          ],
          "name": "stdout"
        }
      ]
    },
    {
      "cell_type": "code",
      "metadata": {
        "id": "G2xhtDfxpkVj",
        "colab": {
          "base_uri": "https://localhost:8080/",
          "height": 55
        },
        "outputId": "9928917e-64b1-452d-9c86-789de53baef8"
      },
      "source": [
        "# [69-2] nan, inf의 확인\n",
        "a = np.array([np.nan, 1, 0, -1, np.inf], dtype=np.float16)\n",
        "print(np.isnan(np.nan), np.isnan(a))\n",
        "print(np.isinf(np.inf), np.isinf(a))"
      ],
      "execution_count": null,
      "outputs": [
        {
          "output_type": "stream",
          "text": [
            "True [ True False False False False]\n",
            "True [False False False False  True]\n"
          ],
          "name": "stdout"
        }
      ]
    },
    {
      "cell_type": "code",
      "metadata": {
        "id": "yr3IZQT8pnFL"
      },
      "source": [
        "def printary(*a):\n",
        "    for x in a:\n",
        "        print(x)\n",
        "    print('-'*30)"
      ],
      "execution_count": null,
      "outputs": []
    },
    {
      "cell_type": "code",
      "metadata": {
        "id": "6AxoxUQ4pqjD",
        "colab": {
          "base_uri": "https://localhost:8080/",
          "height": 279
        },
        "outputId": "806725fc-d9b4-438d-9e93-4a2f4d7d2d74"
      },
      "source": [
        "# [69-3] np.nan, np.inf의 연산\n",
        "a = np.array([1, np.nan, np.nan, 2, np.inf], dtype=np.float16)\n",
        "b = np.array([1, np.inf, 1, 1, np.nan], dtype=np.float16)\n",
        "printary(a, b, a+b, a+2)\n",
        "printary(a, a.sum(), a.cumsum(), a.all())\n",
        "printary(np.sqrt(a), np.unique(a), np.unique(b))"
      ],
      "execution_count": null,
      "outputs": [
        {
          "output_type": "stream",
          "text": [
            "[ 1. nan nan  2. inf]\n",
            "[ 1. inf  1.  1. nan]\n",
            "[ 2. nan nan  3. nan]\n",
            "[ 3. nan nan  4. inf]\n",
            "------------------------------\n",
            "[ 1. nan nan  2. inf]\n",
            "nan\n",
            "[ 1. nan nan nan nan]\n",
            "True\n",
            "------------------------------\n",
            "[1.      nan   nan 1.414   inf]\n",
            "[ 1.  2. inf nan nan]\n",
            "[ 1. inf nan]\n",
            "------------------------------\n"
          ],
          "name": "stdout"
        }
      ]
    }
  ]
}