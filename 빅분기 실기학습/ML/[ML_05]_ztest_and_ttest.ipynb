{
 "cells": [
  {
   "cell_type": "markdown",
   "id": "211866db-4e22-4fc4-beb6-0106ec4b54b6",
   "metadata": {},
   "source": [
    "# Z-Test"
   ]
  },
  {
   "cell_type": "markdown",
   "id": "dbacea1a-6657-4bf7-9b36-e269f010f9dc",
   "metadata": {},
   "source": [
    "`statsmodels.stats.weightstats.ztest(x1, x2=None, value=0)`\n",
    "- x1: values for the first sample\n",
    "- x2: values for the second sample (if performing a two sample z-test)\n",
    "- value: mean under the null (in one sample case) or mean difference (in two sample case)"
   ]
  },
  {
   "cell_type": "markdown",
   "id": "5c962ee1-d3f8-4896-868c-c73fcb8d579f",
   "metadata": {},
   "source": [
    "## One Sample Z-Test"
   ]
  },
  {
   "cell_type": "markdown",
   "id": "99752078-2294-4802-9aa1-9a849dbb7c48",
   "metadata": {},
   "source": [
    "- Suppose the IQ in a certain population is normally distributed with a mean of μ = 100 and standard deviation of σ = 15.\n",
    "- A researcher wants to know if a new drug affects IQ levels, so he recruits 20 patients to try it and records their IQ levels.\n",
    "- The following code shows how to perform a one sample z-test in Python to determine if the new drug causes a significant difference in IQ levels:"
   ]
  },
  {
   "cell_type": "code",
   "execution_count": 2,
   "id": "97782598-53e5-42e1-82c6-4a93ad8ba79c",
   "metadata": {
    "tags": []
   },
   "outputs": [],
   "source": [
    "from statsmodels.stats.weightstats import ztest"
   ]
  },
  {
   "cell_type": "code",
   "execution_count": 3,
   "id": "b25b67c8-aa02-42b8-893c-20cfc86de905",
   "metadata": {
    "tags": []
   },
   "outputs": [],
   "source": [
    "data = [88, 92, 94, 94, 96, 97, 97, 97, 99, 99, 105, 109, 109, 109, 110, 112, 112, 113, 114, 115]"
   ]
  },
  {
   "cell_type": "code",
   "execution_count": 4,
   "id": "11be82af-8554-45ee-99dc-4a7624f39065",
   "metadata": {
    "tags": []
   },
   "outputs": [
    {
     "data": {
      "text/plain": [
       "(1.5976240527147705, 0.11012667014384257)"
      ]
     },
     "execution_count": 4,
     "metadata": {},
     "output_type": "execute_result"
    }
   ],
   "source": [
    "ztest(data, value=100)"
   ]
  },
  {
   "cell_type": "markdown",
   "id": "b3ae9dd5-2981-4b28-99eb-16cdcf7ae38b",
   "metadata": {},
   "source": [
    "- The test statistic for the one sample <b> z-test is 1.5976 and the corresponding p-value is 0.1101 </b>.\n",
    "- Since this p-value is not less than .05, we do not have sufficient evidence to reject the null hypothesis. \n",
    "- In other words, the new drug does not significantly affect IQ level."
   ]
  },
  {
   "cell_type": "markdown",
   "id": "e7f3ccf4-d4be-4565-a6f0-dc89a4a5d165",
   "metadata": {},
   "source": [
    "## Two Sample Z-Test"
   ]
  },
  {
   "cell_type": "markdown",
   "id": "e0745a59-bed6-4a8e-8112-ee4b84ace1cb",
   "metadata": {},
   "source": [
    "- Suppose the IQ levels among individuals in two different cities are known to be normally distributed with known standard deviations.\n",
    "- A researcher wants to know if the mean IQ level between individuals in city A and city B are different, so she selects a simple random sample of  20 individuals from each city and records their IQ levels.\n",
    "- The following code shows how to perform a two sample z-test in Python to determine if the mean IQ level is different between the two cities:"
   ]
  },
  {
   "cell_type": "code",
   "execution_count": 8,
   "id": "0f9944a0-00e5-4dad-be8b-adf355ce97b4",
   "metadata": {
    "tags": []
   },
   "outputs": [
    {
     "data": {
      "text/plain": [
       "(-1.9953236073282115, 0.046007596761332065)"
      ]
     },
     "execution_count": 8,
     "metadata": {},
     "output_type": "execute_result"
    }
   ],
   "source": [
    "from statsmodels.stats.weightstats import ztest\n",
    "\n",
    "cityA = [82, 84, 85, 89, 91, 91, 92, 94, 99, 99, 105, 109, 109, 109, 110, 112, 112, 113, 114, 114]\n",
    "cityB = [90, 91, 91, 91, 95, 95, 99, 99, 108, 109,109, 114, 115, 116, 117, 117, 128, 129, 130, 133]\n",
    "\n",
    "ztest(cityA, cityB, value=0)"
   ]
  },
  {
   "cell_type": "markdown",
   "id": "0ecfd8c2-b832-4f10-a21c-ff8076a6fbf4",
   "metadata": {},
   "source": [
    "- The test statistic for the two sample <b> z-test is -1.9953 and the corresponding p-value is 0.0460 </b>.\n",
    "- Since this p-value is less than .05, we have sufficient evidence to reject the null hypothesis. \n",
    "- In other words, the mean IQ level is significantly different between the two cities."
   ]
  },
  {
   "cell_type": "markdown",
   "id": "355dc57e-8524-4ec3-8180-f7b0a84b6caf",
   "metadata": {},
   "source": [
    "# T-Test"
   ]
  },
  {
   "cell_type": "markdown",
   "id": "e2bb3128-2a69-4297-90f9-1376d0681598",
   "metadata": {},
   "source": [
    "## One Sample T-Test"
   ]
  },
  {
   "cell_type": "markdown",
   "id": "c8ad685d-1734-4ab6-83d5-039c9d325ff6",
   "metadata": {},
   "source": [
    "- Suppose a botanist wants to know if the mean height of a certain species of plant is equal to 15 inches. \n",
    "- She collects a random sample of 12 plants and records each of their heights in inches.\n",
    "- Use the following steps to conduct a one sample t-test to determine if the mean height for this species of plant is actually equal to 15 inches."
   ]
  },
  {
   "cell_type": "code",
   "execution_count": 11,
   "id": "c8971fe4-5eec-404c-8125-4f953165f050",
   "metadata": {
    "tags": []
   },
   "outputs": [
    {
     "data": {
      "text/plain": [
       "TtestResult(statistic=-1.6848470783484626, pvalue=0.12014460742498101, df=11)"
      ]
     },
     "execution_count": 11,
     "metadata": {},
     "output_type": "execute_result"
    }
   ],
   "source": [
    "import scipy.stats as stats\n",
    "\n",
    "data = [14, 14, 16, 13, 12, 17, 15, 14, 15, 13, 15, 14]\n",
    "\n",
    "stats.ttest_1samp(a=data, popmean=15)"
   ]
  },
  {
   "cell_type": "markdown",
   "id": "48f3317f-317f-4f50-a12a-eac7e8990113",
   "metadata": {},
   "source": [
    "- The <b> t test statistic is -1.6848 and the corresponding two-sided p-value is 0.1201 </b>.\n",
    "- The two hypotheses for this particular one sample t-test are as follows:\n",
    "    - H0: µ = 15 (the mean height for this species of plant is 15 inches)\n",
    "    - HA: µ ≠15 (the mean height is not 15 inches)\n",
    "- Because the p-value of our test (0.1201) is greater than alpha = 0.05, we fail to reject the null hypothesis of the test. \n",
    "- We do not have sufficient evidence to say that the mean height for this particular species of plant is different from 15 inches."
   ]
  },
  {
   "cell_type": "markdown",
   "id": "c91313aa-48c5-44d8-9e93-eaa40ac67b64",
   "metadata": {},
   "source": [
    "## Two Sample T-Test"
   ]
  },
  {
   "cell_type": "markdown",
   "id": "efd898d8-6fb6-4c19-aaa2-35e823186b71",
   "metadata": {},
   "source": [
    "`ttest_ind(a, b, equal_var=True)`\n",
    "- a: an array of sample observations for group 1\n",
    "- b: an array of sample observations for group 2\n",
    "- equal_var: if True, perform a standard independent 2 sample t-test that assumes equal population variances. \n",
    "- If False, perform Welch’s t-test, which does not assume equal population variances. This is True by default."
   ]
  },
  {
   "cell_type": "markdown",
   "id": "472bf1ab-7d3d-4890-b2f7-361b0e4e9010",
   "metadata": {},
   "source": [
    "- Researchers want to know whether or not two different species of plants have the same mean height. \n",
    "- To test this, they collect a simple random sample of 20 plants from each species.\n",
    "- Use the following steps to conduct a two sample t-test to determine if the two species of plants have the same height.\n",
    "- Before we perform the test, we need to decide if we’ll assume the two populations have equal variances or not. \n",
    "- As a rule of thumb, we can assume the populations have equal variances if the ratio of the larger sample variance to the smaller sample variance is less than 4:1. \n",
    "- The ratio of the larger sample variance to the smaller sample variance is 12.26 / 7.73 = 1.586, which is less than 4. \n",
    "- This means we can assume that the population variances are equal."
   ]
  },
  {
   "cell_type": "code",
   "execution_count": 14,
   "id": "c19b72a6-cbab-4e89-956a-1f0f8a0003fa",
   "metadata": {
    "tags": []
   },
   "outputs": [
    {
     "name": "stdout",
     "output_type": "stream",
     "text": [
      "7.727500000000001 12.260000000000002\n"
     ]
    },
    {
     "data": {
      "text/plain": [
       "Ttest_indResult(statistic=-0.6337397070250238, pvalue=0.5300471010405257)"
      ]
     },
     "execution_count": 14,
     "metadata": {},
     "output_type": "execute_result"
    }
   ],
   "source": [
    "import numpy as np\n",
    "import scipy.stats as stats\n",
    "\n",
    "group1 = np.array([14, 15, 15, 16, 13, 8, 14, 17, 16, 14, 19, 20, 21, 15, 15, 16, 16, 13, 14, 12])\n",
    "group2 = np.array([15, 17, 14, 17, 14, 8, 12, 19, 19, 14, 17, 22, 24, 16, 13, 16, 13, 18, 15, 13])\n",
    "\n",
    "print(np.var(group1), np.var(group2))\n",
    "\n",
    "stats.ttest_ind(a=group1, b=group2, equal_var=True)"
   ]
  },
  {
   "cell_type": "markdown",
   "id": "fe9c8afc-060e-4c22-84ea-08d646405223",
   "metadata": {},
   "source": [
    "- The <b> t test statistic is -0.6337 and the corresponding two-sided p-value is 0.53005 </b>.\n",
    "- The two hypotheses for this particular two sample t-test are as follows:\n",
    "    H0: µ1 = µ2 (the two population means are equal)\n",
    "    HA: µ1 ≠µ2 (the two population means are not equal)\n",
    "- Because the p-value of our test (0.53005) is greater than alpha = 0.05, we fail to reject the null hypothesis of the test. \n",
    "- We do not have sufficient evidence to say that the mean height of plants between the two populations is different."
   ]
  },
  {
   "cell_type": "markdown",
   "id": "da3120c4-92db-418a-81e3-e88360cb58af",
   "metadata": {},
   "source": [
    "## Paired T-Test"
   ]
  },
  {
   "cell_type": "markdown",
   "id": "7ed26d1e-0134-41cf-8926-b59d6aee4f60",
   "metadata": {},
   "source": [
    "- Suppose we want to know whether a certain study program significantly impacts student performance on a particular exam. \n",
    "- To test this, we have 15 students in a class take a pre-test. \n",
    "- Then, we have each of the students participate in the study program for two weeks. \n",
    "- Then, the students retake a test of similar difficulty.\n",
    "- To compare the difference between the mean scores on the first and second test, we use a paired samples t-test because for each student their first test score can be paired with their second test score.\n",
    "- Perform the following steps to conduct a paired samples t-test in Python."
   ]
  },
  {
   "cell_type": "code",
   "execution_count": 17,
   "id": "aa0def38-d778-44b6-a8af-b253b437ac06",
   "metadata": {
    "tags": []
   },
   "outputs": [
    {
     "data": {
      "text/plain": [
       "TtestResult(statistic=-2.9732484231168796, pvalue=0.01007144862643272, df=14)"
      ]
     },
     "execution_count": 17,
     "metadata": {},
     "output_type": "execute_result"
    }
   ],
   "source": [
    "import scipy.stats as stats\n",
    "\n",
    "pre = [88, 82, 84, 93, 75, 78, 84, 87, 95, 91, 83, 89, 77, 68, 91]\n",
    "post = [91, 84, 88, 90, 79, 80, 88, 90, 90, 96, 88, 89, 81, 74, 92]\n",
    "\n",
    "stats.ttest_rel(a=pre, b=post)"
   ]
  },
  {
   "cell_type": "markdown",
   "id": "8862ea9a-39a4-41fd-b615-4a67acb41deb",
   "metadata": {},
   "source": [
    "- The <b>test statistic is -2.9732 and the corresponding two-sided p-value is 0.0101 </b>.\n",
    "- In this example, the paired samples t-test uses the following null and alternative hypotheses:\n",
    "    - H0: The mean pre-test and post-test scores are equal\n",
    "    - HA:The mean pre-test and post-test scores are not equal"
   ]
  },
  {
   "cell_type": "code",
   "execution_count": null,
   "id": "eaf4ff8a-1e9c-403f-9a00-21b41c064535",
   "metadata": {},
   "outputs": [],
   "source": []
  }
 ],
 "metadata": {
  "kernelspec": {
   "display_name": "Python 3 (ipykernel)",
   "language": "python",
   "name": "python3"
  },
  "language_info": {
   "codemirror_mode": {
    "name": "ipython",
    "version": 3
   },
   "file_extension": ".py",
   "mimetype": "text/x-python",
   "name": "python",
   "nbconvert_exporter": "python",
   "pygments_lexer": "ipython3",
   "version": "3.11.3"
  }
 },
 "nbformat": 4,
 "nbformat_minor": 5
}
