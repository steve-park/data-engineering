{
 "cells": [
  {
   "cell_type": "markdown",
   "id": "90abea68-6f64-4acd-902a-f0940ffc9713",
   "metadata": {},
   "source": [
    "# Series.astype()"
   ]
  },
  {
   "cell_type": "code",
   "execution_count": 1,
   "id": "2d09532b-66cb-4d79-8200-b3f2d298105c",
   "metadata": {},
   "outputs": [],
   "source": [
    "import pandas as pd"
   ]
  },
  {
   "cell_type": "code",
   "execution_count": 3,
   "id": "4987acaa-3a0c-4686-8737-0b12d9b1ee74",
   "metadata": {},
   "outputs": [
    {
     "data": {
      "text/plain": [
       "col1    int64\n",
       "col2    int64\n",
       "dtype: object"
      ]
     },
     "execution_count": 3,
     "metadata": {},
     "output_type": "execute_result"
    }
   ],
   "source": [
    "d = { 'col1':[1,2], 'col2':[3,4] }\n",
    "df = pd.DataFrame(data=d)\n",
    "df.dtypes"
   ]
  },
  {
   "cell_type": "code",
   "execution_count": 4,
   "id": "45ddb773-0dd2-435f-99a0-a2dd691c37bc",
   "metadata": {},
   "outputs": [
    {
     "data": {
      "text/plain": [
       "col1    int32\n",
       "col2    int32\n",
       "dtype: object"
      ]
     },
     "execution_count": 4,
     "metadata": {},
     "output_type": "execute_result"
    }
   ],
   "source": [
    "df.astype('int32').dtypes"
   ]
  },
  {
   "cell_type": "code",
   "execution_count": 5,
   "id": "5795268a-9510-4824-96c2-e82cefddbc8e",
   "metadata": {},
   "outputs": [
    {
     "data": {
      "text/plain": [
       "col1    int32\n",
       "col2    int64\n",
       "dtype: object"
      ]
     },
     "execution_count": 5,
     "metadata": {},
     "output_type": "execute_result"
    }
   ],
   "source": [
    "df.astype({'col1': 'int32'}).dtypes"
   ]
  },
  {
   "cell_type": "code",
   "execution_count": 6,
   "id": "368944e0-4864-481a-9d19-f34c01e3b880",
   "metadata": {},
   "outputs": [
    {
     "data": {
      "text/plain": [
       "0    1\n",
       "1    2\n",
       "dtype: int32"
      ]
     },
     "execution_count": 6,
     "metadata": {},
     "output_type": "execute_result"
    }
   ],
   "source": [
    "ser = pd.Series([1,2], dtype='int32')\n",
    "ser"
   ]
  },
  {
   "cell_type": "code",
   "execution_count": 7,
   "id": "40ade14e-0ad3-4e44-928f-39f7348838f5",
   "metadata": {},
   "outputs": [
    {
     "data": {
      "text/plain": [
       "0    1\n",
       "1    2\n",
       "dtype: int64"
      ]
     },
     "execution_count": 7,
     "metadata": {},
     "output_type": "execute_result"
    }
   ],
   "source": [
    "ser.astype('int64')"
   ]
  },
  {
   "cell_type": "code",
   "execution_count": 8,
   "id": "eb586af3-8f9e-43d2-a716-bead4a5263a5",
   "metadata": {},
   "outputs": [
    {
     "data": {
      "text/plain": [
       "0    1\n",
       "1    2\n",
       "dtype: category\n",
       "Categories (2, int64): [1, 2]"
      ]
     },
     "execution_count": 8,
     "metadata": {},
     "output_type": "execute_result"
    }
   ],
   "source": [
    "ser.astype('category')"
   ]
  },
  {
   "cell_type": "code",
   "execution_count": 11,
   "id": "d5746ba1-c88b-446a-97eb-67dcc5f1e018",
   "metadata": {},
   "outputs": [
    {
     "data": {
      "text/plain": [
       "0    1\n",
       "1    2\n",
       "dtype: category\n",
       "Categories (2, int64): [2 < 1]"
      ]
     },
     "execution_count": 11,
     "metadata": {},
     "output_type": "execute_result"
    }
   ],
   "source": [
    "from pandas.api.types import CategoricalDtype\n",
    "\n",
    "cat_dtype = CategoricalDtype(categories=[2,1], ordered=True)\n",
    "ser.astype(cat_dtype)"
   ]
  },
  {
   "cell_type": "code",
   "execution_count": 12,
   "id": "4fd233c2-202b-4787-8819-b8432d90f169",
   "metadata": {},
   "outputs": [
    {
     "data": {
      "text/plain": [
       "0    10\n",
       "1     2\n",
       "dtype: int64"
      ]
     },
     "execution_count": 12,
     "metadata": {},
     "output_type": "execute_result"
    }
   ],
   "source": [
    "s1 = pd.Series([1,2])\n",
    "s2 = s1.astype('int64', copy=False)\n",
    "s2[0] = 10\n",
    "s1"
   ]
  },
  {
   "cell_type": "code",
   "execution_count": 13,
   "id": "77ac2f01-42d4-4c23-8ba3-4b0af6ae78a3",
   "metadata": {},
   "outputs": [
    {
     "data": {
      "text/plain": [
       "0   2020-01-01\n",
       "1   2020-01-02\n",
       "2   2020-01-03\n",
       "dtype: datetime64[ns]"
      ]
     },
     "execution_count": 13,
     "metadata": {},
     "output_type": "execute_result"
    }
   ],
   "source": [
    "ser_date = pd.Series(pd.date_range('20200101', periods=3))\n",
    "ser_date"
   ]
  },
  {
   "cell_type": "markdown",
   "id": "49a5688a-1dbc-461f-9b4f-e06a5a5f7869",
   "metadata": {},
   "source": [
    "# DataFrame.astype()"
   ]
  },
  {
   "cell_type": "code",
   "execution_count": 15,
   "id": "0f12234e-bd41-4513-9533-ceba7b87decd",
   "metadata": {},
   "outputs": [
    {
     "data": {
      "text/plain": [
       "col1    int64\n",
       "col2    int64\n",
       "dtype: object"
      ]
     },
     "execution_count": 15,
     "metadata": {},
     "output_type": "execute_result"
    }
   ],
   "source": [
    "d = {'col1': [1,2], 'col2': [3,4]}\n",
    "df = pd.DataFrame(data=d)\n",
    "df.dtypes"
   ]
  },
  {
   "cell_type": "code",
   "execution_count": 18,
   "id": "7cd59d15-c708-4fdb-b837-d111643cd8eb",
   "metadata": {},
   "outputs": [
    {
     "data": {
      "text/plain": [
       "col1    int32\n",
       "col2    int32\n",
       "dtype: object"
      ]
     },
     "execution_count": 18,
     "metadata": {},
     "output_type": "execute_result"
    }
   ],
   "source": [
    "df.astype('int32').dtypes"
   ]
  },
  {
   "cell_type": "code",
   "execution_count": 19,
   "id": "c2ce09e5-9d6d-4ac3-ae90-29b6865878b2",
   "metadata": {},
   "outputs": [
    {
     "data": {
      "text/plain": [
       "col1    int32\n",
       "col2    int64\n",
       "dtype: object"
      ]
     },
     "execution_count": 19,
     "metadata": {},
     "output_type": "execute_result"
    }
   ],
   "source": [
    "df.astype({'col1': 'int32'}).dtypes"
   ]
  },
  {
   "cell_type": "markdown",
   "id": "34a78cd1-74c3-4d44-843e-9e4d3621dd36",
   "metadata": {},
   "source": [
    "# pandas.to_datetime()"
   ]
  },
  {
   "cell_type": "markdown",
   "id": "c3989be5-be61-4bb0-b105-c5988817fa72",
   "metadata": {},
   "source": [
    "### handling various input formats"
   ]
  },
  {
   "cell_type": "code",
   "execution_count": 54,
   "id": "df1a98e6-712f-4afe-aa97-e7165cb912fd",
   "metadata": {},
   "outputs": [
    {
     "name": "stdout",
     "output_type": "stream",
     "text": [
      "year     int64\n",
      "month    int64\n",
      "day      int64\n",
      "dtype: object\n",
      "\n",
      "   year  month  day\n",
      "0  2015      2    4\n",
      "1  2016      3    5\n"
     ]
    }
   ],
   "source": [
    "df = pd.DataFrame({'year': [2015, 2016],\n",
    "                   'month': [2,3], \n",
    "                   'day': [4,5]})\n",
    "print(df.dtypes, end=\"\\n\\n\")\n",
    "print(df)"
   ]
  },
  {
   "cell_type": "code",
   "execution_count": 55,
   "id": "6ea5e465-b1b7-4418-8fe1-7fdf5ce21688",
   "metadata": {},
   "outputs": [
    {
     "data": {
      "text/plain": [
       "0   2015-02-04\n",
       "1   2016-03-05\n",
       "dtype: datetime64[ns]"
      ]
     },
     "execution_count": 55,
     "metadata": {},
     "output_type": "execute_result"
    }
   ],
   "source": [
    "pd.to_datetime(df)"
   ]
  },
  {
   "cell_type": "code",
   "execution_count": 56,
   "id": "459f3abb-2565-4b01-8f6f-a6585cd4e841",
   "metadata": {},
   "outputs": [
    {
     "data": {
      "text/plain": [
       "0    3/11/2000\n",
       "1    3/13/2000\n",
       "2    3/13/2000\n",
       "3    3/11/2000\n",
       "4    3/13/2000\n",
       "dtype: object"
      ]
     },
     "execution_count": 56,
     "metadata": {},
     "output_type": "execute_result"
    }
   ],
   "source": [
    "s = pd.Series(['3/11/2000', '3/13/2000', '3/13/2000'] * 1000)\n",
    "s.head()"
   ]
  },
  {
   "cell_type": "code",
   "execution_count": 57,
   "id": "099865f4-6217-4b8a-a7bf-1612e987f700",
   "metadata": {},
   "outputs": [
    {
     "name": "stdout",
     "output_type": "stream",
     "text": [
      "705 µs ± 4.54 µs per loop (mean ± std. dev. of 7 runs, 1,000 loops each)\n"
     ]
    }
   ],
   "source": [
    "%timeit pd.to_datetime(s, infer_datetime_format=True)"
   ]
  },
  {
   "cell_type": "code",
   "execution_count": 58,
   "id": "a004e9f4-a142-4393-a86b-6eb33c8b5c5c",
   "metadata": {},
   "outputs": [
    {
     "name": "stdout",
     "output_type": "stream",
     "text": [
      "546 µs ± 4.24 µs per loop (mean ± std. dev. of 7 runs, 1,000 loops each)\n"
     ]
    }
   ],
   "source": [
    "%timeit pd.to_datetime(s, infer_datetime_format=False)"
   ]
  },
  {
   "cell_type": "markdown",
   "id": "f0a9cd21-ea64-4731-a7e5-faaabf85e45a",
   "metadata": {},
   "source": [
    "### Unix Epoch Time"
   ]
  },
  {
   "cell_type": "code",
   "execution_count": 59,
   "id": "54dcc7e6-b571-43e5-81fd-4f3ada0479eb",
   "metadata": {},
   "outputs": [
    {
     "data": {
      "text/plain": [
       "Timestamp('2017-03-22 15:16:45')"
      ]
     },
     "execution_count": 59,
     "metadata": {},
     "output_type": "execute_result"
    }
   ],
   "source": [
    "pd.to_datetime(1490195805, unit='s')"
   ]
  },
  {
   "cell_type": "code",
   "execution_count": 60,
   "id": "8206298c-b3d9-42f4-a7e6-82d2cfe60588",
   "metadata": {},
   "outputs": [
    {
     "data": {
      "text/plain": [
       "Timestamp('2017-03-22 15:16:45.433502912')"
      ]
     },
     "execution_count": 60,
     "metadata": {},
     "output_type": "execute_result"
    }
   ],
   "source": [
    "pd.to_datetime(1490195805433502912, unit='ns')"
   ]
  },
  {
   "cell_type": "markdown",
   "id": "100b1566-f8c2-4553-bbd2-ac5890556d18",
   "metadata": {},
   "source": [
    "### Non-Unix Epoch Time"
   ]
  },
  {
   "cell_type": "code",
   "execution_count": 61,
   "id": "2369ff1f-44e2-4fd0-8009-69e1547e1309",
   "metadata": {},
   "outputs": [
    {
     "data": {
      "text/plain": [
       "DatetimeIndex(['1960-01-02', '1960-01-03', '1960-01-04'], dtype='datetime64[ns]', freq=None)"
      ]
     },
     "execution_count": 61,
     "metadata": {},
     "output_type": "execute_result"
    }
   ],
   "source": [
    "pd.to_datetime([1,2,3], unit='D', origin=pd.Timestamp('1960-01-01'))"
   ]
  },
  {
   "cell_type": "markdown",
   "id": "b94c143b-6762-4792-93f0-7128a5b89ebd",
   "metadata": {},
   "source": [
    "### Non-Covertible Date/Times"
   ]
  },
  {
   "cell_type": "code",
   "execution_count": 62,
   "id": "96079a97-aa49-461c-b014-f2cea6952be3",
   "metadata": {},
   "outputs": [
    {
     "data": {
      "text/plain": [
       "datetime.datetime(1300, 1, 1, 0, 0)"
      ]
     },
     "execution_count": 62,
     "metadata": {},
     "output_type": "execute_result"
    }
   ],
   "source": [
    "pd.to_datetime('13000101', format='%Y%m%d', errors='ignore')"
   ]
  },
  {
   "cell_type": "code",
   "execution_count": 63,
   "id": "cb615d11-00db-4f14-853f-2d21c558498f",
   "metadata": {},
   "outputs": [
    {
     "data": {
      "text/plain": [
       "NaT"
      ]
     },
     "execution_count": 63,
     "metadata": {},
     "output_type": "execute_result"
    }
   ],
   "source": [
    "pd.to_datetime('13000101', format='%Y%m%d', errors='coerce')"
   ]
  },
  {
   "cell_type": "markdown",
   "id": "1f80c1fa-1751-4e32-b9ab-ce38235e127b",
   "metadata": {},
   "source": [
    "### Timezones and Time offsets"
   ]
  },
  {
   "cell_type": "code",
   "execution_count": 64,
   "id": "9e3242bf-14bd-4051-9ecd-50320e7ea567",
   "metadata": {},
   "outputs": [
    {
     "data": {
      "text/plain": [
       "DatetimeIndex(['2018-10-26 12:00:00', '2018-10-26 13:00:15'], dtype='datetime64[ns]', freq=None)"
      ]
     },
     "execution_count": 64,
     "metadata": {},
     "output_type": "execute_result"
    }
   ],
   "source": [
    "pd.to_datetime(['2018-10-26 12:00', '2018-10-26 13:00:15'])"
   ]
  },
  {
   "cell_type": "code",
   "execution_count": 65,
   "id": "e70f1bc2-fe67-4253-a15c-733042590d88",
   "metadata": {},
   "outputs": [
    {
     "data": {
      "text/plain": [
       "DatetimeIndex(['2018-10-26 12:00:00-05:00', '2018-10-26 13:00:15-05:00'], dtype='datetime64[ns, pytz.FixedOffset(-300)]', freq=None)"
      ]
     },
     "execution_count": 65,
     "metadata": {},
     "output_type": "execute_result"
    }
   ],
   "source": [
    "pd.to_datetime(['2018-10-26 12:00 -0500', '2018-10-26 13:00:15 -0500'])"
   ]
  },
  {
   "cell_type": "code",
   "execution_count": 67,
   "id": "c8bc9e8b-a4e4-4cff-923e-77a1248317a3",
   "metadata": {},
   "outputs": [
    {
     "data": {
      "text/plain": [
       "Index([2020-10-25 02:00:00+02:00, 2020-10-25 04:00:00+01:00], dtype='object')"
      ]
     },
     "execution_count": 67,
     "metadata": {},
     "output_type": "execute_result"
    }
   ],
   "source": [
    "pd.to_datetime(['2020-10-25 02:00 +0200', '2020-10-25 04:00 +0100'])"
   ]
  },
  {
   "cell_type": "code",
   "execution_count": 68,
   "id": "ce7a9e7c-ba50-4e71-b066-b9af6966efdf",
   "metadata": {},
   "outputs": [
    {
     "data": {
      "text/plain": [
       "DatetimeIndex(['2020-01-01 01:00:00-01:00', '2020-01-01 02:00:00-01:00'], dtype='datetime64[ns, pytz.FixedOffset(-60)]', freq=None)"
      ]
     },
     "execution_count": 68,
     "metadata": {},
     "output_type": "execute_result"
    }
   ],
   "source": [
    "from datetime import datetime\n",
    "\n",
    "pd.to_datetime([\"2020-01-01 01:00 -01:00\", datetime(2020, 1, 1, 3, 0)])"
   ]
  },
  {
   "cell_type": "code",
   "execution_count": 69,
   "id": "f9870310-fae7-4878-ad96-4f89878e33ac",
   "metadata": {},
   "outputs": [
    {
     "data": {
      "text/plain": [
       "DatetimeIndex(['2018-10-26 12:00:00+00:00', '2018-10-26 13:00:00+00:00'], dtype='datetime64[ns, UTC]', freq=None)"
      ]
     },
     "execution_count": 69,
     "metadata": {},
     "output_type": "execute_result"
    }
   ],
   "source": [
    "pd.to_datetime(['2018-10-26 12:00', '2018-10-26 13:00'], utc=True)"
   ]
  },
  {
   "cell_type": "code",
   "execution_count": 71,
   "id": "1403c6bd-c840-4b57-8acf-c1a0ada9da09",
   "metadata": {},
   "outputs": [
    {
     "data": {
      "text/plain": [
       "DatetimeIndex(['2018-10-26 17:30:00+00:00', '2018-10-26 17:00:00+00:00'], dtype='datetime64[ns, UTC]', freq=None)"
      ]
     },
     "execution_count": 71,
     "metadata": {},
     "output_type": "execute_result"
    }
   ],
   "source": [
    "pd.to_datetime(['2018-10-26 12:00 -0530', '2018-10-26 12:00 -0500'], utc=True)"
   ]
  },
  {
   "cell_type": "code",
   "execution_count": 73,
   "id": "ba66a982-1698-42d3-a52f-eb36a84b4e4b",
   "metadata": {},
   "outputs": [
    {
     "data": {
      "text/plain": [
       "DatetimeIndex(['2018-10-26 12:00:00+00:00', '2018-10-26 17:30:00+00:00',\n",
       "               '2020-01-01 18:00:00+00:00', '2020-01-01 19:00:00+00:00'],\n",
       "              dtype='datetime64[ns, UTC]', freq=None)"
      ]
     },
     "execution_count": 73,
     "metadata": {},
     "output_type": "execute_result"
    }
   ],
   "source": [
    "from datetime import datetime, timezone, timedelta\n",
    "\n",
    "pd.to_datetime(['2018-10-26 12:00', '2018-10-26 12:00 -0530',\n",
    "                datetime(2020, 1, 1, 18),\n",
    "                datetime(2020, 1, 1, 18, tzinfo=timezone(-timedelta(hours=1))),], \n",
    "               utc=True)"
   ]
  },
  {
   "cell_type": "code",
   "execution_count": null,
   "id": "80a7e784-a6dc-41aa-b5a7-e34d87101fde",
   "metadata": {},
   "outputs": [],
   "source": []
  }
 ],
 "metadata": {
  "kernelspec": {
   "display_name": "Python 3 (ipykernel)",
   "language": "python",
   "name": "python3"
  },
  "language_info": {
   "codemirror_mode": {
    "name": "ipython",
    "version": 3
   },
   "file_extension": ".py",
   "mimetype": "text/x-python",
   "name": "python",
   "nbconvert_exporter": "python",
   "pygments_lexer": "ipython3",
   "version": "3.9.13"
  }
 },
 "nbformat": 4,
 "nbformat_minor": 5
}
