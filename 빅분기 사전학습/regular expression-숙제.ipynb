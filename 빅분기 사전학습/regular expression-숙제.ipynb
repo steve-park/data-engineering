{
 "cells": [
  {
   "cell_type": "markdown",
   "id": "68c951ec-7c0f-430e-a98d-13224711d958",
   "metadata": {},
   "source": [
    "# 패턴 작성 연습 1"
   ]
  },
  {
   "cell_type": "code",
   "execution_count": 1,
   "id": "139ef96d-8088-4d80-82c8-e3ddf39f67cc",
   "metadata": {},
   "outputs": [],
   "source": [
    "import re\n",
    "\n",
    "def printMatch(pstr, data):\n",
    "    print(pstr)\n",
    "    for x in data:\n",
    "        mc = re.search(pstr, x)\n",
    "        maxLen = max(len(x) for x in data)\n",
    "        if mc:\n",
    "            print(f'{x:{maxLen}} : {mc.start()}~{mc.end()}에 {mc.group()} 존재')\n",
    "        else:\n",
    "            print(f'{x:{maxLen}} : 문자열에 {pstr} 패턴이 존재하지 않음')"
   ]
  },
  {
   "cell_type": "code",
   "execution_count": 2,
   "id": "6463332f-6392-4725-9046-63a88b5bb3cb",
   "metadata": {},
   "outputs": [
    {
     "name": "stdout",
     "output_type": "stream",
     "text": [
      "\\b\\d+-\\d+-\\d+\\b\n",
      "birthday:1990-12-12 : 9~19에 1990-12-12 존재\n",
      "birthday1990-12-12  : 문자열에 \\b\\d+-\\d+-\\d+\\b 패턴이 존재하지 않음\n",
      "93-6-30             : 0~7에 93-6-30 존재\n",
      "a-b-c               : 문자열에 \\b\\d+-\\d+-\\d+\\b 패턴이 존재하지 않음\n"
     ]
    }
   ],
   "source": [
    "data = ('birthday:1990-12-12','birthday1990-12-12','93-6-30','a-b-c')\n",
    "# 경계문자 + 숫자 1개 이상 + '-' + 숫자 1개 이상 + '-' + 숫자 1개 이상 + 경계문자\n",
    "printMatch(r'\\b\\d+-\\d+-\\d+\\b', data)"
   ]
  },
  {
   "cell_type": "code",
   "execution_count": 3,
   "id": "78d43fad-cb46-440c-a023-44ab11a141e1",
   "metadata": {},
   "outputs": [
    {
     "name": "stdout",
     "output_type": "stream",
     "text": [
      "\\b\\d{3}-\\d{3,4}-\\d{4}\\b\n",
      "A:123-123-1234 : 2~14에 123-123-1234 존재\n",
      "123-1234-1234  : 0~13에 123-1234-1234 존재\n",
      "C:12-34-5678   : 문자열에 \\b\\d{3}-\\d{3,4}-\\d{4}\\b 패턴이 존재하지 않음\n"
     ]
    }
   ],
   "source": [
    "data = ('A:123-123-1234','123-1234-1234','C:12-34-5678')\n",
    "# 경계문자 + 숫자 3개 + '-' + 숫자 3~4개 + '-' + 숫자 4개 + 경계문자\n",
    "printMatch(r'\\b\\d{3}-\\d{3,4}-\\d{4}\\b', data)"
   ]
  },
  {
   "cell_type": "code",
   "execution_count": 4,
   "id": "910a966e-2cfa-4c13-afec-4a0450e3731e",
   "metadata": {},
   "outputs": [
    {
     "name": "stdout",
     "output_type": "stream",
     "text": [
      "\\b01[0-26-9]-\\d{3,4}-\\d{4}\\b\n",
      "phone:010-123-1234 : 6~18에 010-123-1234 존재\n",
      "phone010-123-1234  : 문자열에 \\b01[0-26-9]-\\d{3,4}-\\d{4}\\b 패턴이 존재하지 않음\n",
      "018-1234-1234      : 0~13에 018-1234-1234 존재\n",
      "001-567-9876       : 문자열에 \\b01[0-26-9]-\\d{3,4}-\\d{4}\\b 패턴이 존재하지 않음\n"
     ]
    }
   ],
   "source": [
    "data = ('phone:010-123-1234','phone010-123-1234','018-1234-1234','001-567-9876')\n",
    "# 경계문자 + (010 011 012 016 017 018 019 중 1개) + '-' + 숫자 3~4개 + '-' + 숫자 4개 + 경계문자\n",
    "printMatch(r'\\b01[0-26-9]-\\d{3,4}-\\d{4}\\b', data)"
   ]
  },
  {
   "cell_type": "markdown",
   "id": "4f3324ae-3759-4aee-a784-1e14d7fd9f02",
   "metadata": {},
   "source": [
    "# 패턴 작성 연습 2"
   ]
  },
  {
   "cell_type": "code",
   "execution_count": 5,
   "id": "0326261a-60d9-4879-9f51-fdeceb8fed7f",
   "metadata": {},
   "outputs": [
    {
     "name": "stdout",
     "output_type": "stream",
     "text": [
      "(so){3,5}\n",
      "sososo     : 0~6에 sososo 존재\n",
      "sosososo   : 0~8에 sosososo 존재\n",
      "sososososo : 0~10에 sososososo 존재\n",
      "soso       : 문자열에 (so){3,5} 패턴이 존재하지 않음\n"
     ]
    }
   ],
   "source": [
    "# so를 3 ~ 5회 반복 - greedy (큰 횟수)\n",
    "data = ('sososo','sosososo','sososososo','soso')\n",
    "printMatch(r'(so){3,5}', data)"
   ]
  },
  {
   "cell_type": "code",
   "execution_count": 6,
   "id": "800f1ee8-1436-4d72-b1f2-601a4fe88f9a",
   "metadata": {},
   "outputs": [
    {
     "name": "stdout",
     "output_type": "stream",
     "text": [
      "(so){3,5}?\n",
      "sososo     : 0~6에 sososo 존재\n",
      "sosososo   : 0~6에 sososo 존재\n",
      "sososososo : 0~6에 sososo 존재\n",
      "soso       : 문자열에 (so){3,5}? 패턴이 존재하지 않음\n"
     ]
    }
   ],
   "source": [
    "# so를 3 ~ 5회 반복 - non-greedy (작은 횟수)\n",
    "data = ('sososo','sosososo','sososososo','soso')\n",
    "printMatch(r'(so){3,5}?', data)"
   ]
  },
  {
   "cell_type": "code",
   "execution_count": 7,
   "id": "762b7492-6c71-4a50-aa74-cc7ed6d64c22",
   "metadata": {},
   "outputs": [
    {
     "name": "stdout",
     "output_type": "stream",
     "text": [
      "(sa|so){3,4}\n",
      "sasasa     : 0~6에 sasasa 존재\n",
      "sososo     : 0~6에 sososo 존재\n",
      "sasosa     : 0~6에 sasosa 존재\n",
      "sososososo : 0~8에 sosososo 존재\n",
      "sasasasaso : 0~8에 sasasasa 존재\n",
      "soso       : 문자열에 (sa|so){3,4} 패턴이 존재하지 않음\n"
     ]
    }
   ],
   "source": [
    "# sa 또는 so 를 3 ~ 4회 반복\n",
    "data = ('sasasa','sososo','sasosa','sososososo','sasasasaso','soso')\n",
    "printMatch(r'(sa|so){3,4}', data)"
   ]
  },
  {
   "cell_type": "code",
   "execution_count": 8,
   "id": "b63e8775-fe1f-444e-bd5d-14e94d61122a",
   "metadata": {},
   "outputs": [
    {
     "name": "stdout",
     "output_type": "stream",
     "text": [
      "^\\d+$\n",
      "1      : 0~1에 1 존재\n",
      "12     : 0~2에 12 존재\n",
      "1234   : 0~4에 1234 존재\n",
      "12ab34 : 문자열에 ^\\d+$ 패턴이 존재하지 않음\n",
      "12 34  : 문자열에 ^\\d+$ 패턴이 존재하지 않음\n",
      "-------------------------\n",
      "\\d+\n",
      "1      : 0~1에 1 존재\n",
      "12     : 0~2에 12 존재\n",
      "1234   : 0~4에 1234 존재\n",
      "12ab34 : 0~2에 12 존재\n",
      "12 34  : 0~2에 12 존재\n"
     ]
    }
   ],
   "source": [
    "# 숫자 1개 이상으로 이루어진 문자열 (숫자로만 이루어진 문자열)\n",
    "data = ('1','12','1234','12ab34','12 34')\n",
    "printMatch(r'^\\d+$', data)\n",
    "print(\"-\" * 25)\n",
    "printMatch(r'\\d+', data)"
   ]
  },
  {
   "cell_type": "markdown",
   "id": "bfdc3c4e-a904-44ff-851e-d15cd8169db9",
   "metadata": {},
   "source": [
    "# Quiz"
   ]
  },
  {
   "cell_type": "code",
   "execution_count": 9,
   "id": "ca219710-f25a-4121-bcd7-4ff0b94de204",
   "metadata": {},
   "outputs": [],
   "source": [
    "import re\n",
    "\n",
    "def printMatch(pstr, data):\n",
    "    print(pstr)\n",
    "    for x in data:\n",
    "        mc = re.search(pstr, x)\n",
    "        maxLen = max(len(x) for x in data)\n",
    "        if mc:\n",
    "            print(f'{x:{maxLen}} : {mc.start()}~{mc.end()}에 {mc.group()}존재')\n",
    "        else:\n",
    "            print(f'{x:{maxLen}} : 문자열에 {pstr}패턴이 존재하지 않음')"
   ]
  },
  {
   "cell_type": "markdown",
   "id": "f34b20e0-1709-4cfb-a0d7-b2b7c55c3ee7",
   "metadata": {},
   "source": [
    "## 양수 검색"
   ]
  },
  {
   "cell_type": "markdown",
   "id": "663ae5c1-74df-456f-92b1-16c24886ddd9",
   "metadata": {},
   "source": [
    "- 0보다 큰 양수를 검색하는 패턴을 작성하라\n",
    "   - 1, 2, 3, ... \n",
    "- 단, 0, 01, 1a 등은 검색 대상으로 삼지 않는다\n",
    "  - 0부터 시작된 숫자 또는 숫자 이외의 문자와 섞여 있으면 검색 대상이 아님\n",
    "- 주어진 dataList를 패턴 확인용 데이터로 사용한다\n",
    "- printMatch 함수를 사용하여 패턴의 동작을 확인한다"
   ]
  },
  {
   "cell_type": "code",
   "execution_count": 10,
   "id": "7df37144-097d-461e-b451-00bb39e5874d",
   "metadata": {},
   "outputs": [
    {
     "name": "stdout",
     "output_type": "stream",
     "text": [
      "^[1-9]\\d*$\n",
      "1   : 0~1에 1존재\n",
      "12  : 0~2에 12존재\n",
      "321 : 0~3에 321존재\n",
      "100 : 0~3에 100존재\n",
      "0   : 문자열에 ^[1-9]\\d*$패턴이 존재하지 않음\n",
      "01  : 문자열에 ^[1-9]\\d*$패턴이 존재하지 않음\n",
      "001 : 문자열에 ^[1-9]\\d*$패턴이 존재하지 않음\n",
      "1a  : 문자열에 ^[1-9]\\d*$패턴이 존재하지 않음\n"
     ]
    }
   ],
   "source": [
    "dataList = ('1', '12', '321', '100', '0', '01', '001', '1a')\n",
    "printMatch(r'^[1-9]\\d*$', dataList)"
   ]
  },
  {
   "cell_type": "markdown",
   "id": "253759a8-9e12-4103-8a10-458ad6b8a31d",
   "metadata": {},
   "source": [
    "## 날짜 형식 찾기"
   ]
  },
  {
   "cell_type": "markdown",
   "id": "6ab34b62-ed37-487f-b5dc-ba02489e6a19",
   "metadata": {},
   "source": [
    "- 규칙\n",
    "   - 년도는 숫자 4글자이면서 19 또는 20으로 시작함\n",
    "   - 월을 01 ~ 12로 표시되고, 일은 01~31로 표시됨\n",
    "   - 윤달 및 28, 29, 30으로 끝나는 달을 별도 확인하지 않음\n",
    "   - '-'를 사용하여 년, 월, 일을 구분함\n",
    "   - 예) 1990-09-12, 2021-12-02"
   ]
  },
  {
   "cell_type": "code",
   "execution_count": 11,
   "id": "580c7d9c-9151-4a26-88d0-1bc66c5fc783",
   "metadata": {},
   "outputs": [],
   "source": [
    "# 01 02 03 04 ...09 10 11 12 ... 19 20 21 22 ....29 30 31"
   ]
  },
  {
   "cell_type": "code",
   "execution_count": 12,
   "id": "5af42de3-686f-4e40-8fd0-56a0e91a42af",
   "metadata": {},
   "outputs": [
    {
     "name": "stdout",
     "output_type": "stream",
     "text": [
      "^(19|20)\\d{2}-(0[1-9]|1[012])-(0[1-9]|[12][0-9]|3[01])$\n",
      "1990-09-12 : 0~10에 1990-09-12존재\n",
      "2020-12-31 : 0~10에 2020-12-31존재\n",
      "2099-10-32 : 문자열에 ^(19|20)\\d{2}-(0[1-9]|1[012])-(0[1-9]|[12][0-9]|3[01])$패턴이 존재하지 않음\n",
      "89-01-08   : 문자열에 ^(19|20)\\d{2}-(0[1-9]|1[012])-(0[1-9]|[12][0-9]|3[01])$패턴이 존재하지 않음\n"
     ]
    }
   ],
   "source": [
    "data = ('1990-09-12', '2020-12-31', '2099-10-32', '89-01-08') \n",
    "printMatch(r'^(19|20)\\d{2}-(0[1-9]|1[012])-(0[1-9]|[12][0-9]|3[01])$',  data)"
   ]
  },
  {
   "cell_type": "markdown",
   "id": "aab4e3a5-571f-4c67-9aa2-02112cca3dc2",
   "metadata": {},
   "source": [
    "## 메일 주소 찾기"
   ]
  },
  {
   "cell_type": "markdown",
   "id": "e8076787-7582-467d-9c07-28d5ae7209cd",
   "metadata": {},
   "source": [
    "- 규칙\n",
    "   - @ 기호 앞은 '.'을 포함한 워드문자로 구성된 문자열이 올 수 있다 ('.'이 있을 수도 있고 없을수도 있음)\n",
    "   - 단, '.'이 단독으로 존재하거나, '.'이 첫글자여서는 안된다.\n",
    "   - @ 기호\n",
    "   - @ 기호 뒤는 워드 문자가 1개 이상 온다\n",
    "   - 위의 1개 이상의 워드 문자 뒤로 '.'으로 시작하고 워드문자 1개 이상으로 구성된 문자열이 1회 또는 2회 반복되어 사용된다 ('.'이 1, 2회 사용되어야 함)"
   ]
  },
  {
   "cell_type": "code",
   "execution_count": 13,
   "id": "dc5c4692-5c7f-4953-bbb0-f1a4a525b09f",
   "metadata": {},
   "outputs": [
    {
     "name": "stdout",
     "output_type": "stream",
     "text": [
      "^\\w[\\.\\w]*@\\w+(\\.\\w+){1,2}$\n",
      "abc@naver.com               : 0~13에 abc@naver.com존재\n",
      "kbs.kim@gmail.or.kr         : 0~19에 kbs.kim@gmail.or.kr존재\n",
      "all.for.you.11@shopping.net : 0~27에 all.for.you.11@shopping.net존재\n",
      ".@naver.com                 : 문자열에 ^\\w[\\.\\w]*@\\w+(\\.\\w+){1,2}$패턴이 존재하지 않음\n",
      "abcdef@abc                  : 문자열에 ^\\w[\\.\\w]*@\\w+(\\.\\w+){1,2}$패턴이 존재하지 않음\n",
      "3#@abc.co.kr                : 문자열에 ^\\w[\\.\\w]*@\\w+(\\.\\w+){1,2}$패턴이 존재하지 않음\n"
     ]
    }
   ],
   "source": [
    "import re\n",
    "\n",
    "data = ('abc@naver.com', 'kbs.kim@gmail.or.kr', 'all.for.you.11@shopping.net', '.@naver.com', 'abcdef@abc', '3#@abc.co.kr')\n",
    "printMatch(r'^\\w[\\.\\w]*@\\w+(\\.\\w+){1,2}$', data)"
   ]
  },
  {
   "cell_type": "markdown",
   "id": "b1b3fee5-91c9-456d-abe8-1e1854c4d8d5",
   "metadata": {},
   "source": [
    "## 한글, 콤마(,) 및 소수 부분 제거- 금액에 함께 표기된 한글, 콤마(,) 및 소수 부분을 제거한다.\n",
    "- 다음의 입력과 출력예시를 참조한다\n",
    "> ![image.png](data:image/png;base64,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)\n"
   ]
  },
  {
   "cell_type": "code",
   "execution_count": 14,
   "id": "6ab4bac7-dfac-4a5a-8aee-776616101f90",
   "metadata": {},
   "outputs": [
    {
     "name": "stdout",
     "output_type": "stream",
     "text": [
      "1,234,567원 => 1234567\n",
      "200,000.00달러 => 200000\n",
      "1,234.15엔 => 1234\n"
     ]
    }
   ],
   "source": [
    "import re\n",
    "\n",
    "def removeThings(data):\n",
    "    return re.sub(r',|[가-힇]+|\\.\\d+', '', data)\n",
    "\n",
    "datalist = ('1,234,567원', '200,000.00달러', '1,234.15엔')\n",
    "for x in datalist:\n",
    "    r = removeThings(x)\n",
    "    print(f'{x} => {r}')"
   ]
  },
  {
   "cell_type": "markdown",
   "id": "5120e4d9-c642-49a0-b32c-0e97ad7edaa9",
   "metadata": {},
   "source": [
    "## 주민등록번호 유효성 검사 및 암호 처리"
   ]
  },
  {
   "cell_type": "markdown",
   "id": "fe0f8c2d-7833-4e2a-995e-916c05abdb1e",
   "metadata": {},
   "source": [
    "- 주민등록번호에 대한 다음의 처리를 수행하는 코드를 작성하라\n",
    "- 유효성 검사를 수행한다 (정밀한 검증이 아닌 형태에 대한 검증)\n",
    "    - 숫자6자-숫자7자로 구성\n",
    "    - 앞의 6글자 중 3,4번째는 01-12, 5,6번째는 01-31의 숫자, 뒤의 7글자 중 1번째는 1~4 중 한가지 이어야 함\n",
    "- 유효한 주민등록번호인 경우 뒤의 7자를 *로 치환하여 출력하도록 한다\n",
    "- 유효하지 않은 주민등록번호인 경우 ‘XX is NOT an id’를 출력 한다\n",
    "- 다음의 입력과 출력예시를 참조한다\n",
    "> ![image.png](data:image/png;base64,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)"
   ]
  },
  {
   "cell_type": "code",
   "execution_count": 16,
   "id": "dd3f0b20-f007-426b-b853-be5ba60fdc74",
   "metadata": {},
   "outputs": [
    {
     "name": "stdout",
     "output_type": "stream",
     "text": [
      "881103-1231233 => 881103-*******\n",
      "891312-1234512 => 891312-1234512 is not an id\n",
      "1990-12-28 => 1990-12-28 is not an id\n"
     ]
    }
   ],
   "source": [
    "import re\n",
    "\n",
    "def idcheck(data):\n",
    "    ret = re.match(r'^\\d{2}(0[1-9]|1[0-2])(0[1-9]|[12][0-9]|3[01])-[1-4]\\d{6}$', data)\n",
    "    return re.sub(r'\\d{7}', '*' * 7, ret.group()) if ret else f'{data} is not an id'\n",
    "\n",
    "\n",
    "datalist = ('881103-1231233', '891312-1234512', '1990-12-28')\n",
    "for x in datalist:\n",
    "    r = idcheck(x)\n",
    "    print(f'{x} => {r}')"
   ]
  },
  {
   "cell_type": "code",
   "execution_count": null,
   "id": "e6c37501-e8aa-4a75-b863-111282294862",
   "metadata": {},
   "outputs": [],
   "source": []
  }
 ],
 "metadata": {
  "kernelspec": {
   "display_name": "Python 3 (ipykernel)",
   "language": "python",
   "name": "python3"
  },
  "language_info": {
   "codemirror_mode": {
    "name": "ipython",
    "version": 3
   },
   "file_extension": ".py",
   "mimetype": "text/x-python",
   "name": "python",
   "nbconvert_exporter": "python",
   "pygments_lexer": "ipython3",
   "version": "3.9.13"
  }
 },
 "nbformat": 4,
 "nbformat_minor": 5
}
