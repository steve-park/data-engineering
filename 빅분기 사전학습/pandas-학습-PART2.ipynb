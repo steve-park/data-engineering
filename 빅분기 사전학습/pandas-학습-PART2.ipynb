{
 "cells": [
  {
   "cell_type": "markdown",
   "id": "7307b334-9f22-469b-b22b-92977d3b8538",
   "metadata": {
    "tags": []
   },
   "source": [
    "# 데이터 전처리"
   ]
  },
  {
   "cell_type": "markdown",
   "id": "b8661bf8-8cbd-46d0-abf0-5b45faf9462e",
   "metadata": {},
   "source": [
    "- 처리가 필요한 데이터\n",
    "    + 누락 데이터 (NA) -> 누락 데이터 처리\n",
    "    + 타입이 올바르지 않은 데이터 -> 데이터 타입 변경\n",
    "    + 콤마, 공백, 모호한 대/소문자 사용 -> 콤마, 공백 제거, 대/소문자 변경\n",
    "    + 의미없는 데이터 -> 의미있는 데이터 선별 및 제거"
   ]
  },
  {
   "cell_type": "markdown",
   "id": "92e5d7e6-cf55-46e3-a08e-3c03c43dbbab",
   "metadata": {},
   "source": [
    "## NA의 종류"
   ]
  },
  {
   "cell_type": "markdown",
   "id": "a1d1119d-1b94-4f1d-94da-7f778a57ab3c",
   "metadata": {},
   "source": [
    "- NA == Not Available == Missing Data\n",
    "- None, np.nan, pd.NaT\n",
    "    + np.nan : float 타입으로 숫자의 missing 을 의미\n",
    "    + pd.NaT : np.datetime64 타입으로 날짜의 missing 을 의미\n",
    "    + np.inf : pd.options.mode.use_inf_as_na = True 를 하면 missing data 취급 / 기본값은 False 임\n",
    "- pandas 에서의 연산은 기본적으로 NA 데이터를 제외하고 처리됨"
   ]
  },
  {
   "cell_type": "code",
   "execution_count": 1,
   "id": "47ce0804-8d54-42aa-b2a6-26011d4fe15f",
   "metadata": {},
   "outputs": [],
   "source": [
    "import pandas as pd\n",
    "import numpy as np\n",
    "import shelve"
   ]
  },
  {
   "cell_type": "code",
   "execution_count": 2,
   "id": "65fffdbb-b51a-4f00-9040-3a90528894df",
   "metadata": {},
   "outputs": [
    {
     "data": {
      "text/plain": [
       "0     NaN\n",
       "1     NaT\n",
       "2    None\n",
       "3     NaN\n",
       "dtype: object"
      ]
     },
     "metadata": {},
     "output_type": "display_data"
    },
    {
     "name": "stdout",
     "output_type": "stream",
     "text": [
      "0 0\n"
     ]
    }
   ],
   "source": [
    "pd.options.mode.use_inf_as_na = True\n",
    "\n",
    "s = pd.Series([np.nan, pd.NaT, None, np.inf])\n",
    "display(s)\n",
    "\n",
    "print(s.count(), s.sum())"
   ]
  },
  {
   "cell_type": "code",
   "execution_count": 3,
   "id": "cc2c05d9-f900-4e6b-ba94-23813fe6d53e",
   "metadata": {},
   "outputs": [
    {
     "data": {
      "text/plain": [
       "0     NaN\n",
       "1     NaT\n",
       "2    None\n",
       "3     inf\n",
       "dtype: object"
      ]
     },
     "metadata": {},
     "output_type": "display_data"
    },
    {
     "name": "stdout",
     "output_type": "stream",
     "text": [
      "1 inf\n"
     ]
    }
   ],
   "source": [
    "pd.options.mode.use_inf_as_na = False\n",
    "\n",
    "s = pd.Series([np.nan, pd.NaT, None, np.inf])\n",
    "display(s)\n",
    "\n",
    "print(s.count(), s.sum())"
   ]
  },
  {
   "cell_type": "markdown",
   "id": "dfcde23f-d271-478f-b7d6-a02d0c2aee8f",
   "metadata": {},
   "source": [
    "## NA 데이터의 상등 비교"
   ]
  },
  {
   "cell_type": "markdown",
   "id": "e8f5dcf5-a938-49ba-af7e-0ca7a1ee3528",
   "metadata": {},
   "source": [
    "- None, np.inf 는 상등 비교가 가능함\n",
    "- np.nan, pd.NaT는 상등 비교가 불가능함 (isna() 함수를 사용함)"
   ]
  },
  {
   "cell_type": "code",
   "execution_count": 4,
   "id": "9f92ff47-86e6-4ee9-bacd-6598f5f0c721",
   "metadata": {},
   "outputs": [
    {
     "name": "stdout",
     "output_type": "stream",
     "text": [
      "None :   True\n",
      "np.inf : True\n",
      "np.nan : False\n",
      "pd.NaT : False\n"
     ]
    }
   ],
   "source": [
    "print(f'None :   {None == None}',\n",
    "      f'np.inf : {np.inf == np.inf}',\n",
    "      f'np.nan : {np.nan == np.nan}',\n",
    "      f'pd.NaT : {pd.NaT == pd.NaT}', sep=\"\\n\")"
   ]
  },
  {
   "cell_type": "code",
   "execution_count": 5,
   "id": "5a91f29f-e854-4c0f-b371-1f933b959504",
   "metadata": {},
   "outputs": [
    {
     "data": {
      "text/plain": [
       "0    True\n",
       "1    True\n",
       "2    True\n",
       "3    True\n",
       "dtype: bool"
      ]
     },
     "execution_count": 5,
     "metadata": {},
     "output_type": "execute_result"
    }
   ],
   "source": [
    "pd.options.mode.use_inf_as_na = True\n",
    "s = pd.Series([np.nan, pd.NaT, None, np.inf])\n",
    "s.isna()"
   ]
  },
  {
   "cell_type": "code",
   "execution_count": 6,
   "id": "2a97b7bd-b965-49a6-94fa-5402f2f169e9",
   "metadata": {},
   "outputs": [
    {
     "data": {
      "text/plain": [
       "0     True\n",
       "1     True\n",
       "2     True\n",
       "3    False\n",
       "dtype: bool"
      ]
     },
     "execution_count": 6,
     "metadata": {},
     "output_type": "execute_result"
    }
   ],
   "source": [
    "pd.options.mode.use_inf_as_na = False\n",
    "s = pd.Series([np.nan, pd.NaT, None, np.inf])\n",
    "s.isna()"
   ]
  },
  {
   "cell_type": "markdown",
   "id": "dfde1385-2219-49da-be46-ed06990e2995",
   "metadata": {},
   "source": [
    "## NA 정보 확인"
   ]
  },
  {
   "cell_type": "markdown",
   "id": "ef7337ac-730d-4653-80a4-5eeb0a0b6acd",
   "metadata": {},
   "source": [
    "- `df.info()`\n",
    "    + index, columns, dtypes, memory usage 정보 출력\n",
    "    + 출력 정보의 정도를 조절할 수 있는 parameter 가 있음\n",
    "    + memory_usage='deep', deep memory introspection 설정\n",
    "    - https://pandas.pydata.org/docs/reference/api/pandas.DataFrame.info.html#pandas-dataframe-info\n",
    "- `df.isna()`\n",
    "    + Boolean 데이터로 작성된 DataFrame 객체 반환 (NA value -> True)\n",
    "    + isna, isnull 은 동일 동작 (isnull 은 isna 의 alias)\n",
    "    + any(), all() 등으로 정보를 요약할 수 있음\n",
    "    + `df.isna().any()`\n",
    "    + `df.isna().all()`\n",
    "    + `df.isna().any().any()` : DataFrame 에 하나라도 NA가 있으면 True\n",
    "    + https://pandas.pydata.org/docs/reference/api/pandas.DataFrame.isna.html#pandas-dataframe-isna\n",
    "- `df.any(axis=0)`\n",
    "    + column 별로 값이 하나라도 True 인 경우 True 아니면 False\n",
    "    + axis=1 로 하면 row 별로 확인\n",
    "- `df.all(axis=0)`\n",
    "    + column 별로 모든 값이 True 인 경우 True 아니면 False\n",
    "    + axis=1 로 하면 row 별로 확인    "
   ]
  },
  {
   "cell_type": "code",
   "execution_count": 7,
   "id": "d06d10c3-9b29-43ca-9ae2-c3aae26ddad7",
   "metadata": {},
   "outputs": [
    {
     "data": {
      "text/html": [
       "<div>\n",
       "<style scoped>\n",
       "    .dataframe tbody tr th:only-of-type {\n",
       "        vertical-align: middle;\n",
       "    }\n",
       "\n",
       "    .dataframe tbody tr th {\n",
       "        vertical-align: top;\n",
       "    }\n",
       "\n",
       "    .dataframe thead th {\n",
       "        text-align: right;\n",
       "    }\n",
       "</style>\n",
       "<table border=\"1\" class=\"dataframe\">\n",
       "  <thead>\n",
       "    <tr style=\"text-align: right;\">\n",
       "      <th></th>\n",
       "      <th>ID</th>\n",
       "      <th>pname</th>\n",
       "      <th>birth</th>\n",
       "      <th>dept</th>\n",
       "      <th>english</th>\n",
       "      <th>japanese</th>\n",
       "      <th>chinese</th>\n",
       "      <th>salary</th>\n",
       "      <th>overtime</th>\n",
       "    </tr>\n",
       "  </thead>\n",
       "  <tbody>\n",
       "    <tr>\n",
       "      <th>0</th>\n",
       "      <td>18030201</td>\n",
       "      <td>James Kim</td>\n",
       "      <td>1990-01-23</td>\n",
       "      <td>Education</td>\n",
       "      <td>1</td>\n",
       "      <td>1.0</td>\n",
       "      <td></td>\n",
       "      <td>3,456</td>\n",
       "      <td>23:10:10</td>\n",
       "    </tr>\n",
       "    <tr>\n",
       "      <th>1</th>\n",
       "      <td>18030202</td>\n",
       "      <td>Rose Hwang</td>\n",
       "      <td>1992-10-11</td>\n",
       "      <td>Marketing</td>\n",
       "      <td></td>\n",
       "      <td>2.0</td>\n",
       "      <td>NaN</td>\n",
       "      <td>4,320</td>\n",
       "      <td>10:15:17</td>\n",
       "    </tr>\n",
       "    <tr>\n",
       "      <th>2</th>\n",
       "      <td>19030401</td>\n",
       "      <td>Sam Park</td>\n",
       "      <td>1995-07-02</td>\n",
       "      <td>Education</td>\n",
       "      <td>1</td>\n",
       "      <td>NaN</td>\n",
       "      <td>NaN</td>\n",
       "      <td>5,600</td>\n",
       "      <td>16:21:10</td>\n",
       "    </tr>\n",
       "    <tr>\n",
       "      <th>3</th>\n",
       "      <td>19070101</td>\n",
       "      <td>Chris Jang</td>\n",
       "      <td>1990-11-23</td>\n",
       "      <td>Education</td>\n",
       "      <td>NaN</td>\n",
       "      <td>NaN</td>\n",
       "      <td>3</td>\n",
       "      <td>4,500</td>\n",
       "      <td>15:00:20</td>\n",
       "    </tr>\n",
       "    <tr>\n",
       "      <th>4</th>\n",
       "      <td>19070102</td>\n",
       "      <td>Grace Lee</td>\n",
       "      <td>1993-02-01</td>\n",
       "      <td>Marketing</td>\n",
       "      <td>NaN</td>\n",
       "      <td>NaN</td>\n",
       "      <td>NaN</td>\n",
       "      <td>3,150</td>\n",
       "      <td>21:19:50</td>\n",
       "    </tr>\n",
       "  </tbody>\n",
       "</table>\n",
       "</div>"
      ],
      "text/plain": [
       "         ID       pname       birth       dept english  japanese chinese  \\\n",
       "0  18030201   James Kim  1990-01-23  Education       1       1.0           \n",
       "1  18030202  Rose Hwang  1992-10-11  Marketing               2.0     NaN   \n",
       "2  19030401    Sam Park  1995-07-02  Education       1       NaN     NaN   \n",
       "3  19070101  Chris Jang  1990-11-23  Education     NaN       NaN       3   \n",
       "4  19070102   Grace Lee  1993-02-01  Marketing     NaN       NaN     NaN   \n",
       "\n",
       "  salary  overtime  \n",
       "0  3,456  23:10:10  \n",
       "1  4,320  10:15:17  \n",
       "2  5,600  16:21:10  \n",
       "3  4,500  15:00:20  \n",
       "4  3,150  21:19:50  "
      ]
     },
     "execution_count": 7,
     "metadata": {},
     "output_type": "execute_result"
    }
   ],
   "source": [
    "df = pd.read_csv('./data/easySample2.csv')\n",
    "df.head()"
   ]
  },
  {
   "cell_type": "code",
   "execution_count": 8,
   "id": "5ffefdba-3d82-4583-bc1b-06541c22db46",
   "metadata": {},
   "outputs": [
    {
     "name": "stdout",
     "output_type": "stream",
     "text": [
      "<class 'pandas.core.frame.DataFrame'>\n",
      "RangeIndex: 10 entries, 0 to 9\n",
      "Data columns (total 9 columns):\n",
      " #   Column    Non-Null Count  Dtype  \n",
      "---  ------    --------------  -----  \n",
      " 0   ID        10 non-null     int64  \n",
      " 1   pname     10 non-null     object \n",
      " 2   birth     10 non-null     object \n",
      " 3   dept      10 non-null     object \n",
      " 4   english   6 non-null      object \n",
      " 5   japanese  5 non-null      float64\n",
      " 6   chinese   6 non-null      object \n",
      " 7   salary    10 non-null     object \n",
      " 8   overtime  10 non-null     object \n",
      "dtypes: float64(1), int64(1), object(7)\n",
      "memory usage: 848.0+ bytes\n"
     ]
    }
   ],
   "source": [
    "df.info()\n",
    "# 하기 정보 중 RangeIndex: 10 entries, 0 to 9 을 통하여 전체 10개의 Entry 가 있음을 알 수 있음\n",
    "# 4   english   6 non-null      object \n",
    "# 5   japanese  5 non-null      float64\n",
    "# 6   chinese   6 non-null      object \n",
    "# 상기 3개의 Column 의 경우 10개의 데이터가 안되므로 NA 데이터가 있다고 판단할 수 있음\n",
    "# 특히 english 의 경우 object dtype 이므로 데이터 중 공백이 포함되어 있음을 식별할 수 있음"
   ]
  },
  {
   "cell_type": "code",
   "execution_count": 9,
   "id": "821da4d1-a010-43db-a733-7d46adc76ebd",
   "metadata": {},
   "outputs": [
    {
     "name": "stdout",
     "output_type": "stream",
     "text": [
      "<class 'pandas.core.frame.DataFrame'>\n",
      "RangeIndex: 10 entries, 0 to 9\n",
      "Data columns (total 9 columns):\n",
      " #   Column    Non-Null Count  Dtype  \n",
      "---  ------    --------------  -----  \n",
      " 0   ID        10 non-null     int64  \n",
      " 1   pname     10 non-null     object \n",
      " 2   birth     10 non-null     object \n",
      " 3   dept      10 non-null     object \n",
      " 4   english   6 non-null      object \n",
      " 5   japanese  5 non-null      float64\n",
      " 6   chinese   6 non-null      object \n",
      " 7   salary    10 non-null     object \n",
      " 8   overtime  10 non-null     object \n",
      "dtypes: float64(1), int64(1), object(7)\n",
      "memory usage: 4.4 KB\n"
     ]
    }
   ],
   "source": [
    "df.info(memory_usage='deep')"
   ]
  },
  {
   "cell_type": "code",
   "execution_count": 10,
   "id": "7e183683-2bea-4c85-9192-2ddc94e78059",
   "metadata": {},
   "outputs": [
    {
     "data": {
      "text/html": [
       "<div>\n",
       "<style scoped>\n",
       "    .dataframe tbody tr th:only-of-type {\n",
       "        vertical-align: middle;\n",
       "    }\n",
       "\n",
       "    .dataframe tbody tr th {\n",
       "        vertical-align: top;\n",
       "    }\n",
       "\n",
       "    .dataframe thead th {\n",
       "        text-align: right;\n",
       "    }\n",
       "</style>\n",
       "<table border=\"1\" class=\"dataframe\">\n",
       "  <thead>\n",
       "    <tr style=\"text-align: right;\">\n",
       "      <th></th>\n",
       "      <th>english</th>\n",
       "      <th>japanese</th>\n",
       "      <th>chinese</th>\n",
       "    </tr>\n",
       "  </thead>\n",
       "  <tbody>\n",
       "    <tr>\n",
       "      <th>0</th>\n",
       "      <td>False</td>\n",
       "      <td>False</td>\n",
       "      <td>False</td>\n",
       "    </tr>\n",
       "    <tr>\n",
       "      <th>1</th>\n",
       "      <td>False</td>\n",
       "      <td>False</td>\n",
       "      <td>True</td>\n",
       "    </tr>\n",
       "    <tr>\n",
       "      <th>2</th>\n",
       "      <td>False</td>\n",
       "      <td>True</td>\n",
       "      <td>True</td>\n",
       "    </tr>\n",
       "    <tr>\n",
       "      <th>3</th>\n",
       "      <td>True</td>\n",
       "      <td>True</td>\n",
       "      <td>False</td>\n",
       "    </tr>\n",
       "    <tr>\n",
       "      <th>4</th>\n",
       "      <td>True</td>\n",
       "      <td>True</td>\n",
       "      <td>True</td>\n",
       "    </tr>\n",
       "    <tr>\n",
       "      <th>5</th>\n",
       "      <td>True</td>\n",
       "      <td>True</td>\n",
       "      <td>False</td>\n",
       "    </tr>\n",
       "    <tr>\n",
       "      <th>6</th>\n",
       "      <td>False</td>\n",
       "      <td>True</td>\n",
       "      <td>True</td>\n",
       "    </tr>\n",
       "    <tr>\n",
       "      <th>7</th>\n",
       "      <td>False</td>\n",
       "      <td>False</td>\n",
       "      <td>False</td>\n",
       "    </tr>\n",
       "    <tr>\n",
       "      <th>8</th>\n",
       "      <td>False</td>\n",
       "      <td>False</td>\n",
       "      <td>False</td>\n",
       "    </tr>\n",
       "    <tr>\n",
       "      <th>9</th>\n",
       "      <td>True</td>\n",
       "      <td>False</td>\n",
       "      <td>False</td>\n",
       "    </tr>\n",
       "  </tbody>\n",
       "</table>\n",
       "</div>"
      ],
      "text/plain": [
       "   english  japanese  chinese\n",
       "0    False     False    False\n",
       "1    False     False     True\n",
       "2    False      True     True\n",
       "3     True      True    False\n",
       "4     True      True     True\n",
       "5     True      True    False\n",
       "6    False      True     True\n",
       "7    False     False    False\n",
       "8    False     False    False\n",
       "9     True     False    False"
      ]
     },
     "execution_count": 10,
     "metadata": {},
     "output_type": "execute_result"
    }
   ],
   "source": [
    "df1 = df[['english', 'japanese', 'chinese']]\n",
    "df1.isna()"
   ]
  },
  {
   "cell_type": "code",
   "execution_count": 11,
   "id": "e7808dc5-4e6e-47ed-8758-42722fed1203",
   "metadata": {},
   "outputs": [
    {
     "data": {
      "text/plain": [
       "english     True\n",
       "japanese    True\n",
       "chinese     True\n",
       "dtype: bool"
      ]
     },
     "execution_count": 11,
     "metadata": {},
     "output_type": "execute_result"
    }
   ],
   "source": [
    "df1.isna().any()"
   ]
  },
  {
   "cell_type": "code",
   "execution_count": 12,
   "id": "7acd25e4-af86-4f69-876e-020322a05f95",
   "metadata": {},
   "outputs": [
    {
     "data": {
      "text/plain": [
       "0    False\n",
       "1     True\n",
       "2     True\n",
       "3     True\n",
       "4     True\n",
       "5     True\n",
       "6     True\n",
       "7    False\n",
       "8    False\n",
       "9     True\n",
       "dtype: bool"
      ]
     },
     "execution_count": 12,
     "metadata": {},
     "output_type": "execute_result"
    }
   ],
   "source": [
    "df1.isna().any(axis=1)"
   ]
  },
  {
   "cell_type": "code",
   "execution_count": 13,
   "id": "15f12e23-f4a0-4de3-9f0a-96bcc0eeea94",
   "metadata": {},
   "outputs": [
    {
     "data": {
      "text/plain": [
       "english     False\n",
       "japanese    False\n",
       "chinese     False\n",
       "dtype: bool"
      ]
     },
     "execution_count": 13,
     "metadata": {},
     "output_type": "execute_result"
    }
   ],
   "source": [
    "df1.isna().all()"
   ]
  },
  {
   "cell_type": "code",
   "execution_count": 14,
   "id": "07788922-d356-4eef-b6bf-59e1ec5a9e5b",
   "metadata": {},
   "outputs": [
    {
     "data": {
      "text/plain": [
       "0    False\n",
       "1    False\n",
       "2    False\n",
       "3    False\n",
       "4     True\n",
       "5    False\n",
       "6    False\n",
       "7    False\n",
       "8    False\n",
       "9    False\n",
       "dtype: bool"
      ]
     },
     "execution_count": 14,
     "metadata": {},
     "output_type": "execute_result"
    }
   ],
   "source": [
    "df1.isna().all(axis=1)"
   ]
  },
  {
   "cell_type": "code",
   "execution_count": 15,
   "id": "538d9953-8a7e-4026-bf1d-6de0af1844f8",
   "metadata": {},
   "outputs": [
    {
     "data": {
      "text/plain": [
       "True"
      ]
     },
     "execution_count": 15,
     "metadata": {},
     "output_type": "execute_result"
    }
   ],
   "source": [
    "df1.isna().any().any()"
   ]
  },
  {
   "cell_type": "markdown",
   "id": "b13fe746-99db-4ceb-afcf-dfa0f5314efd",
   "metadata": {},
   "source": [
    "## NA 제거"
   ]
  },
  {
   "cell_type": "markdown",
   "id": "4cbb0b39-6e0b-475a-ad36-4798484b9938",
   "metadata": {},
   "source": [
    "- `df.dropna(axis=0, how='any', thresh=None, subset=None, inplace=False)`\n",
    "- axis\n",
    "    + axis=0 이거나 'index' : NA value 포함 행(row) 제거\n",
    "    + axis=1 이거나 'columns' : NA value 포함 열(column) 제거    \n",
    "- how\n",
    "    + how='any' : NA value 가 하나라도 포함된 경우 True\n",
    "    + how='all' : 모든 값이 NA value 인 경우 True    \n",
    "- thresh\n",
    "    + int, non-NA value 갯수가 설정 값 이상일 떄 제거 안 함\n",
    "- subset\n",
    "    + array-like, NA value 를 살펴볼 label 목록\n",
    "    + axis=0 : columns 에 대한 label 을 목록으로 작성함\n",
    "- inplace\n",
    "    + bool, True 인 경우 대상에 직접 반영하고, None 을 반환"
   ]
  },
  {
   "cell_type": "code",
   "execution_count": 16,
   "id": "fc824239-bcaa-4d5b-9bde-1f83f783fc56",
   "metadata": {},
   "outputs": [
    {
     "data": {
      "text/html": [
       "<div>\n",
       "<style scoped>\n",
       "    .dataframe tbody tr th:only-of-type {\n",
       "        vertical-align: middle;\n",
       "    }\n",
       "\n",
       "    .dataframe tbody tr th {\n",
       "        vertical-align: top;\n",
       "    }\n",
       "\n",
       "    .dataframe thead th {\n",
       "        text-align: right;\n",
       "    }\n",
       "</style>\n",
       "<table border=\"1\" class=\"dataframe\">\n",
       "  <thead>\n",
       "    <tr style=\"text-align: right;\">\n",
       "      <th></th>\n",
       "      <th>ID</th>\n",
       "      <th>pname</th>\n",
       "      <th>birth</th>\n",
       "      <th>dept</th>\n",
       "      <th>english</th>\n",
       "      <th>japanese</th>\n",
       "      <th>chinese</th>\n",
       "      <th>salary</th>\n",
       "      <th>overtime</th>\n",
       "    </tr>\n",
       "  </thead>\n",
       "  <tbody>\n",
       "    <tr>\n",
       "      <th>0</th>\n",
       "      <td>18030201</td>\n",
       "      <td>James Kim</td>\n",
       "      <td>1990-01-23</td>\n",
       "      <td>Education</td>\n",
       "      <td>1</td>\n",
       "      <td>1.0</td>\n",
       "      <td></td>\n",
       "      <td>3,456</td>\n",
       "      <td>23:10:10</td>\n",
       "    </tr>\n",
       "    <tr>\n",
       "      <th>1</th>\n",
       "      <td>18030202</td>\n",
       "      <td>Rose Hwang</td>\n",
       "      <td>1992-10-11</td>\n",
       "      <td>Marketing</td>\n",
       "      <td></td>\n",
       "      <td>2.0</td>\n",
       "      <td>NaN</td>\n",
       "      <td>4,320</td>\n",
       "      <td>10:15:17</td>\n",
       "    </tr>\n",
       "    <tr>\n",
       "      <th>2</th>\n",
       "      <td>19030401</td>\n",
       "      <td>Sam Park</td>\n",
       "      <td>1995-07-02</td>\n",
       "      <td>Education</td>\n",
       "      <td>1</td>\n",
       "      <td>NaN</td>\n",
       "      <td>NaN</td>\n",
       "      <td>5,600</td>\n",
       "      <td>16:21:10</td>\n",
       "    </tr>\n",
       "    <tr>\n",
       "      <th>3</th>\n",
       "      <td>19070101</td>\n",
       "      <td>Chris Jang</td>\n",
       "      <td>1990-11-23</td>\n",
       "      <td>Education</td>\n",
       "      <td>NaN</td>\n",
       "      <td>NaN</td>\n",
       "      <td>3</td>\n",
       "      <td>4,500</td>\n",
       "      <td>15:00:20</td>\n",
       "    </tr>\n",
       "    <tr>\n",
       "      <th>4</th>\n",
       "      <td>19070102</td>\n",
       "      <td>Grace Lee</td>\n",
       "      <td>1993-02-01</td>\n",
       "      <td>Marketing</td>\n",
       "      <td>NaN</td>\n",
       "      <td>NaN</td>\n",
       "      <td>NaN</td>\n",
       "      <td>3,150</td>\n",
       "      <td>21:19:50</td>\n",
       "    </tr>\n",
       "  </tbody>\n",
       "</table>\n",
       "</div>"
      ],
      "text/plain": [
       "         ID       pname       birth       dept english  japanese chinese  \\\n",
       "0  18030201   James Kim  1990-01-23  Education       1       1.0           \n",
       "1  18030202  Rose Hwang  1992-10-11  Marketing               2.0     NaN   \n",
       "2  19030401    Sam Park  1995-07-02  Education       1       NaN     NaN   \n",
       "3  19070101  Chris Jang  1990-11-23  Education     NaN       NaN       3   \n",
       "4  19070102   Grace Lee  1993-02-01  Marketing     NaN       NaN     NaN   \n",
       "\n",
       "  salary  overtime  \n",
       "0  3,456  23:10:10  \n",
       "1  4,320  10:15:17  \n",
       "2  5,600  16:21:10  \n",
       "3  4,500  15:00:20  \n",
       "4  3,150  21:19:50  "
      ]
     },
     "execution_count": 16,
     "metadata": {},
     "output_type": "execute_result"
    }
   ],
   "source": [
    "df = pd.read_csv('./data/easySample2.csv')\n",
    "df.head()"
   ]
  },
  {
   "cell_type": "code",
   "execution_count": 17,
   "id": "0973694b-802c-4e1a-b58f-a0f9a1b9b785",
   "metadata": {},
   "outputs": [],
   "source": [
    "# Regular Expression 을 통하여 White Space 를 np.nan 으로 변경\n",
    "df = df.replace(r'^\\s+$', np.nan, regex=True)"
   ]
  },
  {
   "cell_type": "code",
   "execution_count": 18,
   "id": "924a45c2-9dcf-40f4-a1f4-993700652d08",
   "metadata": {},
   "outputs": [
    {
     "data": {
      "text/html": [
       "<div>\n",
       "<style scoped>\n",
       "    .dataframe tbody tr th:only-of-type {\n",
       "        vertical-align: middle;\n",
       "    }\n",
       "\n",
       "    .dataframe tbody tr th {\n",
       "        vertical-align: top;\n",
       "    }\n",
       "\n",
       "    .dataframe thead th {\n",
       "        text-align: right;\n",
       "    }\n",
       "</style>\n",
       "<table border=\"1\" class=\"dataframe\">\n",
       "  <thead>\n",
       "    <tr style=\"text-align: right;\">\n",
       "      <th></th>\n",
       "      <th>dept</th>\n",
       "      <th>english</th>\n",
       "      <th>japanese</th>\n",
       "      <th>chinese</th>\n",
       "    </tr>\n",
       "  </thead>\n",
       "  <tbody>\n",
       "    <tr>\n",
       "      <th>0</th>\n",
       "      <td>Education</td>\n",
       "      <td>1</td>\n",
       "      <td>1.0</td>\n",
       "      <td>NaN</td>\n",
       "    </tr>\n",
       "    <tr>\n",
       "      <th>1</th>\n",
       "      <td>Marketing</td>\n",
       "      <td>NaN</td>\n",
       "      <td>2.0</td>\n",
       "      <td>NaN</td>\n",
       "    </tr>\n",
       "    <tr>\n",
       "      <th>2</th>\n",
       "      <td>Education</td>\n",
       "      <td>1</td>\n",
       "      <td>NaN</td>\n",
       "      <td>NaN</td>\n",
       "    </tr>\n",
       "  </tbody>\n",
       "</table>\n",
       "</div>"
      ],
      "text/plain": [
       "        dept english  japanese chinese\n",
       "0  Education       1       1.0     NaN\n",
       "1  Marketing     NaN       2.0     NaN\n",
       "2  Education       1       NaN     NaN"
      ]
     },
     "execution_count": 18,
     "metadata": {},
     "output_type": "execute_result"
    }
   ],
   "source": [
    "df = df.iloc[:3, 3:7]\n",
    "df"
   ]
  },
  {
   "cell_type": "code",
   "execution_count": 19,
   "id": "21e63772-f78e-4eee-85ea-4ba98311d135",
   "metadata": {},
   "outputs": [
    {
     "data": {
      "text/html": [
       "<div>\n",
       "<style scoped>\n",
       "    .dataframe tbody tr th:only-of-type {\n",
       "        vertical-align: middle;\n",
       "    }\n",
       "\n",
       "    .dataframe tbody tr th {\n",
       "        vertical-align: top;\n",
       "    }\n",
       "\n",
       "    .dataframe thead th {\n",
       "        text-align: right;\n",
       "    }\n",
       "</style>\n",
       "<table border=\"1\" class=\"dataframe\">\n",
       "  <thead>\n",
       "    <tr style=\"text-align: right;\">\n",
       "      <th></th>\n",
       "      <th>dept</th>\n",
       "      <th>english</th>\n",
       "      <th>japanese</th>\n",
       "      <th>chinese</th>\n",
       "    </tr>\n",
       "  </thead>\n",
       "  <tbody>\n",
       "    <tr>\n",
       "      <th>0</th>\n",
       "      <td>True</td>\n",
       "      <td>True</td>\n",
       "      <td>True</td>\n",
       "      <td>False</td>\n",
       "    </tr>\n",
       "    <tr>\n",
       "      <th>1</th>\n",
       "      <td>True</td>\n",
       "      <td>False</td>\n",
       "      <td>True</td>\n",
       "      <td>False</td>\n",
       "    </tr>\n",
       "    <tr>\n",
       "      <th>2</th>\n",
       "      <td>True</td>\n",
       "      <td>True</td>\n",
       "      <td>False</td>\n",
       "      <td>False</td>\n",
       "    </tr>\n",
       "  </tbody>\n",
       "</table>\n",
       "</div>"
      ],
      "text/plain": [
       "   dept  english  japanese  chinese\n",
       "0  True     True      True    False\n",
       "1  True    False      True    False\n",
       "2  True     True     False    False"
      ]
     },
     "execution_count": 19,
     "metadata": {},
     "output_type": "execute_result"
    }
   ],
   "source": [
    "# NA 가 아닌 것을 확인 == ~df.isna()\n",
    "df.notna()"
   ]
  },
  {
   "cell_type": "code",
   "execution_count": 20,
   "id": "31b91421-d324-432a-bf1b-8915290c5fed",
   "metadata": {},
   "outputs": [
    {
     "data": {
      "text/html": [
       "<div>\n",
       "<style scoped>\n",
       "    .dataframe tbody tr th:only-of-type {\n",
       "        vertical-align: middle;\n",
       "    }\n",
       "\n",
       "    .dataframe tbody tr th {\n",
       "        vertical-align: top;\n",
       "    }\n",
       "\n",
       "    .dataframe thead th {\n",
       "        text-align: right;\n",
       "    }\n",
       "</style>\n",
       "<table border=\"1\" class=\"dataframe\">\n",
       "  <thead>\n",
       "    <tr style=\"text-align: right;\">\n",
       "      <th></th>\n",
       "      <th>dept</th>\n",
       "    </tr>\n",
       "  </thead>\n",
       "  <tbody>\n",
       "    <tr>\n",
       "      <th>0</th>\n",
       "      <td>Education</td>\n",
       "    </tr>\n",
       "    <tr>\n",
       "      <th>1</th>\n",
       "      <td>Marketing</td>\n",
       "    </tr>\n",
       "    <tr>\n",
       "      <th>2</th>\n",
       "      <td>Education</td>\n",
       "    </tr>\n",
       "  </tbody>\n",
       "</table>\n",
       "</div>"
      ],
      "text/plain": [
       "        dept\n",
       "0  Education\n",
       "1  Marketing\n",
       "2  Education"
      ]
     },
     "execution_count": 20,
     "metadata": {},
     "output_type": "execute_result"
    }
   ],
   "source": [
    "# NA 가 하나라도 포함된 열 제거\n",
    "df.dropna(axis=1)"
   ]
  },
  {
   "cell_type": "code",
   "execution_count": 21,
   "id": "9fa16896-b04a-4c22-9dff-b3b94c8b2d8e",
   "metadata": {},
   "outputs": [
    {
     "data": {
      "text/html": [
       "<div>\n",
       "<style scoped>\n",
       "    .dataframe tbody tr th:only-of-type {\n",
       "        vertical-align: middle;\n",
       "    }\n",
       "\n",
       "    .dataframe tbody tr th {\n",
       "        vertical-align: top;\n",
       "    }\n",
       "\n",
       "    .dataframe thead th {\n",
       "        text-align: right;\n",
       "    }\n",
       "</style>\n",
       "<table border=\"1\" class=\"dataframe\">\n",
       "  <thead>\n",
       "    <tr style=\"text-align: right;\">\n",
       "      <th></th>\n",
       "      <th>dept</th>\n",
       "      <th>english</th>\n",
       "      <th>japanese</th>\n",
       "      <th>chinese</th>\n",
       "    </tr>\n",
       "  </thead>\n",
       "  <tbody>\n",
       "  </tbody>\n",
       "</table>\n",
       "</div>"
      ],
      "text/plain": [
       "Empty DataFrame\n",
       "Columns: [dept, english, japanese, chinese]\n",
       "Index: []"
      ]
     },
     "execution_count": 21,
     "metadata": {},
     "output_type": "execute_result"
    }
   ],
   "source": [
    "# NA 가 하나라도 포함된 행 제거\n",
    "df.dropna()"
   ]
  },
  {
   "cell_type": "code",
   "execution_count": 22,
   "id": "eb5a1e95-6128-4074-891a-7f1dc0282067",
   "metadata": {},
   "outputs": [
    {
     "data": {
      "text/html": [
       "<div>\n",
       "<style scoped>\n",
       "    .dataframe tbody tr th:only-of-type {\n",
       "        vertical-align: middle;\n",
       "    }\n",
       "\n",
       "    .dataframe tbody tr th {\n",
       "        vertical-align: top;\n",
       "    }\n",
       "\n",
       "    .dataframe thead th {\n",
       "        text-align: right;\n",
       "    }\n",
       "</style>\n",
       "<table border=\"1\" class=\"dataframe\">\n",
       "  <thead>\n",
       "    <tr style=\"text-align: right;\">\n",
       "      <th></th>\n",
       "      <th>dept</th>\n",
       "      <th>english</th>\n",
       "      <th>japanese</th>\n",
       "    </tr>\n",
       "  </thead>\n",
       "  <tbody>\n",
       "    <tr>\n",
       "      <th>0</th>\n",
       "      <td>Education</td>\n",
       "      <td>1</td>\n",
       "      <td>1.0</td>\n",
       "    </tr>\n",
       "    <tr>\n",
       "      <th>1</th>\n",
       "      <td>Marketing</td>\n",
       "      <td>NaN</td>\n",
       "      <td>2.0</td>\n",
       "    </tr>\n",
       "    <tr>\n",
       "      <th>2</th>\n",
       "      <td>Education</td>\n",
       "      <td>1</td>\n",
       "      <td>NaN</td>\n",
       "    </tr>\n",
       "  </tbody>\n",
       "</table>\n",
       "</div>"
      ],
      "text/plain": [
       "        dept english  japanese\n",
       "0  Education       1       1.0\n",
       "1  Marketing     NaN       2.0\n",
       "2  Education       1       NaN"
      ]
     },
     "execution_count": 22,
     "metadata": {},
     "output_type": "execute_result"
    }
   ],
   "source": [
    "# 각 컬럼에 대해 모든 항이 NA 인 경우 제거\n",
    "df.dropna(axis=1, how='all')"
   ]
  },
  {
   "cell_type": "code",
   "execution_count": 23,
   "id": "dc89f9fe-f558-4b66-a02b-a9dd150c9ee1",
   "metadata": {},
   "outputs": [
    {
     "data": {
      "text/html": [
       "<div>\n",
       "<style scoped>\n",
       "    .dataframe tbody tr th:only-of-type {\n",
       "        vertical-align: middle;\n",
       "    }\n",
       "\n",
       "    .dataframe tbody tr th {\n",
       "        vertical-align: top;\n",
       "    }\n",
       "\n",
       "    .dataframe thead th {\n",
       "        text-align: right;\n",
       "    }\n",
       "</style>\n",
       "<table border=\"1\" class=\"dataframe\">\n",
       "  <thead>\n",
       "    <tr style=\"text-align: right;\">\n",
       "      <th></th>\n",
       "      <th>dept</th>\n",
       "      <th>english</th>\n",
       "      <th>japanese</th>\n",
       "      <th>chinese</th>\n",
       "    </tr>\n",
       "  </thead>\n",
       "  <tbody>\n",
       "    <tr>\n",
       "      <th>0</th>\n",
       "      <td>Education</td>\n",
       "      <td>1</td>\n",
       "      <td>1.0</td>\n",
       "      <td>NaN</td>\n",
       "    </tr>\n",
       "  </tbody>\n",
       "</table>\n",
       "</div>"
      ],
      "text/plain": [
       "        dept english  japanese chinese\n",
       "0  Education       1       1.0     NaN"
      ]
     },
     "execution_count": 23,
     "metadata": {},
     "output_type": "execute_result"
    }
   ],
   "source": [
    "# NA 가 아닌 값이 3개 이상인 행에 대해 제거 안 함\n",
    "df.dropna(thresh=3)"
   ]
  },
  {
   "cell_type": "code",
   "execution_count": 24,
   "id": "6cc79513-f0ba-4150-9d87-fa7f1e81c6c2",
   "metadata": {},
   "outputs": [
    {
     "data": {
      "text/html": [
       "<div>\n",
       "<style scoped>\n",
       "    .dataframe tbody tr th:only-of-type {\n",
       "        vertical-align: middle;\n",
       "    }\n",
       "\n",
       "    .dataframe tbody tr th {\n",
       "        vertical-align: top;\n",
       "    }\n",
       "\n",
       "    .dataframe thead th {\n",
       "        text-align: right;\n",
       "    }\n",
       "</style>\n",
       "<table border=\"1\" class=\"dataframe\">\n",
       "  <thead>\n",
       "    <tr style=\"text-align: right;\">\n",
       "      <th></th>\n",
       "      <th>dept</th>\n",
       "      <th>english</th>\n",
       "      <th>japanese</th>\n",
       "      <th>chinese</th>\n",
       "    </tr>\n",
       "  </thead>\n",
       "  <tbody>\n",
       "    <tr>\n",
       "      <th>0</th>\n",
       "      <td>Education</td>\n",
       "      <td>1</td>\n",
       "      <td>1.0</td>\n",
       "      <td>NaN</td>\n",
       "    </tr>\n",
       "  </tbody>\n",
       "</table>\n",
       "</div>"
      ],
      "text/plain": [
       "        dept english  japanese chinese\n",
       "0  Education       1       1.0     NaN"
      ]
     },
     "execution_count": 24,
     "metadata": {},
     "output_type": "execute_result"
    }
   ],
   "source": [
    "# dropna 의 기준을 english 와 japanese 로 제한하며, 1개라도 NA 가 있는 행을 제거\n",
    "df.dropna(how='any', subset=['english', 'japanese'])"
   ]
  },
  {
   "cell_type": "code",
   "execution_count": 25,
   "id": "7ac96409-1d36-4071-beea-9d8276638760",
   "metadata": {},
   "outputs": [
    {
     "data": {
      "text/html": [
       "<div>\n",
       "<style scoped>\n",
       "    .dataframe tbody tr th:only-of-type {\n",
       "        vertical-align: middle;\n",
       "    }\n",
       "\n",
       "    .dataframe tbody tr th {\n",
       "        vertical-align: top;\n",
       "    }\n",
       "\n",
       "    .dataframe thead th {\n",
       "        text-align: right;\n",
       "    }\n",
       "</style>\n",
       "<table border=\"1\" class=\"dataframe\">\n",
       "  <thead>\n",
       "    <tr style=\"text-align: right;\">\n",
       "      <th></th>\n",
       "      <th>dept</th>\n",
       "      <th>english</th>\n",
       "      <th>japanese</th>\n",
       "      <th>chinese</th>\n",
       "    </tr>\n",
       "  </thead>\n",
       "  <tbody>\n",
       "  </tbody>\n",
       "</table>\n",
       "</div>"
      ],
      "text/plain": [
       "Empty DataFrame\n",
       "Columns: [dept, english, japanese, chinese]\n",
       "Index: []"
      ]
     },
     "execution_count": 25,
     "metadata": {},
     "output_type": "execute_result"
    }
   ],
   "source": [
    "# 1개라도 NA 가 있는 행을 제거해서 df 자체를 수정\n",
    "df.dropna(inplace=True)\n",
    "df"
   ]
  },
  {
   "cell_type": "markdown",
   "id": "a1944bac-8e9d-465a-957d-58c352d2c56f",
   "metadata": {},
   "source": [
    "## NA 채우기"
   ]
  },
  {
   "cell_type": "markdown",
   "id": "9b6f0e8b-0962-4d21-a779-18ac0f8b9877",
   "metadata": {},
   "source": [
    "- `df.fillna(value=None, method=None, axis=None, inplace=False, limit=None, ...)`\n",
    "- NA value 를 value 또는 method 를 사용하여 변경한 DataFrame 객체 반환\n",
    "- value\n",
    "    + scalar, dit, Series, DataFrame\n",
    "    + NA values 를 대신할 값을 지정함\n",
    "    + dict, Series, DataFrame 을 사용해 행/열 별 채우기 값 별도 지정 가능\n",
    "- method\n",
    "    + {'backfill', 'bfill', 'pad', 'ffill', None}\n",
    "    + value= None 일 때, NA values 를 대신할 값 선정 방법을 지정함\n",
    "    + 'backfill', 'bfill' : [아래 -> 위]로 올라가면서 다음 발견되는 valid observation 으로 채움\n",
    "    + 'pad', 'ffill' : [위 -> 아래]로 내려가면서 이전에 발견된 valid observation 으로 채움\n",
    "- asis\n",
    "    + axis= 0 이거나 'index' : 행 방향으로 채우기 진행\n",
    "    + axis= 1 이거나 'columns' : 열 방향으로 채우기 진행    \n",
    "- inplace\n",
    "    + bool, True 인 경우 대상에 직접 반영하고, None 을 반환\n",
    "- limit\n",
    "    + NA values 를 다른 value 로 변경하는 동작의 최대 횟수"
   ]
  },
  {
   "cell_type": "code",
   "execution_count": 26,
   "id": "ab7bbff4-25ee-4a07-a423-6b060fae1416",
   "metadata": {},
   "outputs": [
    {
     "data": {
      "text/html": [
       "<div>\n",
       "<style scoped>\n",
       "    .dataframe tbody tr th:only-of-type {\n",
       "        vertical-align: middle;\n",
       "    }\n",
       "\n",
       "    .dataframe tbody tr th {\n",
       "        vertical-align: top;\n",
       "    }\n",
       "\n",
       "    .dataframe thead th {\n",
       "        text-align: right;\n",
       "    }\n",
       "</style>\n",
       "<table border=\"1\" class=\"dataframe\">\n",
       "  <thead>\n",
       "    <tr style=\"text-align: right;\">\n",
       "      <th></th>\n",
       "      <th>english</th>\n",
       "      <th>chinese</th>\n",
       "    </tr>\n",
       "  </thead>\n",
       "  <tbody>\n",
       "    <tr>\n",
       "      <th>0</th>\n",
       "      <td>1</td>\n",
       "      <td>2</td>\n",
       "    </tr>\n",
       "    <tr>\n",
       "      <th>1</th>\n",
       "      <td>NaN</td>\n",
       "      <td>3</td>\n",
       "    </tr>\n",
       "    <tr>\n",
       "      <th>2</th>\n",
       "      <td>1</td>\n",
       "      <td>NaN</td>\n",
       "    </tr>\n",
       "    <tr>\n",
       "      <th>3</th>\n",
       "      <td>NaN</td>\n",
       "      <td>3</td>\n",
       "    </tr>\n",
       "    <tr>\n",
       "      <th>4</th>\n",
       "      <td>NaN</td>\n",
       "      <td>NaN</td>\n",
       "    </tr>\n",
       "    <tr>\n",
       "      <th>5</th>\n",
       "      <td>NaN</td>\n",
       "      <td>1</td>\n",
       "    </tr>\n",
       "  </tbody>\n",
       "</table>\n",
       "</div>"
      ],
      "text/plain": [
       "  english chinese\n",
       "0       1       2\n",
       "1     NaN       3\n",
       "2       1     NaN\n",
       "3     NaN       3\n",
       "4     NaN     NaN\n",
       "5     NaN       1"
      ]
     },
     "execution_count": 26,
     "metadata": {},
     "output_type": "execute_result"
    }
   ],
   "source": [
    "df = pd.read_csv(\"./data/easySample2.csv\")\n",
    "df = df.replace(r'^\\s+$', np.nan, regex=True)\n",
    "\n",
    "# index 는 indexing 에 포함되지 않음\n",
    "df = df.iloc[:6, [4,6]]\n",
    "df.iloc[0,1] = 2\n",
    "df.iloc[1,1] = 3\n",
    "df"
   ]
  },
  {
   "cell_type": "code",
   "execution_count": 27,
   "id": "b698ad8b-14e5-455a-a825-ed3b8ccdd669",
   "metadata": {},
   "outputs": [
    {
     "data": {
      "text/html": [
       "<div>\n",
       "<style scoped>\n",
       "    .dataframe tbody tr th:only-of-type {\n",
       "        vertical-align: middle;\n",
       "    }\n",
       "\n",
       "    .dataframe tbody tr th {\n",
       "        vertical-align: top;\n",
       "    }\n",
       "\n",
       "    .dataframe thead th {\n",
       "        text-align: right;\n",
       "    }\n",
       "</style>\n",
       "<table border=\"1\" class=\"dataframe\">\n",
       "  <thead>\n",
       "    <tr style=\"text-align: right;\">\n",
       "      <th></th>\n",
       "      <th>english</th>\n",
       "      <th>chinese</th>\n",
       "    </tr>\n",
       "  </thead>\n",
       "  <tbody>\n",
       "    <tr>\n",
       "      <th>0</th>\n",
       "      <td>1</td>\n",
       "      <td>2</td>\n",
       "    </tr>\n",
       "    <tr>\n",
       "      <th>1</th>\n",
       "      <td>0</td>\n",
       "      <td>3</td>\n",
       "    </tr>\n",
       "    <tr>\n",
       "      <th>2</th>\n",
       "      <td>1</td>\n",
       "      <td>0</td>\n",
       "    </tr>\n",
       "    <tr>\n",
       "      <th>3</th>\n",
       "      <td>0</td>\n",
       "      <td>3</td>\n",
       "    </tr>\n",
       "    <tr>\n",
       "      <th>4</th>\n",
       "      <td>0</td>\n",
       "      <td>0</td>\n",
       "    </tr>\n",
       "    <tr>\n",
       "      <th>5</th>\n",
       "      <td>0</td>\n",
       "      <td>1</td>\n",
       "    </tr>\n",
       "  </tbody>\n",
       "</table>\n",
       "</div>"
      ],
      "text/plain": [
       "  english chinese\n",
       "0       1       2\n",
       "1       0       3\n",
       "2       1       0\n",
       "3       0       3\n",
       "4       0       0\n",
       "5       0       1"
      ]
     },
     "execution_count": 27,
     "metadata": {},
     "output_type": "execute_result"
    }
   ],
   "source": [
    "# 모든 NA 를 0 으로 채움\n",
    "df.fillna(value=0)"
   ]
  },
  {
   "cell_type": "code",
   "execution_count": 28,
   "id": "a6ebe6a6-46f5-48b1-b3fa-04ea84de62fa",
   "metadata": {},
   "outputs": [
    {
     "data": {
      "text/html": [
       "<div>\n",
       "<style scoped>\n",
       "    .dataframe tbody tr th:only-of-type {\n",
       "        vertical-align: middle;\n",
       "    }\n",
       "\n",
       "    .dataframe tbody tr th {\n",
       "        vertical-align: top;\n",
       "    }\n",
       "\n",
       "    .dataframe thead th {\n",
       "        text-align: right;\n",
       "    }\n",
       "</style>\n",
       "<table border=\"1\" class=\"dataframe\">\n",
       "  <thead>\n",
       "    <tr style=\"text-align: right;\">\n",
       "      <th></th>\n",
       "      <th>english</th>\n",
       "      <th>chinese</th>\n",
       "    </tr>\n",
       "  </thead>\n",
       "  <tbody>\n",
       "    <tr>\n",
       "      <th>0</th>\n",
       "      <td>1</td>\n",
       "      <td>2</td>\n",
       "    </tr>\n",
       "    <tr>\n",
       "      <th>1</th>\n",
       "      <td>-1</td>\n",
       "      <td>3</td>\n",
       "    </tr>\n",
       "    <tr>\n",
       "      <th>2</th>\n",
       "      <td>1</td>\n",
       "      <td>-2</td>\n",
       "    </tr>\n",
       "    <tr>\n",
       "      <th>3</th>\n",
       "      <td>-1</td>\n",
       "      <td>3</td>\n",
       "    </tr>\n",
       "    <tr>\n",
       "      <th>4</th>\n",
       "      <td>-1</td>\n",
       "      <td>-2</td>\n",
       "    </tr>\n",
       "    <tr>\n",
       "      <th>5</th>\n",
       "      <td>-1</td>\n",
       "      <td>1</td>\n",
       "    </tr>\n",
       "  </tbody>\n",
       "</table>\n",
       "</div>"
      ],
      "text/plain": [
       "  english chinese\n",
       "0       1       2\n",
       "1      -1       3\n",
       "2       1      -2\n",
       "3      -1       3\n",
       "4      -1      -2\n",
       "5      -1       1"
      ]
     },
     "execution_count": 28,
     "metadata": {},
     "output_type": "execute_result"
    }
   ],
   "source": [
    "# english 의 NA 는 -1, chinese 의 NA 는 -2 로 채움\n",
    "df.fillna(value={\"english\": -1, \"chinese\": -2})"
   ]
  },
  {
   "cell_type": "code",
   "execution_count": 29,
   "id": "f6951939-678c-45fa-8ac4-4b9229fe9337",
   "metadata": {},
   "outputs": [
    {
     "data": {
      "text/html": [
       "<div>\n",
       "<style scoped>\n",
       "    .dataframe tbody tr th:only-of-type {\n",
       "        vertical-align: middle;\n",
       "    }\n",
       "\n",
       "    .dataframe tbody tr th {\n",
       "        vertical-align: top;\n",
       "    }\n",
       "\n",
       "    .dataframe thead th {\n",
       "        text-align: right;\n",
       "    }\n",
       "</style>\n",
       "<table border=\"1\" class=\"dataframe\">\n",
       "  <thead>\n",
       "    <tr style=\"text-align: right;\">\n",
       "      <th></th>\n",
       "      <th>english</th>\n",
       "      <th>chinese</th>\n",
       "    </tr>\n",
       "  </thead>\n",
       "  <tbody>\n",
       "    <tr>\n",
       "      <th>0</th>\n",
       "      <td>1</td>\n",
       "      <td>2</td>\n",
       "    </tr>\n",
       "    <tr>\n",
       "      <th>1</th>\n",
       "      <td>1</td>\n",
       "      <td>3</td>\n",
       "    </tr>\n",
       "    <tr>\n",
       "      <th>2</th>\n",
       "      <td>1</td>\n",
       "      <td>3</td>\n",
       "    </tr>\n",
       "    <tr>\n",
       "      <th>3</th>\n",
       "      <td>1</td>\n",
       "      <td>3</td>\n",
       "    </tr>\n",
       "    <tr>\n",
       "      <th>4</th>\n",
       "      <td>1</td>\n",
       "      <td>3</td>\n",
       "    </tr>\n",
       "    <tr>\n",
       "      <th>5</th>\n",
       "      <td>NaN</td>\n",
       "      <td>1</td>\n",
       "    </tr>\n",
       "  </tbody>\n",
       "</table>\n",
       "</div>"
      ],
      "text/plain": [
       "  english chinese\n",
       "0       1       2\n",
       "1       1       3\n",
       "2       1       3\n",
       "3       1       3\n",
       "4       1       3\n",
       "5     NaN       1"
      ]
     },
     "execution_count": 29,
     "metadata": {},
     "output_type": "execute_result"
    }
   ],
   "source": [
    "# NA 를 채울 때 이전에 발견된 값으로 채우는데 2개까지만 채움\n",
    "df.fillna(method='ffill', limit=2)"
   ]
  },
  {
   "cell_type": "code",
   "execution_count": 30,
   "id": "25035440-0c22-4bd2-9a11-d0f30a7c74cd",
   "metadata": {},
   "outputs": [
    {
     "data": {
      "text/html": [
       "<div>\n",
       "<style scoped>\n",
       "    .dataframe tbody tr th:only-of-type {\n",
       "        vertical-align: middle;\n",
       "    }\n",
       "\n",
       "    .dataframe tbody tr th {\n",
       "        vertical-align: top;\n",
       "    }\n",
       "\n",
       "    .dataframe thead th {\n",
       "        text-align: right;\n",
       "    }\n",
       "</style>\n",
       "<table border=\"1\" class=\"dataframe\">\n",
       "  <thead>\n",
       "    <tr style=\"text-align: right;\">\n",
       "      <th></th>\n",
       "      <th>english</th>\n",
       "      <th>chinese</th>\n",
       "    </tr>\n",
       "  </thead>\n",
       "  <tbody>\n",
       "    <tr>\n",
       "      <th>0</th>\n",
       "      <td>1</td>\n",
       "      <td>2</td>\n",
       "    </tr>\n",
       "    <tr>\n",
       "      <th>1</th>\n",
       "      <td>1</td>\n",
       "      <td>3</td>\n",
       "    </tr>\n",
       "    <tr>\n",
       "      <th>2</th>\n",
       "      <td>1</td>\n",
       "      <td>3</td>\n",
       "    </tr>\n",
       "    <tr>\n",
       "      <th>3</th>\n",
       "      <td>NaN</td>\n",
       "      <td>3</td>\n",
       "    </tr>\n",
       "    <tr>\n",
       "      <th>4</th>\n",
       "      <td>NaN</td>\n",
       "      <td>1</td>\n",
       "    </tr>\n",
       "    <tr>\n",
       "      <th>5</th>\n",
       "      <td>NaN</td>\n",
       "      <td>1</td>\n",
       "    </tr>\n",
       "  </tbody>\n",
       "</table>\n",
       "</div>"
      ],
      "text/plain": [
       "  english chinese\n",
       "0       1       2\n",
       "1       1       3\n",
       "2       1       3\n",
       "3     NaN       3\n",
       "4     NaN       1\n",
       "5     NaN       1"
      ]
     },
     "execution_count": 30,
     "metadata": {},
     "output_type": "execute_result"
    }
   ],
   "source": [
    "# NA를 채울 때 다음 발견되는 값으로 채움\n",
    "df.fillna(method='backfill')"
   ]
  },
  {
   "cell_type": "markdown",
   "id": "453d27a9-0347-49d2-9a82-0a129bdc7dc3",
   "metadata": {},
   "source": [
    "## Value 대체"
   ]
  },
  {
   "cell_type": "markdown",
   "id": "9c942285-5d4e-4bd5-b206-a54c4d4c8b13",
   "metadata": {},
   "source": [
    "- `df.replace(to_replace, value=None, inplace=False, limit=None, regex=False, ...)`\n",
    "- to_replace 로 주어진 대상이 value 로 주어진 값으로 변경된 DataFrame 객체\n",
    "- to_replace\n",
    "    + str, regex, list, dict, Series, int, float, None\n",
    "    + value 로 대체될 값들을 찾는 방법\n",
    "    + API 에서 상세 설명 참조\n",
    "      https://pandas.pydata.org/docs/reference/api/pandas.DataFrame.replace.html#pandas-dataframe-replace\n",
    "- value\n",
    "    + scalar, dict, list, str, regex, default None\n",
    "    + to_replace 에 매칭되는 값을 대체할 값을 지정\n",
    "    + dict 을 사요하여 열 별 채우기 값을 별도 지정 가능\n",
    "- inplace\n",
    "    + bool, True 인 경우 대상에 직접 반영하고, None 을 반환\n",
    "- limit\n",
    "    + NA values 를 다른 value 로 변경하는 동작의 최대 횟수\n",
    "- regex\n",
    "    + bool or same types as to_replace\n",
    "    + True 설정 시 to_replace 및 value 의 정규식 사용 가능\n",
    "    + to_replace 는 str 을 사용해야 함"
   ]
  },
  {
   "cell_type": "code",
   "execution_count": 31,
   "id": "f239252d-495e-4702-a29c-a604a8f812fe",
   "metadata": {},
   "outputs": [
    {
     "data": {
      "text/html": [
       "<div>\n",
       "<style scoped>\n",
       "    .dataframe tbody tr th:only-of-type {\n",
       "        vertical-align: middle;\n",
       "    }\n",
       "\n",
       "    .dataframe tbody tr th {\n",
       "        vertical-align: top;\n",
       "    }\n",
       "\n",
       "    .dataframe thead th {\n",
       "        text-align: right;\n",
       "    }\n",
       "</style>\n",
       "<table border=\"1\" class=\"dataframe\">\n",
       "  <thead>\n",
       "    <tr style=\"text-align: right;\">\n",
       "      <th></th>\n",
       "      <th>dept</th>\n",
       "    </tr>\n",
       "  </thead>\n",
       "  <tbody>\n",
       "    <tr>\n",
       "      <th>0</th>\n",
       "      <td>Education</td>\n",
       "    </tr>\n",
       "    <tr>\n",
       "      <th>1</th>\n",
       "      <td>Marketing</td>\n",
       "    </tr>\n",
       "    <tr>\n",
       "      <th>2</th>\n",
       "      <td>Education</td>\n",
       "    </tr>\n",
       "    <tr>\n",
       "      <th>3</th>\n",
       "      <td>Education</td>\n",
       "    </tr>\n",
       "    <tr>\n",
       "      <th>4</th>\n",
       "      <td>Marketing</td>\n",
       "    </tr>\n",
       "    <tr>\n",
       "      <th>5</th>\n",
       "      <td>Education</td>\n",
       "    </tr>\n",
       "    <tr>\n",
       "      <th>6</th>\n",
       "      <td>Accounting</td>\n",
       "    </tr>\n",
       "    <tr>\n",
       "      <th>7</th>\n",
       "      <td>Sales</td>\n",
       "    </tr>\n",
       "    <tr>\n",
       "      <th>8</th>\n",
       "      <td>Sales</td>\n",
       "    </tr>\n",
       "    <tr>\n",
       "      <th>9</th>\n",
       "      <td>Education</td>\n",
       "    </tr>\n",
       "  </tbody>\n",
       "</table>\n",
       "</div>"
      ],
      "text/plain": [
       "         dept\n",
       "0   Education\n",
       "1   Marketing\n",
       "2   Education\n",
       "3   Education\n",
       "4   Marketing\n",
       "5   Education\n",
       "6  Accounting\n",
       "7       Sales\n",
       "8       Sales\n",
       "9   Education"
      ]
     },
     "execution_count": 31,
     "metadata": {},
     "output_type": "execute_result"
    }
   ],
   "source": [
    "df = pd.read_csv(\"./data/easySample2.csv\")\n",
    "df = df.replace(r'^\\s+$', np.nan, regex=True)\n",
    "df = df[['dept']]\n",
    "df"
   ]
  },
  {
   "cell_type": "code",
   "execution_count": 32,
   "id": "e8c47d53-1bb1-49ae-bbb4-8150f6c189bb",
   "metadata": {},
   "outputs": [
    {
     "data": {
      "text/html": [
       "<div>\n",
       "<style scoped>\n",
       "    .dataframe tbody tr th:only-of-type {\n",
       "        vertical-align: middle;\n",
       "    }\n",
       "\n",
       "    .dataframe tbody tr th {\n",
       "        vertical-align: top;\n",
       "    }\n",
       "\n",
       "    .dataframe thead th {\n",
       "        text-align: right;\n",
       "    }\n",
       "</style>\n",
       "<table border=\"1\" class=\"dataframe\">\n",
       "  <thead>\n",
       "    <tr style=\"text-align: right;\">\n",
       "      <th></th>\n",
       "      <th>dept</th>\n",
       "    </tr>\n",
       "  </thead>\n",
       "  <tbody>\n",
       "    <tr>\n",
       "      <th>0</th>\n",
       "      <td>E</td>\n",
       "    </tr>\n",
       "    <tr>\n",
       "      <th>1</th>\n",
       "      <td>Marketing</td>\n",
       "    </tr>\n",
       "    <tr>\n",
       "      <th>2</th>\n",
       "      <td>E</td>\n",
       "    </tr>\n",
       "    <tr>\n",
       "      <th>3</th>\n",
       "      <td>E</td>\n",
       "    </tr>\n",
       "    <tr>\n",
       "      <th>4</th>\n",
       "      <td>Marketing</td>\n",
       "    </tr>\n",
       "    <tr>\n",
       "      <th>5</th>\n",
       "      <td>E</td>\n",
       "    </tr>\n",
       "    <tr>\n",
       "      <th>6</th>\n",
       "      <td>Accounting</td>\n",
       "    </tr>\n",
       "    <tr>\n",
       "      <th>7</th>\n",
       "      <td>Sales</td>\n",
       "    </tr>\n",
       "    <tr>\n",
       "      <th>8</th>\n",
       "      <td>Sales</td>\n",
       "    </tr>\n",
       "    <tr>\n",
       "      <th>9</th>\n",
       "      <td>E</td>\n",
       "    </tr>\n",
       "  </tbody>\n",
       "</table>\n",
       "</div>"
      ],
      "text/plain": [
       "         dept\n",
       "0           E\n",
       "1   Marketing\n",
       "2           E\n",
       "3           E\n",
       "4   Marketing\n",
       "5           E\n",
       "6  Accounting\n",
       "7       Sales\n",
       "8       Sales\n",
       "9           E"
      ]
     },
     "execution_count": 32,
     "metadata": {},
     "output_type": "execute_result"
    }
   ],
   "source": [
    "# Education 을 E 로 변경\n",
    "df.replace('Education', value='E')"
   ]
  },
  {
   "cell_type": "code",
   "execution_count": 33,
   "id": "b49ee5e8-6d1b-41e2-b382-85c04617b0c8",
   "metadata": {},
   "outputs": [
    {
     "data": {
      "text/html": [
       "<div>\n",
       "<style scoped>\n",
       "    .dataframe tbody tr th:only-of-type {\n",
       "        vertical-align: middle;\n",
       "    }\n",
       "\n",
       "    .dataframe tbody tr th {\n",
       "        vertical-align: top;\n",
       "    }\n",
       "\n",
       "    .dataframe thead th {\n",
       "        text-align: right;\n",
       "    }\n",
       "</style>\n",
       "<table border=\"1\" class=\"dataframe\">\n",
       "  <thead>\n",
       "    <tr style=\"text-align: right;\">\n",
       "      <th></th>\n",
       "      <th>dept</th>\n",
       "    </tr>\n",
       "  </thead>\n",
       "  <tbody>\n",
       "    <tr>\n",
       "      <th>0</th>\n",
       "      <td>E</td>\n",
       "    </tr>\n",
       "    <tr>\n",
       "      <th>1</th>\n",
       "      <td>M</td>\n",
       "    </tr>\n",
       "    <tr>\n",
       "      <th>2</th>\n",
       "      <td>E</td>\n",
       "    </tr>\n",
       "    <tr>\n",
       "      <th>3</th>\n",
       "      <td>E</td>\n",
       "    </tr>\n",
       "    <tr>\n",
       "      <th>4</th>\n",
       "      <td>M</td>\n",
       "    </tr>\n",
       "    <tr>\n",
       "      <th>5</th>\n",
       "      <td>E</td>\n",
       "    </tr>\n",
       "    <tr>\n",
       "      <th>6</th>\n",
       "      <td>A</td>\n",
       "    </tr>\n",
       "    <tr>\n",
       "      <th>7</th>\n",
       "      <td>S</td>\n",
       "    </tr>\n",
       "    <tr>\n",
       "      <th>8</th>\n",
       "      <td>S</td>\n",
       "    </tr>\n",
       "    <tr>\n",
       "      <th>9</th>\n",
       "      <td>E</td>\n",
       "    </tr>\n",
       "  </tbody>\n",
       "</table>\n",
       "</div>"
      ],
      "text/plain": [
       "  dept\n",
       "0    E\n",
       "1    M\n",
       "2    E\n",
       "3    E\n",
       "4    M\n",
       "5    E\n",
       "6    A\n",
       "7    S\n",
       "8    S\n",
       "9    E"
      ]
     },
     "execution_count": 33,
     "metadata": {},
     "output_type": "execute_result"
    }
   ],
   "source": [
    "# Education, Marketing, Sales, Accounting 을 각각 E, M, S, A 로 변경\n",
    "df.replace(to_replace=['Education', 'Marketing', 'Sales', 'Accounting'], \n",
    "           value=['E', 'M', 'S', 'A'])"
   ]
  },
  {
   "cell_type": "code",
   "execution_count": 34,
   "id": "6fec5fcb-59a1-4ff2-8eb0-a6268c52bb0f",
   "metadata": {},
   "outputs": [
    {
     "data": {
      "text/html": [
       "<div>\n",
       "<style scoped>\n",
       "    .dataframe tbody tr th:only-of-type {\n",
       "        vertical-align: middle;\n",
       "    }\n",
       "\n",
       "    .dataframe tbody tr th {\n",
       "        vertical-align: top;\n",
       "    }\n",
       "\n",
       "    .dataframe thead th {\n",
       "        text-align: right;\n",
       "    }\n",
       "</style>\n",
       "<table border=\"1\" class=\"dataframe\">\n",
       "  <thead>\n",
       "    <tr style=\"text-align: right;\">\n",
       "      <th></th>\n",
       "      <th>dept</th>\n",
       "    </tr>\n",
       "  </thead>\n",
       "  <tbody>\n",
       "    <tr>\n",
       "      <th>0</th>\n",
       "      <td>E</td>\n",
       "    </tr>\n",
       "    <tr>\n",
       "      <th>1</th>\n",
       "      <td>M</td>\n",
       "    </tr>\n",
       "    <tr>\n",
       "      <th>2</th>\n",
       "      <td>E</td>\n",
       "    </tr>\n",
       "    <tr>\n",
       "      <th>3</th>\n",
       "      <td>E</td>\n",
       "    </tr>\n",
       "    <tr>\n",
       "      <th>4</th>\n",
       "      <td>M</td>\n",
       "    </tr>\n",
       "    <tr>\n",
       "      <th>5</th>\n",
       "      <td>E</td>\n",
       "    </tr>\n",
       "    <tr>\n",
       "      <th>6</th>\n",
       "      <td>A</td>\n",
       "    </tr>\n",
       "    <tr>\n",
       "      <th>7</th>\n",
       "      <td>S</td>\n",
       "    </tr>\n",
       "    <tr>\n",
       "      <th>8</th>\n",
       "      <td>S</td>\n",
       "    </tr>\n",
       "    <tr>\n",
       "      <th>9</th>\n",
       "      <td>E</td>\n",
       "    </tr>\n",
       "  </tbody>\n",
       "</table>\n",
       "</div>"
      ],
      "text/plain": [
       "  dept\n",
       "0    E\n",
       "1    M\n",
       "2    E\n",
       "3    E\n",
       "4    M\n",
       "5    E\n",
       "6    A\n",
       "7    S\n",
       "8    S\n",
       "9    E"
      ]
     },
     "execution_count": 34,
     "metadata": {},
     "output_type": "execute_result"
    }
   ],
   "source": [
    "temp = df['dept'].unique()\n",
    "v = [ x[0] for x in temp ]\n",
    "df.replace(temp, v)"
   ]
  },
  {
   "cell_type": "code",
   "execution_count": 35,
   "id": "8508d8da-8f5a-444c-8bda-f203296f4cc7",
   "metadata": {},
   "outputs": [
    {
     "data": {
      "text/html": [
       "<div>\n",
       "<style scoped>\n",
       "    .dataframe tbody tr th:only-of-type {\n",
       "        vertical-align: middle;\n",
       "    }\n",
       "\n",
       "    .dataframe tbody tr th {\n",
       "        vertical-align: top;\n",
       "    }\n",
       "\n",
       "    .dataframe thead th {\n",
       "        text-align: right;\n",
       "    }\n",
       "</style>\n",
       "<table border=\"1\" class=\"dataframe\">\n",
       "  <thead>\n",
       "    <tr style=\"text-align: right;\">\n",
       "      <th></th>\n",
       "      <th>dept</th>\n",
       "    </tr>\n",
       "  </thead>\n",
       "  <tbody>\n",
       "    <tr>\n",
       "      <th>0</th>\n",
       "      <td>E</td>\n",
       "    </tr>\n",
       "    <tr>\n",
       "      <th>1</th>\n",
       "      <td>M</td>\n",
       "    </tr>\n",
       "    <tr>\n",
       "      <th>2</th>\n",
       "      <td>E</td>\n",
       "    </tr>\n",
       "    <tr>\n",
       "      <th>3</th>\n",
       "      <td>E</td>\n",
       "    </tr>\n",
       "    <tr>\n",
       "      <th>4</th>\n",
       "      <td>M</td>\n",
       "    </tr>\n",
       "    <tr>\n",
       "      <th>5</th>\n",
       "      <td>E</td>\n",
       "    </tr>\n",
       "    <tr>\n",
       "      <th>6</th>\n",
       "      <td>A</td>\n",
       "    </tr>\n",
       "    <tr>\n",
       "      <th>7</th>\n",
       "      <td>S</td>\n",
       "    </tr>\n",
       "    <tr>\n",
       "      <th>8</th>\n",
       "      <td>S</td>\n",
       "    </tr>\n",
       "    <tr>\n",
       "      <th>9</th>\n",
       "      <td>E</td>\n",
       "    </tr>\n",
       "  </tbody>\n",
       "</table>\n",
       "</div>"
      ],
      "text/plain": [
       "  dept\n",
       "0    E\n",
       "1    M\n",
       "2    E\n",
       "3    E\n",
       "4    M\n",
       "5    E\n",
       "6    A\n",
       "7    S\n",
       "8    S\n",
       "9    E"
      ]
     },
     "execution_count": 35,
     "metadata": {},
     "output_type": "execute_result"
    }
   ],
   "source": [
    "# Education, Marketing, Sales, Accounting 을 각각 0,1,2,3 로 변경\n",
    "df.replace(to_replace=['Education', 'Marketing', 'Sales', 'Accounting'], \n",
    "           value=['E', 'M', 'S', 'A'])"
   ]
  },
  {
   "cell_type": "code",
   "execution_count": 36,
   "id": "a45b8f4b-65fd-48b8-9aef-9bef7aa9be13",
   "metadata": {},
   "outputs": [
    {
     "data": {
      "text/html": [
       "<div>\n",
       "<style scoped>\n",
       "    .dataframe tbody tr th:only-of-type {\n",
       "        vertical-align: middle;\n",
       "    }\n",
       "\n",
       "    .dataframe tbody tr th {\n",
       "        vertical-align: top;\n",
       "    }\n",
       "\n",
       "    .dataframe thead th {\n",
       "        text-align: right;\n",
       "    }\n",
       "</style>\n",
       "<table border=\"1\" class=\"dataframe\">\n",
       "  <thead>\n",
       "    <tr style=\"text-align: right;\">\n",
       "      <th></th>\n",
       "      <th>dept</th>\n",
       "    </tr>\n",
       "  </thead>\n",
       "  <tbody>\n",
       "    <tr>\n",
       "      <th>0</th>\n",
       "      <td>0</td>\n",
       "    </tr>\n",
       "    <tr>\n",
       "      <th>1</th>\n",
       "      <td>1</td>\n",
       "    </tr>\n",
       "    <tr>\n",
       "      <th>2</th>\n",
       "      <td>0</td>\n",
       "    </tr>\n",
       "    <tr>\n",
       "      <th>3</th>\n",
       "      <td>0</td>\n",
       "    </tr>\n",
       "    <tr>\n",
       "      <th>4</th>\n",
       "      <td>1</td>\n",
       "    </tr>\n",
       "    <tr>\n",
       "      <th>5</th>\n",
       "      <td>0</td>\n",
       "    </tr>\n",
       "    <tr>\n",
       "      <th>6</th>\n",
       "      <td>3</td>\n",
       "    </tr>\n",
       "    <tr>\n",
       "      <th>7</th>\n",
       "      <td>2</td>\n",
       "    </tr>\n",
       "    <tr>\n",
       "      <th>8</th>\n",
       "      <td>2</td>\n",
       "    </tr>\n",
       "    <tr>\n",
       "      <th>9</th>\n",
       "      <td>0</td>\n",
       "    </tr>\n",
       "  </tbody>\n",
       "</table>\n",
       "</div>"
      ],
      "text/plain": [
       "   dept\n",
       "0     0\n",
       "1     1\n",
       "2     0\n",
       "3     0\n",
       "4     1\n",
       "5     0\n",
       "6     3\n",
       "7     2\n",
       "8     2\n",
       "9     0"
      ]
     },
     "execution_count": 36,
     "metadata": {},
     "output_type": "execute_result"
    }
   ],
   "source": [
    "# dictionary 사용 시 { to_replace: value } 구조\n",
    "df.replace({'Education': 0, 'Marketing': 1, 'Sales': 2, 'Accounting': 3})"
   ]
  },
  {
   "cell_type": "code",
   "execution_count": 37,
   "id": "e63f0b21-162c-4c50-b63f-e1c8fe8e8699",
   "metadata": {},
   "outputs": [
    {
     "data": {
      "text/html": [
       "<div>\n",
       "<style scoped>\n",
       "    .dataframe tbody tr th:only-of-type {\n",
       "        vertical-align: middle;\n",
       "    }\n",
       "\n",
       "    .dataframe tbody tr th {\n",
       "        vertical-align: top;\n",
       "    }\n",
       "\n",
       "    .dataframe thead th {\n",
       "        text-align: right;\n",
       "    }\n",
       "</style>\n",
       "<table border=\"1\" class=\"dataframe\">\n",
       "  <thead>\n",
       "    <tr style=\"text-align: right;\">\n",
       "      <th></th>\n",
       "      <th>dept</th>\n",
       "    </tr>\n",
       "  </thead>\n",
       "  <tbody>\n",
       "    <tr>\n",
       "      <th>0</th>\n",
       "      <td>0</td>\n",
       "    </tr>\n",
       "    <tr>\n",
       "      <th>1</th>\n",
       "      <td>1</td>\n",
       "    </tr>\n",
       "    <tr>\n",
       "      <th>2</th>\n",
       "      <td>0</td>\n",
       "    </tr>\n",
       "    <tr>\n",
       "      <th>3</th>\n",
       "      <td>0</td>\n",
       "    </tr>\n",
       "    <tr>\n",
       "      <th>4</th>\n",
       "      <td>1</td>\n",
       "    </tr>\n",
       "    <tr>\n",
       "      <th>5</th>\n",
       "      <td>0</td>\n",
       "    </tr>\n",
       "    <tr>\n",
       "      <th>6</th>\n",
       "      <td>2</td>\n",
       "    </tr>\n",
       "    <tr>\n",
       "      <th>7</th>\n",
       "      <td>3</td>\n",
       "    </tr>\n",
       "    <tr>\n",
       "      <th>8</th>\n",
       "      <td>3</td>\n",
       "    </tr>\n",
       "    <tr>\n",
       "      <th>9</th>\n",
       "      <td>0</td>\n",
       "    </tr>\n",
       "  </tbody>\n",
       "</table>\n",
       "</div>"
      ],
      "text/plain": [
       "   dept\n",
       "0     0\n",
       "1     1\n",
       "2     0\n",
       "3     0\n",
       "4     1\n",
       "5     0\n",
       "6     2\n",
       "7     3\n",
       "8     3\n",
       "9     0"
      ]
     },
     "execution_count": 37,
     "metadata": {},
     "output_type": "execute_result"
    }
   ],
   "source": [
    "# Series 사용 시 to_replace 가 index 인 구조\n",
    "dept_list = df['dept'].unique()\n",
    "value_list = np.array(range(len(dept_list)))\n",
    "s1 = pd.Series(value_list, index=dept_list)\n",
    "\n",
    "df.replace(s1)"
   ]
  },
  {
   "cell_type": "markdown",
   "id": "c6a61197-12d8-4b64-8068-6ed5056a5069",
   "metadata": {},
   "source": [
    "# DataFrame 합치기"
   ]
  },
  {
   "cell_type": "markdown",
   "id": "b9a43c98-6930-4db5-9316-90b0c3045e46",
   "metadata": {
    "tags": []
   },
   "source": [
    "## pd.concat"
   ]
  },
  {
   "cell_type": "markdown",
   "id": "a7079adb-abf2-4c2e-b55e-314280fe6c75",
   "metadata": {},
   "source": [
    "- 여러 개의 데이터프레임 하나로 합치기\n",
    "- `pd.concat(objs, axis=0, join='outer', ignore_index=False, verify_integrity=False, ...)`\n",
    "- index 를 기준으로 행/열 방향으로 DataFrame 을 병합\n",
    "- objs : a sequence or mapping of Series or DataFrame objects\n",
    "- axis : 0 or 'index' -> 행 방향, 1 or 'columns' -> 열 방향 \n",
    "- join : {'outer', 'inner'}, 매치되는 index/columns 없을 때의 동작\n",
    "    + outer : NaN 채우기\n",
    "    + inner : 삭제하기\n",
    "- ignore_index : index 를 무시하고 RangeIndex 로 변경\n",
    "- verify_integrity : True -> 중복 데이터 있으면 오류 발생\n",
    "- https://pandas.pydata.org/docs/reference/api/pandas.concat.html#pandas-concat"
   ]
  },
  {
   "cell_type": "code",
   "execution_count": 38,
   "id": "be9542da-a1d5-4438-b2b3-797242f23ead",
   "metadata": {},
   "outputs": [],
   "source": [
    "import pandas as pd\n",
    "import numpy as np"
   ]
  },
  {
   "cell_type": "code",
   "execution_count": 39,
   "id": "e54e7033-403b-42e0-ac2b-b4383322ef6a",
   "metadata": {},
   "outputs": [
    {
     "data": {
      "text/html": [
       "<div>\n",
       "<style scoped>\n",
       "    .dataframe tbody tr th:only-of-type {\n",
       "        vertical-align: middle;\n",
       "    }\n",
       "\n",
       "    .dataframe tbody tr th {\n",
       "        vertical-align: top;\n",
       "    }\n",
       "\n",
       "    .dataframe thead th {\n",
       "        text-align: right;\n",
       "    }\n",
       "</style>\n",
       "<table border=\"1\" class=\"dataframe\">\n",
       "  <thead>\n",
       "    <tr style=\"text-align: right;\">\n",
       "      <th></th>\n",
       "      <th>A</th>\n",
       "      <th>B</th>\n",
       "    </tr>\n",
       "  </thead>\n",
       "  <tbody>\n",
       "    <tr>\n",
       "      <th>a</th>\n",
       "      <td>1</td>\n",
       "      <td>o</td>\n",
       "    </tr>\n",
       "    <tr>\n",
       "      <th>b</th>\n",
       "      <td>2</td>\n",
       "      <td>p</td>\n",
       "    </tr>\n",
       "    <tr>\n",
       "      <th>c</th>\n",
       "      <td>3</td>\n",
       "      <td>q</td>\n",
       "    </tr>\n",
       "    <tr>\n",
       "      <th>d</th>\n",
       "      <td>4</td>\n",
       "      <td>r</td>\n",
       "    </tr>\n",
       "  </tbody>\n",
       "</table>\n",
       "</div>"
      ],
      "text/plain": [
       "   A  B\n",
       "a  1  o\n",
       "b  2  p\n",
       "c  3  q\n",
       "d  4  r"
      ]
     },
     "metadata": {},
     "output_type": "display_data"
    },
    {
     "data": {
      "text/html": [
       "<div>\n",
       "<style scoped>\n",
       "    .dataframe tbody tr th:only-of-type {\n",
       "        vertical-align: middle;\n",
       "    }\n",
       "\n",
       "    .dataframe tbody tr th {\n",
       "        vertical-align: top;\n",
       "    }\n",
       "\n",
       "    .dataframe thead th {\n",
       "        text-align: right;\n",
       "    }\n",
       "</style>\n",
       "<table border=\"1\" class=\"dataframe\">\n",
       "  <thead>\n",
       "    <tr style=\"text-align: right;\">\n",
       "      <th></th>\n",
       "      <th>A</th>\n",
       "      <th>B</th>\n",
       "    </tr>\n",
       "  </thead>\n",
       "  <tbody>\n",
       "    <tr>\n",
       "      <th>e</th>\n",
       "      <td>5</td>\n",
       "      <td>s</td>\n",
       "    </tr>\n",
       "    <tr>\n",
       "      <th>f</th>\n",
       "      <td>6</td>\n",
       "      <td>t</td>\n",
       "    </tr>\n",
       "    <tr>\n",
       "      <th>g</th>\n",
       "      <td>7</td>\n",
       "      <td>u</td>\n",
       "    </tr>\n",
       "  </tbody>\n",
       "</table>\n",
       "</div>"
      ],
      "text/plain": [
       "   A  B\n",
       "e  5  s\n",
       "f  6  t\n",
       "g  7  u"
      ]
     },
     "metadata": {},
     "output_type": "display_data"
    },
    {
     "data": {
      "text/html": [
       "<div>\n",
       "<style scoped>\n",
       "    .dataframe tbody tr th:only-of-type {\n",
       "        vertical-align: middle;\n",
       "    }\n",
       "\n",
       "    .dataframe tbody tr th {\n",
       "        vertical-align: top;\n",
       "    }\n",
       "\n",
       "    .dataframe thead th {\n",
       "        text-align: right;\n",
       "    }\n",
       "</style>\n",
       "<table border=\"1\" class=\"dataframe\">\n",
       "  <thead>\n",
       "    <tr style=\"text-align: right;\">\n",
       "      <th></th>\n",
       "      <th>C</th>\n",
       "      <th>D</th>\n",
       "    </tr>\n",
       "  </thead>\n",
       "  <tbody>\n",
       "    <tr>\n",
       "      <th>a</th>\n",
       "      <td>10</td>\n",
       "      <td>Q</td>\n",
       "    </tr>\n",
       "    <tr>\n",
       "      <th>b</th>\n",
       "      <td>20</td>\n",
       "      <td>X</td>\n",
       "    </tr>\n",
       "    <tr>\n",
       "      <th>c</th>\n",
       "      <td>15</td>\n",
       "      <td>Y</td>\n",
       "    </tr>\n",
       "    <tr>\n",
       "      <th>d</th>\n",
       "      <td>40</td>\n",
       "      <td>Z</td>\n",
       "    </tr>\n",
       "  </tbody>\n",
       "</table>\n",
       "</div>"
      ],
      "text/plain": [
       "    C  D\n",
       "a  10  Q\n",
       "b  20  X\n",
       "c  15  Y\n",
       "d  40  Z"
      ]
     },
     "metadata": {},
     "output_type": "display_data"
    },
    {
     "data": {
      "text/html": [
       "<div>\n",
       "<style scoped>\n",
       "    .dataframe tbody tr th:only-of-type {\n",
       "        vertical-align: middle;\n",
       "    }\n",
       "\n",
       "    .dataframe tbody tr th {\n",
       "        vertical-align: top;\n",
       "    }\n",
       "\n",
       "    .dataframe thead th {\n",
       "        text-align: right;\n",
       "    }\n",
       "</style>\n",
       "<table border=\"1\" class=\"dataframe\">\n",
       "  <thead>\n",
       "    <tr style=\"text-align: right;\">\n",
       "      <th></th>\n",
       "      <th>A</th>\n",
       "      <th>B</th>\n",
       "    </tr>\n",
       "  </thead>\n",
       "  <tbody>\n",
       "    <tr>\n",
       "      <th>a</th>\n",
       "      <td>1</td>\n",
       "      <td>x</td>\n",
       "    </tr>\n",
       "    <tr>\n",
       "      <th>b</th>\n",
       "      <td>20</td>\n",
       "      <td>y</td>\n",
       "    </tr>\n",
       "    <tr>\n",
       "      <th>c</th>\n",
       "      <td>15</td>\n",
       "      <td>z</td>\n",
       "    </tr>\n",
       "  </tbody>\n",
       "</table>\n",
       "</div>"
      ],
      "text/plain": [
       "    A  B\n",
       "a   1  x\n",
       "b  20  y\n",
       "c  15  z"
      ]
     },
     "metadata": {},
     "output_type": "display_data"
    }
   ],
   "source": [
    "df1 = pd.DataFrame({'A': np.arange(1, 5), 'B': list('opqr')}, index=list('abcd'))\n",
    "df2 = pd.DataFrame({'A': [5, 6, 7], 'B': list('stu')}, index=list('efg'))\n",
    "df3 = pd.DataFrame({'C': [10, 20, 15, 40], 'D': list('QXYZ')}, index=list('abcd'))\n",
    "df4 = pd.DataFrame({'A': [1, 20, 15], 'B': list('xyz')}, index=list('abc'))\n",
    "\n",
    "display(df1, df2, df3, df4)"
   ]
  },
  {
   "cell_type": "code",
   "execution_count": 40,
   "id": "68ea4589-8174-4f9c-92f4-9ec9cea31822",
   "metadata": {},
   "outputs": [
    {
     "data": {
      "text/html": [
       "<div>\n",
       "<style scoped>\n",
       "    .dataframe tbody tr th:only-of-type {\n",
       "        vertical-align: middle;\n",
       "    }\n",
       "\n",
       "    .dataframe tbody tr th {\n",
       "        vertical-align: top;\n",
       "    }\n",
       "\n",
       "    .dataframe thead th {\n",
       "        text-align: right;\n",
       "    }\n",
       "</style>\n",
       "<table border=\"1\" class=\"dataframe\">\n",
       "  <thead>\n",
       "    <tr style=\"text-align: right;\">\n",
       "      <th></th>\n",
       "      <th>A</th>\n",
       "      <th>B</th>\n",
       "    </tr>\n",
       "  </thead>\n",
       "  <tbody>\n",
       "    <tr>\n",
       "      <th>a</th>\n",
       "      <td>1</td>\n",
       "      <td>o</td>\n",
       "    </tr>\n",
       "    <tr>\n",
       "      <th>b</th>\n",
       "      <td>2</td>\n",
       "      <td>p</td>\n",
       "    </tr>\n",
       "    <tr>\n",
       "      <th>c</th>\n",
       "      <td>3</td>\n",
       "      <td>q</td>\n",
       "    </tr>\n",
       "    <tr>\n",
       "      <th>d</th>\n",
       "      <td>4</td>\n",
       "      <td>r</td>\n",
       "    </tr>\n",
       "    <tr>\n",
       "      <th>e</th>\n",
       "      <td>5</td>\n",
       "      <td>s</td>\n",
       "    </tr>\n",
       "    <tr>\n",
       "      <th>f</th>\n",
       "      <td>6</td>\n",
       "      <td>t</td>\n",
       "    </tr>\n",
       "    <tr>\n",
       "      <th>g</th>\n",
       "      <td>7</td>\n",
       "      <td>u</td>\n",
       "    </tr>\n",
       "  </tbody>\n",
       "</table>\n",
       "</div>"
      ],
      "text/plain": [
       "   A  B\n",
       "a  1  o\n",
       "b  2  p\n",
       "c  3  q\n",
       "d  4  r\n",
       "e  5  s\n",
       "f  6  t\n",
       "g  7  u"
      ]
     },
     "execution_count": 40,
     "metadata": {},
     "output_type": "execute_result"
    }
   ],
   "source": [
    "pd.concat([df1, df2])"
   ]
  },
  {
   "cell_type": "code",
   "execution_count": 41,
   "id": "23aa3607-b11c-4621-a733-0c6f50cf9e0c",
   "metadata": {},
   "outputs": [
    {
     "data": {
      "text/html": [
       "<div>\n",
       "<style scoped>\n",
       "    .dataframe tbody tr th:only-of-type {\n",
       "        vertical-align: middle;\n",
       "    }\n",
       "\n",
       "    .dataframe tbody tr th {\n",
       "        vertical-align: top;\n",
       "    }\n",
       "\n",
       "    .dataframe thead th {\n",
       "        text-align: right;\n",
       "    }\n",
       "</style>\n",
       "<table border=\"1\" class=\"dataframe\">\n",
       "  <thead>\n",
       "    <tr style=\"text-align: right;\">\n",
       "      <th></th>\n",
       "      <th>A</th>\n",
       "      <th>B</th>\n",
       "      <th>C</th>\n",
       "      <th>D</th>\n",
       "    </tr>\n",
       "  </thead>\n",
       "  <tbody>\n",
       "    <tr>\n",
       "      <th>a</th>\n",
       "      <td>1</td>\n",
       "      <td>o</td>\n",
       "      <td>10</td>\n",
       "      <td>Q</td>\n",
       "    </tr>\n",
       "    <tr>\n",
       "      <th>b</th>\n",
       "      <td>2</td>\n",
       "      <td>p</td>\n",
       "      <td>20</td>\n",
       "      <td>X</td>\n",
       "    </tr>\n",
       "    <tr>\n",
       "      <th>c</th>\n",
       "      <td>3</td>\n",
       "      <td>q</td>\n",
       "      <td>15</td>\n",
       "      <td>Y</td>\n",
       "    </tr>\n",
       "    <tr>\n",
       "      <th>d</th>\n",
       "      <td>4</td>\n",
       "      <td>r</td>\n",
       "      <td>40</td>\n",
       "      <td>Z</td>\n",
       "    </tr>\n",
       "  </tbody>\n",
       "</table>\n",
       "</div>"
      ],
      "text/plain": [
       "   A  B   C  D\n",
       "a  1  o  10  Q\n",
       "b  2  p  20  X\n",
       "c  3  q  15  Y\n",
       "d  4  r  40  Z"
      ]
     },
     "execution_count": 41,
     "metadata": {},
     "output_type": "execute_result"
    }
   ],
   "source": [
    "pd.concat([df1, df3], axis=1)"
   ]
  },
  {
   "cell_type": "code",
   "execution_count": 42,
   "id": "9cb5d3d6-6a06-4f71-a4f2-7ed8628f2224",
   "metadata": {},
   "outputs": [
    {
     "data": {
      "text/html": [
       "<div>\n",
       "<style scoped>\n",
       "    .dataframe tbody tr th:only-of-type {\n",
       "        vertical-align: middle;\n",
       "    }\n",
       "\n",
       "    .dataframe tbody tr th {\n",
       "        vertical-align: top;\n",
       "    }\n",
       "\n",
       "    .dataframe thead th {\n",
       "        text-align: right;\n",
       "    }\n",
       "</style>\n",
       "<table border=\"1\" class=\"dataframe\">\n",
       "  <thead>\n",
       "    <tr style=\"text-align: right;\">\n",
       "      <th></th>\n",
       "      <th>A</th>\n",
       "      <th>B</th>\n",
       "      <th>C</th>\n",
       "      <th>D</th>\n",
       "    </tr>\n",
       "  </thead>\n",
       "  <tbody>\n",
       "    <tr>\n",
       "      <th>a</th>\n",
       "      <td>1.0</td>\n",
       "      <td>o</td>\n",
       "      <td>NaN</td>\n",
       "      <td>NaN</td>\n",
       "    </tr>\n",
       "    <tr>\n",
       "      <th>b</th>\n",
       "      <td>2.0</td>\n",
       "      <td>p</td>\n",
       "      <td>NaN</td>\n",
       "      <td>NaN</td>\n",
       "    </tr>\n",
       "    <tr>\n",
       "      <th>c</th>\n",
       "      <td>3.0</td>\n",
       "      <td>q</td>\n",
       "      <td>NaN</td>\n",
       "      <td>NaN</td>\n",
       "    </tr>\n",
       "    <tr>\n",
       "      <th>d</th>\n",
       "      <td>4.0</td>\n",
       "      <td>r</td>\n",
       "      <td>NaN</td>\n",
       "      <td>NaN</td>\n",
       "    </tr>\n",
       "    <tr>\n",
       "      <th>a</th>\n",
       "      <td>NaN</td>\n",
       "      <td>NaN</td>\n",
       "      <td>10.0</td>\n",
       "      <td>Q</td>\n",
       "    </tr>\n",
       "    <tr>\n",
       "      <th>b</th>\n",
       "      <td>NaN</td>\n",
       "      <td>NaN</td>\n",
       "      <td>20.0</td>\n",
       "      <td>X</td>\n",
       "    </tr>\n",
       "    <tr>\n",
       "      <th>c</th>\n",
       "      <td>NaN</td>\n",
       "      <td>NaN</td>\n",
       "      <td>15.0</td>\n",
       "      <td>Y</td>\n",
       "    </tr>\n",
       "    <tr>\n",
       "      <th>d</th>\n",
       "      <td>NaN</td>\n",
       "      <td>NaN</td>\n",
       "      <td>40.0</td>\n",
       "      <td>Z</td>\n",
       "    </tr>\n",
       "  </tbody>\n",
       "</table>\n",
       "</div>"
      ],
      "text/plain": [
       "     A    B     C    D\n",
       "a  1.0    o   NaN  NaN\n",
       "b  2.0    p   NaN  NaN\n",
       "c  3.0    q   NaN  NaN\n",
       "d  4.0    r   NaN  NaN\n",
       "a  NaN  NaN  10.0    Q\n",
       "b  NaN  NaN  20.0    X\n",
       "c  NaN  NaN  15.0    Y\n",
       "d  NaN  NaN  40.0    Z"
      ]
     },
     "execution_count": 42,
     "metadata": {},
     "output_type": "execute_result"
    }
   ],
   "source": [
    "pd.concat([df1, df3])"
   ]
  },
  {
   "cell_type": "code",
   "execution_count": 43,
   "id": "2a5990d0-25d4-4661-9701-e655c89d5a07",
   "metadata": {},
   "outputs": [
    {
     "data": {
      "text/html": [
       "<div>\n",
       "<style scoped>\n",
       "    .dataframe tbody tr th:only-of-type {\n",
       "        vertical-align: middle;\n",
       "    }\n",
       "\n",
       "    .dataframe tbody tr th {\n",
       "        vertical-align: top;\n",
       "    }\n",
       "\n",
       "    .dataframe thead th {\n",
       "        text-align: right;\n",
       "    }\n",
       "</style>\n",
       "<table border=\"1\" class=\"dataframe\">\n",
       "  <thead>\n",
       "    <tr style=\"text-align: right;\">\n",
       "      <th></th>\n",
       "      <th>A</th>\n",
       "      <th>B</th>\n",
       "    </tr>\n",
       "  </thead>\n",
       "  <tbody>\n",
       "    <tr>\n",
       "      <th>0</th>\n",
       "      <td>1</td>\n",
       "      <td>o</td>\n",
       "    </tr>\n",
       "    <tr>\n",
       "      <th>1</th>\n",
       "      <td>2</td>\n",
       "      <td>p</td>\n",
       "    </tr>\n",
       "    <tr>\n",
       "      <th>2</th>\n",
       "      <td>3</td>\n",
       "      <td>q</td>\n",
       "    </tr>\n",
       "    <tr>\n",
       "      <th>3</th>\n",
       "      <td>4</td>\n",
       "      <td>r</td>\n",
       "    </tr>\n",
       "    <tr>\n",
       "      <th>4</th>\n",
       "      <td>1</td>\n",
       "      <td>x</td>\n",
       "    </tr>\n",
       "    <tr>\n",
       "      <th>5</th>\n",
       "      <td>20</td>\n",
       "      <td>y</td>\n",
       "    </tr>\n",
       "    <tr>\n",
       "      <th>6</th>\n",
       "      <td>15</td>\n",
       "      <td>z</td>\n",
       "    </tr>\n",
       "  </tbody>\n",
       "</table>\n",
       "</div>"
      ],
      "text/plain": [
       "    A  B\n",
       "0   1  o\n",
       "1   2  p\n",
       "2   3  q\n",
       "3   4  r\n",
       "4   1  x\n",
       "5  20  y\n",
       "6  15  z"
      ]
     },
     "execution_count": 43,
     "metadata": {},
     "output_type": "execute_result"
    }
   ],
   "source": [
    "pd.concat([df1, df4], ignore_index=True, verify_integrity=True)"
   ]
  },
  {
   "cell_type": "code",
   "execution_count": 44,
   "id": "f4ba9f17-bdb6-440f-b96e-70ec3d603996",
   "metadata": {},
   "outputs": [
    {
     "data": {
      "text/html": [
       "<div>\n",
       "<style scoped>\n",
       "    .dataframe tbody tr th:only-of-type {\n",
       "        vertical-align: middle;\n",
       "    }\n",
       "\n",
       "    .dataframe tbody tr th {\n",
       "        vertical-align: top;\n",
       "    }\n",
       "\n",
       "    .dataframe thead th {\n",
       "        text-align: right;\n",
       "    }\n",
       "</style>\n",
       "<table border=\"1\" class=\"dataframe\">\n",
       "  <thead>\n",
       "    <tr style=\"text-align: right;\">\n",
       "      <th></th>\n",
       "      <th>A</th>\n",
       "      <th>B</th>\n",
       "      <th>A</th>\n",
       "      <th>B</th>\n",
       "    </tr>\n",
       "  </thead>\n",
       "  <tbody>\n",
       "    <tr>\n",
       "      <th>a</th>\n",
       "      <td>1</td>\n",
       "      <td>o</td>\n",
       "      <td>1.0</td>\n",
       "      <td>x</td>\n",
       "    </tr>\n",
       "    <tr>\n",
       "      <th>b</th>\n",
       "      <td>2</td>\n",
       "      <td>p</td>\n",
       "      <td>20.0</td>\n",
       "      <td>y</td>\n",
       "    </tr>\n",
       "    <tr>\n",
       "      <th>c</th>\n",
       "      <td>3</td>\n",
       "      <td>q</td>\n",
       "      <td>15.0</td>\n",
       "      <td>z</td>\n",
       "    </tr>\n",
       "    <tr>\n",
       "      <th>d</th>\n",
       "      <td>4</td>\n",
       "      <td>r</td>\n",
       "      <td>NaN</td>\n",
       "      <td>NaN</td>\n",
       "    </tr>\n",
       "  </tbody>\n",
       "</table>\n",
       "</div>"
      ],
      "text/plain": [
       "   A  B     A    B\n",
       "a  1  o   1.0    x\n",
       "b  2  p  20.0    y\n",
       "c  3  q  15.0    z\n",
       "d  4  r   NaN  NaN"
      ]
     },
     "execution_count": 44,
     "metadata": {},
     "output_type": "execute_result"
    }
   ],
   "source": [
    "pd.concat([df1, df4], axis=1, join='outer')"
   ]
  },
  {
   "cell_type": "code",
   "execution_count": 45,
   "id": "e512bc87-12a3-46cd-bb22-4c22d3919279",
   "metadata": {},
   "outputs": [
    {
     "data": {
      "text/html": [
       "<div>\n",
       "<style scoped>\n",
       "    .dataframe tbody tr th:only-of-type {\n",
       "        vertical-align: middle;\n",
       "    }\n",
       "\n",
       "    .dataframe tbody tr th {\n",
       "        vertical-align: top;\n",
       "    }\n",
       "\n",
       "    .dataframe thead th {\n",
       "        text-align: right;\n",
       "    }\n",
       "</style>\n",
       "<table border=\"1\" class=\"dataframe\">\n",
       "  <thead>\n",
       "    <tr style=\"text-align: right;\">\n",
       "      <th></th>\n",
       "      <th>A</th>\n",
       "      <th>B</th>\n",
       "      <th>A</th>\n",
       "      <th>B</th>\n",
       "    </tr>\n",
       "  </thead>\n",
       "  <tbody>\n",
       "    <tr>\n",
       "      <th>a</th>\n",
       "      <td>1</td>\n",
       "      <td>o</td>\n",
       "      <td>1</td>\n",
       "      <td>x</td>\n",
       "    </tr>\n",
       "    <tr>\n",
       "      <th>b</th>\n",
       "      <td>2</td>\n",
       "      <td>p</td>\n",
       "      <td>20</td>\n",
       "      <td>y</td>\n",
       "    </tr>\n",
       "    <tr>\n",
       "      <th>c</th>\n",
       "      <td>3</td>\n",
       "      <td>q</td>\n",
       "      <td>15</td>\n",
       "      <td>z</td>\n",
       "    </tr>\n",
       "  </tbody>\n",
       "</table>\n",
       "</div>"
      ],
      "text/plain": [
       "   A  B   A  B\n",
       "a  1  o   1  x\n",
       "b  2  p  20  y\n",
       "c  3  q  15  z"
      ]
     },
     "execution_count": 45,
     "metadata": {},
     "output_type": "execute_result"
    }
   ],
   "source": [
    "pd.concat([df1, df4], axis=1, join='inner')"
   ]
  },
  {
   "cell_type": "markdown",
   "id": "afcf4da3-728e-4699-9308-11ab6d6b26e3",
   "metadata": {},
   "source": [
    "## pd.merge"
   ]
  },
  {
   "cell_type": "markdown",
   "id": "953259d3-4d5e-421f-9fbe-61c2cf82e7e2",
   "metadata": {},
   "source": [
    "- `pd.merge(left, right, how='inner', on=None, left_on=None, right_on=None, left_index=False, right_index=False. ...)`\n",
    "- on 에 지정된 병합 기준 또는 index 에 따라 left, right 병합\n",
    "- left, right : DataFrame or Named Series\n",
    "- how : {'left','right','outer','inner'}, default = 'inner'\n",
    "- on : label or list, 병합 기준 지정 (columns or index level names)\n",
    "- left_on, right_on : label or list, 왼쪽 / 오른쪽 병합 기준 지정\n",
    "- left_index, right_index \n",
    "    + True / False 를 사용하야 index 를 병합 기준으로 사용할지 여부 지정\n",
    "    + columns 가 다를 경우 True 로 지정하여야 함\n",
    "- https://pandas.pydata.org/docs/reference/api/pandas.DataFrame.merge.html#pandas-dataframe-merge"
   ]
  },
  {
   "cell_type": "code",
   "execution_count": 46,
   "id": "93c2f989-6009-442b-a557-1b7be4953b9e",
   "metadata": {},
   "outputs": [
    {
     "data": {
      "text/html": [
       "<div>\n",
       "<style scoped>\n",
       "    .dataframe tbody tr th:only-of-type {\n",
       "        vertical-align: middle;\n",
       "    }\n",
       "\n",
       "    .dataframe tbody tr th {\n",
       "        vertical-align: top;\n",
       "    }\n",
       "\n",
       "    .dataframe thead th {\n",
       "        text-align: right;\n",
       "    }\n",
       "</style>\n",
       "<table border=\"1\" class=\"dataframe\">\n",
       "  <thead>\n",
       "    <tr style=\"text-align: right;\">\n",
       "      <th></th>\n",
       "      <th>A</th>\n",
       "      <th>B</th>\n",
       "    </tr>\n",
       "  </thead>\n",
       "  <tbody>\n",
       "    <tr>\n",
       "      <th>a</th>\n",
       "      <td>1</td>\n",
       "      <td>X</td>\n",
       "    </tr>\n",
       "    <tr>\n",
       "      <th>b</th>\n",
       "      <td>20</td>\n",
       "      <td>Y</td>\n",
       "    </tr>\n",
       "    <tr>\n",
       "      <th>c</th>\n",
       "      <td>15</td>\n",
       "      <td>Z</td>\n",
       "    </tr>\n",
       "    <tr>\n",
       "      <th>e</th>\n",
       "      <td>5</td>\n",
       "      <td>Q</td>\n",
       "    </tr>\n",
       "  </tbody>\n",
       "</table>\n",
       "</div>"
      ],
      "text/plain": [
       "    A  B\n",
       "a   1  X\n",
       "b  20  Y\n",
       "c  15  Z\n",
       "e   5  Q"
      ]
     },
     "metadata": {},
     "output_type": "display_data"
    },
    {
     "data": {
      "text/html": [
       "<div>\n",
       "<style scoped>\n",
       "    .dataframe tbody tr th:only-of-type {\n",
       "        vertical-align: middle;\n",
       "    }\n",
       "\n",
       "    .dataframe tbody tr th {\n",
       "        vertical-align: top;\n",
       "    }\n",
       "\n",
       "    .dataframe thead th {\n",
       "        text-align: right;\n",
       "    }\n",
       "</style>\n",
       "<table border=\"1\" class=\"dataframe\">\n",
       "  <thead>\n",
       "    <tr style=\"text-align: right;\">\n",
       "      <th></th>\n",
       "      <th>C</th>\n",
       "      <th>B</th>\n",
       "    </tr>\n",
       "  </thead>\n",
       "  <tbody>\n",
       "    <tr>\n",
       "      <th>a</th>\n",
       "      <td>10</td>\n",
       "      <td>X</td>\n",
       "    </tr>\n",
       "    <tr>\n",
       "      <th>b</th>\n",
       "      <td>20</td>\n",
       "      <td>Y</td>\n",
       "    </tr>\n",
       "    <tr>\n",
       "      <th>c</th>\n",
       "      <td>15</td>\n",
       "      <td>M</td>\n",
       "    </tr>\n",
       "    <tr>\n",
       "      <th>d</th>\n",
       "      <td>40</td>\n",
       "      <td>N</td>\n",
       "    </tr>\n",
       "  </tbody>\n",
       "</table>\n",
       "</div>"
      ],
      "text/plain": [
       "    C  B\n",
       "a  10  X\n",
       "b  20  Y\n",
       "c  15  M\n",
       "d  40  N"
      ]
     },
     "metadata": {},
     "output_type": "display_data"
    }
   ],
   "source": [
    "df1 = pd.DataFrame({'A': [1,20,15,5],   'B': list('XYZQ')}, index=list('abce'))\n",
    "df2 = pd.DataFrame({'C': [10,20,15,40], 'B': list('XYMN')}, index=list('abcd'))\n",
    "df3 = pd.DataFrame({'C': [10,20,15,40], 'D': list('XYMN')}, index=list('abcd'))\n",
    "df4 = pd.DataFrame({'C': [10,20,15,40], 'D': list('QXYZ')}, index=list('abcd'))\n",
    "\n",
    "display(df1, df2)"
   ]
  },
  {
   "cell_type": "code",
   "execution_count": 47,
   "id": "b81b3042-3212-45b0-99b9-32a97fa6c2d2",
   "metadata": {},
   "outputs": [
    {
     "data": {
      "text/html": [
       "<div>\n",
       "<style scoped>\n",
       "    .dataframe tbody tr th:only-of-type {\n",
       "        vertical-align: middle;\n",
       "    }\n",
       "\n",
       "    .dataframe tbody tr th {\n",
       "        vertical-align: top;\n",
       "    }\n",
       "\n",
       "    .dataframe thead th {\n",
       "        text-align: right;\n",
       "    }\n",
       "</style>\n",
       "<table border=\"1\" class=\"dataframe\">\n",
       "  <thead>\n",
       "    <tr style=\"text-align: right;\">\n",
       "      <th></th>\n",
       "      <th>A</th>\n",
       "      <th>B</th>\n",
       "      <th>C</th>\n",
       "    </tr>\n",
       "  </thead>\n",
       "  <tbody>\n",
       "    <tr>\n",
       "      <th>0</th>\n",
       "      <td>1</td>\n",
       "      <td>X</td>\n",
       "      <td>10</td>\n",
       "    </tr>\n",
       "    <tr>\n",
       "      <th>1</th>\n",
       "      <td>20</td>\n",
       "      <td>Y</td>\n",
       "      <td>20</td>\n",
       "    </tr>\n",
       "  </tbody>\n",
       "</table>\n",
       "</div>"
      ],
      "text/plain": [
       "    A  B   C\n",
       "0   1  X  10\n",
       "1  20  Y  20"
      ]
     },
     "execution_count": 47,
     "metadata": {},
     "output_type": "execute_result"
    }
   ],
   "source": [
    "pd.merge(left=df1, right=df2, on='B')"
   ]
  },
  {
   "cell_type": "code",
   "execution_count": 48,
   "id": "b3c13542-91e5-4816-aebb-14346f04e7dd",
   "metadata": {},
   "outputs": [
    {
     "data": {
      "text/html": [
       "<div>\n",
       "<style scoped>\n",
       "    .dataframe tbody tr th:only-of-type {\n",
       "        vertical-align: middle;\n",
       "    }\n",
       "\n",
       "    .dataframe tbody tr th {\n",
       "        vertical-align: top;\n",
       "    }\n",
       "\n",
       "    .dataframe thead th {\n",
       "        text-align: right;\n",
       "    }\n",
       "</style>\n",
       "<table border=\"1\" class=\"dataframe\">\n",
       "  <thead>\n",
       "    <tr style=\"text-align: right;\">\n",
       "      <th></th>\n",
       "      <th>A</th>\n",
       "      <th>B</th>\n",
       "    </tr>\n",
       "  </thead>\n",
       "  <tbody>\n",
       "    <tr>\n",
       "      <th>a</th>\n",
       "      <td>1</td>\n",
       "      <td>X</td>\n",
       "    </tr>\n",
       "    <tr>\n",
       "      <th>b</th>\n",
       "      <td>20</td>\n",
       "      <td>Y</td>\n",
       "    </tr>\n",
       "    <tr>\n",
       "      <th>c</th>\n",
       "      <td>15</td>\n",
       "      <td>Z</td>\n",
       "    </tr>\n",
       "    <tr>\n",
       "      <th>e</th>\n",
       "      <td>5</td>\n",
       "      <td>Q</td>\n",
       "    </tr>\n",
       "  </tbody>\n",
       "</table>\n",
       "</div>"
      ],
      "text/plain": [
       "    A  B\n",
       "a   1  X\n",
       "b  20  Y\n",
       "c  15  Z\n",
       "e   5  Q"
      ]
     },
     "metadata": {},
     "output_type": "display_data"
    },
    {
     "data": {
      "text/html": [
       "<div>\n",
       "<style scoped>\n",
       "    .dataframe tbody tr th:only-of-type {\n",
       "        vertical-align: middle;\n",
       "    }\n",
       "\n",
       "    .dataframe tbody tr th {\n",
       "        vertical-align: top;\n",
       "    }\n",
       "\n",
       "    .dataframe thead th {\n",
       "        text-align: right;\n",
       "    }\n",
       "</style>\n",
       "<table border=\"1\" class=\"dataframe\">\n",
       "  <thead>\n",
       "    <tr style=\"text-align: right;\">\n",
       "      <th></th>\n",
       "      <th>C</th>\n",
       "      <th>B</th>\n",
       "    </tr>\n",
       "  </thead>\n",
       "  <tbody>\n",
       "    <tr>\n",
       "      <th>a</th>\n",
       "      <td>10</td>\n",
       "      <td>X</td>\n",
       "    </tr>\n",
       "    <tr>\n",
       "      <th>b</th>\n",
       "      <td>20</td>\n",
       "      <td>Y</td>\n",
       "    </tr>\n",
       "    <tr>\n",
       "      <th>c</th>\n",
       "      <td>15</td>\n",
       "      <td>M</td>\n",
       "    </tr>\n",
       "    <tr>\n",
       "      <th>d</th>\n",
       "      <td>40</td>\n",
       "      <td>N</td>\n",
       "    </tr>\n",
       "  </tbody>\n",
       "</table>\n",
       "</div>"
      ],
      "text/plain": [
       "    C  B\n",
       "a  10  X\n",
       "b  20  Y\n",
       "c  15  M\n",
       "d  40  N"
      ]
     },
     "metadata": {},
     "output_type": "display_data"
    }
   ],
   "source": [
    "display(df1, df2)"
   ]
  },
  {
   "cell_type": "code",
   "execution_count": 49,
   "id": "341e3277-fa7c-4efd-a46e-aa978e6b748a",
   "metadata": {},
   "outputs": [
    {
     "data": {
      "text/html": [
       "<div>\n",
       "<style scoped>\n",
       "    .dataframe tbody tr th:only-of-type {\n",
       "        vertical-align: middle;\n",
       "    }\n",
       "\n",
       "    .dataframe tbody tr th {\n",
       "        vertical-align: top;\n",
       "    }\n",
       "\n",
       "    .dataframe thead th {\n",
       "        text-align: right;\n",
       "    }\n",
       "</style>\n",
       "<table border=\"1\" class=\"dataframe\">\n",
       "  <thead>\n",
       "    <tr style=\"text-align: right;\">\n",
       "      <th></th>\n",
       "      <th>A</th>\n",
       "      <th>B</th>\n",
       "      <th>C</th>\n",
       "    </tr>\n",
       "  </thead>\n",
       "  <tbody>\n",
       "    <tr>\n",
       "      <th>0</th>\n",
       "      <td>1.0</td>\n",
       "      <td>X</td>\n",
       "      <td>10.0</td>\n",
       "    </tr>\n",
       "    <tr>\n",
       "      <th>1</th>\n",
       "      <td>20.0</td>\n",
       "      <td>Y</td>\n",
       "      <td>20.0</td>\n",
       "    </tr>\n",
       "    <tr>\n",
       "      <th>2</th>\n",
       "      <td>15.0</td>\n",
       "      <td>Z</td>\n",
       "      <td>NaN</td>\n",
       "    </tr>\n",
       "    <tr>\n",
       "      <th>3</th>\n",
       "      <td>5.0</td>\n",
       "      <td>Q</td>\n",
       "      <td>NaN</td>\n",
       "    </tr>\n",
       "    <tr>\n",
       "      <th>4</th>\n",
       "      <td>NaN</td>\n",
       "      <td>M</td>\n",
       "      <td>15.0</td>\n",
       "    </tr>\n",
       "    <tr>\n",
       "      <th>5</th>\n",
       "      <td>NaN</td>\n",
       "      <td>N</td>\n",
       "      <td>40.0</td>\n",
       "    </tr>\n",
       "  </tbody>\n",
       "</table>\n",
       "</div>"
      ],
      "text/plain": [
       "      A  B     C\n",
       "0   1.0  X  10.0\n",
       "1  20.0  Y  20.0\n",
       "2  15.0  Z   NaN\n",
       "3   5.0  Q   NaN\n",
       "4   NaN  M  15.0\n",
       "5   NaN  N  40.0"
      ]
     },
     "execution_count": 49,
     "metadata": {},
     "output_type": "execute_result"
    }
   ],
   "source": [
    "pd.merge(left=df1, right=df2, on='B', how='outer')"
   ]
  },
  {
   "cell_type": "code",
   "execution_count": 50,
   "id": "912bb13e-3d94-4007-92c9-0e25f304a341",
   "metadata": {},
   "outputs": [
    {
     "data": {
      "text/html": [
       "<div>\n",
       "<style scoped>\n",
       "    .dataframe tbody tr th:only-of-type {\n",
       "        vertical-align: middle;\n",
       "    }\n",
       "\n",
       "    .dataframe tbody tr th {\n",
       "        vertical-align: top;\n",
       "    }\n",
       "\n",
       "    .dataframe thead th {\n",
       "        text-align: right;\n",
       "    }\n",
       "</style>\n",
       "<table border=\"1\" class=\"dataframe\">\n",
       "  <thead>\n",
       "    <tr style=\"text-align: right;\">\n",
       "      <th></th>\n",
       "      <th>A</th>\n",
       "      <th>B</th>\n",
       "      <th>C</th>\n",
       "    </tr>\n",
       "  </thead>\n",
       "  <tbody>\n",
       "    <tr>\n",
       "      <th>0</th>\n",
       "      <td>1</td>\n",
       "      <td>X</td>\n",
       "      <td>10.0</td>\n",
       "    </tr>\n",
       "    <tr>\n",
       "      <th>1</th>\n",
       "      <td>20</td>\n",
       "      <td>Y</td>\n",
       "      <td>20.0</td>\n",
       "    </tr>\n",
       "    <tr>\n",
       "      <th>2</th>\n",
       "      <td>15</td>\n",
       "      <td>Z</td>\n",
       "      <td>NaN</td>\n",
       "    </tr>\n",
       "    <tr>\n",
       "      <th>3</th>\n",
       "      <td>5</td>\n",
       "      <td>Q</td>\n",
       "      <td>NaN</td>\n",
       "    </tr>\n",
       "  </tbody>\n",
       "</table>\n",
       "</div>"
      ],
      "text/plain": [
       "    A  B     C\n",
       "0   1  X  10.0\n",
       "1  20  Y  20.0\n",
       "2  15  Z   NaN\n",
       "3   5  Q   NaN"
      ]
     },
     "execution_count": 50,
     "metadata": {},
     "output_type": "execute_result"
    }
   ],
   "source": [
    "pd.merge(left=df1, right=df2, on='B', how='left')"
   ]
  },
  {
   "cell_type": "code",
   "execution_count": 51,
   "id": "e459b09b-2b56-4ddc-9519-256d8f661664",
   "metadata": {},
   "outputs": [
    {
     "data": {
      "text/html": [
       "<div>\n",
       "<style scoped>\n",
       "    .dataframe tbody tr th:only-of-type {\n",
       "        vertical-align: middle;\n",
       "    }\n",
       "\n",
       "    .dataframe tbody tr th {\n",
       "        vertical-align: top;\n",
       "    }\n",
       "\n",
       "    .dataframe thead th {\n",
       "        text-align: right;\n",
       "    }\n",
       "</style>\n",
       "<table border=\"1\" class=\"dataframe\">\n",
       "  <thead>\n",
       "    <tr style=\"text-align: right;\">\n",
       "      <th></th>\n",
       "      <th>A</th>\n",
       "      <th>B</th>\n",
       "      <th>C</th>\n",
       "    </tr>\n",
       "  </thead>\n",
       "  <tbody>\n",
       "    <tr>\n",
       "      <th>0</th>\n",
       "      <td>1.0</td>\n",
       "      <td>X</td>\n",
       "      <td>10</td>\n",
       "    </tr>\n",
       "    <tr>\n",
       "      <th>1</th>\n",
       "      <td>20.0</td>\n",
       "      <td>Y</td>\n",
       "      <td>20</td>\n",
       "    </tr>\n",
       "    <tr>\n",
       "      <th>2</th>\n",
       "      <td>NaN</td>\n",
       "      <td>M</td>\n",
       "      <td>15</td>\n",
       "    </tr>\n",
       "    <tr>\n",
       "      <th>3</th>\n",
       "      <td>NaN</td>\n",
       "      <td>N</td>\n",
       "      <td>40</td>\n",
       "    </tr>\n",
       "  </tbody>\n",
       "</table>\n",
       "</div>"
      ],
      "text/plain": [
       "      A  B   C\n",
       "0   1.0  X  10\n",
       "1  20.0  Y  20\n",
       "2   NaN  M  15\n",
       "3   NaN  N  40"
      ]
     },
     "execution_count": 51,
     "metadata": {},
     "output_type": "execute_result"
    }
   ],
   "source": [
    "pd.merge(left=df1, right=df2, on='B', how='right')"
   ]
  },
  {
   "cell_type": "code",
   "execution_count": 52,
   "id": "f3959560-29cf-432c-aa79-8d8905b8988b",
   "metadata": {},
   "outputs": [
    {
     "data": {
      "text/html": [
       "<div>\n",
       "<style scoped>\n",
       "    .dataframe tbody tr th:only-of-type {\n",
       "        vertical-align: middle;\n",
       "    }\n",
       "\n",
       "    .dataframe tbody tr th {\n",
       "        vertical-align: top;\n",
       "    }\n",
       "\n",
       "    .dataframe thead th {\n",
       "        text-align: right;\n",
       "    }\n",
       "</style>\n",
       "<table border=\"1\" class=\"dataframe\">\n",
       "  <thead>\n",
       "    <tr style=\"text-align: right;\">\n",
       "      <th></th>\n",
       "      <th>A</th>\n",
       "      <th>B</th>\n",
       "    </tr>\n",
       "  </thead>\n",
       "  <tbody>\n",
       "    <tr>\n",
       "      <th>a</th>\n",
       "      <td>1</td>\n",
       "      <td>X</td>\n",
       "    </tr>\n",
       "    <tr>\n",
       "      <th>b</th>\n",
       "      <td>20</td>\n",
       "      <td>Y</td>\n",
       "    </tr>\n",
       "    <tr>\n",
       "      <th>c</th>\n",
       "      <td>15</td>\n",
       "      <td>Z</td>\n",
       "    </tr>\n",
       "    <tr>\n",
       "      <th>e</th>\n",
       "      <td>5</td>\n",
       "      <td>Q</td>\n",
       "    </tr>\n",
       "  </tbody>\n",
       "</table>\n",
       "</div>"
      ],
      "text/plain": [
       "    A  B\n",
       "a   1  X\n",
       "b  20  Y\n",
       "c  15  Z\n",
       "e   5  Q"
      ]
     },
     "metadata": {},
     "output_type": "display_data"
    },
    {
     "data": {
      "text/html": [
       "<div>\n",
       "<style scoped>\n",
       "    .dataframe tbody tr th:only-of-type {\n",
       "        vertical-align: middle;\n",
       "    }\n",
       "\n",
       "    .dataframe tbody tr th {\n",
       "        vertical-align: top;\n",
       "    }\n",
       "\n",
       "    .dataframe thead th {\n",
       "        text-align: right;\n",
       "    }\n",
       "</style>\n",
       "<table border=\"1\" class=\"dataframe\">\n",
       "  <thead>\n",
       "    <tr style=\"text-align: right;\">\n",
       "      <th></th>\n",
       "      <th>C</th>\n",
       "      <th>D</th>\n",
       "    </tr>\n",
       "  </thead>\n",
       "  <tbody>\n",
       "    <tr>\n",
       "      <th>a</th>\n",
       "      <td>10</td>\n",
       "      <td>X</td>\n",
       "    </tr>\n",
       "    <tr>\n",
       "      <th>b</th>\n",
       "      <td>20</td>\n",
       "      <td>Y</td>\n",
       "    </tr>\n",
       "    <tr>\n",
       "      <th>c</th>\n",
       "      <td>15</td>\n",
       "      <td>M</td>\n",
       "    </tr>\n",
       "    <tr>\n",
       "      <th>d</th>\n",
       "      <td>40</td>\n",
       "      <td>N</td>\n",
       "    </tr>\n",
       "  </tbody>\n",
       "</table>\n",
       "</div>"
      ],
      "text/plain": [
       "    C  D\n",
       "a  10  X\n",
       "b  20  Y\n",
       "c  15  M\n",
       "d  40  N"
      ]
     },
     "metadata": {},
     "output_type": "display_data"
    }
   ],
   "source": [
    "display(df1, df3)"
   ]
  },
  {
   "cell_type": "code",
   "execution_count": 53,
   "id": "6e62445a-7849-4027-b576-de28c10dd2e7",
   "metadata": {},
   "outputs": [
    {
     "data": {
      "text/html": [
       "<div>\n",
       "<style scoped>\n",
       "    .dataframe tbody tr th:only-of-type {\n",
       "        vertical-align: middle;\n",
       "    }\n",
       "\n",
       "    .dataframe tbody tr th {\n",
       "        vertical-align: top;\n",
       "    }\n",
       "\n",
       "    .dataframe thead th {\n",
       "        text-align: right;\n",
       "    }\n",
       "</style>\n",
       "<table border=\"1\" class=\"dataframe\">\n",
       "  <thead>\n",
       "    <tr style=\"text-align: right;\">\n",
       "      <th></th>\n",
       "      <th>A</th>\n",
       "      <th>B</th>\n",
       "      <th>C</th>\n",
       "      <th>D</th>\n",
       "    </tr>\n",
       "  </thead>\n",
       "  <tbody>\n",
       "    <tr>\n",
       "      <th>0</th>\n",
       "      <td>1</td>\n",
       "      <td>X</td>\n",
       "      <td>10</td>\n",
       "      <td>X</td>\n",
       "    </tr>\n",
       "    <tr>\n",
       "      <th>1</th>\n",
       "      <td>20</td>\n",
       "      <td>Y</td>\n",
       "      <td>20</td>\n",
       "      <td>Y</td>\n",
       "    </tr>\n",
       "  </tbody>\n",
       "</table>\n",
       "</div>"
      ],
      "text/plain": [
       "    A  B   C  D\n",
       "0   1  X  10  X\n",
       "1  20  Y  20  Y"
      ]
     },
     "execution_count": 53,
     "metadata": {},
     "output_type": "execute_result"
    }
   ],
   "source": [
    "pd.merge(left=df1, right=df3, left_on='B', right_on='D')"
   ]
  },
  {
   "cell_type": "code",
   "execution_count": 54,
   "id": "03163286-06d8-44e3-80a2-4e45b7d74c28",
   "metadata": {},
   "outputs": [
    {
     "data": {
      "text/html": [
       "<div>\n",
       "<style scoped>\n",
       "    .dataframe tbody tr th:only-of-type {\n",
       "        vertical-align: middle;\n",
       "    }\n",
       "\n",
       "    .dataframe tbody tr th {\n",
       "        vertical-align: top;\n",
       "    }\n",
       "\n",
       "    .dataframe thead th {\n",
       "        text-align: right;\n",
       "    }\n",
       "</style>\n",
       "<table border=\"1\" class=\"dataframe\">\n",
       "  <thead>\n",
       "    <tr style=\"text-align: right;\">\n",
       "      <th></th>\n",
       "      <th>A</th>\n",
       "      <th>B</th>\n",
       "    </tr>\n",
       "  </thead>\n",
       "  <tbody>\n",
       "    <tr>\n",
       "      <th>a</th>\n",
       "      <td>1</td>\n",
       "      <td>X</td>\n",
       "    </tr>\n",
       "    <tr>\n",
       "      <th>b</th>\n",
       "      <td>20</td>\n",
       "      <td>Y</td>\n",
       "    </tr>\n",
       "    <tr>\n",
       "      <th>c</th>\n",
       "      <td>15</td>\n",
       "      <td>Z</td>\n",
       "    </tr>\n",
       "    <tr>\n",
       "      <th>e</th>\n",
       "      <td>5</td>\n",
       "      <td>Q</td>\n",
       "    </tr>\n",
       "  </tbody>\n",
       "</table>\n",
       "</div>"
      ],
      "text/plain": [
       "    A  B\n",
       "a   1  X\n",
       "b  20  Y\n",
       "c  15  Z\n",
       "e   5  Q"
      ]
     },
     "metadata": {},
     "output_type": "display_data"
    },
    {
     "data": {
      "text/html": [
       "<div>\n",
       "<style scoped>\n",
       "    .dataframe tbody tr th:only-of-type {\n",
       "        vertical-align: middle;\n",
       "    }\n",
       "\n",
       "    .dataframe tbody tr th {\n",
       "        vertical-align: top;\n",
       "    }\n",
       "\n",
       "    .dataframe thead th {\n",
       "        text-align: right;\n",
       "    }\n",
       "</style>\n",
       "<table border=\"1\" class=\"dataframe\">\n",
       "  <thead>\n",
       "    <tr style=\"text-align: right;\">\n",
       "      <th></th>\n",
       "      <th>C</th>\n",
       "      <th>D</th>\n",
       "    </tr>\n",
       "  </thead>\n",
       "  <tbody>\n",
       "    <tr>\n",
       "      <th>a</th>\n",
       "      <td>10</td>\n",
       "      <td>Q</td>\n",
       "    </tr>\n",
       "    <tr>\n",
       "      <th>b</th>\n",
       "      <td>20</td>\n",
       "      <td>X</td>\n",
       "    </tr>\n",
       "    <tr>\n",
       "      <th>c</th>\n",
       "      <td>15</td>\n",
       "      <td>Y</td>\n",
       "    </tr>\n",
       "    <tr>\n",
       "      <th>d</th>\n",
       "      <td>40</td>\n",
       "      <td>Z</td>\n",
       "    </tr>\n",
       "  </tbody>\n",
       "</table>\n",
       "</div>"
      ],
      "text/plain": [
       "    C  D\n",
       "a  10  Q\n",
       "b  20  X\n",
       "c  15  Y\n",
       "d  40  Z"
      ]
     },
     "metadata": {},
     "output_type": "display_data"
    }
   ],
   "source": [
    "display(df1.head(), df4.head())"
   ]
  },
  {
   "cell_type": "code",
   "execution_count": 55,
   "id": "5bff868d-89f5-41ec-b435-38b25d7a9f0c",
   "metadata": {},
   "outputs": [
    {
     "data": {
      "text/html": [
       "<div>\n",
       "<style scoped>\n",
       "    .dataframe tbody tr th:only-of-type {\n",
       "        vertical-align: middle;\n",
       "    }\n",
       "\n",
       "    .dataframe tbody tr th {\n",
       "        vertical-align: top;\n",
       "    }\n",
       "\n",
       "    .dataframe thead th {\n",
       "        text-align: right;\n",
       "    }\n",
       "</style>\n",
       "<table border=\"1\" class=\"dataframe\">\n",
       "  <thead>\n",
       "    <tr style=\"text-align: right;\">\n",
       "      <th></th>\n",
       "      <th>A</th>\n",
       "      <th>B</th>\n",
       "      <th>C</th>\n",
       "      <th>D</th>\n",
       "    </tr>\n",
       "  </thead>\n",
       "  <tbody>\n",
       "    <tr>\n",
       "      <th>a</th>\n",
       "      <td>1</td>\n",
       "      <td>X</td>\n",
       "      <td>10</td>\n",
       "      <td>Q</td>\n",
       "    </tr>\n",
       "    <tr>\n",
       "      <th>b</th>\n",
       "      <td>20</td>\n",
       "      <td>Y</td>\n",
       "      <td>20</td>\n",
       "      <td>X</td>\n",
       "    </tr>\n",
       "    <tr>\n",
       "      <th>c</th>\n",
       "      <td>15</td>\n",
       "      <td>Z</td>\n",
       "      <td>15</td>\n",
       "      <td>Y</td>\n",
       "    </tr>\n",
       "  </tbody>\n",
       "</table>\n",
       "</div>"
      ],
      "text/plain": [
       "    A  B   C  D\n",
       "a   1  X  10  Q\n",
       "b  20  Y  20  X\n",
       "c  15  Z  15  Y"
      ]
     },
     "execution_count": 55,
     "metadata": {},
     "output_type": "execute_result"
    }
   ],
   "source": [
    "pd.merge(left=df1, right=df4, left_index=True, right_index=True)"
   ]
  },
  {
   "cell_type": "markdown",
   "id": "3c41f394-d1c6-442b-8288-c8fca5282555",
   "metadata": {},
   "source": [
    "# 데이터 삭제 - pd.drop"
   ]
  },
  {
   "cell_type": "markdown",
   "id": "5904655c-168a-457d-9b0b-1c9d63432164",
   "metadata": {},
   "source": [
    "- `x.drop(labels, axis=0, ...)`\n",
    "    + labels : 한 개의 label 또는 list-like index / column labels\n",
    "    + axis=0 or 'index' : 행 삭제\n",
    "    + axis-1 or 'columns' : 열 삭제\n",
    "- https://pandas.pydata.org/docs/reference/api/pandas.DataFrame.drop.html#pandas-dataframe-drop\n",
    "\n",
    "![nn](./images/pandas-04.png)"
   ]
  },
  {
   "cell_type": "code",
   "execution_count": 56,
   "id": "bb2f4b4e-04db-43c6-961b-ea2f9f4dc4ff",
   "metadata": {},
   "outputs": [
    {
     "data": {
      "text/plain": [
       "A    10\n",
       "B    13\n",
       "B    15\n",
       "dtype: int64"
      ]
     },
     "metadata": {},
     "output_type": "display_data"
    },
    {
     "data": {
      "text/plain": [
       "A    10\n",
       "dtype: int64"
      ]
     },
     "metadata": {},
     "output_type": "display_data"
    }
   ],
   "source": [
    "s = pd.Series([10,13,15], index=list('ABB'))\n",
    "s1 = s.drop('B')\n",
    "display(s, s1)"
   ]
  },
  {
   "cell_type": "code",
   "execution_count": 57,
   "id": "7be87a81-5be7-4a56-aedd-c2e022fcbe68",
   "metadata": {},
   "outputs": [
    {
     "data": {
      "text/html": [
       "<div>\n",
       "<style scoped>\n",
       "    .dataframe tbody tr th:only-of-type {\n",
       "        vertical-align: middle;\n",
       "    }\n",
       "\n",
       "    .dataframe tbody tr th {\n",
       "        vertical-align: top;\n",
       "    }\n",
       "\n",
       "    .dataframe thead th {\n",
       "        text-align: right;\n",
       "    }\n",
       "</style>\n",
       "<table border=\"1\" class=\"dataframe\">\n",
       "  <thead>\n",
       "    <tr style=\"text-align: right;\">\n",
       "      <th></th>\n",
       "      <th>a</th>\n",
       "      <th>b</th>\n",
       "      <th>c</th>\n",
       "    </tr>\n",
       "  </thead>\n",
       "  <tbody>\n",
       "    <tr>\n",
       "      <th>A</th>\n",
       "      <td>10</td>\n",
       "      <td>1</td>\n",
       "      <td>20</td>\n",
       "    </tr>\n",
       "    <tr>\n",
       "      <th>B</th>\n",
       "      <td>13</td>\n",
       "      <td>5</td>\n",
       "      <td>5</td>\n",
       "    </tr>\n",
       "  </tbody>\n",
       "</table>\n",
       "</div>"
      ],
      "text/plain": [
       "    a  b   c\n",
       "A  10  1  20\n",
       "B  13  5   5"
      ]
     },
     "metadata": {},
     "output_type": "display_data"
    },
    {
     "data": {
      "text/html": [
       "<div>\n",
       "<style scoped>\n",
       "    .dataframe tbody tr th:only-of-type {\n",
       "        vertical-align: middle;\n",
       "    }\n",
       "\n",
       "    .dataframe tbody tr th {\n",
       "        vertical-align: top;\n",
       "    }\n",
       "\n",
       "    .dataframe thead th {\n",
       "        text-align: right;\n",
       "    }\n",
       "</style>\n",
       "<table border=\"1\" class=\"dataframe\">\n",
       "  <thead>\n",
       "    <tr style=\"text-align: right;\">\n",
       "      <th></th>\n",
       "      <th>c</th>\n",
       "    </tr>\n",
       "  </thead>\n",
       "  <tbody>\n",
       "    <tr>\n",
       "      <th>A</th>\n",
       "      <td>20</td>\n",
       "    </tr>\n",
       "    <tr>\n",
       "      <th>B</th>\n",
       "      <td>5</td>\n",
       "    </tr>\n",
       "  </tbody>\n",
       "</table>\n",
       "</div>"
      ],
      "text/plain": [
       "    c\n",
       "A  20\n",
       "B   5"
      ]
     },
     "metadata": {},
     "output_type": "display_data"
    }
   ],
   "source": [
    "df = pd.DataFrame({'a': [10,13], 'b': [1,5], 'c': [20,5]}, index=list('AB'))\n",
    "df1 = df.drop(['a', 'b'], axis=1)\n",
    "display(df, df1)"
   ]
  },
  {
   "cell_type": "markdown",
   "id": "f2142892-9fca-476e-9475-5dc40fb0c61e",
   "metadata": {},
   "source": [
    "# 데이터 추가 - pd.append"
   ]
  },
  {
   "cell_type": "markdown",
   "id": "83188471-1c10-406d-bd4e-ca6de2bb1e0e",
   "metadata": {},
   "source": [
    "- `x.append(other, ignore_index=FAlse, verify_integrity=False, ...)`\n",
    "    + other 에 전달된 데이터를 추가한 객체 반환\n",
    "    + other\n",
    "        - x is DataFrame : DataFrame, Series/dict-like, list of these\n",
    "        - x is Series : Series or list/tuple of Series\n",
    "    + ignore_index : True -> index labels 사용하지 ㅇ낳음, index 없는 대상 추가 시 필수\n",
    "    + verify_integrity : True -> index 중복 시 ValueError 현상\n",
    "    + https://pandas.pydata.org/docs/reference/api/pandas.DataFrame.append.html#pandas-dataframe-append\n",
    "- 향후 버전에서 지원 안하므로 `pd.concat()` 사용 권장"
   ]
  },
  {
   "cell_type": "code",
   "execution_count": 58,
   "id": "e85d4c37-d84c-4acc-a756-36dcff7aa887",
   "metadata": {},
   "outputs": [
    {
     "data": {
      "text/html": [
       "<div>\n",
       "<style scoped>\n",
       "    .dataframe tbody tr th:only-of-type {\n",
       "        vertical-align: middle;\n",
       "    }\n",
       "\n",
       "    .dataframe tbody tr th {\n",
       "        vertical-align: top;\n",
       "    }\n",
       "\n",
       "    .dataframe thead th {\n",
       "        text-align: right;\n",
       "    }\n",
       "</style>\n",
       "<table border=\"1\" class=\"dataframe\">\n",
       "  <thead>\n",
       "    <tr style=\"text-align: right;\">\n",
       "      <th></th>\n",
       "      <th>a</th>\n",
       "      <th>b</th>\n",
       "    </tr>\n",
       "  </thead>\n",
       "  <tbody>\n",
       "    <tr>\n",
       "      <th>A</th>\n",
       "      <td>10</td>\n",
       "      <td>1</td>\n",
       "    </tr>\n",
       "    <tr>\n",
       "      <th>B</th>\n",
       "      <td>13</td>\n",
       "      <td>5</td>\n",
       "    </tr>\n",
       "  </tbody>\n",
       "</table>\n",
       "</div>"
      ],
      "text/plain": [
       "    a  b\n",
       "A  10  1\n",
       "B  13  5"
      ]
     },
     "metadata": {},
     "output_type": "display_data"
    },
    {
     "data": {
      "text/html": [
       "<div>\n",
       "<style scoped>\n",
       "    .dataframe tbody tr th:only-of-type {\n",
       "        vertical-align: middle;\n",
       "    }\n",
       "\n",
       "    .dataframe tbody tr th {\n",
       "        vertical-align: top;\n",
       "    }\n",
       "\n",
       "    .dataframe thead th {\n",
       "        text-align: right;\n",
       "    }\n",
       "</style>\n",
       "<table border=\"1\" class=\"dataframe\">\n",
       "  <thead>\n",
       "    <tr style=\"text-align: right;\">\n",
       "      <th></th>\n",
       "      <th>a</th>\n",
       "      <th>b</th>\n",
       "    </tr>\n",
       "  </thead>\n",
       "  <tbody>\n",
       "    <tr>\n",
       "      <th>C</th>\n",
       "      <td>1</td>\n",
       "      <td>4</td>\n",
       "    </tr>\n",
       "    <tr>\n",
       "      <th>D</th>\n",
       "      <td>3</td>\n",
       "      <td>8</td>\n",
       "    </tr>\n",
       "  </tbody>\n",
       "</table>\n",
       "</div>"
      ],
      "text/plain": [
       "   a  b\n",
       "C  1  4\n",
       "D  3  8"
      ]
     },
     "metadata": {},
     "output_type": "display_data"
    }
   ],
   "source": [
    "df1 = pd.DataFrame({'a': [10,13], 'b': [1,5]}, index=['A','B'])\n",
    "df2 = pd.DataFrame({'a': [1,3],   'b': [4,8]}, index=['C','D'])\n",
    "\n",
    "display(df1, df2)"
   ]
  },
  {
   "cell_type": "code",
   "execution_count": 59,
   "id": "0b7c799a-43d1-476b-9567-3879dbbe44d4",
   "metadata": {},
   "outputs": [
    {
     "name": "stderr",
     "output_type": "stream",
     "text": [
      "/var/folders/3k/bgnrnfc15w792712mgb6g0_c0000gn/T/ipykernel_11792/3362903225.py:1: FutureWarning: The frame.append method is deprecated and will be removed from pandas in a future version. Use pandas.concat instead.\n",
      "  df3 = df1.append(df2)\n"
     ]
    },
    {
     "data": {
      "text/html": [
       "<div>\n",
       "<style scoped>\n",
       "    .dataframe tbody tr th:only-of-type {\n",
       "        vertical-align: middle;\n",
       "    }\n",
       "\n",
       "    .dataframe tbody tr th {\n",
       "        vertical-align: top;\n",
       "    }\n",
       "\n",
       "    .dataframe thead th {\n",
       "        text-align: right;\n",
       "    }\n",
       "</style>\n",
       "<table border=\"1\" class=\"dataframe\">\n",
       "  <thead>\n",
       "    <tr style=\"text-align: right;\">\n",
       "      <th></th>\n",
       "      <th>a</th>\n",
       "      <th>b</th>\n",
       "    </tr>\n",
       "  </thead>\n",
       "  <tbody>\n",
       "    <tr>\n",
       "      <th>A</th>\n",
       "      <td>10</td>\n",
       "      <td>1</td>\n",
       "    </tr>\n",
       "    <tr>\n",
       "      <th>B</th>\n",
       "      <td>13</td>\n",
       "      <td>5</td>\n",
       "    </tr>\n",
       "    <tr>\n",
       "      <th>C</th>\n",
       "      <td>1</td>\n",
       "      <td>4</td>\n",
       "    </tr>\n",
       "    <tr>\n",
       "      <th>D</th>\n",
       "      <td>3</td>\n",
       "      <td>8</td>\n",
       "    </tr>\n",
       "  </tbody>\n",
       "</table>\n",
       "</div>"
      ],
      "text/plain": [
       "    a  b\n",
       "A  10  1\n",
       "B  13  5\n",
       "C   1  4\n",
       "D   3  8"
      ]
     },
     "execution_count": 59,
     "metadata": {},
     "output_type": "execute_result"
    }
   ],
   "source": [
    "df3 = df1.append(df2)\n",
    "df3"
   ]
  },
  {
   "cell_type": "code",
   "execution_count": 60,
   "id": "1ca898dd-2936-4306-8fd1-b7c77cfe9415",
   "metadata": {},
   "outputs": [
    {
     "data": {
      "text/html": [
       "<div>\n",
       "<style scoped>\n",
       "    .dataframe tbody tr th:only-of-type {\n",
       "        vertical-align: middle;\n",
       "    }\n",
       "\n",
       "    .dataframe tbody tr th {\n",
       "        vertical-align: top;\n",
       "    }\n",
       "\n",
       "    .dataframe thead th {\n",
       "        text-align: right;\n",
       "    }\n",
       "</style>\n",
       "<table border=\"1\" class=\"dataframe\">\n",
       "  <thead>\n",
       "    <tr style=\"text-align: right;\">\n",
       "      <th></th>\n",
       "      <th>a</th>\n",
       "      <th>b</th>\n",
       "    </tr>\n",
       "  </thead>\n",
       "  <tbody>\n",
       "    <tr>\n",
       "      <th>A</th>\n",
       "      <td>10</td>\n",
       "      <td>1</td>\n",
       "    </tr>\n",
       "    <tr>\n",
       "      <th>B</th>\n",
       "      <td>13</td>\n",
       "      <td>5</td>\n",
       "    </tr>\n",
       "  </tbody>\n",
       "</table>\n",
       "</div>"
      ],
      "text/plain": [
       "    a  b\n",
       "A  10  1\n",
       "B  13  5"
      ]
     },
     "execution_count": 60,
     "metadata": {},
     "output_type": "execute_result"
    }
   ],
   "source": [
    "df1 = pd.DataFrame({'a': [10,13], 'b': [1,5]}, index=['A','B'])\n",
    "df1"
   ]
  },
  {
   "cell_type": "code",
   "execution_count": 61,
   "id": "bfc3f5a0-e5ca-4a01-a49f-3c212ef7ba44",
   "metadata": {},
   "outputs": [
    {
     "name": "stderr",
     "output_type": "stream",
     "text": [
      "/var/folders/3k/bgnrnfc15w792712mgb6g0_c0000gn/T/ipykernel_11792/4145202659.py:1: FutureWarning: The frame.append method is deprecated and will be removed from pandas in a future version. Use pandas.concat instead.\n",
      "  df2 = df1.append({'a': 1, 'b':4}, ignore_index=True)\n"
     ]
    },
    {
     "data": {
      "text/html": [
       "<div>\n",
       "<style scoped>\n",
       "    .dataframe tbody tr th:only-of-type {\n",
       "        vertical-align: middle;\n",
       "    }\n",
       "\n",
       "    .dataframe tbody tr th {\n",
       "        vertical-align: top;\n",
       "    }\n",
       "\n",
       "    .dataframe thead th {\n",
       "        text-align: right;\n",
       "    }\n",
       "</style>\n",
       "<table border=\"1\" class=\"dataframe\">\n",
       "  <thead>\n",
       "    <tr style=\"text-align: right;\">\n",
       "      <th></th>\n",
       "      <th>a</th>\n",
       "      <th>b</th>\n",
       "    </tr>\n",
       "  </thead>\n",
       "  <tbody>\n",
       "    <tr>\n",
       "      <th>0</th>\n",
       "      <td>10</td>\n",
       "      <td>1</td>\n",
       "    </tr>\n",
       "    <tr>\n",
       "      <th>1</th>\n",
       "      <td>13</td>\n",
       "      <td>5</td>\n",
       "    </tr>\n",
       "    <tr>\n",
       "      <th>2</th>\n",
       "      <td>1</td>\n",
       "      <td>4</td>\n",
       "    </tr>\n",
       "  </tbody>\n",
       "</table>\n",
       "</div>"
      ],
      "text/plain": [
       "    a  b\n",
       "0  10  1\n",
       "1  13  5\n",
       "2   1  4"
      ]
     },
     "execution_count": 61,
     "metadata": {},
     "output_type": "execute_result"
    }
   ],
   "source": [
    "df2 = df1.append({'a': 1, 'b':4}, ignore_index=True)\n",
    "df2"
   ]
  },
  {
   "cell_type": "markdown",
   "id": "ec082fdb-74e6-43da-99d5-2299684f4fa9",
   "metadata": {},
   "source": [
    "# 데이터 변환"
   ]
  },
  {
   "cell_type": "markdown",
   "id": "532180c9-6bac-44a3-8243-e2f67898415b",
   "metadata": {},
   "source": [
    "## Series.map"
   ]
  },
  {
   "cell_type": "markdown",
   "id": "c9b91ca7-be55-44b1-aa11-e32d632d4a9b",
   "metadata": {},
   "source": [
    "- `s.map(arg, na_action=None)`\n",
    "    + arg 로 전달된 내용이 각 항에 적용된 Series 반환\n",
    "- arg : function, dict, Series\n",
    "    + Series 의 각 항에 적용될 내용\n",
    "    + dict 가 사용될 경우 key 에 없는 것이 Series 에 포함되어 있으면 NaN이 됨\n",
    "- na_action : {None, 'ignore'} (default: None)\n",
    "    + ignore : NA value 에 대해 동작을 무시하고 NaN, None, NaT 로 채움\n",
    "- API: https://pandas.pydata.org/docs/reference/api/pandas.Series.map.html#pandas-series-map\n",
    "\n",
    "![nn](./images/pandas-05.png)"
   ]
  },
  {
   "cell_type": "code",
   "execution_count": 62,
   "id": "d413bd3b-aa42-446c-b820-c5839f173ebf",
   "metadata": {},
   "outputs": [],
   "source": [
    "s = pd.Series(['Park', 'Kim', np.nan, 'Lee', None, pd.NaT])"
   ]
  },
  {
   "cell_type": "code",
   "execution_count": 63,
   "id": "9443ab60-9e00-4528-a3e8-41054a23b91b",
   "metadata": {},
   "outputs": [
    {
     "data": {
      "text/plain": [
       "0    Mr. Park\n",
       "1     Mr. Kim\n",
       "2         NaN\n",
       "3     Mr. Lee\n",
       "4         NaN\n",
       "5         NaN\n",
       "dtype: object"
      ]
     },
     "execution_count": 63,
     "metadata": {},
     "output_type": "execute_result"
    }
   ],
   "source": [
    "'Mr. ' + s "
   ]
  },
  {
   "cell_type": "code",
   "execution_count": 64,
   "id": "da97f20c-1616-49a1-8bbc-4e78c3b5fa0c",
   "metadata": {},
   "outputs": [
    {
     "data": {
      "text/plain": [
       "0    Mr. Park\n",
       "1     Mr. Kim\n",
       "2     Mr. nan\n",
       "3     Mr. Lee\n",
       "4    Mr. None\n",
       "5     Mr. NaT\n",
       "dtype: object"
      ]
     },
     "execution_count": 64,
     "metadata": {},
     "output_type": "execute_result"
    }
   ],
   "source": [
    "s.map('Mr. {}'.format)"
   ]
  },
  {
   "cell_type": "code",
   "execution_count": 65,
   "id": "627b69b4-1d54-439f-9284-86488c9e40fd",
   "metadata": {},
   "outputs": [
    {
     "data": {
      "text/plain": [
       "0    Mr. Park\n",
       "1     Mr. Kim\n",
       "2         NaN\n",
       "3     Mr. Lee\n",
       "4        None\n",
       "5         NaT\n",
       "dtype: object"
      ]
     },
     "execution_count": 65,
     "metadata": {},
     "output_type": "execute_result"
    }
   ],
   "source": [
    "s.map('Mr. {}'.format, na_action='ignore')"
   ]
  },
  {
   "cell_type": "code",
   "execution_count": 66,
   "id": "4ed870b3-d965-49c0-af32-8079fe97981e",
   "metadata": {},
   "outputs": [],
   "source": [
    "s = pd.Series([10,10,30,10,20])"
   ]
  },
  {
   "cell_type": "code",
   "execution_count": 67,
   "id": "026f3e22-304a-42d2-a651-c933792d1656",
   "metadata": {},
   "outputs": [
    {
     "data": {
      "text/plain": [
       "0    0.0\n",
       "1    0.0\n",
       "2    NaN\n",
       "3    0.0\n",
       "4    1.0\n",
       "dtype: float64"
      ]
     },
     "execution_count": 67,
     "metadata": {},
     "output_type": "execute_result"
    }
   ],
   "source": [
    "# 처리 방법이 명기되지 않은 데이터는 NaN\n",
    "s.map({10:0, 20:1})"
   ]
  },
  {
   "cell_type": "code",
   "execution_count": 68,
   "id": "3e06841e-ed1e-492d-b12a-369d253dab02",
   "metadata": {},
   "outputs": [
    {
     "data": {
      "text/plain": [
       "0     0\n",
       "1     0\n",
       "2    30\n",
       "3     0\n",
       "4     1\n",
       "dtype: int64"
      ]
     },
     "execution_count": 68,
     "metadata": {},
     "output_type": "execute_result"
    }
   ],
   "source": [
    "# 처리 방법이 명기되지 않은 데이터는 그대로 유지\n",
    "s.replace({10:0, 20:1})"
   ]
  },
  {
   "cell_type": "markdown",
   "id": "9320ae5a-e303-4026-bfea-e243b34351b8",
   "metadata": {},
   "source": [
    "### 성적처리"
   ]
  },
  {
   "cell_type": "code",
   "execution_count": 69,
   "id": "216f3f93-228d-4b1d-a3dc-e10d05a6a06a",
   "metadata": {},
   "outputs": [
    {
     "data": {
      "text/html": [
       "<div>\n",
       "<style scoped>\n",
       "    .dataframe tbody tr th:only-of-type {\n",
       "        vertical-align: middle;\n",
       "    }\n",
       "\n",
       "    .dataframe tbody tr th {\n",
       "        vertical-align: top;\n",
       "    }\n",
       "\n",
       "    .dataframe thead th {\n",
       "        text-align: right;\n",
       "    }\n",
       "</style>\n",
       "<table border=\"1\" class=\"dataframe\">\n",
       "  <thead>\n",
       "    <tr style=\"text-align: right;\">\n",
       "      <th></th>\n",
       "      <th>score</th>\n",
       "    </tr>\n",
       "    <tr>\n",
       "      <th>number</th>\n",
       "      <th></th>\n",
       "    </tr>\n",
       "  </thead>\n",
       "  <tbody>\n",
       "    <tr>\n",
       "      <th>0</th>\n",
       "      <td>75</td>\n",
       "    </tr>\n",
       "    <tr>\n",
       "      <th>1</th>\n",
       "      <td>66</td>\n",
       "    </tr>\n",
       "    <tr>\n",
       "      <th>2</th>\n",
       "      <td>120</td>\n",
       "    </tr>\n",
       "    <tr>\n",
       "      <th>3</th>\n",
       "      <td>80</td>\n",
       "    </tr>\n",
       "    <tr>\n",
       "      <th>4</th>\n",
       "      <td>100</td>\n",
       "    </tr>\n",
       "    <tr>\n",
       "      <th>5</th>\n",
       "      <td>95</td>\n",
       "    </tr>\n",
       "    <tr>\n",
       "      <th>6</th>\n",
       "      <td>50</td>\n",
       "    </tr>\n",
       "  </tbody>\n",
       "</table>\n",
       "</div>"
      ],
      "text/plain": [
       "        score\n",
       "number       \n",
       "0          75\n",
       "1          66\n",
       "2         120\n",
       "3          80\n",
       "4         100\n",
       "5          95\n",
       "6          50"
      ]
     },
     "execution_count": 69,
     "metadata": {},
     "output_type": "execute_result"
    }
   ],
   "source": [
    "s = pd.Series([75,66,120,80,100,95,50], name='score')\n",
    "df = pd.DataFrame(s)\n",
    "df.index.name = 'number'\n",
    "df"
   ]
  },
  {
   "cell_type": "code",
   "execution_count": 70,
   "id": "7eda647e-5e09-4136-aa3e-db00303bc203",
   "metadata": {},
   "outputs": [
    {
     "data": {
      "text/html": [
       "<div>\n",
       "<style scoped>\n",
       "    .dataframe tbody tr th:only-of-type {\n",
       "        vertical-align: middle;\n",
       "    }\n",
       "\n",
       "    .dataframe tbody tr th {\n",
       "        vertical-align: top;\n",
       "    }\n",
       "\n",
       "    .dataframe thead th {\n",
       "        text-align: right;\n",
       "    }\n",
       "</style>\n",
       "<table border=\"1\" class=\"dataframe\">\n",
       "  <thead>\n",
       "    <tr style=\"text-align: right;\">\n",
       "      <th></th>\n",
       "      <th>score</th>\n",
       "      <th>grade</th>\n",
       "    </tr>\n",
       "    <tr>\n",
       "      <th>number</th>\n",
       "      <th></th>\n",
       "      <th></th>\n",
       "    </tr>\n",
       "  </thead>\n",
       "  <tbody>\n",
       "    <tr>\n",
       "      <th>0</th>\n",
       "      <td>75</td>\n",
       "      <td>C</td>\n",
       "    </tr>\n",
       "    <tr>\n",
       "      <th>1</th>\n",
       "      <td>66</td>\n",
       "      <td>D</td>\n",
       "    </tr>\n",
       "    <tr>\n",
       "      <th>2</th>\n",
       "      <td>120</td>\n",
       "      <td>Error</td>\n",
       "    </tr>\n",
       "    <tr>\n",
       "      <th>3</th>\n",
       "      <td>80</td>\n",
       "      <td>B</td>\n",
       "    </tr>\n",
       "    <tr>\n",
       "      <th>4</th>\n",
       "      <td>100</td>\n",
       "      <td>A</td>\n",
       "    </tr>\n",
       "    <tr>\n",
       "      <th>5</th>\n",
       "      <td>95</td>\n",
       "      <td>A</td>\n",
       "    </tr>\n",
       "    <tr>\n",
       "      <th>6</th>\n",
       "      <td>50</td>\n",
       "      <td>F</td>\n",
       "    </tr>\n",
       "  </tbody>\n",
       "</table>\n",
       "</div>"
      ],
      "text/plain": [
       "        score  grade\n",
       "number              \n",
       "0          75      C\n",
       "1          66      D\n",
       "2         120  Error\n",
       "3          80      B\n",
       "4         100      A\n",
       "5          95      A\n",
       "6          50      F"
      ]
     },
     "execution_count": 70,
     "metadata": {},
     "output_type": "execute_result"
    }
   ],
   "source": [
    "# df에 'grade'라는 column을 추가한다\n",
    "# 'grade'의 values는 'df.score'를 사용하여 구하며, 세부조건은 다음과 같다\n",
    "# 0~100 점 사이의 데이터가 아닌 경우 'Error'\n",
    "# 100~90 : 'A', 89~80 : 'B', 79~70 : 'C', 69~60 : 'D', 59~0 : 'F' \n",
    "def calculate_grade(score):\n",
    "    grade = list('FFFFFFDCBAA')\n",
    "    return grade[score // 10] if -1 < score < 101 else 'Error'\n",
    "\n",
    "#df['grade'] = df['score'].map(calculate_grade)\n",
    "df['grade'] = df['score'].map(lambda score: 'FFFFFFDCBAA'[score // 10] if 0<= score <=100 else 'Error')\n",
    "df"
   ]
  },
  {
   "cell_type": "markdown",
   "id": "5a734560-ce81-4af6-8f05-9dd8d747efe1",
   "metadata": {},
   "source": [
    "### 부서별 코드 번호 부여"
   ]
  },
  {
   "cell_type": "code",
   "execution_count": 71,
   "id": "ee493a3d-eea9-4d85-9c7e-1cfc846c10e8",
   "metadata": {},
   "outputs": [
    {
     "data": {
      "text/html": [
       "<div>\n",
       "<style scoped>\n",
       "    .dataframe tbody tr th:only-of-type {\n",
       "        vertical-align: middle;\n",
       "    }\n",
       "\n",
       "    .dataframe tbody tr th {\n",
       "        vertical-align: top;\n",
       "    }\n",
       "\n",
       "    .dataframe thead th {\n",
       "        text-align: right;\n",
       "    }\n",
       "</style>\n",
       "<table border=\"1\" class=\"dataframe\">\n",
       "  <thead>\n",
       "    <tr style=\"text-align: right;\">\n",
       "      <th></th>\n",
       "      <th>pname</th>\n",
       "      <th>dept</th>\n",
       "      <th>salary</th>\n",
       "      <th>overtime</th>\n",
       "    </tr>\n",
       "    <tr>\n",
       "      <th>ID</th>\n",
       "      <th></th>\n",
       "      <th></th>\n",
       "      <th></th>\n",
       "      <th></th>\n",
       "    </tr>\n",
       "  </thead>\n",
       "  <tbody>\n",
       "    <tr>\n",
       "      <th>18030201</th>\n",
       "      <td>James Kim</td>\n",
       "      <td>Education</td>\n",
       "      <td>3456</td>\n",
       "      <td>0 days 23:10:10</td>\n",
       "    </tr>\n",
       "    <tr>\n",
       "      <th>18030202</th>\n",
       "      <td>Rose Hwang</td>\n",
       "      <td>Marketing</td>\n",
       "      <td>4320</td>\n",
       "      <td>0 days 10:15:17</td>\n",
       "    </tr>\n",
       "    <tr>\n",
       "      <th>19030401</th>\n",
       "      <td>Sam Park</td>\n",
       "      <td>Education</td>\n",
       "      <td>5600</td>\n",
       "      <td>0 days 16:21:10</td>\n",
       "    </tr>\n",
       "    <tr>\n",
       "      <th>19070101</th>\n",
       "      <td>Chris Jang</td>\n",
       "      <td>Education</td>\n",
       "      <td>4500</td>\n",
       "      <td>0 days 15:00:20</td>\n",
       "    </tr>\n",
       "    <tr>\n",
       "      <th>19070102</th>\n",
       "      <td>Grace Lee</td>\n",
       "      <td>Marketing</td>\n",
       "      <td>3150</td>\n",
       "      <td>0 days 21:19:50</td>\n",
       "    </tr>\n",
       "    <tr>\n",
       "      <th>19070103</th>\n",
       "      <td>Juile Yoon</td>\n",
       "      <td>Education</td>\n",
       "      <td>4200</td>\n",
       "      <td>0 days 14:10:40</td>\n",
       "    </tr>\n",
       "    <tr>\n",
       "      <th>19080101</th>\n",
       "      <td>Chirle Song</td>\n",
       "      <td>Accounting</td>\n",
       "      <td>4800</td>\n",
       "      <td>0 days 09:50:30</td>\n",
       "    </tr>\n",
       "    <tr>\n",
       "      <th>19080102</th>\n",
       "      <td>Bob Kim</td>\n",
       "      <td>Sales</td>\n",
       "      <td>10100</td>\n",
       "      <td>0 days 08:40:40</td>\n",
       "    </tr>\n",
       "    <tr>\n",
       "      <th>19090201</th>\n",
       "      <td>John Park</td>\n",
       "      <td>Sales</td>\n",
       "      <td>6840</td>\n",
       "      <td>0 days 17:30:20</td>\n",
       "    </tr>\n",
       "    <tr>\n",
       "      <th>19090202</th>\n",
       "      <td>Anne Lee</td>\n",
       "      <td>Education</td>\n",
       "      <td>4750</td>\n",
       "      <td>0 days 19:50:20</td>\n",
       "    </tr>\n",
       "  </tbody>\n",
       "</table>\n",
       "</div>"
      ],
      "text/plain": [
       "                pname        dept  salary        overtime\n",
       "ID                                                       \n",
       "18030201    James Kim   Education    3456 0 days 23:10:10\n",
       "18030202   Rose Hwang   Marketing    4320 0 days 10:15:17\n",
       "19030401     Sam Park   Education    5600 0 days 16:21:10\n",
       "19070101   Chris Jang   Education    4500 0 days 15:00:20\n",
       "19070102    Grace Lee   Marketing    3150 0 days 21:19:50\n",
       "19070103   Juile Yoon   Education    4200 0 days 14:10:40\n",
       "19080101  Chirle Song  Accounting    4800 0 days 09:50:30\n",
       "19080102      Bob Kim       Sales   10100 0 days 08:40:40\n",
       "19090201    John Park       Sales    6840 0 days 17:30:20\n",
       "19090202     Anne Lee   Education    4750 0 days 19:50:20"
      ]
     },
     "execution_count": 71,
     "metadata": {},
     "output_type": "execute_result"
    }
   ],
   "source": [
    "import shelve\n",
    "\n",
    "with shelve.open(\"./data/mysample\") as data :\n",
    "  df = data['sample3']\n",
    "  df = df.loc[:, ['pname', 'dept', 'salary', 'overtime']]\n",
    "\n",
    "df"
   ]
  },
  {
   "cell_type": "code",
   "execution_count": 72,
   "id": "4b796741-d880-40ed-ba43-e41c081f4291",
   "metadata": {},
   "outputs": [
    {
     "data": {
      "text/html": [
       "<div>\n",
       "<style scoped>\n",
       "    .dataframe tbody tr th:only-of-type {\n",
       "        vertical-align: middle;\n",
       "    }\n",
       "\n",
       "    .dataframe tbody tr th {\n",
       "        vertical-align: top;\n",
       "    }\n",
       "\n",
       "    .dataframe thead th {\n",
       "        text-align: right;\n",
       "    }\n",
       "</style>\n",
       "<table border=\"1\" class=\"dataframe\">\n",
       "  <thead>\n",
       "    <tr style=\"text-align: right;\">\n",
       "      <th></th>\n",
       "      <th>pname</th>\n",
       "      <th>dept</th>\n",
       "      <th>salary</th>\n",
       "      <th>overtime</th>\n",
       "      <th>dept_code</th>\n",
       "    </tr>\n",
       "    <tr>\n",
       "      <th>ID</th>\n",
       "      <th></th>\n",
       "      <th></th>\n",
       "      <th></th>\n",
       "      <th></th>\n",
       "      <th></th>\n",
       "    </tr>\n",
       "  </thead>\n",
       "  <tbody>\n",
       "    <tr>\n",
       "      <th>18030201</th>\n",
       "      <td>James Kim</td>\n",
       "      <td>Education</td>\n",
       "      <td>3456</td>\n",
       "      <td>0 days 23:10:10</td>\n",
       "      <td>2</td>\n",
       "    </tr>\n",
       "    <tr>\n",
       "      <th>18030202</th>\n",
       "      <td>Rose Hwang</td>\n",
       "      <td>Marketing</td>\n",
       "      <td>4320</td>\n",
       "      <td>0 days 10:15:17</td>\n",
       "      <td>3</td>\n",
       "    </tr>\n",
       "    <tr>\n",
       "      <th>19030401</th>\n",
       "      <td>Sam Park</td>\n",
       "      <td>Education</td>\n",
       "      <td>5600</td>\n",
       "      <td>0 days 16:21:10</td>\n",
       "      <td>2</td>\n",
       "    </tr>\n",
       "    <tr>\n",
       "      <th>19070101</th>\n",
       "      <td>Chris Jang</td>\n",
       "      <td>Education</td>\n",
       "      <td>4500</td>\n",
       "      <td>0 days 15:00:20</td>\n",
       "      <td>2</td>\n",
       "    </tr>\n",
       "    <tr>\n",
       "      <th>19070102</th>\n",
       "      <td>Grace Lee</td>\n",
       "      <td>Marketing</td>\n",
       "      <td>3150</td>\n",
       "      <td>0 days 21:19:50</td>\n",
       "      <td>3</td>\n",
       "    </tr>\n",
       "    <tr>\n",
       "      <th>19070103</th>\n",
       "      <td>Juile Yoon</td>\n",
       "      <td>Education</td>\n",
       "      <td>4200</td>\n",
       "      <td>0 days 14:10:40</td>\n",
       "      <td>2</td>\n",
       "    </tr>\n",
       "    <tr>\n",
       "      <th>19080101</th>\n",
       "      <td>Chirle Song</td>\n",
       "      <td>Accounting</td>\n",
       "      <td>4800</td>\n",
       "      <td>0 days 09:50:30</td>\n",
       "      <td>1</td>\n",
       "    </tr>\n",
       "    <tr>\n",
       "      <th>19080102</th>\n",
       "      <td>Bob Kim</td>\n",
       "      <td>Sales</td>\n",
       "      <td>10100</td>\n",
       "      <td>0 days 08:40:40</td>\n",
       "      <td>4</td>\n",
       "    </tr>\n",
       "    <tr>\n",
       "      <th>19090201</th>\n",
       "      <td>John Park</td>\n",
       "      <td>Sales</td>\n",
       "      <td>6840</td>\n",
       "      <td>0 days 17:30:20</td>\n",
       "      <td>4</td>\n",
       "    </tr>\n",
       "    <tr>\n",
       "      <th>19090202</th>\n",
       "      <td>Anne Lee</td>\n",
       "      <td>Education</td>\n",
       "      <td>4750</td>\n",
       "      <td>0 days 19:50:20</td>\n",
       "      <td>2</td>\n",
       "    </tr>\n",
       "  </tbody>\n",
       "</table>\n",
       "</div>"
      ],
      "text/plain": [
       "                pname        dept  salary        overtime dept_code\n",
       "ID                                                                 \n",
       "18030201    James Kim   Education    3456 0 days 23:10:10         2\n",
       "18030202   Rose Hwang   Marketing    4320 0 days 10:15:17         3\n",
       "19030401     Sam Park   Education    5600 0 days 16:21:10         2\n",
       "19070101   Chris Jang   Education    4500 0 days 15:00:20         2\n",
       "19070102    Grace Lee   Marketing    3150 0 days 21:19:50         3\n",
       "19070103   Juile Yoon   Education    4200 0 days 14:10:40         2\n",
       "19080101  Chirle Song  Accounting    4800 0 days 09:50:30         1\n",
       "19080102      Bob Kim       Sales   10100 0 days 08:40:40         4\n",
       "19090201    John Park       Sales    6840 0 days 17:30:20         4\n",
       "19090202     Anne Lee   Education    4750 0 days 19:50:20         2"
      ]
     },
     "execution_count": 72,
     "metadata": {},
     "output_type": "execute_result"
    }
   ],
   "source": [
    "# df에 'dept_code'라는 column을 추가한다\n",
    "# 'dept_code'는 dept에 1부터 시작하여 1씩 증가하는 일련번호를 부여한 것이다\n",
    "# 단, 부서명의 알파벳순(오름차순)에 따라 번호가 부여된다\n",
    "dept_list = sorted(df['dept'].unique())\n",
    "dept_code = dict(zip(dept_list, range(1, len(dept_list)+1)))\n",
    "\n",
    "df['dept_code'] = df['dept'].map(dept_code)\n",
    "df"
   ]
  },
  {
   "cell_type": "markdown",
   "id": "35b1d90c-bad4-4609-b244-a1c020cf0f7c",
   "metadata": {},
   "source": [
    "### overtime 금액 계산"
   ]
  },
  {
   "cell_type": "code",
   "execution_count": 73,
   "id": "870e7db0-3fbb-4971-bb30-e6ab9edc44f6",
   "metadata": {},
   "outputs": [
    {
     "data": {
      "text/html": [
       "<div>\n",
       "<style scoped>\n",
       "    .dataframe tbody tr th:only-of-type {\n",
       "        vertical-align: middle;\n",
       "    }\n",
       "\n",
       "    .dataframe tbody tr th {\n",
       "        vertical-align: top;\n",
       "    }\n",
       "\n",
       "    .dataframe thead th {\n",
       "        text-align: right;\n",
       "    }\n",
       "</style>\n",
       "<table border=\"1\" class=\"dataframe\">\n",
       "  <thead>\n",
       "    <tr style=\"text-align: right;\">\n",
       "      <th></th>\n",
       "      <th>pname</th>\n",
       "      <th>dept</th>\n",
       "      <th>salary</th>\n",
       "      <th>overtime</th>\n",
       "    </tr>\n",
       "    <tr>\n",
       "      <th>ID</th>\n",
       "      <th></th>\n",
       "      <th></th>\n",
       "      <th></th>\n",
       "      <th></th>\n",
       "    </tr>\n",
       "  </thead>\n",
       "  <tbody>\n",
       "    <tr>\n",
       "      <th>18030201</th>\n",
       "      <td>James Kim</td>\n",
       "      <td>Education</td>\n",
       "      <td>3461</td>\n",
       "      <td>0</td>\n",
       "    </tr>\n",
       "    <tr>\n",
       "      <th>18030202</th>\n",
       "      <td>Rose Hwang</td>\n",
       "      <td>Marketing</td>\n",
       "      <td>4325</td>\n",
       "      <td>0</td>\n",
       "    </tr>\n",
       "    <tr>\n",
       "      <th>19030401</th>\n",
       "      <td>Sam Park</td>\n",
       "      <td>Education</td>\n",
       "      <td>5605</td>\n",
       "      <td>0</td>\n",
       "    </tr>\n",
       "    <tr>\n",
       "      <th>19070101</th>\n",
       "      <td>Chris Jang</td>\n",
       "      <td>Education</td>\n",
       "      <td>4505</td>\n",
       "      <td>0</td>\n",
       "    </tr>\n",
       "    <tr>\n",
       "      <th>19070102</th>\n",
       "      <td>Grace Lee</td>\n",
       "      <td>Marketing</td>\n",
       "      <td>3155</td>\n",
       "      <td>0</td>\n",
       "    </tr>\n",
       "    <tr>\n",
       "      <th>19070103</th>\n",
       "      <td>Juile Yoon</td>\n",
       "      <td>Education</td>\n",
       "      <td>4205</td>\n",
       "      <td>0</td>\n",
       "    </tr>\n",
       "    <tr>\n",
       "      <th>19080101</th>\n",
       "      <td>Chirle Song</td>\n",
       "      <td>Accounting</td>\n",
       "      <td>4800</td>\n",
       "      <td>0</td>\n",
       "    </tr>\n",
       "    <tr>\n",
       "      <th>19080102</th>\n",
       "      <td>Bob Kim</td>\n",
       "      <td>Sales</td>\n",
       "      <td>10100</td>\n",
       "      <td>0</td>\n",
       "    </tr>\n",
       "    <tr>\n",
       "      <th>19090201</th>\n",
       "      <td>John Park</td>\n",
       "      <td>Sales</td>\n",
       "      <td>6845</td>\n",
       "      <td>0</td>\n",
       "    </tr>\n",
       "    <tr>\n",
       "      <th>19090202</th>\n",
       "      <td>Anne Lee</td>\n",
       "      <td>Education</td>\n",
       "      <td>4755</td>\n",
       "      <td>0</td>\n",
       "    </tr>\n",
       "  </tbody>\n",
       "</table>\n",
       "</div>"
      ],
      "text/plain": [
       "                pname        dept  salary  overtime\n",
       "ID                                                 \n",
       "18030201    James Kim   Education    3461         0\n",
       "18030202   Rose Hwang   Marketing    4325         0\n",
       "19030401     Sam Park   Education    5605         0\n",
       "19070101   Chris Jang   Education    4505         0\n",
       "19070102    Grace Lee   Marketing    3155         0\n",
       "19070103   Juile Yoon   Education    4205         0\n",
       "19080101  Chirle Song  Accounting    4800         0\n",
       "19080102      Bob Kim       Sales   10100         0\n",
       "19090201    John Park       Sales    6845         0\n",
       "19090202     Anne Lee   Education    4755         0"
      ]
     },
     "execution_count": 73,
     "metadata": {},
     "output_type": "execute_result"
    }
   ],
   "source": [
    "# df의 'overtime'에 대해서 금액을 산정해 salary에 더한다\n",
    "# overtime 계산은 1일 100, 1시간 5로 계산한다\n",
    "# 단 overtime이 10시간 미만인 경우는 금액을 지불하지 않는다\n",
    "# salary에 더한 뒤에는 overtime을 0으로 변경한다\n",
    "with shelve.open(\"./data/mysample\") as data :\n",
    "  df = data['sample3']\n",
    "  df = df.loc[:, ['pname', 'dept', 'salary', 'overtime']]\n",
    "\n",
    "def func(x):\n",
    "    hours = x.seconds // 3600\n",
    "    if x.days == 0 and hours < 10:\n",
    "        return 0\n",
    "    return x.days * 100 + hours * 5\n",
    "    \n",
    "# df['salary'] += df['overtime'].map(func)\n",
    "df['salary'] += df['overtime'].map(lambda x : x.days * 100 + (x.seconds // 3600) * 0 if (x.seconds // 3600) < 10 else 5)\n",
    "df['overtime'] = 0\n",
    "\n",
    "df"
   ]
  },
  {
   "cell_type": "markdown",
   "id": "eb7e42a8-a2cf-431d-a038-c2fb090050cb",
   "metadata": {},
   "source": [
    "## apply"
   ]
  },
  {
   "cell_type": "markdown",
   "id": "0f8dc654-548a-4a64-8302-7b0bf88d6ac5",
   "metadata": {},
   "source": [
    "- `x.apply(func, axis, ..., args=(), **kwds)`\n",
    "    + x : DataFrame, Series\n",
    "- axis 설정에 따라 행/열 별로 func 에 주어진 함수를 적용한 결과를 반환\n",
    "- func : 각 행이나 열에 적용할 함수\n",
    "    + 함수는 lambda 로 작성하거나 numpy, Series 등에서 제공되는 것 사용\n",
    "    + apply 는 행/열에 함수를 저굥ㅇ함 (map은 각 항에 함수를 적용)\n",
    "- axis : 0 or 'index' : 각 column 에 적용, 1 or 'columns' : 각 row 에 적용\n",
    "- args : array 또는 Series 를 포함한 tuple 로 작성\n",
    "    + func 에 전달할 Positional Arguments\n",
    "- kwds \n",
    "    + func 에 전달할 Keyword Arguments\n",
    "- API : https://pandas.pydata.org/docs/reference/api/pandas.DataFrame.apply.html#pandas-dataframe-apply\n",
    "- aggregating functions (13개) 를 제외한 다른 함수는 transform function 이라고 함\n",
    "- aggregating functions 와 transform functions 는 묶어서 리스트 형태로 apply 에 전달 불가</b>"
   ]
  },
  {
   "cell_type": "markdown",
   "id": "d2bb9a30-2da9-43e0-9d03-7908a1d3c1a9",
   "metadata": {},
   "source": [
    "### 13 aggregating functions available in Pandas\n",
    "- apply 사용 시 묶어서 사용할 수 있는 함수 (aggregating functions)\n",
    "    - mean() : Compute mean of groups\n",
    "    - sum() : Compute sum of group values\n",
    "    - size() : Compute group sizes\n",
    "    - count() : Compute count of group\n",
    "    - std() : Standard deviation of groups\n",
    "    - var() : Compute variance of groups\n",
    "    - sem() : Standard error of the mean of groups\n",
    "    - describe() : Generate descriptive statstics\n",
    "    - first() : Compute first of group values\n",
    "    - last() : Compute last of group values\n",
    "    - nth() : Take nth value, or subset if n is a list\n",
    "    - min() : Compute min of group values\n",
    "    - max() : Compute max of group values"
   ]
  },
  {
   "cell_type": "code",
   "execution_count": 74,
   "id": "728f520d-d67f-43fb-8c12-47808810a025",
   "metadata": {},
   "outputs": [
    {
     "data": {
      "text/html": [
       "<div>\n",
       "<style scoped>\n",
       "    .dataframe tbody tr th:only-of-type {\n",
       "        vertical-align: middle;\n",
       "    }\n",
       "\n",
       "    .dataframe tbody tr th {\n",
       "        vertical-align: top;\n",
       "    }\n",
       "\n",
       "    .dataframe thead th {\n",
       "        text-align: right;\n",
       "    }\n",
       "</style>\n",
       "<table border=\"1\" class=\"dataframe\">\n",
       "  <thead>\n",
       "    <tr style=\"text-align: right;\">\n",
       "      <th></th>\n",
       "      <th>A</th>\n",
       "      <th>B</th>\n",
       "      <th>C</th>\n",
       "    </tr>\n",
       "  </thead>\n",
       "  <tbody>\n",
       "    <tr>\n",
       "      <th>0</th>\n",
       "      <td>73</td>\n",
       "      <td>57</td>\n",
       "      <td>50</td>\n",
       "    </tr>\n",
       "    <tr>\n",
       "      <th>1</th>\n",
       "      <td>80</td>\n",
       "      <td>78</td>\n",
       "      <td>51</td>\n",
       "    </tr>\n",
       "    <tr>\n",
       "      <th>2</th>\n",
       "      <td>50</td>\n",
       "      <td>75</td>\n",
       "      <td>95</td>\n",
       "    </tr>\n",
       "    <tr>\n",
       "      <th>3</th>\n",
       "      <td>90</td>\n",
       "      <td>91</td>\n",
       "      <td>78</td>\n",
       "    </tr>\n",
       "  </tbody>\n",
       "</table>\n",
       "</div>"
      ],
      "text/plain": [
       "    A   B   C\n",
       "0  73  57  50\n",
       "1  80  78  51\n",
       "2  50  75  95\n",
       "3  90  91  78"
      ]
     },
     "execution_count": 74,
     "metadata": {},
     "output_type": "execute_result"
    }
   ],
   "source": [
    "import pandas as pd\n",
    "import numpy as np\n",
    "\n",
    "np.random.seed(1000)\n",
    "df = pd.DataFrame(np.random.randint(50, 100, (4,3)), columns=list('ABC'))\n",
    "df"
   ]
  },
  {
   "cell_type": "code",
   "execution_count": 75,
   "id": "4440436d-94fa-4de4-9dbd-8e2d544bd62d",
   "metadata": {},
   "outputs": [
    {
     "data": {
      "text/plain": [
       "A    293\n",
       "B    301\n",
       "C    274\n",
       "dtype: int64"
      ]
     },
     "execution_count": 75,
     "metadata": {},
     "output_type": "execute_result"
    }
   ],
   "source": [
    "df.sum()"
   ]
  },
  {
   "cell_type": "code",
   "execution_count": 76,
   "id": "3f0f8dec-5e99-41d9-a4b5-05d5dce4e688",
   "metadata": {},
   "outputs": [
    {
     "data": {
      "text/plain": [
       "A    293\n",
       "B    301\n",
       "C    274\n",
       "dtype: int64"
      ]
     },
     "execution_count": 76,
     "metadata": {},
     "output_type": "execute_result"
    }
   ],
   "source": [
    "df.apply(sum)"
   ]
  },
  {
   "cell_type": "code",
   "execution_count": 77,
   "id": "48b9584b-a583-43d5-bfc0-39bb1ed04641",
   "metadata": {},
   "outputs": [
    {
     "data": {
      "text/plain": [
       "0    50\n",
       "1    51\n",
       "2    50\n",
       "3    78\n",
       "dtype: int64"
      ]
     },
     "execution_count": 77,
     "metadata": {},
     "output_type": "execute_result"
    }
   ],
   "source": [
    "df.apply(min, axis=1)"
   ]
  },
  {
   "cell_type": "code",
   "execution_count": 78,
   "id": "801b9bcd-46b8-4cdb-97be-d0b210237dfe",
   "metadata": {},
   "outputs": [
    {
     "data": {
      "text/html": [
       "<div>\n",
       "<style scoped>\n",
       "    .dataframe tbody tr th:only-of-type {\n",
       "        vertical-align: middle;\n",
       "    }\n",
       "\n",
       "    .dataframe tbody tr th {\n",
       "        vertical-align: top;\n",
       "    }\n",
       "\n",
       "    .dataframe thead th {\n",
       "        text-align: right;\n",
       "    }\n",
       "</style>\n",
       "<table border=\"1\" class=\"dataframe\">\n",
       "  <thead>\n",
       "    <tr style=\"text-align: right;\">\n",
       "      <th></th>\n",
       "      <th>A</th>\n",
       "      <th>B</th>\n",
       "      <th>C</th>\n",
       "    </tr>\n",
       "  </thead>\n",
       "  <tbody>\n",
       "    <tr>\n",
       "      <th>sum</th>\n",
       "      <td>293</td>\n",
       "      <td>301</td>\n",
       "      <td>274</td>\n",
       "    </tr>\n",
       "    <tr>\n",
       "      <th>min</th>\n",
       "      <td>50</td>\n",
       "      <td>57</td>\n",
       "      <td>50</td>\n",
       "    </tr>\n",
       "    <tr>\n",
       "      <th>max</th>\n",
       "      <td>90</td>\n",
       "      <td>91</td>\n",
       "      <td>95</td>\n",
       "    </tr>\n",
       "  </tbody>\n",
       "</table>\n",
       "</div>"
      ],
      "text/plain": [
       "       A    B    C\n",
       "sum  293  301  274\n",
       "min   50   57   50\n",
       "max   90   91   95"
      ]
     },
     "execution_count": 78,
     "metadata": {},
     "output_type": "execute_result"
    }
   ],
   "source": [
    "df.apply([sum, min, max])"
   ]
  },
  {
   "cell_type": "code",
   "execution_count": 79,
   "id": "13bb432e-daae-42e8-a3d2-2076dca15aa7",
   "metadata": {},
   "outputs": [
    {
     "data": {
      "text/html": [
       "<div>\n",
       "<style scoped>\n",
       "    .dataframe tbody tr th:only-of-type {\n",
       "        vertical-align: middle;\n",
       "    }\n",
       "\n",
       "    .dataframe tbody tr th {\n",
       "        vertical-align: top;\n",
       "    }\n",
       "\n",
       "    .dataframe thead th {\n",
       "        text-align: right;\n",
       "    }\n",
       "</style>\n",
       "<table border=\"1\" class=\"dataframe\">\n",
       "  <thead>\n",
       "    <tr style=\"text-align: right;\">\n",
       "      <th></th>\n",
       "      <th>sum</th>\n",
       "      <th>min</th>\n",
       "      <th>max</th>\n",
       "    </tr>\n",
       "  </thead>\n",
       "  <tbody>\n",
       "    <tr>\n",
       "      <th>0</th>\n",
       "      <td>180</td>\n",
       "      <td>50</td>\n",
       "      <td>73</td>\n",
       "    </tr>\n",
       "    <tr>\n",
       "      <th>1</th>\n",
       "      <td>209</td>\n",
       "      <td>51</td>\n",
       "      <td>80</td>\n",
       "    </tr>\n",
       "    <tr>\n",
       "      <th>2</th>\n",
       "      <td>220</td>\n",
       "      <td>50</td>\n",
       "      <td>95</td>\n",
       "    </tr>\n",
       "    <tr>\n",
       "      <th>3</th>\n",
       "      <td>259</td>\n",
       "      <td>78</td>\n",
       "      <td>91</td>\n",
       "    </tr>\n",
       "  </tbody>\n",
       "</table>\n",
       "</div>"
      ],
      "text/plain": [
       "   sum  min  max\n",
       "0  180   50   73\n",
       "1  209   51   80\n",
       "2  220   50   95\n",
       "3  259   78   91"
      ]
     },
     "execution_count": 79,
     "metadata": {},
     "output_type": "execute_result"
    }
   ],
   "source": [
    "df.apply([sum, min, max], axis=1)"
   ]
  },
  {
   "cell_type": "code",
   "execution_count": 80,
   "id": "9711f0f0-e472-4134-be7f-80e94e7dfe62",
   "metadata": {},
   "outputs": [
    {
     "data": {
      "text/html": [
       "<div>\n",
       "<style scoped>\n",
       "    .dataframe tbody tr th:only-of-type {\n",
       "        vertical-align: middle;\n",
       "    }\n",
       "\n",
       "    .dataframe tbody tr th {\n",
       "        vertical-align: top;\n",
       "    }\n",
       "\n",
       "    .dataframe thead th {\n",
       "        text-align: right;\n",
       "    }\n",
       "</style>\n",
       "<table border=\"1\" class=\"dataframe\">\n",
       "  <thead>\n",
       "    <tr style=\"text-align: right;\">\n",
       "      <th></th>\n",
       "      <th>english</th>\n",
       "      <th>chinese</th>\n",
       "      <th>japanese</th>\n",
       "    </tr>\n",
       "    <tr>\n",
       "      <th>ID</th>\n",
       "      <th></th>\n",
       "      <th></th>\n",
       "      <th></th>\n",
       "    </tr>\n",
       "  </thead>\n",
       "  <tbody>\n",
       "    <tr>\n",
       "      <th>18030201</th>\n",
       "      <td>1</td>\n",
       "      <td>0</td>\n",
       "      <td>1</td>\n",
       "    </tr>\n",
       "    <tr>\n",
       "      <th>18030202</th>\n",
       "      <td>0</td>\n",
       "      <td>0</td>\n",
       "      <td>2</td>\n",
       "    </tr>\n",
       "    <tr>\n",
       "      <th>19030401</th>\n",
       "      <td>1</td>\n",
       "      <td>0</td>\n",
       "      <td>0</td>\n",
       "    </tr>\n",
       "    <tr>\n",
       "      <th>19070101</th>\n",
       "      <td>0</td>\n",
       "      <td>3</td>\n",
       "      <td>0</td>\n",
       "    </tr>\n",
       "    <tr>\n",
       "      <th>19070102</th>\n",
       "      <td>0</td>\n",
       "      <td>0</td>\n",
       "      <td>0</td>\n",
       "    </tr>\n",
       "    <tr>\n",
       "      <th>19070103</th>\n",
       "      <td>0</td>\n",
       "      <td>1</td>\n",
       "      <td>0</td>\n",
       "    </tr>\n",
       "    <tr>\n",
       "      <th>19080101</th>\n",
       "      <td>2</td>\n",
       "      <td>0</td>\n",
       "      <td>0</td>\n",
       "    </tr>\n",
       "    <tr>\n",
       "      <th>19080102</th>\n",
       "      <td>1</td>\n",
       "      <td>1</td>\n",
       "      <td>1</td>\n",
       "    </tr>\n",
       "    <tr>\n",
       "      <th>19090201</th>\n",
       "      <td>3</td>\n",
       "      <td>2</td>\n",
       "      <td>1</td>\n",
       "    </tr>\n",
       "    <tr>\n",
       "      <th>19090202</th>\n",
       "      <td>0</td>\n",
       "      <td>1</td>\n",
       "      <td>3</td>\n",
       "    </tr>\n",
       "  </tbody>\n",
       "</table>\n",
       "</div>"
      ],
      "text/plain": [
       "          english  chinese  japanese\n",
       "ID                                  \n",
       "18030201        1        0         1\n",
       "18030202        0        0         2\n",
       "19030401        1        0         0\n",
       "19070101        0        3         0\n",
       "19070102        0        0         0\n",
       "19070103        0        1         0\n",
       "19080101        2        0         0\n",
       "19080102        1        1         1\n",
       "19090201        3        2         1\n",
       "19090202        0        1         3"
      ]
     },
     "execution_count": 80,
     "metadata": {},
     "output_type": "execute_result"
    }
   ],
   "source": [
    "import shelve\n",
    "\n",
    "df = shelve.open('./data/mysample')['sample3']\n",
    "df = df.loc[:, ['english', 'chinese', 'japanese']]\n",
    "df"
   ]
  },
  {
   "cell_type": "code",
   "execution_count": 81,
   "id": "763e9e46-c530-4720-b30f-35bb8815a9ad",
   "metadata": {},
   "outputs": [
    {
     "data": {
      "text/plain": [
       "ID\n",
       "18030201    2\n",
       "18030202    1\n",
       "19030401    1\n",
       "19070101    1\n",
       "19070102    0\n",
       "19070103    1\n",
       "19080101    1\n",
       "19080102    3\n",
       "19090201    3\n",
       "19090202    2\n",
       "dtype: int64"
      ]
     },
     "execution_count": 81,
     "metadata": {},
     "output_type": "execute_result"
    }
   ],
   "source": [
    "# ID 별로 가지고 있는 어학 등급의 갯수\n",
    "df.apply(np.count_nonzero, axis=1) # Transform"
   ]
  },
  {
   "cell_type": "code",
   "execution_count": 82,
   "id": "95175117-4885-46b7-8c2a-16e282d48660",
   "metadata": {},
   "outputs": [
    {
     "data": {
      "text/html": [
       "<div>\n",
       "<style scoped>\n",
       "    .dataframe tbody tr th:only-of-type {\n",
       "        vertical-align: middle;\n",
       "    }\n",
       "\n",
       "    .dataframe tbody tr th {\n",
       "        vertical-align: top;\n",
       "    }\n",
       "\n",
       "    .dataframe thead th {\n",
       "        text-align: right;\n",
       "    }\n",
       "</style>\n",
       "<table border=\"1\" class=\"dataframe\">\n",
       "  <thead>\n",
       "    <tr style=\"text-align: right;\">\n",
       "      <th></th>\n",
       "      <th>english</th>\n",
       "      <th>chinese</th>\n",
       "      <th>japanese</th>\n",
       "    </tr>\n",
       "  </thead>\n",
       "  <tbody>\n",
       "    <tr>\n",
       "      <th>0</th>\n",
       "      <td>5</td>\n",
       "      <td>5</td>\n",
       "      <td>5</td>\n",
       "    </tr>\n",
       "    <tr>\n",
       "      <th>1</th>\n",
       "      <td>3</td>\n",
       "      <td>3</td>\n",
       "      <td>3</td>\n",
       "    </tr>\n",
       "    <tr>\n",
       "      <th>2</th>\n",
       "      <td>1</td>\n",
       "      <td>1</td>\n",
       "      <td>1</td>\n",
       "    </tr>\n",
       "    <tr>\n",
       "      <th>3</th>\n",
       "      <td>1</td>\n",
       "      <td>1</td>\n",
       "      <td>1</td>\n",
       "    </tr>\n",
       "  </tbody>\n",
       "</table>\n",
       "</div>"
      ],
      "text/plain": [
       "   english  chinese  japanese\n",
       "0        5        5         5\n",
       "1        3        3         3\n",
       "2        1        1         1\n",
       "3        1        1         1"
      ]
     },
     "execution_count": 82,
     "metadata": {},
     "output_type": "execute_result"
    }
   ],
   "source": [
    "# 어학 종류별 등급의 갯수\n",
    "df.apply(pd.Series.value_counts)"
   ]
  },
  {
   "cell_type": "markdown",
   "id": "4fe9e592-5b94-435b-8f9e-fb60f9c00565",
   "metadata": {},
   "source": [
    "# 데이터의 그룹별 작업"
   ]
  },
  {
   "cell_type": "markdown",
   "id": "6a98f1e2-02b2-4647-85d4-3475e159f6df",
   "metadata": {},
   "source": [
    "- 작업 목적에 따른 분류\n",
    "\n",
    "1. Aggregation\n",
    "    + 각 그룹에 함수 적용 후 그룹별 함수 결과 형태의 객체 반환\n",
    "    + 예) 그룹별 합계, 평균, 갯수 구하기\n",
    "2. Transformation\n",
    "    + 각 그룹에 함수 적용 후, index-like 객체 반환\n",
    "    + 예) 그룹 내 데이터 표준화, 각 그룹별 산출값으로 NA value 채우기\n",
    "3. Filtration\n",
    "    + 각 그룹에 함수 적용 후 그 결과가 True 인 것만 남김 (False인 것 삭제)\n",
    "    + 예) 데이터 갯수가 적은 그룹 제거, 합계, 평균 등에 기반한 데이터 추출"
   ]
  },
  {
   "cell_type": "code",
   "execution_count": 83,
   "id": "13ed9892-5727-4672-be2f-fa700b101c99",
   "metadata": {},
   "outputs": [],
   "source": [
    "# Aggregation:     dept별 salary 평균 : index 가 변경됨\n",
    "# Transformation : dept별 salary 평균 : index 가 유지됨\n",
    "# Filtration :     dept별 salary 평균이 전체 평균 초과 : index 가 유지되나 filter 되어 표시됨"
   ]
  },
  {
   "cell_type": "markdown",
   "id": "f36c1413-11ac-492f-9a8f-2c8c2fb92da8",
   "metadata": {},
   "source": [
    "![nn](./images/pandas-06.png)"
   ]
  },
  {
   "cell_type": "markdown",
   "id": "3ee077c8-8858-4414-8c65-f406d1387936",
   "metadata": {},
   "source": [
    "## groupby 작업"
   ]
  },
  {
   "cell_type": "markdown",
   "id": "8df25295-ba48-4f34-bd8c-1d992786f6c7",
   "metadata": {},
   "source": [
    "- `df.groupby(by=None, axis=0, level=None, sort=True, as_index=True, ...)`\n",
    "- by/level 에 의해 그룹화된 DataFrameGroupBy / SeriesGroupBy 객체 반환\n",
    "- by : mapping, function, label or list of labels\n",
    "    + functions 의 경우 객체의 index 각 항을 대상으로 함\n",
    "- axis : 0 인 경우 행, 1 인 경우 열 기준으로 그룹 나누기 작업 진행\n",
    "- level : Multiindex 인 경우 level 을 기준으로 그룹 나누기\n",
    "- sort : 정렬할 것인지 결정하는 것으로 False 가 성능면에서 좋음\n",
    "- as_index : True 인 경우 group_label 을 index 로 사용함\n",
    "- https://pandas.pydata.org/docs/reference/api/pandas.DataFrame.groupby.html#pandas-dataframe-groupby"
   ]
  },
  {
   "cell_type": "code",
   "execution_count": 84,
   "id": "400fcf80-89af-4bd0-8441-25b53d27ec2b",
   "metadata": {},
   "outputs": [
    {
     "name": "stdout",
     "output_type": "stream",
     "text": [
      "Done!!! make sample4\n"
     ]
    }
   ],
   "source": [
    "def makeSample4():\n",
    "    mySample = shelve.open('./data/mysample')\n",
    "    df = mySample['sample3']\n",
    "    df['dept'] = df['dept'].astype(np.object_)\n",
    "    df['age'] = df['birth'].map(lambda x : 2023 - x.year + 1)\n",
    "    df['gender'] = pd.Series(np.array(list('MFMMFFMMMF')), index=df.index)\n",
    "    df.index = pd.RangeIndex(len(df))\n",
    "    mySample['sample4'] = df\n",
    "    print(\"Done!!! make sample4\")\n",
    "    mySample.close()\n",
    "    return df\n",
    "\n",
    "df = makeSample4()"
   ]
  },
  {
   "cell_type": "code",
   "execution_count": 85,
   "id": "dfe73703-3ef4-4025-99b9-b87cff54f086",
   "metadata": {},
   "outputs": [
    {
     "data": {
      "text/html": [
       "<div>\n",
       "<style scoped>\n",
       "    .dataframe tbody tr th:only-of-type {\n",
       "        vertical-align: middle;\n",
       "    }\n",
       "\n",
       "    .dataframe tbody tr th {\n",
       "        vertical-align: top;\n",
       "    }\n",
       "\n",
       "    .dataframe thead th {\n",
       "        text-align: right;\n",
       "    }\n",
       "</style>\n",
       "<table border=\"1\" class=\"dataframe\">\n",
       "  <thead>\n",
       "    <tr style=\"text-align: right;\">\n",
       "      <th></th>\n",
       "      <th>pname</th>\n",
       "      <th>birth</th>\n",
       "      <th>dept</th>\n",
       "      <th>english</th>\n",
       "      <th>japanese</th>\n",
       "      <th>chinese</th>\n",
       "      <th>salary</th>\n",
       "      <th>overtime</th>\n",
       "      <th>age</th>\n",
       "      <th>gender</th>\n",
       "    </tr>\n",
       "  </thead>\n",
       "  <tbody>\n",
       "    <tr>\n",
       "      <th>0</th>\n",
       "      <td>James Kim</td>\n",
       "      <td>1990-01-23</td>\n",
       "      <td>Education</td>\n",
       "      <td>1</td>\n",
       "      <td>1</td>\n",
       "      <td>0</td>\n",
       "      <td>3456</td>\n",
       "      <td>0 days 23:10:10</td>\n",
       "      <td>34</td>\n",
       "      <td>M</td>\n",
       "    </tr>\n",
       "    <tr>\n",
       "      <th>1</th>\n",
       "      <td>Rose Hwang</td>\n",
       "      <td>1992-10-11</td>\n",
       "      <td>Marketing</td>\n",
       "      <td>0</td>\n",
       "      <td>2</td>\n",
       "      <td>0</td>\n",
       "      <td>4320</td>\n",
       "      <td>0 days 10:15:17</td>\n",
       "      <td>32</td>\n",
       "      <td>F</td>\n",
       "    </tr>\n",
       "    <tr>\n",
       "      <th>2</th>\n",
       "      <td>Sam Park</td>\n",
       "      <td>1995-07-02</td>\n",
       "      <td>Education</td>\n",
       "      <td>1</td>\n",
       "      <td>0</td>\n",
       "      <td>0</td>\n",
       "      <td>5600</td>\n",
       "      <td>0 days 16:21:10</td>\n",
       "      <td>29</td>\n",
       "      <td>M</td>\n",
       "    </tr>\n",
       "    <tr>\n",
       "      <th>3</th>\n",
       "      <td>Chris Jang</td>\n",
       "      <td>1990-11-23</td>\n",
       "      <td>Education</td>\n",
       "      <td>0</td>\n",
       "      <td>0</td>\n",
       "      <td>3</td>\n",
       "      <td>4500</td>\n",
       "      <td>0 days 15:00:20</td>\n",
       "      <td>34</td>\n",
       "      <td>M</td>\n",
       "    </tr>\n",
       "    <tr>\n",
       "      <th>4</th>\n",
       "      <td>Grace Lee</td>\n",
       "      <td>1993-02-01</td>\n",
       "      <td>Marketing</td>\n",
       "      <td>0</td>\n",
       "      <td>0</td>\n",
       "      <td>0</td>\n",
       "      <td>3150</td>\n",
       "      <td>0 days 21:19:50</td>\n",
       "      <td>31</td>\n",
       "      <td>F</td>\n",
       "    </tr>\n",
       "  </tbody>\n",
       "</table>\n",
       "</div>"
      ],
      "text/plain": [
       "        pname      birth       dept  english  japanese  chinese  salary  \\\n",
       "0   James Kim 1990-01-23  Education        1         1        0    3456   \n",
       "1  Rose Hwang 1992-10-11  Marketing        0         2        0    4320   \n",
       "2    Sam Park 1995-07-02  Education        1         0        0    5600   \n",
       "3  Chris Jang 1990-11-23  Education        0         0        3    4500   \n",
       "4   Grace Lee 1993-02-01  Marketing        0         0        0    3150   \n",
       "\n",
       "         overtime  age gender  \n",
       "0 0 days 23:10:10   34      M  \n",
       "1 0 days 10:15:17   32      F  \n",
       "2 0 days 16:21:10   29      M  \n",
       "3 0 days 15:00:20   34      M  \n",
       "4 0 days 21:19:50   31      F  "
      ]
     },
     "execution_count": 85,
     "metadata": {},
     "output_type": "execute_result"
    }
   ],
   "source": [
    "with shelve.open('./data/mysample') as myf:\n",
    "    df = myf['sample4']\n",
    "\n",
    "df.head()"
   ]
  },
  {
   "cell_type": "code",
   "execution_count": 86,
   "id": "6b87f5ca-10c0-41a8-a01d-4b48c286b252",
   "metadata": {},
   "outputs": [
    {
     "name": "stdout",
     "output_type": "stream",
     "text": [
      "<class 'pandas.core.frame.DataFrame'>\n",
      "RangeIndex: 10 entries, 0 to 9\n",
      "Data columns (total 10 columns):\n",
      " #   Column    Non-Null Count  Dtype          \n",
      "---  ------    --------------  -----          \n",
      " 0   pname     10 non-null     object         \n",
      " 1   birth     10 non-null     datetime64[ns] \n",
      " 2   dept      10 non-null     object         \n",
      " 3   english   10 non-null     int32          \n",
      " 4   japanese  10 non-null     int32          \n",
      " 5   chinese   10 non-null     int32          \n",
      " 6   salary    10 non-null     int32          \n",
      " 7   overtime  10 non-null     timedelta64[ns]\n",
      " 8   age       10 non-null     int64          \n",
      " 9   gender    10 non-null     object         \n",
      "dtypes: datetime64[ns](1), int32(4), int64(1), object(3), timedelta64[ns](1)\n",
      "memory usage: 768.0+ bytes\n"
     ]
    }
   ],
   "source": [
    "df.info()"
   ]
  },
  {
   "cell_type": "code",
   "execution_count": 87,
   "id": "cc4ecabd-7973-435d-8f49-11e96d5911b4",
   "metadata": {},
   "outputs": [
    {
     "data": {
      "text/plain": [
       "(pandas.core.groupby.generic.DataFrameGroupBy,\n",
       " <pandas.core.groupby.generic.DataFrameGroupBy object at 0x7f8471aeff10>)"
      ]
     },
     "execution_count": 87,
     "metadata": {},
     "output_type": "execute_result"
    }
   ],
   "source": [
    "# df.groupby 메서드를 사용하여 'dept'를 기준으로 DataFrameGroupBy 객체 생성함\n",
    "dept_gb = df.groupby(by='dept')\n",
    "type(dept_gb), dept_gb"
   ]
  },
  {
   "cell_type": "code",
   "execution_count": 88,
   "id": "60a240e3-10d4-4c94-8e29-f2ce0dde77ab",
   "metadata": {},
   "outputs": [
    {
     "data": {
      "text/plain": [
       "'Accounting'"
      ]
     },
     "metadata": {},
     "output_type": "display_data"
    },
    {
     "data": {
      "text/html": [
       "<div>\n",
       "<style scoped>\n",
       "    .dataframe tbody tr th:only-of-type {\n",
       "        vertical-align: middle;\n",
       "    }\n",
       "\n",
       "    .dataframe tbody tr th {\n",
       "        vertical-align: top;\n",
       "    }\n",
       "\n",
       "    .dataframe thead th {\n",
       "        text-align: right;\n",
       "    }\n",
       "</style>\n",
       "<table border=\"1\" class=\"dataframe\">\n",
       "  <thead>\n",
       "    <tr style=\"text-align: right;\">\n",
       "      <th></th>\n",
       "      <th>pname</th>\n",
       "      <th>dept</th>\n",
       "      <th>salary</th>\n",
       "      <th>overtime</th>\n",
       "      <th>age</th>\n",
       "      <th>gender</th>\n",
       "    </tr>\n",
       "  </thead>\n",
       "  <tbody>\n",
       "    <tr>\n",
       "      <th>6</th>\n",
       "      <td>Chirle Song</td>\n",
       "      <td>Accounting</td>\n",
       "      <td>4800</td>\n",
       "      <td>0 days 09:50:30</td>\n",
       "      <td>31</td>\n",
       "      <td>M</td>\n",
       "    </tr>\n",
       "  </tbody>\n",
       "</table>\n",
       "</div>"
      ],
      "text/plain": [
       "         pname        dept  salary        overtime  age gender\n",
       "6  Chirle Song  Accounting    4800 0 days 09:50:30   31      M"
      ]
     },
     "metadata": {},
     "output_type": "display_data"
    },
    {
     "name": "stdout",
     "output_type": "stream",
     "text": [
      "------------------------------------------------------------\n"
     ]
    },
    {
     "data": {
      "text/plain": [
       "'Education'"
      ]
     },
     "metadata": {},
     "output_type": "display_data"
    },
    {
     "data": {
      "text/html": [
       "<div>\n",
       "<style scoped>\n",
       "    .dataframe tbody tr th:only-of-type {\n",
       "        vertical-align: middle;\n",
       "    }\n",
       "\n",
       "    .dataframe tbody tr th {\n",
       "        vertical-align: top;\n",
       "    }\n",
       "\n",
       "    .dataframe thead th {\n",
       "        text-align: right;\n",
       "    }\n",
       "</style>\n",
       "<table border=\"1\" class=\"dataframe\">\n",
       "  <thead>\n",
       "    <tr style=\"text-align: right;\">\n",
       "      <th></th>\n",
       "      <th>pname</th>\n",
       "      <th>dept</th>\n",
       "      <th>salary</th>\n",
       "      <th>overtime</th>\n",
       "      <th>age</th>\n",
       "      <th>gender</th>\n",
       "    </tr>\n",
       "  </thead>\n",
       "  <tbody>\n",
       "    <tr>\n",
       "      <th>0</th>\n",
       "      <td>James Kim</td>\n",
       "      <td>Education</td>\n",
       "      <td>3456</td>\n",
       "      <td>0 days 23:10:10</td>\n",
       "      <td>34</td>\n",
       "      <td>M</td>\n",
       "    </tr>\n",
       "    <tr>\n",
       "      <th>2</th>\n",
       "      <td>Sam Park</td>\n",
       "      <td>Education</td>\n",
       "      <td>5600</td>\n",
       "      <td>0 days 16:21:10</td>\n",
       "      <td>29</td>\n",
       "      <td>M</td>\n",
       "    </tr>\n",
       "    <tr>\n",
       "      <th>3</th>\n",
       "      <td>Chris Jang</td>\n",
       "      <td>Education</td>\n",
       "      <td>4500</td>\n",
       "      <td>0 days 15:00:20</td>\n",
       "      <td>34</td>\n",
       "      <td>M</td>\n",
       "    </tr>\n",
       "    <tr>\n",
       "      <th>5</th>\n",
       "      <td>Juile Yoon</td>\n",
       "      <td>Education</td>\n",
       "      <td>4200</td>\n",
       "      <td>0 days 14:10:40</td>\n",
       "      <td>32</td>\n",
       "      <td>F</td>\n",
       "    </tr>\n",
       "    <tr>\n",
       "      <th>9</th>\n",
       "      <td>Anne Lee</td>\n",
       "      <td>Education</td>\n",
       "      <td>4750</td>\n",
       "      <td>0 days 19:50:20</td>\n",
       "      <td>31</td>\n",
       "      <td>F</td>\n",
       "    </tr>\n",
       "  </tbody>\n",
       "</table>\n",
       "</div>"
      ],
      "text/plain": [
       "        pname       dept  salary        overtime  age gender\n",
       "0   James Kim  Education    3456 0 days 23:10:10   34      M\n",
       "2    Sam Park  Education    5600 0 days 16:21:10   29      M\n",
       "3  Chris Jang  Education    4500 0 days 15:00:20   34      M\n",
       "5  Juile Yoon  Education    4200 0 days 14:10:40   32      F\n",
       "9    Anne Lee  Education    4750 0 days 19:50:20   31      F"
      ]
     },
     "metadata": {},
     "output_type": "display_data"
    },
    {
     "name": "stdout",
     "output_type": "stream",
     "text": [
      "------------------------------------------------------------\n"
     ]
    },
    {
     "data": {
      "text/plain": [
       "'Marketing'"
      ]
     },
     "metadata": {},
     "output_type": "display_data"
    },
    {
     "data": {
      "text/html": [
       "<div>\n",
       "<style scoped>\n",
       "    .dataframe tbody tr th:only-of-type {\n",
       "        vertical-align: middle;\n",
       "    }\n",
       "\n",
       "    .dataframe tbody tr th {\n",
       "        vertical-align: top;\n",
       "    }\n",
       "\n",
       "    .dataframe thead th {\n",
       "        text-align: right;\n",
       "    }\n",
       "</style>\n",
       "<table border=\"1\" class=\"dataframe\">\n",
       "  <thead>\n",
       "    <tr style=\"text-align: right;\">\n",
       "      <th></th>\n",
       "      <th>pname</th>\n",
       "      <th>dept</th>\n",
       "      <th>salary</th>\n",
       "      <th>overtime</th>\n",
       "      <th>age</th>\n",
       "      <th>gender</th>\n",
       "    </tr>\n",
       "  </thead>\n",
       "  <tbody>\n",
       "    <tr>\n",
       "      <th>1</th>\n",
       "      <td>Rose Hwang</td>\n",
       "      <td>Marketing</td>\n",
       "      <td>4320</td>\n",
       "      <td>0 days 10:15:17</td>\n",
       "      <td>32</td>\n",
       "      <td>F</td>\n",
       "    </tr>\n",
       "    <tr>\n",
       "      <th>4</th>\n",
       "      <td>Grace Lee</td>\n",
       "      <td>Marketing</td>\n",
       "      <td>3150</td>\n",
       "      <td>0 days 21:19:50</td>\n",
       "      <td>31</td>\n",
       "      <td>F</td>\n",
       "    </tr>\n",
       "  </tbody>\n",
       "</table>\n",
       "</div>"
      ],
      "text/plain": [
       "        pname       dept  salary        overtime  age gender\n",
       "1  Rose Hwang  Marketing    4320 0 days 10:15:17   32      F\n",
       "4   Grace Lee  Marketing    3150 0 days 21:19:50   31      F"
      ]
     },
     "metadata": {},
     "output_type": "display_data"
    },
    {
     "name": "stdout",
     "output_type": "stream",
     "text": [
      "------------------------------------------------------------\n"
     ]
    },
    {
     "data": {
      "text/plain": [
       "'Sales'"
      ]
     },
     "metadata": {},
     "output_type": "display_data"
    },
    {
     "data": {
      "text/html": [
       "<div>\n",
       "<style scoped>\n",
       "    .dataframe tbody tr th:only-of-type {\n",
       "        vertical-align: middle;\n",
       "    }\n",
       "\n",
       "    .dataframe tbody tr th {\n",
       "        vertical-align: top;\n",
       "    }\n",
       "\n",
       "    .dataframe thead th {\n",
       "        text-align: right;\n",
       "    }\n",
       "</style>\n",
       "<table border=\"1\" class=\"dataframe\">\n",
       "  <thead>\n",
       "    <tr style=\"text-align: right;\">\n",
       "      <th></th>\n",
       "      <th>pname</th>\n",
       "      <th>dept</th>\n",
       "      <th>salary</th>\n",
       "      <th>overtime</th>\n",
       "      <th>age</th>\n",
       "      <th>gender</th>\n",
       "    </tr>\n",
       "  </thead>\n",
       "  <tbody>\n",
       "    <tr>\n",
       "      <th>7</th>\n",
       "      <td>Bob Kim</td>\n",
       "      <td>Sales</td>\n",
       "      <td>10100</td>\n",
       "      <td>0 days 08:40:40</td>\n",
       "      <td>33</td>\n",
       "      <td>M</td>\n",
       "    </tr>\n",
       "    <tr>\n",
       "      <th>8</th>\n",
       "      <td>John Park</td>\n",
       "      <td>Sales</td>\n",
       "      <td>6840</td>\n",
       "      <td>0 days 17:30:20</td>\n",
       "      <td>32</td>\n",
       "      <td>M</td>\n",
       "    </tr>\n",
       "  </tbody>\n",
       "</table>\n",
       "</div>"
      ],
      "text/plain": [
       "       pname   dept  salary        overtime  age gender\n",
       "7    Bob Kim  Sales   10100 0 days 08:40:40   33      M\n",
       "8  John Park  Sales    6840 0 days 17:30:20   32      M"
      ]
     },
     "metadata": {},
     "output_type": "display_data"
    },
    {
     "name": "stdout",
     "output_type": "stream",
     "text": [
      "------------------------------------------------------------\n"
     ]
    }
   ],
   "source": [
    "df1 = df[['pname', 'dept', 'salary', 'overtime', 'age', 'gender']]\n",
    "# df1을 사용하여 작업해 보자\n",
    "# df1을 사용하여 'dept'를 기준으로 DataFrameGroupBy 객체를 생성하고 이름을 dept_gb로 한다\n",
    "# dept_gb를 사용하여 각 그룹의 이름과, 그룹별 DataFrame을 출력해 보자\n",
    "# DataFrameGroupBy 객체는 Iterable 이다\n",
    "\n",
    "# dept_gb = df1.groupby(by='dept')\n",
    "# temp = next(iter(dept_gb))\n",
    "# name, df_part = temp\n",
    "# display(type(name), type(df_part))\n",
    "\n",
    "for name, dftemp in df1.groupby(by='dept'):\n",
    "    display(name, dftemp)\n",
    "    print(\"-\" * 60)"
   ]
  },
  {
   "cell_type": "code",
   "execution_count": 89,
   "id": "e2fe3b98-6575-403b-b8ca-6b33b922f135",
   "metadata": {},
   "outputs": [
    {
     "data": {
      "text/plain": [
       "pandas.core.frame.DataFrame"
      ]
     },
     "metadata": {},
     "output_type": "display_data"
    },
    {
     "data": {
      "text/html": [
       "<div>\n",
       "<style scoped>\n",
       "    .dataframe tbody tr th:only-of-type {\n",
       "        vertical-align: middle;\n",
       "    }\n",
       "\n",
       "    .dataframe tbody tr th {\n",
       "        vertical-align: top;\n",
       "    }\n",
       "\n",
       "    .dataframe thead th {\n",
       "        text-align: right;\n",
       "    }\n",
       "</style>\n",
       "<table border=\"1\" class=\"dataframe\">\n",
       "  <thead>\n",
       "    <tr style=\"text-align: right;\">\n",
       "      <th></th>\n",
       "      <th>pname</th>\n",
       "      <th>dept</th>\n",
       "      <th>salary</th>\n",
       "      <th>overtime</th>\n",
       "      <th>age</th>\n",
       "      <th>gender</th>\n",
       "    </tr>\n",
       "  </thead>\n",
       "  <tbody>\n",
       "    <tr>\n",
       "      <th>0</th>\n",
       "      <td>James Kim</td>\n",
       "      <td>Education</td>\n",
       "      <td>3456</td>\n",
       "      <td>0 days 23:10:10</td>\n",
       "      <td>34</td>\n",
       "      <td>M</td>\n",
       "    </tr>\n",
       "    <tr>\n",
       "      <th>2</th>\n",
       "      <td>Sam Park</td>\n",
       "      <td>Education</td>\n",
       "      <td>5600</td>\n",
       "      <td>0 days 16:21:10</td>\n",
       "      <td>29</td>\n",
       "      <td>M</td>\n",
       "    </tr>\n",
       "    <tr>\n",
       "      <th>3</th>\n",
       "      <td>Chris Jang</td>\n",
       "      <td>Education</td>\n",
       "      <td>4500</td>\n",
       "      <td>0 days 15:00:20</td>\n",
       "      <td>34</td>\n",
       "      <td>M</td>\n",
       "    </tr>\n",
       "    <tr>\n",
       "      <th>5</th>\n",
       "      <td>Juile Yoon</td>\n",
       "      <td>Education</td>\n",
       "      <td>4200</td>\n",
       "      <td>0 days 14:10:40</td>\n",
       "      <td>32</td>\n",
       "      <td>F</td>\n",
       "    </tr>\n",
       "    <tr>\n",
       "      <th>9</th>\n",
       "      <td>Anne Lee</td>\n",
       "      <td>Education</td>\n",
       "      <td>4750</td>\n",
       "      <td>0 days 19:50:20</td>\n",
       "      <td>31</td>\n",
       "      <td>F</td>\n",
       "    </tr>\n",
       "  </tbody>\n",
       "</table>\n",
       "</div>"
      ],
      "text/plain": [
       "        pname       dept  salary        overtime  age gender\n",
       "0   James Kim  Education    3456 0 days 23:10:10   34      M\n",
       "2    Sam Park  Education    5600 0 days 16:21:10   29      M\n",
       "3  Chris Jang  Education    4500 0 days 15:00:20   34      M\n",
       "5  Juile Yoon  Education    4200 0 days 14:10:40   32      F\n",
       "9    Anne Lee  Education    4750 0 days 19:50:20   31      F"
      ]
     },
     "metadata": {},
     "output_type": "display_data"
    }
   ],
   "source": [
    "# 위에서 생성된 dept_gb를 사용하여 'Education'에 대한 DataFrame만 출력해 보자\n",
    "# DataFrameGroupBy.get_group('group_name') 사용\n",
    "\n",
    "temp = df1.groupby(by='dept').get_group('Education')\n",
    "display(type(temp), temp)"
   ]
  },
  {
   "cell_type": "code",
   "execution_count": 90,
   "id": "bac45f9e-2f49-4475-bb10-88de4f23ddce",
   "metadata": {},
   "outputs": [],
   "source": [
    "# 그룹별 작업은 다음 단계를 거쳐 결과를 만들어 낸다\n",
    "# 1. Splitting : 그룹 분류 기준에 따라 데이터를 그룹으로 분리\n",
    "# 2. Applying : 각 그룹별로 연산 적용\n",
    "# 3. Combining : applying의 결과를 하나의 데이터 구조로 결합"
   ]
  },
  {
   "cell_type": "markdown",
   "id": "bd809f6d-e50a-49e1-adcb-e307564d8ef5",
   "metadata": {},
   "source": [
    "- Aggregation 작업\n",
    "![nn](./images/pandas-07.png)"
   ]
  },
  {
   "cell_type": "code",
   "execution_count": 91,
   "id": "e5dbbf6f-64d8-477b-8e4d-7c3d2e2ff146",
   "metadata": {},
   "outputs": [
    {
     "name": "stdout",
     "output_type": "stream",
     "text": [
      "<class 'pandas.core.frame.DataFrame'>\n",
      "RangeIndex: 10 entries, 0 to 9\n",
      "Data columns (total 6 columns):\n",
      " #   Column    Non-Null Count  Dtype          \n",
      "---  ------    --------------  -----          \n",
      " 0   pname     10 non-null     object         \n",
      " 1   dept      10 non-null     object         \n",
      " 2   salary    10 non-null     int32          \n",
      " 3   overtime  10 non-null     timedelta64[ns]\n",
      " 4   age       10 non-null     int64          \n",
      " 5   gender    10 non-null     object         \n",
      "dtypes: int32(1), int64(1), object(3), timedelta64[ns](1)\n",
      "memory usage: 568.0+ bytes\n"
     ]
    }
   ],
   "source": [
    "df1.info()"
   ]
  },
  {
   "cell_type": "code",
   "execution_count": 92,
   "id": "b9b4ab04-d541-4924-9380-16db0675e189",
   "metadata": {},
   "outputs": [
    {
     "name": "stderr",
     "output_type": "stream",
     "text": [
      "/var/folders/3k/bgnrnfc15w792712mgb6g0_c0000gn/T/ipykernel_11792/3270771572.py:6: FutureWarning: The default value of numeric_only in DataFrameGroupBy.mean is deprecated. In a future version, numeric_only will default to False. Either specify numeric_only or select only columns which should be valid for the function.\n",
      "  dept_gb.mean()\n"
     ]
    },
    {
     "data": {
      "text/html": [
       "<div>\n",
       "<style scoped>\n",
       "    .dataframe tbody tr th:only-of-type {\n",
       "        vertical-align: middle;\n",
       "    }\n",
       "\n",
       "    .dataframe tbody tr th {\n",
       "        vertical-align: top;\n",
       "    }\n",
       "\n",
       "    .dataframe thead th {\n",
       "        text-align: right;\n",
       "    }\n",
       "</style>\n",
       "<table border=\"1\" class=\"dataframe\">\n",
       "  <thead>\n",
       "    <tr style=\"text-align: right;\">\n",
       "      <th></th>\n",
       "      <th>salary</th>\n",
       "      <th>age</th>\n",
       "    </tr>\n",
       "    <tr>\n",
       "      <th>dept</th>\n",
       "      <th></th>\n",
       "      <th></th>\n",
       "    </tr>\n",
       "  </thead>\n",
       "  <tbody>\n",
       "    <tr>\n",
       "      <th>Accounting</th>\n",
       "      <td>4800.0</td>\n",
       "      <td>31.0</td>\n",
       "    </tr>\n",
       "    <tr>\n",
       "      <th>Education</th>\n",
       "      <td>4501.2</td>\n",
       "      <td>32.0</td>\n",
       "    </tr>\n",
       "    <tr>\n",
       "      <th>Marketing</th>\n",
       "      <td>3735.0</td>\n",
       "      <td>31.5</td>\n",
       "    </tr>\n",
       "    <tr>\n",
       "      <th>Sales</th>\n",
       "      <td>8470.0</td>\n",
       "      <td>32.5</td>\n",
       "    </tr>\n",
       "  </tbody>\n",
       "</table>\n",
       "</div>"
      ],
      "text/plain": [
       "            salary   age\n",
       "dept                    \n",
       "Accounting  4800.0  31.0\n",
       "Education   4501.2  32.0\n",
       "Marketing   3735.0  31.5\n",
       "Sales       8470.0  32.5"
      ]
     },
     "execution_count": 92,
     "metadata": {},
     "output_type": "execute_result"
    }
   ],
   "source": [
    "# df1을 사용하여 \n",
    "#'dept' 별로 group를 만든 뒤,  : split\n",
    "# 각 그룹별 평균을 구해보자    : apply(numeric type), combine\n",
    "\n",
    "dept_gb = df1.groupby(by='dept')\n",
    "dept_gb.mean()"
   ]
  },
  {
   "cell_type": "code",
   "execution_count": 93,
   "id": "f1821d48-c439-4077-a6c1-ff74b63a4b09",
   "metadata": {},
   "outputs": [
    {
     "data": {
      "text/plain": [
       "dept\n",
       "Accounting    4800.0\n",
       "Education     4501.2\n",
       "Marketing     3735.0\n",
       "Sales         8470.0\n",
       "Name: salary, dtype: float64"
      ]
     },
     "execution_count": 93,
     "metadata": {},
     "output_type": "execute_result"
    }
   ],
   "source": [
    "# df1을 사용하여 'dept' 별로 group를 만든 뒤,\n",
    "# 'salary'에 대해서만 각 그룹별 평균을 구해보자\n",
    "\n",
    "dept_gb = df1.groupby(by='dept')['salary']\n",
    "dept_gb.mean()"
   ]
  },
  {
   "cell_type": "code",
   "execution_count": 94,
   "id": "8b1547c1-e09d-4733-8ff4-e5aff6c00b23",
   "metadata": {},
   "outputs": [
    {
     "data": {
      "text/plain": [
       "dept\n",
       "Accounting    4800.0\n",
       "Education     4501.2\n",
       "Marketing     3735.0\n",
       "Sales         8470.0\n",
       "Name: salary, dtype: float64"
      ]
     },
     "execution_count": 94,
     "metadata": {},
     "output_type": "execute_result"
    }
   ],
   "source": [
    "# 위의 두 줄을 한 줄로 작성한 것\n",
    "# df1을 사용하여 'dept' 별로 group를 만든 뒤, \n",
    "# 'salary'에 대해서만 각 그룹별 평균을 구해보자\n",
    "\n",
    "s_dept = df1.groupby(by='dept')['salary'].mean()\n",
    "s_dept"
   ]
  },
  {
   "cell_type": "code",
   "execution_count": 95,
   "id": "47e56ca8-e440-43f6-a76d-d0375e00e00f",
   "metadata": {},
   "outputs": [
    {
     "data": {
      "text/html": [
       "<div>\n",
       "<style scoped>\n",
       "    .dataframe tbody tr th:only-of-type {\n",
       "        vertical-align: middle;\n",
       "    }\n",
       "\n",
       "    .dataframe tbody tr th {\n",
       "        vertical-align: top;\n",
       "    }\n",
       "\n",
       "    .dataframe thead th {\n",
       "        text-align: right;\n",
       "    }\n",
       "</style>\n",
       "<table border=\"1\" class=\"dataframe\">\n",
       "  <thead>\n",
       "    <tr style=\"text-align: right;\">\n",
       "      <th></th>\n",
       "      <th>age</th>\n",
       "    </tr>\n",
       "    <tr>\n",
       "      <th>dept</th>\n",
       "      <th></th>\n",
       "    </tr>\n",
       "  </thead>\n",
       "  <tbody>\n",
       "    <tr>\n",
       "      <th>Accounting</th>\n",
       "      <td>31.0</td>\n",
       "    </tr>\n",
       "    <tr>\n",
       "      <th>Education</th>\n",
       "      <td>32.0</td>\n",
       "    </tr>\n",
       "    <tr>\n",
       "      <th>Marketing</th>\n",
       "      <td>31.5</td>\n",
       "    </tr>\n",
       "    <tr>\n",
       "      <th>Sales</th>\n",
       "      <td>32.5</td>\n",
       "    </tr>\n",
       "  </tbody>\n",
       "</table>\n",
       "</div>"
      ],
      "text/plain": [
       "             age\n",
       "dept            \n",
       "Accounting  31.0\n",
       "Education   32.0\n",
       "Marketing   31.5\n",
       "Sales       32.5"
      ]
     },
     "execution_count": 95,
     "metadata": {},
     "output_type": "execute_result"
    }
   ],
   "source": [
    "# df1을 사용하여 'dept'별로 'age'에 대한 평균을 구하여 DataFrame으로 작성\n",
    "df_dept = df1.groupby(by='dept')[['age']].mean()\n",
    "df_dept"
   ]
  },
  {
   "cell_type": "code",
   "execution_count": 96,
   "id": "f82cc2d1-70c2-40b5-9d21-a28493a8b858",
   "metadata": {},
   "outputs": [
    {
     "data": {
      "text/html": [
       "<div>\n",
       "<style scoped>\n",
       "    .dataframe tbody tr th:only-of-type {\n",
       "        vertical-align: middle;\n",
       "    }\n",
       "\n",
       "    .dataframe tbody tr th {\n",
       "        vertical-align: top;\n",
       "    }\n",
       "\n",
       "    .dataframe thead th {\n",
       "        text-align: right;\n",
       "    }\n",
       "</style>\n",
       "<table border=\"1\" class=\"dataframe\">\n",
       "  <thead>\n",
       "    <tr style=\"text-align: right;\">\n",
       "      <th></th>\n",
       "      <th>salary</th>\n",
       "      <th>age</th>\n",
       "    </tr>\n",
       "    <tr>\n",
       "      <th>dept</th>\n",
       "      <th></th>\n",
       "      <th></th>\n",
       "    </tr>\n",
       "  </thead>\n",
       "  <tbody>\n",
       "    <tr>\n",
       "      <th>Accounting</th>\n",
       "      <td>4800.0</td>\n",
       "      <td>31.0</td>\n",
       "    </tr>\n",
       "    <tr>\n",
       "      <th>Education</th>\n",
       "      <td>4501.2</td>\n",
       "      <td>32.0</td>\n",
       "    </tr>\n",
       "    <tr>\n",
       "      <th>Marketing</th>\n",
       "      <td>3735.0</td>\n",
       "      <td>31.5</td>\n",
       "    </tr>\n",
       "    <tr>\n",
       "      <th>Sales</th>\n",
       "      <td>8470.0</td>\n",
       "      <td>32.5</td>\n",
       "    </tr>\n",
       "  </tbody>\n",
       "</table>\n",
       "</div>"
      ],
      "text/plain": [
       "            salary   age\n",
       "dept                    \n",
       "Accounting  4800.0  31.0\n",
       "Education   4501.2  32.0\n",
       "Marketing   3735.0  31.5\n",
       "Sales       8470.0  32.5"
      ]
     },
     "execution_count": 96,
     "metadata": {},
     "output_type": "execute_result"
    }
   ],
   "source": [
    "# df1을 사용하여 'dept'별로 'age', 'salary'에 대해 평균을 구함\n",
    "df_dept = df1.groupby(by='dept')[['salary', 'age']].mean()\n",
    "df_dept"
   ]
  },
  {
   "cell_type": "code",
   "execution_count": 97,
   "id": "e025ba7a-6655-42f2-bbb6-df2fd9a826c6",
   "metadata": {},
   "outputs": [],
   "source": [
    "with shelve.open(\"./data/mysample\") as mySample:\n",
    "    df = mySample['sample4']\n",
    "    df1 = df.loc[:, ['dept', 'salary', 'chinese', 'gender']]"
   ]
  },
  {
   "cell_type": "code",
   "execution_count": 98,
   "id": "44dc39be-aef3-456f-a6ea-fe2c77859153",
   "metadata": {},
   "outputs": [
    {
     "data": {
      "text/html": [
       "<div>\n",
       "<style scoped>\n",
       "    .dataframe tbody tr th:only-of-type {\n",
       "        vertical-align: middle;\n",
       "    }\n",
       "\n",
       "    .dataframe tbody tr th {\n",
       "        vertical-align: top;\n",
       "    }\n",
       "\n",
       "    .dataframe thead th {\n",
       "        text-align: right;\n",
       "    }\n",
       "</style>\n",
       "<table border=\"1\" class=\"dataframe\">\n",
       "  <thead>\n",
       "    <tr style=\"text-align: right;\">\n",
       "      <th></th>\n",
       "      <th>dept</th>\n",
       "      <th>salary</th>\n",
       "      <th>chinese</th>\n",
       "      <th>gender</th>\n",
       "    </tr>\n",
       "  </thead>\n",
       "  <tbody>\n",
       "    <tr>\n",
       "      <th>0</th>\n",
       "      <td>Education</td>\n",
       "      <td>3456</td>\n",
       "      <td>0</td>\n",
       "      <td>M</td>\n",
       "    </tr>\n",
       "    <tr>\n",
       "      <th>1</th>\n",
       "      <td>Marketing</td>\n",
       "      <td>4320</td>\n",
       "      <td>0</td>\n",
       "      <td>F</td>\n",
       "    </tr>\n",
       "    <tr>\n",
       "      <th>2</th>\n",
       "      <td>Education</td>\n",
       "      <td>5600</td>\n",
       "      <td>0</td>\n",
       "      <td>M</td>\n",
       "    </tr>\n",
       "    <tr>\n",
       "      <th>3</th>\n",
       "      <td>Education</td>\n",
       "      <td>4500</td>\n",
       "      <td>3</td>\n",
       "      <td>M</td>\n",
       "    </tr>\n",
       "    <tr>\n",
       "      <th>4</th>\n",
       "      <td>Marketing</td>\n",
       "      <td>3150</td>\n",
       "      <td>0</td>\n",
       "      <td>F</td>\n",
       "    </tr>\n",
       "  </tbody>\n",
       "</table>\n",
       "</div>"
      ],
      "text/plain": [
       "        dept  salary  chinese gender\n",
       "0  Education    3456        0      M\n",
       "1  Marketing    4320        0      F\n",
       "2  Education    5600        0      M\n",
       "3  Education    4500        3      M\n",
       "4  Marketing    3150        0      F"
      ]
     },
     "execution_count": 98,
     "metadata": {},
     "output_type": "execute_result"
    }
   ],
   "source": [
    "df1.head()"
   ]
  },
  {
   "cell_type": "code",
   "execution_count": 99,
   "id": "a36bee3c-6e26-4801-b50a-ab2c49789e87",
   "metadata": {},
   "outputs": [
    {
     "data": {
      "text/plain": [
       "chinese\n",
       "0    5\n",
       "1    3\n",
       "2    1\n",
       "3    1\n",
       "Name: dept, dtype: int64"
      ]
     },
     "execution_count": 99,
     "metadata": {},
     "output_type": "execute_result"
    }
   ],
   "source": [
    "# 'chinese'의 등급별 개수 세기\n",
    "df1.groupby(by='chinese')['dept'].count()"
   ]
  },
  {
   "cell_type": "code",
   "execution_count": 100,
   "id": "d2c89d87-e3bd-40be-91d0-d7a2f5a2c789",
   "metadata": {},
   "outputs": [
    {
     "data": {
      "text/plain": [
       "dept        gender\n",
       "Accounting  M         1\n",
       "Education   F         2\n",
       "            M         3\n",
       "Marketing   F         2\n",
       "Sales       M         2\n",
       "Name: chinese, dtype: int64"
      ]
     },
     "execution_count": 100,
     "metadata": {},
     "output_type": "execute_result"
    }
   ],
   "source": [
    "# 'dept', 'gender'별 인원 세기  \n",
    "df1.groupby(by=['dept', 'gender'])['chinese'].count()"
   ]
  },
  {
   "cell_type": "code",
   "execution_count": 101,
   "id": "ad44e8bd-1c74-4d81-aa7b-01bfbf1bb5a8",
   "metadata": {},
   "outputs": [
    {
     "data": {
      "text/plain": [
       "dept        gender\n",
       "Accounting  M         1\n",
       "Education   M         3\n",
       "            F         2\n",
       "Marketing   F         2\n",
       "Sales       M         2\n",
       "Name: gender, dtype: int64"
      ]
     },
     "execution_count": 101,
     "metadata": {},
     "output_type": "execute_result"
    }
   ],
   "source": [
    "# 'dept', 'gender'별 인원 세기  (value_counts 사용)\n",
    "df1.groupby(by='dept')['gender'].value_counts()"
   ]
  },
  {
   "cell_type": "code",
   "execution_count": 102,
   "id": "27271d45-f2f0-4e6f-bd36-b11cdf0d258a",
   "metadata": {},
   "outputs": [],
   "source": [
    "df3 = df.loc[:, ['dept', 'age', 'gender', 'salary']]"
   ]
  },
  {
   "cell_type": "code",
   "execution_count": 103,
   "id": "cc2115a0-cd88-4d57-89bc-213c071d1ead",
   "metadata": {},
   "outputs": [
    {
     "data": {
      "text/html": [
       "<div>\n",
       "<style scoped>\n",
       "    .dataframe tbody tr th:only-of-type {\n",
       "        vertical-align: middle;\n",
       "    }\n",
       "\n",
       "    .dataframe tbody tr th {\n",
       "        vertical-align: top;\n",
       "    }\n",
       "\n",
       "    .dataframe thead th {\n",
       "        text-align: right;\n",
       "    }\n",
       "</style>\n",
       "<table border=\"1\" class=\"dataframe\">\n",
       "  <thead>\n",
       "    <tr style=\"text-align: right;\">\n",
       "      <th></th>\n",
       "      <th>dept</th>\n",
       "      <th>age</th>\n",
       "      <th>gender</th>\n",
       "      <th>salary</th>\n",
       "    </tr>\n",
       "  </thead>\n",
       "  <tbody>\n",
       "    <tr>\n",
       "      <th>0</th>\n",
       "      <td>Education</td>\n",
       "      <td>34</td>\n",
       "      <td>M</td>\n",
       "      <td>3456</td>\n",
       "    </tr>\n",
       "    <tr>\n",
       "      <th>1</th>\n",
       "      <td>Marketing</td>\n",
       "      <td>32</td>\n",
       "      <td>F</td>\n",
       "      <td>4320</td>\n",
       "    </tr>\n",
       "    <tr>\n",
       "      <th>2</th>\n",
       "      <td>Education</td>\n",
       "      <td>29</td>\n",
       "      <td>M</td>\n",
       "      <td>5600</td>\n",
       "    </tr>\n",
       "    <tr>\n",
       "      <th>3</th>\n",
       "      <td>Education</td>\n",
       "      <td>34</td>\n",
       "      <td>M</td>\n",
       "      <td>4500</td>\n",
       "    </tr>\n",
       "    <tr>\n",
       "      <th>4</th>\n",
       "      <td>Marketing</td>\n",
       "      <td>31</td>\n",
       "      <td>F</td>\n",
       "      <td>3150</td>\n",
       "    </tr>\n",
       "  </tbody>\n",
       "</table>\n",
       "</div>"
      ],
      "text/plain": [
       "        dept  age gender  salary\n",
       "0  Education   34      M    3456\n",
       "1  Marketing   32      F    4320\n",
       "2  Education   29      M    5600\n",
       "3  Education   34      M    4500\n",
       "4  Marketing   31      F    3150"
      ]
     },
     "execution_count": 103,
     "metadata": {},
     "output_type": "execute_result"
    }
   ],
   "source": [
    "df3.head()"
   ]
  },
  {
   "cell_type": "code",
   "execution_count": 104,
   "id": "2fca641d-95cf-4195-9d13-5431bb2bf6d8",
   "metadata": {},
   "outputs": [
    {
     "data": {
      "text/plain": [
       "age  gender\n",
       "20   M         1\n",
       "30   M         5\n",
       "     F         4\n",
       "Name: gender, dtype: int64"
      ]
     },
     "execution_count": 104,
     "metadata": {},
     "output_type": "execute_result"
    }
   ],
   "source": [
    "# 연령대별 'gender'의 인원수 세기\n",
    "# 연령대를 만드는 작업을 위해 'age'를 index로 변경 한 뒤, \n",
    "# 함수를 argument로 하는 groupby사용\n",
    "\n",
    "df3.set_index('age').groupby(by=lambda x : x//10 * 10)['gender'].value_counts()"
   ]
  },
  {
   "cell_type": "code",
   "execution_count": 105,
   "id": "c42bfe0b-514d-484a-807a-3679f3801da0",
   "metadata": {},
   "outputs": [
    {
     "data": {
      "text/plain": [
       "dept        gender\n",
       "Accounting  M         4800.000000\n",
       "Education   F         4475.000000\n",
       "            M         4518.666667\n",
       "Marketing   F         3735.000000\n",
       "Sales       M         8470.000000\n",
       "Name: salary, dtype: float64"
      ]
     },
     "execution_count": 105,
     "metadata": {},
     "output_type": "execute_result"
    }
   ],
   "source": [
    "# 'gender', 'dept'를 index로 설정 후,\n",
    "# groupby의 level parameter에 [1, 0]을 지정하여 'dept'별, 'gender'별 \n",
    "# 'salary'의 평균을 구한다\n",
    "\n",
    "df3.set_index(['gender', 'dept']).groupby(level=[1,0])['salary'].mean()"
   ]
  },
  {
   "cell_type": "code",
   "execution_count": 106,
   "id": "3b88d419-0a29-405f-a4e3-f428fc2d4bbc",
   "metadata": {},
   "outputs": [
    {
     "data": {
      "text/plain": [
       "gender\n",
       "F    31.500000\n",
       "M    32.166667\n",
       "Name: age, dtype: float64"
      ]
     },
     "execution_count": 106,
     "metadata": {},
     "output_type": "execute_result"
    }
   ],
   "source": [
    "# 'gender', 'dept'를 index로 설정 후,\n",
    "# groupby의 level parameter에 [0]을 지정하여 'gender'별 \n",
    "# 'age'의 평균을 구한다\n",
    "\n",
    "df3.set_index(['gender','dept']).groupby(level=0)['age'].mean()"
   ]
  },
  {
   "cell_type": "markdown",
   "id": "b565c2f9-860f-42f2-afd0-b787a1a22eed",
   "metadata": {},
   "source": [
    "## groupby의 function 관련 메서드 1 - gp.apply, gp.agg"
   ]
  },
  {
   "cell_type": "markdown",
   "id": "e08bd92e-7d93-45c2-865d-efe5fe834f5e",
   "metadata": {},
   "source": [
    "- `gp.apply(func, *args, **kwargs)`\n",
    "    + 그룹별로 func을 적용하고 결과를 Combine 함\n",
    "    + func 의 argument : 그룹별 DataFrame/Series 객체\n",
    "    + 결과로 DataFrame/Series 객체 반환 (변경된 index)\n",
    "- `gp.agg(func, axis=0, *args, **kwargs)`\n",
    "    + func : function, str, list or dict\n",
    "    + func 의 argument : 그룹별 DataFrame/Series 의 각 Series 객체(column)를 인수로 받음\n",
    "    + 결과로 DataFrame 또는 Series 반환 (변경된 index)"
   ]
  },
  {
   "cell_type": "markdown",
   "id": "9cf25c23-9d39-44df-95a0-f01d1135fa93",
   "metadata": {},
   "source": [
    "![nn](./images/pandas-08.png)"
   ]
  },
  {
   "cell_type": "code",
   "execution_count": 107,
   "id": "84a42374-1f86-4ff8-869b-be88af498cd9",
   "metadata": {},
   "outputs": [],
   "source": [
    "import warnings   # Suppress Deprecation and Incorrect Usage Warnings\n",
    "warnings.filterwarnings('ignore')"
   ]
  },
  {
   "cell_type": "code",
   "execution_count": 108,
   "id": "b1c96fbb-36ea-4ed3-a5bd-b810f71c4c54",
   "metadata": {},
   "outputs": [],
   "source": [
    "with shelve.open(\"./data/mysample\") as mySample:\n",
    "    df = mySample['sample4']\n",
    "    df1 = df.loc[:, ['dept', 'chinese', 'japanese']]"
   ]
  },
  {
   "cell_type": "code",
   "execution_count": 109,
   "id": "e58ef4d3-14cc-4d5c-9578-61a5b00f373e",
   "metadata": {},
   "outputs": [
    {
     "data": {
      "text/html": [
       "<div>\n",
       "<style scoped>\n",
       "    .dataframe tbody tr th:only-of-type {\n",
       "        vertical-align: middle;\n",
       "    }\n",
       "\n",
       "    .dataframe tbody tr th {\n",
       "        vertical-align: top;\n",
       "    }\n",
       "\n",
       "    .dataframe thead th {\n",
       "        text-align: right;\n",
       "    }\n",
       "</style>\n",
       "<table border=\"1\" class=\"dataframe\">\n",
       "  <thead>\n",
       "    <tr style=\"text-align: right;\">\n",
       "      <th></th>\n",
       "      <th>dept</th>\n",
       "      <th>chinese</th>\n",
       "      <th>japanese</th>\n",
       "    </tr>\n",
       "  </thead>\n",
       "  <tbody>\n",
       "    <tr>\n",
       "      <th>0</th>\n",
       "      <td>Education</td>\n",
       "      <td>0</td>\n",
       "      <td>1</td>\n",
       "    </tr>\n",
       "    <tr>\n",
       "      <th>1</th>\n",
       "      <td>Marketing</td>\n",
       "      <td>0</td>\n",
       "      <td>2</td>\n",
       "    </tr>\n",
       "    <tr>\n",
       "      <th>2</th>\n",
       "      <td>Education</td>\n",
       "      <td>0</td>\n",
       "      <td>0</td>\n",
       "    </tr>\n",
       "    <tr>\n",
       "      <th>3</th>\n",
       "      <td>Education</td>\n",
       "      <td>3</td>\n",
       "      <td>0</td>\n",
       "    </tr>\n",
       "    <tr>\n",
       "      <th>4</th>\n",
       "      <td>Marketing</td>\n",
       "      <td>0</td>\n",
       "      <td>0</td>\n",
       "    </tr>\n",
       "    <tr>\n",
       "      <th>5</th>\n",
       "      <td>Education</td>\n",
       "      <td>1</td>\n",
       "      <td>0</td>\n",
       "    </tr>\n",
       "    <tr>\n",
       "      <th>6</th>\n",
       "      <td>Accounting</td>\n",
       "      <td>0</td>\n",
       "      <td>0</td>\n",
       "    </tr>\n",
       "    <tr>\n",
       "      <th>7</th>\n",
       "      <td>Sales</td>\n",
       "      <td>1</td>\n",
       "      <td>1</td>\n",
       "    </tr>\n",
       "    <tr>\n",
       "      <th>8</th>\n",
       "      <td>Sales</td>\n",
       "      <td>2</td>\n",
       "      <td>1</td>\n",
       "    </tr>\n",
       "    <tr>\n",
       "      <th>9</th>\n",
       "      <td>Education</td>\n",
       "      <td>1</td>\n",
       "      <td>3</td>\n",
       "    </tr>\n",
       "  </tbody>\n",
       "</table>\n",
       "</div>"
      ],
      "text/plain": [
       "         dept  chinese  japanese\n",
       "0   Education        0         1\n",
       "1   Marketing        0         2\n",
       "2   Education        0         0\n",
       "3   Education        3         0\n",
       "4   Marketing        0         0\n",
       "5   Education        1         0\n",
       "6  Accounting        0         0\n",
       "7       Sales        1         1\n",
       "8       Sales        2         1\n",
       "9   Education        1         3"
      ]
     },
     "execution_count": 109,
     "metadata": {},
     "output_type": "execute_result"
    }
   ],
   "source": [
    "df1"
   ]
  },
  {
   "cell_type": "code",
   "execution_count": 110,
   "id": "10a87fa6-a4a9-41d4-b239-7274e68aaa27",
   "metadata": {},
   "outputs": [
    {
     "data": {
      "text/plain": [
       "dept\n",
       "Accounting    ((1, 3), <class 'pandas.core.frame.DataFrame'>)\n",
       "Education     ((5, 3), <class 'pandas.core.frame.DataFrame'>)\n",
       "Marketing     ((2, 3), <class 'pandas.core.frame.DataFrame'>)\n",
       "Sales         ((2, 3), <class 'pandas.core.frame.DataFrame'>)\n",
       "dtype: object"
      ]
     },
     "metadata": {},
     "output_type": "display_data"
    },
    {
     "data": {
      "text/plain": [
       "dept\n",
       "Accounting    0\n",
       "Education     5\n",
       "Marketing     1\n",
       "Sales         4\n",
       "dtype: int64"
      ]
     },
     "metadata": {},
     "output_type": "display_data"
    },
    {
     "data": {
      "text/html": [
       "<div>\n",
       "<style scoped>\n",
       "    .dataframe tbody tr th:only-of-type {\n",
       "        vertical-align: middle;\n",
       "    }\n",
       "\n",
       "    .dataframe tbody tr th {\n",
       "        vertical-align: top;\n",
       "    }\n",
       "\n",
       "    .dataframe thead tr th {\n",
       "        text-align: left;\n",
       "    }\n",
       "\n",
       "    .dataframe thead tr:last-of-type th {\n",
       "        text-align: right;\n",
       "    }\n",
       "</style>\n",
       "<table border=\"1\" class=\"dataframe\">\n",
       "  <thead>\n",
       "    <tr>\n",
       "      <th></th>\n",
       "      <th colspan=\"2\" halign=\"left\">chinese</th>\n",
       "      <th colspan=\"2\" halign=\"left\">japanese</th>\n",
       "    </tr>\n",
       "    <tr>\n",
       "      <th></th>\n",
       "      <th>&lt;lambda_0&gt;</th>\n",
       "      <th>&lt;lambda_1&gt;</th>\n",
       "      <th>&lt;lambda_0&gt;</th>\n",
       "      <th>&lt;lambda_1&gt;</th>\n",
       "    </tr>\n",
       "    <tr>\n",
       "      <th>dept</th>\n",
       "      <th></th>\n",
       "      <th></th>\n",
       "      <th></th>\n",
       "      <th></th>\n",
       "    </tr>\n",
       "  </thead>\n",
       "  <tbody>\n",
       "    <tr>\n",
       "      <th>Accounting</th>\n",
       "      <td>((1,), &lt;class 'pandas.core.series.Series'&gt;)</td>\n",
       "      <td>0</td>\n",
       "      <td>((1,), &lt;class 'pandas.core.series.Series'&gt;)</td>\n",
       "      <td>0</td>\n",
       "    </tr>\n",
       "    <tr>\n",
       "      <th>Education</th>\n",
       "      <td>((5,), &lt;class 'pandas.core.series.Series'&gt;)</td>\n",
       "      <td>3</td>\n",
       "      <td>((5,), &lt;class 'pandas.core.series.Series'&gt;)</td>\n",
       "      <td>2</td>\n",
       "    </tr>\n",
       "    <tr>\n",
       "      <th>Marketing</th>\n",
       "      <td>((2,), &lt;class 'pandas.core.series.Series'&gt;)</td>\n",
       "      <td>0</td>\n",
       "      <td>((2,), &lt;class 'pandas.core.series.Series'&gt;)</td>\n",
       "      <td>1</td>\n",
       "    </tr>\n",
       "    <tr>\n",
       "      <th>Sales</th>\n",
       "      <td>((2,), &lt;class 'pandas.core.series.Series'&gt;)</td>\n",
       "      <td>2</td>\n",
       "      <td>((2,), &lt;class 'pandas.core.series.Series'&gt;)</td>\n",
       "      <td>2</td>\n",
       "    </tr>\n",
       "  </tbody>\n",
       "</table>\n",
       "</div>"
      ],
      "text/plain": [
       "                                                chinese             \\\n",
       "                                             <lambda_0> <lambda_1>   \n",
       "dept                                                                 \n",
       "Accounting  ((1,), <class 'pandas.core.series.Series'>)          0   \n",
       "Education   ((5,), <class 'pandas.core.series.Series'>)          3   \n",
       "Marketing   ((2,), <class 'pandas.core.series.Series'>)          0   \n",
       "Sales       ((2,), <class 'pandas.core.series.Series'>)          2   \n",
       "\n",
       "                                               japanese             \n",
       "                                             <lambda_0> <lambda_1>  \n",
       "dept                                                                \n",
       "Accounting  ((1,), <class 'pandas.core.series.Series'>)          0  \n",
       "Education   ((5,), <class 'pandas.core.series.Series'>)          2  \n",
       "Marketing   ((2,), <class 'pandas.core.series.Series'>)          1  \n",
       "Sales       ((2,), <class 'pandas.core.series.Series'>)          2  "
      ]
     },
     "metadata": {},
     "output_type": "display_data"
    }
   ],
   "source": [
    "what  = lambda x : (x.shape, type(x))         # 함수의 argument에 대해 shape, type 확인\n",
    "grade = lambda x : np.where(x>0, 1, 0).sum()  # x에대해 0보다 큰것은 1 아니면 0으로 변경, sum을 적용\n",
    "\n",
    "s1 = df1.groupby('dept', sort=True).apply(what)\n",
    "s2 = df1.groupby('dept', sort=True).apply(grade)\n",
    "s3 = df1.groupby('dept', sort=True).agg([what, grade])  # [what, grade]\n",
    "\n",
    "display(s1, s2, s3)"
   ]
  },
  {
   "cell_type": "code",
   "execution_count": 111,
   "id": "22982a88-4cb1-4954-9492-277cc6396ee9",
   "metadata": {},
   "outputs": [
    {
     "data": {
      "text/html": [
       "<div>\n",
       "<style scoped>\n",
       "    .dataframe tbody tr th:only-of-type {\n",
       "        vertical-align: middle;\n",
       "    }\n",
       "\n",
       "    .dataframe tbody tr th {\n",
       "        vertical-align: top;\n",
       "    }\n",
       "\n",
       "    .dataframe thead tr th {\n",
       "        text-align: left;\n",
       "    }\n",
       "\n",
       "    .dataframe thead tr:last-of-type th {\n",
       "        text-align: right;\n",
       "    }\n",
       "</style>\n",
       "<table border=\"1\" class=\"dataframe\">\n",
       "  <thead>\n",
       "    <tr>\n",
       "      <th></th>\n",
       "      <th colspan=\"2\" halign=\"left\">age</th>\n",
       "      <th colspan=\"2\" halign=\"left\">salary</th>\n",
       "    </tr>\n",
       "    <tr>\n",
       "      <th></th>\n",
       "      <th>min</th>\n",
       "      <th>max</th>\n",
       "      <th>min</th>\n",
       "      <th>max</th>\n",
       "    </tr>\n",
       "    <tr>\n",
       "      <th>dept</th>\n",
       "      <th></th>\n",
       "      <th></th>\n",
       "      <th></th>\n",
       "      <th></th>\n",
       "    </tr>\n",
       "  </thead>\n",
       "  <tbody>\n",
       "    <tr>\n",
       "      <th>Accounting</th>\n",
       "      <td>31</td>\n",
       "      <td>31</td>\n",
       "      <td>4800</td>\n",
       "      <td>4800</td>\n",
       "    </tr>\n",
       "    <tr>\n",
       "      <th>Education</th>\n",
       "      <td>29</td>\n",
       "      <td>34</td>\n",
       "      <td>3456</td>\n",
       "      <td>5600</td>\n",
       "    </tr>\n",
       "    <tr>\n",
       "      <th>Marketing</th>\n",
       "      <td>31</td>\n",
       "      <td>32</td>\n",
       "      <td>3150</td>\n",
       "      <td>4320</td>\n",
       "    </tr>\n",
       "    <tr>\n",
       "      <th>Sales</th>\n",
       "      <td>32</td>\n",
       "      <td>33</td>\n",
       "      <td>6840</td>\n",
       "      <td>10100</td>\n",
       "    </tr>\n",
       "  </tbody>\n",
       "</table>\n",
       "</div>"
      ],
      "text/plain": [
       "           age     salary       \n",
       "           min max    min    max\n",
       "dept                            \n",
       "Accounting  31  31   4800   4800\n",
       "Education   29  34   3456   5600\n",
       "Marketing   31  32   3150   4320\n",
       "Sales       32  33   6840  10100"
      ]
     },
     "execution_count": 111,
     "metadata": {},
     "output_type": "execute_result"
    }
   ],
   "source": [
    "df2 = df.loc[:, ['dept', 'age', 'salary']]\n",
    "# 'dept' 별로 age, salary 각각에 대해 min, max값을 구하라  (dept는 정렬할 것)\n",
    "df.groupby(by='dept', sort=True)['age','salary'].agg([min, max])"
   ]
  },
  {
   "cell_type": "code",
   "execution_count": 112,
   "id": "d0aa12e2-335e-41b8-b8c4-bf851dc6e6bd",
   "metadata": {},
   "outputs": [
    {
     "data": {
      "text/html": [
       "<div>\n",
       "<style scoped>\n",
       "    .dataframe tbody tr th:only-of-type {\n",
       "        vertical-align: middle;\n",
       "    }\n",
       "\n",
       "    .dataframe tbody tr th {\n",
       "        vertical-align: top;\n",
       "    }\n",
       "\n",
       "    .dataframe thead tr th {\n",
       "        text-align: left;\n",
       "    }\n",
       "\n",
       "    .dataframe thead tr:last-of-type th {\n",
       "        text-align: right;\n",
       "    }\n",
       "</style>\n",
       "<table border=\"1\" class=\"dataframe\">\n",
       "  <thead>\n",
       "    <tr>\n",
       "      <th></th>\n",
       "      <th colspan=\"2\" halign=\"left\">age</th>\n",
       "      <th colspan=\"3\" halign=\"left\">salary</th>\n",
       "    </tr>\n",
       "    <tr>\n",
       "      <th></th>\n",
       "      <th>min</th>\n",
       "      <th>max</th>\n",
       "      <th>sum</th>\n",
       "      <th>len</th>\n",
       "      <th>mean</th>\n",
       "    </tr>\n",
       "    <tr>\n",
       "      <th>dept</th>\n",
       "      <th></th>\n",
       "      <th></th>\n",
       "      <th></th>\n",
       "      <th></th>\n",
       "      <th></th>\n",
       "    </tr>\n",
       "  </thead>\n",
       "  <tbody>\n",
       "    <tr>\n",
       "      <th>Accounting</th>\n",
       "      <td>31</td>\n",
       "      <td>31</td>\n",
       "      <td>4800</td>\n",
       "      <td>1</td>\n",
       "      <td>4800.0</td>\n",
       "    </tr>\n",
       "    <tr>\n",
       "      <th>Education</th>\n",
       "      <td>29</td>\n",
       "      <td>34</td>\n",
       "      <td>22506</td>\n",
       "      <td>5</td>\n",
       "      <td>4501.2</td>\n",
       "    </tr>\n",
       "    <tr>\n",
       "      <th>Marketing</th>\n",
       "      <td>31</td>\n",
       "      <td>32</td>\n",
       "      <td>7470</td>\n",
       "      <td>2</td>\n",
       "      <td>3735.0</td>\n",
       "    </tr>\n",
       "    <tr>\n",
       "      <th>Sales</th>\n",
       "      <td>32</td>\n",
       "      <td>33</td>\n",
       "      <td>16940</td>\n",
       "      <td>2</td>\n",
       "      <td>8470.0</td>\n",
       "    </tr>\n",
       "  </tbody>\n",
       "</table>\n",
       "</div>"
      ],
      "text/plain": [
       "           age     salary            \n",
       "           min max    sum len    mean\n",
       "dept                                 \n",
       "Accounting  31  31   4800   1  4800.0\n",
       "Education   29  34  22506   5  4501.2\n",
       "Marketing   31  32   7470   2  3735.0\n",
       "Sales       32  33  16940   2  8470.0"
      ]
     },
     "execution_count": 112,
     "metadata": {},
     "output_type": "execute_result"
    }
   ],
   "source": [
    "df3 = df.loc[:, ['dept', 'age', 'salary']]\n",
    "# 'dept'별로 'age'에 대해서는 min, max, 'salary'에 대해서는 np.sum, len, np.mean을 구하라 (dept는 정렬할 것)\n",
    "# 특정 column에 대해 지정할 때는 dict 객체를 사용한다\n",
    "df3.groupby(by='dept', sort=True)['age', 'salary'].agg({'age':[min, max], 'salary':[np.sum, len, np.mean]})"
   ]
  },
  {
   "cell_type": "markdown",
   "id": "58f55a0d-dd43-435a-9f9c-1c3aa4b56527",
   "metadata": {},
   "source": [
    "## groupby의 function 관련 메서드 2 - transform, filter"
   ]
  },
  {
   "cell_type": "markdown",
   "id": "01b301a8-c565-415e-9e10-1ceaf4578a49",
   "metadata": {},
   "source": [
    "- `gp.transform(func)`\n",
    "    + func 의 argument : 그룹별 DataFrame/Series의 각 Series 객체(column)를 인수로 받음\n",
    "    + DataFrame 형식을 유지하면서 결과를 구함 (index 유지)\n",
    "- `gp.filter(func, dropna=True, *args, **kwargs)`\n",
    "    + 특정 조건으로 데이터를 검색(추출)할 때 사용\n",
    "    + func 의 return : True/False 를 반환하는 형태여야 함\n",
    "    + func 의 argument : 그룹별 DataFrame/Series 객체\n",
    "    + dropna : func 의 결과가 False 인 것에 대해 삭제할 것인가의 여부, dropna = False 인 경우 False 인 것을 NaN 으로 채움\n",
    "    + filter 된 DataFrame 반환 (변경된 index)"
   ]
  },
  {
   "cell_type": "markdown",
   "id": "a341f52d-772d-4cbd-96f1-7423446e7d0a",
   "metadata": {},
   "source": [
    "![nn](./images/pandas-09.png)"
   ]
  },
  {
   "cell_type": "code",
   "execution_count": 113,
   "id": "11286f3a-721a-4ef2-927c-93b5b07687de",
   "metadata": {},
   "outputs": [],
   "source": [
    "with shelve.open(\"./data/mysample\") as mySample:\n",
    "    df = mySample['sample4']"
   ]
  },
  {
   "cell_type": "code",
   "execution_count": 114,
   "id": "5e904160-6788-4e66-bfe0-c1ca34f7307d",
   "metadata": {},
   "outputs": [
    {
     "data": {
      "text/html": [
       "<div>\n",
       "<style scoped>\n",
       "    .dataframe tbody tr th:only-of-type {\n",
       "        vertical-align: middle;\n",
       "    }\n",
       "\n",
       "    .dataframe tbody tr th {\n",
       "        vertical-align: top;\n",
       "    }\n",
       "\n",
       "    .dataframe thead th {\n",
       "        text-align: right;\n",
       "    }\n",
       "</style>\n",
       "<table border=\"1\" class=\"dataframe\">\n",
       "  <thead>\n",
       "    <tr style=\"text-align: right;\">\n",
       "      <th></th>\n",
       "      <th>dept</th>\n",
       "      <th>age</th>\n",
       "      <th>gender</th>\n",
       "      <th>salary</th>\n",
       "    </tr>\n",
       "  </thead>\n",
       "  <tbody>\n",
       "    <tr>\n",
       "      <th>0</th>\n",
       "      <td>Education</td>\n",
       "      <td>34</td>\n",
       "      <td>M</td>\n",
       "      <td>NaN</td>\n",
       "    </tr>\n",
       "    <tr>\n",
       "      <th>1</th>\n",
       "      <td>Marketing</td>\n",
       "      <td>32</td>\n",
       "      <td>F</td>\n",
       "      <td>4320.0</td>\n",
       "    </tr>\n",
       "    <tr>\n",
       "      <th>2</th>\n",
       "      <td>Education</td>\n",
       "      <td>29</td>\n",
       "      <td>M</td>\n",
       "      <td>5600.0</td>\n",
       "    </tr>\n",
       "  </tbody>\n",
       "</table>\n",
       "</div>"
      ],
      "text/plain": [
       "        dept  age gender  salary\n",
       "0  Education   34      M     NaN\n",
       "1  Marketing   32      F  4320.0\n",
       "2  Education   29      M  5600.0"
      ]
     },
     "execution_count": 114,
     "metadata": {},
     "output_type": "execute_result"
    }
   ],
   "source": [
    "df4 = df.loc[:, ['dept', 'age', 'gender','salary']]\n",
    "df4.loc[0, 'salary'] = np.nan\n",
    "df4.head(3)"
   ]
  },
  {
   "cell_type": "code",
   "execution_count": 115,
   "id": "6ca6e6fa-f36f-4964-99a8-bebeddaae36e",
   "metadata": {},
   "outputs": [
    {
     "data": {
      "text/html": [
       "<div>\n",
       "<style scoped>\n",
       "    .dataframe tbody tr th:only-of-type {\n",
       "        vertical-align: middle;\n",
       "    }\n",
       "\n",
       "    .dataframe tbody tr th {\n",
       "        vertical-align: top;\n",
       "    }\n",
       "\n",
       "    .dataframe thead th {\n",
       "        text-align: right;\n",
       "    }\n",
       "</style>\n",
       "<table border=\"1\" class=\"dataframe\">\n",
       "  <thead>\n",
       "    <tr style=\"text-align: right;\">\n",
       "      <th></th>\n",
       "      <th>dept</th>\n",
       "      <th>age</th>\n",
       "      <th>gender</th>\n",
       "      <th>salary</th>\n",
       "    </tr>\n",
       "  </thead>\n",
       "  <tbody>\n",
       "    <tr>\n",
       "      <th>0</th>\n",
       "      <td>Education</td>\n",
       "      <td>34</td>\n",
       "      <td>M</td>\n",
       "      <td>NaN</td>\n",
       "    </tr>\n",
       "    <tr>\n",
       "      <th>1</th>\n",
       "      <td>Marketing</td>\n",
       "      <td>32</td>\n",
       "      <td>F</td>\n",
       "      <td>4320.0</td>\n",
       "    </tr>\n",
       "    <tr>\n",
       "      <th>2</th>\n",
       "      <td>Education</td>\n",
       "      <td>29</td>\n",
       "      <td>M</td>\n",
       "      <td>5600.0</td>\n",
       "    </tr>\n",
       "    <tr>\n",
       "      <th>3</th>\n",
       "      <td>Education</td>\n",
       "      <td>34</td>\n",
       "      <td>M</td>\n",
       "      <td>4500.0</td>\n",
       "    </tr>\n",
       "    <tr>\n",
       "      <th>4</th>\n",
       "      <td>Marketing</td>\n",
       "      <td>31</td>\n",
       "      <td>F</td>\n",
       "      <td>3150.0</td>\n",
       "    </tr>\n",
       "    <tr>\n",
       "      <th>5</th>\n",
       "      <td>Education</td>\n",
       "      <td>32</td>\n",
       "      <td>F</td>\n",
       "      <td>4200.0</td>\n",
       "    </tr>\n",
       "    <tr>\n",
       "      <th>6</th>\n",
       "      <td>Accounting</td>\n",
       "      <td>31</td>\n",
       "      <td>M</td>\n",
       "      <td>4800.0</td>\n",
       "    </tr>\n",
       "    <tr>\n",
       "      <th>7</th>\n",
       "      <td>Sales</td>\n",
       "      <td>33</td>\n",
       "      <td>M</td>\n",
       "      <td>10100.0</td>\n",
       "    </tr>\n",
       "    <tr>\n",
       "      <th>8</th>\n",
       "      <td>Sales</td>\n",
       "      <td>32</td>\n",
       "      <td>M</td>\n",
       "      <td>6840.0</td>\n",
       "    </tr>\n",
       "    <tr>\n",
       "      <th>9</th>\n",
       "      <td>Education</td>\n",
       "      <td>31</td>\n",
       "      <td>F</td>\n",
       "      <td>4750.0</td>\n",
       "    </tr>\n",
       "  </tbody>\n",
       "</table>\n",
       "</div>"
      ],
      "text/plain": [
       "         dept  age gender   salary\n",
       "0   Education   34      M      NaN\n",
       "1   Marketing   32      F   4320.0\n",
       "2   Education   29      M   5600.0\n",
       "3   Education   34      M   4500.0\n",
       "4   Marketing   31      F   3150.0\n",
       "5   Education   32      F   4200.0\n",
       "6  Accounting   31      M   4800.0\n",
       "7       Sales   33      M  10100.0\n",
       "8       Sales   32      M   6840.0\n",
       "9   Education   31      F   4750.0"
      ]
     },
     "execution_count": 115,
     "metadata": {},
     "output_type": "execute_result"
    }
   ],
   "source": [
    "df4"
   ]
  },
  {
   "cell_type": "code",
   "execution_count": 116,
   "id": "8255309d-cdb7-42f1-932c-da659acc2a43",
   "metadata": {},
   "outputs": [
    {
     "data": {
      "text/html": [
       "<div>\n",
       "<style scoped>\n",
       "    .dataframe tbody tr th:only-of-type {\n",
       "        vertical-align: middle;\n",
       "    }\n",
       "\n",
       "    .dataframe tbody tr th {\n",
       "        vertical-align: top;\n",
       "    }\n",
       "\n",
       "    .dataframe thead th {\n",
       "        text-align: right;\n",
       "    }\n",
       "</style>\n",
       "<table border=\"1\" class=\"dataframe\">\n",
       "  <thead>\n",
       "    <tr style=\"text-align: right;\">\n",
       "      <th></th>\n",
       "      <th>age</th>\n",
       "      <th>gender</th>\n",
       "      <th>salary</th>\n",
       "    </tr>\n",
       "  </thead>\n",
       "  <tbody>\n",
       "    <tr>\n",
       "      <th>0</th>\n",
       "      <td>True</td>\n",
       "      <td>True</td>\n",
       "      <td>True</td>\n",
       "    </tr>\n",
       "    <tr>\n",
       "      <th>1</th>\n",
       "      <td>True</td>\n",
       "      <td>True</td>\n",
       "      <td>True</td>\n",
       "    </tr>\n",
       "    <tr>\n",
       "      <th>2</th>\n",
       "      <td>True</td>\n",
       "      <td>True</td>\n",
       "      <td>True</td>\n",
       "    </tr>\n",
       "    <tr>\n",
       "      <th>3</th>\n",
       "      <td>True</td>\n",
       "      <td>True</td>\n",
       "      <td>True</td>\n",
       "    </tr>\n",
       "    <tr>\n",
       "      <th>4</th>\n",
       "      <td>True</td>\n",
       "      <td>True</td>\n",
       "      <td>True</td>\n",
       "    </tr>\n",
       "    <tr>\n",
       "      <th>5</th>\n",
       "      <td>True</td>\n",
       "      <td>True</td>\n",
       "      <td>True</td>\n",
       "    </tr>\n",
       "    <tr>\n",
       "      <th>6</th>\n",
       "      <td>True</td>\n",
       "      <td>True</td>\n",
       "      <td>True</td>\n",
       "    </tr>\n",
       "    <tr>\n",
       "      <th>7</th>\n",
       "      <td>True</td>\n",
       "      <td>True</td>\n",
       "      <td>True</td>\n",
       "    </tr>\n",
       "    <tr>\n",
       "      <th>8</th>\n",
       "      <td>True</td>\n",
       "      <td>True</td>\n",
       "      <td>True</td>\n",
       "    </tr>\n",
       "    <tr>\n",
       "      <th>9</th>\n",
       "      <td>True</td>\n",
       "      <td>True</td>\n",
       "      <td>True</td>\n",
       "    </tr>\n",
       "  </tbody>\n",
       "</table>\n",
       "</div>"
      ],
      "text/plain": [
       "    age  gender  salary\n",
       "0  True    True    True\n",
       "1  True    True    True\n",
       "2  True    True    True\n",
       "3  True    True    True\n",
       "4  True    True    True\n",
       "5  True    True    True\n",
       "6  True    True    True\n",
       "7  True    True    True\n",
       "8  True    True    True\n",
       "9  True    True    True"
      ]
     },
     "execution_count": 116,
     "metadata": {},
     "output_type": "execute_result"
    }
   ],
   "source": [
    "what = lambda x : True if type(x) == pd.Series else False  #sum(x)\n",
    "r1 = df4.groupby('dept').transform(what)\n",
    "r1\n",
    "# df4.groupby('dept').transform(lambda x : print(x, end=\"\\n\\n\"))"
   ]
  },
  {
   "cell_type": "code",
   "execution_count": 117,
   "id": "cb973d55-bd08-4160-9df8-3e49c215f389",
   "metadata": {},
   "outputs": [
    {
     "data": {
      "text/html": [
       "<div>\n",
       "<style scoped>\n",
       "    .dataframe tbody tr th:only-of-type {\n",
       "        vertical-align: middle;\n",
       "    }\n",
       "\n",
       "    .dataframe tbody tr th {\n",
       "        vertical-align: top;\n",
       "    }\n",
       "\n",
       "    .dataframe thead th {\n",
       "        text-align: right;\n",
       "    }\n",
       "</style>\n",
       "<table border=\"1\" class=\"dataframe\">\n",
       "  <thead>\n",
       "    <tr style=\"text-align: right;\">\n",
       "      <th></th>\n",
       "      <th>dept</th>\n",
       "      <th>age</th>\n",
       "      <th>gender</th>\n",
       "      <th>salary</th>\n",
       "    </tr>\n",
       "  </thead>\n",
       "  <tbody>\n",
       "    <tr>\n",
       "      <th>0</th>\n",
       "      <td>Education</td>\n",
       "      <td>34</td>\n",
       "      <td>M</td>\n",
       "      <td>NaN</td>\n",
       "    </tr>\n",
       "    <tr>\n",
       "      <th>2</th>\n",
       "      <td>Education</td>\n",
       "      <td>29</td>\n",
       "      <td>M</td>\n",
       "      <td>5600.0</td>\n",
       "    </tr>\n",
       "    <tr>\n",
       "      <th>3</th>\n",
       "      <td>Education</td>\n",
       "      <td>34</td>\n",
       "      <td>M</td>\n",
       "      <td>4500.0</td>\n",
       "    </tr>\n",
       "    <tr>\n",
       "      <th>5</th>\n",
       "      <td>Education</td>\n",
       "      <td>32</td>\n",
       "      <td>F</td>\n",
       "      <td>4200.0</td>\n",
       "    </tr>\n",
       "    <tr>\n",
       "      <th>9</th>\n",
       "      <td>Education</td>\n",
       "      <td>31</td>\n",
       "      <td>F</td>\n",
       "      <td>4750.0</td>\n",
       "    </tr>\n",
       "  </tbody>\n",
       "</table>\n",
       "</div>"
      ],
      "text/plain": [
       "        dept  age gender  salary\n",
       "0  Education   34      M     NaN\n",
       "2  Education   29      M  5600.0\n",
       "3  Education   34      M  4500.0\n",
       "5  Education   32      F  4200.0\n",
       "9  Education   31      F  4750.0"
      ]
     },
     "execution_count": 117,
     "metadata": {},
     "output_type": "execute_result"
    }
   ],
   "source": [
    "what1 = lambda x : True if type(x) == pd.DataFrame else False #pd.Series\n",
    "what2 = lambda x : True if len(x) > 2 else False\n",
    "# r2 = df4.groupby('dept').filter(what1)\n",
    "r2 = df4.groupby('dept').filter(what2)\n",
    "r2"
   ]
  },
  {
   "cell_type": "code",
   "execution_count": 118,
   "id": "b7fe4b88-8df0-4d63-a0a9-c9e92c3846c5",
   "metadata": {},
   "outputs": [
    {
     "data": {
      "text/plain": [
       "dept        gender\n",
       "Accounting  M         4800.0\n",
       "Education   F         4475.0\n",
       "            M         5050.0\n",
       "Marketing   F         3735.0\n",
       "Sales       M         8470.0\n",
       "Name: salary, dtype: float64"
      ]
     },
     "execution_count": 118,
     "metadata": {},
     "output_type": "execute_result"
    }
   ],
   "source": [
    "# 'dept', 'gender' 별 'salary'의 평균\n",
    "df4.groupby(by=['dept', 'gender'])['salary'].mean()"
   ]
  },
  {
   "cell_type": "code",
   "execution_count": 119,
   "id": "1b295b44-c333-422d-83f8-07c7222fcfcc",
   "metadata": {},
   "outputs": [
    {
     "data": {
      "text/html": [
       "<div>\n",
       "<style scoped>\n",
       "    .dataframe tbody tr th:only-of-type {\n",
       "        vertical-align: middle;\n",
       "    }\n",
       "\n",
       "    .dataframe tbody tr th {\n",
       "        vertical-align: top;\n",
       "    }\n",
       "\n",
       "    .dataframe thead th {\n",
       "        text-align: right;\n",
       "    }\n",
       "</style>\n",
       "<table border=\"1\" class=\"dataframe\">\n",
       "  <thead>\n",
       "    <tr style=\"text-align: right;\">\n",
       "      <th></th>\n",
       "      <th>dept</th>\n",
       "      <th>age</th>\n",
       "      <th>gender</th>\n",
       "      <th>salary</th>\n",
       "      <th>s_mean</th>\n",
       "    </tr>\n",
       "  </thead>\n",
       "  <tbody>\n",
       "    <tr>\n",
       "      <th>0</th>\n",
       "      <td>Education</td>\n",
       "      <td>34</td>\n",
       "      <td>M</td>\n",
       "      <td>5050.0</td>\n",
       "      <td>5050.0</td>\n",
       "    </tr>\n",
       "    <tr>\n",
       "      <th>1</th>\n",
       "      <td>Marketing</td>\n",
       "      <td>32</td>\n",
       "      <td>F</td>\n",
       "      <td>4320.0</td>\n",
       "      <td>3735.0</td>\n",
       "    </tr>\n",
       "    <tr>\n",
       "      <th>2</th>\n",
       "      <td>Education</td>\n",
       "      <td>29</td>\n",
       "      <td>M</td>\n",
       "      <td>5600.0</td>\n",
       "      <td>5050.0</td>\n",
       "    </tr>\n",
       "    <tr>\n",
       "      <th>3</th>\n",
       "      <td>Education</td>\n",
       "      <td>34</td>\n",
       "      <td>M</td>\n",
       "      <td>4500.0</td>\n",
       "      <td>5050.0</td>\n",
       "    </tr>\n",
       "    <tr>\n",
       "      <th>4</th>\n",
       "      <td>Marketing</td>\n",
       "      <td>31</td>\n",
       "      <td>F</td>\n",
       "      <td>3150.0</td>\n",
       "      <td>3735.0</td>\n",
       "    </tr>\n",
       "    <tr>\n",
       "      <th>5</th>\n",
       "      <td>Education</td>\n",
       "      <td>32</td>\n",
       "      <td>F</td>\n",
       "      <td>4200.0</td>\n",
       "      <td>4475.0</td>\n",
       "    </tr>\n",
       "    <tr>\n",
       "      <th>6</th>\n",
       "      <td>Accounting</td>\n",
       "      <td>31</td>\n",
       "      <td>M</td>\n",
       "      <td>4800.0</td>\n",
       "      <td>4800.0</td>\n",
       "    </tr>\n",
       "    <tr>\n",
       "      <th>7</th>\n",
       "      <td>Sales</td>\n",
       "      <td>33</td>\n",
       "      <td>M</td>\n",
       "      <td>10100.0</td>\n",
       "      <td>8470.0</td>\n",
       "    </tr>\n",
       "    <tr>\n",
       "      <th>8</th>\n",
       "      <td>Sales</td>\n",
       "      <td>32</td>\n",
       "      <td>M</td>\n",
       "      <td>6840.0</td>\n",
       "      <td>8470.0</td>\n",
       "    </tr>\n",
       "    <tr>\n",
       "      <th>9</th>\n",
       "      <td>Education</td>\n",
       "      <td>31</td>\n",
       "      <td>F</td>\n",
       "      <td>4750.0</td>\n",
       "      <td>4475.0</td>\n",
       "    </tr>\n",
       "  </tbody>\n",
       "</table>\n",
       "</div>"
      ],
      "text/plain": [
       "         dept  age gender   salary  s_mean\n",
       "0   Education   34      M   5050.0  5050.0\n",
       "1   Marketing   32      F   4320.0  3735.0\n",
       "2   Education   29      M   5600.0  5050.0\n",
       "3   Education   34      M   4500.0  5050.0\n",
       "4   Marketing   31      F   3150.0  3735.0\n",
       "5   Education   32      F   4200.0  4475.0\n",
       "6  Accounting   31      M   4800.0  4800.0\n",
       "7       Sales   33      M  10100.0  8470.0\n",
       "8       Sales   32      M   6840.0  8470.0\n",
       "9   Education   31      F   4750.0  4475.0"
      ]
     },
     "execution_count": 119,
     "metadata": {},
     "output_type": "execute_result"
    }
   ],
   "source": [
    "# df4에 's_mean'이라는 열을 추가한다\n",
    "# 's_mean'은 'dept', 'gender' 별 'salary'의 평균값이다\n",
    "# 'salary'에서 NA인 것에 대해 df4의 's_mean'에 있는 값으로 변경한다.\n",
    "df4['s_mean'] = df4.groupby(by=['dept','gender'])['salary'].transform(np.mean)\n",
    "df4['salary'] = df4['salary'].mask(df4['salary'].isna(), df4['s_mean'])\n",
    "df4"
   ]
  },
  {
   "cell_type": "code",
   "execution_count": 120,
   "id": "a4647ea9-d6ae-423d-956b-992bff506c05",
   "metadata": {},
   "outputs": [],
   "source": [
    "df5 = df.loc[:, ['dept', 'age', 'gender', 'salary']]\n",
    "# 성별이 남/녀 모두 있는 부서만 추출한다"
   ]
  },
  {
   "cell_type": "code",
   "execution_count": 121,
   "id": "88a2207c-bf76-4b27-8a76-17ed10682b31",
   "metadata": {},
   "outputs": [
    {
     "data": {
      "text/html": [
       "<div>\n",
       "<style scoped>\n",
       "    .dataframe tbody tr th:only-of-type {\n",
       "        vertical-align: middle;\n",
       "    }\n",
       "\n",
       "    .dataframe tbody tr th {\n",
       "        vertical-align: top;\n",
       "    }\n",
       "\n",
       "    .dataframe thead th {\n",
       "        text-align: right;\n",
       "    }\n",
       "</style>\n",
       "<table border=\"1\" class=\"dataframe\">\n",
       "  <thead>\n",
       "    <tr style=\"text-align: right;\">\n",
       "      <th></th>\n",
       "      <th>dept</th>\n",
       "      <th>age</th>\n",
       "      <th>gender</th>\n",
       "      <th>salary</th>\n",
       "    </tr>\n",
       "  </thead>\n",
       "  <tbody>\n",
       "    <tr>\n",
       "      <th>0</th>\n",
       "      <td>Education</td>\n",
       "      <td>34</td>\n",
       "      <td>M</td>\n",
       "      <td>3456</td>\n",
       "    </tr>\n",
       "    <tr>\n",
       "      <th>2</th>\n",
       "      <td>Education</td>\n",
       "      <td>29</td>\n",
       "      <td>M</td>\n",
       "      <td>5600</td>\n",
       "    </tr>\n",
       "    <tr>\n",
       "      <th>3</th>\n",
       "      <td>Education</td>\n",
       "      <td>34</td>\n",
       "      <td>M</td>\n",
       "      <td>4500</td>\n",
       "    </tr>\n",
       "    <tr>\n",
       "      <th>5</th>\n",
       "      <td>Education</td>\n",
       "      <td>32</td>\n",
       "      <td>F</td>\n",
       "      <td>4200</td>\n",
       "    </tr>\n",
       "    <tr>\n",
       "      <th>9</th>\n",
       "      <td>Education</td>\n",
       "      <td>31</td>\n",
       "      <td>F</td>\n",
       "      <td>4750</td>\n",
       "    </tr>\n",
       "  </tbody>\n",
       "</table>\n",
       "</div>"
      ],
      "text/plain": [
       "        dept  age gender  salary\n",
       "0  Education   34      M    3456\n",
       "2  Education   29      M    5600\n",
       "3  Education   34      M    4500\n",
       "5  Education   32      F    4200\n",
       "9  Education   31      F    4750"
      ]
     },
     "execution_count": 121,
     "metadata": {},
     "output_type": "execute_result"
    }
   ],
   "source": [
    "# df5.groupby(by='dept').filter(lambda x : np.all(x.gender.unique() == ['M', 'F']))\n",
    "df5.groupby(by='dept').filter(lambda x : np.all(len(x['gender'].unique()) > 1))"
   ]
  },
  {
   "cell_type": "markdown",
   "id": "ca45db65-d6ed-484a-8706-ea0c71aa21aa",
   "metadata": {},
   "source": [
    "# 하나의 열을 여러 행으로 분할하기 - pd.explode"
   ]
  },
  {
   "cell_type": "markdown",
   "id": "e3cbe20f-9010-4d24-8800-6f87cf7af741",
   "metadata": {},
   "source": [
    "- `pandas.DataFrame.explode`\n",
    "- https://pandas.pydata.org/docs/reference/api/pandas.DataFrame.explode.html"
   ]
  },
  {
   "cell_type": "markdown",
   "id": "b2670cd9-0fdf-4280-89e5-84ae4a14352f",
   "metadata": {},
   "source": [
    "![nn](./images/pandas-10.png)"
   ]
  },
  {
   "cell_type": "code",
   "execution_count": 122,
   "id": "70f3405b-b588-4e01-8e31-1699356a0064",
   "metadata": {},
   "outputs": [],
   "source": [
    "import pandas as pd\n",
    "import numpy as np"
   ]
  },
  {
   "cell_type": "code",
   "execution_count": 123,
   "id": "fbb8abc9-f628-4eba-aa65-d4f91e7f9131",
   "metadata": {},
   "outputs": [],
   "source": [
    "def printObj(obj):\n",
    "    print(type(obj))\n",
    "    print(obj)\n",
    "    print(\"-\" * 45)"
   ]
  },
  {
   "cell_type": "code",
   "execution_count": 124,
   "id": "001df2af-b2d1-4cd6-96c4-db3c7c7fedf0",
   "metadata": {},
   "outputs": [
    {
     "data": {
      "text/html": [
       "<div>\n",
       "<style scoped>\n",
       "    .dataframe tbody tr th:only-of-type {\n",
       "        vertical-align: middle;\n",
       "    }\n",
       "\n",
       "    .dataframe tbody tr th {\n",
       "        vertical-align: top;\n",
       "    }\n",
       "\n",
       "    .dataframe thead th {\n",
       "        text-align: right;\n",
       "    }\n",
       "</style>\n",
       "<table border=\"1\" class=\"dataframe\">\n",
       "  <thead>\n",
       "    <tr style=\"text-align: right;\">\n",
       "      <th></th>\n",
       "      <th>Menu</th>\n",
       "      <th>Item</th>\n",
       "    </tr>\n",
       "  </thead>\n",
       "  <tbody>\n",
       "    <tr>\n",
       "      <th>0</th>\n",
       "      <td>Drinks</td>\n",
       "      <td>[Coffees, Teas, Beverages]</td>\n",
       "    </tr>\n",
       "    <tr>\n",
       "      <th>1</th>\n",
       "      <td>Food</td>\n",
       "      <td>[Bakery, Snacks, Yogurt]</td>\n",
       "    </tr>\n",
       "    <tr>\n",
       "      <th>2</th>\n",
       "      <td>At home Coffee</td>\n",
       "      <td>[Whole Bean, Instant]</td>\n",
       "    </tr>\n",
       "  </tbody>\n",
       "</table>\n",
       "</div>"
      ],
      "text/plain": [
       "             Menu                        Item\n",
       "0          Drinks  [Coffees, Teas, Beverages]\n",
       "1            Food    [Bakery, Snacks, Yogurt]\n",
       "2  At home Coffee       [Whole Bean, Instant]"
      ]
     },
     "execution_count": 124,
     "metadata": {},
     "output_type": "execute_result"
    }
   ],
   "source": [
    "df = pd.DataFrame({'Menu': ['Drinks','Food','At home Coffee'],\n",
    "                   'Item': [['Coffees','Teas','Beverages'],\n",
    "                            ['Bakery','Snacks','Yogurt'],\n",
    "                            ['Whole Bean','Instant']]})\n",
    "df"
   ]
  },
  {
   "cell_type": "code",
   "execution_count": 125,
   "id": "8f2a9f2e-aef8-4d13-b0bc-b385559d7079",
   "metadata": {},
   "outputs": [
    {
     "name": "stdout",
     "output_type": "stream",
     "text": [
      "<class 'pandas.core.frame.DataFrame'>\n",
      "             Menu                        Item\n",
      "0          Drinks  [Coffees, Teas, Beverages]\n",
      "1            Food    [Bakery, Snacks, Yogurt]\n",
      "2  At home Coffee       [Whole Bean, Instant]\n",
      "---------------------------------------------\n"
     ]
    }
   ],
   "source": [
    "printObj(df)"
   ]
  },
  {
   "cell_type": "code",
   "execution_count": 126,
   "id": "c94eab7f-c502-430a-959c-bcdaa529d155",
   "metadata": {},
   "outputs": [
    {
     "name": "stdout",
     "output_type": "stream",
     "text": [
      "<class 'pandas.core.frame.DataFrame'>\n",
      "             Menu        Item\n",
      "0          Drinks     Coffees\n",
      "0          Drinks        Teas\n",
      "0          Drinks   Beverages\n",
      "1            Food      Bakery\n",
      "1            Food      Snacks\n",
      "1            Food      Yogurt\n",
      "2  At home Coffee  Whole Bean\n",
      "2  At home Coffee     Instant\n",
      "---------------------------------------------\n"
     ]
    }
   ],
   "source": [
    "df = df.explode('Item')\n",
    "printObj(df)"
   ]
  },
  {
   "cell_type": "code",
   "execution_count": 127,
   "id": "a8bb49de-98d4-4edc-bb66-bd02345b5658",
   "metadata": {},
   "outputs": [
    {
     "name": "stdout",
     "output_type": "stream",
     "text": [
      "<class 'pandas.core.frame.DataFrame'>\n",
      "             Menu        Item\n",
      "0          Drinks     Coffees\n",
      "1          Drinks        Teas\n",
      "2          Drinks   Beverages\n",
      "3            Food      Bakery\n",
      "4            Food      Snacks\n",
      "5            Food      Yogurt\n",
      "6  At home Coffee  Whole Bean\n",
      "7  At home Coffee     Instant\n",
      "---------------------------------------------\n"
     ]
    }
   ],
   "source": [
    "df.index = pd.RangeIndex(len(df))\n",
    "printObj(df)"
   ]
  },
  {
   "cell_type": "code",
   "execution_count": 128,
   "id": "11f0562a-a7e4-4c94-8a5a-1efe6b3f7cc0",
   "metadata": {},
   "outputs": [],
   "source": [
    "midx1 = pd.MultiIndex.from_product([list('AB'), list('ab')])\n",
    "midx2 = pd.MultiIndex.from_product([list('MF'), list('cd')])\n",
    "df = pd.DataFrame([[1,[1,2,3],3,4], [9,[2,3],10,11],\n",
    "                   [4,[1,3],6,7], [1,[7,8,9],10,15]], index=midx1, columns= midx2)"
   ]
  },
  {
   "cell_type": "code",
   "execution_count": 129,
   "id": "a54b8b52-6f4e-41ee-8b17-a3187a28833f",
   "metadata": {},
   "outputs": [
    {
     "name": "stdout",
     "output_type": "stream",
     "text": [
      "<class 'pandas.core.frame.DataFrame'>\n",
      "     M              F    \n",
      "     c          d   c   d\n",
      "A a  1  [1, 2, 3]   3   4\n",
      "  b  9     [2, 3]  10  11\n",
      "B a  4     [1, 3]   6   7\n",
      "  b  1  [7, 8, 9]  10  15\n",
      "---------------------------------------------\n"
     ]
    }
   ],
   "source": [
    "printObj(df)"
   ]
  },
  {
   "cell_type": "code",
   "execution_count": 130,
   "id": "7c43d57a-8771-4d9d-a0ec-3a2c5b770f3d",
   "metadata": {},
   "outputs": [
    {
     "name": "stdout",
     "output_type": "stream",
     "text": [
      "<class 'pandas.core.frame.DataFrame'>\n",
      "     M      F    \n",
      "     c  d   c   d\n",
      "A a  1  1   3   4\n",
      "  a  1  2   3   4\n",
      "  a  1  3   3   4\n",
      "  b  9  2  10  11\n",
      "  b  9  3  10  11\n",
      "B a  4  1   6   7\n",
      "  a  4  3   6   7\n",
      "  b  1  7  10  15\n",
      "  b  1  8  10  15\n",
      "  b  1  9  10  15\n",
      "---------------------------------------------\n"
     ]
    }
   ],
   "source": [
    "df = df.explode(('M', 'd'))\n",
    "printObj(df)"
   ]
  },
  {
   "cell_type": "code",
   "execution_count": null,
   "id": "638d7f31-2bee-4bf9-b9c2-58f5a11e96de",
   "metadata": {},
   "outputs": [],
   "source": []
  }
 ],
 "metadata": {
  "kernelspec": {
   "display_name": "Python 3 (ipykernel)",
   "language": "python",
   "name": "python3"
  },
  "language_info": {
   "codemirror_mode": {
    "name": "ipython",
    "version": 3
   },
   "file_extension": ".py",
   "mimetype": "text/x-python",
   "name": "python",
   "nbconvert_exporter": "python",
   "pygments_lexer": "ipython3",
   "version": "3.9.13"
  }
 },
 "nbformat": 4,
 "nbformat_minor": 5
}
