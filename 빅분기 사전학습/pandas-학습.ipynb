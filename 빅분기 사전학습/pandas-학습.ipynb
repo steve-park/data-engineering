{
 "cells": [
  {
   "cell_type": "markdown",
   "id": "e685180c-8e3a-4286-860e-24b7bafa37b3",
   "metadata": {
    "jp-MarkdownHeadingCollapsed": true,
    "tags": []
   },
   "source": [
    "# pandas 특징"
   ]
  },
  {
   "cell_type": "markdown",
   "id": "69a969f0-5e6e-4e78-9d96-824816cbfdbf",
   "metadata": {},
   "source": [
    "- DataFrame, Series, Index 를 사용하여 데이터 처리 및 분석을 수행한다\n",
    "    + 다양한 형태의 file, 생성자를 사용하여 DataFrame을 만든다\n",
    "    + 위의 객체들은 <font color=red>ndarray를 기반</font>으로 데이터의 처리, 분석을 효율적으로 할 수 있다\n",
    "    \n",
    "![nn](./images/pandas-01.png)"
   ]
  },
  {
   "cell_type": "markdown",
   "id": "510c676b-3eaa-4964-981f-2da9f77e31e9",
   "metadata": {
    "jp-MarkdownHeadingCollapsed": true,
    "tags": []
   },
   "source": [
    "# pandas 학습 내용"
   ]
  },
  {
   "cell_type": "markdown",
   "id": "1a5d506b-f541-4218-bbd0-83f6a904113a",
   "metadata": {},
   "source": [
    "![nn](./images/pandas-02.png)"
   ]
  },
  {
   "cell_type": "markdown",
   "id": "82d29cc2-3e3a-4f74-90ff-b107b9952812",
   "metadata": {},
   "source": [
    "# CSV 파일 읽어 DataFrame으로 가져오기"
   ]
  },
  {
   "cell_type": "code",
   "execution_count": 1,
   "id": "7ee48f66-1b69-4c43-bce9-46b3184a0cf5",
   "metadata": {},
   "outputs": [],
   "source": [
    "import pandas as pd"
   ]
  },
  {
   "cell_type": "code",
   "execution_count": 3,
   "id": "d39a4ce8-da28-423d-971c-834c740fec8d",
   "metadata": {},
   "outputs": [
    {
     "data": {
      "text/html": [
       "<div>\n",
       "<style scoped>\n",
       "    .dataframe tbody tr th:only-of-type {\n",
       "        vertical-align: middle;\n",
       "    }\n",
       "\n",
       "    .dataframe tbody tr th {\n",
       "        vertical-align: top;\n",
       "    }\n",
       "\n",
       "    .dataframe thead th {\n",
       "        text-align: right;\n",
       "    }\n",
       "</style>\n",
       "<table border=\"1\" class=\"dataframe\">\n",
       "  <thead>\n",
       "    <tr style=\"text-align: right;\">\n",
       "      <th></th>\n",
       "      <th>pname</th>\n",
       "      <th>birth</th>\n",
       "      <th>dept</th>\n",
       "      <th>english</th>\n",
       "      <th>japanese</th>\n",
       "      <th>chinese</th>\n",
       "    </tr>\n",
       "    <tr>\n",
       "      <th>ID</th>\n",
       "      <th></th>\n",
       "      <th></th>\n",
       "      <th></th>\n",
       "      <th></th>\n",
       "      <th></th>\n",
       "      <th></th>\n",
       "    </tr>\n",
       "  </thead>\n",
       "  <tbody>\n",
       "    <tr>\n",
       "      <th>18030201</th>\n",
       "      <td>James Kim</td>\n",
       "      <td>1990-01-23</td>\n",
       "      <td>Education</td>\n",
       "      <td>1.0</td>\n",
       "      <td>1.0</td>\n",
       "      <td>NaN</td>\n",
       "    </tr>\n",
       "    <tr>\n",
       "      <th>18030202</th>\n",
       "      <td>Rose Hwang</td>\n",
       "      <td>1992-10-11</td>\n",
       "      <td>Marketing</td>\n",
       "      <td>NaN</td>\n",
       "      <td>2.0</td>\n",
       "      <td>NaN</td>\n",
       "    </tr>\n",
       "  </tbody>\n",
       "</table>\n",
       "</div>"
      ],
      "text/plain": [
       "               pname       birth       dept  english  japanese  chinese\n",
       "ID                                                                     \n",
       "18030201   James Kim  1990-01-23  Education      1.0       1.0      NaN\n",
       "18030202  Rose Hwang  1992-10-11  Marketing      NaN       2.0      NaN"
      ]
     },
     "execution_count": 3,
     "metadata": {},
     "output_type": "execute_result"
    }
   ],
   "source": [
    "data = pd.read_csv(\"./data/easySample.csv\", index_col='ID')\n",
    "data.head(2)"
   ]
  },
  {
   "cell_type": "code",
   "execution_count": null,
   "id": "59b07652-f246-4deb-9498-bb8f2dc71c97",
   "metadata": {},
   "outputs": [],
   "source": []
  }
 ],
 "metadata": {
  "kernelspec": {
   "display_name": "Python 3 (ipykernel)",
   "language": "python",
   "name": "python3"
  },
  "language_info": {
   "codemirror_mode": {
    "name": "ipython",
    "version": 3
   },
   "file_extension": ".py",
   "mimetype": "text/x-python",
   "name": "python",
   "nbconvert_exporter": "python",
   "pygments_lexer": "ipython3",
   "version": "3.9.12"
  }
 },
 "nbformat": 4,
 "nbformat_minor": 5
}
