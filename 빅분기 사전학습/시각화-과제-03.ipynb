{
 "cells": [
  {
   "cell_type": "markdown",
   "id": "807f9b03-b8dc-4a64-a855-234f8f6a4143",
   "metadata": {},
   "source": [
    "# 제과점 데이터 시각화"
   ]
  },
  {
   "cell_type": "markdown",
   "id": "2d18d7fb-fc58-44d9-952e-a06101b13585",
   "metadata": {},
   "source": [
    "## 파일 다운로드"
   ]
  },
  {
   "cell_type": "code",
   "execution_count": null,
   "id": "24101dd9-731e-4928-87b8-05ab552b1328",
   "metadata": {},
   "outputs": [],
   "source": [
    "# !git clone https://github.com/Soyoung-Yoon/data_03"
   ]
  },
  {
   "cell_type": "markdown",
   "id": "aeed15ce-199c-4c40-bfd1-12b73f3734f2",
   "metadata": {},
   "source": [
    "## 한글 폰트 사용구성"
   ]
  },
  {
   "cell_type": "code",
   "execution_count": 1,
   "id": "ebb47333-3be7-439b-907f-b6d6471ad280",
   "metadata": {},
   "outputs": [],
   "source": [
    "import pandas as pd\n",
    "import numpy as np\n",
    "import seaborn as sns\n",
    "import matplotlib.pyplot as plt\n",
    "\n",
    "%matplotlib inline\n",
    "\n",
    "plt.rcParams['axes.unicode_minus'] = False \n",
    "# plt.rc('font', family='NanumGothic')\n",
    "plt.rc('font', family='Malgun Gothic')\n",
    "# plt.rc('font', family='AppleGothic') \n",
    "\n",
    "# sns.set(font=\"NanumGothic\", rc={\"axes.unicode_minus\":False}, style='whitegrid')\n",
    "sns.set(font=\"Malgun Gothic\", rc={\"axes.unicode_minus\":False}, style='whitegrid')\n",
    "# sns.set(font=\"AppleGothic\", rc={\"axes.unicode_minus\":False}, style='whitegrid')"
   ]
  },
  {
   "cell_type": "markdown",
   "id": "08d0946a-d929-4fcc-b0cc-ac91acdaf1e6",
   "metadata": {},
   "source": [
    "## 제과점 오픈 프로젝트"
   ]
  },
  {
   "cell_type": "code",
   "execution_count": 2,
   "id": "567b1206-6512-447d-9bce-21e67507239d",
   "metadata": {},
   "outputs": [],
   "source": [
    "import pandas as pd\n",
    "import matplotlib.pyplot as plt\n",
    "import seaborn as sns"
   ]
  },
  {
   "cell_type": "markdown",
   "id": "a2de2aeb-d273-4ae9-9006-e3f5ea86388c",
   "metadata": {},
   "source": [
    "### 파일 읽어오기"
   ]
  },
  {
   "cell_type": "markdown",
   "id": "4670b381-49a6-42b8-9278-90251466dcc1",
   "metadata": {},
   "source": [
    "- csv 파일 : `pd.read_csv('파일이름', encoding='cp949', low_memory=False)` \n",
    "   - encoding='cp949' : 한글이 포함되어 있는 경우 encoding 방식을 지정\n",
    "   - low_memory=False : column에 여러 type의 데이터가 섞여 있으면 DtypeWarning이 발생하며 이때, dtype option으로 타입을 명시해주거나 low_memory=False를 사용한다.\n"
   ]
  },
  {
   "cell_type": "code",
   "execution_count": 3,
   "id": "d46b1120-704e-4796-8966-861e9224033e",
   "metadata": {},
   "outputs": [
    {
     "data": {
      "text/html": [
       "<div>\n",
       "<style scoped>\n",
       "    .dataframe tbody tr th:only-of-type {\n",
       "        vertical-align: middle;\n",
       "    }\n",
       "\n",
       "    .dataframe tbody tr th {\n",
       "        vertical-align: top;\n",
       "    }\n",
       "\n",
       "    .dataframe thead th {\n",
       "        text-align: right;\n",
       "    }\n",
       "</style>\n",
       "<table border=\"1\" class=\"dataframe\">\n",
       "  <thead>\n",
       "    <tr style=\"text-align: right;\">\n",
       "      <th></th>\n",
       "      <th>번호</th>\n",
       "      <th>개방서비스명</th>\n",
       "      <th>개방서비스id</th>\n",
       "      <th>개방자치단체코드</th>\n",
       "      <th>관리번호</th>\n",
       "      <th>인허가일자</th>\n",
       "      <th>인허가취소일자</th>\n",
       "      <th>영업상태구분코드</th>\n",
       "      <th>영업상태명</th>\n",
       "      <th>상세영업상태코드</th>\n",
       "      <th>...</th>\n",
       "      <th>공장생산직종업원수</th>\n",
       "      <th>건물소유구분명</th>\n",
       "      <th>보증액</th>\n",
       "      <th>월세액</th>\n",
       "      <th>다중이용업소여부</th>\n",
       "      <th>시설총규모</th>\n",
       "      <th>전통업소지정번호</th>\n",
       "      <th>전통업소주된음식</th>\n",
       "      <th>홈페이지</th>\n",
       "      <th>Unnamed: 47</th>\n",
       "    </tr>\n",
       "  </thead>\n",
       "  <tbody>\n",
       "    <tr>\n",
       "      <th>0</th>\n",
       "      <td>1</td>\n",
       "      <td>제과점영업</td>\n",
       "      <td>07_22_18_P</td>\n",
       "      <td>3600000</td>\n",
       "      <td>3600000-121-2013-00002</td>\n",
       "      <td>20130201</td>\n",
       "      <td>NaN</td>\n",
       "      <td>1</td>\n",
       "      <td>영업/정상</td>\n",
       "      <td>1</td>\n",
       "      <td>...</td>\n",
       "      <td>NaN</td>\n",
       "      <td>NaN</td>\n",
       "      <td>NaN</td>\n",
       "      <td>NaN</td>\n",
       "      <td>N</td>\n",
       "      <td>146.40</td>\n",
       "      <td>NaN</td>\n",
       "      <td>NaN</td>\n",
       "      <td>NaN</td>\n",
       "      <td>NaN</td>\n",
       "    </tr>\n",
       "    <tr>\n",
       "      <th>1</th>\n",
       "      <td>2</td>\n",
       "      <td>제과점영업</td>\n",
       "      <td>07_22_18_P</td>\n",
       "      <td>3600000</td>\n",
       "      <td>3600000-121-2013-00005</td>\n",
       "      <td>20130318</td>\n",
       "      <td>NaN</td>\n",
       "      <td>1</td>\n",
       "      <td>영업/정상</td>\n",
       "      <td>1</td>\n",
       "      <td>...</td>\n",
       "      <td>NaN</td>\n",
       "      <td>NaN</td>\n",
       "      <td>NaN</td>\n",
       "      <td>NaN</td>\n",
       "      <td>N</td>\n",
       "      <td>165.00</td>\n",
       "      <td>NaN</td>\n",
       "      <td>NaN</td>\n",
       "      <td>NaN</td>\n",
       "      <td>NaN</td>\n",
       "    </tr>\n",
       "    <tr>\n",
       "      <th>2</th>\n",
       "      <td>3</td>\n",
       "      <td>제과점영업</td>\n",
       "      <td>07_22_18_P</td>\n",
       "      <td>3600000</td>\n",
       "      <td>3600000-121-2013-00008</td>\n",
       "      <td>20130417</td>\n",
       "      <td>NaN</td>\n",
       "      <td>1</td>\n",
       "      <td>영업/정상</td>\n",
       "      <td>1</td>\n",
       "      <td>...</td>\n",
       "      <td>NaN</td>\n",
       "      <td>NaN</td>\n",
       "      <td>NaN</td>\n",
       "      <td>NaN</td>\n",
       "      <td>N</td>\n",
       "      <td>101.25</td>\n",
       "      <td>NaN</td>\n",
       "      <td>NaN</td>\n",
       "      <td>NaN</td>\n",
       "      <td>NaN</td>\n",
       "    </tr>\n",
       "    <tr>\n",
       "      <th>3</th>\n",
       "      <td>4</td>\n",
       "      <td>제과점영업</td>\n",
       "      <td>07_22_18_P</td>\n",
       "      <td>3620000</td>\n",
       "      <td>3620000-121-1998-00020</td>\n",
       "      <td>19980327</td>\n",
       "      <td>NaN</td>\n",
       "      <td>1</td>\n",
       "      <td>영업/정상</td>\n",
       "      <td>1</td>\n",
       "      <td>...</td>\n",
       "      <td>NaN</td>\n",
       "      <td>NaN</td>\n",
       "      <td>NaN</td>\n",
       "      <td>NaN</td>\n",
       "      <td>N</td>\n",
       "      <td>74.31</td>\n",
       "      <td>NaN</td>\n",
       "      <td>NaN</td>\n",
       "      <td>NaN</td>\n",
       "      <td>NaN</td>\n",
       "    </tr>\n",
       "    <tr>\n",
       "      <th>4</th>\n",
       "      <td>5</td>\n",
       "      <td>제과점영업</td>\n",
       "      <td>07_22_18_P</td>\n",
       "      <td>3620000</td>\n",
       "      <td>3620000-121-1986-00015</td>\n",
       "      <td>19980515</td>\n",
       "      <td>NaN</td>\n",
       "      <td>1</td>\n",
       "      <td>영업/정상</td>\n",
       "      <td>1</td>\n",
       "      <td>...</td>\n",
       "      <td>NaN</td>\n",
       "      <td>NaN</td>\n",
       "      <td>NaN</td>\n",
       "      <td>NaN</td>\n",
       "      <td>N</td>\n",
       "      <td>89.04</td>\n",
       "      <td>NaN</td>\n",
       "      <td>NaN</td>\n",
       "      <td>NaN</td>\n",
       "      <td>NaN</td>\n",
       "    </tr>\n",
       "  </tbody>\n",
       "</table>\n",
       "<p>5 rows × 48 columns</p>\n",
       "</div>"
      ],
      "text/plain": [
       "   번호 개방서비스명     개방서비스id  개방자치단체코드                    관리번호     인허가일자  인허가취소일자  \\\n",
       "0   1  제과점영업  07_22_18_P   3600000  3600000-121-2013-00002  20130201      NaN   \n",
       "1   2  제과점영업  07_22_18_P   3600000  3600000-121-2013-00005  20130318      NaN   \n",
       "2   3  제과점영업  07_22_18_P   3600000  3600000-121-2013-00008  20130417      NaN   \n",
       "3   4  제과점영업  07_22_18_P   3620000  3620000-121-1998-00020  19980327      NaN   \n",
       "4   5  제과점영업  07_22_18_P   3620000  3620000-121-1986-00015  19980515      NaN   \n",
       "\n",
       "   영업상태구분코드  영업상태명  상세영업상태코드  ... 공장생산직종업원수  건물소유구분명  보증액  월세액  다중이용업소여부  \\\n",
       "0         1  영업/정상         1  ...       NaN      NaN  NaN  NaN         N   \n",
       "1         1  영업/정상         1  ...       NaN      NaN  NaN  NaN         N   \n",
       "2         1  영업/정상         1  ...       NaN      NaN  NaN  NaN         N   \n",
       "3         1  영업/정상         1  ...       NaN      NaN  NaN  NaN         N   \n",
       "4         1  영업/정상         1  ...       NaN      NaN  NaN  NaN         N   \n",
       "\n",
       "    시설총규모 전통업소지정번호  전통업소주된음식 홈페이지 Unnamed: 47  \n",
       "0  146.40      NaN       NaN  NaN         NaN  \n",
       "1  165.00      NaN       NaN  NaN         NaN  \n",
       "2  101.25      NaN       NaN  NaN         NaN  \n",
       "3   74.31      NaN       NaN  NaN         NaN  \n",
       "4   89.04      NaN       NaN  NaN         NaN  \n",
       "\n",
       "[5 rows x 48 columns]"
      ]
     },
     "execution_count": 3,
     "metadata": {},
     "output_type": "execute_result"
    }
   ],
   "source": [
    "# [4-1] 제과점에 대한 파일 './data_03/bread_data.csv'을 \n",
    "# encoding='cp949' 를 사용하여 읽어와 df라는 이름을 붙인다\n",
    "# low_memory=False 또는 dtype={'건물소유구분명': object, '전통업소지정번호': object}를 사용하여 Warning를 제거할 수 있음\n",
    "df = pd.read_csv('./data_03/bread_data.csv', encoding='cp949', low_memory=False)\n",
    "df.head()"
   ]
  },
  {
   "cell_type": "markdown",
   "id": "a089553f-88ac-41e5-81d5-4226e66cc3bf",
   "metadata": {},
   "source": [
    "### 데이터 구조 확인"
   ]
  },
  {
   "cell_type": "markdown",
   "id": "a9ac2e35-3f87-4993-9c32-3c80fb8ee297",
   "metadata": {},
   "source": [
    "- DataFrame.shape : 데이터 프레임의 행, 열의 수를 tuple로 반환\n",
    "- DataFrame.head(n=5) : 처음부터 n개 행의 데이터 가져오기\n",
    "- DataFrame.tail(n=5) : 마지막 n개 행의 데이터 가져오기\n",
    "- DataFrame.info(memory_usage='deep') : 데이터 프레임의 row 개수 및 각 column의 Non null, dtype 정보 및 메모리 사용량을 확인함"
   ]
  },
  {
   "cell_type": "code",
   "execution_count": 4,
   "id": "9af67d8b-4e31-4853-bb0d-7630ab36978b",
   "metadata": {},
   "outputs": [
    {
     "name": "stdout",
     "output_type": "stream",
     "text": [
      "(52680, 48)\n"
     ]
    }
   ],
   "source": [
    "# [4-2] df의 행, 열의 개수를 확인한다\n",
    "print(df.shape)"
   ]
  },
  {
   "cell_type": "code",
   "execution_count": 5,
   "id": "636fcb42-4d18-41a7-a8b9-eb1bd703b24b",
   "metadata": {},
   "outputs": [
    {
     "data": {
      "text/html": [
       "<div>\n",
       "<style scoped>\n",
       "    .dataframe tbody tr th:only-of-type {\n",
       "        vertical-align: middle;\n",
       "    }\n",
       "\n",
       "    .dataframe tbody tr th {\n",
       "        vertical-align: top;\n",
       "    }\n",
       "\n",
       "    .dataframe thead th {\n",
       "        text-align: right;\n",
       "    }\n",
       "</style>\n",
       "<table border=\"1\" class=\"dataframe\">\n",
       "  <thead>\n",
       "    <tr style=\"text-align: right;\">\n",
       "      <th></th>\n",
       "      <th>번호</th>\n",
       "      <th>개방서비스명</th>\n",
       "      <th>개방서비스id</th>\n",
       "      <th>개방자치단체코드</th>\n",
       "      <th>관리번호</th>\n",
       "      <th>인허가일자</th>\n",
       "      <th>인허가취소일자</th>\n",
       "      <th>영업상태구분코드</th>\n",
       "      <th>영업상태명</th>\n",
       "      <th>상세영업상태코드</th>\n",
       "      <th>...</th>\n",
       "      <th>공장생산직종업원수</th>\n",
       "      <th>건물소유구분명</th>\n",
       "      <th>보증액</th>\n",
       "      <th>월세액</th>\n",
       "      <th>다중이용업소여부</th>\n",
       "      <th>시설총규모</th>\n",
       "      <th>전통업소지정번호</th>\n",
       "      <th>전통업소주된음식</th>\n",
       "      <th>홈페이지</th>\n",
       "      <th>Unnamed: 47</th>\n",
       "    </tr>\n",
       "  </thead>\n",
       "  <tbody>\n",
       "    <tr>\n",
       "      <th>0</th>\n",
       "      <td>1</td>\n",
       "      <td>제과점영업</td>\n",
       "      <td>07_22_18_P</td>\n",
       "      <td>3600000</td>\n",
       "      <td>3600000-121-2013-00002</td>\n",
       "      <td>20130201</td>\n",
       "      <td>NaN</td>\n",
       "      <td>1</td>\n",
       "      <td>영업/정상</td>\n",
       "      <td>1</td>\n",
       "      <td>...</td>\n",
       "      <td>NaN</td>\n",
       "      <td>NaN</td>\n",
       "      <td>NaN</td>\n",
       "      <td>NaN</td>\n",
       "      <td>N</td>\n",
       "      <td>146.4</td>\n",
       "      <td>NaN</td>\n",
       "      <td>NaN</td>\n",
       "      <td>NaN</td>\n",
       "      <td>NaN</td>\n",
       "    </tr>\n",
       "  </tbody>\n",
       "</table>\n",
       "<p>1 rows × 48 columns</p>\n",
       "</div>"
      ],
      "text/plain": [
       "   번호 개방서비스명     개방서비스id  개방자치단체코드                    관리번호     인허가일자  인허가취소일자  \\\n",
       "0   1  제과점영업  07_22_18_P   3600000  3600000-121-2013-00002  20130201      NaN   \n",
       "\n",
       "   영업상태구분코드  영업상태명  상세영업상태코드  ... 공장생산직종업원수  건물소유구분명  보증액  월세액  다중이용업소여부  \\\n",
       "0         1  영업/정상         1  ...       NaN      NaN  NaN  NaN         N   \n",
       "\n",
       "   시설총규모 전통업소지정번호  전통업소주된음식 홈페이지 Unnamed: 47  \n",
       "0  146.4      NaN       NaN  NaN         NaN  \n",
       "\n",
       "[1 rows x 48 columns]"
      ]
     },
     "execution_count": 5,
     "metadata": {},
     "output_type": "execute_result"
    }
   ],
   "source": [
    "# [4-3] df의 첫 1개 열을 출력해 확인한다\n",
    "df.head(1)"
   ]
  },
  {
   "cell_type": "code",
   "execution_count": 6,
   "id": "7342c460-ff48-45ef-8c8b-314f5dcce16b",
   "metadata": {},
   "outputs": [
    {
     "name": "stdout",
     "output_type": "stream",
     "text": [
      "<class 'pandas.core.frame.DataFrame'>\n",
      "RangeIndex: 52680 entries, 0 to 52679\n",
      "Data columns (total 48 columns):\n",
      " #   Column       Non-Null Count  Dtype  \n",
      "---  ------       --------------  -----  \n",
      " 0   번호           52680 non-null  int64  \n",
      " 1   개방서비스명       52680 non-null  object \n",
      " 2   개방서비스id      52680 non-null  object \n",
      " 3   개방자치단체코드     52680 non-null  int64  \n",
      " 4   관리번호         52680 non-null  object \n",
      " 5   인허가일자        52680 non-null  int64  \n",
      " 6   인허가취소일자      0 non-null      float64\n",
      " 7   영업상태구분코드     52680 non-null  int64  \n",
      " 8   영업상태명        52680 non-null  object \n",
      " 9   상세영업상태코드     52680 non-null  int64  \n",
      " 10  상세영업상태명      52680 non-null  object \n",
      " 11  폐업일자         33669 non-null  float64\n",
      " 12  휴업시작일자       0 non-null      float64\n",
      " 13  휴업종료일자       0 non-null      float64\n",
      " 14  재개업일자        0 non-null      float64\n",
      " 15  소재지전화        31967 non-null  object \n",
      " 16  소재지면적        49047 non-null  object \n",
      " 17  소재지우편번호      50885 non-null  float64\n",
      " 18  소재지전체주소      52513 non-null  object \n",
      " 19  도로명전체주소      36164 non-null  object \n",
      " 20  도로명우편번호      35635 non-null  float64\n",
      " 21  사업장명         52680 non-null  object \n",
      " 22  최종수정시점       52680 non-null  int64  \n",
      " 23  데이터갱신구분      52680 non-null  object \n",
      " 24  데이터갱신일자      52680 non-null  object \n",
      " 25  업태구분명        52674 non-null  object \n",
      " 26  좌표정보(x)      50416 non-null  float64\n",
      " 27  좌표정보(y)      50416 non-null  float64\n",
      " 28  위생업태명        52674 non-null  object \n",
      " 29  남성종사자수       20271 non-null  float64\n",
      " 30  여성종사자수       20497 non-null  float64\n",
      " 31  영업장주변구분명     16935 non-null  object \n",
      " 32  등급구분명        7430 non-null   object \n",
      " 33  급수시설구분명      32427 non-null  object \n",
      " 34  총종업원수        1003 non-null   float64\n",
      " 35  본사종업원수       1838 non-null   float64\n",
      " 36  공장사무직종업원수    1838 non-null   float64\n",
      " 37  공장판매직종업원수    1838 non-null   float64\n",
      " 38  공장생산직종업원수    1838 non-null   float64\n",
      " 39  건물소유구분명      9 non-null      object \n",
      " 40  보증액          1836 non-null   float64\n",
      " 41  월세액          1836 non-null   float64\n",
      " 42  다중이용업소여부     52680 non-null  object \n",
      " 43  시설총규모        52680 non-null  float64\n",
      " 44  전통업소지정번호     64 non-null     object \n",
      " 45  전통업소주된음식     0 non-null      float64\n",
      " 46  홈페이지         0 non-null      float64\n",
      " 47  Unnamed: 47  0 non-null      float64\n",
      "dtypes: float64(22), int64(6), object(20)\n",
      "memory usage: 85.2 MB\n"
     ]
    }
   ],
   "source": [
    "# [4-4] df의 행, 열에 대한 개수, 각 열 별 데이터 개수 및 dtype, \n",
    "# 메모리 사용량을 확인합니다.\n",
    "df.info(memory_usage='deep')"
   ]
  },
  {
   "cell_type": "markdown",
   "id": "c0bcdc86-7012-459f-8469-1cf2f0188af5",
   "metadata": {},
   "source": [
    "- DataFrame의 한 개의 column은 Series이다.\n",
    "    + DataFrame[컬럼명] : 컬럼 1개를 Series로 반환함\n",
    "    + DataFrame[[컬럼명1, 컬럼명2, ...]] : 컬럼 목록에 있는 컬럼을 가져옴\n",
    "        + 컬럼 목록에 1개의 컬럼만 있어도 DataFrame이 반환됨\n",
    "- `Series.value_counts()` : 데이터 별 개수를 Series로 반환\n",
    "    + NA Value가 있다면 불포함"
   ]
  },
  {
   "cell_type": "code",
   "execution_count": 7,
   "id": "8c0c033d-cfbd-4e05-8736-8a739664a780",
   "metadata": {},
   "outputs": [
    {
     "data": {
      "text/plain": [
       "폐업    33669\n",
       "영업    19011\n",
       "Name: 상세영업상태명, dtype: int64"
      ]
     },
     "execution_count": 7,
     "metadata": {},
     "output_type": "execute_result"
    }
   ],
   "source": [
    "# [4-5] df의 '상세영업상태명'에 대해 값별 개수를 구합니다.\n",
    "df['상세영업상태명'].value_counts()"
   ]
  },
  {
   "cell_type": "code",
   "execution_count": 8,
   "id": "cf7c09e8-7450-4cac-bbe3-314f27332bd5",
   "metadata": {},
   "outputs": [
    {
     "data": {
      "text/plain": [
       "2    33669\n",
       "1    19011\n",
       "Name: 상세영업상태코드, dtype: int64"
      ]
     },
     "execution_count": 8,
     "metadata": {},
     "output_type": "execute_result"
    }
   ],
   "source": [
    "# [4-6] df의 '상세영업상태코드'에 대해 값별 개수를 구합니다.\n",
    "# 1: 영업, 2: 폐업\n",
    "df['상세영업상태코드'].value_counts()"
   ]
  },
  {
   "cell_type": "code",
   "execution_count": 9,
   "id": "af860cb5-71f3-45bb-805b-6e824cc33e8c",
   "metadata": {},
   "outputs": [
    {
     "data": {
      "text/html": [
       "<div>\n",
       "<style scoped>\n",
       "    .dataframe tbody tr th:only-of-type {\n",
       "        vertical-align: middle;\n",
       "    }\n",
       "\n",
       "    .dataframe tbody tr th {\n",
       "        vertical-align: top;\n",
       "    }\n",
       "\n",
       "    .dataframe thead th {\n",
       "        text-align: right;\n",
       "    }\n",
       "</style>\n",
       "<table border=\"1\" class=\"dataframe\">\n",
       "  <thead>\n",
       "    <tr style=\"text-align: right;\">\n",
       "      <th></th>\n",
       "      <th>인허가일자</th>\n",
       "      <th>상세영업상태코드</th>\n",
       "      <th>폐업일자</th>\n",
       "      <th>소재지전체주소</th>\n",
       "      <th>사업장명</th>\n",
       "      <th>업태구분명</th>\n",
       "    </tr>\n",
       "  </thead>\n",
       "  <tbody>\n",
       "    <tr>\n",
       "      <th>0</th>\n",
       "      <td>20130201</td>\n",
       "      <td>1</td>\n",
       "      <td>NaN</td>\n",
       "      <td>광주광역시 서구 치평동 1177-2번지 (106,107호)</td>\n",
       "      <td>뚜레쥬르상무역점</td>\n",
       "      <td>제과점영업</td>\n",
       "    </tr>\n",
       "    <tr>\n",
       "      <th>1</th>\n",
       "      <td>20130318</td>\n",
       "      <td>1</td>\n",
       "      <td>NaN</td>\n",
       "      <td>광주광역시 서구 유촌동 868-1번지 (102호)</td>\n",
       "      <td>뚜레쥬르광주버들마을점</td>\n",
       "      <td>제과점영업</td>\n",
       "    </tr>\n",
       "    <tr>\n",
       "      <th>2</th>\n",
       "      <td>20130417</td>\n",
       "      <td>1</td>\n",
       "      <td>NaN</td>\n",
       "      <td>광주광역시 서구 화정동 1611번지 101호102호103호 상가2동</td>\n",
       "      <td>파리바게뜨화정현대점</td>\n",
       "      <td>제과점영업</td>\n",
       "    </tr>\n",
       "  </tbody>\n",
       "</table>\n",
       "</div>"
      ],
      "text/plain": [
       "      인허가일자  상세영업상태코드  폐업일자                                소재지전체주소  \\\n",
       "0  20130201         1   NaN       광주광역시 서구 치평동 1177-2번지 (106,107호)   \n",
       "1  20130318         1   NaN            광주광역시 서구 유촌동 868-1번지 (102호)   \n",
       "2  20130417         1   NaN  광주광역시 서구 화정동 1611번지 101호102호103호 상가2동   \n",
       "\n",
       "          사업장명  업태구분명  \n",
       "0     뚜레쥬르상무역점  제과점영업  \n",
       "1  뚜레쥬르광주버들마을점  제과점영업  \n",
       "2   파리바게뜨화정현대점  제과점영업  "
      ]
     },
     "execution_count": 9,
     "metadata": {},
     "output_type": "execute_result"
    }
   ],
   "source": [
    "# [4-7] df의 컬럼 중에 \n",
    "# '인허가일자', '상세영업상태코드', '폐업일자', '소재지전체주소', '사업장명', '업태구분명'만 가져옵니다.\n",
    "# 이름을 bread로 정하고, 처음부터 3개 행을 출력해 봅니다.\n",
    "bread = df[['인허가일자', '상세영업상태코드', '폐업일자', '소재지전체주소', '사업장명', '업태구분명']]\n",
    "bread.head(3)"
   ]
  },
  {
   "cell_type": "markdown",
   "id": "af2acace-2b86-4af5-b33a-2933e725c595",
   "metadata": {},
   "source": [
    "### 파생정보 추가"
   ]
  },
  {
   "cell_type": "markdown",
   "id": "cdcc5035-a580-465c-a502-36f19e187fa3",
   "metadata": {},
   "source": [
    "- Series의 str Accessor 사용\n",
    "    + 세부 내용 : https://pandas.pydata.org/docs/reference/series.html#string-handling \n",
    "    + `Series.str.split()` : whitespace(공백, 탭 등)을 기준으로 문자열 분리\n",
    "        + 예)  ‘서울특별시 종로구 …’  => [서울특별시, 종로구, …]\n",
    "    + `Series.str[0]` : Series가 여러 개의 요소가 있는 경우 그 첫 번째 요소 \n",
    "- `Series.unique()` : 중복 데이터의 제거 후 배열로 반환, NA Value가 있다면 포함"
   ]
  },
  {
   "cell_type": "code",
   "execution_count": 10,
   "id": "130303c4-0bbe-4d1b-96d2-18aa742aeef4",
   "metadata": {},
   "outputs": [
    {
     "data": {
      "text/plain": [
       "array(['광주광역시', '부산광역시', '경상북도', nan, '인천광역시', '충청남도', '경기도', '충청북도',\n",
       "       '제주특별자치도', '서울특별시', '대전광역시', '대구광역시', '울산광역시', '전라남도', '전라북도',\n",
       "       '경상남도', '강원도', '세종특별자치시', '사당역4호선'], dtype=object)"
      ]
     },
     "execution_count": 10,
     "metadata": {},
     "output_type": "execute_result"
    }
   ],
   "source": [
    "# [4-8] bread 의 '소재지전체주소' 중 시/도에 대한 정보(목록)를 추출합니다.\n",
    "bread['소재지전체주소'].str.split().str[0].unique()"
   ]
  },
  {
   "cell_type": "markdown",
   "id": "5d74ff89-83a4-4cf4-81a9-1b22423719dc",
   "metadata": {},
   "source": [
    "Boolean indexing 사용하여 조건에 맞는 데이터 가져오기\n",
    "- `DataFrame.loc[조건, :]`\n",
    "- `DataFrame[조건]`\n",
    "- 조건은 boolean dtype이어야 하며 행의 수와 같아야 함\n",
    "- 복잡한 조건 작성\n",
    "    + (조건1) | (조건2)  : 조건1 또는 조건2를 만족하는 데이터\n",
    "    + (조건1) & (조건2)  : 조건1, 조건2 모두 만족하는 데이터\n",
    "    + ~(조건) : 조건이 거짓인 데이터"
   ]
  },
  {
   "cell_type": "code",
   "execution_count": 11,
   "id": "9134d0a0-ed7c-4e97-b2e5-4895034f856e",
   "metadata": {},
   "outputs": [
    {
     "data": {
      "text/html": [
       "<div>\n",
       "<style scoped>\n",
       "    .dataframe tbody tr th:only-of-type {\n",
       "        vertical-align: middle;\n",
       "    }\n",
       "\n",
       "    .dataframe tbody tr th {\n",
       "        vertical-align: top;\n",
       "    }\n",
       "\n",
       "    .dataframe thead th {\n",
       "        text-align: right;\n",
       "    }\n",
       "</style>\n",
       "<table border=\"1\" class=\"dataframe\">\n",
       "  <thead>\n",
       "    <tr style=\"text-align: right;\">\n",
       "      <th></th>\n",
       "      <th>인허가일자</th>\n",
       "      <th>상세영업상태코드</th>\n",
       "      <th>폐업일자</th>\n",
       "      <th>소재지전체주소</th>\n",
       "      <th>사업장명</th>\n",
       "      <th>업태구분명</th>\n",
       "    </tr>\n",
       "  </thead>\n",
       "  <tbody>\n",
       "    <tr>\n",
       "      <th>1055</th>\n",
       "      <td>20010713</td>\n",
       "      <td>1</td>\n",
       "      <td>NaN</td>\n",
       "      <td>서울특별시 은평구 대조동 179-8 1,2층</td>\n",
       "      <td>파리바게뜨(역촌역점)</td>\n",
       "      <td>제과점영업</td>\n",
       "    </tr>\n",
       "    <tr>\n",
       "      <th>1056</th>\n",
       "      <td>20030507</td>\n",
       "      <td>1</td>\n",
       "      <td>NaN</td>\n",
       "      <td>서울특별시 은평구 갈현동 508-4번지 1층</td>\n",
       "      <td>파리바게뜨</td>\n",
       "      <td>제과점영업</td>\n",
       "    </tr>\n",
       "    <tr>\n",
       "      <th>1057</th>\n",
       "      <td>20021011</td>\n",
       "      <td>1</td>\n",
       "      <td>NaN</td>\n",
       "      <td>서울특별시 은평구 녹번동 278-1번지 (108호)</td>\n",
       "      <td>신라명과(역촌현대점)</td>\n",
       "      <td>제과점영업</td>\n",
       "    </tr>\n",
       "    <tr>\n",
       "      <th>1058</th>\n",
       "      <td>20011015</td>\n",
       "      <td>1</td>\n",
       "      <td>NaN</td>\n",
       "      <td>서울특별시 은평구 불광동 631-1번지 (지하1층)대호상가아파트</td>\n",
       "      <td>브르망</td>\n",
       "      <td>제과점영업</td>\n",
       "    </tr>\n",
       "    <tr>\n",
       "      <th>1059</th>\n",
       "      <td>20050406</td>\n",
       "      <td>1</td>\n",
       "      <td>NaN</td>\n",
       "      <td>서울특별시 중랑구 중화동 288-27</td>\n",
       "      <td>케잌하우스밀레</td>\n",
       "      <td>제과점영업</td>\n",
       "    </tr>\n",
       "    <tr>\n",
       "      <th>...</th>\n",
       "      <td>...</td>\n",
       "      <td>...</td>\n",
       "      <td>...</td>\n",
       "      <td>...</td>\n",
       "      <td>...</td>\n",
       "      <td>...</td>\n",
       "    </tr>\n",
       "    <tr>\n",
       "      <th>52664</th>\n",
       "      <td>20201218</td>\n",
       "      <td>2</td>\n",
       "      <td>20201225.0</td>\n",
       "      <td>서울특별시 서초구 반포동 19-3 지하1층</td>\n",
       "      <td>나폴레옹과자점</td>\n",
       "      <td>제과점영업</td>\n",
       "    </tr>\n",
       "    <tr>\n",
       "      <th>52665</th>\n",
       "      <td>20201218</td>\n",
       "      <td>2</td>\n",
       "      <td>20201225.0</td>\n",
       "      <td>서울특별시 서초구 반포동 19-3 신세계 강남점 지하1층</td>\n",
       "      <td>르몽블랑</td>\n",
       "      <td>제과점영업</td>\n",
       "    </tr>\n",
       "    <tr>\n",
       "      <th>52670</th>\n",
       "      <td>20210119</td>\n",
       "      <td>2</td>\n",
       "      <td>20210220.0</td>\n",
       "      <td>서울특별시 서초구 반포동 19-3 신세계백화점 지하1층</td>\n",
       "      <td>리암스(Liam's)</td>\n",
       "      <td>제과점영업</td>\n",
       "    </tr>\n",
       "    <tr>\n",
       "      <th>52672</th>\n",
       "      <td>20210125</td>\n",
       "      <td>2</td>\n",
       "      <td>20210215.0</td>\n",
       "      <td>서울특별시 강남구 압구정동 494 갤러리아백화점</td>\n",
       "      <td>유한회사 카페노티드(한시적)</td>\n",
       "      <td>제과점영업</td>\n",
       "    </tr>\n",
       "    <tr>\n",
       "      <th>52673</th>\n",
       "      <td>20201208</td>\n",
       "      <td>2</td>\n",
       "      <td>20210315.0</td>\n",
       "      <td>서울특별시 동작구 사당동 1037-17</td>\n",
       "      <td>고오급 빵집</td>\n",
       "      <td>제과점영업</td>\n",
       "    </tr>\n",
       "  </tbody>\n",
       "</table>\n",
       "<p>12052 rows × 6 columns</p>\n",
       "</div>"
      ],
      "text/plain": [
       "          인허가일자  상세영업상태코드        폐업일자                              소재지전체주소  \\\n",
       "1055   20010713         1         NaN             서울특별시 은평구 대조동 179-8 1,2층   \n",
       "1056   20030507         1         NaN             서울특별시 은평구 갈현동 508-4번지 1층   \n",
       "1057   20021011         1         NaN         서울특별시 은평구 녹번동 278-1번지 (108호)   \n",
       "1058   20011015         1         NaN  서울특별시 은평구 불광동 631-1번지 (지하1층)대호상가아파트   \n",
       "1059   20050406         1         NaN                 서울특별시 중랑구 중화동 288-27   \n",
       "...         ...       ...         ...                                  ...   \n",
       "52664  20201218         2  20201225.0              서울특별시 서초구 반포동 19-3 지하1층   \n",
       "52665  20201218         2  20201225.0      서울특별시 서초구 반포동 19-3 신세계 강남점 지하1층   \n",
       "52670  20210119         2  20210220.0       서울특별시 서초구 반포동 19-3 신세계백화점 지하1층   \n",
       "52672  20210125         2  20210215.0           서울특별시 강남구 압구정동 494 갤러리아백화점   \n",
       "52673  20201208         2  20210315.0                서울특별시 동작구 사당동 1037-17   \n",
       "\n",
       "                  사업장명  업태구분명  \n",
       "1055       파리바게뜨(역촌역점)  제과점영업  \n",
       "1056             파리바게뜨  제과점영업  \n",
       "1057       신라명과(역촌현대점)  제과점영업  \n",
       "1058               브르망  제과점영업  \n",
       "1059           케잌하우스밀레  제과점영업  \n",
       "...                ...    ...  \n",
       "52664          나폴레옹과자점  제과점영업  \n",
       "52665             르몽블랑  제과점영업  \n",
       "52670      리암스(Liam's)  제과점영업  \n",
       "52672  유한회사 카페노티드(한시적)  제과점영업  \n",
       "52673           고오급 빵집  제과점영업  \n",
       "\n",
       "[12052 rows x 6 columns]"
      ]
     },
     "execution_count": 11,
     "metadata": {},
     "output_type": "execute_result"
    }
   ],
   "source": [
    "# [4-9] bread에서 소재지전체주소의 처음이 '서울특별시'이면서,\n",
    "# '업태구분명'이 '제과점영업'인 것만 추출합니다.\n",
    "bread[(bread['소재지전체주소'].str.split().str[0] == '서울특별시') & (bread['업태구분명'] == '제과점영업')]"
   ]
  },
  {
   "cell_type": "code",
   "execution_count": 12,
   "id": "de2710d2-8708-498b-be6c-b6c828b3d485",
   "metadata": {},
   "outputs": [
    {
     "name": "stdout",
     "output_type": "stream",
     "text": [
      "(52680, 48)\n",
      "(52680, 6)\n"
     ]
    }
   ],
   "source": [
    "# [4-10] df, bread의 행/열 정보를 확인합니다.\n",
    "print(df.shape, bread.shape, sep='\\n')"
   ]
  },
  {
   "cell_type": "markdown",
   "id": "15ea3b8e-3332-44a0-b463-f5e5f204620e",
   "metadata": {},
   "source": [
    "DataFrame에 새로운 컬럼 추가\n",
    "- `DataFrame['컬럼명'] = 데이터`\n",
    "- 데이터의 개수는 기존 다른 컬럼의 행 개수와 같아야 함"
   ]
  },
  {
   "cell_type": "code",
   "execution_count": 13,
   "id": "d6cf46fe-09bf-4cab-bc47-016fa1e20372",
   "metadata": {},
   "outputs": [
    {
     "data": {
      "text/plain": [
       "Index(['인허가일자', '상세영업상태코드', '폐업일자', '소재지전체주소', '사업장명', '업태구분명', '구명', '동명'], dtype='object')"
      ]
     },
     "execution_count": 13,
     "metadata": {},
     "output_type": "execute_result"
    }
   ],
   "source": [
    "# [4-11] bread의 '소재지전체주소'에서 '구명', '동명'을 추출하여 \n",
    "# bread에 새로운 컬럼으로 등록합니다.\n",
    "pd.options.mode.chained_assignment = None\n",
    "\n",
    "address = bread['소재지전체주소'].str.split()\n",
    "bread['구명'] = address.str[1]\n",
    "bread['동명'] = address.str[2]\n",
    "\n",
    "# pd.options.mode.chained_assignment = 'warn'\n",
    "del address\n",
    "# bread의 컬럼명을 출력해 '구명', '동명'이 추가되었는지 확인함\n",
    "bread.columns"
   ]
  },
  {
   "cell_type": "markdown",
   "id": "3b98b58d-d804-4628-8581-5f119d7f5a3d",
   "metadata": {},
   "source": [
    "- Accessor 연습 LAB : https://colab.research.google.com/drive/1tkrP-1VWZYZ1Zl_9KrlkPBpVHWBMUlCy\n",
    "- Accessor 연습 Teacher : https://colab.research.google.com/drive/1Szy5ZjK7hM6E7utgPIbAgwDAxcWWpwO5columns"
   ]
  },
  {
   "cell_type": "markdown",
   "id": "c8d6d7d6-cfbc-4947-a463-493bf82f38d2",
   "metadata": {},
   "source": [
    "### 결측치 확인/처리"
   ]
  },
  {
   "cell_type": "markdown",
   "id": "563e1d5f-9658-4dd5-ab9e-e72e3af7561e",
   "metadata": {},
   "source": [
    "결측치는 값이 없음을 나타냄 \n",
    "- NaN, NaT, None 등으로 표기되며, NA Value, Missing Value 라고 함\n",
    "\n",
    "결측치 확인\n",
    "   - DataFrame.isna() : 결측치에 대해 True, 아니면 False\n",
    "   - DataFrame.isnull() : DataFrame.isna()와 동일함\n",
    "   - DataFrame.notna() : 결측치가 아닌 것에 대해 True, 결측치면 False\n",
    "   - DataFrame.notnull() : DataFrame.isnull()과 동일함\n",
    "   - Series에도 결측치 확인을 위한 isna() ~ notnull()의 메서드 있음\n",
    "\n",
    "DataFrame.isna().sum() : 결측치에 대해 컬럼별 개수"
   ]
  },
  {
   "cell_type": "code",
   "execution_count": 14,
   "id": "196c215c-d9fa-4799-989f-3f11503d6575",
   "metadata": {},
   "outputs": [
    {
     "data": {
      "text/plain": [
       "인허가일자           0\n",
       "상세영업상태코드        0\n",
       "폐업일자        19011\n",
       "소재지전체주소       167\n",
       "사업장명            0\n",
       "업태구분명           6\n",
       "구명            167\n",
       "동명            167\n",
       "dtype: int64"
      ]
     },
     "execution_count": 14,
     "metadata": {},
     "output_type": "execute_result"
    }
   ],
   "source": [
    "# [4-12] bread의 각 컬럼별 결측치의 개수를 확인합니다.\n",
    "bread.isna().sum()"
   ]
  },
  {
   "cell_type": "code",
   "execution_count": 15,
   "id": "f649b338-9aa6-4b3d-b441-f40cca2a7108",
   "metadata": {},
   "outputs": [
    {
     "data": {
      "text/html": [
       "<div>\n",
       "<style scoped>\n",
       "    .dataframe tbody tr th:only-of-type {\n",
       "        vertical-align: middle;\n",
       "    }\n",
       "\n",
       "    .dataframe tbody tr th {\n",
       "        vertical-align: top;\n",
       "    }\n",
       "\n",
       "    .dataframe thead th {\n",
       "        text-align: right;\n",
       "    }\n",
       "</style>\n",
       "<table border=\"1\" class=\"dataframe\">\n",
       "  <thead>\n",
       "    <tr style=\"text-align: right;\">\n",
       "      <th></th>\n",
       "      <th>인허가일자</th>\n",
       "      <th>상세영업상태코드</th>\n",
       "      <th>폐업일자</th>\n",
       "      <th>소재지전체주소</th>\n",
       "      <th>사업장명</th>\n",
       "      <th>업태구분명</th>\n",
       "      <th>구명</th>\n",
       "      <th>동명</th>\n",
       "    </tr>\n",
       "  </thead>\n",
       "  <tbody>\n",
       "    <tr>\n",
       "      <th>0</th>\n",
       "      <td>20130201</td>\n",
       "      <td>1</td>\n",
       "      <td>NaN</td>\n",
       "      <td>광주광역시 서구 치평동 1177-2번지 (106,107호)</td>\n",
       "      <td>뚜레쥬르상무역점</td>\n",
       "      <td>제과점영업</td>\n",
       "      <td>서구</td>\n",
       "      <td>치평동</td>\n",
       "    </tr>\n",
       "    <tr>\n",
       "      <th>1</th>\n",
       "      <td>20130318</td>\n",
       "      <td>1</td>\n",
       "      <td>NaN</td>\n",
       "      <td>광주광역시 서구 유촌동 868-1번지 (102호)</td>\n",
       "      <td>뚜레쥬르광주버들마을점</td>\n",
       "      <td>제과점영업</td>\n",
       "      <td>서구</td>\n",
       "      <td>유촌동</td>\n",
       "    </tr>\n",
       "    <tr>\n",
       "      <th>2</th>\n",
       "      <td>20130417</td>\n",
       "      <td>1</td>\n",
       "      <td>NaN</td>\n",
       "      <td>광주광역시 서구 화정동 1611번지 101호102호103호 상가2동</td>\n",
       "      <td>파리바게뜨화정현대점</td>\n",
       "      <td>제과점영업</td>\n",
       "      <td>서구</td>\n",
       "      <td>화정동</td>\n",
       "    </tr>\n",
       "    <tr>\n",
       "      <th>3</th>\n",
       "      <td>19980327</td>\n",
       "      <td>1</td>\n",
       "      <td>NaN</td>\n",
       "      <td>광주광역시 북구 운암동 110-5번지</td>\n",
       "      <td>파리바게트광주동운점</td>\n",
       "      <td>제과점영업</td>\n",
       "      <td>북구</td>\n",
       "      <td>운암동</td>\n",
       "    </tr>\n",
       "    <tr>\n",
       "      <th>4</th>\n",
       "      <td>19980515</td>\n",
       "      <td>1</td>\n",
       "      <td>NaN</td>\n",
       "      <td>광주광역시 북구 오치동 578-4번지 1층</td>\n",
       "      <td>씨앤씨베이커리카페</td>\n",
       "      <td>제과점영업</td>\n",
       "      <td>북구</td>\n",
       "      <td>오치동</td>\n",
       "    </tr>\n",
       "    <tr>\n",
       "      <th>...</th>\n",
       "      <td>...</td>\n",
       "      <td>...</td>\n",
       "      <td>...</td>\n",
       "      <td>...</td>\n",
       "      <td>...</td>\n",
       "      <td>...</td>\n",
       "      <td>...</td>\n",
       "      <td>...</td>\n",
       "    </tr>\n",
       "    <tr>\n",
       "      <th>19006</th>\n",
       "      <td>20201209</td>\n",
       "      <td>1</td>\n",
       "      <td>NaN</td>\n",
       "      <td>인천광역시 중구 운서동 2850-8 그랜드하얏트인천 웨스트타워 1층</td>\n",
       "      <td>로비샵</td>\n",
       "      <td>제과점영업</td>\n",
       "      <td>중구</td>\n",
       "      <td>운서동</td>\n",
       "    </tr>\n",
       "    <tr>\n",
       "      <th>19007</th>\n",
       "      <td>20210126</td>\n",
       "      <td>1</td>\n",
       "      <td>NaN</td>\n",
       "      <td>경기도 남양주시 와부읍 도곡리 985 덕소두산위브아파트 상가동 2층 220호</td>\n",
       "      <td>크로플아셀라스토리(덕소점)</td>\n",
       "      <td>제과점영업</td>\n",
       "      <td>남양주시</td>\n",
       "      <td>와부읍</td>\n",
       "    </tr>\n",
       "    <tr>\n",
       "      <th>19008</th>\n",
       "      <td>20210126</td>\n",
       "      <td>1</td>\n",
       "      <td>NaN</td>\n",
       "      <td>경기도 남양주시 다산동 6205-3 강산타워 주건축물제1동 105,106호</td>\n",
       "      <td>파리바게뜨 강산타워점</td>\n",
       "      <td>제과점영업</td>\n",
       "      <td>남양주시</td>\n",
       "      <td>다산동</td>\n",
       "    </tr>\n",
       "    <tr>\n",
       "      <th>19009</th>\n",
       "      <td>20201208</td>\n",
       "      <td>1</td>\n",
       "      <td>NaN</td>\n",
       "      <td>부산광역시 해운대구 반송동 872 삼한그린타운2차</td>\n",
       "      <td>라두스 쌀빵</td>\n",
       "      <td>제과점영업</td>\n",
       "      <td>해운대구</td>\n",
       "      <td>반송동</td>\n",
       "    </tr>\n",
       "    <tr>\n",
       "      <th>19010</th>\n",
       "      <td>20201208</td>\n",
       "      <td>1</td>\n",
       "      <td>NaN</td>\n",
       "      <td>부산광역시 해운대구 반송동 888 삼한그린타운</td>\n",
       "      <td>라두스 쌀빵</td>\n",
       "      <td>제과점영업</td>\n",
       "      <td>해운대구</td>\n",
       "      <td>반송동</td>\n",
       "    </tr>\n",
       "  </tbody>\n",
       "</table>\n",
       "<p>19011 rows × 8 columns</p>\n",
       "</div>"
      ],
      "text/plain": [
       "          인허가일자  상세영업상태코드  폐업일자                                     소재지전체주소  \\\n",
       "0      20130201         1   NaN            광주광역시 서구 치평동 1177-2번지 (106,107호)   \n",
       "1      20130318         1   NaN                 광주광역시 서구 유촌동 868-1번지 (102호)   \n",
       "2      20130417         1   NaN       광주광역시 서구 화정동 1611번지 101호102호103호 상가2동   \n",
       "3      19980327         1   NaN                        광주광역시 북구 운암동 110-5번지   \n",
       "4      19980515         1   NaN                     광주광역시 북구 오치동 578-4번지 1층   \n",
       "...         ...       ...   ...                                         ...   \n",
       "19006  20201209         1   NaN       인천광역시 중구 운서동 2850-8 그랜드하얏트인천 웨스트타워 1층   \n",
       "19007  20210126         1   NaN  경기도 남양주시 와부읍 도곡리 985 덕소두산위브아파트 상가동 2층 220호   \n",
       "19008  20210126         1   NaN   경기도 남양주시 다산동 6205-3 강산타워 주건축물제1동 105,106호   \n",
       "19009  20201208         1   NaN                 부산광역시 해운대구 반송동 872 삼한그린타운2차   \n",
       "19010  20201208         1   NaN                   부산광역시 해운대구 반송동 888 삼한그린타운   \n",
       "\n",
       "                 사업장명  업태구분명    구명   동명  \n",
       "0            뚜레쥬르상무역점  제과점영업    서구  치평동  \n",
       "1         뚜레쥬르광주버들마을점  제과점영업    서구  유촌동  \n",
       "2          파리바게뜨화정현대점  제과점영업    서구  화정동  \n",
       "3          파리바게트광주동운점  제과점영업    북구  운암동  \n",
       "4           씨앤씨베이커리카페  제과점영업    북구  오치동  \n",
       "...               ...    ...   ...  ...  \n",
       "19006             로비샵  제과점영업    중구  운서동  \n",
       "19007  크로플아셀라스토리(덕소점)  제과점영업  남양주시  와부읍  \n",
       "19008     파리바게뜨 강산타워점  제과점영업  남양주시  다산동  \n",
       "19009          라두스 쌀빵  제과점영업  해운대구  반송동  \n",
       "19010          라두스 쌀빵  제과점영업  해운대구  반송동  \n",
       "\n",
       "[19011 rows x 8 columns]"
      ]
     },
     "execution_count": 15,
     "metadata": {},
     "output_type": "execute_result"
    }
   ],
   "source": [
    "bread[bread['폐업일자'].isna()]"
   ]
  },
  {
   "cell_type": "markdown",
   "id": "8cad9e93-3a46-4562-9b31-d45f5dd85b86",
   "metadata": {},
   "source": [
    "결측치 채우기\n",
    "- DataFrame.fillna(값) : 결측치를 특정 값으로 채움\n",
    "\n",
    "데이터 타입 변경 방법\n",
    "- Series.astype(타입)\n",
    "- 타입 표시 방법 : 'int', 'int32', 'int64', 'float', 'str', 'category',  ... 등의 문자열로 지정 \n",
    "- np.int16, np.float32, np.datetime64, ... 등의 numpy 타입으로 지정\n",
    "- numpy 타입으로 지정하기 위해서는  ```import numpy as np```  를 먼저 실행하여야 함"
   ]
  },
  {
   "cell_type": "code",
   "execution_count": 16,
   "id": "4b84f62f-1136-4876-9abd-a33143af3ac7",
   "metadata": {},
   "outputs": [],
   "source": [
    "# [4-13] bread2의 '폐업일자'에 대해 결측치인 것을 0.0으로 채우기 한 뒤, \n",
    "# 데이터 타입을 'int64'로 수정합니다.\n",
    "bread['폐업일자'] = bread['폐업일자'].fillna(0.0).astype(np.int64)"
   ]
  },
  {
   "cell_type": "code",
   "execution_count": 17,
   "id": "6e51bf86-02dd-4970-aca1-d9a21a17d35c",
   "metadata": {},
   "outputs": [
    {
     "data": {
      "text/html": [
       "<div>\n",
       "<style scoped>\n",
       "    .dataframe tbody tr th:only-of-type {\n",
       "        vertical-align: middle;\n",
       "    }\n",
       "\n",
       "    .dataframe tbody tr th {\n",
       "        vertical-align: top;\n",
       "    }\n",
       "\n",
       "    .dataframe thead th {\n",
       "        text-align: right;\n",
       "    }\n",
       "</style>\n",
       "<table border=\"1\" class=\"dataframe\">\n",
       "  <thead>\n",
       "    <tr style=\"text-align: right;\">\n",
       "      <th></th>\n",
       "      <th>인허가일자</th>\n",
       "      <th>상세영업상태코드</th>\n",
       "      <th>폐업일자</th>\n",
       "      <th>소재지전체주소</th>\n",
       "      <th>사업장명</th>\n",
       "      <th>업태구분명</th>\n",
       "      <th>구명</th>\n",
       "      <th>동명</th>\n",
       "    </tr>\n",
       "  </thead>\n",
       "  <tbody>\n",
       "    <tr>\n",
       "      <th>0</th>\n",
       "      <td>20130201</td>\n",
       "      <td>1</td>\n",
       "      <td>0</td>\n",
       "      <td>광주광역시 서구 치평동 1177-2번지 (106,107호)</td>\n",
       "      <td>뚜레쥬르상무역점</td>\n",
       "      <td>제과점영업</td>\n",
       "      <td>서구</td>\n",
       "      <td>치평동</td>\n",
       "    </tr>\n",
       "    <tr>\n",
       "      <th>1</th>\n",
       "      <td>20130318</td>\n",
       "      <td>1</td>\n",
       "      <td>0</td>\n",
       "      <td>광주광역시 서구 유촌동 868-1번지 (102호)</td>\n",
       "      <td>뚜레쥬르광주버들마을점</td>\n",
       "      <td>제과점영업</td>\n",
       "      <td>서구</td>\n",
       "      <td>유촌동</td>\n",
       "    </tr>\n",
       "    <tr>\n",
       "      <th>2</th>\n",
       "      <td>20130417</td>\n",
       "      <td>1</td>\n",
       "      <td>0</td>\n",
       "      <td>광주광역시 서구 화정동 1611번지 101호102호103호 상가2동</td>\n",
       "      <td>파리바게뜨화정현대점</td>\n",
       "      <td>제과점영업</td>\n",
       "      <td>서구</td>\n",
       "      <td>화정동</td>\n",
       "    </tr>\n",
       "  </tbody>\n",
       "</table>\n",
       "</div>"
      ],
      "text/plain": [
       "      인허가일자  상세영업상태코드  폐업일자                                소재지전체주소  \\\n",
       "0  20130201         1     0       광주광역시 서구 치평동 1177-2번지 (106,107호)   \n",
       "1  20130318         1     0            광주광역시 서구 유촌동 868-1번지 (102호)   \n",
       "2  20130417         1     0  광주광역시 서구 화정동 1611번지 101호102호103호 상가2동   \n",
       "\n",
       "          사업장명  업태구분명  구명   동명  \n",
       "0     뚜레쥬르상무역점  제과점영업  서구  치평동  \n",
       "1  뚜레쥬르광주버들마을점  제과점영업  서구  유촌동  \n",
       "2   파리바게뜨화정현대점  제과점영업  서구  화정동  "
      ]
     },
     "execution_count": 17,
     "metadata": {},
     "output_type": "execute_result"
    }
   ],
   "source": [
    "bread.head(3)"
   ]
  },
  {
   "cell_type": "code",
   "execution_count": 18,
   "id": "33484cd2-6ae4-4e4e-8f92-65257cbcf5d5",
   "metadata": {},
   "outputs": [
    {
     "data": {
      "text/plain": [
       "507"
      ]
     },
     "execution_count": 18,
     "metadata": {},
     "output_type": "execute_result"
    }
   ],
   "source": [
    "# [4-14] bread의 전체 결측치의 개수를 하나의 정수로 확인합니다.\n",
    "bread.isna().sum().sum()"
   ]
  },
  {
   "cell_type": "markdown",
   "id": "541ae453-9e5a-4fc5-a677-c1d2ab0a58d0",
   "metadata": {},
   "source": [
    "DataFrame에서 컬럼을 제거 함\n",
    "- DataFrame.drop(columns=['컬럼명1', '컬럼명2', ...])\n",
    "- DataFrame.drop(['컬럼명1', '컬럼명2', ...], axis=1)"
   ]
  },
  {
   "cell_type": "code",
   "execution_count": 19,
   "id": "a48fa15c-920f-445b-ae57-b520591183f4",
   "metadata": {},
   "outputs": [
    {
     "data": {
      "text/plain": [
       "(52680, 8)"
      ]
     },
     "execution_count": 19,
     "metadata": {},
     "output_type": "execute_result"
    }
   ],
   "source": [
    "# [4-15] bread에서 '소재지전체주소' 및 '업태구분명' 컬럼을 제거한 뒤, shape을 확인합니다.\n",
    "bread.drop(columns=['소재지전체주소', '업태구분명'])\n",
    "bread.shape"
   ]
  },
  {
   "cell_type": "code",
   "execution_count": 20,
   "id": "44f7147c-7f33-4bfb-b46f-c6b7f6dd61ba",
   "metadata": {},
   "outputs": [
    {
     "data": {
      "text/html": [
       "<div>\n",
       "<style scoped>\n",
       "    .dataframe tbody tr th:only-of-type {\n",
       "        vertical-align: middle;\n",
       "    }\n",
       "\n",
       "    .dataframe tbody tr th {\n",
       "        vertical-align: top;\n",
       "    }\n",
       "\n",
       "    .dataframe thead th {\n",
       "        text-align: right;\n",
       "    }\n",
       "</style>\n",
       "<table border=\"1\" class=\"dataframe\">\n",
       "  <thead>\n",
       "    <tr style=\"text-align: right;\">\n",
       "      <th></th>\n",
       "      <th>인허가일자</th>\n",
       "      <th>상세영업상태코드</th>\n",
       "      <th>폐업일자</th>\n",
       "      <th>소재지전체주소</th>\n",
       "      <th>사업장명</th>\n",
       "      <th>업태구분명</th>\n",
       "      <th>구명</th>\n",
       "      <th>동명</th>\n",
       "    </tr>\n",
       "  </thead>\n",
       "  <tbody>\n",
       "    <tr>\n",
       "      <th>0</th>\n",
       "      <td>20130201</td>\n",
       "      <td>1</td>\n",
       "      <td>0</td>\n",
       "      <td>광주광역시 서구 치평동 1177-2번지 (106,107호)</td>\n",
       "      <td>뚜레쥬르상무역점</td>\n",
       "      <td>제과점영업</td>\n",
       "      <td>서구</td>\n",
       "      <td>치평동</td>\n",
       "    </tr>\n",
       "    <tr>\n",
       "      <th>1</th>\n",
       "      <td>20130318</td>\n",
       "      <td>1</td>\n",
       "      <td>0</td>\n",
       "      <td>광주광역시 서구 유촌동 868-1번지 (102호)</td>\n",
       "      <td>뚜레쥬르광주버들마을점</td>\n",
       "      <td>제과점영업</td>\n",
       "      <td>서구</td>\n",
       "      <td>유촌동</td>\n",
       "    </tr>\n",
       "    <tr>\n",
       "      <th>2</th>\n",
       "      <td>20130417</td>\n",
       "      <td>1</td>\n",
       "      <td>0</td>\n",
       "      <td>광주광역시 서구 화정동 1611번지 101호102호103호 상가2동</td>\n",
       "      <td>파리바게뜨화정현대점</td>\n",
       "      <td>제과점영업</td>\n",
       "      <td>서구</td>\n",
       "      <td>화정동</td>\n",
       "    </tr>\n",
       "  </tbody>\n",
       "</table>\n",
       "</div>"
      ],
      "text/plain": [
       "      인허가일자  상세영업상태코드  폐업일자                                소재지전체주소  \\\n",
       "0  20130201         1     0       광주광역시 서구 치평동 1177-2번지 (106,107호)   \n",
       "1  20130318         1     0            광주광역시 서구 유촌동 868-1번지 (102호)   \n",
       "2  20130417         1     0  광주광역시 서구 화정동 1611번지 101호102호103호 상가2동   \n",
       "\n",
       "          사업장명  업태구분명  구명   동명  \n",
       "0     뚜레쥬르상무역점  제과점영업  서구  치평동  \n",
       "1  뚜레쥬르광주버들마을점  제과점영업  서구  유촌동  \n",
       "2   파리바게뜨화정현대점  제과점영업  서구  화정동  "
      ]
     },
     "execution_count": 20,
     "metadata": {},
     "output_type": "execute_result"
    }
   ],
   "source": [
    "# [4-16] bread의 첫 3개 행을 확인합니다.\n",
    "bread.head(3)"
   ]
  },
  {
   "cell_type": "markdown",
   "id": "5040cb47-1b73-4fbb-b121-f48ccd8f667b",
   "metadata": {},
   "source": [
    "컬럼이름 변경하기\n",
    "- DataFrame.rename(columns={'변경전이름':'변경후이름', ...})\n",
    "- DataFrame.rename({'변경전이름':'변경후이름', ...}, axis=1)"
   ]
  },
  {
   "cell_type": "code",
   "execution_count": 21,
   "id": "db41a453-06c1-4574-9074-f69b00960574",
   "metadata": {},
   "outputs": [
    {
     "data": {
      "text/html": [
       "<div>\n",
       "<style scoped>\n",
       "    .dataframe tbody tr th:only-of-type {\n",
       "        vertical-align: middle;\n",
       "    }\n",
       "\n",
       "    .dataframe tbody tr th {\n",
       "        vertical-align: top;\n",
       "    }\n",
       "\n",
       "    .dataframe thead th {\n",
       "        text-align: right;\n",
       "    }\n",
       "</style>\n",
       "<table border=\"1\" class=\"dataframe\">\n",
       "  <thead>\n",
       "    <tr style=\"text-align: right;\">\n",
       "      <th></th>\n",
       "      <th>인허가일자</th>\n",
       "      <th>상태코드</th>\n",
       "      <th>폐업일자</th>\n",
       "      <th>소재지전체주소</th>\n",
       "      <th>사업장명</th>\n",
       "      <th>업태구분명</th>\n",
       "      <th>구명</th>\n",
       "      <th>동명</th>\n",
       "    </tr>\n",
       "  </thead>\n",
       "  <tbody>\n",
       "    <tr>\n",
       "      <th>0</th>\n",
       "      <td>20130201</td>\n",
       "      <td>1</td>\n",
       "      <td>0</td>\n",
       "      <td>광주광역시 서구 치평동 1177-2번지 (106,107호)</td>\n",
       "      <td>뚜레쥬르상무역점</td>\n",
       "      <td>제과점영업</td>\n",
       "      <td>서구</td>\n",
       "      <td>치평동</td>\n",
       "    </tr>\n",
       "    <tr>\n",
       "      <th>1</th>\n",
       "      <td>20130318</td>\n",
       "      <td>1</td>\n",
       "      <td>0</td>\n",
       "      <td>광주광역시 서구 유촌동 868-1번지 (102호)</td>\n",
       "      <td>뚜레쥬르광주버들마을점</td>\n",
       "      <td>제과점영업</td>\n",
       "      <td>서구</td>\n",
       "      <td>유촌동</td>\n",
       "    </tr>\n",
       "  </tbody>\n",
       "</table>\n",
       "</div>"
      ],
      "text/plain": [
       "      인허가일자  상태코드  폐업일자                           소재지전체주소         사업장명  업태구분명  \\\n",
       "0  20130201     1     0  광주광역시 서구 치평동 1177-2번지 (106,107호)     뚜레쥬르상무역점  제과점영업   \n",
       "1  20130318     1     0       광주광역시 서구 유촌동 868-1번지 (102호)  뚜레쥬르광주버들마을점  제과점영업   \n",
       "\n",
       "   구명   동명  \n",
       "0  서구  치평동  \n",
       "1  서구  유촌동  "
      ]
     },
     "execution_count": 21,
     "metadata": {},
     "output_type": "execute_result"
    }
   ],
   "source": [
    "# [4-17] bread의 '상세영업상태코드'라는 컬럼명을 '상태코드'로 변경한 뒤,\n",
    "# 첫 2개의 행을 확인합니다.\n",
    "bread.rename(columns={'상세영업상태코드':'상태코드'}, inplace=True)\n",
    "bread.head(2)"
   ]
  },
  {
   "cell_type": "markdown",
   "id": "fa07ddb1-280a-427a-b106-c3e8c2250995",
   "metadata": {},
   "source": [
    "CSV 파일로 저장하기\n",
    "- DataFrame.to_csv('파일이름', index=False) : index를 제외한 내용을 csv 파일로 저장함"
   ]
  },
  {
   "cell_type": "code",
   "execution_count": 22,
   "id": "f588cbca-0576-4e68-9380-71763f0d0b7e",
   "metadata": {},
   "outputs": [],
   "source": [
    "# [4-18] bread를 'bread_after.csv' 파일로 index를 제외하고 저장합니다.\n",
    "bread.to_csv('./data_03/bread.csv', index=False)"
   ]
  },
  {
   "cell_type": "code",
   "execution_count": 23,
   "id": "93aea0a9-773b-4b18-a7eb-faaf5a264b77",
   "metadata": {},
   "outputs": [],
   "source": [
    "# [4-19] 'bread_after.csv' 파일을 읽어 bread라는 이름으로 저장합니다.\n",
    "bread = pd.read_csv('./data_03/bread.csv')"
   ]
  },
  {
   "cell_type": "code",
   "execution_count": 24,
   "id": "00725a3e-8adc-45e4-a506-49a8aea9828c",
   "metadata": {},
   "outputs": [
    {
     "data": {
      "text/html": [
       "<div>\n",
       "<style scoped>\n",
       "    .dataframe tbody tr th:only-of-type {\n",
       "        vertical-align: middle;\n",
       "    }\n",
       "\n",
       "    .dataframe tbody tr th {\n",
       "        vertical-align: top;\n",
       "    }\n",
       "\n",
       "    .dataframe thead th {\n",
       "        text-align: right;\n",
       "    }\n",
       "</style>\n",
       "<table border=\"1\" class=\"dataframe\">\n",
       "  <thead>\n",
       "    <tr style=\"text-align: right;\">\n",
       "      <th></th>\n",
       "      <th>인허가일자</th>\n",
       "      <th>상태코드</th>\n",
       "      <th>폐업일자</th>\n",
       "      <th>소재지전체주소</th>\n",
       "      <th>사업장명</th>\n",
       "      <th>업태구분명</th>\n",
       "      <th>구명</th>\n",
       "      <th>동명</th>\n",
       "    </tr>\n",
       "  </thead>\n",
       "  <tbody>\n",
       "    <tr>\n",
       "      <th>0</th>\n",
       "      <td>20130201</td>\n",
       "      <td>1</td>\n",
       "      <td>0</td>\n",
       "      <td>광주광역시 서구 치평동 1177-2번지 (106,107호)</td>\n",
       "      <td>뚜레쥬르상무역점</td>\n",
       "      <td>제과점영업</td>\n",
       "      <td>서구</td>\n",
       "      <td>치평동</td>\n",
       "    </tr>\n",
       "    <tr>\n",
       "      <th>1</th>\n",
       "      <td>20130318</td>\n",
       "      <td>1</td>\n",
       "      <td>0</td>\n",
       "      <td>광주광역시 서구 유촌동 868-1번지 (102호)</td>\n",
       "      <td>뚜레쥬르광주버들마을점</td>\n",
       "      <td>제과점영업</td>\n",
       "      <td>서구</td>\n",
       "      <td>유촌동</td>\n",
       "    </tr>\n",
       "    <tr>\n",
       "      <th>2</th>\n",
       "      <td>20130417</td>\n",
       "      <td>1</td>\n",
       "      <td>0</td>\n",
       "      <td>광주광역시 서구 화정동 1611번지 101호102호103호 상가2동</td>\n",
       "      <td>파리바게뜨화정현대점</td>\n",
       "      <td>제과점영업</td>\n",
       "      <td>서구</td>\n",
       "      <td>화정동</td>\n",
       "    </tr>\n",
       "    <tr>\n",
       "      <th>3</th>\n",
       "      <td>19980327</td>\n",
       "      <td>1</td>\n",
       "      <td>0</td>\n",
       "      <td>광주광역시 북구 운암동 110-5번지</td>\n",
       "      <td>파리바게트광주동운점</td>\n",
       "      <td>제과점영업</td>\n",
       "      <td>북구</td>\n",
       "      <td>운암동</td>\n",
       "    </tr>\n",
       "    <tr>\n",
       "      <th>4</th>\n",
       "      <td>19980515</td>\n",
       "      <td>1</td>\n",
       "      <td>0</td>\n",
       "      <td>광주광역시 북구 오치동 578-4번지 1층</td>\n",
       "      <td>씨앤씨베이커리카페</td>\n",
       "      <td>제과점영업</td>\n",
       "      <td>북구</td>\n",
       "      <td>오치동</td>\n",
       "    </tr>\n",
       "  </tbody>\n",
       "</table>\n",
       "</div>"
      ],
      "text/plain": [
       "      인허가일자  상태코드  폐업일자                                소재지전체주소         사업장명  \\\n",
       "0  20130201     1     0       광주광역시 서구 치평동 1177-2번지 (106,107호)     뚜레쥬르상무역점   \n",
       "1  20130318     1     0            광주광역시 서구 유촌동 868-1번지 (102호)  뚜레쥬르광주버들마을점   \n",
       "2  20130417     1     0  광주광역시 서구 화정동 1611번지 101호102호103호 상가2동   파리바게뜨화정현대점   \n",
       "3  19980327     1     0                   광주광역시 북구 운암동 110-5번지   파리바게트광주동운점   \n",
       "4  19980515     1     0                광주광역시 북구 오치동 578-4번지 1층    씨앤씨베이커리카페   \n",
       "\n",
       "   업태구분명  구명   동명  \n",
       "0  제과점영업  서구  치평동  \n",
       "1  제과점영업  서구  유촌동  \n",
       "2  제과점영업  서구  화정동  \n",
       "3  제과점영업  북구  운암동  \n",
       "4  제과점영업  북구  오치동  "
      ]
     },
     "execution_count": 24,
     "metadata": {},
     "output_type": "execute_result"
    }
   ],
   "source": [
    "bread.head()"
   ]
  },
  {
   "cell_type": "markdown",
   "id": "5632188b-0f35-4d9e-a87f-423755149ed5",
   "metadata": {},
   "source": [
    "### 설립년도, 폐업년도 분석"
   ]
  },
  {
   "cell_type": "markdown",
   "id": "0f8823b0-b115-480f-8d33-b29166d94169",
   "metadata": {},
   "source": [
    "Series의 연산\n",
    "- Series는 스칼라값과 연산 시 각 값과 스칼라 값의 연산이 이루어짐\n",
    "- 결과는 Series가 됨"
   ]
  },
  {
   "cell_type": "code",
   "execution_count": 25,
   "id": "da199b3a-db86-44b5-ade8-3bc7dbab154d",
   "metadata": {},
   "outputs": [],
   "source": [
    "bread['인허가일자'].replace({199501:19950101,199608:19960801 }, inplace=True)"
   ]
  },
  {
   "cell_type": "code",
   "execution_count": 26,
   "id": "e7820dcf-dfb2-44cb-8279-4f8e42b8f4c4",
   "metadata": {},
   "outputs": [
    {
     "data": {
      "text/html": [
       "<div>\n",
       "<style scoped>\n",
       "    .dataframe tbody tr th:only-of-type {\n",
       "        vertical-align: middle;\n",
       "    }\n",
       "\n",
       "    .dataframe tbody tr th {\n",
       "        vertical-align: top;\n",
       "    }\n",
       "\n",
       "    .dataframe thead th {\n",
       "        text-align: right;\n",
       "    }\n",
       "</style>\n",
       "<table border=\"1\" class=\"dataframe\">\n",
       "  <thead>\n",
       "    <tr style=\"text-align: right;\">\n",
       "      <th></th>\n",
       "      <th>인허가일자</th>\n",
       "      <th>상태코드</th>\n",
       "      <th>폐업일자</th>\n",
       "      <th>소재지전체주소</th>\n",
       "      <th>사업장명</th>\n",
       "      <th>업태구분명</th>\n",
       "      <th>구명</th>\n",
       "      <th>동명</th>\n",
       "      <th>설립년도</th>\n",
       "      <th>폐업년도</th>\n",
       "    </tr>\n",
       "  </thead>\n",
       "  <tbody>\n",
       "    <tr>\n",
       "      <th>0</th>\n",
       "      <td>20130201</td>\n",
       "      <td>1</td>\n",
       "      <td>0</td>\n",
       "      <td>광주광역시 서구 치평동 1177-2번지 (106,107호)</td>\n",
       "      <td>뚜레쥬르상무역점</td>\n",
       "      <td>제과점영업</td>\n",
       "      <td>서구</td>\n",
       "      <td>치평동</td>\n",
       "      <td>2013</td>\n",
       "      <td>0</td>\n",
       "    </tr>\n",
       "    <tr>\n",
       "      <th>1</th>\n",
       "      <td>20130318</td>\n",
       "      <td>1</td>\n",
       "      <td>0</td>\n",
       "      <td>광주광역시 서구 유촌동 868-1번지 (102호)</td>\n",
       "      <td>뚜레쥬르광주버들마을점</td>\n",
       "      <td>제과점영업</td>\n",
       "      <td>서구</td>\n",
       "      <td>유촌동</td>\n",
       "      <td>2013</td>\n",
       "      <td>0</td>\n",
       "    </tr>\n",
       "  </tbody>\n",
       "</table>\n",
       "</div>"
      ],
      "text/plain": [
       "      인허가일자  상태코드  폐업일자                           소재지전체주소         사업장명  업태구분명  \\\n",
       "0  20130201     1     0  광주광역시 서구 치평동 1177-2번지 (106,107호)     뚜레쥬르상무역점  제과점영업   \n",
       "1  20130318     1     0       광주광역시 서구 유촌동 868-1번지 (102호)  뚜레쥬르광주버들마을점  제과점영업   \n",
       "\n",
       "   구명   동명  설립년도  폐업년도  \n",
       "0  서구  치평동  2013     0  \n",
       "1  서구  유촌동  2013     0  "
      ]
     },
     "execution_count": 26,
     "metadata": {},
     "output_type": "execute_result"
    }
   ],
   "source": [
    "# [4-20] bread에 '설립년도' 및 '폐업년도' 컬럼을 추가합니다.\n",
    "# '인허가일자'//10000, '폐업일자 // 10000 을 사용하여 구합니다.\n",
    "# 두 개의 컬럼이 추가된 bread의 첫 2개 행을 확인합니다.\n",
    "bread['설립년도'] = bread['인허가일자'] // 10000\n",
    "bread['폐업년도'] = bread['폐업일자'] // 10000\n",
    "bread.head(2)"
   ]
  },
  {
   "cell_type": "code",
   "execution_count": 27,
   "id": "9fee8d12-3bda-4683-8b47-aa7e5ec5dea4",
   "metadata": {},
   "outputs": [
    {
     "data": {
      "text/html": [
       "<div>\n",
       "<style scoped>\n",
       "    .dataframe tbody tr th:only-of-type {\n",
       "        vertical-align: middle;\n",
       "    }\n",
       "\n",
       "    .dataframe tbody tr th {\n",
       "        vertical-align: top;\n",
       "    }\n",
       "\n",
       "    .dataframe thead th {\n",
       "        text-align: right;\n",
       "    }\n",
       "</style>\n",
       "<table border=\"1\" class=\"dataframe\">\n",
       "  <thead>\n",
       "    <tr style=\"text-align: right;\">\n",
       "      <th></th>\n",
       "      <th>인허가일자</th>\n",
       "      <th>상태코드</th>\n",
       "      <th>폐업일자</th>\n",
       "      <th>소재지전체주소</th>\n",
       "      <th>사업장명</th>\n",
       "      <th>업태구분명</th>\n",
       "      <th>구명</th>\n",
       "      <th>동명</th>\n",
       "      <th>설립년도</th>\n",
       "      <th>폐업년도</th>\n",
       "      <th>영업기간</th>\n",
       "    </tr>\n",
       "  </thead>\n",
       "  <tbody>\n",
       "    <tr>\n",
       "      <th>0</th>\n",
       "      <td>20130201</td>\n",
       "      <td>1</td>\n",
       "      <td>0</td>\n",
       "      <td>광주광역시 서구 치평동 1177-2번지 (106,107호)</td>\n",
       "      <td>뚜레쥬르상무역점</td>\n",
       "      <td>제과점영업</td>\n",
       "      <td>서구</td>\n",
       "      <td>치평동</td>\n",
       "      <td>2013</td>\n",
       "      <td>0</td>\n",
       "      <td>11.0</td>\n",
       "    </tr>\n",
       "    <tr>\n",
       "      <th>1</th>\n",
       "      <td>20130318</td>\n",
       "      <td>1</td>\n",
       "      <td>0</td>\n",
       "      <td>광주광역시 서구 유촌동 868-1번지 (102호)</td>\n",
       "      <td>뚜레쥬르광주버들마을점</td>\n",
       "      <td>제과점영업</td>\n",
       "      <td>서구</td>\n",
       "      <td>유촌동</td>\n",
       "      <td>2013</td>\n",
       "      <td>0</td>\n",
       "      <td>11.0</td>\n",
       "    </tr>\n",
       "  </tbody>\n",
       "</table>\n",
       "</div>"
      ],
      "text/plain": [
       "      인허가일자  상태코드  폐업일자                           소재지전체주소         사업장명  업태구분명  \\\n",
       "0  20130201     1     0  광주광역시 서구 치평동 1177-2번지 (106,107호)     뚜레쥬르상무역점  제과점영업   \n",
       "1  20130318     1     0       광주광역시 서구 유촌동 868-1번지 (102호)  뚜레쥬르광주버들마을점  제과점영업   \n",
       "\n",
       "   구명   동명  설립년도  폐업년도  영업기간  \n",
       "0  서구  치평동  2013     0  11.0  \n",
       "1  서구  유촌동  2013     0  11.0  "
      ]
     },
     "execution_count": 27,
     "metadata": {},
     "output_type": "execute_result"
    }
   ],
   "source": [
    "# [4-21] bread에 '영업기간' 컬럼을 추가합니다\n",
    "# '영업기간'은 '상태코드'가 1(=영업)인 경우 2021 - 설립년도 -1\n",
    "# '상태코드'가 2(=폐업)인 경우 폐업년도 - 설립년도 + 1로 계산합니다.\n",
    "base_year = 2023\n",
    "bread.loc[bread['상태코드'] == 1, '영업기간'] = base_year - bread['설립년도'] + 1\n",
    "bread.loc[bread['상태코드'] == 2, '영업기간'] = bread['폐업년도'] - bread['설립년도'] + 1\n",
    "bread.head(2)"
   ]
  },
  {
   "cell_type": "markdown",
   "id": "b4621d0a-5ead-4e42-a557-f14fde4b8aea",
   "metadata": {},
   "source": [
    "Series를 DataFrame으로 만들기\n",
    "- pd.DataFrame(Series)\n",
    "- Series.to_frame()\n",
    "\n",
    "DataFrame의 index 정렬하기\n",
    "- DataFrame.sort_index() : 오름차순 정렬\n",
    "- DataFrame.sort_index(ascending=False) : 내림차순 정렬\n",
    "\n",
    "DataFrame의 전치행렬 구하기\n",
    "- DataFrame.T\n"
   ]
  },
  {
   "cell_type": "code",
   "execution_count": 28,
   "id": "3f1d17d4-493c-450a-8cd5-4a4cd4539458",
   "metadata": {},
   "outputs": [
    {
     "data": {
      "text/html": [
       "<div>\n",
       "<style scoped>\n",
       "    .dataframe tbody tr th:only-of-type {\n",
       "        vertical-align: middle;\n",
       "    }\n",
       "\n",
       "    .dataframe tbody tr th {\n",
       "        vertical-align: top;\n",
       "    }\n",
       "\n",
       "    .dataframe thead th {\n",
       "        text-align: right;\n",
       "    }\n",
       "</style>\n",
       "<table border=\"1\" class=\"dataframe\">\n",
       "  <thead>\n",
       "    <tr style=\"text-align: right;\">\n",
       "      <th></th>\n",
       "      <th>0</th>\n",
       "      <th>1883</th>\n",
       "      <th>1922</th>\n",
       "      <th>1931</th>\n",
       "      <th>1952</th>\n",
       "      <th>1959</th>\n",
       "      <th>1960</th>\n",
       "      <th>1961</th>\n",
       "      <th>1963</th>\n",
       "      <th>1964</th>\n",
       "      <th>...</th>\n",
       "      <th>2012</th>\n",
       "      <th>2013</th>\n",
       "      <th>2014</th>\n",
       "      <th>2015</th>\n",
       "      <th>2016</th>\n",
       "      <th>2017</th>\n",
       "      <th>2018</th>\n",
       "      <th>2019</th>\n",
       "      <th>2020</th>\n",
       "      <th>2021</th>\n",
       "    </tr>\n",
       "  </thead>\n",
       "  <tbody>\n",
       "    <tr>\n",
       "      <th>설립년도</th>\n",
       "      <td>2</td>\n",
       "      <td>1</td>\n",
       "      <td>1</td>\n",
       "      <td>1</td>\n",
       "      <td>1</td>\n",
       "      <td>1</td>\n",
       "      <td>1</td>\n",
       "      <td>2</td>\n",
       "      <td>3</td>\n",
       "      <td>1</td>\n",
       "      <td>...</td>\n",
       "      <td>1718</td>\n",
       "      <td>1596</td>\n",
       "      <td>1919</td>\n",
       "      <td>2430</td>\n",
       "      <td>2724</td>\n",
       "      <td>2598</td>\n",
       "      <td>2488</td>\n",
       "      <td>2448</td>\n",
       "      <td>2232</td>\n",
       "      <td>1811</td>\n",
       "    </tr>\n",
       "  </tbody>\n",
       "</table>\n",
       "<p>1 rows × 67 columns</p>\n",
       "</div>"
      ],
      "text/plain": [
       "      0     1883  1922  1931  1952  1959  1960  1961  1963  1964  ...  2012  \\\n",
       "설립년도     2     1     1     1     1     1     1     2     3     1  ...  1718   \n",
       "\n",
       "      2013  2014  2015  2016  2017  2018  2019  2020  2021  \n",
       "설립년도  1596  1919  2430  2724  2598  2488  2448  2232  1811  \n",
       "\n",
       "[1 rows x 67 columns]"
      ]
     },
     "execution_count": 28,
     "metadata": {},
     "output_type": "execute_result"
    }
   ],
   "source": [
    "# [4-22] bread의 '설립년도'별 데이터 수sort_index별로 정렬하고, \n",
    "# DataFrame으로 변경하여 전치행렬을 구해 temp1 이름을 부여해 출력합니다.\n",
    "temp1 = bread['설립년도'].value_counts().sort_index().to_frame().transpose()\n",
    "temp1"
   ]
  },
  {
   "cell_type": "code",
   "execution_count": 29,
   "id": "8cc80438-37ab-469b-ae51-32021fd4cb13",
   "metadata": {},
   "outputs": [
    {
     "data": {
      "text/html": [
       "<div>\n",
       "<style scoped>\n",
       "    .dataframe tbody tr th:only-of-type {\n",
       "        vertical-align: middle;\n",
       "    }\n",
       "\n",
       "    .dataframe tbody tr th {\n",
       "        vertical-align: top;\n",
       "    }\n",
       "\n",
       "    .dataframe thead th {\n",
       "        text-align: right;\n",
       "    }\n",
       "</style>\n",
       "<table border=\"1\" class=\"dataframe\">\n",
       "  <thead>\n",
       "    <tr style=\"text-align: right;\">\n",
       "      <th></th>\n",
       "      <th>0</th>\n",
       "      <th>1984</th>\n",
       "      <th>1988</th>\n",
       "      <th>1989</th>\n",
       "      <th>1990</th>\n",
       "      <th>1991</th>\n",
       "      <th>1992</th>\n",
       "      <th>1993</th>\n",
       "      <th>1994</th>\n",
       "      <th>1995</th>\n",
       "      <th>...</th>\n",
       "      <th>2012</th>\n",
       "      <th>2013</th>\n",
       "      <th>2014</th>\n",
       "      <th>2015</th>\n",
       "      <th>2016</th>\n",
       "      <th>2017</th>\n",
       "      <th>2018</th>\n",
       "      <th>2019</th>\n",
       "      <th>2020</th>\n",
       "      <th>2021</th>\n",
       "    </tr>\n",
       "  </thead>\n",
       "  <tbody>\n",
       "    <tr>\n",
       "      <th>폐업년도</th>\n",
       "      <td>19011</td>\n",
       "      <td>1</td>\n",
       "      <td>2</td>\n",
       "      <td>1</td>\n",
       "      <td>33</td>\n",
       "      <td>4</td>\n",
       "      <td>35</td>\n",
       "      <td>32</td>\n",
       "      <td>23</td>\n",
       "      <td>52</td>\n",
       "      <td>...</td>\n",
       "      <td>1939</td>\n",
       "      <td>1587</td>\n",
       "      <td>1530</td>\n",
       "      <td>1683</td>\n",
       "      <td>1905</td>\n",
       "      <td>2501</td>\n",
       "      <td>2190</td>\n",
       "      <td>2253</td>\n",
       "      <td>2100</td>\n",
       "      <td>1333</td>\n",
       "    </tr>\n",
       "  </tbody>\n",
       "</table>\n",
       "<p>1 rows × 36 columns</p>\n",
       "</div>"
      ],
      "text/plain": [
       "       0     1984  1988  1989  1990  1991  1992  1993  1994  1995  ...  2012  \\\n",
       "폐업년도  19011     1     2     1    33     4    35    32    23    52  ...  1939   \n",
       "\n",
       "      2013  2014  2015  2016  2017  2018  2019  2020  2021  \n",
       "폐업년도  1587  1530  1683  1905  2501  2190  2253  2100  1333  \n",
       "\n",
       "[1 rows x 36 columns]"
      ]
     },
     "execution_count": 29,
     "metadata": {},
     "output_type": "execute_result"
    }
   ],
   "source": [
    "# [4-23] bread의 '폐업년도'별 데이터 수를 구해 년도별로 정렬하고, \n",
    "# DataFrame으로 변경하여 전치행렬을 구해 temp2 이름을 부여해 출력합니다.\n",
    "temp2 = bread['폐업년도'].value_counts().sort_index().to_frame().T\n",
    "temp2"
   ]
  },
  {
   "cell_type": "markdown",
   "id": "498644a7-d7f6-4166-82eb-b5aa3880f224",
   "metadata": {},
   "source": [
    "여러 개의 데이터프레임 합치기\n",
    "- pd.concat([DataFrame1, DataFrame2, ...])\n",
    "- DataFrame의 목록에 있는 순서대로 위 -> 아래 방향으로 합쳐 한 개 DataFrame 반환"
   ]
  },
  {
   "cell_type": "code",
   "execution_count": 30,
   "id": "3b32f1a2-3478-4953-9fb1-9e1c254202e6",
   "metadata": {},
   "outputs": [
    {
     "data": {
      "text/html": [
       "<div>\n",
       "<style scoped>\n",
       "    .dataframe tbody tr th:only-of-type {\n",
       "        vertical-align: middle;\n",
       "    }\n",
       "\n",
       "    .dataframe tbody tr th {\n",
       "        vertical-align: top;\n",
       "    }\n",
       "\n",
       "    .dataframe thead th {\n",
       "        text-align: right;\n",
       "    }\n",
       "</style>\n",
       "<table border=\"1\" class=\"dataframe\">\n",
       "  <thead>\n",
       "    <tr style=\"text-align: right;\">\n",
       "      <th></th>\n",
       "      <th>0</th>\n",
       "      <th>1883</th>\n",
       "      <th>1922</th>\n",
       "      <th>1931</th>\n",
       "      <th>1952</th>\n",
       "      <th>1959</th>\n",
       "      <th>1960</th>\n",
       "      <th>1961</th>\n",
       "      <th>1963</th>\n",
       "      <th>1964</th>\n",
       "      <th>...</th>\n",
       "      <th>2012</th>\n",
       "      <th>2013</th>\n",
       "      <th>2014</th>\n",
       "      <th>2015</th>\n",
       "      <th>2016</th>\n",
       "      <th>2017</th>\n",
       "      <th>2018</th>\n",
       "      <th>2019</th>\n",
       "      <th>2020</th>\n",
       "      <th>2021</th>\n",
       "    </tr>\n",
       "  </thead>\n",
       "  <tbody>\n",
       "    <tr>\n",
       "      <th>설립년도</th>\n",
       "      <td>2</td>\n",
       "      <td>1.0</td>\n",
       "      <td>1.0</td>\n",
       "      <td>1.0</td>\n",
       "      <td>1.0</td>\n",
       "      <td>1.0</td>\n",
       "      <td>1.0</td>\n",
       "      <td>2.0</td>\n",
       "      <td>3.0</td>\n",
       "      <td>1.0</td>\n",
       "      <td>...</td>\n",
       "      <td>1718</td>\n",
       "      <td>1596</td>\n",
       "      <td>1919</td>\n",
       "      <td>2430</td>\n",
       "      <td>2724</td>\n",
       "      <td>2598</td>\n",
       "      <td>2488</td>\n",
       "      <td>2448</td>\n",
       "      <td>2232</td>\n",
       "      <td>1811</td>\n",
       "    </tr>\n",
       "    <tr>\n",
       "      <th>폐업년도</th>\n",
       "      <td>19011</td>\n",
       "      <td>NaN</td>\n",
       "      <td>NaN</td>\n",
       "      <td>NaN</td>\n",
       "      <td>NaN</td>\n",
       "      <td>NaN</td>\n",
       "      <td>NaN</td>\n",
       "      <td>NaN</td>\n",
       "      <td>NaN</td>\n",
       "      <td>NaN</td>\n",
       "      <td>...</td>\n",
       "      <td>1939</td>\n",
       "      <td>1587</td>\n",
       "      <td>1530</td>\n",
       "      <td>1683</td>\n",
       "      <td>1905</td>\n",
       "      <td>2501</td>\n",
       "      <td>2190</td>\n",
       "      <td>2253</td>\n",
       "      <td>2100</td>\n",
       "      <td>1333</td>\n",
       "    </tr>\n",
       "  </tbody>\n",
       "</table>\n",
       "<p>2 rows × 67 columns</p>\n",
       "</div>"
      ],
      "text/plain": [
       "       0     1883  1922  1931  1952  1959  1960  1961  1963  1964  ...  2012  \\\n",
       "설립년도      2   1.0   1.0   1.0   1.0   1.0   1.0   2.0   3.0   1.0  ...  1718   \n",
       "폐업년도  19011   NaN   NaN   NaN   NaN   NaN   NaN   NaN   NaN   NaN  ...  1939   \n",
       "\n",
       "      2013  2014  2015  2016  2017  2018  2019  2020  2021  \n",
       "설립년도  1596  1919  2430  2724  2598  2488  2448  2232  1811  \n",
       "폐업년도  1587  1530  1683  1905  2501  2190  2253  2100  1333  \n",
       "\n",
       "[2 rows x 67 columns]"
      ]
     },
     "execution_count": 30,
     "metadata": {},
     "output_type": "execute_result"
    }
   ],
   "source": [
    "# [4-23] temp1, temp2를 합쳐서 temp라고 이름 붙입니다.\n",
    "temp = pd.concat([temp1, temp2])\n",
    "temp"
   ]
  },
  {
   "cell_type": "code",
   "execution_count": 31,
   "id": "a94bdc02-e673-4d91-a501-b46d5d6e9a46",
   "metadata": {},
   "outputs": [
    {
     "data": {
      "text/html": [
       "<div>\n",
       "<style scoped>\n",
       "    .dataframe tbody tr th:only-of-type {\n",
       "        vertical-align: middle;\n",
       "    }\n",
       "\n",
       "    .dataframe tbody tr th {\n",
       "        vertical-align: top;\n",
       "    }\n",
       "\n",
       "    .dataframe thead th {\n",
       "        text-align: right;\n",
       "    }\n",
       "</style>\n",
       "<table border=\"1\" class=\"dataframe\">\n",
       "  <thead>\n",
       "    <tr style=\"text-align: right;\">\n",
       "      <th></th>\n",
       "      <th>0</th>\n",
       "      <th>1883</th>\n",
       "      <th>1922</th>\n",
       "      <th>1931</th>\n",
       "      <th>1952</th>\n",
       "      <th>1959</th>\n",
       "      <th>1960</th>\n",
       "      <th>1961</th>\n",
       "      <th>1963</th>\n",
       "      <th>1964</th>\n",
       "      <th>...</th>\n",
       "      <th>2012</th>\n",
       "      <th>2013</th>\n",
       "      <th>2014</th>\n",
       "      <th>2015</th>\n",
       "      <th>2016</th>\n",
       "      <th>2017</th>\n",
       "      <th>2018</th>\n",
       "      <th>2019</th>\n",
       "      <th>2020</th>\n",
       "      <th>2021</th>\n",
       "    </tr>\n",
       "  </thead>\n",
       "  <tbody>\n",
       "    <tr>\n",
       "      <th>설립년도</th>\n",
       "      <td>2</td>\n",
       "      <td>1</td>\n",
       "      <td>1</td>\n",
       "      <td>1</td>\n",
       "      <td>1</td>\n",
       "      <td>1</td>\n",
       "      <td>1</td>\n",
       "      <td>2</td>\n",
       "      <td>3</td>\n",
       "      <td>1</td>\n",
       "      <td>...</td>\n",
       "      <td>1718</td>\n",
       "      <td>1596</td>\n",
       "      <td>1919</td>\n",
       "      <td>2430</td>\n",
       "      <td>2724</td>\n",
       "      <td>2598</td>\n",
       "      <td>2488</td>\n",
       "      <td>2448</td>\n",
       "      <td>2232</td>\n",
       "      <td>1811</td>\n",
       "    </tr>\n",
       "    <tr>\n",
       "      <th>폐업년도</th>\n",
       "      <td>19011</td>\n",
       "      <td>0</td>\n",
       "      <td>0</td>\n",
       "      <td>0</td>\n",
       "      <td>0</td>\n",
       "      <td>0</td>\n",
       "      <td>0</td>\n",
       "      <td>0</td>\n",
       "      <td>0</td>\n",
       "      <td>0</td>\n",
       "      <td>...</td>\n",
       "      <td>1939</td>\n",
       "      <td>1587</td>\n",
       "      <td>1530</td>\n",
       "      <td>1683</td>\n",
       "      <td>1905</td>\n",
       "      <td>2501</td>\n",
       "      <td>2190</td>\n",
       "      <td>2253</td>\n",
       "      <td>2100</td>\n",
       "      <td>1333</td>\n",
       "    </tr>\n",
       "  </tbody>\n",
       "</table>\n",
       "<p>2 rows × 67 columns</p>\n",
       "</div>"
      ],
      "text/plain": [
       "       0     1883  1922  1931  1952  1959  1960  1961  1963  1964  ...  2012  \\\n",
       "설립년도      2     1     1     1     1     1     1     2     3     1  ...  1718   \n",
       "폐업년도  19011     0     0     0     0     0     0     0     0     0  ...  1939   \n",
       "\n",
       "      2013  2014  2015  2016  2017  2018  2019  2020  2021  \n",
       "설립년도  1596  1919  2430  2724  2598  2488  2448  2232  1811  \n",
       "폐업년도  1587  1530  1683  1905  2501  2190  2253  2100  1333  \n",
       "\n",
       "[2 rows x 67 columns]"
      ]
     },
     "execution_count": 31,
     "metadata": {},
     "output_type": "execute_result"
    }
   ],
   "source": [
    "# [4-24] temp의 결측치를 0으로 채우기 한 뒤, 'int64'로 변경합니다.\n",
    "temp = temp.fillna(0).astype(np.int64)\n",
    "temp"
   ]
  },
  {
   "cell_type": "markdown",
   "id": "34572aaa-fa3c-4201-b1db-12f56c0a8365",
   "metadata": {},
   "source": [
    "### 그래프 그리기"
   ]
  },
  {
   "cell_type": "code",
   "execution_count": 32,
   "id": "f0e1a604-b369-4d26-a871-b7d1036af537",
   "metadata": {},
   "outputs": [
    {
     "data": {
      "text/plain": [
       "설립년도    2807\n",
       "폐업년도    2027\n",
       "Name: 2010, dtype: int64"
      ]
     },
     "execution_count": 32,
     "metadata": {},
     "output_type": "execute_result"
    }
   ],
   "source": [
    "data = temp.iloc[:,1:].T\n",
    "data.iloc[data['설립년도'].argmax(),:]"
   ]
  },
  {
   "cell_type": "code",
   "execution_count": 33,
   "id": "a340d781-baae-4a8c-9876-cb6fba32d97b",
   "metadata": {},
   "outputs": [
    {
     "data": {
      "image/png": "[encoded data removed]",
      "text/plain": [
       "<Figure size 720x360 with 1 Axes>"
      ]
     },
     "metadata": {},
     "output_type": "display_data"
    }
   ],
   "source": [
    "# [4-25] 년도별 argmax, 폐업에 대한 선 그래프 그리기\n",
    "data.plot.line(figsize=(10,5), marker='o', markersize=4)\n",
    "plt.xlim(1950, 2025)\n",
    "plt.xticks(range(1950, 2025, 10), fontsize=12)\n",
    "plt.title('년도별 제과점 개업/폐업 수', fontsize=16)\n",
    "plt.annotate('2010', (2010, 2810), (2000, 2800), fontsize=12, color='blue', arrowprops={'color':'green'})\n",
    "plt.grid(True)\n",
    "\n",
    "plt.show()"
   ]
  },
  {
   "cell_type": "markdown",
   "id": "ff29f081-5323-4b2f-ae73-f0fb35558cd5",
   "metadata": {},
   "source": [
    "### 평균 영업기간 분석"
   ]
  },
  {
   "cell_type": "markdown",
   "id": "a863bc70-37f4-42c9-b3ca-bd7ae7dba2ce",
   "metadata": {},
   "source": [
    "특정 문자열이 포함된 행 가져오기\n",
    "- Series.str.contains(문자열) : 문자열이 포함된 행은 True, 아니면 False인 Series 반환\n",
    "- DataFrame.loc[조건, :] : 조건이 True인 행만 가져오기"
   ]
  },
  {
   "cell_type": "code",
   "execution_count": 34,
   "id": "900b0227-9ec8-4968-9b94-07db1f234679",
   "metadata": {},
   "outputs": [],
   "source": [
    "# [4-27] bread에서 '사업장명' 컬럼을 사용하여 \n",
    "# '뚜레쥬르' 이름인 곳을 뽑아 tous로 이름 붙입니다.\n",
    "bread = bread.loc[bread['소재지전체주소'].str.split().str[0] == '서울특별시', :]\n",
    "tous = bread.loc[bread['사업장명'].str.contains('뚜레쥬르'),:]\n",
    "paris = bread.loc[bread['사업장명'].str.contains('파리'),:]"
   ]
  },
  {
   "cell_type": "markdown",
   "id": "ff8fbffc-4532-4eec-aba8-16aae7c673ff",
   "metadata": {},
   "source": [
    "통계값 알아보기\n",
    "- Series.count() : 개수\n",
    "- Series.sum() : 합계\n",
    "- Series.mean() : 평균\n",
    "- Series.std() : 표준편차\n",
    "- Series.var() : 분산\n",
    "- Series.median() : 중앙값\n",
    "- Series.mode() : 최빈값\n",
    "- Series.cumsum() : 누적합\n",
    "- Series.quantile([0.25, 05, 0.75]) : 분위수"
   ]
  },
  {
   "cell_type": "code",
   "execution_count": 35,
   "id": "0ac93d56-ab7f-4ecd-9698-4b74a12df6d2",
   "metadata": {},
   "outputs": [
    {
     "data": {
      "text/html": [
       "<div>\n",
       "<style scoped>\n",
       "    .dataframe tbody tr th:only-of-type {\n",
       "        vertical-align: middle;\n",
       "    }\n",
       "\n",
       "    .dataframe tbody tr th {\n",
       "        vertical-align: top;\n",
       "    }\n",
       "\n",
       "    .dataframe thead th {\n",
       "        text-align: right;\n",
       "    }\n",
       "</style>\n",
       "<table border=\"1\" class=\"dataframe\">\n",
       "  <thead>\n",
       "    <tr style=\"text-align: right;\">\n",
       "      <th></th>\n",
       "      <th>영업</th>\n",
       "    </tr>\n",
       "  </thead>\n",
       "  <tbody>\n",
       "    <tr>\n",
       "      <th>파리바게트</th>\n",
       "      <td>14.337662</td>\n",
       "    </tr>\n",
       "    <tr>\n",
       "      <th>뚜레쥬르</th>\n",
       "      <td>11.796296</td>\n",
       "    </tr>\n",
       "  </tbody>\n",
       "</table>\n",
       "</div>"
      ],
      "text/plain": [
       "              영업\n",
       "파리바게트  14.337662\n",
       "뚜레쥬르   11.796296"
      ]
     },
     "execution_count": 35,
     "metadata": {},
     "output_type": "execute_result"
    }
   ],
   "source": [
    "# [4-28] 설립년도가 2000년 이후이면서 영업 중인 곳의 영업기간 정보를 구합니다.\n",
    "# paris, tous에 대해 각각 구해서 temp1, temp2로 이름 붙입니다.\n",
    "temp1 = paris.loc[(paris['설립년도'] >= 2000) & (paris['상태코드'] == 1), '영업기간']\n",
    "temp2 = tous.loc[(tous['설립년도'] >= 2000) & (tous['상태코드'] == 1), '영업기간']\n",
    "# temp1, temp2의 평균을 구해 이름을 comp로 하는 DataFrame으로 만듭니다. \n",
    "# index => ['파리바게트', '뚜레쥬르'], columns => ['영업']\n",
    "comp = pd.DataFrame(data=(temp1.mean(), temp2.mean()), index=['파리바게트', '뚜레쥬르'], columns=['영업'])\n",
    "comp"
   ]
  },
  {
   "cell_type": "code",
   "execution_count": 36,
   "id": "0fa5c676-40b0-4f72-ac6c-a83994da7a27",
   "metadata": {},
   "outputs": [
    {
     "data": {
      "text/html": [
       "<div>\n",
       "<style scoped>\n",
       "    .dataframe tbody tr th:only-of-type {\n",
       "        vertical-align: middle;\n",
       "    }\n",
       "\n",
       "    .dataframe tbody tr th {\n",
       "        vertical-align: top;\n",
       "    }\n",
       "\n",
       "    .dataframe thead th {\n",
       "        text-align: right;\n",
       "    }\n",
       "</style>\n",
       "<table border=\"1\" class=\"dataframe\">\n",
       "  <thead>\n",
       "    <tr style=\"text-align: right;\">\n",
       "      <th></th>\n",
       "      <th>영업</th>\n",
       "      <th>폐업</th>\n",
       "    </tr>\n",
       "  </thead>\n",
       "  <tbody>\n",
       "    <tr>\n",
       "      <th>파리바게트</th>\n",
       "      <td>14.337662</td>\n",
       "      <td>7.686869</td>\n",
       "    </tr>\n",
       "    <tr>\n",
       "      <th>뚜레쥬르</th>\n",
       "      <td>11.796296</td>\n",
       "      <td>7.309028</td>\n",
       "    </tr>\n",
       "  </tbody>\n",
       "</table>\n",
       "</div>"
      ],
      "text/plain": [
       "              영업        폐업\n",
       "파리바게트  14.337662  7.686869\n",
       "뚜레쥬르   11.796296  7.309028"
      ]
     },
     "execution_count": 36,
     "metadata": {},
     "output_type": "execute_result"
    }
   ],
   "source": [
    "# [4-29] 설립년도 2000년 이후이면서 폐업한 곳의 영업기간 정보를 구합니다.\n",
    "# paris, tous에 대해 각각 구해서 temp1, temp2로 이름 붙입니다.\n",
    "temp1 = paris.loc[(paris['설립년도'] >= 2000) & (paris['상태코드'] == 2), '영업기간']\n",
    "temp2 = tous.loc[(tous['설립년도'] >= 2000) & (tous['상태코드'] == 2), '영업기간']\n",
    "# temp1, temp2의 평균을 구해 comp에 '폐업' 컬럼으로 추가합니다.\n",
    "comp['폐업'] = pd.DataFrame(data=(temp1.mean(), temp2.mean()), index=['파리바게트', '뚜레쥬르'])\n",
    "comp"
   ]
  },
  {
   "cell_type": "code",
   "execution_count": 37,
   "id": "4bae0267-bcb7-4185-9f32-3285152c4bf4",
   "metadata": {},
   "outputs": [
    {
     "name": "stdout",
     "output_type": "stream",
     "text": [
      "(11215, 11)\n",
      "Index(['인허가일자', '상태코드', '폐업일자', '소재지전체주소', '사업장명', '업태구분명', '구명', '동명', '설립년도',\n",
      "       '폐업년도', '영업기간'],\n",
      "      dtype='object')\n"
     ]
    }
   ],
   "source": [
    "# [4-30] 파리바게트, 뚜레쥬르가 아닌 다른 사업장에 대한 정보를 찾아 other로 이름 붙입니다.\n",
    "other = bread.loc[~bread['사업장명'].str.contains('뚜레쥬르|파리바게트', regex=True), :]\n",
    "# other의 행, 열 정보를 확인합니다.\n",
    "print(other.shape, other.columns, sep='\\n')"
   ]
  },
  {
   "cell_type": "code",
   "execution_count": 38,
   "id": "9f9c9130-7e62-463b-9461-00205ceeb966",
   "metadata": {},
   "outputs": [
    {
     "data": {
      "text/html": [
       "<div>\n",
       "<style scoped>\n",
       "    .dataframe tbody tr th:only-of-type {\n",
       "        vertical-align: middle;\n",
       "    }\n",
       "\n",
       "    .dataframe tbody tr th {\n",
       "        vertical-align: top;\n",
       "    }\n",
       "\n",
       "    .dataframe thead th {\n",
       "        text-align: right;\n",
       "    }\n",
       "</style>\n",
       "<table border=\"1\" class=\"dataframe\">\n",
       "  <thead>\n",
       "    <tr style=\"text-align: right;\">\n",
       "      <th></th>\n",
       "      <th>영업</th>\n",
       "      <th>폐업</th>\n",
       "    </tr>\n",
       "  </thead>\n",
       "  <tbody>\n",
       "    <tr>\n",
       "      <th>파리바게트</th>\n",
       "      <td>14.337662</td>\n",
       "      <td>7.686869</td>\n",
       "    </tr>\n",
       "    <tr>\n",
       "      <th>뚜레쥬르</th>\n",
       "      <td>11.796296</td>\n",
       "      <td>7.309028</td>\n",
       "    </tr>\n",
       "    <tr>\n",
       "      <th>나머지</th>\n",
       "      <td>9.194837</td>\n",
       "      <td>4.720285</td>\n",
       "    </tr>\n",
       "  </tbody>\n",
       "</table>\n",
       "</div>"
      ],
      "text/plain": [
       "              영업        폐업\n",
       "파리바게트  14.337662  7.686869\n",
       "뚜레쥬르   11.796296  7.309028\n",
       "나머지     9.194837  4.720285"
      ]
     },
     "execution_count": 38,
     "metadata": {},
     "output_type": "execute_result"
    }
   ],
   "source": [
    "# [4-31] other의 2000년 이후 설립된 곳의 영업, 폐업 사업장을 구한 뒤 \n",
    "# temp1, temp2 이름을 붙입니다.\n",
    "temp1 = other.loc[(other['설립년도'] >= 2000) & (other['상태코드'] == 1), '영업기간']\n",
    "temp2 = other.loc[(other['설립년도'] >= 2000) & (other['상태코드'] == 2), '영업기간']\n",
    "# temp1, temp2의 평균을 구해 comp 에 '나머지' 행으로 추가합니다.\n",
    "comp.loc['나머지'] = [temp1.mean(), temp2.mean()]\n",
    "comp"
   ]
  },
  {
   "cell_type": "markdown",
   "id": "7bcfc779-71d7-4cf6-9e6f-1d28e95a7560",
   "metadata": {},
   "source": [
    "### 폐업 비율 분석"
   ]
  },
  {
   "cell_type": "code",
   "execution_count": 39,
   "id": "b4860259-304d-4ad5-ab4c-85380c29903a",
   "metadata": {},
   "outputs": [
    {
     "data": {
      "text/html": [
       "<div>\n",
       "<style scoped>\n",
       "    .dataframe tbody tr th:only-of-type {\n",
       "        vertical-align: middle;\n",
       "    }\n",
       "\n",
       "    .dataframe tbody tr th {\n",
       "        vertical-align: top;\n",
       "    }\n",
       "\n",
       "    .dataframe thead th {\n",
       "        text-align: right;\n",
       "    }\n",
       "</style>\n",
       "<table border=\"1\" class=\"dataframe\">\n",
       "  <thead>\n",
       "    <tr style=\"text-align: right;\">\n",
       "      <th></th>\n",
       "      <th>구명</th>\n",
       "    </tr>\n",
       "  </thead>\n",
       "  <tbody>\n",
       "    <tr>\n",
       "      <th>강남구</th>\n",
       "      <td>62</td>\n",
       "    </tr>\n",
       "    <tr>\n",
       "      <th>송파구</th>\n",
       "      <td>49</td>\n",
       "    </tr>\n",
       "  </tbody>\n",
       "</table>\n",
       "</div>"
      ],
      "text/plain": [
       "     구명\n",
       "강남구  62\n",
       "송파구  49"
      ]
     },
     "execution_count": 39,
     "metadata": {},
     "output_type": "execute_result"
    }
   ],
   "source": [
    "# [4-32] paris에서 영업 중인 곳에 대해 '시군구명'별 개수를 구해 DataFrame으로 변환하고\n",
    "# temp로 이름 붙인 뒤, 첫 2개 행을 출력한다\n",
    "temp = paris.loc[paris['상태코드'] == 1, '구명'].value_counts().to_frame()\n",
    "temp.head(2)"
   ]
  },
  {
   "cell_type": "markdown",
   "id": "1c6f0f37-76e2-4858-9076-dce6db0c62a1",
   "metadata": {},
   "source": [
    " DataFrame.reset_index()\n",
    " - index의 내용을 columns로 이동함"
   ]
  },
  {
   "cell_type": "code",
   "execution_count": 40,
   "id": "3495ae1a-1c0d-449c-aca3-82e66cca159b",
   "metadata": {},
   "outputs": [
    {
     "data": {
      "text/html": [
       "<div>\n",
       "<style scoped>\n",
       "    .dataframe tbody tr th:only-of-type {\n",
       "        vertical-align: middle;\n",
       "    }\n",
       "\n",
       "    .dataframe tbody tr th {\n",
       "        vertical-align: top;\n",
       "    }\n",
       "\n",
       "    .dataframe thead th {\n",
       "        text-align: right;\n",
       "    }\n",
       "</style>\n",
       "<table border=\"1\" class=\"dataframe\">\n",
       "  <thead>\n",
       "    <tr style=\"text-align: right;\">\n",
       "      <th></th>\n",
       "      <th>index</th>\n",
       "      <th>구명</th>\n",
       "      <th>폐업</th>\n",
       "    </tr>\n",
       "  </thead>\n",
       "  <tbody>\n",
       "    <tr>\n",
       "      <th>0</th>\n",
       "      <td>강남구</td>\n",
       "      <td>62</td>\n",
       "      <td>35</td>\n",
       "    </tr>\n",
       "    <tr>\n",
       "      <th>1</th>\n",
       "      <td>송파구</td>\n",
       "      <td>49</td>\n",
       "      <td>25</td>\n",
       "    </tr>\n",
       "    <tr>\n",
       "      <th>2</th>\n",
       "      <td>서초구</td>\n",
       "      <td>43</td>\n",
       "      <td>31</td>\n",
       "    </tr>\n",
       "    <tr>\n",
       "      <th>3</th>\n",
       "      <td>영등포구</td>\n",
       "      <td>41</td>\n",
       "      <td>25</td>\n",
       "    </tr>\n",
       "    <tr>\n",
       "      <th>4</th>\n",
       "      <td>강서구</td>\n",
       "      <td>35</td>\n",
       "      <td>14</td>\n",
       "    </tr>\n",
       "  </tbody>\n",
       "</table>\n",
       "</div>"
      ],
      "text/plain": [
       "  index  구명  폐업\n",
       "0   강남구  62  35\n",
       "1   송파구  49  25\n",
       "2   서초구  43  31\n",
       "3  영등포구  41  25\n",
       "4   강서구  35  14"
      ]
     },
     "execution_count": 40,
     "metadata": {},
     "output_type": "execute_result"
    }
   ],
   "source": [
    "# [4-33] paris에서 폐업한 곳에 대해 '구명'별 개수를 구해 \n",
    "# temp에 '폐업'이라는 컬럼으로 추가하고,\n",
    "# reset_index()를 사용하여 index를 columns로 사용되도록 한다. (temp2로 다시 저장)\n",
    "temp['폐업'] = paris.loc[paris['상태코드'] == 2, '구명'].value_counts()\n",
    "temp2 = temp.reset_index()\n",
    "temp2.head()"
   ]
  },
  {
   "cell_type": "markdown",
   "id": "abd11add-e278-4bc3-8333-9e0693347b9a",
   "metadata": {},
   "source": [
    "DataFrame의 모든 컬럼이름 변경\n",
    "- DataFrame.columns = [컬럼이름1, 컬럼이름2, ...]\n",
    "- 기존 컬럼의 개수와 같아야 함"
   ]
  },
  {
   "cell_type": "code",
   "execution_count": 41,
   "id": "562d05c0-85a4-410e-a3f3-2c04f8a09534",
   "metadata": {},
   "outputs": [
    {
     "data": {
      "text/html": [
       "<div>\n",
       "<style scoped>\n",
       "    .dataframe tbody tr th:only-of-type {\n",
       "        vertical-align: middle;\n",
       "    }\n",
       "\n",
       "    .dataframe tbody tr th {\n",
       "        vertical-align: top;\n",
       "    }\n",
       "\n",
       "    .dataframe thead th {\n",
       "        text-align: right;\n",
       "    }\n",
       "</style>\n",
       "<table border=\"1\" class=\"dataframe\">\n",
       "  <thead>\n",
       "    <tr style=\"text-align: right;\">\n",
       "      <th></th>\n",
       "      <th>구</th>\n",
       "      <th>영업</th>\n",
       "      <th>폐업</th>\n",
       "    </tr>\n",
       "  </thead>\n",
       "  <tbody>\n",
       "    <tr>\n",
       "      <th>0</th>\n",
       "      <td>강남구</td>\n",
       "      <td>62</td>\n",
       "      <td>35</td>\n",
       "    </tr>\n",
       "    <tr>\n",
       "      <th>1</th>\n",
       "      <td>송파구</td>\n",
       "      <td>49</td>\n",
       "      <td>25</td>\n",
       "    </tr>\n",
       "  </tbody>\n",
       "</table>\n",
       "</div>"
      ],
      "text/plain": [
       "     구  영업  폐업\n",
       "0  강남구  62  35\n",
       "1  송파구  49  25"
      ]
     },
     "execution_count": 41,
     "metadata": {},
     "output_type": "execute_result"
    }
   ],
   "source": [
    "# [4-34] temp2의 컬럼명을 ['구', '영업', '폐업']으로 변경한다\n",
    "temp2.columns = ['구', '영업', '폐업']\n",
    "# temp2의 첫 2개 행을 출력한다\n",
    "temp2.head(2)"
   ]
  },
  {
   "cell_type": "code",
   "execution_count": 42,
   "id": "0634697e-0d76-4848-b8b8-c0e4910b9463",
   "metadata": {},
   "outputs": [
    {
     "data": {
      "text/html": [
       "<div>\n",
       "<style scoped>\n",
       "    .dataframe tbody tr th:only-of-type {\n",
       "        vertical-align: middle;\n",
       "    }\n",
       "\n",
       "    .dataframe tbody tr th {\n",
       "        vertical-align: top;\n",
       "    }\n",
       "\n",
       "    .dataframe thead th {\n",
       "        text-align: right;\n",
       "    }\n",
       "</style>\n",
       "<table border=\"1\" class=\"dataframe\">\n",
       "  <thead>\n",
       "    <tr style=\"text-align: right;\">\n",
       "      <th></th>\n",
       "      <th>구</th>\n",
       "      <th>영업</th>\n",
       "      <th>폐업</th>\n",
       "      <th>폐업비율</th>\n",
       "    </tr>\n",
       "  </thead>\n",
       "  <tbody>\n",
       "    <tr>\n",
       "      <th>0</th>\n",
       "      <td>강남구</td>\n",
       "      <td>62</td>\n",
       "      <td>35</td>\n",
       "      <td>36.082474</td>\n",
       "    </tr>\n",
       "    <tr>\n",
       "      <th>1</th>\n",
       "      <td>송파구</td>\n",
       "      <td>49</td>\n",
       "      <td>25</td>\n",
       "      <td>33.783784</td>\n",
       "    </tr>\n",
       "    <tr>\n",
       "      <th>2</th>\n",
       "      <td>서초구</td>\n",
       "      <td>43</td>\n",
       "      <td>31</td>\n",
       "      <td>41.891892</td>\n",
       "    </tr>\n",
       "  </tbody>\n",
       "</table>\n",
       "</div>"
      ],
      "text/plain": [
       "     구  영업  폐업       폐업비율\n",
       "0  강남구  62  35  36.082474\n",
       "1  송파구  49  25  33.783784\n",
       "2  서초구  43  31  41.891892"
      ]
     },
     "execution_count": 42,
     "metadata": {},
     "output_type": "execute_result"
    }
   ],
   "source": [
    "# [4-35] temp2에 '폐업비율' 컬럼을 추가한다\n",
    "# 폐업비율 = 폐업 / (폐업 + 영업) * 100\n",
    "temp2['폐업비율'] = temp2['폐업'] / (temp2['폐업'] + temp2['영업']) * 100\n",
    "# temp2의 첫 3개 행을 출력한다\n",
    "temp2.head(3)"
   ]
  },
  {
   "cell_type": "markdown",
   "id": "7556f42a-d396-41fd-9b74-a8b920678267",
   "metadata": {},
   "source": [
    "데이터 정렬\n",
    "- DataFrame.sort_values('컬럼이름') : 주어진 컬럼을 기준으로 데이터를 오름차순 정렬\n",
    "- DataFrame.sort_values('컬럼이름', ascending=False) : 내림차순 정렬\n",
    "- DataFrame.sort_values(['컬럼이름1', '컬럼이름2'..]) : 다차 정렬"
   ]
  },
  {
   "cell_type": "code",
   "execution_count": 43,
   "id": "f56edc5d-0792-4913-8f40-0639366e9dcc",
   "metadata": {},
   "outputs": [],
   "source": [
    "temp2 = temp2.fillna(0)\n",
    "# temp2 = temp2.drop(temp2.loc[temp2['폐업'] == 0,:].index)"
   ]
  },
  {
   "cell_type": "code",
   "execution_count": 44,
   "id": "6e8cc1b1-d10b-4ec0-a057-0500614c4ada",
   "metadata": {},
   "outputs": [
    {
     "data": {
      "text/html": [
       "<div>\n",
       "<style scoped>\n",
       "    .dataframe tbody tr th:only-of-type {\n",
       "        vertical-align: middle;\n",
       "    }\n",
       "\n",
       "    .dataframe tbody tr th {\n",
       "        vertical-align: top;\n",
       "    }\n",
       "\n",
       "    .dataframe thead th {\n",
       "        text-align: right;\n",
       "    }\n",
       "</style>\n",
       "<table border=\"1\" class=\"dataframe\">\n",
       "  <thead>\n",
       "    <tr style=\"text-align: right;\">\n",
       "      <th></th>\n",
       "      <th>구</th>\n",
       "      <th>영업</th>\n",
       "      <th>폐업</th>\n",
       "      <th>폐업비율</th>\n",
       "    </tr>\n",
       "  </thead>\n",
       "  <tbody>\n",
       "    <tr>\n",
       "      <th>19</th>\n",
       "      <td>도봉구</td>\n",
       "      <td>21</td>\n",
       "      <td>4</td>\n",
       "      <td>16.000000</td>\n",
       "    </tr>\n",
       "    <tr>\n",
       "      <th>5</th>\n",
       "      <td>은평구</td>\n",
       "      <td>33</td>\n",
       "      <td>7</td>\n",
       "      <td>17.500000</td>\n",
       "    </tr>\n",
       "    <tr>\n",
       "      <th>12</th>\n",
       "      <td>동대문구</td>\n",
       "      <td>27</td>\n",
       "      <td>6</td>\n",
       "      <td>18.181818</td>\n",
       "    </tr>\n",
       "    <tr>\n",
       "      <th>14</th>\n",
       "      <td>성동구</td>\n",
       "      <td>27</td>\n",
       "      <td>10</td>\n",
       "      <td>27.027027</td>\n",
       "    </tr>\n",
       "    <tr>\n",
       "      <th>4</th>\n",
       "      <td>강서구</td>\n",
       "      <td>35</td>\n",
       "      <td>14</td>\n",
       "      <td>28.571429</td>\n",
       "    </tr>\n",
       "  </tbody>\n",
       "</table>\n",
       "</div>"
      ],
      "text/plain": [
       "       구  영업  폐업       폐업비율\n",
       "19   도봉구  21   4  16.000000\n",
       "5    은평구  33   7  17.500000\n",
       "12  동대문구  27   6  18.181818\n",
       "14   성동구  27  10  27.027027\n",
       "4    강서구  35  14  28.571429"
      ]
     },
     "execution_count": 44,
     "metadata": {},
     "output_type": "execute_result"
    }
   ],
   "source": [
    "# [4-36] temp2를 폐업비율을 기준으로 오름차순 정렬하여 TOP5를 출력한다\n",
    "# 폐업비율이 가장 작은 곳은 은평구, 동대문구 ... 등으로 정보를 찾게 됨\n",
    "temp2.sort_values(by='폐업비율', ascending=True).head(5)"
   ]
  },
  {
   "cell_type": "markdown",
   "id": "4736432a-f763-4b3c-a525-3fdaaefe4193",
   "metadata": {},
   "source": [
    "Series.quantile([rate1, rate2, ...])\n",
    "- 데이터를 순서대로 나열했을 때, 특정 비율 위치의 값을 구함\n",
    "- 0 : 가장 작은 것의 값\n",
    "- 1 : 가장 큰 것의 값\n",
    "\n",
    "Series.quantile([0.3, 0.9])\n",
    "- 0.3 : 하위 30% 위치\n",
    "- 0.9 : 상위 10% 위치 "
   ]
  },
  {
   "cell_type": "code",
   "execution_count": 45,
   "id": "24a08854-5944-4e45-9e58-4726bd9e8f4f",
   "metadata": {},
   "outputs": [
    {
     "data": {
      "text/plain": [
       "0.0     1.0\n",
       "0.5     5.5\n",
       "1.0    10.0\n",
       "dtype: float64"
      ]
     },
     "execution_count": 45,
     "metadata": {},
     "output_type": "execute_result"
    }
   ],
   "source": [
    "s = pd.Series([1, 2, 3, 4, 5, 6, 7, 8, 9, 10])\n",
    "s.quantile([0, 0.5, 1])"
   ]
  },
  {
   "cell_type": "code",
   "execution_count": 46,
   "id": "9213da04-c248-478b-9d05-ded47245ffdc",
   "metadata": {},
   "outputs": [
    {
     "data": {
      "text/html": [
       "<div>\n",
       "<style scoped>\n",
       "    .dataframe tbody tr th:only-of-type {\n",
       "        vertical-align: middle;\n",
       "    }\n",
       "\n",
       "    .dataframe tbody tr th {\n",
       "        vertical-align: top;\n",
       "    }\n",
       "\n",
       "    .dataframe thead th {\n",
       "        text-align: right;\n",
       "    }\n",
       "</style>\n",
       "<table border=\"1\" class=\"dataframe\">\n",
       "  <thead>\n",
       "    <tr style=\"text-align: right;\">\n",
       "      <th></th>\n",
       "      <th>구</th>\n",
       "      <th>영업</th>\n",
       "      <th>폐업</th>\n",
       "      <th>폐업비율</th>\n",
       "    </tr>\n",
       "  </thead>\n",
       "  <tbody>\n",
       "    <tr>\n",
       "      <th>19</th>\n",
       "      <td>도봉구</td>\n",
       "      <td>21</td>\n",
       "      <td>4</td>\n",
       "      <td>16.000000</td>\n",
       "    </tr>\n",
       "    <tr>\n",
       "      <th>5</th>\n",
       "      <td>은평구</td>\n",
       "      <td>33</td>\n",
       "      <td>7</td>\n",
       "      <td>17.500000</td>\n",
       "    </tr>\n",
       "    <tr>\n",
       "      <th>12</th>\n",
       "      <td>동대문구</td>\n",
       "      <td>27</td>\n",
       "      <td>6</td>\n",
       "      <td>18.181818</td>\n",
       "    </tr>\n",
       "    <tr>\n",
       "      <th>14</th>\n",
       "      <td>성동구</td>\n",
       "      <td>27</td>\n",
       "      <td>10</td>\n",
       "      <td>27.027027</td>\n",
       "    </tr>\n",
       "    <tr>\n",
       "      <th>4</th>\n",
       "      <td>강서구</td>\n",
       "      <td>35</td>\n",
       "      <td>14</td>\n",
       "      <td>28.571429</td>\n",
       "    </tr>\n",
       "    <tr>\n",
       "      <th>23</th>\n",
       "      <td>강북구</td>\n",
       "      <td>17</td>\n",
       "      <td>7</td>\n",
       "      <td>29.166667</td>\n",
       "    </tr>\n",
       "    <tr>\n",
       "      <th>8</th>\n",
       "      <td>양천구</td>\n",
       "      <td>32</td>\n",
       "      <td>14</td>\n",
       "      <td>30.434783</td>\n",
       "    </tr>\n",
       "    <tr>\n",
       "      <th>9</th>\n",
       "      <td>구로구</td>\n",
       "      <td>31</td>\n",
       "      <td>14</td>\n",
       "      <td>31.111111</td>\n",
       "    </tr>\n",
       "  </tbody>\n",
       "</table>\n",
       "</div>"
      ],
      "text/plain": [
       "       구  영업  폐업       폐업비율\n",
       "19   도봉구  21   4  16.000000\n",
       "5    은평구  33   7  17.500000\n",
       "12  동대문구  27   6  18.181818\n",
       "14   성동구  27  10  27.027027\n",
       "4    강서구  35  14  28.571429\n",
       "23   강북구  17   7  29.166667\n",
       "8    양천구  32  14  30.434783\n",
       "9    구로구  31  14  31.111111"
      ]
     },
     "execution_count": 46,
     "metadata": {},
     "output_type": "execute_result"
    }
   ],
   "source": [
    "# [4-37] temp에서 폐업비율 하위 30%인 곳을 구하시오.\n",
    "temp2.loc[temp2['폐업비율'] <= temp2['폐업비율'].quantile(0.3), :].sort_values(by='폐업비율')"
   ]
  },
  {
   "cell_type": "code",
   "execution_count": 47,
   "id": "db3913c6-7908-40bb-9881-bc0177b0b774",
   "metadata": {},
   "outputs": [
    {
     "data": {
      "text/html": [
       "<div>\n",
       "<style scoped>\n",
       "    .dataframe tbody tr th:only-of-type {\n",
       "        vertical-align: middle;\n",
       "    }\n",
       "\n",
       "    .dataframe tbody tr th {\n",
       "        vertical-align: top;\n",
       "    }\n",
       "\n",
       "    .dataframe thead th {\n",
       "        text-align: right;\n",
       "    }\n",
       "</style>\n",
       "<table border=\"1\" class=\"dataframe\">\n",
       "  <thead>\n",
       "    <tr style=\"text-align: right;\">\n",
       "      <th></th>\n",
       "      <th>구</th>\n",
       "      <th>영업</th>\n",
       "      <th>폐업</th>\n",
       "      <th>폐업비율</th>\n",
       "    </tr>\n",
       "  </thead>\n",
       "  <tbody>\n",
       "    <tr>\n",
       "      <th>24</th>\n",
       "      <td>종로구</td>\n",
       "      <td>14</td>\n",
       "      <td>15</td>\n",
       "      <td>51.724138</td>\n",
       "    </tr>\n",
       "    <tr>\n",
       "      <th>11</th>\n",
       "      <td>강동구</td>\n",
       "      <td>29</td>\n",
       "      <td>30</td>\n",
       "      <td>50.847458</td>\n",
       "    </tr>\n",
       "    <tr>\n",
       "      <th>18</th>\n",
       "      <td>광진구</td>\n",
       "      <td>21</td>\n",
       "      <td>19</td>\n",
       "      <td>47.500000</td>\n",
       "    </tr>\n",
       "    <tr>\n",
       "      <th>21</th>\n",
       "      <td>금천구</td>\n",
       "      <td>18</td>\n",
       "      <td>14</td>\n",
       "      <td>43.750000</td>\n",
       "    </tr>\n",
       "    <tr>\n",
       "      <th>16</th>\n",
       "      <td>마포구</td>\n",
       "      <td>26</td>\n",
       "      <td>20</td>\n",
       "      <td>43.478261</td>\n",
       "    </tr>\n",
       "  </tbody>\n",
       "</table>\n",
       "</div>"
      ],
      "text/plain": [
       "      구  영업  폐업       폐업비율\n",
       "24  종로구  14  15  51.724138\n",
       "11  강동구  29  30  50.847458\n",
       "18  광진구  21  19  47.500000\n",
       "21  금천구  18  14  43.750000\n",
       "16  마포구  26  20  43.478261"
      ]
     },
     "execution_count": 47,
     "metadata": {},
     "output_type": "execute_result"
    }
   ],
   "source": [
    "# [4-38] temp에서 폐업비율 상위 20%인 곳을 구하시오.\n",
    "temp2.loc[temp2['폐업비율'] >= temp2['폐업비율'].quantile(0.8), :].sort_values(by='폐업비율', ascending=False)"
   ]
  },
  {
   "cell_type": "markdown",
   "id": "f2f5e86d-7867-48a9-8601-663ea3a39b75",
   "metadata": {},
   "source": [
    "### 시각화"
   ]
  },
  {
   "cell_type": "code",
   "execution_count": 48,
   "id": "7be5b292-cece-4051-bcd9-4055495ce08b",
   "metadata": {},
   "outputs": [],
   "source": [
    "## 그래프만 그리는 경우 목차에서 1, 2 번 + DataFrame 만들기 수행하신 뒤 다음을 수행하시면 됩니다."
   ]
  },
  {
   "cell_type": "code",
   "execution_count": 49,
   "id": "4b12fdbd-4fa0-46c4-8433-4423675f6a72",
   "metadata": {},
   "outputs": [
    {
     "data": {
      "text/html": [
       "<div>\n",
       "<style scoped>\n",
       "    .dataframe tbody tr th:only-of-type {\n",
       "        vertical-align: middle;\n",
       "    }\n",
       "\n",
       "    .dataframe tbody tr th {\n",
       "        vertical-align: top;\n",
       "    }\n",
       "\n",
       "    .dataframe thead th {\n",
       "        text-align: right;\n",
       "    }\n",
       "</style>\n",
       "<table border=\"1\" class=\"dataframe\">\n",
       "  <thead>\n",
       "    <tr style=\"text-align: right;\">\n",
       "      <th></th>\n",
       "      <th>영업</th>\n",
       "      <th>폐업</th>\n",
       "    </tr>\n",
       "  </thead>\n",
       "  <tbody>\n",
       "    <tr>\n",
       "      <th>강남구</th>\n",
       "      <td>59</td>\n",
       "      <td>28</td>\n",
       "    </tr>\n",
       "    <tr>\n",
       "      <th>송파구</th>\n",
       "      <td>49</td>\n",
       "      <td>20</td>\n",
       "    </tr>\n",
       "    <tr>\n",
       "      <th>서초구</th>\n",
       "      <td>38</td>\n",
       "      <td>24</td>\n",
       "    </tr>\n",
       "    <tr>\n",
       "      <th>영등포구</th>\n",
       "      <td>37</td>\n",
       "      <td>22</td>\n",
       "    </tr>\n",
       "    <tr>\n",
       "      <th>강서구</th>\n",
       "      <td>34</td>\n",
       "      <td>13</td>\n",
       "    </tr>\n",
       "  </tbody>\n",
       "</table>\n",
       "</div>"
      ],
      "text/plain": [
       "      영업  폐업\n",
       "강남구   59  28\n",
       "송파구   49  20\n",
       "서초구   38  24\n",
       "영등포구  37  22\n",
       "강서구   34  13"
      ]
     },
     "execution_count": 49,
     "metadata": {},
     "output_type": "execute_result"
    }
   ],
   "source": [
    "# [4-39] 파리바게트의 구별 영업, 폐점장 수 구하기\n",
    "paris = bread.loc[bread['사업장명'].str.contains('파리바게'), :]\n",
    "data = pd.DataFrame()\n",
    "data['영업'] = paris.loc[paris['상태코드']==1, '구명'].value_counts().to_frame()\n",
    "data['폐업'] = paris.loc[paris['상태코드']==2, '구명'].value_counts()\n",
    "data.head()"
   ]
  },
  {
   "cell_type": "code",
   "execution_count": 50,
   "id": "40f13152-e5bb-4e49-9a7d-1a02d120d8c1",
   "metadata": {},
   "outputs": [
    {
     "data": {
      "image/png": "[encoded data removed]",
      "text/plain": [
       "<Figure size 720x360 with 1 Axes>"
      ]
     },
     "metadata": {},
     "output_type": "display_data"
    }
   ],
   "source": [
    "# [4-40] 누적 bar 그래프 그리기\n",
    "data.plot.bar(stacked=True, figsize=(10,5), grid=False)\n",
    "plt.ylim(0,100)\n",
    "plt.title('서울시 파리바게뜨 구별 영업, 폐업, 폐업비율', fontsize=15)\n",
    "\n",
    "y = round(data['폐업'] / (data['폐업'] + data['영업']) * 100, 1)\n",
    "pos = (data['폐업'] + data['영업']) + 1\n",
    "for i in range(len(data)):\n",
    "    plt.text(i, pos[i], y[i],\n",
    "             fontsize=10, color='black',\n",
    "             horizontalalignment='center', verticalalignment='bottom')\n",
    "plt.show()"
   ]
  },
  {
   "cell_type": "code",
   "execution_count": 51,
   "id": "6bf9fea5-67a5-4885-9080-947f87c9a68e",
   "metadata": {},
   "outputs": [
    {
     "data": {
      "text/plain": [
       "진관동    30\n",
       "응암동    24\n",
       "대조동    20\n",
       "불광동    17\n",
       "신사동    17\n",
       "역촌동    16\n",
       "갈현동    15\n",
       "녹번동    12\n",
       "구산동    11\n",
       "증산동     8\n",
       "수색동     3\n",
       "Name: 동명, dtype: int64"
      ]
     },
     "execution_count": 51,
     "metadata": {},
     "output_type": "execute_result"
    }
   ],
   "source": [
    "# [4-41] bread를 사용하여 은평구에서 영업 중인 동별 빵집 개수를 구해 봅니다\n",
    "s = bread.loc[(bread['구명'] == '은평구') & (bread['상태코드'] == 1), '동명'].value_counts()\n",
    "s"
   ]
  },
  {
   "cell_type": "code",
   "execution_count": 52,
   "id": "29c9f4fb-3f57-43f8-ad7a-d7a91d872c3c",
   "metadata": {},
   "outputs": [
    {
     "data": {
      "image/png": "[encoded data removed]",
      "text/plain": [
       "<Figure size 720x360 with 1 Axes>"
      ]
     },
     "metadata": {},
     "output_type": "display_data"
    }
   ],
   "source": [
    "# [4-42] 은평구의 동별 빵집 개수를 그래프로 표시해 봅니다.\n",
    "s.plot.bar(figsize=(10,5), color='green')\n",
    "plt.title('은평구 제과점 현황', fontsize=15)\n",
    "\n",
    "plt.grid(False)\n",
    "plt.ylim(0, 35)\n",
    "plt.show()"
   ]
  },
  {
   "cell_type": "code",
   "execution_count": 57,
   "id": "e94f5ac5-817d-42c9-852f-6ace36944151",
   "metadata": {},
   "outputs": [
    {
     "data": {
      "image/png": "[encoded data removed]",
      "text/plain": [
       "<Figure size 432x288 with 1 Axes>"
      ]
     },
     "metadata": {},
     "output_type": "display_data"
    }
   ],
   "source": [
    "# [4-43] 은평구의 동별 빵집 비율을 원행 그래프로 표시해 봅니다.\n",
    "s.plot.pie(autopct='%.1f%%', label='')\n",
    "plt.title('은평규 제과점 비율', fontsize=15)\n",
    "plt.show()"
   ]
  },
  {
   "cell_type": "raw",
   "id": "8d0348b7-d951-4ed3-a45f-c96d63e8ca23",
   "metadata": {},
   "source": [
    "\"파리바게뜨, 은평구 성공적!\""
   ]
  }
 ],
 "metadata": {
  "kernelspec": {
   "display_name": "Python 3 (ipykernel)",
   "language": "python",
   "name": "python3"
  },
  "language_info": {
   "codemirror_mode": {
    "name": "ipython",
    "version": 3
   },
   "file_extension": ".py",
   "mimetype": "text/x-python",
   "name": "python",
   "nbconvert_exporter": "python",
   "pygments_lexer": "ipython3",
   "version": "3.9.12"
  }
 },
 "nbformat": 4,
 "nbformat_minor": 5
}
