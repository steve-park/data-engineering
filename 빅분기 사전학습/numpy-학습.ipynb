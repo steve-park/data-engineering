{
 "cells": [
  {
   "cell_type": "markdown",
   "id": "5e2bf546-8fd5-4196-aba4-e01f0b6a1cba",
   "metadata": {
    "jp-MarkdownHeadingCollapsed": true,
    "tags": []
   },
   "source": [
    "# numpy 라이브러리 이해"
   ]
  },
  {
   "cell_type": "markdown",
   "id": "4be8253b-3aa9-4d97-a0dc-7bd85fd58a20",
   "metadata": {},
   "source": [
    "- 통계, 분석, AI 분야의 라이브러리 내부에 다양한 수치연산이 필요함\n",
    "  + 수치연산을 얼마나 효율적으로 처리하는가에 따라 성능에 많은 영향을 줌\n",
    "  + numpy 는 ndarray 라는 자료를 바탕으로 강력한 연산 기능을 제공함\n",
    "- numpy 와 다른 python 패키지와의 관계\n",
    "  ![nn](./images/numpy-01.png)"
   ]
  },
  {
   "cell_type": "markdown",
   "id": "b255e486-ab13-4040-98d6-52a9d7b7ddcc",
   "metadata": {
    "jp-MarkdownHeadingCollapsed": true,
    "tags": []
   },
   "source": [
    "# ndarray 성능 확인"
   ]
  },
  {
   "cell_type": "code",
   "execution_count": 1,
   "id": "ed6d9c87-df88-4357-b70a-aea5e8ba4906",
   "metadata": {},
   "outputs": [],
   "source": [
    "import numpy as np"
   ]
  },
  {
   "cell_type": "code",
   "execution_count": 2,
   "id": "0673cdf6-07e8-4571-b76f-160564bba9c9",
   "metadata": {},
   "outputs": [
    {
     "name": "stdout",
     "output_type": "stream",
     "text": [
      "[5, 7, 9]\n"
     ]
    }
   ],
   "source": [
    "a = [1, 2, 3]\n",
    "b = [4, 5, 6]\n",
    "c = []\n",
    "\n",
    "for a, b in zip(a, b):\n",
    "    c.append(a+b)\n",
    "    \n",
    "print(c)"
   ]
  },
  {
   "cell_type": "code",
   "execution_count": 3,
   "id": "3e9899ed-4a7c-4cdf-9f02-2409472ac4e0",
   "metadata": {},
   "outputs": [
    {
     "name": "stdout",
     "output_type": "stream",
     "text": [
      "[5 7 9]\n"
     ]
    }
   ],
   "source": [
    "a = np.array([1, 2, 3])\n",
    "b = np.array([4, 5, 6])\n",
    "c = a + b\n",
    "\n",
    "print(c)"
   ]
  },
  {
   "cell_type": "code",
   "execution_count": 4,
   "id": "ab3ea3d5-46b1-438f-a865-0dfefac27e5f",
   "metadata": {},
   "outputs": [],
   "source": [
    "a = [[1,2,3,4] for _ in range(1000000)]\n",
    "b = np.array(a)\n",
    "\n",
    "def exchange_list(a):\n",
    "    c = []\n",
    "    for x in a:\n",
    "        x[2], x[3], x[0], x[1] = x\n",
    "        c.append(x)\n",
    "    return c\n",
    "\n",
    "def exchange_ndarray(a):\n",
    "    return a[ : , [2, 3, 0, 1]]"
   ]
  },
  {
   "cell_type": "code",
   "execution_count": 5,
   "id": "fd866c92-c8d7-4522-8463-ed87aa942f9a",
   "metadata": {},
   "outputs": [
    {
     "name": "stdout",
     "output_type": "stream",
     "text": [
      "[[1, 2, 3, 4], [1, 2, 3, 4]]\n",
      "[[1 2 3 4]\n",
      " [1 2 3 4]]\n"
     ]
    }
   ],
   "source": [
    "print(a[:2], b[:2], sep='\\n')"
   ]
  },
  {
   "cell_type": "code",
   "execution_count": 6,
   "id": "9c6e011a-70a6-4ad1-ad1c-214db57ae602",
   "metadata": {},
   "outputs": [],
   "source": [
    "c = exchange_list(a)"
   ]
  },
  {
   "cell_type": "code",
   "execution_count": 7,
   "id": "7177eb29-0eb8-4509-adb3-aed5f5ca89be",
   "metadata": {},
   "outputs": [],
   "source": [
    "d = exchange_ndarray(b)"
   ]
  },
  {
   "cell_type": "code",
   "execution_count": 8,
   "id": "0058174b-0aa9-40a1-90a1-fcc708e16d8e",
   "metadata": {},
   "outputs": [
    {
     "name": "stdout",
     "output_type": "stream",
     "text": [
      "[[3, 4, 1, 2], [3, 4, 1, 2]]\n",
      "[[3 4 1 2]\n",
      " [3 4 1 2]]\n"
     ]
    }
   ],
   "source": [
    "print(c[:2], d[:2], sep='\\n')"
   ]
  },
  {
   "cell_type": "code",
   "execution_count": 9,
   "id": "cb6eaeef-f9da-423f-b829-d3d100b29a86",
   "metadata": {},
   "outputs": [
    {
     "name": "stdout",
     "output_type": "stream",
     "text": [
      "127 ms ± 722 µs per loop (mean ± std. dev. of 7 runs, 10 loops each)\n"
     ]
    }
   ],
   "source": [
    "%timeit exchange_list(a)"
   ]
  },
  {
   "cell_type": "code",
   "execution_count": 10,
   "id": "6bc2d87d-d296-4774-a072-2525ab29283f",
   "metadata": {},
   "outputs": [
    {
     "name": "stdout",
     "output_type": "stream",
     "text": [
      "3.39 ms ± 43.2 µs per loop (mean ± std. dev. of 7 runs, 100 loops each)\n"
     ]
    }
   ],
   "source": [
    "%timeit exchange_ndarray(b)"
   ]
  },
  {
   "cell_type": "markdown",
   "id": "61055e4f-1669-428f-b7d3-d2b60dbe2d0e",
   "metadata": {
    "jp-MarkdownHeadingCollapsed": true,
    "tags": []
   },
   "source": [
    "# ndarray 가 list 보다 빠른 이유"
   ]
  },
  {
   "cell_type": "markdown",
   "id": "24de3a87-aeb9-4f8d-8d29-bd0a774dc01f",
   "metadata": {},
   "source": [
    "- numpy 의 ndarray와 built-in list 의 데이터 접근 방법 차이\n",
    "\n",
    "![nn](./images/numpy-02.png)\n",
    "\n",
    "https://github.com/numpy/numpy/blob/maintenance/1.7.x/numpy/core/include/numpy/ndarraytypes.h#L646\n",
    "https://hg.python.org/cpython/file/3.6/Include/listobject.h#l23\n",
    "https://hg.python.org/cpython/file/3.6/Include/longintrepr.h/#l85"
   ]
  },
  {
   "cell_type": "markdown",
   "id": "074ac925-c0c9-4152-b285-e9b6ffea729d",
   "metadata": {
    "jp-MarkdownHeadingCollapsed": true,
    "tags": []
   },
   "source": [
    "# ndarray 의 속성"
   ]
  },
  {
   "cell_type": "code",
   "execution_count": 11,
   "id": "8dce1b25-f536-4674-883e-fa8e5151e768",
   "metadata": {},
   "outputs": [],
   "source": [
    "import numpy as np"
   ]
  },
  {
   "cell_type": "code",
   "execution_count": 12,
   "id": "e049ac35-005a-4a88-8db5-d7c9260f659d",
   "metadata": {},
   "outputs": [
    {
     "name": "stdout",
     "output_type": "stream",
     "text": [
      "a.ndim      2\n",
      "a.shape     (2, 3)\n",
      "a.size      6\n",
      "a.dtype     int32\n",
      "a.itemsize  4\n",
      "a.strides   (12, 4)\n",
      "a.nbytes    24\n"
     ]
    }
   ],
   "source": [
    "def printinfo(a):\n",
    "    data = ['a.ndim', 'a.shape', 'a.size', 'a.dtype', 'a.itemsize', 'a.strides', 'a.nbytes']\n",
    "    for x in data:\n",
    "        print('%-11s' % x, eval(x))\n",
    "\n",
    "a = np.array([[0,1,2], [3,4,5]], dtype=np.int32)\n",
    "printinfo(a)"
   ]
  },
  {
   "cell_type": "markdown",
   "id": "afae65ba-7a82-4ab3-91bc-11d5828cc46e",
   "metadata": {
    "jp-MarkdownHeadingCollapsed": true,
    "tags": []
   },
   "source": [
    "# ndarray 생성 - np.array()"
   ]
  },
  {
   "cell_type": "code",
   "execution_count": 13,
   "id": "2c20c4b8-85a3-4feb-bb28-957957da9295",
   "metadata": {},
   "outputs": [],
   "source": [
    "import numpy as np"
   ]
  },
  {
   "cell_type": "code",
   "execution_count": 14,
   "id": "e08fcad2-e9b6-4956-847d-25323ce15c6d",
   "metadata": {},
   "outputs": [],
   "source": [
    "def printary(*a):\n",
    "    for x in a:\n",
    "        print(f'{type(x)}\\n{x.dtype}\\n{x}', end='\\n\\n')\n",
    "    print(\"-\" * 30)"
   ]
  },
  {
   "cell_type": "code",
   "execution_count": 15,
   "id": "c550c352-9a88-48cc-b0c9-f7c07a72902a",
   "metadata": {},
   "outputs": [
    {
     "name": "stdout",
     "output_type": "stream",
     "text": [
      "<class 'numpy.ndarray'>\n",
      "int64\n",
      "[1 2 3]\n",
      "\n",
      "<class 'numpy.ndarray'>\n",
      "int64\n",
      "[[1 2 3]\n",
      " [4 5 6]]\n",
      "\n",
      "<class 'numpy.ndarray'>\n",
      "object\n",
      "[list([1, 2, 3]) list([4, 5])]\n",
      "\n",
      "------------------------------\n"
     ]
    },
    {
     "name": "stderr",
     "output_type": "stream",
     "text": [
      "/var/folders/3k/bgnrnfc15w792712mgb6g0_c0000gn/T/ipykernel_29323/3341886738.py:3: VisibleDeprecationWarning: Creating an ndarray from ragged nested sequences (which is a list-or-tuple of lists-or-tuples-or ndarrays with different lengths or shapes) is deprecated. If you meant to do this, you must specify 'dtype=object' when creating the ndarray.\n",
      "  c = np.array([[1,2,3], [4,5]])\n"
     ]
    }
   ],
   "source": [
    "a = np.array([1,2,3])\n",
    "b = np.array([[1,2,3], [4,5,6]])\n",
    "c = np.array([[1,2,3], [4,5]])\n",
    "printary(a, b, c)"
   ]
  },
  {
   "cell_type": "markdown",
   "id": "80c7ba0f-6b3a-4214-8125-33b274b131b2",
   "metadata": {
    "jp-MarkdownHeadingCollapsed": true,
    "tags": []
   },
   "source": [
    "# structured array - np.array()"
   ]
  },
  {
   "cell_type": "markdown",
   "id": "cb58bf50-6602-4dba-8553-667a6fd8f6bc",
   "metadata": {},
   "source": [
    "- ndarray 가 모든 element를 동일 type 으로 하지 않고, column 별로 다른 type 을 사용하는 구조\n",
    "- 하기 예시는 Big Endian, Little Endian 을 참조할 것\n",
    "- 권장하지 않음"
   ]
  },
  {
   "cell_type": "code",
   "execution_count": 16,
   "id": "a01f95f2-847e-4c54-a428-102f368b44db",
   "metadata": {},
   "outputs": [
    {
     "name": "stdout",
     "output_type": "stream",
     "text": [
      "<class 'numpy.ndarray'>\n",
      "[('name', '<U10'), ('height', '<i4'), ('weight', '<f4')]\n",
      "[('Tome', 178, 98.5) ('Jim', 183, 79.5) ('Adam', 175, 82.8)]\n",
      "\n",
      "------------------------------\n"
     ]
    }
   ],
   "source": [
    "sdtype = [('name', '<U10'), ('height', '<i4'), ('weight', np.float32)]\n",
    "value =  [('Tome', 178, 98.5), ('Jim', 183, 79.5), ('Adam', 175, 82.8)]\n",
    "\n",
    "a = np.array(value, dtype=sdtype)\n",
    "\n",
    "printary(a)"
   ]
  },
  {
   "cell_type": "code",
   "execution_count": 17,
   "id": "6bcbdc84-8c05-4f0c-a275-29493890d369",
   "metadata": {},
   "outputs": [
    {
     "name": "stdout",
     "output_type": "stream",
     "text": [
      "<class 'numpy.ndarray'>\n",
      "<U10\n",
      "['Tome' 'Jim' 'Adam']\n",
      "\n",
      "<class 'numpy.ndarray'>\n",
      "int32\n",
      "[178 183 175]\n",
      "\n",
      "<class 'numpy.ndarray'>\n",
      "float32\n",
      "[98.5 79.5 82.8]\n",
      "\n",
      "------------------------------\n",
      "<class 'numpy.void'>\n",
      "[('name', '<U10'), ('height', '<i4'), ('weight', '<f4')]\n",
      "('Tome', 178, 98.5)\n",
      "\n",
      "<class 'numpy.void'>\n",
      "[('name', '<U10'), ('height', '<i4'), ('weight', '<f4')]\n",
      "('Jim', 183, 79.5)\n",
      "\n",
      "<class 'numpy.void'>\n",
      "[('name', '<U10'), ('height', '<i4'), ('weight', '<f4')]\n",
      "('Adam', 175, 82.8)\n",
      "\n",
      "------------------------------\n",
      "(3,) (48,) ('Tome', 178, 98.5)\n"
     ]
    }
   ],
   "source": [
    "printary(a['name'], a['height'], a['weight'])\n",
    "printary(a[0], a[1], a[2])\n",
    "print(a.shape, a.strides, a[0])"
   ]
  },
  {
   "cell_type": "markdown",
   "id": "f1b8793b-8d64-4f1f-a635-d4e7e2977f9b",
   "metadata": {
    "jp-MarkdownHeadingCollapsed": true,
    "tags": []
   },
   "source": [
    "# ndarray 생성 - np.arange()"
   ]
  },
  {
   "cell_type": "code",
   "execution_count": 18,
   "id": "5cdd6a8e-76cc-42d7-a082-d70acbcdf8f4",
   "metadata": {},
   "outputs": [
    {
     "name": "stdout",
     "output_type": "stream",
     "text": [
      "<class 'numpy.ndarray'>\n",
      "int64\n",
      "[0 1 2 3 4]\n",
      "\n",
      "<class 'numpy.ndarray'>\n",
      "int64\n",
      "[1 3 5 7 9]\n",
      "\n",
      "<class 'numpy.ndarray'>\n",
      "float64\n",
      "[1.  1.1 1.2 1.3 1.4 1.5 1.6 1.7 1.8 1.9]\n",
      "\n",
      "------------------------------\n"
     ]
    }
   ],
   "source": [
    "a = np.arange(5)\n",
    "b = np.arange(1, 10, 2)\n",
    "c = np.arange(1, 2, 0.1)\n",
    "\n",
    "printary(a, b, c)"
   ]
  },
  {
   "cell_type": "code",
   "execution_count": 19,
   "id": "d55b4e14-fb4b-433e-884e-98b9b3885907",
   "metadata": {},
   "outputs": [
    {
     "data": {
      "image/png": "[encoded data removed]",
      "text/plain": [
       "<Figure size 640x480 with 1 Axes>"
      ]
     },
     "metadata": {},
     "output_type": "display_data"
    }
   ],
   "source": [
    "# 그래프를 그릴 때 축설정으로 사용 예\n",
    "import matplotlib.pyplot as plt\n",
    "\n",
    "x = np.arange(0, 10, 0.1)\n",
    "y = np.sin(x)\n",
    "\n",
    "plt.plot(x, y)\n",
    "\n",
    "plt.show()"
   ]
  },
  {
   "cell_type": "markdown",
   "id": "f3e987d8-8657-4cb1-afa0-5ce5ea1f8dc3",
   "metadata": {
    "jp-MarkdownHeadingCollapsed": true,
    "tags": []
   },
   "source": [
    "# ndarray 생성 - np.linspace()"
   ]
  },
  {
   "cell_type": "markdown",
   "id": "1d8ce953-9d46-4521-a75d-d50f7c12ba93",
   "metadata": {},
   "source": [
    "- linear space 라고 읽는다!\n",
    "- np.linspace(start: array_like, stop, num=50, endpoint=True, retstep=False, dtype=None)"
   ]
  },
  {
   "cell_type": "code",
   "execution_count": 20,
   "id": "55fc49f8-35b2-466f-b29e-d8cb0472eb1e",
   "metadata": {},
   "outputs": [
    {
     "name": "stdout",
     "output_type": "stream",
     "text": [
      "1 <class 'numpy.ndarray'>\n"
     ]
    }
   ],
   "source": [
    "x = np.array(1) # 1개만 있는 값도 (scalar) array-like 임\n",
    "print(x, type(x))"
   ]
  },
  {
   "cell_type": "code",
   "execution_count": 21,
   "id": "cf9d6fb5-3766-49e4-bd7a-16102fe1e961",
   "metadata": {},
   "outputs": [
    {
     "name": "stdout",
     "output_type": "stream",
     "text": [
      "[1.  1.5 2.  2.5 3.  3.5 4.  4.5 5. ]\n",
      "[1.  1.4 1.8 2.2 2.6 3.  3.4 3.8 4.2 4.6]\n",
      "[1.  1.5 2.  2.5 3.  3.5 4.  4.5 5. ]\n",
      "0.5\n"
     ]
    }
   ],
   "source": [
    "a = np.linspace(1, 5, 9) # 1부터 5까지 9개의 원소를 가는 array, 간격은 알아서 결정\n",
    "b = np.linspace(1, 5, 10, endpoint=False)\n",
    "c, step = np.linspace(1, 5, 9, retstep=True)  # c가 array, d 가 step\n",
    "\n",
    "print(a, b, c, step, sep='\\n')"
   ]
  },
  {
   "cell_type": "code",
   "execution_count": 22,
   "id": "49c12157-7f7e-41a5-b094-6cafaafc7084",
   "metadata": {},
   "outputs": [
    {
     "name": "stdout",
     "output_type": "stream",
     "text": [
      "[[1.   2.   3.  ]\n",
      " [1.25 2.5  3.75]\n",
      " [1.5  3.   4.5 ]\n",
      " [1.75 3.5  5.25]\n",
      " [2.   4.   6.  ]]\n"
     ]
    }
   ],
   "source": [
    "x = np.linspace([1,2,3], [2,4,6], num=5)\n",
    "print(x)"
   ]
  },
  {
   "cell_type": "code",
   "execution_count": 23,
   "id": "a4b58e25-2896-4950-a194-eebde0eb4289",
   "metadata": {},
   "outputs": [
    {
     "data": {
      "image/png": "[encoded data removed]",
      "text/plain": [
       "<Figure size 640x480 with 1 Axes>"
      ]
     },
     "metadata": {},
     "output_type": "display_data"
    }
   ],
   "source": [
    "x = np.linspace(0, 10, 60)\n",
    "y = np.sin(x)\n",
    "\n",
    "plt.plot(x, y)\n",
    "plt.show()"
   ]
  },
  {
   "cell_type": "markdown",
   "id": "0c138ea6-6f61-446c-b05d-197a4d4fa5f9",
   "metadata": {
    "jp-MarkdownHeadingCollapsed": true,
    "tags": []
   },
   "source": [
    "# random 사용"
   ]
  },
  {
   "cell_type": "markdown",
   "id": "054cbac9-3f6d-45d8-97c6-035c1d1dea23",
   "metadata": {},
   "source": [
    "- `np.random.rand(d0, d1, ... dn)`\n",
    "    + 0 ~ 1 사이의 균등 분포로 실수 난수 배열 생성\n",
    "    + d0, d1, ... dn : 배열의 shape 의 의미하는 정수\n",
    "- `np.random.randint(e, size=n)`, `np.random.randint(s, e, size=n)`\n",
    "    + 0 ~ $e-1$, s ~ $e-1$ 범위의 값을 갖는 균등 분포의 정수 난수 생성\n",
    "    + size: 정수(1차원), tuple(1차원 이상)로 shape 을 지정\n",
    "- `np.random.randn(d0, d1, ... dn)`\n",
    "    + 평균 0, 표준편차 1을 갖는 가우시안 정규분포로 난수 배열 생성 (음수 포함)\n",
    "- `np.random.normal(평균, 표준편차, size)`\n",
    "    + 생략하면 평균 = 0, 표준편차 = 1, size = 1\n",
    "- `np.random.permutation(e)` : 0 ~ e-1 값을 갖는 정수의 무작위 순서 1차원 배열 생성\n",
    "- `np.random.permutation(c)` : c 요소들에 대해 무작위 순서로 변경된 1차원 배열 생성\n",
    "    + e: 정수, c : array_like 객체"
   ]
  },
  {
   "cell_type": "code",
   "execution_count": 24,
   "id": "447b84b5-8b20-4882-9d63-ebf0586809c3",
   "metadata": {},
   "outputs": [],
   "source": [
    "import numpy as np\n",
    "import matplotlib.pyplot as plt"
   ]
  },
  {
   "cell_type": "code",
   "execution_count": 25,
   "id": "e87925da-e9dc-4164-a28c-7908d4e6b2b3",
   "metadata": {},
   "outputs": [],
   "source": [
    "np.set_printoptions(threshold=999, \n",
    "                    suppress=True, \n",
    "                    precision=4, \n",
    "                    edgeitems=3)"
   ]
  },
  {
   "cell_type": "code",
   "execution_count": 26,
   "id": "e561fb9d-4165-46d5-8d0f-1628f27836e9",
   "metadata": {},
   "outputs": [],
   "source": [
    "def printary(*a):\n",
    "    for x in a:\n",
    "        print(f\"shape: {x.shape}\")\n",
    "        print(f\"array: %s{x}\" % ('' if x.ndim == 1 else '\\n'))\n",
    "        print(\"mean : %.3f, std: %.3f\" % (x.mean(), x.std()))\n",
    "        print(\"-\" * 30)"
   ]
  },
  {
   "cell_type": "code",
   "execution_count": 27,
   "id": "80336036-228c-4004-9669-44bf9441790c",
   "metadata": {},
   "outputs": [],
   "source": [
    "def showHist(x):\n",
    "    plt.hist(x)\n",
    "    plt.show()"
   ]
  },
  {
   "cell_type": "code",
   "execution_count": 28,
   "id": "bf38b7eb-08e8-4f78-833f-3f1e73637cc7",
   "metadata": {},
   "outputs": [
    {
     "name": "stdout",
     "output_type": "stream",
     "text": [
      "shape: (5,)\n",
      "array: [0.3124 0.2888 0.963  0.9328 0.9574]\n",
      "mean : 0.691, std: 0.319\n",
      "------------------------------\n",
      "shape: (2, 2, 3)\n",
      "array: \n",
      "[[[0.9428 0.3065 0.1289]\n",
      "  [0.1299 0.7584 0.7808]]\n",
      "\n",
      " [[0.1233 0.5198 0.9601]\n",
      "  [0.2874 0.329  0.1764]]]\n",
      "mean : 0.454, std: 0.311\n",
      "------------------------------\n"
     ]
    }
   ],
   "source": [
    "a = np.random.rand(5)\n",
    "b = np.random.rand(2, 2, 3)\n",
    "\n",
    "printary(a, b)"
   ]
  },
  {
   "cell_type": "code",
   "execution_count": 29,
   "id": "8d840bb0-0ba3-40cc-8292-3773c7a0a019",
   "metadata": {},
   "outputs": [
    {
     "data": {
      "image/png": "[encoded data removed]",
      "text/plain": [
       "<Figure size 640x480 with 1 Axes>"
      ]
     },
     "metadata": {},
     "output_type": "display_data"
    }
   ],
   "source": [
    "showHist(np.random.rand(5000))"
   ]
  },
  {
   "cell_type": "code",
   "execution_count": 30,
   "id": "d27f8ba8-f3ca-4113-8e2f-61513b330c28",
   "metadata": {},
   "outputs": [
    {
     "name": "stdout",
     "output_type": "stream",
     "text": [
      "shape: (5,)\n",
      "array: [5 3 8 8 8]\n",
      "mean : 6.400, std: 2.059\n",
      "------------------------------\n",
      "shape: (2, 4)\n",
      "array: \n",
      "[[55 65 82 76]\n",
      " [92 55 85 72]]\n",
      "mean : 72.750, std: 12.784\n",
      "------------------------------\n"
     ]
    }
   ],
   "source": [
    "a = np.random.randint(10, size=(5,))\n",
    "b = np.random.randint(50, 100, (2, 4))\n",
    "\n",
    "printary(a, b)"
   ]
  },
  {
   "cell_type": "code",
   "execution_count": 31,
   "id": "b3249ad9-5c03-4671-90d5-ff405c8f2577",
   "metadata": {},
   "outputs": [
    {
     "data": {
      "image/png": "[encoded data removed]",
      "text/plain": [
       "<Figure size 640x480 with 1 Axes>"
      ]
     },
     "metadata": {},
     "output_type": "display_data"
    }
   ],
   "source": [
    "showHist(np.random.randint(10, size=50000))"
   ]
  },
  {
   "cell_type": "code",
   "execution_count": 32,
   "id": "bbb0d4a2-50dd-43ea-9bf7-87f5dd5572f0",
   "metadata": {},
   "outputs": [
    {
     "name": "stdout",
     "output_type": "stream",
     "text": [
      "shape: (5,)\n",
      "array: [ 0.2067 -0.7956 -0.4941  1.1236  1.0384]\n",
      "mean : 0.216, std: 0.778\n",
      "------------------------------\n",
      "shape: (200, 50)\n",
      "array: \n",
      "[[-0.0156 -1.0521  0.7094 ... -1.2991 -0.581   0.5558]\n",
      " [ 0.3515 -0.8398  0.5797 ... -0.9419 -0.9707 -0.7775]\n",
      " [-0.6229 -0.5956  2.2028 ... -0.6118 -0.4064 -0.5561]\n",
      " ...\n",
      " [-0.2769  0.6932  1.4154 ...  0.553   2.0351  0.361 ]\n",
      " [-1.3929  0.5799  1.0908 ... -0.2213 -1.9576 -0.075 ]\n",
      " [ 0.2232  1.3415 -0.6357 ... -1.4961  0.0888 -1.0566]]\n",
      "mean : -0.016, std: 0.996\n",
      "------------------------------\n"
     ]
    }
   ],
   "source": [
    "a = np.random.randn(5)\n",
    "b = np.random.randn(200, 50)\n",
    "\n",
    "printary(a, b)"
   ]
  },
  {
   "cell_type": "code",
   "execution_count": 33,
   "id": "4119e5e1-327f-4939-8d43-5b7cfd381437",
   "metadata": {},
   "outputs": [
    {
     "data": {
      "image/png": "[encoded data removed]",
      "text/plain": [
       "<Figure size 640x480 with 1 Axes>"
      ]
     },
     "metadata": {},
     "output_type": "display_data"
    }
   ],
   "source": [
    "showHist(np.random.randn(5000))"
   ]
  },
  {
   "cell_type": "code",
   "execution_count": 34,
   "id": "630755fe-aa79-48a6-8579-4ea962ade232",
   "metadata": {},
   "outputs": [
    {
     "name": "stdout",
     "output_type": "stream",
     "text": [
      "shape: (100, 20)\n",
      "array: \n",
      "[[ 1.1737 -0.1372  1.4553 ...  5.7026  2.4229  2.7789]\n",
      " [ 2.3512  4.2401  4.7885 ...  0.9171  0.8025  1.9246]\n",
      " [ 3.1746  0.7352  0.6518 ... -4.7094 -0.6122  1.7279]\n",
      " ...\n",
      " [ 4.5716 -0.8192 -0.5151 ... -0.8601  4.7664 -2.7754]\n",
      " [ 5.0817 -1.2137  8.1517 ... -3.4974  5.6668  6.4446]\n",
      " [ 4.7669  3.6278  8.2961 ...  2.553   2.1643  3.5699]]\n",
      "mean : 2.010, std: 2.962\n",
      "------------------------------\n"
     ]
    }
   ],
   "source": [
    "a = np.random.normal(2, 3, (100, 20))\n",
    "\n",
    "printary(a)"
   ]
  },
  {
   "cell_type": "code",
   "execution_count": 35,
   "id": "0079bff2-9b7e-478d-a860-1fd4b3bb05b9",
   "metadata": {},
   "outputs": [
    {
     "data": {
      "image/png": "[encoded data removed]",
      "text/plain": [
       "<Figure size 640x480 with 1 Axes>"
      ]
     },
     "metadata": {},
     "output_type": "display_data"
    }
   ],
   "source": [
    "showHist(np.random.normal(2, 1, (50000,)))"
   ]
  },
  {
   "cell_type": "code",
   "execution_count": 36,
   "id": "c1cb42df-8d84-4d03-9e6a-6574d133cacb",
   "metadata": {},
   "outputs": [
    {
     "name": "stdout",
     "output_type": "stream",
     "text": [
      "shape: (10,)\n",
      "array: [9 2 7 8 6 3 1 4 5 0]\n",
      "mean : 4.500, std: 2.872\n",
      "------------------------------\n",
      "shape: (7,)\n",
      "array: [3 3 5 1 4 1 3]\n",
      "mean : 2.857, std: 1.355\n",
      "------------------------------\n",
      "shape: (4, 3)\n",
      "array: \n",
      "[[1 2 3]\n",
      " [3 2 1]\n",
      " [4 5 6]\n",
      " [7 8 9]]\n",
      "mean : 4.250, std: 2.618\n",
      "------------------------------\n"
     ]
    }
   ],
   "source": [
    "a = np.random.permutation(10)\n",
    "data = np.array([1,3,4,5,3,1,3])\n",
    "b = np.random.permutation(data)\n",
    "mylist = [[1,2,3], [4,5,6], [7,8,9], [3,2,1]]\n",
    "c = np.random.permutation(mylist)\n",
    "\n",
    "printary(a, b, c)"
   ]
  },
  {
   "cell_type": "markdown",
   "id": "51f4ee6d-491f-422e-bb04-21483a02f6d7",
   "metadata": {
    "jp-MarkdownHeadingCollapsed": true,
    "tags": []
   },
   "source": [
    "# 특정값으로 채워진 ndarray 생성"
   ]
  },
  {
   "cell_type": "code",
   "execution_count": 37,
   "id": "124d7e66-ee9a-4557-8eec-e226a2a2adc6",
   "metadata": {},
   "outputs": [],
   "source": [
    "import numpy as np"
   ]
  },
  {
   "cell_type": "code",
   "execution_count": 38,
   "id": "06d03eaf-9eaa-4342-bac7-9f9a557744b8",
   "metadata": {},
   "outputs": [],
   "source": [
    "def printary(*a):\n",
    "    for x in a:\n",
    "        print(f'{x.dtype}\\n{x}')\n",
    "        print(\"-\" * 30)"
   ]
  },
  {
   "cell_type": "code",
   "execution_count": 39,
   "id": "fec493c2-239b-4709-8f21-c646b9c59a17",
   "metadata": {},
   "outputs": [],
   "source": [
    "mshape = (2, 3)"
   ]
  },
  {
   "cell_type": "code",
   "execution_count": 40,
   "id": "7bf827ac-6640-4ac4-9a4f-d1c681ab07bf",
   "metadata": {},
   "outputs": [
    {
     "name": "stdout",
     "output_type": "stream",
     "text": [
      "int32\n",
      "[0 0 0 0 0 0 0 0 0 0]\n",
      "------------------------------\n",
      "float64\n",
      "[[0. 0. 0.]\n",
      " [0. 0. 0.]]\n",
      "------------------------------\n"
     ]
    }
   ],
   "source": [
    "a = np.zeros(10, dtype=np.int32)\n",
    "b = np.zeros(mshape)\n",
    "\n",
    "printary(a, b)"
   ]
  },
  {
   "cell_type": "code",
   "execution_count": 41,
   "id": "3648ecc0-6f0e-4308-acd3-1d275256e356",
   "metadata": {},
   "outputs": [
    {
     "name": "stdout",
     "output_type": "stream",
     "text": [
      "int32\n",
      "[          0 -1073741824           0           0           0  1073741824\n",
      "           0  1074790400           0  1075314688]\n",
      "------------------------------\n",
      "float64\n",
      "[[0. 0. 0.]\n",
      " [0. 0. 0.]]\n",
      "------------------------------\n"
     ]
    }
   ],
   "source": [
    "a = np.empty(10, dtype=np.int32)\n",
    "b = np.empty(mshape)\n",
    "\n",
    "printary(a, b)"
   ]
  },
  {
   "cell_type": "code",
   "execution_count": 42,
   "id": "183edde8-6ab8-455e-804a-9a870c30ead6",
   "metadata": {},
   "outputs": [
    {
     "name": "stdout",
     "output_type": "stream",
     "text": [
      "float64\n",
      "[[1. 1. 1.]\n",
      " [1. 1. 1.]]\n",
      "------------------------------\n",
      "int64\n",
      "[[5 5 5]\n",
      " [5 5 5]]\n",
      "------------------------------\n"
     ]
    }
   ],
   "source": [
    "a = np.ones(mshape)\n",
    "b = np.full(mshape, 5)\n",
    "\n",
    "printary(a, b)"
   ]
  },
  {
   "cell_type": "code",
   "execution_count": 43,
   "id": "9c0c759b-2581-4833-9658-864352236274",
   "metadata": {},
   "outputs": [
    {
     "name": "stdout",
     "output_type": "stream",
     "text": [
      "float64\n",
      "[[1. 0. 0.]\n",
      " [0. 1. 0.]\n",
      " [0. 0. 1.]]\n",
      "------------------------------\n",
      "float64\n",
      "[[0. 0. 1. 0. 0.]\n",
      " [0. 0. 0. 1. 0.]\n",
      " [0. 0. 0. 0. 1.]]\n",
      "------------------------------\n",
      "float64\n",
      "[[0. 0. 0. 0. 0.]\n",
      " [1. 0. 0. 0. 0.]\n",
      " [0. 1. 0. 0. 0.]]\n",
      "------------------------------\n",
      "float64\n",
      "[[1. 0. 0.]\n",
      " [0. 1. 0.]\n",
      " [0. 0. 1.]]\n",
      "------------------------------\n"
     ]
    }
   ],
   "source": [
    "a = np.eye(3)\n",
    "b = np.eye(3, 5, 2)\n",
    "c = np.eye(3, 5, -1)\n",
    "d = np.identity(3)\n",
    "\n",
    "printary(a, b, c, d)"
   ]
  },
  {
   "cell_type": "code",
   "execution_count": 44,
   "id": "bf7b9fed-0c6c-4561-aaa6-560d97c5c96c",
   "metadata": {},
   "outputs": [
    {
     "name": "stdout",
     "output_type": "stream",
     "text": [
      "int64\n",
      "[0 0 0]\n",
      "------------------------------\n",
      "int64\n",
      "[4611686018427387904 4616189618054758400 4618441417868443648]\n",
      "------------------------------\n"
     ]
    }
   ],
   "source": [
    "a = np.zeros_like([1,2,3])\n",
    "b = np.empty_like([1,2,3])\n",
    "\n",
    "printary(a, b)"
   ]
  },
  {
   "cell_type": "code",
   "execution_count": 45,
   "id": "01170339-8c75-493c-8400-205f6974501a",
   "metadata": {},
   "outputs": [
    {
     "name": "stdout",
     "output_type": "stream",
     "text": [
      "float32\n",
      "[[1. 1. 1.]\n",
      " [1. 1. 1.]]\n",
      "------------------------------\n",
      "int64\n",
      "[10 10 10 10 10]\n",
      "------------------------------\n"
     ]
    }
   ],
   "source": [
    "a = np.ones_like([[1,2,3], [4,5,6]], dtype=np.float32)\n",
    "b = np.full_like(np.arange(5), 10)\n",
    "\n",
    "printary(a, b)"
   ]
  },
  {
   "cell_type": "markdown",
   "id": "9a9dd1ff-a85c-499b-b836-7d242d3f6839",
   "metadata": {
    "jp-MarkdownHeadingCollapsed": true,
    "tags": []
   },
   "source": [
    "# copy & view 객체"
   ]
  },
  {
   "cell_type": "markdown",
   "id": "0fda2212-b158-44ab-9f49-5e7c8717dbb9",
   "metadata": {},
   "source": [
    "- ndarray 의 copy 객체 또는 view 객체의 특징\n",
    "![nn](./images/numpy-03.png)"
   ]
  },
  {
   "cell_type": "markdown",
   "id": "f9b0b2b3-9f9a-40a2-af98-743de2852207",
   "metadata": {
    "jp-MarkdownHeadingCollapsed": true,
    "tags": []
   },
   "source": [
    "# The Array Interface (Arrary Protocol)"
   ]
  },
  {
   "cell_type": "markdown",
   "id": "965b2261-f335-4d17-b3d2-1ab2c1c8a50f",
   "metadata": {},
   "source": [
    "- 배열 인터페이스는 dictionary 구조로 필수 3개, 옵션 5개의 Key 가 있음\n",
    "- 필수 : shape, typestr, version\n",
    "- 옵션 : descr, data, strides, mask, offset\n",
    "    + data : 저장 영역의 메모리 주소 정보, read-only flag\n",
    "    + ndarray 의 저장공간 메모리 주소: `arr.__array_interface__['data'][0]`\n",
    "\n",
    "![nn](./images/numpy-04.png)"
   ]
  },
  {
   "cell_type": "code",
   "execution_count": 46,
   "id": "dcd4246f-1957-4155-be15-e12a22fce0d6",
   "metadata": {},
   "outputs": [],
   "source": [
    "def npinfo(n, a, x):\n",
    "    print(\"name:     :\", n)\n",
    "    print(\"share:    :\", np.may_share_memory(a, x))\n",
    "    print(\"data:     :\", x.tolist())\n",
    "    print(\"ndim:     :\", x.ndim)\n",
    "    print(\"shape:    :\", x.shape)\n",
    "    print(\"dtype:    :\", x.dtype)\n",
    "    print(\"-\" * 30)"
   ]
  },
  {
   "cell_type": "code",
   "execution_count": 47,
   "id": "16b71d01-a193-400c-9cb2-67dc2fd1d0da",
   "metadata": {},
   "outputs": [
    {
     "name": "stdout",
     "output_type": "stream",
     "text": [
      "name:     : original\n",
      "share:    : True\n",
      "data:     : [[True, True], [False, False]]\n",
      "ndim:     : 2\n",
      "shape:    : (2, 2)\n",
      "dtype:    : bool\n",
      "------------------------------\n",
      "name:     : copy\n",
      "share:    : False\n",
      "data:     : [[False, True], [False, False]]\n",
      "ndim:     : 2\n",
      "shape:    : (2, 2)\n",
      "dtype:    : bool\n",
      "------------------------------\n"
     ]
    }
   ],
   "source": [
    "a = np.array([[True, True], [False, False]], dtype=np.bool8)\n",
    "b = a.copy()\n",
    "b[0, 0] = False\n",
    "\n",
    "npinfo(\"original\", a, a)\n",
    "npinfo(\"copy\", a, b)"
   ]
  },
  {
   "cell_type": "code",
   "execution_count": 48,
   "id": "620a85a9-0ee5-4f67-ba0b-eab5b1240222",
   "metadata": {},
   "outputs": [
    {
     "name": "stdout",
     "output_type": "stream",
     "text": [
      "name:     : original\n",
      "share:    : True\n",
      "data:     : [[False, True], [False, False]]\n",
      "ndim:     : 2\n",
      "shape:    : (2, 2)\n",
      "dtype:    : bool\n",
      "------------------------------\n",
      "name:     : view\n",
      "share:    : True\n",
      "data:     : [[False, True], [False, False]]\n",
      "ndim:     : 2\n",
      "shape:    : (2, 2)\n",
      "dtype:    : bool\n",
      "------------------------------\n"
     ]
    }
   ],
   "source": [
    "a = np.array([[True, True], [False, False]], dtype=np.bool8)\n",
    "b = a.view(dtype=np.bool8)\n",
    "b[0, 0] = 0\n",
    "\n",
    "npinfo(\"original\", a, a)\n",
    "npinfo(\"view\", a, b)"
   ]
  },
  {
   "cell_type": "markdown",
   "id": "c1581ad9-f5a0-4b89-baab-11a70ef464e7",
   "metadata": {
    "jp-MarkdownHeadingCollapsed": true,
    "tags": []
   },
   "source": [
    "# ndarray 변환 (reshape, flatten)"
   ]
  },
  {
   "cell_type": "markdown",
   "id": "84756675-7e48-42fc-acd4-3db80e9dba2a",
   "metadata": {},
   "source": [
    "- `np.reshape(a, newshape: int or tuple or ints, order='C')`\n",
    "- `arr.reshape(newshape: int or tuple or ints, order='C')`\n",
    "    + order : C - C Language/행우선 처리, F - Fortran/열우선 처리\n",
    "- reshape : View 반환\n",
    "- flatten, astype : copy 반환"
   ]
  },
  {
   "cell_type": "code",
   "execution_count": 49,
   "id": "557644f8-dba9-4cd4-96bc-db6408dd602d",
   "metadata": {},
   "outputs": [],
   "source": [
    "import sys\n",
    "\n",
    "def npinfo(n, a, x):\n",
    "    print(\"name:     :\", n)\n",
    "    print(\"share:    :\", np.may_share_memory(a, x))\n",
    "    print(\"data:     :\", x.tolist())\n",
    "    print(\"shape:    :\", x.shape)\n",
    "    print(\"dtype:    :\", x.dtype)\n",
    "    print(\"stride:   :\", x.strides)\n",
    "    print(\"addr:     :\", x.__array_interface__['data'][0])\n",
    "    print(\"sizeof    :\", sys.getsizeof(x))\n",
    "    print(\"-\" * 30)"
   ]
  },
  {
   "cell_type": "code",
   "execution_count": 50,
   "id": "4ae3d703-6a51-4970-a14e-b8c0478afe28",
   "metadata": {},
   "outputs": [
    {
     "name": "stdout",
     "output_type": "stream",
     "text": [
      "name:     : a.reshape(1, -1)\n",
      "share:    : True\n",
      "data:     : [[1, 2, 3, 4, 5, 6]]\n",
      "shape:    : (1, 6)\n",
      "dtype:    : int64\n",
      "stride:   : (48, 8)\n",
      "addr:     : 105553133486176\n",
      "sizeof    : 128\n",
      "------------------------------\n"
     ]
    }
   ],
   "source": [
    "a = np.array([[1,2,3], [4,5,6]], dtype=np.int64)\n",
    "b = a.reshape(1, -1)\n",
    "\n",
    "npinfo(\"a.reshape(1, -1)\", a, b)"
   ]
  },
  {
   "cell_type": "code",
   "execution_count": 51,
   "id": "9fde6955-211c-4118-9a31-8841d69d3ff3",
   "metadata": {},
   "outputs": [
    {
     "name": "stdout",
     "output_type": "stream",
     "text": [
      "name:     : a.reshape(-1)\n",
      "share:    : True\n",
      "data:     : [1, 2, 3, 4, 5, 6]\n",
      "shape:    : (6,)\n",
      "dtype:    : int64\n",
      "stride:   : (8,)\n",
      "addr:     : 105553133486176\n",
      "sizeof    : 112\n",
      "------------------------------\n"
     ]
    }
   ],
   "source": [
    "b = a.reshape(-1)\n",
    "\n",
    "npinfo(\"a.reshape(-1)\", a, b)"
   ]
  },
  {
   "cell_type": "code",
   "execution_count": 52,
   "id": "9b2a5ac1-9661-4ea7-8fe5-89ddffe3ee40",
   "metadata": {},
   "outputs": [
    {
     "name": "stdout",
     "output_type": "stream",
     "text": [
      "name:     : a.reshape(-1, 1)\n",
      "share:    : True\n",
      "data:     : [[1], [2], [3], [4], [5], [6]]\n",
      "shape:    : (6, 1)\n",
      "dtype:    : int64\n",
      "stride:   : (8, 8)\n",
      "addr:     : 105553133486176\n",
      "sizeof    : 128\n",
      "------------------------------\n"
     ]
    }
   ],
   "source": [
    "b = a.reshape(-1, 1)\n",
    "\n",
    "npinfo(\"a.reshape(-1, 1)\", a, b)"
   ]
  },
  {
   "cell_type": "code",
   "execution_count": 53,
   "id": "5cfe1277-a311-499e-91cf-022cd38f96bf",
   "metadata": {},
   "outputs": [
    {
     "name": "stdout",
     "output_type": "stream",
     "text": [
      "name:     : a.reshape(-1, 1, order='F')\n",
      "share:    : False\n",
      "data:     : [[1], [4], [2], [5], [3], [6]]\n",
      "shape:    : (6, 1)\n",
      "dtype:    : int64\n",
      "stride:   : (8, 48)\n",
      "addr:     : 105553133536624\n",
      "sizeof    : 128\n",
      "------------------------------\n"
     ]
    }
   ],
   "source": [
    "b = a.reshape(-1, 1, order='F')\n",
    "\n",
    "npinfo(\"a.reshape(-1, 1, order='F')\", a, b)"
   ]
  },
  {
   "cell_type": "code",
   "execution_count": 54,
   "id": "acbffc23-e9dc-4c33-b8ab-4608f3101c07",
   "metadata": {},
   "outputs": [
    {
     "name": "stdout",
     "output_type": "stream",
     "text": [
      "name:     : a.flatten()\n",
      "share:    : False\n",
      "data:     : [1, 2, 3, 4, 5, 6]\n",
      "shape:    : (6,)\n",
      "dtype:    : int64\n",
      "stride:   : (8,)\n",
      "addr:     : 105553133486224\n",
      "sizeof    : 160\n",
      "------------------------------\n"
     ]
    }
   ],
   "source": [
    "b = a.flatten()\n",
    "\n",
    "npinfo(\"a.flatten()\", a, b)"
   ]
  },
  {
   "cell_type": "code",
   "execution_count": 55,
   "id": "d803fb64-6cee-4b67-83db-5bf0c33edbfa",
   "metadata": {},
   "outputs": [
    {
     "name": "stdout",
     "output_type": "stream",
     "text": [
      "name:     : a.astype(np.int32)\n",
      "share:    : False\n",
      "data:     : [[1, 2, 3], [4, 5, 6]]\n",
      "shape:    : (2, 3)\n",
      "dtype:    : int32\n",
      "stride:   : (12, 4)\n",
      "addr:     : 105553148216160\n",
      "sizeof    : 152\n",
      "------------------------------\n"
     ]
    }
   ],
   "source": [
    "a = np.array([[1,2,3], [4,5,6]], dtype=np.float64)\n",
    "b = a.astype(np.int32)\n",
    "\n",
    "npinfo(\"a.astype(np.int32)\", a, b)"
   ]
  },
  {
   "cell_type": "markdown",
   "id": "a7a0b71e-b112-447c-a2b3-340c988e91ec",
   "metadata": {
    "jp-MarkdownHeadingCollapsed": true,
    "tags": []
   },
   "source": [
    "# ndarray 산술연산 - element-wise 방식의 이해"
   ]
  },
  {
   "cell_type": "markdown",
   "id": "404e52df-1020-4912-aa7a-3e6fd046d56b",
   "metadata": {},
   "source": [
    "- element-wise 방식 연산 : 동일한 Shape 을 가진 배열의 연산 -> 같은 Index 에 위치한 요소를 연산\n",
    "- broadcasting : element-wise 성립하지 않는 경우 두 배열의 크기를 동일하게 만들어 연산가능하도록 하는 것"
   ]
  },
  {
   "cell_type": "code",
   "execution_count": 56,
   "id": "0b101450-4cf3-45df-be3d-79a96312e484",
   "metadata": {},
   "outputs": [
    {
     "name": "stdout",
     "output_type": "stream",
     "text": [
      "a =  [1 2 3 4 5 6]\n",
      "b =  [ 7  8  9 10 11 12]\n",
      "a + b =  [ 8 10 12 14 16 18]\n",
      "b - a =  [6 6 6 6 6 6]\n",
      "a * b =  [ 7 16 27 40 55 72]\n",
      "b / a =  [7.  4.  3.  2.5 2.2 2. ]\n",
      "b // a =  [7 4 3 2 2 2]\n",
      "b % a =  [0 0 0 2 1 0]\n",
      "a + 2 =  [3 4 5 6 7 8]\n",
      "b - 1 =  [ 6  7  8  9 10 11]\n"
     ]
    }
   ],
   "source": [
    "a = np.array(range(1, 7))\n",
    "b = np.array(range(7, 13))\n",
    "\n",
    "print('a = ', a)\n",
    "print('b = ', b)\n",
    "\n",
    "print('a + b = ', a + b)\n",
    "print('b - a = ', b - a)\n",
    "print('a * b = ', a * b)\n",
    "print('b / a = ', b / a)\n",
    "print('b // a = ', b // a)\n",
    "print('b % a = ', b % a)\n",
    "\n",
    "print('a + 2 = ', a + 2)\n",
    "print('b - 1 = ', b - 1)"
   ]
  },
  {
   "cell_type": "code",
   "execution_count": 57,
   "id": "bc113171-218c-4a26-9171-cc39a31d5bca",
   "metadata": {},
   "outputs": [
    {
     "name": "stdout",
     "output_type": "stream",
     "text": [
      "[[1 2 3]\n",
      " [4 5 6]]\n",
      "[[ 7  8  9]\n",
      " [10 11 12]]\n",
      "<class 'list'>\n",
      "a =  [[1, 2, 3], [4, 5, 6]]\n",
      "b =  [[7, 8, 9], [10, 11, 12]]\n",
      "a + b =  [[8, 10, 12], [14, 16, 18]]\n",
      "a * b =  [[7, 16, 27], [40, 55, 72]]\n"
     ]
    }
   ],
   "source": [
    "a = np.array(range(1, 7)).reshape(2, 3)\n",
    "b = np.array(range(7, 13)).reshape(2, 3)\n",
    "\n",
    "print(a)\n",
    "print(b)\n",
    "print(type(a.tolist()))\n",
    "print('a = ', a.tolist())\n",
    "print('b = ', b.tolist())\n",
    "\n",
    "print('a + b = ', (a + b).tolist())\n",
    "print('a * b = ', (a * b).tolist())"
   ]
  },
  {
   "cell_type": "code",
   "execution_count": 58,
   "id": "ae774c9e-3867-4e67-9c5f-cea3219cf122",
   "metadata": {},
   "outputs": [
    {
     "ename": "ValueError",
     "evalue": "operands could not be broadcast together with shapes (3,) (2,) ",
     "output_type": "error",
     "traceback": [
      "\u001b[0;31m---------------------------------------------------------------------------\u001b[0m",
      "\u001b[0;31mValueError\u001b[0m                                Traceback (most recent call last)",
      "Cell \u001b[0;32mIn[58], line 5\u001b[0m\n\u001b[1;32m      2\u001b[0m a \u001b[38;5;241m=\u001b[39m np\u001b[38;5;241m.\u001b[39marray([\u001b[38;5;241m1\u001b[39m,\u001b[38;5;241m3\u001b[39m,\u001b[38;5;241m5\u001b[39m])\n\u001b[1;32m      3\u001b[0m c \u001b[38;5;241m=\u001b[39m np\u001b[38;5;241m.\u001b[39marray([\u001b[38;5;241m7\u001b[39m,\u001b[38;5;241m9\u001b[39m])\n\u001b[0;32m----> 5\u001b[0m \u001b[38;5;28mprint\u001b[39m(\u001b[38;5;124m'\u001b[39m\u001b[38;5;124ma + c = \u001b[39m\u001b[38;5;124m'\u001b[39m, \u001b[43ma\u001b[49m\u001b[43m \u001b[49m\u001b[38;5;241;43m+\u001b[39;49m\u001b[43m \u001b[49m\u001b[43mc\u001b[49m)\n",
      "\u001b[0;31mValueError\u001b[0m: operands could not be broadcast together with shapes (3,) (2,) "
     ]
    }
   ],
   "source": [
    "# element-wise 가 성립되지 않음 (broadcasting 안 됨)\n",
    "a = np.array([1,3,5])\n",
    "c = np.array([7,9])\n",
    "\n",
    "print('a + c = ', a + c)"
   ]
  },
  {
   "cell_type": "markdown",
   "id": "339597b3-eaee-4e2a-9ec4-0bf92acda3bb",
   "metadata": {
    "jp-MarkdownHeadingCollapsed": true,
    "tags": []
   },
   "source": [
    "# ndarray 산술연산 - broadcasting 의 이해"
   ]
  },
  {
   "cell_type": "markdown",
   "id": "d9679a79-0358-4cb4-b8a9-f74a26e0ae4e",
   "metadata": {},
   "source": [
    "1. Scalar 값은 상대 배열의 shape 와 같은 shape, 동일 값으로 배열이 된다\n",
    "2. 한 배열 shape 이 다른 배열 shape 의 부분 shape 이면 차원이 높은 shape 를 따른다\n",
    "    + (4,2,3,1) 의 부분 shape 예시 : (2,3,1), (3,1), (1,)\n",
    "3. 요소 갯수가 1인 차원에 한해서는 다른 배열의 동일 차원을 요수 수를 따른다\n",
    "    + (5, 1) shape 을 가진 배열과 (1, 3) shape 을 가진 배열 -> (5, 3)과 (5, 3) 의 연산"
   ]
  },
  {
   "cell_type": "code",
   "execution_count": 59,
   "id": "53b7b6fe-75f4-4f97-86a5-cfda3ebaf271",
   "metadata": {},
   "outputs": [],
   "source": [
    "import pprint as pp\n",
    "\n",
    "def printary(m, *a):\n",
    "    print(m)\n",
    "    for x in a:\n",
    "        print(x.shape, end=\" : \")\n",
    "        print(x.tolist())\n",
    "    print(\"-\" * 30)"
   ]
  },
  {
   "cell_type": "code",
   "execution_count": 60,
   "id": "31f99672-456c-4405-b815-9a8b3fac4bcf",
   "metadata": {},
   "outputs": [
    {
     "name": "stdout",
     "output_type": "stream",
     "text": [
      "(2, 3) (2, 3) (3, 1) (3,)\n"
     ]
    }
   ],
   "source": [
    "a = np.array([[1,1,1], [1,1,1]])\n",
    "b = np.array([[1,1,1], [2,2,2]])\n",
    "c = np.array([[1], [2], [3]])\n",
    "d = np.array([3,3,3])\n",
    "\n",
    "print(a.shape, b.shape, c.shape, d.shape)"
   ]
  },
  {
   "cell_type": "code",
   "execution_count": 61,
   "id": "4ff0e0a8-47cf-419a-9ab3-b85e9022f756",
   "metadata": {},
   "outputs": [
    {
     "name": "stdout",
     "output_type": "stream",
     "text": [
      "a+b\n",
      "(2, 3) : [[1, 1, 1], [1, 1, 1]]\n",
      "(2, 3) : [[1, 1, 1], [2, 2, 2]]\n",
      "(2, 3) : [[2, 2, 2], [3, 3, 3]]\n",
      "------------------------------\n"
     ]
    }
   ],
   "source": [
    "printary(\"a+b\", a, b, a+b)"
   ]
  },
  {
   "cell_type": "code",
   "execution_count": 62,
   "id": "f19a614d-ce05-46af-bcca-f54d7cb32e46",
   "metadata": {},
   "outputs": [
    {
     "name": "stdout",
     "output_type": "stream",
     "text": [
      "a+d\n",
      "(2, 3) : [[1, 1, 1], [1, 1, 1]]\n",
      "(3,) : [3, 3, 3]\n",
      "(2, 3) : [[4, 4, 4], [4, 4, 4]]\n",
      "------------------------------\n"
     ]
    }
   ],
   "source": [
    "# a는 (2, 3) shape 이므로  d (3, ) 은 부분 shape 임\n",
    "printary(\"a+d\", a, d, a+d)"
   ]
  },
  {
   "cell_type": "code",
   "execution_count": 63,
   "id": "541be786-2c6e-41f4-b168-78d5176169d9",
   "metadata": {},
   "outputs": [
    {
     "name": "stdout",
     "output_type": "stream",
     "text": [
      "b+4\n",
      "(2, 3) : [[1, 1, 1], [2, 2, 2]]\n",
      "(2, 3) : [[5, 5, 5], [6, 6, 6]]\n",
      "------------------------------\n"
     ]
    }
   ],
   "source": [
    "printary(\"b+4\", b, b+4)"
   ]
  },
  {
   "cell_type": "code",
   "execution_count": 64,
   "id": "9e3cc008-d494-44d3-bc45-f058f82a49f3",
   "metadata": {},
   "outputs": [
    {
     "name": "stdout",
     "output_type": "stream",
     "text": [
      "c+d\n",
      "(3, 1) : [[1], [2], [3]]\n",
      "(3,) : [3, 3, 3]\n",
      "(3, 3) : [[4, 4, 4], [5, 5, 5], [6, 6, 6]]\n",
      "------------------------------\n"
     ]
    }
   ],
   "source": [
    "printary(\"c+d\", c, d, c+d)"
   ]
  },
  {
   "cell_type": "markdown",
   "id": "5a18f70e-611a-4c1e-b933-22569de9921a",
   "metadata": {
    "jp-MarkdownHeadingCollapsed": true,
    "tags": []
   },
   "source": [
    "# ndarray 비교 연산"
   ]
  },
  {
   "cell_type": "markdown",
   "id": "e997e3ff-73f5-41dc-b82f-62d1edb3f5ec",
   "metadata": {},
   "source": [
    "- ==, !=, >, <, >=, <=: 결과 True / False\n",
    "- element-wise 방식 (필요 시 broadcasting)"
   ]
  },
  {
   "cell_type": "code",
   "execution_count": 65,
   "id": "1ba875cc-8270-45f4-9505-99759f5ab8d8",
   "metadata": {},
   "outputs": [
    {
     "name": "stdout",
     "output_type": "stream",
     "text": [
      "(5, 1) (3,) (5, 3)\n"
     ]
    }
   ],
   "source": [
    "a = np.array([[1], [2], [3], [4], [5]])\n",
    "b = np.array([1,2,3])\n",
    "c = a + b\n",
    "print(a.shape, b.shape, c.shape)"
   ]
  },
  {
   "cell_type": "code",
   "execution_count": 66,
   "id": "657d8251-b72d-4f4f-accb-54e50386a8b2",
   "metadata": {},
   "outputs": [
    {
     "name": "stdout",
     "output_type": "stream",
     "text": [
      "[[1]\n",
      " [2]\n",
      " [3]\n",
      " [4]\n",
      " [5]]\n",
      "[1 2 3]\n",
      "[[2 3 4]\n",
      " [3 4 5]\n",
      " [4 5 6]\n",
      " [5 6 7]\n",
      " [6 7 8]]\n"
     ]
    }
   ],
   "source": [
    "print(a)\n",
    "print(b)\n",
    "print(c)"
   ]
  },
  {
   "cell_type": "code",
   "execution_count": 67,
   "id": "83a72b77-0b8c-4e20-9c80-c2c79a7ce91c",
   "metadata": {},
   "outputs": [],
   "source": [
    "def printary(*a):\n",
    "    for x in a:\n",
    "        print(x.tolist(), end=\"\\n\")\n",
    "        print(\"-\" * 45)"
   ]
  },
  {
   "cell_type": "code",
   "execution_count": 68,
   "id": "7960d442-1934-4094-a4f4-1e0a13d71002",
   "metadata": {},
   "outputs": [
    {
     "name": "stdout",
     "output_type": "stream",
     "text": [
      "[[True, False, False], [False, False, True]]\n",
      "---------------------------------------------\n",
      "[[False, True, True], [True, True, False]]\n",
      "---------------------------------------------\n"
     ]
    }
   ],
   "source": [
    "a = np.array([[1,2,3], [4,5,6]])\n",
    "b = np.array([[1,3,5], [2,4,6]])\n",
    "printary(a == b, b != a)"
   ]
  },
  {
   "cell_type": "code",
   "execution_count": 69,
   "id": "2ead8a2d-439b-49e9-9977-2e013a8e777e",
   "metadata": {},
   "outputs": [
    {
     "name": "stdout",
     "output_type": "stream",
     "text": [
      "[[False, False, False], [True, True, False]]\n",
      "---------------------------------------------\n",
      "[[False, True, True], [False, False, False]]\n",
      "---------------------------------------------\n"
     ]
    }
   ],
   "source": [
    "a = np.array([[1,2,3], [4,5,6]])\n",
    "b = np.array([[1,3,5], [2,4,6]])\n",
    "printary(a > b, a < b)"
   ]
  },
  {
   "cell_type": "code",
   "execution_count": 70,
   "id": "7467bf47-8c76-43a5-85ad-03e853658ed0",
   "metadata": {},
   "outputs": [
    {
     "name": "stdout",
     "output_type": "stream",
     "text": [
      "[[False, False, True], [True, True, True]]\n",
      "---------------------------------------------\n",
      "[[True, True, False], [True, False, False]]\n",
      "---------------------------------------------\n"
     ]
    }
   ],
   "source": [
    "a = np.array([[1,2,3], [4,5,6]])\n",
    "b = np.array([[1,3,5], [2,4,6]])\n",
    "c = np.array([4,3,3])\n",
    "printary(a >= c, b <= 3)"
   ]
  },
  {
   "cell_type": "markdown",
   "id": "96d9faae-556f-4289-a70f-324ad624a666",
   "metadata": {
    "jp-MarkdownHeadingCollapsed": true,
    "tags": []
   },
   "source": [
    "# ndarray indexing 이해"
   ]
  },
  {
   "cell_type": "markdown",
   "id": "bf523ec0-800f-4d04-8389-4fdbfc8e02cd",
   "metadata": {},
   "source": [
    "- indexing을 사용하여 배열에서 원하는 데이터를 참조/변경하다.\n",
    "- 배열 이름 뒤에 [] 를 사용하여 참조/변경할 데이터를 표기한다.\n",
    "- 결과는 원본의 View 이며, View 에 대입을 통해 데이터 변경이 가능함\n",
    "- ndim >= 2 인 경우 [] 내부에 콤마(,)를 사용하여 차원 (축, axis, axes) 을 구분함\n",
    "- 콤마(,) 사이에는 참조/변경하기 원하는 데이터에 대한 표기(indexer)가 포함되어야 함\n",
    "- axis=0 을 제외한 차원에 대한 표기 생략 가능, 생략은 \"모두 선택\"의 의미를 갖음"
   ]
  },
  {
   "cell_type": "code",
   "execution_count": 71,
   "id": "38f08aeb-aa9a-4bee-94cb-0a3e8ad4890a",
   "metadata": {},
   "outputs": [],
   "source": [
    "import numpy as np"
   ]
  },
  {
   "cell_type": "code",
   "execution_count": 72,
   "id": "db01028f-6908-4dac-85ac-6843a43abc49",
   "metadata": {},
   "outputs": [
    {
     "name": "stdout",
     "output_type": "stream",
     "text": [
      "[[0 1 2]\n",
      " [3 4 5]\n",
      " [6 7 8]]\n",
      "[3 4 5]\n",
      "2\n",
      "2\n"
     ]
    }
   ],
   "source": [
    "a = np.arange(9).reshape(3,3)\n",
    "\n",
    "print(a)\n",
    "print(a[1])\n",
    "print(a[0,2])\n",
    "print(a[0][2])"
   ]
  },
  {
   "cell_type": "code",
   "execution_count": 73,
   "id": "ab70eb6b-b0ed-444b-a637-9df643cf374f",
   "metadata": {},
   "outputs": [
    {
     "name": "stdout",
     "output_type": "stream",
     "text": [
      "[[  0   1 100]\n",
      " [  3   4   5]\n",
      " [  6   7   8]] int64\n",
      "[[  0   1 100]\n",
      " [  3   4 200]\n",
      " [  6   7   8]]\n",
      "[[  0   1 100]\n",
      " [  3   4 200]\n",
      " [ 10  20   3]]\n"
     ]
    }
   ],
   "source": [
    "a[0,2] = 100\n",
    "print(a, a.dtype)\n",
    "\n",
    "a[1][2] = 200\n",
    "print(a)\n",
    "\n",
    "a[2] = [10, '20', 3.14]\n",
    "print(a)"
   ]
  },
  {
   "cell_type": "markdown",
   "id": "17e93a59-e89b-4e3c-86cd-d7941f2b2e56",
   "metadata": {
    "jp-MarkdownHeadingCollapsed": true,
    "tags": []
   },
   "source": [
    "# Indexer 의 종류"
   ]
  },
  {
   "cell_type": "markdown",
   "id": "b963d543-8907-474c-913b-0668f5999db6",
   "metadata": {},
   "source": [
    "- single element index\n",
    "- slicing & stride index\n",
    "- index arrays : 배열의 형태 (list or ndarray)\n",
    "- boolean index : True / False 로 구성된 배열의 형태, 단 기존 배열과 구조가 동일하여야 함\n",
    "- structural indexing tools\n",
    "    + `...` : 전체\n",
    "    + `np.newaxis` : 차원을 증가"
   ]
  },
  {
   "cell_type": "code",
   "execution_count": 74,
   "id": "4836fcd9-81b7-4f5b-b339-a6b156743c4c",
   "metadata": {},
   "outputs": [
    {
     "name": "stdout",
     "output_type": "stream",
     "text": [
      "1 <class 'numpy.int64'>\n",
      "[1] <class 'numpy.ndarray'>\n",
      "[1 3]\n",
      "[0 1 4]\n",
      "[0 3]\n",
      "[[0]\n",
      " [1]\n",
      " [2]\n",
      " [3]\n",
      " [4]]\n"
     ]
    }
   ],
   "source": [
    "a = np.arange(5)\n",
    "\n",
    "print(a[1], type(a[1]))\n",
    "print(a[[1]], type(a[[1]]))                   # index array\n",
    "print(a[1:4:2])\n",
    "print(a[[0,1,-1]])                            # index array\n",
    "print(a[[True, False, False, True, False]])   # boolean index\n",
    "print(a[..., np.newaxis])                     # structural indexing tools"
   ]
  },
  {
   "cell_type": "markdown",
   "id": "5c8d88da-926a-4430-bfc1-cb5c74a1ad26",
   "metadata": {
    "jp-MarkdownHeadingCollapsed": true,
    "tags": []
   },
   "source": [
    "## list와 ndarray의 indexing 차이점"
   ]
  },
  {
   "cell_type": "markdown",
   "id": "6a64fe0b-7682-426f-8ae3-bebc75255204",
   "metadata": {},
   "source": [
    "- ndarray의 indexing 의 반환 값은 원본을 참조하는 view 임\n",
    "- 새로운 ndarray로 처리하려면 copy 함수나 method 를 참조하여야 함"
   ]
  },
  {
   "cell_type": "code",
   "execution_count": 75,
   "id": "ddb70166-d346-46c3-9c68-21207d5b195c",
   "metadata": {},
   "outputs": [
    {
     "name": "stdout",
     "output_type": "stream",
     "text": [
      "[[1, 2, 3], [100, 7, 8]]\n",
      "[[10, 20, 30], [100, 7, 8]]\n",
      "140512678520256 140512678520256\n",
      "-------------------------\n"
     ]
    }
   ],
   "source": [
    "x = [[1,2,3], [6,7,8]]\n",
    "z = x[:]\n",
    "z[0] = [10, 20, 30]\n",
    "z[1][0] = 100\n",
    "# 왜 z[1][0] 의 값을 변경 시 x 도 변경되는가?\n",
    "# python 의 list 는 memory address 를 가지므로 z = x[:] 는 [id(x[0])] [id(x[1])] 을 복사한 것임\n",
    "# 따라서 행이 아닌 해당 값은 메모리 주소를 참조하여 변경되는 것\n",
    "\n",
    "print(x, z, sep='\\n')\n",
    "print(id(x[1]), id(z[1]))\n",
    "print(\"-\" * 25)"
   ]
  },
  {
   "cell_type": "code",
   "execution_count": 76,
   "id": "cceef192-afea-4f96-941d-2ca896f96b4f",
   "metadata": {},
   "outputs": [
    {
     "name": "stdout",
     "output_type": "stream",
     "text": [
      "[[10, 20, 30], [6, 7, 8]]\n",
      "[[10, 20, 30], [6, 7, 8]]\n",
      "140513380621888 140513380621888\n",
      "-------------------------\n"
     ]
    }
   ],
   "source": [
    "x = [[1,2,3], [6,7,8]]\n",
    "z = x\n",
    "z[0] = [10, 20, 30]\n",
    "\n",
    "print(x, z, sep='\\n')\n",
    "print(id(x[1]), id(z[1]))\n",
    "print(\"-\" * 25)"
   ]
  },
  {
   "cell_type": "code",
   "execution_count": 77,
   "id": "345d4696-6892-49a4-a5ed-6904ea2370a3",
   "metadata": {},
   "outputs": [
    {
     "name": "stdout",
     "output_type": "stream",
     "text": [
      "[[10 20 30]\n",
      " [ 6  7  8]]\n",
      "[[10 20 30]\n",
      " [ 6  7  8]]\n",
      "True\n",
      "105553133486128 105553133486128 int64\n",
      "-------------------------\n"
     ]
    }
   ],
   "source": [
    "x = np.array([[1,2,3], [6,7,8]])\n",
    "z = x[:]\n",
    "z[0] = [10, 20, 30]\n",
    "\n",
    "print(x, z, sep='\\n')\n",
    "print(np.may_share_memory(x, z))\n",
    "print(x.__array_interface__['data'][0], z.__array_interface__['data'][0], x.dtype)\n",
    "print(\"-\" * 25)"
   ]
  },
  {
   "cell_type": "code",
   "execution_count": 78,
   "id": "39b32746-4b4c-46b5-b2a3-6796cbdb99a3",
   "metadata": {},
   "outputs": [
    {
     "name": "stdout",
     "output_type": "stream",
     "text": [
      "[[ 1  2  3]\n",
      " [10 20 30]]\n",
      "[[10 20 30]]\n",
      "True\n",
      "105553148216352 105553148216364 int32\n",
      "-------------------------\n"
     ]
    }
   ],
   "source": [
    "x = np.array([[1,2,3], [6,7,8]], dtype=np.int32)\n",
    "z = x[1:]\n",
    "z[0] = [10, 20, 30]\n",
    "\n",
    "print(x, z, sep='\\n')\n",
    "print(np.may_share_memory(x, z))\n",
    "print(x.__array_interface__['data'][0], z.__array_interface__['data'][0], x.dtype)\n",
    "print(\"-\" * 25)"
   ]
  },
  {
   "cell_type": "markdown",
   "id": "68a3fdd5-aec8-416a-89ad-9ea7742bc93c",
   "metadata": {
    "jp-MarkdownHeadingCollapsed": true,
    "tags": []
   },
   "source": [
    "## single element index 사용"
   ]
  },
  {
   "cell_type": "markdown",
   "id": "afdc61fd-fc80-450c-afd4-27535aa4f57d",
   "metadata": {},
   "source": [
    "- single element index의 사용이 <u>1개 증가할 때 마다 배열의 차원(ndim)은 1씩 감소한다</u>\n",
    "- axis=0 부터 뒤쪽으로 콤마(,)를 기준으로 index 를 나열함\n",
    "- index 표기되지 않는 차원은 \"모두 선택\"\n",
    "- 예) 2차원 배열에서 a[n] 은 n번째 전체를 반환함\n",
    "- indexing 을 연속으로 진행한 것과 콤마(,) 나열은 같은 결과\n",
    "- 예) a[n][m] == a[n,m]"
   ]
  },
  {
   "cell_type": "code",
   "execution_count": 79,
   "id": "60087837-55f0-41da-97fb-49405a79538b",
   "metadata": {},
   "outputs": [
    {
     "name": "stdout",
     "output_type": "stream",
     "text": [
      "[[[0, 1], [2, 3], [4, 5]], [[6, 7], [8, 9], [10, 11]]]\n",
      "[[0, 1], [2, 3], [4, 5]]\n",
      "[0, 1]\n",
      "0\n",
      "(2, 3, 2)\n"
     ]
    }
   ],
   "source": [
    "a = np.arange(12).reshape(2,3,2)\n",
    "\n",
    "print(a.tolist())\n",
    "print(a[0].tolist())\n",
    "print(a[0,0].tolist())\n",
    "print(a[0,0,0])\n",
    "\n",
    "print(a.shape)"
   ]
  },
  {
   "cell_type": "markdown",
   "id": "3b7b7dd0-3fea-430e-9195-f7d44a0f7563",
   "metadata": {
    "jp-MarkdownHeadingCollapsed": true,
    "tags": []
   },
   "source": [
    "## slice & stride"
   ]
  },
  {
   "cell_type": "markdown",
   "id": "0da0b2a9-a888-42b8-9484-7eea8eafefeb",
   "metadata": {},
   "source": [
    "- arr[n:m:k]\n",
    "- n 부터 m-1 까지, k씩 건너 뛴 위치 요소로 구성된 배열 반환\n",
    "- n, m, k 는 생략 가능하며, 생략 시 n=0, m=len(arr), k=1\n",
    "- slice & stride 의 사용이 증가해도 <u>배열의 차원(ndim)은 변화 없음</u>\n",
    "- axis=0 부터 뒤쪽으로 콤마(,)를 기준으로 indexer 를 나열함\n",
    "- indexer 가 표기되지 않은 axis 는 \"모두 선택\"\n",
    "- `:` : 특정 axis 에 대해 모든 범위를 의미함\n",
    "- `...` : 나머지 모든 차원에 대해 모든 범위를 의미함\n",
    "    + a[..., 1] 에서 a의 shape 가 (2,3,2) 인 경우\n",
    "    + ... 은 면, 행 전체(axis 0과 1)를 의미하고 1 은 열(axis 2)에 대한 index 를 의미"
   ]
  },
  {
   "cell_type": "code",
   "execution_count": 80,
   "id": "092d9106-7f9f-4a77-a02f-a492fecc3cf0",
   "metadata": {},
   "outputs": [
    {
     "name": "stdout",
     "output_type": "stream",
     "text": [
      "[[[ 0  1]\n",
      "  [ 2  3]\n",
      "  [ 4  5]]\n",
      "\n",
      " [[ 6  7]\n",
      "  [ 8  9]\n",
      "  [10 11]]]\n",
      "[[[0, 1], [2, 3], [4, 5]], [[6, 7], [8, 9], [10, 11]]]\n",
      "[[[6, 7], [8, 9], [10, 11]]]\n",
      "[[[1, 0], [3, 2], [5, 4]], [[7, 6], [9, 8], [11, 10]]]\n",
      "[[[4, 5], [2, 3], [0, 1]], [[10, 11], [8, 9], [6, 7]]]\n"
     ]
    }
   ],
   "source": [
    "a = np.arange(12).reshape(2,3,2)\n",
    "\n",
    "print(a)\n",
    "\n",
    "print(a.tolist())\n",
    "print(a[1:].tolist())\n",
    "print(a[..., ::-1].tolist())\n",
    "print(a[:, ::-1].tolist())"
   ]
  },
  {
   "cell_type": "markdown",
   "id": "b6f770ff-cf8b-4bc2-915e-d04fc570aced",
   "metadata": {
    "jp-MarkdownHeadingCollapsed": true,
    "tags": []
   },
   "source": [
    "## index arrays"
   ]
  },
  {
   "cell_type": "markdown",
   "id": "19e9ea5d-f27c-4134-b675-76dfd44c49c1",
   "metadata": {},
   "source": [
    "- index array는 dtype=int 인 배열로, index 번호를 element 로 갖는 배열임\n",
    "- <u>index array의 형태에 따라 반환되는 배열의 ndim 이 원본과 동일하거나, 증가, 감소될 수 있음</u>"
   ]
  },
  {
   "cell_type": "markdown",
   "id": "565b1c21-c4e2-431f-9552-e98056013113",
   "metadata": {
    "jp-MarkdownHeadingCollapsed": true,
    "tags": []
   },
   "source": [
    "### 1차원"
   ]
  },
  {
   "cell_type": "markdown",
   "id": "4ccd2d19-67d2-423b-b029-7305247e299e",
   "metadata": {},
   "source": [
    "- index array 에 포함된 index 항목들로 구성된 배열 반환\n",
    "- a[ [0, 2, 4] ] 는 a 에서 0, 2, 4번 index 항목으로 구성된 배열 반환\n",
    "- index array 사용 시 주의 사항\n",
    "    + index 중복 사용 가능\n",
    "    + 2차원 이상의 index array 는 ndarray 를 사용 ([[[ -> 사용 불가능)"
   ]
  },
  {
   "cell_type": "code",
   "execution_count": 81,
   "id": "b325e120-f547-4109-91ab-f94f623c09ce",
   "metadata": {},
   "outputs": [
    {
     "name": "stdout",
     "output_type": "stream",
     "text": [
      "[0 1 2 3 4]\n",
      "-------------------------\n",
      "0 [0] <class 'numpy.ndarray'>\n",
      "[4 0 1 0]\n",
      "[[0 2 4]\n",
      " [1 3 3]]\n",
      "[[0 2 4]\n",
      " [1 3 3]]\n"
     ]
    }
   ],
   "source": [
    "import numpy as np\n",
    "\n",
    "a = np.arange(5)\n",
    "print(a)\n",
    "print(\"-\" * 25)\n",
    "\n",
    "print(a[0], a[[0]], type(a[[0]]))\n",
    "print(a[[-1, 0, 1, 0]])\n",
    "print(a[[[0,2,4], [1,3,3]]])\n",
    "print(a[np.array([[0,2,4], [1,3,3]])])"
   ]
  },
  {
   "cell_type": "markdown",
   "id": "d14cb27c-00d5-47ea-a049-4745cda0ad0e",
   "metadata": {
    "jp-MarkdownHeadingCollapsed": true,
    "tags": []
   },
   "source": [
    "### 2차원"
   ]
  },
  {
   "cell_type": "markdown",
   "id": "5d25fd26-491c-4292-96e9-c57a1266f578",
   "metadata": {},
   "source": [
    "- idx_a1, idx_a2의 같은 위치 항들이 묶여 위치 정보가 됨\n",
    "- 다차원이 되면 콤마(,)로 나열하며, 동일 길이로 구성되어야 함\n",
    "- a가 2D array 인 경우\n",
    "    + a[ [0,0,1], [2,3,1] ] 은 [0.2], [0,3], [1,1]항을 배열로 반환\n",
    "    + a[ [0,1],0 ] : a[ [0,0], [1,0] ] (broadcasting) [0.0], [1,0] 항 반환"
   ]
  },
  {
   "cell_type": "code",
   "execution_count": 82,
   "id": "ca0bc371-1d78-4dca-b573-f3c8f20ed994",
   "metadata": {},
   "outputs": [
    {
     "name": "stdout",
     "output_type": "stream",
     "text": [
      "[[ 0  1  2  3]\n",
      " [ 4  5  6  7]\n",
      " [ 8  9 10 11]]\n",
      "[2 3 5]\n",
      "[0 4]\n"
     ]
    }
   ],
   "source": [
    "a = np.arange(12).reshape(3, -1)\n",
    "\n",
    "print(a)\n",
    "\n",
    "print(a[[0,0,1], [2,3,1]])\n",
    "print(a[[0,1], 0])"
   ]
  },
  {
   "cell_type": "code",
   "execution_count": 83,
   "id": "582e16f6-a8a0-4c41-8992-094939494121",
   "metadata": {},
   "outputs": [
    {
     "name": "stdout",
     "output_type": "stream",
     "text": [
      "[[[ 0  1]\n",
      "  [ 2  3]\n",
      "  [ 4  5]]\n",
      "\n",
      " [[ 6  7]\n",
      "  [ 8  9]\n",
      "  [10 11]]]\n",
      "[ 0  3  8 10]\n"
     ]
    }
   ],
   "source": [
    "a = np.arange(12).reshape(2,3,-1)\n",
    "print(a)\n",
    "\n",
    "# [0, 3, 8, 10]\n",
    "print(a[ [0,0,1,1],[0,1,1,2],[0,1,0,0] ])"
   ]
  },
  {
   "cell_type": "code",
   "execution_count": 84,
   "id": "a68b0308-eb0c-4c76-a3e0-48a8efac9246",
   "metadata": {},
   "outputs": [
    {
     "name": "stdout",
     "output_type": "stream",
     "text": [
      "[[ 0  1  2]\n",
      " [ 3  4  5]\n",
      " [ 6  7  8]\n",
      " [ 9 10 11]] (4, 3)\n",
      "[[1 3]\n",
      " [8 9]]\n",
      "[[1 3]\n",
      " [8 9]]\n"
     ]
    }
   ],
   "source": [
    "a = np.arange(12).reshape(4,-1)\n",
    "print(a, a.shape)\n",
    "\n",
    "# [ [1,3], [8,9] ]\n",
    "#\n",
    "# [0,1],[1,0],[2,2],[3,0] - single element index\n",
    "#\n",
    "# [0,1,2,3],[1,0,2,0] - array index [row][column]\n",
    "#\n",
    "# [[0,1],[2,3]],[[1,0],[2,0]] - + dimension for array index \n",
    "print(a[[[0,1],[2,3]],[[1,0],[2,0]]])\n",
    "print(a[np.array([[0,1],[2,3]]), np.array([[1,0],[2,0]])])"
   ]
  },
  {
   "cell_type": "markdown",
   "id": "9cab7b96-2c28-4f99-a027-36b55edfb23a",
   "metadata": {
    "jp-MarkdownHeadingCollapsed": true,
    "tags": []
   },
   "source": [
    "## boolean array 의 사용"
   ]
  },
  {
   "cell_type": "markdown",
   "id": "35658b16-26fa-41a5-8593-d8d3293eed5f",
   "metadata": {},
   "source": [
    "- boolean array 는 원본 배열과 동일한 shape 의 dtype=bool 인 배열\n",
    "- 원본에서 boolean array 가 True 인 위치의 것만을 대상으로 배열이 반환됨\n",
    "- boolean array 는 ndarray, list 등으로 작성하거나, 연산의 결과일 수 있음\n",
    "- 주로 결과가 True/False 인 비교연산식을 사용하여 작성함\n",
    "- 복잡한 조건은 `np.logical_and()`, `np.logical_or()`, `np.logical_not()` 활용\n",
    "- boolean array 와 &, |, ~ 연산자를 사용하여 조건 작성 가능 (괄호 사용 중요)"
   ]
  },
  {
   "cell_type": "code",
   "execution_count": 85,
   "id": "791b72e8-0f64-4f90-9e53-b281c65dfd75",
   "metadata": {},
   "outputs": [
    {
     "name": "stdout",
     "output_type": "stream",
     "text": [
      "[1 2 3 4 5 6]\n",
      "[1 3 4 6]\n",
      "[1 0 1 0 1 0]\n",
      "[False  True False  True False  True]\n",
      "[2 4 6]\n",
      "[2 1 2 1 2 1]\n"
     ]
    }
   ],
   "source": [
    "a = np.arange(1, 7)\n",
    "b = np.array([True, False, True, True, False, True])\n",
    "\n",
    "print(a)\n",
    "print(a[b])\n",
    "print(a%2)\n",
    "print(a%2 == 0)\n",
    "print(a[a%2 == 0])\n",
    "print(a[a%2])"
   ]
  },
  {
   "cell_type": "code",
   "execution_count": 86,
   "id": "77f6d057-81c9-4ae4-92c1-0afa85e1d723",
   "metadata": {},
   "outputs": [],
   "source": [
    "def printary(w1, w2, ary, *, sep='|'):\n",
    "    for x in ary.split(sep):\n",
    "        x = x.strip()\n",
    "        t = eval(x)\n",
    "        print(f'%-{w1}s %-{w2}s %s' % (x, t.shape, t.tolist()))\n",
    "    print(\"-\" * 30)"
   ]
  },
  {
   "cell_type": "code",
   "execution_count": 87,
   "id": "66c5ea71-2596-48ed-b888-0a1f19af9b28",
   "metadata": {},
   "outputs": [
    {
     "name": "stdout",
     "output_type": "stream",
     "text": [
      "a          (10,)   [7, 9, 4, 8, 1, 6, 0, 5, 3, 2]\n",
      "a[a%2==0]  (5,)    [4, 8, 6, 0, 2]\n",
      "------------------------------\n",
      "a          (10,)   [7, 9, 4, 8, 1, 6, 0, 5, 3, 2]\n",
      "a[a>=4]    (6,)    [7, 9, 4, 8, 6, 5]\n",
      "------------------------------\n"
     ]
    }
   ],
   "source": [
    "a = np.random.permutation(10)\n",
    "printary(10, 7, \"a | a[a%2==0]\")\n",
    "printary(10, 7, \"a | a[a>=4]\")"
   ]
  },
  {
   "cell_type": "code",
   "execution_count": 88,
   "id": "222e786d-a263-46e4-9604-4e76cd573d78",
   "metadata": {},
   "outputs": [
    {
     "name": "stdout",
     "output_type": "stream",
     "text": [
      "a[np.logical_or(a%3==0, a%2==0)] (7,)    [9, 4, 8, 6, 0, 3, 2]\n",
      "------------------------------\n",
      "a[(a%3==0) | (a%2==0)]           (7,)    [9, 4, 8, 6, 0, 3, 2]\n",
      "------------------------------\n"
     ]
    }
   ],
   "source": [
    "printary(32, 7, \"a[np.logical_or(a%3==0, a%2==0)]\")\n",
    "printary(32, 7, \"a[(a%3==0) | (a%2==0)]\", sep='+')"
   ]
  },
  {
   "cell_type": "code",
   "execution_count": 89,
   "id": "e03863dd-a6eb-4daa-84fd-9c32ecf16096",
   "metadata": {},
   "outputs": [
    {
     "name": "stdout",
     "output_type": "stream",
     "text": [
      "a[np.logical_and(a>=6, a<=9)]    (4,)    [7, 9, 8, 6]\n",
      "------------------------------\n",
      "a[(a>=6) & (a<=9)]               (4,)    [7, 9, 8, 6]\n",
      "------------------------------\n"
     ]
    }
   ],
   "source": [
    "printary(32, 7, \"a[np.logical_and(a>=6, a<=9)]\")\n",
    "printary(32, 7, \"a[(a>=6) & (a<=9)]\", sep='+')"
   ]
  },
  {
   "cell_type": "code",
   "execution_count": 90,
   "id": "709e0c36-f09a-48b8-acbb-3386da058d2e",
   "metadata": {},
   "outputs": [
    {
     "name": "stdout",
     "output_type": "stream",
     "text": [
      "a[np.logical_not(a%3==0)]        (6,)    [7, 4, 8, 1, 5, 2]\n",
      "------------------------------\n",
      "a[~(a%3==0)]                     (6,)    [7, 4, 8, 1, 5, 2]\n",
      "------------------------------\n"
     ]
    }
   ],
   "source": [
    "printary(32, 7, \"a[np.logical_not(a%3==0)]\")\n",
    "printary(32, 7, \"a[~(a%3==0)]\", sep='+')"
   ]
  },
  {
   "cell_type": "code",
   "execution_count": 91,
   "id": "17068080-f743-4934-aa59-036d344012a2",
   "metadata": {},
   "outputs": [
    {
     "name": "stdout",
     "output_type": "stream",
     "text": [
      "[7 9 4 8 1 6 0 5 3 2]\n",
      "[ 7 -1  4  8  1 -1 -1  5 -1  2]\n"
     ]
    }
   ],
   "source": [
    "print(a)\n",
    "a[a%3==0] = -1\n",
    "print(a)"
   ]
  },
  {
   "cell_type": "markdown",
   "id": "267eaa59-5a2a-46b5-93db-042201c2945b",
   "metadata": {
    "jp-MarkdownHeadingCollapsed": true,
    "tags": []
   },
   "source": [
    "## combine index & slice"
   ]
  },
  {
   "cell_type": "markdown",
   "id": "d180e479-f25b-4a1b-8a4a-36fef5586bc9",
   "metadata": {},
   "source": [
    "- single element index (0, -1 등) : 사용할수록 차원(ndim)이 감소\n",
    "- slice & stride : 사용하더라도 차원(ndim) 변화 없음\n",
    "- array index : 사용 시 차원(ndim) 유지 또는 확대/감소"
   ]
  },
  {
   "cell_type": "code",
   "execution_count": 92,
   "id": "226b458f-a967-48d7-a97f-3c8141cc3eca",
   "metadata": {},
   "outputs": [
    {
     "name": "stdout",
     "output_type": "stream",
     "text": [
      "[[ 1  3]\n",
      " [ 5  7]\n",
      " [ 9 11]]\n"
     ]
    }
   ],
   "source": [
    "b = np.arange(1, 12, 2).reshape(3, -1)\n",
    "print(b)"
   ]
  },
  {
   "cell_type": "code",
   "execution_count": 93,
   "id": "3820fbf4-2379-4070-b936-1cf9c0309566",
   "metadata": {},
   "outputs": [
    {
     "data": {
      "text/plain": [
       "(array([[ 3],\n",
       "        [ 7],\n",
       "        [11]]),\n",
       " [[3], [7], [11]])"
      ]
     },
     "execution_count": 93,
     "metadata": {},
     "output_type": "execute_result"
    }
   ],
   "source": [
    "b[:, [-1]], b[:, [-1]].tolist()\n",
    "# print(b[:, [-1]].shape)"
   ]
  },
  {
   "cell_type": "code",
   "execution_count": 94,
   "id": "a31efb49-0036-40e4-8faa-d294260717ee",
   "metadata": {},
   "outputs": [
    {
     "data": {
      "text/plain": [
       "(array([ 3,  7, 11]), [3, 7, 11])"
      ]
     },
     "execution_count": 94,
     "metadata": {},
     "output_type": "execute_result"
    }
   ],
   "source": [
    "b[:, -1], b[:, -1].tolist()\n",
    "# print(b[:, -1].shape)"
   ]
  },
  {
   "cell_type": "code",
   "execution_count": 95,
   "id": "617a0239-08cb-4ad9-bc33-bfb4cc7f94d0",
   "metadata": {},
   "outputs": [
    {
     "name": "stdout",
     "output_type": "stream",
     "text": [
      "[[[ 0  1]\n",
      "  [ 2  3]\n",
      "  [ 4  5]]\n",
      "\n",
      " [[ 6  7]\n",
      "  [ 8  9]\n",
      "  [10 11]]] (2, 3, 2)\n"
     ]
    }
   ],
   "source": [
    "c = np.arange(12).reshape(2, 3, 2)\n",
    "print(c, c.shape)"
   ]
  },
  {
   "cell_type": "code",
   "execution_count": 96,
   "id": "10c30c3f-53d2-4fd7-9be8-bfffa1900699",
   "metadata": {},
   "outputs": [
    {
     "data": {
      "text/plain": [
       "(array([[ 4,  5],\n",
       "        [10, 11]]),\n",
       " (2, 2))"
      ]
     },
     "execution_count": 96,
     "metadata": {},
     "output_type": "execute_result"
    }
   ],
   "source": [
    "# slice index: 차원 감소 없음, single element index: 차원 감소\n",
    "c[:, -1], c[:, -1].shape"
   ]
  },
  {
   "cell_type": "code",
   "execution_count": 97,
   "id": "6f7438b8-14e0-495d-a5b1-498e7db80bf8",
   "metadata": {},
   "outputs": [
    {
     "data": {
      "text/plain": [
       "(array([[ 1,  3,  5],\n",
       "        [ 7,  9, 11]]),\n",
       " (2, 3))"
      ]
     },
     "execution_count": 97,
     "metadata": {},
     "output_type": "execute_result"
    }
   ],
   "source": [
    "# slice index: 차원 감소 없음, single element index: 차원 감소\n",
    "c[..., -1], c[..., -1].shape"
   ]
  },
  {
   "cell_type": "code",
   "execution_count": 98,
   "id": "4a130371-0bff-43fa-ab18-a0bb5a2b19a5",
   "metadata": {},
   "outputs": [
    {
     "data": {
      "text/plain": [
       "(array([[[ 0],\n",
       "         [ 2],\n",
       "         [ 4]],\n",
       " \n",
       "        [[ 6],\n",
       "         [ 8],\n",
       "         [10]]]),\n",
       " (2, 3, 1))"
      ]
     },
     "execution_count": 98,
     "metadata": {},
     "output_type": "execute_result"
    }
   ],
   "source": [
    "# slice index: 차원 감소 없음\n",
    "c[..., :1], c[..., :1].shape"
   ]
  },
  {
   "cell_type": "code",
   "execution_count": 99,
   "id": "b297f9de-2783-4fb0-a5fe-5cb91d7ba297",
   "metadata": {},
   "outputs": [
    {
     "data": {
      "text/plain": [
       "(array([[2, 3]]), (1, 2))"
      ]
     },
     "execution_count": 99,
     "metadata": {},
     "output_type": "execute_result"
    }
   ],
   "source": [
    "# array index: 차원 감소 없음 또는 증가, single element index: 차원 감소\n",
    "c[[0], 1],c[[0], 1].shape"
   ]
  },
  {
   "cell_type": "code",
   "execution_count": 100,
   "id": "a97a4527-ce05-4937-9c1f-61231c1b681b",
   "metadata": {},
   "outputs": [
    {
     "data": {
      "text/plain": [
       "(array([[[2, 3],\n",
       "         [4, 5]]]),\n",
       " (1, 2, 2))"
      ]
     },
     "execution_count": 100,
     "metadata": {},
     "output_type": "execute_result"
    }
   ],
   "source": [
    "# array index: 차원 감소 없음 또는 증가, slice index: 차원 감소 없음\n",
    "c[[0], 1:], c[[0], 1:].shape"
   ]
  },
  {
   "cell_type": "markdown",
   "id": "c49b8d90-b305-4d1e-a1be-6e25e69fa2c3",
   "metadata": {
    "jp-MarkdownHeadingCollapsed": true,
    "tags": []
   },
   "source": [
    "## indexing 활용"
   ]
  },
  {
   "cell_type": "code",
   "execution_count": 101,
   "id": "e8616d8e-cfbf-4b43-a96d-ab8a45953a1e",
   "metadata": {},
   "outputs": [
    {
     "name": "stdout",
     "output_type": "stream",
     "text": [
      "[[ 0 -1  4]\n",
      " [-2  3  2]\n",
      " [ 1  2 -1]\n",
      " [-4  3 -2]]\n"
     ]
    }
   ],
   "source": [
    "aN3 = np.array([[0,-1,4], [-2,3,2], [1,2,-1], [-4,3,-2]])\n",
    "print(aN3)"
   ]
  },
  {
   "cell_type": "code",
   "execution_count": 102,
   "id": "62c267ac-f618-4a69-bd65-580faa163b44",
   "metadata": {},
   "outputs": [
    {
     "data": {
      "text/plain": [
       "array([[-1,  0,  4],\n",
       "       [ 3, -2,  2],\n",
       "       [ 2,  1, -1],\n",
       "       [ 3, -4, -2]])"
      ]
     },
     "execution_count": 102,
     "metadata": {},
     "output_type": "execute_result"
    }
   ],
   "source": [
    "aN3[:, [1,0,2]]"
   ]
  },
  {
   "cell_type": "code",
   "execution_count": 103,
   "id": "d6a80c45-5e7a-4e12-8b20-1a081897ab49",
   "metadata": {},
   "outputs": [
    {
     "data": {
      "text/plain": [
       "array([[-2,  3,  2],\n",
       "       [-4,  3, -2]])"
      ]
     },
     "execution_count": 103,
     "metadata": {},
     "output_type": "execute_result"
    }
   ],
   "source": [
    "aN3[aN3[:,0] < 0]"
   ]
  },
  {
   "cell_type": "code",
   "execution_count": 104,
   "id": "83528374-59c1-4f96-a41f-7fb6f616ca5c",
   "metadata": {},
   "outputs": [
    {
     "data": {
      "text/plain": [
       "array([[ 3,  2],\n",
       "       [ 3, -2]])"
      ]
     },
     "execution_count": 104,
     "metadata": {},
     "output_type": "execute_result"
    }
   ],
   "source": [
    "aN3[aN3[:,0] < 0, 1:]"
   ]
  },
  {
   "cell_type": "code",
   "execution_count": 105,
   "id": "22222db4-91f6-4c7e-b2bd-e076da349f8b",
   "metadata": {},
   "outputs": [
    {
     "name": "stdout",
     "output_type": "stream",
     "text": [
      "[[ 0 -1  4]\n",
      " [-2  3  2]\n",
      " [ 1  2 -1]\n",
      " [-4  3 -2]]\n"
     ]
    }
   ],
   "source": [
    "a3N = np.array([[x] * 3 for x in range(3)])\n",
    "print(aN3)"
   ]
  },
  {
   "cell_type": "code",
   "execution_count": 106,
   "id": "2753ee33-1b10-4a85-9a3f-4a5ed535b0db",
   "metadata": {},
   "outputs": [
    {
     "data": {
      "text/plain": [
       "array([[0, 0, 0],\n",
       "       [2, 2, 2],\n",
       "       [1, 1, 1]])"
      ]
     },
     "execution_count": 106,
     "metadata": {},
     "output_type": "execute_result"
    }
   ],
   "source": [
    "a3N[[0,2,1], :]"
   ]
  },
  {
   "cell_type": "code",
   "execution_count": 107,
   "id": "dcca2428-a0e8-404a-947f-70c9685ba62d",
   "metadata": {},
   "outputs": [
    {
     "name": "stdout",
     "output_type": "stream",
     "text": [
      "[0 1 2]\n"
     ]
    }
   ],
   "source": [
    "aN = np.arange(3)\n",
    "print(aN)"
   ]
  },
  {
   "cell_type": "code",
   "execution_count": 108,
   "id": "f1b84fb6-a439-41da-8f76-5f24432fb2a9",
   "metadata": {},
   "outputs": [
    {
     "data": {
      "text/plain": [
       "array([[0],\n",
       "       [1],\n",
       "       [2]])"
      ]
     },
     "execution_count": 108,
     "metadata": {},
     "output_type": "execute_result"
    }
   ],
   "source": [
    "aN.reshape(-1,1)"
   ]
  },
  {
   "cell_type": "code",
   "execution_count": 109,
   "id": "ae6be768-9adf-4e79-86f3-ebb72fa37c82",
   "metadata": {},
   "outputs": [
    {
     "data": {
      "text/plain": [
       "array([[0],\n",
       "       [1],\n",
       "       [2]])"
      ]
     },
     "execution_count": 109,
     "metadata": {},
     "output_type": "execute_result"
    }
   ],
   "source": [
    "aN[:, None]"
   ]
  },
  {
   "cell_type": "code",
   "execution_count": 110,
   "id": "5135bbf2-7d40-40a9-acf9-789ff3a0f238",
   "metadata": {},
   "outputs": [
    {
     "data": {
      "text/plain": [
       "array([[0],\n",
       "       [1],\n",
       "       [2]])"
      ]
     },
     "execution_count": 110,
     "metadata": {},
     "output_type": "execute_result"
    }
   ],
   "source": [
    "aN[:, np.newaxis]"
   ]
  },
  {
   "cell_type": "markdown",
   "id": "ac56e44d-097b-40d4-bc3b-55e885d60717",
   "metadata": {
    "jp-MarkdownHeadingCollapsed": true,
    "tags": []
   },
   "source": [
    "# ndarray 유용한 필수 함수"
   ]
  },
  {
   "cell_type": "markdown",
   "id": "a5857a01-b958-48ce-85ab-1796b1b49ee4",
   "metadata": {
    "jp-MarkdownHeadingCollapsed": true,
    "tags": []
   },
   "source": [
    "## 정수값과 관련있는 난수 발생\n",
    "- `np.random.seed(정수)`\n",
    "- 정수가 값으면 항상 같은 난수가 발생됨\n",
    "- `np.random.randint(start, stop, size=shape)`\n",
    "- start ~ stop-1 까지의 정수로 구성된 size 모양의 난수 배열 반환\n",
    "- 1차원인 경우 size 에 정수 사용 가능"
   ]
  },
  {
   "cell_type": "code",
   "execution_count": 111,
   "id": "bcebf49a-2ce5-4326-a249-c04676c44b6b",
   "metadata": {},
   "outputs": [
    {
     "name": "stdout",
     "output_type": "stream",
     "text": [
      "[[4 2 1 4]\n",
      " [3 2 1 4]\n",
      " [3 1 3 1]]\n"
     ]
    }
   ],
   "source": [
    "import numpy as np\n",
    "\n",
    "# np.random.seed(101)\n",
    "x = np.random.randint(1, 5, size=(3,4))\n",
    "print(x)"
   ]
  },
  {
   "cell_type": "markdown",
   "id": "272ba823-9a8e-4f69-a30d-b3bab10105ed",
   "metadata": {
    "jp-MarkdownHeadingCollapsed": true,
    "tags": []
   },
   "source": [
    "## ndarray 객체 순서 무작위 변경\n",
    "- `np.random.shuffle(ndarray 객체)`\n",
    "- None 반환\n",
    "- 다차원 ndarray 의 경우 가장 상위 차원만이 shuffle 됨"
   ]
  },
  {
   "cell_type": "code",
   "execution_count": 112,
   "id": "23656188-6db6-4682-af34-1f732d222b92",
   "metadata": {},
   "outputs": [
    {
     "name": "stdout",
     "output_type": "stream",
     "text": [
      "[7 2 1 4 8 0 6 9 3 5]\n",
      "[0 6 2 7 8 5 1 9 3 4]\n"
     ]
    }
   ],
   "source": [
    "a = np.arange(10)\n",
    "# a = np.array([[1,2,3], [4,5,6], [3,4,5], [7,1,5]])\n",
    "np.random.shuffle(a)\n",
    "print(a)\n",
    "\n",
    "b = np.random.permutation(10)\n",
    "print(b)"
   ]
  },
  {
   "cell_type": "markdown",
   "id": "f99f91b6-dc91-470a-8ea4-86f54d15057f",
   "metadata": {
    "jp-MarkdownHeadingCollapsed": true,
    "tags": []
   },
   "source": [
    "## 중복 값 제거된 배열 생성\n",
    "- `np.unique(a, return_counts=False)`\n",
    "- a 가 다차원 배열인 경우 1차원으로 변경되어 작업됨\n",
    "- return_counts 인수가 True 로 설정하면 각 데이터 개수의 ndarray 배열도 생성하여 반환\n",
    "    + (중복 값 제거된 배열, 각 데이터 개수의 배열) tuple 로 반환"
   ]
  },
  {
   "cell_type": "code",
   "execution_count": 113,
   "id": "e320432f-0f53-4fdf-8251-61c0706df7ec",
   "metadata": {},
   "outputs": [],
   "source": [
    "np.random.seed(1000)\n",
    "\n",
    "a = np.random.randint(1, 100000, size= 200000)\n",
    "b = a.reshape(1000, -1)"
   ]
  },
  {
   "cell_type": "code",
   "execution_count": 114,
   "id": "5ffb8492-15d1-40c4-9924-6bcaacfb88ad",
   "metadata": {},
   "outputs": [
    {
     "name": "stdout",
     "output_type": "stream",
     "text": [
      "size=86439\n",
      "[    1     2     3 ... 99996 99998 99999]\n",
      "size=86439\n",
      "[    1     2     3 ... 99996 99998 99999]\n"
     ]
    }
   ],
   "source": [
    "x1 = np.unique(a)\n",
    "x2 = np.unique(b)\n",
    "print(f'size={len(x1)}', x1, sep=\"\\n\")\n",
    "print(f'size={len(x2)}', x2, sep=\"\\n\")"
   ]
  },
  {
   "cell_type": "code",
   "execution_count": 115,
   "id": "1df93561-0cbe-4411-aee6-139fec625233",
   "metadata": {},
   "outputs": [
    {
     "name": "stdout",
     "output_type": "stream",
     "text": [
      "[1 2 3 5]\n",
      "[list([1, 2, 3]) list([1, 3])]\n"
     ]
    },
    {
     "name": "stderr",
     "output_type": "stream",
     "text": [
      "/opt/anaconda3/lib/python3.9/site-packages/numpy/lib/arraysetops.py:272: VisibleDeprecationWarning: Creating an ndarray from ragged nested sequences (which is a list-or-tuple of lists-or-tuples-or ndarrays with different lengths or shapes) is deprecated. If you meant to do this, you must specify 'dtype=object' when creating the ndarray.\n",
      "  ar = np.asanyarray(ar)\n"
     ]
    }
   ],
   "source": [
    "c = [ [1,2,3], [1,2,3], [1,3,5] ]\n",
    "d = [ [1,2,3], [1,2,3], [1,3] ]\n",
    "\n",
    "x3 = np.unique(c)\n",
    "x4 = np.unique(d)\n",
    "\n",
    "print(x3, x4, sep=\"\\n\")"
   ]
  },
  {
   "cell_type": "code",
   "execution_count": 116,
   "id": "a1917f78-c1ec-400c-a5d0-306705466083",
   "metadata": {},
   "outputs": [
    {
     "name": "stdout",
     "output_type": "stream",
     "text": [
      "[1 2 3 5]\n",
      "[3 2 3 1]\n"
     ]
    }
   ],
   "source": [
    "x5, rcount = np.unique(c, return_counts=True)\n",
    "print(x5, rcount, sep=\"\\n\")"
   ]
  },
  {
   "cell_type": "markdown",
   "id": "ed662752-7062-4860-a526-c3a9f759478a",
   "metadata": {
    "jp-MarkdownHeadingCollapsed": true,
    "tags": []
   },
   "source": [
    "## 배열에서 가장 큰/작은 요소의 index 번호\n",
    "- `np.argmax(a)`\n",
    "- `np.argmin(a)`\n",
    "- index 번호는 0번부터 시작\n",
    "- 2차원 이상인 경우 1차원으로 변경하여 작업 진행됨"
   ]
  },
  {
   "cell_type": "code",
   "execution_count": 117,
   "id": "bf6bd65a-e0f8-4536-9edc-1f1c17159484",
   "metadata": {},
   "outputs": [
    {
     "name": "stdout",
     "output_type": "stream",
     "text": [
      "[47 83 38 53 76 24 15 49 23 26 30 43]\n",
      "[[[47 83]\n",
      "  [38 53]\n",
      "  [76 24]]\n",
      "\n",
      " [[15 49]\n",
      "  [23 26]\n",
      "  [30 43]]]\n"
     ]
    }
   ],
   "source": [
    "np.random.seed(1234)\n",
    "\n",
    "x1 = np.random.randint(100, size=12)\n",
    "x2 = x1.reshape(2,3,2)\n",
    "\n",
    "print(x1, x2, sep=\"\\n\")"
   ]
  },
  {
   "cell_type": "code",
   "execution_count": 118,
   "id": "d3c5e63d-4b28-4002-8d7e-97a5f7928a5c",
   "metadata": {},
   "outputs": [
    {
     "name": "stdout",
     "output_type": "stream",
     "text": [
      "x1 - argmax : 1, argmin : 6\n",
      "x2 - argmax : 1, argmin : 6\n"
     ]
    }
   ],
   "source": [
    "print(f'x1 - argmax : {np.argmax(x1)}, argmin : {np.argmin(x1)}')\n",
    "print(f'x2 - argmax : {np.argmax(x2)}, argmin : {np.argmin(x2)}')"
   ]
  },
  {
   "cell_type": "markdown",
   "id": "0cc27ba8-fd4f-439c-a281-7084450339d2",
   "metadata": {
    "jp-MarkdownHeadingCollapsed": true,
    "tags": []
   },
   "source": [
    "## min보다 작은 값을 min으로 max보다 큰 값을 max으로 변경\n",
    "- `np.clip(a, min, max, out=None)`\n",
    "- 새로운 배열 반환, out에 a 와 동일한 크기의 배열 지정 가능\n",
    "- out 사용 시, out에 지정된 배열로도 결과가 반환됨 (배열 내용 변경)"
   ]
  },
  {
   "cell_type": "code",
   "execution_count": 119,
   "id": "8b8ca9d8-86c7-49fd-bf9f-becc31fe3f56",
   "metadata": {},
   "outputs": [
    {
     "name": "stdout",
     "output_type": "stream",
     "text": [
      "[34 56 57 55 46 48 34 58 44 35]\n",
      "[35 55 55 55 46 48 35 55 44 35]\n"
     ]
    }
   ],
   "source": [
    "np.random.seed(150)\n",
    "\n",
    "x = np.random.randint(30, 60, 10)\n",
    "y1 = np.clip(x, 35, 55)\n",
    "\n",
    "print(x, y1, sep=\"\\n\")"
   ]
  },
  {
   "cell_type": "code",
   "execution_count": 120,
   "id": "423fc116-8d70-4a14-bac0-b89506fd8c24",
   "metadata": {},
   "outputs": [
    {
     "name": "stdout",
     "output_type": "stream",
     "text": [
      "[35 55 55 55 46 48 35 55 44 35]\n",
      "[35 55 55 55 46 48 35 55 44 35]\n"
     ]
    }
   ],
   "source": [
    "y2 = np.clip(x, 35, 55, out=x)\n",
    "\n",
    "print(x, y2, sep=\"\\n\")"
   ]
  },
  {
   "cell_type": "markdown",
   "id": "1ed088c8-776f-49e6-8575-5fe1497e5a97",
   "metadata": {
    "jp-MarkdownHeadingCollapsed": true,
    "tags": []
   },
   "source": [
    "## 조건에 따른 데이터 선택\n",
    "- `np.where(조건, [,c,d])`\n",
    "- 조건: 참, 거짓(=0, False, None)으로 이루어진 배열 또는 스칼라\n",
    "- 조건 배열이 참일 떄 c, 거짓일 떄 d 를 취한 배열 반환 (c, d 는 스칼라 가능)\n",
    "- c, d 생략 시 조건이 참인 것에 대한 index 배열 (ndarray) tuple 반환 (ndarry, ndarry, ...) 의 형태\n",
    "- 조건 배열의 ndim == len(tuple)\n",
    "- 복잡한 조건은 ~, &, | 및 `np.logical_not()`, `np.logical_and()`, `np.logical_or()` 사용"
   ]
  },
  {
   "cell_type": "code",
   "execution_count": 121,
   "id": "7d304170-f613-4e5c-9f4a-8e444808fe62",
   "metadata": {},
   "outputs": [
    {
     "name": "stdout",
     "output_type": "stream",
     "text": [
      "[4 8 2 5]\n",
      "[3 9 1 7]\n"
     ]
    }
   ],
   "source": [
    "a = np.array([4, 8, 2, 5])\n",
    "b = np.array([3, 9, 1, 7])\n",
    "\n",
    "print(np.where(True, a, b))\n",
    "print(np.where(False, a, b))"
   ]
  },
  {
   "cell_type": "code",
   "execution_count": 122,
   "id": "3d474d1b-d8b2-4b1a-97e5-180701a8c8d3",
   "metadata": {},
   "outputs": [
    {
     "name": "stdout",
     "output_type": "stream",
     "text": [
      "[[3 2]\n",
      " [9 7]]\n"
     ]
    }
   ],
   "source": [
    "print(np.where([[True, False],[False, True]], \n",
    "               [[3,4],[5,7]], \n",
    "               [[1,2],[9,2]]))"
   ]
  },
  {
   "cell_type": "code",
   "execution_count": 123,
   "id": "030871e3-98c5-49a6-be8e-1f3ea6294a91",
   "metadata": {},
   "outputs": [
    {
     "name": "stdout",
     "output_type": "stream",
     "text": [
      "(array([0, 1]), array([0, 1]))\n"
     ]
    }
   ],
   "source": [
    "# True 의 위치를 가진 array의 tuple 반환\n",
    "print(np.where([[True, False],[False, True]]))"
   ]
  },
  {
   "cell_type": "markdown",
   "id": "a38d128a-7f74-4916-8b26-ccff6c0fd000",
   "metadata": {
    "jp-MarkdownHeadingCollapsed": true,
    "tags": []
   },
   "source": [
    "## 통계값 함수들\n",
    "- axis 를 0 또는 1로 지정할 경우\n",
    "- axis=0 은 index 방향으로 연산, axis=1은 column 방향으로 연산한 값을 배열로 반환함\n",
    "- ndarray 에서 동일 동작을 하는 동일 이름의 method 있음 (`arr.mean()`)\n",
    "- `np.sum(a, axis=None)` : 배열 내 모든 원소의 핪을 스칼라 값으로 반환\n",
    "- `np.mean(a, axis=None)` : 배열 내 모든 원소의 평균을 스칼라 값으로 반환\n",
    "- `np.median(a, axis=None)` : 중앙값\n",
    "- `np.std(a, axis=None)` : 배열 내 모든 원소의 표준편차를 스칼라 값으로 반환\n",
    "- `np.var(a, axis=None)` : 분산\n",
    "- `np.any(a, axis=None)` : 배열의 원소들 중 참이 하나라도 있으면 True 반환\n",
    "- `np.all(a, axis=None)` : 배열의 모든 원소가 참인 경우 True 반환"
   ]
  },
  {
   "cell_type": "code",
   "execution_count": 124,
   "id": "0e0ca0cf-df14-414d-859b-822b5f782833",
   "metadata": {},
   "outputs": [],
   "source": [
    "def printary(*a):\n",
    "    for x in a:\n",
    "        print(x)\n",
    "        print(\"-\" * 30)"
   ]
  },
  {
   "cell_type": "code",
   "execution_count": 125,
   "id": "9117cf05-fb82-4600-8282-bb524d52d513",
   "metadata": {},
   "outputs": [
    {
     "name": "stdout",
     "output_type": "stream",
     "text": [
      "[[1 2 3]\n",
      " [4 5 6]]\n",
      "------------------------------\n",
      "21\n",
      "------------------------------\n",
      "[5 7 9]\n",
      "------------------------------\n",
      "[ 6 15]\n",
      "------------------------------\n"
     ]
    }
   ],
   "source": [
    "a = np.arange(1,7).reshape((2,3))\n",
    "\n",
    "b = a.sum()\n",
    "c = a.sum(axis=0)\n",
    "d = a.sum(axis=1)\n",
    "\n",
    "printary(a, b, c, d)"
   ]
  },
  {
   "cell_type": "code",
   "execution_count": 126,
   "id": "6a5d2042-9bd2-495a-8c77-24ea20a6c547",
   "metadata": {},
   "outputs": [
    {
     "name": "stdout",
     "output_type": "stream",
     "text": [
      "[[1 2 3]\n",
      " [4 5 6]]\n",
      "------------------------------\n",
      "3.5\n",
      "------------------------------\n",
      "[2.5 3.5 4.5]\n",
      "------------------------------\n",
      "[2. 5.]\n",
      "------------------------------\n"
     ]
    }
   ],
   "source": [
    "a = np.arange(1,7).reshape((2,3))\n",
    "\n",
    "b = a.mean()\n",
    "c = a.mean(axis=0)\n",
    "d = a.mean(axis=1)\n",
    "\n",
    "printary(a, b, c, d)"
   ]
  },
  {
   "cell_type": "code",
   "execution_count": 127,
   "id": "bda7e33c-1efc-47b1-873f-4a4858728d74",
   "metadata": {},
   "outputs": [
    {
     "name": "stdout",
     "output_type": "stream",
     "text": [
      "[[1 2 3]\n",
      " [4 5 6]]\n",
      "------------------------------\n",
      "1.707825127659933\n",
      "------------------------------\n",
      "[1.5 1.5 1.5]\n",
      "------------------------------\n",
      "[0.8165 0.8165]\n",
      "------------------------------\n"
     ]
    }
   ],
   "source": [
    "a = np.arange(1,7).reshape((2,3))\n",
    "\n",
    "b = a.std()\n",
    "c = a.std(axis=0)\n",
    "d = a.std(axis=1)\n",
    "\n",
    "printary(a, b, c, d)"
   ]
  },
  {
   "cell_type": "code",
   "execution_count": 128,
   "id": "21f21aff-fe3e-4792-9ba1-bbb43d5994b4",
   "metadata": {},
   "outputs": [
    {
     "name": "stdout",
     "output_type": "stream",
     "text": [
      "True\n",
      "------------------------------\n",
      "False\n",
      "------------------------------\n"
     ]
    }
   ],
   "source": [
    "a = np.arange(6).reshape((2,3))\n",
    "printary(a.any(), a.all())"
   ]
  },
  {
   "cell_type": "markdown",
   "id": "68c3571d-917d-45a6-8163-94474a34f07c",
   "metadata": {
    "jp-MarkdownHeadingCollapsed": true,
    "tags": []
   },
   "source": [
    "# ndarray 파일 입출력"
   ]
  },
  {
   "cell_type": "code",
   "execution_count": 129,
   "id": "c1fdf67b-dbff-4c47-b890-3633d367f271",
   "metadata": {},
   "outputs": [],
   "source": [
    "def printary(*a):\n",
    "    for x in a:\n",
    "        print(x)\n",
    "        print(\"-\" * 30)"
   ]
  },
  {
   "cell_type": "code",
   "execution_count": 130,
   "id": "29d57d28-ac30-48f7-808a-d55cfc78dc04",
   "metadata": {},
   "outputs": [
    {
     "name": "stdout",
     "output_type": "stream",
     "text": [
      "[    0     1     2 ... 19997 19998 19999]\n"
     ]
    }
   ],
   "source": [
    "import numpy as np\n",
    "\n",
    "a1 = np.arange(20000)\n",
    "a2 = np.random.randint(1, 10000, size=(5,1000))\n",
    "a3 = np.ones((1,2,1000), dtype=np.int32)\n",
    "#path = \"*\\\\\"\n",
    "path = \"./\"\n",
    "\n",
    "np.save(path + \"a1.npy\", a1)\n",
    "r = np.load(path + \"a1.npy\")\n",
    "\n",
    "print(r)"
   ]
  },
  {
   "cell_type": "code",
   "execution_count": 131,
   "id": "8971f3b8-acd5-4d5c-b150-c6a26a471326",
   "metadata": {},
   "outputs": [
    {
     "name": "stdout",
     "output_type": "stream",
     "text": [
      "[    0     1     2 ... 19997 19998 19999]\n",
      "------------------------------\n",
      "[[1944 2653 7018 ... 2546 1037 6066]\n",
      " [2094 2909 6299 ... 5660 5529 9946]\n",
      " [2867 4540 7988 ... 9776 2740 3436]\n",
      " [8224 8491 2871 ... 9105 2881 6857]\n",
      " [7991 5955 1885 ...  814 1468 2903]]\n",
      "------------------------------\n",
      "[[[1 1 1 ... 1 1 1]\n",
      "  [1 1 1 ... 1 1 1]]]\n",
      "------------------------------\n"
     ]
    }
   ],
   "source": [
    "np.savez(path + \"an.npz\", A1=a1, A2=a2, A3=a3)\n",
    "r = np.load(path + \"an.npz\")\n",
    "\n",
    "printary(r['A1'], r['A2'], r['A3'])"
   ]
  },
  {
   "cell_type": "code",
   "execution_count": 132,
   "id": "e919119e-b2fc-4890-b08a-812b377d3d0d",
   "metadata": {},
   "outputs": [
    {
     "name": "stdout",
     "output_type": "stream",
     "text": [
      "[    0     1     2 ... 19997 19998 19999]\n",
      "------------------------------\n",
      "[[1944 2653 7018 ... 2546 1037 6066]\n",
      " [2094 2909 6299 ... 5660 5529 9946]\n",
      " [2867 4540 7988 ... 9776 2740 3436]\n",
      " [8224 8491 2871 ... 9105 2881 6857]\n",
      " [7991 5955 1885 ...  814 1468 2903]]\n",
      "------------------------------\n",
      "[[[1 1 1 ... 1 1 1]\n",
      "  [1 1 1 ... 1 1 1]]]\n",
      "------------------------------\n",
      "<class 'numpy.lib.npyio.NpzFile'>\n"
     ]
    }
   ],
   "source": [
    "np.savez_compressed(path + \"c_an.npz\", A1=a1, A2=a2, A3=a3)\n",
    "r = np.load(path + \"c_an.npz\")\n",
    "\n",
    "printary(r['A1'], r['A2'], r['A3'])\n",
    "print(type(r))"
   ]
  },
  {
   "cell_type": "code",
   "execution_count": 133,
   "id": "ff6498ec-7635-4e87-9afb-37148b29849d",
   "metadata": {},
   "outputs": [
    {
     "name": "stdout",
     "output_type": "stream",
     "text": [
      "[    0     1     2 ... 19997 19998 19999]\n",
      "------------------------------\n"
     ]
    }
   ],
   "source": [
    "np.savetxt(path + \"a1.txt\", a1, fmt=\"%d\")\n",
    "r = np.loadtxt(path + \"a1.txt\", dtype=np.int32)\n",
    "\n",
    "printary(r)"
   ]
  },
  {
   "cell_type": "markdown",
   "id": "865eafee-fc61-4c23-9b9e-3ce7aa2cdadb",
   "metadata": {
    "jp-MarkdownHeadingCollapsed": true,
    "tags": []
   },
   "source": [
    "# numpy의 NaN, INF 처리"
   ]
  },
  {
   "cell_type": "code",
   "execution_count": 134,
   "id": "3cf3ae12-ccd6-4c26-9a97-5763641a59ad",
   "metadata": {},
   "outputs": [
    {
     "name": "stdout",
     "output_type": "stream",
     "text": [
      "nan <class 'float'>\n",
      "inf <class 'float'>\n"
     ]
    }
   ],
   "source": [
    "print(np.nan, type(np.nan))\n",
    "print(np.inf, type(np.inf))"
   ]
  },
  {
   "cell_type": "code",
   "execution_count": 135,
   "id": "4052070c-72e9-4a88-baf4-8c2a7e3e23bb",
   "metadata": {},
   "outputs": [
    {
     "name": "stdout",
     "output_type": "stream",
     "text": [
      "[nan  1.  0. -1. inf]\n",
      "True [ True False False False False]\n",
      "True [False False False False  True]\n",
      "False\n",
      "True\n"
     ]
    }
   ],
   "source": [
    "a = np.array([np.nan, 1, 0, -1, np.inf], dtype=np.float16)\n",
    "\n",
    "print(a)\n",
    "print(np.isnan(np.nan), np.isnan(a))\n",
    "print(np.isinf(np.inf), np.isinf(a))\n",
    "\n",
    "# nan 은 값이 없는 것이므로 비교 연산은 불가하며 is 연산으로 처리하여야 함\n",
    "x = np.nan\n",
    "print(x == np.nan)\n",
    "print(x is np.nan)"
   ]
  },
  {
   "cell_type": "code",
   "execution_count": 136,
   "id": "904d5d13-1151-4d17-b00c-f01d15acc9fc",
   "metadata": {},
   "outputs": [],
   "source": [
    "def printary(*a):\n",
    "    for x in a:\n",
    "        print(x)\n",
    "        print(\"-\" * 30)"
   ]
  },
  {
   "cell_type": "code",
   "execution_count": 137,
   "id": "4c802d9f-054e-492e-b84e-207eb34e4823",
   "metadata": {},
   "outputs": [
    {
     "name": "stdout",
     "output_type": "stream",
     "text": [
      "[ 1. nan nan  2. inf]\n",
      "------------------------------\n",
      "[ 1. inf  1.  1. nan]\n",
      "------------------------------\n",
      "[ 2. nan nan  3. nan]\n",
      "------------------------------\n",
      "[ 3. nan nan  4. inf]\n",
      "------------------------------\n"
     ]
    }
   ],
   "source": [
    "a = np.array([1, np.nan, np.nan, 2, np.inf], dtype=np.float16)\n",
    "b = np.array([1, np.inf, 1, 1, np.nan], dtype=np.float16)\n",
    "\n",
    "printary(a, b, a+b, a+2)"
   ]
  },
  {
   "cell_type": "code",
   "execution_count": 138,
   "id": "19c8192f-220e-4bcf-b9f2-6f017d0b04de",
   "metadata": {},
   "outputs": [
    {
     "name": "stdout",
     "output_type": "stream",
     "text": [
      "[ 1. nan nan  2. inf]\n",
      "------------------------------\n",
      "nan\n",
      "------------------------------\n",
      "[ 1. nan nan nan nan]\n",
      "------------------------------\n",
      "True\n",
      "------------------------------\n"
     ]
    }
   ],
   "source": [
    "printary(a, a.sum(), a.cumsum(), a.all())"
   ]
  },
  {
   "cell_type": "code",
   "execution_count": 139,
   "id": "ec310453-0740-45ec-852e-65f4719c0748",
   "metadata": {},
   "outputs": [
    {
     "name": "stdout",
     "output_type": "stream",
     "text": [
      "[1.      nan   nan 1.414   inf]\n",
      "------------------------------\n",
      "[ 1.  2. inf nan]\n",
      "------------------------------\n",
      "[ 1. inf nan]\n",
      "------------------------------\n"
     ]
    }
   ],
   "source": [
    "printary(np.sqrt(a), np.unique(a), np.unique(b))"
   ]
  },
  {
   "cell_type": "markdown",
   "id": "ba784f75-4965-48c6-9f63-36a4ae3d3a45",
   "metadata": {
    "jp-MarkdownHeadingCollapsed": true,
    "tags": []
   },
   "source": [
    "# matmul, dot 연산"
   ]
  },
  {
   "cell_type": "markdown",
   "id": "d2876a19-41f4-45cc-a1e3-d2d29da3e04a",
   "metadata": {
    "jp-MarkdownHeadingCollapsed": true,
    "tags": []
   },
   "source": [
    "### dot, matmul 연산은 두 배열의 행과 열에 대한 곱의 합을 구하는 함수이다\n",
    "- a는 앞, b는 뒤에 위치한 배열일 떄\n",
    "- a의 axis-1 과 b의 axis-2 의 각 요소 곱의 합을 구하는 것\n",
    "- a의 axis-1 과 b의 axis-2 의 요소 수가 같아야 함\n",
    "- b가 1-D (1차원)인 경우 b의 axis-1의 요소가 곱의 대상이 됨\n",
    "\n",
    "![nn](./images/numpy-05.png)"
   ]
  },
  {
   "cell_type": "code",
   "execution_count": 141,
   "id": "84e4c833-ff3a-4f98-b374-d5055f88dfc4",
   "metadata": {},
   "outputs": [
    {
     "name": "stdout",
     "output_type": "stream",
     "text": [
      "(2, 3) (3, 2)\n"
     ]
    }
   ],
   "source": [
    "import numpy as np\n",
    "\n",
    "a = np.array([[1,1,1],[2,2,2]])\n",
    "b = np.array([[1,2],[3,4],[5,6]])\n",
    "\n",
    "print(a.shape, b.shape)"
   ]
  },
  {
   "cell_type": "code",
   "execution_count": 143,
   "id": "f8c771e4-563a-4c17-96c9-5dfa0c4544a0",
   "metadata": {},
   "outputs": [
    {
     "name": "stdout",
     "output_type": "stream",
     "text": [
      "[[ 9 12]\n",
      " [18 24]]\n",
      "[[ 9 12]\n",
      " [18 24]]\n"
     ]
    }
   ],
   "source": [
    "c = np.matmul(a, b)\n",
    "d = a.dot(b)\n",
    "\n",
    "print(c, d, sep=\"\\n\")"
   ]
  },
  {
   "cell_type": "markdown",
   "id": "7409728c-54d8-44fc-b319-80778400cb73",
   "metadata": {
    "jp-MarkdownHeadingCollapsed": true,
    "tags": []
   },
   "source": [
    "## matmul, dot 의 같은 동작"
   ]
  },
  {
   "cell_type": "markdown",
   "id": "204b741b-507b-4dbe-852d-66e23324609c",
   "metadata": {},
   "source": [
    "- a, b 모두 1-D 또는 2-D\n",
    "- a 는 1-D, b 는 N-D 또는 a 는 N-D, b 는 1-D\n",
    "- 이 경우 matmul 함소 또는 @ 연산자로 사용하는 것이 권장됨\n",
    "\n",
    "- `np.matmul(a, b), a @ b`\n",
    "    + https://numpy.org/doc/stable/reference/generated/numpy.matmul.html\n",
    "    + a 와 b 의 'Matrix Product' 를 구하여 반환 / a, b: <u>스칼라 사용할 수 없음</u>\n",
    "    + a 가 ndarry 인 경우 @ 연산자를 사용할 수 있음\n",
    "    \n",
    "- `np.dot(a, b), a.dot(b)`\n",
    "    + https://numpy.org/doc/stable/reference/generated/numpy.dot.html\n",
    "    + a 와 b 의 'Dot(Inner) Product' 를 구하여 반환 / a, b : <u>스칼라 사용할 수 있음</u>\n",
    "    + 많은 경우 matmul 과 동일한 동작"
   ]
  },
  {
   "cell_type": "code",
   "execution_count": 146,
   "id": "cc820880-61e6-45fe-8715-f0785d7f8a47",
   "metadata": {},
   "outputs": [
    {
     "name": "stdout",
     "output_type": "stream",
     "text": [
      "14\n",
      "14\n",
      "() ()\n"
     ]
    }
   ],
   "source": [
    "a = np.array([1, 2, 3])\n",
    "b = np.array([1, 2, 3])\n",
    "\n",
    "c = np.matmul(a, b)\n",
    "d = np.dot(a, b)\n",
    "\n",
    "print(c, d, sep='\\n')\n",
    "print(c.shape, d.shape)"
   ]
  },
  {
   "cell_type": "code",
   "execution_count": 148,
   "id": "76862988-6690-4482-b4d0-b73806c7f5a4",
   "metadata": {},
   "outputs": [
    {
     "name": "stdout",
     "output_type": "stream",
     "text": [
      "(3, 2) (2, 2) (3, 2)\n",
      "[[ 7 10]\n",
      " [15 22]\n",
      " [23 34]]\n",
      "[[ 7 10]\n",
      " [15 22]\n",
      " [23 34]]\n",
      "[[ 7 10]\n",
      " [15 22]\n",
      " [23 34]]\n"
     ]
    }
   ],
   "source": [
    "a = np.array([[1,2],[3,4],[5,6]])\n",
    "b = np.array([[1,2],[3,4]])\n",
    "\n",
    "c = np.matmul(a, b)\n",
    "d = np.dot(a, b)\n",
    "e = a @ b\n",
    "\n",
    "print(a.shape, b.shape, c.shape)\n",
    "print(c, d, e, sep='\\n')"
   ]
  },
  {
   "cell_type": "code",
   "execution_count": 150,
   "id": "ef0353ad-aaab-4850-b4cb-3e449452f529",
   "metadata": {},
   "outputs": [
    {
     "name": "stdout",
     "output_type": "stream",
     "text": [
      "(3,) (1, 3, 2) (1, 2)\n",
      "[[14 20]]\n",
      "[[14 20]]\n",
      "[[14 20]]\n"
     ]
    }
   ],
   "source": [
    "a = np.array([1,2,3])\n",
    "b = np.array([[[1,2],[2,3],[3,4]]])\n",
    "\n",
    "c = np.matmul(a, b)\n",
    "d = np.dot(a, b)\n",
    "e = a @ b\n",
    "\n",
    "print(a.shape, b.shape, c.shape)\n",
    "print(c, d, e, sep='\\n')"
   ]
  },
  {
   "cell_type": "code",
   "execution_count": 151,
   "id": "254c39b7-1ed4-4ec8-b991-4aa017eebc81",
   "metadata": {},
   "outputs": [
    {
     "name": "stdout",
     "output_type": "stream",
     "text": [
      "(3,) (3, 2) (2,)\n",
      "[14 20]\n",
      "[14 20]\n",
      "[14 20]\n"
     ]
    }
   ],
   "source": [
    "a = np.array([1,2,3])\n",
    "b = np.array([[1,2],[2,3],[3,4]])\n",
    "\n",
    "c = np.matmul(a, b)\n",
    "d = np.dot(a, b)\n",
    "e = a @ b\n",
    "\n",
    "print(a.shape, b.shape, c.shape)\n",
    "print(c, d, e, sep='\\n')"
   ]
  },
  {
   "cell_type": "code",
   "execution_count": 152,
   "id": "44f3b6c9-5e97-410b-9491-de37b8af3ba5",
   "metadata": {},
   "outputs": [
    {
     "name": "stdout",
     "output_type": "stream",
     "text": [
      "(2, 2, 3) (3,) (2, 2)\n",
      "[[14 32]\n",
      " [ 6 12]]\n",
      "[[14 32]\n",
      " [ 6 12]]\n",
      "[[14 32]\n",
      " [ 6 12]]\n"
     ]
    }
   ],
   "source": [
    "a = np.array([[[1,2,3], [4,5,6]], [[1,1,1],[2,2,2]]])\n",
    "b = np.array([1,2,3])\n",
    "\n",
    "c = np.matmul(a, b)\n",
    "d = np.dot(a, b)\n",
    "e = a @ b\n",
    "\n",
    "print(a.shape, b.shape, c.shape)\n",
    "print(c, d, e, sep='\\n')"
   ]
  },
  {
   "cell_type": "markdown",
   "id": "d37a576f-f1f6-42e7-aaa2-2e16377cec82",
   "metadata": {
    "jp-MarkdownHeadingCollapsed": true,
    "tags": []
   },
   "source": [
    "## 다음 두 배열의 matmul, dot 연산의 결과 shape 을 예측하여 적어보자!\n",
    "- (2,2,3) (3,) -> (2,2)\n",
    "- (2,3) (3,2) -> (2,2)\n",
    "- (2,3) (3,) -> (2,)\n",
    "- (3,) (3,1) -> (1,)\n",
    "- dot만 가능 : (3,2) 2(scalar) -> "
   ]
  },
  {
   "cell_type": "code",
   "execution_count": 162,
   "id": "773c415e-074c-4249-bdc4-d7c450f2def4",
   "metadata": {},
   "outputs": [
    {
     "name": "stdout",
     "output_type": "stream",
     "text": [
      "(2, 2, 3) (3,) (2, 2)\n",
      "[[14 32]\n",
      " [ 6 12]]\n",
      "[[14 32]\n",
      " [ 6 12]]\n"
     ]
    }
   ],
   "source": [
    "a = np.array([[[1,2,3], [4,5,6]], [[1,1,1],[2,2,2]]])\n",
    "b = np.array([1,2,3])\n",
    "\n",
    "c = np.matmul(a, b)\n",
    "d = np.dot(a, b)\n",
    "\n",
    "print(a.shape, b.shape, c.shape)\n",
    "print(c, d, sep='\\n')"
   ]
  },
  {
   "cell_type": "code",
   "execution_count": 163,
   "id": "b0ebd119-ee58-4c5b-86f9-7ae49d7a45f1",
   "metadata": {},
   "outputs": [
    {
     "name": "stdout",
     "output_type": "stream",
     "text": [
      "(2, 3) (3, 2) (2, 2)\n",
      "[[22 28]\n",
      " [49 64]]\n",
      "[[22 28]\n",
      " [49 64]]\n"
     ]
    }
   ],
   "source": [
    "a = np.array([[1,2,3], [4,5,6]])\n",
    "b = np.array([[1,2],[3,4],[5,6]])\n",
    "\n",
    "c = np.matmul(a, b)\n",
    "d = np.dot(a, b)\n",
    "\n",
    "print(a.shape, b.shape, c.shape)\n",
    "print(c, d, sep='\\n')"
   ]
  },
  {
   "cell_type": "code",
   "execution_count": 164,
   "id": "1a03df5c-b553-4937-92d4-184b211d607d",
   "metadata": {},
   "outputs": [
    {
     "name": "stdout",
     "output_type": "stream",
     "text": [
      "(2, 3) (3,) (2,)\n",
      "[14 32]\n",
      "[14 32]\n"
     ]
    }
   ],
   "source": [
    "a = np.array([[1,2,3], [4,5,6]])\n",
    "b = np.array([1,2,3])\n",
    "\n",
    "c = np.matmul(a, b)\n",
    "d = np.dot(a, b)\n",
    "\n",
    "print(a.shape, b.shape, c.shape)\n",
    "print(c, d, sep='\\n')"
   ]
  },
  {
   "cell_type": "code",
   "execution_count": 165,
   "id": "f5ab1ae1-38fa-4b61-950d-56b6c0caea1e",
   "metadata": {},
   "outputs": [
    {
     "name": "stdout",
     "output_type": "stream",
     "text": [
      "(3,) (3, 1) (1,)\n",
      "[14]\n",
      "[14]\n"
     ]
    }
   ],
   "source": [
    "a = np.array([1,2,3])\n",
    "b = np.array([[1],[2],[3]])\n",
    "\n",
    "c = np.matmul(a, b)\n",
    "d = np.dot(a, b)\n",
    "\n",
    "print(a.shape, b.shape, c.shape)\n",
    "print(c, d, sep='\\n')"
   ]
  },
  {
   "cell_type": "markdown",
   "id": "0a9bfd1d-9d39-49ba-998e-10ff886b8162",
   "metadata": {
    "jp-MarkdownHeadingCollapsed": true,
    "tags": []
   },
   "source": [
    "## matmul, dot의 다른 동작"
   ]
  },
  {
   "cell_type": "markdown",
   "id": "db24a8ce-6899-4d5c-9c70-2aaff0314a1d",
   "metadata": {},
   "source": [
    "- a, b 모두 1-D / a, b 모두 2-D / a 는 1-D, b 는 N-D / a 는 N-D, b 는 1-D : 동일 동작\n",
    "- 위의 경우가 아니라면 결과 배열의 shape 이 다를 수 있음\n",
    "    + 새로운 배열에서 계산한 값이 들어가는 위치가 다름\n",
    "- a, b 중 한 쪽이 Scalar \n",
    "    + dot 은 가능, matmul 은 불가능"
   ]
  },
  {
   "cell_type": "markdown",
   "id": "ceca4e0c-be8d-4dc7-b923-dd169a87fdc5",
   "metadata": {
    "jp-MarkdownHeadingCollapsed": true,
    "tags": []
   },
   "source": [
    "### 3차원 이상을 포함한 배열의 matmul 연산"
   ]
  },
  {
   "cell_type": "markdown",
   "id": "6cf486c0-5f56-4ace-8032-3b888fc170b4",
   "metadata": {},
   "source": [
    "- 대응하는 열/행을 제외한 나머지 배열에서의 원래 index 위치를 유지한다\n",
    "    + (**2**,**2**,3) (**2**,3,**3**) -> (**2**,**2**,**3**)\n",
    "    + (**2**,**2**,3) (**3**,3,**3**) -> 불능\n",
    "    + (**2**,3) (**3**,3,**2**) -> (**3**,**2**,**2**)    \n",
    "- 뒤 배열은 앞 배열과 '행'전까지의 요소 갯수가 같아야 한다. (앞 배열의 차원이 더 높거나 같은 경우)\n",
    "- 앞 배열의 열과 뒤 배열의 행의 수가 같은 경우 연산이 가능하다"
   ]
  },
  {
   "cell_type": "markdown",
   "id": "847de93e-8efb-4494-86c1-58a59d982e40",
   "metadata": {
    "jp-MarkdownHeadingCollapsed": true,
    "tags": []
   },
   "source": [
    "### 3차원 이상을 포함한 배열의 dot 연산"
   ]
  },
  {
   "cell_type": "markdown",
   "id": "0f3253c9-41f9-4808-8c8d-f79bd959f184",
   "metadata": {},
   "source": [
    "- 대응하는 열/행을 삭제하고 앞 배열에서 뒤 배열 쪽으로 남은 index를 나열한다\n",
    "    + (**2**,**2**,3) (**2**,3,**3**) -> (**2**,**2**,**2**,**3**)\n",
    "    + (**2**,**2**,3) (**3**,3,**3**) -> (2,2,3,3)\n",
    "    + (**2**,3) (**3**,3,**2**) -> (**2**,**3**,**2**)\n",
    "- 앞 배열의 열과 뒤 배열의 행의 수가 같은 경우 연산이 가능하다"
   ]
  },
  {
   "cell_type": "code",
   "execution_count": 170,
   "id": "a64f6bf0-ceee-435a-b4e5-37d91cf2c0f2",
   "metadata": {},
   "outputs": [
    {
     "name": "stdout",
     "output_type": "stream",
     "text": [
      "[2 2 2]\n",
      "[1 3 5]\n",
      "18\n",
      "------------------------------\n",
      "(2, 3) (3, 3, 2) (3, 2, 2) (2, 3, 2)\n",
      "[[[ 9 12]\n",
      "  [18 24]]\n",
      "\n",
      " [[ 4  5]\n",
      "  [ 8 10]]\n",
      "\n",
      " [[ 3  9]\n",
      "  [ 6 18]]]\n",
      "\n",
      "\n",
      "[[[ 9 12]\n",
      "  [ 4  5]\n",
      "  [ 3  9]]\n",
      "\n",
      " [[18 24]\n",
      "  [ 8 10]\n",
      "  [ 6 18]]]\n"
     ]
    }
   ],
   "source": [
    "a23 = np.array([[1,1,1],\n",
    "                [2,2,2]])\n",
    "a332 = np.array([[[1,2],\n",
    "                  [3,4],\n",
    "                  [5,6]],\n",
    "                 [[1,1],\n",
    "                  [1,2],\n",
    "                  [2,2]],\n",
    "                 [[1,2],\n",
    "                  [1,3],\n",
    "                  [1,4]]])\n",
    "r = a23[1, :]\n",
    "c = a332[0, :, 0]\n",
    "print(r, c, sum(r*c), sep='\\n')\n",
    "print('-' * 30)\n",
    "\n",
    "x1 = np.matmul(a23, a332)\n",
    "x2 = np.dot(a23, a332)\n",
    "print(a23.shape, a332.shape, x1.shape, x2.shape)\n",
    "print(x1, x2, sep='\\n\\n\\n')"
   ]
  },
  {
   "cell_type": "code",
   "execution_count": 171,
   "id": "e55e4601-c65b-4486-83d2-233ac079ad84",
   "metadata": {},
   "outputs": [
    {
     "name": "stdout",
     "output_type": "stream",
     "text": [
      "[2 3 4]\n",
      "[1 3 5]\n",
      "31\n",
      "------------------------------\n",
      "(2, 2, 3) (2, 3, 3) (2, 2, 3) (2, 2, 2, 3)\n",
      "[[[ 9 13  9]\n",
      "  [31 44 32]]\n",
      "\n",
      " [[ 7  9  9]\n",
      "  [ 9 11 11]]]\n",
      "\n",
      "\n",
      "[[[[ 9 13  9]\n",
      "   [ 4  5  5]]\n",
      "\n",
      "  [[31 44 32]\n",
      "   [13 16 16]]]\n",
      "\n",
      "\n",
      " [[[14 21 13]\n",
      "   [ 7  9  9]]\n",
      "\n",
      "  [[22 31 23]\n",
      "   [ 9 11 11]]]]\n"
     ]
    }
   ],
   "source": [
    "a223 = np.array([[[1,1,1],\n",
    "                  [2,3,4]],\n",
    "                 [[3,2,1],\n",
    "                  [1,2,3]]])\n",
    "a233 = np.array([[[1,2,1],\n",
    "                  [3,4,2],\n",
    "                  [5,7,6]],\n",
    "                 [[1,1,1],\n",
    "                  [1,2,2],\n",
    "                  [2,2,2]]])\n",
    "r = a223[0, 1, :]\n",
    "c = a233[0, :, 0]\n",
    "print(r, c, sum(r*c), sep='\\n')\n",
    "print('-' * 30)\n",
    "\n",
    "x1 = np.matmul(a223, a233)\n",
    "x2 = np.dot(a223, a233)\n",
    "print(a223.shape, a233.shape, x1.shape, x2.shape)\n",
    "print(x1, x2, sep='\\n\\n\\n')"
   ]
  },
  {
   "cell_type": "code",
   "execution_count": null,
   "id": "c27a088c-ee34-49d0-8ccd-376d716a5d38",
   "metadata": {},
   "outputs": [],
   "source": []
  }
 ],
 "metadata": {
  "kernelspec": {
   "display_name": "Python 3 (ipykernel)",
   "language": "python",
   "name": "python3"
  },
  "language_info": {
   "codemirror_mode": {
    "name": "ipython",
    "version": 3
   },
   "file_extension": ".py",
   "mimetype": "text/x-python",
   "name": "python",
   "nbconvert_exporter": "python",
   "pygments_lexer": "ipython3",
   "version": "3.9.13"
  },
  "toc-autonumbering": false,
  "toc-showcode": false,
  "toc-showmarkdowntxt": false
 },
 "nbformat": 4,
 "nbformat_minor": 5
}
