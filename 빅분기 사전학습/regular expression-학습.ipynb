{
 "cells": [
  {
   "cell_type": "markdown",
   "id": "22dd8727-1024-473b-b6b8-1ced47b6bd3b",
   "metadata": {},
   "source": [
    "- https://www.regular-expressions.info/tutorial.html"
   ]
  },
  {
   "cell_type": "markdown",
   "id": "8dfed5a6-1f39-4259-8bef-df6b5436e823",
   "metadata": {},
   "source": [
    "# 정규식의 필요성"
   ]
  },
  {
   "cell_type": "markdown",
   "id": "4048a25b-d684-4f14-84e3-db66e4ce219e",
   "metadata": {},
   "source": [
    "- 문자열에서 특정 패턴(규칙)을 갖는 부분이 있는지 확인/추출\n",
    "- 기호를 사용하여 간단하고 명료하게 패턴을 표기(높은 가독성)\n",
    "- 다양한 확인/추출을 위한 함수와 세부 설정을 위한 옵션 존재\n",
    "- `import re` 사용"
   ]
  },
  {
   "cell_type": "markdown",
   "id": "12e98d7c-7eee-4ebc-831e-28fe1e1e9b21",
   "metadata": {},
   "source": [
    "## 암호 유효성 검사"
   ]
  },
  {
   "cell_type": "markdown",
   "id": "92cfff95-34ed-41b3-b46c-e09ba5f62e42",
   "metadata": {},
   "source": [
    "- 암호의 유효성을 검사하는 isPassword 함수를 검토하자\n",
    "- 암호 유효성 검사 규칙은 다음과 같다\n",
    "    + 총 길이는 10글자 이상이여야 한다\n",
    "    + 1개 이상의 숫자, 영문 대문자, 영문 소문자가 포함되어 있어야 한다\n",
    "    + !@#$%^&*() 문자 중 1개 이상의 특수 문자를 포함해야 한다\n",
    "    + verify() 함수는 isPassword 의 결과에 따른 출력을 하는 함수로 제공됨"
   ]
  },
  {
   "cell_type": "code",
   "execution_count": 1,
   "id": "b918f6cc-9737-43ef-942b-80d8c60fe21a",
   "metadata": {},
   "outputs": [],
   "source": [
    "# 특정 특수문자 인지 확인하는 함수\n",
    "def isspecial(ch):\n",
    "    return ch in '!@#$%^&*()'"
   ]
  },
  {
   "cell_type": "code",
   "execution_count": 2,
   "id": "1ed2565a-ba6b-431d-9cc6-6826daaa573c",
   "metadata": {},
   "outputs": [],
   "source": [
    "# 암호 유효성 검사 함수\n",
    "def isPassword_1(pw):\n",
    "    if len(pw) < 10: \n",
    "        return False\n",
    "    \n",
    "    check = [False] * 4\n",
    "\n",
    "    for ch in pw:\n",
    "        if ch.islower()   : check[0] = True\n",
    "        if ch.isupper()   : check[1] = True\n",
    "        if ch.isdecimal() : check[2] = True\n",
    "        if isspecial(ch)  : check[3] = True\n",
    "        if all(check) : return True\n",
    "    \n",
    "    return False"
   ]
  },
  {
   "cell_type": "code",
   "execution_count": 3,
   "id": "e570cc4e-e55e-49a7-b0ed-7c08f86962bb",
   "metadata": {},
   "outputs": [],
   "source": [
    "import re\n",
    "\n",
    "def isPassword_2(pw):\n",
    "    if len(pw) < 10: return False\n",
    "    \n",
    "    rules = (r'[0-9]+', r'[a-z]+', r'[A-Z]+', r'[~!@#$%^&*]+')\n",
    "    \n",
    "    for rule in rules:\n",
    "        if not re.search(rule, pw): return False\n",
    "    \n",
    "    return True"
   ]
  },
  {
   "cell_type": "code",
   "execution_count": 4,
   "id": "1cf0d418-0c22-492b-ad7d-368e18ebbb8e",
   "metadata": {},
   "outputs": [
    {
     "name": "stdout",
     "output_type": "stream",
     "text": [
      "asbdJKL12**  = Correct\n",
      "123jkKL*     = Wrong\n",
      "ajkdk123kjKL = Wrong\n",
      "ABC123*^5D   = Wrong\n"
     ]
    }
   ],
   "source": [
    "isPassword = isPassword_2\n",
    "\n",
    "pwd_list = ['asbdJKL12**', '123jkKL*', 'ajkdk123kjKL', 'ABC123*^5D']\n",
    "maxLen = max(len(x) for x in pwd_list)\n",
    "\n",
    "def verify(pw):\n",
    "    return f'{pw:<{maxLen}} = {\"Correct\" if isPassword(pw) else \"Wrong\"}'\n",
    "\n",
    "print('\\n'.join(verify(pw) for pw in pwd_list))"
   ]
  },
  {
   "cell_type": "markdown",
   "id": "703b4fb2-b1eb-4a70-a23e-6f0c391ad6bf",
   "metadata": {},
   "source": [
    "## 휴대폰 번호 유효성 검사"
   ]
  },
  {
   "cell_type": "markdown",
   "id": "83b94bd4-a4c6-4e7a-a159-d53601e565b7",
   "metadata": {},
   "source": [
    "- 휴대폰 번호 여부를 확인하는 isPhoneNumber 함수 검토\n",
    "- 휴대폰 번호에 사용되는 규칙\n",
    "    + 3개의 그룹의 숫자로 되어 있으며 그룹은 ‘-’로 구분\n",
    "    + 첫 번째 그룹은 3글자이며, [010, 011, 012, 016, 017, 018, 019] 중 하나를 사용함\n",
    "    + 두 번째 그룹은 3글자 또는 4글자로 되어 있음\n",
    "    + 세 번째 그룹은 4글자로 되어 있음\n",
    "    + verify()함수는 isPhoneNumber의 결과에 따른 출력을 하는 함수로 제공됨"
   ]
  },
  {
   "cell_type": "code",
   "execution_count": 5,
   "id": "59e2a93a-c9d7-4535-933f-9ace91716223",
   "metadata": {},
   "outputs": [],
   "source": [
    "pno = [1,1,1,0,0,0,1,1,1,1]\n",
    "\n",
    "def isPhoneNumber_T1(num):\n",
    "    if len(num) < 12 or len(num) > 13:\n",
    "        return False\n",
    "    \n",
    "    grp = num.split('-')\n",
    "    \n",
    "    if len(grp) != 3: \n",
    "        return False\n",
    "    \n",
    "    if len(grp[0]) != 3 or grp[0].isdecimal() == False:\n",
    "        return False\n",
    "    \n",
    "    if grp[0][0:2] != '01':\n",
    "        return False\n",
    "    \n",
    "    if not pno[int(grp[0][2])]:\n",
    "        return False\n",
    "    \n",
    "    if len(grp[1]) < 3 or len(grp[1]) > 4 or grp[1].isdecimal() == False:\n",
    "        return False\n",
    "    \n",
    "    if len(grp[2]) != 4 or not grp[2].isdecimal():\n",
    "        return False\n",
    "    \n",
    "    return True"
   ]
  },
  {
   "cell_type": "code",
   "execution_count": 6,
   "id": "227a69b8-2117-428d-a391-0c544f1f1997",
   "metadata": {},
   "outputs": [],
   "source": [
    "import re\n",
    "\n",
    "def isPhoneNumber_T2(num):\n",
    "    if re.search(r'^01[0-26-9]-[0-9]{3,4}-[0-9]{4}$', num):\n",
    "        return True\n",
    "\n",
    "    return False"
   ]
  },
  {
   "cell_type": "code",
   "execution_count": 7,
   "id": "4b0e0b32-a8aa-486e-8272-3ea91818dd21",
   "metadata": {},
   "outputs": [
    {
     "name": "stdout",
     "output_type": "stream",
     "text": [
      "010-456-7892      - Corrent\n",
      "010-2345-1234     - Corrent\n",
      "013-123-1231      - Wrong\n",
      "012 1234 1234     - Wrong\n",
      "016-12-1234       - Wrong\n",
      "TEL: 012-123-1234 - Wrong\n",
      "017-123-1234!     - Wrong\n"
     ]
    }
   ],
   "source": [
    "isPhoneNumber = isPhoneNumber_T2\n",
    "\n",
    "phone_numbers = ['010-456-7892','010-2345-1234','013-123-1231',\n",
    "                 '012 1234 1234','016-12-1234','TEL: 012-123-1234','017-123-1234!']\n",
    "maxLen = max(len(x) for x in phone_numbers)\n",
    "\n",
    "def verify(pn):\n",
    "    return f'{pn:<{maxLen}} - {\"Corrent\" if isPhoneNumber(pn) else \"Wrong\"}'\n",
    "\n",
    "answers = [verify(pn) for pn in phone_numbers]\n",
    "print('\\n'.join(answers))"
   ]
  },
  {
   "cell_type": "markdown",
   "id": "92bb842c-4a92-46c2-ac89-9187c4780a5d",
   "metadata": {},
   "source": [
    "## 문자열에서 휴대폰 번호 검색"
   ]
  },
  {
   "cell_type": "markdown",
   "id": "6b495711-ff26-4ad1-9409-30aa07a6a828",
   "metadata": {},
   "source": [
    "- 문자열에서 휴대폰 번호를 검색 및 출력하는 코드 확인\n",
    "- 문자열은 문자와 숫자가 함께 사용되며, 여러 휴대폰 번호 포함 가능\n",
    "   + msg = 'julie 010-123-1234 peter 011-1234-1234 office 031-123-1234'\n",
    "- 휴대폰 번호에 사용되는 규칙\n",
    "    + 3개의 그룹의 숫자로 되어 있으며 그룹은 ‘-’로 구분\n",
    "    + 첫 번째 그룹은 3글자이며, [010, 011, 012, 016, 017, 018, 019] 중 하나를 사용함\n",
    "    + 두 번째 그룹은 3글자 또는 4글자로 되어 있음\n",
    "    }세 번째 그룹은 4글자로 되어 있음   "
   ]
  },
  {
   "cell_type": "code",
   "execution_count": 8,
   "id": "e43e925a-e16d-4f30-a111-0ae27d4c4751",
   "metadata": {},
   "outputs": [
    {
     "name": "stdout",
     "output_type": "stream",
     "text": [
      "Phone number1 : 010-123-1234\n",
      "Phone number2 : 011-1234-1234\n"
     ]
    }
   ],
   "source": [
    "# re를 사용하지 않은 프로그램\n",
    "\n",
    "msg = 'julie 010-123-1234 peter 011-1234-1234 office 031-123-1234'\n",
    "pno = [1, 1, 1, 0, 0, 0, 1, 1, 1, 1]\n",
    "\n",
    "def isPhoneNumber(num):  \n",
    "    if len(num)<12 or len(num)>13 : return False\n",
    "    grp = num.split('-')\n",
    "    if (len(grp) != 3) : return False\n",
    "    if len(grp[0]) != 3 or grp[0].isdecimal() == False : return False\n",
    "    if grp[0][0:2] != '01' : return False\n",
    "    if not pno[int(grp[0][2])] : return False\n",
    "    if len(grp[1]) < 3 or len(grp[1])>4 or grp[1].isdecimal() == False : return False\n",
    "    if len(grp[2]) != 4 or not grp[2].isdecimal() : return False\n",
    "    return True\n",
    "\n",
    "idx = 0\n",
    "for i in range(len(msg)-12):\n",
    "    phone12 = msg[i:i+12]\n",
    "    phone13 = msg[i:i+13]\n",
    "    phone = None\n",
    "    if isPhoneNumber(phone12) : phone = phone12\n",
    "    elif isPhoneNumber(phone13) : phone = phone13\n",
    "    if phone :\n",
    "        idx += 1\n",
    "        print(f'Phone number{idx} : {phone}')\n",
    "         "
   ]
  },
  {
   "cell_type": "code",
   "execution_count": 9,
   "id": "4d7db4cc-f2e8-45fa-8d81-4a43d3813c32",
   "metadata": {},
   "outputs": [
    {
     "name": "stdout",
     "output_type": "stream",
     "text": [
      "Phone number1 : 010-123-1234\n",
      "Phone number2 : 011-1234-1234\n"
     ]
    }
   ],
   "source": [
    "# re를 사용한 프로그램\n",
    "import re\n",
    "\n",
    "msg = 'julie 010-123-1234 peter 011-1234-1234 office 031-123-1234'\n",
    "\n",
    "r = re.finditer(r'01[0-26-9]-[0-9]{3,4}-[0-9]{4}', msg)\n",
    "\n",
    "for idx, m in enumerate(r, start=1):\n",
    "    print(f'Phone number{idx} : {m.group()}')"
   ]
  },
  {
   "cell_type": "markdown",
   "id": "115828e7-a0c9-49a2-94ff-77784b824303",
   "metadata": {},
   "source": [
    "# 정규식 패턴 작성"
   ]
  },
  {
   "cell_type": "markdown",
   "id": "71ecd26f-acfd-48c3-b5ee-d10f1e32a51a",
   "metadata": {},
   "source": [
    "## 정규식의 이해"
   ]
  },
  {
   "cell_type": "markdown",
   "id": "18e9ea53-1f9a-40be-8120-6621605f7d57",
   "metadata": {},
   "source": [
    "- 문자 집합의 패턴이 일치하는지 검사하기 위해 사용하는 표현식\n",
    "- re 모듈을 import 하여야 사용할 수 있음: `import re`\n",
    "- 작업의 패턴 표현\n",
    "    + 처리하고자 하는 작업을 패턴으로 표현하는 방법\n",
    "    + 핸드폰 번호 검색: '-' 로 구분된 3-(3|4)-4개의 숫자\n",
    "    + 성이 yoon 인 사람: yoon 으로 시작하는 문자열\n",
    "- 정규식 사용의 장점\n",
    "    + 작업을 패턴으로 표현하면 직관적인 표현이 됨\n",
    "    + 검색 대상이 큰 경우, 보다 빠른 결과를 얻을 수 있음\n",
    "    + 코드의 작성 길이가 짧아짐"
   ]
  },
  {
   "cell_type": "markdown",
   "id": "e7fceec6-b190-4cd2-b309-815be6b684a4",
   "metadata": {},
   "source": [
    "## 정규식 사용법"
   ]
  },
  {
   "cell_type": "markdown",
   "id": "fae07a19-8523-4b64-ac31-edd3666e1208",
   "metadata": {},
   "source": [
    "- `re.compile(raw string)` : Pattern 객체 생성\n",
    "- `re.search(pattern, target_string)`, `pattern.search()` : Match 객체 반환\n",
    "- Match 객체\n",
    "    + group() : Pattern 에서 지정한 Raw String\n",
    "    + start() : 찾고자 하는 문자열 시작 위치\n",
    "    + end()   : 찾고자 하는 문자열 마지막 다음 위치    "
   ]
  },
  {
   "cell_type": "code",
   "execution_count": 10,
   "id": "bb3bbc53-ca8d-4459-acac-95588fdcb234",
   "metadata": {},
   "outputs": [
    {
     "name": "stdout",
     "output_type": "stream",
     "text": [
      "3~6에 abc 존재\n",
      "3~6에 abc 존재\n",
      "3~6에 abc 존재\n"
     ]
    }
   ],
   "source": [
    "import re\n",
    "\n",
    "pattern = re.compile(r'abc')       # Raw String : 패턴문자열\n",
    "\n",
    "mc1 = re.search(pattern, '123abcd')\n",
    "mc2 = re.search(r'abc', '123abcd')\n",
    "mc3 = pattern.search('123abcd')\n",
    "\n",
    "for mc in mc1, mc2, mc3:\n",
    "    print(f'{mc.start()}~{mc.end()}에 {mc.group()} 존재')"
   ]
  },
  {
   "cell_type": "markdown",
   "id": "091bcb3b-ce4e-483b-9514-ea86cc270ab5",
   "metadata": {},
   "source": [
    "## character class"
   ]
  },
  {
   "cell_type": "markdown",
   "id": "ec4add7a-b00c-4e83-b605-81189076f5ec",
   "metadata": {},
   "source": [
    "- character class : [] 내부에 문자를 나열한 것\n",
    "    + 나열된 문자 중 한 개 문자의 사용을 의미함\n",
    "- 종류\n",
    "    + [abc] : abc 중 한 개 문자\n",
    "    + [a-z] : a에서 z까지 범위의 문자 중 한 개 문자\n",
    "    + [a-zA-Z] : 알파벳 소문자, 대문자 모두 중 한 개 문자\n",
    "    + [^0-9]: ^ 를 사용하면 NOT 의 의미임, 숫자를 제외한 모든 문자에서 한 개 문자"
   ]
  },
  {
   "cell_type": "code",
   "execution_count": 11,
   "id": "a506e6e2-00cc-40cd-8bfa-f05e76189234",
   "metadata": {},
   "outputs": [
    {
     "name": "stdout",
     "output_type": "stream",
     "text": [
      "2~5에 3ab존재\n"
     ]
    }
   ],
   "source": [
    "import re\n",
    "# 첫 번째 글자 숫자, 두 번째 글자 a/b/c 중 한 글자, 세 번째 글자 c ~ z 사이 글자가 아닌 글자\n",
    "mc = re.search(r'[0-9][abc][^c-z]', '123abcd')\n",
    "if mc :\n",
    "    print(f'{mc.start()}~{mc.end()}에 {mc.group()}존재') \n",
    "else:\n",
    "    print('문자열에 패턴이 존재하지 않음')"
   ]
  },
  {
   "cell_type": "markdown",
   "id": "eccd055d-99af-4d51-b21e-798a95b5857b",
   "metadata": {},
   "source": [
    "## 횟수 관련 메타 문자"
   ]
  },
  {
   "cell_type": "markdown",
   "id": "0ceb1802-7177-4de3-a8a2-90dec576bbda",
   "metadata": {},
   "source": [
    "- 메타 문자: 특별한 용도로 사용되는 문자를 의미함\n",
    "- x* : x를 0개 이상 사용\n",
    "- x+ : x를 1개 이상 사용\n",
    "- x? : x를 0개 또는 1개 사용\n",
    "- x+? : x 를 1개만 사용 (?가 Greedy 중지 == Non-Greedy 기능(*?, +?, ??) 으로 동작)\n",
    "- x{n} : x를 n개 사용\n",
    "- x{n,k} : x를 n개 이상 k개 이하 사용"
   ]
  },
  {
   "cell_type": "markdown",
   "id": "9de50d73-dadf-489b-8152-6035298fb983",
   "metadata": {},
   "source": [
    "- Greedy 란? 패턴이 식별되는 최대 길이가 결과가 되는 것 \n",
    "- Non-Greedy 란? 패턴이 식별되는 최소 길이가 결과가 되는 것 "
   ]
  },
  {
   "cell_type": "code",
   "execution_count": 12,
   "id": "6dcb32b3-7b62-46e9-a18f-d79685a25e03",
   "metadata": {},
   "outputs": [],
   "source": [
    "import re\n",
    "\n",
    "def printMatch(pstr, data):\n",
    "    print(pstr)\n",
    "    for x in data :\n",
    "        mc = re.search(pstr, x)\n",
    "        maxLen = max(len(x) for x in data)\n",
    "        if mc :\n",
    "            print(f'{x:{maxLen}} : {mc.start()}~{mc.end()}에 {mc.group()}존재') \n",
    "        else:\n",
    "            print(f'{x:{maxLen}} : 문자열에 {pstr}패턴이 존재하지 않음')"
   ]
  },
  {
   "cell_type": "code",
   "execution_count": 13,
   "id": "4b9d17bd-8cdd-421a-9c0b-a3d527aa1102",
   "metadata": {},
   "outputs": [
    {
     "name": "stdout",
     "output_type": "stream",
     "text": [
      "[0-9]*\n",
      "     : 0~0에 존재\n",
      "1    : 0~1에 1존재\n",
      "12   : 0~2에 12존재\n",
      "1234 : 0~4에 1234존재\n",
      "abc  : 0~0에 존재\n",
      "1a   : 0~1에 1존재\n"
     ]
    }
   ],
   "source": [
    "# 숫자가 0회 이상 사용된 패턴 찾기 (Greedy)\n",
    "dataList = ('', '1', '12', '1234', 'abc', '1a')\n",
    "printMatch(r'[0-9]*', dataList)"
   ]
  },
  {
   "cell_type": "code",
   "execution_count": 14,
   "id": "84e00756-ae1b-41d6-89bd-796d40b3c23a",
   "metadata": {},
   "outputs": [
    {
     "name": "stdout",
     "output_type": "stream",
     "text": [
      "[a-z]+\n",
      "c    : 0~1에 c존재\n",
      "ab   : 0~2에 ab존재\n",
      "abcd : 0~4에 abcd존재\n",
      "a12  : 0~1에 a존재\n",
      "123  : 문자열에 [a-z]+패턴이 존재하지 않음\n",
      "ABC  : 문자열에 [a-z]+패턴이 존재하지 않음\n",
      "-------------------------\n",
      "[a-z]+?\n",
      "c    : 0~1에 c존재\n",
      "ab   : 0~1에 a존재\n",
      "abcd : 0~1에 a존재\n",
      "a12  : 0~1에 a존재\n",
      "123  : 문자열에 [a-z]+?패턴이 존재하지 않음\n",
      "ABC  : 문자열에 [a-z]+?패턴이 존재하지 않음\n"
     ]
    }
   ],
   "source": [
    "# 알파벳 소문자가 1회 이상 사용된 패턴 찾기 (Greedy)\n",
    "dataList = ('c', 'ab', 'abcd', 'a12', '123', 'ABC')\n",
    "printMatch(r'[a-z]+', dataList)\n",
    "print(\"-\" * 25)\n",
    "# 알파벳 소문자가 1회 이상 사용된 패턴 찾기 (Non-Greedy)\n",
    "printMatch(r'[a-z]+?', dataList)"
   ]
  },
  {
   "cell_type": "code",
   "execution_count": 15,
   "id": "e4795eb5-a4c9-4c9f-b2c9-faa8f2b053e8",
   "metadata": {},
   "outputs": [
    {
     "name": "stdout",
     "output_type": "stream",
     "text": [
      "[A-Z]?\n",
      "    : 0~0에 존재\n",
      "F   : 0~1에 F존재\n",
      "AB  : 0~1에 A존재\n",
      "1C2 : 0~0에 존재\n",
      "123 : 0~0에 존재\n"
     ]
    }
   ],
   "source": [
    "# 알파벳 대문자가 없거나 1회 사용된 패턴 찾기\n",
    "dataList = ('', 'F', 'AB', '1C2', '123')\n",
    "printMatch(r'[A-Z]?', dataList)"
   ]
  },
  {
   "cell_type": "code",
   "execution_count": 16,
   "id": "d4072968-34cc-412f-a586-b1a314aaf9a6",
   "metadata": {},
   "outputs": [
    {
     "name": "stdout",
     "output_type": "stream",
     "text": [
      "[0-9]{3}\n",
      "123      : 0~3에 123존재\n",
      "12345    : 0~3에 123존재\n",
      "12       : 문자열에 [0-9]{3}패턴이 존재하지 않음\n",
      "ab1234de : 2~5에 123존재\n"
     ]
    }
   ],
   "source": [
    "# 숫자가 3회 연속 사용된 패턴 찾기\n",
    "dataList = ('123', '12345', '12', 'ab1234de')\n",
    "printMatch(r'[0-9]{3}', dataList)"
   ]
  },
  {
   "cell_type": "code",
   "execution_count": 17,
   "id": "d27276c6-ec07-447e-a29e-f2ad365023a1",
   "metadata": {},
   "outputs": [
    {
     "name": "stdout",
     "output_type": "stream",
     "text": [
      "[0-9]{2,4}\n",
      "1     : 문자열에 [0-9]{2,4}패턴이 존재하지 않음\n",
      "12    : 0~2에 12존재\n",
      "123   : 0~3에 123존재\n",
      "1234  : 0~4에 1234존재\n",
      "12345 : 0~4에 1234존재\n"
     ]
    }
   ],
   "source": [
    "# 숫자가 2회 ~ 4회 연속 사용된 패턴 찾기\n",
    "dataList = ('1', '12','123', '1234', '12345')\n",
    "printMatch(r'[0-9]{2,4}', dataList)"
   ]
  },
  {
   "cell_type": "code",
   "execution_count": 18,
   "id": "2973565f-a5f1-473b-8318-b2856816daea",
   "metadata": {},
   "outputs": [
    {
     "name": "stdout",
     "output_type": "stream",
     "text": [
      "[0-9]{3,}\n",
      "12        : 문자열에 [0-9]{3,}패턴이 존재하지 않음\n",
      "123       : 0~3에 123존재\n",
      "1234      : 0~4에 1234존재\n",
      "12345     : 0~5에 12345존재\n",
      "abc1234ef : 3~7에 1234존재\n"
     ]
    }
   ],
   "source": [
    "# 숫자가 3회 이상 연속 사용된 패턴 찾기\n",
    "dataList = ('12','123', '1234', '12345', 'abc1234ef')\n",
    "printMatch(r'[0-9]{3,}', dataList)"
   ]
  },
  {
   "cell_type": "code",
   "execution_count": 19,
   "id": "e0497c0a-4ae2-422c-b466-d8406837b053",
   "metadata": {},
   "outputs": [
    {
     "name": "stdout",
     "output_type": "stream",
     "text": [
      "[0-9]{,3}\n",
      "abc   : 0~0에 존재\n",
      "1     : 0~1에 1존재\n",
      "12    : 0~2에 12존재\n",
      "123   : 0~3에 123존재\n",
      "1234  : 0~3에 123존재\n",
      "12345 : 0~3에 123존재\n"
     ]
    }
   ],
   "source": [
    "# 숫자가 3회 이하 연속 사용된 패턴 찾기 (0개 포함)\n",
    "dataList = ('abc', '1', '12', '123', '1234', '12345')\n",
    "printMatch(r'[0-9]{,3}', dataList)"
   ]
  },
  {
   "cell_type": "markdown",
   "id": "5cd025f2-bdc6-4c19-bb03-5b2b49e573d6",
   "metadata": {},
   "source": [
    "## 여러 가지 메타 문자"
   ]
  },
  {
   "cell_type": "markdown",
   "id": "950b945e-22b1-4429-b70d-7e6984ace34c",
   "metadata": {},
   "source": [
    "- .  : 문자 한 개 (\\n은 제외) -> `re.search(..., re.S)` 옵션 추가로 가능\n",
    "- ^x : 문자열의 시작이 x\n",
    "- x$ : 문자열의 끝이 x\n",
    "- x | y : x, y 중 하나 (여러 번 나열 가능) \n",
    "    + x | y | z : x, y, z 중 하나"
   ]
  },
  {
   "cell_type": "code",
   "execution_count": 20,
   "id": "4327b32d-03c5-484c-a702-a11503fa5e08",
   "metadata": {},
   "outputs": [
    {
     "name": "stdout",
     "output_type": "stream",
     "text": [
      "^a..o$\n",
      "a12o  : 0~4에 a12o존재\n",
      "abco  : 0~4에 abco존재\n",
      "aBo   : 문자열에 ^a..o$패턴이 존재하지 않음\n",
      "a123o : 문자열에 ^a..o$패턴이 존재하지 않음\n"
     ]
    }
   ],
   "source": [
    "# a로 시작하고 o로 끝나는데 사이에 2개의 문자가 있는 패턴 검색\n",
    "dataList = ('a12o', 'abco', 'aBo', 'a123o')\n",
    "printMatch(r'^a..o$', dataList )"
   ]
  },
  {
   "cell_type": "code",
   "execution_count": 21,
   "id": "2802f634-07a9-49c7-8bc0-f5804aeccae1",
   "metadata": {},
   "outputs": [
    {
     "name": "stdout",
     "output_type": "stream",
     "text": [
      "result of search .abc : <re.Match object; span=(0, 4), match='\\nabc'>\n"
     ]
    },
    {
     "data": {
      "text/plain": [
       "'\\nabc'"
      ]
     },
     "metadata": {},
     "output_type": "display_data"
    }
   ],
   "source": [
    "# \\n이 포함된 패턴을 검색하고 싶다면?\n",
    "ret = re.search('.abc', '\\nabc', re.S)\n",
    "print('result of search .abc :', ret)\n",
    "display(ret.group())"
   ]
  },
  {
   "cell_type": "code",
   "execution_count": 22,
   "id": "9597e0c9-699d-4d8b-b9ad-fc0a3e958938",
   "metadata": {},
   "outputs": [
    {
     "name": "stdout",
     "output_type": "stream",
     "text": [
      "^[a-z]+\n",
      "a12    : 0~1에 a존재\n",
      "kbs    : 0~3에 kbs존재\n",
      "123a   : 문자열에 ^[a-z]+패턴이 존재하지 않음\n",
      "KBstar : 문자열에 ^[a-z]+패턴이 존재하지 않음\n"
     ]
    }
   ],
   "source": [
    "# 1개 이상의 알파벳 소문자로 시작되는 패턴에서 '알파벳 소문자' 검색\n",
    "dataList = ('a12', 'kbs', '123a', 'KBstar')\n",
    "printMatch(r'^[a-z]+', dataList)"
   ]
  },
  {
   "cell_type": "code",
   "execution_count": 23,
   "id": "a94edbe8-c57f-4a06-830e-71b1954eae2c",
   "metadata": {},
   "outputs": [
    {
     "name": "stdout",
     "output_type": "stream",
     "text": [
      "[0-9]+$\n",
      "ab123 : 2~5에 123존재\n",
      "UP3   : 2~3에 3존재\n",
      "a12b  : 문자열에 [0-9]+$패턴이 존재하지 않음\n"
     ]
    }
   ],
   "source": [
    "# 1개 이상의 숫자로 끝나는 패턴에서 '숫자' 검색\n",
    "dataList = ('ab123', 'UP3', 'a12b')\n",
    "printMatch(r'[0-9]+$', dataList)"
   ]
  },
  {
   "cell_type": "code",
   "execution_count": 24,
   "id": "5c506437-add8-4156-92a4-f7b8e282694b",
   "metadata": {},
   "outputs": [
    {
     "name": "stdout",
     "output_type": "stream",
     "text": [
      "abc|123\n",
      "abcdef : 0~3에 abc존재\n",
      "-1234- : 1~4에 123존재\n",
      "12431  : 문자열에 abc|123패턴이 존재하지 않음\n",
      "axybz  : 문자열에 abc|123패턴이 존재하지 않음\n"
     ]
    }
   ],
   "source": [
    "# abc 또는 123 패턴 찾기\n",
    "dataList = ('abcdef', '-1234-', '12431', 'axybz')\n",
    "printMatch(r'abc|123', dataList)  # | => or"
   ]
  },
  {
   "cell_type": "markdown",
   "id": "cd9d553a-74cf-4d1d-aba6-f2c64281ac43",
   "metadata": {},
   "source": [
    "## 그룹 관련 메타 문자"
   ]
  },
  {
   "cell_type": "markdown",
   "id": "1757c963-5a44-444d-936b-1a3999e4521b",
   "metadata": {},
   "source": [
    "- (x) : ()안의 내용을 그룹화하고 내용이 캡처됨, 그룹 번호 1번부터 부여\n",
    "- \\1...\\99 : 캡처된 그룹 1번 ~ 99번 사용\n",
    "- (?:x) : 그룹으로 인정되지만, 캡처 및 그룹번호 부여되지 않음\n",
    "- (?P\\<name\\>x) : () 안의 내용을 그룹화하고 내용을 탭처함. 그룹의 이름을 지정\n",
    "    + 사용 시 'name'으로 사용. (예) match.group('name')\n",
    "    + 그룹 번호로도 사용할 수 있음 (위치에 따른 번호)\n",
    "- 캡처 : 저장되는 것을 의미하며, 후에 그룹 번호를 사용해 꺼내 사용 가능함\n",
    "- 다른 메타 문자 종류는 `re.__doc__` 를 사용하도록 한다"
   ]
  },
  {
   "cell_type": "code",
   "execution_count": 25,
   "id": "cbd0a16f-a2db-480e-9eae-28bf7f06be1a",
   "metadata": {},
   "outputs": [
    {
     "name": "stdout",
     "output_type": "stream",
     "text": [
      "0~12에 010-123-4567존재\n",
      "010\n",
      "-\n",
      "4567\n",
      "4567 4567\n"
     ]
    }
   ],
   "source": [
    "import re\n",
    "# 1. 숫자 그룹 => 숫자 3글자 : ([0-9]{3})\n",
    "# 2. 구분 기호 그룹 => : 또는 - 또는 공백 문자가 있을 수 있으며, 그룹 지정 : (:|-| )\n",
    "# 3. 그룹번호 부여하지 않는 숫자 그룹 => 숫자 3글자 또는 4글자 : (?:[0-9]{3,4})\n",
    "# 4. 2번에서 사용된 구분 기호 => 첫 번째 구분 기호와 동일한 것을 사용함 : \\2(그룹번호 사용)\n",
    "# 5. 이름을 pnum으로 갖는 숫자 그룹 => 숫자 4글자 : (?P<pnum>[0-9]{4})\n",
    "pattern = re.compile(r'([0-9]{3})(:|-| )(?:[0-9]{3,4})\\2(?P<pnum>[0-9]{4})')\n",
    "mc = re.search(pattern, '010-123-4567')\n",
    "if mc:\n",
    "    print('{}~{}에 {}존재'.format(mc.start(), mc.end(), mc.group()))\n",
    "    for x in mc.groups():\n",
    "        print(x)\n",
    "    print(mc.group(3), mc.group('pnum'))\n",
    "else:\n",
    "    print('문자열에 패턴이 존재하지 않음')"
   ]
  },
  {
   "cell_type": "code",
   "execution_count": 26,
   "id": "c1f063c2-094a-4e68-a01f-957751d3ec9e",
   "metadata": {},
   "outputs": [
    {
     "name": "stdout",
     "output_type": "stream",
     "text": [
      "Support for regular expressions (RE).\n",
      "\n",
      "This module provides regular expression matching operations similar to\n",
      "those found in Perl.  It supports both 8-bit and Unicode strings; both\n",
      "the pattern and the strings being processed can contain null bytes and\n",
      "characters outside the US ASCII range.\n",
      "\n",
      "Regular expressions can contain both special and ordinary characters.\n",
      "Most ordinary characters, like \"A\", \"a\", or \"0\", are the simplest\n",
      "regular expressions; they simply match themselves.  You can\n",
      "concatenate ordinary characters, so last matches the string 'last'.\n",
      "\n",
      "The special characters are:\n",
      "    \".\"      Matches any character except a newline.\n",
      "    \"^\"      Matches the start of the string.\n",
      "    \"$\"      Matches the end of the string or just before the newline at\n",
      "             the end of the string.\n",
      "    \"*\"      Matches 0 or more (greedy) repetitions of the preceding RE.\n",
      "             Greedy means that it will match as many repetitions as possible.\n",
      "    \"+\"      Matches 1 or more (greedy) repetitions of the preceding RE.\n",
      "    \"?\"      Matches 0 or 1 (greedy) of the preceding RE.\n",
      "    *?,+?,?? Non-greedy versions of the previous three special characters.\n",
      "    {m,n}    Matches from m to n repetitions of the preceding RE.\n",
      "    {m,n}?   Non-greedy version of the above.\n",
      "    \"\\\\\"     Either escapes special characters or signals a special sequence.\n",
      "    []       Indicates a set of characters.\n",
      "             A \"^\" as the first character indicates a complementing set.\n",
      "    \"|\"      A|B, creates an RE that will match either A or B.\n",
      "    (...)    Matches the RE inside the parentheses.\n",
      "             The contents can be retrieved or matched later in the string.\n",
      "    (?aiLmsux) The letters set the corresponding flags defined below.\n",
      "    (?:...)  Non-grouping version of regular parentheses.\n",
      "    (?P<name>...) The substring matched by the group is accessible by name.\n",
      "    (?P=name)     Matches the text matched earlier by the group named name.\n",
      "    (?#...)  A comment; ignored.\n",
      "    (?=...)  Matches if ... matches next, but doesn't consume the string.\n",
      "    (?!...)  Matches if ... doesn't match next.\n",
      "    (?<=...) Matches if preceded by ... (must be fixed length).\n",
      "    (?<!...) Matches if not preceded by ... (must be fixed length).\n",
      "    (?(id/name)yes|no) Matches yes pattern if the group with id/name matched,\n",
      "                       the (optional) no pattern otherwise.\n",
      "\n",
      "The special sequences consist of \"\\\\\" and a character from the list\n",
      "below.  If the ordinary character is not on the list, then the\n",
      "resulting RE will match the second character.\n",
      "    \\number  Matches the contents of the group of the same number.\n",
      "    \\A       Matches only at the start of the string.\n",
      "    \\Z       Matches only at the end of the string.\n",
      "    \\b       Matches the empty string, but only at the start or end of a word.\n",
      "    \\B       Matches the empty string, but not at the start or end of a word.\n",
      "    \\d       Matches any decimal digit; equivalent to the set [0-9] in\n",
      "             bytes patterns or string patterns with the ASCII flag.\n",
      "             In string patterns without the ASCII flag, it will match the whole\n",
      "             range of Unicode digits.\n",
      "    \\D       Matches any non-digit character; equivalent to [^\\d].\n",
      "    \\s       Matches any whitespace character; equivalent to [ \\t\\n\\r\\f\\v] in\n",
      "             bytes patterns or string patterns with the ASCII flag.\n",
      "             In string patterns without the ASCII flag, it will match the whole\n",
      "             range of Unicode whitespace characters.\n",
      "    \\S       Matches any non-whitespace character; equivalent to [^\\s].\n",
      "    \\w       Matches any alphanumeric character; equivalent to [a-zA-Z0-9_]\n",
      "             in bytes patterns or string patterns with the ASCII flag.\n",
      "             In string patterns without the ASCII flag, it will match the\n",
      "             range of Unicode alphanumeric characters (letters plus digits\n",
      "             plus underscore).\n",
      "             With LOCALE, it will match the set [0-9_] plus characters defined\n",
      "             as letters for the current locale.\n",
      "    \\W       Matches the complement of \\w.\n",
      "    \\\\       Matches a literal backslash.\n",
      "\n",
      "This module exports the following functions:\n",
      "    match     Match a regular expression pattern to the beginning of a string.\n",
      "    fullmatch Match a regular expression pattern to all of a string.\n",
      "    search    Search a string for the presence of a pattern.\n",
      "    sub       Substitute occurrences of a pattern found in a string.\n",
      "    subn      Same as sub, but also return the number of substitutions made.\n",
      "    split     Split a string by the occurrences of a pattern.\n",
      "    findall   Find all occurrences of a pattern in a string.\n",
      "    finditer  Return an iterator yielding a Match object for each match.\n",
      "    compile   Compile a pattern into a Pattern object.\n",
      "    purge     Clear the regular expression cache.\n",
      "    escape    Backslash all non-alphanumerics in a string.\n",
      "\n",
      "Each function other than purge and escape can take an optional 'flags' argument\n",
      "consisting of one or more of the following module constants, joined by \"|\".\n",
      "A, L, and U are mutually exclusive.\n",
      "    A  ASCII       For string patterns, make \\w, \\W, \\b, \\B, \\d, \\D\n",
      "                   match the corresponding ASCII character categories\n",
      "                   (rather than the whole Unicode categories, which is the\n",
      "                   default).\n",
      "                   For bytes patterns, this flag is the only available\n",
      "                   behaviour and needn't be specified.\n",
      "    I  IGNORECASE  Perform case-insensitive matching.\n",
      "    L  LOCALE      Make \\w, \\W, \\b, \\B, dependent on the current locale.\n",
      "    M  MULTILINE   \"^\" matches the beginning of lines (after a newline)\n",
      "                   as well as the string.\n",
      "                   \"$\" matches the end of lines (before a newline) as well\n",
      "                   as the end of the string.\n",
      "    S  DOTALL      \".\" matches any character at all, including the newline.\n",
      "    X  VERBOSE     Ignore whitespace and comments for nicer looking RE's.\n",
      "    U  UNICODE     For compatibility only. Ignored for string patterns (it\n",
      "                   is the default), and forbidden for bytes patterns.\n",
      "\n",
      "This module also defines an exception 'error'.\n",
      "\n",
      "\n"
     ]
    }
   ],
   "source": [
    "print(re.__doc__)"
   ]
  },
  {
   "cell_type": "markdown",
   "id": "225acc8f-2ca8-4fd3-bfc9-b51b3d5c1b95",
   "metadata": {},
   "source": [
    "## Special Sequences 1"
   ]
  },
  {
   "cell_type": "markdown",
   "id": "37373906-1684-422c-90fa-2c4602a7da9f",
   "metadata": {},
   "source": [
    "- \\d : 숫자 한 개 == [0-9]\n",
    "- \\D : \\d가 아닌 문자 한 개 == [^0-9]\n",
    "- \\w : 숫자 + 문자 (알파멧, 한글 등) + _ == [가-힇a-zA-Z0-9_] (이름 작성에 사용가능한 문자)\n",
    "- \\W : \\w 가 아닌 문자 = [^가-힇a-zA-Z0-9_]\n",
    "- \\s : 화이트 스페이스 문자 == [ \\t\\n\\r\\f\\v] (공백 포함)\n",
    "- \\S : \\s가 아닌 문자 = [^ \\t\\n\\r\\f\\v]\n",
    "- \\\\^ : 메타문자 '^' 를 일반 문자로 취급\n",
    "- \\A : 문자열의 시작부터 매치되는 문자열을 찾음\n",
    "- \\Z : 문자열의 끝부터 매치되는 문자여을 찾음\n",
    "    + \\A, \\Z 는 여러 줄 문자열도 1개의 문자열로 취급함\n",
    "    + ^, $ : 여러 줄 문자열인 경우 옵션에 따라서 여러 줄을 각 줄로 나누어서 사용, 하나의 문자열로 사용\n",
    "    + \\A, \\Z : 여러 줄 문자열인 경우 항상 하나의 문자열로 사용"
   ]
  },
  {
   "cell_type": "code",
   "execution_count": 27,
   "id": "a0093b85-e494-4160-a698-45b5d02aab75",
   "metadata": {},
   "outputs": [
    {
     "name": "stdout",
     "output_type": "stream",
     "text": [
      "\\d\\w\\W\\s\\D\n",
      "123_* ab : 2~7에 3_* a존재\n"
     ]
    }
   ],
   "source": [
    "# 숫자 1개 + 이름 작성에 사용 가능한 문자 1개 + 이름 작성에 사용 불가한 문자 1개 + 화이트스페이스 문자(=공백문자) 1개 + 숫자 아닌 문자 1개\n",
    "dataList = ('123_* ab', )\n",
    "printMatch(r'\\d\\w\\W\\s\\D', dataList)"
   ]
  },
  {
   "cell_type": "code",
   "execution_count": 28,
   "id": "b8654eb6-cb4e-407f-8ab6-c7782e372981",
   "metadata": {},
   "outputs": [
    {
     "name": "stdout",
     "output_type": "stream",
     "text": [
      "\\d+\\s?\\^\\s*\\d+\n",
      "a = 12^3 * 4 : 4~8에 12^3존재\n",
      "2 ^345       : 0~6에 2 ^345존재\n",
      "8 ^ 2        : 0~5에 8 ^ 2존재\n"
     ]
    }
   ],
   "source": [
    "# 숫자 1글자 이상 + (공백문자 1개 있거나 없거나) + ^ + (공백문자은 0개 이상) + 숫자 1글자 이상 검색\n",
    "dataList = ('a = 12^3 * 4', '2 ^345', '8 ^ 2' )\n",
    "printMatch(r'\\d+\\s?\\^\\s*\\d+', dataList)"
   ]
  },
  {
   "cell_type": "code",
   "execution_count": 29,
   "id": "f47e31c2-d1bf-4973-847b-12c46261674b",
   "metadata": {},
   "outputs": [],
   "source": [
    "import re\n",
    "\n",
    "data = '''There is no mistaking\n",
    "There is a real book\n",
    "It is like falling in love\n",
    "A true love'''"
   ]
  },
  {
   "cell_type": "code",
   "execution_count": 30,
   "id": "d2f665a1-c174-4c83-aede-febe0250ba0f",
   "metadata": {},
   "outputs": [
    {
     "name": "stdout",
     "output_type": "stream",
     "text": [
      "<re.Match object; span=(0, 5), match='There'>\n",
      "<re.Match object; span=(77, 81), match='love'>\n",
      "<re.Match object; span=(0, 5), match='There'>\n",
      "<re.Match object; span=(65, 69), match='love'>\n"
     ]
    }
   ],
   "source": [
    "print(re.search(r'^There', data))\n",
    "print(re.search(r'love$', data))\n",
    "print(re.search(r'^There', data, flags=re.M))\n",
    "print(re.search(r'love$', data, flags=re.M))"
   ]
  },
  {
   "cell_type": "code",
   "execution_count": 31,
   "id": "29a7c58f-8c62-4959-96c0-a84ccc6d982a",
   "metadata": {},
   "outputs": [
    {
     "name": "stdout",
     "output_type": "stream",
     "text": [
      "<re.Match object; span=(0, 5), match='There'>\n",
      "<re.Match object; span=(77, 81), match='love'>\n",
      "<re.Match object; span=(0, 5), match='There'>\n",
      "<re.Match object; span=(77, 81), match='love'>\n"
     ]
    }
   ],
   "source": [
    "print(re.search(r'\\AThere', data))\n",
    "print(re.search(r'love\\Z', data))\n",
    "print(re.search(r'\\AThere', data, flags=re.M))\n",
    "print(re.search(r'love\\Z', data, flags=re.M))"
   ]
  },
  {
   "cell_type": "code",
   "execution_count": 32,
   "id": "4ad1f8b3-8107-400e-8ce7-5012ea84b486",
   "metadata": {},
   "outputs": [],
   "source": [
    "data = '''There is no mistaking\n",
    "There is a real book\n",
    "It is like falling in love\n",
    "A true love'''"
   ]
  },
  {
   "cell_type": "code",
   "execution_count": 33,
   "id": "2e863d42-662f-4e41-97b0-6c118cec4ee5",
   "metadata": {},
   "outputs": [
    {
     "name": "stdout",
     "output_type": "stream",
     "text": [
      "['There']\n",
      "['love']\n",
      "['There', 'There']\n",
      "['love', 'love']\n"
     ]
    }
   ],
   "source": [
    "print(re.findall(r'^There', data))\n",
    "print(re.findall(r'love$', data))\n",
    "print(re.findall(r'^There', data, flags=re.M))\n",
    "print(re.findall(r'love$', data, flags=re.M))"
   ]
  },
  {
   "cell_type": "code",
   "execution_count": 34,
   "id": "0fbde932-b162-4657-a3e8-a57af264cad4",
   "metadata": {},
   "outputs": [
    {
     "name": "stdout",
     "output_type": "stream",
     "text": [
      "['There']\n",
      "['love']\n",
      "['There']\n",
      "['love']\n"
     ]
    }
   ],
   "source": [
    "print(re.findall(r'\\AThere', data))\n",
    "print(re.findall(r'love\\Z', data))\n",
    "print(re.findall(r'\\AThere', data, flags=re.M))\n",
    "print(re.findall(r'love\\Z', data, flags=re.M))"
   ]
  },
  {
   "cell_type": "markdown",
   "id": "cdea7b9a-ad67-476a-90ce-15619688f480",
   "metadata": {},
   "source": [
    "## Special Sequences 2"
   ]
  },
  {
   "cell_type": "markdown",
   "id": "5f2bcb3e-c0ea-4f6c-89d8-d4c4015237e2",
   "metadata": {},
   "source": [
    "- matches empty string\n",
    "- \\b : boundry - \\w 와 \\W의 사이를 의미함 (단어의 경계)\n",
    "    + 단어의 시작 또는 끝에서 매치되는 것을 찾음\n",
    "    + 맨 앞에 사용할 경우 단어의 시작\n",
    "    + 맨 뒤에 사용할 경우 단어의 끝\n",
    "- \\B : boundry 가 아닌 것\n",
    "    + 단어의 시작 또는 끝이 아닌 곳에서 매치되는 것을 찾음\n",
    "    + 맨 앞에 사용할 경우 단어의 시작이 아닌 것\n",
    "    + 맨 뒤에 사용할 경우 단어의 끝이 아닌 것\n",
    "- 특이사항\n",
    "    + \\b, \\B 는 패턴의 맨 앞, 뒤에 사용함\n",
    "    + \\b, \\B 는 \\w (워드문자)가 아닌 문자를 구분 문자로 취급함"
   ]
  },
  {
   "cell_type": "code",
   "execution_count": 35,
   "id": "da813500-3cd9-497e-b933-e68547b7c53b",
   "metadata": {},
   "outputs": [],
   "source": [
    "import re\n",
    "\n",
    "def printMatch2(pstr, data):\n",
    "    mc = re.finditer(pstr, data)\n",
    "    print(pstr)\n",
    "    print([[x.span(), x.group()] for x in mc])"
   ]
  },
  {
   "cell_type": "code",
   "execution_count": 36,
   "id": "8513ae1c-570f-4238-8d31-5cf12a9686be",
   "metadata": {},
   "outputs": [
    {
     "name": "stdout",
     "output_type": "stream",
     "text": [
      "picked peck opic? 123pie 456.pie pickeds.\n",
      "pi\n",
      "[[(0, 2), 'pi'], [(13, 15), 'pi'], [(21, 23), 'pi'], [(29, 31), 'pi'], [(33, 35), 'pi']]\n",
      "\\bpi\n",
      "[[(0, 2), 'pi'], [(29, 31), 'pi'], [(33, 35), 'pi']]\n"
     ]
    }
   ],
   "source": [
    "data = 'picked peck opic? 123pie 456.pie pickeds.'\n",
    "print(data)\n",
    "\n",
    "# pi가 포함된 모든 문자열 : r'pi' \n",
    "# 단어의 시작이 pi인 것   : r'\\bpi'\n",
    "printMatch2(r'pi', data)\n",
    "printMatch2(r'\\bpi', data)"
   ]
  },
  {
   "cell_type": "code",
   "execution_count": 37,
   "id": "ee87fac1-cfb3-4ebd-a6cc-2ae7c0d2de02",
   "metadata": {},
   "outputs": [
    {
     "name": "stdout",
     "output_type": "stream",
     "text": [
      "picked peck opic? picked. pickeds.\n",
      "\\bp\\w+ed\n",
      "[[(0, 6), 'picked'], [(18, 24), 'picked'], [(26, 32), 'picked']]\n",
      "\\bp\\w+ed\\b\n",
      "[[(0, 6), 'picked'], [(18, 24), 'picked']]\n"
     ]
    }
   ],
   "source": [
    "data = 'picked peck opic? picked. pickeds.'\n",
    "print(data)\n",
    "\n",
    "# p로 시작하는 단어이면서, ed로 끝나는 모든 것 : r'\\bp\\w+ed'\n",
    "# p로 시작하고, ed로 끝나는 단어              : r'\\bp\\w+ed\\b'\n",
    "\n",
    "# 경계문자 + p + 워드문자 1개 이상 + ed\n",
    "printMatch2(r'\\bp\\w+ed', data)\n",
    "# 경계문자 + p + 워드문자 1개 이상 + ed + 경계문자\n",
    "printMatch2(r'\\bp\\w+ed\\b', data)"
   ]
  },
  {
   "cell_type": "code",
   "execution_count": 38,
   "id": "98b0030c-e3d1-4f66-badd-add6620a9419",
   "metadata": {},
   "outputs": [
    {
     "name": "stdout",
     "output_type": "stream",
     "text": [
      "picked peck opic? 123.pie pickeds. a....bcd\n",
      "\\B\\w+\\B\n",
      "[[(1, 5), 'icke'], [(8, 10), 'ec'], [(13, 15), 'pi'], [(19, 20), '2'], [(23, 24), 'i'], [(27, 32), 'icked'], [(41, 42), 'c']]\n"
     ]
    }
   ],
   "source": [
    "data = 'picked peck opic? 123.pie pickeds. a....bcd'\n",
    "print(data)\n",
    "\n",
    "# 경계가 아닌 것 + 워드 문자 1개 이상 + 경계가 아닌 것\n",
    "printMatch2(r'\\B\\w+\\B', data)"
   ]
  },
  {
   "cell_type": "code",
   "execution_count": 39,
   "id": "5688d8b0-4049-4f87-95a0-5a5f71a3ffca",
   "metadata": {},
   "outputs": [
    {
     "name": "stdout",
     "output_type": "stream",
     "text": [
      "\\B\\w+\n",
      "[[(1, 6), 'icked'], [(8, 11), 'eck'], [(13, 19), 'ickled'], [(21, 24), 'pic'], [(27, 33), '23pied']]\n",
      "\\Bed\n",
      "[[(4, 6), 'ed'], [(17, 19), 'ed'], [(31, 33), 'ed']]\n"
     ]
    }
   ],
   "source": [
    "data = 'picked peck pickled opic? 123pied'\n",
    "\n",
    "# 경계가 아닌 것이 앞에 있고 ed가 있는\n",
    "printMatch2(r'\\B\\w+', data)\n",
    "printMatch2(r'\\Bed', data)"
   ]
  },
  {
   "cell_type": "code",
   "execution_count": 40,
   "id": "45db7261-8e16-4954-bb77-6108ceb6bdaf",
   "metadata": {},
   "outputs": [
    {
     "name": "stdout",
     "output_type": "stream",
     "text": [
      "\\w+\\B\n",
      "[[(0, 5), 'picke'], [(7, 10), 'pec'], [(12, 18), 'pickle'], [(20, 23), 'opi'], [(26, 32), '123pie']]\n",
      "pic\\B\n",
      "[[(0, 3), 'pic'], [(12, 15), 'pic']]\n"
     ]
    }
   ],
   "source": [
    "data = 'picked peck pickled opic? 123pied'\n",
    "\n",
    "# pic가 있고 경계가 아닌 것이 뒤에 있는\n",
    "printMatch2(r'\\w+\\B', data)\n",
    "printMatch2(r'pic\\B', data)"
   ]
  },
  {
   "cell_type": "code",
   "execution_count": 41,
   "id": "9a6fbada-1c48-45e7-92ea-a3241c9d3ef7",
   "metadata": {},
   "outputs": [
    {
     "name": "stdout",
     "output_type": "stream",
     "text": [
      "picked opic? 123.pie are good!! apickeds.\n",
      "\\b\\w+[!?.]+\n",
      "[[(7, 12), 'opic?'], [(13, 17), '123.'], [(25, 31), 'good!!'], [(32, 41), 'apickeds.']]\n"
     ]
    }
   ],
   "source": [
    "data = 'picked opic? 123.pie are good!! apickeds.'\n",
    "print(data)\n",
    "\n",
    "# word 문자가 1개 이상으로 시작하는 단어이면서 그 뒤로 [!?.] 중 하나 이상이 포함된\n",
    "printMatch2(r'\\b\\w+[!?.]+', data)"
   ]
  },
  {
   "cell_type": "code",
   "execution_count": 42,
   "id": "9b6ff76c-d09a-4375-a775-cc0c2b29a69c",
   "metadata": {},
   "outputs": [
    {
     "name": "stdout",
     "output_type": "stream",
     "text": [
      "picked opic? 123.pie are good!! apickeds.\n",
      "\\b\\w+[!?.]+\\B\n",
      "[[(7, 12), 'opic?'], [(25, 31), 'good!!'], [(32, 41), 'apickeds.']]\n"
     ]
    }
   ],
   "source": [
    "data = 'picked opic? 123.pie are good!! apickeds.'\n",
    "print(data)\n",
    "\n",
    "# word 문자가 1개 이상으로 시작하는 단어이면서 그 뒤로 [!?.] 중 하나 이상이 포함되었지만 끝나지 않는\n",
    "# [!?.] -> 단어문자가 아님\n",
    "printMatch2(r'\\b\\w+[!?.]+\\B', data)"
   ]
  },
  {
   "cell_type": "markdown",
   "id": "11cddf42-8474-462b-b4a7-486926662dc5",
   "metadata": {},
   "source": [
    "# 탐색 함수"
   ]
  },
  {
   "cell_type": "markdown",
   "id": "01f8e293-6575-45ea-af74-015485abbecd",
   "metadata": {},
   "source": [
    "## 탐색 함수 종류"
   ]
  },
  {
   "cell_type": "markdown",
   "id": "4bbd2621-2bea-4c52-b0e9-cf1b7826f33e",
   "metadata": {},
   "source": [
    "- `re.findall(pattern, string)`   : 매치하는 모든 패턴을 <u>겹치지 않게 탐색</u>하여 <b>list 객체</b> 반환\n",
    "- `re.finditer(pattern, string)`  : findall()과 같은 동작이며, <b>Match iterator 객체</b> 반환\n",
    "- `re.search(pattern, string)`    : 문자열의 <u>임의 지점</u>에서 패턴과 매치하는 텍스트 탐색, <b>Match 객체</b> 반환\n",
    "- `re.match(pattern, string) `    : 문자열의 <u>시작 지점</u>에서 패턴과 매치하는 텍스트 탐색, <b>Match 객체</b> 반환\n",
    "- `re.fullmatch(pattern, string)` : 문자열과 패턴이 전체 매치하는 텍스트 탐색, <b>Match 객체</b> 반환\n",
    "-  <b>매칭되는 것이 없으면 None 을 반환</b>함"
   ]
  },
  {
   "cell_type": "markdown",
   "id": "51544131-4970-42b0-b32b-a4a9c56b1ad0",
   "metadata": {},
   "source": [
    "- 겹치는 것과 겹치지 않는 것\n",
    "\n",
    "![nn](./images/regular_expression-01.png)"
   ]
  },
  {
   "cell_type": "code",
   "execution_count": 43,
   "id": "321e8a18-969b-4395-bc8f-23a8d9963669",
   "metadata": {},
   "outputs": [],
   "source": [
    "import re"
   ]
  },
  {
   "cell_type": "code",
   "execution_count": 44,
   "id": "833cf15e-a770-4b72-af63-dc17a4638a09",
   "metadata": {},
   "outputs": [
    {
     "name": "stdout",
     "output_type": "stream",
     "text": [
      "<class 'list'>\n",
      "Matched: wow\n",
      "Matched: wow\n"
     ]
    }
   ],
   "source": [
    "ret = re.findall(r'wow', 'wowowowow')\n",
    "print(type(ret))\n",
    "for t in ret:\n",
    "    print(f'Matched: {t}')"
   ]
  },
  {
   "cell_type": "code",
   "execution_count": 45,
   "id": "17bae493-6200-43ec-8620-6faa17465358",
   "metadata": {},
   "outputs": [
    {
     "name": "stdout",
     "output_type": "stream",
     "text": [
      "<class 'callable_iterator'>\n",
      "Matched: <re.Match object; span=(0, 3), match='wow'>\n",
      "Matched: <re.Match object; span=(4, 7), match='wow'>\n"
     ]
    }
   ],
   "source": [
    "ret = re.finditer(r'wow', 'wowowowow')\n",
    "print(type(ret))\n",
    "for t in ret:\n",
    "    print(f'Matched: {t}')"
   ]
  },
  {
   "cell_type": "code",
   "execution_count": 46,
   "id": "4bf111bf-9f12-41ae-8c4f-606f1fce2781",
   "metadata": {},
   "outputs": [
    {
     "name": "stdout",
     "output_type": "stream",
     "text": [
      "Matched ret1 : ab\n",
      "Matched ret2 : ab\n"
     ]
    }
   ],
   "source": [
    "pattern = re.compile(r'[a-z]{2}')\n",
    "ret1 = pattern.search('123abc123')\n",
    "ret2 = pattern.search('abcXde')\n",
    "if ret1: print(f'Matched ret1 : {ret1.group()}')\n",
    "if ret2: print(f'Matched ret2 : {ret2.group()}')"
   ]
  },
  {
   "cell_type": "code",
   "execution_count": 47,
   "id": "4e1e34a2-0a65-49cf-b6a4-3ad35faa0a3b",
   "metadata": {},
   "outputs": [
    {
     "name": "stdout",
     "output_type": "stream",
     "text": [
      "Matched ret2 : ab\n"
     ]
    }
   ],
   "source": [
    "pattern = re.compile(r'[a-z]{2}')\n",
    "ret1 = pattern.match('123abc123')\n",
    "ret2 = pattern.match('abcXde')\n",
    "if ret1: print(f'Matched ret1 : {ret1.group()}')\n",
    "if ret2: print(f'Matched ret2 : {ret2.group()}')"
   ]
  },
  {
   "cell_type": "code",
   "execution_count": 48,
   "id": "c89d9954-b863-4266-af06-da3549c3d7e7",
   "metadata": {},
   "outputs": [
    {
     "name": "stdout",
     "output_type": "stream",
     "text": [
      "Matched ret2 : ab\n"
     ]
    }
   ],
   "source": [
    "pattern = re.compile('[a-z]{2}')\n",
    "ret1 = pattern.fullmatch('abcd')\n",
    "ret2 = pattern.fullmatch('ab')\n",
    "if ret1: print(f'Matched ret1 : {ret1.group()}')\n",
    "if ret2: print(f'Matched ret2 : {ret2.group()}')"
   ]
  },
  {
   "cell_type": "code",
   "execution_count": 49,
   "id": "96596413-0a80-44a9-a53e-12dcefbe1cbb",
   "metadata": {},
   "outputs": [
    {
     "name": "stdout",
     "output_type": "stream",
     "text": [
      "Matched: 1\n",
      "Matched: 12\n",
      "Matched: 1234\n"
     ]
    }
   ],
   "source": [
    "# 숫자 1개 이상으로 이루어진 문자열 (숫자로만 이루어진 문자열)\n",
    "data = ('1','12','1234','12ab34','12 34')\n",
    "\n",
    "for x in data:\n",
    "    ret = re.fullmatch(r'\\d+', x)\n",
    "    if ret: print(f'Matched: {ret.group()}')"
   ]
  },
  {
   "cell_type": "markdown",
   "id": "1e5136ee-8f2f-42f9-81e4-22f7a6afc24a",
   "metadata": {},
   "source": [
    "## 치환/분리 함수"
   ]
  },
  {
   "cell_type": "markdown",
   "id": "b60b0a61-6a59-4ea1-9a5e-e6e117a10c87",
   "metadata": {},
   "source": [
    "- `re.sub(pattern, 치환문자열, 문자열)` : 문자열에서 패턴과 매치하는 텍스트를 치환문자열로 치환함\n",
    "- `re.split(pattern, 문자열)` : 문자열을 패턴 기준으로 분리함\n",
    "    + 문자열 list 로 반환\n",
    "    + 패턴에 맞는 것이 없으면 문자열을 분리하지 않고 1개 item 으로 취급함"
   ]
  },
  {
   "cell_type": "code",
   "execution_count": 50,
   "id": "c9fb6da6-1c6b-4a55-a07f-eae69c2896a7",
   "metadata": {},
   "outputs": [
    {
     "name": "stdout",
     "output_type": "stream",
     "text": [
      "X1X2X3X\n"
     ]
    }
   ],
   "source": [
    "# 연속된 알파멧 소문자 1개 이상을 X 로 치환\n",
    "ret = re.sub(r'[a-z]+', 'X', 'abc1de2fg3hij')\n",
    "print(ret)"
   ]
  },
  {
   "cell_type": "code",
   "execution_count": 51,
   "id": "698d853d-41be-4848-ac90-3d2498270f38",
   "metadata": {},
   "outputs": [
    {
     "name": "stdout",
     "output_type": "stream",
     "text": [
      "['abc', 'de', 'fg', 'hij']\n"
     ]
    }
   ],
   "source": [
    "# 숫자를 구분자로 하여 문자열 분리\n",
    "ret = re.split(r'\\d', 'abc1de2fg3hij')\n",
    "print(ret)"
   ]
  },
  {
   "cell_type": "markdown",
   "id": "a9e1e7dd-4649-43d7-8940-e1c89e29d27a",
   "metadata": {},
   "source": [
    "## Match 객체의 메서드"
   ]
  },
  {
   "cell_type": "markdown",
   "id": "88c811ed-bdf7-418c-ab49-57b2a3940800",
   "metadata": {},
   "source": [
    "- `mc.group()` : 매치되는 텍스트를 string 으로 변환하여 반환\n",
    "- `mc.group(번호 또는 이름)` : 그룹 번호에 해당하는 텍스트를 string 으로 변환하여 반환\n",
    "    + 그룹 번호는 1부터 시작하여 1씩 증가하는 정수\n",
    "- `mc.group(번호1, 번호 ...)` : 여러 개의 그룹을 텍스트로 변환하여 tuple 반환\n",
    "- `mc.groups()` : 매치되는 텍스트들을 string 으로 변환하여 tuple 반환\n",
    "- `mc.start()` : 매치된 텍스트의 시작 위치 반환\n",
    "- `mc.end()` : 매치된 텍스트의 마지막 다음 위치 반환\n",
    "- `mc.span()` : 매치된 텍스트의 (start, end) 에 해당되는 tuple 반환"
   ]
  },
  {
   "cell_type": "code",
   "execution_count": 52,
   "id": "86787649-e367-4ec1-ae96-fad7ca54caf4",
   "metadata": {},
   "outputs": [
    {
     "name": "stdout",
     "output_type": "stream",
     "text": [
      "(031) 234-2345\n",
      "(031)\n",
      "(031)\n",
      "234\n",
      "2345\n",
      "('(031)', '234', '2345')\n",
      "('234', '2345')\n",
      "0 14 (0, 14)\n",
      "<re.Match object; span=(0, 14), match='(031) 234-2345'>\n"
     ]
    }
   ],
   "source": [
    "import re\n",
    "\n",
    "pattern = re.compile(r'(?P<localcode>\\(\\d{3}\\)) (\\d{3})-(\\d{4})')\n",
    "ret = pattern.search('(031) 234-2345')\n",
    "\n",
    "print(ret.group()) # 패턴에 맞는 문자열 전체\n",
    "print(ret.group(1)) # group 1\n",
    "print(ret.group('localcode')) # group 1 -> named: localcode\n",
    "print(ret.group(2)) # group 2\n",
    "print(ret.group(3)) # group 3\n",
    "print(ret.groups()) # group list\n",
    "print(ret.group(2,3)) # group 2 ~ group 3\n",
    "print(ret.start(), ret.end(), ret.span())\n",
    "print(ret)"
   ]
  },
  {
   "cell_type": "markdown",
   "id": "3c3755ca-5a31-4f49-a1a9-b282911eaa98",
   "metadata": {},
   "source": [
    "## compile()의 옵션"
   ]
  },
  {
   "cell_type": "markdown",
   "id": "f2bd9880-75d5-4d08-9917-5120f5ba6210",
   "metadata": {},
   "source": [
    "- `re.compile(pattern, options)` 과 같이 사용함\n",
    "- `re.탐색함수(pattern, string, options)` 과 같이 사용함\n",
    "    + 여러 개의 옵션을 동시 적용하기 위해서는 or 연산을 사용하는 '|' 를 사용함\n",
    "- `re.DOTALL`, `re.S` : <b>.</b> 메타문자를 \\n 을 포함한 글자 1개를 표현할 수 있도록 함\n",
    "    + <b>.</b> 메타문자는 1개의 문자를 의미하나 '\\n'은 포함하지 않음\n",
    "- `re.IGNORECASE`, `re.I` : 영문 대/소문자를 구분하지 않고 매치 수행\n",
    "- `re.MULTILINE`, `re.M` : ^ 및 $ 과 연관있는 옵션으로 문자열이 '여러 줄'인 것을 허용\n",
    "- `re.VERBOSE`, `re.X` : 이해 어려운 정규식에 주석 또는 라인 단위로 구분하여 표시할 수 있도록 처리"
   ]
  },
  {
   "cell_type": "code",
   "execution_count": 53,
   "id": "aa884269-5b86-4338-94be-0f9e7113ab22",
   "metadata": {},
   "outputs": [
    {
     "name": "stdout",
     "output_type": "stream",
     "text": [
      "Good\n",
      "----------\n",
      "Good\n",
      "Better\n",
      "----------\n",
      "Good\n",
      "Better\n",
      "----------\n"
     ]
    }
   ],
   "source": [
    "pt1 = re.compile(r'.*')\n",
    "pt2 = re.compile(r'.*', flags=re.DOTALL)\n",
    "pt3 = re.compile(r'.*', flags=re.S)\n",
    "\n",
    "for pattern in (pt1, pt2, pt3):\n",
    "    ret = re.search(pattern, 'Good\\nBetter')\n",
    "    print(ret.group())\n",
    "    # display(ret.group())\n",
    "    print('-' * 10)\n",
    "    \n",
    "# ret = re.search(r'.*', 'Good\\nBetter', flags=re.S)"
   ]
  },
  {
   "cell_type": "code",
   "execution_count": 54,
   "id": "939c44dd-cd3a-4ab5-bd41-cc7bc4f8b70b",
   "metadata": {},
   "outputs": [
    {
     "name": "stdout",
     "output_type": "stream",
     "text": [
      "['abc']\n",
      "['abc', 'ABC', 'AbC']\n",
      "['abc', 'ABC', 'AbC']\n"
     ]
    }
   ],
   "source": [
    "pt1 = re.compile(r'abc')\n",
    "pt2 = re.compile(r'abc', flags=re.IGNORECASE)\n",
    "pt3 = re.compile(r'abc', flags=re.I)\n",
    "\n",
    "for pattern in (pt1, pt2, pt3):\n",
    "    ret = re.findall(pattern, 'abcABCAbC')\n",
    "    print(ret)"
   ]
  },
  {
   "cell_type": "code",
   "execution_count": 55,
   "id": "04650610-b51f-44d4-9587-19ba6fa911e4",
   "metadata": {},
   "outputs": [
    {
     "name": "stdout",
     "output_type": "stream",
     "text": [
      "\n",
      "DONE \n",
      "\n",
      "<re.Match object; span=(0, 43), match='Good Morning!\\nGood Afternoon!\\nGood Evening!'>\n",
      "DONE \n",
      "\n",
      "<re.Match object; span=(0, 13), match='Good Morning!'>\n",
      "<re.Match object; span=(30, 43), match='Good Evening!'>\n",
      "DONE\n"
     ]
    }
   ],
   "source": [
    "msg = 'Good Morning!\\nGood Afternoon!\\nGood Evening!'\n",
    "pt1 = re.compile(r'^G(.*)ing!$')\n",
    "pt2 = re.compile(r'^G(.*)ing!$', flags=re.S)\n",
    "pt3 = re.compile(r'^G(.*)ing!$', flags=re.MULTILINE)\n",
    "\n",
    "ret = re.finditer(pt1, msg)\n",
    "print(*ret, sep='\\n')\n",
    "print('DONE', '\\n')\n",
    "\n",
    "ret = re.finditer(pt2, msg)\n",
    "print(*ret, sep='\\n')\n",
    "print('DONE', '\\n')\n",
    "\n",
    "ret = re.finditer(pt3, msg)\n",
    "print(*ret, sep='\\n')\n",
    "print('DONE')"
   ]
  },
  {
   "cell_type": "code",
   "execution_count": 56,
   "id": "6c6b276c-f705-43a2-a452-41927a9108e2",
   "metadata": {},
   "outputs": [
    {
     "name": "stdout",
     "output_type": "stream",
     "text": [
      "(031) 234-2345\n"
     ]
    }
   ],
   "source": [
    "phone1 = re.compile(r'\\(\\d{3}\\)\\s?\\d{3}-\\d{4}')\n",
    "phone2 = re.compile(r'''(\n",
    "    \\(\\d{3}\\)    # area code\n",
    "    \\s?           # white space (0 or 1)\n",
    "    \\d{3}         # first 3 digits\n",
    "    -             # seperator\n",
    "    \\d{4}         # last 4 digits\n",
    ")''', flags=re.VERBOSE)\n",
    "ret = re.search(phone2, 'Phone: (031) 234-2345')\n",
    "print(ret.group())"
   ]
  },
  {
   "cell_type": "code",
   "execution_count": null,
   "id": "9e65a130-e5e7-44c7-8ed2-6fbb4c26ad40",
   "metadata": {},
   "outputs": [],
   "source": []
  }
 ],
 "metadata": {
  "kernelspec": {
   "display_name": "Python 3 (ipykernel)",
   "language": "python",
   "name": "python3"
  },
  "language_info": {
   "codemirror_mode": {
    "name": "ipython",
    "version": 3
   },
   "file_extension": ".py",
   "mimetype": "text/x-python",
   "name": "python",
   "nbconvert_exporter": "python",
   "pygments_lexer": "ipython3",
   "version": "3.9.13"
  }
 },
 "nbformat": 4,
 "nbformat_minor": 5
}
