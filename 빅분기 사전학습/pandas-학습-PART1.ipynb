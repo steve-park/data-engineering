{
 "cells": [
  {
   "cell_type": "markdown",
   "id": "e685180c-8e3a-4286-860e-24b7bafa37b3",
   "metadata": {
    "jp-MarkdownHeadingCollapsed": true,
    "tags": []
   },
   "source": [
    "# pandas 특징"
   ]
  },
  {
   "cell_type": "markdown",
   "id": "69a969f0-5e6e-4e78-9d96-824816cbfdbf",
   "metadata": {},
   "source": [
    "- DataFrame, Series, Index 를 사용하여 데이터 처리 및 분석을 수행한다\n",
    "    + 다양한 형태의 file, 생성자를 사용하여 DataFrame을 만든다\n",
    "    + 위의 객체들은 <font color=red>ndarray를 기반</font>으로 데이터의 처리, 분석을 효율적으로 할 수 있다\n",
    "    \n",
    "![nn](./images/pandas-01.png)"
   ]
  },
  {
   "cell_type": "markdown",
   "id": "510c676b-3eaa-4964-981f-2da9f77e31e9",
   "metadata": {
    "jp-MarkdownHeadingCollapsed": true,
    "tags": []
   },
   "source": [
    "# pandas 학습 내용"
   ]
  },
  {
   "cell_type": "markdown",
   "id": "1a5d506b-f541-4218-bbd0-83f6a904113a",
   "metadata": {},
   "source": [
    "![nn](./images/pandas-02.png)"
   ]
  },
  {
   "cell_type": "markdown",
   "id": "82d29cc2-3e3a-4f74-90ff-b107b9952812",
   "metadata": {
    "jp-MarkdownHeadingCollapsed": true,
    "tags": []
   },
   "source": [
    "# CSV 파일 읽어 DataFrame으로 가져오기"
   ]
  },
  {
   "cell_type": "markdown",
   "id": "9f975d5c-971e-4202-bc95-d6c8b6f48fd8",
   "metadata": {},
   "source": [
    "- DataFrame 의 구조 : index, columns, values\n",
    "- index(row에 대한) 와 columns(column에 대한) -> Index Type, 즉 DataFramedms 2개의 Index 사용\n",
    "- values -> ndarray type"
   ]
  },
  {
   "cell_type": "code",
   "execution_count": 1,
   "id": "7ee48f66-1b69-4c43-bce9-46b3184a0cf5",
   "metadata": {},
   "outputs": [],
   "source": [
    "import pandas as pd"
   ]
  },
  {
   "cell_type": "code",
   "execution_count": 2,
   "id": "d4e1e3cd-28e8-4ade-97c9-09ffd89a19c0",
   "metadata": {},
   "outputs": [
    {
     "data": {
      "text/html": [
       "<div>\n",
       "<style scoped>\n",
       "    .dataframe tbody tr th:only-of-type {\n",
       "        vertical-align: middle;\n",
       "    }\n",
       "\n",
       "    .dataframe tbody tr th {\n",
       "        vertical-align: top;\n",
       "    }\n",
       "\n",
       "    .dataframe thead th {\n",
       "        text-align: right;\n",
       "    }\n",
       "</style>\n",
       "<table border=\"1\" class=\"dataframe\">\n",
       "  <thead>\n",
       "    <tr style=\"text-align: right;\">\n",
       "      <th></th>\n",
       "      <th>pname</th>\n",
       "      <th>birth</th>\n",
       "      <th>dept</th>\n",
       "      <th>english</th>\n",
       "      <th>japanese</th>\n",
       "      <th>chinese</th>\n",
       "    </tr>\n",
       "    <tr>\n",
       "      <th>ID</th>\n",
       "      <th></th>\n",
       "      <th></th>\n",
       "      <th></th>\n",
       "      <th></th>\n",
       "      <th></th>\n",
       "      <th></th>\n",
       "    </tr>\n",
       "  </thead>\n",
       "  <tbody>\n",
       "    <tr>\n",
       "      <th>18030201</th>\n",
       "      <td>James Kim</td>\n",
       "      <td>1990-01-23</td>\n",
       "      <td>Education</td>\n",
       "      <td>1.0</td>\n",
       "      <td>1.0</td>\n",
       "      <td>NaN</td>\n",
       "    </tr>\n",
       "    <tr>\n",
       "      <th>18030202</th>\n",
       "      <td>Rose Hwang</td>\n",
       "      <td>1992-10-11</td>\n",
       "      <td>Marketing</td>\n",
       "      <td>NaN</td>\n",
       "      <td>2.0</td>\n",
       "      <td>NaN</td>\n",
       "    </tr>\n",
       "  </tbody>\n",
       "</table>\n",
       "</div>"
      ],
      "text/plain": [
       "               pname       birth       dept  english  japanese  chinese\n",
       "ID                                                                     \n",
       "18030201   James Kim  1990-01-23  Education      1.0       1.0      NaN\n",
       "18030202  Rose Hwang  1992-10-11  Marketing      NaN       2.0      NaN"
      ]
     },
     "execution_count": 2,
     "metadata": {},
     "output_type": "execute_result"
    }
   ],
   "source": [
    "data = pd.read_csv(\"./data/easySample.csv\", index_col=\"ID\")\n",
    "data.head(2)"
   ]
  },
  {
   "cell_type": "code",
   "execution_count": 3,
   "id": "0aedd734-a3af-401f-a1e7-6332e6c62432",
   "metadata": {},
   "outputs": [
    {
     "data": {
      "text/plain": [
       "Int64Index([18030201, 18030202, 19030401, 19070101, 19070102, 19070103], dtype='int64', name='ID')"
      ]
     },
     "execution_count": 3,
     "metadata": {},
     "output_type": "execute_result"
    }
   ],
   "source": [
    "data.index"
   ]
  },
  {
   "cell_type": "code",
   "execution_count": 4,
   "id": "c1937b5d-c851-48b9-9fe0-07bc3ff24b10",
   "metadata": {},
   "outputs": [
    {
     "data": {
      "text/plain": [
       "Index(['pname', 'birth', 'dept', 'english', 'japanese', 'chinese'], dtype='object')"
      ]
     },
     "execution_count": 4,
     "metadata": {},
     "output_type": "execute_result"
    }
   ],
   "source": [
    "data.columns"
   ]
  },
  {
   "cell_type": "code",
   "execution_count": 5,
   "id": "e2dc0b6a-0e15-4a0b-a2cc-bcbbfa20140a",
   "metadata": {},
   "outputs": [
    {
     "name": "stdout",
     "output_type": "stream",
     "text": [
      "<class 'numpy.ndarray'> (6, 6)\n"
     ]
    },
    {
     "data": {
      "text/plain": [
       "array([['James Kim', '1990-01-23', 'Education', 1.0, 1.0, nan],\n",
       "       ['Rose Hwang', '1992-10-11', 'Marketing', nan, 2.0, nan],\n",
       "       ['Sam Park', '1995-07-02', 'Education', 1.0, nan, nan],\n",
       "       ['Chris Jang', '1990-11-23', 'Education', nan, nan, 3.0],\n",
       "       ['Grace Lee', '1993-02-01', 'Marketing', nan, nan, nan],\n",
       "       ['Juile Yoon', '1992-07-16', 'Education', nan, nan, 1.0]],\n",
       "      dtype=object)"
      ]
     },
     "execution_count": 5,
     "metadata": {},
     "output_type": "execute_result"
    }
   ],
   "source": [
    "print(type(data.values), data.values.shape)\n",
    "data.values"
   ]
  },
  {
   "cell_type": "code",
   "execution_count": 6,
   "id": "1a5c8e03-7b2c-457b-b2d5-4879ac77a2f0",
   "metadata": {},
   "outputs": [],
   "source": [
    "data = pd.read_csv(\"./data/easySample_woHeader.csv\", \n",
    "                   header=None,\n",
    "                   names=['ID','name','birth', 'dept', 'english', 'japanese', 'chinese'],\n",
    "                   index_col='ID')"
   ]
  },
  {
   "cell_type": "code",
   "execution_count": 7,
   "id": "be6ec73f-c3ff-4c99-9f64-870ec715e618",
   "metadata": {},
   "outputs": [
    {
     "data": {
      "text/html": [
       "<div>\n",
       "<style scoped>\n",
       "    .dataframe tbody tr th:only-of-type {\n",
       "        vertical-align: middle;\n",
       "    }\n",
       "\n",
       "    .dataframe tbody tr th {\n",
       "        vertical-align: top;\n",
       "    }\n",
       "\n",
       "    .dataframe thead th {\n",
       "        text-align: right;\n",
       "    }\n",
       "</style>\n",
       "<table border=\"1\" class=\"dataframe\">\n",
       "  <thead>\n",
       "    <tr style=\"text-align: right;\">\n",
       "      <th></th>\n",
       "      <th>name</th>\n",
       "      <th>birth</th>\n",
       "      <th>dept</th>\n",
       "      <th>english</th>\n",
       "      <th>japanese</th>\n",
       "      <th>chinese</th>\n",
       "    </tr>\n",
       "    <tr>\n",
       "      <th>ID</th>\n",
       "      <th></th>\n",
       "      <th></th>\n",
       "      <th></th>\n",
       "      <th></th>\n",
       "      <th></th>\n",
       "      <th></th>\n",
       "    </tr>\n",
       "  </thead>\n",
       "  <tbody>\n",
       "    <tr>\n",
       "      <th>18030201</th>\n",
       "      <td>James Kim</td>\n",
       "      <td>1990-01-23</td>\n",
       "      <td>Education</td>\n",
       "      <td>1.0</td>\n",
       "      <td>1.0</td>\n",
       "      <td>NaN</td>\n",
       "    </tr>\n",
       "    <tr>\n",
       "      <th>18030202</th>\n",
       "      <td>Rose Hwang</td>\n",
       "      <td>1992-10-11</td>\n",
       "      <td>Marketing</td>\n",
       "      <td>NaN</td>\n",
       "      <td>2.0</td>\n",
       "      <td>NaN</td>\n",
       "    </tr>\n",
       "    <tr>\n",
       "      <th>19030401</th>\n",
       "      <td>Sam Park</td>\n",
       "      <td>1995-07-02</td>\n",
       "      <td>Education</td>\n",
       "      <td>1.0</td>\n",
       "      <td>NaN</td>\n",
       "      <td>NaN</td>\n",
       "    </tr>\n",
       "    <tr>\n",
       "      <th>19070101</th>\n",
       "      <td>Chris Jang</td>\n",
       "      <td>1990-11-23</td>\n",
       "      <td>Education</td>\n",
       "      <td>NaN</td>\n",
       "      <td>NaN</td>\n",
       "      <td>3.0</td>\n",
       "    </tr>\n",
       "    <tr>\n",
       "      <th>19070102</th>\n",
       "      <td>Grace Lee</td>\n",
       "      <td>1993-02-01</td>\n",
       "      <td>Marketing</td>\n",
       "      <td>NaN</td>\n",
       "      <td>NaN</td>\n",
       "      <td>NaN</td>\n",
       "    </tr>\n",
       "  </tbody>\n",
       "</table>\n",
       "</div>"
      ],
      "text/plain": [
       "                name       birth       dept  english  japanese  chinese\n",
       "ID                                                                     \n",
       "18030201   James Kim  1990-01-23  Education      1.0       1.0      NaN\n",
       "18030202  Rose Hwang  1992-10-11  Marketing      NaN       2.0      NaN\n",
       "19030401    Sam Park  1995-07-02  Education      1.0       NaN      NaN\n",
       "19070101  Chris Jang  1990-11-23  Education      NaN       NaN      3.0\n",
       "19070102   Grace Lee  1993-02-01  Marketing      NaN       NaN      NaN"
      ]
     },
     "execution_count": 7,
     "metadata": {},
     "output_type": "execute_result"
    }
   ],
   "source": [
    "data.head()"
   ]
  },
  {
   "cell_type": "code",
   "execution_count": 8,
   "id": "ad3b5cf4-e7cd-4923-8b2e-a842e263acd8",
   "metadata": {},
   "outputs": [
    {
     "data": {
      "text/html": [
       "<div>\n",
       "<style scoped>\n",
       "    .dataframe tbody tr th:only-of-type {\n",
       "        vertical-align: middle;\n",
       "    }\n",
       "\n",
       "    .dataframe tbody tr th {\n",
       "        vertical-align: top;\n",
       "    }\n",
       "\n",
       "    .dataframe thead th {\n",
       "        text-align: right;\n",
       "    }\n",
       "</style>\n",
       "<table border=\"1\" class=\"dataframe\">\n",
       "  <thead>\n",
       "    <tr style=\"text-align: right;\">\n",
       "      <th></th>\n",
       "      <th>name</th>\n",
       "      <th>birth</th>\n",
       "      <th>dept</th>\n",
       "      <th>english</th>\n",
       "      <th>japanese</th>\n",
       "      <th>chinese</th>\n",
       "    </tr>\n",
       "    <tr>\n",
       "      <th>ID</th>\n",
       "      <th></th>\n",
       "      <th></th>\n",
       "      <th></th>\n",
       "      <th></th>\n",
       "      <th></th>\n",
       "      <th></th>\n",
       "    </tr>\n",
       "  </thead>\n",
       "  <tbody>\n",
       "    <tr>\n",
       "      <th>18030201</th>\n",
       "      <td>James Kim</td>\n",
       "      <td>1990-01-23</td>\n",
       "      <td>Education</td>\n",
       "      <td>1.0</td>\n",
       "      <td>1.0</td>\n",
       "      <td>NaN</td>\n",
       "    </tr>\n",
       "    <tr>\n",
       "      <th>18030202</th>\n",
       "      <td>Rose Hwang</td>\n",
       "      <td>1992-10-11</td>\n",
       "      <td>Marketing</td>\n",
       "      <td>NaN</td>\n",
       "      <td>2.0</td>\n",
       "      <td>NaN</td>\n",
       "    </tr>\n",
       "    <tr>\n",
       "      <th>19030401</th>\n",
       "      <td>Sam Park</td>\n",
       "      <td>1995-07-02</td>\n",
       "      <td>Education</td>\n",
       "      <td>1.0</td>\n",
       "      <td>NaN</td>\n",
       "      <td>NaN</td>\n",
       "    </tr>\n",
       "    <tr>\n",
       "      <th>19070101</th>\n",
       "      <td>Chris Jang</td>\n",
       "      <td>1990-11-23</td>\n",
       "      <td>Education</td>\n",
       "      <td>NaN</td>\n",
       "      <td>NaN</td>\n",
       "      <td>3.0</td>\n",
       "    </tr>\n",
       "    <tr>\n",
       "      <th>19070102</th>\n",
       "      <td>Grace Lee</td>\n",
       "      <td>1993-02-01</td>\n",
       "      <td>Marketing</td>\n",
       "      <td>NaN</td>\n",
       "      <td>NaN</td>\n",
       "      <td>NaN</td>\n",
       "    </tr>\n",
       "    <tr>\n",
       "      <th>19070103</th>\n",
       "      <td>Juile Yoon</td>\n",
       "      <td>1992-07-16</td>\n",
       "      <td>Education</td>\n",
       "      <td>NaN</td>\n",
       "      <td>NaN</td>\n",
       "      <td>1.0</td>\n",
       "    </tr>\n",
       "  </tbody>\n",
       "</table>\n",
       "</div>"
      ],
      "text/plain": [
       "                name       birth       dept  english  japanese  chinese\n",
       "ID                                                                     \n",
       "18030201   James Kim  1990-01-23  Education      1.0       1.0      NaN\n",
       "18030202  Rose Hwang  1992-10-11  Marketing      NaN       2.0      NaN\n",
       "19030401    Sam Park  1995-07-02  Education      1.0       NaN      NaN\n",
       "19070101  Chris Jang  1990-11-23  Education      NaN       NaN      3.0\n",
       "19070102   Grace Lee  1993-02-01  Marketing      NaN       NaN      NaN\n",
       "19070103  Juile Yoon  1992-07-16  Education      NaN       NaN      1.0"
      ]
     },
     "execution_count": 8,
     "metadata": {},
     "output_type": "execute_result"
    }
   ],
   "source": [
    "data"
   ]
  },
  {
   "cell_type": "markdown",
   "id": "e0f4753d-4ddf-444a-b190-a8ef1dbbcd31",
   "metadata": {
    "jp-MarkdownHeadingCollapsed": true,
    "tags": []
   },
   "source": [
    "# DataFrame과 Series의 주요 구성 요소"
   ]
  },
  {
   "cell_type": "markdown",
   "id": "d18961ea-f678-41b9-996f-e2ed9bbcacd9",
   "metadata": {
    "tags": []
   },
   "source": [
    "## DataFrame 속성 확인하기"
   ]
  },
  {
   "cell_type": "markdown",
   "id": "34434176-60b6-4639-a1fa-eb1982fba07b",
   "metadata": {},
   "source": [
    "- `.index`, `.columns`, `.index.name` : Read-Write\n",
    "- `.values`, `.index.values`, `.columns.values` : Read Only"
   ]
  },
  {
   "cell_type": "code",
   "execution_count": 9,
   "id": "ce606ad7-facd-47f5-b3af-41dc3f125dda",
   "metadata": {},
   "outputs": [],
   "source": [
    "def printAttr(w):\n",
    "    print(type(w), w, sep=\"\\n\")\n",
    "    print(\"-\" * 75)"
   ]
  },
  {
   "cell_type": "code",
   "execution_count": 10,
   "id": "e8b7d441-f769-4058-964e-7e2d79a8b229",
   "metadata": {},
   "outputs": [],
   "source": [
    "data = pd.read_csv(\"./data/easySample.csv\", index_col=0)"
   ]
  },
  {
   "cell_type": "code",
   "execution_count": 11,
   "id": "9776fd04-b749-4968-8326-3494a7105c85",
   "metadata": {},
   "outputs": [
    {
     "data": {
      "text/html": [
       "<div>\n",
       "<style scoped>\n",
       "    .dataframe tbody tr th:only-of-type {\n",
       "        vertical-align: middle;\n",
       "    }\n",
       "\n",
       "    .dataframe tbody tr th {\n",
       "        vertical-align: top;\n",
       "    }\n",
       "\n",
       "    .dataframe thead th {\n",
       "        text-align: right;\n",
       "    }\n",
       "</style>\n",
       "<table border=\"1\" class=\"dataframe\">\n",
       "  <thead>\n",
       "    <tr style=\"text-align: right;\">\n",
       "      <th></th>\n",
       "      <th>pname</th>\n",
       "      <th>birth</th>\n",
       "      <th>dept</th>\n",
       "      <th>english</th>\n",
       "      <th>japanese</th>\n",
       "      <th>chinese</th>\n",
       "    </tr>\n",
       "    <tr>\n",
       "      <th>ID</th>\n",
       "      <th></th>\n",
       "      <th></th>\n",
       "      <th></th>\n",
       "      <th></th>\n",
       "      <th></th>\n",
       "      <th></th>\n",
       "    </tr>\n",
       "  </thead>\n",
       "  <tbody>\n",
       "    <tr>\n",
       "      <th>18030201</th>\n",
       "      <td>James Kim</td>\n",
       "      <td>1990-01-23</td>\n",
       "      <td>Education</td>\n",
       "      <td>1.0</td>\n",
       "      <td>1.0</td>\n",
       "      <td>NaN</td>\n",
       "    </tr>\n",
       "    <tr>\n",
       "      <th>18030202</th>\n",
       "      <td>Rose Hwang</td>\n",
       "      <td>1992-10-11</td>\n",
       "      <td>Marketing</td>\n",
       "      <td>NaN</td>\n",
       "      <td>2.0</td>\n",
       "      <td>NaN</td>\n",
       "    </tr>\n",
       "    <tr>\n",
       "      <th>19030401</th>\n",
       "      <td>Sam Park</td>\n",
       "      <td>1995-07-02</td>\n",
       "      <td>Education</td>\n",
       "      <td>1.0</td>\n",
       "      <td>NaN</td>\n",
       "      <td>NaN</td>\n",
       "    </tr>\n",
       "  </tbody>\n",
       "</table>\n",
       "</div>"
      ],
      "text/plain": [
       "               pname       birth       dept  english  japanese  chinese\n",
       "ID                                                                     \n",
       "18030201   James Kim  1990-01-23  Education      1.0       1.0      NaN\n",
       "18030202  Rose Hwang  1992-10-11  Marketing      NaN       2.0      NaN\n",
       "19030401    Sam Park  1995-07-02  Education      1.0       NaN      NaN"
      ]
     },
     "execution_count": 11,
     "metadata": {},
     "output_type": "execute_result"
    }
   ],
   "source": [
    "data.head(3)"
   ]
  },
  {
   "cell_type": "code",
   "execution_count": 12,
   "id": "d2240f0e-55a5-43f6-b2e8-cf97607054cc",
   "metadata": {},
   "outputs": [
    {
     "data": {
      "text/html": [
       "<div>\n",
       "<style scoped>\n",
       "    .dataframe tbody tr th:only-of-type {\n",
       "        vertical-align: middle;\n",
       "    }\n",
       "\n",
       "    .dataframe tbody tr th {\n",
       "        vertical-align: top;\n",
       "    }\n",
       "\n",
       "    .dataframe thead th {\n",
       "        text-align: right;\n",
       "    }\n",
       "</style>\n",
       "<table border=\"1\" class=\"dataframe\">\n",
       "  <thead>\n",
       "    <tr style=\"text-align: right;\">\n",
       "      <th></th>\n",
       "      <th>pname</th>\n",
       "      <th>birth</th>\n",
       "      <th>dept</th>\n",
       "      <th>english</th>\n",
       "      <th>japanese</th>\n",
       "      <th>chinese</th>\n",
       "    </tr>\n",
       "    <tr>\n",
       "      <th>ID</th>\n",
       "      <th></th>\n",
       "      <th></th>\n",
       "      <th></th>\n",
       "      <th></th>\n",
       "      <th></th>\n",
       "      <th></th>\n",
       "    </tr>\n",
       "  </thead>\n",
       "  <tbody>\n",
       "    <tr>\n",
       "      <th>19070101</th>\n",
       "      <td>Chris Jang</td>\n",
       "      <td>1990-11-23</td>\n",
       "      <td>Education</td>\n",
       "      <td>NaN</td>\n",
       "      <td>NaN</td>\n",
       "      <td>3.0</td>\n",
       "    </tr>\n",
       "    <tr>\n",
       "      <th>19070102</th>\n",
       "      <td>Grace Lee</td>\n",
       "      <td>1993-02-01</td>\n",
       "      <td>Marketing</td>\n",
       "      <td>NaN</td>\n",
       "      <td>NaN</td>\n",
       "      <td>NaN</td>\n",
       "    </tr>\n",
       "    <tr>\n",
       "      <th>19070103</th>\n",
       "      <td>Juile Yoon</td>\n",
       "      <td>1992-07-16</td>\n",
       "      <td>Education</td>\n",
       "      <td>NaN</td>\n",
       "      <td>NaN</td>\n",
       "      <td>1.0</td>\n",
       "    </tr>\n",
       "  </tbody>\n",
       "</table>\n",
       "</div>"
      ],
      "text/plain": [
       "               pname       birth       dept  english  japanese  chinese\n",
       "ID                                                                     \n",
       "19070101  Chris Jang  1990-11-23  Education      NaN       NaN      3.0\n",
       "19070102   Grace Lee  1993-02-01  Marketing      NaN       NaN      NaN\n",
       "19070103  Juile Yoon  1992-07-16  Education      NaN       NaN      1.0"
      ]
     },
     "execution_count": 12,
     "metadata": {},
     "output_type": "execute_result"
    }
   ],
   "source": [
    "data.tail(3)"
   ]
  },
  {
   "cell_type": "code",
   "execution_count": 13,
   "id": "df5a31be-274d-4539-a4d3-406e9375271f",
   "metadata": {},
   "outputs": [
    {
     "name": "stdout",
     "output_type": "stream",
     "text": [
      "<class 'pandas.core.indexes.numeric.Int64Index'>\n",
      "Int64Index([18030201, 18030202, 19030401, 19070101, 19070102, 19070103], dtype='int64', name='ID')\n",
      "---------------------------------------------------------------------------\n",
      "<class 'pandas.core.indexes.base.Index'>\n",
      "Index(['pname', 'birth', 'dept', 'english', 'japanese', 'chinese'], dtype='object')\n",
      "---------------------------------------------------------------------------\n"
     ]
    }
   ],
   "source": [
    "printAttr(data.index)\n",
    "printAttr(data.columns)"
   ]
  },
  {
   "cell_type": "code",
   "execution_count": 14,
   "id": "07e2faef-d8b6-4a42-831f-b7f221645bc2",
   "metadata": {},
   "outputs": [
    {
     "name": "stdout",
     "output_type": "stream",
     "text": [
      "<class 'numpy.ndarray'>\n",
      "[['James Kim' '1990-01-23' 'Education' 1.0 1.0 nan]\n",
      " ['Rose Hwang' '1992-10-11' 'Marketing' nan 2.0 nan]\n",
      " ['Sam Park' '1995-07-02' 'Education' 1.0 nan nan]\n",
      " ['Chris Jang' '1990-11-23' 'Education' nan nan 3.0]\n",
      " ['Grace Lee' '1993-02-01' 'Marketing' nan nan nan]\n",
      " ['Juile Yoon' '1992-07-16' 'Education' nan nan 1.0]]\n",
      "---------------------------------------------------------------------------\n",
      "<class 'numpy.ndarray'>\n",
      "[18030201 18030202 19030401 19070101 19070102 19070103]\n",
      "---------------------------------------------------------------------------\n",
      "<class 'numpy.ndarray'>\n",
      "['pname' 'birth' 'dept' 'english' 'japanese' 'chinese']\n",
      "---------------------------------------------------------------------------\n",
      "<class 'str'>\n",
      "ID\n",
      "---------------------------------------------------------------------------\n"
     ]
    }
   ],
   "source": [
    "printAttr(data.values)\n",
    "printAttr(data.index.values)\n",
    "printAttr(data.columns.values)\n",
    "printAttr(data.index.name)"
   ]
  },
  {
   "cell_type": "code",
   "execution_count": 15,
   "id": "346d09a8-d560-4e08-b340-df7eb51f3e36",
   "metadata": {},
   "outputs": [],
   "source": [
    "data.index = list(\"abcdef\")\n",
    "data.columns = list(\"ABCDEF\")\n",
    "data.index.name = \"myIndex\""
   ]
  },
  {
   "cell_type": "code",
   "execution_count": 16,
   "id": "c15f697b-63c1-47aa-8571-0fba5da7b3b8",
   "metadata": {},
   "outputs": [
    {
     "data": {
      "text/html": [
       "<div>\n",
       "<style scoped>\n",
       "    .dataframe tbody tr th:only-of-type {\n",
       "        vertical-align: middle;\n",
       "    }\n",
       "\n",
       "    .dataframe tbody tr th {\n",
       "        vertical-align: top;\n",
       "    }\n",
       "\n",
       "    .dataframe thead th {\n",
       "        text-align: right;\n",
       "    }\n",
       "</style>\n",
       "<table border=\"1\" class=\"dataframe\">\n",
       "  <thead>\n",
       "    <tr style=\"text-align: right;\">\n",
       "      <th></th>\n",
       "      <th>A</th>\n",
       "      <th>B</th>\n",
       "      <th>C</th>\n",
       "      <th>D</th>\n",
       "      <th>E</th>\n",
       "      <th>F</th>\n",
       "    </tr>\n",
       "    <tr>\n",
       "      <th>myIndex</th>\n",
       "      <th></th>\n",
       "      <th></th>\n",
       "      <th></th>\n",
       "      <th></th>\n",
       "      <th></th>\n",
       "      <th></th>\n",
       "    </tr>\n",
       "  </thead>\n",
       "  <tbody>\n",
       "    <tr>\n",
       "      <th>a</th>\n",
       "      <td>James Kim</td>\n",
       "      <td>1990-01-23</td>\n",
       "      <td>Education</td>\n",
       "      <td>1.0</td>\n",
       "      <td>1.0</td>\n",
       "      <td>NaN</td>\n",
       "    </tr>\n",
       "    <tr>\n",
       "      <th>b</th>\n",
       "      <td>Rose Hwang</td>\n",
       "      <td>1992-10-11</td>\n",
       "      <td>Marketing</td>\n",
       "      <td>NaN</td>\n",
       "      <td>2.0</td>\n",
       "      <td>NaN</td>\n",
       "    </tr>\n",
       "    <tr>\n",
       "      <th>c</th>\n",
       "      <td>Sam Park</td>\n",
       "      <td>1995-07-02</td>\n",
       "      <td>Education</td>\n",
       "      <td>1.0</td>\n",
       "      <td>NaN</td>\n",
       "      <td>NaN</td>\n",
       "    </tr>\n",
       "    <tr>\n",
       "      <th>d</th>\n",
       "      <td>Chris Jang</td>\n",
       "      <td>1990-11-23</td>\n",
       "      <td>Education</td>\n",
       "      <td>NaN</td>\n",
       "      <td>NaN</td>\n",
       "      <td>3.0</td>\n",
       "    </tr>\n",
       "    <tr>\n",
       "      <th>e</th>\n",
       "      <td>Grace Lee</td>\n",
       "      <td>1993-02-01</td>\n",
       "      <td>Marketing</td>\n",
       "      <td>NaN</td>\n",
       "      <td>NaN</td>\n",
       "      <td>NaN</td>\n",
       "    </tr>\n",
       "    <tr>\n",
       "      <th>f</th>\n",
       "      <td>Juile Yoon</td>\n",
       "      <td>1992-07-16</td>\n",
       "      <td>Education</td>\n",
       "      <td>NaN</td>\n",
       "      <td>NaN</td>\n",
       "      <td>1.0</td>\n",
       "    </tr>\n",
       "  </tbody>\n",
       "</table>\n",
       "</div>"
      ],
      "text/plain": [
       "                  A           B          C    D    E    F\n",
       "myIndex                                                  \n",
       "a         James Kim  1990-01-23  Education  1.0  1.0  NaN\n",
       "b        Rose Hwang  1992-10-11  Marketing  NaN  2.0  NaN\n",
       "c          Sam Park  1995-07-02  Education  1.0  NaN  NaN\n",
       "d        Chris Jang  1990-11-23  Education  NaN  NaN  3.0\n",
       "e         Grace Lee  1993-02-01  Marketing  NaN  NaN  NaN\n",
       "f        Juile Yoon  1992-07-16  Education  NaN  NaN  1.0"
      ]
     },
     "execution_count": 16,
     "metadata": {},
     "output_type": "execute_result"
    }
   ],
   "source": [
    "data"
   ]
  },
  {
   "cell_type": "code",
   "execution_count": 17,
   "id": "32d21cfb-4e9e-493c-a082-dd2fe850d001",
   "metadata": {},
   "outputs": [],
   "source": [
    "import numpy as np\n",
    "# data.index.values = np.array(list(\"abcdef\"))"
   ]
  },
  {
   "cell_type": "markdown",
   "id": "51913d00-594c-4f0f-a3cc-1b51c5614857",
   "metadata": {
    "tags": []
   },
   "source": [
    "## Series 속성 확인하기"
   ]
  },
  {
   "cell_type": "markdown",
   "id": "9140568f-2f1c-4122-8786-04dc2fbbf31a",
   "metadata": {},
   "source": [
    "- Series : DataFrame 에서 하나의 Column \n",
    "- DataFrame 의 Index 를 포함"
   ]
  },
  {
   "cell_type": "code",
   "execution_count": 18,
   "id": "2bc9c2b3-0db1-408c-a0a8-4c098c8f9477",
   "metadata": {},
   "outputs": [],
   "source": [
    "data = pd.read_csv(\"./data/easySample.csv\", index_col=0)"
   ]
  },
  {
   "cell_type": "code",
   "execution_count": 19,
   "id": "2455606f-e334-4aaf-b26b-67c12a78eb16",
   "metadata": {},
   "outputs": [
    {
     "data": {
      "text/plain": [
       "Index(['pname', 'birth', 'dept', 'english', 'japanese', 'chinese'], dtype='object')"
      ]
     },
     "execution_count": 19,
     "metadata": {},
     "output_type": "execute_result"
    }
   ],
   "source": [
    "data.columns"
   ]
  },
  {
   "cell_type": "code",
   "execution_count": 20,
   "id": "41349cf7-b573-43c0-bb88-422090f97b5f",
   "metadata": {},
   "outputs": [
    {
     "name": "stdout",
     "output_type": "stream",
     "text": [
      "<class 'pandas.core.series.Series'>\n",
      "ID\n",
      "18030201    1.0\n",
      "18030202    NaN\n",
      "19030401    1.0\n",
      "19070101    NaN\n",
      "19070102    NaN\n",
      "19070103    NaN\n",
      "Name: english, dtype: float64\n",
      "---------------------------------------------------------------------------\n"
     ]
    }
   ],
   "source": [
    "eng = data['english']\n",
    "printAttr(eng)"
   ]
  },
  {
   "cell_type": "code",
   "execution_count": 21,
   "id": "9fe15e0b-672a-4159-903c-d6a69a94fd7d",
   "metadata": {},
   "outputs": [
    {
     "name": "stdout",
     "output_type": "stream",
     "text": [
      "<class 'pandas.core.indexes.numeric.Int64Index'>\n",
      "Int64Index([18030201, 18030202, 19030401, 19070101, 19070102, 19070103], dtype='int64', name='ID')\n",
      "---------------------------------------------------------------------------\n",
      "<class 'numpy.ndarray'>\n",
      "[ 1. nan  1. nan nan nan]\n",
      "---------------------------------------------------------------------------\n",
      "<class 'numpy.ndarray'>\n",
      "[18030201 18030202 19030401 19070101 19070102 19070103]\n",
      "---------------------------------------------------------------------------\n"
     ]
    }
   ],
   "source": [
    "printAttr(eng.index)\n",
    "printAttr(eng.values)\n",
    "printAttr(eng.index.values)\n",
    "\n",
    "# DataFrame과 동일하게 .index 는 Read-Write\n",
    "# DataFrame과 동일하게 .values, .index.values 는 Read Only"
   ]
  },
  {
   "cell_type": "markdown",
   "id": "fb30ac17-6d2f-4476-ae07-d594802f85e1",
   "metadata": {
    "jp-MarkdownHeadingCollapsed": true,
    "tags": []
   },
   "source": [
    "# Index 타입의 종류 - RangeIndex, Int64Index, Index, DatetimeIndex"
   ]
  },
  {
   "cell_type": "code",
   "execution_count": 22,
   "id": "1ed73c13-6d2c-4199-b27c-4973d26e2bf0",
   "metadata": {},
   "outputs": [],
   "source": [
    "def printObj(df):\n",
    "    print(df.index)\n",
    "    print(type(df.index))\n",
    "    print(\"-\" * 50)"
   ]
  },
  {
   "cell_type": "code",
   "execution_count": 23,
   "id": "b5176123-077c-4e9f-92aa-83e8f39fa20e",
   "metadata": {},
   "outputs": [],
   "source": [
    "import pandas as pd\n",
    "import numpy as np"
   ]
  },
  {
   "cell_type": "code",
   "execution_count": 24,
   "id": "a6625b82-4be5-4436-9022-7642c10b17e7",
   "metadata": {},
   "outputs": [
    {
     "name": "stdout",
     "output_type": "stream",
     "text": [
      "144 144\n",
      "RangeIndex(start=0, stop=10, step=1) RangeIndex(start=0, stop=10000, step=1)\n"
     ]
    }
   ],
   "source": [
    "a = pd.RangeIndex(10)\n",
    "b = pd.RangeIndex(10000)\n",
    "\n",
    "import sys\n",
    "print(sys.getsizeof(a), sys.getsizeof(b))\n",
    "print(a, b)"
   ]
  },
  {
   "cell_type": "code",
   "execution_count": 25,
   "id": "50efcaec-3968-4eff-93bd-d79589164192",
   "metadata": {},
   "outputs": [
    {
     "name": "stdout",
     "output_type": "stream",
     "text": [
      "RangeIndex(start=0, stop=6, step=1)\n",
      "<class 'pandas.core.indexes.range.RangeIndex'>\n",
      "--------------------------------------------------\n"
     ]
    }
   ],
   "source": [
    "df1 = pd.read_csv('./data/easySample.csv')\n",
    "printObj(df1)"
   ]
  },
  {
   "cell_type": "code",
   "execution_count": 26,
   "id": "3f150cbf-1251-43f6-ac73-a3b3b5dd6970",
   "metadata": {},
   "outputs": [
    {
     "data": {
      "text/html": [
       "<div>\n",
       "<style scoped>\n",
       "    .dataframe tbody tr th:only-of-type {\n",
       "        vertical-align: middle;\n",
       "    }\n",
       "\n",
       "    .dataframe tbody tr th {\n",
       "        vertical-align: top;\n",
       "    }\n",
       "\n",
       "    .dataframe thead th {\n",
       "        text-align: right;\n",
       "    }\n",
       "</style>\n",
       "<table border=\"1\" class=\"dataframe\">\n",
       "  <thead>\n",
       "    <tr style=\"text-align: right;\">\n",
       "      <th></th>\n",
       "      <th>ID</th>\n",
       "      <th>pname</th>\n",
       "      <th>birth</th>\n",
       "      <th>dept</th>\n",
       "      <th>english</th>\n",
       "      <th>japanese</th>\n",
       "      <th>chinese</th>\n",
       "    </tr>\n",
       "  </thead>\n",
       "  <tbody>\n",
       "    <tr>\n",
       "      <th>0</th>\n",
       "      <td>18030201</td>\n",
       "      <td>James Kim</td>\n",
       "      <td>1990-01-23</td>\n",
       "      <td>Education</td>\n",
       "      <td>1.0</td>\n",
       "      <td>1.0</td>\n",
       "      <td>NaN</td>\n",
       "    </tr>\n",
       "    <tr>\n",
       "      <th>1</th>\n",
       "      <td>18030202</td>\n",
       "      <td>Rose Hwang</td>\n",
       "      <td>1992-10-11</td>\n",
       "      <td>Marketing</td>\n",
       "      <td>NaN</td>\n",
       "      <td>2.0</td>\n",
       "      <td>NaN</td>\n",
       "    </tr>\n",
       "    <tr>\n",
       "      <th>2</th>\n",
       "      <td>19030401</td>\n",
       "      <td>Sam Park</td>\n",
       "      <td>1995-07-02</td>\n",
       "      <td>Education</td>\n",
       "      <td>1.0</td>\n",
       "      <td>NaN</td>\n",
       "      <td>NaN</td>\n",
       "    </tr>\n",
       "    <tr>\n",
       "      <th>3</th>\n",
       "      <td>19070101</td>\n",
       "      <td>Chris Jang</td>\n",
       "      <td>1990-11-23</td>\n",
       "      <td>Education</td>\n",
       "      <td>NaN</td>\n",
       "      <td>NaN</td>\n",
       "      <td>3.0</td>\n",
       "    </tr>\n",
       "    <tr>\n",
       "      <th>4</th>\n",
       "      <td>19070102</td>\n",
       "      <td>Grace Lee</td>\n",
       "      <td>1993-02-01</td>\n",
       "      <td>Marketing</td>\n",
       "      <td>NaN</td>\n",
       "      <td>NaN</td>\n",
       "      <td>NaN</td>\n",
       "    </tr>\n",
       "  </tbody>\n",
       "</table>\n",
       "</div>"
      ],
      "text/plain": [
       "         ID       pname       birth       dept  english  japanese  chinese\n",
       "0  18030201   James Kim  1990-01-23  Education      1.0       1.0      NaN\n",
       "1  18030202  Rose Hwang  1992-10-11  Marketing      NaN       2.0      NaN\n",
       "2  19030401    Sam Park  1995-07-02  Education      1.0       NaN      NaN\n",
       "3  19070101  Chris Jang  1990-11-23  Education      NaN       NaN      3.0\n",
       "4  19070102   Grace Lee  1993-02-01  Marketing      NaN       NaN      NaN"
      ]
     },
     "execution_count": 26,
     "metadata": {},
     "output_type": "execute_result"
    }
   ],
   "source": [
    "df1.head()"
   ]
  },
  {
   "cell_type": "code",
   "execution_count": 27,
   "id": "c50c5573-eaa1-4e9f-b0ab-f3e4c142f0aa",
   "metadata": {},
   "outputs": [
    {
     "name": "stdout",
     "output_type": "stream",
     "text": [
      "Int64Index([18030201, 18030202, 19030401, 19070101, 19070102, 19070103], dtype='int64', name='ID')\n",
      "<class 'pandas.core.indexes.numeric.Int64Index'>\n",
      "--------------------------------------------------\n"
     ]
    }
   ],
   "source": [
    "df2 = pd.read_csv('./data/easySample.csv', index_col=\"ID\")\n",
    "printObj(df2)"
   ]
  },
  {
   "cell_type": "code",
   "execution_count": 28,
   "id": "7410ff94-d31b-495a-9536-04856004e8e0",
   "metadata": {},
   "outputs": [
    {
     "name": "stdout",
     "output_type": "stream",
     "text": [
      "Index(['James Kim', 'Rose Hwang', 'Sam Park', 'Chris Jang', 'Grace Lee',\n",
      "       'Juile Yoon'],\n",
      "      dtype='object', name='pname')\n",
      "<class 'pandas.core.indexes.base.Index'>\n",
      "--------------------------------------------------\n"
     ]
    }
   ],
   "source": [
    "df3 = pd.read_csv('./data/easySample.csv', index_col=\"pname\")\n",
    "printObj(df3)"
   ]
  },
  {
   "cell_type": "code",
   "execution_count": 29,
   "id": "b508041e-72e8-4cc4-ae49-a847f8a7302d",
   "metadata": {},
   "outputs": [
    {
     "name": "stdout",
     "output_type": "stream",
     "text": [
      "DatetimeIndex(['1990-01-23', '1992-10-11', '1995-07-02', '1990-11-23',\n",
      "               '1993-02-01', '1992-07-16'],\n",
      "              dtype='datetime64[ns]', name='birth', freq=None)\n",
      "<class 'pandas.core.indexes.datetimes.DatetimeIndex'>\n",
      "--------------------------------------------------\n"
     ]
    }
   ],
   "source": [
    "df4 = pd.read_csv('./data/easySample.csv', index_col=\"birth\")\n",
    "df4.index = pd.to_datetime(df4.index)\n",
    "printObj(df4)"
   ]
  },
  {
   "cell_type": "code",
   "execution_count": 30,
   "id": "362b64cb-8f50-40b8-8b30-038011af73ef",
   "metadata": {},
   "outputs": [
    {
     "name": "stdout",
     "output_type": "stream",
     "text": [
      "True\n",
      "True\n",
      "True\n"
     ]
    },
    {
     "name": "stderr",
     "output_type": "stream",
     "text": [
      "/var/folders/3k/bgnrnfc15w792712mgb6g0_c0000gn/T/ipykernel_15179/4099691067.py:1: FutureWarning: pandas.Int64Index is deprecated and will be removed from pandas in a future version. Use pandas.Index with the appropriate dtype instead.\n",
      "  print(issubclass(pd.Int64Index, pd.Index))\n"
     ]
    }
   ],
   "source": [
    "print(issubclass(pd.Int64Index, pd.Index))\n",
    "print(issubclass(pd.RangeIndex, pd.Index))\n",
    "print(issubclass(pd.DatetimeIndex, pd.Index))"
   ]
  },
  {
   "cell_type": "markdown",
   "id": "741c6ab4-5e26-4364-bd06-32a625cdad37",
   "metadata": {
    "jp-MarkdownHeadingCollapsed": true,
    "tags": []
   },
   "source": [
    "# index 및 column의 데이터 타입(dtype) 확인"
   ]
  },
  {
   "cell_type": "markdown",
   "id": "efa632c0-a116-45bc-a42b-1422631dd43e",
   "metadata": {},
   "source": [
    "- 올바른 dtype 의 중요성\n",
    "1) 적합한 연산, Method 사용을 할 수 있음\n",
    "2) 메모리의 사용을 절약할 수 있음 "
   ]
  },
  {
   "cell_type": "code",
   "execution_count": 31,
   "id": "b3d38aa3-cb47-4496-afe1-b6d1422c3577",
   "metadata": {},
   "outputs": [
    {
     "name": "stdout",
     "output_type": "stream",
     "text": [
      "Index(['pname', 'birth', 'dept', 'english', 'japanese', 'chinese'], dtype='object')\n"
     ]
    }
   ],
   "source": [
    "data = pd.read_csv(\"./data/easySample.csv\", index_col=\"ID\")\n",
    "print(data.columns)"
   ]
  },
  {
   "cell_type": "code",
   "execution_count": 32,
   "id": "2e278376-c3fd-41e3-9e00-e0e9f24c5617",
   "metadata": {},
   "outputs": [
    {
     "name": "stdout",
     "output_type": "stream",
     "text": [
      "pname        object\n",
      "birth        object\n",
      "dept         object\n",
      "english     float64\n",
      "japanese    float64\n",
      "chinese     float64\n",
      "dtype: object\n",
      "\n",
      "int64\n",
      "\n",
      "object\n",
      "\n",
      "Index        48\n",
      "pname       398\n",
      "birth       402\n",
      "dept        396\n",
      "english      48\n",
      "japanese     48\n",
      "chinese      48\n",
      "dtype: int64\n",
      "\n"
     ]
    }
   ],
   "source": [
    "print(data.dtypes, end=\"\\n\\n\")\n",
    "print(data.index.dtype, end=\"\\n\\n\")\n",
    "print(data['pname'].dtype, end=\"\\n\\n\")\n",
    "print(data.memory_usage(index=True, deep=True), end=\"\\n\\n\")"
   ]
  },
  {
   "cell_type": "markdown",
   "id": "12533bb9-0443-4192-88fb-8446f78e9ce7",
   "metadata": {
    "jp-MarkdownHeadingCollapsed": true,
    "tags": []
   },
   "source": [
    "# dtype 변경 - Series.astype(), pd.to_datetime()"
   ]
  },
  {
   "cell_type": "markdown",
   "id": "72a2a094-eab8-4740-a0ba-8015b1225370",
   "metadata": {},
   "source": [
    "- https://pandas.pydata.org/docs/reference/api/pandas.Series.astype.html\n",
    "- https://pandas.pydata.org/docs/reference/api/pandas.DataFrame.astype.html\n",
    "- https://pandas.pydata.org/docs/reference/api/pandas.to_datetime.html"
   ]
  },
  {
   "cell_type": "code",
   "execution_count": 33,
   "id": "3d33382d-ef6d-42f9-a551-b747dfad5ce1",
   "metadata": {},
   "outputs": [
    {
     "data": {
      "text/plain": [
       "pname        object\n",
       "birth        object\n",
       "dept         object\n",
       "english     float64\n",
       "japanese    float64\n",
       "chinese     float64\n",
       "dtype: object"
      ]
     },
     "execution_count": 33,
     "metadata": {},
     "output_type": "execute_result"
    }
   ],
   "source": [
    "data.dtypes"
   ]
  },
  {
   "cell_type": "code",
   "execution_count": 34,
   "id": "7737988b-ed7c-49ab-85e1-91d3601afab3",
   "metadata": {},
   "outputs": [
    {
     "data": {
      "text/html": [
       "<div>\n",
       "<style scoped>\n",
       "    .dataframe tbody tr th:only-of-type {\n",
       "        vertical-align: middle;\n",
       "    }\n",
       "\n",
       "    .dataframe tbody tr th {\n",
       "        vertical-align: top;\n",
       "    }\n",
       "\n",
       "    .dataframe thead th {\n",
       "        text-align: right;\n",
       "    }\n",
       "</style>\n",
       "<table border=\"1\" class=\"dataframe\">\n",
       "  <thead>\n",
       "    <tr style=\"text-align: right;\">\n",
       "      <th></th>\n",
       "      <th>pname</th>\n",
       "      <th>birth</th>\n",
       "      <th>dept</th>\n",
       "      <th>english</th>\n",
       "      <th>japanese</th>\n",
       "      <th>chinese</th>\n",
       "    </tr>\n",
       "    <tr>\n",
       "      <th>ID</th>\n",
       "      <th></th>\n",
       "      <th></th>\n",
       "      <th></th>\n",
       "      <th></th>\n",
       "      <th></th>\n",
       "      <th></th>\n",
       "    </tr>\n",
       "  </thead>\n",
       "  <tbody>\n",
       "    <tr>\n",
       "      <th>18030201</th>\n",
       "      <td>James Kim</td>\n",
       "      <td>1990-01-23</td>\n",
       "      <td>Education</td>\n",
       "      <td>1.0</td>\n",
       "      <td>1.0</td>\n",
       "      <td>NaN</td>\n",
       "    </tr>\n",
       "    <tr>\n",
       "      <th>18030202</th>\n",
       "      <td>Rose Hwang</td>\n",
       "      <td>1992-10-11</td>\n",
       "      <td>Marketing</td>\n",
       "      <td>NaN</td>\n",
       "      <td>2.0</td>\n",
       "      <td>NaN</td>\n",
       "    </tr>\n",
       "    <tr>\n",
       "      <th>19030401</th>\n",
       "      <td>Sam Park</td>\n",
       "      <td>1995-07-02</td>\n",
       "      <td>Education</td>\n",
       "      <td>1.0</td>\n",
       "      <td>NaN</td>\n",
       "      <td>NaN</td>\n",
       "    </tr>\n",
       "    <tr>\n",
       "      <th>19070101</th>\n",
       "      <td>Chris Jang</td>\n",
       "      <td>1990-11-23</td>\n",
       "      <td>Education</td>\n",
       "      <td>NaN</td>\n",
       "      <td>NaN</td>\n",
       "      <td>3.0</td>\n",
       "    </tr>\n",
       "    <tr>\n",
       "      <th>19070102</th>\n",
       "      <td>Grace Lee</td>\n",
       "      <td>1993-02-01</td>\n",
       "      <td>Marketing</td>\n",
       "      <td>NaN</td>\n",
       "      <td>NaN</td>\n",
       "      <td>NaN</td>\n",
       "    </tr>\n",
       "    <tr>\n",
       "      <th>19070103</th>\n",
       "      <td>Juile Yoon</td>\n",
       "      <td>1992-07-16</td>\n",
       "      <td>Education</td>\n",
       "      <td>NaN</td>\n",
       "      <td>NaN</td>\n",
       "      <td>1.0</td>\n",
       "    </tr>\n",
       "  </tbody>\n",
       "</table>\n",
       "</div>"
      ],
      "text/plain": [
       "               pname       birth       dept  english  japanese  chinese\n",
       "ID                                                                     \n",
       "18030201   James Kim  1990-01-23  Education      1.0       1.0      NaN\n",
       "18030202  Rose Hwang  1992-10-11  Marketing      NaN       2.0      NaN\n",
       "19030401    Sam Park  1995-07-02  Education      1.0       NaN      NaN\n",
       "19070101  Chris Jang  1990-11-23  Education      NaN       NaN      3.0\n",
       "19070102   Grace Lee  1993-02-01  Marketing      NaN       NaN      NaN\n",
       "19070103  Juile Yoon  1992-07-16  Education      NaN       NaN      1.0"
      ]
     },
     "execution_count": 34,
     "metadata": {},
     "output_type": "execute_result"
    }
   ],
   "source": [
    "data"
   ]
  },
  {
   "cell_type": "code",
   "execution_count": 35,
   "id": "bfeec04a-8a71-422c-a347-7dddb2a65824",
   "metadata": {},
   "outputs": [
    {
     "name": "stderr",
     "output_type": "stream",
     "text": [
      "/var/folders/3k/bgnrnfc15w792712mgb6g0_c0000gn/T/ipykernel_15179/3943294819.py:3: FutureWarning: In a future version, `df.iloc[:, i] = newvals` will attempt to set the values inplace instead of always setting a new array. To retain the old behavior, use either `df[df.columns[i]] = newvals` or, if columns are non-unique, `df.isetitem(i, newvals)`\n",
      "  data.loc[:, 'english':'chinese'] = data.loc[:, 'english':'chinese'].astype('float32')\n"
     ]
    }
   ],
   "source": [
    "data['dept'] = data['dept'].astype('category')\n",
    "data['birth'] = pd.to_datetime(data['birth'])\n",
    "data.loc[:, 'english':'chinese'] = data.loc[:, 'english':'chinese'].astype('float32')"
   ]
  },
  {
   "cell_type": "code",
   "execution_count": 36,
   "id": "8c57ffd7-1472-41c4-88ba-3c0bba8faf31",
   "metadata": {},
   "outputs": [
    {
     "name": "stdout",
     "output_type": "stream",
     "text": [
      "pname               object\n",
      "birth       datetime64[ns]\n",
      "dept              category\n",
      "english            float32\n",
      "japanese           float32\n",
      "chinese            float32\n",
      "dtype: object\n",
      "\n",
      "Index        48\n",
      "pname       398\n",
      "birth        48\n",
      "dept        246\n",
      "english      24\n",
      "japanese     24\n",
      "chinese      24\n",
      "dtype: int64\n"
     ]
    }
   ],
   "source": [
    "print(data.dtypes, end='\\n\\n')\n",
    "print(data.memory_usage(index=True, deep=True))"
   ]
  },
  {
   "cell_type": "markdown",
   "id": "facece67-3402-424a-8f2a-edef4d015747",
   "metadata": {
    "jp-MarkdownHeadingCollapsed": true,
    "tags": []
   },
   "source": [
    "# DataFrame의 저장 - to_csv(), shelve"
   ]
  },
  {
   "cell_type": "markdown",
   "id": "1625d55f-3656-4381-b1ab-f561bae31404",
   "metadata": {},
   "source": [
    "- csv 로 저정하면 dtype 이 유지되지 않을 수 있다\n",
    "- datetime, category 등이 object로 저장됨\n",
    "- https://pandas.pydata.org/docs/reference/api/pandas.DataFrame.to_csv.html\n",
    "- dtype을 유지하면서 파일로 저장하기\n",
    "    + shelve 바이너리로 파일 저장"
   ]
  },
  {
   "cell_type": "code",
   "execution_count": 37,
   "id": "e7af6a99-0e3e-43ef-979e-a2daba252102",
   "metadata": {},
   "outputs": [],
   "source": [
    "data.to_csv('./data/mydata.csv')"
   ]
  },
  {
   "cell_type": "code",
   "execution_count": 38,
   "id": "05586efa-a6c6-4c17-8b77-7fd20dd903f7",
   "metadata": {},
   "outputs": [
    {
     "data": {
      "text/html": [
       "<div>\n",
       "<style scoped>\n",
       "    .dataframe tbody tr th:only-of-type {\n",
       "        vertical-align: middle;\n",
       "    }\n",
       "\n",
       "    .dataframe tbody tr th {\n",
       "        vertical-align: top;\n",
       "    }\n",
       "\n",
       "    .dataframe thead th {\n",
       "        text-align: right;\n",
       "    }\n",
       "</style>\n",
       "<table border=\"1\" class=\"dataframe\">\n",
       "  <thead>\n",
       "    <tr style=\"text-align: right;\">\n",
       "      <th></th>\n",
       "      <th>pname</th>\n",
       "      <th>birth</th>\n",
       "      <th>dept</th>\n",
       "      <th>english</th>\n",
       "      <th>japanese</th>\n",
       "      <th>chinese</th>\n",
       "    </tr>\n",
       "    <tr>\n",
       "      <th>ID</th>\n",
       "      <th></th>\n",
       "      <th></th>\n",
       "      <th></th>\n",
       "      <th></th>\n",
       "      <th></th>\n",
       "      <th></th>\n",
       "    </tr>\n",
       "  </thead>\n",
       "  <tbody>\n",
       "    <tr>\n",
       "      <th>18030201</th>\n",
       "      <td>James Kim</td>\n",
       "      <td>1990-01-23</td>\n",
       "      <td>Education</td>\n",
       "      <td>1.0</td>\n",
       "      <td>1.0</td>\n",
       "      <td>NaN</td>\n",
       "    </tr>\n",
       "    <tr>\n",
       "      <th>18030202</th>\n",
       "      <td>Rose Hwang</td>\n",
       "      <td>1992-10-11</td>\n",
       "      <td>Marketing</td>\n",
       "      <td>NaN</td>\n",
       "      <td>2.0</td>\n",
       "      <td>NaN</td>\n",
       "    </tr>\n",
       "    <tr>\n",
       "      <th>19030401</th>\n",
       "      <td>Sam Park</td>\n",
       "      <td>1995-07-02</td>\n",
       "      <td>Education</td>\n",
       "      <td>1.0</td>\n",
       "      <td>NaN</td>\n",
       "      <td>NaN</td>\n",
       "    </tr>\n",
       "    <tr>\n",
       "      <th>19070101</th>\n",
       "      <td>Chris Jang</td>\n",
       "      <td>1990-11-23</td>\n",
       "      <td>Education</td>\n",
       "      <td>NaN</td>\n",
       "      <td>NaN</td>\n",
       "      <td>3.0</td>\n",
       "    </tr>\n",
       "    <tr>\n",
       "      <th>19070102</th>\n",
       "      <td>Grace Lee</td>\n",
       "      <td>1993-02-01</td>\n",
       "      <td>Marketing</td>\n",
       "      <td>NaN</td>\n",
       "      <td>NaN</td>\n",
       "      <td>NaN</td>\n",
       "    </tr>\n",
       "    <tr>\n",
       "      <th>19070103</th>\n",
       "      <td>Juile Yoon</td>\n",
       "      <td>1992-07-16</td>\n",
       "      <td>Education</td>\n",
       "      <td>NaN</td>\n",
       "      <td>NaN</td>\n",
       "      <td>1.0</td>\n",
       "    </tr>\n",
       "  </tbody>\n",
       "</table>\n",
       "</div>"
      ],
      "text/plain": [
       "               pname       birth       dept  english  japanese  chinese\n",
       "ID                                                                     \n",
       "18030201   James Kim  1990-01-23  Education      1.0       1.0      NaN\n",
       "18030202  Rose Hwang  1992-10-11  Marketing      NaN       2.0      NaN\n",
       "19030401    Sam Park  1995-07-02  Education      1.0       NaN      NaN\n",
       "19070101  Chris Jang  1990-11-23  Education      NaN       NaN      3.0\n",
       "19070102   Grace Lee  1993-02-01  Marketing      NaN       NaN      NaN\n",
       "19070103  Juile Yoon  1992-07-16  Education      NaN       NaN      1.0"
      ]
     },
     "execution_count": 38,
     "metadata": {},
     "output_type": "execute_result"
    }
   ],
   "source": [
    "dfx = pd.read_csv('./data/mydata.csv', index_col='ID')\n",
    "dfx"
   ]
  },
  {
   "cell_type": "code",
   "execution_count": 39,
   "id": "d29bae48-e26c-44de-86c2-0f8c62e3945c",
   "metadata": {},
   "outputs": [
    {
     "data": {
      "text/plain": [
       "pname        object\n",
       "birth        object\n",
       "dept         object\n",
       "english     float64\n",
       "japanese    float64\n",
       "chinese     float64\n",
       "dtype: object"
      ]
     },
     "execution_count": 39,
     "metadata": {},
     "output_type": "execute_result"
    }
   ],
   "source": [
    "dfx.dtypes"
   ]
  },
  {
   "cell_type": "code",
   "execution_count": 40,
   "id": "eb25d7a5-dbe7-4000-b758-afe22e8966ac",
   "metadata": {},
   "outputs": [
    {
     "name": "stdout",
     "output_type": "stream",
     "text": [
      "pname               object\n",
      "birth       datetime64[ns]\n",
      "dept              category\n",
      "english            float32\n",
      "japanese           float32\n",
      "chinese            float32\n",
      "dtype: object\n"
     ]
    }
   ],
   "source": [
    "import shelve\n",
    "\n",
    "with shelve.open('./data/mysample') as ms:\n",
    "    # mysample 파일에 sample 을 key 로 하여 data 를 저장\n",
    "    ms['sample'] = data\n",
    "    # mysample 파일에 sample 을 key 로 하여 저장된 객체 가져오기\n",
    "    dfx = ms['sample']\n",
    "    print(dfx.dtypes)"
   ]
  },
  {
   "cell_type": "code",
   "execution_count": 41,
   "id": "ab5ff811-c47c-4ad6-981b-67c3ab9f4a2d",
   "metadata": {},
   "outputs": [
    {
     "name": "stdout",
     "output_type": "stream",
     "text": [
      "(1000, 3)\n",
      "pname    object\n",
      "birth    object\n",
      "dept     object\n",
      "dtype: object\n",
      "\n",
      "Index     8000\n",
      "pname    66364\n",
      "birth    67000\n",
      "dept     66000\n",
      "dtype: int64\n",
      "\n"
     ]
    },
    {
     "data": {
      "text/html": [
       "<div>\n",
       "<style scoped>\n",
       "    .dataframe tbody tr th:only-of-type {\n",
       "        vertical-align: middle;\n",
       "    }\n",
       "\n",
       "    .dataframe tbody tr th {\n",
       "        vertical-align: top;\n",
       "    }\n",
       "\n",
       "    .dataframe thead th {\n",
       "        text-align: right;\n",
       "    }\n",
       "</style>\n",
       "<table border=\"1\" class=\"dataframe\">\n",
       "  <thead>\n",
       "    <tr style=\"text-align: right;\">\n",
       "      <th></th>\n",
       "      <th>pname</th>\n",
       "      <th>birth</th>\n",
       "      <th>dept</th>\n",
       "    </tr>\n",
       "    <tr>\n",
       "      <th>ID</th>\n",
       "      <th></th>\n",
       "      <th></th>\n",
       "      <th></th>\n",
       "    </tr>\n",
       "  </thead>\n",
       "  <tbody>\n",
       "    <tr>\n",
       "      <th>18030201</th>\n",
       "      <td>James Kim</td>\n",
       "      <td>1990-01-23</td>\n",
       "      <td>Education</td>\n",
       "    </tr>\n",
       "    <tr>\n",
       "      <th>18030202</th>\n",
       "      <td>Rose Hwang</td>\n",
       "      <td>1992-10-11</td>\n",
       "      <td>Marketing</td>\n",
       "    </tr>\n",
       "    <tr>\n",
       "      <th>19030401</th>\n",
       "      <td>Sam Park</td>\n",
       "      <td>1995-07-02</td>\n",
       "      <td>Education</td>\n",
       "    </tr>\n",
       "    <tr>\n",
       "      <th>19070101</th>\n",
       "      <td>Chris Jang</td>\n",
       "      <td>1990-11-23</td>\n",
       "      <td>Education</td>\n",
       "    </tr>\n",
       "    <tr>\n",
       "      <th>19070102</th>\n",
       "      <td>Grace Lee</td>\n",
       "      <td>1993-02-01</td>\n",
       "      <td>Marketing</td>\n",
       "    </tr>\n",
       "  </tbody>\n",
       "</table>\n",
       "</div>"
      ],
      "text/plain": [
       "               pname       birth       dept\n",
       "ID                                         \n",
       "18030201   James Kim  1990-01-23  Education\n",
       "18030202  Rose Hwang  1992-10-11  Marketing\n",
       "19030401    Sam Park  1995-07-02  Education\n",
       "19070101  Chris Jang  1990-11-23  Education\n",
       "19070102   Grace Lee  1993-02-01  Marketing"
      ]
     },
     "execution_count": 41,
     "metadata": {},
     "output_type": "execute_result"
    }
   ],
   "source": [
    "data = pd.read_csv('./data/easySampleLong.csv', index_col='ID')\n",
    "print(data.shape)\n",
    "print(data.dtypes, end='\\n\\n')\n",
    "print(data.memory_usage(index=True, deep=True), end='\\n\\n')\n",
    "data.head()"
   ]
  },
  {
   "cell_type": "code",
   "execution_count": 42,
   "id": "b9ccc434-b35a-4a1b-a24d-65a80019133f",
   "metadata": {},
   "outputs": [
    {
     "name": "stdout",
     "output_type": "stream",
     "text": [
      "(1000, 3)\n",
      "pname            object\n",
      "birth    datetime64[ns]\n",
      "dept           category\n",
      "dtype: object\n",
      "\n",
      "Index     8000\n",
      "pname    66364\n",
      "birth     8000\n",
      "dept      1240\n",
      "dtype: int64\n",
      "\n"
     ]
    },
    {
     "data": {
      "text/html": [
       "<div>\n",
       "<style scoped>\n",
       "    .dataframe tbody tr th:only-of-type {\n",
       "        vertical-align: middle;\n",
       "    }\n",
       "\n",
       "    .dataframe tbody tr th {\n",
       "        vertical-align: top;\n",
       "    }\n",
       "\n",
       "    .dataframe thead th {\n",
       "        text-align: right;\n",
       "    }\n",
       "</style>\n",
       "<table border=\"1\" class=\"dataframe\">\n",
       "  <thead>\n",
       "    <tr style=\"text-align: right;\">\n",
       "      <th></th>\n",
       "      <th>pname</th>\n",
       "      <th>birth</th>\n",
       "      <th>dept</th>\n",
       "    </tr>\n",
       "    <tr>\n",
       "      <th>ID</th>\n",
       "      <th></th>\n",
       "      <th></th>\n",
       "      <th></th>\n",
       "    </tr>\n",
       "  </thead>\n",
       "  <tbody>\n",
       "    <tr>\n",
       "      <th>18030201</th>\n",
       "      <td>James Kim</td>\n",
       "      <td>1990-01-23</td>\n",
       "      <td>Education</td>\n",
       "    </tr>\n",
       "    <tr>\n",
       "      <th>18030202</th>\n",
       "      <td>Rose Hwang</td>\n",
       "      <td>1992-10-11</td>\n",
       "      <td>Marketing</td>\n",
       "    </tr>\n",
       "    <tr>\n",
       "      <th>19030401</th>\n",
       "      <td>Sam Park</td>\n",
       "      <td>1995-07-02</td>\n",
       "      <td>Education</td>\n",
       "    </tr>\n",
       "    <tr>\n",
       "      <th>19070101</th>\n",
       "      <td>Chris Jang</td>\n",
       "      <td>1990-11-23</td>\n",
       "      <td>Education</td>\n",
       "    </tr>\n",
       "    <tr>\n",
       "      <th>19070102</th>\n",
       "      <td>Grace Lee</td>\n",
       "      <td>1993-02-01</td>\n",
       "      <td>Marketing</td>\n",
       "    </tr>\n",
       "  </tbody>\n",
       "</table>\n",
       "</div>"
      ],
      "text/plain": [
       "               pname      birth       dept\n",
       "ID                                        \n",
       "18030201   James Kim 1990-01-23  Education\n",
       "18030202  Rose Hwang 1992-10-11  Marketing\n",
       "19030401    Sam Park 1995-07-02  Education\n",
       "19070101  Chris Jang 1990-11-23  Education\n",
       "19070102   Grace Lee 1993-02-01  Marketing"
      ]
     },
     "execution_count": 42,
     "metadata": {},
     "output_type": "execute_result"
    }
   ],
   "source": [
    "data['dept'] = data['dept'].astype('category')\n",
    "data['birth'] = pd.to_datetime(data['birth'])\n",
    "\n",
    "print(data.shape)\n",
    "print(data.dtypes, end='\\n\\n')\n",
    "print(data.memory_usage(index=True, deep=True), end='\\n\\n')\n",
    "data.head()"
   ]
  },
  {
   "cell_type": "markdown",
   "id": "926d1ef9-9526-4d81-bf3a-182acf7c1d3c",
   "metadata": {
    "jp-MarkdownHeadingCollapsed": true,
    "tags": []
   },
   "source": [
    "# Series 생성, 메서드, 연산"
   ]
  },
  {
   "cell_type": "markdown",
   "id": "2d1b999d-ff63-4cd2-b9ba-05d575c2f374",
   "metadata": {
    "jp-MarkdownHeadingCollapsed": true,
    "tags": []
   },
   "source": [
    "## Series 생성"
   ]
  },
  {
   "cell_type": "markdown",
   "id": "dfa10b2f-8cea-44c5-ab65-6527091a60e8",
   "metadata": {},
   "source": [
    "- `pd.Series(data=None, index=None, dtype=None, name=None, copy=False, ...)`\n",
    "1) data: array-like, iterable, dictionary or scalar value 등을 사용할 수 있음\n",
    "2) index : array-like or index(1D)\n",
    "    + index, values 는 hashable 객체이어야 하며, datadhk 같은 길이이어야 함\n",
    "    + 생략 시 RangeIndex 가 사용됨 (0 부터 1씩 증가하는 숫자 values)\n",
    "    + data가 dictionary 객체일 떄 index 가 생략되면, dict 객체의 key 를 index 로 사용\n",
    "    + dict 객체의 key 와 index 가 중복되면 index 를 따름 (dict의 key가 갱신됨)\n",
    "3) dtype : Series.values 의 데이터 타입\n",
    "    + str, numpy.dtype, ExtensionDtype 등을 사용할 수 있음\n",
    "4) name : Seriess.name 으로 사용할 것으로 문자열로 지정함\n",
    "5) copy : 입력 데이터를 복사하는지에 대한 여부 (ndarray에만 해당)\n",
    "    + True 인 경우 복사 (다른 메모리 사용), False 라도 dtype이 다르면 복사함"
   ]
  },
  {
   "cell_type": "code",
   "execution_count": 43,
   "id": "1b5545a4-e5fe-40ad-9999-2aefc3b28292",
   "metadata": {},
   "outputs": [],
   "source": [
    "import pandas as pd\n",
    "import numpy as np\n",
    "\n",
    "def printObj(*a):\n",
    "    for x in a:\n",
    "        print(x)\n",
    "        print(\"-\" * 20)"
   ]
  },
  {
   "cell_type": "code",
   "execution_count": 44,
   "id": "22ce4856-5f78-4f77-a636-233eade53d0a",
   "metadata": {},
   "outputs": [
    {
     "name": "stdout",
     "output_type": "stream",
     "text": [
      "0     80\n",
      "1     90\n",
      "2    100\n",
      "3     95\n",
      "dtype: int64\n",
      "--------------------\n",
      "0     Kim\n",
      "1    Yoon\n",
      "2    Choi\n",
      "3    Park\n",
      "dtype: object\n",
      "--------------------\n",
      "0    50\n",
      "1    51\n",
      "2    52\n",
      "3    53\n",
      "dtype: int64\n",
      "--------------------\n"
     ]
    }
   ],
   "source": [
    "score = (80, 90, 100, 95)\n",
    "name = [\"Kim\", \"Yoon\", \"Choi\", \"Park\"]\n",
    "\n",
    "s1 = pd.Series(score, dtype='<i4')  # np.int32, 'int', '<i4'\n",
    "s1 = s1.astype(np.int64)\n",
    "s2 = pd.Series(name)\n",
    "s3 = pd.Series(np.arange(50, 54))\n",
    "\n",
    "printObj(s1, s2, s3)"
   ]
  },
  {
   "cell_type": "code",
   "execution_count": 45,
   "id": "4e99364e-695e-4896-928b-a3f6e8c44c01",
   "metadata": {},
   "outputs": [
    {
     "name": "stdout",
     "output_type": "stream",
     "text": [
      "Kim      80\n",
      "Yoon     90\n",
      "Choi    100\n",
      "Park     95\n",
      "Name: score, dtype: int64\n",
      "--------------------\n",
      "Kim     75\n",
      "Yoon    75\n",
      "Choi    76\n",
      "Park    88\n",
      "dtype: int64\n",
      "--------------------\n"
     ]
    }
   ],
   "source": [
    "score = (80, 90, 100, 95)\n",
    "name = [\"Kim\", \"Yoon\", \"Choi\", \"Park\"]\n",
    "\n",
    "s1 = pd.Series(score, index=name, name=\"score\")\n",
    "s2 = pd.Series(np.random.randint(70, 90, 4), index=s1.index)\n",
    "\n",
    "printObj(s1, s2)"
   ]
  },
  {
   "cell_type": "code",
   "execution_count": 46,
   "id": "791f87d1-55af-48f1-a7d4-00afde62e15d",
   "metadata": {},
   "outputs": [
    {
     "name": "stdout",
     "output_type": "stream",
     "text": [
      "Kim      80\n",
      "Yoon     90\n",
      "Choi    100\n",
      "Park     95\n",
      "Name: score, dtype: int64\n",
      "--------------------\n",
      "0    75\n",
      "1    75\n",
      "2    76\n",
      "3    88\n",
      "Name: score, dtype: int64\n",
      "--------------------\n"
     ]
    }
   ],
   "source": [
    "s2.name = \"score\"\n",
    "s2.index = pd.RangeIndex(len(s2))\n",
    "\n",
    "printObj(s1, s2)"
   ]
  },
  {
   "cell_type": "code",
   "execution_count": 47,
   "id": "8b61872d-e484-45b2-b17f-4ce3409352c1",
   "metadata": {},
   "outputs": [
    {
     "data": {
      "text/plain": [
       "{'Kim': 80, 'Yoon': 90, 'Choi': 100, 'Park': 95}"
      ]
     },
     "execution_count": 47,
     "metadata": {},
     "output_type": "execute_result"
    }
   ],
   "source": [
    "score = (80, 90, 100, 95)\n",
    "name = [\"Kim\", \"Yoon\", \"Choi\", \"Park\"]\n",
    "\n",
    "# Dictionary 는 순서를 보장하지 않음\n",
    "mydata = dict(zip(name, score))\n",
    "\n",
    "mydata"
   ]
  },
  {
   "cell_type": "code",
   "execution_count": 48,
   "id": "f017c7c5-93f6-40f9-a430-7a003d6dd28f",
   "metadata": {},
   "outputs": [
    {
     "name": "stdout",
     "output_type": "stream",
     "text": [
      "Kim      80\n",
      "Yoon     90\n",
      "Choi    100\n",
      "Park     95\n",
      "dtype: int32\n",
      "--------------------\n",
      "Song      NaN\n",
      "Kim      80.0\n",
      "Lee       NaN\n",
      "Choi    100.0\n",
      "Park     95.0\n",
      "dtype: float64\n",
      "--------------------\n"
     ]
    }
   ],
   "source": [
    "name_p = [\"Song\", \"Kim\", \"Lee\", \"Choi\", 'Park']\n",
    "\n",
    "s3 = pd.Series(mydata, dtype=np.int32)\n",
    "# name_p 에 있으나, mydata 의 name 에는 없는 것은 NaN 으로 값이 채워짐\n",
    "s4 = pd.Series(mydata, index=name_p)\n",
    "\n",
    "printObj(s3, s4)"
   ]
  },
  {
   "cell_type": "markdown",
   "id": "a4bc7bbf-1fdc-4515-90bd-2d6d97b712ec",
   "metadata": {
    "jp-MarkdownHeadingCollapsed": true,
    "tags": []
   },
   "source": [
    "## Series 의 메서드"
   ]
  },
  {
   "cell_type": "markdown",
   "id": "8cfcdf4a-5848-4496-bbcf-5de9b6db31ca",
   "metadata": {},
   "source": [
    "- pandas 의 함수/메서드들은 일반적으로 NaN에 대해 제외하고 처리한다 (numpy와 다름)\n",
    "- `s.sum()`: NaN 를 제외한 데이터 합계 구하기, float 반환\n",
    "- `s.count()`: NaN 를 제외한 데이터 갯수 구하기, int 반환\n",
    "- `s.mean()`: NaN 를 제외한 데이터 평균 구하기, float 반환\n",
    "- `s.unique()`: 중복 데이터를 제외한 데이터의 ndarray로 변환 (NaN 포함)\n",
    "- `s.value_counts()`: NaN 를 제외한 데이터의 갯수(정수)의 Series 반환\n",
    "- `s.head(숫자)`, : `s.tail(숫자)` : 데이터 상위/하위 숫자 개만큼의 Series 반환\n",
    "- `s.to_list()`: s.values 를 list 객체로 반환\n",
    "- `s.to_numpy([dtype, copy])`: s.values 를 ndarray 객체로 반환"
   ]
  },
  {
   "cell_type": "code",
   "execution_count": 49,
   "id": "968c2bc3-c3bc-433a-b804-3fb32b75c27f",
   "metadata": {},
   "outputs": [],
   "source": [
    "import pandas as pd\n",
    "import numpy as np\n",
    "\n",
    "def printObj(*a):\n",
    "    for x in a:\n",
    "        print(type(x))\n",
    "        print(x)\n",
    "        print(\"-\" * 25)"
   ]
  },
  {
   "cell_type": "code",
   "execution_count": 50,
   "id": "6e63a381-6659-49a2-8838-afcdedb0f74d",
   "metadata": {},
   "outputs": [
    {
     "data": {
      "text/plain": [
       "0    4.0\n",
       "1    2.0\n",
       "2    2.0\n",
       "3    NaN\n",
       "4    NaN\n",
       "5    6.0\n",
       "6    7.0\n",
       "7    6.0\n",
       "8    7.0\n",
       "dtype: float64"
      ]
     },
     "execution_count": 50,
     "metadata": {},
     "output_type": "execute_result"
    }
   ],
   "source": [
    "arr = np.array([4, 2, 2, np.nan, np.nan, 6, 7, 6, 7], dtype=np.float64)\n",
    "s = pd.Series(arr)\n",
    "s"
   ]
  },
  {
   "cell_type": "code",
   "execution_count": 51,
   "id": "663522e4-3b6d-4e69-b0f3-bac574fb9d20",
   "metadata": {},
   "outputs": [
    {
     "name": "stdout",
     "output_type": "stream",
     "text": [
      "<class 'numpy.float64'>\n",
      "34.0\n",
      "-------------------------\n",
      "<class 'numpy.int64'>\n",
      "7\n",
      "-------------------------\n",
      "<class 'numpy.float64'>\n",
      "4.857142857142857\n",
      "-------------------------\n",
      "<class 'numpy.float64'>\n",
      "4.857142857142857\n",
      "-------------------------\n"
     ]
    }
   ],
   "source": [
    "a = s.sum()\n",
    "b = s.count()\n",
    "c = s.mean()\n",
    "\n",
    "printObj(a, b, c, a/b)"
   ]
  },
  {
   "cell_type": "code",
   "execution_count": 52,
   "id": "ed553c40-f5b8-4f25-97d2-cc490c0392c3",
   "metadata": {},
   "outputs": [
    {
     "name": "stdout",
     "output_type": "stream",
     "text": [
      "<class 'numpy.ndarray'>\n",
      "[ 4.  2. nan  6.  7.]\n",
      "-------------------------\n",
      "<class 'pandas.core.series.Series'>\n",
      "2.0    2\n",
      "6.0    2\n",
      "7.0    2\n",
      "4.0    1\n",
      "dtype: int64\n",
      "-------------------------\n"
     ]
    }
   ],
   "source": [
    "d = s.unique()\n",
    "e = s.value_counts()\n",
    "\n",
    "printObj(d, e)"
   ]
  },
  {
   "cell_type": "code",
   "execution_count": 53,
   "id": "9cddd41a-d3b2-423f-b1a2-6a31a5a8f4fd",
   "metadata": {},
   "outputs": [
    {
     "name": "stdout",
     "output_type": "stream",
     "text": [
      "<class 'list'>\n",
      "[4.0, 2.0, 2.0, nan, nan, 6.0, 7.0, 6.0, 7.0]\n",
      "-------------------------\n",
      "<class 'numpy.ndarray'>\n",
      "[ 4.  2.  2. nan nan  6.  7.  6.  7.]\n",
      "-------------------------\n"
     ]
    }
   ],
   "source": [
    "printObj(s.to_list(), s.to_numpy())"
   ]
  },
  {
   "cell_type": "markdown",
   "id": "7570a0fe-8848-45c7-a911-4feaaf480e66",
   "metadata": {
    "jp-MarkdownHeadingCollapsed": true,
    "tags": []
   },
   "source": [
    "## Series 의 연산"
   ]
  },
  {
   "cell_type": "markdown",
   "id": "ea35bfd2-c711-4562-817e-184ff5925320",
   "metadata": {},
   "source": [
    "- index 를 기준으로 연산된다\n",
    "- Series 와 Series 의 연산은 같은 index 의 value 끼리 연산된다\n",
    "    + 같은 index 가 없는 경우, 추가되며 결과는 NaN 임\n",
    "- Series 와 스칼라의 연산은 각 원소별로 스칼라와 연산된다\n",
    "    + 스칼라가 broadcasting 되어 사용된다"
   ]
  },
  {
   "cell_type": "code",
   "execution_count": 54,
   "id": "b6008849-6619-44cf-8144-c034069caa02",
   "metadata": {},
   "outputs": [],
   "source": [
    "import pandas as pd\n",
    "import numpy as np\n",
    "\n",
    "def printObj(*a):\n",
    "    for x in a:\n",
    "        print(type(x))\n",
    "        print(x)\n",
    "        print(\"-\" * 25)"
   ]
  },
  {
   "cell_type": "code",
   "execution_count": 55,
   "id": "35a9e541-b629-4f8c-88fd-9f77158ac231",
   "metadata": {},
   "outputs": [
    {
     "name": "stdout",
     "output_type": "stream",
     "text": [
      "<class 'pandas.core.series.Series'>\n",
      "0    1\n",
      "1    2\n",
      "2    3\n",
      "3    4\n",
      "4    5\n",
      "dtype: int64\n",
      "-------------------------\n",
      "<class 'pandas.core.series.Series'>\n",
      "0     6\n",
      "1     7\n",
      "2     8\n",
      "3     9\n",
      "4    10\n",
      "dtype: int64\n",
      "-------------------------\n",
      "<class 'pandas.core.series.Series'>\n",
      "0     7\n",
      "1     9\n",
      "2    11\n",
      "3    13\n",
      "4    15\n",
      "dtype: int64\n",
      "-------------------------\n"
     ]
    }
   ],
   "source": [
    "a = np.arange(1, 6)\n",
    "b = np.arange(6, 11)\n",
    "\n",
    "s1 = pd.Series(a)\n",
    "s2 = pd.Series(b)\n",
    "\n",
    "printObj(s1, s2, s1 + s2)"
   ]
  },
  {
   "cell_type": "code",
   "execution_count": 56,
   "id": "b1292bd4-73e7-4a9f-8b90-5ecb4e5a0400",
   "metadata": {},
   "outputs": [
    {
     "name": "stdout",
     "output_type": "stream",
     "text": [
      "<class 'pandas.core.series.Series'>\n",
      "A    1\n",
      "B    2\n",
      "C    3\n",
      "D    4\n",
      "E    5\n",
      "dtype: int64\n",
      "-------------------------\n",
      "<class 'pandas.core.series.Series'>\n",
      "A    6\n",
      "X    7\n",
      "Y    8\n",
      "D    9\n",
      "dtype: int64\n",
      "-------------------------\n",
      "<class 'pandas.core.series.Series'>\n",
      "A     7.0\n",
      "B     NaN\n",
      "C     NaN\n",
      "D    13.0\n",
      "E     NaN\n",
      "X     NaN\n",
      "Y     NaN\n",
      "dtype: float64\n",
      "-------------------------\n",
      "<class 'pandas.core.series.Series'>\n",
      "A     7\n",
      "B     2\n",
      "C     3\n",
      "D    13\n",
      "E     5\n",
      "X     7\n",
      "Y     8\n",
      "dtype: int32\n",
      "-------------------------\n"
     ]
    }
   ],
   "source": [
    "a = np.arange(1, 6)\n",
    "b = np.arange(6, 10)\n",
    "n1 = ['A','B','C','D','E']\n",
    "n2 = ['A','X','Y','D']\n",
    "\n",
    "s1 = pd.Series(a, index=n1)\n",
    "s2 = pd.Series(b, index=n2)\n",
    "s3 = s1.add(s2, fill_value=0).astype(np.int32)\n",
    "\n",
    "printObj(s1, s2, s1 + s2, s3)"
   ]
  },
  {
   "cell_type": "code",
   "execution_count": 58,
   "id": "a031d5d5-92ad-455c-89f2-d4db0f76b606",
   "metadata": {},
   "outputs": [
    {
     "name": "stdout",
     "output_type": "stream",
     "text": [
      "<class 'pandas.core.series.Series'>\n",
      "A    1\n",
      "B    2\n",
      "C    3\n",
      "D    4\n",
      "E    5\n",
      "dtype: int64\n",
      "-------------------------\n",
      "<class 'pandas.core.series.Series'>\n",
      "A    3\n",
      "B    4\n",
      "C    5\n",
      "D    6\n",
      "E    7\n",
      "dtype: int64\n",
      "-------------------------\n"
     ]
    }
   ],
   "source": [
    "a = np.arange(1, 6)\n",
    "n1 = ['A','B','C','D','E']\n",
    "\n",
    "s1 = pd.Series(a, index=n1)\n",
    "\n",
    "printObj(s1, s1 + 2)"
   ]
  },
  {
   "cell_type": "markdown",
   "id": "94a067ac-fb36-42c8-8523-091fa3759f5e",
   "metadata": {
    "jp-MarkdownHeadingCollapsed": true,
    "tags": []
   },
   "source": [
    "# DataFrame 생성, 메서드, 연산"
   ]
  },
  {
   "cell_type": "markdown",
   "id": "60f2b365-ae0a-4d3a-8ceb-70377f3180f7",
   "metadata": {
    "jp-MarkdownHeadingCollapsed": true,
    "tags": []
   },
   "source": [
    "## DataFrame 생성"
   ]
  },
  {
   "cell_type": "markdown",
   "id": "41fc2f51-3714-43a5-9fcd-09d7582091b6",
   "metadata": {},
   "source": [
    "- `pd.DataFrame(data=None, index=None, columns=None, dtype=None, copy=False)`\n",
    "- data: ndarray(structured or homogeneous), iterable, dict, DataFrame\n",
    "    + dict 사용 시 columns 가 지정되지 않으면 dict 의 key 가 columns 로 사용됨\n",
    "    + DataFrame 사용 시 data, index, columns 가 복사됨\n",
    "- index, columns: array-like or index (1D)\n",
    "    + 생략 시 RangeIndex 가 사용됨 (0부터 1씩 증가하는 숫자 values)\n",
    "    + index.values 는 hashable 객체이어야 함\n",
    "    + data로 dict 사용 시, dict의 key와 columns가 중복될 경우 columns 에 따름\n",
    "    + data로 ndarray 사용 시 index.values 갯수 == data 행 갯수\n",
    "    + data로 ndarray 사용 시 columns.values 갯수 == data 열 갯수\n",
    "- dtype: 직접 데이터 타입을 지정하며, 1개의 타입 지정만 가능함\n",
    "- copy: ndarray(2D), DataFrame을 data로 사용 시 copy=False는 연결을 의미함\n",
    "    + ndarray의 dtype이나, DataFrame의 index, columns 등이 변경이 되면 copy=True로 동작함"
   ]
  },
  {
   "cell_type": "code",
   "execution_count": 59,
   "id": "0b02a2e8-66db-42dc-89df-d517f8db637d",
   "metadata": {},
   "outputs": [],
   "source": [
    "import pandas as pd\n",
    "import numpy as np\n",
    "\n",
    "def printObj(*a):\n",
    "    for x in a:\n",
    "        print(type(x))\n",
    "        print(x)\n",
    "        print(\"-\" * 25)"
   ]
  },
  {
   "cell_type": "code",
   "execution_count": 60,
   "id": "0360112e-8e50-4176-92c5-e9a508430c4e",
   "metadata": {},
   "outputs": [],
   "source": [
    "ID = [1900101, 1900102, 1900103, 1900104]\n",
    "name = ['Kim', 'Yoon', 'Choi', 'Park']\n",
    "data = {'name': name, \n",
    "        'english': [80, 90, 100, 95], \n",
    "        'chinese': [100, 80, 70, 85], \n",
    "        'korean' : [95, 100, 80, 60], }"
   ]
  },
  {
   "cell_type": "code",
   "execution_count": 61,
   "id": "83a3d7df-784a-414a-9040-0186abef43df",
   "metadata": {},
   "outputs": [
    {
     "data": {
      "text/html": [
       "<div>\n",
       "<style scoped>\n",
       "    .dataframe tbody tr th:only-of-type {\n",
       "        vertical-align: middle;\n",
       "    }\n",
       "\n",
       "    .dataframe tbody tr th {\n",
       "        vertical-align: top;\n",
       "    }\n",
       "\n",
       "    .dataframe thead th {\n",
       "        text-align: right;\n",
       "    }\n",
       "</style>\n",
       "<table border=\"1\" class=\"dataframe\">\n",
       "  <thead>\n",
       "    <tr style=\"text-align: right;\">\n",
       "      <th></th>\n",
       "      <th>name</th>\n",
       "      <th>english</th>\n",
       "      <th>chinese</th>\n",
       "      <th>korean</th>\n",
       "    </tr>\n",
       "  </thead>\n",
       "  <tbody>\n",
       "    <tr>\n",
       "      <th>0</th>\n",
       "      <td>Kim</td>\n",
       "      <td>80</td>\n",
       "      <td>100</td>\n",
       "      <td>95</td>\n",
       "    </tr>\n",
       "    <tr>\n",
       "      <th>1</th>\n",
       "      <td>Yoon</td>\n",
       "      <td>90</td>\n",
       "      <td>80</td>\n",
       "      <td>100</td>\n",
       "    </tr>\n",
       "    <tr>\n",
       "      <th>2</th>\n",
       "      <td>Choi</td>\n",
       "      <td>100</td>\n",
       "      <td>70</td>\n",
       "      <td>80</td>\n",
       "    </tr>\n",
       "    <tr>\n",
       "      <th>3</th>\n",
       "      <td>Park</td>\n",
       "      <td>95</td>\n",
       "      <td>85</td>\n",
       "      <td>60</td>\n",
       "    </tr>\n",
       "  </tbody>\n",
       "</table>\n",
       "</div>"
      ],
      "text/plain": [
       "   name  english  chinese  korean\n",
       "0   Kim       80      100      95\n",
       "1  Yoon       90       80     100\n",
       "2  Choi      100       70      80\n",
       "3  Park       95       85      60"
      ]
     },
     "execution_count": 61,
     "metadata": {},
     "output_type": "execute_result"
    }
   ],
   "source": [
    "df = pd.DataFrame(data)\n",
    "df"
   ]
  },
  {
   "cell_type": "code",
   "execution_count": 70,
   "id": "aefa11ed-c59f-4c9b-8bc8-05225c2060ad",
   "metadata": {},
   "outputs": [
    {
     "data": {
      "text/html": [
       "<div>\n",
       "<style scoped>\n",
       "    .dataframe tbody tr th:only-of-type {\n",
       "        vertical-align: middle;\n",
       "    }\n",
       "\n",
       "    .dataframe tbody tr th {\n",
       "        vertical-align: top;\n",
       "    }\n",
       "\n",
       "    .dataframe thead th {\n",
       "        text-align: right;\n",
       "    }\n",
       "</style>\n",
       "<table border=\"1\" class=\"dataframe\">\n",
       "  <thead>\n",
       "    <tr style=\"text-align: right;\">\n",
       "      <th></th>\n",
       "      <th>name</th>\n",
       "      <th>english</th>\n",
       "      <th>temp</th>\n",
       "    </tr>\n",
       "  </thead>\n",
       "  <tbody>\n",
       "    <tr>\n",
       "      <th>1900101</th>\n",
       "      <td>Kim</td>\n",
       "      <td>80</td>\n",
       "      <td>NaN</td>\n",
       "    </tr>\n",
       "    <tr>\n",
       "      <th>1900102</th>\n",
       "      <td>Yoon</td>\n",
       "      <td>90</td>\n",
       "      <td>NaN</td>\n",
       "    </tr>\n",
       "    <tr>\n",
       "      <th>1900103</th>\n",
       "      <td>Choi</td>\n",
       "      <td>100</td>\n",
       "      <td>NaN</td>\n",
       "    </tr>\n",
       "    <tr>\n",
       "      <th>1900104</th>\n",
       "      <td>Park</td>\n",
       "      <td>95</td>\n",
       "      <td>NaN</td>\n",
       "    </tr>\n",
       "  </tbody>\n",
       "</table>\n",
       "</div>"
      ],
      "text/plain": [
       "         name  english temp\n",
       "1900101   Kim       80  NaN\n",
       "1900102  Yoon       90  NaN\n",
       "1900103  Choi      100  NaN\n",
       "1900104  Park       95  NaN"
      ]
     },
     "execution_count": 70,
     "metadata": {},
     "output_type": "execute_result"
    }
   ],
   "source": [
    "df = pd.DataFrame(data, index=ID, columns= ['name', 'english', 'temp'])\n",
    "df"
   ]
  },
  {
   "cell_type": "code",
   "execution_count": 71,
   "id": "582fd5ca-90f9-4efd-a40a-522d52556c07",
   "metadata": {},
   "outputs": [],
   "source": [
    "df.index.name = 'ID'\n",
    "df['korean'] = [100] * 4\n",
    "df['english'] = [90, 80, 100, 100]"
   ]
  },
  {
   "cell_type": "code",
   "execution_count": 73,
   "id": "698f9c72-ef06-4325-8056-39279e93e030",
   "metadata": {},
   "outputs": [
    {
     "data": {
      "text/html": [
       "<div>\n",
       "<style scoped>\n",
       "    .dataframe tbody tr th:only-of-type {\n",
       "        vertical-align: middle;\n",
       "    }\n",
       "\n",
       "    .dataframe tbody tr th {\n",
       "        vertical-align: top;\n",
       "    }\n",
       "\n",
       "    .dataframe thead th {\n",
       "        text-align: right;\n",
       "    }\n",
       "</style>\n",
       "<table border=\"1\" class=\"dataframe\">\n",
       "  <thead>\n",
       "    <tr style=\"text-align: right;\">\n",
       "      <th></th>\n",
       "      <th>name</th>\n",
       "      <th>english</th>\n",
       "      <th>temp</th>\n",
       "      <th>korean</th>\n",
       "    </tr>\n",
       "    <tr>\n",
       "      <th>ID</th>\n",
       "      <th></th>\n",
       "      <th></th>\n",
       "      <th></th>\n",
       "      <th></th>\n",
       "    </tr>\n",
       "  </thead>\n",
       "  <tbody>\n",
       "    <tr>\n",
       "      <th>1900101</th>\n",
       "      <td>Kim</td>\n",
       "      <td>90</td>\n",
       "      <td>NaN</td>\n",
       "      <td>100</td>\n",
       "    </tr>\n",
       "    <tr>\n",
       "      <th>1900102</th>\n",
       "      <td>Yoon</td>\n",
       "      <td>80</td>\n",
       "      <td>NaN</td>\n",
       "      <td>100</td>\n",
       "    </tr>\n",
       "    <tr>\n",
       "      <th>1900103</th>\n",
       "      <td>Choi</td>\n",
       "      <td>100</td>\n",
       "      <td>NaN</td>\n",
       "      <td>100</td>\n",
       "    </tr>\n",
       "    <tr>\n",
       "      <th>1900104</th>\n",
       "      <td>Park</td>\n",
       "      <td>100</td>\n",
       "      <td>NaN</td>\n",
       "      <td>100</td>\n",
       "    </tr>\n",
       "  </tbody>\n",
       "</table>\n",
       "</div>"
      ],
      "text/plain": [
       "         name  english temp  korean\n",
       "ID                                 \n",
       "1900101   Kim       90  NaN     100\n",
       "1900102  Yoon       80  NaN     100\n",
       "1900103  Choi      100  NaN     100\n",
       "1900104  Park      100  NaN     100"
      ]
     },
     "execution_count": 73,
     "metadata": {},
     "output_type": "execute_result"
    }
   ],
   "source": [
    "df"
   ]
  },
  {
   "cell_type": "code",
   "execution_count": 77,
   "id": "cceb05db-89f7-4089-89b8-706139137521",
   "metadata": {},
   "outputs": [
    {
     "name": "stdout",
     "output_type": "stream",
     "text": [
      "<class 'numpy.ndarray'>\n",
      "[[100. 100. 100.]\n",
      " [ 92.  80.  97.]\n",
      " [ 94.  95.  80.]\n",
      " [ 83.  95.  81.]]\n",
      "-------------------------\n",
      "<class 'pandas.core.frame.DataFrame'>\n",
      "         english  japanese  chineses\n",
      "ID                                  \n",
      "1900101     85.0      87.0      85.0\n",
      "1900102     92.0      80.0      97.0\n",
      "1900103     94.0      95.0      80.0\n",
      "1900104     83.0      95.0      81.0\n",
      "-------------------------\n"
     ]
    }
   ],
   "source": [
    "a = np.random.randint(80, 100, size=(4, 3)).astype(np.float16)\n",
    "\n",
    "df = pd.DataFrame(a, \n",
    "                  index=ID, \n",
    "                  columns=['english', 'japanese', 'chineses'], \n",
    "                  copy=True)\n",
    "df.index.name = 'ID'\n",
    "a[0] = [100] * 3\n",
    "\n",
    "printObj(a, df)"
   ]
  },
  {
   "cell_type": "markdown",
   "id": "1926e0c2-69cd-4362-96e5-043f954bf0f0",
   "metadata": {
    "jp-MarkdownHeadingCollapsed": true,
    "tags": []
   },
   "source": [
    "## DataFrame 의 연산"
   ]
  },
  {
   "cell_type": "markdown",
   "id": "a6205a73-3af1-4714-a742-4249b6b13009",
   "metadata": {},
   "source": [
    "- DataFrame 끼리의 연산은 index 와 column 을 모두 대상으로 한다\n",
    "- df + df 의 경우 match 되는 index 나 column 이 없는 경우 NaN 으로 결과가 표시된다"
   ]
  },
  {
   "cell_type": "code",
   "execution_count": 78,
   "id": "b12f1ba8-7b0e-4e17-b235-fbf58d951377",
   "metadata": {},
   "outputs": [],
   "source": [
    "import pandas as pd\n",
    "import numpy as np\n",
    "\n",
    "def printObj(*a):\n",
    "    for x in a:\n",
    "        print(type(x))\n",
    "        print(x)\n",
    "        print(\"-\" * 25)"
   ]
  },
  {
   "cell_type": "code",
   "execution_count": 82,
   "id": "d36d31fb-e658-4cb9-bee5-5d1844025b38",
   "metadata": {},
   "outputs": [
    {
     "name": "stdout",
     "output_type": "stream",
     "text": [
      "<class 'pandas.core.frame.DataFrame'>\n",
      "   a  b  c\n",
      "A  1  1  1\n",
      "B  1  1  1\n",
      "-------------------------\n",
      "<class 'pandas.core.frame.DataFrame'>\n",
      "   a  b  c\n",
      "A  2  2  2\n",
      "B  2  2  2\n",
      "-------------------------\n",
      "<class 'pandas.core.frame.DataFrame'>\n",
      "   a  b  c\n",
      "A  3  3  3\n",
      "B  3  3  3\n",
      "-------------------------\n"
     ]
    }
   ],
   "source": [
    "df1 = pd.DataFrame(np.full((2,3), 1), \n",
    "                   index=list(\"AB\"),\n",
    "                   columns=list(\"abc\"))\n",
    "df2 = pd.DataFrame(np.full((2,3), 2), \n",
    "                   index=list(\"AB\"),\n",
    "                   columns=list(\"abc\"))\n",
    "\n",
    "printObj(df1, df2, df1 + df2)"
   ]
  },
  {
   "cell_type": "code",
   "execution_count": 85,
   "id": "723d3bdc-0f9c-4400-bd35-771e86e809d2",
   "metadata": {},
   "outputs": [
    {
     "name": "stdout",
     "output_type": "stream",
     "text": [
      "<class 'pandas.core.frame.DataFrame'>\n",
      "   a  b  c  d\n",
      "C  1  1  1  1\n",
      "B  1  1  1  1\n",
      "-------------------------\n",
      "<class 'pandas.core.frame.DataFrame'>\n",
      "   a  c  d\n",
      "A  2  2  2\n",
      "B  2  2  2\n",
      "-------------------------\n",
      "<class 'pandas.core.frame.DataFrame'>\n",
      "     a   b    c    d\n",
      "A  NaN NaN  NaN  NaN\n",
      "B  3.0 NaN  3.0  3.0\n",
      "C  NaN NaN  NaN  NaN\n",
      "-------------------------\n",
      "<class 'pandas.core.frame.DataFrame'>\n",
      "     a    b    c    d\n",
      "A  2.0  NaN  2.0  2.0\n",
      "B  3.0  1.0  3.0  3.0\n",
      "C  1.0  1.0  1.0  1.0\n",
      "-------------------------\n"
     ]
    }
   ],
   "source": [
    "df1 = pd.DataFrame(np.full((2,4), 1), \n",
    "                   index=list(\"CB\"),\n",
    "                   columns=list(\"abcd\"))\n",
    "df2 = pd.DataFrame(np.full((2,3), 2), \n",
    "                   index=list(\"AB\"),\n",
    "                   columns=list(\"acd\"))\n",
    "\n",
    "df3 = df1 + df2\n",
    "df4 = df1.add(df2, fill_value=0)\n",
    "\n",
    "printObj(df1, df2, df3, df4)"
   ]
  },
  {
   "cell_type": "markdown",
   "id": "e3641f80-aa36-4bdd-aa34-5cd9e16d2bff",
   "metadata": {},
   "source": [
    "![nn](./images/pandas-03.png)"
   ]
  },
  {
   "cell_type": "markdown",
   "id": "e608782e-f28f-44c2-9d92-4461dc878738",
   "metadata": {},
   "source": [
    "- DataFrame + Series 은 DataFrame의 column, Series 의 index 에 맞춰 연산된다\n",
    "- Series 가 DataFrame의 row 갯수에 맞춰 broadcasting 되어 사용된다\n",
    "- match 되는 index 가 없는 경우 결과는 NaN 임"
   ]
  },
  {
   "cell_type": "code",
   "execution_count": 89,
   "id": "7a5ec1fd-3e5e-463a-ae73-baae08ce910c",
   "metadata": {},
   "outputs": [],
   "source": [
    "df = pd.DataFrame(np.full((2,3), 2), \n",
    "                  index=list(\"AB\"),\n",
    "                  columns=list(\"abc\"))\n",
    "s1 = pd.Series(np.full(3,1),\n",
    "               index=list(\"abc\"))\n",
    "s2 = pd.Series(np.full(3,3),\n",
    "               index=list(\"abx\"))"
   ]
  },
  {
   "cell_type": "code",
   "execution_count": 95,
   "id": "7586b3f6-ce6a-4f90-9b72-d9cc5fe74137",
   "metadata": {},
   "outputs": [
    {
     "name": "stdout",
     "output_type": "stream",
     "text": [
      "<class 'pandas.core.frame.DataFrame'>\n",
      "   a  b  c\n",
      "A  2  2  2\n",
      "B  2  2  2\n",
      "-------------------------\n",
      "<class 'pandas.core.series.Series'>\n",
      "a    1\n",
      "b    1\n",
      "c    1\n",
      "dtype: int64\n",
      "-------------------------\n",
      "<class 'pandas.core.frame.DataFrame'>\n",
      "   a  b  c\n",
      "A  3  3  3\n",
      "B  3  3  3\n",
      "-------------------------\n"
     ]
    }
   ],
   "source": [
    "df2 = df + s1\n",
    "printObj(df, s1, df2)"
   ]
  },
  {
   "cell_type": "code",
   "execution_count": 96,
   "id": "b3ebdbe5-779d-4337-8aa9-114c2d2fe722",
   "metadata": {},
   "outputs": [
    {
     "name": "stdout",
     "output_type": "stream",
     "text": [
      "<class 'pandas.core.frame.DataFrame'>\n",
      "   a  b  c\n",
      "A  2  2  2\n",
      "B  2  2  2\n",
      "-------------------------\n",
      "<class 'pandas.core.series.Series'>\n",
      "a    3\n",
      "b    3\n",
      "x    3\n",
      "dtype: int64\n",
      "-------------------------\n",
      "<class 'pandas.core.frame.DataFrame'>\n",
      "     a    b   c   x\n",
      "A  5.0  5.0 NaN NaN\n",
      "B  5.0  5.0 NaN NaN\n",
      "-------------------------\n"
     ]
    }
   ],
   "source": [
    "df3 = df + s2\n",
    "printObj(df, s2, df3)"
   ]
  },
  {
   "cell_type": "markdown",
   "id": "9a4b9c3c-10d6-465b-a431-d175e27ae5c9",
   "metadata": {},
   "source": [
    "- DataFrame + Scalar 는 각 원소별로 스칼라와 연산된다\n",
    "- 스칼라가 broadcasting 되어 사용된다"
   ]
  },
  {
   "cell_type": "code",
   "execution_count": 97,
   "id": "13d734e4-9f12-4505-a204-9ddb3f9abf18",
   "metadata": {},
   "outputs": [
    {
     "name": "stdout",
     "output_type": "stream",
     "text": [
      "<class 'pandas.core.frame.DataFrame'>\n",
      "   a  b  c\n",
      "A  2  2  2\n",
      "B  2  2  2\n",
      "-------------------------\n",
      "<class 'pandas.core.frame.DataFrame'>\n",
      "   a  b  c\n",
      "A  4  4  4\n",
      "B  4  4  4\n",
      "-------------------------\n"
     ]
    }
   ],
   "source": [
    "df1 = df + 2\n",
    "printObj(df, df1)"
   ]
  },
  {
   "cell_type": "markdown",
   "id": "3bd1c1c5-4946-4c45-838f-50319e6e2679",
   "metadata": {
    "jp-MarkdownHeadingCollapsed": true,
    "tags": []
   },
   "source": [
    "# DataFrame, Series의 삽입, 삭제, 갱신"
   ]
  },
  {
   "cell_type": "markdown",
   "id": "6baf80a4-05c2-41ae-930b-d49767ce3c59",
   "metadata": {},
   "source": [
    "## Series 추가, 갱신, 삭제"
   ]
  },
  {
   "cell_type": "code",
   "execution_count": 98,
   "id": "e6b32818-e181-4ca7-9ed0-0239008a1807",
   "metadata": {},
   "outputs": [],
   "source": [
    "import pandas as pd"
   ]
  },
  {
   "cell_type": "code",
   "execution_count": 99,
   "id": "5b90ceb2-ad08-47ad-ba4c-e6a9bd47678d",
   "metadata": {},
   "outputs": [],
   "source": [
    "def printObj(*a):\n",
    "    for x in a:\n",
    "        print(type(x))\n",
    "        print(x)\n",
    "        print(\"-\" * 25)"
   ]
  },
  {
   "cell_type": "code",
   "execution_count": 107,
   "id": "22eef4c8-36f4-4607-a1c6-2cfd94b74c55",
   "metadata": {},
   "outputs": [],
   "source": [
    "ID = [1900101, 1900102, 1900103, 1900104]\n",
    "name = ['Kim','Yoon','Choi','Park']"
   ]
  },
  {
   "cell_type": "code",
   "execution_count": 110,
   "id": "6a4f84f6-da54-4fca-9564-c8f1fd73f34c",
   "metadata": {},
   "outputs": [
    {
     "data": {
      "text/plain": [
       "Kim     1900101\n",
       "Yoon    1900102\n",
       "Choi    1900103\n",
       "Park    1900104\n",
       "dtype: int64"
      ]
     },
     "execution_count": 110,
     "metadata": {},
     "output_type": "execute_result"
    }
   ],
   "source": [
    "s = pd.Series(ID, index=name)\n",
    "s"
   ]
  },
  {
   "cell_type": "code",
   "execution_count": 111,
   "id": "5c23c6b0-9050-49fa-bed1-bf5b3475d35e",
   "metadata": {},
   "outputs": [
    {
     "name": "stdout",
     "output_type": "stream",
     "text": [
      "<class 'pandas.core.series.Series'>\n",
      "Yoon    1900100\n",
      "Choi    1900103\n",
      "Park    1900104\n",
      "Lee     1900200\n",
      "dtype: int64\n",
      "-------------------------\n",
      "<class 'numpy.int64'>\n",
      "1900104\n",
      "-------------------------\n",
      "<class 'numpy.int64'>\n",
      "1900103\n",
      "-------------------------\n"
     ]
    }
   ],
   "source": [
    "s['Yoon'] = 1900100\n",
    "s['Lee'] = 1900200\n",
    "\n",
    "del s['Kim']\n",
    "#del s.Kim\n",
    "\n",
    "printObj(s, s['Park'], s.Choi)"
   ]
  },
  {
   "cell_type": "markdown",
   "id": "34477484-16da-464b-b75a-17582d8c9685",
   "metadata": {},
   "source": [
    "## DataFrame 추가, 갱신, 삭제"
   ]
  },
  {
   "cell_type": "markdown",
   "id": "42f8c618-963d-4e44-9d4f-9621c7c98286",
   "metadata": {},
   "source": [
    "- 추가, 갱신: 항의 갯수가 같아야 함\n",
    "    + column 단위로 추가, 갱신 작업\n",
    "- df['column_label'] = 1D array\n",
    "    + column_label 에 해당하는 column 갱신 또는 추가\n",
    "    + read/write 용으로 모두 사용\n",
    "- df.column_label = 1D array\n",
    "    + read 용으로 사용"
   ]
  },
  {
   "cell_type": "code",
   "execution_count": 112,
   "id": "ca83eab4-6153-4e5c-9337-8c083910d975",
   "metadata": {},
   "outputs": [],
   "source": [
    "ID = [1900101, 1900102, 1900103, 1900104]\n",
    "name = ['Kim','Yoon','Choi','Park']\n",
    "data = {'name': name, \n",
    "        'english': [80,90,100,95],\n",
    "        'korean': [95,100,80,60]}"
   ]
  },
  {
   "cell_type": "code",
   "execution_count": 114,
   "id": "195313c8-09fe-4ab4-88ca-bdb5b228462d",
   "metadata": {},
   "outputs": [
    {
     "data": {
      "text/html": [
       "<div>\n",
       "<style scoped>\n",
       "    .dataframe tbody tr th:only-of-type {\n",
       "        vertical-align: middle;\n",
       "    }\n",
       "\n",
       "    .dataframe tbody tr th {\n",
       "        vertical-align: top;\n",
       "    }\n",
       "\n",
       "    .dataframe thead th {\n",
       "        text-align: right;\n",
       "    }\n",
       "</style>\n",
       "<table border=\"1\" class=\"dataframe\">\n",
       "  <thead>\n",
       "    <tr style=\"text-align: right;\">\n",
       "      <th></th>\n",
       "      <th>name</th>\n",
       "      <th>english</th>\n",
       "      <th>korean</th>\n",
       "    </tr>\n",
       "    <tr>\n",
       "      <th>ID</th>\n",
       "      <th></th>\n",
       "      <th></th>\n",
       "      <th></th>\n",
       "    </tr>\n",
       "  </thead>\n",
       "  <tbody>\n",
       "    <tr>\n",
       "      <th>1900101</th>\n",
       "      <td>Kim</td>\n",
       "      <td>80</td>\n",
       "      <td>95</td>\n",
       "    </tr>\n",
       "    <tr>\n",
       "      <th>1900102</th>\n",
       "      <td>Yoon</td>\n",
       "      <td>90</td>\n",
       "      <td>100</td>\n",
       "    </tr>\n",
       "    <tr>\n",
       "      <th>1900103</th>\n",
       "      <td>Choi</td>\n",
       "      <td>100</td>\n",
       "      <td>80</td>\n",
       "    </tr>\n",
       "    <tr>\n",
       "      <th>1900104</th>\n",
       "      <td>Park</td>\n",
       "      <td>95</td>\n",
       "      <td>60</td>\n",
       "    </tr>\n",
       "  </tbody>\n",
       "</table>\n",
       "</div>"
      ],
      "text/plain": [
       "         name  english  korean\n",
       "ID                            \n",
       "1900101   Kim       80      95\n",
       "1900102  Yoon       90     100\n",
       "1900103  Choi      100      80\n",
       "1900104  Park       95      60"
      ]
     },
     "execution_count": 114,
     "metadata": {},
     "output_type": "execute_result"
    }
   ],
   "source": [
    "df = pd.DataFrame(data, index=ID)\n",
    "df.index.name = 'ID'\n",
    "df"
   ]
  },
  {
   "cell_type": "code",
   "execution_count": 116,
   "id": "69283b3f-9f4a-4292-a715-8f0278c0ec47",
   "metadata": {},
   "outputs": [
    {
     "name": "stdout",
     "output_type": "stream",
     "text": [
      "<class 'bool'>\n",
      "True\n",
      "-------------------------\n",
      "<class 'pandas.core.frame.DataFrame'>\n",
      "         name  english  korean  chinese\n",
      "ID                                     \n",
      "1900101   Kim       80     100      100\n",
      "1900102  Yoon       90     100       80\n",
      "1900103  Choi      100     100       70\n",
      "1900104  Park       95     100       85\n",
      "-------------------------\n"
     ]
    }
   ],
   "source": [
    "eng1 = df['english']\n",
    "eng2 = df.english\n",
    "\n",
    "df['korean'] = [100] * 4\n",
    "#df.chinese = [200] * 4\n",
    "df['chinese'] = [100, 80, 70, 85]\n",
    "\n",
    "printObj(eng1 is eng2, df)"
   ]
  },
  {
   "cell_type": "code",
   "execution_count": 117,
   "id": "b7df0fe5-5430-4240-b08f-0fb46f034c9f",
   "metadata": {},
   "outputs": [
    {
     "name": "stdout",
     "output_type": "stream",
     "text": [
      "<class 'pandas.core.frame.DataFrame'>\n",
      "         name  english  korean\n",
      "ID                            \n",
      "1900101   Kim       80     100\n",
      "1900102  Yoon       90     100\n",
      "1900103  Choi      100     100\n",
      "1900104  Park       95     100\n",
      "-------------------------\n"
     ]
    }
   ],
   "source": [
    "del df['chinese']\n",
    "\n",
    "printObj(df)"
   ]
  },
  {
   "cell_type": "code",
   "execution_count": 126,
   "id": "405f81d4-a4f8-4dc4-b8dc-e805ef59d720",
   "metadata": {},
   "outputs": [
    {
     "name": "stdout",
     "output_type": "stream",
     "text": [
      "13\n"
     ]
    },
    {
     "data": {
      "text/plain": [
       "A       1\n",
       "B       2\n",
       "sum    10\n",
       "dtype: int64"
      ]
     },
     "metadata": {},
     "output_type": "display_data"
    }
   ],
   "source": [
    "s = pd.Series([1,2,3], index=['A','B','sum'])\n",
    "# s.sum = 10\n",
    "s['sum'] = 10\n",
    "print(s.sum())\n",
    "display(s)"
   ]
  },
  {
   "cell_type": "markdown",
   "id": "a6bb3960-84e6-4e57-98a2-065d4863e491",
   "metadata": {
    "tags": []
   },
   "source": [
    "# Index 조작"
   ]
  },
  {
   "cell_type": "markdown",
   "id": "c18f13f7-ad21-41b2-ab00-ddbec209b266",
   "metadata": {
    "jp-MarkdownHeadingCollapsed": true,
    "tags": []
   },
   "source": [
    "## set_index"
   ]
  },
  {
   "cell_type": "markdown",
   "id": "e87622ad-d98b-4fc8-b7ea-777c8a958c56",
   "metadata": {},
   "source": [
    "- `df.set_index(keys, drop=True, append=False, inplace=False)`\n",
    "- 선택된 columns 의 일부로 새로 구성한 index 를 갖는 DataFrame 반환\n",
    "- keys : 새로운 index 생성에 사용할 column/column 목록 (columns labels 로 작성)\n",
    "- drop : keys 를 columns 로 부터 제거 여부 (default True -> 제거함)\n",
    "- append : 기존 index 를 유지하면서 keys 를 추가 여부 (default False -> 유지하지 않음)"
   ]
  },
  {
   "cell_type": "code",
   "execution_count": 128,
   "id": "13bb9548-c40d-4dad-ae6d-431059909053",
   "metadata": {},
   "outputs": [
    {
     "data": {
      "text/html": [
       "<div>\n",
       "<style scoped>\n",
       "    .dataframe tbody tr th:only-of-type {\n",
       "        vertical-align: middle;\n",
       "    }\n",
       "\n",
       "    .dataframe tbody tr th {\n",
       "        vertical-align: top;\n",
       "    }\n",
       "\n",
       "    .dataframe thead th {\n",
       "        text-align: right;\n",
       "    }\n",
       "</style>\n",
       "<table border=\"1\" class=\"dataframe\">\n",
       "  <thead>\n",
       "    <tr style=\"text-align: right;\">\n",
       "      <th></th>\n",
       "      <th>dept</th>\n",
       "      <th>gender</th>\n",
       "      <th>age</th>\n",
       "      <th>salary</th>\n",
       "    </tr>\n",
       "    <tr>\n",
       "      <th>pname</th>\n",
       "      <th></th>\n",
       "      <th></th>\n",
       "      <th></th>\n",
       "      <th></th>\n",
       "    </tr>\n",
       "  </thead>\n",
       "  <tbody>\n",
       "    <tr>\n",
       "      <th>James Kim</th>\n",
       "      <td>Education</td>\n",
       "      <td>Female</td>\n",
       "      <td>36</td>\n",
       "      <td>4700</td>\n",
       "    </tr>\n",
       "    <tr>\n",
       "      <th>Rose Hwang</th>\n",
       "      <td>Marketing</td>\n",
       "      <td>Male</td>\n",
       "      <td>35</td>\n",
       "      <td>4320</td>\n",
       "    </tr>\n",
       "    <tr>\n",
       "      <th>Sam Park</th>\n",
       "      <td>Education</td>\n",
       "      <td>Female</td>\n",
       "      <td>29</td>\n",
       "      <td>5600</td>\n",
       "    </tr>\n",
       "    <tr>\n",
       "      <th>Chris Jang</th>\n",
       "      <td>Education</td>\n",
       "      <td>Female</td>\n",
       "      <td>33</td>\n",
       "      <td>4500</td>\n",
       "    </tr>\n",
       "    <tr>\n",
       "      <th>Grace Lee</th>\n",
       "      <td>Marketing</td>\n",
       "      <td>Male</td>\n",
       "      <td>30</td>\n",
       "      <td>3150</td>\n",
       "    </tr>\n",
       "  </tbody>\n",
       "</table>\n",
       "</div>"
      ],
      "text/plain": [
       "                 dept  gender  age  salary\n",
       "pname                                     \n",
       "James Kim   Education  Female   36    4700\n",
       "Rose Hwang  Marketing    Male   35    4320\n",
       "Sam Park    Education  Female   29    5600\n",
       "Chris Jang  Education  Female   33    4500\n",
       "Grace Lee   Marketing    Male   30    3150"
      ]
     },
     "execution_count": 128,
     "metadata": {},
     "output_type": "execute_result"
    }
   ],
   "source": [
    "df = pd.read_csv('./data/easySampleIndex.csv', index_col='pname')\n",
    "df.head()"
   ]
  },
  {
   "cell_type": "code",
   "execution_count": 131,
   "id": "92c9eb60-4021-4471-9313-f23d42ed2df7",
   "metadata": {},
   "outputs": [
    {
     "data": {
      "text/html": [
       "<div>\n",
       "<style scoped>\n",
       "    .dataframe tbody tr th:only-of-type {\n",
       "        vertical-align: middle;\n",
       "    }\n",
       "\n",
       "    .dataframe tbody tr th {\n",
       "        vertical-align: top;\n",
       "    }\n",
       "\n",
       "    .dataframe thead th {\n",
       "        text-align: right;\n",
       "    }\n",
       "</style>\n",
       "<table border=\"1\" class=\"dataframe\">\n",
       "  <thead>\n",
       "    <tr style=\"text-align: right;\">\n",
       "      <th></th>\n",
       "      <th>dept</th>\n",
       "      <th>gender</th>\n",
       "      <th>salary</th>\n",
       "    </tr>\n",
       "    <tr>\n",
       "      <th>age</th>\n",
       "      <th></th>\n",
       "      <th></th>\n",
       "      <th></th>\n",
       "    </tr>\n",
       "  </thead>\n",
       "  <tbody>\n",
       "    <tr>\n",
       "      <th>36</th>\n",
       "      <td>Education</td>\n",
       "      <td>Female</td>\n",
       "      <td>4700</td>\n",
       "    </tr>\n",
       "    <tr>\n",
       "      <th>35</th>\n",
       "      <td>Marketing</td>\n",
       "      <td>Male</td>\n",
       "      <td>4320</td>\n",
       "    </tr>\n",
       "    <tr>\n",
       "      <th>29</th>\n",
       "      <td>Education</td>\n",
       "      <td>Female</td>\n",
       "      <td>5600</td>\n",
       "    </tr>\n",
       "    <tr>\n",
       "      <th>33</th>\n",
       "      <td>Education</td>\n",
       "      <td>Female</td>\n",
       "      <td>4500</td>\n",
       "    </tr>\n",
       "    <tr>\n",
       "      <th>30</th>\n",
       "      <td>Marketing</td>\n",
       "      <td>Male</td>\n",
       "      <td>3150</td>\n",
       "    </tr>\n",
       "  </tbody>\n",
       "</table>\n",
       "</div>"
      ],
      "text/plain": [
       "          dept  gender  salary\n",
       "age                           \n",
       "36   Education  Female    4700\n",
       "35   Marketing    Male    4320\n",
       "29   Education  Female    5600\n",
       "33   Education  Female    4500\n",
       "30   Marketing    Male    3150"
      ]
     },
     "execution_count": 131,
     "metadata": {},
     "output_type": "execute_result"
    }
   ],
   "source": [
    "df1 = df.set_index('age')\n",
    "df1.head()"
   ]
  },
  {
   "cell_type": "code",
   "execution_count": 132,
   "id": "78483d19-9dbb-48d1-b2ba-b54e8791be5f",
   "metadata": {},
   "outputs": [
    {
     "data": {
      "text/html": [
       "<div>\n",
       "<style scoped>\n",
       "    .dataframe tbody tr th:only-of-type {\n",
       "        vertical-align: middle;\n",
       "    }\n",
       "\n",
       "    .dataframe tbody tr th {\n",
       "        vertical-align: top;\n",
       "    }\n",
       "\n",
       "    .dataframe thead th {\n",
       "        text-align: right;\n",
       "    }\n",
       "</style>\n",
       "<table border=\"1\" class=\"dataframe\">\n",
       "  <thead>\n",
       "    <tr style=\"text-align: right;\">\n",
       "      <th></th>\n",
       "      <th>dept</th>\n",
       "      <th>gender</th>\n",
       "      <th>age</th>\n",
       "      <th>salary</th>\n",
       "    </tr>\n",
       "    <tr>\n",
       "      <th>age</th>\n",
       "      <th></th>\n",
       "      <th></th>\n",
       "      <th></th>\n",
       "      <th></th>\n",
       "    </tr>\n",
       "  </thead>\n",
       "  <tbody>\n",
       "    <tr>\n",
       "      <th>36</th>\n",
       "      <td>Education</td>\n",
       "      <td>Female</td>\n",
       "      <td>36</td>\n",
       "      <td>4700</td>\n",
       "    </tr>\n",
       "    <tr>\n",
       "      <th>35</th>\n",
       "      <td>Marketing</td>\n",
       "      <td>Male</td>\n",
       "      <td>35</td>\n",
       "      <td>4320</td>\n",
       "    </tr>\n",
       "    <tr>\n",
       "      <th>29</th>\n",
       "      <td>Education</td>\n",
       "      <td>Female</td>\n",
       "      <td>29</td>\n",
       "      <td>5600</td>\n",
       "    </tr>\n",
       "    <tr>\n",
       "      <th>33</th>\n",
       "      <td>Education</td>\n",
       "      <td>Female</td>\n",
       "      <td>33</td>\n",
       "      <td>4500</td>\n",
       "    </tr>\n",
       "    <tr>\n",
       "      <th>30</th>\n",
       "      <td>Marketing</td>\n",
       "      <td>Male</td>\n",
       "      <td>30</td>\n",
       "      <td>3150</td>\n",
       "    </tr>\n",
       "  </tbody>\n",
       "</table>\n",
       "</div>"
      ],
      "text/plain": [
       "          dept  gender  age  salary\n",
       "age                                \n",
       "36   Education  Female   36    4700\n",
       "35   Marketing    Male   35    4320\n",
       "29   Education  Female   29    5600\n",
       "33   Education  Female   33    4500\n",
       "30   Marketing    Male   30    3150"
      ]
     },
     "execution_count": 132,
     "metadata": {},
     "output_type": "execute_result"
    }
   ],
   "source": [
    "df2 = df.set_index('age', drop=False)\n",
    "df2.head()"
   ]
  },
  {
   "cell_type": "code",
   "execution_count": 133,
   "id": "1c7df89b-a2e7-4d0c-86cc-f9ee2f4cf35e",
   "metadata": {},
   "outputs": [
    {
     "data": {
      "text/html": [
       "<div>\n",
       "<style scoped>\n",
       "    .dataframe tbody tr th:only-of-type {\n",
       "        vertical-align: middle;\n",
       "    }\n",
       "\n",
       "    .dataframe tbody tr th {\n",
       "        vertical-align: top;\n",
       "    }\n",
       "\n",
       "    .dataframe thead th {\n",
       "        text-align: right;\n",
       "    }\n",
       "</style>\n",
       "<table border=\"1\" class=\"dataframe\">\n",
       "  <thead>\n",
       "    <tr style=\"text-align: right;\">\n",
       "      <th></th>\n",
       "      <th></th>\n",
       "      <th>dept</th>\n",
       "      <th>gender</th>\n",
       "      <th>salary</th>\n",
       "    </tr>\n",
       "    <tr>\n",
       "      <th>pname</th>\n",
       "      <th>age</th>\n",
       "      <th></th>\n",
       "      <th></th>\n",
       "      <th></th>\n",
       "    </tr>\n",
       "  </thead>\n",
       "  <tbody>\n",
       "    <tr>\n",
       "      <th>James Kim</th>\n",
       "      <th>36</th>\n",
       "      <td>Education</td>\n",
       "      <td>Female</td>\n",
       "      <td>4700</td>\n",
       "    </tr>\n",
       "    <tr>\n",
       "      <th>Rose Hwang</th>\n",
       "      <th>35</th>\n",
       "      <td>Marketing</td>\n",
       "      <td>Male</td>\n",
       "      <td>4320</td>\n",
       "    </tr>\n",
       "    <tr>\n",
       "      <th>Sam Park</th>\n",
       "      <th>29</th>\n",
       "      <td>Education</td>\n",
       "      <td>Female</td>\n",
       "      <td>5600</td>\n",
       "    </tr>\n",
       "    <tr>\n",
       "      <th>Chris Jang</th>\n",
       "      <th>33</th>\n",
       "      <td>Education</td>\n",
       "      <td>Female</td>\n",
       "      <td>4500</td>\n",
       "    </tr>\n",
       "    <tr>\n",
       "      <th>Grace Lee</th>\n",
       "      <th>30</th>\n",
       "      <td>Marketing</td>\n",
       "      <td>Male</td>\n",
       "      <td>3150</td>\n",
       "    </tr>\n",
       "  </tbody>\n",
       "</table>\n",
       "</div>"
      ],
      "text/plain": [
       "                     dept  gender  salary\n",
       "pname      age                           \n",
       "James Kim  36   Education  Female    4700\n",
       "Rose Hwang 35   Marketing    Male    4320\n",
       "Sam Park   29   Education  Female    5600\n",
       "Chris Jang 33   Education  Female    4500\n",
       "Grace Lee  30   Marketing    Male    3150"
      ]
     },
     "execution_count": 133,
     "metadata": {},
     "output_type": "execute_result"
    }
   ],
   "source": [
    "df3 = df.set_index('age', append=True)\n",
    "df3.head()"
   ]
  },
  {
   "cell_type": "code",
   "execution_count": 138,
   "id": "dc81b37b-d61f-47fe-abdd-97bfe63747fe",
   "metadata": {},
   "outputs": [
    {
     "data": {
      "text/html": [
       "<div>\n",
       "<style scoped>\n",
       "    .dataframe tbody tr th:only-of-type {\n",
       "        vertical-align: middle;\n",
       "    }\n",
       "\n",
       "    .dataframe tbody tr th {\n",
       "        vertical-align: top;\n",
       "    }\n",
       "\n",
       "    .dataframe thead th {\n",
       "        text-align: right;\n",
       "    }\n",
       "</style>\n",
       "<table border=\"1\" class=\"dataframe\">\n",
       "  <thead>\n",
       "    <tr style=\"text-align: right;\">\n",
       "      <th></th>\n",
       "      <th></th>\n",
       "      <th>age</th>\n",
       "      <th>salary</th>\n",
       "    </tr>\n",
       "    <tr>\n",
       "      <th>dept</th>\n",
       "      <th>gender</th>\n",
       "      <th></th>\n",
       "      <th></th>\n",
       "    </tr>\n",
       "  </thead>\n",
       "  <tbody>\n",
       "    <tr>\n",
       "      <th>Education</th>\n",
       "      <th>Female</th>\n",
       "      <td>36</td>\n",
       "      <td>4700</td>\n",
       "    </tr>\n",
       "    <tr>\n",
       "      <th>Marketing</th>\n",
       "      <th>Male</th>\n",
       "      <td>35</td>\n",
       "      <td>4320</td>\n",
       "    </tr>\n",
       "    <tr>\n",
       "      <th rowspan=\"2\" valign=\"top\">Education</th>\n",
       "      <th>Female</th>\n",
       "      <td>29</td>\n",
       "      <td>5600</td>\n",
       "    </tr>\n",
       "    <tr>\n",
       "      <th>Female</th>\n",
       "      <td>33</td>\n",
       "      <td>4500</td>\n",
       "    </tr>\n",
       "    <tr>\n",
       "      <th>Marketing</th>\n",
       "      <th>Male</th>\n",
       "      <td>30</td>\n",
       "      <td>3150</td>\n",
       "    </tr>\n",
       "  </tbody>\n",
       "</table>\n",
       "</div>"
      ],
      "text/plain": [
       "                  age  salary\n",
       "dept      gender             \n",
       "Education Female   36    4700\n",
       "Marketing Male     35    4320\n",
       "Education Female   29    5600\n",
       "          Female   33    4500\n",
       "Marketing Male     30    3150"
      ]
     },
     "execution_count": 138,
     "metadata": {},
     "output_type": "execute_result"
    }
   ],
   "source": [
    "df4 = df.set_index(['dept', 'gender'])\n",
    "df4.head()"
   ]
  },
  {
   "cell_type": "code",
   "execution_count": 139,
   "id": "97b8aa81-40a8-40f1-9c2c-b8aec3940b27",
   "metadata": {},
   "outputs": [
    {
     "data": {
      "text/html": [
       "<div>\n",
       "<style scoped>\n",
       "    .dataframe tbody tr th:only-of-type {\n",
       "        vertical-align: middle;\n",
       "    }\n",
       "\n",
       "    .dataframe tbody tr th {\n",
       "        vertical-align: top;\n",
       "    }\n",
       "\n",
       "    .dataframe thead th {\n",
       "        text-align: right;\n",
       "    }\n",
       "</style>\n",
       "<table border=\"1\" class=\"dataframe\">\n",
       "  <thead>\n",
       "    <tr style=\"text-align: right;\">\n",
       "      <th></th>\n",
       "      <th></th>\n",
       "      <th></th>\n",
       "      <th>age</th>\n",
       "      <th>salary</th>\n",
       "    </tr>\n",
       "    <tr>\n",
       "      <th>pname</th>\n",
       "      <th>dept</th>\n",
       "      <th>gender</th>\n",
       "      <th></th>\n",
       "      <th></th>\n",
       "    </tr>\n",
       "  </thead>\n",
       "  <tbody>\n",
       "    <tr>\n",
       "      <th>James Kim</th>\n",
       "      <th>Education</th>\n",
       "      <th>Female</th>\n",
       "      <td>36</td>\n",
       "      <td>4700</td>\n",
       "    </tr>\n",
       "    <tr>\n",
       "      <th>Rose Hwang</th>\n",
       "      <th>Marketing</th>\n",
       "      <th>Male</th>\n",
       "      <td>35</td>\n",
       "      <td>4320</td>\n",
       "    </tr>\n",
       "    <tr>\n",
       "      <th>Sam Park</th>\n",
       "      <th>Education</th>\n",
       "      <th>Female</th>\n",
       "      <td>29</td>\n",
       "      <td>5600</td>\n",
       "    </tr>\n",
       "    <tr>\n",
       "      <th>Chris Jang</th>\n",
       "      <th>Education</th>\n",
       "      <th>Female</th>\n",
       "      <td>33</td>\n",
       "      <td>4500</td>\n",
       "    </tr>\n",
       "    <tr>\n",
       "      <th>Grace Lee</th>\n",
       "      <th>Marketing</th>\n",
       "      <th>Male</th>\n",
       "      <td>30</td>\n",
       "      <td>3150</td>\n",
       "    </tr>\n",
       "  </tbody>\n",
       "</table>\n",
       "</div>"
      ],
      "text/plain": [
       "                             age  salary\n",
       "pname      dept      gender             \n",
       "James Kim  Education Female   36    4700\n",
       "Rose Hwang Marketing Male     35    4320\n",
       "Sam Park   Education Female   29    5600\n",
       "Chris Jang Education Female   33    4500\n",
       "Grace Lee  Marketing Male     30    3150"
      ]
     },
     "execution_count": 139,
     "metadata": {},
     "output_type": "execute_result"
    }
   ],
   "source": [
    "df5 = df.set_index(['dept', 'gender'], append=True)\n",
    "df5.head()"
   ]
  },
  {
   "cell_type": "markdown",
   "id": "e2ff89a8-eb66-4c95-ad6e-ef966717f402",
   "metadata": {
    "jp-MarkdownHeadingCollapsed": true,
    "tags": []
   },
   "source": [
    "## reset_index"
   ]
  },
  {
   "cell_type": "markdown",
   "id": "c0c46696-8c4d-4e1e-9038-3b3ae79ba238",
   "metadata": {},
   "source": [
    "- `df.reset_index(level=None, drop=False, ...)`\n",
    "- 현 index를 columns 에 포함하여 새로 구성한 index를 갖는 DataFrame 반환\n",
    "- level : int, str, tuple or list 로 작성 (None 이면 모든 index 를 대상으로 함)\n",
    "    + 현 index 중 columns 로 포함할 대상을 번호 또는 name 으로 지정함\n",
    "    + 모든 index 가 columns 로 포함되면 RangeIndex 가 새로운 index 로 생성됨\n",
    "- drop : 현 index 를 columns 로 포함하지 않을 지의 여부 (drop=True : 포함 안 함)"
   ]
  },
  {
   "cell_type": "code",
   "execution_count": 140,
   "id": "d0468880-cc27-41ec-bce4-b95339af01e5",
   "metadata": {},
   "outputs": [
    {
     "data": {
      "text/html": [
       "<div>\n",
       "<style scoped>\n",
       "    .dataframe tbody tr th:only-of-type {\n",
       "        vertical-align: middle;\n",
       "    }\n",
       "\n",
       "    .dataframe tbody tr th {\n",
       "        vertical-align: top;\n",
       "    }\n",
       "\n",
       "    .dataframe thead th {\n",
       "        text-align: right;\n",
       "    }\n",
       "</style>\n",
       "<table border=\"1\" class=\"dataframe\">\n",
       "  <thead>\n",
       "    <tr style=\"text-align: right;\">\n",
       "      <th></th>\n",
       "      <th>dept</th>\n",
       "      <th>gender</th>\n",
       "      <th>age</th>\n",
       "      <th>salary</th>\n",
       "    </tr>\n",
       "    <tr>\n",
       "      <th>pname</th>\n",
       "      <th></th>\n",
       "      <th></th>\n",
       "      <th></th>\n",
       "      <th></th>\n",
       "    </tr>\n",
       "  </thead>\n",
       "  <tbody>\n",
       "    <tr>\n",
       "      <th>James Kim</th>\n",
       "      <td>Education</td>\n",
       "      <td>Female</td>\n",
       "      <td>36</td>\n",
       "      <td>4700</td>\n",
       "    </tr>\n",
       "    <tr>\n",
       "      <th>Rose Hwang</th>\n",
       "      <td>Marketing</td>\n",
       "      <td>Male</td>\n",
       "      <td>35</td>\n",
       "      <td>4320</td>\n",
       "    </tr>\n",
       "    <tr>\n",
       "      <th>Sam Park</th>\n",
       "      <td>Education</td>\n",
       "      <td>Female</td>\n",
       "      <td>29</td>\n",
       "      <td>5600</td>\n",
       "    </tr>\n",
       "    <tr>\n",
       "      <th>Chris Jang</th>\n",
       "      <td>Education</td>\n",
       "      <td>Female</td>\n",
       "      <td>33</td>\n",
       "      <td>4500</td>\n",
       "    </tr>\n",
       "    <tr>\n",
       "      <th>Grace Lee</th>\n",
       "      <td>Marketing</td>\n",
       "      <td>Male</td>\n",
       "      <td>30</td>\n",
       "      <td>3150</td>\n",
       "    </tr>\n",
       "  </tbody>\n",
       "</table>\n",
       "</div>"
      ],
      "text/plain": [
       "                 dept  gender  age  salary\n",
       "pname                                     \n",
       "James Kim   Education  Female   36    4700\n",
       "Rose Hwang  Marketing    Male   35    4320\n",
       "Sam Park    Education  Female   29    5600\n",
       "Chris Jang  Education  Female   33    4500\n",
       "Grace Lee   Marketing    Male   30    3150"
      ]
     },
     "execution_count": 140,
     "metadata": {},
     "output_type": "execute_result"
    }
   ],
   "source": [
    "df = pd.read_csv('./data/easySampleIndex.csv', index_col='pname')\n",
    "df.head()"
   ]
  },
  {
   "cell_type": "code",
   "execution_count": 143,
   "id": "1f428ad1-403f-424b-9977-46f287978fb8",
   "metadata": {},
   "outputs": [
    {
     "data": {
      "text/html": [
       "<div>\n",
       "<style scoped>\n",
       "    .dataframe tbody tr th:only-of-type {\n",
       "        vertical-align: middle;\n",
       "    }\n",
       "\n",
       "    .dataframe tbody tr th {\n",
       "        vertical-align: top;\n",
       "    }\n",
       "\n",
       "    .dataframe thead th {\n",
       "        text-align: right;\n",
       "    }\n",
       "</style>\n",
       "<table border=\"1\" class=\"dataframe\">\n",
       "  <thead>\n",
       "    <tr style=\"text-align: right;\">\n",
       "      <th></th>\n",
       "      <th>pname</th>\n",
       "      <th>dept</th>\n",
       "      <th>gender</th>\n",
       "      <th>age</th>\n",
       "      <th>salary</th>\n",
       "    </tr>\n",
       "  </thead>\n",
       "  <tbody>\n",
       "    <tr>\n",
       "      <th>0</th>\n",
       "      <td>James Kim</td>\n",
       "      <td>Education</td>\n",
       "      <td>Female</td>\n",
       "      <td>36</td>\n",
       "      <td>4700</td>\n",
       "    </tr>\n",
       "    <tr>\n",
       "      <th>1</th>\n",
       "      <td>Rose Hwang</td>\n",
       "      <td>Marketing</td>\n",
       "      <td>Male</td>\n",
       "      <td>35</td>\n",
       "      <td>4320</td>\n",
       "    </tr>\n",
       "    <tr>\n",
       "      <th>2</th>\n",
       "      <td>Sam Park</td>\n",
       "      <td>Education</td>\n",
       "      <td>Female</td>\n",
       "      <td>29</td>\n",
       "      <td>5600</td>\n",
       "    </tr>\n",
       "    <tr>\n",
       "      <th>3</th>\n",
       "      <td>Chris Jang</td>\n",
       "      <td>Education</td>\n",
       "      <td>Female</td>\n",
       "      <td>33</td>\n",
       "      <td>4500</td>\n",
       "    </tr>\n",
       "    <tr>\n",
       "      <th>4</th>\n",
       "      <td>Grace Lee</td>\n",
       "      <td>Marketing</td>\n",
       "      <td>Male</td>\n",
       "      <td>30</td>\n",
       "      <td>3150</td>\n",
       "    </tr>\n",
       "  </tbody>\n",
       "</table>\n",
       "</div>"
      ],
      "text/plain": [
       "        pname       dept  gender  age  salary\n",
       "0   James Kim  Education  Female   36    4700\n",
       "1  Rose Hwang  Marketing    Male   35    4320\n",
       "2    Sam Park  Education  Female   29    5600\n",
       "3  Chris Jang  Education  Female   33    4500\n",
       "4   Grace Lee  Marketing    Male   30    3150"
      ]
     },
     "metadata": {},
     "output_type": "display_data"
    },
    {
     "data": {
      "text/plain": [
       "RangeIndex(start=0, stop=10, step=1)"
      ]
     },
     "metadata": {},
     "output_type": "display_data"
    }
   ],
   "source": [
    "df1 = df.reset_index(0)\n",
    "display(df1.head())\n",
    "display(df1.index)"
   ]
  },
  {
   "cell_type": "code",
   "execution_count": 144,
   "id": "786e81d8-47a2-40dd-bbc5-725d0fb85f01",
   "metadata": {},
   "outputs": [
    {
     "data": {
      "text/html": [
       "<div>\n",
       "<style scoped>\n",
       "    .dataframe tbody tr th:only-of-type {\n",
       "        vertical-align: middle;\n",
       "    }\n",
       "\n",
       "    .dataframe tbody tr th {\n",
       "        vertical-align: top;\n",
       "    }\n",
       "\n",
       "    .dataframe thead th {\n",
       "        text-align: right;\n",
       "    }\n",
       "</style>\n",
       "<table border=\"1\" class=\"dataframe\">\n",
       "  <thead>\n",
       "    <tr style=\"text-align: right;\">\n",
       "      <th></th>\n",
       "      <th>pname</th>\n",
       "      <th>dept</th>\n",
       "      <th>gender</th>\n",
       "      <th>age</th>\n",
       "      <th>salary</th>\n",
       "    </tr>\n",
       "  </thead>\n",
       "  <tbody>\n",
       "    <tr>\n",
       "      <th>0</th>\n",
       "      <td>James Kim</td>\n",
       "      <td>Education</td>\n",
       "      <td>Female</td>\n",
       "      <td>36</td>\n",
       "      <td>4700</td>\n",
       "    </tr>\n",
       "    <tr>\n",
       "      <th>1</th>\n",
       "      <td>Rose Hwang</td>\n",
       "      <td>Marketing</td>\n",
       "      <td>Male</td>\n",
       "      <td>35</td>\n",
       "      <td>4320</td>\n",
       "    </tr>\n",
       "    <tr>\n",
       "      <th>2</th>\n",
       "      <td>Sam Park</td>\n",
       "      <td>Education</td>\n",
       "      <td>Female</td>\n",
       "      <td>29</td>\n",
       "      <td>5600</td>\n",
       "    </tr>\n",
       "    <tr>\n",
       "      <th>3</th>\n",
       "      <td>Chris Jang</td>\n",
       "      <td>Education</td>\n",
       "      <td>Female</td>\n",
       "      <td>33</td>\n",
       "      <td>4500</td>\n",
       "    </tr>\n",
       "    <tr>\n",
       "      <th>4</th>\n",
       "      <td>Grace Lee</td>\n",
       "      <td>Marketing</td>\n",
       "      <td>Male</td>\n",
       "      <td>30</td>\n",
       "      <td>3150</td>\n",
       "    </tr>\n",
       "  </tbody>\n",
       "</table>\n",
       "</div>"
      ],
      "text/plain": [
       "        pname       dept  gender  age  salary\n",
       "0   James Kim  Education  Female   36    4700\n",
       "1  Rose Hwang  Marketing    Male   35    4320\n",
       "2    Sam Park  Education  Female   29    5600\n",
       "3  Chris Jang  Education  Female   33    4500\n",
       "4   Grace Lee  Marketing    Male   30    3150"
      ]
     },
     "metadata": {},
     "output_type": "display_data"
    },
    {
     "data": {
      "text/plain": [
       "RangeIndex(start=0, stop=10, step=1)"
      ]
     },
     "metadata": {},
     "output_type": "display_data"
    }
   ],
   "source": [
    "df2 = df.reset_index('pname')\n",
    "display(df2.head())\n",
    "display(df2.index)"
   ]
  },
  {
   "cell_type": "code",
   "execution_count": 145,
   "id": "69b53581-9c2a-4bfd-ae2e-1d5db35e9341",
   "metadata": {},
   "outputs": [
    {
     "data": {
      "text/html": [
       "<div>\n",
       "<style scoped>\n",
       "    .dataframe tbody tr th:only-of-type {\n",
       "        vertical-align: middle;\n",
       "    }\n",
       "\n",
       "    .dataframe tbody tr th {\n",
       "        vertical-align: top;\n",
       "    }\n",
       "\n",
       "    .dataframe thead th {\n",
       "        text-align: right;\n",
       "    }\n",
       "</style>\n",
       "<table border=\"1\" class=\"dataframe\">\n",
       "  <thead>\n",
       "    <tr style=\"text-align: right;\">\n",
       "      <th></th>\n",
       "      <th>pname</th>\n",
       "      <th>dept</th>\n",
       "      <th>gender</th>\n",
       "      <th>age</th>\n",
       "      <th>salary</th>\n",
       "    </tr>\n",
       "  </thead>\n",
       "  <tbody>\n",
       "    <tr>\n",
       "      <th>0</th>\n",
       "      <td>James Kim</td>\n",
       "      <td>Education</td>\n",
       "      <td>Female</td>\n",
       "      <td>36</td>\n",
       "      <td>4700</td>\n",
       "    </tr>\n",
       "    <tr>\n",
       "      <th>1</th>\n",
       "      <td>Rose Hwang</td>\n",
       "      <td>Marketing</td>\n",
       "      <td>Male</td>\n",
       "      <td>35</td>\n",
       "      <td>4320</td>\n",
       "    </tr>\n",
       "    <tr>\n",
       "      <th>2</th>\n",
       "      <td>Sam Park</td>\n",
       "      <td>Education</td>\n",
       "      <td>Female</td>\n",
       "      <td>29</td>\n",
       "      <td>5600</td>\n",
       "    </tr>\n",
       "    <tr>\n",
       "      <th>3</th>\n",
       "      <td>Chris Jang</td>\n",
       "      <td>Education</td>\n",
       "      <td>Female</td>\n",
       "      <td>33</td>\n",
       "      <td>4500</td>\n",
       "    </tr>\n",
       "    <tr>\n",
       "      <th>4</th>\n",
       "      <td>Grace Lee</td>\n",
       "      <td>Marketing</td>\n",
       "      <td>Male</td>\n",
       "      <td>30</td>\n",
       "      <td>3150</td>\n",
       "    </tr>\n",
       "  </tbody>\n",
       "</table>\n",
       "</div>"
      ],
      "text/plain": [
       "        pname       dept  gender  age  salary\n",
       "0   James Kim  Education  Female   36    4700\n",
       "1  Rose Hwang  Marketing    Male   35    4320\n",
       "2    Sam Park  Education  Female   29    5600\n",
       "3  Chris Jang  Education  Female   33    4500\n",
       "4   Grace Lee  Marketing    Male   30    3150"
      ]
     },
     "metadata": {},
     "output_type": "display_data"
    },
    {
     "data": {
      "text/plain": [
       "RangeIndex(start=0, stop=10, step=1)"
      ]
     },
     "metadata": {},
     "output_type": "display_data"
    }
   ],
   "source": [
    "df3 = df.reset_index()\n",
    "display(df3.head())\n",
    "display(df3.index)"
   ]
  },
  {
   "cell_type": "code",
   "execution_count": 147,
   "id": "c659e8de-6350-4ce9-a7f0-f8eac20be954",
   "metadata": {},
   "outputs": [
    {
     "data": {
      "text/html": [
       "<div>\n",
       "<style scoped>\n",
       "    .dataframe tbody tr th:only-of-type {\n",
       "        vertical-align: middle;\n",
       "    }\n",
       "\n",
       "    .dataframe tbody tr th {\n",
       "        vertical-align: top;\n",
       "    }\n",
       "\n",
       "    .dataframe thead th {\n",
       "        text-align: right;\n",
       "    }\n",
       "</style>\n",
       "<table border=\"1\" class=\"dataframe\">\n",
       "  <thead>\n",
       "    <tr style=\"text-align: right;\">\n",
       "      <th></th>\n",
       "      <th></th>\n",
       "      <th></th>\n",
       "      <th>age</th>\n",
       "      <th>salary</th>\n",
       "    </tr>\n",
       "    <tr>\n",
       "      <th>pname</th>\n",
       "      <th>dept</th>\n",
       "      <th>gender</th>\n",
       "      <th></th>\n",
       "      <th></th>\n",
       "    </tr>\n",
       "  </thead>\n",
       "  <tbody>\n",
       "    <tr>\n",
       "      <th>James Kim</th>\n",
       "      <th>Education</th>\n",
       "      <th>Female</th>\n",
       "      <td>36</td>\n",
       "      <td>4700</td>\n",
       "    </tr>\n",
       "    <tr>\n",
       "      <th>Rose Hwang</th>\n",
       "      <th>Marketing</th>\n",
       "      <th>Male</th>\n",
       "      <td>35</td>\n",
       "      <td>4320</td>\n",
       "    </tr>\n",
       "    <tr>\n",
       "      <th>Sam Park</th>\n",
       "      <th>Education</th>\n",
       "      <th>Female</th>\n",
       "      <td>29</td>\n",
       "      <td>5600</td>\n",
       "    </tr>\n",
       "    <tr>\n",
       "      <th>Chris Jang</th>\n",
       "      <th>Education</th>\n",
       "      <th>Female</th>\n",
       "      <td>33</td>\n",
       "      <td>4500</td>\n",
       "    </tr>\n",
       "    <tr>\n",
       "      <th>Grace Lee</th>\n",
       "      <th>Marketing</th>\n",
       "      <th>Male</th>\n",
       "      <td>30</td>\n",
       "      <td>3150</td>\n",
       "    </tr>\n",
       "  </tbody>\n",
       "</table>\n",
       "</div>"
      ],
      "text/plain": [
       "                             age  salary\n",
       "pname      dept      gender             \n",
       "James Kim  Education Female   36    4700\n",
       "Rose Hwang Marketing Male     35    4320\n",
       "Sam Park   Education Female   29    5600\n",
       "Chris Jang Education Female   33    4500\n",
       "Grace Lee  Marketing Male     30    3150"
      ]
     },
     "execution_count": 147,
     "metadata": {},
     "output_type": "execute_result"
    }
   ],
   "source": [
    "df = df.set_index(['dept', 'gender'], append=True)\n",
    "df.head()"
   ]
  },
  {
   "cell_type": "code",
   "execution_count": 148,
   "id": "c7a94954-ae35-410b-8802-6fe8d403763f",
   "metadata": {},
   "outputs": [
    {
     "data": {
      "text/html": [
       "<div>\n",
       "<style scoped>\n",
       "    .dataframe tbody tr th:only-of-type {\n",
       "        vertical-align: middle;\n",
       "    }\n",
       "\n",
       "    .dataframe tbody tr th {\n",
       "        vertical-align: top;\n",
       "    }\n",
       "\n",
       "    .dataframe thead th {\n",
       "        text-align: right;\n",
       "    }\n",
       "</style>\n",
       "<table border=\"1\" class=\"dataframe\">\n",
       "  <thead>\n",
       "    <tr style=\"text-align: right;\">\n",
       "      <th></th>\n",
       "      <th>pname</th>\n",
       "      <th>dept</th>\n",
       "      <th>age</th>\n",
       "      <th>salary</th>\n",
       "    </tr>\n",
       "    <tr>\n",
       "      <th>gender</th>\n",
       "      <th></th>\n",
       "      <th></th>\n",
       "      <th></th>\n",
       "      <th></th>\n",
       "    </tr>\n",
       "  </thead>\n",
       "  <tbody>\n",
       "    <tr>\n",
       "      <th>Female</th>\n",
       "      <td>James Kim</td>\n",
       "      <td>Education</td>\n",
       "      <td>36</td>\n",
       "      <td>4700</td>\n",
       "    </tr>\n",
       "    <tr>\n",
       "      <th>Male</th>\n",
       "      <td>Rose Hwang</td>\n",
       "      <td>Marketing</td>\n",
       "      <td>35</td>\n",
       "      <td>4320</td>\n",
       "    </tr>\n",
       "    <tr>\n",
       "      <th>Female</th>\n",
       "      <td>Sam Park</td>\n",
       "      <td>Education</td>\n",
       "      <td>29</td>\n",
       "      <td>5600</td>\n",
       "    </tr>\n",
       "    <tr>\n",
       "      <th>Female</th>\n",
       "      <td>Chris Jang</td>\n",
       "      <td>Education</td>\n",
       "      <td>33</td>\n",
       "      <td>4500</td>\n",
       "    </tr>\n",
       "    <tr>\n",
       "      <th>Male</th>\n",
       "      <td>Grace Lee</td>\n",
       "      <td>Marketing</td>\n",
       "      <td>30</td>\n",
       "      <td>3150</td>\n",
       "    </tr>\n",
       "  </tbody>\n",
       "</table>\n",
       "</div>"
      ],
      "text/plain": [
       "             pname       dept  age  salary\n",
       "gender                                    \n",
       "Female   James Kim  Education   36    4700\n",
       "Male    Rose Hwang  Marketing   35    4320\n",
       "Female    Sam Park  Education   29    5600\n",
       "Female  Chris Jang  Education   33    4500\n",
       "Male     Grace Lee  Marketing   30    3150"
      ]
     },
     "execution_count": 148,
     "metadata": {},
     "output_type": "execute_result"
    }
   ],
   "source": [
    "df4 = df.reset_index(['pname', 'dept'])\n",
    "df4.head()"
   ]
  },
  {
   "cell_type": "code",
   "execution_count": 149,
   "id": "ce92a12b-4374-4507-abda-7786466dbbe2",
   "metadata": {},
   "outputs": [
    {
     "data": {
      "text/html": [
       "<div>\n",
       "<style scoped>\n",
       "    .dataframe tbody tr th:only-of-type {\n",
       "        vertical-align: middle;\n",
       "    }\n",
       "\n",
       "    .dataframe tbody tr th {\n",
       "        vertical-align: top;\n",
       "    }\n",
       "\n",
       "    .dataframe thead th {\n",
       "        text-align: right;\n",
       "    }\n",
       "</style>\n",
       "<table border=\"1\" class=\"dataframe\">\n",
       "  <thead>\n",
       "    <tr style=\"text-align: right;\">\n",
       "      <th></th>\n",
       "      <th>age</th>\n",
       "      <th>salary</th>\n",
       "    </tr>\n",
       "    <tr>\n",
       "      <th>pname</th>\n",
       "      <th></th>\n",
       "      <th></th>\n",
       "    </tr>\n",
       "  </thead>\n",
       "  <tbody>\n",
       "    <tr>\n",
       "      <th>James Kim</th>\n",
       "      <td>36</td>\n",
       "      <td>4700</td>\n",
       "    </tr>\n",
       "    <tr>\n",
       "      <th>Rose Hwang</th>\n",
       "      <td>35</td>\n",
       "      <td>4320</td>\n",
       "    </tr>\n",
       "    <tr>\n",
       "      <th>Sam Park</th>\n",
       "      <td>29</td>\n",
       "      <td>5600</td>\n",
       "    </tr>\n",
       "    <tr>\n",
       "      <th>Chris Jang</th>\n",
       "      <td>33</td>\n",
       "      <td>4500</td>\n",
       "    </tr>\n",
       "    <tr>\n",
       "      <th>Grace Lee</th>\n",
       "      <td>30</td>\n",
       "      <td>3150</td>\n",
       "    </tr>\n",
       "  </tbody>\n",
       "</table>\n",
       "</div>"
      ],
      "text/plain": [
       "            age  salary\n",
       "pname                  \n",
       "James Kim    36    4700\n",
       "Rose Hwang   35    4320\n",
       "Sam Park     29    5600\n",
       "Chris Jang   33    4500\n",
       "Grace Lee    30    3150"
      ]
     },
     "execution_count": 149,
     "metadata": {},
     "output_type": "execute_result"
    }
   ],
   "source": [
    "df5 = df.reset_index([1,2], drop=True)\n",
    "df5.head()"
   ]
  },
  {
   "cell_type": "markdown",
   "id": "cfe97d61-33ab-4188-959d-5071a1deb06b",
   "metadata": {
    "tags": []
   },
   "source": [
    "## sort_index"
   ]
  },
  {
   "cell_type": "markdown",
   "id": "ed4374df-427e-44b3-ad6f-d6a8e1b5b73f",
   "metadata": {},
   "source": [
    "- `df.sort_index(axis=0, level=None, ascending=True, inplace=False, kind='quicksort', na_position='last', ...)`\n",
    "- 축에 따른 index labels를 기준으로 대상을 정렬하는 메소드이다\n",
    "- axis : 정렬 축 지정, DataFrame은 0, 1 / Series 은 0 을 사용할 수 없음\n",
    "- level : int, level-name, list of int or level-names\n",
    "    + MultiIndex 에서 정렬 기준으로 사용할 level 을 지정 함\n",
    "- ascending : True - 오름차순 정렬, False - 내림차순 정렬, list of boolean\n",
    "- inplace : True 인 경우 객체를 직접 수정하고 None 반환\n",
    "- kind : 정렬 알고리즘 지정 {'quicksort', 'mergesort', 'heapsort'}\n",
    "- na_position : NA value 의 위치 {'first', 'last'}"
   ]
  },
  {
   "cell_type": "code",
   "execution_count": 151,
   "id": "bc3decc7-3495-407e-815a-c8201c0a6514",
   "metadata": {},
   "outputs": [
    {
     "data": {
      "text/html": [
       "<div>\n",
       "<style scoped>\n",
       "    .dataframe tbody tr th:only-of-type {\n",
       "        vertical-align: middle;\n",
       "    }\n",
       "\n",
       "    .dataframe tbody tr th {\n",
       "        vertical-align: top;\n",
       "    }\n",
       "\n",
       "    .dataframe thead th {\n",
       "        text-align: right;\n",
       "    }\n",
       "</style>\n",
       "<table border=\"1\" class=\"dataframe\">\n",
       "  <thead>\n",
       "    <tr style=\"text-align: right;\">\n",
       "      <th></th>\n",
       "      <th>pname</th>\n",
       "      <th>birth</th>\n",
       "      <th>dept</th>\n",
       "      <th>english</th>\n",
       "      <th>japanese</th>\n",
       "      <th>chinese</th>\n",
       "      <th>salary</th>\n",
       "      <th>overtime</th>\n",
       "    </tr>\n",
       "    <tr>\n",
       "      <th>ID</th>\n",
       "      <th></th>\n",
       "      <th></th>\n",
       "      <th></th>\n",
       "      <th></th>\n",
       "      <th></th>\n",
       "      <th></th>\n",
       "      <th></th>\n",
       "      <th></th>\n",
       "    </tr>\n",
       "  </thead>\n",
       "  <tbody>\n",
       "    <tr>\n",
       "      <th>18030201</th>\n",
       "      <td>James Kim</td>\n",
       "      <td>1990-01-23</td>\n",
       "      <td>Education</td>\n",
       "      <td>1</td>\n",
       "      <td>1</td>\n",
       "      <td>0</td>\n",
       "      <td>3456</td>\n",
       "      <td>0 days 23:10:10</td>\n",
       "    </tr>\n",
       "    <tr>\n",
       "      <th>18030202</th>\n",
       "      <td>Rose Hwang</td>\n",
       "      <td>1992-10-11</td>\n",
       "      <td>Marketing</td>\n",
       "      <td>0</td>\n",
       "      <td>2</td>\n",
       "      <td>0</td>\n",
       "      <td>4320</td>\n",
       "      <td>0 days 10:15:17</td>\n",
       "    </tr>\n",
       "    <tr>\n",
       "      <th>19030401</th>\n",
       "      <td>Sam Park</td>\n",
       "      <td>1995-07-02</td>\n",
       "      <td>Education</td>\n",
       "      <td>1</td>\n",
       "      <td>0</td>\n",
       "      <td>0</td>\n",
       "      <td>5600</td>\n",
       "      <td>0 days 16:21:10</td>\n",
       "    </tr>\n",
       "    <tr>\n",
       "      <th>19070101</th>\n",
       "      <td>Chris Jang</td>\n",
       "      <td>1990-11-23</td>\n",
       "      <td>Education</td>\n",
       "      <td>0</td>\n",
       "      <td>0</td>\n",
       "      <td>3</td>\n",
       "      <td>4500</td>\n",
       "      <td>0 days 15:00:20</td>\n",
       "    </tr>\n",
       "    <tr>\n",
       "      <th>19070102</th>\n",
       "      <td>Grace Lee</td>\n",
       "      <td>1993-02-01</td>\n",
       "      <td>Marketing</td>\n",
       "      <td>0</td>\n",
       "      <td>0</td>\n",
       "      <td>0</td>\n",
       "      <td>3150</td>\n",
       "      <td>0 days 21:19:50</td>\n",
       "    </tr>\n",
       "  </tbody>\n",
       "</table>\n",
       "</div>"
      ],
      "text/plain": [
       "               pname      birth       dept  english  japanese  chinese  \\\n",
       "ID                                                                       \n",
       "18030201   James Kim 1990-01-23  Education        1         1        0   \n",
       "18030202  Rose Hwang 1992-10-11  Marketing        0         2        0   \n",
       "19030401    Sam Park 1995-07-02  Education        1         0        0   \n",
       "19070101  Chris Jang 1990-11-23  Education        0         0        3   \n",
       "19070102   Grace Lee 1993-02-01  Marketing        0         0        0   \n",
       "\n",
       "          salary        overtime  \n",
       "ID                                \n",
       "18030201    3456 0 days 23:10:10  \n",
       "18030202    4320 0 days 10:15:17  \n",
       "19030401    5600 0 days 16:21:10  \n",
       "19070101    4500 0 days 15:00:20  \n",
       "19070102    3150 0 days 21:19:50  "
      ]
     },
     "execution_count": 151,
     "metadata": {},
     "output_type": "execute_result"
    }
   ],
   "source": [
    "import pandas as pd\n",
    "import shelve\n",
    "\n",
    "df = shelve.open('./data/mysample')['sample3']\n",
    "df.head()"
   ]
  },
  {
   "cell_type": "code",
   "execution_count": 152,
   "id": "2c67ecda-61c4-49b8-947f-f6975c4a3c90",
   "metadata": {},
   "outputs": [
    {
     "data": {
      "text/plain": [
       "Int64Index([18030201, 18030202, 19030401, 19070101, 19070102, 19070103,\n",
       "            19080101, 19080102, 19090201, 19090202],\n",
       "           dtype='int64', name='ID')"
      ]
     },
     "execution_count": 152,
     "metadata": {},
     "output_type": "execute_result"
    }
   ],
   "source": [
    "df.index"
   ]
  },
  {
   "cell_type": "code",
   "execution_count": 153,
   "id": "ffca228d-2cd5-4d03-b031-58766fc26f8e",
   "metadata": {},
   "outputs": [
    {
     "data": {
      "text/plain": [
       "Index(['pname', 'birth', 'dept', 'english', 'japanese', 'chinese', 'salary',\n",
       "       'overtime'],\n",
       "      dtype='object')"
      ]
     },
     "execution_count": 153,
     "metadata": {},
     "output_type": "execute_result"
    }
   ],
   "source": [
    "df.columns"
   ]
  },
  {
   "cell_type": "code",
   "execution_count": 154,
   "id": "a62a2dde-c175-4075-b727-e98671b321e5",
   "metadata": {},
   "outputs": [
    {
     "data": {
      "text/html": [
       "<div>\n",
       "<style scoped>\n",
       "    .dataframe tbody tr th:only-of-type {\n",
       "        vertical-align: middle;\n",
       "    }\n",
       "\n",
       "    .dataframe tbody tr th {\n",
       "        vertical-align: top;\n",
       "    }\n",
       "\n",
       "    .dataframe thead th {\n",
       "        text-align: right;\n",
       "    }\n",
       "</style>\n",
       "<table border=\"1\" class=\"dataframe\">\n",
       "  <thead>\n",
       "    <tr style=\"text-align: right;\">\n",
       "      <th></th>\n",
       "      <th>pname</th>\n",
       "      <th>birth</th>\n",
       "      <th>dept</th>\n",
       "      <th>english</th>\n",
       "      <th>japanese</th>\n",
       "      <th>chinese</th>\n",
       "      <th>salary</th>\n",
       "      <th>overtime</th>\n",
       "    </tr>\n",
       "    <tr>\n",
       "      <th>ID</th>\n",
       "      <th></th>\n",
       "      <th></th>\n",
       "      <th></th>\n",
       "      <th></th>\n",
       "      <th></th>\n",
       "      <th></th>\n",
       "      <th></th>\n",
       "      <th></th>\n",
       "    </tr>\n",
       "  </thead>\n",
       "  <tbody>\n",
       "    <tr>\n",
       "      <th>19090202</th>\n",
       "      <td>Anne Lee</td>\n",
       "      <td>1993-05-05</td>\n",
       "      <td>Education</td>\n",
       "      <td>0</td>\n",
       "      <td>3</td>\n",
       "      <td>1</td>\n",
       "      <td>4750</td>\n",
       "      <td>0 days 19:50:20</td>\n",
       "    </tr>\n",
       "    <tr>\n",
       "      <th>19090201</th>\n",
       "      <td>John Park</td>\n",
       "      <td>1992-06-16</td>\n",
       "      <td>Sales</td>\n",
       "      <td>3</td>\n",
       "      <td>1</td>\n",
       "      <td>2</td>\n",
       "      <td>6840</td>\n",
       "      <td>0 days 17:30:20</td>\n",
       "    </tr>\n",
       "    <tr>\n",
       "      <th>19080102</th>\n",
       "      <td>Bob Kim</td>\n",
       "      <td>1991-12-07</td>\n",
       "      <td>Sales</td>\n",
       "      <td>1</td>\n",
       "      <td>1</td>\n",
       "      <td>1</td>\n",
       "      <td>10100</td>\n",
       "      <td>0 days 08:40:40</td>\n",
       "    </tr>\n",
       "    <tr>\n",
       "      <th>19080101</th>\n",
       "      <td>Chirle Song</td>\n",
       "      <td>1993-04-11</td>\n",
       "      <td>Accounting</td>\n",
       "      <td>2</td>\n",
       "      <td>0</td>\n",
       "      <td>0</td>\n",
       "      <td>4800</td>\n",
       "      <td>0 days 09:50:30</td>\n",
       "    </tr>\n",
       "    <tr>\n",
       "      <th>19070103</th>\n",
       "      <td>Juile Yoon</td>\n",
       "      <td>1992-07-16</td>\n",
       "      <td>Education</td>\n",
       "      <td>0</td>\n",
       "      <td>0</td>\n",
       "      <td>1</td>\n",
       "      <td>4200</td>\n",
       "      <td>0 days 14:10:40</td>\n",
       "    </tr>\n",
       "  </tbody>\n",
       "</table>\n",
       "</div>"
      ],
      "text/plain": [
       "                pname      birth        dept  english  japanese  chinese  \\\n",
       "ID                                                                         \n",
       "19090202     Anne Lee 1993-05-05   Education        0         3        1   \n",
       "19090201    John Park 1992-06-16       Sales        3         1        2   \n",
       "19080102      Bob Kim 1991-12-07       Sales        1         1        1   \n",
       "19080101  Chirle Song 1993-04-11  Accounting        2         0        0   \n",
       "19070103   Juile Yoon 1992-07-16   Education        0         0        1   \n",
       "\n",
       "          salary        overtime  \n",
       "ID                                \n",
       "19090202    4750 0 days 19:50:20  \n",
       "19090201    6840 0 days 17:30:20  \n",
       "19080102   10100 0 days 08:40:40  \n",
       "19080101    4800 0 days 09:50:30  \n",
       "19070103    4200 0 days 14:10:40  "
      ]
     },
     "execution_count": 154,
     "metadata": {},
     "output_type": "execute_result"
    }
   ],
   "source": [
    "df1 = df.sort_index(ascending=False)\n",
    "df1.head()"
   ]
  },
  {
   "cell_type": "code",
   "execution_count": 155,
   "id": "3ff1fb59-6507-4ec4-9d17-5783b4e6df32",
   "metadata": {},
   "outputs": [
    {
     "data": {
      "text/html": [
       "<div>\n",
       "<style scoped>\n",
       "    .dataframe tbody tr th:only-of-type {\n",
       "        vertical-align: middle;\n",
       "    }\n",
       "\n",
       "    .dataframe tbody tr th {\n",
       "        vertical-align: top;\n",
       "    }\n",
       "\n",
       "    .dataframe thead th {\n",
       "        text-align: right;\n",
       "    }\n",
       "</style>\n",
       "<table border=\"1\" class=\"dataframe\">\n",
       "  <thead>\n",
       "    <tr style=\"text-align: right;\">\n",
       "      <th></th>\n",
       "      <th>birth</th>\n",
       "      <th>chinese</th>\n",
       "      <th>dept</th>\n",
       "      <th>english</th>\n",
       "      <th>japanese</th>\n",
       "      <th>overtime</th>\n",
       "      <th>pname</th>\n",
       "      <th>salary</th>\n",
       "    </tr>\n",
       "    <tr>\n",
       "      <th>ID</th>\n",
       "      <th></th>\n",
       "      <th></th>\n",
       "      <th></th>\n",
       "      <th></th>\n",
       "      <th></th>\n",
       "      <th></th>\n",
       "      <th></th>\n",
       "      <th></th>\n",
       "    </tr>\n",
       "  </thead>\n",
       "  <tbody>\n",
       "    <tr>\n",
       "      <th>18030201</th>\n",
       "      <td>1990-01-23</td>\n",
       "      <td>0</td>\n",
       "      <td>Education</td>\n",
       "      <td>1</td>\n",
       "      <td>1</td>\n",
       "      <td>0 days 23:10:10</td>\n",
       "      <td>James Kim</td>\n",
       "      <td>3456</td>\n",
       "    </tr>\n",
       "    <tr>\n",
       "      <th>18030202</th>\n",
       "      <td>1992-10-11</td>\n",
       "      <td>0</td>\n",
       "      <td>Marketing</td>\n",
       "      <td>0</td>\n",
       "      <td>2</td>\n",
       "      <td>0 days 10:15:17</td>\n",
       "      <td>Rose Hwang</td>\n",
       "      <td>4320</td>\n",
       "    </tr>\n",
       "    <tr>\n",
       "      <th>19030401</th>\n",
       "      <td>1995-07-02</td>\n",
       "      <td>0</td>\n",
       "      <td>Education</td>\n",
       "      <td>1</td>\n",
       "      <td>0</td>\n",
       "      <td>0 days 16:21:10</td>\n",
       "      <td>Sam Park</td>\n",
       "      <td>5600</td>\n",
       "    </tr>\n",
       "    <tr>\n",
       "      <th>19070101</th>\n",
       "      <td>1990-11-23</td>\n",
       "      <td>3</td>\n",
       "      <td>Education</td>\n",
       "      <td>0</td>\n",
       "      <td>0</td>\n",
       "      <td>0 days 15:00:20</td>\n",
       "      <td>Chris Jang</td>\n",
       "      <td>4500</td>\n",
       "    </tr>\n",
       "    <tr>\n",
       "      <th>19070102</th>\n",
       "      <td>1993-02-01</td>\n",
       "      <td>0</td>\n",
       "      <td>Marketing</td>\n",
       "      <td>0</td>\n",
       "      <td>0</td>\n",
       "      <td>0 days 21:19:50</td>\n",
       "      <td>Grace Lee</td>\n",
       "      <td>3150</td>\n",
       "    </tr>\n",
       "  </tbody>\n",
       "</table>\n",
       "</div>"
      ],
      "text/plain": [
       "              birth  chinese       dept  english  japanese        overtime  \\\n",
       "ID                                                                           \n",
       "18030201 1990-01-23        0  Education        1         1 0 days 23:10:10   \n",
       "18030202 1992-10-11        0  Marketing        0         2 0 days 10:15:17   \n",
       "19030401 1995-07-02        0  Education        1         0 0 days 16:21:10   \n",
       "19070101 1990-11-23        3  Education        0         0 0 days 15:00:20   \n",
       "19070102 1993-02-01        0  Marketing        0         0 0 days 21:19:50   \n",
       "\n",
       "               pname  salary  \n",
       "ID                            \n",
       "18030201   James Kim    3456  \n",
       "18030202  Rose Hwang    4320  \n",
       "19030401    Sam Park    5600  \n",
       "19070101  Chris Jang    4500  \n",
       "19070102   Grace Lee    3150  "
      ]
     },
     "execution_count": 155,
     "metadata": {},
     "output_type": "execute_result"
    }
   ],
   "source": [
    "df2 = df.sort_index(axis=1)\n",
    "df2.head()"
   ]
  },
  {
   "cell_type": "code",
   "execution_count": 156,
   "id": "7df57c36-d053-4092-af61-776b8792aeb0",
   "metadata": {},
   "outputs": [
    {
     "data": {
      "text/html": [
       "<div>\n",
       "<style scoped>\n",
       "    .dataframe tbody tr th:only-of-type {\n",
       "        vertical-align: middle;\n",
       "    }\n",
       "\n",
       "    .dataframe tbody tr th {\n",
       "        vertical-align: top;\n",
       "    }\n",
       "\n",
       "    .dataframe thead th {\n",
       "        text-align: right;\n",
       "    }\n",
       "</style>\n",
       "<table border=\"1\" class=\"dataframe\">\n",
       "  <thead>\n",
       "    <tr style=\"text-align: right;\">\n",
       "      <th></th>\n",
       "      <th></th>\n",
       "      <th></th>\n",
       "      <th>birth</th>\n",
       "      <th>english</th>\n",
       "      <th>japanese</th>\n",
       "      <th>chinese</th>\n",
       "      <th>salary</th>\n",
       "      <th>overtime</th>\n",
       "    </tr>\n",
       "    <tr>\n",
       "      <th>ID</th>\n",
       "      <th>dept</th>\n",
       "      <th>pname</th>\n",
       "      <th></th>\n",
       "      <th></th>\n",
       "      <th></th>\n",
       "      <th></th>\n",
       "      <th></th>\n",
       "      <th></th>\n",
       "    </tr>\n",
       "  </thead>\n",
       "  <tbody>\n",
       "    <tr>\n",
       "      <th>18030201</th>\n",
       "      <th>Education</th>\n",
       "      <th>James Kim</th>\n",
       "      <td>1990-01-23</td>\n",
       "      <td>1</td>\n",
       "      <td>1</td>\n",
       "      <td>0</td>\n",
       "      <td>3456</td>\n",
       "      <td>0 days 23:10:10</td>\n",
       "    </tr>\n",
       "    <tr>\n",
       "      <th>18030202</th>\n",
       "      <th>Marketing</th>\n",
       "      <th>Rose Hwang</th>\n",
       "      <td>1992-10-11</td>\n",
       "      <td>0</td>\n",
       "      <td>2</td>\n",
       "      <td>0</td>\n",
       "      <td>4320</td>\n",
       "      <td>0 days 10:15:17</td>\n",
       "    </tr>\n",
       "    <tr>\n",
       "      <th>19030401</th>\n",
       "      <th>Education</th>\n",
       "      <th>Sam Park</th>\n",
       "      <td>1995-07-02</td>\n",
       "      <td>1</td>\n",
       "      <td>0</td>\n",
       "      <td>0</td>\n",
       "      <td>5600</td>\n",
       "      <td>0 days 16:21:10</td>\n",
       "    </tr>\n",
       "    <tr>\n",
       "      <th>19070101</th>\n",
       "      <th>Education</th>\n",
       "      <th>Chris Jang</th>\n",
       "      <td>1990-11-23</td>\n",
       "      <td>0</td>\n",
       "      <td>0</td>\n",
       "      <td>3</td>\n",
       "      <td>4500</td>\n",
       "      <td>0 days 15:00:20</td>\n",
       "    </tr>\n",
       "    <tr>\n",
       "      <th>19070102</th>\n",
       "      <th>Marketing</th>\n",
       "      <th>Grace Lee</th>\n",
       "      <td>1993-02-01</td>\n",
       "      <td>0</td>\n",
       "      <td>0</td>\n",
       "      <td>0</td>\n",
       "      <td>3150</td>\n",
       "      <td>0 days 21:19:50</td>\n",
       "    </tr>\n",
       "  </tbody>\n",
       "</table>\n",
       "</div>"
      ],
      "text/plain": [
       "                                   birth  english  japanese  chinese  salary  \\\n",
       "ID       dept      pname                                                       \n",
       "18030201 Education James Kim  1990-01-23        1         1        0    3456   \n",
       "18030202 Marketing Rose Hwang 1992-10-11        0         2        0    4320   \n",
       "19030401 Education Sam Park   1995-07-02        1         0        0    5600   \n",
       "19070101 Education Chris Jang 1990-11-23        0         0        3    4500   \n",
       "19070102 Marketing Grace Lee  1993-02-01        0         0        0    3150   \n",
       "\n",
       "                                     overtime  \n",
       "ID       dept      pname                       \n",
       "18030201 Education James Kim  0 days 23:10:10  \n",
       "18030202 Marketing Rose Hwang 0 days 10:15:17  \n",
       "19030401 Education Sam Park   0 days 16:21:10  \n",
       "19070101 Education Chris Jang 0 days 15:00:20  \n",
       "19070102 Marketing Grace Lee  0 days 21:19:50  "
      ]
     },
     "execution_count": 156,
     "metadata": {},
     "output_type": "execute_result"
    }
   ],
   "source": [
    "df3 = df.set_index(['dept', 'pname'], append=True)\n",
    "df3.head()"
   ]
  },
  {
   "cell_type": "code",
   "execution_count": 157,
   "id": "3e85d3d4-cbee-48bf-8b57-b0efa7f56877",
   "metadata": {},
   "outputs": [
    {
     "data": {
      "text/html": [
       "<div>\n",
       "<style scoped>\n",
       "    .dataframe tbody tr th:only-of-type {\n",
       "        vertical-align: middle;\n",
       "    }\n",
       "\n",
       "    .dataframe tbody tr th {\n",
       "        vertical-align: top;\n",
       "    }\n",
       "\n",
       "    .dataframe thead th {\n",
       "        text-align: right;\n",
       "    }\n",
       "</style>\n",
       "<table border=\"1\" class=\"dataframe\">\n",
       "  <thead>\n",
       "    <tr style=\"text-align: right;\">\n",
       "      <th></th>\n",
       "      <th></th>\n",
       "      <th></th>\n",
       "      <th>birth</th>\n",
       "      <th>english</th>\n",
       "      <th>japanese</th>\n",
       "      <th>chinese</th>\n",
       "      <th>salary</th>\n",
       "      <th>overtime</th>\n",
       "    </tr>\n",
       "    <tr>\n",
       "      <th>ID</th>\n",
       "      <th>dept</th>\n",
       "      <th>pname</th>\n",
       "      <th></th>\n",
       "      <th></th>\n",
       "      <th></th>\n",
       "      <th></th>\n",
       "      <th></th>\n",
       "      <th></th>\n",
       "    </tr>\n",
       "  </thead>\n",
       "  <tbody>\n",
       "    <tr>\n",
       "      <th>18030201</th>\n",
       "      <th>Education</th>\n",
       "      <th>James Kim</th>\n",
       "      <td>1990-01-23</td>\n",
       "      <td>1</td>\n",
       "      <td>1</td>\n",
       "      <td>0</td>\n",
       "      <td>3456</td>\n",
       "      <td>0 days 23:10:10</td>\n",
       "    </tr>\n",
       "    <tr>\n",
       "      <th>18030202</th>\n",
       "      <th>Marketing</th>\n",
       "      <th>Rose Hwang</th>\n",
       "      <td>1992-10-11</td>\n",
       "      <td>0</td>\n",
       "      <td>2</td>\n",
       "      <td>0</td>\n",
       "      <td>4320</td>\n",
       "      <td>0 days 10:15:17</td>\n",
       "    </tr>\n",
       "    <tr>\n",
       "      <th>19030401</th>\n",
       "      <th>Education</th>\n",
       "      <th>Sam Park</th>\n",
       "      <td>1995-07-02</td>\n",
       "      <td>1</td>\n",
       "      <td>0</td>\n",
       "      <td>0</td>\n",
       "      <td>5600</td>\n",
       "      <td>0 days 16:21:10</td>\n",
       "    </tr>\n",
       "    <tr>\n",
       "      <th>19070101</th>\n",
       "      <th>Education</th>\n",
       "      <th>Chris Jang</th>\n",
       "      <td>1990-11-23</td>\n",
       "      <td>0</td>\n",
       "      <td>0</td>\n",
       "      <td>3</td>\n",
       "      <td>4500</td>\n",
       "      <td>0 days 15:00:20</td>\n",
       "    </tr>\n",
       "    <tr>\n",
       "      <th>19070102</th>\n",
       "      <th>Marketing</th>\n",
       "      <th>Grace Lee</th>\n",
       "      <td>1993-02-01</td>\n",
       "      <td>0</td>\n",
       "      <td>0</td>\n",
       "      <td>0</td>\n",
       "      <td>3150</td>\n",
       "      <td>0 days 21:19:50</td>\n",
       "    </tr>\n",
       "  </tbody>\n",
       "</table>\n",
       "</div>"
      ],
      "text/plain": [
       "                                   birth  english  japanese  chinese  salary  \\\n",
       "ID       dept      pname                                                       \n",
       "18030201 Education James Kim  1990-01-23        1         1        0    3456   \n",
       "18030202 Marketing Rose Hwang 1992-10-11        0         2        0    4320   \n",
       "19030401 Education Sam Park   1995-07-02        1         0        0    5600   \n",
       "19070101 Education Chris Jang 1990-11-23        0         0        3    4500   \n",
       "19070102 Marketing Grace Lee  1993-02-01        0         0        0    3150   \n",
       "\n",
       "                                     overtime  \n",
       "ID       dept      pname                       \n",
       "18030201 Education James Kim  0 days 23:10:10  \n",
       "18030202 Marketing Rose Hwang 0 days 10:15:17  \n",
       "19030401 Education Sam Park   0 days 16:21:10  \n",
       "19070101 Education Chris Jang 0 days 15:00:20  \n",
       "19070102 Marketing Grace Lee  0 days 21:19:50  "
      ]
     },
     "execution_count": 157,
     "metadata": {},
     "output_type": "execute_result"
    }
   ],
   "source": [
    "df4 = df3.sort_index()\n",
    "df4.head()"
   ]
  },
  {
   "cell_type": "code",
   "execution_count": 158,
   "id": "b1420b84-3296-4e1b-ac4e-209dbf3d34b5",
   "metadata": {},
   "outputs": [
    {
     "data": {
      "text/html": [
       "<div>\n",
       "<style scoped>\n",
       "    .dataframe tbody tr th:only-of-type {\n",
       "        vertical-align: middle;\n",
       "    }\n",
       "\n",
       "    .dataframe tbody tr th {\n",
       "        vertical-align: top;\n",
       "    }\n",
       "\n",
       "    .dataframe thead th {\n",
       "        text-align: right;\n",
       "    }\n",
       "</style>\n",
       "<table border=\"1\" class=\"dataframe\">\n",
       "  <thead>\n",
       "    <tr style=\"text-align: right;\">\n",
       "      <th></th>\n",
       "      <th></th>\n",
       "      <th></th>\n",
       "      <th>birth</th>\n",
       "      <th>english</th>\n",
       "      <th>japanese</th>\n",
       "      <th>chinese</th>\n",
       "      <th>salary</th>\n",
       "      <th>overtime</th>\n",
       "    </tr>\n",
       "    <tr>\n",
       "      <th>ID</th>\n",
       "      <th>dept</th>\n",
       "      <th>pname</th>\n",
       "      <th></th>\n",
       "      <th></th>\n",
       "      <th></th>\n",
       "      <th></th>\n",
       "      <th></th>\n",
       "      <th></th>\n",
       "    </tr>\n",
       "  </thead>\n",
       "  <tbody>\n",
       "    <tr>\n",
       "      <th>19080101</th>\n",
       "      <th>Accounting</th>\n",
       "      <th>Chirle Song</th>\n",
       "      <td>1993-04-11</td>\n",
       "      <td>2</td>\n",
       "      <td>0</td>\n",
       "      <td>0</td>\n",
       "      <td>4800</td>\n",
       "      <td>0 days 09:50:30</td>\n",
       "    </tr>\n",
       "    <tr>\n",
       "      <th>19090202</th>\n",
       "      <th>Education</th>\n",
       "      <th>Anne Lee</th>\n",
       "      <td>1993-05-05</td>\n",
       "      <td>0</td>\n",
       "      <td>3</td>\n",
       "      <td>1</td>\n",
       "      <td>4750</td>\n",
       "      <td>0 days 19:50:20</td>\n",
       "    </tr>\n",
       "    <tr>\n",
       "      <th>19070101</th>\n",
       "      <th>Education</th>\n",
       "      <th>Chris Jang</th>\n",
       "      <td>1990-11-23</td>\n",
       "      <td>0</td>\n",
       "      <td>0</td>\n",
       "      <td>3</td>\n",
       "      <td>4500</td>\n",
       "      <td>0 days 15:00:20</td>\n",
       "    </tr>\n",
       "    <tr>\n",
       "      <th>18030201</th>\n",
       "      <th>Education</th>\n",
       "      <th>James Kim</th>\n",
       "      <td>1990-01-23</td>\n",
       "      <td>1</td>\n",
       "      <td>1</td>\n",
       "      <td>0</td>\n",
       "      <td>3456</td>\n",
       "      <td>0 days 23:10:10</td>\n",
       "    </tr>\n",
       "    <tr>\n",
       "      <th>19070103</th>\n",
       "      <th>Education</th>\n",
       "      <th>Juile Yoon</th>\n",
       "      <td>1992-07-16</td>\n",
       "      <td>0</td>\n",
       "      <td>0</td>\n",
       "      <td>1</td>\n",
       "      <td>4200</td>\n",
       "      <td>0 days 14:10:40</td>\n",
       "    </tr>\n",
       "  </tbody>\n",
       "</table>\n",
       "</div>"
      ],
      "text/plain": [
       "                                     birth  english  japanese  chinese  \\\n",
       "ID       dept       pname                                                \n",
       "19080101 Accounting Chirle Song 1993-04-11        2         0        0   \n",
       "19090202 Education  Anne Lee    1993-05-05        0         3        1   \n",
       "19070101 Education  Chris Jang  1990-11-23        0         0        3   \n",
       "18030201 Education  James Kim   1990-01-23        1         1        0   \n",
       "19070103 Education  Juile Yoon  1992-07-16        0         0        1   \n",
       "\n",
       "                                 salary        overtime  \n",
       "ID       dept       pname                                \n",
       "19080101 Accounting Chirle Song    4800 0 days 09:50:30  \n",
       "19090202 Education  Anne Lee       4750 0 days 19:50:20  \n",
       "19070101 Education  Chris Jang     4500 0 days 15:00:20  \n",
       "18030201 Education  James Kim      3456 0 days 23:10:10  \n",
       "19070103 Education  Juile Yoon     4200 0 days 14:10:40  "
      ]
     },
     "execution_count": 158,
     "metadata": {},
     "output_type": "execute_result"
    }
   ],
   "source": [
    "df5 = df3.sort_index(level=[1,2])\n",
    "df5.head()"
   ]
  },
  {
   "cell_type": "code",
   "execution_count": 159,
   "id": "4bf682d7-7a22-498d-8df3-3d0a18a938fc",
   "metadata": {},
   "outputs": [
    {
     "data": {
      "text/html": [
       "<div>\n",
       "<style scoped>\n",
       "    .dataframe tbody tr th:only-of-type {\n",
       "        vertical-align: middle;\n",
       "    }\n",
       "\n",
       "    .dataframe tbody tr th {\n",
       "        vertical-align: top;\n",
       "    }\n",
       "\n",
       "    .dataframe thead th {\n",
       "        text-align: right;\n",
       "    }\n",
       "</style>\n",
       "<table border=\"1\" class=\"dataframe\">\n",
       "  <thead>\n",
       "    <tr style=\"text-align: right;\">\n",
       "      <th></th>\n",
       "      <th></th>\n",
       "      <th></th>\n",
       "      <th>birth</th>\n",
       "      <th>english</th>\n",
       "      <th>japanese</th>\n",
       "      <th>chinese</th>\n",
       "      <th>salary</th>\n",
       "      <th>overtime</th>\n",
       "    </tr>\n",
       "    <tr>\n",
       "      <th>ID</th>\n",
       "      <th>dept</th>\n",
       "      <th>pname</th>\n",
       "      <th></th>\n",
       "      <th></th>\n",
       "      <th></th>\n",
       "      <th></th>\n",
       "      <th></th>\n",
       "      <th></th>\n",
       "    </tr>\n",
       "  </thead>\n",
       "  <tbody>\n",
       "    <tr>\n",
       "      <th>19080101</th>\n",
       "      <th>Accounting</th>\n",
       "      <th>Chirle Song</th>\n",
       "      <td>1993-04-11</td>\n",
       "      <td>2</td>\n",
       "      <td>0</td>\n",
       "      <td>0</td>\n",
       "      <td>4800</td>\n",
       "      <td>0 days 09:50:30</td>\n",
       "    </tr>\n",
       "    <tr>\n",
       "      <th>19030401</th>\n",
       "      <th>Education</th>\n",
       "      <th>Sam Park</th>\n",
       "      <td>1995-07-02</td>\n",
       "      <td>1</td>\n",
       "      <td>0</td>\n",
       "      <td>0</td>\n",
       "      <td>5600</td>\n",
       "      <td>0 days 16:21:10</td>\n",
       "    </tr>\n",
       "    <tr>\n",
       "      <th>19070103</th>\n",
       "      <th>Education</th>\n",
       "      <th>Juile Yoon</th>\n",
       "      <td>1992-07-16</td>\n",
       "      <td>0</td>\n",
       "      <td>0</td>\n",
       "      <td>1</td>\n",
       "      <td>4200</td>\n",
       "      <td>0 days 14:10:40</td>\n",
       "    </tr>\n",
       "    <tr>\n",
       "      <th>18030201</th>\n",
       "      <th>Education</th>\n",
       "      <th>James Kim</th>\n",
       "      <td>1990-01-23</td>\n",
       "      <td>1</td>\n",
       "      <td>1</td>\n",
       "      <td>0</td>\n",
       "      <td>3456</td>\n",
       "      <td>0 days 23:10:10</td>\n",
       "    </tr>\n",
       "    <tr>\n",
       "      <th>19070101</th>\n",
       "      <th>Education</th>\n",
       "      <th>Chris Jang</th>\n",
       "      <td>1990-11-23</td>\n",
       "      <td>0</td>\n",
       "      <td>0</td>\n",
       "      <td>3</td>\n",
       "      <td>4500</td>\n",
       "      <td>0 days 15:00:20</td>\n",
       "    </tr>\n",
       "  </tbody>\n",
       "</table>\n",
       "</div>"
      ],
      "text/plain": [
       "                                     birth  english  japanese  chinese  \\\n",
       "ID       dept       pname                                                \n",
       "19080101 Accounting Chirle Song 1993-04-11        2         0        0   \n",
       "19030401 Education  Sam Park    1995-07-02        1         0        0   \n",
       "19070103 Education  Juile Yoon  1992-07-16        0         0        1   \n",
       "18030201 Education  James Kim   1990-01-23        1         1        0   \n",
       "19070101 Education  Chris Jang  1990-11-23        0         0        3   \n",
       "\n",
       "                                 salary        overtime  \n",
       "ID       dept       pname                                \n",
       "19080101 Accounting Chirle Song    4800 0 days 09:50:30  \n",
       "19030401 Education  Sam Park       5600 0 days 16:21:10  \n",
       "19070103 Education  Juile Yoon     4200 0 days 14:10:40  \n",
       "18030201 Education  James Kim      3456 0 days 23:10:10  \n",
       "19070101 Education  Chris Jang     4500 0 days 15:00:20  "
      ]
     },
     "execution_count": 159,
     "metadata": {},
     "output_type": "execute_result"
    }
   ],
   "source": [
    "df5 = df3.sort_index(level=[1,2], ascending=[True, False])\n",
    "df5.head()"
   ]
  },
  {
   "cell_type": "markdown",
   "id": "03c89c16-3946-4203-9d95-af4939eec825",
   "metadata": {
    "jp-MarkdownHeadingCollapsed": true,
    "tags": []
   },
   "source": [
    "## sort_values"
   ]
  },
  {
   "cell_type": "markdown",
   "id": "4ae0a9e3-479a-42ac-9c15-cbad822f5e70",
   "metadata": {},
   "source": [
    "- `df.sort_values(by, axis=0, ascending=True, inplace=False, kind='quicksort', na_position='last')`\n",
    "- 축에 따른 by 목록의 values를 기준으로 대상을 정렬하여 반환한다\n",
    "- by : str 또는 list of str을 사용하여 정렬 기준이 되는 이름 또는 이름 목록 지정\n",
    "- axis = 0: column labels, axis = 1 : index labels 를 사용하여 이름 목록 작성\n",
    "- axix = 1 사용을 위해서는 모든 columns 의 dtype이 동일해야 함 (거의 사용 안 함)"
   ]
  },
  {
   "cell_type": "code",
   "execution_count": 165,
   "id": "b3a36b1b-d6f0-4eba-b939-31d77dd6343c",
   "metadata": {},
   "outputs": [
    {
     "data": {
      "text/html": [
       "<div>\n",
       "<style scoped>\n",
       "    .dataframe tbody tr th:only-of-type {\n",
       "        vertical-align: middle;\n",
       "    }\n",
       "\n",
       "    .dataframe tbody tr th {\n",
       "        vertical-align: top;\n",
       "    }\n",
       "\n",
       "    .dataframe thead th {\n",
       "        text-align: right;\n",
       "    }\n",
       "</style>\n",
       "<table border=\"1\" class=\"dataframe\">\n",
       "  <thead>\n",
       "    <tr style=\"text-align: right;\">\n",
       "      <th></th>\n",
       "      <th>pname</th>\n",
       "      <th>english</th>\n",
       "      <th>chinese</th>\n",
       "    </tr>\n",
       "    <tr>\n",
       "      <th>ID</th>\n",
       "      <th></th>\n",
       "      <th></th>\n",
       "      <th></th>\n",
       "    </tr>\n",
       "  </thead>\n",
       "  <tbody>\n",
       "    <tr>\n",
       "      <th>18030201</th>\n",
       "      <td>James Kim</td>\n",
       "      <td>1</td>\n",
       "      <td></td>\n",
       "    </tr>\n",
       "    <tr>\n",
       "      <th>18030202</th>\n",
       "      <td>Rose Hwang</td>\n",
       "      <td></td>\n",
       "      <td>NaN</td>\n",
       "    </tr>\n",
       "    <tr>\n",
       "      <th>19030401</th>\n",
       "      <td>Sam Park</td>\n",
       "      <td>1</td>\n",
       "      <td>NaN</td>\n",
       "    </tr>\n",
       "    <tr>\n",
       "      <th>19070101</th>\n",
       "      <td>Chris Jang</td>\n",
       "      <td>NaN</td>\n",
       "      <td>3</td>\n",
       "    </tr>\n",
       "    <tr>\n",
       "      <th>19070102</th>\n",
       "      <td>Grace Lee</td>\n",
       "      <td>NaN</td>\n",
       "      <td>NaN</td>\n",
       "    </tr>\n",
       "  </tbody>\n",
       "</table>\n",
       "</div>"
      ],
      "text/plain": [
       "               pname english chinese\n",
       "ID                                  \n",
       "18030201   James Kim       1        \n",
       "18030202  Rose Hwang             NaN\n",
       "19030401    Sam Park       1     NaN\n",
       "19070101  Chris Jang     NaN       3\n",
       "19070102   Grace Lee     NaN     NaN"
      ]
     },
     "execution_count": 165,
     "metadata": {},
     "output_type": "execute_result"
    }
   ],
   "source": [
    "dfna = pd.read_csv(\"./data/easySample2.csv\", index_col=\"ID\")\n",
    "dfna = dfna[['pname', 'english', 'chinese']].head()\n",
    "dfna"
   ]
  },
  {
   "cell_type": "code",
   "execution_count": 166,
   "id": "3647206c-6ae1-46fb-8c9c-8e85bbb3ff29",
   "metadata": {},
   "outputs": [
    {
     "data": {
      "text/html": [
       "<div>\n",
       "<style scoped>\n",
       "    .dataframe tbody tr th:only-of-type {\n",
       "        vertical-align: middle;\n",
       "    }\n",
       "\n",
       "    .dataframe tbody tr th {\n",
       "        vertical-align: top;\n",
       "    }\n",
       "\n",
       "    .dataframe thead th {\n",
       "        text-align: right;\n",
       "    }\n",
       "</style>\n",
       "<table border=\"1\" class=\"dataframe\">\n",
       "  <thead>\n",
       "    <tr style=\"text-align: right;\">\n",
       "      <th></th>\n",
       "      <th>pname</th>\n",
       "      <th>english</th>\n",
       "      <th>chinese</th>\n",
       "    </tr>\n",
       "    <tr>\n",
       "      <th>ID</th>\n",
       "      <th></th>\n",
       "      <th></th>\n",
       "      <th></th>\n",
       "    </tr>\n",
       "  </thead>\n",
       "  <tbody>\n",
       "    <tr>\n",
       "      <th>19070101</th>\n",
       "      <td>Chris Jang</td>\n",
       "      <td>NaN</td>\n",
       "      <td>3</td>\n",
       "    </tr>\n",
       "    <tr>\n",
       "      <th>19070102</th>\n",
       "      <td>Grace Lee</td>\n",
       "      <td>NaN</td>\n",
       "      <td>NaN</td>\n",
       "    </tr>\n",
       "    <tr>\n",
       "      <th>18030201</th>\n",
       "      <td>James Kim</td>\n",
       "      <td>1</td>\n",
       "      <td></td>\n",
       "    </tr>\n",
       "    <tr>\n",
       "      <th>18030202</th>\n",
       "      <td>Rose Hwang</td>\n",
       "      <td></td>\n",
       "      <td>NaN</td>\n",
       "    </tr>\n",
       "    <tr>\n",
       "      <th>19030401</th>\n",
       "      <td>Sam Park</td>\n",
       "      <td>1</td>\n",
       "      <td>NaN</td>\n",
       "    </tr>\n",
       "  </tbody>\n",
       "</table>\n",
       "</div>"
      ],
      "text/plain": [
       "               pname english chinese\n",
       "ID                                  \n",
       "19070101  Chris Jang     NaN       3\n",
       "19070102   Grace Lee     NaN     NaN\n",
       "18030201   James Kim       1        \n",
       "18030202  Rose Hwang             NaN\n",
       "19030401    Sam Park       1     NaN"
      ]
     },
     "execution_count": 166,
     "metadata": {},
     "output_type": "execute_result"
    }
   ],
   "source": [
    "df1 = dfna.sort_values('pname')\n",
    "df1"
   ]
  },
  {
   "cell_type": "code",
   "execution_count": 167,
   "id": "1ff37a07-4b0d-4477-9be0-8bf443c9e6ab",
   "metadata": {},
   "outputs": [
    {
     "data": {
      "text/html": [
       "<div>\n",
       "<style scoped>\n",
       "    .dataframe tbody tr th:only-of-type {\n",
       "        vertical-align: middle;\n",
       "    }\n",
       "\n",
       "    .dataframe tbody tr th {\n",
       "        vertical-align: top;\n",
       "    }\n",
       "\n",
       "    .dataframe thead th {\n",
       "        text-align: right;\n",
       "    }\n",
       "</style>\n",
       "<table border=\"1\" class=\"dataframe\">\n",
       "  <thead>\n",
       "    <tr style=\"text-align: right;\">\n",
       "      <th></th>\n",
       "      <th>pname</th>\n",
       "      <th>english</th>\n",
       "      <th>chinese</th>\n",
       "    </tr>\n",
       "    <tr>\n",
       "      <th>ID</th>\n",
       "      <th></th>\n",
       "      <th></th>\n",
       "      <th></th>\n",
       "    </tr>\n",
       "  </thead>\n",
       "  <tbody>\n",
       "    <tr>\n",
       "      <th>18030202</th>\n",
       "      <td>Rose Hwang</td>\n",
       "      <td></td>\n",
       "      <td>NaN</td>\n",
       "    </tr>\n",
       "    <tr>\n",
       "      <th>19030401</th>\n",
       "      <td>Sam Park</td>\n",
       "      <td>1</td>\n",
       "      <td>NaN</td>\n",
       "    </tr>\n",
       "    <tr>\n",
       "      <th>18030201</th>\n",
       "      <td>James Kim</td>\n",
       "      <td>1</td>\n",
       "      <td></td>\n",
       "    </tr>\n",
       "    <tr>\n",
       "      <th>19070102</th>\n",
       "      <td>Grace Lee</td>\n",
       "      <td>NaN</td>\n",
       "      <td>NaN</td>\n",
       "    </tr>\n",
       "    <tr>\n",
       "      <th>19070101</th>\n",
       "      <td>Chris Jang</td>\n",
       "      <td>NaN</td>\n",
       "      <td>3</td>\n",
       "    </tr>\n",
       "  </tbody>\n",
       "</table>\n",
       "</div>"
      ],
      "text/plain": [
       "               pname english chinese\n",
       "ID                                  \n",
       "18030202  Rose Hwang             NaN\n",
       "19030401    Sam Park       1     NaN\n",
       "18030201   James Kim       1        \n",
       "19070102   Grace Lee     NaN     NaN\n",
       "19070101  Chris Jang     NaN       3"
      ]
     },
     "execution_count": 167,
     "metadata": {},
     "output_type": "execute_result"
    }
   ],
   "source": [
    "df2 = dfna.sort_values(['english', 'pname'], ascending=[True, False])\n",
    "df2"
   ]
  },
  {
   "cell_type": "code",
   "execution_count": 168,
   "id": "50f7dc18-1787-4c40-9f92-ebc7151290b6",
   "metadata": {},
   "outputs": [
    {
     "data": {
      "text/html": [
       "<div>\n",
       "<style scoped>\n",
       "    .dataframe tbody tr th:only-of-type {\n",
       "        vertical-align: middle;\n",
       "    }\n",
       "\n",
       "    .dataframe tbody tr th {\n",
       "        vertical-align: top;\n",
       "    }\n",
       "\n",
       "    .dataframe thead th {\n",
       "        text-align: right;\n",
       "    }\n",
       "</style>\n",
       "<table border=\"1\" class=\"dataframe\">\n",
       "  <thead>\n",
       "    <tr style=\"text-align: right;\">\n",
       "      <th></th>\n",
       "      <th>A</th>\n",
       "      <th>C</th>\n",
       "      <th>B</th>\n",
       "      <th>D</th>\n",
       "    </tr>\n",
       "  </thead>\n",
       "  <tbody>\n",
       "    <tr>\n",
       "      <th>0</th>\n",
       "      <td>60</td>\n",
       "      <td>NaN</td>\n",
       "      <td>Kim</td>\n",
       "      <td>10</td>\n",
       "    </tr>\n",
       "    <tr>\n",
       "      <th>1</th>\n",
       "      <td>50</td>\n",
       "      <td>30.0</td>\n",
       "      <td>Park</td>\n",
       "      <td>20</td>\n",
       "    </tr>\n",
       "    <tr>\n",
       "      <th>2</th>\n",
       "      <td>40</td>\n",
       "      <td>10.0</td>\n",
       "      <td>Choi</td>\n",
       "      <td>10</td>\n",
       "    </tr>\n",
       "    <tr>\n",
       "      <th>3</th>\n",
       "      <td>30</td>\n",
       "      <td>20.0</td>\n",
       "      <td>Lee</td>\n",
       "      <td>20</td>\n",
       "    </tr>\n",
       "  </tbody>\n",
       "</table>\n",
       "</div>"
      ],
      "text/plain": [
       "    A     C     B   D\n",
       "0  60   NaN   Kim  10\n",
       "1  50  30.0  Park  20\n",
       "2  40  10.0  Choi  10\n",
       "3  30  20.0   Lee  20"
      ]
     },
     "execution_count": 168,
     "metadata": {},
     "output_type": "execute_result"
    }
   ],
   "source": [
    "df = pd.DataFrame({'A': [60,50,40,30],\n",
    "                   'C': [np.nan,30,10,20],\n",
    "                   'B': ['Kim','Park','Choi','Lee'],\n",
    "                   'D': [10,20,10,20]})\n",
    "df"
   ]
  },
  {
   "cell_type": "code",
   "execution_count": 170,
   "id": "98e87cc2-40d5-429a-93f2-ac24afc96de7",
   "metadata": {},
   "outputs": [
    {
     "data": {
      "text/html": [
       "<div>\n",
       "<style scoped>\n",
       "    .dataframe tbody tr th:only-of-type {\n",
       "        vertical-align: middle;\n",
       "    }\n",
       "\n",
       "    .dataframe tbody tr th {\n",
       "        vertical-align: top;\n",
       "    }\n",
       "\n",
       "    .dataframe thead th {\n",
       "        text-align: right;\n",
       "    }\n",
       "</style>\n",
       "<table border=\"1\" class=\"dataframe\">\n",
       "  <thead>\n",
       "    <tr style=\"text-align: right;\">\n",
       "      <th></th>\n",
       "      <th>A</th>\n",
       "      <th>C</th>\n",
       "      <th>B</th>\n",
       "      <th>D</th>\n",
       "    </tr>\n",
       "  </thead>\n",
       "  <tbody>\n",
       "    <tr>\n",
       "      <th>2</th>\n",
       "      <td>40</td>\n",
       "      <td>10.0</td>\n",
       "      <td>Choi</td>\n",
       "      <td>10</td>\n",
       "    </tr>\n",
       "    <tr>\n",
       "      <th>0</th>\n",
       "      <td>60</td>\n",
       "      <td>NaN</td>\n",
       "      <td>Kim</td>\n",
       "      <td>10</td>\n",
       "    </tr>\n",
       "    <tr>\n",
       "      <th>3</th>\n",
       "      <td>30</td>\n",
       "      <td>20.0</td>\n",
       "      <td>Lee</td>\n",
       "      <td>20</td>\n",
       "    </tr>\n",
       "    <tr>\n",
       "      <th>1</th>\n",
       "      <td>50</td>\n",
       "      <td>30.0</td>\n",
       "      <td>Park</td>\n",
       "      <td>20</td>\n",
       "    </tr>\n",
       "  </tbody>\n",
       "</table>\n",
       "</div>"
      ],
      "text/plain": [
       "    A     C     B   D\n",
       "2  40  10.0  Choi  10\n",
       "0  60   NaN   Kim  10\n",
       "3  30  20.0   Lee  20\n",
       "1  50  30.0  Park  20"
      ]
     },
     "execution_count": 170,
     "metadata": {},
     "output_type": "execute_result"
    }
   ],
   "source": [
    "df1 = df.sort_values(by=['D', 'A'])\n",
    "df1"
   ]
  },
  {
   "cell_type": "code",
   "execution_count": 171,
   "id": "f35e52e2-5b0a-44c7-8c20-b2fa0ef5b235",
   "metadata": {},
   "outputs": [
    {
     "data": {
      "text/html": [
       "<div>\n",
       "<style scoped>\n",
       "    .dataframe tbody tr th:only-of-type {\n",
       "        vertical-align: middle;\n",
       "    }\n",
       "\n",
       "    .dataframe tbody tr th {\n",
       "        vertical-align: top;\n",
       "    }\n",
       "\n",
       "    .dataframe thead th {\n",
       "        text-align: right;\n",
       "    }\n",
       "</style>\n",
       "<table border=\"1\" class=\"dataframe\">\n",
       "  <thead>\n",
       "    <tr style=\"text-align: right;\">\n",
       "      <th></th>\n",
       "      <th>D</th>\n",
       "      <th>C</th>\n",
       "      <th>A</th>\n",
       "    </tr>\n",
       "  </thead>\n",
       "  <tbody>\n",
       "    <tr>\n",
       "      <th>0</th>\n",
       "      <td>10</td>\n",
       "      <td>NaN</td>\n",
       "      <td>60</td>\n",
       "    </tr>\n",
       "    <tr>\n",
       "      <th>1</th>\n",
       "      <td>20</td>\n",
       "      <td>30.0</td>\n",
       "      <td>50</td>\n",
       "    </tr>\n",
       "    <tr>\n",
       "      <th>2</th>\n",
       "      <td>10</td>\n",
       "      <td>10.0</td>\n",
       "      <td>40</td>\n",
       "    </tr>\n",
       "    <tr>\n",
       "      <th>3</th>\n",
       "      <td>20</td>\n",
       "      <td>20.0</td>\n",
       "      <td>30</td>\n",
       "    </tr>\n",
       "  </tbody>\n",
       "</table>\n",
       "</div>"
      ],
      "text/plain": [
       "    D     C   A\n",
       "0  10   NaN  60\n",
       "1  20  30.0  50\n",
       "2  10  10.0  40\n",
       "3  20  20.0  30"
      ]
     },
     "execution_count": 171,
     "metadata": {},
     "output_type": "execute_result"
    }
   ],
   "source": [
    "df2 = df[['A', 'C', 'D']].sort_values(1, axis=1, ascending=True)\n",
    "df2"
   ]
  },
  {
   "cell_type": "code",
   "execution_count": 173,
   "id": "2b2ecde6-6044-4d52-9df8-f4601605d8c9",
   "metadata": {},
   "outputs": [
    {
     "data": {
      "text/html": [
       "<div>\n",
       "<style scoped>\n",
       "    .dataframe tbody tr th:only-of-type {\n",
       "        vertical-align: middle;\n",
       "    }\n",
       "\n",
       "    .dataframe tbody tr th {\n",
       "        vertical-align: top;\n",
       "    }\n",
       "\n",
       "    .dataframe thead th {\n",
       "        text-align: right;\n",
       "    }\n",
       "</style>\n",
       "<table border=\"1\" class=\"dataframe\">\n",
       "  <thead>\n",
       "    <tr style=\"text-align: right;\">\n",
       "      <th></th>\n",
       "      <th>A</th>\n",
       "      <th>C</th>\n",
       "      <th>B</th>\n",
       "      <th>D</th>\n",
       "    </tr>\n",
       "  </thead>\n",
       "  <tbody>\n",
       "    <tr>\n",
       "      <th>0</th>\n",
       "      <td>60</td>\n",
       "      <td>NaN</td>\n",
       "      <td>Kim</td>\n",
       "      <td>10</td>\n",
       "    </tr>\n",
       "    <tr>\n",
       "      <th>2</th>\n",
       "      <td>40</td>\n",
       "      <td>10.0</td>\n",
       "      <td>Choi</td>\n",
       "      <td>10</td>\n",
       "    </tr>\n",
       "    <tr>\n",
       "      <th>3</th>\n",
       "      <td>30</td>\n",
       "      <td>20.0</td>\n",
       "      <td>Lee</td>\n",
       "      <td>20</td>\n",
       "    </tr>\n",
       "    <tr>\n",
       "      <th>1</th>\n",
       "      <td>50</td>\n",
       "      <td>30.0</td>\n",
       "      <td>Park</td>\n",
       "      <td>20</td>\n",
       "    </tr>\n",
       "  </tbody>\n",
       "</table>\n",
       "</div>"
      ],
      "text/plain": [
       "    A     C     B   D\n",
       "0  60   NaN   Kim  10\n",
       "2  40  10.0  Choi  10\n",
       "3  30  20.0   Lee  20\n",
       "1  50  30.0  Park  20"
      ]
     },
     "execution_count": 173,
     "metadata": {},
     "output_type": "execute_result"
    }
   ],
   "source": [
    "df3 = df.sort_values(by='C', na_position='first')\n",
    "df3"
   ]
  },
  {
   "cell_type": "markdown",
   "id": "3c1e5c97-22b3-4c95-befa-bfefe6f1000d",
   "metadata": {
    "tags": []
   },
   "source": [
    "# Indexing"
   ]
  },
  {
   "cell_type": "markdown",
   "id": "c32eb251-1d2a-4103-8cba-8f299cb93c1c",
   "metadata": {},
   "source": [
    "- index를 사용하여 원하는 내용(values)에 접근하는 방법\n",
    "- 접근하여 읽기, 쓰기 등의 작업을 함\n",
    "- https://pandas.pydata.org/docs/user_guide/indexing.html\n",
    "- indexing 의 종류\n",
    "    + Basic indexing : 1개의 indexer 사용\n",
    "    + Multi-axis indexing : axis 별 indexer 사용\n",
    "        - Selection by Label : label 을 사용함\n",
    "        - Selection by Position : integer 를 사용함\n",
    "- indexer 의 종류\n",
    "    + a single label/integer : 1개의 label 또는 integer\n",
    "    + a list or array of labels/integers : label 또는 integer의 리스트 또는 배열\n",
    "    + a slice object with labels/integers : label 또는 integer의 slice (start:stop:step)\n",
    "    + a boolean array : True/False로 이루어진 boolean type의 배열 (배열의 요소수는 index의 요소수와 동일해야 함)\n",
    "    + a collable function with one argument (다루지 않음)"
   ]
  },
  {
   "cell_type": "markdown",
   "id": "e410993f-1328-4564-90af-bccde7e136e2",
   "metadata": {
    "tags": []
   },
   "source": [
    "## Basic Indexing"
   ]
  },
  {
   "cell_type": "markdown",
   "id": "092b000e-bfa4-49ce-8623-ec0c9fbfd402",
   "metadata": {},
   "source": [
    "- indexer를 1개만 사용하는 indexing\n",
    "- Series 의 경우 labels/integers 를 모두 사용할 수 있음\n",
    "- DataFrame 의 경우 종류에 따라 기준이 되는 axis와 labels/integers의 사용이 다름"
   ]
  },
  {
   "cell_type": "code",
   "execution_count": 1,
   "id": "08b68e88-c901-47b2-bf1b-ae53710873da",
   "metadata": {},
   "outputs": [
    {
     "data": {
      "text/html": [
       "<div>\n",
       "<style scoped>\n",
       "    .dataframe tbody tr th:only-of-type {\n",
       "        vertical-align: middle;\n",
       "    }\n",
       "\n",
       "    .dataframe tbody tr th {\n",
       "        vertical-align: top;\n",
       "    }\n",
       "\n",
       "    .dataframe thead th {\n",
       "        text-align: right;\n",
       "    }\n",
       "</style>\n",
       "<table border=\"1\" class=\"dataframe\">\n",
       "  <thead>\n",
       "    <tr style=\"text-align: right;\">\n",
       "      <th></th>\n",
       "      <th>pname</th>\n",
       "      <th>dept</th>\n",
       "      <th>birth</th>\n",
       "      <th>overtime</th>\n",
       "    </tr>\n",
       "  </thead>\n",
       "  <tbody>\n",
       "    <tr>\n",
       "      <th>A</th>\n",
       "      <td>James Kim</td>\n",
       "      <td>Education</td>\n",
       "      <td>1990-01-23</td>\n",
       "      <td>0 days 23:10:10</td>\n",
       "    </tr>\n",
       "    <tr>\n",
       "      <th>B</th>\n",
       "      <td>Rose Hwang</td>\n",
       "      <td>Marketing</td>\n",
       "      <td>1992-10-11</td>\n",
       "      <td>0 days 10:15:17</td>\n",
       "    </tr>\n",
       "    <tr>\n",
       "      <th>C</th>\n",
       "      <td>Sam Park</td>\n",
       "      <td>Education</td>\n",
       "      <td>1995-07-02</td>\n",
       "      <td>0 days 16:21:10</td>\n",
       "    </tr>\n",
       "    <tr>\n",
       "      <th>D</th>\n",
       "      <td>Chris Jang</td>\n",
       "      <td>Education</td>\n",
       "      <td>1990-11-23</td>\n",
       "      <td>0 days 15:00:20</td>\n",
       "    </tr>\n",
       "    <tr>\n",
       "      <th>E</th>\n",
       "      <td>Grace Lee</td>\n",
       "      <td>Marketing</td>\n",
       "      <td>1993-02-01</td>\n",
       "      <td>0 days 21:19:50</td>\n",
       "    </tr>\n",
       "    <tr>\n",
       "      <th>F</th>\n",
       "      <td>Juile Yoon</td>\n",
       "      <td>Education</td>\n",
       "      <td>1992-07-16</td>\n",
       "      <td>0 days 14:10:40</td>\n",
       "    </tr>\n",
       "    <tr>\n",
       "      <th>G</th>\n",
       "      <td>Chirle Song</td>\n",
       "      <td>Accounting</td>\n",
       "      <td>1993-04-11</td>\n",
       "      <td>0 days 09:50:30</td>\n",
       "    </tr>\n",
       "    <tr>\n",
       "      <th>H</th>\n",
       "      <td>Bob Kim</td>\n",
       "      <td>Sales</td>\n",
       "      <td>1991-12-07</td>\n",
       "      <td>0 days 08:40:40</td>\n",
       "    </tr>\n",
       "    <tr>\n",
       "      <th>I</th>\n",
       "      <td>John Park</td>\n",
       "      <td>Sales</td>\n",
       "      <td>1992-06-16</td>\n",
       "      <td>0 days 17:30:20</td>\n",
       "    </tr>\n",
       "    <tr>\n",
       "      <th>J</th>\n",
       "      <td>Anne Lee</td>\n",
       "      <td>Education</td>\n",
       "      <td>1993-05-05</td>\n",
       "      <td>0 days 19:50:20</td>\n",
       "    </tr>\n",
       "  </tbody>\n",
       "</table>\n",
       "</div>"
      ],
      "text/plain": [
       "         pname        dept      birth        overtime\n",
       "A    James Kim   Education 1990-01-23 0 days 23:10:10\n",
       "B   Rose Hwang   Marketing 1992-10-11 0 days 10:15:17\n",
       "C     Sam Park   Education 1995-07-02 0 days 16:21:10\n",
       "D   Chris Jang   Education 1990-11-23 0 days 15:00:20\n",
       "E    Grace Lee   Marketing 1993-02-01 0 days 21:19:50\n",
       "F   Juile Yoon   Education 1992-07-16 0 days 14:10:40\n",
       "G  Chirle Song  Accounting 1993-04-11 0 days 09:50:30\n",
       "H      Bob Kim       Sales 1991-12-07 0 days 08:40:40\n",
       "I    John Park       Sales 1992-06-16 0 days 17:30:20\n",
       "J     Anne Lee   Education 1993-05-05 0 days 19:50:20"
      ]
     },
     "execution_count": 1,
     "metadata": {},
     "output_type": "execute_result"
    }
   ],
   "source": [
    "import pandas as pd\n",
    "import numpy as np\n",
    "import shelve\n",
    "\n",
    "df = shelve.open('./data/mysample')['sample3']\n",
    "df = df[['pname', 'dept', 'birth', 'overtime']]\n",
    "df.index = pd.Index(list(\"ABCDEFGHIJ\"))\n",
    "df"
   ]
  },
  {
   "cell_type": "markdown",
   "id": "a9e6d0c9-9e5a-4f4e-acad-e2a36901cd2b",
   "metadata": {
    "tags": []
   },
   "source": [
    "### Basic Indexing of Series"
   ]
  },
  {
   "cell_type": "code",
   "execution_count": 178,
   "id": "15543caa-944f-47db-81d9-75728093abc3",
   "metadata": {},
   "outputs": [
    {
     "data": {
      "text/plain": [
       "A      James Kim\n",
       "B     Rose Hwang\n",
       "C       Sam Park\n",
       "D     Chris Jang\n",
       "E      Grace Lee\n",
       "F     Juile Yoon\n",
       "G    Chirle Song\n",
       "Name: pname, dtype: object"
      ]
     },
     "execution_count": 178,
     "metadata": {},
     "output_type": "execute_result"
    }
   ],
   "source": [
    "s = df['pname']\n",
    "s.head(7)"
   ]
  },
  {
   "cell_type": "code",
   "execution_count": 180,
   "id": "ad2567eb-fdc0-4e57-84e5-06751146c746",
   "metadata": {},
   "outputs": [
    {
     "name": "stdout",
     "output_type": "stream",
     "text": [
      "James Kim James Kim\n",
      "Anne Lee James Kim\n"
     ]
    }
   ],
   "source": [
    "print(s[0], s['A'])\n",
    "print(s[-1], s['A'])"
   ]
  },
  {
   "cell_type": "code",
   "execution_count": 183,
   "id": "fa8b169b-9c20-4521-a025-bbb233758010",
   "metadata": {},
   "outputs": [
    {
     "name": "stdout",
     "output_type": "stream",
     "text": [
      "A     James Kim\n",
      "C      Sam Park\n",
      "F    Juile Yoon\n",
      "Name: pname, dtype: object\n",
      "\n",
      "A     James Kim\n",
      "C      Sam Park\n",
      "F    Juile Yoon\n",
      "Name: pname, dtype: object\n"
     ]
    }
   ],
   "source": [
    "print(s[[0,2,5]], s[['A','C','F']], sep='\\n\\n')"
   ]
  },
  {
   "cell_type": "code",
   "execution_count": 186,
   "id": "79c19602-2908-4e8e-b1c3-5789bf7d828b",
   "metadata": {},
   "outputs": [
    {
     "name": "stdout",
     "output_type": "stream",
     "text": [
      "A     James Kim\n",
      "B    Rose Hwang\n",
      "C      Sam Park\n",
      "Name: pname, dtype: object\n",
      "\n",
      "A     James Kim\n",
      "B    Rose Hwang\n",
      "C      Sam Park\n",
      "Name: pname, dtype: object\n"
     ]
    }
   ],
   "source": [
    "print(s[:3], s['A':'C'], sep='\\n\\n')"
   ]
  },
  {
   "cell_type": "code",
   "execution_count": 198,
   "id": "ee893cbb-7ce8-4ba6-ac57-ef499dcab8a6",
   "metadata": {},
   "outputs": [
    {
     "name": "stdout",
     "output_type": "stream",
     "text": [
      "A      James Kim\n",
      "C       Sam Park\n",
      "E      Grace Lee\n",
      "G    Chirle Song\n",
      "I      John Park\n",
      "Name: pname, dtype: object\n"
     ]
    }
   ],
   "source": [
    "print(s[[True,False,True,False,True,False,True,False,True,False]])"
   ]
  },
  {
   "cell_type": "code",
   "execution_count": 199,
   "id": "5613b43d-daeb-4720-bdcd-5a4070db1b9e",
   "metadata": {},
   "outputs": [
    {
     "name": "stdout",
     "output_type": "stream",
     "text": [
      "A     James Kim\n",
      "F    Juile Yoon\n",
      "I     John Park\n",
      "Name: pname, dtype: object\n"
     ]
    }
   ],
   "source": [
    "print(s[s.str.startswith('J')])"
   ]
  },
  {
   "cell_type": "markdown",
   "id": "22fd8577-9c63-4faf-a8bd-d3c7d38af50f",
   "metadata": {
    "tags": []
   },
   "source": [
    "### Basic Indexing of DataFrame"
   ]
  },
  {
   "cell_type": "code",
   "execution_count": 201,
   "id": "c82b35be-3477-4b6b-9b29-ca1310301db7",
   "metadata": {},
   "outputs": [
    {
     "data": {
      "text/html": [
       "<div>\n",
       "<style scoped>\n",
       "    .dataframe tbody tr th:only-of-type {\n",
       "        vertical-align: middle;\n",
       "    }\n",
       "\n",
       "    .dataframe tbody tr th {\n",
       "        vertical-align: top;\n",
       "    }\n",
       "\n",
       "    .dataframe thead th {\n",
       "        text-align: right;\n",
       "    }\n",
       "</style>\n",
       "<table border=\"1\" class=\"dataframe\">\n",
       "  <thead>\n",
       "    <tr style=\"text-align: right;\">\n",
       "      <th></th>\n",
       "      <th>pname</th>\n",
       "      <th>dept</th>\n",
       "      <th>birth</th>\n",
       "      <th>overtime</th>\n",
       "    </tr>\n",
       "  </thead>\n",
       "  <tbody>\n",
       "    <tr>\n",
       "      <th>A</th>\n",
       "      <td>James Kim</td>\n",
       "      <td>Education</td>\n",
       "      <td>1990-01-23</td>\n",
       "      <td>0 days 23:10:10</td>\n",
       "    </tr>\n",
       "    <tr>\n",
       "      <th>B</th>\n",
       "      <td>Rose Hwang</td>\n",
       "      <td>Marketing</td>\n",
       "      <td>1992-10-11</td>\n",
       "      <td>0 days 10:15:17</td>\n",
       "    </tr>\n",
       "    <tr>\n",
       "      <th>C</th>\n",
       "      <td>Sam Park</td>\n",
       "      <td>Education</td>\n",
       "      <td>1995-07-02</td>\n",
       "      <td>0 days 16:21:10</td>\n",
       "    </tr>\n",
       "    <tr>\n",
       "      <th>D</th>\n",
       "      <td>Chris Jang</td>\n",
       "      <td>Education</td>\n",
       "      <td>1990-11-23</td>\n",
       "      <td>0 days 15:00:20</td>\n",
       "    </tr>\n",
       "    <tr>\n",
       "      <th>E</th>\n",
       "      <td>Grace Lee</td>\n",
       "      <td>Marketing</td>\n",
       "      <td>1993-02-01</td>\n",
       "      <td>0 days 21:19:50</td>\n",
       "    </tr>\n",
       "  </tbody>\n",
       "</table>\n",
       "</div>"
      ],
      "text/plain": [
       "        pname       dept      birth        overtime\n",
       "A   James Kim  Education 1990-01-23 0 days 23:10:10\n",
       "B  Rose Hwang  Marketing 1992-10-11 0 days 10:15:17\n",
       "C    Sam Park  Education 1995-07-02 0 days 16:21:10\n",
       "D  Chris Jang  Education 1990-11-23 0 days 15:00:20\n",
       "E   Grace Lee  Marketing 1993-02-01 0 days 21:19:50"
      ]
     },
     "execution_count": 201,
     "metadata": {},
     "output_type": "execute_result"
    }
   ],
   "source": [
    "df.head()"
   ]
  },
  {
   "cell_type": "code",
   "execution_count": 213,
   "id": "abaf515b-f830-4650-bcb1-d3bd9126e18d",
   "metadata": {},
   "outputs": [
    {
     "name": "stdout",
     "output_type": "stream",
     "text": [
      "<class 'pandas.core.series.Series'>\n",
      "A     James Kim\n",
      "B    Rose Hwang\n",
      "C      Sam Park\n",
      "D    Chris Jang\n",
      "E     Grace Lee\n",
      "Name: pname, dtype: object\n",
      "-------------------------\n"
     ]
    }
   ],
   "source": [
    "s1= df['pname']\n",
    "printObj(s1.head())"
   ]
  },
  {
   "cell_type": "code",
   "execution_count": 214,
   "id": "e31afc97-9c19-4bce-a53f-4a16f341f85d",
   "metadata": {},
   "outputs": [
    {
     "name": "stdout",
     "output_type": "stream",
     "text": [
      "<class 'pandas.core.frame.DataFrame'>\n",
      "        pname\n",
      "A   James Kim\n",
      "B  Rose Hwang\n",
      "C    Sam Park\n",
      "D  Chris Jang\n",
      "E   Grace Lee\n",
      "-------------------------\n"
     ]
    }
   ],
   "source": [
    "df1 = df[['pname']]\n",
    "printObj(df1.head())"
   ]
  },
  {
   "cell_type": "code",
   "execution_count": 215,
   "id": "069ffde3-7370-467a-904c-fa2542aaa36e",
   "metadata": {},
   "outputs": [
    {
     "data": {
      "text/html": [
       "<div>\n",
       "<style scoped>\n",
       "    .dataframe tbody tr th:only-of-type {\n",
       "        vertical-align: middle;\n",
       "    }\n",
       "\n",
       "    .dataframe tbody tr th {\n",
       "        vertical-align: top;\n",
       "    }\n",
       "\n",
       "    .dataframe thead th {\n",
       "        text-align: right;\n",
       "    }\n",
       "</style>\n",
       "<table border=\"1\" class=\"dataframe\">\n",
       "  <thead>\n",
       "    <tr style=\"text-align: right;\">\n",
       "      <th></th>\n",
       "      <th>pname</th>\n",
       "      <th>dept</th>\n",
       "      <th>birth</th>\n",
       "    </tr>\n",
       "  </thead>\n",
       "  <tbody>\n",
       "    <tr>\n",
       "      <th>A</th>\n",
       "      <td>James Kim</td>\n",
       "      <td>Education</td>\n",
       "      <td>1990-01-23</td>\n",
       "    </tr>\n",
       "    <tr>\n",
       "      <th>B</th>\n",
       "      <td>Rose Hwang</td>\n",
       "      <td>Marketing</td>\n",
       "      <td>1992-10-11</td>\n",
       "    </tr>\n",
       "    <tr>\n",
       "      <th>C</th>\n",
       "      <td>Sam Park</td>\n",
       "      <td>Education</td>\n",
       "      <td>1995-07-02</td>\n",
       "    </tr>\n",
       "    <tr>\n",
       "      <th>D</th>\n",
       "      <td>Chris Jang</td>\n",
       "      <td>Education</td>\n",
       "      <td>1990-11-23</td>\n",
       "    </tr>\n",
       "    <tr>\n",
       "      <th>E</th>\n",
       "      <td>Grace Lee</td>\n",
       "      <td>Marketing</td>\n",
       "      <td>1993-02-01</td>\n",
       "    </tr>\n",
       "  </tbody>\n",
       "</table>\n",
       "</div>"
      ],
      "text/plain": [
       "        pname       dept      birth\n",
       "A   James Kim  Education 1990-01-23\n",
       "B  Rose Hwang  Marketing 1992-10-11\n",
       "C    Sam Park  Education 1995-07-02\n",
       "D  Chris Jang  Education 1990-11-23\n",
       "E   Grace Lee  Marketing 1993-02-01"
      ]
     },
     "execution_count": 215,
     "metadata": {},
     "output_type": "execute_result"
    }
   ],
   "source": [
    "# column name 의 array 의 경우 axis=1\n",
    "df2 = df[['pname', 'dept', 'birth']]\n",
    "df2.head()"
   ]
  },
  {
   "cell_type": "code",
   "execution_count": 220,
   "id": "8e397539-624a-4d0d-bfd6-28602afe0066",
   "metadata": {},
   "outputs": [
    {
     "data": {
      "text/html": [
       "<div>\n",
       "<style scoped>\n",
       "    .dataframe tbody tr th:only-of-type {\n",
       "        vertical-align: middle;\n",
       "    }\n",
       "\n",
       "    .dataframe tbody tr th {\n",
       "        vertical-align: top;\n",
       "    }\n",
       "\n",
       "    .dataframe thead th {\n",
       "        text-align: right;\n",
       "    }\n",
       "</style>\n",
       "<table border=\"1\" class=\"dataframe\">\n",
       "  <thead>\n",
       "    <tr style=\"text-align: right;\">\n",
       "      <th></th>\n",
       "      <th>pname</th>\n",
       "      <th>dept</th>\n",
       "      <th>birth</th>\n",
       "      <th>overtime</th>\n",
       "    </tr>\n",
       "  </thead>\n",
       "  <tbody>\n",
       "    <tr>\n",
       "      <th>D</th>\n",
       "      <td>Chris Jang</td>\n",
       "      <td>Education</td>\n",
       "      <td>1990-11-23</td>\n",
       "      <td>0 days 15:00:20</td>\n",
       "    </tr>\n",
       "    <tr>\n",
       "      <th>E</th>\n",
       "      <td>Grace Lee</td>\n",
       "      <td>Marketing</td>\n",
       "      <td>1993-02-01</td>\n",
       "      <td>0 days 21:19:50</td>\n",
       "    </tr>\n",
       "    <tr>\n",
       "      <th>F</th>\n",
       "      <td>Juile Yoon</td>\n",
       "      <td>Education</td>\n",
       "      <td>1992-07-16</td>\n",
       "      <td>0 days 14:10:40</td>\n",
       "    </tr>\n",
       "  </tbody>\n",
       "</table>\n",
       "</div>"
      ],
      "text/plain": [
       "        pname       dept      birth        overtime\n",
       "D  Chris Jang  Education 1990-11-23 0 days 15:00:20\n",
       "E   Grace Lee  Marketing 1993-02-01 0 days 21:19:50\n",
       "F  Juile Yoon  Education 1992-07-16 0 days 14:10:40"
      ]
     },
     "metadata": {},
     "output_type": "display_data"
    },
    {
     "data": {
      "text/html": [
       "<div>\n",
       "<style scoped>\n",
       "    .dataframe tbody tr th:only-of-type {\n",
       "        vertical-align: middle;\n",
       "    }\n",
       "\n",
       "    .dataframe tbody tr th {\n",
       "        vertical-align: top;\n",
       "    }\n",
       "\n",
       "    .dataframe thead th {\n",
       "        text-align: right;\n",
       "    }\n",
       "</style>\n",
       "<table border=\"1\" class=\"dataframe\">\n",
       "  <thead>\n",
       "    <tr style=\"text-align: right;\">\n",
       "      <th></th>\n",
       "      <th>pname</th>\n",
       "      <th>dept</th>\n",
       "      <th>birth</th>\n",
       "      <th>overtime</th>\n",
       "    </tr>\n",
       "  </thead>\n",
       "  <tbody>\n",
       "    <tr>\n",
       "      <th>D</th>\n",
       "      <td>Chris Jang</td>\n",
       "      <td>Education</td>\n",
       "      <td>1990-11-23</td>\n",
       "      <td>0 days 15:00:20</td>\n",
       "    </tr>\n",
       "    <tr>\n",
       "      <th>E</th>\n",
       "      <td>Grace Lee</td>\n",
       "      <td>Marketing</td>\n",
       "      <td>1993-02-01</td>\n",
       "      <td>0 days 21:19:50</td>\n",
       "    </tr>\n",
       "    <tr>\n",
       "      <th>F</th>\n",
       "      <td>Juile Yoon</td>\n",
       "      <td>Education</td>\n",
       "      <td>1992-07-16</td>\n",
       "      <td>0 days 14:10:40</td>\n",
       "    </tr>\n",
       "  </tbody>\n",
       "</table>\n",
       "</div>"
      ],
      "text/plain": [
       "        pname       dept      birth        overtime\n",
       "D  Chris Jang  Education 1990-11-23 0 days 15:00:20\n",
       "E   Grace Lee  Marketing 1993-02-01 0 days 21:19:50\n",
       "F  Juile Yoon  Education 1992-07-16 0 days 14:10:40"
      ]
     },
     "metadata": {},
     "output_type": "display_data"
    }
   ],
   "source": [
    "# slicing 의 경우 axis=0\n",
    "df3 = df[3:6]\n",
    "display(df3)\n",
    "\n",
    "df3 = df['D':'F']\n",
    "display(df3)"
   ]
  },
  {
   "cell_type": "code",
   "execution_count": 224,
   "id": "0c8d394c-f987-418e-9c19-8b75fbdc2d04",
   "metadata": {},
   "outputs": [
    {
     "data": {
      "text/plain": [
       "A    False\n",
       "B     True\n",
       "C    False\n",
       "D    False\n",
       "E     True\n",
       "F    False\n",
       "G    False\n",
       "H    False\n",
       "I    False\n",
       "J    False\n",
       "Name: dept, dtype: bool"
      ]
     },
     "metadata": {},
     "output_type": "display_data"
    },
    {
     "data": {
      "text/html": [
       "<div>\n",
       "<style scoped>\n",
       "    .dataframe tbody tr th:only-of-type {\n",
       "        vertical-align: middle;\n",
       "    }\n",
       "\n",
       "    .dataframe tbody tr th {\n",
       "        vertical-align: top;\n",
       "    }\n",
       "\n",
       "    .dataframe thead th {\n",
       "        text-align: right;\n",
       "    }\n",
       "</style>\n",
       "<table border=\"1\" class=\"dataframe\">\n",
       "  <thead>\n",
       "    <tr style=\"text-align: right;\">\n",
       "      <th></th>\n",
       "      <th>pname</th>\n",
       "      <th>dept</th>\n",
       "      <th>birth</th>\n",
       "      <th>overtime</th>\n",
       "    </tr>\n",
       "  </thead>\n",
       "  <tbody>\n",
       "    <tr>\n",
       "      <th>B</th>\n",
       "      <td>Rose Hwang</td>\n",
       "      <td>Marketing</td>\n",
       "      <td>1992-10-11</td>\n",
       "      <td>0 days 10:15:17</td>\n",
       "    </tr>\n",
       "    <tr>\n",
       "      <th>E</th>\n",
       "      <td>Grace Lee</td>\n",
       "      <td>Marketing</td>\n",
       "      <td>1993-02-01</td>\n",
       "      <td>0 days 21:19:50</td>\n",
       "    </tr>\n",
       "  </tbody>\n",
       "</table>\n",
       "</div>"
      ],
      "text/plain": [
       "        pname       dept      birth        overtime\n",
       "B  Rose Hwang  Marketing 1992-10-11 0 days 10:15:17\n",
       "E   Grace Lee  Marketing 1993-02-01 0 days 21:19:50"
      ]
     },
     "metadata": {},
     "output_type": "display_data"
    },
    {
     "data": {
      "text/html": [
       "<div>\n",
       "<style scoped>\n",
       "    .dataframe tbody tr th:only-of-type {\n",
       "        vertical-align: middle;\n",
       "    }\n",
       "\n",
       "    .dataframe tbody tr th {\n",
       "        vertical-align: top;\n",
       "    }\n",
       "\n",
       "    .dataframe thead th {\n",
       "        text-align: right;\n",
       "    }\n",
       "</style>\n",
       "<table border=\"1\" class=\"dataframe\">\n",
       "  <thead>\n",
       "    <tr style=\"text-align: right;\">\n",
       "      <th></th>\n",
       "      <th>pname</th>\n",
       "      <th>dept</th>\n",
       "      <th>birth</th>\n",
       "      <th>overtime</th>\n",
       "    </tr>\n",
       "  </thead>\n",
       "  <tbody>\n",
       "    <tr>\n",
       "      <th>B</th>\n",
       "      <td>Rose Hwang</td>\n",
       "      <td>Marketing</td>\n",
       "      <td>1992-10-11</td>\n",
       "      <td>0 days 10:15:17</td>\n",
       "    </tr>\n",
       "    <tr>\n",
       "      <th>E</th>\n",
       "      <td>Grace Lee</td>\n",
       "      <td>Marketing</td>\n",
       "      <td>1993-02-01</td>\n",
       "      <td>0 days 21:19:50</td>\n",
       "    </tr>\n",
       "  </tbody>\n",
       "</table>\n",
       "</div>"
      ],
      "text/plain": [
       "        pname       dept      birth        overtime\n",
       "B  Rose Hwang  Marketing 1992-10-11 0 days 10:15:17\n",
       "E   Grace Lee  Marketing 1993-02-01 0 days 21:19:50"
      ]
     },
     "metadata": {},
     "output_type": "display_data"
    }
   ],
   "source": [
    "# boolean array 의 경우 axis=0\n",
    "display(df.dept == 'Marketing')\n",
    "\n",
    "df4 = df[df.dept == 'Marketing']\n",
    "display(df4)\n",
    "\n",
    "df4 = df[df['dept'] == 'Marketing']\n",
    "display(df4)"
   ]
  },
  {
   "cell_type": "markdown",
   "id": "0d12b133-1ee1-4fdc-9981-1cc8587ee44c",
   "metadata": {},
   "source": [
    "### isin()을 이용한 Boolean Indexing"
   ]
  },
  {
   "cell_type": "markdown",
   "id": "204827e1-3db3-4314-b293-fb824ccb1bd4",
   "metadata": {},
   "source": [
    "- 목록에 포함된 내용이 있을 때 True, 아니면 False\n",
    "    + `df.isin(list/dict)`\n",
    "    + `s.isin(list)`"
   ]
  },
  {
   "cell_type": "code",
   "execution_count": 226,
   "id": "20668087-95b2-473a-aedc-6e2af767056a",
   "metadata": {},
   "outputs": [],
   "source": [
    "import pandas as pd\n",
    "import numpy as np\n",
    "\n",
    "name = ['Kim','Yoon','Choi','Park']\n",
    "data = {'korean': ['A', 'A', 'A', 'B'], \n",
    "        'english': ['B', 'A', 'C', 'B']}"
   ]
  },
  {
   "cell_type": "code",
   "execution_count": 228,
   "id": "1223e81b-d687-4332-a6f2-067fa7e9fa7a",
   "metadata": {},
   "outputs": [
    {
     "data": {
      "text/html": [
       "<div>\n",
       "<style scoped>\n",
       "    .dataframe tbody tr th:only-of-type {\n",
       "        vertical-align: middle;\n",
       "    }\n",
       "\n",
       "    .dataframe tbody tr th {\n",
       "        vertical-align: top;\n",
       "    }\n",
       "\n",
       "    .dataframe thead th {\n",
       "        text-align: right;\n",
       "    }\n",
       "</style>\n",
       "<table border=\"1\" class=\"dataframe\">\n",
       "  <thead>\n",
       "    <tr style=\"text-align: right;\">\n",
       "      <th></th>\n",
       "      <th>korean</th>\n",
       "      <th>english</th>\n",
       "    </tr>\n",
       "    <tr>\n",
       "      <th>name</th>\n",
       "      <th></th>\n",
       "      <th></th>\n",
       "    </tr>\n",
       "  </thead>\n",
       "  <tbody>\n",
       "    <tr>\n",
       "      <th>Kim</th>\n",
       "      <td>A</td>\n",
       "      <td>B</td>\n",
       "    </tr>\n",
       "    <tr>\n",
       "      <th>Yoon</th>\n",
       "      <td>A</td>\n",
       "      <td>A</td>\n",
       "    </tr>\n",
       "    <tr>\n",
       "      <th>Choi</th>\n",
       "      <td>A</td>\n",
       "      <td>C</td>\n",
       "    </tr>\n",
       "    <tr>\n",
       "      <th>Park</th>\n",
       "      <td>B</td>\n",
       "      <td>B</td>\n",
       "    </tr>\n",
       "  </tbody>\n",
       "</table>\n",
       "</div>"
      ],
      "text/plain": [
       "     korean english\n",
       "name               \n",
       "Kim       A       B\n",
       "Yoon      A       A\n",
       "Choi      A       C\n",
       "Park      B       B"
      ]
     },
     "execution_count": 228,
     "metadata": {},
     "output_type": "execute_result"
    }
   ],
   "source": [
    "df = pd.DataFrame(data, index=name)\n",
    "df.index.name = 'name'\n",
    "df"
   ]
  },
  {
   "cell_type": "code",
   "execution_count": 230,
   "id": "901cb2e6-43ff-4c51-b56c-2c9dde55654f",
   "metadata": {},
   "outputs": [
    {
     "data": {
      "text/html": [
       "<div>\n",
       "<style scoped>\n",
       "    .dataframe tbody tr th:only-of-type {\n",
       "        vertical-align: middle;\n",
       "    }\n",
       "\n",
       "    .dataframe tbody tr th {\n",
       "        vertical-align: top;\n",
       "    }\n",
       "\n",
       "    .dataframe thead th {\n",
       "        text-align: right;\n",
       "    }\n",
       "</style>\n",
       "<table border=\"1\" class=\"dataframe\">\n",
       "  <thead>\n",
       "    <tr style=\"text-align: right;\">\n",
       "      <th></th>\n",
       "      <th>korean</th>\n",
       "      <th>english</th>\n",
       "    </tr>\n",
       "    <tr>\n",
       "      <th>name</th>\n",
       "      <th></th>\n",
       "      <th></th>\n",
       "    </tr>\n",
       "  </thead>\n",
       "  <tbody>\n",
       "    <tr>\n",
       "      <th>Kim</th>\n",
       "      <td>False</td>\n",
       "      <td>True</td>\n",
       "    </tr>\n",
       "    <tr>\n",
       "      <th>Yoon</th>\n",
       "      <td>False</td>\n",
       "      <td>False</td>\n",
       "    </tr>\n",
       "    <tr>\n",
       "      <th>Choi</th>\n",
       "      <td>False</td>\n",
       "      <td>True</td>\n",
       "    </tr>\n",
       "    <tr>\n",
       "      <th>Park</th>\n",
       "      <td>True</td>\n",
       "      <td>True</td>\n",
       "    </tr>\n",
       "  </tbody>\n",
       "</table>\n",
       "</div>"
      ],
      "text/plain": [
       "      korean  english\n",
       "name                 \n",
       "Kim    False     True\n",
       "Yoon   False    False\n",
       "Choi   False     True\n",
       "Park    True     True"
      ]
     },
     "execution_count": 230,
     "metadata": {},
     "output_type": "execute_result"
    }
   ],
   "source": [
    "df1 = df.isin(['B', 'C'])\n",
    "df1"
   ]
  },
  {
   "cell_type": "code",
   "execution_count": 231,
   "id": "8440858a-419d-49f8-b809-d43d268e21a9",
   "metadata": {},
   "outputs": [
    {
     "data": {
      "text/html": [
       "<div>\n",
       "<style scoped>\n",
       "    .dataframe tbody tr th:only-of-type {\n",
       "        vertical-align: middle;\n",
       "    }\n",
       "\n",
       "    .dataframe tbody tr th {\n",
       "        vertical-align: top;\n",
       "    }\n",
       "\n",
       "    .dataframe thead th {\n",
       "        text-align: right;\n",
       "    }\n",
       "</style>\n",
       "<table border=\"1\" class=\"dataframe\">\n",
       "  <thead>\n",
       "    <tr style=\"text-align: right;\">\n",
       "      <th></th>\n",
       "      <th>korean</th>\n",
       "      <th>english</th>\n",
       "    </tr>\n",
       "    <tr>\n",
       "      <th>name</th>\n",
       "      <th></th>\n",
       "      <th></th>\n",
       "    </tr>\n",
       "  </thead>\n",
       "  <tbody>\n",
       "    <tr>\n",
       "      <th>Kim</th>\n",
       "      <td>True</td>\n",
       "      <td>True</td>\n",
       "    </tr>\n",
       "    <tr>\n",
       "      <th>Yoon</th>\n",
       "      <td>True</td>\n",
       "      <td>True</td>\n",
       "    </tr>\n",
       "    <tr>\n",
       "      <th>Choi</th>\n",
       "      <td>True</td>\n",
       "      <td>False</td>\n",
       "    </tr>\n",
       "    <tr>\n",
       "      <th>Park</th>\n",
       "      <td>False</td>\n",
       "      <td>True</td>\n",
       "    </tr>\n",
       "  </tbody>\n",
       "</table>\n",
       "</div>"
      ],
      "text/plain": [
       "      korean  english\n",
       "name                 \n",
       "Kim     True     True\n",
       "Yoon    True     True\n",
       "Choi    True    False\n",
       "Park   False     True"
      ]
     },
     "execution_count": 231,
     "metadata": {},
     "output_type": "execute_result"
    }
   ],
   "source": [
    "w = {'korean': ['A'], \n",
    "     'english': ['A', 'B']}\n",
    "df2 = df.isin(w)\n",
    "df2"
   ]
  },
  {
   "cell_type": "code",
   "execution_count": 233,
   "id": "d23dfb97-08ac-4e79-beea-d949b248ce17",
   "metadata": {},
   "outputs": [
    {
     "data": {
      "text/html": [
       "<div>\n",
       "<style scoped>\n",
       "    .dataframe tbody tr th:only-of-type {\n",
       "        vertical-align: middle;\n",
       "    }\n",
       "\n",
       "    .dataframe tbody tr th {\n",
       "        vertical-align: top;\n",
       "    }\n",
       "\n",
       "    .dataframe thead th {\n",
       "        text-align: right;\n",
       "    }\n",
       "</style>\n",
       "<table border=\"1\" class=\"dataframe\">\n",
       "  <thead>\n",
       "    <tr style=\"text-align: right;\">\n",
       "      <th></th>\n",
       "      <th>korean</th>\n",
       "      <th>english</th>\n",
       "    </tr>\n",
       "    <tr>\n",
       "      <th>name</th>\n",
       "      <th></th>\n",
       "      <th></th>\n",
       "    </tr>\n",
       "  </thead>\n",
       "  <tbody>\n",
       "    <tr>\n",
       "      <th>Kim</th>\n",
       "      <td>A</td>\n",
       "      <td>B</td>\n",
       "    </tr>\n",
       "    <tr>\n",
       "      <th>Yoon</th>\n",
       "      <td>A</td>\n",
       "      <td>A</td>\n",
       "    </tr>\n",
       "    <tr>\n",
       "      <th>Choi</th>\n",
       "      <td>A</td>\n",
       "      <td>NaN</td>\n",
       "    </tr>\n",
       "    <tr>\n",
       "      <th>Park</th>\n",
       "      <td>NaN</td>\n",
       "      <td>B</td>\n",
       "    </tr>\n",
       "  </tbody>\n",
       "</table>\n",
       "</div>"
      ],
      "text/plain": [
       "     korean english\n",
       "name               \n",
       "Kim       A       B\n",
       "Yoon      A       A\n",
       "Choi      A     NaN\n",
       "Park    NaN       B"
      ]
     },
     "execution_count": 233,
     "metadata": {},
     "output_type": "execute_result"
    }
   ],
   "source": [
    "df3 = df[df2]\n",
    "df3"
   ]
  },
  {
   "cell_type": "markdown",
   "id": "4503ed36-4d7a-40d1-a229-c2a1afd820fd",
   "metadata": {
    "tags": []
   },
   "source": [
    "### Accessor 를 사용"
   ]
  },
  {
   "cell_type": "markdown",
   "id": "037fa0b7-51e8-4443-8999-d11e3c478bcf",
   "metadata": {},
   "source": [
    "- https://pandas.pydata.org/docs/reference/series.html#accessors\n",
    "- datetime, object(str) dtype의 Series에 있는 Accessor\n",
    "    + datatime, timedelta : dt \n",
    "        - https://pandas.pydata.org/docs/reference/series.html#accessors\n",
    "    + object(str) : str \n",
    "        - https://pandas.pydata.org/docs/reference/series.html#string-handling"
   ]
  },
  {
   "cell_type": "code",
   "execution_count": 18,
   "id": "661c2ee6-2026-4d9f-82c3-ef4fd9137d56",
   "metadata": {},
   "outputs": [
    {
     "data": {
      "text/html": [
       "<div>\n",
       "<style scoped>\n",
       "    .dataframe tbody tr th:only-of-type {\n",
       "        vertical-align: middle;\n",
       "    }\n",
       "\n",
       "    .dataframe tbody tr th {\n",
       "        vertical-align: top;\n",
       "    }\n",
       "\n",
       "    .dataframe thead th {\n",
       "        text-align: right;\n",
       "    }\n",
       "</style>\n",
       "<table border=\"1\" class=\"dataframe\">\n",
       "  <thead>\n",
       "    <tr style=\"text-align: right;\">\n",
       "      <th></th>\n",
       "      <th>pname</th>\n",
       "      <th>birth</th>\n",
       "      <th>dept</th>\n",
       "      <th>english</th>\n",
       "      <th>japanese</th>\n",
       "      <th>chinese</th>\n",
       "      <th>salary</th>\n",
       "      <th>overtime</th>\n",
       "    </tr>\n",
       "  </thead>\n",
       "  <tbody>\n",
       "    <tr>\n",
       "      <th>0</th>\n",
       "      <td>James Kim</td>\n",
       "      <td>1990-01-23</td>\n",
       "      <td>Education</td>\n",
       "      <td>1</td>\n",
       "      <td>1</td>\n",
       "      <td>0</td>\n",
       "      <td>3456</td>\n",
       "      <td>0 days 23:10:10</td>\n",
       "    </tr>\n",
       "    <tr>\n",
       "      <th>1</th>\n",
       "      <td>Rose Hwang</td>\n",
       "      <td>1992-10-11</td>\n",
       "      <td>Marketing</td>\n",
       "      <td>0</td>\n",
       "      <td>2</td>\n",
       "      <td>0</td>\n",
       "      <td>4320</td>\n",
       "      <td>0 days 10:15:17</td>\n",
       "    </tr>\n",
       "    <tr>\n",
       "      <th>2</th>\n",
       "      <td>Sam Park</td>\n",
       "      <td>1995-07-02</td>\n",
       "      <td>Education</td>\n",
       "      <td>1</td>\n",
       "      <td>0</td>\n",
       "      <td>0</td>\n",
       "      <td>5600</td>\n",
       "      <td>0 days 16:21:10</td>\n",
       "    </tr>\n",
       "    <tr>\n",
       "      <th>3</th>\n",
       "      <td>Chris Jang</td>\n",
       "      <td>1990-11-23</td>\n",
       "      <td>Education</td>\n",
       "      <td>0</td>\n",
       "      <td>0</td>\n",
       "      <td>3</td>\n",
       "      <td>4500</td>\n",
       "      <td>0 days 15:00:20</td>\n",
       "    </tr>\n",
       "    <tr>\n",
       "      <th>4</th>\n",
       "      <td>Grace Lee</td>\n",
       "      <td>1993-02-01</td>\n",
       "      <td>Marketing</td>\n",
       "      <td>0</td>\n",
       "      <td>0</td>\n",
       "      <td>0</td>\n",
       "      <td>3150</td>\n",
       "      <td>0 days 21:19:50</td>\n",
       "    </tr>\n",
       "  </tbody>\n",
       "</table>\n",
       "</div>"
      ],
      "text/plain": [
       "        pname      birth       dept  english  japanese  chinese  salary  \\\n",
       "0   James Kim 1990-01-23  Education        1         1        0    3456   \n",
       "1  Rose Hwang 1992-10-11  Marketing        0         2        0    4320   \n",
       "2    Sam Park 1995-07-02  Education        1         0        0    5600   \n",
       "3  Chris Jang 1990-11-23  Education        0         0        3    4500   \n",
       "4   Grace Lee 1993-02-01  Marketing        0         0        0    3150   \n",
       "\n",
       "         overtime  \n",
       "0 0 days 23:10:10  \n",
       "1 0 days 10:15:17  \n",
       "2 0 days 16:21:10  \n",
       "3 0 days 15:00:20  \n",
       "4 0 days 21:19:50  "
      ]
     },
     "execution_count": 18,
     "metadata": {},
     "output_type": "execute_result"
    }
   ],
   "source": [
    "import pandas as pd\n",
    "import numpy as np\n",
    "import shelve\n",
    "\n",
    "with shelve.open('./data/mysample') as myshelf:\n",
    "    df = myshelf['sample3']\n",
    "\n",
    "df.index = pd.RangeIndex(len(df))\n",
    "df.head()"
   ]
  },
  {
   "cell_type": "code",
   "execution_count": 19,
   "id": "305497b8-ed01-4337-a894-2d49749ee27f",
   "metadata": {},
   "outputs": [
    {
     "name": "stdout",
     "output_type": "stream",
     "text": [
      "<class 'pandas.core.frame.DataFrame'>\n",
      "RangeIndex: 10 entries, 0 to 9\n",
      "Data columns (total 2 columns):\n",
      " #   Column  Non-Null Count  Dtype         \n",
      "---  ------  --------------  -----         \n",
      " 0   pname   10 non-null     object        \n",
      " 1   birth   10 non-null     datetime64[ns]\n",
      "dtypes: datetime64[ns](1), object(1)\n",
      "memory usage: 288.0+ bytes\n"
     ]
    }
   ],
   "source": [
    "df = df[['pname', 'birth']]\n",
    "df.info()"
   ]
  },
  {
   "cell_type": "code",
   "execution_count": 23,
   "id": "1ec34962-5805-4359-aa31-37bae43c72c5",
   "metadata": {},
   "outputs": [
    {
     "name": "stdout",
     "output_type": "stream",
     "text": [
      "<class 'pandas.core.frame.DataFrame'>\n",
      "RangeIndex: 10 entries, 0 to 9\n",
      "Data columns (total 3 columns):\n",
      " #   Column  Non-Null Count  Dtype         \n",
      "---  ------  --------------  -----         \n",
      " 0   pname   10 non-null     object        \n",
      " 1   birth   10 non-null     datetime64[ns]\n",
      " 2   year    10 non-null     int64         \n",
      "dtypes: datetime64[ns](1), int64(1), object(1)\n",
      "memory usage: 368.0+ bytes\n"
     ]
    }
   ],
   "source": [
    "sb = df['birth']\n",
    "df['year'] = sb.dt.year \n",
    "df.info()"
   ]
  },
  {
   "cell_type": "code",
   "execution_count": 28,
   "id": "65250342-e704-4e3d-b864-9529b82692b7",
   "metadata": {},
   "outputs": [
    {
     "data": {
      "text/html": [
       "<div>\n",
       "<style scoped>\n",
       "    .dataframe tbody tr th:only-of-type {\n",
       "        vertical-align: middle;\n",
       "    }\n",
       "\n",
       "    .dataframe tbody tr th {\n",
       "        vertical-align: top;\n",
       "    }\n",
       "\n",
       "    .dataframe thead th {\n",
       "        text-align: right;\n",
       "    }\n",
       "</style>\n",
       "<table border=\"1\" class=\"dataframe\">\n",
       "  <thead>\n",
       "    <tr style=\"text-align: right;\">\n",
       "      <th></th>\n",
       "      <th>pname</th>\n",
       "      <th>birth</th>\n",
       "      <th>year</th>\n",
       "    </tr>\n",
       "  </thead>\n",
       "  <tbody>\n",
       "    <tr>\n",
       "      <th>1</th>\n",
       "      <td>Rose Hwang</td>\n",
       "      <td>1992-10-11</td>\n",
       "      <td>1992</td>\n",
       "    </tr>\n",
       "    <tr>\n",
       "      <th>5</th>\n",
       "      <td>Juile Yoon</td>\n",
       "      <td>1992-07-16</td>\n",
       "      <td>1992</td>\n",
       "    </tr>\n",
       "    <tr>\n",
       "      <th>8</th>\n",
       "      <td>John Park</td>\n",
       "      <td>1992-06-16</td>\n",
       "      <td>1992</td>\n",
       "    </tr>\n",
       "  </tbody>\n",
       "</table>\n",
       "</div>"
      ],
      "text/plain": [
       "        pname      birth  year\n",
       "1  Rose Hwang 1992-10-11  1992\n",
       "5  Juile Yoon 1992-07-16  1992\n",
       "8   John Park 1992-06-16  1992"
      ]
     },
     "execution_count": 28,
     "metadata": {},
     "output_type": "execute_result"
    }
   ],
   "source": [
    "df2 = df[df.year == 1992]\n",
    "df2"
   ]
  },
  {
   "cell_type": "code",
   "execution_count": 34,
   "id": "7a66ae7f-f758-4089-a473-4340b89671e1",
   "metadata": {},
   "outputs": [
    {
     "data": {
      "text/html": [
       "<div>\n",
       "<style scoped>\n",
       "    .dataframe tbody tr th:only-of-type {\n",
       "        vertical-align: middle;\n",
       "    }\n",
       "\n",
       "    .dataframe tbody tr th {\n",
       "        vertical-align: top;\n",
       "    }\n",
       "\n",
       "    .dataframe thead th {\n",
       "        text-align: right;\n",
       "    }\n",
       "</style>\n",
       "<table border=\"1\" class=\"dataframe\">\n",
       "  <thead>\n",
       "    <tr style=\"text-align: right;\">\n",
       "      <th></th>\n",
       "      <th>year</th>\n",
       "      <th>month</th>\n",
       "      <th>day</th>\n",
       "      <th>weekday</th>\n",
       "      <th>dayofyear</th>\n",
       "    </tr>\n",
       "  </thead>\n",
       "  <tbody>\n",
       "    <tr>\n",
       "      <th>0</th>\n",
       "      <td>1990</td>\n",
       "      <td>1</td>\n",
       "      <td>23</td>\n",
       "      <td>1</td>\n",
       "      <td>23</td>\n",
       "    </tr>\n",
       "    <tr>\n",
       "      <th>1</th>\n",
       "      <td>1992</td>\n",
       "      <td>10</td>\n",
       "      <td>11</td>\n",
       "      <td>6</td>\n",
       "      <td>285</td>\n",
       "    </tr>\n",
       "    <tr>\n",
       "      <th>2</th>\n",
       "      <td>1995</td>\n",
       "      <td>7</td>\n",
       "      <td>2</td>\n",
       "      <td>6</td>\n",
       "      <td>183</td>\n",
       "    </tr>\n",
       "    <tr>\n",
       "      <th>3</th>\n",
       "      <td>1990</td>\n",
       "      <td>11</td>\n",
       "      <td>23</td>\n",
       "      <td>4</td>\n",
       "      <td>327</td>\n",
       "    </tr>\n",
       "    <tr>\n",
       "      <th>4</th>\n",
       "      <td>1993</td>\n",
       "      <td>2</td>\n",
       "      <td>1</td>\n",
       "      <td>0</td>\n",
       "      <td>32</td>\n",
       "    </tr>\n",
       "    <tr>\n",
       "      <th>5</th>\n",
       "      <td>1992</td>\n",
       "      <td>7</td>\n",
       "      <td>16</td>\n",
       "      <td>3</td>\n",
       "      <td>198</td>\n",
       "    </tr>\n",
       "    <tr>\n",
       "      <th>6</th>\n",
       "      <td>1993</td>\n",
       "      <td>4</td>\n",
       "      <td>11</td>\n",
       "      <td>6</td>\n",
       "      <td>101</td>\n",
       "    </tr>\n",
       "    <tr>\n",
       "      <th>7</th>\n",
       "      <td>1991</td>\n",
       "      <td>12</td>\n",
       "      <td>7</td>\n",
       "      <td>5</td>\n",
       "      <td>341</td>\n",
       "    </tr>\n",
       "    <tr>\n",
       "      <th>8</th>\n",
       "      <td>1992</td>\n",
       "      <td>6</td>\n",
       "      <td>16</td>\n",
       "      <td>1</td>\n",
       "      <td>168</td>\n",
       "    </tr>\n",
       "    <tr>\n",
       "      <th>9</th>\n",
       "      <td>1993</td>\n",
       "      <td>5</td>\n",
       "      <td>5</td>\n",
       "      <td>2</td>\n",
       "      <td>125</td>\n",
       "    </tr>\n",
       "  </tbody>\n",
       "</table>\n",
       "</div>"
      ],
      "text/plain": [
       "   year  month  day  weekday  dayofyear\n",
       "0  1990      1   23        1         23\n",
       "1  1992     10   11        6        285\n",
       "2  1995      7    2        6        183\n",
       "3  1990     11   23        4        327\n",
       "4  1993      2    1        0         32\n",
       "5  1992      7   16        3        198\n",
       "6  1993      4   11        6        101\n",
       "7  1991     12    7        5        341\n",
       "8  1992      6   16        1        168\n",
       "9  1993      5    5        2        125"
      ]
     },
     "metadata": {},
     "output_type": "display_data"
    },
    {
     "data": {
      "text/html": [
       "<div>\n",
       "<style scoped>\n",
       "    .dataframe tbody tr th:only-of-type {\n",
       "        vertical-align: middle;\n",
       "    }\n",
       "\n",
       "    .dataframe tbody tr th {\n",
       "        vertical-align: top;\n",
       "    }\n",
       "\n",
       "    .dataframe thead th {\n",
       "        text-align: right;\n",
       "    }\n",
       "</style>\n",
       "<table border=\"1\" class=\"dataframe\">\n",
       "  <thead>\n",
       "    <tr style=\"text-align: right;\">\n",
       "      <th></th>\n",
       "      <th>year</th>\n",
       "      <th>month</th>\n",
       "      <th>day</th>\n",
       "      <th>weekday</th>\n",
       "      <th>dayofyear</th>\n",
       "    </tr>\n",
       "    <tr>\n",
       "      <th>pname</th>\n",
       "      <th></th>\n",
       "      <th></th>\n",
       "      <th></th>\n",
       "      <th></th>\n",
       "      <th></th>\n",
       "    </tr>\n",
       "  </thead>\n",
       "  <tbody>\n",
       "    <tr>\n",
       "      <th>James Kim</th>\n",
       "      <td>1990</td>\n",
       "      <td>1</td>\n",
       "      <td>23</td>\n",
       "      <td>1</td>\n",
       "      <td>23</td>\n",
       "    </tr>\n",
       "    <tr>\n",
       "      <th>Rose Hwang</th>\n",
       "      <td>1992</td>\n",
       "      <td>10</td>\n",
       "      <td>11</td>\n",
       "      <td>6</td>\n",
       "      <td>285</td>\n",
       "    </tr>\n",
       "    <tr>\n",
       "      <th>Sam Park</th>\n",
       "      <td>1995</td>\n",
       "      <td>7</td>\n",
       "      <td>2</td>\n",
       "      <td>6</td>\n",
       "      <td>183</td>\n",
       "    </tr>\n",
       "    <tr>\n",
       "      <th>Chris Jang</th>\n",
       "      <td>1990</td>\n",
       "      <td>11</td>\n",
       "      <td>23</td>\n",
       "      <td>4</td>\n",
       "      <td>327</td>\n",
       "    </tr>\n",
       "    <tr>\n",
       "      <th>Grace Lee</th>\n",
       "      <td>1993</td>\n",
       "      <td>2</td>\n",
       "      <td>1</td>\n",
       "      <td>0</td>\n",
       "      <td>32</td>\n",
       "    </tr>\n",
       "    <tr>\n",
       "      <th>Juile Yoon</th>\n",
       "      <td>1992</td>\n",
       "      <td>7</td>\n",
       "      <td>16</td>\n",
       "      <td>3</td>\n",
       "      <td>198</td>\n",
       "    </tr>\n",
       "    <tr>\n",
       "      <th>Chirle Song</th>\n",
       "      <td>1993</td>\n",
       "      <td>4</td>\n",
       "      <td>11</td>\n",
       "      <td>6</td>\n",
       "      <td>101</td>\n",
       "    </tr>\n",
       "    <tr>\n",
       "      <th>Bob Kim</th>\n",
       "      <td>1991</td>\n",
       "      <td>12</td>\n",
       "      <td>7</td>\n",
       "      <td>5</td>\n",
       "      <td>341</td>\n",
       "    </tr>\n",
       "    <tr>\n",
       "      <th>John Park</th>\n",
       "      <td>1992</td>\n",
       "      <td>6</td>\n",
       "      <td>16</td>\n",
       "      <td>1</td>\n",
       "      <td>168</td>\n",
       "    </tr>\n",
       "    <tr>\n",
       "      <th>Anne Lee</th>\n",
       "      <td>1993</td>\n",
       "      <td>5</td>\n",
       "      <td>5</td>\n",
       "      <td>2</td>\n",
       "      <td>125</td>\n",
       "    </tr>\n",
       "  </tbody>\n",
       "</table>\n",
       "</div>"
      ],
      "text/plain": [
       "             year  month  day  weekday  dayofyear\n",
       "pname                                            \n",
       "James Kim    1990      1   23        1         23\n",
       "Rose Hwang   1992     10   11        6        285\n",
       "Sam Park     1995      7    2        6        183\n",
       "Chris Jang   1990     11   23        4        327\n",
       "Grace Lee    1993      2    1        0         32\n",
       "Juile Yoon   1992      7   16        3        198\n",
       "Chirle Song  1993      4   11        6        101\n",
       "Bob Kim      1991     12    7        5        341\n",
       "John Park    1992      6   16        1        168\n",
       "Anne Lee     1993      5    5        2        125"
      ]
     },
     "metadata": {},
     "output_type": "display_data"
    }
   ],
   "source": [
    "a = df.birth.dt\n",
    "mydata = { \"year\": a.year, \n",
    "           \"month\": a.month, \n",
    "           \"day\": a.day,\n",
    "           \"weekday\": a.weekday, \n",
    "           \"dayofyear\": a.dayofyear }\n",
    "\n",
    "# display(df.birth.dt.year)\n",
    "# df2 = pd.DataFrame(mydata, index=df['pname'])\n",
    "df2 = pd.DataFrame(mydata)\n",
    "display(df2)\n",
    "\n",
    "df2.index = df['pname']\n",
    "display(df2)"
   ]
  },
  {
   "cell_type": "code",
   "execution_count": 43,
   "id": "ccaf3be5-84c0-42bf-be5a-5d077afe54a8",
   "metadata": {},
   "outputs": [
    {
     "data": {
      "text/html": [
       "<div>\n",
       "<style scoped>\n",
       "    .dataframe tbody tr th:only-of-type {\n",
       "        vertical-align: middle;\n",
       "    }\n",
       "\n",
       "    .dataframe tbody tr th {\n",
       "        vertical-align: top;\n",
       "    }\n",
       "\n",
       "    .dataframe thead th {\n",
       "        text-align: right;\n",
       "    }\n",
       "</style>\n",
       "<table border=\"1\" class=\"dataframe\">\n",
       "  <thead>\n",
       "    <tr style=\"text-align: right;\">\n",
       "      <th></th>\n",
       "      <th>year</th>\n",
       "      <th>month</th>\n",
       "      <th>day</th>\n",
       "      <th>weekday</th>\n",
       "      <th>dayofyear</th>\n",
       "    </tr>\n",
       "    <tr>\n",
       "      <th>pname</th>\n",
       "      <th></th>\n",
       "      <th></th>\n",
       "      <th></th>\n",
       "      <th></th>\n",
       "      <th></th>\n",
       "    </tr>\n",
       "  </thead>\n",
       "  <tbody>\n",
       "    <tr>\n",
       "      <th>James Kim</th>\n",
       "      <td>1990</td>\n",
       "      <td>1</td>\n",
       "      <td>23</td>\n",
       "      <td>화</td>\n",
       "      <td>23</td>\n",
       "    </tr>\n",
       "    <tr>\n",
       "      <th>Rose Hwang</th>\n",
       "      <td>1992</td>\n",
       "      <td>10</td>\n",
       "      <td>11</td>\n",
       "      <td>일</td>\n",
       "      <td>285</td>\n",
       "    </tr>\n",
       "    <tr>\n",
       "      <th>Sam Park</th>\n",
       "      <td>1995</td>\n",
       "      <td>7</td>\n",
       "      <td>2</td>\n",
       "      <td>일</td>\n",
       "      <td>183</td>\n",
       "    </tr>\n",
       "    <tr>\n",
       "      <th>Chris Jang</th>\n",
       "      <td>1990</td>\n",
       "      <td>11</td>\n",
       "      <td>23</td>\n",
       "      <td>금</td>\n",
       "      <td>327</td>\n",
       "    </tr>\n",
       "    <tr>\n",
       "      <th>Grace Lee</th>\n",
       "      <td>1993</td>\n",
       "      <td>2</td>\n",
       "      <td>1</td>\n",
       "      <td>월</td>\n",
       "      <td>32</td>\n",
       "    </tr>\n",
       "    <tr>\n",
       "      <th>Juile Yoon</th>\n",
       "      <td>1992</td>\n",
       "      <td>7</td>\n",
       "      <td>16</td>\n",
       "      <td>목</td>\n",
       "      <td>198</td>\n",
       "    </tr>\n",
       "    <tr>\n",
       "      <th>Chirle Song</th>\n",
       "      <td>1993</td>\n",
       "      <td>4</td>\n",
       "      <td>11</td>\n",
       "      <td>일</td>\n",
       "      <td>101</td>\n",
       "    </tr>\n",
       "    <tr>\n",
       "      <th>Bob Kim</th>\n",
       "      <td>1991</td>\n",
       "      <td>12</td>\n",
       "      <td>7</td>\n",
       "      <td>토</td>\n",
       "      <td>341</td>\n",
       "    </tr>\n",
       "    <tr>\n",
       "      <th>John Park</th>\n",
       "      <td>1992</td>\n",
       "      <td>6</td>\n",
       "      <td>16</td>\n",
       "      <td>화</td>\n",
       "      <td>168</td>\n",
       "    </tr>\n",
       "    <tr>\n",
       "      <th>Anne Lee</th>\n",
       "      <td>1993</td>\n",
       "      <td>5</td>\n",
       "      <td>5</td>\n",
       "      <td>수</td>\n",
       "      <td>125</td>\n",
       "    </tr>\n",
       "  </tbody>\n",
       "</table>\n",
       "</div>"
      ],
      "text/plain": [
       "             year  month  day weekday  dayofyear\n",
       "pname                                           \n",
       "James Kim    1990      1   23       화         23\n",
       "Rose Hwang   1992     10   11       일        285\n",
       "Sam Park     1995      7    2       일        183\n",
       "Chris Jang   1990     11   23       금        327\n",
       "Grace Lee    1993      2    1       월         32\n",
       "Juile Yoon   1992      7   16       목        198\n",
       "Chirle Song  1993      4   11       일        101\n",
       "Bob Kim      1991     12    7       토        341\n",
       "John Park    1992      6   16       화        168\n",
       "Anne Lee     1993      5    5       수        125"
      ]
     },
     "execution_count": 43,
     "metadata": {},
     "output_type": "execute_result"
    }
   ],
   "source": [
    "wday = dict(zip(range(7), '월 화 수 목 금 토 일'.split()))\n",
    "\n",
    "df2['weekday'] = df2['weekday'].replace(wday)\n",
    "df2"
   ]
  },
  {
   "cell_type": "code",
   "execution_count": 49,
   "id": "a10f2e43-dbd5-4ce6-945f-8ca28805b5ad",
   "metadata": {},
   "outputs": [
    {
     "data": {
      "text/html": [
       "<div>\n",
       "<style scoped>\n",
       "    .dataframe tbody tr th:only-of-type {\n",
       "        vertical-align: middle;\n",
       "    }\n",
       "\n",
       "    .dataframe tbody tr th {\n",
       "        vertical-align: top;\n",
       "    }\n",
       "\n",
       "    .dataframe thead th {\n",
       "        text-align: right;\n",
       "    }\n",
       "</style>\n",
       "<table border=\"1\" class=\"dataframe\">\n",
       "  <thead>\n",
       "    <tr style=\"text-align: right;\">\n",
       "      <th></th>\n",
       "      <th>pname</th>\n",
       "      <th>overtime</th>\n",
       "    </tr>\n",
       "  </thead>\n",
       "  <tbody>\n",
       "    <tr>\n",
       "      <th>0</th>\n",
       "      <td>James Kim</td>\n",
       "      <td>0 days 23:10:10</td>\n",
       "    </tr>\n",
       "    <tr>\n",
       "      <th>1</th>\n",
       "      <td>Rose Hwang</td>\n",
       "      <td>0 days 10:15:17</td>\n",
       "    </tr>\n",
       "    <tr>\n",
       "      <th>2</th>\n",
       "      <td>Sam Park</td>\n",
       "      <td>0 days 16:21:10</td>\n",
       "    </tr>\n",
       "    <tr>\n",
       "      <th>3</th>\n",
       "      <td>Chris Jang</td>\n",
       "      <td>0 days 15:00:20</td>\n",
       "    </tr>\n",
       "    <tr>\n",
       "      <th>4</th>\n",
       "      <td>Grace Lee</td>\n",
       "      <td>0 days 21:19:50</td>\n",
       "    </tr>\n",
       "  </tbody>\n",
       "</table>\n",
       "</div>"
      ],
      "text/plain": [
       "        pname        overtime\n",
       "0   James Kim 0 days 23:10:10\n",
       "1  Rose Hwang 0 days 10:15:17\n",
       "2    Sam Park 0 days 16:21:10\n",
       "3  Chris Jang 0 days 15:00:20\n",
       "4   Grace Lee 0 days 21:19:50"
      ]
     },
     "execution_count": 49,
     "metadata": {},
     "output_type": "execute_result"
    }
   ],
   "source": [
    "import pandas as pd\n",
    "import numpy as np\n",
    "import shelve\n",
    "\n",
    "with shelve.open('./data/mysample') as myshelf:\n",
    "    df = myshelf['sample3']\n",
    "\n",
    "df.index = pd.RangeIndex(len(df))\n",
    "df = df[['pname', 'overtime']]\n",
    "df.head()"
   ]
  },
  {
   "cell_type": "code",
   "execution_count": 50,
   "id": "6ba2760f-73dd-49e3-8176-f5d8ba86e0a7",
   "metadata": {},
   "outputs": [
    {
     "name": "stdout",
     "output_type": "stream",
     "text": [
      "<class 'pandas.core.frame.DataFrame'>\n",
      "RangeIndex: 10 entries, 0 to 9\n",
      "Data columns (total 2 columns):\n",
      " #   Column    Non-Null Count  Dtype          \n",
      "---  ------    --------------  -----          \n",
      " 0   pname     10 non-null     object         \n",
      " 1   overtime  10 non-null     timedelta64[ns]\n",
      "dtypes: object(1), timedelta64[ns](1)\n",
      "memory usage: 288.0+ bytes\n"
     ]
    }
   ],
   "source": [
    "df.info()"
   ]
  },
  {
   "cell_type": "code",
   "execution_count": 54,
   "id": "f12cbff5-c3a5-4933-8809-6f0029360018",
   "metadata": {},
   "outputs": [
    {
     "data": {
      "text/html": [
       "<div>\n",
       "<style scoped>\n",
       "    .dataframe tbody tr th:only-of-type {\n",
       "        vertical-align: middle;\n",
       "    }\n",
       "\n",
       "    .dataframe tbody tr th {\n",
       "        vertical-align: top;\n",
       "    }\n",
       "\n",
       "    .dataframe thead th {\n",
       "        text-align: right;\n",
       "    }\n",
       "</style>\n",
       "<table border=\"1\" class=\"dataframe\">\n",
       "  <thead>\n",
       "    <tr style=\"text-align: right;\">\n",
       "      <th></th>\n",
       "      <th>pname</th>\n",
       "      <th>overtime</th>\n",
       "      <th>minute</th>\n",
       "      <th>second</th>\n",
       "      <th>hour</th>\n",
       "    </tr>\n",
       "  </thead>\n",
       "  <tbody>\n",
       "    <tr>\n",
       "      <th>0</th>\n",
       "      <td>James Kim</td>\n",
       "      <td>0 days 23:10:10</td>\n",
       "      <td>10</td>\n",
       "      <td>10</td>\n",
       "      <td>23</td>\n",
       "    </tr>\n",
       "    <tr>\n",
       "      <th>1</th>\n",
       "      <td>Rose Hwang</td>\n",
       "      <td>0 days 10:15:17</td>\n",
       "      <td>15</td>\n",
       "      <td>17</td>\n",
       "      <td>10</td>\n",
       "    </tr>\n",
       "    <tr>\n",
       "      <th>2</th>\n",
       "      <td>Sam Park</td>\n",
       "      <td>0 days 16:21:10</td>\n",
       "      <td>21</td>\n",
       "      <td>10</td>\n",
       "      <td>16</td>\n",
       "    </tr>\n",
       "    <tr>\n",
       "      <th>3</th>\n",
       "      <td>Chris Jang</td>\n",
       "      <td>0 days 15:00:20</td>\n",
       "      <td>0</td>\n",
       "      <td>20</td>\n",
       "      <td>15</td>\n",
       "    </tr>\n",
       "    <tr>\n",
       "      <th>4</th>\n",
       "      <td>Grace Lee</td>\n",
       "      <td>0 days 21:19:50</td>\n",
       "      <td>19</td>\n",
       "      <td>50</td>\n",
       "      <td>21</td>\n",
       "    </tr>\n",
       "  </tbody>\n",
       "</table>\n",
       "</div>"
      ],
      "text/plain": [
       "        pname        overtime  minute  second  hour\n",
       "0   James Kim 0 days 23:10:10      10      10    23\n",
       "1  Rose Hwang 0 days 10:15:17      15      17    10\n",
       "2    Sam Park 0 days 16:21:10      21      10    16\n",
       "3  Chris Jang 0 days 15:00:20       0      20    15\n",
       "4   Grace Lee 0 days 21:19:50      19      50    21"
      ]
     },
     "execution_count": 54,
     "metadata": {},
     "output_type": "execute_result"
    }
   ],
   "source": [
    "seconds = df.overtime.dt.seconds\n",
    "\n",
    "df['minute'], df['second'] = divmod(seconds, 60)\n",
    "df['hour'], df['minute'] = divmod(df['minute'], 60)\n",
    "\n",
    "df.head()"
   ]
  },
  {
   "cell_type": "code",
   "execution_count": 56,
   "id": "e308348c-e59f-4381-a493-36befce5a5f9",
   "metadata": {},
   "outputs": [
    {
     "data": {
      "text/html": [
       "<div>\n",
       "<style scoped>\n",
       "    .dataframe tbody tr th:only-of-type {\n",
       "        vertical-align: middle;\n",
       "    }\n",
       "\n",
       "    .dataframe tbody tr th {\n",
       "        vertical-align: top;\n",
       "    }\n",
       "\n",
       "    .dataframe thead th {\n",
       "        text-align: right;\n",
       "    }\n",
       "</style>\n",
       "<table border=\"1\" class=\"dataframe\">\n",
       "  <thead>\n",
       "    <tr style=\"text-align: right;\">\n",
       "      <th></th>\n",
       "      <th>pname</th>\n",
       "      <th>overtime</th>\n",
       "      <th>minute</th>\n",
       "      <th>second</th>\n",
       "      <th>hour</th>\n",
       "    </tr>\n",
       "  </thead>\n",
       "  <tbody>\n",
       "    <tr>\n",
       "      <th>0</th>\n",
       "      <td>James Kim</td>\n",
       "      <td>0 days 23:10:10</td>\n",
       "      <td>10</td>\n",
       "      <td>10</td>\n",
       "      <td>23</td>\n",
       "    </tr>\n",
       "    <tr>\n",
       "      <th>4</th>\n",
       "      <td>Grace Lee</td>\n",
       "      <td>0 days 21:19:50</td>\n",
       "      <td>19</td>\n",
       "      <td>50</td>\n",
       "      <td>21</td>\n",
       "    </tr>\n",
       "    <tr>\n",
       "      <th>9</th>\n",
       "      <td>Anne Lee</td>\n",
       "      <td>0 days 19:50:20</td>\n",
       "      <td>50</td>\n",
       "      <td>20</td>\n",
       "      <td>19</td>\n",
       "    </tr>\n",
       "  </tbody>\n",
       "</table>\n",
       "</div>"
      ],
      "text/plain": [
       "       pname        overtime  minute  second  hour\n",
       "0  James Kim 0 days 23:10:10      10      10    23\n",
       "4  Grace Lee 0 days 21:19:50      19      50    21\n",
       "9   Anne Lee 0 days 19:50:20      50      20    19"
      ]
     },
     "execution_count": 56,
     "metadata": {},
     "output_type": "execute_result"
    }
   ],
   "source": [
    "df[df['hour'] > 18]"
   ]
  },
  {
   "cell_type": "markdown",
   "id": "139ca390-90bc-4b10-834b-f36284c2c2d7",
   "metadata": {
    "tags": []
   },
   "source": [
    "## Multi-Axis Indexing"
   ]
  },
  {
   "cell_type": "markdown",
   "id": "9d0cd164-0aed-4292-9ac7-5e97e9a8ef22",
   "metadata": {},
   "source": [
    "- 축(axis)별로 indexer 를 사용하는 indexing qkdqjq\n",
    "- Multi-Axis Indexing 의 종류\n",
    "    + Selection by Label : `df.loc[label_indexer, label_indexer]`\n",
    "    + Selection by Position : `df.iloc[integer_indexer, integer_indexer]`\n",
    "- indexer\n",
    "    + single label/integer\n",
    "    + list/array of label/integer\n",
    "    + slice object of lable/integer\n",
    "    + boolean array"
   ]
  },
  {
   "cell_type": "markdown",
   "id": "4df76d01-4c6d-4e7f-be1e-5df5ccba55e6",
   "metadata": {},
   "source": [
    "### Selection by Label"
   ]
  },
  {
   "cell_type": "code",
   "execution_count": 57,
   "id": "2bb71416-c7a8-45bf-89a9-79a5f6c2c557",
   "metadata": {},
   "outputs": [],
   "source": [
    "import pandas as pd\n",
    "import numpy as np"
   ]
  },
  {
   "cell_type": "code",
   "execution_count": 59,
   "id": "5b1dbba9-fe2b-4202-b429-e1600596edab",
   "metadata": {},
   "outputs": [
    {
     "data": {
      "text/html": [
       "<div>\n",
       "<style scoped>\n",
       "    .dataframe tbody tr th:only-of-type {\n",
       "        vertical-align: middle;\n",
       "    }\n",
       "\n",
       "    .dataframe tbody tr th {\n",
       "        vertical-align: top;\n",
       "    }\n",
       "\n",
       "    .dataframe thead th {\n",
       "        text-align: right;\n",
       "    }\n",
       "</style>\n",
       "<table border=\"1\" class=\"dataframe\">\n",
       "  <thead>\n",
       "    <tr style=\"text-align: right;\">\n",
       "      <th></th>\n",
       "      <th>A</th>\n",
       "      <th>B</th>\n",
       "      <th>C</th>\n",
       "      <th>D</th>\n",
       "    </tr>\n",
       "  </thead>\n",
       "  <tbody>\n",
       "    <tr>\n",
       "      <th>a</th>\n",
       "      <td>0</td>\n",
       "      <td>1</td>\n",
       "      <td>2</td>\n",
       "      <td>3</td>\n",
       "    </tr>\n",
       "    <tr>\n",
       "      <th>b</th>\n",
       "      <td>4</td>\n",
       "      <td>5</td>\n",
       "      <td>6</td>\n",
       "      <td>7</td>\n",
       "    </tr>\n",
       "    <tr>\n",
       "      <th>c</th>\n",
       "      <td>8</td>\n",
       "      <td>9</td>\n",
       "      <td>10</td>\n",
       "      <td>11</td>\n",
       "    </tr>\n",
       "  </tbody>\n",
       "</table>\n",
       "</div>"
      ],
      "text/plain": [
       "   A  B   C   D\n",
       "a  0  1   2   3\n",
       "b  4  5   6   7\n",
       "c  8  9  10  11"
      ]
     },
     "execution_count": 59,
     "metadata": {},
     "output_type": "execute_result"
    }
   ],
   "source": [
    "df = pd.DataFrame(np.arange(12).reshape(3,4),\n",
    "                  index=list('abc'),\n",
    "                  columns=list('ABCD'))\n",
    "df"
   ]
  },
  {
   "cell_type": "code",
   "execution_count": 60,
   "id": "fc2ce9d4-f9bc-41fe-82dc-737c75c2195e",
   "metadata": {},
   "outputs": [
    {
     "data": {
      "text/plain": [
       "A    0\n",
       "B    1\n",
       "C    2\n",
       "D    3\n",
       "Name: a, dtype: int64"
      ]
     },
     "metadata": {},
     "output_type": "display_data"
    },
    {
     "data": {
      "text/plain": [
       "a    0\n",
       "b    4\n",
       "c    8\n",
       "Name: A, dtype: int64"
      ]
     },
     "metadata": {},
     "output_type": "display_data"
    },
    {
     "data": {
      "text/plain": [
       "2"
      ]
     },
     "metadata": {},
     "output_type": "display_data"
    }
   ],
   "source": [
    "df1 = df.loc['a']\n",
    "df2 = df.loc[:, 'A']\n",
    "df3 = df.loc['a', 'C']\n",
    "\n",
    "display(df1, df2, df3)"
   ]
  },
  {
   "cell_type": "code",
   "execution_count": 63,
   "id": "0bae889f-41f8-4bc1-8047-687fd4d57ad2",
   "metadata": {},
   "outputs": [
    {
     "data": {
      "text/html": [
       "<div>\n",
       "<style scoped>\n",
       "    .dataframe tbody tr th:only-of-type {\n",
       "        vertical-align: middle;\n",
       "    }\n",
       "\n",
       "    .dataframe tbody tr th {\n",
       "        vertical-align: top;\n",
       "    }\n",
       "\n",
       "    .dataframe thead th {\n",
       "        text-align: right;\n",
       "    }\n",
       "</style>\n",
       "<table border=\"1\" class=\"dataframe\">\n",
       "  <thead>\n",
       "    <tr style=\"text-align: right;\">\n",
       "      <th></th>\n",
       "      <th>C</th>\n",
       "      <th>B</th>\n",
       "      <th>C</th>\n",
       "      <th>D</th>\n",
       "    </tr>\n",
       "  </thead>\n",
       "  <tbody>\n",
       "    <tr>\n",
       "      <th>a</th>\n",
       "      <td>0</td>\n",
       "      <td>1</td>\n",
       "      <td>2</td>\n",
       "      <td>3</td>\n",
       "    </tr>\n",
       "    <tr>\n",
       "      <th>b</th>\n",
       "      <td>4</td>\n",
       "      <td>5</td>\n",
       "      <td>6</td>\n",
       "      <td>7</td>\n",
       "    </tr>\n",
       "    <tr>\n",
       "      <th>a</th>\n",
       "      <td>8</td>\n",
       "      <td>9</td>\n",
       "      <td>10</td>\n",
       "      <td>11</td>\n",
       "    </tr>\n",
       "  </tbody>\n",
       "</table>\n",
       "</div>"
      ],
      "text/plain": [
       "   C  B   C   D\n",
       "a  0  1   2   3\n",
       "b  4  5   6   7\n",
       "a  8  9  10  11"
      ]
     },
     "execution_count": 63,
     "metadata": {},
     "output_type": "execute_result"
    }
   ],
   "source": [
    "df = pd.DataFrame(np.arange(12).reshape(3,4),\n",
    "                 index=list('aba'),\n",
    "                 columns=list('CBCD'))\n",
    "df"
   ]
  },
  {
   "cell_type": "code",
   "execution_count": 64,
   "id": "d58098b5-ee84-4036-b3e4-45c86deff3fc",
   "metadata": {},
   "outputs": [
    {
     "data": {
      "text/html": [
       "<div>\n",
       "<style scoped>\n",
       "    .dataframe tbody tr th:only-of-type {\n",
       "        vertical-align: middle;\n",
       "    }\n",
       "\n",
       "    .dataframe tbody tr th {\n",
       "        vertical-align: top;\n",
       "    }\n",
       "\n",
       "    .dataframe thead th {\n",
       "        text-align: right;\n",
       "    }\n",
       "</style>\n",
       "<table border=\"1\" class=\"dataframe\">\n",
       "  <thead>\n",
       "    <tr style=\"text-align: right;\">\n",
       "      <th></th>\n",
       "      <th>C</th>\n",
       "      <th>B</th>\n",
       "      <th>C</th>\n",
       "      <th>D</th>\n",
       "    </tr>\n",
       "  </thead>\n",
       "  <tbody>\n",
       "    <tr>\n",
       "      <th>a</th>\n",
       "      <td>0</td>\n",
       "      <td>1</td>\n",
       "      <td>2</td>\n",
       "      <td>3</td>\n",
       "    </tr>\n",
       "    <tr>\n",
       "      <th>b</th>\n",
       "      <td>4</td>\n",
       "      <td>5</td>\n",
       "      <td>6</td>\n",
       "      <td>7</td>\n",
       "    </tr>\n",
       "    <tr>\n",
       "      <th>a</th>\n",
       "      <td>8</td>\n",
       "      <td>9</td>\n",
       "      <td>10</td>\n",
       "      <td>11</td>\n",
       "    </tr>\n",
       "  </tbody>\n",
       "</table>\n",
       "</div>"
      ],
      "text/plain": [
       "   C  B   C   D\n",
       "a  0  1   2   3\n",
       "b  4  5   6   7\n",
       "a  8  9  10  11"
      ]
     },
     "metadata": {},
     "output_type": "display_data"
    },
    {
     "data": {
      "text/html": [
       "<div>\n",
       "<style scoped>\n",
       "    .dataframe tbody tr th:only-of-type {\n",
       "        vertical-align: middle;\n",
       "    }\n",
       "\n",
       "    .dataframe tbody tr th {\n",
       "        vertical-align: top;\n",
       "    }\n",
       "\n",
       "    .dataframe thead th {\n",
       "        text-align: right;\n",
       "    }\n",
       "</style>\n",
       "<table border=\"1\" class=\"dataframe\">\n",
       "  <thead>\n",
       "    <tr style=\"text-align: right;\">\n",
       "      <th></th>\n",
       "      <th>C</th>\n",
       "      <th>B</th>\n",
       "      <th>C</th>\n",
       "      <th>D</th>\n",
       "    </tr>\n",
       "  </thead>\n",
       "  <tbody>\n",
       "    <tr>\n",
       "      <th>a</th>\n",
       "      <td>0</td>\n",
       "      <td>1</td>\n",
       "      <td>2</td>\n",
       "      <td>3</td>\n",
       "    </tr>\n",
       "    <tr>\n",
       "      <th>a</th>\n",
       "      <td>8</td>\n",
       "      <td>9</td>\n",
       "      <td>10</td>\n",
       "      <td>11</td>\n",
       "    </tr>\n",
       "  </tbody>\n",
       "</table>\n",
       "</div>"
      ],
      "text/plain": [
       "   C  B   C   D\n",
       "a  0  1   2   3\n",
       "a  8  9  10  11"
      ]
     },
     "metadata": {},
     "output_type": "display_data"
    },
    {
     "data": {
      "text/html": [
       "<div>\n",
       "<style scoped>\n",
       "    .dataframe tbody tr th:only-of-type {\n",
       "        vertical-align: middle;\n",
       "    }\n",
       "\n",
       "    .dataframe tbody tr th {\n",
       "        vertical-align: top;\n",
       "    }\n",
       "\n",
       "    .dataframe thead th {\n",
       "        text-align: right;\n",
       "    }\n",
       "</style>\n",
       "<table border=\"1\" class=\"dataframe\">\n",
       "  <thead>\n",
       "    <tr style=\"text-align: right;\">\n",
       "      <th></th>\n",
       "      <th>C</th>\n",
       "      <th>C</th>\n",
       "    </tr>\n",
       "  </thead>\n",
       "  <tbody>\n",
       "    <tr>\n",
       "      <th>a</th>\n",
       "      <td>0</td>\n",
       "      <td>2</td>\n",
       "    </tr>\n",
       "    <tr>\n",
       "      <th>a</th>\n",
       "      <td>8</td>\n",
       "      <td>10</td>\n",
       "    </tr>\n",
       "  </tbody>\n",
       "</table>\n",
       "</div>"
      ],
      "text/plain": [
       "   C   C\n",
       "a  0   2\n",
       "a  8  10"
      ]
     },
     "metadata": {},
     "output_type": "display_data"
    }
   ],
   "source": [
    "df1 = df.loc['a']\n",
    "df2 = df.loc['a', 'C']\n",
    "\n",
    "display(df, df1, df2)"
   ]
  },
  {
   "cell_type": "code",
   "execution_count": 65,
   "id": "29b1a1d5-0673-4276-b4d1-16a021d9cbd9",
   "metadata": {},
   "outputs": [
    {
     "data": {
      "text/html": [
       "<div>\n",
       "<style scoped>\n",
       "    .dataframe tbody tr th:only-of-type {\n",
       "        vertical-align: middle;\n",
       "    }\n",
       "\n",
       "    .dataframe tbody tr th {\n",
       "        vertical-align: top;\n",
       "    }\n",
       "\n",
       "    .dataframe thead th {\n",
       "        text-align: right;\n",
       "    }\n",
       "</style>\n",
       "<table border=\"1\" class=\"dataframe\">\n",
       "  <thead>\n",
       "    <tr style=\"text-align: right;\">\n",
       "      <th></th>\n",
       "      <th>A</th>\n",
       "      <th>B</th>\n",
       "      <th>C</th>\n",
       "      <th>D</th>\n",
       "    </tr>\n",
       "  </thead>\n",
       "  <tbody>\n",
       "    <tr>\n",
       "      <th>a</th>\n",
       "      <td>0</td>\n",
       "      <td>1</td>\n",
       "      <td>2</td>\n",
       "      <td>3</td>\n",
       "    </tr>\n",
       "    <tr>\n",
       "      <th>b</th>\n",
       "      <td>4</td>\n",
       "      <td>5</td>\n",
       "      <td>6</td>\n",
       "      <td>7</td>\n",
       "    </tr>\n",
       "    <tr>\n",
       "      <th>c</th>\n",
       "      <td>8</td>\n",
       "      <td>9</td>\n",
       "      <td>10</td>\n",
       "      <td>11</td>\n",
       "    </tr>\n",
       "  </tbody>\n",
       "</table>\n",
       "</div>"
      ],
      "text/plain": [
       "   A  B   C   D\n",
       "a  0  1   2   3\n",
       "b  4  5   6   7\n",
       "c  8  9  10  11"
      ]
     },
     "execution_count": 65,
     "metadata": {},
     "output_type": "execute_result"
    }
   ],
   "source": [
    "df = pd.DataFrame(np.arange(12).reshape(3,4),\n",
    "                 index=list('abc'),\n",
    "                 columns=list('ABCD'))\n",
    "df"
   ]
  },
  {
   "cell_type": "code",
   "execution_count": 66,
   "id": "61262092-5aed-424f-ae3f-889b1e17324c",
   "metadata": {},
   "outputs": [
    {
     "data": {
      "text/html": [
       "<div>\n",
       "<style scoped>\n",
       "    .dataframe tbody tr th:only-of-type {\n",
       "        vertical-align: middle;\n",
       "    }\n",
       "\n",
       "    .dataframe tbody tr th {\n",
       "        vertical-align: top;\n",
       "    }\n",
       "\n",
       "    .dataframe thead th {\n",
       "        text-align: right;\n",
       "    }\n",
       "</style>\n",
       "<table border=\"1\" class=\"dataframe\">\n",
       "  <thead>\n",
       "    <tr style=\"text-align: right;\">\n",
       "      <th></th>\n",
       "      <th>A</th>\n",
       "      <th>B</th>\n",
       "      <th>C</th>\n",
       "      <th>D</th>\n",
       "    </tr>\n",
       "  </thead>\n",
       "  <tbody>\n",
       "    <tr>\n",
       "      <th>a</th>\n",
       "      <td>0</td>\n",
       "      <td>1</td>\n",
       "      <td>2</td>\n",
       "      <td>3</td>\n",
       "    </tr>\n",
       "    <tr>\n",
       "      <th>b</th>\n",
       "      <td>4</td>\n",
       "      <td>5</td>\n",
       "      <td>6</td>\n",
       "      <td>7</td>\n",
       "    </tr>\n",
       "    <tr>\n",
       "      <th>c</th>\n",
       "      <td>8</td>\n",
       "      <td>9</td>\n",
       "      <td>10</td>\n",
       "      <td>11</td>\n",
       "    </tr>\n",
       "  </tbody>\n",
       "</table>\n",
       "</div>"
      ],
      "text/plain": [
       "   A  B   C   D\n",
       "a  0  1   2   3\n",
       "b  4  5   6   7\n",
       "c  8  9  10  11"
      ]
     },
     "metadata": {},
     "output_type": "display_data"
    },
    {
     "data": {
      "text/html": [
       "<div>\n",
       "<style scoped>\n",
       "    .dataframe tbody tr th:only-of-type {\n",
       "        vertical-align: middle;\n",
       "    }\n",
       "\n",
       "    .dataframe tbody tr th {\n",
       "        vertical-align: top;\n",
       "    }\n",
       "\n",
       "    .dataframe thead th {\n",
       "        text-align: right;\n",
       "    }\n",
       "</style>\n",
       "<table border=\"1\" class=\"dataframe\">\n",
       "  <thead>\n",
       "    <tr style=\"text-align: right;\">\n",
       "      <th></th>\n",
       "      <th>A</th>\n",
       "      <th>B</th>\n",
       "      <th>C</th>\n",
       "      <th>D</th>\n",
       "    </tr>\n",
       "  </thead>\n",
       "  <tbody>\n",
       "    <tr>\n",
       "      <th>a</th>\n",
       "      <td>0</td>\n",
       "      <td>1</td>\n",
       "      <td>2</td>\n",
       "      <td>3</td>\n",
       "    </tr>\n",
       "    <tr>\n",
       "      <th>b</th>\n",
       "      <td>4</td>\n",
       "      <td>5</td>\n",
       "      <td>6</td>\n",
       "      <td>7</td>\n",
       "    </tr>\n",
       "  </tbody>\n",
       "</table>\n",
       "</div>"
      ],
      "text/plain": [
       "   A  B  C  D\n",
       "a  0  1  2  3\n",
       "b  4  5  6  7"
      ]
     },
     "metadata": {},
     "output_type": "display_data"
    },
    {
     "data": {
      "text/html": [
       "<div>\n",
       "<style scoped>\n",
       "    .dataframe tbody tr th:only-of-type {\n",
       "        vertical-align: middle;\n",
       "    }\n",
       "\n",
       "    .dataframe tbody tr th {\n",
       "        vertical-align: top;\n",
       "    }\n",
       "\n",
       "    .dataframe thead th {\n",
       "        text-align: right;\n",
       "    }\n",
       "</style>\n",
       "<table border=\"1\" class=\"dataframe\">\n",
       "  <thead>\n",
       "    <tr style=\"text-align: right;\">\n",
       "      <th></th>\n",
       "      <th>A</th>\n",
       "      <th>B</th>\n",
       "    </tr>\n",
       "  </thead>\n",
       "  <tbody>\n",
       "    <tr>\n",
       "      <th>a</th>\n",
       "      <td>0</td>\n",
       "      <td>1</td>\n",
       "    </tr>\n",
       "    <tr>\n",
       "      <th>b</th>\n",
       "      <td>4</td>\n",
       "      <td>5</td>\n",
       "    </tr>\n",
       "    <tr>\n",
       "      <th>c</th>\n",
       "      <td>8</td>\n",
       "      <td>9</td>\n",
       "    </tr>\n",
       "  </tbody>\n",
       "</table>\n",
       "</div>"
      ],
      "text/plain": [
       "   A  B\n",
       "a  0  1\n",
       "b  4  5\n",
       "c  8  9"
      ]
     },
     "metadata": {},
     "output_type": "display_data"
    },
    {
     "data": {
      "text/html": [
       "<div>\n",
       "<style scoped>\n",
       "    .dataframe tbody tr th:only-of-type {\n",
       "        vertical-align: middle;\n",
       "    }\n",
       "\n",
       "    .dataframe tbody tr th {\n",
       "        vertical-align: top;\n",
       "    }\n",
       "\n",
       "    .dataframe thead th {\n",
       "        text-align: right;\n",
       "    }\n",
       "</style>\n",
       "<table border=\"1\" class=\"dataframe\">\n",
       "  <thead>\n",
       "    <tr style=\"text-align: right;\">\n",
       "      <th></th>\n",
       "      <th>A</th>\n",
       "      <th>B</th>\n",
       "      <th>D</th>\n",
       "    </tr>\n",
       "  </thead>\n",
       "  <tbody>\n",
       "    <tr>\n",
       "      <th>a</th>\n",
       "      <td>0</td>\n",
       "      <td>1</td>\n",
       "      <td>3</td>\n",
       "    </tr>\n",
       "    <tr>\n",
       "      <th>b</th>\n",
       "      <td>4</td>\n",
       "      <td>5</td>\n",
       "      <td>7</td>\n",
       "    </tr>\n",
       "  </tbody>\n",
       "</table>\n",
       "</div>"
      ],
      "text/plain": [
       "   A  B  D\n",
       "a  0  1  3\n",
       "b  4  5  7"
      ]
     },
     "metadata": {},
     "output_type": "display_data"
    }
   ],
   "source": [
    "df1 = df.loc[['a', 'b']]\n",
    "df2 = df.loc[:, ['A', 'B']]\n",
    "df3 = df.loc[['a', 'b'],['A','B','D']]\n",
    "\n",
    "display(df, df1, df2, df3)"
   ]
  },
  {
   "cell_type": "code",
   "execution_count": 67,
   "id": "11d61ddb-cd49-4357-8165-17bc01608a9d",
   "metadata": {},
   "outputs": [
    {
     "data": {
      "text/html": [
       "<div>\n",
       "<style scoped>\n",
       "    .dataframe tbody tr th:only-of-type {\n",
       "        vertical-align: middle;\n",
       "    }\n",
       "\n",
       "    .dataframe tbody tr th {\n",
       "        vertical-align: top;\n",
       "    }\n",
       "\n",
       "    .dataframe thead th {\n",
       "        text-align: right;\n",
       "    }\n",
       "</style>\n",
       "<table border=\"1\" class=\"dataframe\">\n",
       "  <thead>\n",
       "    <tr style=\"text-align: right;\">\n",
       "      <th></th>\n",
       "      <th>A</th>\n",
       "      <th>B</th>\n",
       "      <th>C</th>\n",
       "      <th>D</th>\n",
       "    </tr>\n",
       "  </thead>\n",
       "  <tbody>\n",
       "    <tr>\n",
       "      <th>a</th>\n",
       "      <td>4</td>\n",
       "      <td>5</td>\n",
       "      <td>6</td>\n",
       "      <td>7</td>\n",
       "    </tr>\n",
       "    <tr>\n",
       "      <th>b</th>\n",
       "      <td>0</td>\n",
       "      <td>1</td>\n",
       "      <td>2</td>\n",
       "      <td>3</td>\n",
       "    </tr>\n",
       "    <tr>\n",
       "      <th>b</th>\n",
       "      <td>8</td>\n",
       "      <td>9</td>\n",
       "      <td>10</td>\n",
       "      <td>11</td>\n",
       "    </tr>\n",
       "  </tbody>\n",
       "</table>\n",
       "</div>"
      ],
      "text/plain": [
       "   A  B   C   D\n",
       "a  4  5   6   7\n",
       "b  0  1   2   3\n",
       "b  8  9  10  11"
      ]
     },
     "execution_count": 67,
     "metadata": {},
     "output_type": "execute_result"
    }
   ],
   "source": [
    "df = pd.DataFrame(np.arange(12).reshape(3,4),\n",
    "                 index=list('bab'),\n",
    "                 columns=list('ABCD'))\n",
    "df.sort_index(axis='index', inplace=True)\n",
    "df"
   ]
  },
  {
   "cell_type": "code",
   "execution_count": 71,
   "id": "f37372c6-d582-4195-ae1f-963970aea9dd",
   "metadata": {},
   "outputs": [
    {
     "data": {
      "text/html": [
       "<div>\n",
       "<style scoped>\n",
       "    .dataframe tbody tr th:only-of-type {\n",
       "        vertical-align: middle;\n",
       "    }\n",
       "\n",
       "    .dataframe tbody tr th {\n",
       "        vertical-align: top;\n",
       "    }\n",
       "\n",
       "    .dataframe thead th {\n",
       "        text-align: right;\n",
       "    }\n",
       "</style>\n",
       "<table border=\"1\" class=\"dataframe\">\n",
       "  <thead>\n",
       "    <tr style=\"text-align: right;\">\n",
       "      <th></th>\n",
       "      <th>A</th>\n",
       "      <th>B</th>\n",
       "      <th>C</th>\n",
       "      <th>D</th>\n",
       "    </tr>\n",
       "  </thead>\n",
       "  <tbody>\n",
       "    <tr>\n",
       "      <th>a</th>\n",
       "      <td>4</td>\n",
       "      <td>5</td>\n",
       "      <td>6</td>\n",
       "      <td>7</td>\n",
       "    </tr>\n",
       "    <tr>\n",
       "      <th>b</th>\n",
       "      <td>0</td>\n",
       "      <td>1</td>\n",
       "      <td>2</td>\n",
       "      <td>3</td>\n",
       "    </tr>\n",
       "    <tr>\n",
       "      <th>b</th>\n",
       "      <td>8</td>\n",
       "      <td>9</td>\n",
       "      <td>10</td>\n",
       "      <td>11</td>\n",
       "    </tr>\n",
       "  </tbody>\n",
       "</table>\n",
       "</div>"
      ],
      "text/plain": [
       "   A  B   C   D\n",
       "a  4  5   6   7\n",
       "b  0  1   2   3\n",
       "b  8  9  10  11"
      ]
     },
     "metadata": {},
     "output_type": "display_data"
    },
    {
     "data": {
      "text/html": [
       "<div>\n",
       "<style scoped>\n",
       "    .dataframe tbody tr th:only-of-type {\n",
       "        vertical-align: middle;\n",
       "    }\n",
       "\n",
       "    .dataframe tbody tr th {\n",
       "        vertical-align: top;\n",
       "    }\n",
       "\n",
       "    .dataframe thead th {\n",
       "        text-align: right;\n",
       "    }\n",
       "</style>\n",
       "<table border=\"1\" class=\"dataframe\">\n",
       "  <thead>\n",
       "    <tr style=\"text-align: right;\">\n",
       "      <th></th>\n",
       "      <th>A</th>\n",
       "      <th>B</th>\n",
       "      <th>C</th>\n",
       "      <th>D</th>\n",
       "    </tr>\n",
       "  </thead>\n",
       "  <tbody>\n",
       "    <tr>\n",
       "      <th>a</th>\n",
       "      <td>4</td>\n",
       "      <td>5</td>\n",
       "      <td>6</td>\n",
       "      <td>7</td>\n",
       "    </tr>\n",
       "  </tbody>\n",
       "</table>\n",
       "</div>"
      ],
      "text/plain": [
       "   A  B  C  D\n",
       "a  4  5  6  7"
      ]
     },
     "metadata": {},
     "output_type": "display_data"
    },
    {
     "data": {
      "text/html": [
       "<div>\n",
       "<style scoped>\n",
       "    .dataframe tbody tr th:only-of-type {\n",
       "        vertical-align: middle;\n",
       "    }\n",
       "\n",
       "    .dataframe tbody tr th {\n",
       "        vertical-align: top;\n",
       "    }\n",
       "\n",
       "    .dataframe thead th {\n",
       "        text-align: right;\n",
       "    }\n",
       "</style>\n",
       "<table border=\"1\" class=\"dataframe\">\n",
       "  <thead>\n",
       "    <tr style=\"text-align: right;\">\n",
       "      <th></th>\n",
       "      <th>A</th>\n",
       "      <th>B</th>\n",
       "    </tr>\n",
       "  </thead>\n",
       "  <tbody>\n",
       "    <tr>\n",
       "      <th>a</th>\n",
       "      <td>4</td>\n",
       "      <td>5</td>\n",
       "    </tr>\n",
       "    <tr>\n",
       "      <th>b</th>\n",
       "      <td>0</td>\n",
       "      <td>1</td>\n",
       "    </tr>\n",
       "    <tr>\n",
       "      <th>b</th>\n",
       "      <td>8</td>\n",
       "      <td>9</td>\n",
       "    </tr>\n",
       "  </tbody>\n",
       "</table>\n",
       "</div>"
      ],
      "text/plain": [
       "   A  B\n",
       "a  4  5\n",
       "b  0  1\n",
       "b  8  9"
      ]
     },
     "metadata": {},
     "output_type": "display_data"
    },
    {
     "data": {
      "text/html": [
       "<div>\n",
       "<style scoped>\n",
       "    .dataframe tbody tr th:only-of-type {\n",
       "        vertical-align: middle;\n",
       "    }\n",
       "\n",
       "    .dataframe tbody tr th {\n",
       "        vertical-align: top;\n",
       "    }\n",
       "\n",
       "    .dataframe thead th {\n",
       "        text-align: right;\n",
       "    }\n",
       "</style>\n",
       "<table border=\"1\" class=\"dataframe\">\n",
       "  <thead>\n",
       "    <tr style=\"text-align: right;\">\n",
       "      <th></th>\n",
       "      <th>B</th>\n",
       "      <th>C</th>\n",
       "      <th>D</th>\n",
       "    </tr>\n",
       "  </thead>\n",
       "  <tbody>\n",
       "    <tr>\n",
       "      <th>a</th>\n",
       "      <td>5</td>\n",
       "      <td>6</td>\n",
       "      <td>7</td>\n",
       "    </tr>\n",
       "    <tr>\n",
       "      <th>b</th>\n",
       "      <td>1</td>\n",
       "      <td>2</td>\n",
       "      <td>3</td>\n",
       "    </tr>\n",
       "    <tr>\n",
       "      <th>b</th>\n",
       "      <td>9</td>\n",
       "      <td>10</td>\n",
       "      <td>11</td>\n",
       "    </tr>\n",
       "  </tbody>\n",
       "</table>\n",
       "</div>"
      ],
      "text/plain": [
       "   B   C   D\n",
       "a  5   6   7\n",
       "b  1   2   3\n",
       "b  9  10  11"
      ]
     },
     "metadata": {},
     "output_type": "display_data"
    }
   ],
   "source": [
    "df1 = df.loc[:'a']\n",
    "df2 = df.loc[:'b', 'A':'B']\n",
    "df3 = df.loc[:, 'B':'E']\n",
    "\n",
    "display(df, df1, df2, df3)"
   ]
  },
  {
   "cell_type": "markdown",
   "id": "3ea70b70-0099-40e4-bd7e-d7635ddcb718",
   "metadata": {},
   "source": [
    "### category, datetime, timedelta 타입에 대한 indexing"
   ]
  },
  {
   "cell_type": "markdown",
   "id": "79a3ca6b-b860-4d2d-8c44-39317f7c8bd6",
   "metadata": {},
   "source": [
    "- categorical 인 경우 범위 내의 값만 slicing 시 지정하여야 함 -> key error 발생\n",
    "    + 또한 정렬 처리할 것을 권장\n",
    "- datetime : 구분 기호 없이 문자열로 취급\n",
    "- timedelta : ':'로 구분하여 문자열로 표기"
   ]
  },
  {
   "cell_type": "code",
   "execution_count": 72,
   "id": "2afdedb9-039f-4508-937d-0e589a2c4812",
   "metadata": {},
   "outputs": [
    {
     "data": {
      "text/html": [
       "<div>\n",
       "<style scoped>\n",
       "    .dataframe tbody tr th:only-of-type {\n",
       "        vertical-align: middle;\n",
       "    }\n",
       "\n",
       "    .dataframe tbody tr th {\n",
       "        vertical-align: top;\n",
       "    }\n",
       "\n",
       "    .dataframe thead th {\n",
       "        text-align: right;\n",
       "    }\n",
       "</style>\n",
       "<table border=\"1\" class=\"dataframe\">\n",
       "  <thead>\n",
       "    <tr style=\"text-align: right;\">\n",
       "      <th></th>\n",
       "      <th>C</th>\n",
       "      <th>B</th>\n",
       "      <th>C</th>\n",
       "      <th>D</th>\n",
       "    </tr>\n",
       "  </thead>\n",
       "  <tbody>\n",
       "    <tr>\n",
       "      <th>a</th>\n",
       "      <td>0</td>\n",
       "      <td>1</td>\n",
       "      <td>2</td>\n",
       "      <td>3</td>\n",
       "    </tr>\n",
       "    <tr>\n",
       "      <th>b</th>\n",
       "      <td>4</td>\n",
       "      <td>5</td>\n",
       "      <td>6</td>\n",
       "      <td>7</td>\n",
       "    </tr>\n",
       "    <tr>\n",
       "      <th>c</th>\n",
       "      <td>8</td>\n",
       "      <td>9</td>\n",
       "      <td>10</td>\n",
       "      <td>11</td>\n",
       "    </tr>\n",
       "  </tbody>\n",
       "</table>\n",
       "</div>"
      ],
      "text/plain": [
       "   C  B   C   D\n",
       "a  0  1   2   3\n",
       "b  4  5   6   7\n",
       "c  8  9  10  11"
      ]
     },
     "execution_count": 72,
     "metadata": {},
     "output_type": "execute_result"
    }
   ],
   "source": [
    "df = pd.DataFrame(np.arange(12).reshape(3,4),\n",
    "                 index=pd.Categorical(list('abc')),\n",
    "                 columns=list('CBCD'))\n",
    "df"
   ]
  },
  {
   "cell_type": "code",
   "execution_count": 73,
   "id": "dc42de96-8759-423a-86ff-36b14a776621",
   "metadata": {},
   "outputs": [
    {
     "name": "stdout",
     "output_type": "stream",
     "text": [
      "<class 'pandas.core.frame.DataFrame'>\n",
      "CategoricalIndex: 3 entries, a to c\n",
      "Data columns (total 4 columns):\n",
      " #   Column  Non-Null Count  Dtype\n",
      "---  ------  --------------  -----\n",
      " 0   C       3 non-null      int64\n",
      " 1   B       3 non-null      int64\n",
      " 2   C       3 non-null      int64\n",
      " 3   D       3 non-null      int64\n",
      "dtypes: int64(4)\n",
      "memory usage: 231.0 bytes\n"
     ]
    }
   ],
   "source": [
    "df.info()"
   ]
  },
  {
   "cell_type": "code",
   "execution_count": 77,
   "id": "18c32130-b2d6-48a8-8e5f-9a72e6038a71",
   "metadata": {},
   "outputs": [
    {
     "data": {
      "text/html": [
       "<div>\n",
       "<style scoped>\n",
       "    .dataframe tbody tr th:only-of-type {\n",
       "        vertical-align: middle;\n",
       "    }\n",
       "\n",
       "    .dataframe tbody tr th {\n",
       "        vertical-align: top;\n",
       "    }\n",
       "\n",
       "    .dataframe thead th {\n",
       "        text-align: right;\n",
       "    }\n",
       "</style>\n",
       "<table border=\"1\" class=\"dataframe\">\n",
       "  <thead>\n",
       "    <tr style=\"text-align: right;\">\n",
       "      <th></th>\n",
       "      <th>C</th>\n",
       "      <th>C</th>\n",
       "      <th>D</th>\n",
       "    </tr>\n",
       "  </thead>\n",
       "  <tbody>\n",
       "    <tr>\n",
       "      <th>b</th>\n",
       "      <td>4</td>\n",
       "      <td>6</td>\n",
       "      <td>7</td>\n",
       "    </tr>\n",
       "  </tbody>\n",
       "</table>\n",
       "</div>"
      ],
      "text/plain": [
       "   C  C  D\n",
       "b  4  6  7"
      ]
     },
     "execution_count": 77,
     "metadata": {},
     "output_type": "execute_result"
    }
   ],
   "source": [
    "df1 = df.loc[['b'], ['C', 'D']]\n",
    "df1"
   ]
  },
  {
   "cell_type": "code",
   "execution_count": 80,
   "id": "24c46210-314e-418f-8132-246590c86937",
   "metadata": {},
   "outputs": [],
   "source": [
    "# df2 = df.loc['b':'d']\n",
    "# df.loc[:, 'C':'F']"
   ]
  },
  {
   "cell_type": "code",
   "execution_count": 82,
   "id": "458cb0a5-6530-4ba3-9a72-be8dcfbe823a",
   "metadata": {},
   "outputs": [
    {
     "data": {
      "text/html": [
       "<div>\n",
       "<style scoped>\n",
       "    .dataframe tbody tr th:only-of-type {\n",
       "        vertical-align: middle;\n",
       "    }\n",
       "\n",
       "    .dataframe tbody tr th {\n",
       "        vertical-align: top;\n",
       "    }\n",
       "\n",
       "    .dataframe thead th {\n",
       "        text-align: right;\n",
       "    }\n",
       "</style>\n",
       "<table border=\"1\" class=\"dataframe\">\n",
       "  <thead>\n",
       "    <tr style=\"text-align: right;\">\n",
       "      <th></th>\n",
       "      <th>A</th>\n",
       "      <th>B</th>\n",
       "      <th>C</th>\n",
       "    </tr>\n",
       "  </thead>\n",
       "  <tbody>\n",
       "    <tr>\n",
       "      <th>2023-01-04</th>\n",
       "      <td>6</td>\n",
       "      <td>7</td>\n",
       "      <td>8</td>\n",
       "    </tr>\n",
       "    <tr>\n",
       "      <th>2023-01-05</th>\n",
       "      <td>9</td>\n",
       "      <td>10</td>\n",
       "      <td>11</td>\n",
       "    </tr>\n",
       "    <tr>\n",
       "      <th>2023-01-06</th>\n",
       "      <td>3</td>\n",
       "      <td>4</td>\n",
       "      <td>5</td>\n",
       "    </tr>\n",
       "    <tr>\n",
       "      <th>2023-01-07</th>\n",
       "      <td>0</td>\n",
       "      <td>1</td>\n",
       "      <td>2</td>\n",
       "    </tr>\n",
       "    <tr>\n",
       "      <th>2023-01-08</th>\n",
       "      <td>12</td>\n",
       "      <td>13</td>\n",
       "      <td>14</td>\n",
       "    </tr>\n",
       "  </tbody>\n",
       "</table>\n",
       "</div>"
      ],
      "text/plain": [
       "             A   B   C\n",
       "2023-01-04   6   7   8\n",
       "2023-01-05   9  10  11\n",
       "2023-01-06   3   4   5\n",
       "2023-01-07   0   1   2\n",
       "2023-01-08  12  13  14"
      ]
     },
     "execution_count": 82,
     "metadata": {},
     "output_type": "execute_result"
    }
   ],
   "source": [
    "df = pd.DataFrame(np.arange(15).reshape(5,3), \n",
    "                 index=pd.to_datetime([4,3,1,2,5], unit='D', origin=pd.Timestamp('2023-01-03')),\n",
    "                 columns=list('ABC'))\n",
    "df = df.sort_index(axis=0)\n",
    "df"
   ]
  },
  {
   "cell_type": "code",
   "execution_count": 84,
   "id": "dfbf304e-29b2-4d7c-a242-4985215b37d1",
   "metadata": {
    "collapsed": true,
    "jupyter": {
     "outputs_hidden": true
    },
    "tags": []
   },
   "outputs": [
    {
     "data": {
      "text/html": [
       "<div>\n",
       "<style scoped>\n",
       "    .dataframe tbody tr th:only-of-type {\n",
       "        vertical-align: middle;\n",
       "    }\n",
       "\n",
       "    .dataframe tbody tr th {\n",
       "        vertical-align: top;\n",
       "    }\n",
       "\n",
       "    .dataframe thead th {\n",
       "        text-align: right;\n",
       "    }\n",
       "</style>\n",
       "<table border=\"1\" class=\"dataframe\">\n",
       "  <thead>\n",
       "    <tr style=\"text-align: right;\">\n",
       "      <th></th>\n",
       "      <th>B</th>\n",
       "      <th>C</th>\n",
       "    </tr>\n",
       "  </thead>\n",
       "  <tbody>\n",
       "    <tr>\n",
       "      <th>2023-01-04</th>\n",
       "      <td>7</td>\n",
       "      <td>8</td>\n",
       "    </tr>\n",
       "    <tr>\n",
       "      <th>2023-01-05</th>\n",
       "      <td>10</td>\n",
       "      <td>11</td>\n",
       "    </tr>\n",
       "    <tr>\n",
       "      <th>2023-01-06</th>\n",
       "      <td>4</td>\n",
       "      <td>5</td>\n",
       "    </tr>\n",
       "  </tbody>\n",
       "</table>\n",
       "</div>"
      ],
      "text/plain": [
       "             B   C\n",
       "2023-01-04   7   8\n",
       "2023-01-05  10  11\n",
       "2023-01-06   4   5"
      ]
     },
     "metadata": {},
     "output_type": "display_data"
    },
    {
     "data": {
      "text/html": [
       "<div>\n",
       "<style scoped>\n",
       "    .dataframe tbody tr th:only-of-type {\n",
       "        vertical-align: middle;\n",
       "    }\n",
       "\n",
       "    .dataframe tbody tr th {\n",
       "        vertical-align: top;\n",
       "    }\n",
       "\n",
       "    .dataframe thead th {\n",
       "        text-align: right;\n",
       "    }\n",
       "</style>\n",
       "<table border=\"1\" class=\"dataframe\">\n",
       "  <thead>\n",
       "    <tr style=\"text-align: right;\">\n",
       "      <th></th>\n",
       "      <th>A</th>\n",
       "      <th>B</th>\n",
       "      <th>C</th>\n",
       "    </tr>\n",
       "  </thead>\n",
       "  <tbody>\n",
       "    <tr>\n",
       "      <th>2023-01-05</th>\n",
       "      <td>9</td>\n",
       "      <td>10</td>\n",
       "      <td>11</td>\n",
       "    </tr>\n",
       "    <tr>\n",
       "      <th>2023-01-06</th>\n",
       "      <td>3</td>\n",
       "      <td>4</td>\n",
       "      <td>5</td>\n",
       "    </tr>\n",
       "    <tr>\n",
       "      <th>2023-01-07</th>\n",
       "      <td>0</td>\n",
       "      <td>1</td>\n",
       "      <td>2</td>\n",
       "    </tr>\n",
       "    <tr>\n",
       "      <th>2023-01-08</th>\n",
       "      <td>12</td>\n",
       "      <td>13</td>\n",
       "      <td>14</td>\n",
       "    </tr>\n",
       "  </tbody>\n",
       "</table>\n",
       "</div>"
      ],
      "text/plain": [
       "             A   B   C\n",
       "2023-01-05   9  10  11\n",
       "2023-01-06   3   4   5\n",
       "2023-01-07   0   1   2\n",
       "2023-01-08  12  13  14"
      ]
     },
     "metadata": {},
     "output_type": "display_data"
    }
   ],
   "source": [
    "df1 = df.loc['20230104':'20230106', 'B':'C']\n",
    "df2 = df.loc['20230105':'20230110']\n",
    "\n",
    "display(df1, df2)"
   ]
  },
  {
   "cell_type": "code",
   "execution_count": 86,
   "id": "2c1717c0-298c-4802-ad6c-e2e4f7b76d0a",
   "metadata": {},
   "outputs": [
    {
     "data": {
      "text/html": [
       "<div>\n",
       "<style scoped>\n",
       "    .dataframe tbody tr th:only-of-type {\n",
       "        vertical-align: middle;\n",
       "    }\n",
       "\n",
       "    .dataframe tbody tr th {\n",
       "        vertical-align: top;\n",
       "    }\n",
       "\n",
       "    .dataframe thead th {\n",
       "        text-align: right;\n",
       "    }\n",
       "</style>\n",
       "<table border=\"1\" class=\"dataframe\">\n",
       "  <thead>\n",
       "    <tr style=\"text-align: right;\">\n",
       "      <th></th>\n",
       "      <th>A</th>\n",
       "      <th>B</th>\n",
       "      <th>C</th>\n",
       "    </tr>\n",
       "  </thead>\n",
       "  <tbody>\n",
       "    <tr>\n",
       "      <th>0 days 00:16:40</th>\n",
       "      <td>0</td>\n",
       "      <td>1</td>\n",
       "      <td>2</td>\n",
       "    </tr>\n",
       "    <tr>\n",
       "      <th>0 days 00:33:20</th>\n",
       "      <td>3</td>\n",
       "      <td>4</td>\n",
       "      <td>5</td>\n",
       "    </tr>\n",
       "    <tr>\n",
       "      <th>0 days 00:50:00</th>\n",
       "      <td>6</td>\n",
       "      <td>7</td>\n",
       "      <td>8</td>\n",
       "    </tr>\n",
       "    <tr>\n",
       "      <th>0 days 01:06:40</th>\n",
       "      <td>9</td>\n",
       "      <td>10</td>\n",
       "      <td>11</td>\n",
       "    </tr>\n",
       "    <tr>\n",
       "      <th>0 days 01:23:20</th>\n",
       "      <td>12</td>\n",
       "      <td>13</td>\n",
       "      <td>14</td>\n",
       "    </tr>\n",
       "    <tr>\n",
       "      <th>0 days 01:40:00</th>\n",
       "      <td>15</td>\n",
       "      <td>16</td>\n",
       "      <td>17</td>\n",
       "    </tr>\n",
       "  </tbody>\n",
       "</table>\n",
       "</div>"
      ],
      "text/plain": [
       "                  A   B   C\n",
       "0 days 00:16:40   0   1   2\n",
       "0 days 00:33:20   3   4   5\n",
       "0 days 00:50:00   6   7   8\n",
       "0 days 01:06:40   9  10  11\n",
       "0 days 01:23:20  12  13  14\n",
       "0 days 01:40:00  15  16  17"
      ]
     },
     "execution_count": 86,
     "metadata": {},
     "output_type": "execute_result"
    }
   ],
   "source": [
    "np.random.seed(100)\n",
    "time = np.arange(1, 7) * 1000\n",
    "df = pd.DataFrame(np.arange(18).reshape(6,3),\n",
    "                 index=pd.to_timedelta(time, unit='s'),\n",
    "                 columns=list('ABC'))\n",
    "df"
   ]
  },
  {
   "cell_type": "code",
   "execution_count": 88,
   "id": "ba9dfe18-624a-4872-b5d7-f1ec42ffe58d",
   "metadata": {},
   "outputs": [
    {
     "data": {
      "text/html": [
       "<div>\n",
       "<style scoped>\n",
       "    .dataframe tbody tr th:only-of-type {\n",
       "        vertical-align: middle;\n",
       "    }\n",
       "\n",
       "    .dataframe tbody tr th {\n",
       "        vertical-align: top;\n",
       "    }\n",
       "\n",
       "    .dataframe thead th {\n",
       "        text-align: right;\n",
       "    }\n",
       "</style>\n",
       "<table border=\"1\" class=\"dataframe\">\n",
       "  <thead>\n",
       "    <tr style=\"text-align: right;\">\n",
       "      <th></th>\n",
       "      <th>A</th>\n",
       "      <th>B</th>\n",
       "      <th>C</th>\n",
       "    </tr>\n",
       "  </thead>\n",
       "  <tbody>\n",
       "    <tr>\n",
       "      <th>0 days 00:16:40</th>\n",
       "      <td>0</td>\n",
       "      <td>1</td>\n",
       "      <td>2</td>\n",
       "    </tr>\n",
       "    <tr>\n",
       "      <th>0 days 00:33:20</th>\n",
       "      <td>3</td>\n",
       "      <td>4</td>\n",
       "      <td>5</td>\n",
       "    </tr>\n",
       "    <tr>\n",
       "      <th>0 days 00:50:00</th>\n",
       "      <td>6</td>\n",
       "      <td>7</td>\n",
       "      <td>8</td>\n",
       "    </tr>\n",
       "    <tr>\n",
       "      <th>0 days 01:06:40</th>\n",
       "      <td>9</td>\n",
       "      <td>10</td>\n",
       "      <td>11</td>\n",
       "    </tr>\n",
       "    <tr>\n",
       "      <th>0 days 01:23:20</th>\n",
       "      <td>12</td>\n",
       "      <td>13</td>\n",
       "      <td>14</td>\n",
       "    </tr>\n",
       "    <tr>\n",
       "      <th>0 days 01:40:00</th>\n",
       "      <td>15</td>\n",
       "      <td>16</td>\n",
       "      <td>17</td>\n",
       "    </tr>\n",
       "  </tbody>\n",
       "</table>\n",
       "</div>"
      ],
      "text/plain": [
       "                  A   B   C\n",
       "0 days 00:16:40   0   1   2\n",
       "0 days 00:33:20   3   4   5\n",
       "0 days 00:50:00   6   7   8\n",
       "0 days 01:06:40   9  10  11\n",
       "0 days 01:23:20  12  13  14\n",
       "0 days 01:40:00  15  16  17"
      ]
     },
     "metadata": {},
     "output_type": "display_data"
    },
    {
     "data": {
      "text/html": [
       "<div>\n",
       "<style scoped>\n",
       "    .dataframe tbody tr th:only-of-type {\n",
       "        vertical-align: middle;\n",
       "    }\n",
       "\n",
       "    .dataframe tbody tr th {\n",
       "        vertical-align: top;\n",
       "    }\n",
       "\n",
       "    .dataframe thead th {\n",
       "        text-align: right;\n",
       "    }\n",
       "</style>\n",
       "<table border=\"1\" class=\"dataframe\">\n",
       "  <thead>\n",
       "    <tr style=\"text-align: right;\">\n",
       "      <th></th>\n",
       "      <th>A</th>\n",
       "      <th>B</th>\n",
       "      <th>C</th>\n",
       "    </tr>\n",
       "  </thead>\n",
       "  <tbody>\n",
       "    <tr>\n",
       "      <th>0 days 01:06:40</th>\n",
       "      <td>9</td>\n",
       "      <td>10</td>\n",
       "      <td>11</td>\n",
       "    </tr>\n",
       "    <tr>\n",
       "      <th>0 days 01:23:20</th>\n",
       "      <td>12</td>\n",
       "      <td>13</td>\n",
       "      <td>14</td>\n",
       "    </tr>\n",
       "    <tr>\n",
       "      <th>0 days 01:40:00</th>\n",
       "      <td>15</td>\n",
       "      <td>16</td>\n",
       "      <td>17</td>\n",
       "    </tr>\n",
       "  </tbody>\n",
       "</table>\n",
       "</div>"
      ],
      "text/plain": [
       "                  A   B   C\n",
       "0 days 01:06:40   9  10  11\n",
       "0 days 01:23:20  12  13  14\n",
       "0 days 01:40:00  15  16  17"
      ]
     },
     "metadata": {},
     "output_type": "display_data"
    },
    {
     "data": {
      "text/html": [
       "<div>\n",
       "<style scoped>\n",
       "    .dataframe tbody tr th:only-of-type {\n",
       "        vertical-align: middle;\n",
       "    }\n",
       "\n",
       "    .dataframe tbody tr th {\n",
       "        vertical-align: top;\n",
       "    }\n",
       "\n",
       "    .dataframe thead th {\n",
       "        text-align: right;\n",
       "    }\n",
       "</style>\n",
       "<table border=\"1\" class=\"dataframe\">\n",
       "  <thead>\n",
       "    <tr style=\"text-align: right;\">\n",
       "      <th></th>\n",
       "      <th>A</th>\n",
       "      <th>B</th>\n",
       "      <th>C</th>\n",
       "    </tr>\n",
       "  </thead>\n",
       "  <tbody>\n",
       "    <tr>\n",
       "      <th>0 days 00:33:20</th>\n",
       "      <td>3</td>\n",
       "      <td>4</td>\n",
       "      <td>5</td>\n",
       "    </tr>\n",
       "    <tr>\n",
       "      <th>0 days 00:50:00</th>\n",
       "      <td>6</td>\n",
       "      <td>7</td>\n",
       "      <td>8</td>\n",
       "    </tr>\n",
       "    <tr>\n",
       "      <th>0 days 01:06:40</th>\n",
       "      <td>9</td>\n",
       "      <td>10</td>\n",
       "      <td>11</td>\n",
       "    </tr>\n",
       "    <tr>\n",
       "      <th>0 days 01:23:20</th>\n",
       "      <td>12</td>\n",
       "      <td>13</td>\n",
       "      <td>14</td>\n",
       "    </tr>\n",
       "  </tbody>\n",
       "</table>\n",
       "</div>"
      ],
      "text/plain": [
       "                  A   B   C\n",
       "0 days 00:33:20   3   4   5\n",
       "0 days 00:50:00   6   7   8\n",
       "0 days 01:06:40   9  10  11\n",
       "0 days 01:23:20  12  13  14"
      ]
     },
     "metadata": {},
     "output_type": "display_data"
    }
   ],
   "source": [
    "df1 = df.loc['01:00:00':'02:00:00']\n",
    "df2 = df.loc['00:30:00':'01:23:20']\n",
    "display(df, df1, df2)"
   ]
  },
  {
   "cell_type": "markdown",
   "id": "6c1d0e84-b220-4ad8-9c87-b254aa7cf12a",
   "metadata": {},
   "source": [
    "### Selection by Position"
   ]
  },
  {
   "cell_type": "code",
   "execution_count": 91,
   "id": "f1973411-18cf-4087-a2b9-2b3c843596d7",
   "metadata": {},
   "outputs": [
    {
     "data": {
      "text/html": [
       "<div>\n",
       "<style scoped>\n",
       "    .dataframe tbody tr th:only-of-type {\n",
       "        vertical-align: middle;\n",
       "    }\n",
       "\n",
       "    .dataframe tbody tr th {\n",
       "        vertical-align: top;\n",
       "    }\n",
       "\n",
       "    .dataframe thead th {\n",
       "        text-align: right;\n",
       "    }\n",
       "</style>\n",
       "<table border=\"1\" class=\"dataframe\">\n",
       "  <thead>\n",
       "    <tr style=\"text-align: right;\">\n",
       "      <th></th>\n",
       "      <th>A</th>\n",
       "      <th>B</th>\n",
       "      <th>C</th>\n",
       "      <th>D</th>\n",
       "    </tr>\n",
       "  </thead>\n",
       "  <tbody>\n",
       "    <tr>\n",
       "      <th>a</th>\n",
       "      <td>0</td>\n",
       "      <td>1</td>\n",
       "      <td>2</td>\n",
       "      <td>3</td>\n",
       "    </tr>\n",
       "    <tr>\n",
       "      <th>b</th>\n",
       "      <td>4</td>\n",
       "      <td>5</td>\n",
       "      <td>6</td>\n",
       "      <td>7</td>\n",
       "    </tr>\n",
       "    <tr>\n",
       "      <th>c</th>\n",
       "      <td>8</td>\n",
       "      <td>9</td>\n",
       "      <td>10</td>\n",
       "      <td>11</td>\n",
       "    </tr>\n",
       "  </tbody>\n",
       "</table>\n",
       "</div>"
      ],
      "text/plain": [
       "   A  B   C   D\n",
       "a  0  1   2   3\n",
       "b  4  5   6   7\n",
       "c  8  9  10  11"
      ]
     },
     "execution_count": 91,
     "metadata": {},
     "output_type": "execute_result"
    }
   ],
   "source": [
    "df = pd.DataFrame(np.arange(12).reshape(3,4),\n",
    "                 index=list('abc'),\n",
    "                 columns=list('ABCD'))\n",
    "df"
   ]
  },
  {
   "cell_type": "code",
   "execution_count": 98,
   "id": "4a5c4958-8679-4730-94a4-57bb9aa2b45f",
   "metadata": {},
   "outputs": [
    {
     "data": {
      "text/plain": [
       "A     8\n",
       "B     9\n",
       "C    10\n",
       "D    11\n",
       "Name: c, dtype: int64"
      ]
     },
     "execution_count": 98,
     "metadata": {},
     "output_type": "execute_result"
    }
   ],
   "source": [
    "s1 = df.iloc[2]; s1"
   ]
  },
  {
   "cell_type": "code",
   "execution_count": 99,
   "id": "8a7d57e7-5637-4e9a-88f9-3f7b7bbffb0e",
   "metadata": {},
   "outputs": [
    {
     "data": {
      "text/plain": [
       "a    1\n",
       "b    5\n",
       "c    9\n",
       "Name: B, dtype: int64"
      ]
     },
     "execution_count": 99,
     "metadata": {},
     "output_type": "execute_result"
    }
   ],
   "source": [
    "s2 = df.iloc[:, 1]; s2"
   ]
  },
  {
   "cell_type": "code",
   "execution_count": 100,
   "id": "2e327fb6-cf0c-4a42-8618-f24ff935ec63",
   "metadata": {},
   "outputs": [
    {
     "data": {
      "text/plain": [
       "6"
      ]
     },
     "execution_count": 100,
     "metadata": {},
     "output_type": "execute_result"
    }
   ],
   "source": [
    "v = df.iloc[1, 2]; v"
   ]
  },
  {
   "cell_type": "code",
   "execution_count": 101,
   "id": "837a4258-0138-4e95-a66c-de5da9460887",
   "metadata": {},
   "outputs": [
    {
     "data": {
      "text/html": [
       "<div>\n",
       "<style scoped>\n",
       "    .dataframe tbody tr th:only-of-type {\n",
       "        vertical-align: middle;\n",
       "    }\n",
       "\n",
       "    .dataframe tbody tr th {\n",
       "        vertical-align: top;\n",
       "    }\n",
       "\n",
       "    .dataframe thead th {\n",
       "        text-align: right;\n",
       "    }\n",
       "</style>\n",
       "<table border=\"1\" class=\"dataframe\">\n",
       "  <thead>\n",
       "    <tr style=\"text-align: right;\">\n",
       "      <th></th>\n",
       "      <th>A</th>\n",
       "      <th>B</th>\n",
       "      <th>C</th>\n",
       "      <th>D</th>\n",
       "    </tr>\n",
       "  </thead>\n",
       "  <tbody>\n",
       "    <tr>\n",
       "      <th>a</th>\n",
       "      <td>0</td>\n",
       "      <td>1</td>\n",
       "      <td>2</td>\n",
       "      <td>3</td>\n",
       "    </tr>\n",
       "    <tr>\n",
       "      <th>b</th>\n",
       "      <td>4</td>\n",
       "      <td>5</td>\n",
       "      <td>6</td>\n",
       "      <td>7</td>\n",
       "    </tr>\n",
       "    <tr>\n",
       "      <th>c</th>\n",
       "      <td>8</td>\n",
       "      <td>9</td>\n",
       "      <td>10</td>\n",
       "      <td>11</td>\n",
       "    </tr>\n",
       "  </tbody>\n",
       "</table>\n",
       "</div>"
      ],
      "text/plain": [
       "   A  B   C   D\n",
       "a  0  1   2   3\n",
       "b  4  5   6   7\n",
       "c  8  9  10  11"
      ]
     },
     "execution_count": 101,
     "metadata": {},
     "output_type": "execute_result"
    }
   ],
   "source": [
    "df = pd.DataFrame(np.arange(12).reshape(3,4),\n",
    "                 index=list('abc'),\n",
    "                 columns=list('ABCD'))\n",
    "df"
   ]
  },
  {
   "cell_type": "code",
   "execution_count": 102,
   "id": "d38ea321-ff19-4909-93c9-93258d8501dd",
   "metadata": {},
   "outputs": [
    {
     "data": {
      "text/html": [
       "<div>\n",
       "<style scoped>\n",
       "    .dataframe tbody tr th:only-of-type {\n",
       "        vertical-align: middle;\n",
       "    }\n",
       "\n",
       "    .dataframe tbody tr th {\n",
       "        vertical-align: top;\n",
       "    }\n",
       "\n",
       "    .dataframe thead th {\n",
       "        text-align: right;\n",
       "    }\n",
       "</style>\n",
       "<table border=\"1\" class=\"dataframe\">\n",
       "  <thead>\n",
       "    <tr style=\"text-align: right;\">\n",
       "      <th></th>\n",
       "      <th>A</th>\n",
       "      <th>B</th>\n",
       "      <th>C</th>\n",
       "      <th>D</th>\n",
       "    </tr>\n",
       "  </thead>\n",
       "  <tbody>\n",
       "    <tr>\n",
       "      <th>b</th>\n",
       "      <td>4</td>\n",
       "      <td>5</td>\n",
       "      <td>6</td>\n",
       "      <td>7</td>\n",
       "    </tr>\n",
       "    <tr>\n",
       "      <th>c</th>\n",
       "      <td>8</td>\n",
       "      <td>9</td>\n",
       "      <td>10</td>\n",
       "      <td>11</td>\n",
       "    </tr>\n",
       "    <tr>\n",
       "      <th>c</th>\n",
       "      <td>8</td>\n",
       "      <td>9</td>\n",
       "      <td>10</td>\n",
       "      <td>11</td>\n",
       "    </tr>\n",
       "  </tbody>\n",
       "</table>\n",
       "</div>"
      ],
      "text/plain": [
       "   A  B   C   D\n",
       "b  4  5   6   7\n",
       "c  8  9  10  11\n",
       "c  8  9  10  11"
      ]
     },
     "execution_count": 102,
     "metadata": {},
     "output_type": "execute_result"
    }
   ],
   "source": [
    "df.iloc[[1,2,2], :]"
   ]
  },
  {
   "cell_type": "code",
   "execution_count": 103,
   "id": "fe0bd7a9-b262-4254-b1e8-202b0dd85996",
   "metadata": {},
   "outputs": [
    {
     "data": {
      "text/html": [
       "<div>\n",
       "<style scoped>\n",
       "    .dataframe tbody tr th:only-of-type {\n",
       "        vertical-align: middle;\n",
       "    }\n",
       "\n",
       "    .dataframe tbody tr th {\n",
       "        vertical-align: top;\n",
       "    }\n",
       "\n",
       "    .dataframe thead th {\n",
       "        text-align: right;\n",
       "    }\n",
       "</style>\n",
       "<table border=\"1\" class=\"dataframe\">\n",
       "  <thead>\n",
       "    <tr style=\"text-align: right;\">\n",
       "      <th></th>\n",
       "      <th>A</th>\n",
       "      <th>C</th>\n",
       "      <th>D</th>\n",
       "    </tr>\n",
       "  </thead>\n",
       "  <tbody>\n",
       "    <tr>\n",
       "      <th>b</th>\n",
       "      <td>4</td>\n",
       "      <td>6</td>\n",
       "      <td>7</td>\n",
       "    </tr>\n",
       "    <tr>\n",
       "      <th>c</th>\n",
       "      <td>8</td>\n",
       "      <td>10</td>\n",
       "      <td>11</td>\n",
       "    </tr>\n",
       "  </tbody>\n",
       "</table>\n",
       "</div>"
      ],
      "text/plain": [
       "   A   C   D\n",
       "b  4   6   7\n",
       "c  8  10  11"
      ]
     },
     "execution_count": 103,
     "metadata": {},
     "output_type": "execute_result"
    }
   ],
   "source": [
    "df.iloc[[1,2], [0,2,3]]"
   ]
  },
  {
   "cell_type": "code",
   "execution_count": 104,
   "id": "68264b93-ecd3-44a3-b31a-a4e06d907519",
   "metadata": {},
   "outputs": [
    {
     "data": {
      "text/html": [
       "<div>\n",
       "<style scoped>\n",
       "    .dataframe tbody tr th:only-of-type {\n",
       "        vertical-align: middle;\n",
       "    }\n",
       "\n",
       "    .dataframe tbody tr th {\n",
       "        vertical-align: top;\n",
       "    }\n",
       "\n",
       "    .dataframe thead th {\n",
       "        text-align: right;\n",
       "    }\n",
       "</style>\n",
       "<table border=\"1\" class=\"dataframe\">\n",
       "  <thead>\n",
       "    <tr style=\"text-align: right;\">\n",
       "      <th></th>\n",
       "      <th>A</th>\n",
       "      <th>B</th>\n",
       "      <th>C</th>\n",
       "      <th>D</th>\n",
       "    </tr>\n",
       "  </thead>\n",
       "  <tbody>\n",
       "    <tr>\n",
       "      <th>a</th>\n",
       "      <td>0</td>\n",
       "      <td>1</td>\n",
       "      <td>2</td>\n",
       "      <td>3</td>\n",
       "    </tr>\n",
       "    <tr>\n",
       "      <th>b</th>\n",
       "      <td>4</td>\n",
       "      <td>5</td>\n",
       "      <td>6</td>\n",
       "      <td>7</td>\n",
       "    </tr>\n",
       "    <tr>\n",
       "      <th>c</th>\n",
       "      <td>8</td>\n",
       "      <td>9</td>\n",
       "      <td>10</td>\n",
       "      <td>11</td>\n",
       "    </tr>\n",
       "  </tbody>\n",
       "</table>\n",
       "</div>"
      ],
      "text/plain": [
       "   A  B   C   D\n",
       "a  0  1   2   3\n",
       "b  4  5   6   7\n",
       "c  8  9  10  11"
      ]
     },
     "execution_count": 104,
     "metadata": {},
     "output_type": "execute_result"
    }
   ],
   "source": [
    "df = pd.DataFrame(np.arange(12).reshape(3,4),\n",
    "                 index=list('abc'),\n",
    "                 columns=list('ABCD'))\n",
    "df"
   ]
  },
  {
   "cell_type": "code",
   "execution_count": 105,
   "id": "73b37151-e81e-4e09-ac3c-905ac8fb4189",
   "metadata": {},
   "outputs": [
    {
     "data": {
      "text/html": [
       "<div>\n",
       "<style scoped>\n",
       "    .dataframe tbody tr th:only-of-type {\n",
       "        vertical-align: middle;\n",
       "    }\n",
       "\n",
       "    .dataframe tbody tr th {\n",
       "        vertical-align: top;\n",
       "    }\n",
       "\n",
       "    .dataframe thead th {\n",
       "        text-align: right;\n",
       "    }\n",
       "</style>\n",
       "<table border=\"1\" class=\"dataframe\">\n",
       "  <thead>\n",
       "    <tr style=\"text-align: right;\">\n",
       "      <th></th>\n",
       "      <th>A</th>\n",
       "      <th>B</th>\n",
       "      <th>C</th>\n",
       "      <th>D</th>\n",
       "    </tr>\n",
       "  </thead>\n",
       "  <tbody>\n",
       "    <tr>\n",
       "      <th>a</th>\n",
       "      <td>0</td>\n",
       "      <td>1</td>\n",
       "      <td>2</td>\n",
       "      <td>3</td>\n",
       "    </tr>\n",
       "    <tr>\n",
       "      <th>b</th>\n",
       "      <td>4</td>\n",
       "      <td>5</td>\n",
       "      <td>6</td>\n",
       "      <td>7</td>\n",
       "    </tr>\n",
       "  </tbody>\n",
       "</table>\n",
       "</div>"
      ],
      "text/plain": [
       "   A  B  C  D\n",
       "a  0  1  2  3\n",
       "b  4  5  6  7"
      ]
     },
     "execution_count": 105,
     "metadata": {},
     "output_type": "execute_result"
    }
   ],
   "source": [
    "df.iloc[:2]"
   ]
  },
  {
   "cell_type": "code",
   "execution_count": 106,
   "id": "8337837f-d093-49ad-9f21-44cdaef90591",
   "metadata": {},
   "outputs": [
    {
     "data": {
      "text/html": [
       "<div>\n",
       "<style scoped>\n",
       "    .dataframe tbody tr th:only-of-type {\n",
       "        vertical-align: middle;\n",
       "    }\n",
       "\n",
       "    .dataframe tbody tr th {\n",
       "        vertical-align: top;\n",
       "    }\n",
       "\n",
       "    .dataframe thead th {\n",
       "        text-align: right;\n",
       "    }\n",
       "</style>\n",
       "<table border=\"1\" class=\"dataframe\">\n",
       "  <thead>\n",
       "    <tr style=\"text-align: right;\">\n",
       "      <th></th>\n",
       "      <th>A</th>\n",
       "      <th>B</th>\n",
       "      <th>C</th>\n",
       "      <th>D</th>\n",
       "    </tr>\n",
       "  </thead>\n",
       "  <tbody>\n",
       "    <tr>\n",
       "      <th>c</th>\n",
       "      <td>8</td>\n",
       "      <td>9</td>\n",
       "      <td>10</td>\n",
       "      <td>11</td>\n",
       "    </tr>\n",
       "    <tr>\n",
       "      <th>b</th>\n",
       "      <td>4</td>\n",
       "      <td>5</td>\n",
       "      <td>6</td>\n",
       "      <td>7</td>\n",
       "    </tr>\n",
       "    <tr>\n",
       "      <th>a</th>\n",
       "      <td>0</td>\n",
       "      <td>1</td>\n",
       "      <td>2</td>\n",
       "      <td>3</td>\n",
       "    </tr>\n",
       "  </tbody>\n",
       "</table>\n",
       "</div>"
      ],
      "text/plain": [
       "   A  B   C   D\n",
       "c  8  9  10  11\n",
       "b  4  5   6   7\n",
       "a  0  1   2   3"
      ]
     },
     "execution_count": 106,
     "metadata": {},
     "output_type": "execute_result"
    }
   ],
   "source": [
    "df.iloc[::-1]"
   ]
  },
  {
   "cell_type": "code",
   "execution_count": 108,
   "id": "7aa65ac6-95cc-47ca-942f-5b798b4db3f8",
   "metadata": {},
   "outputs": [
    {
     "data": {
      "text/html": [
       "<div>\n",
       "<style scoped>\n",
       "    .dataframe tbody tr th:only-of-type {\n",
       "        vertical-align: middle;\n",
       "    }\n",
       "\n",
       "    .dataframe tbody tr th {\n",
       "        vertical-align: top;\n",
       "    }\n",
       "\n",
       "    .dataframe thead th {\n",
       "        text-align: right;\n",
       "    }\n",
       "</style>\n",
       "<table border=\"1\" class=\"dataframe\">\n",
       "  <thead>\n",
       "    <tr style=\"text-align: right;\">\n",
       "      <th></th>\n",
       "      <th>B</th>\n",
       "      <th>C</th>\n",
       "    </tr>\n",
       "  </thead>\n",
       "  <tbody>\n",
       "    <tr>\n",
       "      <th>a</th>\n",
       "      <td>1</td>\n",
       "      <td>2</td>\n",
       "    </tr>\n",
       "    <tr>\n",
       "      <th>b</th>\n",
       "      <td>5</td>\n",
       "      <td>6</td>\n",
       "    </tr>\n",
       "    <tr>\n",
       "      <th>c</th>\n",
       "      <td>9</td>\n",
       "      <td>10</td>\n",
       "    </tr>\n",
       "  </tbody>\n",
       "</table>\n",
       "</div>"
      ],
      "text/plain": [
       "   B   C\n",
       "a  1   2\n",
       "b  5   6\n",
       "c  9  10"
      ]
     },
     "execution_count": 108,
     "metadata": {},
     "output_type": "execute_result"
    }
   ],
   "source": [
    "df.iloc[:, 1:3]"
   ]
  },
  {
   "cell_type": "code",
   "execution_count": 109,
   "id": "08613576-ea07-4589-b53e-5bd6454ceef3",
   "metadata": {},
   "outputs": [
    {
     "data": {
      "text/html": [
       "<div>\n",
       "<style scoped>\n",
       "    .dataframe tbody tr th:only-of-type {\n",
       "        vertical-align: middle;\n",
       "    }\n",
       "\n",
       "    .dataframe tbody tr th {\n",
       "        vertical-align: top;\n",
       "    }\n",
       "\n",
       "    .dataframe thead th {\n",
       "        text-align: right;\n",
       "    }\n",
       "</style>\n",
       "<table border=\"1\" class=\"dataframe\">\n",
       "  <thead>\n",
       "    <tr style=\"text-align: right;\">\n",
       "      <th></th>\n",
       "      <th>C</th>\n",
       "      <th>D</th>\n",
       "    </tr>\n",
       "  </thead>\n",
       "  <tbody>\n",
       "    <tr>\n",
       "      <th>a</th>\n",
       "      <td>2</td>\n",
       "      <td>3</td>\n",
       "    </tr>\n",
       "    <tr>\n",
       "      <th>b</th>\n",
       "      <td>6</td>\n",
       "      <td>7</td>\n",
       "    </tr>\n",
       "    <tr>\n",
       "      <th>c</th>\n",
       "      <td>10</td>\n",
       "      <td>11</td>\n",
       "    </tr>\n",
       "  </tbody>\n",
       "</table>\n",
       "</div>"
      ],
      "text/plain": [
       "    C   D\n",
       "a   2   3\n",
       "b   6   7\n",
       "c  10  11"
      ]
     },
     "execution_count": 109,
     "metadata": {},
     "output_type": "execute_result"
    }
   ],
   "source": [
    "df.iloc[:5, 2:]"
   ]
  },
  {
   "cell_type": "code",
   "execution_count": 110,
   "id": "ee84890b-0382-47df-8ccb-8fe7d72908e0",
   "metadata": {},
   "outputs": [
    {
     "data": {
      "text/html": [
       "<div>\n",
       "<style scoped>\n",
       "    .dataframe tbody tr th:only-of-type {\n",
       "        vertical-align: middle;\n",
       "    }\n",
       "\n",
       "    .dataframe tbody tr th {\n",
       "        vertical-align: top;\n",
       "    }\n",
       "\n",
       "    .dataframe thead th {\n",
       "        text-align: right;\n",
       "    }\n",
       "</style>\n",
       "<table border=\"1\" class=\"dataframe\">\n",
       "  <thead>\n",
       "    <tr style=\"text-align: right;\">\n",
       "      <th></th>\n",
       "      <th>A</th>\n",
       "      <th>B</th>\n",
       "      <th>C</th>\n",
       "    </tr>\n",
       "  </thead>\n",
       "  <tbody>\n",
       "    <tr>\n",
       "      <th>a</th>\n",
       "      <td>0</td>\n",
       "      <td>1</td>\n",
       "      <td>2</td>\n",
       "    </tr>\n",
       "    <tr>\n",
       "      <th>b</th>\n",
       "      <td>4</td>\n",
       "      <td>5</td>\n",
       "      <td>6</td>\n",
       "    </tr>\n",
       "    <tr>\n",
       "      <th>c</th>\n",
       "      <td>8</td>\n",
       "      <td>9</td>\n",
       "      <td>10</td>\n",
       "    </tr>\n",
       "  </tbody>\n",
       "</table>\n",
       "</div>"
      ],
      "text/plain": [
       "   A  B   C\n",
       "a  0  1   2\n",
       "b  4  5   6\n",
       "c  8  9  10"
      ]
     },
     "execution_count": 110,
     "metadata": {},
     "output_type": "execute_result"
    }
   ],
   "source": [
    "df.iloc[:, :-1]"
   ]
  },
  {
   "cell_type": "markdown",
   "id": "f69b591a-3b35-4e8c-82e7-4343fe669d23",
   "metadata": {},
   "source": [
    "### Boolean Indexing"
   ]
  },
  {
   "cell_type": "code",
   "execution_count": 111,
   "id": "fbe03a00-b603-44b1-b181-9b9928b6a9ae",
   "metadata": {},
   "outputs": [
    {
     "data": {
      "text/html": [
       "<div>\n",
       "<style scoped>\n",
       "    .dataframe tbody tr th:only-of-type {\n",
       "        vertical-align: middle;\n",
       "    }\n",
       "\n",
       "    .dataframe tbody tr th {\n",
       "        vertical-align: top;\n",
       "    }\n",
       "\n",
       "    .dataframe thead th {\n",
       "        text-align: right;\n",
       "    }\n",
       "</style>\n",
       "<table border=\"1\" class=\"dataframe\">\n",
       "  <thead>\n",
       "    <tr style=\"text-align: right;\">\n",
       "      <th></th>\n",
       "      <th>A</th>\n",
       "      <th>B</th>\n",
       "      <th>C</th>\n",
       "    </tr>\n",
       "  </thead>\n",
       "  <tbody>\n",
       "    <tr>\n",
       "      <th>one</th>\n",
       "      <td>a</td>\n",
       "      <td>c</td>\n",
       "      <td>z</td>\n",
       "    </tr>\n",
       "    <tr>\n",
       "      <th>two</th>\n",
       "      <td>b</td>\n",
       "      <td>b</td>\n",
       "      <td>s</td>\n",
       "    </tr>\n",
       "    <tr>\n",
       "      <th>three</th>\n",
       "      <td>c</td>\n",
       "      <td>d</td>\n",
       "      <td>y</td>\n",
       "    </tr>\n",
       "    <tr>\n",
       "      <th>four</th>\n",
       "      <td>d</td>\n",
       "      <td>f</td>\n",
       "      <td>j</td>\n",
       "    </tr>\n",
       "    <tr>\n",
       "      <th>five</th>\n",
       "      <td>e</td>\n",
       "      <td>d</td>\n",
       "      <td>c</td>\n",
       "    </tr>\n",
       "  </tbody>\n",
       "</table>\n",
       "</div>"
      ],
      "text/plain": [
       "       A  B  C\n",
       "one    a  c  z\n",
       "two    b  b  s\n",
       "three  c  d  y\n",
       "four   d  f  j\n",
       "five   e  d  c"
      ]
     },
     "execution_count": 111,
     "metadata": {},
     "output_type": "execute_result"
    }
   ],
   "source": [
    "mydata = {'A': list(\"abcde\"), \n",
    "          'B': list(\"cbdfd\"), \n",
    "          'C':list(\"zsyjc\")}\n",
    "\n",
    "df = pd.DataFrame(mydata, index=['one','two','three','four','five'])\n",
    "df"
   ]
  },
  {
   "cell_type": "code",
   "execution_count": 113,
   "id": "cd9645c5-5bbe-4e9f-a07d-2658ce7b120a",
   "metadata": {},
   "outputs": [
    {
     "data": {
      "text/html": [
       "<div>\n",
       "<style scoped>\n",
       "    .dataframe tbody tr th:only-of-type {\n",
       "        vertical-align: middle;\n",
       "    }\n",
       "\n",
       "    .dataframe tbody tr th {\n",
       "        vertical-align: top;\n",
       "    }\n",
       "\n",
       "    .dataframe thead th {\n",
       "        text-align: right;\n",
       "    }\n",
       "</style>\n",
       "<table border=\"1\" class=\"dataframe\">\n",
       "  <thead>\n",
       "    <tr style=\"text-align: right;\">\n",
       "      <th></th>\n",
       "      <th>A</th>\n",
       "      <th>B</th>\n",
       "      <th>C</th>\n",
       "    </tr>\n",
       "  </thead>\n",
       "  <tbody>\n",
       "    <tr>\n",
       "      <th>one</th>\n",
       "      <td>a</td>\n",
       "      <td>c</td>\n",
       "      <td>z</td>\n",
       "    </tr>\n",
       "    <tr>\n",
       "      <th>two</th>\n",
       "      <td>b</td>\n",
       "      <td>b</td>\n",
       "      <td>s</td>\n",
       "    </tr>\n",
       "  </tbody>\n",
       "</table>\n",
       "</div>"
      ],
      "text/plain": [
       "     A  B  C\n",
       "one  a  c  z\n",
       "two  b  b  s"
      ]
     },
     "execution_count": 113,
     "metadata": {},
     "output_type": "execute_result"
    }
   ],
   "source": [
    "df[(df.A == 'a') | (df.A == 'b')]"
   ]
  },
  {
   "cell_type": "code",
   "execution_count": 115,
   "id": "b63cf76b-c300-4daf-960c-7588a491db29",
   "metadata": {},
   "outputs": [
    {
     "data": {
      "text/html": [
       "<div>\n",
       "<style scoped>\n",
       "    .dataframe tbody tr th:only-of-type {\n",
       "        vertical-align: middle;\n",
       "    }\n",
       "\n",
       "    .dataframe tbody tr th {\n",
       "        vertical-align: top;\n",
       "    }\n",
       "\n",
       "    .dataframe thead th {\n",
       "        text-align: right;\n",
       "    }\n",
       "</style>\n",
       "<table border=\"1\" class=\"dataframe\">\n",
       "  <thead>\n",
       "    <tr style=\"text-align: right;\">\n",
       "      <th></th>\n",
       "      <th>A</th>\n",
       "      <th>B</th>\n",
       "      <th>C</th>\n",
       "    </tr>\n",
       "  </thead>\n",
       "  <tbody>\n",
       "    <tr>\n",
       "      <th>one</th>\n",
       "      <td>a</td>\n",
       "      <td>c</td>\n",
       "      <td>z</td>\n",
       "    </tr>\n",
       "    <tr>\n",
       "      <th>two</th>\n",
       "      <td>b</td>\n",
       "      <td>b</td>\n",
       "      <td>s</td>\n",
       "    </tr>\n",
       "  </tbody>\n",
       "</table>\n",
       "</div>"
      ],
      "text/plain": [
       "     A  B  C\n",
       "one  a  c  z\n",
       "two  b  b  s"
      ]
     },
     "execution_count": 115,
     "metadata": {},
     "output_type": "execute_result"
    }
   ],
   "source": [
    "df.loc[(df.A == 'a') | (df.A == 'b')]"
   ]
  },
  {
   "cell_type": "code",
   "execution_count": 119,
   "id": "27ec326d-787f-497b-ace3-9df5c86daf2d",
   "metadata": {},
   "outputs": [
    {
     "data": {
      "text/html": [
       "<div>\n",
       "<style scoped>\n",
       "    .dataframe tbody tr th:only-of-type {\n",
       "        vertical-align: middle;\n",
       "    }\n",
       "\n",
       "    .dataframe tbody tr th {\n",
       "        vertical-align: top;\n",
       "    }\n",
       "\n",
       "    .dataframe thead th {\n",
       "        text-align: right;\n",
       "    }\n",
       "</style>\n",
       "<table border=\"1\" class=\"dataframe\">\n",
       "  <thead>\n",
       "    <tr style=\"text-align: right;\">\n",
       "      <th></th>\n",
       "      <th>A</th>\n",
       "      <th>B</th>\n",
       "      <th>C</th>\n",
       "    </tr>\n",
       "  </thead>\n",
       "  <tbody>\n",
       "    <tr>\n",
       "      <th>one</th>\n",
       "      <td>a</td>\n",
       "      <td>c</td>\n",
       "      <td>z</td>\n",
       "    </tr>\n",
       "    <tr>\n",
       "      <th>two</th>\n",
       "      <td>b</td>\n",
       "      <td>b</td>\n",
       "      <td>s</td>\n",
       "    </tr>\n",
       "  </tbody>\n",
       "</table>\n",
       "</div>"
      ],
      "text/plain": [
       "     A  B  C\n",
       "one  a  c  z\n",
       "two  b  b  s"
      ]
     },
     "execution_count": 119,
     "metadata": {},
     "output_type": "execute_result"
    }
   ],
   "source": [
    "# iloc 의 경우 Series 를 넣을 수 없음\n",
    "# df.iloc[(df.A == 'a') | (df.A == 'b')]\n",
    "df.iloc[((df.A == 'a') | (df.A == 'b')).to_list()]"
   ]
  },
  {
   "cell_type": "code",
   "execution_count": 123,
   "id": "aa9335dd-97b4-4454-8d07-2ea43415c2ae",
   "metadata": {},
   "outputs": [
    {
     "data": {
      "text/html": [
       "<div>\n",
       "<style scoped>\n",
       "    .dataframe tbody tr th:only-of-type {\n",
       "        vertical-align: middle;\n",
       "    }\n",
       "\n",
       "    .dataframe tbody tr th {\n",
       "        vertical-align: top;\n",
       "    }\n",
       "\n",
       "    .dataframe thead th {\n",
       "        text-align: right;\n",
       "    }\n",
       "</style>\n",
       "<table border=\"1\" class=\"dataframe\">\n",
       "  <thead>\n",
       "    <tr style=\"text-align: right;\">\n",
       "      <th></th>\n",
       "      <th>a</th>\n",
       "      <th>b</th>\n",
       "      <th>c</th>\n",
       "    </tr>\n",
       "  </thead>\n",
       "  <tbody>\n",
       "    <tr>\n",
       "      <th>A</th>\n",
       "      <td>5</td>\n",
       "      <td>92</td>\n",
       "      <td>60</td>\n",
       "    </tr>\n",
       "    <tr>\n",
       "      <th>B</th>\n",
       "      <td>68</td>\n",
       "      <td>8</td>\n",
       "      <td>50</td>\n",
       "    </tr>\n",
       "    <tr>\n",
       "      <th>C</th>\n",
       "      <td>48</td>\n",
       "      <td>66</td>\n",
       "      <td>62</td>\n",
       "    </tr>\n",
       "    <tr>\n",
       "      <th>D</th>\n",
       "      <td>15</td>\n",
       "      <td>56</td>\n",
       "      <td>72</td>\n",
       "    </tr>\n",
       "    <tr>\n",
       "      <th>E</th>\n",
       "      <td>81</td>\n",
       "      <td>3</td>\n",
       "      <td>95</td>\n",
       "    </tr>\n",
       "  </tbody>\n",
       "</table>\n",
       "</div>"
      ],
      "text/plain": [
       "    a   b   c\n",
       "A   5  92  60\n",
       "B  68   8  50\n",
       "C  48  66  62\n",
       "D  15  56  72\n",
       "E  81   3  95"
      ]
     },
     "execution_count": 123,
     "metadata": {},
     "output_type": "execute_result"
    }
   ],
   "source": [
    "df = pd.DataFrame(np.random.randint(1, 100, (5, 3)),\n",
    "                 index=list('ABCDE'),\n",
    "                 columns=list('abc'))\n",
    "df"
   ]
  },
  {
   "cell_type": "code",
   "execution_count": 126,
   "id": "c21fee4a-54c0-4609-8f44-b16684006405",
   "metadata": {},
   "outputs": [
    {
     "data": {
      "text/html": [
       "<div>\n",
       "<style scoped>\n",
       "    .dataframe tbody tr th:only-of-type {\n",
       "        vertical-align: middle;\n",
       "    }\n",
       "\n",
       "    .dataframe tbody tr th {\n",
       "        vertical-align: top;\n",
       "    }\n",
       "\n",
       "    .dataframe thead th {\n",
       "        text-align: right;\n",
       "    }\n",
       "</style>\n",
       "<table border=\"1\" class=\"dataframe\">\n",
       "  <thead>\n",
       "    <tr style=\"text-align: right;\">\n",
       "      <th></th>\n",
       "      <th>a</th>\n",
       "      <th>b</th>\n",
       "      <th>c</th>\n",
       "    </tr>\n",
       "  </thead>\n",
       "  <tbody>\n",
       "    <tr>\n",
       "      <th>B</th>\n",
       "      <td>68</td>\n",
       "      <td>8</td>\n",
       "      <td>50</td>\n",
       "    </tr>\n",
       "    <tr>\n",
       "      <th>E</th>\n",
       "      <td>81</td>\n",
       "      <td>3</td>\n",
       "      <td>95</td>\n",
       "    </tr>\n",
       "  </tbody>\n",
       "</table>\n",
       "</div>"
      ],
      "text/plain": [
       "    a  b   c\n",
       "B  68  8  50\n",
       "E  81  3  95"
      ]
     },
     "metadata": {},
     "output_type": "display_data"
    },
    {
     "data": {
      "text/html": [
       "<div>\n",
       "<style scoped>\n",
       "    .dataframe tbody tr th:only-of-type {\n",
       "        vertical-align: middle;\n",
       "    }\n",
       "\n",
       "    .dataframe tbody tr th {\n",
       "        vertical-align: top;\n",
       "    }\n",
       "\n",
       "    .dataframe thead th {\n",
       "        text-align: right;\n",
       "    }\n",
       "</style>\n",
       "<table border=\"1\" class=\"dataframe\">\n",
       "  <thead>\n",
       "    <tr style=\"text-align: right;\">\n",
       "      <th></th>\n",
       "      <th>a</th>\n",
       "      <th>b</th>\n",
       "      <th>c</th>\n",
       "    </tr>\n",
       "  </thead>\n",
       "  <tbody>\n",
       "    <tr>\n",
       "      <th>B</th>\n",
       "      <td>68</td>\n",
       "      <td>8</td>\n",
       "      <td>50</td>\n",
       "    </tr>\n",
       "    <tr>\n",
       "      <th>E</th>\n",
       "      <td>81</td>\n",
       "      <td>3</td>\n",
       "      <td>95</td>\n",
       "    </tr>\n",
       "  </tbody>\n",
       "</table>\n",
       "</div>"
      ],
      "text/plain": [
       "    a  b   c\n",
       "B  68  8  50\n",
       "E  81  3  95"
      ]
     },
     "metadata": {},
     "output_type": "display_data"
    },
    {
     "data": {
      "text/html": [
       "<div>\n",
       "<style scoped>\n",
       "    .dataframe tbody tr th:only-of-type {\n",
       "        vertical-align: middle;\n",
       "    }\n",
       "\n",
       "    .dataframe tbody tr th {\n",
       "        vertical-align: top;\n",
       "    }\n",
       "\n",
       "    .dataframe thead th {\n",
       "        text-align: right;\n",
       "    }\n",
       "</style>\n",
       "<table border=\"1\" class=\"dataframe\">\n",
       "  <thead>\n",
       "    <tr style=\"text-align: right;\">\n",
       "      <th></th>\n",
       "      <th>a</th>\n",
       "      <th>b</th>\n",
       "      <th>c</th>\n",
       "    </tr>\n",
       "  </thead>\n",
       "  <tbody>\n",
       "    <tr>\n",
       "      <th>B</th>\n",
       "      <td>68</td>\n",
       "      <td>8</td>\n",
       "      <td>50</td>\n",
       "    </tr>\n",
       "    <tr>\n",
       "      <th>E</th>\n",
       "      <td>81</td>\n",
       "      <td>3</td>\n",
       "      <td>95</td>\n",
       "    </tr>\n",
       "  </tbody>\n",
       "</table>\n",
       "</div>"
      ],
      "text/plain": [
       "    a  b   c\n",
       "B  68  8  50\n",
       "E  81  3  95"
      ]
     },
     "metadata": {},
     "output_type": "display_data"
    }
   ],
   "source": [
    "df1 = df[df.a > 50]\n",
    "df2 = df.loc[df.a > 50]\n",
    "df3 = df.iloc[(df.a > 50).to_list()]\n",
    "\n",
    "display(df1, df2, df3)"
   ]
  },
  {
   "cell_type": "code",
   "execution_count": 139,
   "id": "8ec3053f-ec1a-405c-904f-af47c145bd9f",
   "metadata": {},
   "outputs": [
    {
     "data": {
      "text/html": [
       "<div>\n",
       "<style scoped>\n",
       "    .dataframe tbody tr th:only-of-type {\n",
       "        vertical-align: middle;\n",
       "    }\n",
       "\n",
       "    .dataframe tbody tr th {\n",
       "        vertical-align: top;\n",
       "    }\n",
       "\n",
       "    .dataframe thead th {\n",
       "        text-align: right;\n",
       "    }\n",
       "</style>\n",
       "<table border=\"1\" class=\"dataframe\">\n",
       "  <thead>\n",
       "    <tr style=\"text-align: right;\">\n",
       "      <th></th>\n",
       "      <th>a</th>\n",
       "      <th>c</th>\n",
       "    </tr>\n",
       "  </thead>\n",
       "  <tbody>\n",
       "    <tr>\n",
       "      <th>A</th>\n",
       "      <td>5</td>\n",
       "      <td>60</td>\n",
       "    </tr>\n",
       "    <tr>\n",
       "      <th>B</th>\n",
       "      <td>68</td>\n",
       "      <td>50</td>\n",
       "    </tr>\n",
       "    <tr>\n",
       "      <th>C</th>\n",
       "      <td>48</td>\n",
       "      <td>62</td>\n",
       "    </tr>\n",
       "    <tr>\n",
       "      <th>D</th>\n",
       "      <td>15</td>\n",
       "      <td>72</td>\n",
       "    </tr>\n",
       "    <tr>\n",
       "      <th>E</th>\n",
       "      <td>81</td>\n",
       "      <td>95</td>\n",
       "    </tr>\n",
       "  </tbody>\n",
       "</table>\n",
       "</div>"
      ],
      "text/plain": [
       "    a   c\n",
       "A   5  60\n",
       "B  68  50\n",
       "C  48  62\n",
       "D  15  72\n",
       "E  81  95"
      ]
     },
     "metadata": {},
     "output_type": "display_data"
    },
    {
     "data": {
      "text/html": [
       "<div>\n",
       "<style scoped>\n",
       "    .dataframe tbody tr th:only-of-type {\n",
       "        vertical-align: middle;\n",
       "    }\n",
       "\n",
       "    .dataframe tbody tr th {\n",
       "        vertical-align: top;\n",
       "    }\n",
       "\n",
       "    .dataframe thead th {\n",
       "        text-align: right;\n",
       "    }\n",
       "</style>\n",
       "<table border=\"1\" class=\"dataframe\">\n",
       "  <thead>\n",
       "    <tr style=\"text-align: right;\">\n",
       "      <th></th>\n",
       "      <th>a</th>\n",
       "      <th>c</th>\n",
       "    </tr>\n",
       "  </thead>\n",
       "  <tbody>\n",
       "    <tr>\n",
       "      <th>A</th>\n",
       "      <td>5</td>\n",
       "      <td>60</td>\n",
       "    </tr>\n",
       "    <tr>\n",
       "      <th>B</th>\n",
       "      <td>68</td>\n",
       "      <td>50</td>\n",
       "    </tr>\n",
       "    <tr>\n",
       "      <th>C</th>\n",
       "      <td>48</td>\n",
       "      <td>62</td>\n",
       "    </tr>\n",
       "    <tr>\n",
       "      <th>D</th>\n",
       "      <td>15</td>\n",
       "      <td>72</td>\n",
       "    </tr>\n",
       "    <tr>\n",
       "      <th>E</th>\n",
       "      <td>81</td>\n",
       "      <td>95</td>\n",
       "    </tr>\n",
       "  </tbody>\n",
       "</table>\n",
       "</div>"
      ],
      "text/plain": [
       "    a   c\n",
       "A   5  60\n",
       "B  68  50\n",
       "C  48  62\n",
       "D  15  72\n",
       "E  81  95"
      ]
     },
     "metadata": {},
     "output_type": "display_data"
    }
   ],
   "source": [
    "ridx = (df.a > 30) | (df.b > 50)\n",
    "cidx = df.loc['A'] < df.loc['C']\n",
    "\n",
    "df3 = df.loc[ridx, cidx]\n",
    "df4 = df.iloc[ridx.to_list(), cidx.to_list()]\n",
    "\n",
    "display(df3, df4)"
   ]
  },
  {
   "cell_type": "markdown",
   "id": "f721f84d-fd3f-4349-99b3-528c26888ed1",
   "metadata": {},
   "source": [
    "## Indexing for Multilevel Index"
   ]
  },
  {
   "cell_type": "markdown",
   "id": "3732a6c0-5a95-4310-b6b4-6be6882bf7b0",
   "metadata": {},
   "source": [
    "- 여러 개의 column 또는 row 로 이루어진 index\n",
    "- 여러 개의 column/row 를 level로 취급함\n",
    "- `pd.Multiindex.from_product(iterables, names)`\n",
    "    + iterables : Multiindex 각 column을 항으로 하는 1D array\n",
    "    + 각 항의 갯수를 곱한 것 만큼의 항이 생성됨\n",
    "- `pd.Multiindex.from_tuples(tuplies, names)`\n",
    "    + tuples : Multiindex 각 row 를 항으로 하는 1D array\n",
    "    + names : index 의 각 column 이름, 1D array\n",
    "\n",
    "- basic indexing : column 기준"
   ]
  },
  {
   "cell_type": "code",
   "execution_count": 140,
   "id": "9a8be406-47bf-4b7d-98a3-170414f6f356",
   "metadata": {},
   "outputs": [],
   "source": [
    "import pandas as pd\n",
    "import numpy as np\n",
    "import shelve\n",
    "\n",
    "np.random.seed(100)"
   ]
  },
  {
   "cell_type": "code",
   "execution_count": 145,
   "id": "954b1226-ed5f-490c-b491-da9de28ebb14",
   "metadata": {},
   "outputs": [
    {
     "name": "stdout",
     "output_type": "stream",
     "text": [
      "<class 'pandas.core.frame.DataFrame'>\n",
      "MultiIndex: 4 entries, ('a', 'x') to ('b', 'y')\n",
      "Data columns (total 4 columns):\n",
      " #   Column  Non-Null Count  Dtype\n",
      "---  ------  --------------  -----\n",
      " 0   (A, a)  4 non-null      int64\n",
      " 1   (A, b)  4 non-null      int64\n",
      " 2   (B, a)  4 non-null      int64\n",
      " 3   (B, b)  4 non-null      int64\n",
      "dtypes: int64(4)\n",
      "memory usage: 416.0+ bytes\n"
     ]
    }
   ],
   "source": [
    "midx_c = pd.MultiIndex.from_product([['A','B'],['a','b']])\n",
    "midx_r = pd.MultiIndex.from_tuples([['a','x'],['a','y'],['b','x'],['b','y']])\n",
    "\n",
    "df = pd.DataFrame(np.random.randint(50, 90, (4,4)),\n",
    "                 index=midx_r,\n",
    "                 columns=midx_c)\n",
    "df.info()"
   ]
  },
  {
   "cell_type": "code",
   "execution_count": 146,
   "id": "fa08fb43-43bc-490c-bed7-787f5425b6df",
   "metadata": {},
   "outputs": [
    {
     "data": {
      "text/html": [
       "<div>\n",
       "<style scoped>\n",
       "    .dataframe tbody tr th:only-of-type {\n",
       "        vertical-align: middle;\n",
       "    }\n",
       "\n",
       "    .dataframe tbody tr th {\n",
       "        vertical-align: top;\n",
       "    }\n",
       "\n",
       "    .dataframe thead tr th {\n",
       "        text-align: left;\n",
       "    }\n",
       "</style>\n",
       "<table border=\"1\" class=\"dataframe\">\n",
       "  <thead>\n",
       "    <tr>\n",
       "      <th></th>\n",
       "      <th></th>\n",
       "      <th colspan=\"2\" halign=\"left\">A</th>\n",
       "      <th colspan=\"2\" halign=\"left\">B</th>\n",
       "    </tr>\n",
       "    <tr>\n",
       "      <th></th>\n",
       "      <th></th>\n",
       "      <th>a</th>\n",
       "      <th>b</th>\n",
       "      <th>a</th>\n",
       "      <th>b</th>\n",
       "    </tr>\n",
       "  </thead>\n",
       "  <tbody>\n",
       "    <tr>\n",
       "      <th rowspan=\"2\" valign=\"top\">a</th>\n",
       "      <th>x</th>\n",
       "      <td>66</td>\n",
       "      <td>59</td>\n",
       "      <td>79</td>\n",
       "      <td>72</td>\n",
       "    </tr>\n",
       "    <tr>\n",
       "      <th>y</th>\n",
       "      <td>52</td>\n",
       "      <td>77</td>\n",
       "      <td>54</td>\n",
       "      <td>81</td>\n",
       "    </tr>\n",
       "    <tr>\n",
       "      <th rowspan=\"2\" valign=\"top\">b</th>\n",
       "      <th>x</th>\n",
       "      <td>51</td>\n",
       "      <td>63</td>\n",
       "      <td>69</td>\n",
       "      <td>86</td>\n",
       "    </tr>\n",
       "    <tr>\n",
       "      <th>y</th>\n",
       "      <td>54</td>\n",
       "      <td>77</td>\n",
       "      <td>53</td>\n",
       "      <td>57</td>\n",
       "    </tr>\n",
       "  </tbody>\n",
       "</table>\n",
       "</div>"
      ],
      "text/plain": [
       "      A       B    \n",
       "      a   b   a   b\n",
       "a x  66  59  79  72\n",
       "  y  52  77  54  81\n",
       "b x  51  63  69  86\n",
       "  y  54  77  53  57"
      ]
     },
     "execution_count": 146,
     "metadata": {},
     "output_type": "execute_result"
    }
   ],
   "source": [
    "df"
   ]
  },
  {
   "cell_type": "code",
   "execution_count": 151,
   "id": "eaa56249-d75f-459c-9c0a-e4f4bc45d856",
   "metadata": {},
   "outputs": [
    {
     "data": {
      "text/plain": [
       "a  x    66\n",
       "   y    52\n",
       "b  x    51\n",
       "   y    54\n",
       "Name: a, dtype: int64"
      ]
     },
     "metadata": {},
     "output_type": "display_data"
    },
    {
     "data": {
      "text/plain": [
       "a  x    66\n",
       "   y    52\n",
       "b  x    51\n",
       "   y    54\n",
       "Name: (A, a), dtype: int64"
      ]
     },
     "metadata": {},
     "output_type": "display_data"
    }
   ],
   "source": [
    "s1 = df['A']['a']\n",
    "s2 = df.loc[:, ('A','a')]\n",
    "\n",
    "display(s1, s2)"
   ]
  },
  {
   "cell_type": "code",
   "execution_count": 152,
   "id": "05f53912-b4c6-46cd-adba-3d9ad36c3782",
   "metadata": {},
   "outputs": [
    {
     "data": {
      "text/html": [
       "<div>\n",
       "<style scoped>\n",
       "    .dataframe tbody tr th:only-of-type {\n",
       "        vertical-align: middle;\n",
       "    }\n",
       "\n",
       "    .dataframe tbody tr th {\n",
       "        vertical-align: top;\n",
       "    }\n",
       "\n",
       "    .dataframe thead tr th {\n",
       "        text-align: left;\n",
       "    }\n",
       "</style>\n",
       "<table border=\"1\" class=\"dataframe\">\n",
       "  <thead>\n",
       "    <tr>\n",
       "      <th></th>\n",
       "      <th></th>\n",
       "      <th colspan=\"2\" halign=\"left\">A</th>\n",
       "      <th colspan=\"2\" halign=\"left\">B</th>\n",
       "    </tr>\n",
       "    <tr>\n",
       "      <th></th>\n",
       "      <th></th>\n",
       "      <th>a</th>\n",
       "      <th>b</th>\n",
       "      <th>a</th>\n",
       "      <th>b</th>\n",
       "    </tr>\n",
       "  </thead>\n",
       "  <tbody>\n",
       "    <tr>\n",
       "      <th rowspan=\"2\" valign=\"top\">a</th>\n",
       "      <th>x</th>\n",
       "      <td>100</td>\n",
       "      <td>59</td>\n",
       "      <td>79</td>\n",
       "      <td>72</td>\n",
       "    </tr>\n",
       "    <tr>\n",
       "      <th>y</th>\n",
       "      <td>100</td>\n",
       "      <td>77</td>\n",
       "      <td>54</td>\n",
       "      <td>81</td>\n",
       "    </tr>\n",
       "    <tr>\n",
       "      <th rowspan=\"2\" valign=\"top\">b</th>\n",
       "      <th>x</th>\n",
       "      <td>100</td>\n",
       "      <td>63</td>\n",
       "      <td>69</td>\n",
       "      <td>86</td>\n",
       "    </tr>\n",
       "    <tr>\n",
       "      <th>y</th>\n",
       "      <td>100</td>\n",
       "      <td>77</td>\n",
       "      <td>53</td>\n",
       "      <td>57</td>\n",
       "    </tr>\n",
       "  </tbody>\n",
       "</table>\n",
       "</div>"
      ],
      "text/plain": [
       "       A       B    \n",
       "       a   b   a   b\n",
       "a x  100  59  79  72\n",
       "  y  100  77  54  81\n",
       "b x  100  63  69  86\n",
       "  y  100  77  53  57"
      ]
     },
     "execution_count": 152,
     "metadata": {},
     "output_type": "execute_result"
    }
   ],
   "source": [
    "df3 = df.copy()\n",
    "\n",
    "df3[('A','a')] = [100] * 4\n",
    "df3"
   ]
  },
  {
   "cell_type": "code",
   "execution_count": 153,
   "id": "a94b5e57-6450-4b0f-8ba8-215304cc5d51",
   "metadata": {},
   "outputs": [
    {
     "name": "stderr",
     "output_type": "stream",
     "text": [
      "/var/folders/3k/bgnrnfc15w792712mgb6g0_c0000gn/T/ipykernel_26299/47914836.py:3: SettingWithCopyWarning: \n",
      "A value is trying to be set on a copy of a slice from a DataFrame.\n",
      "Try using .loc[row_indexer,col_indexer] = value instead\n",
      "\n",
      "See the caveats in the documentation: https://pandas.pydata.org/pandas-docs/stable/user_guide/indexing.html#returning-a-view-versus-a-copy\n",
      "  df3['A']['a'] = [100] * 4\n"
     ]
    },
    {
     "data": {
      "text/html": [
       "<div>\n",
       "<style scoped>\n",
       "    .dataframe tbody tr th:only-of-type {\n",
       "        vertical-align: middle;\n",
       "    }\n",
       "\n",
       "    .dataframe tbody tr th {\n",
       "        vertical-align: top;\n",
       "    }\n",
       "\n",
       "    .dataframe thead tr th {\n",
       "        text-align: left;\n",
       "    }\n",
       "</style>\n",
       "<table border=\"1\" class=\"dataframe\">\n",
       "  <thead>\n",
       "    <tr>\n",
       "      <th></th>\n",
       "      <th></th>\n",
       "      <th colspan=\"2\" halign=\"left\">A</th>\n",
       "      <th colspan=\"2\" halign=\"left\">B</th>\n",
       "    </tr>\n",
       "    <tr>\n",
       "      <th></th>\n",
       "      <th></th>\n",
       "      <th>a</th>\n",
       "      <th>b</th>\n",
       "      <th>a</th>\n",
       "      <th>b</th>\n",
       "    </tr>\n",
       "  </thead>\n",
       "  <tbody>\n",
       "    <tr>\n",
       "      <th rowspan=\"2\" valign=\"top\">a</th>\n",
       "      <th>x</th>\n",
       "      <td>66</td>\n",
       "      <td>59</td>\n",
       "      <td>79</td>\n",
       "      <td>72</td>\n",
       "    </tr>\n",
       "    <tr>\n",
       "      <th>y</th>\n",
       "      <td>52</td>\n",
       "      <td>77</td>\n",
       "      <td>54</td>\n",
       "      <td>81</td>\n",
       "    </tr>\n",
       "    <tr>\n",
       "      <th rowspan=\"2\" valign=\"top\">b</th>\n",
       "      <th>x</th>\n",
       "      <td>51</td>\n",
       "      <td>63</td>\n",
       "      <td>69</td>\n",
       "      <td>86</td>\n",
       "    </tr>\n",
       "    <tr>\n",
       "      <th>y</th>\n",
       "      <td>54</td>\n",
       "      <td>77</td>\n",
       "      <td>53</td>\n",
       "      <td>57</td>\n",
       "    </tr>\n",
       "  </tbody>\n",
       "</table>\n",
       "</div>"
      ],
      "text/plain": [
       "      A       B    \n",
       "      a   b   a   b\n",
       "a x  66  59  79  72\n",
       "  y  52  77  54  81\n",
       "b x  51  63  69  86\n",
       "  y  54  77  53  57"
      ]
     },
     "execution_count": 153,
     "metadata": {},
     "output_type": "execute_result"
    }
   ],
   "source": [
    "df3 = df.copy()\n",
    "\n",
    "df3['A']['a'] = [100] * 4\n",
    "df3"
   ]
  },
  {
   "cell_type": "code",
   "execution_count": 155,
   "id": "e5a6b60d-87f8-469c-84c4-b08b8f5fdbb9",
   "metadata": {},
   "outputs": [
    {
     "data": {
      "text/html": [
       "<div>\n",
       "<style scoped>\n",
       "    .dataframe tbody tr th:only-of-type {\n",
       "        vertical-align: middle;\n",
       "    }\n",
       "\n",
       "    .dataframe tbody tr th {\n",
       "        vertical-align: top;\n",
       "    }\n",
       "\n",
       "    .dataframe thead tr th {\n",
       "        text-align: left;\n",
       "    }\n",
       "</style>\n",
       "<table border=\"1\" class=\"dataframe\">\n",
       "  <thead>\n",
       "    <tr>\n",
       "      <th></th>\n",
       "      <th></th>\n",
       "      <th colspan=\"2\" halign=\"left\">A</th>\n",
       "      <th colspan=\"2\" halign=\"left\">B</th>\n",
       "    </tr>\n",
       "    <tr>\n",
       "      <th></th>\n",
       "      <th></th>\n",
       "      <th>a</th>\n",
       "      <th>b</th>\n",
       "      <th>a</th>\n",
       "      <th>b</th>\n",
       "    </tr>\n",
       "  </thead>\n",
       "  <tbody>\n",
       "    <tr>\n",
       "      <th rowspan=\"2\" valign=\"top\">a</th>\n",
       "      <th>x</th>\n",
       "      <td>66</td>\n",
       "      <td>59</td>\n",
       "      <td>79</td>\n",
       "      <td>72</td>\n",
       "    </tr>\n",
       "    <tr>\n",
       "      <th>y</th>\n",
       "      <td>52</td>\n",
       "      <td>77</td>\n",
       "      <td>54</td>\n",
       "      <td>1234</td>\n",
       "    </tr>\n",
       "    <tr>\n",
       "      <th rowspan=\"2\" valign=\"top\">b</th>\n",
       "      <th>x</th>\n",
       "      <td>51</td>\n",
       "      <td>63</td>\n",
       "      <td>69</td>\n",
       "      <td>86</td>\n",
       "    </tr>\n",
       "    <tr>\n",
       "      <th>y</th>\n",
       "      <td>54</td>\n",
       "      <td>77</td>\n",
       "      <td>53</td>\n",
       "      <td>57</td>\n",
       "    </tr>\n",
       "  </tbody>\n",
       "</table>\n",
       "</div>"
      ],
      "text/plain": [
       "      A       B      \n",
       "      a   b   a     b\n",
       "a x  66  59  79    72\n",
       "  y  52  77  54  1234\n",
       "b x  51  63  69    86\n",
       "  y  54  77  53    57"
      ]
     },
     "execution_count": 155,
     "metadata": {},
     "output_type": "execute_result"
    }
   ],
   "source": [
    "df3.loc[('a','y'),('B','b')] = 1234\n",
    "df3"
   ]
  },
  {
   "cell_type": "code",
   "execution_count": null,
   "id": "8fc1f7ea-2e2f-4888-b446-e262cfcba949",
   "metadata": {},
   "outputs": [],
   "source": []
  }
 ],
 "metadata": {
  "kernelspec": {
   "display_name": "Python 3 (ipykernel)",
   "language": "python",
   "name": "python3"
  },
  "language_info": {
   "codemirror_mode": {
    "name": "ipython",
    "version": 3
   },
   "file_extension": ".py",
   "mimetype": "text/x-python",
   "name": "python",
   "nbconvert_exporter": "python",
   "pygments_lexer": "ipython3",
   "version": "3.9.13"
  }
 },
 "nbformat": 4,
 "nbformat_minor": 5
}
