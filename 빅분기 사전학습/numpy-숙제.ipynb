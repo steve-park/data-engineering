{
 "cells": [
  {
   "cell_type": "markdown",
   "id": "1b2062f4-1c0c-4bcc-b61d-929a88890d61",
   "metadata": {},
   "source": [
    "# 구구단 프로그램 작성"
   ]
  },
  {
   "cell_type": "markdown",
   "id": "c587d138-2a86-4949-97b3-10a46d5aefa2",
   "metadata": {},
   "source": [
    "## 1.구구단 테이블 만들기 (참조표, lookup표)\n",
    "- 2 ~ 9단 작성\n",
    "- axis=0 (단)\n",
    "- ndarray 로 작성 (indexing이 편한다)"
   ]
  },
  {
   "cell_type": "code",
   "execution_count": 1,
   "id": "80df3d5b-aef6-4250-abde-23f27fbc312d",
   "metadata": {},
   "outputs": [],
   "source": [
    "import numpy as np\n",
    "\n",
    "def makeGUGU():\n",
    "    return np.array([['%1d*%1d=%2d' % (x, y, x*y) for x in range(2, 10)] for y in range(1, 10)])"
   ]
  },
  {
   "cell_type": "code",
   "execution_count": 2,
   "id": "b86a8584-9b82-482c-a5dd-9cf2c926ed42",
   "metadata": {},
   "outputs": [
    {
     "name": "stdout",
     "output_type": "stream",
     "text": [
      "<class 'numpy.ndarray'> 2 (9, 8) <U6\n",
      "[['2*1= 2' '3*1= 3' '4*1= 4' '5*1= 5' '6*1= 6' '7*1= 7' '8*1= 8' '9*1= 9']\n",
      " ['2*2= 4' '3*2= 6' '4*2= 8' '5*2=10' '6*2=12' '7*2=14' '8*2=16' '9*2=18']\n",
      " ['2*3= 6' '3*3= 9' '4*3=12' '5*3=15' '6*3=18' '7*3=21' '8*3=24' '9*3=27']\n",
      " ['2*4= 8' '3*4=12' '4*4=16' '5*4=20' '6*4=24' '7*4=28' '8*4=32' '9*4=36']\n",
      " ['2*5=10' '3*5=15' '4*5=20' '5*5=25' '6*5=30' '7*5=35' '8*5=40' '9*5=45']\n",
      " ['2*6=12' '3*6=18' '4*6=24' '5*6=30' '6*6=36' '7*6=42' '8*6=48' '9*6=54']\n",
      " ['2*7=14' '3*7=21' '4*7=28' '5*7=35' '6*7=42' '7*7=49' '8*7=56' '9*7=63']\n",
      " ['2*8=16' '3*8=24' '4*8=32' '5*8=40' '6*8=48' '7*8=56' '8*8=64' '9*8=72']\n",
      " ['2*9=18' '3*9=27' '4*9=36' '5*9=45' '6*9=54' '7*9=63' '8*9=72' '9*9=81']]\n"
     ]
    }
   ],
   "source": [
    "x = makeGUGU()\n",
    "print(type(x), x.ndim, x.shape, x.dtype)\n",
    "print(x)"
   ]
  },
  {
   "cell_type": "markdown",
   "id": "11920b51-ab31-473b-bfdb-46716253626a",
   "metadata": {},
   "source": [
    "## 2.메뉴 작성\n",
    "- 1.한개의 단 출력\n",
    "- 2.단의 범위 출력\n",
    "- 3.원하는 단의 목록 출력\n",
    "- 4.종료"
   ]
  },
  {
   "cell_type": "code",
   "execution_count": 3,
   "id": "cb8f15f7-8527-4ee4-a858-395cfbb82ace",
   "metadata": {},
   "outputs": [],
   "source": [
    "def printMenu(menulist):\n",
    "    print(\"-\" * 10, \" MENU \", \"-\" * 10)\n",
    "    for idx, menu in enumerate(menulist, start=1):\n",
    "        print(f'{idx}.{menu}')\n",
    "    print(\"-\" * 28)"
   ]
  },
  {
   "cell_type": "code",
   "execution_count": 4,
   "id": "1e785e5d-1fdf-435f-b69e-405c8f435688",
   "metadata": {},
   "outputs": [
    {
     "name": "stdout",
     "output_type": "stream",
     "text": [
      "----------  MENU  ----------\n",
      "1.한 개의 단 출력\n",
      "2.단의 범위 출력\n",
      "3.원하는 단의 목록 출력\n",
      "4.종료\n",
      "----------------------------\n"
     ]
    }
   ],
   "source": [
    "printMenu(['한 개의 단 출력', '단의 범위 출력', '원하는 단의 목록 출력', '종료'])"
   ]
  },
  {
   "cell_type": "markdown",
   "id": "8a74881f-520d-4a64-a81c-dd7a1dddd77b",
   "metadata": {},
   "source": [
    "## 3.메뉴 상세 동작 프로세스\n",
    "- 1.한개의 단 출력 (함수 -> doMenu1())\n",
    "    + 사용자 입력을 받음 ('단 번호 입력: ')\n",
    "    + 선택한 단을 위에서 아래로 출력\n",
    "    + 메뉴 표시\n",
    "- 2.단의 범위 출력 (함수 -> doMenu2())\n",
    "    + 사용자 입력을 받음 ('단 번호 범위 입력 예) 3 5: ')\n",
    "    + 선택한 단의 범위를 위에서 아래로 출력\n",
    "    + 메뉴 표시\n",
    "- 3.단의 목록 출력 (함수 -> doMenu3())\n",
    "    + 사용자 입력을 받음 ('출력을 원하는 단 목록 입력 예) 1 3 5 6: ')\n",
    "    + 선택한 단의 목록을 위에서 아래로 출력\n",
    "    + 메뉴 표시\n",
    "- 4.종료\n",
    "    + 프로그램 종료"
   ]
  },
  {
   "cell_type": "code",
   "execution_count": 5,
   "id": "6e29d051-d73a-4729-9653-6d08d91fea09",
   "metadata": {},
   "outputs": [],
   "source": [
    "def doMenu1(table):\n",
    "    x = int(input(\"단 번호 입력: \")) - 2\n",
    "    result = table[:, x:x+1]\n",
    "    return '\\n'.join('  '.join(line) for line in result)"
   ]
  },
  {
   "cell_type": "code",
   "execution_count": 7,
   "id": "3891115e-178e-46b1-9448-be648dfff78c",
   "metadata": {},
   "outputs": [
    {
     "name": "stdin",
     "output_type": "stream",
     "text": [
      "단 번호 입력:  3\n"
     ]
    },
    {
     "name": "stdout",
     "output_type": "stream",
     "text": [
      "3*1= 3\n",
      "3*2= 6\n",
      "3*3= 9\n",
      "3*4=12\n",
      "3*5=15\n",
      "3*6=18\n",
      "3*7=21\n",
      "3*8=24\n",
      "3*9=27\n"
     ]
    }
   ],
   "source": [
    "r = doMenu1(x)\n",
    "print(r)"
   ]
  },
  {
   "cell_type": "code",
   "execution_count": 8,
   "id": "6ecbce7a-5b7b-4879-86db-75baaa161952",
   "metadata": {},
   "outputs": [],
   "source": [
    "def doMenu2(table):\n",
    "    x = np.array(input(\"단 번호 범위 입력: \").split(' '), dtype=np.int16) - 2\n",
    "    result = table[:, x[0]:x[1]+1]\n",
    "    return '\\n'.join('  '.join(line) for line in result)"
   ]
  },
  {
   "cell_type": "code",
   "execution_count": 9,
   "id": "2714a82c-d23d-4825-927f-f44d3a016cdd",
   "metadata": {},
   "outputs": [
    {
     "name": "stdin",
     "output_type": "stream",
     "text": [
      "단 번호 범위 입력:  2 9\n"
     ]
    },
    {
     "name": "stdout",
     "output_type": "stream",
     "text": [
      "2*1= 2  3*1= 3  4*1= 4  5*1= 5  6*1= 6  7*1= 7  8*1= 8  9*1= 9\n",
      "2*2= 4  3*2= 6  4*2= 8  5*2=10  6*2=12  7*2=14  8*2=16  9*2=18\n",
      "2*3= 6  3*3= 9  4*3=12  5*3=15  6*3=18  7*3=21  8*3=24  9*3=27\n",
      "2*4= 8  3*4=12  4*4=16  5*4=20  6*4=24  7*4=28  8*4=32  9*4=36\n",
      "2*5=10  3*5=15  4*5=20  5*5=25  6*5=30  7*5=35  8*5=40  9*5=45\n",
      "2*6=12  3*6=18  4*6=24  5*6=30  6*6=36  7*6=42  8*6=48  9*6=54\n",
      "2*7=14  3*7=21  4*7=28  5*7=35  6*7=42  7*7=49  8*7=56  9*7=63\n",
      "2*8=16  3*8=24  4*8=32  5*8=40  6*8=48  7*8=56  8*8=64  9*8=72\n",
      "2*9=18  3*9=27  4*9=36  5*9=45  6*9=54  7*9=63  8*9=72  9*9=81\n"
     ]
    }
   ],
   "source": [
    "r = doMenu2(x)\n",
    "print(r)"
   ]
  },
  {
   "cell_type": "code",
   "execution_count": 10,
   "id": "2a6cbaa2-bbfe-4dcc-932f-1ace0136fc8d",
   "metadata": {},
   "outputs": [],
   "source": [
    "def doMenu3(table):\n",
    "    x = np.array(input(\"출력을 원하는 단 목록 입력: \").split(' '), dtype=np.int16) - 2\n",
    "    result = table[:, x]\n",
    "    return '\\n'.join(['  '.join(line) for line in result])"
   ]
  },
  {
   "cell_type": "code",
   "execution_count": 11,
   "id": "e4423b70-2bbb-4cf0-9cb0-00bfd1c9cec4",
   "metadata": {},
   "outputs": [
    {
     "name": "stdin",
     "output_type": "stream",
     "text": [
      "출력을 원하는 단 목록 입력:  3 7 9\n"
     ]
    },
    {
     "name": "stdout",
     "output_type": "stream",
     "text": [
      "3*1= 3  7*1= 7  9*1= 9\n",
      "3*2= 6  7*2=14  9*2=18\n",
      "3*3= 9  7*3=21  9*3=27\n",
      "3*4=12  7*4=28  9*4=36\n",
      "3*5=15  7*5=35  9*5=45\n",
      "3*6=18  7*6=42  9*6=54\n",
      "3*7=21  7*7=49  9*7=63\n",
      "3*8=24  7*8=56  9*8=72\n",
      "3*9=27  7*9=63  9*9=81\n"
     ]
    }
   ],
   "source": [
    "r = doMenu3(x)\n",
    "print(r)"
   ]
  },
  {
   "cell_type": "markdown",
   "id": "9c29fbcf-a60f-4367-b1cf-3b256ddb4cfd",
   "metadata": {},
   "source": [
    "## 4.전체 프로세스\n",
    "- 1.프로그램이 실행되면 구구단표를 생성하여 저장한다\n",
    "- 2.다음의 내용을 반복 수행한다\n",
    "    + 메뉴가 표시된다\n",
    "    + 사용자가 메뉴에서 번호를 선택한다\n",
    "    + 번호가 4이면 종료 메시지를 출력하고 반복을 종료한다\n",
    "    + 번호가 1, 2, 3 중 하나이면 doMenu1 ~ doMenu3 을 호출하여 동작을 수행한다"
   ]
  },
  {
   "cell_type": "code",
   "execution_count": 15,
   "id": "7270a63a-cc58-4088-b1a7-d99db5d3c3a0",
   "metadata": {},
   "outputs": [
    {
     "name": "stdout",
     "output_type": "stream",
     "text": [
      "----------  MENU  ----------\n",
      "1.한 개의 단 출력\n",
      "2.단의 범위 출력\n",
      "3.원하는 단 목록 출력\n",
      "4.종료\n",
      "----------------------------\n"
     ]
    },
    {
     "name": "stdin",
     "output_type": "stream",
     "text": [
      "메뉴를 선택:  1\n",
      "단 번호 입력:  3\n"
     ]
    },
    {
     "name": "stdout",
     "output_type": "stream",
     "text": [
      "3*1= 3\n",
      "3*2= 6\n",
      "3*3= 9\n",
      "3*4=12\n",
      "3*5=15\n",
      "3*6=18\n",
      "3*7=21\n",
      "3*8=24\n",
      "3*9=27\n",
      "----------  MENU  ----------\n",
      "1.한 개의 단 출력\n",
      "2.단의 범위 출력\n",
      "3.원하는 단 목록 출력\n",
      "4.종료\n",
      "----------------------------\n"
     ]
    },
    {
     "name": "stdin",
     "output_type": "stream",
     "text": [
      "메뉴를 선택:  2\n",
      "단 번호 범위 입력:  2 9\n"
     ]
    },
    {
     "name": "stdout",
     "output_type": "stream",
     "text": [
      "2*1= 2  3*1= 3  4*1= 4  5*1= 5  6*1= 6  7*1= 7  8*1= 8  9*1= 9\n",
      "2*2= 4  3*2= 6  4*2= 8  5*2=10  6*2=12  7*2=14  8*2=16  9*2=18\n",
      "2*3= 6  3*3= 9  4*3=12  5*3=15  6*3=18  7*3=21  8*3=24  9*3=27\n",
      "2*4= 8  3*4=12  4*4=16  5*4=20  6*4=24  7*4=28  8*4=32  9*4=36\n",
      "2*5=10  3*5=15  4*5=20  5*5=25  6*5=30  7*5=35  8*5=40  9*5=45\n",
      "2*6=12  3*6=18  4*6=24  5*6=30  6*6=36  7*6=42  8*6=48  9*6=54\n",
      "2*7=14  3*7=21  4*7=28  5*7=35  6*7=42  7*7=49  8*7=56  9*7=63\n",
      "2*8=16  3*8=24  4*8=32  5*8=40  6*8=48  7*8=56  8*8=64  9*8=72\n",
      "2*9=18  3*9=27  4*9=36  5*9=45  6*9=54  7*9=63  8*9=72  9*9=81\n",
      "----------  MENU  ----------\n",
      "1.한 개의 단 출력\n",
      "2.단의 범위 출력\n",
      "3.원하는 단 목록 출력\n",
      "4.종료\n",
      "----------------------------\n"
     ]
    },
    {
     "name": "stdin",
     "output_type": "stream",
     "text": [
      "메뉴를 선택:  3\n",
      "출력을 원하는 단 목록 입력:  7 9\n"
     ]
    },
    {
     "name": "stdout",
     "output_type": "stream",
     "text": [
      "7*1= 7  9*1= 9\n",
      "7*2=14  9*2=18\n",
      "7*3=21  9*3=27\n",
      "7*4=28  9*4=36\n",
      "7*5=35  9*5=45\n",
      "7*6=42  9*6=54\n",
      "7*7=49  9*7=63\n",
      "7*8=56  9*8=72\n",
      "7*9=63  9*9=81\n",
      "----------  MENU  ----------\n",
      "1.한 개의 단 출력\n",
      "2.단의 범위 출력\n",
      "3.원하는 단 목록 출력\n",
      "4.종료\n",
      "----------------------------\n"
     ]
    },
    {
     "name": "stdin",
     "output_type": "stream",
     "text": [
      "메뉴를 선택:  7\n"
     ]
    },
    {
     "name": "stdout",
     "output_type": "stream",
     "text": [
      "다음에 다시 만나요~~\n"
     ]
    }
   ],
   "source": [
    "GGT = makeGUGU()\n",
    "menulist = ['한 개의 단 출력', '단의 범위 출력', '원하는 단 목록 출력', '종료']\n",
    "myRun = [None, doMenu1, doMenu2, doMenu3]\n",
    "\n",
    "while True:\n",
    "    printMenu(menulist)\n",
    "    menu = int(input(\"메뉴를 선택: \"))\n",
    "    \n",
    "    if 0 < menu < 4:\n",
    "        r = myRun[menu](GGT) \n",
    "        print(r)\n",
    "    else:\n",
    "        print('다음에 다시 만나요~~')\n",
    "        break"
   ]
  },
  {
   "cell_type": "code",
   "execution_count": null,
   "id": "b219c3cd-98e1-4c4b-a374-352f7adf0027",
   "metadata": {},
   "outputs": [],
   "source": []
  }
 ],
 "metadata": {
  "kernelspec": {
   "display_name": "Python 3 (ipykernel)",
   "language": "python",
   "name": "python3"
  },
  "language_info": {
   "codemirror_mode": {
    "name": "ipython",
    "version": 3
   },
   "file_extension": ".py",
   "mimetype": "text/x-python",
   "name": "python",
   "nbconvert_exporter": "python",
   "pygments_lexer": "ipython3",
   "version": "3.9.13"
  }
 },
 "nbformat": 4,
 "nbformat_minor": 5
}
