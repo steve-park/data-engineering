{
 "cells": [
  {
   "cell_type": "markdown",
   "id": "21efd3ee-df7d-4ef3-99eb-2d99207d0882",
   "metadata": {},
   "source": [
    "# 시계열 데이터의 이해"
   ]
  },
  {
   "cell_type": "markdown",
   "id": "e0c3b803-dd1f-4ae3-81b1-318c563ade6e",
   "metadata": {},
   "source": [
    "## 시계열(time series) 데이터란?"
   ]
  },
  {
   "cell_type": "markdown",
   "id": "1764906b-2944-4497-b82b-95ef1bd2c155",
   "metadata": {},
   "source": [
    "- 일정한 시간동안 시간을 통해 수차적으로 발생한 관측치의 집합\n",
    "- 시간에 관해 순서가 매겨져 있으며, 연속한 관측치는 서로 상관관계를 가지고 있다는 특성"
   ]
  },
  {
   "cell_type": "markdown",
   "id": "cd0ec729-45ac-4649-b99c-880ad398e7ba",
   "metadata": {},
   "source": [
    "## 시계열 데이터 분석 목적"
   ]
  },
  {
   "cell_type": "markdown",
   "id": "decc346d-5ce7-47a1-bd69-b686dcd4d321",
   "metadata": {},
   "source": [
    "- 시계열이 갖고 있는 법칙성을 발견해 이를 모델화\n",
    "- 추정된 모델을 통하여 미래의 값을 예측(Forecasting) 하는 것"
   ]
  },
  {
   "cell_type": "markdown",
   "id": "7835881c-268d-438a-b512-cf226e941338",
   "metadata": {},
   "source": [
    "## 시계열 자료의 종류"
   ]
  },
  {
   "cell_type": "markdown",
   "id": "f762b4ae-bd8b-497f-a727-033bf5269574",
   "metadata": {},
   "source": [
    "- POS(Point of Sales) 구매 자료 : 불규칙적인 시차\n",
    "- 일일 코스피 주식 가격\n",
    "- 월별/분기별/연도별 특정 사건의 수치 : 규칙적인 시차"
   ]
  },
  {
   "cell_type": "markdown",
   "id": "f52e0bb5-7893-406e-874a-1bfd6156edaa",
   "metadata": {},
   "source": [
    "## 시계열 구성요소"
   ]
  },
  {
   "cell_type": "markdown",
   "id": "f14cb2a9-9fae-4ec4-83bd-bb4bd9a43652",
   "metadata": {},
   "source": [
    "1. 추세 요소 (trend factor)\n",
    "    - 장기간에 걸치 점진적이고 지속적인 변화 상태\n",
    "    - 시간의 흐름에 따른 상승 또는 하강 경향\n",
    "2. 계절 요소 (seasonal factor)\n",
    "    - 시계열 자료에서 주기적인 패턴을 갖고 반복적으로 나타나는 주기 변경\n",
    "    - 보통 분기별, 월별 자료에서 나타남\n",
    "3. 순환 요소 (cycle factor)\n",
    "    - 경기 변동 이라고도 함\n",
    "    - 수년 간의 간격을 두고 상승과 하락이 주기적으로 나타나는 변동\n",
    "    - 계절 변동으로 설명되지 않는 장기적인 변동을 주기 변경\n",
    "4. 뷸규칙 요소 (irregular/random factor)\n",
    "    - 사전적으로 예상할 수 없는 특수한 사건에 의해 야기되는 변공(지진, 전쟁, 홍수, 파업)"
   ]
  },
  {
   "cell_type": "markdown",
   "id": "224fafe0-35cf-4384-9b21-034a806cca79",
   "metadata": {},
   "source": [
    "# 시계열 AI 모델링"
   ]
  },
  {
   "cell_type": "markdown",
   "id": "9346b634-4cfd-4b1e-800e-77e6aa9afa26",
   "metadata": {},
   "source": [
    "## 시계열 분해법"
   ]
  },
  {
   "cell_type": "markdown",
   "id": "704e388b-f2cd-4e16-b012-44d5e10de1c0",
   "metadata": {},
   "source": [
    "시계열 데이터를 추세/순환/계절성/불규칙 요소로 분해하는 기법 -> 변동요인 확인: `Seasonal_decompose()` 함수 활용"
   ]
  },
  {
   "cell_type": "markdown",
   "id": "e9d55cee-d0db-446a-a2af-5a7d2277e7b5",
   "metadata": {},
   "source": [
    "덧셈 분해 (가법, additive decomposition)\n",
    "- y는 데이터이고, t는 시점, S는 계절 성분, T는 추세 및 순환 성분, R는 불규칙 요소를 의미\n",
    "- Trend 와 Seasonal 이 별개일 때 사용\n",
    "- $y_t = S_t + T_t + R_t$"
   ]
  },
  {
   "cell_type": "markdown",
   "id": "932f40d7-ba28-4619-89c2-d095ded78c1c",
   "metadata": {},
   "source": [
    "곱셈 분해 (승법, multiplicative decomposition)\n",
    "- y는 데이터이고, t는 시점, S는 계절 성분, T는 추세 및 순환 성분, R는 불규칙 요소를 의미\n",
    "- Trend에 따라 Seasonal 변화가 있을 떄 사용\n",
    "- $y_t = S_t * T_t * R_t$"
   ]
  },
  {
   "cell_type": "markdown",
   "id": "57ac879b-aab6-4792-a999-e7be58db0115",
   "metadata": {},
   "source": [
    "```\n",
    "result = seasonal_decompose(df['Close'], model='additive')\n",
    "result.plot()\n",
    "```\n",
    "- Original Data (관측치)\n",
    "- Trend + Cycle (추세 + 주기)\n",
    "- Seasonal (계절성)\n",
    "- Residual (잔차)"
   ]
  },
  {
   "cell_type": "markdown",
   "id": "28335fb3-2ec1-4209-9fdc-b9bf49490d18",
   "metadata": {},
   "source": [
    "## ARIMA 모델"
   ]
  },
  {
   "cell_type": "markdown",
   "id": "6c980957-b04e-4360-9a9a-119a9184f9d6",
   "metadata": {},
   "source": [
    "ARIMA (Auto-Regressive Integrated Moving Average) : 자기회귀누적이동평균 모형\n",
    "- AR(AutoRegression) 모형 + MA(Moving Average) 모형\n",
    "- 시계열 데이터 분석 기법 중 가장 기본이 되는 모델\n",
    "- ARIMA 모델은 시계열 데이터의 정상성(Stationary)를 가정하고 있음"
   ]
  },
  {
   "cell_type": "markdown",
   "id": "8f4dc88c-d46b-45a8-8c84-da01e3a82bd3",
   "metadata": {},
   "source": [
    "정상성 (Stationary) 이란?\n",
    "- $E(x_t) = \\mu$\n",
    "- $Var(x_t) = \\sigma^2$\n",
    "- $Cov(x_t, x_{t+h}) = Y_h$"
   ]
  },
  {
   "cell_type": "markdown",
   "id": "f587279f-4a1f-4bd9-9585-eb0838e94196",
   "metadata": {},
   "source": [
    "비정상성 시계열을 정상성 시계열로 변환하는 방법\n",
    "- 변동폭이 일정하지 않은 경우 : 로그 변환\n",
    "- 추세(trend factor), 계절성(seasonal factor)이 존재하는 경우 : 차분 (differencing)\n",
    "![nn](https://blog.kakaocdn.net/dn/bbkhz8/btq5u4Lq6vo/fu3pdJOKTewZVnY1jenbaK/img.png)"
   ]
  },
  {
   "cell_type": "markdown",
   "id": "a214e79d-bb09-4f16-bdf7-5abad8deacb9",
   "metadata": {},
   "source": [
    "ARIMA 모델은 AR계수, 차분횟수, MA 계수 -> (p, d, q) 결정\n",
    "- auto_arima 함수 이용하여 자동으로 좋은 (p, d, q) 결정\n",
    "- `auto_arima = auto_arima(df['AvgTemp'], trace=True)`\n",
    "- ```\n",
    "   Best model: ARIMA(1,0,5) (0,0,0) [0] intercept\n",
    "   Total fit time: 59.824 seconds\n",
    "   ```"
   ]
  },
  {
   "cell_type": "markdown",
   "id": "e6bedb0f-74b0-472d-b488-412c12e62657",
   "metadata": {},
   "source": [
    "시계열 데이터를 ARIMA 모델 구현\n",
    "```\n",
    "from statsmodels.tsa.arima_model import ARIMA\n",
    "\n",
    "model = ARIMA(df['AvgTemp'], order=(1,0,5))\n",
    "model = model.fit()\n",
    "model.summary()\n",
    "\n",
    "model.plot_predict()\n",
    "```\n",
    "![nn](https://miro.medium.com/v2/resize:fit:996/1*bo88HVWzl-vsqhYl5N0KTA.png)"
   ]
  },
  {
   "cell_type": "markdown",
   "id": "95a5c42c-7c65-43c2-8a52-5576c2213422",
   "metadata": {},
   "source": [
    "## RNN (Recurrent Neural Network)"
   ]
  },
  {
   "cell_type": "markdown",
   "id": "09a68d0d-9374-4ae8-a413-79384d55b185",
   "metadata": {},
   "source": [
    "- DNN 신경망 : 은닉층에서 나온 결과값은 출력층 방향으로만 향 함\n",
    "![nn](https://blog.kakaocdn.net/dn/Me6NZ/btqAkybHfbJ/fx5NKmeXgq8nR5XkiStpFK/img.png)"
   ]
  },
  {
   "cell_type": "markdown",
   "id": "d95c5835-7748-4e38-ae4f-6da86b15af51",
   "metadata": {},
   "source": [
    "- 은닉층에서 나온 결과값을 출력층 방향으로도 보내면서,\n",
    "- 다음 은닉층 노드의 입력값으로 보내는 특징 : 이전 정보들을 사용하여 예측하므로, 시계열 데이터 처리에 특화\n",
    "- Sequence 모델로 순서가 있음\n",
    "![nn](https://www.researchgate.net/profile/Weijiang_Feng/publication/318332317/figure/fig1/AS:614309562437664@1523474221928/The-standard-RNN-and-unfolded-RNN.png)"
   ]
  },
  {
   "cell_type": "markdown",
   "id": "9bb4e25f-1ffb-430b-aab1-8ad473e853c4",
   "metadata": {},
   "source": [
    "## LSTM (Long-Short Term Memory)"
   ]
  },
  {
   "cell_type": "markdown",
   "id": "4fe5e5f2-968f-4213-ad8a-88d82b6e3e38",
   "metadata": {},
   "source": [
    "- RNN : Sequence 가 길어지면 Gradient Vanishing Problem 발생\n",
    "- LSTM : Cell States 에 필요한 정보만을 저장, 긴 Sequence 를 더 잘 학습\n",
    "- 코드 샘플\n",
    "```\n",
    "model = Sequential()\n",
    "model.add(LSTM(3, input_shape=(3,1), activation='relu'))\n",
    "model.add(Dense(1))\n",
    "```\n",
    "![nn](https://ashutoshtripathicom.files.wordpress.com/2021/06/rnn-vs-lstm.png)\n",
    "![nn](https://www.oreilly.com/content/wp-content/uploads/sites/2/2019/06/figure1-4ee485edcb5d51bbed8e4fa14d54a649.jpg)"
   ]
  },
  {
   "cell_type": "markdown",
   "id": "a40bfa6b-eaeb-47b5-874d-a6107035ea44",
   "metadata": {},
   "source": [
    "# 시계열 데이터 처리 실습"
   ]
  },
  {
   "cell_type": "markdown",
   "id": "f71ce1b4-a253-4ca1-ac65-ec2d294c5640",
   "metadata": {},
   "source": [
    "## 시계열 데이터 가져오기"
   ]
  },
  {
   "cell_type": "markdown",
   "id": "570b9502-c0cc-45a9-b845-60f803ce8b48",
   "metadata": {},
   "source": [
    "- 시계열 전처리에서 많이 사용되는 Date 컬럼을 인덱스로 사용하여 쉽게 날짜로 검색\n",
    "- 시계열 데이터를 시간 간격으로 그룹화하여 단위 시간별 평균 산출\n",
    "- 시계열 데이터를 이용해서 ARIMA 모델과 RNN 모델을 구현"
   ]
  },
  {
   "cell_type": "markdown",
   "id": "cbe67ded-343d-4d24-8865-fbcee9648c23",
   "metadata": {},
   "source": [
    "### 필요 모듈 로딩"
   ]
  },
  {
   "cell_type": "code",
   "execution_count": 1,
   "id": "3833bbf8-f61c-408b-bb94-863128e773a1",
   "metadata": {
    "tags": []
   },
   "outputs": [],
   "source": [
    "import warnings\n",
    "warnings.filterwarnings(action='ignore')"
   ]
  },
  {
   "cell_type": "code",
   "execution_count": 2,
   "id": "e1e3d1eb-5909-47b7-97e6-d018827a59b0",
   "metadata": {
    "tags": []
   },
   "outputs": [],
   "source": [
    "import numpy as np\n",
    "import pandas as pd\n",
    "import matplotlib.pyplot as plt"
   ]
  },
  {
   "cell_type": "markdown",
   "id": "df4085d6-744d-4ae4-a750-57429ab2fcca",
   "metadata": {},
   "source": [
    "### 주가 데이터 읽어오기"
   ]
  },
  {
   "cell_type": "code",
   "execution_count": 3,
   "id": "91cb1ae2-0152-49d1-92fe-4831d73d3154",
   "metadata": {
    "tags": []
   },
   "outputs": [],
   "source": [
    "df = pd.read_csv('./aapl.csv')"
   ]
  },
  {
   "cell_type": "code",
   "execution_count": 4,
   "id": "9631fbf9-ff10-4834-a3a5-ce4329312d3d",
   "metadata": {
    "tags": []
   },
   "outputs": [
    {
     "data": {
      "text/html": [
       "<div>\n",
       "<style scoped>\n",
       "    .dataframe tbody tr th:only-of-type {\n",
       "        vertical-align: middle;\n",
       "    }\n",
       "\n",
       "    .dataframe tbody tr th {\n",
       "        vertical-align: top;\n",
       "    }\n",
       "\n",
       "    .dataframe thead th {\n",
       "        text-align: right;\n",
       "    }\n",
       "</style>\n",
       "<table border=\"1\" class=\"dataframe\">\n",
       "  <thead>\n",
       "    <tr style=\"text-align: right;\">\n",
       "      <th></th>\n",
       "      <th>Date</th>\n",
       "      <th>Open</th>\n",
       "      <th>High</th>\n",
       "      <th>Low</th>\n",
       "      <th>Close</th>\n",
       "      <th>Adj Close</th>\n",
       "      <th>Volume</th>\n",
       "    </tr>\n",
       "  </thead>\n",
       "  <tbody>\n",
       "    <tr>\n",
       "      <th>0</th>\n",
       "      <td>2016-04-11</td>\n",
       "      <td>27.242500</td>\n",
       "      <td>27.652500</td>\n",
       "      <td>27.207500</td>\n",
       "      <td>27.254999</td>\n",
       "      <td>25.048595</td>\n",
       "      <td>117630000</td>\n",
       "    </tr>\n",
       "    <tr>\n",
       "      <th>1</th>\n",
       "      <td>2016-04-12</td>\n",
       "      <td>27.334999</td>\n",
       "      <td>27.625000</td>\n",
       "      <td>27.165001</td>\n",
       "      <td>27.610001</td>\n",
       "      <td>25.374861</td>\n",
       "      <td>108929200</td>\n",
       "    </tr>\n",
       "    <tr>\n",
       "      <th>2</th>\n",
       "      <td>2016-04-13</td>\n",
       "      <td>27.700001</td>\n",
       "      <td>28.084999</td>\n",
       "      <td>27.700001</td>\n",
       "      <td>28.010000</td>\n",
       "      <td>25.742481</td>\n",
       "      <td>133029200</td>\n",
       "    </tr>\n",
       "    <tr>\n",
       "      <th>3</th>\n",
       "      <td>2016-04-14</td>\n",
       "      <td>27.905001</td>\n",
       "      <td>28.097500</td>\n",
       "      <td>27.832500</td>\n",
       "      <td>28.025000</td>\n",
       "      <td>25.756268</td>\n",
       "      <td>101895600</td>\n",
       "    </tr>\n",
       "    <tr>\n",
       "      <th>4</th>\n",
       "      <td>2016-04-15</td>\n",
       "      <td>28.027500</td>\n",
       "      <td>28.075001</td>\n",
       "      <td>27.432501</td>\n",
       "      <td>27.462500</td>\n",
       "      <td>25.239300</td>\n",
       "      <td>187756000</td>\n",
       "    </tr>\n",
       "  </tbody>\n",
       "</table>\n",
       "</div>"
      ],
      "text/plain": [
       "         Date       Open       High        Low      Close  Adj Close  \\\n",
       "0  2016-04-11  27.242500  27.652500  27.207500  27.254999  25.048595   \n",
       "1  2016-04-12  27.334999  27.625000  27.165001  27.610001  25.374861   \n",
       "2  2016-04-13  27.700001  28.084999  27.700001  28.010000  25.742481   \n",
       "3  2016-04-14  27.905001  28.097500  27.832500  28.025000  25.756268   \n",
       "4  2016-04-15  28.027500  28.075001  27.432501  27.462500  25.239300   \n",
       "\n",
       "      Volume  \n",
       "0  117630000  \n",
       "1  108929200  \n",
       "2  133029200  \n",
       "3  101895600  \n",
       "4  187756000  "
      ]
     },
     "execution_count": 4,
     "metadata": {},
     "output_type": "execute_result"
    }
   ],
   "source": [
    "df.head()"
   ]
  },
  {
   "cell_type": "markdown",
   "id": "b4a22202-ea11-4a0c-aaf4-9503e3f17874",
   "metadata": {},
   "source": [
    "### EDA"
   ]
  },
  {
   "cell_type": "code",
   "execution_count": 5,
   "id": "2e71fcec-88d4-47c2-9f58-005c9c61bdb8",
   "metadata": {
    "tags": []
   },
   "outputs": [
    {
     "name": "stdout",
     "output_type": "stream",
     "text": [
      "<class 'pandas.core.frame.DataFrame'>\n",
      "RangeIndex: 1761 entries, 0 to 1760\n",
      "Data columns (total 7 columns):\n",
      " #   Column     Non-Null Count  Dtype  \n",
      "---  ------     --------------  -----  \n",
      " 0   Date       1761 non-null   object \n",
      " 1   Open       1761 non-null   float64\n",
      " 2   High       1761 non-null   float64\n",
      " 3   Low        1761 non-null   float64\n",
      " 4   Close      1761 non-null   float64\n",
      " 5   Adj Close  1761 non-null   float64\n",
      " 6   Volume     1761 non-null   int64  \n",
      "dtypes: float64(5), int64(1), object(1)\n",
      "memory usage: 96.4+ KB\n"
     ]
    }
   ],
   "source": [
    "df.info()"
   ]
  },
  {
   "cell_type": "code",
   "execution_count": 6,
   "id": "9b093e29-d2c2-4a04-bc2f-63ec235f83ac",
   "metadata": {
    "tags": []
   },
   "outputs": [
    {
     "data": {
      "text/html": [
       "<div>\n",
       "<style scoped>\n",
       "    .dataframe tbody tr th:only-of-type {\n",
       "        vertical-align: middle;\n",
       "    }\n",
       "\n",
       "    .dataframe tbody tr th {\n",
       "        vertical-align: top;\n",
       "    }\n",
       "\n",
       "    .dataframe thead th {\n",
       "        text-align: right;\n",
       "    }\n",
       "</style>\n",
       "<table border=\"1\" class=\"dataframe\">\n",
       "  <thead>\n",
       "    <tr style=\"text-align: right;\">\n",
       "      <th></th>\n",
       "      <th>Open</th>\n",
       "      <th>High</th>\n",
       "      <th>Low</th>\n",
       "      <th>Close</th>\n",
       "      <th>Adj Close</th>\n",
       "      <th>Volume</th>\n",
       "    </tr>\n",
       "  </thead>\n",
       "  <tbody>\n",
       "    <tr>\n",
       "      <th>count</th>\n",
       "      <td>1761.000000</td>\n",
       "      <td>1761.000000</td>\n",
       "      <td>1761.000000</td>\n",
       "      <td>1761.000000</td>\n",
       "      <td>1761.000000</td>\n",
       "      <td>1.761000e+03</td>\n",
       "    </tr>\n",
       "    <tr>\n",
       "      <th>mean</th>\n",
       "      <td>83.774472</td>\n",
       "      <td>84.755856</td>\n",
       "      <td>82.853604</td>\n",
       "      <td>83.850068</td>\n",
       "      <td>82.321635</td>\n",
       "      <td>1.167493e+08</td>\n",
       "    </tr>\n",
       "    <tr>\n",
       "      <th>std</th>\n",
       "      <td>49.873898</td>\n",
       "      <td>50.548120</td>\n",
       "      <td>49.225033</td>\n",
       "      <td>49.916488</td>\n",
       "      <td>50.330708</td>\n",
       "      <td>5.545315e+07</td>\n",
       "    </tr>\n",
       "    <tr>\n",
       "      <th>min</th>\n",
       "      <td>22.500000</td>\n",
       "      <td>22.917500</td>\n",
       "      <td>22.367500</td>\n",
       "      <td>22.584999</td>\n",
       "      <td>20.883038</td>\n",
       "      <td>3.519590e+07</td>\n",
       "    </tr>\n",
       "    <tr>\n",
       "      <th>25%</th>\n",
       "      <td>41.500000</td>\n",
       "      <td>42.110001</td>\n",
       "      <td>41.117500</td>\n",
       "      <td>41.610001</td>\n",
       "      <td>39.677227</td>\n",
       "      <td>8.052840e+07</td>\n",
       "    </tr>\n",
       "    <tr>\n",
       "      <th>50%</th>\n",
       "      <td>57.102501</td>\n",
       "      <td>57.500000</td>\n",
       "      <td>56.657501</td>\n",
       "      <td>57.090000</td>\n",
       "      <td>55.353104</td>\n",
       "      <td>1.030265e+08</td>\n",
       "    </tr>\n",
       "    <tr>\n",
       "      <th>75%</th>\n",
       "      <td>134.990005</td>\n",
       "      <td>136.490005</td>\n",
       "      <td>133.559998</td>\n",
       "      <td>134.869995</td>\n",
       "      <td>133.522751</td>\n",
       "      <td>1.357428e+08</td>\n",
       "    </tr>\n",
       "    <tr>\n",
       "      <th>max</th>\n",
       "      <td>182.630005</td>\n",
       "      <td>182.940002</td>\n",
       "      <td>179.119995</td>\n",
       "      <td>182.009995</td>\n",
       "      <td>180.683884</td>\n",
       "      <td>4.584084e+08</td>\n",
       "    </tr>\n",
       "  </tbody>\n",
       "</table>\n",
       "</div>"
      ],
      "text/plain": [
       "              Open         High          Low        Close    Adj Close  \\\n",
       "count  1761.000000  1761.000000  1761.000000  1761.000000  1761.000000   \n",
       "mean     83.774472    84.755856    82.853604    83.850068    82.321635   \n",
       "std      49.873898    50.548120    49.225033    49.916488    50.330708   \n",
       "min      22.500000    22.917500    22.367500    22.584999    20.883038   \n",
       "25%      41.500000    42.110001    41.117500    41.610001    39.677227   \n",
       "50%      57.102501    57.500000    56.657501    57.090000    55.353104   \n",
       "75%     134.990005   136.490005   133.559998   134.869995   133.522751   \n",
       "max     182.630005   182.940002   179.119995   182.009995   180.683884   \n",
       "\n",
       "             Volume  \n",
       "count  1.761000e+03  \n",
       "mean   1.167493e+08  \n",
       "std    5.545315e+07  \n",
       "min    3.519590e+07  \n",
       "25%    8.052840e+07  \n",
       "50%    1.030265e+08  \n",
       "75%    1.357428e+08  \n",
       "max    4.584084e+08  "
      ]
     },
     "execution_count": 6,
     "metadata": {},
     "output_type": "execute_result"
    }
   ],
   "source": [
    "df.describe()"
   ]
  },
  {
   "cell_type": "markdown",
   "id": "9c7cefca-62e6-40e9-a4cf-1c6e5e5f3a23",
   "metadata": {},
   "source": [
    "## 시계열 데이터 전처리"
   ]
  },
  {
   "cell_type": "markdown",
   "id": "2e510711-4d64-4186-a1d0-b88d50e3ed1b",
   "metadata": {},
   "source": [
    "### Null 값을 interpolate 함수 활용하여 값 채우기"
   ]
  },
  {
   "cell_type": "code",
   "execution_count": 7,
   "id": "ce7bb9ab-fd8c-4c9d-89e4-deed079c21e3",
   "metadata": {
    "tags": []
   },
   "outputs": [
    {
     "data": {
      "text/plain": [
       "Date         0\n",
       "Open         0\n",
       "High         0\n",
       "Low          0\n",
       "Close        0\n",
       "Adj Close    0\n",
       "Volume       0\n",
       "dtype: int64"
      ]
     },
     "execution_count": 7,
     "metadata": {},
     "output_type": "execute_result"
    }
   ],
   "source": [
    "df.isnull().sum()"
   ]
  },
  {
   "cell_type": "code",
   "execution_count": 8,
   "id": "a77f7fbc-106b-493f-9fae-f30156c81730",
   "metadata": {
    "tags": []
   },
   "outputs": [
    {
     "data": {
      "text/plain": [
       "0       False\n",
       "1       False\n",
       "2       False\n",
       "3       False\n",
       "4       False\n",
       "        ...  \n",
       "1756    False\n",
       "1757    False\n",
       "1758    False\n",
       "1759    False\n",
       "1760    False\n",
       "Name: Open, Length: 1761, dtype: bool"
      ]
     },
     "execution_count": 8,
     "metadata": {},
     "output_type": "execute_result"
    }
   ],
   "source": [
    "cond = (df['Open'].isnull() == True)\n",
    "cond"
   ]
  },
  {
   "cell_type": "code",
   "execution_count": 9,
   "id": "194515f3-ad77-4198-9d3d-3e40dbe0b68a",
   "metadata": {
    "tags": []
   },
   "outputs": [
    {
     "data": {
      "text/html": [
       "<div>\n",
       "<style scoped>\n",
       "    .dataframe tbody tr th:only-of-type {\n",
       "        vertical-align: middle;\n",
       "    }\n",
       "\n",
       "    .dataframe tbody tr th {\n",
       "        vertical-align: top;\n",
       "    }\n",
       "\n",
       "    .dataframe thead th {\n",
       "        text-align: right;\n",
       "    }\n",
       "</style>\n",
       "<table border=\"1\" class=\"dataframe\">\n",
       "  <thead>\n",
       "    <tr style=\"text-align: right;\">\n",
       "      <th></th>\n",
       "      <th>Date</th>\n",
       "      <th>Open</th>\n",
       "      <th>High</th>\n",
       "      <th>Low</th>\n",
       "      <th>Close</th>\n",
       "      <th>Adj Close</th>\n",
       "      <th>Volume</th>\n",
       "    </tr>\n",
       "  </thead>\n",
       "  <tbody>\n",
       "  </tbody>\n",
       "</table>\n",
       "</div>"
      ],
      "text/plain": [
       "Empty DataFrame\n",
       "Columns: [Date, Open, High, Low, Close, Adj Close, Volume]\n",
       "Index: []"
      ]
     },
     "execution_count": 9,
     "metadata": {},
     "output_type": "execute_result"
    }
   ],
   "source": [
    "df[cond]"
   ]
  },
  {
   "cell_type": "code",
   "execution_count": 10,
   "id": "69f2a1d2-41e2-4e93-98b0-e242c9bd1a1c",
   "metadata": {
    "tags": []
   },
   "outputs": [],
   "source": [
    "df['Open'].interpolate(inplace=True)"
   ]
  },
  {
   "cell_type": "code",
   "execution_count": 11,
   "id": "4b7405c4-d791-489e-afb4-a865c9b21cd3",
   "metadata": {
    "tags": []
   },
   "outputs": [
    {
     "data": {
      "text/html": [
       "<div>\n",
       "<style scoped>\n",
       "    .dataframe tbody tr th:only-of-type {\n",
       "        vertical-align: middle;\n",
       "    }\n",
       "\n",
       "    .dataframe tbody tr th {\n",
       "        vertical-align: top;\n",
       "    }\n",
       "\n",
       "    .dataframe thead th {\n",
       "        text-align: right;\n",
       "    }\n",
       "</style>\n",
       "<table border=\"1\" class=\"dataframe\">\n",
       "  <thead>\n",
       "    <tr style=\"text-align: right;\">\n",
       "      <th></th>\n",
       "      <th>Date</th>\n",
       "      <th>Open</th>\n",
       "      <th>High</th>\n",
       "      <th>Low</th>\n",
       "      <th>Close</th>\n",
       "      <th>Adj Close</th>\n",
       "      <th>Volume</th>\n",
       "    </tr>\n",
       "  </thead>\n",
       "  <tbody>\n",
       "  </tbody>\n",
       "</table>\n",
       "</div>"
      ],
      "text/plain": [
       "Empty DataFrame\n",
       "Columns: [Date, Open, High, Low, Close, Adj Close, Volume]\n",
       "Index: []"
      ]
     },
     "execution_count": 11,
     "metadata": {},
     "output_type": "execute_result"
    }
   ],
   "source": [
    "df[cond]"
   ]
  },
  {
   "cell_type": "code",
   "execution_count": 12,
   "id": "67f6230c-e016-4078-ab07-4fe976cc5342",
   "metadata": {
    "tags": []
   },
   "outputs": [
    {
     "data": {
      "text/plain": [
       "Date         0\n",
       "Open         0\n",
       "High         0\n",
       "Low          0\n",
       "Close        0\n",
       "Adj Close    0\n",
       "Volume       0\n",
       "dtype: int64"
      ]
     },
     "execution_count": 12,
     "metadata": {},
     "output_type": "execute_result"
    }
   ],
   "source": [
    "df.isnull().sum()"
   ]
  },
  {
   "cell_type": "markdown",
   "id": "10c9e8bc-3643-4c26-b8d4-b86de5c0c04f",
   "metadata": {},
   "source": [
    "### Volume 타입을 float 변경"
   ]
  },
  {
   "cell_type": "code",
   "execution_count": 13,
   "id": "cef3a3ed-ca8d-41d7-81e1-fde8ced68b71",
   "metadata": {
    "tags": []
   },
   "outputs": [
    {
     "name": "stdout",
     "output_type": "stream",
     "text": [
      "<class 'pandas.core.frame.DataFrame'>\n",
      "RangeIndex: 1761 entries, 0 to 1760\n",
      "Data columns (total 7 columns):\n",
      " #   Column     Non-Null Count  Dtype  \n",
      "---  ------     --------------  -----  \n",
      " 0   Date       1761 non-null   object \n",
      " 1   Open       1761 non-null   float64\n",
      " 2   High       1761 non-null   float64\n",
      " 3   Low        1761 non-null   float64\n",
      " 4   Close      1761 non-null   float64\n",
      " 5   Adj Close  1761 non-null   float64\n",
      " 6   Volume     1761 non-null   int64  \n",
      "dtypes: float64(5), int64(1), object(1)\n",
      "memory usage: 96.4+ KB\n"
     ]
    }
   ],
   "source": [
    "df.info()"
   ]
  },
  {
   "cell_type": "code",
   "execution_count": 14,
   "id": "09c9afc0-c9ba-4ea2-80f4-8b3647bc6056",
   "metadata": {
    "tags": []
   },
   "outputs": [
    {
     "data": {
      "text/plain": [
       "0       117630000.0\n",
       "1       108929200.0\n",
       "2       133029200.0\n",
       "3       101895600.0\n",
       "4       187756000.0\n",
       "           ...     \n",
       "1756     68694700.0\n",
       "1757     56976200.0\n",
       "1758     46278300.0\n",
       "1759     51511700.0\n",
       "1760     45390100.0\n",
       "Name: Volume, Length: 1761, dtype: float64"
      ]
     },
     "execution_count": 14,
     "metadata": {},
     "output_type": "execute_result"
    }
   ],
   "source": [
    "df['Volume'].astype(np.float64)"
   ]
  },
  {
   "cell_type": "code",
   "execution_count": 15,
   "id": "03bee96e-8212-4030-937f-70a02d3fa803",
   "metadata": {
    "tags": []
   },
   "outputs": [],
   "source": [
    "# cond = df['Volume'].str.contains(',')"
   ]
  },
  {
   "cell_type": "code",
   "execution_count": 16,
   "id": "b9222e7d-a3ed-4697-982a-e143bc732d39",
   "metadata": {
    "tags": []
   },
   "outputs": [
    {
     "data": {
      "text/html": [
       "<div>\n",
       "<style scoped>\n",
       "    .dataframe tbody tr th:only-of-type {\n",
       "        vertical-align: middle;\n",
       "    }\n",
       "\n",
       "    .dataframe tbody tr th {\n",
       "        vertical-align: top;\n",
       "    }\n",
       "\n",
       "    .dataframe thead th {\n",
       "        text-align: right;\n",
       "    }\n",
       "</style>\n",
       "<table border=\"1\" class=\"dataframe\">\n",
       "  <thead>\n",
       "    <tr style=\"text-align: right;\">\n",
       "      <th></th>\n",
       "      <th>Date</th>\n",
       "      <th>Open</th>\n",
       "      <th>High</th>\n",
       "      <th>Low</th>\n",
       "      <th>Close</th>\n",
       "      <th>Adj Close</th>\n",
       "      <th>Volume</th>\n",
       "    </tr>\n",
       "  </thead>\n",
       "  <tbody>\n",
       "  </tbody>\n",
       "</table>\n",
       "</div>"
      ],
      "text/plain": [
       "Empty DataFrame\n",
       "Columns: [Date, Open, High, Low, Close, Adj Close, Volume]\n",
       "Index: []"
      ]
     },
     "execution_count": 16,
     "metadata": {},
     "output_type": "execute_result"
    }
   ],
   "source": [
    "df[cond].head()"
   ]
  },
  {
   "cell_type": "code",
   "execution_count": 17,
   "id": "e5e0135b-f7fe-4acb-a3a0-d018a6b4276f",
   "metadata": {
    "tags": []
   },
   "outputs": [],
   "source": [
    "# df['Volume'].str.replace(',','')"
   ]
  },
  {
   "cell_type": "code",
   "execution_count": 18,
   "id": "f7dcd82a-46e5-4f6c-a3c8-1ff2e944e8c7",
   "metadata": {
    "tags": []
   },
   "outputs": [
    {
     "data": {
      "text/html": [
       "<div>\n",
       "<style scoped>\n",
       "    .dataframe tbody tr th:only-of-type {\n",
       "        vertical-align: middle;\n",
       "    }\n",
       "\n",
       "    .dataframe tbody tr th {\n",
       "        vertical-align: top;\n",
       "    }\n",
       "\n",
       "    .dataframe thead th {\n",
       "        text-align: right;\n",
       "    }\n",
       "</style>\n",
       "<table border=\"1\" class=\"dataframe\">\n",
       "  <thead>\n",
       "    <tr style=\"text-align: right;\">\n",
       "      <th></th>\n",
       "      <th>Date</th>\n",
       "      <th>Open</th>\n",
       "      <th>High</th>\n",
       "      <th>Low</th>\n",
       "      <th>Close</th>\n",
       "      <th>Adj Close</th>\n",
       "      <th>Volume</th>\n",
       "    </tr>\n",
       "  </thead>\n",
       "  <tbody>\n",
       "  </tbody>\n",
       "</table>\n",
       "</div>"
      ],
      "text/plain": [
       "Empty DataFrame\n",
       "Columns: [Date, Open, High, Low, Close, Adj Close, Volume]\n",
       "Index: []"
      ]
     },
     "execution_count": 18,
     "metadata": {},
     "output_type": "execute_result"
    }
   ],
   "source": [
    "df[cond].head()"
   ]
  },
  {
   "cell_type": "code",
   "execution_count": 19,
   "id": "e46727b9-c21a-4495-b154-f4d366bb2145",
   "metadata": {
    "tags": []
   },
   "outputs": [],
   "source": [
    "df['Volume'] = df['Volume'].astype(float)"
   ]
  },
  {
   "cell_type": "code",
   "execution_count": 20,
   "id": "ea22397f-67db-4b14-8626-1f630d4f553a",
   "metadata": {
    "tags": []
   },
   "outputs": [
    {
     "name": "stdout",
     "output_type": "stream",
     "text": [
      "<class 'pandas.core.frame.DataFrame'>\n",
      "RangeIndex: 1761 entries, 0 to 1760\n",
      "Data columns (total 7 columns):\n",
      " #   Column     Non-Null Count  Dtype  \n",
      "---  ------     --------------  -----  \n",
      " 0   Date       1761 non-null   object \n",
      " 1   Open       1761 non-null   float64\n",
      " 2   High       1761 non-null   float64\n",
      " 3   Low        1761 non-null   float64\n",
      " 4   Close      1761 non-null   float64\n",
      " 5   Adj Close  1761 non-null   float64\n",
      " 6   Volume     1761 non-null   float64\n",
      "dtypes: float64(6), object(1)\n",
      "memory usage: 96.4+ KB\n"
     ]
    }
   ],
   "source": [
    "df.info()"
   ]
  },
  {
   "cell_type": "markdown",
   "id": "084133db-8787-45bc-879d-a79b2ed7e7d0",
   "metadata": {},
   "source": [
    "### Pandas to_datetime 이용해서 Date 컬럼 타입을 datetime 으로 변경"
   ]
  },
  {
   "cell_type": "code",
   "execution_count": 21,
   "id": "cb489d6e-698a-42b4-85b3-269985de6959",
   "metadata": {
    "tags": []
   },
   "outputs": [],
   "source": [
    "df['Date'] = pd.to_datetime(df['Date'])"
   ]
  },
  {
   "cell_type": "code",
   "execution_count": 22,
   "id": "a4b64843-3e86-4a63-9ecc-66b50ff4dc7a",
   "metadata": {
    "tags": []
   },
   "outputs": [
    {
     "name": "stdout",
     "output_type": "stream",
     "text": [
      "<class 'pandas.core.frame.DataFrame'>\n",
      "RangeIndex: 1761 entries, 0 to 1760\n",
      "Data columns (total 7 columns):\n",
      " #   Column     Non-Null Count  Dtype         \n",
      "---  ------     --------------  -----         \n",
      " 0   Date       1761 non-null   datetime64[ns]\n",
      " 1   Open       1761 non-null   float64       \n",
      " 2   High       1761 non-null   float64       \n",
      " 3   Low        1761 non-null   float64       \n",
      " 4   Close      1761 non-null   float64       \n",
      " 5   Adj Close  1761 non-null   float64       \n",
      " 6   Volume     1761 non-null   float64       \n",
      "dtypes: datetime64[ns](1), float64(6)\n",
      "memory usage: 96.4 KB\n"
     ]
    }
   ],
   "source": [
    "df.info()"
   ]
  },
  {
   "cell_type": "code",
   "execution_count": 23,
   "id": "9f9d6b94-04e0-421b-88a8-2883c9ac6e9e",
   "metadata": {
    "tags": []
   },
   "outputs": [
    {
     "data": {
      "text/plain": [
       "0       2016\n",
       "1       2016\n",
       "2       2016\n",
       "3       2016\n",
       "4       2016\n",
       "        ... \n",
       "1756    2023\n",
       "1757    2023\n",
       "1758    2023\n",
       "1759    2023\n",
       "1760    2023\n",
       "Name: Date, Length: 1761, dtype: int64"
      ]
     },
     "execution_count": 23,
     "metadata": {},
     "output_type": "execute_result"
    }
   ],
   "source": [
    "df['Date'].dt.year"
   ]
  },
  {
   "cell_type": "code",
   "execution_count": 24,
   "id": "42bccebf-7365-460d-9cf8-9e8378387312",
   "metadata": {
    "tags": []
   },
   "outputs": [
    {
     "data": {
      "text/plain": [
       "0       4\n",
       "1       4\n",
       "2       4\n",
       "3       4\n",
       "4       4\n",
       "       ..\n",
       "1756    3\n",
       "1757    4\n",
       "1758    4\n",
       "1759    4\n",
       "1760    4\n",
       "Name: Date, Length: 1761, dtype: int64"
      ]
     },
     "execution_count": 24,
     "metadata": {},
     "output_type": "execute_result"
    }
   ],
   "source": [
    "df['Date'].dt.month"
   ]
  },
  {
   "cell_type": "code",
   "execution_count": 25,
   "id": "ad1ec0b9-24e8-4f8f-aaa1-855f1317cc43",
   "metadata": {
    "tags": []
   },
   "outputs": [
    {
     "data": {
      "text/plain": [
       "0       11\n",
       "1       12\n",
       "2       13\n",
       "3       14\n",
       "4       15\n",
       "        ..\n",
       "1756    31\n",
       "1757     3\n",
       "1758     4\n",
       "1759     5\n",
       "1760     6\n",
       "Name: Date, Length: 1761, dtype: int64"
      ]
     },
     "execution_count": 25,
     "metadata": {},
     "output_type": "execute_result"
    }
   ],
   "source": [
    "df['Date'].dt.day"
   ]
  },
  {
   "cell_type": "code",
   "execution_count": 26,
   "id": "acce1389-e564-4b3c-907a-f19db9e3e19b",
   "metadata": {
    "tags": []
   },
   "outputs": [
    {
     "data": {
      "text/plain": [
       "0       00:00:00\n",
       "1       00:00:00\n",
       "2       00:00:00\n",
       "3       00:00:00\n",
       "4       00:00:00\n",
       "          ...   \n",
       "1756    00:00:00\n",
       "1757    00:00:00\n",
       "1758    00:00:00\n",
       "1759    00:00:00\n",
       "1760    00:00:00\n",
       "Name: Date, Length: 1761, dtype: object"
      ]
     },
     "execution_count": 26,
     "metadata": {},
     "output_type": "execute_result"
    }
   ],
   "source": [
    "df['Date'].dt.time"
   ]
  },
  {
   "cell_type": "markdown",
   "id": "55d829f3-e905-48e9-babd-196f504d165f",
   "metadata": {},
   "source": [
    "### set_index 함수를 이용해서 Date 컬럼을 인덱스 설정"
   ]
  },
  {
   "cell_type": "code",
   "execution_count": 27,
   "id": "b382f07d-9431-43b8-a77d-0f8abaea7f2d",
   "metadata": {
    "tags": []
   },
   "outputs": [
    {
     "data": {
      "text/plain": [
       "RangeIndex(start=0, stop=1761, step=1)"
      ]
     },
     "execution_count": 27,
     "metadata": {},
     "output_type": "execute_result"
    }
   ],
   "source": [
    "df.index"
   ]
  },
  {
   "cell_type": "code",
   "execution_count": 28,
   "id": "f6fbae73-10d1-4882-bce8-082b7f1e67a7",
   "metadata": {
    "tags": []
   },
   "outputs": [],
   "source": [
    "df.set_index('Date', inplace=True, drop=True)"
   ]
  },
  {
   "cell_type": "code",
   "execution_count": 29,
   "id": "c6f7042b-ecb9-4583-9dab-6bb0b2da80f6",
   "metadata": {
    "tags": []
   },
   "outputs": [
    {
     "data": {
      "text/html": [
       "<div>\n",
       "<style scoped>\n",
       "    .dataframe tbody tr th:only-of-type {\n",
       "        vertical-align: middle;\n",
       "    }\n",
       "\n",
       "    .dataframe tbody tr th {\n",
       "        vertical-align: top;\n",
       "    }\n",
       "\n",
       "    .dataframe thead th {\n",
       "        text-align: right;\n",
       "    }\n",
       "</style>\n",
       "<table border=\"1\" class=\"dataframe\">\n",
       "  <thead>\n",
       "    <tr style=\"text-align: right;\">\n",
       "      <th></th>\n",
       "      <th>Open</th>\n",
       "      <th>High</th>\n",
       "      <th>Low</th>\n",
       "      <th>Close</th>\n",
       "      <th>Adj Close</th>\n",
       "      <th>Volume</th>\n",
       "    </tr>\n",
       "    <tr>\n",
       "      <th>Date</th>\n",
       "      <th></th>\n",
       "      <th></th>\n",
       "      <th></th>\n",
       "      <th></th>\n",
       "      <th></th>\n",
       "      <th></th>\n",
       "    </tr>\n",
       "  </thead>\n",
       "  <tbody>\n",
       "    <tr>\n",
       "      <th>2016-04-11</th>\n",
       "      <td>27.242500</td>\n",
       "      <td>27.652500</td>\n",
       "      <td>27.207500</td>\n",
       "      <td>27.254999</td>\n",
       "      <td>25.048595</td>\n",
       "      <td>117630000.0</td>\n",
       "    </tr>\n",
       "    <tr>\n",
       "      <th>2016-04-12</th>\n",
       "      <td>27.334999</td>\n",
       "      <td>27.625000</td>\n",
       "      <td>27.165001</td>\n",
       "      <td>27.610001</td>\n",
       "      <td>25.374861</td>\n",
       "      <td>108929200.0</td>\n",
       "    </tr>\n",
       "    <tr>\n",
       "      <th>2016-04-13</th>\n",
       "      <td>27.700001</td>\n",
       "      <td>28.084999</td>\n",
       "      <td>27.700001</td>\n",
       "      <td>28.010000</td>\n",
       "      <td>25.742481</td>\n",
       "      <td>133029200.0</td>\n",
       "    </tr>\n",
       "    <tr>\n",
       "      <th>2016-04-14</th>\n",
       "      <td>27.905001</td>\n",
       "      <td>28.097500</td>\n",
       "      <td>27.832500</td>\n",
       "      <td>28.025000</td>\n",
       "      <td>25.756268</td>\n",
       "      <td>101895600.0</td>\n",
       "    </tr>\n",
       "    <tr>\n",
       "      <th>2016-04-15</th>\n",
       "      <td>28.027500</td>\n",
       "      <td>28.075001</td>\n",
       "      <td>27.432501</td>\n",
       "      <td>27.462500</td>\n",
       "      <td>25.239300</td>\n",
       "      <td>187756000.0</td>\n",
       "    </tr>\n",
       "  </tbody>\n",
       "</table>\n",
       "</div>"
      ],
      "text/plain": [
       "                 Open       High        Low      Close  Adj Close       Volume\n",
       "Date                                                                          \n",
       "2016-04-11  27.242500  27.652500  27.207500  27.254999  25.048595  117630000.0\n",
       "2016-04-12  27.334999  27.625000  27.165001  27.610001  25.374861  108929200.0\n",
       "2016-04-13  27.700001  28.084999  27.700001  28.010000  25.742481  133029200.0\n",
       "2016-04-14  27.905001  28.097500  27.832500  28.025000  25.756268  101895600.0\n",
       "2016-04-15  28.027500  28.075001  27.432501  27.462500  25.239300  187756000.0"
      ]
     },
     "execution_count": 29,
     "metadata": {},
     "output_type": "execute_result"
    }
   ],
   "source": [
    "df.head()"
   ]
  },
  {
   "cell_type": "code",
   "execution_count": 30,
   "id": "a73f7739-e6c9-4f80-bc9b-ca1708f131ac",
   "metadata": {
    "tags": []
   },
   "outputs": [
    {
     "data": {
      "text/plain": [
       "DatetimeIndex(['2016-04-11', '2016-04-12', '2016-04-13', '2016-04-14',\n",
       "               '2016-04-15', '2016-04-18', '2016-04-19', '2016-04-20',\n",
       "               '2016-04-21', '2016-04-22',\n",
       "               ...\n",
       "               '2023-03-24', '2023-03-27', '2023-03-28', '2023-03-29',\n",
       "               '2023-03-30', '2023-03-31', '2023-04-03', '2023-04-04',\n",
       "               '2023-04-05', '2023-04-06'],\n",
       "              dtype='datetime64[ns]', name='Date', length=1761, freq=None)"
      ]
     },
     "execution_count": 30,
     "metadata": {},
     "output_type": "execute_result"
    }
   ],
   "source": [
    "df.index"
   ]
  },
  {
   "cell_type": "code",
   "execution_count": 31,
   "id": "df5641a0-1e48-44a1-9b73-6a0454e348af",
   "metadata": {
    "tags": []
   },
   "outputs": [
    {
     "data": {
      "text/html": [
       "<div>\n",
       "<style scoped>\n",
       "    .dataframe tbody tr th:only-of-type {\n",
       "        vertical-align: middle;\n",
       "    }\n",
       "\n",
       "    .dataframe tbody tr th {\n",
       "        vertical-align: top;\n",
       "    }\n",
       "\n",
       "    .dataframe thead th {\n",
       "        text-align: right;\n",
       "    }\n",
       "</style>\n",
       "<table border=\"1\" class=\"dataframe\">\n",
       "  <thead>\n",
       "    <tr style=\"text-align: right;\">\n",
       "      <th></th>\n",
       "      <th>Open</th>\n",
       "      <th>High</th>\n",
       "      <th>Low</th>\n",
       "      <th>Close</th>\n",
       "      <th>Adj Close</th>\n",
       "      <th>Volume</th>\n",
       "    </tr>\n",
       "    <tr>\n",
       "      <th>Date</th>\n",
       "      <th></th>\n",
       "      <th></th>\n",
       "      <th></th>\n",
       "      <th></th>\n",
       "      <th></th>\n",
       "      <th></th>\n",
       "    </tr>\n",
       "  </thead>\n",
       "  <tbody>\n",
       "    <tr>\n",
       "      <th>2023-03-31</th>\n",
       "      <td>162.440002</td>\n",
       "      <td>165.000000</td>\n",
       "      <td>161.910004</td>\n",
       "      <td>164.899994</td>\n",
       "      <td>164.899994</td>\n",
       "      <td>68694700.0</td>\n",
       "    </tr>\n",
       "    <tr>\n",
       "      <th>2023-04-03</th>\n",
       "      <td>164.270004</td>\n",
       "      <td>166.289993</td>\n",
       "      <td>164.220001</td>\n",
       "      <td>166.169998</td>\n",
       "      <td>166.169998</td>\n",
       "      <td>56976200.0</td>\n",
       "    </tr>\n",
       "    <tr>\n",
       "      <th>2023-04-04</th>\n",
       "      <td>166.600006</td>\n",
       "      <td>166.839996</td>\n",
       "      <td>165.110001</td>\n",
       "      <td>165.630005</td>\n",
       "      <td>165.630005</td>\n",
       "      <td>46278300.0</td>\n",
       "    </tr>\n",
       "    <tr>\n",
       "      <th>2023-04-05</th>\n",
       "      <td>164.740005</td>\n",
       "      <td>165.050003</td>\n",
       "      <td>161.800003</td>\n",
       "      <td>163.759995</td>\n",
       "      <td>163.759995</td>\n",
       "      <td>51511700.0</td>\n",
       "    </tr>\n",
       "    <tr>\n",
       "      <th>2023-04-06</th>\n",
       "      <td>162.429993</td>\n",
       "      <td>164.960007</td>\n",
       "      <td>162.000000</td>\n",
       "      <td>164.660004</td>\n",
       "      <td>164.660004</td>\n",
       "      <td>45390100.0</td>\n",
       "    </tr>\n",
       "  </tbody>\n",
       "</table>\n",
       "</div>"
      ],
      "text/plain": [
       "                  Open        High         Low       Close   Adj Close  \\\n",
       "Date                                                                     \n",
       "2023-03-31  162.440002  165.000000  161.910004  164.899994  164.899994   \n",
       "2023-04-03  164.270004  166.289993  164.220001  166.169998  166.169998   \n",
       "2023-04-04  166.600006  166.839996  165.110001  165.630005  165.630005   \n",
       "2023-04-05  164.740005  165.050003  161.800003  163.759995  163.759995   \n",
       "2023-04-06  162.429993  164.960007  162.000000  164.660004  164.660004   \n",
       "\n",
       "                Volume  \n",
       "Date                    \n",
       "2023-03-31  68694700.0  \n",
       "2023-04-03  56976200.0  \n",
       "2023-04-04  46278300.0  \n",
       "2023-04-05  51511700.0  \n",
       "2023-04-06  45390100.0  "
      ]
     },
     "execution_count": 31,
     "metadata": {},
     "output_type": "execute_result"
    }
   ],
   "source": [
    "df.tail()"
   ]
  },
  {
   "cell_type": "markdown",
   "id": "1195410b-38c5-4890-9589-5f3e2bb9c019",
   "metadata": {},
   "source": [
    "### 2023년 데이터 검색"
   ]
  },
  {
   "cell_type": "code",
   "execution_count": 32,
   "id": "5f930c64-a909-43a3-b334-005bcedf68cf",
   "metadata": {
    "tags": []
   },
   "outputs": [
    {
     "data": {
      "text/html": [
       "<div>\n",
       "<style scoped>\n",
       "    .dataframe tbody tr th:only-of-type {\n",
       "        vertical-align: middle;\n",
       "    }\n",
       "\n",
       "    .dataframe tbody tr th {\n",
       "        vertical-align: top;\n",
       "    }\n",
       "\n",
       "    .dataframe thead th {\n",
       "        text-align: right;\n",
       "    }\n",
       "</style>\n",
       "<table border=\"1\" class=\"dataframe\">\n",
       "  <thead>\n",
       "    <tr style=\"text-align: right;\">\n",
       "      <th></th>\n",
       "      <th>Open</th>\n",
       "      <th>High</th>\n",
       "      <th>Low</th>\n",
       "      <th>Close</th>\n",
       "      <th>Adj Close</th>\n",
       "      <th>Volume</th>\n",
       "    </tr>\n",
       "    <tr>\n",
       "      <th>Date</th>\n",
       "      <th></th>\n",
       "      <th></th>\n",
       "      <th></th>\n",
       "      <th></th>\n",
       "      <th></th>\n",
       "      <th></th>\n",
       "    </tr>\n",
       "  </thead>\n",
       "  <tbody>\n",
       "    <tr>\n",
       "      <th>2023-01-03</th>\n",
       "      <td>130.279999</td>\n",
       "      <td>130.899994</td>\n",
       "      <td>124.169998</td>\n",
       "      <td>125.070000</td>\n",
       "      <td>124.879326</td>\n",
       "      <td>112117500.0</td>\n",
       "    </tr>\n",
       "    <tr>\n",
       "      <th>2023-01-04</th>\n",
       "      <td>126.889999</td>\n",
       "      <td>128.660004</td>\n",
       "      <td>125.080002</td>\n",
       "      <td>126.360001</td>\n",
       "      <td>126.167366</td>\n",
       "      <td>89113600.0</td>\n",
       "    </tr>\n",
       "    <tr>\n",
       "      <th>2023-01-05</th>\n",
       "      <td>127.129997</td>\n",
       "      <td>127.769997</td>\n",
       "      <td>124.760002</td>\n",
       "      <td>125.019997</td>\n",
       "      <td>124.829399</td>\n",
       "      <td>80962700.0</td>\n",
       "    </tr>\n",
       "    <tr>\n",
       "      <th>2023-01-06</th>\n",
       "      <td>126.010002</td>\n",
       "      <td>130.289993</td>\n",
       "      <td>124.889999</td>\n",
       "      <td>129.619995</td>\n",
       "      <td>129.422394</td>\n",
       "      <td>87754700.0</td>\n",
       "    </tr>\n",
       "    <tr>\n",
       "      <th>2023-01-09</th>\n",
       "      <td>130.470001</td>\n",
       "      <td>133.410004</td>\n",
       "      <td>129.889999</td>\n",
       "      <td>130.149994</td>\n",
       "      <td>129.951584</td>\n",
       "      <td>70790800.0</td>\n",
       "    </tr>\n",
       "  </tbody>\n",
       "</table>\n",
       "</div>"
      ],
      "text/plain": [
       "                  Open        High         Low       Close   Adj Close  \\\n",
       "Date                                                                     \n",
       "2023-01-03  130.279999  130.899994  124.169998  125.070000  124.879326   \n",
       "2023-01-04  126.889999  128.660004  125.080002  126.360001  126.167366   \n",
       "2023-01-05  127.129997  127.769997  124.760002  125.019997  124.829399   \n",
       "2023-01-06  126.010002  130.289993  124.889999  129.619995  129.422394   \n",
       "2023-01-09  130.470001  133.410004  129.889999  130.149994  129.951584   \n",
       "\n",
       "                 Volume  \n",
       "Date                     \n",
       "2023-01-03  112117500.0  \n",
       "2023-01-04   89113600.0  \n",
       "2023-01-05   80962700.0  \n",
       "2023-01-06   87754700.0  \n",
       "2023-01-09   70790800.0  "
      ]
     },
     "execution_count": 32,
     "metadata": {},
     "output_type": "execute_result"
    }
   ],
   "source": [
    "df['2023'].head()"
   ]
  },
  {
   "cell_type": "markdown",
   "id": "ff5dc698-6889-45cf-bd0f-9277c8a5fe96",
   "metadata": {},
   "source": [
    "### 2017년 01월 데이터 검색"
   ]
  },
  {
   "cell_type": "code",
   "execution_count": 33,
   "id": "4ea2aa56-501f-4de6-9f44-b54e7800adea",
   "metadata": {
    "tags": []
   },
   "outputs": [
    {
     "data": {
      "text/html": [
       "<div>\n",
       "<style scoped>\n",
       "    .dataframe tbody tr th:only-of-type {\n",
       "        vertical-align: middle;\n",
       "    }\n",
       "\n",
       "    .dataframe tbody tr th {\n",
       "        vertical-align: top;\n",
       "    }\n",
       "\n",
       "    .dataframe thead th {\n",
       "        text-align: right;\n",
       "    }\n",
       "</style>\n",
       "<table border=\"1\" class=\"dataframe\">\n",
       "  <thead>\n",
       "    <tr style=\"text-align: right;\">\n",
       "      <th></th>\n",
       "      <th>Open</th>\n",
       "      <th>High</th>\n",
       "      <th>Low</th>\n",
       "      <th>Close</th>\n",
       "      <th>Adj Close</th>\n",
       "      <th>Volume</th>\n",
       "    </tr>\n",
       "    <tr>\n",
       "      <th>Date</th>\n",
       "      <th></th>\n",
       "      <th></th>\n",
       "      <th></th>\n",
       "      <th></th>\n",
       "      <th></th>\n",
       "      <th></th>\n",
       "    </tr>\n",
       "  </thead>\n",
       "  <tbody>\n",
       "    <tr>\n",
       "      <th>2017-01-03</th>\n",
       "      <td>28.950001</td>\n",
       "      <td>29.082500</td>\n",
       "      <td>28.690001</td>\n",
       "      <td>29.037500</td>\n",
       "      <td>27.133324</td>\n",
       "      <td>115127600.0</td>\n",
       "    </tr>\n",
       "    <tr>\n",
       "      <th>2017-01-04</th>\n",
       "      <td>28.962500</td>\n",
       "      <td>29.127501</td>\n",
       "      <td>28.937500</td>\n",
       "      <td>29.004999</td>\n",
       "      <td>27.102962</td>\n",
       "      <td>84472400.0</td>\n",
       "    </tr>\n",
       "    <tr>\n",
       "      <th>2017-01-05</th>\n",
       "      <td>28.980000</td>\n",
       "      <td>29.215000</td>\n",
       "      <td>28.952499</td>\n",
       "      <td>29.152500</td>\n",
       "      <td>27.240782</td>\n",
       "      <td>88774400.0</td>\n",
       "    </tr>\n",
       "    <tr>\n",
       "      <th>2017-01-06</th>\n",
       "      <td>29.195000</td>\n",
       "      <td>29.540001</td>\n",
       "      <td>29.117500</td>\n",
       "      <td>29.477501</td>\n",
       "      <td>27.544474</td>\n",
       "      <td>127007600.0</td>\n",
       "    </tr>\n",
       "    <tr>\n",
       "      <th>2017-01-09</th>\n",
       "      <td>29.487499</td>\n",
       "      <td>29.857500</td>\n",
       "      <td>29.485001</td>\n",
       "      <td>29.747499</td>\n",
       "      <td>27.796764</td>\n",
       "      <td>134247600.0</td>\n",
       "    </tr>\n",
       "  </tbody>\n",
       "</table>\n",
       "</div>"
      ],
      "text/plain": [
       "                 Open       High        Low      Close  Adj Close       Volume\n",
       "Date                                                                          \n",
       "2017-01-03  28.950001  29.082500  28.690001  29.037500  27.133324  115127600.0\n",
       "2017-01-04  28.962500  29.127501  28.937500  29.004999  27.102962   84472400.0\n",
       "2017-01-05  28.980000  29.215000  28.952499  29.152500  27.240782   88774400.0\n",
       "2017-01-06  29.195000  29.540001  29.117500  29.477501  27.544474  127007600.0\n",
       "2017-01-09  29.487499  29.857500  29.485001  29.747499  27.796764  134247600.0"
      ]
     },
     "execution_count": 33,
     "metadata": {},
     "output_type": "execute_result"
    }
   ],
   "source": [
    "df.loc['2017-01'].head()"
   ]
  },
  {
   "cell_type": "markdown",
   "id": "66b0026c-f93c-40e4-94f9-178a39064d59",
   "metadata": {},
   "source": [
    "### 2018년 01월 10일 ~ 2018년 01월 20일 데이터 검색"
   ]
  },
  {
   "cell_type": "code",
   "execution_count": 34,
   "id": "9fabfbd8-2982-42c5-9d90-b6dad0c05094",
   "metadata": {
    "tags": []
   },
   "outputs": [
    {
     "data": {
      "text/html": [
       "<div>\n",
       "<style scoped>\n",
       "    .dataframe tbody tr th:only-of-type {\n",
       "        vertical-align: middle;\n",
       "    }\n",
       "\n",
       "    .dataframe tbody tr th {\n",
       "        vertical-align: top;\n",
       "    }\n",
       "\n",
       "    .dataframe thead th {\n",
       "        text-align: right;\n",
       "    }\n",
       "</style>\n",
       "<table border=\"1\" class=\"dataframe\">\n",
       "  <thead>\n",
       "    <tr style=\"text-align: right;\">\n",
       "      <th></th>\n",
       "      <th>Open</th>\n",
       "      <th>High</th>\n",
       "      <th>Low</th>\n",
       "      <th>Close</th>\n",
       "      <th>Adj Close</th>\n",
       "      <th>Volume</th>\n",
       "    </tr>\n",
       "    <tr>\n",
       "      <th>Date</th>\n",
       "      <th></th>\n",
       "      <th></th>\n",
       "      <th></th>\n",
       "      <th></th>\n",
       "      <th></th>\n",
       "      <th></th>\n",
       "    </tr>\n",
       "  </thead>\n",
       "  <tbody>\n",
       "    <tr>\n",
       "      <th>2018-01-10</th>\n",
       "      <td>43.290001</td>\n",
       "      <td>43.575001</td>\n",
       "      <td>43.250000</td>\n",
       "      <td>43.572498</td>\n",
       "      <td>41.369915</td>\n",
       "      <td>95839600.0</td>\n",
       "    </tr>\n",
       "    <tr>\n",
       "      <th>2018-01-11</th>\n",
       "      <td>43.647499</td>\n",
       "      <td>43.872501</td>\n",
       "      <td>43.622501</td>\n",
       "      <td>43.820000</td>\n",
       "      <td>41.604904</td>\n",
       "      <td>74670800.0</td>\n",
       "    </tr>\n",
       "    <tr>\n",
       "      <th>2018-01-12</th>\n",
       "      <td>44.044998</td>\n",
       "      <td>44.340000</td>\n",
       "      <td>43.912498</td>\n",
       "      <td>44.272499</td>\n",
       "      <td>42.034534</td>\n",
       "      <td>101672400.0</td>\n",
       "    </tr>\n",
       "    <tr>\n",
       "      <th>2018-01-16</th>\n",
       "      <td>44.474998</td>\n",
       "      <td>44.847500</td>\n",
       "      <td>44.035000</td>\n",
       "      <td>44.047501</td>\n",
       "      <td>41.820911</td>\n",
       "      <td>118263600.0</td>\n",
       "    </tr>\n",
       "    <tr>\n",
       "      <th>2018-01-17</th>\n",
       "      <td>44.037498</td>\n",
       "      <td>44.812500</td>\n",
       "      <td>43.767502</td>\n",
       "      <td>44.775002</td>\n",
       "      <td>42.511620</td>\n",
       "      <td>137547200.0</td>\n",
       "    </tr>\n",
       "    <tr>\n",
       "      <th>2018-01-18</th>\n",
       "      <td>44.842499</td>\n",
       "      <td>45.025002</td>\n",
       "      <td>44.562500</td>\n",
       "      <td>44.814999</td>\n",
       "      <td>42.549599</td>\n",
       "      <td>124773600.0</td>\n",
       "    </tr>\n",
       "    <tr>\n",
       "      <th>2018-01-19</th>\n",
       "      <td>44.652500</td>\n",
       "      <td>44.895000</td>\n",
       "      <td>44.352501</td>\n",
       "      <td>44.615002</td>\n",
       "      <td>42.359707</td>\n",
       "      <td>129700400.0</td>\n",
       "    </tr>\n",
       "  </tbody>\n",
       "</table>\n",
       "</div>"
      ],
      "text/plain": [
       "                 Open       High        Low      Close  Adj Close       Volume\n",
       "Date                                                                          \n",
       "2018-01-10  43.290001  43.575001  43.250000  43.572498  41.369915   95839600.0\n",
       "2018-01-11  43.647499  43.872501  43.622501  43.820000  41.604904   74670800.0\n",
       "2018-01-12  44.044998  44.340000  43.912498  44.272499  42.034534  101672400.0\n",
       "2018-01-16  44.474998  44.847500  44.035000  44.047501  41.820911  118263600.0\n",
       "2018-01-17  44.037498  44.812500  43.767502  44.775002  42.511620  137547200.0\n",
       "2018-01-18  44.842499  45.025002  44.562500  44.814999  42.549599  124773600.0\n",
       "2018-01-19  44.652500  44.895000  44.352501  44.615002  42.359707  129700400.0"
      ]
     },
     "execution_count": 34,
     "metadata": {},
     "output_type": "execute_result"
    }
   ],
   "source": [
    "df.loc['2018-01-10':'2018-01-20']"
   ]
  },
  {
   "cell_type": "markdown",
   "id": "9978f68d-6bd2-4743-b3bd-4d066717e5e7",
   "metadata": {},
   "source": [
    "### 날짜 인덱스에서 month 정보만 따라 추출해보기"
   ]
  },
  {
   "cell_type": "code",
   "execution_count": 35,
   "id": "a78edb10-ed73-4132-bb06-eb6fbec915a6",
   "metadata": {
    "tags": []
   },
   "outputs": [
    {
     "data": {
      "text/plain": [
       "DatetimeIndex(['2016-04-11', '2016-04-12', '2016-04-13', '2016-04-14',\n",
       "               '2016-04-15', '2016-04-18', '2016-04-19', '2016-04-20',\n",
       "               '2016-04-21', '2016-04-22',\n",
       "               ...\n",
       "               '2023-03-24', '2023-03-27', '2023-03-28', '2023-03-29',\n",
       "               '2023-03-30', '2023-03-31', '2023-04-03', '2023-04-04',\n",
       "               '2023-04-05', '2023-04-06'],\n",
       "              dtype='datetime64[ns]', name='Date', length=1761, freq=None)"
      ]
     },
     "execution_count": 35,
     "metadata": {},
     "output_type": "execute_result"
    }
   ],
   "source": [
    "df.index"
   ]
  },
  {
   "cell_type": "code",
   "execution_count": 36,
   "id": "04a54496-8929-4316-8d02-f6c25147630f",
   "metadata": {
    "tags": []
   },
   "outputs": [
    {
     "name": "stdout",
     "output_type": "stream",
     "text": [
      "Int64Index([2016, 2016, 2016, 2016, 2016], dtype='int64', name='Date')\n",
      "Int64Index([4, 4, 4, 4, 4], dtype='int64', name='Date')\n",
      "Int64Index([11, 12, 13, 14, 15], dtype='int64', name='Date')\n",
      "[datetime.time(0, 0) datetime.time(0, 0) datetime.time(0, 0)\n",
      " datetime.time(0, 0) datetime.time(0, 0)]\n"
     ]
    }
   ],
   "source": [
    "print(df.index.year[:5])\n",
    "print(df.index.month[:5])\n",
    "print(df.index.day[:5])\n",
    "print(df.index.time[:5])"
   ]
  },
  {
   "cell_type": "code",
   "execution_count": 37,
   "id": "e2745689-fec4-4cc7-855b-b9e1b0d86862",
   "metadata": {
    "tags": []
   },
   "outputs": [
    {
     "data": {
      "text/plain": [
       "array([4, 4, 4, ..., 4, 4, 4])"
      ]
     },
     "execution_count": 37,
     "metadata": {},
     "output_type": "execute_result"
    }
   ],
   "source": [
    "df.index.month.values"
   ]
  },
  {
   "cell_type": "code",
   "execution_count": 38,
   "id": "2840dbbd-5226-472b-b724-1f376f6208e6",
   "metadata": {
    "tags": []
   },
   "outputs": [],
   "source": [
    "df['Month'] = df.index.month.values"
   ]
  },
  {
   "cell_type": "code",
   "execution_count": 39,
   "id": "277491ff-1e6d-4560-9962-0377214eadb8",
   "metadata": {
    "tags": []
   },
   "outputs": [
    {
     "data": {
      "text/html": [
       "<div>\n",
       "<style scoped>\n",
       "    .dataframe tbody tr th:only-of-type {\n",
       "        vertical-align: middle;\n",
       "    }\n",
       "\n",
       "    .dataframe tbody tr th {\n",
       "        vertical-align: top;\n",
       "    }\n",
       "\n",
       "    .dataframe thead th {\n",
       "        text-align: right;\n",
       "    }\n",
       "</style>\n",
       "<table border=\"1\" class=\"dataframe\">\n",
       "  <thead>\n",
       "    <tr style=\"text-align: right;\">\n",
       "      <th></th>\n",
       "      <th>Open</th>\n",
       "      <th>High</th>\n",
       "      <th>Low</th>\n",
       "      <th>Close</th>\n",
       "      <th>Adj Close</th>\n",
       "      <th>Volume</th>\n",
       "      <th>Month</th>\n",
       "    </tr>\n",
       "    <tr>\n",
       "      <th>Date</th>\n",
       "      <th></th>\n",
       "      <th></th>\n",
       "      <th></th>\n",
       "      <th></th>\n",
       "      <th></th>\n",
       "      <th></th>\n",
       "      <th></th>\n",
       "    </tr>\n",
       "  </thead>\n",
       "  <tbody>\n",
       "    <tr>\n",
       "      <th>2023-03-24</th>\n",
       "      <td>158.860001</td>\n",
       "      <td>160.339996</td>\n",
       "      <td>157.850006</td>\n",
       "      <td>160.250000</td>\n",
       "      <td>160.250000</td>\n",
       "      <td>59196500.0</td>\n",
       "      <td>3</td>\n",
       "    </tr>\n",
       "    <tr>\n",
       "      <th>2023-03-27</th>\n",
       "      <td>159.940002</td>\n",
       "      <td>160.770004</td>\n",
       "      <td>157.869995</td>\n",
       "      <td>158.279999</td>\n",
       "      <td>158.279999</td>\n",
       "      <td>52390300.0</td>\n",
       "      <td>3</td>\n",
       "    </tr>\n",
       "    <tr>\n",
       "      <th>2023-03-28</th>\n",
       "      <td>157.970001</td>\n",
       "      <td>158.490005</td>\n",
       "      <td>155.979996</td>\n",
       "      <td>157.649994</td>\n",
       "      <td>157.649994</td>\n",
       "      <td>45992200.0</td>\n",
       "      <td>3</td>\n",
       "    </tr>\n",
       "    <tr>\n",
       "      <th>2023-03-29</th>\n",
       "      <td>159.369995</td>\n",
       "      <td>161.050003</td>\n",
       "      <td>159.350006</td>\n",
       "      <td>160.770004</td>\n",
       "      <td>160.770004</td>\n",
       "      <td>51305700.0</td>\n",
       "      <td>3</td>\n",
       "    </tr>\n",
       "    <tr>\n",
       "      <th>2023-03-30</th>\n",
       "      <td>161.529999</td>\n",
       "      <td>162.470001</td>\n",
       "      <td>161.270004</td>\n",
       "      <td>162.360001</td>\n",
       "      <td>162.360001</td>\n",
       "      <td>49501700.0</td>\n",
       "      <td>3</td>\n",
       "    </tr>\n",
       "    <tr>\n",
       "      <th>2023-03-31</th>\n",
       "      <td>162.440002</td>\n",
       "      <td>165.000000</td>\n",
       "      <td>161.910004</td>\n",
       "      <td>164.899994</td>\n",
       "      <td>164.899994</td>\n",
       "      <td>68694700.0</td>\n",
       "      <td>3</td>\n",
       "    </tr>\n",
       "    <tr>\n",
       "      <th>2023-04-03</th>\n",
       "      <td>164.270004</td>\n",
       "      <td>166.289993</td>\n",
       "      <td>164.220001</td>\n",
       "      <td>166.169998</td>\n",
       "      <td>166.169998</td>\n",
       "      <td>56976200.0</td>\n",
       "      <td>4</td>\n",
       "    </tr>\n",
       "    <tr>\n",
       "      <th>2023-04-04</th>\n",
       "      <td>166.600006</td>\n",
       "      <td>166.839996</td>\n",
       "      <td>165.110001</td>\n",
       "      <td>165.630005</td>\n",
       "      <td>165.630005</td>\n",
       "      <td>46278300.0</td>\n",
       "      <td>4</td>\n",
       "    </tr>\n",
       "    <tr>\n",
       "      <th>2023-04-05</th>\n",
       "      <td>164.740005</td>\n",
       "      <td>165.050003</td>\n",
       "      <td>161.800003</td>\n",
       "      <td>163.759995</td>\n",
       "      <td>163.759995</td>\n",
       "      <td>51511700.0</td>\n",
       "      <td>4</td>\n",
       "    </tr>\n",
       "    <tr>\n",
       "      <th>2023-04-06</th>\n",
       "      <td>162.429993</td>\n",
       "      <td>164.960007</td>\n",
       "      <td>162.000000</td>\n",
       "      <td>164.660004</td>\n",
       "      <td>164.660004</td>\n",
       "      <td>45390100.0</td>\n",
       "      <td>4</td>\n",
       "    </tr>\n",
       "  </tbody>\n",
       "</table>\n",
       "</div>"
      ],
      "text/plain": [
       "                  Open        High         Low       Close   Adj Close  \\\n",
       "Date                                                                     \n",
       "2023-03-24  158.860001  160.339996  157.850006  160.250000  160.250000   \n",
       "2023-03-27  159.940002  160.770004  157.869995  158.279999  158.279999   \n",
       "2023-03-28  157.970001  158.490005  155.979996  157.649994  157.649994   \n",
       "2023-03-29  159.369995  161.050003  159.350006  160.770004  160.770004   \n",
       "2023-03-30  161.529999  162.470001  161.270004  162.360001  162.360001   \n",
       "2023-03-31  162.440002  165.000000  161.910004  164.899994  164.899994   \n",
       "2023-04-03  164.270004  166.289993  164.220001  166.169998  166.169998   \n",
       "2023-04-04  166.600006  166.839996  165.110001  165.630005  165.630005   \n",
       "2023-04-05  164.740005  165.050003  161.800003  163.759995  163.759995   \n",
       "2023-04-06  162.429993  164.960007  162.000000  164.660004  164.660004   \n",
       "\n",
       "                Volume  Month  \n",
       "Date                           \n",
       "2023-03-24  59196500.0      3  \n",
       "2023-03-27  52390300.0      3  \n",
       "2023-03-28  45992200.0      3  \n",
       "2023-03-29  51305700.0      3  \n",
       "2023-03-30  49501700.0      3  \n",
       "2023-03-31  68694700.0      3  \n",
       "2023-04-03  56976200.0      4  \n",
       "2023-04-04  46278300.0      4  \n",
       "2023-04-05  51511700.0      4  \n",
       "2023-04-06  45390100.0      4  "
      ]
     },
     "execution_count": 39,
     "metadata": {},
     "output_type": "execute_result"
    }
   ],
   "source": [
    "df.tail(10)"
   ]
  },
  {
   "cell_type": "markdown",
   "id": "ccdbe285-4aed-41e8-8510-da09f7337d34",
   "metadata": {},
   "source": [
    "### 시각화"
   ]
  },
  {
   "cell_type": "code",
   "execution_count": 40,
   "id": "c8bca377-ac89-439d-9ef0-0031927a9f6d",
   "metadata": {
    "tags": []
   },
   "outputs": [
    {
     "data": {
      "image/png": "[encoded data removed]",
      "text/plain": [
       "<Figure size 1500x1500 with 7 Axes>"
      ]
     },
     "metadata": {},
     "output_type": "display_data"
    }
   ],
   "source": [
    "df.plot(subplots=True, figsize=(15,15))\n",
    "plt.show()"
   ]
  },
  {
   "cell_type": "code",
   "execution_count": 41,
   "id": "6e07ec7b-0e3c-4020-bf06-0d7eaa788766",
   "metadata": {
    "tags": []
   },
   "outputs": [
    {
     "data": {
      "image/png": "[encoded data removed]",
      "text/plain": [
       "<Figure size 1500x500 with 1 Axes>"
      ]
     },
     "metadata": {},
     "output_type": "display_data"
    }
   ],
   "source": [
    "df['Volume'].plot(figsize=(15,5))\n",
    "plt.show()"
   ]
  },
  {
   "cell_type": "markdown",
   "id": "25a7f18c-c37f-42d5-9777-3a1ab5da1fa5",
   "metadata": {},
   "source": [
    "### 종가 5일 이동평균값 구하기 - pd.Series.rolling(windows).mean()"
   ]
  },
  {
   "cell_type": "code",
   "execution_count": 42,
   "id": "3ff6fbc9-36a0-4328-9423-0ae759ccaaf6",
   "metadata": {
    "tags": []
   },
   "outputs": [
    {
     "data": {
      "text/html": [
       "<div>\n",
       "<style scoped>\n",
       "    .dataframe tbody tr th:only-of-type {\n",
       "        vertical-align: middle;\n",
       "    }\n",
       "\n",
       "    .dataframe tbody tr th {\n",
       "        vertical-align: top;\n",
       "    }\n",
       "\n",
       "    .dataframe thead th {\n",
       "        text-align: right;\n",
       "    }\n",
       "</style>\n",
       "<table border=\"1\" class=\"dataframe\">\n",
       "  <thead>\n",
       "    <tr style=\"text-align: right;\">\n",
       "      <th></th>\n",
       "      <th>Open</th>\n",
       "      <th>High</th>\n",
       "      <th>Low</th>\n",
       "      <th>Close</th>\n",
       "      <th>Adj Close</th>\n",
       "      <th>Volume</th>\n",
       "      <th>Month</th>\n",
       "    </tr>\n",
       "    <tr>\n",
       "      <th>Date</th>\n",
       "      <th></th>\n",
       "      <th></th>\n",
       "      <th></th>\n",
       "      <th></th>\n",
       "      <th></th>\n",
       "      <th></th>\n",
       "      <th></th>\n",
       "    </tr>\n",
       "  </thead>\n",
       "  <tbody>\n",
       "    <tr>\n",
       "      <th>2016-04-11</th>\n",
       "      <td>27.242500</td>\n",
       "      <td>27.652500</td>\n",
       "      <td>27.207500</td>\n",
       "      <td>27.254999</td>\n",
       "      <td>25.048595</td>\n",
       "      <td>117630000.0</td>\n",
       "      <td>4</td>\n",
       "    </tr>\n",
       "    <tr>\n",
       "      <th>2016-04-12</th>\n",
       "      <td>27.334999</td>\n",
       "      <td>27.625000</td>\n",
       "      <td>27.165001</td>\n",
       "      <td>27.610001</td>\n",
       "      <td>25.374861</td>\n",
       "      <td>108929200.0</td>\n",
       "      <td>4</td>\n",
       "    </tr>\n",
       "    <tr>\n",
       "      <th>2016-04-13</th>\n",
       "      <td>27.700001</td>\n",
       "      <td>28.084999</td>\n",
       "      <td>27.700001</td>\n",
       "      <td>28.010000</td>\n",
       "      <td>25.742481</td>\n",
       "      <td>133029200.0</td>\n",
       "      <td>4</td>\n",
       "    </tr>\n",
       "    <tr>\n",
       "      <th>2016-04-14</th>\n",
       "      <td>27.905001</td>\n",
       "      <td>28.097500</td>\n",
       "      <td>27.832500</td>\n",
       "      <td>28.025000</td>\n",
       "      <td>25.756268</td>\n",
       "      <td>101895600.0</td>\n",
       "      <td>4</td>\n",
       "    </tr>\n",
       "    <tr>\n",
       "      <th>2016-04-15</th>\n",
       "      <td>28.027500</td>\n",
       "      <td>28.075001</td>\n",
       "      <td>27.432501</td>\n",
       "      <td>27.462500</td>\n",
       "      <td>25.239300</td>\n",
       "      <td>187756000.0</td>\n",
       "      <td>4</td>\n",
       "    </tr>\n",
       "  </tbody>\n",
       "</table>\n",
       "</div>"
      ],
      "text/plain": [
       "                 Open       High        Low      Close  Adj Close  \\\n",
       "Date                                                                \n",
       "2016-04-11  27.242500  27.652500  27.207500  27.254999  25.048595   \n",
       "2016-04-12  27.334999  27.625000  27.165001  27.610001  25.374861   \n",
       "2016-04-13  27.700001  28.084999  27.700001  28.010000  25.742481   \n",
       "2016-04-14  27.905001  28.097500  27.832500  28.025000  25.756268   \n",
       "2016-04-15  28.027500  28.075001  27.432501  27.462500  25.239300   \n",
       "\n",
       "                 Volume  Month  \n",
       "Date                            \n",
       "2016-04-11  117630000.0      4  \n",
       "2016-04-12  108929200.0      4  \n",
       "2016-04-13  133029200.0      4  \n",
       "2016-04-14  101895600.0      4  \n",
       "2016-04-15  187756000.0      4  "
      ]
     },
     "execution_count": 42,
     "metadata": {},
     "output_type": "execute_result"
    }
   ],
   "source": [
    "df.head()"
   ]
  },
  {
   "cell_type": "code",
   "execution_count": 43,
   "id": "56667200-b0c2-4789-827c-850c74ffd1b8",
   "metadata": {
    "tags": []
   },
   "outputs": [
    {
     "data": {
      "text/plain": [
       "Rolling [window=5,center=False,axis=0,method=single]"
      ]
     },
     "execution_count": 43,
     "metadata": {},
     "output_type": "execute_result"
    }
   ],
   "source": [
    "df['Close'].rolling(window=5)"
   ]
  },
  {
   "cell_type": "code",
   "execution_count": 44,
   "id": "f49b84c3-21f4-42f7-99af-ea3a272de844",
   "metadata": {
    "tags": []
   },
   "outputs": [
    {
     "data": {
      "text/plain": [
       "Date\n",
       "2016-04-11           NaN\n",
       "2016-04-12           NaN\n",
       "2016-04-13           NaN\n",
       "2016-04-14           NaN\n",
       "2016-04-15     27.672500\n",
       "                 ...    \n",
       "2023-03-31    160.791998\n",
       "2023-04-03    162.369998\n",
       "2023-04-04    163.966000\n",
       "2023-04-05    164.563999\n",
       "2023-04-06    165.023999\n",
       "Name: Close, Length: 1761, dtype: float64"
      ]
     },
     "execution_count": 44,
     "metadata": {},
     "output_type": "execute_result"
    }
   ],
   "source": [
    "df['Close'].rolling(window=5).mean()"
   ]
  },
  {
   "cell_type": "code",
   "execution_count": 45,
   "id": "1d5ad33e-d610-4778-9d64-34a2d9672381",
   "metadata": {
    "tags": []
   },
   "outputs": [],
   "source": [
    "df['Close_5ma'] = df['Close'].rolling(window=5).mean()"
   ]
  },
  {
   "cell_type": "code",
   "execution_count": 46,
   "id": "70f72a3f-f265-4784-ab0a-b0af97438957",
   "metadata": {
    "tags": []
   },
   "outputs": [
    {
     "data": {
      "text/html": [
       "<div>\n",
       "<style scoped>\n",
       "    .dataframe tbody tr th:only-of-type {\n",
       "        vertical-align: middle;\n",
       "    }\n",
       "\n",
       "    .dataframe tbody tr th {\n",
       "        vertical-align: top;\n",
       "    }\n",
       "\n",
       "    .dataframe thead th {\n",
       "        text-align: right;\n",
       "    }\n",
       "</style>\n",
       "<table border=\"1\" class=\"dataframe\">\n",
       "  <thead>\n",
       "    <tr style=\"text-align: right;\">\n",
       "      <th></th>\n",
       "      <th>Open</th>\n",
       "      <th>High</th>\n",
       "      <th>Low</th>\n",
       "      <th>Close</th>\n",
       "      <th>Adj Close</th>\n",
       "      <th>Volume</th>\n",
       "      <th>Month</th>\n",
       "      <th>Close_5ma</th>\n",
       "    </tr>\n",
       "    <tr>\n",
       "      <th>Date</th>\n",
       "      <th></th>\n",
       "      <th></th>\n",
       "      <th></th>\n",
       "      <th></th>\n",
       "      <th></th>\n",
       "      <th></th>\n",
       "      <th></th>\n",
       "      <th></th>\n",
       "    </tr>\n",
       "  </thead>\n",
       "  <tbody>\n",
       "    <tr>\n",
       "      <th>2016-04-11</th>\n",
       "      <td>27.242500</td>\n",
       "      <td>27.652500</td>\n",
       "      <td>27.207500</td>\n",
       "      <td>27.254999</td>\n",
       "      <td>25.048595</td>\n",
       "      <td>117630000.0</td>\n",
       "      <td>4</td>\n",
       "      <td>NaN</td>\n",
       "    </tr>\n",
       "    <tr>\n",
       "      <th>2016-04-12</th>\n",
       "      <td>27.334999</td>\n",
       "      <td>27.625000</td>\n",
       "      <td>27.165001</td>\n",
       "      <td>27.610001</td>\n",
       "      <td>25.374861</td>\n",
       "      <td>108929200.0</td>\n",
       "      <td>4</td>\n",
       "      <td>NaN</td>\n",
       "    </tr>\n",
       "    <tr>\n",
       "      <th>2016-04-13</th>\n",
       "      <td>27.700001</td>\n",
       "      <td>28.084999</td>\n",
       "      <td>27.700001</td>\n",
       "      <td>28.010000</td>\n",
       "      <td>25.742481</td>\n",
       "      <td>133029200.0</td>\n",
       "      <td>4</td>\n",
       "      <td>NaN</td>\n",
       "    </tr>\n",
       "    <tr>\n",
       "      <th>2016-04-14</th>\n",
       "      <td>27.905001</td>\n",
       "      <td>28.097500</td>\n",
       "      <td>27.832500</td>\n",
       "      <td>28.025000</td>\n",
       "      <td>25.756268</td>\n",
       "      <td>101895600.0</td>\n",
       "      <td>4</td>\n",
       "      <td>NaN</td>\n",
       "    </tr>\n",
       "    <tr>\n",
       "      <th>2016-04-15</th>\n",
       "      <td>28.027500</td>\n",
       "      <td>28.075001</td>\n",
       "      <td>27.432501</td>\n",
       "      <td>27.462500</td>\n",
       "      <td>25.239300</td>\n",
       "      <td>187756000.0</td>\n",
       "      <td>4</td>\n",
       "      <td>27.6725</td>\n",
       "    </tr>\n",
       "    <tr>\n",
       "      <th>2016-04-18</th>\n",
       "      <td>27.222500</td>\n",
       "      <td>27.237499</td>\n",
       "      <td>26.735001</td>\n",
       "      <td>26.870001</td>\n",
       "      <td>24.694765</td>\n",
       "      <td>243286000.0</td>\n",
       "      <td>4</td>\n",
       "      <td>27.5955</td>\n",
       "    </tr>\n",
       "    <tr>\n",
       "      <th>2016-04-19</th>\n",
       "      <td>26.969999</td>\n",
       "      <td>27.000000</td>\n",
       "      <td>26.557501</td>\n",
       "      <td>26.727501</td>\n",
       "      <td>24.563807</td>\n",
       "      <td>129539600.0</td>\n",
       "      <td>4</td>\n",
       "      <td>27.4190</td>\n",
       "    </tr>\n",
       "    <tr>\n",
       "      <th>2016-04-20</th>\n",
       "      <td>26.660000</td>\n",
       "      <td>27.022499</td>\n",
       "      <td>26.514999</td>\n",
       "      <td>26.782499</td>\n",
       "      <td>24.614347</td>\n",
       "      <td>122444000.0</td>\n",
       "      <td>4</td>\n",
       "      <td>27.1735</td>\n",
       "    </tr>\n",
       "    <tr>\n",
       "      <th>2016-04-21</th>\n",
       "      <td>26.732500</td>\n",
       "      <td>26.732500</td>\n",
       "      <td>26.379999</td>\n",
       "      <td>26.492500</td>\n",
       "      <td>24.347830</td>\n",
       "      <td>126210000.0</td>\n",
       "      <td>4</td>\n",
       "      <td>26.8670</td>\n",
       "    </tr>\n",
       "    <tr>\n",
       "      <th>2016-04-22</th>\n",
       "      <td>26.252501</td>\n",
       "      <td>26.620001</td>\n",
       "      <td>26.155001</td>\n",
       "      <td>26.420000</td>\n",
       "      <td>24.281199</td>\n",
       "      <td>134732400.0</td>\n",
       "      <td>4</td>\n",
       "      <td>26.6585</td>\n",
       "    </tr>\n",
       "  </tbody>\n",
       "</table>\n",
       "</div>"
      ],
      "text/plain": [
       "                 Open       High        Low      Close  Adj Close  \\\n",
       "Date                                                                \n",
       "2016-04-11  27.242500  27.652500  27.207500  27.254999  25.048595   \n",
       "2016-04-12  27.334999  27.625000  27.165001  27.610001  25.374861   \n",
       "2016-04-13  27.700001  28.084999  27.700001  28.010000  25.742481   \n",
       "2016-04-14  27.905001  28.097500  27.832500  28.025000  25.756268   \n",
       "2016-04-15  28.027500  28.075001  27.432501  27.462500  25.239300   \n",
       "2016-04-18  27.222500  27.237499  26.735001  26.870001  24.694765   \n",
       "2016-04-19  26.969999  27.000000  26.557501  26.727501  24.563807   \n",
       "2016-04-20  26.660000  27.022499  26.514999  26.782499  24.614347   \n",
       "2016-04-21  26.732500  26.732500  26.379999  26.492500  24.347830   \n",
       "2016-04-22  26.252501  26.620001  26.155001  26.420000  24.281199   \n",
       "\n",
       "                 Volume  Month  Close_5ma  \n",
       "Date                                       \n",
       "2016-04-11  117630000.0      4        NaN  \n",
       "2016-04-12  108929200.0      4        NaN  \n",
       "2016-04-13  133029200.0      4        NaN  \n",
       "2016-04-14  101895600.0      4        NaN  \n",
       "2016-04-15  187756000.0      4    27.6725  \n",
       "2016-04-18  243286000.0      4    27.5955  \n",
       "2016-04-19  129539600.0      4    27.4190  \n",
       "2016-04-20  122444000.0      4    27.1735  \n",
       "2016-04-21  126210000.0      4    26.8670  \n",
       "2016-04-22  134732400.0      4    26.6585  "
      ]
     },
     "execution_count": 46,
     "metadata": {},
     "output_type": "execute_result"
    }
   ],
   "source": [
    "df.head(10)"
   ]
  },
  {
   "cell_type": "code",
   "execution_count": 47,
   "id": "3da5ebdd-4b31-4411-ba3e-3fea1f46fa81",
   "metadata": {
    "tags": []
   },
   "outputs": [
    {
     "data": {
      "text/plain": [
       "27.672500000000003"
      ]
     },
     "execution_count": 47,
     "metadata": {},
     "output_type": "execute_result"
    }
   ],
   "source": [
    "(27.254999 + 27.610001 + 28.010000 + 28.025000 + 27.462500) / 5"
   ]
  },
  {
   "cell_type": "markdown",
   "id": "5381483f-cb45-4d67-8450-35ee2473ef6c",
   "metadata": {},
   "source": [
    "### 2022년 종가 그래프로 2022년 종가 30일 이동평균선 그래프 그려 비교하기"
   ]
  },
  {
   "cell_type": "code",
   "execution_count": 48,
   "id": "650402cd-c380-42da-a3a1-8fcd6ec9f016",
   "metadata": {
    "tags": []
   },
   "outputs": [
    {
     "data": {
      "image/png": "[encoded data removed]",
      "text/plain": [
       "<Figure size 1500x500 with 1 Axes>"
      ]
     },
     "metadata": {},
     "output_type": "display_data"
    }
   ],
   "source": [
    "df.loc['2022']['Close'].plot(figsize=(15,5))\n",
    "df.loc['2022'].rolling(window=30).mean()['Close'].plot()\n",
    "plt.xticks(rotation=0)\n",
    "plt.show()"
   ]
  },
  {
   "cell_type": "markdown",
   "id": "eaf08987-619e-4bf3-af13-82b6c00a3a0d",
   "metadata": {},
   "source": [
    "### shift 함수 이용해서 각 샘플에 이전 동가 5일치 데이터 추가하기"
   ]
  },
  {
   "cell_type": "code",
   "execution_count": 49,
   "id": "0940db0e-dc4c-4164-996d-ab5feb06d1aa",
   "metadata": {
    "tags": []
   },
   "outputs": [
    {
     "data": {
      "text/html": [
       "<div>\n",
       "<style scoped>\n",
       "    .dataframe tbody tr th:only-of-type {\n",
       "        vertical-align: middle;\n",
       "    }\n",
       "\n",
       "    .dataframe tbody tr th {\n",
       "        vertical-align: top;\n",
       "    }\n",
       "\n",
       "    .dataframe thead th {\n",
       "        text-align: right;\n",
       "    }\n",
       "</style>\n",
       "<table border=\"1\" class=\"dataframe\">\n",
       "  <thead>\n",
       "    <tr style=\"text-align: right;\">\n",
       "      <th></th>\n",
       "      <th>Open</th>\n",
       "      <th>High</th>\n",
       "      <th>Low</th>\n",
       "      <th>Close</th>\n",
       "      <th>Adj Close</th>\n",
       "      <th>Volume</th>\n",
       "      <th>Month</th>\n",
       "      <th>Close_5ma</th>\n",
       "    </tr>\n",
       "    <tr>\n",
       "      <th>Date</th>\n",
       "      <th></th>\n",
       "      <th></th>\n",
       "      <th></th>\n",
       "      <th></th>\n",
       "      <th></th>\n",
       "      <th></th>\n",
       "      <th></th>\n",
       "      <th></th>\n",
       "    </tr>\n",
       "  </thead>\n",
       "  <tbody>\n",
       "    <tr>\n",
       "      <th>2016-04-11</th>\n",
       "      <td>27.242500</td>\n",
       "      <td>27.652500</td>\n",
       "      <td>27.207500</td>\n",
       "      <td>27.254999</td>\n",
       "      <td>25.048595</td>\n",
       "      <td>117630000.0</td>\n",
       "      <td>4</td>\n",
       "      <td>NaN</td>\n",
       "    </tr>\n",
       "    <tr>\n",
       "      <th>2016-04-12</th>\n",
       "      <td>27.334999</td>\n",
       "      <td>27.625000</td>\n",
       "      <td>27.165001</td>\n",
       "      <td>27.610001</td>\n",
       "      <td>25.374861</td>\n",
       "      <td>108929200.0</td>\n",
       "      <td>4</td>\n",
       "      <td>NaN</td>\n",
       "    </tr>\n",
       "    <tr>\n",
       "      <th>2016-04-13</th>\n",
       "      <td>27.700001</td>\n",
       "      <td>28.084999</td>\n",
       "      <td>27.700001</td>\n",
       "      <td>28.010000</td>\n",
       "      <td>25.742481</td>\n",
       "      <td>133029200.0</td>\n",
       "      <td>4</td>\n",
       "      <td>NaN</td>\n",
       "    </tr>\n",
       "    <tr>\n",
       "      <th>2016-04-14</th>\n",
       "      <td>27.905001</td>\n",
       "      <td>28.097500</td>\n",
       "      <td>27.832500</td>\n",
       "      <td>28.025000</td>\n",
       "      <td>25.756268</td>\n",
       "      <td>101895600.0</td>\n",
       "      <td>4</td>\n",
       "      <td>NaN</td>\n",
       "    </tr>\n",
       "    <tr>\n",
       "      <th>2016-04-15</th>\n",
       "      <td>28.027500</td>\n",
       "      <td>28.075001</td>\n",
       "      <td>27.432501</td>\n",
       "      <td>27.462500</td>\n",
       "      <td>25.239300</td>\n",
       "      <td>187756000.0</td>\n",
       "      <td>4</td>\n",
       "      <td>27.6725</td>\n",
       "    </tr>\n",
       "  </tbody>\n",
       "</table>\n",
       "</div>"
      ],
      "text/plain": [
       "                 Open       High        Low      Close  Adj Close  \\\n",
       "Date                                                                \n",
       "2016-04-11  27.242500  27.652500  27.207500  27.254999  25.048595   \n",
       "2016-04-12  27.334999  27.625000  27.165001  27.610001  25.374861   \n",
       "2016-04-13  27.700001  28.084999  27.700001  28.010000  25.742481   \n",
       "2016-04-14  27.905001  28.097500  27.832500  28.025000  25.756268   \n",
       "2016-04-15  28.027500  28.075001  27.432501  27.462500  25.239300   \n",
       "\n",
       "                 Volume  Month  Close_5ma  \n",
       "Date                                       \n",
       "2016-04-11  117630000.0      4        NaN  \n",
       "2016-04-12  108929200.0      4        NaN  \n",
       "2016-04-13  133029200.0      4        NaN  \n",
       "2016-04-14  101895600.0      4        NaN  \n",
       "2016-04-15  187756000.0      4    27.6725  "
      ]
     },
     "execution_count": 49,
     "metadata": {},
     "output_type": "execute_result"
    }
   ],
   "source": [
    "df.head()"
   ]
  },
  {
   "cell_type": "code",
   "execution_count": 50,
   "id": "06e0b6dd-8583-487b-b20f-cc6ce4689cec",
   "metadata": {
    "tags": []
   },
   "outputs": [
    {
     "data": {
      "text/plain": [
       "Date\n",
       "2016-04-11           NaN\n",
       "2016-04-12     27.254999\n",
       "2016-04-13     27.610001\n",
       "2016-04-14     28.010000\n",
       "2016-04-15     28.025000\n",
       "                 ...    \n",
       "2023-03-31    162.360001\n",
       "2023-04-03    164.899994\n",
       "2023-04-04    166.169998\n",
       "2023-04-05    165.630005\n",
       "2023-04-06    163.759995\n",
       "Name: Close, Length: 1761, dtype: float64"
      ]
     },
     "execution_count": 50,
     "metadata": {},
     "output_type": "execute_result"
    }
   ],
   "source": [
    "df['Close'].shift(periods=1)"
   ]
  },
  {
   "cell_type": "code",
   "execution_count": 51,
   "id": "790fa38c-dfb2-4a66-bacc-4cfb5df9e7d9",
   "metadata": {
    "tags": []
   },
   "outputs": [],
   "source": [
    "for i in range(5):\n",
    "    name = f'Shift_{i+1}'\n",
    "    df[name] = df['Close'].shift(i+1)"
   ]
  },
  {
   "cell_type": "code",
   "execution_count": 52,
   "id": "a94b74bf-7da0-4831-b1c1-4493e5eb77fb",
   "metadata": {
    "tags": []
   },
   "outputs": [
    {
     "data": {
      "text/html": [
       "<div>\n",
       "<style scoped>\n",
       "    .dataframe tbody tr th:only-of-type {\n",
       "        vertical-align: middle;\n",
       "    }\n",
       "\n",
       "    .dataframe tbody tr th {\n",
       "        vertical-align: top;\n",
       "    }\n",
       "\n",
       "    .dataframe thead th {\n",
       "        text-align: right;\n",
       "    }\n",
       "</style>\n",
       "<table border=\"1\" class=\"dataframe\">\n",
       "  <thead>\n",
       "    <tr style=\"text-align: right;\">\n",
       "      <th></th>\n",
       "      <th>Open</th>\n",
       "      <th>High</th>\n",
       "      <th>Low</th>\n",
       "      <th>Close</th>\n",
       "      <th>Adj Close</th>\n",
       "      <th>Volume</th>\n",
       "      <th>Month</th>\n",
       "      <th>Close_5ma</th>\n",
       "      <th>Shift_1</th>\n",
       "      <th>Shift_2</th>\n",
       "      <th>Shift_3</th>\n",
       "      <th>Shift_4</th>\n",
       "      <th>Shift_5</th>\n",
       "    </tr>\n",
       "    <tr>\n",
       "      <th>Date</th>\n",
       "      <th></th>\n",
       "      <th></th>\n",
       "      <th></th>\n",
       "      <th></th>\n",
       "      <th></th>\n",
       "      <th></th>\n",
       "      <th></th>\n",
       "      <th></th>\n",
       "      <th></th>\n",
       "      <th></th>\n",
       "      <th></th>\n",
       "      <th></th>\n",
       "      <th></th>\n",
       "    </tr>\n",
       "  </thead>\n",
       "  <tbody>\n",
       "    <tr>\n",
       "      <th>2016-04-11</th>\n",
       "      <td>27.242500</td>\n",
       "      <td>27.652500</td>\n",
       "      <td>27.207500</td>\n",
       "      <td>27.254999</td>\n",
       "      <td>25.048595</td>\n",
       "      <td>117630000.0</td>\n",
       "      <td>4</td>\n",
       "      <td>NaN</td>\n",
       "      <td>NaN</td>\n",
       "      <td>NaN</td>\n",
       "      <td>NaN</td>\n",
       "      <td>NaN</td>\n",
       "      <td>NaN</td>\n",
       "    </tr>\n",
       "    <tr>\n",
       "      <th>2016-04-12</th>\n",
       "      <td>27.334999</td>\n",
       "      <td>27.625000</td>\n",
       "      <td>27.165001</td>\n",
       "      <td>27.610001</td>\n",
       "      <td>25.374861</td>\n",
       "      <td>108929200.0</td>\n",
       "      <td>4</td>\n",
       "      <td>NaN</td>\n",
       "      <td>27.254999</td>\n",
       "      <td>NaN</td>\n",
       "      <td>NaN</td>\n",
       "      <td>NaN</td>\n",
       "      <td>NaN</td>\n",
       "    </tr>\n",
       "    <tr>\n",
       "      <th>2016-04-13</th>\n",
       "      <td>27.700001</td>\n",
       "      <td>28.084999</td>\n",
       "      <td>27.700001</td>\n",
       "      <td>28.010000</td>\n",
       "      <td>25.742481</td>\n",
       "      <td>133029200.0</td>\n",
       "      <td>4</td>\n",
       "      <td>NaN</td>\n",
       "      <td>27.610001</td>\n",
       "      <td>27.254999</td>\n",
       "      <td>NaN</td>\n",
       "      <td>NaN</td>\n",
       "      <td>NaN</td>\n",
       "    </tr>\n",
       "    <tr>\n",
       "      <th>2016-04-14</th>\n",
       "      <td>27.905001</td>\n",
       "      <td>28.097500</td>\n",
       "      <td>27.832500</td>\n",
       "      <td>28.025000</td>\n",
       "      <td>25.756268</td>\n",
       "      <td>101895600.0</td>\n",
       "      <td>4</td>\n",
       "      <td>NaN</td>\n",
       "      <td>28.010000</td>\n",
       "      <td>27.610001</td>\n",
       "      <td>27.254999</td>\n",
       "      <td>NaN</td>\n",
       "      <td>NaN</td>\n",
       "    </tr>\n",
       "    <tr>\n",
       "      <th>2016-04-15</th>\n",
       "      <td>28.027500</td>\n",
       "      <td>28.075001</td>\n",
       "      <td>27.432501</td>\n",
       "      <td>27.462500</td>\n",
       "      <td>25.239300</td>\n",
       "      <td>187756000.0</td>\n",
       "      <td>4</td>\n",
       "      <td>27.6725</td>\n",
       "      <td>28.025000</td>\n",
       "      <td>28.010000</td>\n",
       "      <td>27.610001</td>\n",
       "      <td>27.254999</td>\n",
       "      <td>NaN</td>\n",
       "    </tr>\n",
       "    <tr>\n",
       "      <th>2016-04-18</th>\n",
       "      <td>27.222500</td>\n",
       "      <td>27.237499</td>\n",
       "      <td>26.735001</td>\n",
       "      <td>26.870001</td>\n",
       "      <td>24.694765</td>\n",
       "      <td>243286000.0</td>\n",
       "      <td>4</td>\n",
       "      <td>27.5955</td>\n",
       "      <td>27.462500</td>\n",
       "      <td>28.025000</td>\n",
       "      <td>28.010000</td>\n",
       "      <td>27.610001</td>\n",
       "      <td>27.254999</td>\n",
       "    </tr>\n",
       "    <tr>\n",
       "      <th>2016-04-19</th>\n",
       "      <td>26.969999</td>\n",
       "      <td>27.000000</td>\n",
       "      <td>26.557501</td>\n",
       "      <td>26.727501</td>\n",
       "      <td>24.563807</td>\n",
       "      <td>129539600.0</td>\n",
       "      <td>4</td>\n",
       "      <td>27.4190</td>\n",
       "      <td>26.870001</td>\n",
       "      <td>27.462500</td>\n",
       "      <td>28.025000</td>\n",
       "      <td>28.010000</td>\n",
       "      <td>27.610001</td>\n",
       "    </tr>\n",
       "  </tbody>\n",
       "</table>\n",
       "</div>"
      ],
      "text/plain": [
       "                 Open       High        Low      Close  Adj Close  \\\n",
       "Date                                                                \n",
       "2016-04-11  27.242500  27.652500  27.207500  27.254999  25.048595   \n",
       "2016-04-12  27.334999  27.625000  27.165001  27.610001  25.374861   \n",
       "2016-04-13  27.700001  28.084999  27.700001  28.010000  25.742481   \n",
       "2016-04-14  27.905001  28.097500  27.832500  28.025000  25.756268   \n",
       "2016-04-15  28.027500  28.075001  27.432501  27.462500  25.239300   \n",
       "2016-04-18  27.222500  27.237499  26.735001  26.870001  24.694765   \n",
       "2016-04-19  26.969999  27.000000  26.557501  26.727501  24.563807   \n",
       "\n",
       "                 Volume  Month  Close_5ma    Shift_1    Shift_2    Shift_3  \\\n",
       "Date                                                                         \n",
       "2016-04-11  117630000.0      4        NaN        NaN        NaN        NaN   \n",
       "2016-04-12  108929200.0      4        NaN  27.254999        NaN        NaN   \n",
       "2016-04-13  133029200.0      4        NaN  27.610001  27.254999        NaN   \n",
       "2016-04-14  101895600.0      4        NaN  28.010000  27.610001  27.254999   \n",
       "2016-04-15  187756000.0      4    27.6725  28.025000  28.010000  27.610001   \n",
       "2016-04-18  243286000.0      4    27.5955  27.462500  28.025000  28.010000   \n",
       "2016-04-19  129539600.0      4    27.4190  26.870001  27.462500  28.025000   \n",
       "\n",
       "              Shift_4    Shift_5  \n",
       "Date                              \n",
       "2016-04-11        NaN        NaN  \n",
       "2016-04-12        NaN        NaN  \n",
       "2016-04-13        NaN        NaN  \n",
       "2016-04-14        NaN        NaN  \n",
       "2016-04-15  27.254999        NaN  \n",
       "2016-04-18  27.610001  27.254999  \n",
       "2016-04-19  28.010000  27.610001  "
      ]
     },
     "execution_count": 52,
     "metadata": {},
     "output_type": "execute_result"
    }
   ],
   "source": [
    "df.head(7)"
   ]
  },
  {
   "cell_type": "code",
   "execution_count": 53,
   "id": "4158b742-5fb9-4190-a6d0-e9c427c5f86f",
   "metadata": {
    "tags": []
   },
   "outputs": [],
   "source": [
    "df.dropna(axis=0, inplace=True)"
   ]
  },
  {
   "cell_type": "code",
   "execution_count": 54,
   "id": "b6a35249-9152-49d5-80cb-ef9242948f8e",
   "metadata": {
    "tags": []
   },
   "outputs": [
    {
     "data": {
      "text/html": [
       "<div>\n",
       "<style scoped>\n",
       "    .dataframe tbody tr th:only-of-type {\n",
       "        vertical-align: middle;\n",
       "    }\n",
       "\n",
       "    .dataframe tbody tr th {\n",
       "        vertical-align: top;\n",
       "    }\n",
       "\n",
       "    .dataframe thead th {\n",
       "        text-align: right;\n",
       "    }\n",
       "</style>\n",
       "<table border=\"1\" class=\"dataframe\">\n",
       "  <thead>\n",
       "    <tr style=\"text-align: right;\">\n",
       "      <th></th>\n",
       "      <th>Open</th>\n",
       "      <th>High</th>\n",
       "      <th>Low</th>\n",
       "      <th>Close</th>\n",
       "      <th>Adj Close</th>\n",
       "      <th>Volume</th>\n",
       "      <th>Month</th>\n",
       "      <th>Close_5ma</th>\n",
       "      <th>Shift_1</th>\n",
       "      <th>Shift_2</th>\n",
       "      <th>Shift_3</th>\n",
       "      <th>Shift_4</th>\n",
       "      <th>Shift_5</th>\n",
       "    </tr>\n",
       "    <tr>\n",
       "      <th>Date</th>\n",
       "      <th></th>\n",
       "      <th></th>\n",
       "      <th></th>\n",
       "      <th></th>\n",
       "      <th></th>\n",
       "      <th></th>\n",
       "      <th></th>\n",
       "      <th></th>\n",
       "      <th></th>\n",
       "      <th></th>\n",
       "      <th></th>\n",
       "      <th></th>\n",
       "      <th></th>\n",
       "    </tr>\n",
       "  </thead>\n",
       "  <tbody>\n",
       "    <tr>\n",
       "      <th>2016-04-18</th>\n",
       "      <td>27.222500</td>\n",
       "      <td>27.237499</td>\n",
       "      <td>26.735001</td>\n",
       "      <td>26.870001</td>\n",
       "      <td>24.694765</td>\n",
       "      <td>243286000.0</td>\n",
       "      <td>4</td>\n",
       "      <td>27.5955</td>\n",
       "      <td>27.462500</td>\n",
       "      <td>28.025000</td>\n",
       "      <td>28.010000</td>\n",
       "      <td>27.610001</td>\n",
       "      <td>27.254999</td>\n",
       "    </tr>\n",
       "    <tr>\n",
       "      <th>2016-04-19</th>\n",
       "      <td>26.969999</td>\n",
       "      <td>27.000000</td>\n",
       "      <td>26.557501</td>\n",
       "      <td>26.727501</td>\n",
       "      <td>24.563807</td>\n",
       "      <td>129539600.0</td>\n",
       "      <td>4</td>\n",
       "      <td>27.4190</td>\n",
       "      <td>26.870001</td>\n",
       "      <td>27.462500</td>\n",
       "      <td>28.025000</td>\n",
       "      <td>28.010000</td>\n",
       "      <td>27.610001</td>\n",
       "    </tr>\n",
       "    <tr>\n",
       "      <th>2016-04-20</th>\n",
       "      <td>26.660000</td>\n",
       "      <td>27.022499</td>\n",
       "      <td>26.514999</td>\n",
       "      <td>26.782499</td>\n",
       "      <td>24.614347</td>\n",
       "      <td>122444000.0</td>\n",
       "      <td>4</td>\n",
       "      <td>27.1735</td>\n",
       "      <td>26.727501</td>\n",
       "      <td>26.870001</td>\n",
       "      <td>27.462500</td>\n",
       "      <td>28.025000</td>\n",
       "      <td>28.010000</td>\n",
       "    </tr>\n",
       "    <tr>\n",
       "      <th>2016-04-21</th>\n",
       "      <td>26.732500</td>\n",
       "      <td>26.732500</td>\n",
       "      <td>26.379999</td>\n",
       "      <td>26.492500</td>\n",
       "      <td>24.347830</td>\n",
       "      <td>126210000.0</td>\n",
       "      <td>4</td>\n",
       "      <td>26.8670</td>\n",
       "      <td>26.782499</td>\n",
       "      <td>26.727501</td>\n",
       "      <td>26.870001</td>\n",
       "      <td>27.462500</td>\n",
       "      <td>28.025000</td>\n",
       "    </tr>\n",
       "    <tr>\n",
       "      <th>2016-04-22</th>\n",
       "      <td>26.252501</td>\n",
       "      <td>26.620001</td>\n",
       "      <td>26.155001</td>\n",
       "      <td>26.420000</td>\n",
       "      <td>24.281199</td>\n",
       "      <td>134732400.0</td>\n",
       "      <td>4</td>\n",
       "      <td>26.6585</td>\n",
       "      <td>26.492500</td>\n",
       "      <td>26.782499</td>\n",
       "      <td>26.727501</td>\n",
       "      <td>26.870001</td>\n",
       "      <td>27.462500</td>\n",
       "    </tr>\n",
       "    <tr>\n",
       "      <th>2016-04-25</th>\n",
       "      <td>26.250000</td>\n",
       "      <td>26.412500</td>\n",
       "      <td>26.127501</td>\n",
       "      <td>26.270000</td>\n",
       "      <td>24.143339</td>\n",
       "      <td>112126400.0</td>\n",
       "      <td>4</td>\n",
       "      <td>26.5385</td>\n",
       "      <td>26.420000</td>\n",
       "      <td>26.492500</td>\n",
       "      <td>26.782499</td>\n",
       "      <td>26.727501</td>\n",
       "      <td>26.870001</td>\n",
       "    </tr>\n",
       "    <tr>\n",
       "      <th>2016-04-26</th>\n",
       "      <td>25.977501</td>\n",
       "      <td>26.325001</td>\n",
       "      <td>25.977501</td>\n",
       "      <td>26.087500</td>\n",
       "      <td>23.975616</td>\n",
       "      <td>224064800.0</td>\n",
       "      <td>4</td>\n",
       "      <td>26.4105</td>\n",
       "      <td>26.270000</td>\n",
       "      <td>26.420000</td>\n",
       "      <td>26.492500</td>\n",
       "      <td>26.782499</td>\n",
       "      <td>26.727501</td>\n",
       "    </tr>\n",
       "  </tbody>\n",
       "</table>\n",
       "</div>"
      ],
      "text/plain": [
       "                 Open       High        Low      Close  Adj Close  \\\n",
       "Date                                                                \n",
       "2016-04-18  27.222500  27.237499  26.735001  26.870001  24.694765   \n",
       "2016-04-19  26.969999  27.000000  26.557501  26.727501  24.563807   \n",
       "2016-04-20  26.660000  27.022499  26.514999  26.782499  24.614347   \n",
       "2016-04-21  26.732500  26.732500  26.379999  26.492500  24.347830   \n",
       "2016-04-22  26.252501  26.620001  26.155001  26.420000  24.281199   \n",
       "2016-04-25  26.250000  26.412500  26.127501  26.270000  24.143339   \n",
       "2016-04-26  25.977501  26.325001  25.977501  26.087500  23.975616   \n",
       "\n",
       "                 Volume  Month  Close_5ma    Shift_1    Shift_2    Shift_3  \\\n",
       "Date                                                                         \n",
       "2016-04-18  243286000.0      4    27.5955  27.462500  28.025000  28.010000   \n",
       "2016-04-19  129539600.0      4    27.4190  26.870001  27.462500  28.025000   \n",
       "2016-04-20  122444000.0      4    27.1735  26.727501  26.870001  27.462500   \n",
       "2016-04-21  126210000.0      4    26.8670  26.782499  26.727501  26.870001   \n",
       "2016-04-22  134732400.0      4    26.6585  26.492500  26.782499  26.727501   \n",
       "2016-04-25  112126400.0      4    26.5385  26.420000  26.492500  26.782499   \n",
       "2016-04-26  224064800.0      4    26.4105  26.270000  26.420000  26.492500   \n",
       "\n",
       "              Shift_4    Shift_5  \n",
       "Date                              \n",
       "2016-04-18  27.610001  27.254999  \n",
       "2016-04-19  28.010000  27.610001  \n",
       "2016-04-20  28.025000  28.010000  \n",
       "2016-04-21  27.462500  28.025000  \n",
       "2016-04-22  26.870001  27.462500  \n",
       "2016-04-25  26.727501  26.870001  \n",
       "2016-04-26  26.782499  26.727501  "
      ]
     },
     "execution_count": 54,
     "metadata": {},
     "output_type": "execute_result"
    }
   ],
   "source": [
    "df.head(7)"
   ]
  },
  {
   "cell_type": "markdown",
   "id": "dfecbe68-c6a8-452c-a861-1f68352bc07b",
   "metadata": {},
   "source": [
    "### groupby 함수 이용해서 년도별 시가 및 종가 평균 보기"
   ]
  },
  {
   "cell_type": "code",
   "execution_count": 55,
   "id": "edbbaf8b-6e7e-4bed-ba5c-b36b1e449196",
   "metadata": {
    "tags": []
   },
   "outputs": [
    {
     "data": {
      "text/html": [
       "<div>\n",
       "<style scoped>\n",
       "    .dataframe tbody tr th:only-of-type {\n",
       "        vertical-align: middle;\n",
       "    }\n",
       "\n",
       "    .dataframe tbody tr th {\n",
       "        vertical-align: top;\n",
       "    }\n",
       "\n",
       "    .dataframe thead th {\n",
       "        text-align: right;\n",
       "    }\n",
       "</style>\n",
       "<table border=\"1\" class=\"dataframe\">\n",
       "  <thead>\n",
       "    <tr style=\"text-align: right;\">\n",
       "      <th></th>\n",
       "      <th>Open</th>\n",
       "      <th>Close</th>\n",
       "    </tr>\n",
       "    <tr>\n",
       "      <th>Date</th>\n",
       "      <th></th>\n",
       "      <th></th>\n",
       "    </tr>\n",
       "  </thead>\n",
       "  <tbody>\n",
       "    <tr>\n",
       "      <th>2016</th>\n",
       "      <td>26.461125</td>\n",
       "      <td>26.484333</td>\n",
       "    </tr>\n",
       "    <tr>\n",
       "      <th>2017</th>\n",
       "      <td>37.611225</td>\n",
       "      <td>37.637769</td>\n",
       "    </tr>\n",
       "    <tr>\n",
       "      <th>2018</th>\n",
       "      <td>47.277859</td>\n",
       "      <td>47.263357</td>\n",
       "    </tr>\n",
       "    <tr>\n",
       "      <th>2019</th>\n",
       "      <td>51.967272</td>\n",
       "      <td>52.063988</td>\n",
       "    </tr>\n",
       "    <tr>\n",
       "      <th>2020</th>\n",
       "      <td>95.267668</td>\n",
       "      <td>95.347075</td>\n",
       "    </tr>\n",
       "    <tr>\n",
       "      <th>2021</th>\n",
       "      <td>140.861866</td>\n",
       "      <td>140.989365</td>\n",
       "    </tr>\n",
       "    <tr>\n",
       "      <th>2022</th>\n",
       "      <td>154.802709</td>\n",
       "      <td>154.835060</td>\n",
       "    </tr>\n",
       "    <tr>\n",
       "      <th>2023</th>\n",
       "      <td>147.989849</td>\n",
       "      <td>148.611969</td>\n",
       "    </tr>\n",
       "  </tbody>\n",
       "</table>\n",
       "</div>"
      ],
      "text/plain": [
       "            Open       Close\n",
       "Date                        \n",
       "2016   26.461125   26.484333\n",
       "2017   37.611225   37.637769\n",
       "2018   47.277859   47.263357\n",
       "2019   51.967272   52.063988\n",
       "2020   95.267668   95.347075\n",
       "2021  140.861866  140.989365\n",
       "2022  154.802709  154.835060\n",
       "2023  147.989849  148.611969"
      ]
     },
     "execution_count": 55,
     "metadata": {},
     "output_type": "execute_result"
    }
   ],
   "source": [
    "df.groupby(by=df.index.year)[['Open', 'Close']].mean()"
   ]
  },
  {
   "cell_type": "markdown",
   "id": "50676a14-05a0-42d1-b3c8-142e5f5c32f2",
   "metadata": {},
   "source": [
    "### resample 함수 이용해서 월별 종가 평균 보기"
   ]
  },
  {
   "cell_type": "markdown",
   "id": "c4220b4d-214a-42c7-a63e-370380081dc6",
   "metadata": {},
   "source": [
    "- groupby 함수 대신 resample 함수 활용하여 그룹화\n",
    "- T: mean, H: Hour, D: Day, M: Month, A: Annual"
   ]
  },
  {
   "cell_type": "code",
   "execution_count": 56,
   "id": "b21c70d2-aade-4f88-aee4-21fce5c17208",
   "metadata": {
    "tags": []
   },
   "outputs": [
    {
     "data": {
      "text/plain": [
       "<pandas.core.resample.DatetimeIndexResampler object at 0x7f9b13021b80>"
      ]
     },
     "execution_count": 56,
     "metadata": {},
     "output_type": "execute_result"
    }
   ],
   "source": [
    "df.resample(rule='A')"
   ]
  },
  {
   "cell_type": "code",
   "execution_count": 57,
   "id": "f48a5ba7-1803-4fd1-9c63-a468cb3bcd44",
   "metadata": {
    "tags": []
   },
   "outputs": [
    {
     "data": {
      "text/html": [
       "<div>\n",
       "<style scoped>\n",
       "    .dataframe tbody tr th:only-of-type {\n",
       "        vertical-align: middle;\n",
       "    }\n",
       "\n",
       "    .dataframe tbody tr th {\n",
       "        vertical-align: top;\n",
       "    }\n",
       "\n",
       "    .dataframe thead th {\n",
       "        text-align: right;\n",
       "    }\n",
       "</style>\n",
       "<table border=\"1\" class=\"dataframe\">\n",
       "  <thead>\n",
       "    <tr style=\"text-align: right;\">\n",
       "      <th></th>\n",
       "      <th>Open</th>\n",
       "      <th>Close</th>\n",
       "    </tr>\n",
       "    <tr>\n",
       "      <th>Date</th>\n",
       "      <th></th>\n",
       "      <th></th>\n",
       "    </tr>\n",
       "  </thead>\n",
       "  <tbody>\n",
       "    <tr>\n",
       "      <th>2016-12-31</th>\n",
       "      <td>26.461125</td>\n",
       "      <td>26.484333</td>\n",
       "    </tr>\n",
       "    <tr>\n",
       "      <th>2017-12-31</th>\n",
       "      <td>37.611225</td>\n",
       "      <td>37.637769</td>\n",
       "    </tr>\n",
       "    <tr>\n",
       "      <th>2018-12-31</th>\n",
       "      <td>47.277859</td>\n",
       "      <td>47.263357</td>\n",
       "    </tr>\n",
       "    <tr>\n",
       "      <th>2019-12-31</th>\n",
       "      <td>51.967272</td>\n",
       "      <td>52.063988</td>\n",
       "    </tr>\n",
       "    <tr>\n",
       "      <th>2020-12-31</th>\n",
       "      <td>95.267668</td>\n",
       "      <td>95.347075</td>\n",
       "    </tr>\n",
       "    <tr>\n",
       "      <th>2021-12-31</th>\n",
       "      <td>140.861866</td>\n",
       "      <td>140.989365</td>\n",
       "    </tr>\n",
       "    <tr>\n",
       "      <th>2022-12-31</th>\n",
       "      <td>154.802709</td>\n",
       "      <td>154.835060</td>\n",
       "    </tr>\n",
       "    <tr>\n",
       "      <th>2023-12-31</th>\n",
       "      <td>147.989849</td>\n",
       "      <td>148.611969</td>\n",
       "    </tr>\n",
       "  </tbody>\n",
       "</table>\n",
       "</div>"
      ],
      "text/plain": [
       "                  Open       Close\n",
       "Date                              \n",
       "2016-12-31   26.461125   26.484333\n",
       "2017-12-31   37.611225   37.637769\n",
       "2018-12-31   47.277859   47.263357\n",
       "2019-12-31   51.967272   52.063988\n",
       "2020-12-31   95.267668   95.347075\n",
       "2021-12-31  140.861866  140.989365\n",
       "2022-12-31  154.802709  154.835060\n",
       "2023-12-31  147.989849  148.611969"
      ]
     },
     "execution_count": 57,
     "metadata": {},
     "output_type": "execute_result"
    }
   ],
   "source": [
    "df.resample(rule='A').mean()[['Open','Close']]"
   ]
  },
  {
   "cell_type": "code",
   "execution_count": 58,
   "id": "64dface0-638f-4da9-8121-81ba1dae85b3",
   "metadata": {
    "tags": []
   },
   "outputs": [
    {
     "data": {
      "text/plain": [
       "<pandas.core.resample.DatetimeIndexResampler object at 0x7f9b17390f10>"
      ]
     },
     "execution_count": 58,
     "metadata": {},
     "output_type": "execute_result"
    }
   ],
   "source": [
    "df['Close'].resample(rule='1M')"
   ]
  },
  {
   "cell_type": "code",
   "execution_count": 59,
   "id": "a6ec5729-f09f-49d0-aeab-b2e7bb8a1f1d",
   "metadata": {
    "tags": []
   },
   "outputs": [
    {
     "data": {
      "text/plain": [
       "Date\n",
       "2016-04-30    25.724750\n",
       "2016-05-31    23.743690\n",
       "2016-06-30    24.155568\n",
       "2016-07-31    24.639125\n",
       "2016-08-31    26.916305\n",
       "Freq: M, Name: Close, dtype: float64"
      ]
     },
     "execution_count": 59,
     "metadata": {},
     "output_type": "execute_result"
    }
   ],
   "source": [
    "df['Close'].resample(rule='1M').mean().head()"
   ]
  },
  {
   "cell_type": "code",
   "execution_count": 60,
   "id": "2087ba39-cf04-463d-a3a1-da7d6b2e87e7",
   "metadata": {
    "tags": []
   },
   "outputs": [
    {
     "data": {
      "text/plain": [
       "Date\n",
       "2016-04-30    25.724750\n",
       "2016-07-31    24.171786\n",
       "2016-10-31    27.823654\n",
       "2017-01-31    28.651976\n",
       "2017-04-30    34.793565\n",
       "Freq: 3M, Name: Close, dtype: float64"
      ]
     },
     "execution_count": 60,
     "metadata": {},
     "output_type": "execute_result"
    }
   ],
   "source": [
    "df['Close'].resample(rule='3M').mean().head(5)"
   ]
  },
  {
   "cell_type": "code",
   "execution_count": 61,
   "id": "618543a3-1c22-41d8-8424-f22cc284e641",
   "metadata": {
    "tags": []
   },
   "outputs": [
    {
     "data": {
      "image/png": "[encoded data removed]",
      "text/plain": [
       "<Figure size 640x480 with 1 Axes>"
      ]
     },
     "metadata": {},
     "output_type": "display_data"
    }
   ],
   "source": [
    "df['Close'].resample(rule='A').mean().plot(kind='bar')\n",
    "plt.show()"
   ]
  },
  {
   "cell_type": "code",
   "execution_count": 62,
   "id": "a3aa65c2-47e6-49df-a5df-49dff5eda9a2",
   "metadata": {
    "tags": []
   },
   "outputs": [
    {
     "data": {
      "text/plain": [
       "Date\n",
       "2016-04-30     27.222500\n",
       "2016-05-31     24.920000\n",
       "2016-06-30     24.812500\n",
       "2016-07-31     26.067499\n",
       "2016-08-31     27.407499\n",
       "                 ...    \n",
       "2022-12-31    149.500000\n",
       "2023-01-31    144.960007\n",
       "2023-02-28    153.880005\n",
       "2023-03-31    162.440002\n",
       "2023-04-30    166.600006\n",
       "Freq: M, Name: Open, Length: 85, dtype: float64"
      ]
     },
     "execution_count": 62,
     "metadata": {},
     "output_type": "execute_result"
    }
   ],
   "source": [
    "df['Open'].resample(rule='1M').max()"
   ]
  },
  {
   "cell_type": "code",
   "execution_count": 63,
   "id": "f8c7b05c-b599-4a17-87e5-6d15a2908475",
   "metadata": {
    "tags": []
   },
   "outputs": [
    {
     "data": {
      "image/png": "[encoded data removed]",
      "text/plain": [
       "<Figure size 1500x800 with 1 Axes>"
      ]
     },
     "metadata": {},
     "output_type": "display_data"
    }
   ],
   "source": [
    "df['Open'].resample(rule='1M').max().plot(kind='bar', figsize=(15,8))\n",
    "plt.show()"
   ]
  },
  {
   "cell_type": "code",
   "execution_count": 64,
   "id": "1a61c7d7-6b4f-45fd-aaa2-f07cb40adf68",
   "metadata": {
    "tags": []
   },
   "outputs": [
    {
     "data": {
      "text/plain": [
       "Date\n",
       "2022-06-30    149.899994\n",
       "2022-07-31    161.240005\n",
       "2022-08-31    173.750000\n",
       "2022-09-30    159.899994\n",
       "2022-10-31    153.160004\n",
       "2022-11-30    155.080002\n",
       "2022-12-31    149.500000\n",
       "Freq: M, Name: Open, dtype: float64"
      ]
     },
     "execution_count": 64,
     "metadata": {},
     "output_type": "execute_result"
    }
   ],
   "source": [
    "df.loc['2022-06':'2022-12','Open'].resample(rule='M').max()"
   ]
  },
  {
   "cell_type": "code",
   "execution_count": 65,
   "id": "b187e4e8-4511-4d11-b6f9-610634df6e0e",
   "metadata": {
    "tags": []
   },
   "outputs": [
    {
     "data": {
      "image/png": "[encoded data removed]",
      "text/plain": [
       "<Figure size 640x480 with 1 Axes>"
      ]
     },
     "metadata": {},
     "output_type": "display_data"
    }
   ],
   "source": [
    "df.loc['2022-06':'2022-12','Open'].resample(rule='M').max().plot(kind='bar')\n",
    "plt.show()"
   ]
  },
  {
   "cell_type": "markdown",
   "id": "636c6502-1929-46b9-a9e0-53a8f70ab654",
   "metadata": {},
   "source": [
    "## 시계열 데이터 AI 모델링"
   ]
  },
  {
   "cell_type": "markdown",
   "id": "046eb606-2edf-47c0-9333-6acf91eaf170",
   "metadata": {},
   "source": [
    "### 시계열 분해법"
   ]
  },
  {
   "cell_type": "code",
   "execution_count": 66,
   "id": "57b70ce2-048e-416d-b084-f2f4d1bcb0b7",
   "metadata": {
    "tags": []
   },
   "outputs": [
    {
     "name": "stdout",
     "output_type": "stream",
     "text": [
      "Collecting statsmodels\n",
      "  Downloading statsmodels-0.13.5-cp38-cp38-macosx_10_9_x86_64.whl (9.6 MB)\n",
      "\u001b[2K     \u001b[90m━━━━━━━━━━━━━━━━━━━━━━━━━━━━━━━━━━━━━━━━\u001b[0m \u001b[32m9.6/9.6 MB\u001b[0m \u001b[31m9.2 MB/s\u001b[0m eta \u001b[36m0:00:00\u001b[0m00:01\u001b[0m00:01\u001b[0m\n",
      "\u001b[?25hCollecting patsy>=0.5.2\n",
      "  Downloading patsy-0.5.3-py2.py3-none-any.whl (233 kB)\n",
      "\u001b[2K     \u001b[90m━━━━━━━━━━━━━━━━━━━━━━━━━━━━━━━━━━━━━━━\u001b[0m \u001b[32m233.8/233.8 kB\u001b[0m \u001b[31m5.3 MB/s\u001b[0m eta \u001b[36m0:00:00\u001b[0ma \u001b[36m0:00:01\u001b[0m\n",
      "\u001b[?25hRequirement already satisfied: numpy>=1.17 in /Users/rainmaker/Library/jupyterlab-desktop/jlab_server/lib/python3.8/site-packages (from statsmodels) (1.23.5)\n",
      "Requirement already satisfied: pandas>=0.25 in /Users/rainmaker/Library/jupyterlab-desktop/jlab_server/lib/python3.8/site-packages (from statsmodels) (1.5.3)\n",
      "Requirement already satisfied: packaging>=21.3 in /Users/rainmaker/Library/jupyterlab-desktop/jlab_server/lib/python3.8/site-packages (from statsmodels) (23.0)\n",
      "Requirement already satisfied: scipy>=1.3 in /Users/rainmaker/Library/jupyterlab-desktop/jlab_server/lib/python3.8/site-packages (from statsmodels) (1.10.1)\n",
      "Requirement already satisfied: python-dateutil>=2.8.1 in /Users/rainmaker/Library/jupyterlab-desktop/jlab_server/lib/python3.8/site-packages (from pandas>=0.25->statsmodels) (2.8.2)\n",
      "Requirement already satisfied: pytz>=2020.1 in /Users/rainmaker/Library/jupyterlab-desktop/jlab_server/lib/python3.8/site-packages (from pandas>=0.25->statsmodels) (2022.7.1)\n",
      "Requirement already satisfied: six in /Users/rainmaker/Library/jupyterlab-desktop/jlab_server/lib/python3.8/site-packages (from patsy>=0.5.2->statsmodels) (1.16.0)\n",
      "Installing collected packages: patsy, statsmodels\n",
      "Successfully installed patsy-0.5.3 statsmodels-0.13.5\n"
     ]
    }
   ],
   "source": [
    "!pip install statsmodels"
   ]
  },
  {
   "cell_type": "code",
   "execution_count": 67,
   "id": "4dfe11d3-3b06-4599-8768-5a9377449a27",
   "metadata": {
    "tags": []
   },
   "outputs": [],
   "source": [
    "from statsmodels.tsa.seasonal import seasonal_decompose"
   ]
  },
  {
   "cell_type": "code",
   "execution_count": 68,
   "id": "8fe27cb8-5829-4c9c-a4c1-fdaac3a022b5",
   "metadata": {
    "tags": []
   },
   "outputs": [],
   "source": [
    "# 시계열 분해 (계절성, 가법)\n",
    "result = seasonal_decompose(df['Close'], model='additive', period=1)"
   ]
  },
  {
   "cell_type": "code",
   "execution_count": 69,
   "id": "8da75312-bac1-4589-b1b1-d88587a95e37",
   "metadata": {
    "tags": []
   },
   "outputs": [
    {
     "data": {
      "image/png": "[encoded data removed]",
      "text/plain": [
       "<Figure size 640x480 with 4 Axes>"
      ]
     },
     "metadata": {},
     "output_type": "display_data"
    }
   ],
   "source": [
    "result.plot()\n",
    "plt.show()"
   ]
  },
  {
   "cell_type": "markdown",
   "id": "57af6e1e-6546-4de2-84e9-d9acbdeee616",
   "metadata": {},
   "source": [
    "### Auto ARIMA 활용하여 최적 파라미터 찾기"
   ]
  },
  {
   "cell_type": "code",
   "execution_count": 72,
   "id": "927026b5-3d16-4506-adee-9440bab778e7",
   "metadata": {
    "tags": []
   },
   "outputs": [
    {
     "name": "stdout",
     "output_type": "stream",
     "text": [
      "Requirement already satisfied: pmdarima in /Users/rainmaker/Library/jupyterlab-desktop/jlab_server/lib/python3.8/site-packages (2.0.3)\n",
      "Requirement already satisfied: pandas>=0.19 in /Users/rainmaker/Library/jupyterlab-desktop/jlab_server/lib/python3.8/site-packages (from pmdarima) (1.5.3)\n",
      "Requirement already satisfied: joblib>=0.11 in /Users/rainmaker/Library/jupyterlab-desktop/jlab_server/lib/python3.8/site-packages (from pmdarima) (1.2.0)\n",
      "Requirement already satisfied: scipy>=1.3.2 in /Users/rainmaker/Library/jupyterlab-desktop/jlab_server/lib/python3.8/site-packages (from pmdarima) (1.10.1)\n",
      "Requirement already satisfied: statsmodels>=0.13.2 in /Users/rainmaker/Library/jupyterlab-desktop/jlab_server/lib/python3.8/site-packages (from pmdarima) (0.13.5)\n",
      "Requirement already satisfied: scikit-learn>=0.22 in /Users/rainmaker/Library/jupyterlab-desktop/jlab_server/lib/python3.8/site-packages (from pmdarima) (1.2.2)\n",
      "Requirement already satisfied: numpy>=1.21.2 in /Users/rainmaker/Library/jupyterlab-desktop/jlab_server/lib/python3.8/site-packages (from pmdarima) (1.23.5)\n",
      "Requirement already satisfied: urllib3 in /Users/rainmaker/Library/jupyterlab-desktop/jlab_server/lib/python3.8/site-packages (from pmdarima) (1.26.15)\n",
      "Requirement already satisfied: Cython!=0.29.18,!=0.29.31,>=0.29 in /Users/rainmaker/Library/jupyterlab-desktop/jlab_server/lib/python3.8/site-packages (from pmdarima) (0.29.34)\n",
      "Requirement already satisfied: setuptools!=50.0.0,>=38.6.0 in /Users/rainmaker/Library/jupyterlab-desktop/jlab_server/lib/python3.8/site-packages (from pmdarima) (67.6.0)\n",
      "Requirement already satisfied: python-dateutil>=2.8.1 in /Users/rainmaker/Library/jupyterlab-desktop/jlab_server/lib/python3.8/site-packages (from pandas>=0.19->pmdarima) (2.8.2)\n",
      "Requirement already satisfied: pytz>=2020.1 in /Users/rainmaker/Library/jupyterlab-desktop/jlab_server/lib/python3.8/site-packages (from pandas>=0.19->pmdarima) (2022.7.1)\n",
      "Requirement already satisfied: threadpoolctl>=2.0.0 in /Users/rainmaker/Library/jupyterlab-desktop/jlab_server/lib/python3.8/site-packages (from scikit-learn>=0.22->pmdarima) (3.1.0)\n",
      "Requirement already satisfied: patsy>=0.5.2 in /Users/rainmaker/Library/jupyterlab-desktop/jlab_server/lib/python3.8/site-packages (from statsmodels>=0.13.2->pmdarima) (0.5.3)\n",
      "Requirement already satisfied: packaging>=21.3 in /Users/rainmaker/Library/jupyterlab-desktop/jlab_server/lib/python3.8/site-packages (from statsmodels>=0.13.2->pmdarima) (23.0)\n",
      "Requirement already satisfied: six in /Users/rainmaker/Library/jupyterlab-desktop/jlab_server/lib/python3.8/site-packages (from patsy>=0.5.2->statsmodels>=0.13.2->pmdarima) (1.16.0)\n"
     ]
    }
   ],
   "source": [
    "# auto arima 를 위한 패키지 설치\n",
    "!pip install pmdarima"
   ]
  },
  {
   "cell_type": "code",
   "execution_count": 73,
   "id": "06840e21-0988-4ea1-bf8e-207c7a209212",
   "metadata": {
    "tags": []
   },
   "outputs": [],
   "source": [
    "# auto arima 를 통하여 p,d,q 구하기\n",
    "from pmdarima.arima import auto_arima"
   ]
  },
  {
   "cell_type": "code",
   "execution_count": 74,
   "id": "195e6405-757b-4551-a380-ca7e1d5fc066",
   "metadata": {
    "tags": []
   },
   "outputs": [
    {
     "name": "stdout",
     "output_type": "stream",
     "text": [
      "Performing stepwise search to minimize aic\n",
      " ARIMA(1,1,1)(0,0,0)[0] intercept   : AIC=7310.443, Time=0.29 sec\n",
      " ARIMA(0,1,0)(0,0,0)[0] intercept   : AIC=7313.515, Time=0.03 sec\n",
      " ARIMA(1,1,0)(0,0,0)[0] intercept   : AIC=7310.529, Time=0.07 sec\n",
      " ARIMA(0,1,1)(0,0,0)[0] intercept   : AIC=7310.215, Time=0.10 sec\n",
      " ARIMA(0,1,0)(0,0,0)[0]             : AIC=7314.382, Time=0.04 sec\n",
      " ARIMA(0,1,2)(0,0,0)[0] intercept   : AIC=7310.686, Time=0.13 sec\n",
      " ARIMA(1,1,2)(0,0,0)[0] intercept   : AIC=7312.289, Time=0.42 sec\n",
      " ARIMA(0,1,1)(0,0,0)[0]             : AIC=7311.438, Time=0.05 sec\n",
      "\n",
      "Best model:  ARIMA(0,1,1)(0,0,0)[0] intercept\n",
      "Total fit time: 1.143 seconds\n"
     ]
    },
    {
     "data": {
      "text/html": [
       "<style>#sk-container-id-1 {color: black;background-color: white;}#sk-container-id-1 pre{padding: 0;}#sk-container-id-1 div.sk-toggleable {background-color: white;}#sk-container-id-1 label.sk-toggleable__label {cursor: pointer;display: block;width: 100%;margin-bottom: 0;padding: 0.3em;box-sizing: border-box;text-align: center;}#sk-container-id-1 label.sk-toggleable__label-arrow:before {content: \"▸\";float: left;margin-right: 0.25em;color: #696969;}#sk-container-id-1 label.sk-toggleable__label-arrow:hover:before {color: black;}#sk-container-id-1 div.sk-estimator:hover label.sk-toggleable__label-arrow:before {color: black;}#sk-container-id-1 div.sk-toggleable__content {max-height: 0;max-width: 0;overflow: hidden;text-align: left;background-color: #f0f8ff;}#sk-container-id-1 div.sk-toggleable__content pre {margin: 0.2em;color: black;border-radius: 0.25em;background-color: #f0f8ff;}#sk-container-id-1 input.sk-toggleable__control:checked~div.sk-toggleable__content {max-height: 200px;max-width: 100%;overflow: auto;}#sk-container-id-1 input.sk-toggleable__control:checked~label.sk-toggleable__label-arrow:before {content: \"▾\";}#sk-container-id-1 div.sk-estimator input.sk-toggleable__control:checked~label.sk-toggleable__label {background-color: #d4ebff;}#sk-container-id-1 div.sk-label input.sk-toggleable__control:checked~label.sk-toggleable__label {background-color: #d4ebff;}#sk-container-id-1 input.sk-hidden--visually {border: 0;clip: rect(1px 1px 1px 1px);clip: rect(1px, 1px, 1px, 1px);height: 1px;margin: -1px;overflow: hidden;padding: 0;position: absolute;width: 1px;}#sk-container-id-1 div.sk-estimator {font-family: monospace;background-color: #f0f8ff;border: 1px dotted black;border-radius: 0.25em;box-sizing: border-box;margin-bottom: 0.5em;}#sk-container-id-1 div.sk-estimator:hover {background-color: #d4ebff;}#sk-container-id-1 div.sk-parallel-item::after {content: \"\";width: 100%;border-bottom: 1px solid gray;flex-grow: 1;}#sk-container-id-1 div.sk-label:hover label.sk-toggleable__label {background-color: #d4ebff;}#sk-container-id-1 div.sk-serial::before {content: \"\";position: absolute;border-left: 1px solid gray;box-sizing: border-box;top: 0;bottom: 0;left: 50%;z-index: 0;}#sk-container-id-1 div.sk-serial {display: flex;flex-direction: column;align-items: center;background-color: white;padding-right: 0.2em;padding-left: 0.2em;position: relative;}#sk-container-id-1 div.sk-item {position: relative;z-index: 1;}#sk-container-id-1 div.sk-parallel {display: flex;align-items: stretch;justify-content: center;background-color: white;position: relative;}#sk-container-id-1 div.sk-item::before, #sk-container-id-1 div.sk-parallel-item::before {content: \"\";position: absolute;border-left: 1px solid gray;box-sizing: border-box;top: 0;bottom: 0;left: 50%;z-index: -1;}#sk-container-id-1 div.sk-parallel-item {display: flex;flex-direction: column;z-index: 1;position: relative;background-color: white;}#sk-container-id-1 div.sk-parallel-item:first-child::after {align-self: flex-end;width: 50%;}#sk-container-id-1 div.sk-parallel-item:last-child::after {align-self: flex-start;width: 50%;}#sk-container-id-1 div.sk-parallel-item:only-child::after {width: 0;}#sk-container-id-1 div.sk-dashed-wrapped {border: 1px dashed gray;margin: 0 0.4em 0.5em 0.4em;box-sizing: border-box;padding-bottom: 0.4em;background-color: white;}#sk-container-id-1 div.sk-label label {font-family: monospace;font-weight: bold;display: inline-block;line-height: 1.2em;}#sk-container-id-1 div.sk-label-container {text-align: center;}#sk-container-id-1 div.sk-container {/* jupyter's `normalize.less` sets `[hidden] { display: none; }` but bootstrap.min.css set `[hidden] { display: none !important; }` so we also need the `!important` here to be able to override the default hidden behavior on the sphinx rendered scikit-learn.org. See: https://github.com/scikit-learn/scikit-learn/issues/21755 */display: inline-block !important;position: relative;}#sk-container-id-1 div.sk-text-repr-fallback {display: none;}</style><div id=\"sk-container-id-1\" class=\"sk-top-container\"><div class=\"sk-text-repr-fallback\"><pre> ARIMA(0,1,1)(0,0,0)[0] intercept</pre><b>In a Jupyter environment, please rerun this cell to show the HTML representation or trust the notebook. <br />On GitHub, the HTML representation is unable to render, please try loading this page with nbviewer.org.</b></div><div class=\"sk-container\" hidden><div class=\"sk-item\"><div class=\"sk-estimator sk-toggleable\"><input class=\"sk-toggleable__control sk-hidden--visually\" id=\"sk-estimator-id-1\" type=\"checkbox\" checked><label for=\"sk-estimator-id-1\" class=\"sk-toggleable__label sk-toggleable__label-arrow\">ARIMA</label><div class=\"sk-toggleable__content\"><pre> ARIMA(0,1,1)(0,0,0)[0] intercept</pre></div></div></div></div></div>"
      ],
      "text/plain": [
       "ARIMA(order=(0, 1, 1), scoring_args={}, suppress_warnings=True)"
      ]
     },
     "execution_count": 74,
     "metadata": {},
     "output_type": "execute_result"
    }
   ],
   "source": [
    "model_arima = auto_arima(df['Close'], trace=True, error_action='ignore', start_p=1, max_p=3, start_q=1, max_q=3, suppress_warnings=True)\n",
    "model_arima.fit(df['Close'])"
   ]
  },
  {
   "cell_type": "markdown",
   "id": "a4f06a99-21b1-4a10-a68d-af8295895ab6",
   "metadata": {},
   "source": [
    "### ARIMA 모델 학습"
   ]
  },
  {
   "cell_type": "code",
   "execution_count": 75,
   "id": "72e8a002-fa94-4688-8fab-6f8b4ded84dc",
   "metadata": {
    "tags": []
   },
   "outputs": [],
   "source": [
    "from statsmodels.tsa.arima.model import ARIMA\n",
    "from statsmodels.graphics.tsaplots import plot_predict"
   ]
  },
  {
   "cell_type": "code",
   "execution_count": 76,
   "id": "a1587ed8-411f-4cec-a96c-b68f9d5139e7",
   "metadata": {
    "tags": []
   },
   "outputs": [
    {
     "name": "stderr",
     "output_type": "stream",
     "text": [
      "/Users/rainmaker/Library/jupyterlab-desktop/jlab_server/lib/python3.8/site-packages/statsmodels/tsa/base/tsa_model.py:471: ValueWarning: A date index has been provided, but it has no associated frequency information and so will be ignored when e.g. forecasting.\n",
      "  self._init_dates(dates, freq)\n",
      "/Users/rainmaker/Library/jupyterlab-desktop/jlab_server/lib/python3.8/site-packages/statsmodels/tsa/base/tsa_model.py:471: ValueWarning: A date index has been provided, but it has no associated frequency information and so will be ignored when e.g. forecasting.\n",
      "  self._init_dates(dates, freq)\n",
      "/Users/rainmaker/Library/jupyterlab-desktop/jlab_server/lib/python3.8/site-packages/statsmodels/tsa/base/tsa_model.py:471: ValueWarning: A date index has been provided, but it has no associated frequency information and so will be ignored when e.g. forecasting.\n",
      "  self._init_dates(dates, freq)\n"
     ]
    }
   ],
   "source": [
    "model = ARIMA(df.loc[:,'Close'], order=(0,1,1))\n",
    "model = model.fit()"
   ]
  },
  {
   "cell_type": "code",
   "execution_count": 77,
   "id": "14b6dc76-32b7-4d6c-b6f4-d106932b7fbb",
   "metadata": {
    "tags": []
   },
   "outputs": [
    {
     "data": {
      "image/png": "[encoded data removed]",
      "text/plain": [
       "<Figure size 640x480 with 1 Axes>"
      ]
     },
     "metadata": {},
     "output_type": "display_data"
    }
   ],
   "source": [
    "fig, ax = plt.subplots()\n",
    "df.loc[:,'Close'].plot(ax=ax)\n",
    "plot_predict(model, ax=ax)\n",
    "plt.show()"
   ]
  },
  {
   "cell_type": "markdown",
   "id": "1c4ecf36-99d8-4134-aad2-287b6242fdac",
   "metadata": {},
   "source": [
    "### 종가 데이터를 시계열 형태 데이터로 만들기"
   ]
  },
  {
   "cell_type": "markdown",
   "id": "f69b2514-3bfd-4446-b3c5-b029cdf57189",
   "metadata": {},
   "source": [
    "##### 시계열데이터 형식: windows=5, 데이터 1,2,3,4,5,6,7,8,9 --> [1,2,3,4,5], [6] 포맷 만들기"
   ]
  },
  {
   "cell_type": "code",
   "execution_count": 78,
   "id": "7e0a248c-eff1-4b5e-9485-8f207108dc69",
   "metadata": {
    "tags": []
   },
   "outputs": [
    {
     "data": {
      "text/html": [
       "<div>\n",
       "<style scoped>\n",
       "    .dataframe tbody tr th:only-of-type {\n",
       "        vertical-align: middle;\n",
       "    }\n",
       "\n",
       "    .dataframe tbody tr th {\n",
       "        vertical-align: top;\n",
       "    }\n",
       "\n",
       "    .dataframe thead th {\n",
       "        text-align: right;\n",
       "    }\n",
       "</style>\n",
       "<table border=\"1\" class=\"dataframe\">\n",
       "  <thead>\n",
       "    <tr style=\"text-align: right;\">\n",
       "      <th></th>\n",
       "      <th>Open</th>\n",
       "      <th>High</th>\n",
       "      <th>Low</th>\n",
       "      <th>Close</th>\n",
       "      <th>Adj Close</th>\n",
       "      <th>Volume</th>\n",
       "      <th>Month</th>\n",
       "      <th>Close_5ma</th>\n",
       "      <th>Shift_1</th>\n",
       "      <th>Shift_2</th>\n",
       "      <th>Shift_3</th>\n",
       "      <th>Shift_4</th>\n",
       "      <th>Shift_5</th>\n",
       "    </tr>\n",
       "    <tr>\n",
       "      <th>Date</th>\n",
       "      <th></th>\n",
       "      <th></th>\n",
       "      <th></th>\n",
       "      <th></th>\n",
       "      <th></th>\n",
       "      <th></th>\n",
       "      <th></th>\n",
       "      <th></th>\n",
       "      <th></th>\n",
       "      <th></th>\n",
       "      <th></th>\n",
       "      <th></th>\n",
       "      <th></th>\n",
       "    </tr>\n",
       "  </thead>\n",
       "  <tbody>\n",
       "    <tr>\n",
       "      <th>2016-04-18</th>\n",
       "      <td>27.222500</td>\n",
       "      <td>27.237499</td>\n",
       "      <td>26.735001</td>\n",
       "      <td>26.870001</td>\n",
       "      <td>24.694765</td>\n",
       "      <td>243286000.0</td>\n",
       "      <td>4</td>\n",
       "      <td>27.5955</td>\n",
       "      <td>27.462500</td>\n",
       "      <td>28.025000</td>\n",
       "      <td>28.010000</td>\n",
       "      <td>27.610001</td>\n",
       "      <td>27.254999</td>\n",
       "    </tr>\n",
       "    <tr>\n",
       "      <th>2016-04-19</th>\n",
       "      <td>26.969999</td>\n",
       "      <td>27.000000</td>\n",
       "      <td>26.557501</td>\n",
       "      <td>26.727501</td>\n",
       "      <td>24.563807</td>\n",
       "      <td>129539600.0</td>\n",
       "      <td>4</td>\n",
       "      <td>27.4190</td>\n",
       "      <td>26.870001</td>\n",
       "      <td>27.462500</td>\n",
       "      <td>28.025000</td>\n",
       "      <td>28.010000</td>\n",
       "      <td>27.610001</td>\n",
       "    </tr>\n",
       "    <tr>\n",
       "      <th>2016-04-20</th>\n",
       "      <td>26.660000</td>\n",
       "      <td>27.022499</td>\n",
       "      <td>26.514999</td>\n",
       "      <td>26.782499</td>\n",
       "      <td>24.614347</td>\n",
       "      <td>122444000.0</td>\n",
       "      <td>4</td>\n",
       "      <td>27.1735</td>\n",
       "      <td>26.727501</td>\n",
       "      <td>26.870001</td>\n",
       "      <td>27.462500</td>\n",
       "      <td>28.025000</td>\n",
       "      <td>28.010000</td>\n",
       "    </tr>\n",
       "    <tr>\n",
       "      <th>2016-04-21</th>\n",
       "      <td>26.732500</td>\n",
       "      <td>26.732500</td>\n",
       "      <td>26.379999</td>\n",
       "      <td>26.492500</td>\n",
       "      <td>24.347830</td>\n",
       "      <td>126210000.0</td>\n",
       "      <td>4</td>\n",
       "      <td>26.8670</td>\n",
       "      <td>26.782499</td>\n",
       "      <td>26.727501</td>\n",
       "      <td>26.870001</td>\n",
       "      <td>27.462500</td>\n",
       "      <td>28.025000</td>\n",
       "    </tr>\n",
       "    <tr>\n",
       "      <th>2016-04-22</th>\n",
       "      <td>26.252501</td>\n",
       "      <td>26.620001</td>\n",
       "      <td>26.155001</td>\n",
       "      <td>26.420000</td>\n",
       "      <td>24.281199</td>\n",
       "      <td>134732400.0</td>\n",
       "      <td>4</td>\n",
       "      <td>26.6585</td>\n",
       "      <td>26.492500</td>\n",
       "      <td>26.782499</td>\n",
       "      <td>26.727501</td>\n",
       "      <td>26.870001</td>\n",
       "      <td>27.462500</td>\n",
       "    </tr>\n",
       "  </tbody>\n",
       "</table>\n",
       "</div>"
      ],
      "text/plain": [
       "                 Open       High        Low      Close  Adj Close  \\\n",
       "Date                                                                \n",
       "2016-04-18  27.222500  27.237499  26.735001  26.870001  24.694765   \n",
       "2016-04-19  26.969999  27.000000  26.557501  26.727501  24.563807   \n",
       "2016-04-20  26.660000  27.022499  26.514999  26.782499  24.614347   \n",
       "2016-04-21  26.732500  26.732500  26.379999  26.492500  24.347830   \n",
       "2016-04-22  26.252501  26.620001  26.155001  26.420000  24.281199   \n",
       "\n",
       "                 Volume  Month  Close_5ma    Shift_1    Shift_2    Shift_3  \\\n",
       "Date                                                                         \n",
       "2016-04-18  243286000.0      4    27.5955  27.462500  28.025000  28.010000   \n",
       "2016-04-19  129539600.0      4    27.4190  26.870001  27.462500  28.025000   \n",
       "2016-04-20  122444000.0      4    27.1735  26.727501  26.870001  27.462500   \n",
       "2016-04-21  126210000.0      4    26.8670  26.782499  26.727501  26.870001   \n",
       "2016-04-22  134732400.0      4    26.6585  26.492500  26.782499  26.727501   \n",
       "\n",
       "              Shift_4    Shift_5  \n",
       "Date                              \n",
       "2016-04-18  27.610001  27.254999  \n",
       "2016-04-19  28.010000  27.610001  \n",
       "2016-04-20  28.025000  28.010000  \n",
       "2016-04-21  27.462500  28.025000  \n",
       "2016-04-22  26.870001  27.462500  "
      ]
     },
     "execution_count": 78,
     "metadata": {},
     "output_type": "execute_result"
    }
   ],
   "source": [
    "df.head()"
   ]
  },
  {
   "cell_type": "code",
   "execution_count": 79,
   "id": "154f9a9d-6b1d-4387-9285-a9a00c0a11d6",
   "metadata": {
    "tags": []
   },
   "outputs": [],
   "source": [
    "split_date = '2023-01-01'"
   ]
  },
  {
   "cell_type": "code",
   "execution_count": 80,
   "id": "72d10db8-7d5c-4e8a-9792-74a3ef0a2e20",
   "metadata": {
    "tags": []
   },
   "outputs": [],
   "source": [
    "x_train = df[:split_date]['Close']\n",
    "x_valid = df[split_date:]['Close']"
   ]
  },
  {
   "cell_type": "code",
   "execution_count": 81,
   "id": "54d401ab-1239-47c2-8fab-485dc182bd2e",
   "metadata": {
    "tags": []
   },
   "outputs": [
    {
     "data": {
      "text/plain": [
       "((1690,), (66,))"
      ]
     },
     "execution_count": 81,
     "metadata": {},
     "output_type": "execute_result"
    }
   ],
   "source": [
    "x_train.shape, x_valid.shape"
   ]
  },
  {
   "cell_type": "code",
   "execution_count": 82,
   "id": "f5850a74-9a46-46c0-bb20-910d5b2ad24f",
   "metadata": {
    "tags": []
   },
   "outputs": [
    {
     "data": {
      "text/plain": [
       "Date\n",
       "2023-01-03    125.070000\n",
       "2023-01-04    126.360001\n",
       "2023-01-05    125.019997\n",
       "2023-01-06    129.619995\n",
       "2023-01-09    130.149994\n",
       "Name: Close, dtype: float64"
      ]
     },
     "execution_count": 82,
     "metadata": {},
     "output_type": "execute_result"
    }
   ],
   "source": [
    "x_valid.head()"
   ]
  },
  {
   "cell_type": "code",
   "execution_count": 83,
   "id": "c32e0561-93b9-4b0f-97ae-b89e8edc0e38",
   "metadata": {
    "tags": []
   },
   "outputs": [
    {
     "name": "stderr",
     "output_type": "stream",
     "text": [
      "2023-04-15 21:25:10.502650: I tensorflow/core/platform/cpu_feature_guard.cc:182] This TensorFlow binary is optimized to use available CPU instructions in performance-critical operations.\n",
      "To enable the following instructions: AVX2 AVX512F AVX512_VNNI FMA, in other operations, rebuild TensorFlow with the appropriate compiler flags.\n"
     ]
    }
   ],
   "source": [
    "import tensorflow as tf"
   ]
  },
  {
   "cell_type": "code",
   "execution_count": 84,
   "id": "75ef0235-ef6f-40ba-97c8-0df9ff4203e2",
   "metadata": {
    "tags": []
   },
   "outputs": [],
   "source": [
    "# windows size 5일 경우: 1,2,3,4,5,6 ---> [1,2,3,4,5](training_data), [6](validation_data)\n",
    "# 즉, 5일간 종가와 다음날 종가 형식의 데이터 만들기\n",
    "\n",
    "def windowed_dataset(series, window_size, batch_size, suffle_buffer):\n",
    "    series = tf.expand_dims(series, axis=-1)\n",
    "    ds = tf.data.Dataset.from_tensor_slices(series)\n",
    "    ds = ds.window(window_size + 1, shift=1, drop_remainder=True)\n",
    "    ds = ds.flat_map(lambda w: w.batch(window_size + 1))\n",
    "    ds = ds.shuffle(suffle_buffer)\n",
    "    ds = ds.map(lambda w: (w[:-1], w[-1]))\n",
    "    # 메모리에 적재\n",
    "    return ds.batch(batch_size).prefetch(1)"
   ]
  },
  {
   "cell_type": "code",
   "execution_count": 85,
   "id": "c647e033-b6be-435f-b62d-e4489b0be0ae",
   "metadata": {
    "tags": []
   },
   "outputs": [],
   "source": [
    "window_size = 5\n",
    "batch_size = 32\n",
    "shuffle_size = 1000"
   ]
  },
  {
   "cell_type": "code",
   "execution_count": 87,
   "id": "70338d4f-10ce-41f2-85e2-6321f4edcb0f",
   "metadata": {
    "tags": []
   },
   "outputs": [],
   "source": [
    "train_set = windowed_dataset(x_train, window_size, batch_size, shuffle_size)\n",
    "validation_set = windowed_dataset(x_valid, window_size, batch_size, shuffle_size)"
   ]
  },
  {
   "cell_type": "code",
   "execution_count": 88,
   "id": "534d5bfc-7576-48fc-97b3-cffca85d7cf6",
   "metadata": {
    "tags": []
   },
   "outputs": [
    {
     "data": {
      "text/plain": [
       "<_PrefetchDataset element_spec=(TensorSpec(shape=(None, None, 1), dtype=tf.float64, name=None), TensorSpec(shape=(None, 1), dtype=tf.float64, name=None))>"
      ]
     },
     "execution_count": 88,
     "metadata": {},
     "output_type": "execute_result"
    }
   ],
   "source": [
    "train_set"
   ]
  },
  {
   "cell_type": "code",
   "execution_count": 89,
   "id": "96eeb6d9-1000-455e-a6ec-a2d6291a6412",
   "metadata": {
    "tags": []
   },
   "outputs": [
    {
     "data": {
      "text/plain": [
       "<_PrefetchDataset element_spec=(TensorSpec(shape=(None, None, 1), dtype=tf.float64, name=None), TensorSpec(shape=(None, 1), dtype=tf.float64, name=None))>"
      ]
     },
     "execution_count": 89,
     "metadata": {},
     "output_type": "execute_result"
    }
   ],
   "source": [
    "validation_set"
   ]
  },
  {
   "cell_type": "markdown",
   "id": "92c3607a-cc50-451f-b715-2288cc9376bb",
   "metadata": {},
   "source": [
    "### RNN 모델링 만들기"
   ]
  },
  {
   "cell_type": "markdown",
   "id": "42f8500d-c56f-46ec-ba82-27c0294e0724",
   "metadata": {},
   "source": [
    "#### SimpleRNN 모델링"
   ]
  },
  {
   "cell_type": "code",
   "execution_count": 90,
   "id": "92d395ba-f0bb-4187-a8da-09e7b84c43d2",
   "metadata": {
    "tags": []
   },
   "outputs": [],
   "source": [
    "from tensorflow.keras.models import Sequential\n",
    "from tensorflow.keras.layers import Dense, Dropout, SimpleRNN, LSTM\n",
    "from tensorflow.keras.callbacks import EarlyStopping, ModelCheckpoint"
   ]
  },
  {
   "cell_type": "code",
   "execution_count": 91,
   "id": "f305dbe3-ffaf-455c-8fa7-c0ee87625091",
   "metadata": {
    "tags": []
   },
   "outputs": [],
   "source": [
    "EPOCHS = 20"
   ]
  },
  {
   "cell_type": "code",
   "execution_count": 92,
   "id": "27026b4b-0d00-4dd5-8d47-cbd56f6850cb",
   "metadata": {
    "tags": []
   },
   "outputs": [],
   "source": [
    "es = EarlyStopping(monitor='val_loss', min_delta=0, patience=10, verbose=1)\n",
    "mc = ModelCheckpoint('best_model.h5', monitor='val_mse', save_best_only=True, save_weights_only=True, verbose=1)"
   ]
  },
  {
   "cell_type": "code",
   "execution_count": 93,
   "id": "a0736de1-2a9a-44ce-8d22-e3fabe1c4164",
   "metadata": {
    "tags": []
   },
   "outputs": [],
   "source": [
    "model = Sequential([\n",
    "    SimpleRNN(32, return_sequences=True, input_shape=(None, 1)),\n",
    "    SimpleRNN(16, return_sequences=True, activation='relu'),\n",
    "    Dropout(0.2),\n",
    "    # return_sequences 를 False 로 함으로써 맨 마지막 하나만 유지\n",
    "    SimpleRNN(8, activation='relu'),\n",
    "    Dropout(0.2),\n",
    "    Dense(1)\n",
    "])"
   ]
  },
  {
   "cell_type": "code",
   "execution_count": 94,
   "id": "dd6156e7-a237-441e-8615-d804a6be13b3",
   "metadata": {
    "tags": []
   },
   "outputs": [],
   "source": [
    "# model = Sequential([\n",
    "#     LSTM(32, return_sequences=True, input_shape=(None, 1)),\n",
    "#     LSTM(16, return_sequences=True, activation='relu'),\n",
    "#     Dropout(0.2),\n",
    "#     LSTM(8, activation='relu'),\n",
    "#     Dropout(0.2),\n",
    "#     Dense(1)\n",
    "# ])"
   ]
  },
  {
   "cell_type": "code",
   "execution_count": 95,
   "id": "e9ced20f-1ef4-4779-9256-8a4e54afdba5",
   "metadata": {
    "tags": []
   },
   "outputs": [],
   "source": [
    "model.compile(loss='mse', optimizer='adam', metrics=['mae','mse'])"
   ]
  },
  {
   "cell_type": "code",
   "execution_count": 96,
   "id": "9f746f01-3892-4a83-997f-ae3258f95527",
   "metadata": {
    "tags": []
   },
   "outputs": [
    {
     "name": "stdout",
     "output_type": "stream",
     "text": [
      "Epoch 1/20\n"
     ]
    },
    {
     "name": "stderr",
     "output_type": "stream",
     "text": [
      "2023-04-15 21:25:41.567216: I tensorflow/core/common_runtime/executor.cc:1197] [/device:CPU:0] (DEBUG INFO) Executor start aborting (this does not indicate an error and you can ignore this message): INVALID_ARGUMENT: You must feed a value for placeholder tensor 'Placeholder/_0' with dtype double and shape [1690,1]\n",
      "\t [[{{node Placeholder/_0}}]]\n",
      "2023-04-15 21:25:41.567805: I tensorflow/core/common_runtime/executor.cc:1197] [/device:CPU:0] (DEBUG INFO) Executor start aborting (this does not indicate an error and you can ignore this message): INVALID_ARGUMENT: You must feed a value for placeholder tensor 'Placeholder/_0' with dtype double and shape [1690,1]\n",
      "\t [[{{node Placeholder/_0}}]]\n"
     ]
    },
    {
     "name": "stdout",
     "output_type": "stream",
     "text": [
      "     50/Unknown - 2s 4ms/step - loss: 7018.5215 - mae: 68.9761 - mse: 7018.5215"
     ]
    },
    {
     "name": "stderr",
     "output_type": "stream",
     "text": [
      "2023-04-15 21:25:43.666621: I tensorflow/core/common_runtime/executor.cc:1197] [/device:CPU:0] (DEBUG INFO) Executor start aborting (this does not indicate an error and you can ignore this message): INVALID_ARGUMENT: You must feed a value for placeholder tensor 'Placeholder/_0' with dtype double and shape [66,1]\n",
      "\t [[{{node Placeholder/_0}}]]\n",
      "2023-04-15 21:25:43.666992: I tensorflow/core/common_runtime/executor.cc:1197] [/device:CPU:0] (DEBUG INFO) Executor start aborting (this does not indicate an error and you can ignore this message): INVALID_ARGUMENT: You must feed a value for placeholder tensor 'Placeholder/_0' with dtype double and shape [66,1]\n",
      "\t [[{{node Placeholder/_0}}]]\n"
     ]
    },
    {
     "name": "stdout",
     "output_type": "stream",
     "text": [
      "\n",
      "Epoch 1: val_mse improved from inf to 11288.37500, saving model to best_model.h5\n",
      "53/53 [==============================] - 2s 12ms/step - loss: 6925.3359 - mae: 68.2803 - mse: 6925.3359 - val_loss: 11288.3750 - val_mae: 105.9002 - val_mse: 11288.3750\n",
      "Epoch 2/20\n",
      "52/53 [============================>.] - ETA: 0s - loss: 3018.9692 - mae: 44.3065 - mse: 3018.9692\n",
      "Epoch 2: val_mse improved from 11288.37500 to 2973.45947, saving model to best_model.h5\n",
      "53/53 [==============================] - 0s 5ms/step - loss: 3009.2673 - mae: 44.2160 - mse: 3009.2673 - val_loss: 2973.4595 - val_mae: 53.9829 - val_mse: 2973.4595\n",
      "Epoch 3/20\n",
      "44/53 [=======================>......] - ETA: 0s - loss: 1603.9686 - mae: 29.9044 - mse: 1603.9686\n",
      "Epoch 3: val_mse improved from 2973.45947 to 352.18604, saving model to best_model.h5\n",
      "53/53 [==============================] - 0s 6ms/step - loss: 1591.7500 - mae: 29.2503 - mse: 1591.7500 - val_loss: 352.1860 - val_mae: 18.2056 - val_mse: 352.1860\n",
      "Epoch 4/20\n",
      "47/53 [=========================>....] - ETA: 0s - loss: 970.4631 - mae: 21.6698 - mse: 970.4631\n",
      "Epoch 4: val_mse improved from 352.18604 to 155.02472, saving model to best_model.h5\n",
      "53/53 [==============================] - 0s 5ms/step - loss: 983.8864 - mae: 21.9399 - mse: 983.8864 - val_loss: 155.0247 - val_mae: 12.0403 - val_mse: 155.0247\n",
      "Epoch 5/20\n",
      "47/53 [=========================>....] - ETA: 0s - loss: 880.8456 - mae: 20.2916 - mse: 880.8456\n",
      "Epoch 5: val_mse did not improve from 155.02472\n",
      "53/53 [==============================] - 0s 5ms/step - loss: 886.8441 - mae: 20.5121 - mse: 886.8441 - val_loss: 419.8012 - val_mae: 20.1447 - val_mse: 419.8012\n",
      "Epoch 6/20\n",
      "50/53 [===========================>..] - ETA: 0s - loss: 918.1560 - mae: 20.8009 - mse: 918.1560\n",
      "Epoch 6: val_mse did not improve from 155.02472\n",
      "53/53 [==============================] - 0s 5ms/step - loss: 923.8912 - mae: 20.9727 - mse: 923.8912 - val_loss: 236.2292 - val_mae: 15.0421 - val_mse: 236.2292\n",
      "Epoch 7/20\n",
      "53/53 [==============================] - ETA: 0s - loss: 908.5483 - mae: 20.6956 - mse: 908.5483\n",
      "Epoch 7: val_mse did not improve from 155.02472\n",
      "53/53 [==============================] - 0s 5ms/step - loss: 908.5483 - mae: 20.6956 - mse: 908.5483 - val_loss: 286.1630 - val_mae: 16.6011 - val_mse: 286.1630\n",
      "Epoch 8/20\n",
      "51/53 [===========================>..] - ETA: 0s - loss: 971.3989 - mae: 21.1905 - mse: 971.3989\n",
      "Epoch 8: val_mse did not improve from 155.02472\n",
      "53/53 [==============================] - 0s 5ms/step - loss: 975.2933 - mae: 21.2708 - mse: 975.2933 - val_loss: 504.9675 - val_mae: 22.2540 - val_mse: 504.9675\n",
      "Epoch 9/20\n",
      "48/53 [==========================>...] - ETA: 0s - loss: 858.4249 - mae: 20.0634 - mse: 858.4249\n",
      "Epoch 9: val_mse did not improve from 155.02472\n",
      "53/53 [==============================] - 0s 5ms/step - loss: 857.5882 - mae: 20.1613 - mse: 857.5882 - val_loss: 392.8598 - val_mae: 19.5393 - val_mse: 392.8598\n",
      "Epoch 10/20\n",
      "48/53 [==========================>...] - ETA: 0s - loss: 743.1455 - mae: 18.6367 - mse: 743.1455\n",
      "Epoch 10: val_mse did not improve from 155.02472\n",
      "53/53 [==============================] - 0s 5ms/step - loss: 764.4470 - mae: 18.9119 - mse: 764.4470 - val_loss: 253.6277 - val_mae: 15.5734 - val_mse: 253.6277\n",
      "Epoch 11/20\n",
      "46/53 [=========================>....] - ETA: 0s - loss: 763.8327 - mae: 18.9135 - mse: 763.8327\n",
      "Epoch 11: val_mse did not improve from 155.02472\n",
      "53/53 [==============================] - 0s 5ms/step - loss: 770.1323 - mae: 19.1519 - mse: 770.1323 - val_loss: 183.1474 - val_mae: 13.1586 - val_mse: 183.1474\n",
      "Epoch 12/20\n",
      "50/53 [===========================>..] - ETA: 0s - loss: 682.9149 - mae: 17.7356 - mse: 682.9149\n",
      "Epoch 12: val_mse improved from 155.02472 to 15.58789, saving model to best_model.h5\n",
      "53/53 [==============================] - 0s 5ms/step - loss: 722.9810 - mae: 18.2897 - mse: 722.9810 - val_loss: 15.5879 - val_mae: 3.3075 - val_mse: 15.5879\n",
      "Epoch 13/20\n",
      "53/53 [==============================] - ETA: 0s - loss: 676.2895 - mae: 18.0682 - mse: 676.2895\n",
      "Epoch 13: val_mse did not improve from 15.58789\n",
      "53/53 [==============================] - 0s 5ms/step - loss: 676.2895 - mae: 18.0682 - mse: 676.2895 - val_loss: 115.5403 - val_mae: 10.2917 - val_mse: 115.5403\n",
      "Epoch 14/20\n",
      "52/53 [============================>.] - ETA: 0s - loss: 629.3477 - mae: 17.5658 - mse: 629.3477\n",
      "Epoch 14: val_mse did not improve from 15.58789\n",
      "53/53 [==============================] - 0s 5ms/step - loss: 628.9218 - mae: 17.5777 - mse: 628.9218 - val_loss: 299.7206 - val_mae: 17.0296 - val_mse: 299.7206\n",
      "Epoch 15/20\n",
      "53/53 [==============================] - ETA: 0s - loss: 591.1682 - mae: 17.0461 - mse: 591.1682\n",
      "Epoch 15: val_mse did not improve from 15.58789\n",
      "53/53 [==============================] - 0s 5ms/step - loss: 591.1682 - mae: 17.0461 - mse: 591.1682 - val_loss: 66.9392 - val_mae: 7.5757 - val_mse: 66.9392\n",
      "Epoch 16/20\n",
      "52/53 [============================>.] - ETA: 0s - loss: 539.8362 - mae: 16.0877 - mse: 539.8362\n",
      "Epoch 16: val_mse did not improve from 15.58789\n",
      "53/53 [==============================] - 0s 5ms/step - loss: 538.7458 - mae: 16.0828 - mse: 538.7458 - val_loss: 368.7337 - val_mae: 18.9537 - val_mse: 368.7337\n",
      "Epoch 17/20\n",
      "51/53 [===========================>..] - ETA: 0s - loss: 578.7526 - mae: 16.4253 - mse: 578.7526\n",
      "Epoch 17: val_mse did not improve from 15.58789\n",
      "53/53 [==============================] - 0s 5ms/step - loss: 579.8982 - mae: 16.4499 - mse: 579.8982 - val_loss: 29.9819 - val_mae: 4.6755 - val_mse: 29.9819\n",
      "Epoch 18/20\n",
      "52/53 [============================>.] - ETA: 0s - loss: 539.1537 - mae: 16.1468 - mse: 539.1537\n",
      "Epoch 18: val_mse did not improve from 15.58789\n",
      "53/53 [==============================] - 0s 5ms/step - loss: 537.6251 - mae: 16.1208 - mse: 537.6251 - val_loss: 148.7030 - val_mae: 11.8411 - val_mse: 148.7030\n",
      "Epoch 19/20\n",
      "51/53 [===========================>..] - ETA: 0s - loss: 554.9422 - mae: 16.1605 - mse: 554.9422\n",
      "Epoch 19: val_mse did not improve from 15.58789\n",
      "53/53 [==============================] - 0s 6ms/step - loss: 551.2994 - mae: 16.1395 - mse: 551.2994 - val_loss: 39.8306 - val_mae: 5.6274 - val_mse: 39.8306\n",
      "Epoch 20/20\n",
      "47/53 [=========================>....] - ETA: 0s - loss: 562.6614 - mae: 16.0966 - mse: 562.6614\n",
      "Epoch 20: val_mse did not improve from 15.58789\n",
      "53/53 [==============================] - 0s 5ms/step - loss: 570.4483 - mae: 16.1714 - mse: 570.4483 - val_loss: 308.8819 - val_mae: 17.3049 - val_mse: 308.8819\n"
     ]
    }
   ],
   "source": [
    "history = model.fit(train_set, epochs=EPOCHS, validation_data=validation_set, callbacks=[es, mc])"
   ]
  },
  {
   "cell_type": "markdown",
   "id": "10017717-9660-4ed1-b254-0cdcd04625d3",
   "metadata": {},
   "source": [
    "#### 성능 그래프"
   ]
  },
  {
   "cell_type": "code",
   "execution_count": 97,
   "id": "aeefff54-c561-455a-bde2-c942b3e4e47f",
   "metadata": {
    "tags": []
   },
   "outputs": [
    {
     "data": {
      "image/png": "[encoded data removed]",
      "text/plain": [
       "<Figure size 1200x900 with 1 Axes>"
      ]
     },
     "metadata": {},
     "output_type": "display_data"
    }
   ],
   "source": [
    "plt.figure(figsize=(12,9))\n",
    "\n",
    "plt.plot(history.history['loss'])\n",
    "plt.plot(history.history['val_loss'])\n",
    "plt.title('Training Loss vs. Validation Loss', fontsize=20)\n",
    "plt.xlabel('Epochs')\n",
    "plt.ylabel('Loss')\n",
    "plt.legend(['loss', 'val_loss'], fontsize=15)\n",
    "\n",
    "plt.show()"
   ]
  },
  {
   "cell_type": "code",
   "execution_count": 98,
   "id": "5ab14749-3ef1-42aa-a9b4-5e2cb1f73484",
   "metadata": {
    "tags": []
   },
   "outputs": [
    {
     "name": "stdout",
     "output_type": "stream",
     "text": [
      "2/2 [==============================] - 0s 20ms/step\n"
     ]
    }
   ],
   "source": [
    "predict_result = model.predict(validation_set)"
   ]
  },
  {
   "cell_type": "code",
   "execution_count": 99,
   "id": "eeb2bd1a-4a81-4179-8435-40b6bb4cf211",
   "metadata": {
    "tags": []
   },
   "outputs": [
    {
     "data": {
      "image/png": "[encoded data removed]",
      "text/plain": [
       "<Figure size 1000x500 with 1 Axes>"
      ]
     },
     "metadata": {},
     "output_type": "display_data"
    }
   ],
   "source": [
    "plt.figure(figsize=(10,5))\n",
    "plt.plot(predict_result)\n",
    "plt.show()"
   ]
  },
  {
   "cell_type": "markdown",
   "id": "d792d49d-0523-48b6-8842-13b6b79a41db",
   "metadata": {},
   "source": [
    "## 내용 정리"
   ]
  },
  {
   "cell_type": "markdown",
   "id": "175f0b7a-2c19-4200-898a-0687e7cc1397",
   "metadata": {},
   "source": [
    "1. AAPL 주가 데이터를 읽어와 데이터 분석 및 데이터 전처리 수행\n",
    "    - `interpolate` 함수로 null 값을 알맞은 값으로 채우기\n",
    "    - Pandas 의 `to_datetime` 을 사용하여 Date 컬럼을 datetime 으로 변경\n",
    "    - `set_index` 함수를 사용하여 Date 컬럼을 인덱스로 설정\n",
    "    - `rolling` 함수를 사용하여 종가 5일 이동평균 구하기\n",
    "    - `shift` 함수를 사용하여 종가 컬럼데이터를 아래 칸 내리가 하여, 이전 종가 5일치 데이터를 추가\n",
    "    - `resample` 함수를 사용하여 년, 월, 사용자 범위의 평균과 최대치 구하기\n",
    "2. 시계열 분해법, auto_arima 를 통해 최적 파라미터 찾고 ARIMA 모델 수행\n",
    "3. 시계열 데이터 포맷으로 변경\n",
    "4. RNN 모델링 수행"
   ]
  },
  {
   "cell_type": "code",
   "execution_count": null,
   "id": "c2028649-290e-4fd4-8feb-f60be1b1bdf3",
   "metadata": {},
   "outputs": [],
   "source": []
  }
 ],
 "metadata": {
  "kernelspec": {
   "display_name": "Python 3 (ipykernel)",
   "language": "python",
   "name": "python3"
  },
  "language_info": {
   "codemirror_mode": {
    "name": "ipython",
    "version": 3
   },
   "file_extension": ".py",
   "mimetype": "text/x-python",
   "name": "python",
   "nbconvert_exporter": "python",
   "pygments_lexer": "ipython3",
   "version": "3.8.16"
  },
  "toc-autonumbering": true
 },
 "nbformat": 4,
 "nbformat_minor": 5
}
