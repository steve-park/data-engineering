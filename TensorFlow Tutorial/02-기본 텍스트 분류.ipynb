{
 "cells": [
  {
   "cell_type": "markdown",
   "id": "1cadad67-53e3-4c0f-8dfb-2e08e4a799c8",
   "metadata": {},
   "source": [
    "# 감정분석"
   ]
  },
  {
   "cell_type": "code",
   "execution_count": 1,
   "id": "2c6a2a71-6c3c-41f8-8338-e9dc100a4d2f",
   "metadata": {
    "tags": []
   },
   "outputs": [],
   "source": [
    "from silence_tensorflow import silence_tensorflow\n",
    "silence_tensorflow()"
   ]
  },
  {
   "cell_type": "code",
   "execution_count": 2,
   "id": "3b6f5c58-423b-42c3-a253-0b58f0ba66af",
   "metadata": {
    "tags": []
   },
   "outputs": [],
   "source": [
    "import tensorflow as tf\n",
    "from tensorflow.keras import layers\n",
    "from tensorflow.keras import losses\n",
    "import numpy as np\n",
    "import matplotlib.pyplot as plt\n",
    "\n",
    "import os\n",
    "import re\n",
    "import shutil\n",
    "import string"
   ]
  },
  {
   "cell_type": "code",
   "execution_count": 3,
   "id": "1895eea0-5ea0-4030-8961-be0197526d78",
   "metadata": {
    "tags": []
   },
   "outputs": [
    {
     "name": "stdout",
     "output_type": "stream",
     "text": [
      "2.12.0\n"
     ]
    }
   ],
   "source": [
    "print(tf.__version__)"
   ]
  },
  {
   "cell_type": "markdown",
   "id": "a3eeefec-53b6-47f2-83bc-74b06927908a",
   "metadata": {},
   "source": [
    "## 데이터세트 다운로드 및 탐색하기"
   ]
  },
  {
   "cell_type": "code",
   "execution_count": 4,
   "id": "01af5eff-e627-4d5e-8dbd-08132fff9a21",
   "metadata": {
    "tags": []
   },
   "outputs": [],
   "source": [
    "url = \"https://ai.stanford.edu/~amaas/data/sentiment/aclImdb_v1.tar.gz\""
   ]
  },
  {
   "cell_type": "code",
   "execution_count": 5,
   "id": "7bf0e476-8ea9-4ebb-b3ef-538f49d89285",
   "metadata": {
    "tags": []
   },
   "outputs": [
    {
     "name": "stdout",
     "output_type": "stream",
     "text": [
      "Downloading data from https://ai.stanford.edu/~amaas/data/sentiment/aclImdb_v1.tar.gz\n",
      "84125825/84125825 [==============================] - 37s 0us/step\n"
     ]
    }
   ],
   "source": [
    "dataset = tf.keras.utils.get_file(\"aclImdb_v1\", url, untar=True, cache_dir='.', cache_subdir='')"
   ]
  },
  {
   "cell_type": "code",
   "execution_count": 6,
   "id": "8fc0ba09-e6ab-471b-b39b-98b81cc60e0c",
   "metadata": {
    "tags": []
   },
   "outputs": [
    {
     "name": "stdout",
     "output_type": "stream",
     "text": [
      "./aclImdb\n"
     ]
    }
   ],
   "source": [
    "dataset_dir = os.path.join(os.path.dirname(dataset), 'aclImdb')\n",
    "print(dataset_dir)"
   ]
  },
  {
   "cell_type": "code",
   "execution_count": 7,
   "id": "2f55bc68-c00c-4355-a4ff-60e2cc2c993a",
   "metadata": {
    "tags": []
   },
   "outputs": [
    {
     "data": {
      "text/plain": [
       "['imdbEr.txt', 'test', 'imdb.vocab', 'README', 'train']"
      ]
     },
     "execution_count": 7,
     "metadata": {},
     "output_type": "execute_result"
    }
   ],
   "source": [
    "os.listdir(dataset_dir)"
   ]
  },
  {
   "cell_type": "code",
   "execution_count": 8,
   "id": "5860af3d-54a0-4adc-aaa8-1ad3c8e9e7f6",
   "metadata": {
    "tags": []
   },
   "outputs": [],
   "source": [
    "train_dir = os.path.join(dataset_dir, 'train')"
   ]
  },
  {
   "cell_type": "code",
   "execution_count": 9,
   "id": "74b29392-246b-491f-bf7d-bbc35219437b",
   "metadata": {
    "tags": []
   },
   "outputs": [
    {
     "data": {
      "text/plain": [
       "['urls_unsup.txt',\n",
       " 'neg',\n",
       " 'urls_pos.txt',\n",
       " 'unsup',\n",
       " 'urls_neg.txt',\n",
       " 'pos',\n",
       " 'unsupBow.feat',\n",
       " 'labeledBow.feat']"
      ]
     },
     "execution_count": 9,
     "metadata": {},
     "output_type": "execute_result"
    }
   ],
   "source": [
    "os.listdir(train_dir)"
   ]
  },
  {
   "cell_type": "code",
   "execution_count": 10,
   "id": "e848b878-6827-41dc-9273-ce3d3845af8d",
   "metadata": {
    "tags": []
   },
   "outputs": [
    {
     "name": "stdout",
     "output_type": "stream",
     "text": [
      "Rachel Griffiths writes and directs this award winning short film. A heartwarming story about coping with grief and cherishing the memory of those we've loved and lost. Although, only 15 minutes long, Griffiths manages to capture so much emotion and truth onto film in the short space of time. Bud Tingwell gives a touching performance as Will, a widower struggling to cope with his wife's death. Will is confronted by the harsh reality of loneliness and helplessness as he proceeds to take care of Ruth's pet cow, Tulip. The film displays the grief and responsibility one feels for those they have loved and lost. Good cinematography, great direction, and superbly acted. It will bring tears to all those who have lost a loved one, and survived.\n"
     ]
    }
   ],
   "source": [
    "sample_file = os.path.join(train_dir, 'pos/1181_9.txt')\n",
    "with open(sample_file) as f:\n",
    "    print(f.read())"
   ]
  },
  {
   "cell_type": "markdown",
   "id": "0a43b371-b8fd-4718-ae8f-fe1923c51afd",
   "metadata": {},
   "source": [
    "## 데이터세트 로드하기"
   ]
  },
  {
   "cell_type": "code",
   "execution_count": 11,
   "id": "a442510e-dd22-49a6-bd14-b2f9e158619b",
   "metadata": {
    "tags": []
   },
   "outputs": [],
   "source": [
    "remove_dir = os.path.join(train_dir, 'unsup')\n",
    "shutil.rmtree(remove_dir)"
   ]
  },
  {
   "cell_type": "code",
   "execution_count": 12,
   "id": "6c7cafe8-3a77-4d23-9157-9ebdcbf7762a",
   "metadata": {
    "tags": []
   },
   "outputs": [],
   "source": [
    "batch_size = 32\n",
    "seed = 42"
   ]
  },
  {
   "cell_type": "code",
   "execution_count": 13,
   "id": "f9753a82-a0c0-4ca1-8795-3b4131db0c79",
   "metadata": {
    "tags": []
   },
   "outputs": [
    {
     "name": "stdout",
     "output_type": "stream",
     "text": [
      "Found 25000 files belonging to 2 classes.\n",
      "Using 20000 files for training.\n"
     ]
    }
   ],
   "source": [
    "raw_train_ds = tf.keras.utils.text_dataset_from_directory('aclImdb/train', \n",
    "                                                          batch_size=batch_size, \n",
    "                                                          validation_split=0.2, \n",
    "                                                          subset='training', \n",
    "                                                          seed=seed)"
   ]
  },
  {
   "cell_type": "code",
   "execution_count": 14,
   "id": "54a17549-6f15-4b77-b062-5a43b42270dc",
   "metadata": {
    "tags": []
   },
   "outputs": [
    {
     "name": "stdout",
     "output_type": "stream",
     "text": [
      "Found 25000 files belonging to 2 classes.\n",
      "Using 5000 files for validation.\n"
     ]
    }
   ],
   "source": [
    "# validation_split 및 subset 인수를 사용할 때 검증 및 훈련 분할이 겹치지 않도록 \n",
    "# 임의 시드를 지정하거나 shuffle=False를 전달하는 것을 잊지 마세요.\n",
    "raw_val_ds = tf.keras.utils.text_dataset_from_directory('aclImdb/train',\n",
    "                                                        batch_size=batch_size, \n",
    "                                                        validation_split=0.2, \n",
    "                                                        subset='validation', \n",
    "                                                        seed=seed)"
   ]
  },
  {
   "cell_type": "code",
   "execution_count": 15,
   "id": "3a85c515-aaab-4f09-a74e-bf8efe279389",
   "metadata": {
    "tags": []
   },
   "outputs": [
    {
     "name": "stdout",
     "output_type": "stream",
     "text": [
      "Found 25000 files belonging to 2 classes.\n"
     ]
    }
   ],
   "source": [
    "raw_test_ds = tf.keras.utils.text_dataset_from_directory('aclImdb/test',\n",
    "                                                        batch_size=batch_size)"
   ]
  },
  {
   "cell_type": "code",
   "execution_count": 16,
   "id": "c8764afb-45fc-4f50-895e-b4128b3bbb9e",
   "metadata": {
    "tags": []
   },
   "outputs": [
    {
     "name": "stdout",
     "output_type": "stream",
     "text": [
      "Review b'\"Pandemonium\" is a horror movie spoof that comes off more stupid than funny. Believe me when I tell you, I love comedies. Especially comedy spoofs. \"Airplane\", \"The Naked Gun\" trilogy, \"Blazing Saddles\", \"High Anxiety\", and \"Spaceballs\" are some of my favorite comedies that spoof a particular genre. \"Pandemonium\" is not up there with those films. Most of the scenes in this movie had me sitting there in stunned silence because the movie wasn\\'t all that funny. There are a few laughs in the film, but when you watch a comedy, you expect to laugh a lot more than a few times and that\\'s all this film has going for it. Geez, \"Scream\" had more laughs than this film and that was more of a horror film. How bizarre is that?<br /><br />*1/2 (out of four)'\n",
      "Lable 0\n",
      "Review b\"David Mamet is a very interesting and a very un-equal director. His first movie 'House of Games' was the one I liked best, and it set a series of films with characters whose perspective of life changes as they get into complicated situations, and so does the perspective of the viewer.<br /><br />So is 'Homicide' which from the title tries to set the mind of the viewer to the usual crime drama. The principal characters are two cops, one Jewish and one Irish who deal with a racially charged area. The murder of an old Jewish shop owner who proves to be an ancient veteran of the Israeli Independence war triggers the Jewish identity in the mind and heart of the Jewish detective.<br /><br />This is were the flaws of the film are the more obvious. The process of awakening is theatrical and hard to believe, the group of Jewish militants is operatic, and the way the detective eventually walks to the final violent confrontation is pathetic. The end of the film itself is Mamet-like smart, but disappoints from a human emotional perspective.<br /><br />Joe Mantegna and William Macy give strong performances, but the flaws of the story are too evident to be easily compensated.\"\n",
      "Lable 0\n",
      "Review b'Great documentary about the lives of NY firefighters during the worst terrorist attack of all time.. That reason alone is why this should be a must see collectors item.. What shocked me was not only the attacks, but the\"High Fat Diet\" and physical appearance of some of these firefighters. I think a lot of Doctors would agree with me that,in the physical shape they were in, some of these firefighters would NOT of made it to the 79th floor carrying over 60 lbs of gear. Having said that i now have a greater respect for firefighters and i realize becoming a firefighter is a life altering job. The French have a history of making great documentary\\'s and that is what this is, a Great Documentary.....'\n",
      "Lable 1\n"
     ]
    }
   ],
   "source": [
    "for text_batch, label_batch in raw_train_ds.take(1):\n",
    "    for i in range(3):\n",
    "        print(\"Review\", text_batch.numpy()[i])\n",
    "        print(\"Lable\", label_batch.numpy()[i])"
   ]
  },
  {
   "cell_type": "code",
   "execution_count": 17,
   "id": "0025ddc4-83f8-444c-8ea5-f524b6e9c5e4",
   "metadata": {
    "tags": []
   },
   "outputs": [
    {
     "name": "stdout",
     "output_type": "stream",
     "text": [
      "Label 0 corresponds to neg\n",
      "Label 1 corresponds to pos\n"
     ]
    }
   ],
   "source": [
    "print(\"Label 0 corresponds to\", raw_train_ds.class_names[0])\n",
    "print(\"Label 1 corresponds to\", raw_train_ds.class_names[1])"
   ]
  },
  {
   "cell_type": "markdown",
   "id": "47957154-28e9-4012-a611-b49a94f06980",
   "metadata": {},
   "source": [
    "## 훈련을 위한 데이터세트 준비하기"
   ]
  },
  {
   "cell_type": "markdown",
   "id": "af40ad5e-4ea3-4131-9f28-ec919200889c",
   "metadata": {},
   "source": [
    "`tf.keras.layers.TextVectorization` 레이어를 사용하여 데이터를 표준화, 토큰화 및 벡터화\n",
    "- 표준화 : 일반적으로 구두점이나 HTML 요소를 제거하여 데이터세트를 단순화하기 위해 텍스트를 전처리하는 것\n",
    "     - `<br />`와 같은 다양한 HTML 태그는 TextVectorization 레이어의 기본 표준화 도구로 제거되지 않음\n",
    "     - 텍스트를 소문자로 변환하고 기본적으로 구두점을 제거하지만 HTML은 제거하지 않음\n",
    "- 토큰화 : 문자열을 여러 토큰으로 분할하는 것(예: 화이트스페이스에서 분할하여 문장을 개별 단어로 분할)\n",
    "- 벡터화 : 토큰을 숫자로 변환하여 신경망에 공급될 수 있도록 하는 것"
   ]
  },
  {
   "cell_type": "code",
   "execution_count": 18,
   "id": "84a1f441-137e-49b4-b8f9-37a15ad479e3",
   "metadata": {
    "tags": []
   },
   "outputs": [],
   "source": [
    "def custom_standardization(input_data):\n",
    "    lowercase = tf.strings.lower(input_data)\n",
    "    stripped_html = tf.strings.regex_replace(lowercase, '<br />', '')\n",
    "    return tf.strings.regex_replace(stripped_html, '[%s]' % re.escape(string.punctuation), '')"
   ]
  },
  {
   "cell_type": "code",
   "execution_count": 19,
   "id": "f13b0cf6-60da-494a-a49c-af70c67d0842",
   "metadata": {
    "tags": []
   },
   "outputs": [
    {
     "name": "stdout",
     "output_type": "stream",
     "text": [
      "!\"#$%&'()*+,-./:;<=>?@[\\]^_`{|}~\n"
     ]
    }
   ],
   "source": [
    "print(string.punctuation)"
   ]
  },
  {
   "cell_type": "markdown",
   "id": "7af56963-8ed6-47ba-b694-926867b5c87b",
   "metadata": {},
   "source": [
    "- 각 토큰에 대해 고유한 정수 인덱스를 생성하도록 output_mode를 int로 설정\n",
    "    - 각 토큰이 정수로 대체되며 `.get_vocabulary()` 를 통하여 해당토큰 조회 가능\n",
    "- 기본 분할 함수와 위에서 정의한 사용자 지정 표준화 함수를 사용\n",
    "- 명시적 최대값인 sequence_length와 같이 모델에 대한 몇 가지 상수를 정의하여 레이어가 시퀀스를 정확히 sequence_length 값으로 채우거나 자르도록 설정"
   ]
  },
  {
   "cell_type": "code",
   "execution_count": 20,
   "id": "b240f6e9-0832-4b9c-b656-953473dc13b4",
   "metadata": {
    "tags": []
   },
   "outputs": [],
   "source": [
    "max_features = 10000\n",
    "sequence_length = 250"
   ]
  },
  {
   "cell_type": "code",
   "execution_count": 21,
   "id": "98c00094-4704-4c2c-80d9-229440a72f16",
   "metadata": {
    "tags": []
   },
   "outputs": [],
   "source": [
    "vectorize_layer = tf.keras.layers.TextVectorization(\n",
    "    standardize=custom_standardization, \n",
    "    max_tokens=max_features, \n",
    "    output_mode='int', \n",
    "    output_sequence_length=sequence_length\n",
    ")"
   ]
  },
  {
   "cell_type": "code",
   "execution_count": 22,
   "id": "ab5a84fc-7c79-46ca-8afe-8f6f850da8b8",
   "metadata": {
    "tags": []
   },
   "outputs": [],
   "source": [
    "train_text = raw_test_ds.map(lambda x, y : x)"
   ]
  },
  {
   "cell_type": "code",
   "execution_count": 23,
   "id": "cd2c409e-1b03-4e24-a9d0-c7d95391c28f",
   "metadata": {
    "tags": []
   },
   "outputs": [],
   "source": [
    "vectorize_layer.adapt(data=train_text)"
   ]
  },
  {
   "cell_type": "code",
   "execution_count": 24,
   "id": "38b5cd4d-66ff-483f-9ee7-d2f6fd02a280",
   "metadata": {
    "tags": []
   },
   "outputs": [],
   "source": [
    "def vectorize_text(text, label):\n",
    "    text = tf.expand_dims(text, -1)\n",
    "    return vectorize_layer(text), label"
   ]
  },
  {
   "cell_type": "code",
   "execution_count": 25,
   "id": "16d5376c-728b-4a7a-bd64-6eab895a83eb",
   "metadata": {
    "tags": []
   },
   "outputs": [],
   "source": [
    "text_batch, label_batch = next(iter(raw_train_ds))"
   ]
  },
  {
   "cell_type": "code",
   "execution_count": 26,
   "id": "f5bc8560-891b-4ca0-bddd-96292720ed14",
   "metadata": {
    "tags": []
   },
   "outputs": [],
   "source": [
    "first_review, first_label = text_batch[0], label_batch[0]"
   ]
  },
  {
   "cell_type": "code",
   "execution_count": 27,
   "id": "83c9b035-3166-45e9-90b7-785130246031",
   "metadata": {
    "tags": []
   },
   "outputs": [
    {
     "name": "stdout",
     "output_type": "stream",
     "text": [
      "Review tf.Tensor(b\"Having seen most of Ringo Lam's films, I can say that this is his best film to date, and the most unusual. It's a ancient china period piece cranked full of kick-ass martial arts, where the location of an underground lair full of traps and dungeons plays as big a part as any of the characters. The action is fantastic, the story is tense and entertaining, and the set design is truely memorable. Sadly, Burning Paradise has not been made available on DVD and vhs is next-to-impossible to get your mitts on, even if you near the second biggest china-town in North America (like I do). If you can find it, don't pass it up.\", shape=(), dtype=string)\n"
     ]
    }
   ],
   "source": [
    "print(\"Review\", first_review)"
   ]
  },
  {
   "cell_type": "code",
   "execution_count": 28,
   "id": "cf2c718f-0d85-4bca-89ad-782f870fe8b2",
   "metadata": {
    "tags": []
   },
   "outputs": [
    {
     "name": "stdout",
     "output_type": "stream",
     "text": [
      "Label pos\n"
     ]
    }
   ],
   "source": [
    "print(\"Label\", raw_train_ds.class_names[first_label])"
   ]
  },
  {
   "cell_type": "code",
   "execution_count": 29,
   "id": "37da0e95-82cf-40c7-8df4-af7e218f4b9b",
   "metadata": {
    "tags": []
   },
   "outputs": [
    {
     "name": "stdout",
     "output_type": "stream",
     "text": [
      "Vectorized Reveiw (<tf.Tensor: shape=(1, 250), dtype=int64, numpy=\n",
      "array([[ 265,  105,   86,    5,    1,    1,   94,   10,   66,  126,   12,\n",
      "          11,    7,   24,  117,   19,    6, 1333,    4,    2,   86, 1786,\n",
      "          29,    3, 2228, 2445,  833,  409,    1,  367,    5,    1, 1781,\n",
      "        1665,  114,    2, 1329,    5,   33, 2471,    1,  367,    5, 9856,\n",
      "           4,    1,  289,   14,  189,    3,  171,   14,   98,    5,    2,\n",
      "          97,    2,  224,    7,  824,    2,   68,    7, 2851,    4,  418,\n",
      "           4,    2,  290, 1805,    7,    1,  864, 1163, 3700, 5668,   43,\n",
      "          22,   74,   96, 1155,   20,  253,    4, 1696,    7,    1,    6,\n",
      "          75,  120,    1,   20,   56,   44,   21,  760,    2,  345, 1080,\n",
      "           1,    8, 1944,  941,   37,   10,   79,   44,   21,   66,  157,\n",
      "           9,   88, 1302,    9,   53,    0,    0,    0,    0,    0,    0,\n",
      "           0,    0,    0,    0,    0,    0,    0,    0,    0,    0,    0,\n",
      "           0,    0,    0,    0,    0,    0,    0,    0,    0,    0,    0,\n",
      "           0,    0,    0,    0,    0,    0,    0,    0,    0,    0,    0,\n",
      "           0,    0,    0,    0,    0,    0,    0,    0,    0,    0,    0,\n",
      "           0,    0,    0,    0,    0,    0,    0,    0,    0,    0,    0,\n",
      "           0,    0,    0,    0,    0,    0,    0,    0,    0,    0,    0,\n",
      "           0,    0,    0,    0,    0,    0,    0,    0,    0,    0,    0,\n",
      "           0,    0,    0,    0,    0,    0,    0,    0,    0,    0,    0,\n",
      "           0,    0,    0,    0,    0,    0,    0,    0,    0,    0,    0,\n",
      "           0,    0,    0,    0,    0,    0,    0,    0,    0,    0,    0,\n",
      "           0,    0,    0,    0,    0,    0,    0,    0,    0,    0,    0,\n",
      "           0,    0,    0,    0,    0,    0,    0,    0]])>, <tf.Tensor: shape=(), dtype=int32, numpy=1>)\n"
     ]
    }
   ],
   "source": [
    "print(\"Vectorized Reveiw\", vectorize_text(first_review, first_label))"
   ]
  },
  {
   "cell_type": "code",
   "execution_count": 30,
   "id": "f3740a04-ab77-4ea4-a046-608498e10916",
   "metadata": {
    "tags": []
   },
   "outputs": [
    {
     "name": "stdout",
     "output_type": "stream",
     "text": [
      "117 -->  best\n",
      "3700 -->  burning\n",
      "5668 -->  paradise\n"
     ]
    }
   ],
   "source": [
    "print(\"117 --> \", vectorize_layer.get_vocabulary()[117])\n",
    "print(\"3700 --> \", vectorize_layer.get_vocabulary()[3700])\n",
    "print(\"5668 --> \", vectorize_layer.get_vocabulary()[5668])"
   ]
  },
  {
   "cell_type": "code",
   "execution_count": 31,
   "id": "d91aca43-9b55-4a4e-b3eb-05ac76e720bf",
   "metadata": {
    "tags": []
   },
   "outputs": [],
   "source": [
    "train_ds = raw_train_ds.map(vectorize_text)\n",
    "val_ds = raw_val_ds.map(vectorize_text)\n",
    "test_ds = raw_test_ds.map(vectorize_text)"
   ]
  },
  {
   "cell_type": "markdown",
   "id": "f62412f1-4c23-4686-89a3-df83b1d23795",
   "metadata": {},
   "source": [
    "## 성능을 높이도록 데이터세트 구성하기"
   ]
  },
  {
   "cell_type": "markdown",
   "id": "20f08c42-3c9a-4714-899e-642f2bf24614",
   "metadata": {},
   "source": [
    "- `.cache()` :  데이터가 디스크에서 로드된 후 메모리에 데이터를 보관\n",
    "    - 모델을 훈련하는 동안 데이터세트로 인해 병목 현상이 발생하지 않음\n",
    "    - 데이터세트가 너무 커서 메모리에 맞지 않는 경우, 이 메서드를 사용하여 성능이 뛰어난 온 디스크 캐시를 생성 필요\n",
    "    - 많은 작은 파일보다 읽기가 더 효율적\n",
    "- `.prefetch()` :  훈련 중에 데이터 전처리 및 모델 실행과 겹침"
   ]
  },
  {
   "cell_type": "code",
   "execution_count": 32,
   "id": "89e0991c-29c3-45f2-ab29-d75b1f688494",
   "metadata": {
    "tags": []
   },
   "outputs": [],
   "source": [
    "AUTOTUNE = tf.data.AUTOTUNE"
   ]
  },
  {
   "cell_type": "code",
   "execution_count": 33,
   "id": "7f2b34dc-d949-4993-98f2-f709954e84d6",
   "metadata": {
    "tags": []
   },
   "outputs": [],
   "source": [
    "train_ds = train_ds.cache().prefetch(buffer_size=AUTOTUNE)\n",
    "val_ds = val_ds.cache().prefetch(buffer_size=AUTOTUNE)\n",
    "test_ds = test_ds.cache().prefetch(buffer_size=AUTOTUNE)"
   ]
  },
  {
   "cell_type": "markdown",
   "id": "7481fd0d-b3fa-4fe2-88b9-6a5308e4160e",
   "metadata": {},
   "source": [
    "## 모델 생성"
   ]
  },
  {
   "cell_type": "code",
   "execution_count": 34,
   "id": "e62927e3-4d82-4114-992a-c917d4e11edc",
   "metadata": {
    "tags": []
   },
   "outputs": [],
   "source": [
    "embedding_dims = 16"
   ]
  },
  {
   "cell_type": "markdown",
   "id": "db12c7c8-04d3-4ab5-a1c7-de1e2ff04a20",
   "metadata": {},
   "source": [
    "분류기(classifier)\n",
    "- Layer 1:  Embedding\n",
    "    - 정수로 인코딩된 리뷰를 입력 받고 각 단어 인덱스에 해당하는 임베딩 벡터를 찾음\n",
    "    - 이러한 벡터는 모델이 훈련되면서 학습됨\n",
    "    - 이들 벡터는 출력 배열에 차원을 추가 : 최종 차원은 (batch, sequence, embedding)\n",
    "- Layer 2: GlobalAveragePooling1D\n",
    "    - sequence 차원에 대해 평균을 계산하여 각 샘플에 대해 고정된 길이의 출력 벡터를 반환\n",
    "    - 이는 길이가 다른 입력을 다루는 가장 간단한 방법\n",
    "    - 이 고정 길이의 출력 벡터는 16개의 은닉 유닛을 가진 완전 연결(fully-connected) 층(Dense)을 거침\n",
    "- Layer 3: 1개의 출력 노드(node)를 가진 완전 연결 층\n",
    "    - sigmoid 활성화 함수를 사용하여 0과 1 사이의 실수를 출력\n",
    "    - 이 값은 확률 또는 신뢰도를 나타냄"
   ]
  },
  {
   "cell_type": "code",
   "execution_count": 35,
   "id": "35abe26a-6dda-438b-84d1-b1fe8da3eaa1",
   "metadata": {
    "tags": []
   },
   "outputs": [],
   "source": [
    "model = tf.keras.Sequential([\n",
    "    layers.Embedding(max_features + 1, embedding_dims),\n",
    "    layers.Dropout(0.2),\n",
    "    layers.GlobalAveragePooling1D(),\n",
    "    layers.Dropout(0.2),\n",
    "    layers.Dense(1)\n",
    "])"
   ]
  },
  {
   "cell_type": "code",
   "execution_count": 36,
   "id": "b8f66146-388c-4358-8778-9dfdd1f5aeef",
   "metadata": {
    "tags": []
   },
   "outputs": [
    {
     "name": "stdout",
     "output_type": "stream",
     "text": [
      "Model: \"sequential\"\n",
      "_________________________________________________________________\n",
      " Layer (type)                Output Shape              Param #   \n",
      "=================================================================\n",
      " embedding (Embedding)       (None, None, 16)          160016    \n",
      "                                                                 \n",
      " dropout (Dropout)           (None, None, 16)          0         \n",
      "                                                                 \n",
      " global_average_pooling1d (G  (None, 16)               0         \n",
      " lobalAveragePooling1D)                                          \n",
      "                                                                 \n",
      " dropout_1 (Dropout)         (None, 16)                0         \n",
      "                                                                 \n",
      " dense (Dense)               (None, 1)                 17        \n",
      "                                                                 \n",
      "=================================================================\n",
      "Total params: 160,033\n",
      "Trainable params: 160,033\n",
      "Non-trainable params: 0\n",
      "_________________________________________________________________\n"
     ]
    }
   ],
   "source": [
    "model.summary()"
   ]
  },
  {
   "cell_type": "markdown",
   "id": "af3d93df-b206-4708-934c-3dbf9b7707b7",
   "metadata": {},
   "source": [
    "- 손실 함수(loss function) : 이진분류 문제이므로 sigmoid 사용\n",
    "- 옵티마이저(optimizer): binary_crossentropy"
   ]
  },
  {
   "cell_type": "markdown",
   "id": "2b248878-abc2-4d34-8474-475ffe5214a4",
   "metadata": {},
   "source": [
    "## 손실함수와 옵티마이저"
   ]
  },
  {
   "cell_type": "code",
   "execution_count": 37,
   "id": "9ad2018c-be99-467c-bb60-a8c7b97b96c9",
   "metadata": {
    "tags": []
   },
   "outputs": [],
   "source": [
    "model.compile(optimizer='adam', \n",
    "              loss=tf.keras.losses.BinaryCrossentropy(from_logits=True), \n",
    "              metrics=tf.keras.metrics.BinaryAccuracy(threshold=0.0))"
   ]
  },
  {
   "cell_type": "markdown",
   "id": "fb9e6971-1b46-4f84-b9ab-9db6a0730b7f",
   "metadata": {},
   "source": [
    "## 모델 훈련하기"
   ]
  },
  {
   "cell_type": "code",
   "execution_count": 38,
   "id": "0d7fe101-c9de-4113-ae67-0bb2b6daad36",
   "metadata": {
    "tags": []
   },
   "outputs": [
    {
     "name": "stdout",
     "output_type": "stream",
     "text": [
      "Epoch 1/10\n",
      "625/625 [==============================] - 5s 6ms/step - loss: 0.6661 - binary_accuracy: 0.6836 - val_loss: 0.6205 - val_binary_accuracy: 0.7620\n",
      "Epoch 2/10\n",
      "625/625 [==============================] - 3s 4ms/step - loss: 0.5572 - binary_accuracy: 0.7908 - val_loss: 0.5086 - val_binary_accuracy: 0.8158\n",
      "Epoch 3/10\n",
      "625/625 [==============================] - 3s 4ms/step - loss: 0.4553 - binary_accuracy: 0.8378 - val_loss: 0.4310 - val_binary_accuracy: 0.8428\n",
      "Epoch 4/10\n",
      "625/625 [==============================] - 3s 4ms/step - loss: 0.3894 - binary_accuracy: 0.8611 - val_loss: 0.3842 - val_binary_accuracy: 0.8584\n",
      "Epoch 5/10\n",
      "625/625 [==============================] - 3s 4ms/step - loss: 0.3463 - binary_accuracy: 0.8749 - val_loss: 0.3550 - val_binary_accuracy: 0.8642\n",
      "Epoch 6/10\n",
      "625/625 [==============================] - 3s 4ms/step - loss: 0.3154 - binary_accuracy: 0.8859 - val_loss: 0.3356 - val_binary_accuracy: 0.8668\n",
      "Epoch 7/10\n",
      "625/625 [==============================] - 3s 4ms/step - loss: 0.2922 - binary_accuracy: 0.8935 - val_loss: 0.3222 - val_binary_accuracy: 0.8696\n",
      "Epoch 8/10\n",
      "625/625 [==============================] - 3s 4ms/step - loss: 0.2734 - binary_accuracy: 0.9003 - val_loss: 0.3125 - val_binary_accuracy: 0.8722\n",
      "Epoch 9/10\n",
      "625/625 [==============================] - 3s 4ms/step - loss: 0.2570 - binary_accuracy: 0.9054 - val_loss: 0.3058 - val_binary_accuracy: 0.8766\n",
      "Epoch 10/10\n",
      "625/625 [==============================] - 3s 4ms/step - loss: 0.2437 - binary_accuracy: 0.9107 - val_loss: 0.3011 - val_binary_accuracy: 0.8766\n"
     ]
    }
   ],
   "source": [
    "epochs = 10\n",
    "history = model.fit(train_ds, validation_data=val_ds, epochs=epochs)"
   ]
  },
  {
   "cell_type": "markdown",
   "id": "34bd8f4e-ad9c-472a-a5a0-f14929b30a9e",
   "metadata": {},
   "source": [
    "## 모델 평가하기"
   ]
  },
  {
   "cell_type": "code",
   "execution_count": 39,
   "id": "4b6f687f-6066-4103-9aab-202a0487efc6",
   "metadata": {
    "tags": []
   },
   "outputs": [
    {
     "name": "stdout",
     "output_type": "stream",
     "text": [
      "782/782 [==============================] - 2s 2ms/step - loss: 0.3130 - binary_accuracy: 0.8724\n"
     ]
    }
   ],
   "source": [
    "loss, accuracy = model.evaluate(test_ds)"
   ]
  },
  {
   "cell_type": "code",
   "execution_count": 40,
   "id": "6f104c2b-d4f6-4f3b-841c-b09b4c70c32c",
   "metadata": {
    "tags": []
   },
   "outputs": [
    {
     "name": "stdout",
     "output_type": "stream",
     "text": [
      "Loss: 0.3129774332046509\n",
      "Accuracy: 0.8723999857902527\n"
     ]
    }
   ],
   "source": [
    "print(f\"Loss: {loss}\")\n",
    "print(f'Accuracy: {accuracy}')"
   ]
  },
  {
   "cell_type": "markdown",
   "id": "bc0a3dfd-633f-42eb-865d-30877807d593",
   "metadata": {},
   "source": [
    "## 정확도와 손실 그래프 그리기"
   ]
  },
  {
   "cell_type": "code",
   "execution_count": 41,
   "id": "40c7af87-7879-44a9-aefb-b7eba89985f1",
   "metadata": {
    "tags": []
   },
   "outputs": [
    {
     "name": "stdout",
     "output_type": "stream",
     "text": [
      "dict_keys(['loss', 'binary_accuracy', 'val_loss', 'val_binary_accuracy'])\n"
     ]
    }
   ],
   "source": [
    "history_dict = history.history\n",
    "print(history_dict.keys())"
   ]
  },
  {
   "cell_type": "code",
   "execution_count": 42,
   "id": "588d8de8-eb95-4bff-ad2b-4b29bffc6f56",
   "metadata": {
    "tags": []
   },
   "outputs": [],
   "source": [
    "train_accuracy = history.history['binary_accuracy']\n",
    "validation_accuracy = history.history['val_binary_accuracy']\n",
    "train_loss = history.history['loss']\n",
    "validation_loss = history.history['val_loss']"
   ]
  },
  {
   "cell_type": "code",
   "execution_count": 43,
   "id": "3ba9c055-b123-45bc-aa3f-607912626767",
   "metadata": {
    "tags": []
   },
   "outputs": [],
   "source": [
    "epochs = range(1, len(train_accuracy) + 1)"
   ]
  },
  {
   "cell_type": "code",
   "execution_count": 44,
   "id": "232ac964-97c2-4b36-8d07-77c5a0c44e4d",
   "metadata": {
    "tags": []
   },
   "outputs": [
    {
     "data": {
      "image/png": "[encoded data removed]",
      "text/plain": [
       "<Figure size 1500x900 with 2 Axes>"
      ]
     },
     "metadata": {},
     "output_type": "display_data"
    }
   ],
   "source": [
    "plt.figure(figsize=(15,9))\n",
    "\n",
    "plt.subplot(1,2,1)\n",
    "plt.plot(epochs, train_loss, 'bo', label='Training Loss')\n",
    "plt.plot(epochs, validation_loss, 'b', label = 'Validataion Loss')\n",
    "plt.title('Training and Validataion Loss')\n",
    "plt.xlabel('Epochs')\n",
    "plt.ylabel('Loss')\n",
    "plt.legend()\n",
    "\n",
    "plt.subplot(1,2,2)\n",
    "plt.plot(epochs, train_accuracy, 'bo', label='Training Accuracy')\n",
    "plt.plot(epochs, validation_accuracy, 'b', label = 'Validataion Accuracy')\n",
    "plt.title('Training and Validataion Accuracy')\n",
    "plt.xlabel('Epochs')\n",
    "plt.ylabel('Accuracy')\n",
    "plt.legend()\n",
    "\n",
    "plt.tight_layout()\n",
    "plt.show()"
   ]
  },
  {
   "cell_type": "markdown",
   "id": "15c03963-918d-4ef3-ad69-104e68aa0678",
   "metadata": {},
   "source": [
    "# 모델 내보내기"
   ]
  },
  {
   "cell_type": "markdown",
   "id": "3b3dc68b-98df-4903-9555-92daeb7d5076",
   "metadata": {},
   "source": [
    "TextVectorization 레이어를 적용할 위치를 선택할 때 \n",
    "- 레이어를 모델 외부에서 사용하면 GPU에서 훈련할 때 비동기 CPU 처리 및 데이터 버퍼링을 수행 가능\n",
    "- 따라서 GPU에서 모델을 훈련하는 경우 모델을 개발하는 동안 최상의 성능을 얻기 위해 이 옵션을 사용하고 \n",
    "- 배포 준비가 완료되면 모델 내부에 TextVectorization 레이어를 포함하도록 전환"
   ]
  },
  {
   "cell_type": "code",
   "execution_count": 45,
   "id": "4b798ba3-df15-42dd-a38b-66198dd0cbe8",
   "metadata": {
    "tags": []
   },
   "outputs": [],
   "source": [
    "export_model = tf.keras.models.Sequential([\n",
    "    vectorize_layer, \n",
    "    model, \n",
    "    layers.Activation(activation='sigmoid')])"
   ]
  },
  {
   "cell_type": "code",
   "execution_count": 46,
   "id": "442c01ce-6ae9-4777-b07b-f0bee136d5ac",
   "metadata": {
    "tags": []
   },
   "outputs": [
    {
     "name": "stdout",
     "output_type": "stream",
     "text": [
      "Model: \"sequential_1\"\n",
      "_________________________________________________________________\n",
      " Layer (type)                Output Shape              Param #   \n",
      "=================================================================\n",
      " text_vectorization (TextVec  (None, 250)              0         \n",
      " torization)                                                     \n",
      "                                                                 \n",
      " sequential (Sequential)     (None, 1)                 160033    \n",
      "                                                                 \n",
      " activation (Activation)     (None, 1)                 0         \n",
      "                                                                 \n",
      "=================================================================\n",
      "Total params: 160,033\n",
      "Trainable params: 160,033\n",
      "Non-trainable params: 0\n",
      "_________________________________________________________________\n"
     ]
    }
   ],
   "source": [
    "export_model.summary()"
   ]
  },
  {
   "cell_type": "code",
   "execution_count": 47,
   "id": "1d5aaafb-f143-49d8-9100-4a9e268bfd46",
   "metadata": {
    "tags": []
   },
   "outputs": [],
   "source": [
    "export_model.compile(loss=tf.keras.losses.BinaryCrossentropy(from_logits=False), \n",
    "                    optimizer='adam',\n",
    "                    metrics=['accuracy'])"
   ]
  },
  {
   "cell_type": "code",
   "execution_count": 48,
   "id": "2a191280-c1ac-40e0-97d8-f31f622d3601",
   "metadata": {
    "tags": []
   },
   "outputs": [
    {
     "name": "stdout",
     "output_type": "stream",
     "text": [
      "782/782 [==============================] - 3s 4ms/step - loss: 0.3130 - accuracy: 0.8724\n"
     ]
    }
   ],
   "source": [
    "loss, accuracy = export_model.evaluate(raw_test_ds)"
   ]
  },
  {
   "cell_type": "code",
   "execution_count": 49,
   "id": "cd7bdab3-23d4-4e04-8a7a-4bdc5dfa3b34",
   "metadata": {
    "tags": []
   },
   "outputs": [
    {
     "name": "stdout",
     "output_type": "stream",
     "text": [
      "Loss: 0.31297725439071655\n",
      "Accuracy: 0.8723999857902527\n"
     ]
    }
   ],
   "source": [
    "print(f\"Loss: {loss}\")\n",
    "print(f'Accuracy: {accuracy}')"
   ]
  },
  {
   "cell_type": "markdown",
   "id": "13e02750-9b1d-4000-8efb-6cfa620fd89d",
   "metadata": {},
   "source": [
    "## 새로운 데이터로 추론하기"
   ]
  },
  {
   "cell_type": "code",
   "execution_count": 50,
   "id": "61317c6f-4748-4dc1-a95f-a9d47ae690f7",
   "metadata": {
    "tags": []
   },
   "outputs": [],
   "source": [
    "examples = [\n",
    "  \"The movie was great!\",\n",
    "  \"The movie was okay.\",\n",
    "  \"The movie was terrible...\"\n",
    "]"
   ]
  },
  {
   "cell_type": "code",
   "execution_count": 51,
   "id": "8f63df96-459a-4473-a77f-05d483c4e0d6",
   "metadata": {
    "tags": []
   },
   "outputs": [
    {
     "name": "stdout",
     "output_type": "stream",
     "text": [
      "1/1 [==============================] - 0s 151ms/step\n"
     ]
    },
    {
     "data": {
      "text/plain": [
       "array([[0.630956  ],\n",
       "       [0.45192653],\n",
       "       [0.37612152]], dtype=float32)"
      ]
     },
     "execution_count": 51,
     "metadata": {},
     "output_type": "execute_result"
    }
   ],
   "source": [
    "export_model.predict(examples)"
   ]
  },
  {
   "cell_type": "markdown",
   "id": "ccd34441-47c7-4460-940f-52e9cbc3d07e",
   "metadata": {},
   "source": [
    "# 연습 - Stack Overflow 질문에 대한 다중 클래스 분류"
   ]
  },
  {
   "cell_type": "code",
   "execution_count": null,
   "id": "6f6fc6a6-963a-43fc-be5d-d53c532c87b6",
   "metadata": {},
   "outputs": [],
   "source": []
  }
 ],
 "metadata": {
  "kernelspec": {
   "display_name": "Python 3 (ipykernel)",
   "language": "python",
   "name": "python3"
  },
  "language_info": {
   "codemirror_mode": {
    "name": "ipython",
    "version": 3
   },
   "file_extension": ".py",
   "mimetype": "text/x-python",
   "name": "python",
   "nbconvert_exporter": "python",
   "pygments_lexer": "ipython3",
   "version": "3.8.16"
  },
  "toc-autonumbering": true
 },
 "nbformat": 4,
 "nbformat_minor": 5
}
