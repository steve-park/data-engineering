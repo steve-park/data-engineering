{
 "cells": [
  {
   "cell_type": "markdown",
   "metadata": {
    "ExecuteTime": {
     "end_time": "2022-02-24T16:29:49.217384Z",
     "start_time": "2022-02-24T16:29:49.214822Z"
    }
   },
   "source": [
    "# 사이파이 튜토리얼"
   ]
  },
  {
   "cell_type": "markdown",
   "metadata": {},
   "source": [
    "[![Hits](https://hits.seeyoufarm.com/api/count/incr/badge.svg?url=https%3A%2F%2Fwww.datamanim.com%2Fdataset%2F97_scipy%2Fscipy.html&count_bg=%238534B0&title_bg=%23555555&icon=&icon_color=%23E7E7E7&title=hits&edge_flat=false)](https://hits.seeyoufarm.com)"
   ]
  },
  {
   "cell_type": "markdown",
   "metadata": {},
   "source": [
    "```{admonition} 주요 모듈 \n",
    "**6가지 대표 하위 메소드중 통계분석을 위한 stats를 위주로 학습**        \n",
    "```"
   ]
  },
  {
   "cell_type": "code",
   "execution_count": 126,
   "metadata": {
    "collapsed": true,
    "jupyter": {
     "outputs_hidden": true
    },
    "tags": [
     "remove-input"
    ]
   },
   "outputs": [
    {
     "name": "stdout",
     "output_type": "stream",
     "text": [
      "scipy\n",
      "│\n",
      "├── 01 integrate 수치적분, 미분방정식\n",
      "│  \n",
      "├── 02 linalg (선형대수, 매트릭스 분해)\n",
      "│ \n",
      "├── 03 optimize (방정식 해 구하는 알고리즘, 함수 최적화)\n",
      "│ \n",
      "├── 04 signal (신호 관련)\n",
      "│\n",
      "├── 05 sparse (희소 행렬, 희소 선형 시스템)\n",
      "│\n",
      "└── 06 stats (통계 분석) \n",
      "\n"
     ]
    }
   ],
   "source": [
    "scipy='''scipy\n",
    "│\n",
    "├── 01 integrate 수치적분, 미분방정식\n",
    "│  \n",
    "├── 02 linalg (선형대수, 매트릭스 분해)\n",
    "│ \n",
    "├── 03 optimize (방정식 해 구하는 알고리즘, 함수 최적화)\n",
    "│ \n",
    "├── 04 signal (신호 관련)\n",
    "│\n",
    "├── 05 sparse (희소 행렬, 희소 선형 시스템)\n",
    "│\n",
    "└── 06 stats (통계 분석) \n",
    "'''\n",
    "print(scipy)"
   ]
  },
  {
   "cell_type": "markdown",
   "metadata": {
    "ExecuteTime": {
     "end_time": "2022-02-24T16:31:54.507712Z",
     "start_time": "2022-02-24T16:31:54.504344Z"
    }
   },
   "source": [
    "```{admonition} stats 하위 모듈\n",
    "**252개**      \n",
    "```"
   ]
  },
  {
   "cell_type": "code",
   "execution_count": 127,
   "metadata": {
    "ExecuteTime": {
     "end_time": "2022-02-24T16:32:08.007248Z",
     "start_time": "2022-02-24T16:32:07.719994Z"
    },
    "tags": []
   },
   "outputs": [
    {
     "name": "stdout",
     "output_type": "stream",
     "text": [
      "282\n"
     ]
    }
   ],
   "source": [
    "from scipy import stats\n",
    "print(len([x for x in dir(stats) if x[0] !='_'  ]))"
   ]
  },
  {
   "cell_type": "markdown",
   "metadata": {},
   "source": [
    "## stats 주요 모듈"
   ]
  },
  {
   "cell_type": "code",
   "execution_count": 128,
   "metadata": {
    "ExecuteTime": {
     "end_time": "2022-02-28T11:15:59.374453Z",
     "start_time": "2022-02-28T11:15:59.370851Z"
    },
    "collapsed": true,
    "jupyter": {
     "outputs_hidden": true
    },
    "tags": [
     "remove-input"
    ]
   },
   "outputs": [
    {
     "name": "stdout",
     "output_type": "stream",
     "text": [
      "scipy.stats\n",
      "│\n",
      "├── 01 T-test\n",
      "│   │\n",
      "│   ├── ttest_1samp         (단일표본 t검정)\n",
      "│   ├── ttest_ind           (독립표본 t검정)\n",
      "│   └── ttest_rel           (대응표본 t검정) \n",
      "│ \n",
      "├── 02 비모수 검정\n",
      "│   │\n",
      "│   ├── mannwhitneyu        (맨-휘트니 U 검정 - 중위수 , 윌콕슨 순위합 검정과 동일하다 볼 수 있음)\n",
      "│   ├── ranksums            (윌콕슨 순위합 검정 - 중위수)\n",
      "│   └── wilcoxon            (윌콕슨 부호 순위합 검정)\n",
      "│ \n",
      "├── 03 정규정 검정\n",
      "│   │\n",
      "│   ├── anderson            (Anderson-Darling , 데이터수가 상대적으로 많을 때)\n",
      "│   ├── kstest              (Kolmogorov-Smirnov , 데이터수가 상대적으로 많을 때)\n",
      "│   ├── mstats.normaltest\n",
      "│   └── shapiro             (shapiro, 노말분포 가장 엄격하게 검정, 데이터수가 상대적으로 적을때)\n",
      "│   \n",
      "├── 04 등분산 검정\n",
      "│   │\n",
      "│   ├── bartlett\n",
      "│   ├── fligner\n",
      "│   └── levene\n",
      "│\n",
      "├── 05 카이제곱검정\n",
      "│   │\n",
      "│   ├── chi2_contingency     (카이제곱독립검정, 독립성 검정)\n",
      "│   ├── chisquare            (카이제곱검정 , 적합도 검정)\n",
      "│   └── fisher_exact         (피셔 정확 검정 - 빈도수가 5개 이하 셀의 수가 전체 셀의 20%이상일 경우 사용 )\n",
      "│\n",
      "└── 06 ANOVA (일원분산분석)\n",
      "    │\n",
      "    └── f_oneway (분산 분석은  statmodels 모듈이 더 좋음! )\n",
      "\n"
     ]
    }
   ],
   "source": [
    "stats='''scipy.stats\n",
    "│\n",
    "├── 01 T-test\n",
    "│   │\n",
    "│   ├── ttest_1samp         (단일표본 t검정)\n",
    "│   ├── ttest_ind           (독립표본 t검정)\n",
    "│   └── ttest_rel           (대응표본 t검정) \n",
    "│ \n",
    "├── 02 비모수 검정\n",
    "│   │\n",
    "│   ├── mannwhitneyu        (맨-휘트니 U 검정 - 중위수 , 윌콕슨 순위합 검정과 동일하다 볼 수 있음)\n",
    "│   ├── ranksums            (윌콕슨 순위합 검정 - 중위수)\n",
    "│   └── wilcoxon            (윌콕슨 부호 순위합 검정)\n",
    "│ \n",
    "├── 03 정규정 검정\n",
    "│   │\n",
    "│   ├── anderson            (Anderson-Darling , 데이터수가 상대적으로 많을 때)\n",
    "│   ├── kstest              (Kolmogorov-Smirnov , 데이터수가 상대적으로 많을 때)\n",
    "│   ├── mstats.normaltest\n",
    "│   └── shapiro             (shapiro, 노말분포 가장 엄격하게 검정, 데이터수가 상대적으로 적을때)\n",
    "│   \n",
    "├── 04 등분산 검정\n",
    "│   │\n",
    "│   ├── bartlett\n",
    "│   ├── fligner\n",
    "│   └── levene\n",
    "│\n",
    "├── 05 카이제곱검정\n",
    "│   │\n",
    "│   ├── chi2_contingency     (카이제곱독립검정, 독립성 검정)\n",
    "│   ├── chisquare            (카이제곱검정 , 적합도 검정)\n",
    "│   └── fisher_exact         (피셔 정확 검정 - 빈도수가 5개 이하 셀의 수가 전체 셀의 20%이상일 경우 사용 )\n",
    "│\n",
    "└── 06 ANOVA (일원분산분석)\n",
    "    │\n",
    "    └── f_oneway (분산 분석은  statmodels 모듈이 더 좋음! )\n",
    "'''\n",
    "print(stats)"
   ]
  },
  {
   "cell_type": "code",
   "execution_count": 6,
   "metadata": {
    "tags": [
     "remove-input"
    ]
   },
   "outputs": [
    {
     "name": "stdout",
     "output_type": "stream",
     "text": [
      "dir , help를 이용해서 파라미터들 찾아가며 사용하기\n"
     ]
    }
   ],
   "source": [
    "print(\"dir , help를 이용해서 파라미터들 찾아가며 사용하기\")"
   ]
  },
  {
   "cell_type": "markdown",
   "metadata": {
    "ExecuteTime": {
     "end_time": "2022-02-24T16:32:25.330668Z",
     "start_time": "2022-02-24T16:32:25.326843Z"
    }
   },
   "source": [
    "**예제 데이터는 랜덤 생성하였습니다**"
   ]
  },
  {
   "cell_type": "markdown",
   "metadata": {},
   "source": [
    "## 정규성 검정"
   ]
  },
  {
   "cell_type": "code",
   "execution_count": 129,
   "metadata": {
    "tags": []
   },
   "outputs": [],
   "source": [
    "from scipy.stats import shapiro, kstest, normaltest, anderson"
   ]
  },
  {
   "cell_type": "markdown",
   "metadata": {},
   "source": [
    "```{admonition} Question \n",
    "**다음 데이터의 정규성을 검증하라**\n",
    "```"
   ]
  },
  {
   "cell_type": "code",
   "execution_count": 130,
   "metadata": {
    "tags": []
   },
   "outputs": [],
   "source": [
    "# !wget https://raw.githubusercontent.com/Datamanim/datarepo/main/scipy/normal1.csv"
   ]
  },
  {
   "cell_type": "code",
   "execution_count": 131,
   "metadata": {
    "tags": []
   },
   "outputs": [],
   "source": [
    "import pandas as pd\n",
    "import matplotlib.pyplot as plt\n",
    "import seaborn as sns"
   ]
  },
  {
   "cell_type": "code",
   "execution_count": 132,
   "metadata": {
    "ExecuteTime": {
     "end_time": "2022-02-24T16:32:38.445229Z",
     "start_time": "2022-02-24T16:32:37.596564Z"
    },
    "tags": []
   },
   "outputs": [
    {
     "data": {
      "image/png": "[encoded data removed]",
      "text/plain": [
       "<Figure size 640x480 with 1 Axes>"
      ]
     },
     "metadata": {},
     "output_type": "display_data"
    }
   ],
   "source": [
    "df = pd.read_csv('https://raw.githubusercontent.com/Datamanim/datarepo/main/scipy/normal1.csv')\n",
    "plt.hist(df['data'])\n",
    "plt.show()"
   ]
  },
  {
   "cell_type": "code",
   "execution_count": 133,
   "metadata": {
    "tags": [
     "hide-cell"
    ]
   },
   "outputs": [
    {
     "name": "stdout",
     "output_type": "stream",
     "text": [
      "[shapiro-wilk test] statistics= 0.9981, p-value= 0.3485 -> H0채택\n"
     ]
    }
   ],
   "source": [
    "# 샤피로 검정시 p-value가 0.34이므로 유의수준 5%에서 귀무가설(\"데이터는 정규성을 가진다\")을 기각할 수 없다\n",
    "s, pvalue = shapiro(df['data'])\n",
    "print(f'[shapiro-wilk test] statistics= {s:.4f}, p-value= {pvalue:.4f} -> {\"H0기각\" if pvalue < 0.05 else \"H0채택\"}')"
   ]
  },
  {
   "cell_type": "markdown",
   "metadata": {},
   "source": [
    "```{admonition} Question \n",
    "**다음 데이터의 정규성을 검증하라**\n",
    "```"
   ]
  },
  {
   "cell_type": "code",
   "execution_count": 134,
   "metadata": {
    "tags": []
   },
   "outputs": [],
   "source": [
    "# !wget https://raw.githubusercontent.com/Datamanim/datarepo/main/scipy/normal3.csv"
   ]
  },
  {
   "cell_type": "code",
   "execution_count": 135,
   "metadata": {
    "ExecuteTime": {
     "end_time": "2022-02-24T16:33:00.366126Z",
     "start_time": "2022-02-24T16:32:59.985304Z"
    },
    "tags": []
   },
   "outputs": [
    {
     "data": {
      "image/png": "[encoded data removed]",
      "text/plain": [
       "<Figure size 640x480 with 1 Axes>"
      ]
     },
     "metadata": {},
     "output_type": "display_data"
    }
   ],
   "source": [
    "df = pd.read_csv('https://raw.githubusercontent.com/Datamanim/datarepo/main/scipy/normal3.csv')\n",
    "plt.hist(df['data'])\n",
    "plt.show()"
   ]
  },
  {
   "cell_type": "code",
   "execution_count": 136,
   "metadata": {
    "tags": [
     "hide-cell"
    ]
   },
   "outputs": [
    {
     "name": "stdout",
     "output_type": "stream",
     "text": [
      "[shapiro-wilk test] statistics= 0.9579, p-value= 0.0000 -> H0기각\n"
     ]
    }
   ],
   "source": [
    "s, pvalue = shapiro(df['data'])\n",
    "print(f'[shapiro-wilk test] statistics= {s:.4f}, p-value= {pvalue:.4f} -> {\"H0기각\" if pvalue < 0.05 else \"H0채택\"}')\n",
    "# 샤피로 검정시 p-value가 2.3e-16 이므로 유의수준 5%에서 귀무가설인 \"데이터는 정규성을 가진다\"를 기각하고 대립가설을 채택한다\n",
    "# 데이터는 정규성을 가지지 않는다"
   ]
  },
  {
   "cell_type": "markdown",
   "metadata": {},
   "source": [
    "```{admonition} Question \n",
    "**위의 데이터를 log변환 한 후에 정규성을 가지는지 확인하라**\n",
    "```"
   ]
  },
  {
   "cell_type": "code",
   "execution_count": 137,
   "metadata": {
    "tags": []
   },
   "outputs": [],
   "source": [
    "# !wget https://raw.githubusercontent.com/Datamanim/datarepo/main/scipy/normal3.csv"
   ]
  },
  {
   "cell_type": "code",
   "execution_count": 138,
   "metadata": {
    "ExecuteTime": {
     "end_time": "2022-02-24T18:09:19.690987Z",
     "start_time": "2022-02-24T18:09:19.541837Z"
    },
    "tags": []
   },
   "outputs": [
    {
     "data": {
      "image/png": "[encoded data removed]",
      "text/plain": [
       "<Figure size 640x480 with 1 Axes>"
      ]
     },
     "metadata": {},
     "output_type": "display_data"
    }
   ],
   "source": [
    "import numpy as np\n",
    "\n",
    "df = pd.read_csv('https://raw.githubusercontent.com/Datamanim/datarepo/main/scipy/normal3.csv')\n",
    "data = np.log1p(df['data'])\n",
    "\n",
    "plt.hist(data)\n",
    "plt.show()"
   ]
  },
  {
   "cell_type": "code",
   "execution_count": 139,
   "metadata": {
    "tags": [
     "hide-cell"
    ]
   },
   "outputs": [
    {
     "name": "stdout",
     "output_type": "stream",
     "text": [
      "[shapiro-wilk test] statistics= 0.9977, p-value= 0.1754 -> H0채택\n"
     ]
    }
   ],
   "source": [
    "s, pvalue = shapiro(data)\n",
    "print(f'[shapiro-wilk test] statistics= {s:.4f}, p-value= {pvalue:.4f} -> {\"H0기각\" if pvalue < 0.05 else \"H0채택\"}')\n",
    "# 샤피로 검정시 p-value가 0.17이므로 유의수준 5%에서 귀무가설(\"데이터는 정규성을 가진다\")을 기각할 수 없다"
   ]
  },
  {
   "cell_type": "markdown",
   "metadata": {},
   "source": [
    "```{admonition} Question \n",
    "**다음 데이터의 정규성을 검증하라**\n",
    "```"
   ]
  },
  {
   "cell_type": "code",
   "execution_count": 140,
   "metadata": {
    "tags": []
   },
   "outputs": [],
   "source": [
    "# !wget https://raw.githubusercontent.com/Datamanim/datarepo/main/scipy/normal6.csv"
   ]
  },
  {
   "cell_type": "code",
   "execution_count": 141,
   "metadata": {
    "ExecuteTime": {
     "end_time": "2022-02-24T17:08:50.520703Z",
     "start_time": "2022-02-24T17:08:49.660722Z"
    },
    "tags": []
   },
   "outputs": [
    {
     "data": {
      "image/png": "[encoded data removed]",
      "text/plain": [
       "<Figure size 640x480 with 1 Axes>"
      ]
     },
     "metadata": {},
     "output_type": "display_data"
    }
   ],
   "source": [
    "df = pd.read_csv('https://raw.githubusercontent.com/Datamanim/datarepo/main/scipy/normal6.csv')\n",
    "data = np.log1p(df['data'])\n",
    "\n",
    "plt.hist(data)\n",
    "plt.show()"
   ]
  },
  {
   "cell_type": "code",
   "execution_count": 143,
   "metadata": {
    "tags": [
     "hide-cell"
    ]
   },
   "outputs": [
    {
     "name": "stdout",
     "output_type": "stream",
     "text": [
      "[shapiro-wilk test] statistics= 0.9995, p-value= 0.1507 -> H0채택\n",
      "[kstest] statistics= 1.0000, p-value= 0.0000 -> H0기각\n",
      "[normaltest] statistics= 0.0967, p-value= 0.9528 -> H0채택\n",
      "[anderson darling test] result=  0.8266993530414766 [0.576 0.656 0.786 0.917 1.091] [15.  10.   5.   2.5  1. ]\n"
     ]
    }
   ],
   "source": [
    "# 샤피로 검정시 p-value가 0.15 이므로 유의수준 5%에서 귀무가설(\"데이터는 정규성을 가진다\")을 기각할 수 없다.\n",
    "# 하지만 경고 메세지에서도 보이듯이 5000개 초과의 샘플에 대해서는 샤피로 검정은 정확하지 않을 수 있다.\n",
    "\n",
    "# anderson 검정 결과의 의미는 아래 링크에서 확인 가능\n",
    "# https://docs.scipy.org/doc/scipy/reference/generated/scipy.stats.anderson.html \n",
    "# significance_level는 유의 확률값을 나타내며 critical_values는 각 유의 확률값의 기준점이 된다.\n",
    "# 5%유의 수준에서 검정을 진행하려면 statistic값인 0.82이 significance_level 이 5.에 위치한 인덱스를 \n",
    "# critical_values값에서 비교하면 된다. 그 값은 0.786이므로 이보다 큰 0.82을 가지므로 \n",
    "# 귀무가설을 기각하고 대립가설을 채택한다 -> 데이터는 정규성을 가지지 않는다고 판단한다. (p-value와 기각기준 부등호 개념이 반대)\n",
    "s, pvalue = shapiro(df['data'])\n",
    "print(f'[shapiro-wilk test] statistics= {s:.4f}, p-value= {pvalue:.4f} -> {\"H0기각\" if pvalue < 0.05 else \"H0채택\"}')\n",
    "\n",
    "s, pvalue = kstest(df['data'], 'norm')\n",
    "print(f'[kstest] statistics= {s:.4f}, p-value= {pvalue:.4f} -> {\"H0기각\" if pvalue < 0.05 else \"H0채택\"}')\n",
    "\n",
    "s, pvalue = normaltest(df['data'])\n",
    "print(f'[normaltest] statistics= {s:.4f}, p-value= {pvalue:.4f} -> {\"H0기각\" if pvalue < 0.05 else \"H0채택\"}')\n",
    "\n",
    "r = anderson(df['data'])\n",
    "print('[anderson darling test] result= ', *r)"
   ]
  },
  {
   "cell_type": "markdown",
   "metadata": {},
   "source": [
    "## 단일 표본 t검정 (one-sample)"
   ]
  },
  {
   "cell_type": "code",
   "execution_count": 144,
   "metadata": {
    "tags": []
   },
   "outputs": [],
   "source": [
    "from scipy.stats import ttest_1samp, ttest_rel, ttest_ind\n",
    "from scipy.stats import t, sem\n",
    "from scipy.stats import chisquare, chi2_contingency, fisher_exact, wilcoxon, ranksums, mannwhitneyu, kruskal"
   ]
  },
  {
   "cell_type": "markdown",
   "metadata": {
    "ExecuteTime": {
     "end_time": "2022-02-24T16:33:39.234836Z",
     "start_time": "2022-02-24T16:33:39.231184Z"
    }
   },
   "source": [
    "```{admonition} Question \n",
    "**100명의 키 정보가 들어 있는 데이터가 있다.데이터가 정규성을 만족하는지 확인하라.        \n",
    "그리고 평균키는 165라 판단할수 있는지 귀무가설과 대립가설을 설정한 후 유의수준 5%로 검정하라.**\n",
    "```"
   ]
  },
  {
   "cell_type": "code",
   "execution_count": 145,
   "metadata": {
    "tags": []
   },
   "outputs": [],
   "source": [
    "# !wget https://raw.githubusercontent.com/Datamanim/datarepo/main/scipy/height1.csv"
   ]
  },
  {
   "cell_type": "code",
   "execution_count": 16,
   "metadata": {
    "ExecuteTime": {
     "end_time": "2022-02-24T16:33:45.581210Z",
     "start_time": "2022-02-24T16:33:45.200603Z"
    }
   },
   "outputs": [],
   "source": [
    "# import pandas as pd \n",
    "# df = pd.read_csv('https://raw.githubusercontent.com/Datamanim/datarepo/main/scipy/height1.csv')"
   ]
  },
  {
   "cell_type": "markdown",
   "metadata": {},
   "source": [
    "![img](https://github.com/Datamanim/datarepo/blob/main/scipy/s1.png?raw=true)"
   ]
  },
  {
   "cell_type": "markdown",
   "metadata": {
    "tags": [
     "hide-cell"
    ]
   },
   "source": [
    "- 샤피로 정규성 검정 p-value :  0.455832302570343 이므로\n",
    "- 귀무가설을 기각하지 않는다. 정규성을 만족하므로 단일표본 검정으로 확인한다.\n",
    "- 단일표본 t-test의 귀무가설은 \"100명 키의 평균은 165이다.\" 이며 대립가설은 \"100명 키의 평균은 165가 아니다.\" 이다\n",
    "- 검정 결과 pvalue는 0.0018367171548080209로 결과는 귀무가설을 기각하고 대립가설을 채택한다."
   ]
  },
  {
   "cell_type": "code",
   "execution_count": 146,
   "metadata": {
    "tags": []
   },
   "outputs": [
    {
     "name": "stdout",
     "output_type": "stream",
     "text": [
      "[shapiro-wilk test] statistics= 0.9873, p-value= 0.4558 -> H0채택\n",
      "[1-Sample t-test] t-value= 0.9873, p-value= 0.0018 -> H0기각\n",
      "95% Confidence Interval: 165.9974 ~ 169.2483\n"
     ]
    }
   ],
   "source": [
    "df = pd.read_csv('https://raw.githubusercontent.com/Datamanim/datarepo/main/scipy/height1.csv')\n",
    "\n",
    "s, pvalue = shapiro(df['height'])\n",
    "print(f'[shapiro-wilk test] statistics= {s:.4f}, p-value= {pvalue:.4f} -> {\"H0기각\" if pvalue < 0.05 else \"H0채택\"}')\n",
    "\n",
    "tvalue, pvalue = ttest_1samp(df['height'], 165, alternative='two-sided')\n",
    "print(f'[1-Sample t-test] t-value= {s:.4f}, p-value= {pvalue:.4f} -> {\"H0기각\" if pvalue < 0.05 else \"H0채택\"}')\n",
    "\n",
    "ci_s, ci_e = t.interval(confidence=0.95, loc=df['height'].mean(), scale=sem(df['height']), df=len(df['height'])-1)\n",
    "print(f'95% Confidence Interval: {ci_s:,.4f} ~ {ci_e:,.4f}')"
   ]
  },
  {
   "cell_type": "markdown",
   "metadata": {
    "ExecuteTime": {
     "end_time": "2022-02-24T16:33:58.492036Z",
     "start_time": "2022-02-24T16:33:58.488608Z"
    }
   },
   "source": [
    "```{admonition} Question \n",
    "**100명의 키 정보가 들어 있는 데이터가 있다.데이터가 정규성을 만족하는지 확인하라.        \n",
    "그리고 평균키는 165라 판단할수 있는지 귀무가설과 대립가설을 설정한 후 유의수준 5%로 검정하라.**\n",
    "```"
   ]
  },
  {
   "cell_type": "code",
   "execution_count": 147,
   "metadata": {
    "tags": []
   },
   "outputs": [],
   "source": [
    "# !wget https://raw.githubusercontent.com/Datamanim/datarepo/main/scipy/height2.csv"
   ]
  },
  {
   "cell_type": "code",
   "execution_count": 19,
   "metadata": {
    "ExecuteTime": {
     "end_time": "2022-02-24T16:34:03.499780Z",
     "start_time": "2022-02-24T16:34:03.163144Z"
    }
   },
   "outputs": [],
   "source": [
    "# import pandas as pd \n",
    "# df = pd.read_csv('https://raw.githubusercontent.com/Datamanim/datarepo/main/scipy/height2.csv')"
   ]
  },
  {
   "cell_type": "markdown",
   "metadata": {},
   "source": [
    "![img](https://github.com/Datamanim/datarepo/blob/main/scipy/s2.png?raw=true)"
   ]
  },
  {
   "cell_type": "markdown",
   "metadata": {
    "tags": [
     "hide-cell"
    ]
   },
   "source": [
    "- 샤피로 정규성 검정 p-value :  0.013552471995353699 이므로\n",
    "- 귀무가설을 기각한다. 정규성을 만족하지 않으므로 비모수 검정을 진행한다. 윌콕슨 순위 부호 검정을 진행한다.\n",
    "- 윌콕슨 순위 부호 검정의 귀무가설은 \"100명 키의 평균은 165이다.\" 이며 대립가설은 \"100명 키의 평균은 165가 아니다.\" 이다\n",
    "- 검정 결과 pvalue는 0.04880534424649582로 결과는 귀무가설을 기각하고 대립가설을 채택한다."
   ]
  },
  {
   "cell_type": "code",
   "execution_count": 148,
   "metadata": {
    "tags": []
   },
   "outputs": [
    {
     "name": "stdout",
     "output_type": "stream",
     "text": [
      "[shapiro-wilk test] statistics= 0.9672, p-value= 0.0136 -> H0기각\n",
      "[Wilconxon Signed Rank Test] s= 1952.0000, p-value= 0.0488 -> H0기각\n",
      "95% Confidence Interval: 164.8797 ~ 168.1512\n"
     ]
    }
   ],
   "source": [
    "df = pd.read_csv('https://raw.githubusercontent.com/Datamanim/datarepo/main/scipy/height2.csv')\n",
    "\n",
    "s, pvalue = shapiro(df['height'])\n",
    "print(f'[shapiro-wilk test] statistics= {s:.4f}, p-value= {pvalue:.4f} -> {\"H0기각\" if pvalue < 0.05 else \"H0채택\"}')\n",
    "\n",
    "s, pvalue = wilcoxon(df['height'], [165] * len(df), alternative='two-sided')\n",
    "print(f'[Wilconxon Signed Rank Test] s= {s:.4f}, p-value= {pvalue:.4f} -> {\"H0기각\" if pvalue < 0.05 else \"H0채택\"}')\n",
    "\n",
    "ci_s, ci_e = t.interval(confidence=0.95, loc=df['height'].mean(), scale=sem(df['height']), df=len(df['height'])-1)\n",
    "print(f'95% Confidence Interval: {ci_s:,.4f} ~ {ci_e:,.4f}')"
   ]
  },
  {
   "cell_type": "markdown",
   "metadata": {},
   "source": [
    "## 등분산 검정"
   ]
  },
  {
   "cell_type": "code",
   "execution_count": 149,
   "metadata": {
    "tags": []
   },
   "outputs": [],
   "source": [
    "from scipy.stats import bartlett, levene, fligner"
   ]
  },
  {
   "cell_type": "markdown",
   "metadata": {
    "ExecuteTime": {
     "end_time": "2022-02-24T16:33:58.492036Z",
     "start_time": "2022-02-24T16:33:58.488608Z"
    }
   },
   "source": [
    "```{admonition} Question \n",
    "**두개 학급의 시험성적에 대한 데이터이다 그룹간 등분산 검정을 시행하라**\n",
    "```"
   ]
  },
  {
   "cell_type": "code",
   "execution_count": 150,
   "metadata": {
    "tags": []
   },
   "outputs": [],
   "source": [
    "# !wget https://raw.githubusercontent.com/Datamanim/datarepo/main/scipy/scipy2.csv"
   ]
  },
  {
   "cell_type": "code",
   "execution_count": 151,
   "metadata": {
    "ExecuteTime": {
     "end_time": "2022-02-25T18:13:22.885977Z",
     "start_time": "2022-02-25T18:13:17.455804Z"
    },
    "tags": []
   },
   "outputs": [
    {
     "data": {
      "text/html": [
       "<div>\n",
       "<style scoped>\n",
       "    .dataframe tbody tr th:only-of-type {\n",
       "        vertical-align: middle;\n",
       "    }\n",
       "\n",
       "    .dataframe tbody tr th {\n",
       "        vertical-align: top;\n",
       "    }\n",
       "\n",
       "    .dataframe thead th {\n",
       "        text-align: right;\n",
       "    }\n",
       "</style>\n",
       "<table border=\"1\" class=\"dataframe\">\n",
       "  <thead>\n",
       "    <tr style=\"text-align: right;\">\n",
       "      <th></th>\n",
       "      <th>class</th>\n",
       "      <th>score</th>\n",
       "    </tr>\n",
       "  </thead>\n",
       "  <tbody>\n",
       "    <tr>\n",
       "      <th>0</th>\n",
       "      <td>A</td>\n",
       "      <td>84</td>\n",
       "    </tr>\n",
       "    <tr>\n",
       "      <th>1</th>\n",
       "      <td>A</td>\n",
       "      <td>59</td>\n",
       "    </tr>\n",
       "    <tr>\n",
       "      <th>2</th>\n",
       "      <td>A</td>\n",
       "      <td>49</td>\n",
       "    </tr>\n",
       "    <tr>\n",
       "      <th>3</th>\n",
       "      <td>A</td>\n",
       "      <td>57</td>\n",
       "    </tr>\n",
       "    <tr>\n",
       "      <th>4</th>\n",
       "      <td>A</td>\n",
       "      <td>82</td>\n",
       "    </tr>\n",
       "  </tbody>\n",
       "</table>\n",
       "</div>"
      ],
      "text/plain": [
       "  class  score\n",
       "0     A     84\n",
       "1     A     59\n",
       "2     A     49\n",
       "3     A     57\n",
       "4     A     82"
      ]
     },
     "execution_count": 151,
     "metadata": {},
     "output_type": "execute_result"
    }
   ],
   "source": [
    "import pandas as pd \n",
    "df = pd.read_csv('https://raw.githubusercontent.com/Datamanim/datarepo/main/scipy/scipy2.csv')\n",
    "df.head()"
   ]
  },
  {
   "cell_type": "code",
   "execution_count": 152,
   "metadata": {
    "ExecuteTime": {
     "end_time": "2022-02-25T18:13:23.246115Z",
     "start_time": "2022-02-25T18:13:22.888149Z"
    },
    "tags": [
     "hide-cell"
    ]
   },
   "outputs": [
    {
     "name": "stdout",
     "output_type": "stream",
     "text": [
      "[Bartlett Test] statistics= 0.2604, p-value= 0.6099 -> H0채택\n",
      "[Levene Test] statistics= 0.3145, p-value= 0.5752 -> H0채택\n",
      "[Fligner Test] statistics= 0.8272, p-value= 0.3631 -> H0채택\n"
     ]
    }
   ],
   "source": [
    "group = df.groupby('class')['score']\n",
    "group_data = [x for _, x in group]\n",
    "\n",
    "# 등분산검정의 방법은 3가지가 있다. pvalue값은 5% 유의수준이라면 0.05보다 작은 경우 \"각 그룹은 등분산이다\"라는 귀무가설을 기각한다\n",
    "s, pvalue = bartlett(*group_data)\n",
    "print(f'[Bartlett Test] statistics= {s:.4f}, p-value= {pvalue:.4f} -> {\"H0기각\" if pvalue < 0.05 else \"H0채택\"}')\n",
    "\n",
    "s, pvalue = levene(*group_data, center='median')\n",
    "print(f'[Levene Test] statistics= {s:.4f}, p-value= {pvalue:.4f} -> {\"H0기각\" if pvalue < 0.05 else \"H0채택\"}')\n",
    "\n",
    "s, pvalue = fligner(*group_data, center='mean')\n",
    "print(f'[Fligner Test] statistics= {s:.4f}, p-value= {pvalue:.4f} -> {\"H0기각\" if pvalue < 0.05 else \"H0채택\"}')\n",
    "# 아래의 결과를 보면 모두 0.05보다 크므로 귀무가설을 기각할수 없음을 알 수 있다."
   ]
  },
  {
   "cell_type": "markdown",
   "metadata": {
    "ExecuteTime": {
     "end_time": "2022-02-24T16:33:58.492036Z",
     "start_time": "2022-02-24T16:33:58.488608Z"
    }
   },
   "source": [
    "```{admonition} Question \n",
    "**두개 학급의 시험성적에 대한 데이터이다 그룹간 등분산 검정을 시행하라**\n",
    "```"
   ]
  },
  {
   "cell_type": "code",
   "execution_count": 153,
   "metadata": {
    "tags": []
   },
   "outputs": [],
   "source": [
    "# !wget https://raw.githubusercontent.com/Datamanim/datarepo/main/scipy/scipy3.csv"
   ]
  },
  {
   "cell_type": "code",
   "execution_count": 154,
   "metadata": {
    "ExecuteTime": {
     "end_time": "2022-02-25T18:13:23.551811Z",
     "start_time": "2022-02-25T18:13:23.248163Z"
    },
    "tags": []
   },
   "outputs": [
    {
     "data": {
      "text/html": [
       "<div>\n",
       "<style scoped>\n",
       "    .dataframe tbody tr th:only-of-type {\n",
       "        vertical-align: middle;\n",
       "    }\n",
       "\n",
       "    .dataframe tbody tr th {\n",
       "        vertical-align: top;\n",
       "    }\n",
       "\n",
       "    .dataframe thead th {\n",
       "        text-align: right;\n",
       "    }\n",
       "</style>\n",
       "<table border=\"1\" class=\"dataframe\">\n",
       "  <thead>\n",
       "    <tr style=\"text-align: right;\">\n",
       "      <th></th>\n",
       "      <th>class</th>\n",
       "      <th>score</th>\n",
       "    </tr>\n",
       "  </thead>\n",
       "  <tbody>\n",
       "    <tr>\n",
       "      <th>0</th>\n",
       "      <td>A</td>\n",
       "      <td>32</td>\n",
       "    </tr>\n",
       "    <tr>\n",
       "      <th>1</th>\n",
       "      <td>A</td>\n",
       "      <td>69</td>\n",
       "    </tr>\n",
       "    <tr>\n",
       "      <th>2</th>\n",
       "      <td>A</td>\n",
       "      <td>68</td>\n",
       "    </tr>\n",
       "    <tr>\n",
       "      <th>3</th>\n",
       "      <td>A</td>\n",
       "      <td>60</td>\n",
       "    </tr>\n",
       "    <tr>\n",
       "      <th>4</th>\n",
       "      <td>A</td>\n",
       "      <td>78</td>\n",
       "    </tr>\n",
       "  </tbody>\n",
       "</table>\n",
       "</div>"
      ],
      "text/plain": [
       "  class  score\n",
       "0     A     32\n",
       "1     A     69\n",
       "2     A     68\n",
       "3     A     60\n",
       "4     A     78"
      ]
     },
     "execution_count": 154,
     "metadata": {},
     "output_type": "execute_result"
    }
   ],
   "source": [
    "import pandas as pd \n",
    "df = pd.read_csv('https://raw.githubusercontent.com/Datamanim/datarepo/main/scipy/scipy3.csv')\n",
    "df.head()"
   ]
  },
  {
   "cell_type": "code",
   "execution_count": 155,
   "metadata": {
    "ExecuteTime": {
     "end_time": "2022-02-25T18:13:23.566376Z",
     "start_time": "2022-02-25T18:13:23.553934Z"
    },
    "tags": [
     "hide-cell"
    ]
   },
   "outputs": [
    {
     "name": "stdout",
     "output_type": "stream",
     "text": [
      "[Bartlett Test] statistics= 1.5117, p-value= 0.2189 -> H0채택\n",
      "[Levene Test] statistics= 4.3071, p-value= 0.0385 -> H0기각\n",
      "[Fligner Test] statistics= 4.9472, p-value= 0.0261 -> H0기각\n"
     ]
    }
   ],
   "source": [
    "group = df.groupby('class')['score']\n",
    "group_data = [x for _, x in group]\n",
    "\n",
    "\n",
    "s, pvalue = bartlett(*group_data)\n",
    "print(f'[Bartlett Test] statistics= {s:.4f}, p-value= {pvalue:.4f} -> {\"H0기각\" if pvalue < 0.05 else \"H0채택\"}')\n",
    "\n",
    "s, pvalue = levene(*group_data, center='median')\n",
    "print(f'[Levene Test] statistics= {s:.4f}, p-value= {pvalue:.4f} -> {\"H0기각\" if pvalue < 0.05 else \"H0채택\"}')\n",
    "\n",
    "s, pvalue = fligner(*group_data, center='mean')\n",
    "print(f'[Fligner Test] statistics= {s:.4f}, p-value= {pvalue:.4f} -> {\"H0기각\" if pvalue < 0.05 else \"H0채택\"}')\n",
    "\n",
    "# bartlett 검정 결과 pvalue는 0.05보다 크고\n",
    "# fligner, levene 검정 결과 pvalue는 0.05보다 작다. \n",
    "# fligner, levene는 bartlett보다 좀더 robust하다는 특징이 있다.\n",
    "# 어떤 검정의 결과를 사용해야하는지는 정해지지 않았지만 상황에 따라 특징들을 서술할 수 있다면 문제 없지 않을까..."
   ]
  },
  {
   "cell_type": "markdown",
   "metadata": {
    "ExecuteTime": {
     "end_time": "2022-02-24T16:33:58.492036Z",
     "start_time": "2022-02-24T16:33:58.488608Z"
    }
   },
   "source": [
    "```{admonition} Question \n",
    "**두개 학급의 시험성적에 대한 데이터이다 그룹간 등분산 검정을 시행하라**\n",
    "```"
   ]
  },
  {
   "cell_type": "code",
   "execution_count": 156,
   "metadata": {
    "tags": []
   },
   "outputs": [],
   "source": [
    "# !wget https://raw.githubusercontent.com/Datamanim/datarepo/main/scipy/scipy6.csv"
   ]
  },
  {
   "cell_type": "code",
   "execution_count": 157,
   "metadata": {
    "ExecuteTime": {
     "end_time": "2022-02-25T18:13:24.000615Z",
     "start_time": "2022-02-25T18:13:23.635322Z"
    },
    "tags": []
   },
   "outputs": [
    {
     "data": {
      "text/html": [
       "<div>\n",
       "<style scoped>\n",
       "    .dataframe tbody tr th:only-of-type {\n",
       "        vertical-align: middle;\n",
       "    }\n",
       "\n",
       "    .dataframe tbody tr th {\n",
       "        vertical-align: top;\n",
       "    }\n",
       "\n",
       "    .dataframe thead th {\n",
       "        text-align: right;\n",
       "    }\n",
       "</style>\n",
       "<table border=\"1\" class=\"dataframe\">\n",
       "  <thead>\n",
       "    <tr style=\"text-align: right;\">\n",
       "      <th></th>\n",
       "      <th>A</th>\n",
       "      <th>B</th>\n",
       "    </tr>\n",
       "  </thead>\n",
       "  <tbody>\n",
       "    <tr>\n",
       "      <th>0</th>\n",
       "      <td>44</td>\n",
       "      <td>36</td>\n",
       "    </tr>\n",
       "    <tr>\n",
       "      <th>1</th>\n",
       "      <td>61</td>\n",
       "      <td>92</td>\n",
       "    </tr>\n",
       "    <tr>\n",
       "      <th>2</th>\n",
       "      <td>76</td>\n",
       "      <td>41</td>\n",
       "    </tr>\n",
       "    <tr>\n",
       "      <th>3</th>\n",
       "      <td>64</td>\n",
       "      <td>45</td>\n",
       "    </tr>\n",
       "    <tr>\n",
       "      <th>4</th>\n",
       "      <td>65</td>\n",
       "      <td>35</td>\n",
       "    </tr>\n",
       "  </tbody>\n",
       "</table>\n",
       "</div>"
      ],
      "text/plain": [
       "    A   B\n",
       "0  44  36\n",
       "1  61  92\n",
       "2  76  41\n",
       "3  64  45\n",
       "4  65  35"
      ]
     },
     "execution_count": 157,
     "metadata": {},
     "output_type": "execute_result"
    }
   ],
   "source": [
    "import pandas as pd \n",
    "df = pd.read_csv('https://raw.githubusercontent.com/Datamanim/datarepo/main/scipy/scipy6.csv')\n",
    "df.head()"
   ]
  },
  {
   "cell_type": "code",
   "execution_count": 158,
   "metadata": {
    "ExecuteTime": {
     "end_time": "2022-02-25T18:13:24.241122Z",
     "start_time": "2022-02-25T18:13:24.234101Z"
    },
    "tags": [
     "hide-cell"
    ]
   },
   "outputs": [
    {
     "name": "stdout",
     "output_type": "stream",
     "text": [
      "[300.19106145251396, 378.3318125387958]\n",
      "[Bartlett Test] statistics= 2.3832, p-value= 0.1226 -> H0채택\n",
      "[Levene Test] statistics= 5.1479, p-value= 0.0239 -> H0기각\n",
      "[Fligner Test] statistics= 6.0842, p-value= 0.0136 -> H0기각\n"
     ]
    }
   ],
   "source": [
    "group_data = [df['A'], df['B']]\n",
    "print([x.var() for x in group_data])\n",
    "\n",
    "s, pvalue = bartlett(*group_data)\n",
    "print(f'[Bartlett Test] statistics= {s:.4f}, p-value= {pvalue:.4f} -> {\"H0기각\" if pvalue < 0.05 else \"H0채택\"}')\n",
    "\n",
    "s, pvalue = levene(*group_data, center='median')\n",
    "print(f'[Levene Test] statistics= {s:.4f}, p-value= {pvalue:.4f} -> {\"H0기각\" if pvalue < 0.05 else \"H0채택\"}')\n",
    "\n",
    "s, pvalue = fligner(*group_data, center='mean')\n",
    "print(f'[Fligner Test] statistics= {s:.4f}, p-value= {pvalue:.4f} -> {\"H0기각\" if pvalue < 0.05 else \"H0채택\"}')\n",
    "# BartlettResult -> 등분산이다  // FlignerResult , LeveneResult -> 등분산이 아니다"
   ]
  },
  {
   "cell_type": "markdown",
   "metadata": {
    "ExecuteTime": {
     "end_time": "2022-02-24T16:33:58.492036Z",
     "start_time": "2022-02-24T16:33:58.488608Z"
    }
   },
   "source": [
    "```{admonition} Question \n",
    "**두개 학급의 시험성적에 대한 데이터이다 그룹간 등분산 검정을 시행하라**\n",
    "```"
   ]
  },
  {
   "cell_type": "code",
   "execution_count": 159,
   "metadata": {
    "tags": []
   },
   "outputs": [],
   "source": [
    "# !wget https://raw.githubusercontent.com/Datamanim/datarepo/main/scipy/scipy5.csv"
   ]
  },
  {
   "cell_type": "code",
   "execution_count": 160,
   "metadata": {
    "ExecuteTime": {
     "end_time": "2022-02-25T18:40:13.076265Z",
     "start_time": "2022-02-25T18:40:13.040407Z"
    },
    "tags": []
   },
   "outputs": [
    {
     "data": {
      "text/html": [
       "<div>\n",
       "<style scoped>\n",
       "    .dataframe tbody tr th:only-of-type {\n",
       "        vertical-align: middle;\n",
       "    }\n",
       "\n",
       "    .dataframe tbody tr th {\n",
       "        vertical-align: top;\n",
       "    }\n",
       "\n",
       "    .dataframe thead th {\n",
       "        text-align: right;\n",
       "    }\n",
       "</style>\n",
       "<table border=\"1\" class=\"dataframe\">\n",
       "  <thead>\n",
       "    <tr style=\"text-align: right;\">\n",
       "      <th></th>\n",
       "      <th>A</th>\n",
       "      <th>B</th>\n",
       "    </tr>\n",
       "  </thead>\n",
       "  <tbody>\n",
       "    <tr>\n",
       "      <th>0</th>\n",
       "      <td>74</td>\n",
       "      <td>30.0</td>\n",
       "    </tr>\n",
       "    <tr>\n",
       "      <th>1</th>\n",
       "      <td>30</td>\n",
       "      <td>59.0</td>\n",
       "    </tr>\n",
       "    <tr>\n",
       "      <th>2</th>\n",
       "      <td>35</td>\n",
       "      <td>69.0</td>\n",
       "    </tr>\n",
       "    <tr>\n",
       "      <th>3</th>\n",
       "      <td>45</td>\n",
       "      <td>88.0</td>\n",
       "    </tr>\n",
       "    <tr>\n",
       "      <th>4</th>\n",
       "      <td>74</td>\n",
       "      <td>68.0</td>\n",
       "    </tr>\n",
       "  </tbody>\n",
       "</table>\n",
       "</div>"
      ],
      "text/plain": [
       "    A     B\n",
       "0  74  30.0\n",
       "1  30  59.0\n",
       "2  35  69.0\n",
       "3  45  88.0\n",
       "4  74  68.0"
      ]
     },
     "execution_count": 160,
     "metadata": {},
     "output_type": "execute_result"
    }
   ],
   "source": [
    "import pandas as pd \n",
    "df = pd.read_csv('https://raw.githubusercontent.com/Datamanim/datarepo/main/scipy/scipy5.csv')\n",
    "df.head()"
   ]
  },
  {
   "cell_type": "code",
   "execution_count": 161,
   "metadata": {
    "tags": []
   },
   "outputs": [
    {
     "data": {
      "text/plain": [
       "A      0\n",
       "B    120\n",
       "dtype: int64"
      ]
     },
     "execution_count": 161,
     "metadata": {},
     "output_type": "execute_result"
    }
   ],
   "source": [
    "df.isna().sum()"
   ]
  },
  {
   "cell_type": "code",
   "execution_count": 162,
   "metadata": {
    "tags": []
   },
   "outputs": [
    {
     "data": {
      "text/plain": [
       "array([30., 59., 69., 88., 68., 60., 35., 57., 77., 83., 34., 47., 54.,\n",
       "       81., 72., 61., 46., 38., 42., 49., 87., 76., 56., 40., 75., 67.,\n",
       "       93., 85., 64., 70., 63., 91., 43., 79., 89., 84., 82., 78., 71.,\n",
       "       74., 53., 41., 37., 90., 32., 45., 86., 65., 33., 50., 51., 62.,\n",
       "       52., 48., 92., 80., 31., 66., 36., 73., 55., nan])"
      ]
     },
     "execution_count": 162,
     "metadata": {},
     "output_type": "execute_result"
    }
   ],
   "source": [
    "df['B'].unique()"
   ]
  },
  {
   "cell_type": "code",
   "execution_count": 163,
   "metadata": {
    "ExecuteTime": {
     "end_time": "2022-02-25T18:40:13.298980Z",
     "start_time": "2022-02-25T18:40:13.285791Z"
    },
    "tags": [
     "hide-cell"
    ]
   },
   "outputs": [
    {
     "name": "stdout",
     "output_type": "stream",
     "text": [
      "[397.54224080267556, 314.2175977653631]\n",
      "[Bartlett Test] statistics= 4.1193, p-value= 0.0424 -> H0기각\n",
      "[Levene Test] statistics= nan, p-value= nan -> H0채택\n",
      "[Fligner Test] statistics= nan, p-value= nan -> H0채택\n"
     ]
    }
   ],
   "source": [
    "group_data = [df['A'], df['B']]\n",
    "print([x.var() for x in group_data])\n",
    "\n",
    "s, pvalue = bartlett(*group_data)\n",
    "print(f'[Bartlett Test] statistics= {s:.4f}, p-value= {pvalue:.4f} -> {\"H0기각\" if pvalue < 0.05 else \"H0채택\"}')\n",
    "\n",
    "s, pvalue = levene(*group_data, center='median')\n",
    "print(f'[Levene Test] statistics= {s:.4f}, p-value= {pvalue:.4f} -> {\"H0기각\" if pvalue < 0.05 else \"H0채택\"}')\n",
    "\n",
    "s, pvalue = fligner(*group_data, center='mean')\n",
    "print(f'[Fligner Test] statistics= {s:.4f}, p-value= {pvalue:.4f} -> {\"H0기각\" if pvalue < 0.05 else \"H0채택\"}')\n",
    "\n",
    "# bartlett ,fligner 두 검정은 nan값을 지우고 사용해야한다. LeveneResult의 경우 nan값이 포함된다면 연산이 제대로 안된다"
   ]
  },
  {
   "cell_type": "code",
   "execution_count": 164,
   "metadata": {
    "tags": []
   },
   "outputs": [],
   "source": [
    "df['B'] = df['B'].fillna(0)"
   ]
  },
  {
   "cell_type": "code",
   "execution_count": 165,
   "metadata": {
    "tags": []
   },
   "outputs": [
    {
     "data": {
      "text/plain": [
       "A    0\n",
       "B    0\n",
       "dtype: int64"
      ]
     },
     "execution_count": 165,
     "metadata": {},
     "output_type": "execute_result"
    }
   ],
   "source": [
    "df.isna().sum()"
   ]
  },
  {
   "cell_type": "code",
   "execution_count": 166,
   "metadata": {
    "tags": []
   },
   "outputs": [
    {
     "name": "stdout",
     "output_type": "stream",
     "text": [
      "[397.54224080267556, 1088.5490635451504]\n",
      "[Bartlett Test] statistics= 72.7186, p-value= 0.0000 -> H0기각\n",
      "[Levene Test] statistics= 136.3786, p-value= 0.0000 -> H0기각\n",
      "[Fligner Test] statistics= 156.6799, p-value= 0.0000 -> H0기각\n"
     ]
    }
   ],
   "source": [
    "group_data = [df['A'], df['B']]\n",
    "print([x.var() for x in group_data])\n",
    "\n",
    "s, pvalue = bartlett(*group_data)\n",
    "print(f'[Bartlett Test] statistics= {s:.4f}, p-value= {pvalue:.4f} -> {\"H0기각\" if pvalue < 0.05 else \"H0채택\"}')\n",
    "\n",
    "s, pvalue = levene(*group_data, center='median')\n",
    "print(f'[Levene Test] statistics= {s:.4f}, p-value= {pvalue:.4f} -> {\"H0기각\" if pvalue < 0.05 else \"H0채택\"}')\n",
    "\n",
    "s, pvalue = fligner(*group_data, center='mean')\n",
    "print(f'[Fligner Test] statistics= {s:.4f}, p-value= {pvalue:.4f} -> {\"H0기각\" if pvalue < 0.05 else \"H0채택\"}')"
   ]
  },
  {
   "cell_type": "markdown",
   "metadata": {},
   "source": [
    "## 독립표본 검정 (Independent)\n",
    "\n",
    "독립 표본 t검정의 경우 집단의 정규성에 따라 접근방식이 다르다    \n",
    "정규성 검정은 shapiro , anderson(샘플 5000개 이상) 을 통해 확인\n",
    "\n",
    "**데이터가 정규성을 가지는 경우(모수적 검정)**    \n",
    "두 집단의 등분산 검정을 한 후      \n",
    "from scipy.stats import ttest_ind     \n",
    "`등분산일 경우 `     \n",
    "$\n",
    "\\begin{align}\n",
    "t = \\dfrac{\\bar{x}_1 - \\bar{x}_2}{s \\cdot \\sqrt{\\dfrac{1}{N_1}+\\dfrac{1}{N_2}}}\n",
    "\\tag{equal_var=True}\n",
    "\\end{align}\n",
    "$\n",
    "             \n",
    "   \n",
    "`등분산이 아닐 경우`    \n",
    "$\n",
    "\\begin{align}\n",
    "t = \\dfrac{\\bar{x}_1 - \\bar{x}_2}{\\sqrt{\\dfrac{s_1^2}{N_1} + \\dfrac{s_2^2}{N_2}}}\n",
    "\\tag{equal_var=False , welch t-test}\n",
    "\\end{align}\n",
    "$\n",
    "\n",
    "\n",
    "**데이터가 정규성을 가지지 않는 경우(비모수적 검정)**\n"
   ]
  },
  {
   "cell_type": "markdown",
   "metadata": {
    "ExecuteTime": {
     "end_time": "2022-02-24T16:33:58.492036Z",
     "start_time": "2022-02-24T16:33:58.488608Z"
    }
   },
   "source": [
    "```{admonition} Question \n",
    "**두개 학급의 시험성적에 대한 데이터이다. 두 학습의 시험 평균(비모수검정의 경우 중위값)은 동일하다 말할 수 있는지 확인 하라**\n",
    "```"
   ]
  },
  {
   "cell_type": "code",
   "execution_count": 124,
   "metadata": {
    "tags": []
   },
   "outputs": [],
   "source": [
    "# !wget https://raw.githubusercontent.com/Datamanim/datarepo/main/scipy/ind1.csv"
   ]
  },
  {
   "cell_type": "code",
   "execution_count": 125,
   "metadata": {
    "tags": []
   },
   "outputs": [],
   "source": [
    "# !wget https://raw.githubusercontent.com/Datamanim/datarepo/main/scipy/ind2.csv'"
   ]
  },
  {
   "cell_type": "code",
   "execution_count": 167,
   "metadata": {
    "ExecuteTime": {
     "end_time": "2022-02-25T18:42:35.450890Z",
     "start_time": "2022-02-25T18:42:35.037237Z"
    },
    "tags": []
   },
   "outputs": [
    {
     "data": {
      "image/png": "[encoded data removed]",
      "text/plain": [
       "<Figure size 640x480 with 1 Axes>"
      ]
     },
     "metadata": {},
     "output_type": "display_data"
    }
   ],
   "source": [
    "import pandas as pd \n",
    "import matplotlib.pyplot as plt\n",
    "df1 = pd.read_csv('https://raw.githubusercontent.com/Datamanim/datarepo/main/scipy/ind1.csv')\n",
    "df2 = pd.read_csv('https://raw.githubusercontent.com/Datamanim/datarepo/main/scipy/ind2.csv')\n",
    "\n",
    "\n",
    "plt.hist(df1,label='df1',alpha=0.4)\n",
    "plt.hist(df2,label=\"df2\",alpha=0.4)\n",
    "plt.xlabel('Score bins')\n",
    "plt.ylabel('Counts')\n",
    "plt.legend()\n",
    "plt.show()"
   ]
  },
  {
   "cell_type": "code",
   "execution_count": 169,
   "metadata": {
    "tags": []
   },
   "outputs": [
    {
     "data": {
      "text/html": [
       "<div>\n",
       "<style scoped>\n",
       "    .dataframe tbody tr th:only-of-type {\n",
       "        vertical-align: middle;\n",
       "    }\n",
       "\n",
       "    .dataframe tbody tr th {\n",
       "        vertical-align: top;\n",
       "    }\n",
       "\n",
       "    .dataframe thead th {\n",
       "        text-align: right;\n",
       "    }\n",
       "</style>\n",
       "<table border=\"1\" class=\"dataframe\">\n",
       "  <thead>\n",
       "    <tr style=\"text-align: right;\">\n",
       "      <th></th>\n",
       "      <th>data</th>\n",
       "    </tr>\n",
       "  </thead>\n",
       "  <tbody>\n",
       "    <tr>\n",
       "      <th>0</th>\n",
       "      <td>105.408458</td>\n",
       "    </tr>\n",
       "    <tr>\n",
       "      <th>1</th>\n",
       "      <td>108.722618</td>\n",
       "    </tr>\n",
       "    <tr>\n",
       "      <th>2</th>\n",
       "      <td>84.398634</td>\n",
       "    </tr>\n",
       "    <tr>\n",
       "      <th>3</th>\n",
       "      <td>100.510816</td>\n",
       "    </tr>\n",
       "    <tr>\n",
       "      <th>4</th>\n",
       "      <td>100.965949</td>\n",
       "    </tr>\n",
       "  </tbody>\n",
       "</table>\n",
       "</div>"
      ],
      "text/plain": [
       "         data\n",
       "0  105.408458\n",
       "1  108.722618\n",
       "2   84.398634\n",
       "3  100.510816\n",
       "4  100.965949"
      ]
     },
     "metadata": {},
     "output_type": "display_data"
    },
    {
     "data": {
      "text/html": [
       "<div>\n",
       "<style scoped>\n",
       "    .dataframe tbody tr th:only-of-type {\n",
       "        vertical-align: middle;\n",
       "    }\n",
       "\n",
       "    .dataframe tbody tr th {\n",
       "        vertical-align: top;\n",
       "    }\n",
       "\n",
       "    .dataframe thead th {\n",
       "        text-align: right;\n",
       "    }\n",
       "</style>\n",
       "<table border=\"1\" class=\"dataframe\">\n",
       "  <thead>\n",
       "    <tr style=\"text-align: right;\">\n",
       "      <th></th>\n",
       "      <th>data</th>\n",
       "    </tr>\n",
       "  </thead>\n",
       "  <tbody>\n",
       "    <tr>\n",
       "      <th>0</th>\n",
       "      <td>98.329474</td>\n",
       "    </tr>\n",
       "    <tr>\n",
       "      <th>1</th>\n",
       "      <td>96.931704</td>\n",
       "    </tr>\n",
       "    <tr>\n",
       "      <th>2</th>\n",
       "      <td>95.777325</td>\n",
       "    </tr>\n",
       "    <tr>\n",
       "      <th>3</th>\n",
       "      <td>98.744768</td>\n",
       "    </tr>\n",
       "    <tr>\n",
       "      <th>4</th>\n",
       "      <td>102.971042</td>\n",
       "    </tr>\n",
       "  </tbody>\n",
       "</table>\n",
       "</div>"
      ],
      "text/plain": [
       "         data\n",
       "0   98.329474\n",
       "1   96.931704\n",
       "2   95.777325\n",
       "3   98.744768\n",
       "4  102.971042"
      ]
     },
     "metadata": {},
     "output_type": "display_data"
    }
   ],
   "source": [
    "display(df1.head()) \n",
    "display(df2.head())"
   ]
  },
  {
   "cell_type": "code",
   "execution_count": 178,
   "metadata": {
    "ExecuteTime": {
     "end_time": "2022-02-25T18:13:26.363350Z",
     "start_time": "2022-02-25T18:13:26.350467Z"
    },
    "tags": [
     "hide-cell"
    ]
   },
   "outputs": [
    {
     "name": "stdout",
     "output_type": "stream",
     "text": [
      "[shapiro-wilk test] statistics= 0.9861, p-value= 0.3797 -> H0채택\n",
      "[shapiro-wilk test] statistics= 0.9902, p-value= 0.6794 -> H0채택\n",
      "------------------------------\n",
      "[Bartlett Test] statistics= 4.1706, p-value= 0.0411 -> H0기각\n",
      "[Levene Test] statistics= 2.5338, p-value= 0.1130 -> H0채택\n",
      "[Fligner Test] statistics= 2.3556, p-value= 0.1248 -> H0채택\n",
      "------------------------------\n",
      "[2-Sample t-test] t-value= 2.7672, p-value= 0.0062 -> H0기각\n",
      "95% Confidence Interval: 99.4512 ~ 101.5858\n",
      "100.51850049025512 98.5997136185646\n"
     ]
    }
   ],
   "source": [
    "s, pvalue = shapiro(df1['data'])\n",
    "print(f'[shapiro-wilk test] statistics= {s:.4f}, p-value= {pvalue:.4f} -> {\"H0기각\" if pvalue < 0.05 else \"H0채택\"}')\n",
    "\n",
    "s, pvalue = shapiro(df2['data'])\n",
    "print(f'[shapiro-wilk test] statistics= {s:.4f}, p-value= {pvalue:.4f} -> {\"H0기각\" if pvalue < 0.05 else \"H0채택\"}')\n",
    "# 두 그룹 모두 Shapiro검정 결과 귀무가설(정규성을 가진다)을 기각 하지 못한다. 두 그룹은 정규성을 가진다.\n",
    "print('-' * 30)\n",
    "\n",
    "s, pvalue = bartlett(df1['data'], df2['data'])\n",
    "print(f'[Bartlett Test] statistics= {s:.4f}, p-value= {pvalue:.4f} -> {\"H0기각\" if pvalue < 0.05 else \"H0채택\"}')\n",
    "\n",
    "s, pvalue = levene(df1['data'], df2['data'], center='median')\n",
    "print(f'[Levene Test] statistics= {s:.4f}, p-value= {pvalue:.4f} -> {\"H0기각\" if pvalue < 0.05 else \"H0채택\"}')\n",
    "\n",
    "s, pvalue = fligner(df1['data'], df2['data'], center='mean')\n",
    "print(f'[Fligner Test] statistics= {s:.4f}, p-value= {pvalue:.4f} -> {\"H0기각\" if pvalue < 0.05 else \"H0채택\"}')\n",
    "# 두그룹은 levene 검정을 확인해 본결과 pvalue 는 0.11로 귀무가실을 기각히지 못한다. 그러므로 등분산은 가진다\n",
    "print('-' * 30)\n",
    "\n",
    "tvalue, pvalue = ttest_ind(df1['data'], df2['data'], equal_var=True, alternative='two-sided')\n",
    "print(f'[2-Sample t-test] t-value= {tvalue:.4f}, p-value= {pvalue:.4f} -> {\"H0기각\" if pvalue < 0.05 else \"H0채택\"}')\n",
    "ci_s, ci_e = t.interval(confidence=0.95, loc=df1['data'].mean(), scale=sem(df1['data']), df=len(df1['data'])-1)\n",
    "print(f'95% Confidence Interval: {ci_s:,.4f} ~ {ci_e:,.4f}')\n",
    "print(df1['data'].mean(), df2['data'].mean())\n",
    "# 등분산이기 때문에 equal_var=True 파라미터를 주고 ttest_ind 모듈을 이용하여 t test를 진행한다\n",
    "# pvalue는 0.006이므로 귀무가설(각 그룹의 평균값은 동일하다)를 기각하고 대립가설을 채택한다"
   ]
  },
  {
   "cell_type": "markdown",
   "metadata": {
    "ExecuteTime": {
     "end_time": "2022-02-24T16:33:58.492036Z",
     "start_time": "2022-02-24T16:33:58.488608Z"
    }
   },
   "source": [
    "```{admonition} Question \n",
    "**두개 학급의 시험성적에 대한 데이터이다. 두 학습의 시험 평균(비모수검정의 경우 중위값)은 동일하다 말할 수 있는지 확인 하라**\n",
    "```"
   ]
  },
  {
   "cell_type": "code",
   "execution_count": 179,
   "metadata": {
    "tags": []
   },
   "outputs": [],
   "source": [
    "# !wget https://raw.githubusercontent.com/Datamanim/datarepo/main/scipy/scipy5.csv"
   ]
  },
  {
   "cell_type": "code",
   "execution_count": 180,
   "metadata": {
    "ExecuteTime": {
     "end_time": "2022-02-25T18:43:12.430875Z",
     "start_time": "2022-02-25T18:43:12.008833Z"
    },
    "tags": []
   },
   "outputs": [
    {
     "data": {
      "image/png": "[encoded data removed]",
      "text/plain": [
       "<Figure size 640x480 with 1 Axes>"
      ]
     },
     "metadata": {},
     "output_type": "display_data"
    }
   ],
   "source": [
    "import pandas as pd \n",
    "import matplotlib.pyplot as plt\n",
    "df = pd.read_csv('https://raw.githubusercontent.com/Datamanim/datarepo/main/scipy/scipy5.csv')\n",
    "\n",
    "plt.hist(df['A'],alpha=0.5,label='A')\n",
    "plt.hist(df['B'].dropna(),alpha=0.5,label=\"B\")\n",
    "plt.xlabel('Score bins')\n",
    "plt.ylabel('Counts')\n",
    "plt.legend()\n",
    "plt.show()"
   ]
  },
  {
   "cell_type": "code",
   "execution_count": 17,
   "metadata": {
    "ExecuteTime": {
     "end_time": "2022-02-25T18:13:26.363350Z",
     "start_time": "2022-02-25T18:13:26.350467Z"
    },
    "tags": [
     "hide-cell"
    ]
   },
   "outputs": [
    {
     "name": "stdout",
     "output_type": "stream",
     "text": [
      "ShapiroResult(statistic=0.9639444351196289, pvalue=0.00013572089665103704)\n",
      "ShapiroResult(statistic=0.93753981590271, pvalue=6.175894240456614e-10)\n",
      "\n",
      "MannwhitneyuResult(statistic=26964.0, pvalue=0.4903729188075009)\n",
      "RanksumsResult(statistic=0.02446942170858557, pvalue=0.9804781743503561)\n"
     ]
    }
   ],
   "source": [
    "# 데이터 분포를 확인해보니 정규성을 위해하는 것 처럼 보인다.\n",
    "# 두그룹중 한 그룹만 정규성을 위배해도 독립표본 t-검정을 할 수 없다\n",
    "\n",
    "# 두 그룹 모두 Shapiro검정 결과 귀무가설(정규성을 가진다)을 기각한다. 정규성을 위배한다. 그러므로 비모수 검정을 실시해야한다.\n",
    "\n",
    "\n",
    "# Mann-Whitney U Test 검정 결과 pvalue는 0.49값으로 귀무가설(평균은같다)를 기각 할 수 없다. 두그룹의 평균은 동일하다 말할 수 있다. \n",
    "# 윌콕슨 순위합 검정(ranksums)으로 확인 해봐도 같은 결과가 나온다."
   ]
  },
  {
   "cell_type": "markdown",
   "metadata": {
    "ExecuteTime": {
     "end_time": "2022-02-24T16:33:58.492036Z",
     "start_time": "2022-02-24T16:33:58.488608Z"
    }
   },
   "source": [
    "```{admonition} Question \n",
    "**두개 그룹에 대한 수치형 데이터이다. 두 그룹의 평균은 동일하다 말할 수 있는지 검정하라**\n",
    "```"
   ]
  },
  {
   "cell_type": "code",
   "execution_count": 16,
   "metadata": {
    "tags": []
   },
   "outputs": [
    {
     "name": "stdout",
     "output_type": "stream",
     "text": [
      "--2023-06-18 22:09:43--  https://raw.githubusercontent.com/Datamanim/datarepo/main/scipy/ind3.csv\n",
      "raw.githubusercontent.com (raw.githubusercontent.com) 해석 중... 185.199.108.133, 185.199.109.133, 185.199.110.133, ...\n",
      "다음으로 연결 중: raw.githubusercontent.com (raw.githubusercontent.com)|185.199.108.133|:443... 연결했습니다.\n",
      "HTTP 요청을 보냈습니다. 응답 기다리는 중... 200 OK\n",
      "길이: 3883 (3.8K) [text/plain]\n",
      "저장 위치: `ind3.csv'\n",
      "\n",
      "ind3.csv            100%[===================>]   3.79K  --.-KB/s    /  0.001s  \n",
      "\n",
      "2023-06-18 22:09:43 (5.86 MB/s) - `ind3.csv' 저장함 [3883/3883]\n",
      "\n"
     ]
    }
   ],
   "source": [
    "!wget https://raw.githubusercontent.com/Datamanim/datarepo/main/scipy/ind3.csv"
   ]
  },
  {
   "cell_type": "code",
   "execution_count": 65,
   "metadata": {
    "ExecuteTime": {
     "end_time": "2022-02-25T18:43:46.033264Z",
     "start_time": "2022-02-25T18:43:45.600768Z"
    }
   },
   "outputs": [
    {
     "data": {
      "image/png": "[encoded data removed]",
      "text/plain": [
       "<Figure size 432x288 with 1 Axes>"
      ]
     },
     "metadata": {
      "needs_background": "light"
     },
     "output_type": "display_data"
    }
   ],
   "source": [
    "import pandas as pd \n",
    "import matplotlib.pyplot as plt\n",
    "df = pd.read_csv('https://raw.githubusercontent.com/Datamanim/datarepo/main/scipy/ind3.csv')\n",
    "\n",
    "plt.hist(df[df['group'] =='a'].data,label='A',alpha=0.5)\n",
    "plt.hist(df[df['group'] =='b'].data,label=\"B\",alpha=0.5)\n",
    "plt.xlabel('Score bins')\n",
    "plt.ylabel('Counts')\n",
    "plt.legend()\n",
    "plt.show()"
   ]
  },
  {
   "cell_type": "code",
   "execution_count": 182,
   "metadata": {
    "tags": []
   },
   "outputs": [
    {
     "data": {
      "text/html": [
       "<div>\n",
       "<style scoped>\n",
       "    .dataframe tbody tr th:only-of-type {\n",
       "        vertical-align: middle;\n",
       "    }\n",
       "\n",
       "    .dataframe tbody tr th {\n",
       "        vertical-align: top;\n",
       "    }\n",
       "\n",
       "    .dataframe thead th {\n",
       "        text-align: right;\n",
       "    }\n",
       "</style>\n",
       "<table border=\"1\" class=\"dataframe\">\n",
       "  <thead>\n",
       "    <tr style=\"text-align: right;\">\n",
       "      <th></th>\n",
       "      <th>A</th>\n",
       "      <th>B</th>\n",
       "    </tr>\n",
       "  </thead>\n",
       "  <tbody>\n",
       "    <tr>\n",
       "      <th>0</th>\n",
       "      <td>74</td>\n",
       "      <td>30.0</td>\n",
       "    </tr>\n",
       "    <tr>\n",
       "      <th>1</th>\n",
       "      <td>30</td>\n",
       "      <td>59.0</td>\n",
       "    </tr>\n",
       "  </tbody>\n",
       "</table>\n",
       "</div>"
      ],
      "text/plain": [
       "    A     B\n",
       "0  74  30.0\n",
       "1  30  59.0"
      ]
     },
     "execution_count": 182,
     "metadata": {},
     "output_type": "execute_result"
    }
   ],
   "source": [
    "df.head(2)"
   ]
  },
  {
   "cell_type": "code",
   "execution_count": 185,
   "metadata": {
    "tags": []
   },
   "outputs": [
    {
     "data": {
      "text/plain": [
       "A      0\n",
       "B    120\n",
       "dtype: int64"
      ]
     },
     "execution_count": 185,
     "metadata": {},
     "output_type": "execute_result"
    }
   ],
   "source": [
    "df.isna().sum()"
   ]
  },
  {
   "cell_type": "code",
   "execution_count": 187,
   "metadata": {
    "tags": []
   },
   "outputs": [],
   "source": [
    "df['B'] = df['B'].fillna(0)"
   ]
  },
  {
   "cell_type": "code",
   "execution_count": 188,
   "metadata": {
    "tags": []
   },
   "outputs": [
    {
     "name": "stdout",
     "output_type": "stream",
     "text": [
      "[shapiro-wilk test] statistics= 0.9375, p-value= 0.0000 -> H0기각\n",
      "[shapiro-wilk test] statistics= 0.8430, p-value= 0.0000 -> H0기각\n"
     ]
    }
   ],
   "source": [
    "s, pvalue = shapiro(df['A'])\n",
    "print(f'[shapiro-wilk test] statistics= {s:.4f}, p-value= {pvalue:.4f} -> {\"H0기각\" if pvalue < 0.05 else \"H0채택\"}')\n",
    "\n",
    "s, pvalue = shapiro(df['B'])\n",
    "print(f'[shapiro-wilk test] statistics= {s:.4f}, p-value= {pvalue:.4f} -> {\"H0기각\" if pvalue < 0.05 else \"H0채택\"}')"
   ]
  },
  {
   "cell_type": "code",
   "execution_count": 190,
   "metadata": {
    "tags": []
   },
   "outputs": [
    {
     "name": "stdout",
     "output_type": "stream",
     "text": [
      "[Bartlett Test] statistics= 72.7186, p-value= 0.0000 -> H0기각\n",
      "[Levene Test] statistics= 136.3786, p-value= 0.0000 -> H0기각\n",
      "[Fligner Test] statistics= 156.6799, p-value= 0.0000 -> H0기각\n"
     ]
    }
   ],
   "source": [
    "s, pvalue = bartlett(df['A'], df['B'])\n",
    "print(f'[Bartlett Test] statistics= {s:.4f}, p-value= {pvalue:.4f} -> {\"H0기각\" if pvalue < 0.05 else \"H0채택\"}')\n",
    "\n",
    "s, pvalue = levene(df['A'], df['B'], center='median')\n",
    "print(f'[Levene Test] statistics= {s:.4f}, p-value= {pvalue:.4f} -> {\"H0기각\" if pvalue < 0.05 else \"H0채택\"}')\n",
    "\n",
    "s, pvalue = fligner(df['A'], df['B'], center='mean')\n",
    "print(f'[Fligner Test] statistics= {s:.4f}, p-value= {pvalue:.4f} -> {\"H0기각\" if pvalue < 0.05 else \"H0채택\"}')"
   ]
  },
  {
   "cell_type": "code",
   "execution_count": 193,
   "metadata": {
    "tags": []
   },
   "outputs": [
    {
     "name": "stdout",
     "output_type": "stream",
     "text": [
      "[2-Sample t-test] t-value= 11.0438, p-value= 0.0000 -> H0기각\n"
     ]
    }
   ],
   "source": [
    "tvalue, pvalue = ttest_ind(df['A'], df['B'], equal_var=False, alternative='two-sided')\n",
    "print(f'[2-Sample t-test] t-value= {tvalue:.4f}, p-value= {pvalue:.4f} -> {\"H0기각\" if pvalue < 0.05 else \"H0채택\"}')"
   ]
  },
  {
   "cell_type": "markdown",
   "metadata": {
    "ExecuteTime": {
     "end_time": "2022-02-25T18:43:48.962500Z",
     "start_time": "2022-02-25T18:43:48.954334Z"
    },
    "tags": [
     "hide-cell"
    ]
   },
   "source": [
    "- 두 그룹 모두 Shapiro검정 결과 귀무가설(정규성을 가진다)을 기각 하지 못한다. 두 그룹은 정규성을 가진다.\n",
    "- 두 그룹은 levene 검정을 확인해 본결과 pvalue 는 0.013로 귀무가실을 기각하고 대립가설을 채택한다. 두 그룹은 등분산이 아니다\n",
    "- 등분산이 아니기 때문에 equal_var=False 파라미터를 주고 ttest_ind 모듈을 이용하여 t test를 진행한다\n",
    "- pvalue는 0.02이므로 귀무가설(각 그룹의 평균값은 동일하다)를 기각하고 대립가설을 채택한다\n",
    "- 결론적으로 두 그룹은 모두 정규성을 가지지만 등분산은 아니며 평균은 동일하다고 보기 어렵다"
   ]
  },
  {
   "cell_type": "markdown",
   "metadata": {
    "ExecuteTime": {
     "end_time": "2022-02-24T16:33:58.492036Z",
     "start_time": "2022-02-24T16:33:58.488608Z"
    }
   },
   "source": [
    "```{admonition} Question \n",
    "**두개 그룹에 대한 수치형 데이터이다. 두 그룹의 평균은 동일하다 말할 수 있는지 검정하라**\n",
    "```"
   ]
  },
  {
   "cell_type": "code",
   "execution_count": 194,
   "metadata": {
    "tags": []
   },
   "outputs": [],
   "source": [
    "# !wget https://raw.githubusercontent.com/Datamanim/datarepo/main/scipy/ind6.csv"
   ]
  },
  {
   "cell_type": "code",
   "execution_count": 195,
   "metadata": {
    "ExecuteTime": {
     "end_time": "2022-02-25T18:44:12.313404Z",
     "start_time": "2022-02-25T18:44:11.872182Z"
    },
    "tags": []
   },
   "outputs": [
    {
     "data": {
      "image/png": "[encoded data removed]",
      "text/plain": [
       "<Figure size 640x480 with 1 Axes>"
      ]
     },
     "metadata": {},
     "output_type": "display_data"
    }
   ],
   "source": [
    "import pandas as pd \n",
    "import matplotlib.pyplot as plt\n",
    "df = pd.read_csv('https://raw.githubusercontent.com/Datamanim/datarepo/main/scipy/ind6.csv')\n",
    "\n",
    "plt.hist(df['a'],alpha=0.5,label='A')\n",
    "plt.hist(df['b'],alpha=0.5,label=\"B\")\n",
    "plt.xlabel('Score bins')\n",
    "plt.ylabel('Counts')\n",
    "plt.legend()\n",
    "plt.show()"
   ]
  },
  {
   "cell_type": "code",
   "execution_count": 197,
   "metadata": {
    "tags": []
   },
   "outputs": [
    {
     "data": {
      "text/html": [
       "<div>\n",
       "<style scoped>\n",
       "    .dataframe tbody tr th:only-of-type {\n",
       "        vertical-align: middle;\n",
       "    }\n",
       "\n",
       "    .dataframe tbody tr th {\n",
       "        vertical-align: top;\n",
       "    }\n",
       "\n",
       "    .dataframe thead th {\n",
       "        text-align: right;\n",
       "    }\n",
       "</style>\n",
       "<table border=\"1\" class=\"dataframe\">\n",
       "  <thead>\n",
       "    <tr style=\"text-align: right;\">\n",
       "      <th></th>\n",
       "      <th>a</th>\n",
       "      <th>b</th>\n",
       "    </tr>\n",
       "  </thead>\n",
       "  <tbody>\n",
       "    <tr>\n",
       "      <th>0</th>\n",
       "      <td>121.023118</td>\n",
       "      <td>69.982090</td>\n",
       "    </tr>\n",
       "    <tr>\n",
       "      <th>1</th>\n",
       "      <td>69.740978</td>\n",
       "      <td>139.774624</td>\n",
       "    </tr>\n",
       "  </tbody>\n",
       "</table>\n",
       "</div>"
      ],
      "text/plain": [
       "            a           b\n",
       "0  121.023118   69.982090\n",
       "1   69.740978  139.774624"
      ]
     },
     "execution_count": 197,
     "metadata": {},
     "output_type": "execute_result"
    }
   ],
   "source": [
    "df.head(2)"
   ]
  },
  {
   "cell_type": "code",
   "execution_count": 196,
   "metadata": {
    "tags": []
   },
   "outputs": [
    {
     "data": {
      "text/plain": [
       "a     0\n",
       "b    50\n",
       "dtype: int64"
      ]
     },
     "execution_count": 196,
     "metadata": {},
     "output_type": "execute_result"
    }
   ],
   "source": [
    "df.isna().sum()"
   ]
  },
  {
   "cell_type": "code",
   "execution_count": 199,
   "metadata": {
    "tags": []
   },
   "outputs": [
    {
     "name": "stdout",
     "output_type": "stream",
     "text": [
      "[shapiro-wilk test] statistics= 0.9866, p-value= 0.2839 -> H0채택\n",
      "[shapiro-wilk test] statistics= nan, p-value= 1.0000 -> H0채택\n"
     ]
    }
   ],
   "source": [
    "s, pvalue = shapiro(df['a'])\n",
    "print(f'[shapiro-wilk test] statistics= {s:.4f}, p-value= {pvalue:.4f} -> {\"H0기각\" if pvalue < 0.05 else \"H0채택\"}')\n",
    "\n",
    "s, pvalue = shapiro(df['b'])\n",
    "print(f'[shapiro-wilk test] statistics= {s:.4f}, p-value= {pvalue:.4f} -> {\"H0기각\" if pvalue < 0.05 else \"H0채택\"}')"
   ]
  },
  {
   "cell_type": "code",
   "execution_count": 202,
   "metadata": {
    "tags": []
   },
   "outputs": [],
   "source": [
    "df['b'] = df['b'].fillna(0)"
   ]
  },
  {
   "cell_type": "code",
   "execution_count": 203,
   "metadata": {
    "tags": []
   },
   "outputs": [
    {
     "name": "stdout",
     "output_type": "stream",
     "text": [
      "[Bartlett Test] statistics= 54.1506, p-value= 0.0000 -> H0기각\n",
      "[Levene Test] statistics= 107.5405, p-value= 0.0000 -> H0기각\n",
      "[Fligner Test] statistics= 69.4850, p-value= 0.0000 -> H0기각\n"
     ]
    }
   ],
   "source": [
    "s, pvalue = bartlett(df['a'], df['b'])\n",
    "print(f'[Bartlett Test] statistics= {s:.4f}, p-value= {pvalue:.4f} -> {\"H0기각\" if pvalue < 0.05 else \"H0채택\"}')\n",
    "\n",
    "s, pvalue = levene(df['a'], df['b'], center='median')\n",
    "print(f'[Levene Test] statistics= {s:.4f}, p-value= {pvalue:.4f} -> {\"H0기각\" if pvalue < 0.05 else \"H0채택\"}')\n",
    "\n",
    "s, pvalue = fligner(df['a'], df['b'], center='mean')\n",
    "print(f'[Fligner Test] statistics= {s:.4f}, p-value= {pvalue:.4f} -> {\"H0기각\" if pvalue < 0.05 else \"H0채택\"}')"
   ]
  },
  {
   "cell_type": "code",
   "execution_count": 204,
   "metadata": {
    "tags": []
   },
   "outputs": [
    {
     "name": "stdout",
     "output_type": "stream",
     "text": [
      "[2-Sample t-test] t-value= 7.3339, p-value= 0.0000 -> H0기각\n"
     ]
    }
   ],
   "source": [
    "tvalue, pvalue = ttest_ind(df['a'], df['b'], equal_var=False, alternative='two-sided')\n",
    "print(f'[2-Sample t-test] t-value= {tvalue:.4f}, p-value= {pvalue:.4f} -> {\"H0기각\" if pvalue < 0.05 else \"H0채택\"}')"
   ]
  },
  {
   "cell_type": "markdown",
   "metadata": {
    "ExecuteTime": {
     "end_time": "2022-02-25T18:44:12.818488Z",
     "start_time": "2022-02-25T18:44:12.811432Z"
    },
    "tags": [
     "hide-cell"
    ]
   },
   "source": [
    "- 두 그룹 모두 Shapiro검정 결과 귀무가설(정규성을 가진다)을 기각 하지 못한다. 두 그룹은 정규성을 가진다.\n",
    "- 두그룹은 levene 검정을 확인해 본결과 pvalue 는 0.047로 귀무가실을 기각하고 대립가설을 채택한다. 두 그룹은 등분산이 아니다\n",
    "- 등분산이 아니기 때문에 equal_var=False 파라미터를 주고 ttest_ind 모듈을 이용하여 t test를 진행한다\n",
    "- pvalue는 0.99이므로 귀무가설(각 그룹의 평균값은 동일하다)를 기각하기 어렵다\n",
    "- 결론적으로 두 그룹은 모두 정규성을 가지지만 등분산은 아니며 평균은 동일하다고 볼 수 있다"
   ]
  },
  {
   "cell_type": "markdown",
   "metadata": {},
   "source": [
    "## 대응표본 t 검정 (paired)"
   ]
  },
  {
   "cell_type": "markdown",
   "metadata": {
    "ExecuteTime": {
     "end_time": "2022-02-24T16:33:58.492036Z",
     "start_time": "2022-02-24T16:33:58.488608Z"
    }
   },
   "source": [
    "```{admonition} Question \n",
    "**특정 질병 집단의 투약 전후의 혈류량 변화를 나타낸 데이터이다. 투약 전후의 변화가 있는지 검정하라**\n",
    "```"
   ]
  },
  {
   "cell_type": "code",
   "execution_count": 205,
   "metadata": {
    "tags": []
   },
   "outputs": [],
   "source": [
    "# !wget https://raw.githubusercontent.com/Datamanim/datarepo/main/scipy/rel2.csv"
   ]
  },
  {
   "cell_type": "code",
   "execution_count": 206,
   "metadata": {
    "ExecuteTime": {
     "end_time": "2022-02-25T19:17:25.268791Z",
     "start_time": "2022-02-25T19:17:25.120400Z"
    },
    "scrolled": true,
    "tags": []
   },
   "outputs": [
    {
     "data": {
      "image/png": "[encoded data removed]",
      "text/plain": [
       "<Figure size 640x480 with 2 Axes>"
      ]
     },
     "metadata": {},
     "output_type": "display_data"
    }
   ],
   "source": [
    "import pandas as pd \n",
    "import matplotlib.pyplot as plt\n",
    "df = pd.read_csv('https://raw.githubusercontent.com/Datamanim/datarepo/main/scipy/rel2.csv')\n",
    "\n",
    "fig ,ax = plt.subplots(1,2)\n",
    "ax[0].boxplot(df['before'])\n",
    "ax[1].boxplot(df['after'])\n",
    "ax[0].set_xticklabels(['before'])\n",
    "ax[1].set_xticklabels(['after'])\n",
    "ax[0].set_ylim(100,350)\n",
    "ax[1].set_ylim(100,350)\n",
    "ax[1].get_yaxis().set_visible(False)\n",
    "ax[0].set_ylabel('value')\n",
    "plt.show()"
   ]
  },
  {
   "cell_type": "code",
   "execution_count": 207,
   "metadata": {
    "tags": []
   },
   "outputs": [
    {
     "data": {
      "text/html": [
       "<div>\n",
       "<style scoped>\n",
       "    .dataframe tbody tr th:only-of-type {\n",
       "        vertical-align: middle;\n",
       "    }\n",
       "\n",
       "    .dataframe tbody tr th {\n",
       "        vertical-align: top;\n",
       "    }\n",
       "\n",
       "    .dataframe thead th {\n",
       "        text-align: right;\n",
       "    }\n",
       "</style>\n",
       "<table border=\"1\" class=\"dataframe\">\n",
       "  <thead>\n",
       "    <tr style=\"text-align: right;\">\n",
       "      <th></th>\n",
       "      <th>before</th>\n",
       "      <th>after</th>\n",
       "    </tr>\n",
       "  </thead>\n",
       "  <tbody>\n",
       "    <tr>\n",
       "      <th>0</th>\n",
       "      <td>216.289726</td>\n",
       "      <td>175.897620</td>\n",
       "    </tr>\n",
       "    <tr>\n",
       "      <th>1</th>\n",
       "      <td>190.279454</td>\n",
       "      <td>189.295934</td>\n",
       "    </tr>\n",
       "  </tbody>\n",
       "</table>\n",
       "</div>"
      ],
      "text/plain": [
       "       before       after\n",
       "0  216.289726  175.897620\n",
       "1  190.279454  189.295934"
      ]
     },
     "execution_count": 207,
     "metadata": {},
     "output_type": "execute_result"
    }
   ],
   "source": [
    "df.head(2)"
   ]
  },
  {
   "cell_type": "code",
   "execution_count": 208,
   "metadata": {
    "tags": []
   },
   "outputs": [
    {
     "data": {
      "text/plain": [
       "before    0\n",
       "after     0\n",
       "dtype: int64"
      ]
     },
     "execution_count": 208,
     "metadata": {},
     "output_type": "execute_result"
    }
   ],
   "source": [
    "df.isna().sum()"
   ]
  },
  {
   "cell_type": "code",
   "execution_count": 211,
   "metadata": {
    "ExecuteTime": {
     "end_time": "2022-02-25T18:44:12.818488Z",
     "start_time": "2022-02-25T18:44:12.811432Z"
    },
    "scrolled": true,
    "tags": [
     "hide-cell"
    ]
   },
   "outputs": [
    {
     "name": "stdout",
     "output_type": "stream",
     "text": [
      "[shapiro-wilk test] statistics= 0.9908, p-value= 0.6066 -> H0채택\n",
      "[shapiro-wilk test] statistics= 0.9917, p-value= 0.6924 -> H0채택\n",
      "[Paired t-test] t-value= 2.5535, p-value= 0.0119 -> H0기각\n"
     ]
    }
   ],
   "source": [
    "s, pvalue = shapiro(df['before'])\n",
    "print(f'[shapiro-wilk test] statistics= {s:.4f}, p-value= {pvalue:.4f} -> {\"H0기각\" if pvalue < 0.05 else \"H0채택\"}')\n",
    "\n",
    "s, pvalue = shapiro(df['after'])\n",
    "print(f'[shapiro-wilk test] statistics= {s:.4f}, p-value= {pvalue:.4f} -> {\"H0기각\" if pvalue < 0.05 else \"H0채택\"}')\n",
    "\n",
    "# 정규성 가짐 , 등분산성 가짐 -> 대응표본의 경우 등분산성이 파라미터에 영향을 주지않음, \n",
    "# 대응표본 t 검정 결과 pvalue는 0.01로 유의수준 5%내에서 귀무가설을 기각한다 (전 후 평균은 같지 않다)\n",
    "\n",
    "tvalue, pvalue = ttest_rel(df['after'], df['before'], alternative='two-sided')\n",
    "print(f'[Paired t-test] t-value= {tvalue:.4f}, p-value= {pvalue:.4f} -> {\"H0기각\" if pvalue < 0.05 else \"H0채택\"}')"
   ]
  },
  {
   "cell_type": "markdown",
   "metadata": {
    "ExecuteTime": {
     "end_time": "2022-02-24T16:33:58.492036Z",
     "start_time": "2022-02-24T16:33:58.488608Z"
    }
   },
   "source": [
    "```{admonition} Question \n",
    "**특정 질병 집단의 투약 전후의 혈류량 변화를 나타낸 데이터이다. 투약 전후의 변화가 있는지 검정하라**\n",
    "```"
   ]
  },
  {
   "cell_type": "code",
   "execution_count": 212,
   "metadata": {
    "tags": []
   },
   "outputs": [],
   "source": [
    "# !wget https://raw.githubusercontent.com/Datamanim/datarepo/main/scipy/rel3.csv"
   ]
  },
  {
   "cell_type": "code",
   "execution_count": 213,
   "metadata": {
    "ExecuteTime": {
     "end_time": "2022-02-25T19:33:41.172568Z",
     "start_time": "2022-02-25T19:33:41.008614Z"
    },
    "tags": []
   },
   "outputs": [
    {
     "data": {
      "image/png": "[encoded data removed]",
      "text/plain": [
       "<Figure size 640x480 with 2 Axes>"
      ]
     },
     "metadata": {},
     "output_type": "display_data"
    }
   ],
   "source": [
    "import pandas as pd \n",
    "import matplotlib.pyplot as plt\n",
    "df = pd.read_csv('https://raw.githubusercontent.com/Datamanim/datarepo/main/scipy/rel3.csv')\n",
    "\n",
    "fig ,ax = plt.subplots(1,2)\n",
    "ax[0].boxplot(df['before'])\n",
    "ax[1].boxplot(df['after'])\n",
    "ax[0].set_xticklabels(['before'])\n",
    "ax[1].set_xticklabels(['after'])\n",
    "ax[0].set_ylim(130,300)\n",
    "ax[1].set_ylim(130,300)\n",
    "ax[1].get_yaxis().set_visible(False)\n",
    "ax[0].set_ylabel('value')\n",
    "plt.show()"
   ]
  },
  {
   "cell_type": "code",
   "execution_count": 214,
   "metadata": {
    "tags": []
   },
   "outputs": [
    {
     "data": {
      "text/html": [
       "<div>\n",
       "<style scoped>\n",
       "    .dataframe tbody tr th:only-of-type {\n",
       "        vertical-align: middle;\n",
       "    }\n",
       "\n",
       "    .dataframe tbody tr th {\n",
       "        vertical-align: top;\n",
       "    }\n",
       "\n",
       "    .dataframe thead th {\n",
       "        text-align: right;\n",
       "    }\n",
       "</style>\n",
       "<table border=\"1\" class=\"dataframe\">\n",
       "  <thead>\n",
       "    <tr style=\"text-align: right;\">\n",
       "      <th></th>\n",
       "      <th>before</th>\n",
       "      <th>after</th>\n",
       "    </tr>\n",
       "  </thead>\n",
       "  <tbody>\n",
       "    <tr>\n",
       "      <th>0</th>\n",
       "      <td>253.566615</td>\n",
       "      <td>220.857837</td>\n",
       "    </tr>\n",
       "    <tr>\n",
       "      <th>1</th>\n",
       "      <td>195.080189</td>\n",
       "      <td>209.206667</td>\n",
       "    </tr>\n",
       "  </tbody>\n",
       "</table>\n",
       "</div>"
      ],
      "text/plain": [
       "       before       after\n",
       "0  253.566615  220.857837\n",
       "1  195.080189  209.206667"
      ]
     },
     "execution_count": 214,
     "metadata": {},
     "output_type": "execute_result"
    }
   ],
   "source": [
    "df.head(2)"
   ]
  },
  {
   "cell_type": "code",
   "execution_count": 215,
   "metadata": {
    "tags": []
   },
   "outputs": [
    {
     "data": {
      "text/plain": [
       "before    0\n",
       "after     0\n",
       "dtype: int64"
      ]
     },
     "execution_count": 215,
     "metadata": {},
     "output_type": "execute_result"
    }
   ],
   "source": [
    "df.isna().sum()"
   ]
  },
  {
   "cell_type": "code",
   "execution_count": 217,
   "metadata": {
    "ExecuteTime": {
     "end_time": "2022-02-25T18:44:12.818488Z",
     "start_time": "2022-02-25T18:44:12.811432Z"
    },
    "tags": [
     "hide-cell"
    ]
   },
   "outputs": [
    {
     "name": "stdout",
     "output_type": "stream",
     "text": [
      "[shapiro-wilk test] statistics= 0.9921, p-value= 0.7270 -> H0채택\n",
      "[shapiro-wilk test] statistics= 0.9920, p-value= 0.7229 -> H0채택\n",
      "[Paired t-test] t-value= -0.1889, p-value= 0.8505 -> H0채택\n"
     ]
    }
   ],
   "source": [
    "s, pvalue = shapiro(df['before'])\n",
    "print(f'[shapiro-wilk test] statistics= {s:.4f}, p-value= {pvalue:.4f} -> {\"H0기각\" if pvalue < 0.05 else \"H0채택\"}')\n",
    "\n",
    "s, pvalue = shapiro(df['after'])\n",
    "print(f'[shapiro-wilk test] statistics= {s:.4f}, p-value= {pvalue:.4f} -> {\"H0기각\" if pvalue < 0.05 else \"H0채택\"}')\n",
    "# 정규성 가짐 , 등분산성 가짐 -> 대응표본의 경우 등분산성이 파라미터에 영향을 주지않음, \n",
    "# 대응표본 t 검정 결과 pvalue는 0.85로 유의수준 5%내에서 귀무가설을 기각할 수 없다 (전 후 평균은 같다)\n",
    "\n",
    "tvalue, pvalue = ttest_rel(df['after'], df['before'], alternative='two-sided')\n",
    "print(f'[Paired t-test] t-value= {tvalue:.4f}, p-value= {pvalue:.4f} -> {\"H0기각\" if pvalue < 0.05 else \"H0채택\"}')"
   ]
  },
  {
   "cell_type": "markdown",
   "metadata": {
    "ExecuteTime": {
     "end_time": "2022-02-24T16:33:58.492036Z",
     "start_time": "2022-02-24T16:33:58.488608Z"
    }
   },
   "source": [
    "```{admonition} Question \n",
    "**특정 집단의 학습 전후 시험 성적 변화를 나타낸 데이터이다. 시험 전과 후에 차이가 있는지 검정하라**\n",
    "```"
   ]
  },
  {
   "cell_type": "code",
   "execution_count": 218,
   "metadata": {
    "tags": []
   },
   "outputs": [],
   "source": [
    "# !wget https://raw.githubusercontent.com/Datamanim/datarepo/main/scipy/rel1.csv"
   ]
  },
  {
   "cell_type": "code",
   "execution_count": 219,
   "metadata": {
    "ExecuteTime": {
     "end_time": "2022-02-25T19:33:43.171445Z",
     "start_time": "2022-02-25T19:33:43.027865Z"
    },
    "tags": []
   },
   "outputs": [
    {
     "data": {
      "image/png": "[encoded data removed]",
      "text/plain": [
       "<Figure size 640x480 with 2 Axes>"
      ]
     },
     "metadata": {},
     "output_type": "display_data"
    }
   ],
   "source": [
    "import pandas as pd \n",
    "import matplotlib.pyplot as plt\n",
    "df = pd.read_csv('https://raw.githubusercontent.com/Datamanim/datarepo/main/scipy/rel1.csv')\n",
    "\n",
    "fig ,ax = plt.subplots(1,2)\n",
    "ax[0].boxplot(df['before'])\n",
    "ax[1].boxplot(df['after'])\n",
    "ax[0].set_xticklabels(['before'])\n",
    "ax[1].set_xticklabels(['after'])\n",
    "ax[0].set_ylim(145,170)\n",
    "ax[1].set_ylim(145,170)\n",
    "ax[1].get_yaxis().set_visible(False)\n",
    "ax[0].set_ylabel('value')\n",
    "plt.show()"
   ]
  },
  {
   "cell_type": "code",
   "execution_count": 220,
   "metadata": {
    "tags": []
   },
   "outputs": [
    {
     "data": {
      "text/html": [
       "<div>\n",
       "<style scoped>\n",
       "    .dataframe tbody tr th:only-of-type {\n",
       "        vertical-align: middle;\n",
       "    }\n",
       "\n",
       "    .dataframe tbody tr th {\n",
       "        vertical-align: top;\n",
       "    }\n",
       "\n",
       "    .dataframe thead th {\n",
       "        text-align: right;\n",
       "    }\n",
       "</style>\n",
       "<table border=\"1\" class=\"dataframe\">\n",
       "  <thead>\n",
       "    <tr style=\"text-align: right;\">\n",
       "      <th></th>\n",
       "      <th>before</th>\n",
       "      <th>after</th>\n",
       "    </tr>\n",
       "  </thead>\n",
       "  <tbody>\n",
       "    <tr>\n",
       "      <th>0</th>\n",
       "      <td>153</td>\n",
       "      <td>162</td>\n",
       "    </tr>\n",
       "    <tr>\n",
       "      <th>1</th>\n",
       "      <td>153</td>\n",
       "      <td>163</td>\n",
       "    </tr>\n",
       "  </tbody>\n",
       "</table>\n",
       "</div>"
      ],
      "text/plain": [
       "   before  after\n",
       "0     153    162\n",
       "1     153    163"
      ]
     },
     "execution_count": 220,
     "metadata": {},
     "output_type": "execute_result"
    }
   ],
   "source": [
    "df.head(2)"
   ]
  },
  {
   "cell_type": "code",
   "execution_count": 221,
   "metadata": {
    "tags": []
   },
   "outputs": [
    {
     "data": {
      "text/plain": [
       "before    0\n",
       "after     0\n",
       "dtype: int64"
      ]
     },
     "execution_count": 221,
     "metadata": {},
     "output_type": "execute_result"
    }
   ],
   "source": [
    "df.isna().sum()"
   ]
  },
  {
   "cell_type": "code",
   "execution_count": 223,
   "metadata": {
    "ExecuteTime": {
     "end_time": "2022-02-25T18:44:12.818488Z",
     "start_time": "2022-02-25T18:44:12.811432Z"
    },
    "tags": [
     "hide-cell"
    ]
   },
   "outputs": [
    {
     "name": "stdout",
     "output_type": "stream",
     "text": [
      "[shapiro-wilk test] statistics= 0.9174, p-value= 0.0019 -> H0기각\n",
      "[shapiro-wilk test] statistics= 0.9449, p-value= 0.0211 -> H0기각\n",
      "[Bartlett Test] statistics= 0.0000, p-value= 1.0000 -> H0채택\n",
      "[Levene Test] statistics= 0.0000, p-value= 1.0000 -> H0채택\n",
      "[Fligner Test] statistics= 0.0000, p-value= 1.0000 -> H0채택\n",
      "[Paired t-test] t-value= 2.1871, p-value= 0.0335 -> H0기각\n"
     ]
    }
   ],
   "source": [
    "s, pvalue = shapiro(df['before'])\n",
    "print(f'[shapiro-wilk test] statistics= {s:.4f}, p-value= {pvalue:.4f} -> {\"H0기각\" if pvalue < 0.05 else \"H0채택\"}')\n",
    "\n",
    "s, pvalue = shapiro(df['after'])\n",
    "print(f'[shapiro-wilk test] statistics= {s:.4f}, p-value= {pvalue:.4f} -> {\"H0기각\" if pvalue < 0.05 else \"H0채택\"}')\n",
    "# 정규성을 가지지 않음 , 등분산성 가짐 -> 대응표본의 경우 등분산성이 파라미터에 영향을 주지않음, \n",
    "# 정규성을 가지지 않으므로 대응 표본 검정중 비모수 검정인 윌콕슨 부호순위 검정을 진행해야한다 (scipy.stats.wilcoxon)\n",
    "s, pvalue = bartlett(df['before'], df['before'])\n",
    "print(f'[Bartlett Test] statistics= {s:.4f}, p-value= {pvalue:.4f} -> {\"H0기각\" if pvalue < 0.05 else \"H0채택\"}')\n",
    "\n",
    "s, pvalue = levene(df['before'], df['before'], center='median')\n",
    "print(f'[Levene Test] statistics= {s:.4f}, p-value= {pvalue:.4f} -> {\"H0기각\" if pvalue < 0.05 else \"H0채택\"}')\n",
    "\n",
    "s, pvalue = fligner(df['before'], df['before'], center='mean')\n",
    "print(f'[Fligner Test] statistics= {s:.4f}, p-value= {pvalue:.4f} -> {\"H0기각\" if pvalue < 0.05 else \"H0채택\"}')\n",
    "\n",
    "# t-test의 경우 전후 변화에 대한 귀무가설을 기각되지만 윌콕슨 부호순위 검정을 통해서 확인해봤을때 귀무가설을 기각할 수 없다\n",
    "\n",
    "tvalue, pvalue = ttest_rel(df['after'], df['before'], alternative='two-sided')\n",
    "print(f'[Paired t-test] t-value= {tvalue:.4f}, p-value= {pvalue:.4f} -> {\"H0기각\" if pvalue < 0.05 else \"H0채택\"}')"
   ]
  },
  {
   "cell_type": "markdown",
   "metadata": {
    "ExecuteTime": {
     "end_time": "2022-02-24T16:33:58.492036Z",
     "start_time": "2022-02-24T16:33:58.488608Z"
    }
   },
   "source": [
    "```{admonition} Question \n",
    "**한 기계 부품의 rpm 수치를 두가지 다른 상황에서 측정했다.(총 70세트) b 상황이 a 상황보다 rpm값이 높다고 말할 수 있는지 검정하라**\n",
    "```"
   ]
  },
  {
   "cell_type": "code",
   "execution_count": 224,
   "metadata": {
    "tags": []
   },
   "outputs": [],
   "source": [
    "# !wget https://raw.githubusercontent.com/Datamanim/datarepo/main/scipy/rel4.csv"
   ]
  },
  {
   "cell_type": "code",
   "execution_count": 225,
   "metadata": {
    "ExecuteTime": {
     "end_time": "2022-02-25T20:02:41.615581Z",
     "start_time": "2022-02-25T20:02:41.456753Z"
    },
    "tags": []
   },
   "outputs": [
    {
     "data": {
      "image/png": "[encoded data removed]",
      "text/plain": [
       "<Figure size 640x480 with 2 Axes>"
      ]
     },
     "metadata": {},
     "output_type": "display_data"
    }
   ],
   "source": [
    "import pandas as pd \n",
    "import matplotlib.pyplot as plt\n",
    "df = pd.read_csv('https://raw.githubusercontent.com/Datamanim/datarepo/main/scipy/rel4.csv')\n",
    "\n",
    "fig ,ax = plt.subplots(1,2)\n",
    "ax[0].boxplot(df[df['group']=='a'].rpm)\n",
    "ax[1].boxplot(df[df['group']=='b'].rpm)\n",
    "ax[0].set_xticklabels(['a'])\n",
    "ax[1].set_xticklabels(['b'])\n",
    "ax[0].set_ylim(430,600)\n",
    "ax[1].set_ylim(430,600)\n",
    "ax[1].get_yaxis().set_visible(False)\n",
    "ax[0].set_ylabel('rpm')\n",
    "plt.show()"
   ]
  },
  {
   "cell_type": "code",
   "execution_count": 226,
   "metadata": {
    "tags": []
   },
   "outputs": [
    {
     "data": {
      "text/html": [
       "<div>\n",
       "<style scoped>\n",
       "    .dataframe tbody tr th:only-of-type {\n",
       "        vertical-align: middle;\n",
       "    }\n",
       "\n",
       "    .dataframe tbody tr th {\n",
       "        vertical-align: top;\n",
       "    }\n",
       "\n",
       "    .dataframe thead th {\n",
       "        text-align: right;\n",
       "    }\n",
       "</style>\n",
       "<table border=\"1\" class=\"dataframe\">\n",
       "  <thead>\n",
       "    <tr style=\"text-align: right;\">\n",
       "      <th></th>\n",
       "      <th>rpm</th>\n",
       "      <th>group</th>\n",
       "    </tr>\n",
       "  </thead>\n",
       "  <tbody>\n",
       "    <tr>\n",
       "      <th>0</th>\n",
       "      <td>474.551593</td>\n",
       "      <td>a</td>\n",
       "    </tr>\n",
       "    <tr>\n",
       "      <th>1</th>\n",
       "      <td>450.548420</td>\n",
       "      <td>a</td>\n",
       "    </tr>\n",
       "  </tbody>\n",
       "</table>\n",
       "</div>"
      ],
      "text/plain": [
       "          rpm group\n",
       "0  474.551593     a\n",
       "1  450.548420     a"
      ]
     },
     "execution_count": 226,
     "metadata": {},
     "output_type": "execute_result"
    }
   ],
   "source": [
    "df.head(2)"
   ]
  },
  {
   "cell_type": "code",
   "execution_count": 227,
   "metadata": {
    "tags": []
   },
   "outputs": [
    {
     "data": {
      "text/plain": [
       "rpm      0\n",
       "group    0\n",
       "dtype: int64"
      ]
     },
     "execution_count": 227,
     "metadata": {},
     "output_type": "execute_result"
    }
   ],
   "source": [
    "df.isna().sum()"
   ]
  },
  {
   "cell_type": "code",
   "execution_count": 231,
   "metadata": {
    "ExecuteTime": {
     "end_time": "2022-02-25T18:44:12.818488Z",
     "start_time": "2022-02-25T18:44:12.811432Z"
    },
    "tags": [
     "hide-cell"
    ]
   },
   "outputs": [
    {
     "name": "stdout",
     "output_type": "stream",
     "text": [
      "[shapiro-wilk test] statistics= 0.9907, p-value= 0.8884 -> H0채택\n",
      "[shapiro-wilk test] statistics= 0.9847, p-value= 0.5505 -> H0채택\n",
      "[Bartlett Test] statistics= 0.1589, p-value= 0.6902 -> H0채택\n",
      "[Levene Test] statistics= 0.0672, p-value= 0.7959 -> H0채택\n",
      "[Fligner Test] statistics= 0.0207, p-value= 0.8856 -> H0채택\n",
      "[Paired t-test] t-value= -1.9018, p-value= 0.9693 -> H0채택\n"
     ]
    }
   ],
   "source": [
    "rpms = [x for _, x in df.groupby('group')['rpm']]\n",
    "\n",
    "s, pvalue = shapiro(rpms[0])\n",
    "print(f'[shapiro-wilk test] statistics= {s:.4f}, p-value= {pvalue:.4f} -> {\"H0기각\" if pvalue < 0.05 else \"H0채택\"}')\n",
    "\n",
    "s, pvalue = shapiro(rpms[1])\n",
    "print(f'[shapiro-wilk test] statistics= {s:.4f}, p-value= {pvalue:.4f} -> {\"H0기각\" if pvalue < 0.05 else \"H0채택\"}')\n",
    "# 정규성을 가지지 않음 , 등분산성 가짐 -> 대응표본의 경우 등분산성이 파라미터에 영향을 주지않음, \n",
    "# 정규성을 가지지 않으므로 대응 표본 검정중 비모수 검정인 윌콕슨 부호순위 검정을 진행해야한다 (scipy.stats.wilcoxon)\n",
    "s, pvalue = bartlett(*rpms)\n",
    "print(f'[Bartlett Test] statistics= {s:.4f}, p-value= {pvalue:.4f} -> {\"H0기각\" if pvalue < 0.05 else \"H0채택\"}')\n",
    "\n",
    "s, pvalue = levene(*rpms, center='median')\n",
    "print(f'[Levene Test] statistics= {s:.4f}, p-value= {pvalue:.4f} -> {\"H0기각\" if pvalue < 0.05 else \"H0채택\"}')\n",
    "\n",
    "s, pvalue = fligner(*rpms, center='mean')\n",
    "print(f'[Fligner Test] statistics= {s:.4f}, p-value= {pvalue:.4f} -> {\"H0기각\" if pvalue < 0.05 else \"H0채택\"}')\n",
    "\n",
    "# t-test의 경우 전후 변화에 대한 귀무가설을 기각되지만 윌콕슨 부호순위 검정을 통해서 확인해봤을때 귀무가설을 기각할 수 없다\n",
    "\n",
    "tvalue, pvalue = ttest_rel(rpms[0], rpms[1], alternative='greater')\n",
    "print(f'[Paired t-test] t-value= {tvalue:.4f}, p-value= {pvalue:.4f} -> {\"H0기각\" if pvalue < 0.05 else \"H0채택\"}')"
   ]
  },
  {
   "cell_type": "markdown",
   "metadata": {},
   "source": [
    "## 카이제곱 검정 (교차분석) \n",
    "`일원 카이제곱검정 (chisquare , 카이제곱 적합도 검정)`       \n",
    "한 개의 요인에 의해 k개의 범주를 가질때 이론적 분포를 따르는지 검정    \n",
    "`이원 카이제곱검정 (chi2_contingency ,fisher_exact(빈도수 5개 이하 셀이 20% 이상일때) , 카이제곱독립검정)`     \n",
    "모집단이 두개의 변수에 의해 범주화 되었을 때, 두 변수들 사이의 관계가 독립인지 아닌지 검정 "
   ]
  },
  {
   "cell_type": "markdown",
   "metadata": {
    "ExecuteTime": {
     "end_time": "2022-02-24T16:33:58.492036Z",
     "start_time": "2022-02-24T16:33:58.488608Z"
    }
   },
   "source": [
    "```{admonition} Question \n",
    "**144회 주사위를 던졌을때, 각 눈금별로 나온 횟수를 나타낸다. 이 데이터는 주사위의 분포에서 나올 가능성이 있는지 검정하라**\n",
    "```"
   ]
  },
  {
   "cell_type": "code",
   "execution_count": 232,
   "metadata": {
    "tags": []
   },
   "outputs": [],
   "source": [
    "# !wget https://raw.githubusercontent.com/Datamanim/datarepo/main/scipy/dice.csv"
   ]
  },
  {
   "cell_type": "code",
   "execution_count": 233,
   "metadata": {
    "ExecuteTime": {
     "end_time": "2022-02-28T11:57:17.606120Z",
     "start_time": "2022-02-28T11:57:17.166963Z"
    },
    "tags": []
   },
   "outputs": [
    {
     "data": {
      "image/png": "[encoded data removed]",
      "text/plain": [
       "<Figure size 640x480 with 1 Axes>"
      ]
     },
     "metadata": {},
     "output_type": "display_data"
    }
   ],
   "source": [
    "import pandas as pd \n",
    "import matplotlib.pyplot as plt\n",
    "df = pd.read_csv('https://raw.githubusercontent.com/Datamanim/datarepo/main/scipy/dice.csv')\n",
    "\n",
    "plt.bar(df.dice_number,df.counts)\n",
    "plt.xlabel('dice value')\n",
    "plt.ylabel('counts')\n",
    "plt.show()"
   ]
  },
  {
   "cell_type": "code",
   "execution_count": 237,
   "metadata": {
    "tags": []
   },
   "outputs": [
    {
     "data": {
      "text/html": [
       "<div>\n",
       "<style scoped>\n",
       "    .dataframe tbody tr th:only-of-type {\n",
       "        vertical-align: middle;\n",
       "    }\n",
       "\n",
       "    .dataframe tbody tr th {\n",
       "        vertical-align: top;\n",
       "    }\n",
       "\n",
       "    .dataframe thead th {\n",
       "        text-align: right;\n",
       "    }\n",
       "</style>\n",
       "<table border=\"1\" class=\"dataframe\">\n",
       "  <thead>\n",
       "    <tr style=\"text-align: right;\">\n",
       "      <th></th>\n",
       "      <th>dice_number</th>\n",
       "      <th>counts</th>\n",
       "    </tr>\n",
       "  </thead>\n",
       "  <tbody>\n",
       "    <tr>\n",
       "      <th>0</th>\n",
       "      <td>1</td>\n",
       "      <td>24</td>\n",
       "    </tr>\n",
       "    <tr>\n",
       "      <th>1</th>\n",
       "      <td>2</td>\n",
       "      <td>20</td>\n",
       "    </tr>\n",
       "    <tr>\n",
       "      <th>2</th>\n",
       "      <td>3</td>\n",
       "      <td>28</td>\n",
       "    </tr>\n",
       "    <tr>\n",
       "      <th>3</th>\n",
       "      <td>4</td>\n",
       "      <td>22</td>\n",
       "    </tr>\n",
       "    <tr>\n",
       "      <th>4</th>\n",
       "      <td>5</td>\n",
       "      <td>28</td>\n",
       "    </tr>\n",
       "    <tr>\n",
       "      <th>5</th>\n",
       "      <td>6</td>\n",
       "      <td>22</td>\n",
       "    </tr>\n",
       "  </tbody>\n",
       "</table>\n",
       "</div>"
      ],
      "text/plain": [
       "   dice_number  counts\n",
       "0            1      24\n",
       "1            2      20\n",
       "2            3      28\n",
       "3            4      22\n",
       "4            5      28\n",
       "5            6      22"
      ]
     },
     "execution_count": 237,
     "metadata": {},
     "output_type": "execute_result"
    }
   ],
   "source": [
    "df"
   ]
  },
  {
   "cell_type": "code",
   "execution_count": 236,
   "metadata": {
    "tags": []
   },
   "outputs": [
    {
     "data": {
      "text/plain": [
       "dice_number    0\n",
       "counts         0\n",
       "dtype: int64"
      ]
     },
     "execution_count": 236,
     "metadata": {},
     "output_type": "execute_result"
    }
   ],
   "source": [
    "df.isna().sum()"
   ]
  },
  {
   "cell_type": "code",
   "execution_count": 258,
   "metadata": {
    "tags": []
   },
   "outputs": [
    {
     "data": {
      "text/plain": [
       "[6.0, 6.0, 6.0]"
      ]
     },
     "execution_count": 258,
     "metadata": {},
     "output_type": "execute_result"
    }
   ],
   "source": [
    "a = np.array([1,2,3])\n",
    "[6/1] * len(a)"
   ]
  },
  {
   "cell_type": "code",
   "execution_count": 273,
   "metadata": {
    "ExecuteTime": {
     "end_time": "2022-02-28T11:57:17.611990Z",
     "start_time": "2022-02-28T11:57:17.607957Z"
    },
    "tags": [
     "hide-cell"
    ]
   },
   "outputs": [
    {
     "name": "stdout",
     "output_type": "stream",
     "text": [
      "[𝓧² 적합도] statistics= 2.3333, p-value= 0.8014 -> H0채택\n"
     ]
    }
   ],
   "source": [
    "import numpy as np\n",
    "\n",
    "observed = df['counts'].to_numpy()\n",
    "expected = np.array([1/6] * len(observed)) * sum(observed)\n",
    "\n",
    "s, pvalue = chisquare(f_obs=observed, f_exp=expected)\n",
    "print(f'[𝓧² 적합도] statistics= {s:.4f}, p-value= {pvalue:.4f} -> {\"H0기각\" if pvalue < 0.05 else \"H0채택\"}')\n",
    "# p-value는 0.8로 귀무가설인 \"각 주사위 눈금 발생비율은 동일함\"을 기각 할 수 없다 "
   ]
  },
  {
   "cell_type": "markdown",
   "metadata": {
    "ExecuteTime": {
     "end_time": "2022-02-24T16:33:58.492036Z",
     "start_time": "2022-02-24T16:33:58.488608Z"
    }
   },
   "source": [
    "```{admonition} Question \n",
    "**다음 데이터는 어떤 집단의 왼손잡이, 오른손 잡이의 숫자를 나타낸다. 인간의 왼손잡이와 오른손잡이의 비율을 0.2:0.8로 알려져있다.     \n",
    "이 집단에서 왼손과 오른손 잡이의 비율이 적합한지 검정하라**\n",
    "```"
   ]
  },
  {
   "cell_type": "code",
   "execution_count": 274,
   "metadata": {
    "tags": []
   },
   "outputs": [],
   "source": [
    "# !wget https://raw.githubusercontent.com/Datamanim/datarepo/main/scipy/dice.csv"
   ]
  },
  {
   "cell_type": "code",
   "execution_count": 275,
   "metadata": {
    "ExecuteTime": {
     "end_time": "2022-02-28T11:59:52.395754Z",
     "start_time": "2022-02-28T11:59:51.907352Z"
    },
    "tags": []
   },
   "outputs": [
    {
     "data": {
      "text/html": [
       "<div>\n",
       "<style scoped>\n",
       "    .dataframe tbody tr th:only-of-type {\n",
       "        vertical-align: middle;\n",
       "    }\n",
       "\n",
       "    .dataframe tbody tr th {\n",
       "        vertical-align: top;\n",
       "    }\n",
       "\n",
       "    .dataframe thead th {\n",
       "        text-align: right;\n",
       "    }\n",
       "</style>\n",
       "<table border=\"1\" class=\"dataframe\">\n",
       "  <thead>\n",
       "    <tr style=\"text-align: right;\">\n",
       "      <th></th>\n",
       "      <th>hands</th>\n",
       "    </tr>\n",
       "  </thead>\n",
       "  <tbody>\n",
       "    <tr>\n",
       "      <th>0</th>\n",
       "      <td>right</td>\n",
       "    </tr>\n",
       "    <tr>\n",
       "      <th>1</th>\n",
       "      <td>right</td>\n",
       "    </tr>\n",
       "    <tr>\n",
       "      <th>2</th>\n",
       "      <td>left</td>\n",
       "    </tr>\n",
       "    <tr>\n",
       "      <th>3</th>\n",
       "      <td>right</td>\n",
       "    </tr>\n",
       "    <tr>\n",
       "      <th>4</th>\n",
       "      <td>right</td>\n",
       "    </tr>\n",
       "  </tbody>\n",
       "</table>\n",
       "</div>"
      ],
      "text/plain": [
       "   hands\n",
       "0  right\n",
       "1  right\n",
       "2   left\n",
       "3  right\n",
       "4  right"
      ]
     },
     "execution_count": 275,
     "metadata": {},
     "output_type": "execute_result"
    }
   ],
   "source": [
    "import pandas as pd \n",
    "import matplotlib.pyplot as plt\n",
    "df = pd.read_csv('https://raw.githubusercontent.com/Datamanim/datarepo/main/scipy/hands2.csv')\n",
    "df.head()"
   ]
  },
  {
   "cell_type": "code",
   "execution_count": 276,
   "metadata": {
    "ExecuteTime": {
     "end_time": "2022-02-28T11:57:17.611990Z",
     "start_time": "2022-02-28T11:57:17.607957Z"
    },
    "tags": [
     "hide-cell"
    ]
   },
   "outputs": [],
   "source": [
    "# 데이터에서 \n",
    "# 알려진 비율로 계산된 기댓값을 구하여 카이제곱검정을 시행한다.\n",
    "# p-value는 0.02로 유의수준 5%이내에서 귀무가설을 기각하고 대립가설을 채택한다\n",
    "# 즉 주어진 집단의 왼손, 오른손 비율은 0.2, 0.8으로 볼 수 없다"
   ]
  },
  {
   "cell_type": "code",
   "execution_count": 307,
   "metadata": {
    "tags": []
   },
   "outputs": [
    {
     "name": "stdout",
     "output_type": "stream",
     "text": [
      "[𝓧² 적합도] statistics= 5.0000, p-value= 0.0253 -> H0기각\n"
     ]
    }
   ],
   "source": [
    "data = pd.DataFrame()\n",
    "data['observed'] = df.groupby('hands').size()\n",
    "data['expected'] = data['observed'].sum() * pd.Series([0.2, 0.8], index=['left', 'right'])\n",
    "\n",
    "s, pvalue = chisquare(f_obs=data['observed'], f_exp=data['expected'], axis=0)\n",
    "print(f'[𝓧² 적합도] statistics= {s:.4f}, p-value= {pvalue:.4f} -> {\"H0기각\" if pvalue < 0.05 else \"H0채택\"}')\n",
    "# sO, sE"
   ]
  },
  {
   "cell_type": "markdown",
   "metadata": {
    "ExecuteTime": {
     "end_time": "2022-02-24T16:33:58.492036Z",
     "start_time": "2022-02-24T16:33:58.488608Z"
    }
   },
   "source": [
    "```{admonition} Question \n",
    "**다음 데이터는 국민 기초체력을 조사한 데이터이다. 성별과 등급이 독립적인지 검정하라**\n",
    "```"
   ]
  },
  {
   "cell_type": "code",
   "execution_count": 308,
   "metadata": {
    "tags": []
   },
   "outputs": [],
   "source": [
    "# !wget https://raw.githubusercontent.com/Datamanim/datarepo/main/body/body.csv"
   ]
  },
  {
   "cell_type": "code",
   "execution_count": 309,
   "metadata": {
    "ExecuteTime": {
     "end_time": "2022-02-28T12:21:15.589004Z",
     "start_time": "2022-02-28T12:21:15.123799Z"
    },
    "tags": []
   },
   "outputs": [
    {
     "data": {
      "text/html": [
       "<div>\n",
       "<style scoped>\n",
       "    .dataframe tbody tr th:only-of-type {\n",
       "        vertical-align: middle;\n",
       "    }\n",
       "\n",
       "    .dataframe tbody tr th {\n",
       "        vertical-align: top;\n",
       "    }\n",
       "\n",
       "    .dataframe thead th {\n",
       "        text-align: right;\n",
       "    }\n",
       "</style>\n",
       "<table border=\"1\" class=\"dataframe\">\n",
       "  <thead>\n",
       "    <tr style=\"text-align: right;\">\n",
       "      <th></th>\n",
       "      <th>측정나이</th>\n",
       "      <th>측정회원성별</th>\n",
       "      <th>신장 : cm</th>\n",
       "      <th>체중 : kg</th>\n",
       "      <th>체지방율 : %</th>\n",
       "      <th>이완기혈압(최저) : mmHg</th>\n",
       "      <th>수축기혈압(최고) : mmHg</th>\n",
       "      <th>악력D : kg</th>\n",
       "      <th>앉아윗몸앞으로굽히기 : cm</th>\n",
       "      <th>교차윗몸일으키기 : 회</th>\n",
       "      <th>제자리 멀리뛰기 : cm</th>\n",
       "      <th>등급</th>\n",
       "    </tr>\n",
       "  </thead>\n",
       "  <tbody>\n",
       "    <tr>\n",
       "      <th>0</th>\n",
       "      <td>59.0</td>\n",
       "      <td>M</td>\n",
       "      <td>175.0</td>\n",
       "      <td>70.6</td>\n",
       "      <td>19.2</td>\n",
       "      <td>91.0</td>\n",
       "      <td>150.0</td>\n",
       "      <td>40.6</td>\n",
       "      <td>12.2</td>\n",
       "      <td>30.0</td>\n",
       "      <td>179.0</td>\n",
       "      <td>C</td>\n",
       "    </tr>\n",
       "    <tr>\n",
       "      <th>1</th>\n",
       "      <td>40.0</td>\n",
       "      <td>F</td>\n",
       "      <td>161.4</td>\n",
       "      <td>45.8</td>\n",
       "      <td>21.7</td>\n",
       "      <td>62.0</td>\n",
       "      <td>119.0</td>\n",
       "      <td>22.1</td>\n",
       "      <td>16.0</td>\n",
       "      <td>32.0</td>\n",
       "      <td>165.0</td>\n",
       "      <td>B</td>\n",
       "    </tr>\n",
       "    <tr>\n",
       "      <th>2</th>\n",
       "      <td>27.0</td>\n",
       "      <td>M</td>\n",
       "      <td>176.6</td>\n",
       "      <td>84.8</td>\n",
       "      <td>19.2</td>\n",
       "      <td>87.0</td>\n",
       "      <td>153.0</td>\n",
       "      <td>45.9</td>\n",
       "      <td>13.2</td>\n",
       "      <td>61.0</td>\n",
       "      <td>216.0</td>\n",
       "      <td>B</td>\n",
       "    </tr>\n",
       "    <tr>\n",
       "      <th>3</th>\n",
       "      <td>38.0</td>\n",
       "      <td>M</td>\n",
       "      <td>167.6</td>\n",
       "      <td>76.7</td>\n",
       "      <td>24.7</td>\n",
       "      <td>63.0</td>\n",
       "      <td>132.0</td>\n",
       "      <td>43.6</td>\n",
       "      <td>16.0</td>\n",
       "      <td>45.0</td>\n",
       "      <td>231.0</td>\n",
       "      <td>A</td>\n",
       "    </tr>\n",
       "    <tr>\n",
       "      <th>4</th>\n",
       "      <td>21.0</td>\n",
       "      <td>M</td>\n",
       "      <td>165.2</td>\n",
       "      <td>66.2</td>\n",
       "      <td>21.5</td>\n",
       "      <td>83.0</td>\n",
       "      <td>106.0</td>\n",
       "      <td>33.5</td>\n",
       "      <td>10.6</td>\n",
       "      <td>46.0</td>\n",
       "      <td>198.0</td>\n",
       "      <td>C</td>\n",
       "    </tr>\n",
       "  </tbody>\n",
       "</table>\n",
       "</div>"
      ],
      "text/plain": [
       "   측정나이 측정회원성별  신장 : cm  체중 : kg  체지방율 : %  이완기혈압(최저) : mmHg  \\\n",
       "0  59.0      M    175.0     70.6      19.2              91.0   \n",
       "1  40.0      F    161.4     45.8      21.7              62.0   \n",
       "2  27.0      M    176.6     84.8      19.2              87.0   \n",
       "3  38.0      M    167.6     76.7      24.7              63.0   \n",
       "4  21.0      M    165.2     66.2      21.5              83.0   \n",
       "\n",
       "   수축기혈압(최고) : mmHg  악력D : kg  앉아윗몸앞으로굽히기 : cm  교차윗몸일으키기 : 회  제자리 멀리뛰기 : cm 등급  \n",
       "0             150.0      40.6             12.2          30.0          179.0  C  \n",
       "1             119.0      22.1             16.0          32.0          165.0  B  \n",
       "2             153.0      45.9             13.2          61.0          216.0  B  \n",
       "3             132.0      43.6             16.0          45.0          231.0  A  \n",
       "4             106.0      33.5             10.6          46.0          198.0  C  "
      ]
     },
     "execution_count": 309,
     "metadata": {},
     "output_type": "execute_result"
    }
   ],
   "source": [
    "import pandas as pd \n",
    "import matplotlib.pyplot as plt\n",
    "df = pd.read_csv('https://raw.githubusercontent.com/Datamanim/datarepo/main/body/body.csv')\n",
    "df.head()"
   ]
  },
  {
   "cell_type": "code",
   "execution_count": 324,
   "metadata": {
    "tags": []
   },
   "outputs": [
    {
     "data": {
      "text/html": [
       "<div>\n",
       "<style scoped>\n",
       "    .dataframe tbody tr th:only-of-type {\n",
       "        vertical-align: middle;\n",
       "    }\n",
       "\n",
       "    .dataframe tbody tr th {\n",
       "        vertical-align: top;\n",
       "    }\n",
       "\n",
       "    .dataframe thead th {\n",
       "        text-align: right;\n",
       "    }\n",
       "</style>\n",
       "<table border=\"1\" class=\"dataframe\">\n",
       "  <thead>\n",
       "    <tr style=\"text-align: right;\">\n",
       "      <th>등급</th>\n",
       "      <th>A</th>\n",
       "      <th>B</th>\n",
       "      <th>C</th>\n",
       "      <th>D</th>\n",
       "    </tr>\n",
       "    <tr>\n",
       "      <th>측정회원성별</th>\n",
       "      <th></th>\n",
       "      <th></th>\n",
       "      <th></th>\n",
       "      <th></th>\n",
       "    </tr>\n",
       "  </thead>\n",
       "  <tbody>\n",
       "    <tr>\n",
       "      <th>F</th>\n",
       "      <td>1484</td>\n",
       "      <td>1130</td>\n",
       "      <td>1147</td>\n",
       "      <td>1120</td>\n",
       "    </tr>\n",
       "    <tr>\n",
       "      <th>M</th>\n",
       "      <td>1865</td>\n",
       "      <td>2219</td>\n",
       "      <td>2202</td>\n",
       "      <td>2229</td>\n",
       "    </tr>\n",
       "  </tbody>\n",
       "</table>\n",
       "</div>"
      ],
      "text/plain": [
       "등급         A     B     C     D\n",
       "측정회원성별                        \n",
       "F       1484  1130  1147  1120\n",
       "M       1865  2219  2202  2229"
      ]
     },
     "execution_count": 324,
     "metadata": {},
     "output_type": "execute_result"
    }
   ],
   "source": [
    "observed = df.pivot_table(index='측정회원성별', columns='등급', values='측정나이', aggfunc='count')\n",
    "observed"
   ]
  },
  {
   "cell_type": "markdown",
   "metadata": {},
   "source": [
    "```\n",
    "등급\tA\tB\tC\tD\n",
    "측정회원성별\t\t\t\t\n",
    "F\t1484\t1130\t1147\t1120\n",
    "M\t1865\t2219\t2202\t2229\n",
    "````"
   ]
  },
  {
   "cell_type": "code",
   "execution_count": 328,
   "metadata": {
    "ExecuteTime": {
     "end_time": "2022-02-28T11:57:17.611990Z",
     "start_time": "2022-02-28T11:57:17.607957Z"
    },
    "tags": [
     "hide-cell"
    ]
   },
   "outputs": [
    {
     "name": "stdout",
     "output_type": "stream",
     "text": [
      "[𝓧² 독립성/동질성] statistics= 120.0623, p-value= 0.0000 -> H0기각\n",
      "[𝓧² 독립성/동질성] Expected: \n",
      "등급            A        B        C        D\n",
      "측정회원성별                                    \n",
      "F       1220.25  1220.25  1220.25  1220.25\n",
      "M       2128.75  2128.75  2128.75  2128.75\n",
      "[𝓧² 독립성/동질성] Observed: \n",
      "등급         A     B     C     D\n",
      "측정회원성별                        \n",
      "F       1484  1130  1147  1120\n",
      "M       1865  2219  2202  2229\n"
     ]
    }
   ],
   "source": [
    "s, pvalue, dof, expected = chi2_contingency(observed)\n",
    "print(f'[𝓧² 독립성/동질성] statistics= {s:.4f}, p-value= {pvalue:.4f} -> {\"H0기각\" if pvalue < 0.05 else \"H0채택\"}')\n",
    "print('[𝓧² 독립성/동질성] Expected: ', pd.DataFrame(expected, index=observed.index, columns=observed.columns), sep='\\n')\n",
    "print('[𝓧² 독립성/동질성] Observed: ', observed, sep='\\n')\n",
    "# p-value는 0에 근접하므로 측정회원성별 - 등급은 연관이 없다는 귀무가설을 기각하고, 성별관 체력 등급간에는 관련이 있다고 볼 수 있다."
   ]
  },
  {
   "cell_type": "markdown",
   "metadata": {
    "ExecuteTime": {
     "end_time": "2022-02-24T16:33:58.492036Z",
     "start_time": "2022-02-24T16:33:58.488608Z"
    }
   },
   "source": [
    "```{admonition} Question \n",
    "**성별에 따른 동아리 활동 참석 비율을 나타낸 데이터이다. 성별과 참석간에 관련이 있는지 검정하라**\n",
    "```"
   ]
  },
  {
   "cell_type": "code",
   "execution_count": 330,
   "metadata": {
    "tags": []
   },
   "outputs": [],
   "source": [
    "# !wget https://raw.githubusercontent.com/Datamanim/datarepo/main/scipy/fe2.csv"
   ]
  },
  {
   "cell_type": "code",
   "execution_count": 331,
   "metadata": {
    "ExecuteTime": {
     "end_time": "2022-02-28T12:35:57.099045Z",
     "start_time": "2022-02-28T12:35:57.063404Z"
    },
    "tags": []
   },
   "outputs": [
    {
     "data": {
      "text/html": [
       "<div>\n",
       "<style scoped>\n",
       "    .dataframe tbody tr th:only-of-type {\n",
       "        vertical-align: middle;\n",
       "    }\n",
       "\n",
       "    .dataframe tbody tr th {\n",
       "        vertical-align: top;\n",
       "    }\n",
       "\n",
       "    .dataframe thead th {\n",
       "        text-align: right;\n",
       "    }\n",
       "</style>\n",
       "<table border=\"1\" class=\"dataframe\">\n",
       "  <thead>\n",
       "    <tr style=\"text-align: right;\">\n",
       "      <th></th>\n",
       "      <th>불참</th>\n",
       "      <th>참석</th>\n",
       "      <th>총합</th>\n",
       "    </tr>\n",
       "  </thead>\n",
       "  <tbody>\n",
       "    <tr>\n",
       "      <th>남성</th>\n",
       "      <td>4</td>\n",
       "      <td>2</td>\n",
       "      <td>6</td>\n",
       "    </tr>\n",
       "    <tr>\n",
       "      <th>여성</th>\n",
       "      <td>1</td>\n",
       "      <td>9</td>\n",
       "      <td>10</td>\n",
       "    </tr>\n",
       "    <tr>\n",
       "      <th>총합</th>\n",
       "      <td>5</td>\n",
       "      <td>11</td>\n",
       "      <td>16</td>\n",
       "    </tr>\n",
       "  </tbody>\n",
       "</table>\n",
       "</div>"
      ],
      "text/plain": [
       "    불참  참석  총합\n",
       "남성   4   2   6\n",
       "여성   1   9  10\n",
       "총합   5  11  16"
      ]
     },
     "execution_count": 331,
     "metadata": {},
     "output_type": "execute_result"
    }
   ],
   "source": [
    "import pandas as pd \n",
    "import matplotlib.pyplot as plt\n",
    "df = pd.read_csv('https://raw.githubusercontent.com/Datamanim/datarepo/main/scipy/fe2.csv',index_col=0)\n",
    "df"
   ]
  },
  {
   "cell_type": "code",
   "execution_count": 336,
   "metadata": {
    "ExecuteTime": {
     "end_time": "2022-02-28T12:39:29.509049Z",
     "start_time": "2022-02-28T12:39:29.498500Z"
    },
    "tags": [
     "hide-cell"
    ]
   },
   "outputs": [
    {
     "name": "stdout",
     "output_type": "stream",
     "text": [
      "[Fisher's Exact] statistics= 18.0000, p-value= 0.2307 -> H0채택\n"
     ]
    }
   ],
   "source": [
    "data = df.drop(columns=['총합'], index=['총합'])\n",
    "s, pvlaue = fisher_exact(data)\n",
    "print(f'[Fisher\\'s Exact] statistics= {s:.4f}, p-value= {pvalue:.4f} -> {\"H0기각\" if pvalue < 0.05 else \"H0채택\"}')\n",
    "# 카이 제곱 검정시 p-value는 0.07로 귀무가설을 기각하지 못한다. 성별과 참석여부는 관련이 없다(독립이다).\n",
    "\n",
    "# 하지만 5보다 작은 셀이 20%가 넘어가므로(75%) 피셔의 정확검정을 사용 해야한다.\n",
    "# 피셔의 정확검정시 0.03의 값을 가지므로 귀무가설을 기각한다. 성별과 참석여부는 관련이 있다. (독립이 아니다)) \n",
    "# print(fisher_exact(cdf))"
   ]
  }
 ],
 "metadata": {
  "celltoolbar": "Edit Metadata",
  "kernelspec": {
   "display_name": "Python 3 (ipykernel)",
   "language": "python",
   "name": "python3"
  },
  "language_info": {
   "codemirror_mode": {
    "name": "ipython",
    "version": 3
   },
   "file_extension": ".py",
   "mimetype": "text/x-python",
   "name": "python",
   "nbconvert_exporter": "python",
   "pygments_lexer": "ipython3",
   "version": "3.8.16"
  }
 },
 "nbformat": 4,
 "nbformat_minor": 4
}
