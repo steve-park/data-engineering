{
 "cells": [
  {
   "cell_type": "markdown",
   "id": "7b2319e4",
   "metadata": {},
   "source": [
    "# 작업 2유형 (파이썬)"
   ]
  },
  {
   "cell_type": "markdown",
   "id": "1d72a16e",
   "metadata": {},
   "source": [
    "[![Hits](https://hits.seeyoufarm.com/api/count/incr/badge.svg?url=https%3A%2F%2Fwww.datamanim.com%2Fdataset%2F03_dataq%2Ftypetwo.html&count_bg=%238921C0&title_bg=%23555555&icon=&icon_color=%23E7E7E7&title=hits&edge_flat=false)](https://hits.seeyoufarm.com)"
   ]
  },
  {
   "cell_type": "markdown",
   "id": "28261f66",
   "metadata": {},
   "source": [
    "### 홈페이지 서버가 자주 터져요 ㅠ 광고 클릭 한번이 유지보수에 큰 도움이 됩니다,,,"
   ]
  },
  {
   "cell_type": "markdown",
   "id": "497ea0a3",
   "metadata": {},
   "source": [
    "```{admonition} 참고\n",
    "**모든 문제의 y_test값은 해당 url에서 y_test로 불러와 확인가능합니다. 실제로 제출을 위해 만든 데이터의 예측 점수를 확인해보세요**\n",
    "```  "
   ]
  },
  {
   "cell_type": "markdown",
   "id": "2e51c9d2",
   "metadata": {},
   "source": [
    "## 분류"
   ]
  },
  {
   "cell_type": "markdown",
   "id": "366bd564-f07f-4d62-af80-6ab7e81c50a1",
   "metadata": {},
   "source": [
    "### 분류 모델을 위한 공통 함수"
   ]
  },
  {
   "cell_type": "code",
   "execution_count": 27,
   "id": "803354f5-d2d4-49a1-a834-392da2783588",
   "metadata": {
    "tags": []
   },
   "outputs": [],
   "source": [
    "import pandas as pd\n",
    "\n",
    "from sklearn.preprocessing import MinMaxScaler, StandardScaler, LabelEncoder\n",
    "from sklearn.model_selection import train_test_split, GridSearchCV\n",
    "\n",
    "from sklearn.linear_model import LogisticRegression\n",
    "from sklearn.neighbors import KNeighborsClassifier\n",
    "from sklearn.tree import DecisionTreeClassifier\n",
    "from sklearn.ensemble import RandomForestClassifier\n",
    "from xgboost import XGBClassifier\n",
    "\n",
    "from sklearn.metrics import roc_auc_score, accuracy_score, precision_score, recall_score, f1_score\n",
    "from sklearn.metrics import confusion_matrix"
   ]
  },
  {
   "cell_type": "code",
   "execution_count": 28,
   "id": "9ad1f04b-5f04-4090-bcf0-5ccd713877fa",
   "metadata": {
    "tags": []
   },
   "outputs": [],
   "source": [
    "pd.options.display.max_rows = 2000\n",
    "pd.options.display.max_columns = 25\n",
    "pd.options.display.float_format = '{:,.4f}'.format"
   ]
  },
  {
   "cell_type": "code",
   "execution_count": 53,
   "id": "dad20bb1-a4c6-4eff-a100-06c8f023de98",
   "metadata": {
    "tags": []
   },
   "outputs": [],
   "source": [
    "def get_classification_model_score(model, xtrain, xtest, ytrain, ytest, is_binary_model=True):\n",
    "    A1 = model.score(xtrain, ytrain)\n",
    "    A2 = model.score(xtest, ytest)\n",
    "    \n",
    "    if is_binary_model:\n",
    "        ypred = model.predict_proba(xtest)[:,1]\n",
    "        B = roc_auc_score(ytest, ypred)\n",
    "        \n",
    "        scores = pd.Series([A1, A2, B], index='Train_Accuracy Test_Accuracy ROC_AUC'.split())\n",
    "    else: \n",
    "        ypred = model.predict(xtest)\n",
    "        C1 = accuracy_score(ytest, ypred)\n",
    "        C2 = precision_score(ytest, ypred, average='weighted')\n",
    "        C3 = recall_score(ytest, ypred, average='weighted')\n",
    "        C4 = f1_score(ytest, ypred, average='weighted')\n",
    "        \n",
    "        scores = pd.Series([A1, A2, C1, C2, C3, C4], index='Train_Accuracy Test_Accuracy Accuracy Precision Recall F1'.split())\n",
    "    \n",
    "    return scores    "
   ]
  },
  {
   "cell_type": "code",
   "execution_count": 30,
   "id": "22560b43-effe-4bf0-a22f-3bf8781255fd",
   "metadata": {
    "tags": []
   },
   "outputs": [],
   "source": [
    "def compare_classification_model(xtrain, xtest, ytrain, ytest, is_binary_model=True):\n",
    "    result = pd.DataFrame()\n",
    "    \n",
    "    if is_binary_model:\n",
    "        model = LogisticRegression(max_iter=5000, random_state=1234).fit(xtrain, ytrain)\n",
    "        result[f'{model.__class__.__name__}'] = \\\n",
    "            get_classification_model_score(model, xtrain, xtest, ytrain, ytest, is_binary_model=is_binary_model)\n",
    "        \n",
    "        # for i in range(100, 901, 100):\n",
    "        #     model = LogisticRegression(max_iter=i, random_state=1234).fit(xtrain, ytrain)\n",
    "        #     result[f'{model.__class__.__name__}_{i}'] = \\\n",
    "        #         get_classification_model_score(model, xtrain, xtest, ytrain, ytest, is_binary_model=is_binary_model)\n",
    "        \n",
    "    model = KNeighborsClassifier().fit(xtrain, ytrain)\n",
    "    result[f'{model.__class__.__name__}'] = \\\n",
    "        get_classification_model_score(model, xtrain, xtest, ytrain, ytest, is_binary_model=is_binary_model)\n",
    "    \n",
    "    # for n in range(1,10):\n",
    "    #     model = KNeighborsClassifier(n_neighbors=n).fit(xtrain, ytrain)\n",
    "    #     result[f'{model.__class__.__name__}_{n}'] = \\\n",
    "    #         get_classification_model_score(model, xtrain, xtest, ytrain, ytest, is_binary_model=is_binary_model)        \n",
    "\n",
    "    model = DecisionTreeClassifier(random_state=1234).fit(xtrain, ytrain)\n",
    "    result[f'{model.__class__.__name__}'] = \\\n",
    "        get_classification_model_score(model, xtrain, xtest, ytrain, ytest, is_binary_model=is_binary_model)\n",
    "\n",
    "    model = RandomForestClassifier(random_state=1234).fit(xtrain, ytrain)\n",
    "    result[f'{model.__class__.__name__}'] = \\\n",
    "        get_classification_model_score(model, xtrain, xtest, ytrain, ytest, is_binary_model=is_binary_model)\n",
    "    \n",
    "    # for d in range(1,10):\n",
    "    #     model = RandomForestClassifier(max_depth=d, random_state=1234).fit(xtrain, ytrain)\n",
    "    #     result[f'{model.__class__.__name__}_{d}'] = \\\n",
    "    #         get_classification_model_score(model, xtrain, xtest, ytrain, ytest, is_binary_model=is_binary_model)    \n",
    "    \n",
    "    # params = {'n_estimators': range(100, 501, 100), \\\n",
    "    #           'criterion': ['gini', 'entropy'], \\\n",
    "    #           'max_depth': range(1,9) }\n",
    "    # model = GridSearchCV(RandomForestClassifier(random_state=1234), params).fit(xtrain, ytrain).best_estimator_\n",
    "    # print(model.get_params())\n",
    "    # result[f'{model.__class__.__name__}'] = \\\n",
    "    #     get_classification_model_score(model, xtrain, xtest, ytrain, ytest, is_binary_model=is_binary_model)   \n",
    "    \n",
    "    model = XGBClassifier().fit(xtrain, ytrain)\n",
    "    result[f'{model.__class__.__name__}'] = \\\n",
    "        get_classification_model_score(model, xtrain, xtest, ytrain, ytest, is_binary_model=is_binary_model)\n",
    "\n",
    "    result = result.T\n",
    "    result.insert(loc=2, column='DIFF', value=(result['Train_Accuracy'] - result['Test_Accuracy']).abs())\n",
    "    \n",
    "    return result"
   ]
  },
  {
   "cell_type": "code",
   "execution_count": 31,
   "id": "e139646d-7361-434f-a4f0-b61703839584",
   "metadata": {
    "tags": []
   },
   "outputs": [],
   "source": [
    "def get_classification_model_data(dfX, Y, train_size, x_features, y_feature, is_normalized=False):\n",
    "    X_temp = dfX[x_features]\n",
    "    \n",
    "    if is_normalized:\n",
    "        X_temp = MinMaxScaler().fit_transform(X_temp)\n",
    "    \n",
    "    XF = X_temp[:train_size]\n",
    "    YF = Y[y_feature]\n",
    "    X_submissionF = X_temp[train_size:]\n",
    "    \n",
    "    return XF, X_submissionF, YF"
   ]
  },
  {
   "cell_type": "markdown",
   "id": "2b31d3db",
   "metadata": {
    "toc-hr-collapsed": true
   },
   "source": [
    "### 서비스 이탈예측 데이터"
   ]
  },
  {
   "cell_type": "markdown",
   "id": "fe53e6a7",
   "metadata": {},
   "source": [
    "```{attention}  \n",
    "데이터 설명 :  고객의 신상정보 데이터를 통한 회사 서비스 이탈 예측 (종속변수 : Exited)     \n",
    "x_train :  https://raw.githubusercontent.com/Datamanim/datarepo/main/churnk/X_train.csv     \n",
    "y_train :  https://raw.githubusercontent.com/Datamanim/datarepo/main/churnk/y_train.csv     \n",
    "x_test :  https://raw.githubusercontent.com/Datamanim/datarepo/main/churnk/X_test.csv          \n",
    "x_label(평가용) : https://raw.githubusercontent.com/Datamanim/datarepo/main/churnk/y_test.csv      \n",
    "데이터 출처 : https://www.kaggle.com/shubh0799/churn-modelling 에서 변형   \n",
    "```  "
   ]
  },
  {
   "cell_type": "markdown",
   "id": "a13498f5",
   "metadata": {},
   "source": [
    "```{admonition} 캐글 공유 코드 저장소 \n",
    "**본인만의 코드를 작성하고 upvote를 받아 broze medal을 획득 해보세요**\n",
    "[캐글 노트북 링크](https://www.kaggle.com/datasets/kukuroo3/churn-model-data-set-competition-form/code)\n",
    "```"
   ]
  },
  {
   "cell_type": "code",
   "execution_count": 2,
   "id": "e88aa110",
   "metadata": {
    "ExecuteTime": {
     "end_time": "2022-05-01T10:17:25.954347Z",
     "start_time": "2022-05-01T10:17:24.823208Z"
    },
    "tags": []
   },
   "outputs": [
    {
     "data": {
      "text/html": [
       "<div>\n",
       "<style scoped>\n",
       "    .dataframe tbody tr th:only-of-type {\n",
       "        vertical-align: middle;\n",
       "    }\n",
       "\n",
       "    .dataframe tbody tr th {\n",
       "        vertical-align: top;\n",
       "    }\n",
       "\n",
       "    .dataframe thead th {\n",
       "        text-align: right;\n",
       "    }\n",
       "</style>\n",
       "<table border=\"1\" class=\"dataframe\">\n",
       "  <thead>\n",
       "    <tr style=\"text-align: right;\">\n",
       "      <th></th>\n",
       "      <th>CustomerId</th>\n",
       "      <th>Surname</th>\n",
       "      <th>CreditScore</th>\n",
       "      <th>Geography</th>\n",
       "      <th>Gender</th>\n",
       "      <th>Age</th>\n",
       "      <th>Tenure</th>\n",
       "      <th>Balance</th>\n",
       "      <th>NumOfProducts</th>\n",
       "      <th>HasCrCard</th>\n",
       "      <th>IsActiveMember</th>\n",
       "      <th>EstimatedSalary</th>\n",
       "    </tr>\n",
       "  </thead>\n",
       "  <tbody>\n",
       "    <tr>\n",
       "      <th>0</th>\n",
       "      <td>15799217</td>\n",
       "      <td>Zetticci</td>\n",
       "      <td>791</td>\n",
       "      <td>Germany</td>\n",
       "      <td>Female</td>\n",
       "      <td>35</td>\n",
       "      <td>7</td>\n",
       "      <td>52436.20</td>\n",
       "      <td>1</td>\n",
       "      <td>1</td>\n",
       "      <td>0</td>\n",
       "      <td>161051.75</td>\n",
       "    </tr>\n",
       "    <tr>\n",
       "      <th>1</th>\n",
       "      <td>15748986</td>\n",
       "      <td>Bischof</td>\n",
       "      <td>705</td>\n",
       "      <td>Germany</td>\n",
       "      <td>Male</td>\n",
       "      <td>42</td>\n",
       "      <td>8</td>\n",
       "      <td>166685.92</td>\n",
       "      <td>2</td>\n",
       "      <td>1</td>\n",
       "      <td>1</td>\n",
       "      <td>55313.51</td>\n",
       "    </tr>\n",
       "    <tr>\n",
       "      <th>2</th>\n",
       "      <td>15722004</td>\n",
       "      <td>Hsiung</td>\n",
       "      <td>543</td>\n",
       "      <td>France</td>\n",
       "      <td>Female</td>\n",
       "      <td>31</td>\n",
       "      <td>4</td>\n",
       "      <td>138317.94</td>\n",
       "      <td>1</td>\n",
       "      <td>0</td>\n",
       "      <td>0</td>\n",
       "      <td>61843.73</td>\n",
       "    </tr>\n",
       "    <tr>\n",
       "      <th>3</th>\n",
       "      <td>15780966</td>\n",
       "      <td>Pritchard</td>\n",
       "      <td>709</td>\n",
       "      <td>France</td>\n",
       "      <td>Female</td>\n",
       "      <td>32</td>\n",
       "      <td>2</td>\n",
       "      <td>0.00</td>\n",
       "      <td>2</td>\n",
       "      <td>0</td>\n",
       "      <td>0</td>\n",
       "      <td>109681.29</td>\n",
       "    </tr>\n",
       "    <tr>\n",
       "      <th>4</th>\n",
       "      <td>15636731</td>\n",
       "      <td>Ts'ai</td>\n",
       "      <td>714</td>\n",
       "      <td>Germany</td>\n",
       "      <td>Female</td>\n",
       "      <td>36</td>\n",
       "      <td>1</td>\n",
       "      <td>101609.01</td>\n",
       "      <td>2</td>\n",
       "      <td>1</td>\n",
       "      <td>1</td>\n",
       "      <td>447.73</td>\n",
       "    </tr>\n",
       "  </tbody>\n",
       "</table>\n",
       "</div>"
      ],
      "text/plain": [
       "   CustomerId    Surname  CreditScore Geography  Gender  Age  Tenure   \n",
       "0    15799217   Zetticci          791   Germany  Female   35       7  \\\n",
       "1    15748986    Bischof          705   Germany    Male   42       8   \n",
       "2    15722004     Hsiung          543    France  Female   31       4   \n",
       "3    15780966  Pritchard          709    France  Female   32       2   \n",
       "4    15636731      Ts'ai          714   Germany  Female   36       1   \n",
       "\n",
       "     Balance  NumOfProducts  HasCrCard  IsActiveMember  EstimatedSalary  \n",
       "0   52436.20              1          1               0        161051.75  \n",
       "1  166685.92              2          1               1         55313.51  \n",
       "2  138317.94              1          0               0         61843.73  \n",
       "3       0.00              2          0               0        109681.29  \n",
       "4  101609.01              2          1               1           447.73  "
      ]
     },
     "metadata": {},
     "output_type": "display_data"
    },
    {
     "data": {
      "text/html": [
       "<div>\n",
       "<style scoped>\n",
       "    .dataframe tbody tr th:only-of-type {\n",
       "        vertical-align: middle;\n",
       "    }\n",
       "\n",
       "    .dataframe tbody tr th {\n",
       "        vertical-align: top;\n",
       "    }\n",
       "\n",
       "    .dataframe thead th {\n",
       "        text-align: right;\n",
       "    }\n",
       "</style>\n",
       "<table border=\"1\" class=\"dataframe\">\n",
       "  <thead>\n",
       "    <tr style=\"text-align: right;\">\n",
       "      <th></th>\n",
       "      <th>CustomerId</th>\n",
       "      <th>Exited</th>\n",
       "    </tr>\n",
       "  </thead>\n",
       "  <tbody>\n",
       "    <tr>\n",
       "      <th>0</th>\n",
       "      <td>15799217</td>\n",
       "      <td>0</td>\n",
       "    </tr>\n",
       "    <tr>\n",
       "      <th>1</th>\n",
       "      <td>15748986</td>\n",
       "      <td>0</td>\n",
       "    </tr>\n",
       "    <tr>\n",
       "      <th>2</th>\n",
       "      <td>15722004</td>\n",
       "      <td>0</td>\n",
       "    </tr>\n",
       "    <tr>\n",
       "      <th>3</th>\n",
       "      <td>15780966</td>\n",
       "      <td>0</td>\n",
       "    </tr>\n",
       "    <tr>\n",
       "      <th>4</th>\n",
       "      <td>15636731</td>\n",
       "      <td>0</td>\n",
       "    </tr>\n",
       "  </tbody>\n",
       "</table>\n",
       "</div>"
      ],
      "text/plain": [
       "   CustomerId  Exited\n",
       "0    15799217       0\n",
       "1    15748986       0\n",
       "2    15722004       0\n",
       "3    15780966       0\n",
       "4    15636731       0"
      ]
     },
     "metadata": {},
     "output_type": "display_data"
    }
   ],
   "source": [
    "import ssl\n",
    "\n",
    "ssl._create_default_https_context = ssl._create_unverified_context\n",
    "\n",
    "import pandas as pd\n",
    "#데이터 로드\n",
    "x_train = pd.read_csv(\"https://raw.githubusercontent.com/Datamanim/datarepo/main/churnk/X_train.csv\")\n",
    "y_train = pd.read_csv(\"https://raw.githubusercontent.com/Datamanim/datarepo/main/churnk/y_train.csv\")\n",
    "x_test= pd.read_csv(\"https://raw.githubusercontent.com/Datamanim/datarepo/main/churnk/X_test.csv\")\n",
    "\n",
    "\n",
    "display(x_train.head())\n",
    "display(y_train.head())"
   ]
  },
  {
   "cell_type": "markdown",
   "id": "d608ab0c-b201-416e-938b-e19c1f2241ac",
   "metadata": {},
   "source": [
    "#### EDA"
   ]
  },
  {
   "cell_type": "code",
   "execution_count": 15,
   "id": "ab06f89a-e5f3-4104-88db-1b975e3b4611",
   "metadata": {
    "tags": []
   },
   "outputs": [],
   "source": [
    "X = x_train.copy()\n",
    "X_submission = x_test.copy()\n",
    "Y = y_train.copy()"
   ]
  },
  {
   "cell_type": "code",
   "execution_count": 16,
   "id": "0df00c6c-abe3-491e-9343-5907c0698372",
   "metadata": {
    "tags": []
   },
   "outputs": [
    {
     "name": "stdout",
     "output_type": "stream",
     "text": [
      "<class 'pandas.core.frame.DataFrame'>\n",
      "RangeIndex: 10000 entries, 0 to 9999\n",
      "Data columns (total 12 columns):\n",
      " #   Column           Non-Null Count  Dtype  \n",
      "---  ------           --------------  -----  \n",
      " 0   CustomerId       10000 non-null  int64  \n",
      " 1   Surname          10000 non-null  object \n",
      " 2   CreditScore      10000 non-null  int64  \n",
      " 3   Geography        10000 non-null  object \n",
      " 4   Gender           10000 non-null  object \n",
      " 5   Age              10000 non-null  int64  \n",
      " 6   Tenure           10000 non-null  int64  \n",
      " 7   Balance          10000 non-null  float64\n",
      " 8   NumOfProducts    10000 non-null  int64  \n",
      " 9   HasCrCard        10000 non-null  int64  \n",
      " 10  IsActiveMember   10000 non-null  int64  \n",
      " 11  EstimatedSalary  10000 non-null  float64\n",
      "dtypes: float64(2), int64(7), object(3)\n",
      "memory usage: 937.6+ KB\n"
     ]
    }
   ],
   "source": [
    "dfX = pd.concat([X, X_submission], axis=0, ignore_index=True)\n",
    "dfX.info()"
   ]
  },
  {
   "cell_type": "code",
   "execution_count": 17,
   "id": "66d54f45-677e-45a0-8e6f-311a9dd508da",
   "metadata": {
    "tags": []
   },
   "outputs": [
    {
     "name": "stdout",
     "output_type": "stream",
     "text": [
      "<class 'pandas.core.frame.DataFrame'>\n",
      "RangeIndex: 6499 entries, 0 to 6498\n",
      "Data columns (total 2 columns):\n",
      " #   Column      Non-Null Count  Dtype\n",
      "---  ------      --------------  -----\n",
      " 0   CustomerId  6499 non-null   int64\n",
      " 1   Exited      6499 non-null   int64\n",
      "dtypes: int64(2)\n",
      "memory usage: 101.7 KB\n"
     ]
    }
   ],
   "source": [
    "Y.info()"
   ]
  },
  {
   "cell_type": "code",
   "execution_count": 18,
   "id": "f87655f2-5a64-44ae-bc74-c71fd4c8619a",
   "metadata": {
    "tags": []
   },
   "outputs": [
    {
     "name": "stdout",
     "output_type": "stream",
     "text": [
      "<class 'pandas.core.frame.DataFrame'>\n",
      "RangeIndex: 6499 entries, 0 to 6498\n",
      "Data columns (total 13 columns):\n",
      " #   Column           Non-Null Count  Dtype  \n",
      "---  ------           --------------  -----  \n",
      " 0   CustomerId       6499 non-null   int64  \n",
      " 1   Surname          6499 non-null   object \n",
      " 2   CreditScore      6499 non-null   int64  \n",
      " 3   Geography        6499 non-null   object \n",
      " 4   Gender           6499 non-null   object \n",
      " 5   Age              6499 non-null   int64  \n",
      " 6   Tenure           6499 non-null   int64  \n",
      " 7   Balance          6499 non-null   float64\n",
      " 8   NumOfProducts    6499 non-null   int64  \n",
      " 9   HasCrCard        6499 non-null   int64  \n",
      " 10  IsActiveMember   6499 non-null   int64  \n",
      " 11  EstimatedSalary  6499 non-null   float64\n",
      " 12  Exited           6499 non-null   int64  \n",
      "dtypes: float64(2), int64(8), object(3)\n",
      "memory usage: 660.2+ KB\n"
     ]
    }
   ],
   "source": [
    "dfXY = pd.merge(dfX, Y, on='CustomerId')\n",
    "dfXY.info()"
   ]
  },
  {
   "cell_type": "code",
   "execution_count": 19,
   "id": "05d6bd39-7d76-423d-921d-84d48af54814",
   "metadata": {
    "tags": []
   },
   "outputs": [
    {
     "data": {
      "text/html": [
       "<div>\n",
       "<style scoped>\n",
       "    .dataframe tbody tr th:only-of-type {\n",
       "        vertical-align: middle;\n",
       "    }\n",
       "\n",
       "    .dataframe tbody tr th {\n",
       "        vertical-align: top;\n",
       "    }\n",
       "\n",
       "    .dataframe thead th {\n",
       "        text-align: right;\n",
       "    }\n",
       "</style>\n",
       "<table border=\"1\" class=\"dataframe\">\n",
       "  <thead>\n",
       "    <tr style=\"text-align: right;\">\n",
       "      <th></th>\n",
       "      <th>CustomerId</th>\n",
       "      <th>Surname</th>\n",
       "      <th>CreditScore</th>\n",
       "      <th>Geography</th>\n",
       "      <th>Gender</th>\n",
       "      <th>Age</th>\n",
       "      <th>Tenure</th>\n",
       "      <th>Balance</th>\n",
       "      <th>NumOfProducts</th>\n",
       "      <th>HasCrCard</th>\n",
       "      <th>IsActiveMember</th>\n",
       "      <th>EstimatedSalary</th>\n",
       "      <th>Exited</th>\n",
       "    </tr>\n",
       "  </thead>\n",
       "  <tbody>\n",
       "    <tr>\n",
       "      <th>0</th>\n",
       "      <td>15799217</td>\n",
       "      <td>Zetticci</td>\n",
       "      <td>791</td>\n",
       "      <td>Germany</td>\n",
       "      <td>Female</td>\n",
       "      <td>35</td>\n",
       "      <td>7</td>\n",
       "      <td>52436.20</td>\n",
       "      <td>1</td>\n",
       "      <td>1</td>\n",
       "      <td>0</td>\n",
       "      <td>161051.75</td>\n",
       "      <td>0</td>\n",
       "    </tr>\n",
       "    <tr>\n",
       "      <th>1</th>\n",
       "      <td>15748986</td>\n",
       "      <td>Bischof</td>\n",
       "      <td>705</td>\n",
       "      <td>Germany</td>\n",
       "      <td>Male</td>\n",
       "      <td>42</td>\n",
       "      <td>8</td>\n",
       "      <td>166685.92</td>\n",
       "      <td>2</td>\n",
       "      <td>1</td>\n",
       "      <td>1</td>\n",
       "      <td>55313.51</td>\n",
       "      <td>0</td>\n",
       "    </tr>\n",
       "  </tbody>\n",
       "</table>\n",
       "</div>"
      ],
      "text/plain": [
       "   CustomerId   Surname  CreditScore Geography  Gender  Age  Tenure   \n",
       "0    15799217  Zetticci          791   Germany  Female   35       7  \\\n",
       "1    15748986   Bischof          705   Germany    Male   42       8   \n",
       "\n",
       "     Balance  NumOfProducts  HasCrCard  IsActiveMember  EstimatedSalary   \n",
       "0   52436.20              1          1               0        161051.75  \\\n",
       "1  166685.92              2          1               1         55313.51   \n",
       "\n",
       "   Exited  \n",
       "0       0  \n",
       "1       0  "
      ]
     },
     "execution_count": 19,
     "metadata": {},
     "output_type": "execute_result"
    }
   ],
   "source": [
    "dfXY.head(2)"
   ]
  },
  {
   "cell_type": "code",
   "execution_count": 21,
   "id": "ae6dde34-2c1f-4710-a28a-139b44e05521",
   "metadata": {
    "tags": []
   },
   "outputs": [
    {
     "data": {
      "text/plain": [
       "CustomerId        -0.003726\n",
       "CreditScore       -0.031130\n",
       "Age                0.290102\n",
       "Tenure            -0.003436\n",
       "Balance            0.110606\n",
       "NumOfProducts     -0.061488\n",
       "HasCrCard         -0.008876\n",
       "IsActiveMember    -0.154442\n",
       "EstimatedSalary    0.008826\n",
       "Exited             1.000000\n",
       "Name: Exited, dtype: float64"
      ]
     },
     "execution_count": 21,
     "metadata": {},
     "output_type": "execute_result"
    }
   ],
   "source": [
    "dfXY.corr(numeric_only=True)['Exited']\n",
    "# Age, Balance, IsActiveMember > 10% 이상"
   ]
  },
  {
   "cell_type": "code",
   "execution_count": 24,
   "id": "149517b8-ef23-4eac-a082-a332dcc12eaa",
   "metadata": {
    "tags": []
   },
   "outputs": [
    {
     "name": "stdout",
     "output_type": "stream",
     "text": [
      "Surname\n",
      "Exited  Surname      \n",
      "0       Brown            0.003671\n",
      "        Scott            0.003478\n",
      "        Yeh              0.002899\n",
      "        Maclean          0.002899\n",
      "        Genovese         0.002899\n",
      "                           ...   \n",
      "1       Mazzanti         0.000755\n",
      "        Keeley           0.000755\n",
      "        Iweobiegbunam    0.000755\n",
      "        Jackson          0.000755\n",
      "        Lawson           0.000755\n",
      "Name: proportion, Length: 2919, dtype: float64\n",
      "------------------------------\n",
      "Geography\n",
      "Exited  Geography\n",
      "0       France       0.523865\n",
      "        Spain        0.261256\n",
      "        Germany      0.214879\n",
      "1       Germany      0.406344\n",
      "        France       0.389728\n",
      "        Spain        0.203927\n",
      "Name: proportion, dtype: float64\n",
      "------------------------------\n",
      "Gender\n",
      "Exited  Gender\n",
      "0       Male      0.561546\n",
      "        Female    0.414686\n",
      "         male     0.013140\n",
      "        female    0.010628\n",
      "1       Female    0.540030\n",
      "        Male      0.437311\n",
      "        female    0.013595\n",
      "         male     0.009063\n",
      "Name: proportion, dtype: float64\n",
      "------------------------------\n"
     ]
    }
   ],
   "source": [
    "for feature in dfXY.select_dtypes(include='object').columns:\n",
    "    print(f'{feature}')\n",
    "    print(dfXY.groupby('Exited')[feature].value_counts(normalize=True))\n",
    "    print('-' * 30)"
   ]
  },
  {
   "cell_type": "markdown",
   "id": "a53ed2d9-ada9-4591-ad2d-d775a272ecdd",
   "metadata": {},
   "source": [
    "#### 데이터 전처리"
   ]
  },
  {
   "cell_type": "code",
   "execution_count": 25,
   "id": "598088dc-fce4-4a6c-941d-a055ccb3b8c0",
   "metadata": {
    "tags": []
   },
   "outputs": [
    {
     "data": {
      "text/plain": [
       "CustomerId         0\n",
       "Surname            0\n",
       "CreditScore        0\n",
       "Geography          0\n",
       "Gender             0\n",
       "Age                0\n",
       "Tenure             0\n",
       "Balance            0\n",
       "NumOfProducts      0\n",
       "HasCrCard          0\n",
       "IsActiveMember     0\n",
       "EstimatedSalary    0\n",
       "dtype: int64"
      ]
     },
     "execution_count": 25,
     "metadata": {},
     "output_type": "execute_result"
    }
   ],
   "source": [
    "dfX.isna().sum()"
   ]
  },
  {
   "cell_type": "code",
   "execution_count": 46,
   "id": "01c94eea-9119-4b67-b6ed-b733ce62b0de",
   "metadata": {
    "tags": []
   },
   "outputs": [
    {
     "name": "stdout",
     "output_type": "stream",
     "text": [
      "<class 'pandas.core.frame.DataFrame'>\n",
      "RangeIndex: 10000 entries, 0 to 9999\n",
      "Data columns (total 11 columns):\n",
      " #   Column           Non-Null Count  Dtype  \n",
      "---  ------           --------------  -----  \n",
      " 0   CustomerId       10000 non-null  int64  \n",
      " 1   CreditScore      10000 non-null  int64  \n",
      " 2   Geography        10000 non-null  int32  \n",
      " 3   Gender           10000 non-null  int8   \n",
      " 4   Age              10000 non-null  int64  \n",
      " 5   Tenure           10000 non-null  int64  \n",
      " 6   Balance          10000 non-null  float64\n",
      " 7   NumOfProducts    10000 non-null  int64  \n",
      " 8   HasCrCard        10000 non-null  int64  \n",
      " 9   IsActiveMember   10000 non-null  int64  \n",
      " 10  EstimatedSalary  10000 non-null  float64\n",
      "dtypes: float64(2), int32(1), int64(7), int8(1)\n",
      "memory usage: 752.1 KB\n"
     ]
    }
   ],
   "source": [
    "dfX.info()"
   ]
  },
  {
   "cell_type": "code",
   "execution_count": 27,
   "id": "ec1f3739-8793-4182-8e00-01827a86db6e",
   "metadata": {
    "tags": []
   },
   "outputs": [],
   "source": [
    "dfX.drop(columns='Surname', inplace=True)"
   ]
  },
  {
   "cell_type": "code",
   "execution_count": 30,
   "id": "4714fbed-8b53-42e0-ac1f-79c039a5d376",
   "metadata": {
    "tags": []
   },
   "outputs": [],
   "source": [
    "dfX['Geography'] = LabelEncoder().fit_transform(dfX['Geography'])"
   ]
  },
  {
   "cell_type": "code",
   "execution_count": 45,
   "id": "9e59a31e-273e-4304-9783-14651dd8cfce",
   "metadata": {
    "tags": []
   },
   "outputs": [],
   "source": [
    "dfX['Gender'] = dfX['Gender'].str.strip().str.lower().astype('category').cat.codes"
   ]
  },
  {
   "cell_type": "markdown",
   "id": "808bf367-3bd4-4929-8561-e0a87ae7de53",
   "metadata": {},
   "source": [
    "#### 모델링"
   ]
  },
  {
   "cell_type": "code",
   "execution_count": 48,
   "id": "aad36ef0-215e-47c8-89b1-635cc4b07ac4",
   "metadata": {
    "tags": []
   },
   "outputs": [],
   "source": [
    "x_features = ['CreditScore', 'Geography', 'Gender', 'Age', 'Tenure','Balance', \\\n",
    "              'NumOfProducts', 'HasCrCard', 'IsActiveMember','EstimatedSalary']\n",
    "y_feature = 'Exited'"
   ]
  },
  {
   "cell_type": "code",
   "execution_count": 49,
   "id": "a40803f8-7f4b-4f4a-b7af-3b259bc20e5f",
   "metadata": {
    "tags": []
   },
   "outputs": [
    {
     "name": "stdout",
     "output_type": "stream",
     "text": [
      "[(6499, 12), (3501, 12), (6499, 2)]\n",
      "[(6499, 10), (3501, 10), (6499,)]\n"
     ]
    }
   ],
   "source": [
    "XF, X_submissionF, YF = get_classification_model_data(dfX, Y, len(X), x_features, y_feature, is_normalized=False)\n",
    "\n",
    "print([x.shape for x in [X, X_submission, Y]])\n",
    "print([x.shape for x in [XF, X_submissionF, YF]])"
   ]
  },
  {
   "cell_type": "code",
   "execution_count": 50,
   "id": "0c4759b6-6b7e-45a1-9c97-be259243b496",
   "metadata": {
    "tags": []
   },
   "outputs": [
    {
     "name": "stdout",
     "output_type": "stream",
     "text": [
      "[(4549, 10), (1950, 10), (4549,), (1950,)]\n"
     ]
    }
   ],
   "source": [
    "xtrain, xtest, ytrain, ytest = train_test_split(XF, YF, test_size=0.3, random_state=1234, stratify=YF)\n",
    "\n",
    "print([x.shape for x in [xtrain, xtest, ytrain, ytest]])"
   ]
  },
  {
   "cell_type": "code",
   "execution_count": 56,
   "id": "365d45db-4f6b-4b63-85a4-2b624711e3db",
   "metadata": {
    "tags": []
   },
   "outputs": [],
   "source": [
    "result = compare_classification_model(xtrain, xtest, ytrain, ytest, is_binary_model=True)"
   ]
  },
  {
   "cell_type": "code",
   "execution_count": 59,
   "id": "03cfb6db-4fb8-43b8-8a88-543ec41996d6",
   "metadata": {
    "tags": []
   },
   "outputs": [
    {
     "data": {
      "text/html": [
       "<div>\n",
       "<style scoped>\n",
       "    .dataframe tbody tr th:only-of-type {\n",
       "        vertical-align: middle;\n",
       "    }\n",
       "\n",
       "    .dataframe tbody tr th {\n",
       "        vertical-align: top;\n",
       "    }\n",
       "\n",
       "    .dataframe thead th {\n",
       "        text-align: right;\n",
       "    }\n",
       "</style>\n",
       "<table border=\"1\" class=\"dataframe\">\n",
       "  <thead>\n",
       "    <tr style=\"text-align: right;\">\n",
       "      <th></th>\n",
       "      <th>Train_Accuray</th>\n",
       "      <th>Test_Accuracy</th>\n",
       "      <th>DIFF</th>\n",
       "      <th>ROC_AUC</th>\n",
       "    </tr>\n",
       "  </thead>\n",
       "  <tbody>\n",
       "    <tr>\n",
       "      <th>RandomForestClassifier</th>\n",
       "      <td>0.999780</td>\n",
       "      <td>0.864615</td>\n",
       "      <td>0.135165</td>\n",
       "      <td>0.855645</td>\n",
       "    </tr>\n",
       "    <tr>\n",
       "      <th>XGBClassifier</th>\n",
       "      <td>0.980875</td>\n",
       "      <td>0.851795</td>\n",
       "      <td>0.129080</td>\n",
       "      <td>0.847932</td>\n",
       "    </tr>\n",
       "    <tr>\n",
       "      <th>LogisticRegression</th>\n",
       "      <td>0.791603</td>\n",
       "      <td>0.790256</td>\n",
       "      <td>0.001346</td>\n",
       "      <td>0.667115</td>\n",
       "    </tr>\n",
       "    <tr>\n",
       "      <th>DecisionTreeClassifier</th>\n",
       "      <td>1.000000</td>\n",
       "      <td>0.778462</td>\n",
       "      <td>0.221538</td>\n",
       "      <td>0.678104</td>\n",
       "    </tr>\n",
       "    <tr>\n",
       "      <th>KNeighborsClassifier</th>\n",
       "      <td>0.813585</td>\n",
       "      <td>0.765128</td>\n",
       "      <td>0.048457</td>\n",
       "      <td>0.539377</td>\n",
       "    </tr>\n",
       "  </tbody>\n",
       "</table>\n",
       "</div>"
      ],
      "text/plain": [
       "                        Train_Accuray  Test_Accuracy      DIFF   ROC_AUC\n",
       "RandomForestClassifier       0.999780       0.864615  0.135165  0.855645\n",
       "XGBClassifier                0.980875       0.851795  0.129080  0.847932\n",
       "LogisticRegression           0.791603       0.790256  0.001346  0.667115\n",
       "DecisionTreeClassifier       1.000000       0.778462  0.221538  0.678104\n",
       "KNeighborsClassifier         0.813585       0.765128  0.048457  0.539377"
      ]
     },
     "execution_count": 59,
     "metadata": {},
     "output_type": "execute_result"
    }
   ],
   "source": [
    "result.sort_values(['Test_Accuracy', 'DIFF', 'ROC_AUC'], ascending=[False, True, False])"
   ]
  },
  {
   "cell_type": "code",
   "execution_count": 60,
   "id": "154bcbde-a4c0-4213-b4c8-26634bea8279",
   "metadata": {
    "tags": []
   },
   "outputs": [],
   "source": [
    "result = compare_classification_model(xtrain, xtest, ytrain, ytest, is_binary_model=False)"
   ]
  },
  {
   "cell_type": "code",
   "execution_count": 62,
   "id": "2235e3cf-b7b9-4968-9b88-179b8da1d08a",
   "metadata": {
    "tags": []
   },
   "outputs": [
    {
     "data": {
      "text/html": [
       "<div>\n",
       "<style scoped>\n",
       "    .dataframe tbody tr th:only-of-type {\n",
       "        vertical-align: middle;\n",
       "    }\n",
       "\n",
       "    .dataframe tbody tr th {\n",
       "        vertical-align: top;\n",
       "    }\n",
       "\n",
       "    .dataframe thead th {\n",
       "        text-align: right;\n",
       "    }\n",
       "</style>\n",
       "<table border=\"1\" class=\"dataframe\">\n",
       "  <thead>\n",
       "    <tr style=\"text-align: right;\">\n",
       "      <th></th>\n",
       "      <th>Train_Accuray</th>\n",
       "      <th>Test_Accuracy</th>\n",
       "      <th>DIFF</th>\n",
       "      <th>Accuracy</th>\n",
       "      <th>Precision</th>\n",
       "      <th>Recall</th>\n",
       "      <th>F1</th>\n",
       "    </tr>\n",
       "  </thead>\n",
       "  <tbody>\n",
       "    <tr>\n",
       "      <th>RandomForestClassifier</th>\n",
       "      <td>0.999780</td>\n",
       "      <td>0.864615</td>\n",
       "      <td>0.135165</td>\n",
       "      <td>0.864615</td>\n",
       "      <td>0.785408</td>\n",
       "      <td>0.460957</td>\n",
       "      <td>0.580952</td>\n",
       "    </tr>\n",
       "    <tr>\n",
       "      <th>XGBClassifier</th>\n",
       "      <td>0.980875</td>\n",
       "      <td>0.851795</td>\n",
       "      <td>0.129080</td>\n",
       "      <td>0.851795</td>\n",
       "      <td>0.695652</td>\n",
       "      <td>0.483627</td>\n",
       "      <td>0.570579</td>\n",
       "    </tr>\n",
       "    <tr>\n",
       "      <th>DecisionTreeClassifier</th>\n",
       "      <td>1.000000</td>\n",
       "      <td>0.778462</td>\n",
       "      <td>0.221538</td>\n",
       "      <td>0.778462</td>\n",
       "      <td>0.460137</td>\n",
       "      <td>0.508816</td>\n",
       "      <td>0.483254</td>\n",
       "    </tr>\n",
       "    <tr>\n",
       "      <th>KNeighborsClassifier</th>\n",
       "      <td>0.813585</td>\n",
       "      <td>0.765128</td>\n",
       "      <td>0.048457</td>\n",
       "      <td>0.765128</td>\n",
       "      <td>0.274074</td>\n",
       "      <td>0.093199</td>\n",
       "      <td>0.139098</td>\n",
       "    </tr>\n",
       "  </tbody>\n",
       "</table>\n",
       "</div>"
      ],
      "text/plain": [
       "                        Train_Accuray  Test_Accuracy      DIFF  Accuracy   \n",
       "RandomForestClassifier       0.999780       0.864615  0.135165  0.864615  \\\n",
       "XGBClassifier                0.980875       0.851795  0.129080  0.851795   \n",
       "DecisionTreeClassifier       1.000000       0.778462  0.221538  0.778462   \n",
       "KNeighborsClassifier         0.813585       0.765128  0.048457  0.765128   \n",
       "\n",
       "                        Precision    Recall        F1  \n",
       "RandomForestClassifier   0.785408  0.460957  0.580952  \n",
       "XGBClassifier            0.695652  0.483627  0.570579  \n",
       "DecisionTreeClassifier   0.460137  0.508816  0.483254  \n",
       "KNeighborsClassifier     0.274074  0.093199  0.139098  "
      ]
     },
     "execution_count": 62,
     "metadata": {},
     "output_type": "execute_result"
    }
   ],
   "source": [
    "result.sort_values(['Test_Accuracy', 'DIFF', 'Precision'], ascending=[False, True, False])"
   ]
  },
  {
   "cell_type": "code",
   "execution_count": 64,
   "id": "d0dd1a4d-6472-486b-922e-314d5f5c5ac0",
   "metadata": {
    "tags": []
   },
   "outputs": [
    {
     "name": "stdout",
     "output_type": "stream",
     "text": [
      "Train_Accuray    0.999780\n",
      "Test_Accuracy    0.864615\n",
      "Accuracy         0.864615\n",
      "Precision        0.785408\n",
      "Recall           0.460957\n",
      "F1               0.580952\n",
      "dtype: float64\n"
     ]
    }
   ],
   "source": [
    "model = RandomForestClassifier(random_state=1234).fit(xtrain, ytrain)\n",
    "print(get_classification_model_score(model, xtrain, xtest, ytrain, ytest, is_binary_model=False))"
   ]
  },
  {
   "cell_type": "code",
   "execution_count": 71,
   "id": "47be7c8a-3b42-4f93-b980-01df9d8b6acb",
   "metadata": {
    "tags": []
   },
   "outputs": [],
   "source": [
    "Ypred = model.predict(X_submissionF)"
   ]
  },
  {
   "cell_type": "code",
   "execution_count": 72,
   "id": "3d17eccf-4b99-49e8-b11c-ae495f86b8e0",
   "metadata": {
    "tags": []
   },
   "outputs": [],
   "source": [
    "submission = pd.DataFrame({'CustomerId': X_submission['CustomerId'], \\\n",
    "                           'Exited': Ypred})\n",
    "submission.to_csv('./submission.csv', index=False)"
   ]
  },
  {
   "cell_type": "markdown",
   "id": "2bba9301-0607-419e-9129-164f05e51708",
   "metadata": {},
   "source": [
    "#### 실제 결과와 비교 (Precision Score)"
   ]
  },
  {
   "cell_type": "code",
   "execution_count": 226,
   "id": "7ddc8716-2087-45b1-95d9-a5fc4c837849",
   "metadata": {
    "tags": []
   },
   "outputs": [
    {
     "data": {
      "text/html": [
       "<div>\n",
       "<style scoped>\n",
       "    .dataframe tbody tr th:only-of-type {\n",
       "        vertical-align: middle;\n",
       "    }\n",
       "\n",
       "    .dataframe tbody tr th {\n",
       "        vertical-align: top;\n",
       "    }\n",
       "\n",
       "    .dataframe thead th {\n",
       "        text-align: right;\n",
       "    }\n",
       "</style>\n",
       "<table border=\"1\" class=\"dataframe\">\n",
       "  <thead>\n",
       "    <tr style=\"text-align: right;\">\n",
       "      <th></th>\n",
       "      <th>CustomerId</th>\n",
       "      <th>Exited</th>\n",
       "    </tr>\n",
       "  </thead>\n",
       "  <tbody>\n",
       "    <tr>\n",
       "      <th>0</th>\n",
       "      <td>15601012</td>\n",
       "      <td>1</td>\n",
       "    </tr>\n",
       "    <tr>\n",
       "      <th>1</th>\n",
       "      <td>15734762</td>\n",
       "      <td>1</td>\n",
       "    </tr>\n",
       "  </tbody>\n",
       "</table>\n",
       "</div>"
      ],
      "text/plain": [
       "   CustomerId  Exited\n",
       "0    15601012       1\n",
       "1    15734762       1"
      ]
     },
     "metadata": {},
     "output_type": "display_data"
    },
    {
     "data": {
      "text/html": [
       "<div>\n",
       "<style scoped>\n",
       "    .dataframe tbody tr th:only-of-type {\n",
       "        vertical-align: middle;\n",
       "    }\n",
       "\n",
       "    .dataframe tbody tr th {\n",
       "        vertical-align: top;\n",
       "    }\n",
       "\n",
       "    .dataframe thead th {\n",
       "        text-align: right;\n",
       "    }\n",
       "</style>\n",
       "<table border=\"1\" class=\"dataframe\">\n",
       "  <thead>\n",
       "    <tr style=\"text-align: right;\">\n",
       "      <th></th>\n",
       "      <th>CustomerId</th>\n",
       "      <th>Exited</th>\n",
       "    </tr>\n",
       "  </thead>\n",
       "  <tbody>\n",
       "    <tr>\n",
       "      <th>0</th>\n",
       "      <td>15601012</td>\n",
       "      <td>1</td>\n",
       "    </tr>\n",
       "    <tr>\n",
       "      <th>1</th>\n",
       "      <td>15734762</td>\n",
       "      <td>1</td>\n",
       "    </tr>\n",
       "  </tbody>\n",
       "</table>\n",
       "</div>"
      ],
      "text/plain": [
       "   CustomerId  Exited\n",
       "0    15601012       1\n",
       "1    15734762       1"
      ]
     },
     "metadata": {},
     "output_type": "display_data"
    }
   ],
   "source": [
    "y_true = pd.read_csv(\"https://raw.githubusercontent.com/Datamanim/datarepo/main/churnk/y_test.csv\")\n",
    "y_pred = pd.read_csv('./submission.csv')\n",
    "\n",
    "display(y_true.head(2))\n",
    "display(y_pred.head(2))"
   ]
  },
  {
   "cell_type": "code",
   "execution_count": 100,
   "id": "98419a0e-4728-4c4b-b0ec-4809ba4c0024",
   "metadata": {
    "tags": []
   },
   "outputs": [
    {
     "name": "stdout",
     "output_type": "stream",
     "text": [
      "정확도   : 0.8618\n",
      "정확도   : 0.7870\n",
      "재현율   : 0.4404\n",
      "F1      : 0.5647\n"
     ]
    }
   ],
   "source": [
    "print(f\"정확도   : {accuracy_score(y_true['Exited'], y_pred['Exited']):,.4f}\")\n",
    "print(f\"정확도   : {precision_score(y_true['Exited'], y_pred['Exited']):,.4f}\")\n",
    "print(f\"재현율   : {recall_score(y_true['Exited'], y_pred['Exited']):,.4f}\")\n",
    "print(f\"F1      : {f1_score(y_true['Exited'], y_pred['Exited']):,.4f}\")"
   ]
  },
  {
   "cell_type": "markdown",
   "id": "759ffaec",
   "metadata": {
    "toc-hr-collapsed": true
   },
   "source": [
    "### 이직여부 판단 데이터"
   ]
  },
  {
   "cell_type": "markdown",
   "id": "27c50564",
   "metadata": {},
   "source": [
    "```{attention}  \n",
    "데이터 설명 : 이직여부 판단 데이터 (target: 1: 이직 , 0 : 이직 x)    \n",
    "x_train: https://raw.githubusercontent.com/Datamanim/datarepo/main/HRdata/X_train.csv    \n",
    "y_train: https://raw.githubusercontent.com/Datamanim/datarepo/main/HRdata/y_train.csv  \n",
    "x_test: https://raw.githubusercontent.com/Datamanim/datarepo/main/HRdata/X_test.csv    \n",
    "x_label(평가용) : https://raw.githubusercontent.com/Datamanim/datarepo/main/HRdata/y_test.csv      \n",
    "데이터 출처 :https://www.kaggle.com/datasets/arashnic/hr-analytics-job-change-of-data-scientists (참고, 데이터 수정)   \n",
    "```  "
   ]
  },
  {
   "cell_type": "markdown",
   "id": "7a4044b7",
   "metadata": {},
   "source": [
    "```{admonition} 캐글 공유 코드 저장소 \n",
    "**본인만의 코드를 작성하고 upvote를 받아 broze medal을 획득 해보세요**\n",
    "[캐글 노트북 링크](https://www.kaggle.com/datasets/kukuroo3/hr-data-predict-change-jobscompetition-form/code)\n",
    "```"
   ]
  },
  {
   "cell_type": "code",
   "execution_count": 262,
   "id": "c3027cb9",
   "metadata": {
    "ExecuteTime": {
     "end_time": "2022-05-01T10:17:39.992572Z",
     "start_time": "2022-05-01T10:17:38.065400Z"
    },
    "tags": []
   },
   "outputs": [
    {
     "data": {
      "text/html": [
       "<div>\n",
       "<style scoped>\n",
       "    .dataframe tbody tr th:only-of-type {\n",
       "        vertical-align: middle;\n",
       "    }\n",
       "\n",
       "    .dataframe tbody tr th {\n",
       "        vertical-align: top;\n",
       "    }\n",
       "\n",
       "    .dataframe thead th {\n",
       "        text-align: right;\n",
       "    }\n",
       "</style>\n",
       "<table border=\"1\" class=\"dataframe\">\n",
       "  <thead>\n",
       "    <tr style=\"text-align: right;\">\n",
       "      <th></th>\n",
       "      <th>enrollee_id</th>\n",
       "      <th>city</th>\n",
       "      <th>city_development_index</th>\n",
       "      <th>gender</th>\n",
       "      <th>relevent_experience</th>\n",
       "      <th>enrolled_university</th>\n",
       "      <th>education_level</th>\n",
       "      <th>major_discipline</th>\n",
       "      <th>experience</th>\n",
       "      <th>company_size</th>\n",
       "      <th>company_type</th>\n",
       "      <th>last_new_job</th>\n",
       "      <th>training_hours</th>\n",
       "    </tr>\n",
       "  </thead>\n",
       "  <tbody>\n",
       "    <tr>\n",
       "      <th>0</th>\n",
       "      <td>25298</td>\n",
       "      <td>city_138</td>\n",
       "      <td>0.836</td>\n",
       "      <td>Male</td>\n",
       "      <td>No relevent experience</td>\n",
       "      <td>Full time course</td>\n",
       "      <td>High School</td>\n",
       "      <td>NaN</td>\n",
       "      <td>5</td>\n",
       "      <td>100-500</td>\n",
       "      <td>Pvt Ltd</td>\n",
       "      <td>1</td>\n",
       "      <td>45</td>\n",
       "    </tr>\n",
       "    <tr>\n",
       "      <th>1</th>\n",
       "      <td>4241</td>\n",
       "      <td>city_160</td>\n",
       "      <td>0.920</td>\n",
       "      <td>Male</td>\n",
       "      <td>No relevent experience</td>\n",
       "      <td>Full time course</td>\n",
       "      <td>High School</td>\n",
       "      <td>NaN</td>\n",
       "      <td>5</td>\n",
       "      <td>NaN</td>\n",
       "      <td>NaN</td>\n",
       "      <td>1</td>\n",
       "      <td>17</td>\n",
       "    </tr>\n",
       "    <tr>\n",
       "      <th>2</th>\n",
       "      <td>24086</td>\n",
       "      <td>city_57</td>\n",
       "      <td>0.866</td>\n",
       "      <td>Male</td>\n",
       "      <td>No relevent experience</td>\n",
       "      <td>no_enrollment</td>\n",
       "      <td>Graduate</td>\n",
       "      <td>STEM</td>\n",
       "      <td>10</td>\n",
       "      <td>NaN</td>\n",
       "      <td>NaN</td>\n",
       "      <td>1</td>\n",
       "      <td>50</td>\n",
       "    </tr>\n",
       "    <tr>\n",
       "      <th>3</th>\n",
       "      <td>26773</td>\n",
       "      <td>city_16</td>\n",
       "      <td>0.910</td>\n",
       "      <td>Male</td>\n",
       "      <td>Has relevent experience</td>\n",
       "      <td>no_enrollment</td>\n",
       "      <td>Graduate</td>\n",
       "      <td>STEM</td>\n",
       "      <td>&gt;20</td>\n",
       "      <td>50-99</td>\n",
       "      <td>Pvt Ltd</td>\n",
       "      <td>&gt;4</td>\n",
       "      <td>135</td>\n",
       "    </tr>\n",
       "    <tr>\n",
       "      <th>4</th>\n",
       "      <td>32325</td>\n",
       "      <td>city_143</td>\n",
       "      <td>0.740</td>\n",
       "      <td>NaN</td>\n",
       "      <td>No relevent experience</td>\n",
       "      <td>Full time course</td>\n",
       "      <td>Graduate</td>\n",
       "      <td>STEM</td>\n",
       "      <td>5</td>\n",
       "      <td>NaN</td>\n",
       "      <td>NaN</td>\n",
       "      <td>never</td>\n",
       "      <td>17</td>\n",
       "    </tr>\n",
       "  </tbody>\n",
       "</table>\n",
       "</div>"
      ],
      "text/plain": [
       "   enrollee_id      city  city_development_index gender   \n",
       "0        25298  city_138                   0.836   Male  \\\n",
       "1         4241  city_160                   0.920   Male   \n",
       "2        24086   city_57                   0.866   Male   \n",
       "3        26773   city_16                   0.910   Male   \n",
       "4        32325  city_143                   0.740    NaN   \n",
       "\n",
       "       relevent_experience enrolled_university education_level   \n",
       "0   No relevent experience    Full time course     High School  \\\n",
       "1   No relevent experience    Full time course     High School   \n",
       "2   No relevent experience       no_enrollment        Graduate   \n",
       "3  Has relevent experience       no_enrollment        Graduate   \n",
       "4   No relevent experience    Full time course        Graduate   \n",
       "\n",
       "  major_discipline experience company_size company_type last_new_job   \n",
       "0              NaN          5      100-500      Pvt Ltd            1  \\\n",
       "1              NaN          5          NaN          NaN            1   \n",
       "2             STEM         10          NaN          NaN            1   \n",
       "3             STEM        >20        50-99      Pvt Ltd           >4   \n",
       "4             STEM          5          NaN          NaN        never   \n",
       "\n",
       "   training_hours  \n",
       "0              45  \n",
       "1              17  \n",
       "2              50  \n",
       "3             135  \n",
       "4              17  "
      ]
     },
     "metadata": {},
     "output_type": "display_data"
    },
    {
     "data": {
      "text/html": [
       "<div>\n",
       "<style scoped>\n",
       "    .dataframe tbody tr th:only-of-type {\n",
       "        vertical-align: middle;\n",
       "    }\n",
       "\n",
       "    .dataframe tbody tr th {\n",
       "        vertical-align: top;\n",
       "    }\n",
       "\n",
       "    .dataframe thead th {\n",
       "        text-align: right;\n",
       "    }\n",
       "</style>\n",
       "<table border=\"1\" class=\"dataframe\">\n",
       "  <thead>\n",
       "    <tr style=\"text-align: right;\">\n",
       "      <th></th>\n",
       "      <th>enrollee_id</th>\n",
       "      <th>target</th>\n",
       "    </tr>\n",
       "  </thead>\n",
       "  <tbody>\n",
       "    <tr>\n",
       "      <th>0</th>\n",
       "      <td>25298</td>\n",
       "      <td>0.0</td>\n",
       "    </tr>\n",
       "    <tr>\n",
       "      <th>1</th>\n",
       "      <td>4241</td>\n",
       "      <td>1.0</td>\n",
       "    </tr>\n",
       "    <tr>\n",
       "      <th>2</th>\n",
       "      <td>24086</td>\n",
       "      <td>0.0</td>\n",
       "    </tr>\n",
       "    <tr>\n",
       "      <th>3</th>\n",
       "      <td>26773</td>\n",
       "      <td>0.0</td>\n",
       "    </tr>\n",
       "    <tr>\n",
       "      <th>4</th>\n",
       "      <td>32325</td>\n",
       "      <td>1.0</td>\n",
       "    </tr>\n",
       "  </tbody>\n",
       "</table>\n",
       "</div>"
      ],
      "text/plain": [
       "   enrollee_id  target\n",
       "0        25298     0.0\n",
       "1         4241     1.0\n",
       "2        24086     0.0\n",
       "3        26773     0.0\n",
       "4        32325     1.0"
      ]
     },
     "metadata": {},
     "output_type": "display_data"
    }
   ],
   "source": [
    "import pandas as pd\n",
    "#데이터 로드\n",
    "X = pd.read_csv(\"https://raw.githubusercontent.com/Datamanim/datarepo/main/HRdata/X_train.csv\")\n",
    "Y = pd.read_csv(\"https://raw.githubusercontent.com/Datamanim/datarepo/main/HRdata/y_train.csv\")\n",
    "X_submission = pd.read_csv(\"https://raw.githubusercontent.com/Datamanim/datarepo/main/HRdata/X_test.csv\")\n",
    "Y_submission = pd.read_csv(\"https://raw.githubusercontent.com/Datamanim/datarepo/main/HRdata/y_test.csv\")\n",
    "\n",
    "display(x_train.head())\n",
    "display(y_train.head())"
   ]
  },
  {
   "cell_type": "markdown",
   "id": "6e690044-ee83-4db9-85d2-e811d57becb9",
   "metadata": {},
   "source": [
    "#### EDA"
   ]
  },
  {
   "cell_type": "code",
   "execution_count": 228,
   "id": "81e6e51e-71ec-4150-b663-bda09ab7d2cd",
   "metadata": {
    "tags": []
   },
   "outputs": [
    {
     "name": "stdout",
     "output_type": "stream",
     "text": [
      "<class 'pandas.core.frame.DataFrame'>\n",
      "RangeIndex: 12452 entries, 0 to 12451\n",
      "Data columns (total 13 columns):\n",
      " #   Column                  Non-Null Count  Dtype  \n",
      "---  ------                  --------------  -----  \n",
      " 0   enrollee_id             12452 non-null  int64  \n",
      " 1   city                    12452 non-null  object \n",
      " 2   city_development_index  12452 non-null  float64\n",
      " 3   gender                  9535 non-null   object \n",
      " 4   relevent_experience     12452 non-null  object \n",
      " 5   enrolled_university     12195 non-null  object \n",
      " 6   education_level         12137 non-null  object \n",
      " 7   major_discipline        10586 non-null  object \n",
      " 8   experience              12415 non-null  object \n",
      " 9   company_size            8600 non-null   object \n",
      " 10  company_type            8471 non-null   object \n",
      " 11  last_new_job            12179 non-null  object \n",
      " 12  training_hours          12452 non-null  int64  \n",
      "dtypes: float64(1), int64(2), object(10)\n",
      "memory usage: 1.2+ MB\n"
     ]
    }
   ],
   "source": [
    "X.info()"
   ]
  },
  {
   "cell_type": "code",
   "execution_count": 229,
   "id": "42e5b457-c9bb-4627-8d51-909d713339b6",
   "metadata": {
    "tags": []
   },
   "outputs": [
    {
     "name": "stdout",
     "output_type": "stream",
     "text": [
      "<class 'pandas.core.frame.DataFrame'>\n",
      "RangeIndex: 12452 entries, 0 to 12451\n",
      "Data columns (total 2 columns):\n",
      " #   Column       Non-Null Count  Dtype  \n",
      "---  ------       --------------  -----  \n",
      " 0   enrollee_id  12452 non-null  int64  \n",
      " 1   target       12452 non-null  float64\n",
      "dtypes: float64(1), int64(1)\n",
      "memory usage: 194.7 KB\n"
     ]
    }
   ],
   "source": [
    "Y.info()"
   ]
  },
  {
   "cell_type": "code",
   "execution_count": 230,
   "id": "dddbeb0c-116d-4420-91ca-a784151060c3",
   "metadata": {
    "tags": []
   },
   "outputs": [
    {
     "name": "stdout",
     "output_type": "stream",
     "text": [
      "<class 'pandas.core.frame.DataFrame'>\n",
      "RangeIndex: 19158 entries, 0 to 19157\n",
      "Data columns (total 13 columns):\n",
      " #   Column                  Non-Null Count  Dtype  \n",
      "---  ------                  --------------  -----  \n",
      " 0   enrollee_id             19158 non-null  int64  \n",
      " 1   city                    19158 non-null  object \n",
      " 2   city_development_index  19158 non-null  float64\n",
      " 3   gender                  14650 non-null  object \n",
      " 4   relevent_experience     19158 non-null  object \n",
      " 5   enrolled_university     18772 non-null  object \n",
      " 6   education_level         18698 non-null  object \n",
      " 7   major_discipline        16345 non-null  object \n",
      " 8   experience              19093 non-null  object \n",
      " 9   company_size            13220 non-null  object \n",
      " 10  company_type            13018 non-null  object \n",
      " 11  last_new_job            18735 non-null  object \n",
      " 12  training_hours          19158 non-null  int64  \n",
      "dtypes: float64(1), int64(2), object(10)\n",
      "memory usage: 1.9+ MB\n"
     ]
    }
   ],
   "source": [
    "dfX = pd.concat([X, X_submission], axis=0, ignore_index=True)\n",
    "dfX.info()"
   ]
  },
  {
   "cell_type": "code",
   "execution_count": 231,
   "id": "caccad08-88de-4f9b-abc2-b8377bb1ffba",
   "metadata": {
    "tags": []
   },
   "outputs": [
    {
     "data": {
      "text/html": [
       "<div>\n",
       "<style scoped>\n",
       "    .dataframe tbody tr th:only-of-type {\n",
       "        vertical-align: middle;\n",
       "    }\n",
       "\n",
       "    .dataframe tbody tr th {\n",
       "        vertical-align: top;\n",
       "    }\n",
       "\n",
       "    .dataframe thead th {\n",
       "        text-align: right;\n",
       "    }\n",
       "</style>\n",
       "<table border=\"1\" class=\"dataframe\">\n",
       "  <thead>\n",
       "    <tr style=\"text-align: right;\">\n",
       "      <th></th>\n",
       "      <th>enrollee_id</th>\n",
       "      <th>city</th>\n",
       "      <th>city_development_index</th>\n",
       "      <th>gender</th>\n",
       "      <th>relevent_experience</th>\n",
       "      <th>enrolled_university</th>\n",
       "      <th>education_level</th>\n",
       "      <th>major_discipline</th>\n",
       "      <th>experience</th>\n",
       "      <th>company_size</th>\n",
       "      <th>company_type</th>\n",
       "      <th>last_new_job</th>\n",
       "      <th>training_hours</th>\n",
       "    </tr>\n",
       "  </thead>\n",
       "  <tbody>\n",
       "    <tr>\n",
       "      <th>0</th>\n",
       "      <td>25298</td>\n",
       "      <td>city_138</td>\n",
       "      <td>0.836</td>\n",
       "      <td>Male</td>\n",
       "      <td>No relevent experience</td>\n",
       "      <td>Full time course</td>\n",
       "      <td>High School</td>\n",
       "      <td>NaN</td>\n",
       "      <td>5</td>\n",
       "      <td>100-500</td>\n",
       "      <td>Pvt Ltd</td>\n",
       "      <td>1</td>\n",
       "      <td>45</td>\n",
       "    </tr>\n",
       "    <tr>\n",
       "      <th>1</th>\n",
       "      <td>4241</td>\n",
       "      <td>city_160</td>\n",
       "      <td>0.920</td>\n",
       "      <td>Male</td>\n",
       "      <td>No relevent experience</td>\n",
       "      <td>Full time course</td>\n",
       "      <td>High School</td>\n",
       "      <td>NaN</td>\n",
       "      <td>5</td>\n",
       "      <td>NaN</td>\n",
       "      <td>NaN</td>\n",
       "      <td>1</td>\n",
       "      <td>17</td>\n",
       "    </tr>\n",
       "  </tbody>\n",
       "</table>\n",
       "</div>"
      ],
      "text/plain": [
       "   enrollee_id      city  city_development_index gender   \n",
       "0        25298  city_138                   0.836   Male  \\\n",
       "1         4241  city_160                   0.920   Male   \n",
       "\n",
       "      relevent_experience enrolled_university education_level   \n",
       "0  No relevent experience    Full time course     High School  \\\n",
       "1  No relevent experience    Full time course     High School   \n",
       "\n",
       "  major_discipline experience company_size company_type last_new_job   \n",
       "0              NaN          5      100-500      Pvt Ltd            1  \\\n",
       "1              NaN          5          NaN          NaN            1   \n",
       "\n",
       "   training_hours  \n",
       "0              45  \n",
       "1              17  "
      ]
     },
     "execution_count": 231,
     "metadata": {},
     "output_type": "execute_result"
    }
   ],
   "source": [
    "dfX.head(2)"
   ]
  },
  {
   "cell_type": "code",
   "execution_count": 232,
   "id": "20ff3fab-922e-4607-83e0-33d7672f1b5d",
   "metadata": {
    "tags": []
   },
   "outputs": [
    {
     "data": {
      "text/html": [
       "<div>\n",
       "<style scoped>\n",
       "    .dataframe tbody tr th:only-of-type {\n",
       "        vertical-align: middle;\n",
       "    }\n",
       "\n",
       "    .dataframe tbody tr th {\n",
       "        vertical-align: top;\n",
       "    }\n",
       "\n",
       "    .dataframe thead th {\n",
       "        text-align: right;\n",
       "    }\n",
       "</style>\n",
       "<table border=\"1\" class=\"dataframe\">\n",
       "  <thead>\n",
       "    <tr style=\"text-align: right;\">\n",
       "      <th></th>\n",
       "      <th>enrollee_id</th>\n",
       "      <th>target</th>\n",
       "    </tr>\n",
       "  </thead>\n",
       "  <tbody>\n",
       "    <tr>\n",
       "      <th>0</th>\n",
       "      <td>25298</td>\n",
       "      <td>0.0</td>\n",
       "    </tr>\n",
       "    <tr>\n",
       "      <th>1</th>\n",
       "      <td>4241</td>\n",
       "      <td>1.0</td>\n",
       "    </tr>\n",
       "  </tbody>\n",
       "</table>\n",
       "</div>"
      ],
      "text/plain": [
       "   enrollee_id  target\n",
       "0        25298     0.0\n",
       "1         4241     1.0"
      ]
     },
     "execution_count": 232,
     "metadata": {},
     "output_type": "execute_result"
    }
   ],
   "source": [
    "Y.head(2)"
   ]
  },
  {
   "cell_type": "code",
   "execution_count": 233,
   "id": "f76312ba-ec52-4035-8c9e-8d2cbfa2e3ae",
   "metadata": {
    "tags": []
   },
   "outputs": [],
   "source": [
    "dfXY = pd.merge(dfX, Y, on='enrollee_id')"
   ]
  },
  {
   "cell_type": "code",
   "execution_count": 234,
   "id": "03e564dc-f5df-4cff-b56d-205723dafb88",
   "metadata": {
    "tags": []
   },
   "outputs": [
    {
     "data": {
      "text/html": [
       "<div>\n",
       "<style scoped>\n",
       "    .dataframe tbody tr th:only-of-type {\n",
       "        vertical-align: middle;\n",
       "    }\n",
       "\n",
       "    .dataframe tbody tr th {\n",
       "        vertical-align: top;\n",
       "    }\n",
       "\n",
       "    .dataframe thead th {\n",
       "        text-align: right;\n",
       "    }\n",
       "</style>\n",
       "<table border=\"1\" class=\"dataframe\">\n",
       "  <thead>\n",
       "    <tr style=\"text-align: right;\">\n",
       "      <th></th>\n",
       "      <th>enrollee_id</th>\n",
       "      <th>city_development_index</th>\n",
       "      <th>training_hours</th>\n",
       "      <th>target</th>\n",
       "    </tr>\n",
       "  </thead>\n",
       "  <tbody>\n",
       "    <tr>\n",
       "      <th>enrollee_id</th>\n",
       "      <td>1.000000</td>\n",
       "      <td>-0.029636</td>\n",
       "      <td>0.003429</td>\n",
       "      <td>0.042283</td>\n",
       "    </tr>\n",
       "    <tr>\n",
       "      <th>city_development_index</th>\n",
       "      <td>-0.029636</td>\n",
       "      <td>1.000000</td>\n",
       "      <td>-0.003967</td>\n",
       "      <td>-0.352236</td>\n",
       "    </tr>\n",
       "    <tr>\n",
       "      <th>training_hours</th>\n",
       "      <td>0.003429</td>\n",
       "      <td>-0.003967</td>\n",
       "      <td>1.000000</td>\n",
       "      <td>-0.013660</td>\n",
       "    </tr>\n",
       "    <tr>\n",
       "      <th>target</th>\n",
       "      <td>0.042283</td>\n",
       "      <td>-0.352236</td>\n",
       "      <td>-0.013660</td>\n",
       "      <td>1.000000</td>\n",
       "    </tr>\n",
       "  </tbody>\n",
       "</table>\n",
       "</div>"
      ],
      "text/plain": [
       "                        enrollee_id  city_development_index  training_hours   \n",
       "enrollee_id                1.000000               -0.029636        0.003429  \\\n",
       "city_development_index    -0.029636                1.000000       -0.003967   \n",
       "training_hours             0.003429               -0.003967        1.000000   \n",
       "target                     0.042283               -0.352236       -0.013660   \n",
       "\n",
       "                          target  \n",
       "enrollee_id             0.042283  \n",
       "city_development_index -0.352236  \n",
       "training_hours         -0.013660  \n",
       "target                  1.000000  "
      ]
     },
     "execution_count": 234,
     "metadata": {},
     "output_type": "execute_result"
    }
   ],
   "source": [
    "dfXY.corr(numeric_only=True)"
   ]
  },
  {
   "cell_type": "code",
   "execution_count": 235,
   "id": "bdca98f2-e9a1-4a02-af90-938fa38ab2b7",
   "metadata": {
    "tags": []
   },
   "outputs": [
    {
     "name": "stdout",
     "output_type": "stream",
     "text": [
      "target  gender\n",
      "0.0     Male      0.904568\n",
      "        Female    0.081838\n",
      "        Other     0.013594\n",
      "1.0     Male      0.890776\n",
      "        Female    0.094539\n",
      "        Other     0.014686\n",
      "Name: proportion, dtype: float64\n",
      "------------------------------\n",
      "target  enrolled_university\n",
      "0.0     no_enrollment          0.771335\n",
      "        Full time course       0.164687\n",
      "        Part time course       0.063978\n",
      "1.0     no_enrollment          0.628477\n",
      "        Full time course       0.304636\n",
      "        Part time course       0.066887\n",
      "Name: proportion, dtype: float64\n",
      "------------------------------\n",
      "target  education_level\n",
      "0.0     Graduate           0.595544\n",
      "        Masters            0.242125\n",
      "        High School        0.118099\n",
      "        Phd                0.025354\n",
      "        Primary School     0.018878\n",
      "1.0     Graduate           0.698612\n",
      "        Masters            0.194977\n",
      "        High School        0.085922\n",
      "        Phd                0.012558\n",
      "        Primary School     0.007931\n",
      "Name: proportion, dtype: float64\n",
      "------------------------------\n",
      "target  major_discipline\n",
      "0.0     STEM                0.886129\n",
      "        Humanities          0.043943\n",
      "        Other               0.023309\n",
      "        Business Degree     0.017959\n",
      "        Arts                0.015412\n",
      "        No Major            0.013247\n",
      "1.0     STEM                0.898355\n",
      "        Humanities          0.033272\n",
      "        Other               0.023766\n",
      "        Business Degree     0.019744\n",
      "        Arts                0.013163\n",
      "        No Major            0.011700\n",
      "Name: proportion, dtype: float64\n",
      "------------------------------\n",
      "target  experience\n",
      "0.0     >20           0.198949\n",
      "        5             0.071000\n",
      "        4             0.068747\n",
      "        6             0.059417\n",
      "        3             0.058880\n",
      "        9             0.055877\n",
      "        10            0.052124\n",
      "        2             0.052124\n",
      "        7             0.049550\n",
      "        8             0.043115\n",
      "        15            0.041506\n",
      "        11            0.035822\n",
      "        14            0.031853\n",
      "        16            0.030888\n",
      "        12            0.027778\n",
      "        13            0.022952\n",
      "        1             0.020914\n",
      "        17            0.019841\n",
      "        <1            0.019412\n",
      "        19            0.017804\n",
      "        18            0.013728\n",
      "        20            0.007722\n",
      "1.0     >20           0.104820\n",
      "        3             0.099968\n",
      "        4             0.098350\n",
      "        5             0.085409\n",
      "        6             0.077968\n",
      "        2             0.073439\n",
      "        7             0.064380\n",
      "        1             0.051440\n",
      "        <1            0.048528\n",
      "        10            0.047557\n",
      "        9             0.043999\n",
      "        8             0.038175\n",
      "        11            0.030411\n",
      "        15            0.026852\n",
      "        14            0.022970\n",
      "        12            0.018764\n",
      "        16            0.014882\n",
      "        13            0.014882\n",
      "        17            0.012617\n",
      "        19            0.011000\n",
      "        18            0.007441\n",
      "        20            0.006147\n",
      "Name: proportion, dtype: float64\n",
      "------------------------------\n",
      "target  company_size\n",
      "0.0     50-99           0.234037\n",
      "        100-500         0.196234\n",
      "        10000+          0.153051\n",
      "        1000-4999       0.103497\n",
      "        10/49           0.102223\n",
      "        <10             0.099391\n",
      "        500-999         0.070650\n",
      "        5000-9999       0.040917\n",
      "1.0     50-99           0.225764\n",
      "        100-500         0.186077\n",
      "        10000+          0.166558\n",
      "        10/49           0.146389\n",
      "        <10             0.088484\n",
      "        1000-4999       0.078725\n",
      "        500-999         0.065062\n",
      "        5000-9999       0.042941\n",
      "Name: proportion, dtype: float64\n",
      "------------------------------\n",
      "target  company_type       \n",
      "0.0     Pvt Ltd                0.759353\n",
      "        Funded Startup         0.081901\n",
      "        Public Sector          0.071212\n",
      "        NGO                    0.039867\n",
      "        Early Stage Startup    0.039145\n",
      "        Other                  0.008522\n",
      "1.0     Pvt Ltd                0.746770\n",
      "        Public Sector          0.082041\n",
      "        Early Stage Startup    0.060724\n",
      "        Funded Startup         0.054910\n",
      "        NGO                    0.041344\n",
      "        Other                  0.014212\n",
      "Name: proportion, dtype: float64\n",
      "------------------------------\n",
      "target  last_new_job\n",
      "0.0     1               0.413917\n",
      "        >4              0.195797\n",
      "        2               0.157247\n",
      "        never           0.119895\n",
      "        4               0.056953\n",
      "        3               0.056191\n",
      "1.0     1               0.452603\n",
      "        never           0.161215\n",
      "        2               0.150534\n",
      "        >4              0.128171\n",
      "        3               0.056409\n",
      "        4               0.051068\n",
      "Name: proportion, dtype: float64\n",
      "------------------------------\n"
     ]
    }
   ],
   "source": [
    "for target in dfXY.columns[dfXY.isna().sum() > 0]:\n",
    "    print(dfXY.groupby('target')[target].value_counts(normalize=True))\n",
    "    print('-' * 30)"
   ]
  },
  {
   "cell_type": "markdown",
   "id": "26c25eaf-81ca-464a-887c-7e4a5db52217",
   "metadata": {},
   "source": [
    "#### 데이터 전처리"
   ]
  },
  {
   "cell_type": "code",
   "execution_count": 236,
   "id": "f3aecd99-26d0-4a92-97eb-53e48b69fabc",
   "metadata": {
    "tags": []
   },
   "outputs": [
    {
     "name": "stdout",
     "output_type": "stream",
     "text": [
      "[(12452, 13), (6706, 13), (19158, 13), (12452, 2)]\n"
     ]
    }
   ],
   "source": [
    "print([x.shape for x in [X, X_submission, dfX, Y]])"
   ]
  },
  {
   "cell_type": "code",
   "execution_count": 237,
   "id": "3377146e-4866-4bd2-8f9e-14a110d49437",
   "metadata": {
    "tags": []
   },
   "outputs": [
    {
     "data": {
      "text/plain": [
       "enrollee_id                  0\n",
       "city                         0\n",
       "city_development_index       0\n",
       "gender                    2917\n",
       "relevent_experience          0\n",
       "enrolled_university        257\n",
       "education_level            315\n",
       "major_discipline          1866\n",
       "experience                  37\n",
       "company_size              3852\n",
       "company_type              3981\n",
       "last_new_job               273\n",
       "training_hours               0\n",
       "dtype: int64"
      ]
     },
     "execution_count": 237,
     "metadata": {},
     "output_type": "execute_result"
    }
   ],
   "source": [
    "X.isna().sum()"
   ]
  },
  {
   "cell_type": "code",
   "execution_count": 238,
   "id": "b6bea9bf-6b6d-4780-a199-cb0964746c1f",
   "metadata": {
    "tags": []
   },
   "outputs": [
    {
     "data": {
      "text/plain": [
       "enrollee_id                  0\n",
       "city                         0\n",
       "city_development_index       0\n",
       "gender                    1591\n",
       "relevent_experience          0\n",
       "enrolled_university        129\n",
       "education_level            145\n",
       "major_discipline           947\n",
       "experience                  28\n",
       "company_size              2086\n",
       "company_type              2159\n",
       "last_new_job               150\n",
       "training_hours               0\n",
       "dtype: int64"
      ]
     },
     "execution_count": 238,
     "metadata": {},
     "output_type": "execute_result"
    }
   ],
   "source": [
    "X_submission.isna().sum()"
   ]
  },
  {
   "cell_type": "code",
   "execution_count": 239,
   "id": "d62828b7-beac-49a6-a4c2-77a5d4d4a773",
   "metadata": {
    "tags": []
   },
   "outputs": [
    {
     "data": {
      "text/plain": [
       "enrollee_id                  0\n",
       "city                         0\n",
       "city_development_index       0\n",
       "gender                    4508\n",
       "relevent_experience          0\n",
       "enrolled_university        386\n",
       "education_level            460\n",
       "major_discipline          2813\n",
       "experience                  65\n",
       "company_size              5938\n",
       "company_type              6140\n",
       "last_new_job               423\n",
       "training_hours               0\n",
       "dtype: int64"
      ]
     },
     "execution_count": 239,
     "metadata": {},
     "output_type": "execute_result"
    }
   ],
   "source": [
    "dfX.isna().sum()"
   ]
  },
  {
   "cell_type": "code",
   "execution_count": 240,
   "id": "1afbbbcb-c2ef-484d-81d1-07e3fc15c9f9",
   "metadata": {
    "tags": []
   },
   "outputs": [
    {
     "name": "stdout",
     "output_type": "stream",
     "text": [
      "Feature: gender\n",
      "Missing Value Count: 4508\n",
      "['Male' nan 'Female' 'Other']\n",
      "gender\n",
      "Male      0.902457\n",
      "Female    0.084505\n",
      "Other     0.013038\n",
      "Name: proportion, dtype: float64\n",
      "==================================================\n",
      "Feature: enrolled_university\n",
      "Missing Value Count: 386\n",
      "['Full time course' 'no_enrollment' 'Part time course' nan]\n",
      "enrolled_university\n",
      "no_enrollment       0.736043\n",
      "Full time course    0.200139\n",
      "Part time course    0.063818\n",
      "Name: proportion, dtype: float64\n",
      "==================================================\n",
      "Feature: education_level\n",
      "Missing Value Count: 460\n",
      "['High School' 'Graduate' 'Primary School' 'Masters' 'Phd' nan]\n",
      "education_level\n",
      "Graduate          0.620280\n",
      "Masters           0.233234\n",
      "High School       0.107872\n",
      "Phd               0.022141\n",
      "Primary School    0.016472\n",
      "Name: proportion, dtype: float64\n",
      "==================================================\n",
      "Feature: major_discipline\n",
      "Missing Value Count: 2813\n",
      "[nan 'STEM' 'Other' 'Humanities' 'No Major' 'Business Degree' 'Arts']\n",
      "major_discipline\n",
      "STEM               0.886632\n",
      "Humanities         0.040930\n",
      "Other              0.023310\n",
      "Business Degree    0.020006\n",
      "Arts               0.015479\n",
      "No Major           0.013643\n",
      "Name: proportion, dtype: float64\n",
      "==================================================\n",
      "Feature: experience\n",
      "Missing Value Count: 65\n",
      "['5' '10' '>20' '6' '14' '20' '7' '9' '8' '4' '3' '13' '16' '2' '12' '15'\n",
      " '11' '1' '<1' '17' '18' nan '19']\n",
      "experience\n",
      ">20    0.172105\n",
      "5      0.074897\n",
      "4      0.073482\n",
      "3      0.070916\n",
      "6      0.063688\n",
      "2      0.059027\n",
      "7      0.053842\n",
      "10     0.051590\n",
      "9      0.051328\n",
      "8      0.042005\n",
      "15     0.035929\n",
      "11     0.034777\n",
      "14     0.030692\n",
      "1      0.028754\n",
      "<1     0.027340\n",
      "16     0.026607\n",
      "12     0.025873\n",
      "13     0.020898\n",
      "17     0.017912\n",
      "19     0.015922\n",
      "18     0.014665\n",
      "20     0.007752\n",
      "Name: proportion, dtype: float64\n",
      "==================================================\n",
      "Feature: company_size\n",
      "Missing Value Count: 5938\n",
      "['100-500' nan '50-99' '10/49' '10000+' '1000-4999' '<10' '500-999'\n",
      " '5000-9999']\n",
      "company_size\n",
      "50-99        0.233207\n",
      "100-500      0.194478\n",
      "10000+       0.152723\n",
      "10/49        0.111271\n",
      "1000-4999    0.100454\n",
      "<10          0.098941\n",
      "500-999      0.066339\n",
      "5000-9999    0.042587\n",
      "Name: proportion, dtype: float64\n",
      "==================================================\n",
      "Feature: company_type\n",
      "Missing Value Count: 6140\n",
      "['Pvt Ltd' nan 'Public Sector' 'NGO' 'Funded Startup'\n",
      " 'Early Stage Startup' 'Other']\n",
      "company_type\n",
      "Pvt Ltd                0.754110\n",
      "Funded Startup         0.076894\n",
      "Public Sector          0.073360\n",
      "Early Stage Startup    0.046320\n",
      "NGO                    0.040022\n",
      "Other                  0.009295\n",
      "Name: proportion, dtype: float64\n",
      "==================================================\n",
      "Feature: last_new_job\n",
      "Missing Value Count: 423\n",
      "['1' '>4' 'never' '2' '4' '3' nan]\n",
      "last_new_job\n",
      "1        0.429143\n",
      ">4       0.175607\n",
      "2        0.154790\n",
      "never    0.130878\n",
      "4        0.054924\n",
      "3        0.054657\n",
      "Name: proportion, dtype: float64\n",
      "==================================================\n"
     ]
    }
   ],
   "source": [
    "for target in dfX.columns[dfX.isna().sum() > 0]:\n",
    "    print(f'Feature: {target}')\n",
    "    print(f'Missing Value Count: {dfX.isna().sum()[target]}')\n",
    "    print(dfX[target].unique())\n",
    "    print(dfX[target].value_counts(normalize=True))\n",
    "    print(\"=\" * 50)"
   ]
  },
  {
   "cell_type": "code",
   "execution_count": 241,
   "id": "bdd7ae60-83bd-4bab-853b-cc2dac927e32",
   "metadata": {
    "tags": []
   },
   "outputs": [],
   "source": [
    "for target in dfX.columns[dfX.isna().sum() > 0]:\n",
    "    dfX[target] = LabelEncoder().fit_transform(dfX[target]).astype('int')"
   ]
  },
  {
   "cell_type": "code",
   "execution_count": 242,
   "id": "9f7f81b3-4955-4a60-83aa-036c5b52f629",
   "metadata": {
    "tags": []
   },
   "outputs": [
    {
     "data": {
      "text/plain": [
       "enrollee_id               0\n",
       "city                      0\n",
       "city_development_index    0\n",
       "gender                    0\n",
       "relevent_experience       0\n",
       "enrolled_university       0\n",
       "education_level           0\n",
       "major_discipline          0\n",
       "experience                0\n",
       "company_size              0\n",
       "company_type              0\n",
       "last_new_job              0\n",
       "training_hours            0\n",
       "dtype: int64"
      ]
     },
     "execution_count": 242,
     "metadata": {},
     "output_type": "execute_result"
    }
   ],
   "source": [
    "dfX.isna().sum()"
   ]
  },
  {
   "cell_type": "code",
   "execution_count": 246,
   "id": "599ee71e-8244-4e8f-8777-3a69beebe273",
   "metadata": {
    "tags": []
   },
   "outputs": [
    {
     "name": "stdout",
     "output_type": "stream",
     "text": [
      "<class 'pandas.core.frame.DataFrame'>\n",
      "RangeIndex: 19158 entries, 0 to 19157\n",
      "Data columns (total 14 columns):\n",
      " #   Column                   Non-Null Count  Dtype  \n",
      "---  ------                   --------------  -----  \n",
      " 0   enrollee_id              19158 non-null  int64  \n",
      " 1   city                     19158 non-null  int32  \n",
      " 2   city_development_index   19158 non-null  float64\n",
      " 3   gender                   19158 non-null  int32  \n",
      " 4   enrolled_university      19158 non-null  int32  \n",
      " 5   education_level          19158 non-null  int32  \n",
      " 6   major_discipline         19158 non-null  int32  \n",
      " 7   experience               19158 non-null  int32  \n",
      " 8   company_size             19158 non-null  int32  \n",
      " 9   company_type             19158 non-null  int32  \n",
      " 10  last_new_job             19158 non-null  int32  \n",
      " 11  training_hours           19158 non-null  int64  \n",
      " 12  Has relevent experience  19158 non-null  bool   \n",
      " 13  No relevent experience   19158 non-null  bool   \n",
      "dtypes: bool(2), float64(1), int32(9), int64(2)\n",
      "memory usage: 1.1 MB\n"
     ]
    }
   ],
   "source": [
    "dfX.info()"
   ]
  },
  {
   "cell_type": "code",
   "execution_count": 244,
   "id": "834c72ce-3afb-401c-8f55-82fc14d8ae41",
   "metadata": {
    "tags": []
   },
   "outputs": [],
   "source": [
    "dfX['city'] = LabelEncoder().fit_transform(dfX['city']).astype('int')"
   ]
  },
  {
   "cell_type": "code",
   "execution_count": 245,
   "id": "2a48d6b9-9fd3-4890-beb1-a44bd20d9199",
   "metadata": {
    "tags": []
   },
   "outputs": [],
   "source": [
    "dfX = pd.concat([dfX, pd.get_dummies(dfX['relevent_experience'])], axis=1)\n",
    "dfX = dfX.drop(columns=['relevent_experience'])"
   ]
  },
  {
   "cell_type": "markdown",
   "id": "5dd544de-e409-4527-98b4-0aa41210820c",
   "metadata": {},
   "source": [
    "#### 모델링"
   ]
  },
  {
   "cell_type": "code",
   "execution_count": 247,
   "id": "5f75b19a-50ef-44cf-aa84-3f121ee27240",
   "metadata": {
    "tags": []
   },
   "outputs": [
    {
     "data": {
      "text/plain": [
       "Index(['enrollee_id', 'city', 'city_development_index', 'gender',\n",
       "       'enrolled_university', 'education_level', 'major_discipline',\n",
       "       'experience', 'company_size', 'company_type', 'last_new_job',\n",
       "       'training_hours', 'Has relevent experience', 'No relevent experience'],\n",
       "      dtype='object')"
      ]
     },
     "execution_count": 247,
     "metadata": {},
     "output_type": "execute_result"
    }
   ],
   "source": [
    "dfX.columns"
   ]
  },
  {
   "cell_type": "code",
   "execution_count": 248,
   "id": "6b6ebe9e-4d45-42ac-af5e-83aee3f89d9a",
   "metadata": {
    "tags": []
   },
   "outputs": [],
   "source": [
    "x_features = ['city', 'city_development_index', 'gender','enrolled_university', 'education_level', \\\n",
    "              'major_discipline','experience', 'company_size', 'company_type', 'last_new_job', \\\n",
    "              'training_hours', 'Has relevent experience', 'No relevent experience']\n",
    "y_feature = 'target'"
   ]
  },
  {
   "cell_type": "code",
   "execution_count": 249,
   "id": "9de45287-ea31-433c-90ee-b9ee82d0cd83",
   "metadata": {
    "tags": []
   },
   "outputs": [],
   "source": [
    "XF, X_submissionF, YF = get_classification_model_data(dfX, Y, len(X), x_features, y_feature, is_normalized=False)"
   ]
  },
  {
   "cell_type": "code",
   "execution_count": 250,
   "id": "f0b0f04c-22b0-4f52-9f83-12926279b159",
   "metadata": {
    "tags": []
   },
   "outputs": [],
   "source": [
    "xtrain, xtest, ytrain, ytest = train_test_split(XF, YF, test_size=0.3, random_state=0, stratify=YF)"
   ]
  },
  {
   "cell_type": "code",
   "execution_count": 254,
   "id": "ae58628a-c5e5-4242-bc31-feadc38cae8d",
   "metadata": {
    "tags": []
   },
   "outputs": [],
   "source": [
    "result = compare_classification_model(xtrain, xtest, ytrain, ytest, is_binary_model=True)"
   ]
  },
  {
   "cell_type": "code",
   "execution_count": 256,
   "id": "3500238a-ce1d-45aa-86cd-f07a9477e6b1",
   "metadata": {
    "tags": []
   },
   "outputs": [
    {
     "data": {
      "text/html": [
       "<div>\n",
       "<style scoped>\n",
       "    .dataframe tbody tr th:only-of-type {\n",
       "        vertical-align: middle;\n",
       "    }\n",
       "\n",
       "    .dataframe tbody tr th {\n",
       "        vertical-align: top;\n",
       "    }\n",
       "\n",
       "    .dataframe thead th {\n",
       "        text-align: right;\n",
       "    }\n",
       "</style>\n",
       "<table border=\"1\" class=\"dataframe\">\n",
       "  <thead>\n",
       "    <tr style=\"text-align: right;\">\n",
       "      <th></th>\n",
       "      <th>Train_Accuray</th>\n",
       "      <th>Test_Accuracy</th>\n",
       "      <th>DIFF</th>\n",
       "      <th>ROC_AUC</th>\n",
       "    </tr>\n",
       "  </thead>\n",
       "  <tbody>\n",
       "    <tr>\n",
       "      <th>RandomForestClassifier</th>\n",
       "      <td>0.999541</td>\n",
       "      <td>0.792024</td>\n",
       "      <td>0.207518</td>\n",
       "      <td>0.797234</td>\n",
       "    </tr>\n",
       "    <tr>\n",
       "      <th>XGBClassifier</th>\n",
       "      <td>0.918082</td>\n",
       "      <td>0.785332</td>\n",
       "      <td>0.132750</td>\n",
       "      <td>0.792830</td>\n",
       "    </tr>\n",
       "    <tr>\n",
       "      <th>LogisticRegression</th>\n",
       "      <td>0.770652</td>\n",
       "      <td>0.773019</td>\n",
       "      <td>0.002368</td>\n",
       "      <td>0.779209</td>\n",
       "    </tr>\n",
       "    <tr>\n",
       "      <th>KNeighborsClassifier</th>\n",
       "      <td>0.810464</td>\n",
       "      <td>0.750535</td>\n",
       "      <td>0.059928</td>\n",
       "      <td>0.684521</td>\n",
       "    </tr>\n",
       "    <tr>\n",
       "      <th>DecisionTreeClassifier</th>\n",
       "      <td>0.999656</td>\n",
       "      <td>0.736349</td>\n",
       "      <td>0.263307</td>\n",
       "      <td>0.651805</td>\n",
       "    </tr>\n",
       "  </tbody>\n",
       "</table>\n",
       "</div>"
      ],
      "text/plain": [
       "                        Train_Accuray  Test_Accuracy      DIFF   ROC_AUC\n",
       "RandomForestClassifier       0.999541       0.792024  0.207518  0.797234\n",
       "XGBClassifier                0.918082       0.785332  0.132750  0.792830\n",
       "LogisticRegression           0.770652       0.773019  0.002368  0.779209\n",
       "KNeighborsClassifier         0.810464       0.750535  0.059928  0.684521\n",
       "DecisionTreeClassifier       0.999656       0.736349  0.263307  0.651805"
      ]
     },
     "execution_count": 256,
     "metadata": {},
     "output_type": "execute_result"
    }
   ],
   "source": [
    "result.sort_values(['Test_Accuracy', 'DIFF', 'ROC_AUC'], ascending=[False, True, False])"
   ]
  },
  {
   "cell_type": "code",
   "execution_count": 257,
   "id": "f8330ea7-e5bd-417c-828b-5a61c3dc20b2",
   "metadata": {
    "tags": []
   },
   "outputs": [
    {
     "name": "stdout",
     "output_type": "stream",
     "text": [
      "Train_Accuray    0.918082\n",
      "Test_Accuracy    0.785332\n",
      "ROC_AUC          0.792830\n",
      "dtype: float64\n"
     ]
    }
   ],
   "source": [
    "model = XGBClassifier().fit(xtrain, ytrain)\n",
    "print(get_classification_model_score(model, xtrain, xtest, ytrain, ytest, is_binary_model=True))"
   ]
  },
  {
   "cell_type": "code",
   "execution_count": 266,
   "id": "86fd70f2-f8cc-4a89-8de7-865b1227b709",
   "metadata": {
    "tags": []
   },
   "outputs": [
    {
     "data": {
      "text/html": [
       "<div>\n",
       "<style scoped>\n",
       "    .dataframe tbody tr th:only-of-type {\n",
       "        vertical-align: middle;\n",
       "    }\n",
       "\n",
       "    .dataframe tbody tr th {\n",
       "        vertical-align: top;\n",
       "    }\n",
       "\n",
       "    .dataframe thead th {\n",
       "        text-align: right;\n",
       "    }\n",
       "</style>\n",
       "<table border=\"1\" class=\"dataframe\">\n",
       "  <thead>\n",
       "    <tr style=\"text-align: right;\">\n",
       "      <th></th>\n",
       "      <th>enrollee_id</th>\n",
       "      <th>target</th>\n",
       "    </tr>\n",
       "  </thead>\n",
       "  <tbody>\n",
       "    <tr>\n",
       "      <th>0</th>\n",
       "      <td>7129</td>\n",
       "      <td>0.389801</td>\n",
       "    </tr>\n",
       "    <tr>\n",
       "      <th>1</th>\n",
       "      <td>31037</td>\n",
       "      <td>0.201138</td>\n",
       "    </tr>\n",
       "  </tbody>\n",
       "</table>\n",
       "</div>"
      ],
      "text/plain": [
       "   enrollee_id    target\n",
       "0         7129  0.389801\n",
       "1        31037  0.201138"
      ]
     },
     "execution_count": 266,
     "metadata": {},
     "output_type": "execute_result"
    }
   ],
   "source": [
    "Y_pred = model.predict_proba(X_submissionF)[:,1]\n",
    "submission = pd.DataFrame({'enrollee_id': X_submission['enrollee_id'], 'target': Y_pred})\n",
    "submission.head(2)"
   ]
  },
  {
   "cell_type": "code",
   "execution_count": 267,
   "id": "048c8d51-c732-4f3e-a169-8aa74bda8433",
   "metadata": {
    "tags": []
   },
   "outputs": [],
   "source": [
    "submission.to_csv('./submission.csv', index=False)"
   ]
  },
  {
   "cell_type": "markdown",
   "id": "e0ae7aae-9c54-49a2-9684-d96ae0ebc4a9",
   "metadata": {},
   "source": [
    "#### 실제 결과와 비교 (ROC AUC Score)"
   ]
  },
  {
   "cell_type": "code",
   "execution_count": 268,
   "id": "211f8819-a4f1-4ec1-87dc-b4ea9c119664",
   "metadata": {
    "tags": []
   },
   "outputs": [
    {
     "data": {
      "text/html": [
       "<div>\n",
       "<style scoped>\n",
       "    .dataframe tbody tr th:only-of-type {\n",
       "        vertical-align: middle;\n",
       "    }\n",
       "\n",
       "    .dataframe tbody tr th {\n",
       "        vertical-align: top;\n",
       "    }\n",
       "\n",
       "    .dataframe thead th {\n",
       "        text-align: right;\n",
       "    }\n",
       "</style>\n",
       "<table border=\"1\" class=\"dataframe\">\n",
       "  <thead>\n",
       "    <tr style=\"text-align: right;\">\n",
       "      <th></th>\n",
       "      <th>enrollee_id</th>\n",
       "      <th>target</th>\n",
       "    </tr>\n",
       "  </thead>\n",
       "  <tbody>\n",
       "    <tr>\n",
       "      <th>0</th>\n",
       "      <td>7129</td>\n",
       "      <td>1.0</td>\n",
       "    </tr>\n",
       "    <tr>\n",
       "      <th>1</th>\n",
       "      <td>31037</td>\n",
       "      <td>1.0</td>\n",
       "    </tr>\n",
       "    <tr>\n",
       "      <th>2</th>\n",
       "      <td>22179</td>\n",
       "      <td>1.0</td>\n",
       "    </tr>\n",
       "    <tr>\n",
       "      <th>3</th>\n",
       "      <td>29724</td>\n",
       "      <td>1.0</td>\n",
       "    </tr>\n",
       "    <tr>\n",
       "      <th>4</th>\n",
       "      <td>17977</td>\n",
       "      <td>0.0</td>\n",
       "    </tr>\n",
       "  </tbody>\n",
       "</table>\n",
       "</div>"
      ],
      "text/plain": [
       "   enrollee_id  target\n",
       "0         7129     1.0\n",
       "1        31037     1.0\n",
       "2        22179     1.0\n",
       "3        29724     1.0\n",
       "4        17977     0.0"
      ]
     },
     "execution_count": 268,
     "metadata": {},
     "output_type": "execute_result"
    }
   ],
   "source": [
    "Y_submission.head()"
   ]
  },
  {
   "cell_type": "code",
   "execution_count": 271,
   "id": "aa23c712-fc46-42b7-acaa-909f91ec1ad3",
   "metadata": {
    "tags": []
   },
   "outputs": [
    {
     "data": {
      "text/html": [
       "<div>\n",
       "<style scoped>\n",
       "    .dataframe tbody tr th:only-of-type {\n",
       "        vertical-align: middle;\n",
       "    }\n",
       "\n",
       "    .dataframe tbody tr th {\n",
       "        vertical-align: top;\n",
       "    }\n",
       "\n",
       "    .dataframe thead th {\n",
       "        text-align: right;\n",
       "    }\n",
       "</style>\n",
       "<table border=\"1\" class=\"dataframe\">\n",
       "  <thead>\n",
       "    <tr style=\"text-align: right;\">\n",
       "      <th></th>\n",
       "      <th>enrollee_id</th>\n",
       "      <th>target</th>\n",
       "    </tr>\n",
       "  </thead>\n",
       "  <tbody>\n",
       "    <tr>\n",
       "      <th>0</th>\n",
       "      <td>7129</td>\n",
       "      <td>0.389801</td>\n",
       "    </tr>\n",
       "    <tr>\n",
       "      <th>1</th>\n",
       "      <td>31037</td>\n",
       "      <td>0.201138</td>\n",
       "    </tr>\n",
       "    <tr>\n",
       "      <th>2</th>\n",
       "      <td>22179</td>\n",
       "      <td>0.108924</td>\n",
       "    </tr>\n",
       "    <tr>\n",
       "      <th>3</th>\n",
       "      <td>29724</td>\n",
       "      <td>0.312292</td>\n",
       "    </tr>\n",
       "    <tr>\n",
       "      <th>4</th>\n",
       "      <td>17977</td>\n",
       "      <td>0.088666</td>\n",
       "    </tr>\n",
       "  </tbody>\n",
       "</table>\n",
       "</div>"
      ],
      "text/plain": [
       "   enrollee_id    target\n",
       "0         7129  0.389801\n",
       "1        31037  0.201138\n",
       "2        22179  0.108924\n",
       "3        29724  0.312292\n",
       "4        17977  0.088666"
      ]
     },
     "execution_count": 271,
     "metadata": {},
     "output_type": "execute_result"
    }
   ],
   "source": [
    "Y_pred = pd.read_csv('./submission.csv')\n",
    "Y_pred.head()"
   ]
  },
  {
   "cell_type": "code",
   "execution_count": 272,
   "id": "21e1a48c-b67b-41b7-a76a-7d866e569b02",
   "metadata": {
    "tags": []
   },
   "outputs": [
    {
     "data": {
      "text/plain": [
       "0.7801346774944731"
      ]
     },
     "execution_count": 272,
     "metadata": {},
     "output_type": "execute_result"
    }
   ],
   "source": [
    "roc_auc_score(Y_submission['target'], Y_pred['target'])"
   ]
  },
  {
   "cell_type": "markdown",
   "id": "9a793999",
   "metadata": {
    "toc-hr-collapsed": true
   },
   "source": [
    "### 정시 배송 여부 판단 (2회기출)"
   ]
  },
  {
   "cell_type": "markdown",
   "id": "952b5def",
   "metadata": {
    "ExecuteTime": {
     "end_time": "2022-05-01T10:20:43.318778Z",
     "start_time": "2022-05-01T10:20:43.314220Z"
    }
   },
   "source": [
    "```{attention}  \n",
    "데이터 설명 : e-commerce 배송의 정시 도착여부 (1: 정시배송 0 : 정시미배송)    \n",
    "x_train: https://raw.githubusercontent.com/Datamanim/datarepo/main/shipping/X_train.csv    \n",
    "y_train: https://raw.githubusercontent.com/Datamanim/datarepo/main/shipping/y_train.csv  \n",
    "x_test: https://raw.githubusercontent.com/Datamanim/datarepo/main/shipping/X_test.csv    \n",
    "x_label(평가용) : https://raw.githubusercontent.com/Datamanim/datarepo/main/shipping/y_test.csv    \n",
    "데이터 출처 :https://www.kaggle.com/datasets/prachi13/customer-analytics (참고, 데이터 수정)   \n",
    "```  "
   ]
  },
  {
   "cell_type": "markdown",
   "id": "27adc785",
   "metadata": {},
   "source": [
    "```{admonition} 캐글 공유 코드 저장소 \n",
    "**본인만의 코드를 작성하고 upvote를 받아 broze medal을 획득 해보세요**\n",
    "[캐글 노트북 링크](https://www.kaggle.com/datasets/kukuroo3/ecommerce-shipping-data-competition-form/code)\n",
    "```"
   ]
  },
  {
   "cell_type": "code",
   "execution_count": 278,
   "id": "53d8c31f",
   "metadata": {
    "ExecuteTime": {
     "end_time": "2022-05-01T10:21:10.056417Z",
     "start_time": "2022-05-01T10:21:08.282782Z"
    },
    "tags": []
   },
   "outputs": [
    {
     "data": {
      "text/html": [
       "<div>\n",
       "<style scoped>\n",
       "    .dataframe tbody tr th:only-of-type {\n",
       "        vertical-align: middle;\n",
       "    }\n",
       "\n",
       "    .dataframe tbody tr th {\n",
       "        vertical-align: top;\n",
       "    }\n",
       "\n",
       "    .dataframe thead th {\n",
       "        text-align: right;\n",
       "    }\n",
       "</style>\n",
       "<table border=\"1\" class=\"dataframe\">\n",
       "  <thead>\n",
       "    <tr style=\"text-align: right;\">\n",
       "      <th></th>\n",
       "      <th>ID</th>\n",
       "      <th>Warehouse_block</th>\n",
       "      <th>Mode_of_Shipment</th>\n",
       "      <th>Customer_care_calls</th>\n",
       "      <th>Customer_rating</th>\n",
       "      <th>Cost_of_the_Product</th>\n",
       "      <th>Prior_purchases</th>\n",
       "      <th>Product_importance</th>\n",
       "      <th>Gender</th>\n",
       "      <th>Discount_offered</th>\n",
       "      <th>Weight_in_gms</th>\n",
       "    </tr>\n",
       "  </thead>\n",
       "  <tbody>\n",
       "    <tr>\n",
       "      <th>0</th>\n",
       "      <td>6045</td>\n",
       "      <td>A</td>\n",
       "      <td>Flight</td>\n",
       "      <td>4</td>\n",
       "      <td>3</td>\n",
       "      <td>266</td>\n",
       "      <td>5</td>\n",
       "      <td>high</td>\n",
       "      <td>F</td>\n",
       "      <td>5</td>\n",
       "      <td>1590</td>\n",
       "    </tr>\n",
       "    <tr>\n",
       "      <th>1</th>\n",
       "      <td>44</td>\n",
       "      <td>F</td>\n",
       "      <td>Ship</td>\n",
       "      <td>3</td>\n",
       "      <td>1</td>\n",
       "      <td>174</td>\n",
       "      <td>2</td>\n",
       "      <td>low</td>\n",
       "      <td>M</td>\n",
       "      <td>44</td>\n",
       "      <td>1556</td>\n",
       "    </tr>\n",
       "    <tr>\n",
       "      <th>2</th>\n",
       "      <td>7940</td>\n",
       "      <td>F</td>\n",
       "      <td>Road</td>\n",
       "      <td>4</td>\n",
       "      <td>1</td>\n",
       "      <td>154</td>\n",
       "      <td>10</td>\n",
       "      <td>high</td>\n",
       "      <td>M</td>\n",
       "      <td>10</td>\n",
       "      <td>5674</td>\n",
       "    </tr>\n",
       "    <tr>\n",
       "      <th>3</th>\n",
       "      <td>1596</td>\n",
       "      <td>F</td>\n",
       "      <td>Ship</td>\n",
       "      <td>4</td>\n",
       "      <td>3</td>\n",
       "      <td>158</td>\n",
       "      <td>3</td>\n",
       "      <td>medium</td>\n",
       "      <td>F</td>\n",
       "      <td>27</td>\n",
       "      <td>1207</td>\n",
       "    </tr>\n",
       "    <tr>\n",
       "      <th>4</th>\n",
       "      <td>4395</td>\n",
       "      <td>A</td>\n",
       "      <td>Flight</td>\n",
       "      <td>5</td>\n",
       "      <td>3</td>\n",
       "      <td>175</td>\n",
       "      <td>3</td>\n",
       "      <td>low</td>\n",
       "      <td>M</td>\n",
       "      <td>7</td>\n",
       "      <td>4833</td>\n",
       "    </tr>\n",
       "  </tbody>\n",
       "</table>\n",
       "</div>"
      ],
      "text/plain": [
       "     ID Warehouse_block Mode_of_Shipment Customer_care_calls  Customer_rating   \n",
       "0  6045               A           Flight                   4                3  \\\n",
       "1    44               F             Ship                   3                1   \n",
       "2  7940               F             Road                   4                1   \n",
       "3  1596               F             Ship                   4                3   \n",
       "4  4395               A           Flight                   5                3   \n",
       "\n",
       "   Cost_of_the_Product  Prior_purchases Product_importance Gender   \n",
       "0                  266                5               high      F  \\\n",
       "1                  174                2                low      M   \n",
       "2                  154               10               high      M   \n",
       "3                  158                3             medium      F   \n",
       "4                  175                3                low      M   \n",
       "\n",
       "   Discount_offered  Weight_in_gms  \n",
       "0                 5           1590  \n",
       "1                44           1556  \n",
       "2                10           5674  \n",
       "3                27           1207  \n",
       "4                 7           4833  "
      ]
     },
     "metadata": {},
     "output_type": "display_data"
    },
    {
     "data": {
      "text/html": [
       "<div>\n",
       "<style scoped>\n",
       "    .dataframe tbody tr th:only-of-type {\n",
       "        vertical-align: middle;\n",
       "    }\n",
       "\n",
       "    .dataframe tbody tr th {\n",
       "        vertical-align: top;\n",
       "    }\n",
       "\n",
       "    .dataframe thead th {\n",
       "        text-align: right;\n",
       "    }\n",
       "</style>\n",
       "<table border=\"1\" class=\"dataframe\">\n",
       "  <thead>\n",
       "    <tr style=\"text-align: right;\">\n",
       "      <th></th>\n",
       "      <th>ID</th>\n",
       "      <th>Reached.on.Time_Y.N</th>\n",
       "    </tr>\n",
       "  </thead>\n",
       "  <tbody>\n",
       "    <tr>\n",
       "      <th>0</th>\n",
       "      <td>6045</td>\n",
       "      <td>0</td>\n",
       "    </tr>\n",
       "    <tr>\n",
       "      <th>1</th>\n",
       "      <td>44</td>\n",
       "      <td>1</td>\n",
       "    </tr>\n",
       "    <tr>\n",
       "      <th>2</th>\n",
       "      <td>7940</td>\n",
       "      <td>1</td>\n",
       "    </tr>\n",
       "    <tr>\n",
       "      <th>3</th>\n",
       "      <td>1596</td>\n",
       "      <td>1</td>\n",
       "    </tr>\n",
       "    <tr>\n",
       "      <th>4</th>\n",
       "      <td>4395</td>\n",
       "      <td>1</td>\n",
       "    </tr>\n",
       "  </tbody>\n",
       "</table>\n",
       "</div>"
      ],
      "text/plain": [
       "     ID  Reached.on.Time_Y.N\n",
       "0  6045                    0\n",
       "1    44                    1\n",
       "2  7940                    1\n",
       "3  1596                    1\n",
       "4  4395                    1"
      ]
     },
     "metadata": {},
     "output_type": "display_data"
    }
   ],
   "source": [
    "import pandas as pd\n",
    "#데이터 로드\n",
    "X = pd.read_csv(\"https://raw.githubusercontent.com/Datamanim/datarepo/main/shipping/X_train.csv\")\n",
    "Y = pd.read_csv(\"https://raw.githubusercontent.com/Datamanim/datarepo/main/shipping/y_train.csv\")\n",
    "X_submission = pd.read_csv(\"https://raw.githubusercontent.com/Datamanim/datarepo/main/shipping/X_test.csv\")\n",
    "Y_submission = pd.read_csv(\"https://raw.githubusercontent.com/Datamanim/datarepo/main/shipping/y_test.csv\")\n",
    "\n",
    "display(X.head())\n",
    "display(Y.head())"
   ]
  },
  {
   "cell_type": "code",
   "execution_count": 274,
   "id": "5cb53f87-b311-4693-acab-686733e5fe90",
   "metadata": {
    "tags": []
   },
   "outputs": [
    {
     "name": "stdout",
     "output_type": "stream",
     "text": [
      "[(6598, 11), (6598, 2), (4401, 11), (4401, 2)]\n"
     ]
    }
   ],
   "source": [
    "print([x.shape for x in [X, Y, X_submission, Y_submission]])"
   ]
  },
  {
   "cell_type": "markdown",
   "id": "bbbb15dc-9d04-4a8c-9559-1cb169d44315",
   "metadata": {},
   "source": [
    "#### EDA"
   ]
  },
  {
   "cell_type": "code",
   "execution_count": 279,
   "id": "5b0d124e-f0d1-4000-a1a3-42bb90ca2c29",
   "metadata": {
    "tags": []
   },
   "outputs": [
    {
     "name": "stdout",
     "output_type": "stream",
     "text": [
      "<class 'pandas.core.frame.DataFrame'>\n",
      "RangeIndex: 6598 entries, 0 to 6597\n",
      "Data columns (total 12 columns):\n",
      " #   Column               Non-Null Count  Dtype \n",
      "---  ------               --------------  ----- \n",
      " 0   ID                   6598 non-null   int64 \n",
      " 1   Warehouse_block      6598 non-null   object\n",
      " 2   Mode_of_Shipment     6598 non-null   object\n",
      " 3   Customer_care_calls  6598 non-null   object\n",
      " 4   Customer_rating      6598 non-null   int64 \n",
      " 5   Cost_of_the_Product  6598 non-null   int64 \n",
      " 6   Prior_purchases      6598 non-null   int64 \n",
      " 7   Product_importance   6598 non-null   object\n",
      " 8   Gender               6598 non-null   object\n",
      " 9   Discount_offered     6598 non-null   int64 \n",
      " 10  Weight_in_gms        6598 non-null   int64 \n",
      " 11  Reached.on.Time_Y.N  6598 non-null   int64 \n",
      "dtypes: int64(7), object(5)\n",
      "memory usage: 618.7+ KB\n"
     ]
    }
   ],
   "source": [
    "dfXY = pd.merge(X, Y, on='ID')\n",
    "dfXY.info()"
   ]
  },
  {
   "cell_type": "code",
   "execution_count": 282,
   "id": "61fe0acb-6d4e-46b8-bde3-1b61faa58b0c",
   "metadata": {
    "tags": []
   },
   "outputs": [
    {
     "data": {
      "text/plain": [
       "ID                    -0.414608\n",
       "Customer_rating        0.013812\n",
       "Cost_of_the_Product   -0.065485\n",
       "Prior_purchases       -0.061862\n",
       "Discount_offered       0.395611\n",
       "Weight_in_gms         -0.271201\n",
       "Reached.on.Time_Y.N    1.000000\n",
       "Name: Reached.on.Time_Y.N, dtype: float64"
      ]
     },
     "execution_count": 282,
     "metadata": {},
     "output_type": "execute_result"
    }
   ],
   "source": [
    "dfXY.corr(numeric_only=True)['Reached.on.Time_Y.N']\n",
    "# Discount_offered, Weight_in_gms"
   ]
  },
  {
   "cell_type": "code",
   "execution_count": 287,
   "id": "414178f0-46a4-4a1f-acbd-29b3b93d6db6",
   "metadata": {
    "tags": []
   },
   "outputs": [
    {
     "name": "stdout",
     "output_type": "stream",
     "text": [
      "Feature :  Warehouse_block\n",
      "Reached.on.Time_Y.N  Warehouse_block\n",
      "0                    F                   906\n",
      "                     A                   473\n",
      "                     B                   451\n",
      "                     D                   419\n",
      "                     C                   412\n",
      "1                    F                  1356\n",
      "                     B                   665\n",
      "                     D                   650\n",
      "                     C                   649\n",
      "                     A                   617\n",
      "Name: count, dtype: int64\n",
      "------------------------------\n",
      "Feature :  Mode_of_Shipment\n",
      "Reached.on.Time_Y.N  Mode_of_Shipment\n",
      "0                    Ship                1817\n",
      "                     Flight               434\n",
      "                     Road                 410\n",
      "1                    Ship                2695\n",
      "                     Flight               632\n",
      "                     Road                 610\n",
      "Name: count, dtype: int64\n",
      "------------------------------\n",
      "Feature :  Customer_care_calls\n",
      "Reached.on.Time_Y.N  Customer_care_calls\n",
      "0                    4                       833\n",
      "                     3                       727\n",
      "                     5                       580\n",
      "                     6                       304\n",
      "                     2                       140\n",
      "                     $7                       77\n",
      "1                    4                      1282\n",
      "                     3                      1192\n",
      "                     5                       823\n",
      "                     6                       300\n",
      "                     2                       264\n",
      "                     $7                       76\n",
      "Name: count, dtype: int64\n",
      "------------------------------\n",
      "Feature :  Product_importance\n",
      "Reached.on.Time_Y.N  Product_importance\n",
      "0                    low                   1293\n",
      "                     medium                1174\n",
      "                     high                   194\n",
      "1                    low                   1869\n",
      "                     medium                1692\n",
      "                     high                   376\n",
      "Name: count, dtype: int64\n",
      "------------------------------\n",
      "Feature :  Gender\n",
      "Reached.on.Time_Y.N  Gender\n",
      "0                    F         1349\n",
      "                     M         1312\n",
      "1                    M         1975\n",
      "                     F         1962\n",
      "Name: count, dtype: int64\n",
      "------------------------------\n"
     ]
    }
   ],
   "source": [
    "for feature in dfXY.select_dtypes(include='object').columns:\n",
    "    print('Feature : ', feature)\n",
    "    print(dfXY.groupby('Reached.on.Time_Y.N')[feature].value_counts())\n",
    "    print(\"-\" * 30)\n",
    "\n"
   ]
  },
  {
   "cell_type": "code",
   "execution_count": null,
   "id": "6bd046c5-931e-4627-bc37-fa7e5aaad19e",
   "metadata": {},
   "outputs": [],
   "source": []
  },
  {
   "cell_type": "code",
   "execution_count": 286,
   "id": "04578318-dae3-448d-9248-10aa6f34dff8",
   "metadata": {
    "tags": []
   },
   "outputs": [],
   "source": [
    "y_feature = 'Reached.on.Time_Y.N'"
   ]
  },
  {
   "cell_type": "code",
   "execution_count": null,
   "id": "38c7b385-3cec-47c2-a062-ace48c0fbd45",
   "metadata": {},
   "outputs": [],
   "source": []
  },
  {
   "cell_type": "markdown",
   "id": "7cc3a75b-f856-481d-94bc-1c2469119420",
   "metadata": {
    "tags": []
   },
   "source": [
    "#### 데이터 전처리"
   ]
  },
  {
   "cell_type": "code",
   "execution_count": 295,
   "id": "97b92df3-ac08-4859-b72c-674e4b3a696c",
   "metadata": {
    "tags": []
   },
   "outputs": [],
   "source": [
    "dfX = pd.concat([X, X_submission], axis=0, ignore_index=True)"
   ]
  },
  {
   "cell_type": "code",
   "execution_count": 296,
   "id": "f2fbf6dd-b921-4ee5-9f03-1c5a0abb8b5c",
   "metadata": {
    "tags": []
   },
   "outputs": [
    {
     "data": {
      "text/plain": [
       "ID                     0\n",
       "Warehouse_block        0\n",
       "Mode_of_Shipment       0\n",
       "Customer_care_calls    0\n",
       "Customer_rating        0\n",
       "Cost_of_the_Product    0\n",
       "Prior_purchases        0\n",
       "Product_importance     0\n",
       "Gender                 0\n",
       "Discount_offered       0\n",
       "Weight_in_gms          0\n",
       "dtype: int64"
      ]
     },
     "execution_count": 296,
     "metadata": {},
     "output_type": "execute_result"
    }
   ],
   "source": [
    "dfX.isna().sum()"
   ]
  },
  {
   "cell_type": "code",
   "execution_count": 317,
   "id": "d0f77f80-7acf-41e1-9c69-0972b3a59d15",
   "metadata": {
    "tags": []
   },
   "outputs": [
    {
     "name": "stdout",
     "output_type": "stream",
     "text": [
      "<class 'pandas.core.frame.DataFrame'>\n",
      "RangeIndex: 10999 entries, 0 to 10998\n",
      "Data columns (total 13 columns):\n",
      " #   Column               Non-Null Count  Dtype\n",
      "---  ------               --------------  -----\n",
      " 0   ID                   10999 non-null  int64\n",
      " 1   Warehouse_block      10999 non-null  int8 \n",
      " 2   Customer_care_calls  10999 non-null  int32\n",
      " 3   Customer_rating      10999 non-null  int64\n",
      " 4   Cost_of_the_Product  10999 non-null  int64\n",
      " 5   Prior_purchases      10999 non-null  int64\n",
      " 6   Product_importance   10999 non-null  int32\n",
      " 7   Gender               10999 non-null  int32\n",
      " 8   Discount_offered     10999 non-null  int64\n",
      " 9   Weight_in_gms        10999 non-null  int64\n",
      " 10  Flight               10999 non-null  bool \n",
      " 11  Road                 10999 non-null  bool \n",
      " 12  Ship                 10999 non-null  bool \n",
      "dtypes: bool(3), int32(3), int64(6), int8(1)\n",
      "memory usage: 687.6 KB\n"
     ]
    }
   ],
   "source": [
    "dfX.info()"
   ]
  },
  {
   "cell_type": "code",
   "execution_count": 298,
   "id": "995d4542-3a72-42e9-8547-85f8d2eecea3",
   "metadata": {
    "tags": []
   },
   "outputs": [
    {
     "data": {
      "text/plain": [
       "Warehouse_block\n",
       "F    3666\n",
       "D    1834\n",
       "A    1833\n",
       "C    1833\n",
       "B    1833\n",
       "Name: count, dtype: int64"
      ]
     },
     "execution_count": 298,
     "metadata": {},
     "output_type": "execute_result"
    }
   ],
   "source": [
    "dfX['Warehouse_block'].value_counts()"
   ]
  },
  {
   "cell_type": "code",
   "execution_count": 299,
   "id": "366e1868-6184-4b54-b9fd-71a77def9522",
   "metadata": {
    "tags": []
   },
   "outputs": [],
   "source": [
    "dfX['Warehouse_block'] = dfX['Warehouse_block'].astype('category').cat.codes"
   ]
  },
  {
   "cell_type": "code",
   "execution_count": 301,
   "id": "7033fb1c-c4cc-4d7c-8856-b61ccede0fca",
   "metadata": {
    "tags": []
   },
   "outputs": [
    {
     "data": {
      "text/plain": [
       "Mode_of_Shipment\n",
       "Ship      7462\n",
       "Flight    1777\n",
       "Road      1760\n",
       "Name: count, dtype: int64"
      ]
     },
     "execution_count": 301,
     "metadata": {},
     "output_type": "execute_result"
    }
   ],
   "source": [
    "dfX['Mode_of_Shipment'].value_counts()"
   ]
  },
  {
   "cell_type": "code",
   "execution_count": 303,
   "id": "0e7c47d1-dd0e-430d-82ce-d2e083a4ab9a",
   "metadata": {
    "tags": []
   },
   "outputs": [],
   "source": [
    "temp_1 = dfX.drop(columns=['Mode_of_Shipment'])\n",
    "dfX = pd.concat([temp_1, pd.get_dummies(dfX['Mode_of_Shipment'])], axis=1)"
   ]
  },
  {
   "cell_type": "code",
   "execution_count": 305,
   "id": "5c7e32e2-1ff3-412a-b7e0-e30af4d9d5eb",
   "metadata": {
    "tags": []
   },
   "outputs": [
    {
     "data": {
      "text/plain": [
       "Customer_care_calls\n",
       "4     3557\n",
       "3     3217\n",
       "5     2328\n",
       "6     1013\n",
       "2      638\n",
       "$7     246\n",
       "Name: count, dtype: int64"
      ]
     },
     "execution_count": 305,
     "metadata": {},
     "output_type": "execute_result"
    }
   ],
   "source": [
    "dfX['Customer_care_calls'].value_counts()"
   ]
  },
  {
   "cell_type": "code",
   "execution_count": 308,
   "id": "02448211-f229-4ade-a957-0065ab546722",
   "metadata": {
    "tags": []
   },
   "outputs": [],
   "source": [
    "dfX['Customer_care_calls'] = dfX['Customer_care_calls'].replace(r'\\$', '', regex=True).astype('int')"
   ]
  },
  {
   "cell_type": "code",
   "execution_count": 313,
   "id": "c9e8e20c-144b-40b3-adc1-dd5b9f201976",
   "metadata": {
    "tags": []
   },
   "outputs": [],
   "source": [
    "en1 = LabelEncoder()\n",
    "dfX['Product_importance'] = en1.fit_transform(dfX['Product_importance'])\n",
    "dfX['Product_importance'] = dfX['Product_importance'].astype('int')"
   ]
  },
  {
   "cell_type": "code",
   "execution_count": 315,
   "id": "ad25073a-e91e-4a03-883a-f35a04092e94",
   "metadata": {
    "tags": []
   },
   "outputs": [
    {
     "data": {
      "text/plain": [
       "Gender\n",
       "F    5545\n",
       "M    5454\n",
       "Name: count, dtype: int64"
      ]
     },
     "execution_count": 315,
     "metadata": {},
     "output_type": "execute_result"
    }
   ],
   "source": [
    "dfX['Gender'].value_counts()"
   ]
  },
  {
   "cell_type": "code",
   "execution_count": 316,
   "id": "dae6bca7-e72d-4bc1-87b1-96deced893c4",
   "metadata": {
    "tags": []
   },
   "outputs": [],
   "source": [
    "dfX['Gender'] = dfX['Gender'].replace({'F':0, 'M': 1}).astype('int')"
   ]
  },
  {
   "cell_type": "markdown",
   "id": "ee47648e-c3a9-4d80-838a-83936cac3180",
   "metadata": {
    "tags": []
   },
   "source": [
    "#### Feature Engineering"
   ]
  },
  {
   "cell_type": "code",
   "execution_count": 318,
   "id": "15e3c5b9-c33b-413d-8b75-1a31a5123137",
   "metadata": {
    "tags": []
   },
   "outputs": [
    {
     "data": {
      "text/plain": [
       "Index(['ID', 'Warehouse_block', 'Customer_care_calls', 'Customer_rating',\n",
       "       'Cost_of_the_Product', 'Prior_purchases', 'Product_importance',\n",
       "       'Gender', 'Discount_offered', 'Weight_in_gms', 'Flight', 'Road',\n",
       "       'Ship'],\n",
       "      dtype='object')"
      ]
     },
     "execution_count": 318,
     "metadata": {},
     "output_type": "execute_result"
    }
   ],
   "source": [
    "dfX.columns"
   ]
  },
  {
   "cell_type": "code",
   "execution_count": 320,
   "id": "2501b92f-2e14-41d3-b267-8ce4467b9ea8",
   "metadata": {
    "tags": []
   },
   "outputs": [
    {
     "data": {
      "text/plain": [
       "Index(['ID', 'Reached.on.Time_Y.N'], dtype='object')"
      ]
     },
     "execution_count": 320,
     "metadata": {},
     "output_type": "execute_result"
    }
   ],
   "source": [
    "Y.columns"
   ]
  },
  {
   "cell_type": "code",
   "execution_count": 321,
   "id": "90a3d3df-8f84-4a9f-aff4-27811b5a6593",
   "metadata": {
    "tags": []
   },
   "outputs": [],
   "source": [
    "x_features = ['Warehouse_block', 'Customer_care_calls', 'Customer_rating','Cost_of_the_Product', \\\n",
    "              'Prior_purchases', 'Product_importance','Gender', 'Discount_offered', 'Weight_in_gms', \\\n",
    "              'Flight', 'Road','Ship']\n",
    "y_feature = 'Reached.on.Time_Y.N'"
   ]
  },
  {
   "cell_type": "code",
   "execution_count": 322,
   "id": "fe21d36b-043c-49dc-a22d-832278efbe5f",
   "metadata": {
    "tags": []
   },
   "outputs": [],
   "source": [
    "dfXY = pd.merge(dfX, Y, on='ID')"
   ]
  },
  {
   "cell_type": "code",
   "execution_count": 324,
   "id": "2820dedd-c434-44b2-be58-8c260febc151",
   "metadata": {
    "tags": []
   },
   "outputs": [
    {
     "data": {
      "text/plain": [
       "ID                    -0.4146\n",
       "Warehouse_block        0.0191\n",
       "Customer_care_calls   -0.0736\n",
       "Customer_rating        0.0138\n",
       "Cost_of_the_Product   -0.0655\n",
       "Prior_purchases       -0.0619\n",
       "Product_importance    -0.0264\n",
       "Gender                 0.0084\n",
       "Discount_offered       0.3956\n",
       "Weight_in_gms         -0.2712\n",
       "Flight                -0.0034\n",
       "Road                   0.0012\n",
       "Ship                   0.0018\n",
       "Reached.on.Time_Y.N    1.0000\n",
       "Name: Reached.on.Time_Y.N, dtype: float64"
      ]
     },
     "execution_count": 324,
     "metadata": {},
     "output_type": "execute_result"
    }
   ],
   "source": [
    "dfXY.corr()[y_feature]"
   ]
  },
  {
   "cell_type": "markdown",
   "id": "9f9ee0f0-f405-4455-a72f-721f0953047e",
   "metadata": {},
   "source": [
    "#### 모델링"
   ]
  },
  {
   "cell_type": "code",
   "execution_count": 325,
   "id": "d848a4b6-f1a2-4f70-9c1b-125e672e630c",
   "metadata": {
    "tags": []
   },
   "outputs": [
    {
     "name": "stdout",
     "output_type": "stream",
     "text": [
      "[(6598, 11), (4401, 11), (6598, 2)]\n",
      "[(6598, 12), (4401, 12), (6598,)]\n"
     ]
    }
   ],
   "source": [
    "XF, X_submissionF, YF = get_classification_model_data(dfX, Y, len(X), x_features, y_feature, is_normalized=False)\n",
    "\n",
    "print([x.shape for x in [X, X_submission, Y]])\n",
    "print([x.shape for x in [XF, X_submissionF, YF]])"
   ]
  },
  {
   "cell_type": "code",
   "execution_count": 326,
   "id": "5a712be6-cac0-4e91-a4b9-8995f5b08c99",
   "metadata": {
    "tags": []
   },
   "outputs": [
    {
     "name": "stdout",
     "output_type": "stream",
     "text": [
      "[(4618, 12), (1980, 12), (4618,), (1980,)]\n"
     ]
    }
   ],
   "source": [
    "xtrain, xtest, ytrain, ytest = train_test_split(XF, YF, test_size=0.3, random_state=0, stratify=YF)\n",
    "\n",
    "print([x.shape for x in [xtrain, xtest, ytrain, ytest]])"
   ]
  },
  {
   "cell_type": "code",
   "execution_count": 330,
   "id": "f993d494-8510-41ab-9497-211dd1e28888",
   "metadata": {
    "tags": []
   },
   "outputs": [],
   "source": [
    "result = compare_classification_model(xtrain, xtest, ytrain, ytest, is_binary_model=False)"
   ]
  },
  {
   "cell_type": "code",
   "execution_count": 338,
   "id": "549aeae2-497e-4f70-b34a-4bb466c818e5",
   "metadata": {
    "tags": []
   },
   "outputs": [
    {
     "data": {
      "text/html": [
       "<div>\n",
       "<style scoped>\n",
       "    .dataframe tbody tr th:only-of-type {\n",
       "        vertical-align: middle;\n",
       "    }\n",
       "\n",
       "    .dataframe tbody tr th {\n",
       "        vertical-align: top;\n",
       "    }\n",
       "\n",
       "    .dataframe thead th {\n",
       "        text-align: right;\n",
       "    }\n",
       "</style>\n",
       "<table border=\"1\" class=\"dataframe\">\n",
       "  <thead>\n",
       "    <tr style=\"text-align: right;\">\n",
       "      <th></th>\n",
       "      <th>Train_Accuray</th>\n",
       "      <th>Test_Accuracy</th>\n",
       "      <th>DIFF</th>\n",
       "      <th>Accuracy</th>\n",
       "      <th>Precision</th>\n",
       "      <th>Recall</th>\n",
       "      <th>F1</th>\n",
       "    </tr>\n",
       "  </thead>\n",
       "  <tbody>\n",
       "    <tr>\n",
       "      <th>KNeighborsClassifier_3</th>\n",
       "      <td>0.8168</td>\n",
       "      <td>0.6621</td>\n",
       "      <td>0.1547</td>\n",
       "      <td>0.6621</td>\n",
       "      <td>0.7302</td>\n",
       "      <td>0.6876</td>\n",
       "      <td>0.7082</td>\n",
       "    </tr>\n",
       "    <tr>\n",
       "      <th>DecisionTreeClassifier</th>\n",
       "      <td>1.0000</td>\n",
       "      <td>0.6369</td>\n",
       "      <td>0.3631</td>\n",
       "      <td>0.6369</td>\n",
       "      <td>0.7009</td>\n",
       "      <td>0.6825</td>\n",
       "      <td>0.6915</td>\n",
       "    </tr>\n",
       "    <tr>\n",
       "      <th>KNeighborsClassifier_1</th>\n",
       "      <td>1.0000</td>\n",
       "      <td>0.6424</td>\n",
       "      <td>0.3576</td>\n",
       "      <td>0.6424</td>\n",
       "      <td>0.7117</td>\n",
       "      <td>0.6732</td>\n",
       "      <td>0.6919</td>\n",
       "    </tr>\n",
       "    <tr>\n",
       "      <th>XGBClassifier</th>\n",
       "      <td>0.9632</td>\n",
       "      <td>0.6621</td>\n",
       "      <td>0.3011</td>\n",
       "      <td>0.6621</td>\n",
       "      <td>0.7397</td>\n",
       "      <td>0.6689</td>\n",
       "      <td>0.7025</td>\n",
       "    </tr>\n",
       "    <tr>\n",
       "      <th>KNeighborsClassifier</th>\n",
       "      <td>0.7828</td>\n",
       "      <td>0.6465</td>\n",
       "      <td>0.1363</td>\n",
       "      <td>0.6465</td>\n",
       "      <td>0.7250</td>\n",
       "      <td>0.6562</td>\n",
       "      <td>0.6889</td>\n",
       "    </tr>\n",
       "    <tr>\n",
       "      <th>KNeighborsClassifier_5</th>\n",
       "      <td>0.7828</td>\n",
       "      <td>0.6465</td>\n",
       "      <td>0.1363</td>\n",
       "      <td>0.6465</td>\n",
       "      <td>0.7250</td>\n",
       "      <td>0.6562</td>\n",
       "      <td>0.6889</td>\n",
       "    </tr>\n",
       "    <tr>\n",
       "      <th>KNeighborsClassifier_7</th>\n",
       "      <td>0.7638</td>\n",
       "      <td>0.6470</td>\n",
       "      <td>0.1168</td>\n",
       "      <td>0.6470</td>\n",
       "      <td>0.7265</td>\n",
       "      <td>0.6545</td>\n",
       "      <td>0.6886</td>\n",
       "    </tr>\n",
       "    <tr>\n",
       "      <th>KNeighborsClassifier_9</th>\n",
       "      <td>0.7475</td>\n",
       "      <td>0.6596</td>\n",
       "      <td>0.0879</td>\n",
       "      <td>0.6596</td>\n",
       "      <td>0.7478</td>\n",
       "      <td>0.6478</td>\n",
       "      <td>0.6942</td>\n",
       "    </tr>\n",
       "    <tr>\n",
       "      <th>RandomForestClassifier</th>\n",
       "      <td>1.0000</td>\n",
       "      <td>0.6601</td>\n",
       "      <td>0.3399</td>\n",
       "      <td>0.6601</td>\n",
       "      <td>0.7566</td>\n",
       "      <td>0.6342</td>\n",
       "      <td>0.6900</td>\n",
       "    </tr>\n",
       "    <tr>\n",
       "      <th>KNeighborsClassifier_8</th>\n",
       "      <td>0.7440</td>\n",
       "      <td>0.6616</td>\n",
       "      <td>0.0824</td>\n",
       "      <td>0.6616</td>\n",
       "      <td>0.7954</td>\n",
       "      <td>0.5826</td>\n",
       "      <td>0.6725</td>\n",
       "    </tr>\n",
       "    <tr>\n",
       "      <th>KNeighborsClassifier_6</th>\n",
       "      <td>0.7620</td>\n",
       "      <td>0.6515</td>\n",
       "      <td>0.1105</td>\n",
       "      <td>0.6515</td>\n",
       "      <td>0.7780</td>\n",
       "      <td>0.5817</td>\n",
       "      <td>0.6657</td>\n",
       "    </tr>\n",
       "    <tr>\n",
       "      <th>KNeighborsClassifier_4</th>\n",
       "      <td>0.7793</td>\n",
       "      <td>0.6626</td>\n",
       "      <td>0.1167</td>\n",
       "      <td>0.6626</td>\n",
       "      <td>0.7993</td>\n",
       "      <td>0.5800</td>\n",
       "      <td>0.6722</td>\n",
       "    </tr>\n",
       "    <tr>\n",
       "      <th>KNeighborsClassifier_2</th>\n",
       "      <td>0.8233</td>\n",
       "      <td>0.6551</td>\n",
       "      <td>0.1682</td>\n",
       "      <td>0.6551</td>\n",
       "      <td>0.8201</td>\n",
       "      <td>0.5402</td>\n",
       "      <td>0.6514</td>\n",
       "    </tr>\n",
       "  </tbody>\n",
       "</table>\n",
       "</div>"
      ],
      "text/plain": [
       "                        Train_Accuray  Test_Accuracy   DIFF  Accuracy   \n",
       "KNeighborsClassifier_3         0.8168         0.6621 0.1547    0.6621  \\\n",
       "DecisionTreeClassifier         1.0000         0.6369 0.3631    0.6369   \n",
       "KNeighborsClassifier_1         1.0000         0.6424 0.3576    0.6424   \n",
       "XGBClassifier                  0.9632         0.6621 0.3011    0.6621   \n",
       "KNeighborsClassifier           0.7828         0.6465 0.1363    0.6465   \n",
       "KNeighborsClassifier_5         0.7828         0.6465 0.1363    0.6465   \n",
       "KNeighborsClassifier_7         0.7638         0.6470 0.1168    0.6470   \n",
       "KNeighborsClassifier_9         0.7475         0.6596 0.0879    0.6596   \n",
       "RandomForestClassifier         1.0000         0.6601 0.3399    0.6601   \n",
       "KNeighborsClassifier_8         0.7440         0.6616 0.0824    0.6616   \n",
       "KNeighborsClassifier_6         0.7620         0.6515 0.1105    0.6515   \n",
       "KNeighborsClassifier_4         0.7793         0.6626 0.1167    0.6626   \n",
       "KNeighborsClassifier_2         0.8233         0.6551 0.1682    0.6551   \n",
       "\n",
       "                        Precision  Recall     F1  \n",
       "KNeighborsClassifier_3     0.7302  0.6876 0.7082  \n",
       "DecisionTreeClassifier     0.7009  0.6825 0.6915  \n",
       "KNeighborsClassifier_1     0.7117  0.6732 0.6919  \n",
       "XGBClassifier              0.7397  0.6689 0.7025  \n",
       "KNeighborsClassifier       0.7250  0.6562 0.6889  \n",
       "KNeighborsClassifier_5     0.7250  0.6562 0.6889  \n",
       "KNeighborsClassifier_7     0.7265  0.6545 0.6886  \n",
       "KNeighborsClassifier_9     0.7478  0.6478 0.6942  \n",
       "RandomForestClassifier     0.7566  0.6342 0.6900  \n",
       "KNeighborsClassifier_8     0.7954  0.5826 0.6725  \n",
       "KNeighborsClassifier_6     0.7780  0.5817 0.6657  \n",
       "KNeighborsClassifier_4     0.7993  0.5800 0.6722  \n",
       "KNeighborsClassifier_2     0.8201  0.5402 0.6514  "
      ]
     },
     "execution_count": 338,
     "metadata": {},
     "output_type": "execute_result"
    }
   ],
   "source": [
    "result.sort_values(['Recall', 'DIFF'], ascending=[False, True])"
   ]
  },
  {
   "cell_type": "code",
   "execution_count": 346,
   "id": "8c6630b4-2aa7-43d8-9de9-505785e6d3a6",
   "metadata": {
    "tags": []
   },
   "outputs": [
    {
     "name": "stdout",
     "output_type": "stream",
     "text": [
      "Train_Accuray   0.9632\n",
      "Test_Accuracy   0.6621\n",
      "Accuracy        0.6621\n",
      "Precision       0.7397\n",
      "Recall          0.6689\n",
      "F1              0.7025\n",
      "dtype: float64\n"
     ]
    }
   ],
   "source": [
    "model = XGBClassifier().fit(xtrain, ytrain)\n",
    "print(get_classification_model_score(model, xtrain, xtest, ytrain, ytest, is_binary_model=False))"
   ]
  },
  {
   "cell_type": "code",
   "execution_count": 347,
   "id": "98285f6b-7a6c-49fe-94c8-a73f394383fa",
   "metadata": {
    "tags": []
   },
   "outputs": [],
   "source": [
    "Y_pred = model.predict(X_submissionF)"
   ]
  },
  {
   "cell_type": "code",
   "execution_count": 348,
   "id": "aff7dce3-844b-457c-84a0-6c6437a92a89",
   "metadata": {
    "tags": []
   },
   "outputs": [
    {
     "data": {
      "text/html": [
       "<div>\n",
       "<style scoped>\n",
       "    .dataframe tbody tr th:only-of-type {\n",
       "        vertical-align: middle;\n",
       "    }\n",
       "\n",
       "    .dataframe tbody tr th {\n",
       "        vertical-align: top;\n",
       "    }\n",
       "\n",
       "    .dataframe thead th {\n",
       "        text-align: right;\n",
       "    }\n",
       "</style>\n",
       "<table border=\"1\" class=\"dataframe\">\n",
       "  <thead>\n",
       "    <tr style=\"text-align: right;\">\n",
       "      <th></th>\n",
       "      <th>ID</th>\n",
       "      <th>Reached.on.Time_Y.N</th>\n",
       "    </tr>\n",
       "  </thead>\n",
       "  <tbody>\n",
       "    <tr>\n",
       "      <th>0</th>\n",
       "      <td>6811</td>\n",
       "      <td>1</td>\n",
       "    </tr>\n",
       "    <tr>\n",
       "      <th>1</th>\n",
       "      <td>4320</td>\n",
       "      <td>0</td>\n",
       "    </tr>\n",
       "  </tbody>\n",
       "</table>\n",
       "</div>"
      ],
      "text/plain": [
       "     ID  Reached.on.Time_Y.N\n",
       "0  6811                    1\n",
       "1  4320                    0"
      ]
     },
     "execution_count": 348,
     "metadata": {},
     "output_type": "execute_result"
    }
   ],
   "source": [
    "submission = pd.DataFrame({'ID': X_submission['ID'], \\\n",
    "                           'Reached.on.Time_Y.N': Y_pred})\n",
    "submission.head(2)"
   ]
  },
  {
   "cell_type": "code",
   "execution_count": 349,
   "id": "0bddf7f1-c6ed-452e-b70f-a8167454b63e",
   "metadata": {
    "tags": []
   },
   "outputs": [],
   "source": [
    "submission.to_csv('./submission.csv', index=False)"
   ]
  },
  {
   "cell_type": "markdown",
   "id": "a6541190-7a44-4c16-8f46-0d9f883d6111",
   "metadata": {},
   "source": [
    "#### 결과 비교 (Recall Score)"
   ]
  },
  {
   "cell_type": "code",
   "execution_count": 350,
   "id": "12c05f7d-0b7a-4397-bef1-ef9d80bbb007",
   "metadata": {
    "tags": []
   },
   "outputs": [
    {
     "data": {
      "text/html": [
       "<div>\n",
       "<style scoped>\n",
       "    .dataframe tbody tr th:only-of-type {\n",
       "        vertical-align: middle;\n",
       "    }\n",
       "\n",
       "    .dataframe tbody tr th {\n",
       "        vertical-align: top;\n",
       "    }\n",
       "\n",
       "    .dataframe thead th {\n",
       "        text-align: right;\n",
       "    }\n",
       "</style>\n",
       "<table border=\"1\" class=\"dataframe\">\n",
       "  <thead>\n",
       "    <tr style=\"text-align: right;\">\n",
       "      <th></th>\n",
       "      <th>ID</th>\n",
       "      <th>Reached.on.Time_Y.N</th>\n",
       "    </tr>\n",
       "  </thead>\n",
       "  <tbody>\n",
       "    <tr>\n",
       "      <th>0</th>\n",
       "      <td>6811</td>\n",
       "      <td>0</td>\n",
       "    </tr>\n",
       "    <tr>\n",
       "      <th>1</th>\n",
       "      <td>4320</td>\n",
       "      <td>0</td>\n",
       "    </tr>\n",
       "  </tbody>\n",
       "</table>\n",
       "</div>"
      ],
      "text/plain": [
       "     ID  Reached.on.Time_Y.N\n",
       "0  6811                    0\n",
       "1  4320                    0"
      ]
     },
     "execution_count": 350,
     "metadata": {},
     "output_type": "execute_result"
    }
   ],
   "source": [
    "Y_submission.head(2)"
   ]
  },
  {
   "cell_type": "code",
   "execution_count": 351,
   "id": "ce7e76dd-d0a2-42fb-b555-6b78e95ba8ff",
   "metadata": {
    "tags": []
   },
   "outputs": [
    {
     "data": {
      "text/html": [
       "<div>\n",
       "<style scoped>\n",
       "    .dataframe tbody tr th:only-of-type {\n",
       "        vertical-align: middle;\n",
       "    }\n",
       "\n",
       "    .dataframe tbody tr th {\n",
       "        vertical-align: top;\n",
       "    }\n",
       "\n",
       "    .dataframe thead th {\n",
       "        text-align: right;\n",
       "    }\n",
       "</style>\n",
       "<table border=\"1\" class=\"dataframe\">\n",
       "  <thead>\n",
       "    <tr style=\"text-align: right;\">\n",
       "      <th></th>\n",
       "      <th>ID</th>\n",
       "      <th>Reached.on.Time_Y.N</th>\n",
       "    </tr>\n",
       "  </thead>\n",
       "  <tbody>\n",
       "    <tr>\n",
       "      <th>0</th>\n",
       "      <td>6811</td>\n",
       "      <td>1</td>\n",
       "    </tr>\n",
       "    <tr>\n",
       "      <th>1</th>\n",
       "      <td>4320</td>\n",
       "      <td>0</td>\n",
       "    </tr>\n",
       "  </tbody>\n",
       "</table>\n",
       "</div>"
      ],
      "text/plain": [
       "     ID  Reached.on.Time_Y.N\n",
       "0  6811                    1\n",
       "1  4320                    0"
      ]
     },
     "execution_count": 351,
     "metadata": {},
     "output_type": "execute_result"
    }
   ],
   "source": [
    "Y_submissionF = pd.read_csv('./submission.csv')\n",
    "Y_submissionF.head(2)"
   ]
  },
  {
   "cell_type": "code",
   "execution_count": 352,
   "id": "6dd718c7-0212-4d5e-bf33-0cc7cdee729d",
   "metadata": {
    "tags": []
   },
   "outputs": [
    {
     "data": {
      "text/plain": [
       "0.6485148514851485"
      ]
     },
     "execution_count": 352,
     "metadata": {},
     "output_type": "execute_result"
    }
   ],
   "source": [
    "recall_score(Y_submission['Reached.on.Time_Y.N'], Y_submissionF['Reached.on.Time_Y.N'])"
   ]
  },
  {
   "cell_type": "code",
   "execution_count": 353,
   "id": "e900e43a-a9c4-4ab6-94a3-ff1193ab38ca",
   "metadata": {
    "tags": []
   },
   "outputs": [
    {
     "data": {
      "text/plain": [
       "array([[1138,  637],\n",
       "       [ 923, 1703]], dtype=int64)"
      ]
     },
     "execution_count": 353,
     "metadata": {},
     "output_type": "execute_result"
    }
   ],
   "source": [
    "confusion_matrix(Y_submission['Reached.on.Time_Y.N'], Y_submissionF['Reached.on.Time_Y.N'])"
   ]
  },
  {
   "cell_type": "code",
   "execution_count": 354,
   "id": "e23eb729-b630-4ae1-b496-dfac0c9d0a1a",
   "metadata": {
    "tags": []
   },
   "outputs": [
    {
     "data": {
      "text/html": [
       "<div>\n",
       "<style scoped>\n",
       "    .dataframe tbody tr th:only-of-type {\n",
       "        vertical-align: middle;\n",
       "    }\n",
       "\n",
       "    .dataframe tbody tr th {\n",
       "        vertical-align: top;\n",
       "    }\n",
       "\n",
       "    .dataframe thead th {\n",
       "        text-align: right;\n",
       "    }\n",
       "</style>\n",
       "<table border=\"1\" class=\"dataframe\">\n",
       "  <thead>\n",
       "    <tr style=\"text-align: right;\">\n",
       "      <th></th>\n",
       "      <th>정시미도착</th>\n",
       "      <th>정시도착</th>\n",
       "    </tr>\n",
       "  </thead>\n",
       "  <tbody>\n",
       "    <tr>\n",
       "      <th>정시미도착</th>\n",
       "      <td>1138</td>\n",
       "      <td>637</td>\n",
       "    </tr>\n",
       "    <tr>\n",
       "      <th>정시도착</th>\n",
       "      <td>923</td>\n",
       "      <td>1703</td>\n",
       "    </tr>\n",
       "  </tbody>\n",
       "</table>\n",
       "</div>"
      ],
      "text/plain": [
       "       정시미도착  정시도착\n",
       "정시미도착   1138   637\n",
       "정시도착     923  1703"
      ]
     },
     "execution_count": 354,
     "metadata": {},
     "output_type": "execute_result"
    }
   ],
   "source": [
    "pd.DataFrame(confusion_matrix(Y_submission['Reached.on.Time_Y.N'], Y_submissionF['Reached.on.Time_Y.N']), \\\n",
    "            index=['정시미도착', '정시도착'],\n",
    "            columns=['정시미도착', '정시도착'])"
   ]
  },
  {
   "cell_type": "markdown",
   "id": "b9da5b52",
   "metadata": {},
   "source": [
    "### 성인 건강검진 데이터"
   ]
  },
  {
   "cell_type": "markdown",
   "id": "5743531d",
   "metadata": {},
   "source": [
    "```{attention}  \n",
    "데이터 설명 : 2018년도 성인의 건강검 진데이터 (종속변수 : 흡연상태 1- 흡연, 0-비흡연 )    \n",
    "x_train: https://raw.githubusercontent.com/Datamanim/datarepo/main/smoke/x_train.csv    \n",
    "y_train: https://raw.githubusercontent.com/Datamanim/datarepo/main/smoke/y_train.csv  \n",
    "x_test: https://raw.githubusercontent.com/Datamanim/datarepo/main/smoke/x_test.csv\n",
    "x_label(평가용) : https://raw.githubusercontent.com/Datamanim/datarepo/main/smoke/y_test.csv  \n",
    "데이터 출처 :https://www.data.go.kr/data/15007122/fileData.do (참고, 데이터 수정)   \n",
    "```  "
   ]
  },
  {
   "cell_type": "code",
   "execution_count": 355,
   "id": "4b6a0a2a",
   "metadata": {
    "ExecuteTime": {
     "end_time": "2022-05-01T10:22:07.563528Z",
     "start_time": "2022-05-01T10:22:02.895251Z"
    },
    "tags": []
   },
   "outputs": [
    {
     "data": {
      "text/html": [
       "<div>\n",
       "<style scoped>\n",
       "    .dataframe tbody tr th:only-of-type {\n",
       "        vertical-align: middle;\n",
       "    }\n",
       "\n",
       "    .dataframe tbody tr th {\n",
       "        vertical-align: top;\n",
       "    }\n",
       "\n",
       "    .dataframe thead th {\n",
       "        text-align: right;\n",
       "    }\n",
       "</style>\n",
       "<table border=\"1\" class=\"dataframe\">\n",
       "  <thead>\n",
       "    <tr style=\"text-align: right;\">\n",
       "      <th></th>\n",
       "      <th>ID</th>\n",
       "      <th>성별코드</th>\n",
       "      <th>연령대코드(5세단위)</th>\n",
       "      <th>신장(5Cm단위)</th>\n",
       "      <th>체중(5Kg단위)</th>\n",
       "      <th>허리둘레</th>\n",
       "      <th>시력(좌)</th>\n",
       "      <th>시력(우)</th>\n",
       "      <th>청력(좌)</th>\n",
       "      <th>청력(우)</th>\n",
       "      <th>수축기혈압</th>\n",
       "      <th>이완기혈압</th>\n",
       "      <th>...</th>\n",
       "      <th>트리글리세라이드</th>\n",
       "      <th>HDL콜레스테롤</th>\n",
       "      <th>LDL콜레스테롤</th>\n",
       "      <th>혈색소</th>\n",
       "      <th>요단백</th>\n",
       "      <th>혈청크레아티닌</th>\n",
       "      <th>(혈청지오티)AST</th>\n",
       "      <th>(혈청지오티)ALT</th>\n",
       "      <th>감마지티피</th>\n",
       "      <th>구강검진수검여부</th>\n",
       "      <th>치아우식증유무</th>\n",
       "      <th>치석</th>\n",
       "    </tr>\n",
       "  </thead>\n",
       "  <tbody>\n",
       "    <tr>\n",
       "      <th>0</th>\n",
       "      <td>0</td>\n",
       "      <td>F</td>\n",
       "      <td>40</td>\n",
       "      <td>155</td>\n",
       "      <td>60</td>\n",
       "      <td>81.3000</td>\n",
       "      <td>1.2000</td>\n",
       "      <td>1.0000</td>\n",
       "      <td>1.0000</td>\n",
       "      <td>1.0000</td>\n",
       "      <td>114.0000</td>\n",
       "      <td>73.0000</td>\n",
       "      <td>...</td>\n",
       "      <td>82.0000</td>\n",
       "      <td>73.0000</td>\n",
       "      <td>126.0000</td>\n",
       "      <td>12.9000</td>\n",
       "      <td>1.0000</td>\n",
       "      <td>0.7000</td>\n",
       "      <td>18.0000</td>\n",
       "      <td>19.0000</td>\n",
       "      <td>27.0000</td>\n",
       "      <td>Y</td>\n",
       "      <td>0.0000</td>\n",
       "      <td>Y</td>\n",
       "    </tr>\n",
       "    <tr>\n",
       "      <th>1</th>\n",
       "      <td>1</td>\n",
       "      <td>F</td>\n",
       "      <td>40</td>\n",
       "      <td>160</td>\n",
       "      <td>60</td>\n",
       "      <td>81.0000</td>\n",
       "      <td>0.8000</td>\n",
       "      <td>0.6000</td>\n",
       "      <td>1.0000</td>\n",
       "      <td>1.0000</td>\n",
       "      <td>119.0000</td>\n",
       "      <td>70.0000</td>\n",
       "      <td>...</td>\n",
       "      <td>115.0000</td>\n",
       "      <td>42.0000</td>\n",
       "      <td>127.0000</td>\n",
       "      <td>12.7000</td>\n",
       "      <td>1.0000</td>\n",
       "      <td>0.6000</td>\n",
       "      <td>22.0000</td>\n",
       "      <td>19.0000</td>\n",
       "      <td>18.0000</td>\n",
       "      <td>Y</td>\n",
       "      <td>0.0000</td>\n",
       "      <td>Y</td>\n",
       "    </tr>\n",
       "    <tr>\n",
       "      <th>2</th>\n",
       "      <td>2</td>\n",
       "      <td>M</td>\n",
       "      <td>55</td>\n",
       "      <td>170</td>\n",
       "      <td>60</td>\n",
       "      <td>80.0000</td>\n",
       "      <td>0.8000</td>\n",
       "      <td>0.8000</td>\n",
       "      <td>1.0000</td>\n",
       "      <td>1.0000</td>\n",
       "      <td>138.0000</td>\n",
       "      <td>86.0000</td>\n",
       "      <td>...</td>\n",
       "      <td>182.0000</td>\n",
       "      <td>55.0000</td>\n",
       "      <td>151.0000</td>\n",
       "      <td>15.8000</td>\n",
       "      <td>1.0000</td>\n",
       "      <td>1.0000</td>\n",
       "      <td>21.0000</td>\n",
       "      <td>16.0000</td>\n",
       "      <td>22.0000</td>\n",
       "      <td>Y</td>\n",
       "      <td>0.0000</td>\n",
       "      <td>N</td>\n",
       "    </tr>\n",
       "    <tr>\n",
       "      <th>3</th>\n",
       "      <td>3</td>\n",
       "      <td>M</td>\n",
       "      <td>40</td>\n",
       "      <td>165</td>\n",
       "      <td>70</td>\n",
       "      <td>88.0000</td>\n",
       "      <td>1.5000</td>\n",
       "      <td>1.5000</td>\n",
       "      <td>1.0000</td>\n",
       "      <td>1.0000</td>\n",
       "      <td>100.0000</td>\n",
       "      <td>60.0000</td>\n",
       "      <td>...</td>\n",
       "      <td>254.0000</td>\n",
       "      <td>45.0000</td>\n",
       "      <td>226.0000</td>\n",
       "      <td>14.7000</td>\n",
       "      <td>1.0000</td>\n",
       "      <td>1.0000</td>\n",
       "      <td>19.0000</td>\n",
       "      <td>26.0000</td>\n",
       "      <td>18.0000</td>\n",
       "      <td>Y</td>\n",
       "      <td>0.0000</td>\n",
       "      <td>Y</td>\n",
       "    </tr>\n",
       "    <tr>\n",
       "      <th>4</th>\n",
       "      <td>4</td>\n",
       "      <td>F</td>\n",
       "      <td>40</td>\n",
       "      <td>155</td>\n",
       "      <td>60</td>\n",
       "      <td>86.0000</td>\n",
       "      <td>1.0000</td>\n",
       "      <td>1.0000</td>\n",
       "      <td>1.0000</td>\n",
       "      <td>1.0000</td>\n",
       "      <td>120.0000</td>\n",
       "      <td>74.0000</td>\n",
       "      <td>...</td>\n",
       "      <td>74.0000</td>\n",
       "      <td>62.0000</td>\n",
       "      <td>107.0000</td>\n",
       "      <td>12.5000</td>\n",
       "      <td>1.0000</td>\n",
       "      <td>0.6000</td>\n",
       "      <td>16.0000</td>\n",
       "      <td>14.0000</td>\n",
       "      <td>22.0000</td>\n",
       "      <td>Y</td>\n",
       "      <td>0.0000</td>\n",
       "      <td>N</td>\n",
       "    </tr>\n",
       "  </tbody>\n",
       "</table>\n",
       "<p>5 rows × 26 columns</p>\n",
       "</div>"
      ],
      "text/plain": [
       "   ID 성별코드  연령대코드(5세단위)  신장(5Cm단위)  체중(5Kg단위)    허리둘레  시력(좌)  시력(우)  청력(좌)   \n",
       "0   0    F           40        155         60 81.3000 1.2000 1.0000 1.0000  \\\n",
       "1   1    F           40        160         60 81.0000 0.8000 0.6000 1.0000   \n",
       "2   2    M           55        170         60 80.0000 0.8000 0.8000 1.0000   \n",
       "3   3    M           40        165         70 88.0000 1.5000 1.5000 1.0000   \n",
       "4   4    F           40        155         60 86.0000 1.0000 1.0000 1.0000   \n",
       "\n",
       "   청력(우)    수축기혈압   이완기혈압  ...  트리글리세라이드  HDL콜레스테롤  LDL콜레스테롤     혈색소    요단백   \n",
       "0 1.0000 114.0000 73.0000  ...   82.0000   73.0000  126.0000 12.9000 1.0000  \\\n",
       "1 1.0000 119.0000 70.0000  ...  115.0000   42.0000  127.0000 12.7000 1.0000   \n",
       "2 1.0000 138.0000 86.0000  ...  182.0000   55.0000  151.0000 15.8000 1.0000   \n",
       "3 1.0000 100.0000 60.0000  ...  254.0000   45.0000  226.0000 14.7000 1.0000   \n",
       "4 1.0000 120.0000 74.0000  ...   74.0000   62.0000  107.0000 12.5000 1.0000   \n",
       "\n",
       "   혈청크레아티닌  (혈청지오티)AST  (혈청지오티)ALT   감마지티피  구강검진수검여부  치아우식증유무 치석  \n",
       "0   0.7000     18.0000     19.0000 27.0000         Y   0.0000  Y  \n",
       "1   0.6000     22.0000     19.0000 18.0000         Y   0.0000  Y  \n",
       "2   1.0000     21.0000     16.0000 22.0000         Y   0.0000  N  \n",
       "3   1.0000     19.0000     26.0000 18.0000         Y   0.0000  Y  \n",
       "4   0.6000     16.0000     14.0000 22.0000         Y   0.0000  N  \n",
       "\n",
       "[5 rows x 26 columns]"
      ]
     },
     "metadata": {},
     "output_type": "display_data"
    },
    {
     "data": {
      "text/html": [
       "<div>\n",
       "<style scoped>\n",
       "    .dataframe tbody tr th:only-of-type {\n",
       "        vertical-align: middle;\n",
       "    }\n",
       "\n",
       "    .dataframe tbody tr th {\n",
       "        vertical-align: top;\n",
       "    }\n",
       "\n",
       "    .dataframe thead th {\n",
       "        text-align: right;\n",
       "    }\n",
       "</style>\n",
       "<table border=\"1\" class=\"dataframe\">\n",
       "  <thead>\n",
       "    <tr style=\"text-align: right;\">\n",
       "      <th></th>\n",
       "      <th>ID</th>\n",
       "      <th>흡연상태</th>\n",
       "    </tr>\n",
       "  </thead>\n",
       "  <tbody>\n",
       "    <tr>\n",
       "      <th>0</th>\n",
       "      <td>0</td>\n",
       "      <td>0</td>\n",
       "    </tr>\n",
       "    <tr>\n",
       "      <th>1</th>\n",
       "      <td>1</td>\n",
       "      <td>0</td>\n",
       "    </tr>\n",
       "    <tr>\n",
       "      <th>2</th>\n",
       "      <td>2</td>\n",
       "      <td>1</td>\n",
       "    </tr>\n",
       "    <tr>\n",
       "      <th>3</th>\n",
       "      <td>3</td>\n",
       "      <td>0</td>\n",
       "    </tr>\n",
       "    <tr>\n",
       "      <th>4</th>\n",
       "      <td>4</td>\n",
       "      <td>0</td>\n",
       "    </tr>\n",
       "  </tbody>\n",
       "</table>\n",
       "</div>"
      ],
      "text/plain": [
       "   ID  흡연상태\n",
       "0   0     0\n",
       "1   1     0\n",
       "2   2     1\n",
       "3   3     0\n",
       "4   4     0"
      ]
     },
     "metadata": {},
     "output_type": "display_data"
    }
   ],
   "source": [
    "import pandas as pd\n",
    "#데이터 로드\n",
    "x_train = pd.read_csv(\"https://raw.githubusercontent.com/Datamanim/datarepo/main/smoke/x_train.csv\")\n",
    "y_train = pd.read_csv(\"https://raw.githubusercontent.com/Datamanim/datarepo/main/smoke/y_train.csv\")\n",
    "x_test= pd.read_csv(\"https://raw.githubusercontent.com/Datamanim/datarepo/main/smoke/x_test.csv\")\n",
    "y_test= pd.read_csv(\"https://raw.githubusercontent.com/Datamanim/datarepo/main/smoke/y_test.csv\")\n",
    "\n",
    "display(x_train.head())\n",
    "display(y_train.head())"
   ]
  },
  {
   "cell_type": "code",
   "execution_count": 356,
   "id": "c4d24355-f5d9-41b3-9835-4ad4ebc51e86",
   "metadata": {
    "tags": []
   },
   "outputs": [],
   "source": [
    "X = x_train.copy()\n",
    "Y = y_train.copy()\n",
    "X_submission = x_test.copy()\n",
    "Y_submission = y_test.copy()"
   ]
  },
  {
   "cell_type": "markdown",
   "id": "3a3755e3-a3f7-451f-9092-ea30280d95ed",
   "metadata": {},
   "source": [
    "#### EDA"
   ]
  },
  {
   "cell_type": "code",
   "execution_count": 357,
   "id": "f26dbf2f-7785-47ed-96f5-66afe1c3fa25",
   "metadata": {
    "tags": []
   },
   "outputs": [
    {
     "name": "stdout",
     "output_type": "stream",
     "text": [
      "<class 'pandas.core.frame.DataFrame'>\n",
      "RangeIndex: 44553 entries, 0 to 44552\n",
      "Data columns (total 26 columns):\n",
      " #   Column       Non-Null Count  Dtype  \n",
      "---  ------       --------------  -----  \n",
      " 0   ID           44553 non-null  int64  \n",
      " 1   성별코드         44553 non-null  object \n",
      " 2   연령대코드(5세단위)  44553 non-null  int64  \n",
      " 3   신장(5Cm단위)    44553 non-null  int64  \n",
      " 4   체중(5Kg단위)    44553 non-null  int64  \n",
      " 5   허리둘레         44553 non-null  float64\n",
      " 6   시력(좌)        44553 non-null  float64\n",
      " 7   시력(우)        44553 non-null  float64\n",
      " 8   청력(좌)        44553 non-null  float64\n",
      " 9   청력(우)        44553 non-null  float64\n",
      " 10  수축기혈압        44553 non-null  float64\n",
      " 11  이완기혈압        44553 non-null  float64\n",
      " 12  식전혈당(공복혈당)   44553 non-null  float64\n",
      " 13  총콜레스테롤       44553 non-null  float64\n",
      " 14  트리글리세라이드     44553 non-null  float64\n",
      " 15  HDL콜레스테롤     44553 non-null  float64\n",
      " 16  LDL콜레스테롤     44553 non-null  float64\n",
      " 17  혈색소          44553 non-null  float64\n",
      " 18  요단백          44553 non-null  float64\n",
      " 19  혈청크레아티닌      44553 non-null  float64\n",
      " 20  (혈청지오티)AST   44553 non-null  float64\n",
      " 21  (혈청지오티)ALT   44553 non-null  float64\n",
      " 22  감마지티피        44553 non-null  float64\n",
      " 23  구강검진수검여부     44553 non-null  object \n",
      " 24  치아우식증유무      44553 non-null  float64\n",
      " 25  치석           44553 non-null  object \n",
      "dtypes: float64(19), int64(4), object(3)\n",
      "memory usage: 8.8+ MB\n"
     ]
    }
   ],
   "source": [
    "X.info()"
   ]
  },
  {
   "cell_type": "code",
   "execution_count": 358,
   "id": "ec39dc27-8ffe-439e-a9f9-2101d59e0e18",
   "metadata": {
    "tags": []
   },
   "outputs": [
    {
     "name": "stdout",
     "output_type": "stream",
     "text": [
      "<class 'pandas.core.frame.DataFrame'>\n",
      "RangeIndex: 44553 entries, 0 to 44552\n",
      "Data columns (total 2 columns):\n",
      " #   Column  Non-Null Count  Dtype\n",
      "---  ------  --------------  -----\n",
      " 0   ID      44553 non-null  int64\n",
      " 1   흡연상태    44553 non-null  int64\n",
      "dtypes: int64(2)\n",
      "memory usage: 696.3 KB\n"
     ]
    }
   ],
   "source": [
    "Y.info()"
   ]
  },
  {
   "cell_type": "code",
   "execution_count": 359,
   "id": "909a7e2d-1d4d-4f5d-9685-e647ea065178",
   "metadata": {
    "tags": []
   },
   "outputs": [
    {
     "data": {
      "text/html": [
       "<div>\n",
       "<style scoped>\n",
       "    .dataframe tbody tr th:only-of-type {\n",
       "        vertical-align: middle;\n",
       "    }\n",
       "\n",
       "    .dataframe tbody tr th {\n",
       "        vertical-align: top;\n",
       "    }\n",
       "\n",
       "    .dataframe thead th {\n",
       "        text-align: right;\n",
       "    }\n",
       "</style>\n",
       "<table border=\"1\" class=\"dataframe\">\n",
       "  <thead>\n",
       "    <tr style=\"text-align: right;\">\n",
       "      <th></th>\n",
       "      <th>ID</th>\n",
       "      <th>성별코드</th>\n",
       "      <th>연령대코드(5세단위)</th>\n",
       "      <th>신장(5Cm단위)</th>\n",
       "      <th>체중(5Kg단위)</th>\n",
       "      <th>허리둘레</th>\n",
       "      <th>시력(좌)</th>\n",
       "      <th>시력(우)</th>\n",
       "      <th>청력(좌)</th>\n",
       "      <th>청력(우)</th>\n",
       "      <th>수축기혈압</th>\n",
       "      <th>이완기혈압</th>\n",
       "      <th>...</th>\n",
       "      <th>HDL콜레스테롤</th>\n",
       "      <th>LDL콜레스테롤</th>\n",
       "      <th>혈색소</th>\n",
       "      <th>요단백</th>\n",
       "      <th>혈청크레아티닌</th>\n",
       "      <th>(혈청지오티)AST</th>\n",
       "      <th>(혈청지오티)ALT</th>\n",
       "      <th>감마지티피</th>\n",
       "      <th>구강검진수검여부</th>\n",
       "      <th>치아우식증유무</th>\n",
       "      <th>치석</th>\n",
       "      <th>흡연상태</th>\n",
       "    </tr>\n",
       "  </thead>\n",
       "  <tbody>\n",
       "    <tr>\n",
       "      <th>0</th>\n",
       "      <td>0</td>\n",
       "      <td>F</td>\n",
       "      <td>40</td>\n",
       "      <td>155</td>\n",
       "      <td>60</td>\n",
       "      <td>81.3000</td>\n",
       "      <td>1.2000</td>\n",
       "      <td>1.0000</td>\n",
       "      <td>1.0000</td>\n",
       "      <td>1.0000</td>\n",
       "      <td>114.0000</td>\n",
       "      <td>73.0000</td>\n",
       "      <td>...</td>\n",
       "      <td>73.0000</td>\n",
       "      <td>126.0000</td>\n",
       "      <td>12.9000</td>\n",
       "      <td>1.0000</td>\n",
       "      <td>0.7000</td>\n",
       "      <td>18.0000</td>\n",
       "      <td>19.0000</td>\n",
       "      <td>27.0000</td>\n",
       "      <td>Y</td>\n",
       "      <td>0.0000</td>\n",
       "      <td>Y</td>\n",
       "      <td>0</td>\n",
       "    </tr>\n",
       "    <tr>\n",
       "      <th>1</th>\n",
       "      <td>1</td>\n",
       "      <td>F</td>\n",
       "      <td>40</td>\n",
       "      <td>160</td>\n",
       "      <td>60</td>\n",
       "      <td>81.0000</td>\n",
       "      <td>0.8000</td>\n",
       "      <td>0.6000</td>\n",
       "      <td>1.0000</td>\n",
       "      <td>1.0000</td>\n",
       "      <td>119.0000</td>\n",
       "      <td>70.0000</td>\n",
       "      <td>...</td>\n",
       "      <td>42.0000</td>\n",
       "      <td>127.0000</td>\n",
       "      <td>12.7000</td>\n",
       "      <td>1.0000</td>\n",
       "      <td>0.6000</td>\n",
       "      <td>22.0000</td>\n",
       "      <td>19.0000</td>\n",
       "      <td>18.0000</td>\n",
       "      <td>Y</td>\n",
       "      <td>0.0000</td>\n",
       "      <td>Y</td>\n",
       "      <td>0</td>\n",
       "    </tr>\n",
       "  </tbody>\n",
       "</table>\n",
       "<p>2 rows × 27 columns</p>\n",
       "</div>"
      ],
      "text/plain": [
       "   ID 성별코드  연령대코드(5세단위)  신장(5Cm단위)  체중(5Kg단위)    허리둘레  시력(좌)  시력(우)  청력(좌)   \n",
       "0   0    F           40        155         60 81.3000 1.2000 1.0000 1.0000  \\\n",
       "1   1    F           40        160         60 81.0000 0.8000 0.6000 1.0000   \n",
       "\n",
       "   청력(우)    수축기혈압   이완기혈압  ...  HDL콜레스테롤  LDL콜레스테롤     혈색소    요단백  혈청크레아티닌   \n",
       "0 1.0000 114.0000 73.0000  ...   73.0000  126.0000 12.9000 1.0000   0.7000  \\\n",
       "1 1.0000 119.0000 70.0000  ...   42.0000  127.0000 12.7000 1.0000   0.6000   \n",
       "\n",
       "   (혈청지오티)AST  (혈청지오티)ALT   감마지티피  구강검진수검여부  치아우식증유무  치석 흡연상태  \n",
       "0     18.0000     19.0000 27.0000         Y   0.0000   Y    0  \n",
       "1     22.0000     19.0000 18.0000         Y   0.0000   Y    0  \n",
       "\n",
       "[2 rows x 27 columns]"
      ]
     },
     "execution_count": 359,
     "metadata": {},
     "output_type": "execute_result"
    }
   ],
   "source": [
    "dfXY = pd.merge(X, Y, on='ID')\n",
    "dfXY.head(2)"
   ]
  },
  {
   "cell_type": "code",
   "execution_count": 360,
   "id": "2da64c97-25f6-4533-8d1b-cdb08dbbeb47",
   "metadata": {
    "tags": []
   },
   "outputs": [
    {
     "data": {
      "text/plain": [
       "0"
      ]
     },
     "execution_count": 360,
     "metadata": {},
     "output_type": "execute_result"
    }
   ],
   "source": [
    "dfXY.isna().sum().sum()"
   ]
  },
  {
   "cell_type": "code",
   "execution_count": 361,
   "id": "fe645928-878f-4a76-adbf-15dc81cef960",
   "metadata": {
    "tags": []
   },
   "outputs": [
    {
     "data": {
      "text/plain": [
       "Index(['성별코드', '구강검진수검여부', '치석'], dtype='object')"
      ]
     },
     "execution_count": 361,
     "metadata": {},
     "output_type": "execute_result"
    }
   ],
   "source": [
    "dfXY.select_dtypes(include='object').columns"
   ]
  },
  {
   "cell_type": "code",
   "execution_count": 364,
   "id": "d2ed280d-d3d0-4c62-8a99-27a232ca5080",
   "metadata": {
    "tags": []
   },
   "outputs": [
    {
     "data": {
      "text/plain": [
       "ID             0.0121\n",
       "연령대코드(5세단위)   -0.1611\n",
       "신장(5Cm단위)      0.3937\n",
       "체중(5Kg단위)      0.2994\n",
       "허리둘레           0.2245\n",
       "시력(좌)          0.0594\n",
       "시력(우)          0.0624\n",
       "청력(좌)         -0.0235\n",
       "청력(우)         -0.0181\n",
       "수축기혈압          0.0736\n",
       "이완기혈압          0.1076\n",
       "식전혈당(공복혈당)     0.0994\n",
       "총콜레스테롤        -0.0302\n",
       "트리글리세라이드       0.2509\n",
       "HDL콜레스테롤      -0.1759\n",
       "LDL콜레스테롤      -0.0450\n",
       "혈색소            0.3973\n",
       "요단백            0.0158\n",
       "혈청크레아티닌        0.2093\n",
       "(혈청지오티)AST     0.0599\n",
       "(혈청지오티)ALT     0.0944\n",
       "감마지티피          0.2349\n",
       "치아우식증유무        0.1053\n",
       "흡연상태           1.0000\n",
       "Name: 흡연상태, dtype: float64"
      ]
     },
     "execution_count": 364,
     "metadata": {},
     "output_type": "execute_result"
    }
   ],
   "source": [
    "dfXY.corr(numeric_only=True)['흡연상태']\n",
    "# HDL콜레스테롤, 혈색소, 혈청크레아티닌, 감마지티피, 치아우식증유무"
   ]
  },
  {
   "cell_type": "markdown",
   "id": "df87cb24-986f-4edb-a609-92a11dbf729f",
   "metadata": {},
   "source": [
    "#### 데이터 전처리"
   ]
  },
  {
   "cell_type": "code",
   "execution_count": 365,
   "id": "48e79234-0d84-4605-ad6a-dcf39caabcfc",
   "metadata": {
    "tags": []
   },
   "outputs": [
    {
     "data": {
      "text/html": [
       "<div>\n",
       "<style scoped>\n",
       "    .dataframe tbody tr th:only-of-type {\n",
       "        vertical-align: middle;\n",
       "    }\n",
       "\n",
       "    .dataframe tbody tr th {\n",
       "        vertical-align: top;\n",
       "    }\n",
       "\n",
       "    .dataframe thead th {\n",
       "        text-align: right;\n",
       "    }\n",
       "</style>\n",
       "<table border=\"1\" class=\"dataframe\">\n",
       "  <thead>\n",
       "    <tr style=\"text-align: right;\">\n",
       "      <th></th>\n",
       "      <th>ID</th>\n",
       "      <th>성별코드</th>\n",
       "      <th>연령대코드(5세단위)</th>\n",
       "      <th>신장(5Cm단위)</th>\n",
       "      <th>체중(5Kg단위)</th>\n",
       "      <th>허리둘레</th>\n",
       "      <th>시력(좌)</th>\n",
       "      <th>시력(우)</th>\n",
       "      <th>청력(좌)</th>\n",
       "      <th>청력(우)</th>\n",
       "      <th>수축기혈압</th>\n",
       "      <th>이완기혈압</th>\n",
       "      <th>...</th>\n",
       "      <th>트리글리세라이드</th>\n",
       "      <th>HDL콜레스테롤</th>\n",
       "      <th>LDL콜레스테롤</th>\n",
       "      <th>혈색소</th>\n",
       "      <th>요단백</th>\n",
       "      <th>혈청크레아티닌</th>\n",
       "      <th>(혈청지오티)AST</th>\n",
       "      <th>(혈청지오티)ALT</th>\n",
       "      <th>감마지티피</th>\n",
       "      <th>구강검진수검여부</th>\n",
       "      <th>치아우식증유무</th>\n",
       "      <th>치석</th>\n",
       "    </tr>\n",
       "  </thead>\n",
       "  <tbody>\n",
       "    <tr>\n",
       "      <th>0</th>\n",
       "      <td>0</td>\n",
       "      <td>F</td>\n",
       "      <td>40</td>\n",
       "      <td>155</td>\n",
       "      <td>60</td>\n",
       "      <td>81.3000</td>\n",
       "      <td>1.2000</td>\n",
       "      <td>1.0000</td>\n",
       "      <td>1.0000</td>\n",
       "      <td>1.0000</td>\n",
       "      <td>114.0000</td>\n",
       "      <td>73.0000</td>\n",
       "      <td>...</td>\n",
       "      <td>82.0000</td>\n",
       "      <td>73.0000</td>\n",
       "      <td>126.0000</td>\n",
       "      <td>12.9000</td>\n",
       "      <td>1.0000</td>\n",
       "      <td>0.7000</td>\n",
       "      <td>18.0000</td>\n",
       "      <td>19.0000</td>\n",
       "      <td>27.0000</td>\n",
       "      <td>Y</td>\n",
       "      <td>0.0000</td>\n",
       "      <td>Y</td>\n",
       "    </tr>\n",
       "    <tr>\n",
       "      <th>1</th>\n",
       "      <td>1</td>\n",
       "      <td>F</td>\n",
       "      <td>40</td>\n",
       "      <td>160</td>\n",
       "      <td>60</td>\n",
       "      <td>81.0000</td>\n",
       "      <td>0.8000</td>\n",
       "      <td>0.6000</td>\n",
       "      <td>1.0000</td>\n",
       "      <td>1.0000</td>\n",
       "      <td>119.0000</td>\n",
       "      <td>70.0000</td>\n",
       "      <td>...</td>\n",
       "      <td>115.0000</td>\n",
       "      <td>42.0000</td>\n",
       "      <td>127.0000</td>\n",
       "      <td>12.7000</td>\n",
       "      <td>1.0000</td>\n",
       "      <td>0.6000</td>\n",
       "      <td>22.0000</td>\n",
       "      <td>19.0000</td>\n",
       "      <td>18.0000</td>\n",
       "      <td>Y</td>\n",
       "      <td>0.0000</td>\n",
       "      <td>Y</td>\n",
       "    </tr>\n",
       "  </tbody>\n",
       "</table>\n",
       "<p>2 rows × 26 columns</p>\n",
       "</div>"
      ],
      "text/plain": [
       "   ID 성별코드  연령대코드(5세단위)  신장(5Cm단위)  체중(5Kg단위)    허리둘레  시력(좌)  시력(우)  청력(좌)   \n",
       "0   0    F           40        155         60 81.3000 1.2000 1.0000 1.0000  \\\n",
       "1   1    F           40        160         60 81.0000 0.8000 0.6000 1.0000   \n",
       "\n",
       "   청력(우)    수축기혈압   이완기혈압  ...  트리글리세라이드  HDL콜레스테롤  LDL콜레스테롤     혈색소    요단백   \n",
       "0 1.0000 114.0000 73.0000  ...   82.0000   73.0000  126.0000 12.9000 1.0000  \\\n",
       "1 1.0000 119.0000 70.0000  ...  115.0000   42.0000  127.0000 12.7000 1.0000   \n",
       "\n",
       "   혈청크레아티닌  (혈청지오티)AST  (혈청지오티)ALT   감마지티피  구강검진수검여부  치아우식증유무 치석  \n",
       "0   0.7000     18.0000     19.0000 27.0000         Y   0.0000  Y  \n",
       "1   0.6000     22.0000     19.0000 18.0000         Y   0.0000  Y  \n",
       "\n",
       "[2 rows x 26 columns]"
      ]
     },
     "execution_count": 365,
     "metadata": {},
     "output_type": "execute_result"
    }
   ],
   "source": [
    "dfX = pd.concat([X, X_submission], axis=0, ignore_index=True)\n",
    "dfX.head(2)"
   ]
  },
  {
   "cell_type": "code",
   "execution_count": 368,
   "id": "9c5c5c34-da21-4bc1-a058-39b46255abb6",
   "metadata": {
    "tags": []
   },
   "outputs": [
    {
     "data": {
      "text/plain": [
       "ID             0\n",
       "성별코드           0\n",
       "연령대코드(5세단위)    0\n",
       "신장(5Cm단위)      0\n",
       "체중(5Kg단위)      0\n",
       "허리둘레           0\n",
       "시력(좌)          0\n",
       "시력(우)          0\n",
       "청력(좌)          0\n",
       "청력(우)          0\n",
       "수축기혈압          0\n",
       "이완기혈압          0\n",
       "식전혈당(공복혈당)     0\n",
       "총콜레스테롤         0\n",
       "트리글리세라이드       0\n",
       "HDL콜레스테롤       0\n",
       "LDL콜레스테롤       0\n",
       "혈색소            0\n",
       "요단백            0\n",
       "혈청크레아티닌        0\n",
       "(혈청지오티)AST     0\n",
       "(혈청지오티)ALT     0\n",
       "감마지티피          0\n",
       "구강검진수검여부       0\n",
       "치아우식증유무        0\n",
       "치석             0\n",
       "dtype: int64"
      ]
     },
     "execution_count": 368,
     "metadata": {},
     "output_type": "execute_result"
    }
   ],
   "source": [
    "dfX.isna().sum()"
   ]
  },
  {
   "cell_type": "code",
   "execution_count": 378,
   "id": "2a5186d7-8d2d-4cfc-95a3-5569c1eda211",
   "metadata": {
    "tags": []
   },
   "outputs": [
    {
     "name": "stdout",
     "output_type": "stream",
     "text": [
      "<class 'pandas.core.frame.DataFrame'>\n",
      "RangeIndex: 55692 entries, 0 to 55691\n",
      "Data columns (total 26 columns):\n",
      " #   Column       Non-Null Count  Dtype  \n",
      "---  ------       --------------  -----  \n",
      " 0   ID           55692 non-null  int64  \n",
      " 1   성별코드         55692 non-null  int32  \n",
      " 2   연령대코드(5세단위)  55692 non-null  int64  \n",
      " 3   신장(5Cm단위)    55692 non-null  int64  \n",
      " 4   체중(5Kg단위)    55692 non-null  int64  \n",
      " 5   허리둘레         55692 non-null  float64\n",
      " 6   시력(좌)        55692 non-null  float64\n",
      " 7   시력(우)        55692 non-null  float64\n",
      " 8   청력(좌)        55692 non-null  float64\n",
      " 9   청력(우)        55692 non-null  float64\n",
      " 10  수축기혈압        55692 non-null  float64\n",
      " 11  이완기혈압        55692 non-null  float64\n",
      " 12  식전혈당(공복혈당)   55692 non-null  float64\n",
      " 13  총콜레스테롤       55692 non-null  float64\n",
      " 14  트리글리세라이드     55692 non-null  float64\n",
      " 15  HDL콜레스테롤     55692 non-null  float64\n",
      " 16  LDL콜레스테롤     55692 non-null  float64\n",
      " 17  혈색소          55692 non-null  float64\n",
      " 18  요단백          55692 non-null  float64\n",
      " 19  혈청크레아티닌      55692 non-null  float64\n",
      " 20  (혈청지오티)AST   55692 non-null  float64\n",
      " 21  (혈청지오티)ALT   55692 non-null  float64\n",
      " 22  감마지티피        55692 non-null  float64\n",
      " 23  구강검진수검여부     55692 non-null  int32  \n",
      " 24  치아우식증유무      55692 non-null  float64\n",
      " 25  치석           55692 non-null  int32  \n",
      "dtypes: float64(19), int32(3), int64(4)\n",
      "memory usage: 10.4 MB\n"
     ]
    }
   ],
   "source": [
    "dfX.info()"
   ]
  },
  {
   "cell_type": "code",
   "execution_count": 369,
   "id": "2cd005f3-7715-4767-89f8-dcb9698c9d3f",
   "metadata": {
    "tags": []
   },
   "outputs": [
    {
     "data": {
      "text/plain": [
       "성별코드\n",
       "M    35401\n",
       "F    20291\n",
       "Name: count, dtype: int64"
      ]
     },
     "execution_count": 369,
     "metadata": {},
     "output_type": "execute_result"
    }
   ],
   "source": [
    "dfX['성별코드'].value_counts()"
   ]
  },
  {
   "cell_type": "code",
   "execution_count": 370,
   "id": "f88768ab-4315-437d-a707-6469a18b7fae",
   "metadata": {
    "tags": []
   },
   "outputs": [],
   "source": [
    "dfX['성별코드'] = dfX['성별코드'].replace({'F': 0, 'M':1}).astype('int')"
   ]
  },
  {
   "cell_type": "code",
   "execution_count": 372,
   "id": "d8bce68c-97de-4ef8-a0c4-622bb3616297",
   "metadata": {
    "tags": []
   },
   "outputs": [
    {
     "data": {
      "text/plain": [
       "치석\n",
       "Y    30940\n",
       "N    24752\n",
       "Name: count, dtype: int64"
      ]
     },
     "execution_count": 372,
     "metadata": {},
     "output_type": "execute_result"
    }
   ],
   "source": [
    "dfX['치석'].value_counts()"
   ]
  },
  {
   "cell_type": "code",
   "execution_count": 373,
   "id": "c7f3c8d6-0117-4d8b-8303-ff1d5147cb88",
   "metadata": {
    "tags": []
   },
   "outputs": [],
   "source": [
    "dfX['치석'] = dfX['치석'].replace({'N':0, 'Y':1}).astype('int')"
   ]
  },
  {
   "cell_type": "code",
   "execution_count": 375,
   "id": "f71a5f3b-9f37-45b3-9853-5cf427fadd8f",
   "metadata": {
    "tags": []
   },
   "outputs": [
    {
     "data": {
      "text/plain": [
       "구강검진수검여부\n",
       "Y    55692\n",
       "Name: count, dtype: int64"
      ]
     },
     "execution_count": 375,
     "metadata": {},
     "output_type": "execute_result"
    }
   ],
   "source": [
    "dfX['구강검진수검여부'].value_counts()"
   ]
  },
  {
   "cell_type": "code",
   "execution_count": 377,
   "id": "32b82540-73ed-41bf-a7c5-c538ed6d2aee",
   "metadata": {
    "tags": []
   },
   "outputs": [],
   "source": [
    "dfX['구강검진수검여부'] = dfX['구강검진수검여부'].replace(['Y'], [1]).astype('int')"
   ]
  },
  {
   "cell_type": "code",
   "execution_count": 380,
   "id": "cee50f7a-e32d-4092-9325-38553ae3e98c",
   "metadata": {
    "tags": []
   },
   "outputs": [],
   "source": [
    "dfXY = pd.merge(dfX, Y, on='ID')"
   ]
  },
  {
   "cell_type": "code",
   "execution_count": 382,
   "id": "c6df431c-a792-4c6e-a510-97420387014c",
   "metadata": {
    "tags": []
   },
   "outputs": [
    {
     "data": {
      "text/plain": [
       "ID             0.0121\n",
       "성별코드           0.5077\n",
       "연령대코드(5세단위)   -0.1611\n",
       "신장(5Cm단위)      0.3937\n",
       "체중(5Kg단위)      0.2994\n",
       "허리둘레           0.2245\n",
       "시력(좌)          0.0594\n",
       "시력(우)          0.0624\n",
       "청력(좌)         -0.0235\n",
       "청력(우)         -0.0181\n",
       "수축기혈압          0.0736\n",
       "이완기혈압          0.1076\n",
       "식전혈당(공복혈당)     0.0994\n",
       "총콜레스테롤        -0.0302\n",
       "트리글리세라이드       0.2509\n",
       "HDL콜레스테롤      -0.1759\n",
       "LDL콜레스테롤      -0.0450\n",
       "혈색소            0.3973\n",
       "요단백            0.0158\n",
       "혈청크레아티닌        0.2093\n",
       "(혈청지오티)AST     0.0599\n",
       "(혈청지오티)ALT     0.0944\n",
       "감마지티피          0.2349\n",
       "구강검진수검여부          NaN\n",
       "치아우식증유무        0.1053\n",
       "치석             0.1027\n",
       "흡연상태           1.0000\n",
       "Name: 흡연상태, dtype: float64"
      ]
     },
     "execution_count": 382,
     "metadata": {},
     "output_type": "execute_result"
    }
   ],
   "source": [
    "dfXY.corr()['흡연상태']"
   ]
  },
  {
   "cell_type": "markdown",
   "id": "2e37faae-68da-4e6e-a8eb-00113581a305",
   "metadata": {},
   "source": [
    "#### Feature Engineering"
   ]
  },
  {
   "cell_type": "code",
   "execution_count": 383,
   "id": "741afc8d-04ed-4e28-b748-6aaf8c6f08f3",
   "metadata": {
    "tags": []
   },
   "outputs": [
    {
     "data": {
      "text/plain": [
       "(Index(['ID', '성별코드', '연령대코드(5세단위)', '신장(5Cm단위)', '체중(5Kg단위)', '허리둘레', '시력(좌)',\n",
       "        '시력(우)', '청력(좌)', '청력(우)', '수축기혈압', '이완기혈압', '식전혈당(공복혈당)', '총콜레스테롤',\n",
       "        '트리글리세라이드', 'HDL콜레스테롤', 'LDL콜레스테롤', '혈색소', '요단백', '혈청크레아티닌',\n",
       "        '(혈청지오티)AST', '(혈청지오티)ALT', '감마지티피', '구강검진수검여부', '치아우식증유무', '치석'],\n",
       "       dtype='object'),\n",
       " Index(['ID', '흡연상태'], dtype='object'))"
      ]
     },
     "execution_count": 383,
     "metadata": {},
     "output_type": "execute_result"
    }
   ],
   "source": [
    "dfX.columns, Y.columns"
   ]
  },
  {
   "cell_type": "code",
   "execution_count": 384,
   "id": "d62ba3af-d936-4f16-87d8-41ec1fcbe0a0",
   "metadata": {
    "tags": []
   },
   "outputs": [],
   "source": [
    "x_features = ['성별코드', '연령대코드(5세단위)', '신장(5Cm단위)', '체중(5Kg단위)', '허리둘레', '시력(좌)',\\\n",
    "              '시력(우)', '청력(좌)', '청력(우)', '수축기혈압', '이완기혈압', '식전혈당(공복혈당)', '총콜레스테롤',\n",
    "              '트리글리세라이드', 'HDL콜레스테롤', 'LDL콜레스테롤', '혈색소', '요단백', '혈청크레아티닌',\n",
    "              '(혈청지오티)AST', '(혈청지오티)ALT', '감마지티피', '구강검진수검여부', '치아우식증유무', '치석']\n",
    "y_feature = '흡연상태'"
   ]
  },
  {
   "cell_type": "markdown",
   "id": "87ef70f7-1eac-41d4-8110-a0eddf4a1169",
   "metadata": {},
   "source": [
    "#### 모델링"
   ]
  },
  {
   "cell_type": "code",
   "execution_count": 385,
   "id": "b980e6c9-b574-4ea8-a188-e0c6de8cfc67",
   "metadata": {
    "tags": []
   },
   "outputs": [],
   "source": [
    "XF, X_submissionF, YF = get_classification_model_data(dfX, Y, len(X), x_features, y_feature, is_normalized=True)"
   ]
  },
  {
   "cell_type": "code",
   "execution_count": 386,
   "id": "feded620-808d-4906-912c-082c218922e0",
   "metadata": {
    "tags": []
   },
   "outputs": [],
   "source": [
    "xtrain, xtest, ytrain, ytest = train_test_split(XF, YF, test_size=0.3, random_state=1234, stratify=YF)"
   ]
  },
  {
   "cell_type": "code",
   "execution_count": 395,
   "id": "d7d67100-5403-4cc1-823f-3f5e34025f95",
   "metadata": {
    "tags": []
   },
   "outputs": [],
   "source": [
    "result = compare_classification_model(xtrain, xtest, ytrain, ytest, is_binary_model=False)"
   ]
  },
  {
   "cell_type": "code",
   "execution_count": 396,
   "id": "1840708b-878f-436c-b2ca-559a43ab903d",
   "metadata": {
    "tags": []
   },
   "outputs": [
    {
     "data": {
      "text/html": [
       "<div>\n",
       "<style scoped>\n",
       "    .dataframe tbody tr th:only-of-type {\n",
       "        vertical-align: middle;\n",
       "    }\n",
       "\n",
       "    .dataframe tbody tr th {\n",
       "        vertical-align: top;\n",
       "    }\n",
       "\n",
       "    .dataframe thead th {\n",
       "        text-align: right;\n",
       "    }\n",
       "</style>\n",
       "<table border=\"1\" class=\"dataframe\">\n",
       "  <thead>\n",
       "    <tr style=\"text-align: right;\">\n",
       "      <th></th>\n",
       "      <th>Train_Accuray</th>\n",
       "      <th>Test_Accuracy</th>\n",
       "      <th>DIFF</th>\n",
       "      <th>Accuracy</th>\n",
       "      <th>Precision</th>\n",
       "      <th>Recall</th>\n",
       "      <th>F1</th>\n",
       "    </tr>\n",
       "  </thead>\n",
       "  <tbody>\n",
       "    <tr>\n",
       "      <th>RandomForestClassifier_8</th>\n",
       "      <td>0.7813</td>\n",
       "      <td>0.7592</td>\n",
       "      <td>0.0221</td>\n",
       "      <td>0.7592</td>\n",
       "      <td>0.6496</td>\n",
       "      <td>0.7466</td>\n",
       "      <td>0.6947</td>\n",
       "    </tr>\n",
       "    <tr>\n",
       "      <th>RandomForestClassifier_9</th>\n",
       "      <td>0.8008</td>\n",
       "      <td>0.7610</td>\n",
       "      <td>0.0399</td>\n",
       "      <td>0.7610</td>\n",
       "      <td>0.6540</td>\n",
       "      <td>0.7405</td>\n",
       "      <td>0.6946</td>\n",
       "    </tr>\n",
       "    <tr>\n",
       "      <th>RandomForestClassifier_7</th>\n",
       "      <td>0.7670</td>\n",
       "      <td>0.7552</td>\n",
       "      <td>0.0118</td>\n",
       "      <td>0.7552</td>\n",
       "      <td>0.6456</td>\n",
       "      <td>0.7383</td>\n",
       "      <td>0.6889</td>\n",
       "    </tr>\n",
       "    <tr>\n",
       "      <th>RandomForestClassifier</th>\n",
       "      <td>1.0000</td>\n",
       "      <td>0.7610</td>\n",
       "      <td>0.2390</td>\n",
       "      <td>0.7610</td>\n",
       "      <td>0.6648</td>\n",
       "      <td>0.7038</td>\n",
       "      <td>0.6838</td>\n",
       "    </tr>\n",
       "    <tr>\n",
       "      <th>RandomForestClassifier_6</th>\n",
       "      <td>0.7547</td>\n",
       "      <td>0.7493</td>\n",
       "      <td>0.0054</td>\n",
       "      <td>0.7493</td>\n",
       "      <td>0.6406</td>\n",
       "      <td>0.7220</td>\n",
       "      <td>0.6789</td>\n",
       "    </tr>\n",
       "    <tr>\n",
       "      <th>XGBClassifier</th>\n",
       "      <td>0.8684</td>\n",
       "      <td>0.7573</td>\n",
       "      <td>0.1111</td>\n",
       "      <td>0.7573</td>\n",
       "      <td>0.6621</td>\n",
       "      <td>0.6918</td>\n",
       "      <td>0.6766</td>\n",
       "    </tr>\n",
       "    <tr>\n",
       "      <th>RandomForestClassifier_5</th>\n",
       "      <td>0.7493</td>\n",
       "      <td>0.7457</td>\n",
       "      <td>0.0036</td>\n",
       "      <td>0.7457</td>\n",
       "      <td>0.6355</td>\n",
       "      <td>0.7201</td>\n",
       "      <td>0.6752</td>\n",
       "    </tr>\n",
       "    <tr>\n",
       "      <th>RandomForestClassifier_4</th>\n",
       "      <td>0.7405</td>\n",
       "      <td>0.7401</td>\n",
       "      <td>0.0004</td>\n",
       "      <td>0.7401</td>\n",
       "      <td>0.6287</td>\n",
       "      <td>0.7130</td>\n",
       "      <td>0.6682</td>\n",
       "    </tr>\n",
       "    <tr>\n",
       "      <th>RandomForestClassifier_3</th>\n",
       "      <td>0.7322</td>\n",
       "      <td>0.7325</td>\n",
       "      <td>0.0003</td>\n",
       "      <td>0.7325</td>\n",
       "      <td>0.6346</td>\n",
       "      <td>0.6390</td>\n",
       "      <td>0.6368</td>\n",
       "    </tr>\n",
       "    <tr>\n",
       "      <th>KNeighborsClassifier</th>\n",
       "      <td>0.8094</td>\n",
       "      <td>0.7136</td>\n",
       "      <td>0.0958</td>\n",
       "      <td>0.7136</td>\n",
       "      <td>0.6094</td>\n",
       "      <td>0.6121</td>\n",
       "      <td>0.6107</td>\n",
       "    </tr>\n",
       "    <tr>\n",
       "      <th>RandomForestClassifier_2</th>\n",
       "      <td>0.7195</td>\n",
       "      <td>0.7224</td>\n",
       "      <td>0.0029</td>\n",
       "      <td>0.7224</td>\n",
       "      <td>0.6309</td>\n",
       "      <td>0.5868</td>\n",
       "      <td>0.6081</td>\n",
       "    </tr>\n",
       "    <tr>\n",
       "      <th>DecisionTreeClassifier</th>\n",
       "      <td>1.0000</td>\n",
       "      <td>0.6916</td>\n",
       "      <td>0.3084</td>\n",
       "      <td>0.6916</td>\n",
       "      <td>0.5802</td>\n",
       "      <td>0.5779</td>\n",
       "      <td>0.5790</td>\n",
       "    </tr>\n",
       "    <tr>\n",
       "      <th>RandomForestClassifier_1</th>\n",
       "      <td>0.6395</td>\n",
       "      <td>0.6399</td>\n",
       "      <td>0.0004</td>\n",
       "      <td>0.6399</td>\n",
       "      <td>0.6332</td>\n",
       "      <td>0.0450</td>\n",
       "      <td>0.0841</td>\n",
       "    </tr>\n",
       "  </tbody>\n",
       "</table>\n",
       "</div>"
      ],
      "text/plain": [
       "                          Train_Accuray  Test_Accuracy   DIFF  Accuracy   \n",
       "RandomForestClassifier_8         0.7813         0.7592 0.0221    0.7592  \\\n",
       "RandomForestClassifier_9         0.8008         0.7610 0.0399    0.7610   \n",
       "RandomForestClassifier_7         0.7670         0.7552 0.0118    0.7552   \n",
       "RandomForestClassifier           1.0000         0.7610 0.2390    0.7610   \n",
       "RandomForestClassifier_6         0.7547         0.7493 0.0054    0.7493   \n",
       "XGBClassifier                    0.8684         0.7573 0.1111    0.7573   \n",
       "RandomForestClassifier_5         0.7493         0.7457 0.0036    0.7457   \n",
       "RandomForestClassifier_4         0.7405         0.7401 0.0004    0.7401   \n",
       "RandomForestClassifier_3         0.7322         0.7325 0.0003    0.7325   \n",
       "KNeighborsClassifier             0.8094         0.7136 0.0958    0.7136   \n",
       "RandomForestClassifier_2         0.7195         0.7224 0.0029    0.7224   \n",
       "DecisionTreeClassifier           1.0000         0.6916 0.3084    0.6916   \n",
       "RandomForestClassifier_1         0.6395         0.6399 0.0004    0.6399   \n",
       "\n",
       "                          Precision  Recall     F1  \n",
       "RandomForestClassifier_8     0.6496  0.7466 0.6947  \n",
       "RandomForestClassifier_9     0.6540  0.7405 0.6946  \n",
       "RandomForestClassifier_7     0.6456  0.7383 0.6889  \n",
       "RandomForestClassifier       0.6648  0.7038 0.6838  \n",
       "RandomForestClassifier_6     0.6406  0.7220 0.6789  \n",
       "XGBClassifier                0.6621  0.6918 0.6766  \n",
       "RandomForestClassifier_5     0.6355  0.7201 0.6752  \n",
       "RandomForestClassifier_4     0.6287  0.7130 0.6682  \n",
       "RandomForestClassifier_3     0.6346  0.6390 0.6368  \n",
       "KNeighborsClassifier         0.6094  0.6121 0.6107  \n",
       "RandomForestClassifier_2     0.6309  0.5868 0.6081  \n",
       "DecisionTreeClassifier       0.5802  0.5779 0.5790  \n",
       "RandomForestClassifier_1     0.6332  0.0450 0.0841  "
      ]
     },
     "execution_count": 396,
     "metadata": {},
     "output_type": "execute_result"
    }
   ],
   "source": [
    "result.sort_values(['F1', 'Test_Accuracy'], ascending=[False, False])"
   ]
  },
  {
   "cell_type": "code",
   "execution_count": 397,
   "id": "1b0da7c6-2bd1-467a-baec-e320c7adc627",
   "metadata": {
    "tags": []
   },
   "outputs": [],
   "source": [
    "model = RandomForestClassifier(max_depth=8, random_state=1234).fit(xtrain, ytrain)"
   ]
  },
  {
   "cell_type": "code",
   "execution_count": 398,
   "id": "627344b0-10cf-4b23-908e-331e2dfdd506",
   "metadata": {
    "tags": []
   },
   "outputs": [
    {
     "name": "stdout",
     "output_type": "stream",
     "text": [
      "Train_Accuray   0.7813\n",
      "Test_Accuracy   0.7592\n",
      "Accuracy        0.7592\n",
      "Precision       0.6496\n",
      "Recall          0.7466\n",
      "F1              0.6947\n",
      "dtype: float64\n"
     ]
    }
   ],
   "source": [
    "print(get_classification_model_score(model, xtrain, xtest, ytrain, ytest, is_binary_model=False))"
   ]
  },
  {
   "cell_type": "code",
   "execution_count": 399,
   "id": "ad4c7525-8c8b-40fd-bed3-eb8b5f14ee22",
   "metadata": {
    "tags": []
   },
   "outputs": [],
   "source": [
    "Y_pred = model.predict(X_submissionF)"
   ]
  },
  {
   "cell_type": "code",
   "execution_count": 400,
   "id": "e58e30fa-9b60-4c8d-b8ab-2bdcc478b435",
   "metadata": {
    "tags": []
   },
   "outputs": [
    {
     "data": {
      "text/html": [
       "<div>\n",
       "<style scoped>\n",
       "    .dataframe tbody tr th:only-of-type {\n",
       "        vertical-align: middle;\n",
       "    }\n",
       "\n",
       "    .dataframe tbody tr th {\n",
       "        vertical-align: top;\n",
       "    }\n",
       "\n",
       "    .dataframe thead th {\n",
       "        text-align: right;\n",
       "    }\n",
       "</style>\n",
       "<table border=\"1\" class=\"dataframe\">\n",
       "  <thead>\n",
       "    <tr style=\"text-align: right;\">\n",
       "      <th></th>\n",
       "      <th>ID</th>\n",
       "      <th>흡연상태</th>\n",
       "    </tr>\n",
       "  </thead>\n",
       "  <tbody>\n",
       "    <tr>\n",
       "      <th>0</th>\n",
       "      <td>8</td>\n",
       "      <td>0</td>\n",
       "    </tr>\n",
       "    <tr>\n",
       "      <th>1</th>\n",
       "      <td>17</td>\n",
       "      <td>0</td>\n",
       "    </tr>\n",
       "  </tbody>\n",
       "</table>\n",
       "</div>"
      ],
      "text/plain": [
       "   ID  흡연상태\n",
       "0   8     0\n",
       "1  17     0"
      ]
     },
     "execution_count": 400,
     "metadata": {},
     "output_type": "execute_result"
    }
   ],
   "source": [
    "submission = pd.DataFrame({'ID': X_submission['ID'], \\\n",
    "                          '흡연상태': Y_pred})\n",
    "submission.head(2)"
   ]
  },
  {
   "cell_type": "code",
   "execution_count": 401,
   "id": "fcfe9a28-d950-4c04-8e9b-037563c16e06",
   "metadata": {
    "tags": []
   },
   "outputs": [],
   "source": [
    "submission.to_csv('./submission.csv', index=False)"
   ]
  },
  {
   "cell_type": "markdown",
   "id": "78b619ed-c4f2-4750-acd1-763a87b24734",
   "metadata": {},
   "source": [
    "#### 실제값과 비교 (F1 Score)"
   ]
  },
  {
   "cell_type": "code",
   "execution_count": 402,
   "id": "13b94099-6655-4484-8e2f-33fb24bbe238",
   "metadata": {
    "tags": []
   },
   "outputs": [
    {
     "data": {
      "text/html": [
       "<div>\n",
       "<style scoped>\n",
       "    .dataframe tbody tr th:only-of-type {\n",
       "        vertical-align: middle;\n",
       "    }\n",
       "\n",
       "    .dataframe tbody tr th {\n",
       "        vertical-align: top;\n",
       "    }\n",
       "\n",
       "    .dataframe thead th {\n",
       "        text-align: right;\n",
       "    }\n",
       "</style>\n",
       "<table border=\"1\" class=\"dataframe\">\n",
       "  <thead>\n",
       "    <tr style=\"text-align: right;\">\n",
       "      <th></th>\n",
       "      <th>ID</th>\n",
       "      <th>흡연상태</th>\n",
       "    </tr>\n",
       "  </thead>\n",
       "  <tbody>\n",
       "    <tr>\n",
       "      <th>0</th>\n",
       "      <td>8</td>\n",
       "      <td>1</td>\n",
       "    </tr>\n",
       "    <tr>\n",
       "      <th>1</th>\n",
       "      <td>17</td>\n",
       "      <td>0</td>\n",
       "    </tr>\n",
       "    <tr>\n",
       "      <th>2</th>\n",
       "      <td>20</td>\n",
       "      <td>1</td>\n",
       "    </tr>\n",
       "    <tr>\n",
       "      <th>3</th>\n",
       "      <td>24</td>\n",
       "      <td>0</td>\n",
       "    </tr>\n",
       "    <tr>\n",
       "      <th>4</th>\n",
       "      <td>25</td>\n",
       "      <td>0</td>\n",
       "    </tr>\n",
       "  </tbody>\n",
       "</table>\n",
       "</div>"
      ],
      "text/plain": [
       "   ID  흡연상태\n",
       "0   8     1\n",
       "1  17     0\n",
       "2  20     1\n",
       "3  24     0\n",
       "4  25     0"
      ]
     },
     "execution_count": 402,
     "metadata": {},
     "output_type": "execute_result"
    }
   ],
   "source": [
    "Y_submission.head()"
   ]
  },
  {
   "cell_type": "code",
   "execution_count": 404,
   "id": "a5de71b8-c1cf-479e-b8f7-11e5d9c3e249",
   "metadata": {
    "tags": []
   },
   "outputs": [
    {
     "data": {
      "text/html": [
       "<div>\n",
       "<style scoped>\n",
       "    .dataframe tbody tr th:only-of-type {\n",
       "        vertical-align: middle;\n",
       "    }\n",
       "\n",
       "    .dataframe tbody tr th {\n",
       "        vertical-align: top;\n",
       "    }\n",
       "\n",
       "    .dataframe thead th {\n",
       "        text-align: right;\n",
       "    }\n",
       "</style>\n",
       "<table border=\"1\" class=\"dataframe\">\n",
       "  <thead>\n",
       "    <tr style=\"text-align: right;\">\n",
       "      <th></th>\n",
       "      <th>ID</th>\n",
       "      <th>흡연상태</th>\n",
       "    </tr>\n",
       "  </thead>\n",
       "  <tbody>\n",
       "    <tr>\n",
       "      <th>0</th>\n",
       "      <td>8</td>\n",
       "      <td>0</td>\n",
       "    </tr>\n",
       "    <tr>\n",
       "      <th>1</th>\n",
       "      <td>17</td>\n",
       "      <td>0</td>\n",
       "    </tr>\n",
       "    <tr>\n",
       "      <th>2</th>\n",
       "      <td>20</td>\n",
       "      <td>1</td>\n",
       "    </tr>\n",
       "    <tr>\n",
       "      <th>3</th>\n",
       "      <td>24</td>\n",
       "      <td>1</td>\n",
       "    </tr>\n",
       "    <tr>\n",
       "      <th>4</th>\n",
       "      <td>25</td>\n",
       "      <td>0</td>\n",
       "    </tr>\n",
       "  </tbody>\n",
       "</table>\n",
       "</div>"
      ],
      "text/plain": [
       "   ID  흡연상태\n",
       "0   8     0\n",
       "1  17     0\n",
       "2  20     1\n",
       "3  24     1\n",
       "4  25     0"
      ]
     },
     "execution_count": 404,
     "metadata": {},
     "output_type": "execute_result"
    }
   ],
   "source": [
    "Y_pred = pd.read_csv('./submission.csv')\n",
    "Y_pred.head()"
   ]
  },
  {
   "cell_type": "code",
   "execution_count": 405,
   "id": "606fba62-e516-4252-a98e-898599f4653f",
   "metadata": {
    "tags": []
   },
   "outputs": [
    {
     "data": {
      "text/plain": [
       "0.7103724928366761"
      ]
     },
     "execution_count": 405,
     "metadata": {},
     "output_type": "execute_result"
    }
   ],
   "source": [
    "f1_score(Y_submission['흡연상태'], Y_pred['흡연상태'])"
   ]
  },
  {
   "cell_type": "markdown",
   "id": "cf3e0afe",
   "metadata": {},
   "source": [
    "### 자동차 보험가입 예측데이터"
   ]
  },
  {
   "cell_type": "markdown",
   "id": "9112b496",
   "metadata": {
    "ExecuteTime": {
     "end_time": "2022-05-01T10:24:21.737148Z",
     "start_time": "2022-05-01T10:24:21.732167Z"
    }
   },
   "source": [
    "```{attention} \n",
    "데이터 설명 : 자동차 보험 가입 예측  (종속변수 Response: 1 : 가입 , 0 :미가입)    \n",
    "x_train: https://raw.githubusercontent.com/Datamanim/datarepo/main/insurance/x_train.csv    \n",
    "y_train: https://raw.githubusercontent.com/Datamanim/datarepo/main/insurance/y_train.csv  \n",
    "x_test: https://raw.githubusercontent.com/Datamanim/datarepo/main/insurance/x_test.csv   \n",
    "x_label(평가용) : https://raw.githubusercontent.com/Datamanim/datarepo/main/insurance/y_test.csv    \n",
    "데이터 출처 :https://www.kaggle.com/anmolkumar/health-insurance-cross-sell-prediction(참고, 데이터 수정)    \n",
    "```  "
   ]
  },
  {
   "cell_type": "code",
   "execution_count": 406,
   "id": "7efc4e74",
   "metadata": {
    "ExecuteTime": {
     "end_time": "2022-05-01T10:24:42.771827Z",
     "start_time": "2022-05-01T10:24:28.957210Z"
    },
    "tags": []
   },
   "outputs": [
    {
     "data": {
      "text/html": [
       "<div>\n",
       "<style scoped>\n",
       "    .dataframe tbody tr th:only-of-type {\n",
       "        vertical-align: middle;\n",
       "    }\n",
       "\n",
       "    .dataframe tbody tr th {\n",
       "        vertical-align: top;\n",
       "    }\n",
       "\n",
       "    .dataframe thead th {\n",
       "        text-align: right;\n",
       "    }\n",
       "</style>\n",
       "<table border=\"1\" class=\"dataframe\">\n",
       "  <thead>\n",
       "    <tr style=\"text-align: right;\">\n",
       "      <th></th>\n",
       "      <th>ID</th>\n",
       "      <th>Gender</th>\n",
       "      <th>Age</th>\n",
       "      <th>Driving_License</th>\n",
       "      <th>Region_Code</th>\n",
       "      <th>Previously_Insured</th>\n",
       "      <th>Vehicle_Age</th>\n",
       "      <th>Vehicle_Damage</th>\n",
       "      <th>Annual_Premium</th>\n",
       "      <th>Policy_Sales_Channel</th>\n",
       "      <th>Vintage</th>\n",
       "      <th>id</th>\n",
       "    </tr>\n",
       "  </thead>\n",
       "  <tbody>\n",
       "    <tr>\n",
       "      <th>0</th>\n",
       "      <td>0</td>\n",
       "      <td>Female</td>\n",
       "      <td>23</td>\n",
       "      <td>1</td>\n",
       "      <td>8.0000</td>\n",
       "      <td>0</td>\n",
       "      <td>&lt; 1 Year</td>\n",
       "      <td>Yes</td>\n",
       "      <td>61,354.0000</td>\n",
       "      <td>152.0000</td>\n",
       "      <td>235</td>\n",
       "      <td>NaN</td>\n",
       "    </tr>\n",
       "    <tr>\n",
       "      <th>1</th>\n",
       "      <td>1</td>\n",
       "      <td>Male</td>\n",
       "      <td>27</td>\n",
       "      <td>1</td>\n",
       "      <td>28.0000</td>\n",
       "      <td>1</td>\n",
       "      <td>&lt; 1 Year</td>\n",
       "      <td>No</td>\n",
       "      <td>38,036.0000</td>\n",
       "      <td>152.0000</td>\n",
       "      <td>207</td>\n",
       "      <td>NaN</td>\n",
       "    </tr>\n",
       "    <tr>\n",
       "      <th>2</th>\n",
       "      <td>2</td>\n",
       "      <td>Female</td>\n",
       "      <td>23</td>\n",
       "      <td>1</td>\n",
       "      <td>45.0000</td>\n",
       "      <td>0</td>\n",
       "      <td>&lt; 1 Year</td>\n",
       "      <td>Yes</td>\n",
       "      <td>25,984.0000</td>\n",
       "      <td>152.0000</td>\n",
       "      <td>217</td>\n",
       "      <td>NaN</td>\n",
       "    </tr>\n",
       "    <tr>\n",
       "      <th>3</th>\n",
       "      <td>3</td>\n",
       "      <td>Male</td>\n",
       "      <td>22</td>\n",
       "      <td>1</td>\n",
       "      <td>46.0000</td>\n",
       "      <td>0</td>\n",
       "      <td>&lt; 1 Year</td>\n",
       "      <td>No</td>\n",
       "      <td>39,499.0000</td>\n",
       "      <td>152.0000</td>\n",
       "      <td>277</td>\n",
       "      <td>NaN</td>\n",
       "    </tr>\n",
       "    <tr>\n",
       "      <th>4</th>\n",
       "      <td>4</td>\n",
       "      <td>Male</td>\n",
       "      <td>32</td>\n",
       "      <td>1</td>\n",
       "      <td>30.0000</td>\n",
       "      <td>1</td>\n",
       "      <td>&lt; 1 Year</td>\n",
       "      <td>No</td>\n",
       "      <td>38,771.0000</td>\n",
       "      <td>152.0000</td>\n",
       "      <td>251</td>\n",
       "      <td>NaN</td>\n",
       "    </tr>\n",
       "  </tbody>\n",
       "</table>\n",
       "</div>"
      ],
      "text/plain": [
       "   ID  Gender  Age  Driving_License  Region_Code  Previously_Insured   \n",
       "0   0  Female   23                1       8.0000                   0  \\\n",
       "1   1    Male   27                1      28.0000                   1   \n",
       "2   2  Female   23                1      45.0000                   0   \n",
       "3   3    Male   22                1      46.0000                   0   \n",
       "4   4    Male   32                1      30.0000                   1   \n",
       "\n",
       "  Vehicle_Age Vehicle_Damage  Annual_Premium  Policy_Sales_Channel  Vintage   \n",
       "0    < 1 Year            Yes     61,354.0000              152.0000      235  \\\n",
       "1    < 1 Year             No     38,036.0000              152.0000      207   \n",
       "2    < 1 Year            Yes     25,984.0000              152.0000      217   \n",
       "3    < 1 Year             No     39,499.0000              152.0000      277   \n",
       "4    < 1 Year             No     38,771.0000              152.0000      251   \n",
       "\n",
       "   id  \n",
       "0 NaN  \n",
       "1 NaN  \n",
       "2 NaN  \n",
       "3 NaN  \n",
       "4 NaN  "
      ]
     },
     "metadata": {},
     "output_type": "display_data"
    },
    {
     "data": {
      "text/html": [
       "<div>\n",
       "<style scoped>\n",
       "    .dataframe tbody tr th:only-of-type {\n",
       "        vertical-align: middle;\n",
       "    }\n",
       "\n",
       "    .dataframe tbody tr th {\n",
       "        vertical-align: top;\n",
       "    }\n",
       "\n",
       "    .dataframe thead th {\n",
       "        text-align: right;\n",
       "    }\n",
       "</style>\n",
       "<table border=\"1\" class=\"dataframe\">\n",
       "  <thead>\n",
       "    <tr style=\"text-align: right;\">\n",
       "      <th></th>\n",
       "      <th>ID</th>\n",
       "      <th>Response</th>\n",
       "    </tr>\n",
       "  </thead>\n",
       "  <tbody>\n",
       "    <tr>\n",
       "      <th>0</th>\n",
       "      <td>0</td>\n",
       "      <td>0</td>\n",
       "    </tr>\n",
       "    <tr>\n",
       "      <th>1</th>\n",
       "      <td>1</td>\n",
       "      <td>0</td>\n",
       "    </tr>\n",
       "    <tr>\n",
       "      <th>2</th>\n",
       "      <td>2</td>\n",
       "      <td>1</td>\n",
       "    </tr>\n",
       "    <tr>\n",
       "      <th>3</th>\n",
       "      <td>3</td>\n",
       "      <td>0</td>\n",
       "    </tr>\n",
       "    <tr>\n",
       "      <th>4</th>\n",
       "      <td>4</td>\n",
       "      <td>0</td>\n",
       "    </tr>\n",
       "  </tbody>\n",
       "</table>\n",
       "</div>"
      ],
      "text/plain": [
       "   ID  Response\n",
       "0   0         0\n",
       "1   1         0\n",
       "2   2         1\n",
       "3   3         0\n",
       "4   4         0"
      ]
     },
     "metadata": {},
     "output_type": "display_data"
    }
   ],
   "source": [
    "import pandas as pd\n",
    "#데이터 로드\n",
    "x_train = pd.read_csv(\"https://raw.githubusercontent.com/Datamanim/datarepo/main/insurance/x_train.csv\")\n",
    "y_train = pd.read_csv(\"https://raw.githubusercontent.com/Datamanim/datarepo/main/insurance/y_train.csv\")\n",
    "x_test= pd.read_csv(\"https://raw.githubusercontent.com/Datamanim/datarepo/main/insurance/x_test.csv\")\n",
    "y_test = pd.read_csv(\"https://raw.githubusercontent.com/Datamanim/datarepo/main/insurance/y_test.csv\")\n",
    "\n",
    "display(x_train.head())\n",
    "display(y_train.head())"
   ]
  },
  {
   "cell_type": "markdown",
   "id": "44637240-123a-404a-9415-4ffbae0c750c",
   "metadata": {},
   "source": [
    "#### EDA"
   ]
  },
  {
   "cell_type": "code",
   "execution_count": 408,
   "id": "c5b7552a-1248-46e6-bae3-d393f48a2b13",
   "metadata": {
    "tags": []
   },
   "outputs": [],
   "source": [
    "X = x_train\n",
    "Y = y_train\n",
    "X_submission = x_test\n",
    "Y_submission = y_test"
   ]
  },
  {
   "cell_type": "code",
   "execution_count": 414,
   "id": "eb2fab3e-5f92-45e7-80f0-9ce70c9a2663",
   "metadata": {
    "tags": []
   },
   "outputs": [
    {
     "name": "stdout",
     "output_type": "stream",
     "text": [
      "<class 'pandas.core.frame.DataFrame'>\n",
      "RangeIndex: 304887 entries, 0 to 304886\n",
      "Data columns (total 11 columns):\n",
      " #   Column                Non-Null Count   Dtype  \n",
      "---  ------                --------------   -----  \n",
      " 0   ID                    304887 non-null  int64  \n",
      " 1   Gender                304887 non-null  object \n",
      " 2   Age                   304887 non-null  int64  \n",
      " 3   Driving_License       304887 non-null  int64  \n",
      " 4   Region_Code           304887 non-null  float64\n",
      " 5   Previously_Insured    304887 non-null  int64  \n",
      " 6   Vehicle_Age           304887 non-null  object \n",
      " 7   Vehicle_Damage        304887 non-null  object \n",
      " 8   Annual_Premium        304887 non-null  float64\n",
      " 9   Policy_Sales_Channel  304887 non-null  float64\n",
      " 10  Vintage               304887 non-null  int64  \n",
      "dtypes: float64(3), int64(5), object(3)\n",
      "memory usage: 25.6+ MB\n"
     ]
    }
   ],
   "source": [
    "X.info()"
   ]
  },
  {
   "cell_type": "code",
   "execution_count": 415,
   "id": "50b39ba9-4aa6-4c7d-8f29-1df598a82236",
   "metadata": {
    "tags": []
   },
   "outputs": [
    {
     "data": {
      "text/plain": [
       "ID                      0\n",
       "Gender                  0\n",
       "Age                     0\n",
       "Driving_License         0\n",
       "Region_Code             0\n",
       "Previously_Insured      0\n",
       "Vehicle_Age             0\n",
       "Vehicle_Damage          0\n",
       "Annual_Premium          0\n",
       "Policy_Sales_Channel    0\n",
       "Vintage                 0\n",
       "dtype: int64"
      ]
     },
     "execution_count": 415,
     "metadata": {},
     "output_type": "execute_result"
    }
   ],
   "source": [
    "X.isna().sum()"
   ]
  },
  {
   "cell_type": "code",
   "execution_count": 416,
   "id": "d6a79878-76e9-4989-9c80-14b65e75b3af",
   "metadata": {
    "tags": []
   },
   "outputs": [
    {
     "name": "stdout",
     "output_type": "stream",
     "text": [
      "<class 'pandas.core.frame.DataFrame'>\n",
      "RangeIndex: 76222 entries, 0 to 76221\n",
      "Data columns (total 11 columns):\n",
      " #   Column                Non-Null Count  Dtype  \n",
      "---  ------                --------------  -----  \n",
      " 0   ID                    76222 non-null  int64  \n",
      " 1   Gender                76222 non-null  object \n",
      " 2   Age                   76222 non-null  int64  \n",
      " 3   Driving_License       76222 non-null  int64  \n",
      " 4   Region_Code           76222 non-null  float64\n",
      " 5   Previously_Insured    76222 non-null  int64  \n",
      " 6   Vehicle_Age           76222 non-null  object \n",
      " 7   Vehicle_Damage        76222 non-null  object \n",
      " 8   Annual_Premium        76222 non-null  float64\n",
      " 9   Policy_Sales_Channel  76222 non-null  float64\n",
      " 10  Vintage               76222 non-null  int64  \n",
      "dtypes: float64(3), int64(5), object(3)\n",
      "memory usage: 6.4+ MB\n"
     ]
    }
   ],
   "source": [
    "X_submission.info()"
   ]
  },
  {
   "cell_type": "code",
   "execution_count": 413,
   "id": "f1b5e3dc-5206-4d3b-9f52-fb4ac88ced81",
   "metadata": {
    "tags": []
   },
   "outputs": [],
   "source": [
    "X.drop(columns=['id'], inplace=True)\n",
    "X_submission.drop(columns=['id'], inplace=True)"
   ]
  },
  {
   "cell_type": "code",
   "execution_count": 417,
   "id": "18b383b3-78b5-4ce9-96e2-7907973d5e55",
   "metadata": {
    "tags": []
   },
   "outputs": [
    {
     "name": "stdout",
     "output_type": "stream",
     "text": [
      "<class 'pandas.core.frame.DataFrame'>\n",
      "RangeIndex: 304887 entries, 0 to 304886\n",
      "Data columns (total 2 columns):\n",
      " #   Column    Non-Null Count   Dtype\n",
      "---  ------    --------------   -----\n",
      " 0   ID        304887 non-null  int64\n",
      " 1   Response  304887 non-null  int64\n",
      "dtypes: int64(2)\n",
      "memory usage: 4.7 MB\n"
     ]
    }
   ],
   "source": [
    "Y.info()"
   ]
  },
  {
   "cell_type": "code",
   "execution_count": 418,
   "id": "5e48fe8b-89f5-4171-9e04-05487f51b5e5",
   "metadata": {
    "tags": []
   },
   "outputs": [],
   "source": [
    "dfXY = pd.merge(X, Y, on='ID')"
   ]
  },
  {
   "cell_type": "code",
   "execution_count": 422,
   "id": "a9e25bdf-a634-4e8e-945b-c223b5c50b50",
   "metadata": {
    "tags": []
   },
   "outputs": [
    {
     "data": {
      "text/plain": [
       "ID                     -0.0014\n",
       "Age                     0.1103\n",
       "Driving_License         0.0099\n",
       "Region_Code             0.0101\n",
       "Previously_Insured     -0.3413\n",
       "Annual_Premium          0.0224\n",
       "Policy_Sales_Channel   -0.1398\n",
       "Vintage                 0.0003\n",
       "Response                1.0000\n",
       "Name: Response, dtype: float64"
      ]
     },
     "execution_count": 422,
     "metadata": {},
     "output_type": "execute_result"
    }
   ],
   "source": [
    "dfXY.corr(numeric_only=True)['Response']"
   ]
  },
  {
   "cell_type": "code",
   "execution_count": 434,
   "id": "556b066b-4ed3-4fc0-8c19-7642c517bae1",
   "metadata": {
    "tags": []
   },
   "outputs": [
    {
     "data": {
      "text/html": [
       "<div>\n",
       "<style scoped>\n",
       "    .dataframe tbody tr th:only-of-type {\n",
       "        vertical-align: middle;\n",
       "    }\n",
       "\n",
       "    .dataframe tbody tr th {\n",
       "        vertical-align: top;\n",
       "    }\n",
       "\n",
       "    .dataframe thead th {\n",
       "        text-align: right;\n",
       "    }\n",
       "</style>\n",
       "<table border=\"1\" class=\"dataframe\">\n",
       "  <thead>\n",
       "    <tr style=\"text-align: right;\">\n",
       "      <th></th>\n",
       "      <th>df</th>\n",
       "      <th>sum_sq</th>\n",
       "      <th>mean_sq</th>\n",
       "      <th>F</th>\n",
       "      <th>PR(&gt;F)</th>\n",
       "    </tr>\n",
       "  </thead>\n",
       "  <tbody>\n",
       "    <tr>\n",
       "      <th>C(Gender)</th>\n",
       "      <td>1.0000</td>\n",
       "      <td>88.7203</td>\n",
       "      <td>88.7203</td>\n",
       "      <td>827.2180</td>\n",
       "      <td>0.0000</td>\n",
       "    </tr>\n",
       "    <tr>\n",
       "      <th>Residual</th>\n",
       "      <td>304,885.0000</td>\n",
       "      <td>32,699.3291</td>\n",
       "      <td>0.1073</td>\n",
       "      <td>NaN</td>\n",
       "      <td>NaN</td>\n",
       "    </tr>\n",
       "  </tbody>\n",
       "</table>\n",
       "</div>"
      ],
      "text/plain": [
       "                    df      sum_sq  mean_sq        F  PR(>F)\n",
       "C(Gender)       1.0000     88.7203  88.7203 827.2180  0.0000\n",
       "Residual  304,885.0000 32,699.3291   0.1073      NaN     NaN"
      ]
     },
     "execution_count": 434,
     "metadata": {},
     "output_type": "execute_result"
    }
   ],
   "source": [
    "import statsmodels.api as sm\n",
    "from statsmodels.formula.api import ols\n",
    "\n",
    "model = ols(formula='Response ~ C(Gender)', data=dfXY).fit()\n",
    "result = sm.stats.anova_lm(model, typ=1)\n",
    "result"
   ]
  },
  {
   "cell_type": "code",
   "execution_count": 441,
   "id": "b15ee36c-3122-49ef-ac14-81b292b164f5",
   "metadata": {
    "tags": []
   },
   "outputs": [
    {
     "name": "stdout",
     "output_type": "stream",
     "text": [
      "Multiple Comparison of Means - Tukey HSD, FWER=0.05\n",
      "=================================================\n",
      "group1 group2 meandiff p-adj lower  upper  reject\n",
      "-------------------------------------------------\n",
      "Female   Male   0.0342   0.0 0.0319 0.0366   True\n",
      "-------------------------------------------------\n"
     ]
    }
   ],
   "source": [
    "from statsmodels.stats.multicomp import pairwise_tukeyhsd\n",
    "\n",
    "r = pairwise_tukeyhsd(dfXY['Response'], dfXY['Gender'], alpha=0.05)\n",
    "print(r)"
   ]
  },
  {
   "cell_type": "code",
   "execution_count": 443,
   "id": "7effe319-a8f2-4bc1-a69c-c75a082d9ec5",
   "metadata": {
    "tags": []
   },
   "outputs": [
    {
     "data": {
      "image/png": "[encoded data removed]",
      "text/plain": [
       "<Figure size 1000x600 with 1 Axes>"
      ]
     },
     "metadata": {},
     "output_type": "display_data"
    }
   ],
   "source": [
    "import matplotlib.pyplot as plt\n",
    "\n",
    "r.plot_simultaneous()\n",
    "plt.show()"
   ]
  },
  {
   "cell_type": "markdown",
   "id": "932a9fd4-171e-47e1-a006-1c2a3afb9f4a",
   "metadata": {},
   "source": [
    "#### 데이터 전처리"
   ]
  },
  {
   "cell_type": "code",
   "execution_count": 444,
   "id": "592b0516-07a3-4834-9227-44898fb1d90d",
   "metadata": {
    "tags": []
   },
   "outputs": [],
   "source": [
    "dfX = pd.concat([X, X_submission], axis=0, ignore_index=True)"
   ]
  },
  {
   "cell_type": "code",
   "execution_count": 445,
   "id": "fe674ba7-8bde-4f35-9914-353743467405",
   "metadata": {
    "tags": []
   },
   "outputs": [
    {
     "data": {
      "text/html": [
       "<div>\n",
       "<style scoped>\n",
       "    .dataframe tbody tr th:only-of-type {\n",
       "        vertical-align: middle;\n",
       "    }\n",
       "\n",
       "    .dataframe tbody tr th {\n",
       "        vertical-align: top;\n",
       "    }\n",
       "\n",
       "    .dataframe thead th {\n",
       "        text-align: right;\n",
       "    }\n",
       "</style>\n",
       "<table border=\"1\" class=\"dataframe\">\n",
       "  <thead>\n",
       "    <tr style=\"text-align: right;\">\n",
       "      <th></th>\n",
       "      <th>ID</th>\n",
       "      <th>Gender</th>\n",
       "      <th>Age</th>\n",
       "      <th>Driving_License</th>\n",
       "      <th>Region_Code</th>\n",
       "      <th>Previously_Insured</th>\n",
       "      <th>Vehicle_Age</th>\n",
       "      <th>Vehicle_Damage</th>\n",
       "      <th>Annual_Premium</th>\n",
       "      <th>Policy_Sales_Channel</th>\n",
       "      <th>Vintage</th>\n",
       "    </tr>\n",
       "  </thead>\n",
       "  <tbody>\n",
       "    <tr>\n",
       "      <th>0</th>\n",
       "      <td>0</td>\n",
       "      <td>Female</td>\n",
       "      <td>23</td>\n",
       "      <td>1</td>\n",
       "      <td>8.0000</td>\n",
       "      <td>0</td>\n",
       "      <td>&lt; 1 Year</td>\n",
       "      <td>Yes</td>\n",
       "      <td>61,354.0000</td>\n",
       "      <td>152.0000</td>\n",
       "      <td>235</td>\n",
       "    </tr>\n",
       "    <tr>\n",
       "      <th>1</th>\n",
       "      <td>1</td>\n",
       "      <td>Male</td>\n",
       "      <td>27</td>\n",
       "      <td>1</td>\n",
       "      <td>28.0000</td>\n",
       "      <td>1</td>\n",
       "      <td>&lt; 1 Year</td>\n",
       "      <td>No</td>\n",
       "      <td>38,036.0000</td>\n",
       "      <td>152.0000</td>\n",
       "      <td>207</td>\n",
       "    </tr>\n",
       "  </tbody>\n",
       "</table>\n",
       "</div>"
      ],
      "text/plain": [
       "   ID  Gender  Age  Driving_License  Region_Code  Previously_Insured   \n",
       "0   0  Female   23                1       8.0000                   0  \\\n",
       "1   1    Male   27                1      28.0000                   1   \n",
       "\n",
       "  Vehicle_Age Vehicle_Damage  Annual_Premium  Policy_Sales_Channel  Vintage  \n",
       "0    < 1 Year            Yes     61,354.0000              152.0000      235  \n",
       "1    < 1 Year             No     38,036.0000              152.0000      207  "
      ]
     },
     "execution_count": 445,
     "metadata": {},
     "output_type": "execute_result"
    }
   ],
   "source": [
    "dfX.head(2)"
   ]
  },
  {
   "cell_type": "code",
   "execution_count": 446,
   "id": "16d8e075-f5e2-4a56-98a0-f3f8d5a11aa0",
   "metadata": {
    "tags": []
   },
   "outputs": [
    {
     "data": {
      "text/plain": [
       "ID                      0\n",
       "Gender                  0\n",
       "Age                     0\n",
       "Driving_License         0\n",
       "Region_Code             0\n",
       "Previously_Insured      0\n",
       "Vehicle_Age             0\n",
       "Vehicle_Damage          0\n",
       "Annual_Premium          0\n",
       "Policy_Sales_Channel    0\n",
       "Vintage                 0\n",
       "dtype: int64"
      ]
     },
     "execution_count": 446,
     "metadata": {},
     "output_type": "execute_result"
    }
   ],
   "source": [
    "dfX.isna().sum()"
   ]
  },
  {
   "cell_type": "code",
   "execution_count": 464,
   "id": "dbe4d0fe-2726-4319-9002-70df4fac51b0",
   "metadata": {
    "tags": []
   },
   "outputs": [
    {
     "name": "stdout",
     "output_type": "stream",
     "text": [
      "<class 'pandas.core.frame.DataFrame'>\n",
      "RangeIndex: 381109 entries, 0 to 381108\n",
      "Data columns (total 11 columns):\n",
      " #   Column                Non-Null Count   Dtype   \n",
      "---  ------                --------------   -----   \n",
      " 0   ID                    381109 non-null  int64   \n",
      " 1   Gender                381109 non-null  int8    \n",
      " 2   Age                   381109 non-null  int64   \n",
      " 3   Driving_License       381109 non-null  int64   \n",
      " 4   Region_Code           381109 non-null  float64 \n",
      " 5   Previously_Insured    381109 non-null  int64   \n",
      " 6   Vehicle_Age           381109 non-null  category\n",
      " 7   Vehicle_Damage        381109 non-null  int64   \n",
      " 8   Annual_Premium        381109 non-null  float64 \n",
      " 9   Policy_Sales_Channel  381109 non-null  float64 \n",
      " 10  Vintage               381109 non-null  int64   \n",
      "dtypes: category(1), float64(3), int64(6), int8(1)\n",
      "memory usage: 26.9 MB\n"
     ]
    }
   ],
   "source": [
    "dfX.info()"
   ]
  },
  {
   "cell_type": "code",
   "execution_count": 449,
   "id": "7c708c2f-67d8-4e4c-912f-e3f209ffb3b7",
   "metadata": {
    "tags": []
   },
   "outputs": [
    {
     "data": {
      "text/plain": [
       "Gender\n",
       "Male      206033\n",
       "Female    175076\n",
       "Name: count, dtype: int64"
      ]
     },
     "execution_count": 449,
     "metadata": {},
     "output_type": "execute_result"
    }
   ],
   "source": [
    "dfX['Gender'].value_counts()"
   ]
  },
  {
   "cell_type": "code",
   "execution_count": 452,
   "id": "2ee5d635-4929-4f5f-b74f-9cde0b1bad8e",
   "metadata": {
    "tags": []
   },
   "outputs": [],
   "source": [
    "dfX['Gender'] = dfX['Gender'].astype('category').cat.codes"
   ]
  },
  {
   "cell_type": "code",
   "execution_count": 453,
   "id": "f7b22440-ef86-4255-932e-a644503e73cd",
   "metadata": {
    "tags": []
   },
   "outputs": [
    {
     "data": {
      "text/plain": [
       "Vehicle_Age\n",
       "1-2 Year     200282\n",
       "< 1 Year     164885\n",
       "> 2 Years     15942\n",
       "Name: count, dtype: int64"
      ]
     },
     "execution_count": 453,
     "metadata": {},
     "output_type": "execute_result"
    }
   ],
   "source": [
    "dfX['Vehicle_Age'].value_counts()"
   ]
  },
  {
   "cell_type": "code",
   "execution_count": 459,
   "id": "871b1739-24ee-45a6-bd7b-82b72f628d83",
   "metadata": {
    "tags": []
   },
   "outputs": [],
   "source": [
    "dfX['Vehicle_Age'] = pd.Categorical(dfX['Vehicle_Age'], categories=['< 1 Year', '1-2 Year', '> 2 Years'], ordered=True)"
   ]
  },
  {
   "cell_type": "code",
   "execution_count": 475,
   "id": "9aea96d0-413d-488b-8f48-31910fbc7910",
   "metadata": {
    "tags": []
   },
   "outputs": [],
   "source": [
    "dfX['Vehicle_Age'] = dfX['Vehicle_Age'].cat.codes"
   ]
  },
  {
   "cell_type": "code",
   "execution_count": 461,
   "id": "ad90e26c-ff52-477e-aa78-1315d9665a08",
   "metadata": {
    "tags": []
   },
   "outputs": [
    {
     "data": {
      "text/plain": [
       "Vehicle_Damage\n",
       "Yes    192072\n",
       "No     189037\n",
       "Name: count, dtype: int64"
      ]
     },
     "execution_count": 461,
     "metadata": {},
     "output_type": "execute_result"
    }
   ],
   "source": [
    "dfX['Vehicle_Damage'].value_counts()"
   ]
  },
  {
   "cell_type": "code",
   "execution_count": 463,
   "id": "fdaccfcf-e768-4cd0-8367-db830c260dd5",
   "metadata": {
    "tags": []
   },
   "outputs": [],
   "source": [
    "dfX['Vehicle_Damage'] = dfX['Vehicle_Damage'].replace({'No':0, 'Yes':1})"
   ]
  },
  {
   "cell_type": "markdown",
   "id": "2c307907-ba6a-4647-8c87-87bef5a2cb77",
   "metadata": {},
   "source": [
    "#### Feature Engineering"
   ]
  },
  {
   "cell_type": "code",
   "execution_count": 465,
   "id": "7837619b-bbaa-4496-b6c3-7d5c05082e03",
   "metadata": {
    "tags": []
   },
   "outputs": [
    {
     "data": {
      "text/plain": [
       "Index(['ID', 'Gender', 'Age', 'Driving_License', 'Region_Code',\n",
       "       'Previously_Insured', 'Vehicle_Age', 'Vehicle_Damage', 'Annual_Premium',\n",
       "       'Policy_Sales_Channel', 'Vintage'],\n",
       "      dtype='object')"
      ]
     },
     "execution_count": 465,
     "metadata": {},
     "output_type": "execute_result"
    }
   ],
   "source": [
    "dfX.columns"
   ]
  },
  {
   "cell_type": "code",
   "execution_count": 466,
   "id": "80b079e6-fa01-4b3a-a409-a029b47e78db",
   "metadata": {
    "tags": []
   },
   "outputs": [],
   "source": [
    "x_features = ['Gender', 'Age', 'Driving_License', 'Region_Code','Previously_Insured', 'Vehicle_Age', \\\n",
    "              'Vehicle_Damage', 'Annual_Premium','Policy_Sales_Channel', 'Vintage']"
   ]
  },
  {
   "cell_type": "code",
   "execution_count": 467,
   "id": "2554136e-d12a-42bf-ad83-b5af5c9090fa",
   "metadata": {
    "tags": []
   },
   "outputs": [
    {
     "data": {
      "text/plain": [
       "Index(['ID', 'Response'], dtype='object')"
      ]
     },
     "execution_count": 467,
     "metadata": {},
     "output_type": "execute_result"
    }
   ],
   "source": [
    "Y.columns"
   ]
  },
  {
   "cell_type": "code",
   "execution_count": 468,
   "id": "a342c85e-dcc0-4233-bbf3-d26834d11857",
   "metadata": {
    "tags": []
   },
   "outputs": [],
   "source": [
    "y_feature = 'Response'"
   ]
  },
  {
   "cell_type": "markdown",
   "id": "ce081511-0b18-407f-a0df-34477836fad6",
   "metadata": {},
   "source": [
    "#### 모델링"
   ]
  },
  {
   "cell_type": "code",
   "execution_count": 476,
   "id": "ea76931d-161e-4e53-b2a9-ac1dda271fcd",
   "metadata": {
    "tags": []
   },
   "outputs": [],
   "source": [
    "XF, X_submissionF, YF = get_classification_model_data(dfX, Y, len(X), x_features, y_feature, is_normalized=False)"
   ]
  },
  {
   "cell_type": "code",
   "execution_count": 477,
   "id": "0790b37a-8377-45a2-b7af-8b1a9a3875d3",
   "metadata": {
    "tags": []
   },
   "outputs": [],
   "source": [
    "xtrain, xtest, ytrain, ytest = train_test_split(XF, YF, test_size=0.3, random_state=1234, stratify=YF)"
   ]
  },
  {
   "cell_type": "code",
   "execution_count": 496,
   "id": "85582428-20c5-4cbf-95ee-e95d686e0fb0",
   "metadata": {
    "tags": []
   },
   "outputs": [],
   "source": [
    "result = compare_classification_model(xtrain, xtest, ytrain, ytest, is_binary_model=True)"
   ]
  },
  {
   "cell_type": "code",
   "execution_count": 498,
   "id": "91091c3c-bb20-4d0e-a301-158b0438bb67",
   "metadata": {
    "tags": []
   },
   "outputs": [
    {
     "data": {
      "text/html": [
       "<div>\n",
       "<style scoped>\n",
       "    .dataframe tbody tr th:only-of-type {\n",
       "        vertical-align: middle;\n",
       "    }\n",
       "\n",
       "    .dataframe tbody tr th {\n",
       "        vertical-align: top;\n",
       "    }\n",
       "\n",
       "    .dataframe thead th {\n",
       "        text-align: right;\n",
       "    }\n",
       "</style>\n",
       "<table border=\"1\" class=\"dataframe\">\n",
       "  <thead>\n",
       "    <tr style=\"text-align: right;\">\n",
       "      <th></th>\n",
       "      <th>Train_Accuracy</th>\n",
       "      <th>Test_Accuracy</th>\n",
       "      <th>DIFF</th>\n",
       "      <th>ROC_AUC</th>\n",
       "    </tr>\n",
       "  </thead>\n",
       "  <tbody>\n",
       "    <tr>\n",
       "      <th>DecisionTreeClassifier</th>\n",
       "      <td>0.9999</td>\n",
       "      <td>0.8225</td>\n",
       "      <td>0.1774</td>\n",
       "      <td>0.6020</td>\n",
       "    </tr>\n",
       "    <tr>\n",
       "      <th>RandomForestClassifier</th>\n",
       "      <td>0.9999</td>\n",
       "      <td>0.8674</td>\n",
       "      <td>0.1325</td>\n",
       "      <td>0.8340</td>\n",
       "    </tr>\n",
       "    <tr>\n",
       "      <th>KNeighborsClassifier</th>\n",
       "      <td>0.8851</td>\n",
       "      <td>0.8592</td>\n",
       "      <td>0.0260</td>\n",
       "      <td>0.5962</td>\n",
       "    </tr>\n",
       "    <tr>\n",
       "      <th>XGBClassifier</th>\n",
       "      <td>0.8823</td>\n",
       "      <td>0.8767</td>\n",
       "      <td>0.0056</td>\n",
       "      <td>0.8560</td>\n",
       "    </tr>\n",
       "    <tr>\n",
       "      <th>RandomForestClassifier_9</th>\n",
       "      <td>0.8774</td>\n",
       "      <td>0.8774</td>\n",
       "      <td>0.0000</td>\n",
       "      <td>0.8547</td>\n",
       "    </tr>\n",
       "    <tr>\n",
       "      <th>LogisticRegression</th>\n",
       "      <td>0.8774</td>\n",
       "      <td>0.8774</td>\n",
       "      <td>0.0000</td>\n",
       "      <td>0.5981</td>\n",
       "    </tr>\n",
       "    <tr>\n",
       "      <th>RandomForestClassifier_1</th>\n",
       "      <td>0.8774</td>\n",
       "      <td>0.8774</td>\n",
       "      <td>0.0000</td>\n",
       "      <td>0.8166</td>\n",
       "    </tr>\n",
       "    <tr>\n",
       "      <th>RandomForestClassifier_2</th>\n",
       "      <td>0.8774</td>\n",
       "      <td>0.8774</td>\n",
       "      <td>0.0000</td>\n",
       "      <td>0.8291</td>\n",
       "    </tr>\n",
       "    <tr>\n",
       "      <th>RandomForestClassifier_3</th>\n",
       "      <td>0.8774</td>\n",
       "      <td>0.8774</td>\n",
       "      <td>0.0000</td>\n",
       "      <td>0.8395</td>\n",
       "    </tr>\n",
       "    <tr>\n",
       "      <th>RandomForestClassifier_4</th>\n",
       "      <td>0.8774</td>\n",
       "      <td>0.8774</td>\n",
       "      <td>0.0000</td>\n",
       "      <td>0.8447</td>\n",
       "    </tr>\n",
       "    <tr>\n",
       "      <th>RandomForestClassifier_5</th>\n",
       "      <td>0.8774</td>\n",
       "      <td>0.8774</td>\n",
       "      <td>0.0000</td>\n",
       "      <td>0.8497</td>\n",
       "    </tr>\n",
       "    <tr>\n",
       "      <th>RandomForestClassifier_6</th>\n",
       "      <td>0.8774</td>\n",
       "      <td>0.8774</td>\n",
       "      <td>0.0000</td>\n",
       "      <td>0.8515</td>\n",
       "    </tr>\n",
       "    <tr>\n",
       "      <th>RandomForestClassifier_7</th>\n",
       "      <td>0.8774</td>\n",
       "      <td>0.8774</td>\n",
       "      <td>0.0000</td>\n",
       "      <td>0.8530</td>\n",
       "    </tr>\n",
       "    <tr>\n",
       "      <th>RandomForestClassifier_8</th>\n",
       "      <td>0.8774</td>\n",
       "      <td>0.8774</td>\n",
       "      <td>0.0000</td>\n",
       "      <td>0.8541</td>\n",
       "    </tr>\n",
       "  </tbody>\n",
       "</table>\n",
       "</div>"
      ],
      "text/plain": [
       "                          Train_Accuracy  Test_Accuracy   DIFF  ROC_AUC\n",
       "DecisionTreeClassifier            0.9999         0.8225 0.1774   0.6020\n",
       "RandomForestClassifier            0.9999         0.8674 0.1325   0.8340\n",
       "KNeighborsClassifier              0.8851         0.8592 0.0260   0.5962\n",
       "XGBClassifier                     0.8823         0.8767 0.0056   0.8560\n",
       "RandomForestClassifier_9          0.8774         0.8774 0.0000   0.8547\n",
       "LogisticRegression                0.8774         0.8774 0.0000   0.5981\n",
       "RandomForestClassifier_1          0.8774         0.8774 0.0000   0.8166\n",
       "RandomForestClassifier_2          0.8774         0.8774 0.0000   0.8291\n",
       "RandomForestClassifier_3          0.8774         0.8774 0.0000   0.8395\n",
       "RandomForestClassifier_4          0.8774         0.8774 0.0000   0.8447\n",
       "RandomForestClassifier_5          0.8774         0.8774 0.0000   0.8497\n",
       "RandomForestClassifier_6          0.8774         0.8774 0.0000   0.8515\n",
       "RandomForestClassifier_7          0.8774         0.8774 0.0000   0.8530\n",
       "RandomForestClassifier_8          0.8774         0.8774 0.0000   0.8541"
      ]
     },
     "execution_count": 498,
     "metadata": {},
     "output_type": "execute_result"
    }
   ],
   "source": [
    "result.sort_values(['Train_Accuracy', 'DIFF', 'Test_Accuracy'], ascending=[False, True, False])"
   ]
  },
  {
   "cell_type": "code",
   "execution_count": 500,
   "id": "df4ddae6-2923-4ab5-a9a2-1f32894794f0",
   "metadata": {
    "tags": []
   },
   "outputs": [],
   "source": [
    "model = RandomForestClassifier(random_state=1234).fit(xtrain, ytrain)"
   ]
  },
  {
   "cell_type": "code",
   "execution_count": 501,
   "id": "39a8b44c-f03e-49b5-8544-9ff26162b852",
   "metadata": {
    "tags": []
   },
   "outputs": [
    {
     "name": "stdout",
     "output_type": "stream",
     "text": [
      "Train_Accuracy   0.9999\n",
      "Test_Accuracy    0.8674\n",
      "ROC_AUC          0.8340\n",
      "dtype: float64\n"
     ]
    }
   ],
   "source": [
    "print(get_classification_model_score(model, xtrain, xtest, ytrain, ytest, is_binary_model=True))"
   ]
  },
  {
   "cell_type": "markdown",
   "id": "268eb198-33a9-4061-8f2b-5a1bf5c339da",
   "metadata": {
    "tags": []
   },
   "source": [
    "Y_pred = model.predict(X_submissionF)"
   ]
  },
  {
   "cell_type": "code",
   "execution_count": 531,
   "id": "9116c920-d74d-46c3-bc77-bf9bbae330dc",
   "metadata": {
    "tags": []
   },
   "outputs": [
    {
     "data": {
      "text/html": [
       "<div>\n",
       "<style scoped>\n",
       "    .dataframe tbody tr th:only-of-type {\n",
       "        vertical-align: middle;\n",
       "    }\n",
       "\n",
       "    .dataframe tbody tr th {\n",
       "        vertical-align: top;\n",
       "    }\n",
       "\n",
       "    .dataframe thead th {\n",
       "        text-align: right;\n",
       "    }\n",
       "</style>\n",
       "<table border=\"1\" class=\"dataframe\">\n",
       "  <thead>\n",
       "    <tr style=\"text-align: right;\">\n",
       "      <th></th>\n",
       "      <th>Importance</th>\n",
       "    </tr>\n",
       "  </thead>\n",
       "  <tbody>\n",
       "    <tr>\n",
       "      <th>Gender</th>\n",
       "      <td>0.0138</td>\n",
       "    </tr>\n",
       "    <tr>\n",
       "      <th>Age</th>\n",
       "      <td>0.1423</td>\n",
       "    </tr>\n",
       "    <tr>\n",
       "      <th>Driving_License</th>\n",
       "      <td>0.0005</td>\n",
       "    </tr>\n",
       "    <tr>\n",
       "      <th>Region_Code</th>\n",
       "      <td>0.1130</td>\n",
       "    </tr>\n",
       "    <tr>\n",
       "      <th>Previously_Insured</th>\n",
       "      <td>0.0560</td>\n",
       "    </tr>\n",
       "    <tr>\n",
       "      <th>Vehicle_Age</th>\n",
       "      <td>0.0223</td>\n",
       "    </tr>\n",
       "    <tr>\n",
       "      <th>Vehicle_Damage</th>\n",
       "      <td>0.0693</td>\n",
       "    </tr>\n",
       "    <tr>\n",
       "      <th>Annual_Premium</th>\n",
       "      <td>0.2441</td>\n",
       "    </tr>\n",
       "    <tr>\n",
       "      <th>Policy_Sales_Channel</th>\n",
       "      <td>0.0676</td>\n",
       "    </tr>\n",
       "    <tr>\n",
       "      <th>Vintage</th>\n",
       "      <td>0.2712</td>\n",
       "    </tr>\n",
       "  </tbody>\n",
       "</table>\n",
       "</div>"
      ],
      "text/plain": [
       "                      Importance\n",
       "Gender                    0.0138\n",
       "Age                       0.1423\n",
       "Driving_License           0.0005\n",
       "Region_Code               0.1130\n",
       "Previously_Insured        0.0560\n",
       "Vehicle_Age               0.0223\n",
       "Vehicle_Damage            0.0693\n",
       "Annual_Premium            0.2441\n",
       "Policy_Sales_Channel      0.0676\n",
       "Vintage                   0.2712"
      ]
     },
     "execution_count": 531,
     "metadata": {},
     "output_type": "execute_result"
    }
   ],
   "source": [
    "pd.DataFrame(model.feature_importances_, index=model.feature_names_in_, columns=['Importance'])"
   ]
  },
  {
   "cell_type": "code",
   "execution_count": 505,
   "id": "401fb3b9-ac33-4846-8e4e-b7a5c1aeb304",
   "metadata": {
    "tags": []
   },
   "outputs": [
    {
     "data": {
      "text/html": [
       "<div>\n",
       "<style scoped>\n",
       "    .dataframe tbody tr th:only-of-type {\n",
       "        vertical-align: middle;\n",
       "    }\n",
       "\n",
       "    .dataframe tbody tr th {\n",
       "        vertical-align: top;\n",
       "    }\n",
       "\n",
       "    .dataframe thead th {\n",
       "        text-align: right;\n",
       "    }\n",
       "</style>\n",
       "<table border=\"1\" class=\"dataframe\">\n",
       "  <thead>\n",
       "    <tr style=\"text-align: right;\">\n",
       "      <th></th>\n",
       "      <th>ID</th>\n",
       "      <th>Response</th>\n",
       "    </tr>\n",
       "  </thead>\n",
       "  <tbody>\n",
       "    <tr>\n",
       "      <th>0</th>\n",
       "      <td>17</td>\n",
       "      <td>0</td>\n",
       "    </tr>\n",
       "    <tr>\n",
       "      <th>1</th>\n",
       "      <td>19</td>\n",
       "      <td>0</td>\n",
       "    </tr>\n",
       "  </tbody>\n",
       "</table>\n",
       "</div>"
      ],
      "text/plain": [
       "   ID  Response\n",
       "0  17         0\n",
       "1  19         0"
      ]
     },
     "execution_count": 505,
     "metadata": {},
     "output_type": "execute_result"
    }
   ],
   "source": [
    "submission = pd.DataFrame({'ID': X_submission['ID'], \\\n",
    "                          'Response': Y_pred})\n",
    "submission.head(2)"
   ]
  },
  {
   "cell_type": "code",
   "execution_count": 506,
   "id": "cef62a39-7eab-4c50-b29c-3abbd8d31066",
   "metadata": {
    "tags": []
   },
   "outputs": [],
   "source": [
    "submission.to_csv('./submission.csv', index=False)"
   ]
  },
  {
   "cell_type": "markdown",
   "id": "06760d98-8d82-40b4-ac72-e5611f72b56a",
   "metadata": {},
   "source": [
    "#### 실제값과 비교 (Accuracy Score)"
   ]
  },
  {
   "cell_type": "code",
   "execution_count": 509,
   "id": "c1061a11-335c-42a2-98fa-47ba5543308c",
   "metadata": {
    "tags": []
   },
   "outputs": [
    {
     "data": {
      "text/html": [
       "<div>\n",
       "<style scoped>\n",
       "    .dataframe tbody tr th:only-of-type {\n",
       "        vertical-align: middle;\n",
       "    }\n",
       "\n",
       "    .dataframe tbody tr th {\n",
       "        vertical-align: top;\n",
       "    }\n",
       "\n",
       "    .dataframe thead th {\n",
       "        text-align: right;\n",
       "    }\n",
       "</style>\n",
       "<table border=\"1\" class=\"dataframe\">\n",
       "  <thead>\n",
       "    <tr style=\"text-align: right;\">\n",
       "      <th></th>\n",
       "      <th>ID</th>\n",
       "      <th>Response</th>\n",
       "    </tr>\n",
       "  </thead>\n",
       "  <tbody>\n",
       "    <tr>\n",
       "      <th>0</th>\n",
       "      <td>17</td>\n",
       "      <td>0</td>\n",
       "    </tr>\n",
       "    <tr>\n",
       "      <th>1</th>\n",
       "      <td>19</td>\n",
       "      <td>0</td>\n",
       "    </tr>\n",
       "  </tbody>\n",
       "</table>\n",
       "</div>"
      ],
      "text/plain": [
       "   ID  Response\n",
       "0  17         0\n",
       "1  19         0"
      ]
     },
     "execution_count": 509,
     "metadata": {},
     "output_type": "execute_result"
    }
   ],
   "source": [
    "Y_actual = Y_submission\n",
    "Y_actual.head(2)"
   ]
  },
  {
   "cell_type": "code",
   "execution_count": 510,
   "id": "749b2506-fc41-4f08-8412-af2e98661e70",
   "metadata": {
    "tags": []
   },
   "outputs": [
    {
     "data": {
      "text/html": [
       "<div>\n",
       "<style scoped>\n",
       "    .dataframe tbody tr th:only-of-type {\n",
       "        vertical-align: middle;\n",
       "    }\n",
       "\n",
       "    .dataframe tbody tr th {\n",
       "        vertical-align: top;\n",
       "    }\n",
       "\n",
       "    .dataframe thead th {\n",
       "        text-align: right;\n",
       "    }\n",
       "</style>\n",
       "<table border=\"1\" class=\"dataframe\">\n",
       "  <thead>\n",
       "    <tr style=\"text-align: right;\">\n",
       "      <th></th>\n",
       "      <th>ID</th>\n",
       "      <th>Response</th>\n",
       "    </tr>\n",
       "  </thead>\n",
       "  <tbody>\n",
       "    <tr>\n",
       "      <th>0</th>\n",
       "      <td>17</td>\n",
       "      <td>0</td>\n",
       "    </tr>\n",
       "    <tr>\n",
       "      <th>1</th>\n",
       "      <td>19</td>\n",
       "      <td>0</td>\n",
       "    </tr>\n",
       "  </tbody>\n",
       "</table>\n",
       "</div>"
      ],
      "text/plain": [
       "   ID  Response\n",
       "0  17         0\n",
       "1  19         0"
      ]
     },
     "execution_count": 510,
     "metadata": {},
     "output_type": "execute_result"
    }
   ],
   "source": [
    "Y_prediction = pd.read_csv('./submission.csv')\n",
    "Y_prediction.head(2)"
   ]
  },
  {
   "cell_type": "code",
   "execution_count": 511,
   "id": "48803ac8-ed93-465d-b11a-c0d1fb2bcb3f",
   "metadata": {
    "tags": []
   },
   "outputs": [
    {
     "data": {
      "text/plain": [
       "0.9596179580698486"
      ]
     },
     "execution_count": 511,
     "metadata": {},
     "output_type": "execute_result"
    }
   ],
   "source": [
    "accuracy_score(Y_actual['Response'],Y_prediction['Response'])"
   ]
  },
  {
   "cell_type": "code",
   "execution_count": 512,
   "id": "e8bff0c5-6b8b-4c78-bd73-1d51f0193cbb",
   "metadata": {
    "tags": []
   },
   "outputs": [
    {
     "data": {
      "text/plain": [
       "0.9247716281569048"
      ]
     },
     "execution_count": 512,
     "metadata": {},
     "output_type": "execute_result"
    }
   ],
   "source": [
    "precision_score(Y_actual['Response'],Y_prediction['Response'])"
   ]
  },
  {
   "cell_type": "code",
   "execution_count": 513,
   "id": "6493cec4-dd18-4606-a0ef-8d1bf827b4a1",
   "metadata": {
    "tags": []
   },
   "outputs": [
    {
     "data": {
      "text/plain": [
       "0.7321846415656244"
      ]
     },
     "execution_count": 513,
     "metadata": {},
     "output_type": "execute_result"
    }
   ],
   "source": [
    "recall_score(Y_actual['Response'],Y_prediction['Response'])"
   ]
  },
  {
   "cell_type": "code",
   "execution_count": 514,
   "id": "a4f9a9fc-3960-462e-830d-dbd815ec4f93",
   "metadata": {
    "tags": []
   },
   "outputs": [
    {
     "data": {
      "text/plain": [
       "0.817286002611896"
      ]
     },
     "execution_count": 514,
     "metadata": {},
     "output_type": "execute_result"
    }
   ],
   "source": [
    "f1_score(Y_actual['Response'],Y_prediction['Response'])"
   ]
  },
  {
   "cell_type": "code",
   "execution_count": null,
   "id": "b4affaf8-9e1b-4f0b-a10e-3fcd92630201",
   "metadata": {},
   "outputs": [],
   "source": []
  },
  {
   "cell_type": "markdown",
   "id": "2a4b3e52",
   "metadata": {},
   "source": [
    "### 비행탑승 경험 만족도 데이터"
   ]
  },
  {
   "cell_type": "markdown",
   "id": "60f1d7a7",
   "metadata": {},
   "source": [
    "```{attention}    \n",
    "데이터 설명 : 비행탑승 경험 만족도 (satisfaction 컬럼 : 'neutral or dissatisfied' or satisfied )   (83123, 24) shape     \n",
    "x_train: https://raw.githubusercontent.com/Datamanim/datarepo/main/airline/x_train.csv    \n",
    "y_train: https://raw.githubusercontent.com/Datamanim/datarepo/main/airline/y_train.csv  \n",
    "x_test: https://raw.githubusercontent.com/Datamanim/datarepo/main/airline/x_test.csv   \n",
    "x_label(평가용) : https://raw.githubusercontent.com/Datamanim/datarepo/main/airline/y_test.csv    \n",
    "데이터 출처 :https://www.kaggle.com/teejmahal20/airline-passenger-satisfaction?select=train.csv (참고, 데이터 수정)  \n",
    "```  "
   ]
  },
  {
   "cell_type": "markdown",
   "id": "eab3ea65",
   "metadata": {},
   "source": [
    "```{attention}    \n",
    "**test 데이터에 대해서 neutral or dissatisfied라고 예측할 확률을 구하고 그 확률 값을 제출하라**\n",
    "```  "
   ]
  },
  {
   "cell_type": "code",
   "execution_count": 127,
   "id": "d205fdac",
   "metadata": {
    "ExecuteTime": {
     "end_time": "2022-05-01T10:27:14.215183Z",
     "start_time": "2022-05-01T10:27:07.442903Z"
    },
    "tags": []
   },
   "outputs": [
    {
     "data": {
      "text/html": [
       "<div>\n",
       "<style scoped>\n",
       "    .dataframe tbody tr th:only-of-type {\n",
       "        vertical-align: middle;\n",
       "    }\n",
       "\n",
       "    .dataframe tbody tr th {\n",
       "        vertical-align: top;\n",
       "    }\n",
       "\n",
       "    .dataframe thead th {\n",
       "        text-align: right;\n",
       "    }\n",
       "</style>\n",
       "<table border=\"1\" class=\"dataframe\">\n",
       "  <thead>\n",
       "    <tr style=\"text-align: right;\">\n",
       "      <th></th>\n",
       "      <th>ID</th>\n",
       "      <th>Gender</th>\n",
       "      <th>Customer Type</th>\n",
       "      <th>Age</th>\n",
       "      <th>Type of Travel</th>\n",
       "      <th>Class</th>\n",
       "      <th>Flight Distance</th>\n",
       "      <th>Inflight wifi service</th>\n",
       "      <th>Departure/Arrival time convenient</th>\n",
       "      <th>Ease of Online booking</th>\n",
       "      <th>Gate location</th>\n",
       "      <th>Food and drink</th>\n",
       "      <th>Online boarding</th>\n",
       "      <th>Seat comfort</th>\n",
       "      <th>Inflight entertainment</th>\n",
       "      <th>On-board service</th>\n",
       "      <th>Leg room service</th>\n",
       "      <th>Baggage handling</th>\n",
       "      <th>Checkin service</th>\n",
       "      <th>Inflight service</th>\n",
       "      <th>Cleanliness</th>\n",
       "      <th>Departure Delay in Minutes</th>\n",
       "      <th>Arrival Delay in Minutes</th>\n",
       "    </tr>\n",
       "  </thead>\n",
       "  <tbody>\n",
       "    <tr>\n",
       "      <th>0</th>\n",
       "      <td>0</td>\n",
       "      <td>Female</td>\n",
       "      <td>Loyal Customer</td>\n",
       "      <td>54</td>\n",
       "      <td>Personal Travel</td>\n",
       "      <td>Eco</td>\n",
       "      <td>1068</td>\n",
       "      <td>3</td>\n",
       "      <td>4</td>\n",
       "      <td>3</td>\n",
       "      <td>1</td>\n",
       "      <td>5</td>\n",
       "      <td>4</td>\n",
       "      <td>4</td>\n",
       "      <td>5</td>\n",
       "      <td>5</td>\n",
       "      <td>3</td>\n",
       "      <td>5</td>\n",
       "      <td>3</td>\n",
       "      <td>5</td>\n",
       "      <td>3</td>\n",
       "      <td>47</td>\n",
       "      <td>22.0000</td>\n",
       "    </tr>\n",
       "    <tr>\n",
       "      <th>1</th>\n",
       "      <td>2</td>\n",
       "      <td>Male</td>\n",
       "      <td>Loyal Customer</td>\n",
       "      <td>20</td>\n",
       "      <td>Personal Travel</td>\n",
       "      <td>Eco</td>\n",
       "      <td>1546</td>\n",
       "      <td>4</td>\n",
       "      <td>4</td>\n",
       "      <td>4</td>\n",
       "      <td>4</td>\n",
       "      <td>4</td>\n",
       "      <td>4</td>\n",
       "      <td>4</td>\n",
       "      <td>4</td>\n",
       "      <td>3</td>\n",
       "      <td>3</td>\n",
       "      <td>4</td>\n",
       "      <td>4</td>\n",
       "      <td>4</td>\n",
       "      <td>4</td>\n",
       "      <td>5</td>\n",
       "      <td>2.0000</td>\n",
       "    </tr>\n",
       "    <tr>\n",
       "      <th>2</th>\n",
       "      <td>3</td>\n",
       "      <td>Male</td>\n",
       "      <td>Loyal Customer</td>\n",
       "      <td>59</td>\n",
       "      <td>Business travel</td>\n",
       "      <td>Business</td>\n",
       "      <td>2962</td>\n",
       "      <td>0</td>\n",
       "      <td>4</td>\n",
       "      <td>0</td>\n",
       "      <td>4</td>\n",
       "      <td>2</td>\n",
       "      <td>4</td>\n",
       "      <td>5</td>\n",
       "      <td>1</td>\n",
       "      <td>1</td>\n",
       "      <td>1</td>\n",
       "      <td>1</td>\n",
       "      <td>5</td>\n",
       "      <td>1</td>\n",
       "      <td>4</td>\n",
       "      <td>54</td>\n",
       "      <td>46.0000</td>\n",
       "    </tr>\n",
       "    <tr>\n",
       "      <th>3</th>\n",
       "      <td>4</td>\n",
       "      <td>Male</td>\n",
       "      <td>Loyal Customer</td>\n",
       "      <td>35</td>\n",
       "      <td>Business travel</td>\n",
       "      <td>Eco Plus</td>\n",
       "      <td>106</td>\n",
       "      <td>5</td>\n",
       "      <td>4</td>\n",
       "      <td>4</td>\n",
       "      <td>4</td>\n",
       "      <td>5</td>\n",
       "      <td>5</td>\n",
       "      <td>5</td>\n",
       "      <td>5</td>\n",
       "      <td>2</td>\n",
       "      <td>1</td>\n",
       "      <td>5</td>\n",
       "      <td>4</td>\n",
       "      <td>4</td>\n",
       "      <td>5</td>\n",
       "      <td>130</td>\n",
       "      <td>121.0000</td>\n",
       "    </tr>\n",
       "    <tr>\n",
       "      <th>4</th>\n",
       "      <td>5</td>\n",
       "      <td>Female</td>\n",
       "      <td>Loyal Customer</td>\n",
       "      <td>9</td>\n",
       "      <td>Business travel</td>\n",
       "      <td>Business</td>\n",
       "      <td>2917</td>\n",
       "      <td>3</td>\n",
       "      <td>3</td>\n",
       "      <td>3</td>\n",
       "      <td>3</td>\n",
       "      <td>4</td>\n",
       "      <td>4</td>\n",
       "      <td>4</td>\n",
       "      <td>4</td>\n",
       "      <td>4</td>\n",
       "      <td>4</td>\n",
       "      <td>5</td>\n",
       "      <td>4</td>\n",
       "      <td>3</td>\n",
       "      <td>4</td>\n",
       "      <td>0</td>\n",
       "      <td>0.0000</td>\n",
       "    </tr>\n",
       "  </tbody>\n",
       "</table>\n",
       "</div>"
      ],
      "text/plain": [
       "   ID  Gender   Customer Type  Age   Type of Travel     Class   \n",
       "0   0  Female  Loyal Customer   54  Personal Travel       Eco  \\\n",
       "1   2    Male  Loyal Customer   20  Personal Travel       Eco   \n",
       "2   3    Male  Loyal Customer   59  Business travel  Business   \n",
       "3   4    Male  Loyal Customer   35  Business travel  Eco Plus   \n",
       "4   5  Female  Loyal Customer    9  Business travel  Business   \n",
       "\n",
       "   Flight Distance  Inflight wifi service  Departure/Arrival time convenient   \n",
       "0             1068                      3                                  4  \\\n",
       "1             1546                      4                                  4   \n",
       "2             2962                      0                                  4   \n",
       "3              106                      5                                  4   \n",
       "4             2917                      3                                  3   \n",
       "\n",
       "   Ease of Online booking  Gate location  Food and drink  Online boarding   \n",
       "0                       3              1               5                4  \\\n",
       "1                       4              4               4                4   \n",
       "2                       0              4               2                4   \n",
       "3                       4              4               5                5   \n",
       "4                       3              3               4                4   \n",
       "\n",
       "   Seat comfort  Inflight entertainment  On-board service  Leg room service   \n",
       "0             4                       5                 5                 3  \\\n",
       "1             4                       4                 3                 3   \n",
       "2             5                       1                 1                 1   \n",
       "3             5                       5                 2                 1   \n",
       "4             4                       4                 4                 4   \n",
       "\n",
       "   Baggage handling  Checkin service  Inflight service  Cleanliness   \n",
       "0                 5                3                 5            3  \\\n",
       "1                 4                4                 4            4   \n",
       "2                 1                5                 1            4   \n",
       "3                 5                4                 4            5   \n",
       "4                 5                4                 3            4   \n",
       "\n",
       "   Departure Delay in Minutes  Arrival Delay in Minutes  \n",
       "0                          47                   22.0000  \n",
       "1                           5                    2.0000  \n",
       "2                          54                   46.0000  \n",
       "3                         130                  121.0000  \n",
       "4                           0                    0.0000  "
      ]
     },
     "metadata": {},
     "output_type": "display_data"
    },
    {
     "data": {
      "text/html": [
       "<div>\n",
       "<style scoped>\n",
       "    .dataframe tbody tr th:only-of-type {\n",
       "        vertical-align: middle;\n",
       "    }\n",
       "\n",
       "    .dataframe tbody tr th {\n",
       "        vertical-align: top;\n",
       "    }\n",
       "\n",
       "    .dataframe thead th {\n",
       "        text-align: right;\n",
       "    }\n",
       "</style>\n",
       "<table border=\"1\" class=\"dataframe\">\n",
       "  <thead>\n",
       "    <tr style=\"text-align: right;\">\n",
       "      <th></th>\n",
       "      <th>ID</th>\n",
       "      <th>satisfaction</th>\n",
       "    </tr>\n",
       "  </thead>\n",
       "  <tbody>\n",
       "    <tr>\n",
       "      <th>0</th>\n",
       "      <td>0</td>\n",
       "      <td>neutral or dissatisfied</td>\n",
       "    </tr>\n",
       "    <tr>\n",
       "      <th>1</th>\n",
       "      <td>2</td>\n",
       "      <td>neutral or dissatisfied</td>\n",
       "    </tr>\n",
       "    <tr>\n",
       "      <th>2</th>\n",
       "      <td>3</td>\n",
       "      <td>satisfied</td>\n",
       "    </tr>\n",
       "    <tr>\n",
       "      <th>3</th>\n",
       "      <td>4</td>\n",
       "      <td>satisfied</td>\n",
       "    </tr>\n",
       "    <tr>\n",
       "      <th>4</th>\n",
       "      <td>5</td>\n",
       "      <td>satisfied</td>\n",
       "    </tr>\n",
       "  </tbody>\n",
       "</table>\n",
       "</div>"
      ],
      "text/plain": [
       "   ID             satisfaction\n",
       "0   0  neutral or dissatisfied\n",
       "1   2  neutral or dissatisfied\n",
       "2   3                satisfied\n",
       "3   4                satisfied\n",
       "4   5                satisfied"
      ]
     },
     "metadata": {},
     "output_type": "display_data"
    }
   ],
   "source": [
    "import ssl\n",
    "\n",
    "ssl._create_default_https_context = ssl._create_unverified_context\n",
    "\n",
    "import pandas as pd\n",
    "#데이터 로드\n",
    "X = pd.read_csv(\"https://raw.githubusercontent.com/Datamanim/datarepo/main/airline/x_train.csv\")\n",
    "Y = pd.read_csv(\"https://raw.githubusercontent.com/Datamanim/datarepo/main/airline/y_train.csv\")\n",
    "X_submission = pd.read_csv(\"https://raw.githubusercontent.com/Datamanim/datarepo/main/airline/x_test.csv\")\n",
    "Y_submission = pd.read_csv(\"https://raw.githubusercontent.com/Datamanim/datarepo/main/airline/y_test.csv\")\n",
    "\n",
    "X.drop(columns='id', inplace=True)\n",
    "X_submission.drop(columns='id', inplace=True)\n",
    "\n",
    "display(X.head())\n",
    "display(Y.head())"
   ]
  },
  {
   "cell_type": "markdown",
   "id": "e01ee9ce-08d4-4785-8042-dbc7aa2184c8",
   "metadata": {},
   "source": [
    "#### EDA"
   ]
  },
  {
   "cell_type": "code",
   "execution_count": 128,
   "id": "8a45eb0e-7ab4-4e8f-a9ae-86224bc069c0",
   "metadata": {
    "tags": []
   },
   "outputs": [
    {
     "name": "stdout",
     "output_type": "stream",
     "text": [
      "<class 'pandas.core.frame.DataFrame'>\n",
      "RangeIndex: 83123 entries, 0 to 83122\n",
      "Data columns (total 23 columns):\n",
      " #   Column                             Non-Null Count  Dtype  \n",
      "---  ------                             --------------  -----  \n",
      " 0   ID                                 83123 non-null  int64  \n",
      " 1   Gender                             83123 non-null  object \n",
      " 2   Customer Type                      83123 non-null  object \n",
      " 3   Age                                83123 non-null  int64  \n",
      " 4   Type of Travel                     83123 non-null  object \n",
      " 5   Class                              83123 non-null  object \n",
      " 6   Flight Distance                    83123 non-null  int64  \n",
      " 7   Inflight wifi service              83123 non-null  int64  \n",
      " 8   Departure/Arrival time convenient  83123 non-null  int64  \n",
      " 9   Ease of Online booking             83123 non-null  int64  \n",
      " 10  Gate location                      83123 non-null  int64  \n",
      " 11  Food and drink                     83123 non-null  int64  \n",
      " 12  Online boarding                    83123 non-null  int64  \n",
      " 13  Seat comfort                       83123 non-null  int64  \n",
      " 14  Inflight entertainment             83123 non-null  int64  \n",
      " 15  On-board service                   83123 non-null  int64  \n",
      " 16  Leg room service                   83123 non-null  int64  \n",
      " 17  Baggage handling                   83123 non-null  int64  \n",
      " 18  Checkin service                    83123 non-null  int64  \n",
      " 19  Inflight service                   83123 non-null  int64  \n",
      " 20  Cleanliness                        83123 non-null  int64  \n",
      " 21  Departure Delay in Minutes         83123 non-null  int64  \n",
      " 22  Arrival Delay in Minutes           82867 non-null  float64\n",
      "dtypes: float64(1), int64(18), object(4)\n",
      "memory usage: 14.6+ MB\n"
     ]
    }
   ],
   "source": [
    "X.info()"
   ]
  },
  {
   "cell_type": "code",
   "execution_count": 129,
   "id": "bfec4f9d-800c-4f34-9b37-ac5fb85d2c92",
   "metadata": {
    "tags": []
   },
   "outputs": [
    {
     "name": "stdout",
     "output_type": "stream",
     "text": [
      "<class 'pandas.core.frame.DataFrame'>\n",
      "RangeIndex: 20781 entries, 0 to 20780\n",
      "Data columns (total 23 columns):\n",
      " #   Column                             Non-Null Count  Dtype  \n",
      "---  ------                             --------------  -----  \n",
      " 0   ID                                 20781 non-null  int64  \n",
      " 1   Gender                             20781 non-null  object \n",
      " 2   Customer Type                      20781 non-null  object \n",
      " 3   Age                                20781 non-null  int64  \n",
      " 4   Type of Travel                     20781 non-null  object \n",
      " 5   Class                              20781 non-null  object \n",
      " 6   Flight Distance                    20781 non-null  int64  \n",
      " 7   Inflight wifi service              20781 non-null  int64  \n",
      " 8   Departure/Arrival time convenient  20781 non-null  int64  \n",
      " 9   Ease of Online booking             20781 non-null  int64  \n",
      " 10  Gate location                      20781 non-null  int64  \n",
      " 11  Food and drink                     20781 non-null  int64  \n",
      " 12  Online boarding                    20781 non-null  int64  \n",
      " 13  Seat comfort                       20781 non-null  int64  \n",
      " 14  Inflight entertainment             20781 non-null  int64  \n",
      " 15  On-board service                   20781 non-null  int64  \n",
      " 16  Leg room service                   20781 non-null  int64  \n",
      " 17  Baggage handling                   20781 non-null  int64  \n",
      " 18  Checkin service                    20781 non-null  int64  \n",
      " 19  Inflight service                   20781 non-null  int64  \n",
      " 20  Cleanliness                        20781 non-null  int64  \n",
      " 21  Departure Delay in Minutes         20781 non-null  int64  \n",
      " 22  Arrival Delay in Minutes           20709 non-null  float64\n",
      "dtypes: float64(1), int64(18), object(4)\n",
      "memory usage: 3.6+ MB\n"
     ]
    }
   ],
   "source": [
    "X_submission.info()"
   ]
  },
  {
   "cell_type": "code",
   "execution_count": 130,
   "id": "c7e57130-364b-4365-a803-ea9bdfebd6d6",
   "metadata": {
    "tags": []
   },
   "outputs": [
    {
     "name": "stdout",
     "output_type": "stream",
     "text": [
      "<class 'pandas.core.frame.DataFrame'>\n",
      "RangeIndex: 83123 entries, 0 to 83122\n",
      "Data columns (total 2 columns):\n",
      " #   Column        Non-Null Count  Dtype \n",
      "---  ------        --------------  ----- \n",
      " 0   ID            83123 non-null  int64 \n",
      " 1   satisfaction  83123 non-null  object\n",
      "dtypes: int64(1), object(1)\n",
      "memory usage: 1.3+ MB\n"
     ]
    }
   ],
   "source": [
    "Y.info()"
   ]
  },
  {
   "cell_type": "code",
   "execution_count": 131,
   "id": "74548858-0430-4b77-9cfa-ed09210f5624",
   "metadata": {
    "tags": []
   },
   "outputs": [
    {
     "data": {
      "text/plain": [
       "satisfaction\n",
       "neutral or dissatisfied    47103\n",
       "satisfied                  36020\n",
       "Name: count, dtype: int64"
      ]
     },
     "execution_count": 131,
     "metadata": {},
     "output_type": "execute_result"
    }
   ],
   "source": [
    "Y['satisfaction'].value_counts()"
   ]
  },
  {
   "cell_type": "code",
   "execution_count": 132,
   "id": "be38f5ea-8be1-4115-b6ef-c070007a1d29",
   "metadata": {
    "tags": []
   },
   "outputs": [
    {
     "data": {
      "text/plain": [
       "Index(['Gender', 'Customer Type', 'Type of Travel', 'Class'], dtype='object')"
      ]
     },
     "execution_count": 132,
     "metadata": {},
     "output_type": "execute_result"
    }
   ],
   "source": [
    "features = X.select_dtypes(include='object').columns\n",
    "features"
   ]
  },
  {
   "cell_type": "code",
   "execution_count": 133,
   "id": "e1e01d28-5f60-4f74-ab1c-85ac6c02f45c",
   "metadata": {
    "tags": []
   },
   "outputs": [
    {
     "name": "stdout",
     "output_type": "stream",
     "text": [
      "Gender\n",
      "Gender\n",
      "Female    42284\n",
      "Male      40839\n",
      "Name: count, dtype: int64\n",
      "------------------------------\n",
      "Customer Type\n",
      "Customer Type\n",
      "Loyal Customer       67951\n",
      "disloyal Customer    15172\n",
      "Name: count, dtype: int64\n",
      "------------------------------\n",
      "Type of Travel\n",
      "Type of Travel\n",
      "Business travel    57370\n",
      "Personal Travel    25753\n",
      "Name: count, dtype: int64\n",
      "------------------------------\n",
      "Class\n",
      "Class\n",
      "Business    39791\n",
      "Eco         37349\n",
      "Eco Plus     5983\n",
      "Name: count, dtype: int64\n",
      "------------------------------\n"
     ]
    }
   ],
   "source": [
    "for feature in features:\n",
    "    print(f'{feature}')\n",
    "    print(X[feature].value_counts())\n",
    "    print(\"-\" * 30)"
   ]
  },
  {
   "cell_type": "code",
   "execution_count": 134,
   "id": "934ec3c9-4586-4f71-a909-3a8445b456a9",
   "metadata": {
    "tags": []
   },
   "outputs": [
    {
     "data": {
      "text/html": [
       "<div>\n",
       "<style scoped>\n",
       "    .dataframe tbody tr th:only-of-type {\n",
       "        vertical-align: middle;\n",
       "    }\n",
       "\n",
       "    .dataframe tbody tr th {\n",
       "        vertical-align: top;\n",
       "    }\n",
       "\n",
       "    .dataframe thead th {\n",
       "        text-align: right;\n",
       "    }\n",
       "</style>\n",
       "<table border=\"1\" class=\"dataframe\">\n",
       "  <thead>\n",
       "    <tr style=\"text-align: right;\">\n",
       "      <th></th>\n",
       "      <th>ID</th>\n",
       "      <th>Gender</th>\n",
       "      <th>Customer Type</th>\n",
       "      <th>Age</th>\n",
       "      <th>Type of Travel</th>\n",
       "      <th>Class</th>\n",
       "      <th>Flight Distance</th>\n",
       "      <th>Inflight wifi service</th>\n",
       "      <th>Departure/Arrival time convenient</th>\n",
       "      <th>Ease of Online booking</th>\n",
       "      <th>Gate location</th>\n",
       "      <th>Food and drink</th>\n",
       "      <th>Online boarding</th>\n",
       "      <th>Seat comfort</th>\n",
       "      <th>Inflight entertainment</th>\n",
       "      <th>On-board service</th>\n",
       "      <th>Leg room service</th>\n",
       "      <th>Baggage handling</th>\n",
       "      <th>Checkin service</th>\n",
       "      <th>Inflight service</th>\n",
       "      <th>Cleanliness</th>\n",
       "      <th>Departure Delay in Minutes</th>\n",
       "      <th>Arrival Delay in Minutes</th>\n",
       "      <th>satisfaction</th>\n",
       "    </tr>\n",
       "  </thead>\n",
       "  <tbody>\n",
       "    <tr>\n",
       "      <th>0</th>\n",
       "      <td>0</td>\n",
       "      <td>Female</td>\n",
       "      <td>Loyal Customer</td>\n",
       "      <td>54</td>\n",
       "      <td>Personal Travel</td>\n",
       "      <td>Eco</td>\n",
       "      <td>1068</td>\n",
       "      <td>3</td>\n",
       "      <td>4</td>\n",
       "      <td>3</td>\n",
       "      <td>1</td>\n",
       "      <td>5</td>\n",
       "      <td>4</td>\n",
       "      <td>4</td>\n",
       "      <td>5</td>\n",
       "      <td>5</td>\n",
       "      <td>3</td>\n",
       "      <td>5</td>\n",
       "      <td>3</td>\n",
       "      <td>5</td>\n",
       "      <td>3</td>\n",
       "      <td>47</td>\n",
       "      <td>22.0000</td>\n",
       "      <td>neutral or dissatisfied</td>\n",
       "    </tr>\n",
       "    <tr>\n",
       "      <th>1</th>\n",
       "      <td>2</td>\n",
       "      <td>Male</td>\n",
       "      <td>Loyal Customer</td>\n",
       "      <td>20</td>\n",
       "      <td>Personal Travel</td>\n",
       "      <td>Eco</td>\n",
       "      <td>1546</td>\n",
       "      <td>4</td>\n",
       "      <td>4</td>\n",
       "      <td>4</td>\n",
       "      <td>4</td>\n",
       "      <td>4</td>\n",
       "      <td>4</td>\n",
       "      <td>4</td>\n",
       "      <td>4</td>\n",
       "      <td>3</td>\n",
       "      <td>3</td>\n",
       "      <td>4</td>\n",
       "      <td>4</td>\n",
       "      <td>4</td>\n",
       "      <td>4</td>\n",
       "      <td>5</td>\n",
       "      <td>2.0000</td>\n",
       "      <td>neutral or dissatisfied</td>\n",
       "    </tr>\n",
       "  </tbody>\n",
       "</table>\n",
       "</div>"
      ],
      "text/plain": [
       "   ID  Gender   Customer Type  Age   Type of Travel Class  Flight Distance   \n",
       "0   0  Female  Loyal Customer   54  Personal Travel   Eco             1068  \\\n",
       "1   2    Male  Loyal Customer   20  Personal Travel   Eco             1546   \n",
       "\n",
       "   Inflight wifi service  Departure/Arrival time convenient   \n",
       "0                      3                                  4  \\\n",
       "1                      4                                  4   \n",
       "\n",
       "   Ease of Online booking  Gate location  Food and drink  Online boarding   \n",
       "0                       3              1               5                4  \\\n",
       "1                       4              4               4                4   \n",
       "\n",
       "   Seat comfort  Inflight entertainment  On-board service  Leg room service   \n",
       "0             4                       5                 5                 3  \\\n",
       "1             4                       4                 3                 3   \n",
       "\n",
       "   Baggage handling  Checkin service  Inflight service  Cleanliness   \n",
       "0                 5                3                 5            3  \\\n",
       "1                 4                4                 4            4   \n",
       "\n",
       "   Departure Delay in Minutes  Arrival Delay in Minutes   \n",
       "0                          47                   22.0000  \\\n",
       "1                           5                    2.0000   \n",
       "\n",
       "              satisfaction  \n",
       "0  neutral or dissatisfied  \n",
       "1  neutral or dissatisfied  "
      ]
     },
     "execution_count": 134,
     "metadata": {},
     "output_type": "execute_result"
    }
   ],
   "source": [
    "dfXY = pd.merge(X, Y, on='ID')\n",
    "dfXY.head(2)"
   ]
  },
  {
   "cell_type": "code",
   "execution_count": 135,
   "id": "94d76738-163c-4628-9ea2-0fcd9cb6abda",
   "metadata": {
    "tags": []
   },
   "outputs": [
    {
     "name": "stdout",
     "output_type": "stream",
     "text": [
      "[(83123, 23), (83123, 2), (83123, 24)]\n"
     ]
    }
   ],
   "source": [
    "print([x.shape for x in [X, Y, dfXY]])"
   ]
  },
  {
   "cell_type": "code",
   "execution_count": 136,
   "id": "d40a1ccf-ae7e-485d-8694-d8369cf94f68",
   "metadata": {
    "tags": []
   },
   "outputs": [],
   "source": [
    "dfXY['satisfaction'] = LabelEncoder().fit_transform(dfXY['satisfaction'])"
   ]
  },
  {
   "cell_type": "code",
   "execution_count": 137,
   "id": "afff7530-10e8-4544-b8bb-2e43bb002378",
   "metadata": {
    "tags": []
   },
   "outputs": [
    {
     "data": {
      "text/plain": [
       "satisfaction                         1.0000\n",
       "Online boarding                      0.5041\n",
       "Inflight entertainment               0.3998\n",
       "Seat comfort                         0.3530\n",
       "On-board service                     0.3233\n",
       "Leg room service                     0.3127\n",
       "Cleanliness                          0.3061\n",
       "Flight Distance                      0.3004\n",
       "Inflight wifi service                0.2812\n",
       "Baggage handling                     0.2467\n",
       "Inflight service                     0.2449\n",
       "Checkin service                      0.2350\n",
       "Food and drink                       0.2107\n",
       "Ease of Online booking               0.1694\n",
       "Age                                  0.1390\n",
       "ID                                   0.0054\n",
       "Gate location                       -0.0020\n",
       "Departure Delay in Minutes          -0.0531\n",
       "Departure/Arrival time convenient   -0.0535\n",
       "Arrival Delay in Minutes            -0.0600\n",
       "Name: satisfaction, dtype: float64"
      ]
     },
     "execution_count": 137,
     "metadata": {},
     "output_type": "execute_result"
    }
   ],
   "source": [
    "dfXY.corr(numeric_only=True)['satisfaction'].sort_values(ascending=False)"
   ]
  },
  {
   "cell_type": "code",
   "execution_count": 138,
   "id": "ede5ed1d-7ae0-449f-ac38-7d56f5f7c6a0",
   "metadata": {
    "tags": []
   },
   "outputs": [
    {
     "name": "stdout",
     "output_type": "stream",
     "text": [
      "Gender\n",
      "satisfaction  Gender\n",
      "0             Female   0.5129\n",
      "              Male     0.4871\n",
      "1             Female   0.5032\n",
      "              Male     0.4968\n",
      "Name: proportion, dtype: float64\n",
      "------------------------------\n",
      "Customer Type\n",
      "satisfaction  Customer Type    \n",
      "0             Loyal Customer      0.7533\n",
      "              disloyal Customer   0.2467\n",
      "1             Loyal Customer      0.9014\n",
      "              disloyal Customer   0.0986\n",
      "Name: proportion, dtype: float64\n",
      "------------------------------\n",
      "Type of Travel\n",
      "satisfaction  Type of Travel \n",
      "0             Business travel   0.5088\n",
      "              Personal Travel   0.4912\n",
      "1             Business travel   0.9274\n",
      "              Personal Travel   0.0726\n",
      "Name: proportion, dtype: float64\n",
      "------------------------------\n",
      "Class\n",
      "satisfaction  Class   \n",
      "0             Eco        0.6461\n",
      "              Business   0.2583\n",
      "              Eco Plus   0.0956\n",
      "1             Business   0.7669\n",
      "              Eco        0.1920\n",
      "              Eco Plus   0.0411\n",
      "Name: proportion, dtype: float64\n",
      "------------------------------\n"
     ]
    }
   ],
   "source": [
    "for feature in features:\n",
    "    print(f'{feature}')\n",
    "    print(dfXY.groupby('satisfaction')[feature].value_counts(normalize=True))\n",
    "    print(\"-\" * 30)"
   ]
  },
  {
   "cell_type": "markdown",
   "id": "e6b61a38-93c6-4a67-a525-28a7a9c92d7e",
   "metadata": {},
   "source": [
    "#### 데이터전처리"
   ]
  },
  {
   "cell_type": "code",
   "execution_count": 139,
   "id": "290025d7-1b80-45e8-8000-ba42a7b260ad",
   "metadata": {
    "tags": []
   },
   "outputs": [
    {
     "data": {
      "text/plain": [
       "ID                                     0\n",
       "Gender                                 0\n",
       "Customer Type                          0\n",
       "Age                                    0\n",
       "Type of Travel                         0\n",
       "Class                                  0\n",
       "Flight Distance                        0\n",
       "Inflight wifi service                  0\n",
       "Departure/Arrival time convenient      0\n",
       "Ease of Online booking                 0\n",
       "Gate location                          0\n",
       "Food and drink                         0\n",
       "Online boarding                        0\n",
       "Seat comfort                           0\n",
       "Inflight entertainment                 0\n",
       "On-board service                       0\n",
       "Leg room service                       0\n",
       "Baggage handling                       0\n",
       "Checkin service                        0\n",
       "Inflight service                       0\n",
       "Cleanliness                            0\n",
       "Departure Delay in Minutes             0\n",
       "Arrival Delay in Minutes             256\n",
       "dtype: int64"
      ]
     },
     "execution_count": 139,
     "metadata": {},
     "output_type": "execute_result"
    }
   ],
   "source": [
    "X.isna().sum()"
   ]
  },
  {
   "cell_type": "code",
   "execution_count": 140,
   "id": "32ba9555-a2f7-4787-8bdd-fad142fcc366",
   "metadata": {
    "tags": []
   },
   "outputs": [
    {
     "data": {
      "text/plain": [
       "15.132477343212617"
      ]
     },
     "execution_count": 140,
     "metadata": {},
     "output_type": "execute_result"
    }
   ],
   "source": [
    "X['Arrival Delay in Minutes'].mean()"
   ]
  },
  {
   "cell_type": "code",
   "execution_count": 141,
   "id": "24d55690-2b95-44bb-a96f-db1cde3eb1f5",
   "metadata": {
    "tags": []
   },
   "outputs": [
    {
     "data": {
      "text/plain": [
       "ID                                    0\n",
       "Gender                                0\n",
       "Customer Type                         0\n",
       "Age                                   0\n",
       "Type of Travel                        0\n",
       "Class                                 0\n",
       "Flight Distance                       0\n",
       "Inflight wifi service                 0\n",
       "Departure/Arrival time convenient     0\n",
       "Ease of Online booking                0\n",
       "Gate location                         0\n",
       "Food and drink                        0\n",
       "Online boarding                       0\n",
       "Seat comfort                          0\n",
       "Inflight entertainment                0\n",
       "On-board service                      0\n",
       "Leg room service                      0\n",
       "Baggage handling                      0\n",
       "Checkin service                       0\n",
       "Inflight service                      0\n",
       "Cleanliness                           0\n",
       "Departure Delay in Minutes            0\n",
       "Arrival Delay in Minutes             72\n",
       "dtype: int64"
      ]
     },
     "execution_count": 141,
     "metadata": {},
     "output_type": "execute_result"
    }
   ],
   "source": [
    "X_submission.isna().sum()"
   ]
  },
  {
   "cell_type": "code",
   "execution_count": 142,
   "id": "d3b61fd3-0730-4734-8ac6-005583e05461",
   "metadata": {
    "tags": []
   },
   "outputs": [
    {
     "data": {
      "text/plain": [
       "14.99449514703752"
      ]
     },
     "execution_count": 142,
     "metadata": {},
     "output_type": "execute_result"
    }
   ],
   "source": [
    "X_submission['Arrival Delay in Minutes'].mean()"
   ]
  },
  {
   "cell_type": "code",
   "execution_count": 143,
   "id": "13039542-d9e5-4c60-b651-8d49523ca67e",
   "metadata": {
    "tags": []
   },
   "outputs": [],
   "source": [
    "dfX = pd.concat([X, X_submission], axis=0, ignore_index=True)"
   ]
  },
  {
   "cell_type": "code",
   "execution_count": 165,
   "id": "8cefa061-992e-4765-bd35-62a3bae06929",
   "metadata": {
    "tags": []
   },
   "outputs": [
    {
     "name": "stdout",
     "output_type": "stream",
     "text": [
      "<class 'pandas.core.frame.DataFrame'>\n",
      "RangeIndex: 103904 entries, 0 to 103903\n",
      "Data columns (total 25 columns):\n",
      " #   Column                             Non-Null Count   Dtype  \n",
      "---  ------                             --------------   -----  \n",
      " 0   ID                                 103904 non-null  int64  \n",
      " 1   Gender                             103904 non-null  int8   \n",
      " 2   Customer Type                      103904 non-null  int32  \n",
      " 3   Age                                103904 non-null  int64  \n",
      " 4   Type of Travel                     103904 non-null  int32  \n",
      " 5   Flight Distance                    103904 non-null  int64  \n",
      " 6   Inflight wifi service              103904 non-null  int64  \n",
      " 7   Departure/Arrival time convenient  103904 non-null  int64  \n",
      " 8   Ease of Online booking             103904 non-null  int64  \n",
      " 9   Gate location                      103904 non-null  int64  \n",
      " 10  Food and drink                     103904 non-null  int64  \n",
      " 11  Online boarding                    103904 non-null  int64  \n",
      " 12  Seat comfort                       103904 non-null  int64  \n",
      " 13  Inflight entertainment             103904 non-null  int64  \n",
      " 14  On-board service                   103904 non-null  int64  \n",
      " 15  Leg room service                   103904 non-null  int64  \n",
      " 16  Baggage handling                   103904 non-null  int64  \n",
      " 17  Checkin service                    103904 non-null  int64  \n",
      " 18  Inflight service                   103904 non-null  int64  \n",
      " 19  Cleanliness                        103904 non-null  int64  \n",
      " 20  Departure Delay in Minutes         103904 non-null  int64  \n",
      " 21  Arrival Delay in Minutes           103904 non-null  float64\n",
      " 22  Business                           103904 non-null  bool   \n",
      " 23  Eco                                103904 non-null  bool   \n",
      " 24  Eco Plus                           103904 non-null  bool   \n",
      "dtypes: bool(3), float64(1), int32(2), int64(18), int8(1)\n",
      "memory usage: 16.3 MB\n"
     ]
    }
   ],
   "source": [
    "dfX.info()"
   ]
  },
  {
   "cell_type": "code",
   "execution_count": 164,
   "id": "ce782297-f995-4495-9aaf-b6e2e36b7de0",
   "metadata": {
    "tags": []
   },
   "outputs": [
    {
     "data": {
      "text/plain": [
       "ID                                   0\n",
       "Gender                               0\n",
       "Customer Type                        0\n",
       "Age                                  0\n",
       "Type of Travel                       0\n",
       "Flight Distance                      0\n",
       "Inflight wifi service                0\n",
       "Departure/Arrival time convenient    0\n",
       "Ease of Online booking               0\n",
       "Gate location                        0\n",
       "Food and drink                       0\n",
       "Online boarding                      0\n",
       "Seat comfort                         0\n",
       "Inflight entertainment               0\n",
       "On-board service                     0\n",
       "Leg room service                     0\n",
       "Baggage handling                     0\n",
       "Checkin service                      0\n",
       "Inflight service                     0\n",
       "Cleanliness                          0\n",
       "Departure Delay in Minutes           0\n",
       "Arrival Delay in Minutes             0\n",
       "Business                             0\n",
       "Eco                                  0\n",
       "Eco Plus                             0\n",
       "dtype: int64"
      ]
     },
     "execution_count": 164,
     "metadata": {},
     "output_type": "execute_result"
    }
   ],
   "source": [
    "dfX.isna().sum()"
   ]
  },
  {
   "cell_type": "code",
   "execution_count": 146,
   "id": "8a801aeb-90eb-46e7-8efa-2a818aaecd11",
   "metadata": {
    "tags": []
   },
   "outputs": [
    {
     "name": "stdout",
     "output_type": "stream",
     "text": [
      "Gender\n",
      "Female   15.0614\n",
      "Male     15.1499\n",
      "Name: Arrival Delay in Minutes, dtype: float64\n",
      "------------------------------\n",
      "Customer Type\n",
      "Loyal Customer      15.0020\n",
      "disloyal Customer   15.5653\n",
      "Name: Arrival Delay in Minutes, dtype: float64\n",
      "------------------------------\n",
      "Type of Travel\n",
      "Business travel   15.3216\n",
      "Personal Travel   14.6217\n",
      "Name: Arrival Delay in Minutes, dtype: float64\n",
      "------------------------------\n",
      "Class\n",
      "Business   14.5041\n",
      "Eco        15.5750\n",
      "Eco Plus   16.1626\n",
      "Name: Arrival Delay in Minutes, dtype: float64\n",
      "------------------------------\n"
     ]
    }
   ],
   "source": [
    "for feature in features:\n",
    "    print(dfX.groupby(feature)['Arrival Delay in Minutes'].mean())\n",
    "    print('-' * 30)"
   ]
  },
  {
   "cell_type": "code",
   "execution_count": 147,
   "id": "a6897446-4b4f-427a-9d32-d8055e2b37b0",
   "metadata": {
    "tags": []
   },
   "outputs": [
    {
     "data": {
      "text/plain": [
       "14.50408455533816"
      ]
     },
     "execution_count": 147,
     "metadata": {},
     "output_type": "execute_result"
    }
   ],
   "source": [
    "dfX.loc[dfX['Class'] == 'Business', 'Arrival Delay in Minutes'].mean()"
   ]
  },
  {
   "cell_type": "code",
   "execution_count": 148,
   "id": "b724a1d9-f33b-468f-a337-0726d7694d60",
   "metadata": {
    "tags": []
   },
   "outputs": [],
   "source": [
    "dfX.loc[dfX['Class'] == 'Business', 'Arrival Delay in Minutes'] = \\\n",
    "dfX.loc[dfX['Class'] == 'Business', 'Arrival Delay in Minutes'].fillna( \\\n",
    "  dfX.loc[dfX['Class'] == 'Business', 'Arrival Delay in Minutes'].mean())"
   ]
  },
  {
   "cell_type": "code",
   "execution_count": 149,
   "id": "41d4a4d4-35bc-4ef0-9307-da9cbfeb37ff",
   "metadata": {
    "tags": []
   },
   "outputs": [],
   "source": [
    "dfX.loc[dfX['Class'] == 'Eco', 'Arrival Delay in Minutes'] = \\\n",
    "dfX.loc[dfX['Class'] == 'Eco', 'Arrival Delay in Minutes'].fillna( \\\n",
    "  dfX.loc[dfX['Class'] == 'Eco', 'Arrival Delay in Minutes'].mean())"
   ]
  },
  {
   "cell_type": "code",
   "execution_count": 150,
   "id": "4d3dc037-746a-4505-82be-3e0103980509",
   "metadata": {
    "tags": []
   },
   "outputs": [],
   "source": [
    "dfX.loc[dfX['Class'] == 'Eco Plus', 'Arrival Delay in Minutes'] = \\\n",
    "dfX.loc[dfX['Class'] == 'Eco Plus', 'Arrival Delay in Minutes'].fillna( \\\n",
    "  dfX.loc[dfX['Class'] == 'Eco Plus', 'Arrival Delay in Minutes'].mean())"
   ]
  },
  {
   "cell_type": "code",
   "execution_count": 151,
   "id": "66bf9468-6e11-4329-b520-4b4b41daaecc",
   "metadata": {
    "tags": []
   },
   "outputs": [
    {
     "name": "stdout",
     "output_type": "stream",
     "text": [
      "Gender               - ['Female' 'Male']\n",
      "Customer Type        - ['Loyal Customer' 'disloyal Customer']\n",
      "Type of Travel       - ['Personal Travel' 'Business travel']\n",
      "Class                - ['Eco' 'Business' 'Eco Plus']\n"
     ]
    }
   ],
   "source": [
    "for feature in features:\n",
    "    print(f'{feature:20s} - {dfX[feature].unique()}')"
   ]
  },
  {
   "cell_type": "code",
   "execution_count": 152,
   "id": "49833c5d-f486-4645-bd32-3fffb878dc01",
   "metadata": {
    "tags": []
   },
   "outputs": [],
   "source": [
    "dfX['Gender'] = dfX['Gender'].astype('category').cat.codes"
   ]
  },
  {
   "cell_type": "code",
   "execution_count": 153,
   "id": "3541bde5-549c-49ed-8537-da4226d26cde",
   "metadata": {
    "tags": []
   },
   "outputs": [],
   "source": [
    "dfX['Customer Type'] = LabelEncoder().fit_transform(dfX['Customer Type'])"
   ]
  },
  {
   "cell_type": "code",
   "execution_count": 154,
   "id": "6f6eab46-918d-4f4b-9597-2c749d079fd9",
   "metadata": {
    "tags": []
   },
   "outputs": [],
   "source": [
    "dfX['Type of Travel'] = LabelEncoder().fit_transform(dfX['Type of Travel'])"
   ]
  },
  {
   "cell_type": "code",
   "execution_count": 155,
   "id": "41d2bb04-41b8-47f7-9e4e-134bc38bcd19",
   "metadata": {
    "tags": []
   },
   "outputs": [],
   "source": [
    "temp = pd.get_dummies(dfX['Class'])\n",
    "dfX.drop(columns=['Class'], inplace=True)\n",
    "dfX = pd.concat([dfX, temp], axis=1)"
   ]
  },
  {
   "cell_type": "code",
   "execution_count": 158,
   "id": "33d69bdd-5e53-4feb-adaf-553cbbb32043",
   "metadata": {
    "tags": []
   },
   "outputs": [],
   "source": [
    "Y['satisfaction'] = Y['satisfaction'].replace({'neutral or dissatisfied': 1, 'satisfied':0})"
   ]
  },
  {
   "cell_type": "code",
   "execution_count": 159,
   "id": "496c0746-5ebf-48f9-b543-08f5a7a5d88e",
   "metadata": {
    "tags": []
   },
   "outputs": [],
   "source": [
    "dfXY = pd.merge(dfX, Y, on='ID')"
   ]
  },
  {
   "cell_type": "code",
   "execution_count": 160,
   "id": "5b57e4ad-81be-43cf-955d-59237bfbc03c",
   "metadata": {
    "tags": []
   },
   "outputs": [
    {
     "data": {
      "text/plain": [
       "satisfaction                         1.0000\n",
       "Eco                                  0.4524\n",
       "Type of Travel                       0.4486\n",
       "Customer Type                        0.1900\n",
       "Eco Plus                             0.1043\n",
       "Arrival Delay in Minutes             0.0600\n",
       "Departure/Arrival time convenient    0.0535\n",
       "Departure Delay in Minutes           0.0531\n",
       "Gate location                        0.0020\n",
       "ID                                  -0.0054\n",
       "Gender                              -0.0097\n",
       "Age                                 -0.1390\n",
       "Ease of Online booking              -0.1694\n",
       "Food and drink                      -0.2107\n",
       "Checkin service                     -0.2350\n",
       "Inflight service                    -0.2449\n",
       "Baggage handling                    -0.2467\n",
       "Inflight wifi service               -0.2812\n",
       "Flight Distance                     -0.3004\n",
       "Cleanliness                         -0.3061\n",
       "Leg room service                    -0.3127\n",
       "On-board service                    -0.3233\n",
       "Seat comfort                        -0.3530\n",
       "Inflight entertainment              -0.3998\n",
       "Online boarding                     -0.5041\n",
       "Business                            -0.5044\n",
       "Name: satisfaction, dtype: float64"
      ]
     },
     "execution_count": 160,
     "metadata": {},
     "output_type": "execute_result"
    }
   ],
   "source": [
    "dfXY.corr(numeric_only=True)['satisfaction'].sort_values(ascending=False)"
   ]
  },
  {
   "cell_type": "markdown",
   "id": "acc48706-d946-4c91-9b6a-df0f6db4a8ca",
   "metadata": {},
   "source": [
    "#### Feature Engineering"
   ]
  },
  {
   "cell_type": "code",
   "execution_count": 166,
   "id": "7964e08c-4ebb-4240-9e29-8c75503f0d8b",
   "metadata": {
    "tags": []
   },
   "outputs": [],
   "source": [
    "x_features = ['Gender', 'Customer Type', 'Age', 'Type of Travel','Flight Distance', 'Inflight wifi service', \\\n",
    "              'Departure/Arrival time convenient', 'Ease of Online booking','Gate location', 'Food and drink', \\\n",
    "              'Online boarding', 'Seat comfort','Inflight entertainment', 'On-board service', 'Leg room service', \\\n",
    "              'Baggage handling', 'Checkin service', 'Inflight service','Cleanliness', 'Departure Delay in Minutes', \\\n",
    "              'Arrival Delay in Minutes', 'Business', 'Eco', 'Eco Plus']\n",
    "y_feature = 'satisfaction'"
   ]
  },
  {
   "cell_type": "markdown",
   "id": "e54deec8-b7a2-4c34-9035-938e894ca2c4",
   "metadata": {},
   "source": [
    "#### 모델링"
   ]
  },
  {
   "cell_type": "code",
   "execution_count": 167,
   "id": "2222895f-9cf1-42b1-9bd2-344e57ae7b58",
   "metadata": {
    "tags": []
   },
   "outputs": [
    {
     "name": "stdout",
     "output_type": "stream",
     "text": [
      "[(83123, 23), (83123, 2), (20781, 23)]\n",
      "[(83123, 24), (83123,), (20781, 24)]\n"
     ]
    }
   ],
   "source": [
    "XF, X_submissionF, YF = get_classification_model_data(dfX, Y, len(X), x_features, y_feature, is_normalized=False)\n",
    "\n",
    "print([x.shape for x in [X, Y, X_submission]])\n",
    "print([x.shape for x in [XF, YF, X_submissionF]])"
   ]
  },
  {
   "cell_type": "code",
   "execution_count": 168,
   "id": "fc4f231b-3a8b-4262-af96-6fc512fa6f23",
   "metadata": {
    "tags": []
   },
   "outputs": [
    {
     "name": "stdout",
     "output_type": "stream",
     "text": [
      "[(58186, 24), (58186,), (24937, 24), (24937,)]\n"
     ]
    }
   ],
   "source": [
    "xtrain, xtest, ytrain, ytest = train_test_split(XF, YF, test_size=0.3, random_state=1234, stratify=YF)\n",
    "\n",
    "print([x.shape for x in [xtrain, ytrain, xtest, ytest]])"
   ]
  },
  {
   "cell_type": "code",
   "execution_count": 176,
   "id": "7abfc884-a1ca-4ebb-a392-92fea0071925",
   "metadata": {
    "tags": []
   },
   "outputs": [],
   "source": [
    "result = compare_classification_model(xtrain, xtest, ytrain, ytest, is_binary_model=True)"
   ]
  },
  {
   "cell_type": "code",
   "execution_count": 178,
   "id": "2e1f480b-0a1b-46a5-bff0-90b59688e267",
   "metadata": {
    "tags": []
   },
   "outputs": [
    {
     "data": {
      "text/html": [
       "<div>\n",
       "<style scoped>\n",
       "    .dataframe tbody tr th:only-of-type {\n",
       "        vertical-align: middle;\n",
       "    }\n",
       "\n",
       "    .dataframe tbody tr th {\n",
       "        vertical-align: top;\n",
       "    }\n",
       "\n",
       "    .dataframe thead th {\n",
       "        text-align: right;\n",
       "    }\n",
       "</style>\n",
       "<table border=\"1\" class=\"dataframe\">\n",
       "  <thead>\n",
       "    <tr style=\"text-align: right;\">\n",
       "      <th></th>\n",
       "      <th>Train_Accuracy</th>\n",
       "      <th>Test_Accuracy</th>\n",
       "      <th>DIFF</th>\n",
       "      <th>ROC_AUC</th>\n",
       "    </tr>\n",
       "  </thead>\n",
       "  <tbody>\n",
       "    <tr>\n",
       "      <th>RandomForestClassifier</th>\n",
       "      <td>1.0000</td>\n",
       "      <td>0.9623</td>\n",
       "      <td>0.0377</td>\n",
       "      <td>0.9935</td>\n",
       "    </tr>\n",
       "    <tr>\n",
       "      <th>XGBClassifier</th>\n",
       "      <td>0.9802</td>\n",
       "      <td>0.9609</td>\n",
       "      <td>0.0192</td>\n",
       "      <td>0.9945</td>\n",
       "    </tr>\n",
       "    <tr>\n",
       "      <th>DecisionTreeClassifier</th>\n",
       "      <td>1.0000</td>\n",
       "      <td>0.9425</td>\n",
       "      <td>0.0575</td>\n",
       "      <td>0.9423</td>\n",
       "    </tr>\n",
       "    <tr>\n",
       "      <th>LogisticRegression</th>\n",
       "      <td>0.8763</td>\n",
       "      <td>0.8734</td>\n",
       "      <td>0.0030</td>\n",
       "      <td>0.9266</td>\n",
       "    </tr>\n",
       "    <tr>\n",
       "      <th>KNeighborsClassifier</th>\n",
       "      <td>0.8231</td>\n",
       "      <td>0.7354</td>\n",
       "      <td>0.0878</td>\n",
       "      <td>0.7872</td>\n",
       "    </tr>\n",
       "  </tbody>\n",
       "</table>\n",
       "</div>"
      ],
      "text/plain": [
       "                        Train_Accuracy  Test_Accuracy   DIFF  ROC_AUC\n",
       "RandomForestClassifier          1.0000         0.9623 0.0377   0.9935\n",
       "XGBClassifier                   0.9802         0.9609 0.0192   0.9945\n",
       "DecisionTreeClassifier          1.0000         0.9425 0.0575   0.9423\n",
       "LogisticRegression              0.8763         0.8734 0.0030   0.9266\n",
       "KNeighborsClassifier            0.8231         0.7354 0.0878   0.7872"
      ]
     },
     "execution_count": 178,
     "metadata": {},
     "output_type": "execute_result"
    }
   ],
   "source": [
    "result.sort_values(['Test_Accuracy', 'ROC_AUC'], ascending=[False, False])"
   ]
  },
  {
   "cell_type": "code",
   "execution_count": 180,
   "id": "e19e9caa-380f-4882-a174-ffa2c7b7be72",
   "metadata": {
    "tags": []
   },
   "outputs": [
    {
     "name": "stdout",
     "output_type": "stream",
     "text": [
      "Train_Accuracy   1.0000\n",
      "Test_Accuracy    0.9623\n",
      "ROC_AUC          0.9935\n",
      "dtype: float64\n"
     ]
    }
   ],
   "source": [
    "model = RandomForestClassifier(random_state=1234).fit(xtrain, ytrain)\n",
    "print(get_classification_model_score(model, xtrain, xtest, ytrain, ytest, is_binary_model=True))"
   ]
  },
  {
   "cell_type": "code",
   "execution_count": 194,
   "id": "c14f3b5a-5288-40f0-8fdf-1f35d610d4bc",
   "metadata": {
    "tags": []
   },
   "outputs": [
    {
     "data": {
      "text/html": [
       "<div>\n",
       "<style scoped>\n",
       "    .dataframe tbody tr th:only-of-type {\n",
       "        vertical-align: middle;\n",
       "    }\n",
       "\n",
       "    .dataframe tbody tr th {\n",
       "        vertical-align: top;\n",
       "    }\n",
       "\n",
       "    .dataframe thead th {\n",
       "        text-align: right;\n",
       "    }\n",
       "</style>\n",
       "<table border=\"1\" class=\"dataframe\">\n",
       "  <thead>\n",
       "    <tr style=\"text-align: right;\">\n",
       "      <th></th>\n",
       "      <th>Importance</th>\n",
       "    </tr>\n",
       "  </thead>\n",
       "  <tbody>\n",
       "    <tr>\n",
       "      <th>Online boarding</th>\n",
       "      <td>0.1519</td>\n",
       "    </tr>\n",
       "    <tr>\n",
       "      <th>Inflight wifi service</th>\n",
       "      <td>0.1368</td>\n",
       "    </tr>\n",
       "    <tr>\n",
       "      <th>Type of Travel</th>\n",
       "      <td>0.0858</td>\n",
       "    </tr>\n",
       "    <tr>\n",
       "      <th>Business</th>\n",
       "      <td>0.0828</td>\n",
       "    </tr>\n",
       "    <tr>\n",
       "      <th>Inflight entertainment</th>\n",
       "      <td>0.0524</td>\n",
       "    </tr>\n",
       "    <tr>\n",
       "      <th>Eco</th>\n",
       "      <td>0.0502</td>\n",
       "    </tr>\n",
       "    <tr>\n",
       "      <th>Seat comfort</th>\n",
       "      <td>0.0498</td>\n",
       "    </tr>\n",
       "    <tr>\n",
       "      <th>Ease of Online booking</th>\n",
       "      <td>0.0395</td>\n",
       "    </tr>\n",
       "    <tr>\n",
       "      <th>Flight Distance</th>\n",
       "      <td>0.0377</td>\n",
       "    </tr>\n",
       "    <tr>\n",
       "      <th>Leg room service</th>\n",
       "      <td>0.0351</td>\n",
       "    </tr>\n",
       "    <tr>\n",
       "      <th>On-board service</th>\n",
       "      <td>0.0336</td>\n",
       "    </tr>\n",
       "    <tr>\n",
       "      <th>Age</th>\n",
       "      <td>0.0333</td>\n",
       "    </tr>\n",
       "    <tr>\n",
       "      <th>Customer Type</th>\n",
       "      <td>0.0321</td>\n",
       "    </tr>\n",
       "    <tr>\n",
       "      <th>Cleanliness</th>\n",
       "      <td>0.0257</td>\n",
       "    </tr>\n",
       "    <tr>\n",
       "      <th>Inflight service</th>\n",
       "      <td>0.0256</td>\n",
       "    </tr>\n",
       "    <tr>\n",
       "      <th>Checkin service</th>\n",
       "      <td>0.0246</td>\n",
       "    </tr>\n",
       "    <tr>\n",
       "      <th>Baggage handling</th>\n",
       "      <td>0.0238</td>\n",
       "    </tr>\n",
       "    <tr>\n",
       "      <th>Departure/Arrival time convenient</th>\n",
       "      <td>0.0170</td>\n",
       "    </tr>\n",
       "    <tr>\n",
       "      <th>Gate location</th>\n",
       "      <td>0.0157</td>\n",
       "    </tr>\n",
       "    <tr>\n",
       "      <th>Arrival Delay in Minutes</th>\n",
       "      <td>0.0134</td>\n",
       "    </tr>\n",
       "    <tr>\n",
       "      <th>Food and drink</th>\n",
       "      <td>0.0129</td>\n",
       "    </tr>\n",
       "    <tr>\n",
       "      <th>Departure Delay in Minutes</th>\n",
       "      <td>0.0116</td>\n",
       "    </tr>\n",
       "    <tr>\n",
       "      <th>Gender</th>\n",
       "      <td>0.0047</td>\n",
       "    </tr>\n",
       "    <tr>\n",
       "      <th>Eco Plus</th>\n",
       "      <td>0.0040</td>\n",
       "    </tr>\n",
       "  </tbody>\n",
       "</table>\n",
       "</div>"
      ],
      "text/plain": [
       "                                   Importance\n",
       "Online boarding                        0.1519\n",
       "Inflight wifi service                  0.1368\n",
       "Type of Travel                         0.0858\n",
       "Business                               0.0828\n",
       "Inflight entertainment                 0.0524\n",
       "Eco                                    0.0502\n",
       "Seat comfort                           0.0498\n",
       "Ease of Online booking                 0.0395\n",
       "Flight Distance                        0.0377\n",
       "Leg room service                       0.0351\n",
       "On-board service                       0.0336\n",
       "Age                                    0.0333\n",
       "Customer Type                          0.0321\n",
       "Cleanliness                            0.0257\n",
       "Inflight service                       0.0256\n",
       "Checkin service                        0.0246\n",
       "Baggage handling                       0.0238\n",
       "Departure/Arrival time convenient      0.0170\n",
       "Gate location                          0.0157\n",
       "Arrival Delay in Minutes               0.0134\n",
       "Food and drink                         0.0129\n",
       "Departure Delay in Minutes             0.0116\n",
       "Gender                                 0.0047\n",
       "Eco Plus                               0.0040"
      ]
     },
     "execution_count": 194,
     "metadata": {},
     "output_type": "execute_result"
    }
   ],
   "source": [
    "pd.DataFrame(model.feature_importances_, index=model.feature_names_in_, columns=['Importance']) \\\n",
    "   .sort_values('Importance', ascending=False)"
   ]
  },
  {
   "cell_type": "code",
   "execution_count": 182,
   "id": "fd8943fa-6be6-495a-b461-278ad522703c",
   "metadata": {
    "tags": []
   },
   "outputs": [],
   "source": [
    "Y_pred = model.predict_proba(X_submissionF)[:,1]\n",
    "\n",
    "submission = pd.DataFrame({'ID': X_submission['ID'], \\\n",
    "                           'satisfaction': Y_pred})\n",
    "\n",
    "submission.to_csv('./submission.csv', index=False)"
   ]
  },
  {
   "cell_type": "markdown",
   "id": "662178bd-eb17-4346-bfbd-4415156ae02b",
   "metadata": {},
   "source": [
    "#### 실제값과 비교 (ROC AUC Score)"
   ]
  },
  {
   "cell_type": "code",
   "execution_count": 183,
   "id": "36102d9f-aafc-4045-90e5-faf354cd6fa1",
   "metadata": {
    "tags": []
   },
   "outputs": [],
   "source": [
    "Y_actual = Y_submission\n",
    "Y_predict = pd.read_csv('./submission.csv')"
   ]
  },
  {
   "cell_type": "code",
   "execution_count": 187,
   "id": "80098d96-9b3e-4135-ab4f-c36b25d1d344",
   "metadata": {
    "tags": []
   },
   "outputs": [],
   "source": [
    "Y_actual['satisfaction'] = Y_actual['satisfaction'].replace({'neutral or dissatisfied': 1, 'satisfied':0})"
   ]
  },
  {
   "cell_type": "code",
   "execution_count": 188,
   "id": "9e8a7463-884f-4f0c-8964-8f24df38d336",
   "metadata": {
    "tags": []
   },
   "outputs": [
    {
     "data": {
      "text/html": [
       "<div>\n",
       "<style scoped>\n",
       "    .dataframe tbody tr th:only-of-type {\n",
       "        vertical-align: middle;\n",
       "    }\n",
       "\n",
       "    .dataframe tbody tr th {\n",
       "        vertical-align: top;\n",
       "    }\n",
       "\n",
       "    .dataframe thead th {\n",
       "        text-align: right;\n",
       "    }\n",
       "</style>\n",
       "<table border=\"1\" class=\"dataframe\">\n",
       "  <thead>\n",
       "    <tr style=\"text-align: right;\">\n",
       "      <th></th>\n",
       "      <th>ID</th>\n",
       "      <th>satisfaction</th>\n",
       "    </tr>\n",
       "  </thead>\n",
       "  <tbody>\n",
       "    <tr>\n",
       "      <th>0</th>\n",
       "      <td>1</td>\n",
       "      <td>1</td>\n",
       "    </tr>\n",
       "    <tr>\n",
       "      <th>1</th>\n",
       "      <td>16</td>\n",
       "      <td>1</td>\n",
       "    </tr>\n",
       "  </tbody>\n",
       "</table>\n",
       "</div>"
      ],
      "text/plain": [
       "   ID  satisfaction\n",
       "0   1             1\n",
       "1  16             1"
      ]
     },
     "execution_count": 188,
     "metadata": {},
     "output_type": "execute_result"
    }
   ],
   "source": [
    "Y_actual.head(2)"
   ]
  },
  {
   "cell_type": "code",
   "execution_count": 189,
   "id": "92088e4c-e57b-414a-944d-a0738f1e28b8",
   "metadata": {
    "tags": []
   },
   "outputs": [
    {
     "data": {
      "text/html": [
       "<div>\n",
       "<style scoped>\n",
       "    .dataframe tbody tr th:only-of-type {\n",
       "        vertical-align: middle;\n",
       "    }\n",
       "\n",
       "    .dataframe tbody tr th {\n",
       "        vertical-align: top;\n",
       "    }\n",
       "\n",
       "    .dataframe thead th {\n",
       "        text-align: right;\n",
       "    }\n",
       "</style>\n",
       "<table border=\"1\" class=\"dataframe\">\n",
       "  <thead>\n",
       "    <tr style=\"text-align: right;\">\n",
       "      <th></th>\n",
       "      <th>ID</th>\n",
       "      <th>satisfaction</th>\n",
       "    </tr>\n",
       "  </thead>\n",
       "  <tbody>\n",
       "    <tr>\n",
       "      <th>0</th>\n",
       "      <td>1</td>\n",
       "      <td>0.8200</td>\n",
       "    </tr>\n",
       "    <tr>\n",
       "      <th>1</th>\n",
       "      <td>16</td>\n",
       "      <td>0.9700</td>\n",
       "    </tr>\n",
       "  </tbody>\n",
       "</table>\n",
       "</div>"
      ],
      "text/plain": [
       "   ID  satisfaction\n",
       "0   1        0.8200\n",
       "1  16        0.9700"
      ]
     },
     "execution_count": 189,
     "metadata": {},
     "output_type": "execute_result"
    }
   ],
   "source": [
    "Y_predict.head(2)"
   ]
  },
  {
   "cell_type": "code",
   "execution_count": 190,
   "id": "3fd98da9-a675-4678-84db-2a963d5f9915",
   "metadata": {
    "tags": []
   },
   "outputs": [
    {
     "data": {
      "text/plain": [
       "0.9991164455174786"
      ]
     },
     "execution_count": 190,
     "metadata": {},
     "output_type": "execute_result"
    }
   ],
   "source": [
    "roc_auc_score(Y_actual[y_feature], Y_predict[y_feature])"
   ]
  },
  {
   "cell_type": "markdown",
   "id": "ff7e29ea",
   "metadata": {},
   "source": [
    "### 수질 음용성 여부 데이터"
   ]
  },
  {
   "cell_type": "markdown",
   "id": "fa92e302",
   "metadata": {},
   "source": [
    "```{attention} \n",
    "데이터 설명 : 수질 음용성 여부 (Potablillity 컬럼 : 0 ,1 )     \n",
    "x_train: https://raw.githubusercontent.com/Datamanim/datarepo/main/waters/x_train.csv    \n",
    "y_train: https://raw.githubusercontent.com/Datamanim/datarepo/main/waters/y_train.csv  \n",
    "x_test: https://raw.githubusercontent.com/Datamanim/datarepo/main/waters/x_test.csv   \n",
    "x_label(평가용) : https://raw.githubusercontent.com/Datamanim/datarepo/main/waters/y_test.csv    \n",
    "데이터 출처 :https://www.kaggle.com/adityakadiwal/water-potability    \n",
    "```  "
   ]
  },
  {
   "cell_type": "code",
   "execution_count": 197,
   "id": "e6e9b330",
   "metadata": {
    "ExecuteTime": {
     "end_time": "2022-05-01T10:27:35.463092Z",
     "start_time": "2022-05-01T10:27:33.986275Z"
    },
    "tags": []
   },
   "outputs": [
    {
     "data": {
      "text/html": [
       "<div>\n",
       "<style scoped>\n",
       "    .dataframe tbody tr th:only-of-type {\n",
       "        vertical-align: middle;\n",
       "    }\n",
       "\n",
       "    .dataframe tbody tr th {\n",
       "        vertical-align: top;\n",
       "    }\n",
       "\n",
       "    .dataframe thead th {\n",
       "        text-align: right;\n",
       "    }\n",
       "</style>\n",
       "<table border=\"1\" class=\"dataframe\">\n",
       "  <thead>\n",
       "    <tr style=\"text-align: right;\">\n",
       "      <th></th>\n",
       "      <th>ID</th>\n",
       "      <th>ph</th>\n",
       "      <th>Hardness</th>\n",
       "      <th>Solids</th>\n",
       "      <th>Chloramines</th>\n",
       "      <th>Sulfate</th>\n",
       "      <th>Conductivity</th>\n",
       "      <th>Organic_carbon</th>\n",
       "      <th>Trihalomethanes</th>\n",
       "      <th>Turbidity</th>\n",
       "    </tr>\n",
       "  </thead>\n",
       "  <tbody>\n",
       "    <tr>\n",
       "      <th>0</th>\n",
       "      <td>0</td>\n",
       "      <td>8.6627</td>\n",
       "      <td>173.5319</td>\n",
       "      <td>20,333.0795</td>\n",
       "      <td>5.6364</td>\n",
       "      <td>439.7879</td>\n",
       "      <td>459.6331</td>\n",
       "      <td>16.2833</td>\n",
       "      <td>89.9243</td>\n",
       "      <td>5.1201</td>\n",
       "    </tr>\n",
       "    <tr>\n",
       "      <th>1</th>\n",
       "      <td>1</td>\n",
       "      <td>NaN</td>\n",
       "      <td>226.2708</td>\n",
       "      <td>15,380.1241</td>\n",
       "      <td>6.6615</td>\n",
       "      <td>NaN</td>\n",
       "      <td>392.5582</td>\n",
       "      <td>14.0831</td>\n",
       "      <td>50.2864</td>\n",
       "      <td>4.5169</td>\n",
       "    </tr>\n",
       "    <tr>\n",
       "      <th>2</th>\n",
       "      <td>2</td>\n",
       "      <td>7.5838</td>\n",
       "      <td>217.2833</td>\n",
       "      <td>36,343.4071</td>\n",
       "      <td>8.5327</td>\n",
       "      <td>375.9644</td>\n",
       "      <td>393.8777</td>\n",
       "      <td>17.4423</td>\n",
       "      <td>77.7223</td>\n",
       "      <td>3.6423</td>\n",
       "    </tr>\n",
       "    <tr>\n",
       "      <th>3</th>\n",
       "      <td>3</td>\n",
       "      <td>6.5848</td>\n",
       "      <td>182.3755</td>\n",
       "      <td>24,723.1063</td>\n",
       "      <td>6.2389</td>\n",
       "      <td>NaN</td>\n",
       "      <td>414.3508</td>\n",
       "      <td>17.5826</td>\n",
       "      <td>78.2137</td>\n",
       "      <td>4.4041</td>\n",
       "    </tr>\n",
       "    <tr>\n",
       "      <th>4</th>\n",
       "      <td>4</td>\n",
       "      <td>7.1799</td>\n",
       "      <td>180.8542</td>\n",
       "      <td>10,859.5538</td>\n",
       "      <td>8.2635</td>\n",
       "      <td>341.3025</td>\n",
       "      <td>358.0563</td>\n",
       "      <td>12.0653</td>\n",
       "      <td>83.3299</td>\n",
       "      <td>3.8784</td>\n",
       "    </tr>\n",
       "  </tbody>\n",
       "</table>\n",
       "</div>"
      ],
      "text/plain": [
       "   ID     ph  Hardness      Solids  Chloramines  Sulfate  Conductivity   \n",
       "0   0 8.6627  173.5319 20,333.0795       5.6364 439.7879      459.6331  \\\n",
       "1   1    NaN  226.2708 15,380.1241       6.6615      NaN      392.5582   \n",
       "2   2 7.5838  217.2833 36,343.4071       8.5327 375.9644      393.8777   \n",
       "3   3 6.5848  182.3755 24,723.1063       6.2389      NaN      414.3508   \n",
       "4   4 7.1799  180.8542 10,859.5538       8.2635 341.3025      358.0563   \n",
       "\n",
       "   Organic_carbon  Trihalomethanes  Turbidity  \n",
       "0         16.2833          89.9243     5.1201  \n",
       "1         14.0831          50.2864     4.5169  \n",
       "2         17.4423          77.7223     3.6423  \n",
       "3         17.5826          78.2137     4.4041  \n",
       "4         12.0653          83.3299     3.8784  "
      ]
     },
     "metadata": {},
     "output_type": "display_data"
    },
    {
     "data": {
      "text/html": [
       "<div>\n",
       "<style scoped>\n",
       "    .dataframe tbody tr th:only-of-type {\n",
       "        vertical-align: middle;\n",
       "    }\n",
       "\n",
       "    .dataframe tbody tr th {\n",
       "        vertical-align: top;\n",
       "    }\n",
       "\n",
       "    .dataframe thead th {\n",
       "        text-align: right;\n",
       "    }\n",
       "</style>\n",
       "<table border=\"1\" class=\"dataframe\">\n",
       "  <thead>\n",
       "    <tr style=\"text-align: right;\">\n",
       "      <th></th>\n",
       "      <th>ID</th>\n",
       "      <th>Potability</th>\n",
       "    </tr>\n",
       "  </thead>\n",
       "  <tbody>\n",
       "    <tr>\n",
       "      <th>0</th>\n",
       "      <td>0</td>\n",
       "      <td>0</td>\n",
       "    </tr>\n",
       "    <tr>\n",
       "      <th>1</th>\n",
       "      <td>1</td>\n",
       "      <td>1</td>\n",
       "    </tr>\n",
       "    <tr>\n",
       "      <th>2</th>\n",
       "      <td>2</td>\n",
       "      <td>0</td>\n",
       "    </tr>\n",
       "    <tr>\n",
       "      <th>3</th>\n",
       "      <td>3</td>\n",
       "      <td>0</td>\n",
       "    </tr>\n",
       "    <tr>\n",
       "      <th>4</th>\n",
       "      <td>4</td>\n",
       "      <td>0</td>\n",
       "    </tr>\n",
       "  </tbody>\n",
       "</table>\n",
       "</div>"
      ],
      "text/plain": [
       "   ID  Potability\n",
       "0   0           0\n",
       "1   1           1\n",
       "2   2           0\n",
       "3   3           0\n",
       "4   4           0"
      ]
     },
     "metadata": {},
     "output_type": "display_data"
    }
   ],
   "source": [
    "import pandas as pd\n",
    "#데이터 로드\n",
    "X = pd.read_csv(\"https://raw.githubusercontent.com/Datamanim/datarepo/main/waters/x_train.csv\")\n",
    "Y = pd.read_csv(\"https://raw.githubusercontent.com/Datamanim/datarepo/main/waters/y_train.csv\")\n",
    "X_submission = pd.read_csv(\"https://raw.githubusercontent.com/Datamanim/datarepo/main/waters/x_test.csv\")\n",
    "Y_actual = pd.read_csv(\"https://raw.githubusercontent.com/Datamanim/datarepo/main/waters/y_test.csv\")\n",
    "\n",
    "display(X.head())\n",
    "display(Y.head())"
   ]
  },
  {
   "cell_type": "markdown",
   "id": "354b3299-1422-46e6-b7cd-e2f2e6fd5346",
   "metadata": {},
   "source": [
    "#### EDA"
   ]
  },
  {
   "cell_type": "code",
   "execution_count": 198,
   "id": "6058d850-5931-42d1-9ce2-16a29118a67b",
   "metadata": {
    "tags": []
   },
   "outputs": [
    {
     "name": "stdout",
     "output_type": "stream",
     "text": [
      "<class 'pandas.core.frame.DataFrame'>\n",
      "RangeIndex: 2620 entries, 0 to 2619\n",
      "Data columns (total 10 columns):\n",
      " #   Column           Non-Null Count  Dtype  \n",
      "---  ------           --------------  -----  \n",
      " 0   ID               2620 non-null   int64  \n",
      " 1   ph               2225 non-null   float64\n",
      " 2   Hardness         2620 non-null   float64\n",
      " 3   Solids           2620 non-null   float64\n",
      " 4   Chloramines      2620 non-null   float64\n",
      " 5   Sulfate          2003 non-null   float64\n",
      " 6   Conductivity     2620 non-null   float64\n",
      " 7   Organic_carbon   2620 non-null   float64\n",
      " 8   Trihalomethanes  2488 non-null   float64\n",
      " 9   Turbidity        2620 non-null   float64\n",
      "dtypes: float64(9), int64(1)\n",
      "memory usage: 204.8 KB\n"
     ]
    }
   ],
   "source": [
    "X.info()"
   ]
  },
  {
   "cell_type": "code",
   "execution_count": 199,
   "id": "de046b43-b6d1-44c4-8319-00b131b99d3d",
   "metadata": {
    "tags": []
   },
   "outputs": [
    {
     "name": "stdout",
     "output_type": "stream",
     "text": [
      "<class 'pandas.core.frame.DataFrame'>\n",
      "RangeIndex: 656 entries, 0 to 655\n",
      "Data columns (total 10 columns):\n",
      " #   Column           Non-Null Count  Dtype  \n",
      "---  ------           --------------  -----  \n",
      " 0   ID               656 non-null    int64  \n",
      " 1   ph               549 non-null    float64\n",
      " 2   Hardness         656 non-null    float64\n",
      " 3   Solids           656 non-null    float64\n",
      " 4   Chloramines      656 non-null    float64\n",
      " 5   Sulfate          504 non-null    float64\n",
      " 6   Conductivity     656 non-null    float64\n",
      " 7   Organic_carbon   656 non-null    float64\n",
      " 8   Trihalomethanes  618 non-null    float64\n",
      " 9   Turbidity        656 non-null    float64\n",
      "dtypes: float64(9), int64(1)\n",
      "memory usage: 51.4 KB\n"
     ]
    }
   ],
   "source": [
    "X_submission.info()"
   ]
  },
  {
   "cell_type": "code",
   "execution_count": 200,
   "id": "e46dd213-f30b-4c9b-bd35-9b9bf9101157",
   "metadata": {
    "tags": []
   },
   "outputs": [
    {
     "name": "stdout",
     "output_type": "stream",
     "text": [
      "<class 'pandas.core.frame.DataFrame'>\n",
      "RangeIndex: 2620 entries, 0 to 2619\n",
      "Data columns (total 2 columns):\n",
      " #   Column      Non-Null Count  Dtype\n",
      "---  ------      --------------  -----\n",
      " 0   ID          2620 non-null   int64\n",
      " 1   Potability  2620 non-null   int64\n",
      "dtypes: int64(2)\n",
      "memory usage: 41.1 KB\n"
     ]
    }
   ],
   "source": [
    "Y.info()"
   ]
  },
  {
   "cell_type": "code",
   "execution_count": 201,
   "id": "bdabfbbb-85de-4529-b570-ec424cc9fbc1",
   "metadata": {
    "tags": []
   },
   "outputs": [
    {
     "data": {
      "text/plain": [
       "Index([], dtype='object')"
      ]
     },
     "execution_count": 201,
     "metadata": {},
     "output_type": "execute_result"
    }
   ],
   "source": [
    "X.select_dtypes(include='object').columns"
   ]
  },
  {
   "cell_type": "code",
   "execution_count": 204,
   "id": "b7d93499-8a7f-4b58-aa8f-909d7029a5e9",
   "metadata": {
    "tags": []
   },
   "outputs": [],
   "source": [
    "dfXY = pd.merge(X, Y, on='ID')"
   ]
  },
  {
   "cell_type": "code",
   "execution_count": 209,
   "id": "b4247532-e29f-4658-9383-655046dbc8a0",
   "metadata": {
    "tags": []
   },
   "outputs": [
    {
     "data": {
      "text/plain": [
       "Potability         1.0000\n",
       "Solids             0.0190\n",
       "ph                 0.0178\n",
       "Conductivity       0.0141\n",
       "ID                 0.0100\n",
       "Chloramines        0.0055\n",
       "Trihalomethanes    0.0012\n",
       "Turbidity         -0.0043\n",
       "Hardness          -0.0106\n",
       "Organic_carbon    -0.0285\n",
       "Sulfate           -0.0437\n",
       "Name: Potability, dtype: float64"
      ]
     },
     "execution_count": 209,
     "metadata": {},
     "output_type": "execute_result"
    }
   ],
   "source": [
    "dfXY.corr()['Potability'].sort_values(ascending=False)"
   ]
  },
  {
   "cell_type": "markdown",
   "id": "6c1e38f7-e194-4721-8f33-cc325b98d78f",
   "metadata": {},
   "source": [
    "#### 데이터전처리"
   ]
  },
  {
   "cell_type": "code",
   "execution_count": 210,
   "id": "87a7ffe7-ac03-4c9f-a949-248c98a7829a",
   "metadata": {
    "tags": []
   },
   "outputs": [],
   "source": [
    "dfX = pd.concat([X, X_submission], axis=0, ignore_index=False)"
   ]
  },
  {
   "cell_type": "code",
   "execution_count": 230,
   "id": "1a6eee4f-1afe-431d-8c0a-63ffd0cb6f22",
   "metadata": {
    "tags": []
   },
   "outputs": [
    {
     "data": {
      "text/plain": [
       "ID                 0\n",
       "ph                 0\n",
       "Hardness           0\n",
       "Solids             0\n",
       "Chloramines        0\n",
       "Sulfate            0\n",
       "Conductivity       0\n",
       "Organic_carbon     0\n",
       "Trihalomethanes    0\n",
       "Turbidity          0\n",
       "dtype: int64"
      ]
     },
     "execution_count": 230,
     "metadata": {},
     "output_type": "execute_result"
    }
   ],
   "source": [
    "dfX.isna().sum()"
   ]
  },
  {
   "cell_type": "code",
   "execution_count": 212,
   "id": "02322061-2684-49bd-9f4d-e424f2e8ab09",
   "metadata": {
    "tags": []
   },
   "outputs": [
    {
     "data": {
      "text/plain": [
       "ph\n",
       "6.9870    2\n",
       "6.9534    2\n",
       "7.5357    2\n",
       "4.3283    2\n",
       "8.4379    2\n",
       "         ..\n",
       "7.7540    1\n",
       "8.0821    1\n",
       "7.0318    1\n",
       "7.1190    1\n",
       "7.9331    1\n",
       "Name: count, Length: 2225, dtype: int64"
      ]
     },
     "execution_count": 212,
     "metadata": {},
     "output_type": "execute_result"
    }
   ],
   "source": [
    "dfX['ph'].value_counts()"
   ]
  },
  {
   "cell_type": "code",
   "execution_count": 215,
   "id": "af453222-1da9-4be5-bc55-c6b4957703a1",
   "metadata": {
    "tags": []
   },
   "outputs": [
    {
     "data": {
      "text/plain": [
       "(7.059706555058334, 7.109372787913072, 7.025504334993, 7.061845519716819)"
      ]
     },
     "execution_count": 215,
     "metadata": {},
     "output_type": "execute_result"
    }
   ],
   "source": [
    "X['ph'].mean(), X_submission['ph'].mean(), X['ph'].median(), X_submission['ph'].median()"
   ]
  },
  {
   "cell_type": "code",
   "execution_count": 217,
   "id": "905283f5-cfe1-4468-82bc-8d2737d5c6a4",
   "metadata": {
    "tags": []
   },
   "outputs": [],
   "source": [
    "dfX['ph'] = dfX['ph'].fillna(dfX['ph'].mean())"
   ]
  },
  {
   "cell_type": "code",
   "execution_count": 219,
   "id": "07db9db5-19e4-41ad-8b2d-b6bc9b86a773",
   "metadata": {
    "tags": []
   },
   "outputs": [
    {
     "data": {
      "text/plain": [
       "Sulfate\n",
       "380.0782    2\n",
       "371.2838    2\n",
       "311.7949    2\n",
       "316.8202    2\n",
       "327.6975    2\n",
       "           ..\n",
       "336.4660    1\n",
       "395.4960    1\n",
       "351.5733    1\n",
       "418.2472    1\n",
       "331.0872    1\n",
       "Name: count, Length: 2003, dtype: int64"
      ]
     },
     "execution_count": 219,
     "metadata": {},
     "output_type": "execute_result"
    }
   ],
   "source": [
    "dfX['Sulfate'].value_counts()"
   ]
  },
  {
   "cell_type": "code",
   "execution_count": 224,
   "id": "66de1385-86dd-41bb-bb22-9f12f5d0bb47",
   "metadata": {
    "tags": []
   },
   "outputs": [
    {
     "data": {
      "text/plain": [
       "(333.1284518718297,\n",
       " 335.1351121171081,\n",
       " 333.5318650204617,\n",
       " 332.2393594928603,\n",
       " 333.3154288686785,\n",
       " 332.7445191883906)"
      ]
     },
     "execution_count": 224,
     "metadata": {},
     "output_type": "execute_result"
    }
   ],
   "source": [
    "X['Sulfate'].mean(), X_submission['Sulfate'].mean(), dfX['Sulfate'].mean(), \\\n",
    "X['Sulfate'].median(), X_submission['Sulfate'].median(), dfX['Sulfate'].median()"
   ]
  },
  {
   "cell_type": "code",
   "execution_count": 225,
   "id": "4a777162-1d1a-40f9-a36f-0287efcd44aa",
   "metadata": {
    "tags": []
   },
   "outputs": [],
   "source": [
    "dfX['Sulfate'] = dfX['Sulfate'].fillna(dfX['Sulfate'].mean())"
   ]
  },
  {
   "cell_type": "code",
   "execution_count": 227,
   "id": "bf3eb74e-049d-413a-a2df-684d68ea17ed",
   "metadata": {
    "tags": []
   },
   "outputs": [
    {
     "data": {
      "text/plain": [
       "Trihalomethanes\n",
       "54.0609    2\n",
       "44.7890    2\n",
       "35.2212    2\n",
       "62.2977    2\n",
       "46.5046    2\n",
       "          ..\n",
       "88.0490    1\n",
       "45.7213    1\n",
       "70.3684    1\n",
       "86.9797    1\n",
       "55.4041    1\n",
       "Name: count, Length: 2488, dtype: int64"
      ]
     },
     "execution_count": 227,
     "metadata": {},
     "output_type": "execute_result"
    }
   ],
   "source": [
    "dfX['Trihalomethanes'].value_counts()"
   ]
  },
  {
   "cell_type": "code",
   "execution_count": 228,
   "id": "0bff69c1-8e79-49cd-8a15-5003331e9847",
   "metadata": {
    "tags": []
   },
   "outputs": [
    {
     "data": {
      "text/plain": [
       "(66.36231333912505,\n",
       " 66.34604182323474,\n",
       " 66.35907579990412,\n",
       " 66.36358047027184,\n",
       " 65.81625396036834,\n",
       " 66.23041500603713)"
      ]
     },
     "execution_count": 228,
     "metadata": {},
     "output_type": "execute_result"
    }
   ],
   "source": [
    "X['Trihalomethanes'].mean(), X_submission['Trihalomethanes'].mean(), dfX['Trihalomethanes'].mean(), \\\n",
    "X['Trihalomethanes'].median(), X_submission['Trihalomethanes'].median(), dfX['Trihalomethanes'].median()"
   ]
  },
  {
   "cell_type": "code",
   "execution_count": 229,
   "id": "05081545-6926-46f2-83f0-aa9dad0a8244",
   "metadata": {
    "tags": []
   },
   "outputs": [],
   "source": [
    "dfX['Trihalomethanes'] = dfX['Trihalomethanes'].fillna(dfX['Trihalomethanes'].mean())"
   ]
  },
  {
   "cell_type": "code",
   "execution_count": 231,
   "id": "297b80ad-5563-462a-a2b5-d65744a2bbd7",
   "metadata": {
    "tags": []
   },
   "outputs": [
    {
     "name": "stdout",
     "output_type": "stream",
     "text": [
      "<class 'pandas.core.frame.DataFrame'>\n",
      "Index: 3276 entries, 0 to 655\n",
      "Data columns (total 10 columns):\n",
      " #   Column           Non-Null Count  Dtype  \n",
      "---  ------           --------------  -----  \n",
      " 0   ID               3276 non-null   int64  \n",
      " 1   ph               3276 non-null   float64\n",
      " 2   Hardness         3276 non-null   float64\n",
      " 3   Solids           3276 non-null   float64\n",
      " 4   Chloramines      3276 non-null   float64\n",
      " 5   Sulfate          3276 non-null   float64\n",
      " 6   Conductivity     3276 non-null   float64\n",
      " 7   Organic_carbon   3276 non-null   float64\n",
      " 8   Trihalomethanes  3276 non-null   float64\n",
      " 9   Turbidity        3276 non-null   float64\n",
      "dtypes: float64(9), int64(1)\n",
      "memory usage: 281.5 KB\n"
     ]
    }
   ],
   "source": [
    "dfX.info()"
   ]
  },
  {
   "cell_type": "code",
   "execution_count": 234,
   "id": "3b10c71f-6a82-465b-baf7-289a29860990",
   "metadata": {
    "tags": []
   },
   "outputs": [],
   "source": [
    "dfXY = pd.merge(dfX, Y, on='ID')"
   ]
  },
  {
   "cell_type": "code",
   "execution_count": 236,
   "id": "68169012-b3a6-40ff-a2ed-fd4981e7431a",
   "metadata": {
    "tags": []
   },
   "outputs": [
    {
     "data": {
      "text/plain": [
       "ID                 0.0100\n",
       "ph                 0.0164\n",
       "Hardness          -0.0106\n",
       "Solids             0.0190\n",
       "Chloramines        0.0055\n",
       "Sulfate           -0.0384\n",
       "Conductivity       0.0141\n",
       "Organic_carbon    -0.0285\n",
       "Trihalomethanes    0.0012\n",
       "Turbidity         -0.0043\n",
       "Potability         1.0000\n",
       "Name: Potability, dtype: float64"
      ]
     },
     "execution_count": 236,
     "metadata": {},
     "output_type": "execute_result"
    }
   ],
   "source": [
    "dfXY.corr()['Potability']"
   ]
  },
  {
   "cell_type": "markdown",
   "id": "3f04acb2-0e77-4ea2-a62e-a485ac62c99e",
   "metadata": {},
   "source": [
    "#### Feature Engineering"
   ]
  },
  {
   "cell_type": "code",
   "execution_count": 238,
   "id": "eb27d453-859e-489d-869d-d918b6679164",
   "metadata": {
    "tags": []
   },
   "outputs": [],
   "source": [
    "x_features = ['ph', 'Hardness', 'Solids', 'Chloramines', 'Sulfate','Conductivity', \\\n",
    "              'Organic_carbon', 'Trihalomethanes', 'Turbidity']\n",
    "y_feature = 'Potability'"
   ]
  },
  {
   "cell_type": "markdown",
   "id": "47141ae8-83aa-4560-85e8-60b727380ffc",
   "metadata": {},
   "source": [
    "#### 모델링"
   ]
  },
  {
   "cell_type": "code",
   "execution_count": 239,
   "id": "9f06fd59-b30b-4c63-99d6-c67fa051ad54",
   "metadata": {
    "tags": []
   },
   "outputs": [
    {
     "name": "stdout",
     "output_type": "stream",
     "text": [
      "[(2620, 10), (2620, 2), (656, 10)]\n",
      "[(2620, 9), (2620,), (656, 9)]\n"
     ]
    }
   ],
   "source": [
    "XF, X_submissionF, YF = get_classification_model_data(dfX, Y, len(X), x_features, y_feature, is_normalized=False)\n",
    "\n",
    "print([x.shape for x in [X, Y, X_submission]])\n",
    "print([x.shape for x in [XF, YF, X_submissionF]])"
   ]
  },
  {
   "cell_type": "code",
   "execution_count": 240,
   "id": "bb476ac8-3fe2-4784-8e62-636db495a844",
   "metadata": {
    "tags": []
   },
   "outputs": [
    {
     "name": "stdout",
     "output_type": "stream",
     "text": [
      "[(1834, 9), (786, 9), (1834,), (786,)]\n"
     ]
    }
   ],
   "source": [
    "xtrain, xtest, ytrain, ytest = train_test_split(XF, YF, test_size=0.3, random_state=0, stratify=YF)\n",
    "\n",
    "print([x.shape for x in [xtrain, xtest, ytrain, ytest]])"
   ]
  },
  {
   "cell_type": "code",
   "execution_count": 246,
   "id": "495bcb52-2fad-42a8-85e2-ef431fc1c5f4",
   "metadata": {
    "tags": []
   },
   "outputs": [
    {
     "name": "stdout",
     "output_type": "stream",
     "text": [
      "{'bootstrap': True, 'ccp_alpha': 0.0, 'class_weight': None, 'criterion': 'gini', 'max_depth': 7, 'max_features': 'sqrt', 'max_leaf_nodes': None, 'max_samples': None, 'min_impurity_decrease': 0.0, 'min_samples_leaf': 1, 'min_samples_split': 2, 'min_weight_fraction_leaf': 0.0, 'n_estimators': 300, 'n_jobs': None, 'oob_score': False, 'random_state': 1234, 'verbose': 0, 'warm_start': False}\n"
     ]
    }
   ],
   "source": [
    "result = compare_classification_model(xtrain, xtest, ytrain, ytest, is_binary_model=False)"
   ]
  },
  {
   "cell_type": "code",
   "execution_count": 247,
   "id": "eb2c6644-4023-45de-8224-674a26c933ec",
   "metadata": {
    "tags": []
   },
   "outputs": [
    {
     "data": {
      "text/html": [
       "<div>\n",
       "<style scoped>\n",
       "    .dataframe tbody tr th:only-of-type {\n",
       "        vertical-align: middle;\n",
       "    }\n",
       "\n",
       "    .dataframe tbody tr th {\n",
       "        vertical-align: top;\n",
       "    }\n",
       "\n",
       "    .dataframe thead th {\n",
       "        text-align: right;\n",
       "    }\n",
       "</style>\n",
       "<table border=\"1\" class=\"dataframe\">\n",
       "  <thead>\n",
       "    <tr style=\"text-align: right;\">\n",
       "      <th></th>\n",
       "      <th>Train_Accuracy</th>\n",
       "      <th>Test_Accuracy</th>\n",
       "      <th>DIFF</th>\n",
       "      <th>Accuracy</th>\n",
       "      <th>Precision</th>\n",
       "      <th>Recall</th>\n",
       "      <th>F1</th>\n",
       "    </tr>\n",
       "  </thead>\n",
       "  <tbody>\n",
       "    <tr>\n",
       "      <th>XGBClassifier</th>\n",
       "      <td>1.0000</td>\n",
       "      <td>0.6183</td>\n",
       "      <td>0.3817</td>\n",
       "      <td>0.6183</td>\n",
       "      <td>0.5148</td>\n",
       "      <td>0.3974</td>\n",
       "      <td>0.4485</td>\n",
       "    </tr>\n",
       "    <tr>\n",
       "      <th>RandomForestClassifier</th>\n",
       "      <td>0.7137</td>\n",
       "      <td>0.6145</td>\n",
       "      <td>0.0992</td>\n",
       "      <td>0.6145</td>\n",
       "      <td>0.5345</td>\n",
       "      <td>0.1010</td>\n",
       "      <td>0.1699</td>\n",
       "    </tr>\n",
       "    <tr>\n",
       "      <th>DecisionTreeClassifier</th>\n",
       "      <td>1.0000</td>\n",
       "      <td>0.5700</td>\n",
       "      <td>0.4300</td>\n",
       "      <td>0.5700</td>\n",
       "      <td>0.4543</td>\n",
       "      <td>0.5016</td>\n",
       "      <td>0.4768</td>\n",
       "    </tr>\n",
       "    <tr>\n",
       "      <th>KNeighborsClassifier</th>\n",
       "      <td>0.7050</td>\n",
       "      <td>0.5611</td>\n",
       "      <td>0.1439</td>\n",
       "      <td>0.5611</td>\n",
       "      <td>0.4159</td>\n",
       "      <td>0.3062</td>\n",
       "      <td>0.3527</td>\n",
       "    </tr>\n",
       "  </tbody>\n",
       "</table>\n",
       "</div>"
      ],
      "text/plain": [
       "                        Train_Accuracy  Test_Accuracy   DIFF  Accuracy   \n",
       "XGBClassifier                   1.0000         0.6183 0.3817    0.6183  \\\n",
       "RandomForestClassifier          0.7137         0.6145 0.0992    0.6145   \n",
       "DecisionTreeClassifier          1.0000         0.5700 0.4300    0.5700   \n",
       "KNeighborsClassifier            0.7050         0.5611 0.1439    0.5611   \n",
       "\n",
       "                        Precision  Recall     F1  \n",
       "XGBClassifier              0.5148  0.3974 0.4485  \n",
       "RandomForestClassifier     0.5345  0.1010 0.1699  \n",
       "DecisionTreeClassifier     0.4543  0.5016 0.4768  \n",
       "KNeighborsClassifier       0.4159  0.3062 0.3527  "
      ]
     },
     "execution_count": 247,
     "metadata": {},
     "output_type": "execute_result"
    }
   ],
   "source": [
    "result.sort_values(['Accuracy'], ascending=[False])"
   ]
  },
  {
   "cell_type": "code",
   "execution_count": 249,
   "id": "9d23a121-c3b5-4caa-828f-f5e7d2cc02df",
   "metadata": {
    "tags": []
   },
   "outputs": [
    {
     "data": {
      "text/plain": [
       "Train_Accuracy   0.7137\n",
       "Test_Accuracy    0.6145\n",
       "Accuracy         0.6145\n",
       "Precision        0.5345\n",
       "Recall           0.1010\n",
       "F1               0.1699\n",
       "dtype: float64"
      ]
     },
     "execution_count": 249,
     "metadata": {},
     "output_type": "execute_result"
    }
   ],
   "source": [
    "model = RandomForestClassifier(random_state=1234, criterion='gini', max_depth=7, n_estimators=300).fit(xtrain, ytrain)\n",
    "get_classification_model_score(model, xtrain, xtest, ytrain, ytest, is_binary_model=False)"
   ]
  },
  {
   "cell_type": "code",
   "execution_count": 251,
   "id": "6b1221ea-88ed-42fd-8c4b-9be0b105ec2b",
   "metadata": {
    "tags": []
   },
   "outputs": [
    {
     "data": {
      "text/plain": [
       "Train_Accuracy   1.0000\n",
       "Test_Accuracy    0.6183\n",
       "Accuracy         0.6183\n",
       "Precision        0.5148\n",
       "Recall           0.3974\n",
       "F1               0.4485\n",
       "dtype: float64"
      ]
     },
     "execution_count": 251,
     "metadata": {},
     "output_type": "execute_result"
    }
   ],
   "source": [
    "model = XGBClassifier().fit(xtrain, ytrain)\n",
    "get_classification_model_score(model, xtrain, xtest, ytrain, ytest, is_binary_model=False)"
   ]
  },
  {
   "cell_type": "code",
   "execution_count": 265,
   "id": "3d563989-0eb1-4f27-8185-7008811be257",
   "metadata": {
    "tags": []
   },
   "outputs": [
    {
     "data": {
      "text/html": [
       "<div>\n",
       "<style scoped>\n",
       "    .dataframe tbody tr th:only-of-type {\n",
       "        vertical-align: middle;\n",
       "    }\n",
       "\n",
       "    .dataframe tbody tr th {\n",
       "        vertical-align: top;\n",
       "    }\n",
       "\n",
       "    .dataframe thead th {\n",
       "        text-align: right;\n",
       "    }\n",
       "</style>\n",
       "<table border=\"1\" class=\"dataframe\">\n",
       "  <thead>\n",
       "    <tr style=\"text-align: right;\">\n",
       "      <th></th>\n",
       "      <th>Importance</th>\n",
       "    </tr>\n",
       "  </thead>\n",
       "  <tbody>\n",
       "    <tr>\n",
       "      <th>ph</th>\n",
       "      <td>0.1202</td>\n",
       "    </tr>\n",
       "    <tr>\n",
       "      <th>Hardness</th>\n",
       "      <td>0.1086</td>\n",
       "    </tr>\n",
       "    <tr>\n",
       "      <th>Solids</th>\n",
       "      <td>0.1120</td>\n",
       "    </tr>\n",
       "    <tr>\n",
       "      <th>Chloramines</th>\n",
       "      <td>0.1187</td>\n",
       "    </tr>\n",
       "    <tr>\n",
       "      <th>Sulfate</th>\n",
       "      <td>0.1607</td>\n",
       "    </tr>\n",
       "    <tr>\n",
       "      <th>Conductivity</th>\n",
       "      <td>0.0939</td>\n",
       "    </tr>\n",
       "    <tr>\n",
       "      <th>Organic_carbon</th>\n",
       "      <td>0.1006</td>\n",
       "    </tr>\n",
       "    <tr>\n",
       "      <th>Trihalomethanes</th>\n",
       "      <td>0.0938</td>\n",
       "    </tr>\n",
       "    <tr>\n",
       "      <th>Turbidity</th>\n",
       "      <td>0.0915</td>\n",
       "    </tr>\n",
       "  </tbody>\n",
       "</table>\n",
       "</div>"
      ],
      "text/plain": [
       "                 Importance\n",
       "ph                   0.1202\n",
       "Hardness             0.1086\n",
       "Solids               0.1120\n",
       "Chloramines          0.1187\n",
       "Sulfate              0.1607\n",
       "Conductivity         0.0939\n",
       "Organic_carbon       0.1006\n",
       "Trihalomethanes      0.0938\n",
       "Turbidity            0.0915"
      ]
     },
     "execution_count": 265,
     "metadata": {},
     "output_type": "execute_result"
    }
   ],
   "source": [
    "pd.DataFrame(model.feature_importances_, index=model.feature_names_in_, columns=['Importance'])"
   ]
  },
  {
   "cell_type": "code",
   "execution_count": 254,
   "id": "a5fa8fd4-faf4-48cd-b354-12e63a70e1cf",
   "metadata": {
    "tags": []
   },
   "outputs": [],
   "source": [
    "Y_pred = model.predict(X_submissionF)\n",
    "\n",
    "submission = pd.DataFrame({'ID': X_submission['ID'], 'Potability': Y_pred})\n",
    "submission.to_csv('./submission.csv', index=False)"
   ]
  },
  {
   "cell_type": "markdown",
   "id": "81aa0017-be53-43ae-93b0-0f9044e9ca03",
   "metadata": {},
   "source": [
    "#### 실제값과 비교 (Accuracy Score)"
   ]
  },
  {
   "cell_type": "code",
   "execution_count": 255,
   "id": "60410584-7625-4979-bb53-31263b0f1965",
   "metadata": {
    "tags": []
   },
   "outputs": [
    {
     "data": {
      "text/html": [
       "<div>\n",
       "<style scoped>\n",
       "    .dataframe tbody tr th:only-of-type {\n",
       "        vertical-align: middle;\n",
       "    }\n",
       "\n",
       "    .dataframe tbody tr th {\n",
       "        vertical-align: top;\n",
       "    }\n",
       "\n",
       "    .dataframe thead th {\n",
       "        text-align: right;\n",
       "    }\n",
       "</style>\n",
       "<table border=\"1\" class=\"dataframe\">\n",
       "  <thead>\n",
       "    <tr style=\"text-align: right;\">\n",
       "      <th></th>\n",
       "      <th>ID</th>\n",
       "      <th>Potability</th>\n",
       "    </tr>\n",
       "  </thead>\n",
       "  <tbody>\n",
       "    <tr>\n",
       "      <th>0</th>\n",
       "      <td>16</td>\n",
       "      <td>0</td>\n",
       "    </tr>\n",
       "    <tr>\n",
       "      <th>1</th>\n",
       "      <td>20</td>\n",
       "      <td>1</td>\n",
       "    </tr>\n",
       "  </tbody>\n",
       "</table>\n",
       "</div>"
      ],
      "text/plain": [
       "   ID  Potability\n",
       "0  16           0\n",
       "1  20           1"
      ]
     },
     "metadata": {},
     "output_type": "display_data"
    },
    {
     "data": {
      "text/html": [
       "<div>\n",
       "<style scoped>\n",
       "    .dataframe tbody tr th:only-of-type {\n",
       "        vertical-align: middle;\n",
       "    }\n",
       "\n",
       "    .dataframe tbody tr th {\n",
       "        vertical-align: top;\n",
       "    }\n",
       "\n",
       "    .dataframe thead th {\n",
       "        text-align: right;\n",
       "    }\n",
       "</style>\n",
       "<table border=\"1\" class=\"dataframe\">\n",
       "  <thead>\n",
       "    <tr style=\"text-align: right;\">\n",
       "      <th></th>\n",
       "      <th>ID</th>\n",
       "      <th>Potability</th>\n",
       "    </tr>\n",
       "  </thead>\n",
       "  <tbody>\n",
       "    <tr>\n",
       "      <th>0</th>\n",
       "      <td>16</td>\n",
       "      <td>1</td>\n",
       "    </tr>\n",
       "    <tr>\n",
       "      <th>1</th>\n",
       "      <td>20</td>\n",
       "      <td>1</td>\n",
       "    </tr>\n",
       "  </tbody>\n",
       "</table>\n",
       "</div>"
      ],
      "text/plain": [
       "   ID  Potability\n",
       "0  16           1\n",
       "1  20           1"
      ]
     },
     "metadata": {},
     "output_type": "display_data"
    }
   ],
   "source": [
    "Y_predict = pd.read_csv('./submission.csv')\n",
    "\n",
    "display(Y_actual.head(2))\n",
    "display(Y_predict.head(2))"
   ]
  },
  {
   "cell_type": "code",
   "execution_count": 256,
   "id": "a26df735-a860-474d-9a43-8cb56f5018de",
   "metadata": {
    "tags": []
   },
   "outputs": [
    {
     "data": {
      "text/plain": [
       "0.8765243902439024"
      ]
     },
     "execution_count": 256,
     "metadata": {},
     "output_type": "execute_result"
    }
   ],
   "source": [
    "accuracy_score(Y_actual[y_feature], Y_predict[y_feature])"
   ]
  },
  {
   "cell_type": "code",
   "execution_count": 257,
   "id": "87f0e67b-3497-4fbc-9eab-0b399b3da9c6",
   "metadata": {
    "tags": []
   },
   "outputs": [
    {
     "data": {
      "text/plain": [
       "0.8594377510040161"
      ]
     },
     "execution_count": 257,
     "metadata": {},
     "output_type": "execute_result"
    }
   ],
   "source": [
    "precision_score(Y_actual[y_feature], Y_predict[y_feature])"
   ]
  },
  {
   "cell_type": "code",
   "execution_count": 259,
   "id": "dfbbcff0-923a-48f8-bf72-722415002e89",
   "metadata": {
    "tags": []
   },
   "outputs": [
    {
     "data": {
      "text/plain": [
       "0.823076923076923"
      ]
     },
     "execution_count": 259,
     "metadata": {},
     "output_type": "execute_result"
    }
   ],
   "source": [
    "recall_score(Y_actual[y_feature], Y_predict[y_feature])"
   ]
  },
  {
   "cell_type": "code",
   "execution_count": 260,
   "id": "a3f916fe-d8a7-4e18-811c-02f8311417f8",
   "metadata": {
    "tags": []
   },
   "outputs": [
    {
     "data": {
      "text/plain": [
       "0.8408644400785854"
      ]
     },
     "execution_count": 260,
     "metadata": {},
     "output_type": "execute_result"
    }
   ],
   "source": [
    "f1_score(Y_actual[y_feature], Y_predict[y_feature])"
   ]
  },
  {
   "cell_type": "code",
   "execution_count": 262,
   "id": "a9c1d05f-bf70-4f5b-be29-d80665ded4d6",
   "metadata": {
    "tags": []
   },
   "outputs": [
    {
     "data": {
      "text/html": [
       "<div>\n",
       "<style scoped>\n",
       "    .dataframe tbody tr th:only-of-type {\n",
       "        vertical-align: middle;\n",
       "    }\n",
       "\n",
       "    .dataframe tbody tr th {\n",
       "        vertical-align: top;\n",
       "    }\n",
       "\n",
       "    .dataframe thead th {\n",
       "        text-align: right;\n",
       "    }\n",
       "</style>\n",
       "<table border=\"1\" class=\"dataframe\">\n",
       "  <thead>\n",
       "    <tr style=\"text-align: right;\">\n",
       "      <th></th>\n",
       "      <th>0</th>\n",
       "      <th>1</th>\n",
       "    </tr>\n",
       "  </thead>\n",
       "  <tbody>\n",
       "    <tr>\n",
       "      <th>0</th>\n",
       "      <td>361</td>\n",
       "      <td>35</td>\n",
       "    </tr>\n",
       "    <tr>\n",
       "      <th>1</th>\n",
       "      <td>46</td>\n",
       "      <td>214</td>\n",
       "    </tr>\n",
       "  </tbody>\n",
       "</table>\n",
       "</div>"
      ],
      "text/plain": [
       "     0    1\n",
       "0  361   35\n",
       "1   46  214"
      ]
     },
     "execution_count": 262,
     "metadata": {},
     "output_type": "execute_result"
    }
   ],
   "source": [
    "pd.DataFrame(confusion_matrix(Y_actual[y_feature], Y_predict[y_feature]), \\\n",
    "             index=[0, 1], columns=[0, 1])"
   ]
  },
  {
   "cell_type": "markdown",
   "id": "d7bb4953",
   "metadata": {},
   "source": [
    "### 약물 분류 데이터"
   ]
  },
  {
   "cell_type": "markdown",
   "id": "95076d72",
   "metadata": {},
   "source": [
    "```{attention}  \n",
    "데이터 설명 : 투약하는 약을 분류  (종속변수 :Drug)   \n",
    "x_train: https://raw.githubusercontent.com/Datamanim/datarepo/main/drug/x_train.csv    \n",
    "y_train: https://raw.githubusercontent.com/Datamanim/datarepo/main/drug/y_train.csv  \n",
    "x_test: https://raw.githubusercontent.com/Datamanim/datarepo/main/drug/x_test.csv   \n",
    "x_label(평가용) : https://raw.githubusercontent.com/Datamanim/datarepo/main/drug/y_test.csv    \n",
    "데이터 출처 :https://www.kaggle.com/prathamtripathi/drug-classification(참고, 데이터 수정)   \n",
    "```  "
   ]
  },
  {
   "cell_type": "code",
   "execution_count": 3,
   "id": "0b033912",
   "metadata": {
    "ExecuteTime": {
     "end_time": "2022-05-01T10:27:53.581025Z",
     "start_time": "2022-05-01T10:27:52.610704Z"
    },
    "tags": []
   },
   "outputs": [
    {
     "data": {
      "text/html": [
       "<div>\n",
       "<style scoped>\n",
       "    .dataframe tbody tr th:only-of-type {\n",
       "        vertical-align: middle;\n",
       "    }\n",
       "\n",
       "    .dataframe tbody tr th {\n",
       "        vertical-align: top;\n",
       "    }\n",
       "\n",
       "    .dataframe thead th {\n",
       "        text-align: right;\n",
       "    }\n",
       "</style>\n",
       "<table border=\"1\" class=\"dataframe\">\n",
       "  <thead>\n",
       "    <tr style=\"text-align: right;\">\n",
       "      <th></th>\n",
       "      <th>ID</th>\n",
       "      <th>Age</th>\n",
       "      <th>Sex</th>\n",
       "      <th>BP</th>\n",
       "      <th>Cholesterol</th>\n",
       "      <th>Na_to_K</th>\n",
       "    </tr>\n",
       "  </thead>\n",
       "  <tbody>\n",
       "    <tr>\n",
       "      <th>0</th>\n",
       "      <td>0</td>\n",
       "      <td>36</td>\n",
       "      <td>F</td>\n",
       "      <td>NORMAL</td>\n",
       "      <td>HIGH</td>\n",
       "      <td>16.753</td>\n",
       "    </tr>\n",
       "    <tr>\n",
       "      <th>1</th>\n",
       "      <td>1</td>\n",
       "      <td>47</td>\n",
       "      <td>F</td>\n",
       "      <td>LOW</td>\n",
       "      <td>HIGH</td>\n",
       "      <td>11.767</td>\n",
       "    </tr>\n",
       "    <tr>\n",
       "      <th>2</th>\n",
       "      <td>2</td>\n",
       "      <td>69</td>\n",
       "      <td>F</td>\n",
       "      <td>NORMAL</td>\n",
       "      <td>HIGH</td>\n",
       "      <td>10.065</td>\n",
       "    </tr>\n",
       "    <tr>\n",
       "      <th>3</th>\n",
       "      <td>3</td>\n",
       "      <td>35</td>\n",
       "      <td>M</td>\n",
       "      <td>LOW</td>\n",
       "      <td>NORMAL</td>\n",
       "      <td>9.170</td>\n",
       "    </tr>\n",
       "    <tr>\n",
       "      <th>4</th>\n",
       "      <td>4</td>\n",
       "      <td>49</td>\n",
       "      <td>M</td>\n",
       "      <td>LOW</td>\n",
       "      <td>NORMAL</td>\n",
       "      <td>11.014</td>\n",
       "    </tr>\n",
       "  </tbody>\n",
       "</table>\n",
       "</div>"
      ],
      "text/plain": [
       "   ID  Age Sex      BP Cholesterol  Na_to_K\n",
       "0   0   36   F  NORMAL        HIGH   16.753\n",
       "1   1   47   F     LOW        HIGH   11.767\n",
       "2   2   69   F  NORMAL        HIGH   10.065\n",
       "3   3   35   M     LOW      NORMAL    9.170\n",
       "4   4   49   M     LOW      NORMAL   11.014"
      ]
     },
     "metadata": {},
     "output_type": "display_data"
    },
    {
     "data": {
      "text/html": [
       "<div>\n",
       "<style scoped>\n",
       "    .dataframe tbody tr th:only-of-type {\n",
       "        vertical-align: middle;\n",
       "    }\n",
       "\n",
       "    .dataframe tbody tr th {\n",
       "        vertical-align: top;\n",
       "    }\n",
       "\n",
       "    .dataframe thead th {\n",
       "        text-align: right;\n",
       "    }\n",
       "</style>\n",
       "<table border=\"1\" class=\"dataframe\">\n",
       "  <thead>\n",
       "    <tr style=\"text-align: right;\">\n",
       "      <th></th>\n",
       "      <th>ID</th>\n",
       "      <th>Drug</th>\n",
       "    </tr>\n",
       "  </thead>\n",
       "  <tbody>\n",
       "    <tr>\n",
       "      <th>0</th>\n",
       "      <td>0</td>\n",
       "      <td>0</td>\n",
       "    </tr>\n",
       "    <tr>\n",
       "      <th>1</th>\n",
       "      <td>1</td>\n",
       "      <td>3</td>\n",
       "    </tr>\n",
       "    <tr>\n",
       "      <th>2</th>\n",
       "      <td>2</td>\n",
       "      <td>4</td>\n",
       "    </tr>\n",
       "    <tr>\n",
       "      <th>3</th>\n",
       "      <td>3</td>\n",
       "      <td>4</td>\n",
       "    </tr>\n",
       "    <tr>\n",
       "      <th>4</th>\n",
       "      <td>4</td>\n",
       "      <td>4</td>\n",
       "    </tr>\n",
       "  </tbody>\n",
       "</table>\n",
       "</div>"
      ],
      "text/plain": [
       "   ID  Drug\n",
       "0   0     0\n",
       "1   1     3\n",
       "2   2     4\n",
       "3   3     4\n",
       "4   4     4"
      ]
     },
     "metadata": {},
     "output_type": "display_data"
    }
   ],
   "source": [
    "import pandas as pd\n",
    "\n",
    "X = pd.read_csv(\"https://raw.githubusercontent.com/Datamanim/datarepo/main/drug/x_train.csv\")\n",
    "Y = pd.read_csv(\"https://raw.githubusercontent.com/Datamanim/datarepo/main/drug/y_train.csv\")\n",
    "X_submission = pd.read_csv(\"https://raw.githubusercontent.com/Datamanim/datarepo/main/drug/x_test.csv\")\n",
    "Y_actual = pd.read_csv(\"https://raw.githubusercontent.com/Datamanim/datarepo/main/drug/y_test.csv\")\n",
    "\n",
    "display(X.head())\n",
    "display(Y.head())"
   ]
  },
  {
   "cell_type": "markdown",
   "id": "23be133c-71e2-4fdc-9589-65bd9d2f8198",
   "metadata": {},
   "source": [
    "#### EDA"
   ]
  },
  {
   "cell_type": "code",
   "execution_count": 5,
   "id": "b6c9184f-5383-4551-8537-f2ebacfbd251",
   "metadata": {
    "tags": []
   },
   "outputs": [
    {
     "name": "stdout",
     "output_type": "stream",
     "text": [
      "<class 'pandas.core.frame.DataFrame'>\n",
      "RangeIndex: 157 entries, 0 to 156\n",
      "Data columns (total 6 columns):\n",
      " #   Column       Non-Null Count  Dtype  \n",
      "---  ------       --------------  -----  \n",
      " 0   ID           157 non-null    int64  \n",
      " 1   Age          157 non-null    int64  \n",
      " 2   Sex          157 non-null    object \n",
      " 3   BP           157 non-null    object \n",
      " 4   Cholesterol  157 non-null    object \n",
      " 5   Na_to_K      157 non-null    float64\n",
      "dtypes: float64(1), int64(2), object(3)\n",
      "memory usage: 7.5+ KB\n"
     ]
    }
   ],
   "source": [
    "X.info()"
   ]
  },
  {
   "cell_type": "code",
   "execution_count": 6,
   "id": "8168f3c0-8697-4687-9fd7-b0a39d4a4021",
   "metadata": {
    "tags": []
   },
   "outputs": [
    {
     "name": "stdout",
     "output_type": "stream",
     "text": [
      "<class 'pandas.core.frame.DataFrame'>\n",
      "RangeIndex: 43 entries, 0 to 42\n",
      "Data columns (total 6 columns):\n",
      " #   Column       Non-Null Count  Dtype  \n",
      "---  ------       --------------  -----  \n",
      " 0   ID           43 non-null     int64  \n",
      " 1   Age          43 non-null     int64  \n",
      " 2   Sex          43 non-null     object \n",
      " 3   BP           43 non-null     object \n",
      " 4   Cholesterol  43 non-null     object \n",
      " 5   Na_to_K      43 non-null     float64\n",
      "dtypes: float64(1), int64(2), object(3)\n",
      "memory usage: 2.1+ KB\n"
     ]
    }
   ],
   "source": [
    "X_submission.info()"
   ]
  },
  {
   "cell_type": "code",
   "execution_count": 7,
   "id": "bc95da95-f1ca-40a5-9812-7298e5fc796b",
   "metadata": {
    "tags": []
   },
   "outputs": [
    {
     "name": "stdout",
     "output_type": "stream",
     "text": [
      "<class 'pandas.core.frame.DataFrame'>\n",
      "RangeIndex: 157 entries, 0 to 156\n",
      "Data columns (total 2 columns):\n",
      " #   Column  Non-Null Count  Dtype\n",
      "---  ------  --------------  -----\n",
      " 0   ID      157 non-null    int64\n",
      " 1   Drug    157 non-null    int64\n",
      "dtypes: int64(2)\n",
      "memory usage: 2.6 KB\n"
     ]
    }
   ],
   "source": [
    "Y.info()"
   ]
  },
  {
   "cell_type": "code",
   "execution_count": 47,
   "id": "631e8ebf-e20d-4551-a29c-893144765f37",
   "metadata": {
    "tags": []
   },
   "outputs": [],
   "source": [
    "dfXY = pd.merge(X, Y, on='ID')"
   ]
  },
  {
   "cell_type": "code",
   "execution_count": 48,
   "id": "98d0201a-0086-443e-99cf-b5a1d1e52fe2",
   "metadata": {
    "tags": []
   },
   "outputs": [
    {
     "data": {
      "text/html": [
       "<div>\n",
       "<style scoped>\n",
       "    .dataframe tbody tr th:only-of-type {\n",
       "        vertical-align: middle;\n",
       "    }\n",
       "\n",
       "    .dataframe tbody tr th {\n",
       "        vertical-align: top;\n",
       "    }\n",
       "\n",
       "    .dataframe thead th {\n",
       "        text-align: right;\n",
       "    }\n",
       "</style>\n",
       "<table border=\"1\" class=\"dataframe\">\n",
       "  <thead>\n",
       "    <tr style=\"text-align: right;\">\n",
       "      <th></th>\n",
       "      <th>ID</th>\n",
       "      <th>Age</th>\n",
       "      <th>Sex</th>\n",
       "      <th>BP</th>\n",
       "      <th>Cholesterol</th>\n",
       "      <th>Na_to_K</th>\n",
       "      <th>Drug</th>\n",
       "    </tr>\n",
       "  </thead>\n",
       "  <tbody>\n",
       "    <tr>\n",
       "      <th>0</th>\n",
       "      <td>0</td>\n",
       "      <td>36</td>\n",
       "      <td>F</td>\n",
       "      <td>NORMAL</td>\n",
       "      <td>HIGH</td>\n",
       "      <td>16.7530</td>\n",
       "      <td>0</td>\n",
       "    </tr>\n",
       "    <tr>\n",
       "      <th>1</th>\n",
       "      <td>1</td>\n",
       "      <td>47</td>\n",
       "      <td>F</td>\n",
       "      <td>LOW</td>\n",
       "      <td>HIGH</td>\n",
       "      <td>11.7670</td>\n",
       "      <td>3</td>\n",
       "    </tr>\n",
       "  </tbody>\n",
       "</table>\n",
       "</div>"
      ],
      "text/plain": [
       "   ID  Age Sex      BP Cholesterol  Na_to_K  Drug\n",
       "0   0   36   F  NORMAL        HIGH  16.7530     0\n",
       "1   1   47   F     LOW        HIGH  11.7670     3"
      ]
     },
     "execution_count": 48,
     "metadata": {},
     "output_type": "execute_result"
    }
   ],
   "source": [
    "dfXY.head(2)"
   ]
  },
  {
   "cell_type": "code",
   "execution_count": 49,
   "id": "d0208d00-262b-4e5a-8738-03cb224d9d51",
   "metadata": {
    "tags": []
   },
   "outputs": [
    {
     "data": {
      "text/plain": [
       "ID        -0.0721\n",
       "Age        0.0574\n",
       "Na_to_K   -0.7041\n",
       "Drug       1.0000\n",
       "Name: Drug, dtype: float64"
      ]
     },
     "execution_count": 49,
     "metadata": {},
     "output_type": "execute_result"
    }
   ],
   "source": [
    "dfXY.corr(numeric_only=True)['Drug']"
   ]
  },
  {
   "cell_type": "code",
   "execution_count": 50,
   "id": "b6df4a31-ba98-4f84-9093-741020fad928",
   "metadata": {
    "tags": []
   },
   "outputs": [
    {
     "data": {
      "text/plain": [
       "Index(['Sex', 'BP', 'Cholesterol'], dtype='object')"
      ]
     },
     "execution_count": 50,
     "metadata": {},
     "output_type": "execute_result"
    }
   ],
   "source": [
    "features = X.select_dtypes(include='object').columns\n",
    "features"
   ]
  },
  {
   "cell_type": "code",
   "execution_count": 52,
   "id": "29d003ce-aa77-4e56-bb44-8c4a7e892628",
   "metadata": {
    "tags": []
   },
   "outputs": [
    {
     "data": {
      "text/plain": [
       "0   0.4586\n",
       "4   0.2739\n",
       "1   0.1146\n",
       "3   0.0764\n",
       "2   0.0764\n",
       "Name: Drug, dtype: float64"
      ]
     },
     "execution_count": 52,
     "metadata": {},
     "output_type": "execute_result"
    }
   ],
   "source": [
    "dfXY['Drug'].value_counts(normalize=True)"
   ]
  },
  {
   "cell_type": "code",
   "execution_count": 16,
   "id": "5f022279-59a6-46fa-95f8-c0ee88d87b14",
   "metadata": {
    "tags": []
   },
   "outputs": [
    {
     "name": "stdout",
     "output_type": "stream",
     "text": [
      "Sex\n",
      "Drug  Sex\n",
      "0     F      0.513889\n",
      "      M      0.486111\n",
      "1     M      0.611111\n",
      "      F      0.388889\n",
      "2     M      0.583333\n",
      "      F      0.416667\n",
      "3     M      0.750000\n",
      "      F      0.250000\n",
      "4     M      0.534884\n",
      "      F      0.465116\n",
      "Name: Sex, dtype: float64\n",
      "------------------------------\n",
      "BP\n",
      "Drug  BP    \n",
      "0     HIGH      0.472222\n",
      "      LOW       0.277778\n",
      "      NORMAL    0.250000\n",
      "1     HIGH      1.000000\n",
      "2     HIGH      1.000000\n",
      "3     LOW       1.000000\n",
      "4     NORMAL    0.651163\n",
      "      LOW       0.348837\n",
      "Name: BP, dtype: float64\n",
      "------------------------------\n",
      "Cholesterol\n",
      "Drug  Cholesterol\n",
      "0     NORMAL         0.513889\n",
      "      HIGH           0.486111\n",
      "1     HIGH           0.500000\n",
      "      NORMAL         0.500000\n",
      "2     HIGH           0.500000\n",
      "      NORMAL         0.500000\n",
      "3     HIGH           1.000000\n",
      "4     NORMAL         0.651163\n",
      "      HIGH           0.348837\n",
      "Name: Cholesterol, dtype: float64\n",
      "------------------------------\n"
     ]
    }
   ],
   "source": [
    "for feature in features:\n",
    "    print(f'{feature}')\n",
    "    print(dfXY.groupby('Drug')[feature].value_counts(normalize=True))\n",
    "    print('-' * 30)"
   ]
  },
  {
   "cell_type": "markdown",
   "id": "f22d3713-349e-432b-8eba-4b29a928d4d7",
   "metadata": {},
   "source": [
    "#### 데이터전처리"
   ]
  },
  {
   "cell_type": "code",
   "execution_count": 17,
   "id": "48bd01b3-b4a6-474c-8c35-0c4c49e818af",
   "metadata": {
    "tags": []
   },
   "outputs": [
    {
     "name": "stdout",
     "output_type": "stream",
     "text": [
      "<class 'pandas.core.frame.DataFrame'>\n",
      "RangeIndex: 200 entries, 0 to 199\n",
      "Data columns (total 6 columns):\n",
      " #   Column       Non-Null Count  Dtype  \n",
      "---  ------       --------------  -----  \n",
      " 0   ID           200 non-null    int64  \n",
      " 1   Age          200 non-null    int64  \n",
      " 2   Sex          200 non-null    object \n",
      " 3   BP           200 non-null    object \n",
      " 4   Cholesterol  200 non-null    object \n",
      " 5   Na_to_K      200 non-null    float64\n",
      "dtypes: float64(1), int64(2), object(3)\n",
      "memory usage: 9.5+ KB\n"
     ]
    }
   ],
   "source": [
    "dfX = pd.concat([X, X_submission], axis=0, ignore_index=True)\n",
    "dfX.info()"
   ]
  },
  {
   "cell_type": "code",
   "execution_count": 18,
   "id": "11523834-3e71-4f03-9af6-12e192d4df66",
   "metadata": {
    "tags": []
   },
   "outputs": [
    {
     "data": {
      "text/plain": [
       "ID             0\n",
       "Age            0\n",
       "Sex            0\n",
       "BP             0\n",
       "Cholesterol    0\n",
       "Na_to_K        0\n",
       "dtype: int64"
      ]
     },
     "execution_count": 18,
     "metadata": {},
     "output_type": "execute_result"
    }
   ],
   "source": [
    "dfX.isna().sum()"
   ]
  },
  {
   "cell_type": "code",
   "execution_count": 19,
   "id": "0e8367f3-53df-4c80-a845-dd77734bed46",
   "metadata": {
    "tags": []
   },
   "outputs": [
    {
     "name": "stdout",
     "output_type": "stream",
     "text": [
      "Sex = ['F' 'M']\n",
      "BP = ['NORMAL' 'LOW' 'HIGH']\n",
      "Cholesterol = ['HIGH' 'NORMAL']\n"
     ]
    }
   ],
   "source": [
    "for feature in dfX.select_dtypes(include='object').columns:\n",
    "    print(f'{feature} = {dfX[feature].unique()}')"
   ]
  },
  {
   "cell_type": "code",
   "execution_count": 21,
   "id": "9ce8eea8-ae0c-4b00-bd81-cd80f5f4a5c0",
   "metadata": {
    "tags": []
   },
   "outputs": [],
   "source": [
    "dfX['Sex'] = dfX['Sex'].replace({'F': 0, 'M': 1})"
   ]
  },
  {
   "cell_type": "code",
   "execution_count": 24,
   "id": "272daf71-f65c-47f6-a2be-361f59b79730",
   "metadata": {
    "tags": []
   },
   "outputs": [
    {
     "data": {
      "text/html": [
       "<div>\n",
       "<style scoped>\n",
       "    .dataframe tbody tr th:only-of-type {\n",
       "        vertical-align: middle;\n",
       "    }\n",
       "\n",
       "    .dataframe tbody tr th {\n",
       "        vertical-align: top;\n",
       "    }\n",
       "\n",
       "    .dataframe thead th {\n",
       "        text-align: right;\n",
       "    }\n",
       "</style>\n",
       "<table border=\"1\" class=\"dataframe\">\n",
       "  <thead>\n",
       "    <tr style=\"text-align: right;\">\n",
       "      <th></th>\n",
       "      <th>ID</th>\n",
       "      <th>Age</th>\n",
       "      <th>Sex</th>\n",
       "      <th>Cholesterol</th>\n",
       "      <th>Na_to_K</th>\n",
       "      <th>BP_HIGH</th>\n",
       "      <th>BP_LOW</th>\n",
       "      <th>BP_NORMAL</th>\n",
       "    </tr>\n",
       "  </thead>\n",
       "  <tbody>\n",
       "    <tr>\n",
       "      <th>0</th>\n",
       "      <td>0</td>\n",
       "      <td>36</td>\n",
       "      <td>0</td>\n",
       "      <td>HIGH</td>\n",
       "      <td>16.753</td>\n",
       "      <td>0</td>\n",
       "      <td>0</td>\n",
       "      <td>1</td>\n",
       "    </tr>\n",
       "    <tr>\n",
       "      <th>1</th>\n",
       "      <td>1</td>\n",
       "      <td>47</td>\n",
       "      <td>0</td>\n",
       "      <td>HIGH</td>\n",
       "      <td>11.767</td>\n",
       "      <td>0</td>\n",
       "      <td>1</td>\n",
       "      <td>0</td>\n",
       "    </tr>\n",
       "  </tbody>\n",
       "</table>\n",
       "</div>"
      ],
      "text/plain": [
       "   ID  Age  Sex Cholesterol  Na_to_K  BP_HIGH  BP_LOW  BP_NORMAL\n",
       "0   0   36    0        HIGH   16.753        0       0          1\n",
       "1   1   47    0        HIGH   11.767        0       1          0"
      ]
     },
     "execution_count": 24,
     "metadata": {},
     "output_type": "execute_result"
    }
   ],
   "source": [
    "temp = dfX.drop(columns='BP')\n",
    "dfX = pd.concat([temp, pd.get_dummies(dfX['BP'], prefix='BP')], axis=1)\n",
    "dfX.head(2)"
   ]
  },
  {
   "cell_type": "code",
   "execution_count": 25,
   "id": "21e7ecd2-44f5-4761-a841-98498f0baf27",
   "metadata": {
    "tags": []
   },
   "outputs": [
    {
     "data": {
      "text/html": [
       "<div>\n",
       "<style scoped>\n",
       "    .dataframe tbody tr th:only-of-type {\n",
       "        vertical-align: middle;\n",
       "    }\n",
       "\n",
       "    .dataframe tbody tr th {\n",
       "        vertical-align: top;\n",
       "    }\n",
       "\n",
       "    .dataframe thead th {\n",
       "        text-align: right;\n",
       "    }\n",
       "</style>\n",
       "<table border=\"1\" class=\"dataframe\">\n",
       "  <thead>\n",
       "    <tr style=\"text-align: right;\">\n",
       "      <th></th>\n",
       "      <th>ID</th>\n",
       "      <th>Age</th>\n",
       "      <th>Sex</th>\n",
       "      <th>Na_to_K</th>\n",
       "      <th>BP_HIGH</th>\n",
       "      <th>BP_LOW</th>\n",
       "      <th>BP_NORMAL</th>\n",
       "      <th>Cholesterol_HIGH</th>\n",
       "      <th>Cholesterol_NORMAL</th>\n",
       "    </tr>\n",
       "  </thead>\n",
       "  <tbody>\n",
       "    <tr>\n",
       "      <th>0</th>\n",
       "      <td>0</td>\n",
       "      <td>36</td>\n",
       "      <td>0</td>\n",
       "      <td>16.753</td>\n",
       "      <td>0</td>\n",
       "      <td>0</td>\n",
       "      <td>1</td>\n",
       "      <td>1</td>\n",
       "      <td>0</td>\n",
       "    </tr>\n",
       "    <tr>\n",
       "      <th>1</th>\n",
       "      <td>1</td>\n",
       "      <td>47</td>\n",
       "      <td>0</td>\n",
       "      <td>11.767</td>\n",
       "      <td>0</td>\n",
       "      <td>1</td>\n",
       "      <td>0</td>\n",
       "      <td>1</td>\n",
       "      <td>0</td>\n",
       "    </tr>\n",
       "  </tbody>\n",
       "</table>\n",
       "</div>"
      ],
      "text/plain": [
       "   ID  Age  Sex  Na_to_K  BP_HIGH  BP_LOW  BP_NORMAL  Cholesterol_HIGH  \\\n",
       "0   0   36    0   16.753        0       0          1                 1   \n",
       "1   1   47    0   11.767        0       1          0                 1   \n",
       "\n",
       "   Cholesterol_NORMAL  \n",
       "0                   0  \n",
       "1                   0  "
      ]
     },
     "execution_count": 25,
     "metadata": {},
     "output_type": "execute_result"
    }
   ],
   "source": [
    "temp = dfX.drop(columns='Cholesterol')\n",
    "dfX = pd.concat([temp, pd.get_dummies(dfX['Cholesterol'], prefix='Cholesterol')], axis=1)\n",
    "dfX.head(2)"
   ]
  },
  {
   "cell_type": "code",
   "execution_count": 26,
   "id": "16aad8dc-26f1-409e-b462-9761c1eeab0f",
   "metadata": {
    "tags": []
   },
   "outputs": [
    {
     "name": "stdout",
     "output_type": "stream",
     "text": [
      "<class 'pandas.core.frame.DataFrame'>\n",
      "RangeIndex: 200 entries, 0 to 199\n",
      "Data columns (total 9 columns):\n",
      " #   Column              Non-Null Count  Dtype  \n",
      "---  ------              --------------  -----  \n",
      " 0   ID                  200 non-null    int64  \n",
      " 1   Age                 200 non-null    int64  \n",
      " 2   Sex                 200 non-null    int64  \n",
      " 3   Na_to_K             200 non-null    float64\n",
      " 4   BP_HIGH             200 non-null    uint8  \n",
      " 5   BP_LOW              200 non-null    uint8  \n",
      " 6   BP_NORMAL           200 non-null    uint8  \n",
      " 7   Cholesterol_HIGH    200 non-null    uint8  \n",
      " 8   Cholesterol_NORMAL  200 non-null    uint8  \n",
      "dtypes: float64(1), int64(3), uint8(5)\n",
      "memory usage: 7.4 KB\n"
     ]
    }
   ],
   "source": [
    "dfX.info()"
   ]
  },
  {
   "cell_type": "code",
   "execution_count": 33,
   "id": "41c1db04-32d9-438c-bd15-54f6fca3c3b7",
   "metadata": {
    "tags": []
   },
   "outputs": [],
   "source": [
    "dfXY = pd.merge(dfX, Y, on='ID')"
   ]
  },
  {
   "cell_type": "code",
   "execution_count": 34,
   "id": "a5513d71-80be-48d9-aecf-589dfe8053a1",
   "metadata": {
    "tags": []
   },
   "outputs": [
    {
     "data": {
      "text/plain": [
       "ID                   -0.0721\n",
       "Age                   0.0574\n",
       "Sex                   0.0643\n",
       "Na_to_K              -0.7041\n",
       "BP_HIGH              -0.4518\n",
       "BP_LOW                0.1712\n",
       "BP_NORMAL             0.3155\n",
       "Cholesterol_HIGH     -0.0416\n",
       "Cholesterol_NORMAL    0.0416\n",
       "Drug                  1.0000\n",
       "Name: Drug, dtype: float64"
      ]
     },
     "execution_count": 34,
     "metadata": {},
     "output_type": "execute_result"
    }
   ],
   "source": [
    "dfXY.corr()['Drug']"
   ]
  },
  {
   "cell_type": "markdown",
   "id": "322f16cf-55f3-4f6c-ac47-eddabf7d47db",
   "metadata": {},
   "source": [
    "#### Feature Engineering"
   ]
  },
  {
   "cell_type": "code",
   "execution_count": 32,
   "id": "abe1ebbf-2481-4217-aa21-c7d15afbebe0",
   "metadata": {
    "tags": []
   },
   "outputs": [
    {
     "data": {
      "text/plain": [
       "Index(['ID', 'Age', 'Sex', 'Na_to_K', 'BP_HIGH', 'BP_LOW', 'BP_NORMAL',\n",
       "       'Cholesterol_HIGH', 'Cholesterol_NORMAL'],\n",
       "      dtype='object')"
      ]
     },
     "execution_count": 32,
     "metadata": {},
     "output_type": "execute_result"
    }
   ],
   "source": [
    "dfX.columns"
   ]
  },
  {
   "cell_type": "code",
   "execution_count": 35,
   "id": "354fcc0d-dde0-4879-8031-6878b28b6d8e",
   "metadata": {
    "tags": []
   },
   "outputs": [
    {
     "data": {
      "text/plain": [
       "Index(['ID', 'Drug'], dtype='object')"
      ]
     },
     "execution_count": 35,
     "metadata": {},
     "output_type": "execute_result"
    }
   ],
   "source": [
    "Y.columns"
   ]
  },
  {
   "cell_type": "code",
   "execution_count": 37,
   "id": "2fc6a2d2-fae0-4873-b335-75db0d14d32b",
   "metadata": {
    "tags": []
   },
   "outputs": [],
   "source": [
    "x_features = ['Age', 'Sex', 'Na_to_K', 'BP_HIGH', 'BP_LOW', 'BP_NORMAL','Cholesterol_HIGH', 'Cholesterol_NORMAL']\n",
    "y_feature = 'Drug'"
   ]
  },
  {
   "cell_type": "markdown",
   "id": "2674e3b5-118c-43e7-a710-73c24e582e7d",
   "metadata": {},
   "source": [
    "#### 모델링"
   ]
  },
  {
   "cell_type": "code",
   "execution_count": 39,
   "id": "1a85659b-8c36-4561-b45c-bb625e20230f",
   "metadata": {
    "tags": []
   },
   "outputs": [
    {
     "name": "stdout",
     "output_type": "stream",
     "text": [
      "[(157, 6), (157, 2), (43, 6)]\n",
      "[(157, 8), (157,), (43, 8)]\n"
     ]
    }
   ],
   "source": [
    "XF, X_submissionF, YF = get_classification_model_data(dfX, Y, len(X), x_features, y_feature, is_normalized=False)\n",
    "\n",
    "print([x.shape for x in [X, Y, X_submission]])\n",
    "print([x.shape for x in [XF, YF, X_submissionF]])"
   ]
  },
  {
   "cell_type": "code",
   "execution_count": 40,
   "id": "963d82e4-a72b-4633-91af-cbc160cbd443",
   "metadata": {
    "tags": []
   },
   "outputs": [
    {
     "name": "stdout",
     "output_type": "stream",
     "text": [
      "[(109, 8), (48, 8), (109,), (48,)]\n"
     ]
    }
   ],
   "source": [
    "xtrain, xtest, ytrain, ytest = train_test_split(XF, YF, test_size=0.3, random_state=1234, stratify=YF)\n",
    "\n",
    "print([x.shape for x in [xtrain, xtest, ytrain, ytest]])"
   ]
  },
  {
   "cell_type": "code",
   "execution_count": 54,
   "id": "82630f14-6ca4-444a-b472-fbc0360eac6f",
   "metadata": {
    "tags": []
   },
   "outputs": [],
   "source": [
    "result = compare_classification_model(xtrain, xtest, ytrain, ytest, is_binary_model=False)"
   ]
  },
  {
   "cell_type": "code",
   "execution_count": 56,
   "id": "62f63a09-b3ea-4981-bb29-84370057ff64",
   "metadata": {
    "tags": []
   },
   "outputs": [
    {
     "data": {
      "text/html": [
       "<div>\n",
       "<style scoped>\n",
       "    .dataframe tbody tr th:only-of-type {\n",
       "        vertical-align: middle;\n",
       "    }\n",
       "\n",
       "    .dataframe tbody tr th {\n",
       "        vertical-align: top;\n",
       "    }\n",
       "\n",
       "    .dataframe thead th {\n",
       "        text-align: right;\n",
       "    }\n",
       "</style>\n",
       "<table border=\"1\" class=\"dataframe\">\n",
       "  <thead>\n",
       "    <tr style=\"text-align: right;\">\n",
       "      <th></th>\n",
       "      <th>Train_Accuracy</th>\n",
       "      <th>Test_Accuracy</th>\n",
       "      <th>DIFF</th>\n",
       "      <th>Accuracy</th>\n",
       "      <th>Precision</th>\n",
       "      <th>Recall</th>\n",
       "      <th>F1</th>\n",
       "    </tr>\n",
       "  </thead>\n",
       "  <tbody>\n",
       "    <tr>\n",
       "      <th>DecisionTreeClassifier</th>\n",
       "      <td>1.0000</td>\n",
       "      <td>1.0000</td>\n",
       "      <td>0.0000</td>\n",
       "      <td>1.0000</td>\n",
       "      <td>1.0000</td>\n",
       "      <td>1.0000</td>\n",
       "      <td>1.0000</td>\n",
       "    </tr>\n",
       "    <tr>\n",
       "      <th>RandomForestClassifier</th>\n",
       "      <td>1.0000</td>\n",
       "      <td>1.0000</td>\n",
       "      <td>0.0000</td>\n",
       "      <td>1.0000</td>\n",
       "      <td>1.0000</td>\n",
       "      <td>1.0000</td>\n",
       "      <td>1.0000</td>\n",
       "    </tr>\n",
       "    <tr>\n",
       "      <th>XGBClassifier</th>\n",
       "      <td>1.0000</td>\n",
       "      <td>1.0000</td>\n",
       "      <td>0.0000</td>\n",
       "      <td>1.0000</td>\n",
       "      <td>1.0000</td>\n",
       "      <td>1.0000</td>\n",
       "      <td>1.0000</td>\n",
       "    </tr>\n",
       "    <tr>\n",
       "      <th>KNeighborsClassifier</th>\n",
       "      <td>0.7890</td>\n",
       "      <td>0.6250</td>\n",
       "      <td>0.1640</td>\n",
       "      <td>0.6250</td>\n",
       "      <td>0.6118</td>\n",
       "      <td>0.6250</td>\n",
       "      <td>0.6100</td>\n",
       "    </tr>\n",
       "  </tbody>\n",
       "</table>\n",
       "</div>"
      ],
      "text/plain": [
       "                        Train_Accuracy  Test_Accuracy   DIFF  Accuracy  \\\n",
       "DecisionTreeClassifier          1.0000         1.0000 0.0000    1.0000   \n",
       "RandomForestClassifier          1.0000         1.0000 0.0000    1.0000   \n",
       "XGBClassifier                   1.0000         1.0000 0.0000    1.0000   \n",
       "KNeighborsClassifier            0.7890         0.6250 0.1640    0.6250   \n",
       "\n",
       "                        Precision  Recall     F1  \n",
       "DecisionTreeClassifier     1.0000  1.0000 1.0000  \n",
       "RandomForestClassifier     1.0000  1.0000 1.0000  \n",
       "XGBClassifier              1.0000  1.0000 1.0000  \n",
       "KNeighborsClassifier       0.6118  0.6250 0.6100  "
      ]
     },
     "execution_count": 56,
     "metadata": {},
     "output_type": "execute_result"
    }
   ],
   "source": [
    "result.sort_values(['Accuracy', 'Precision', 'Recall', 'F1'], ascending=False)"
   ]
  },
  {
   "cell_type": "code",
   "execution_count": 57,
   "id": "066274d3-886a-4ef6-aafc-7c46d4ea2c4d",
   "metadata": {
    "tags": []
   },
   "outputs": [
    {
     "name": "stdout",
     "output_type": "stream",
     "text": [
      "Train_Accuracy   1.0000\n",
      "Test_Accuracy    1.0000\n",
      "Accuracy         1.0000\n",
      "Precision        1.0000\n",
      "Recall           1.0000\n",
      "F1               1.0000\n",
      "dtype: float64\n"
     ]
    }
   ],
   "source": [
    "model = DecisionTreeClassifier(random_state=1234).fit(xtrain, ytrain)\n",
    "print(get_classification_model_score(model, xtrain, xtest, ytrain, ytest, is_binary_model=False))"
   ]
  },
  {
   "cell_type": "code",
   "execution_count": 59,
   "id": "62ef09d2-84c4-4f5c-9ec4-f62f49c3c04c",
   "metadata": {
    "tags": []
   },
   "outputs": [
    {
     "data": {
      "text/html": [
       "<div>\n",
       "<style scoped>\n",
       "    .dataframe tbody tr th:only-of-type {\n",
       "        vertical-align: middle;\n",
       "    }\n",
       "\n",
       "    .dataframe tbody tr th {\n",
       "        vertical-align: top;\n",
       "    }\n",
       "\n",
       "    .dataframe thead th {\n",
       "        text-align: right;\n",
       "    }\n",
       "</style>\n",
       "<table border=\"1\" class=\"dataframe\">\n",
       "  <thead>\n",
       "    <tr style=\"text-align: right;\">\n",
       "      <th></th>\n",
       "      <th>ID</th>\n",
       "      <th>Drug</th>\n",
       "    </tr>\n",
       "  </thead>\n",
       "  <tbody>\n",
       "    <tr>\n",
       "      <th>0</th>\n",
       "      <td>8</td>\n",
       "      <td>0</td>\n",
       "    </tr>\n",
       "    <tr>\n",
       "      <th>1</th>\n",
       "      <td>9</td>\n",
       "      <td>4</td>\n",
       "    </tr>\n",
       "  </tbody>\n",
       "</table>\n",
       "</div>"
      ],
      "text/plain": [
       "   ID  Drug\n",
       "0   8     0\n",
       "1   9     4"
      ]
     },
     "execution_count": 59,
     "metadata": {},
     "output_type": "execute_result"
    }
   ],
   "source": [
    "Y_pred = model.predict(X_submissionF)\n",
    "\n",
    "submission = pd.DataFrame({'ID': X_submission['ID'], \n",
    "                           'Drug': Y_pred})\n",
    "submission.to_csv('./submission.csv', index=False)\n",
    "submission.head(2)"
   ]
  },
  {
   "cell_type": "code",
   "execution_count": 61,
   "id": "8c260406-7c5e-470d-99aa-cb03f5fa0e56",
   "metadata": {
    "tags": []
   },
   "outputs": [
    {
     "data": {
      "text/html": [
       "<div>\n",
       "<style scoped>\n",
       "    .dataframe tbody tr th:only-of-type {\n",
       "        vertical-align: middle;\n",
       "    }\n",
       "\n",
       "    .dataframe tbody tr th {\n",
       "        vertical-align: top;\n",
       "    }\n",
       "\n",
       "    .dataframe thead th {\n",
       "        text-align: right;\n",
       "    }\n",
       "</style>\n",
       "<table border=\"1\" class=\"dataframe\">\n",
       "  <thead>\n",
       "    <tr style=\"text-align: right;\">\n",
       "      <th></th>\n",
       "      <th>Importance</th>\n",
       "    </tr>\n",
       "  </thead>\n",
       "  <tbody>\n",
       "    <tr>\n",
       "      <th>Na_to_K</th>\n",
       "      <td>0.4844</td>\n",
       "    </tr>\n",
       "    <tr>\n",
       "      <th>BP_HIGH</th>\n",
       "      <td>0.2154</td>\n",
       "    </tr>\n",
       "    <tr>\n",
       "      <th>Age</th>\n",
       "      <td>0.1319</td>\n",
       "    </tr>\n",
       "    <tr>\n",
       "      <th>Cholesterol_NORMAL</th>\n",
       "      <td>0.1128</td>\n",
       "    </tr>\n",
       "    <tr>\n",
       "      <th>BP_LOW</th>\n",
       "      <td>0.0554</td>\n",
       "    </tr>\n",
       "    <tr>\n",
       "      <th>Sex</th>\n",
       "      <td>0.0000</td>\n",
       "    </tr>\n",
       "    <tr>\n",
       "      <th>BP_NORMAL</th>\n",
       "      <td>0.0000</td>\n",
       "    </tr>\n",
       "    <tr>\n",
       "      <th>Cholesterol_HIGH</th>\n",
       "      <td>0.0000</td>\n",
       "    </tr>\n",
       "  </tbody>\n",
       "</table>\n",
       "</div>"
      ],
      "text/plain": [
       "                    Importance\n",
       "Na_to_K                 0.4844\n",
       "BP_HIGH                 0.2154\n",
       "Age                     0.1319\n",
       "Cholesterol_NORMAL      0.1128\n",
       "BP_LOW                  0.0554\n",
       "Sex                     0.0000\n",
       "BP_NORMAL               0.0000\n",
       "Cholesterol_HIGH        0.0000"
      ]
     },
     "execution_count": 61,
     "metadata": {},
     "output_type": "execute_result"
    }
   ],
   "source": [
    "pd.DataFrame(model.feature_importances_, index=model.feature_names_in_, columns=['Importance']).sort_values('Importance', ascending=False)"
   ]
  },
  {
   "cell_type": "markdown",
   "id": "e2283055-aab1-44a2-85a2-867ad8531c24",
   "metadata": {},
   "source": [
    "#### 실제값과 비교 (Accuracy, Precision, Recall, F1 Score)"
   ]
  },
  {
   "cell_type": "code",
   "execution_count": 62,
   "id": "624d6008-495f-4b6e-a732-347962b34026",
   "metadata": {
    "tags": []
   },
   "outputs": [
    {
     "data": {
      "text/html": [
       "<div>\n",
       "<style scoped>\n",
       "    .dataframe tbody tr th:only-of-type {\n",
       "        vertical-align: middle;\n",
       "    }\n",
       "\n",
       "    .dataframe tbody tr th {\n",
       "        vertical-align: top;\n",
       "    }\n",
       "\n",
       "    .dataframe thead th {\n",
       "        text-align: right;\n",
       "    }\n",
       "</style>\n",
       "<table border=\"1\" class=\"dataframe\">\n",
       "  <thead>\n",
       "    <tr style=\"text-align: right;\">\n",
       "      <th></th>\n",
       "      <th>ID</th>\n",
       "      <th>Drug</th>\n",
       "    </tr>\n",
       "  </thead>\n",
       "  <tbody>\n",
       "    <tr>\n",
       "      <th>0</th>\n",
       "      <td>8</td>\n",
       "      <td>0</td>\n",
       "    </tr>\n",
       "    <tr>\n",
       "      <th>1</th>\n",
       "      <td>9</td>\n",
       "      <td>4</td>\n",
       "    </tr>\n",
       "    <tr>\n",
       "      <th>2</th>\n",
       "      <td>14</td>\n",
       "      <td>1</td>\n",
       "    </tr>\n",
       "    <tr>\n",
       "      <th>3</th>\n",
       "      <td>25</td>\n",
       "      <td>4</td>\n",
       "    </tr>\n",
       "    <tr>\n",
       "      <th>4</th>\n",
       "      <td>26</td>\n",
       "      <td>0</td>\n",
       "    </tr>\n",
       "  </tbody>\n",
       "</table>\n",
       "</div>"
      ],
      "text/plain": [
       "   ID  Drug\n",
       "0   8     0\n",
       "1   9     4\n",
       "2  14     1\n",
       "3  25     4\n",
       "4  26     0"
      ]
     },
     "metadata": {},
     "output_type": "display_data"
    },
    {
     "data": {
      "text/html": [
       "<div>\n",
       "<style scoped>\n",
       "    .dataframe tbody tr th:only-of-type {\n",
       "        vertical-align: middle;\n",
       "    }\n",
       "\n",
       "    .dataframe tbody tr th {\n",
       "        vertical-align: top;\n",
       "    }\n",
       "\n",
       "    .dataframe thead th {\n",
       "        text-align: right;\n",
       "    }\n",
       "</style>\n",
       "<table border=\"1\" class=\"dataframe\">\n",
       "  <thead>\n",
       "    <tr style=\"text-align: right;\">\n",
       "      <th></th>\n",
       "      <th>ID</th>\n",
       "      <th>Drug</th>\n",
       "    </tr>\n",
       "  </thead>\n",
       "  <tbody>\n",
       "    <tr>\n",
       "      <th>0</th>\n",
       "      <td>8</td>\n",
       "      <td>0</td>\n",
       "    </tr>\n",
       "    <tr>\n",
       "      <th>1</th>\n",
       "      <td>9</td>\n",
       "      <td>4</td>\n",
       "    </tr>\n",
       "    <tr>\n",
       "      <th>2</th>\n",
       "      <td>14</td>\n",
       "      <td>1</td>\n",
       "    </tr>\n",
       "    <tr>\n",
       "      <th>3</th>\n",
       "      <td>25</td>\n",
       "      <td>4</td>\n",
       "    </tr>\n",
       "    <tr>\n",
       "      <th>4</th>\n",
       "      <td>26</td>\n",
       "      <td>0</td>\n",
       "    </tr>\n",
       "  </tbody>\n",
       "</table>\n",
       "</div>"
      ],
      "text/plain": [
       "   ID  Drug\n",
       "0   8     0\n",
       "1   9     4\n",
       "2  14     1\n",
       "3  25     4\n",
       "4  26     0"
      ]
     },
     "metadata": {},
     "output_type": "display_data"
    }
   ],
   "source": [
    "Y_predict = pd.read_csv('./submission.csv')\n",
    "display(Y_actual.head())\n",
    "display(Y_predict.head())"
   ]
  },
  {
   "cell_type": "code",
   "execution_count": 65,
   "id": "d426951e-21de-4a75-a4e5-2127664ae538",
   "metadata": {
    "tags": []
   },
   "outputs": [
    {
     "data": {
      "text/html": [
       "<div>\n",
       "<style scoped>\n",
       "    .dataframe tbody tr th:only-of-type {\n",
       "        vertical-align: middle;\n",
       "    }\n",
       "\n",
       "    .dataframe tbody tr th {\n",
       "        vertical-align: top;\n",
       "    }\n",
       "\n",
       "    .dataframe thead th {\n",
       "        text-align: right;\n",
       "    }\n",
       "</style>\n",
       "<table border=\"1\" class=\"dataframe\">\n",
       "  <thead>\n",
       "    <tr style=\"text-align: right;\">\n",
       "      <th></th>\n",
       "      <th>0</th>\n",
       "      <th>1</th>\n",
       "      <th>2</th>\n",
       "      <th>3</th>\n",
       "      <th>4</th>\n",
       "    </tr>\n",
       "  </thead>\n",
       "  <tbody>\n",
       "    <tr>\n",
       "      <th>0</th>\n",
       "      <td>15</td>\n",
       "      <td>0</td>\n",
       "      <td>0</td>\n",
       "      <td>0</td>\n",
       "      <td>0</td>\n",
       "    </tr>\n",
       "    <tr>\n",
       "      <th>1</th>\n",
       "      <td>0</td>\n",
       "      <td>7</td>\n",
       "      <td>0</td>\n",
       "      <td>0</td>\n",
       "      <td>0</td>\n",
       "    </tr>\n",
       "    <tr>\n",
       "      <th>2</th>\n",
       "      <td>0</td>\n",
       "      <td>0</td>\n",
       "      <td>5</td>\n",
       "      <td>0</td>\n",
       "      <td>0</td>\n",
       "    </tr>\n",
       "    <tr>\n",
       "      <th>3</th>\n",
       "      <td>0</td>\n",
       "      <td>0</td>\n",
       "      <td>0</td>\n",
       "      <td>3</td>\n",
       "      <td>0</td>\n",
       "    </tr>\n",
       "    <tr>\n",
       "      <th>4</th>\n",
       "      <td>0</td>\n",
       "      <td>0</td>\n",
       "      <td>0</td>\n",
       "      <td>0</td>\n",
       "      <td>13</td>\n",
       "    </tr>\n",
       "  </tbody>\n",
       "</table>\n",
       "</div>"
      ],
      "text/plain": [
       "    0  1  2  3   4\n",
       "0  15  0  0  0   0\n",
       "1   0  7  0  0   0\n",
       "2   0  0  5  0   0\n",
       "3   0  0  0  3   0\n",
       "4   0  0  0  0  13"
      ]
     },
     "execution_count": 65,
     "metadata": {},
     "output_type": "execute_result"
    }
   ],
   "source": [
    "pd.DataFrame(confusion_matrix(Y_actual['Drug'], Y_predict['Drug']), index=range(0,5), columns=range(0,5))"
   ]
  },
  {
   "cell_type": "code",
   "execution_count": 81,
   "id": "462567e3-8a11-4831-a1bb-bd988cc248b3",
   "metadata": {
    "tags": []
   },
   "outputs": [
    {
     "name": "stdout",
     "output_type": "stream",
     "text": [
      "Accuracy  Score: 1.0000\n",
      "Precision Score: 1.0000\n",
      "Recall    Score: 1.0000\n",
      "F1        Score: 1.0000\n"
     ]
    }
   ],
   "source": [
    "print(f'Accuracy  Score: {accuracy_score(Y_actual.Drug, Y_predict.Drug):.4f}')\n",
    "print(f'Precision Score: {precision_score(Y_actual.Drug, Y_predict.Drug, average=\"macro\"):.4f}')\n",
    "print(f'Recall    Score: {recall_score(Y_actual.Drug, Y_predict.Drug, average=\"macro\"):.4f}')\n",
    "print(f'F1        Score: {f1_score(Y_actual.Drug, Y_predict.Drug, average=\"macro\"):.4f}')"
   ]
  },
  {
   "cell_type": "markdown",
   "id": "73ab7e90",
   "metadata": {},
   "source": [
    "### 사기회사 분류 데이터"
   ]
  },
  {
   "cell_type": "markdown",
   "id": "d85ab0f8",
   "metadata": {},
   "source": [
    "```{attention} \n",
    "데이터 설명 : 사기회사 분류  (종속변수 : Risk 1: 사기 , 0 : 정상)     \n",
    "x_train: https://raw.githubusercontent.com/Datamanim/datarepo/main/audit/x_train.csv    \n",
    "y_train: https://raw.githubusercontent.com/Datamanim/datarepo/main/audit/y_train.csv  \n",
    "x_test: https://raw.githubusercontent.com/Datamanim/datarepo/main/audit/x_test.csv   \n",
    "x_label(평가용) : https://raw.githubusercontent.com/Datamanim/datarepo/main/audit/y_test.csv    \n",
    "데이터 출처 :https://www.kaggle.com/sid321axn/audit-data(참고, 데이터 수정)    \n",
    "```  "
   ]
  },
  {
   "cell_type": "code",
   "execution_count": 59,
   "id": "260dbf8c",
   "metadata": {
    "ExecuteTime": {
     "end_time": "2022-05-01T10:28:09.689945Z",
     "start_time": "2022-05-01T10:28:08.589388Z"
    }
   },
   "outputs": [
    {
     "data": {
      "text/html": [
       "<div>\n",
       "<style scoped>\n",
       "    .dataframe tbody tr th:only-of-type {\n",
       "        vertical-align: middle;\n",
       "    }\n",
       "\n",
       "    .dataframe tbody tr th {\n",
       "        vertical-align: top;\n",
       "    }\n",
       "\n",
       "    .dataframe thead th {\n",
       "        text-align: right;\n",
       "    }\n",
       "</style>\n",
       "<table border=\"1\" class=\"dataframe\">\n",
       "  <thead>\n",
       "    <tr style=\"text-align: right;\">\n",
       "      <th></th>\n",
       "      <th>ID</th>\n",
       "      <th>Sector_score</th>\n",
       "      <th>LOCATION_ID</th>\n",
       "      <th>PARA_A</th>\n",
       "      <th>Score_A</th>\n",
       "      <th>Risk_A</th>\n",
       "      <th>PARA_B</th>\n",
       "      <th>Score_B</th>\n",
       "      <th>Risk_B</th>\n",
       "      <th>TOTAL</th>\n",
       "      <th>...</th>\n",
       "      <th>PROB</th>\n",
       "      <th>RiSk_E</th>\n",
       "      <th>History</th>\n",
       "      <th>Prob</th>\n",
       "      <th>Risk_F</th>\n",
       "      <th>Score</th>\n",
       "      <th>Inherent_Risk</th>\n",
       "      <th>CONTROL_RISK</th>\n",
       "      <th>Detection_Risk</th>\n",
       "      <th>Audit_Risk</th>\n",
       "    </tr>\n",
       "  </thead>\n",
       "  <tbody>\n",
       "    <tr>\n",
       "      <th>0</th>\n",
       "      <td>0</td>\n",
       "      <td>2.37</td>\n",
       "      <td>16</td>\n",
       "      <td>0.01</td>\n",
       "      <td>0.2</td>\n",
       "      <td>0.002</td>\n",
       "      <td>0.007</td>\n",
       "      <td>0.2</td>\n",
       "      <td>0.0014</td>\n",
       "      <td>0.017</td>\n",
       "      <td>...</td>\n",
       "      <td>0.2</td>\n",
       "      <td>0.4</td>\n",
       "      <td>0</td>\n",
       "      <td>0.2</td>\n",
       "      <td>0.0</td>\n",
       "      <td>2.0</td>\n",
       "      <td>1.4034</td>\n",
       "      <td>0.4</td>\n",
       "      <td>0.5</td>\n",
       "      <td>0.28068</td>\n",
       "    </tr>\n",
       "    <tr>\n",
       "      <th>1</th>\n",
       "      <td>2</td>\n",
       "      <td>55.57</td>\n",
       "      <td>9</td>\n",
       "      <td>1.06</td>\n",
       "      <td>0.4</td>\n",
       "      <td>0.424</td>\n",
       "      <td>0.000</td>\n",
       "      <td>0.2</td>\n",
       "      <td>0.0000</td>\n",
       "      <td>1.060</td>\n",
       "      <td>...</td>\n",
       "      <td>0.2</td>\n",
       "      <td>0.4</td>\n",
       "      <td>0</td>\n",
       "      <td>0.2</td>\n",
       "      <td>0.0</td>\n",
       "      <td>2.2</td>\n",
       "      <td>1.8240</td>\n",
       "      <td>0.4</td>\n",
       "      <td>0.5</td>\n",
       "      <td>0.36480</td>\n",
       "    </tr>\n",
       "    <tr>\n",
       "      <th>2</th>\n",
       "      <td>3</td>\n",
       "      <td>55.57</td>\n",
       "      <td>16</td>\n",
       "      <td>2.42</td>\n",
       "      <td>0.6</td>\n",
       "      <td>1.452</td>\n",
       "      <td>3.530</td>\n",
       "      <td>0.6</td>\n",
       "      <td>2.1180</td>\n",
       "      <td>5.950</td>\n",
       "      <td>...</td>\n",
       "      <td>0.2</td>\n",
       "      <td>0.4</td>\n",
       "      <td>0</td>\n",
       "      <td>0.2</td>\n",
       "      <td>0.0</td>\n",
       "      <td>3.8</td>\n",
       "      <td>7.4940</td>\n",
       "      <td>0.4</td>\n",
       "      <td>0.5</td>\n",
       "      <td>1.49880</td>\n",
       "    </tr>\n",
       "    <tr>\n",
       "      <th>3</th>\n",
       "      <td>4</td>\n",
       "      <td>2.37</td>\n",
       "      <td>9</td>\n",
       "      <td>0.31</td>\n",
       "      <td>0.2</td>\n",
       "      <td>0.062</td>\n",
       "      <td>0.690</td>\n",
       "      <td>0.2</td>\n",
       "      <td>0.1380</td>\n",
       "      <td>1.000</td>\n",
       "      <td>...</td>\n",
       "      <td>0.2</td>\n",
       "      <td>0.4</td>\n",
       "      <td>0</td>\n",
       "      <td>0.2</td>\n",
       "      <td>0.0</td>\n",
       "      <td>2.0</td>\n",
       "      <td>1.6000</td>\n",
       "      <td>0.4</td>\n",
       "      <td>0.5</td>\n",
       "      <td>0.32000</td>\n",
       "    </tr>\n",
       "    <tr>\n",
       "      <th>4</th>\n",
       "      <td>5</td>\n",
       "      <td>55.57</td>\n",
       "      <td>6</td>\n",
       "      <td>0.62</td>\n",
       "      <td>0.2</td>\n",
       "      <td>0.124</td>\n",
       "      <td>0.420</td>\n",
       "      <td>0.2</td>\n",
       "      <td>0.0840</td>\n",
       "      <td>1.040</td>\n",
       "      <td>...</td>\n",
       "      <td>0.2</td>\n",
       "      <td>0.4</td>\n",
       "      <td>0</td>\n",
       "      <td>0.2</td>\n",
       "      <td>0.0</td>\n",
       "      <td>2.0</td>\n",
       "      <td>1.6080</td>\n",
       "      <td>0.4</td>\n",
       "      <td>0.5</td>\n",
       "      <td>0.32160</td>\n",
       "    </tr>\n",
       "  </tbody>\n",
       "</table>\n",
       "<p>5 rows × 27 columns</p>\n",
       "</div>"
      ],
      "text/plain": [
       "   ID  Sector_score LOCATION_ID  PARA_A  Score_A  Risk_A  PARA_B  Score_B  \\\n",
       "0   0          2.37          16    0.01      0.2   0.002   0.007      0.2   \n",
       "1   2         55.57           9    1.06      0.4   0.424   0.000      0.2   \n",
       "2   3         55.57          16    2.42      0.6   1.452   3.530      0.6   \n",
       "3   4          2.37           9    0.31      0.2   0.062   0.690      0.2   \n",
       "4   5         55.57           6    0.62      0.2   0.124   0.420      0.2   \n",
       "\n",
       "   Risk_B  TOTAL  ...  PROB  RiSk_E  History  Prob  Risk_F  Score  \\\n",
       "0  0.0014  0.017  ...   0.2     0.4        0   0.2     0.0    2.0   \n",
       "1  0.0000  1.060  ...   0.2     0.4        0   0.2     0.0    2.2   \n",
       "2  2.1180  5.950  ...   0.2     0.4        0   0.2     0.0    3.8   \n",
       "3  0.1380  1.000  ...   0.2     0.4        0   0.2     0.0    2.0   \n",
       "4  0.0840  1.040  ...   0.2     0.4        0   0.2     0.0    2.0   \n",
       "\n",
       "   Inherent_Risk  CONTROL_RISK  Detection_Risk  Audit_Risk  \n",
       "0         1.4034           0.4             0.5     0.28068  \n",
       "1         1.8240           0.4             0.5     0.36480  \n",
       "2         7.4940           0.4             0.5     1.49880  \n",
       "3         1.6000           0.4             0.5     0.32000  \n",
       "4         1.6080           0.4             0.5     0.32160  \n",
       "\n",
       "[5 rows x 27 columns]"
      ]
     },
     "metadata": {},
     "output_type": "display_data"
    },
    {
     "data": {
      "text/html": [
       "<div>\n",
       "<style scoped>\n",
       "    .dataframe tbody tr th:only-of-type {\n",
       "        vertical-align: middle;\n",
       "    }\n",
       "\n",
       "    .dataframe tbody tr th {\n",
       "        vertical-align: top;\n",
       "    }\n",
       "\n",
       "    .dataframe thead th {\n",
       "        text-align: right;\n",
       "    }\n",
       "</style>\n",
       "<table border=\"1\" class=\"dataframe\">\n",
       "  <thead>\n",
       "    <tr style=\"text-align: right;\">\n",
       "      <th></th>\n",
       "      <th>ID</th>\n",
       "      <th>Risk</th>\n",
       "    </tr>\n",
       "  </thead>\n",
       "  <tbody>\n",
       "    <tr>\n",
       "      <th>0</th>\n",
       "      <td>0</td>\n",
       "      <td>0</td>\n",
       "    </tr>\n",
       "    <tr>\n",
       "      <th>1</th>\n",
       "      <td>2</td>\n",
       "      <td>0</td>\n",
       "    </tr>\n",
       "    <tr>\n",
       "      <th>2</th>\n",
       "      <td>3</td>\n",
       "      <td>1</td>\n",
       "    </tr>\n",
       "    <tr>\n",
       "      <th>3</th>\n",
       "      <td>4</td>\n",
       "      <td>0</td>\n",
       "    </tr>\n",
       "    <tr>\n",
       "      <th>4</th>\n",
       "      <td>5</td>\n",
       "      <td>0</td>\n",
       "    </tr>\n",
       "  </tbody>\n",
       "</table>\n",
       "</div>"
      ],
      "text/plain": [
       "   ID  Risk\n",
       "0   0     0\n",
       "1   2     0\n",
       "2   3     1\n",
       "3   4     0\n",
       "4   5     0"
      ]
     },
     "metadata": {},
     "output_type": "display_data"
    }
   ],
   "source": [
    "import pandas as pd\n",
    "#데이터 로드\n",
    "x_train = pd.read_csv(\"https://raw.githubusercontent.com/Datamanim/datarepo/main/audit/x_train.csv\")\n",
    "y_train = pd.read_csv(\"https://raw.githubusercontent.com/Datamanim/datarepo/main/audit/y_train.csv\")\n",
    "x_test= pd.read_csv(\"https://raw.githubusercontent.com/Datamanim/datarepo/main/audit/x_test.csv\")\n",
    "\n",
    "\n",
    "display(x_train.head())\n",
    "display(y_train.head())"
   ]
  },
  {
   "cell_type": "markdown",
   "id": "6b322b77",
   "metadata": {},
   "source": [
    "### 센서데이터 동작유형 분류 데이터"
   ]
  },
  {
   "cell_type": "markdown",
   "id": "483004d8",
   "metadata": {},
   "source": [
    "```{attention} \n",
    "데이터 설명 : 센서데이터로 동작 유형 분류  (종속변수 pose : 0 ,1 구분)   \n",
    "x_train: https://raw.githubusercontent.com/Datamanim/datarepo/main/muscle/x_train.csv    \n",
    "y_train: https://raw.githubusercontent.com/Datamanim/datarepo/main/muscle/y_train.csv  \n",
    "x_test: https://raw.githubusercontent.com/Datamanim/datarepo/main/muscle/x_test.csv   \n",
    "x_label(평가용) : https://raw.githubusercontent.com/Datamanim/datarepo/main/muscle/y_test.csv    \n",
    "데이터 출처 :https://www.kaggle.com/kyr7plus/emg-4(참고, 데이터 수정)    \n",
    "```  "
   ]
  },
  {
   "cell_type": "code",
   "execution_count": 61,
   "id": "952a2661",
   "metadata": {
    "ExecuteTime": {
     "end_time": "2022-05-01T10:28:34.977183Z",
     "start_time": "2022-05-01T10:28:33.719587Z"
    }
   },
   "outputs": [
    {
     "data": {
      "text/html": [
       "<div>\n",
       "<style scoped>\n",
       "    .dataframe tbody tr th:only-of-type {\n",
       "        vertical-align: middle;\n",
       "    }\n",
       "\n",
       "    .dataframe tbody tr th {\n",
       "        vertical-align: top;\n",
       "    }\n",
       "\n",
       "    .dataframe thead th {\n",
       "        text-align: right;\n",
       "    }\n",
       "</style>\n",
       "<table border=\"1\" class=\"dataframe\">\n",
       "  <thead>\n",
       "    <tr style=\"text-align: right;\">\n",
       "      <th></th>\n",
       "      <th>ID</th>\n",
       "      <th>motion_0</th>\n",
       "      <th>motion_1</th>\n",
       "      <th>motion_2</th>\n",
       "      <th>motion_3</th>\n",
       "      <th>motion_4</th>\n",
       "      <th>motion_5</th>\n",
       "      <th>motion_6</th>\n",
       "      <th>motion_7</th>\n",
       "      <th>motion_8</th>\n",
       "      <th>...</th>\n",
       "      <th>motion_54</th>\n",
       "      <th>motion_55</th>\n",
       "      <th>motion_56</th>\n",
       "      <th>motion_57</th>\n",
       "      <th>motion_58</th>\n",
       "      <th>motion_59</th>\n",
       "      <th>motion_60</th>\n",
       "      <th>motion_61</th>\n",
       "      <th>motion_62</th>\n",
       "      <th>motion_63</th>\n",
       "    </tr>\n",
       "  </thead>\n",
       "  <tbody>\n",
       "    <tr>\n",
       "      <th>0</th>\n",
       "      <td>0</td>\n",
       "      <td>1.0</td>\n",
       "      <td>-2.0</td>\n",
       "      <td>-1.0</td>\n",
       "      <td>4.0</td>\n",
       "      <td>-5.0</td>\n",
       "      <td>-4.0</td>\n",
       "      <td>1.0</td>\n",
       "      <td>0.0</td>\n",
       "      <td>-15.0</td>\n",
       "      <td>...</td>\n",
       "      <td>0.0</td>\n",
       "      <td>-1.0</td>\n",
       "      <td>-13.0</td>\n",
       "      <td>-3.0</td>\n",
       "      <td>1.0</td>\n",
       "      <td>-1.0</td>\n",
       "      <td>-32.0</td>\n",
       "      <td>-22.0</td>\n",
       "      <td>-2.0</td>\n",
       "      <td>-3.0</td>\n",
       "    </tr>\n",
       "    <tr>\n",
       "      <th>1</th>\n",
       "      <td>2</td>\n",
       "      <td>20.0</td>\n",
       "      <td>0.0</td>\n",
       "      <td>0.0</td>\n",
       "      <td>1.0</td>\n",
       "      <td>5.0</td>\n",
       "      <td>6.0</td>\n",
       "      <td>-52.0</td>\n",
       "      <td>18.0</td>\n",
       "      <td>15.0</td>\n",
       "      <td>...</td>\n",
       "      <td>-70.0</td>\n",
       "      <td>-55.0</td>\n",
       "      <td>-38.0</td>\n",
       "      <td>-14.0</td>\n",
       "      <td>-12.0</td>\n",
       "      <td>-8.0</td>\n",
       "      <td>-34.0</td>\n",
       "      <td>-63.0</td>\n",
       "      <td>-87.0</td>\n",
       "      <td>-77.0</td>\n",
       "    </tr>\n",
       "    <tr>\n",
       "      <th>2</th>\n",
       "      <td>4</td>\n",
       "      <td>1.0</td>\n",
       "      <td>-1.0</td>\n",
       "      <td>1.0</td>\n",
       "      <td>4.0</td>\n",
       "      <td>-5.0</td>\n",
       "      <td>-8.0</td>\n",
       "      <td>1.0</td>\n",
       "      <td>-3.0</td>\n",
       "      <td>-14.0</td>\n",
       "      <td>...</td>\n",
       "      <td>1.0</td>\n",
       "      <td>12.0</td>\n",
       "      <td>-25.0</td>\n",
       "      <td>0.0</td>\n",
       "      <td>0.0</td>\n",
       "      <td>3.0</td>\n",
       "      <td>2.0</td>\n",
       "      <td>-27.0</td>\n",
       "      <td>1.0</td>\n",
       "      <td>0.0</td>\n",
       "    </tr>\n",
       "    <tr>\n",
       "      <th>3</th>\n",
       "      <td>5</td>\n",
       "      <td>13.0</td>\n",
       "      <td>2.0</td>\n",
       "      <td>1.0</td>\n",
       "      <td>-3.0</td>\n",
       "      <td>1.0</td>\n",
       "      <td>3.0</td>\n",
       "      <td>28.0</td>\n",
       "      <td>3.0</td>\n",
       "      <td>12.0</td>\n",
       "      <td>...</td>\n",
       "      <td>0.0</td>\n",
       "      <td>-21.0</td>\n",
       "      <td>-17.0</td>\n",
       "      <td>-2.0</td>\n",
       "      <td>0.0</td>\n",
       "      <td>-4.0</td>\n",
       "      <td>-17.0</td>\n",
       "      <td>-21.0</td>\n",
       "      <td>-21.0</td>\n",
       "      <td>25.0</td>\n",
       "    </tr>\n",
       "    <tr>\n",
       "      <th>4</th>\n",
       "      <td>6</td>\n",
       "      <td>-2.0</td>\n",
       "      <td>-7.0</td>\n",
       "      <td>-4.0</td>\n",
       "      <td>-8.0</td>\n",
       "      <td>16.0</td>\n",
       "      <td>44.0</td>\n",
       "      <td>1.0</td>\n",
       "      <td>3.0</td>\n",
       "      <td>-16.0</td>\n",
       "      <td>...</td>\n",
       "      <td>-1.0</td>\n",
       "      <td>2.0</td>\n",
       "      <td>-1.0</td>\n",
       "      <td>1.0</td>\n",
       "      <td>4.0</td>\n",
       "      <td>4.0</td>\n",
       "      <td>-17.0</td>\n",
       "      <td>-38.0</td>\n",
       "      <td>-3.0</td>\n",
       "      <td>3.0</td>\n",
       "    </tr>\n",
       "  </tbody>\n",
       "</table>\n",
       "<p>5 rows × 65 columns</p>\n",
       "</div>"
      ],
      "text/plain": [
       "   ID  motion_0  motion_1  motion_2  motion_3  motion_4  motion_5  motion_6  \\\n",
       "0   0       1.0      -2.0      -1.0       4.0      -5.0      -4.0       1.0   \n",
       "1   2      20.0       0.0       0.0       1.0       5.0       6.0     -52.0   \n",
       "2   4       1.0      -1.0       1.0       4.0      -5.0      -8.0       1.0   \n",
       "3   5      13.0       2.0       1.0      -3.0       1.0       3.0      28.0   \n",
       "4   6      -2.0      -7.0      -4.0      -8.0      16.0      44.0       1.0   \n",
       "\n",
       "   motion_7  motion_8  ...  motion_54  motion_55  motion_56  motion_57  \\\n",
       "0       0.0     -15.0  ...        0.0       -1.0      -13.0       -3.0   \n",
       "1      18.0      15.0  ...      -70.0      -55.0      -38.0      -14.0   \n",
       "2      -3.0     -14.0  ...        1.0       12.0      -25.0        0.0   \n",
       "3       3.0      12.0  ...        0.0      -21.0      -17.0       -2.0   \n",
       "4       3.0     -16.0  ...       -1.0        2.0       -1.0        1.0   \n",
       "\n",
       "   motion_58  motion_59  motion_60  motion_61  motion_62  motion_63  \n",
       "0        1.0       -1.0      -32.0      -22.0       -2.0       -3.0  \n",
       "1      -12.0       -8.0      -34.0      -63.0      -87.0      -77.0  \n",
       "2        0.0        3.0        2.0      -27.0        1.0        0.0  \n",
       "3        0.0       -4.0      -17.0      -21.0      -21.0       25.0  \n",
       "4        4.0        4.0      -17.0      -38.0       -3.0        3.0  \n",
       "\n",
       "[5 rows x 65 columns]"
      ]
     },
     "metadata": {},
     "output_type": "display_data"
    },
    {
     "data": {
      "text/html": [
       "<div>\n",
       "<style scoped>\n",
       "    .dataframe tbody tr th:only-of-type {\n",
       "        vertical-align: middle;\n",
       "    }\n",
       "\n",
       "    .dataframe tbody tr th {\n",
       "        vertical-align: top;\n",
       "    }\n",
       "\n",
       "    .dataframe thead th {\n",
       "        text-align: right;\n",
       "    }\n",
       "</style>\n",
       "<table border=\"1\" class=\"dataframe\">\n",
       "  <thead>\n",
       "    <tr style=\"text-align: right;\">\n",
       "      <th></th>\n",
       "      <th>ID</th>\n",
       "      <th>pose</th>\n",
       "    </tr>\n",
       "  </thead>\n",
       "  <tbody>\n",
       "    <tr>\n",
       "      <th>0</th>\n",
       "      <td>0</td>\n",
       "      <td>1</td>\n",
       "    </tr>\n",
       "    <tr>\n",
       "      <th>1</th>\n",
       "      <td>2</td>\n",
       "      <td>0</td>\n",
       "    </tr>\n",
       "    <tr>\n",
       "      <th>2</th>\n",
       "      <td>4</td>\n",
       "      <td>1</td>\n",
       "    </tr>\n",
       "    <tr>\n",
       "      <th>3</th>\n",
       "      <td>5</td>\n",
       "      <td>0</td>\n",
       "    </tr>\n",
       "    <tr>\n",
       "      <th>4</th>\n",
       "      <td>6</td>\n",
       "      <td>1</td>\n",
       "    </tr>\n",
       "  </tbody>\n",
       "</table>\n",
       "</div>"
      ],
      "text/plain": [
       "   ID  pose\n",
       "0   0     1\n",
       "1   2     0\n",
       "2   4     1\n",
       "3   5     0\n",
       "4   6     1"
      ]
     },
     "metadata": {},
     "output_type": "display_data"
    }
   ],
   "source": [
    "import pandas as pd\n",
    "#데이터 로드\n",
    "x_train = pd.read_csv(\"https://raw.githubusercontent.com/Datamanim/datarepo/main/muscle/x_train.csv\")\n",
    "y_train = pd.read_csv(\"https://raw.githubusercontent.com/Datamanim/datarepo/main/muscle/y_train.csv\")\n",
    "x_test= pd.read_csv(\"https://raw.githubusercontent.com/Datamanim/datarepo/main/muscle/x_test.csv\")\n",
    "\n",
    "\n",
    "display(x_train.head())\n",
    "display(y_train.head())"
   ]
  },
  {
   "cell_type": "markdown",
   "id": "27a6fe63",
   "metadata": {},
   "source": [
    "### 당뇨여부판단 데이터"
   ]
  },
  {
   "cell_type": "markdown",
   "id": "dd2271f0",
   "metadata": {},
   "source": [
    "```{attention}  \n",
    "데이터 설명 :  당뇨여부 판단하기 (종속변수 Outcome : 1 당뇨 , 0 :정상)         \n",
    "x_train: https://raw.githubusercontent.com/Datamanim/datarepo/main/diabetes/x_train.csv    \n",
    "y_train: https://raw.githubusercontent.com/Datamanim/datarepo/main/diabetes/y_train.csv  \n",
    "x_test: https://raw.githubusercontent.com/Datamanim/datarepo/main/diabetes/x_test.csv   \n",
    "x_label(평가용) : https://raw.githubusercontent.com/Datamanim/datarepo/main/diabetes/y_test.csv    \n",
    "데이터 출처 :https://www.kaggle.com/pritsheta/diabetes-dataset(참고, 데이터 수정)    \n",
    "```  "
   ]
  },
  {
   "cell_type": "code",
   "execution_count": 62,
   "id": "8cd92107",
   "metadata": {
    "ExecuteTime": {
     "end_time": "2022-05-01T10:28:51.623711Z",
     "start_time": "2022-05-01T10:28:50.054023Z"
    }
   },
   "outputs": [
    {
     "data": {
      "text/html": [
       "<div>\n",
       "<style scoped>\n",
       "    .dataframe tbody tr th:only-of-type {\n",
       "        vertical-align: middle;\n",
       "    }\n",
       "\n",
       "    .dataframe tbody tr th {\n",
       "        vertical-align: top;\n",
       "    }\n",
       "\n",
       "    .dataframe thead th {\n",
       "        text-align: right;\n",
       "    }\n",
       "</style>\n",
       "<table border=\"1\" class=\"dataframe\">\n",
       "  <thead>\n",
       "    <tr style=\"text-align: right;\">\n",
       "      <th></th>\n",
       "      <th>ID</th>\n",
       "      <th>Pregnancies</th>\n",
       "      <th>Glucose</th>\n",
       "      <th>BloodPressure</th>\n",
       "      <th>SkinThickness</th>\n",
       "      <th>Insulin</th>\n",
       "      <th>BMI</th>\n",
       "      <th>DiabetesPedigreeFunction</th>\n",
       "      <th>Age</th>\n",
       "    </tr>\n",
       "  </thead>\n",
       "  <tbody>\n",
       "    <tr>\n",
       "      <th>0</th>\n",
       "      <td>0</td>\n",
       "      <td>8</td>\n",
       "      <td>126</td>\n",
       "      <td>88</td>\n",
       "      <td>36</td>\n",
       "      <td>108</td>\n",
       "      <td>38.5</td>\n",
       "      <td>0.349</td>\n",
       "      <td>49</td>\n",
       "    </tr>\n",
       "    <tr>\n",
       "      <th>1</th>\n",
       "      <td>1</td>\n",
       "      <td>0</td>\n",
       "      <td>74</td>\n",
       "      <td>52</td>\n",
       "      <td>10</td>\n",
       "      <td>36</td>\n",
       "      <td>27.8</td>\n",
       "      <td>0.269</td>\n",
       "      <td>22</td>\n",
       "    </tr>\n",
       "    <tr>\n",
       "      <th>2</th>\n",
       "      <td>2</td>\n",
       "      <td>1</td>\n",
       "      <td>140</td>\n",
       "      <td>74</td>\n",
       "      <td>26</td>\n",
       "      <td>180</td>\n",
       "      <td>24.1</td>\n",
       "      <td>0.828</td>\n",
       "      <td>23</td>\n",
       "    </tr>\n",
       "    <tr>\n",
       "      <th>3</th>\n",
       "      <td>3</td>\n",
       "      <td>6</td>\n",
       "      <td>162</td>\n",
       "      <td>62</td>\n",
       "      <td>0</td>\n",
       "      <td>0</td>\n",
       "      <td>24.3</td>\n",
       "      <td>0.178</td>\n",
       "      <td>50</td>\n",
       "    </tr>\n",
       "    <tr>\n",
       "      <th>4</th>\n",
       "      <td>4</td>\n",
       "      <td>2</td>\n",
       "      <td>94</td>\n",
       "      <td>68</td>\n",
       "      <td>18</td>\n",
       "      <td>76</td>\n",
       "      <td>26.0</td>\n",
       "      <td>0.561</td>\n",
       "      <td>21</td>\n",
       "    </tr>\n",
       "  </tbody>\n",
       "</table>\n",
       "</div>"
      ],
      "text/plain": [
       "   ID  Pregnancies  Glucose  BloodPressure  SkinThickness  Insulin   BMI  \\\n",
       "0   0            8      126             88             36      108  38.5   \n",
       "1   1            0       74             52             10       36  27.8   \n",
       "2   2            1      140             74             26      180  24.1   \n",
       "3   3            6      162             62              0        0  24.3   \n",
       "4   4            2       94             68             18       76  26.0   \n",
       "\n",
       "   DiabetesPedigreeFunction  Age  \n",
       "0                     0.349   49  \n",
       "1                     0.269   22  \n",
       "2                     0.828   23  \n",
       "3                     0.178   50  \n",
       "4                     0.561   21  "
      ]
     },
     "metadata": {},
     "output_type": "display_data"
    },
    {
     "data": {
      "text/html": [
       "<div>\n",
       "<style scoped>\n",
       "    .dataframe tbody tr th:only-of-type {\n",
       "        vertical-align: middle;\n",
       "    }\n",
       "\n",
       "    .dataframe tbody tr th {\n",
       "        vertical-align: top;\n",
       "    }\n",
       "\n",
       "    .dataframe thead th {\n",
       "        text-align: right;\n",
       "    }\n",
       "</style>\n",
       "<table border=\"1\" class=\"dataframe\">\n",
       "  <thead>\n",
       "    <tr style=\"text-align: right;\">\n",
       "      <th></th>\n",
       "      <th>ID</th>\n",
       "      <th>Outcome</th>\n",
       "    </tr>\n",
       "  </thead>\n",
       "  <tbody>\n",
       "    <tr>\n",
       "      <th>0</th>\n",
       "      <td>0</td>\n",
       "      <td>0</td>\n",
       "    </tr>\n",
       "    <tr>\n",
       "      <th>1</th>\n",
       "      <td>1</td>\n",
       "      <td>0</td>\n",
       "    </tr>\n",
       "    <tr>\n",
       "      <th>2</th>\n",
       "      <td>2</td>\n",
       "      <td>0</td>\n",
       "    </tr>\n",
       "    <tr>\n",
       "      <th>3</th>\n",
       "      <td>3</td>\n",
       "      <td>1</td>\n",
       "    </tr>\n",
       "    <tr>\n",
       "      <th>4</th>\n",
       "      <td>4</td>\n",
       "      <td>0</td>\n",
       "    </tr>\n",
       "  </tbody>\n",
       "</table>\n",
       "</div>"
      ],
      "text/plain": [
       "   ID  Outcome\n",
       "0   0        0\n",
       "1   1        0\n",
       "2   2        0\n",
       "3   3        1\n",
       "4   4        0"
      ]
     },
     "metadata": {},
     "output_type": "display_data"
    }
   ],
   "source": [
    "import pandas as pd\n",
    "#데이터 로드\n",
    "x_train = pd.read_csv(\"https://raw.githubusercontent.com/Datamanim/datarepo/main/diabetes/x_train.csv\")\n",
    "y_train = pd.read_csv(\"https://raw.githubusercontent.com/Datamanim/datarepo/main/diabetes/y_train.csv\")\n",
    "x_test= pd.read_csv(\"https://raw.githubusercontent.com/Datamanim/datarepo/main/diabetes/x_test.csv\")\n",
    "\n",
    "\n",
    "display(x_train.head())\n",
    "display(y_train.head())"
   ]
  },
  {
   "cell_type": "markdown",
   "id": "682ef607",
   "metadata": {},
   "source": [
    "## 회귀"
   ]
  },
  {
   "cell_type": "markdown",
   "id": "24282313",
   "metadata": {},
   "source": [
    "### 학생성적 예측 데이터"
   ]
  },
  {
   "cell_type": "markdown",
   "id": "734d7ed2",
   "metadata": {},
   "source": [
    "```{attention} \n",
    "데이터 설명 : 학생성적 예측 (종속변수 :G3)        \n",
    "x_train: https://raw.githubusercontent.com/Datamanim/datarepo/main/studentscore/X_train.csv    \n",
    "y_train: https://raw.githubusercontent.com/Datamanim/datarepo/main/studentscore/y_train.csv  \n",
    "x_test: https://raw.githubusercontent.com/Datamanim/datarepo/main/studentscore/X_test.csv   \n",
    "x_label(평가용) : https://raw.githubusercontent.com/Datamanim/datarepo/main/studentscore/y_test.csv    \n",
    "데이터 출처 :https://www.kaggle.com/datasets/ishandutta/student-performance-data-set (참고, 데이터 수정)    \n",
    "```  "
   ]
  },
  {
   "cell_type": "markdown",
   "id": "97e55a58",
   "metadata": {},
   "source": [
    "```{admonition} 캐글 공유 코드 저장소 \n",
    "**본인만의 코드를 작성하고 upvote를 받아 broze medal을 획득 해보세요**\n",
    "[캐글 노트북 링크](https://www.kaggle.com/datasets/kukuroo3/student-performance-data-set-competition-form/code?select=y_train.csv)\n",
    "```"
   ]
  },
  {
   "cell_type": "code",
   "execution_count": 12,
   "id": "2d4de4e2-1979-4e5e-a4fd-c7d67ded41c4",
   "metadata": {
    "tags": []
   },
   "outputs": [
    {
     "name": "stdout",
     "output_type": "stream",
     "text": [
      "--2023-06-18 22:18:08--  https://raw.githubusercontent.com/Datamanim/datarepo/main/studentscore/X_train.csv\n",
      "raw.githubusercontent.com (raw.githubusercontent.com) 해석 중... 185.199.109.133, 185.199.111.133, 185.199.108.133, ...\n",
      "다음으로 연결 중: raw.githubusercontent.com (raw.githubusercontent.com)|185.199.109.133|:443... 연결했습니다.\n",
      "HTTP 요청을 보냈습니다. 응답 기다리는 중... 200 OK\n",
      "길이: 73333 (72K) [text/plain]\n",
      "저장 위치: `X_train.csv'\n",
      "\n",
      "X_train.csv         100%[===================>]  71.61K  --.-KB/s    /  0.02s   \n",
      "\n",
      "2023-06-18 22:18:08 (4.14 MB/s) - `X_train.csv' 저장함 [73333/73333]\n",
      "\n",
      "--2023-06-18 22:18:09--  https://raw.githubusercontent.com/Datamanim/datarepo/main/studentscore/X_test.csv\n",
      "raw.githubusercontent.com (raw.githubusercontent.com) 해석 중... 185.199.109.133, 185.199.111.133, 185.199.108.133, ...\n",
      "다음으로 연결 중: raw.githubusercontent.com (raw.githubusercontent.com)|185.199.109.133|:443... 연결했습니다.\n",
      "HTTP 요청을 보냈습니다. 응답 기다리는 중... 200 OK\n",
      "길이: 39540 (39K) [text/plain]\n",
      "저장 위치: `X_test.csv'\n",
      "\n",
      "X_test.csv          100%[===================>]  38.61K  --.-KB/s    /  0.008s  \n",
      "\n",
      "2023-06-18 22:18:09 (4.87 MB/s) - `X_test.csv' 저장함 [39540/39540]\n",
      "\n",
      "--2023-06-18 22:18:09--  https://raw.githubusercontent.com/Datamanim/datarepo/main/studentscore/y_train.csv\n",
      "raw.githubusercontent.com (raw.githubusercontent.com) 해석 중... 185.199.109.133, 185.199.111.133, 185.199.108.133, ...\n",
      "다음으로 연결 중: raw.githubusercontent.com (raw.githubusercontent.com)|185.199.109.133|:443... 연결했습니다.\n",
      "HTTP 요청을 보냈습니다. 응답 기다리는 중... 200 OK\n",
      "길이: 5289 (5.2K) [text/plain]\n",
      "저장 위치: `y_train.csv'\n",
      "\n",
      "y_train.csv         100%[===================>]   5.17K  --.-KB/s    /  0s      \n",
      "\n",
      "2023-06-18 22:18:11 (16.5 MB/s) - `y_train.csv' 저장함 [5289/5289]\n",
      "\n"
     ]
    }
   ],
   "source": [
    "!wget https://raw.githubusercontent.com/Datamanim/datarepo/main/studentscore/X_train.csv\n",
    "!wget https://raw.githubusercontent.com/Datamanim/datarepo/main/studentscore/X_test.csv\n",
    "!wget https://raw.githubusercontent.com/Datamanim/datarepo/main/studentscore/y_train.csv"
   ]
  },
  {
   "cell_type": "code",
   "execution_count": 69,
   "id": "7caf248d",
   "metadata": {
    "ExecuteTime": {
     "end_time": "2022-05-01T10:33:24.983035Z",
     "start_time": "2022-05-01T10:33:23.630944Z"
    }
   },
   "outputs": [
    {
     "data": {
      "text/html": [
       "<div>\n",
       "<style scoped>\n",
       "    .dataframe tbody tr th:only-of-type {\n",
       "        vertical-align: middle;\n",
       "    }\n",
       "\n",
       "    .dataframe tbody tr th {\n",
       "        vertical-align: top;\n",
       "    }\n",
       "\n",
       "    .dataframe thead th {\n",
       "        text-align: right;\n",
       "    }\n",
       "</style>\n",
       "<table border=\"1\" class=\"dataframe\">\n",
       "  <thead>\n",
       "    <tr style=\"text-align: right;\">\n",
       "      <th></th>\n",
       "      <th>StudentID</th>\n",
       "      <th>school</th>\n",
       "      <th>sex</th>\n",
       "      <th>age</th>\n",
       "      <th>address</th>\n",
       "      <th>famsize</th>\n",
       "      <th>Pstatus</th>\n",
       "      <th>Medu</th>\n",
       "      <th>Fedu</th>\n",
       "      <th>Mjob</th>\n",
       "      <th>...</th>\n",
       "      <th>romantic</th>\n",
       "      <th>famrel</th>\n",
       "      <th>freetime</th>\n",
       "      <th>goout</th>\n",
       "      <th>Dalc</th>\n",
       "      <th>Walc</th>\n",
       "      <th>health</th>\n",
       "      <th>absences</th>\n",
       "      <th>G1</th>\n",
       "      <th>G2</th>\n",
       "    </tr>\n",
       "  </thead>\n",
       "  <tbody>\n",
       "    <tr>\n",
       "      <th>0</th>\n",
       "      <td>1714</td>\n",
       "      <td>GP</td>\n",
       "      <td>F</td>\n",
       "      <td>18</td>\n",
       "      <td>U</td>\n",
       "      <td>GT3</td>\n",
       "      <td>T</td>\n",
       "      <td>4</td>\n",
       "      <td>3</td>\n",
       "      <td>other</td>\n",
       "      <td>...</td>\n",
       "      <td>no</td>\n",
       "      <td>4</td>\n",
       "      <td>3</td>\n",
       "      <td>3</td>\n",
       "      <td>1</td>\n",
       "      <td>1</td>\n",
       "      <td>3</td>\n",
       "      <td>0</td>\n",
       "      <td>14</td>\n",
       "      <td>13</td>\n",
       "    </tr>\n",
       "    <tr>\n",
       "      <th>1</th>\n",
       "      <td>1254</td>\n",
       "      <td>GP</td>\n",
       "      <td>F</td>\n",
       "      <td>17</td>\n",
       "      <td>U</td>\n",
       "      <td>GT3</td>\n",
       "      <td>T</td>\n",
       "      <td>4</td>\n",
       "      <td>3</td>\n",
       "      <td>health</td>\n",
       "      <td>...</td>\n",
       "      <td>yes</td>\n",
       "      <td>4</td>\n",
       "      <td>4</td>\n",
       "      <td>3</td>\n",
       "      <td>1</td>\n",
       "      <td>3</td>\n",
       "      <td>4</td>\n",
       "      <td>0</td>\n",
       "      <td>13</td>\n",
       "      <td>15</td>\n",
       "    </tr>\n",
       "    <tr>\n",
       "      <th>2</th>\n",
       "      <td>1639</td>\n",
       "      <td>GP</td>\n",
       "      <td>F</td>\n",
       "      <td>16</td>\n",
       "      <td>R</td>\n",
       "      <td>GT3</td>\n",
       "      <td>T</td>\n",
       "      <td>4</td>\n",
       "      <td>4</td>\n",
       "      <td>health</td>\n",
       "      <td>...</td>\n",
       "      <td>no</td>\n",
       "      <td>2</td>\n",
       "      <td>4</td>\n",
       "      <td>4</td>\n",
       "      <td>2</td>\n",
       "      <td>3</td>\n",
       "      <td>4</td>\n",
       "      <td>6</td>\n",
       "      <td>10</td>\n",
       "      <td>11</td>\n",
       "    </tr>\n",
       "    <tr>\n",
       "      <th>3</th>\n",
       "      <td>1118</td>\n",
       "      <td>GP</td>\n",
       "      <td>M</td>\n",
       "      <td>16</td>\n",
       "      <td>U</td>\n",
       "      <td>GT3</td>\n",
       "      <td>T</td>\n",
       "      <td>4</td>\n",
       "      <td>4</td>\n",
       "      <td>services</td>\n",
       "      <td>...</td>\n",
       "      <td>no</td>\n",
       "      <td>5</td>\n",
       "      <td>3</td>\n",
       "      <td>3</td>\n",
       "      <td>1</td>\n",
       "      <td>3</td>\n",
       "      <td>5</td>\n",
       "      <td>0</td>\n",
       "      <td>15</td>\n",
       "      <td>13</td>\n",
       "    </tr>\n",
       "    <tr>\n",
       "      <th>4</th>\n",
       "      <td>1499</td>\n",
       "      <td>GP</td>\n",
       "      <td>M</td>\n",
       "      <td>19</td>\n",
       "      <td>U</td>\n",
       "      <td>GT3</td>\n",
       "      <td>T</td>\n",
       "      <td>3</td>\n",
       "      <td>2</td>\n",
       "      <td>services</td>\n",
       "      <td>...</td>\n",
       "      <td>yes</td>\n",
       "      <td>4</td>\n",
       "      <td>5</td>\n",
       "      <td>4</td>\n",
       "      <td>1</td>\n",
       "      <td>1</td>\n",
       "      <td>4</td>\n",
       "      <td>0</td>\n",
       "      <td>5</td>\n",
       "      <td>0</td>\n",
       "    </tr>\n",
       "  </tbody>\n",
       "</table>\n",
       "<p>5 rows × 33 columns</p>\n",
       "</div>"
      ],
      "text/plain": [
       "   StudentID school sex  age address famsize Pstatus  Medu  Fedu      Mjob  \\\n",
       "0       1714     GP   F   18       U     GT3       T     4     3     other   \n",
       "1       1254     GP   F   17       U     GT3       T     4     3    health   \n",
       "2       1639     GP   F   16       R     GT3       T     4     4    health   \n",
       "3       1118     GP   M   16       U     GT3       T     4     4  services   \n",
       "4       1499     GP   M   19       U     GT3       T     3     2  services   \n",
       "\n",
       "   ... romantic famrel freetime  goout  Dalc  Walc health absences  G1  G2  \n",
       "0  ...       no      4        3      3     1     1      3        0  14  13  \n",
       "1  ...      yes      4        4      3     1     3      4        0  13  15  \n",
       "2  ...       no      2        4      4     2     3      4        6  10  11  \n",
       "3  ...       no      5        3      3     1     3      5        0  15  13  \n",
       "4  ...      yes      4        5      4     1     1      4        0   5   0  \n",
       "\n",
       "[5 rows x 33 columns]"
      ]
     },
     "metadata": {},
     "output_type": "display_data"
    },
    {
     "data": {
      "text/html": [
       "<div>\n",
       "<style scoped>\n",
       "    .dataframe tbody tr th:only-of-type {\n",
       "        vertical-align: middle;\n",
       "    }\n",
       "\n",
       "    .dataframe tbody tr th {\n",
       "        vertical-align: top;\n",
       "    }\n",
       "\n",
       "    .dataframe thead th {\n",
       "        text-align: right;\n",
       "    }\n",
       "</style>\n",
       "<table border=\"1\" class=\"dataframe\">\n",
       "  <thead>\n",
       "    <tr style=\"text-align: right;\">\n",
       "      <th></th>\n",
       "      <th>StudentID</th>\n",
       "      <th>G3</th>\n",
       "    </tr>\n",
       "  </thead>\n",
       "  <tbody>\n",
       "    <tr>\n",
       "      <th>0</th>\n",
       "      <td>1714</td>\n",
       "      <td>14</td>\n",
       "    </tr>\n",
       "    <tr>\n",
       "      <th>1</th>\n",
       "      <td>1254</td>\n",
       "      <td>15</td>\n",
       "    </tr>\n",
       "    <tr>\n",
       "      <th>2</th>\n",
       "      <td>1639</td>\n",
       "      <td>11</td>\n",
       "    </tr>\n",
       "    <tr>\n",
       "      <th>3</th>\n",
       "      <td>1118</td>\n",
       "      <td>13</td>\n",
       "    </tr>\n",
       "    <tr>\n",
       "      <th>4</th>\n",
       "      <td>1499</td>\n",
       "      <td>0</td>\n",
       "    </tr>\n",
       "  </tbody>\n",
       "</table>\n",
       "</div>"
      ],
      "text/plain": [
       "   StudentID  G3\n",
       "0       1714  14\n",
       "1       1254  15\n",
       "2       1639  11\n",
       "3       1118  13\n",
       "4       1499   0"
      ]
     },
     "metadata": {},
     "output_type": "display_data"
    }
   ],
   "source": [
    "import pandas as pd\n",
    "#데이터 로드\n",
    "x_train = pd.read_csv(\"https://raw.githubusercontent.com/Datamanim/datarepo/main/studentscore/X_train.csv\")\n",
    "y_train = pd.read_csv(\"https://raw.githubusercontent.com/Datamanim/datarepo/main/studentscore/y_train.csv\")\n",
    "x_test= pd.read_csv(\"https://raw.githubusercontent.com/Datamanim/datarepo/main/studentscore/X_test.csv\")\n",
    "\n",
    "\n",
    "display(x_train.head())\n",
    "display(y_train.head())"
   ]
  },
  {
   "cell_type": "markdown",
   "id": "8753f6af",
   "metadata": {},
   "source": [
    "### 중고차 가격 예측 데이터"
   ]
  },
  {
   "cell_type": "markdown",
   "id": "d2abd1cc",
   "metadata": {},
   "source": [
    "```{attention} \n",
    "데이터 설명 : 중고차 가격 예측 데이터 (종속변수 :G3)        \n",
    "x_train: https://raw.githubusercontent.com/Datamanim/datarepo/main/carsprice/X_train.csv    \n",
    "y_train: https://raw.githubusercontent.com/Datamanim/datarepo/main/carsprice/y_train.csv  \n",
    "x_test: https://raw.githubusercontent.com/Datamanim/datarepo/main/carsprice/X_test.csv   \n",
    "x_label(평가용) : https://raw.githubusercontent.com/Datamanim/datarepo/main/carsprice/y_test.csv    \n",
    "데이터 출처 :https://www.kaggle.com/datasets/adityadesai13/used-car-dataset-ford-and-mercedes?select=vw.csv (참고, 데이터 수정)    \n",
    "```  "
   ]
  },
  {
   "cell_type": "markdown",
   "id": "cbe2a8cb",
   "metadata": {},
   "source": [
    "```{admonition} 캐글 공유 코드 저장소 \n",
    "**본인만의 코드를 작성하고 upvote를 받아 broze medal을 획득 해보세요**\n",
    "[캐글 노트북 링크](https://www.kaggle.com/datasets/kukuroo3/used-car-price-dataset-competition-format/code?select=y_train.csv)\n",
    "```"
   ]
  },
  {
   "cell_type": "code",
   "execution_count": 71,
   "id": "27d8aff3",
   "metadata": {
    "ExecuteTime": {
     "end_time": "2022-05-01T10:35:31.274135Z",
     "start_time": "2022-05-01T10:35:29.504750Z"
    }
   },
   "outputs": [
    {
     "data": {
      "text/html": [
       "<div>\n",
       "<style scoped>\n",
       "    .dataframe tbody tr th:only-of-type {\n",
       "        vertical-align: middle;\n",
       "    }\n",
       "\n",
       "    .dataframe tbody tr th {\n",
       "        vertical-align: top;\n",
       "    }\n",
       "\n",
       "    .dataframe thead th {\n",
       "        text-align: right;\n",
       "    }\n",
       "</style>\n",
       "<table border=\"1\" class=\"dataframe\">\n",
       "  <thead>\n",
       "    <tr style=\"text-align: right;\">\n",
       "      <th></th>\n",
       "      <th>carID</th>\n",
       "      <th>brand</th>\n",
       "      <th>model</th>\n",
       "      <th>year</th>\n",
       "      <th>transmission</th>\n",
       "      <th>mileage</th>\n",
       "      <th>fuelType</th>\n",
       "      <th>tax</th>\n",
       "      <th>mpg</th>\n",
       "      <th>engineSize</th>\n",
       "    </tr>\n",
       "  </thead>\n",
       "  <tbody>\n",
       "    <tr>\n",
       "      <th>0</th>\n",
       "      <td>13207</td>\n",
       "      <td>hyundi</td>\n",
       "      <td>Santa Fe</td>\n",
       "      <td>2019</td>\n",
       "      <td>Semi-Auto</td>\n",
       "      <td>4223</td>\n",
       "      <td>Diesel</td>\n",
       "      <td>145.0</td>\n",
       "      <td>39.8</td>\n",
       "      <td>2.2</td>\n",
       "    </tr>\n",
       "    <tr>\n",
       "      <th>1</th>\n",
       "      <td>17314</td>\n",
       "      <td>vauxhall</td>\n",
       "      <td>GTC</td>\n",
       "      <td>2015</td>\n",
       "      <td>Manual</td>\n",
       "      <td>47870</td>\n",
       "      <td>Diesel</td>\n",
       "      <td>125.0</td>\n",
       "      <td>60.1</td>\n",
       "      <td>2.0</td>\n",
       "    </tr>\n",
       "    <tr>\n",
       "      <th>2</th>\n",
       "      <td>12342</td>\n",
       "      <td>audi</td>\n",
       "      <td>RS4</td>\n",
       "      <td>2019</td>\n",
       "      <td>Automatic</td>\n",
       "      <td>5151</td>\n",
       "      <td>Petrol</td>\n",
       "      <td>145.0</td>\n",
       "      <td>29.1</td>\n",
       "      <td>2.9</td>\n",
       "    </tr>\n",
       "    <tr>\n",
       "      <th>3</th>\n",
       "      <td>13426</td>\n",
       "      <td>vw</td>\n",
       "      <td>Scirocco</td>\n",
       "      <td>2016</td>\n",
       "      <td>Automatic</td>\n",
       "      <td>20423</td>\n",
       "      <td>Diesel</td>\n",
       "      <td>30.0</td>\n",
       "      <td>57.6</td>\n",
       "      <td>2.0</td>\n",
       "    </tr>\n",
       "    <tr>\n",
       "      <th>4</th>\n",
       "      <td>16004</td>\n",
       "      <td>skoda</td>\n",
       "      <td>Scala</td>\n",
       "      <td>2020</td>\n",
       "      <td>Semi-Auto</td>\n",
       "      <td>3569</td>\n",
       "      <td>Petrol</td>\n",
       "      <td>145.0</td>\n",
       "      <td>47.1</td>\n",
       "      <td>1.0</td>\n",
       "    </tr>\n",
       "  </tbody>\n",
       "</table>\n",
       "</div>"
      ],
      "text/plain": [
       "   carID     brand      model  year transmission  mileage fuelType    tax  \\\n",
       "0  13207    hyundi   Santa Fe  2019    Semi-Auto     4223   Diesel  145.0   \n",
       "1  17314  vauxhall        GTC  2015       Manual    47870   Diesel  125.0   \n",
       "2  12342      audi        RS4  2019    Automatic     5151   Petrol  145.0   \n",
       "3  13426        vw   Scirocco  2016    Automatic    20423   Diesel   30.0   \n",
       "4  16004     skoda      Scala  2020    Semi-Auto     3569   Petrol  145.0   \n",
       "\n",
       "    mpg  engineSize  \n",
       "0  39.8         2.2  \n",
       "1  60.1         2.0  \n",
       "2  29.1         2.9  \n",
       "3  57.6         2.0  \n",
       "4  47.1         1.0  "
      ]
     },
     "metadata": {},
     "output_type": "display_data"
    },
    {
     "data": {
      "text/html": [
       "<div>\n",
       "<style scoped>\n",
       "    .dataframe tbody tr th:only-of-type {\n",
       "        vertical-align: middle;\n",
       "    }\n",
       "\n",
       "    .dataframe tbody tr th {\n",
       "        vertical-align: top;\n",
       "    }\n",
       "\n",
       "    .dataframe thead th {\n",
       "        text-align: right;\n",
       "    }\n",
       "</style>\n",
       "<table border=\"1\" class=\"dataframe\">\n",
       "  <thead>\n",
       "    <tr style=\"text-align: right;\">\n",
       "      <th></th>\n",
       "      <th>carID</th>\n",
       "      <th>price</th>\n",
       "    </tr>\n",
       "  </thead>\n",
       "  <tbody>\n",
       "    <tr>\n",
       "      <th>0</th>\n",
       "      <td>13207</td>\n",
       "      <td>31995</td>\n",
       "    </tr>\n",
       "    <tr>\n",
       "      <th>1</th>\n",
       "      <td>17314</td>\n",
       "      <td>7700</td>\n",
       "    </tr>\n",
       "    <tr>\n",
       "      <th>2</th>\n",
       "      <td>12342</td>\n",
       "      <td>58990</td>\n",
       "    </tr>\n",
       "    <tr>\n",
       "      <th>3</th>\n",
       "      <td>13426</td>\n",
       "      <td>12999</td>\n",
       "    </tr>\n",
       "    <tr>\n",
       "      <th>4</th>\n",
       "      <td>16004</td>\n",
       "      <td>16990</td>\n",
       "    </tr>\n",
       "  </tbody>\n",
       "</table>\n",
       "</div>"
      ],
      "text/plain": [
       "   carID  price\n",
       "0  13207  31995\n",
       "1  17314   7700\n",
       "2  12342  58990\n",
       "3  13426  12999\n",
       "4  16004  16990"
      ]
     },
     "metadata": {},
     "output_type": "display_data"
    }
   ],
   "source": [
    "import pandas as pd\n",
    "#데이터 로드\n",
    "x_train = pd.read_csv(\"https://raw.githubusercontent.com/Datamanim/datarepo/main/carsprice/X_train.csv\")\n",
    "y_train = pd.read_csv(\"https://raw.githubusercontent.com/Datamanim/datarepo/main/carsprice/y_train.csv\")\n",
    "x_test= pd.read_csv(\"https://raw.githubusercontent.com/Datamanim/datarepo/main/carsprice/X_test.csv\")\n",
    "\n",
    "\n",
    "display(x_train.head())\n",
    "display(y_train.head())"
   ]
  },
  {
   "cell_type": "markdown",
   "id": "d23ed6a9",
   "metadata": {},
   "source": [
    "### 의료 비용 예측 데이터"
   ]
  },
  {
   "cell_type": "markdown",
   "id": "b2f1a6bc",
   "metadata": {
    "ExecuteTime": {
     "end_time": "2022-01-31T03:05:13.165138Z",
     "start_time": "2022-01-31T03:05:13.160402Z"
    }
   },
   "source": [
    "```{attention} \n",
    "데이터 설명 : 의료비용 예측문제 (종속변수 :charges)        \n",
    "x_train: https://raw.githubusercontent.com/Datamanim/datarepo/main/MedicalCost/x_train.csv    \n",
    "y_train: https://raw.githubusercontent.com/Datamanim/datarepo/main/MedicalCost/y_train.csv  \n",
    "x_test: https://raw.githubusercontent.com/Datamanim/datarepo/main/MedicalCost/x_test.csv   \n",
    "x_label(평가용) : https://raw.githubusercontent.com/Datamanim/datarepo/main/MedicalCost/y_test.csv    \n",
    "데이터 출처 :https://www.kaggle.com/mirichoi0218/insurance/code(참고, 데이터 수정)    \n",
    "```  "
   ]
  },
  {
   "cell_type": "code",
   "execution_count": 63,
   "id": "22ecfd45",
   "metadata": {
    "ExecuteTime": {
     "end_time": "2022-05-01T10:29:14.692476Z",
     "start_time": "2022-05-01T10:29:13.215489Z"
    }
   },
   "outputs": [
    {
     "data": {
      "text/html": [
       "<div>\n",
       "<style scoped>\n",
       "    .dataframe tbody tr th:only-of-type {\n",
       "        vertical-align: middle;\n",
       "    }\n",
       "\n",
       "    .dataframe tbody tr th {\n",
       "        vertical-align: top;\n",
       "    }\n",
       "\n",
       "    .dataframe thead th {\n",
       "        text-align: right;\n",
       "    }\n",
       "</style>\n",
       "<table border=\"1\" class=\"dataframe\">\n",
       "  <thead>\n",
       "    <tr style=\"text-align: right;\">\n",
       "      <th></th>\n",
       "      <th>ID</th>\n",
       "      <th>age</th>\n",
       "      <th>sex</th>\n",
       "      <th>bmi</th>\n",
       "      <th>children</th>\n",
       "      <th>smoker</th>\n",
       "      <th>region</th>\n",
       "    </tr>\n",
       "  </thead>\n",
       "  <tbody>\n",
       "    <tr>\n",
       "      <th>0</th>\n",
       "      <td>2</td>\n",
       "      <td>35</td>\n",
       "      <td>female</td>\n",
       "      <td>35.860</td>\n",
       "      <td>2</td>\n",
       "      <td>no</td>\n",
       "      <td>southeast</td>\n",
       "    </tr>\n",
       "    <tr>\n",
       "      <th>1</th>\n",
       "      <td>3</td>\n",
       "      <td>28</td>\n",
       "      <td>female</td>\n",
       "      <td>23.845</td>\n",
       "      <td>2</td>\n",
       "      <td>no</td>\n",
       "      <td>northwest</td>\n",
       "    </tr>\n",
       "    <tr>\n",
       "      <th>2</th>\n",
       "      <td>4</td>\n",
       "      <td>23</td>\n",
       "      <td>female</td>\n",
       "      <td>32.780</td>\n",
       "      <td>2</td>\n",
       "      <td>yes</td>\n",
       "      <td>southeast</td>\n",
       "    </tr>\n",
       "    <tr>\n",
       "      <th>3</th>\n",
       "      <td>6</td>\n",
       "      <td>52</td>\n",
       "      <td>female</td>\n",
       "      <td>25.300</td>\n",
       "      <td>2</td>\n",
       "      <td>yes</td>\n",
       "      <td>southeast</td>\n",
       "    </tr>\n",
       "    <tr>\n",
       "      <th>4</th>\n",
       "      <td>7</td>\n",
       "      <td>63</td>\n",
       "      <td>male</td>\n",
       "      <td>39.800</td>\n",
       "      <td>3</td>\n",
       "      <td>no</td>\n",
       "      <td>southwest</td>\n",
       "    </tr>\n",
       "  </tbody>\n",
       "</table>\n",
       "</div>"
      ],
      "text/plain": [
       "   ID  age     sex     bmi  children smoker     region\n",
       "0   2   35  female  35.860         2     no  southeast\n",
       "1   3   28  female  23.845         2     no  northwest\n",
       "2   4   23  female  32.780         2    yes  southeast\n",
       "3   6   52  female  25.300         2    yes  southeast\n",
       "4   7   63    male  39.800         3     no  southwest"
      ]
     },
     "metadata": {},
     "output_type": "display_data"
    },
    {
     "data": {
      "text/html": [
       "<div>\n",
       "<style scoped>\n",
       "    .dataframe tbody tr th:only-of-type {\n",
       "        vertical-align: middle;\n",
       "    }\n",
       "\n",
       "    .dataframe tbody tr th {\n",
       "        vertical-align: top;\n",
       "    }\n",
       "\n",
       "    .dataframe thead th {\n",
       "        text-align: right;\n",
       "    }\n",
       "</style>\n",
       "<table border=\"1\" class=\"dataframe\">\n",
       "  <thead>\n",
       "    <tr style=\"text-align: right;\">\n",
       "      <th></th>\n",
       "      <th>ID</th>\n",
       "      <th>charges</th>\n",
       "    </tr>\n",
       "  </thead>\n",
       "  <tbody>\n",
       "    <tr>\n",
       "      <th>0</th>\n",
       "      <td>2</td>\n",
       "      <td>5836.52040</td>\n",
       "    </tr>\n",
       "    <tr>\n",
       "      <th>1</th>\n",
       "      <td>3</td>\n",
       "      <td>4719.73655</td>\n",
       "    </tr>\n",
       "    <tr>\n",
       "      <th>2</th>\n",
       "      <td>4</td>\n",
       "      <td>36021.01120</td>\n",
       "    </tr>\n",
       "    <tr>\n",
       "      <th>3</th>\n",
       "      <td>6</td>\n",
       "      <td>24667.41900</td>\n",
       "    </tr>\n",
       "    <tr>\n",
       "      <th>4</th>\n",
       "      <td>7</td>\n",
       "      <td>15170.06900</td>\n",
       "    </tr>\n",
       "  </tbody>\n",
       "</table>\n",
       "</div>"
      ],
      "text/plain": [
       "   ID      charges\n",
       "0   2   5836.52040\n",
       "1   3   4719.73655\n",
       "2   4  36021.01120\n",
       "3   6  24667.41900\n",
       "4   7  15170.06900"
      ]
     },
     "metadata": {},
     "output_type": "display_data"
    }
   ],
   "source": [
    "import pandas as pd\n",
    "#데이터 로드\n",
    "x_train = pd.read_csv(\"https://raw.githubusercontent.com/Datamanim/datarepo/main/MedicalCost/x_train.csv\")\n",
    "y_train = pd.read_csv(\"https://raw.githubusercontent.com/Datamanim/datarepo/main/MedicalCost/y_train.csv\")\n",
    "x_test= pd.read_csv(\"https://raw.githubusercontent.com/Datamanim/datarepo/main/MedicalCost/x_test.csv\")\n",
    "\n",
    "\n",
    "display(x_train.head())\n",
    "display(y_train.head())"
   ]
  },
  {
   "cell_type": "markdown",
   "id": "59c7893d",
   "metadata": {},
   "source": [
    "### 킹카운티 주거지 가격예측문제 데이터"
   ]
  },
  {
   "cell_type": "markdown",
   "id": "27b17849",
   "metadata": {},
   "source": [
    "```{attention} \n",
    "데이터 설명 : 킹카운티 주거지 가격 예측문제 (종속변수 :price)         \n",
    "x_train: https://raw.githubusercontent.com/Datamanim/datarepo/main/kingcountyprice/x_train.csv    \n",
    "y_train: https://raw.githubusercontent.com/Datamanim/datarepo/main/kingcountyprice/y_train.csv  \n",
    "x_test: https://raw.githubusercontent.com/Datamanim/datarepo/main/kingcountyprice/x_test.csv   \n",
    "x_label(평가용) : https://raw.githubusercontent.com/Datamanim/datarepo/main/kingcountyprice/y_test.csv    \n",
    "데이터 출처 :https://www.kaggle.com/harlfoxem/housesalesprediction (참고, 데이터 수정)    \n",
    "```  "
   ]
  },
  {
   "cell_type": "code",
   "execution_count": 64,
   "id": "fc0d2747",
   "metadata": {
    "ExecuteTime": {
     "end_time": "2022-05-01T10:29:35.486833Z",
     "start_time": "2022-05-01T10:29:32.017045Z"
    }
   },
   "outputs": [
    {
     "data": {
      "text/html": [
       "<div>\n",
       "<style scoped>\n",
       "    .dataframe tbody tr th:only-of-type {\n",
       "        vertical-align: middle;\n",
       "    }\n",
       "\n",
       "    .dataframe tbody tr th {\n",
       "        vertical-align: top;\n",
       "    }\n",
       "\n",
       "    .dataframe thead th {\n",
       "        text-align: right;\n",
       "    }\n",
       "</style>\n",
       "<table border=\"1\" class=\"dataframe\">\n",
       "  <thead>\n",
       "    <tr style=\"text-align: right;\">\n",
       "      <th></th>\n",
       "      <th>ID</th>\n",
       "      <th>id</th>\n",
       "      <th>date</th>\n",
       "      <th>bedrooms</th>\n",
       "      <th>bathrooms</th>\n",
       "      <th>sqft_living</th>\n",
       "      <th>sqft_lot</th>\n",
       "      <th>floors</th>\n",
       "      <th>waterfront</th>\n",
       "      <th>view</th>\n",
       "      <th>...</th>\n",
       "      <th>grade</th>\n",
       "      <th>sqft_above</th>\n",
       "      <th>sqft_basement</th>\n",
       "      <th>yr_built</th>\n",
       "      <th>yr_renovated</th>\n",
       "      <th>zipcode</th>\n",
       "      <th>lat</th>\n",
       "      <th>long</th>\n",
       "      <th>sqft_living15</th>\n",
       "      <th>sqft_lot15</th>\n",
       "    </tr>\n",
       "  </thead>\n",
       "  <tbody>\n",
       "    <tr>\n",
       "      <th>0</th>\n",
       "      <td>2</td>\n",
       "      <td>8651400730</td>\n",
       "      <td>20150428T000000</td>\n",
       "      <td>3</td>\n",
       "      <td>1.00</td>\n",
       "      <td>840</td>\n",
       "      <td>5525</td>\n",
       "      <td>1.0</td>\n",
       "      <td>0</td>\n",
       "      <td>0</td>\n",
       "      <td>...</td>\n",
       "      <td>6</td>\n",
       "      <td>840</td>\n",
       "      <td>0</td>\n",
       "      <td>1969</td>\n",
       "      <td>0</td>\n",
       "      <td>98042</td>\n",
       "      <td>47.3607</td>\n",
       "      <td>-122.085</td>\n",
       "      <td>920</td>\n",
       "      <td>5330</td>\n",
       "    </tr>\n",
       "    <tr>\n",
       "      <th>1</th>\n",
       "      <td>3</td>\n",
       "      <td>3163600130</td>\n",
       "      <td>20150317T000000</td>\n",
       "      <td>3</td>\n",
       "      <td>1.00</td>\n",
       "      <td>1250</td>\n",
       "      <td>8000</td>\n",
       "      <td>1.0</td>\n",
       "      <td>0</td>\n",
       "      <td>0</td>\n",
       "      <td>...</td>\n",
       "      <td>7</td>\n",
       "      <td>1250</td>\n",
       "      <td>0</td>\n",
       "      <td>1956</td>\n",
       "      <td>0</td>\n",
       "      <td>98146</td>\n",
       "      <td>47.5065</td>\n",
       "      <td>-122.337</td>\n",
       "      <td>1040</td>\n",
       "      <td>6973</td>\n",
       "    </tr>\n",
       "    <tr>\n",
       "      <th>2</th>\n",
       "      <td>4</td>\n",
       "      <td>5045700330</td>\n",
       "      <td>20140725T000000</td>\n",
       "      <td>4</td>\n",
       "      <td>2.50</td>\n",
       "      <td>2200</td>\n",
       "      <td>6400</td>\n",
       "      <td>2.0</td>\n",
       "      <td>0</td>\n",
       "      <td>0</td>\n",
       "      <td>...</td>\n",
       "      <td>8</td>\n",
       "      <td>2200</td>\n",
       "      <td>0</td>\n",
       "      <td>2010</td>\n",
       "      <td>0</td>\n",
       "      <td>98059</td>\n",
       "      <td>47.4856</td>\n",
       "      <td>-122.156</td>\n",
       "      <td>2600</td>\n",
       "      <td>5870</td>\n",
       "    </tr>\n",
       "    <tr>\n",
       "      <th>3</th>\n",
       "      <td>5</td>\n",
       "      <td>1036100130</td>\n",
       "      <td>20140808T000000</td>\n",
       "      <td>3</td>\n",
       "      <td>2.50</td>\n",
       "      <td>1980</td>\n",
       "      <td>39932</td>\n",
       "      <td>2.0</td>\n",
       "      <td>0</td>\n",
       "      <td>0</td>\n",
       "      <td>...</td>\n",
       "      <td>8</td>\n",
       "      <td>1980</td>\n",
       "      <td>0</td>\n",
       "      <td>1994</td>\n",
       "      <td>0</td>\n",
       "      <td>98011</td>\n",
       "      <td>47.7433</td>\n",
       "      <td>-122.196</td>\n",
       "      <td>2610</td>\n",
       "      <td>12769</td>\n",
       "    </tr>\n",
       "    <tr>\n",
       "      <th>4</th>\n",
       "      <td>6</td>\n",
       "      <td>7696630080</td>\n",
       "      <td>20140506T000000</td>\n",
       "      <td>3</td>\n",
       "      <td>1.75</td>\n",
       "      <td>1690</td>\n",
       "      <td>7735</td>\n",
       "      <td>1.0</td>\n",
       "      <td>0</td>\n",
       "      <td>0</td>\n",
       "      <td>...</td>\n",
       "      <td>7</td>\n",
       "      <td>1060</td>\n",
       "      <td>630</td>\n",
       "      <td>1976</td>\n",
       "      <td>0</td>\n",
       "      <td>98001</td>\n",
       "      <td>47.3324</td>\n",
       "      <td>-122.280</td>\n",
       "      <td>1580</td>\n",
       "      <td>7503</td>\n",
       "    </tr>\n",
       "  </tbody>\n",
       "</table>\n",
       "<p>5 rows × 21 columns</p>\n",
       "</div>"
      ],
      "text/plain": [
       "   ID          id             date  bedrooms  bathrooms  sqft_living  \\\n",
       "0   2  8651400730  20150428T000000         3       1.00          840   \n",
       "1   3  3163600130  20150317T000000         3       1.00         1250   \n",
       "2   4  5045700330  20140725T000000         4       2.50         2200   \n",
       "3   5  1036100130  20140808T000000         3       2.50         1980   \n",
       "4   6  7696630080  20140506T000000         3       1.75         1690   \n",
       "\n",
       "   sqft_lot  floors  waterfront  view  ...  grade  sqft_above  sqft_basement  \\\n",
       "0      5525     1.0           0     0  ...      6         840              0   \n",
       "1      8000     1.0           0     0  ...      7        1250              0   \n",
       "2      6400     2.0           0     0  ...      8        2200              0   \n",
       "3     39932     2.0           0     0  ...      8        1980              0   \n",
       "4      7735     1.0           0     0  ...      7        1060            630   \n",
       "\n",
       "   yr_built  yr_renovated  zipcode      lat     long  sqft_living15  \\\n",
       "0      1969             0    98042  47.3607 -122.085            920   \n",
       "1      1956             0    98146  47.5065 -122.337           1040   \n",
       "2      2010             0    98059  47.4856 -122.156           2600   \n",
       "3      1994             0    98011  47.7433 -122.196           2610   \n",
       "4      1976             0    98001  47.3324 -122.280           1580   \n",
       "\n",
       "   sqft_lot15  \n",
       "0        5330  \n",
       "1        6973  \n",
       "2        5870  \n",
       "3       12769  \n",
       "4        7503  \n",
       "\n",
       "[5 rows x 21 columns]"
      ]
     },
     "metadata": {},
     "output_type": "display_data"
    },
    {
     "data": {
      "text/html": [
       "<div>\n",
       "<style scoped>\n",
       "    .dataframe tbody tr th:only-of-type {\n",
       "        vertical-align: middle;\n",
       "    }\n",
       "\n",
       "    .dataframe tbody tr th {\n",
       "        vertical-align: top;\n",
       "    }\n",
       "\n",
       "    .dataframe thead th {\n",
       "        text-align: right;\n",
       "    }\n",
       "</style>\n",
       "<table border=\"1\" class=\"dataframe\">\n",
       "  <thead>\n",
       "    <tr style=\"text-align: right;\">\n",
       "      <th></th>\n",
       "      <th>ID</th>\n",
       "      <th>price</th>\n",
       "    </tr>\n",
       "  </thead>\n",
       "  <tbody>\n",
       "    <tr>\n",
       "      <th>0</th>\n",
       "      <td>2</td>\n",
       "      <td>191000.0</td>\n",
       "    </tr>\n",
       "    <tr>\n",
       "      <th>1</th>\n",
       "      <td>3</td>\n",
       "      <td>234900.0</td>\n",
       "    </tr>\n",
       "    <tr>\n",
       "      <th>2</th>\n",
       "      <td>4</td>\n",
       "      <td>460000.0</td>\n",
       "    </tr>\n",
       "    <tr>\n",
       "      <th>3</th>\n",
       "      <td>5</td>\n",
       "      <td>442000.0</td>\n",
       "    </tr>\n",
       "    <tr>\n",
       "      <th>4</th>\n",
       "      <td>6</td>\n",
       "      <td>197000.0</td>\n",
       "    </tr>\n",
       "  </tbody>\n",
       "</table>\n",
       "</div>"
      ],
      "text/plain": [
       "   ID     price\n",
       "0   2  191000.0\n",
       "1   3  234900.0\n",
       "2   4  460000.0\n",
       "3   5  442000.0\n",
       "4   6  197000.0"
      ]
     },
     "metadata": {},
     "output_type": "display_data"
    }
   ],
   "source": [
    "import pandas as pd\n",
    "#데이터 로드\n",
    "x_train = pd.read_csv(\"https://raw.githubusercontent.com/Datamanim/datarepo/main/kingcountyprice/x_train.csv\")\n",
    "y_train = pd.read_csv(\"https://raw.githubusercontent.com/Datamanim/datarepo/main/kingcountyprice/y_train.csv\")\n",
    "x_test= pd.read_csv(\"https://raw.githubusercontent.com/Datamanim/datarepo/main/kingcountyprice/x_test.csv\")\n",
    "\n",
    "\n",
    "display(x_train.head())\n",
    "display(y_train.head())"
   ]
  },
  {
   "cell_type": "markdown",
   "id": "913bdd20",
   "metadata": {},
   "source": [
    "### 대학원 입학가능성 데이터"
   ]
  },
  {
   "cell_type": "markdown",
   "id": "452374fc",
   "metadata": {},
   "source": [
    "```{attention} \n",
    "데이터 설명 : 대학원 입학 가능성 예측  (종속변수 :Chance of Admit)      \n",
    "x_train: https://raw.githubusercontent.com/Datamanim/datarepo/main/admission/x_train.csv    \n",
    "y_train: https://raw.githubusercontent.com/Datamanim/datarepo/main/admission/y_train.csv  \n",
    "x_test: https://raw.githubusercontent.com/Datamanim/datarepo/main/admission/x_test.csv   \n",
    "x_label(평가용) : https://raw.githubusercontent.com/Datamanim/datarepo/main/admission/y_test.csv    \n",
    "데이터 출처 :https://www.kaggle.com/mohansacharya/graduate-admissions(참고, 데이터 수정)     \n",
    "```  "
   ]
  },
  {
   "cell_type": "code",
   "execution_count": 65,
   "id": "0c02834f",
   "metadata": {
    "ExecuteTime": {
     "end_time": "2022-05-01T10:30:09.222934Z",
     "start_time": "2022-05-01T10:30:07.540915Z"
    }
   },
   "outputs": [
    {
     "data": {
      "text/html": [
       "<div>\n",
       "<style scoped>\n",
       "    .dataframe tbody tr th:only-of-type {\n",
       "        vertical-align: middle;\n",
       "    }\n",
       "\n",
       "    .dataframe tbody tr th {\n",
       "        vertical-align: top;\n",
       "    }\n",
       "\n",
       "    .dataframe thead th {\n",
       "        text-align: right;\n",
       "    }\n",
       "</style>\n",
       "<table border=\"1\" class=\"dataframe\">\n",
       "  <thead>\n",
       "    <tr style=\"text-align: right;\">\n",
       "      <th></th>\n",
       "      <th>ID</th>\n",
       "      <th>Serial No.</th>\n",
       "      <th>GRE Score</th>\n",
       "      <th>TOEFL Score</th>\n",
       "      <th>University Rating</th>\n",
       "      <th>SOP</th>\n",
       "      <th>LOR</th>\n",
       "      <th>CGPA</th>\n",
       "      <th>Research</th>\n",
       "    </tr>\n",
       "  </thead>\n",
       "  <tbody>\n",
       "    <tr>\n",
       "      <th>0</th>\n",
       "      <td>0</td>\n",
       "      <td>67</td>\n",
       "      <td>327</td>\n",
       "      <td>114</td>\n",
       "      <td>3</td>\n",
       "      <td>3.0</td>\n",
       "      <td>3.0</td>\n",
       "      <td>9.02</td>\n",
       "      <td>0</td>\n",
       "    </tr>\n",
       "    <tr>\n",
       "      <th>1</th>\n",
       "      <td>1</td>\n",
       "      <td>112</td>\n",
       "      <td>321</td>\n",
       "      <td>109</td>\n",
       "      <td>4</td>\n",
       "      <td>4.0</td>\n",
       "      <td>4.0</td>\n",
       "      <td>8.68</td>\n",
       "      <td>1</td>\n",
       "    </tr>\n",
       "    <tr>\n",
       "      <th>2</th>\n",
       "      <td>2</td>\n",
       "      <td>495</td>\n",
       "      <td>301</td>\n",
       "      <td>99</td>\n",
       "      <td>3</td>\n",
       "      <td>2.5</td>\n",
       "      <td>2.0</td>\n",
       "      <td>8.45</td>\n",
       "      <td>1</td>\n",
       "    </tr>\n",
       "    <tr>\n",
       "      <th>3</th>\n",
       "      <td>3</td>\n",
       "      <td>356</td>\n",
       "      <td>317</td>\n",
       "      <td>106</td>\n",
       "      <td>2</td>\n",
       "      <td>2.0</td>\n",
       "      <td>3.5</td>\n",
       "      <td>8.12</td>\n",
       "      <td>0</td>\n",
       "    </tr>\n",
       "    <tr>\n",
       "      <th>4</th>\n",
       "      <td>4</td>\n",
       "      <td>250</td>\n",
       "      <td>321</td>\n",
       "      <td>111</td>\n",
       "      <td>3</td>\n",
       "      <td>3.5</td>\n",
       "      <td>4.0</td>\n",
       "      <td>8.83</td>\n",
       "      <td>1</td>\n",
       "    </tr>\n",
       "  </tbody>\n",
       "</table>\n",
       "</div>"
      ],
      "text/plain": [
       "   ID  Serial No.  GRE Score  TOEFL Score  University Rating  SOP  LOR  CGPA  \\\n",
       "0   0          67        327          114                  3  3.0  3.0  9.02   \n",
       "1   1         112        321          109                  4  4.0  4.0  8.68   \n",
       "2   2         495        301           99                  3  2.5  2.0  8.45   \n",
       "3   3         356        317          106                  2  2.0  3.5  8.12   \n",
       "4   4         250        321          111                  3  3.5  4.0  8.83   \n",
       "\n",
       "   Research  \n",
       "0         0  \n",
       "1         1  \n",
       "2         1  \n",
       "3         0  \n",
       "4         1  "
      ]
     },
     "metadata": {},
     "output_type": "display_data"
    },
    {
     "data": {
      "text/html": [
       "<div>\n",
       "<style scoped>\n",
       "    .dataframe tbody tr th:only-of-type {\n",
       "        vertical-align: middle;\n",
       "    }\n",
       "\n",
       "    .dataframe tbody tr th {\n",
       "        vertical-align: top;\n",
       "    }\n",
       "\n",
       "    .dataframe thead th {\n",
       "        text-align: right;\n",
       "    }\n",
       "</style>\n",
       "<table border=\"1\" class=\"dataframe\">\n",
       "  <thead>\n",
       "    <tr style=\"text-align: right;\">\n",
       "      <th></th>\n",
       "      <th>ID</th>\n",
       "      <th>Chance of Admit</th>\n",
       "    </tr>\n",
       "  </thead>\n",
       "  <tbody>\n",
       "    <tr>\n",
       "      <th>0</th>\n",
       "      <td>0</td>\n",
       "      <td>0.61</td>\n",
       "    </tr>\n",
       "    <tr>\n",
       "      <th>1</th>\n",
       "      <td>1</td>\n",
       "      <td>0.69</td>\n",
       "    </tr>\n",
       "    <tr>\n",
       "      <th>2</th>\n",
       "      <td>2</td>\n",
       "      <td>0.68</td>\n",
       "    </tr>\n",
       "    <tr>\n",
       "      <th>3</th>\n",
       "      <td>3</td>\n",
       "      <td>0.73</td>\n",
       "    </tr>\n",
       "    <tr>\n",
       "      <th>4</th>\n",
       "      <td>4</td>\n",
       "      <td>0.77</td>\n",
       "    </tr>\n",
       "  </tbody>\n",
       "</table>\n",
       "</div>"
      ],
      "text/plain": [
       "   ID  Chance of Admit\n",
       "0   0             0.61\n",
       "1   1             0.69\n",
       "2   2             0.68\n",
       "3   3             0.73\n",
       "4   4             0.77"
      ]
     },
     "metadata": {},
     "output_type": "display_data"
    }
   ],
   "source": [
    "import pandas as pd\n",
    "#데이터 로드\n",
    "x_train = pd.read_csv(\"https://raw.githubusercontent.com/Datamanim/datarepo/main/admission/x_train.csv\")\n",
    "y_train = pd.read_csv(\"https://raw.githubusercontent.com/Datamanim/datarepo/main/admission/y_train.csv\")\n",
    "x_test= pd.read_csv(\"https://raw.githubusercontent.com/Datamanim/datarepo/main/admission/x_test.csv\")\n",
    "\n",
    "\n",
    "display(x_train.head())\n",
    "display(y_train.head())"
   ]
  },
  {
   "cell_type": "markdown",
   "id": "9ab2e3cf",
   "metadata": {},
   "source": [
    "### 레드 와인 퀄리티 예측 데이터"
   ]
  },
  {
   "cell_type": "markdown",
   "id": "a11c919a",
   "metadata": {},
   "source": [
    "```{attention} \n",
    "데이터 설명 : 레드 와인 퀄리티 예측문제 (종속변수 :quality)    \n",
    "x_train: https://raw.githubusercontent.com/Datamanim/datarepo/main/redwine/x_train.csv    \n",
    "y_train: https://raw.githubusercontent.com/Datamanim/datarepo/main/redwine/y_train.csv  \n",
    "x_test: https://raw.githubusercontent.com/Datamanim/datarepo/main/redwine/x_test.csv   \n",
    "x_label(평가용) : https://raw.githubusercontent.com/Datamanim/datarepo/main/redwine/y_test.csv    \n",
    "데이터 출처 :https://www.kaggle.com/uciml/red-wine-quality-cortez-et-al-2009(참고, 데이터 수정)     \n",
    "```  "
   ]
  },
  {
   "cell_type": "code",
   "execution_count": 66,
   "id": "492c7552",
   "metadata": {
    "ExecuteTime": {
     "end_time": "2022-05-01T10:30:26.124514Z",
     "start_time": "2022-05-01T10:30:24.741557Z"
    }
   },
   "outputs": [
    {
     "data": {
      "text/html": [
       "<div>\n",
       "<style scoped>\n",
       "    .dataframe tbody tr th:only-of-type {\n",
       "        vertical-align: middle;\n",
       "    }\n",
       "\n",
       "    .dataframe tbody tr th {\n",
       "        vertical-align: top;\n",
       "    }\n",
       "\n",
       "    .dataframe thead th {\n",
       "        text-align: right;\n",
       "    }\n",
       "</style>\n",
       "<table border=\"1\" class=\"dataframe\">\n",
       "  <thead>\n",
       "    <tr style=\"text-align: right;\">\n",
       "      <th></th>\n",
       "      <th>ID</th>\n",
       "      <th>fixed acidity</th>\n",
       "      <th>volatile acidity</th>\n",
       "      <th>citric acid</th>\n",
       "      <th>residual sugar</th>\n",
       "      <th>chlorides</th>\n",
       "      <th>free sulfur dioxide</th>\n",
       "      <th>total sulfur dioxide</th>\n",
       "      <th>density</th>\n",
       "      <th>pH</th>\n",
       "      <th>sulphates</th>\n",
       "      <th>alcohol</th>\n",
       "    </tr>\n",
       "  </thead>\n",
       "  <tbody>\n",
       "    <tr>\n",
       "      <th>0</th>\n",
       "      <td>1</td>\n",
       "      <td>10.6</td>\n",
       "      <td>0.44</td>\n",
       "      <td>0.68</td>\n",
       "      <td>4.1</td>\n",
       "      <td>0.114</td>\n",
       "      <td>6.0</td>\n",
       "      <td>24.0</td>\n",
       "      <td>0.99700</td>\n",
       "      <td>3.06</td>\n",
       "      <td>0.66</td>\n",
       "      <td>13.4</td>\n",
       "    </tr>\n",
       "    <tr>\n",
       "      <th>1</th>\n",
       "      <td>2</td>\n",
       "      <td>7.0</td>\n",
       "      <td>0.60</td>\n",
       "      <td>0.30</td>\n",
       "      <td>4.5</td>\n",
       "      <td>0.068</td>\n",
       "      <td>20.0</td>\n",
       "      <td>110.0</td>\n",
       "      <td>0.99914</td>\n",
       "      <td>3.30</td>\n",
       "      <td>1.17</td>\n",
       "      <td>10.2</td>\n",
       "    </tr>\n",
       "    <tr>\n",
       "      <th>2</th>\n",
       "      <td>3</td>\n",
       "      <td>8.0</td>\n",
       "      <td>0.43</td>\n",
       "      <td>0.36</td>\n",
       "      <td>2.3</td>\n",
       "      <td>0.075</td>\n",
       "      <td>10.0</td>\n",
       "      <td>48.0</td>\n",
       "      <td>0.99760</td>\n",
       "      <td>3.34</td>\n",
       "      <td>0.46</td>\n",
       "      <td>9.4</td>\n",
       "    </tr>\n",
       "    <tr>\n",
       "      <th>3</th>\n",
       "      <td>4</td>\n",
       "      <td>7.9</td>\n",
       "      <td>0.53</td>\n",
       "      <td>0.24</td>\n",
       "      <td>2.0</td>\n",
       "      <td>0.072</td>\n",
       "      <td>15.0</td>\n",
       "      <td>105.0</td>\n",
       "      <td>0.99600</td>\n",
       "      <td>3.27</td>\n",
       "      <td>0.54</td>\n",
       "      <td>9.4</td>\n",
       "    </tr>\n",
       "    <tr>\n",
       "      <th>4</th>\n",
       "      <td>5</td>\n",
       "      <td>8.0</td>\n",
       "      <td>0.45</td>\n",
       "      <td>0.23</td>\n",
       "      <td>2.2</td>\n",
       "      <td>0.094</td>\n",
       "      <td>16.0</td>\n",
       "      <td>29.0</td>\n",
       "      <td>0.99620</td>\n",
       "      <td>3.21</td>\n",
       "      <td>0.49</td>\n",
       "      <td>10.2</td>\n",
       "    </tr>\n",
       "  </tbody>\n",
       "</table>\n",
       "</div>"
      ],
      "text/plain": [
       "   ID  fixed acidity  volatile acidity  citric acid  residual sugar  \\\n",
       "0   1           10.6              0.44         0.68             4.1   \n",
       "1   2            7.0              0.60         0.30             4.5   \n",
       "2   3            8.0              0.43         0.36             2.3   \n",
       "3   4            7.9              0.53         0.24             2.0   \n",
       "4   5            8.0              0.45         0.23             2.2   \n",
       "\n",
       "   chlorides  free sulfur dioxide  total sulfur dioxide  density    pH  \\\n",
       "0      0.114                  6.0                  24.0  0.99700  3.06   \n",
       "1      0.068                 20.0                 110.0  0.99914  3.30   \n",
       "2      0.075                 10.0                  48.0  0.99760  3.34   \n",
       "3      0.072                 15.0                 105.0  0.99600  3.27   \n",
       "4      0.094                 16.0                  29.0  0.99620  3.21   \n",
       "\n",
       "   sulphates  alcohol  \n",
       "0       0.66     13.4  \n",
       "1       1.17     10.2  \n",
       "2       0.46      9.4  \n",
       "3       0.54      9.4  \n",
       "4       0.49     10.2  "
      ]
     },
     "metadata": {},
     "output_type": "display_data"
    },
    {
     "data": {
      "text/html": [
       "<div>\n",
       "<style scoped>\n",
       "    .dataframe tbody tr th:only-of-type {\n",
       "        vertical-align: middle;\n",
       "    }\n",
       "\n",
       "    .dataframe tbody tr th {\n",
       "        vertical-align: top;\n",
       "    }\n",
       "\n",
       "    .dataframe thead th {\n",
       "        text-align: right;\n",
       "    }\n",
       "</style>\n",
       "<table border=\"1\" class=\"dataframe\">\n",
       "  <thead>\n",
       "    <tr style=\"text-align: right;\">\n",
       "      <th></th>\n",
       "      <th>ID</th>\n",
       "      <th>quality</th>\n",
       "    </tr>\n",
       "  </thead>\n",
       "  <tbody>\n",
       "    <tr>\n",
       "      <th>0</th>\n",
       "      <td>1</td>\n",
       "      <td>6</td>\n",
       "    </tr>\n",
       "    <tr>\n",
       "      <th>1</th>\n",
       "      <td>2</td>\n",
       "      <td>5</td>\n",
       "    </tr>\n",
       "    <tr>\n",
       "      <th>2</th>\n",
       "      <td>3</td>\n",
       "      <td>5</td>\n",
       "    </tr>\n",
       "    <tr>\n",
       "      <th>3</th>\n",
       "      <td>4</td>\n",
       "      <td>6</td>\n",
       "    </tr>\n",
       "    <tr>\n",
       "      <th>4</th>\n",
       "      <td>5</td>\n",
       "      <td>6</td>\n",
       "    </tr>\n",
       "  </tbody>\n",
       "</table>\n",
       "</div>"
      ],
      "text/plain": [
       "   ID  quality\n",
       "0   1        6\n",
       "1   2        5\n",
       "2   3        5\n",
       "3   4        6\n",
       "4   5        6"
      ]
     },
     "metadata": {},
     "output_type": "display_data"
    }
   ],
   "source": [
    "import pandas as pd\n",
    "#데이터 로드\n",
    "x_train = pd.read_csv(\"https://raw.githubusercontent.com/Datamanim/datarepo/main/redwine/x_train.csv\")\n",
    "y_train = pd.read_csv(\"https://raw.githubusercontent.com/Datamanim/datarepo/main/redwine/y_train.csv\")\n",
    "x_test= pd.read_csv(\"https://raw.githubusercontent.com/Datamanim/datarepo/main/redwine/x_test.csv\")\n",
    "\n",
    "\n",
    "display(x_train.head())\n",
    "display(y_train.head())"
   ]
  },
  {
   "cell_type": "markdown",
   "id": "b73b0b83",
   "metadata": {},
   "source": [
    "### 현대 차량 가격 분류문제 데이터"
   ]
  },
  {
   "cell_type": "markdown",
   "id": "1ee2f0e6",
   "metadata": {},
   "source": [
    "```{attention}     \n",
    "데이터 설명 : 현대 차량가격 분류문제 (종속변수 :price)    \n",
    "x_train: https://raw.githubusercontent.com/Datamanim/datarepo/main/hyundai/x_train.csv    \n",
    "y_train: https://raw.githubusercontent.com/Datamanim/datarepo/main/hyundai/y_train.csv  \n",
    "x_test: https://raw.githubusercontent.com/Datamanim/datarepo/main/hyundai/x_test.csv   \n",
    "x_label(평가용) : https://raw.githubusercontent.com/Datamanim/datarepo/main/hyundai/y_test.csv    \n",
    "데이터 출처 :https://www.kaggle.com/mysarahmadbhat/hyundai-used-car-listing(참고, 데이터 수정) \n",
    "```  "
   ]
  },
  {
   "cell_type": "code",
   "execution_count": 67,
   "id": "caa15aff",
   "metadata": {
    "ExecuteTime": {
     "end_time": "2022-05-01T10:30:45.956028Z",
     "start_time": "2022-05-01T10:30:44.195622Z"
    }
   },
   "outputs": [
    {
     "data": {
      "text/html": [
       "<div>\n",
       "<style scoped>\n",
       "    .dataframe tbody tr th:only-of-type {\n",
       "        vertical-align: middle;\n",
       "    }\n",
       "\n",
       "    .dataframe tbody tr th {\n",
       "        vertical-align: top;\n",
       "    }\n",
       "\n",
       "    .dataframe thead th {\n",
       "        text-align: right;\n",
       "    }\n",
       "</style>\n",
       "<table border=\"1\" class=\"dataframe\">\n",
       "  <thead>\n",
       "    <tr style=\"text-align: right;\">\n",
       "      <th></th>\n",
       "      <th>ID</th>\n",
       "      <th>model</th>\n",
       "      <th>year</th>\n",
       "      <th>transmission</th>\n",
       "      <th>mileage</th>\n",
       "      <th>fuelType</th>\n",
       "      <th>tax(£)</th>\n",
       "      <th>mpg</th>\n",
       "      <th>engineSize</th>\n",
       "    </tr>\n",
       "  </thead>\n",
       "  <tbody>\n",
       "    <tr>\n",
       "      <th>0</th>\n",
       "      <td>0</td>\n",
       "      <td>I30</td>\n",
       "      <td>2019</td>\n",
       "      <td>Manual</td>\n",
       "      <td>21</td>\n",
       "      <td>Petrol</td>\n",
       "      <td>150</td>\n",
       "      <td>34.0</td>\n",
       "      <td>2.0</td>\n",
       "    </tr>\n",
       "    <tr>\n",
       "      <th>1</th>\n",
       "      <td>1</td>\n",
       "      <td>Santa Fe</td>\n",
       "      <td>2018</td>\n",
       "      <td>Semi-Auto</td>\n",
       "      <td>10500</td>\n",
       "      <td>Diesel</td>\n",
       "      <td>145</td>\n",
       "      <td>39.8</td>\n",
       "      <td>2.2</td>\n",
       "    </tr>\n",
       "    <tr>\n",
       "      <th>2</th>\n",
       "      <td>2</td>\n",
       "      <td>Tucson</td>\n",
       "      <td>2017</td>\n",
       "      <td>Manual</td>\n",
       "      <td>29968</td>\n",
       "      <td>Diesel</td>\n",
       "      <td>30</td>\n",
       "      <td>61.7</td>\n",
       "      <td>1.7</td>\n",
       "    </tr>\n",
       "    <tr>\n",
       "      <th>3</th>\n",
       "      <td>3</td>\n",
       "      <td>Kona</td>\n",
       "      <td>2018</td>\n",
       "      <td>Manual</td>\n",
       "      <td>27317</td>\n",
       "      <td>Petrol</td>\n",
       "      <td>145</td>\n",
       "      <td>52.3</td>\n",
       "      <td>1.0</td>\n",
       "    </tr>\n",
       "    <tr>\n",
       "      <th>4</th>\n",
       "      <td>4</td>\n",
       "      <td>Tucson</td>\n",
       "      <td>2018</td>\n",
       "      <td>Semi-Auto</td>\n",
       "      <td>31459</td>\n",
       "      <td>Diesel</td>\n",
       "      <td>145</td>\n",
       "      <td>57.7</td>\n",
       "      <td>1.7</td>\n",
       "    </tr>\n",
       "  </tbody>\n",
       "</table>\n",
       "</div>"
      ],
      "text/plain": [
       "   ID      model  year transmission  mileage fuelType  tax(£)   mpg  \\\n",
       "0   0        I30  2019       Manual       21   Petrol     150  34.0   \n",
       "1   1   Santa Fe  2018    Semi-Auto    10500   Diesel     145  39.8   \n",
       "2   2     Tucson  2017       Manual    29968   Diesel      30  61.7   \n",
       "3   3       Kona  2018       Manual    27317   Petrol     145  52.3   \n",
       "4   4     Tucson  2018    Semi-Auto    31459   Diesel     145  57.7   \n",
       "\n",
       "   engineSize  \n",
       "0         2.0  \n",
       "1         2.2  \n",
       "2         1.7  \n",
       "3         1.0  \n",
       "4         1.7  "
      ]
     },
     "metadata": {},
     "output_type": "display_data"
    },
    {
     "data": {
      "text/html": [
       "<div>\n",
       "<style scoped>\n",
       "    .dataframe tbody tr th:only-of-type {\n",
       "        vertical-align: middle;\n",
       "    }\n",
       "\n",
       "    .dataframe tbody tr th {\n",
       "        vertical-align: top;\n",
       "    }\n",
       "\n",
       "    .dataframe thead th {\n",
       "        text-align: right;\n",
       "    }\n",
       "</style>\n",
       "<table border=\"1\" class=\"dataframe\">\n",
       "  <thead>\n",
       "    <tr style=\"text-align: right;\">\n",
       "      <th></th>\n",
       "      <th>ID</th>\n",
       "      <th>price</th>\n",
       "    </tr>\n",
       "  </thead>\n",
       "  <tbody>\n",
       "    <tr>\n",
       "      <th>0</th>\n",
       "      <td>0</td>\n",
       "      <td>23995</td>\n",
       "    </tr>\n",
       "    <tr>\n",
       "      <th>1</th>\n",
       "      <td>1</td>\n",
       "      <td>28490</td>\n",
       "    </tr>\n",
       "    <tr>\n",
       "      <th>2</th>\n",
       "      <td>2</td>\n",
       "      <td>13251</td>\n",
       "    </tr>\n",
       "    <tr>\n",
       "      <th>3</th>\n",
       "      <td>3</td>\n",
       "      <td>14990</td>\n",
       "    </tr>\n",
       "    <tr>\n",
       "      <th>4</th>\n",
       "      <td>4</td>\n",
       "      <td>17591</td>\n",
       "    </tr>\n",
       "  </tbody>\n",
       "</table>\n",
       "</div>"
      ],
      "text/plain": [
       "   ID  price\n",
       "0   0  23995\n",
       "1   1  28490\n",
       "2   2  13251\n",
       "3   3  14990\n",
       "4   4  17591"
      ]
     },
     "metadata": {},
     "output_type": "display_data"
    }
   ],
   "source": [
    "import pandas as pd\n",
    "#데이터 로드\n",
    "x_train = pd.read_csv(\"https://raw.githubusercontent.com/Datamanim/datarepo/main/hyundai/x_train.csv\")\n",
    "y_train = pd.read_csv(\"https://raw.githubusercontent.com/Datamanim/datarepo/main/hyundai/y_train.csv\")\n",
    "x_test= pd.read_csv(\"https://raw.githubusercontent.com/Datamanim/datarepo/main/hyundai/x_test.csv\")\n",
    "\n",
    "\n",
    "display(x_train.head())\n",
    "display(y_train.head())"
   ]
  }
 ],
 "metadata": {
  "celltoolbar": "Edit Metadata",
  "kernelspec": {
   "display_name": "Python 3 (ipykernel)",
   "language": "python",
   "name": "python3"
  },
  "language_info": {
   "codemirror_mode": {
    "name": "ipython",
    "version": 3
   },
   "file_extension": ".py",
   "mimetype": "text/x-python",
   "name": "python",
   "nbconvert_exporter": "python",
   "pygments_lexer": "ipython3",
   "version": "3.8.16"
  },
  "vscode": {
   "interpreter": {
    "hash": "082e9a3bcad0a290d0001e938aa60b99250c6c2ef33a923c00b70f9826caf4b7"
   }
  }
 },
 "nbformat": 4,
 "nbformat_minor": 5
}
