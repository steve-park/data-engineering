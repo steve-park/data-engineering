{
 "cells": [
  {
   "cell_type": "markdown",
   "id": "112087c8",
   "metadata": {},
   "source": [
    "# 5회 기출 변형\n"
   ]
  },
  {
   "cell_type": "markdown",
   "id": "4731b9ca",
   "metadata": {},
   "source": [
    "- 작업 3유형 통계 반영\n",
    "- 무료인데.. 광고한번 눌러주세요.."
   ]
  },
  {
   "cell_type": "markdown",
   "id": "619a97a3",
   "metadata": {},
   "source": [
    "[![Hits](https://hits.seeyoufarm.com/api/count/incr/badge.svg?url=https://www.datamanim.com/dataset/practice/ex5.html&count_bg=%238921C0&title_bg=%23555555&icon=&icon_color=%23E7E7E7&title=hits&edge_flat=false)](https://hits.seeyoufarm.com)"
   ]
  },
  {
   "cell_type": "markdown",
   "id": "1e13cdcc",
   "metadata": {},
   "source": [
    "# 작업 1유형"
   ]
  },
  {
   "cell_type": "markdown",
   "id": "f2c74ca0",
   "metadata": {},
   "source": [
    "```{attention} \n",
    "**DataUrl = https://raw.githubusercontent.com/Datamanim/datarepo/main/krdatacertificate/e5_p1_1.csv**\n",
    "종량제 봉투 가격 데이터 : https://www.data.go.kr/data/15025538/standard.do\n",
    "```"
   ]
  },
  {
   "cell_type": "code",
   "execution_count": 2,
   "id": "5a647042",
   "metadata": {},
   "outputs": [
    {
     "data": {
      "text/html": [
       "<div>\n",
       "<style scoped>\n",
       "    .dataframe tbody tr th:only-of-type {\n",
       "        vertical-align: middle;\n",
       "    }\n",
       "\n",
       "    .dataframe tbody tr th {\n",
       "        vertical-align: top;\n",
       "    }\n",
       "\n",
       "    .dataframe thead th {\n",
       "        text-align: right;\n",
       "    }\n",
       "</style>\n",
       "<table border=\"1\" class=\"dataframe\">\n",
       "  <thead>\n",
       "    <tr style=\"text-align: right;\">\n",
       "      <th></th>\n",
       "      <th>시도명</th>\n",
       "      <th>시군구명</th>\n",
       "      <th>종량제봉투종류</th>\n",
       "      <th>종량제봉투처리방식</th>\n",
       "      <th>종량제봉투용도</th>\n",
       "      <th>종량제봉투사용대상</th>\n",
       "      <th>1L가격</th>\n",
       "      <th>1.5L가격</th>\n",
       "      <th>2L가격</th>\n",
       "      <th>2.5L가격</th>\n",
       "      <th>...</th>\n",
       "      <th>60L가격</th>\n",
       "      <th>75L가격</th>\n",
       "      <th>100L가격</th>\n",
       "      <th>120L가격</th>\n",
       "      <th>125L가격</th>\n",
       "      <th>관리부서명</th>\n",
       "      <th>관리부서전화번호</th>\n",
       "      <th>데이터기준일자</th>\n",
       "      <th>제공기관코드</th>\n",
       "      <th>제공기관명</th>\n",
       "    </tr>\n",
       "  </thead>\n",
       "  <tbody>\n",
       "    <tr>\n",
       "      <th>0</th>\n",
       "      <td>경기도</td>\n",
       "      <td>안양시</td>\n",
       "      <td>규격봉투</td>\n",
       "      <td>매립용</td>\n",
       "      <td>생활쓰레기</td>\n",
       "      <td>사업장용</td>\n",
       "      <td>0</td>\n",
       "      <td>0</td>\n",
       "      <td>0</td>\n",
       "      <td>0</td>\n",
       "      <td>...</td>\n",
       "      <td>0</td>\n",
       "      <td>2100</td>\n",
       "      <td>0</td>\n",
       "      <td>0</td>\n",
       "      <td>0</td>\n",
       "      <td>자원순환과</td>\n",
       "      <td>031-8045-5448</td>\n",
       "      <td>2022-08-12</td>\n",
       "      <td>3830000</td>\n",
       "      <td>경기도 안양시</td>\n",
       "    </tr>\n",
       "    <tr>\n",
       "      <th>1</th>\n",
       "      <td>경기도</td>\n",
       "      <td>안양시</td>\n",
       "      <td>규격봉투</td>\n",
       "      <td>매립용</td>\n",
       "      <td>생활쓰레기</td>\n",
       "      <td>기타</td>\n",
       "      <td>0</td>\n",
       "      <td>0</td>\n",
       "      <td>0</td>\n",
       "      <td>0</td>\n",
       "      <td>...</td>\n",
       "      <td>0</td>\n",
       "      <td>2100</td>\n",
       "      <td>0</td>\n",
       "      <td>0</td>\n",
       "      <td>0</td>\n",
       "      <td>자원순환과</td>\n",
       "      <td>031-8045-5448</td>\n",
       "      <td>2022-08-12</td>\n",
       "      <td>3830000</td>\n",
       "      <td>경기도 안양시</td>\n",
       "    </tr>\n",
       "    <tr>\n",
       "      <th>2</th>\n",
       "      <td>경기도</td>\n",
       "      <td>안양시</td>\n",
       "      <td>규격봉투</td>\n",
       "      <td>소각용</td>\n",
       "      <td>음식물쓰레기</td>\n",
       "      <td>가정용</td>\n",
       "      <td>0</td>\n",
       "      <td>50</td>\n",
       "      <td>0</td>\n",
       "      <td>80</td>\n",
       "      <td>...</td>\n",
       "      <td>0</td>\n",
       "      <td>0</td>\n",
       "      <td>0</td>\n",
       "      <td>0</td>\n",
       "      <td>0</td>\n",
       "      <td>자원순환과</td>\n",
       "      <td>031-8045-5448</td>\n",
       "      <td>2022-08-12</td>\n",
       "      <td>3830000</td>\n",
       "      <td>경기도 안양시</td>\n",
       "    </tr>\n",
       "    <tr>\n",
       "      <th>3</th>\n",
       "      <td>경기도</td>\n",
       "      <td>안양시</td>\n",
       "      <td>규격봉투</td>\n",
       "      <td>소각용</td>\n",
       "      <td>음식물쓰레기</td>\n",
       "      <td>사업장용</td>\n",
       "      <td>0</td>\n",
       "      <td>50</td>\n",
       "      <td>0</td>\n",
       "      <td>80</td>\n",
       "      <td>...</td>\n",
       "      <td>0</td>\n",
       "      <td>0</td>\n",
       "      <td>0</td>\n",
       "      <td>0</td>\n",
       "      <td>0</td>\n",
       "      <td>자원순환과</td>\n",
       "      <td>031-8045-5448</td>\n",
       "      <td>2022-08-12</td>\n",
       "      <td>3830000</td>\n",
       "      <td>경기도 안양시</td>\n",
       "    </tr>\n",
       "    <tr>\n",
       "      <th>4</th>\n",
       "      <td>경기도</td>\n",
       "      <td>안양시</td>\n",
       "      <td>규격봉투</td>\n",
       "      <td>소각용</td>\n",
       "      <td>음식물쓰레기</td>\n",
       "      <td>기타</td>\n",
       "      <td>0</td>\n",
       "      <td>50</td>\n",
       "      <td>0</td>\n",
       "      <td>80</td>\n",
       "      <td>...</td>\n",
       "      <td>0</td>\n",
       "      <td>0</td>\n",
       "      <td>0</td>\n",
       "      <td>0</td>\n",
       "      <td>0</td>\n",
       "      <td>자원순환과</td>\n",
       "      <td>031-8045-5448</td>\n",
       "      <td>2022-08-12</td>\n",
       "      <td>3830000</td>\n",
       "      <td>경기도 안양시</td>\n",
       "    </tr>\n",
       "  </tbody>\n",
       "</table>\n",
       "<p>5 rows × 26 columns</p>\n",
       "</div>"
      ],
      "text/plain": [
       "   시도명 시군구명 종량제봉투종류 종량제봉투처리방식 종량제봉투용도 종량제봉투사용대상  1L가격  1.5L가격  2L가격  2.5L가격  \\\n",
       "0  경기도  안양시    규격봉투       매립용   생활쓰레기      사업장용     0       0     0       0   \n",
       "1  경기도  안양시    규격봉투       매립용   생활쓰레기        기타     0       0     0       0   \n",
       "2  경기도  안양시    규격봉투       소각용  음식물쓰레기       가정용     0      50     0      80   \n",
       "3  경기도  안양시    규격봉투       소각용  음식물쓰레기      사업장용     0      50     0      80   \n",
       "4  경기도  안양시    규격봉투       소각용  음식물쓰레기        기타     0      50     0      80   \n",
       "\n",
       "   ...  60L가격  75L가격  100L가격  120L가격  125L가격  관리부서명       관리부서전화번호  \\\n",
       "0  ...      0   2100       0       0       0  자원순환과  031-8045-5448   \n",
       "1  ...      0   2100       0       0       0  자원순환과  031-8045-5448   \n",
       "2  ...      0      0       0       0       0  자원순환과  031-8045-5448   \n",
       "3  ...      0      0       0       0       0  자원순환과  031-8045-5448   \n",
       "4  ...      0      0       0       0       0  자원순환과  031-8045-5448   \n",
       "\n",
       "      데이터기준일자   제공기관코드    제공기관명  \n",
       "0  2022-08-12  3830000  경기도 안양시  \n",
       "1  2022-08-12  3830000  경기도 안양시  \n",
       "2  2022-08-12  3830000  경기도 안양시  \n",
       "3  2022-08-12  3830000  경기도 안양시  \n",
       "4  2022-08-12  3830000  경기도 안양시  \n",
       "\n",
       "[5 rows x 26 columns]"
      ]
     },
     "execution_count": 2,
     "metadata": {},
     "output_type": "execute_result"
    }
   ],
   "source": [
    "import pandas as pd\n",
    "df = pd.read_csv('https://raw.githubusercontent.com/Datamanim/datarepo/main/krdatacertificate/e5_p1_1_.csv')\n",
    "df.head(5)"
   ]
  },
  {
   "cell_type": "markdown",
   "id": "96dbf94c",
   "metadata": {},
   "source": [
    "```{admonition} 1-1\n",
    "**20L가격과 5L가격이 모두 0원이 아닌 데이터만 필터를 한 후, 각 row별로 20L가격과 5L가격의 차이를 '차이가격' 이라 부른다고 하자. 시도명 별 차이가격의 평균가격을 비교할때 그 값이 가장 큰 금액을 반올림하여 소숫점 이하 1자리까지 구하여라**\n",
    "```"
   ]
  },
  {
   "cell_type": "code",
   "execution_count": 8,
   "id": "9bc11c55",
   "metadata": {
    "ExecuteTime": {
     "end_time": "2021-06-12T06:35:32.658486Z",
     "start_time": "2021-06-12T06:35:32.655863Z"
    },
    "tags": [
     "hide-input"
    ]
   },
   "outputs": [
    {
     "data": {
      "text/html": [
       "<div>\n",
       "<style scoped>\n",
       "    .dataframe tbody tr th:only-of-type {\n",
       "        vertical-align: middle;\n",
       "    }\n",
       "\n",
       "    .dataframe tbody tr th {\n",
       "        vertical-align: top;\n",
       "    }\n",
       "\n",
       "    .dataframe thead th {\n",
       "        text-align: right;\n",
       "    }\n",
       "</style>\n",
       "<table border=\"1\" class=\"dataframe\">\n",
       "  <thead>\n",
       "    <tr style=\"text-align: right;\">\n",
       "      <th></th>\n",
       "      <th>차이가격</th>\n",
       "    </tr>\n",
       "    <tr>\n",
       "      <th>시도명</th>\n",
       "      <th></th>\n",
       "    </tr>\n",
       "  </thead>\n",
       "  <tbody>\n",
       "    <tr>\n",
       "      <th>제주특별자치도</th>\n",
       "      <td>580.0</td>\n",
       "    </tr>\n",
       "    <tr>\n",
       "      <th>부산광역시</th>\n",
       "      <td>593.0</td>\n",
       "    </tr>\n",
       "    <tr>\n",
       "      <th>인천광역시</th>\n",
       "      <td>619.0</td>\n",
       "    </tr>\n",
       "  </tbody>\n",
       "</table>\n",
       "</div>"
      ],
      "text/plain": [
       "          차이가격\n",
       "시도명           \n",
       "제주특별자치도  580.0\n",
       "부산광역시    593.0\n",
       "인천광역시    619.0"
      ]
     },
     "metadata": {},
     "output_type": "display_data"
    },
    {
     "name": "stdout",
     "output_type": "stream",
     "text": [
      "619.0\n"
     ]
    }
   ],
   "source": [
    "pd.set_option('display.max_columns',100)\n",
    "\n",
    "f = df[(df['5L가격'] != 0) & ((df['20L가격'] != 0))].reset_index(drop=True)\n",
    "f['차이가격'] = f['20L가격'] -f['5L가격']\n",
    "\n",
    "r = f.groupby(['시도명'])['차이가격'].mean().sort_values().to_frame()\n",
    "display(r.tail(3))\n",
    "result = r['차이가격'].max().round(1)\n",
    "print(result)"
   ]
  },
  {
   "cell_type": "markdown",
   "id": "8cbb131c",
   "metadata": {},
   "source": [
    "```{attention} \n",
    "**DataUrl = https://raw.githubusercontent.com/Datamanim/datarepo/main/krdatacertificate/e5_p1_2.csv**\n",
    "성인 체중 및 키 데이터 : 자체 제작\n",
    "```"
   ]
  },
  {
   "cell_type": "code",
   "execution_count": 9,
   "id": "f84c1df5",
   "metadata": {},
   "outputs": [
    {
     "data": {
      "text/html": [
       "<div>\n",
       "<style scoped>\n",
       "    .dataframe tbody tr th:only-of-type {\n",
       "        vertical-align: middle;\n",
       "    }\n",
       "\n",
       "    .dataframe tbody tr th {\n",
       "        vertical-align: top;\n",
       "    }\n",
       "\n",
       "    .dataframe thead th {\n",
       "        text-align: right;\n",
       "    }\n",
       "</style>\n",
       "<table border=\"1\" class=\"dataframe\">\n",
       "  <thead>\n",
       "    <tr style=\"text-align: right;\">\n",
       "      <th></th>\n",
       "      <th>ID</th>\n",
       "      <th>height(cm)</th>\n",
       "      <th>weight(kg)</th>\n",
       "    </tr>\n",
       "  </thead>\n",
       "  <tbody>\n",
       "    <tr>\n",
       "      <th>0</th>\n",
       "      <td>user_1</td>\n",
       "      <td>173.0</td>\n",
       "      <td>67.5</td>\n",
       "    </tr>\n",
       "    <tr>\n",
       "      <th>1</th>\n",
       "      <td>user_2</td>\n",
       "      <td>149.5</td>\n",
       "      <td>82.5</td>\n",
       "    </tr>\n",
       "    <tr>\n",
       "      <th>2</th>\n",
       "      <td>user_3</td>\n",
       "      <td>143.8</td>\n",
       "      <td>64.6</td>\n",
       "    </tr>\n",
       "    <tr>\n",
       "      <th>3</th>\n",
       "      <td>user_4</td>\n",
       "      <td>163.1</td>\n",
       "      <td>87.2</td>\n",
       "    </tr>\n",
       "    <tr>\n",
       "      <th>4</th>\n",
       "      <td>user_5</td>\n",
       "      <td>159.6</td>\n",
       "      <td>77.1</td>\n",
       "    </tr>\n",
       "  </tbody>\n",
       "</table>\n",
       "</div>"
      ],
      "text/plain": [
       "       ID  height(cm)  weight(kg)\n",
       "0  user_1       173.0        67.5\n",
       "1  user_2       149.5        82.5\n",
       "2  user_3       143.8        64.6\n",
       "3  user_4       163.1        87.2\n",
       "4  user_5       159.6        77.1"
      ]
     },
     "execution_count": 9,
     "metadata": {},
     "output_type": "execute_result"
    }
   ],
   "source": [
    "import pandas as pd\n",
    "df = pd.read_csv('https://raw.githubusercontent.com/Datamanim/datarepo/main/krdatacertificate/e5_p1_2_.csv')\n",
    "df.head(5)"
   ]
  },
  {
   "cell_type": "markdown",
   "id": "4e3cfa96",
   "metadata": {},
   "source": [
    "```{admonition} 1-2\n",
    "**BMI는 몸무게(kg) / (키(M) * 키(M)) 로 정의 된다. 초고도 비만은 BMI 25이상 , 고도 비반은 BMI 25미만 - 23이상 , 정상은 23미만 - 18.5이상 저체중은 18.5미만으로 정의 된다. 주어진 데이터에서 초고도비만 인원 + 저체중 인원 의 숫자는?**\n",
    "```"
   ]
  },
  {
   "cell_type": "code",
   "execution_count": 11,
   "id": "b26ff621",
   "metadata": {
    "ExecuteTime": {
     "end_time": "2021-06-12T06:35:32.658486Z",
     "start_time": "2021-06-12T06:35:32.655863Z"
    },
    "tags": [
     "hide-input"
    ]
   },
   "outputs": [
    {
     "name": "stdout",
     "output_type": "stream",
     "text": [
      "8998\n"
     ]
    }
   ],
   "source": [
    "def category(x):\n",
    "    if x >=25:\n",
    "        return 'a'\n",
    "    \n",
    "    elif x >=23:\n",
    "        return 'b'\n",
    "\n",
    "    elif x >= 18.5:\n",
    "        return 'c'\n",
    "    \n",
    "    else:\n",
    "        return 'd'\n",
    "    \n",
    "df['bmi'] = df[df.columns[2]] / (df[df.columns[1]] /100)**2\n",
    "df['bmi_category'] = df['bmi'].map(category)\n",
    "result  = df[df.bmi_category.isin(['a','d'])].shape[0]\n",
    "print(result) # 데이터를 잘못 만들었는지 정상이 아닌 사람이 엄청 많네요...."
   ]
  },
  {
   "cell_type": "markdown",
   "id": "79834101",
   "metadata": {},
   "source": [
    "```{attention} \n",
    "**DataUrl = https://raw.githubusercontent.com/Datamanim/datarepo/main/krdatacertificate/e5_p1_2.csv**\n",
    "년도별 서울 각 구의 초,중,고 전출 전입 인원 : https://data.seoul.go.kr/dataList/10729/S/2/datasetView.do & 후처리\n",
    "```"
   ]
  },
  {
   "cell_type": "code",
   "execution_count": 2,
   "id": "b7a7cc21",
   "metadata": {},
   "outputs": [
    {
     "data": {
      "text/html": [
       "<div>\n",
       "<style scoped>\n",
       "    .dataframe tbody tr th:only-of-type {\n",
       "        vertical-align: middle;\n",
       "    }\n",
       "\n",
       "    .dataframe tbody tr th {\n",
       "        vertical-align: top;\n",
       "    }\n",
       "\n",
       "    .dataframe thead th {\n",
       "        text-align: right;\n",
       "    }\n",
       "</style>\n",
       "<table border=\"1\" class=\"dataframe\">\n",
       "  <thead>\n",
       "    <tr style=\"text-align: right;\">\n",
       "      <th></th>\n",
       "      <th>지역</th>\n",
       "      <th>초등학교_전출_도내</th>\n",
       "      <th>초등학교_전출_도외</th>\n",
       "      <th>초등학교_전입_도내</th>\n",
       "      <th>초등학교_전입_도외</th>\n",
       "      <th>중학교_전출_도내</th>\n",
       "      <th>중학교_전출_도외</th>\n",
       "      <th>중학교_전입_도내</th>\n",
       "      <th>중학교_전입_도외</th>\n",
       "      <th>고등학교_전출_도내</th>\n",
       "      <th>고등학교_전출_도외</th>\n",
       "      <th>고등학교_전입_도내</th>\n",
       "      <th>고등학교_전입_도외</th>\n",
       "      <th>년도</th>\n",
       "    </tr>\n",
       "  </thead>\n",
       "  <tbody>\n",
       "    <tr>\n",
       "      <th>0</th>\n",
       "      <td>종로구</td>\n",
       "      <td>221</td>\n",
       "      <td>132</td>\n",
       "      <td>255</td>\n",
       "      <td>126</td>\n",
       "      <td>63</td>\n",
       "      <td>71</td>\n",
       "      <td>104</td>\n",
       "      <td>73</td>\n",
       "      <td>203</td>\n",
       "      <td>72</td>\n",
       "      <td>166</td>\n",
       "      <td>75</td>\n",
       "      <td>2012</td>\n",
       "    </tr>\n",
       "    <tr>\n",
       "      <th>1</th>\n",
       "      <td>중구</td>\n",
       "      <td>295</td>\n",
       "      <td>139</td>\n",
       "      <td>203</td>\n",
       "      <td>100</td>\n",
       "      <td>66</td>\n",
       "      <td>43</td>\n",
       "      <td>58</td>\n",
       "      <td>44</td>\n",
       "      <td>156</td>\n",
       "      <td>37</td>\n",
       "      <td>104</td>\n",
       "      <td>39</td>\n",
       "      <td>2012</td>\n",
       "    </tr>\n",
       "    <tr>\n",
       "      <th>2</th>\n",
       "      <td>용산구</td>\n",
       "      <td>380</td>\n",
       "      <td>269</td>\n",
       "      <td>302</td>\n",
       "      <td>174</td>\n",
       "      <td>134</td>\n",
       "      <td>78</td>\n",
       "      <td>91</td>\n",
       "      <td>106</td>\n",
       "      <td>102</td>\n",
       "      <td>66</td>\n",
       "      <td>113</td>\n",
       "      <td>48</td>\n",
       "      <td>2012</td>\n",
       "    </tr>\n",
       "    <tr>\n",
       "      <th>3</th>\n",
       "      <td>성동구</td>\n",
       "      <td>643</td>\n",
       "      <td>344</td>\n",
       "      <td>376</td>\n",
       "      <td>221</td>\n",
       "      <td>154</td>\n",
       "      <td>103</td>\n",
       "      <td>98</td>\n",
       "      <td>82</td>\n",
       "      <td>179</td>\n",
       "      <td>37</td>\n",
       "      <td>153</td>\n",
       "      <td>41</td>\n",
       "      <td>2012</td>\n",
       "    </tr>\n",
       "    <tr>\n",
       "      <th>4</th>\n",
       "      <td>광진구</td>\n",
       "      <td>560</td>\n",
       "      <td>382</td>\n",
       "      <td>595</td>\n",
       "      <td>312</td>\n",
       "      <td>165</td>\n",
       "      <td>158</td>\n",
       "      <td>158</td>\n",
       "      <td>118</td>\n",
       "      <td>115</td>\n",
       "      <td>70</td>\n",
       "      <td>154</td>\n",
       "      <td>66</td>\n",
       "      <td>2012</td>\n",
       "    </tr>\n",
       "  </tbody>\n",
       "</table>\n",
       "</div>"
      ],
      "text/plain": [
       "    지역  초등학교_전출_도내  초등학교_전출_도외  초등학교_전입_도내  초등학교_전입_도외  중학교_전출_도내  중학교_전출_도외  \\\n",
       "0  종로구         221         132         255         126         63         71   \n",
       "1   중구         295         139         203         100         66         43   \n",
       "2  용산구         380         269         302         174        134         78   \n",
       "3  성동구         643         344         376         221        154        103   \n",
       "4  광진구         560         382         595         312        165        158   \n",
       "\n",
       "   중학교_전입_도내  중학교_전입_도외  고등학교_전출_도내  고등학교_전출_도외  고등학교_전입_도내  고등학교_전입_도외    년도  \n",
       "0        104         73         203          72         166          75  2012  \n",
       "1         58         44         156          37         104          39  2012  \n",
       "2         91        106         102          66         113          48  2012  \n",
       "3         98         82         179          37         153          41  2012  \n",
       "4        158        118         115          70         154          66  2012  "
      ]
     },
     "execution_count": 2,
     "metadata": {},
     "output_type": "execute_result"
    }
   ],
   "source": [
    "import pandas as pd\n",
    "df = pd.read_csv('https://raw.githubusercontent.com/Datamanim/datarepo/main/krdatacertificate/e5_p1_3.csv')\n",
    "df.head(5)"
   ]
  },
  {
   "cell_type": "markdown",
   "id": "acbbe58c",
   "metadata": {},
   "source": [
    "```{admonition} 1-3\n",
    "**순유입인원은 초중고 도내,도외 전입인원에서 초중고 도내, 도외 전출인원을 뺀값이다. 각년도별로 가장 큰 순유입인원을 가진 지역구의 순유입인원을 구하고 전체 기간의 해당 순유입인원들의 합을 구하여라**\n",
    "```"
   ]
  },
  {
   "cell_type": "code",
   "execution_count": 3,
   "id": "4542f31e",
   "metadata": {
    "ExecuteTime": {
     "end_time": "2021-06-12T06:35:32.658486Z",
     "start_time": "2021-06-12T06:35:32.655863Z"
    },
    "tags": [
     "hide-input"
    ]
   },
   "outputs": [
    {
     "name": "stdout",
     "output_type": "stream",
     "text": [
      "13853\n"
     ]
    }
   ],
   "source": [
    "df['순유입인원'] = \\\n",
    "df[[x for x in df.columns if '전입' in x]].sum(axis=1) -\\\n",
    "df[[x for x in df.columns if '전출' in x ]].sum(axis=1)\n",
    "\n",
    "result = df.groupby('년도')['순유입인원'].max().sum().sum()\n",
    "print(result)"
   ]
  },
  {
   "cell_type": "markdown",
   "id": "07fb130a",
   "metadata": {},
   "source": [
    "# 작업 2유형"
   ]
  },
  {
   "cell_type": "markdown",
   "id": "f02ebfff",
   "metadata": {},
   "source": [
    "```{attention} \n",
    "벤츠 차량 가격 예측 : https://www.kaggle.com/datasets/mysarahmadbhat/mercedes-used-car-listing\n",
    "**train = https://raw.githubusercontent.com/Datamanim/datarepo/main/krdatacertificate/e5_p2_train_.csv**\n",
    "**test = https://raw.githubusercontent.com/Datamanim/datarepo/main/krdatacertificate/e5_p2_test_.csv**\n",
    "\n",
    "예측 변수 price, test.csv에 대해 ID별로 price 값을 예측하여 제출, 제출 데이터 컬럼은 ID와 price 두개만 존재해야함. 평가지표는 rmse\n",
    "```"
   ]
  },
  {
   "cell_type": "code",
   "execution_count": 41,
   "id": "714eca48",
   "metadata": {},
   "outputs": [
    {
     "data": {
      "text/html": [
       "<div>\n",
       "<style scoped>\n",
       "    .dataframe tbody tr th:only-of-type {\n",
       "        vertical-align: middle;\n",
       "    }\n",
       "\n",
       "    .dataframe tbody tr th {\n",
       "        vertical-align: top;\n",
       "    }\n",
       "\n",
       "    .dataframe thead th {\n",
       "        text-align: right;\n",
       "    }\n",
       "</style>\n",
       "<table border=\"1\" class=\"dataframe\">\n",
       "  <thead>\n",
       "    <tr style=\"text-align: right;\">\n",
       "      <th></th>\n",
       "      <th>ID</th>\n",
       "      <th>model</th>\n",
       "      <th>year</th>\n",
       "      <th>price</th>\n",
       "      <th>transmission</th>\n",
       "      <th>mileage</th>\n",
       "      <th>fuelType</th>\n",
       "      <th>tax</th>\n",
       "      <th>mpg</th>\n",
       "      <th>engineSize</th>\n",
       "    </tr>\n",
       "  </thead>\n",
       "  <tbody>\n",
       "    <tr>\n",
       "      <th>0</th>\n",
       "      <td>10170</td>\n",
       "      <td>A Class</td>\n",
       "      <td>2012</td>\n",
       "      <td>11940</td>\n",
       "      <td>Automatic</td>\n",
       "      <td>46000</td>\n",
       "      <td>Diesel</td>\n",
       "      <td>30</td>\n",
       "      <td>64.2</td>\n",
       "      <td>2.1</td>\n",
       "    </tr>\n",
       "    <tr>\n",
       "      <th>1</th>\n",
       "      <td>9551</td>\n",
       "      <td>CL Class</td>\n",
       "      <td>2020</td>\n",
       "      <td>38624</td>\n",
       "      <td>Semi-Auto</td>\n",
       "      <td>19</td>\n",
       "      <td>Petrol</td>\n",
       "      <td>150</td>\n",
       "      <td>36.7</td>\n",
       "      <td>2.0</td>\n",
       "    </tr>\n",
       "  </tbody>\n",
       "</table>\n",
       "</div>"
      ],
      "text/plain": [
       "      ID      model  year  price transmission  mileage fuelType  tax   mpg  \\\n",
       "0  10170    A Class  2012  11940    Automatic    46000   Diesel   30  64.2   \n",
       "1   9551   CL Class  2020  38624    Semi-Auto       19   Petrol  150  36.7   \n",
       "\n",
       "   engineSize  \n",
       "0         2.1  \n",
       "1         2.0  "
      ]
     },
     "metadata": {},
     "output_type": "display_data"
    },
    {
     "data": {
      "text/html": [
       "<div>\n",
       "<style scoped>\n",
       "    .dataframe tbody tr th:only-of-type {\n",
       "        vertical-align: middle;\n",
       "    }\n",
       "\n",
       "    .dataframe tbody tr th {\n",
       "        vertical-align: top;\n",
       "    }\n",
       "\n",
       "    .dataframe thead th {\n",
       "        text-align: right;\n",
       "    }\n",
       "</style>\n",
       "<table border=\"1\" class=\"dataframe\">\n",
       "  <thead>\n",
       "    <tr style=\"text-align: right;\">\n",
       "      <th></th>\n",
       "      <th>ID</th>\n",
       "      <th>model</th>\n",
       "      <th>year</th>\n",
       "      <th>transmission</th>\n",
       "      <th>mileage</th>\n",
       "      <th>fuelType</th>\n",
       "      <th>tax</th>\n",
       "      <th>mpg</th>\n",
       "      <th>engineSize</th>\n",
       "    </tr>\n",
       "  </thead>\n",
       "  <tbody>\n",
       "    <tr>\n",
       "      <th>0</th>\n",
       "      <td>0</td>\n",
       "      <td>SLK</td>\n",
       "      <td>2005</td>\n",
       "      <td>Automatic</td>\n",
       "      <td>63000</td>\n",
       "      <td>Petrol</td>\n",
       "      <td>325</td>\n",
       "      <td>32.1</td>\n",
       "      <td>1.8</td>\n",
       "    </tr>\n",
       "    <tr>\n",
       "      <th>1</th>\n",
       "      <td>2</td>\n",
       "      <td>SL CLASS</td>\n",
       "      <td>2016</td>\n",
       "      <td>Automatic</td>\n",
       "      <td>6200</td>\n",
       "      <td>Petrol</td>\n",
       "      <td>555</td>\n",
       "      <td>28.0</td>\n",
       "      <td>5.5</td>\n",
       "    </tr>\n",
       "  </tbody>\n",
       "</table>\n",
       "</div>"
      ],
      "text/plain": [
       "   ID      model  year transmission  mileage fuelType  tax   mpg  engineSize\n",
       "0   0        SLK  2005    Automatic    63000   Petrol  325  32.1         1.8\n",
       "1   2   SL CLASS  2016    Automatic     6200   Petrol  555  28.0         5.5"
      ]
     },
     "execution_count": 41,
     "metadata": {},
     "output_type": "execute_result"
    }
   ],
   "source": [
    "import pandas as pd\n",
    "train = pd.read_csv('https://raw.githubusercontent.com/Datamanim/datarepo/main/krdatacertificate/e5_p2_train_.csv')\n",
    "test = pd.read_csv('https://raw.githubusercontent.com/Datamanim/datarepo/main/krdatacertificate/e5_p2_test_.csv')\n",
    "\n",
    "display(train.head(2))\n",
    "test.head(2)"
   ]
  },
  {
   "cell_type": "code",
   "execution_count": 69,
   "id": "45707ba2",
   "metadata": {
    "ExecuteTime": {
     "end_time": "2021-06-12T06:35:32.658486Z",
     "start_time": "2021-06-12T06:35:32.655863Z"
    },
    "scrolled": true,
    "tags": [
     "hide-input"
    ]
   },
   "outputs": [
    {
     "name": "stdout",
     "output_type": "stream",
     "text": [
      "test rmse 2608.739745358064\n"
     ]
    },
    {
     "data": {
      "text/html": [
       "<div>\n",
       "<style scoped>\n",
       "    .dataframe tbody tr th:only-of-type {\n",
       "        vertical-align: middle;\n",
       "    }\n",
       "\n",
       "    .dataframe tbody tr th {\n",
       "        vertical-align: top;\n",
       "    }\n",
       "\n",
       "    .dataframe thead th {\n",
       "        text-align: right;\n",
       "    }\n",
       "</style>\n",
       "<table border=\"1\" class=\"dataframe\">\n",
       "  <thead>\n",
       "    <tr style=\"text-align: right;\">\n",
       "      <th></th>\n",
       "      <th>ID</th>\n",
       "      <th>price</th>\n",
       "    </tr>\n",
       "  </thead>\n",
       "  <tbody>\n",
       "    <tr>\n",
       "      <th>0</th>\n",
       "      <td>0</td>\n",
       "      <td>4269.100000</td>\n",
       "    </tr>\n",
       "    <tr>\n",
       "      <th>1</th>\n",
       "      <td>2</td>\n",
       "      <td>64883.916667</td>\n",
       "    </tr>\n",
       "    <tr>\n",
       "      <th>2</th>\n",
       "      <td>14</td>\n",
       "      <td>17303.080000</td>\n",
       "    </tr>\n",
       "    <tr>\n",
       "      <th>3</th>\n",
       "      <td>15</td>\n",
       "      <td>14416.230000</td>\n",
       "    </tr>\n",
       "    <tr>\n",
       "      <th>4</th>\n",
       "      <td>18</td>\n",
       "      <td>15897.000000</td>\n",
       "    </tr>\n",
       "  </tbody>\n",
       "</table>\n",
       "</div>"
      ],
      "text/plain": [
       "   ID         price\n",
       "0   0   4269.100000\n",
       "1   2  64883.916667\n",
       "2  14  17303.080000\n",
       "3  15  14416.230000\n",
       "4  18  15897.000000"
      ]
     },
     "execution_count": 69,
     "metadata": {},
     "output_type": "execute_result"
    }
   ],
   "source": [
    "from sklearn.model_selection import train_test_split\n",
    "from sklearn.metrics import mean_squared_error\n",
    "from sklearn.ensemble import RandomForestRegressor\n",
    "import numpy as np\n",
    "y = train['price']\n",
    "x = train.drop(columns =['price','ID'])\n",
    "test_x = test.drop(columns =['ID'])\n",
    "\n",
    "\n",
    "dum_x = pd.get_dummies(x)\n",
    "\n",
    "\n",
    "# train에는 있고, test에는 없는 데이터 존재 컬럼숫자가 다름 -> reindex해줘야함\n",
    "dum_test = pd.get_dummies(test_x)\n",
    "dum_test = dum_test.reindex(columns = dum_x.columns, fill_value=0)\n",
    "\n",
    "\n",
    "\n",
    "x_train,x_test,y_train,y_test = train_test_split(dum_x,y)\n",
    "\n",
    "\n",
    "rr = RandomForestRegressor()\n",
    "rr.fit(x_train,y_train)\n",
    "\n",
    "\n",
    "pred = rr.predict(x_test)\n",
    "print('test rmse', np.sqrt(mean_squared_error(y_test,pred)))\n",
    "\n",
    "\n",
    "pred_test = rr.predict(dum_test)\n",
    "\n",
    "sumission = pd.DataFrame()\n",
    "sumission['ID'] = test['ID']\n",
    "sumission['price']  = pred_test\n",
    "sumission.head()\n",
    "# sumission.to_csv('00000000.csv',index=Fasle)"
   ]
  },
  {
   "cell_type": "markdown",
   "id": "e809fe42",
   "metadata": {},
   "source": [
    "# 작업 3유형"
   ]
  },
  {
   "cell_type": "markdown",
   "id": "0521e13d",
   "metadata": {},
   "source": [
    "```{attention} \n",
    "어느 학교에서 추출한 55명 학생들의 키 정보이다.  \n",
    "**DataUrl = https://raw.githubusercontent.com/Datamanim/datarepo/main/krdatacertificate/e5_p3_1.csv**\n",
    "**이 학생들의 키의 95% 신뢰구간을 구하고자 한다.**\n",
    "```"
   ]
  },
  {
   "cell_type": "code",
   "execution_count": 70,
   "id": "23d9259b",
   "metadata": {},
   "outputs": [
    {
     "data": {
      "text/html": [
       "<div>\n",
       "<style scoped>\n",
       "    .dataframe tbody tr th:only-of-type {\n",
       "        vertical-align: middle;\n",
       "    }\n",
       "\n",
       "    .dataframe tbody tr th {\n",
       "        vertical-align: top;\n",
       "    }\n",
       "\n",
       "    .dataframe thead th {\n",
       "        text-align: right;\n",
       "    }\n",
       "</style>\n",
       "<table border=\"1\" class=\"dataframe\">\n",
       "  <thead>\n",
       "    <tr style=\"text-align: right;\">\n",
       "      <th></th>\n",
       "      <th>ID</th>\n",
       "      <th>height</th>\n",
       "    </tr>\n",
       "  </thead>\n",
       "  <tbody>\n",
       "    <tr>\n",
       "      <th>0</th>\n",
       "      <td>user_1</td>\n",
       "      <td>164.57</td>\n",
       "    </tr>\n",
       "    <tr>\n",
       "      <th>1</th>\n",
       "      <td>user_2</td>\n",
       "      <td>174.99</td>\n",
       "    </tr>\n",
       "    <tr>\n",
       "      <th>2</th>\n",
       "      <td>user_3</td>\n",
       "      <td>171.41</td>\n",
       "    </tr>\n",
       "    <tr>\n",
       "      <th>3</th>\n",
       "      <td>user_4</td>\n",
       "      <td>162.47</td>\n",
       "    </tr>\n",
       "    <tr>\n",
       "      <th>4</th>\n",
       "      <td>user_5</td>\n",
       "      <td>167.11</td>\n",
       "    </tr>\n",
       "  </tbody>\n",
       "</table>\n",
       "</div>"
      ],
      "text/plain": [
       "       ID  height\n",
       "0  user_1  164.57\n",
       "1  user_2  174.99\n",
       "2  user_3  171.41\n",
       "3  user_4  162.47\n",
       "4  user_5  167.11"
      ]
     },
     "execution_count": 70,
     "metadata": {},
     "output_type": "execute_result"
    }
   ],
   "source": [
    "import pandas as pd \n",
    "df= pd.read_csv('https://raw.githubusercontent.com/Datamanim/datarepo/main/krdatacertificate/e5_p3_1.csv')\n",
    "df.head()"
   ]
  },
  {
   "cell_type": "markdown",
   "id": "36e4c797",
   "metadata": {},
   "source": [
    "```{admonition} 3-1-a\n",
    "**55명 학생들의 키에 대한 표본 평균을 구하여라(반올림하여 소숫점 3째자리까지**\n",
    "```"
   ]
  },
  {
   "cell_type": "code",
   "execution_count": 71,
   "id": "9bf55cf4",
   "metadata": {
    "ExecuteTime": {
     "end_time": "2021-06-12T06:35:32.658486Z",
     "start_time": "2021-06-12T06:35:32.655863Z"
    },
    "tags": [
     "hide-input"
    ]
   },
   "outputs": [
    {
     "name": "stdout",
     "output_type": "stream",
     "text": [
      "169.937\n"
     ]
    }
   ],
   "source": [
    "import numpy as np\n",
    "mean = np.round(np.mean(df.height),3)\n",
    "print(mean)"
   ]
  },
  {
   "cell_type": "markdown",
   "id": "618f0084",
   "metadata": {},
   "source": [
    "```{admonition} 3-1-b\n",
    "**t분포 양쪽 꼬리에서의 t 값을 구하여라 (반올림하여 소수4째자리까지)**\n",
    "```"
   ]
  },
  {
   "cell_type": "code",
   "execution_count": 72,
   "id": "da5c174f",
   "metadata": {
    "ExecuteTime": {
     "end_time": "2021-06-12T06:35:32.658486Z",
     "start_time": "2021-06-12T06:35:32.655863Z"
    },
    "tags": [
     "hide-input"
    ]
   },
   "outputs": [
    {
     "name": "stdout",
     "output_type": "stream",
     "text": [
      "2.0049\n"
     ]
    }
   ],
   "source": [
    "import numpy as np\n",
    "from scipy.stats import t\n",
    "\n",
    "std = np.std(df.height, ddof=1)\n",
    "n = len(df.height)\n",
    "\n",
    "# 신뢰수준, 자유도\n",
    "confidence_level = 0.95\n",
    "ddof = n - 1\n",
    "\n",
    "# t 분포의 양쪽 꼬리에서의 t값\n",
    "t_value = round(t.ppf((1 + confidence_level) / 2, ddof),4)\n",
    "print(t_value)"
   ]
  },
  {
   "cell_type": "markdown",
   "id": "075bcd40",
   "metadata": {},
   "source": [
    "```{admonition} 3-1-c\n",
    "**95% 신뢰구간을 구하여라(print(lower,upper) 방식으로 출력, 각각의 값은 소숫점 이하 3째자리까지)**\n",
    "```"
   ]
  },
  {
   "cell_type": "code",
   "execution_count": 73,
   "id": "2a8ec24e",
   "metadata": {
    "ExecuteTime": {
     "end_time": "2021-06-12T06:35:32.658486Z",
     "start_time": "2021-06-12T06:35:32.655863Z"
    },
    "tags": [
     "hide-input"
    ]
   },
   "outputs": [
    {
     "name": "stdout",
     "output_type": "stream",
     "text": [
      "168.321 171.553\n"
     ]
    }
   ],
   "source": [
    "# 신뢰구간 계산\n",
    "lower = round(mean - t_value * std / np.sqrt(n),3)\n",
    "upper = round(mean + t_value * std / np.sqrt(n),3)\n",
    "print(lower,upper)"
   ]
  },
  {
   "cell_type": "markdown",
   "id": "2f0c8228",
   "metadata": {},
   "source": [
    "```{attention} \n",
    "A,B,C 세 공장에서 생산한 동일한 제품의 길이 데이터 이다.\n",
    "**DataUrl = https://raw.githubusercontent.com/Datamanim/datarepo/main/krdatacertificate/e5_p3_2.csv**\n",
    "**공장간의 제품 길이 차이가 유의미한지 확인 하려한다.**\n",
    "```"
   ]
  },
  {
   "cell_type": "code",
   "execution_count": 74,
   "id": "ae244c40",
   "metadata": {},
   "outputs": [
    {
     "data": {
      "text/html": [
       "<div>\n",
       "<style scoped>\n",
       "    .dataframe tbody tr th:only-of-type {\n",
       "        vertical-align: middle;\n",
       "    }\n",
       "\n",
       "    .dataframe tbody tr th {\n",
       "        vertical-align: top;\n",
       "    }\n",
       "\n",
       "    .dataframe thead th {\n",
       "        text-align: right;\n",
       "    }\n",
       "</style>\n",
       "<table border=\"1\" class=\"dataframe\">\n",
       "  <thead>\n",
       "    <tr style=\"text-align: right;\">\n",
       "      <th></th>\n",
       "      <th>ID</th>\n",
       "      <th>value</th>\n",
       "    </tr>\n",
       "  </thead>\n",
       "  <tbody>\n",
       "    <tr>\n",
       "      <th>0</th>\n",
       "      <td>A</td>\n",
       "      <td>84.179434</td>\n",
       "    </tr>\n",
       "    <tr>\n",
       "      <th>1</th>\n",
       "      <td>A</td>\n",
       "      <td>93.971003</td>\n",
       "    </tr>\n",
       "    <tr>\n",
       "      <th>2</th>\n",
       "      <td>A</td>\n",
       "      <td>62.140957</td>\n",
       "    </tr>\n",
       "    <tr>\n",
       "      <th>3</th>\n",
       "      <td>A</td>\n",
       "      <td>72.911723</td>\n",
       "    </tr>\n",
       "    <tr>\n",
       "      <th>4</th>\n",
       "      <td>A</td>\n",
       "      <td>79.252747</td>\n",
       "    </tr>\n",
       "  </tbody>\n",
       "</table>\n",
       "</div>"
      ],
      "text/plain": [
       "  ID      value\n",
       "0  A  84.179434\n",
       "1  A  93.971003\n",
       "2  A  62.140957\n",
       "3  A  72.911723\n",
       "4  A  79.252747"
      ]
     },
     "execution_count": 74,
     "metadata": {},
     "output_type": "execute_result"
    }
   ],
   "source": [
    "import pandas as pd \n",
    "df= pd.read_csv('https://raw.githubusercontent.com/Datamanim/datarepo/main/krdatacertificate/e5_p3_2.csv')\n",
    "df.head()"
   ]
  },
  {
   "cell_type": "markdown",
   "id": "9935e5a1",
   "metadata": {},
   "source": [
    "```{admonition} 3-1-a\n",
    "**3 그룹의 데이터에 대해 크루스칼-왈리스 검정을 사용하여 검정 통계량을 반올림하여 소숫점 이하 3자리까지 구하여라**\n",
    "```"
   ]
  },
  {
   "cell_type": "code",
   "execution_count": 75,
   "id": "31220102",
   "metadata": {
    "ExecuteTime": {
     "end_time": "2021-06-12T06:35:32.658486Z",
     "start_time": "2021-06-12T06:35:32.655863Z"
    },
    "tags": [
     "hide-input"
    ]
   },
   "outputs": [
    {
     "name": "stdout",
     "output_type": "stream",
     "text": [
      "6.521\n"
     ]
    }
   ],
   "source": [
    "from scipy.stats import kruskal\n",
    "a = df[df.ID =='A'].value.values\n",
    "b = df[df.ID =='B'].value.values\n",
    "c = df[df.ID =='C'].value.values\n",
    "\n",
    "s,p = kruskal(a,b,c)\n",
    "\n",
    "round_s = round(s,3)\n",
    "print(round_s)"
   ]
  },
  {
   "cell_type": "markdown",
   "id": "32ef93af",
   "metadata": {},
   "source": [
    "```{admonition} 3-1-b\n",
    "**3 그룹의 데이터에 대해 크루스칼-왈리스 검정을 사용하여 p-value를 반올림하여 소숫점 이하 3자리까지 구하여라. 귀무가설과 대립가설중 0.05 유의수준에서 유의한 가설을 출력하라**\n",
    "```"
   ]
  },
  {
   "cell_type": "code",
   "execution_count": 76,
   "id": "4446807b",
   "metadata": {
    "ExecuteTime": {
     "end_time": "2021-06-12T06:35:32.658486Z",
     "start_time": "2021-06-12T06:35:32.655863Z"
    },
    "tags": [
     "hide-input"
    ]
   },
   "outputs": [
    {
     "name": "stdout",
     "output_type": "stream",
     "text": [
      "0.038\n",
      "대립\n"
     ]
    }
   ],
   "source": [
    "round_p = round(p,3)\n",
    "print(round_p)\n",
    "print('대립')"
   ]
  }
 ],
 "metadata": {
  "celltoolbar": "Edit Metadata",
  "kernelspec": {
   "display_name": "Python 3 (ipykernel)",
   "language": "python",
   "name": "python3"
  },
  "language_info": {
   "codemirror_mode": {
    "name": "ipython",
    "version": 3
   },
   "file_extension": ".py",
   "mimetype": "text/x-python",
   "name": "python",
   "nbconvert_exporter": "python",
   "pygments_lexer": "ipython3",
   "version": "3.8.16"
  }
 },
 "nbformat": 4,
 "nbformat_minor": 5
}
