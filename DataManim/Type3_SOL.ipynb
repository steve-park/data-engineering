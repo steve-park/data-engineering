{
 "cells": [
  {
   "cell_type": "markdown",
   "id": "09f6a298",
   "metadata": {},
   "source": [
    "# 1.5 작업 3유형 (파이썬)"
   ]
  },
  {
   "cell_type": "markdown",
   "id": "80a63c7b",
   "metadata": {},
   "source": [
    "[![Hits](https://hits.seeyoufarm.com/api/count/incr/badge.svg?url=https%3A%2F%2Fwww.datamanim.com%2Fdataset%2F03_dataq%2Ftypethree.html&count_bg=%238921C0&title_bg=%23555555&icon=&icon_color=%23E7E7E7&title=hits&edge_flat=false)](https://hits.seeyoufarm.com)"
   ]
  },
  {
   "cell_type": "markdown",
   "id": "7012e73b",
   "metadata": {},
   "source": [
    "### 업데이트 작업중 입니다. 우선 아래 링크에 존재하는 문제들 부터 풀어보셔유\n",
    "https://www.datamanim.com/dataset/97_scipy/scipy.html"
   ]
  },
  {
   "cell_type": "markdown",
   "id": "13041b66",
   "metadata": {},
   "source": [
    "## t- 검정"
   ]
  },
  {
   "cell_type": "markdown",
   "id": "649f8df1",
   "metadata": {},
   "source": [
    "### 일표본 t-검정"
   ]
  },
  {
   "cell_type": "markdown",
   "id": "6a9e2c0e",
   "metadata": {},
   "source": [
    "### 대응표본 t-검정"
   ]
  },
  {
   "cell_type": "markdown",
   "id": "78a891d6",
   "metadata": {},
   "source": [
    "### 독립표본 t-검정"
   ]
  },
  {
   "cell_type": "markdown",
   "id": "1ce7789b",
   "metadata": {},
   "source": [
    "## 정규성 검정"
   ]
  },
  {
   "cell_type": "markdown",
   "id": "d439bae6",
   "metadata": {},
   "source": [
    "## 등분산 검정"
   ]
  },
  {
   "cell_type": "markdown",
   "id": "0599e769",
   "metadata": {},
   "source": [
    "## 분산분석"
   ]
  },
  {
   "cell_type": "markdown",
   "id": "3b8dfbde",
   "metadata": {},
   "source": [
    "### One-way ANOVA"
   ]
  },
  {
   "cell_type": "markdown",
   "id": "74f23201",
   "metadata": {},
   "source": [
    "### Two-way ANOVA"
   ]
  },
  {
   "cell_type": "markdown",
   "id": "c0a17ed1",
   "metadata": {},
   "source": [
    "## 카이제곱 검정"
   ]
  },
  {
   "cell_type": "markdown",
   "id": "c93b0d7e",
   "metadata": {},
   "source": [
    "### 독립성 검정"
   ]
  },
  {
   "cell_type": "markdown",
   "id": "3b0e84c7",
   "metadata": {},
   "source": [
    "### 동질성 검정"
   ]
  },
  {
   "cell_type": "markdown",
   "id": "4cfa91cb",
   "metadata": {},
   "source": [
    "### 적합성 검정"
   ]
  },
  {
   "cell_type": "markdown",
   "id": "d19bdcd4",
   "metadata": {},
   "source": [
    "## 순위검정"
   ]
  },
  {
   "cell_type": "markdown",
   "id": "97957daf",
   "metadata": {},
   "source": [
    "### 윌콕슨 순위합 검정"
   ]
  },
  {
   "cell_type": "markdown",
   "id": "ac90fa15",
   "metadata": {},
   "source": [
    "### 크루스칼 - 왈리스 검정 "
   ]
  },
  {
   "cell_type": "markdown",
   "id": "5ff61041",
   "metadata": {},
   "source": [
    "## 부호검정"
   ]
  },
  {
   "cell_type": "markdown",
   "id": "2bd0e33a",
   "metadata": {},
   "source": [
    "### 부호검정"
   ]
  },
  {
   "cell_type": "markdown",
   "id": "1b5dcd0b",
   "metadata": {},
   "source": [
    "### 맥네마 검정"
   ]
  },
  {
   "cell_type": "markdown",
   "id": "0d3a7bd2",
   "metadata": {},
   "source": [
    "## 다변량 추론"
   ]
  },
  {
   "cell_type": "markdown",
   "id": "ddbd4031",
   "metadata": {},
   "source": [
    "### 다중 회귀 분석"
   ]
  }
 ],
 "metadata": {
  "celltoolbar": "Edit Metadata",
  "kernelspec": {
   "display_name": "Python 3 (ipykernel)",
   "language": "python",
   "name": "python3"
  },
  "language_info": {
   "codemirror_mode": {
    "name": "ipython",
    "version": 3
   },
   "file_extension": ".py",
   "mimetype": "text/x-python",
   "name": "python",
   "nbconvert_exporter": "python",
   "pygments_lexer": "ipython3",
   "version": "3.8.16"
  },
  "vscode": {
   "interpreter": {
    "hash": "082e9a3bcad0a290d0001e938aa60b99250c6c2ef33a923c00b70f9826caf4b7"
   }
  }
 },
 "nbformat": 4,
 "nbformat_minor": 5
}
