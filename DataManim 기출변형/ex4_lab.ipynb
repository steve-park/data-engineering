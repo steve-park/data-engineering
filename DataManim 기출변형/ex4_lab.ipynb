{
 "cells": [
  {
   "cell_type": "markdown",
   "id": "ba7bd9b8",
   "metadata": {},
   "source": [
    "# 4회 기출 변형"
   ]
  },
  {
   "cell_type": "markdown",
   "id": "2f3ad261",
   "metadata": {},
   "source": [
    "- 작업 3유형 통계 반영\n",
    "- 무료입니다,,, 광고 한번 눌러주세요.."
   ]
  },
  {
   "cell_type": "markdown",
   "id": "52bdbf8f",
   "metadata": {},
   "source": [
    "[![Hits](https://hits.seeyoufarm.com/api/count/incr/badge.svg?url=https://www.datamanim.com/dataset/practice/ex4.html&count_bg=%238921C0&title_bg=%23555555&icon=&icon_color=%23E7E7E7&title=hits&edge_flat=false)](https://hits.seeyoufarm.com)"
   ]
  },
  {
   "cell_type": "markdown",
   "id": "24e11c0d",
   "metadata": {},
   "source": [
    "# 작업 1유형"
   ]
  },
  {
   "cell_type": "markdown",
   "id": "92ef4319",
   "metadata": {},
   "source": [
    "```{attention} \n",
    "**DataUrl = https://raw.githubusercontent.com/Datamanim/datarepo/main/krdatacertificate/e4_p1_1.csv**\n",
    "월마트 판매량 데이터 : https://www.kaggle.com/datasets/asahu40/walmart-data-analysis-and-forcasting\n",
    "```"
   ]
  },
  {
   "cell_type": "code",
   "execution_count": 7,
   "id": "581bcfca-0225-44a7-b43b-bc9ca2a2745d",
   "metadata": {
    "tags": []
   },
   "outputs": [],
   "source": [
    "import pandas as pd\n",
    "\n",
    "pd.options.display.max_rows = 2000\n",
    "pd.options.display.max_columns = 25\n",
    "pd.options.display.float_format = '{:,.4f}'.format"
   ]
  },
  {
   "cell_type": "code",
   "execution_count": 8,
   "id": "75abd20d-3875-4521-8fdb-fc3aa33668e1",
   "metadata": {
    "tags": []
   },
   "outputs": [
    {
     "data": {
      "text/html": [
       "<div>\n",
       "<style scoped>\n",
       "    .dataframe tbody tr th:only-of-type {\n",
       "        vertical-align: middle;\n",
       "    }\n",
       "\n",
       "    .dataframe tbody tr th {\n",
       "        vertical-align: top;\n",
       "    }\n",
       "\n",
       "    .dataframe thead th {\n",
       "        text-align: right;\n",
       "    }\n",
       "</style>\n",
       "<table border=\"1\" class=\"dataframe\">\n",
       "  <thead>\n",
       "    <tr style=\"text-align: right;\">\n",
       "      <th></th>\n",
       "      <th>Store</th>\n",
       "      <th>Date</th>\n",
       "      <th>Weekly_Sales</th>\n",
       "      <th>Holiday_Flag</th>\n",
       "      <th>Temperature</th>\n",
       "      <th>Fuel_Price</th>\n",
       "      <th>CPI</th>\n",
       "      <th>Unemployment</th>\n",
       "    </tr>\n",
       "  </thead>\n",
       "  <tbody>\n",
       "    <tr>\n",
       "      <th>0</th>\n",
       "      <td>1</td>\n",
       "      <td>05-02-2010</td>\n",
       "      <td>1,643,690.9000</td>\n",
       "      <td>0</td>\n",
       "      <td>42.31</td>\n",
       "      <td>2.5720</td>\n",
       "      <td>211.0964</td>\n",
       "      <td>8.1060</td>\n",
       "    </tr>\n",
       "    <tr>\n",
       "      <th>1</th>\n",
       "      <td>1</td>\n",
       "      <td>12-02-2010</td>\n",
       "      <td>1,641,957.4400</td>\n",
       "      <td>1</td>\n",
       "      <td>38.51</td>\n",
       "      <td>2.5480</td>\n",
       "      <td>211.2422</td>\n",
       "      <td>8.1060</td>\n",
       "    </tr>\n",
       "    <tr>\n",
       "      <th>2</th>\n",
       "      <td>1</td>\n",
       "      <td>19-02-2010</td>\n",
       "      <td>1,611,968.1700</td>\n",
       "      <td>0</td>\n",
       "      <td>39.93</td>\n",
       "      <td>2.5140</td>\n",
       "      <td>211.2891</td>\n",
       "      <td>8.1060</td>\n",
       "    </tr>\n",
       "    <tr>\n",
       "      <th>3</th>\n",
       "      <td>1</td>\n",
       "      <td>26-02-2010</td>\n",
       "      <td>1,409,727.5900</td>\n",
       "      <td>0</td>\n",
       "      <td>46.63</td>\n",
       "      <td>2.5610</td>\n",
       "      <td>211.3196</td>\n",
       "      <td>8.1060</td>\n",
       "    </tr>\n",
       "    <tr>\n",
       "      <th>4</th>\n",
       "      <td>1</td>\n",
       "      <td>05-03-2010</td>\n",
       "      <td>1,554,806.6800</td>\n",
       "      <td>0</td>\n",
       "      <td>46.5</td>\n",
       "      <td>2.6250</td>\n",
       "      <td>211.3501</td>\n",
       "      <td>8.1060</td>\n",
       "    </tr>\n",
       "  </tbody>\n",
       "</table>\n",
       "</div>"
      ],
      "text/plain": [
       "   Store        Date   Weekly_Sales  Holiday_Flag Temperature  Fuel_Price  \\\n",
       "0      1  05-02-2010 1,643,690.9000             0       42.31      2.5720   \n",
       "1      1  12-02-2010 1,641,957.4400             1       38.51      2.5480   \n",
       "2      1  19-02-2010 1,611,968.1700             0       39.93      2.5140   \n",
       "3      1  26-02-2010 1,409,727.5900             0       46.63      2.5610   \n",
       "4      1  05-03-2010 1,554,806.6800             0        46.5      2.6250   \n",
       "\n",
       "       CPI  Unemployment  \n",
       "0 211.0964        8.1060  \n",
       "1 211.2422        8.1060  \n",
       "2 211.2891        8.1060  \n",
       "3 211.3196        8.1060  \n",
       "4 211.3501        8.1060  "
      ]
     },
     "execution_count": 8,
     "metadata": {},
     "output_type": "execute_result"
    }
   ],
   "source": [
    "import pandas as pd\n",
    "\n",
    "df = pd.read_csv('https://raw.githubusercontent.com/Datamanim/datarepo/main/krdatacertificate/e4_p1_1.csv')\n",
    "df.head()"
   ]
  },
  {
   "cell_type": "code",
   "execution_count": 9,
   "id": "50cbc44f-8b72-4fbb-b5b1-d84827feb0d9",
   "metadata": {
    "tags": []
   },
   "outputs": [
    {
     "name": "stdout",
     "output_type": "stream",
     "text": [
      "<class 'pandas.core.frame.DataFrame'>\n",
      "RangeIndex: 6435 entries, 0 to 6434\n",
      "Data columns (total 8 columns):\n",
      " #   Column        Non-Null Count  Dtype  \n",
      "---  ------        --------------  -----  \n",
      " 0   Store         6435 non-null   int64  \n",
      " 1   Date          6435 non-null   object \n",
      " 2   Weekly_Sales  6435 non-null   float64\n",
      " 3   Holiday_Flag  6435 non-null   int64  \n",
      " 4   Temperature   6435 non-null   object \n",
      " 5   Fuel_Price    6435 non-null   float64\n",
      " 6   CPI           6435 non-null   float64\n",
      " 7   Unemployment  6435 non-null   float64\n",
      "dtypes: float64(4), int64(2), object(2)\n",
      "memory usage: 402.3+ KB\n"
     ]
    }
   ],
   "source": [
    "df.info()"
   ]
  },
  {
   "cell_type": "markdown",
   "id": "8d6cbfa2",
   "metadata": {},
   "source": [
    "```{admonition} 1-1\n",
    "**Temperature컬럼에서 숫자가 아닌 문자들을 제거후 숫자 타입으로 바꾸고 3분위수에서 1분위수의 차이를 소숫점 이하 2자리까지 구하여라**\n",
    "```"
   ]
  },
  {
   "cell_type": "code",
   "execution_count": 15,
   "id": "cf5c1ccd-222e-4c50-a069-064c00583d97",
   "metadata": {
    "tags": []
   },
   "outputs": [
    {
     "name": "stdout",
     "output_type": "stream",
     "text": [
      "27.48\n"
     ]
    }
   ],
   "source": [
    "q1, q3 = df['Temperature'].replace(r'\\*', '', regex=True).astype('float').quantile([0.25, 0.75])\n",
    "print(f'{q3 - q1:.2f}')"
   ]
  },
  {
   "cell_type": "markdown",
   "id": "d94fded2-5598-448b-99d9-eebaa22ad816",
   "metadata": {
    "ExecuteTime": {
     "end_time": "2021-06-12T06:35:32.658486Z",
     "start_time": "2021-06-12T06:35:32.655863Z"
    },
    "tags": [
     "hide-input"
    ]
   },
   "source": [
    "27.48"
   ]
  },
  {
   "cell_type": "markdown",
   "id": "0a4c0308",
   "metadata": {},
   "source": [
    "```{attention} \n",
    "**DataUrl = https://raw.githubusercontent.com/Datamanim/datarepo/main/krdatacertificate/e4_p1_2.csv**\n",
    "유튜브 영상 통계량 : https://www.kaggle.com/datasets/advaypatil/youtube-statistics?select=videos-stats.csv\n",
    "```"
   ]
  },
  {
   "cell_type": "code",
   "execution_count": 16,
   "id": "fd58b467",
   "metadata": {
    "tags": []
   },
   "outputs": [
    {
     "data": {
      "text/html": [
       "<div>\n",
       "<style scoped>\n",
       "    .dataframe tbody tr th:only-of-type {\n",
       "        vertical-align: middle;\n",
       "    }\n",
       "\n",
       "    .dataframe tbody tr th {\n",
       "        vertical-align: top;\n",
       "    }\n",
       "\n",
       "    .dataframe thead th {\n",
       "        text-align: right;\n",
       "    }\n",
       "</style>\n",
       "<table border=\"1\" class=\"dataframe\">\n",
       "  <thead>\n",
       "    <tr style=\"text-align: right;\">\n",
       "      <th></th>\n",
       "      <th>Title</th>\n",
       "      <th>Video ID</th>\n",
       "      <th>Published At</th>\n",
       "      <th>Keyword</th>\n",
       "      <th>Likes</th>\n",
       "      <th>Comments</th>\n",
       "      <th>Views</th>\n",
       "    </tr>\n",
       "  </thead>\n",
       "  <tbody>\n",
       "    <tr>\n",
       "      <th>0</th>\n",
       "      <td>Apple Pay Is Killing the Physical Wallet After...</td>\n",
       "      <td>wAZZ-UWGVHI</td>\n",
       "      <td>2022-08-23</td>\n",
       "      <td>tech</td>\n",
       "      <td>3,407.0000</td>\n",
       "      <td>672.0000</td>\n",
       "      <td>135,612.0000</td>\n",
       "    </tr>\n",
       "    <tr>\n",
       "      <th>1</th>\n",
       "      <td>The most EXPENSIVE thing I own.</td>\n",
       "      <td>b3x28s61q3c</td>\n",
       "      <td>2022-08-24</td>\n",
       "      <td>tech</td>\n",
       "      <td>76,779.0000</td>\n",
       "      <td>4,306.0000</td>\n",
       "      <td>1,758,063.0000</td>\n",
       "    </tr>\n",
       "    <tr>\n",
       "      <th>2</th>\n",
       "      <td>My New House Gaming Setup is SICK!</td>\n",
       "      <td>4mgePWWCAmA</td>\n",
       "      <td>2022-08-23</td>\n",
       "      <td>tech</td>\n",
       "      <td>63,825.0000</td>\n",
       "      <td>3,338.0000</td>\n",
       "      <td>1,564,007.0000</td>\n",
       "    </tr>\n",
       "    <tr>\n",
       "      <th>3</th>\n",
       "      <td>Petrol Vs Liquid Nitrogen | Freezing Experimen...</td>\n",
       "      <td>kXiYSI7H2b0</td>\n",
       "      <td>2022-08-23</td>\n",
       "      <td>tech</td>\n",
       "      <td>71,566.0000</td>\n",
       "      <td>1,426.0000</td>\n",
       "      <td>922,918.0000</td>\n",
       "    </tr>\n",
       "    <tr>\n",
       "      <th>4</th>\n",
       "      <td>Best Back to School Tech 2022!</td>\n",
       "      <td>ErMwWXQxHp0</td>\n",
       "      <td>2022-08-08</td>\n",
       "      <td>tech</td>\n",
       "      <td>96,513.0000</td>\n",
       "      <td>5,155.0000</td>\n",
       "      <td>1,855,644.0000</td>\n",
       "    </tr>\n",
       "  </tbody>\n",
       "</table>\n",
       "</div>"
      ],
      "text/plain": [
       "                                               Title     Video ID  \\\n",
       "0  Apple Pay Is Killing the Physical Wallet After...  wAZZ-UWGVHI   \n",
       "1                    The most EXPENSIVE thing I own.  b3x28s61q3c   \n",
       "2                 My New House Gaming Setup is SICK!  4mgePWWCAmA   \n",
       "3  Petrol Vs Liquid Nitrogen | Freezing Experimen...  kXiYSI7H2b0   \n",
       "4                     Best Back to School Tech 2022!  ErMwWXQxHp0   \n",
       "\n",
       "  Published At Keyword       Likes   Comments          Views  \n",
       "0   2022-08-23    tech  3,407.0000   672.0000   135,612.0000  \n",
       "1   2022-08-24    tech 76,779.0000 4,306.0000 1,758,063.0000  \n",
       "2   2022-08-23    tech 63,825.0000 3,338.0000 1,564,007.0000  \n",
       "3   2022-08-23    tech 71,566.0000 1,426.0000   922,918.0000  \n",
       "4   2022-08-08    tech 96,513.0000 5,155.0000 1,855,644.0000  "
      ]
     },
     "execution_count": 16,
     "metadata": {},
     "output_type": "execute_result"
    }
   ],
   "source": [
    "df = pd.read_csv('https://raw.githubusercontent.com/Datamanim/datarepo/main/krdatacertificate/e4_p1_2.csv')\n",
    "df.head()"
   ]
  },
  {
   "cell_type": "code",
   "execution_count": 17,
   "id": "4ee3937d-924c-4a29-82e5-260721ccaa0f",
   "metadata": {
    "tags": []
   },
   "outputs": [
    {
     "name": "stdout",
     "output_type": "stream",
     "text": [
      "<class 'pandas.core.frame.DataFrame'>\n",
      "RangeIndex: 1881 entries, 0 to 1880\n",
      "Data columns (total 7 columns):\n",
      " #   Column        Non-Null Count  Dtype  \n",
      "---  ------        --------------  -----  \n",
      " 0   Title         1881 non-null   object \n",
      " 1   Video ID      1881 non-null   object \n",
      " 2   Published At  1881 non-null   object \n",
      " 3   Keyword       1881 non-null   object \n",
      " 4   Likes         1879 non-null   float64\n",
      " 5   Comments      1879 non-null   float64\n",
      " 6   Views         1879 non-null   float64\n",
      "dtypes: float64(3), object(4)\n",
      "memory usage: 103.0+ KB\n"
     ]
    }
   ],
   "source": [
    "df.info()"
   ]
  },
  {
   "cell_type": "markdown",
   "id": "ee1d4b88",
   "metadata": {},
   "source": [
    "```{admonition} 1-2\n",
    "**Likes를 Comments로 나눈 비율이 20이상이면서 Keyword값이 minecraft인 영상들의 Views값의 평균을 정수로 구하여라**\n",
    "```"
   ]
  },
  {
   "cell_type": "code",
   "execution_count": 20,
   "id": "cb50196a-b591-4d3f-adb3-086e28bb2c16",
   "metadata": {
    "tags": []
   },
   "outputs": [
    {
     "name": "stdout",
     "output_type": "stream",
     "text": [
      "1789084\n"
     ]
    }
   ],
   "source": [
    "result = int(df.loc[((df['Likes'] / df['Comments']) >= 20) & (df['Keyword'] == 'minecraft'), 'Views'].mean())\n",
    "print(result)"
   ]
  },
  {
   "cell_type": "markdown",
   "id": "6e5acd2f-9598-4e48-8e02-0d2ba0e3c9b3",
   "metadata": {
    "ExecuteTime": {
     "end_time": "2021-06-12T06:35:32.658486Z",
     "start_time": "2021-06-12T06:35:32.655863Z"
    },
    "tags": [
     "hide-input"
    ]
   },
   "source": [
    "1789084"
   ]
  },
  {
   "cell_type": "markdown",
   "id": "a18d6ed1",
   "metadata": {},
   "source": [
    "```{attention} \n",
    "**DataUrl = https://raw.githubusercontent.com/Datamanim/datarepo/main/krdatacertificate/e4_p1_3.csv**\n",
    "넷플릭스 영상 메타정보 : https://www.kaggle.com/datasets/akashguna/netflix-prize-shows-information\n",
    "```"
   ]
  },
  {
   "cell_type": "code",
   "execution_count": 21,
   "id": "c00d0be0",
   "metadata": {
    "tags": []
   },
   "outputs": [
    {
     "data": {
      "text/html": [
       "<div>\n",
       "<style scoped>\n",
       "    .dataframe tbody tr th:only-of-type {\n",
       "        vertical-align: middle;\n",
       "    }\n",
       "\n",
       "    .dataframe tbody tr th {\n",
       "        vertical-align: top;\n",
       "    }\n",
       "\n",
       "    .dataframe thead th {\n",
       "        text-align: right;\n",
       "    }\n",
       "</style>\n",
       "<table border=\"1\" class=\"dataframe\">\n",
       "  <thead>\n",
       "    <tr style=\"text-align: right;\">\n",
       "      <th></th>\n",
       "      <th>show_id</th>\n",
       "      <th>type</th>\n",
       "      <th>title</th>\n",
       "      <th>director</th>\n",
       "      <th>cast</th>\n",
       "      <th>country</th>\n",
       "      <th>date_added</th>\n",
       "      <th>release_year</th>\n",
       "      <th>rating</th>\n",
       "      <th>duration</th>\n",
       "      <th>listed_in</th>\n",
       "      <th>description</th>\n",
       "    </tr>\n",
       "  </thead>\n",
       "  <tbody>\n",
       "    <tr>\n",
       "      <th>0</th>\n",
       "      <td>s1</td>\n",
       "      <td>Movie</td>\n",
       "      <td>Dick Johnson Is Dead</td>\n",
       "      <td>Kirsten Johnson</td>\n",
       "      <td>NaN</td>\n",
       "      <td>United States</td>\n",
       "      <td>September 25, 2021</td>\n",
       "      <td>2020</td>\n",
       "      <td>PG-13</td>\n",
       "      <td>90 min</td>\n",
       "      <td>Documentaries</td>\n",
       "      <td>As her father nears the end of his life, filmm...</td>\n",
       "    </tr>\n",
       "    <tr>\n",
       "      <th>1</th>\n",
       "      <td>s2</td>\n",
       "      <td>TV Show</td>\n",
       "      <td>Blood &amp; Water</td>\n",
       "      <td>NaN</td>\n",
       "      <td>Ama Qamata, Khosi Ngema, Gail Mabalane, Thaban...</td>\n",
       "      <td>South Africa</td>\n",
       "      <td>September 24, 2021</td>\n",
       "      <td>2021</td>\n",
       "      <td>TV-MA</td>\n",
       "      <td>2 Seasons</td>\n",
       "      <td>International TV Shows, TV Dramas, TV Mysteries</td>\n",
       "      <td>After crossing paths at a party, a Cape Town t...</td>\n",
       "    </tr>\n",
       "    <tr>\n",
       "      <th>2</th>\n",
       "      <td>s3</td>\n",
       "      <td>TV Show</td>\n",
       "      <td>Ganglands</td>\n",
       "      <td>Julien Leclercq</td>\n",
       "      <td>Sami Bouajila, Tracy Gotoas, Samuel Jouy, Nabi...</td>\n",
       "      <td>NaN</td>\n",
       "      <td>September 24, 2021</td>\n",
       "      <td>2021</td>\n",
       "      <td>TV-MA</td>\n",
       "      <td>1 Season</td>\n",
       "      <td>Crime TV Shows, International TV Shows, TV Act...</td>\n",
       "      <td>To protect his family from a powerful drug lor...</td>\n",
       "    </tr>\n",
       "    <tr>\n",
       "      <th>3</th>\n",
       "      <td>s4</td>\n",
       "      <td>TV Show</td>\n",
       "      <td>Jailbirds New Orleans</td>\n",
       "      <td>NaN</td>\n",
       "      <td>NaN</td>\n",
       "      <td>NaN</td>\n",
       "      <td>September 24, 2021</td>\n",
       "      <td>2021</td>\n",
       "      <td>TV-MA</td>\n",
       "      <td>1 Season</td>\n",
       "      <td>Docuseries, Reality TV</td>\n",
       "      <td>Feuds, flirtations and toilet talk go down amo...</td>\n",
       "    </tr>\n",
       "    <tr>\n",
       "      <th>4</th>\n",
       "      <td>s5</td>\n",
       "      <td>TV Show</td>\n",
       "      <td>Kota Factory</td>\n",
       "      <td>NaN</td>\n",
       "      <td>Mayur More, Jitendra Kumar, Ranjan Raj, Alam K...</td>\n",
       "      <td>India</td>\n",
       "      <td>September 24, 2021</td>\n",
       "      <td>2021</td>\n",
       "      <td>TV-MA</td>\n",
       "      <td>2 Seasons</td>\n",
       "      <td>International TV Shows, Romantic TV Shows, TV ...</td>\n",
       "      <td>In a city of coaching centers known to train I...</td>\n",
       "    </tr>\n",
       "  </tbody>\n",
       "</table>\n",
       "</div>"
      ],
      "text/plain": [
       "  show_id     type                  title         director  \\\n",
       "0      s1    Movie   Dick Johnson Is Dead  Kirsten Johnson   \n",
       "1      s2  TV Show          Blood & Water              NaN   \n",
       "2      s3  TV Show              Ganglands  Julien Leclercq   \n",
       "3      s4  TV Show  Jailbirds New Orleans              NaN   \n",
       "4      s5  TV Show           Kota Factory              NaN   \n",
       "\n",
       "                                                cast        country  \\\n",
       "0                                                NaN  United States   \n",
       "1  Ama Qamata, Khosi Ngema, Gail Mabalane, Thaban...   South Africa   \n",
       "2  Sami Bouajila, Tracy Gotoas, Samuel Jouy, Nabi...            NaN   \n",
       "3                                                NaN            NaN   \n",
       "4  Mayur More, Jitendra Kumar, Ranjan Raj, Alam K...          India   \n",
       "\n",
       "           date_added  release_year rating   duration  \\\n",
       "0  September 25, 2021          2020  PG-13     90 min   \n",
       "1  September 24, 2021          2021  TV-MA  2 Seasons   \n",
       "2  September 24, 2021          2021  TV-MA   1 Season   \n",
       "3  September 24, 2021          2021  TV-MA   1 Season   \n",
       "4  September 24, 2021          2021  TV-MA  2 Seasons   \n",
       "\n",
       "                                           listed_in  \\\n",
       "0                                      Documentaries   \n",
       "1    International TV Shows, TV Dramas, TV Mysteries   \n",
       "2  Crime TV Shows, International TV Shows, TV Act...   \n",
       "3                             Docuseries, Reality TV   \n",
       "4  International TV Shows, Romantic TV Shows, TV ...   \n",
       "\n",
       "                                         description  \n",
       "0  As her father nears the end of his life, filmm...  \n",
       "1  After crossing paths at a party, a Cape Town t...  \n",
       "2  To protect his family from a powerful drug lor...  \n",
       "3  Feuds, flirtations and toilet talk go down amo...  \n",
       "4  In a city of coaching centers known to train I...  "
      ]
     },
     "execution_count": 21,
     "metadata": {},
     "output_type": "execute_result"
    }
   ],
   "source": [
    "df = pd.read_csv('https://raw.githubusercontent.com/Datamanim/datarepo/main/krdatacertificate/e4_p1_3.csv')\n",
    "df.head()"
   ]
  },
  {
   "cell_type": "code",
   "execution_count": 22,
   "id": "709ffe3c-fe0f-44dc-bd67-97dd811f67e3",
   "metadata": {
    "tags": []
   },
   "outputs": [
    {
     "name": "stdout",
     "output_type": "stream",
     "text": [
      "<class 'pandas.core.frame.DataFrame'>\n",
      "RangeIndex: 8807 entries, 0 to 8806\n",
      "Data columns (total 12 columns):\n",
      " #   Column        Non-Null Count  Dtype \n",
      "---  ------        --------------  ----- \n",
      " 0   show_id       8807 non-null   object\n",
      " 1   type          8807 non-null   object\n",
      " 2   title         8807 non-null   object\n",
      " 3   director      6173 non-null   object\n",
      " 4   cast          7982 non-null   object\n",
      " 5   country       7976 non-null   object\n",
      " 6   date_added    8797 non-null   object\n",
      " 7   release_year  8807 non-null   int64 \n",
      " 8   rating        8803 non-null   object\n",
      " 9   duration      8804 non-null   object\n",
      " 10  listed_in     8807 non-null   object\n",
      " 11  description   8807 non-null   object\n",
      "dtypes: int64(1), object(11)\n",
      "memory usage: 825.8+ KB\n"
     ]
    }
   ],
   "source": [
    "df.info()"
   ]
  },
  {
   "cell_type": "markdown",
   "id": "8a302c35",
   "metadata": {},
   "source": [
    "```{admonition} 1-3\n",
    "**date_added가 2018년 1월 이면서 country가 United Kingdom 단독 제작인 데이터의 갯수**\n",
    "```"
   ]
  },
  {
   "cell_type": "code",
   "execution_count": 45,
   "id": "14e367cd-ed00-49a9-bee8-a0440bb1cef2",
   "metadata": {
    "tags": []
   },
   "outputs": [
    {
     "data": {
      "text/plain": [
       "6"
      ]
     },
     "execution_count": 45,
     "metadata": {},
     "output_type": "execute_result"
    }
   ],
   "source": [
    "len(df[(pd.to_datetime(df['date_added']).dt.year == 2018) & (pd.to_datetime(df['date_added']).dt.month == 1) & (~(df['country'].fillna('').str.contains(','))) & (df['country'].str.lower() == 'united kingdom')])"
   ]
  },
  {
   "cell_type": "markdown",
   "id": "966ba4a4-531f-46f7-a661-0df1005ae115",
   "metadata": {
    "ExecuteTime": {
     "end_time": "2021-06-12T06:35:32.658486Z",
     "start_time": "2021-06-12T06:35:32.655863Z"
    },
    "tags": [
     "hide-input"
    ]
   },
   "source": [
    "6"
   ]
  },
  {
   "cell_type": "markdown",
   "id": "d4cb653c",
   "metadata": {},
   "source": [
    "# 작업 2유형"
   ]
  },
  {
   "cell_type": "markdown",
   "id": "0b9a5bc1",
   "metadata": {},
   "source": [
    "```{attention} \n",
    "유저 분류 : https://www.kaggle.com/datasets/kaushiksuresh147/customer-segmentation\n",
    "**train = https://raw.githubusercontent.com/Datamanim/datarepo/main/krdatacertificate/e4_p2_train.csv**\n",
    "**test = https://raw.githubusercontent.com/Datamanim/datarepo/main/krdatacertificate/e4_p2_test.csv**\n",
    "\n",
    "예측 변수 Segmentation, test.csv에 대해 ID별로 Segmentation의 클래스를 예측해서 저장후 제출, 제출 데이터 컬럼은 ID와 Segmentation 두개만 존재해야함. 평가지표는 macro f1 score\n",
    "```"
   ]
  },
  {
   "cell_type": "code",
   "execution_count": 56,
   "id": "a00bce0c-27bb-4479-8a79-8651db951ab6",
   "metadata": {
    "tags": []
   },
   "outputs": [
    {
     "data": {
      "text/html": [
       "<div>\n",
       "<style scoped>\n",
       "    .dataframe tbody tr th:only-of-type {\n",
       "        vertical-align: middle;\n",
       "    }\n",
       "\n",
       "    .dataframe tbody tr th {\n",
       "        vertical-align: top;\n",
       "    }\n",
       "\n",
       "    .dataframe thead th {\n",
       "        text-align: right;\n",
       "    }\n",
       "</style>\n",
       "<table border=\"1\" class=\"dataframe\">\n",
       "  <thead>\n",
       "    <tr style=\"text-align: right;\">\n",
       "      <th></th>\n",
       "      <th>ID</th>\n",
       "      <th>Gender</th>\n",
       "      <th>Ever_Married</th>\n",
       "      <th>Age</th>\n",
       "      <th>Graduated</th>\n",
       "      <th>Profession</th>\n",
       "      <th>Work_Experience</th>\n",
       "      <th>Spending_Score</th>\n",
       "      <th>Family_Size</th>\n",
       "      <th>Var_1</th>\n",
       "    </tr>\n",
       "  </thead>\n",
       "  <tbody>\n",
       "    <tr>\n",
       "      <th>0</th>\n",
       "      <td>464357</td>\n",
       "      <td>Male</td>\n",
       "      <td>No</td>\n",
       "      <td>40</td>\n",
       "      <td>Yes</td>\n",
       "      <td>Artist</td>\n",
       "      <td>7.0000</td>\n",
       "      <td>Low</td>\n",
       "      <td>1.0000</td>\n",
       "      <td>Cat_6</td>\n",
       "    </tr>\n",
       "    <tr>\n",
       "      <th>1</th>\n",
       "      <td>459624</td>\n",
       "      <td>Male</td>\n",
       "      <td>No</td>\n",
       "      <td>18</td>\n",
       "      <td>No</td>\n",
       "      <td>Healthcare</td>\n",
       "      <td>NaN</td>\n",
       "      <td>Low</td>\n",
       "      <td>5.0000</td>\n",
       "      <td>Cat_4</td>\n",
       "    </tr>\n",
       "    <tr>\n",
       "      <th>2</th>\n",
       "      <td>462672</td>\n",
       "      <td>Male</td>\n",
       "      <td>No</td>\n",
       "      <td>25</td>\n",
       "      <td>No</td>\n",
       "      <td>Healthcare</td>\n",
       "      <td>7.0000</td>\n",
       "      <td>Low</td>\n",
       "      <td>4.0000</td>\n",
       "      <td>Cat_4</td>\n",
       "    </tr>\n",
       "    <tr>\n",
       "      <th>3</th>\n",
       "      <td>463360</td>\n",
       "      <td>Female</td>\n",
       "      <td>Yes</td>\n",
       "      <td>46</td>\n",
       "      <td>Yes</td>\n",
       "      <td>Artist</td>\n",
       "      <td>2.0000</td>\n",
       "      <td>Low</td>\n",
       "      <td>1.0000</td>\n",
       "      <td>Cat_6</td>\n",
       "    </tr>\n",
       "    <tr>\n",
       "      <th>4</th>\n",
       "      <td>462420</td>\n",
       "      <td>Male</td>\n",
       "      <td>No</td>\n",
       "      <td>27</td>\n",
       "      <td>Yes</td>\n",
       "      <td>Healthcare</td>\n",
       "      <td>1.0000</td>\n",
       "      <td>Low</td>\n",
       "      <td>3.0000</td>\n",
       "      <td>Cat_6</td>\n",
       "    </tr>\n",
       "  </tbody>\n",
       "</table>\n",
       "</div>"
      ],
      "text/plain": [
       "       ID  Gender Ever_Married  Age Graduated  Profession  Work_Experience  \\\n",
       "0  464357    Male           No   40       Yes      Artist           7.0000   \n",
       "1  459624    Male           No   18        No  Healthcare              NaN   \n",
       "2  462672    Male           No   25        No  Healthcare           7.0000   \n",
       "3  463360  Female          Yes   46       Yes      Artist           2.0000   \n",
       "4  462420    Male           No   27       Yes  Healthcare           1.0000   \n",
       "\n",
       "  Spending_Score  Family_Size  Var_1  \n",
       "0            Low       1.0000  Cat_6  \n",
       "1            Low       5.0000  Cat_4  \n",
       "2            Low       4.0000  Cat_4  \n",
       "3            Low       1.0000  Cat_6  \n",
       "4            Low       3.0000  Cat_6  "
      ]
     },
     "metadata": {},
     "output_type": "display_data"
    },
    {
     "data": {
      "text/html": [
       "<div>\n",
       "<style scoped>\n",
       "    .dataframe tbody tr th:only-of-type {\n",
       "        vertical-align: middle;\n",
       "    }\n",
       "\n",
       "    .dataframe tbody tr th {\n",
       "        vertical-align: top;\n",
       "    }\n",
       "\n",
       "    .dataframe thead th {\n",
       "        text-align: right;\n",
       "    }\n",
       "</style>\n",
       "<table border=\"1\" class=\"dataframe\">\n",
       "  <thead>\n",
       "    <tr style=\"text-align: right;\">\n",
       "      <th></th>\n",
       "      <th>ID</th>\n",
       "      <th>Segmentation</th>\n",
       "    </tr>\n",
       "  </thead>\n",
       "  <tbody>\n",
       "    <tr>\n",
       "      <th>0</th>\n",
       "      <td>464357</td>\n",
       "      <td>A</td>\n",
       "    </tr>\n",
       "    <tr>\n",
       "      <th>1</th>\n",
       "      <td>459624</td>\n",
       "      <td>D</td>\n",
       "    </tr>\n",
       "    <tr>\n",
       "      <th>2</th>\n",
       "      <td>462672</td>\n",
       "      <td>D</td>\n",
       "    </tr>\n",
       "    <tr>\n",
       "      <th>3</th>\n",
       "      <td>463360</td>\n",
       "      <td>B</td>\n",
       "    </tr>\n",
       "    <tr>\n",
       "      <th>4</th>\n",
       "      <td>462420</td>\n",
       "      <td>C</td>\n",
       "    </tr>\n",
       "  </tbody>\n",
       "</table>\n",
       "</div>"
      ],
      "text/plain": [
       "       ID Segmentation\n",
       "0  464357            A\n",
       "1  459624            D\n",
       "2  462672            D\n",
       "3  463360            B\n",
       "4  462420            C"
      ]
     },
     "metadata": {},
     "output_type": "display_data"
    }
   ],
   "source": [
    "import pandas as pd\n",
    "\n",
    "x_train = pd.read_csv('https://raw.githubusercontent.com/Datamanim/datarepo/main/krdatacertificate/e4_p2_train.csv')\n",
    "x_test = pd.read_csv('https://raw.githubusercontent.com/Datamanim/datarepo/main/krdatacertificate/e4_p2_test.csv')\n",
    "\n",
    "Y = x_train[['ID', 'Segmentation']]\n",
    "X = x_train.drop(columns = ['Segmentation'])\n",
    "X_submission = x_test.copy()\n",
    "\n",
    "display(X.head())\n",
    "display(Y.head())"
   ]
  },
  {
   "cell_type": "code",
   "execution_count": 131,
   "id": "4de95396-3fb9-4100-be9c-5e49fbba0c44",
   "metadata": {
    "tags": []
   },
   "outputs": [],
   "source": [
    "import pandas as pd\n",
    "\n",
    "from sklearn.linear_model import LogisticRegression\n",
    "from sklearn.neighbors import KNeighborsClassifier\n",
    "from sklearn.tree import DecisionTreeClassifier\n",
    "from sklearn.ensemble import RandomForestClassifier\n",
    "from xgboost import XGBClassifier\n",
    "\n",
    "from sklearn.preprocessing import MinMaxScaler, StandardScaler, LabelEncoder\n",
    "from sklearn.model_selection import train_test_split, GridSearchCV\n",
    "from sklearn.metrics import f1_score, accuracy_score, precision_score, recall_score, roc_auc_score, confusion_matrix"
   ]
  },
  {
   "cell_type": "code",
   "execution_count": 47,
   "id": "52f97d7b-eb55-4025-9b4c-f7bc66e29659",
   "metadata": {
    "tags": []
   },
   "outputs": [],
   "source": [
    "pd.options.display.max_rows = 2000\n",
    "pd.options.display.max_columns = 25\n",
    "pd.options.display.float_format = '{:,.4f}'.format"
   ]
  },
  {
   "cell_type": "code",
   "execution_count": 50,
   "id": "17bbda6c-c8ba-4822-8e3b-89fb8e23d186",
   "metadata": {
    "tags": []
   },
   "outputs": [],
   "source": [
    "def get_model_score(model, xtrain, xtest, ytrain, ytest):\n",
    "    A1 = model.score(xtrain, ytrain)\n",
    "    A2 = model.score(xtest, ytest)\n",
    "    \n",
    "    ypred = model.predict(xtest)\n",
    "    B = f1_score(ytest, ypred, average='macro')\n",
    "    \n",
    "    return pd.Series([A1, A2, B], index='Train_Accuracy Test_Accuracy F1'.split())"
   ]
  },
  {
   "cell_type": "code",
   "execution_count": 115,
   "id": "432e492c-0b80-4da1-be51-f53dc4fa1f8a",
   "metadata": {
    "tags": []
   },
   "outputs": [],
   "source": [
    "def compare_model(xtrain, xtest, ytrain, ytest):\n",
    "    result = pd.DataFrame()\n",
    "    \n",
    "    model = LogisticRegression(max_iter=1000).fit(xtrain, ytrain)\n",
    "    result[f'{model.__class__.__name__}'] = get_model_score(model, xtrain, xtest, ytrain, ytest)\n",
    "    \n",
    "    model = KNeighborsClassifier().fit(xtrain, ytrain)\n",
    "    result[f'{model.__class__.__name__}'] = get_model_score(model, xtrain, xtest, ytrain, ytest)\n",
    "    \n",
    "    model = DecisionTreeClassifier(random_state=1111).fit(xtrain, ytrain)\n",
    "    result[f'{model.__class__.__name__}'] = get_model_score(model, xtrain, xtest, ytrain, ytest)\n",
    "    \n",
    "    model = RandomForestClassifier(random_state=1111).fit(xtrain, ytrain)\n",
    "    result[f'{model.__class__.__name__}'] = get_model_score(model, xtrain, xtest, ytrain, ytest)\n",
    "    \n",
    "    model = XGBClassifier().fit(xtrain, ytrain)\n",
    "    result[f'{model.__class__.__name__}'] = get_model_score(model, xtrain, xtest, ytrain, ytest)\n",
    "    \n",
    "    params = {'n_estimators': range(100, 301, 100), 'max_depth': range(1, 6)}\n",
    "    model = GridSearchCV(XGBClassifier(), params).fit(xtrain, ytrain).best_estimator_\n",
    "    result[f'GridSearchCV'] = get_model_score(model, xtrain, xtest, ytrain, ytest)\n",
    "    \n",
    "    result = result.T\n",
    "    result.insert(2, 'DIFF', (result['Train_Accuracy']-result['Test_Accuracy']).abs())\n",
    "    return result"
   ]
  },
  {
   "cell_type": "code",
   "execution_count": 52,
   "id": "49ebaa92-2a95-4ac4-a93c-7191caaa3c94",
   "metadata": {
    "tags": []
   },
   "outputs": [],
   "source": [
    "def get_model_data(dfX, Y, train_size, x_features, y_feature, is_normalized=False):\n",
    "    X_temp = dfX[x_features]\n",
    "    YF = Y[y_feature]\n",
    "    \n",
    "    if is_normalized:\n",
    "        X_temp = MinMaxScaler().fit_transform(X_temp)\n",
    "        \n",
    "    XF = X_temp[:train_size]\n",
    "    X_submissionF = X_temp[train_size:]\n",
    "    \n",
    "    return XF, X_submissionF, YF"
   ]
  },
  {
   "cell_type": "code",
   "execution_count": 58,
   "id": "64b033bd-b094-41f0-b805-8c0fb90f80f7",
   "metadata": {
    "tags": []
   },
   "outputs": [
    {
     "name": "stdout",
     "output_type": "stream",
     "text": [
      "<class 'pandas.core.frame.DataFrame'>\n",
      "RangeIndex: 4881 entries, 0 to 4880\n",
      "Data columns (total 10 columns):\n",
      " #   Column           Non-Null Count  Dtype  \n",
      "---  ------           --------------  -----  \n",
      " 0   ID               4881 non-null   int64  \n",
      " 1   Gender           4881 non-null   object \n",
      " 2   Ever_Married     4785 non-null   object \n",
      " 3   Age              4881 non-null   int64  \n",
      " 4   Graduated        4830 non-null   object \n",
      " 5   Profession       4817 non-null   object \n",
      " 6   Work_Experience  4368 non-null   float64\n",
      " 7   Spending_Score   4881 non-null   object \n",
      " 8   Family_Size      4689 non-null   float64\n",
      " 9   Var_1            4831 non-null   object \n",
      "dtypes: float64(2), int64(2), object(6)\n",
      "memory usage: 381.5+ KB\n",
      "<class 'pandas.core.frame.DataFrame'>\n",
      "RangeIndex: 1542 entries, 0 to 1541\n",
      "Data columns (total 10 columns):\n",
      " #   Column           Non-Null Count  Dtype  \n",
      "---  ------           --------------  -----  \n",
      " 0   ID               1542 non-null   int64  \n",
      " 1   Gender           1542 non-null   object \n",
      " 2   Ever_Married     1520 non-null   object \n",
      " 3   Age              1542 non-null   int64  \n",
      " 4   Graduated        1526 non-null   object \n",
      " 5   Profession       1519 non-null   object \n",
      " 6   Work_Experience  1400 non-null   float64\n",
      " 7   Spending_Score   1542 non-null   object \n",
      " 8   Family_Size      1474 non-null   float64\n",
      " 9   Var_1            1530 non-null   object \n",
      "dtypes: float64(2), int64(2), object(6)\n",
      "memory usage: 120.6+ KB\n",
      "<class 'pandas.core.frame.DataFrame'>\n",
      "RangeIndex: 4881 entries, 0 to 4880\n",
      "Data columns (total 2 columns):\n",
      " #   Column        Non-Null Count  Dtype \n",
      "---  ------        --------------  ----- \n",
      " 0   ID            4881 non-null   int64 \n",
      " 1   Segmentation  4881 non-null   object\n",
      "dtypes: int64(1), object(1)\n",
      "memory usage: 76.4+ KB\n"
     ]
    },
    {
     "data": {
      "text/plain": [
       "(None, None, None)"
      ]
     },
     "execution_count": 58,
     "metadata": {},
     "output_type": "execute_result"
    }
   ],
   "source": [
    "X.info(), X_submission.info(), Y.info()"
   ]
  },
  {
   "cell_type": "code",
   "execution_count": 59,
   "id": "604b966f-46e3-4270-8b2c-a201ebe26859",
   "metadata": {
    "tags": []
   },
   "outputs": [],
   "source": [
    "dfX = pd.concat([X, X_submission], axis=0, ignore_index=True)"
   ]
  },
  {
   "cell_type": "code",
   "execution_count": 76,
   "id": "f712938e-f1e2-4d11-b750-716311d7191f",
   "metadata": {
    "tags": []
   },
   "outputs": [
    {
     "name": "stdout",
     "output_type": "stream",
     "text": [
      "<class 'pandas.core.frame.DataFrame'>\n",
      "RangeIndex: 6423 entries, 0 to 6422\n",
      "Data columns (total 10 columns):\n",
      " #   Column           Non-Null Count  Dtype  \n",
      "---  ------           --------------  -----  \n",
      " 0   ID               6423 non-null   int64  \n",
      " 1   Gender           6423 non-null   object \n",
      " 2   Ever_Married     6305 non-null   object \n",
      " 3   Age              6423 non-null   int64  \n",
      " 4   Graduated        6356 non-null   object \n",
      " 5   Profession       6336 non-null   object \n",
      " 6   Work_Experience  6423 non-null   float64\n",
      " 7   Spending_Score   6423 non-null   object \n",
      " 8   Family_Size      6423 non-null   float64\n",
      " 9   Var_1            6361 non-null   object \n",
      "dtypes: float64(2), int64(2), object(6)\n",
      "memory usage: 501.9+ KB\n"
     ]
    }
   ],
   "source": [
    "dfX.info()"
   ]
  },
  {
   "cell_type": "code",
   "execution_count": 88,
   "id": "136b5c92-3a3b-4523-9212-6eba51211bec",
   "metadata": {
    "tags": []
   },
   "outputs": [
    {
     "data": {
      "text/plain": [
       "ID                 0\n",
       "Gender             0\n",
       "Ever_Married       0\n",
       "Age                0\n",
       "Graduated          0\n",
       "Profession         0\n",
       "Work_Experience    0\n",
       "Family_Size        0\n",
       "Var_1              0\n",
       "Average            0\n",
       "High               0\n",
       "Low                0\n",
       "dtype: int64"
      ]
     },
     "execution_count": 88,
     "metadata": {},
     "output_type": "execute_result"
    }
   ],
   "source": [
    "dfX.isna().sum()"
   ]
  },
  {
   "cell_type": "code",
   "execution_count": 66,
   "id": "510d2ee4-991b-4869-8403-d2a6f013d42d",
   "metadata": {
    "tags": []
   },
   "outputs": [],
   "source": [
    "dfX['Work_Experience'] = dfX['Work_Experience'].fillna(dfX['Work_Experience'].mean())"
   ]
  },
  {
   "cell_type": "code",
   "execution_count": 70,
   "id": "f7cbf813-0414-49ac-90b6-e760f63b8f9c",
   "metadata": {
    "tags": []
   },
   "outputs": [],
   "source": [
    "dfX['Family_Size'] = dfX['Family_Size'].fillna(dfX['Family_Size'].mean())"
   ]
  },
  {
   "cell_type": "code",
   "execution_count": 89,
   "id": "b036ec5a-ac4e-4ca3-a9d2-e489831c5dde",
   "metadata": {
    "tags": []
   },
   "outputs": [],
   "source": [
    "for feature in dfX.select_dtypes(include='object').columns:\n",
    "    print(f'{feature} - {dfX[feature].unique()}')"
   ]
  },
  {
   "cell_type": "code",
   "execution_count": 79,
   "id": "3f90af1b-7c5c-4e09-9701-13b354df9959",
   "metadata": {
    "tags": []
   },
   "outputs": [],
   "source": [
    "dfX['Gender'] = dfX['Gender'].replace(['Female', 'Male'], [0, 1])"
   ]
  },
  {
   "cell_type": "code",
   "execution_count": 81,
   "id": "5fd4bdcf-7e72-4c79-8219-8e46b883d135",
   "metadata": {
    "tags": []
   },
   "outputs": [],
   "source": [
    "temp = dfX.drop(columns=['Spending_Score'])\n",
    "temp_list= [temp]\n",
    "temp_list.append(pd.get_dummies(dfX['Spending_Score']))\n",
    "dfX = pd.concat(temp_list, axis=1)"
   ]
  },
  {
   "cell_type": "code",
   "execution_count": 87,
   "id": "92506a14-d590-4498-af1b-2fa58f7a5157",
   "metadata": {
    "tags": []
   },
   "outputs": [],
   "source": [
    "for feature in dfX.select_dtypes(include='object').columns:\n",
    "    dfX[feature] = LabelEncoder().fit_transform(dfX[feature])"
   ]
  },
  {
   "cell_type": "code",
   "execution_count": 90,
   "id": "bfabe933-4742-48d4-a058-3960fc7b53f9",
   "metadata": {
    "tags": []
   },
   "outputs": [],
   "source": [
    "dfXY = pd.merge(dfX, Y, on='ID')"
   ]
  },
  {
   "cell_type": "code",
   "execution_count": 93,
   "id": "63f15fdc-6143-4a1a-8baa-13f94e06948c",
   "metadata": {
    "tags": []
   },
   "outputs": [
    {
     "data": {
      "text/html": [
       "<div>\n",
       "<style scoped>\n",
       "    .dataframe tbody tr th:only-of-type {\n",
       "        vertical-align: middle;\n",
       "    }\n",
       "\n",
       "    .dataframe tbody tr th {\n",
       "        vertical-align: top;\n",
       "    }\n",
       "\n",
       "    .dataframe thead th {\n",
       "        text-align: right;\n",
       "    }\n",
       "</style>\n",
       "<table border=\"1\" class=\"dataframe\">\n",
       "  <thead>\n",
       "    <tr style=\"text-align: right;\">\n",
       "      <th></th>\n",
       "      <th>ID</th>\n",
       "      <th>Gender</th>\n",
       "      <th>Ever_Married</th>\n",
       "      <th>Age</th>\n",
       "      <th>Graduated</th>\n",
       "      <th>Profession</th>\n",
       "      <th>Work_Experience</th>\n",
       "      <th>Family_Size</th>\n",
       "      <th>Var_1</th>\n",
       "      <th>Average</th>\n",
       "      <th>High</th>\n",
       "      <th>Low</th>\n",
       "    </tr>\n",
       "  </thead>\n",
       "  <tbody>\n",
       "    <tr>\n",
       "      <th>ID</th>\n",
       "      <td>1.0000</td>\n",
       "      <td>0.0040</td>\n",
       "      <td>0.0437</td>\n",
       "      <td>-0.0165</td>\n",
       "      <td>0.0081</td>\n",
       "      <td>-0.0191</td>\n",
       "      <td>-0.0222</td>\n",
       "      <td>-0.0037</td>\n",
       "      <td>0.0185</td>\n",
       "      <td>0.0257</td>\n",
       "      <td>-0.0101</td>\n",
       "      <td>-0.0150</td>\n",
       "    </tr>\n",
       "    <tr>\n",
       "      <th>Gender</th>\n",
       "      <td>0.0040</td>\n",
       "      <td>1.0000</td>\n",
       "      <td>0.0948</td>\n",
       "      <td>0.0200</td>\n",
       "      <td>-0.0417</td>\n",
       "      <td>0.0258</td>\n",
       "      <td>-0.0652</td>\n",
       "      <td>0.0676</td>\n",
       "      <td>0.0270</td>\n",
       "      <td>0.0317</td>\n",
       "      <td>0.0477</td>\n",
       "      <td>-0.0629</td>\n",
       "    </tr>\n",
       "    <tr>\n",
       "      <th>Ever_Married</th>\n",
       "      <td>0.0437</td>\n",
       "      <td>0.0948</td>\n",
       "      <td>1.0000</td>\n",
       "      <td>0.5158</td>\n",
       "      <td>0.1603</td>\n",
       "      <td>-0.0896</td>\n",
       "      <td>-0.1056</td>\n",
       "      <td>-0.0768</td>\n",
       "      <td>0.0408</td>\n",
       "      <td>0.4357</td>\n",
       "      <td>0.3410</td>\n",
       "      <td>-0.6323</td>\n",
       "    </tr>\n",
       "    <tr>\n",
       "      <th>Age</th>\n",
       "      <td>-0.0165</td>\n",
       "      <td>0.0200</td>\n",
       "      <td>0.5158</td>\n",
       "      <td>1.0000</td>\n",
       "      <td>0.2199</td>\n",
       "      <td>0.0578</td>\n",
       "      <td>-0.1885</td>\n",
       "      <td>-0.2702</td>\n",
       "      <td>0.1482</td>\n",
       "      <td>0.1042</td>\n",
       "      <td>0.3756</td>\n",
       "      <td>-0.3678</td>\n",
       "    </tr>\n",
       "    <tr>\n",
       "      <th>Graduated</th>\n",
       "      <td>0.0081</td>\n",
       "      <td>-0.0417</td>\n",
       "      <td>0.1603</td>\n",
       "      <td>0.2199</td>\n",
       "      <td>1.0000</td>\n",
       "      <td>-0.2883</td>\n",
       "      <td>0.0302</td>\n",
       "      <td>-0.2301</td>\n",
       "      <td>0.0980</td>\n",
       "      <td>0.1063</td>\n",
       "      <td>0.0230</td>\n",
       "      <td>-0.1100</td>\n",
       "    </tr>\n",
       "    <tr>\n",
       "      <th>Profession</th>\n",
       "      <td>-0.0191</td>\n",
       "      <td>0.0258</td>\n",
       "      <td>-0.0896</td>\n",
       "      <td>0.0578</td>\n",
       "      <td>-0.2883</td>\n",
       "      <td>1.0000</td>\n",
       "      <td>-0.0313</td>\n",
       "      <td>0.0987</td>\n",
       "      <td>-0.0352</td>\n",
       "      <td>-0.2867</td>\n",
       "      <td>0.2006</td>\n",
       "      <td>0.1029</td>\n",
       "    </tr>\n",
       "    <tr>\n",
       "      <th>Work_Experience</th>\n",
       "      <td>-0.0222</td>\n",
       "      <td>-0.0652</td>\n",
       "      <td>-0.1056</td>\n",
       "      <td>-0.1885</td>\n",
       "      <td>0.0302</td>\n",
       "      <td>-0.0313</td>\n",
       "      <td>1.0000</td>\n",
       "      <td>-0.0749</td>\n",
       "      <td>0.0429</td>\n",
       "      <td>-0.0338</td>\n",
       "      <td>-0.0585</td>\n",
       "      <td>0.0726</td>\n",
       "    </tr>\n",
       "    <tr>\n",
       "      <th>Family_Size</th>\n",
       "      <td>-0.0037</td>\n",
       "      <td>0.0676</td>\n",
       "      <td>-0.0768</td>\n",
       "      <td>-0.2702</td>\n",
       "      <td>-0.2301</td>\n",
       "      <td>0.0987</td>\n",
       "      <td>-0.0749</td>\n",
       "      <td>1.0000</td>\n",
       "      <td>-0.1708</td>\n",
       "      <td>0.0873</td>\n",
       "      <td>0.0204</td>\n",
       "      <td>-0.0914</td>\n",
       "    </tr>\n",
       "    <tr>\n",
       "      <th>Var_1</th>\n",
       "      <td>0.0185</td>\n",
       "      <td>0.0270</td>\n",
       "      <td>0.0408</td>\n",
       "      <td>0.1482</td>\n",
       "      <td>0.0980</td>\n",
       "      <td>-0.0352</td>\n",
       "      <td>0.0429</td>\n",
       "      <td>-0.1708</td>\n",
       "      <td>1.0000</td>\n",
       "      <td>-0.0207</td>\n",
       "      <td>0.0948</td>\n",
       "      <td>-0.0517</td>\n",
       "    </tr>\n",
       "    <tr>\n",
       "      <th>Average</th>\n",
       "      <td>0.0257</td>\n",
       "      <td>0.0317</td>\n",
       "      <td>0.4357</td>\n",
       "      <td>0.1042</td>\n",
       "      <td>0.1063</td>\n",
       "      <td>-0.2867</td>\n",
       "      <td>-0.0338</td>\n",
       "      <td>0.0873</td>\n",
       "      <td>-0.0207</td>\n",
       "      <td>1.0000</td>\n",
       "      <td>-0.2388</td>\n",
       "      <td>-0.6986</td>\n",
       "    </tr>\n",
       "    <tr>\n",
       "      <th>High</th>\n",
       "      <td>-0.0101</td>\n",
       "      <td>0.0477</td>\n",
       "      <td>0.3410</td>\n",
       "      <td>0.3756</td>\n",
       "      <td>0.0230</td>\n",
       "      <td>0.2006</td>\n",
       "      <td>-0.0585</td>\n",
       "      <td>0.0204</td>\n",
       "      <td>0.0948</td>\n",
       "      <td>-0.2388</td>\n",
       "      <td>1.0000</td>\n",
       "      <td>-0.5280</td>\n",
       "    </tr>\n",
       "    <tr>\n",
       "      <th>Low</th>\n",
       "      <td>-0.0150</td>\n",
       "      <td>-0.0629</td>\n",
       "      <td>-0.6323</td>\n",
       "      <td>-0.3678</td>\n",
       "      <td>-0.1100</td>\n",
       "      <td>0.1029</td>\n",
       "      <td>0.0726</td>\n",
       "      <td>-0.0914</td>\n",
       "      <td>-0.0517</td>\n",
       "      <td>-0.6986</td>\n",
       "      <td>-0.5280</td>\n",
       "      <td>1.0000</td>\n",
       "    </tr>\n",
       "  </tbody>\n",
       "</table>\n",
       "</div>"
      ],
      "text/plain": [
       "                     ID  Gender  Ever_Married     Age  Graduated  Profession  \\\n",
       "ID               1.0000  0.0040        0.0437 -0.0165     0.0081     -0.0191   \n",
       "Gender           0.0040  1.0000        0.0948  0.0200    -0.0417      0.0258   \n",
       "Ever_Married     0.0437  0.0948        1.0000  0.5158     0.1603     -0.0896   \n",
       "Age             -0.0165  0.0200        0.5158  1.0000     0.2199      0.0578   \n",
       "Graduated        0.0081 -0.0417        0.1603  0.2199     1.0000     -0.2883   \n",
       "Profession      -0.0191  0.0258       -0.0896  0.0578    -0.2883      1.0000   \n",
       "Work_Experience -0.0222 -0.0652       -0.1056 -0.1885     0.0302     -0.0313   \n",
       "Family_Size     -0.0037  0.0676       -0.0768 -0.2702    -0.2301      0.0987   \n",
       "Var_1            0.0185  0.0270        0.0408  0.1482     0.0980     -0.0352   \n",
       "Average          0.0257  0.0317        0.4357  0.1042     0.1063     -0.2867   \n",
       "High            -0.0101  0.0477        0.3410  0.3756     0.0230      0.2006   \n",
       "Low             -0.0150 -0.0629       -0.6323 -0.3678    -0.1100      0.1029   \n",
       "\n",
       "                 Work_Experience  Family_Size   Var_1  Average    High     Low  \n",
       "ID                       -0.0222      -0.0037  0.0185   0.0257 -0.0101 -0.0150  \n",
       "Gender                   -0.0652       0.0676  0.0270   0.0317  0.0477 -0.0629  \n",
       "Ever_Married             -0.1056      -0.0768  0.0408   0.4357  0.3410 -0.6323  \n",
       "Age                      -0.1885      -0.2702  0.1482   0.1042  0.3756 -0.3678  \n",
       "Graduated                 0.0302      -0.2301  0.0980   0.1063  0.0230 -0.1100  \n",
       "Profession               -0.0313       0.0987 -0.0352  -0.2867  0.2006  0.1029  \n",
       "Work_Experience           1.0000      -0.0749  0.0429  -0.0338 -0.0585  0.0726  \n",
       "Family_Size              -0.0749       1.0000 -0.1708   0.0873  0.0204 -0.0914  \n",
       "Var_1                     0.0429      -0.1708  1.0000  -0.0207  0.0948 -0.0517  \n",
       "Average                  -0.0338       0.0873 -0.0207   1.0000 -0.2388 -0.6986  \n",
       "High                     -0.0585       0.0204  0.0948  -0.2388  1.0000 -0.5280  \n",
       "Low                       0.0726      -0.0914 -0.0517  -0.6986 -0.5280  1.0000  "
      ]
     },
     "execution_count": 93,
     "metadata": {},
     "output_type": "execute_result"
    }
   ],
   "source": [
    "dfXY.corr(numeric_only=True)"
   ]
  },
  {
   "cell_type": "code",
   "execution_count": 94,
   "id": "503f76f0-4572-4f28-a0f1-694c8d069342",
   "metadata": {
    "tags": []
   },
   "outputs": [
    {
     "data": {
      "text/plain": [
       "(Index(['ID', 'Gender', 'Ever_Married', 'Age', 'Graduated', 'Profession',\n",
       "        'Work_Experience', 'Family_Size', 'Var_1', 'Average', 'High', 'Low'],\n",
       "       dtype='object'),\n",
       " Index(['ID', 'Segmentation'], dtype='object'))"
      ]
     },
     "execution_count": 94,
     "metadata": {},
     "output_type": "execute_result"
    }
   ],
   "source": [
    "dfX.columns, Y.columns"
   ]
  },
  {
   "cell_type": "code",
   "execution_count": 95,
   "id": "546997a7-aca8-4b62-8227-1f4a87c96ea1",
   "metadata": {
    "tags": []
   },
   "outputs": [],
   "source": [
    "x_features = ['Gender', 'Ever_Married', 'Age', 'Graduated', 'Profession','Work_Experience', 'Family_Size', 'Var_1', 'Average', 'High', 'Low']\n",
    "y_feature = 'Segmentation'"
   ]
  },
  {
   "cell_type": "code",
   "execution_count": 100,
   "id": "516494f4-3976-41de-bcd6-c9d0a5dec908",
   "metadata": {
    "tags": []
   },
   "outputs": [
    {
     "data": {
      "text/plain": [
       "array(['A', 'D', 'B', 'C'], dtype=object)"
      ]
     },
     "execution_count": 100,
     "metadata": {},
     "output_type": "execute_result"
    }
   ],
   "source": [
    "Y[y_feature].unique()"
   ]
  },
  {
   "cell_type": "code",
   "execution_count": 116,
   "id": "09146fa5-eb98-4526-a7c4-8e9471b6a374",
   "metadata": {
    "tags": []
   },
   "outputs": [],
   "source": [
    "Y2 = Y.copy()\n",
    "Y2[y_feature] = Y[y_feature].replace(['A', 'B', 'C', 'D'], [0, 1, 2, 3])"
   ]
  },
  {
   "cell_type": "code",
   "execution_count": 117,
   "id": "0ac6a6ce-89f2-4977-bb2d-39eb4347305d",
   "metadata": {
    "tags": []
   },
   "outputs": [],
   "source": [
    "XF, X_submissionF, YF = get_model_data(dfX, Y2, len(X), x_features, y_feature, False)"
   ]
  },
  {
   "cell_type": "code",
   "execution_count": 118,
   "id": "5cfa1cef-15ef-4dfc-9239-81326d3c800c",
   "metadata": {
    "tags": []
   },
   "outputs": [],
   "source": [
    "xtrain, xtest, ytrain, ytest = train_test_split(XF, YF, test_size=0.3, random_state=1111, stratify=YF)"
   ]
  },
  {
   "cell_type": "code",
   "execution_count": 119,
   "id": "d33f72ca-b138-45ec-82ae-5c3398c25410",
   "metadata": {
    "tags": []
   },
   "outputs": [],
   "source": [
    "result = compare_model(xtrain, xtest, ytrain, ytest)"
   ]
  },
  {
   "cell_type": "code",
   "execution_count": 120,
   "id": "06661ced-e2fb-4aa5-bc6e-74c649b0a77d",
   "metadata": {
    "tags": []
   },
   "outputs": [
    {
     "data": {
      "text/html": [
       "<div>\n",
       "<style scoped>\n",
       "    .dataframe tbody tr th:only-of-type {\n",
       "        vertical-align: middle;\n",
       "    }\n",
       "\n",
       "    .dataframe tbody tr th {\n",
       "        vertical-align: top;\n",
       "    }\n",
       "\n",
       "    .dataframe thead th {\n",
       "        text-align: right;\n",
       "    }\n",
       "</style>\n",
       "<table border=\"1\" class=\"dataframe\">\n",
       "  <thead>\n",
       "    <tr style=\"text-align: right;\">\n",
       "      <th></th>\n",
       "      <th>Train_Accuracy</th>\n",
       "      <th>Test_Accuracy</th>\n",
       "      <th>DIFF</th>\n",
       "      <th>F1</th>\n",
       "    </tr>\n",
       "  </thead>\n",
       "  <tbody>\n",
       "    <tr>\n",
       "      <th>GridSearchCV</th>\n",
       "      <td>0.5946</td>\n",
       "      <td>0.4580</td>\n",
       "      <td>0.1365</td>\n",
       "      <td>0.4434</td>\n",
       "    </tr>\n",
       "    <tr>\n",
       "      <th>XGBClassifier</th>\n",
       "      <td>0.8358</td>\n",
       "      <td>0.4232</td>\n",
       "      <td>0.4126</td>\n",
       "      <td>0.4125</td>\n",
       "    </tr>\n",
       "    <tr>\n",
       "      <th>LogisticRegression</th>\n",
       "      <td>0.4552</td>\n",
       "      <td>0.4485</td>\n",
       "      <td>0.0067</td>\n",
       "      <td>0.4022</td>\n",
       "    </tr>\n",
       "    <tr>\n",
       "      <th>KNeighborsClassifier</th>\n",
       "      <td>0.5972</td>\n",
       "      <td>0.4055</td>\n",
       "      <td>0.1917</td>\n",
       "      <td>0.4019</td>\n",
       "    </tr>\n",
       "    <tr>\n",
       "      <th>RandomForestClassifier</th>\n",
       "      <td>0.9734</td>\n",
       "      <td>0.4123</td>\n",
       "      <td>0.5611</td>\n",
       "      <td>0.4005</td>\n",
       "    </tr>\n",
       "    <tr>\n",
       "      <th>DecisionTreeClassifier</th>\n",
       "      <td>0.9734</td>\n",
       "      <td>0.3679</td>\n",
       "      <td>0.6054</td>\n",
       "      <td>0.3658</td>\n",
       "    </tr>\n",
       "  </tbody>\n",
       "</table>\n",
       "</div>"
      ],
      "text/plain": [
       "                        Train_Accuracy  Test_Accuracy   DIFF     F1\n",
       "GridSearchCV                    0.5946         0.4580 0.1365 0.4434\n",
       "XGBClassifier                   0.8358         0.4232 0.4126 0.4125\n",
       "LogisticRegression              0.4552         0.4485 0.0067 0.4022\n",
       "KNeighborsClassifier            0.5972         0.4055 0.1917 0.4019\n",
       "RandomForestClassifier          0.9734         0.4123 0.5611 0.4005\n",
       "DecisionTreeClassifier          0.9734         0.3679 0.6054 0.3658"
      ]
     },
     "execution_count": 120,
     "metadata": {},
     "output_type": "execute_result"
    }
   ],
   "source": [
    "result.sort_values('F1', ascending=False)"
   ]
  },
  {
   "cell_type": "code",
   "execution_count": 121,
   "id": "2f26ada3-d5e7-4a0c-8cc1-1e7339ebdeea",
   "metadata": {
    "tags": []
   },
   "outputs": [
    {
     "name": "stdout",
     "output_type": "stream",
     "text": [
      "Train_Accuracy   0.8358\n",
      "Test_Accuracy    0.4232\n",
      "F1               0.4125\n",
      "dtype: float64\n"
     ]
    }
   ],
   "source": [
    "model = XGBClassifier().fit(xtrain, ytrain)\n",
    "print(get_model_score(model, xtrain, xtest, ytrain, ytest))"
   ]
  },
  {
   "cell_type": "code",
   "execution_count": 122,
   "id": "4e26856a-c6c8-4f5f-9dce-ff7ce1ba5488",
   "metadata": {
    "tags": []
   },
   "outputs": [],
   "source": [
    "Y_pred = model.predict(X_submissionF)"
   ]
  },
  {
   "cell_type": "code",
   "execution_count": 124,
   "id": "0230ad00-5136-410a-9f7b-638a46a09414",
   "metadata": {
    "tags": []
   },
   "outputs": [],
   "source": [
    "submission = pd.DataFrame({'ID': X_submission['ID'], y_feature: Y_pred})"
   ]
  },
  {
   "cell_type": "code",
   "execution_count": 128,
   "id": "f44e0b45-830e-4b8b-8b53-eb9eb8832457",
   "metadata": {
    "tags": []
   },
   "outputs": [],
   "source": [
    "submission[y_feature] = submission[y_feature].replace([0, 1, 2, 3], ['A', 'B', 'C', 'D'])"
   ]
  },
  {
   "cell_type": "code",
   "execution_count": 129,
   "id": "da695177-ece4-4821-b34e-20f28d39be5b",
   "metadata": {
    "tags": []
   },
   "outputs": [],
   "source": [
    "submission.to_csv('./submission.csv', index=False)"
   ]
  },
  {
   "cell_type": "code",
   "execution_count": 130,
   "id": "97ce88b8-53cd-47a7-a703-a535337850d1",
   "metadata": {
    "tags": []
   },
   "outputs": [],
   "source": [
    "Y_predit = pd.read_csv('./submission.csv')"
   ]
  },
  {
   "cell_type": "code",
   "execution_count": 132,
   "id": "f8de646f-a0a7-4ffa-b851-42a6608d9587",
   "metadata": {
    "tags": []
   },
   "outputs": [
    {
     "data": {
      "text/html": [
       "<div>\n",
       "<style scoped>\n",
       "    .dataframe tbody tr th:only-of-type {\n",
       "        vertical-align: middle;\n",
       "    }\n",
       "\n",
       "    .dataframe tbody tr th {\n",
       "        vertical-align: top;\n",
       "    }\n",
       "\n",
       "    .dataframe thead th {\n",
       "        text-align: right;\n",
       "    }\n",
       "</style>\n",
       "<table border=\"1\" class=\"dataframe\">\n",
       "  <thead>\n",
       "    <tr style=\"text-align: right;\">\n",
       "      <th></th>\n",
       "      <th>ID</th>\n",
       "      <th>Segmentation</th>\n",
       "    </tr>\n",
       "  </thead>\n",
       "  <tbody>\n",
       "    <tr>\n",
       "      <th>0</th>\n",
       "      <td>460406</td>\n",
       "      <td>D</td>\n",
       "    </tr>\n",
       "    <tr>\n",
       "      <th>1</th>\n",
       "      <td>466890</td>\n",
       "      <td>C</td>\n",
       "    </tr>\n",
       "  </tbody>\n",
       "</table>\n",
       "</div>"
      ],
      "text/plain": [
       "       ID Segmentation\n",
       "0  460406            D\n",
       "1  466890            C"
      ]
     },
     "execution_count": 132,
     "metadata": {},
     "output_type": "execute_result"
    }
   ],
   "source": [
    "Y_predit.head(2)"
   ]
  },
  {
   "cell_type": "markdown",
   "id": "6a8b093c-5fc6-44fc-9478-3d514cdf233e",
   "metadata": {
    "ExecuteTime": {
     "end_time": "2021-06-12T06:35:32.658486Z",
     "start_time": "2021-06-12T06:35:32.655863Z"
    },
    "tags": [
     "hide-input"
    ]
   },
   "source": [
    "valiation test f1score 0.4107784704089142"
   ]
  },
  {
   "cell_type": "markdown",
   "id": "1a19b521",
   "metadata": {},
   "source": [
    "# 작업 3유형"
   ]
  },
  {
   "cell_type": "markdown",
   "id": "46f8037b",
   "metadata": {},
   "source": [
    "```{attention} \n",
    "어느 대학교의 신입생의 학과별 성별에 대한 데이터이다.\n",
    "**DataUrl = https://raw.githubusercontent.com/Datamanim/datarepo/main/krdatacertificate/e4_p3_1_.csv**\n",
    "**이 데이터를 바탕으로, 학생들의 학과와 성별이 서로 독립적인지 여부를 확인하기 위해 카이제곱 독립성 검정을 실시 하려한다.**\n",
    "```"
   ]
  },
  {
   "cell_type": "code",
   "execution_count": 134,
   "id": "938f3df2-dd53-4981-95b3-8c489f42b224",
   "metadata": {
    "tags": []
   },
   "outputs": [
    {
     "data": {
      "text/html": [
       "<div>\n",
       "<style scoped>\n",
       "    .dataframe tbody tr th:only-of-type {\n",
       "        vertical-align: middle;\n",
       "    }\n",
       "\n",
       "    .dataframe tbody tr th {\n",
       "        vertical-align: top;\n",
       "    }\n",
       "\n",
       "    .dataframe thead th {\n",
       "        text-align: right;\n",
       "    }\n",
       "</style>\n",
       "<table border=\"1\" class=\"dataframe\">\n",
       "  <thead>\n",
       "    <tr style=\"text-align: right;\">\n",
       "      <th></th>\n",
       "      <th>학번</th>\n",
       "      <th>학과</th>\n",
       "      <th>성별</th>\n",
       "    </tr>\n",
       "  </thead>\n",
       "  <tbody>\n",
       "    <tr>\n",
       "      <th>0</th>\n",
       "      <td>DFSKJK_1</td>\n",
       "      <td>경영학과</td>\n",
       "      <td>여</td>\n",
       "    </tr>\n",
       "    <tr>\n",
       "      <th>1</th>\n",
       "      <td>DFSKJK_2</td>\n",
       "      <td>사회학과</td>\n",
       "      <td>여</td>\n",
       "    </tr>\n",
       "    <tr>\n",
       "      <th>2</th>\n",
       "      <td>DFSKJK_3</td>\n",
       "      <td>기계공학과</td>\n",
       "      <td>여</td>\n",
       "    </tr>\n",
       "    <tr>\n",
       "      <th>3</th>\n",
       "      <td>DFSKJK_4</td>\n",
       "      <td>경제학과</td>\n",
       "      <td>남</td>\n",
       "    </tr>\n",
       "    <tr>\n",
       "      <th>4</th>\n",
       "      <td>DFSKJK_5</td>\n",
       "      <td>기계공학과</td>\n",
       "      <td>여</td>\n",
       "    </tr>\n",
       "  </tbody>\n",
       "</table>\n",
       "</div>"
      ],
      "text/plain": [
       "         학번     학과 성별\n",
       "0  DFSKJK_1   경영학과  여\n",
       "1  DFSKJK_2   사회학과  여\n",
       "2  DFSKJK_3  기계공학과  여\n",
       "3  DFSKJK_4   경제학과  남\n",
       "4  DFSKJK_5  기계공학과  여"
      ]
     },
     "execution_count": 134,
     "metadata": {},
     "output_type": "execute_result"
    }
   ],
   "source": [
    "df = pd.read_csv('https://raw.githubusercontent.com/Datamanim/datarepo/main/krdatacertificate/e4_p3_1_.csv')\n",
    "df.head()"
   ]
  },
  {
   "cell_type": "code",
   "execution_count": 135,
   "id": "73dcaa37-c546-480e-b878-5b6f1de56ac1",
   "metadata": {
    "tags": []
   },
   "outputs": [
    {
     "name": "stdout",
     "output_type": "stream",
     "text": [
      "<class 'pandas.core.frame.DataFrame'>\n",
      "RangeIndex: 1022 entries, 0 to 1021\n",
      "Data columns (total 3 columns):\n",
      " #   Column  Non-Null Count  Dtype \n",
      "---  ------  --------------  ----- \n",
      " 0   학번      1022 non-null   object\n",
      " 1   학과      1022 non-null   object\n",
      " 2   성별      1022 non-null   object\n",
      "dtypes: object(3)\n",
      "memory usage: 24.1+ KB\n"
     ]
    }
   ],
   "source": [
    "df.info()"
   ]
  },
  {
   "cell_type": "markdown",
   "id": "9e0fae22",
   "metadata": {},
   "source": [
    "```{admonition} 3-1-a\n",
    "**학과 평균 인원에 대한 값을 소숫점 이하 3자리까지 구하여라**\n",
    "```"
   ]
  },
  {
   "cell_type": "code",
   "execution_count": 145,
   "id": "2e065959-5f94-40b5-932c-896cd88da4a8",
   "metadata": {
    "tags": []
   },
   "outputs": [
    {
     "name": "stdout",
     "output_type": "stream",
     "text": [
      "170.333\n"
     ]
    }
   ],
   "source": [
    "print(f\"{df['학과'].value_counts().mean():.3f}\")"
   ]
  },
  {
   "cell_type": "markdown",
   "id": "0ce7fb64-775f-4f2d-8ab0-3b8da5e22cf5",
   "metadata": {
    "ExecuteTime": {
     "end_time": "2021-06-12T06:35:32.658486Z",
     "start_time": "2021-06-12T06:35:32.655863Z"
    },
    "tags": [
     "hide-input"
    ]
   },
   "source": [
    "170.333"
   ]
  },
  {
   "cell_type": "markdown",
   "id": "ab2a045f",
   "metadata": {},
   "source": [
    "```{admonition} 3-1-b\n",
    "**카이제곱검정 독립성 검정 통계량을 소숫점 이하 3자리까지 구하여라**\n",
    "```"
   ]
  },
  {
   "cell_type": "code",
   "execution_count": 160,
   "id": "987026a7-0b79-42e8-860e-d601dbe5517c",
   "metadata": {
    "tags": []
   },
   "outputs": [],
   "source": [
    "from scipy.stats import chi2_contingency"
   ]
  },
  {
   "cell_type": "code",
   "execution_count": 162,
   "id": "c89c7e51-6534-46a5-8e75-e2e5e0582291",
   "metadata": {
    "tags": []
   },
   "outputs": [],
   "source": [
    "observed = df.pivot_table(index='성별', columns='학과', aggfunc='count')\n",
    "s, pvalue, _, expected = chi2_contingency(observed)"
   ]
  },
  {
   "cell_type": "code",
   "execution_count": 163,
   "id": "3baf5216-6b98-4507-8702-366785cb0ea2",
   "metadata": {
    "tags": []
   },
   "outputs": [
    {
     "name": "stdout",
     "output_type": "stream",
     "text": [
      "5.646\n"
     ]
    }
   ],
   "source": [
    "print(f'{s:.3f}')"
   ]
  },
  {
   "cell_type": "markdown",
   "id": "db7ef1ce-d06e-494e-b8cb-cc5a29cd1d11",
   "metadata": {
    "ExecuteTime": {
     "end_time": "2021-06-12T06:35:32.658486Z",
     "start_time": "2021-06-12T06:35:32.655863Z"
    },
    "tags": [
     "hide-input"
    ]
   },
   "source": [
    "5.646"
   ]
  },
  {
   "cell_type": "markdown",
   "id": "1a0150c2",
   "metadata": {},
   "source": [
    "```{admonition} 3-1-c\n",
    "**카이제곱검정 독립성 검정의 pvalue를 소숫점 이하 3자리까지 구하여라. 유의수준 0.05하에서 귀무가설과 대립가설중 유의한 것을 출력하라**\n",
    "```"
   ]
  },
  {
   "cell_type": "code",
   "execution_count": 164,
   "id": "4fbb0123-49ff-415d-bd89-c6c7d007f674",
   "metadata": {
    "tags": []
   },
   "outputs": [
    {
     "name": "stdout",
     "output_type": "stream",
     "text": [
      "0.342\n",
      "귀무\n"
     ]
    }
   ],
   "source": [
    "print(f'{pvalue:.3f}')\n",
    "print(f'{\"대립\" if pvalue < 0.05 else \"귀무\"}')"
   ]
  },
  {
   "cell_type": "markdown",
   "id": "ea595458-0a45-4589-a42d-76cb90cbd6b4",
   "metadata": {
    "ExecuteTime": {
     "end_time": "2021-06-12T06:35:32.658486Z",
     "start_time": "2021-06-12T06:35:32.655863Z"
    },
    "tags": [
     "hide-input"
    ]
   },
   "source": [
    "```\n",
    "0.3421500573497989\n",
    "귀무\n",
    "```"
   ]
  },
  {
   "cell_type": "markdown",
   "id": "e6e26330",
   "metadata": {},
   "source": [
    "```{attention} \n",
    "어느 학교에서 수학 시험을 본 학생 100명 중 60명이 60점 이상을 받았다. 이 학교의 수학 시험의 평균 점수가 60점 이상인지 95%의 신뢰 수준에서 검정하려한다.\n",
    "```"
   ]
  },
  {
   "cell_type": "code",
   "execution_count": 201,
   "id": "4c2856bf-2311-4be9-a1d4-ac86832f8723",
   "metadata": {
    "tags": []
   },
   "outputs": [
    {
     "data": {
      "text/plain": [
       "11.999999999999998"
      ]
     },
     "execution_count": 201,
     "metadata": {},
     "output_type": "execute_result"
    }
   ],
   "source": [
    "x = 0.6 -  / np.sqrt(0.5 * (1 - 0.5) / 100)\n",
    "x"
   ]
  },
  {
   "cell_type": "markdown",
   "id": "aa0e00e9",
   "metadata": {},
   "source": [
    "```{admonition} 3-1-a\n",
    "**검정 통계량을 소숫점 이하 3자리에서 구하시오**\n",
    "```"
   ]
  },
  {
   "cell_type": "markdown",
   "id": "67669710-0bcc-48ed-a063-a20e71273570",
   "metadata": {
    "ExecuteTime": {
     "end_time": "2021-06-12T06:35:32.658486Z",
     "start_time": "2021-06-12T06:35:32.655863Z"
    },
    "tags": [
     "hide-input"
    ]
   },
   "source": [
    "2.0"
   ]
  },
  {
   "cell_type": "markdown",
   "id": "f6fb4609",
   "metadata": {},
   "source": [
    "```{admonition} 3-1-b\n",
    "**pvalue를 소숫점 이하 3자리까지 구하고 귀무가설과 대립가설중 유의한 것을 출력하라**\n",
    "```"
   ]
  },
  {
   "cell_type": "markdown",
   "id": "c18a04ca-9955-44f0-bc16-83f35adbfb95",
   "metadata": {
    "ExecuteTime": {
     "end_time": "2021-06-12T06:35:32.658486Z",
     "start_time": "2021-06-12T06:35:32.655863Z"
    },
    "tags": [
     "hide-input"
    ]
   },
   "source": [
    "```\n",
    "0.023\n",
    "대립\n",
    "```"
   ]
  },
  {
   "cell_type": "code",
   "execution_count": null,
   "id": "4472d4f4-e614-4f69-8ac4-203969b6040e",
   "metadata": {},
   "outputs": [],
   "source": []
  }
 ],
 "metadata": {
  "celltoolbar": "Edit Metadata",
  "kernelspec": {
   "display_name": "Python 3 (ipykernel)",
   "language": "python",
   "name": "python3"
  },
  "language_info": {
   "codemirror_mode": {
    "name": "ipython",
    "version": 3
   },
   "file_extension": ".py",
   "mimetype": "text/x-python",
   "name": "python",
   "nbconvert_exporter": "python",
   "pygments_lexer": "ipython3",
   "version": "3.8.16"
  }
 },
 "nbformat": 4,
 "nbformat_minor": 5
}
