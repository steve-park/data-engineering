{
 "cells": [
  {
   "cell_type": "markdown",
   "id": "6eb21d1b",
   "metadata": {},
   "source": [
    "# 2회 기출 변형"
   ]
  },
  {
   "cell_type": "markdown",
   "id": "e4f77094",
   "metadata": {},
   "source": [
    "- 작업 3유형 통계 반영\n",
    "- 광고 두번씩 눌러주세요 "
   ]
  },
  {
   "cell_type": "markdown",
   "id": "6737fc91",
   "metadata": {},
   "source": [
    "[![Hits](https://hits.seeyoufarm.com/api/count/incr/badge.svg?url=https://www.datamanim.com/dataset/practice/ex2.html&count_bg=%238921C0&title_bg=%23555555&icon=&icon_color=%23E7E7E7&title=hits&edge_flat=false)](https://hits.seeyoufarm.com)"
   ]
  },
  {
   "cell_type": "markdown",
   "id": "10465416",
   "metadata": {},
   "source": [
    "# 작업 1유형"
   ]
  },
  {
   "cell_type": "markdown",
   "id": "868adaa5",
   "metadata": {},
   "source": [
    "```{attention} \n",
    "데이터설명 : 보스턴집값, 각 행은 지역구별 집값관련된 메타정보 : https://www.kaggle.com/datasets/arunjathari/bostonhousepricedata   \n",
    "**DataUrl = https://raw.githubusercontent.com/Datamanim/datarepo/main/krdatacertificate/e2_p1_1.csv**\n",
    "```"
   ]
  },
  {
   "cell_type": "code",
   "execution_count": 1,
   "id": "311e33b2",
   "metadata": {
    "tags": []
   },
   "outputs": [
    {
     "data": {
      "text/html": [
       "<div>\n",
       "<style scoped>\n",
       "    .dataframe tbody tr th:only-of-type {\n",
       "        vertical-align: middle;\n",
       "    }\n",
       "\n",
       "    .dataframe tbody tr th {\n",
       "        vertical-align: top;\n",
       "    }\n",
       "\n",
       "    .dataframe thead th {\n",
       "        text-align: right;\n",
       "    }\n",
       "</style>\n",
       "<table border=\"1\" class=\"dataframe\">\n",
       "  <thead>\n",
       "    <tr style=\"text-align: right;\">\n",
       "      <th></th>\n",
       "      <th>CRIM</th>\n",
       "      <th>ZN</th>\n",
       "      <th>INDUS</th>\n",
       "      <th>CHAS</th>\n",
       "      <th>NOX</th>\n",
       "      <th>RM</th>\n",
       "      <th>AGE</th>\n",
       "      <th>DIS</th>\n",
       "      <th>RAD</th>\n",
       "      <th>TAX</th>\n",
       "      <th>PTRATIO</th>\n",
       "      <th>B</th>\n",
       "      <th>LSTAT</th>\n",
       "      <th>MEDV</th>\n",
       "    </tr>\n",
       "  </thead>\n",
       "  <tbody>\n",
       "    <tr>\n",
       "      <th>0</th>\n",
       "      <td>0.00632</td>\n",
       "      <td>NaN</td>\n",
       "      <td>2.31</td>\n",
       "      <td>0</td>\n",
       "      <td>0.538</td>\n",
       "      <td>6.575</td>\n",
       "      <td>65.2</td>\n",
       "      <td>4.0900</td>\n",
       "      <td>1</td>\n",
       "      <td>296.0</td>\n",
       "      <td>15.3</td>\n",
       "      <td>396.9</td>\n",
       "      <td>4.98</td>\n",
       "      <td>24.0</td>\n",
       "    </tr>\n",
       "    <tr>\n",
       "      <th>1</th>\n",
       "      <td>0.02731</td>\n",
       "      <td>NaN</td>\n",
       "      <td>7.07</td>\n",
       "      <td>0</td>\n",
       "      <td>0.469</td>\n",
       "      <td>6.421</td>\n",
       "      <td>78.9</td>\n",
       "      <td>4.9671</td>\n",
       "      <td>2</td>\n",
       "      <td>242.0</td>\n",
       "      <td>17.8</td>\n",
       "      <td>396.9</td>\n",
       "      <td>9.14</td>\n",
       "      <td>21.6</td>\n",
       "    </tr>\n",
       "  </tbody>\n",
       "</table>\n",
       "</div>"
      ],
      "text/plain": [
       "      CRIM  ZN  INDUS  CHAS    NOX     RM   AGE     DIS  RAD    TAX  PTRATIO  \\\n",
       "0  0.00632 NaN   2.31     0  0.538  6.575  65.2  4.0900    1  296.0     15.3   \n",
       "1  0.02731 NaN   7.07     0  0.469  6.421  78.9  4.9671    2  242.0     17.8   \n",
       "\n",
       "       B  LSTAT  MEDV  \n",
       "0  396.9   4.98  24.0  \n",
       "1  396.9   9.14  21.6  "
      ]
     },
     "execution_count": 1,
     "metadata": {},
     "output_type": "execute_result"
    }
   ],
   "source": [
    "import pandas as pd\n",
    "\n",
    "df = pd.read_csv('https://raw.githubusercontent.com/Datamanim/datarepo/main/krdatacertificate/e2_p1_1.csv')\n",
    "df.head(2)"
   ]
  },
  {
   "cell_type": "markdown",
   "id": "9c5a33e8",
   "metadata": {},
   "source": [
    "```{admonition} 1-1\n",
    "주어진 Dataset에서 CRIM값이 가장 큰 10개의 지역을 구하고     \n",
    "10개의 지역의 CRIM값을 그 중 가장 작은 값으로 대체하라. 그리고          \n",
    "AGE 컬럼 값이 80이상인 대체 된 CRIM 평균값을 구하라      \n",
    "```"
   ]
  },
  {
   "cell_type": "code",
   "execution_count": 3,
   "id": "408143e8-432e-4a71-8ea5-881220769e73",
   "metadata": {
    "tags": []
   },
   "outputs": [
    {
     "data": {
      "text/plain": [
       "5.759386625"
      ]
     },
     "execution_count": 3,
     "metadata": {},
     "output_type": "execute_result"
    }
   ],
   "source": [
    "temp = df['CRIM'].sort_values(ascending=False).head(10)\n",
    "df.loc[df.index.isin(temp.index), 'CRIM'] = temp.sort_values().values[0]\n",
    "df.loc[df['AGE'] >= 80, 'CRIM'].mean()"
   ]
  },
  {
   "cell_type": "markdown",
   "id": "bce70f21-1b29-4572-84c3-60d854f0dd96",
   "metadata": {
    "ExecuteTime": {
     "end_time": "2021-06-12T06:35:32.658486Z",
     "start_time": "2021-06-12T06:35:32.655863Z"
    },
    "tags": [
     "hide-input"
    ]
   },
   "source": [
    "5.759386625"
   ]
  },
  {
   "cell_type": "markdown",
   "id": "aed5a985",
   "metadata": {},
   "source": [
    "```{admonition} 1-2\n",
    "**1-1에서 사용한 데이터에서 RM 중앙값으로 해당 컬럼의 결측치를 대체하라          \n",
    "그리고 해당 컬럼의 결측치 대치 전후의 표준편차 차이의 절댓값을 소숫점 이하 3째자리 까지 구하라**\n",
    "```"
   ]
  },
  {
   "cell_type": "code",
   "execution_count": 6,
   "id": "ed9f8b3a-c60c-4666-afd7-724b0a452f47",
   "metadata": {
    "tags": []
   },
   "outputs": [
    {
     "name": "stdout",
     "output_type": "stream",
     "text": [
      "0.027\n"
     ]
    }
   ],
   "source": [
    "v1 = df['RM'].std()\n",
    "v2 = df['RM'].fillna(df['RM'].median()).std()\n",
    "print(f'{abs(v2 - v1):.3f}')"
   ]
  },
  {
   "cell_type": "markdown",
   "id": "8332ab0b-6eb8-4b9b-95f3-1c00a3859ef0",
   "metadata": {
    "ExecuteTime": {
     "end_time": "2021-06-12T06:35:32.658486Z",
     "start_time": "2021-06-12T06:35:32.655863Z"
    },
    "tags": [
     "hide-input"
    ]
   },
   "source": [
    "0.027"
   ]
  },
  {
   "cell_type": "markdown",
   "id": "34679485",
   "metadata": {},
   "source": [
    "```{admonition} 1-3\n",
    "**주어진 Dataset의 DIS 평균으로 부터 1.5 * 표준편차를 벗어나는 영역을 이상치라고 판단하고     \n",
    "DIS 컬럼의 이상치들의 합을 구하여라.**\n",
    "```"
   ]
  },
  {
   "cell_type": "code",
   "execution_count": 10,
   "id": "2118da4e-c81d-4e24-bc4b-922559a3be86",
   "metadata": {
    "tags": []
   },
   "outputs": [
    {
     "data": {
      "text/plain": [
       "404.4101"
      ]
     },
     "execution_count": 10,
     "metadata": {},
     "output_type": "execute_result"
    }
   ],
   "source": [
    "m, s = df['DIS'].mean(), df['DIS'].std()\n",
    "df.loc[(df['DIS'] < (m - 1.5 * s)) | (df['DIS'] > (m + 1.5 * s)), 'DIS'].sum()"
   ]
  },
  {
   "cell_type": "markdown",
   "id": "8c42a7a2-2d17-4161-8a3f-d9ee6566227a",
   "metadata": {
    "ExecuteTime": {
     "end_time": "2021-06-12T06:35:32.658486Z",
     "start_time": "2021-06-12T06:35:32.655863Z"
    },
    "tags": [
     "hide-input"
    ]
   },
   "source": [
    "404.4101"
   ]
  },
  {
   "cell_type": "markdown",
   "id": "1f388d12",
   "metadata": {},
   "source": [
    "# 작업 2유형"
   ]
  },
  {
   "cell_type": "markdown",
   "id": "2c526730",
   "metadata": {},
   "source": [
    "```{attention}  \n",
    "데이터 설명 : e-commerce 배송의 정시 도착여부 (1: 정시배송 0 : 정시미배송)    \n",
    "x_train: https://raw.githubusercontent.com/Datamanim/datarepo/main/shipping/X_train.csv    \n",
    "y_train: https://raw.githubusercontent.com/Datamanim/datarepo/main/shipping/y_train.csv  \n",
    "x_test: https://raw.githubusercontent.com/Datamanim/datarepo/main/shipping/X_test.csv    \n",
    "x_label(평가용) : https://raw.githubusercontent.com/Datamanim/datarepo/main/shipping/y_test.csv    \n",
    "데이터 출처 :https://www.kaggle.com/datasets/prachi13/customer-analytics (참고, 데이터 수정)       \n",
    "\n",
    "**x_train 데이터로 학습한 모델을 x_test에 적용하여 예측한 결과를 제출하라. 평가 지표는 f1_score이다.**\n",
    "```  "
   ]
  },
  {
   "cell_type": "code",
   "execution_count": 25,
   "id": "d184184e",
   "metadata": {},
   "outputs": [
    {
     "data": {
      "text/html": [
       "<div>\n",
       "<style scoped>\n",
       "    .dataframe tbody tr th:only-of-type {\n",
       "        vertical-align: middle;\n",
       "    }\n",
       "\n",
       "    .dataframe tbody tr th {\n",
       "        vertical-align: top;\n",
       "    }\n",
       "\n",
       "    .dataframe thead th {\n",
       "        text-align: right;\n",
       "    }\n",
       "</style>\n",
       "<table border=\"1\" class=\"dataframe\">\n",
       "  <thead>\n",
       "    <tr style=\"text-align: right;\">\n",
       "      <th></th>\n",
       "      <th>ID</th>\n",
       "      <th>Warehouse_block</th>\n",
       "      <th>Mode_of_Shipment</th>\n",
       "      <th>Customer_care_calls</th>\n",
       "      <th>Customer_rating</th>\n",
       "      <th>Cost_of_the_Product</th>\n",
       "      <th>Prior_purchases</th>\n",
       "      <th>Product_importance</th>\n",
       "      <th>Gender</th>\n",
       "      <th>Discount_offered</th>\n",
       "      <th>Weight_in_gms</th>\n",
       "    </tr>\n",
       "  </thead>\n",
       "  <tbody>\n",
       "    <tr>\n",
       "      <th>0</th>\n",
       "      <td>6045</td>\n",
       "      <td>A</td>\n",
       "      <td>Flight</td>\n",
       "      <td>4</td>\n",
       "      <td>3</td>\n",
       "      <td>266</td>\n",
       "      <td>5</td>\n",
       "      <td>high</td>\n",
       "      <td>F</td>\n",
       "      <td>5</td>\n",
       "      <td>1590</td>\n",
       "    </tr>\n",
       "    <tr>\n",
       "      <th>1</th>\n",
       "      <td>44</td>\n",
       "      <td>F</td>\n",
       "      <td>Ship</td>\n",
       "      <td>3</td>\n",
       "      <td>1</td>\n",
       "      <td>174</td>\n",
       "      <td>2</td>\n",
       "      <td>low</td>\n",
       "      <td>M</td>\n",
       "      <td>44</td>\n",
       "      <td>1556</td>\n",
       "    </tr>\n",
       "    <tr>\n",
       "      <th>2</th>\n",
       "      <td>7940</td>\n",
       "      <td>F</td>\n",
       "      <td>Road</td>\n",
       "      <td>4</td>\n",
       "      <td>1</td>\n",
       "      <td>154</td>\n",
       "      <td>10</td>\n",
       "      <td>high</td>\n",
       "      <td>M</td>\n",
       "      <td>10</td>\n",
       "      <td>5674</td>\n",
       "    </tr>\n",
       "    <tr>\n",
       "      <th>3</th>\n",
       "      <td>1596</td>\n",
       "      <td>F</td>\n",
       "      <td>Ship</td>\n",
       "      <td>4</td>\n",
       "      <td>3</td>\n",
       "      <td>158</td>\n",
       "      <td>3</td>\n",
       "      <td>medium</td>\n",
       "      <td>F</td>\n",
       "      <td>27</td>\n",
       "      <td>1207</td>\n",
       "    </tr>\n",
       "    <tr>\n",
       "      <th>4</th>\n",
       "      <td>4395</td>\n",
       "      <td>A</td>\n",
       "      <td>Flight</td>\n",
       "      <td>5</td>\n",
       "      <td>3</td>\n",
       "      <td>175</td>\n",
       "      <td>3</td>\n",
       "      <td>low</td>\n",
       "      <td>M</td>\n",
       "      <td>7</td>\n",
       "      <td>4833</td>\n",
       "    </tr>\n",
       "  </tbody>\n",
       "</table>\n",
       "</div>"
      ],
      "text/plain": [
       "     ID Warehouse_block Mode_of_Shipment Customer_care_calls  Customer_rating  \\\n",
       "0  6045               A           Flight                   4                3   \n",
       "1    44               F             Ship                   3                1   \n",
       "2  7940               F             Road                   4                1   \n",
       "3  1596               F             Ship                   4                3   \n",
       "4  4395               A           Flight                   5                3   \n",
       "\n",
       "   Cost_of_the_Product  Prior_purchases Product_importance Gender  \\\n",
       "0                  266                5               high      F   \n",
       "1                  174                2                low      M   \n",
       "2                  154               10               high      M   \n",
       "3                  158                3             medium      F   \n",
       "4                  175                3                low      M   \n",
       "\n",
       "   Discount_offered  Weight_in_gms  \n",
       "0                 5           1590  \n",
       "1                44           1556  \n",
       "2                10           5674  \n",
       "3                27           1207  \n",
       "4                 7           4833  "
      ]
     },
     "metadata": {},
     "output_type": "display_data"
    },
    {
     "data": {
      "text/html": [
       "<div>\n",
       "<style scoped>\n",
       "    .dataframe tbody tr th:only-of-type {\n",
       "        vertical-align: middle;\n",
       "    }\n",
       "\n",
       "    .dataframe tbody tr th {\n",
       "        vertical-align: top;\n",
       "    }\n",
       "\n",
       "    .dataframe thead th {\n",
       "        text-align: right;\n",
       "    }\n",
       "</style>\n",
       "<table border=\"1\" class=\"dataframe\">\n",
       "  <thead>\n",
       "    <tr style=\"text-align: right;\">\n",
       "      <th></th>\n",
       "      <th>ID</th>\n",
       "      <th>Reached.on.Time_Y.N</th>\n",
       "    </tr>\n",
       "  </thead>\n",
       "  <tbody>\n",
       "    <tr>\n",
       "      <th>0</th>\n",
       "      <td>6045</td>\n",
       "      <td>0</td>\n",
       "    </tr>\n",
       "    <tr>\n",
       "      <th>1</th>\n",
       "      <td>44</td>\n",
       "      <td>1</td>\n",
       "    </tr>\n",
       "    <tr>\n",
       "      <th>2</th>\n",
       "      <td>7940</td>\n",
       "      <td>1</td>\n",
       "    </tr>\n",
       "    <tr>\n",
       "      <th>3</th>\n",
       "      <td>1596</td>\n",
       "      <td>1</td>\n",
       "    </tr>\n",
       "    <tr>\n",
       "      <th>4</th>\n",
       "      <td>4395</td>\n",
       "      <td>1</td>\n",
       "    </tr>\n",
       "  </tbody>\n",
       "</table>\n",
       "</div>"
      ],
      "text/plain": [
       "     ID  Reached.on.Time_Y.N\n",
       "0  6045                    0\n",
       "1    44                    1\n",
       "2  7940                    1\n",
       "3  1596                    1\n",
       "4  4395                    1"
      ]
     },
     "metadata": {},
     "output_type": "display_data"
    }
   ],
   "source": []
  },
  {
   "cell_type": "code",
   "execution_count": 61,
   "id": "f1543ecc-6562-42c0-af29-123a99aed76e",
   "metadata": {
    "tags": []
   },
   "outputs": [],
   "source": [
    "import pandas as pd\n",
    "\n",
    "from sklearn.linear_model import LogisticRegression\n",
    "from sklearn.neighbors import KNeighborsClassifier\n",
    "from sklearn.tree import DecisionTreeClassifier\n",
    "from sklearn.ensemble import RandomForestClassifier\n",
    "from xgboost import XGBClassifier\n",
    "\n",
    "from sklearn.preprocessing import MinMaxScaler, StandardScaler, LabelEncoder\n",
    "from sklearn.model_selection import train_test_split\n",
    "from sklearn.metrics import f1_score, accuracy_score, precision_score, recall_score, roc_auc_score"
   ]
  },
  {
   "cell_type": "code",
   "execution_count": 62,
   "id": "afed7209-cf4b-4419-ae52-cc66ebf635e0",
   "metadata": {
    "tags": []
   },
   "outputs": [],
   "source": [
    "def get_model_score(model, xtrain, xtest, ytrain, ytest):\n",
    "    A1 = model.score(xtrain, ytrain)\n",
    "    A2 = model.score(xtest, ytest)\n",
    "    \n",
    "    ypred = model.predict(xtest)\n",
    "    B = f1_score(ytest, ypred)\n",
    "    C = precision_score(ytest, ypred)\n",
    "    D = recall_score(ytest, ypred)\n",
    "    \n",
    "    ypred1 = model.predict_proba(xtest)[:,1]\n",
    "    E = roc_auc_score(ytest, ypred1)\n",
    "    \n",
    "    return pd.Series([A1, A2, B, C, D, E], index='Train_Accuracy Test_Accuracy F1 Precision Recall ROC'.split())"
   ]
  },
  {
   "cell_type": "code",
   "execution_count": 40,
   "id": "f65add6a-4a42-4372-afdf-e3388b49f5ad",
   "metadata": {
    "tags": []
   },
   "outputs": [],
   "source": [
    "def compare_model(xtrain, xtest, ytrain, ytest):\n",
    "    result = pd.DataFrame()\n",
    "    \n",
    "    model = LogisticRegression().fit(xtrain, ytrain)\n",
    "    result[f'{model.__class__.__name__}'] = get_model_score(model, xtrain, xtest, ytrain, ytest)\n",
    "    \n",
    "    model = KNeighborsClassifier().fit(xtrain, ytrain)\n",
    "    result[f'{model.__class__.__name__}'] = get_model_score(model, xtrain, xtest, ytrain, ytest)\n",
    "    \n",
    "    model = DecisionTreeClassifier(random_state=1111).fit(xtrain, ytrain)\n",
    "    result[f'{model.__class__.__name__}'] = get_model_score(model, xtrain, xtest, ytrain, ytest)\n",
    "    \n",
    "    model = RandomForestClassifier(random_state=1111).fit(xtrain, ytrain)\n",
    "    result[f'{model.__class__.__name__}'] = get_model_score(model, xtrain, xtest, ytrain, ytest)\n",
    "    \n",
    "    model = XGBClassifier().fit(xtrain, ytrain)\n",
    "    result[f'{model.__class__.__name__}'] = get_model_score(model, xtrain, xtest, ytrain, ytest)\n",
    "    \n",
    "    result = result.T\n",
    "    result.insert(2, 'DIFF', (result['Train_Accuracy']-result['Test_Accuracy']).abs())\n",
    "    return result"
   ]
  },
  {
   "cell_type": "code",
   "execution_count": 42,
   "id": "cb6763db-6f42-418d-9948-2d99a205bdc1",
   "metadata": {
    "tags": []
   },
   "outputs": [],
   "source": [
    "def get_model_data(dfX, Y, train_size, x_features, y_feature, is_normalized=False):\n",
    "    X_temp = dfX[x_features]\n",
    "    YF = Y[y_feature]\n",
    "    \n",
    "    if is_normalized:\n",
    "        X_temp = MinMaxScaler().fit_transform(X_temp)\n",
    "        \n",
    "    XF = X_temp[:train_size]\n",
    "    X_submissionF = X_temp[train_size:]\n",
    "    \n",
    "    return XF, X_submissionF, YF"
   ]
  },
  {
   "cell_type": "code",
   "execution_count": 14,
   "id": "5678ddeb-f7f6-4f64-a8b1-650abbf3b007",
   "metadata": {
    "tags": []
   },
   "outputs": [],
   "source": [
    "pd.options.display.max_rows = 2000\n",
    "pd.options.display.max_columns = 25\n",
    "pd.options.display.float_format = '{:,.4f}'.format"
   ]
  },
  {
   "cell_type": "code",
   "execution_count": 15,
   "id": "3ae0c86d-7957-4c0c-93a3-35de34503ea6",
   "metadata": {
    "tags": []
   },
   "outputs": [],
   "source": [
    "X = pd.read_csv('https://raw.githubusercontent.com/Datamanim/datarepo/main/shipping/X_train.csv')\n",
    "Y = pd.read_csv('https://raw.githubusercontent.com/Datamanim/datarepo/main/shipping/y_train.csv')\n",
    "X_submission = pd.read_csv('https://raw.githubusercontent.com/Datamanim/datarepo/main/shipping/X_test.csv')\n",
    "Y_actual = pd.read_csv('https://raw.githubusercontent.com/Datamanim/datarepo/main/shipping/y_test.csv')"
   ]
  },
  {
   "cell_type": "code",
   "execution_count": 16,
   "id": "b06f24e2-7780-4e92-92f8-75f25edf910b",
   "metadata": {
    "tags": []
   },
   "outputs": [
    {
     "name": "stdout",
     "output_type": "stream",
     "text": [
      "<class 'pandas.core.frame.DataFrame'>\n",
      "RangeIndex: 6598 entries, 0 to 6597\n",
      "Data columns (total 11 columns):\n",
      " #   Column               Non-Null Count  Dtype \n",
      "---  ------               --------------  ----- \n",
      " 0   ID                   6598 non-null   int64 \n",
      " 1   Warehouse_block      6598 non-null   object\n",
      " 2   Mode_of_Shipment     6598 non-null   object\n",
      " 3   Customer_care_calls  6598 non-null   object\n",
      " 4   Customer_rating      6598 non-null   int64 \n",
      " 5   Cost_of_the_Product  6598 non-null   int64 \n",
      " 6   Prior_purchases      6598 non-null   int64 \n",
      " 7   Product_importance   6598 non-null   object\n",
      " 8   Gender               6598 non-null   object\n",
      " 9   Discount_offered     6598 non-null   int64 \n",
      " 10  Weight_in_gms        6598 non-null   int64 \n",
      "dtypes: int64(6), object(5)\n",
      "memory usage: 567.1+ KB\n"
     ]
    }
   ],
   "source": [
    "X.info()"
   ]
  },
  {
   "cell_type": "code",
   "execution_count": 17,
   "id": "fc936a99-2919-4f26-ac23-b7eb8f8aa3c5",
   "metadata": {
    "tags": []
   },
   "outputs": [
    {
     "name": "stdout",
     "output_type": "stream",
     "text": [
      "<class 'pandas.core.frame.DataFrame'>\n",
      "RangeIndex: 4401 entries, 0 to 4400\n",
      "Data columns (total 11 columns):\n",
      " #   Column               Non-Null Count  Dtype \n",
      "---  ------               --------------  ----- \n",
      " 0   ID                   4401 non-null   int64 \n",
      " 1   Warehouse_block      4401 non-null   object\n",
      " 2   Mode_of_Shipment     4401 non-null   object\n",
      " 3   Customer_care_calls  4401 non-null   object\n",
      " 4   Customer_rating      4401 non-null   int64 \n",
      " 5   Cost_of_the_Product  4401 non-null   int64 \n",
      " 6   Prior_purchases      4401 non-null   int64 \n",
      " 7   Product_importance   4401 non-null   object\n",
      " 8   Gender               4401 non-null   object\n",
      " 9   Discount_offered     4401 non-null   int64 \n",
      " 10  Weight_in_gms        4401 non-null   int64 \n",
      "dtypes: int64(6), object(5)\n",
      "memory usage: 378.3+ KB\n"
     ]
    }
   ],
   "source": [
    "X_submission.info()"
   ]
  },
  {
   "cell_type": "code",
   "execution_count": 18,
   "id": "328e2e43-f2ae-4235-a5d9-7a1c991304dc",
   "metadata": {
    "tags": []
   },
   "outputs": [
    {
     "name": "stdout",
     "output_type": "stream",
     "text": [
      "<class 'pandas.core.frame.DataFrame'>\n",
      "RangeIndex: 6598 entries, 0 to 6597\n",
      "Data columns (total 2 columns):\n",
      " #   Column               Non-Null Count  Dtype\n",
      "---  ------               --------------  -----\n",
      " 0   ID                   6598 non-null   int64\n",
      " 1   Reached.on.Time_Y.N  6598 non-null   int64\n",
      "dtypes: int64(2)\n",
      "memory usage: 103.2 KB\n"
     ]
    }
   ],
   "source": [
    "Y.info()"
   ]
  },
  {
   "cell_type": "code",
   "execution_count": 19,
   "id": "a9b7ff82-1859-4713-8339-1817fd18f274",
   "metadata": {
    "tags": []
   },
   "outputs": [],
   "source": [
    "dfX = pd.concat([X, X_submission], axis=0, ignore_index=True)"
   ]
  },
  {
   "cell_type": "code",
   "execution_count": 20,
   "id": "02352b01-1445-42f6-8ae6-01dae43f910b",
   "metadata": {
    "tags": []
   },
   "outputs": [
    {
     "data": {
      "text/plain": [
       "0"
      ]
     },
     "execution_count": 20,
     "metadata": {},
     "output_type": "execute_result"
    }
   ],
   "source": [
    "dfX.isna().sum().sum()"
   ]
  },
  {
   "cell_type": "code",
   "execution_count": 36,
   "id": "8d9d580b-e3c4-477d-be17-db8ffbe3c4bc",
   "metadata": {
    "tags": []
   },
   "outputs": [],
   "source": [
    "for feature in dfX.select_dtypes(include='object').columns:\n",
    "    print(f'{feature} : {dfX[feature].unique()}')"
   ]
  },
  {
   "cell_type": "code",
   "execution_count": 26,
   "id": "20ac87a8-c624-4932-bd7f-83a1073ecb8f",
   "metadata": {
    "tags": []
   },
   "outputs": [],
   "source": [
    "dfX['Customer_care_calls'] = dfX['Customer_care_calls'].replace(r'\\$', '', regex=True).astype('int')"
   ]
  },
  {
   "cell_type": "code",
   "execution_count": 29,
   "id": "626c35c7-c6d3-46e5-918d-b3c84bd53444",
   "metadata": {
    "tags": []
   },
   "outputs": [],
   "source": [
    "dfX['Gender'] = dfX['Gender'].replace(['F', 'M'], [0, 1])"
   ]
  },
  {
   "cell_type": "code",
   "execution_count": 32,
   "id": "dab4bd7e-5402-4f4f-9941-cba59d99bd8c",
   "metadata": {
    "tags": []
   },
   "outputs": [],
   "source": [
    "dfX['Warehouse_block'] = LabelEncoder().fit_transform(dfX['Warehouse_block'])"
   ]
  },
  {
   "cell_type": "code",
   "execution_count": 35,
   "id": "96332174-36f4-4bfa-8d45-083302fa2442",
   "metadata": {
    "tags": []
   },
   "outputs": [],
   "source": [
    "features = ['Mode_of_Shipment', 'Product_importance']\n",
    "temp = dfX.drop(columns=features)\n",
    "temp_list = [temp]\n",
    "\n",
    "for feature in features:\n",
    "    temp = pd.get_dummies(dfX[feature])\n",
    "    temp_list.append(temp)\n",
    "    \n",
    "dfX = pd.concat(temp_list, axis=1)"
   ]
  },
  {
   "cell_type": "code",
   "execution_count": 38,
   "id": "eb86570d-8b35-44a8-89c6-66f56c16cb00",
   "metadata": {
    "tags": []
   },
   "outputs": [
    {
     "name": "stdout",
     "output_type": "stream",
     "text": [
      "<class 'pandas.core.frame.DataFrame'>\n",
      "RangeIndex: 10999 entries, 0 to 10998\n",
      "Data columns (total 15 columns):\n",
      " #   Column               Non-Null Count  Dtype\n",
      "---  ------               --------------  -----\n",
      " 0   ID                   10999 non-null  int64\n",
      " 1   Warehouse_block      10999 non-null  int64\n",
      " 2   Customer_care_calls  10999 non-null  int64\n",
      " 3   Customer_rating      10999 non-null  int64\n",
      " 4   Cost_of_the_Product  10999 non-null  int64\n",
      " 5   Prior_purchases      10999 non-null  int64\n",
      " 6   Gender               10999 non-null  int64\n",
      " 7   Discount_offered     10999 non-null  int64\n",
      " 8   Weight_in_gms        10999 non-null  int64\n",
      " 9   Flight               10999 non-null  uint8\n",
      " 10  Road                 10999 non-null  uint8\n",
      " 11  Ship                 10999 non-null  uint8\n",
      " 12  high                 10999 non-null  uint8\n",
      " 13  low                  10999 non-null  uint8\n",
      " 14  medium               10999 non-null  uint8\n",
      "dtypes: int64(9), uint8(6)\n",
      "memory usage: 837.9 KB\n"
     ]
    }
   ],
   "source": [
    "dfX.info()"
   ]
  },
  {
   "cell_type": "code",
   "execution_count": 46,
   "id": "90e94b3a-2b49-4051-b89a-924f9471875c",
   "metadata": {
    "tags": []
   },
   "outputs": [],
   "source": [
    "x_features = ['Warehouse_block', 'Customer_care_calls', 'Customer_rating', 'Cost_of_the_Product', 'Prior_purchases', 'Gender', 'Discount_offered', 'Weight_in_gms', 'Flight', 'Road', 'Ship', 'high', 'low', 'medium']\n",
    "y_feature = 'Reached.on.Time_Y.N'"
   ]
  },
  {
   "cell_type": "code",
   "execution_count": 47,
   "id": "8f68e7b0-9c24-41f2-8c9c-890e5998ef58",
   "metadata": {
    "tags": []
   },
   "outputs": [],
   "source": [
    "XF, X_submissionF, YF = get_model_data(dfX, Y, len(X), x_features, y_feature, is_normalized=False)"
   ]
  },
  {
   "cell_type": "code",
   "execution_count": 48,
   "id": "d0ad12eb-0fd2-4b83-92b4-a0c6a4b44ca4",
   "metadata": {
    "tags": []
   },
   "outputs": [],
   "source": [
    "xtrain, xtest, ytrain, ytest = train_test_split(XF, YF, test_size=0.3, random_state=1111, stratify=YF)"
   ]
  },
  {
   "cell_type": "code",
   "execution_count": 64,
   "id": "f08c68c3-2f95-4572-bc91-cae2f8bdb148",
   "metadata": {
    "tags": []
   },
   "outputs": [],
   "source": [
    "result = compare_model(xtrain, xtest, ytrain, ytest)"
   ]
  },
  {
   "cell_type": "code",
   "execution_count": 65,
   "id": "4090b2dc-ad98-41d0-9875-016a58e6dc2d",
   "metadata": {
    "tags": []
   },
   "outputs": [
    {
     "data": {
      "text/html": [
       "<div>\n",
       "<style scoped>\n",
       "    .dataframe tbody tr th:only-of-type {\n",
       "        vertical-align: middle;\n",
       "    }\n",
       "\n",
       "    .dataframe tbody tr th {\n",
       "        vertical-align: top;\n",
       "    }\n",
       "\n",
       "    .dataframe thead th {\n",
       "        text-align: right;\n",
       "    }\n",
       "</style>\n",
       "<table border=\"1\" class=\"dataframe\">\n",
       "  <thead>\n",
       "    <tr style=\"text-align: right;\">\n",
       "      <th></th>\n",
       "      <th>Train_Accuracy</th>\n",
       "      <th>Test_Accuracy</th>\n",
       "      <th>DIFF</th>\n",
       "      <th>F1</th>\n",
       "      <th>Precision</th>\n",
       "      <th>Recall</th>\n",
       "      <th>ROC</th>\n",
       "    </tr>\n",
       "  </thead>\n",
       "  <tbody>\n",
       "    <tr>\n",
       "      <th>DecisionTreeClassifier</th>\n",
       "      <td>1.0000</td>\n",
       "      <td>0.6449</td>\n",
       "      <td>0.3551</td>\n",
       "      <td>0.7022</td>\n",
       "      <td>0.7025</td>\n",
       "      <td>0.7019</td>\n",
       "      <td>0.6313</td>\n",
       "    </tr>\n",
       "    <tr>\n",
       "      <th>RandomForestClassifier</th>\n",
       "      <td>1.0000</td>\n",
       "      <td>0.6601</td>\n",
       "      <td>0.3399</td>\n",
       "      <td>0.6889</td>\n",
       "      <td>0.7587</td>\n",
       "      <td>0.6308</td>\n",
       "      <td>0.7379</td>\n",
       "    </tr>\n",
       "    <tr>\n",
       "      <th>XGBClassifier</th>\n",
       "      <td>0.9628</td>\n",
       "      <td>0.6561</td>\n",
       "      <td>0.3067</td>\n",
       "      <td>0.6985</td>\n",
       "      <td>0.7319</td>\n",
       "      <td>0.6681</td>\n",
       "      <td>0.7426</td>\n",
       "    </tr>\n",
       "    <tr>\n",
       "      <th>KNeighborsClassifier</th>\n",
       "      <td>0.7806</td>\n",
       "      <td>0.6596</td>\n",
       "      <td>0.1210</td>\n",
       "      <td>0.7049</td>\n",
       "      <td>0.7298</td>\n",
       "      <td>0.6816</td>\n",
       "      <td>0.7385</td>\n",
       "    </tr>\n",
       "    <tr>\n",
       "      <th>LogisticRegression</th>\n",
       "      <td>0.6397</td>\n",
       "      <td>0.6414</td>\n",
       "      <td>0.0017</td>\n",
       "      <td>0.6934</td>\n",
       "      <td>0.7075</td>\n",
       "      <td>0.6799</td>\n",
       "      <td>0.7138</td>\n",
       "    </tr>\n",
       "  </tbody>\n",
       "</table>\n",
       "</div>"
      ],
      "text/plain": [
       "                        Train_Accuracy  Test_Accuracy   DIFF     F1  \\\n",
       "DecisionTreeClassifier          1.0000         0.6449 0.3551 0.7022   \n",
       "RandomForestClassifier          1.0000         0.6601 0.3399 0.6889   \n",
       "XGBClassifier                   0.9628         0.6561 0.3067 0.6985   \n",
       "KNeighborsClassifier            0.7806         0.6596 0.1210 0.7049   \n",
       "LogisticRegression              0.6397         0.6414 0.0017 0.6934   \n",
       "\n",
       "                        Precision  Recall    ROC  \n",
       "DecisionTreeClassifier     0.7025  0.7019 0.6313  \n",
       "RandomForestClassifier     0.7587  0.6308 0.7379  \n",
       "XGBClassifier              0.7319  0.6681 0.7426  \n",
       "KNeighborsClassifier       0.7298  0.6816 0.7385  \n",
       "LogisticRegression         0.7075  0.6799 0.7138  "
      ]
     },
     "execution_count": 65,
     "metadata": {},
     "output_type": "execute_result"
    }
   ],
   "source": [
    "result.sort_values(['Train_Accuracy'], ascending=[False])"
   ]
  },
  {
   "cell_type": "code",
   "execution_count": 53,
   "id": "8ae431ce-cab3-4cc4-bfea-b681db37d1e8",
   "metadata": {
    "tags": []
   },
   "outputs": [
    {
     "name": "stdout",
     "output_type": "stream",
     "text": [
      "Train_Accuracy   1.0000\n",
      "Test_Accuracy    0.6449\n",
      "F1               0.7022\n",
      "dtype: float64\n"
     ]
    }
   ],
   "source": [
    "model = DecisionTreeClassifier(random_state=1111).fit(xtrain, ytrain)\n",
    "print(get_model_score(model, xtrain, xtest, ytrain, ytest))"
   ]
  },
  {
   "cell_type": "code",
   "execution_count": 54,
   "id": "dbe20f9c-4b68-4ec7-a192-a16631aed269",
   "metadata": {
    "tags": []
   },
   "outputs": [],
   "source": [
    "Y_pred = model.predict(X_submissionF)"
   ]
  },
  {
   "cell_type": "code",
   "execution_count": 56,
   "id": "fe5b4316-efbb-481c-b54c-74bf8390e0b8",
   "metadata": {
    "tags": []
   },
   "outputs": [],
   "source": [
    "submission = pd.DataFrame({'ID': X_submission['ID'], y_feature: Y_pred})"
   ]
  },
  {
   "cell_type": "code",
   "execution_count": 57,
   "id": "5fbf0bc9-ca3e-480d-833c-e265994a16bd",
   "metadata": {
    "tags": []
   },
   "outputs": [],
   "source": [
    "submission.to_csv('./01029120956.csv', index=False)"
   ]
  },
  {
   "cell_type": "code",
   "execution_count": 58,
   "id": "4bf768e2-d24c-4259-a417-76571eb2a009",
   "metadata": {
    "tags": []
   },
   "outputs": [],
   "source": [
    "Y_predict = pd.read_csv('./01029120956.csv')"
   ]
  },
  {
   "cell_type": "code",
   "execution_count": 59,
   "id": "fb2634eb-c7dc-4452-9a09-6cdb87ca1041",
   "metadata": {
    "tags": []
   },
   "outputs": [
    {
     "name": "stdout",
     "output_type": "stream",
     "text": [
      "0.6966378482228626\n"
     ]
    }
   ],
   "source": [
    "print(f1_score(Y_actual[y_feature], Y_predict[y_feature]))"
   ]
  },
  {
   "cell_type": "markdown",
   "id": "580b16ba-a9a4-4ca4-bc0a-b82cd7c5aec7",
   "metadata": {
    "tags": [
     "hide-cell"
    ]
   },
   "source": [
    "```\n",
    "train accuracy : 1.0\n",
    "validation accuracy : 0.6395775941230487\n",
    "\n",
    "train f1_score : 1.0\n",
    "validation f1_score : 0.6744089589382\n",
    "\n",
    "train recall_score : 1.0\n",
    "validation recall_score : 0.630721489526765\n",
    "\n",
    "train precision_score : 1.0\n",
    "validation precision_score : 0.7245989304812834\n",
    "\n",
    "train auc : 1.0\n",
    "validation auc : 0.7261997118475008\n",
    "````"
   ]
  },
  {
   "cell_type": "markdown",
   "id": "8638ee67",
   "metadata": {},
   "source": [
    "# 작업 3유형"
   ]
  },
  {
   "cell_type": "markdown",
   "id": "d7e952b7",
   "metadata": {},
   "source": [
    "```{attention} \n",
    "어느 호수에서 잡은 물고기 122마리 길이 데이터(자체제작)\n",
    "**DataUrl = https://raw.githubusercontent.com/Datamanim/datarepo/main/krdatacertificate/e2_p3_1.csv**\n",
    "```"
   ]
  },
  {
   "cell_type": "code",
   "execution_count": 66,
   "id": "6d902027",
   "metadata": {
    "tags": []
   },
   "outputs": [
    {
     "data": {
      "text/html": [
       "<div>\n",
       "<style scoped>\n",
       "    .dataframe tbody tr th:only-of-type {\n",
       "        vertical-align: middle;\n",
       "    }\n",
       "\n",
       "    .dataframe tbody tr th {\n",
       "        vertical-align: top;\n",
       "    }\n",
       "\n",
       "    .dataframe thead th {\n",
       "        text-align: right;\n",
       "    }\n",
       "</style>\n",
       "<table border=\"1\" class=\"dataframe\">\n",
       "  <thead>\n",
       "    <tr style=\"text-align: right;\">\n",
       "      <th></th>\n",
       "      <th>fish</th>\n",
       "      <th>height</th>\n",
       "    </tr>\n",
       "  </thead>\n",
       "  <tbody>\n",
       "    <tr>\n",
       "      <th>0</th>\n",
       "      <td>fish_1</td>\n",
       "      <td>33.74cm</td>\n",
       "    </tr>\n",
       "    <tr>\n",
       "      <th>1</th>\n",
       "      <td>fish_2</td>\n",
       "      <td>31.64cm</td>\n",
       "    </tr>\n",
       "    <tr>\n",
       "      <th>2</th>\n",
       "      <td>fish_3</td>\n",
       "      <td>27.49cm</td>\n",
       "    </tr>\n",
       "    <tr>\n",
       "      <th>3</th>\n",
       "      <td>fish_4</td>\n",
       "      <td>31.43cm</td>\n",
       "    </tr>\n",
       "    <tr>\n",
       "      <th>4</th>\n",
       "      <td>fish_5</td>\n",
       "      <td>27.56cm</td>\n",
       "    </tr>\n",
       "  </tbody>\n",
       "</table>\n",
       "</div>"
      ],
      "text/plain": [
       "     fish   height\n",
       "0  fish_1  33.74cm\n",
       "1  fish_2  31.64cm\n",
       "2  fish_3  27.49cm\n",
       "3  fish_4  31.43cm\n",
       "4  fish_5  27.56cm"
      ]
     },
     "execution_count": 66,
     "metadata": {},
     "output_type": "execute_result"
    }
   ],
   "source": [
    "import pandas as pd\n",
    "\n",
    "df = pd.read_csv('https://raw.githubusercontent.com/Datamanim/datarepo/main/krdatacertificate/e2_p3_1.csv')\n",
    "df.head()"
   ]
  },
  {
   "cell_type": "markdown",
   "id": "fdd83bf9",
   "metadata": {},
   "source": [
    "```{admonition} 3-1-a\n",
    "**122마리의 height 평균값을 m(미터) 단위로 소숫점 이하 5자리까지 실수 값만 출력하라**\n",
    "```"
   ]
  },
  {
   "cell_type": "code",
   "execution_count": 74,
   "id": "fb1ed7e3-1bab-4da9-b108-22f7eb3b3dd6",
   "metadata": {
    "tags": []
   },
   "outputs": [
    {
     "name": "stdout",
     "output_type": "stream",
     "text": [
      "0.29951\n"
     ]
    }
   ],
   "source": [
    "df['height2'] = df['height'].replace(r'cm', '', regex=True).astype('float') / 100\n",
    "print(round(df['height2'].mean(), 5))"
   ]
  },
  {
   "cell_type": "markdown",
   "id": "4e4c687d-0594-4360-a1d3-58eb7daf3416",
   "metadata": {
    "ExecuteTime": {
     "end_time": "2021-06-12T06:35:32.658486Z",
     "start_time": "2021-06-12T06:35:32.655863Z"
    },
    "tags": [
     "hide-input"
    ]
   },
   "source": [
    "0.29951"
   ]
  },
  {
   "cell_type": "markdown",
   "id": "7164c60d",
   "metadata": {},
   "source": [
    "```{admonition} 3-1-b\n",
    "**모집단의 평균 길이가 30cm 인지 확인하려 일표본 t 검정을 시행하여 확인하려한다. 검정통계량을 소숫점 이하 3째자리까지 구하여라**\n",
    "```"
   ]
  },
  {
   "cell_type": "code",
   "execution_count": 75,
   "id": "14fcf702-994f-492e-9ac1-99de447504b7",
   "metadata": {
    "tags": []
   },
   "outputs": [],
   "source": [
    "from scipy.stats import ttest_1samp"
   ]
  },
  {
   "cell_type": "code",
   "execution_count": 77,
   "id": "6618114c-d8e3-4ec8-979a-e4f26da03c88",
   "metadata": {
    "tags": []
   },
   "outputs": [
    {
     "name": "stdout",
     "output_type": "stream",
     "text": [
      "-0.217\n"
     ]
    }
   ],
   "source": [
    "tvalue, pvalue = ttest_1samp(df['height2'], 0.3, alternative='two-sided')\n",
    "print(f'{tvalue:.3f}')"
   ]
  },
  {
   "cell_type": "markdown",
   "id": "81d062ad-6969-49d7-8b08-1bade94820a8",
   "metadata": {
    "ExecuteTime": {
     "end_time": "2021-06-12T06:35:32.658486Z",
     "start_time": "2021-06-12T06:35:32.655863Z"
    },
    "tags": [
     "hide-input"
    ]
   },
   "source": [
    "-0.217"
   ]
  },
  {
   "cell_type": "markdown",
   "id": "e7d1ed1f",
   "metadata": {},
   "source": [
    "```{admonition} 3-1-c\n",
    "**위의 통계량에 대한 p-값을 구하고 (반올림하여 소숫점 이하 3째자리), 유의수준 0.05하에서 귀무가설과 대립가설중 유의한 가설을 하나를 선택하시오(귀무/대립)**\n",
    "```"
   ]
  },
  {
   "cell_type": "code",
   "execution_count": 79,
   "id": "bf47a7af-e7f6-4718-8351-2e9a042eca9f",
   "metadata": {
    "tags": []
   },
   "outputs": [
    {
     "name": "stdout",
     "output_type": "stream",
     "text": [
      "0.829\n",
      "귀무\n"
     ]
    }
   ],
   "source": [
    "print(f'{pvalue:.3f}')\n",
    "print(f'{\"대립\" if pvalue < 0.05 else \"귀무\"}')"
   ]
  },
  {
   "cell_type": "markdown",
   "id": "74b177d7-aacc-4296-ab11-00e8656a22c3",
   "metadata": {
    "ExecuteTime": {
     "end_time": "2021-06-12T06:35:32.658486Z",
     "start_time": "2021-06-12T06:35:32.655863Z"
    },
    "tags": [
     "hide-input"
    ]
   },
   "source": [
    "```\n",
    "0.829\n",
    "귀무\n",
    "````\n"
   ]
  },
  {
   "cell_type": "markdown",
   "id": "428d99ce",
   "metadata": {},
   "source": [
    "```{attention} \n",
    "조사결과 70%의 성인 남성이 3년 동안에 적어도 1번 치과를 찾는다고 할때, 21명의 성인 남성이 임의로 추출되었다고 하자. \n",
    "```"
   ]
  },
  {
   "cell_type": "markdown",
   "id": "dc854154",
   "metadata": {},
   "source": [
    "```{admonition} 3-2 - a\n",
    "**21명 중 16명 미만이 치과를 찾았을 확률(반올림하여 소숫점 이하 3자리)**\n",
    "```"
   ]
  },
  {
   "cell_type": "code",
   "execution_count": 44,
   "id": "0bc2178c",
   "metadata": {
    "ExecuteTime": {
     "end_time": "2021-06-12T06:35:32.658486Z",
     "start_time": "2021-06-12T06:35:32.655863Z"
    },
    "tags": [
     "hide-input"
    ]
   },
   "outputs": [
    {
     "name": "stdout",
     "output_type": "stream",
     "text": [
      "0.637\n"
     ]
    }
   ],
   "source": [
    "from scipy.stats import binom\n",
    "\n",
    "n = 21\n",
    "p = 0.7\n",
    "k = 16\n",
    "\n",
    "# P(X < k) 계산\n",
    "prob = binom.cdf(k-1, n, p)\n",
    "print(round(prob, 3))"
   ]
  },
  {
   "cell_type": "code",
   "execution_count": 99,
   "id": "12a9e50a-0d42-480d-8541-ef6612d389cd",
   "metadata": {
    "tags": []
   },
   "outputs": [
    {
     "data": {
      "text/plain": [
       "0.027129370541188025"
      ]
     },
     "execution_count": 99,
     "metadata": {},
     "output_type": "execute_result"
    }
   ],
   "source": [
    "from scipy.stats import binom\n",
    "\n",
    "binom(n=21, p=0.7).cdf(16-1)\n",
    "1 -binom(n=21, p=0.7).cdf(18)"
   ]
  },
  {
   "cell_type": "markdown",
   "id": "e75f85d5",
   "metadata": {},
   "source": [
    "```{admonition} 3-2 - b\n",
    "**적어도 19명이 치과를 찾았을 확률(반올림하여 소숫점 이하 3자리)**\n",
    "```"
   ]
  },
  {
   "cell_type": "code",
   "execution_count": 92,
   "id": "fe7f08ed",
   "metadata": {
    "ExecuteTime": {
     "end_time": "2021-06-12T06:35:32.658486Z",
     "start_time": "2021-06-12T06:35:32.655863Z"
    },
    "tags": [
     "hide-input"
    ]
   },
   "outputs": [
    {
     "name": "stdout",
     "output_type": "stream",
     "text": [
      "0.0271\n"
     ]
    }
   ],
   "source": [
    "from scipy.stats import binom\n",
    "\n",
    "n = 21\n",
    "p = 0.7\n",
    "k = 19\n",
    "\n",
    "# P(X >= k) 계산\n",
    "prob = 1 - binom.cdf(k-1, n, p)\n",
    "print(round(prob, 4))"
   ]
  },
  {
   "cell_type": "code",
   "execution_count": null,
   "id": "deea6b2f-9fd3-42f0-a635-c306b3ffaf51",
   "metadata": {},
   "outputs": [],
   "source": []
  }
 ],
 "metadata": {
  "celltoolbar": "Edit Metadata",
  "kernelspec": {
   "display_name": "Python 3 (ipykernel)",
   "language": "python",
   "name": "python3"
  },
  "language_info": {
   "codemirror_mode": {
    "name": "ipython",
    "version": 3
   },
   "file_extension": ".py",
   "mimetype": "text/x-python",
   "name": "python",
   "nbconvert_exporter": "python",
   "pygments_lexer": "ipython3",
   "version": "3.8.16"
  }
 },
 "nbformat": 4,
 "nbformat_minor": 5
}
